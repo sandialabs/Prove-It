{
 "cells": [
  {
   "cell_type": "markdown",
   "metadata": {},
   "source": [
    "Demonstrations for the theory of <a class=\"ProveItLink\" href=\"theory.ipynb\">proveit.logic.booleans.implication</a>\n",
    "========"
   ]
  },
  {
   "cell_type": "code",
   "execution_count": 1,
   "metadata": {},
   "outputs": [],
   "source": [
    "from proveit.logic import in_bool, Implies, Not, Equals, NotEquals, FALSE, TRUE, NotEquals, Iff, And\n",
    "from proveit import A, B, C, D\n",
    "%begin demonstrations"
   ]
  },
  {
   "cell_type": "markdown",
   "metadata": {},
   "source": [
    "## Transitivity"
   ]
  },
  {
   "cell_type": "code",
   "execution_count": 2,
   "metadata": {},
   "outputs": [
    {
     "data": {
      "text/html": [
       "<span style=\"font-size:20px;\"><a class=\"ProveItLink\" href=\"../../../../__pv_it/common/09585084922504426caf1db2ff588a23a0932a960/expr.ipynb\"><img src=\"data:image/png;base64,iVBORw0KGgoAAAANSUhEUgAAAA8AAAAPBAMAAADJ+Ih5AAAAMFBMVEX///8AAAAAAAAAAAAAAAAA\n",
       "AAAAAAAAAAAAAAAAAAAAAAAAAAAAAAAAAAAAAAAAAAAv3aB7AAAAD3RSTlMAIs1UmauJMnZmRLsQ\n",
       "3e++988cAAAACXBIWXMAAA7EAAAOxAGVKw4bAAAAXklEQVQI12NgAAEhBijQh9LM/6EMlngBCCMx\n",
       "vwBMMzb0G0BkGOwngBmLGeoTwAwHBvkAEM2xxSV+A4hxgoGB/wJEhoH3AZDmAupg+gBkyAEx90cG\n",
       "htP/dRiY939KAABt3hLO6mcEjQAAAABJRU5ErkJggg==\n",
       "\" style=\"display:inline;vertical-align:middle;\" /></a>, <a class=\"ProveItLink\" href=\"../__pv_it/demonstrations/d78c7a0a66f0f0f40e69d505fb93268ea9af46dc0/expr.ipynb\"><img src=\"data:image/png;base64,iVBORw0KGgoAAAANSUhEUgAAAEAAAAAQBAMAAABUyWQaAAAAMFBMVEX///8AAAAAAAAAAAAAAAAA\n",
       "AAAAAAAAAAAAAAAAAAAAAAAAAAAAAAAAAAAAAAAAAAAv3aB7AAAAD3RSTlMAIs1UmauJMnZmRLsQ\n",
       "3e++988cAAAACXBIWXMAAA7EAAAOxAGVKw4bAAAA8UlEQVQoz2NgAAEhBgJAH5vg7P+hodoFYCbz\n",
       "f6zaXjMwsH4Hs1jiBbDIM/5gYOD6AmYm5hcgxPfAGJxA3Zw/wEob+g0QCqphDNYPDAxMD8E2MNhP\n",
       "QCjgTIAy+DYw8MSCjV7MUA8WZLkLBl+gCup3dARBNDowyAcgOY5ZGUL3CzAwvwQxOLa4xG9Adv6h\n",
       "V2BqHxCDXX+CgYH/ArL31CCe/grE8xvANjDwPkBywyWIPPtPIBG/ABgWQIcwfUAYwAW1juMjUNEn\n",
       "IEMOiLk/IhTAIo4JaOo6HQaG0/91GJj3f0qAK9gODab9X0ODNmOLIrRoAQDyg0EOXpubEgAAAABJ\n",
       "RU5ErkJggg==\n",
       "\" style=\"display:inline;vertical-align:middle;\" /></a>, <a class=\"ProveItLink\" href=\"../__pv_it/demonstrations/a86ca283eb9d9c83c0349442b18fd6f3c40be44b0/expr.ipynb\"><img src=\"data:image/png;base64,iVBORw0KGgoAAAANSUhEUgAAAEEAAAAPBAMAAABJi79qAAAAMFBMVEX///8AAAAAAAAAAAAAAAAA\n",
       "AAAAAAAAAAAAAAAAAAAAAAAAAAAAAAAAAAAAAAAAAAAv3aB7AAAAD3RSTlMAZrurzTLvInZEmRDd\n",
       "VIkafcLnAAAACXBIWXMAAA7EAAAOxAGVKw4bAAAA90lEQVQY02NgYBD6b2zsFMCACbibjA3ZH4BY\n",
       "SQwMzF+xqGjrZuBdIwBksP9gYOD8halg01Egsb4ASDAC9TP+gEswbYAy3ECMaSAW8wcGBpZ0uApW\n",
       "BQjN9xdERoEINgUGbhskl8pBqPoDIHIriIjX6DARAAuuOQMC5xeAOe8b4Hr6Cxh4E5GdeOUCiDxf\n",
       "ABdQA2lADg9utwlAMh/MBjv7MxDLNyCpKHkONgNE8IJ0sn4EEvYTEO444w5WBw4JPhCL4ztQ1Rck\n",
       "IyZB/QIy9jWIxZIADBdvhAJ2BwjNCzR7HsgZzPqfjU10kYxggjl6l7LVBAZsgB2NDwAzdD7rBq7S\n",
       "3AAAAABJRU5ErkJggg==\n",
       "\" style=\"display:inline;vertical-align:middle;\" /></a>, <a class=\"ProveItLink\" href=\"../__pv_it/demonstrations/9ccfddd107800eb488d1ef8efa2bfae79393454a0/expr.ipynb\"><img src=\"data:image/png;base64,iVBORw0KGgoAAAANSUhEUgAAAEAAAAAPBAMAAACmSdRUAAAAMFBMVEX///8AAAAAAAAAAAAAAAAA\n",
       "AAAAAAAAAAAAAAAAAAAAAAAAAAAAAAAAAAAAAAAAAAAv3aB7AAAAD3RSTlMAEHa7q2Yiie9Umd0y\n",
       "zUTye3nKAAAACXBIWXMAAA7EAAAOxAGVKw4bAAAA8UlEQVQY02NgYGBUdnFlK2BAB0z2n12M3UAs\n",
       "DUUGztUBGAoY+C8wMMRPYGAQ3gPkrE/AVHBegYGBq4GB4YYAkPMCLswsAGPpH2Bg4PvKwP4TxDkF\n",
       "V8BjAGPZAzHbd4b8DSCODMLkcBjjM0j5F4Z6BbjU6t0gsH8B1KhPQIL1O8N+DOfNnQDx5h8gwfKP\n",
       "oR/ME0BSwHjjAdi1H0BebWDYD+JwHkBSkFsGCQaQa+MDICHAjuSG3dcQwcDYzMCQD3JkIZIBj5GC\n",
       "gRkYmJxfGRieIzmB7QKUcR8YTLtADCkTrwdIBjBDneP838XZCksEMLCh8QFe2D0TYu/U6AAAAABJ\n",
       "RU5ErkJggg==\n",
       "\" style=\"display:inline;vertical-align:middle;\" /></a> <a class=\"ProveItLink\" href=\"../__pv_it/demonstrations/80ddf7b03ba7c8fa64d64843627aa1905b28af6d0/proof.ipynb\" style=\"text-decoration: none\">&nbsp;&#x22A2;&nbsp;&nbsp;</a><a class=\"ProveItLink\" href=\"../../../../__pv_it/common/8d36d28f3636cdaa66f8b7d56eb3bbf0b50f70200/expr.ipynb\"><img src=\"data:image/png;base64,iVBORw0KGgoAAAANSUhEUgAAABEAAAAOBAMAAAA7w+qHAAAAMFBMVEX///8AAAAAAAAAAAAAAAAA\n",
       "AAAAAAAAAAAAAAAAAAAAAAAAAAAAAAAAAAAAAAAAAAAv3aB7AAAAD3RSTlMAdrurIs1mVDKZ70SJ\n",
       "EN02Mxp8AAAACXBIWXMAAA7EAAAOxAGVKw4bAAAAZ0lEQVQI12NgYBD6r2yk7MAAAl8ZGNi+gxgc\n",
       "H4HELBCL8QeQ2J8AJJg+AAn/A0CCXwFI9BuACAEgkQ8Sk28AEvYbgIQ+SNsvEPEJiNm+wYy7pQAz\n",
       "ThUkyQo0bt8EIINZ/7Ox0hQgAwCCORgrtLsP4AAAAABJRU5ErkJggg==\n",
       "\" style=\"display:inline;vertical-align:middle;\" /></a></span>"
      ],
      "text/plain": [
       "{A, A => B, B => C, C => D} |- D"
      ]
     },
     "metadata": {},
     "output_type": "display_data"
    }
   ],
   "source": [
    "D.prove(assumptions=[A, Implies(A, B), Implies(B, C), Implies(C, D)])"
   ]
  },
  {
   "cell_type": "markdown",
   "metadata": {},
   "source": [
    "## Contraposition"
   ]
  },
  {
   "cell_type": "code",
   "execution_count": 3,
   "metadata": {},
   "outputs": [
    {
     "data": {
      "text/html": [
       "<span style=\"font-size:20px;\"><a class=\"ProveItLink\" href=\"../__pv_it/demonstrations/d78c7a0a66f0f0f40e69d505fb93268ea9af46dc0/expr.ipynb\"><img src=\"data:image/png;base64,iVBORw0KGgoAAAANSUhEUgAAAEAAAAAQBAMAAABUyWQaAAAAMFBMVEX///8AAAAAAAAAAAAAAAAA\n",
       "AAAAAAAAAAAAAAAAAAAAAAAAAAAAAAAAAAAAAAAAAAAv3aB7AAAAD3RSTlMAIs1UmauJMnZmRLsQ\n",
       "3e++988cAAAACXBIWXMAAA7EAAAOxAGVKw4bAAAA8UlEQVQoz2NgAAEhBgJAH5vg7P+hodoFYCbz\n",
       "f6zaXjMwsH4Hs1jiBbDIM/5gYOD6AmYm5hcgxPfAGJxA3Zw/wEob+g0QCqphDNYPDAxMD8E2MNhP\n",
       "QCjgTIAy+DYw8MSCjV7MUA8WZLkLBl+gCup3dARBNDowyAcgOY5ZGUL3CzAwvwQxOLa4xG9Adv6h\n",
       "V2BqHxCDXX+CgYH/ArL31CCe/grE8xvANjDwPkBywyWIPPtPIBG/ABgWQIcwfUAYwAW1juMjUNEn\n",
       "IEMOiLk/IhTAIo4JaOo6HQaG0/91GJj3f0qAK9gODab9X0ODNmOLIrRoAQDyg0EOXpubEgAAAABJ\n",
       "RU5ErkJggg==\n",
       "\" style=\"display:inline;vertical-align:middle;\" /></a>, <a class=\"ProveItLink\" href=\"../../__pv_it/theorems/a10dbfd9a4efbb6f30af430036ab01697a9460f80/expr.ipynb\"><img src=\"data:image/png;base64,iVBORw0KGgoAAAANSUhEUgAAADYAAAAQBAMAAACvnpHFAAAAMFBMVEX///8AAAAAAAAAAAAAAAAA\n",
       "AAAAAAAAAAAAAAAAAAAAAAAAAAAAAAAAAAAAAAAAAAAv3aB7AAAAD3RSTlMAIs1UmauJMnZmRLsQ\n",
       "3e++988cAAAACXBIWXMAAA7EAAAOxAGVKw4bAAAA40lEQVQY02NgAAEhBhTAcW/Tp7dRUI4+qhwD\n",
       "N1eD0NEFYCbzfwy5CWwCG8BMlngBDDlOgwAwMzG/AGrR3ruX4HIKIBZjQ78BWIpL4wBcH6tkAthI\n",
       "BvsJEOcegJvZ0xsGZi1mqAerYVBE2Hfp/RWwQgcGeYi9Ckhu4ZilA3LAFpd4sHvZ3969e/c2VI5h\n",
       "wzIg4wQDA/8FkAjPBiR9DBu4wUYy8D4AC11AkWMCOhzoRqYPYKEOFDkLBgY5EPsjWIjJAC6XwNbm\n",
       "wHD6vw4D8/5PYE/wRK+BBI/ebkQ8wABXNiTMIAAAYXA8zHUEOxUAAAAASUVORK5CYII=\n",
       "\" style=\"display:inline;vertical-align:middle;\" /></a> <a class=\"ProveItLink\" href=\"../__pv_it/demonstrations/3d9d1cd3767342b3b350d41d5e22d23a8987c1410/proof.ipynb\" style=\"text-decoration: none\">&nbsp;&#x22A2;&nbsp;&nbsp;</a><a class=\"ProveItLink\" href=\"../__pv_it/theorems/dfe81bd9757474c600fb2f3ddb851650b8dc89e20/expr.ipynb\"><img src=\"data:image/png;base64,iVBORw0KGgoAAAANSUhEUgAAAHkAAAAVBAMAAACQ4lxbAAAAMFBMVEX///8AAAAAAAAAAAAAAAAA\n",
       "AAAAAAAAAAAAAAAAAAAAAAAAAAAAAAAAAAAAAAAAAAAv3aB7AAAAD3RSTlMAInZUiRDNmWbv3US7\n",
       "qzJazP2FAAAACXBIWXMAAA7EAAAOxAGVKw4bAAAB0klEQVQ4y42Uv0vDQBTHXxJr018hFFEQhKqr\n",
       "YAfpJKh/gNjJyaGCBQXBDIIiFByELoK6CToUOogdtDgpOMQ6OdWpg1DM7GL9QRWx1neXpHdJD/Qg\n",
       "XO7x+b5f9xIA0MG3ugx0SUJMTvrNF0L1qMdVxsEmmG23Xa+vWiBvC8TKNH/qbQDFAhnOeAwQ+wHI\n",
       "CtTzntMUqgkW5AJJrwCRD4C8QL3pOeVegGIhzqZiXBU9hNIdU9R93efFPX1IEizFGWOYT+8BPiwf\n",
       "zXTK5guEuPwGFFvnjCETAg8Wur5nth17C3qaZiifQLFlzvhcGamRsCoNtFUi69ywm8zfQySpvdtY\n",
       "Ef1SDKlxHZRDkiZfZIrOQzjpuDshiYDUsrEjt9+Y7R3uc5i51uDUgZUyKarsHIfwGdvIfQPFeDVx\n",
       "uJfAzPjY/TPgUwcQ+QKKFZlaI614REwpsLpLi+Bm7qqDuJ0CxSqu2gAZR0BrknaYLPS1c+8J5zwA\n",
       "cInbmo3NcsOLCV9lvdcjOffMXaJE6qrqFHtis1Jt1Wu3NM0ymzXLmZpCp4vVZhom20sUC1vdMz0o\n",
       "+KrPhJhq/PVF2Csvxm66/yKmQB3VhdjCP0BSrinEpITfPCz8M8UF2C/ClHXbAuImNwAAAABJRU5E\n",
       "rkJggg==\n",
       "\" style=\"display:inline;vertical-align:middle;\" /></a></span>"
      ],
      "text/plain": [
       "{A => B, A in BOOLEAN} |- [not](B) => [not](A)"
      ]
     },
     "metadata": {},
     "output_type": "display_data"
    }
   ],
   "source": [
    "Implies(A, B).contrapose(assumptions=[Implies(A, B), in_bool(A)])"
   ]
  },
  {
   "cell_type": "code",
   "execution_count": 4,
   "metadata": {},
   "outputs": [
    {
     "data": {
      "text/html": [
       "<span style=\"font-size:20px;\"><a class=\"ProveItLink\" href=\"../__pv_it/theorems/40204e1874e2c682f1ab2a7bb3f735c754d3250e0/expr.ipynb\"><img src=\"data:image/png;base64,iVBORw0KGgoAAAANSUhEUgAAAFwAAAAVBAMAAAA5lpTPAAAAMFBMVEX///8AAAAAAAAAAAAAAAAA\n",
       "AAAAAAAAAAAAAAAAAAAAAAAAAAAAAAAAAAAAAAAAAAAv3aB7AAAAD3RSTlMAInZUiRDNmWbv3US7\n",
       "qzJazP2FAAAACXBIWXMAAA7EAAAOxAGVKw4bAAABbklEQVQoz2NgYBBgQAWMDPgAkwEyT4yBgVsB\n",
       "n3ITFF4+EGtgU9bz/+7dnAcMrAnIgsz/gQRbADb1cxgYeP8xsDcgi7HfB/qEowCLasZPQGd+Z+BE\n",
       "EXT0fwAkpyIEjsIYHP+A+BODGYoRCvogj2cgRN7AGLwfgK6cyFCC4hYGe5DbfBEiHA5QBucBBtZb\n",
       "D5BNYmDYzPAeJN0G1roKDL5Dpd4fUroGNGoxTALkvwIG+QtAyhI5rJIhtL4AA/MMBobZMGcD1TEd\n",
       "L79/AGQSso1hEBUngRgYDsjKgxgY+BcA2TuRfZ8CSSR/gbhfAeQYuHKge7gmANlWSG5fBlHN9wNI\n",
       "3N/AcAimvICBG+gVtg+gCEcYzn0AmrI+ArV8Qwk0SSDmAQojB64YlGYD2rozlYHhFVwm5n8qA/P5\n",
       "b8CQXI1Qfg4aSef/3r12GMjgeoCZPBYg2OiZAUt6Qk11aOAghogMvuwRQ4QBKKkQPTcK4FYMAMva\n",
       "XILEnyWGAAAAAElFTkSuQmCC\n",
       "\" style=\"display:inline;vertical-align:middle;\" /></a>, <a class=\"ProveItLink\" href=\"../../__pv_it/theorems/a10dbfd9a4efbb6f30af430036ab01697a9460f80/expr.ipynb\"><img src=\"data:image/png;base64,iVBORw0KGgoAAAANSUhEUgAAADYAAAAQBAMAAACvnpHFAAAAMFBMVEX///8AAAAAAAAAAAAAAAAA\n",
       "AAAAAAAAAAAAAAAAAAAAAAAAAAAAAAAAAAAAAAAAAAAv3aB7AAAAD3RSTlMAIs1UmauJMnZmRLsQ\n",
       "3e++988cAAAACXBIWXMAAA7EAAAOxAGVKw4bAAAA40lEQVQY02NgAAEhBhTAcW/Tp7dRUI4+qhwD\n",
       "N1eD0NEFYCbzfwy5CWwCG8BMlngBDDlOgwAwMzG/AGrR3ruX4HIKIBZjQ78BWIpL4wBcH6tkAthI\n",
       "BvsJEOcegJvZ0xsGZi1mqAerYVBE2Hfp/RWwQgcGeYi9Ckhu4ZilA3LAFpd4sHvZ3969e/c2VI5h\n",
       "wzIg4wQDA/8FkAjPBiR9DBu4wUYy8D4AC11AkWMCOhzoRqYPYKEOFDkLBgY5EPsjWIjJAC6XwNbm\n",
       "wHD6vw4D8/5PYE/wRK+BBI/ebkQ8wABXNiTMIAAAYXA8zHUEOxUAAAAASUVORK5CYII=\n",
       "\" style=\"display:inline;vertical-align:middle;\" /></a> <a class=\"ProveItLink\" href=\"../__pv_it/demonstrations/be38fe3ab247ea4138ffe4d1874c5058d37060ff0/proof.ipynb\" style=\"text-decoration: none\">&nbsp;&#x22A2;&nbsp;&nbsp;</a><a class=\"ProveItLink\" href=\"../__pv_it/theorems/10c6e6e0a59dd780def080bc1e7f25c00c4bc56a0/expr.ipynb\"><img src=\"data:image/png;base64,iVBORw0KGgoAAAANSUhEUgAAAFwAAAAVBAMAAAA5lpTPAAAAMFBMVEX///8AAAAAAAAAAAAAAAAA\n",
       "AAAAAAAAAAAAAAAAAAAAAAAAAAAAAAAAAAAAAAAAAAAv3aB7AAAAD3RSTlMAInZUiRDNmWbv3US7\n",
       "qzJazP2FAAAACXBIWXMAAA7EAAAOxAGVKw4bAAABf0lEQVQoz2NgYBBgQAMYAsiAyQBdZBMOlYwJ\n",
       "QMIEwe/5f/duzgMGpgbsytk+MDCwJiAJzGFg4P3HwJCKXbk9UDk7klGMnxgYuL8zMLRjV177kYGB\n",
       "E4nPATSZA6iFMwAuxINgsogApc2QlPMCbWObCMQIG/kOwJlCTJ8ZGEqQlHMeYGC99QBozgWEWAuc\n",
       "VcD8g4EhA0n5+0NK10AGc4C9X7UKBNYXQCW5Dfi+MDAsBvoWLA4U1hdgYJ4BlGGegGSGGTRe2BkY\n",
       "/zIwzIaFCtABJ4G0P9AxfB+QlLNmbgDTOuW1f1CVA3Uz9CsA7UU2XcwRogso/gvsGJhyPqBXGO4D\n",
       "zWJegHD7qkSYWxgYVjIwHIIpL2BgAkYD3zeQVxGhx7AHSu8A4nwGBl+kNAF0w05QAmB3QE1WIBrk\n",
       "vvMCDK8QkXT+791rh0Esrg2IWH0Acfn5bwEMNv9TGLgeYCYOKaRkhCbFUYCpvAJP9jiImQ0O4FEe\n",
       "gyHCgy/3MSqgiyjiVgwA2btegJgwxN4AAAAASUVORK5CYII=\n",
       "\" style=\"display:inline;vertical-align:middle;\" /></a></span>"
      ],
      "text/plain": [
       "{[not](A) => B, A in BOOLEAN} |- [not](B) => A"
      ]
     },
     "metadata": {},
     "output_type": "display_data"
    }
   ],
   "source": [
    "Implies(Not(A), B).contrapose(assumptions=[Implies(Not(A), B), in_bool(A)])"
   ]
  },
  {
   "cell_type": "code",
   "execution_count": 5,
   "metadata": {},
   "outputs": [
    {
     "data": {
      "text/html": [
       "<span style=\"font-size:20px;\"><a class=\"ProveItLink\" href=\"../__pv_it/theorems/01eb059828094c1f42d246d650e4be0cdc97bc320/expr.ipynb\"><img src=\"data:image/png;base64,iVBORw0KGgoAAAANSUhEUgAAAF0AAAAVBAMAAADWVP/xAAAAMFBMVEX///8AAAAAAAAAAAAAAAAA\n",
       "AAAAAAAAAAAAAAAAAAAAAAAAAAAAAAAAAAAAAAAAAAAv3aB7AAAAD3RSTlMAIs1UmauJMnZmRLsQ\n",
       "3e++988cAAAACXBIWXMAAA7EAAAOxAGVKw4bAAABfElEQVQoz2NgwA0EcAoIYVPOYYAusgLG0Mem\n",
       "3gzBnP0/NFS7gIFjAoTL/B+Lch4FJM5rBgbW7wwMOhAeS7wApnqWCQg24w8GBq4vDAxTINzE/AKE\n",
       "3B4ozYeklxNoNidQD98BsO6GfiSvVUNpIyT1rB8YGJgeAjHYThYGeyS7ORMgtBuSer4NDDyxQDew\n",
       "BYB4ixnqwWpY7oLBF4gaTST19Ts6gkBGcoLDwIFBPgBJklkZTF2GGeDAwNAvwMD8EiT1ABQvW1zi\n",
       "NyCHzKFXIPIVLGyAZu0D0qAwYQf6g+EEAwP/BSTljGoC6Oq/Aun5DcAwfQB2DgPvAyT3XxKAuQem\n",
       "nv0nkI5fAHQP0FwuoEeYPiCM54K6bQdMvQMDx0egUz6B/AuUkwPS3B8R6mFpLxUhxAS0fh0oLbAk\n",
       "MJz+r8PAvP9TAlxyO5SuRcTW/q+hQZtBLN4FuFM9bwGmnCye3MLpgCnmiUc9w0YMEcYN+NSfxhDh\n",
       "FsCnnrEBXaSRgQEAkdpbniUMntMAAAAASUVORK5CYII=\n",
       "\" style=\"display:inline;vertical-align:middle;\" /></a>, <a class=\"ProveItLink\" href=\"../../__pv_it/theorems/a10dbfd9a4efbb6f30af430036ab01697a9460f80/expr.ipynb\"><img src=\"data:image/png;base64,iVBORw0KGgoAAAANSUhEUgAAADYAAAAQBAMAAACvnpHFAAAAMFBMVEX///8AAAAAAAAAAAAAAAAA\n",
       "AAAAAAAAAAAAAAAAAAAAAAAAAAAAAAAAAAAAAAAAAAAv3aB7AAAAD3RSTlMAIs1UmauJMnZmRLsQ\n",
       "3e++988cAAAACXBIWXMAAA7EAAAOxAGVKw4bAAAA40lEQVQY02NgAAEhBhTAcW/Tp7dRUI4+qhwD\n",
       "N1eD0NEFYCbzfwy5CWwCG8BMlngBDDlOgwAwMzG/AGrR3ruX4HIKIBZjQ78BWIpL4wBcH6tkAthI\n",
       "BvsJEOcegJvZ0xsGZi1mqAerYVBE2Hfp/RWwQgcGeYi9Ckhu4ZilA3LAFpd4sHvZ3969e/c2VI5h\n",
       "wzIg4wQDA/8FkAjPBiR9DBu4wUYy8D4AC11AkWMCOhzoRqYPYKEOFDkLBgY5EPsjWIjJAC6XwNbm\n",
       "wHD6vw4D8/5PYE/wRK+BBI/ebkQ8wABXNiTMIAAAYXA8zHUEOxUAAAAASUVORK5CYII=\n",
       "\" style=\"display:inline;vertical-align:middle;\" /></a> <a class=\"ProveItLink\" href=\"../__pv_it/demonstrations/a235e8cb81bde6fecf4c2c79407995d2d7e5faf90/proof.ipynb\" style=\"text-decoration: none\">&nbsp;&#x22A2;&nbsp;&nbsp;</a><a class=\"ProveItLink\" href=\"../__pv_it/theorems/35edda227e3fa6c42f3673fe4cedcc2f5b46a83b0/expr.ipynb\"><img src=\"data:image/png;base64,iVBORw0KGgoAAAANSUhEUgAAAF0AAAAVBAMAAADWVP/xAAAAMFBMVEX///8AAAAAAAAAAAAAAAAA\n",
       "AAAAAAAAAAAAAAAAAAAAAAAAAAAAAAAAAAAAAAAAAAAv3aB7AAAAD3RSTlMAZrurzTLvInZEmRDd\n",
       "VIkafcLnAAAACXBIWXMAAA7EAAAOxAGVKw4bAAABdklEQVQoz2NgwA3Y0QUKGPCCXhTNDgwMM8As\n",
       "of/Gxk4BmMp5HyDzWD4wMHAIgJlJDAzMXzHVb0Hh3QeqZ/AG2/SDgYHzF6b6hSi8xd+BhBSIxQg0\n",
       "m/EHXIJpA5SRgKycrw7kAjaQHDPQJpZ0uAyrAtT5DsjqKzj+gjwB8gCbAgO3DZJ/5SAUF4p3F/B+\n",
       "BNliACTiNTpMIB5fcwYEzi+ABIgAknLOC6z/QE4H2dlfwMCbiGzWlQsgkucC1IBTIMsY2D+D3Ajy\n",
       "kxoQv0cOf263CSBnToByi4G4adXiTyC/gQIVpFG+AUl9yXMGNPXcQOk/IGcBzWcFecR+AsL9Z9wZ\n",
       "YO6BqecCUsdA7jkAjGRgRLB+QTJ+EjQeYFZWMTBMBFL+IP8Cw5oFaMc0b9SExQALO6gQyJv6BeAw\n",
       "Ztb/bGyii2Q8E9TrrAfg/tf/soHh0n8/oBsn4En1RzHlavAlfylCSRANMGFkJ3YFfOq5FQibgAIq\n",
       "0AXaGRgAkd5Zd9xZ2U8AAAAASUVORK5CYII=\n",
       "\" style=\"display:inline;vertical-align:middle;\" /></a></span>"
      ],
      "text/plain": [
       "{A => [not](B), A in BOOLEAN} |- B => [not](A)"
      ]
     },
     "metadata": {},
     "output_type": "display_data"
    }
   ],
   "source": [
    "Implies(A, Not(B)).contrapose(assumptions=[Implies(A, Not(B)), in_bool(A)])"
   ]
  },
  {
   "cell_type": "code",
   "execution_count": 6,
   "metadata": {},
   "outputs": [
    {
     "data": {
      "text/html": [
       "<span style=\"font-size:20px;\"><a class=\"ProveItLink\" href=\"../__pv_it/demonstrations/cf77daee24ef1f5a20c49d5fd8e7f78bb7bd63840/expr.ipynb\"><img src=\"data:image/png;base64,iVBORw0KGgoAAAANSUhEUgAAAHkAAAAVBAMAAACQ4lxbAAAAMFBMVEX///8AAAAAAAAAAAAAAAAA\n",
       "AAAAAAAAAAAAAAAAAAAAAAAAAAAAAAAAAAAAAAAAAAAv3aB7AAAAD3RSTlMAInZUiRDNmWbv3US7\n",
       "qzJazP2FAAAACXBIWXMAAA7EAAAOxAGVKw4bAAABzklEQVQ4y42UPUsDQRCG3yQa86lXBRTBj8ou\n",
       "FiJoY/wBolhYpQhowEIwhaBlKm0EYyEIWgQEC21Eq3RREbFRKwshJLUISSwSmxhnLne5WW8LF3bf\n",
       "Ze6Z3dnZnQNgQG0eaJuhNXgnpSkGhEd1zirG7ZqHKcW0SX1C5y2w/XaptFGBNwv0piTja9PgX3I7\n",
       "K9gpEP0B0kBfVkJ9ZTpNIOP2lpjni47XBPaAoALNL1ZoPHIMD5ZKLED7BmiF4BKmlXSPxjk5647l\n",
       "01KJRWt0ukPqWWwp8WGOI1wQ+yQ6KrFgEb3vFGPPq9wHuEGV6V1zpQuzNTtfJFa9G3/jTQIpnNkc\n",
       "pyqDkVeSGXkLq6ZILG7Ad8yfcjixj0xu3sftcpEXl/GsmITEnkg5u/01xbwMDORpXpCJXDP+erdI\n",
       "D+hBhnMcUtdMUYVyNJ8V5z437MhtrP+btHxFkedxZ5szCFMq/DV+is7W4WJHBeatU9ANzlpR3s4g\n",
       "9UhdvZ6YpQLzU3iFNEeXwEfXmmyn4Xtp0JVdOuizpQ4WfWmV3u55FrpCqOJ60568u6o1GIa0JaEW\n",
       "jvXmNJWzQ/3WZR3W1bcb83BCk/8AtVjEMOvq7z/I0Hm7MIwBv8cvdzTqzA2DAAAAAElFTkSuQmCC\n",
       "\" style=\"display:inline;vertical-align:middle;\" /></a>, <a class=\"ProveItLink\" href=\"../../__pv_it/theorems/a10dbfd9a4efbb6f30af430036ab01697a9460f80/expr.ipynb\"><img src=\"data:image/png;base64,iVBORw0KGgoAAAANSUhEUgAAADYAAAAQBAMAAACvnpHFAAAAMFBMVEX///8AAAAAAAAAAAAAAAAA\n",
       "AAAAAAAAAAAAAAAAAAAAAAAAAAAAAAAAAAAAAAAAAAAv3aB7AAAAD3RSTlMAIs1UmauJMnZmRLsQ\n",
       "3e++988cAAAACXBIWXMAAA7EAAAOxAGVKw4bAAAA40lEQVQY02NgAAEhBhTAcW/Tp7dRUI4+qhwD\n",
       "N1eD0NEFYCbzfwy5CWwCG8BMlngBDDlOgwAwMzG/AGrR3ruX4HIKIBZjQ78BWIpL4wBcH6tkAthI\n",
       "BvsJEOcegJvZ0xsGZi1mqAerYVBE2Hfp/RWwQgcGeYi9Ckhu4ZilA3LAFpd4sHvZ3969e/c2VI5h\n",
       "wzIg4wQDA/8FkAjPBiR9DBu4wUYy8D4AC11AkWMCOhzoRqYPYKEOFDkLBgY5EPsjWIjJAC6XwNbm\n",
       "wHD6vw4D8/5PYE/wRK+BBI/ebkQ8wABXNiTMIAAAYXA8zHUEOxUAAAAASUVORK5CYII=\n",
       "\" style=\"display:inline;vertical-align:middle;\" /></a> <a class=\"ProveItLink\" href=\"../__pv_it/demonstrations/2da65fd294c30829679fa60aa30ed70d604474270/proof.ipynb\" style=\"text-decoration: none\">&nbsp;&#x22A2;&nbsp;&nbsp;</a><a class=\"ProveItLink\" href=\"../__pv_it/demonstrations/dd5a6fa797dcaf2dec856fef9be29bef6326bd0c0/expr.ipynb\"><img src=\"data:image/png;base64,iVBORw0KGgoAAAANSUhEUgAAAEAAAAAQBAMAAABUyWQaAAAAMFBMVEX///8AAAAAAAAAAAAAAAAA\n",
       "AAAAAAAAAAAAAAAAAAAAAAAAAAAAAAAAAAAAAAAAAAAv3aB7AAAAD3RSTlMAZrurzTLvInZEmRDd\n",
       "VIkafcLnAAAACXBIWXMAAA7EAAAOxAGVKw4bAAAA7UlEQVQoz2NgwAfYHUCk0H9jY6cArApYPoCp\n",
       "JAYG5q9YFdwHK2D/wcDA+QurgsXfQSQjUDfjD7gg0wY4k68ObDAz0ByWdLgoqwKcWcHxF0SxKTBw\n",
       "2yA5Ug7OWsD7EUTFa3SYCIAF1pwBgfMLoPKcF1j/gej+AgbeRGSnXbkAobkY2D+DaDUgfo8cDtxu\n",
       "E8B006rFn0A0SJV8A5KCkucQdUCxPyBXgxxiPwHhhjPuMBsYGI4BMQcwMFi/IBkwCUpPBGJ/UHgn\n",
       "MDBM80aPICANFGfQL2Bg1v9sbKKLZAATxL3c+l82MFz674clilG5AC5FPtYuFkkyAAAAAElFTkSu\n",
       "QmCC\n",
       "\" style=\"display:inline;vertical-align:middle;\" /></a></span>"
      ],
      "text/plain": [
       "{[not](A) => [not](B), A in BOOLEAN} |- B => A"
      ]
     },
     "metadata": {},
     "output_type": "display_data"
    }
   ],
   "source": [
    "Implies(Not(A), Not(B)).contrapose(assumptions=[Implies(Not(A), Not(B)), in_bool(A)])"
   ]
  },
  {
   "cell_type": "code",
   "execution_count": null,
   "metadata": {},
   "outputs": [],
   "source": []
  },
  {
   "cell_type": "code",
   "execution_count": null,
   "metadata": {},
   "outputs": [],
   "source": []
  },
  {
   "cell_type": "markdown",
   "metadata": {},
   "source": [
    "**From tutorial number 3 (implication):**\n",
    "An implication has an antecedent and a consequent.  If the antecedent is true, the consequent must also be true.  **Prove-It** has an `Implies` **operation** that may be used to represent an implication, formatted with the $\\Rightarrow$ symbol.    "
   ]
  },
  {
   "cell_type": "markdown",
   "metadata": {},
   "source": [
    "Below, it makes sense that `True` would imply itself, similar to the fact that $x$ is equal to itself. If we can prove that the `Left Hand Side` of the `implication` is `True` then we can automatically prove that the `Right Hand Side` is `True` as well.  "
   ]
  },
  {
   "cell_type": "code",
   "execution_count": 7,
   "metadata": {},
   "outputs": [
    {
     "data": {
      "text/html": [
       "<span style=\"font-size:20px;\"> <a class=\"ProveItLink\" href=\"proofs/true_implies_true/thm_proof.ipynb\" style=\"text-decoration: none\">&nbsp;&#x22A2;&nbsp;&nbsp;</a><a class=\"ProveItLink\" href=\"../__pv_it/theorems/a9d4631afd4af5b5aec14e7434a1aa8f53f6adf10/expr.ipynb\"><img src=\"data:image/png;base64,iVBORw0KGgoAAAANSUhEUgAAAD8AAAAPBAMAAAChCwpBAAAAMFBMVEX///8AAAAAAAAAAAAAAAAA\n",
       "AAAAAAAAAAAAAAAAAAAAAAAAAAAAAAAAAAAAAAAAAAAv3aB7AAAAD3RSTlMAmd2rVHZEZrsQMonN\n",
       "7yLSt414AAAACXBIWXMAAA7EAAAOxAGVKw4bAAAAXElEQVQY02MQUgIBZQZ0wAgWVzIAsV0ZsAOW\n",
       "ACiDNAUcEwgo4GogZEU1bgUQD+kLEHKkjwMBBZxnE/AreLMPvxuUzhFwQwYBb/IdwFSQjhKSC+BM\n",
       "tgJsEcCHxgcAe1UTgkBuaEMAAAAASUVORK5CYII=\n",
       "\" style=\"display:inline;vertical-align:middle;\" /></a></span>"
      ],
      "text/plain": [
       "|- TRUE => TRUE"
      ]
     },
     "metadata": {},
     "output_type": "display_data"
    }
   ],
   "source": [
    "Implies(TRUE, TRUE).prove()"
   ]
  },
  {
   "cell_type": "markdown",
   "metadata": {},
   "source": [
    "Based upon the above explanation, we can also prove that this expression is `True`. "
   ]
  },
  {
   "cell_type": "code",
   "execution_count": 8,
   "metadata": {},
   "outputs": [
    {
     "data": {
      "text/html": [
       "<span style=\"font-size:20px;\"> <a class=\"ProveItLink\" href=\"../__pv_it/demonstrations/d08c1d328819c5806ae9ecc966be35ca423e3fcb0/proof.ipynb\" style=\"text-decoration: none\">&nbsp;&#x22A2;&nbsp;&nbsp;</a><a class=\"ProveItLink\" href=\"../__pv_it/demonstrations/4b3c23bc69349a7172a564ce8a561d21f638e2ce0/expr.ipynb\"><img src=\"data:image/png;base64,iVBORw0KGgoAAAANSUhEUgAAAHoAAAAVBAMAAAB71edYAAAAMFBMVEX///8AAAAAAAAAAAAAAAAA\n",
       "AAAAAAAAAAAAAAAAAAAAAAAAAAAAAAAAAAAAAAAAAAAv3aB7AAAAD3RSTlMAInZUiRDNmWbv3US7\n",
       "qzJazP2FAAAACXBIWXMAAA7EAAAOxAGVKw4bAAAA7ElEQVQ4y2NgYBBgIATwqGAyIKh7E24pEwaG\n",
       "qlUgsBZDCibO1IBLhjUBzDXCYTZEPBWXDHsDEbrbcclwMmDqPoqumzMAh24zLLrfoOtma8ChuwSL\n",
       "bg4HNN0sF3DozkDRzQ4Oy1Xf0XRzJCAHNJLMYix2MzAno+pmnoDD7tnYdDOEzUbRzfeBFN2MKQIo\n",
       "urlx2b0Ym7+XCaC5fAEOfx/CYjf3AfRQO4DDbl8susXQ45vdAYfuVxD2DmSJcwgmRJxrA6ZusAzX\n",
       "AyLysxSuDMpRwEAYVOCUOUhYM+MBnFIxhHXz4C6aGBUI6lbEJQEADb5CylyFAg0AAAAASUVORK5C\n",
       "YII=\n",
       "\" style=\"display:inline;vertical-align:middle;\" /></a></span>"
      ],
      "text/plain": [
       "|- (TRUE => TRUE) = TRUE"
      ]
     },
     "metadata": {},
     "output_type": "display_data"
    }
   ],
   "source": [
    "Equals(Implies(TRUE, TRUE), TRUE).prove()"
   ]
  },
  {
   "cell_type": "markdown",
   "metadata": {},
   "source": [
    "On the other hand. If we can prove that the `Left Hand Side` is `False` it doesn't matter what the `Right Hand Side` is because the entire expression is false.  This is taken to the extreme in the `Boolean` case where `False` implies both `False` (which makes sense) and `True`. "
   ]
  },
  {
   "cell_type": "code",
   "execution_count": 9,
   "metadata": {},
   "outputs": [
    {
     "data": {
      "text/html": [
       "<span style=\"font-size:20px;\"> <a class=\"ProveItLink\" href=\"proofs/false_implies_false/thm_proof.ipynb\" style=\"text-decoration: none\">&nbsp;&#x22A2;&nbsp;&nbsp;</a><a class=\"ProveItLink\" href=\"../__pv_it/theorems/cfa5600f601c2810e3b5108de4803cae722878400/expr.ipynb\"><img src=\"data:image/png;base64,iVBORw0KGgoAAAANSUhEUgAAAD8AAAAQBAMAAABTi7oPAAAAMFBMVEX///8AAAAAAAAAAAAAAAAA\n",
       "AAAAAAAAAAAAAAAAAAAAAAAAAAAAAAAAAAAAAAAAAAAv3aB7AAAAD3RSTlMARGZUdpnd76u7EDKJ\n",
       "zSIw+378AAAACXBIWXMAAA7EAAAOxAGVKw4bAAAAYklEQVQoz2NgIAII4RBnVIAyTHAoYHYgSwHn\n",
       "AgIKuCcQskIHt4KwNBDIDyDkSFsDAgq4rgvgV/D2HH43pN0j4AZJAt7ku4CmAGhueVpaBiIkN0Bo\n",
       "1rS09LK0tAaMCOBD4wMAhp8YgazvQWEAAAAASUVORK5CYII=\n",
       "\" style=\"display:inline;vertical-align:middle;\" /></a></span>"
      ],
      "text/plain": [
       "|- FALSE => FALSE"
      ]
     },
     "metadata": {},
     "output_type": "display_data"
    }
   ],
   "source": [
    "Implies(FALSE, FALSE).prove()"
   ]
  },
  {
   "cell_type": "markdown",
   "metadata": {},
   "source": [
    "Therefore, the expression is `True`. "
   ]
  },
  {
   "cell_type": "code",
   "execution_count": 10,
   "metadata": {},
   "outputs": [
    {
     "data": {
      "text/html": [
       "<span style=\"font-size:20px;\"> <a class=\"ProveItLink\" href=\"../__pv_it/demonstrations/cc0e4d3b753dc40c6a1520f3be9624a76a463ff70/proof.ipynb\" style=\"text-decoration: none\">&nbsp;&#x22A2;&nbsp;&nbsp;</a><a class=\"ProveItLink\" href=\"../__pv_it/demonstrations/d3a2add1640645dfd29c5780effb488718baae880/expr.ipynb\"><img src=\"data:image/png;base64,iVBORw0KGgoAAAANSUhEUgAAAHoAAAAVBAMAAAB71edYAAAAMFBMVEX///8AAAAAAAAAAAAAAAAA\n",
       "AAAAAAAAAAAAAAAAAAAAAAAAAAAAAAAAAAAAAAAAAAAv3aB7AAAAD3RSTlMAInZUiRDNmWbv3US7\n",
       "qzJazP2FAAAACXBIWXMAAA7EAAAOxAGVKw4bAAAA8ElEQVQ4y2NgYBBgIATwqGAyIKh7E24pEzC5\n",
       "A4csWJypAV24ahUIrGVgTQBzjXDohoin4pJhbyBCdzsuGU4GTN1H0XVzBuDQbYZF9xt03WwNOHSX\n",
       "YNHN4YCmm+UCDt0ZKLrZwWG56juabo4E5IBGklmMxW4G5mRU3cwTcNg9G5tuhrDZKLr5PpCimzFF\n",
       "AEU3Ny67F2Pz9zIBNJcvwOHvQ1js5j6AHmoHcNjti0W3GHp8szvg0P0K4qSZCCcxMJxD5AWIONcG\n",
       "HPmH6wER+VkKVwblKGAgDCpwyhwkrJnxAE6pGMK6eXAXTYwKBHUr4pIAADpKQqgwzuoiAAAAAElF\n",
       "TkSuQmCC\n",
       "\" style=\"display:inline;vertical-align:middle;\" /></a></span>"
      ],
      "text/plain": [
       "|- (FALSE => FALSE) = TRUE"
      ]
     },
     "metadata": {},
     "output_type": "display_data"
    }
   ],
   "source": [
    "Implies(FALSE, FALSE).evaluation()"
   ]
  },
  {
   "cell_type": "markdown",
   "metadata": {},
   "source": [
    "While `False` $\\Rightarrow$ `True` may seem contradictory, the `Right Hand Side` of the expression doesn't matter because the `Left Hand Side` is `False`.  Therefore, we can automatically conclude that the expression is `False`. "
   ]
  },
  {
   "cell_type": "code",
   "execution_count": 11,
   "metadata": {},
   "outputs": [
    {
     "data": {
      "text/html": [
       "<span style=\"font-size:20px;\"> <a class=\"ProveItLink\" href=\"proofs/false_implies_true/thm_proof.ipynb\" style=\"text-decoration: none\">&nbsp;&#x22A2;&nbsp;&nbsp;</a><a class=\"ProveItLink\" href=\"../__pv_it/theorems/923ba1b1b9d396272dde32199677ca70ef2f16df0/expr.ipynb\"><img src=\"data:image/png;base64,iVBORw0KGgoAAAANSUhEUgAAAD8AAAAQBAMAAABTi7oPAAAAMFBMVEX///8AAAAAAAAAAAAAAAAA\n",
       "AAAAAAAAAAAAAAAAAAAAAAAAAAAAAAAAAAAAAAAAAAAv3aB7AAAAD3RSTlMARGZUdpnd76u7EDKJ\n",
       "zSIw+378AAAACXBIWXMAAA7EAAAOxAGVKw4bAAAAYElEQVQoz2NgIAIIYRNkTQODBhDbBIdGZgco\n",
       "gzQFnAsIKOCeQMgKHdwKwsDuzg8g5EhbAwIKuK4L4Ffw9hx+N6TdI+AGSQLe5LuApgBobnlaWgYi\n",
       "JDfAmYwK2CKAD40PAC2cGHCwJHGkAAAAAElFTkSuQmCC\n",
       "\" style=\"display:inline;vertical-align:middle;\" /></a></span>"
      ],
      "text/plain": [
       "|- FALSE => TRUE"
      ]
     },
     "metadata": {},
     "output_type": "display_data"
    }
   ],
   "source": [
    "Implies(FALSE, TRUE).prove()"
   ]
  },
  {
   "cell_type": "markdown",
   "metadata": {},
   "source": [
    "Similarly, this expression is `True`. "
   ]
  },
  {
   "cell_type": "code",
   "execution_count": 12,
   "metadata": {},
   "outputs": [
    {
     "data": {
      "text/html": [
       "<span style=\"font-size:20px;\"> <a class=\"ProveItLink\" href=\"../__pv_it/demonstrations/b34464bd1fcdb5d38822e8cf2a5f784faabfee3a0/proof.ipynb\" style=\"text-decoration: none\">&nbsp;&#x22A2;&nbsp;&nbsp;</a><a class=\"ProveItLink\" href=\"../__pv_it/demonstrations/758234b95858f52f3c95fe78bb0d3a2c558ae7110/expr.ipynb\"><img src=\"data:image/png;base64,iVBORw0KGgoAAAANSUhEUgAAAHoAAAAVBAMAAAB71edYAAAAMFBMVEX///8AAAAAAAAAAAAAAAAA\n",
       "AAAAAAAAAAAAAAAAAAAAAAAAAAAAAAAAAAAAAAAAAAAv3aB7AAAAD3RSTlMAInZUiRDNmWbv3US7\n",
       "qzJazP2FAAAACXBIWXMAAA7EAAAOxAGVKw4bAAAA70lEQVQ4y2NgYBBgIATwqGAyIKh7E24pEzC5\n",
       "A5tU1SoQWMvA1IBLhjUBzDXCYTZEPBWXDHsDEbrbcclwMmDqPoqumzMAh24zLLrfoOtma8ChuwSL\n",
       "bg4HNN0sF3DozkDRzQ4Oy1Xf0XRzJCAHNJLMYix2MzAno+pmnoDD7tnYdDOEzUbRzfeBFN2MKQIo\n",
       "urlx2b0Ym7+XCaC5fAEOfx/CYjf3AfRQO4DDbl8susXQ45vdAYfuVxAnzUQ4iYHhHEINJPdwbcDU\n",
       "DZbhekBEfpbClUE5ChgIgwqcMgcJa2Y8gFMqhrBuHtxFE6MCQd2KuCQAIzhCuRhxjHcAAAAASUVO\n",
       "RK5CYII=\n",
       "\" style=\"display:inline;vertical-align:middle;\" /></a></span>"
      ],
      "text/plain": [
       "|- (FALSE => TRUE) = TRUE"
      ]
     },
     "metadata": {},
     "output_type": "display_data"
    }
   ],
   "source": [
    "Equals(Implies(FALSE, TRUE), TRUE).prove()"
   ]
  },
  {
   "cell_type": "markdown",
   "metadata": {},
   "source": [
    "However, the only expression of this type that does not evaluate to `True`, is the case where `True` implies `False`.  This case cannot be `True` because we automatically conclude the `Right Hand Side` to be `True` if the `Left Hand Side` is `True`.  In this case, the `Right Hand Side` is `False`, therefore the expresssion cannot be `True`. "
   ]
  },
  {
   "cell_type": "code",
   "execution_count": 13,
   "metadata": {},
   "outputs": [
    {
     "data": {
      "text/html": [
       "<span style=\"font-size:20px;\"> <a class=\"ProveItLink\" href=\"../__pv_it/demonstrations/0f2d4c770f124c739425dd525fc6b674cb7d33050/proof.ipynb\" style=\"text-decoration: none\">&nbsp;&#x22A2;&nbsp;&nbsp;</a><a class=\"ProveItLink\" href=\"../__pv_it/demonstrations/860f84bb153e15f345ac370dc0a94328536d444b0/expr.ipynb\"><img src=\"data:image/png;base64,iVBORw0KGgoAAAANSUhEUgAAAHoAAAAVBAMAAAB71edYAAAAMFBMVEX///8AAAAAAAAAAAAAAAAA\n",
       "AAAAAAAAAAAAAAAAAAAAAAAAAAAAAAAAAAAAAAAAAAAv3aB7AAAAD3RSTlMAInZUiRDNmWbv3US7\n",
       "qzJazP2FAAAACXBIWXMAAA7EAAAOxAGVKw4bAAAA8ElEQVQ4y2NgYBBgIATwqGAyIKh7E24pEwaG\n",
       "qlUgsBab7A6wBQ24ZFgTwGwjHGZDxFNxybA3EKG7HZcMJwOm7qPoujkDcOg2w6L7DbputgYcukuw\n",
       "6OZwQNPNcgGH7gwU3ezg0F/1HU03BzhoUaMGLLMYi90MzMmoupkn4LB7NjbdDGGzUXTzfSBFN2OK\n",
       "AIpublx2L8bm72UCaC5fgMPfh7DYzX0APdQO4LDbF4tuMfT4ZnfAofsVUpqHgXNQGujUmWCncm1A\n",
       "0wqT4XpARH6WwpVBOQoYCIMKnDIHCWtmPIBTKoawbh7cRROjAkHdirgkAD2cQqjL4NQdAAAAAElF\n",
       "TkSuQmCC\n",
       "\" style=\"display:inline;vertical-align:middle;\" /></a></span>"
      ],
      "text/plain": [
       "|- (TRUE => FALSE) = FALSE"
      ]
     },
     "metadata": {},
     "output_type": "display_data"
    }
   ],
   "source": [
    "Equals(Implies(TRUE, FALSE),FALSE).prove()"
   ]
  },
  {
   "cell_type": "markdown",
   "metadata": {},
   "source": [
    "Similar to the way that we can prove `True` $\\Rightarrow$ `True`, we can also prove that anything implies itself. "
   ]
  },
  {
   "cell_type": "code",
   "execution_count": 14,
   "metadata": {},
   "outputs": [
    {
     "data": {
      "text/html": [
       "<span style=\"font-size:20px;\"> <a class=\"ProveItLink\" href=\"../__pv_it/demonstrations/a9c9c59e6dc92ff7c10de857687434fb5c784e850/proof.ipynb\" style=\"text-decoration: none\">&nbsp;&#x22A2;&nbsp;&nbsp;</a><a class=\"ProveItLink\" href=\"../__pv_it/demonstrations/88dcf3c8d8ef3e8d97fcfcad023ba7f13695df510/expr.ipynb\"><img src=\"data:image/png;base64,iVBORw0KGgoAAAANSUhEUgAAAEEAAAAPBAMAAABJi79qAAAAMFBMVEX///8AAAAAAAAAAAAAAAAA\n",
       "AAAAAAAAAAAAAAAAAAAAAAAAAAAAAAAAAAAAAAAAAAAv3aB7AAAAD3RSTlMAZrurzTLvInZEmRDd\n",
       "VIkafcLnAAAACXBIWXMAAA7EAAAOxAGVKw4bAAAA+ElEQVQY02NgYBD6b2zsFMCAARj1PxubqIKZ\n",
       "SQwMzF8xVTCwKTAw2IO0sv9gYOD8hUVFfQMDw/wFINOA+hl/wMW14Sx5oH55oCoG5g8MDCzpcPEg\n",
       "OMseiN0KINZx2yBcyvgAxgK6b/NRECNeo8NEAMTgOgMGMCexfupodgSz+gsYeBORHMjrC6E5vjMw\n",
       "XANrVQPi98jhsSUTTDElMDDwgUPhMwPUyVDA7lcApvkNoH5k/Qhy9gSEO45AFDDEA21g/gm1jvUL\n",
       "wghOBSgD6D6GeAcggwVo3TRvhIoSGMMNqDplA9AcUPzoIrlTFUobgSL0ApbIYChA4wMAF7U82Y4I\n",
       "T2gAAAAASUVORK5CYII=\n",
       "\" style=\"display:inline;vertical-align:middle;\" /></a></span>"
      ],
      "text/plain": [
       "|- B => B"
      ]
     },
     "metadata": {},
     "output_type": "display_data"
    }
   ],
   "source": [
    "Implies(B,B).prove()"
   ]
  },
  {
   "cell_type": "code",
   "execution_count": 15,
   "metadata": {},
   "outputs": [
    {
     "data": {
      "text/html": [
       "<span style=\"font-size:20px;\"> <a class=\"ProveItLink\" href=\"proofs/true_implies_false_negated/thm_proof.ipynb\" style=\"text-decoration: none\">&nbsp;&#x22A2;&nbsp;&nbsp;</a><a class=\"ProveItLink\" href=\"../__pv_it/theorems/7fae7745dda02037e55757ce8abb34a9828097930/expr.ipynb\"><img src=\"data:image/png;base64,iVBORw0KGgoAAAANSUhEUgAAAF4AAAAVBAMAAAA9Y0TyAAAAMFBMVEX///8AAAAAAAAAAAAAAAAA\n",
       "AAAAAAAAAAAAAAAAAAAAAAAAAAAAAAAAAAAAAAAAAAAv3aB7AAAAD3RSTlMAmd0iq3ZUiRDNZu9E\n",
       "uzLWhN+VAAAACXBIWXMAAA7EAAAOxAGVKw4bAAAA6ElEQVQoz2NgQAADBgKAGYXHmkBIPU8AMi+d\n",
       "gVEJDBywKV0AIqOQRDgmgEi2AOxGQ8Q5GxAijAsIq+cSQIhwM2Cqv4GmnmEHQi4Ti/q36OpnIeTE\n",
       "sajnKkBTX4KQm4WiHhpUH9HUr2QQAgkrAplqWMxnYJuGqj4bwjMB4j3Y1DN07kFR/56AeubpBijq\n",
       "TyPUq2Fzv6YBqnuSIDxDIL6KxXyeC2j+XYuQK8Gi3hI9/MURco+Q0hUM3IM7TnsTOB3qIOSYHmCm\n",
       "GvQcwayAFJcCDAQBI7Ltlwmrt0Xm9BJWj2IkcwAh5awGDAA4oCrYOpBMiwAAAABJRU5ErkJggg==\n",
       "\" style=\"display:inline;vertical-align:middle;\" /></a></span>"
      ],
      "text/plain": [
       "|- [not](TRUE => FALSE)"
      ]
     },
     "metadata": {},
     "output_type": "display_data"
    }
   ],
   "source": [
    "Not(Implies(TRUE, FALSE)).prove()"
   ]
  },
  {
   "cell_type": "markdown",
   "metadata": {},
   "source": [
    "The following case is another example of the fact that it doesn't matter what the `Right Hand Side` is if the `Left Hand Side` is `False`.  This time, we are given $\\lnot A$, which we take to be `True`.  Then, by definition, $A$ must be `False`.  Therefore, the `Right Hand Side` can be anything, in this case $B$.   "
   ]
  },
  {
   "cell_type": "code",
   "execution_count": 16,
   "metadata": {},
   "outputs": [
    {
     "data": {
      "text/html": [
       "<strong id=\"nA\">nA:</strong> <a class=\"ProveItLink\" href=\"../../__pv_it/theorems/c6244e76de3be0816f3efc36199d65e50f6589940/expr.ipynb\"><img src=\"data:image/png;base64,iVBORw0KGgoAAAANSUhEUgAAABwAAAAPBAMAAAAFYbKSAAAAMFBMVEX///8AAAAAAAAAAAAAAAAA\n",
       "AAAAAAAAAAAAAAAAAAAAAAAAAAAAAAAAAAAAAAAAAAAv3aB7AAAAD3RSTlMAmd0iq81UiTJ2ZkS7\n",
       "EO8Z3gX6AAAACXBIWXMAAA7EAAAOxAGVKw4bAAAAaUlEQVQI12NgQADmAAZkwPoBhZuPyhX5jMxj\n",
       "N/+BzLXk/IbMFWD7hcTjTuD4zsAgpAQEikAuIwPzF6iMCRDPERT5g+DyTmBg+ITgMgIpPSjXkIFh\n",
       "F5CKRzj/AZA4bwDl8Z7/eoEh5384AEaRFfDwb8v9AAAAAElFTkSuQmCC\n",
       "\" style=\"display:inline;vertical-align:middle;\" /></a><br>"
      ],
      "text/plain": [
       "<IPython.core.display.HTML object>"
      ]
     },
     "metadata": {},
     "output_type": "display_data"
    }
   ],
   "source": [
    "nA = Not(A)"
   ]
  },
  {
   "cell_type": "code",
   "execution_count": 17,
   "metadata": {},
   "outputs": [
    {
     "data": {
      "text/html": [
       "<span style=\"font-size:20px;\"><a class=\"ProveItLink\" href=\"../../__pv_it/theorems/c6244e76de3be0816f3efc36199d65e50f6589940/expr.ipynb\"><img src=\"data:image/png;base64,iVBORw0KGgoAAAANSUhEUgAAABwAAAAPBAMAAAAFYbKSAAAAMFBMVEX///8AAAAAAAAAAAAAAAAA\n",
       "AAAAAAAAAAAAAAAAAAAAAAAAAAAAAAAAAAAAAAAAAAAv3aB7AAAAD3RSTlMAmd0iq81UiTJ2ZkS7\n",
       "EO8Z3gX6AAAACXBIWXMAAA7EAAAOxAGVKw4bAAAAaUlEQVQI12NgQADmAAZkwPoBhZuPyhX5jMxj\n",
       "N/+BzLXk/IbMFWD7hcTjTuD4zsAgpAQEikAuIwPzF6iMCRDPERT5g+DyTmBg+ITgMgIpPSjXkIFh\n",
       "F5CKRzj/AZA4bwDl8Z7/eoEh5384AEaRFfDwb8v9AAAAAElFTkSuQmCC\n",
       "\" style=\"display:inline;vertical-align:middle;\" /></a> <a class=\"ProveItLink\" href=\"../__pv_it/demonstrations/602d87f04b909702e648b1764fe891ff8bdcae250/proof.ipynb\" style=\"text-decoration: none\">&nbsp;&#x22A2;&nbsp;&nbsp;</a><a class=\"ProveItLink\" href=\"../__pv_it/demonstrations/d78c7a0a66f0f0f40e69d505fb93268ea9af46dc0/expr.ipynb\"><img src=\"data:image/png;base64,iVBORw0KGgoAAAANSUhEUgAAAEAAAAAQBAMAAABUyWQaAAAAMFBMVEX///8AAAAAAAAAAAAAAAAA\n",
       "AAAAAAAAAAAAAAAAAAAAAAAAAAAAAAAAAAAAAAAAAAAv3aB7AAAAD3RSTlMAIs1UmauJMnZmRLsQ\n",
       "3e++988cAAAACXBIWXMAAA7EAAAOxAGVKw4bAAAA8UlEQVQoz2NgAAEhBgJAH5vg7P+hodoFYCbz\n",
       "f6zaXjMwsH4Hs1jiBbDIM/5gYOD6AmYm5hcgxPfAGJxA3Zw/wEob+g0QCqphDNYPDAxMD8E2MNhP\n",
       "QCjgTIAy+DYw8MSCjV7MUA8WZLkLBl+gCup3dARBNDowyAcgOY5ZGUL3CzAwvwQxOLa4xG9Adv6h\n",
       "V2BqHxCDXX+CgYH/ArL31CCe/grE8xvANjDwPkBywyWIPPtPIBG/ABgWQIcwfUAYwAW1juMjUNEn\n",
       "IEMOiLk/IhTAIo4JaOo6HQaG0/91GJj3f0qAK9gODab9X0ODNmOLIrRoAQDyg0EOXpubEgAAAABJ\n",
       "RU5ErkJggg==\n",
       "\" style=\"display:inline;vertical-align:middle;\" /></a></span>"
      ],
      "text/plain": [
       "{[not](A)} |- A => B"
      ]
     },
     "metadata": {},
     "output_type": "display_data"
    }
   ],
   "source": [
    "Implies(A,B).prove(assumptions=[nA])"
   ]
  },
  {
   "cell_type": "code",
   "execution_count": 18,
   "metadata": {},
   "outputs": [
    {
     "data": {
      "text/html": [
       "<span style=\"font-size:20px;\"><a class=\"ProveItLink\" href=\"../__pv_it/demonstrations/d78c7a0a66f0f0f40e69d505fb93268ea9af46dc0/expr.ipynb\"><img src=\"data:image/png;base64,iVBORw0KGgoAAAANSUhEUgAAAEAAAAAQBAMAAABUyWQaAAAAMFBMVEX///8AAAAAAAAAAAAAAAAA\n",
       "AAAAAAAAAAAAAAAAAAAAAAAAAAAAAAAAAAAAAAAAAAAv3aB7AAAAD3RSTlMAIs1UmauJMnZmRLsQ\n",
       "3e++988cAAAACXBIWXMAAA7EAAAOxAGVKw4bAAAA8UlEQVQoz2NgAAEhBgJAH5vg7P+hodoFYCbz\n",
       "f6zaXjMwsH4Hs1jiBbDIM/5gYOD6AmYm5hcgxPfAGJxA3Zw/wEob+g0QCqphDNYPDAxMD8E2MNhP\n",
       "QCjgTIAy+DYw8MSCjV7MUA8WZLkLBl+gCup3dARBNDowyAcgOY5ZGUL3CzAwvwQxOLa4xG9Adv6h\n",
       "V2BqHxCDXX+CgYH/ArL31CCe/grE8xvANjDwPkBywyWIPPtPIBG/ABgWQIcwfUAYwAW1juMjUNEn\n",
       "IEMOiLk/IhTAIo4JaOo6HQaG0/91GJj3f0qAK9gODab9X0ODNmOLIrRoAQDyg0EOXpubEgAAAABJ\n",
       "RU5ErkJggg==\n",
       "\" style=\"display:inline;vertical-align:middle;\" /></a>, <a class=\"ProveItLink\" href=\"../__pv_it/demonstrations/a86ca283eb9d9c83c0349442b18fd6f3c40be44b0/expr.ipynb\"><img src=\"data:image/png;base64,iVBORw0KGgoAAAANSUhEUgAAAEEAAAAPBAMAAABJi79qAAAAMFBMVEX///8AAAAAAAAAAAAAAAAA\n",
       "AAAAAAAAAAAAAAAAAAAAAAAAAAAAAAAAAAAAAAAAAAAv3aB7AAAAD3RSTlMAZrurzTLvInZEmRDd\n",
       "VIkafcLnAAAACXBIWXMAAA7EAAAOxAGVKw4bAAAA90lEQVQY02NgYBD6b2zsFMCACbibjA3ZH4BY\n",
       "SQwMzF+xqGjrZuBdIwBksP9gYOD8halg01Egsb4ASDAC9TP+gEswbYAy3ECMaSAW8wcGBpZ0uApW\n",
       "BQjN9xdERoEINgUGbhskl8pBqPoDIHIriIjX6DARAAuuOQMC5xeAOe8b4Hr6Cxh4E5GdeOUCiDxf\n",
       "ABdQA2lADg9utwlAMh/MBjv7MxDLNyCpKHkONgNE8IJ0sn4EEvYTEO444w5WBw4JPhCL4ztQ1Rck\n",
       "IyZB/QIy9jWIxZIADBdvhAJ2BwjNCzR7HsgZzPqfjU10kYxggjl6l7LVBAZsgB2NDwAzdD7rBq7S\n",
       "3AAAAABJRU5ErkJggg==\n",
       "\" style=\"display:inline;vertical-align:middle;\" /></a> <a class=\"ProveItLink\" href=\"../__pv_it/demonstrations/568762e596e0aad2a662713108ad624eb2783d040/proof.ipynb\" style=\"text-decoration: none\">&nbsp;&#x22A2;&nbsp;&nbsp;</a><a class=\"ProveItLink\" href=\"../__pv_it/demonstrations/b0b3d3c382931039ce0ca448f5ff75a920e621340/expr.ipynb\"><img src=\"data:image/png;base64,iVBORw0KGgoAAAANSUhEUgAAAD8AAAAQBAMAAABTi7oPAAAAMFBMVEX///8AAAAAAAAAAAAAAAAA\n",
       "AAAAAAAAAAAAAAAAAAAAAAAAAAAAAAAAAAAAAAAAAAAv3aB7AAAAD3RSTlMAIs1UmauJMnZmRLsQ\n",
       "3e++988cAAAACXBIWXMAAA7EAAAOxAGVKw4bAAAA5klEQVQoz2NgAAEhBgJAH5sgT3doJGMCmMn8\n",
       "H5uCvh4GZt8JYCZLvACm/OnrQMIfIpGYXwAX5z4AZeiBGOvATMaGfgO4AvYNEJrtM4gsgdjAYD8B\n",
       "YfQ0CCV/AUQeB7MXM9SDHet7FwTuO4AF8xsQehwY5AOQXGcEtu8+wt0cW1ziNyD7X28BkHwPZoNd\n",
       "fIKBgf8CkgKhRLAJ4AAqgNjAwPsA4Ya7imBl4BBgA7G4gD5g+oAwYDXUFyBH5oBYcqDQ+QiXZ1SA\n",
       "0Mw/GRiWgZxw+r8OA/P+TwnwkIQF6pGtIQuwRREjGh8Avbg4tNZGubUAAAAASUVORK5CYII=\n",
       "\" style=\"display:inline;vertical-align:middle;\" /></a></span>"
      ],
      "text/plain": [
       "{A => B, B => C} |- A => C"
      ]
     },
     "metadata": {},
     "output_type": "display_data"
    }
   ],
   "source": [
    "Implies(A, C).prove(assumptions=[Implies(A,B), Implies(B,C)])"
   ]
  },
  {
   "cell_type": "code",
   "execution_count": 19,
   "metadata": {},
   "outputs": [
    {
     "data": {
      "text/html": [
       "<span style=\"font-size:20px;\"><a class=\"ProveItLink\" href=\"../../__pv_it/theorems/a10dbfd9a4efbb6f30af430036ab01697a9460f80/expr.ipynb\"><img src=\"data:image/png;base64,iVBORw0KGgoAAAANSUhEUgAAADYAAAAQBAMAAACvnpHFAAAAMFBMVEX///8AAAAAAAAAAAAAAAAA\n",
       "AAAAAAAAAAAAAAAAAAAAAAAAAAAAAAAAAAAAAAAAAAAv3aB7AAAAD3RSTlMAIs1UmauJMnZmRLsQ\n",
       "3e++988cAAAACXBIWXMAAA7EAAAOxAGVKw4bAAAA40lEQVQY02NgAAEhBhTAcW/Tp7dRUI4+qhwD\n",
       "N1eD0NEFYCbzfwy5CWwCG8BMlngBDDlOgwAwMzG/AGrR3ruX4HIKIBZjQ78BWIpL4wBcH6tkAthI\n",
       "BvsJEOcegJvZ0xsGZi1mqAerYVBE2Hfp/RWwQgcGeYi9Ckhu4ZilA3LAFpd4sHvZ3969e/c2VI5h\n",
       "wzIg4wQDA/8FkAjPBiR9DBu4wUYy8D4AC11AkWMCOhzoRqYPYKEOFDkLBgY5EPsjWIjJAC6XwNbm\n",
       "wHD6vw4D8/5PYE/wRK+BBI/ebkQ8wABXNiTMIAAAYXA8zHUEOxUAAAAASUVORK5CYII=\n",
       "\" style=\"display:inline;vertical-align:middle;\" /></a>, <a class=\"ProveItLink\" href=\"../__pv_it/axioms/ad5ef946092741e4bac7f9eaa73fbcca534934a10/expr.ipynb\"><img src=\"data:image/png;base64,iVBORw0KGgoAAAANSUhEUgAAAFsAAAAVBAMAAADbSo+2AAAAMFBMVEX///8AAAAAAAAAAAAAAAAA\n",
       "AAAAAAAAAAAAAAAAAAAAAAAAAAAAAAAAAAAAAAAAAAAv3aB7AAAAD3RSTlMAInZUiRDNmWbv3US7\n",
       "qzJazP2FAAAACXBIWXMAAA7EAAAOxAGVKw4bAAABKUlEQVQoz2NgYBBgQAWMDPgAkwEyT4yBgVsB\n",
       "n3ITFF4+EGtgVcfdACJZE5DFmP8DCbYAbMqZwZayNyCLsd8H+oSjALdyThQxR/8HQHIqnM8TgKbc\n",
       "DCVQFPRBHs+AC/AdQFNeguIWBnuQ23wRIi1oyjOQlW9meO8ApNpA7KpVILC+AFX5YqCZYAmQeAGD\n",
       "/AUgZYlkgpkBivLZMGcD1TEdL78Pcux7JOWsmRtwKQ9iYOBfAGTvRI5mR3THwJUD3cM1Aci2Qrh9\n",
       "VSKq2w/BlBeAo5ntA5DdgzB8D1rIIAWaJChePqIELmMCmvJXcH7M/1QG5vPfgCG5GhGrD6ARsmrV\n",
       "ylmrVl1g4HqAkToYF+BO+1jSE2qqQwMHMURk8GWPGCIMQEmF6LlRALdiAOSBQxJrqx9dAAAAAElF\n",
       "TkSuQmCC\n",
       "\" style=\"display:inline;vertical-align:middle;\" /></a> <a class=\"ProveItLink\" href=\"../__pv_it/demonstrations/e9c968b2e0aa8510e3bd3c81640dd579753acf510/proof.ipynb\" style=\"text-decoration: none\">&nbsp;&#x22A2;&nbsp;&nbsp;</a><a class=\"ProveItLink\" href=\"../../../../__pv_it/common/09585084922504426caf1db2ff588a23a0932a960/expr.ipynb\"><img src=\"data:image/png;base64,iVBORw0KGgoAAAANSUhEUgAAAA8AAAAPBAMAAADJ+Ih5AAAAMFBMVEX///8AAAAAAAAAAAAAAAAA\n",
       "AAAAAAAAAAAAAAAAAAAAAAAAAAAAAAAAAAAAAAAAAAAv3aB7AAAAD3RSTlMAIs1UmauJMnZmRLsQ\n",
       "3e++988cAAAACXBIWXMAAA7EAAAOxAGVKw4bAAAAXklEQVQI12NgAAEhBijQh9LM/6EMlngBCCMx\n",
       "vwBMMzb0G0BkGOwngBmLGeoTwAwHBvkAEM2xxSV+A4hxgoGB/wJEhoH3AZDmAupg+gBkyAEx90cG\n",
       "htP/dRiY939KAABt3hLO6mcEjQAAAABJRU5ErkJggg==\n",
       "\" style=\"display:inline;vertical-align:middle;\" /></a></span>"
      ],
      "text/plain": [
       "{A in BOOLEAN, [not](A) => FALSE} |- A"
      ]
     },
     "metadata": {},
     "output_type": "display_data"
    }
   ],
   "source": [
    "A.prove(assumptions=[Implies(Not(A),FALSE), in_bool(A)])"
   ]
  },
  {
   "cell_type": "code",
   "execution_count": 20,
   "metadata": {},
   "outputs": [
    {
     "data": {
      "text/html": [
       "<span style=\"font-size:20px;\"><a class=\"ProveItLink\" href=\"../../__pv_it/theorems/a10dbfd9a4efbb6f30af430036ab01697a9460f80/expr.ipynb\"><img src=\"data:image/png;base64,iVBORw0KGgoAAAANSUhEUgAAADYAAAAQBAMAAACvnpHFAAAAMFBMVEX///8AAAAAAAAAAAAAAAAA\n",
       "AAAAAAAAAAAAAAAAAAAAAAAAAAAAAAAAAAAAAAAAAAAv3aB7AAAAD3RSTlMAIs1UmauJMnZmRLsQ\n",
       "3e++988cAAAACXBIWXMAAA7EAAAOxAGVKw4bAAAA40lEQVQY02NgAAEhBhTAcW/Tp7dRUI4+qhwD\n",
       "N1eD0NEFYCbzfwy5CWwCG8BMlngBDDlOgwAwMzG/AGrR3ruX4HIKIBZjQ78BWIpL4wBcH6tkAthI\n",
       "BvsJEOcegJvZ0xsGZi1mqAerYVBE2Hfp/RWwQgcGeYi9Ckhu4ZilA3LAFpd4sHvZ3969e/c2VI5h\n",
       "wzIg4wQDA/8FkAjPBiR9DBu4wUYy8D4AC11AkWMCOhzoRqYPYKEOFDkLBgY5EPsjWIjJAC6XwNbm\n",
       "wHD6vw4D8/5PYE/wRK+BBI/ebkQ8wABXNiTMIAAAYXA8zHUEOxUAAAAASUVORK5CYII=\n",
       "\" style=\"display:inline;vertical-align:middle;\" /></a>, <a class=\"ProveItLink\" href=\"../__pv_it/theorems/40204e1874e2c682f1ab2a7bb3f735c754d3250e0/expr.ipynb\"><img src=\"data:image/png;base64,iVBORw0KGgoAAAANSUhEUgAAAFwAAAAVBAMAAAA5lpTPAAAAMFBMVEX///8AAAAAAAAAAAAAAAAA\n",
       "AAAAAAAAAAAAAAAAAAAAAAAAAAAAAAAAAAAAAAAAAAAv3aB7AAAAD3RSTlMAInZUiRDNmWbv3US7\n",
       "qzJazP2FAAAACXBIWXMAAA7EAAAOxAGVKw4bAAABbklEQVQoz2NgYBBgQAWMDPgAkwEyT4yBgVsB\n",
       "n3ITFF4+EGtgU9bz/+7dnAcMrAnIgsz/gQRbADb1cxgYeP8xsDcgi7HfB/qEowCLasZPQGd+Z+BE\n",
       "EXT0fwAkpyIEjsIYHP+A+BODGYoRCvogj2cgRN7AGLwfgK6cyFCC4hYGe5DbfBEiHA5QBucBBtZb\n",
       "D5BNYmDYzPAeJN0G1roKDL5Dpd4fUroGNGoxTALkvwIG+QtAyhI5rJIhtL4AA/MMBobZMGcD1TEd\n",
       "L79/AGQSso1hEBUngRgYDsjKgxgY+BcA2TuRfZ8CSSR/gbhfAeQYuHKge7gmANlWSG5fBlHN9wNI\n",
       "3N/AcAimvICBG+gVtg+gCEcYzn0AmrI+ArV8Qwk0SSDmAQojB64YlGYD2rozlYHhFVwm5n8qA/P5\n",
       "b8CQXI1Qfg4aSef/3r12GMjgeoCZPBYg2OiZAUt6Qk11aOAghogMvuwRQ4QBKKkQPTcK4FYMAMva\n",
       "XILEnyWGAAAAAElFTkSuQmCC\n",
       "\" style=\"display:inline;vertical-align:middle;\" /></a>, <a class=\"ProveItLink\" href=\"../__pv_it/theorems/8552c6321b312c5e15a5015adce4a756ce05da420/expr.ipynb\"><img src=\"data:image/png;base64,iVBORw0KGgoAAAANSUhEUgAAAB0AAAAOBAMAAAAh/woJAAAAMFBMVEX///8AAAAAAAAAAAAAAAAA\n",
       "AAAAAAAAAAAAAAAAAAAAAAAAAAAAAAAAAAAAAAAAAAAv3aB7AAAAD3RSTlMAmd0iq2a7zTLvdkQQ\n",
       "VIm/XloVAAAACXBIWXMAAA7EAAAOxAGVKw4bAAAAgUlEQVQI12NggALW/C8u7hkMCMCZwMDg34Dg\n",
       "2y9gYNgvgODHA+XiFyD4/kBcaYDgT2NgOKKB4HJ8W7WkFEgLKQGBIgMD12cGhpsBUEkTBga2CQwM\n",
       "fD8QfH4HoJt+Ifj9QLUsv6F8QwaG9UCr+gsQ5lcyMHBPPwDnuv13cSm7wMAAAOyYG523RGm6AAAA\n",
       "AElFTkSuQmCC\n",
       "\" style=\"display:inline;vertical-align:middle;\" /></a> <a class=\"ProveItLink\" href=\"../__pv_it/demonstrations/688050a3026dd8fceefc684684681553c995f6ef0/proof.ipynb\" style=\"text-decoration: none\">&nbsp;&#x22A2;&nbsp;&nbsp;</a><a class=\"ProveItLink\" href=\"../../../../__pv_it/common/09585084922504426caf1db2ff588a23a0932a960/expr.ipynb\"><img src=\"data:image/png;base64,iVBORw0KGgoAAAANSUhEUgAAAA8AAAAPBAMAAADJ+Ih5AAAAMFBMVEX///8AAAAAAAAAAAAAAAAA\n",
       "AAAAAAAAAAAAAAAAAAAAAAAAAAAAAAAAAAAAAAAAAAAv3aB7AAAAD3RSTlMAIs1UmauJMnZmRLsQ\n",
       "3e++988cAAAACXBIWXMAAA7EAAAOxAGVKw4bAAAAXklEQVQI12NgAAEhBijQh9LM/6EMlngBCCMx\n",
       "vwBMMzb0G0BkGOwngBmLGeoTwAwHBvkAEM2xxSV+A4hxgoGB/wJEhoH3AZDmAupg+gBkyAEx90cG\n",
       "htP/dRiY939KAABt3hLO6mcEjQAAAABJRU5ErkJggg==\n",
       "\" style=\"display:inline;vertical-align:middle;\" /></a></span>"
      ],
      "text/plain": [
       "{A in BOOLEAN, [not](A) => B, [not](B)} |- A"
      ]
     },
     "metadata": {},
     "output_type": "display_data"
    }
   ],
   "source": [
    "Implies(Not(A),B).deny_antecedent(assumptions=[Not(B), in_bool(A), Implies(Not(A),B)])"
   ]
  },
  {
   "cell_type": "code",
   "execution_count": 21,
   "metadata": {},
   "outputs": [
    {
     "data": {
      "text/html": [
       "<span style=\"font-size:20px;\"><a class=\"ProveItLink\" href=\"../../__pv_it/theorems/a10dbfd9a4efbb6f30af430036ab01697a9460f80/expr.ipynb\"><img src=\"data:image/png;base64,iVBORw0KGgoAAAANSUhEUgAAADYAAAAQBAMAAACvnpHFAAAAMFBMVEX///8AAAAAAAAAAAAAAAAA\n",
       "AAAAAAAAAAAAAAAAAAAAAAAAAAAAAAAAAAAAAAAAAAAv3aB7AAAAD3RSTlMAIs1UmauJMnZmRLsQ\n",
       "3e++988cAAAACXBIWXMAAA7EAAAOxAGVKw4bAAAA40lEQVQY02NgAAEhBhTAcW/Tp7dRUI4+qhwD\n",
       "N1eD0NEFYCbzfwy5CWwCG8BMlngBDDlOgwAwMzG/AGrR3ruX4HIKIBZjQ78BWIpL4wBcH6tkAthI\n",
       "BvsJEOcegJvZ0xsGZi1mqAerYVBE2Hfp/RWwQgcGeYi9Ckhu4ZilA3LAFpd4sHvZ3969e/c2VI5h\n",
       "wzIg4wQDA/8FkAjPBiR9DBu4wUYy8D4AC11AkWMCOhzoRqYPYKEOFDkLBgY5EPsjWIjJAC6XwNbm\n",
       "wHD6vw4D8/5PYE/wRK+BBI/ebkQ8wABXNiTMIAAAYXA8zHUEOxUAAAAASUVORK5CYII=\n",
       "\" style=\"display:inline;vertical-align:middle;\" /></a>, <a class=\"ProveItLink\" href=\"../__pv_it/demonstrations/d78c7a0a66f0f0f40e69d505fb93268ea9af46dc0/expr.ipynb\"><img src=\"data:image/png;base64,iVBORw0KGgoAAAANSUhEUgAAAEAAAAAQBAMAAABUyWQaAAAAMFBMVEX///8AAAAAAAAAAAAAAAAA\n",
       "AAAAAAAAAAAAAAAAAAAAAAAAAAAAAAAAAAAAAAAAAAAv3aB7AAAAD3RSTlMAIs1UmauJMnZmRLsQ\n",
       "3e++988cAAAACXBIWXMAAA7EAAAOxAGVKw4bAAAA8UlEQVQoz2NgAAEhBgJAH5vg7P+hodoFYCbz\n",
       "f6zaXjMwsH4Hs1jiBbDIM/5gYOD6AmYm5hcgxPfAGJxA3Zw/wEob+g0QCqphDNYPDAxMD8E2MNhP\n",
       "QCjgTIAy+DYw8MSCjV7MUA8WZLkLBl+gCup3dARBNDowyAcgOY5ZGUL3CzAwvwQxOLa4xG9Adv6h\n",
       "V2BqHxCDXX+CgYH/ArL31CCe/grE8xvANjDwPkBywyWIPPtPIBG/ABgWQIcwfUAYwAW1juMjUNEn\n",
       "IEMOiLk/IhTAIo4JaOo6HQaG0/91GJj3f0qAK9gODab9X0ODNmOLIrRoAQDyg0EOXpubEgAAAABJ\n",
       "RU5ErkJggg==\n",
       "\" style=\"display:inline;vertical-align:middle;\" /></a>, <a class=\"ProveItLink\" href=\"../__pv_it/theorems/8552c6321b312c5e15a5015adce4a756ce05da420/expr.ipynb\"><img src=\"data:image/png;base64,iVBORw0KGgoAAAANSUhEUgAAAB0AAAAOBAMAAAAh/woJAAAAMFBMVEX///8AAAAAAAAAAAAAAAAA\n",
       "AAAAAAAAAAAAAAAAAAAAAAAAAAAAAAAAAAAAAAAAAAAv3aB7AAAAD3RSTlMAmd0iq2a7zTLvdkQQ\n",
       "VIm/XloVAAAACXBIWXMAAA7EAAAOxAGVKw4bAAAAgUlEQVQI12NggALW/C8u7hkMCMCZwMDg34Dg\n",
       "2y9gYNgvgODHA+XiFyD4/kBcaYDgT2NgOKKB4HJ8W7WkFEgLKQGBIgMD12cGhpsBUEkTBga2CQwM\n",
       "fD8QfH4HoJt+Ifj9QLUsv6F8QwaG9UCr+gsQ5lcyMHBPPwDnuv13cSm7wMAAAOyYG523RGm6AAAA\n",
       "AElFTkSuQmCC\n",
       "\" style=\"display:inline;vertical-align:middle;\" /></a> <a class=\"ProveItLink\" href=\"../__pv_it/demonstrations/44edd96ce0e0f69636732fb5bd790c54992baa780/proof.ipynb\" style=\"text-decoration: none\">&nbsp;&#x22A2;&nbsp;&nbsp;</a><a class=\"ProveItLink\" href=\"../../__pv_it/theorems/c6244e76de3be0816f3efc36199d65e50f6589940/expr.ipynb\"><img src=\"data:image/png;base64,iVBORw0KGgoAAAANSUhEUgAAABwAAAAPBAMAAAAFYbKSAAAAMFBMVEX///8AAAAAAAAAAAAAAAAA\n",
       "AAAAAAAAAAAAAAAAAAAAAAAAAAAAAAAAAAAAAAAAAAAv3aB7AAAAD3RSTlMAmd0iq81UiTJ2ZkS7\n",
       "EO8Z3gX6AAAACXBIWXMAAA7EAAAOxAGVKw4bAAAAaUlEQVQI12NgQADmAAZkwPoBhZuPyhX5jMxj\n",
       "N/+BzLXk/IbMFWD7hcTjTuD4zsAgpAQEikAuIwPzF6iMCRDPERT5g+DyTmBg+ITgMgIpPSjXkIFh\n",
       "F5CKRzj/AZA4bwDl8Z7/eoEh5384AEaRFfDwb8v9AAAAAElFTkSuQmCC\n",
       "\" style=\"display:inline;vertical-align:middle;\" /></a></span>"
      ],
      "text/plain": [
       "{A in BOOLEAN, A => B, [not](B)} |- [not](A)"
      ]
     },
     "metadata": {},
     "output_type": "display_data"
    }
   ],
   "source": [
    "Implies(A,B).deny_antecedent(assumptions=[Not(B), in_bool(A), Implies(A,B)])"
   ]
  },
  {
   "cell_type": "code",
   "execution_count": 22,
   "metadata": {},
   "outputs": [
    {
     "data": {
      "text/html": [
       "<span style=\"font-size:20px;\"><a class=\"ProveItLink\" href=\"../../__pv_it/theorems/a10dbfd9a4efbb6f30af430036ab01697a9460f80/expr.ipynb\"><img src=\"data:image/png;base64,iVBORw0KGgoAAAANSUhEUgAAADYAAAAQBAMAAACvnpHFAAAAMFBMVEX///8AAAAAAAAAAAAAAAAA\n",
       "AAAAAAAAAAAAAAAAAAAAAAAAAAAAAAAAAAAAAAAAAAAv3aB7AAAAD3RSTlMAIs1UmauJMnZmRLsQ\n",
       "3e++988cAAAACXBIWXMAAA7EAAAOxAGVKw4bAAAA40lEQVQY02NgAAEhBhTAcW/Tp7dRUI4+qhwD\n",
       "N1eD0NEFYCbzfwy5CWwCG8BMlngBDDlOgwAwMzG/AGrR3ruX4HIKIBZjQ78BWIpL4wBcH6tkAthI\n",
       "BvsJEOcegJvZ0xsGZi1mqAerYVBE2Hfp/RWwQgcGeYi9Ckhu4ZilA3LAFpd4sHvZ3969e/c2VI5h\n",
       "wzIg4wQDA/8FkAjPBiR9DBu4wUYy8D4AC11AkWMCOhzoRqYPYKEOFDkLBgY5EPsjWIjJAC6XwNbm\n",
       "wHD6vw4D8/5PYE/wRK+BBI/ebkQ8wABXNiTMIAAAYXA8zHUEOxUAAAAASUVORK5CYII=\n",
       "\" style=\"display:inline;vertical-align:middle;\" /></a>, <a class=\"ProveItLink\" href=\"../__pv_it/axioms/7f13bb5faea4aa2521226869e3d799f3406307a60/expr.ipynb\"><img src=\"data:image/png;base64,iVBORw0KGgoAAAANSUhEUgAAAD8AAAAQBAMAAABTi7oPAAAAMFBMVEX///8AAAAAAAAAAAAAAAAA\n",
       "AAAAAAAAAAAAAAAAAAAAAAAAAAAAAAAAAAAAAAAAAAAv3aB7AAAAD3RSTlMAIs1UmauJMnZmRLsQ\n",
       "3e++988cAAAACXBIWXMAAA7EAAAOxAGVKw4bAAAAq0lEQVQoz2NgAAEhBgJAH6so1wQYi/k/VgXM\n",
       "DTAWS7wAfgWJ+QVwUe4DmAoYG/oN4KLsGzAVsDDYT0AYPA1TwWKG+gQQ7XsXBO47YChwYJAPQHKb\n",
       "kQGaAo4tLvEbkBTw6C1AVXCCgYH/ApICoUQ0E4B28j5AuOGuIpobQAHK9AFhwGp0X8iBQucjXJRR\n",
       "AU3B6f86DMz7PyXAQxIaqCx37957e/duAEYEMKLxAUEeL4eOp3RtAAAAAElFTkSuQmCC\n",
       "\" style=\"display:inline;vertical-align:middle;\" /></a> <a class=\"ProveItLink\" href=\"../__pv_it/demonstrations/8c6e467d332962fea5df1a34bc1a39a27dd7e2d60/proof.ipynb\" style=\"text-decoration: none\">&nbsp;&#x22A2;&nbsp;&nbsp;</a><a class=\"ProveItLink\" href=\"../../__pv_it/theorems/c6244e76de3be0816f3efc36199d65e50f6589940/expr.ipynb\"><img src=\"data:image/png;base64,iVBORw0KGgoAAAANSUhEUgAAABwAAAAPBAMAAAAFYbKSAAAAMFBMVEX///8AAAAAAAAAAAAAAAAA\n",
       "AAAAAAAAAAAAAAAAAAAAAAAAAAAAAAAAAAAAAAAAAAAv3aB7AAAAD3RSTlMAmd0iq81UiTJ2ZkS7\n",
       "EO8Z3gX6AAAACXBIWXMAAA7EAAAOxAGVKw4bAAAAaUlEQVQI12NgQADmAAZkwPoBhZuPyhX5jMxj\n",
       "N/+BzLXk/IbMFWD7hcTjTuD4zsAgpAQEikAuIwPzF6iMCRDPERT5g+DyTmBg+ITgMgIpPSjXkIFh\n",
       "F5CKRzj/AZA4bwDl8Z7/eoEh5384AEaRFfDwb8v9AAAAAElFTkSuQmCC\n",
       "\" style=\"display:inline;vertical-align:middle;\" /></a></span>"
      ],
      "text/plain": [
       "{A in BOOLEAN, A => FALSE} |- [not](A)"
      ]
     },
     "metadata": {},
     "output_type": "display_data"
    }
   ],
   "source": [
    "Not(A).prove(assumptions=[Implies(A, FALSE),in_bool(A)])"
   ]
  },
  {
   "cell_type": "code",
   "execution_count": 23,
   "metadata": {},
   "outputs": [
    {
     "data": {
      "text/html": [
       "<span style=\"font-size:20px;\"><a class=\"ProveItLink\" href=\"../__pv_it/axioms/7f13bb5faea4aa2521226869e3d799f3406307a60/expr.ipynb\"><img src=\"data:image/png;base64,iVBORw0KGgoAAAANSUhEUgAAAD8AAAAQBAMAAABTi7oPAAAAMFBMVEX///8AAAAAAAAAAAAAAAAA\n",
       "AAAAAAAAAAAAAAAAAAAAAAAAAAAAAAAAAAAAAAAAAAAv3aB7AAAAD3RSTlMAIs1UmauJMnZmRLsQ\n",
       "3e++988cAAAACXBIWXMAAA7EAAAOxAGVKw4bAAAAq0lEQVQoz2NgAAEhBgJAH6so1wQYi/k/VgXM\n",
       "DTAWS7wAfgWJ+QVwUe4DmAoYG/oN4KLsGzAVsDDYT0AYPA1TwWKG+gQQ7XsXBO47YChwYJAPQHKb\n",
       "kQGaAo4tLvEbkBTw6C1AVXCCgYH/ApICoUQ0E4B28j5AuOGuIpobQAHK9AFhwGp0X8iBQucjXJRR\n",
       "AU3B6f86DMz7PyXAQxIaqCx37957e/duAEYEMKLxAUEeL4eOp3RtAAAAAElFTkSuQmCC\n",
       "\" style=\"display:inline;vertical-align:middle;\" /></a> <a class=\"ProveItLink\" href=\"../__pv_it/demonstrations/335430bf2716645b00f1fc3f7afbb29007f5261b0/proof.ipynb\" style=\"text-decoration: none\">&nbsp;&#x22A2;&nbsp;&nbsp;</a><a class=\"ProveItLink\" href=\"../__pv_it/theorems/27dadc34853560439593f08a214d3738ebdad7f10/expr.ipynb\"><img src=\"data:image/png;base64,iVBORw0KGgoAAAANSUhEUgAAADoAAAAUCAMAAADrw95cAAAAPFBMVEX///8AAAAAAAAAAAAAAAAA\n",
       "AAAAAAAAAAAAAAAAAAAAAAAAAAAAAAAAAAAAAAAAAAAAAAAAAAAAAAAAAAAo1xBWAAAAE3RSTlMA\n",
       "Is1UmauJMnZmRLsQ3e/n9enzhfMsDgAAAAlwSFlzAAAOxAAADsQBlSsOGwAAALdJREFUOMudktkS\n",
       "wyAIRUFxi9q05f//tUmXNFFaMt4nZThcYADYhAYkUQFVhqVoyLsqdSf3jVsW0RzaiI1dY45RMHWg\n",
       "oh49B8EUVRQjRLZd2tSbdiitw6Z+daii02IY2Le7nK/NLgWU1p7ZnTFt0JiJlg3ndlICDS2vD9cz\n",
       "pkf0XbxejrPe7t3dtOiU5Es08vXuUPyY5eM5WYL/aMnMz/J2fXjddGvyt6yHUZkySqZx0zpsCkHN\n",
       "eADi0wX7k439dgAAAABJRU5ErkJggg==\n",
       "\" style=\"display:inline;vertical-align:middle;\" /></a></span>"
      ],
      "text/plain": [
       "{A => FALSE} |- A != TRUE"
      ]
     },
     "metadata": {},
     "output_type": "display_data"
    }
   ],
   "source": [
    "Implies(A,FALSE).derive_via_contradiction(assumptions=[Implies(A, FALSE)])"
   ]
  },
  {
   "cell_type": "code",
   "execution_count": 24,
   "metadata": {},
   "outputs": [
    {
     "data": {
      "text/html": [
       "<span style=\"font-size:20px;\"><a class=\"ProveItLink\" href=\"../__pv_it/theorems/772185474b8a5bfd5acbd869d8a83b52f0a4f2b80/expr.ipynb\"><img src=\"data:image/png;base64,iVBORw0KGgoAAAANSUhEUgAAAF8AAAAVBAMAAADSoS/MAAAAMFBMVEX///8AAAAAAAAAAAAAAAAA\n",
       "AAAAAAAAAAAAAAAAAAAAAAAAAAAAAAAAAAAAAAAAAAAv3aB7AAAAD3RSTlMAmd0iq3ZUiRDNZu9E\n",
       "uzLWhN+VAAAACXBIWXMAAA7EAAAOxAGVKw4bAAABfklEQVQ4y2NgQAADBkIAVQVrApiyxKPhKAov\n",
       "HULNx6Zy7X8Xl7kPGFgXIIlxTABTbP+xmr2XgYHlHwPDDCQhRohuRn9sXmH+ysDA85GBYSGSGDeE\n",
       "Kq5/ABfibYCxuICmcwE1cTcgNGRCjAqIT4AL8V2AsVg+MDBwbgZiJE+IQ1zEkI8kthxu/QUGDieg\n",
       "1ewOCMlZYPIYw/sCEC2kBAL6AlDJ91dDPUEGcU2AyCgC2WpgGQEGeyRDGDKh7os3YGDbBQrDDRC+\n",
       "CRDvAUfeRUH/C8hhPfsAmL4NxKDQ4PuApqGVgYFfAUmDZTGE/gLE6wOAQYtkgxrERQxMGxB+UJoM\n",
       "Da5fQMIfaBkb1DRDIL4KxDxAj3F+QFhwFpbMPgM1/QR5Gsm9JUBsDYqtz4j4nQBlcAJtPQ1KFowF\n",
       "CA2PGBh6/89gYLv/Ey7IC410lvtfXDyvgVhMBxAamB5gpiAMESMkNpcAA2Eghcy5TFg9M3IcMfQS\n",
       "1sCLkvSZAwhqCGZgAAD2wFM/O/w06AAAAABJRU5ErkJggg==\n",
       "\" style=\"display:inline;vertical-align:middle;\" /></a> <a class=\"ProveItLink\" href=\"../__pv_it/demonstrations/9c48738bff81f8180275ac85d37c45251c59393e0/proof.ipynb\" style=\"text-decoration: none\">&nbsp;&#x22A2;&nbsp;&nbsp;</a><a class=\"ProveItLink\" href=\"../__pv_it/demonstrations/dd5a6fa797dcaf2dec856fef9be29bef6326bd0c0/expr.ipynb\"><img src=\"data:image/png;base64,iVBORw0KGgoAAAANSUhEUgAAAEAAAAAQBAMAAABUyWQaAAAAMFBMVEX///8AAAAAAAAAAAAAAAAA\n",
       "AAAAAAAAAAAAAAAAAAAAAAAAAAAAAAAAAAAAAAAAAAAv3aB7AAAAD3RSTlMAZrurzTLvInZEmRDd\n",
       "VIkafcLnAAAACXBIWXMAAA7EAAAOxAGVKw4bAAAA7UlEQVQoz2NgwAfYHUCk0H9jY6cArApYPoCp\n",
       "JAYG5q9YFdwHK2D/wcDA+QurgsXfQSQjUDfjD7gg0wY4k68ObDAz0ByWdLgoqwKcWcHxF0SxKTBw\n",
       "2yA5Ug7OWsD7EUTFa3SYCIAF1pwBgfMLoPKcF1j/gej+AgbeRGSnXbkAobkY2D+DaDUgfo8cDtxu\n",
       "E8B006rFn0A0SJV8A5KCkucQdUCxPyBXgxxiPwHhhjPuMBsYGI4BMQcwMFi/IBkwCUpPBGJ/UHgn\n",
       "MDBM80aPICANFGfQL2Bg1v9sbKKLZAATxL3c+l82MFz674clilG5AC5FPtYuFkkyAAAAAElFTkSu\n",
       "QmCC\n",
       "\" style=\"display:inline;vertical-align:middle;\" /></a></span>"
      ],
      "text/plain": [
       "{[not](A => B)} |- B => A"
      ]
     },
     "metadata": {},
     "output_type": "display_data"
    }
   ],
   "source": [
    "Implies(B,A).prove(assumptions=[Not(Implies(A,B))])"
   ]
  },
  {
   "cell_type": "code",
   "execution_count": 25,
   "metadata": {},
   "outputs": [
    {
     "data": {
      "text/html": [
       "<span style=\"font-size:20px;\"><a class=\"ProveItLink\" href=\"../__pv_it/demonstrations/d78c7a0a66f0f0f40e69d505fb93268ea9af46dc0/expr.ipynb\"><img src=\"data:image/png;base64,iVBORw0KGgoAAAANSUhEUgAAAEAAAAAQBAMAAABUyWQaAAAAMFBMVEX///8AAAAAAAAAAAAAAAAA\n",
       "AAAAAAAAAAAAAAAAAAAAAAAAAAAAAAAAAAAAAAAAAAAv3aB7AAAAD3RSTlMAIs1UmauJMnZmRLsQ\n",
       "3e++988cAAAACXBIWXMAAA7EAAAOxAGVKw4bAAAA8UlEQVQoz2NgAAEhBgJAH5vg7P+hodoFYCbz\n",
       "f6zaXjMwsH4Hs1jiBbDIM/5gYOD6AmYm5hcgxPfAGJxA3Zw/wEob+g0QCqphDNYPDAxMD8E2MNhP\n",
       "QCjgTIAy+DYw8MSCjV7MUA8WZLkLBl+gCup3dARBNDowyAcgOY5ZGUL3CzAwvwQxOLa4xG9Adv6h\n",
       "V2BqHxCDXX+CgYH/ArL31CCe/grE8xvANjDwPkBywyWIPPtPIBG/ABgWQIcwfUAYwAW1juMjUNEn\n",
       "IEMOiLk/IhTAIo4JaOo6HQaG0/91GJj3f0qAK9gODab9X0ODNmOLIrRoAQDyg0EOXpubEgAAAABJ\n",
       "RU5ErkJggg==\n",
       "\" style=\"display:inline;vertical-align:middle;\" /></a>, <a class=\"ProveItLink\" href=\"../__pv_it/demonstrations/dd5a6fa797dcaf2dec856fef9be29bef6326bd0c0/expr.ipynb\"><img src=\"data:image/png;base64,iVBORw0KGgoAAAANSUhEUgAAAEAAAAAQBAMAAABUyWQaAAAAMFBMVEX///8AAAAAAAAAAAAAAAAA\n",
       "AAAAAAAAAAAAAAAAAAAAAAAAAAAAAAAAAAAAAAAAAAAv3aB7AAAAD3RSTlMAZrurzTLvInZEmRDd\n",
       "VIkafcLnAAAACXBIWXMAAA7EAAAOxAGVKw4bAAAA7UlEQVQoz2NgwAfYHUCk0H9jY6cArApYPoCp\n",
       "JAYG5q9YFdwHK2D/wcDA+QurgsXfQSQjUDfjD7gg0wY4k68ObDAz0ByWdLgoqwKcWcHxF0SxKTBw\n",
       "2yA5Ug7OWsD7EUTFa3SYCIAF1pwBgfMLoPKcF1j/gej+AgbeRGSnXbkAobkY2D+DaDUgfo8cDtxu\n",
       "E8B006rFn0A0SJV8A5KCkucQdUCxPyBXgxxiPwHhhjPuMBsYGI4BMQcwMFi/IBkwCUpPBGJ/UHgn\n",
       "MDBM80aPICANFGfQL2Bg1v9sbKKLZAATxL3c+l82MFz674clilG5AC5FPtYuFkkyAAAAAElFTkSu\n",
       "QmCC\n",
       "\" style=\"display:inline;vertical-align:middle;\" /></a> <a class=\"ProveItLink\" href=\"../__pv_it/demonstrations/de908f9b0e7be38055f56b6d318c2cb568f362c90/proof.ipynb\" style=\"text-decoration: none\">&nbsp;&#x22A2;&nbsp;&nbsp;</a><a class=\"ProveItLink\" href=\"../__pv_it/theorems/354ec164e0e28f03ef1fb1858764e0da4a36a45b0/expr.ipynb\"><img src=\"data:image/png;base64,iVBORw0KGgoAAAANSUhEUgAAAEAAAAAQBAMAAABUyWQaAAAAMFBMVEX///8AAAAAAAAAAAAAAAAA\n",
       "AAAAAAAAAAAAAAAAAAAAAAAAAAAAAAAAAAAAAAAAAAAv3aB7AAAAD3RSTlMAIs1UmauJMnZmRLsQ\n",
       "3e++988cAAAACXBIWXMAAA7EAAAOxAGVKw4bAAABEklEQVQoz2NgAAEhBgJAH5vg7P+hodoFYCbz\n",
       "f6zaXjMwsH4Hs1jiBbDIM/5gYOD6AmYm5hdABRUYGNgDoGxOoG7OH2ClDf0GEDGOCUBiO1QB6wcG\n",
       "BqaHYBsY7CdAxKpBxKEDEA7fBgaeWLDRixnqE8BC7O/uAsE9HYiC+h0dQRCNDgzyEHu7IXqrIRb2\n",
       "CzAwvwRbvMUlfgOIcQ7qPJ6nYGofEINdf4KBgf8C2LFhEAVCEAu/AvH8BrANDLwPIB67CwbXIQ76\n",
       "CSTiFwDDAugQpg8QvVNABBMk1Dg+AhV9AjLkgJj7I9TrQA0MXhA2E9DUdUAPnf6vw8C8/xPEWh5g\n",
       "SDJugKjd/zU0aDNG+INMP4AiAgCe/UbsFJCeOgAAAABJRU5ErkJggg==\n",
       "\" style=\"display:inline;vertical-align:middle;\" /></a></span>"
      ],
      "text/plain": [
       "{A => B, B => A} |- A <=> B"
      ]
     },
     "metadata": {},
     "output_type": "display_data"
    }
   ],
   "source": [
    "Iff(A, B).prove(assumptions=[Implies(A,B), Implies(B,A)])"
   ]
  },
  {
   "cell_type": "code",
   "execution_count": 26,
   "metadata": {},
   "outputs": [
    {
     "data": {
      "text/html": [
       "<span style=\"font-size:20px;\"><a class=\"ProveItLink\" href=\"../__pv_it/theorems/79066e488045f28a7b4bd83c42526d2d065ae2c70/expr.ipynb\"><img src=\"data:image/png;base64,iVBORw0KGgoAAAANSUhEUgAAAF8AAAAVBAMAAADSoS/MAAAAMFBMVEX///8AAAAAAAAAAAAAAAAA\n",
       "AAAAAAAAAAAAAAAAAAAAAAAAAAAAAAAAAAAAAAAAAAAv3aB7AAAAD3RSTlMAmd0iq3ZUiRDNZu9E\n",
       "uzLWhN+VAAAACXBIWXMAAA7EAAAOxAGVKw4bAAABfElEQVQ4y2NgQAADBkIAVQVrAl7FzBMYGI6i\n",
       "iKQD8dr/Li5zH2DVwPkBaOYCJAGOCSByLwMDyz+sGvKBGhhmIAkwgnQzf2Vg4PmIVYPIZyCxEEmA\n",
       "G0RwAU3n+goX422AM9nNQRZzIwQYMkEEC9Bezs1wMb4LcKYp6zeQR5A8IQ625gIDhxOSp5fDWQJs\n",
       "v0D2OCDkZoGI91dDPSGGCCmBgL4AVJYnge87yMkTIBKKQLYaSDzegIFtF7JXM6GRw8jA/AVIsW2A\n",
       "cE2AeA+IcRuI65HjgWP2ATAdKyjyF+SpD2gaQKasD0DSYFkM0QcU+wRyGZINICfxgTzmfwDhB6XJ\n",
       "MBcxMGiDnKQA4RsC8VVQcgJGDt9PJAvOQulTQDwf5GlEODOUgIIZaOPpGagJDkyDXHIfmFYZCxCS\n",
       "j4DRdv+Li+c1JAt4If7nuP+zgSH3/3QGBqYDCEkmLImUGV3ACInNJcBAGEghcy4TVs98AZnXS1gD\n",
       "L0oeZQ4gqCGYgQEAbHVTxohxDb4AAAAASUVORK5CYII=\n",
       "\" style=\"display:inline;vertical-align:middle;\" /></a> <a class=\"ProveItLink\" href=\"../__pv_it/demonstrations/6327854f280ebbd610b53bfcb615dd504f00f9e90/proof.ipynb\" style=\"text-decoration: none\">&nbsp;&#x22A2;&nbsp;&nbsp;</a><a class=\"ProveItLink\" href=\"../__pv_it/demonstrations/a7fa5e545cb28aef68378d655336cf6e91702e3b0/expr.ipynb\"><img src=\"data:image/png;base64,iVBORw0KGgoAAAANSUhEUgAAAF8AAAAVBAMAAADSoS/MAAAAMFBMVEX///8AAAAAAAAAAAAAAAAA\n",
       "AAAAAAAAAAAAAAAAAAAAAAAAAAAAAAAAAAAAAAAAAAAv3aB7AAAAD3RSTlMAmd0iq3ZUiRDNZu9E\n",
       "uzLWhN+VAAAACXBIWXMAAA7EAAAOxAGVKw4bAAABl0lEQVQ4y2NgQAADBkIAVQVrAl7FzBMYGI6i\n",
       "iKQD8dr/Li5zH2DVwPkBaOYCJAGOCSByLwMDyz+sGvKBGhhmIAkwgnQzf2Vg4PmIVYPIZyCxEEmA\n",
       "G0RwAU3n+gp1AxA/gUuzm4Ms5m5AaMgEESxAezk3QwSigJgX7h9T1m8gQ5A8IQ625gIDhxNEEd8F\n",
       "kMfgjhZg+wWyxwGhYRaIeH811BNqyOtNSkCwE+oGngS+7yAnT2AQAgkrAtlqIPF4Awa2XZBYuQGx\n",
       "5xo0SBiYvwAptg0QrgkQ7wExbgNxPchJHFugFndDHBErKPIXpP8DmgaQKesDwEIFkPidDokkoNgn\n",
       "kMuQbAA5iQ/kMf8DYLFFSmDwAOoiBgZtkJMUIBoMgfgqyOHAyOH7CRHjEgCRkyGcU0A8HyR4ARFK\n",
       "JaBgBtp4GhaSPiCTIbYxg1xyH5hWGQsQGh4Bo+3+FxfPazCBTiC2hfjg/s8Ghtz/QO8wHUBoYEJP\n",
       "pMwgpWhiRkhsiJsJAClkzmXC6pkvIPN6CWvgRcmjzAEENQQzMAAAndNaj1KJfEYAAAAASUVORK5C\n",
       "YII=\n",
       "\" style=\"display:inline;vertical-align:middle;\" /></a></span>"
      ],
      "text/plain": [
       "{[not](B => A)} |- [not](B <=> A)"
      ]
     },
     "metadata": {},
     "output_type": "display_data"
    }
   ],
   "source": [
    "Not(Iff(B,A)).prove(assumptions=[Not(Implies(B,A))])"
   ]
  },
  {
   "cell_type": "code",
   "execution_count": 27,
   "metadata": {},
   "outputs": [
    {
     "data": {
      "text/html": [
       "<span style=\"font-size:20px;\"><a class=\"ProveItLink\" href=\"../__pv_it/theorems/772185474b8a5bfd5acbd869d8a83b52f0a4f2b80/expr.ipynb\"><img src=\"data:image/png;base64,iVBORw0KGgoAAAANSUhEUgAAAF8AAAAVBAMAAADSoS/MAAAAMFBMVEX///8AAAAAAAAAAAAAAAAA\n",
       "AAAAAAAAAAAAAAAAAAAAAAAAAAAAAAAAAAAAAAAAAAAv3aB7AAAAD3RSTlMAmd0iq3ZUiRDNZu9E\n",
       "uzLWhN+VAAAACXBIWXMAAA7EAAAOxAGVKw4bAAABfklEQVQ4y2NgQAADBkIAVQVrApiyxKPhKAov\n",
       "HULNx6Zy7X8Xl7kPGFgXIIlxTABTbP+xmr2XgYHlHwPDDCQhRohuRn9sXmH+ysDA85GBYSGSGDeE\n",
       "Kq5/ABfibYCxuICmcwE1cTcgNGRCjAqIT4AL8V2AsVg+MDBwbgZiJE+IQ1zEkI8kthxu/QUGDieg\n",
       "1ewOCMlZYPIYw/sCEC2kBAL6AlDJ91dDPUEGcU2AyCgC2WpgGQEGeyRDGDKh7os3YGDbBQrDDRC+\n",
       "CRDvAUfeRUH/C8hhPfsAmL4NxKDQ4PuApqGVgYFfAUmDZTGE/gLE6wOAQYtkgxrERQxMGxB+UJoM\n",
       "Da5fQMIfaBkb1DRDIL4KxDxAj3F+QFhwFpbMPgM1/QR5Gsm9JUBsDYqtz4j4nQBlcAJtPQ1KFowF\n",
       "CA2PGBh6/89gYLv/Ey7IC410lvtfXDyvgVhMBxAamB5gpiAMESMkNpcAA2Eghcy5TFg9M3IcMfQS\n",
       "1sCLkvSZAwhqCGZgAAD2wFM/O/w06AAAAABJRU5ErkJggg==\n",
       "\" style=\"display:inline;vertical-align:middle;\" /></a> <a class=\"ProveItLink\" href=\"../__pv_it/demonstrations/f82a0676b622a9a40e1dcb2ced45cde5894358670/proof.ipynb\" style=\"text-decoration: none\">&nbsp;&#x22A2;&nbsp;&nbsp;</a><a class=\"ProveItLink\" href=\"../__pv_it/demonstrations/a7fa5e545cb28aef68378d655336cf6e91702e3b0/expr.ipynb\"><img src=\"data:image/png;base64,iVBORw0KGgoAAAANSUhEUgAAAF8AAAAVBAMAAADSoS/MAAAAMFBMVEX///8AAAAAAAAAAAAAAAAA\n",
       "AAAAAAAAAAAAAAAAAAAAAAAAAAAAAAAAAAAAAAAAAAAv3aB7AAAAD3RSTlMAmd0iq3ZUiRDNZu9E\n",
       "uzLWhN+VAAAACXBIWXMAAA7EAAAOxAGVKw4bAAABl0lEQVQ4y2NgQAADBkIAVQVrAl7FzBMYGI6i\n",
       "iKQD8dr/Li5zH2DVwPkBaOYCJAGOCSByLwMDyz+sGvKBGhhmIAkwgnQzf2Vg4PmIVYPIZyCxEEmA\n",
       "G0RwAU3n+gp1AxA/gUuzm4Ms5m5AaMgEESxAezk3QwSigJgX7h9T1m8gQ5A8IQ625gIDhxNEEd8F\n",
       "kMfgjhZg+wWyxwGhYRaIeH811BNqyOtNSkCwE+oGngS+7yAnT2AQAgkrAtlqIPF4Awa2XZBYuQGx\n",
       "5xo0SBiYvwAptg0QrgkQ7wExbgNxPchJHFugFndDHBErKPIXpP8DmgaQKesDwEIFkPidDokkoNgn\n",
       "kMuQbAA5iQ/kMf8DYLFFSmDwAOoiBgZtkJMUIBoMgfgqyOHAyOH7CRHjEgCRkyGcU0A8HyR4ARFK\n",
       "JaBgBtp4GhaSPiCTIbYxg1xyH5hWGQsQGh4Bo+3+FxfPazCBTiC2hfjg/s8Ghtz/QO8wHUBoYEJP\n",
       "pMwgpWhiRkhsiJsJAClkzmXC6pkvIPN6CWvgRcmjzAEENQQzMAAAndNaj1KJfEYAAAAASUVORK5C\n",
       "YII=\n",
       "\" style=\"display:inline;vertical-align:middle;\" /></a></span>"
      ],
      "text/plain": [
       "{[not](A => B)} |- [not](B <=> A)"
      ]
     },
     "metadata": {},
     "output_type": "display_data"
    }
   ],
   "source": [
    "Not(Iff(B,A)).prove(assumptions=[Not(Implies(A,B))])"
   ]
  },
  {
   "cell_type": "code",
   "execution_count": 28,
   "metadata": {},
   "outputs": [
    {
     "data": {
      "text/html": [
       "<span style=\"font-size:20px;\"> <a class=\"ProveItLink\" href=\"proofs/true_iff_true/thm_proof.ipynb\" style=\"text-decoration: none\">&nbsp;&#x22A2;&nbsp;&nbsp;</a><a class=\"ProveItLink\" href=\"../__pv_it/theorems/8f6dffd8b2db0d6966645dd9a8ccf8fbfd0dc1460/expr.ipynb\"><img src=\"data:image/png;base64,iVBORw0KGgoAAAANSUhEUgAAAD8AAAAPBAMAAAChCwpBAAAAMFBMVEX///8AAAAAAAAAAAAAAAAA\n",
       "AAAAAAAAAAAAAAAAAAAAAAAAAAAAAAAAAAAAAAAAAAAv3aB7AAAAD3RSTlMAmd2rVHZEZs0yuxDv\n",
       "IolvTPF0AAAACXBIWXMAAA7EAAAOxAGVKw4bAAAAfUlEQVQY02MQUgIBZQZ0wAgWVzIAsV0ZsAOW\n",
       "ACiDBAUcQDwZn4JwIOaagFsB5wIgwd2NW8GcQyCHn9iASwHraog5S3Ao4D4M5e8xwGHC5QdgircP\n",
       "pxuKIKE3AacCdgEQ2YsnHMxAkZCAoSAdrmAHEN+C89gKMEKfF+QZVCEAo1saJ7kfrnsAAAAASUVO\n",
       "RK5CYII=\n",
       "\" style=\"display:inline;vertical-align:middle;\" /></a></span>"
      ],
      "text/plain": [
       "|- TRUE <=> TRUE"
      ]
     },
     "metadata": {},
     "output_type": "display_data"
    }
   ],
   "source": [
    "Iff(TRUE, TRUE).prove()"
   ]
  },
  {
   "cell_type": "code",
   "execution_count": 29,
   "metadata": {},
   "outputs": [
    {
     "data": {
      "text/html": [
       "<span style=\"font-size:20px;\"> <a class=\"ProveItLink\" href=\"proofs/iff_t_t/thm_proof.ipynb\" style=\"text-decoration: none\">&nbsp;&#x22A2;&nbsp;&nbsp;</a><a class=\"ProveItLink\" href=\"../__pv_it/theorems/64c045ac9d944a7fce8e0f883e7e54869f907e280/expr.ipynb\"><img src=\"data:image/png;base64,iVBORw0KGgoAAAANSUhEUgAAAHoAAAAVBAMAAAB71edYAAAAMFBMVEX///8AAAAAAAAAAAAAAAAA\n",
       "AAAAAAAAAAAAAAAAAAAAAAAAAAAAAAAAAAAAAAAAAAAv3aB7AAAAD3RSTlMAInZUiRDNmWbv3US7\n",
       "qzJazP2FAAAACXBIWXMAAA7EAAAOxAGVKw4bAAABCklEQVQ4y2NgYBBgIATwqGAyIKh7E24pEwaG\n",
       "qlUgsBZDCibO1IBLhjUBzDXCYTZEPBWXDHsDEbrbcclwMqDpBrqF7wKabs4AHLrN0HSD/XgOTTdb\n",
       "Aw7dJWi634CIsABU3SwXcOjOQNXNNxMUmCtTUXVzJCAHNJLMYlTdOhBb3xig6GaegMPu2Si6I6FO\n",
       "ZJ2LopvvA1G6Ga9AaDEHFN3cuOxGczkH2G+r1qH6m3kBDn8fQgtzcMJgE0ALtQM47PZF0827AUhU\n",
       "o8U3uwMO3a8g7B0wQVC6Z0RYBRHn2oCpGyzD9QBLZkZPmFK4MihHAQNhUIFT5iBhzYwHcErFENbN\n",
       "g7toYlQgqFsRlwQAKo1Iq1DDg4wAAAAASUVORK5CYII=\n",
       "\" style=\"display:inline;vertical-align:middle;\" /></a></span>"
      ],
      "text/plain": [
       "|- (TRUE <=> TRUE) = TRUE"
      ]
     },
     "metadata": {},
     "output_type": "display_data"
    }
   ],
   "source": [
    "Equals(Iff(TRUE, TRUE), TRUE).prove()"
   ]
  },
  {
   "cell_type": "code",
   "execution_count": 30,
   "metadata": {},
   "outputs": [
    {
     "data": {
      "text/html": [
       "<span style=\"font-size:20px;\"> <a class=\"ProveItLink\" href=\"proofs/false_iff_false/thm_proof.ipynb\" style=\"text-decoration: none\">&nbsp;&#x22A2;&nbsp;&nbsp;</a><a class=\"ProveItLink\" href=\"../__pv_it/theorems/3c8d2e6d203b8fdc322a1cd6633c5de822b6112c0/expr.ipynb\"><img src=\"data:image/png;base64,iVBORw0KGgoAAAANSUhEUgAAAD8AAAAQBAMAAABTi7oPAAAAMFBMVEX///8AAAAAAAAAAAAAAAAA\n",
       "AAAAAAAAAAAAAAAAAAAAAAAAAAAAAAAAAAAAAAAAAAAv3aB7AAAAD3RSTlMARGZUdpnd76vNMrsQ\n",
       "Ioms8APJAAAACXBIWXMAAA7EAAAOxAGVKw4bAAAAg0lEQVQoz2NgIAII4RBnVIAyTHAoYHYgXQEn\n",
       "EK/Ap8AJiLkX4FbAtQFI8MzBrWB5WRoQVB7ApYBlD8SczTgU8FRA+ccbcJhw4wGY4p2H0w1qaWCw\n",
       "AKcCpgAQORdPODQCMasAqoKwtLTytLQMiNBJIL4NYbKmpaUDfd2AGvq8IM+gCgEA4rcelCD+8wQA\n",
       "AAAASUVORK5CYII=\n",
       "\" style=\"display:inline;vertical-align:middle;\" /></a></span>"
      ],
      "text/plain": [
       "|- FALSE <=> FALSE"
      ]
     },
     "metadata": {},
     "output_type": "display_data"
    }
   ],
   "source": [
    "Iff(FALSE, FALSE).prove()"
   ]
  },
  {
   "cell_type": "code",
   "execution_count": 31,
   "metadata": {},
   "outputs": [
    {
     "data": {
      "text/html": [
       "<span style=\"font-size:20px;\"> <a class=\"ProveItLink\" href=\"proofs/iff_f_f/thm_proof.ipynb\" style=\"text-decoration: none\">&nbsp;&#x22A2;&nbsp;&nbsp;</a><a class=\"ProveItLink\" href=\"../__pv_it/theorems/4ca8b4be1637173bd398970525d573ab329b192f0/expr.ipynb\"><img src=\"data:image/png;base64,iVBORw0KGgoAAAANSUhEUgAAAHoAAAAVBAMAAAB71edYAAAAMFBMVEX///8AAAAAAAAAAAAAAAAA\n",
       "AAAAAAAAAAAAAAAAAAAAAAAAAAAAAAAAAAAAAAAAAAAv3aB7AAAAD3RSTlMAInZUiRDNmWbv3US7\n",
       "qzJazP2FAAAACXBIWXMAAA7EAAAOxAGVKw4bAAABDUlEQVQ4y2NgYBBgIATwqGAyIKh7E24pEzC5\n",
       "A4csWJypAV24ahUIrGVgTQBzjXDohoin4pJhbyBCdzsuGU4GNN1At/BdQNPNGYBDtxmabrAfz6Hp\n",
       "ZmvAobsETfcbEBEWgKqb5QIO3RmouvlmggJzZSqqbo4E5IBGklmMqlsHYusbAxTdzBNw2D0bRXck\n",
       "1Imsc1F0830gSjfjFQgt5oCimxuX3Wgu5wD7bdU6VH8zL8Dh70NoYQ5OGGwCaKF2AIfdvmi6eTcA\n",
       "iWq0+GZ3wKH7FcRJM2FOAqV7xgPwvAAR59qAI/9wPcCSmdETphSuDMpRwEAYVOCUOUhYM+MBnFIx\n",
       "hHXz4C6aGBUI6lbEJQEAVxlIiZ3hgnEAAAAASUVORK5CYII=\n",
       "\" style=\"display:inline;vertical-align:middle;\" /></a></span>"
      ],
      "text/plain": [
       "|- (FALSE <=> FALSE) = TRUE"
      ]
     },
     "metadata": {},
     "output_type": "display_data"
    }
   ],
   "source": [
    "Equals(Iff(FALSE, FALSE), TRUE).prove()"
   ]
  },
  {
   "cell_type": "code",
   "execution_count": 32,
   "metadata": {},
   "outputs": [
    {
     "data": {
      "text/html": [
       "<span style=\"font-size:20px;\"> <a class=\"ProveItLink\" href=\"proofs/iff_t_f/thm_proof.ipynb\" style=\"text-decoration: none\">&nbsp;&#x22A2;&nbsp;&nbsp;</a><a class=\"ProveItLink\" href=\"../__pv_it/theorems/8565aa5a5da07d04c31e23567ca033d7e70794450/expr.ipynb\"><img src=\"data:image/png;base64,iVBORw0KGgoAAAANSUhEUgAAAHoAAAAVBAMAAAB71edYAAAAMFBMVEX///8AAAAAAAAAAAAAAAAA\n",
       "AAAAAAAAAAAAAAAAAAAAAAAAAAAAAAAAAAAAAAAAAAAv3aB7AAAAD3RSTlMAInZUiRDNmWbv3US7\n",
       "qzJazP2FAAAACXBIWXMAAA7EAAAOxAGVKw4bAAABDUlEQVQ4y2NgYBBgIATwqGAyIKh7E24pEwaG\n",
       "qlUgsBab7A6wBQ24ZFgTwGwjHGZDxFNxybA3EKG7HZcMJwOabqBb+C6g6eYMwKHbDE032I/n0HSz\n",
       "NeDQXYKm+w2ICAtA1c1yAYfuDFTdfDNBwb8yFVU3BzhoUaMGLLMYVbcOxNY3Bii6mSfgsHs2iu5I\n",
       "qBNZ56Lo5vtAlG7GKxBazAFFNzcuu9FczgH226p1qP5mXoDD34fQwhycMNgE0ELtAA67fdF0824A\n",
       "EtVo8c3ugEP3K6Q0D0v3jFCrgE6dCXYq1wY0rTAZrgdYMjN6wpTClUE5ChgIgwqcMgcJa2Y8gFMq\n",
       "hrBuHtxFE6MCQd2KuCQAWmtIibof9pUAAAAASUVORK5CYII=\n",
       "\" style=\"display:inline;vertical-align:middle;\" /></a></span>"
      ],
      "text/plain": [
       "|- (TRUE <=> FALSE) = FALSE"
      ]
     },
     "metadata": {},
     "output_type": "display_data"
    }
   ],
   "source": [
    "Equals(Iff(TRUE, FALSE), FALSE).prove()"
   ]
  },
  {
   "cell_type": "code",
   "execution_count": 33,
   "metadata": {},
   "outputs": [
    {
     "data": {
      "text/html": [
       "<span style=\"font-size:20px;\"> <a class=\"ProveItLink\" href=\"../__pv_it/demonstrations/4e6b098274f6267419c2e7ddfdec68b66c6a917b0/proof.ipynb\" style=\"text-decoration: none\">&nbsp;&#x22A2;&nbsp;&nbsp;</a><a class=\"ProveItLink\" href=\"../__pv_it/demonstrations/04042e00d3bd31198cf1146377891d87d00fb8eb0/expr.ipynb\"><img src=\"data:image/png;base64,iVBORw0KGgoAAAANSUhEUgAAAF4AAAAVBAMAAAA9Y0TyAAAAMFBMVEX///8AAAAAAAAAAAAAAAAA\n",
       "AAAAAAAAAAAAAAAAAAAAAAAAAAAAAAAAAAAAAAAAAAAv3aB7AAAAD3RSTlMAmd0iq3ZUiRDNZu9E\n",
       "uzLWhN+VAAAACXBIWXMAAA7EAAAOxAGVKw4bAAABCUlEQVQoz2NgQAADBgKAGYXHmkBIPU8AMi+d\n",
       "gVEJDBywKV0AIqOQRDgmgEi2AOxGQ8Q5GxAijAsIq+cSQIhwM6CpB9rH54CqnmEHQn0mmnpWkH33\n",
       "0NTPQqgXR1P/FkR0NqCqL0Gon4Wqnm83KKi0Z6CqX8kgBBJWBDLVUNXHQkx+m4CiPhvCMwHiPSjq\n",
       "u6E+5diCov49LvXM7hDasgBF/WmEejT3cEHiWg/V/UkQniEQX0ULn4XgCDVAVb8WET4laOpZDgAJ\n",
       "GbTwF0eof4SUrmDpifkCJKkAA3YTOB3qINQzPUBLMiCnNKBlAAUEGzkt4QKMC5A4lwmrt0Xm9BJW\n",
       "j2IkcwAh5awGDAAU2DDPBnB5IQAAAABJRU5ErkJggg==\n",
       "\" style=\"display:inline;vertical-align:middle;\" /></a></span>"
      ],
      "text/plain": [
       "|- [not](TRUE <=> FALSE)"
      ]
     },
     "metadata": {},
     "output_type": "display_data"
    }
   ],
   "source": [
    "Not(Iff(TRUE, FALSE)).prove()"
   ]
  },
  {
   "cell_type": "code",
   "execution_count": 34,
   "metadata": {},
   "outputs": [
    {
     "data": {
      "text/html": [
       "<span style=\"font-size:20px;\"> <a class=\"ProveItLink\" href=\"proofs/iff_f_t/thm_proof.ipynb\" style=\"text-decoration: none\">&nbsp;&#x22A2;&nbsp;&nbsp;</a><a class=\"ProveItLink\" href=\"../__pv_it/theorems/d299dcf582f22b8136620d62e52412141024c17c0/expr.ipynb\"><img src=\"data:image/png;base64,iVBORw0KGgoAAAANSUhEUgAAAHoAAAAVBAMAAAB71edYAAAAMFBMVEX///8AAAAAAAAAAAAAAAAA\n",
       "AAAAAAAAAAAAAAAAAAAAAAAAAAAAAAAAAAAAAAAAAAAv3aB7AAAAD3RSTlMAInZUiRDNmWbv3US7\n",
       "qzJazP2FAAAACXBIWXMAAA7EAAAOxAGVKw4bAAABDklEQVQ4y2NgYBBgIATwqGAyIKh7E24pEzC5\n",
       "A5tU1SoQWMvA1IBFEqyDNQHMNsJhNkQ8FZcMewMRuttxyXAyoOkGuoXvAppuzgAcus3QdIP9eA5N\n",
       "N1sDDt0laLrfgIiwAFTdLBdw6M5A1c03ExTMK1NRdXMkIEcBksxiVN06EFvfGKDoZp6Aw+7ZKLoj\n",
       "oU5knYuim+8DUboZr0BoMQcU3dy47EZzOQfYb6vWofqbeQEOfx9CC3NwwmATQAu1Azjs9kXTzbsB\n",
       "SFSjxTe7Aw7dryBOmglzEijdMx5AzQsMXBsw8w9YB9cDLJkZPWFK4cqgHAUMhEEFTpmDhDUzHsAp\n",
       "FUNYNw/uoolRgaBuRVwSAFjTSInTGHGlAAAAAElFTkSuQmCC\n",
       "\" style=\"display:inline;vertical-align:middle;\" /></a></span>"
      ],
      "text/plain": [
       "|- (FALSE <=> TRUE) = FALSE"
      ]
     },
     "metadata": {},
     "output_type": "display_data"
    }
   ],
   "source": [
    "Equals(Iff(FALSE, TRUE), FALSE).prove()"
   ]
  },
  {
   "cell_type": "code",
   "execution_count": 35,
   "metadata": {},
   "outputs": [
    {
     "data": {
      "text/html": [
       "<span style=\"font-size:20px;\"> <a class=\"ProveItLink\" href=\"../__pv_it/demonstrations/82b3178c6dc1ead75f9a9da4050a940618958b350/proof.ipynb\" style=\"text-decoration: none\">&nbsp;&#x22A2;&nbsp;&nbsp;</a><a class=\"ProveItLink\" href=\"../__pv_it/demonstrations/d5458e279702f622f2ff7bac292c9a9530a142870/expr.ipynb\"><img src=\"data:image/png;base64,iVBORw0KGgoAAAANSUhEUgAAAF4AAAAVBAMAAAA9Y0TyAAAAMFBMVEX///8AAAAAAAAAAAAAAAAA\n",
       "AAAAAAAAAAAAAAAAAAAAAAAAAAAAAAAAAAAAAAAAAAAv3aB7AAAAD3RSTlMAmd0iq3ZUiRDNZu9E\n",
       "uzLWhN+VAAAACXBIWXMAAA7EAAAOxAGVKw4bAAABCklEQVQoz2NgQAADBgKAGYXHmkBIPU8AMi8d\n",
       "LLQAizpGJTBwYIhCEuSYACLZArAbDRHnbEAyZAFh9VwCCBFuBjT1QPv4HFDVM+xAqM9EU88Ksu8e\n",
       "mvpZCPXiaOrfgojOBlT1JQj1s1DV8+0GBYn2DFT1KxmEQMKKQKYaqvpYiMlvE1DUZ0N4JkC8B0V9\n",
       "N9SnHFtQ1L/HpZ7ZHUJbFqCoP41Qj+YeLkic6qG6PwnCMwTiq2jhsxAcoQao6tciwqcETT3LASAh\n",
       "gxb+4gj1j8DpSnsTKF3B0hPzBXjShKRDHYR6pgdoSQbklAa0DKCAYCOnJVyAETm1Xyas3haZ00tY\n",
       "PYqRzAGElLMaMAAAIzAwz41AiZIAAAAASUVORK5CYII=\n",
       "\" style=\"display:inline;vertical-align:middle;\" /></a></span>"
      ],
      "text/plain": [
       "|- [not](FALSE <=> TRUE)"
      ]
     },
     "metadata": {},
     "output_type": "display_data"
    }
   ],
   "source": [
    "Not(Iff(FALSE, TRUE)).prove()"
   ]
  },
  {
   "cell_type": "code",
   "execution_count": 36,
   "metadata": {},
   "outputs": [
    {
     "data": {
      "text/html": [
       "<span style=\"font-size:20px;\"><a class=\"ProveItLink\" href=\"../__pv_it/theorems/354ec164e0e28f03ef1fb1858764e0da4a36a45b0/expr.ipynb\"><img src=\"data:image/png;base64,iVBORw0KGgoAAAANSUhEUgAAAEAAAAAQBAMAAABUyWQaAAAAMFBMVEX///8AAAAAAAAAAAAAAAAA\n",
       "AAAAAAAAAAAAAAAAAAAAAAAAAAAAAAAAAAAAAAAAAAAv3aB7AAAAD3RSTlMAIs1UmauJMnZmRLsQ\n",
       "3e++988cAAAACXBIWXMAAA7EAAAOxAGVKw4bAAABEklEQVQoz2NgAAEhBgJAH5vg7P+hodoFYCbz\n",
       "f6zaXjMwsH4Hs1jiBbDIM/5gYOD6AmYm5hdABRUYGNgDoGxOoG7OH2ClDf0GEDGOCUBiO1QB6wcG\n",
       "BqaHYBsY7CdAxKpBxKEDEA7fBgaeWLDRixnqE8BC7O/uAsE9HYiC+h0dQRCNDgzyEHu7IXqrIRb2\n",
       "CzAwvwRbvMUlfgOIcQ7qPJ6nYGofEINdf4KBgf8C2LFhEAVCEAu/AvH8BrANDLwPIB67CwbXIQ76\n",
       "CSTiFwDDAugQpg8QvVNABBMk1Dg+AhV9AjLkgJj7I9TrQA0MXhA2E9DUdUAPnf6vw8C8/xPEWh5g\n",
       "SDJugKjd/zU0aDNG+INMP4AiAgCe/UbsFJCeOgAAAABJRU5ErkJggg==\n",
       "\" style=\"display:inline;vertical-align:middle;\" /></a> <a class=\"ProveItLink\" href=\"../__pv_it/demonstrations/10dae60f425bca22d3f632cc84ffbe6b7131df330/proof.ipynb\" style=\"text-decoration: none\">&nbsp;&#x22A2;&nbsp;&nbsp;</a><a class=\"ProveItLink\" href=\"../__pv_it/demonstrations/d78c7a0a66f0f0f40e69d505fb93268ea9af46dc0/expr.ipynb\"><img src=\"data:image/png;base64,iVBORw0KGgoAAAANSUhEUgAAAEAAAAAQBAMAAABUyWQaAAAAMFBMVEX///8AAAAAAAAAAAAAAAAA\n",
       "AAAAAAAAAAAAAAAAAAAAAAAAAAAAAAAAAAAAAAAAAAAv3aB7AAAAD3RSTlMAIs1UmauJMnZmRLsQ\n",
       "3e++988cAAAACXBIWXMAAA7EAAAOxAGVKw4bAAAA8UlEQVQoz2NgAAEhBgJAH5vg7P+hodoFYCbz\n",
       "f6zaXjMwsH4Hs1jiBbDIM/5gYOD6AmYm5hcgxPfAGJxA3Zw/wEob+g0QCqphDNYPDAxMD8E2MNhP\n",
       "QCjgTIAy+DYw8MSCjV7MUA8WZLkLBl+gCup3dARBNDowyAcgOY5ZGUL3CzAwvwQxOLa4xG9Adv6h\n",
       "V2BqHxCDXX+CgYH/ArL31CCe/grE8xvANjDwPkBywyWIPPtPIBG/ABgWQIcwfUAYwAW1juMjUNEn\n",
       "IEMOiLk/IhTAIo4JaOo6HQaG0/91GJj3f0qAK9gODab9X0ODNmOLIrRoAQDyg0EOXpubEgAAAABJ\n",
       "RU5ErkJggg==\n",
       "\" style=\"display:inline;vertical-align:middle;\" /></a></span>"
      ],
      "text/plain": [
       "{A <=> B} |- A => B"
      ]
     },
     "metadata": {},
     "output_type": "display_data"
    }
   ],
   "source": [
    "Implies(A,B).prove(assumptions=[Iff(A,B)])"
   ]
  },
  {
   "cell_type": "code",
   "execution_count": 37,
   "metadata": {},
   "outputs": [
    {
     "data": {
      "text/html": [
       "<span style=\"font-size:20px;\"><a class=\"ProveItLink\" href=\"../__pv_it/theorems/8cbf2a2968f9870ab60a3a8ba5e3880f76e61c500/expr.ipynb\"><img src=\"data:image/png;base64,iVBORw0KGgoAAAANSUhEUgAAAEAAAAAQBAMAAABUyWQaAAAAMFBMVEX///8AAAAAAAAAAAAAAAAA\n",
       "AAAAAAAAAAAAAAAAAAAAAAAAAAAAAAAAAAAAAAAAAAAv3aB7AAAAD3RSTlMAZrurzTLvInZEmRDd\n",
       "VIkafcLnAAAACXBIWXMAAA7EAAAOxAGVKw4bAAABCklEQVQoz2NgwAfYHUCk0H9jY6cArApYPoCp\n",
       "JAYG5q9YFdwHK2D/wcDA+QurgsXfQSQjUDfjD6iZQBwMl+erAxvMDDSHJR0i1AjETHD3VHD8BVFs\n",
       "CgzcNhBBVgUgwe0NU7CA9yOIitfoMBGAiITlnAGClA0QHucF1n8gur+AgTcRLMKhDTFHF6KAi4H9\n",
       "M4hWA+L3ICu4k6FGbzMAU02rFn8C0SBV8g0gVvEDSPj5gSluoNgfkIEgh9hPAIvJnAGDAKgNDAzH\n",
       "QBYDA4P1C8RsxgUg0h3CmQjE/qCwSWBgmAbzmSVIJ8Q0dqA4g34BA7P+Z2MTXZjPtwBxEcQF+l82\n",
       "MFz674cevyApFBEAbyc/MNF+N00AAAAASUVORK5CYII=\n",
       "\" style=\"display:inline;vertical-align:middle;\" /></a> <a class=\"ProveItLink\" href=\"../__pv_it/demonstrations/482fe63dbf455e7420eeb3986ae751c30e69ecb70/proof.ipynb\" style=\"text-decoration: none\">&nbsp;&#x22A2;&nbsp;&nbsp;</a><a class=\"ProveItLink\" href=\"../__pv_it/demonstrations/d78c7a0a66f0f0f40e69d505fb93268ea9af46dc0/expr.ipynb\"><img src=\"data:image/png;base64,iVBORw0KGgoAAAANSUhEUgAAAEAAAAAQBAMAAABUyWQaAAAAMFBMVEX///8AAAAAAAAAAAAAAAAA\n",
       "AAAAAAAAAAAAAAAAAAAAAAAAAAAAAAAAAAAAAAAAAAAv3aB7AAAAD3RSTlMAIs1UmauJMnZmRLsQ\n",
       "3e++988cAAAACXBIWXMAAA7EAAAOxAGVKw4bAAAA8UlEQVQoz2NgAAEhBgJAH5vg7P+hodoFYCbz\n",
       "f6zaXjMwsH4Hs1jiBbDIM/5gYOD6AmYm5hcgxPfAGJxA3Zw/wEob+g0QCqphDNYPDAxMD8E2MNhP\n",
       "QCjgTIAy+DYw8MSCjV7MUA8WZLkLBl+gCup3dARBNDowyAcgOY5ZGUL3CzAwvwQxOLa4xG9Adv6h\n",
       "V2BqHxCDXX+CgYH/ArL31CCe/grE8xvANjDwPkBywyWIPPtPIBG/ABgWQIcwfUAYwAW1juMjUNEn\n",
       "IEMOiLk/IhTAIo4JaOo6HQaG0/91GJj3f0qAK9gODab9X0ODNmOLIrRoAQDyg0EOXpubEgAAAABJ\n",
       "RU5ErkJggg==\n",
       "\" style=\"display:inline;vertical-align:middle;\" /></a></span>"
      ],
      "text/plain": [
       "{B <=> A} |- A => B"
      ]
     },
     "metadata": {},
     "output_type": "display_data"
    }
   ],
   "source": [
    "Implies(A,B).prove(assumptions=[Iff(B,A)])"
   ]
  },
  {
   "cell_type": "code",
   "execution_count": 38,
   "metadata": {},
   "outputs": [
    {
     "data": {
      "text/html": [
       "<span style=\"font-size:20px;\"><a class=\"ProveItLink\" href=\"../../../../__pv_it/common/09585084922504426caf1db2ff588a23a0932a960/expr.ipynb\"><img src=\"data:image/png;base64,iVBORw0KGgoAAAANSUhEUgAAAA8AAAAPBAMAAADJ+Ih5AAAAMFBMVEX///8AAAAAAAAAAAAAAAAA\n",
       "AAAAAAAAAAAAAAAAAAAAAAAAAAAAAAAAAAAAAAAAAAAv3aB7AAAAD3RSTlMAIs1UmauJMnZmRLsQ\n",
       "3e++988cAAAACXBIWXMAAA7EAAAOxAGVKw4bAAAAXklEQVQI12NgAAEhBijQh9LM/6EMlngBCCMx\n",
       "vwBMMzb0G0BkGOwngBmLGeoTwAwHBvkAEM2xxSV+A4hxgoGB/wJEhoH3AZDmAupg+gBkyAEx90cG\n",
       "htP/dRiY939KAABt3hLO6mcEjQAAAABJRU5ErkJggg==\n",
       "\" style=\"display:inline;vertical-align:middle;\" /></a>, <a class=\"ProveItLink\" href=\"../__pv_it/theorems/354ec164e0e28f03ef1fb1858764e0da4a36a45b0/expr.ipynb\"><img src=\"data:image/png;base64,iVBORw0KGgoAAAANSUhEUgAAAEAAAAAQBAMAAABUyWQaAAAAMFBMVEX///8AAAAAAAAAAAAAAAAA\n",
       "AAAAAAAAAAAAAAAAAAAAAAAAAAAAAAAAAAAAAAAAAAAv3aB7AAAAD3RSTlMAIs1UmauJMnZmRLsQ\n",
       "3e++988cAAAACXBIWXMAAA7EAAAOxAGVKw4bAAABEklEQVQoz2NgAAEhBgJAH5vg7P+hodoFYCbz\n",
       "f6zaXjMwsH4Hs1jiBbDIM/5gYOD6AmYm5hdABRUYGNgDoGxOoG7OH2ClDf0GEDGOCUBiO1QB6wcG\n",
       "BqaHYBsY7CdAxKpBxKEDEA7fBgaeWLDRixnqE8BC7O/uAsE9HYiC+h0dQRCNDgzyEHu7IXqrIRb2\n",
       "CzAwvwRbvMUlfgOIcQ7qPJ6nYGofEINdf4KBgf8C2LFhEAVCEAu/AvH8BrANDLwPIB67CwbXIQ76\n",
       "CSTiFwDDAugQpg8QvVNABBMk1Dg+AhV9AjLkgJj7I9TrQA0MXhA2E9DUdUAPnf6vw8C8/xPEWh5g\n",
       "SDJugKjd/zU0aDNG+INMP4AiAgCe/UbsFJCeOgAAAABJRU5ErkJggg==\n",
       "\" style=\"display:inline;vertical-align:middle;\" /></a> <a class=\"ProveItLink\" href=\"../__pv_it/demonstrations/fbdbb1be6f9796607dc124e0e89b58a467825e920/proof.ipynb\" style=\"text-decoration: none\">&nbsp;&#x22A2;&nbsp;&nbsp;</a><a class=\"ProveItLink\" href=\"../../../../__pv_it/common/a9162d1c3cc0470c02e5daf414500903a7a419230/expr.ipynb\"><img src=\"data:image/png;base64,iVBORw0KGgoAAAANSUhEUgAAABAAAAAOBAMAAADUAYG5AAAAMFBMVEX///8AAAAAAAAAAAAAAAAA\n",
       "AAAAAAAAAAAAAAAAAAAAAAAAAAAAAAAAAAAAAAAAAAAv3aB7AAAAD3RSTlMAZrurzTLvInZEmRDd\n",
       "VIkafcLnAAAACXBIWXMAAA7EAAAOxAGVKw4bAAAAb0lEQVQI12NgYBD6b2zsFMAABEkMDMxfgTT7\n",
       "DwYGzl9ABiOQxwjkMDB/YGBgSQcy2BQYuG1AiuM1OkwEQJr6Cxh4E0EMNSB+D5L6DMTyDQwMrB+B\n",
       "DPsJDAwc34GcL0AOSwIDwzRvoHH6n41NdBkYAF/iFeJ4bEa2AAAAAElFTkSuQmCC\n",
       "\" style=\"display:inline;vertical-align:middle;\" /></a></span>"
      ],
      "text/plain": [
       "{A, A <=> B} |- B"
      ]
     },
     "metadata": {},
     "output_type": "display_data"
    }
   ],
   "source": [
    "Iff(A,B).derive_right(assumptions=[A, Iff(A,B)])"
   ]
  },
  {
   "cell_type": "code",
   "execution_count": 39,
   "metadata": {},
   "outputs": [
    {
     "data": {
      "text/html": [
       "<span style=\"font-size:20px;\"><a class=\"ProveItLink\" href=\"../__pv_it/theorems/354ec164e0e28f03ef1fb1858764e0da4a36a45b0/expr.ipynb\"><img src=\"data:image/png;base64,iVBORw0KGgoAAAANSUhEUgAAAEAAAAAQBAMAAABUyWQaAAAAMFBMVEX///8AAAAAAAAAAAAAAAAA\n",
       "AAAAAAAAAAAAAAAAAAAAAAAAAAAAAAAAAAAAAAAAAAAv3aB7AAAAD3RSTlMAIs1UmauJMnZmRLsQ\n",
       "3e++988cAAAACXBIWXMAAA7EAAAOxAGVKw4bAAABEklEQVQoz2NgAAEhBgJAH5vg7P+hodoFYCbz\n",
       "f6zaXjMwsH4Hs1jiBbDIM/5gYOD6AmYm5hdABRUYGNgDoGxOoG7OH2ClDf0GEDGOCUBiO1QB6wcG\n",
       "BqaHYBsY7CdAxKpBxKEDEA7fBgaeWLDRixnqE8BC7O/uAsE9HYiC+h0dQRCNDgzyEHu7IXqrIRb2\n",
       "CzAwvwRbvMUlfgOIcQ7qPJ6nYGofEINdf4KBgf8C2LFhEAVCEAu/AvH8BrANDLwPIB67CwbXIQ76\n",
       "CSTiFwDDAugQpg8QvVNABBMk1Dg+AhV9AjLkgJj7I9TrQA0MXhA2E9DUdUAPnf6vw8C8/xPEWh5g\n",
       "SDJugKjd/zU0aDNG+INMP4AiAgCe/UbsFJCeOgAAAABJRU5ErkJggg==\n",
       "\" style=\"display:inline;vertical-align:middle;\" /></a>, <a class=\"ProveItLink\" href=\"../../../../__pv_it/common/09585084922504426caf1db2ff588a23a0932a960/expr.ipynb\"><img src=\"data:image/png;base64,iVBORw0KGgoAAAANSUhEUgAAAA8AAAAPBAMAAADJ+Ih5AAAAMFBMVEX///8AAAAAAAAAAAAAAAAA\n",
       "AAAAAAAAAAAAAAAAAAAAAAAAAAAAAAAAAAAAAAAAAAAv3aB7AAAAD3RSTlMAIs1UmauJMnZmRLsQ\n",
       "3e++988cAAAACXBIWXMAAA7EAAAOxAGVKw4bAAAAXklEQVQI12NgAAEhBijQh9LM/6EMlngBCCMx\n",
       "vwBMMzb0G0BkGOwngBmLGeoTwAwHBvkAEM2xxSV+A4hxgoGB/wJEhoH3AZDmAupg+gBkyAEx90cG\n",
       "htP/dRiY939KAABt3hLO6mcEjQAAAABJRU5ErkJggg==\n",
       "\" style=\"display:inline;vertical-align:middle;\" /></a> <a class=\"ProveItLink\" href=\"../__pv_it/demonstrations/237a96ce36e33d30a06bc78abfa0cd250161b7820/proof.ipynb\" style=\"text-decoration: none\">&nbsp;&#x22A2;&nbsp;&nbsp;</a><a class=\"ProveItLink\" href=\"../../../../__pv_it/common/09585084922504426caf1db2ff588a23a0932a960/expr.ipynb\"><img src=\"data:image/png;base64,iVBORw0KGgoAAAANSUhEUgAAAA8AAAAPBAMAAADJ+Ih5AAAAMFBMVEX///8AAAAAAAAAAAAAAAAA\n",
       "AAAAAAAAAAAAAAAAAAAAAAAAAAAAAAAAAAAAAAAAAAAv3aB7AAAAD3RSTlMAIs1UmauJMnZmRLsQ\n",
       "3e++988cAAAACXBIWXMAAA7EAAAOxAGVKw4bAAAAXklEQVQI12NgAAEhBijQh9LM/6EMlngBCCMx\n",
       "vwBMMzb0G0BkGOwngBmLGeoTwAwHBvkAEM2xxSV+A4hxgoGB/wJEhoH3AZDmAupg+gBkyAEx90cG\n",
       "htP/dRiY939KAABt3hLO6mcEjQAAAABJRU5ErkJggg==\n",
       "\" style=\"display:inline;vertical-align:middle;\" /></a></span>"
      ],
      "text/plain": [
       "{A <=> B, A} |- A"
      ]
     },
     "metadata": {},
     "output_type": "display_data"
    }
   ],
   "source": [
    "Iff(A,B).derive_left(assumptions=[A, Iff(A,B)])"
   ]
  },
  {
   "cell_type": "code",
   "execution_count": 40,
   "metadata": {},
   "outputs": [
    {
     "data": {
      "text/html": [
       "<span style=\"font-size:20px;\"><a class=\"ProveItLink\" href=\"../__pv_it/theorems/354ec164e0e28f03ef1fb1858764e0da4a36a45b0/expr.ipynb\"><img src=\"data:image/png;base64,iVBORw0KGgoAAAANSUhEUgAAAEAAAAAQBAMAAABUyWQaAAAAMFBMVEX///8AAAAAAAAAAAAAAAAA\n",
       "AAAAAAAAAAAAAAAAAAAAAAAAAAAAAAAAAAAAAAAAAAAv3aB7AAAAD3RSTlMAIs1UmauJMnZmRLsQ\n",
       "3e++988cAAAACXBIWXMAAA7EAAAOxAGVKw4bAAABEklEQVQoz2NgAAEhBgJAH5vg7P+hodoFYCbz\n",
       "f6zaXjMwsH4Hs1jiBbDIM/5gYOD6AmYm5hdABRUYGNgDoGxOoG7OH2ClDf0GEDGOCUBiO1QB6wcG\n",
       "BqaHYBsY7CdAxKpBxKEDEA7fBgaeWLDRixnqE8BC7O/uAsE9HYiC+h0dQRCNDgzyEHu7IXqrIRb2\n",
       "CzAwvwRbvMUlfgOIcQ7qPJ6nYGofEINdf4KBgf8C2LFhEAVCEAu/AvH8BrANDLwPIB67CwbXIQ76\n",
       "CSTiFwDDAugQpg8QvVNABBMk1Dg+AhV9AjLkgJj7I9TrQA0MXhA2E9DUdUAPnf6vw8C8/xPEWh5g\n",
       "SDJugKjd/zU0aDNG+INMP4AiAgCe/UbsFJCeOgAAAABJRU5ErkJggg==\n",
       "\" style=\"display:inline;vertical-align:middle;\" /></a> <a class=\"ProveItLink\" href=\"../__pv_it/demonstrations/f2713965025fa72ae4cf76baa669e1538579cae30/proof.ipynb\" style=\"text-decoration: none\">&nbsp;&#x22A2;&nbsp;&nbsp;</a><a class=\"ProveItLink\" href=\"../__pv_it/theorems/8cbf2a2968f9870ab60a3a8ba5e3880f76e61c500/expr.ipynb\"><img src=\"data:image/png;base64,iVBORw0KGgoAAAANSUhEUgAAAEAAAAAQBAMAAABUyWQaAAAAMFBMVEX///8AAAAAAAAAAAAAAAAA\n",
       "AAAAAAAAAAAAAAAAAAAAAAAAAAAAAAAAAAAAAAAAAAAv3aB7AAAAD3RSTlMAZrurzTLvInZEmRDd\n",
       "VIkafcLnAAAACXBIWXMAAA7EAAAOxAGVKw4bAAABCklEQVQoz2NgwAfYHUCk0H9jY6cArApYPoCp\n",
       "JAYG5q9YFdwHK2D/wcDA+QurgsXfQSQjUDfjD6iZQBwMl+erAxvMDDSHJR0i1AjETHD3VHD8BVFs\n",
       "CgzcNhBBVgUgwe0NU7CA9yOIitfoMBGAiITlnAGClA0QHucF1n8gur+AgTcRLMKhDTFHF6KAi4H9\n",
       "M4hWA+L3ICu4k6FGbzMAU02rFn8C0SBV8g0gVvEDSPj5gSluoNgfkIEgh9hPAIvJnAGDAKgNDAzH\n",
       "QBYDA4P1C8RsxgUg0h3CmQjE/qCwSWBgmAbzmSVIJ8Q0dqA4g34BA7P+Z2MTXZjPtwBxEcQF+l82\n",
       "MFz674cevyApFBEAbyc/MNF+N00AAAAASUVORK5CYII=\n",
       "\" style=\"display:inline;vertical-align:middle;\" /></a></span>"
      ],
      "text/plain": [
       "{A <=> B} |- B <=> A"
      ]
     },
     "metadata": {},
     "output_type": "display_data"
    }
   ],
   "source": [
    "Iff(B,A).prove(assumptions=[Iff(A,B)])"
   ]
  },
  {
   "cell_type": "code",
   "execution_count": 41,
   "metadata": {},
   "outputs": [
    {
     "data": {
      "text/html": [
       "<span style=\"font-size:20px;\"><a class=\"ProveItLink\" href=\"../__pv_it/theorems/354ec164e0e28f03ef1fb1858764e0da4a36a45b0/expr.ipynb\"><img src=\"data:image/png;base64,iVBORw0KGgoAAAANSUhEUgAAAEAAAAAQBAMAAABUyWQaAAAAMFBMVEX///8AAAAAAAAAAAAAAAAA\n",
       "AAAAAAAAAAAAAAAAAAAAAAAAAAAAAAAAAAAAAAAAAAAv3aB7AAAAD3RSTlMAIs1UmauJMnZmRLsQ\n",
       "3e++988cAAAACXBIWXMAAA7EAAAOxAGVKw4bAAABEklEQVQoz2NgAAEhBgJAH5vg7P+hodoFYCbz\n",
       "f6zaXjMwsH4Hs1jiBbDIM/5gYOD6AmYm5hdABRUYGNgDoGxOoG7OH2ClDf0GEDGOCUBiO1QB6wcG\n",
       "BqaHYBsY7CdAxKpBxKEDEA7fBgaeWLDRixnqE8BC7O/uAsE9HYiC+h0dQRCNDgzyEHu7IXqrIRb2\n",
       "CzAwvwRbvMUlfgOIcQ7qPJ6nYGofEINdf4KBgf8C2LFhEAVCEAu/AvH8BrANDLwPIB67CwbXIQ76\n",
       "CSTiFwDDAugQpg8QvVNABBMk1Dg+AhV9AjLkgJj7I9TrQA0MXhA2E9DUdUAPnf6vw8C8/xPEWh5g\n",
       "SDJugKjd/zU0aDNG+INMP4AiAgCe/UbsFJCeOgAAAABJRU5ErkJggg==\n",
       "\" style=\"display:inline;vertical-align:middle;\" /></a>, <a class=\"ProveItLink\" href=\"../__pv_it/theorems/21a984318db72bda22f037b1d1cc992ce34ca0470/expr.ipynb\"><img src=\"data:image/png;base64,iVBORw0KGgoAAAANSUhEUgAAAEEAAAAPBAMAAABJi79qAAAAMFBMVEX///8AAAAAAAAAAAAAAAAA\n",
       "AAAAAAAAAAAAAAAAAAAAAAAAAAAAAAAAAAAAAAAAAAAv3aB7AAAAD3RSTlMAZrurzTLvInZEmRDd\n",
       "VIkafcLnAAAACXBIWXMAAA7EAAAOxAGVKw4bAAABEklEQVQY02NgYBD6b2zsFMCACbibjA3ZH4BY\n",
       "SQwMzF+xqGjrZuBdIwBksP9gYOD8halg01Egsb4ASDAC9TP+gIiyAHEwVIXbBiAxDcRi/gCUSYeI\n",
       "NgIxE8RNfH9BZBSIYFNg4LaBiLIqgBzoDWbXHwCRW0FEvEaHiQDEiLCcM0CQAjKe4X0D3EX9BQy8\n",
       "iWAWhzbEJF0Qeb4ArkINpAFkC3cyVGSbAZDIBzPBxn0GYnmwkcXg4GFg9wObASJ4QTpZPwIJ+wlg\n",
       "OZkzYAB2Njgk+MCWfweq+gIxnnEBiHSH+AVk7GtwICUAw8Ub6gJLIOaCmMcLNHseyBnM+p+NTXRh\n",
       "rt4CxEVQ9i5lqwmYccEO8hKqEABunD9FCiV1CAAAAABJRU5ErkJggg==\n",
       "\" style=\"display:inline;vertical-align:middle;\" /></a> <a class=\"ProveItLink\" href=\"../__pv_it/demonstrations/790fe0eda181882b356060a175be303b6ef489ac0/proof.ipynb\" style=\"text-decoration: none\">&nbsp;&#x22A2;&nbsp;&nbsp;</a><a class=\"ProveItLink\" href=\"../__pv_it/theorems/22244e1f88f53c76e05ec49c88c0a890daf175420/expr.ipynb\"><img src=\"data:image/png;base64,iVBORw0KGgoAAAANSUhEUgAAAD8AAAAQBAMAAABTi7oPAAAAMFBMVEX///8AAAAAAAAAAAAAAAAA\n",
       "AAAAAAAAAAAAAAAAAAAAAAAAAAAAAAAAAAAAAAAAAAAv3aB7AAAAD3RSTlMAIs1UmauJMnZmRLsQ\n",
       "3e++988cAAAACXBIWXMAAA7EAAAOxAGVKw4bAAABAElEQVQoz2NgAAEhBgJAH5sgT3doJGMCmMn8\n",
       "H5uCvh4GZt8JYCZLvACm/OnrQMIfIpGYXwARZALiUqgCvQNAYh2YydjQbwAR7ARibohits8gsgRi\n",
       "A4M9xCr2DSC36YDZ8hdA5HEwezFDPcSxdW/vAsEjkNkM+Q0I5zgwyAeAaI49EHM2g8j7CHdzbHGJ\n",
       "B5v9FCpwDqT8PZgJNuwEAwM/2EJRiEWMamATwAFUALGBgfcBWGruXTAAi4JDgA3E4gL6gOkDWAGn\n",
       "A4hUhPgC5MgcEEsO5PePENujQJ5eAAn+nwwMy0BOOP1fh4F5/yeI9YeAWBrq1CNbQxZghD8jyDOo\n",
       "QgC8ST3trr6X5QAAAABJRU5ErkJggg==\n",
       "\" style=\"display:inline;vertical-align:middle;\" /></a></span>"
      ],
      "text/plain": [
       "{A <=> B, B <=> C} |- A <=> C"
      ]
     },
     "metadata": {},
     "output_type": "display_data"
    }
   ],
   "source": [
    "Iff(A,B).apply_transitivity(Iff(B,C), assumptions=[Iff(A,B), Iff(B,C)])"
   ]
  },
  {
   "cell_type": "markdown",
   "metadata": {},
   "source": [
    "**SEE CONTRAPOSITION ABOVE**"
   ]
  },
  {
   "cell_type": "code",
   "execution_count": 42,
   "metadata": {},
   "outputs": [
    {
     "data": {
      "text/html": [
       "<span style=\"font-size:20px;\"><a class=\"ProveItLink\" href=\"../__pv_it/demonstrations/d78c7a0a66f0f0f40e69d505fb93268ea9af46dc0/expr.ipynb\"><img src=\"data:image/png;base64,iVBORw0KGgoAAAANSUhEUgAAAEAAAAAQBAMAAABUyWQaAAAAMFBMVEX///8AAAAAAAAAAAAAAAAA\n",
       "AAAAAAAAAAAAAAAAAAAAAAAAAAAAAAAAAAAAAAAAAAAv3aB7AAAAD3RSTlMAIs1UmauJMnZmRLsQ\n",
       "3e++988cAAAACXBIWXMAAA7EAAAOxAGVKw4bAAAA8UlEQVQoz2NgAAEhBgJAH5vg7P+hodoFYCbz\n",
       "f6zaXjMwsH4Hs1jiBbDIM/5gYOD6AmYm5hcgxPfAGJxA3Zw/wEob+g0QCqphDNYPDAxMD8E2MNhP\n",
       "QCjgTIAy+DYw8MSCjV7MUA8WZLkLBl+gCup3dARBNDowyAcgOY5ZGUL3CzAwvwQxOLa4xG9Adv6h\n",
       "V2BqHxCDXX+CgYH/ArL31CCe/grE8xvANjDwPkBywyWIPPtPIBG/ABgWQIcwfUAYwAW1juMjUNEn\n",
       "IEMOiLk/IhTAIo4JaOo6HQaG0/91GJj3f0qAK9gODab9X0ODNmOLIrRoAQDyg0EOXpubEgAAAABJ\n",
       "RU5ErkJggg==\n",
       "\" style=\"display:inline;vertical-align:middle;\" /></a> <a class=\"ProveItLink\" href=\"../__pv_it/demonstrations/a156d3a45aa8d1ece7284d2f7b9fad99bced9d1b0/proof.ipynb\" style=\"text-decoration: none\">&nbsp;&#x22A2;&nbsp;&nbsp;</a><a class=\"ProveItLink\" href=\"../__pv_it/theorems/27494681981932645ad1764586726e5e5b0c92fc0/expr.ipynb\"><img src=\"data:image/png;base64,iVBORw0KGgoAAAANSUhEUgAAAHsAAAAVBAMAAACUF4xmAAAAMFBMVEX///8AAAAAAAAAAAAAAAAA\n",
       "AAAAAAAAAAAAAAAAAAAAAAAAAAAAAAAAAAAAAAAAAAAv3aB7AAAAD3RSTlMAIs1UmauJMnZmRLsQ\n",
       "3e++988cAAAACXBIWXMAAA7EAAAOxAGVKw4bAAABpElEQVQ4y32TP0hCURTGP1PT578e7ZUQBJFQ\n",
       "NLTmEEGbCI6hDc25R2hbmw5tDQktTWEU5BAZTYGL1BzYmC0qSjXZue/c573QfX3weX4c73ffefe9\n",
       "B3jLNqJqTJqzpnR4zYRSl9KOVk3xDSOejXO5lSLCVTgW8o8N6VjShMAnEPwCUmCTAnn7bzxQNSF8\n",
       "30BkCJyCTdo7KKr/72VNqJaGsOjKFm2ReGTThuWKdjSHsq6rloYI9oCpd3KVTbNhU5vOKnDdVi0N\n",
       "kagjtkvDTmfYwAVKTiTw5mjI65ZVREOUGidZcTEryQbSWMhoC/yLTnl190vriIoN/4dY1WEjfLuV\n",
       "r+tn/tQVv133qDM64oGqOOlQj41nYKatpX1L9j/xEdXzMj28DptmR7yj3fuL7Q7vZjQM/VDN12jw\n",
       "NjsinkBPXTwib6ThZtI6hvs080AcXZ09Txztq7j7+eyrloZTNOeVeFkDBcetcQr+5qAwWXAn65HK\n",
       "KAw2R7nsjaB4je31lcfVi6zhRHPSXrLSJpxoR9pT10Z0T7HO9lbLiFJRm+0tX9mEUsfsXzxGdi48\n",
       "OI9kAAAAAElFTkSuQmCC\n",
       "\" style=\"display:inline;vertical-align:middle;\" /></a></span>"
      ],
      "text/plain": [
       "{A => B} |- A => [not]([not](B))"
      ]
     },
     "metadata": {},
     "output_type": "display_data"
    }
   ],
   "source": [
    "Implies(A, Not(Not(B))).conclude_via_double_negation(assumptions=[Implies(A,B)])"
   ]
  },
  {
   "cell_type": "code",
   "execution_count": 43,
   "metadata": {},
   "outputs": [
    {
     "data": {
      "text/html": [
       "<span style=\"font-size:20px;\"><a class=\"ProveItLink\" href=\"../../__pv_it/theorems/a10dbfd9a4efbb6f30af430036ab01697a9460f80/expr.ipynb\"><img src=\"data:image/png;base64,iVBORw0KGgoAAAANSUhEUgAAADYAAAAQBAMAAACvnpHFAAAAMFBMVEX///8AAAAAAAAAAAAAAAAA\n",
       "AAAAAAAAAAAAAAAAAAAAAAAAAAAAAAAAAAAAAAAAAAAv3aB7AAAAD3RSTlMAIs1UmauJMnZmRLsQ\n",
       "3e++988cAAAACXBIWXMAAA7EAAAOxAGVKw4bAAAA40lEQVQY02NgAAEhBhTAcW/Tp7dRUI4+qhwD\n",
       "N1eD0NEFYCbzfwy5CWwCG8BMlngBDDlOgwAwMzG/AGrR3ruX4HIKIBZjQ78BWIpL4wBcH6tkAthI\n",
       "BvsJEOcegJvZ0xsGZi1mqAerYVBE2Hfp/RWwQgcGeYi9Ckhu4ZilA3LAFpd4sHvZ3969e/c2VI5h\n",
       "wzIg4wQDA/8FkAjPBiR9DBu4wUYy8D4AC11AkWMCOhzoRqYPYKEOFDkLBgY5EPsjWIjJAC6XwNbm\n",
       "wHD6vw4D8/5PYE/wRK+BBI/ebkQ8wABXNiTMIAAAYXA8zHUEOxUAAAAASUVORK5CYII=\n",
       "\" style=\"display:inline;vertical-align:middle;\" /></a>, <a class=\"ProveItLink\" href=\"../__pv_it/theorems/c50b73f2d168f6a3012768bd45c62ea92218bcbc0/expr.ipynb\"><img src=\"data:image/png;base64,iVBORw0KGgoAAAANSUhEUgAAADcAAAAQBAMAAABAXPr7AAAAMFBMVEX///8AAAAAAAAAAAAAAAAA\n",
       "AAAAAAAAAAAAAAAAAAAAAAAAAAAAAAAAAAAAAAAAAAAv3aB7AAAAD3RSTlMAZrurzTLvInZEmRDd\n",
       "VIkafcLnAAAACXBIWXMAAA7EAAAOxAGVKw4bAAAA8UlEQVQY02NgwAZ6kvzdDk8AsYT+Gxs7BaDK\n",
       "Ksxg97YEs5IYGJi/oklOZHjOBGKw/2Bg4PyFISnLDGIwAnUx/gCLceicOQKXZAExmD8wMLCkg1ic\n",
       "HhsQOs3lQAw2BQZuG7CDSjYgHLTj8AMQI16jw0QALOSOsHOO25/VIEZ/AQNvIljIAdlBjVNA5qgB\n",
       "8XuQsaw5Z86cOQSTZOIEmfsZiOUbgAS3ArJOJgYgl/UjkGMPDqsDqJJAWzi+AxV8AQt1oEjyAk1j\n",
       "SWBgmOYNFmK5AJecx/DiFTAI9D8bm+hChLiNZkMYLUn60FhBApyPoMEHAQCDjz3xiC/o5wAAAABJ\n",
       "RU5ErkJggg==\n",
       "\" style=\"display:inline;vertical-align:middle;\" /></a>, <a class=\"ProveItLink\" href=\"../__pv_it/theorems/354ec164e0e28f03ef1fb1858764e0da4a36a45b0/expr.ipynb\"><img src=\"data:image/png;base64,iVBORw0KGgoAAAANSUhEUgAAAEAAAAAQBAMAAABUyWQaAAAAMFBMVEX///8AAAAAAAAAAAAAAAAA\n",
       "AAAAAAAAAAAAAAAAAAAAAAAAAAAAAAAAAAAAAAAAAAAv3aB7AAAAD3RSTlMAIs1UmauJMnZmRLsQ\n",
       "3e++988cAAAACXBIWXMAAA7EAAAOxAGVKw4bAAABEklEQVQoz2NgAAEhBgJAH5vg7P+hodoFYCbz\n",
       "f6zaXjMwsH4Hs1jiBbDIM/5gYOD6AmYm5hdABRUYGNgDoGxOoG7OH2ClDf0GEDGOCUBiO1QB6wcG\n",
       "BqaHYBsY7CdAxKpBxKEDEA7fBgaeWLDRixnqE8BC7O/uAsE9HYiC+h0dQRCNDgzyEHu7IXqrIRb2\n",
       "CzAwvwRbvMUlfgOIcQ7qPJ6nYGofEINdf4KBgf8C2LFhEAVCEAu/AvH8BrANDLwPIB67CwbXIQ76\n",
       "CSTiFwDDAugQpg8QvVNABBMk1Dg+AhV9AjLkgJj7I9TrQA0MXhA2E9DUdUAPnf6vw8C8/xPEWh5g\n",
       "SDJugKjd/zU0aDNG+INMP4AiAgCe/UbsFJCeOgAAAABJRU5ErkJggg==\n",
       "\" style=\"display:inline;vertical-align:middle;\" /></a> <a class=\"ProveItLink\" href=\"../__pv_it/demonstrations/b82e53c1fdf4bf51d72c63739f6ef0685dacce5f0/proof.ipynb\" style=\"text-decoration: none\">&nbsp;&#x22A2;&nbsp;&nbsp;</a><a class=\"ProveItLink\" href=\"../__pv_it/theorems/f499420995aa101afb63b56c7e1317b0571a23ed0/expr.ipynb\"><img src=\"data:image/png;base64,iVBORw0KGgoAAAANSUhEUgAAADsAAAAPBAMAAACo4Ko7AAAAMFBMVEX///8AAAAAAAAAAAAAAAAA\n",
       "AAAAAAAAAAAAAAAAAAAAAAAAAAAAAAAAAAAAAAAAAAAv3aB7AAAAD3RSTlMAIs1UmauJMnZmRLsQ\n",
       "3e++988cAAAACXBIWXMAAA7EAAAOxAGVKw4bAAAA0ElEQVQY02NgAAEhBrxAH0OEc//X0KDtEDbz\n",
       "f0wdfBsYGOILwEyWeAEMafkGBob1DmBmYn4BhvR8oND8BhCLsaHfAEM6Hoj1wIayMNhPwJB+zcBw\n",
       "9DqYtZihPgFE+94FgatgMfbfHa2aEIUODPIB6Jo5PjIw2IHN5NjiEr8BXZr7AQMD23cQ6wQDA/8F\n",
       "dGl+oHmcPyBmM/A+QLe7Hmgw6y8ggwvIYPqArrsf6Kd6BSBDDmTTR3RpPaC+RwcYGE7/12Fg3v8p\n",
       "AVU2+n9oqDYwrAC4pDgIOe/RLAAAAABJRU5ErkJggg==\n",
       "\" style=\"display:inline;vertical-align:middle;\" /></a></span>"
      ],
      "text/plain": [
       "{A in BOOLEAN, B in BOOLEAN, A <=> B} |- A = B"
      ]
     },
     "metadata": {},
     "output_type": "display_data"
    }
   ],
   "source": [
    "Equals(A,B).prove(assumptions=[Iff(A,B),in_bool(B), in_bool(A)])"
   ]
  },
  {
   "cell_type": "code",
   "execution_count": 44,
   "metadata": {},
   "outputs": [
    {
     "data": {
      "text/html": [
       "<span style=\"font-size:20px;\"><a class=\"ProveItLink\" href=\"../../__pv_it/theorems/a10dbfd9a4efbb6f30af430036ab01697a9460f80/expr.ipynb\"><img src=\"data:image/png;base64,iVBORw0KGgoAAAANSUhEUgAAADYAAAAQBAMAAACvnpHFAAAAMFBMVEX///8AAAAAAAAAAAAAAAAA\n",
       "AAAAAAAAAAAAAAAAAAAAAAAAAAAAAAAAAAAAAAAAAAAv3aB7AAAAD3RSTlMAIs1UmauJMnZmRLsQ\n",
       "3e++988cAAAACXBIWXMAAA7EAAAOxAGVKw4bAAAA40lEQVQY02NgAAEhBhTAcW/Tp7dRUI4+qhwD\n",
       "N1eD0NEFYCbzfwy5CWwCG8BMlngBDDlOgwAwMzG/AGrR3ruX4HIKIBZjQ78BWIpL4wBcH6tkAthI\n",
       "BvsJEOcegJvZ0xsGZi1mqAerYVBE2Hfp/RWwQgcGeYi9Ckhu4ZilA3LAFpd4sHvZ3969e/c2VI5h\n",
       "wzIg4wQDA/8FkAjPBiR9DBu4wUYy8D4AC11AkWMCOhzoRqYPYKEOFDkLBgY5EPsjWIjJAC6XwNbm\n",
       "wHD6vw4D8/5PYE/wRK+BBI/ebkQ8wABXNiTMIAAAYXA8zHUEOxUAAAAASUVORK5CYII=\n",
       "\" style=\"display:inline;vertical-align:middle;\" /></a>, <a class=\"ProveItLink\" href=\"../__pv_it/theorems/c50b73f2d168f6a3012768bd45c62ea92218bcbc0/expr.ipynb\"><img src=\"data:image/png;base64,iVBORw0KGgoAAAANSUhEUgAAADcAAAAQBAMAAABAXPr7AAAAMFBMVEX///8AAAAAAAAAAAAAAAAA\n",
       "AAAAAAAAAAAAAAAAAAAAAAAAAAAAAAAAAAAAAAAAAAAv3aB7AAAAD3RSTlMAZrurzTLvInZEmRDd\n",
       "VIkafcLnAAAACXBIWXMAAA7EAAAOxAGVKw4bAAAA8UlEQVQY02NgwAZ6kvzdDk8AsYT+Gxs7BaDK\n",
       "Ksxg97YEs5IYGJi/oklOZHjOBGKw/2Bg4PyFISnLDGIwAnUx/gCLceicOQKXZAExmD8wMLCkg1ic\n",
       "HhsQOs3lQAw2BQZuG7CDSjYgHLTj8AMQI16jw0QALOSOsHOO25/VIEZ/AQNvIljIAdlBjVNA5qgB\n",
       "8XuQsaw5Z86cOQSTZOIEmfsZiOUbgAS3ArJOJgYgl/UjkGMPDqsDqJJAWzi+AxV8AQt1oEjyAk1j\n",
       "SWBgmOYNFmK5AJecx/DiFTAI9D8bm+hChLiNZkMYLUn60FhBApyPoMEHAQCDjz3xiC/o5wAAAABJ\n",
       "RU5ErkJggg==\n",
       "\" style=\"display:inline;vertical-align:middle;\" /></a>, <a class=\"ProveItLink\" href=\"../__pv_it/demonstrations/d78c7a0a66f0f0f40e69d505fb93268ea9af46dc0/expr.ipynb\"><img src=\"data:image/png;base64,iVBORw0KGgoAAAANSUhEUgAAAEAAAAAQBAMAAABUyWQaAAAAMFBMVEX///8AAAAAAAAAAAAAAAAA\n",
       "AAAAAAAAAAAAAAAAAAAAAAAAAAAAAAAAAAAAAAAAAAAv3aB7AAAAD3RSTlMAIs1UmauJMnZmRLsQ\n",
       "3e++988cAAAACXBIWXMAAA7EAAAOxAGVKw4bAAAA8UlEQVQoz2NgAAEhBgJAH5vg7P+hodoFYCbz\n",
       "f6zaXjMwsH4Hs1jiBbDIM/5gYOD6AmYm5hcgxPfAGJxA3Zw/wEob+g0QCqphDNYPDAxMD8E2MNhP\n",
       "QCjgTIAy+DYw8MSCjV7MUA8WZLkLBl+gCup3dARBNDowyAcgOY5ZGUL3CzAwvwQxOLa4xG9Adv6h\n",
       "V2BqHxCDXX+CgYH/ArL31CCe/grE8xvANjDwPkBywyWIPPtPIBG/ABgWQIcwfUAYwAW1juMjUNEn\n",
       "IEMOiLk/IhTAIo4JaOo6HQaG0/91GJj3f0qAK9gODab9X0ODNmOLIrRoAQDyg0EOXpubEgAAAABJ\n",
       "RU5ErkJggg==\n",
       "\" style=\"display:inline;vertical-align:middle;\" /></a>, <a class=\"ProveItLink\" href=\"../__pv_it/demonstrations/dd5a6fa797dcaf2dec856fef9be29bef6326bd0c0/expr.ipynb\"><img src=\"data:image/png;base64,iVBORw0KGgoAAAANSUhEUgAAAEAAAAAQBAMAAABUyWQaAAAAMFBMVEX///8AAAAAAAAAAAAAAAAA\n",
       "AAAAAAAAAAAAAAAAAAAAAAAAAAAAAAAAAAAAAAAAAAAv3aB7AAAAD3RSTlMAZrurzTLvInZEmRDd\n",
       "VIkafcLnAAAACXBIWXMAAA7EAAAOxAGVKw4bAAAA7UlEQVQoz2NgwAfYHUCk0H9jY6cArApYPoCp\n",
       "JAYG5q9YFdwHK2D/wcDA+QurgsXfQSQjUDfjD7gg0wY4k68ObDAz0ByWdLgoqwKcWcHxF0SxKTBw\n",
       "2yA5Ug7OWsD7EUTFa3SYCIAF1pwBgfMLoPKcF1j/gej+AgbeRGSnXbkAobkY2D+DaDUgfo8cDtxu\n",
       "E8B006rFn0A0SJV8A5KCkucQdUCxPyBXgxxiPwHhhjPuMBsYGI4BMQcwMFi/IBkwCUpPBGJ/UHgn\n",
       "MDBM80aPICANFGfQL2Bg1v9sbKKLZAATxL3c+l82MFz674clilG5AC5FPtYuFkkyAAAAAElFTkSu\n",
       "QmCC\n",
       "\" style=\"display:inline;vertical-align:middle;\" /></a> <a class=\"ProveItLink\" href=\"../__pv_it/demonstrations/1e534055c9c35453ff9c062813e36b1fd7a8e8030/proof.ipynb\" style=\"text-decoration: none\">&nbsp;&#x22A2;&nbsp;&nbsp;</a><a class=\"ProveItLink\" href=\"../__pv_it/theorems/f499420995aa101afb63b56c7e1317b0571a23ed0/expr.ipynb\"><img src=\"data:image/png;base64,iVBORw0KGgoAAAANSUhEUgAAADsAAAAPBAMAAACo4Ko7AAAAMFBMVEX///8AAAAAAAAAAAAAAAAA\n",
       "AAAAAAAAAAAAAAAAAAAAAAAAAAAAAAAAAAAAAAAAAAAv3aB7AAAAD3RSTlMAIs1UmauJMnZmRLsQ\n",
       "3e++988cAAAACXBIWXMAAA7EAAAOxAGVKw4bAAAA0ElEQVQY02NgAAEhBrxAH0OEc//X0KDtEDbz\n",
       "f0wdfBsYGOILwEyWeAEMafkGBob1DmBmYn4BhvR8oND8BhCLsaHfAEM6Hoj1wIayMNhPwJB+zcBw\n",
       "9DqYtZihPgFE+94FgatgMfbfHa2aEIUODPIB6Jo5PjIw2IHN5NjiEr8BXZr7AQMD23cQ6wQDA/8F\n",
       "dGl+oHmcPyBmM/A+QLe7Hmgw6y8ggwvIYPqArrsf6Kd6BSBDDmTTR3RpPaC+RwcYGE7/12Fg3v8p\n",
       "AVU2+n9oqDYwrAC4pDgIOe/RLAAAAABJRU5ErkJggg==\n",
       "\" style=\"display:inline;vertical-align:middle;\" /></a></span>"
      ],
      "text/plain": [
       "{A in BOOLEAN, B in BOOLEAN, A => B, B => A} |- A = B"
      ]
     },
     "metadata": {},
     "output_type": "display_data"
    }
   ],
   "source": [
    "Equals(A,B).prove(assumptions=[Implies(A,B), Implies(B,A), in_bool(B), in_bool(A)])"
   ]
  },
  {
   "cell_type": "code",
   "execution_count": 45,
   "metadata": {},
   "outputs": [
    {
     "data": {
      "text/html": [
       "<span style=\"font-size:20px;\"><a class=\"ProveItLink\" href=\"../../__pv_it/theorems/a10dbfd9a4efbb6f30af430036ab01697a9460f80/expr.ipynb\"><img src=\"data:image/png;base64,iVBORw0KGgoAAAANSUhEUgAAADYAAAAQBAMAAACvnpHFAAAAMFBMVEX///8AAAAAAAAAAAAAAAAA\n",
       "AAAAAAAAAAAAAAAAAAAAAAAAAAAAAAAAAAAAAAAAAAAv3aB7AAAAD3RSTlMAIs1UmauJMnZmRLsQ\n",
       "3e++988cAAAACXBIWXMAAA7EAAAOxAGVKw4bAAAA40lEQVQY02NgAAEhBhTAcW/Tp7dRUI4+qhwD\n",
       "N1eD0NEFYCbzfwy5CWwCG8BMlngBDDlOgwAwMzG/AGrR3ruX4HIKIBZjQ78BWIpL4wBcH6tkAthI\n",
       "BvsJEOcegJvZ0xsGZi1mqAerYVBE2Hfp/RWwQgcGeYi9Ckhu4ZilA3LAFpd4sHvZ3969e/c2VI5h\n",
       "wzIg4wQDA/8FkAjPBiR9DBu4wUYy8D4AC11AkWMCOhzoRqYPYKEOFDkLBgY5EPsjWIjJAC6XwNbm\n",
       "wHD6vw4D8/5PYE/wRK+BBI/ebkQ8wABXNiTMIAAAYXA8zHUEOxUAAAAASUVORK5CYII=\n",
       "\" style=\"display:inline;vertical-align:middle;\" /></a>, <a class=\"ProveItLink\" href=\"../__pv_it/theorems/c50b73f2d168f6a3012768bd45c62ea92218bcbc0/expr.ipynb\"><img src=\"data:image/png;base64,iVBORw0KGgoAAAANSUhEUgAAADcAAAAQBAMAAABAXPr7AAAAMFBMVEX///8AAAAAAAAAAAAAAAAA\n",
       "AAAAAAAAAAAAAAAAAAAAAAAAAAAAAAAAAAAAAAAAAAAv3aB7AAAAD3RSTlMAZrurzTLvInZEmRDd\n",
       "VIkafcLnAAAACXBIWXMAAA7EAAAOxAGVKw4bAAAA8UlEQVQY02NgwAZ6kvzdDk8AsYT+Gxs7BaDK\n",
       "Ksxg97YEs5IYGJi/oklOZHjOBGKw/2Bg4PyFISnLDGIwAnUx/gCLceicOQKXZAExmD8wMLCkg1ic\n",
       "HhsQOs3lQAw2BQZuG7CDSjYgHLTj8AMQI16jw0QALOSOsHOO25/VIEZ/AQNvIljIAdlBjVNA5qgB\n",
       "8XuQsaw5Z86cOQSTZOIEmfsZiOUbgAS3ArJOJgYgl/UjkGMPDqsDqJJAWzi+AxV8AQt1oEjyAk1j\n",
       "SWBgmOYNFmK5AJecx/DiFTAI9D8bm+hChLiNZkMYLUn60FhBApyPoMEHAQCDjz3xiC/o5wAAAABJ\n",
       "RU5ErkJggg==\n",
       "\" style=\"display:inline;vertical-align:middle;\" /></a> <a class=\"ProveItLink\" href=\"../__pv_it/demonstrations/4477e702d8b8d147c07bbb936dbd164b21d3fed50/proof.ipynb\" style=\"text-decoration: none\">&nbsp;&#x22A2;&nbsp;&nbsp;</a><a class=\"ProveItLink\" href=\"../__pv_it/theorems/9923f0fea4507fbbfefed92a8bc6a557e2ceff6d0/expr.ipynb\"><img src=\"data:image/png;base64,iVBORw0KGgoAAAANSUhEUgAAAHUAAAAVBAMAAACK3rzVAAAAMFBMVEX///8AAAAAAAAAAAAAAAAA\n",
       "AAAAAAAAAAAAAAAAAAAAAAAAAAAAAAAAAAAAAAAAAAAv3aB7AAAAD3RSTlMAInZUiRDNmWbv3US7\n",
       "qzJazP2FAAAACXBIWXMAAA7EAAAOxAGVKw4bAAAB6UlEQVQ4y4VUP0gCURz+LvHU1HISgiBpiGjJ\n",
       "IYJa0paWInF2sEBICHIogiahaAqqIYhyEIIGS4r+kdFw1RC1WEtDJTq3WA0WQdm79+7dXeZxD56/\n",
       "992P7/1+v+++E4AHJkswzDT4afAac52+mgddqal4dp8cehieqsdaqhYKkyV01j6XDoTYE2CNUmSp\n",
       "1i2ZAtw/EEO13FMEXYAtSZGtWG9s4Z10/AF74j933g04GAqOltSMSy1j/yGb8NcUaW4z2ypXBHpZ\n",
       "AV+3X+U2SfzkfgXEVWCCaTYe0ureLwDTrGUMJLWWFvjBIcH6SBoaYa8ipGkVzgb4lYcoB+Q4l5HX\n",
       "Hp+vfNn+IN+5SNGYNu9Z/GsG2KIggbY7nRa9ygDdHljWSeyjKKrXqvMkhE0qwvVsUdJxrfF9Gm/I\n",
       "lkUsUxk2SEu7nOtyBhg3DDSndVxvkMVvspeJq3L0Qklf1wWJ9Uzma1zR5s0okzV9kp8iaaGfwvRf\n",
       "bhSXsvhED/FVK3vOrf5G+BXZmxS2/+FafFT+FtkQb5qbuCgi6SUXA3+RomoB6QiDQ8ALEKnGYMlX\n",
       "AqqvFIu589+Fhyv5tMMUfD5miY5Unn5HjSXz71VQJnUOK57klk3AdNmSBokLc26rUSJizjW8XvCZ\n",
       "URsM/tF+AWF5hiPwEJyQAAAAAElFTkSuQmCC\n",
       "\" style=\"display:inline;vertical-align:middle;\" /></a></span>"
      ],
      "text/plain": [
       "{A in BOOLEAN, B in BOOLEAN} |- (A => B) in BOOLEAN"
      ]
     },
     "metadata": {},
     "output_type": "display_data"
    }
   ],
   "source": [
    "in_bool(Implies(A,B)).prove(assumptions=[in_bool(B), in_bool(A)])"
   ]
  },
  {
   "cell_type": "code",
   "execution_count": 46,
   "metadata": {},
   "outputs": [
    {
     "data": {
      "text/html": [
       "<span style=\"font-size:20px;\"><a class=\"ProveItLink\" href=\"../../__pv_it/theorems/a10dbfd9a4efbb6f30af430036ab01697a9460f80/expr.ipynb\"><img src=\"data:image/png;base64,iVBORw0KGgoAAAANSUhEUgAAADYAAAAQBAMAAACvnpHFAAAAMFBMVEX///8AAAAAAAAAAAAAAAAA\n",
       "AAAAAAAAAAAAAAAAAAAAAAAAAAAAAAAAAAAAAAAAAAAv3aB7AAAAD3RSTlMAIs1UmauJMnZmRLsQ\n",
       "3e++988cAAAACXBIWXMAAA7EAAAOxAGVKw4bAAAA40lEQVQY02NgAAEhBhTAcW/Tp7dRUI4+qhwD\n",
       "N1eD0NEFYCbzfwy5CWwCG8BMlngBDDlOgwAwMzG/AGrR3ruX4HIKIBZjQ78BWIpL4wBcH6tkAthI\n",
       "BvsJEOcegJvZ0xsGZi1mqAerYVBE2Hfp/RWwQgcGeYi9Ckhu4ZilA3LAFpd4sHvZ3969e/c2VI5h\n",
       "wzIg4wQDA/8FkAjPBiR9DBu4wUYy8D4AC11AkWMCOhzoRqYPYKEOFDkLBgY5EPsjWIjJAC6XwNbm\n",
       "wHD6vw4D8/5PYE/wRK+BBI/ebkQ8wABXNiTMIAAAYXA8zHUEOxUAAAAASUVORK5CYII=\n",
       "\" style=\"display:inline;vertical-align:middle;\" /></a>, <a class=\"ProveItLink\" href=\"../__pv_it/theorems/c50b73f2d168f6a3012768bd45c62ea92218bcbc0/expr.ipynb\"><img src=\"data:image/png;base64,iVBORw0KGgoAAAANSUhEUgAAADcAAAAQBAMAAABAXPr7AAAAMFBMVEX///8AAAAAAAAAAAAAAAAA\n",
       "AAAAAAAAAAAAAAAAAAAAAAAAAAAAAAAAAAAAAAAAAAAv3aB7AAAAD3RSTlMAZrurzTLvInZEmRDd\n",
       "VIkafcLnAAAACXBIWXMAAA7EAAAOxAGVKw4bAAAA8UlEQVQY02NgwAZ6kvzdDk8AsYT+Gxs7BaDK\n",
       "Ksxg97YEs5IYGJi/oklOZHjOBGKw/2Bg4PyFISnLDGIwAnUx/gCLceicOQKXZAExmD8wMLCkg1ic\n",
       "HhsQOs3lQAw2BQZuG7CDSjYgHLTj8AMQI16jw0QALOSOsHOO25/VIEZ/AQNvIljIAdlBjVNA5qgB\n",
       "8XuQsaw5Z86cOQSTZOIEmfsZiOUbgAS3ArJOJgYgl/UjkGMPDqsDqJJAWzi+AxV8AQt1oEjyAk1j\n",
       "SWBgmOYNFmK5AJecx/DiFTAI9D8bm+hChLiNZkMYLUn60FhBApyPoMEHAQCDjz3xiC/o5wAAAABJ\n",
       "RU5ErkJggg==\n",
       "\" style=\"display:inline;vertical-align:middle;\" /></a> <a class=\"ProveItLink\" href=\"../__pv_it/demonstrations/b8d73a64418865182428458a7a603fcab181d91f0/proof.ipynb\" style=\"text-decoration: none\">&nbsp;&#x22A2;&nbsp;&nbsp;</a><a class=\"ProveItLink\" href=\"../__pv_it/theorems/8ad4c5e6e7a47d78b1e0e4a0fac2099c90a9f2df0/expr.ipynb\"><img src=\"data:image/png;base64,iVBORw0KGgoAAAANSUhEUgAAAHUAAAAVBAMAAACK3rzVAAAAMFBMVEX///8AAAAAAAAAAAAAAAAA\n",
       "AAAAAAAAAAAAAAAAAAAAAAAAAAAAAAAAAAAAAAAAAAAv3aB7AAAAD3RSTlMAInZUiRDNmWbv3US7\n",
       "qzJazP2FAAAACXBIWXMAAA7EAAAOxAGVKw4bAAACAklEQVQ4y2NgYBBgIAAYccowGYApMdx6uRXQ\n",
       "BLTm5Geu3QBkmED4+dh09fy/ezfnAYMGuviBTYyptxkYWBPAPOb/WK2cw8DA+4+BLQBd7w4GRx4G\n",
       "BvYGMI/9PjZvM34Cuvg7A0cBpt5mXgYGTgjP0f8BhMEGxG9hajj+ATFQ/1Ro0JxatQyuF6jQDGKB\n",
       "gj4kyMB+44Gaw8D7AWjYRAaGDEiYJQUg7L3YwsBQAnEygz3E7XwHgARrKlQN5wEG1ltAg3whURGA\n",
       "CKugtQ4wIzczvHcAM17OWgUE06Cq3h9SugYysw3MS0T4d1fmr1IGhsVgTgGD/AWwj45CbD8MUaMv\n",
       "wMA8A0hbgnkJyGGlsS2AYTZYy/Hy+2DHzoVKRoJNYjgJxKBAfA82EOSkNTC9PNwOEL1BDAz8C0AM\n",
       "WYjLGVMgRvwF4n5gqtoJ4rAeQLaXh+EAxM3A+OOaABbtWgUGkIDm+wEk7gMTnxWYuwBVbwLDIVDg\n",
       "A8OD7QMkRguQQoXpI1D/N1DaBHOVUPQyK4CDXxIUpx8hwrdBMbYBmk6AbtkJii9IRLIZwPVuYXBy\n",
       "Z2B4xcAQ8z+Vgfn8N4hXw4BYBpoyzv+9ew0c4qvBfNY7WyESanPOg/MR1wPMzMqKnqyhPuX2gaZJ\n",
       "WJItYCAIoPkFExwkrFcGl0QMYb04jWdUIKSVCUeJBgCvzIuMjrbsbQAAAABJRU5ErkJggg==\n",
       "\" style=\"display:inline;vertical-align:middle;\" /></a></span>"
      ],
      "text/plain": [
       "{A in BOOLEAN, B in BOOLEAN} |- (A <=> B) in BOOLEAN"
      ]
     },
     "metadata": {},
     "output_type": "display_data"
    }
   ],
   "source": [
    "in_bool(Iff(A,B)).prove(assumptions=[in_bool(B), in_bool(A)])"
   ]
  },
  {
   "cell_type": "markdown",
   "metadata": {},
   "source": [
    "## Axioms"
   ]
  },
  {
   "cell_type": "code",
   "execution_count": 47,
   "metadata": {},
   "outputs": [
    {
     "data": {
      "text/html": [
       "<span style=\"font-size:20px;\"> <a class=\"ProveItLink\" href=\"../__pv_it/demonstrations/b7aba8a005f5ba408b795ab73886a80c28ee71c20/proof.ipynb\" style=\"text-decoration: none\">&nbsp;&#x22A2;&nbsp;&nbsp;</a><a class=\"ProveItLink\" href=\"../__pv_it/axioms/6a1fb7a4625d5d14b9fb08d72f3e6598f52293a40/expr.ipynb\"><img src=\"data:image/png;base64,iVBORw0KGgoAAAANSUhEUgAAATEAAAAVBAMAAADcAcTPAAAAMFBMVEX///8AAAAAAAAAAAAAAAAA\n",
       "AAAAAAAAAAAAAAAAAAAAAAAAAAAAAAAAAAAAAAAAAAAv3aB7AAAAD3RSTlMAInZUiRDNmWbv3US7\n",
       "qzJazP2FAAAACXBIWXMAAA7EAAAOxAGVKw4bAAADwUlEQVRIx5VWX0iTURQ/2/zmnNvnkAiKwGUv\n",
       "PRTuQQwjcNJzNHoQAgMlBYWgQYJSCHuIfDG0h6KwYCAIGpnUS0LQMiJ6SR/Ch0i2ZxHWPzRKXeee\n",
       "c+/9rt8+mztwuNs993fP755z7rkfAMSgknit8EmtFlnZm0+t8ifo/+H/rH3hMXdCKu7UUwVSettX\n",
       "kEZ9XOJaeeq617rx0tratQL4M2WWQJIVJfjNAxla3llb/VSObHVsniJonATCWXziQMlz4WOA6C5A\n",
       "f5mhSypKhxczqMsB5AsaeZ4H9iZtHkI0ginyWMunqs17FtMPDO4WwFiZZUQqyuh3Lx9NmJM3aYW0\n",
       "Znhkb9LmIUQjlCaPdTzVeVGdAU9lr6icYLxCyK4u5d5iUipAzaFdZ/q9/jWB+03EFdJ/d4Ejadqk\n",
       "RIzNmcZ98tjGwYm3yNKkylBFEMVEBe+hussl0MOK0uj/6cxv6F951MGYQobtHI1tpk2KNBk0Bsjj\n",
       "EEcROjLG3l0pXSzWFzxFzYo76klWlHTgt1H4SaNCr8xrZCv00jhk2pTcdrZlGhcIN0BTL6HIe9qP\n",
       "5lBmZeEWl5pXxdIQheemMM09o/uYUYGsT9i/aFMyzm2pQGw3nx7QSOR1hsYB06Z2fK5LTtK4Q7hp\n",
       "Pjg08eFOcbQ2OLctMQg8FMmbdMUsnGAVx/TtmGm+KosCr0V7RiGxcMO08bRp09Kmmpyk0U64KVr7\n",
       "YThP2b4s02Y9oeEjqqhJ290Y6hZY8SjDo9t72skUlzUyqtlVyCj2RKr4KdOmxRrk+6FoFAlHay8B\n",
       "NGSpBD/LVsy5FdEQl6h+cj9mFlr/mH2mjyu7YYVvNSOx81lZzUzZnMbfyaOisUi4aY4ihNl5iMuF\n",
       "69MWtZ1HAoGsq850NmtRZ406m5FXrojZiv5VSNFnb+hsKpvaca5XJ5NpnCXckqjijPPGUGsMxnSx\n",
       "2JuCb84Vs0icFV7tfdjq1UKsUCj2KGRWPcxLpk3JawVWNMYJhzcUjghfspNHRY5u8e8gHmCxH3SD\n",
       "cEQ0A6E+ccTlmPkgswyiowcpiQyJM0QK3A8cmyoARVLTGCLcOkB3qR8Cy5tJ/bL5+ORR8fK+o+Qt\n",
       "uJjZWVJreTMF50p9el616K/iUyChkFFBwxb01k2bir98fRwaTwkXLnh8QLkfo6NlD9y81EpfXy5k\n",
       "uOD9PbZ3Iku4UBoqy0jZzBh4vfMVkQfyJp59gXtbeakvVzYVibFWizyANzgmcd2Vl3pQsHKs1SIP\n",
       "4E2wJ5wvXnHpcY+5RqlVIg/gzR8j3D/+Yyt9amQ6tAAAAABJRU5ErkJggg==\n",
       "\" style=\"display:inline;vertical-align:middle;\" /></a></span>"
      ],
      "text/plain": [
       "|- (A <=> B) = ((A => B) and (B => A))"
      ]
     },
     "metadata": {},
     "output_type": "display_data"
    }
   ],
   "source": [
    "Iff(A, B).definition()"
   ]
  },
  {
   "cell_type": "code",
   "execution_count": 48,
   "metadata": {},
   "outputs": [],
   "source": [
    "%end demonstrations"
   ]
  }
 ],
 "metadata": {
  "kernelspec": {
   "display_name": "Python 3",
   "language": "python",
   "name": "python3"
  }
 },
 "nbformat": 4,
 "nbformat_minor": 0
}