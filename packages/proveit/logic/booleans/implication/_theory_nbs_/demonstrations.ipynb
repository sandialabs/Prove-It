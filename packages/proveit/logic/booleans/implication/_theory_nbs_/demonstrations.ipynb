{
 "cells": [
  {
   "cell_type": "markdown",
   "metadata": {},
   "source": [
    "Demonstrations for the theory of <a class=\"ProveItLink\" href=\"theory.ipynb\">proveit.logic.booleans.implication</a>\n",
    "========"
   ]
  },
  {
   "cell_type": "code",
   "execution_count": null,
   "metadata": {},
   "outputs": [],
   "source": [
    "from proveit.logic import in_bool, Implies, Not, Equals, NotEquals, FALSE, TRUE, NotEquals, Iff, And\n",
    "from proveit import A, B, C, D\n",
    "%begin demonstrations"
   ]
  },
  {
   "cell_type": "markdown",
   "metadata": {},
   "source": [
    "## Transitivity"
   ]
  },
  {
   "cell_type": "code",
   "execution_count": null,
   "metadata": {},
   "outputs": [],
   "source": [
    "D.prove(assumptions=[A, Implies(A, B), Implies(B, C), Implies(C, D)])"
   ]
  },
  {
   "cell_type": "markdown",
   "metadata": {},
   "source": [
    "## Contraposition"
   ]
  },
  {
   "cell_type": "code",
   "execution_count": null,
   "metadata": {},
   "outputs": [],
   "source": [
    "Implies(A, B).contrapose(assumptions=[Implies(A, B), in_bool(A)])"
   ]
  },
  {
   "cell_type": "code",
   "execution_count": null,
   "metadata": {},
   "outputs": [],
   "source": [
    "Implies(Not(A), B).contrapose(assumptions=[Implies(Not(A), B), in_bool(A)])"
   ]
  },
  {
   "cell_type": "code",
   "execution_count": null,
   "metadata": {},
   "outputs": [],
   "source": [
    "Implies(A, Not(B)).contrapose(assumptions=[Implies(A, Not(B)), in_bool(A)])"
   ]
  },
  {
   "cell_type": "code",
   "execution_count": null,
   "metadata": {},
   "outputs": [],
   "source": [
    "Implies(Not(A), Not(B)).contrapose(assumptions=[Implies(Not(A), Not(B)), in_bool(A)])"
   ]
  },
  {
   "cell_type": "code",
   "execution_count": null,
   "metadata": {},
   "outputs": [],
   "source": []
  },
  {
   "cell_type": "code",
   "execution_count": null,
   "metadata": {},
   "outputs": [],
   "source": []
  },
  {
   "cell_type": "markdown",
   "metadata": {},
   "source": [
    "**From tutorial number 3 (implication):**\n",
    "An implication has an antecedent and a consequent.  If the antecedent is true, the consequent must also be true.  **Prove-It** has an `Implies` **operation** that may be used to represent an implication, formatted with the $\\Rightarrow$ symbol.    "
   ]
  },
  {
   "cell_type": "markdown",
   "metadata": {},
   "source": [
    "Below, it makes sense that `True` would imply itself, similar to the fact that $x$ is equal to itself. If we can prove that the `Left Hand Side` of the `implication` is `True` then we can automatically prove that the `Right Hand Side` is `True` as well.  "
   ]
  },
  {
   "cell_type": "code",
   "execution_count": null,
   "metadata": {},
   "outputs": [],
   "source": [
    "Implies(TRUE, TRUE).prove()"
   ]
  },
  {
   "cell_type": "markdown",
   "metadata": {},
   "source": [
    "Based upon the above explanation, we can also prove that this expression is `True`. "
   ]
  },
  {
   "cell_type": "code",
   "execution_count": null,
   "metadata": {},
   "outputs": [],
   "source": [
    "Equals(Implies(TRUE, TRUE), TRUE).prove()"
   ]
  },
  {
   "cell_type": "markdown",
   "metadata": {},
   "source": [
    "On the other hand. If we can prove that the `Left Hand Side` is `False` it doesn't matter what the `Right Hand Side` is because the entire expression is false.  This is taken to the extreme in the `Boolean` case where `False` implies both `False` (which makes sense) and `True`. "
   ]
  },
  {
   "cell_type": "code",
   "execution_count": null,
   "metadata": {},
   "outputs": [],
   "source": [
    "Implies(FALSE, FALSE).prove()"
   ]
  },
  {
   "cell_type": "markdown",
   "metadata": {},
   "source": [
    "Therefore, the expression is `True`. "
   ]
  },
  {
   "cell_type": "code",
   "execution_count": null,
   "metadata": {},
   "outputs": [],
   "source": [
    "Implies(FALSE, FALSE).evaluation()"
   ]
  },
  {
   "cell_type": "markdown",
   "metadata": {},
   "source": [
    "While `False` $\\Rightarrow$ `True` may seem contradictory, the `Right Hand Side` of the expression doesn't matter because the `Left Hand Side` is `False`.  Therefore, we can automatically conclude that the expression is `False`. "
   ]
  },
  {
   "cell_type": "code",
   "execution_count": null,
   "metadata": {},
   "outputs": [],
   "source": [
    "Implies(FALSE, TRUE).prove()"
   ]
  },
  {
   "cell_type": "markdown",
   "metadata": {},
   "source": [
    "Similarly, this expression is `True`. "
   ]
  },
  {
   "cell_type": "code",
   "execution_count": null,
   "metadata": {},
   "outputs": [],
   "source": [
    "Equals(Implies(FALSE, TRUE), TRUE).prove()"
   ]
  },
  {
   "cell_type": "markdown",
   "metadata": {},
   "source": [
    "However, the only expression of this type that does not evaluate to `True`, is the case where `True` implies `False`.  This case cannot be `True` because we automatically conclude the `Right Hand Side` to be `True` if the `Left Hand Side` is `True`.  In this case, the `Right Hand Side` is `False`, therefore the expresssion cannot be `True`. "
   ]
  },
  {
   "cell_type": "code",
   "execution_count": null,
   "metadata": {},
   "outputs": [],
   "source": [
    "Equals(Implies(TRUE, FALSE),FALSE).prove()"
   ]
  },
  {
   "cell_type": "markdown",
   "metadata": {},
   "source": [
    "Similar to the way that we can prove `True` $\\Rightarrow$ `True`, we can also prove that anything implies itself. "
   ]
  },
  {
   "cell_type": "code",
   "execution_count": null,
   "metadata": {},
   "outputs": [],
   "source": [
    "Implies(B,B).prove()"
   ]
  },
  {
   "cell_type": "code",
   "execution_count": null,
   "metadata": {},
   "outputs": [],
   "source": [
    "Not(Implies(TRUE, FALSE)).prove()"
   ]
  },
  {
   "cell_type": "markdown",
   "metadata": {},
   "source": [
    "The following case is another example of the fact that it doesn't matter what the `Right Hand Side` is if the `Left Hand Side` is `False`.  This time, we are given $\\lnot A$, which we take to be `True`.  Then, by definition, $A$ must be `False`.  Therefore, the `Right Hand Side` can be anything, in this case $B$.   "
   ]
  },
  {
   "cell_type": "code",
   "execution_count": null,
   "metadata": {},
   "outputs": [],
   "source": [
    "nA = Not(A)"
   ]
  },
  {
   "cell_type": "code",
   "execution_count": null,
   "metadata": {},
   "outputs": [],
   "source": [
    "Implies(A,B).prove(assumptions=[nA])"
   ]
  },
  {
   "cell_type": "code",
   "execution_count": null,
   "metadata": {},
   "outputs": [],
   "source": [
    "Implies(A, C).prove(assumptions=[Implies(A,B), Implies(B,C)])"
   ]
  },
  {
   "cell_type": "code",
   "execution_count": null,
   "metadata": {},
   "outputs": [],
   "source": [
    "A.prove(assumptions=[Implies(Not(A),FALSE), in_bool(A)])"
   ]
  },
  {
   "cell_type": "code",
   "execution_count": null,
   "metadata": {},
   "outputs": [],
   "source": [
    "Implies(Not(A),B).deny_antecedent(assumptions=[Not(B), in_bool(A), Implies(Not(A),B)])"
   ]
  },
  {
   "cell_type": "code",
   "execution_count": null,
   "metadata": {},
   "outputs": [],
   "source": [
    "Implies(A,B).deny_antecedent(assumptions=[Not(B), in_bool(A), Implies(A,B)])"
   ]
  },
  {
   "cell_type": "code",
   "execution_count": null,
   "metadata": {},
   "outputs": [],
   "source": [
    "Not(A).prove(assumptions=[Implies(A, FALSE),in_bool(A)])"
   ]
  },
  {
   "cell_type": "code",
   "execution_count": null,
   "metadata": {},
   "outputs": [],
   "source": [
    "Implies(A,FALSE).derive_via_contradiction(assumptions=[Implies(A, FALSE)])"
   ]
  },
  {
   "cell_type": "code",
   "execution_count": null,
   "metadata": {},
   "outputs": [],
   "source": [
    "Implies(B,A).prove(assumptions=[Not(Implies(A,B))])"
   ]
  },
  {
   "cell_type": "code",
   "execution_count": null,
   "metadata": {},
   "outputs": [],
   "source": [
    "Iff(A, B).prove(assumptions=[Implies(A,B), Implies(B,A)])"
   ]
  },
  {
   "cell_type": "code",
   "execution_count": null,
   "metadata": {},
   "outputs": [],
   "source": [
    "Not(Iff(B,A)).prove(assumptions=[Not(Implies(B,A))])"
   ]
  },
  {
   "cell_type": "code",
   "execution_count": null,
   "metadata": {},
   "outputs": [],
   "source": [
    "Not(Iff(B,A)).prove(assumptions=[Not(Implies(A,B))])"
   ]
  },
  {
   "cell_type": "code",
   "execution_count": null,
   "metadata": {},
   "outputs": [],
   "source": [
    "Iff(TRUE, TRUE).prove()"
   ]
  },
  {
   "cell_type": "code",
   "execution_count": null,
   "metadata": {},
   "outputs": [],
   "source": [
    "Equals(Iff(TRUE, TRUE), TRUE).prove()"
   ]
  },
  {
   "cell_type": "code",
   "execution_count": null,
   "metadata": {},
   "outputs": [],
   "source": [
    "Iff(FALSE, FALSE).prove()"
   ]
  },
  {
   "cell_type": "code",
   "execution_count": null,
   "metadata": {},
   "outputs": [],
   "source": [
    "Equals(Iff(FALSE, FALSE), TRUE).prove()"
   ]
  },
  {
   "cell_type": "code",
   "execution_count": null,
   "metadata": {},
   "outputs": [],
   "source": [
    "Equals(Iff(TRUE, FALSE), FALSE).prove()"
   ]
  },
  {
   "cell_type": "code",
   "execution_count": null,
   "metadata": {},
   "outputs": [],
   "source": [
    "Not(Iff(TRUE, FALSE)).prove()"
   ]
  },
  {
   "cell_type": "code",
   "execution_count": null,
   "metadata": {},
   "outputs": [],
   "source": [
    "Equals(Iff(FALSE, TRUE), FALSE).prove()"
   ]
  },
  {
   "cell_type": "code",
   "execution_count": null,
   "metadata": {},
   "outputs": [],
   "source": [
    "Not(Iff(FALSE, TRUE)).prove()"
   ]
  },
  {
   "cell_type": "code",
   "execution_count": null,
   "metadata": {},
   "outputs": [],
   "source": [
    "Implies(A,B).prove(assumptions=[Iff(A,B)])"
   ]
  },
  {
   "cell_type": "code",
   "execution_count": null,
   "metadata": {},
   "outputs": [],
   "source": [
    "Implies(A,B).prove(assumptions=[Iff(B,A)])"
   ]
  },
  {
   "cell_type": "code",
   "execution_count": null,
   "metadata": {},
   "outputs": [],
   "source": [
    "Iff(A,B).derive_right(assumptions=[A, Iff(A,B)])"
   ]
  },
  {
   "cell_type": "code",
   "execution_count": null,
   "metadata": {},
   "outputs": [],
   "source": [
    "Iff(A,B).derive_left(assumptions=[A, Iff(A,B)])"
   ]
  },
  {
   "cell_type": "code",
   "execution_count": null,
   "metadata": {},
   "outputs": [],
   "source": [
    "Iff(B,A).prove(assumptions=[Iff(A,B)])"
   ]
  },
  {
   "cell_type": "code",
   "execution_count": null,
   "metadata": {},
   "outputs": [],
   "source": [
    "Iff(A,B).apply_transitivity(Iff(B,C), assumptions=[Iff(A,B), Iff(B,C)])"
   ]
  },
  {
   "cell_type": "markdown",
   "metadata": {},
   "source": [
    "**SEE CONTRAPOSITION ABOVE**"
   ]
  },
  {
   "cell_type": "code",
   "execution_count": null,
   "metadata": {},
   "outputs": [],
   "source": [
    "Implies(A, Not(Not(B))).conclude_via_double_negation(assumptions=[Implies(A,B)])"
   ]
  },
  {
   "cell_type": "code",
   "execution_count": null,
   "metadata": {},
   "outputs": [],
   "source": [
    "Equals(A,B).prove(assumptions=[Iff(A,B),in_bool(B), in_bool(A)])"
   ]
  },
  {
   "cell_type": "code",
   "execution_count": null,
   "metadata": {},
   "outputs": [],
   "source": [
    "Equals(A,B).prove(assumptions=[Implies(A,B), Implies(B,A), in_bool(B), in_bool(A)])"
   ]
  },
  {
   "cell_type": "code",
   "execution_count": null,
   "metadata": {},
   "outputs": [],
   "source": [
    "in_bool(Implies(A,B)).prove(assumptions=[in_bool(B), in_bool(A)])"
   ]
  },
  {
   "cell_type": "code",
   "execution_count": null,
   "metadata": {},
   "outputs": [],
   "source": [
    "in_bool(Iff(A,B)).prove(assumptions=[in_bool(B), in_bool(A)])"
   ]
  },
  {
   "cell_type": "markdown",
   "metadata": {},
   "source": [
    "## Axioms"
   ]
  },
  {
   "cell_type": "code",
   "execution_count": null,
   "metadata": {},
   "outputs": [],
   "source": [
    "Iff(A, B).definition()"
   ]
  },
  {
   "cell_type": "markdown",
   "metadata": {},
   "source": [
    "## Experiments"
   ]
  },
  {
   "cell_type": "markdown",
   "metadata": {},
   "source": [
    "The following three axiom schemas were suggested by Deepak Kapur for testing. Can we prove them in Prove-It?\n",
    "<ol>\n",
    "<li>$A \\Rightarrow (B \\Rightarrow A)$</li>\n",
    "<li>$(A \\Rightarrow (B \\Rightarrow C)) \\Rightarrow ((A \\Rightarrow B)\\Rightarrow(A \\Rightarrow C))$</li>\n",
    "<li>$( \\lnot B \\Rightarrow \\lnot A ) \\Rightarrow ((\\lnot B \\Rightarrow A) \\Rightarrow B)$</li>\n",
    "</ol>"
   ]
  },
  {
   "cell_type": "markdown",
   "metadata": {},
   "source": [
    "We create and name these schemas:"
   ]
  },
  {
   "cell_type": "code",
   "execution_count": null,
   "metadata": {},
   "outputs": [],
   "source": [
    "axiom_schema_i, axiom_schema_ii, axiom_schema_iii = (\n",
    "    Implies(A, Implies(B, A)),\n",
    "    Implies(Implies(A, Implies(B, C)), Implies(Implies(A, B), Implies(A, C))),\n",
    "    Implies(Implies(Not(B), Not(A)), Implies(Implies(Not(B), A), B))\n",
    ")"
   ]
  },
  {
   "cell_type": "markdown",
   "metadata": {},
   "source": [
    "The first and second ones can be proven automatically:"
   ]
  },
  {
   "cell_type": "code",
   "execution_count": null,
   "metadata": {},
   "outputs": [],
   "source": [
    "axiom_schema_i.prove()"
   ]
  },
  {
   "cell_type": "code",
   "execution_count": null,
   "metadata": {},
   "outputs": [],
   "source": [
    "axiom_schema_ii.prove()"
   ]
  },
  {
   "cell_type": "markdown",
   "metadata": {},
   "source": [
    "The third one takes more work, where we rely on the `derive_contradiction()` method and deduction steps provided by explicit calls to the `Implies.as_implication()` method:"
   ]
  },
  {
   "cell_type": "code",
   "execution_count": null,
   "metadata": {},
   "outputs": [],
   "source": [
    "temp_assumptions_01 = axiom_schema_iii.antecedent"
   ]
  },
  {
   "cell_type": "code",
   "execution_count": null,
   "metadata": {},
   "outputs": [],
   "source": [
    "temp_assumptions_02 = axiom_schema_iii.consequent.antecedent"
   ]
  },
  {
   "cell_type": "code",
   "execution_count": null,
   "metadata": {},
   "outputs": [],
   "source": [
    "not_B_implies_A = A.prove(assumptions=[Not(B), temp_assumptions_02])"
   ]
  },
  {
   "cell_type": "code",
   "execution_count": null,
   "metadata": {},
   "outputs": [],
   "source": [
    "not_B_implies_not_A = Not(A).prove(assumptions=[Not(B), temp_assumptions_01])"
   ]
  },
  {
   "cell_type": "code",
   "execution_count": null,
   "metadata": {},
   "outputs": [],
   "source": [
    "from proveit.logic import Boolean, InSet\n",
    "contra = Not(A).derive_contradiction(assumptions=[Not(B), temp_assumptions_01, temp_assumptions_02, InSet(B, Boolean)])"
   ]
  },
  {
   "cell_type": "code",
   "execution_count": null,
   "metadata": {},
   "outputs": [],
   "source": [
    "affirm_B = contra.deny_assumption(Not(B), assumptions=[InSet(B, Boolean)])"
   ]
  },
  {
   "cell_type": "code",
   "execution_count": null,
   "metadata": {},
   "outputs": [],
   "source": [
    "affirm_first_impl = affirm_B.as_implication(temp_assumptions_02)"
   ]
  },
  {
   "cell_type": "code",
   "execution_count": null,
   "metadata": {},
   "outputs": [],
   "source": [
    "affirm_first_impl.as_implication(temp_assumptions_01)"
   ]
  },
  {
   "cell_type": "code",
   "execution_count": null,
   "metadata": {},
   "outputs": [],
   "source": [
    "%end demonstrations"
   ]
  }
 ],
 "metadata": {
  "kernelspec": {
   "display_name": "Python 3",
   "language": "python",
   "name": "python3"
  }
 },
 "nbformat": 4,
 "nbformat_minor": 0
}
