{
 "cells": [
  {
   "cell_type": "markdown",
   "metadata": {},
   "source": [
    "Theorems (or conjectures) for the theory of <a class=\"ProveItLink\" href=\"theory.ipynb\">proveit.logic.booleans.implication</a>\n",
    "========"
   ]
  },
  {
   "cell_type": "code",
   "execution_count": 1,
   "metadata": {},
   "outputs": [
    {
     "name": "stdout",
     "output_type": "stream",
     "text": [
      "Defining theorems for theory 'proveit.logic.booleans.implication'\n",
      "Subsequent end-of-cell assignments will define theorems\n",
      "'%end theorems' will finalize the definitions\n"
     ]
    }
   ],
   "source": [
    "import proveit\n",
    "# Prepare this notebook for defining the theorems of a theory:\n",
    "%theorems_notebook # Keep this at the top following 'import proveit'.\n",
    "from proveit.logic import Equals, NotEquals,Implies, TRUE, FALSE, Iff, Forall, And, Not, in_bool, Boolean\n",
    "from proveit import A, B, C\n",
    "%begin theorems"
   ]
  },
  {
   "cell_type": "code",
   "execution_count": 2,
   "metadata": {},
   "outputs": [
    {
     "data": {
      "text/html": [
       "<strong id=\"self_implication\"><a class=\"ProveItLink\" href=\"proofs/self_implication/thm_proof.ipynb\">self_implication</a> (established theorem):<br></strong> <a class=\"ProveItLink\" href=\"../__pv_it/theorems/2dca1ce7b794fc66f18cf57123746550c62ec9060/theorem_expr.ipynb\"><img src=\"data:image/png;base64,iVBORw0KGgoAAAANSUhEUgAAAHIAAAAVBAMAAABoAqesAAAAMFBMVEX///8AAAAAAAAAAAAAAAAA\n",
       "AAAAAAAAAAAAAAAAAAAAAAAAAAAAAAAAAAAAAAAAAAAv3aB7AAAAD3RSTlMAq1RmmUTNIjK7EInv\n",
       "3XZ/CtNrAAAACXBIWXMAAA7EAAAOxAGVKw4bAAABn0lEQVQ4y2NgwAYKGAgAdhzifApgqgyHNFCc\n",
       "9QEDgwCIrYwqpQ2h8nHoBIk/ZmBwBbHTUWS4EsAU03/sGsHibAsYGkGunoAixWIAoeSxexcszuwA\n",
       "0szArYAixQOhtu9vgAtxLkBIQ8RPMTADLWBDNVQNEnwP3iMM5EC4CiqezMBw9u7d06g6vSGOYtA3\n",
       "QIhZIxwLEd/IwODBwDALLAR3UDKYDGLo3wCife+CwH0HmCxU3IyBoZCBHRwzXCdgcpfApANDvQCy\n",
       "F2BOh4rrgDzPHQAS4f4EU3QUnBqmuMgjBzlXTgADsng/MHoeQAIo4hyKznUMDPwXkBPOdggNE48B\n",
       "4gQ7sNCDRBTXAv3FewDhz7vpcMdCxHWBeFMW2BUMbjCd84CYFRRZHxBWRkJpuLglENeAAyKC4Q1M\n",
       "1UaQICj6vyMiMQHKgIuDoo4RnFS8d8vDoqWXgWHl/ywGpvnfNsDTEDQ5IcSvwjMWA0M9LLHxNhDO\n",
       "j+zw0AsGBhksxpgdGAgCFlj6YjnIwOWfChOeTlhnJXbhlYR14jCc/QEhjXwFDAClKGVS0iPE7gAA\n",
       "AABJRU5ErkJggg==\n",
       "\" style=\"display:inline;vertical-align:middle;\" /></a><br>"
      ],
      "text/plain": [
       "<IPython.core.display.HTML object>"
      ]
     },
     "metadata": {},
     "output_type": "display_data"
    }
   ],
   "source": [
    "self_implication = Forall(A, Implies(A, A))"
   ]
  },
  {
   "cell_type": "code",
   "execution_count": 3,
   "metadata": {},
   "outputs": [
    {
     "data": {
      "text/html": [
       "<strong id=\"true_implies_true\"><a class=\"ProveItLink\" href=\"proofs/true_implies_true/thm_proof.ipynb\">true_implies_true</a> (established theorem):<br></strong> <a class=\"ProveItLink\" href=\"../__pv_it/theorems/512a56eaa59ef5439c1ea3bc39456d4543d012230/theorem_expr.ipynb\"><img src=\"data:image/png;base64,iVBORw0KGgoAAAANSUhEUgAAAD8AAAAPBAMAAAChCwpBAAAAMFBMVEX///8AAAAAAAAAAAAAAAAA\n",
       "AAAAAAAAAAAAAAAAAAAAAAAAAAAAAAAAAAAAAAAAAAAv3aB7AAAAD3RSTlMAmd2rVHZEZrsQMonN\n",
       "7yLSt414AAAACXBIWXMAAA7EAAAOxAGVKw4bAAAAXElEQVQY02MQUgIBZQZ0wAgWVzIAsV0ZsAOW\n",
       "ACiDNAUcEwgo4GogZEU1bgUQD+kLEHKkjwMBBZxnE/AreLMPvxuUzhFwQwYBb/IdwFSQjhKSC+BM\n",
       "tgJsEcCHxgcAe1UTgkBuaEMAAAAASUVORK5CYII=\n",
       "\" style=\"display:inline;vertical-align:middle;\" /></a><br>"
      ],
      "text/plain": [
       "<IPython.core.display.HTML object>"
      ]
     },
     "metadata": {},
     "output_type": "display_data"
    }
   ],
   "source": [
    "true_implies_true = Implies(TRUE, TRUE)"
   ]
  },
  {
   "cell_type": "code",
   "execution_count": 4,
   "metadata": {},
   "outputs": [
    {
     "data": {
      "text/html": [
       "<strong id=\"false_implies_false\"><a class=\"ProveItLink\" href=\"proofs/false_implies_false/thm_proof.ipynb\">false_implies_false</a> (established theorem):<br></strong> <a class=\"ProveItLink\" href=\"../__pv_it/theorems/a4b15b5c331484ca078cf042063d53d0a24c7fe30/theorem_expr.ipynb\"><img src=\"data:image/png;base64,iVBORw0KGgoAAAANSUhEUgAAAD8AAAAQBAMAAABTi7oPAAAAMFBMVEX///8AAAAAAAAAAAAAAAAA\n",
       "AAAAAAAAAAAAAAAAAAAAAAAAAAAAAAAAAAAAAAAAAAAv3aB7AAAAD3RSTlMARGZUdpnd76u7EDKJ\n",
       "zSIw+378AAAACXBIWXMAAA7EAAAOxAGVKw4bAAAAYklEQVQoz2NgIAII4RBnVIAyTHAoYHYgSwHn\n",
       "AgIKuCcQskIHt4KwNBDIDyDkSFsDAgq4rgvgV/D2HH43pN0j4AZJAt7ku4CmAGhueVpaBiIkN0Bo\n",
       "1rS09LK0tAaMCOBD4wMAhp8YgazvQWEAAAAASUVORK5CYII=\n",
       "\" style=\"display:inline;vertical-align:middle;\" /></a><br>"
      ],
      "text/plain": [
       "<IPython.core.display.HTML object>"
      ]
     },
     "metadata": {},
     "output_type": "display_data"
    }
   ],
   "source": [
    "false_implies_false = Implies(FALSE, FALSE)"
   ]
  },
  {
   "cell_type": "code",
   "execution_count": 5,
   "metadata": {},
   "outputs": [
    {
     "data": {
      "text/html": [
       "<strong id=\"false_implies_true\"><a class=\"ProveItLink\" href=\"proofs/false_implies_true/thm_proof.ipynb\">false_implies_true</a> (established theorem):<br></strong> <a class=\"ProveItLink\" href=\"../__pv_it/theorems/3f891fa760fa7045d4b440ac32f481771b4dbb110/theorem_expr.ipynb\"><img src=\"data:image/png;base64,iVBORw0KGgoAAAANSUhEUgAAAD8AAAAQBAMAAABTi7oPAAAAMFBMVEX///8AAAAAAAAAAAAAAAAA\n",
       "AAAAAAAAAAAAAAAAAAAAAAAAAAAAAAAAAAAAAAAAAAAv3aB7AAAAD3RSTlMARGZUdpnd76u7EDKJ\n",
       "zSIw+378AAAACXBIWXMAAA7EAAAOxAGVKw4bAAAAYElEQVQoz2NgIAIIYRNkTQODBhDbBIdGZgco\n",
       "gzQFnAsIKOCeQMgKHdwKwsDuzg8g5EhbAwIKuK4L4Ffw9hx+N6TdI+AGSQLe5LuApgBobnlaWgYi\n",
       "JDfAmYwK2CKAD40PAC2cGHCwJHGkAAAAAElFTkSuQmCC\n",
       "\" style=\"display:inline;vertical-align:middle;\" /></a><br>"
      ],
      "text/plain": [
       "<IPython.core.display.HTML object>"
      ]
     },
     "metadata": {},
     "output_type": "display_data"
    }
   ],
   "source": [
    "false_implies_true = Implies(FALSE, TRUE)"
   ]
  },
  {
   "cell_type": "code",
   "execution_count": 6,
   "metadata": {},
   "outputs": [
    {
     "data": {
      "text/html": [
       "<strong id=\"implies_t_t\"><a class=\"ProveItLink\" href=\"proofs/implies_t_t/thm_proof.ipynb\">implies_t_t</a> (established theorem):<br></strong> <a class=\"ProveItLink\" href=\"../__pv_it/theorems/8ee8daf40bed00fd1d99983ca571699f559f2a9e0/theorem_expr.ipynb\"><img src=\"data:image/png;base64,iVBORw0KGgoAAAANSUhEUgAAAHoAAAAVBAMAAAB71edYAAAAMFBMVEX///8AAAAAAAAAAAAAAAAA\n",
       "AAAAAAAAAAAAAAAAAAAAAAAAAAAAAAAAAAAAAAAAAAAv3aB7AAAAD3RSTlMAInZUiRDNmWbv3US7\n",
       "qzJazP2FAAAACXBIWXMAAA7EAAAOxAGVKw4bAAAA7ElEQVQ4y2NgYBBgIATwqGAyIKh7E24pEwaG\n",
       "qlUgsBZDCibO1IBLhjUBzDXCYTZEPBWXDHsDEbrbcclwMmDqPoqumzMAh24zLLrfoOtma8ChuwSL\n",
       "bg4HNN0sF3DozkDRzQ4Oy1Xf0XRzJCAHNJLMYix2MzAno+pmnoDD7tnYdDOEzUbRzfeBFN2MKQIo\n",
       "urlx2b0Ym7+XCaC5fAEOfx/CYjf3AfRQO4DDbl8susXQ45vdAYfuVxD2DmSJcwgmRJxrA6ZusAzX\n",
       "AyLysxSuDMpRwEAYVOCUOUhYM+MBnFIxhHXz4C6aGBUI6lbEJQEADb5CylyFAg0AAAAASUVORK5C\n",
       "YII=\n",
       "\" style=\"display:inline;vertical-align:middle;\" /></a><br>"
      ],
      "text/plain": [
       "<IPython.core.display.HTML object>"
      ]
     },
     "metadata": {},
     "output_type": "display_data"
    }
   ],
   "source": [
    "implies_t_t = Equals(Implies(TRUE, TRUE), TRUE)"
   ]
  },
  {
   "cell_type": "code",
   "execution_count": 7,
   "metadata": {},
   "outputs": [
    {
     "data": {
      "text/html": [
       "<strong id=\"implies_f_f\"><a class=\"ProveItLink\" href=\"proofs/implies_f_f/thm_proof.ipynb\">implies_f_f</a> (established theorem):<br></strong> <a class=\"ProveItLink\" href=\"../__pv_it/theorems/5ef304994d4afee01a4e9837492b0a4811b9d84a0/theorem_expr.ipynb\"><img src=\"data:image/png;base64,iVBORw0KGgoAAAANSUhEUgAAAHoAAAAVBAMAAAB71edYAAAAMFBMVEX///8AAAAAAAAAAAAAAAAA\n",
       "AAAAAAAAAAAAAAAAAAAAAAAAAAAAAAAAAAAAAAAAAAAv3aB7AAAAD3RSTlMAInZUiRDNmWbv3US7\n",
       "qzJazP2FAAAACXBIWXMAAA7EAAAOxAGVKw4bAAAA8ElEQVQ4y2NgYBBgIATwqGAyIKh7E24pEzC5\n",
       "A4csWJypAV24ahUIrGVgTQBzjXDohoin4pJhbyBCdzsuGU4GTN1H0XVzBuDQbYZF9xt03WwNOHSX\n",
       "YNHN4YCmm+UCDt0ZKLrZwWG56juabo4E5IBGklmMxW4G5mRU3cwTcNg9G5tuhrDZKLr5PpCimzFF\n",
       "AEU3Ny67F2Pz9zIBNJcvwOHvQ1js5j6AHmoHcNjti0W3GHp8szvg0P0K4qSZCCcxMJxD5AWIONcG\n",
       "HPmH6wER+VkKVwblKGAgDCpwyhwkrJnxAE6pGMK6eXAXTYwKBHUr4pIAADpKQqgwzuoiAAAAAElF\n",
       "TkSuQmCC\n",
       "\" style=\"display:inline;vertical-align:middle;\" /></a><br>"
      ],
      "text/plain": [
       "<IPython.core.display.HTML object>"
      ]
     },
     "metadata": {},
     "output_type": "display_data"
    }
   ],
   "source": [
    "implies_f_f = Equals(Implies(FALSE, FALSE), TRUE)"
   ]
  },
  {
   "cell_type": "code",
   "execution_count": 8,
   "metadata": {},
   "outputs": [
    {
     "data": {
      "text/html": [
       "<strong id=\"implies_f_t\"><a class=\"ProveItLink\" href=\"proofs/implies_f_t/thm_proof.ipynb\">implies_f_t</a> (established theorem):<br></strong> <a class=\"ProveItLink\" href=\"../__pv_it/theorems/d7383957adfffad653e74e5f4232aaa2291969a20/theorem_expr.ipynb\"><img src=\"data:image/png;base64,iVBORw0KGgoAAAANSUhEUgAAAHoAAAAVBAMAAAB71edYAAAAMFBMVEX///8AAAAAAAAAAAAAAAAA\n",
       "AAAAAAAAAAAAAAAAAAAAAAAAAAAAAAAAAAAAAAAAAAAv3aB7AAAAD3RSTlMAInZUiRDNmWbv3US7\n",
       "qzJazP2FAAAACXBIWXMAAA7EAAAOxAGVKw4bAAAA70lEQVQ4y2NgYBBgIATwqGAyIKh7E24pEzC5\n",
       "A5tU1SoQWMvA1IBLhjUBzDXCYTZEPBWXDHsDEbrbcclwMmDqPoqumzMAh24zLLrfoOtma8ChuwSL\n",
       "bg4HNN0sF3DozkDRzQ4Oy1Xf0XRzJCAHNJLMYix2MzAno+pmnoDD7tnYdDOEzUbRzfeBFN2MKQIo\n",
       "urlx2b0Ym7+XCaC5fAEOfx/CYjf3AfRQO4DDbl8susXQ45vdAYfuVxAnzUQ4iYHhHEINJPdwbcDU\n",
       "DZbhekBEfpbClUE5ChgIgwqcMgcJa2Y8gFMqhrBuHtxFE6MCQd2KuCQAIzhCuRhxjHcAAAAASUVO\n",
       "RK5CYII=\n",
       "\" style=\"display:inline;vertical-align:middle;\" /></a><br>"
      ],
      "text/plain": [
       "<IPython.core.display.HTML object>"
      ]
     },
     "metadata": {},
     "output_type": "display_data"
    }
   ],
   "source": [
    "implies_f_t = Equals(Implies(FALSE, TRUE), TRUE)"
   ]
  },
  {
   "cell_type": "code",
   "execution_count": 9,
   "metadata": {},
   "outputs": [
    {
     "data": {
      "text/html": [
       "<strong id=\"true_implies_false_negated\"><a class=\"ProveItLink\" href=\"proofs/true_implies_false_negated/thm_proof.ipynb\">true_implies_false_negated</a> (established theorem):<br></strong> <a class=\"ProveItLink\" href=\"../__pv_it/theorems/59c6bd690582a55297b304f46e6535dd5ea7123d0/theorem_expr.ipynb\"><img src=\"data:image/png;base64,iVBORw0KGgoAAAANSUhEUgAAAF4AAAAVBAMAAAA9Y0TyAAAAMFBMVEX///8AAAAAAAAAAAAAAAAA\n",
       "AAAAAAAAAAAAAAAAAAAAAAAAAAAAAAAAAAAAAAAAAAAv3aB7AAAAD3RSTlMAmd0iq3ZUiRDNZu9E\n",
       "uzLWhN+VAAAACXBIWXMAAA7EAAAOxAGVKw4bAAAA6ElEQVQoz2NgQAADBgKAGYXHmkBIPU8AMi+d\n",
       "gVEJDBywKV0AIqOQRDgmgEi2AOxGQ8Q5GxAijAsIq+cSQIhwM2Cqv4GmnmEHQi4Ti/q36OpnIeTE\n",
       "sajnKkBTX4KQm4WiHhpUH9HUr2QQAgkrAplqWMxnYJuGqj4bwjMB4j3Y1DN07kFR/56AeubpBijq\n",
       "TyPUq2Fzv6YBqnuSIDxDIL6KxXyeC2j+XYuQK8Gi3hI9/MURco+Q0hUM3IM7TnsTOB3qIOSYHmCm\n",
       "GvQcwayAFJcCDAQBI7Ltlwmrt0Xm9BJWj2IkcwAh5awGDAA4oCrYOpBMiwAAAABJRU5ErkJggg==\n",
       "\" style=\"display:inline;vertical-align:middle;\" /></a><br>"
      ],
      "text/plain": [
       "<IPython.core.display.HTML object>"
      ]
     },
     "metadata": {},
     "output_type": "display_data"
    }
   ],
   "source": [
    "true_implies_false_negated = Not(Implies(TRUE, FALSE))"
   ]
  },
  {
   "cell_type": "code",
   "execution_count": 10,
   "metadata": {},
   "outputs": [
    {
     "data": {
      "text/html": [
       "<strong id=\"false_antecedent_implication\"><a class=\"ProveItLink\" href=\"proofs/false_antecedent_implication/thm_proof.ipynb\">false_antecedent_implication</a> (established theorem):<br></strong> <a class=\"ProveItLink\" href=\"../__pv_it/theorems/d8533ec4bf555420f5f41d641deef4379b158a560/theorem_expr.ipynb\"><img src=\"data:image/png;base64,iVBORw0KGgoAAAANSUhEUgAAAIcAAAAVBAMAAACeZ+BxAAAAMFBMVEX///8AAAAAAAAAAAAAAAAA\n",
       "AAAAAAAAAAAAAAAAAAAAAAAAAAAAAAAAAAAAAAAAAAAv3aB7AAAAD3RSTlMAq1RmmUTNIjK7EInv\n",
       "3XZ/CtNrAAAACXBIWXMAAA7EAAAOxAGVKw4bAAAB70lEQVQ4y41UTSgEYRh+7GLXDGOvTraUuLAH\n",
       "NyXyk5JsuXDRKhIrv6Xkv5w3KYd1MTk4Ty7ChZvyE+XgYDKRpBz8lJ8k3vebmZV2Zsd3+H7e753n\n",
       "e57ne+cDMrcAvNqIZwauMx8RA7poDPGixC3Lp3Hf7rad+wgoEaCRF31uWRuir3DbriQQDAALzGrJ\n",
       "Las+M0jdG3VVxEgF5LBb1l46SJ6amspT79Tnq/CTpFxXS2LpIMFf2rPKMxtDCMe6fugGkq05yKlO\n",
       "zWp9L8yH7qYZWBUh1cH9yB+QVp3bVa21zAkHP2nwE91RBMQ1SweWhHjPue1RQdjJ2FJrOxuBJ/5g\n",
       "j42So8Il1pcoWoGhjZVZ6flRJxBp0AzfN9R9sEl0zz7D9LXjhLBJG4HI6xlBJrZMLAP4YlV8hbEa\n",
       "ETO6gRsx0cZ3nOWYnuh9thrgkuWcUrc5wCEFTZDE7RkNR/N2TRgOTDqtkX+GYTaWv5oWvnbgATkR\n",
       "k8nirV1NoXSQQMwaWcXaiFUHWeLclt1i1d+fTC6zJ7JdWKdCw5Gun/1WrElTWntVUf4dJ81Re0sB\n",
       "5uaDmslEVuzwxT9emJnUjAQWhs2qI5CEHa7yfnGsn5Sd3ofU1otJouobiicjKe7e71baEyBtJ1f+\n",
       "BpY8Qf5xzqxnxh3wA5blebnBdj6PAAAAAElFTkSuQmCC\n",
       "\" style=\"display:inline;vertical-align:middle;\" /></a><br>"
      ],
      "text/plain": [
       "<IPython.core.display.HTML object>"
      ]
     },
     "metadata": {},
     "output_type": "display_data"
    }
   ],
   "source": [
    "false_antecedent_implication = Forall(A, Implies(FALSE, A), domain=Boolean)"
   ]
  },
  {
   "cell_type": "code",
   "execution_count": 11,
   "metadata": {},
   "outputs": [
    {
     "data": {
      "text/html": [
       "<strong id=\"falsified_antecedent_implication\"><a class=\"ProveItLink\" href=\"proofs/falsified_antecedent_implication/thm_proof.ipynb\">falsified_antecedent_implication</a> (established theorem):<br></strong> <a class=\"ProveItLink\" href=\"../__pv_it/theorems/6c22169b75f6506394854f227ca2ba282c5b93d70/theorem_expr.ipynb\"><img src=\"data:image/png;base64,iVBORw0KGgoAAAANSUhEUgAAAK8AAAAXBAMAAACPJQJeAAAAMFBMVEX///8AAAAAAAAAAAAAAAAA\n",
       "AAAAAAAAAAAAAAAAAAAAAAAAAAAAAAAAAAAAAAAAAAAv3aB7AAAAD3RSTlMAq1RmmUTNIjK7EInv\n",
       "3XZ/CtNrAAAACXBIWXMAAA7EAAAOxAGVKw4bAAACcUlEQVQ4y61UTWgTQRT+sptkk00bE5DiRRIQ\n",
       "vHhwD0XwYF3wB0sPBr0UEa2KiPFge/GkJD16kBYRNCJtTkIPSvQikoOxIlZECSLeAgsevIhNNbSi\n",
       "YHwzs7O72USTpT6YnTfv2/n2vW/eLBDcpv/DG70smeXTlX+8copGijk7ghDvEtPlXtjedjp9sYik\n",
       "ARxi6wsBePUpPintnuhrIPQDyAOztNLmAxCHDTFlegmp/QYiLWAUiJaBRDYA8ZCYnjwrurG70lEp\n",
       "W5XIh8pQKYFoEIl3itSsVU8216UTahLbKxrE+rbReBOEeEIogd2GG1Mrspx56NuplAT1xBFZSdmn\n",
       "ZefSQc/x5zHMcbJwg1vLBucWvo6wD6p0wjPQeMvpK6KqVnWcqxfv7IUV6b3nTxOFlAdWzop5dRrK\n",
       "C7auEUE5kWOxxDdRVR3JWjexjZK95Jfk1sFMRyvd52Hco8FONUZaK5Y4u8l3Qn4TarOb2EYl8UNg\n",
       "S93bZpdE863R2G9Ry7HcpsZ4zDoj5M/igdFNbKNSChMYrnk0/ih4Y9/pkSEBFPbVx3leHA5zrPBp\n",
       "dBu6iCVKtkAjwnq06cIRW5bkBpGvM0FZ4Co/hUl84dg+6Fs9xE9LpVLdRckesS0M33CJ5Q8pSlWc\n",
       "ZHmGWcuEeBNMVDO8o4i1kOvMOOWiZDeApXYeyuJ6xXnjjn09FtfSIzeZN5xza0WBf2AZOF30Ezso\n",
       "21Mc4P97zfGO0zFn9Qq0n9A/+DQ2BSpvmTnA9TzgXLPn0I+ejy1jz6/qeNZ/eAKVq9v9ebt+l4rH\n",
       "j/9t11J/4rhfmxODEGtWX+LP/oAxCPFmTdvc9j9ebJAfzrOIdQAAAABJRU5ErkJggg==\n",
       "\" style=\"display:inline;vertical-align:middle;\" /></a><br>"
      ],
      "text/plain": [
       "<IPython.core.display.HTML object>"
      ]
     },
     "metadata": {},
     "output_type": "display_data"
    }
   ],
   "source": [
    "falsified_antecedent_implication = Forall((A, B), Implies(A, B), condition=Not(A))"
   ]
  },
  {
   "cell_type": "code",
   "execution_count": 12,
   "metadata": {},
   "outputs": [
    {
     "data": {
      "text/html": [
       "<strong id=\"untrue_antecedent_implication\"><a class=\"ProveItLink\" href=\"proofs/untrue_antecedent_implication/thm_proof.ipynb\">untrue_antecedent_implication</a> (established theorem):<br></strong> <a class=\"ProveItLink\" href=\"../__pv_it/theorems/9e345d7f7f06d2b2b5bf9d3ecf716f161cac82b00/theorem_expr.ipynb\"><img src=\"data:image/png;base64,iVBORw0KGgoAAAANSUhEUgAAAL0AAAAXCAMAAABpjr6KAAAAOVBMVEX///8AAAAAAAAAAAAAAAAA\n",
       "AAAAAAAAAAAAAAAAAAAAAAAAAAAAAAAAAAAAAAAAAAAAAAAAAAAAAAACXHtMAAAAEnRSTlMAq1Rm\n",
       "mUTNIjK7EInv3Xbt5cmRiLwgAAAACXBIWXMAAA7EAAAOxAGVKw4bAAACcUlEQVRYw9VXiZabMAz0\n",
       "fdvb6v8/tgjbiQwY6HZLt3ovJCSWNYxGssLYvzD7Lbb4pBVBYZhP7aELXvnrXsiHwItI7wzc9ZMe\n",
       "gC9mvEMKEK7Sr20eSkYYyBYA912TX984IHwTGHOdfOsfol4NOVYcbrNmoVTVgMJUqPYIaFE8hD7R\n",
       "m2jjSuTOfDiQTlsq61OkZYlsVJinVE8D2cIKHNLmDqTAm8hMWtNlEHnKaCk+JRwaSKHwj7uFjBPZ\n",
       "B55rCiKKXrltpsJF/H0hntxtzRCweqHdwRumysRgG8eBL6Xw1wYSs2h5v/ToydEMgopRefLVLqeD\n",
       "A4vYxaJfLOGlbBZnMfJggU81Nmqq1PoWqcEXqdMeNQk/KFHm1TOdoB8cCA+HXSy9IxWv1NJz/Ly3\n",
       "ksXLdqmHcy0X6zOUoWa1S5QvrmqZz9GPDtzeRR+qF+RZgzRxaKY9SbI3ztTajSThCzM0lwl5DVnO\n",
       "0Q8OOrJz9G/lNF3ndKz7vDk+XS9vDpUAkVurN4FgYcoMJ4SUilNh+y346qBQ5f5jeckz9K9C0PJ0\n",
       "VNA7ktqx5sD0yaEiTIQ7N4p8lX3gaop+dCiSXXAfWyzbffzhYbsf3kxqeulU995LqF0aTOQQNrK3\n",
       "oGegBocw/HaI3uW6EGBFIfDDwVnjNycwf41oL+VlvRteK1Y3yn6ZLGYd8+2Ayvnx018ph2X3NfO7\n",
       "3VV70yJ2wBArrrAW7Uw5xIGRke8MvVR/Y9rDL9YCCAqMZg5ZlwYinlViAoo67EerCUz/JaP41Uw8\n",
       "GzqnbqLcG/C/ZBa/4ECH30V/d0y15c/Bl4sETv8oztALzf4Ds98GyS9KlRPd7hN8AgAAAABJRU5E\n",
       "rkJggg==\n",
       "\" style=\"display:inline;vertical-align:middle;\" /></a><br>"
      ],
      "text/plain": [
       "<IPython.core.display.HTML object>"
      ]
     },
     "metadata": {},
     "output_type": "display_data"
    }
   ],
   "source": [
    "untrue_antecedent_implication = Forall((A, B), Implies(A, B), condition=NotEquals(A, TRUE))"
   ]
  },
  {
   "cell_type": "code",
   "execution_count": 13,
   "metadata": {},
   "outputs": [
    {
     "data": {
      "text/html": [
       "<strong id=\"invalid_implication\"><a class=\"ProveItLink\" href=\"proofs/invalid_implication/thm_proof.ipynb\">invalid_implication</a> (conjecture without proof):<br></strong> <a class=\"ProveItLink\" href=\"../__pv_it/theorems/4fb1a0bc6c7c542f0be9d5549c547f612f7edf7e0/theorem_expr.ipynb\"><img src=\"data:image/png;base64,iVBORw0KGgoAAAANSUhEUgAAAN8AAAAXBAMAAAB5bIfGAAAAMFBMVEX///8AAAAAAAAAAAAAAAAA\n",
       "AAAAAAAAAAAAAAAAAAAAAAAAAAAAAAAAAAAAAAAAAAAv3aB7AAAAD3RSTlMAq1RmmUTNIjK7EInv\n",
       "3XZ/CtNrAAAACXBIWXMAAA7EAAAOxAGVKw4bAAAC90lEQVRIx71WS2hTQRQ9zcv35WMKUtxIAoIb\n",
       "F2ZRBBdqwQ+WKgbdFBGNiohx0RbElZq4FCoNImhF2yykUPzQunGRRWNFVEQppYibwkMXbsSmtbSl\n",
       "gnVm7vvclNc2PNCBk5m5d+aemfuZF8BzC/FJ94bLuxtatV77ysaJtOqurrP8tImknGzzwOcbYZMd\n",
       "1HW5Ldy90tx8qYhEBgoHpeyiB8IhNtZzdIYV15XvgaYlIA+FmzIaJQ+E+9nYn6Eu5Rak0B8gMA+0\n",
       "QiFYBqJpD4RVNo5R93Ks6MgeWANN3E4TpLGygiYOF/QSwhybbKerGDPs5LesQVNNMLwVyBA+Tk9/\n",
       "8EDo5znTQSLszDgyzVoQK0HfKq4eTRIOW7cvr7JoZ4QrYZDZxnn1exx9isQ/rdq8qewb+NkiF2s5\n",
       "Qg9CqjT0d+SJ+Uq7ikTEsvaUBcbWIi68d1TanRKTSSVqQyHJnX6O+plu+F7LeZUQKUezUh6dI09M\n",
       "IFGtIxxjgbG1iGVNUY/AG1X8dw+k6tJ9SInxUNoQpwzXCD6DcqbzE4W4DVqNEwZ6DceGrXUhfA5s\n",
       "muDlcJmKZFZgn7ARqBKQ26vkxlkylMazDCdMBJmfbK1yqU04SR5FvMpi+Jn4wr/ET0oczzdBwIu8\n",
       "sotDSl/41roFnNDwswKwtYhY974iMCA9IbO+5iwNmO5NLArSBRmOEgHX1A068UPp90DfzAkDRRW0\n",
       "aH9//yOmVQlut1FpRu5ZdGTWQx4U20/lzUJSxdSk0q6jklJ1IewVsozQXxldtgLItAjzcN0Ghlfy\n",
       "8A0uONV539w0ONvcckcFIUswLy4sKeJx4AwvCwOhJYfQ1gJfGGG86P79q2vXTVA7IVIsrY8gtAx9\n",
       "irlURmYOT8ynwNHSW2xXS1uDr7394vtfQT92ITyOXb8r7WlGeCSJxwvZXjMlHa3Q8yvca+APQsnl\n",
       "s+Rj4whXuHxOdL55eGNCecDIaj+fXIMwUHaxcIMf39iQ8LuJupZZg1DDf2ihf2P2L81HvoJBamXn\n",
       "AAAAAElFTkSuQmCC\n",
       "\" style=\"display:inline;vertical-align:middle;\" /></a><br>"
      ],
      "text/plain": [
       "<IPython.core.display.HTML object>"
      ]
     },
     "metadata": {},
     "output_type": "display_data"
    }
   ],
   "source": [
    "invalid_implication = Forall((A, B), Not(Implies(A, B)), conditions=[A, Not(B)])"
   ]
  },
  {
   "cell_type": "code",
   "execution_count": 14,
   "metadata": {},
   "outputs": [
    {
     "data": {
      "text/html": [
       "<strong id=\"not_true_via_contradiction\"><a class=\"ProveItLink\" href=\"proofs/not_true_via_contradiction/thm_proof.ipynb\">not_true_via_contradiction</a> (established theorem):<br></strong> <a class=\"ProveItLink\" href=\"../__pv_it/theorems/cbe9ec8b7410c394a6add0a23e8c20ac1634366b0/theorem_expr.ipynb\"><img src=\"data:image/png;base64,iVBORw0KGgoAAAANSUhEUgAAAKkAAAAXCAMAAABHy58YAAAAPFBMVEX///8AAAAAAAAAAAAAAAAA\n",
       "AAAAAAAAAAAAAAAAAAAAAAAAAAAAAAAAAAAAAAAAAAAAAAAAAAAAAAAAAAAo1xBWAAAAE3RSTlMA\n",
       "q1RmmUTNIjK7EInv3Xbn9enzK1aD6QAAAAlwSFlzAAAOxAAADsQBlSsOGwAAAgVJREFUSMfNl9ly\n",
       "hSAMhgHZg3Th/d+1oqJBFjkzx7ZcOEpYPv4kgIT8SlF/2Pul4hmeV1bbcNvsLnx80uObTU+BMsBf\n",
       "MtTaaIOgZ1QioI9oXBwjPCWyzURkoUpqdLE+j1a3CK6TqMo8JSnPnMVpqEiiKemRTnzHjQXYU6QO\n",
       "f4CCoCuSqi4pcQvltK9YPhaleGTliQ+lJoKSPqmMlG4NXAePOR+PzGOglqlby5GMFOJS+OoMgzaJ\n",
       "bL/gZYa8RioRmFjk1AGuWf7xmbK8RTpFxyiaHonE4UAqEi03X/Sr1M0st6tARyTNSZlLcoJASmeB\n",
       "VJBCaOdebf9w59DecL7k/rWV4OSOVIdUhaJeaOc7k1/M+XnRJ7VbxzCPSJqTCren/YRqPZG0M/nF\n",
       "TKi6IT29v0s3uzxOv77P06jp/XnfSqVFJITL9uTJDGYvEodtjdSkGcVUP05lPUXzjNpGVo4i5y40\n",
       "rklamCP0eSLXSGEfXKVuJj+kGCf3pGmroxpVAdBgW6SFed03wHZI9eo4a0JYxWPxBe4lPVywRYwo\n",
       "7mfr1KHl0NN8eN8Y6HufzHr8otW6oc6NdeB9yPTNBKabjNquF+2DYeQg4ddjja8Ba3mQojZ5zawT\n",
       "xiqyiw8/cP04lzEk6dA976bRiCK2M8Y8MoBRbyAd+xHyTZMe+bkZu+M/dsH+Z7+V7ys/+3QP53uw\n",
       "XeAAAAAASUVORK5CYII=\n",
       "\" style=\"display:inline;vertical-align:middle;\" /></a><br>"
      ],
      "text/plain": [
       "<IPython.core.display.HTML object>"
      ]
     },
     "metadata": {},
     "output_type": "display_data"
    }
   ],
   "source": [
    "not_true_via_contradiction = Forall(A, NotEquals(A,TRUE), conditions=Implies(A,FALSE))"
   ]
  },
  {
   "cell_type": "code",
   "execution_count": 15,
   "metadata": {},
   "outputs": [
    {
     "data": {
      "text/html": [
       "<strong id=\"implication_transitivity\"><a class=\"ProveItLink\" href=\"proofs/implication_transitivity/thm_proof.ipynb\">implication_transitivity</a> (established theorem):<br></strong> <a class=\"ProveItLink\" href=\"../__pv_it/theorems/b3e10600494ad398844e952a5162eb605503c9800/theorem_expr.ipynb\"><img src=\"data:image/png;base64,iVBORw0KGgoAAAANSUhEUgAAAQMAAAAXBAMAAAD9zzfBAAAAMFBMVEX///8AAAAAAAAAAAAAAAAA\n",
       "AAAAAAAAAAAAAAAAAAAAAAAAAAAAAAAAAAAAAAAAAAAv3aB7AAAAD3RSTlMAq1RmmUTNIjK7EInv\n",
       "3XZ/CtNrAAAACXBIWXMAAA7EAAAOxAGVKw4bAAADYElEQVRIx71WXUgUURQ+zjrO7oxOSgsFEQ3U\n",
       "SxC0kPRmraSRbOFCL9KvBRGooL70Urlb9BL4UD2EW4ETSBQmWPmSC1lSEEW1VIQPilsRokT0Y2ZK\n",
       "P+fcu3fm7rqy9jAdmLl3zp1z7nfO+c6dAfBStIJvtIHH8o4DaVz8jQN4ldNkrTcIlH42lHzOt6hP\n",
       "VizX+s0QQC09HvUGwjU+bMwL4eMUKLtC0ARwijJ1zhsI2/hQ/SPP2o0RvNW3QSVmyQYwLG8g3Gd3\n",
       "4/isq7okJi24L+wDKLXBh8Uo8YgKnIYd5ldXdzYzGkx3BvfG/Z+NjT31BkIxZ2NY+ebqfFwHsRTd\n",
       "ryMW7IcdIjv2Yp4cDv8jBAoQQLX888zNGJNpvjaUFpgwVe2gscbUH/NMTSfr4mxmBpO9BCsgXN6M\n",
       "u+793ZGBrhwDLm8jg4N8VmbxCLQvcnUOs2FcnEkKEiZgG1G3OuBLgclopL4EuAIyhCGZtVXYVtkG\n",
       "XPZbEMg8ljK/kzXVP7M69RHdX4jE+7FjlTRnY8NzNhSFwcf6eAOur5MhqJ08efwcCwJszTZQKO/K\n",
       "E7zCEgQdjX7JZ3Yzi3+cWWD2VMLbuIWtpQ9xOwv6yJdGSTktQzBLyvmezMcw6K+yDABWEM0wU35L\n",
       "KgQxaVTiwhtegXoaDIJBvLzdxDaA7Zyq7ytXso1SAreAkC5uhLuJROIikUb7vak67hoYqE+0oGK1\n",
       "FHCAsrYbr1ZXp2ZOwRitEWd8pDjBgmvIlLYK9CALLpwDQY2Lkhu1jAFXw1kGKANReChBoH7TyKbb\n",
       "/R4eEyzERt1ri84tYtFEkmvsTI1jVMNSgmlJEIqTt+Yy5VxlEwO07yAboLQPAhFKEV2TAr17xob1\n",
       "f5odCF1i0nM+yKzKokJjoqM4rzEcpEkRhmC2SRDSoM2yQiQucwao/NxlBqwQCQyoAjUTwunIEv4P\n",
       "TjozLNkyS+8HbQ701wC9oGPvfJAKoSLleNsaRL6YDX1hcA1I7tDZEQXTiaty6Z8yzPID0OuP+Idh\n",
       "83yyDtPfaUFP5JMtQdhZDj0z0czBDr7W5MAFTLVjQHknbug196ZcPhb+J1rwkVacmXQKBXJesvMa\n",
       "5Du/9cI/AQtQ7nF6x14cQl6D/NJREMJEriLkfNBgaRBC8F9E89j/X5u83oAZHchuAAAAAElFTkSu\n",
       "QmCC\n",
       "\" style=\"display:inline;vertical-align:middle;\" /></a><br>"
      ],
      "text/plain": [
       "<IPython.core.display.HTML object>"
      ]
     },
     "metadata": {},
     "output_type": "display_data"
    }
   ],
   "source": [
    "implication_transitivity = Forall((A, B, C), Implies(A, C), conditions=[Implies(A, B), Implies(B, C)])"
   ]
  },
  {
   "cell_type": "code",
   "execution_count": 16,
   "metadata": {},
   "outputs": [
    {
     "data": {
      "text/html": [
       "<strong id=\"modus_tollens_affirmation\"><a class=\"ProveItLink\" href=\"proofs/modus_tollens_affirmation/thm_proof.ipynb\">modus_tollens_affirmation</a> (established theorem):<br></strong> <a class=\"ProveItLink\" href=\"../__pv_it/theorems/d7c13eb22e7ffe1ec494ea74275edda3ba472e890/theorem_expr.ipynb\"><img src=\"data:image/png;base64,iVBORw0KGgoAAAANSUhEUgAAAOoAAAAZBAMAAADNvK/KAAAAMFBMVEX///8AAAAAAAAAAAAAAAAA\n",
       "AAAAAAAAAAAAAAAAAAAAAAAAAAAAAAAAAAAAAAAAAAAv3aB7AAAAD3RSTlMAq1RmmUTNIjK7EInv\n",
       "3XZ/CtNrAAAACXBIWXMAAA7EAAAOxAGVKw4bAAAC+UlEQVRIx+WWTWgTQRTH/8kmu8lujTn0UPHg\n",
       "iiB60UDVm5pAay09GPBS8WAERWzBpgpCUUyEXgpSpFBxK5LVm0ghlHqoudh6EfygaMFLA4HiQfBQ\n",
       "tWq1+DEfm52J26SK25MDyczu7H9+M++9eTNAwxIov4bfJVZ+ucYXKtajtP4fVC3DqHHa3lafGqBV\n",
       "MOEXVV1k1HbaPlOfGkrTKusXdTenXqXLvl6fGqHGGPDNwqkvjKragGE28GsPqSb8ghqXlhlVSTSK\n",
       "GZUHXMYv6pXYBx7Dz8vlp42oTeXyfNEvajL4kVMPA2Psjb06NZRHVO4K8SooAsxG7A+hYTOywqn9\n",
       "0Nju0Z84w/WemjMlKuntJ62hpVJnnr6K8p697lBUmJSGjhS6Jm+KR1fIZqy959SobaSZo6nFhzeN\n",
       "olI8v0POEmN4QP6VWcQeCaoeFxFChMflFe0H3oknV0jK27bUV04NVngwdb8gcyHmJlTjrkzdxYIp\n",
       "kISyKKhsG8MVqtwHPNs0AwelA6QqJFOtAN+djJg5wF5VTgILrFG88FCmqgr5GE0mxhOCukEMS4XO\n",
       "3gswZ89AfyW6XSEPiXmHOtHDzh8cgs6yRaXtWV6mGtvpQnILe1ogqBfFwUWECCYxZVnWDRob2o/W\n",
       "VF5QXSFwlPz6HOpl5qJu4otwgq918I1M1aa5s/RmiXoMDDPLhQg72c1oZ468Q6PLIP23JSE06t5C\n",
       "llMDbGJdpS22ctayRqhfjZozp8VxVi4tqFt5f5wLEXGo2mabOlL7VHWqJNQLn23s/NkrnXRkx+Xy\n",
       "kSJfqxHznnQzwAlp5wxVqUxYtbB1izsyvCyornCV85WYfKPJ0wWhDnuo2jfoc/BEU9IRxircwNRF\n",
       "ORvjSdyvblBX6KWGpqEfOY0BMqnguV4r4aHuWyl1mhI1mq0ROo+DdH/2lSZHgGvm78K6dwl9yhpd\n",
       "6y7BqeHa1HwPnqRq+nqDcTJiR83LDm/KtdeDasijKmnPZ8q/3Na892ENXmvqf3cffvwL2Dq+QdJw\n",
       "9pwAAAAASUVORK5CYII=\n",
       "\" style=\"display:inline;vertical-align:middle;\" /></a><br>"
      ],
      "text/plain": [
       "<IPython.core.display.HTML object>"
      ]
     },
     "metadata": {},
     "output_type": "display_data"
    }
   ],
   "source": [
    "modus_tollens_affirmation = Forall(A, Forall(B, A, conditions=[Implies(Not(A), B), Not(B)]), domain=Boolean)"
   ]
  },
  {
   "cell_type": "code",
   "execution_count": 17,
   "metadata": {},
   "outputs": [
    {
     "data": {
      "text/html": [
       "<strong id=\"modus_tollens_denial\"><a class=\"ProveItLink\" href=\"proofs/modus_tollens_denial/thm_proof.ipynb\">modus_tollens_denial</a> (established theorem):<br></strong> <a class=\"ProveItLink\" href=\"../__pv_it/theorems/d389baab15ba021c1a3765cb6fdf0f512717a5700/theorem_expr.ipynb\"><img src=\"data:image/png;base64,iVBORw0KGgoAAAANSUhEUgAAAO8AAAAZBAMAAAArlWSOAAAAMFBMVEX///8AAAAAAAAAAAAAAAAA\n",
       "AAAAAAAAAAAAAAAAAAAAAAAAAAAAAAAAAAAAAAAAAAAv3aB7AAAAD3RSTlMAq1RmmUTNIjK7EInv\n",
       "3XZ/CtNrAAAACXBIWXMAAA7EAAAOxAGVKw4bAAADK0lEQVRIx72WXUgUURSAj/s364xuPgjZQ+xC\n",
       "IEF/C4bQQzWBRbIPLfUiEWRYRGulWxAsCLtBLz2kIomtD7n15oOxmhG6D6UQRH8sZW8ODEhvSRH9\n",
       "UZCdc+/MeMfZH9ncDszMvXPOzHfvOeeeewFKylatF6ogy1qojEUnVEfc4eqD17pM+k/ggM2p1wC8\n",
       "Ogc3UH9bcXANPVzhisE7bL0evJY4+DD1zxcHe6L48FWcYrLNZ64V+lmGga+T2weLg/3kkkTFE/bY\n",
       "fOUJ4gzcKgMTXwmViHEMH1MVg+tsvcdPUnh/wcCUX75SydXyTznWbEto/RNNsYtn9WtNe1kKXKdp\n",
       "i9mKwRGbp2EPeX6Sg48CjLLXmcJgTwpqRZVqNjLrAXeJneMwQFNo5eA4SGxJyc+NzOs+uxASwKiN\n",
       "Y+vm11w7BQjMRDTtmVhaJv6xyPQd3nyLI9dIVDbmJKF2cnBtRqEVA8oXvPVvGQY9e2W7WEBG4RGt\n",
       "vDwEnopgZm+VQFPLZT/AR956ZoYXiYHbbUH6eoCDXTrPrY43ODj0O4KV+yJ4N7vXqOD+LILJ3qot\n",
       "lpZLI8BBJ/gBwKY8tk8ZJbPzAFPpZ3hRQfDVWRHsc1ORqwvBRFgEkz3JZhC1XOZBfme52gKjt+vJ\n",
       "LbsM8FSM1VQ4AjL7qd72KiWClWZKo+TS3iYQwGSvpFEupkQtp/xpOWT84q75SgUvLVxyyz4D3Mdy\n",
       "qwOj4g3zGd/4IIKlOR42uVEEd5hRhOnoqnYGR5KniN8zkn9ydTh9eNX+4EuMgWvY4CK5YMZ9IZ0e\n",
       "ohgrtt2pyQhbMiqAyZ634rOCFqWBIi59451bFnd8JQause+4nt6L22IAv0z5s3zGSsC5Lc4DnBaW\n",
       "E7Nnrk5nRS0DY8S9P3mnPuVY2lJeBJ/AjAvxSoLgfgdY+gXyguBqbk/y0NLKWaPCJDMwYbjarRbc\n",
       "NyywZw7kY+cggeNzXe5Ohx3g1t+59tAq2LCnYqFaWv+8AevJTQ+ZH444wIkCJxB5Jj1c7gSyZguV\n",
       "xe22QM0cd7wZqfDoM1jc+mSBd5K+9izUu/Hg9R+QyoIvOc/VG3HQXl4M/wUmCdhHGptFtwAAAABJ\n",
       "RU5ErkJggg==\n",
       "\" style=\"display:inline;vertical-align:middle;\" /></a><br>"
      ],
      "text/plain": [
       "<IPython.core.display.HTML object>"
      ]
     },
     "metadata": {},
     "output_type": "display_data"
    }
   ],
   "source": [
    "modus_tollens_denial = Forall(A, Forall(B, Not(A), conditions=[Implies(A, B), Not(B)]), domain=Boolean)"
   ]
  },
  {
   "cell_type": "code",
   "execution_count": 18,
   "metadata": {},
   "outputs": [
    {
     "data": {
      "text/html": [
       "<strong id=\"negated_reflex\"><a class=\"ProveItLink\" href=\"proofs/negated_reflex/thm_proof.ipynb\">negated_reflex</a> (established theorem):<br></strong> <a class=\"ProveItLink\" href=\"../__pv_it/theorems/3f311f52cfac88e33a12603b7afe77185f41a86a0/theorem_expr.ipynb\"><img src=\"data:image/png;base64,iVBORw0KGgoAAAANSUhEUgAAANoAAAAXBAMAAACfRUyCAAAAMFBMVEX///8AAAAAAAAAAAAAAAAA\n",
       "AAAAAAAAAAAAAAAAAAAAAAAAAAAAAAAAAAAAAAAAAAAv3aB7AAAAD3RSTlMAq1RmmUTNIjK7EInv\n",
       "3XZ/CtNrAAAACXBIWXMAAA7EAAAOxAGVKw4bAAADFUlEQVRIx61WX0hTURj/6TbvdqdrgkTRwwZF\n",
       "vRgNMiGiXJSRWCT1Yn/AhYQkA+0lCKIZ9CIEk4h09eAVIggypghSe9B8iP5QDCrwZbTyNbSizAy0\n",
       "7ztn13u8bmnMC+e7557vnO/3nd/3O2cD1unR1mHG2p/P/3ZfBlxZwM/9rUWDlSYBR/+3yo19+f0d\n",
       "1KaAeu63FY32gE15DxDoypvMIpkyA9eZ0Z6i0Q6xiRFXLeF8bmegk/YeZkB4g0WjjbOpo33VZc0h\n",
       "j2G5R8d4y6/gCNEWiy9bhG2AWrTTHHNbjGnZGd5QK/Amk3ldNJozyfYlMDBpDe6z3NhFm8IQcBS4\n",
       "K4YMWwD1YwcbfQXIEmtlHMz9e/pTq/g8nuHn41IJTyLO6dQCl6CJU6C/EI7uH6kGISuPEtXRxPaR\n",
       "Ijd3f+NIn5VRBRPl+wVUh5Rl2009hBFjjGouplfE8n6XgdPwjdvRBoQdU8W0H/gCVzL3Vc4hPLTO\n",
       "O6fM0aMiMny3Dwe4iHEqcFaKpPmteJWE4fhqRxOH0nVTEievgiqSH9Cuom2g/B0L6gUyKt+PyZem\n",
       "9zlqkQOyBufluiAGQ3a0tMiwzC/zEaqbgP4OGFaZjNO6kp9W3TJtS0SigvnaSW1YJOjDEeGJTdVs\n",
       "gg1NE/rOOiN4kkgk7nCBtYXdB6mM28yzxdueoTTiEWvZ6dzbxYeM+dpL7apIuZnKIOuhVyloHD7t\n",
       "YtJdXbKeVJt6Ud6BsBXQyzGiNOm5YcuRATgaKQiNzIyQWmMqYOTqEWtavjd/Kcdypobmc2G2GFxe\n",
       "jUjrNiVKXG9erKy8qAjJk5Pww8V2lPbPkqA+mC4fgXTJeqDFdgL84lbIQpsTW03ck+V1zVlMYnIN\n",
       "v2da2uydItkE9SS0eejvbXULs0qYfHlGvCyimIFBYnLanFOzlgvHPIvOZ9BPXHBPoPZPqiFoVwl6\n",
       "gWN+3J8VFN/gU9mRGrklHTnaOldHu2K/XJW+inZWnaTccHrPyl7hp9f2faYAmrNA5sr4tVXBfPYg\n",
       "oQJoeJo/wJ51+1uzTFJ6/jnGf8b8C/UItw189bevAAAAAElFTkSuQmCC\n",
       "\" style=\"display:inline;vertical-align:middle;\" /></a><br>"
      ],
      "text/plain": [
       "<IPython.core.display.HTML object>"
      ]
     },
     "metadata": {},
     "output_type": "display_data"
    }
   ],
   "source": [
    "negated_reflex = Forall((A,B), Implies(B,A), condition=Not(Implies(A,B)))"
   ]
  },
  {
   "cell_type": "code",
   "execution_count": 19,
   "metadata": {},
   "outputs": [
    {
     "data": {
      "text/html": [
       "<strong id=\"iff_intro\"><a class=\"ProveItLink\" href=\"proofs/iff_intro/thm_proof.ipynb\">iff_intro</a> (established theorem):<br></strong> <a class=\"ProveItLink\" href=\"../__pv_it/theorems/b5c71b950f3fd03684866bedf9ff06bb58598f010/theorem_expr.ipynb\"><img src=\"data:image/png;base64,iVBORw0KGgoAAAANSUhEUgAAAPEAAAAXBAMAAAAo+LSlAAAAMFBMVEX///8AAAAAAAAAAAAAAAAA\n",
       "AAAAAAAAAAAAAAAAAAAAAAAAAAAAAAAAAAAAAAAAAAAv3aB7AAAAD3RSTlMAq1RmmUTNIjK7EInv\n",
       "3XZ/CtNrAAAACXBIWXMAAA7EAAAOxAGVKw4bAAADKklEQVRIx7VVXUhUQRT+9u6v9+qmIBZI7ELQ\n",
       "Sw8tJEEP5o0yEoOWepGIMiIiCbQXn4q9QS9CoUSUW6E3iEDQWEuI2gd/IjL6QaqHHlpY8CGCSC1T\n",
       "McjOzLm73ru7/hDrgTszd+ZjvjPnO3MG2ABrKwLivywYll37KpCT9JWLwbaiMu/grrXQ2p6liorz\n",
       "BoIRoF78nysmsdosO2Wp4OprwLUAtABX6M/fVUxmT4S7UCEx/X8B7yxQA/hMQAsXk7mUu6fDhjVB\n",
       "MQiUW2M3nddN7KUm3OShr6gyb+fDpaes8whN0W0tuqaJ7hV9NPkulXpTVOZGDjZ2ctTRIZqHphWQ\n",
       "LqhbKRgaBeEQcEdOmjlyZTNmnYmVGZyR7VF0JuQg8DZF9qWFFzt7flQJj9wkwUX4pQjqOHs4m2yQ\n",
       "ApVkduo3lrcP9DYOdTtxebAPstURY22/8Yk6OPZTbVBeiMwfIQZTi4o57SenwASCIw7mYXv+1QLf\n",
       "nbg82Esp7s0DIXlj+q3cUkdld08gyccA6a2kOcGa3nMK6HBP25m919JYrjaVQJ0Tp0QcMIv5EbBp\n",
       "QmZaNc+2c+xn6KsjpFd43bxXzqVPcwqEMRCxMwd97LVLXs8xqB+dOGx2wKxo60AZh8SdkvaZ1fpF\n",
       "TYhirAi3Hkvxgzgo12KTNVtgZ057mvEsHo/fGpeFYNc+Yxmn0Xz8gpGBsfWICIi7Os3/NaLxcVkJ\n",
       "zhP7nPBHSHFJOttk6VcLtdLO7DUycmr1Ut37uhMHDEXtMAyKPcUG89YVFmlUz2MfgU6Ik3pE8F3S\n",
       "58ZkyLSEjEVtzJ7k4KJV+KpNoa7/Nxw4uh3P7TBcB/qWWqD0ziWyddyqz67emYqqG2JUFs2+bLSR\n",
       "wULilP1WpeFfkNGO32V1vQvI4mS044kMjK3MKPAY5xQLXM6OjlEuhtUE/ItQP9miLQTj66aJfIqZ\n",
       "GNDhwOGJA0aK6OuoO/uzBWsU6pGzgTHs/pNsCNuYD5fjwZyMzFWxaWtyiILlwAV0B4zs9trEea+j\n",
       "YhuX5KyZK+Dyi2vf2swluS/o8VWYV8IVOFB6TeavuRORdTJHsJHmx8baPzfp16zGNIg2AAAAAElF\n",
       "TkSuQmCC\n",
       "\" style=\"display:inline;vertical-align:middle;\" /></a><br>"
      ],
      "text/plain": [
       "<IPython.core.display.HTML object>"
      ]
     },
     "metadata": {},
     "output_type": "display_data"
    }
   ],
   "source": [
    "iff_intro = Forall((A, B), Iff(A, B), conditions=[Implies(A, B), Implies(B, A)])"
   ]
  },
  {
   "cell_type": "code",
   "execution_count": 20,
   "metadata": {},
   "outputs": [
    {
     "data": {
      "text/html": [
       "<strong id=\"iff_via_both_true\"><a class=\"ProveItLink\" href=\"proofs/iff_via_both_true/thm_proof.ipynb\">iff_via_both_true</a> (established theorem):<br></strong> <a class=\"ProveItLink\" href=\"../__pv_it/theorems/dbdc5e45ba537bb4b93e4b530e571e4ccc78716c0/theorem_expr.ipynb\"><img src=\"data:image/png;base64,iVBORw0KGgoAAAANSUhEUgAAALYAAAAXBAMAAABUnqh8AAAAMFBMVEX///8AAAAAAAAAAAAAAAAA\n",
       "AAAAAAAAAAAAAAAAAAAAAAAAAAAAAAAAAAAAAAAAAAAv3aB7AAAAD3RSTlMAq1RmmUTNIjK7EInv\n",
       "3XZ/CtNrAAAACXBIWXMAAA7EAAAOxAGVKw4bAAACxElEQVRIx61UTWgTQRT+0k2ym41uWyiieMiC\n",
       "J6FiwFLwUE3QiiWCAS9FhFaKiFpovAiitPFYKLR4sXjJFsSLFlrpLQfbHsR/Airk0EC0p4JoW9va\n",
       "H2x9M29X121CjHZg8t6bl/fNzPe9WeCfhroD/yg3PnF9Z/l/BIpAnXAOVAldMyZNcL5ETsks1O8Z\n",
       "BmaBVhFfrhL7IZvDpbCxawiIpBG0cEfcbahK7BNs4t9LJfuIjY4YlJiAR9isEntS/oZvrdox8a7V\n",
       "OcnjaZqE/xJKlHirlm7WsNdY5NggDAw72QjN7hTQBbwpFF5Vie1nKWM13zjulxpYdvYFMJInOw6c\n",
       "Bu7LNcsD4Dj6NuxgVHaZqW3IUHtdoDFzlZPa2pePXcJpBq5DlVTpz/kMS9m2tHBCDtJjGWqZxIRz\n",
       "7d0mb64uyHCOT9XPqhkkcKPYvJEwrHBSKsPkKTkYk39gP+WaFuCz02WyYO5kfE3ubauoT0kTouqw\n",
       "EHmQhCmylO1vpfFR98y7sQMDRWkbSH03tk7LP+Tr3M+rN1iFWtpK2STngmigY3KteJHrTIxG3dhG\n",
       "kM81Df2dmxOhxwxftSBHnpODVO1bJucQzSdSBAOnuPNnm/bCjV30y45TN4/E0/ZSSNzkHM0ejpuk\n",
       "wCkOvpIdFCVHad6W52q32WyB3uDGDqSZftJhJGZjh6lCFasZxvMJjlrtZDfVPBPqJkRGHieRjVg2\n",
       "rX1JF7Y/O75u66Au2+VaDnpmxcLBrWusYufv78a+rfr6K1L9D04zGASZZlrR4e7BItRVW4eA88SR\n",
       "9zR8avvzgJpzPGKv1tTHoK5Df+/iJEDKLOIR7Wxh1OGECa70eKOOMwX97CVtGs0b2TbThX2mDg9W\n",
       "kgOm0pOduPurLpSqjH3T+xFy+SF3wvOh1P/io3zPE58vgx3wktlbEdrwXi1aBlvBzg71vxF+AqUC\n",
       "pG5JbhepAAAAAElFTkSuQmCC\n",
       "\" style=\"display:inline;vertical-align:middle;\" /></a><br>"
      ],
      "text/plain": [
       "<IPython.core.display.HTML object>"
      ]
     },
     "metadata": {},
     "output_type": "display_data"
    }
   ],
   "source": [
    "iff_via_both_true = Forall((A, B), Iff(A, B), conditions=[A, B])"
   ]
  },
  {
   "cell_type": "code",
   "execution_count": 21,
   "metadata": {},
   "outputs": [
    {
     "data": {
      "text/html": [
       "<strong id=\"iff_via_both_false\"><a class=\"ProveItLink\" href=\"proofs/iff_via_both_false/thm_proof.ipynb\">iff_via_both_false</a> (conjecture without proof):<br></strong> <a class=\"ProveItLink\" href=\"../__pv_it/theorems/aa55c4a0a3a108f63e750af8a2efe080838dcf790/theorem_expr.ipynb\"><img src=\"data:image/png;base64,iVBORw0KGgoAAAANSUhEUgAAAMwAAAAXBAMAAAC19b0tAAAAMFBMVEX///8AAAAAAAAAAAAAAAAA\n",
       "AAAAAAAAAAAAAAAAAAAAAAAAAAAAAAAAAAAAAAAAAAAv3aB7AAAAD3RSTlMAq1RmmUTNIjK7EInv\n",
       "3XZ/CtNrAAAACXBIWXMAAA7EAAAOxAGVKw4bAAACxklEQVRIx7VVS2gTURQ9aWwmmWiaQBHFRQZc\n",
       "CRUDloKLaoJWLFlYcFOK0EoRUQuNG0GUZlx2leLGxk2mG1cWqnQj2bRdiH8CKmTRQLSrgmirVluL\n",
       "rfe9O5PPZGxKWh+8vHvnzNzz5p4zL8BOh7ILd2xjfOJSA/++o7kIBEVwuHGWpim5eJYcMHdmObR/\n",
       "HFgAukR+pXGah7wcc6LB3jEgrMNj4K5447HGaU7zEvvlBCapXf1RuKOCCX6tcZoZ+eu/vWrmpJE3\n",
       "aIGndJpE9RLuCDV2B9Kw9COBb5wHqBzGLTRMcygBDAJvCoVXjdPsYQdEm75zPir1Mkz0BTCRp/Ux\n",
       "cA54IK8ZtgLVqeFM44lIy2redZl6XxdozF9j0Lv25eOgCDqAG1BkL9XnvJ0f2W5dBL6qcibKT2fi\n",
       "01Zf9mm8JWVZpou8m1EWO0C+aBP7aKNyhr9HqsjddecQmKmlMVEencBny7Ly2cUzsTWxPjLFV2fl\n",
       "4qNCfuGNFIlYZAf0vpWLi/y3VEtjojxayT+VNCqZ6Y88Cw7x1ZusWAuxujcouCgseFJeK17i5zRM\n",
       "RmppTJTHHNR3lU0TMs5zLwpy5BlMUSHXCgVHaT6RggVwlr+ohfYDqKGxUD6/No7HdDP20YvgAs1h\n",
       "ztulLxKcfKU1JRx/guYd2dBes92dUFsraJ6m0+lcCeWM5JuIWprRw4rQMsOlXaKJXSY4RB58JkwR\n",
       "F4jcWTwbNsy+J3uq3yZYRmVG8ikrlutyUDM/DRzZvM7iD5TProObodBV6bkP5a4gqXPf0a/baUqo\n",
       "zEi+ZutsQd72ISUcvjElZ0XU3hZNnYLyG+p7mzbREspZ0sCk1TQWo95REbGCWajnL3vn0LGe7dbs\n",
       "Fiih7Kbh7PS9EuZL1Ke5ZT8IK2Jf7THpVELdxp/IfVvetyVNn2ONkbosAfsLR7akieA/DGU3i/0F\n",
       "dimpFZmA1qsAAAAASUVORK5CYII=\n",
       "\" style=\"display:inline;vertical-align:middle;\" /></a><br>"
      ],
      "text/plain": [
       "<IPython.core.display.HTML object>"
      ]
     },
     "metadata": {},
     "output_type": "display_data"
    }
   ],
   "source": [
    "iff_via_both_false = Forall((A, B), Iff(A, B), \n",
    "                            conditions=[Not(A), Not(B)])"
   ]
  },
  {
   "cell_type": "code",
   "execution_count": 22,
   "metadata": {},
   "outputs": [
    {
     "data": {
      "text/html": [
       "<strong id=\"not_iff_via_not_right_impl\"><a class=\"ProveItLink\" href=\"proofs/not_iff_via_not_right_impl/thm_proof.ipynb\">not_iff_via_not_right_impl</a> (established theorem):<br></strong> <a class=\"ProveItLink\" href=\"../__pv_it/theorems/2f87b81f53c9fd549dbe360575d3ecbb9b25b6fc0/theorem_expr.ipynb\"><img src=\"data:image/png;base64,iVBORw0KGgoAAAANSUhEUgAAAPcAAAAXBAMAAAAl5sTiAAAAMFBMVEX///8AAAAAAAAAAAAAAAAA\n",
       "AAAAAAAAAAAAAAAAAAAAAAAAAAAAAAAAAAAAAAAAAAAv3aB7AAAAD3RSTlMAq1RmmUTNIjK7EInv\n",
       "3XZ/CtNrAAAACXBIWXMAAA7EAAAOxAGVKw4bAAADa0lEQVRIx7VWTWgTQRR++dnsZtOmWyii9NCA\n",
       "ggiCBaM3NUUrlioGvFQFGxERq9AWxIvaRvBSEBo8aKOHbEE8WailF83BtAdR/CFgDzk0EPUgBamp\n",
       "2tofbH0zbzbd7G6okPrg7e4385hv5r1vZhZgU0yuCBytR/jm2Gc7kGOVw88J1xjYXiW3e9QOfEWH\n",
       "QE9qrn7LEASbgXsra7tUJfkTB7DHiRxqEgBNcejCT/TbLEOJKskPO4CW306R/QWAzgiE8RPdpwME\n",
       "QlWSZ+wgcGNRYKy9ohmdh+LoBahBVnQPpt5XbcljdtAX/EGY1RaGjN4m9Ks94GOs6O/z+bdVkntH\n",
       "7SDi/kl4gOtAF71vAIZzmBeN/BjAQ96uW0Y0g53sodpYC/RiaygZASmkrHCovMujTXdRp7I0++kC\n",
       "U32MvBdkXhH1NU30V7otzj785h0SZc+n8fUWJdU+PmRMsBY1c4JxTAnApi7P8b4ZWtMAySqIKtyN\n",
       "s3NnyP16gA8doBp5shDMWMmH+fOlWZcHAL6BRCmuiYrG3hKYOdKyxCcspKZO8Jcfhw6gEpUiubtA\n",
       "euv4wF+uCHiKVnJ+GEh3Kct0IjWgavledSRXMfQPP+caqec6TbMO5+JZxbEy5BA7SPU7TwOFYKTZ\n",
       "Sp7lKfPRKlz8VJ4E9SPAWCntJXIOWD2mKZN5bjkKGMShXfO44iw5jPHpB+EonQJfwlvBQk7HdMEb\n",
       "g+fJZPI+E4e8urcFJbCDQoXw4JoBTqF3U1uYq1BcI9/xPcjEliCHm3xBHVhCqqXaYCJnbFmJhUnx\n",
       "oDhLAq1cGsMRgNPUoJmyxIDMIlNE6IoadWNbHMd5pdN+5HvSxUXcnm7SRS37o+Ur19xscG/62bJI\n",
       "RKPOpCHPi00MStZEjkBNLeiwa+0KSS22fn5vW6uvv8zKUhslF+cQcsapltBp2WqakuB7Wl7kiUg+\n",
       "ImlIi0baIWfe/DmHy9tyhsAt4WRYpLqQOgryMqhTlppHmOAklAptxgDTY78OI5j2WVNdDQv/401U\n",
       "uo28E6CevKhMwv6VdFvIKjh4AHBcg8cLPFF3mIa70+P3qIPHmn9L/Bv/o7Ay2K5St3kM0/dZc5Ap\n",
       "hWqi/G0HzsbmZ5vjmQrk3gqLKbX3mVv7NiT/KrzMmiuQwwvnQfbBf7Kyf1DVOUavjuIvGEDamhz/\n",
       "7DoAAAAASUVORK5CYII=\n",
       "\" style=\"display:inline;vertical-align:middle;\" /></a><br>"
      ],
      "text/plain": [
       "<IPython.core.display.HTML object>"
      ]
     },
     "metadata": {},
     "output_type": "display_data"
    }
   ],
   "source": [
    "not_iff_via_not_right_impl = Forall((A, B), Not(Iff(A, B)), condition=Not(Implies(A, B)))"
   ]
  },
  {
   "cell_type": "code",
   "execution_count": 23,
   "metadata": {},
   "outputs": [
    {
     "data": {
      "text/html": [
       "<strong id=\"not_iff_via_not_left_impl\"><a class=\"ProveItLink\" href=\"proofs/not_iff_via_not_left_impl/thm_proof.ipynb\">not_iff_via_not_left_impl</a> (established theorem):<br></strong> <a class=\"ProveItLink\" href=\"../__pv_it/theorems/ed73e1a58285c7e35835db5e2f56c81943774e9f0/theorem_expr.ipynb\"><img src=\"data:image/png;base64,iVBORw0KGgoAAAANSUhEUgAAAPcAAAAXBAMAAAAl5sTiAAAAMFBMVEX///8AAAAAAAAAAAAAAAAA\n",
       "AAAAAAAAAAAAAAAAAAAAAAAAAAAAAAAAAAAAAAAAAAAv3aB7AAAAD3RSTlMAq1RmmUTNIjK7EInv\n",
       "3XZ/CtNrAAAACXBIWXMAAA7EAAAOxAGVKw4bAAADRUlEQVRIx7VWTWgTQRR++d3Npk23IP7goQEF\n",
       "EQR7iN7UFK1YVFzwUhU0IiLWgi2IF7WNx4LQ3Gy9dAviSaFWLzYH0x5E8YccesihgVUPUhBt/an9\n",
       "QeubebPb6e6GClsfvMx882bne/Pem5kArIsoNYGvdAldH/ngBUqu9vSzQnUGtgXkDo94QXzGZ2Jk\n",
       "aLZx4wCkmoFrKxu7FJD8gQ/Y7UcOdQWApjx0YBf1NotQISD5QR/Q8stvZq8FcC4LGeyixk2AZDog\n",
       "eckLkjfmBcbcq7ptPJBHtaAOWVEjGPp40JTnvKAn9Y0wyy0M2NYm1M4uiDNW1LfV6uuA5NERL8iG\n",
       "vxPu43VgCusrgOEKxkUnPQJwj4+brhVlsMOHUgOwqMf24AiBWFpd4lB9U0WZ6iCjuvDl/QVW9TnS\n",
       "blB4RrSX5OiPYluedRLyCTEkgy0P87aD9VgzxxnHpADMdWWW26ZpT31UVimswl3oXbhEmjCTBq8Q\n",
       "ylGkDKmSm3xYNtjyPA0xCnGdIYa6HTB9qGWBeyhKTRvnTQJXSGIlqjOkYYvqrf0db0JZiMy4yVtl\n",
       "Q5iCHLtj8bPqS66h7Te/57aS5Tq52YC+RP7gxyVSyO3n49Z5WigNj5rd5GXZAJsognFcaNQJu0PO\n",
       "AcvHFEWyyqVCE/pxhdBP3ECZFEa5+yk4TLfAx8xmcJHza5obkoMonTz1VhRHt9NUUXhwzQYnUa/S\n",
       "WIZXoXhGvmLbz4qtQAo3eVra4TM37wNtg0T+DMnKsYJsAHiKkY3lWQWcogtFl6LEgMIiOkSEIUPk\n",
       "jUknfvjCpPPIz2SIb+RosYnXJRL0Gqt3rod12YDRHcNPi48XxSEGtSyRI9CG5kzYuXyFSi23cn9v\n",
       "WW5svMzSUm+QinsIl+ZOTODd6zpqulqwDTzsg8xlC5R5O+xQkU9Bxefxdt0hcEsoCSapIa2NgLII\n",
       "2qQr51lWcCsGeMJqHSsHz+YXKa+2ZP7xJXJeo+g4aCcuqhOwd6nYlnYXHNwFyaBm8eeYDvfnDGbg\n",
       "c+W/JYm1/6OwNHie0rC8htQ/47pWnW5hdesF/sL88/h4ugZ5tMZmnPEeebRnTfJPQldJcw1yGPNf\n",
       "ZA/8J1FqhFoWMxjFX7H62kArXNlMAAAAAElFTkSuQmCC\n",
       "\" style=\"display:inline;vertical-align:middle;\" /></a><br>"
      ],
      "text/plain": [
       "<IPython.core.display.HTML object>"
      ]
     },
     "metadata": {},
     "output_type": "display_data"
    }
   ],
   "source": [
    "not_iff_via_not_left_impl = Forall((A, B), Not(Iff(A, B)), condition=Not(Implies(B, A)))"
   ]
  },
  {
   "cell_type": "code",
   "execution_count": 24,
   "metadata": {},
   "outputs": [
    {
     "data": {
      "text/html": [
       "<strong id=\"not_iff_via_not_right\"><a class=\"ProveItLink\" href=\"proofs/not_iff_via_not_right/thm_proof.ipynb\">not_iff_via_not_right</a> (conjecture without proof):<br></strong> <a class=\"ProveItLink\" href=\"../__pv_it/theorems/cec9bad7572490470a3b7c039af17c03532ce53a0/theorem_expr.ipynb\"><img src=\"data:image/png;base64,iVBORw0KGgoAAAANSUhEUgAAAN8AAAAXBAMAAAB5bIfGAAAAMFBMVEX///8AAAAAAAAAAAAAAAAA\n",
       "AAAAAAAAAAAAAAAAAAAAAAAAAAAAAAAAAAAAAAAAAAAv3aB7AAAAD3RSTlMAq1RmmUTNIjK7EInv\n",
       "3XZ/CtNrAAAACXBIWXMAAA7EAAAOxAGVKw4bAAADE0lEQVRIx71WS2hTQRQ9+ScvbUxBiiCSgODG\n",
       "hVmI4EItaMVSxaCbIqIRETEbW5Cu1MZlodIigla0zUKEYpXWjYssmlZExQ+hdNGFgaALEcR+LG2p\n",
       "YJ25d/JyW14/BHTgZD533j33NzMBqm4BOWndcHvrpnat176IcSROXfs6288ZRPVkZxV87iEx2c3d\n",
       "VaeN+5fr6q5kEEmA0KjXLldB+ESMrRTbsOy48x3gWgTSINzS2eipgvCwGHsT3MWckhT4A/jmgL0g\n",
       "+LNAOF4FYV6Ma7h7OZIxC8rjYNSMPco7jyKtyRI8yjh/NSlMickudqU0ZSzXucJ9I3RNK4Y3CgnG\n",
       "x2LxfRWEXlkzzbyEPRxadFKSs8b9Hlg7lOvhKOMY8IAE2VUa7YpwJPQnxOQi/Z5CN1sR/FBU7XOa\n",
       "hd19P+v1Zk+K0YYARdt6y8bN5ZooE6GytsFMRbMtRa2K3gmtd0JNxmmpAR2ct+9seycHeKoV7lc6\n",
       "CXlGKBtO6vXwLKe4gEh+BeGIKClbipqkWWpTeE2Ju3skRuU+aMrFGqXuodahrAxOM9wlrpmWT5zi\n",
       "BnimJaGvq1QhtKUOhM+BLQUqnu0saecAzygcUjp8eQZSB2m9dIEVxfEsIQkj/qio/7KUQmoTjnNE\n",
       "Ucvee4rUJjmhv9RPTJnnLjDwgpIbwVGSd3zduw2SsOQVB8CWIlT2+5pCn46Ernr2ns44/HwLRBYU\n",
       "6bw2o4eB6+RBC36Q/ACsrZLQl6GkhXt7ex8JKRW43Ya1Gv3Ngom8jnejKWf1+dm0OUh0mFxUds25\n",
       "GNWW0teRFITe3PBSOYFCimBBEN4GBpbTcPfPD9l3q7kvXf0zdfV3KAlJhsmU0kTEY8B5eSxKCCxW\n",
       "CG0pMCkIazMOj9+qc40bBtxOqxKLW0MILMGaECHVmZnFU3MVVKQmT+XT0rDJ296+8b2jsE5eCo5h\n",
       "3+9cU1wQHo/i8Xyyy5RkRark8mW4t4k/CD0Oz5JbjENS4PCcWPLjgY0JtYGh1c/XmTUIfVkHDTel\n",
       "+aUNCb8ZrGiJNQg9+A8t8G/U/gWfMcJQnxEuNAAAAABJRU5ErkJggg==\n",
       "\" style=\"display:inline;vertical-align:middle;\" /></a><br>"
      ],
      "text/plain": [
       "<IPython.core.display.HTML object>"
      ]
     },
     "metadata": {},
     "output_type": "display_data"
    }
   ],
   "source": [
    "not_iff_via_not_right = Forall((A, B), Not(Iff(A, B)), conditions=[A, Not(B)])"
   ]
  },
  {
   "cell_type": "code",
   "execution_count": 25,
   "metadata": {},
   "outputs": [
    {
     "data": {
      "text/html": [
       "<strong id=\"not_iff_via_not_left\"><a class=\"ProveItLink\" href=\"proofs/not_iff_via_not_left/thm_proof.ipynb\">not_iff_via_not_left</a> (conjecture without proof):<br></strong> <a class=\"ProveItLink\" href=\"../__pv_it/theorems/57f1bdbc8c4800f7499882a5af1c77d90dff9d200/theorem_expr.ipynb\"><img src=\"data:image/png;base64,iVBORw0KGgoAAAANSUhEUgAAAN8AAAAXBAMAAAB5bIfGAAAAMFBMVEX///8AAAAAAAAAAAAAAAAA\n",
       "AAAAAAAAAAAAAAAAAAAAAAAAAAAAAAAAAAAAAAAAAAAv3aB7AAAAD3RSTlMAq1RmmUTNIjK7EInv\n",
       "3XZ/CtNrAAAACXBIWXMAAA7EAAAOxAGVKw4bAAAC5ElEQVRIx7VWS2hTQRQ9+TSflzQmIEUQSUBw\n",
       "48IsiuBCDWjFUsSgm1JEIyJiNrYgXamJyy6kQQSNSJuVUFCpbkSyMK2Iih9C6aILA0EXIohtbWlF\n",
       "wTpz7zRM3nsk4UEHTuZz5s25c++dmQCOi1/vDLedPtzRrFbli9aOJKgabTH9rEJUdnY70HNPa529\n",
       "XF2xm3hgIxa7nEckCUKfHLvkQPCh1jYybMOG7cx3gOs3kAXhpoxGwYHgEa3tTXIVtwuS/x/QtQr0\n",
       "guArAaGEA8GK1g5z9fxlXg2IHQeiqu0Ru/MI0XCJ4BHG+ZyEMKN19vBW6ovKchkr3FOka0kovBFI\n",
       "Mj7Wau8dCHr1nBngIexj12KMglxS2y/A2CW2HooyjgP3iSiZVmzumliytVEu0O8pjLMVgQ81UT5n\n",
       "mRyf+NkjJ3syjBH4ydvGWzZutdxPkQg2rW9m0S28d0KuOy86czSUQo7j9p2tG2MHLw7D/UoGocII\n",
       "lkJpOR76xSGuIlKxCppZhNOKGRF4TYG7czRO6f5IpYsxQ9UDAZlNgSWGu845M/iJQ5yCZ8kqaGZt\n",
       "BJ8A26qUPDuZGWUHLwscroujUWEgc4jG6+d5oQQeJ62CZpZc2hCcY4+im3fvqVFZ4ICuiJ+4MM9d\n",
       "ZeAZBTeCY8TnvvbugEXQwiJYV9RVgQmBLpn1vHs64/DxLRBZF6Jr0owCA9fI5YP4QfxBGNs1wRfF\n",
       "YrFqw1KCN8pTuYz8Zl0dPenvPpXOYtdnsuog0WFyUdoNlOOUW2K9XLp5h1EbFoGqJngLmNrIwj25\n",
       "Nt24W9V96ZpcjvXcpiCkGZs+Q46EZ4FzebOglQUWNMHuvM3jZz651xW4nBYpljCm4f8DY94Uw5QN\n",
       "q+K0eV2mOrztGze+dwbGyYuBWez/W+5PmJPGhhW8/jLc7eAPQsHmWXJr7aD1vm6+e/SPp9oLSgOD\n",
       "5udrqKXgUHP3hm5+va3gN4WmkmwpmMSWFv/WLPsfxQ/Ayuy7ezcAAAAASUVORK5CYII=\n",
       "\" style=\"display:inline;vertical-align:middle;\" /></a><br>"
      ],
      "text/plain": [
       "<IPython.core.display.HTML object>"
      ]
     },
     "metadata": {},
     "output_type": "display_data"
    }
   ],
   "source": [
    "not_iff_via_not_left = Forall((A, B), Not(Iff(A, B)), conditions=[Not(A), B])"
   ]
  },
  {
   "cell_type": "code",
   "execution_count": 26,
   "metadata": {},
   "outputs": [
    {
     "data": {
      "text/html": [
       "<strong id=\"true_iff_true\"><a class=\"ProveItLink\" href=\"proofs/true_iff_true/thm_proof.ipynb\">true_iff_true</a> (established theorem):<br></strong> <a class=\"ProveItLink\" href=\"../__pv_it/theorems/4e9617a378eb4ffae6cd2074bd2a5264e4e9d8690/theorem_expr.ipynb\"><img src=\"data:image/png;base64,iVBORw0KGgoAAAANSUhEUgAAAD8AAAAPBAMAAAChCwpBAAAAMFBMVEX///8AAAAAAAAAAAAAAAAA\n",
       "AAAAAAAAAAAAAAAAAAAAAAAAAAAAAAAAAAAAAAAAAAAv3aB7AAAAD3RSTlMAmd2rVHZEZs0yuxDv\n",
       "IolvTPF0AAAACXBIWXMAAA7EAAAOxAGVKw4bAAAAfUlEQVQY02MQUgIBZQZ0wAgWVzIAsV0ZsAOW\n",
       "ACiDBAUcQDwZn4JwIOaagFsB5wIgwd2NW8GcQyCHn9iASwHraog5S3Ao4D4M5e8xwGHC5QdgircP\n",
       "pxuKIKE3AacCdgEQ2YsnHMxAkZCAoSAdrmAHEN+C89gKMEKfF+QZVCEAo1saJ7kfrnsAAAAASUVO\n",
       "RK5CYII=\n",
       "\" style=\"display:inline;vertical-align:middle;\" /></a><br>"
      ],
      "text/plain": [
       "<IPython.core.display.HTML object>"
      ]
     },
     "metadata": {},
     "output_type": "display_data"
    }
   ],
   "source": [
    "true_iff_true = Iff(TRUE, TRUE)"
   ]
  },
  {
   "cell_type": "code",
   "execution_count": 27,
   "metadata": {},
   "outputs": [
    {
     "data": {
      "text/html": [
       "<strong id=\"iff_t_t\"><a class=\"ProveItLink\" href=\"proofs/iff_t_t/thm_proof.ipynb\">iff_t_t</a> (established theorem):<br></strong> <a class=\"ProveItLink\" href=\"../__pv_it/theorems/76410c3fa47f9d4aafc69c158b89eaeddaa3e4450/theorem_expr.ipynb\"><img src=\"data:image/png;base64,iVBORw0KGgoAAAANSUhEUgAAAHoAAAAVBAMAAAB71edYAAAAMFBMVEX///8AAAAAAAAAAAAAAAAA\n",
       "AAAAAAAAAAAAAAAAAAAAAAAAAAAAAAAAAAAAAAAAAAAv3aB7AAAAD3RSTlMAInZUiRDNmWbv3US7\n",
       "qzJazP2FAAAACXBIWXMAAA7EAAAOxAGVKw4bAAABCklEQVQ4y2NgYBBgIATwqGAyIKh7E24pEwaG\n",
       "qlUgsBZDCibO1IBLhjUBzDXCYTZEPBWXDHsDEbrbcclwMqDpBrqF7wKabs4AHLrN0HSD/XgOTTdb\n",
       "Aw7dJWi634CIsABU3SwXcOjOQNXNNxMUmCtTUXVzJCAHNJLMYlTdOhBb3xig6GaegMPu2Si6I6FO\n",
       "ZJ2LopvvA1G6Ga9AaDEHFN3cuOxGczkH2G+r1qH6m3kBDn8fQgtzcMJgE0ALtQM47PZF0827AUhU\n",
       "o8U3uwMO3a8g7B0wQVC6Z0RYBRHn2oCpGyzD9QBLZkZPmFK4MihHAQNhUIFT5iBhzYwHcErFENbN\n",
       "g7toYlQgqFsRlwQAKo1Iq1DDg4wAAAAASUVORK5CYII=\n",
       "\" style=\"display:inline;vertical-align:middle;\" /></a><br>"
      ],
      "text/plain": [
       "<IPython.core.display.HTML object>"
      ]
     },
     "metadata": {},
     "output_type": "display_data"
    }
   ],
   "source": [
    "iff_t_t = Equals(Iff(TRUE, TRUE), TRUE)"
   ]
  },
  {
   "cell_type": "code",
   "execution_count": 28,
   "metadata": {},
   "outputs": [
    {
     "data": {
      "text/html": [
       "<strong id=\"false_iff_false\"><a class=\"ProveItLink\" href=\"proofs/false_iff_false/thm_proof.ipynb\">false_iff_false</a> (established theorem):<br></strong> <a class=\"ProveItLink\" href=\"../__pv_it/theorems/0c2bd0f2753c1fc93f96b5fd401d4aae732c309e0/theorem_expr.ipynb\"><img src=\"data:image/png;base64,iVBORw0KGgoAAAANSUhEUgAAAD8AAAAQBAMAAABTi7oPAAAAMFBMVEX///8AAAAAAAAAAAAAAAAA\n",
       "AAAAAAAAAAAAAAAAAAAAAAAAAAAAAAAAAAAAAAAAAAAv3aB7AAAAD3RSTlMARGZUdpnd76vNMrsQ\n",
       "Ioms8APJAAAACXBIWXMAAA7EAAAOxAGVKw4bAAAAg0lEQVQoz2NgIAII4RBnVIAyTHAoYHYgXQEn\n",
       "EK/Ap8AJiLkX4FbAtQFI8MzBrWB5WRoQVB7ApYBlD8SczTgU8FRA+ccbcJhw4wGY4p2H0w1qaWCw\n",
       "AKcCpgAQORdPODQCMasAqoKwtLTytLQMiNBJIL4NYbKmpaUDfd2AGvq8IM+gCgEA4rcelCD+8wQA\n",
       "AAAASUVORK5CYII=\n",
       "\" style=\"display:inline;vertical-align:middle;\" /></a><br>"
      ],
      "text/plain": [
       "<IPython.core.display.HTML object>"
      ]
     },
     "metadata": {},
     "output_type": "display_data"
    }
   ],
   "source": [
    "false_iff_false = Iff(FALSE, FALSE)"
   ]
  },
  {
   "cell_type": "code",
   "execution_count": 29,
   "metadata": {},
   "outputs": [
    {
     "data": {
      "text/html": [
       "<strong id=\"iff_f_f\"><a class=\"ProveItLink\" href=\"proofs/iff_f_f/thm_proof.ipynb\">iff_f_f</a> (established theorem):<br></strong> <a class=\"ProveItLink\" href=\"../__pv_it/theorems/e2a4f727fd38804e042edd93529d362c967b96000/theorem_expr.ipynb\"><img src=\"data:image/png;base64,iVBORw0KGgoAAAANSUhEUgAAAHoAAAAVBAMAAAB71edYAAAAMFBMVEX///8AAAAAAAAAAAAAAAAA\n",
       "AAAAAAAAAAAAAAAAAAAAAAAAAAAAAAAAAAAAAAAAAAAv3aB7AAAAD3RSTlMAInZUiRDNmWbv3US7\n",
       "qzJazP2FAAAACXBIWXMAAA7EAAAOxAGVKw4bAAABDUlEQVQ4y2NgYBBgIATwqGAyIKh7E24pEzC5\n",
       "A4csWJypAV24ahUIrGVgTQBzjXDohoin4pJhbyBCdzsuGU4GNN1At/BdQNPNGYBDtxmabrAfz6Hp\n",
       "ZmvAobsETfcbEBEWgKqb5QIO3RmouvlmggJzZSqqbo4E5IBGklmMqlsHYusbAxTdzBNw2D0bRXck\n",
       "1Imsc1F0830gSjfjFQgt5oCimxuX3Wgu5wD7bdU6VH8zL8Dh70NoYQ5OGGwCaKF2AIfdvmi6eTcA\n",
       "iWq0+GZ3wKH7FcRJM2FOAqV7xgPwvAAR59qAI/9wPcCSmdETphSuDMpRwEAYVOCUOUhYM+MBnFIx\n",
       "hHXz4C6aGBUI6lbEJQEAVxlIiZ3hgnEAAAAASUVORK5CYII=\n",
       "\" style=\"display:inline;vertical-align:middle;\" /></a><br>"
      ],
      "text/plain": [
       "<IPython.core.display.HTML object>"
      ]
     },
     "metadata": {},
     "output_type": "display_data"
    }
   ],
   "source": [
    "iff_f_f = Equals(Iff(FALSE, FALSE), TRUE)"
   ]
  },
  {
   "cell_type": "code",
   "execution_count": 30,
   "metadata": {},
   "outputs": [
    {
     "data": {
      "text/html": [
       "<strong id=\"iff_t_f\"><a class=\"ProveItLink\" href=\"proofs/iff_t_f/thm_proof.ipynb\">iff_t_f</a> (established theorem):<br></strong> <a class=\"ProveItLink\" href=\"../__pv_it/theorems/78186bd6e682dcc32d0d3e5916220d0352220f100/theorem_expr.ipynb\"><img src=\"data:image/png;base64,iVBORw0KGgoAAAANSUhEUgAAAHoAAAAVBAMAAAB71edYAAAAMFBMVEX///8AAAAAAAAAAAAAAAAA\n",
       "AAAAAAAAAAAAAAAAAAAAAAAAAAAAAAAAAAAAAAAAAAAv3aB7AAAAD3RSTlMAInZUiRDNmWbv3US7\n",
       "qzJazP2FAAAACXBIWXMAAA7EAAAOxAGVKw4bAAABDUlEQVQ4y2NgYBBgIATwqGAyIKh7E24pEwaG\n",
       "qlUgsBab7A6wBQ24ZFgTwGwjHGZDxFNxybA3EKG7HZcMJwOabqBb+C6g6eYMwKHbDE032I/n0HSz\n",
       "NeDQXYKm+w2ICAtA1c1yAYfuDFTdfDNBwb8yFVU3BzhoUaMGLLMYVbcOxNY3Bii6mSfgsHs2iu5I\n",
       "qBNZ56Lo5vtAlG7GKxBazAFFNzcuu9FczgH226p1qP5mXoDD34fQwhycMNgE0ELtAA67fdF0824A\n",
       "EtVo8c3ugEP3K6Q0D0v3jFCrgE6dCXYq1wY0rTAZrgdYMjN6wpTClUE5ChgIgwqcMgcJa2Y8gFMq\n",
       "hrBuHtxFE6MCQd2KuCQAWmtIibof9pUAAAAASUVORK5CYII=\n",
       "\" style=\"display:inline;vertical-align:middle;\" /></a><br>"
      ],
      "text/plain": [
       "<IPython.core.display.HTML object>"
      ]
     },
     "metadata": {},
     "output_type": "display_data"
    }
   ],
   "source": [
    "iff_t_f = Equals(Iff(TRUE, FALSE), FALSE)"
   ]
  },
  {
   "cell_type": "code",
   "execution_count": 31,
   "metadata": {},
   "outputs": [
    {
     "data": {
      "text/html": [
       "<strong id=\"true_iff_false_negated\"><a class=\"ProveItLink\" href=\"proofs/true_iff_false_negated/thm_proof.ipynb\">true_iff_false_negated</a> (established theorem):<br></strong> <a class=\"ProveItLink\" href=\"../__pv_it/theorems/d7bb1ca13465128e5b6a550f578772ae645398360/theorem_expr.ipynb\"><img src=\"data:image/png;base64,iVBORw0KGgoAAAANSUhEUgAAAF4AAAAVBAMAAAA9Y0TyAAAAMFBMVEX///8AAAAAAAAAAAAAAAAA\n",
       "AAAAAAAAAAAAAAAAAAAAAAAAAAAAAAAAAAAAAAAAAAAv3aB7AAAAD3RSTlMAmd0iq3ZUiRDNZu9E\n",
       "uzLWhN+VAAAACXBIWXMAAA7EAAAOxAGVKw4bAAABCUlEQVQoz2NgQAADBgKAGYXHmkBIPU8AMi+d\n",
       "gVEJDBywKV0AIqOQRDgmgEi2AOxGQ8Q5GxAijAsIq+cSQIhwM6CpB9rH54CqnmEHQn0mmnpWkH33\n",
       "0NTPQqgXR1P/FkR0NqCqL0Gon4Wqnm83KKi0Z6CqX8kgBBJWBDLVUNXHQkx+m4CiPhvCMwHiPSjq\n",
       "u6E+5diCov49LvXM7hDasgBF/WmEejT3cEHiWg/V/UkQniEQX0ULn4XgCDVAVb8WET4laOpZDgAJ\n",
       "GbTwF0eof4SUrmDpifkCJKkAA3YTOB3qINQzPUBLMiCnNKBlAAUEGzkt4QKMC5A4lwmrt0Xm9BJW\n",
       "j2IkcwAh5awGDAAU2DDPBnB5IQAAAABJRU5ErkJggg==\n",
       "\" style=\"display:inline;vertical-align:middle;\" /></a><br>"
      ],
      "text/plain": [
       "<IPython.core.display.HTML object>"
      ]
     },
     "metadata": {},
     "output_type": "display_data"
    }
   ],
   "source": [
    "true_iff_false_negated = Not(Iff(TRUE, FALSE))"
   ]
  },
  {
   "cell_type": "code",
   "execution_count": 32,
   "metadata": {},
   "outputs": [
    {
     "data": {
      "text/html": [
       "<strong id=\"iff_f_t\"><a class=\"ProveItLink\" href=\"proofs/iff_f_t/thm_proof.ipynb\">iff_f_t</a> (established theorem):<br></strong> <a class=\"ProveItLink\" href=\"../__pv_it/theorems/c119295352bff096eb3dabf47e2fcdd1af77e25f0/theorem_expr.ipynb\"><img src=\"data:image/png;base64,iVBORw0KGgoAAAANSUhEUgAAAHoAAAAVBAMAAAB71edYAAAAMFBMVEX///8AAAAAAAAAAAAAAAAA\n",
       "AAAAAAAAAAAAAAAAAAAAAAAAAAAAAAAAAAAAAAAAAAAv3aB7AAAAD3RSTlMAInZUiRDNmWbv3US7\n",
       "qzJazP2FAAAACXBIWXMAAA7EAAAOxAGVKw4bAAABDklEQVQ4y2NgYBBgIATwqGAyIKh7E24pEzC5\n",
       "A5tU1SoQWMvA1IBFEqyDNQHMNsJhNkQ8FZcMewMRuttxyXAyoOkGuoXvAppuzgAcus3QdIP9eA5N\n",
       "N1sDDt0laLrfgIiwAFTdLBdw6M5A1c03ExTMK1NRdXMkIEcBksxiVN06EFvfGKDoZp6Aw+7ZKLoj\n",
       "oU5knYuim+8DUboZr0BoMQcU3dy47EZzOQfYb6vWofqbeQEOfx9CC3NwwmATQAu1Azjs9kXTzbsB\n",
       "SFSjxTe7Aw7dryBOmglzEijdMx5AzQsMXBsw8w9YB9cDLJkZPWFK4cqgHAUMhEEFTpmDhDUzHsAp\n",
       "FUNYNw/uoolRgaBuRVwSAFjTSInTGHGlAAAAAElFTkSuQmCC\n",
       "\" style=\"display:inline;vertical-align:middle;\" /></a><br>"
      ],
      "text/plain": [
       "<IPython.core.display.HTML object>"
      ]
     },
     "metadata": {},
     "output_type": "display_data"
    }
   ],
   "source": [
    "iff_f_t = Equals(Iff(FALSE, TRUE), FALSE)"
   ]
  },
  {
   "cell_type": "code",
   "execution_count": 33,
   "metadata": {},
   "outputs": [
    {
     "data": {
      "text/html": [
       "<strong id=\"false_iff_true_negated\"><a class=\"ProveItLink\" href=\"proofs/false_iff_true_negated/thm_proof.ipynb\">false_iff_true_negated</a> (established theorem):<br></strong> <a class=\"ProveItLink\" href=\"../__pv_it/theorems/bdf4062bdc7144aa144127580b6db21dc99dd8250/theorem_expr.ipynb\"><img src=\"data:image/png;base64,iVBORw0KGgoAAAANSUhEUgAAAF4AAAAVBAMAAAA9Y0TyAAAAMFBMVEX///8AAAAAAAAAAAAAAAAA\n",
       "AAAAAAAAAAAAAAAAAAAAAAAAAAAAAAAAAAAAAAAAAAAv3aB7AAAAD3RSTlMAmd0iq3ZUiRDNZu9E\n",
       "uzLWhN+VAAAACXBIWXMAAA7EAAAOxAGVKw4bAAABCklEQVQoz2NgQAADBgKAGYXHmkBIPU8AMi8d\n",
       "LLQAizpGJTBwYIhCEuSYACLZArAbDRHnbEAyZAFh9VwCCBFuBjT1QPv4HFDVM+xAqM9EU88Ksu8e\n",
       "mvpZCPXiaOrfgojOBlT1JQj1s1DV8+0GBYn2DFT1KxmEQMKKQKYaqvpYiMlvE1DUZ0N4JkC8B0V9\n",
       "N9SnHFtQ1L/HpZ7ZHUJbFqCoP41Qj+YeLkic6qG6PwnCMwTiq2jhsxAcoQao6tciwqcETT3LASAh\n",
       "gxb+4gj1j8DpSnsTKF3B0hPzBXjShKRDHYR6pgdoSQbklAa0DKCAYCOnJVyAETm1Xyas3haZ00tY\n",
       "PYqRzAGElLMaMAAAIzAwz41AiZIAAAAASUVORK5CYII=\n",
       "\" style=\"display:inline;vertical-align:middle;\" /></a><br>"
      ],
      "text/plain": [
       "<IPython.core.display.HTML object>"
      ]
     },
     "metadata": {},
     "output_type": "display_data"
    }
   ],
   "source": [
    "false_iff_true_negated = Not(Iff(FALSE, TRUE))"
   ]
  },
  {
   "cell_type": "code",
   "execution_count": 34,
   "metadata": {},
   "outputs": [
    {
     "data": {
      "text/html": [
       "<strong id=\"iff_implies_right\"><a class=\"ProveItLink\" href=\"proofs/iff_implies_right/thm_proof.ipynb\">iff_implies_right</a> (established theorem):<br></strong> <a class=\"ProveItLink\" href=\"../__pv_it/theorems/ccfec81b8b54fa88ae4b688683e94e7d6d338a640/theorem_expr.ipynb\"><img src=\"data:image/png;base64,iVBORw0KGgoAAAANSUhEUgAAAMEAAAAXBAMAAABACzadAAAAMFBMVEX///8AAAAAAAAAAAAAAAAA\n",
       "AAAAAAAAAAAAAAAAAAAAAAAAAAAAAAAAAAAAAAAAAAAv3aB7AAAAD3RSTlMAq1RmmUTNIjK7EInv\n",
       "3XZ/CtNrAAAACXBIWXMAAA7EAAAOxAGVKw4bAAAC2UlEQVRIx61VTWgTQRR+yWazu5N220ARe8qC\n",
       "p4JgwOKtmmD9KS0Y8VI82KqI2AZaL17Udj0KQosHabxkC+LJQJTecrAWFEWUgCI9WFjtQQTRVtva\n",
       "H2x9M7O7maYJqRsHZuftzLz3vfe+t28B6hhKzRvDUN/4zHH6q984h7OZCvt8AQTzbAkvVDiTsovR\n",
       "PROgxwGO0ffLvhAe8uVAJQRoGAeImTAAcIvGOe4L4Shfkr8rHY7aAH0JaMcYLYCI4Qthmj0j11dL\n",
       "W/c96YiJ04YGCyTMVNgfDZzhEf1nae+2J8VwpochjObfzM299oUQ4kQngr8EgvOu9ApgchYjxEo6\n",
       "6cZmlRlwBVIFgboHIBvqBrs+x8aSc6iuff90kUJioFdBYRVLXvI4lwpdJhU019Ijs2RVzXZPTThy\n",
       "o8EdURbF1F3gq47070cXgkiWZkVSjDGeTqkI+vQ2hKdiHXQAfHPrkal97UyubSvh52zR0EYES0DF\n",
       "Ug7anOjet2wJJEBaEBHkO1h3JAEKS3ELVoiIQPDwj9hIBnmjaMK8SJuoTb3tP8z27PNcz4BcXETQ\n",
       "w3g5gHon6NsMkHdilihbHwUePjidaAxtBJbR/yK+PBlghuA4/1Lm2/eCiGCHkKyeTCaTRj6UzYNJ\n",
       "lxYN3YczOIdKIcjut/sDkcZQUaIbNxjRvU5+O4C0iAiyibScZlR0WpSlyYRjhBaiQpOQLXXQa66Q\n",
       "Rs0XllPSAeZUdyFmOYkeTQkIocLjdWhlR20pypKy7NZVEUh2xYK2rUEPwa2z1q1o9Ap1qzHlHulo\n",
       "2OSJhj6xWm1QVkHFJGXuxRlLstckZnfxP7jpSZjPJoPkQVkH8l7IkoxmsYxzKM5TlizIuVmiXW23\n",
       "3RFz8QzIqUvqDBzaKHQZAkJPMzxYSdFfAUHOpKHC1F1PW6v9B9vRtYOCrJWFT6xydVK76e9w4mxV\n",
       "hIpjpOaNL+Ub8X9DqHMo/8nOX6sbraAN193PAAAAAElFTkSuQmCC\n",
       "\" style=\"display:inline;vertical-align:middle;\" /></a><br>"
      ],
      "text/plain": [
       "<IPython.core.display.HTML object>"
      ]
     },
     "metadata": {},
     "output_type": "display_data"
    }
   ],
   "source": [
    "iff_implies_right = Forall((A, B), Implies(A, B), conditions=[Iff(A, B)])"
   ]
  },
  {
   "cell_type": "code",
   "execution_count": 35,
   "metadata": {},
   "outputs": [
    {
     "data": {
      "text/html": [
       "<strong id=\"iff_implies_left\"><a class=\"ProveItLink\" href=\"proofs/iff_implies_left/thm_proof.ipynb\">iff_implies_left</a> (established theorem):<br></strong> <a class=\"ProveItLink\" href=\"../__pv_it/theorems/7c884a8aafeac741955b8daa63d9c9497be3f4ba0/theorem_expr.ipynb\"><img src=\"data:image/png;base64,iVBORw0KGgoAAAANSUhEUgAAAMIAAAAXBAMAAACrPI2eAAAAMFBMVEX///8AAAAAAAAAAAAAAAAA\n",
       "AAAAAAAAAAAAAAAAAAAAAAAAAAAAAAAAAAAAAAAAAAAv3aB7AAAAD3RSTlMAq1RmmUTNIjK7EInv\n",
       "3XZ/CtNrAAAACXBIWXMAAA7EAAAOxAGVKw4bAAAC2klEQVRIx61VX0hTURz+dJt3u9PlQCKfNgiC\n",
       "wGiQCBHmIvsjM1r1YhFoSEgycL0EgTR7DIJJRLVedoUIghYagg970HyI/lAMKvBldMtXyYo0M3D9\n",
       "fmc7u8cx/zQ9cM499/zO+X3nfN937gW2ULRtmLF++bp++BrgMIF67u+uCKB6FLAlf3h3PigfH6A6\n",
       "Cxzjfl9FCI+5qR0GfENlN5CjpsbATWZruCKEo9zEiIfuYLmw3RelMwYZBG5/RQhT3LTR/ttMOeQy\n",
       "rPDEJB/tDWwBOkplMvRw66Maicoxp8WGZs7zxnuBd9ns24oQ7KPcvgZGZqzBQ1YY+2nzGANOAg/F\n",
       "kFGSQHb0NRBqOIHzz7cvveL1VJbL56IkZxHnLbQAV6EJx+qvRODWr3SHsIZLTn2qOMWZDI1Lb9Yx\n",
       "CZ7fQFNAwd0jNQ0ixnmbWBx3mEfcP0XAloFnahXCpOqDVmCu0K3lZS6a615SJugRkQ2eu+0+FiVO\n",
       "gpl5obvei0dVELbvKoLjNjlFD0ITtDeQc1SEHbRP24p6kSfyz2cUy9DzItWew2LIvJRf50cqoCJ4\n",
       "aihJFbnlBL9NQ/+gshSnuVULlg7ZviJJqGMu9lF93i8S4biIxGabd0FFMO3kys5EIhEhPbSVA0ek\n",
       "LC6+BfMEHe+xjnBenpwvAXNxkOqgELqrwG8r9AYVwTFEspwRUrQbrNKIdIub10VoxkvLhZoEG+QM\n",
       "5AKEmHmxqVDaZxSIjoUVBHt6bBmNIrQ3zCppC9JXRHNjzuu9ojjBVTjgk1w/qpOLJN0nGfJQ4qE8\n",
       "0ehW3WpCW4KTSErcCwiVHEXnzGzif6BlZO8cSe/XR6EtQ/+osMR8ko1T+Q8xYgZSxTvVvJmLL++K\n",
       "/QX005ed02j5m+7wKwid9Xi0GOZfgU7utg2kx+9YlEQ3Rrhe+jFT+q5VkSh0o3S1vomP/v2S9wtr\n",
       "IpQtNzac4Sk9ZuD/ELZYtG3K8w8FDqkOIJKb5QAAAABJRU5ErkJggg==\n",
       "\" style=\"display:inline;vertical-align:middle;\" /></a><br>"
      ],
      "text/plain": [
       "<IPython.core.display.HTML object>"
      ]
     },
     "metadata": {},
     "output_type": "display_data"
    }
   ],
   "source": [
    "iff_implies_left = Forall((A, B), Implies(B, A), conditions=[Iff(A, B)])"
   ]
  },
  {
   "cell_type": "code",
   "execution_count": 36,
   "metadata": {},
   "outputs": [
    {
     "data": {
      "text/html": [
       "<strong id=\"right_from_iff\"><a class=\"ProveItLink\" href=\"proofs/right_from_iff/thm_proof.ipynb\">right_from_iff</a> (established theorem):<br></strong> <a class=\"ProveItLink\" href=\"../__pv_it/theorems/b3034e8b14e9230efdb7b47fccf97ed4c8b9fafe0/theorem_expr.ipynb\"><img src=\"data:image/png;base64,iVBORw0KGgoAAAANSUhEUgAAAJEAAAAVBAMAAAC01xHeAAAAMFBMVEX///8AAAAAAAAAAAAAAAAA\n",
       "AAAAAAAAAAAAAAAAAAAAAAAAAAAAAAAAAAAAAAAAAAAv3aB7AAAAD3RSTlMAq1RmmUTNIjK7EInv\n",
       "3XZ/CtNrAAAACXBIWXMAAA7EAAAOxAGVKw4bAAAB8klEQVQ4y6WUMUgbURjH/8nd5fRS0kRKbacc\n",
       "ONYhg3SrdVHUCga6iItKKKJ0iHMLnqMQMEtL4+IJLmoFdc3Q6iARURw6uAROXEVrUJtGsP3u3SX3\n",
       "pTag3AfH++57v/cL9973gigo2uAjpIWL2NMvQLf9Mu7HhEdZIG5ghlI168s0bQEjXQiZQFj3ZXpt\n",
       "0GNBSgAhXyLE6XmfBvaLxT1/pl1g8YjGXmBeFMz6ebmaaNXE/L+o6ffZccpOpqCKTtAKoj57me8z\n",
       "7KS5Sn41XGOBLa9hQOQX0J6wV5jhpF0Il5zuOETke53pm3seLoB6jEAaw2VKgpaz4UMHYgh0QfrJ\n",
       "TUrGggcsAR/qMOAxfZJ0a2ejnaJgjTltpmMtwU2RUBQe0EobmOYYMEdj4MrONifFAvQ4bXbS8Qzc\n",
       "ZMmjqAHybi73ucAx4JzMc4L5KH5zCKei/graE25SDHc/bEBpEafazzBqJYJ2xLkGxBm8ycfFG81P\n",
       "J5lJzm9UUAUCol+CnxiG539isQl2SSI0I4zbdId4F1hQyx4wm6NIcexOvKUz0LV1qBVoP9jXKbSd\n",
       "Jay6ALRDclLJw/4NeQva4Lumbby8yffpzDQQxdJ1MqM7APACWKayhzWIIMub+URtlQqs3OcuDjcw\n",
       "KeZDb3WigUny9V+hPpD/Cwjxey/AlXRoAAAAAElFTkSuQmCC\n",
       "\" style=\"display:inline;vertical-align:middle;\" /></a><br>"
      ],
      "text/plain": [
       "<IPython.core.display.HTML object>"
      ]
     },
     "metadata": {},
     "output_type": "display_data"
    }
   ],
   "source": [
    "right_from_iff = Forall((A, B), B, conditions=[A, Iff(A, B)])"
   ]
  },
  {
   "cell_type": "code",
   "execution_count": 37,
   "metadata": {},
   "outputs": [
    {
     "data": {
      "text/html": [
       "<strong id=\"left_from_iff\"><a class=\"ProveItLink\" href=\"proofs/left_from_iff/thm_proof.ipynb\">left_from_iff</a> (established theorem):<br></strong> <a class=\"ProveItLink\" href=\"../__pv_it/theorems/e0e7d6870604db27e7f6f9bf628cd436405bc1640/theorem_expr.ipynb\"><img src=\"data:image/png;base64,iVBORw0KGgoAAAANSUhEUgAAAJEAAAAWBAMAAAAyQ2NwAAAAMFBMVEX///8AAAAAAAAAAAAAAAAA\n",
       "AAAAAAAAAAAAAAAAAAAAAAAAAAAAAAAAAAAAAAAAAAAv3aB7AAAAD3RSTlMAq1RmmUTNIjK7EInv\n",
       "3XZ/CtNrAAAACXBIWXMAAA7EAAAOxAGVKw4bAAACCUlEQVQ4y62UQUgUURjH/+7sOrtva/XgIU87\n",
       "4MlTC0W3agLNRKE1L9IlPYgggnbpFOx0DIQkItwujuBFamULocMcNE+CKEJehQGvQSKlopB93zez\n",
       "9qa0TaYP3r7/e2/ej/f937cP+C/xhFozi7a4pHFqnSxGYoISJ/TzjJo5FZOUzE8AjS6QtWKSPi45\n",
       "gFEgWkyQ6X/ls6xvb6/FTQ5X6Ty4B7yRsfv7chiqLukBXlSpewxTKkGtyuzzb163wyJT++6d82tP\n",
       "eqZncToiOGyUGJFxs0UeZvdk1thEbjlCWtLv4ybwJSqA3KuOPN9+wg8MH9iQrsGGsauTUpM+HdiG\n",
       "yQmgBbiNiAAWgKZNFoO3ZOwPSXfJQqWgk3KNdPIGqpcuHq1AfUZEcHK4LGl8GJUNuCvTpZ3rV6CT\n",
       "/OQg0Fsul8fIL/PHtTti26mgQ3MdSRpPxfCB0/xVi05KOWRbn1jV4bKLs3ZoZyBoP398IM4Iu8fL\n",
       "u2H+paJGSnrvj9AqS+1FdtH8HtoZCMyfjCIxs1+t3UmOAE6QPx7pVeDDPESakiu/LoiLqcPQzkD8\n",
       "Ef3kv6WqMI+gtrTs2AQqjwrJHXbRRcXG25o4q94/Qd0fTq/gxrHXbWmk3mbM7ReRqEJRyRjj3uJL\n",
       "YNIKxV/eGU1nIisTUNq/qf7b8fBcUiRSbl1S4d9IxgUfnQs+LT8BDT98lJuWa8IAAAAASUVORK5C\n",
       "YII=\n",
       "\" style=\"display:inline;vertical-align:middle;\" /></a><br>"
      ],
      "text/plain": [
       "<IPython.core.display.HTML object>"
      ]
     },
     "metadata": {},
     "output_type": "display_data"
    }
   ],
   "source": [
    "left_from_iff = Forall((A, B), A, conditions=[Iff(A, B), B])"
   ]
  },
  {
   "cell_type": "code",
   "execution_count": 38,
   "metadata": {},
   "outputs": [
    {
     "data": {
      "text/html": [
       "<strong id=\"iff_symmetry\"><a class=\"ProveItLink\" href=\"proofs/iff_symmetry/thm_proof.ipynb\">iff_symmetry</a> (established theorem):<br></strong> <a class=\"ProveItLink\" href=\"../__pv_it/theorems/c7d87c295837a5fa207a8ab6bba630f8898cfcf90/theorem_expr.ipynb\"><img src=\"data:image/png;base64,iVBORw0KGgoAAAANSUhEUgAAAMIAAAAXBAMAAACrPI2eAAAAMFBMVEX///8AAAAAAAAAAAAAAAAA\n",
       "AAAAAAAAAAAAAAAAAAAAAAAAAAAAAAAAAAAAAAAAAAAv3aB7AAAAD3RSTlMAq1RmmUTNIjK7EInv\n",
       "3XZ/CtNrAAAACXBIWXMAAA7EAAAOxAGVKw4bAAAC8ElEQVRIx61VXUiTURh+5n6+7Zt+KVjk1QZd\n",
       "BUaDROjCXGQ/otCqG4lAQyKygfMmEKTNy0CYSFTrZp8QQZAxQ+hiF/5cRD8UQgXeDL7yNtIizQy0\n",
       "9z3fzjqO+dP0wDl7z/ee8z7ved7nnAG7aNoerNi6fdnafQtwW0A124fKAqjIAM7095oDD0r7e6nP\n",
       "A6fZvl4WwmMeKoeBQKJkAus0eEwMMlvDZSGc4iFOPHSGS7ldgRidMcwg8AfLQpjioZnyb7bE3EN9\n",
       "8J/7xSQf7Q2cIdtVRhm6eAxQj8bEB+IcvgJhmrXAiXcD73K5t2UhuDI8vgZG58Tcy1zrPQU3jlLy\n",
       "GAfOAQ/FJ7MogDT0TRA8HMD7+9vnbns+RLnmci9lmItIcgqNQB80oVj9lXDc+ZltFSf1yUhPFaV4\n",
       "020TUptVTILxC6hnKBh2nt6RvDuMOMetp0imP8Jf/D+EwzkLY2oDwqSqgybga96s5G0+Wutf4QSn\n",
       "ZUIiXxh3WwJMW5IKZtmF7ngvfhxhOBdVBPcQKUUPQxO015JyVIR9FM+5xtO+jF3gm7b3Gflm6fcK\n",
       "9a4T4pN11d4XxFhIRTA8FMRBajnLsxnoH1SWkrTWsWQfLydaQpKEKubiCPXnovwGzghPfL7hIFQE\n",
       "y0WqbE+lUlHaq60dOynL4uNbsEDQyS6b37DyPLj5EjAXx6kPCOI68vw2Qa9VEdwJKssFUYoWk6s0\n",
       "Ki+wn/dFaYWUz35WYMS2BzgCqQBtzLxIqi0bMPNExyMKgis7voo64Toc4SppS1JXRHPdek3NjaDy\n",
       "TvXb5pP1HlSkl6k0n6RGDAqcsIlGp6pWC9oKvERS6l5IVMm9IvfMlfgzKL482qy0LlHpg3oG2ir0\n",
       "jwpLzCfJeCz/KMRNjBWeuYadXPyQNKahn7/mnUHjn2xrUEFor8aj5Qj/FeikbmdvdmKksNsX2x6h\n",
       "v/gxU2zfBk8Mulm8W9/Bo3+/aH55U4SS7fa2K4ziY4b+D2GXTdujOH8Bvf6uJoKpMmoAAAAASUVO\n",
       "RK5CYII=\n",
       "\" style=\"display:inline;vertical-align:middle;\" /></a><br>"
      ],
      "text/plain": [
       "<IPython.core.display.HTML object>"
      ]
     },
     "metadata": {},
     "output_type": "display_data"
    }
   ],
   "source": [
    "iff_symmetry = Forall((A, B), Iff(B, A), conditions=[Iff(A, B)])"
   ]
  },
  {
   "cell_type": "code",
   "execution_count": 39,
   "metadata": {},
   "outputs": [
    {
     "data": {
      "text/html": [
       "<strong id=\"iff_transitivity\"><a class=\"ProveItLink\" href=\"proofs/iff_transitivity/thm_proof.ipynb\">iff_transitivity</a> (established theorem):<br></strong> <a class=\"ProveItLink\" href=\"../__pv_it/theorems/76b63d93504830e665a8c1f8691b850616b988380/theorem_expr.ipynb\"><img src=\"data:image/png;base64,iVBORw0KGgoAAAANSUhEUgAAAQMAAAAXBAMAAAD9zzfBAAAAMFBMVEX///8AAAAAAAAAAAAAAAAA\n",
       "AAAAAAAAAAAAAAAAAAAAAAAAAAAAAAAAAAAAAAAAAAAv3aB7AAAAD3RSTlMAq1RmmUTNIjK7EInv\n",
       "3XZ/CtNrAAAACXBIWXMAAA7EAAAOxAGVKw4bAAADlUlEQVRIx71WS2gTURQ9STqdZNLGqgUVEQd0\n",
       "UxQMWNypKdZPrdKIG/FbERGqYN24UdsobgpdqKA0InSEIv4KVVwZUCsK/g3qoosWoyKlIuL/i597\n",
       "78skzzSldTE+mJl735v75txzz3vzAC+bOeobzfC4PVdAGkd+YyNdFWzM8AaBv0cepW+LDVpD4yea\n",
       "PZEosJjdbd5AOKUec4pCeP0K/pVRNAH7malD3kBYpB41X4qMnemjW0MzqoklBwjb3kC4Jvfwnq9Z\n",
       "nzQRrMjaO+i7WA+UOQhQMUo9koKSYUvkvfK57uhQdlj6DtK3qfP+wMBdbyCUKDXG/B+U3yb6cMRu\n",
       "TfP9NGEhWpYBx6XXGWmmnIb/EQInCBh28Ie4wXsD1PqbxLmayb4UIKp2wZT6WLcU1I+puoTirTJ1\n",
       "jmGF3CnPJ/LTBzvrL3UUBKj2rP7yZWWV2yoD8524QyrHNul96u5JfhJMyAnH89VBII2IyMh4BJyA\n",
       "DuGqrtr5tKz+DlBtg41Q1i2TeYdqa75JAlkhWr18f+gSH6QV688oNa55IA9fDAFZx7NpfKYOwWgn\n",
       "8qwYTClxJbBQD+gC9nBSd+iKaRAsCvope+RU1btbwp8KA8SewXgbF8hQZrOKs9HNNTSZlAM6hEgp\n",
       "5eEjApeydx3WYz1gElFOY63EVNDWCsFK6ld0DUjrE6eBCxFmGKzLiyKQCJYoqb6onizJpV1qXQiZ\n",
       "ElLOimQyuYPAm7/m1iS0gJLbyeQxUtM0rVYhltxqunYqv1o0qkTQymOsmQBvi3ulSGuypZ0Pq1KS\n",
       "ixVAMBJU8lWSYK3DCjgZywcYE0R5y3FDg8DrzWSeO9VnfVyYxVkV0kJd57gr1yfZ1KemO9kat/Kr\n",
       "ZQzT1iCUpC58xxR5pyrOCjA/IRfgk3XtPwoWlN9dNWlYnZ8dVP3eroTYqP0Lug5XilrL4y7iCE2U\n",
       "UDXGJjZ8lEKkWYOQgfkVQapD8lhUFGCofVcFtPHAFmA89Qy6k/YVORwU7j77chaVbJxt9cD8DusJ\n",
       "cA7WTeClVgiDvksK7SbzBdfSQXcM+QArrTbg83FEcnlVj/1XRiz3wmrYGryOeT9SdUR/u42u+jeO\n",
       "BmFFBbo+x/kIYBGXgZ2pS0eI6lwAZtHPj8muvfIqr8fRz0TDftL+nKXtQqECMi2nWACd0c4OO5WM\n",
       "fggYhnKtaxjOSBBGCCjeWkaFMFjYEXWNAMYGIYr/0kyP5/8DRUboFdhWkUIAAAAASUVORK5CYII=\n",
       "\" style=\"display:inline;vertical-align:middle;\" /></a><br>"
      ],
      "text/plain": [
       "<IPython.core.display.HTML object>"
      ]
     },
     "metadata": {},
     "output_type": "display_data"
    }
   ],
   "source": [
    "iff_transitivity = Forall((A, B, C), Iff(A, C), conditions=[Iff(A, B), Iff(B, C)])"
   ]
  },
  {
   "cell_type": "code",
   "execution_count": 40,
   "metadata": {},
   "outputs": [
    {
     "data": {
      "text/html": [
       "<strong id=\"from_contraposition\"><a class=\"ProveItLink\" href=\"proofs/from_contraposition/thm_proof.ipynb\">from_contraposition</a> (established theorem):<br></strong> <a class=\"ProveItLink\" href=\"../__pv_it/theorems/9858a731876efec47f8453b6421a8f4fa22433ca0/theorem_expr.ipynb\"><img src=\"data:image/png;base64,iVBORw0KGgoAAAANSUhEUgAAARkAAAAXBAMAAADNQybgAAAAMFBMVEX///8AAAAAAAAAAAAAAAAA\n",
       "AAAAAAAAAAAAAAAAAAAAAAAAAAAAAAAAAAAAAAAAAAAv3aB7AAAAD3RSTlMAq1RmmUTNIjK7EInv\n",
       "3XZ/CtNrAAAACXBIWXMAAA7EAAAOxAGVKw4bAAADnUlEQVRIx71WW0gUURj+d2bXXWd0UxCrh9iN\n",
       "IIIeWkiDHsqNLiY+tNSLZZTdCDVSC4Sg2A16EUpFkloJnXoIJIyphNB9yIzI6IKU9CYsSPQSqWUq\n",
       "Bdl/zj+XM+56IdwOnDmX7//nfOe/zQD8p1a/AhIr1vxBPjQuInIMex6bbMg4m8001KXDts/l51fH\n",
       "wB8C2MvWZzNNRqnigzSXFn0N4JoFqAG4iitva6bZuEM0BNIFh/cPgGcKoAggSwNQg5lmk0PD02cx\n",
       "e6/DnMhoFxkZ5WggI+usjIfNRjJCcly4d5M5cU0ghVfYkcq70dE3GWdTTo6CLSF7T9ZNw7WCsg6N\n",
       "pmJG7Tdtps1zNQ2Sw9N+cSFAmhNJaaf48yC0cAbuUd6mDLCl81shYyljqDeAl2e5MkT2m0qUcedm\n",
       "k2ixoeLrKu+9DRAWjii2U2bIRAwxTrb29IjpmA/8GYZonnibkzSO14P0gq0H8FRNjbA99TvZbxj8\n",
       "AzYbxVLfAfAVoFLIWvvNTLdSFIPmte2Q1C9sMgRecsPe3BNwZO99vg13sLPw9mH8SEkK4or3FFJh\n",
       "kCdsNu6IqVoAUEIpiDohB8R1CTHE3Oh/ZKPeE9k8BFg1LGZ2Lbl6EntJErOcWaFqJ99LnqCQCkJP\n",
       "yGaTa+kOgvLRKgarHRDXNRASG+O7+sV+0VPoy9wBIW4+ERnfD3wE8GoSo/q4huJzH8eiY0VrwGbT\n",
       "aJeorbvQmlJYjWM7FxO/OVxXCttiCndIcs9bs7x0YvewWjJhX8FjeM0/g4ymWZCwjcvc/xXc3czv\n",
       "SoHA5jBAH54+zOLpbth+RW/EhkiXEBLzhMg21z4bJz9i57CXzthszNtkob2OMou4WcK5+AXKEwHN\n",
       "8Hs0YrNZTxp5LJ68P/ESBpuGfhsiXUJITK6Ox9tY3KjGiTcAuudqQOqa1i02Ruq5uibzC9t4VESE\n",
       "QhKNkd/huJDhTeaRGE+eWctTcV2ASJc8RWI+nWyjmlUoN7aM/5kr1uwQxntQ0cH7C5QRSIlirBQa\n",
       "9OB5/iRfPxEhrsuQB2CKdRhsms26G15Gwd5tFd7noBw44xuEbb8TZUGBTbZxA7ku0dtmrX1hASJd\n",
       "trweNMUusYA/Xxu3PgS3liaT8ichCXNi49GdEt1U+NJADLG+iUpfvD2N3qIte77rjqSwgVKnROkC\n",
       "c77yaAtfPLkkmy/zN0KpbFTHCXJEWDgghsiZ+wnwWp9n8Y/SIaItiPxj+wu1GPX6kWgOcAAAAABJ\n",
       "RU5ErkJggg==\n",
       "\" style=\"display:inline;vertical-align:middle;\" /></a><br>"
      ],
      "text/plain": [
       "<IPython.core.display.HTML object>"
      ]
     },
     "metadata": {},
     "output_type": "display_data"
    }
   ],
   "source": [
    "from_contraposition = Forall((A, B), Implies(A, B), conditions=[Implies(Not(B), Not(A)), in_bool(B)])"
   ]
  },
  {
   "cell_type": "code",
   "execution_count": 41,
   "metadata": {},
   "outputs": [
    {
     "data": {
      "text/html": [
       "<strong id=\"to_contraposition\"><a class=\"ProveItLink\" href=\"proofs/to_contraposition/thm_proof.ipynb\">to_contraposition</a> (established theorem):<br></strong> <a class=\"ProveItLink\" href=\"../__pv_it/theorems/7cdb936006e93c273c83369af073aa485c623d3a0/theorem_expr.ipynb\"><img src=\"data:image/png;base64,iVBORw0KGgoAAAANSUhEUgAAASQAAAAXBAMAAABQTi9oAAAAMFBMVEX///8AAAAAAAAAAAAAAAAA\n",
       "AAAAAAAAAAAAAAAAAAAAAAAAAAAAAAAAAAAAAAAAAAAv3aB7AAAAD3RSTlMAq1RmmUTNIjK7EInv\n",
       "3XZ/CtNrAAAACXBIWXMAAA7EAAAOxAGVKw4bAAAD0klEQVRIx8VWW0gUURj+3YurM7qtIJH0sAuB\n",
       "BBktJEKEtZFGYpHUi0XghkV4IbUiECQ38CUwFclyC3KNCKKMNQSxfdCEwuyCmIEv0pT0FmmRlwy0\n",
       "/9xmz+yOJrTgD9/OzJlvzvnO+b/z7wFIbDg44hpNonY93/5/fOEwhF0zozo98tMVRiNwkedtiVJk\n",
       "CTPwsHb9yNjcCTBtxt1heKoBRkMUkufziZL0kENEWhuAOwDJoXiq4jfMZQV/CA1xjSSwLVGSDnKI\n",
       "aMQ8lPnA6oun2ryGJzc6i9AQRJnqSZSkIQ4R+wMIlDWqt6SKBUszfNg/iExKGwUrik1OmJX8DHq4\n",
       "EdU4/3K9JUVkJNuw2bQZsizlDO+mpt4kSpItzKDHa4DuSbz2Rpv28mux4UPY5eU0xGGAO7Q5xoI2\n",
       "3YerjG9i2WQvg74kv79/pguUR36OTpH4xH1VLn94HFrDnIaoAwctBMoIfXn9V6QoQJMu6E8C0hhd\n",
       "xX2dXOkIT1bV2QnhxXQPAx18AkvPAkAOkZgjDZ/N2OM4a6qRSPRBo4vTcojf1BJCUX+yUjIGziGD\n",
       "pEHZ/PkA39gd5bdkdYAWvrhdWLaEgUYd9oE9qYt43yrv/mrKeClshFqcNwvcbZyGsGjM3aXv6SUJ\n",
       "t+ysLMnezGovK6eZuINA59sw6yhJvb+KpE04nHUZ70/LdbofYiU9ReoYpxH499FX2hnWqwd6vLIk\n",
       "Z7KLaaV/ScOgfACdT6uyFr70PCZxQlIr9pQ0h/c7o16a4nV5XJKEuUsf4jSCZ5V0ZDjEitt07haQ\n",
       "JWk2PwwEg8FbxDuO5d0HmLUIX6EbWit4K9yWqjHQuAwwg9NoJUVhT3SRTvLrPSHJB3ayK2Y5jaCB\n",
       "rkIp90g+KJmyJHvAyWufWkid1s12DOHbvWyVmr7y7lUXg4hq/P5VyLDjHaJsSXWhgQy3wGkESXSO\n",
       "xRF3iJulsUSSZIv0LvHOtoaI0xxzIPjWimCwnXhJFRtyjIFH1kpGRgXN48do9RYrekNverRSCZau\n",
       "+TCj6VQnKgkws0CZXAQ0cCzSxAXvMqfZF3V+SpitkuoU3UxyxJ6ExuLPTukBU1qUegI971HC4FgC\n",
       "ZUJKHMkNqw4qyVJjCHp88JjzWY1FSS2im1yONf9i+cHFZ0rTqbYXoBw7lzIMeX8iRR5J0hEXPJin\n",
       "iWwi3dRE+toBmj2MD/U4U8uFqqA+YmotQ0zUm1X/26a0WKpFuk9d4/9D7HNlINhhPAS1Ad+H/xid\n",
       "WMiUFks9tYYk+eAaWvXVVQ7jkbbW9JiumdDiqN71SbLCxoRjg8aFv8LVBa3XjEeWAAAAAElFTkSu\n",
       "QmCC\n",
       "\" style=\"display:inline;vertical-align:middle;\" /></a><br>"
      ],
      "text/plain": [
       "<IPython.core.display.HTML object>"
      ]
     },
     "metadata": {},
     "output_type": "display_data"
    }
   ],
   "source": [
    "to_contraposition = Forall((A, B), Implies(Not(B), Not(A)), conditions=[Implies(A, B), in_bool(A)])"
   ]
  },
  {
   "cell_type": "code",
   "execution_count": 42,
   "metadata": {},
   "outputs": [
    {
     "data": {
      "text/html": [
       "<strong id=\"contrapose_neg_antecedent\"><a class=\"ProveItLink\" href=\"proofs/contrapose_neg_antecedent/thm_proof.ipynb\">contrapose_neg_antecedent</a> (established theorem):<br></strong> <a class=\"ProveItLink\" href=\"../__pv_it/theorems/d21322ed233692daf92dfae0e6a393bd6bbb8c0e0/theorem_expr.ipynb\"><img src=\"data:image/png;base64,iVBORw0KGgoAAAANSUhEUgAAAR4AAAAXBAMAAAAvnz2ZAAAAMFBMVEX///8AAAAAAAAAAAAAAAAA\n",
       "AAAAAAAAAAAAAAAAAAAAAAAAAAAAAAAAAAAAAAAAAAAv3aB7AAAAD3RSTlMAq1RmmUTNIjK7EInv\n",
       "3XZ/CtNrAAAACXBIWXMAAA7EAAAOxAGVKw4bAAADj0lEQVRIx71WTUhUURQ+zo+j7+U0QlSuZiKI\n",
       "FkazMCGiGsgykWiojf1ARoX4Q40VgiA5QRshHImkpo3WIpAoXj8g6iJzEf0zCwM30pS0i7So7Aey\n",
       "c++5974785zZvQ6ceW/u9517v3fuuec9APcsINwxWCzARfsgPMf82QLsLsJC7H69G3I8Frkw79CX\n",
       "ytXXAeYK0M8Ax3az+xY39NwWLm3FAEA4CaXDy6tfwh/ELrJ9G3BDzy7h0npxN47FwBtblu0LJ4Bh\n",
       "TK4ZcUPPpHBpO5PoqOmFGinXUjX6GGHEvFFMkyvl00yuLIzegUk4oUbK7H0JZOdZUhB7PTv70g09\n",
       "Potc2XOAmzN4vW8PbbPZsDlK2F6AG3wor8584jETamQYgoUWX6ZGS6PkKhm/Pr/nqallP/tmmb1T\n",
       "tXQAUhZhnRDgZ954xoG+bxMNSb65RNyiJmQEvRYVU8WCp/3ktKzFigg5X3kaILgIUM30VWtzbJDs\n",
       "GPSGCCsfNuNsxPxKbSIDwUlbjxFSsYxwRJtLMUVsf9UgZK2zG+XxjpNz68T5kGv+xPuUNofRQYzg\n",
       "1brwAGGeLJVz0xt+KcETuWDr8cVVLCNQ8/BEc5gE+XDjUY95q4Celfhk3r94f1RvyqN0vYd4RmDN\n",
       "O/hQ9jhNE4G7UVtPhR3LCKIzrMlhEsT7btY6N563X1JPCrkl3/F+k10/sy1qu6BiUmAP2njGYA91\n",
       "rbmatWDr6VJyOMETM9NoHUmdySGDn91s3aukbC5Zcm7nAebxYKTY+d9qP+Ih+VJjtb8gsB5eIk3w\n",
       "iUPbwVil6cGIMRSQEQS/6BiP4hqTQ/4o5efSR1luIXJpHRj9lG13o910ZHvqYestCqyEP1HjRJjX\n",
       "Bi7RG7f1rKOAkCDIDtY5rjE55G1Np6+w+jHl+c6QC6taqqxs5dv31u7PIpcjS23gGfphaRh2ll6O\n",
       "TuFLRjvvfVIPEcR+pS2dyaEyi/Jjqh41Izz/IydT+HvHxg5igUcMCwK/wZgGRz3HiABBKoiHLJaY\n",
       "d0QsNVXU0y+nrBGe37ejRXq6xHxPwNh/qmwKav9MNEQ0PeUJnSD+lrG2KJiXIwLqxlx5Tren1XKM\n",
       "W55wrNld5B2Tj3m0e9Ljt3III9TF9CF5pI2x9GAOl504w/klc62InnzssEMP1OcQ6h1T+IcLzn5B\n",
       "eI4FE4XlOLCoU4+pr+eNO+bwwn+ywDKvbsP1Vf8BEUv4IpJbGJUAAAAASUVORK5CYII=\n",
       "\" style=\"display:inline;vertical-align:middle;\" /></a><br>"
      ],
      "text/plain": [
       "<IPython.core.display.HTML object>"
      ]
     },
     "metadata": {},
     "output_type": "display_data"
    }
   ],
   "source": [
    "contrapose_neg_antecedent = Forall((A, B), Implies(Not(B), A), conditions=[Implies(Not(A), B), in_bool(A)])"
   ]
  },
  {
   "cell_type": "code",
   "execution_count": 43,
   "metadata": {},
   "outputs": [
    {
     "data": {
      "text/html": [
       "<strong id=\"contrapose_neg_consequent\"><a class=\"ProveItLink\" href=\"proofs/contrapose_neg_consequent/thm_proof.ipynb\">contrapose_neg_consequent</a> (established theorem):<br></strong> <a class=\"ProveItLink\" href=\"../__pv_it/theorems/d1c42be3ce2d851b9486a79b5ac1e401a327d5d60/theorem_expr.ipynb\"><img src=\"data:image/png;base64,iVBORw0KGgoAAAANSUhEUgAAAR4AAAAXBAMAAAAvnz2ZAAAAMFBMVEX///8AAAAAAAAAAAAAAAAA\n",
       "AAAAAAAAAAAAAAAAAAAAAAAAAAAAAAAAAAAAAAAAAAAv3aB7AAAAD3RSTlMAq1RmmUTNIjK7EInv\n",
       "3XZ/CtNrAAAACXBIWXMAAA7EAAAOxAGVKw4bAAADu0lEQVRIx71WW0hUQRj+9+buOUc3hYikh11I\n",
       "LMhoH0yIKBfSUCySerELZFiEF2orCARpDXwRzJXIbItyjQikC0dfRPdBE4ruLGLgy9Ip6S20otQM\n",
       "srnvnN11e2kb+OfM5Z9/vpn/+/85ANkrzkyTgTTKTshq+Zhhzu2VexcBHAaVfNzfmA04Vh3A1v+1\n",
       "YN2NNJNbTL2zSGapVOL+6WzguY+r3B4AT3vKnFpvQr6CqpwIkcvYbz3ZwLMHV0HkguP+lDm7z9Tz\n",
       "IDbZ/EQwLM2bDTwTuCpHd1Nu8CElwhq5Js2RcXyDL4nYENKcrNCHuMSDpEXEkos7otgUWsY8vpAG\n",
       "Km/i8VfZwGPXcf0CYGAmMbiTfWtMmrANu2+IShXATTIcSbInuCePbjLpCEdEUvHk4D1cP+c+NJDu\n",
       "/jgu7xmVGmTNgxDC2MuonAMniXn1OZns/B6tJvGgcPWHUnjYalmDqnHMbC1Ym09Ocy7m4YZ7EaBE\n",
       "5m4xnZ5C5yUAMT4/BDGCEipKRCObaN/ojjFwT5jwjEtsHxDAiJpDpz2ytruwFwz9/GZOWWxVQaa0\n",
       "JTnQW8hmTzl1EBD3tQoP5lWIitWgdK57Sz4WP9i+yHgcXdQrJGdWcrtMrQnEWnsVdqCu3ZXxrEH7\n",
       "2X7LmXgEkvE8Rmox1D7GpH435cIJasYLj3wyHndOPkWAoyTG7TK1YRBrZ0lDvzAm+yuEdCw/EvyJ\n",
       "s8w7JeFBLsvDHtnKZJgc0g17iUZwtnQ9yHgMez2MhsPh64gjTpFWmVoR8LUqCWWj4jVnm4KvdR4d\n",
       "IiTl4sPse4fj8YMDJxzskR1M2sj56+Az0dgF6loZj6Od0gnxoBIcPaAhaLeFGrWP1zp89H46PrGt\n",
       "NGy2BRl4lgg+cZ6hBMQ2vNciywFYLORENVEPWYd2CdZKeOzRoWVmbEPEylwn1DqBr7U1hsNXMX80\n",
       "nvuQbwtXCgoapXBQ+OVdEUODK01g7V9AgfEOqLArhyBRnkTvjRzvBjiXiL/Ct0R+tQi1IrHWpdP7\n",
       "0dzc5EyGP6K81CfWGaNCyyFEcq+qg3MZ1GnJX9gNNBFoPsFnu1CbgwdsLU2qCE83N1maIXnb0j+x\n",
       "4pm1PwH1wCnXJJT9ilZ7JTz78uHeAvFfB676mD5X64MuL10LrejI1jPNYZH9lEAGQH0pI61MTG+g\n",
       "1FaS5gi7jib9xiD/cXqoo+HelMlVy2BahMkoj2TAQ+8xkNx1RFbd81Kmf2sj+Qc2QMVUfH/DA2Om\n",
       "3nbEBPhPJf3Pvprqw39a/gCJQPtqzgGyRAAAAABJRU5ErkJggg==\n",
       "\" style=\"display:inline;vertical-align:middle;\" /></a><br>"
      ],
      "text/plain": [
       "<IPython.core.display.HTML object>"
      ]
     },
     "metadata": {},
     "output_type": "display_data"
    }
   ],
   "source": [
    "contrapose_neg_consequent = Forall((A, B), Implies(B, Not(A)), conditions=[Implies(A, Not(B)), in_bool(A)])"
   ]
  },
  {
   "cell_type": "code",
   "execution_count": 44,
   "metadata": {},
   "outputs": [
    {
     "data": {
      "text/html": [
       "<strong id=\"double_negate_consequent\"><a class=\"ProveItLink\" href=\"proofs/double_negate_consequent/thm_proof.ipynb\">double_negate_consequent</a> (established theorem):<br></strong> <a class=\"ProveItLink\" href=\"../__pv_it/theorems/1c40c94df8b3525e25b0b3c28e70126f9202c9830/theorem_expr.ipynb\"><img src=\"data:image/png;base64,iVBORw0KGgoAAAANSUhEUgAAAP0AAAAXBAMAAAAyxFQrAAAAMFBMVEX///8AAAAAAAAAAAAAAAAA\n",
       "AAAAAAAAAAAAAAAAAAAAAAAAAAAAAAAAAAAAAAAAAAAv3aB7AAAAD3RSTlMAq1RmmUTNIjK7EInv\n",
       "3XZ/CtNrAAAACXBIWXMAAA7EAAAOxAGVKw4bAAADJElEQVRIx71WTUhUURT+nL8380bHESSKFg60\n",
       "CoKEpJ01YkZikdBGWuRURKSCE0SbSidoEwQNLcKpxTwhWiVYuIlZNAlFEYWQhIuEqRYRRI2l5g9p\n",
       "9+e9uWfemxlspA58vsP97pzv3nPOvVdgE6ZtjHNMixNsxj7K8LHynN2VdoIgzAd2VCXvGhcfX748\n",
       "Z3Pd6bmGLSMINaOADj5+tir9+/KzO1+es7moTQJNCfQx18RVnsFkVfrt8tP2qzxnczGcA3qjaGGu\n",
       "CZ8BBCNV6WfF3+ClJTV0p5izu9ifYMihlomacLMa+Korv+y7odAPNXa9mLO5LPcMA3H4uKiJ17Oz\n",
       "r6rS98i+irp+qjH3eBFnc4GXwOgMy1lY4ZCVNcMW3nL0Mvp88YA34l8V02eFzVPO7sK//O3Dab7M\n",
       "mMJ5aOIM6i9kBucznQnuBKwfPUiQAOmuiRHTr4vIZWpztCinCtwRvp5p6iLEWnUXW48rqxAwgt2i\n",
       "j2QZ3VMIZYv0n9DubAW+WmdJ/OzLgbblooP3THHguyMuAixykLWrP6/gysn263kjPjVRuPNU33sj\n",
       "B3VHNbL+pfo6I3/Ta7c/XkG/nmXavcZiZhUQ2yfo3EkZNYKxZqof8oXlwkTgSehvaf55l7wn9X8X\n",
       "J7URosTFTRa5ZoHteUoBj/qEDA7KG+JTy1ZQ/ZwnhsepVOo27w9tbU+b1Q4BnpdjDINq+94k4bhd\n",
       "oC6+s9Xd5H2XVMBlsb8es66t0BupvjcRMi+QYIfojtGoGY8fHo1zafWOXSSc08UAi/fckGfSAmrE\n",
       "hroyTYZZ4OFuou/JPFwxS7vd4N2hLVhnYQp6etHAzvX+gsCI4uB0t603NJzj5ajrVjCrzGQTssDo\n",
       "pecvB21J5D91V3aHt3DdzjjvhHgJrsS0KwTSWB3rI/o4tBXo0yT/XtYx8mAGeVcOGxiz8i9ekHLW\n",
       "UtKlT1I7fZo8T6EfPeOfxN7VTGeE6B8O496iyNI1fjkMZiZuFaIEKvz/QjjnNP7eWih+UmgEG2c4\n",
       "NPQKzzbhnNP4iiwU2fEK+iVsaGOcY9pngiJr/jv9f2raf1H5Awrm4C5l63aIAAAAAElFTkSuQmCC\n",
       "\" style=\"display:inline;vertical-align:middle;\" /></a><br>"
      ],
      "text/plain": [
       "<IPython.core.display.HTML object>"
      ]
     },
     "metadata": {},
     "output_type": "display_data"
    }
   ],
   "source": [
    "double_negate_consequent = Forall((A, B), Implies(A, Not(Not(B))), conditions=[Implies(A, B)])"
   ]
  },
  {
   "cell_type": "code",
   "execution_count": 45,
   "metadata": {},
   "outputs": [
    {
     "data": {
      "text/html": [
       "<strong id=\"eq_from_iff\"><a class=\"ProveItLink\" href=\"proofs/eq_from_iff/thm_proof.ipynb\">eq_from_iff</a> (conjecture with conjecture-based proof):<br></strong> <a class=\"ProveItLink\" href=\"../__pv_it/theorems/286974f51f5888baa4e6d0554ab9382f7787420e0/theorem_expr.ipynb\"><img src=\"data:image/png;base64,iVBORw0KGgoAAAANSUhEUgAAANEAAAAXBAMAAABnpbd1AAAAMFBMVEX///8AAAAAAAAAAAAAAAAA\n",
       "AAAAAAAAAAAAAAAAAAAAAAAAAAAAAAAAAAAAAAAAAAAv3aB7AAAAD3RSTlMAq1RmmUTNIjK7EInv\n",
       "3XZ/CtNrAAAACXBIWXMAAA7EAAAOxAGVKw4bAAAC2ElEQVRIx61WS2hTQRQ9eS9p0vfa1IioXTXg\n",
       "RlEwi+BOTbGKVcSCm+JCK1WkTdGoK6m2Edx00xYh4nOTp4igIAR3mo12IS1+iNBFFwaiRUQo2vqv\n",
       "ReudOy/fsURMBibzuWfmzL33zJsAdSneKvYY6lXeSL6elexHqK4SnQ01EmkpbhrmFYueXAisvQZ/\n",
       "CNgtxidrZLotm60qE5rGgbY4+oFLwuvxGpl2yab9u2oazgFHIwiTxzZgBmtkesS/5uAP1bQzTjWH\n",
       "Jhs6RbCh1jRJJQz5P6m2NqoDMTQQzfNs9mmNTG4piIj2WbVNATdmyF9S3l7gOs/ZK+4UyXdWgIgD\n",
       "A56gb4mHB7KivOS+b/HD616hQXL7DLysdGOSTSNf0p1xGZPo8WmZwLxgHAgqgGhmmBveBeUQfhLJ\n",
       "FjqIRqlstM0uzqcMsp6Bn2ZHWxPIpc5uLGMyS/PgAFnJvMH7jvZFhamRICYJxUcXQMtJQXS/4MYV\n",
       "gT4PN8WUmMybZUwMuQUMFoFFJoPk/EthaqF46b8ptOJQPTt4LndMrgriXgizPJM697CMiSHrKE6x\n",
       "ArAYPTfVV0qexgji+kr+ZGhwv58Dij3yps2G18PgvXMdz+KlTAxxT1nW1ck80AkRuYNDVE8rPn2k\n",
       "Q42RGnSxxwUWRDfm2LQdxhp4QtKny29LmQTEs5qTv88BOvmjHbwiPEnlmz1AgXtiOxfBxQffn25j\n",
       "DdPq4S69z7KuiDyZpUwC4uIboSUcoDT4MjCS32xsWo5WELUuBwJ9IrbNXQU10jpmnKDPVNyXkj6Z\n",
       "/hImCRmxqPTmgc7qmaqX+2KhR1FuCRopeH/CmHbuMjGNljAxBAalVrwBDlCW8L9+gymMj2EcPOGb\n",
       "wLaldCd5e55Oq52KWqEik4QAm4E7NHSAjiSqvanKa6HlO8YDK1GcHq94yO9WbmRUe3aUoxz+O676\n",
       "8zVUxf6uciL0v0z1KnX5Z/MHFTTG/Q09C2IAAAAASUVORK5CYII=\n",
       "\" style=\"display:inline;vertical-align:middle;\" /></a><br>"
      ],
      "text/plain": [
       "<IPython.core.display.HTML object>"
      ]
     },
     "metadata": {},
     "output_type": "display_data"
    }
   ],
   "source": [
    "eq_from_iff = Forall((A, B), Equals(A, B), conditions=[Iff(A, B)], domain=Boolean)"
   ]
  },
  {
   "cell_type": "code",
   "execution_count": 46,
   "metadata": {},
   "outputs": [
    {
     "data": {
      "text/html": [
       "<strong id=\"eq_from_mutual_impl\"><a class=\"ProveItLink\" href=\"proofs/eq_from_mutual_impl/thm_proof.ipynb\">eq_from_mutual_impl</a> (conjecture with conjecture-based proof):<br></strong> <a class=\"ProveItLink\" href=\"../__pv_it/theorems/07a08a70dfd2838dc22520d3e64efd00ac4a6e300/theorem_expr.ipynb\"><img src=\"data:image/png;base64,iVBORw0KGgoAAAANSUhEUgAAAQEAAAAXBAMAAAD5Ouf8AAAAMFBMVEX///8AAAAAAAAAAAAAAAAA\n",
       "AAAAAAAAAAAAAAAAAAAAAAAAAAAAAAAAAAAAAAAAAAAv3aB7AAAAD3RSTlMAq1RmmUTNIjK7EInv\n",
       "3XZ/CtNrAAAACXBIWXMAAA7EAAAOxAGVKw4bAAADEklEQVRIx71WTUhUURT+5r1x5vWeTQlhRYQD\n",
       "bWrVW0jQolLSSFo00EYkyqAINcpqFZVO4KZNiWDwKnJo0S4Yqo26qGyR0Q8uXLRIGJKIIEpLzJKy\n",
       "c899/08dW7wuXN/xnO/c+91zzj13gFhHuoy9E3GP95JH61L2IzTXCmFLTASUIn9SUxHLzoWqqrY8\n",
       "MibQKP4/GRODe/KzPcoAL4DEHNAOXBFR6o2JwV75qf8RLZA/QMUMUEsRKgBGNiYGT/ivcXEuYlFJ\n",
       "pRKLygJUykQqrjKQFdiV+RYxJSgxqec0afvXExMvY2KQlIVYp3yPmCp7oW/OU3zoJuwHbrKysORK\n",
       "dY5QWNnODkwckNKd1eaZzwQPvny4fudLtbCqFKazSLNSH2XT1ZnhpryMYcfxcVkgTqHaEASBnkcY\n",
       "tprdk0hPR0h+7YTyTGxCpbKqYOS4XmSy1DFkSHttYz9KxXNbAwwMfz5toE9AGFbJC39qqP8ZYXCb\n",
       "5mPirVE9KCVZiM1vZInUQZ1CknJDDIy7AQY2RDE9oF9wGpsNsxnoJeB3hIGIyh6yVAjurbtZVzom\n",
       "vbK4b2KSNcXzQwEGNgTrPaBfQKIzAJNZSNJ8F64DTdRmDRFUxkh40C50Gexjr+7J2g3Qec9Sw6u8\n",
       "n4GAGBaNU3kH6HpgkPQ3Rv0rUYLpkDhE80w4BBnqUdqsSKFY+xKzasZntu2Cvg4VpoxBzwc/AwcC\n",
       "PMrZQNfDroDGAExctbQI80D4DUyR9nC7c2ETfNADwzV8iWix7pzaZll9og4MPwMHQvdnyAa6Hnav\n",
       "3VTww7Qx6AOzBWxb6Aj1o4Hpquo+TlTODQstw0xGgKN5rShjYGR8DBjCWbCKDtD14CxYt/wr0Xhb\n",
       "tnVcdiXK1pqsXkT6F/Rxu0cRg2s+Bgxh6aE4LgM9D466GYDxu7Oyt4vS8RT6wRPaCHbMDzeR/wU6\n",
       "hXK6wzI9BhLCwRU9UgI9DzF6AjBRiuV+A0VeZcVta4NWv6cOwfTFPBZt2nq5Zz9CsWVx3DLrtCy/\n",
       "Q1cZBh/DCvOfGZj4LyPWX7R/AUFI7Sz2VJ1YAAAAAElFTkSuQmCC\n",
       "\" style=\"display:inline;vertical-align:middle;\" /></a><br>"
      ],
      "text/plain": [
       "<IPython.core.display.HTML object>"
      ]
     },
     "metadata": {},
     "output_type": "display_data"
    }
   ],
   "source": [
    "eq_from_mutual_impl = Forall((A, B), Equals(A, B), conditions=[Implies(A, B), Implies(B, A)], domain=Boolean)"
   ]
  },
  {
   "cell_type": "code",
   "execution_count": 47,
   "metadata": {},
   "outputs": [
    {
     "data": {
      "text/html": [
       "<strong id=\"implication_closure\"><a class=\"ProveItLink\" href=\"proofs/implication_closure/thm_proof.ipynb\">implication_closure</a> (conjecture with conjecture-based proof):<br></strong> <a class=\"ProveItLink\" href=\"../__pv_it/theorems/51b769d88aeae04ad7b371773fa6f8dd8627cd0c0/theorem_expr.ipynb\"><img src=\"data:image/png;base64,iVBORw0KGgoAAAANSUhEUgAAANEAAAAWBAMAAACs+WTQAAAAMFBMVEX///8AAAAAAAAAAAAAAAAA\n",
       "AAAAAAAAAAAAAAAAAAAAAAAAAAAAAAAAAAAAAAAAAAAv3aB7AAAAD3RSTlMAq1RmmUTNIjK7EInv\n",
       "3XZ/CtNrAAAACXBIWXMAAA7EAAAOxAGVKw4bAAADPklEQVRIx7VVXUhUQRQ+u6ve9a5eEyqKHrwU\n",
       "CIHVPpgQUa1lkdjPhSAkozYjIhXaCISodHuMAheicoNwfQkigq2HqHwpobDC2gcTH1xYE4rs1zLL\n",
       "pOybn717d931+tKBj3tm7pn55nxzZoZonqZI2EdlswDN395IYDZ/7qj8RHpbG74y2b+I6AD8Baxj\n",
       "hS2RMyoAK/ia5b+ra7x0cSfRaEZ/YX6itdsgzUu0lbWP2jLdkICtycZERSGisiAVRDKZvJ4AfjUR\n",
       "nWN6hGyZtkjAqn9mC2iHbgd95PLNYnLp0K2S+CI8ui3TIwkEn/6V6r5mepuCANiei+b7eNxvMsEr\n",
       "ipALChbYb5NfANamfUv1nze9MqAFJXaYt/aOpXJynMT+FoCmPx5/YcuUFxWA+ZzfLYUQTXrPiLqH\n",
       "8L3Dy7Mppd7Yp2VMCSi4PalBZA4mtiQG1LHunubccW4TMsA99XmEp1PFwwMppsFXA5jZBUFOkMIr\n",
       "Xe0Tekz01AZFVPm9nZvlgGJdAAykjFtlbZQHB2VSwZZSwZmsFaGtRYZObHJhxGPwnRbyu2Kkodc9\n",
       "EjY0j7JckhYZAtjqmuqptPJ/ImbEGA8rlQ7WusjSDUkmCjVgPhwNZ0KsoP4l/zhQqeitAYXmoYd6\n",
       "BpOK8vpjvX6ahVAl0MX1F85+1rppzYlChRCdFa5/I+9LHBJz6nTby880mJT1kQz18oBhyz4Nyh3p\n",
       "wADHDzireHg6E1JxxtC4ywtFo23iBI5WLpGL0vJ29CUHJARoD3Dccs8lz/wXMHawY7COj0ykMa1G\n",
       "vizwDC+IevrIf20gdaGYEDm5dxliACtSBoWJ0JW6mVuTTgtYnzIB6nizMcUU9XzwySPi4Lte11PG\n",
       "lQJNu0FV4XBYxz5F5XlxxzjUrskIrZxpNpk65XfpTGnpMb6nr3m7+7KQXWsJ87ucig3zegcBZ+zF\n",
       "9RWkCyIniiZlGJKwe3eUmPg2XI+nPS5nTQ9ylehqlJTfpA6w0hdM95NMlRK2l4k39w0tAh6TuvuI\n",
       "u5eqpntqoYLCZCl/++CSqXdAwM5O5XiLM18Lp+ndCocN6x81JGBnV7N3z1rkvtxTtEnMbVqOtN9l\n",
       "dnjp/9k/hzHUKP52HnUAAAAASUVORK5CYII=\n",
       "\" style=\"display:inline;vertical-align:middle;\" /></a><br>"
      ],
      "text/plain": [
       "<IPython.core.display.HTML object>"
      ]
     },
     "metadata": {},
     "output_type": "display_data"
    }
   ],
   "source": [
    "implication_closure = Forall((A, B), in_bool(Implies(A, B)), domain=Boolean)"
   ]
  },
  {
   "cell_type": "code",
   "execution_count": 48,
   "metadata": {},
   "outputs": [
    {
     "data": {
      "text/html": [
       "<strong id=\"iff_closure\"><a class=\"ProveItLink\" href=\"proofs/iff_closure/thm_proof.ipynb\">iff_closure</a> (conjecture with conjecture-based proof):<br></strong> <a class=\"ProveItLink\" href=\"../__pv_it/theorems/71ac7a846feb950fb5708cd86d98373c1443af7d0/theorem_expr.ipynb\"><img src=\"data:image/png;base64,iVBORw0KGgoAAAANSUhEUgAAANEAAAAWBAMAAACs+WTQAAAAMFBMVEX///8AAAAAAAAAAAAAAAAA\n",
       "AAAAAAAAAAAAAAAAAAAAAAAAAAAAAAAAAAAAAAAAAAAv3aB7AAAAD3RSTlMAq1RmmUTNIjK7EInv\n",
       "3XZ/CtNrAAAACXBIWXMAAA7EAAAOxAGVKw4bAAADWElEQVRIx7VVXUgUURQ+u6M764yOLlQUPjgU\n",
       "CIHVPmxCRLWWRmI/A0FIRm1FRCa0EQhR6fYoBS5E5Qbh+hJEBVsPUfmSPoT9WPtg4YMLa0KR/dqP\n",
       "ZVJ27j139mfcdXzpwMfce+bc+93znTN3AOZpsoB9VC4LwvzttQDuFsgfVZjMnmsjlyYHFwLsxXEZ\n",
       "cyyzJXLGCGiuLzneS90TnkVdAGMWf1FhsrXHAM0LUMfmh22ZrgmgrcrFBMVhgIoQuKJWJq8axFfN\n",
       "AGeZHmFbpk0CaDU/cwW0o277/CD5ZzFJOurmA34IVbdleiiAwad+CR/Wy11mBmwIIZDtCU3fJRKB\n",
       "FBOOiqMgoYIu+zIFCGht2ldRbVwJXWZEBaIFW+wgn+0aT+fkOIH1dWHwYCLx1JapIEZA8zu/ka+D\n",
       "18+sy2OAnmF83ubt2ZxWb/xjOVMCk98CcIU7o3MwsSMxYB/r7mnucj9LoI2IPd1Tn0Z5OtU8PJhm\n",
       "evViCHeWUJDjIHOxlQE66ffe+hBFVd7dtlEsKNEJmBnIE1QJOlkH1VjDNqliR6niTJkdoa3G0zix\n",
       "yEVR1eCVJvmlOGjodY9GDE2VlwrSYoOABLU1U+x5U/SC0kc74hqVtUonm51n6YYFE4SbcD/8NJxJ\n",
       "OkHjc/5wYKeitxYpNBUe6BYmBdvrDy9FOb1ppeqVIrH0Fwd72Ox6Zk4QLkLRWeMG1nNfcj/tqcMt\n",
       "L/UV5rQ2alGvADFCySe4DVNAJy5w/MDBCh6ezYSpOOM4ucOLqsFm+gLHfIvFobSCrQPmgiQBdiKO\n",
       "kc+XWfvP+Oxkn8EavjKZxbQSz8W0PM0Vb4QP/NU6UBbQhpiTe7tBC1iTMshMhG7a3cHe1YkdW1Cg\n",
       "R0yABj49kGaKqe/94hNx8Ko39FZwpZCm3YDqSCSiY51iMdHEcQ6lezIKy2eOUi8E0vfYkhmP5wiv\n",
       "6Us+77lIsmstEX6XQ4mRut6RgDP24/UVgnOUE8RMGYYFrD8d60cox+nZdDWR9XM5kxqhXKW6EgP5\n",
       "NyhDrPWJ6Z7J5DMLY3eZePPf0BTQB8qOQ+5+qJ7urUcVZHafVb65fyGld5BgZyfz/IutfwtnanQj\n",
       "EjEy3yhhgp1dzu2edcjd+bdoE5jbtDxpv7U6vPD/7B/dStf2UkMBnwAAAABJRU5ErkJggg==\n",
       "\" style=\"display:inline;vertical-align:middle;\" /></a><br>"
      ],
      "text/plain": [
       "<IPython.core.display.HTML object>"
      ]
     },
     "metadata": {},
     "output_type": "display_data"
    }
   ],
   "source": [
    "iff_closure = Forall((A, B), in_bool(Iff(A, B)), domain=Boolean)"
   ]
  },
  {
   "cell_type": "code",
   "execution_count": 49,
   "metadata": {},
   "outputs": [
    {
     "name": "stdout",
     "output_type": "stream",
     "text": [
      "These theorems may now be imported from the theory package: proveit.logic.booleans.implication\n"
     ]
    }
   ],
   "source": [
    "%end theorems"
   ]
  },
  {
   "cell_type": "code",
   "execution_count": null,
   "metadata": {},
   "outputs": [],
   "source": []
  }
 ],
 "metadata": {
  "kernelspec": {
   "display_name": "Python 3",
   "language": "python",
   "name": "python3"
  }
 },
 "nbformat": 4,
 "nbformat_minor": 0
}