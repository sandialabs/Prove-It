{
 "cells": [
  {
   "cell_type": "code",
   "execution_count": null,
   "id": "4efc48b0",
   "metadata": {},
   "outputs": [],
   "source": [
    "import proveit\n",
    "from proveit import A, B\n",
    "from proveit import defaults\n",
    "from proveit.logic import Implies\n",
    "from proveit.logic.booleans.conjunction import and_t_t, left_from_and\n",
    "from proveit import Database\n",
    "\n",
    "import sqlite3\n",
    "\n",
    "%begin testing"
   ]
  },
  {
   "cell_type": "markdown",
   "id": "7ebef9d8",
   "metadata": {},
   "source": [
    "### _Modus Ponens_"
   ]
  },
  {
   "cell_type": "markdown",
   "id": "4db20489",
   "metadata": {},
   "source": [
    "Some quick and simple testing involving the most basic _modus ponens_ judgment."
   ]
  },
  {
   "cell_type": "code",
   "execution_count": null,
   "id": "112872a9",
   "metadata": {},
   "outputs": [],
   "source": [
    "temp_result = B.prove(assumptions=[Implies(A, B), A])"
   ]
  },
  {
   "cell_type": "code",
   "execution_count": null,
   "id": "5ff4502c",
   "metadata": {},
   "outputs": [],
   "source": [
    "temp_result"
   ]
  },
  {
   "cell_type": "code",
   "execution_count": null,
   "id": "403a7b97",
   "metadata": {},
   "outputs": [],
   "source": [
    "temp_result.string()"
   ]
  },
  {
   "cell_type": "code",
   "execution_count": null,
   "id": "796d2d92",
   "metadata": {},
   "outputs": [],
   "source": [
    "temp_result.assumptions[0].string()"
   ]
  },
  {
   "cell_type": "markdown",
   "id": "695c4c4c",
   "metadata": {},
   "source": [
    "### Subsets"
   ]
  },
  {
   "cell_type": "markdown",
   "id": "8ced89a1",
   "metadata": {},
   "source": [
    "Some review about lists as “subsets” of other lists …"
   ]
  },
  {
   "cell_type": "code",
   "execution_count": null,
   "id": "91d22ac9",
   "metadata": {},
   "outputs": [],
   "source": [
    "list_01, list_02, list_03, list_04 = (\n",
    "    [Implies(A, B), A], [Implies(A, B)], [A], [B])\n"
   ]
  },
  {
   "cell_type": "markdown",
   "id": "7de856e3",
   "metadata": {},
   "source": [
    "For “comparable” list items, we can utilize `<` and `<=`:"
   ]
  },
  {
   "cell_type": "code",
   "execution_count": null,
   "id": "b957870a",
   "metadata": {},
   "outputs": [],
   "source": [
    "list_02 < list_01"
   ]
  },
  {
   "cell_type": "markdown",
   "id": "2f7a9c1b",
   "metadata": {},
   "source": [
    "But our situation is more complicated:"
   ]
  },
  {
   "cell_type": "code",
   "execution_count": null,
   "id": "354e03c7",
   "metadata": {},
   "outputs": [],
   "source": [
    "try:\n",
    "    list_03 < list_01\n",
    "except TypeError as te:\n",
    "    print(\"Type Error: {}\".format(te))"
   ]
  },
  {
   "cell_type": "markdown",
   "id": "05eac8a6",
   "metadata": {},
   "source": [
    "So we can convert to set and use issubset(), which should work for us since any repeated list elements can be safely eliminated anyway:"
   ]
  },
  {
   "cell_type": "code",
   "execution_count": null,
   "id": "65cad4ad",
   "metadata": {},
   "outputs": [],
   "source": [
    "set(list_02).issubset(list_01)"
   ]
  },
  {
   "cell_type": "code",
   "execution_count": null,
   "id": "651ed9c3",
   "metadata": {},
   "outputs": [],
   "source": [
    "set(list_03).issubset(list_01)"
   ]
  },
  {
   "cell_type": "code",
   "execution_count": null,
   "id": "b3b90519",
   "metadata": {},
   "outputs": [],
   "source": [
    "set(list_04).issubset(list_01)"
   ]
  },
  {
   "cell_type": "markdown",
   "id": "bc2d24db",
   "metadata": {},
   "source": [
    "### sqlite Database Investigations"
   ]
  },
  {
   "cell_type": "markdown",
   "id": "5cd3ef7d",
   "metadata": {},
   "source": [
    "We begin by creating a database (db) and then a table within that db (later we create a separate file of database functions to simplify this process):"
   ]
  },
  {
   "cell_type": "code",
   "execution_count": null,
   "id": "a8649d85",
   "metadata": {},
   "outputs": [],
   "source": [
    "# conn = sqlite3.connect(':memory:') # for temp db in memory\n",
    "\n",
    "# connect to (or create) the database\n",
    "conn = sqlite3.connect('testdb.db')\n",
    "\n",
    "# create a cursor\n",
    "c = conn.cursor()\n",
    "\n",
    "# create a table (deleting it first if it already exists)\n",
    "c.execute(\"DROP TABLE IF EXISTS customers\")\n",
    "c.execute(\"\"\"CREATE TABLE customers (\n",
    "    first_name text,\n",
    "    last_name  text,\n",
    "    email      text,\n",
    "    age        INTEGER\n",
    "    )\"\"\")\n",
    "\n",
    "print(\"Command executed without error!\")\n",
    "\n",
    "# only five data types!\n",
    "# NULL\n",
    "# INTEGER\n",
    "# REAL\n",
    "# TEXT\n",
    "# BLOB\n",
    "\n",
    "# Commit our command\n",
    "conn.commit()\n",
    "\n",
    "# Close our connection\n",
    "conn.close()\n"
   ]
  },
  {
   "cell_type": "markdown",
   "id": "2d894eb0",
   "metadata": {},
   "source": [
    "Now we can put things into the table:"
   ]
  },
  {
   "cell_type": "code",
   "execution_count": null,
   "id": "2499ef7b",
   "metadata": {},
   "outputs": [],
   "source": [
    "# connect to (or create) the database\n",
    "conn = sqlite3.connect('testdb.db')\n",
    "\n",
    "# create a cursor\n",
    "c = conn.cursor()\n",
    "\n",
    "# Put data into the table\n",
    "c.execute(\"\"\"INSERT INTO customers VALUES('John', \"Elder\", 'john@codemy.com', 32)\"\"\")\n",
    "\n",
    "print(\"Command executed without error!\")\n",
    "\n",
    "# Commit our command\n",
    "conn.commit()\n",
    "\n",
    "# Close our connection\n",
    "conn.close()"
   ]
  },
  {
   "cell_type": "code",
   "execution_count": null,
   "id": "be1b8739",
   "metadata": {},
   "outputs": [],
   "source": [
    "# connect to (or create) the database\n",
    "conn = sqlite3.connect('testdb.db')\n",
    "\n",
    "# create a cursor\n",
    "c = conn.cursor()\n",
    "\n",
    "# Put data into the table\n",
    "c.execute(\"\"\"INSERT INTO customers VALUES('Mary', \"Brown\", 'mary@codemy.com', 33)\"\"\")\n",
    "\n",
    "print(\"Command executed without error!\")\n",
    "\n",
    "# Commit our command\n",
    "conn.commit()\n",
    "\n",
    "# Close our connection\n",
    "conn.close()"
   ]
  },
  {
   "cell_type": "code",
   "execution_count": null,
   "id": "825ff0d0",
   "metadata": {},
   "outputs": [],
   "source": [
    "# connect to (or create) the database\n",
    "conn = sqlite3.connect('testdb.db')\n",
    "\n",
    "# create a cursor\n",
    "c = conn.cursor()\n",
    "\n",
    "# Put data into the table\n",
    "c.execute(\"INSERT INTO customers VALUES('Hoss', 'BooBoo', 'hoss@codemy.com', 55)\")\n",
    "\n",
    "print(\"Command executed without error!\")\n",
    "\n",
    "# Commit our command\n",
    "conn.commit()\n",
    "\n",
    "# Close our connection\n",
    "conn.close()"
   ]
  },
  {
   "cell_type": "markdown",
   "id": "040b98b4",
   "metadata": {},
   "source": [
    "Inserting more than one row/record at a time:"
   ]
  },
  {
   "cell_type": "code",
   "execution_count": null,
   "id": "50f03198",
   "metadata": {},
   "outputs": [],
   "source": [
    "# connect to (or create) the database\n",
    "conn = sqlite3.connect('testdb.db')\n",
    "\n",
    "# create a cursor\n",
    "c = conn.cursor()\n",
    "\n",
    "many_customers = [\n",
    "    ('Wes', 'Brown', 'wes@brown.com', 21),\n",
    "    ('Steph', 'Kuewa', 'steph@kuewa.com', 73),\n",
    "    ('Dan', 'Pas', 'dan@pas.com', 14),\n",
    "]\n",
    "\n",
    "# Put data into the table\n",
    "c.executemany(\"INSERT INTO customers VALUES (?, ?, ?, ?)\", many_customers)\n",
    "\n",
    "print(\"Command executed without error!\")\n",
    "\n",
    "# Commit our command\n",
    "conn.commit()\n",
    "\n",
    "# Close our connection\n",
    "conn.close()"
   ]
  },
  {
   "cell_type": "markdown",
   "id": "6b6b21e4",
   "metadata": {},
   "source": [
    "Insert a single record at a time, utilizing a dictionary approach, which might relieve us of having to remember the exact order or attributes … This is worth considering when trying to generalize some of our Database functions. Apparently we're ok if the tuple () of attribute names appears in the same order as the attribute values themselves.\n",
    "\n",
    "For the executemany() approach, we would then need to have each dictionary provide info in the same order, OR we could use an execute() in a loop through a list of dictionaries."
   ]
  },
  {
   "cell_type": "code",
   "execution_count": null,
   "id": "af7648a4",
   "metadata": {},
   "outputs": [],
   "source": [
    "# connect to (or create) the database\n",
    "conn = sqlite3.connect('testdb.db')\n",
    "\n",
    "# create a cursor\n",
    "c = conn.cursor()\n",
    "\n",
    "many_customers = [\n",
    "    ('Wes', 'Brown', 'wes@brown.com', 21),\n",
    "    ('Steph', 'Kuewa', 'steph@kuewa.com', 73),\n",
    "    ('Dan', 'Pas', 'dan@pas.com', 14),\n",
    "]\n",
    "\n",
    "new_customer_dict = {'email': 'myemail@com.com', 'first_name': 'Bobby', 'age': 17, 'last_name': 'Smith'}\n",
    "\n",
    "# Put data into the table\n",
    "c.execute(\"INSERT INTO customers \" +\n",
    "              str(tuple(new_customer_dict.keys())) +\n",
    "              \" VALUES\" +\n",
    "              str(tuple(new_customer_dict.values())))\n",
    "\n",
    "print(\"Command executed without error!\")\n",
    "\n",
    "# Commit our command\n",
    "conn.commit()\n",
    "\n",
    "# Close our connection\n",
    "conn.close()"
   ]
  },
  {
   "cell_type": "markdown",
   "id": "466a0b68",
   "metadata": {},
   "source": [
    "Querying our database!"
   ]
  },
  {
   "cell_type": "code",
   "execution_count": null,
   "id": "e03d9fb5",
   "metadata": {},
   "outputs": [],
   "source": [
    "# connect to (or create) the database\n",
    "conn = sqlite3.connect('testdb.db')\n",
    "\n",
    "# create a cursor\n",
    "c = conn.cursor()\n",
    "\n",
    "# query our database\n",
    "c.execute(\"SELECT * FROM customers\")\n",
    "# c.fetchone()\n",
    "# c.fetchmany(3)\n",
    "print(c.fetchall()) # returned as Python list (of tuples)\n",
    "\n",
    "print(\"Command executed without error!\")\n",
    "\n",
    "# Commit our command\n",
    "conn.commit()\n",
    "\n",
    "# Close our connection\n",
    "conn.close()"
   ]
  },
  {
   "cell_type": "code",
   "execution_count": null,
   "id": "2c796a1d",
   "metadata": {},
   "outputs": [],
   "source": [
    "# connect to (or create) the database\n",
    "conn = sqlite3.connect('testdb.db')\n",
    "\n",
    "# create a cursor\n",
    "c = conn.cursor()\n",
    "\n",
    "# query our database\n",
    "c.execute(\"SELECT * FROM customers\")\n",
    "# print(c.fetchone()) # returns first tuple\n",
    "# print(c.fetchone()[0]) # returns tuple item at index 0\n",
    "# print(c.fetchmany(3))\n",
    "# print(c.fetchall()) # returned as Python list (of tuples)\n",
    "\n",
    "items = c.fetchall()\n",
    "print(\"NAME \\t\\tEMAIL\")\n",
    "for item in items:\n",
    "    print(item[0] + \"\\t\" + item[1] + \"\\t\" + item[2])\n",
    "\n",
    "# Commit our command\n",
    "conn.commit()\n",
    "\n",
    "# Close our connection\n",
    "conn.close()"
   ]
  },
  {
   "cell_type": "markdown",
   "id": "1a17a5e9",
   "metadata": {},
   "source": [
    "Primary Key Issues: a unique rowid is created for us when inserting data into a table:"
   ]
  },
  {
   "cell_type": "code",
   "execution_count": null,
   "id": "37d52825",
   "metadata": {},
   "outputs": [],
   "source": [
    "# connect to (or create) the database\n",
    "conn = sqlite3.connect('testdb.db')\n",
    "\n",
    "# create a cursor\n",
    "c = conn.cursor()\n",
    "\n",
    "# query our database\n",
    "c.execute(\"SELECT rowid, * FROM customers\")\n",
    "\n",
    "items = c.fetchall()\n",
    "for item in items:\n",
    "    print(item)\n",
    "\n",
    "# Commit our command\n",
    "conn.commit()\n",
    "\n",
    "# Close our connection\n",
    "conn.close()"
   ]
  },
  {
   "cell_type": "markdown",
   "id": "96c30d85",
   "metadata": {},
   "source": [
    "WHERE clause, and LIKE operator"
   ]
  },
  {
   "cell_type": "code",
   "execution_count": null,
   "id": "6fe8a558",
   "metadata": {},
   "outputs": [],
   "source": [
    "# connect to (or create) the database\n",
    "conn = sqlite3.connect('testdb.db')\n",
    "\n",
    "# create a cursor\n",
    "c = conn.cursor()\n",
    "\n",
    "# query our database\n",
    "# c.execute(\"SELECT * FROM customers WHERE last_name = 'Brown'\")\n",
    "c.execute(\"SELECT * FROM customers WHERE email LIKE '%codemy.com'\")\n",
    "\n",
    "items = c.fetchall()\n",
    "for item in items:\n",
    "    print(item)\n",
    "\n",
    "# Commit our command\n",
    "conn.commit()\n",
    "\n",
    "# Close our connection\n",
    "conn.close()"
   ]
  },
  {
   "cell_type": "code",
   "execution_count": null,
   "id": "5a594f5d",
   "metadata": {},
   "outputs": [],
   "source": [
    "# connect to (or create) the database\n",
    "conn = sqlite3.connect('testdb.db')\n",
    "\n",
    "# create a cursor\n",
    "c = conn.cursor()\n",
    "\n",
    "# query our database\n",
    "c.execute(\"SELECT * FROM customers WHERE (last_name = 'Brown')\")\n",
    "# c.execute(\"SELECT * FROM customers WHERE email LIKE '%codemy.com'\")\n",
    "\n",
    "items = c.fetchall()\n",
    "for item in items:\n",
    "    print(item)\n",
    "\n",
    "# Commit our command\n",
    "conn.commit()\n",
    "\n",
    "# Close our connection\n",
    "conn.close()"
   ]
  },
  {
   "cell_type": "markdown",
   "id": "79487066",
   "metadata": {},
   "source": [
    "UPDATING RECORDS"
   ]
  },
  {
   "cell_type": "code",
   "execution_count": null,
   "id": "23b68bb3",
   "metadata": {},
   "outputs": [],
   "source": [
    "# connect to (or create) the database\n",
    "conn = sqlite3.connect('testdb.db')\n",
    "\n",
    "# create a cursor\n",
    "c = conn.cursor()\n",
    "\n",
    "# update records\n",
    "c.execute(\"\"\"UPDATE customers SET first_name = 'Bob'\n",
    "             WHERE last_name = 'Elder'\n",
    "          \"\"\")\n",
    "\n",
    "c.execute(\"\"\"UPDATE customers SET first_name = 'Robert'\n",
    "             WHERE rowid = 3\n",
    "          \"\"\")\n",
    "\n",
    "c.execute(\"\"\"UPDATE customers SET first_name = 'Marty'\n",
    "             WHERE rowid = 2\n",
    "          \"\"\")\n",
    "\n",
    "# Commit our command\n",
    "conn.commit()\n",
    "\n",
    "c.execute(\"SELECT rowid, * FROM customers\")\n",
    "items = c.fetchall()\n",
    "for item in items:\n",
    "    print(item)\n",
    "\n",
    "# Close our connection\n",
    "conn.close()"
   ]
  },
  {
   "cell_type": "markdown",
   "id": "17c32a74",
   "metadata": {},
   "source": [
    "DELETING RECORDS"
   ]
  },
  {
   "cell_type": "code",
   "execution_count": null,
   "id": "3bb7aab2",
   "metadata": {},
   "outputs": [],
   "source": [
    "# connect to (or create) the database\n",
    "conn = sqlite3.connect('testdb.db')\n",
    "\n",
    "# create a cursor\n",
    "c = conn.cursor()\n",
    "\n",
    "# delete record(s); notice a single DELETE can delete\n",
    "# multiple records satisfying the criterion\n",
    "# c.execute(\"DELETE from customers WHERE rowid = 6\")\n",
    "c.execute(\"DELETE from customers WHERE last_name = 'Brown'\")\n",
    "\n",
    "# Commit our command\n",
    "conn.commit()\n",
    "\n",
    "c.execute(\"SELECT rowid, * FROM customers\")\n",
    "items = c.fetchall()\n",
    "for item in items:\n",
    "    print(item)\n",
    "\n",
    "# Close our connection\n",
    "conn.close()"
   ]
  },
  {
   "cell_type": "code",
   "execution_count": null,
   "id": "fc92738a",
   "metadata": {},
   "outputs": [],
   "source": [
    "# Then let's put those records back for later testing.\n",
    "# connect to (or create) the database\n",
    "conn = sqlite3.connect('testdb.db')\n",
    "\n",
    "# create a cursor\n",
    "c = conn.cursor()\n",
    "\n",
    "many_customers = [\n",
    "    ('Wes', 'Brown', 'wes@brown.com', 23),\n",
    "    ('Marty', 'Brown', 'mary@codemy.com', 64),\n",
    "]\n",
    "\n",
    "# Put data into the table\n",
    "c.executemany(\"INSERT INTO customers VALUES (?, ?, ?, ?)\", many_customers)\n",
    "\n",
    "print(\"Command executed without error!\")\n",
    "c.execute(\"SELECT rowid, * FROM customers\")\n",
    "items = c.fetchall()\n",
    "for item in items:\n",
    "    print(item)\n",
    "\n",
    "# Commit our command\n",
    "conn.commit()\n",
    "\n",
    "# Close our connection\n",
    "conn.close()"
   ]
  },
  {
   "cell_type": "markdown",
   "id": "8aae1bc0",
   "metadata": {},
   "source": [
    "ORDER BY"
   ]
  },
  {
   "cell_type": "code",
   "execution_count": null,
   "id": "62d2b9a2",
   "metadata": {},
   "outputs": [],
   "source": [
    "# connect to (or create) the database\n",
    "conn = sqlite3.connect('testdb.db')\n",
    "\n",
    "# create a cursor\n",
    "c = conn.cursor()\n",
    "\n",
    "# Query the DB - ORDER BY\n",
    "c.execute(\"SELECT rowid, * FROM customers ORDER BY last_name\")\n",
    "# can also add ASC vs DESC\n",
    "items = c.fetchall()\n",
    "for item in items:\n",
    "    print(item)\n",
    "\n",
    "# Close our connection\n",
    "conn.close()"
   ]
  },
  {
   "cell_type": "markdown",
   "id": "64aa7c48",
   "metadata": {},
   "source": [
    "AND/OR in the WHERE clause"
   ]
  },
  {
   "cell_type": "code",
   "execution_count": null,
   "id": "94361eac",
   "metadata": {},
   "outputs": [],
   "source": [
    "# connect to (or create) the database\n",
    "conn = sqlite3.connect('testdb.db')\n",
    "\n",
    "# create a cursor\n",
    "c = conn.cursor()\n",
    "\n",
    "# Query the DB - ORDER BY\n",
    "c.execute(\"\"\"\n",
    "SELECT rowid, *\n",
    "FROM customers\n",
    "WHERE last_name LIKE 'Br%' AND first_name LIKE 'M%'\n",
    "\"\"\")\n",
    "# can also add ASC vs DESC\n",
    "items = c.fetchall()\n",
    "for item in items:\n",
    "    print(item)\n",
    "\n",
    "# Close our connection\n",
    "conn.close()"
   ]
  },
  {
   "cell_type": "markdown",
   "id": "edd14de5",
   "metadata": {},
   "source": [
    "LIMIT"
   ]
  },
  {
   "cell_type": "code",
   "execution_count": null,
   "id": "b8334c74",
   "metadata": {},
   "outputs": [],
   "source": [
    "# connect to (or create) the database\n",
    "conn = sqlite3.connect('testdb.db')\n",
    "\n",
    "# create a cursor\n",
    "c = conn.cursor()\n",
    "\n",
    "# Query the DB - ORDER BY\n",
    "c.execute(\"\"\"\n",
    "SELECT rowid, *\n",
    "FROM customers\n",
    "WHERE (last_name     LIKE 'Br%'\n",
    "       OR first_name LIKE 'M%'\n",
    "       OR email      LIKE '%.com')\n",
    "ORDER BY email\n",
    "LIMIT 3\n",
    "\"\"\")\n",
    "# can also add ASC vs DESC\n",
    "items = c.fetchall()\n",
    "for item in items:\n",
    "    print(item)\n",
    "\n",
    "# Close our connection\n",
    "conn.close()"
   ]
  },
  {
   "cell_type": "markdown",
   "id": "65260faf",
   "metadata": {},
   "source": [
    "DELETING (DROPPING) AN ENTIRE TABLE\n",
    "\n",
    "… along with some testing of try/except blocks with sqlite."
   ]
  },
  {
   "cell_type": "code",
   "execution_count": null,
   "id": "75d7f872",
   "metadata": {},
   "outputs": [],
   "source": [
    "# connect to (or create) the database\n",
    "conn = sqlite3.connect('testdb.db')\n",
    "\n",
    "# create a cursor\n",
    "c = conn.cursor()\n",
    "\n",
    "# Drop Table\n",
    "try:\n",
    "    c.execute(\"\"\"DROP TABLE customers\"\"\")\n",
    "except Exception as the_exception:\n",
    "    print(\"DROP Exception: {}\".format(the_exception))\n",
    "\n",
    "conn.commit\n",
    "\n",
    "try:\n",
    "    c.execute(\"\"\"SELECT rowid, * FROM customers\"\"\")\n",
    "    print(\"Shouldn't get this far!\")\n",
    "    items = c.fetchall()\n",
    "    for item in items:\n",
    "        print(item)\n",
    "except Exception as the_exception:\n",
    "    print(\"SELECT Exception: {}\".format(the_exception))\n",
    "\n",
    "# Close our connection\n",
    "conn.close()"
   ]
  },
  {
   "cell_type": "markdown",
   "id": "11d8dc15",
   "metadata": {},
   "source": [
    "Recreate the little database:"
   ]
  },
  {
   "cell_type": "code",
   "execution_count": null,
   "id": "ae54ec78",
   "metadata": {},
   "outputs": [],
   "source": [
    "# connect to (or create) the database\n",
    "conn = sqlite3.connect('testdb.db')\n",
    "\n",
    "# create a cursor\n",
    "c = conn.cursor()\n",
    "\n",
    "# create a table (deleting it first if it already exists)\n",
    "c.execute(\"DROP TABLE IF EXISTS customers\")\n",
    "c.execute(\"\"\"CREATE TABLE customers (\n",
    "    first_name text,\n",
    "    last_name  text,\n",
    "    email      text,\n",
    "    age         INTEGER\n",
    "    )\"\"\")\n",
    "\n",
    "# create another table (deleting it first if it already exists)\n",
    "c.execute(\"DROP TABLE IF EXISTS product\")\n",
    "c.execute(\"\"\"CREATE TABLE product (\n",
    "    name        text,\n",
    "    price       text,\n",
    "    description text\n",
    "    )\"\"\")\n",
    "\n",
    "many_customers = [\n",
    "    ('Wes', 'Brown', 'wes@brown.com', 32),\n",
    "    ('Steph', 'Kuewa', 'steph@kuewa.com', 15),\n",
    "    ('Dan', 'Pasta', 'dan@pasta.com', 64),\n",
    "    ('Robert', 'Jones', 'rcj@bell.net', -4),\n",
    "    ('Steph', 'Killingham', 'skill@gmail.com', 23),\n",
    "    ('Herbert', 'Hoover', 'hh@gmail.com', 104),\n",
    "    ('Rupert', 'Luwowski', 'rupie@bellsouth.net', 35),\n",
    "    ('Lisa', 'Hartman', 'lsh@att.com', 43),\n",
    "]\n",
    "\n",
    "# Put data into the table\n",
    "c.executemany(\"INSERT INTO customers VALUES (?, ?, ?, ?)\", many_customers)\n",
    "\n",
    "# Commit our command\n",
    "conn.commit()\n",
    "\n",
    "# Close our connection\n",
    "conn.close()"
   ]
  },
  {
   "cell_type": "code",
   "execution_count": null,
   "id": "ed7f18c2",
   "metadata": {},
   "outputs": [],
   "source": [
    "# finding the number of columns in a table?\n",
    "# (i.e. obtaining the frequency count of attributes)\n",
    "\n",
    "# connect to (or create) the database\n",
    "conn = sqlite3.connect('testdb.db')\n",
    "# create a cursor\n",
    "c = conn.cursor()\n",
    "c.execute(\"SELECT count() FROM PRAGMA_TABLE_INFO('customers')\")\n",
    "num_attributes = c.fetchone()[0] # instead of using fetchall()\n",
    "print(\"num_attributes = {}\".format(num_attributes))\n",
    "# then use that number of attributes to construct the desired (?,...,?) substring?\n",
    "question_mark_tuple = '('\n",
    "for i in range(num_attributes-1):\n",
    "    question_mark_tuple = question_mark_tuple + '?,'\n",
    "question_mark_tuple = question_mark_tuple + '?)'\n",
    "print(\"question_mark_tuple = {}\".format(question_mark_tuple))\n",
    "conn.commit()\n",
    "conn.close()"
   ]
  },
  {
   "cell_type": "code",
   "execution_count": null,
   "id": "6b9d57ab",
   "metadata": {},
   "outputs": [],
   "source": [
    "# getting a list of all tables in a database?\n",
    "\n",
    "# connect to (or create) the database\n",
    "conn = sqlite3.connect('testdb.db')\n",
    "# create a cursor\n",
    "c = conn.cursor()\n",
    "c.execute(\"SELECT count() FROM PRAGMA_TABLE_INFO('customers')\")\n",
    "num_attributes = c.fetchone()[0] # instead of using fetchall()\n",
    "print(\"num_attributes = {}\".format(num_attributes))\n",
    "# then use that number of attributes to construct the desired (?,...,?) substring?\n",
    "question_mark_tuple = '('\n",
    "for i in range(num_attributes-1):\n",
    "    question_mark_tuple = question_mark_tuple + '?,'\n",
    "question_mark_tuple = question_mark_tuple + '?)'\n",
    "print(\"question_mark_tuple = {}\".format(question_mark_tuple))\n",
    "c.execute(\"SELECT name from sqlite_master where type='table'\")\n",
    "temp_list_of_tuples = c.fetchall()\n",
    "table_names = []\n",
    "for item in temp_list_of_tuples:\n",
    "    table_names.append(item[0])\n",
    "print(list(table_names))\n",
    "print('customers' in table_names)\n",
    "# find column names (i.e. attributes) for a particular table\n",
    "c.execute(\"SELECT name FROM PRAGMA_TABLE_INFO('customers')\");\n",
    "temp_list = c.fetchall()\n",
    "attribute_names = []\n",
    "for item in temp_list:\n",
    "    attribute_names.append(item[0])\n",
    "print(attribute_names)\n",
    "temp_attrib_name = \"last_name\"\n",
    "print(\"last_name is an actual attribute: {}\".format(temp_attrib_name in attribute_names))\n",
    "conn.commit()\n",
    "conn.close()"
   ]
  },
  {
   "cell_type": "markdown",
   "id": "73547a52",
   "metadata": {},
   "source": [
    "### Accessing lists of theorems?"
   ]
  },
  {
   "cell_type": "code",
   "execution_count": null,
   "id": "fe2b255e",
   "metadata": {},
   "outputs": [],
   "source": [
    "# get the \"Theory\" for the current working directory \n",
    "temp_theory = proveit.Theory()"
   ]
  },
  {
   "cell_type": "code",
   "execution_count": null,
   "id": "cd7e0d61",
   "metadata": {},
   "outputs": [],
   "source": [
    "type(temp_theory)"
   ]
  },
  {
   "cell_type": "code",
   "execution_count": null,
   "id": "be486c21",
   "metadata": {},
   "outputs": [],
   "source": [
    "# get the \"Theory\" for a specific working directory \n",
    "temp_theory_2 = proveit.Theory('../../../numbers') "
   ]
  },
  {
   "cell_type": "code",
   "execution_count": null,
   "id": "8ed0696b",
   "metadata": {},
   "outputs": [],
   "source": [
    "temp_theory.get_axiom_names()"
   ]
  },
  {
   "cell_type": "code",
   "execution_count": null,
   "id": "118975d7",
   "metadata": {},
   "outputs": [],
   "source": [
    "temp_theory_2.get_axiom_names()"
   ]
  },
  {
   "cell_type": "code",
   "execution_count": null,
   "id": "d3435885",
   "metadata": {},
   "outputs": [],
   "source": [
    "temp_theory.get_axiom('implies_t_f')"
   ]
  },
  {
   "cell_type": "code",
   "execution_count": null,
   "id": "bbaf54b7",
   "metadata": {},
   "outputs": [],
   "source": [
    "temp_theory.get_axiom('implies_t_f').proven_truth"
   ]
  },
  {
   "cell_type": "code",
   "execution_count": null,
   "id": "785509ed",
   "metadata": {},
   "outputs": [],
   "source": [
    "example_expr_01 = temp_theory.get_axiom('implies_t_f').proven_truth.expr"
   ]
  },
  {
   "cell_type": "code",
   "execution_count": null,
   "id": "6b8c3081",
   "metadata": {},
   "outputs": [],
   "source": [
    "example_expr_01.expr_info()"
   ]
  },
  {
   "cell_type": "code",
   "execution_count": null,
   "id": "3f7bfdff",
   "metadata": {},
   "outputs": [],
   "source": [
    "example_expr_01.expr_info()._getEnumeratedExpressions()"
   ]
  },
  {
   "cell_type": "code",
   "execution_count": null,
   "id": "4974e4de",
   "metadata": {},
   "outputs": [],
   "source": [
    "example_expr_01.string()"
   ]
  },
  {
   "cell_type": "code",
   "execution_count": null,
   "id": "9d7b0629",
   "metadata": {},
   "outputs": [],
   "source": [
    "example_expr_01.latex()"
   ]
  },
  {
   "cell_type": "code",
   "execution_count": null,
   "id": "fecbf4ee",
   "metadata": {},
   "outputs": [],
   "source": [
    "example_expr_01.formatted('string')"
   ]
  },
  {
   "cell_type": "code",
   "execution_count": null,
   "id": "b4e27229",
   "metadata": {},
   "outputs": [],
   "source": [
    "example_expr_01.core_info()[0]"
   ]
  },
  {
   "cell_type": "code",
   "execution_count": null,
   "id": "02dbdec1",
   "metadata": {},
   "outputs": [],
   "source": [
    "example_expr_01.sub_expr(1)"
   ]
  },
  {
   "cell_type": "code",
   "execution_count": null,
   "id": "1d1bdfbd",
   "metadata": {},
   "outputs": [],
   "source": [
    "for item in example_expr_01.sub_expr_iter():\n",
    "    display(item)"
   ]
  },
  {
   "cell_type": "markdown",
   "id": "50e11e05",
   "metadata": {},
   "source": [
    "We create a database (db) and then a table within that db (later we create a separate file of database functions to simplify this process):"
   ]
  },
  {
   "cell_type": "code",
   "execution_count": null,
   "id": "93c81611",
   "metadata": {},
   "outputs": [],
   "source": [
    "# conn = sqlite3.connect(':memory:') # for temp db in memory\n",
    "\n",
    "# connect to (or create) the database\n",
    "conn = sqlite3.connect('testdb_02.db')\n",
    "\n",
    "# create a cursor\n",
    "c = conn.cursor()\n",
    "\n",
    "c.execute(\"DROP TABLE IF EXISTS axiom\")\n",
    "c.execute(\"\"\"CREATE TABLE axiom (\n",
    "    name       text,\n",
    "    expression text\n",
    "    )\"\"\")\n",
    "\n",
    "c.execute(\"DROP TABLE IF EXISTS expression\")\n",
    "c.execute(\"\"\"CREATE TABLE expression (\n",
    "    expression_id  text,\n",
    "    type           text,\n",
    "    class          text,\n",
    "    subexpressions text,\n",
    "    string_format  text,\n",
    "    latex_format   text\n",
    "    )\"\"\")\n",
    "\n",
    "# Commit our command\n",
    "conn.commit()\n",
    "\n",
    "# Close our connection\n",
    "conn.close()\n"
   ]
  },
  {
   "cell_type": "markdown",
   "id": "c20e584e",
   "metadata": {},
   "source": [
    "Now we can put things into the table:"
   ]
  },
  {
   "cell_type": "code",
   "execution_count": null,
   "id": "89634bfb",
   "metadata": {},
   "outputs": [],
   "source": [
    "def _proveItObjUniqueRep_alt(prove_it_object):\n",
    "    '''\n",
    "    Generate a unique representation string for the given Prove-It\n",
    "    object that is dependent upon the style.\n",
    "    Borrowed from _theory_storage.py and modified accordingly.\n",
    "    So this is kind of pretend-ish, because it's not at all clear\n",
    "    what function should be being fed to the _generate_unique_rep()\n",
    "    method in the return line.\n",
    "    '''\n",
    "    from proveit import Expression, Judgment, Proof\n",
    "    prefix = None\n",
    "    if isinstance(prove_it_object, Expression):\n",
    "        prefix = ''  # No prefix for Expressions\n",
    "    elif isinstance(prove_it_object, Judgment):\n",
    "        # prefix to indicate that it is a Judgment\n",
    "        prefix = 'Judgment:'\n",
    "    elif isinstance(prove_it_object, Proof):\n",
    "        prefix = 'Proof:'  # prefix to indicate that it is a Proof\n",
    "    else:\n",
    "        raise NotImplementedError(\n",
    "            'Strorage only implemented for Expressions,'\n",
    "            'Judgments, and Proofs')\n",
    "    # Generate a unique representation using Prove-It object ids for\n",
    "    # this storage to represent other referenced Prove-It objects.\n",
    "#     return prefix + prove_it_object._generate_unique_rep(\n",
    "#         self._prove_it_storage_id)\n",
    "    return prefix + prove_it_object._generate_unique_rep(lambda expr: hex(expr._style_id))"
   ]
  },
  {
   "cell_type": "code",
   "execution_count": null,
   "id": "c8848edd",
   "metadata": {},
   "outputs": [],
   "source": [
    "def _parse_unique_rep(unique_rep):\n",
    "    '''\n",
    "    parse an Expression's unique_rep generated by the\n",
    "    _proveItObjUniqueRep_alt() method.\n",
    "    Borrowed from expr.py (Expression class) and modified accordingly.\n",
    "    So this is kind of pretend-ish.\n",
    "    '''\n",
    "    sub_expr_info, expr_class_str, core_info_str, style_str = \\\n",
    "        unique_rep.split(';')\n",
    "    core_info = [_ for _ in core_info_str.split(',') if _ != '']\n",
    "    style_pairs = [_ for _ in style_str.split(',') if _ != '']\n",
    "    style_dict = dict(style_pair.split(':') for style_pair in style_pairs)\n",
    "    sub_expr_refs = [_ for _ in sub_expr_info.split(',') if _ != '']\n",
    "    return expr_class_str, core_info, style_dict, sub_expr_refs\n",
    "\n",
    "# our unique rep: Judgment:0x372c6581ceedec03;[-0x44e71e006250fd8b,-0x5857f38715f61ec1]"
   ]
  },
  {
   "cell_type": "code",
   "execution_count": null,
   "id": "ddcd94d6",
   "metadata": {},
   "outputs": [],
   "source": [
    "import inspect\n",
    "def getSuperClassNames(anObject):\n",
    "    superClassNames = []\n",
    "    if (inspect.isclass(anObject) == False): anObject = anObject.__class__\n",
    "    classes = inspect.getmro(anObject)\n",
    "    for cl in classes:\n",
    "        s = str(cl).replace('\\'', '').replace('>', '')\n",
    "        if (\"__main__.\" in s): superClassNames.append(s.split('.', 1)[1])\n",
    "    clName = str(anObject.__name__)\n",
    "    if (clName in superClassNames): superClassNames.remove(clName)\n",
    "    if (len(superClassNames) == 0): superClassNames = None\n",
    "    return superClassNames"
   ]
  },
  {
   "cell_type": "code",
   "execution_count": null,
   "id": "92d27c77",
   "metadata": {},
   "outputs": [],
   "source": [
    "from proveit import Expression, Judgment\n",
    "\n",
    "from proveit import Judgment\n",
    "import inspect\n",
    "import hashlib\n",
    "\n",
    "print(\"For temp_result: {}:\".format(temp_result))\n",
    "print(\"    assumptions: {}\".format(temp_result.assumptions))\n",
    "print(\"    proof().proven_truth: {}\".format(temp_result.proof().proven_truth))\n",
    "print(\"    proof().step_type(): {}\".format(temp_result.proof().step_type()))\n",
    "print(\"    core_info(): {}\".format(temp_result.core_info()))\n",
    "print(\"type(temp_result): {}\".format(type(temp_result)))\n",
    "print(\"temp_result.__class__: {}\".format(temp_result.__class__))\n",
    "print(\"temp_result.__class__.__name__: {}\".format(temp_result.__class__.__name__))\n",
    "print(temp_result)\n",
    "example_str = temp_result.string()\n",
    "print(\"type(example_str) = {}\".format(type(example_str)))\n",
    "\n",
    "# test the _proveItObjUniqueRep_alt method def'd above\n",
    "temp_result_unique_rep = _proveItObjUniqueRep_alt(temp_result)\n",
    "print(\"our unique rep: {}\".format(temp_result_unique_rep))\n",
    "\n",
    "# test Prove-It's Expression._parse_unique_rep() method\n",
    "# (expr_class_str, core_info, style_dict, sub_expr_refs) = \\\n",
    "#                     Expression._parse_unique_rep(temp_result_unique_rep)\n",
    "\n",
    "# then get a hash representation of that unique representation\n",
    "# (taken from a line in TheoryFolderStorage._retrieve() method)\n",
    "rep_hash = hashlib.sha1(temp_result_unique_rep.encode('utf-8')).hexdigest()\n",
    "print(\"our unique rep of the unique rep: {}\".format(rep_hash))\n",
    "\n",
    "# print(\"SuperClasses: {}\".format(getSuperClassNames(temp_result)))\n",
    "temp_result_type = temp_result.__class__.__name__\n",
    "# _proveItObjUniqueRep_alt(temp_result_unique_rep)"
   ]
  },
  {
   "cell_type": "code",
   "execution_count": null,
   "id": "706a0dcd",
   "metadata": {},
   "outputs": [],
   "source": [
    "\n",
    "# connect to (or create) the database\n",
    "conn = sqlite3.connect('testdb_02.db')\n",
    "\n",
    "# create a cursor\n",
    "c = conn.cursor()\n",
    "\n",
    "# Recall the attributes for the expression relation:\n",
    "#     expression_id  text,\n",
    "#     type           text,\n",
    "#     class          text,\n",
    "#     subexpressions text,\n",
    "#     string_format  text,\n",
    "#     latex_format   text\n",
    "\n",
    "# Put data into the table\n",
    "# c.execute(\"INSERT INTO expressions VALUES('{0}', 'test', 'test')\".format(example_str))\n",
    "c.execute(\"INSERT INTO expression VALUES('{0}', '{1}', 'test', '[]', 'string', 'latex')\".\n",
    "          format(temp_result_type, example_str))\n",
    "\n",
    "# Put data into the table again (before calling .commit())\n",
    "# c.execute(\"INSERT INTO expressions VALUES('{0}', 'test', 'test')\".format(example_str))\n",
    "c.execute(\"INSERT INTO expression VALUES('{0}', '{1}', 'test', '[]', 'string', 'latex')\".\n",
    "          format(temp_result_type, example_str))\n",
    "\n",
    "# Try to put partial data into the table (before calling .commit())\n",
    "c.execute(\"INSERT INTO expression VALUES('{0}', '{1}', 'test', '[]', 'string', 'latex')\".\n",
    "          format(temp_result_type, example_str))\n",
    "\n",
    "print(\"Command executed without error!\")\n",
    "\n",
    "# Commit our changes\n",
    "conn.commit()\n",
    "\n",
    "# query our updated database\n",
    "c.execute(\"SELECT * FROM expression\")\n",
    "# print(c.fetchone()) # returns first tuple\n",
    "# print(c.fetchone()[0]) # returns tuple item at index 0\n",
    "# print(c.fetchmany(3))\n",
    "# print(c.fetchall()) # returned as Python list (of tuples)\n",
    "\n",
    "items = c.fetchall() # items is then a list of (row) entries\n",
    "print(\"core_type \\texpression \\t\\tsub_expressions \")\n",
    "for item in items:\n",
    "    print(item[0] + \"\\t\" + item[1] + \"\\t\" + item[2] + \"\\t\" + item[3] + \"\\t\" + item[4]\n",
    "           + \"\\t\" + item[5])\n",
    "\n",
    "# Close our connection\n",
    "conn.close()"
   ]
  },
  {
   "cell_type": "code",
   "execution_count": null,
   "id": "358c42a2",
   "metadata": {},
   "outputs": [],
   "source": [
    "from proveit import Database"
   ]
  },
  {
   "cell_type": "code",
   "execution_count": null,
   "id": "d791da29",
   "metadata": {},
   "outputs": [],
   "source": [
    "temp_result"
   ]
  },
  {
   "cell_type": "code",
   "execution_count": null,
   "id": "bf76b4ad",
   "metadata": {},
   "outputs": [],
   "source": []
  },
  {
   "cell_type": "code",
   "execution_count": null,
   "id": "5b11d47e",
   "metadata": {},
   "outputs": [],
   "source": [
    "temp_result.assumptions"
   ]
  },
  {
   "cell_type": "code",
   "execution_count": null,
   "id": "96905e06",
   "metadata": {},
   "outputs": [],
   "source": [
    "temp_result.expr"
   ]
  },
  {
   "cell_type": "markdown",
   "id": "9e645c63",
   "metadata": {},
   "source": [
    "# Using the Database class"
   ]
  },
  {
   "cell_type": "markdown",
   "id": "171f5d65",
   "metadata": {},
   "source": [
    "The following is just a pretend process, using mocked-up versions of unique represenations of some of the pieces of a Judgment."
   ]
  },
  {
   "cell_type": "code",
   "execution_count": null,
   "id": "229e1839",
   "metadata": {},
   "outputs": [],
   "source": [
    "temp_result_unique_rep = _proveItObjUniqueRep_alt(temp_result)\n",
    "print(\"our unique rep: {}\".format(temp_result_unique_rep))\n",
    "rep_hash = hashlib.sha1(temp_result_unique_rep.encode('utf-8')).hexdigest()\n",
    "print(\"our unique rep of the unique rep: {}\".format(rep_hash))"
   ]
  },
  {
   "cell_type": "markdown",
   "id": "da330da0",
   "metadata": {},
   "source": [
    "### The Judgment itself, and its representation(s)"
   ]
  },
  {
   "cell_type": "code",
   "execution_count": null,
   "id": "8b5427f9",
   "metadata": {},
   "outputs": [],
   "source": [
    "temp_result_unique_rep = _proveItObjUniqueRep_alt(temp_result)\n",
    "rep_hash = hashlib.sha1(temp_result_unique_rep.encode('utf-8')).hexdigest()\n",
    "temp_result_expr_hash = temp_result_unique_rep.split(';')[0].split(':')[1]\n",
    "temp_result_assumptions_hash = temp_result_unique_rep.split(';')[1]\n",
    "display(temp_result)\n",
    "display(rep_hash)\n",
    "display(temp_result_expr_hash)\n",
    "display(temp_result_assumptions_hash)"
   ]
  },
  {
   "cell_type": "markdown",
   "id": "0bebf196",
   "metadata": {},
   "source": [
    "### An Expression for storing"
   ]
  },
  {
   "cell_type": "code",
   "execution_count": null,
   "id": "765127ab",
   "metadata": {},
   "outputs": [],
   "source": [
    "# expr_01 = temp_result.expr\n",
    "# expr_01_id = hashlib.sha1(expr_01.string().encode('utf-8')).hexdigest()\n",
    "# expr_01_id = expr_01._proveItObjUniqueRep_alt(temp_result)\n",
    "# display(expr_01)\n",
    "# display(expr_01_id)"
   ]
  },
  {
   "cell_type": "markdown",
   "id": "21d3101d",
   "metadata": {},
   "source": [
    "### The unique hash for entire Judgment"
   ]
  },
  {
   "cell_type": "code",
   "execution_count": null,
   "id": "302f4bb3",
   "metadata": {},
   "outputs": [],
   "source": [
    "rep_hash = hashlib.sha1(temp_result_unique_rep.encode('utf-8')).hexdigest()"
   ]
  },
  {
   "cell_type": "markdown",
   "id": "96d40567",
   "metadata": {},
   "source": [
    "### The Judgment's expression: $B$"
   ]
  },
  {
   "cell_type": "code",
   "execution_count": null,
   "id": "565a41ea",
   "metadata": {},
   "outputs": [],
   "source": [
    "temp_result_expr_hash = temp_result_unique_rep.split(';')[0].split(':')[1]"
   ]
  },
  {
   "cell_type": "markdown",
   "id": "b1615d93",
   "metadata": {},
   "source": [
    "### The Judgment's assumptions: $[A \\Rightarrow B, A]$"
   ]
  },
  {
   "cell_type": "code",
   "execution_count": null,
   "id": "4ce75e17",
   "metadata": {},
   "outputs": [],
   "source": [
    "temp_result_assumptions_hash = temp_result_unique_rep.split(';')[1]"
   ]
  },
  {
   "cell_type": "markdown",
   "id": "54a2950d",
   "metadata": {},
   "source": [
    "### Create Database (if it doesn't already exist)"
   ]
  },
  {
   "cell_type": "code",
   "execution_count": null,
   "id": "a215708d",
   "metadata": {},
   "outputs": [],
   "source": [
    "test_db_03 = Database('', 'test_db_03.db', 'proveit.logic.booleans.implication')"
   ]
  },
  {
   "cell_type": "markdown",
   "id": "2d53293d",
   "metadata": {},
   "source": [
    "### Display contents of judgment and expression tables in database"
   ]
  },
  {
   "cell_type": "code",
   "execution_count": null,
   "id": "c189643e",
   "metadata": {},
   "outputs": [],
   "source": [
    "# see what's in the judgment table\n",
    "test_db_03.fetch_all('judgment')\n",
    "# test_db_03.fetch_all('expression')"
   ]
  },
  {
   "cell_type": "code",
   "execution_count": null,
   "id": "d35b738c",
   "metadata": {},
   "outputs": [],
   "source": [
    "# see what's in the expression table\n",
    "test_db_03.fetch_all('expression')"
   ]
  },
  {
   "cell_type": "markdown",
   "id": "f4f8c1c2",
   "metadata": {},
   "source": [
    "### Clear all records from a table"
   ]
  },
  {
   "cell_type": "code",
   "execution_count": null,
   "id": "ff904b84",
   "metadata": {},
   "outputs": [],
   "source": [
    "test_db_03.clear_all_records_in_table('judgment')"
   ]
  },
  {
   "cell_type": "code",
   "execution_count": null,
   "id": "fcbc2a53",
   "metadata": {},
   "outputs": [],
   "source": [
    "# see what's in the expression table\n",
    "test_db_03.fetch_all('judgment')"
   ]
  },
  {
   "cell_type": "markdown",
   "id": "09744c72",
   "metadata": {},
   "source": [
    "### Insert a record into the judgment table"
   ]
  },
  {
   "cell_type": "code",
   "execution_count": null,
   "id": "3b6acbc5",
   "metadata": {},
   "outputs": [],
   "source": [
    "# practicing with pretend-ish hashes created above\n",
    "test_db_03.insert_record(\n",
    "    'judgment', [rep_hash, temp_result_expr_hash, temp_result_assumptions_hash, 0, None, None])"
   ]
  },
  {
   "cell_type": "code",
   "execution_count": null,
   "id": "4145e875",
   "metadata": {},
   "outputs": [],
   "source": [
    "test_db_03.fetch_all('judgment')"
   ]
  },
  {
   "cell_type": "markdown",
   "id": "d74681ec",
   "metadata": {},
   "source": [
    "### Attempt to insert another record with the same rep_hash"
   ]
  },
  {
   "cell_type": "code",
   "execution_count": null,
   "id": "2503056a",
   "metadata": {},
   "outputs": [],
   "source": [
    "try:\n",
    "    test_db_03.insert_record(\n",
    "    'judgment', [rep_hash, temp_result_expr_hash, temp_result_assumptions_hash, 0, None, None])\n",
    "except Exception as the_exception:\n",
    "    print(\"Error: {}\".format(the_exception))"
   ]
  },
  {
   "cell_type": "code",
   "execution_count": null,
   "id": "abf69b88",
   "metadata": {},
   "outputs": [],
   "source": [
    "# attempting to insert into a table but using the wrong number of attributes\n",
    "try:\n",
    "    test_db_03.insert_record(\n",
    "    'judgment', [rep_hash, temp_result_assumptions_hash])\n",
    "except Exception as the_exception:\n",
    "    print(\"Exception: {}\".format(the_exception))"
   ]
  },
  {
   "cell_type": "code",
   "execution_count": null,
   "id": "f69ecf04",
   "metadata": {},
   "outputs": [],
   "source": [
    "# attempting to insert into a table but using the wrong table name\n",
    "try:\n",
    "    test_db_03.insert_record(\n",
    "    'judgments', [rep_hash, temp_result_assumptions_hash, temp_result_expr_hash, None, None])\n",
    "except Exception as the_exception:\n",
    "    print(\"Exception: {}\".format(the_exception))"
   ]
  },
  {
   "cell_type": "markdown",
   "id": "a8822f0e",
   "metadata": {},
   "source": [
    "### Display updated contents of judgment table in database"
   ]
  },
  {
   "cell_type": "code",
   "execution_count": null,
   "id": "0361ff06",
   "metadata": {},
   "outputs": [],
   "source": [
    "# now we should see a record (or records)\n",
    "temp_items = test_db_03.fetch_all('judgment')"
   ]
  },
  {
   "cell_type": "code",
   "execution_count": null,
   "id": "58db3af3",
   "metadata": {},
   "outputs": [],
   "source": [
    "temp_id = temp_items[0][1]"
   ]
  },
  {
   "cell_type": "code",
   "execution_count": null,
   "id": "f42e344d",
   "metadata": {},
   "outputs": [],
   "source": [
    "str(temp_id)"
   ]
  },
  {
   "cell_type": "markdown",
   "id": "de484586",
   "metadata": {},
   "source": [
    "### Try deleting a record, then viewing updated contents:"
   ]
  },
  {
   "cell_type": "code",
   "execution_count": null,
   "id": "abc6fd0b",
   "metadata": {},
   "outputs": [],
   "source": [
    "test_db_03.fetch_all('judgment')"
   ]
  },
  {
   "cell_type": "code",
   "execution_count": null,
   "id": "1f5752d1",
   "metadata": {},
   "outputs": [],
   "source": [
    "test_db_03._get_list_of_table_attributes('judgment')"
   ]
  },
  {
   "cell_type": "code",
   "execution_count": null,
   "id": "316b3a8f",
   "metadata": {},
   "outputs": [],
   "source": [
    "# somewhat oddly, this works whether or not we wrap the temp_id with str()\n",
    "test_db_03.delete_record('judgment', id=rep_hash)"
   ]
  },
  {
   "cell_type": "code",
   "execution_count": null,
   "id": "a31f791e",
   "metadata": {},
   "outputs": [],
   "source": [
    "test_db_03.fetch_all('judgment')"
   ]
  },
  {
   "cell_type": "code",
   "execution_count": null,
   "id": "c7947869",
   "metadata": {},
   "outputs": [],
   "source": [
    "# re-inserting with pretend-ish hashes created above\n",
    "test_db_03.insert_record(\n",
    "    'judgment', [rep_hash, temp_result_expr_hash, temp_result_assumptions_hash, 0, None, None])"
   ]
  },
  {
   "cell_type": "code",
   "execution_count": null,
   "id": "07515748",
   "metadata": {},
   "outputs": [],
   "source": [
    "# re-check to verify re-insertion\n",
    "test_db_03.fetch_all('judgment')"
   ]
  },
  {
   "cell_type": "code",
   "execution_count": null,
   "id": "1c30ebda",
   "metadata": {},
   "outputs": [],
   "source": [
    "# inserting the same thing again should raise an error;\n",
    "# the 'judgment_id' is declared as a primary key and thus cannot appear twice\n",
    "try:\n",
    "    test_db_03.insert_record(\n",
    "    'judgment', [rep_hash, temp_result_expr_hash, temp_result_assumptions_hash, 0, None, None])\n",
    "except Exception as the_exception:\n",
    "    print(\"ERROR: {}\".format(the_exception))"
   ]
  },
  {
   "cell_type": "code",
   "execution_count": null,
   "id": "0447854f",
   "metadata": {},
   "outputs": [],
   "source": [
    "test_db_03.fetch_all('judgment')"
   ]
  },
  {
   "cell_type": "code",
   "execution_count": null,
   "id": "7ba0fbb5",
   "metadata": {},
   "outputs": [],
   "source": [
    "# testing delete_record with incorrect attribute.\n",
    "try:\n",
    "    test_db_03.delete_record('judgment', id2=temp_id)\n",
    "except Exception as the_exception:\n",
    "    print(\"Exception: {}\".format(the_exception))"
   ]
  },
  {
   "cell_type": "code",
   "execution_count": null,
   "id": "a5b01e79",
   "metadata": {},
   "outputs": [],
   "source": [
    "test_db_03.fetch_all('judgment')"
   ]
  },
  {
   "cell_type": "code",
   "execution_count": null,
   "id": "3a604bd0",
   "metadata": {},
   "outputs": [],
   "source": [
    "# deleting a non-existent record in a valid table using a valid attribute\n",
    "# should not raise an error\n",
    "try:\n",
    "    test_db_03.delete_record('judgment', id=str(temp_id)+'1')\n",
    "except Exception as the_exception:\n",
    "    print(\"Exception: {}\".format(the_exception))"
   ]
  },
  {
   "cell_type": "code",
   "execution_count": null,
   "id": "051ec992",
   "metadata": {},
   "outputs": [],
   "source": [
    "test_db_03.fetch_all('judgment')"
   ]
  },
  {
   "cell_type": "markdown",
   "id": "e534a5bb",
   "metadata": {},
   "source": [
    "#### Checking for the existence of an entry in a table in the database"
   ]
  },
  {
   "cell_type": "code",
   "execution_count": null,
   "id": "5c56b84c",
   "metadata": {},
   "outputs": [],
   "source": [
    "# check for an existing record\n",
    "test_db_03.check_for_record('judgment', id=temp_id)"
   ]
  },
  {
   "cell_type": "code",
   "execution_count": null,
   "id": "31a9d2ae",
   "metadata": {},
   "outputs": [],
   "source": [
    "# checking for a non-existent record\n",
    "test_db_03.check_for_record('judgment', id=temp_id+'0')"
   ]
  },
  {
   "cell_type": "code",
   "execution_count": null,
   "id": "9b22fd90",
   "metadata": {},
   "outputs": [],
   "source": [
    "# check for a record in non-existent table\n",
    "try:\n",
    "    test_db_03.check_for_record('judgments', id=temp_id)\n",
    "except Exception as the_exception:\n",
    "    print(\"Exception: {}\".format(the_exception))"
   ]
  },
  {
   "cell_type": "code",
   "execution_count": null,
   "id": "13e3688e",
   "metadata": {},
   "outputs": [],
   "source": [
    "# check for a record in table using non-existent attribute\n",
    "try:\n",
    "    test_db_03.check_for_record('judgment', judgment_ids=temp_id)\n",
    "except Exception as the_exception:\n",
    "    print(\"Exception: {}\".format(the_exception))"
   ]
  },
  {
   "cell_type": "code",
   "execution_count": null,
   "id": "27fd681f",
   "metadata": {},
   "outputs": [],
   "source": [
    "# check for an existing record, using the kwargs approach\n",
    "test_db_03.check_for_record('judgment', expression=temp_result_expr_hash)"
   ]
  },
  {
   "cell_type": "code",
   "execution_count": null,
   "id": "f9d49295",
   "metadata": {},
   "outputs": [],
   "source": [
    "# check for an existing record, using the kwargs approach, with incorrect expr_hash\n",
    "test_db_03.check_for_record('judgment', id=temp_id, expression=temp_result_expr_hash+\"0\")"
   ]
  },
  {
   "cell_type": "code",
   "execution_count": null,
   "id": "d6cd625d",
   "metadata": {},
   "outputs": [],
   "source": [
    "# check for an existing record, using the kwargs approach, but with no kwargs\n",
    "try:\n",
    "    test_db_03.check_for_record('judgment')\n",
    "except Exception as the_exception:\n",
    "    print(\"Exception: {}\".format(the_exception))"
   ]
  },
  {
   "cell_type": "markdown",
   "id": "a667b3d0",
   "metadata": {},
   "source": [
    "#### While() Loops"
   ]
  },
  {
   "cell_type": "code",
   "execution_count": null,
   "id": "0f790f55",
   "metadata": {},
   "outputs": [],
   "source": [
    "i = 0\n",
    "while(i<10):\n",
    "    if i%2==0:\n",
    "        print(i)\n",
    "        i += 2\n",
    "        print(i)\n",
    "        continue\n",
    "    print(\"i = {}\".format(i))\n",
    "    i += 1"
   ]
  },
  {
   "cell_type": "markdown",
   "id": "003a29dd",
   "metadata": {},
   "source": [
    "#### kwargs"
   ]
  },
  {
   "cell_type": "code",
   "execution_count": null,
   "id": "d59ea3d4",
   "metadata": {},
   "outputs": [],
   "source": [
    "def fxn_with_kwargs(**kwargs):\n",
    "    print(kwargs)\n",
    "    print(enumerate(kwargs.items()))\n",
    "    temp_str = \"\"\n",
    "    for i,(k,v) in enumerate(kwargs.items()):\n",
    "            print(\"({0}) {1} = {2}\".format(i, k, v))\n",
    "            if isinstance(v, str):\n",
    "                v = \"\\'\" + str(v) + \"\\'\"\n",
    "            if i==0:\n",
    "                temp_str = \"SELECT * WHERE ({0}={1}\".format(k, v)\n",
    "            else:\n",
    "                temp_str = temp_str + \" AND {0} = {1}\".format(k, v)\n",
    "    temp_str = temp_str + \")\"\n",
    "    print(temp_str)\n",
    "    if len(kwargs)==0:\n",
    "        print(\"No kwargs supplied!\")\n",
    "    for k in kwargs.keys():\n",
    "        print(\"k = {}\".format(k))\n",
    "            "
   ]
  },
  {
   "cell_type": "markdown",
   "id": "8c83272a",
   "metadata": {},
   "source": [
    "## Theory Package and Database"
   ]
  },
  {
   "cell_type": "code",
   "execution_count": null,
   "id": "e30a5c5e",
   "metadata": {},
   "outputs": [],
   "source": [
    "# get the Theory for the current notebook location\n",
    "temp_theory = proveit.Theory()"
   ]
  },
  {
   "cell_type": "code",
   "execution_count": null,
   "id": "93845463",
   "metadata": {},
   "outputs": [],
   "source": [
    "# then get that theory's database if it exists\n",
    "# and show the content of the judgment and expression tables\n",
    "if hasattr(temp_theory._storage, 'pkg_database'):\n",
    "    temp_database = temp_theory._storage.pkg_database\n",
    "    print(\"* ================================================================================== *\")\n",
    "    print(\"*  common table                                                                      *\")\n",
    "    print(\"* ================================================================================== *\")\n",
    "    print(\"*  id, name, expr, string_format, latex_format                                       *\")\n",
    "    print(\"* ================================================================================== *\")\n",
    "    display(temp_database.fetch_all('common'))\n",
    "    print(\"* ================================================================================== *\")\n",
    "    print(\"*  axiom table                                                                       *\")\n",
    "    print(\"* ================================================================================== *\")\n",
    "    print(\"*  id, path_name, name, judgment, string_format, latex_format                        *\")\n",
    "    print(\"* ================================================================================== *\")\n",
    "    display(temp_database.fetch_all('axiom'))\n",
    "    print(\"* ================================================================================== *\")\n",
    "    print(\"*  theorem table                                                                     *\")\n",
    "    print(\"* ================================================================================== *\")\n",
    "    print(\"*  id, path_name, name, judgment, string_format, latex_format                        *\")\n",
    "    print(\"* ================================================================================== *\")\n",
    "    display(temp_database.fetch_all('theorem'))\n",
    "    print(\"* ================================================================================== *\")\n",
    "    print(\"*  judgment table                                                                    *\")\n",
    "    print(\"* ================================================================================== *\")\n",
    "    print(\"*  id, expr, assumptions, num_lit_gens, string_format, latex_format                  *\")\n",
    "    print(\"* ================================================================================== *\")\n",
    "    display(temp_database.fetch_all('judgment'))\n",
    "    print(\"* ================================================================================== *\")\n",
    "    print(\"*  expression table                                                                  *\")\n",
    "    print(\"* ================================================================================== *\")\n",
    "    print(\"*  id, subexpressions, class_path, core_info, style_str, string_format, latex_format *\")\n",
    "    print(\"* ================================================================================== *\")\n",
    "    display(temp_database.fetch_all('expression'))\n",
    "    print(\"* ================================================================================== *\")\n",
    "    print(\"*  proof_step table                                                                  *\")\n",
    "    print(\"* ================================================================================== *\")\n",
    "    print(\"*  id, type, path_name, name, judgment_id, reqs, eq_reqs, instantiations,            *\")\n",
    "    print(\"*  string_format, latex_format                                                       *\")\n",
    "    print(\"* ================================================================================== *\")\n",
    "    display(temp_database.fetch_all('proof_step'))"
   ]
  },
  {
   "cell_type": "code",
   "execution_count": null,
   "id": "3597e63b",
   "metadata": {},
   "outputs": [],
   "source": [
    "some_proof_steps = temp_database.fetch_all('proof_step')"
   ]
  },
  {
   "cell_type": "code",
   "execution_count": null,
   "id": "b0b32605",
   "metadata": {},
   "outputs": [],
   "source": [
    "proof_step_items = [\" step id   \", \" step name \", \" path name \", \" name      \", \" judgment  \",\n",
    "                    \" req's     \", \" eq req's  \",\" instant's \", \" string    \", \" latex     \"]\n",
    "\n",
    "for step in some_proof_steps:\n",
    "    for i in range(len(step)-1):\n",
    "        if i == 0:\n",
    "            print(\" ========== \")\n",
    "        print(\"{}: {}\".format(proof_step_items[i], step[i]))"
   ]
  },
  {
   "cell_type": "code",
   "execution_count": null,
   "id": "0d954e62",
   "metadata": {},
   "outputs": [],
   "source": [
    "some_judgments = temp_database.fetch_all('judgment')\n",
    "for judgment in some_judgments:\n",
    "    print(\" ========== \")\n",
    "    print(\" judgment id:  {}\".format(judgment[1]))\n",
    "    print(\" expr:         {}\".format(judgment[2]))\n",
    "    print(\" assumptions:  {}\".format(judgment[3]))\n",
    "    print(\" num lit gens: {}\".format(judgment[4]))\n",
    "    print(\" string:       {}\".format(judgment[5]))\n",
    "    print(\" latex:        {}\".format(judgment[6]))"
   ]
  },
  {
   "cell_type": "code",
   "execution_count": null,
   "id": "83e39c52",
   "metadata": {},
   "outputs": [],
   "source": [
    "some_expressions = temp_database.fetch_all('expression')\n",
    "for expression in some_expressions:\n",
    "    print(\" ========== \")\n",
    "    print(\" expr id:    {}\".format(expression[1]))\n",
    "    print(\" sub exprs:  {}\".format(expression[2]))\n",
    "    print(\" class path: {}\".format(expression[3]))\n",
    "    print(\" core info:  {}\".format(expression[4]))\n",
    "    print(\" style str:  {}\".format(expression[5]))\n",
    "    print(\" string:     {}\".format(expression[6]))\n",
    "    print(\" latex:      {}\".format(expression[6]))"
   ]
  },
  {
   "cell_type": "code",
   "execution_count": null,
   "id": "5e91c7bc",
   "metadata": {},
   "outputs": [],
   "source": [
    "temp_database.check_for_record('proof_step', id='20b7eda420dd18b82917d5b2814aed1ac49439ac0')"
   ]
  },
  {
   "cell_type": "code",
   "execution_count": null,
   "id": "5971ed65",
   "metadata": {},
   "outputs": [],
   "source": [
    "temp_database.check_for_record('proof_step', id='20b7eda420dd18b82917d5b2814aed1ac49439ac1')"
   ]
  },
  {
   "cell_type": "code",
   "execution_count": null,
   "id": "db18d5f5",
   "metadata": {},
   "outputs": [],
   "source": [
    "temp_database.check_for_record('expression', id='c5b8d4361f69ce50a6ce805adc313353b29f07ec0')"
   ]
  },
  {
   "cell_type": "code",
   "execution_count": null,
   "id": "fd8f9193",
   "metadata": {},
   "outputs": [],
   "source": [
    "temp_result.assumptions[0]._sub_expressions[1]._sub_expressions[0].latex_format"
   ]
  },
  {
   "cell_type": "code",
   "execution_count": null,
   "id": "b9ff8ed9",
   "metadata": {},
   "outputs": [],
   "source": [
    "temp_result.string_format"
   ]
  },
  {
   "cell_type": "code",
   "execution_count": null,
   "id": "160f5f9e",
   "metadata": {},
   "outputs": [],
   "source": [
    "temp_result.string()"
   ]
  },
  {
   "cell_type": "code",
   "execution_count": null,
   "id": "b812497c",
   "metadata": {},
   "outputs": [],
   "source": [
    "temp_result.latex()"
   ]
  },
  {
   "cell_type": "code",
   "execution_count": null,
   "id": "4067247b",
   "metadata": {},
   "outputs": [],
   "source": [
    "print(temp_result.latex())"
   ]
  },
  {
   "cell_type": "markdown",
   "id": "4037a108",
   "metadata": {},
   "source": [
    "#### Lists and Strings"
   ]
  },
  {
   "cell_type": "code",
   "execution_count": null,
   "id": "44496b94",
   "metadata": {},
   "outputs": [],
   "source": [
    "temp_list_as_string_01 = \"[1, 2, 75, 45]\""
   ]
  },
  {
   "cell_type": "code",
   "execution_count": null,
   "id": "1714cdd4",
   "metadata": {},
   "outputs": [],
   "source": [
    "# converting string list of int to list of ints\n",
    "eval(temp_list_as_string_01)"
   ]
  },
  {
   "cell_type": "code",
   "execution_count": null,
   "id": "95e489af",
   "metadata": {},
   "outputs": [],
   "source": [
    "temp_list_as_string_02 = \"[abc, 09aef324, 1234]\""
   ]
  },
  {
   "cell_type": "code",
   "execution_count": null,
   "id": "068af8ea",
   "metadata": {},
   "outputs": [],
   "source": [
    "# Converting string to list (of strings)\n",
    "res = temp_list_as_string_02.strip('][').split(', ')"
   ]
  },
  {
   "cell_type": "code",
   "execution_count": null,
   "id": "065f4be0",
   "metadata": {},
   "outputs": [],
   "source": [
    "temp_list_as_string_03 = \"09aef324,49bf3245,98cd76d\""
   ]
  },
  {
   "cell_type": "code",
   "execution_count": null,
   "id": "a2c6b1a5",
   "metadata": {},
   "outputs": [],
   "source": [
    "# Converting string to list (of strings)\n",
    "res = temp_list_as_string_03.split(',')"
   ]
  },
  {
   "cell_type": "code",
   "execution_count": null,
   "id": "e0d1f2e9",
   "metadata": {},
   "outputs": [],
   "source": [
    "'proveit.logic'in 'proveit.logic.booleans.implication'"
   ]
  },
  {
   "cell_type": "code",
   "execution_count": null,
   "id": "817019ac",
   "metadata": {},
   "outputs": [],
   "source": [
    "'proveit.logic.bool' in 'proveit.logic.booleans.implication'"
   ]
  },
  {
   "cell_type": "code",
   "execution_count": null,
   "id": "89f41918",
   "metadata": {},
   "outputs": [],
   "source": [
    "and_t_t.string()"
   ]
  },
  {
   "cell_type": "code",
   "execution_count": null,
   "id": "f48da32e",
   "metadata": {},
   "outputs": [],
   "source": [
    "type(and_t_t)"
   ]
  },
  {
   "cell_type": "code",
   "execution_count": null,
   "id": "e6f4a087",
   "metadata": {},
   "outputs": [],
   "source": [
    "and_t_t.as_theorem_or_axiom()._meaning_id"
   ]
  },
  {
   "cell_type": "markdown",
   "id": "ecd67582",
   "metadata": {},
   "source": [
    "#### Parsing unique_reps of Axioms, Theorem, Proofs, etc."
   ]
  },
  {
   "cell_type": "code",
   "execution_count": null,
   "id": "3253de1d",
   "metadata": {},
   "outputs": [],
   "source": [
    "# Converting an Axiom's unique_rep string to other pieces\n",
    "axiom_str_example = (\n",
    "    'Proof:axiom_proveit.logic.booleans.conjunction.and_t_f:[14d696b7b1cf4d94dab325a7dc84c820f0a67c200];[]')"
   ]
  },
  {
   "cell_type": "code",
   "execution_count": null,
   "id": "5d330110",
   "metadata": {},
   "outputs": [],
   "source": [
    "axiom_str_example.split(';')[0].split(':')"
   ]
  },
  {
   "cell_type": "code",
   "execution_count": null,
   "id": "967c6b8d",
   "metadata": {},
   "outputs": [],
   "source": [
    "axiom_str_example.split(';')[0].split(':')[1].split('_', 1)[1].rsplit('.', 1)"
   ]
  },
  {
   "cell_type": "code",
   "execution_count": null,
   "id": "8998a790",
   "metadata": {},
   "outputs": [],
   "source": [
    "axiom_str_example.split(';')[0].split(':')[2]"
   ]
  },
  {
   "cell_type": "code",
   "execution_count": null,
   "id": "48555e91",
   "metadata": {},
   "outputs": [],
   "source": [
    "axiom_str_example.split(';')[0].split(':')[2].strip('[]')"
   ]
  },
  {
   "cell_type": "code",
   "execution_count": null,
   "id": "116beed4",
   "metadata": {},
   "outputs": [],
   "source": [
    "proof_unique_rep_str_example = (\n",
    "    'Proof:modus ponens:[09daae6ead570ebb0f98c95e8101b99ed2ac86710];[8c0238761a1355ce4d5bf4c8168e3774740cdf840,20b7eda420dd18b82917d5b2814aed1ac49439ac0]')"
   ]
  },
  {
   "cell_type": "code",
   "execution_count": null,
   "id": "8b85fa64",
   "metadata": {},
   "outputs": [],
   "source": [
    "# obtain the proof type\n",
    "proof_unique_rep_str_example.split(\";\")[0].split(\":\")[1]"
   ]
  },
  {
   "cell_type": "code",
   "execution_count": null,
   "id": "b8d99cd1",
   "metadata": {},
   "outputs": [],
   "source": [
    "# obtain the proof's judgment id\n",
    "proof_unique_rep_str_example.split(\";\")[0].split(\":\")[2].strip('[]')"
   ]
  },
  {
   "cell_type": "code",
   "execution_count": null,
   "id": "33ca597a",
   "metadata": {},
   "outputs": [],
   "source": [
    "# obtain the proof's list of requirements\n",
    "# notice that in the current form, we don't which table holds these requirements,\n",
    "# although we (implicitly) know which pkg_database.db file to search for each\n",
    "proof_unique_rep_str_example.split(\";\")[1]"
   ]
  },
  {
   "cell_type": "code",
   "execution_count": null,
   "id": "19f22aaf",
   "metadata": {},
   "outputs": [],
   "source": [
    "from proveit import Proof\n",
    "Proof._extractReferencedObjIds(proof_unique_rep_str_example)"
   ]
  },
  {
   "cell_type": "markdown",
   "id": "6cfc5f4f",
   "metadata": {},
   "source": [
    "#### Dictionaries (as a possible return for parsing a unique_rep)"
   ]
  },
  {
   "cell_type": "code",
   "execution_count": null,
   "id": "8e8c718d",
   "metadata": {},
   "outputs": [],
   "source": [
    "test_dict = {'obj':'Proof', 'type':'modus_ponens', 'judgment_id':'abc123', 'dict':None}"
   ]
  },
  {
   "cell_type": "code",
   "execution_count": null,
   "id": "8b007253",
   "metadata": {},
   "outputs": [],
   "source": [
    "test_dict['obj']"
   ]
  },
  {
   "cell_type": "code",
   "execution_count": null,
   "id": "6971b273",
   "metadata": {},
   "outputs": [],
   "source": [
    "test_dict['type']"
   ]
  },
  {
   "cell_type": "code",
   "execution_count": null,
   "id": "f4dcd9df",
   "metadata": {},
   "outputs": [],
   "source": [
    "if test_dict['dict']==None:\n",
    "    print(\"None\")"
   ]
  },
  {
   "cell_type": "markdown",
   "id": "b19b6b06",
   "metadata": {},
   "source": [
    "#### Parsing with the `Database._parse_unique_rep()` method"
   ]
  },
  {
   "cell_type": "code",
   "execution_count": null,
   "id": "be823d03",
   "metadata": {},
   "outputs": [],
   "source": [
    "from proveit import Database"
   ]
  },
  {
   "cell_type": "code",
   "execution_count": null,
   "id": "1c06a0b1",
   "metadata": {},
   "outputs": [],
   "source": [
    "Database._parse_unique_rep(proof_unique_rep_str_example)"
   ]
  },
  {
   "cell_type": "code",
   "execution_count": null,
   "id": "56c49add",
   "metadata": {},
   "outputs": [],
   "source": [
    "proof_unique_rep_str_example_02 = 'Proof:instantiation:{proveit.common.09585084922504426caf1db2ff588a23a0932a960:proveit.numbers.number_sets.natural_numbers.common.8b7c321957f52ed3b05b36af612eeae4fa4783bc0,proveit.common.a9162d1c3cc0470c02e5daf414500903a7a419230:proveit.numbers.number_sets.integers.common.e6b4e90f9467053e055a4fd2f735c0bb79cb79300,proveit.common.a0d9d672aa5e272d907247690c152cc2c6daafb70:proveit.numbers.numerals.common.af4aab8a07465db063742696e006d04670f30cf10}[da20b31afeaf4605a1640e59551974583346a5110];[proveit.logic.sets.inclusion.theorems.2235dee58a3fecd7484ea00ab222055c7e10c0220,proveit.numbers.number_sets.integers.theorems.2474761cf02407fcd54ac30926fa848232fdc9f10,proveit.numbers.numerals.decimals.theorems.d64204bc453bceba682a8e0d86bf6f914492a96d0,2235dee58a3fecd7484ea00ab222055c7e10c0220*,2235dee58a3fecd7484ea00ab222055c7e10c0230*]'"
   ]
  },
  {
   "cell_type": "code",
   "execution_count": null,
   "id": "e98c1cfd",
   "metadata": {},
   "outputs": [],
   "source": [
    "proof_unique_rep_str_example_03 = 'Proof:instantiation:{proveit.common.09585084922504426caf1db2ff588a23a0932a960:proveit.numbers.number_sets.natural_numbers.common.8b7c321957f52ed3b05b36af612eeae4fa4783bc0,proveit.common.a9162d1c3cc0470c02e5daf414500903a7a419230:proveit.numbers.number_sets.integers.common.e6b4e90f9467053e055a4fd2f735c0bb79cb79300,proveit.common.a0d9d672aa5e272d907247690c152cc2c6daafb70:proveit.numbers.numerals.common.af4aab8a07465db063742696e006d04670f30cf10}[da20b31afeaf4605a1640e59551974583346a5110];[]'"
   ]
  },
  {
   "cell_type": "code",
   "execution_count": null,
   "id": "9cf358e4",
   "metadata": {},
   "outputs": [],
   "source": [
    "semi_colon_split = proof_unique_rep_str_example_02.split(\";\")"
   ]
  },
  {
   "cell_type": "code",
   "execution_count": null,
   "id": "eba8bdae",
   "metadata": {},
   "outputs": [],
   "source": [
    "semi_colon_split[0]"
   ]
  },
  {
   "cell_type": "code",
   "execution_count": null,
   "id": "e5f66c03",
   "metadata": {},
   "outputs": [],
   "source": [
    "semi_colon_split[0][0:5]=='Proof'"
   ]
  },
  {
   "cell_type": "code",
   "execution_count": null,
   "id": "895b2a83",
   "metadata": {},
   "outputs": [],
   "source": [
    "semi_colon_split[0].split(\":\", 2)"
   ]
  },
  {
   "cell_type": "code",
   "execution_count": null,
   "id": "1c866db4",
   "metadata": {},
   "outputs": [],
   "source": [
    "dict_end_idx = semi_colon_split[0].split(\":\", 2)[2].find(\"}\")"
   ]
  },
  {
   "cell_type": "code",
   "execution_count": null,
   "id": "37790f98",
   "metadata": {},
   "outputs": [],
   "source": [
    "the_dict = semi_colon_split[0].split(\":\", 2)[2][:dict_end_idx+1]"
   ]
  },
  {
   "cell_type": "code",
   "execution_count": null,
   "id": "318fbb46",
   "metadata": {},
   "outputs": [],
   "source": [
    "the_id = semi_colon_split[0].split(\":\", 2)[2][dict_end_idx+1:].strip(\"[]\")"
   ]
  },
  {
   "cell_type": "code",
   "execution_count": null,
   "id": "b0d3962b",
   "metadata": {},
   "outputs": [],
   "source": [
    "reqs_str = semi_colon_split[1].strip(\"[]\")"
   ]
  },
  {
   "cell_type": "code",
   "execution_count": null,
   "id": "a0e31f0c",
   "metadata": {},
   "outputs": [],
   "source": [
    "reqs_str_list = reqs_str.split(\",\")"
   ]
  },
  {
   "cell_type": "code",
   "execution_count": null,
   "id": "8c1e63a6",
   "metadata": {},
   "outputs": [],
   "source": []
  },
  {
   "cell_type": "code",
   "execution_count": null,
   "id": "41e9c44c",
   "metadata": {},
   "outputs": [],
   "source": [
    "Database._parse_unique_rep(proof_unique_rep_str_example_02)"
   ]
  },
  {
   "cell_type": "code",
   "execution_count": null,
   "id": "ac4d6fc4",
   "metadata": {},
   "outputs": [],
   "source": [
    "proof_unique_rep_str_example_03"
   ]
  },
  {
   "cell_type": "code",
   "execution_count": null,
   "id": "7440befb",
   "metadata": {},
   "outputs": [],
   "source": [
    "proof_unique_rep_str_example_03.split(\";\")[1]"
   ]
  },
  {
   "cell_type": "code",
   "execution_count": null,
   "id": "d7b08d38",
   "metadata": {},
   "outputs": [],
   "source": [
    "'abc'.strip('abc')"
   ]
  },
  {
   "cell_type": "code",
   "execution_count": null,
   "id": "8e50699a",
   "metadata": {},
   "outputs": [],
   "source": [
    "len(proof_unique_rep_str_example_03.split(\";\")[1].strip(\"][\"))"
   ]
  },
  {
   "cell_type": "code",
   "execution_count": null,
   "id": "6d367d3e",
   "metadata": {},
   "outputs": [],
   "source": [
    "strange_empty_tuple = proof_unique_rep_str_example_03.split(\";\")[1].strip(\"[]\").split(\",\")"
   ]
  },
  {
   "cell_type": "code",
   "execution_count": null,
   "id": "0a9336a1",
   "metadata": {},
   "outputs": [],
   "source": [
    "len(strange_empty_tuple)"
   ]
  },
  {
   "cell_type": "code",
   "execution_count": null,
   "id": "e1d64af7",
   "metadata": {},
   "outputs": [],
   "source": [
    "print(\"Here\")\n",
    "for item in strange_empty_tuple:\n",
    "    print(item+\"<-something there?\")"
   ]
  },
  {
   "cell_type": "code",
   "execution_count": null,
   "id": "618af5ac",
   "metadata": {},
   "outputs": [],
   "source": [
    "from proveit import Database\n",
    "Database._parse_unique_rep(proof_unique_rep_str_example_03)"
   ]
  },
  {
   "cell_type": "code",
   "execution_count": null,
   "id": "c57c18fe",
   "metadata": {},
   "outputs": [],
   "source": [
    "%end testing"
   ]
  }
 ],
 "metadata": {
  "kernelspec": {
   "display_name": "Python 3",
   "language": "python",
   "name": "python3"
  }
 },
 "nbformat": 4,
 "nbformat_minor": 0
}
