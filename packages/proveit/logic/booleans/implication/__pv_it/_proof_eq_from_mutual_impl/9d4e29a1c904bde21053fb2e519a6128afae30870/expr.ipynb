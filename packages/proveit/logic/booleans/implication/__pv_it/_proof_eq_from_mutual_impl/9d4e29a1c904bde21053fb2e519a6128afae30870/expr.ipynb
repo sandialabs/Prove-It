{
 "cells": [
  {
   "cell_type": "markdown",
   "metadata": {},
   "source": [
    "Expression of type <a class=\"ProveItLink\" href=\"../../../../../../../../doc/html/api/proveit.logic.Implies.html\">Implies</a>\n",
    "=======================\n",
    "# from the theory of <a class=\"ProveItLink\" href=\"../../../_theory_nbs_/theory.ipynb\">proveit.logic.booleans.implication</a>"
   ]
  },
  {
   "cell_type": "code",
   "execution_count": 1,
   "metadata": {},
   "outputs": [],
   "source": [
    "import proveit\n",
    "# Automation is not needed when building an expression:\n",
    "proveit.defaults.automation = False # This will speed things up.\n",
    "proveit.defaults.inline_pngs = False # Makes files smaller.\n",
    "%load_expr # Load the stored expression as 'stored_expr'\n",
    "# import Expression classes needed to build the expression\n",
    "from proveit import A, B\n",
    "from proveit.logic import Boolean, Equals, Forall, Implies"
   ]
  },
  {
   "cell_type": "code",
   "execution_count": 2,
   "metadata": {},
   "outputs": [
    {
     "data": {
      "text/html": [
       "<strong id=\"expr\">expr:</strong> <a class=\"ProveItLink\" href=\"expr.ipynb\"><img src=\"expr.png\" style=\"display:inline;vertical-align:middle;\" /></a><br>"
      ],
      "text/plain": [
       "<IPython.core.display.HTML object>"
      ]
     },
     "metadata": {},
     "output_type": "display_data"
    }
   ],
   "source": [
    "# build up the expression from sub-expressions\n",
    "sub_expr1 = Equals(A, B)\n",
    "sub_expr2 = [Implies(A, B), Implies(B, A)]\n",
    "expr = Implies(Forall(instance_param_or_params = [A], instance_expr = Forall(instance_param_or_params = [B], instance_expr = sub_expr1, domain = Boolean, conditions = sub_expr2), domain = Boolean), Forall(instance_param_or_params = [A, B], instance_expr = sub_expr1, domain = Boolean, conditions = sub_expr2)).with_wrapping_at(1)"
   ]
  },
  {
   "cell_type": "code",
   "execution_count": 3,
   "metadata": {},
   "outputs": [
    {
     "name": "stdout",
     "output_type": "stream",
     "text": [
      "Passed sanity check: expr matches stored_expr\n"
     ]
    }
   ],
   "source": [
    "# check that the built expression is the same as the stored expression\n",
    "assert expr == stored_expr\n",
    "assert expr._style_id == stored_expr._style_id\n",
    "print(\"Passed sanity check: expr matches stored_expr\")"
   ]
  },
  {
   "cell_type": "code",
   "execution_count": 4,
   "metadata": {},
   "outputs": [
    {
     "name": "stdout",
     "output_type": "stream",
     "text": [
      "\\begin{array}{c} \\begin{array}{l} \\left[\\forall_{A \\in \\mathbb{B}}~\\left[\\forall_{B \\in \\mathbb{B}~|~A \\Rightarrow B, B \\Rightarrow A}~\\left(A = B\\right)\\right]\\right] \\\\  \\Rightarrow \\left[\\forall_{A, B \\in \\mathbb{B}~|~A \\Rightarrow B, B \\Rightarrow A}~\\left(A = B\\right)\\right] \\end{array} \\end{array}\n"
     ]
    }
   ],
   "source": [
    "# Show the LaTeX representation of the expression for convenience if you need it.\n",
    "print(stored_expr.latex())"
   ]
  },
  {
   "cell_type": "code",
   "execution_count": 5,
   "metadata": {},
   "outputs": [
    {
     "data": {
      "text/html": [
       "<table>\n",
       "<tr><th>name</th><th>description</th><th>default</th><th>current value</th><th>related methods</th></tr><tr><td>operation</td><td>'infix' or 'function' style formatting</td><td>infix</td><td>infix</td><td></td></tr>\n",
       "<tr><td>wrap_positions</td><td>position(s) at which wrapping is to occur; '2 n - 1' is after the nth operand, '2 n' is after the nth operation.</td><td>()</td><td>(1)</td><td>('with_wrapping_at', 'with_wrap_before_operator', 'with_wrap_after_operator', 'without_wrapping', 'wrap_positions')</td></tr>\n",
       "<tr><td>justification</td><td>if any wrap positions are set, justify to the 'left', 'center', or 'right'</td><td>center</td><td>center</td><td>('with_justification',)</td></tr>\n",
       "<tr><td>direction</td><td>Direction of the relation (normal or reversed)</td><td>normal</td><td>normal</td><td>('with_direction_reversed', 'is_reversed')</td></tr>\n",
       "</table>\n"
      ],
      "text/plain": [
       "style name: operation\n",
       "description: 'infix' or 'function' style formatting\n",
       "default: infix\n",
       "current value: infix\n",
       "related methods: ()\n",
       "style name: wrap_positions\n",
       "description: position(s) at which wrapping is to occur; '2 n - 1' is after the nth operand, '2 n' is after the nth operation.\n",
       "default: ()\n",
       "current value: (1)\n",
       "related methods: ('with_wrapping_at', 'with_wrap_before_operator', 'with_wrap_after_operator', 'without_wrapping', 'wrap_positions')\n",
       "style name: justification\n",
       "description: if any wrap positions are set, justify to the 'left', 'center', or 'right'\n",
       "default: center\n",
       "current value: center\n",
       "related methods: ('with_justification',)\n",
       "style name: direction\n",
       "description: Direction of the relation (normal or reversed)\n",
       "default: normal\n",
       "current value: normal\n",
       "related methods: ('with_direction_reversed', 'is_reversed')"
      ]
     },
     "metadata": {},
     "output_type": "display_data"
    }
   ],
   "source": [
    "stored_expr.style_options()"
   ]
  },
  {
   "cell_type": "code",
   "execution_count": 6,
   "metadata": {},
   "outputs": [
    {
     "data": {
      "text/html": [
       "<table><tr><th>&nbsp;</th><th>core type</th><th>sub-expressions</th><th>expression</th></tr>\n",
       "<tr><td>0</td><td>Operation</td><td>operator:&nbsp;32<br>operands:&nbsp;1<br></td><td><a class=\"ProveItLink\" href=\"expr.ipynb\"><img src=\"expr.png\" style=\"display:inline;vertical-align:middle;\" /></a></td></tr>\n",
       "<tr><td>1</td><td>ExprTuple</td><td>2, 3</td><td><a class=\"ProveItLink\" href=\"../6e06a5ed8d149d386e719cec84d7c7bceeb783380/expr.ipynb\"><img src=\"../6e06a5ed8d149d386e719cec84d7c7bceeb783380/expr.png\" style=\"display:inline;vertical-align:middle;\" /></a></td></tr>\n",
       "<tr><td>2</td><td>Operation</td><td>operator:&nbsp;13<br>operand:&nbsp;6<br></td><td><a class=\"ProveItLink\" href=\"../ff1f2cfda459ebb2b2e6827aea5f32d7bd5fea880/expr.ipynb\"><img src=\"../ff1f2cfda459ebb2b2e6827aea5f32d7bd5fea880/expr.png\" style=\"display:inline;vertical-align:middle;\" /></a></td></tr>\n",
       "<tr><td>3</td><td>Operation</td><td>operator:&nbsp;13<br>operand:&nbsp;7<br></td><td><a class=\"ProveItLink\" href=\"../../theorems/f10a52b8e7a4007b2382936a509145bd26bf96f00/expr.ipynb\"><img src=\"../../theorems/f10a52b8e7a4007b2382936a509145bd26bf96f00/expr.png\" style=\"display:inline;vertical-align:middle;\" /></a></td></tr>\n",
       "<tr><td>4</td><td>ExprTuple</td><td>6</td><td><a class=\"ProveItLink\" href=\"../70edf15067aacfffdb1dd2fb6822dad8d420e5a20/expr.ipynb\"><img src=\"../70edf15067aacfffdb1dd2fb6822dad8d420e5a20/expr.png\" style=\"display:inline;vertical-align:middle;\" /></a></td></tr>\n",
       "<tr><td>5</td><td>ExprTuple</td><td>7</td><td><a class=\"ProveItLink\" href=\"../../theorems/51cb57842853db0b245eb86aeaab95c2d9702d000/expr.ipynb\"><img src=\"../../theorems/51cb57842853db0b245eb86aeaab95c2d9702d000/expr.png\" style=\"display:inline;vertical-align:middle;\" /></a></td></tr>\n",
       "<tr><td>6</td><td>Lambda</td><td>parameter:&nbsp;36<br>body:&nbsp;9<br></td><td><a class=\"ProveItLink\" href=\"../73c4339d97fe838b0dce2dfc45bc1dd09c8b3e660/expr.ipynb\"><img src=\"../73c4339d97fe838b0dce2dfc45bc1dd09c8b3e660/expr.png\" style=\"display:inline;vertical-align:middle;\" /></a></td></tr>\n",
       "<tr><td>7</td><td>Lambda</td><td>parameters:&nbsp;31<br>body:&nbsp;10<br></td><td><a class=\"ProveItLink\" href=\"../../theorems/8f5ff0f033dc58e4002b8a3001e890180ece2dfa0/expr.ipynb\"><img src=\"../../theorems/8f5ff0f033dc58e4002b8a3001e890180ece2dfa0/expr.png\" style=\"display:inline;vertical-align:middle;\" /></a></td></tr>\n",
       "<tr><td>8</td><td>ExprTuple</td><td>36</td><td><a class=\"ProveItLink\" href=\"../../../../../../__pv_it/common/ef995daf83e62aca0bec9d2a94a565bca9a8d1910/expr.ipynb\"><img src=\"../../../../../../__pv_it/common/ef995daf83e62aca0bec9d2a94a565bca9a8d1910/expr.png\" style=\"display:inline;vertical-align:middle;\" /></a></td></tr>\n",
       "<tr><td>9</td><td>Conditional</td><td>value:&nbsp;11<br>condition:&nbsp;17<br></td><td><a class=\"ProveItLink\" href=\"../10a87ce6a11e9d75e6b75d0bf2709fbb103015da0/expr.ipynb\"><img src=\"../10a87ce6a11e9d75e6b75d0bf2709fbb103015da0/expr.png\" style=\"display:inline;vertical-align:middle;\" /></a></td></tr>\n",
       "<tr><td>10</td><td>Conditional</td><td>value:&nbsp;21<br>condition:&nbsp;12<br></td><td><a class=\"ProveItLink\" href=\"../../theorems/0dbde3f56e49c6bdc77df67dc06d4596e55ac8e00/expr.ipynb\"><img src=\"../../theorems/0dbde3f56e49c6bdc77df67dc06d4596e55ac8e00/expr.png\" style=\"display:inline;vertical-align:middle;\" /></a></td></tr>\n",
       "<tr><td>11</td><td>Operation</td><td>operator:&nbsp;13<br>operand:&nbsp;16<br></td><td><a class=\"ProveItLink\" href=\"../e82526f3ef23d64318f2620ddd905e6a6e21dc080/expr.ipynb\"><img src=\"../e82526f3ef23d64318f2620ddd905e6a6e21dc080/expr.png\" style=\"display:inline;vertical-align:middle;\" /></a></td></tr>\n",
       "<tr><td>12</td><td>Operation</td><td>operator:&nbsp;24<br>operands:&nbsp;15<br></td><td><a class=\"ProveItLink\" href=\"../../theorems/f2b898bd1543db2d180e63309af848e11471df060/expr.ipynb\"><img src=\"../../theorems/f2b898bd1543db2d180e63309af848e11471df060/expr.png\" style=\"display:inline;vertical-align:middle;\" /></a></td></tr>\n",
       "<tr><td>13</td><td>Literal</td><td></td><td><a class=\"ProveItLink\" href=\"../../../../quantification/universality/__pv_it/common/083d2baa0b8ecab1d230f9ec29a15aa1355809fb0/expr.ipynb\"><img src=\"../../../../quantification/universality/__pv_it/common/083d2baa0b8ecab1d230f9ec29a15aa1355809fb0/expr.png\" style=\"display:inline;vertical-align:middle;\" /></a></td></tr>\n",
       "<tr><td>14</td><td>ExprTuple</td><td>16</td><td><a class=\"ProveItLink\" href=\"../5a0f3bcbcf0ef5d06ff6787bdc1852b401e7f9500/expr.ipynb\"><img src=\"../5a0f3bcbcf0ef5d06ff6787bdc1852b401e7f9500/expr.png\" style=\"display:inline;vertical-align:middle;\" /></a></td></tr>\n",
       "<tr><td>15</td><td>ExprTuple</td><td>17, 26, 27, 28</td><td><a class=\"ProveItLink\" href=\"../../theorems/13d6cba20c154944f92200df3664396464c668f90/expr.ipynb\"><img src=\"../../theorems/13d6cba20c154944f92200df3664396464c668f90/expr.png\" style=\"display:inline;vertical-align:middle;\" /></a></td></tr>\n",
       "<tr><td>16</td><td>Lambda</td><td>parameter:&nbsp;35<br>body:&nbsp;19<br></td><td><a class=\"ProveItLink\" href=\"../fa970b3316bd8e671500c287f103a1361065d6a20/expr.ipynb\"><img src=\"../fa970b3316bd8e671500c287f103a1361065d6a20/expr.png\" style=\"display:inline;vertical-align:middle;\" /></a></td></tr>\n",
       "<tr><td>17</td><td>Operation</td><td>operator:&nbsp;29<br>operands:&nbsp;20<br></td><td><a class=\"ProveItLink\" href=\"../../theorems/9b36d7235130a6b592c97bb06e5078015c4aa29f0/expr.ipynb\"><img src=\"../../theorems/9b36d7235130a6b592c97bb06e5078015c4aa29f0/expr.png\" style=\"display:inline;vertical-align:middle;\" /></a></td></tr>\n",
       "<tr><td>18</td><td>ExprTuple</td><td>35</td><td><a class=\"ProveItLink\" href=\"../a7ff2e5307eface0f17839b0263ddd504c2c69e40/expr.ipynb\"><img src=\"../a7ff2e5307eface0f17839b0263ddd504c2c69e40/expr.png\" style=\"display:inline;vertical-align:middle;\" /></a></td></tr>\n",
       "<tr><td>19</td><td>Conditional</td><td>value:&nbsp;21<br>condition:&nbsp;22<br></td><td><a class=\"ProveItLink\" href=\"../b20093ee4b21084b53b939b5707b353ecf466ba70/expr.ipynb\"><img src=\"../b20093ee4b21084b53b939b5707b353ecf466ba70/expr.png\" style=\"display:inline;vertical-align:middle;\" /></a></td></tr>\n",
       "<tr><td>20</td><td>ExprTuple</td><td>36, 34</td><td><a class=\"ProveItLink\" href=\"../../theorems/a127b67d6fcf2b758c6caef10ddcbab4c31e02f40/expr.ipynb\"><img src=\"../../theorems/a127b67d6fcf2b758c6caef10ddcbab4c31e02f40/expr.png\" style=\"display:inline;vertical-align:middle;\" /></a></td></tr>\n",
       "<tr><td>21</td><td>Operation</td><td>operator:&nbsp;23<br>operands:&nbsp;31<br></td><td><a class=\"ProveItLink\" href=\"../../theorems/f499420995aa101afb63b56c7e1317b0571a23ed0/expr.ipynb\"><img src=\"../../theorems/f499420995aa101afb63b56c7e1317b0571a23ed0/expr.png\" style=\"display:inline;vertical-align:middle;\" /></a></td></tr>\n",
       "<tr><td>22</td><td>Operation</td><td>operator:&nbsp;24<br>operands:&nbsp;25<br></td><td><a class=\"ProveItLink\" href=\"../896e8ede03f26766bbf08192a56901edb06b2d850/expr.ipynb\"><img src=\"../896e8ede03f26766bbf08192a56901edb06b2d850/expr.png\" style=\"display:inline;vertical-align:middle;\" /></a></td></tr>\n",
       "<tr><td>23</td><td>Literal</td><td></td><td><a class=\"ProveItLink\" href=\"../../../../../equality/__pv_it/common/fb96dc12b2aa8801dda64d0132b396c63d1502bb0/expr.ipynb\"><img src=\"../../../../../equality/__pv_it/common/fb96dc12b2aa8801dda64d0132b396c63d1502bb0/expr.png\" style=\"display:inline;vertical-align:middle;\" /></a></td></tr>\n",
       "<tr><td>24</td><td>Literal</td><td></td><td><a class=\"ProveItLink\" href=\"../../../../conjunction/__pv_it/common/42118ff318bd65d98b1393f64ce7c2269feef76e0/expr.ipynb\"><img src=\"../../../../conjunction/__pv_it/common/42118ff318bd65d98b1393f64ce7c2269feef76e0/expr.png\" style=\"display:inline;vertical-align:middle;\" /></a></td></tr>\n",
       "<tr><td>25</td><td>ExprTuple</td><td>26, 27, 28</td><td><a class=\"ProveItLink\" href=\"../f00398512da5533512d05a71da366d04745a58860/expr.ipynb\"><img src=\"../f00398512da5533512d05a71da366d04745a58860/expr.png\" style=\"display:inline;vertical-align:middle;\" /></a></td></tr>\n",
       "<tr><td>26</td><td>Operation</td><td>operator:&nbsp;29<br>operands:&nbsp;30<br></td><td><a class=\"ProveItLink\" href=\"../../theorems/c50b73f2d168f6a3012768bd45c62ea92218bcbc0/expr.ipynb\"><img src=\"../../theorems/c50b73f2d168f6a3012768bd45c62ea92218bcbc0/expr.png\" style=\"display:inline;vertical-align:middle;\" /></a></td></tr>\n",
       "<tr><td>27</td><td>Operation</td><td>operator:&nbsp;32<br>operands:&nbsp;31<br></td><td><a class=\"ProveItLink\" href=\"../../theorems/d78c7a0a66f0f0f40e69d505fb93268ea9af46dc0/expr.ipynb\"><img src=\"../../theorems/d78c7a0a66f0f0f40e69d505fb93268ea9af46dc0/expr.png\" style=\"display:inline;vertical-align:middle;\" /></a></td></tr>\n",
       "<tr><td>28</td><td>Operation</td><td>operator:&nbsp;32<br>operands:&nbsp;33<br></td><td><a class=\"ProveItLink\" href=\"../../theorems/dd5a6fa797dcaf2dec856fef9be29bef6326bd0c0/expr.ipynb\"><img src=\"../../theorems/dd5a6fa797dcaf2dec856fef9be29bef6326bd0c0/expr.png\" style=\"display:inline;vertical-align:middle;\" /></a></td></tr>\n",
       "<tr><td>29</td><td>Literal</td><td></td><td><a class=\"ProveItLink\" href=\"../../../../../sets/membership/__pv_it/common/477487d8796864d23d5810f83761435f25167f690/expr.ipynb\"><img src=\"../../../../../sets/membership/__pv_it/common/477487d8796864d23d5810f83761435f25167f690/expr.png\" style=\"display:inline;vertical-align:middle;\" /></a></td></tr>\n",
       "<tr><td>30</td><td>ExprTuple</td><td>35, 34</td><td><a class=\"ProveItLink\" href=\"../../theorems/5e8e479d9a496304ae582f3d8c5c79a5903c707c0/expr.ipynb\"><img src=\"../../theorems/5e8e479d9a496304ae582f3d8c5c79a5903c707c0/expr.png\" style=\"display:inline;vertical-align:middle;\" /></a></td></tr>\n",
       "<tr><td>31</td><td>ExprTuple</td><td>36, 35</td><td><a class=\"ProveItLink\" href=\"../../theorems/e791ee87807ed43d7ac6262f8f70c4ffc8f24c940/expr.ipynb\"><img src=\"../../theorems/e791ee87807ed43d7ac6262f8f70c4ffc8f24c940/expr.png\" style=\"display:inline;vertical-align:middle;\" /></a></td></tr>\n",
       "<tr><td>32</td><td>Literal</td><td></td><td><a class=\"ProveItLink\" href=\"../../common/02bdb382575728da8cdbaed545b9096ea7a1bd5b0/expr.ipynb\"><img src=\"../../common/02bdb382575728da8cdbaed545b9096ea7a1bd5b0/expr.png\" style=\"display:inline;vertical-align:middle;\" /></a></td></tr>\n",
       "<tr><td>33</td><td>ExprTuple</td><td>35, 36</td><td><a class=\"ProveItLink\" href=\"../../theorems/eea868dfdc76ebd2b3c14c306a89babeb4ac740d0/expr.ipynb\"><img src=\"../../theorems/eea868dfdc76ebd2b3c14c306a89babeb4ac740d0/expr.png\" style=\"display:inline;vertical-align:middle;\" /></a></td></tr>\n",
       "<tr><td>34</td><td>Literal</td><td></td><td><a class=\"ProveItLink\" href=\"../../../../__pv_it/common/97424376de9815ad99f7180e3191b1cf4ab2a5710/expr.ipynb\"><img src=\"../../../../__pv_it/common/97424376de9815ad99f7180e3191b1cf4ab2a5710/expr.png\" style=\"display:inline;vertical-align:middle;\" /></a></td></tr>\n",
       "<tr><td>35</td><td>Variable</td><td></td><td><a class=\"ProveItLink\" href=\"../../../../../../__pv_it/common/a9162d1c3cc0470c02e5daf414500903a7a419230/expr.ipynb\"><img src=\"../../../../../../__pv_it/common/a9162d1c3cc0470c02e5daf414500903a7a419230/expr.png\" style=\"display:inline;vertical-align:middle;\" /></a></td></tr>\n",
       "<tr><td>36</td><td>Variable</td><td></td><td><a class=\"ProveItLink\" href=\"../../../../../../__pv_it/common/09585084922504426caf1db2ff588a23a0932a960/expr.ipynb\"><img src=\"../../../../../../__pv_it/common/09585084922504426caf1db2ff588a23a0932a960/expr.png\" style=\"display:inline;vertical-align:middle;\" /></a></td></tr>\n",
       "</table>\n"
      ],
      "text/plain": [
       "0. [forall_{A in BOOLEAN} [forall_{B in BOOLEAN | A => B, B => A} (A = B)]] \\\\  => [forall_{A, B in BOOLEAN | A => B, B => A} (A = B)]\n",
       "   core type: Operation\n",
       "   operator: 32\n",
       "   operands: 1\n",
       "1. (forall_{A in BOOLEAN} [forall_{B in BOOLEAN | A => B, B => A} (A = B)], forall_{A, B in BOOLEAN | A => B, B => A} (A = B))\n",
       "   core type: ExprTuple\n",
       "   sub-expressions: 2, 3\n",
       "2. forall_{A in BOOLEAN} [forall_{B in BOOLEAN | A => B, B => A} (A = B)]\n",
       "   core type: Operation\n",
       "   operator: 13\n",
       "   operand: 6\n",
       "3. forall_{A, B in BOOLEAN | A => B, B => A} (A = B)\n",
       "   core type: Operation\n",
       "   operator: 13\n",
       "   operand: 7\n",
       "4. (A -> {forall_{B in BOOLEAN | A => B, B => A} (A = B) if A in BOOLEAN.)\n",
       "   core type: ExprTuple\n",
       "   sub-expressions: 6\n",
       "5. ((A, B) -> {A = B if A in BOOLEAN ,  B in BOOLEAN ,  A => B ,  B => A.)\n",
       "   core type: ExprTuple\n",
       "   sub-expressions: 7\n",
       "6. A -> {forall_{B in BOOLEAN | A => B, B => A} (A = B) if A in BOOLEAN.\n",
       "   core type: Lambda\n",
       "   parameter: 36\n",
       "   body: 9\n",
       "7. (A, B) -> {A = B if A in BOOLEAN ,  B in BOOLEAN ,  A => B ,  B => A.\n",
       "   core type: Lambda\n",
       "   parameters: 31\\n   body: 10\n",
       "8. (A)\n",
       "   core type: ExprTuple\n",
       "   sub-expressions: 36\n",
       "9. {forall_{B in BOOLEAN | A => B, B => A} (A = B) if A in BOOLEAN.\n",
       "   core type: Conditional\n",
       "   value: 11\n",
       "   condition: 17\n",
       "10. {A = B if A in BOOLEAN ,  B in BOOLEAN ,  A => B ,  B => A.\n",
       "    core type: Conditional\n",
       "    value: 21\n",
       "    condition: 12\n",
       "11. forall_{B in BOOLEAN | A => B, B => A} (A = B)\n",
       "    core type: Operation\n",
       "    operator: 13\n",
       "    operand: 16\n",
       "12. (A in BOOLEAN) and (B in BOOLEAN) and (A => B) and (B => A)\n",
       "    core type: Operation\n",
       "    operator: 24\n",
       "    operands: 15\n",
       "13. forall\n",
       "    core type: Literal\n",
       "    sub-expressions: \n",
       "14. (B -> {A = B if B in BOOLEAN ,  A => B ,  B => A.)\n",
       "    core type: ExprTuple\n",
       "    sub-expressions: 16\n",
       "15. (A in BOOLEAN, B in BOOLEAN, A => B, B => A)\n",
       "    core type: ExprTuple\n",
       "    sub-expressions: 17, 26, 27, 28\n",
       "16. B -> {A = B if B in BOOLEAN ,  A => B ,  B => A.\n",
       "    core type: Lambda\n",
       "    parameter: 35\n",
       "    body: 19\n",
       "17. A in BOOLEAN\n",
       "    core type: Operation\n",
       "    operator: 29\n",
       "    operands: 20\n",
       "18. (B)\n",
       "    core type: ExprTuple\n",
       "    sub-expressions: 35\n",
       "19. {A = B if B in BOOLEAN ,  A => B ,  B => A.\n",
       "    core type: Conditional\n",
       "    value: 21\n",
       "    condition: 22\n",
       "20. (A, BOOLEAN)\n",
       "    core type: ExprTuple\n",
       "    sub-expressions: 36, 34\n",
       "21. A = B\n",
       "    core type: Operation\n",
       "    operator: 23\n",
       "    operands: 31\n",
       "22. (B in BOOLEAN) and (A => B) and (B => A)\n",
       "    core type: Operation\n",
       "    operator: 24\n",
       "    operands: 25\n",
       "23. =\n",
       "    core type: Literal\n",
       "    sub-expressions: \n",
       "24. and\n",
       "    core type: Literal\n",
       "    sub-expressions: \n",
       "25. (B in BOOLEAN, A => B, B => A)\n",
       "    core type: ExprTuple\n",
       "    sub-expressions: 26, 27, 28\n",
       "26. B in BOOLEAN\n",
       "    core type: Operation\n",
       "    operator: 29\n",
       "    operands: 30\n",
       "27. A => B\n",
       "    core type: Operation\n",
       "    operator: 32\n",
       "    operands: 31\n",
       "28. B => A\n",
       "    core type: Operation\n",
       "    operator: 32\n",
       "    operands: 33\n",
       "29. in\n",
       "    core type: Literal\n",
       "    sub-expressions: \n",
       "30. (B, BOOLEAN)\n",
       "    core type: ExprTuple\n",
       "    sub-expressions: 35, 34\n",
       "31. (A, B)\n",
       "    core type: ExprTuple\n",
       "    sub-expressions: 36, 35\n",
       "32. =>\n",
       "    core type: Literal\n",
       "    sub-expressions: \n",
       "33. (B, A)\n",
       "    core type: ExprTuple\n",
       "    sub-expressions: 35, 36\n",
       "34. BOOLEAN\n",
       "    core type: Literal\n",
       "    sub-expressions: \n",
       "35. B\n",
       "    core type: Variable\n",
       "    sub-expressions: \n",
       "36. A\n",
       "    core type: Variable\n",
       "    sub-expressions: "
      ]
     },
     "metadata": {},
     "output_type": "display_data"
    }
   ],
   "source": [
    "# display the expression information\n",
    "stored_expr.expr_info()"
   ]
  },
  {
   "cell_type": "code",
   "execution_count": null,
   "metadata": {},
   "outputs": [],
   "source": []
  }
 ],
 "metadata": {
  "kernelspec": {
   "display_name": "Python 3",
   "language": "python",
   "name": "python3"
  }
 },
 "nbformat": 4,
 "nbformat_minor": 0
}