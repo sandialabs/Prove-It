{
 "cells": [
  {
   "cell_type": "markdown",
   "metadata": {},
   "source": [
    "Theorem Dependencies\n",
    "=======================\n",
    "\n",
    "## <a class=\"ProveItLink\" href=\"../../../_theory_nbs_/theory.ipynb\">proveit.logic.booleans.implication</a>.<a class=\"ProveItLink\" href=\"../../../_theorems_.ipynb#falsified_antecedent_implication\">falsified_antecedent_implication</a> \n",
    "***see <a class=\"ProveItLink\" href=\"../../../_theory_nbs_/proofs/falsified_antecedent_implication/thm_proof.ipynb\">proof</a>***"
   ]
  },
  {
   "cell_type": "code",
   "execution_count": 1,
   "metadata": {},
   "outputs": [],
   "source": [
    "import proveit\n",
    "# Automation is not needed when querying dependencies:\n",
    "proveit.defaults.automation = False # This will speed things up.\n",
    "proveit.defaults.inline_pngs = False # Makes files smaller.\n",
    "from proveit.logic.booleans.implication import falsified_antecedent_implication"
   ]
  },
  {
   "cell_type": "code",
   "execution_count": 2,
   "metadata": {},
   "outputs": [
    {
     "data": {
      "text/html": [
       "<h3>Axioms required (directly or indirectly) to prove falsified_antecedent_implication</h3>"
      ],
      "text/plain": [
       "<IPython.core.display.HTML object>"
      ]
     },
     "metadata": {},
     "output_type": "display_data"
    },
    {
     "data": {
      "text/html": [
       "<dl>"
      ],
      "text/plain": [
       "<IPython.core.display.HTML object>"
      ]
     },
     "metadata": {},
     "output_type": "display_data"
    },
    {
     "data": {
      "text/html": [
       "<dt><a class=\"ProveItLink\" href=\"../../../../_theory_nbs_/axioms.ipynb#eq_true_elim\">proveit.logic.booleans.eq_true_elim</a></dt><dd><a class=\"ProveItLink\" href=\"../../../../__pv_it/axioms/e109ec75dbf9febf42e2a6841bae9d9b810afe380/expr.ipynb\"><img src=\"../../../../__pv_it/axioms/e109ec75dbf9febf42e2a6841bae9d9b810afe380/expr.png\" style=\"display:inline;vertical-align:middle;\" /></a></dd>"
      ],
      "text/plain": [
       "<IPython.core.display.HTML object>"
      ]
     },
     "metadata": {},
     "output_type": "display_data"
    },
    {
     "data": {
      "text/html": [
       "<dt><a class=\"ProveItLink\" href=\"../../../../_theory_nbs_/axioms.ipynb#eq_true_intro\">proveit.logic.booleans.eq_true_intro</a></dt><dd><a class=\"ProveItLink\" href=\"../../../../__pv_it/axioms/af7fcd0228bc2f434dd8febb9d8c4f56a07241be0/expr.ipynb\"><img src=\"../../../../__pv_it/axioms/af7fcd0228bc2f434dd8febb9d8c4f56a07241be0/expr.png\" style=\"display:inline;vertical-align:middle;\" /></a></dd>"
      ],
      "text/plain": [
       "<IPython.core.display.HTML object>"
      ]
     },
     "metadata": {},
     "output_type": "display_data"
    },
    {
     "data": {
      "text/html": [
       "<dt><a class=\"ProveItLink\" href=\"../../../_theory_nbs_/axioms.ipynb#affirmation_via_contradiction\">proveit.logic.booleans.implication.affirmation_via_contradiction</a></dt><dd><a class=\"ProveItLink\" href=\"../../axioms/e370e39221e2813384746423b62d6484d70717460/expr.ipynb\"><img src=\"../../axioms/e370e39221e2813384746423b62d6484d70717460/expr.png\" style=\"display:inline;vertical-align:middle;\" /></a></dd>"
      ],
      "text/plain": [
       "<IPython.core.display.HTML object>"
      ]
     },
     "metadata": {},
     "output_type": "display_data"
    },
    {
     "data": {
      "text/html": [
       "<dt><a class=\"ProveItLink\" href=\"../../../../negation/_theory_nbs_/axioms.ipynb#not_t\">proveit.logic.booleans.negation.not_t</a></dt><dd><a class=\"ProveItLink\" href=\"../../../../negation/__pv_it/axioms/fa3556271013b3b54b7b75b637f6a18a1772897d0/expr.ipynb\"><img src=\"../../../../negation/__pv_it/axioms/fa3556271013b3b54b7b75b637f6a18a1772897d0/expr.png\" style=\"display:inline;vertical-align:middle;\" /></a></dd>"
      ],
      "text/plain": [
       "<IPython.core.display.HTML object>"
      ]
     },
     "metadata": {},
     "output_type": "display_data"
    },
    {
     "data": {
      "text/html": [
       "<dt><a class=\"ProveItLink\" href=\"../../../../../equality/_theory_nbs_/axioms.ipynb#equality_in_bool\">proveit.logic.equality.equality_in_bool</a></dt><dd><a class=\"ProveItLink\" href=\"../../../../../equality/__pv_it/axioms/80c61ed0a9ea703286def3ed4e81641a1e239b430/expr.ipynb\"><img src=\"../../../../../equality/__pv_it/axioms/80c61ed0a9ea703286def3ed4e81641a1e239b430/expr.png\" style=\"display:inline;vertical-align:middle;\" /></a></dd>"
      ],
      "text/plain": [
       "<IPython.core.display.HTML object>"
      ]
     },
     "metadata": {},
     "output_type": "display_data"
    },
    {
     "data": {
      "text/html": [
       "<dt><a class=\"ProveItLink\" href=\"../../../../../equality/_theory_nbs_/axioms.ipynb#equals_symmetry\">proveit.logic.equality.equals_symmetry</a></dt><dd><a class=\"ProveItLink\" href=\"../../../../../equality/__pv_it/axioms/789c834568adff331f7b46a8f81cd1f96d48c8060/expr.ipynb\"><img src=\"../../../../../equality/__pv_it/axioms/789c834568adff331f7b46a8f81cd1f96d48c8060/expr.png\" style=\"display:inline;vertical-align:middle;\" /></a></dd>"
      ],
      "text/plain": [
       "<IPython.core.display.HTML object>"
      ]
     },
     "metadata": {},
     "output_type": "display_data"
    },
    {
     "data": {
      "text/html": [
       "<dt><a class=\"ProveItLink\" href=\"../../../../../equality/_theory_nbs_/axioms.ipynb#equals_transitivity\">proveit.logic.equality.equals_transitivity</a></dt><dd><a class=\"ProveItLink\" href=\"../../../../../equality/__pv_it/axioms/b5b3cf1e74e7e4fc2d5f197f08b661e6992950090/expr.ipynb\"><img src=\"../../../../../equality/__pv_it/axioms/b5b3cf1e74e7e4fc2d5f197f08b661e6992950090/expr.png\" style=\"display:inline;vertical-align:middle;\" /></a></dd>"
      ],
      "text/plain": [
       "<IPython.core.display.HTML object>"
      ]
     },
     "metadata": {},
     "output_type": "display_data"
    },
    {
     "data": {
      "text/html": [
       "<dt><a class=\"ProveItLink\" href=\"../../../../../equality/_theory_nbs_/axioms.ipynb#substitution\">proveit.logic.equality.substitution</a></dt><dd><a class=\"ProveItLink\" href=\"../../../../../equality/__pv_it/axioms/b3647e5bced6c805148d96be1aa0946871a946d20/expr.ipynb\"><img src=\"../../../../../equality/__pv_it/axioms/b3647e5bced6c805148d96be1aa0946871a946d20/expr.png\" style=\"display:inline;vertical-align:middle;\" /></a></dd>"
      ],
      "text/plain": [
       "<IPython.core.display.HTML object>"
      ]
     },
     "metadata": {},
     "output_type": "display_data"
    },
    {
     "data": {
      "text/html": [
       "</dl>"
      ],
      "text/plain": [
       "<IPython.core.display.HTML object>"
      ]
     },
     "metadata": {},
     "output_type": "display_data"
    },
    {
     "data": {
      "text/html": [
       "<h3>Theorems/conjectures that depend directly on falsified_antecedent_implication</h3>"
      ],
      "text/plain": [
       "<IPython.core.display.HTML object>"
      ]
     },
     "metadata": {},
     "output_type": "display_data"
    },
    {
     "data": {
      "text/html": [
       "<dl>"
      ],
      "text/plain": [
       "<IPython.core.display.HTML object>"
      ]
     },
     "metadata": {},
     "output_type": "display_data"
    },
    {
     "data": {
      "text/html": [
       "<dt><a class=\"ProveItLink\" href=\"../../../../conjunction/_theory_nbs_/proofs/nand_if_not_left/thm_proof.ipynb\">proveit.logic.booleans.conjunction.nand_if_not_left</a></dt><dd><a class=\"ProveItLink\" href=\"../../../../conjunction/__pv_it/theorems/d1a8d850df39db46e655bd55dea2076f61270d090/expr.ipynb\"><img src=\"../../../../conjunction/__pv_it/theorems/d1a8d850df39db46e655bd55dea2076f61270d090/expr.png\" style=\"display:inline;vertical-align:middle;\" /></a></dd>"
      ],
      "text/plain": [
       "<IPython.core.display.HTML object>"
      ]
     },
     "metadata": {},
     "output_type": "display_data"
    },
    {
     "data": {
      "text/html": [
       "<dt><a class=\"ProveItLink\" href=\"../../../../disjunction/_theory_nbs_/proofs/demorgans_law_and_to_or_bin_explicit/thm_proof.ipynb\">proveit.logic.booleans.disjunction.demorgans_law_and_to_or_bin_explicit</a></dt><dd><a class=\"ProveItLink\" href=\"../../../../disjunction/__pv_it/theorems/23b797b1f949e11ccaae46b16e1a7b526c0743dd0/expr.ipynb\"><img src=\"../../../../disjunction/__pv_it/theorems/23b797b1f949e11ccaae46b16e1a7b526c0743dd0/expr.png\" style=\"display:inline;vertical-align:middle;\" /></a></dd>"
      ],
      "text/plain": [
       "<IPython.core.display.HTML object>"
      ]
     },
     "metadata": {},
     "output_type": "display_data"
    },
    {
     "data": {
      "text/html": [
       "<dt><a class=\"ProveItLink\" href=\"../../../_theory_nbs_/proofs/eq_from_iff/thm_proof.ipynb\">proveit.logic.booleans.implication.eq_from_iff</a></dt><dd><a class=\"ProveItLink\" href=\"../94b3684bf36fa23b87838182d9d4aa33823135890/expr.ipynb\"><img src=\"../94b3684bf36fa23b87838182d9d4aa33823135890/expr.png\" style=\"display:inline;vertical-align:middle;\" /></a></dd>"
      ],
      "text/plain": [
       "<IPython.core.display.HTML object>"
      ]
     },
     "metadata": {},
     "output_type": "display_data"
    },
    {
     "data": {
      "text/html": [
       "<dt><a class=\"ProveItLink\" href=\"../../../../negation/_theory_nbs_/proofs/double_negation_elim_lemma/thm_proof.ipynb\">proveit.logic.booleans.negation.double_negation_elim_lemma</a></dt><dd><a class=\"ProveItLink\" href=\"../../../../negation/__pv_it/theorems/a427462f8899f8227e2e33f72f4eda719ef6d48c0/expr.ipynb\"><img src=\"../../../../negation/__pv_it/theorems/a427462f8899f8227e2e33f72f4eda719ef6d48c0/expr.png\" style=\"display:inline;vertical-align:middle;\" /></a></dd>"
      ],
      "text/plain": [
       "<IPython.core.display.HTML object>"
      ]
     },
     "metadata": {},
     "output_type": "display_data"
    },
    {
     "data": {
      "text/html": [
       "</dl>"
      ],
      "text/plain": [
       "<IPython.core.display.HTML object>"
      ]
     },
     "metadata": {},
     "output_type": "display_data"
    }
   ],
   "source": [
    "%dependencies falsified_antecedent_implication"
   ]
  }
 ],
 "metadata": {
  "kernelspec": {
   "display_name": "Python 3",
   "language": "python",
   "name": "python3"
  }
 },
 "nbformat": 4,
 "nbformat_minor": 0
}