{
 "cells": [
  {
   "cell_type": "markdown",
   "metadata": {},
   "source": [
    "Theorem <a class=\"ProveItLink\" href=\"../../../_theorems_.ipynb#eq_from_mutual_impl\">eq_from_mutual_impl</a> of type <a class=\"ProveItLink\" href=\"../../../../../../../../doc/html/api/proveit.logic.Forall.html\">Forall</a>\n",
    "=======================\n",
    "# from the theory of <a class=\"ProveItLink\" href=\"../../../_theory_nbs_/theory.ipynb\">proveit.logic.booleans.implication</a>\n",
    "*** see <a class=\"ProveItLink\" href=\"dependencies.ipynb\">dependencies</a> ***"
   ]
  },
  {
   "cell_type": "code",
   "execution_count": 1,
   "metadata": {},
   "outputs": [],
   "source": [
    "import proveit\n",
    "# Automation is not needed when only building an expression:\n",
    "proveit.defaults.automation = False # This will speed things up.\n",
    "proveit.defaults.inline_pngs = False # Makes files smaller.\n",
    "%load_theorem_expr # Load the stored theorem expression as 'stored_expr'\n",
    "# import the special expression\n",
    "from proveit.logic.booleans.implication import eq_from_mutual_impl"
   ]
  },
  {
   "cell_type": "code",
   "execution_count": 2,
   "metadata": {},
   "outputs": [
    {
     "name": "stdout",
     "output_type": "stream",
     "text": [
      "Passed sanity check: eq_from_mutual_impl matches stored_expr\n"
     ]
    }
   ],
   "source": [
    "# check that the built expression is the same as the stored expression\n",
    "assert eq_from_mutual_impl.expr == stored_expr\n",
    "assert eq_from_mutual_impl.expr._style_id == stored_expr._style_id\n",
    "print(\"Passed sanity check: eq_from_mutual_impl matches stored_expr\")"
   ]
  },
  {
   "cell_type": "code",
   "execution_count": 3,
   "metadata": {},
   "outputs": [
    {
     "name": "stdout",
     "output_type": "stream",
     "text": [
      "\\forall_{A, B \\in \\mathbb{B}~|~A \\Rightarrow B, B \\Rightarrow A}~\\left(A = B\\right)\n"
     ]
    }
   ],
   "source": [
    "# Show the LaTeX representation of the expression for convenience if you need it.\n",
    "print(stored_expr.latex())"
   ]
  },
  {
   "cell_type": "code",
   "execution_count": 4,
   "metadata": {},
   "outputs": [
    {
     "data": {
      "text/html": [
       "<table>\n",
       "<tr><th>name</th><th>description</th><th>default</th><th>current value</th><th>related methods</th></tr><tr><td>with_wrapping</td><td>If 'True', wrap the Expression after the parameters</td><td>None</td><td>None/False</td><td>('with_wrapping',)</td></tr>\n",
       "<tr><td>condition_wrapping</td><td>Wrap 'before' or 'after' the condition (or None).</td><td>None</td><td>None/False</td><td>('with_wrap_after_condition', 'with_wrap_before_condition')</td></tr>\n",
       "<tr><td>wrap_params</td><td>If 'True', wraps every two parameters AND wraps the Expression after the parameters</td><td>None</td><td>None/False</td><td>('with_params',)</td></tr>\n",
       "<tr><td>justification</td><td>justify to the 'left', 'center', or 'right' in the array cells</td><td>center</td><td>center</td><td>('with_justification',)</td></tr>\n",
       "</table>\n"
      ],
      "text/plain": [
       "style name: with_wrapping\n",
       "description: If 'True', wrap the Expression after the parameters\n",
       "default: None\n",
       "current value: None/False\n",
       "related methods: ('with_wrapping',)\n",
       "style name: condition_wrapping\n",
       "description: Wrap 'before' or 'after' the condition (or None).\n",
       "default: None\n",
       "current value: None/False\n",
       "related methods: ('with_wrap_after_condition', 'with_wrap_before_condition')\n",
       "style name: wrap_params\n",
       "description: If 'True', wraps every two parameters AND wraps the Expression after the parameters\n",
       "default: None\n",
       "current value: None/False\n",
       "related methods: ('with_params',)\n",
       "style name: justification\n",
       "description: justify to the 'left', 'center', or 'right' in the array cells\n",
       "default: center\n",
       "current value: center\n",
       "related methods: ('with_justification',)"
      ]
     },
     "metadata": {},
     "output_type": "display_data"
    }
   ],
   "source": [
    "stored_expr.style_options()"
   ]
  },
  {
   "cell_type": "code",
   "execution_count": 5,
   "metadata": {},
   "outputs": [
    {
     "data": {
      "text/html": [
       "<table><tr><th>&nbsp;</th><th>core type</th><th>sub-expressions</th><th>expression</th></tr>\n",
       "<tr><td>0</td><td>Operation</td><td>operator:&nbsp;1<br>operand:&nbsp;3<br></td><td><a class=\"ProveItLink\" href=\"../f10a52b8e7a4007b2382936a509145bd26bf96f00/expr.ipynb\"><img src=\"../f10a52b8e7a4007b2382936a509145bd26bf96f00/expr.png\" style=\"display:inline;vertical-align:middle;\" /></a></td></tr>\n",
       "<tr><td>1</td><td>Literal</td><td></td><td><a class=\"ProveItLink\" href=\"../../../../quantification/universality/__pv_it/common/083d2baa0b8ecab1d230f9ec29a15aa1355809fb0/expr.ipynb\"><img src=\"../../../../quantification/universality/__pv_it/common/083d2baa0b8ecab1d230f9ec29a15aa1355809fb0/expr.png\" style=\"display:inline;vertical-align:middle;\" /></a></td></tr>\n",
       "<tr><td>2</td><td>ExprTuple</td><td>3</td><td><a class=\"ProveItLink\" href=\"../51cb57842853db0b245eb86aeaab95c2d9702d000/expr.ipynb\"><img src=\"../51cb57842853db0b245eb86aeaab95c2d9702d000/expr.png\" style=\"display:inline;vertical-align:middle;\" /></a></td></tr>\n",
       "<tr><td>3</td><td>Lambda</td><td>parameters:&nbsp;17<br>body:&nbsp;4<br></td><td><a class=\"ProveItLink\" href=\"../8f5ff0f033dc58e4002b8a3001e890180ece2dfa0/expr.ipynb\"><img src=\"../8f5ff0f033dc58e4002b8a3001e890180ece2dfa0/expr.png\" style=\"display:inline;vertical-align:middle;\" /></a></td></tr>\n",
       "<tr><td>4</td><td>Conditional</td><td>value:&nbsp;5<br>condition:&nbsp;6<br></td><td><a class=\"ProveItLink\" href=\"../0dbde3f56e49c6bdc77df67dc06d4596e55ac8e00/expr.ipynb\"><img src=\"../0dbde3f56e49c6bdc77df67dc06d4596e55ac8e00/expr.png\" style=\"display:inline;vertical-align:middle;\" /></a></td></tr>\n",
       "<tr><td>5</td><td>Operation</td><td>operator:&nbsp;7<br>operands:&nbsp;17<br></td><td><a class=\"ProveItLink\" href=\"../f499420995aa101afb63b56c7e1317b0571a23ed0/expr.ipynb\"><img src=\"../f499420995aa101afb63b56c7e1317b0571a23ed0/expr.png\" style=\"display:inline;vertical-align:middle;\" /></a></td></tr>\n",
       "<tr><td>6</td><td>Operation</td><td>operator:&nbsp;8<br>operands:&nbsp;9<br></td><td><a class=\"ProveItLink\" href=\"../f2b898bd1543db2d180e63309af848e11471df060/expr.ipynb\"><img src=\"../f2b898bd1543db2d180e63309af848e11471df060/expr.png\" style=\"display:inline;vertical-align:middle;\" /></a></td></tr>\n",
       "<tr><td>7</td><td>Literal</td><td></td><td><a class=\"ProveItLink\" href=\"../../../../../equality/__pv_it/common/fb96dc12b2aa8801dda64d0132b396c63d1502bb0/expr.ipynb\"><img src=\"../../../../../equality/__pv_it/common/fb96dc12b2aa8801dda64d0132b396c63d1502bb0/expr.png\" style=\"display:inline;vertical-align:middle;\" /></a></td></tr>\n",
       "<tr><td>8</td><td>Literal</td><td></td><td><a class=\"ProveItLink\" href=\"../../../../conjunction/__pv_it/common/42118ff318bd65d98b1393f64ce7c2269feef76e0/expr.ipynb\"><img src=\"../../../../conjunction/__pv_it/common/42118ff318bd65d98b1393f64ce7c2269feef76e0/expr.png\" style=\"display:inline;vertical-align:middle;\" /></a></td></tr>\n",
       "<tr><td>9</td><td>ExprTuple</td><td>10, 11, 12, 13</td><td><a class=\"ProveItLink\" href=\"../13d6cba20c154944f92200df3664396464c668f90/expr.ipynb\"><img src=\"../13d6cba20c154944f92200df3664396464c668f90/expr.png\" style=\"display:inline;vertical-align:middle;\" /></a></td></tr>\n",
       "<tr><td>10</td><td>Operation</td><td>operator:&nbsp;15<br>operands:&nbsp;14<br></td><td><a class=\"ProveItLink\" href=\"../9b36d7235130a6b592c97bb06e5078015c4aa29f0/expr.ipynb\"><img src=\"../9b36d7235130a6b592c97bb06e5078015c4aa29f0/expr.png\" style=\"display:inline;vertical-align:middle;\" /></a></td></tr>\n",
       "<tr><td>11</td><td>Operation</td><td>operator:&nbsp;15<br>operands:&nbsp;16<br></td><td><a class=\"ProveItLink\" href=\"../c50b73f2d168f6a3012768bd45c62ea92218bcbc0/expr.ipynb\"><img src=\"../c50b73f2d168f6a3012768bd45c62ea92218bcbc0/expr.png\" style=\"display:inline;vertical-align:middle;\" /></a></td></tr>\n",
       "<tr><td>12</td><td>Operation</td><td>operator:&nbsp;18<br>operands:&nbsp;17<br></td><td><a class=\"ProveItLink\" href=\"../d78c7a0a66f0f0f40e69d505fb93268ea9af46dc0/expr.ipynb\"><img src=\"../d78c7a0a66f0f0f40e69d505fb93268ea9af46dc0/expr.png\" style=\"display:inline;vertical-align:middle;\" /></a></td></tr>\n",
       "<tr><td>13</td><td>Operation</td><td>operator:&nbsp;18<br>operands:&nbsp;19<br></td><td><a class=\"ProveItLink\" href=\"../dd5a6fa797dcaf2dec856fef9be29bef6326bd0c0/expr.ipynb\"><img src=\"../dd5a6fa797dcaf2dec856fef9be29bef6326bd0c0/expr.png\" style=\"display:inline;vertical-align:middle;\" /></a></td></tr>\n",
       "<tr><td>14</td><td>ExprTuple</td><td>22, 20</td><td><a class=\"ProveItLink\" href=\"../a127b67d6fcf2b758c6caef10ddcbab4c31e02f40/expr.ipynb\"><img src=\"../a127b67d6fcf2b758c6caef10ddcbab4c31e02f40/expr.png\" style=\"display:inline;vertical-align:middle;\" /></a></td></tr>\n",
       "<tr><td>15</td><td>Literal</td><td></td><td><a class=\"ProveItLink\" href=\"../../../../../sets/membership/__pv_it/common/477487d8796864d23d5810f83761435f25167f690/expr.ipynb\"><img src=\"../../../../../sets/membership/__pv_it/common/477487d8796864d23d5810f83761435f25167f690/expr.png\" style=\"display:inline;vertical-align:middle;\" /></a></td></tr>\n",
       "<tr><td>16</td><td>ExprTuple</td><td>21, 20</td><td><a class=\"ProveItLink\" href=\"../5e8e479d9a496304ae582f3d8c5c79a5903c707c0/expr.ipynb\"><img src=\"../5e8e479d9a496304ae582f3d8c5c79a5903c707c0/expr.png\" style=\"display:inline;vertical-align:middle;\" /></a></td></tr>\n",
       "<tr><td>17</td><td>ExprTuple</td><td>22, 21</td><td><a class=\"ProveItLink\" href=\"../e791ee87807ed43d7ac6262f8f70c4ffc8f24c940/expr.ipynb\"><img src=\"../e791ee87807ed43d7ac6262f8f70c4ffc8f24c940/expr.png\" style=\"display:inline;vertical-align:middle;\" /></a></td></tr>\n",
       "<tr><td>18</td><td>Literal</td><td></td><td><a class=\"ProveItLink\" href=\"../../common/02bdb382575728da8cdbaed545b9096ea7a1bd5b0/expr.ipynb\"><img src=\"../../common/02bdb382575728da8cdbaed545b9096ea7a1bd5b0/expr.png\" style=\"display:inline;vertical-align:middle;\" /></a></td></tr>\n",
       "<tr><td>19</td><td>ExprTuple</td><td>21, 22</td><td><a class=\"ProveItLink\" href=\"../eea868dfdc76ebd2b3c14c306a89babeb4ac740d0/expr.ipynb\"><img src=\"../eea868dfdc76ebd2b3c14c306a89babeb4ac740d0/expr.png\" style=\"display:inline;vertical-align:middle;\" /></a></td></tr>\n",
       "<tr><td>20</td><td>Literal</td><td></td><td><a class=\"ProveItLink\" href=\"../../../../__pv_it/common/97424376de9815ad99f7180e3191b1cf4ab2a5710/expr.ipynb\"><img src=\"../../../../__pv_it/common/97424376de9815ad99f7180e3191b1cf4ab2a5710/expr.png\" style=\"display:inline;vertical-align:middle;\" /></a></td></tr>\n",
       "<tr><td>21</td><td>Variable</td><td></td><td><a class=\"ProveItLink\" href=\"../../../../../../__pv_it/common/a9162d1c3cc0470c02e5daf414500903a7a419230/expr.ipynb\"><img src=\"../../../../../../__pv_it/common/a9162d1c3cc0470c02e5daf414500903a7a419230/expr.png\" style=\"display:inline;vertical-align:middle;\" /></a></td></tr>\n",
       "<tr><td>22</td><td>Variable</td><td></td><td><a class=\"ProveItLink\" href=\"../../../../../../__pv_it/common/09585084922504426caf1db2ff588a23a0932a960/expr.ipynb\"><img src=\"../../../../../../__pv_it/common/09585084922504426caf1db2ff588a23a0932a960/expr.png\" style=\"display:inline;vertical-align:middle;\" /></a></td></tr>\n",
       "</table>\n"
      ],
      "text/plain": [
       "0. forall_{A, B in BOOLEAN | A => B, B => A} (A = B)\n",
       "   core type: Operation\n",
       "   operator: 1\n",
       "   operand: 3\n",
       "1. forall\n",
       "   core type: Literal\n",
       "   sub-expressions: \n",
       "2. ((A, B) -> {A = B if A in BOOLEAN ,  B in BOOLEAN ,  A => B ,  B => A.)\n",
       "   core type: ExprTuple\n",
       "   sub-expressions: 3\n",
       "3. (A, B) -> {A = B if A in BOOLEAN ,  B in BOOLEAN ,  A => B ,  B => A.\n",
       "   core type: Lambda\n",
       "   parameters: 17\\n   body: 4\n",
       "4. {A = B if A in BOOLEAN ,  B in BOOLEAN ,  A => B ,  B => A.\n",
       "   core type: Conditional\n",
       "   value: 5\n",
       "   condition: 6\n",
       "5. A = B\n",
       "   core type: Operation\n",
       "   operator: 7\n",
       "   operands: 17\n",
       "6. (A in BOOLEAN) and (B in BOOLEAN) and (A => B) and (B => A)\n",
       "   core type: Operation\n",
       "   operator: 8\n",
       "   operands: 9\n",
       "7. =\n",
       "   core type: Literal\n",
       "   sub-expressions: \n",
       "8. and\n",
       "   core type: Literal\n",
       "   sub-expressions: \n",
       "9. (A in BOOLEAN, B in BOOLEAN, A => B, B => A)\n",
       "   core type: ExprTuple\n",
       "   sub-expressions: 10, 11, 12, 13\n",
       "10. A in BOOLEAN\n",
       "    core type: Operation\n",
       "    operator: 15\n",
       "    operands: 14\n",
       "11. B in BOOLEAN\n",
       "    core type: Operation\n",
       "    operator: 15\n",
       "    operands: 16\n",
       "12. A => B\n",
       "    core type: Operation\n",
       "    operator: 18\n",
       "    operands: 17\n",
       "13. B => A\n",
       "    core type: Operation\n",
       "    operator: 18\n",
       "    operands: 19\n",
       "14. (A, BOOLEAN)\n",
       "    core type: ExprTuple\n",
       "    sub-expressions: 22, 20\n",
       "15. in\n",
       "    core type: Literal\n",
       "    sub-expressions: \n",
       "16. (B, BOOLEAN)\n",
       "    core type: ExprTuple\n",
       "    sub-expressions: 21, 20\n",
       "17. (A, B)\n",
       "    core type: ExprTuple\n",
       "    sub-expressions: 22, 21\n",
       "18. =>\n",
       "    core type: Literal\n",
       "    sub-expressions: \n",
       "19. (B, A)\n",
       "    core type: ExprTuple\n",
       "    sub-expressions: 21, 22\n",
       "20. BOOLEAN\n",
       "    core type: Literal\n",
       "    sub-expressions: \n",
       "21. B\n",
       "    core type: Variable\n",
       "    sub-expressions: \n",
       "22. A\n",
       "    core type: Variable\n",
       "    sub-expressions: "
      ]
     },
     "metadata": {},
     "output_type": "display_data"
    }
   ],
   "source": [
    "# display the expression information\n",
    "stored_expr.expr_info()"
   ]
  },
  {
   "cell_type": "code",
   "execution_count": null,
   "metadata": {},
   "outputs": [],
   "source": []
  }
 ],
 "metadata": {
  "kernelspec": {
   "display_name": "Python 3",
   "language": "python",
   "name": "python3"
  }
 },
 "nbformat": 4,
 "nbformat_minor": 0
}