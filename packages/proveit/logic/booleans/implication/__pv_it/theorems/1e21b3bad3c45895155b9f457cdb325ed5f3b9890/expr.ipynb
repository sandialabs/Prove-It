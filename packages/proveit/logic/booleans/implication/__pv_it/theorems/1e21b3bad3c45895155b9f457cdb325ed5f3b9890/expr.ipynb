{
 "cells": [
  {
   "cell_type": "markdown",
   "metadata": {},
   "source": [
    "Expression of type <a class=\"ProveItLink\" href=\"../../../../../../../../doc/html/api/proveit.ExprTuple.html\">ExprTuple</a>\n",
    "=======================\n",
    "# from the theory of <a class=\"ProveItLink\" href=\"../../../_theory_nbs_/theory.ipynb\">proveit.logic.booleans.implication</a>"
   ]
  },
  {
   "cell_type": "code",
   "execution_count": 1,
   "metadata": {},
   "outputs": [],
   "source": [
    "import proveit\n",
    "# Automation is not needed when building an expression:\n",
    "proveit.defaults.automation = False # This will speed things up.\n",
    "proveit.defaults.inline_pngs = False # Makes files smaller.\n",
    "%load_expr # Load the stored expression as 'stored_expr'\n",
    "# import Expression classes needed to build the expression\n",
    "from proveit import A, Conditional, ExprTuple, Lambda\n",
    "from proveit.logic import FALSE, Implies, NotEquals, TRUE"
   ]
  },
  {
   "cell_type": "code",
   "execution_count": 2,
   "metadata": {},
   "outputs": [
    {
     "data": {
      "text/html": [
       "<strong id=\"expr\">expr:</strong> <a class=\"ProveItLink\" href=\"expr.ipynb\"><img src=\"expr.png\" style=\"display:inline;vertical-align:middle;\" /></a><br>"
      ],
      "text/plain": [
       "<IPython.core.display.HTML object>"
      ]
     },
     "metadata": {},
     "output_type": "display_data"
    }
   ],
   "source": [
    "# build up the expression from sub-expressions\n",
    "expr = ExprTuple(Lambda(A, Conditional(NotEquals(A, TRUE), Implies(A, FALSE))))"
   ]
  },
  {
   "cell_type": "code",
   "execution_count": 3,
   "metadata": {},
   "outputs": [
    {
     "name": "stdout",
     "output_type": "stream",
     "text": [
      "Passed sanity check: expr matches stored_expr\n"
     ]
    }
   ],
   "source": [
    "# check that the built expression is the same as the stored expression\n",
    "assert expr == stored_expr\n",
    "assert expr._style_id == stored_expr._style_id\n",
    "print(\"Passed sanity check: expr matches stored_expr\")"
   ]
  },
  {
   "cell_type": "code",
   "execution_count": 4,
   "metadata": {},
   "outputs": [
    {
     "name": "stdout",
     "output_type": "stream",
     "text": [
      "\\left(A \\mapsto \\left\\{A \\neq \\top \\textrm{ if } A \\Rightarrow \\bot\\right..\\right)\n"
     ]
    }
   ],
   "source": [
    "# Show the LaTeX representation of the expression for convenience if you need it.\n",
    "print(stored_expr.latex())"
   ]
  },
  {
   "cell_type": "code",
   "execution_count": 5,
   "metadata": {},
   "outputs": [
    {
     "data": {
      "text/html": [
       "no style options"
      ],
      "text/plain": [
       "no style options"
      ]
     },
     "metadata": {},
     "output_type": "display_data"
    }
   ],
   "source": [
    "stored_expr.style_options()"
   ]
  },
  {
   "cell_type": "code",
   "execution_count": 6,
   "metadata": {},
   "outputs": [
    {
     "data": {
      "text/html": [
       "<table><tr><th>&nbsp;</th><th>core type</th><th>sub-expressions</th><th>expression</th></tr>\n",
       "<tr><td>0</td><td>ExprTuple</td><td>1</td><td><a class=\"ProveItLink\" href=\"expr.ipynb\"><img src=\"expr.png\" style=\"display:inline;vertical-align:middle;\" /></a></td></tr>\n",
       "<tr><td>1</td><td>Lambda</td><td>parameter:&nbsp;11<br>body:&nbsp;3<br></td><td><a class=\"ProveItLink\" href=\"../5d40686cba12692333932492224c42af5241d5540/expr.ipynb\"><img src=\"../5d40686cba12692333932492224c42af5241d5540/expr.png\" style=\"display:inline;vertical-align:middle;\" /></a></td></tr>\n",
       "<tr><td>2</td><td>ExprTuple</td><td>11</td><td><a class=\"ProveItLink\" href=\"../0dc6c42a8c40e6a1c0a1b3cc41b6e5aa01a661750/expr.ipynb\"><img src=\"../0dc6c42a8c40e6a1c0a1b3cc41b6e5aa01a661750/expr.png\" style=\"display:inline;vertical-align:middle;\" /></a></td></tr>\n",
       "<tr><td>3</td><td>Conditional</td><td>value:&nbsp;4<br>condition:&nbsp;5<br></td><td><a class=\"ProveItLink\" href=\"../337c4961a172b57a1ddda933760d539a86f298730/expr.ipynb\"><img src=\"../337c4961a172b57a1ddda933760d539a86f298730/expr.png\" style=\"display:inline;vertical-align:middle;\" /></a></td></tr>\n",
       "<tr><td>4</td><td>Operation</td><td>operator:&nbsp;6<br>operands:&nbsp;7<br></td><td><a class=\"ProveItLink\" href=\"../27dadc34853560439593f08a214d3738ebdad7f10/expr.ipynb\"><img src=\"../27dadc34853560439593f08a214d3738ebdad7f10/expr.png\" style=\"display:inline;vertical-align:middle;\" /></a></td></tr>\n",
       "<tr><td>5</td><td>Operation</td><td>operator:&nbsp;8<br>operands:&nbsp;9<br></td><td><a class=\"ProveItLink\" href=\"../7f13bb5faea4aa2521226869e3d799f3406307a60/expr.ipynb\"><img src=\"../7f13bb5faea4aa2521226869e3d799f3406307a60/expr.png\" style=\"display:inline;vertical-align:middle;\" /></a></td></tr>\n",
       "<tr><td>6</td><td>Literal</td><td></td><td><a class=\"ProveItLink\" href=\"../../../../../equality/__pv_it/common/d96270bc9bb1bad54f773b1c04bfb343a739642c0/expr.ipynb\"><img src=\"../../../../../equality/__pv_it/common/d96270bc9bb1bad54f773b1c04bfb343a739642c0/expr.png\" style=\"display:inline;vertical-align:middle;\" /></a></td></tr>\n",
       "<tr><td>7</td><td>ExprTuple</td><td>11, 10</td><td><a class=\"ProveItLink\" href=\"../8a1fdfa2665b74233447477b0e646944e191958b0/expr.ipynb\"><img src=\"../8a1fdfa2665b74233447477b0e646944e191958b0/expr.png\" style=\"display:inline;vertical-align:middle;\" /></a></td></tr>\n",
       "<tr><td>8</td><td>Literal</td><td></td><td><a class=\"ProveItLink\" href=\"../../common/02bdb382575728da8cdbaed545b9096ea7a1bd5b0/expr.ipynb\"><img src=\"../../common/02bdb382575728da8cdbaed545b9096ea7a1bd5b0/expr.png\" style=\"display:inline;vertical-align:middle;\" /></a></td></tr>\n",
       "<tr><td>9</td><td>ExprTuple</td><td>11, 12</td><td><a class=\"ProveItLink\" href=\"../310adb67491fee61f89409048cdff289203bf73f0/expr.ipynb\"><img src=\"../310adb67491fee61f89409048cdff289203bf73f0/expr.png\" style=\"display:inline;vertical-align:middle;\" /></a></td></tr>\n",
       "<tr><td>10</td><td>Literal</td><td></td><td><a class=\"ProveItLink\" href=\"../../../../__pv_it/common/95025295868b9266d37330b4427adf122f6061770/expr.ipynb\"><img src=\"../../../../__pv_it/common/95025295868b9266d37330b4427adf122f6061770/expr.png\" style=\"display:inline;vertical-align:middle;\" /></a></td></tr>\n",
       "<tr><td>11</td><td>Variable</td><td></td><td><a class=\"ProveItLink\" href=\"../../../../../../__pv_it/common/09585084922504426caf1db2ff588a23a0932a960/expr.ipynb\"><img src=\"../../../../../../__pv_it/common/09585084922504426caf1db2ff588a23a0932a960/expr.png\" style=\"display:inline;vertical-align:middle;\" /></a></td></tr>\n",
       "<tr><td>12</td><td>Literal</td><td></td><td><a class=\"ProveItLink\" href=\"../../../../__pv_it/common/e0f123f2e4f322e1eba7f861749cda9fd9d99a120/expr.ipynb\"><img src=\"../../../../__pv_it/common/e0f123f2e4f322e1eba7f861749cda9fd9d99a120/expr.png\" style=\"display:inline;vertical-align:middle;\" /></a></td></tr>\n",
       "</table>\n"
      ],
      "text/plain": [
       "0. (A -> {A != TRUE if A => FALSE.)\n",
       "   core type: ExprTuple\n",
       "   sub-expressions: 1\n",
       "1. A -> {A != TRUE if A => FALSE.\n",
       "   core type: Lambda\n",
       "   parameter: 11\n",
       "   body: 3\n",
       "2. (A)\n",
       "   core type: ExprTuple\n",
       "   sub-expressions: 11\n",
       "3. {A != TRUE if A => FALSE.\n",
       "   core type: Conditional\n",
       "   value: 4\n",
       "   condition: 5\n",
       "4. A != TRUE\n",
       "   core type: Operation\n",
       "   operator: 6\n",
       "   operands: 7\n",
       "5. A => FALSE\n",
       "   core type: Operation\n",
       "   operator: 8\n",
       "   operands: 9\n",
       "6. !=\n",
       "   core type: Literal\n",
       "   sub-expressions: \n",
       "7. (A, TRUE)\n",
       "   core type: ExprTuple\n",
       "   sub-expressions: 11, 10\n",
       "8. =>\n",
       "   core type: Literal\n",
       "   sub-expressions: \n",
       "9. (A, FALSE)\n",
       "   core type: ExprTuple\n",
       "   sub-expressions: 11, 12\n",
       "10. TRUE\n",
       "    core type: Literal\n",
       "    sub-expressions: \n",
       "11. A\n",
       "    core type: Variable\n",
       "    sub-expressions: \n",
       "12. FALSE\n",
       "    core type: Literal\n",
       "    sub-expressions: "
      ]
     },
     "metadata": {},
     "output_type": "display_data"
    }
   ],
   "source": [
    "# display the expression information\n",
    "stored_expr.expr_info()"
   ]
  },
  {
   "cell_type": "code",
   "execution_count": null,
   "metadata": {},
   "outputs": [],
   "source": []
  }
 ],
 "metadata": {
  "kernelspec": {
   "display_name": "Python 3",
   "language": "python",
   "name": "python3"
  }
 },
 "nbformat": 4,
 "nbformat_minor": 0
}