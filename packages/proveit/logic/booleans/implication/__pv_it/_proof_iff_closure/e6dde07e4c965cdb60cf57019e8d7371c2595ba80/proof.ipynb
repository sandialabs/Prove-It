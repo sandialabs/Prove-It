{
 "cells": [
  {
   "cell_type": "markdown",
   "metadata": {},
   "source": [
    "Show the Proof\n",
    "========"
   ]
  },
  {
   "cell_type": "code",
   "execution_count": 1,
   "metadata": {},
   "outputs": [
    {
     "data": {
      "text/html": [
       "<table><tr><th>&nbsp;</th><th>step type</th><th>requirements</th><th>statement</th></tr>\n",
       "<tr><td><a name=\"proveit.logic.booleans.implication._proof_iff_closure.e6dde07e4c965cdb60cf57019e8d7371c2595ba80_step0\">0</a></td><td>instantiation</td><td><a href=\"#proveit.logic.booleans.implication._proof_iff_closure.e6dde07e4c965cdb60cf57019e8d7371c2595ba80_step1\">1</a>, <a href=\"#proveit.logic.booleans.implication._proof_iff_closure.e6dde07e4c965cdb60cf57019e8d7371c2595ba80_step2\">2</a>, <a href=\"#proveit.logic.booleans.implication._proof_iff_closure.e6dde07e4c965cdb60cf57019e8d7371c2595ba80_step3\">3</a></td><td><span style=\"font-size:20px;\"> <a class=\"ProveItLink\" href=\"proof.ipynb\" style=\"text-decoration: none\">&nbsp;&#x22A2;&nbsp;&nbsp;</a><a class=\"ProveItLink\" href=\"../86994a5626d8a4ff9a5acd0c8307d5adfcf9ca450/expr.ipynb\"><img src=\"../86994a5626d8a4ff9a5acd0c8307d5adfcf9ca450/expr.png\" style=\"display:inline;vertical-align:middle;\" /></a></span></td></tr>\n",
       "<tr><td>&nbsp;</td><td colspan=4 style=\"text-align:left\"><span style=\"font-size:20px;\"><a class=\"ProveItLink\" href=\"../4608002dfd989e87aa5738db720d78a6aa6359cd0/expr.ipynb\"><img src=\"../4608002dfd989e87aa5738db720d78a6aa6359cd0/expr.png\" style=\"display:inline;vertical-align:middle;\" /></a> : <a class=\"ProveItLink\" href=\"../e2b0d88de98be85b4cddb92a5f182c628c6581a90/expr.ipynb\"><img src=\"../e2b0d88de98be85b4cddb92a5f182c628c6581a90/expr.png\" style=\"display:inline;vertical-align:middle;\" /></a>, <a class=\"ProveItLink\" href=\"../../../../../../__pv_it/common/09585084922504426caf1db2ff588a23a0932a960/expr.ipynb\"><img src=\"../../../../../../__pv_it/common/09585084922504426caf1db2ff588a23a0932a960/expr.png\" style=\"display:inline;vertical-align:middle;\" /></a> : <a class=\"ProveItLink\" href=\"../../../../../../__pv_it/common/a9162d1c3cc0470c02e5daf414500903a7a419230/expr.ipynb\"><img src=\"../../../../../../__pv_it/common/a9162d1c3cc0470c02e5daf414500903a7a419230/expr.png\" style=\"display:inline;vertical-align:middle;\" /></a></span></td></tr><tr><td><a name=\"proveit.logic.booleans.implication._proof_iff_closure.e6dde07e4c965cdb60cf57019e8d7371c2595ba80_step1\">1</a></td><td>theorem</td><td></td><td><span style=\"font-size:20px;\"> <a class=\"ProveItLink\" href=\"../../../../_theory_nbs_/proofs/forall_over_bool_by_cases/thm_proof.ipynb\" style=\"text-decoration: none\">&nbsp;&#x22A2;&nbsp;&nbsp;</a><a class=\"ProveItLink\" href=\"../../../../__pv_it/theorems/6d327d2140f1f0c2a937cb448134f4763a4374070/expr.ipynb\"><img src=\"../../../../__pv_it/theorems/6d327d2140f1f0c2a937cb448134f4763a4374070/expr.png\" style=\"display:inline;vertical-align:middle;\" /></a></span></td></tr>\n",
       "<tr><td>&nbsp;</td><td colspan=4 style-\"text-align:left\"><a class=\"ProveItLink\" href=\"../../../../_theory_nbs_/proofs/forall_over_bool_by_cases/thm_proof.ipynb\">proveit.logic.booleans.forall_over_bool_by_cases</a></td></tr><tr><td><a name=\"proveit.logic.booleans.implication._proof_iff_closure.e6dde07e4c965cdb60cf57019e8d7371c2595ba80_step2\">2</a></td><td>instantiation</td><td><a href=\"#proveit.logic.booleans.implication._proof_iff_closure.e6dde07e4c965cdb60cf57019e8d7371c2595ba80_step7\">7</a>, <a href=\"#proveit.logic.booleans.implication._proof_iff_closure.e6dde07e4c965cdb60cf57019e8d7371c2595ba80_step4\">4</a></td><td><span style=\"font-size:20px;\"> <a class=\"ProveItLink\" href=\"../97976387030deaf152a8b1bce6ab89a7088e8f150/proof.ipynb\" style=\"text-decoration: none\">&nbsp;&#x22A2;&nbsp;&nbsp;</a><a class=\"ProveItLink\" href=\"../de0066e425ded9e26d616fe52e11c3d7b72ff2320/expr.ipynb\"><img src=\"../de0066e425ded9e26d616fe52e11c3d7b72ff2320/expr.png\" style=\"display:inline;vertical-align:middle;\" /></a></span></td></tr>\n",
       "<tr><td>&nbsp;</td><td colspan=4 style=\"text-align:left\"><span style=\"font-size:20px;\"><a class=\"ProveItLink\" href=\"../../../../../../__pv_it/common/09585084922504426caf1db2ff588a23a0932a960/expr.ipynb\"><img src=\"../../../../../../__pv_it/common/09585084922504426caf1db2ff588a23a0932a960/expr.png\" style=\"display:inline;vertical-align:middle;\" /></a> : <a class=\"ProveItLink\" href=\"../../theorems/8f6dffd8b2db0d6966645dd9a8ccf8fbfd0dc1460/expr.ipynb\"><img src=\"../../theorems/8f6dffd8b2db0d6966645dd9a8ccf8fbfd0dc1460/expr.png\" style=\"display:inline;vertical-align:middle;\" /></a></span></td></tr><tr><td><a name=\"proveit.logic.booleans.implication._proof_iff_closure.e6dde07e4c965cdb60cf57019e8d7371c2595ba80_step3\">3</a></td><td>instantiation</td><td><a href=\"#proveit.logic.booleans.implication._proof_iff_closure.e6dde07e4c965cdb60cf57019e8d7371c2595ba80_step5\">5</a>, <a href=\"#proveit.logic.booleans.implication._proof_iff_closure.e6dde07e4c965cdb60cf57019e8d7371c2595ba80_step6\">6</a></td><td><span style=\"font-size:20px;\"> <a class=\"ProveItLink\" href=\"../9d8b6c5c3cc76e9e5da089dd0eb9a30bb9debc5a0/proof.ipynb\" style=\"text-decoration: none\">&nbsp;&#x22A2;&nbsp;&nbsp;</a><a class=\"ProveItLink\" href=\"../3a8b39b659d3bab6c7c5f40fd953324115a5cfc60/expr.ipynb\"><img src=\"../3a8b39b659d3bab6c7c5f40fd953324115a5cfc60/expr.png\" style=\"display:inline;vertical-align:middle;\" /></a></span></td></tr>\n",
       "<tr><td>&nbsp;</td><td colspan=4 style=\"text-align:left\"><span style=\"font-size:20px;\"><a class=\"ProveItLink\" href=\"../../../../../../__pv_it/common/09585084922504426caf1db2ff588a23a0932a960/expr.ipynb\"><img src=\"../../../../../../__pv_it/common/09585084922504426caf1db2ff588a23a0932a960/expr.png\" style=\"display:inline;vertical-align:middle;\" /></a> : <a class=\"ProveItLink\" href=\"../../theorems/ea122e9282d6351f76314590aa8a50b27f5e83720/expr.ipynb\"><img src=\"../../theorems/ea122e9282d6351f76314590aa8a50b27f5e83720/expr.png\" style=\"display:inline;vertical-align:middle;\" /></a></span></td></tr><tr><td><a name=\"proveit.logic.booleans.implication._proof_iff_closure.e6dde07e4c965cdb60cf57019e8d7371c2595ba80_step4\">4</a></td><td>theorem</td><td></td><td><span style=\"font-size:20px;\"> <a class=\"ProveItLink\" href=\"../../../_theory_nbs_/proofs/true_iff_true/thm_proof.ipynb\" style=\"text-decoration: none\">&nbsp;&#x22A2;&nbsp;&nbsp;</a><a class=\"ProveItLink\" href=\"../../theorems/8f6dffd8b2db0d6966645dd9a8ccf8fbfd0dc1460/expr.ipynb\"><img src=\"../../theorems/8f6dffd8b2db0d6966645dd9a8ccf8fbfd0dc1460/expr.png\" style=\"display:inline;vertical-align:middle;\" /></a></span></td></tr>\n",
       "<tr><td>&nbsp;</td><td colspan=4 style-\"text-align:left\"><a class=\"ProveItLink\" href=\"../../../_theory_nbs_/proofs/true_iff_true/thm_proof.ipynb\">proveit.logic.booleans.implication.true_iff_true</a></td></tr><tr><td><a name=\"proveit.logic.booleans.implication._proof_iff_closure.e6dde07e4c965cdb60cf57019e8d7371c2595ba80_step5\">5</a></td><td>axiom</td><td></td><td><span style=\"font-size:20px;\"> <a class=\"ProveItLink\" href=\"../../../../negation/_theory_nbs_/axioms.ipynb#operand_is_bool\" style=\"text-decoration: none\">&nbsp;&#x22A2;&nbsp;&nbsp;</a><a class=\"ProveItLink\" href=\"../../../../negation/__pv_it/axioms/9b3df63ea9b96f801a3dadc45f3be22470f1b8ac0/expr.ipynb\"><img src=\"../../../../negation/__pv_it/axioms/9b3df63ea9b96f801a3dadc45f3be22470f1b8ac0/expr.png\" style=\"display:inline;vertical-align:middle;\" /></a></span></td></tr>\n",
       "<tr><td>&nbsp;</td><td colspan=4 style-\"text-align:left\"><a class=\"ProveItLink\" href=\"../../../../negation/_theory_nbs_/axioms.ipynb#operand_is_bool\">proveit.logic.booleans.negation.operand_is_bool</a></td></tr><tr><td><a name=\"proveit.logic.booleans.implication._proof_iff_closure.e6dde07e4c965cdb60cf57019e8d7371c2595ba80_step6\">6</a></td><td>instantiation</td><td><a href=\"#proveit.logic.booleans.implication._proof_iff_closure.e6dde07e4c965cdb60cf57019e8d7371c2595ba80_step7\">7</a>, <a href=\"#proveit.logic.booleans.implication._proof_iff_closure.e6dde07e4c965cdb60cf57019e8d7371c2595ba80_step8\">8</a></td><td><span style=\"font-size:20px;\"> <a class=\"ProveItLink\" href=\"../376bb6b47637421443317a6460838f67ac4148b10/proof.ipynb\" style=\"text-decoration: none\">&nbsp;&#x22A2;&nbsp;&nbsp;</a><a class=\"ProveItLink\" href=\"../5fdefa880fd69e191e53581250e10a2a896532640/expr.ipynb\"><img src=\"../5fdefa880fd69e191e53581250e10a2a896532640/expr.png\" style=\"display:inline;vertical-align:middle;\" /></a></span></td></tr>\n",
       "<tr><td>&nbsp;</td><td colspan=4 style=\"text-align:left\"><span style=\"font-size:20px;\"><a class=\"ProveItLink\" href=\"../../../../../../__pv_it/common/09585084922504426caf1db2ff588a23a0932a960/expr.ipynb\"><img src=\"../../../../../../__pv_it/common/09585084922504426caf1db2ff588a23a0932a960/expr.png\" style=\"display:inline;vertical-align:middle;\" /></a> : <a class=\"ProveItLink\" href=\"../../theorems/b8bb0e8394512642ca71d7bdef65b5da172600ed0/expr.ipynb\"><img src=\"../../theorems/b8bb0e8394512642ca71d7bdef65b5da172600ed0/expr.png\" style=\"display:inline;vertical-align:middle;\" /></a></span></td></tr><tr><td><a name=\"proveit.logic.booleans.implication._proof_iff_closure.e6dde07e4c965cdb60cf57019e8d7371c2595ba80_step7\">7</a></td><td>theorem</td><td></td><td><span style=\"font-size:20px;\"> <a class=\"ProveItLink\" href=\"../../../../_theory_nbs_/proofs/in_bool_if_true/thm_proof.ipynb\" style=\"text-decoration: none\">&nbsp;&#x22A2;&nbsp;&nbsp;</a><a class=\"ProveItLink\" href=\"../../../../__pv_it/theorems/858f6fea2a9d198e3a6e9cbe3c54c9eff7cff4060/expr.ipynb\"><img src=\"../../../../__pv_it/theorems/858f6fea2a9d198e3a6e9cbe3c54c9eff7cff4060/expr.png\" style=\"display:inline;vertical-align:middle;\" /></a></span></td></tr>\n",
       "<tr><td>&nbsp;</td><td colspan=4 style-\"text-align:left\"><a class=\"ProveItLink\" href=\"../../../../_theory_nbs_/proofs/in_bool_if_true/thm_proof.ipynb\">proveit.logic.booleans.in_bool_if_true</a></td></tr><tr><td><a name=\"proveit.logic.booleans.implication._proof_iff_closure.e6dde07e4c965cdb60cf57019e8d7371c2595ba80_step8\">8</a></td><td>theorem</td><td></td><td><span style=\"font-size:20px;\"> <a class=\"ProveItLink\" href=\"../../../_theory_nbs_/proofs/true_iff_false_negated/thm_proof.ipynb\" style=\"text-decoration: none\">&nbsp;&#x22A2;&nbsp;&nbsp;</a><a class=\"ProveItLink\" href=\"../../theorems/b8bb0e8394512642ca71d7bdef65b5da172600ed0/expr.ipynb\"><img src=\"../../theorems/b8bb0e8394512642ca71d7bdef65b5da172600ed0/expr.png\" style=\"display:inline;vertical-align:middle;\" /></a></span></td></tr>\n",
       "<tr><td>&nbsp;</td><td colspan=4 style-\"text-align:left\"><a class=\"ProveItLink\" href=\"../../../_theory_nbs_/proofs/true_iff_false_negated/thm_proof.ipynb\">proveit.logic.booleans.implication.true_iff_false_negated</a></td></tr></table>"
      ],
      "text/plain": [
       "<proveit._core_.proof._ShowProof at 0x7ff9d88e5c18>"
      ]
     },
     "execution_count": 1,
     "metadata": {},
     "output_type": "execute_result"
    }
   ],
   "source": [
    "import proveit\n",
    "# Automation is not needed when only showing a stored proof:\n",
    "proveit.defaults.automation = False # This will speed things up.\n",
    "proveit.defaults.inline_pngs = False # Makes files smaller.\n",
    "%show_proof"
   ]
  },
  {
   "cell_type": "code",
   "execution_count": null,
   "metadata": {},
   "outputs": [],
   "source": []
  }
 ],
 "metadata": {
  "kernelspec": {
   "display_name": "Python 3",
   "language": "python",
   "name": "python3"
  }
 },
 "nbformat": 4,
 "nbformat_minor": 0
}