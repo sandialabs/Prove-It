{
 "cells": [
  {
   "cell_type": "markdown",
   "metadata": {},
   "source": [
    "Show the Proof\n",
    "========"
   ]
  },
  {
   "cell_type": "code",
   "execution_count": 1,
   "metadata": {},
   "outputs": [
    {
     "data": {
      "text/html": [
       "<table><tr><th>&nbsp;</th><th>step type</th><th>requirements</th><th>statement</th></tr>\n",
       "<tr><td><a name=\"proveit.logic.booleans.implication._proof_iff_closure.c7d7e0bfc34f6e5362e2c5236128d124a99a50470_step0\">0</a></td><td>instantiation</td><td><a href=\"#proveit.logic.booleans.implication._proof_iff_closure.c7d7e0bfc34f6e5362e2c5236128d124a99a50470_step1\">1</a>, <a href=\"#proveit.logic.booleans.implication._proof_iff_closure.c7d7e0bfc34f6e5362e2c5236128d124a99a50470_step2\">2</a>, <a href=\"#proveit.logic.booleans.implication._proof_iff_closure.c7d7e0bfc34f6e5362e2c5236128d124a99a50470_step3\">3</a></td><td><span style=\"font-size:20px;\"> <a class=\"ProveItLink\" href=\"proof.ipynb\" style=\"text-decoration: none\">&nbsp;&#x22A2;&nbsp;&nbsp;</a><a class=\"ProveItLink\" href=\"../301964427dcd0df61a79b8e50cc0194d35752cfe0/expr.ipynb\"><img src=\"../301964427dcd0df61a79b8e50cc0194d35752cfe0/expr.png\" style=\"display:inline;vertical-align:middle;\" /></a></span></td></tr>\n",
       "<tr><td>&nbsp;</td><td colspan=4 style=\"text-align:left\"><span style=\"font-size:20px;\"><a class=\"ProveItLink\" href=\"../4608002dfd989e87aa5738db720d78a6aa6359cd0/expr.ipynb\"><img src=\"../4608002dfd989e87aa5738db720d78a6aa6359cd0/expr.png\" style=\"display:inline;vertical-align:middle;\" /></a> : <a class=\"ProveItLink\" href=\"../f5ae2e8aae079253483f6d3aa8718c1c3a4d7b000/expr.ipynb\"><img src=\"../f5ae2e8aae079253483f6d3aa8718c1c3a4d7b000/expr.png\" style=\"display:inline;vertical-align:middle;\" /></a>, <a class=\"ProveItLink\" href=\"../../../../../../__pv_it/common/09585084922504426caf1db2ff588a23a0932a960/expr.ipynb\"><img src=\"../../../../../../__pv_it/common/09585084922504426caf1db2ff588a23a0932a960/expr.png\" style=\"display:inline;vertical-align:middle;\" /></a> : <a class=\"ProveItLink\" href=\"../../../../../../__pv_it/common/a9162d1c3cc0470c02e5daf414500903a7a419230/expr.ipynb\"><img src=\"../../../../../../__pv_it/common/a9162d1c3cc0470c02e5daf414500903a7a419230/expr.png\" style=\"display:inline;vertical-align:middle;\" /></a></span></td></tr><tr><td><a name=\"proveit.logic.booleans.implication._proof_iff_closure.c7d7e0bfc34f6e5362e2c5236128d124a99a50470_step1\">1</a></td><td>theorem</td><td></td><td><span style=\"font-size:20px;\"> <a class=\"ProveItLink\" href=\"../../../../_theory_nbs_/proofs/forall_over_bool_by_cases/thm_proof.ipynb\" style=\"text-decoration: none\">&nbsp;&#x22A2;&nbsp;&nbsp;</a><a class=\"ProveItLink\" href=\"../../../../__pv_it/theorems/6d327d2140f1f0c2a937cb448134f4763a4374070/expr.ipynb\"><img src=\"../../../../__pv_it/theorems/6d327d2140f1f0c2a937cb448134f4763a4374070/expr.png\" style=\"display:inline;vertical-align:middle;\" /></a></span></td></tr>\n",
       "<tr><td>&nbsp;</td><td colspan=4 style-\"text-align:left\"><a class=\"ProveItLink\" href=\"../../../../_theory_nbs_/proofs/forall_over_bool_by_cases/thm_proof.ipynb\">proveit.logic.booleans.forall_over_bool_by_cases</a></td></tr><tr><td><a name=\"proveit.logic.booleans.implication._proof_iff_closure.c7d7e0bfc34f6e5362e2c5236128d124a99a50470_step2\">2</a></td><td>instantiation</td><td><a href=\"#proveit.logic.booleans.implication._proof_iff_closure.c7d7e0bfc34f6e5362e2c5236128d124a99a50470_step4\">4</a>, <a href=\"#proveit.logic.booleans.implication._proof_iff_closure.c7d7e0bfc34f6e5362e2c5236128d124a99a50470_step5\">5</a></td><td><span style=\"font-size:20px;\"> <a class=\"ProveItLink\" href=\"../64dda887bf10a7e34e4f266be9c8c62c21e6c6ad0/proof.ipynb\" style=\"text-decoration: none\">&nbsp;&#x22A2;&nbsp;&nbsp;</a><a class=\"ProveItLink\" href=\"../6a6634a8c095d467077a9cfc20ad18c2961a21040/expr.ipynb\"><img src=\"../6a6634a8c095d467077a9cfc20ad18c2961a21040/expr.png\" style=\"display:inline;vertical-align:middle;\" /></a></span></td></tr>\n",
       "<tr><td>&nbsp;</td><td colspan=4 style=\"text-align:left\"><span style=\"font-size:20px;\"><a class=\"ProveItLink\" href=\"../../../../../../__pv_it/common/09585084922504426caf1db2ff588a23a0932a960/expr.ipynb\"><img src=\"../../../../../../__pv_it/common/09585084922504426caf1db2ff588a23a0932a960/expr.png\" style=\"display:inline;vertical-align:middle;\" /></a> : <a class=\"ProveItLink\" href=\"../../theorems/a76dd441cbeed5532ee64ebc032efd647d787cb50/expr.ipynb\"><img src=\"../../theorems/a76dd441cbeed5532ee64ebc032efd647d787cb50/expr.png\" style=\"display:inline;vertical-align:middle;\" /></a></span></td></tr><tr><td><a name=\"proveit.logic.booleans.implication._proof_iff_closure.c7d7e0bfc34f6e5362e2c5236128d124a99a50470_step3\">3</a></td><td>instantiation</td><td><a href=\"#proveit.logic.booleans.implication._proof_iff_closure.c7d7e0bfc34f6e5362e2c5236128d124a99a50470_step7\">7</a>, <a href=\"#proveit.logic.booleans.implication._proof_iff_closure.c7d7e0bfc34f6e5362e2c5236128d124a99a50470_step6\">6</a></td><td><span style=\"font-size:20px;\"> <a class=\"ProveItLink\" href=\"../48943dc267cdd928340ef9a9bae3d965245741800/proof.ipynb\" style=\"text-decoration: none\">&nbsp;&#x22A2;&nbsp;&nbsp;</a><a class=\"ProveItLink\" href=\"../35c5cd65da6cc3721f0135143fab10cb907b5fd50/expr.ipynb\"><img src=\"../35c5cd65da6cc3721f0135143fab10cb907b5fd50/expr.png\" style=\"display:inline;vertical-align:middle;\" /></a></span></td></tr>\n",
       "<tr><td>&nbsp;</td><td colspan=4 style=\"text-align:left\"><span style=\"font-size:20px;\"><a class=\"ProveItLink\" href=\"../../../../../../__pv_it/common/09585084922504426caf1db2ff588a23a0932a960/expr.ipynb\"><img src=\"../../../../../../__pv_it/common/09585084922504426caf1db2ff588a23a0932a960/expr.png\" style=\"display:inline;vertical-align:middle;\" /></a> : <a class=\"ProveItLink\" href=\"../../theorems/3c8d2e6d203b8fdc322a1cd6633c5de822b6112c0/expr.ipynb\"><img src=\"../../theorems/3c8d2e6d203b8fdc322a1cd6633c5de822b6112c0/expr.png\" style=\"display:inline;vertical-align:middle;\" /></a></span></td></tr><tr><td><a name=\"proveit.logic.booleans.implication._proof_iff_closure.c7d7e0bfc34f6e5362e2c5236128d124a99a50470_step4\">4</a></td><td>axiom</td><td></td><td><span style=\"font-size:20px;\"> <a class=\"ProveItLink\" href=\"../../../../negation/_theory_nbs_/axioms.ipynb#operand_is_bool\" style=\"text-decoration: none\">&nbsp;&#x22A2;&nbsp;&nbsp;</a><a class=\"ProveItLink\" href=\"../../../../negation/__pv_it/axioms/9b3df63ea9b96f801a3dadc45f3be22470f1b8ac0/expr.ipynb\"><img src=\"../../../../negation/__pv_it/axioms/9b3df63ea9b96f801a3dadc45f3be22470f1b8ac0/expr.png\" style=\"display:inline;vertical-align:middle;\" /></a></span></td></tr>\n",
       "<tr><td>&nbsp;</td><td colspan=4 style-\"text-align:left\"><a class=\"ProveItLink\" href=\"../../../../negation/_theory_nbs_/axioms.ipynb#operand_is_bool\">proveit.logic.booleans.negation.operand_is_bool</a></td></tr><tr><td><a name=\"proveit.logic.booleans.implication._proof_iff_closure.c7d7e0bfc34f6e5362e2c5236128d124a99a50470_step5\">5</a></td><td>instantiation</td><td><a href=\"#proveit.logic.booleans.implication._proof_iff_closure.c7d7e0bfc34f6e5362e2c5236128d124a99a50470_step7\">7</a>, <a href=\"#proveit.logic.booleans.implication._proof_iff_closure.c7d7e0bfc34f6e5362e2c5236128d124a99a50470_step8\">8</a></td><td><span style=\"font-size:20px;\"> <a class=\"ProveItLink\" href=\"../41834df4c74395226ee43fc1c5a9c976a1cdf5170/proof.ipynb\" style=\"text-decoration: none\">&nbsp;&#x22A2;&nbsp;&nbsp;</a><a class=\"ProveItLink\" href=\"../77ccfcf26f355325f880d48021718f0c90a926590/expr.ipynb\"><img src=\"../77ccfcf26f355325f880d48021718f0c90a926590/expr.png\" style=\"display:inline;vertical-align:middle;\" /></a></span></td></tr>\n",
       "<tr><td>&nbsp;</td><td colspan=4 style=\"text-align:left\"><span style=\"font-size:20px;\"><a class=\"ProveItLink\" href=\"../../../../../../__pv_it/common/09585084922504426caf1db2ff588a23a0932a960/expr.ipynb\"><img src=\"../../../../../../__pv_it/common/09585084922504426caf1db2ff588a23a0932a960/expr.png\" style=\"display:inline;vertical-align:middle;\" /></a> : <a class=\"ProveItLink\" href=\"../../theorems/021728e765739c17c494eab79c5630369c5d585d0/expr.ipynb\"><img src=\"../../theorems/021728e765739c17c494eab79c5630369c5d585d0/expr.png\" style=\"display:inline;vertical-align:middle;\" /></a></span></td></tr><tr><td><a name=\"proveit.logic.booleans.implication._proof_iff_closure.c7d7e0bfc34f6e5362e2c5236128d124a99a50470_step6\">6</a></td><td>theorem</td><td></td><td><span style=\"font-size:20px;\"> <a class=\"ProveItLink\" href=\"../../../_theory_nbs_/proofs/false_iff_false/thm_proof.ipynb\" style=\"text-decoration: none\">&nbsp;&#x22A2;&nbsp;&nbsp;</a><a class=\"ProveItLink\" href=\"../../theorems/3c8d2e6d203b8fdc322a1cd6633c5de822b6112c0/expr.ipynb\"><img src=\"../../theorems/3c8d2e6d203b8fdc322a1cd6633c5de822b6112c0/expr.png\" style=\"display:inline;vertical-align:middle;\" /></a></span></td></tr>\n",
       "<tr><td>&nbsp;</td><td colspan=4 style-\"text-align:left\"><a class=\"ProveItLink\" href=\"../../../_theory_nbs_/proofs/false_iff_false/thm_proof.ipynb\">proveit.logic.booleans.implication.false_iff_false</a></td></tr><tr><td><a name=\"proveit.logic.booleans.implication._proof_iff_closure.c7d7e0bfc34f6e5362e2c5236128d124a99a50470_step7\">7</a></td><td>theorem</td><td></td><td><span style=\"font-size:20px;\"> <a class=\"ProveItLink\" href=\"../../../../_theory_nbs_/proofs/in_bool_if_true/thm_proof.ipynb\" style=\"text-decoration: none\">&nbsp;&#x22A2;&nbsp;&nbsp;</a><a class=\"ProveItLink\" href=\"../../../../__pv_it/theorems/858f6fea2a9d198e3a6e9cbe3c54c9eff7cff4060/expr.ipynb\"><img src=\"../../../../__pv_it/theorems/858f6fea2a9d198e3a6e9cbe3c54c9eff7cff4060/expr.png\" style=\"display:inline;vertical-align:middle;\" /></a></span></td></tr>\n",
       "<tr><td>&nbsp;</td><td colspan=4 style-\"text-align:left\"><a class=\"ProveItLink\" href=\"../../../../_theory_nbs_/proofs/in_bool_if_true/thm_proof.ipynb\">proveit.logic.booleans.in_bool_if_true</a></td></tr><tr><td><a name=\"proveit.logic.booleans.implication._proof_iff_closure.c7d7e0bfc34f6e5362e2c5236128d124a99a50470_step8\">8</a></td><td>theorem</td><td></td><td><span style=\"font-size:20px;\"> <a class=\"ProveItLink\" href=\"../../../_theory_nbs_/proofs/false_iff_true_negated/thm_proof.ipynb\" style=\"text-decoration: none\">&nbsp;&#x22A2;&nbsp;&nbsp;</a><a class=\"ProveItLink\" href=\"../../theorems/021728e765739c17c494eab79c5630369c5d585d0/expr.ipynb\"><img src=\"../../theorems/021728e765739c17c494eab79c5630369c5d585d0/expr.png\" style=\"display:inline;vertical-align:middle;\" /></a></span></td></tr>\n",
       "<tr><td>&nbsp;</td><td colspan=4 style-\"text-align:left\"><a class=\"ProveItLink\" href=\"../../../_theory_nbs_/proofs/false_iff_true_negated/thm_proof.ipynb\">proveit.logic.booleans.implication.false_iff_true_negated</a></td></tr></table>"
      ],
      "text/plain": [
       "<proveit._core_.proof._ShowProof at 0x7ff9d85c0c88>"
      ]
     },
     "execution_count": 1,
     "metadata": {},
     "output_type": "execute_result"
    }
   ],
   "source": [
    "import proveit\n",
    "# Automation is not needed when only showing a stored proof:\n",
    "proveit.defaults.automation = False # This will speed things up.\n",
    "proveit.defaults.inline_pngs = False # Makes files smaller.\n",
    "%show_proof"
   ]
  },
  {
   "cell_type": "code",
   "execution_count": null,
   "metadata": {},
   "outputs": [],
   "source": []
  }
 ],
 "metadata": {
  "kernelspec": {
   "display_name": "Python 3",
   "language": "python",
   "name": "python3"
  }
 },
 "nbformat": 4,
 "nbformat_minor": 0
}