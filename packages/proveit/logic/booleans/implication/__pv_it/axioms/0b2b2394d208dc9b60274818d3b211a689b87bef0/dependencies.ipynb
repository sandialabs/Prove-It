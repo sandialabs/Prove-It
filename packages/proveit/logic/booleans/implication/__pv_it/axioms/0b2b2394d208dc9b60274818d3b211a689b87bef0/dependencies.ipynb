{
 "cells": [
  {
   "cell_type": "markdown",
   "metadata": {},
   "source": [
    "Axiom Dependencies\n",
    "=======================\n",
    "\n",
    "## <a class=\"ProveItLink\" href=\"../../../_theory_nbs_/theory.ipynb\">proveit.logic.booleans.implication</a>.<a class=\"ProveItLink\" href=\"../../../_axioms_.ipynb#affirmation_via_contradiction\">affirmation_via_contradiction</a> \n"
   ]
  },
  {
   "cell_type": "code",
   "execution_count": 1,
   "metadata": {},
   "outputs": [],
   "source": [
    "import proveit\n",
    "# Automation is not needed when querying dependencies:\n",
    "proveit.defaults.automation = False # This will speed things up.\n",
    "proveit.defaults.inline_pngs = False # Makes files smaller.\n",
    "from proveit.logic.booleans.implication import affirmation_via_contradiction"
   ]
  },
  {
   "cell_type": "code",
   "execution_count": 2,
   "metadata": {},
   "outputs": [
    {
     "data": {
      "text/html": [
       "<h3>Theorems/conjectures that depend directly on affirmation_via_contradiction</h3>"
      ],
      "text/plain": [
       "<IPython.core.display.HTML object>"
      ]
     },
     "metadata": {},
     "output_type": "display_data"
    },
    {
     "data": {
      "text/html": [
       "<dl>"
      ],
      "text/plain": [
       "<IPython.core.display.HTML object>"
      ]
     },
     "metadata": {},
     "output_type": "display_data"
    },
    {
     "data": {
      "text/html": [
       "<dt><a class=\"ProveItLink\" href=\"../../../../disjunction/_theory_nbs_/proofs/left_if_not_right/thm_proof.ipynb\">proveit.logic.booleans.disjunction.left_if_not_right</a></dt><dd><a class=\"ProveItLink\" href=\"../../../../disjunction/__pv_it/theorems/b26fd045ccaa9cf56567e7a24b880e9023009e040/expr.ipynb\"><img src=\"../../../../disjunction/__pv_it/theorems/b26fd045ccaa9cf56567e7a24b880e9023009e040/expr.png\" style=\"display:inline;vertical-align:middle;\" /></a></dd>"
      ],
      "text/plain": [
       "<IPython.core.display.HTML object>"
      ]
     },
     "metadata": {},
     "output_type": "display_data"
    },
    {
     "data": {
      "text/html": [
       "<dt><a class=\"ProveItLink\" href=\"../../../../disjunction/_theory_nbs_/proofs/right_if_not_left/thm_proof.ipynb\">proveit.logic.booleans.disjunction.right_if_not_left</a></dt><dd><a class=\"ProveItLink\" href=\"../../../../disjunction/__pv_it/theorems/e72e9b8e9d1ec383aa44369a3755eef08509fd870/expr.ipynb\"><img src=\"../../../../disjunction/__pv_it/theorems/e72e9b8e9d1ec383aa44369a3755eef08509fd870/expr.png\" style=\"display:inline;vertical-align:middle;\" /></a></dd>"
      ],
      "text/plain": [
       "<IPython.core.display.HTML object>"
      ]
     },
     "metadata": {},
     "output_type": "display_data"
    },
    {
     "data": {
      "text/html": [
       "<dt><a class=\"ProveItLink\" href=\"../../../../disjunction/_theory_nbs_/proofs/singular_constructive_dilemma_lemma/thm_proof.ipynb\">proveit.logic.booleans.disjunction.singular_constructive_dilemma_lemma</a></dt><dd><a class=\"ProveItLink\" href=\"../../../../disjunction/__pv_it/theorems/e991ae62702c27a35ba07eab7f3f3ba9214a1a560/expr.ipynb\"><img src=\"../../../../disjunction/__pv_it/theorems/e991ae62702c27a35ba07eab7f3f3ba9214a1a560/expr.png\" style=\"display:inline;vertical-align:middle;\" /></a></dd>"
      ],
      "text/plain": [
       "<IPython.core.display.HTML object>"
      ]
     },
     "metadata": {},
     "output_type": "display_data"
    },
    {
     "data": {
      "text/html": [
       "<dt><a class=\"ProveItLink\" href=\"../../../../_theory_nbs_/proofs/from_not_false/thm_proof.ipynb\">proveit.logic.booleans.from_not_false</a></dt><dd><a class=\"ProveItLink\" href=\"../../../../__pv_it/theorems/6d6458bff3cb49192df818234c5ce793af54e87d0/expr.ipynb\"><img src=\"../../../../__pv_it/theorems/6d6458bff3cb49192df818234c5ce793af54e87d0/expr.png\" style=\"display:inline;vertical-align:middle;\" /></a></dd>"
      ],
      "text/plain": [
       "<IPython.core.display.HTML object>"
      ]
     },
     "metadata": {},
     "output_type": "display_data"
    },
    {
     "data": {
      "text/html": [
       "<dt><a class=\"ProveItLink\" href=\"../../../_theory_nbs_/proofs/false_antecedent_implication/thm_proof.ipynb\">proveit.logic.booleans.implication.false_antecedent_implication</a></dt><dd><a class=\"ProveItLink\" href=\"../../theorems/4ac58b2212b9b0c3296639696660d49cf764c37f0/expr.ipynb\"><img src=\"../../theorems/4ac58b2212b9b0c3296639696660d49cf764c37f0/expr.png\" style=\"display:inline;vertical-align:middle;\" /></a></dd>"
      ],
      "text/plain": [
       "<IPython.core.display.HTML object>"
      ]
     },
     "metadata": {},
     "output_type": "display_data"
    },
    {
     "data": {
      "text/html": [
       "<dt><a class=\"ProveItLink\" href=\"../../../_theory_nbs_/proofs/falsified_antecedent_implication/thm_proof.ipynb\">proveit.logic.booleans.implication.falsified_antecedent_implication</a></dt><dd><a class=\"ProveItLink\" href=\"../../theorems/28929e1faa0d6cd913a00023d42a5ba1e5cedce10/expr.ipynb\"><img src=\"../../theorems/28929e1faa0d6cd913a00023d42a5ba1e5cedce10/expr.png\" style=\"display:inline;vertical-align:middle;\" /></a></dd>"
      ],
      "text/plain": [
       "<IPython.core.display.HTML object>"
      ]
     },
     "metadata": {},
     "output_type": "display_data"
    },
    {
     "data": {
      "text/html": [
       "<dt><a class=\"ProveItLink\" href=\"../../../_theory_nbs_/proofs/modus_tollens_affirmation/thm_proof.ipynb\">proveit.logic.booleans.implication.modus_tollens_affirmation</a></dt><dd><a class=\"ProveItLink\" href=\"../../theorems/ddbe78f626c5f7925b4ee5b0ff224c7c3edc09100/expr.ipynb\"><img src=\"../../theorems/ddbe78f626c5f7925b4ee5b0ff224c7c3edc09100/expr.png\" style=\"display:inline;vertical-align:middle;\" /></a></dd>"
      ],
      "text/plain": [
       "<IPython.core.display.HTML object>"
      ]
     },
     "metadata": {},
     "output_type": "display_data"
    },
    {
     "data": {
      "text/html": [
       "<dt><a class=\"ProveItLink\" href=\"../../../_theory_nbs_/proofs/untrue_antecedent_implication/thm_proof.ipynb\">proveit.logic.booleans.implication.untrue_antecedent_implication</a></dt><dd><a class=\"ProveItLink\" href=\"../../theorems/f83ccfee3596e58a431052e5ba0ac7335ac95e5d0/expr.ipynb\"><img src=\"../../theorems/f83ccfee3596e58a431052e5ba0ac7335ac95e5d0/expr.png\" style=\"display:inline;vertical-align:middle;\" /></a></dd>"
      ],
      "text/plain": [
       "<IPython.core.display.HTML object>"
      ]
     },
     "metadata": {},
     "output_type": "display_data"
    },
    {
     "data": {
      "text/html": [
       "<dt><a class=\"ProveItLink\" href=\"../../../../quantification/existence/_theory_nbs_/proofs/skolem_elim_lemma/thm_proof.ipynb\">proveit.logic.booleans.quantification.existence.skolem_elim_lemma</a></dt><dd><a class=\"ProveItLink\" href=\"../../../../quantification/existence/__pv_it/theorems/ddee0e527ffaa944d5a3e6546d2ca6a3da31ec620/expr.ipynb\"><img src=\"../../../../quantification/existence/__pv_it/theorems/ddee0e527ffaa944d5a3e6546d2ca6a3da31ec620/expr.png\" style=\"display:inline;vertical-align:middle;\" /></a></dd>"
      ],
      "text/plain": [
       "<IPython.core.display.HTML object>"
      ]
     },
     "metadata": {},
     "output_type": "display_data"
    },
    {
     "data": {
      "text/html": [
       "</dl>"
      ],
      "text/plain": [
       "<IPython.core.display.HTML object>"
      ]
     },
     "metadata": {},
     "output_type": "display_data"
    }
   ],
   "source": [
    "%dependencies affirmation_via_contradiction"
   ]
  }
 ],
 "metadata": {
  "kernelspec": {
   "display_name": "Python 3",
   "language": "python",
   "name": "python3"
  }
 },
 "nbformat": 4,
 "nbformat_minor": 0
}