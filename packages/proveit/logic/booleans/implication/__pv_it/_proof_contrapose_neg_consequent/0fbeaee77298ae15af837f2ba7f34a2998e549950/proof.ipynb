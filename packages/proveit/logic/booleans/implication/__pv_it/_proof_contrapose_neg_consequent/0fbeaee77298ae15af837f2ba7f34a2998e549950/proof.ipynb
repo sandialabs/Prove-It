{
 "cells": [
  {
   "cell_type": "markdown",
   "metadata": {},
   "source": [
    "Show the Proof\n",
    "========"
   ]
  },
  {
   "cell_type": "code",
   "execution_count": 1,
   "metadata": {},
   "outputs": [
    {
     "data": {
      "text/html": [
       "<table><tr><th>&nbsp;</th><th>step type</th><th>requirements</th><th>statement</th></tr>\n",
       "<tr><td><a name=\"proveit.logic.booleans.implication._proof_contrapose_neg_consequent.0fbeaee77298ae15af837f2ba7f34a2998e549950_step0\">0</a></td><td>generalization</td><td><a href=\"#proveit.logic.booleans.implication._proof_contrapose_neg_consequent.0fbeaee77298ae15af837f2ba7f34a2998e549950_step1\">1</a></td><td><span style=\"font-size:20px;\"> <a class=\"ProveItLink\" href=\"proof.ipynb\" style=\"text-decoration: none\">&nbsp;&#x22A2;&nbsp;&nbsp;</a><a class=\"ProveItLink\" href=\"../../theorems/5376a65fdfbfdeea6dc73e288a1979fe591c9c150/expr.ipynb\"><img src=\"../../theorems/5376a65fdfbfdeea6dc73e288a1979fe591c9c150/expr.png\" style=\"display:inline;vertical-align:middle;\" /></a></span></td></tr>\n",
       "<tr><td><a name=\"proveit.logic.booleans.implication._proof_contrapose_neg_consequent.0fbeaee77298ae15af837f2ba7f34a2998e549950_step1\">1</a></td><td>deduction</td><td><a href=\"#proveit.logic.booleans.implication._proof_contrapose_neg_consequent.0fbeaee77298ae15af837f2ba7f34a2998e549950_step2\">2</a></td><td><span style=\"font-size:20px;\"><a class=\"ProveItLink\" href=\"../../theorems/9b36d7235130a6b592c97bb06e5078015c4aa29f0/expr.ipynb\"><img src=\"../../theorems/9b36d7235130a6b592c97bb06e5078015c4aa29f0/expr.png\" style=\"display:inline;vertical-align:middle;\" /></a>, <a class=\"ProveItLink\" href=\"../../theorems/01eb059828094c1f42d246d650e4be0cdc97bc320/expr.ipynb\"><img src=\"../../theorems/01eb059828094c1f42d246d650e4be0cdc97bc320/expr.png\" style=\"display:inline;vertical-align:middle;\" /></a> <a class=\"ProveItLink\" href=\"../e55b4aa84dcfe77229dffd328c9f2cc5f8595b500/proof.ipynb\" style=\"text-decoration: none\">&nbsp;&#x22A2;&nbsp;&nbsp;</a><a class=\"ProveItLink\" href=\"../../theorems/35edda227e3fa6c42f3673fe4cedcc2f5b46a83b0/expr.ipynb\"><img src=\"../../theorems/35edda227e3fa6c42f3673fe4cedcc2f5b46a83b0/expr.png\" style=\"display:inline;vertical-align:middle;\" /></a></span></td></tr>\n",
       "<tr><td><a name=\"proveit.logic.booleans.implication._proof_contrapose_neg_consequent.0fbeaee77298ae15af837f2ba7f34a2998e549950_step2\">2</a></td><td>instantiation</td><td><a href=\"#proveit.logic.booleans.implication._proof_contrapose_neg_consequent.0fbeaee77298ae15af837f2ba7f34a2998e549950_step3\">3</a>, <a href=\"#proveit.logic.booleans.implication._proof_contrapose_neg_consequent.0fbeaee77298ae15af837f2ba7f34a2998e549950_step4\">4</a>, <a href=\"#proveit.logic.booleans.implication._proof_contrapose_neg_consequent.0fbeaee77298ae15af837f2ba7f34a2998e549950_step5\">5</a>, <a href=\"#proveit.logic.booleans.implication._proof_contrapose_neg_consequent.0fbeaee77298ae15af837f2ba7f34a2998e549950_step6\">6</a></td><td><span style=\"font-size:20px;\"><a class=\"ProveItLink\" href=\"../../theorems/9b36d7235130a6b592c97bb06e5078015c4aa29f0/expr.ipynb\"><img src=\"../../theorems/9b36d7235130a6b592c97bb06e5078015c4aa29f0/expr.png\" style=\"display:inline;vertical-align:middle;\" /></a>, <a class=\"ProveItLink\" href=\"../../theorems/01eb059828094c1f42d246d650e4be0cdc97bc320/expr.ipynb\"><img src=\"../../theorems/01eb059828094c1f42d246d650e4be0cdc97bc320/expr.png\" style=\"display:inline;vertical-align:middle;\" /></a>, <a class=\"ProveItLink\" href=\"../../../../../../__pv_it/common/a9162d1c3cc0470c02e5daf414500903a7a419230/expr.ipynb\"><img src=\"../../../../../../__pv_it/common/a9162d1c3cc0470c02e5daf414500903a7a419230/expr.png\" style=\"display:inline;vertical-align:middle;\" /></a> <a class=\"ProveItLink\" href=\"../2d1a6ca1fe590956b991b32560d3c992e1e1e2650/proof.ipynb\" style=\"text-decoration: none\">&nbsp;&#x22A2;&nbsp;&nbsp;</a><a class=\"ProveItLink\" href=\"../../theorems/c19a32dfcf93aeb9aa7e65c251bf4b72d5c3a7b90/expr.ipynb\"><img src=\"../../theorems/c19a32dfcf93aeb9aa7e65c251bf4b72d5c3a7b90/expr.png\" style=\"display:inline;vertical-align:middle;\" /></a></span></td></tr>\n",
       "<tr><td>&nbsp;</td><td colspan=4 style=\"text-align:left\"><span style=\"font-size:20px;\"><a class=\"ProveItLink\" href=\"../../../../../../__pv_it/common/09585084922504426caf1db2ff588a23a0932a960/expr.ipynb\"><img src=\"../../../../../../__pv_it/common/09585084922504426caf1db2ff588a23a0932a960/expr.png\" style=\"display:inline;vertical-align:middle;\" /></a> : <a class=\"ProveItLink\" href=\"../../../../../../__pv_it/common/09585084922504426caf1db2ff588a23a0932a960/expr.ipynb\"><img src=\"../../../../../../__pv_it/common/09585084922504426caf1db2ff588a23a0932a960/expr.png\" style=\"display:inline;vertical-align:middle;\" /></a>, <a class=\"ProveItLink\" href=\"../../../../../../__pv_it/common/a9162d1c3cc0470c02e5daf414500903a7a419230/expr.ipynb\"><img src=\"../../../../../../__pv_it/common/a9162d1c3cc0470c02e5daf414500903a7a419230/expr.png\" style=\"display:inline;vertical-align:middle;\" /></a> : <a class=\"ProveItLink\" href=\"../../theorems/8552c6321b312c5e15a5015adce4a756ce05da420/expr.ipynb\"><img src=\"../../theorems/8552c6321b312c5e15a5015adce4a756ce05da420/expr.png\" style=\"display:inline;vertical-align:middle;\" /></a></span></td></tr><tr><td><a name=\"proveit.logic.booleans.implication._proof_contrapose_neg_consequent.0fbeaee77298ae15af837f2ba7f34a2998e549950_step3\">3</a></td><td>theorem</td><td></td><td><span style=\"font-size:20px;\"> <a class=\"ProveItLink\" href=\"../../../_theory_nbs_/proofs/modus_tollens_denial/thm_proof.ipynb\" style=\"text-decoration: none\">&nbsp;&#x22A2;&nbsp;&nbsp;</a><a class=\"ProveItLink\" href=\"../../theorems/6e585db1db364b78f6e359174ec389300c03caad0/expr.ipynb\"><img src=\"../../theorems/6e585db1db364b78f6e359174ec389300c03caad0/expr.png\" style=\"display:inline;vertical-align:middle;\" /></a></span></td></tr>\n",
       "<tr><td>&nbsp;</td><td colspan=4 style-\"text-align:left\"><a class=\"ProveItLink\" href=\"../../../_theory_nbs_/proofs/modus_tollens_denial/thm_proof.ipynb\">proveit.logic.booleans.implication.modus_tollens_denial</a></td></tr><tr><td><a name=\"proveit.logic.booleans.implication._proof_contrapose_neg_consequent.0fbeaee77298ae15af837f2ba7f34a2998e549950_step4\">4</a></td><td>assumption</td><td></td><td><span style=\"font-size:20px;\"><a class=\"ProveItLink\" href=\"../../theorems/9b36d7235130a6b592c97bb06e5078015c4aa29f0/expr.ipynb\"><img src=\"../../theorems/9b36d7235130a6b592c97bb06e5078015c4aa29f0/expr.png\" style=\"display:inline;vertical-align:middle;\" /></a> <a class=\"ProveItLink\" href=\"../db3c0f8d66e8b38e6e12b7373153857b7bab3da90/proof.ipynb\" style=\"text-decoration: none\">&nbsp;&#x22A2;&nbsp;&nbsp;</a><a class=\"ProveItLink\" href=\"../../theorems/9b36d7235130a6b592c97bb06e5078015c4aa29f0/expr.ipynb\"><img src=\"../../theorems/9b36d7235130a6b592c97bb06e5078015c4aa29f0/expr.png\" style=\"display:inline;vertical-align:middle;\" /></a></span></td></tr>\n",
       "<tr><td><a name=\"proveit.logic.booleans.implication._proof_contrapose_neg_consequent.0fbeaee77298ae15af837f2ba7f34a2998e549950_step5\">5</a></td><td>assumption</td><td></td><td><span style=\"font-size:20px;\"><a class=\"ProveItLink\" href=\"../../theorems/01eb059828094c1f42d246d650e4be0cdc97bc320/expr.ipynb\"><img src=\"../../theorems/01eb059828094c1f42d246d650e4be0cdc97bc320/expr.png\" style=\"display:inline;vertical-align:middle;\" /></a> <a class=\"ProveItLink\" href=\"../baebdff573e92d14c2b15c0e066d840c70b367dd0/proof.ipynb\" style=\"text-decoration: none\">&nbsp;&#x22A2;&nbsp;&nbsp;</a><a class=\"ProveItLink\" href=\"../../theorems/01eb059828094c1f42d246d650e4be0cdc97bc320/expr.ipynb\"><img src=\"../../theorems/01eb059828094c1f42d246d650e4be0cdc97bc320/expr.png\" style=\"display:inline;vertical-align:middle;\" /></a></span></td></tr>\n",
       "<tr><td><a name=\"proveit.logic.booleans.implication._proof_contrapose_neg_consequent.0fbeaee77298ae15af837f2ba7f34a2998e549950_step6\">6</a></td><td>instantiation</td><td><a href=\"#proveit.logic.booleans.implication._proof_contrapose_neg_consequent.0fbeaee77298ae15af837f2ba7f34a2998e549950_step7\">7</a>, <a href=\"#proveit.logic.booleans.implication._proof_contrapose_neg_consequent.0fbeaee77298ae15af837f2ba7f34a2998e549950_step8\">8</a></td><td><span style=\"font-size:20px;\"><a class=\"ProveItLink\" href=\"../../../../../../__pv_it/common/a9162d1c3cc0470c02e5daf414500903a7a419230/expr.ipynb\"><img src=\"../../../../../../__pv_it/common/a9162d1c3cc0470c02e5daf414500903a7a419230/expr.png\" style=\"display:inline;vertical-align:middle;\" /></a> <a class=\"ProveItLink\" href=\"../aab5517bb800e0bb9ab37760ecb253b39f9970db0/proof.ipynb\" style=\"text-decoration: none\">&nbsp;&#x22A2;&nbsp;&nbsp;</a><a class=\"ProveItLink\" href=\"../b5294fcb32f46644d8d4c3550911eec22a3ce7670/expr.ipynb\"><img src=\"../b5294fcb32f46644d8d4c3550911eec22a3ce7670/expr.png\" style=\"display:inline;vertical-align:middle;\" /></a></span></td></tr>\n",
       "<tr><td>&nbsp;</td><td colspan=4 style=\"text-align:left\"><span style=\"font-size:20px;\"><a class=\"ProveItLink\" href=\"../../../../../../__pv_it/common/09585084922504426caf1db2ff588a23a0932a960/expr.ipynb\"><img src=\"../../../../../../__pv_it/common/09585084922504426caf1db2ff588a23a0932a960/expr.png\" style=\"display:inline;vertical-align:middle;\" /></a> : <a class=\"ProveItLink\" href=\"../../../../../../__pv_it/common/a9162d1c3cc0470c02e5daf414500903a7a419230/expr.ipynb\"><img src=\"../../../../../../__pv_it/common/a9162d1c3cc0470c02e5daf414500903a7a419230/expr.png\" style=\"display:inline;vertical-align:middle;\" /></a></span></td></tr><tr><td><a name=\"proveit.logic.booleans.implication._proof_contrapose_neg_consequent.0fbeaee77298ae15af837f2ba7f34a2998e549950_step7\">7</a></td><td>theorem</td><td></td><td><span style=\"font-size:20px;\"> <a class=\"ProveItLink\" href=\"../../../../negation/_theory_nbs_/proofs/double_negation_intro/thm_proof.ipynb\" style=\"text-decoration: none\">&nbsp;&#x22A2;&nbsp;&nbsp;</a><a class=\"ProveItLink\" href=\"../../../../negation/__pv_it/theorems/0b22d68afd7bfc707f054cfbe8b4e2370c2f148f0/expr.ipynb\"><img src=\"../../../../negation/__pv_it/theorems/0b22d68afd7bfc707f054cfbe8b4e2370c2f148f0/expr.png\" style=\"display:inline;vertical-align:middle;\" /></a></span></td></tr>\n",
       "<tr><td>&nbsp;</td><td colspan=4 style-\"text-align:left\"><a class=\"ProveItLink\" href=\"../../../../negation/_theory_nbs_/proofs/double_negation_intro/thm_proof.ipynb\">proveit.logic.booleans.negation.double_negation_intro</a></td></tr><tr><td><a name=\"proveit.logic.booleans.implication._proof_contrapose_neg_consequent.0fbeaee77298ae15af837f2ba7f34a2998e549950_step8\">8</a></td><td>assumption</td><td></td><td><span style=\"font-size:20px;\"><a class=\"ProveItLink\" href=\"../../../../../../__pv_it/common/a9162d1c3cc0470c02e5daf414500903a7a419230/expr.ipynb\"><img src=\"../../../../../../__pv_it/common/a9162d1c3cc0470c02e5daf414500903a7a419230/expr.png\" style=\"display:inline;vertical-align:middle;\" /></a> <a class=\"ProveItLink\" href=\"../d43a9c2d2ebf0b3b961e71c77fe7ef917c06ce470/proof.ipynb\" style=\"text-decoration: none\">&nbsp;&#x22A2;&nbsp;&nbsp;</a><a class=\"ProveItLink\" href=\"../../../../../../__pv_it/common/a9162d1c3cc0470c02e5daf414500903a7a419230/expr.ipynb\"><img src=\"../../../../../../__pv_it/common/a9162d1c3cc0470c02e5daf414500903a7a419230/expr.png\" style=\"display:inline;vertical-align:middle;\" /></a></span></td></tr>\n",
       "</table>"
      ],
      "text/plain": [
       "<proveit._core_.proof._ShowProof at 0x7f0c90c00860>"
      ]
     },
     "execution_count": 1,
     "metadata": {},
     "output_type": "execute_result"
    }
   ],
   "source": [
    "import proveit\n",
    "# Automation is not needed when only showing a stored proof:\n",
    "proveit.defaults.automation = False # This will speed things up.\n",
    "proveit.defaults.inline_pngs = False # Makes files smaller.\n",
    "%show_proof"
   ]
  },
  {
   "cell_type": "code",
   "execution_count": null,
   "metadata": {},
   "outputs": [],
   "source": []
  }
 ],
 "metadata": {
  "kernelspec": {
   "display_name": "Python 3",
   "language": "python",
   "name": "python3"
  }
 },
 "nbformat": 4,
 "nbformat_minor": 0
}