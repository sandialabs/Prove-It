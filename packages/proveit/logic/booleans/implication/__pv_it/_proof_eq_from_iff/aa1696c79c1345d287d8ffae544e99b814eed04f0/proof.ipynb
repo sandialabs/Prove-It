{
 "cells": [
  {
   "cell_type": "markdown",
   "metadata": {},
   "source": [
    "Show the Proof\n",
    "========"
   ]
  },
  {
   "cell_type": "code",
   "execution_count": 1,
   "metadata": {},
   "outputs": [
    {
     "data": {
      "text/html": [
       "<table><tr><th>&nbsp;</th><th>step type</th><th>requirements</th><th>statement</th></tr>\n",
       "<tr><td><a name=\"proveit.logic.booleans.implication._proof_eq_from_iff.aa1696c79c1345d287d8ffae544e99b814eed04f0_step0\">0</a></td><td>instantiation</td><td><a href=\"#proveit.logic.booleans.implication._proof_eq_from_iff.aa1696c79c1345d287d8ffae544e99b814eed04f0_step1\">1</a>, <a href=\"#proveit.logic.booleans.implication._proof_eq_from_iff.aa1696c79c1345d287d8ffae544e99b814eed04f0_step2\">2</a>, <a href=\"#proveit.logic.booleans.implication._proof_eq_from_iff.aa1696c79c1345d287d8ffae544e99b814eed04f0_step3\">3</a></td><td><span style=\"font-size:20px;\"> <a class=\"ProveItLink\" href=\"proof.ipynb\" style=\"text-decoration: none\">&nbsp;&#x22A2;&nbsp;&nbsp;</a><a class=\"ProveItLink\" href=\"../60a6d319e17cfe00971609ea77ded5f0a4ff625d0/expr.ipynb\"><img src=\"../60a6d319e17cfe00971609ea77ded5f0a4ff625d0/expr.png\" style=\"display:inline;vertical-align:middle;\" /></a></span></td></tr>\n",
       "<tr><td>&nbsp;</td><td colspan=4 style=\"text-align:left\"><span style=\"font-size:20px;\"><a class=\"ProveItLink\" href=\"../4608002dfd989e87aa5738db720d78a6aa6359cd0/expr.ipynb\"><img src=\"../4608002dfd989e87aa5738db720d78a6aa6359cd0/expr.png\" style=\"display:inline;vertical-align:middle;\" /></a> : <a class=\"ProveItLink\" href=\"../bf5e6e3c9e9cbe00dcc0f4d08ae966b605ce0d380/expr.ipynb\"><img src=\"../bf5e6e3c9e9cbe00dcc0f4d08ae966b605ce0d380/expr.png\" style=\"display:inline;vertical-align:middle;\" /></a>, <a class=\"ProveItLink\" href=\"../f127fa12e18e88958933b1af8bc727bff3bf0c230/expr.ipynb\"><img src=\"../f127fa12e18e88958933b1af8bc727bff3bf0c230/expr.png\" style=\"display:inline;vertical-align:middle;\" /></a> : <a class=\"ProveItLink\" href=\"../13b852be0cf302174ea92bffad8ee9b2d951cc9e0/expr.ipynb\"><img src=\"../13b852be0cf302174ea92bffad8ee9b2d951cc9e0/expr.png\" style=\"display:inline;vertical-align:middle;\" /></a>, <a class=\"ProveItLink\" href=\"../../../../../../__pv_it/common/09585084922504426caf1db2ff588a23a0932a960/expr.ipynb\"><img src=\"../../../../../../__pv_it/common/09585084922504426caf1db2ff588a23a0932a960/expr.png\" style=\"display:inline;vertical-align:middle;\" /></a> : <a class=\"ProveItLink\" href=\"../../../../../../__pv_it/common/a9162d1c3cc0470c02e5daf414500903a7a419230/expr.ipynb\"><img src=\"../../../../../../__pv_it/common/a9162d1c3cc0470c02e5daf414500903a7a419230/expr.png\" style=\"display:inline;vertical-align:middle;\" /></a></span></td></tr><tr><td><a name=\"proveit.logic.booleans.implication._proof_eq_from_iff.aa1696c79c1345d287d8ffae544e99b814eed04f0_step1\">1</a></td><td>theorem</td><td></td><td><span style=\"font-size:20px;\"> <a class=\"ProveItLink\" href=\"../../../../_theory_nbs_/proofs/conditioned_forall_over_bool_by_cases/thm_proof.ipynb\" style=\"text-decoration: none\">&nbsp;&#x22A2;&nbsp;&nbsp;</a><a class=\"ProveItLink\" href=\"../../../../__pv_it/theorems/04bd85b23a57ae8e49fc576fe74347ba356f43c80/expr.ipynb\"><img src=\"../../../../__pv_it/theorems/04bd85b23a57ae8e49fc576fe74347ba356f43c80/expr.png\" style=\"display:inline;vertical-align:middle;\" /></a></span></td></tr>\n",
       "<tr><td>&nbsp;</td><td colspan=4 style-\"text-align:left\"><a class=\"ProveItLink\" href=\"../../../../_theory_nbs_/proofs/conditioned_forall_over_bool_by_cases/thm_proof.ipynb\">proveit.logic.booleans.conditioned_forall_over_bool_by_cases</a></td></tr><tr><td><a name=\"proveit.logic.booleans.implication._proof_eq_from_iff.aa1696c79c1345d287d8ffae544e99b814eed04f0_step2\">2</a></td><td>deduction</td><td><a href=\"#proveit.logic.booleans.implication._proof_eq_from_iff.aa1696c79c1345d287d8ffae544e99b814eed04f0_step4\">4</a></td><td><span style=\"font-size:20px;\"> <a class=\"ProveItLink\" href=\"../3cfbade3613254d725a06a4452a536171489953a0/proof.ipynb\" style=\"text-decoration: none\">&nbsp;&#x22A2;&nbsp;&nbsp;</a><a class=\"ProveItLink\" href=\"../c8a73c64e5b859821478e73988e71aac3b0fbbb10/expr.ipynb\"><img src=\"../c8a73c64e5b859821478e73988e71aac3b0fbbb10/expr.png\" style=\"display:inline;vertical-align:middle;\" /></a></span></td></tr>\n",
       "<tr><td><a name=\"proveit.logic.booleans.implication._proof_eq_from_iff.aa1696c79c1345d287d8ffae544e99b814eed04f0_step3\">3</a></td><td>instantiation</td><td><a href=\"#proveit.logic.booleans.implication._proof_eq_from_iff.aa1696c79c1345d287d8ffae544e99b814eed04f0_step5\">5</a>, <a href=\"#proveit.logic.booleans.implication._proof_eq_from_iff.aa1696c79c1345d287d8ffae544e99b814eed04f0_step6\">6</a></td><td><span style=\"font-size:20px;\"> <a class=\"ProveItLink\" href=\"../d5efe599292b2901d9a22f471e419344a0174f8a0/proof.ipynb\" style=\"text-decoration: none\">&nbsp;&#x22A2;&nbsp;&nbsp;</a><a class=\"ProveItLink\" href=\"../f42353e6eb988c484ff1a65f7188660278fed3e40/expr.ipynb\"><img src=\"../f42353e6eb988c484ff1a65f7188660278fed3e40/expr.png\" style=\"display:inline;vertical-align:middle;\" /></a></span></td></tr>\n",
       "<tr><td>&nbsp;</td><td colspan=4 style=\"text-align:left\"><span style=\"font-size:20px;\"><a class=\"ProveItLink\" href=\"../../../../../../__pv_it/common/09585084922504426caf1db2ff588a23a0932a960/expr.ipynb\"><img src=\"../../../../../../__pv_it/common/09585084922504426caf1db2ff588a23a0932a960/expr.png\" style=\"display:inline;vertical-align:middle;\" /></a> : <a class=\"ProveItLink\" href=\"../../theorems/ea122e9282d6351f76314590aa8a50b27f5e83720/expr.ipynb\"><img src=\"../../theorems/ea122e9282d6351f76314590aa8a50b27f5e83720/expr.png\" style=\"display:inline;vertical-align:middle;\" /></a>, <a class=\"ProveItLink\" href=\"../../../../../../__pv_it/common/a9162d1c3cc0470c02e5daf414500903a7a419230/expr.ipynb\"><img src=\"../../../../../../__pv_it/common/a9162d1c3cc0470c02e5daf414500903a7a419230/expr.png\" style=\"display:inline;vertical-align:middle;\" /></a> : <a class=\"ProveItLink\" href=\"../5817fa40f34d9a13979cf61c8fa92fa5cee5e0340/expr.ipynb\"><img src=\"../5817fa40f34d9a13979cf61c8fa92fa5cee5e0340/expr.png\" style=\"display:inline;vertical-align:middle;\" /></a></span></td></tr><tr><td><a name=\"proveit.logic.booleans.implication._proof_eq_from_iff.aa1696c79c1345d287d8ffae544e99b814eed04f0_step4\">4</a></td><td>theorem</td><td></td><td><span style=\"font-size:20px;\"> <a class=\"ProveItLink\" href=\"../../../../_theory_nbs_/proofs/true_eq_true/thm_proof.ipynb\" style=\"text-decoration: none\">&nbsp;&#x22A2;&nbsp;&nbsp;</a><a class=\"ProveItLink\" href=\"../../../../__pv_it/theorems/a3c4d9088d0ab0d98fc5c16af22cc7989fca846c0/expr.ipynb\"><img src=\"../../../../__pv_it/theorems/a3c4d9088d0ab0d98fc5c16af22cc7989fca846c0/expr.png\" style=\"display:inline;vertical-align:middle;\" /></a></span></td></tr>\n",
       "<tr><td>&nbsp;</td><td colspan=4 style-\"text-align:left\"><a class=\"ProveItLink\" href=\"../../../../_theory_nbs_/proofs/true_eq_true/thm_proof.ipynb\">proveit.logic.booleans.true_eq_true</a></td></tr><tr><td><a name=\"proveit.logic.booleans.implication._proof_eq_from_iff.aa1696c79c1345d287d8ffae544e99b814eed04f0_step5\">5</a></td><td>theorem</td><td></td><td><span style=\"font-size:20px;\"> <a class=\"ProveItLink\" href=\"../../../_theory_nbs_/proofs/falsified_antecedent_implication/thm_proof.ipynb\" style=\"text-decoration: none\">&nbsp;&#x22A2;&nbsp;&nbsp;</a><a class=\"ProveItLink\" href=\"../../theorems/28929e1faa0d6cd913a00023d42a5ba1e5cedce10/expr.ipynb\"><img src=\"../../theorems/28929e1faa0d6cd913a00023d42a5ba1e5cedce10/expr.png\" style=\"display:inline;vertical-align:middle;\" /></a></span></td></tr>\n",
       "<tr><td>&nbsp;</td><td colspan=4 style-\"text-align:left\"><a class=\"ProveItLink\" href=\"../../../_theory_nbs_/proofs/falsified_antecedent_implication/thm_proof.ipynb\">proveit.logic.booleans.implication.falsified_antecedent_implication</a></td></tr><tr><td><a name=\"proveit.logic.booleans.implication._proof_eq_from_iff.aa1696c79c1345d287d8ffae544e99b814eed04f0_step6\">6</a></td><td>theorem</td><td></td><td><span style=\"font-size:20px;\"> <a class=\"ProveItLink\" href=\"../../../_theory_nbs_/proofs/true_iff_false_negated/thm_proof.ipynb\" style=\"text-decoration: none\">&nbsp;&#x22A2;&nbsp;&nbsp;</a><a class=\"ProveItLink\" href=\"../../theorems/b8bb0e8394512642ca71d7bdef65b5da172600ed0/expr.ipynb\"><img src=\"../../theorems/b8bb0e8394512642ca71d7bdef65b5da172600ed0/expr.png\" style=\"display:inline;vertical-align:middle;\" /></a></span></td></tr>\n",
       "<tr><td>&nbsp;</td><td colspan=4 style-\"text-align:left\"><a class=\"ProveItLink\" href=\"../../../_theory_nbs_/proofs/true_iff_false_negated/thm_proof.ipynb\">proveit.logic.booleans.implication.true_iff_false_negated</a></td></tr></table>"
      ],
      "text/plain": [
       "<proveit._core_.proof._ShowProof at 0x7fa7a819aef0>"
      ]
     },
     "execution_count": 1,
     "metadata": {},
     "output_type": "execute_result"
    }
   ],
   "source": [
    "import proveit\n",
    "# Automation is not needed when only showing a stored proof:\n",
    "proveit.defaults.automation = False # This will speed things up.\n",
    "proveit.defaults.inline_pngs = False # Makes files smaller.\n",
    "%show_proof"
   ]
  },
  {
   "cell_type": "code",
   "execution_count": null,
   "metadata": {},
   "outputs": [],
   "source": []
  }
 ],
 "metadata": {
  "kernelspec": {
   "display_name": "Python 3",
   "language": "python",
   "name": "python3"
  }
 },
 "nbformat": 4,
 "nbformat_minor": 0
}