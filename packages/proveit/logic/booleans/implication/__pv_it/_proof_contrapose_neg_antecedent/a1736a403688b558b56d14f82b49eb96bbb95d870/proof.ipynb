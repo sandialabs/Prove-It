{
 "cells": [
  {
   "cell_type": "markdown",
   "metadata": {},
   "source": [
    "Show the Proof\n",
    "========"
   ]
  },
  {
   "cell_type": "code",
   "execution_count": 1,
   "metadata": {},
   "outputs": [
    {
     "data": {
      "text/html": [
       "<table><tr><th>&nbsp;</th><th>step type</th><th>requirements</th><th>statement</th></tr>\n",
       "<tr><td><a name=\"proveit.logic.booleans.implication._proof_contrapose_neg_antecedent.a1736a403688b558b56d14f82b49eb96bbb95d870_step0\">0</a></td><td>generalization</td><td><a href=\"#proveit.logic.booleans.implication._proof_contrapose_neg_antecedent.a1736a403688b558b56d14f82b49eb96bbb95d870_step1\">1</a></td><td><span style=\"font-size:20px;\"> <a class=\"ProveItLink\" href=\"proof.ipynb\" style=\"text-decoration: none\">&nbsp;&#x22A2;&nbsp;&nbsp;</a><a class=\"ProveItLink\" href=\"../../theorems/867c2facf64bfee081c588127d51c39d06b3279f0/expr.ipynb\"><img src=\"../../theorems/867c2facf64bfee081c588127d51c39d06b3279f0/expr.png\" style=\"display:inline;vertical-align:middle;\" /></a></span></td></tr>\n",
       "<tr><td><a name=\"proveit.logic.booleans.implication._proof_contrapose_neg_antecedent.a1736a403688b558b56d14f82b49eb96bbb95d870_step1\">1</a></td><td>deduction</td><td><a href=\"#proveit.logic.booleans.implication._proof_contrapose_neg_antecedent.a1736a403688b558b56d14f82b49eb96bbb95d870_step2\">2</a></td><td><span style=\"font-size:20px;\"><a class=\"ProveItLink\" href=\"../../theorems/9b36d7235130a6b592c97bb06e5078015c4aa29f0/expr.ipynb\"><img src=\"../../theorems/9b36d7235130a6b592c97bb06e5078015c4aa29f0/expr.png\" style=\"display:inline;vertical-align:middle;\" /></a>, <a class=\"ProveItLink\" href=\"../../theorems/40204e1874e2c682f1ab2a7bb3f735c754d3250e0/expr.ipynb\"><img src=\"../../theorems/40204e1874e2c682f1ab2a7bb3f735c754d3250e0/expr.png\" style=\"display:inline;vertical-align:middle;\" /></a> <a class=\"ProveItLink\" href=\"../32dc84f991f01e6ecc86f2d6e3dbe1c3e06914130/proof.ipynb\" style=\"text-decoration: none\">&nbsp;&#x22A2;&nbsp;&nbsp;</a><a class=\"ProveItLink\" href=\"../../theorems/10c6e6e0a59dd780def080bc1e7f25c00c4bc56a0/expr.ipynb\"><img src=\"../../theorems/10c6e6e0a59dd780def080bc1e7f25c00c4bc56a0/expr.png\" style=\"display:inline;vertical-align:middle;\" /></a></span></td></tr>\n",
       "<tr><td><a name=\"proveit.logic.booleans.implication._proof_contrapose_neg_antecedent.a1736a403688b558b56d14f82b49eb96bbb95d870_step2\">2</a></td><td>instantiation</td><td><a href=\"#proveit.logic.booleans.implication._proof_contrapose_neg_antecedent.a1736a403688b558b56d14f82b49eb96bbb95d870_step3\">3</a>, <a href=\"#proveit.logic.booleans.implication._proof_contrapose_neg_antecedent.a1736a403688b558b56d14f82b49eb96bbb95d870_step4\">4</a>, <a href=\"#proveit.logic.booleans.implication._proof_contrapose_neg_antecedent.a1736a403688b558b56d14f82b49eb96bbb95d870_step5\">5</a>, <a href=\"#proveit.logic.booleans.implication._proof_contrapose_neg_antecedent.a1736a403688b558b56d14f82b49eb96bbb95d870_step6\">6</a></td><td><span style=\"font-size:20px;\"><a class=\"ProveItLink\" href=\"../../theorems/9b36d7235130a6b592c97bb06e5078015c4aa29f0/expr.ipynb\"><img src=\"../../theorems/9b36d7235130a6b592c97bb06e5078015c4aa29f0/expr.png\" style=\"display:inline;vertical-align:middle;\" /></a>, <a class=\"ProveItLink\" href=\"../../theorems/40204e1874e2c682f1ab2a7bb3f735c754d3250e0/expr.ipynb\"><img src=\"../../theorems/40204e1874e2c682f1ab2a7bb3f735c754d3250e0/expr.png\" style=\"display:inline;vertical-align:middle;\" /></a>, <a class=\"ProveItLink\" href=\"../../theorems/8552c6321b312c5e15a5015adce4a756ce05da420/expr.ipynb\"><img src=\"../../theorems/8552c6321b312c5e15a5015adce4a756ce05da420/expr.png\" style=\"display:inline;vertical-align:middle;\" /></a> <a class=\"ProveItLink\" href=\"../688050a3026dd8fceefc684684681553c995f6ef0/proof.ipynb\" style=\"text-decoration: none\">&nbsp;&#x22A2;&nbsp;&nbsp;</a><a class=\"ProveItLink\" href=\"../../../../../../__pv_it/common/09585084922504426caf1db2ff588a23a0932a960/expr.ipynb\"><img src=\"../../../../../../__pv_it/common/09585084922504426caf1db2ff588a23a0932a960/expr.png\" style=\"display:inline;vertical-align:middle;\" /></a></span></td></tr>\n",
       "<tr><td>&nbsp;</td><td colspan=4 style=\"text-align:left\"><span style=\"font-size:20px;\"><a class=\"ProveItLink\" href=\"../../../../../../__pv_it/common/09585084922504426caf1db2ff588a23a0932a960/expr.ipynb\"><img src=\"../../../../../../__pv_it/common/09585084922504426caf1db2ff588a23a0932a960/expr.png\" style=\"display:inline;vertical-align:middle;\" /></a> : <a class=\"ProveItLink\" href=\"../../../../../../__pv_it/common/09585084922504426caf1db2ff588a23a0932a960/expr.ipynb\"><img src=\"../../../../../../__pv_it/common/09585084922504426caf1db2ff588a23a0932a960/expr.png\" style=\"display:inline;vertical-align:middle;\" /></a></span></td></tr><tr><td><a name=\"proveit.logic.booleans.implication._proof_contrapose_neg_antecedent.a1736a403688b558b56d14f82b49eb96bbb95d870_step3\">3</a></td><td>theorem</td><td></td><td><span style=\"font-size:20px;\"> <a class=\"ProveItLink\" href=\"../../../_theory_nbs_/proofs/modus_tollens_affirmation/thm_proof.ipynb\" style=\"text-decoration: none\">&nbsp;&#x22A2;&nbsp;&nbsp;</a><a class=\"ProveItLink\" href=\"../../theorems/ddbe78f626c5f7925b4ee5b0ff224c7c3edc09100/expr.ipynb\"><img src=\"../../theorems/ddbe78f626c5f7925b4ee5b0ff224c7c3edc09100/expr.png\" style=\"display:inline;vertical-align:middle;\" /></a></span></td></tr>\n",
       "<tr><td>&nbsp;</td><td colspan=4 style-\"text-align:left\"><a class=\"ProveItLink\" href=\"../../../_theory_nbs_/proofs/modus_tollens_affirmation/thm_proof.ipynb\">proveit.logic.booleans.implication.modus_tollens_affirmation</a></td></tr><tr><td><a name=\"proveit.logic.booleans.implication._proof_contrapose_neg_antecedent.a1736a403688b558b56d14f82b49eb96bbb95d870_step4\">4</a></td><td>assumption</td><td></td><td><span style=\"font-size:20px;\"><a class=\"ProveItLink\" href=\"../../theorems/9b36d7235130a6b592c97bb06e5078015c4aa29f0/expr.ipynb\"><img src=\"../../theorems/9b36d7235130a6b592c97bb06e5078015c4aa29f0/expr.png\" style=\"display:inline;vertical-align:middle;\" /></a> <a class=\"ProveItLink\" href=\"../db3c0f8d66e8b38e6e12b7373153857b7bab3da90/proof.ipynb\" style=\"text-decoration: none\">&nbsp;&#x22A2;&nbsp;&nbsp;</a><a class=\"ProveItLink\" href=\"../../theorems/9b36d7235130a6b592c97bb06e5078015c4aa29f0/expr.ipynb\"><img src=\"../../theorems/9b36d7235130a6b592c97bb06e5078015c4aa29f0/expr.png\" style=\"display:inline;vertical-align:middle;\" /></a></span></td></tr>\n",
       "<tr><td><a name=\"proveit.logic.booleans.implication._proof_contrapose_neg_antecedent.a1736a403688b558b56d14f82b49eb96bbb95d870_step5\">5</a></td><td>assumption</td><td></td><td><span style=\"font-size:20px;\"><a class=\"ProveItLink\" href=\"../../theorems/40204e1874e2c682f1ab2a7bb3f735c754d3250e0/expr.ipynb\"><img src=\"../../theorems/40204e1874e2c682f1ab2a7bb3f735c754d3250e0/expr.png\" style=\"display:inline;vertical-align:middle;\" /></a> <a class=\"ProveItLink\" href=\"../89de57bf01775f4ba20e79dd5eb10a10ce2c2c670/proof.ipynb\" style=\"text-decoration: none\">&nbsp;&#x22A2;&nbsp;&nbsp;</a><a class=\"ProveItLink\" href=\"../../theorems/40204e1874e2c682f1ab2a7bb3f735c754d3250e0/expr.ipynb\"><img src=\"../../theorems/40204e1874e2c682f1ab2a7bb3f735c754d3250e0/expr.png\" style=\"display:inline;vertical-align:middle;\" /></a></span></td></tr>\n",
       "<tr><td><a name=\"proveit.logic.booleans.implication._proof_contrapose_neg_antecedent.a1736a403688b558b56d14f82b49eb96bbb95d870_step6\">6</a></td><td>assumption</td><td></td><td><span style=\"font-size:20px;\"><a class=\"ProveItLink\" href=\"../../theorems/8552c6321b312c5e15a5015adce4a756ce05da420/expr.ipynb\"><img src=\"../../theorems/8552c6321b312c5e15a5015adce4a756ce05da420/expr.png\" style=\"display:inline;vertical-align:middle;\" /></a> <a class=\"ProveItLink\" href=\"../bd32d0676eab8f44f89518d14e8130e3c90f16690/proof.ipynb\" style=\"text-decoration: none\">&nbsp;&#x22A2;&nbsp;&nbsp;</a><a class=\"ProveItLink\" href=\"../../theorems/8552c6321b312c5e15a5015adce4a756ce05da420/expr.ipynb\"><img src=\"../../theorems/8552c6321b312c5e15a5015adce4a756ce05da420/expr.png\" style=\"display:inline;vertical-align:middle;\" /></a></span></td></tr>\n",
       "</table>"
      ],
      "text/plain": [
       "<proveit._core_.proof._ShowProof at 0x7fdcd6bbecc0>"
      ]
     },
     "execution_count": 1,
     "metadata": {},
     "output_type": "execute_result"
    }
   ],
   "source": [
    "import proveit\n",
    "# Automation is not needed when only showing a stored proof:\n",
    "proveit.defaults.automation = False # This will speed things up.\n",
    "proveit.defaults.inline_pngs = False # Makes files smaller.\n",
    "%show_proof"
   ]
  },
  {
   "cell_type": "code",
   "execution_count": null,
   "metadata": {},
   "outputs": [],
   "source": []
  }
 ],
 "metadata": {
  "kernelspec": {
   "display_name": "Python 3",
   "language": "python",
   "name": "python3"
  }
 },
 "nbformat": 4,
 "nbformat_minor": 0
}