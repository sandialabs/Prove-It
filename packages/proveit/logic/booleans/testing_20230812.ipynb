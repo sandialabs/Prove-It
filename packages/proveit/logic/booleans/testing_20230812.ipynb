{
 "cells": [
  {
   "cell_type": "code",
   "execution_count": null,
   "metadata": {},
   "outputs": [],
   "source": [
    "import proveit\n",
    "from proveit import A, B\n",
    "from proveit import defaults\n",
    "from proveit.logic import Implies\n",
    "from proveit import Database\n",
    "\n",
    "import sqlite3\n",
    "\n",
    "%begin testing"
   ]
  },
  {
   "cell_type": "markdown",
   "metadata": {},
   "source": [
    "## Looking at Axiom attributes"
   ]
  },
  {
   "cell_type": "code",
   "execution_count": null,
   "metadata": {},
   "outputs": [],
   "source": [
    "from proveit.logic.booleans import eq_true_elim\n",
    "display(eq_true_elim)"
   ]
  },
  {
   "cell_type": "code",
   "execution_count": null,
   "metadata": {},
   "outputs": [],
   "source": [
    "# an axiom is displayed as a judgment\n",
    "type(eq_true_elim)"
   ]
  },
  {
   "cell_type": "code",
   "execution_count": null,
   "metadata": {},
   "outputs": [],
   "source": [
    "eq_true_elim.expr"
   ]
  },
  {
   "cell_type": "code",
   "execution_count": null,
   "metadata": {},
   "outputs": [],
   "source": [
    "# from proveit._core_.expression._theory_storage import TheoryFolderStorage\n",
    "# eq_true_elim._generate_unique_rep(TheoryFolderStorage._prove_it_storage_id)"
   ]
  },
  {
   "cell_type": "code",
   "execution_count": null,
   "metadata": {},
   "outputs": [],
   "source": [
    "eq_true_elim.expr.string()"
   ]
  },
  {
   "cell_type": "code",
   "execution_count": null,
   "metadata": {},
   "outputs": [],
   "source": [
    "eq_true_elim.expr.latex()"
   ]
  },
  {
   "cell_type": "markdown",
   "metadata": {},
   "source": [
    "## Looking at Common Expression attributes"
   ]
  },
  {
   "cell_type": "code",
   "execution_count": null,
   "metadata": {},
   "outputs": [],
   "source": [
    "from proveit.logic.booleans import Boolean\n",
    "display(Boolean)"
   ]
  },
  {
   "cell_type": "code",
   "execution_count": null,
   "metadata": {},
   "outputs": [],
   "source": [
    "type(Boolean)"
   ]
  },
  {
   "cell_type": "markdown",
   "metadata": {},
   "source": [
    "## Theory Package and Database"
   ]
  },
  {
   "cell_type": "code",
   "execution_count": null,
   "metadata": {},
   "outputs": [],
   "source": [
    "# get the Theory for the current notebook location\n",
    "temp_theory = proveit.Theory()"
   ]
  },
  {
   "cell_type": "code",
   "execution_count": null,
   "metadata": {},
   "outputs": [],
   "source": [
    "temp_theory._storage.get_axiom_hash('eq_true_elim')"
   ]
  },
  {
   "cell_type": "code",
   "execution_count": null,
   "metadata": {},
   "outputs": [],
   "source": [
    "# temp checking/testing\n",
    "# temp_theory._storage.pkg_database.clear_all_records_in_table('axiom')"
   ]
  },
  {
   "cell_type": "code",
   "execution_count": null,
   "metadata": {},
   "outputs": [],
   "source": [
    "if hasattr(temp_theory._storage, 'pkg_database'):\n",
    "    temp_database = temp_theory._storage.pkg_database\n",
    "    print(\"* ================================================================================== *\")\n",
    "    print(\"*  judgment table                                                                    *\")\n",
    "    print(\"* ================================================================================== *\")\n",
    "    print(\"*  id, expr, assumptions, num_lit_gens, string_format, latex_format                  *\")\n",
    "    print(\"* ================================================================================== *\")\n",
    "    display(temp_database.retrieve_records('judgment', {}, ['id']))\n",
    "    print(\"* ================================================================================== *\")"
   ]
  },
  {
   "cell_type": "markdown",
   "metadata": {},
   "source": [
    "### proof_step table"
   ]
  },
  {
   "cell_type": "code",
   "execution_count": null,
   "metadata": {},
   "outputs": [],
   "source": [
    "# then get that theory's database if it exists\n",
    "# and show the content of the various tables\n",
    "if hasattr(temp_theory._storage, 'pkg_database'):\n",
    "    temp_database = temp_theory._storage.pkg_database\n",
    "    print(\"* ================================================================================== *\")\n",
    "    print(\"*  proof_step table                                                                  *\")\n",
    "    print(\"* ================================================================================== *\")\n",
    "    print(\"*  id, type, path_name, name, judgment, requirements, equality_requirements,         *\")\n",
    "    print(\"*  instantiations, string_format, latex_format                                       *\")\n",
    "    print(\"* ================================================================================== *\")\n",
    "    display(temp_database.fetch_all('proof_step'))\n",
    "    "
   ]
  },
  {
   "cell_type": "code",
   "execution_count": null,
   "metadata": {},
   "outputs": [],
   "source": [
    "# then get that theory's database if it exists\n",
    "# and show the content of the various tables\n",
    "if hasattr(temp_theory._storage, 'pkg_database'):\n",
    "    temp_database = temp_theory._storage.pkg_database\n",
    "    print(\"* ================================================================================== *\")\n",
    "    print(\"*  common table                                                                      *\")\n",
    "    print(\"* ================================================================================== *\")\n",
    "    print(\"*  id, path_name, name, expr, string_format, latex_format                            *\")\n",
    "    print(\"* ================================================================================== *\")\n",
    "    display(temp_database.fetch_all('common'))\n",
    "    print(\"* ================================================================================== *\")\n",
    "    print(\"*  axiom table                                                                       *\")\n",
    "    print(\"* ================================================================================== *\")\n",
    "    print(\"*  id, path_name, name, judgment, string_format, latex_format                        *\")\n",
    "    print(\"* ================================================================================== *\")\n",
    "    display(temp_database.fetch_all('axiom'))\n",
    "    print(\"* ================================================================================== *\")\n",
    "    print(\"*  theorem table                                                                     *\")\n",
    "    print(\"* ================================================================================== *\")\n",
    "    print(\"*  id, path_name, name, judgment, string_format, latex_format                        *\")\n",
    "    print(\"* ================================================================================== *\")\n",
    "    display(temp_database.fetch_all('theorem'))\n",
    "    print(\"* ================================================================================== *\")\n",
    "    print(\"*  judgment table                                                                    *\")\n",
    "    print(\"* ================================================================================== *\")\n",
    "    print(\"*  id, expr, assumptions, num_lit_gens, string_format, latex_format                  *\")\n",
    "    print(\"* ================================================================================== *\")\n",
    "    display(temp_database.fetch_all('judgment'))\n",
    "    print(\"* ================================================================================== *\")\n",
    "    print(\"*  expression table                                                                  *\")\n",
    "    print(\"* ================================================================================== *\")\n",
    "    print(\"*  id, subexpressions, class_path, core_info, style_str, string_format, latex_format *\")\n",
    "    print(\"* ================================================================================== *\")\n",
    "    display(temp_database.fetch_all('expression'))\n",
    "    print(\"* ================================================================================== *\")\n",
    "    print(\"*  proof_step table                                                                  *\")\n",
    "    print(\"* ================================================================================== *\")\n",
    "    print(\"*  id, type, path_name, name, judgment, requirements, equality_requirements,         *\")\n",
    "    print(\"*  instantiations, string_format, latex_format                                       *\")\n",
    "    print(\"* ================================================================================== *\")\n",
    "    display(temp_database.fetch_all('proof_step'))"
   ]
  },
  {
   "cell_type": "code",
   "execution_count": null,
   "metadata": {},
   "outputs": [],
   "source": [
    "# id                    TEXT NOT NULL PRIMARY KEY,\n",
    "#             type                  TEXT,\n",
    "#             path_name             TEXT,\n",
    "#             name                  TEXT,\n",
    "#             judgment              TEXT,\n",
    "#             requirements          TEXT,\n",
    "#             equality_requirements TEXT,\n",
    "#             instantiations        TEXT,\n",
    "#             string_format         TEXT,\n",
    "#             latex_format          TEXT,"
   ]
  },
  {
   "cell_type": "code",
   "execution_count": null,
   "metadata": {},
   "outputs": [],
   "source": [
    "temp_kind = 'axiom'\n",
    "temp_theory._storage.pkg_database.fetch_all(temp_kind)"
   ]
  },
  {
   "cell_type": "code",
   "execution_count": null,
   "metadata": {},
   "outputs": [],
   "source": [
    "temp_theory._storage.pkg_database.fetch_all('theorem')"
   ]
  },
  {
   "cell_type": "markdown",
   "metadata": {},
   "source": [
    "### Testing the `update_record()` method"
   ]
  },
  {
   "cell_type": "markdown",
   "metadata": {},
   "source": [
    "Take a quick look at the first theorem in the database (if available), and manipulate the entry then change it back:"
   ]
  },
  {
   "cell_type": "code",
   "execution_count": null,
   "metadata": {},
   "outputs": [],
   "source": [
    "thm_info = temp_theory._storage.pkg_database.fetch_all('theorem')\n",
    "if len(thm_info) != 0:\n",
    "    first_thm = thm_info[0]\n",
    "    print(first_thm)\n",
    "    thm_id = first_thm[1]\n",
    "    orig_judgment_id = first_thm[4]\n",
    "    orig_name = first_thm[3]\n",
    "    print(f\"\\nthm_id = {thm_id}\")\n",
    "    print(f\"orig_judgment_id = {orig_judgment_id}\")\n",
    "    print(f\"orig_name = {orig_name}\")\n",
    "    new_judgment_id = orig_judgment_id[:-1] + '1'\n",
    "    new_name = orig_name[:] + '_NEW'\n",
    "    print(f\"\\nNew id = {new_judgment_id}\")\n",
    "    print(f\"New name = {new_name}\")\n",
    "    # change judgment id and name\n",
    "    temp_theory._storage.pkg_database.update_records(\n",
    "        'theorem', {'id':'df0ac7cd8e0bd15aeaf18c6cbb52f49b57ce31930'},\n",
    "        {'name':new_name, 'judgment':new_judgment_id })\n",
    "    # check the result\n",
    "    thm_info = temp_theory._storage.pkg_database.fetch_all('theorem')\n",
    "    first_thm = thm_info[0]\n",
    "    print(\"\\nChange result:\")\n",
    "    print(f\"{first_thm}\")\n",
    "    # then change things back and check again\n",
    "    temp_theory._storage.pkg_database.update_records(\n",
    "        'theorem', {'id':'df0ac7cd8e0bd15aeaf18c6cbb52f49b57ce31930'},\n",
    "        {'name':orig_name, 'judgment':orig_judgment_id })\n",
    "    thm_info = temp_theory._storage.pkg_database.fetch_all('theorem')\n",
    "    first_thm = thm_info[0]\n",
    "    print(\"\\nChanging back to original:\")\n",
    "    print(first_thm)\n",
    "    # change name to None and check result\n",
    "    temp_theory._storage.pkg_database.update_records(\n",
    "        'theorem', {'id':'df0ac7cd8e0bd15aeaf18c6cbb52f49b57ce31930'},\n",
    "        {'name':None})\n",
    "    thm_info = temp_theory._storage.pkg_database.fetch_all('theorem')\n",
    "    first_thm = thm_info[0]\n",
    "    print(\"\\nChange result using a None entry:\")\n",
    "    print(f\"{first_thm}\")\n",
    "    # then change things back and check result again\n",
    "    temp_theory._storage.pkg_database.update_records(\n",
    "        'theorem', {'id':'df0ac7cd8e0bd15aeaf18c6cbb52f49b57ce31930'},\n",
    "        {'name':orig_name})\n",
    "    thm_info = temp_theory._storage.pkg_database.fetch_all('theorem')\n",
    "    first_thm = thm_info[0]\n",
    "    print(\"\\nChanging back to original:\")\n",
    "    print(first_thm)"
   ]
  },
  {
   "cell_type": "markdown",
   "metadata": {},
   "source": [
    "### Yay!"
   ]
  },
  {
   "cell_type": "markdown",
   "metadata": {},
   "source": [
    "### Testing the `retrieve_records()` method"
   ]
  },
  {
   "cell_type": "markdown",
   "metadata": {},
   "source": [
    "This appears to be working well. Eventually used to retrieve any sort of information about a record, in particular to retrieve info to  verify that a later-derived hash id does not collide with the hash id assigned to a different object in the database."
   ]
  },
  {
   "cell_type": "code",
   "execution_count": null,
   "metadata": {},
   "outputs": [],
   "source": [
    "common_info = temp_theory._storage.pkg_database.retrieve_records('common')\n",
    "print(f'{common_info}')\n",
    "if len(common_info) > 0:\n",
    "    print(\"\\nFirst common expression has the following database entry:\")\n",
    "    print(f'{common_info[0]}')\n",
    "    expr_id = common_info[0][0]\n",
    "    str_format = common_info[0][4]\n",
    "    print(\"\\nRetrieving the first entry using its unique id:\")\n",
    "    retrieved_rec = temp_theory._storage.pkg_database.retrieve_records('common', {'id':expr_id})\n",
    "    print(f'{retrieved_rec}')\n",
    "    print(\"\\nRetrieving just the id and name of the first entry using its unique id:\")\n",
    "    retrieved_rec = temp_theory._storage.pkg_database.retrieve_records('common', {'id':expr_id}, ['id', 'name'])\n",
    "    print(f'{retrieved_rec}')\n",
    "    print(\"\\nRetrieving the id, name, and latex_format of the first entry using its unique id and string_format:\")\n",
    "    retrieved_rec = temp_theory._storage.pkg_database.retrieve_records('common', {'id':expr_id, 'string_format':str_format},\n",
    "                                                                       ['id', 'name', 'latex_format'])\n",
    "    print(f'{retrieved_rec}')"
   ]
  },
  {
   "cell_type": "markdown",
   "metadata": {},
   "source": [
    "### Testing the `clear_all_records...()` methods"
   ]
  },
  {
   "cell_type": "markdown",
   "metadata": {},
   "source": [
    "The following `clear_all_records_in_table()` method has been tested and works fine (now commented out):"
   ]
  },
  {
   "cell_type": "code",
   "execution_count": null,
   "metadata": {},
   "outputs": [],
   "source": [
    "# temp_theory._storage.pkg_database.clear_all_records_in_table('theorem')"
   ]
  },
  {
   "cell_type": "code",
   "execution_count": null,
   "metadata": {},
   "outputs": [],
   "source": [
    "# temp_theory._storage.pkg_database.fetch_all('theorem')"
   ]
  },
  {
   "cell_type": "markdown",
   "metadata": {},
   "source": [
    "The following `clear_all_records_in_database()` method has been tested and works fine (now commented out):"
   ]
  },
  {
   "cell_type": "code",
   "execution_count": null,
   "metadata": {},
   "outputs": [],
   "source": [
    "# temp_theory._storage.pkg_database.clear_all_records_in_database()"
   ]
  },
  {
   "cell_type": "markdown",
   "metadata": {},
   "source": [
    "The following `clear_database()` method has been tested and works fine (now commented out):"
   ]
  },
  {
   "cell_type": "code",
   "execution_count": null,
   "metadata": {},
   "outputs": [],
   "source": [
    "# temp_theory._storage.pkg_database.clear_database()"
   ]
  },
  {
   "cell_type": "code",
   "execution_count": null,
   "metadata": {},
   "outputs": [],
   "source": [
    "# then get that theory's database if it exists\n",
    "# and show the content of the judgment and expression tables\n",
    "# if hasattr(temp_theory._storage, 'pkg_database'):\n",
    "#     temp_database = temp_theory._storage.pkg_database\n",
    "#     print(\"* ================================================================================== *\")\n",
    "#     print(\"*  common table                                                                      *\")\n",
    "#     print(\"* ================================================================================== *\")\n",
    "#     print(\"*  id, path_name, name, expr, string_format, latex_format                            *\")\n",
    "#     print(\"* ================================================================================== *\")\n",
    "#     display(temp_database.fetch_all('common'))\n",
    "#     print(\"* ================================================================================== *\")\n",
    "#     print(\"*  axiom table                                                                       *\")\n",
    "#     print(\"* ================================================================================== *\")\n",
    "#     print(\"*  id, path_name, name, judgment, string_format, latex_format                        *\")\n",
    "#     print(\"* ================================================================================== *\")\n",
    "#     display(temp_database.fetch_all('axiom'))\n",
    "#     print(\"* ================================================================================== *\")\n",
    "#     print(\"*  theorem table                                                                     *\")\n",
    "#     print(\"* ================================================================================== *\")\n",
    "#     print(\"*  id, path_name, name, judgment, string_format, latex_format                        *\")\n",
    "#     print(\"* ================================================================================== *\")\n",
    "#     display(temp_database.fetch_all('theorem'))\n",
    "#     print(\"* ================================================================================== *\")\n",
    "#     print(\"*  judgment table                                                                    *\")\n",
    "#     print(\"* ================================================================================== *\")\n",
    "#     print(\"*  id, expr, assumptions, num_lit_gens, string_format, latex_format                  *\")\n",
    "#     print(\"* ================================================================================== *\")\n",
    "#     display(temp_database.fetch_all('judgment'))\n",
    "#     print(\"* ================================================================================== *\")\n",
    "#     print(\"*  expression table                                                                  *\")\n",
    "#     print(\"* ================================================================================== *\")\n",
    "#     print(\"*  id, subexpressions, class_path, core_info, style_str, string_format, latex_format *\")\n",
    "#     print(\"* ================================================================================== *\")\n",
    "#     display(temp_database.fetch_all('expression'))\n",
    "#     print(\"* ================================================================================== *\")\n",
    "#     print(\"*  proof_step table                                                                  *\")\n",
    "#     print(\"* ================================================================================== *\")\n",
    "#     print(\"*  id, type, judgment_id, reqs, eq_reqs, instantiations, string_format, latex_format *\")\n",
    "#     print(\"* ================================================================================== *\")\n",
    "#     display(temp_database.fetch_all('proof_step'))"
   ]
  },
  {
   "cell_type": "code",
   "execution_count": null,
   "metadata": {},
   "outputs": [],
   "source": []
  }
 ],
 "metadata": {
  "kernelspec": {
   "display_name": "Python 3",
   "language": "python",
   "name": "python3"
  }
 },
 "nbformat": 4,
 "nbformat_minor": 0
}
