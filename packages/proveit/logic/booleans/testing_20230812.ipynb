{
 "cells": [
  {
   "cell_type": "code",
   "execution_count": null,
   "id": "49be756f",
   "metadata": {},
   "outputs": [],
   "source": [
    "import proveit\n",
    "from proveit import A, B\n",
    "from proveit import defaults\n",
    "from proveit.logic import Implies\n",
    "from proveit import Database\n",
    "\n",
    "import sqlite3\n",
    "\n",
    "%begin testing"
   ]
  },
  {
   "cell_type": "markdown",
   "id": "958b3c4b",
   "metadata": {},
   "source": [
    "## Looking at Axiom attributes"
   ]
  },
  {
   "cell_type": "code",
   "execution_count": null,
   "id": "e88da35c",
   "metadata": {},
   "outputs": [],
   "source": [
    "from proveit.logic.booleans import eq_true_elim\n",
    "display(eq_true_elim)"
   ]
  },
  {
   "cell_type": "code",
   "execution_count": null,
   "id": "3c419b78",
   "metadata": {},
   "outputs": [],
   "source": [
    "# an axiom is displayed as a judgment\n",
    "type(eq_true_elim)"
   ]
  },
  {
   "cell_type": "code",
   "execution_count": null,
   "id": "35b93e5f",
   "metadata": {},
   "outputs": [],
   "source": [
    "eq_true_elim.expr"
   ]
  },
  {
   "cell_type": "code",
   "execution_count": null,
   "id": "2746e2e7",
   "metadata": {},
   "outputs": [],
   "source": [
    "# from proveit._core_.expression._theory_storage import TheoryFolderStorage\n",
    "# eq_true_elim._generate_unique_rep(TheoryFolderStorage._prove_it_storage_id)"
   ]
  },
  {
   "cell_type": "code",
   "execution_count": null,
   "id": "65f66fe0",
   "metadata": {},
   "outputs": [],
   "source": [
    "eq_true_elim.expr.string()"
   ]
  },
  {
   "cell_type": "code",
   "execution_count": null,
   "id": "096a7bbb",
   "metadata": {},
   "outputs": [],
   "source": [
    "eq_true_elim.expr.latex()"
   ]
  },
  {
   "cell_type": "markdown",
   "id": "cad3597e",
   "metadata": {},
   "source": [
    "## Looking at Common Expression attributes"
   ]
  },
  {
   "cell_type": "code",
   "execution_count": null,
   "id": "3e22d3ae",
   "metadata": {},
   "outputs": [],
   "source": [
    "from proveit.logic.booleans import Boolean\n",
    "display(Boolean)"
   ]
  },
  {
   "cell_type": "code",
   "execution_count": null,
   "id": "02d909af",
   "metadata": {},
   "outputs": [],
   "source": [
    "type(Boolean)"
   ]
  },
  {
   "cell_type": "markdown",
   "id": "02c69912",
   "metadata": {},
   "source": [
    "## Theory Package and Database"
   ]
  },
  {
   "cell_type": "code",
   "execution_count": null,
   "id": "e30a5c5e",
   "metadata": {},
   "outputs": [],
   "source": [
    "# get the Theory for the current notebook location\n",
    "temp_theory = proveit.Theory()"
   ]
  },
  {
   "cell_type": "code",
   "execution_count": null,
   "id": "2e758a75",
   "metadata": {},
   "outputs": [],
   "source": [
    "# temp_theory._storage.get_axiom_hash('eq_true_elim')"
   ]
  },
  {
   "cell_type": "code",
   "execution_count": null,
   "id": "93845463",
   "metadata": {},
   "outputs": [],
   "source": [
    "# then get that theory's database if it exists\n",
    "# and show the content of the judgment and expression tables\n",
    "if hasattr(temp_theory._storage, 'pkg_database'):\n",
    "    temp_database = temp_theory._storage.pkg_database\n",
    "    print(\"* ================================================================================== *\")\n",
    "    print(\"*  common table                                                                      *\")\n",
    "    print(\"* ================================================================================== *\")\n",
    "    print(\"*  id, path_name, name, expr, string_format, latex_format                            *\")\n",
    "    print(\"* ================================================================================== *\")\n",
    "    display(temp_database.fetch_all('common'))\n",
    "    print(\"* ================================================================================== *\")\n",
    "    print(\"*  axiom table                                                                       *\")\n",
    "    print(\"* ================================================================================== *\")\n",
    "    print(\"*  id, path_name, name, judgment, string_format, latex_format                        *\")\n",
    "    print(\"* ================================================================================== *\")\n",
    "    display(temp_database.fetch_all('axiom'))\n",
    "    print(\"* ================================================================================== *\")\n",
    "    print(\"*  theorem table                                                                     *\")\n",
    "    print(\"* ================================================================================== *\")\n",
    "    print(\"*  id, path_name, name, judgment, string_format, latex_format                        *\")\n",
    "    print(\"* ================================================================================== *\")\n",
    "    display(temp_database.fetch_all('theorem'))\n",
    "    print(\"* ================================================================================== *\")\n",
    "    print(\"*  judgment table                                                                    *\")\n",
    "    print(\"* ================================================================================== *\")\n",
    "    print(\"*  id, expr, assumptions, num_lit_gens, string_format, latex_format                  *\")\n",
    "    print(\"* ================================================================================== *\")\n",
    "    display(temp_database.fetch_all('judgment'))\n",
    "    print(\"* ================================================================================== *\")\n",
    "    print(\"*  expression table                                                                  *\")\n",
    "    print(\"* ================================================================================== *\")\n",
    "    print(\"*  id, subexpressions, class_path, core_info, style_str, string_format, latex_format *\")\n",
    "    print(\"* ================================================================================== *\")\n",
    "    display(temp_database.fetch_all('expression'))\n",
    "    print(\"* ================================================================================== *\")\n",
    "    print(\"*  proof_step table                                                                  *\")\n",
    "    print(\"* ================================================================================== *\")\n",
    "    print(\"*  id, type, judgment_id, reqs, eq_reqs, instantiations, string_format, latex_format *\")\n",
    "    print(\"* ================================================================================== *\")\n",
    "    display(temp_database.fetch_all('proof_step'))"
   ]
  },
  {
   "cell_type": "code",
   "execution_count": null,
   "id": "6740c3cc",
   "metadata": {},
   "outputs": [],
   "source": [
    "temp_kind = 'axiom'\n",
    "temp_theory._storage.pkg_database.fetch_all(temp_kind)"
   ]
  },
  {
   "cell_type": "code",
   "execution_count": null,
   "id": "15b30516",
   "metadata": {},
   "outputs": [],
   "source": [
    "temp_theory._storage.pkg_database.fetch_all('axiom')"
   ]
  },
  {
   "cell_type": "code",
   "execution_count": null,
   "id": "1015ccf9",
   "metadata": {},
   "outputs": [],
   "source": []
  }
 ],
 "metadata": {
  "kernelspec": {
   "display_name": "Python 3",
   "language": "python",
   "name": "python3"
  }
 },
 "nbformat": 4,
 "nbformat_minor": 0
}
