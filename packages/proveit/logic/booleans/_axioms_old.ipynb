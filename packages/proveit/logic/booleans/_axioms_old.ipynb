{
 "cells": [
  {
   "cell_type": "code",
   "execution_count": null,
   "metadata": {},
   "outputs": [],
   "source": [
    "import proveit.special_statement_magic # for %begin_axioms and %end_axioms\n",
    "from proveit.basiclogic import BOOLEANS, TRUE, FALSE, in_bool, Forall, Exists, NotExists, And, Or, Not, Implies, Iff, \\\n",
    "Union, Singleton, Equals, NotEquals\n",
    "from proveit.common import A, B, C, P, Q, S, x, Px, Qx, Aetc, Cetc, Px_etc, Qetc, x_etc, etc_Qx_etc"
   ]
  },
  {
   "cell_type": "code",
   "execution_count": null,
   "metadata": {},
   "outputs": [],
   "source": [
    "%begin_axioms"
   ]
  },
  {
   "cell_type": "code",
   "execution_count": null,
   "metadata": {},
   "outputs": [],
   "source": [
    "true_axiom = TRUE\n",
    "true_axiom"
   ]
  },
  {
   "cell_type": "code",
   "execution_count": null,
   "metadata": {},
   "outputs": [],
   "source": [
    "true_axiom"
   ]
  },
  {
   "cell_type": "code",
   "execution_count": null,
   "metadata": {},
   "outputs": [],
   "source": [
    "bools_def = Equals(BOOLEANS, Union(Singleton(TRUE), Singleton(FALSE)))\n",
    "bools_def"
   ]
  },
  {
   "cell_type": "code",
   "execution_count": null,
   "metadata": {},
   "outputs": [],
   "source": [
    "bools_def = Equals(BOOLEANS, Union(Singleton(TRUE), Singleton(FALSE)))\n",
    "bools_def"
   ]
  },
  {
   "cell_type": "code",
   "execution_count": null,
   "metadata": {},
   "outputs": [],
   "source": [
    "bools_def = Equals(BOOLEANS, Union(Singleton(TRUE), Singleton(FALSE)))\n",
    "bools_def"
   ]
  },
  {
   "cell_type": "code",
   "execution_count": null,
   "metadata": {},
   "outputs": [],
   "source": [
    "false_not_true = NotEquals(FALSE, TRUE)\n",
    "false_not_true"
   ]
  },
  {
   "cell_type": "code",
   "execution_count": null,
   "metadata": {},
   "outputs": [],
   "source": [
    "forall_in_bool = Forall((P, Qetc, S), in_bool(Forall(x_etc, Px_etc, S, etc_Qx_etc)))\n",
    "forall_in_bool"
   ]
  },
  {
   "cell_type": "code",
   "execution_count": null,
   "metadata": {},
   "outputs": [],
   "source": [
    "exists_def = Forall((P, Qetc, S), Equals(Exists(x_etc, Px_etc, S, etc_Qx_etc), Not(Forall(x_etc, NotEquals(Px_etc, TRUE), S, etc_Qx_etc))))\n",
    "exists_def"
   ]
  },
  {
   "cell_type": "code",
   "execution_count": null,
   "metadata": {},
   "outputs": [],
   "source": [
    "not_exists_def = Forall((P, Qetc, S), Equals(NotExists(x_etc, Px_etc, S, etc_Qx_etc), Not(Exists(x_etc, Px_etc, S, etc_Qx_etc))))\n",
    "not_exists_def"
   ]
  },
  {
   "cell_type": "code",
   "execution_count": null,
   "metadata": {},
   "outputs": [],
   "source": [
    "not_f = Equals(Not(FALSE), TRUE)\n",
    "not_f"
   ]
  },
  {
   "cell_type": "code",
   "execution_count": null,
   "metadata": {},
   "outputs": [],
   "source": [
    "not_t = Equals(Not(TRUE), FALSE)\n",
    "not_t"
   ]
  },
  {
   "cell_type": "code",
   "execution_count": null,
   "metadata": {},
   "outputs": [],
   "source": [
    "implicit_not_f = Forall(A, Implies(Equals(Not(A), TRUE), Equals(A, FALSE)))\n",
    "implicit_not_f"
   ]
  },
  {
   "cell_type": "code",
   "execution_count": null,
   "metadata": {},
   "outputs": [],
   "source": [
    "implicit_not_t = Forall(A, Implies(Equals(Not(A), FALSE), Equals(A, TRUE)))\n",
    "implicit_not_t"
   ]
  },
  {
   "cell_type": "code",
   "execution_count": null,
   "metadata": {},
   "outputs": [],
   "source": [
    "and_t_t = Equals(And(TRUE, TRUE), TRUE)\n",
    "and_t_t"
   ]
  },
  {
   "cell_type": "code",
   "execution_count": null,
   "metadata": {},
   "outputs": [],
   "source": [
    "and_t_f = Equals(And(TRUE, FALSE), FALSE)\n",
    "and_t_f"
   ]
  },
  {
   "cell_type": "code",
   "execution_count": null,
   "metadata": {},
   "outputs": [],
   "source": [
    "and_f_t = Equals(And(FALSE, TRUE), FALSE)\n",
    "and_f_t"
   ]
  },
  {
   "cell_type": "code",
   "execution_count": null,
   "metadata": {},
   "outputs": [],
   "source": [
    "and_f_f = Equals(And(FALSE, FALSE), FALSE)\n",
    "and_f_f"
   ]
  },
  {
   "cell_type": "code",
   "execution_count": null,
   "metadata": {},
   "outputs": [],
   "source": [
    "and_composition = Forall((A, B, Cetc), Equals(And(A, B, Cetc), And(A, And(B, Cetc))))\n",
    "and_composition"
   ]
  },
  {
   "cell_type": "code",
   "execution_count": null,
   "metadata": {},
   "outputs": [],
   "source": [
    "and_implies_each = Forall((Aetc, B, Cetc), Implies(And(Aetc, B, Cetc), B))\n",
    "and_implies_each"
   ]
  },
  {
   "cell_type": "code",
   "execution_count": null,
   "metadata": {},
   "outputs": [],
   "source": [
    "or_t_t = Equals(Or(TRUE, TRUE), TRUE)\n",
    "or_t_t"
   ]
  },
  {
   "cell_type": "code",
   "execution_count": null,
   "metadata": {},
   "outputs": [],
   "source": [
    "or_t_f = Equals(Or(TRUE, FALSE), TRUE)\n",
    "or_t_f"
   ]
  },
  {
   "cell_type": "code",
   "execution_count": null,
   "metadata": {},
   "outputs": [],
   "source": [
    "or_f_t = Equals(Or(FALSE, TRUE), TRUE)\n",
    "or_f_t"
   ]
  },
  {
   "cell_type": "code",
   "execution_count": null,
   "metadata": {},
   "outputs": [],
   "source": [
    "or_f_f = Equals(Or(FALSE, FALSE), FALSE)\n",
    "or_f_f"
   ]
  },
  {
   "cell_type": "code",
   "execution_count": null,
   "metadata": {},
   "outputs": [],
   "source": [
    "or_composition = Forall((A, B, Cetc), Equals(Or(A, B, Cetc), Or(A, Or(B, Cetc))))\n",
    "or_composition"
   ]
  },
  {
   "cell_type": "code",
   "execution_count": null,
   "metadata": {},
   "outputs": [],
   "source": [
    "iff_def = Forall((A, B), Equals(Iff(A, B), And(Implies(A, B), Implies(B, A))))\n",
    "iff_def"
   ]
  },
  {
   "cell_type": "code",
   "execution_count": null,
   "metadata": {},
   "outputs": [],
   "source": [
    "eq_true_intro = Forall(A, Implies(A, Equals(A, TRUE)))\n",
    "eq_true_intro"
   ]
  },
  {
   "cell_type": "code",
   "execution_count": null,
   "metadata": {},
   "outputs": [],
   "source": [
    "eq_true_elim = Forall(A, Implies(Equals(A, TRUE), A))\n",
    "eq_true_elim"
   ]
  },
  {
   "cell_type": "code",
   "execution_count": null,
   "metadata": {},
   "outputs": [],
   "source": [
    "implies_t_f = Equals(Implies(TRUE, FALSE), FALSE)\n",
    "implies_t_f"
   ]
  },
  {
   "cell_type": "code",
   "execution_count": null,
   "metadata": {},
   "outputs": [],
   "source": [
    "contradictory_validation = Forall(A, Implies(Implies(Not(A), FALSE), A), domain=BOOLEANS)\n",
    "contradictory_validation"
   ]
  },
  {
   "cell_type": "code",
   "execution_count": null,
   "metadata": {},
   "outputs": [],
   "source": [
    "%end_axioms"
   ]
  },
  {
   "cell_type": "code",
   "execution_count": null,
   "metadata": {},
   "outputs": [],
   "source": []
  }
 ],
 "metadata": {
  "kernelspec": {
   "display_name": "Python 3",
   "language": "python",
   "name": "python3"
  }
 },
 "nbformat": 4,
 "nbformat_minor": 0
}
