{
 "cells": [
  {
   "cell_type": "markdown",
   "metadata": {},
   "source": [
    "Theorems (or conjectures) for the theory of <a class=\"ProveItLink\" href=\"theory.ipynb\">proveit.logic.booleans.exclusive_disjunction</a>\n",
    "========"
   ]
  },
  {
   "cell_type": "code",
   "execution_count": null,
   "metadata": {},
   "outputs": [],
   "source": [
    "import proveit\n",
    "# Prepare this notebook for defining the theorems of a theory:\n",
    "%theorems_notebook # Keep this at the top following 'import proveit'.\n",
    "\n",
    "from proveit import i, l, m, n, A, B, C, D, ExprRange, IndexedVar\n",
    "from proveit.core_expr_types import A_1_to_m, A_1_to_l, B_1_to_m, C_1_to_m, C_1_to_n, D_1_to_n\n",
    "\n",
    "C_1_to_m, B, D_1_to_n\n",
    "from proveit.logic import (And, Boolean, Equals, FALSE, Forall, Implies,\n",
    "                           in_bool, Not, Or, Set, TRUE, XOr)\n",
    "from proveit.numbers import one, Natural, NaturalPos"
   ]
  },
  {
   "cell_type": "code",
   "execution_count": null,
   "metadata": {},
   "outputs": [],
   "source": [
    "%begin theorems"
   ]
  },
  {
   "cell_type": "code",
   "execution_count": null,
   "metadata": {},
   "outputs": [],
   "source": [
    "true_xor_true_negated = Not(XOr(TRUE, TRUE))"
   ]
  },
  {
   "cell_type": "code",
   "execution_count": null,
   "metadata": {},
   "outputs": [],
   "source": [
    "true_xor_false = XOr(TRUE, FALSE)"
   ]
  },
  {
   "cell_type": "code",
   "execution_count": null,
   "metadata": {},
   "outputs": [],
   "source": [
    "false_xor_true = XOr(FALSE, TRUE)"
   ]
  },
  {
   "cell_type": "code",
   "execution_count": null,
   "metadata": {},
   "outputs": [],
   "source": [
    "false_xor_false_negated = Not(XOr(FALSE, FALSE))"
   ]
  },
  {
   "cell_type": "code",
   "execution_count": null,
   "metadata": {},
   "outputs": [],
   "source": [
    "xor_not_if_both = Forall((A, B), Not(XOr(A, B)), conditions=[A, B])"
   ]
  },
  {
   "cell_type": "code",
   "execution_count": null,
   "metadata": {},
   "outputs": [],
   "source": [
    "xor_if_only_left = Forall((A, B), XOr(A, B), conditions=[A, Not(B)])"
   ]
  },
  {
   "cell_type": "code",
   "execution_count": null,
   "metadata": {},
   "outputs": [],
   "source": [
    "xor_if_only_right = Forall((A, B), XOr(A, B), conditions=[Not(A), B])"
   ]
  },
  {
   "cell_type": "code",
   "execution_count": null,
   "metadata": {},
   "outputs": [],
   "source": [
    "xor_not_if_neither = Forall((A, B), Not(XOr(A, B)), conditions=[Not(A), Not(B)])"
   ]
  },
  {
   "cell_type": "code",
   "execution_count": null,
   "metadata": {},
   "outputs": [],
   "source": [
    "binary_xor_neither_contradiction = Forall((A, B), FALSE, conditions=(XOr(A, B), Not(A), Not(B)))"
   ]
  },
  {
   "cell_type": "code",
   "execution_count": null,
   "metadata": {},
   "outputs": [],
   "source": [
    "binary_xor_both_contradiction = Forall((A, B), FALSE, conditions=(XOr(A, B), A, B))"
   ]
  },
  {
   "cell_type": "code",
   "execution_count": null,
   "metadata": {},
   "outputs": [],
   "source": [
    "left_if_not_right = Forall((A, B), A, domain=Boolean, conditions=(XOr(A, B), Not(B)))"
   ]
  },
  {
   "cell_type": "code",
   "execution_count": null,
   "metadata": {},
   "outputs": [],
   "source": [
    "right_if_not_left = Forall((A, B), B, domain=Boolean, conditions=(XOr(A, B), Not(A)))"
   ]
  },
  {
   "cell_type": "code",
   "execution_count": null,
   "metadata": {},
   "outputs": [],
   "source": [
    "not_left_if_right = Forall((A, B), Not(A), domain = Boolean, conditions = (XOr(A, B), B))"
   ]
  },
  {
   "cell_type": "code",
   "execution_count": null,
   "metadata": {},
   "outputs": [],
   "source": [
    "not_right_if_left = Forall((A, B), Not(B), domain = Boolean, conditions = (XOr(A, B), A))"
   ]
  },
  {
   "cell_type": "code",
   "execution_count": null,
   "metadata": {},
   "outputs": [],
   "source": [
    "xor_as_or_of_and = (\n",
    "    Forall((A, B), Or(And(A, Not(B)), And(Not(A), B)),\n",
    "           conditions = [XOr(A, B)], domain=Boolean)\n",
    ")"
   ]
  },
  {
   "cell_type": "code",
   "execution_count": null,
   "metadata": {},
   "outputs": [],
   "source": [
    "not_xor_as_both_or_neither = (\n",
    "    Forall((A, B), Or(And(A, B), And(Not(A), Not(B))),\n",
    "           conditions = [Not(XOr(A, B))], domain=Boolean)\n",
    ")"
   ]
  },
  {
   "cell_type": "code",
   "execution_count": null,
   "metadata": {},
   "outputs": [],
   "source": [
    "xor_as_or_but_not_and = Forall((A, B),\n",
    "       And(Or(A, B), Not(And(A, B))),\n",
    "conditions = [XOr(A, B)],\n",
    "domain = Boolean)"
   ]
  },
  {
   "cell_type": "markdown",
   "metadata": {},
   "source": [
    "This **singular constructive dilemma lemma** will require a single provable $C$ be designated as a Boolean.  The main (non-lemma) version will drop this constraint. The multi_dilemma version works since the $A_{1}\\oplus A_{2} \\oplus \\cdots \\oplus A_{m}$ is TRUE if and only if an odd number of the $A_{i} \\in \\{A_{1}, A_{2}, \\ldots, A_{m}\\}$ are TRUE. The dilemma theorems culminate in the **constructive dilemma** and **construction multi-dilemma** theorems that can prove some $C \\vee D$ given $A \\oplus B$, $A \\Rightarrow C$, and $B \\Rightarrow D$."
   ]
  },
  {
   "cell_type": "code",
   "execution_count": null,
   "metadata": {},
   "outputs": [],
   "source": [
    "singular_constructive_dilemma_lemma = Forall((A, B, C), C, conditions=[XOr(A, B), Implies(A, C), Implies(B, C)],\n",
    "                                                domain=Boolean)"
   ]
  },
  {
   "cell_type": "code",
   "execution_count": null,
   "metadata": {},
   "outputs": [],
   "source": [
    "singular_constructive_dilemma = Forall((A, B), Forall(C, C, conditions=[Implies(A, C), Implies(B, C)]), \n",
    "                                     domain=Boolean, conditions=[XOr(A, B)])"
   ]
  },
  {
   "cell_type": "code",
   "execution_count": null,
   "metadata": {},
   "outputs": [],
   "source": [
    "singular_constructive_multi_dilemma = (\n",
    "    Forall(m, \n",
    "    Forall(A_1_to_m,\n",
    "    Forall(C, C, conditions=[ExprRange(i, Implies(IndexedVar(A,i), C), one, m)]),\n",
    "    domain=Boolean,conditions=[XOr(A_1_to_m)]),\n",
    "    domain = Natural)\n",
    ")"
   ]
  },
  {
   "cell_type": "code",
   "execution_count": null,
   "metadata": {},
   "outputs": [],
   "source": [
    "constructive_dilemma = Forall((A, B, C, D), Or(C, D), domain=Boolean, \n",
    "                             conditions=[XOr(A, B), Implies(A, C), Implies(B, D)])"
   ]
  },
  {
   "cell_type": "code",
   "execution_count": null,
   "metadata": {},
   "outputs": [],
   "source": [
    "constructive_multi_dilemma = (\n",
    "    Forall(m, \n",
    "    Forall((A_1_to_m, B_1_to_m), Or(B_1_to_m),\n",
    "            domain=Boolean,\n",
    "            conditions=[XOr(A_1_to_m),\n",
    "                        ExprRange(i,Implies(IndexedVar(A,i), IndexedVar(B,i)), one, m)]),\n",
    "    domain = Natural)\n",
    ")"
   ]
  },
  {
   "cell_type": "code",
   "execution_count": null,
   "metadata": {},
   "outputs": [],
   "source": [
    "destructive_dilemma = Forall((A, B, C, D), XOr(Not(A), Not(B)), domain=Boolean, \n",
    "                            conditions=[XOr(Not(C), Not(D)), Implies(A, C), Implies(B, D)])"
   ]
  },
  {
   "cell_type": "code",
   "execution_count": null,
   "metadata": {},
   "outputs": [],
   "source": [
    "destructive_multi_dilemma = (\n",
    "    Forall(m,\n",
    "    Forall((A_1_to_m, B_1_to_m), \n",
    "            XOr(ExprRange(i, Not(IndexedVar(A,i)), one, m)), \n",
    "            domain=Boolean, \n",
    "            conditions=[XOr(ExprRange(i, Not(IndexedVar(B,i)), one, m)), \n",
    "                            ExprRange(i,Implies(IndexedVar(A, i), IndexedVar(B, i)), one,m)]), \n",
    "    domain=Natural)\n",
    ")"
   ]
  },
  {
   "cell_type": "code",
   "execution_count": null,
   "metadata": {},
   "outputs": [],
   "source": [
    "empty_xor_eval = Equals(XOr(), FALSE)"
   ]
  },
  {
   "cell_type": "code",
   "execution_count": null,
   "metadata": {},
   "outputs": [],
   "source": [
    "unary_xor_lemma = Forall(A, (Equals(XOr(A), XOr(FALSE, A))), domain = Boolean)"
   ]
  },
  {
   "cell_type": "code",
   "execution_count": null,
   "metadata": {},
   "outputs": [],
   "source": [
    "unary_xor_reduction = Forall(A, Equals(XOr(A), A), domain = Boolean)"
   ]
  },
  {
   "cell_type": "code",
   "execution_count": null,
   "metadata": {},
   "outputs": [],
   "source": [
    "each_is_bool = (\n",
    "    Forall((m, n), \n",
    "    Forall((A_1_to_m, B, C_1_to_n), in_bool(B), \n",
    "            conditions=in_bool(XOr(A_1_to_m, B, C_1_to_n))),\n",
    "    domain=Natural)\n",
    ")"
   ]
  },
  {
   "cell_type": "code",
   "execution_count": null,
   "metadata": {},
   "outputs": [],
   "source": [
    "# this would require some sense of odd cardinality for some subset . . .\n",
    "# leaving this here (from the Or package) as a placeholder\n",
    "# or_if_any = Forall((m, n), \n",
    "#                  Forall((A_1_to_m, B, C_1_to_n),\n",
    "#                         Or(A_1_to_m, B, C_1_to_n),\n",
    "#                         domain=Boolean, \n",
    "#                         conditions=[B]),\n",
    "#                  domain=Natural)"
   ]
  },
  {
   "cell_type": "code",
   "execution_count": null,
   "metadata": {},
   "outputs": [],
   "source": [
    "not_xor_if_not_any = (\n",
    "    Forall(m,\n",
    "    Forall(A_1_to_m, Not(XOr(A_1_to_m)),\n",
    "           conditions=[ExprRange(i, Not(IndexedVar(A, i)), one, m)]),\n",
    "    domain=Natural)\n",
    ")"
   ]
  },
  {
   "cell_type": "code",
   "execution_count": null,
   "metadata": {},
   "outputs": [],
   "source": [
    "# leaving this here (from the Or package) as a placeholder\n",
    "# not clear we can do something like this; would need some sense of cardinality of the set of TRUE values\n",
    "# any_if_all = \\\n",
    "#     Forall(m, Forall(A_1_to_m, Or(A_1_to_m),\n",
    "#                      conditions=[A_1_to_m]),\n",
    "#            domain=NaturalPos)"
   ]
  },
  {
   "cell_type": "code",
   "execution_count": null,
   "metadata": {},
   "outputs": [],
   "source": [
    "# leaving this here (from the Or package) as a placeholder\n",
    "# not clear we can do something like this; would need some sense of cardinality of the set of TRUE values\n",
    "# or_contradiction = \\\n",
    "#     Forall(m, Forall(A_1_to_m, FALSE, \n",
    "#                      conditions=(Or(A_1_to_m), \n",
    "#                                  ExprRange(i, Not(IndexedVar(A, i)),\n",
    "#                                            one, m))),\n",
    "#            domain=Natural)"
   ]
  },
  {
   "cell_type": "code",
   "execution_count": null,
   "metadata": {},
   "outputs": [],
   "source": [
    "# leaving this here (from the Or package) as a placeholder\n",
    "# not clear we can do something like this; would need some sense of cardinality of the set of TRUE values\n",
    "# See the false_eval theorem below for related idea. We might could have A_{i} all True\n",
    "# and then have the condition that m is odd\n",
    "# true_eval = Forall((m, n), \n",
    "#                   Forall((A_1_to_m, C_1_to_n), \n",
    "#                          Equals(Or(A_1_to_m, TRUE, C_1_to_n), TRUE),\n",
    "#                          domain=Boolean),\n",
    "#                   domain=Natural)"
   ]
  },
  {
   "cell_type": "code",
   "execution_count": null,
   "metadata": {},
   "outputs": [],
   "source": [
    "false_eval = Forall(m,\n",
    "             Forall(A_1_to_m, \n",
    "                    Equals(XOr(A_1_to_m), FALSE), \n",
    "                    domain=Set(FALSE)),\n",
    "             domain=Natural)"
   ]
  },
  {
   "cell_type": "code",
   "execution_count": null,
   "metadata": {},
   "outputs": [],
   "source": [
    "binary_closure = Forall((A, B), in_bool(XOr(A, B)), domain=Boolean)"
   ]
  },
  {
   "cell_type": "code",
   "execution_count": null,
   "metadata": {},
   "outputs": [],
   "source": [
    "closure = Forall(m,\n",
    "          Forall(A_1_to_m, in_bool(XOr(A_1_to_m)), domain=Boolean),\n",
    "          domain=NaturalPos)"
   ]
  },
  {
   "cell_type": "code",
   "execution_count": null,
   "metadata": {},
   "outputs": [],
   "source": [
    "# several DeMorgan's Laws like this in disjunction Or, but\n",
    "# challenging for the XOr;\n",
    "# demorgans_law_and_to_or_bin_explicit = \\\n",
    "#     Forall((A,B), Or(A,B), \n",
    "#            conditions=[Not(And(Not(A), Not(B)))], \n",
    "#            domain=Boolean)"
   ]
  },
  {
   "cell_type": "code",
   "execution_count": null,
   "metadata": {},
   "outputs": [],
   "source": [
    "commutation = Forall((A, B), Equals(XOr(A, B), XOr(B, A)), \n",
    "                     domain=Boolean)"
   ]
  },
  {
   "cell_type": "code",
   "execution_count": null,
   "metadata": {},
   "outputs": [],
   "source": [
    "leftward_commutation = (\n",
    "    Forall((l, m, n),\n",
    "    Forall((A_1_to_l,B_1_to_m,C,D_1_to_n), \n",
    "            Equals(XOr(A_1_to_l, B_1_to_m, C, D_1_to_n), \n",
    "                   XOr(A_1_to_l, C, B_1_to_m, D_1_to_n)).with_wrapping_at(2),\n",
    "            domain=Boolean), \n",
    "    domain=Natural)\n",
    ")"
   ]
  },
  {
   "cell_type": "code",
   "execution_count": null,
   "metadata": {},
   "outputs": [],
   "source": [
    "rightward_commutation = (\n",
    "    Forall((l, m, n),\n",
    "    Forall((A_1_to_l,B,C_1_to_m,D_1_to_n), \n",
    "            Equals(XOr(A_1_to_l, B, C_1_to_m, D_1_to_n), \n",
    "                   XOr(A_1_to_l, C_1_to_m, B, D_1_to_n)).with_wrapping_at(2),\n",
    "            domain=Boolean),\n",
    "    domain = Natural)\n",
    ")"
   ]
  },
  {
   "cell_type": "code",
   "execution_count": null,
   "metadata": {},
   "outputs": [],
   "source": [
    "commute = Forall((A, B), XOr(B, A), conditions=[XOr(A, B)])"
   ]
  },
  {
   "cell_type": "code",
   "execution_count": null,
   "metadata": {},
   "outputs": [],
   "source": [
    "leftward_commute = (\n",
    "    Forall((l, m, n), \n",
    "    Forall((A_1_to_l,B_1_to_m,C,D_1_to_n), \n",
    "            XOr(A_1_to_l, C, B_1_to_m,D_1_to_n),\n",
    "            conditions=[XOr(A_1_to_l, B_1_to_m, C, D_1_to_n)]),\n",
    "    domain=Natural)\n",
    ")"
   ]
  },
  {
   "cell_type": "code",
   "execution_count": null,
   "metadata": {},
   "outputs": [],
   "source": [
    "rightward_commute = (\n",
    "    Forall((l, m, n), \n",
    "    Forall((A_1_to_l,B,C_1_to_m,D_1_to_n), \n",
    "           XOr(A_1_to_l, C_1_to_m, B, D_1_to_n),\n",
    "           conditions=[XOr(A_1_to_l, B, C_1_to_m, D_1_to_n)]),\n",
    "    domain=Natural)\n",
    ")"
   ]
  },
  {
   "cell_type": "code",
   "execution_count": null,
   "metadata": {},
   "outputs": [],
   "source": [
    "association = (\n",
    "    Forall((l,m,n), \n",
    "    Forall((A_1_to_l,B_1_to_m,C_1_to_n), \n",
    "            Equals(XOr(A_1_to_l, B_1_to_m, C_1_to_n),\n",
    "                   XOr(A_1_to_l, XOr(B_1_to_m), C_1_to_n)).with_wrapping_at(2),\n",
    "          domain=Boolean),\n",
    "    domain=Natural)\n",
    ")"
   ]
  },
  {
   "cell_type": "code",
   "execution_count": null,
   "metadata": {},
   "outputs": [],
   "source": [
    "disassociation = (\n",
    "    Forall((l,m,n), \n",
    "    Forall((A_1_to_l,B_1_to_m,C_1_to_n), \n",
    "           Equals(XOr(A_1_to_l, XOr(B_1_to_m), C_1_to_n),\n",
    "                  XOr(A_1_to_l, B_1_to_m, C_1_to_n)).with_wrapping_at(2),\n",
    "           domain=Boolean),\n",
    "    domain=Natural)\n",
    ")"
   ]
  },
  {
   "cell_type": "code",
   "execution_count": null,
   "metadata": {},
   "outputs": [],
   "source": [
    "associate = (\n",
    "    Forall((l,m,n), \n",
    "    Forall((A_1_to_l,B_1_to_m,C_1_to_n), \n",
    "           XOr(A_1_to_l, XOr(B_1_to_m), C_1_to_n),\n",
    "           conditions=[XOr(A_1_to_l, B_1_to_m, C_1_to_n)]),\n",
    "    domain=Natural)\n",
    ")"
   ]
  },
  {
   "cell_type": "code",
   "execution_count": null,
   "metadata": {},
   "outputs": [],
   "source": [
    "disassociate = (\n",
    "    Forall((l,m,n), \n",
    "    Forall((A_1_to_l,B_1_to_m,C_1_to_n), \n",
    "           XOr(A_1_to_l, B_1_to_m, C_1_to_n),\n",
    "           conditions=[XOr(A_1_to_l, XOr(B_1_to_m), C_1_to_n)]),\n",
    "    domain=Natural)\n",
    ")"
   ]
  },
  {
   "cell_type": "code",
   "execution_count": null,
   "metadata": {},
   "outputs": [],
   "source": [
    "# Then the disjunction Or has some nice theorems relating disjunction to quantification\n",
    "# which is more difficult for the XOr case but worth considering."
   ]
  },
  {
   "cell_type": "code",
   "execution_count": null,
   "metadata": {},
   "outputs": [],
   "source": [
    "%end theorems"
   ]
  }
 ],
 "metadata": {
  "kernelspec": {
   "display_name": "Python 3",
   "language": "python",
   "name": "python3"
  }
 },
 "nbformat": 4,
 "nbformat_minor": 0
}
