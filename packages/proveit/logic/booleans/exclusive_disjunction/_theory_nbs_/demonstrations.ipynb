{
 "cells": [
  {
   "cell_type": "markdown",
   "metadata": {},
   "source": [
    "Demonstrations for the theory of <a class=\"ProveItLink\" href=\"theory.ipynb\">proveit.logic.booleans.exclusive_disjunction</a>\n",
    "========"
   ]
  },
  {
   "cell_type": "code",
   "execution_count": null,
   "metadata": {},
   "outputs": [],
   "source": [
    "import proveit\n",
    "from proveit import i, n, A, B, C, D, E, F, G, defaults, ExprRange, IndexedVar\n",
    "from proveit.logic import And, Equals, FALSE, Implies, in_bool, Not, TRUE, XOr\n",
    "from proveit.numbers import one\n",
    "%begin demonstrations"
   ]
  },
  {
   "cell_type": "markdown",
   "metadata": {},
   "source": [
    "## Exclusive Disjunction, $\\text{XOR}(A, B)$,  $A \\oplus B$"
   ]
  },
  {
   "cell_type": "markdown",
   "metadata": {},
   "source": [
    "## Miscellaneous Testing\n",
    "Testing various XOR-related methods. Some of this material could be integrated into the `_demonstrations_` page eventually and/or deleted as development continues."
   ]
  },
  {
   "cell_type": "markdown",
   "metadata": {},
   "source": [
    "#### Basic Constructions"
   ]
  },
  {
   "cell_type": "code",
   "execution_count": null,
   "metadata": {},
   "outputs": [],
   "source": [
    "XOr(A, B)"
   ]
  },
  {
   "cell_type": "code",
   "execution_count": null,
   "metadata": {},
   "outputs": [],
   "source": [
    "A_1_to_n = ExprRange(i, IndexedVar(A, i), one, n)"
   ]
  },
  {
   "cell_type": "code",
   "execution_count": null,
   "metadata": {},
   "outputs": [],
   "source": [
    "XOr(A_1_to_n)"
   ]
  },
  {
   "cell_type": "code",
   "execution_count": null,
   "metadata": {},
   "outputs": [],
   "source": [
    "XOr(A)"
   ]
  },
  {
   "cell_type": "code",
   "execution_count": null,
   "metadata": {},
   "outputs": [],
   "source": [
    "XOr()"
   ]
  },
  {
   "cell_type": "markdown",
   "metadata": {},
   "source": [
    "#### Testing the `XOr()._readily_provable()` method"
   ]
  },
  {
   "cell_type": "code",
   "execution_count": null,
   "metadata": {},
   "outputs": [],
   "source": [
    "XOr(A, B)._readily_provable()"
   ]
  },
  {
   "cell_type": "code",
   "execution_count": null,
   "metadata": {},
   "outputs": [],
   "source": [
    "defaults.assumptions = [Equals(A, FALSE), Equals(B, TRUE)]\n",
    "temp_provable = XOr(A, B)._readily_provable()\n",
    "display(temp_provable)\n",
    "defaults.assumptions = []"
   ]
  },
  {
   "cell_type": "code",
   "execution_count": null,
   "metadata": {},
   "outputs": [],
   "source": [
    "# this will dig down\n",
    "temp_provable = XOr(A, B).readily_provable(assumptions = [Equals(A, FALSE), Equals(B, TRUE)])"
   ]
  },
  {
   "cell_type": "code",
   "execution_count": null,
   "metadata": {},
   "outputs": [],
   "source": [
    "XOr(TRUE, FALSE)._readily_provable()"
   ]
  },
  {
   "cell_type": "markdown",
   "metadata": {},
   "source": [
    "#### Testing the `XOr()._readily_disprovable()` method"
   ]
  },
  {
   "cell_type": "code",
   "execution_count": null,
   "metadata": {},
   "outputs": [],
   "source": [
    "XOr(A, B)._readily_disprovable()"
   ]
  },
  {
   "cell_type": "code",
   "execution_count": null,
   "metadata": {},
   "outputs": [],
   "source": []
  },
  {
   "cell_type": "code",
   "execution_count": null,
   "metadata": {},
   "outputs": [],
   "source": [
    "XOr(TRUE, FALSE)._readily_disprovable()"
   ]
  },
  {
   "cell_type": "code",
   "execution_count": null,
   "metadata": {},
   "outputs": [],
   "source": [
    "XOr(TRUE, TRUE)._readily_disprovable()"
   ]
  },
  {
   "cell_type": "markdown",
   "metadata": {},
   "source": [
    "#### Testing the `XOr().conclude()` method"
   ]
  },
  {
   "cell_type": "code",
   "execution_count": null,
   "metadata": {},
   "outputs": [],
   "source": [
    "try:\n",
    "    XOr(A, B).conclude()\n",
    "except Exception as the_exception:\n",
    "    print(f\"Exception: {the_exception}\")"
   ]
  },
  {
   "cell_type": "code",
   "execution_count": null,
   "metadata": {},
   "outputs": [],
   "source": [
    "from proveit.logic import Or\n",
    "Or(TRUE, FALSE).conclude()"
   ]
  },
  {
   "cell_type": "code",
   "execution_count": null,
   "metadata": {},
   "outputs": [],
   "source": [
    "XOr(TRUE, FALSE).conclude()"
   ]
  },
  {
   "cell_type": "code",
   "execution_count": null,
   "metadata": {},
   "outputs": [],
   "source": [
    "XOr(FALSE, TRUE).conclude()"
   ]
  },
  {
   "cell_type": "code",
   "execution_count": null,
   "metadata": {},
   "outputs": [],
   "source": [
    "# the Or.conclude() method includes a for loop we have (temporarily?)\n",
    "# removed from the XOr.conclude() method until we have some suitable substitute\n",
    "# See next cell for XOr example that fails\n",
    "Or(A, B).conclude(assumptions = [Equals(A, TRUE), Equals(B, FALSE)])"
   ]
  },
  {
   "cell_type": "code",
   "execution_count": null,
   "metadata": {},
   "outputs": [],
   "source": [
    "try:\n",
    "    XOr(A, B).conclude(assumptions = [Equals(A, TRUE), Equals(B, FALSE)])\n",
    "except Exception as the_exception:\n",
    "    print(f\"Exception: {the_exception}\")"
   ]
  },
  {
   "cell_type": "code",
   "execution_count": null,
   "metadata": {},
   "outputs": [],
   "source": [
    "XOr(A, Not(A)).conclude(assumptions = [in_bool(A)])"
   ]
  },
  {
   "cell_type": "code",
   "execution_count": null,
   "metadata": {},
   "outputs": [],
   "source": [
    "# cannot yet commute elements of an XOr (still under development)\n",
    "try:\n",
    "    XOr(Not(B), B).conclude(assumptions = [in_bool(B)])\n",
    "except Exception as the_exception:\n",
    "    print(f\"Exception: {the_exception}\")"
   ]
  },
  {
   "cell_type": "code",
   "execution_count": null,
   "metadata": {},
   "outputs": [],
   "source": [
    "# conclude() works very simply right now. B = Not(A) is not sufficient.\n",
    "try:\n",
    "    XOr(A, B).conclude(assumptions = [Equals(B, Not(A))])\n",
    "except Exception as the_exception:\n",
    "    print(f\"Exception: {the_exception}\")"
   ]
  },
  {
   "cell_type": "markdown",
   "metadata": {},
   "source": [
    "#### Testing the `XOr().in_bool_side_effects()` method\n",
    "\n",
    "`XOr().in_bool_side_effects(self, judgment)`\n",
    "\n",
    "From (A xor B xor .. xor Z) in Boolean, deduce (A in Boolean), (B in Boolean), ... (Z in Boolean).\n",
    "\n",
    "Not clear how to test this. This appears to be called/used from elsewhere in the code …"
   ]
  },
  {
   "cell_type": "markdown",
   "metadata": {},
   "source": [
    "#### Testing the `XOr().conclude_negation()` method"
   ]
  },
  {
   "cell_type": "code",
   "execution_count": null,
   "metadata": {},
   "outputs": [],
   "source": [
    "XOr(TRUE, TRUE).conclude_negation()"
   ]
  },
  {
   "cell_type": "code",
   "execution_count": null,
   "metadata": {},
   "outputs": [],
   "source": [
    "XOr(FALSE, FALSE).conclude_negation()"
   ]
  },
  {
   "cell_type": "code",
   "execution_count": null,
   "metadata": {},
   "outputs": [],
   "source": [
    "XOr(A, B).conclude_negation(assumptions = [Equals(A, TRUE), Equals(B, TRUE)])"
   ]
  },
  {
   "cell_type": "markdown",
   "metadata": {},
   "source": [
    "#### Testing the `XOr().conclude_via_only_left()` method"
   ]
  },
  {
   "cell_type": "code",
   "execution_count": null,
   "metadata": {},
   "outputs": [],
   "source": [
    "XOr(TRUE, FALSE).conclude_via_only_left()"
   ]
  },
  {
   "cell_type": "code",
   "execution_count": null,
   "metadata": {},
   "outputs": [],
   "source": [
    "XOr(A, B).conclude_via_only_left(assumptions = [Equals(A, TRUE), Equals(B, FALSE)])"
   ]
  },
  {
   "cell_type": "markdown",
   "metadata": {},
   "source": [
    "#### Testing the `XOr().conclude_via_only_right()` method"
   ]
  },
  {
   "cell_type": "code",
   "execution_count": null,
   "metadata": {},
   "outputs": [],
   "source": [
    "XOr(FALSE, TRUE).conclude_via_only_right()"
   ]
  },
  {
   "cell_type": "code",
   "execution_count": null,
   "metadata": {},
   "outputs": [],
   "source": [
    "XOr(A, B).conclude_via_only_right(assumptions = [Equals(A, FALSE), Equals(B, TRUE)])"
   ]
  },
  {
   "cell_type": "markdown",
   "metadata": {},
   "source": [
    "#### Testing the `XOr()._build_canonical_form()` method"
   ]
  },
  {
   "cell_type": "code",
   "execution_count": null,
   "metadata": {},
   "outputs": [],
   "source": [
    "XOr(TRUE, FALSE)._build_canonical_form()"
   ]
  },
  {
   "cell_type": "code",
   "execution_count": null,
   "metadata": {},
   "outputs": [],
   "source": [
    "XOr(A, B)._build_canonical_form()"
   ]
  },
  {
   "cell_type": "code",
   "execution_count": null,
   "metadata": {},
   "outputs": [],
   "source": [
    "XOr(B, A)._build_canonical_form()"
   ]
  },
  {
   "cell_type": "markdown",
   "metadata": {},
   "source": [
    "#### Testing the `XOr()._deduce_canonically_equal()` method"
   ]
  },
  {
   "cell_type": "code",
   "execution_count": null,
   "metadata": {},
   "outputs": [],
   "source": [
    "defaults.assumptions = [in_bool(A), in_bool(B)]\n",
    "temp_result = XOr(A, B)._deduce_canonically_equal(XOr(B, A))\n",
    "display(temp_result)\n",
    "defaults.assumptions = []"
   ]
  },
  {
   "cell_type": "code",
   "execution_count": null,
   "metadata": {},
   "outputs": [],
   "source": [
    "defaults.assumptions = [*in_bool(A, B, C, D)]\n",
    "temp_result = XOr(A, B, C, D)._deduce_canonically_equal(XOr(B, A, D, C))\n",
    "display(temp_result)\n",
    "defaults.assumptions = []"
   ]
  },
  {
   "cell_type": "markdown",
   "metadata": {},
   "source": [
    "#### Testing the `XOr().derive_right_if_not_left()` method"
   ]
  },
  {
   "cell_type": "code",
   "execution_count": null,
   "metadata": {},
   "outputs": [],
   "source": [
    "XOr(A, B).derive_right_if_not_left(assumptions = [XOr(A, B), Not(A), in_bool(B)])"
   ]
  },
  {
   "cell_type": "markdown",
   "metadata": {},
   "source": [
    "#### Testing the `XOr().derive_left_if_not_right()` method"
   ]
  },
  {
   "cell_type": "code",
   "execution_count": null,
   "metadata": {},
   "outputs": [],
   "source": [
    "XOr(A, B).derive_left_if_not_right(assumptions = [XOr(A, B), Not(B), in_bool(A)])"
   ]
  },
  {
   "cell_type": "markdown",
   "metadata": {},
   "source": [
    "#### Testing the `XOr().derive_not_right_if_left()` method"
   ]
  },
  {
   "cell_type": "code",
   "execution_count": null,
   "metadata": {},
   "outputs": [],
   "source": [
    "XOr(A, B).derive_not_right_if_left(assumptions = [XOr(A, B), A, in_bool(A)])"
   ]
  },
  {
   "cell_type": "markdown",
   "metadata": {},
   "source": [
    "#### Testing the `XOr().derive_not_left_if_right()` method"
   ]
  },
  {
   "cell_type": "code",
   "execution_count": null,
   "metadata": {},
   "outputs": [],
   "source": [
    "XOr(A, B).derive_not_left_if_right(assumptions = [XOr(A, B), B, in_bool(B)])"
   ]
  },
  {
   "cell_type": "markdown",
   "metadata": {},
   "source": [
    "#### Testing the `XOr().derive_via_singular_dilemma()` method"
   ]
  },
  {
   "cell_type": "code",
   "execution_count": null,
   "metadata": {},
   "outputs": [],
   "source": [
    "XOr(A, B).derive_via_singular_dilemma(C,\n",
    "    assumptions=[XOr(A, B), in_bool(A), in_bool(B), Implies(A, C), Implies(B, C)])"
   ]
  },
  {
   "cell_type": "markdown",
   "metadata": {},
   "source": [
    "#### Testing the `XOr().derive_via_multi_dilemma()` method"
   ]
  },
  {
   "cell_type": "markdown",
   "metadata": {},
   "source": [
    "The derive_via_multi_dilemma() method has the format:\n",
    "`derive_via_multi_dilemma(self, conclusion, **defaults_config)`.\n",
    "From (A xor B) as self, and assuming A => C, B => D, and A, B, C, and D are Boolean, derive and return the conclusion, C xor D."
   ]
  },
  {
   "cell_type": "code",
   "execution_count": null,
   "metadata": {},
   "outputs": [],
   "source": [
    "temp_result = XOr(A, B).derive_via_multi_dilemma(XOr(C, D),\n",
    "        assumptions = [XOr(A, B), Implies(A, C), Implies(B, D), in_bool(A), in_bool(B), in_bool(C), in_bool(D)])"
   ]
  },
  {
   "cell_type": "markdown",
   "metadata": {},
   "source": [
    "#### Testing the `XOr().derive_via_dilemma()` method"
   ]
  },
  {
   "cell_type": "markdown",
   "metadata": {},
   "source": [
    "Will try to decide for user if multi- or singular-dilemma is appropriate."
   ]
  },
  {
   "cell_type": "code",
   "execution_count": null,
   "metadata": {},
   "outputs": [],
   "source": [
    "# single-dilemma example\n",
    "XOr(A, B).derive_via_dilemma(C,\n",
    "        assumptions = [XOr(A, B), Implies(A, C), Implies(B, C), in_bool(A), in_bool(B)])"
   ]
  },
  {
   "cell_type": "code",
   "execution_count": null,
   "metadata": {},
   "outputs": [],
   "source": [
    "# multi-dilemma example\n",
    "XOr(A, B).derive_via_dilemma(XOr(C, D),\n",
    "        assumptions = [XOr(A, B), Implies(A, C), Implies(B, D), in_bool(A), in_bool(B), in_bool(C), in_bool(D)])"
   ]
  },
  {
   "cell_type": "markdown",
   "metadata": {},
   "source": [
    "#### Testing the `XOr().deduce_left_in_bool()` and `XOr().deduce_right_in_bool()` methods"
   ]
  },
  {
   "cell_type": "code",
   "execution_count": null,
   "metadata": {},
   "outputs": [],
   "source": [
    "XOr(A, B).deduce_left_in_bool(assumptions = [XOr(A, B)])"
   ]
  },
  {
   "cell_type": "code",
   "execution_count": null,
   "metadata": {},
   "outputs": [],
   "source": [
    "XOr(A, B).deduce_right_in_bool(assumptions = [XOr(A, B)])"
   ]
  },
  {
   "cell_type": "markdown",
   "metadata": {},
   "source": [
    "#### Testing the `XOr().deduce_part_in_bool()` method"
   ]
  },
  {
   "cell_type": "code",
   "execution_count": null,
   "metadata": {},
   "outputs": [],
   "source": [
    "XOr(A, B).deduce_part_in_bool(0, assumptions = [XOr(A, B)])"
   ]
  },
  {
   "cell_type": "code",
   "execution_count": null,
   "metadata": {},
   "outputs": [],
   "source": [
    "XOr(A, B).deduce_part_in_bool(A, assumptions = [XOr(A, B)])"
   ]
  },
  {
   "cell_type": "code",
   "execution_count": null,
   "metadata": {},
   "outputs": [],
   "source": [
    "XOr(A, B).deduce_part_in_bool(1, assumptions = [XOr(A, B)])"
   ]
  },
  {
   "cell_type": "code",
   "execution_count": null,
   "metadata": {},
   "outputs": [],
   "source": [
    "XOr(A, B).deduce_part_in_bool(B, assumptions = [XOr(A, B)])"
   ]
  },
  {
   "cell_type": "code",
   "execution_count": null,
   "metadata": {},
   "outputs": [],
   "source": [
    "XOr(A, B, C, D).deduce_part_in_bool(2, assumptions = [XOr(A, B, C, D)])"
   ]
  },
  {
   "cell_type": "code",
   "execution_count": null,
   "metadata": {},
   "outputs": [],
   "source": [
    "XOr(A, B, C, D).deduce_part_in_bool(D, assumptions = [XOr(A, B, C, D)])"
   ]
  },
  {
   "cell_type": "markdown",
   "metadata": {},
   "source": [
    "#### Testing the `XOr().shallow_simplification()` method"
   ]
  },
  {
   "cell_type": "code",
   "execution_count": null,
   "metadata": {},
   "outputs": [],
   "source": [
    "XOr().shallow_simplification()"
   ]
  },
  {
   "cell_type": "code",
   "execution_count": null,
   "metadata": {},
   "outputs": [],
   "source": [
    "XOr(A).shallow_simplification(assumptions = [in_bool(A)])"
   ]
  },
  {
   "cell_type": "code",
   "execution_count": null,
   "metadata": {},
   "outputs": [],
   "source": [
    "XOr(FALSE, FALSE).shallow_simplification()"
   ]
  },
  {
   "cell_type": "code",
   "execution_count": null,
   "metadata": {},
   "outputs": [],
   "source": [
    "XOr(TRUE, TRUE).shallow_simplification()"
   ]
  },
  {
   "cell_type": "code",
   "execution_count": null,
   "metadata": {},
   "outputs": [],
   "source": [
    "XOr(TRUE, FALSE).shallow_simplification()"
   ]
  },
  {
   "cell_type": "code",
   "execution_count": null,
   "metadata": {},
   "outputs": [],
   "source": [
    "XOr(FALSE, TRUE).shallow_simplification()"
   ]
  },
  {
   "cell_type": "code",
   "execution_count": null,
   "metadata": {},
   "outputs": [],
   "source": [
    "XOr(A, B).shallow_simplification(must_evaluate=True, assumptions = [Equals(A, FALSE), Equals(B, FALSE)])"
   ]
  },
  {
   "cell_type": "code",
   "execution_count": null,
   "metadata": {},
   "outputs": [],
   "source": [
    "XOr(A, B).shallow_simplification(must_evaluate=True, assumptions = [Equals(A, TRUE), Equals(B, TRUE)])"
   ]
  },
  {
   "cell_type": "code",
   "execution_count": null,
   "metadata": {},
   "outputs": [],
   "source": [
    "XOr(A, B).shallow_simplification(must_evaluate=True, assumptions = [Equals(A, TRUE), Equals(B, FALSE)])"
   ]
  },
  {
   "cell_type": "code",
   "execution_count": null,
   "metadata": {},
   "outputs": [],
   "source": [
    "# trivial result if we don't set must_evaluate=True\n",
    "XOr(A, B).shallow_simplification(assumptions = [Equals(A, TRUE), Equals(B, FALSE)])"
   ]
  },
  {
   "cell_type": "markdown",
   "metadata": {},
   "source": [
    "#### Testing the `XOr().derive_contradiction()` method"
   ]
  },
  {
   "cell_type": "code",
   "execution_count": null,
   "metadata": {},
   "outputs": [],
   "source": [
    "XOr(A, B).derive_contradiction(assumptions = [XOr(A, B), Equals(A, FALSE), Equals(B, FALSE)])"
   ]
  },
  {
   "cell_type": "code",
   "execution_count": null,
   "metadata": {},
   "outputs": [],
   "source": [
    "XOr(A, B).derive_contradiction(assumptions = [XOr(A, B), Equals(A, TRUE), Equals(B, TRUE)])"
   ]
  },
  {
   "cell_type": "markdown",
   "metadata": {},
   "source": [
    "#### Testing the `XOr().affirm_via_contradiction(conclusion)` method\n",
    "\n",
    "From `XOr(A, B)`, derive the `conclusion`, provided that the conclusion is Boolean, and that the _negated_ conclusion implies `Not(XOr(A, B))`. This is a little puzzling to test in a non-trivial way."
   ]
  },
  {
   "cell_type": "code",
   "execution_count": null,
   "metadata": {},
   "outputs": [],
   "source": [
    "XOr(A, B).affirm_via_contradiction(Or(Not(A), Not(B)), assumptions = [XOr(A, B)])"
   ]
  },
  {
   "cell_type": "markdown",
   "metadata": {},
   "source": [
    "#### Testing the `XOr().deny_via_contradiction(conclusion)` method\n",
    "\n",
    "From `XOr(A, B)`, derive the _negated_ `conclusion`, provided that the conclusion is Boolean, and that the conclusion implies `Not(XOr(A, B))`. This is a little puzzling to test in a non-trivial way."
   ]
  },
  {
   "cell_type": "code",
   "execution_count": null,
   "metadata": {},
   "outputs": [],
   "source": [
    "XOr(A, B).deny_via_contradiction(And(Not(A), Not(B)), assumptions = [XOr(A, B)])"
   ]
  },
  {
   "cell_type": "markdown",
   "metadata": {},
   "source": [
    "#### Testing the `XOr().readily_in_bool` method"
   ]
  },
  {
   "cell_type": "code",
   "execution_count": null,
   "metadata": {},
   "outputs": [],
   "source": [
    "defaults.assumptions = [in_bool(A), in_bool(B)]\n",
    "temp_result = XOr(A, B).readily_in_bool()\n",
    "display(temp_result)\n",
    "defaults.assumptions = []"
   ]
  },
  {
   "cell_type": "markdown",
   "metadata": {},
   "source": [
    "#### Testing the `XOr().deduce_in_bool()` method"
   ]
  },
  {
   "cell_type": "code",
   "execution_count": null,
   "metadata": {},
   "outputs": [],
   "source": [
    "XOr(A, B).deduce_in_bool(assumptions = [in_bool(A), in_bool(B)])"
   ]
  },
  {
   "cell_type": "code",
   "execution_count": null,
   "metadata": {},
   "outputs": [],
   "source": [
    "from proveit.core_expr_types import A_1_to_m\n",
    "from proveit import m\n",
    "from proveit.logic import InSet\n",
    "from proveit.logic.booleans.exclusive_disjunction import A_1_to_m_in_bool\n",
    "from proveit.numbers import NaturalPos\n",
    "XOr(A_1_to_m).deduce_in_bool(assumptions = [InSet(m, NaturalPos), A_1_to_m_in_bool])"
   ]
  },
  {
   "cell_type": "markdown",
   "metadata": {},
   "source": [
    "#### Testing the `XOr().conclude_via_permutation()` method"
   ]
  },
  {
   "cell_type": "code",
   "execution_count": null,
   "metadata": {},
   "outputs": [],
   "source": [
    "XOr(A, B, C, D).conclude_via_permutation(XOr(B, A, D, C),\n",
    "        assumptions = [XOr(B, A, D, C), in_bool(A), in_bool(B), in_bool(C), in_bool(D)])"
   ]
  },
  {
   "cell_type": "code",
   "execution_count": null,
   "metadata": {},
   "outputs": [],
   "source": [
    "# Should raise informative error if the assumed/judgment permuted version is\n",
    "# inconsistent with the desired version to be deduced:\n",
    "try:\n",
    "    XOr(A, B, C, D).conclude_via_permutation(XOr(A, D, C),\n",
    "        assumptions = [XOr(A, D, C), in_bool(A), in_bool(B), in_bool(C), in_bool(D)])\n",
    "except Exception as the_exception:\n",
    "    print(f\"Exception: {the_exception}\")"
   ]
  },
  {
   "cell_type": "code",
   "execution_count": null,
   "metadata": {},
   "outputs": [],
   "source": [
    "# Should raise informative error if the assumed/judgment permuted version is\n",
    "# inconsistent with the desired version to be deduced:\n",
    "try:\n",
    "    XOr(A, B, C).conclude_via_permutation(XOr(A, D, C),\n",
    "        assumptions = [XOr(A, D, C), in_bool(A), in_bool(B), in_bool(C), in_bool(D)])\n",
    "except Exception as the_exception:\n",
    "    print(f\"Exception: {the_exception}\")"
   ]
  },
  {
   "cell_type": "markdown",
   "metadata": {},
   "source": [
    "#### Testing the `XOr().commutation()` method"
   ]
  },
  {
   "cell_type": "code",
   "execution_count": null,
   "metadata": {},
   "outputs": [],
   "source": [
    "XOr(A, B, C, D).commutation(1, 3, assumptions = [*in_bool(A, B, C, D)])"
   ]
  },
  {
   "cell_type": "code",
   "execution_count": null,
   "metadata": {},
   "outputs": [],
   "source": [
    "XOr(A, B, C, D).commutation(3, 0, assumptions = [in_bool(A), in_bool(B), in_bool(C), in_bool(D)])"
   ]
  },
  {
   "cell_type": "code",
   "execution_count": null,
   "metadata": {},
   "outputs": [],
   "source": [
    "XOr(A, B, C, D).commutation(2, 2, assumptions = [in_bool(A), in_bool(B), in_bool(C), in_bool(D)])"
   ]
  },
  {
   "cell_type": "markdown",
   "metadata": {},
   "source": [
    "#### Testing the `XOr().group_commutation()` method\n",
    "\n",
    "Format: `XOr().group_commutation(init_idx, final_idx, length, disassociate=True, **defaults_config)`.<br/>\n",
    "Example: Given the disjunction `XOr(A, B, C, D)` we can shift the \"block\" `A, B` (of length 2) from the 0th position to the 1st position, using:<br/>\n",
    "`XOr(A, B, C, D).group_commutation(0, 1, 2, assumptions=in_bool(A,B,C,D))`<br/>\n",
    "to produce<br/>\n",
    "`XOr(A, B, C, D) |- XOr(C, A, B, D)`"
   ]
  },
  {
   "cell_type": "code",
   "execution_count": null,
   "metadata": {},
   "outputs": [],
   "source": [
    "XOr(A, B, C, D).group_commutation(0, 1, 2, assumptions = [*in_bool(A, B, C, D), XOr(A, B, C, D)])"
   ]
  },
  {
   "cell_type": "markdown",
   "metadata": {},
   "source": [
    "#### Testing the `XOr().permutation_move()` method\n",
    "\n",
    "`XOr().permutation_move(init_idx=None, final_idx=None, **defaults_config)`\n",
    "\n",
    "Given Boolean operands, deduce that this expression is equal to a form in which the operand at index init_idx has been moved to final_idx. For example,"
   ]
  },
  {
   "cell_type": "code",
   "execution_count": null,
   "metadata": {},
   "outputs": [],
   "source": [
    "XOr(A, B, C, D, E, F).permutation_move(1, 4, assumptions = [*in_bool(A, B, C, D, E, F), XOr(A, B, C, D, E, F)])"
   ]
  },
  {
   "cell_type": "code",
   "execution_count": null,
   "metadata": {},
   "outputs": [],
   "source": [
    "XOr(A, B, C, D, E, F).permutation_move(4, 1, assumptions = [*in_bool(A, B, C, D, E, F), XOr(A, B, C, D, E, F)])"
   ]
  },
  {
   "cell_type": "markdown",
   "metadata": {},
   "source": [
    "#### Testing the `XOr().permutation()` method\n",
    "\n",
    "`XOr().permutation(self, new_order=None, cycles=None, **defaults_config)`\n",
    "\n",
    "Deduce that this XOr expression is equal to an XOr in which the terms at indices 0, 1, …, n-1 have been reordered as specified EITHER by the new_order list OR by the cycles list parameter."
   ]
  },
  {
   "cell_type": "code",
   "execution_count": null,
   "metadata": {},
   "outputs": [],
   "source": [
    "XOr(A, B, C, D, E, F).permutation(new_order = [0, 1, 3, 4, 5, 2],\n",
    "        assumptions = [*in_bool(A, B, C, D, E, F)])"
   ]
  },
  {
   "cell_type": "code",
   "execution_count": null,
   "metadata": {},
   "outputs": [],
   "source": [
    "XOr(A, B, C, D, E, F).permutation(cycles = [(2, 3, 4, 5)],\n",
    "        assumptions = [*in_bool(A, B, C, D, E, F)])"
   ]
  },
  {
   "cell_type": "markdown",
   "metadata": {},
   "source": [
    "#### Testing the `XOr().association()` method\n",
    "\n",
    "`XOr().association(start_idx, length, **defaults_config)`\n",
    "\n",
    "Given Boolean operands, deduce that this expression is equal to a form in which operands in the range [start_idx, start_idx+length) are grouped together."
   ]
  },
  {
   "cell_type": "code",
   "execution_count": null,
   "metadata": {},
   "outputs": [],
   "source": [
    "XOr(A, B, C, D, E, F).association(2, 3,\n",
    "        assumptions = [*in_bool(A, B, C, D, E, F)])"
   ]
  },
  {
   "cell_type": "code",
   "execution_count": null,
   "metadata": {},
   "outputs": [],
   "source": [
    "# trivial case\n",
    "XOr(A, B, C, D, E, F).association(2, 1,\n",
    "        assumptions = [*in_bool(A, B, C, D, E, F)])"
   ]
  },
  {
   "cell_type": "code",
   "execution_count": null,
   "metadata": {},
   "outputs": [],
   "source": [
    "# trivial case\n",
    "XOr(A, B, C, D, E, F).association(0, 6,\n",
    "        assumptions = [*in_bool(A, B, C, D, E, F)])"
   ]
  },
  {
   "cell_type": "markdown",
   "metadata": {},
   "source": [
    "#### Testing the `XOr().associate()` method\n",
    "\n",
    "`XOr().associate(start_idx, length, **defaults_config)`\n",
    "\n",
    "From self, derive and return a form in which operands in the range [start_idx, start_idx+length) are grouped together."
   ]
  },
  {
   "cell_type": "code",
   "execution_count": null,
   "metadata": {},
   "outputs": [],
   "source": [
    "XOr(A, B, C, D, E, F).associate(1, 3,\n",
    "        assumptions = [*in_bool(A, B, C, D, E, F), XOr(A, B, C, D, E, F)])"
   ]
  },
  {
   "cell_type": "code",
   "execution_count": null,
   "metadata": {},
   "outputs": [],
   "source": [
    "XOr(A, B, C, D, E, F).associate(-2, 2,\n",
    "        assumptions = [*in_bool(A, B, C, D, E, F), XOr(A, B, C, D, E, F)])"
   ]
  },
  {
   "cell_type": "markdown",
   "metadata": {},
   "source": [
    "#### Testing the `XOr().disassociation()` method\n",
    "\n",
    "`XOr().disassociation(idx, **defaults_config)`\n",
    "\n",
    "Given Boolean operands, deduce that this expression is equal to a form in which the operand at index idx is no longer grouped together."
   ]
  },
  {
   "cell_type": "code",
   "execution_count": null,
   "metadata": {},
   "outputs": [],
   "source": [
    "XOr(A, XOr(B, C, D, E), F)"
   ]
  },
  {
   "cell_type": "code",
   "execution_count": null,
   "metadata": {},
   "outputs": [],
   "source": [
    "XOr(A, XOr(B, C, D, E), F).disassociation(1,\n",
    "        assumptions = [*in_bool(A, B, C, D, E, F)])"
   ]
  },
  {
   "cell_type": "code",
   "execution_count": null,
   "metadata": {},
   "outputs": [],
   "source": [
    "# if no grouping found?\n",
    "try:\n",
    "    XOr(A, B, C, D, E, F).disassociation(1,\n",
    "        assumptions = [*in_bool(A, B, C, D, E, F), XOr(A, B, C, D, E, F)])\n",
    "except Exception as the_exception:\n",
    "    print(f\"Exception: {the_exception}\")"
   ]
  },
  {
   "cell_type": "markdown",
   "metadata": {},
   "source": [
    "#### Testing the `XOr().disassociate()` method\n",
    "\n",
    "`XOr().disassociate(idx, **defaults_config)`\n",
    "\n",
    "From self, derive and return a form in which the operand at the given index is ungrouped."
   ]
  },
  {
   "cell_type": "code",
   "execution_count": null,
   "metadata": {},
   "outputs": [],
   "source": [
    "XOr(A, XOr(B, C, D, E), F).disassociate(1,\n",
    "        assumptions = [*in_bool(A, B, C, D, E, F), XOr(A, XOr(B, C, D, E), F)])"
   ]
  },
  {
   "cell_type": "code",
   "execution_count": null,
   "metadata": {},
   "outputs": [],
   "source": [
    "%end demonstrations"
   ]
  }
 ],
 "metadata": {
  "kernelspec": {
   "display_name": "Python 3",
   "language": "python",
   "name": "python3"
  }
 },
 "nbformat": 4,
 "nbformat_minor": 0
}
