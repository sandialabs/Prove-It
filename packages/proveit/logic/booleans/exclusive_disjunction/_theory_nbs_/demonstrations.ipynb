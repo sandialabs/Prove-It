{
 "cells": [
  {
   "cell_type": "markdown",
   "metadata": {},
   "source": [
    "Demonstrations for the theory of <a class=\"ProveItLink\" href=\"theory.ipynb\">proveit.logic.booleans.exclusive_disjunction</a>\n",
    "========"
   ]
  },
  {
   "cell_type": "code",
   "execution_count": null,
   "metadata": {},
   "outputs": [],
   "source": [
    "import proveit\n",
    "from proveit import i, n, A, B, C, D, defaults, ExprRange, IndexedVar\n",
    "from proveit.logic import And, Equals, FALSE, Implies, in_bool, Not, TRUE, XOr\n",
    "from proveit.numbers import one\n",
    "%begin demonstrations"
   ]
  },
  {
   "cell_type": "markdown",
   "metadata": {},
   "source": [
    "## Exclusive Disjunction, $\\text{XOR}(A, B)$,  $A \\oplus B$"
   ]
  },
  {
   "cell_type": "markdown",
   "metadata": {},
   "source": [
    "## Miscellaneous Testing\n",
    "Testing various XOR-related methods. Some of this material could be integrated into the `_demonstrations_` page eventually and/or deleted as development continues."
   ]
  },
  {
   "cell_type": "markdown",
   "metadata": {},
   "source": [
    "#### Basic Constructions"
   ]
  },
  {
   "cell_type": "code",
   "execution_count": null,
   "metadata": {},
   "outputs": [],
   "source": [
    "XOr(A, B)"
   ]
  },
  {
   "cell_type": "code",
   "execution_count": null,
   "metadata": {},
   "outputs": [],
   "source": [
    "A_1_to_n = ExprRange(i, IndexedVar(A, i), one, n)"
   ]
  },
  {
   "cell_type": "code",
   "execution_count": null,
   "metadata": {},
   "outputs": [],
   "source": [
    "XOr(A_1_to_n)"
   ]
  },
  {
   "cell_type": "code",
   "execution_count": null,
   "metadata": {},
   "outputs": [],
   "source": [
    "XOr(A)"
   ]
  },
  {
   "cell_type": "code",
   "execution_count": null,
   "metadata": {},
   "outputs": [],
   "source": [
    "XOr()"
   ]
  },
  {
   "cell_type": "markdown",
   "metadata": {},
   "source": [
    "#### Testing the `XOr()._readily_provable()` method"
   ]
  },
  {
   "cell_type": "code",
   "execution_count": null,
   "metadata": {},
   "outputs": [],
   "source": [
    "XOr(A, B)._readily_provable()"
   ]
  },
  {
   "cell_type": "code",
   "execution_count": null,
   "metadata": {},
   "outputs": [],
   "source": [
    "defaults.assumptions = [Equals(A, FALSE), Equals(B, TRUE)]\n",
    "temp_provable = XOr(A, B)._readily_provable()\n",
    "display(temp_provable)\n",
    "defaults.assumptions = []"
   ]
  },
  {
   "cell_type": "code",
   "execution_count": null,
   "metadata": {},
   "outputs": [],
   "source": [
    "# this will dig down\n",
    "temp_provable = XOr(A, B).readily_provable(assumptions = [Equals(A, FALSE), Equals(B, TRUE)])"
   ]
  },
  {
   "cell_type": "code",
   "execution_count": null,
   "metadata": {},
   "outputs": [],
   "source": [
    "XOr(TRUE, FALSE)._readily_provable()"
   ]
  },
  {
   "cell_type": "markdown",
   "metadata": {},
   "source": [
    "#### Testing the `XOr()._readily_disprovable()` method"
   ]
  },
  {
   "cell_type": "code",
   "execution_count": null,
   "metadata": {},
   "outputs": [],
   "source": [
    "XOr(A, B)._readily_disprovable()"
   ]
  },
  {
   "cell_type": "code",
   "execution_count": null,
   "metadata": {},
   "outputs": [],
   "source": []
  },
  {
   "cell_type": "code",
   "execution_count": null,
   "metadata": {},
   "outputs": [],
   "source": [
    "XOr(TRUE, FALSE)._readily_disprovable()"
   ]
  },
  {
   "cell_type": "code",
   "execution_count": null,
   "metadata": {},
   "outputs": [],
   "source": [
    "XOr(TRUE, TRUE)._readily_disprovable()"
   ]
  },
  {
   "cell_type": "markdown",
   "metadata": {},
   "source": [
    "#### Testing the `XOr().conclude()` method"
   ]
  },
  {
   "cell_type": "code",
   "execution_count": null,
   "metadata": {},
   "outputs": [],
   "source": [
    "try:\n",
    "    XOr(A, B).conclude()\n",
    "except Exception as the_exception:\n",
    "    print(f\"Exception: {the_exception}\")"
   ]
  },
  {
   "cell_type": "code",
   "execution_count": null,
   "metadata": {},
   "outputs": [],
   "source": [
    "from proveit.logic import Or\n",
    "Or(TRUE, FALSE).conclude()"
   ]
  },
  {
   "cell_type": "code",
   "execution_count": null,
   "metadata": {},
   "outputs": [],
   "source": [
    "XOr(TRUE, FALSE).conclude()"
   ]
  },
  {
   "cell_type": "code",
   "execution_count": null,
   "metadata": {},
   "outputs": [],
   "source": [
    "XOr(FALSE, TRUE).conclude()"
   ]
  },
  {
   "cell_type": "code",
   "execution_count": null,
   "metadata": {},
   "outputs": [],
   "source": [
    "# the Or.conclude() method includes a for loop we have (temporarily?)\n",
    "# removed from the XOr.conclude() method until we have some suitable substitute\n",
    "# See next cell for XOr example that fails\n",
    "Or(A, B).conclude(assumptions = [Equals(A, TRUE), Equals(B, FALSE)])"
   ]
  },
  {
   "cell_type": "code",
   "execution_count": null,
   "metadata": {},
   "outputs": [],
   "source": [
    "try:\n",
    "    XOr(A, B).conclude(assumptions = [Equals(A, TRUE), Equals(B, FALSE)])\n",
    "except Exception as the_exception:\n",
    "    print(f\"Exception: {the_exception}\")"
   ]
  },
  {
   "cell_type": "code",
   "execution_count": null,
   "metadata": {},
   "outputs": [],
   "source": [
    "XOr(A, Not(A)).conclude(assumptions = [in_bool(A)])"
   ]
  },
  {
   "cell_type": "code",
   "execution_count": null,
   "metadata": {},
   "outputs": [],
   "source": [
    "# cannot yet commute elements of an XOr (still under development)\n",
    "try:\n",
    "    XOr(Not(B), B).conclude(assumptions = [in_bool(B)])\n",
    "except Exception as the_exception:\n",
    "    print(f\"Exception: {the_exception}\")"
   ]
  },
  {
   "cell_type": "code",
   "execution_count": null,
   "metadata": {},
   "outputs": [],
   "source": [
    "# conclude() works very simply right now. B = Not(A) is not sufficient.\n",
    "try:\n",
    "    XOr(A, B).conclude(assumptions = [Equals(B, Not(A))])\n",
    "except Exception as the_exception:\n",
    "    print(f\"Exception: {the_exception}\")"
   ]
  },
  {
   "cell_type": "markdown",
   "metadata": {},
   "source": [
    "#### Testing the `XOr().conclude_negation()` method"
   ]
  },
  {
   "cell_type": "code",
   "execution_count": null,
   "metadata": {},
   "outputs": [],
   "source": [
    "XOr(TRUE, TRUE).conclude_negation()"
   ]
  },
  {
   "cell_type": "code",
   "execution_count": null,
   "metadata": {},
   "outputs": [],
   "source": [
    "XOr(FALSE, FALSE).conclude_negation()"
   ]
  },
  {
   "cell_type": "code",
   "execution_count": null,
   "metadata": {},
   "outputs": [],
   "source": [
    "XOr(A, B).conclude_negation(assumptions = [Equals(A, TRUE), Equals(B, TRUE)])"
   ]
  },
  {
   "cell_type": "markdown",
   "metadata": {},
   "source": [
    "#### Testing the `XOr().conclude_via_only_left()` method"
   ]
  },
  {
   "cell_type": "code",
   "execution_count": null,
   "metadata": {},
   "outputs": [],
   "source": [
    "XOr(TRUE, FALSE).conclude_via_only_left()"
   ]
  },
  {
   "cell_type": "code",
   "execution_count": null,
   "metadata": {},
   "outputs": [],
   "source": [
    "XOr(A, B).conclude_via_only_left(assumptions = [Equals(A, TRUE), Equals(B, FALSE)])"
   ]
  },
  {
   "cell_type": "markdown",
   "metadata": {},
   "source": [
    "#### Testing the `XOr().conclude_via_only_right()` method"
   ]
  },
  {
   "cell_type": "code",
   "execution_count": null,
   "metadata": {},
   "outputs": [],
   "source": [
    "XOr(FALSE, TRUE).conclude_via_only_right()"
   ]
  },
  {
   "cell_type": "code",
   "execution_count": null,
   "metadata": {},
   "outputs": [],
   "source": [
    "XOr(A, B).conclude_via_only_right(assumptions = [Equals(A, FALSE), Equals(B, TRUE)])"
   ]
  },
  {
   "cell_type": "markdown",
   "metadata": {},
   "source": [
    "#### Testing the `XOr()._build_canonical_form()` method"
   ]
  },
  {
   "cell_type": "code",
   "execution_count": null,
   "metadata": {},
   "outputs": [],
   "source": [
    "XOr(TRUE, FALSE)._build_canonical_form()"
   ]
  },
  {
   "cell_type": "code",
   "execution_count": null,
   "metadata": {},
   "outputs": [],
   "source": [
    "XOr(A, B)._build_canonical_form()"
   ]
  },
  {
   "cell_type": "code",
   "execution_count": null,
   "metadata": {},
   "outputs": [],
   "source": [
    "XOr(B, A)._build_canonical_form()"
   ]
  },
  {
   "cell_type": "markdown",
   "metadata": {},
   "source": [
    "#### Testing the `XOr()._deduce_canonically_equal()` method"
   ]
  },
  {
   "cell_type": "code",
   "execution_count": null,
   "metadata": {},
   "outputs": [],
   "source": [
    "# this works for the disjunction Or, but not yet for the XOr (see next cell)\n",
    "defaults.assumptions = [in_bool(A), in_bool(B)]\n",
    "temp_result = Or(A, B)._deduce_canonically_equal(Or(B, A))\n",
    "display(temp_result)\n",
    "defaults.assumptions = []"
   ]
  },
  {
   "cell_type": "code",
   "execution_count": null,
   "metadata": {},
   "outputs": [],
   "source": [
    "try:\n",
    "    defaults.assumptions = [in_bool(A), in_bool(B)]\n",
    "    temp_result = XOr(A, B)._deduce_canonically_equal(XOr(B, A))\n",
    "    display(temp_result)\n",
    "    defaults.assumptions = []\n",
    "except Exception as the_exception:\n",
    "    print(f\"Exception: {the_exception}\")"
   ]
  },
  {
   "cell_type": "markdown",
   "metadata": {},
   "source": [
    "#### Testing the `XOr().derive_right_if_not_left()` method"
   ]
  },
  {
   "cell_type": "code",
   "execution_count": null,
   "metadata": {},
   "outputs": [],
   "source": [
    "XOr(A, B).derive_right_if_not_left(assumptions = [XOr(A, B), Not(A), in_bool(B)])"
   ]
  },
  {
   "cell_type": "markdown",
   "metadata": {},
   "source": [
    "#### Testing the `XOr().derive_left_if_not_right()` method"
   ]
  },
  {
   "cell_type": "code",
   "execution_count": null,
   "metadata": {},
   "outputs": [],
   "source": [
    "XOr(A, B).derive_left_if_not_right(assumptions = [XOr(A, B), Not(B), in_bool(A)])"
   ]
  },
  {
   "cell_type": "markdown",
   "metadata": {},
   "source": [
    "#### Testing the `XOr().derive_via_singular_dilemma()` method"
   ]
  },
  {
   "cell_type": "code",
   "execution_count": null,
   "metadata": {},
   "outputs": [],
   "source": [
    "XOr(A, B).derive_via_singular_dilemma(C,\n",
    "    assumptions=[XOr(A, B), in_bool(A), in_bool(B), Implies(A, C), Implies(B, C)])"
   ]
  },
  {
   "cell_type": "markdown",
   "metadata": {},
   "source": [
    "#### Testing the `XOr().derive_via_multi_dilemma()` method"
   ]
  },
  {
   "cell_type": "markdown",
   "metadata": {},
   "source": [
    "The derive_via_multi_dilemma() method has the format:\n",
    "`derive_via_multi_dilemma(self, conclusion, **defaults_config)`.\n",
    "From (A xor B) as self, and assuming A => C, B => D, and A, B, C, and D are Boolean, derive and return the conclusion, C xor D."
   ]
  },
  {
   "cell_type": "code",
   "execution_count": null,
   "metadata": {},
   "outputs": [],
   "source": [
    "XOr(A, B).derive_via_multi_dilemma(XOr(C, D),\n",
    "        assumptions = [XOr(A, B), Implies(A, C), Implies(B, D), in_bool(A), in_bool(B), in_bool(C), in_bool(D)])"
   ]
  },
  {
   "cell_type": "markdown",
   "metadata": {},
   "source": [
    "#### Testing the `XOr().derive_via_dilemma()` method"
   ]
  },
  {
   "cell_type": "markdown",
   "metadata": {},
   "source": [
    "Will try to decide for user if multi- or singular-dilemma is appropriate."
   ]
  },
  {
   "cell_type": "code",
   "execution_count": null,
   "metadata": {},
   "outputs": [],
   "source": [
    "# single-dilemma example\n",
    "XOr(A, B).derive_via_dilemma(C,\n",
    "        assumptions = [XOr(A, B), Implies(A, C), Implies(B, C), in_bool(A), in_bool(B)])"
   ]
  },
  {
   "cell_type": "code",
   "execution_count": null,
   "metadata": {},
   "outputs": [],
   "source": [
    "# multi-dilemma example\n",
    "XOr(A, B).derive_via_dilemma(XOr(C, D),\n",
    "        assumptions = [XOr(A, B), Implies(A, C), Implies(B, D), in_bool(A), in_bool(B), in_bool(C), in_bool(D)])"
   ]
  },
  {
   "cell_type": "markdown",
   "metadata": {},
   "source": [
    "#### Testing the `XOr().deduce_left_in_bool()` and `XOr().deduce_right_in_bool()` methods"
   ]
  },
  {
   "cell_type": "code",
   "execution_count": null,
   "metadata": {},
   "outputs": [],
   "source": [
    "XOr(A, B).deduce_left_in_bool(assumptions = [XOr(A, B)])"
   ]
  },
  {
   "cell_type": "code",
   "execution_count": null,
   "metadata": {},
   "outputs": [],
   "source": [
    "XOr(A, B).deduce_right_in_bool(assumptions = [XOr(A, B)])"
   ]
  },
  {
   "cell_type": "markdown",
   "metadata": {},
   "source": [
    "#### Testing the `XOr().deduce_part_in_bool()` method"
   ]
  },
  {
   "cell_type": "code",
   "execution_count": null,
   "metadata": {},
   "outputs": [],
   "source": [
    "XOr(A, B).deduce_part_in_bool(0, assumptions = [XOr(A, B)])"
   ]
  },
  {
   "cell_type": "code",
   "execution_count": null,
   "metadata": {},
   "outputs": [],
   "source": [
    "XOr(A, B).deduce_part_in_bool(A, assumptions = [XOr(A, B)])"
   ]
  },
  {
   "cell_type": "code",
   "execution_count": null,
   "metadata": {},
   "outputs": [],
   "source": [
    "XOr(A, B).deduce_part_in_bool(1, assumptions = [XOr(A, B)])"
   ]
  },
  {
   "cell_type": "code",
   "execution_count": null,
   "metadata": {},
   "outputs": [],
   "source": [
    "XOr(A, B).deduce_part_in_bool(B, assumptions = [XOr(A, B)])"
   ]
  },
  {
   "cell_type": "code",
   "execution_count": null,
   "metadata": {},
   "outputs": [],
   "source": [
    "XOr(A, B, C, D).deduce_part_in_bool(2, assumptions = [XOr(A, B, C, D)])"
   ]
  },
  {
   "cell_type": "code",
   "execution_count": null,
   "metadata": {},
   "outputs": [],
   "source": [
    "XOr(A, B, C, D).deduce_part_in_bool(D, assumptions = [XOr(A, B, C, D)])"
   ]
  },
  {
   "cell_type": "markdown",
   "metadata": {},
   "source": [
    "#### Testing the `XOr().shallow_simplification()` method"
   ]
  },
  {
   "cell_type": "code",
   "execution_count": null,
   "metadata": {},
   "outputs": [],
   "source": [
    "XOr().shallow_simplification()"
   ]
  },
  {
   "cell_type": "code",
   "execution_count": null,
   "metadata": {},
   "outputs": [],
   "source": [
    "XOr(A).shallow_simplification()"
   ]
  },
  {
   "cell_type": "code",
   "execution_count": null,
   "metadata": {},
   "outputs": [],
   "source": [
    "# XOr(TRUE, FALSE).shallow_simplification(must_evaluate=True)"
   ]
  },
  {
   "cell_type": "code",
   "execution_count": null,
   "metadata": {},
   "outputs": [],
   "source": [
    "XOr(A, B).shallow_simplification(must_evaluate=True, assumptions = [Equals(A, FALSE), Equals(B, FALSE)])"
   ]
  },
  {
   "cell_type": "code",
   "execution_count": null,
   "metadata": {},
   "outputs": [],
   "source": [
    "# This works for the inclusive disjunction Or, but not for the XOr (see next cell below)\n",
    "Or(A, B).shallow_simplification(must_evaluate=True, assumptions = [Equals(A, TRUE), Equals(B, TRUE)])"
   ]
  },
  {
   "cell_type": "code",
   "execution_count": null,
   "metadata": {},
   "outputs": [],
   "source": [
    "try:\n",
    "    XOr(A, B).shallow_simplification(must_evaluate=True, assumptions = [Equals(A, TRUE), Equals(B, TRUE)])\n",
    "except Exception as the_exception:\n",
    "    print(f\"Exception: {the_exception}\")"
   ]
  },
  {
   "cell_type": "markdown",
   "metadata": {},
   "source": [
    "#### Testing the `XOr().derive_contradiction()` method"
   ]
  },
  {
   "cell_type": "code",
   "execution_count": null,
   "metadata": {},
   "outputs": [],
   "source": [
    "XOr(A, B).derive_contradiction(assumptions = [XOr(A, B), Equals(A, FALSE), Equals(B, FALSE)])"
   ]
  },
  {
   "cell_type": "code",
   "execution_count": null,
   "metadata": {},
   "outputs": [],
   "source": [
    "XOr(A, B).derive_contradiction(assumptions = [XOr(A, B), Equals(A, TRUE), Equals(B, TRUE)])"
   ]
  },
  {
   "cell_type": "markdown",
   "metadata": {},
   "source": [
    "#### Testing the `XOr().affirm_via_contradiction(conclusion)` method\n",
    "\n",
    "From `XOr(A, B)`, derive the `conclusion`, provided that the conclusion is Boolean, and that the _negated_ conclusion implies `Not(XOr(A, B))`. This is a little puzzling to test in a non-trivial way."
   ]
  },
  {
   "cell_type": "code",
   "execution_count": null,
   "metadata": {},
   "outputs": [],
   "source": [
    "XOr(A, B).affirm_via_contradiction(Or(Not(A), Not(B)), assumptions = [XOr(A, B)])"
   ]
  },
  {
   "cell_type": "markdown",
   "metadata": {},
   "source": [
    "#### Testing the `XOr().deny_via_contradiction(conclusion)` method\n",
    "\n",
    "From `XOr(A, B)`, derive the _negated_ `conclusion`, provided that the conclusion is Boolean, and that the conclusion implies `Not(XOr(A, B))`. This is a little puzzling to test in a non-trivial way."
   ]
  },
  {
   "cell_type": "code",
   "execution_count": null,
   "metadata": {},
   "outputs": [],
   "source": [
    "XOr(A, B).deny_via_contradiction(And(Not(A), Not(B)), assumptions = [XOr(A, B)])"
   ]
  },
  {
   "cell_type": "code",
   "execution_count": null,
   "metadata": {},
   "outputs": [],
   "source": [
    "%end demonstrations"
   ]
  }
 ],
 "metadata": {
  "kernelspec": {
   "display_name": "Python 3",
   "language": "python",
   "name": "python3"
  }
 },
 "nbformat": 4,
 "nbformat_minor": 0
}
