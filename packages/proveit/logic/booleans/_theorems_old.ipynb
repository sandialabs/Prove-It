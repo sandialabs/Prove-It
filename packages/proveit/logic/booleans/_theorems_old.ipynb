{
 "cells": [
  {
   "cell_type": "code",
   "execution_count": null,
   "metadata": {},
   "outputs": [],
   "source": [
    "import proveit.special_statement_magic # for %begin_theorems and %end_theorems\n",
    "from proveit.basiclogic import Forall, Exists, NotExists, BOOLEANS, TRUE, FALSE, in_bool, \\\n",
    "Not, And, Or, Implies, Iff, Equals, NotEquals\n",
    "from proveit.common import A, B, C, P, Q, R, S, x, y, PofA, Px, Py, Pxy, Qx, Ry, Qetc, \\\n",
    "Retc, x_etc, y_etc, z_etc, Px_etc, Py_etc, Pxy_etc, etc_Qx_etc, etc_Qy_etc, etc_Ry_etc\n",
    "from proveit.basiclogic.common import PofTrue, PofFalse"
   ]
  },
  {
   "cell_type": "code",
   "execution_count": null,
   "metadata": {},
   "outputs": [],
   "source": [
    "%begin_theorems"
   ]
  },
  {
   "cell_type": "code",
   "execution_count": null,
   "metadata": {},
   "outputs": [],
   "source": [
    "not_false = Not(FALSE)\n",
    "not_false"
   ]
  },
  {
   "cell_type": "code",
   "execution_count": null,
   "metadata": {},
   "outputs": [],
   "source": [
    "true_and_true = And(TRUE, TRUE)\n",
    "true_and_true"
   ]
  },
  {
   "cell_type": "code",
   "execution_count": null,
   "metadata": {},
   "outputs": [],
   "source": [
    "true_or_true = Or(TRUE, TRUE)\n",
    "true_or_true"
   ]
  },
  {
   "cell_type": "code",
   "execution_count": null,
   "metadata": {},
   "outputs": [],
   "source": [
    "true_or_false = Or(TRUE, FALSE)\n",
    "true_or_false"
   ]
  },
  {
   "cell_type": "code",
   "execution_count": null,
   "metadata": {},
   "outputs": [],
   "source": [
    "false_or_true = Or(FALSE, TRUE)\n",
    "false_or_true"
   ]
  },
  {
   "cell_type": "code",
   "execution_count": null,
   "metadata": {},
   "outputs": [],
   "source": [
    "true_eq_true = Equals(TRUE, TRUE)\n",
    "true_eq_true"
   ]
  },
  {
   "cell_type": "code",
   "execution_count": null,
   "metadata": {},
   "outputs": [],
   "source": [
    "false_eq_false = Equals(FALSE, FALSE)\n",
    "false_eq_false"
   ]
  },
  {
   "cell_type": "code",
   "execution_count": null,
   "metadata": {},
   "outputs": [],
   "source": [
    "eq_true_rev_intro = Forall(A, Implies(A, Equals(TRUE, A)))\n",
    "eq_true_rev_intro"
   ]
  },
  {
   "cell_type": "code",
   "execution_count": null,
   "metadata": {},
   "outputs": [],
   "source": [
    "eq_true_rev_elim = Forall(A, Implies(Equals(TRUE, A), A))\n",
    "eq_true_rev_elim"
   ]
  },
  {
   "cell_type": "code",
   "execution_count": null,
   "metadata": {},
   "outputs": [],
   "source": [
    "not_implies_eq_false = Forall(A, Implies(Not(A), Equals(A, FALSE)))\n",
    "not_implies_eq_false"
   ]
  },
  {
   "cell_type": "code",
   "execution_count": null,
   "metadata": {},
   "outputs": [],
   "source": [
    "not_implies_eq_false_rev = Forall(A, Implies(Not(A), Equals(FALSE, A)))\n",
    "not_implies_eq_false_rev"
   ]
  },
  {
   "cell_type": "code",
   "execution_count": null,
   "metadata": {},
   "outputs": [],
   "source": [
    "from_double_negation = Forall(A, Implies(Not(Not(A)), A))\n",
    "from_double_negation"
   ]
  },
  {
   "cell_type": "code",
   "execution_count": null,
   "metadata": {},
   "outputs": [],
   "source": [
    "true_conclusion = Forall(A, Implies(A, TRUE))\n",
    "true_conclusion"
   ]
  },
  {
   "cell_type": "code",
   "execution_count": null,
   "metadata": {},
   "outputs": [],
   "source": [
    "self_implication = Forall(A, Implies(A, A))\n",
    "self_implication"
   ]
  },
  {
   "cell_type": "code",
   "execution_count": null,
   "metadata": {},
   "outputs": [],
   "source": [
    "implies_t_t = Equals(Implies(TRUE, TRUE), TRUE)\n",
    "implies_t_t"
   ]
  },
  {
   "cell_type": "code",
   "execution_count": null,
   "metadata": {},
   "outputs": [],
   "source": [
    "implies_f_t = Equals(Implies(FALSE, TRUE), TRUE)\n",
    "implies_f_t"
   ]
  },
  {
   "cell_type": "code",
   "execution_count": null,
   "metadata": {},
   "outputs": [],
   "source": [
    "implies_f_f = Equals(Implies(FALSE, FALSE), TRUE)\n",
    "implies_f_f"
   ]
  },
  {
   "cell_type": "code",
   "execution_count": null,
   "metadata": {},
   "outputs": [],
   "source": [
    "iff_t_t = Equals(Iff(TRUE, TRUE), TRUE)\n",
    "iff_t_t"
   ]
  },
  {
   "cell_type": "code",
   "execution_count": null,
   "metadata": {},
   "outputs": [],
   "source": [
    "iff_f_f = Equals(Iff(FALSE, FALSE), TRUE)\n",
    "iff_f_f"
   ]
  },
  {
   "cell_type": "code",
   "execution_count": null,
   "metadata": {},
   "outputs": [],
   "source": [
    "iff_t_f = Equals(Iff(TRUE, FALSE), FALSE)\n",
    "iff_t_f"
   ]
  },
  {
   "cell_type": "code",
   "execution_count": null,
   "metadata": {},
   "outputs": [],
   "source": [
    "iff_f_t = Equals(Iff(FALSE, TRUE), FALSE)\n",
    "iff_f_t"
   ]
  },
  {
   "cell_type": "code",
   "execution_count": null,
   "metadata": {},
   "outputs": [],
   "source": [
    "iff_implies_right = Forall((A, B), Implies(Iff(A, B), Implies(A, B)))\n",
    "iff_implies_right"
   ]
  },
  {
   "cell_type": "code",
   "execution_count": null,
   "metadata": {},
   "outputs": [],
   "source": [
    "iff_implies_left = Forall((A, B), Implies(Iff(A, B), Implies(B, A)))\n",
    "iff_implies_left"
   ]
  },
  {
   "cell_type": "code",
   "execution_count": null,
   "metadata": {},
   "outputs": [],
   "source": [
    "iff_symmetry = Forall((A, B), Implies(Iff(A, B), Iff(B, A)))\n",
    "iff_symmetry"
   ]
  },
  {
   "cell_type": "code",
   "execution_count": null,
   "metadata": {},
   "outputs": [],
   "source": [
    "iff_transitivity = Forall((A, B, C), Implies(And(Iff(A, B), Iff(B, C)), Iff(A, C)))\n",
    "iff_transitivity"
   ]
  },
  {
   "cell_type": "code",
   "execution_count": null,
   "metadata": {},
   "outputs": [],
   "source": [
    "not_timplies_f = Implies(Not(TRUE), FALSE)\n",
    "not_timplies_f"
   ]
  },
  {
   "cell_type": "code",
   "execution_count": null,
   "metadata": {},
   "outputs": [],
   "source": [
    "conjunction_intro = Forall((A, B), And(A, B), conditions=(A, B))\n",
    "conjunction_intro"
   ]
  },
  {
   "cell_type": "code",
   "execution_count": null,
   "metadata": {},
   "outputs": [],
   "source": [
    "unfold_is_bool = Forall(A, Implies(in_bool(A), Or(Equals(A, TRUE), Equals(A, FALSE))))\n",
    "unfold_is_bool"
   ]
  },
  {
   "cell_type": "code",
   "execution_count": null,
   "metadata": {},
   "outputs": [],
   "source": [
    "fold_is_bool = Forall(A, Implies(Or(Equals(A, TRUE), Equals(A, FALSE)), in_bool(A)))\n",
    "fold_is_bool"
   ]
  },
  {
   "cell_type": "code",
   "execution_count": null,
   "metadata": {},
   "outputs": [],
   "source": [
    "contradiction_from_negation = Forall(A, Implies(Not(A), Implies(A, FALSE)))\n",
    "contradiction_from_negation"
   ]
  },
  {
   "cell_type": "code",
   "execution_count": null,
   "metadata": {},
   "outputs": [],
   "source": [
    "not_from_eq_false = Forall(A, Implies(Equals(A, FALSE), Not(A)))\n",
    "not_from_eq_false"
   ]
  },
  {
   "cell_type": "code",
   "execution_count": null,
   "metadata": {},
   "outputs": [],
   "source": [
    "not_from_eq_false_rev = Forall(A, Implies(Equals(FALSE, A), Not(A)))\n",
    "not_from_eq_false_rev"
   ]
  },
  {
   "cell_type": "code",
   "execution_count": null,
   "metadata": {},
   "outputs": [],
   "source": [
    "not_or_from_neither = Forall((A, B), Implies(Not(A), Implies(Not(B), Not(Or(A, B)))))\n",
    "not_or_from_neither"
   ]
  },
  {
   "cell_type": "code",
   "execution_count": null,
   "metadata": {},
   "outputs": [],
   "source": [
    "or_contradiction = Forall((A, B), Implies(Or(A, B), FALSE), conditions=(Not(A), Not(B)))\n",
    "or_contradiction"
   ]
  },
  {
   "cell_type": "code",
   "execution_count": null,
   "metadata": {},
   "outputs": [],
   "source": [
    "or_implies_left_if_not_right = Forall((A, B), Implies(Or(A, B), A), conditions=(in_bool(A), Not(B)))\n",
    "or_implies_left_if_not_right"
   ]
  },
  {
   "cell_type": "code",
   "execution_count": null,
   "metadata": {},
   "outputs": [],
   "source": [
    "or_implies_right_if_not_left = Forall((A, B), Implies(Or(A, B), B), conditions=(Not(A), in_bool(B)))\n",
    "or_implies_right_if_not_left"
   ]
  },
  {
   "cell_type": "code",
   "execution_count": null,
   "metadata": {},
   "outputs": [],
   "source": [
    "double_negation = Forall(A, Implies(A, Not(Not(A))))\n",
    "double_negation"
   ]
  },
  {
   "cell_type": "code",
   "execution_count": null,
   "metadata": {},
   "outputs": [],
   "source": [
    "eq_false_from_negation = Forall(A, Implies(A, Equals(Not(A), FALSE)))\n",
    "eq_false_from_negation"
   ]
  },
  {
   "cell_type": "code",
   "execution_count": null,
   "metadata": {},
   "outputs": [],
   "source": [
    "eq_false_rev_from_negation = Forall(A, Implies(A, Equals(FALSE, Not(A))))\n",
    "eq_false_rev_from_negation"
   ]
  },
  {
   "cell_type": "code",
   "execution_count": null,
   "metadata": {},
   "outputs": [],
   "source": [
    "from_not_false = Forall(A, Implies(NotEquals(A, FALSE), A), domain=BOOLEANS)\n",
    "from_not_false"
   ]
  },
  {
   "cell_type": "code",
   "execution_count": null,
   "metadata": {},
   "outputs": [],
   "source": [
    "transposition_from_negated = Forall((A, B), Implies(Implies(Not(B), Not(A)), Implies(A, B)), conditions=in_bool(B))\n",
    "transposition_from_negated"
   ]
  },
  {
   "cell_type": "code",
   "execution_count": null,
   "metadata": {},
   "outputs": [],
   "source": [
    "double_negate_conclusion = Forall((A, B), Implies(Implies(A, B), Implies(A, Not(Not(B)))), conditions=in_bool(B))\n",
    "double_negate_conclusion"
   ]
  },
  {
   "cell_type": "code",
   "execution_count": null,
   "metadata": {},
   "outputs": [],
   "source": [
    "transposition_from_negated_hypothesis = Forall((A, B), Implies(Implies(Not(B), A), Implies(Not(A), B)), domain=BOOLEANS)\n",
    "transposition_from_negated_hypothesis"
   ]
  },
  {
   "cell_type": "code",
   "execution_count": null,
   "metadata": {},
   "outputs": [],
   "source": [
    "transposition_from_negated_conclusion = Forall((A, B), Implies(Implies(B, Not(A)), Implies(A, Not(B))), conditions=in_bool(B))\n",
    "transposition_from_negated_conclusion"
   ]
  },
  {
   "cell_type": "code",
   "execution_count": null,
   "metadata": {},
   "outputs": [],
   "source": [
    "transposition_to_negated = Forall((A, B), Implies(Implies(B, A), Implies(Not(A), Not(B))), domain=BOOLEANS)\n",
    "transposition_to_negated"
   ]
  },
  {
   "cell_type": "code",
   "execution_count": null,
   "metadata": {},
   "outputs": [],
   "source": [
    "true_not_false = NotEquals(TRUE, FALSE)\n",
    "true_not_false"
   ]
  },
  {
   "cell_type": "code",
   "execution_count": null,
   "metadata": {},
   "outputs": [],
   "source": [
    "not_equals_false = Forall(A, Implies(A, NotEquals(A, FALSE)))\n",
    "not_equals_false"
   ]
  },
  {
   "cell_type": "code",
   "execution_count": null,
   "metadata": {},
   "outputs": [],
   "source": [
    "true_is_bool = in_bool(TRUE)\n",
    "true_is_bool"
   ]
  },
  {
   "cell_type": "code",
   "execution_count": null,
   "metadata": {},
   "outputs": [],
   "source": [
    "false_is_bool = in_bool(FALSE)\n",
    "false_is_bool"
   ]
  },
  {
   "cell_type": "code",
   "execution_count": null,
   "metadata": {},
   "outputs": [],
   "source": [
    "unfold_forall_over_bool = Forall(P, Implies(Forall(A, PofA, domain=BOOLEANS), And(PofTrue, PofFalse)))\n",
    "unfold_forall_over_bool"
   ]
  },
  {
   "cell_type": "code",
   "execution_count": null,
   "metadata": {},
   "outputs": [],
   "source": [
    "in_bool_if_eq_true = Forall(A, Implies(Equals(A, TRUE), in_bool(A)))\n",
    "in_bool_if_eq_true"
   ]
  },
  {
   "cell_type": "code",
   "execution_count": null,
   "metadata": {},
   "outputs": [],
   "source": [
    "in_bool_if_eq_true_rev = Forall(A, Implies(Equals(TRUE, A), in_bool(A)))\n",
    "in_bool_if_eq_true_rev"
   ]
  },
  {
   "cell_type": "code",
   "execution_count": null,
   "metadata": {},
   "outputs": [],
   "source": [
    "in_bool_if_eq_false = Forall(A, Implies(Equals(A, FALSE), in_bool(A)))\n",
    "in_bool_if_eq_false"
   ]
  },
  {
   "cell_type": "code",
   "execution_count": null,
   "metadata": {},
   "outputs": [],
   "source": [
    "in_bool_if_eq_false_rev = Forall(A, Implies(Equals(FALSE, A), in_bool(A)))\n",
    "in_bool_if_eq_false_rev"
   ]
  },
  {
   "cell_type": "code",
   "execution_count": null,
   "metadata": {},
   "outputs": [],
   "source": [
    "hypothetical_disjunction = Forall((A, B, C), Implies(And(Implies(A, C), Implies(B, C)), Implies(Or(A, B), C)), domain=BOOLEANS)\n",
    "hypothetical_disjunction"
   ]
  },
  {
   "cell_type": "code",
   "execution_count": null,
   "metadata": {},
   "outputs": [],
   "source": [
    "fold_forall_over_bool = Forall(P, Implies(And(PofTrue, PofFalse), Forall(A, PofA, domain = BOOLEANS)))\n",
    "fold_forall_over_bool"
   ]
  },
  {
   "cell_type": "code",
   "execution_count": null,
   "metadata": {},
   "outputs": [],
   "source": [
    "forall_bool_eval_true = Forall(P, Implies(And(PofTrue, PofFalse), Equals(Forall(A, PofA, domain=BOOLEANS), TRUE)))\n",
    "forall_bool_eval_true"
   ]
  },
  {
   "cell_type": "code",
   "execution_count": null,
   "metadata": {},
   "outputs": [],
   "source": [
    "forall_bundling = Forall((P, Qetc, Retc, S), Implies(Forall(x_etc, Forall(y_etc, Pxy_etc, S, etc_Ry_etc), S, etc_Qx_etc), Forall((x_etc, y_etc), Pxy_etc, S, (etc_Qx_etc, etc_Ry_etc))))\n",
    "forall_bundling"
   ]
  },
  {
   "cell_type": "code",
   "execution_count": null,
   "metadata": {},
   "outputs": [],
   "source": [
    "forall_unraveling = Forall((P, Qetc, Retc, S), Implies(Forall((x_etc, y_etc), Pxy_etc, S, (etc_Qx_etc, etc_Ry_etc)), Forall(x_etc, Forall(y_etc, Pxy_etc, S, etc_Ry_etc), S, etc_Qx_etc)))\n",
    "forall_unraveling"
   ]
  },
  {
   "cell_type": "code",
   "execution_count": null,
   "metadata": {},
   "outputs": [],
   "source": [
    "iff_over_bool_impl_eq = Forall((A, B), Implies(Iff(A, B), Equals(A, B)), domain=BOOLEANS)\n",
    "iff_over_bool_impl_eq"
   ]
  },
  {
   "cell_type": "code",
   "execution_count": null,
   "metadata": {},
   "outputs": [],
   "source": [
    "double_negation_equiv = Forall(A, Equals(A, Not(Not(A))), domain=BOOLEANS)\n",
    "double_negation_equiv"
   ]
  },
  {
   "cell_type": "code",
   "execution_count": null,
   "metadata": {},
   "outputs": [],
   "source": [
    "forall_bundled_equiv = Forall((P, Qetc, Retc, S), Equals(Forall((x_etc, y_etc), Pxy_etc, S, (etc_Qx_etc, etc_Ry_etc)), Forall(x_etc, Forall(y_etc, Pxy_etc, S, etc_Ry_etc), S, etc_Qx_etc)))\n",
    "forall_bundled_equiv"
   ]
  },
  {
   "cell_type": "code",
   "execution_count": null,
   "metadata": {},
   "outputs": [],
   "source": [
    "forall_eq_true_equiv = Forall((P, Qetc, S), Equals(Forall(x_etc, Px_etc, S, etc_Qx_etc), Forall(x_etc, Equals(Px_etc, TRUE), S, etc_Qx_etc)))\n",
    "forall_eq_true_equiv"
   ]
  },
  {
   "cell_type": "code",
   "execution_count": null,
   "metadata": {},
   "outputs": [],
   "source": [
    "implication_closure = Forall((A, B), in_bool(Implies(A, B)), domain=BOOLEANS)\n",
    "implication_closure"
   ]
  },
  {
   "cell_type": "code",
   "execution_count": null,
   "metadata": {},
   "outputs": [],
   "source": [
    "iff_closure = Forall((A, B), in_bool(Iff(A, B)), domain=BOOLEANS)\n",
    "iff_closure"
   ]
  },
  {
   "cell_type": "code",
   "execution_count": null,
   "metadata": {},
   "outputs": [],
   "source": [
    "conjunction_closure = Forall((A, B), in_bool(And(A, B)), domain=BOOLEANS)\n",
    "conjunction_closure"
   ]
  },
  {
   "cell_type": "code",
   "execution_count": null,
   "metadata": {},
   "outputs": [],
   "source": [
    "disjunction_closure = Forall((A, B), in_bool(Or(A, B)), domain=BOOLEANS)\n",
    "disjunction_closure"
   ]
  },
  {
   "cell_type": "code",
   "execution_count": null,
   "metadata": {},
   "outputs": [],
   "source": [
    "negation_closure = Forall(A, in_bool(Not(A)), domain=BOOLEANS)\n",
    "negation_closure"
   ]
  },
  {
   "cell_type": "code",
   "execution_count": null,
   "metadata": {},
   "outputs": [],
   "source": [
    "hypothetical_contradiction = Forall(A, Implies(Implies(A, FALSE), Not(A)), domain=BOOLEANS)\n",
    "hypothetical_contradiction"
   ]
  },
  {
   "cell_type": "code",
   "execution_count": null,
   "metadata": {},
   "outputs": [],
   "source": [
    "exists_def_negation = Forall((P, Qetc, S), Equals(NotExists(x_etc, Px_etc, S, etc_Qx_etc), Forall(x_etc, NotEquals(Px_etc, TRUE), S, etc_Qx_etc)))\n",
    "exists_def_negation"
   ]
  },
  {
   "cell_type": "code",
   "execution_count": null,
   "metadata": {},
   "outputs": [],
   "source": [
    "not_exists_unfolding = Forall((P, Qetc, S), Implies(NotExists(x_etc, Px_etc, S, etc_Qx_etc), Not(Exists(x_etc, Px_etc, S, etc_Qx_etc))))\n",
    "not_exists_unfolding"
   ]
  },
  {
   "cell_type": "code",
   "execution_count": null,
   "metadata": {},
   "outputs": [],
   "source": [
    "not_exists_folding = Forall((P, Qetc, S), Implies(Not(Exists(x_etc, Px_etc, S, etc_Qx_etc)), NotExists(x_etc, Px_etc, S, etc_Qx_etc)))\n",
    "not_exists_folding"
   ]
  },
  {
   "cell_type": "code",
   "execution_count": null,
   "metadata": {},
   "outputs": [],
   "source": [
    "exists_is_bool = Forall((P, Qetc, S), in_bool(Exists(x_etc, Px_etc, S, etc_Qx_etc)))\n",
    "exists_is_bool"
   ]
  },
  {
   "cell_type": "code",
   "execution_count": null,
   "metadata": {},
   "outputs": [],
   "source": [
    "existence_by_example = Forall((P, Qetc, S), Forall(x_etc, Implies(Px_etc, Exists(y_etc, Py_etc, S, etc_Qy_etc)), S, etc_Qx_etc))\n",
    "existence_by_example"
   ]
  },
  {
   "cell_type": "code",
   "execution_count": null,
   "metadata": {},
   "outputs": [],
   "source": [
    "exists_not_implies_not_forall = Forall((P, Qetc, S), Implies(Exists(x_etc, Not(Px_etc), S, etc_Qx_etc), Not(Forall(x_etc, Px_etc, S, etc_Qx_etc))))\n",
    "exists_not_implies_not_forall"
   ]
  },
  {
   "cell_type": "code",
   "execution_count": null,
   "metadata": {},
   "outputs": [],
   "source": [
    "forall_implies_not_exists_not = Forall((P, Qetc, S), Implies(Forall(x_etc, Px_etc, S, etc_Qx_etc), NotExists(x_etc, Not(Px_etc), S, etc_Qx_etc)))\n",
    "forall_implies_not_exists_not"
   ]
  },
  {
   "cell_type": "code",
   "execution_count": null,
   "metadata": {},
   "outputs": [],
   "source": [
    "def _forallBoolEvalFalse(PofTrueVal, PofFalseVal):\n",
    "    return Forall(P, Implies(And(Equals(PofTrue, PofTrueVal), Equals(PofFalse, PofFalseVal)), \n",
    "                             Equals(Forall(A, PofA, domain=BOOLEANS), FALSE)))"
   ]
  },
  {
   "cell_type": "code",
   "execution_count": null,
   "metadata": {},
   "outputs": [],
   "source": [
    "forall_bool_eval_false_via_f_f = _forallBoolEvalFalse(FALSE, FALSE)\n",
    "forall_bool_eval_false_via_f_f"
   ]
  },
  {
   "cell_type": "code",
   "execution_count": null,
   "metadata": {},
   "outputs": [],
   "source": [
    "forall_bool_eval_false_via_f_t = _forallBoolEvalFalse(FALSE, TRUE)\n",
    "forall_bool_eval_false_via_f_t"
   ]
  },
  {
   "cell_type": "code",
   "execution_count": null,
   "metadata": {},
   "outputs": [],
   "source": [
    "forall_bool_eval_false_via_t_f = _forallBoolEvalFalse(TRUE, FALSE)\n",
    "forall_bool_eval_false_via_t_f"
   ]
  },
  {
   "cell_type": "code",
   "execution_count": null,
   "metadata": {},
   "outputs": [],
   "source": [
    "or_if_any = Forall((x_etc, y, z_etc), Implies(y, Or(x_etc, y, z_etc)), domain=BOOLEANS)\n",
    "or_if_any"
   ]
  },
  {
   "cell_type": "code",
   "execution_count": null,
   "metadata": {},
   "outputs": [],
   "source": [
    "%end_theorems"
   ]
  },
  {
   "cell_type": "code",
   "execution_count": null,
   "metadata": {},
   "outputs": [],
   "source": []
  }
 ],
 "metadata": {
  "kernelspec": {
   "display_name": "Python 3",
   "language": "python",
   "name": "python3"
  }
 },
 "nbformat": 4,
 "nbformat_minor": 0
}
