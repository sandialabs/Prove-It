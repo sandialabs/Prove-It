{
 "cells": [
  {
   "cell_type": "markdown",
   "metadata": {},
   "source": [
    "Proof of <a class=\"ProveItLink\" href=\"../../../../../_theory_nbs_/theory.ipynb\">proveit</a>.<a class=\"ProveItLink\" href=\"../../../../_theory_nbs_/theory.ipynb\">logic</a>.<a class=\"ProveItLink\" href=\"../../theory.ipynb\">booleans</a>.<a class=\"ProveItLink\" href=\"../../theorems.ipynb#not_equals_true\">not_equals_true</a> theorem\n",
    "========"
   ]
  },
  {
   "cell_type": "code",
   "execution_count": 1,
   "metadata": {},
   "outputs": [],
   "source": [
    "import proveit\n",
    "theory = proveit.Theory() # the theorem's theory"
   ]
  },
  {
   "cell_type": "code",
   "execution_count": 2,
   "metadata": {},
   "outputs": [
    {
     "data": {
      "text/html": [
       "With these <a href=\"allowed_presumptions.txt\">allowed</a>/<a href=\"disallowed_presumptions.txt\">disallowed</a> theorem/theory presumptions (e.g., to avoid circular dependencies), we begin our proof of<br><strong id=\"not_equals_true\">not_equals_true:</strong> <a class=\"ProveItLink\" href=\"../../../__pv_it/theorems/b81279305ef5bf92e6ddf38d9965bf29373d3b1c0/expr.ipynb\"><img src=\"data:image/png;base64,iVBORw0KGgoAAAANSUhEUgAAAJcAAAAXCAMAAAAx8S2TAAAAPFBMVEX///8AAAAAAAAAAAAAAAAA\n",
       "AAAAAAAAAAAAAAAAAAAAAAAAAAAAAAAAAAAAAAAAAAAAAAAAAAAAAAAAAAAo1xBWAAAAE3RSTlMA\n",
       "q1RmmUTNIjK7EInv3Xbn9enzK1aD6QAAAAlwSFlzAAAOxAAADsQBlSsOGwAAAdpJREFUSMfNl9ly\n",
       "wyAMRQGzb134/3+tsU0ssCCk40yrh0zsCHG4SKAQ8gZTfzh6YJHBWSTqw213uIj5kz6e2XIPFnPw\n",
       "SSbMRxuAGIBlnJhBuHhEuEdAWwnEEspl9GU1EaxlFVMXwZS5Ry5eyc5pQparKRlxLfyAy+bYPVwe\n",
       "PjjlkkbkUkMu4lem5VifvCm7YBwVSUzX9QpKxlwyM/kt4by7aRthHJ4T7FpOWCZXXC6D801oAwq3\n",
       "qmE+TPLrnABDrFLp5NrK+/gsldfjWrLoipaPMpmHKTEqh9pzs8DqJalEZ+SquZgvUjkBVKxSYsTl\n",
       "rsnjz0DRcL7WYxtAoDtQcelUXoFsFdrHOa7Gs+Gy+28pzMhVcwl/lOIC3kYi6RxX49ns4yFL8HV+\n",
       "fX2fJ3t3H8NxdEkLJiNcTnG1nrt7iS8W/CKS+M1Y5/0+qfIU7M06oce5nNkt4J5niW8xy/j6wGed\n",
       "+q64ymFDNXjlHE12qBfFPfeU3aCtSWkThuUv7rlcD3n3vRfI3uTa1s+5rp5HTD3fbPQ6sNChhuWP\n",
       "cHHcE1y6XZP25as/v9gSzfIkxZO8xzz7l/IJPSXXVGfzcvtjByPCjFxGvYUrdxE90zNt+Fx/elO7\n",
       "+M/+3PzWfgCOTg5MBiAUlwAAAABJRU5ErkJggg==\n",
       "\" style=\"display:inline;vertical-align:middle;\" /></a><br>(see <a class=\"ProveItLink\" href=\"../../../__pv_it/theorems/bf4f0f3aadce3e764ded53758cadf195ef692a500/dependencies.ipynb\">dependencies</a>)<br>"
      ],
      "text/plain": [
       "<IPython.core.display.HTML object>"
      ]
     },
     "metadata": {},
     "output_type": "display_data"
    },
    {
     "name": "stdout",
     "output_type": "stream",
     "text": [
      "not_equals_true may now be readily provable (assuming required theorems are usable).  Simply execute \"%qed\".\n"
     ]
    }
   ],
   "source": [
    "%proving not_equals_true"
   ]
  },
  {
   "cell_type": "code",
   "execution_count": 3,
   "metadata": {},
   "outputs": [
    {
     "name": "stdout",
     "output_type": "stream",
     "text": [
      "proveit.logic.booleans.not_equals_true has been proven.\n"
     ]
    },
    {
     "data": {
      "text/html": [
       "<table><tr><th>&nbsp;</th><th>step type</th><th>requirements</th><th>statement</th></tr>\n",
       "<tr><td><a name=\"-0x306a696c10bd4abc_step0\">0</a></td><td>generalization</td><td><a href=\"#-0x306a696c10bd4abc_step1\">1</a></td><td><span style=\"font-size:20px;\"> <a class=\"ProveItLink\" href=\"../../../__pv_it/_proof_not_equals_true/7bd9b79a6d61799185c65832714a82b19e6849cd0/proof.ipynb\" style=\"text-decoration: none\">&nbsp;&#x22A2;&nbsp;&nbsp;</a><a class=\"ProveItLink\" href=\"../../../__pv_it/theorems/b81279305ef5bf92e6ddf38d9965bf29373d3b1c0/expr.ipynb\"><img src=\"data:image/png;base64,iVBORw0KGgoAAAANSUhEUgAAAJcAAAAXCAMAAAAx8S2TAAAAPFBMVEX///8AAAAAAAAAAAAAAAAA\n",
       "AAAAAAAAAAAAAAAAAAAAAAAAAAAAAAAAAAAAAAAAAAAAAAAAAAAAAAAAAAAo1xBWAAAAE3RSTlMA\n",
       "q1RmmUTNIjK7EInv3Xbn9enzK1aD6QAAAAlwSFlzAAAOxAAADsQBlSsOGwAAAdpJREFUSMfNl9ly\n",
       "wyAMRQGzb134/3+tsU0ssCCk40yrh0zsCHG4SKAQ8gZTfzh6YJHBWSTqw213uIj5kz6e2XIPFnPw\n",
       "SSbMRxuAGIBlnJhBuHhEuEdAWwnEEspl9GU1EaxlFVMXwZS5Ry5eyc5pQparKRlxLfyAy+bYPVwe\n",
       "PjjlkkbkUkMu4lem5VifvCm7YBwVSUzX9QpKxlwyM/kt4by7aRthHJ4T7FpOWCZXXC6D801oAwq3\n",
       "qmE+TPLrnABDrFLp5NrK+/gsldfjWrLoipaPMpmHKTEqh9pzs8DqJalEZ+SquZgvUjkBVKxSYsTl\n",
       "rsnjz0DRcL7WYxtAoDtQcelUXoFsFdrHOa7Gs+Gy+28pzMhVcwl/lOIC3kYi6RxX49ns4yFL8HV+\n",
       "fX2fJ3t3H8NxdEkLJiNcTnG1nrt7iS8W/CKS+M1Y5/0+qfIU7M06oce5nNkt4J5niW8xy/j6wGed\n",
       "+q64ymFDNXjlHE12qBfFPfeU3aCtSWkThuUv7rlcD3n3vRfI3uTa1s+5rp5HTD3fbPQ6sNChhuWP\n",
       "cHHcE1y6XZP25as/v9gSzfIkxZO8xzz7l/IJPSXXVGfzcvtjByPCjFxGvYUrdxE90zNt+Fx/elO7\n",
       "+M/+3PzWfgCOTg5MBiAUlwAAAABJRU5ErkJggg==\n",
       "\" style=\"display:inline;vertical-align:middle;\" /></a></span></td></tr>\n",
       "<tr><td><a name=\"-0x306a696c10bd4abc_step1\">1</a></td><td>instantiation</td><td><a href=\"#-0x306a696c10bd4abc_step2\">2</a>, <a href=\"#-0x306a696c10bd4abc_step3\">3</a>, <a href=\"#-0x306a696c10bd4abc_step4\">4</a></td><td><span style=\"font-size:20px;\"><a class=\"ProveItLink\" href=\"../../../__pv_it/theorems/c6244e76de3be0816f3efc36199d65e50f6589940/expr.ipynb\"><img src=\"data:image/png;base64,iVBORw0KGgoAAAANSUhEUgAAABwAAAAPBAMAAAAFYbKSAAAAMFBMVEX///8AAAAAAAAAAAAAAAAA\n",
       "AAAAAAAAAAAAAAAAAAAAAAAAAAAAAAAAAAAAAAAAAAAv3aB7AAAAD3RSTlMAmd0iq81UiTJ2ZkS7\n",
       "EO8Z3gX6AAAACXBIWXMAAA7EAAAOxAGVKw4bAAAAaUlEQVQI12NgQADmAAZkwPoBhZuPyhX5jMxj\n",
       "N/+BzLXk/IbMFWD7hcTjTuD4zsAgpAQEikAuIwPzF6iMCRDPERT5g+DyTmBg+ITgMgIpPSjXkIFh\n",
       "F5CKRzj/AZA4bwDl8Z7/eoEh5384AEaRFfDwb8v9AAAAAElFTkSuQmCC\n",
       "\" style=\"display:inline;vertical-align:middle;\" /></a> <a class=\"ProveItLink\" href=\"../../../__pv_it/_proof_not_equals_true/4b248976d74347085cf3fa817ba0deb1ed3408560/proof.ipynb\" style=\"text-decoration: none\">&nbsp;&#x22A2;&nbsp;&nbsp;</a><a class=\"ProveItLink\" href=\"../../../__pv_it/theorems/c45506d7833eb46613c79d38c2faf35513f61f020/expr.ipynb\"><img src=\"data:image/png;base64,iVBORw0KGgoAAAANSUhEUgAAADoAAAAUCAMAAADrw95cAAAAPFBMVEX///8AAAAAAAAAAAAAAAAA\n",
       "AAAAAAAAAAAAAAAAAAAAAAAAAAAAAAAAAAAAAAAAAAAAAAAAAAAAAAAAAAAo1xBWAAAAE3RSTlMA\n",
       "Is1UmauJMnZmRLsQ3e/n9enzhfMsDgAAAAlwSFlzAAAOxAAADsQBlSsOGwAAALdJREFUOMudktkS\n",
       "wyAIRUFxi9q05f//tUmXNFFaMt4nZThcYADYhAYkUQFVhqVoyLsqdSf3jVsW0RzaiI1dY45RMHWg\n",
       "oh49B8EUVRQjRLZd2tSbdiitw6Z+daii02IY2Le7nK/NLgWU1p7ZnTFt0JiJlg3ndlICDS2vD9cz\n",
       "pkf0XbxejrPe7t3dtOiU5Es08vXuUPyY5eM5WYL/aMnMz/J2fXjddGvyt6yHUZkySqZx0zpsCkHN\n",
       "eADi0wX7k439dgAAAABJRU5ErkJggg==\n",
       "\" style=\"display:inline;vertical-align:middle;\" /></a></span></td></tr>\n",
       "<tr><td>&nbsp;</td><td colspan=4 style=\"text-align:left\"><span style=\"font-size:20px;\"><a class=\"ProveItLink\" href=\"../../../__pv_it/_proof_not_equals_true/1d99392da58b40374b949787020ddefb47f454cd0/expr.ipynb\"><img src=\"data:image/png;base64,iVBORw0KGgoAAAANSUhEUgAAADsAAAAVBAMAAAAKrYvGAAAAMFBMVEX///8AAAAAAAAAAAAAAAAA\n",
       "AAAAAAAAAAAAAAAAAAAAAAAAAAAAAAAAAAAAAAAAAAAv3aB7AAAAD3RSTlMAdrurzZkQ7zJUiSLd\n",
       "ZkQEbk8lAAAACXBIWXMAAA7EAAAOxAGVKw4bAAABHElEQVQoz2NgQAYb8PAYGBgnoHAfgkmh/8pG\n",
       "rgkg1iw01RfA1BcGBqYyIM3mgGaaG4jg+MjAwAnEDKwX0KSvgs34AcS/gAx2NFkGdpCVTB+AGKiE\n",
       "YQq6NAvIOH4FBoZ+ASAjCiHBbSUNFOEyYABL7ToJEvNFSD/fwPSNgYEX5FZ5q1X3wGIn4bJstQys\n",
       "B4AOLgCy9WGCdXBp1g8MPAuAfvoA8Ta6NLsCQ/4DBgY+oG6OXzBBhOH5Agz3gRQn0ALGfzBBRYT0\n",
       "BAYTzg0MvEA/sXyACS6GSzMJcB5lBTphAQOr/icBqGAP0CYlINBmYDNcsVmCgYHnAXIg8TSghdoe\n",
       "FB5vAJp0LCpXG5XLrYDKT0LlMqGlJm4BFK40AwMAeV42yYcqVGcAAAAASUVORK5CYII=\n",
       "\" style=\"display:inline;vertical-align:middle;\" /></a> : <a class=\"ProveItLink\" href=\"../../../__pv_it/_proof_not_equals_true/133dbd1dbfc8306ddc771d6fb4025fbd4a0e9dd00/expr.ipynb\"><img src=\"data:image/png;base64,iVBORw0KGgoAAAANSUhEUgAAAEMAAAAUCAMAAADhn3AOAAAAPFBMVEX///8AAAAAAAAAAAAAAAAA\n",
       "AAAAAAAAAAAAAAAAAAAAAAAAAAAAAAAAAAAAAAAAAAAAAAAAAAAAAAAAAAAo1xBWAAAAE3RSTlMA\n",
       "Mrsiq4l2RO8QZpndVM3n9enzO7jlKAAAAAlwSFlzAAAOxAAADsQBlSsOGwAAALFJREFUOMutk9kO\n",
       "AyEIRXFfsYv//6/VJk1mHGkx9j74gHi4RABgKwXYlZAHXD5I8xlSjBG0qzau5ZYZUm0z3KRrkqG0\n",
       "sep6WRSf4XxLljUMP3C7T36AYAQf3w85NihGqv3MZnSXgM/wfZBCdRwbBCPUHo51mMjHczqRFAPb\n",
       "qQvgqXCZbwrRi2xhzAlO/WOC7wwhP+qlg7ZGKG0Fwwa4yB5RNNs7T9pYUPyDjbxvA8TPjBdbBwXE\n",
       "dTWnEAAAAABJRU5ErkJggg==\n",
       "\" style=\"display:inline;vertical-align:middle;\" /></a>, <a class=\"ProveItLink\" href=\"../../../../../__pv_it/common/a0d9d672aa5e272d907247690c152cc2c6daafb70/expr.ipynb\"><img src=\"data:image/png;base64,iVBORw0KGgoAAAANSUhEUgAAAAsAAAAJBAMAAAAWSsseAAAAMFBMVEX///8AAAAAAAAAAAAAAAAA\n",
       "AAAAAAAAAAAAAAAAAAAAAAAAAAAAAAAAAAAAAAAAAAAv3aB7AAAAD3RSTlMAEHarMolUmd1mIs3v\n",
       "RLtmgJDEAAAACXBIWXMAAA7EAAAOxAGVKw4bAAAAQklEQVQI12NgEFIWCU1gYChgMmJvYOBcwPmR\n",
       "eQIDCwP7BgYQ4FEAU/cXMAowyF2wYWBlYMh3rGG4xsAgrsRWmcAAAFEjCyBvD0T9AAAAAElFTkSu\n",
       "QmCC\n",
       "\" style=\"display:inline;vertical-align:middle;\" /></a> : <a class=\"ProveItLink\" href=\"../../../../../__pv_it/common/09585084922504426caf1db2ff588a23a0932a960/expr.ipynb\"><img src=\"data:image/png;base64,iVBORw0KGgoAAAANSUhEUgAAAA8AAAAPBAMAAADJ+Ih5AAAAMFBMVEX///8AAAAAAAAAAAAAAAAA\n",
       "AAAAAAAAAAAAAAAAAAAAAAAAAAAAAAAAAAAAAAAAAAAv3aB7AAAAD3RSTlMAIs1UmauJMnZmRLsQ\n",
       "3e++988cAAAACXBIWXMAAA7EAAAOxAGVKw4bAAAAXklEQVQI12NgAAEhBijQh9LM/6EMlngBCCMx\n",
       "vwBMMzb0G0BkGOwngBmLGeoTwAwHBvkAEM2xxSV+A4hxgoGB/wJEhoH3AZDmAupg+gBkyAEx90cG\n",
       "htP/dRiY939KAABt3hLO6mcEjQAAAABJRU5ErkJggg==\n",
       "\" style=\"display:inline;vertical-align:middle;\" /></a></span></td></tr><tr><td><a name=\"-0x306a696c10bd4abc_step2\">2</a></td><td>theorem</td><td></td><td><span style=\"font-size:20px;\"> <a class=\"ProveItLink\" href=\"../../../../equality/_theory_nbs_/proofs/substitute_falsehood/thm_proof.ipynb\" style=\"text-decoration: none\">&nbsp;&#x22A2;&nbsp;&nbsp;</a><a class=\"ProveItLink\" href=\"../../../../equality/__pv_it/theorems/128874444b592da08dbd53e29120fb089ebf8c360/expr.ipynb\"><img src=\"data:image/png;base64,iVBORw0KGgoAAAANSUhEUgAAAK4AAAAXBAMAAABg52lgAAAAMFBMVEX///8AAAAAAAAAAAAAAAAA\n",
       "AAAAAAAAAAAAAAAAAAAAAAAAAAAAAAAAAAAAAAAAAAAv3aB7AAAAD3RSTlMAq1RmmUTNIjK7EInv\n",
       "3XZ/CtNrAAAACXBIWXMAAA7EAAAOxAGVKw4bAAACeUlEQVQ4y62UT2jUQBTGv02y3WzSxj0IUhQR\n",
       "PAiimIMKPSgrpaxQkcWjFVxUEDylR7HU9loKjacSEXcFEXuR6kGwRVl6rCirIHgpRK2IHtZe/NeC\n",
       "9s0kM5tscpCmA5P38s3Mb2bevBlgG0uhy25X+RjavA+UmLM/C+3rv1v9VxrkKPNC+gQMMXs10zJ/\n",
       "AsVlsg+k0tPAJIuHmwWr/6WlUsWglNQyQ8Pcl4Vr/aa6QU6zoy1DtWnZmcJQXKNKbKXW0S4Dr1ZW\n",
       "Xmbi7qAozlAGaOzYHn14uEi7fwycBm4nO5ejPwfEjlO5xLzxlh2WzcZZe7UWcBwYRYFyLV8fPrUr\n",
       "0jk4yUBVq+RqidlE+b578RizfbRO1VHXc8Q/RKFpmGzcCeB5ghuo93gU2WckjVsPbS9hdGg8yjMU\n",
       "bp8f206aOMnl6pDksuRJS1/Jpa/Pvheo1k4ybwl4QxFcHa9EuVxtSW4kIduVVSdI341Q6eONFx2D\n",
       "Jj9M3pNr7GqsY5Si9yXnXopwuVqoSa4iA2w5/T3BJNYPkW+00rnqHpjkD1AdY0+E+rp9kIxd9Cci\n",
       "XK7mXcnl7jPP81oq7urhnV0LuSZxjkydwTnyh6nmGClXCpPRicaXq0pJcnVx4Un6FXha/Y8f3meK\n",
       "1/22Msi28U7sq9cO7DScCJerupuMQwl6M/HKvu88xC3h3SScMV9oPg1z1JUqIudm+UbwFpbHzJrW\n",
       "zT0qPc0Wx1BfoIUt4exIu9HhchWYZTG943k+ig71CUZ+fvEt8VA4wrseb1AS+Yv4bZiL9ekuhhw0\n",
       "G284n87V5DoqsT6JMi6TMK7b6VwsiOe6GuuzlRKb0eiy/1E2AWO5kcK+S6/8AAAAAElFTkSuQmCC\n",
       "\" style=\"display:inline;vertical-align:middle;\" /></a></span></td></tr>\n",
       "<tr><td>&nbsp;</td><td colspan=4 style-\"text-align:left\"><a class=\"ProveItLink\" href=\"../../../../equality/_theory_nbs_/proofs/substitute_falsehood/thm_proof.ipynb\">proveit.logic.equality.substitute_falsehood</a></td></tr><tr><td><a name=\"-0x306a696c10bd4abc_step3\">3</a></td><td>axiom</td><td></td><td><span style=\"font-size:20px;\"> <a class=\"ProveItLink\" href=\"../../axioms.ipynb#false_not_true\" style=\"text-decoration: none\">&nbsp;&#x22A2;&nbsp;&nbsp;</a><a class=\"ProveItLink\" href=\"../../../__pv_it/axioms/eb8cfde2511c6ba3e5c8a65a4e82d309baeb3e560/expr.ipynb\"><img src=\"data:image/png;base64,iVBORw0KGgoAAAANSUhEUgAAADoAAAAUCAMAAADrw95cAAAAPFBMVEX///8AAAAAAAAAAAAAAAAA\n",
       "AAAAAAAAAAAAAAAAAAAAAAAAAAAAAAAAAAAAAAAAAAAAAAAAAAAAAAAAAAAo1xBWAAAAE3RSTlMA\n",
       "RGZUdpnd76sQMrsizYnn9enzwjX02wAAAAlwSFlzAAAOxAAADsQBlSsOGwAAAH9JREFUOMudk0cS\n",
       "wCAIAFFj17T/PzaHOBljRTiCy1oQYBbSjuuM9yrOZ11UFiYlxdZDvSszxdou6gxQUR+oKKulWDSG\n",
       "ZTTd5XHmd7lkbUlxKJNARZtS1Fmv+z83C9bYnl4EKiSM0fcZtK631pEOvsrXfAdqREslOV2qyFJw\n",
       "0xUPtZQDboKIjKIAAAAASUVORK5CYII=\n",
       "\" style=\"display:inline;vertical-align:middle;\" /></a></span></td></tr>\n",
       "<tr><td>&nbsp;</td><td colspan=4 style-\"text-align:left\"><a class=\"ProveItLink\" href=\"../../axioms.ipynb#false_not_true\">proveit.logic.booleans.false_not_true</a></td></tr><tr><td><a name=\"-0x306a696c10bd4abc_step4\">4</a></td><td>assumption</td><td></td><td><span style=\"font-size:20px;\"><a class=\"ProveItLink\" href=\"../../../__pv_it/theorems/c6244e76de3be0816f3efc36199d65e50f6589940/expr.ipynb\"><img src=\"data:image/png;base64,iVBORw0KGgoAAAANSUhEUgAAABwAAAAPBAMAAAAFYbKSAAAAMFBMVEX///8AAAAAAAAAAAAAAAAA\n",
       "AAAAAAAAAAAAAAAAAAAAAAAAAAAAAAAAAAAAAAAAAAAv3aB7AAAAD3RSTlMAmd0iq81UiTJ2ZkS7\n",
       "EO8Z3gX6AAAACXBIWXMAAA7EAAAOxAGVKw4bAAAAaUlEQVQI12NgQADmAAZkwPoBhZuPyhX5jMxj\n",
       "N/+BzLXk/IbMFWD7hcTjTuD4zsAgpAQEikAuIwPzF6iMCRDPERT5g+DyTmBg+ITgMgIpPSjXkIFh\n",
       "F5CKRzj/AZA4bwDl8Z7/eoEh5384AEaRFfDwb8v9AAAAAElFTkSuQmCC\n",
       "\" style=\"display:inline;vertical-align:middle;\" /></a> <a class=\"ProveItLink\" href=\"../../../__pv_it/_proof_not_equals_true/643fab3eed3bf565a0613783f8e49903b513aa8f0/proof.ipynb\" style=\"text-decoration: none\">&nbsp;&#x22A2;&nbsp;&nbsp;</a><a class=\"ProveItLink\" href=\"../../../__pv_it/theorems/c6244e76de3be0816f3efc36199d65e50f6589940/expr.ipynb\"><img src=\"data:image/png;base64,iVBORw0KGgoAAAANSUhEUgAAABwAAAAPBAMAAAAFYbKSAAAAMFBMVEX///8AAAAAAAAAAAAAAAAA\n",
       "AAAAAAAAAAAAAAAAAAAAAAAAAAAAAAAAAAAAAAAAAAAv3aB7AAAAD3RSTlMAmd0iq81UiTJ2ZkS7\n",
       "EO8Z3gX6AAAACXBIWXMAAA7EAAAOxAGVKw4bAAAAaUlEQVQI12NgQADmAAZkwPoBhZuPyhX5jMxj\n",
       "N/+BzLXk/IbMFWD7hcTjTuD4zsAgpAQEikAuIwPzF6iMCRDPERT5g+DyTmBg+ITgMgIpPSjXkIFh\n",
       "F5CKRzj/AZA4bwDl8Z7/eoEh5384AEaRFfDwb8v9AAAAAElFTkSuQmCC\n",
       "\" style=\"display:inline;vertical-align:middle;\" /></a></span></td></tr>\n",
       "</table>"
      ],
      "text/plain": [
       "\tstep type\trequirements\tstatement\n",
       "0\tgeneralization\t1\t|- forall_{A | [not](A)} (A != TRUE)\n",
       "1\tinstantiation\t2, 3, 4\t{[not](A)} |- A != TRUE\n",
       "\tP(_a) : _a != TRUE, x : A\n",
       "2\ttheorem\t\t|- forall_{P, x | P(FALSE), [not](x)} P(x)\n",
       "\tproveit.logic.equality.substitute_falsehood\n",
       "3\taxiom\t\t|- FALSE != TRUE\n",
       "\tproveit.logic.booleans.false_not_true\n",
       "4\tassumption\t\t{[not](A)} |- [not](A)"
      ]
     },
     "execution_count": 3,
     "metadata": {},
     "output_type": "execute_result"
    }
   ],
   "source": [
    "%qed"
   ]
  },
  {
   "cell_type": "code",
   "execution_count": null,
   "metadata": {},
   "outputs": [],
   "source": []
  }
 ],
 "metadata": {
  "kernelspec": {
   "display_name": "Python 3",
   "language": "python",
   "name": "python3"
  }
 },
 "nbformat": 4,
 "nbformat_minor": 0
}