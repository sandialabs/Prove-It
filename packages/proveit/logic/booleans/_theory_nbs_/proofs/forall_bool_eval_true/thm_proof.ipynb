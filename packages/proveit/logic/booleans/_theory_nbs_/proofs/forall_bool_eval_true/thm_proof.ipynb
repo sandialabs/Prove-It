{
 "cells": [
  {
   "cell_type": "markdown",
   "metadata": {},
   "source": [
    "Proof of <a class=\"ProveItLink\" href=\"../../../../../_theory_nbs_/theory.ipynb\">proveit</a>.<a class=\"ProveItLink\" href=\"../../../../_theory_nbs_/theory.ipynb\">logic</a>.<a class=\"ProveItLink\" href=\"../../theory.ipynb\">booleans</a>.<a class=\"ProveItLink\" href=\"../../theorems.ipynb#forall_bool_eval_true\">forall_bool_eval_true</a> theorem\n",
    "========"
   ]
  },
  {
   "cell_type": "code",
   "execution_count": 1,
   "metadata": {},
   "outputs": [],
   "source": [
    "import proveit\n",
    "theory = proveit.Theory() # the theorem's theory"
   ]
  },
  {
   "cell_type": "code",
   "execution_count": 2,
   "metadata": {},
   "outputs": [
    {
     "data": {
      "text/html": [
       "With these <a href=\"allowed_presumptions.txt\">allowed</a>/<a href=\"disallowed_presumptions.txt\">disallowed</a> theorem/theory presumptions (e.g., to avoid circular dependencies), we begin our proof of<br><strong id=\"forall_bool_eval_true\">forall_bool_eval_true:</strong> <a class=\"ProveItLink\" href=\"../../../__pv_it/theorems/3449bec9bf9d22446dc9db41b3e5e4014bc8bca80/expr.ipynb\"><img src=\"data:image/png;base64,iVBORw0KGgoAAAANSUhEUgAAAWoAAAAXBAMAAADQPRh7AAAAMFBMVEX///8AAAAAAAAAAAAAAAAA\n",
       "AAAAAAAAAAAAAAAAAAAAAAAAAAAAAAAAAAAAAAAAAAAv3aB7AAAAD3RSTlMAq1RmmUTNIjK7EInv\n",
       "3XZ/CtNrAAAACXBIWXMAAA7EAAAOxAGVKw4bAAAD/0lEQVRYw8WXTWjUQBTHX/ej6W666xYE8dSK\n",
       "ouIH9qIgqKxQP3tw0YtVD5UqooKuCoIgdAUvHrRFrSUibfTWi6xfSJWithT8ZhUFL4WgeBC0fiCK\n",
       "Ctb3ZiaTSXYz9rL6IJvsvP/k/Wby8mYCUG3Lw4dXk5YKM/AI7WVA9S3dBDcmLyU7DBB38BzWjZwZ\n",
       "uphZPer5FF4XJN3/o+HceiEl24/HmwrUsTFmGXKuooZdVYNOtlN4bZApKLlgcylaZAJ/au2Kcx2h\n",
       "Z0DOY5Qp3VWjjjVTeG2QLkRZ5HAp9WjE9I5mNdTopFGZTVWjrmePWhvkYwGPIpei3byD/+Ghhhqd\n",
       "URxhbfXSejaj1gbpp6PApfhInI80vA4dNTqfjI09qh51K3+tdEF+ANT9FlJMEFhEmXJFR43OtQDn\n",
       "1UT0yeaIsxOKFRFFNl3Z3cGpZRC7TIHExpCYXrSN0IXZAksEtSwcKjU6D4CBbfH+1pXTqCXB/W1f\n",
       "rzfkIZozLeuB1aeMZdC6YFmOJ1nsjjTrKkQXbs85NQ+CdeK+CL93xwuR5+nPt6/lXCndppOUC3Rz\n",
       "jc6EbVKn5QBDCnW0BGYJLtIlvfvxotdVKLgkmXFbtip398rFKKcWQcD8gj+npveAUzw4V9zukyKF\n",
       "9NmWRurdpaPuoiv2nkzFF1lhqslC+hOvswxhTzk1k8RybkutraEWQWDzU3wyaynliuYlr1x71Jex\n",
       "oYTnbTpqdEL7CroaBnimMNU3QSoDJYlwtZyaSVKyRa1sHrXIEBEEnO183UPqQ7dEuS4qUsqz1F08\n",
       "L9Tl9UIConk0fsKBrMLUaRtTwWiXCLMgZqGdUaiZ5LDsE8nCOpI0+6j7BDULgq/sakgyp9PyuCDK\n",
       "dU6RxqlEUsos1c01OuEoDST6dHyeOpPLxl/bEO+W1G3lc80kbbIl3l1prq8IahYENsN7BkZzffyt\n",
       "t+2Q0qN0t++8DIZTU42soUHXZPxMDUyUkQgnyqmZZIZsqatIfVJQsyDQervRju62rNOU1yYTrJvo\n",
       "86QDE3sg0v8Nc+ZlRWo+YnKKJG32M414IGEZMiJHo8mQVEEJjzW9s1BX5HNtBit8qqDsoUvhO1Xm\n",
       "FEma91Eb39nJexvH/XOdLAqJ9zamnUpz7dsGbcIC0cSXG6Q+FYCJZoObLs2OTGxyb/mo3/1idaxX\n",
       "Lh+9/tWzblhIEnl33UnkPYkSv9cLH7sHyQ074QjOaWTfXqs5SKPEOKL5KmDOgCXUP3LlSAa3mRE3\n",
       "0+TyM1A5xEBZ+OSg1RMmVQcQSt37F+pYPnjh2hb3Yk3ZRSAJHRia5HejIXMsjeE+jIZ9qOX/Qg1u\n",
       "3iwOyuTjNcWSGM3BfzT/F3BSnO3wDrZf+U/sDwAxPBC29YR7AAAAAElFTkSuQmCC\n",
       "\" style=\"display:inline;vertical-align:middle;\" /></a><br>(see <a class=\"ProveItLink\" href=\"../../../__pv_it/theorems/cadaf41ef36618b172728282d1d3a76d81d8e36f0/dependencies.ipynb\">dependencies</a>)<br>"
      ],
      "text/plain": [
       "<IPython.core.display.HTML object>"
      ]
     },
     "metadata": {},
     "output_type": "display_data"
    }
   ],
   "source": [
    "%proving forall_bool_eval_true"
   ]
  },
  {
   "cell_type": "code",
   "execution_count": null,
   "metadata": {},
   "outputs": [],
   "source": []
  }
 ],
 "metadata": {
  "kernelspec": {
   "display_name": "Python 3",
   "language": "python",
   "name": "python3"
  }
 },
 "nbformat": 4,
 "nbformat_minor": 0
}