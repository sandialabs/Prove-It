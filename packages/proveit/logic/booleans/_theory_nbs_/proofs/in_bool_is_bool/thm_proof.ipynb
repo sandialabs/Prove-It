{
 "cells": [
  {
   "cell_type": "markdown",
   "metadata": {},
   "source": [
    "Proof of <a class=\"ProveItLink\" href=\"../../../../../_theory_nbs_/theory.ipynb\">proveit</a>.<a class=\"ProveItLink\" href=\"../../../../_theory_nbs_/theory.ipynb\">logic</a>.<a class=\"ProveItLink\" href=\"../../theory.ipynb\">booleans</a>.<a class=\"ProveItLink\" href=\"../../theorems.ipynb#in_bool_is_bool\">in_bool_is_bool</a> theorem\n",
    "========"
   ]
  },
  {
   "cell_type": "code",
   "execution_count": 1,
   "metadata": {},
   "outputs": [],
   "source": [
    "import proveit\n",
    "from proveit import l, x, A\n",
    "from proveit.numbers import two\n",
    "from proveit.logic import bools_def, TRUE, FALSE\n",
    "from proveit.logic.booleans import in_bool_def\n",
    "from proveit.logic.sets.enumeration  import enum_set_def\n",
    "theory = proveit.Theory() # the theorem's theory"
   ]
  },
  {
   "cell_type": "code",
   "execution_count": 2,
   "metadata": {},
   "outputs": [
    {
     "data": {
      "text/html": [
       "With these <a href=\"allowed_presumptions.txt\">allowed</a>/<a href=\"disallowed_presumptions.txt\">disallowed</a> theorem/theory presumptions (e.g., to avoid circular dependencies), we begin our proof of<br><strong id=\"in_bool_is_bool\">in_bool_is_bool:</strong> <a class=\"ProveItLink\" href=\"../../../__pv_it/theorems/6c3106b5475fdac800784959cc56ad8361fa8c2e0/expr.ipynb\"><img src=\"data:image/png;base64,iVBORw0KGgoAAAANSUhEUgAAAKAAAAAVBAMAAAAz5vjYAAAAMFBMVEX///8AAAAAAAAAAAAAAAAA\n",
       "AAAAAAAAAAAAAAAAAAAAAAAAAAAAAAAAAAAAAAAAAAAv3aB7AAAAD3RSTlMAq1RmmUTNIjK7EInv\n",
       "3XZ/CtNrAAAACXBIWXMAAA7EAAAOxAGVKw4bAAACL0lEQVQ4y2NgwALYoRgnYCdR/BEUA1UkoMq8\n",
       "PZmfczGAgfUBA05xARBfGUWWaQMEAwHbBzSdE+LYs0QZGB4z4BR3BXHTUSSXQTEQ6GMYGMywnRNo\n",
       "0QKc4o0gj01AkXSGYiBw/I6p0YiRgYHZAac4yC5uBRTJA1AMlKj+ARV7efduAkwjG5A+BRHmm3v3\n",
       "GgOqOLMB0KGoQZgAwUBQx/cJIhb2CuEScWsgnQzmseYtwBQ/e/fuaRQDWTZAMBA4MH2GRHYWIvDX\n",
       "XQTJbQTzyhZgEfdgYJgFFoNJshlAMNABChy/IUIFcI2xOX+9gLQZA2pkIokXMrCDkw7XCagcrwIE\n",
       "A93JwP4RYiBy4D8OA1qtA+YlYBPnXMAdAI4AaHAx8ARAMDAmXBx/goV67gLBBKhGTlag3/pBHA5g\n",
       "cN29yYAmzvQAYn/EOXQDuYDp/i9YaCWySzgZgEbHgD01Aat4gh1Y6EEiupdZgPgORAhVI9CnumDe\n",
       "Bazim8BRyMfgBpXjfADBDMFAnA9Jbg+QNTIBeZZg3jsGbOI14DiJYHgDleMWgGB2UOKeD4nfJLjG\n",
       "aIZ9W4C0NySyFLCJMzaARLx3y0PTDccFMOaa/20Bg+b/bLDYwqkQyWcn54NKFQaGq2Aul2QUAzZx\n",
       "sI8Z6hug7BtQjAyi595FLsnYoaHHuhOa9dDEweHFD3O/CRTjASwGBMRZDjJw+afCYqUAgvGASpLE\n",
       "QcmLawJeA6eTJl4HxTgBXwFOcQCrZbKP7tBMwQAAAABJRU5ErkJggg==\n",
       "\" style=\"display:inline;vertical-align:middle;\" /></a><br>(see <a class=\"ProveItLink\" href=\"../../../__pv_it/theorems/910bdf03592b01ad40d96060b922ce66397979a30/dependencies.ipynb\">dependencies</a>)<br>"
      ],
      "text/plain": [
       "<IPython.core.display.HTML object>"
      ]
     },
     "metadata": {},
     "output_type": "display_data"
    },
    {
     "name": "stdout",
     "output_type": "stream",
     "text": [
      "in_bool_is_bool may now be readily provable (assuming required theorems are usable).  Simply execute \"%qed\".\n"
     ]
    }
   ],
   "source": [
    "%proving in_bool_is_bool"
   ]
  },
  {
   "cell_type": "code",
   "execution_count": 3,
   "metadata": {},
   "outputs": [
    {
     "data": {
      "text/html": [
       "<span style=\"font-size:20px;\"> <a class=\"ProveItLink\" href=\"../in_bool_def/thm_proof.ipynb\" style=\"text-decoration: none\">&nbsp;&#x22A2;&nbsp;&nbsp;</a><a class=\"ProveItLink\" href=\"../../../__pv_it/theorems/9062d7de9a4e0c6a092bb74536354cfce646b9000/expr.ipynb\"><img src=\"data:image/png;base64,iVBORw0KGgoAAAANSUhEUgAAAVMAAAAVBAMAAAAJExCCAAAAMFBMVEX///8AAAAAAAAAAAAAAAAA\n",
       "AAAAAAAAAAAAAAAAAAAAAAAAAAAAAAAAAAAAAAAAAAAv3aB7AAAAD3RSTlMAq1RmmUTNIjK7EInv\n",
       "3XZ/CtNrAAAACXBIWXMAAA7EAAAOxAGVKw4bAAADq0lEQVRIx41WTWgTQRR+3aRJkzTbXgqihwYE\n",
       "QfxpDlXwIimtIhQxKEihItEiQhS6IhTE/sSjoHYPalXQphehB6X14sGD8SCIWo2iItLAYg9i/Veo\n",
       "ikidnzf7O7PxwTfszu733jdv37wdAJkZCKXJHsYRIRb/jxm5EpUaPcNBbMj3ZP7i0lwbwH4J6y2C\n",
       "xC8oHDdaMlIIgQUSaKUTq73P1yGIDfqoiUZraCoPejbgVJvhIBb76nsWrTFrhQUJSUagtoflJutg\n",
       "G5047HknWeCgrpYDUrMpwwQoBjxfRxDrkETWWEJjZTqupMM5CCfARjYWHZyi+Te9Ochy0Mt2IyA1\n",
       "kiFfojPguRtBrOunSmokR8etdLgE4QSU2umArjOV8bzTjCB2+26JX7yv1Qq2VHLVXPZ7riCIu5O/\n",
       "VFLhIR3SdnmGEFAqDYSIkPTFvO+sQRB/1he+ir2LTlYbjpMCi/mLVStwEBvVvyulDjBpxGk0A+EE\n",
       "lEoDCczVao+87/QiiD/oYJLiRacAFj+totFa/TtnhoNYTvuhlDorNnxakFQElEoDCewAuMIm7U86\n",
       "IFYPu2GcOYsZjtRXT1+QNyMsHzvZxn7mXj3pSJmmP55t75a6mY0rAD4LkkNwu7Ol0kACxyDOvCUf\n",
       "CDnPEWS5MMaexdzbSt9EcqxVfDlIZzjop4h/U2Z1PRvJXn4jSCoCSqWBBBLlVJ5l2q6X+wjQz/e0\n",
       "s+Zwhq7WRKlg9gM0+dtLc56D7MCert9KqeO8AA0tJ0gqAkqlgQQ0i+es70lA6k2Aliq9mHZnFcwE\n",
       "+WgVldQk0fRXKXUfdn5eUmEElEoDCUCBtTmwDgQKgKw8XRHdxSWVrE2r+orLLoAowbyyVjfwu+pp\n",
       "u2ocgrRWaSABuMW2tw7bhZxriMas+OXplkcqcRIx/b8xi4P9DweVWd3C7xbabJKKILaV6QCG2br7\n",
       "4KN4ZxYxTJ3x/8hBR+pM6kPObjOOiYYSp59h0lBJ5U0QbhRskoqAUkUTZAEb2A+p90676FZnOaaX\n",
       "i6BNLjFNUxf4Q/3oZXaygnTe57ipypCcXCrD2uUjwUMV/2e8xC6cESQFgdTCY1YLNJAAnu4Axkqi\n",
       "75Q43NZ/teY5qI0EtLxGhB9Yq0FSuI24YJ+4WsRJgJ4p+LlCbd2BGXGuCLVoNkiqH6jbHTB6D5K7\n",
       "Dom7CURIdszAVMLgCLUTElLdQAIym/a0UplJQiRNjlCbkJDqBgpLQtziUNs7ydwoIsR0Q0aqFwjx\n",
       "D6gjKdUFn6kcAAAAAElFTkSuQmCC\n",
       "\" style=\"display:inline;vertical-align:middle;\" /></a></span>"
      ],
      "text/plain": [
       "|- forall_{A} ((A in BOOLEAN) = ((A = TRUE) or (A = FALSE)))"
      ]
     },
     "metadata": {},
     "output_type": "display_data"
    }
   ],
   "source": [
    "in_bool_def"
   ]
  },
  {
   "cell_type": "code",
   "execution_count": 4,
   "metadata": {},
   "outputs": [
    {
     "data": {
      "text/html": [
       "<strong id=\"in_bool_def_spec\">in_bool_def_spec:</strong> <span style=\"font-size:20px;\"> <a class=\"ProveItLink\" href=\"../../../__pv_it/_proof_in_bool_is_bool/f84649545613bc1b82f95a511b4f832f5c24a5530/proof.ipynb\" style=\"text-decoration: none\">&nbsp;&#x22A2;&nbsp;&nbsp;</a><a class=\"ProveItLink\" href=\"../../../__pv_it/theorems/d3aa96415154644aef94704ebd44d89efc6a69140/expr.ipynb\"><img src=\"data:image/png;base64,iVBORw0KGgoAAAANSUhEUgAAAR0AAAAVBAMAAACJYCeRAAAAMFBMVEX///8AAAAAAAAAAAAAAAAA\n",
       "AAAAAAAAAAAAAAAAAAAAAAAAAAAAAAAAAAAAAAAAAAAv3aB7AAAAD3RSTlMAInZUiRDNmWbv3US7\n",
       "qzJazP2FAAAACXBIWXMAAA7EAAAOxAGVKw4bAAADLElEQVRIx41WTUhUURQ+M8/5ezPZQ0JKgiYr\n",
       "kAgaIoIicNoXDS1ahIFFA7XSRaAEwtAiF7Vw0yJbNCAZ2g9iBbV7tiiISBe1MlJaRqFRSERl59xz\n",
       "vW/m/rzpwHedd9+75/vOueeeKwAEEGO2lwmJGEv8nyfttfgkWRLPnc2vk1Mv18YXAWYtS3dJIG2/\n",
       "w3u+qM/YaSKblYCD/DygvS/ki51nZyBZM1Z6ZQZaelV7l5kWtgA9+ioHDdkzobfGSHGI3rqhp9YW\n",
       "hABVY/lpCbTeVdO7J1KTrtD4noZPNLhoyA6IscrIcAIyS4GhJ1taABg1lg9LoI18c+nJDtJ4lYa3\n",
       "wr+DJtIzysjx3LGTy3KfX09PKj0YVK6iLx+TAGjb8telB27S4Ksa02lMPUSEOMSFWdzP9ZY/X1H5\n",
       "2bQVqyStF5DXz0DrSH536rkoBKPTjHCs0Vj0EBHiMucRepm3s6L2a8/ed+RyQS/ZMgNt0Pvp1HNi\n",
       "4/z54lGjseghIoSIAx7DClOci+pn8s49FJcVqbgijs3Dhjgol6X2H02HqlHPNTF+BOiO0qVoGtwp\n",
       "PUSEmOBIYQe762+o5+R1rHdvTIvGLzEo2sQfZ34Oi/ErwF3xQ6Ox5IeIELdFEb8aWgrpR/s46n4g\n",
       "9UD4BGf0I52bYQDsGxr57dSzwkUReOKgaTQ2PUSEEB+eAthcF20ibMgPhAXclDGXnhQS/3LqeS57\n",
       "ZzqI9Cgamx4iQkxwHsFn3nqTnjR6rGsbrvYrg5hy1s8Rfqp/gWi/FI2tfogI8YKk1VTr727Sg19m\n",
       "9QQXigzR5gec+bnBTz2L/FejseSHiBB0LrcRDbfadEnpKbftHlRHOzJ5LiFBkc4HLj18wOGMPCAa\n",
       "jUWP7COfAfrWq+DNrwni1Ien3KYvvRH3O/gz2ur2ukBqfq0CR9cvmFc7d5j7slvJ+DSayHDrbomt\n",
       "IyKErzXw/HG+LzasyyB8JBH/D5BWt/5yqxVdDL743DZszMiLL94yWh9uRRNd03PxcZr9ohAwYm27\n",
       "PjHXKqGhJOuL/cxCTD0qFbZwb9D3tVigokwU4z7baZnrkIixpBFGPA0TIf4BgDjkFHJUJYwAAAAA\n",
       "SUVORK5CYII=\n",
       "\" style=\"display:inline;vertical-align:middle;\" /></a></span><br>"
      ],
      "text/plain": [
       "<IPython.core.display.HTML object>"
      ]
     },
     "metadata": {},
     "output_type": "display_data"
    }
   ],
   "source": [
    "in_bool_def_spec = in_bool_def.instantiate({A:A})"
   ]
  },
  {
   "cell_type": "code",
   "execution_count": 5,
   "metadata": {},
   "outputs": [
    {
     "data": {
      "text/html": [
       "<strong id=\"in_bool_def_r_h_s_in_bool\">in_bool_def_r_h_s_in_bool:</strong> <span style=\"font-size:20px;\"> <a class=\"ProveItLink\" href=\"../../../__pv_it/_proof_in_bool_is_bool/536edad24f5901277a4864ee44cc298fb187dc090/proof.ipynb\" style=\"text-decoration: none\">&nbsp;&#x22A2;&nbsp;&nbsp;</a><a class=\"ProveItLink\" href=\"../../../__pv_it/_proof_in_bool_is_bool/88119107fa1f0b67b0b933538b8749b685c5678b0/expr.ipynb\"><img src=\"data:image/png;base64,iVBORw0KGgoAAAANSUhEUgAAAOMAAAAVBAMAAABGa0R7AAAAMFBMVEX///8AAAAAAAAAAAAAAAAA\n",
       "AAAAAAAAAAAAAAAAAAAAAAAAAAAAAAAAAAAAAAAAAAAv3aB7AAAAD3RSTlMAInZUiRDNmWbv3US7\n",
       "qzJazP2FAAAACXBIWXMAAA7EAAAOxAGVKw4bAAACuElEQVRIx4WWTWgTQRTH/5ttPpps1lBEUASj\n",
       "ghQRDFIURWiqBy+KSw+eeohiwJ5aqNIiFAKKvSj04qXtISAIjUakfhA9rb0IXhLPCs3ZS1uUIkWt\n",
       "s+9NsrvZnc2D32STmTf/N2/ezAZADkyEBbu1aActckiswAg7oBqzFvjlOM9cUjhk8ozPTq5MTdZf\n",
       "i4cRibCpXs/7NcfqiFV6OvQifSS2QtRo7LDEZ/aaVv4GxEuMM89eSLxnqC07TdYSjUmx3+DO0RBJ\n",
       "nQYkLMYv2cCYASQrjLDkRk4lueA0KWcyo+08znHn/LZKMjXN9Eo+yAKDYISNXW+rJAcp4Gp3vxep\n",
       "Hdj/TyWJpxKnWr7UnnclE8BZMKIW8qcLKskE5eGyYIam5Z0Yiv1USt6RiM29Zbmr/PoQuAtG5BWj\n",
       "FZXkQKtT0VUaytUzrf9WSl6TCC/LLZ/xetEbzRtsFr1l6pVM0bKybcTy7qIzBfMXBUAOtZZP8pEE\n",
       "uOnu5cfJ3XvAMzAiZhxpqVap0+aZLaQp5HSB06L9Va7yvAQoectn+L2FZfG4TJv8eXbDVkmaWzLg\n",
       "c1xNzoHGqdn5P0rJTQnMJZGBlx1JI1N0JceBfVWVZIZLdERmiSTjYu5dpeQHCeK2d5UGbDex4hCl\n",
       "F1V7qXMwaZP9KbFJwapyLy9IZMG5kiWsi8d1eU+F3V+yfFgq9oQyCsOZthF2RXYlH0uAYz5J0d0p\n",
       "5oPOTNsqSXkq4nyk6cxoTkqaOZWke/gS3dNuv8WlK8APEBN7ZejNnWJghgZnklfHF4EoiSrizR0L\n",
       "F/du+0eLHK8uUY5fgBFxfn/HnSdWmvQmSbeZaDvU8/1VPwetylDtXZUXnrTQ+zdgcz3fF/o5eN4W\n",
       "QfskiYy598Aaff5G4LAk1CYkURZQiNt9PCIXouWZKDsa+GUo2iGWY8LsPyFXu0lR9hm5AAAAAElF\n",
       "TkSuQmCC\n",
       "\" style=\"display:inline;vertical-align:middle;\" /></a></span><br>"
      ],
      "text/plain": [
       "<IPython.core.display.HTML object>"
      ]
     },
     "metadata": {},
     "output_type": "display_data"
    }
   ],
   "source": [
    "in_bool_def_r_h_s_in_bool = in_bool_def_spec.rhs.deduce_in_bool()"
   ]
  },
  {
   "cell_type": "code",
   "execution_count": 6,
   "metadata": {},
   "outputs": [
    {
     "data": {
      "text/html": [
       "<span style=\"font-size:20px;\"> <a class=\"ProveItLink\" href=\"../../../__pv_it/_proof_in_bool_is_bool/3dd2aa62ddfa6fb897d1d18203fcb503df3ad0480/proof.ipynb\" style=\"text-decoration: none\">&nbsp;&#x22A2;&nbsp;&nbsp;</a><a class=\"ProveItLink\" href=\"../../../__pv_it/theorems/faaa28e9753e6d750bf17df67919db02d804082c0/expr.ipynb\"><img src=\"data:image/png;base64,iVBORw0KGgoAAAANSUhEUgAAAGsAAAAVBAMAAACzuQ2OAAAAMFBMVEX///8AAAAAAAAAAAAAAAAA\n",
       "AAAAAAAAAAAAAAAAAAAAAAAAAAAAAAAAAAAAAAAAAAAv3aB7AAAAD3RSTlMAInZUiRDNmWbv3US7\n",
       "qzJazP2FAAAACXBIWXMAAA7EAAAOxAGVKw4bAAAB30lEQVQ4y32UP0gbcRTHv5dLLjF3xkxiXbwW\n",
       "LSIFg4hro4uLpcFZ4VQCZjJDi45CCx1cnGNAQbD0qCCainT62cGCLcRCN4VkrYu6OHSx794vzf2J\n",
       "d7/l977v/T7vvd/L7wIgi4gVGozleOsNeD+d3VcugcPA6ZHqSmn/gIxxqVcCcUM3e+cPEFsP+MWh\n",
       "UqR0CYuV+tCBrcezAigGsRNMGkBSpks2sh1YKncBfOjE3nUDXVJNvm5K44VtW22MrK6CvOu5vdfG\n",
       "NGCChWKOyskcD7nVuvvygMbd6IsFt9qv98Ab2SNeclgpuk0OjfymPX7Bcy64I5ndp2zLLI5wk3d2\n",
       "Letie9sf6XCKW15w7/a19PctsMuijAHOqnlHEtug2uqmoyzvSIaPC9jiC39fbQjH+GPTEi0MogZk\n",
       "bklkKuT+/B8z9LzEZoGeHceY81aDoB9Id6olhLeaASGbLANpbibtx6hnldPt+DEL35zx0hS1W+7W\n",
       "9GFjNBIu9MyHqSZekfnEOXbH3iUXy8cHqYuknHCujdUwNQ1c04UeilDr9xyf/9F6FaWf/AUg7Tx3\n",
       "JK6+SOp5tc5fQLrpf3O1c9vy6n656TOtx9VaqTIi11qI/zSSUkRIYC4SM8L+FRQzCnv6uPsfd+N+\n",
       "0pDF8+8AAAAASUVORK5CYII=\n",
       "\" style=\"display:inline;vertical-align:middle;\" /></a></span>"
      ],
      "text/plain": [
       "|- (A in BOOLEAN) in BOOLEAN"
      ]
     },
     "metadata": {},
     "output_type": "display_data"
    }
   ],
   "source": [
    "in_bool_def_spec.sub_left_side_into(in_bool_def_r_h_s_in_bool)"
   ]
  },
  {
   "cell_type": "code",
   "execution_count": 7,
   "metadata": {},
   "outputs": [
    {
     "name": "stdout",
     "output_type": "stream",
     "text": [
      "proveit.logic.booleans.in_bool_is_bool has been proven.\n"
     ]
    },
    {
     "data": {
      "text/html": [
       "<table><tr><th>&nbsp;</th><th>step type</th><th>requirements</th><th>statement</th></tr>\n",
       "<tr><td><a name=\"0xff2e5ca74662e17_step0\">0</a></td><td>generalization</td><td><a href=\"#0xff2e5ca74662e17_step1\">1</a></td><td><span style=\"font-size:20px;\"> <a class=\"ProveItLink\" href=\"../../../__pv_it/_proof_in_bool_is_bool/449648157590ad5ffcd46c2d0013852cc4b812020/proof.ipynb\" style=\"text-decoration: none\">&nbsp;&#x22A2;&nbsp;&nbsp;</a><a class=\"ProveItLink\" href=\"../../../__pv_it/theorems/6c3106b5475fdac800784959cc56ad8361fa8c2e0/expr.ipynb\"><img src=\"data:image/png;base64,iVBORw0KGgoAAAANSUhEUgAAAKAAAAAVBAMAAAAz5vjYAAAAMFBMVEX///8AAAAAAAAAAAAAAAAA\n",
       "AAAAAAAAAAAAAAAAAAAAAAAAAAAAAAAAAAAAAAAAAAAv3aB7AAAAD3RSTlMAq1RmmUTNIjK7EInv\n",
       "3XZ/CtNrAAAACXBIWXMAAA7EAAAOxAGVKw4bAAACL0lEQVQ4y2NgwALYoRgnYCdR/BEUA1UkoMq8\n",
       "PZmfczGAgfUBA05xARBfGUWWaQMEAwHbBzSdE+LYs0QZGB4z4BR3BXHTUSSXQTEQ6GMYGMywnRNo\n",
       "0QKc4o0gj01AkXSGYiBw/I6p0YiRgYHZAac4yC5uBRTJA1AMlKj+ARV7efduAkwjG5A+BRHmm3v3\n",
       "GgOqOLMB0KGoQZgAwUBQx/cJIhb2CuEScWsgnQzmseYtwBQ/e/fuaRQDWTZAMBA4MH2GRHYWIvDX\n",
       "XQTJbQTzyhZgEfdgYJgFFoNJshlAMNABChy/IUIFcI2xOX+9gLQZA2pkIokXMrCDkw7XCagcrwIE\n",
       "A93JwP4RYiBy4D8OA1qtA+YlYBPnXMAdAI4AaHAx8ARAMDAmXBx/goV67gLBBKhGTlag3/pBHA5g\n",
       "cN29yYAmzvQAYn/EOXQDuYDp/i9YaCWySzgZgEbHgD01Aat4gh1Y6EEiupdZgPgORAhVI9CnumDe\n",
       "Bazim8BRyMfgBpXjfADBDMFAnA9Jbg+QNTIBeZZg3jsGbOI14DiJYHgDleMWgGB2UOKeD4nfJLjG\n",
       "aIZ9W4C0NySyFLCJMzaARLx3y0PTDccFMOaa/20Bg+b/bLDYwqkQyWcn54NKFQaGq2Aul2QUAzZx\n",
       "sI8Z6hug7BtQjAyi595FLsnYoaHHuhOa9dDEweHFD3O/CRTjASwGBMRZDjJw+afCYqUAgvGASpLE\n",
       "QcmLawJeA6eTJl4HxTgBXwFOcQCrZbKP7tBMwQAAAABJRU5ErkJggg==\n",
       "\" style=\"display:inline;vertical-align:middle;\" /></a></span></td></tr>\n",
       "<tr><td><a name=\"0xff2e5ca74662e17_step1\">1</a></td><td>instantiation</td><td><a href=\"#0xff2e5ca74662e17_step2\">2</a>, <a href=\"#0xff2e5ca74662e17_step3\">3</a>, <a href=\"#0xff2e5ca74662e17_step4\">4</a></td><td><span style=\"font-size:20px;\"> <a class=\"ProveItLink\" href=\"../../../__pv_it/_proof_in_bool_is_bool/3dd2aa62ddfa6fb897d1d18203fcb503df3ad0480/proof.ipynb\" style=\"text-decoration: none\">&nbsp;&#x22A2;&nbsp;&nbsp;</a><a class=\"ProveItLink\" href=\"../../../__pv_it/theorems/faaa28e9753e6d750bf17df67919db02d804082c0/expr.ipynb\"><img src=\"data:image/png;base64,iVBORw0KGgoAAAANSUhEUgAAAGsAAAAVBAMAAACzuQ2OAAAAMFBMVEX///8AAAAAAAAAAAAAAAAA\n",
       "AAAAAAAAAAAAAAAAAAAAAAAAAAAAAAAAAAAAAAAAAAAv3aB7AAAAD3RSTlMAInZUiRDNmWbv3US7\n",
       "qzJazP2FAAAACXBIWXMAAA7EAAAOxAGVKw4bAAAB30lEQVQ4y32UP0gbcRTHv5dLLjF3xkxiXbwW\n",
       "LSIFg4hro4uLpcFZ4VQCZjJDi45CCx1cnGNAQbD0qCCainT62cGCLcRCN4VkrYu6OHSx794vzf2J\n",
       "d7/l977v/T7vvd/L7wIgi4gVGozleOsNeD+d3VcugcPA6ZHqSmn/gIxxqVcCcUM3e+cPEFsP+MWh\n",
       "UqR0CYuV+tCBrcezAigGsRNMGkBSpks2sh1YKncBfOjE3nUDXVJNvm5K44VtW22MrK6CvOu5vdfG\n",
       "NGCChWKOyskcD7nVuvvygMbd6IsFt9qv98Ab2SNeclgpuk0OjfymPX7Bcy64I5ndp2zLLI5wk3d2\n",
       "Letie9sf6XCKW15w7/a19PctsMuijAHOqnlHEtug2uqmoyzvSIaPC9jiC39fbQjH+GPTEi0MogZk\n",
       "bklkKuT+/B8z9LzEZoGeHceY81aDoB9Id6olhLeaASGbLANpbibtx6hnldPt+DEL35zx0hS1W+7W\n",
       "9GFjNBIu9MyHqSZekfnEOXbH3iUXy8cHqYuknHCujdUwNQ1c04UeilDr9xyf/9F6FaWf/AUg7Tx3\n",
       "JK6+SOp5tc5fQLrpf3O1c9vy6n656TOtx9VaqTIi11qI/zSSUkRIYC4SM8L+FRQzCnv6uPsfd+N+\n",
       "0pDF8+8AAAAASUVORK5CYII=\n",
       "\" style=\"display:inline;vertical-align:middle;\" /></a></span></td></tr>\n",
       "<tr><td>&nbsp;</td><td colspan=4 style=\"text-align:left\"><span style=\"font-size:20px;\"><a class=\"ProveItLink\" href=\"../../../disjunction/__pv_it/theorems/f307345efa93fdd6c2df141d735449c4534792f70/expr.ipynb\"><img src=\"data:image/png;base64,iVBORw0KGgoAAAANSUhEUgAAADsAAAAVBAMAAAAKrYvGAAAAMFBMVEX///8AAAAAAAAAAAAAAAAA\n",
       "AAAAAAAAAAAAAAAAAAAAAAAAAAAAAAAAAAAAAAAAAAAv3aB7AAAAD3RSTlMAdrurzZkQ7zJUiSLd\n",
       "ZkQEbk8lAAAACXBIWXMAAA7EAAAOxAGVKw4bAAABHElEQVQoz2NgQAYb8PAYGBgnoHAfgkmh/8pG\n",
       "rgkg1iw01RfA1BcGBqYyIM3mgGaaG4jg+MjAwAnEDKwX0KSvgs34AcS/gAx2NFkGdpCVTB+AGKiE\n",
       "YQq6NAvIOH4FBoZ+ASAjCiHBbSUNFOEyYABL7ToJEvNFSD/fwPSNgYEX5FZ5q1X3wGIn4bJstQys\n",
       "B4AOLgCy9WGCdXBp1g8MPAuAfvoA8Ta6NLsCQ/4DBgY+oG6OXzBBhOH5Agz3gRQn0ALGfzBBRYT0\n",
       "BAYTzg0MvEA/sXyACS6GSzMJcB5lBTphAQOr/icBqGAP0CYlINBmYDNcsVmCgYHnAXIg8TSghdoe\n",
       "FB5vAJp0LCpXG5XLrYDKT0LlMqGlJm4BFK40AwMAeV42yYcqVGcAAAAASUVORK5CYII=\n",
       "\" style=\"display:inline;vertical-align:middle;\" /></a> : <a class=\"ProveItLink\" href=\"../../../__pv_it/_proof_in_bool_is_bool/73a1d13a3e88034c3f3ab7ac144316fa60b100b80/expr.ipynb\"><img src=\"data:image/png;base64,iVBORw0KGgoAAAANSUhEUgAAAD4AAAAQBAMAAAC8SdExAAAAMFBMVEX///8AAAAAAAAAAAAAAAAA\n",
       "AAAAAAAAAAAAAAAAAAAAAAAAAAAAAAAAAAAAAAAAAAAv3aB7AAAAD3RSTlMAMrsiq4l2RO8QZpnd\n",
       "VM2humBGAAAACXBIWXMAAA7EAAAOxAGVKw4bAAAAzElEQVQY02NgwAHYTuj963FnwA2Y2BPsphTg\n",
       "k1/AaqCAV57rggOmeNKZMw/g8g8wpOsyEfpZrALg4iZhZiCK+SXC/MwcV7g0ezOD/gQgzWeAkD/X\n",
       "f3oCjDdjAcMeEM2H7D625XDT9jMwHAXREmeAQAEqz6BQCpNvYuD8DqInIetnUGCCcji/MXB9ADF4\n",
       "UOVh1nH+ZWB5cBkU7Ako8tdgPDWGOxs2gBhvEfIBrKkbGISUgMCAYUqqsJsASHiKOsRPbC+UsMdf\n",
       "qc4ZpFAFAIbwN/uxrLzpAAAAAElFTkSuQmCC\n",
       "\" style=\"display:inline;vertical-align:middle;\" /></a>, <a class=\"ProveItLink\" href=\"../../../../../__pv_it/common/a0d9d672aa5e272d907247690c152cc2c6daafb70/expr.ipynb\"><img src=\"data:image/png;base64,iVBORw0KGgoAAAANSUhEUgAAAAsAAAAJBAMAAAAWSsseAAAAMFBMVEX///8AAAAAAAAAAAAAAAAA\n",
       "AAAAAAAAAAAAAAAAAAAAAAAAAAAAAAAAAAAAAAAAAAAv3aB7AAAAD3RSTlMAEHarMolUmd1mIs3v\n",
       "RLtmgJDEAAAACXBIWXMAAA7EAAAOxAGVKw4bAAAAQklEQVQI12NgEFIWCU1gYChgMmJvYOBcwPmR\n",
       "eQIDCwP7BgYQ4FEAU/cXMAowyF2wYWBlYMh3rGG4xsAgrsRWmcAAAFEjCyBvD0T9AAAAAElFTkSu\n",
       "QmCC\n",
       "\" style=\"display:inline;vertical-align:middle;\" /></a> : <a class=\"ProveItLink\" href=\"../../../__pv_it/theorems/a10dbfd9a4efbb6f30af430036ab01697a9460f80/expr.ipynb\"><img src=\"data:image/png;base64,iVBORw0KGgoAAAANSUhEUgAAADYAAAAQBAMAAACvnpHFAAAAMFBMVEX///8AAAAAAAAAAAAAAAAA\n",
       "AAAAAAAAAAAAAAAAAAAAAAAAAAAAAAAAAAAAAAAAAAAv3aB7AAAAD3RSTlMAIs1UmauJMnZmRLsQ\n",
       "3e++988cAAAACXBIWXMAAA7EAAAOxAGVKw4bAAAA40lEQVQY02NgAAEhBhTAcW/Tp7dRUI4+qhwD\n",
       "N1eD0NEFYCbzfwy5CWwCG8BMlngBDDlOgwAwMzG/AGrR3ruX4HIKIBZjQ78BWIpL4wBcH6tkAthI\n",
       "BvsJEOcegJvZ0xsGZi1mqAerYVBE2Hfp/RWwQgcGeYi9Ckhu4ZilA3LAFpd4sHvZ3969e/c2VI5h\n",
       "wzIg4wQDA/8FkAjPBiR9DBu4wUYy8D4AC11AkWMCOhzoRqYPYKEOFDkLBgY5EPsjWIjJAC6XwNbm\n",
       "wHD6vw4D8/5PYE/wRK+BBI/ebkQ8wABXNiTMIAAAYXA8zHUEOxUAAAAASUVORK5CYII=\n",
       "\" style=\"display:inline;vertical-align:middle;\" /></a>, <a class=\"ProveItLink\" href=\"../../../../../__pv_it/common/ff7dba4ef0bbe791ab573bf2d9c220a304399ac80/expr.ipynb\"><img src=\"data:image/png;base64,iVBORw0KGgoAAAANSUhEUgAAAAsAAAANBAMAAACN24kIAAAAMFBMVEX///8AAAAAAAAAAAAAAAAA\n",
       "AAAAAAAAAAAAAAAAAAAAAAAAAAAAAAAAAAAAAAAAAAAv3aB7AAAAD3RSTlMAEHaZZquJVO8y3btE\n",
       "zSKD2s2pAAAACXBIWXMAAA7EAAAOxAGVKw4bAAAAVklEQVQI12NgVHZgEGVgYGNvYPBnYJjOvIAh\n",
       "moFBgEOBoYmBgeG8AOdPIGXLwNQApLYycAcAKVOG8w5ASjTJ/gEDCOQCMdsFxnYgxaXAmgCk2J1s\n",
       "gCQAaFoNDtFIIdEAAAAASUVORK5CYII=\n",
       "\" style=\"display:inline;vertical-align:middle;\" /></a> : <a class=\"ProveItLink\" href=\"../../../__pv_it/theorems/a80dd87b84d6ebecfbeb8f329cbbb1f9711c031a0/expr.ipynb\"><img src=\"data:image/png;base64,iVBORw0KGgoAAAANSUhEUgAAAKoAAAAVBAMAAAAkxGgRAAAAMFBMVEX///8AAAAAAAAAAAAAAAAA\n",
       "AAAAAAAAAAAAAAAAAAAAAAAAAAAAAAAAAAAAAAAAAAAv3aB7AAAAD3RSTlMAInZUiRDNmWbv3US7\n",
       "qzJazP2FAAAACXBIWXMAAA7EAAAOxAGVKw4bAAABwUlEQVQ4y42Uv0vDQBTHv01sk6Y/zCQognFz\n",
       "s4goulhxFotzBzsU3CxYUJw66aLQxUWXgiBYEUQX3dTF0fwHzezSurjWvLsrNql354O8u0ve95N3\n",
       "734AcKE09x9vIpYgZxRYf0IW9BB/oRNkvNAt8v5e/ONRm+wORiP2QSYgIIudA5I7bGz2/whaYL5K\n",
       "LlcKXZ6yUAlMCkCqBIunYnVcGfWEnE3x2YAiFQJOtWtI8/H6ViCjpilNtAalVAk4FedY4uvmzRdk\n",
       "1BRLbiN89qmjEgjqLup8PlhryKhj/mDJKV+lQFA3Qy7ZI7rF4YUfptpseXIBDI8nMiywmKDtR6jH\n",
       "uGJtDTO+LFezST7vw2EFVgkEdQWXbGO/H3ReZNR8jzUVLLNWJRDULg/aBsZbMmqmKTZ/5ZcqEQjq\n",
       "M59QDXCasrqaXO7keXJRwZ91XcWbOGipnixXm9OMs3vWqgSCehruAmCSzs2XjGqxxUbyGmLbyAWC\n",
       "WscnUO5XYX58F0eCnvjUeY78DEAuCItxc8GKcQsngMamokO9INGiq0Bjh9GhXkD3z6vuz/F9qRNg\n",
       "OnzKmphs/MbTCdhvE546ZnYkeY3AcPED34Z5XWvCTmMAAAAASUVORK5CYII=\n",
       "\" style=\"display:inline;vertical-align:middle;\" /></a></span></td></tr><tr><td><a name=\"0xff2e5ca74662e17_step2\">2</a></td><td>theorem</td><td></td><td><span style=\"font-size:20px;\"> <a class=\"ProveItLink\" href=\"../../../../equality/_theory_nbs_/proofs/sub_left_side_into/thm_proof.ipynb\" style=\"text-decoration: none\">&nbsp;&#x22A2;&nbsp;&nbsp;</a><a class=\"ProveItLink\" href=\"../../../../equality/__pv_it/theorems/fa7b338ac0e02abe373a31648947826ee50d3a400/expr.ipynb\"><img src=\"data:image/png;base64,iVBORw0KGgoAAAANSUhEUgAAAMIAAAAXBAMAAACrPI2eAAAAMFBMVEX///8AAAAAAAAAAAAAAAAA\n",
       "AAAAAAAAAAAAAAAAAAAAAAAAAAAAAAAAAAAAAAAAAAAv3aB7AAAAD3RSTlMAq1RmmUTNIjK7EInv\n",
       "3XZ/CtNrAAAACXBIWXMAAA7EAAAOxAGVKw4bAAACs0lEQVRIx7VWS2gTURQ9k5l08uuYQkFEKQVB\n",
       "wQ9moyCoRIpUqEjQlVZsUEFwNV2KYutWlI4ULLowUQTNRqKIixahVNxUlFFwWRg/IEWIWfhNQL3v\n",
       "N3kxDIikF97c+w7nvfNy372PACtjrnA2VsqcQeHjAZBlwfru7Lv8++qaU2UWbVbQe2Af86e7dPRv\n",
       "QHKRfKqokJ4yLrJsed0RSPwCYjRg5RRk5pkI0oNdyv4PGk0KMi1sESbJ9XQpSck6DVLBhhZ2Enix\n",
       "tPS8SwqrKNtTVD0YoXH/7b05ys0DYD9wI2qJ1TbbKFIRrUC7n3stD468M2D5wA5gHDZVbLw0snd1\n",
       "588W7siXR30uzIKY5SMVPq+d284DkjFds2HQDWyhXcpptnQ38CRKwfSR9nFLgqORCiUVPKO6gsVL\n",
       "dorKK+AX3U9HiFIw8nDqonNEiUe3Q6hABcVuBMdoFPewaAF4RUn+cGGYJsezotelQmYQvVn4Eue1\n",
       "LYnQyEg0lQK/jDE3RWfZStHDM6zpGhinBH80vBPUkkEjMa8pTJTtfthFicfYRTCidZ1sOiTD+aoU\n",
       "bgKVwjqkKdxJ4zw7gfmytolcLhlMktxt3/E0hV21d2XEPYnHvZDIn09FRk9dKVCJbrt0AIdk4RqM\n",
       "amRlSfNn16gagabQxz6xrMQTXouok63Sz0BCV4A7tdgQS+cbRcvIl+Qyf9l7C5lJTeEpz7IncZ4l\n",
       "RhRZCsma9YaA7atogjZOVe35x8inqsQY02rJ/s6dD4E7gSSG2439XVRm2DPhG+iUZumUCzg4WiuT\n",
       "iw1d0xSWm7w+ZyDwpCuJcq0i6zajgrPteEy5u5jW+yHsNI5XQqIwRdat0iEl7KhyA/Fip4LlCnw4\n",
       "JApTZN1seeeO247nlDv8CZ0KmOU4e55yOqzI/2XtfxVS2vff7Q+ss7Q23lQ/yQAAAABJRU5ErkJg\n",
       "gg==\n",
       "\" style=\"display:inline;vertical-align:middle;\" /></a></span></td></tr>\n",
       "<tr><td>&nbsp;</td><td colspan=4 style-\"text-align:left\"><a class=\"ProveItLink\" href=\"../../../../equality/_theory_nbs_/proofs/sub_left_side_into/thm_proof.ipynb\">proveit.logic.equality.sub_left_side_into</a></td></tr><tr><td><a name=\"0xff2e5ca74662e17_step3\">3</a></td><td>instantiation</td><td><a href=\"#0xff2e5ca74662e17_step5\">5</a>, <a href=\"#0xff2e5ca74662e17_step6\">6</a>, <a href=\"#0xff2e5ca74662e17_step7\">7</a></td><td><span style=\"font-size:20px;\"> <a class=\"ProveItLink\" href=\"../../../__pv_it/_proof_in_bool_is_bool/536edad24f5901277a4864ee44cc298fb187dc090/proof.ipynb\" style=\"text-decoration: none\">&nbsp;&#x22A2;&nbsp;&nbsp;</a><a class=\"ProveItLink\" href=\"../../../__pv_it/_proof_in_bool_is_bool/88119107fa1f0b67b0b933538b8749b685c5678b0/expr.ipynb\"><img src=\"data:image/png;base64,iVBORw0KGgoAAAANSUhEUgAAAOMAAAAVBAMAAABGa0R7AAAAMFBMVEX///8AAAAAAAAAAAAAAAAA\n",
       "AAAAAAAAAAAAAAAAAAAAAAAAAAAAAAAAAAAAAAAAAAAv3aB7AAAAD3RSTlMAInZUiRDNmWbv3US7\n",
       "qzJazP2FAAAACXBIWXMAAA7EAAAOxAGVKw4bAAACuElEQVRIx4WWTWgTQRTH/5ttPpps1lBEUASj\n",
       "ghQRDFIURWiqBy+KSw+eeohiwJ5aqNIiFAKKvSj04qXtISAIjUakfhA9rb0IXhLPCs3ZS1uUIkWt\n",
       "s+9NsrvZnc2D32STmTf/N2/ezAZADkyEBbu1aActckiswAg7oBqzFvjlOM9cUjhk8ozPTq5MTdZf\n",
       "i4cRibCpXs/7NcfqiFV6OvQifSS2QtRo7LDEZ/aaVv4GxEuMM89eSLxnqC07TdYSjUmx3+DO0RBJ\n",
       "nQYkLMYv2cCYASQrjLDkRk4lueA0KWcyo+08znHn/LZKMjXN9Eo+yAKDYISNXW+rJAcp4Gp3vxep\n",
       "Hdj/TyWJpxKnWr7UnnclE8BZMKIW8qcLKskE5eGyYIam5Z0Yiv1USt6RiM29Zbmr/PoQuAtG5BWj\n",
       "FZXkQKtT0VUaytUzrf9WSl6TCC/LLZ/xetEbzRtsFr1l6pVM0bKybcTy7qIzBfMXBUAOtZZP8pEE\n",
       "uOnu5cfJ3XvAMzAiZhxpqVap0+aZLaQp5HSB06L9Va7yvAQoectn+L2FZfG4TJv8eXbDVkmaWzLg\n",
       "c1xNzoHGqdn5P0rJTQnMJZGBlx1JI1N0JceBfVWVZIZLdERmiSTjYu5dpeQHCeK2d5UGbDex4hCl\n",
       "F1V7qXMwaZP9KbFJwapyLy9IZMG5kiWsi8d1eU+F3V+yfFgq9oQyCsOZthF2RXYlH0uAYz5J0d0p\n",
       "5oPOTNsqSXkq4nyk6cxoTkqaOZWke/gS3dNuv8WlK8APEBN7ZejNnWJghgZnklfHF4EoiSrizR0L\n",
       "F/du+0eLHK8uUY5fgBFxfn/HnSdWmvQmSbeZaDvU8/1VPwetylDtXZUXnrTQ+zdgcz3fF/o5eN4W\n",
       "QfskiYy598Aaff5G4LAk1CYkURZQiNt9PCIXouWZKDsa+GUo2iGWY8LsPyFXu0lR9hm5AAAAAElF\n",
       "TkSuQmCC\n",
       "\" style=\"display:inline;vertical-align:middle;\" /></a></span></td></tr>\n",
       "<tr><td>&nbsp;</td><td colspan=4 style=\"text-align:left\"><span style=\"font-size:20px;\"><a class=\"ProveItLink\" href=\"../../../../../__pv_it/common/09585084922504426caf1db2ff588a23a0932a960/expr.ipynb\"><img src=\"data:image/png;base64,iVBORw0KGgoAAAANSUhEUgAAAA8AAAAPBAMAAADJ+Ih5AAAAMFBMVEX///8AAAAAAAAAAAAAAAAA\n",
       "AAAAAAAAAAAAAAAAAAAAAAAAAAAAAAAAAAAAAAAAAAAv3aB7AAAAD3RSTlMAIs1UmauJMnZmRLsQ\n",
       "3e++988cAAAACXBIWXMAAA7EAAAOxAGVKw4bAAAAXklEQVQI12NgAAEhBijQh9LM/6EMlngBCCMx\n",
       "vwBMMzb0G0BkGOwngBmLGeoTwAwHBvkAEM2xxSV+A4hxgoGB/wJEhoH3AZDmAupg+gBkyAEx90cG\n",
       "htP/dRiY939KAABt3hLO6mcEjQAAAABJRU5ErkJggg==\n",
       "\" style=\"display:inline;vertical-align:middle;\" /></a> : <a class=\"ProveItLink\" href=\"../../../__pv_it/axioms/bd0a6a631c1aea42bd4e95c9e4e7fa7c531d32e40/expr.ipynb\"><img src=\"data:image/png;base64,iVBORw0KGgoAAAANSUhEUgAAADoAAAAPBAMAAABHIsEFAAAAMFBMVEX///8AAAAAAAAAAAAAAAAA\n",
       "AAAAAAAAAAAAAAAAAAAAAAAAAAAAAAAAAAAAAAAAAAAv3aB7AAAAD3RSTlMAIs1UmauJMnZmRLsQ\n",
       "3e++988cAAAACXBIWXMAAA7EAAAOxAGVKw4bAAAAd0lEQVQY02NgAAEhBnxAH13A9y4IXAWzmf9j\n",
       "0WEBY7DEC+CRTcwvwC3L2NBvgFuWhcF+Am7ZxQz1CegORcg6MMgH4NTLscUlfgNO2RMMDPwXcMo6\n",
       "MDDwPsBlLxfQvUwfcOmVA2LujzhkT//XYWDe/ykBQ3YlEAMAz5AmcOp715kAAAAASUVORK5CYII=\n",
       "\" style=\"display:inline;vertical-align:middle;\" /></a>, <a class=\"ProveItLink\" href=\"../../../../../__pv_it/common/a9162d1c3cc0470c02e5daf414500903a7a419230/expr.ipynb\"><img src=\"data:image/png;base64,iVBORw0KGgoAAAANSUhEUgAAABAAAAAOBAMAAADUAYG5AAAAMFBMVEX///8AAAAAAAAAAAAAAAAA\n",
       "AAAAAAAAAAAAAAAAAAAAAAAAAAAAAAAAAAAAAAAAAAAv3aB7AAAAD3RSTlMAZrurzTLvInZEmRDd\n",
       "VIkafcLnAAAACXBIWXMAAA7EAAAOxAGVKw4bAAAAb0lEQVQI12NgYBD6b2zsFMAABEkMDMxfgTT7\n",
       "DwYGzl9ABiOQxwjkMDB/YGBgSQcy2BQYuG1AiuM1OkwEQJr6Cxh4E0EMNSB+D5L6DMTyDQwMrB+B\n",
       "DPsJDAwc34GcL0AOSwIDwzRvoHH6n41NdBkYAF/iFeJ4bEa2AAAAAElFTkSuQmCC\n",
       "\" style=\"display:inline;vertical-align:middle;\" /></a> : <a class=\"ProveItLink\" href=\"../../../__pv_it/theorems/df6506bd32d9f7c53b00f834a4c61833f27224860/expr.ipynb\"><img src=\"data:image/png;base64,iVBORw0KGgoAAAANSUhEUgAAADoAAAAPBAMAAABHIsEFAAAAMFBMVEX///8AAAAAAAAAAAAAAAAA\n",
       "AAAAAAAAAAAAAAAAAAAAAAAAAAAAAAAAAAAAAAAAAAAv3aB7AAAAD3RSTlMAIs1UmauJMnZmRLsQ\n",
       "3e++988cAAAACXBIWXMAAA7EAAAOxAGVKw4bAAAAeklEQVQY02NgAAEhBnxAH4vYShiD+T8WWQsY\n",
       "gyVeAI9sYn4BblnGhn4D3LIsDPYTcMsuZqhPANG+d0HgKpqsA4N8AE69HFtc4jfglD3BwMB/Aaes\n",
       "AwMD7wNc9nIB3cv0AZdeOSDm/ohD9vR/HQbm/Z8SUKWAlrwDWgIAg68mgSudtswAAAAASUVORK5C\n",
       "YII=\n",
       "\" style=\"display:inline;vertical-align:middle;\" /></a></span></td></tr><tr><td><a name=\"0xff2e5ca74662e17_step4\">4</a></td><td>instantiation</td><td><a href=\"#0xff2e5ca74662e17_step8\">8</a></td><td><span style=\"font-size:20px;\"> <a class=\"ProveItLink\" href=\"../../../__pv_it/_proof_in_bool_is_bool/f84649545613bc1b82f95a511b4f832f5c24a5530/proof.ipynb\" style=\"text-decoration: none\">&nbsp;&#x22A2;&nbsp;&nbsp;</a><a class=\"ProveItLink\" href=\"../../../__pv_it/theorems/d3aa96415154644aef94704ebd44d89efc6a69140/expr.ipynb\"><img src=\"data:image/png;base64,iVBORw0KGgoAAAANSUhEUgAAAR0AAAAVBAMAAACJYCeRAAAAMFBMVEX///8AAAAAAAAAAAAAAAAA\n",
       "AAAAAAAAAAAAAAAAAAAAAAAAAAAAAAAAAAAAAAAAAAAv3aB7AAAAD3RSTlMAInZUiRDNmWbv3US7\n",
       "qzJazP2FAAAACXBIWXMAAA7EAAAOxAGVKw4bAAADLElEQVRIx41WTUhUURQ+M8/5ezPZQ0JKgiYr\n",
       "kAgaIoIicNoXDS1ahIFFA7XSRaAEwtAiF7Vw0yJbNCAZ2g9iBbV7tiiISBe1MlJaRqFRSERl59xz\n",
       "vW/m/rzpwHedd9+75/vOueeeKwAEEGO2lwmJGEv8nyfttfgkWRLPnc2vk1Mv18YXAWYtS3dJIG2/\n",
       "w3u+qM/YaSKblYCD/DygvS/ki51nZyBZM1Z6ZQZaelV7l5kWtgA9+ioHDdkzobfGSHGI3rqhp9YW\n",
       "hABVY/lpCbTeVdO7J1KTrtD4noZPNLhoyA6IscrIcAIyS4GhJ1taABg1lg9LoI18c+nJDtJ4lYa3\n",
       "wr+DJtIzysjx3LGTy3KfX09PKj0YVK6iLx+TAGjb8telB27S4Ksa02lMPUSEOMSFWdzP9ZY/X1H5\n",
       "2bQVqyStF5DXz0DrSH536rkoBKPTjHCs0Vj0EBHiMucRepm3s6L2a8/ed+RyQS/ZMgNt0Pvp1HNi\n",
       "4/z54lGjseghIoSIAx7DClOci+pn8s49FJcVqbgijs3Dhjgol6X2H02HqlHPNTF+BOiO0qVoGtwp\n",
       "PUSEmOBIYQe762+o5+R1rHdvTIvGLzEo2sQfZ34Oi/ErwF3xQ6Ox5IeIELdFEb8aWgrpR/s46n4g\n",
       "9UD4BGf0I52bYQDsGxr57dSzwkUReOKgaTQ2PUSEEB+eAthcF20ibMgPhAXclDGXnhQS/3LqeS57\n",
       "ZzqI9Cgamx4iQkxwHsFn3nqTnjR6rGsbrvYrg5hy1s8Rfqp/gWi/FI2tfogI8YKk1VTr727Sg19m\n",
       "9QQXigzR5gec+bnBTz2L/FejseSHiBB0LrcRDbfadEnpKbftHlRHOzJ5LiFBkc4HLj18wOGMPCAa\n",
       "jUWP7COfAfrWq+DNrwni1Ien3KYvvRH3O/gz2ur2ukBqfq0CR9cvmFc7d5j7slvJ+DSayHDrbomt\n",
       "IyKErzXw/HG+LzasyyB8JBH/D5BWt/5yqxVdDL743DZszMiLL94yWh9uRRNd03PxcZr9ohAwYm27\n",
       "PjHXKqGhJOuL/cxCTD0qFbZwb9D3tVigokwU4z7baZnrkIixpBFGPA0TIf4BgDjkFHJUJYwAAAAA\n",
       "SUVORK5CYII=\n",
       "\" style=\"display:inline;vertical-align:middle;\" /></a></span></td></tr>\n",
       "<tr><td>&nbsp;</td><td colspan=4 style=\"text-align:left\"><span style=\"font-size:20px;\"><a class=\"ProveItLink\" href=\"../../../../../__pv_it/common/09585084922504426caf1db2ff588a23a0932a960/expr.ipynb\"><img src=\"data:image/png;base64,iVBORw0KGgoAAAANSUhEUgAAAA8AAAAPBAMAAADJ+Ih5AAAAMFBMVEX///8AAAAAAAAAAAAAAAAA\n",
       "AAAAAAAAAAAAAAAAAAAAAAAAAAAAAAAAAAAAAAAAAAAv3aB7AAAAD3RSTlMAIs1UmauJMnZmRLsQ\n",
       "3e++988cAAAACXBIWXMAAA7EAAAOxAGVKw4bAAAAXklEQVQI12NgAAEhBijQh9LM/6EMlngBCCMx\n",
       "vwBMMzb0G0BkGOwngBmLGeoTwAwHBvkAEM2xxSV+A4hxgoGB/wJEhoH3AZDmAupg+gBkyAEx90cG\n",
       "htP/dRiY939KAABt3hLO6mcEjQAAAABJRU5ErkJggg==\n",
       "\" style=\"display:inline;vertical-align:middle;\" /></a> : <a class=\"ProveItLink\" href=\"../../../../../__pv_it/common/09585084922504426caf1db2ff588a23a0932a960/expr.ipynb\"><img src=\"data:image/png;base64,iVBORw0KGgoAAAANSUhEUgAAAA8AAAAPBAMAAADJ+Ih5AAAAMFBMVEX///8AAAAAAAAAAAAAAAAA\n",
       "AAAAAAAAAAAAAAAAAAAAAAAAAAAAAAAAAAAAAAAAAAAv3aB7AAAAD3RSTlMAIs1UmauJMnZmRLsQ\n",
       "3e++988cAAAACXBIWXMAAA7EAAAOxAGVKw4bAAAAXklEQVQI12NgAAEhBijQh9LM/6EMlngBCCMx\n",
       "vwBMMzb0G0BkGOwngBmLGeoTwAwHBvkAEM2xxSV+A4hxgoGB/wJEhoH3AZDmAupg+gBkyAEx90cG\n",
       "htP/dRiY939KAABt3hLO6mcEjQAAAABJRU5ErkJggg==\n",
       "\" style=\"display:inline;vertical-align:middle;\" /></a></span></td></tr><tr><td><a name=\"0xff2e5ca74662e17_step5\">5</a></td><td>conjecture</td><td></td><td><span style=\"font-size:20px;\"> <a class=\"ProveItLink\" href=\"../../../disjunction/_theory_nbs_/proofs/binary_closure/thm_proof.ipynb\" style=\"text-decoration: none\">&nbsp;&#x22A2;&nbsp;&nbsp;</a><a class=\"ProveItLink\" href=\"../../../disjunction/__pv_it/theorems/1cbf1dd6702357f58be729613e6504284ff9936a0/expr.ipynb\"><img src=\"data:image/png;base64,iVBORw0KGgoAAAANSUhEUgAAAMcAAAAWBAMAAACGSZV/AAAAMFBMVEX///8AAAAAAAAAAAAAAAAA\n",
       "AAAAAAAAAAAAAAAAAAAAAAAAAAAAAAAAAAAAAAAAAAAv3aB7AAAAD3RSTlMAq1RmmUTNIjK7EInv\n",
       "3XZ/CtNrAAAACXBIWXMAAA7EAAAOxAGVKw4bAAADYklEQVRIx7VVS0hUURj+5857rjMmaGgtHAii\n",
       "yGoWJrSoRrRIXDTQRizKqAgfmCUIUtkEbVykQ2A6QTm2CFoIYztzU0LROwkTCwemJKKXqZVlUvY/\n",
       "7tyccZxx04Fzz3/+8/j+x3f+C7DM1oDdmmqDNcXBZTaXGz9v5LaqpDvM0YQTY5dmnuQAHEB5BSnW\n",
       "pAXZgF0Js2iZjF8ydk9lrewCGE84YjdHm3p84PIA7KT5sXQYDrL+usibGWQVfdpYkREAyPeDJZQI\n",
       "4lEbcKkG4BwFIJAOxITmQInIxT/ou50+Xaw4i4E66AWjdxGI0Y2BKgTGV93pQDLoc5tF9dRPGpz/\n",
       "srPDjx2BHmrJuBIZ0UFwR0YIjGijJW1K1lJK5MoW1zRjoWEmMS4fex2S6LAQoD6ke2JoxDRaEOFJ\n",
       "JPIoLUg5hUzy7lW+xjjmlMUHAD2jOPbxrCmkh+vD59VkDoZsN8BlVoZSgJCRZBEa6rbNsSoXYIIF\n",
       "2+zEa3aiCOJIZDePPBvGS41ozgmwMo0d93mp9dtAmZ8lpfbIcCxZzykLPDGBdYpVyJhXkgMkQgEZ\n",
       "UMDTqgWJd21BaimYS3tI9XGQp4X1Q+BCbVteB0TDJ9dpB+5S8nnb+9LiWXkuDYrQyY7bVSJDO/uF\n",
       "4Y+81EAgsA81SHklKnmveMqDAbk4CSYMIoKo1xJBHMii3+Jo2CIVIxMDYfyDwn4OSGCBJxCwY4CJ\n",
       "lVVMeYgeErK6odcjrzcabryVGC4T9jHRDbXK2I6hMnxHYaOo40DQAYU0N2s4srBLXtZ4Ya5mTrT0\n",
       "sV87cJUOUXHai/246MZzZPyCDrVTJrbydCIOZBN6SZed5rxXwCde2gaObDB7xJPzb7UDfRoVreR6\n",
       "t4SpV0txHUbkXkjjOebKrYOE1Y9ejfoGNrd8IJ85nI3O+IzVweBFyomqHbhAKR0CR/dMCNbP10qp\n",
       "kdvy5rOyqll8IWUur1JIVxfkKgxOn16Y8W4GG8Q65LeFxRPVpS07aW009YO1atkw90tZibUzuoSx\n",
       "znQ7wmD9BY5h7XkiSFusnBNbC5dRRJO0En3DHXDsOWobhKK5gTL0vRktV+prg/q5Tgpy6p9c8xIO\n",
       "JpZ4Rf9/9Ac74lZuxD2BpK0zuXqRaZVLB5z425LyB72En+8SFR74L+0vyf3Su4+vGTcAAAAASUVO\n",
       "RK5CYII=\n",
       "\" style=\"display:inline;vertical-align:middle;\" /></a></span></td></tr>\n",
       "<tr><td>&nbsp;</td><td colspan=4 style-\"text-align:left\"><a class=\"ProveItLink\" href=\"../../../disjunction/_theory_nbs_/proofs/binary_closure/thm_proof.ipynb\">proveit.logic.booleans.disjunction.binary_closure</a></td></tr><tr><td><a name=\"0xff2e5ca74662e17_step6\">6</a></td><td>instantiation</td><td><a href=\"#0xff2e5ca74662e17_step9\">9</a></td><td><span style=\"font-size:20px;\"> <a class=\"ProveItLink\" href=\"../../../__pv_it/_proof_in_bool_is_bool/426c412ec251740c35bf63d961fd5cb1a9b216d60/proof.ipynb\" style=\"text-decoration: none\">&nbsp;&#x22A2;&nbsp;&nbsp;</a><a class=\"ProveItLink\" href=\"../../../__pv_it/_proof_in_bool_is_bool/7f2a6e0626019a921f1027d39bab8ea2dd2ab15f0/expr.ipynb\"><img src=\"data:image/png;base64,iVBORw0KGgoAAAANSUhEUgAAAHAAAAAVBAMAAABs93eRAAAAMFBMVEX///8AAAAAAAAAAAAAAAAA\n",
       "AAAAAAAAAAAAAAAAAAAAAAAAAAAAAAAAAAAAAAAAAAAv3aB7AAAAD3RSTlMAInZUiRDNmWbv3US7\n",
       "qzJazP2FAAAACXBIWXMAAA7EAAAOxAGVKw4bAAABbUlEQVQ4y2NgYBBgwAsYcUkwGYApMVzy3Apo\n",
       "6lce+zbrNpBhAuHno2tgXwUGFxg00CR4uBXEYjcwsCaAecz/sVjGDLaMLQBdYwOLwAEG9gaI+fcF\n",
       "cGnkKMDQyGFwgYETwnP0f4BLI8NUqOdOrVoG15jAYAYJOgV9A5waMyCBlBQAt5FXwoGhBOJSBvsG\n",
       "nBp9IcEeAHeqqtYVmHGbGd47oAQlssY2MJmI8OOy+csDGBaDOQUM8hdw2mgJJhOQAoepO5VhNtjf\n",
       "x8vvH8Cp8T2I4JsFdMkaqEaGA1sgGoMYGPgX4NS4E0SwHkCykeEAD8SpwJjimoDTj1ZgcgGKRjaG\n",
       "Q6CQBoYo2wecNvaASSUUjUbgsJYEcT/i1AiJMTYDuEYHFpUChlcMDDH/UxmYz39zwMwYkLhdDSZZ\n",
       "72yFJKDMM+DcwfWAgQBghPqO2weS5KAAPQljAvYG7OIHCWmUwSEeQ0gjLpMZFfDrY8JeJgEAcWFd\n",
       "eYvZIKoAAAAASUVORK5CYII=\n",
       "\" style=\"display:inline;vertical-align:middle;\" /></a></span></td></tr>\n",
       "<tr><td>&nbsp;</td><td colspan=4 style=\"text-align:left\"><span style=\"font-size:20px;\"><a class=\"ProveItLink\" href=\"../../../../../__pv_it/common/a0d9d672aa5e272d907247690c152cc2c6daafb70/expr.ipynb\"><img src=\"data:image/png;base64,iVBORw0KGgoAAAANSUhEUgAAAAsAAAAJBAMAAAAWSsseAAAAMFBMVEX///8AAAAAAAAAAAAAAAAA\n",
       "AAAAAAAAAAAAAAAAAAAAAAAAAAAAAAAAAAAAAAAAAAAv3aB7AAAAD3RSTlMAEHarMolUmd1mIs3v\n",
       "RLtmgJDEAAAACXBIWXMAAA7EAAAOxAGVKw4bAAAAQklEQVQI12NgEFIWCU1gYChgMmJvYOBcwPmR\n",
       "eQIDCwP7BgYQ4FEAU/cXMAowyF2wYWBlYMh3rGG4xsAgrsRWmcAAAFEjCyBvD0T9AAAAAElFTkSu\n",
       "QmCC\n",
       "\" style=\"display:inline;vertical-align:middle;\" /></a> : <a class=\"ProveItLink\" href=\"../../../../../__pv_it/common/09585084922504426caf1db2ff588a23a0932a960/expr.ipynb\"><img src=\"data:image/png;base64,iVBORw0KGgoAAAANSUhEUgAAAA8AAAAPBAMAAADJ+Ih5AAAAMFBMVEX///8AAAAAAAAAAAAAAAAA\n",
       "AAAAAAAAAAAAAAAAAAAAAAAAAAAAAAAAAAAAAAAAAAAv3aB7AAAAD3RSTlMAIs1UmauJMnZmRLsQ\n",
       "3e++988cAAAACXBIWXMAAA7EAAAOxAGVKw4bAAAAXklEQVQI12NgAAEhBijQh9LM/6EMlngBCCMx\n",
       "vwBMMzb0G0BkGOwngBmLGeoTwAwHBvkAEM2xxSV+A4hxgoGB/wJEhoH3AZDmAupg+gBkyAEx90cG\n",
       "htP/dRiY939KAABt3hLO6mcEjQAAAABJRU5ErkJggg==\n",
       "\" style=\"display:inline;vertical-align:middle;\" /></a>, <a class=\"ProveItLink\" href=\"../../../../../__pv_it/common/ff7dba4ef0bbe791ab573bf2d9c220a304399ac80/expr.ipynb\"><img src=\"data:image/png;base64,iVBORw0KGgoAAAANSUhEUgAAAAsAAAANBAMAAACN24kIAAAAMFBMVEX///8AAAAAAAAAAAAAAAAA\n",
       "AAAAAAAAAAAAAAAAAAAAAAAAAAAAAAAAAAAAAAAAAAAv3aB7AAAAD3RSTlMAEHaZZquJVO8y3btE\n",
       "zSKD2s2pAAAACXBIWXMAAA7EAAAOxAGVKw4bAAAAVklEQVQI12NgVHZgEGVgYGNvYPBnYJjOvIAh\n",
       "moFBgEOBoYmBgeG8AOdPIGXLwNQApLYycAcAKVOG8w5ASjTJ/gEDCOQCMdsFxnYgxaXAmgCk2J1s\n",
       "gCQAaFoNDtFIIdEAAAAASUVORK5CYII=\n",
       "\" style=\"display:inline;vertical-align:middle;\" /></a> : <a class=\"ProveItLink\" href=\"../../../__pv_it/common/95025295868b9266d37330b4427adf122f6061770/expr.ipynb\"><img src=\"data:image/png;base64,iVBORw0KGgoAAAANSUhEUgAAAA4AAAAOBAMAAADtZjDiAAAAG1BMVEX///8AAAAAAAAAAAAAAAAA\n",
       "AAAAAAAAAAAAAAB4Gco9AAAACHRSTlMAmd2rVHZEZkA3AkMAAAAJcEhZcwAADsQAAA7EAZUrDhsA\n",
       "AAAYSURBVAjXYxBSAgFlBiBwZYAAWtHpQAwAFRwEg6MlY1sAAAAASUVORK5CYII=\n",
       "\" style=\"display:inline;vertical-align:middle;\" /></a></span></td></tr><tr><td><a name=\"0xff2e5ca74662e17_step7\">7</a></td><td>instantiation</td><td><a href=\"#0xff2e5ca74662e17_step9\">9</a></td><td><span style=\"font-size:20px;\"> <a class=\"ProveItLink\" href=\"../../../__pv_it/_proof_in_bool_is_bool/9a91077cf0c904711264261cc4e3420aefeb7ebe0/proof.ipynb\" style=\"text-decoration: none\">&nbsp;&#x22A2;&nbsp;&nbsp;</a><a class=\"ProveItLink\" href=\"../../../__pv_it/_proof_in_bool_is_bool/dc3b61eb5a68220535f1cf66450b014fb6f84cfc0/expr.ipynb\"><img src=\"data:image/png;base64,iVBORw0KGgoAAAANSUhEUgAAAHAAAAAVBAMAAABs93eRAAAAMFBMVEX///8AAAAAAAAAAAAAAAAA\n",
       "AAAAAAAAAAAAAAAAAAAAAAAAAAAAAAAAAAAAAAAAAAAv3aB7AAAAD3RSTlMAInZUiRDNmWbv3US7\n",
       "qzJazP2FAAAACXBIWXMAAA7EAAAOxAGVKw4bAAABb0lEQVQ4y2NgYBBgwAsYcUkwGYApMVzy3Apo\n",
       "6lce+zbrNpBhAuHnY9PTACI10ER5uBXEYjcwsCaAecz/sWhkBlvGFoCusYFF4AADO9hUBvb7Arg0\n",
       "chRgaOQwuMDACeE5+j/ApZFhKtRzp1Ytg2tMYDCDBJ2CvgFOjRkQDycFwG3klXBgKIG4lMG+AadG\n",
       "X0iwB8Cdqqp1BWbcZob3DmADVoHBBRSNbWAyEeHHZfOXBzAsBnMKGOQv4LTREkwmIAUOU3cqw2yw\n",
       "v4+X3z+AU+N7EME3C+iSNVCNDAe2QDQGMTDwL8CpcSeIYD2AZCPDAR6IU4ExxTUBpx+twOQCFI1s\n",
       "DIegSYvtA04be8CkEopGI3BYS4K4H3FqhMQYmwFcowOLSgHDKwaGmP+pDMznvzmg6gK6euUssKtX\n",
       "g/msd7ZCElDmGXDu4HrAQAAwQn3H7QNJclCAnoQxAXsDdvGDhDTK4BCPIaQRl8mMCvj1MWEvkwD3\n",
       "fV1ogx6x/gAAAABJRU5ErkJggg==\n",
       "\" style=\"display:inline;vertical-align:middle;\" /></a></span></td></tr>\n",
       "<tr><td>&nbsp;</td><td colspan=4 style=\"text-align:left\"><span style=\"font-size:20px;\"><a class=\"ProveItLink\" href=\"../../../../../__pv_it/common/a0d9d672aa5e272d907247690c152cc2c6daafb70/expr.ipynb\"><img src=\"data:image/png;base64,iVBORw0KGgoAAAANSUhEUgAAAAsAAAAJBAMAAAAWSsseAAAAMFBMVEX///8AAAAAAAAAAAAAAAAA\n",
       "AAAAAAAAAAAAAAAAAAAAAAAAAAAAAAAAAAAAAAAAAAAv3aB7AAAAD3RSTlMAEHarMolUmd1mIs3v\n",
       "RLtmgJDEAAAACXBIWXMAAA7EAAAOxAGVKw4bAAAAQklEQVQI12NgEFIWCU1gYChgMmJvYOBcwPmR\n",
       "eQIDCwP7BgYQ4FEAU/cXMAowyF2wYWBlYMh3rGG4xsAgrsRWmcAAAFEjCyBvD0T9AAAAAElFTkSu\n",
       "QmCC\n",
       "\" style=\"display:inline;vertical-align:middle;\" /></a> : <a class=\"ProveItLink\" href=\"../../../../../__pv_it/common/09585084922504426caf1db2ff588a23a0932a960/expr.ipynb\"><img src=\"data:image/png;base64,iVBORw0KGgoAAAANSUhEUgAAAA8AAAAPBAMAAADJ+Ih5AAAAMFBMVEX///8AAAAAAAAAAAAAAAAA\n",
       "AAAAAAAAAAAAAAAAAAAAAAAAAAAAAAAAAAAAAAAAAAAv3aB7AAAAD3RSTlMAIs1UmauJMnZmRLsQ\n",
       "3e++988cAAAACXBIWXMAAA7EAAAOxAGVKw4bAAAAXklEQVQI12NgAAEhBijQh9LM/6EMlngBCCMx\n",
       "vwBMMzb0G0BkGOwngBmLGeoTwAwHBvkAEM2xxSV+A4hxgoGB/wJEhoH3AZDmAupg+gBkyAEx90cG\n",
       "htP/dRiY939KAABt3hLO6mcEjQAAAABJRU5ErkJggg==\n",
       "\" style=\"display:inline;vertical-align:middle;\" /></a>, <a class=\"ProveItLink\" href=\"../../../../../__pv_it/common/ff7dba4ef0bbe791ab573bf2d9c220a304399ac80/expr.ipynb\"><img src=\"data:image/png;base64,iVBORw0KGgoAAAANSUhEUgAAAAsAAAANBAMAAACN24kIAAAAMFBMVEX///8AAAAAAAAAAAAAAAAA\n",
       "AAAAAAAAAAAAAAAAAAAAAAAAAAAAAAAAAAAAAAAAAAAv3aB7AAAAD3RSTlMAEHaZZquJVO8y3btE\n",
       "zSKD2s2pAAAACXBIWXMAAA7EAAAOxAGVKw4bAAAAVklEQVQI12NgVHZgEGVgYGNvYPBnYJjOvIAh\n",
       "moFBgEOBoYmBgeG8AOdPIGXLwNQApLYycAcAKVOG8w5ASjTJ/gEDCOQCMdsFxnYgxaXAmgCk2J1s\n",
       "gCQAaFoNDtFIIdEAAAAASUVORK5CYII=\n",
       "\" style=\"display:inline;vertical-align:middle;\" /></a> : <a class=\"ProveItLink\" href=\"../../../__pv_it/common/e0f123f2e4f322e1eba7f861749cda9fd9d99a120/expr.ipynb\"><img src=\"data:image/png;base64,iVBORw0KGgoAAAANSUhEUgAAAA4AAAAPBAMAAAAmOuNHAAAAHlBMVEX///8AAAAAAAAAAAAAAAAA\n",
       "AAAAAAAAAAAAAAAAAACGjDitAAAACXRSTlMARGZUdpnd76sKo+zpAAAACXBIWXMAAA7EAAAOxAGV\n",
       "Kw4bAAAAGElEQVQI12NgQAAhKG1CSzosLa08LS0DAJuOBVCdynDUAAAAAElFTkSuQmCC\n",
       "\" style=\"display:inline;vertical-align:middle;\" /></a></span></td></tr><tr><td><a name=\"0xff2e5ca74662e17_step8\">8</a></td><td>conjecture</td><td></td><td><span style=\"font-size:20px;\"> <a class=\"ProveItLink\" href=\"../in_bool_def/thm_proof.ipynb\" style=\"text-decoration: none\">&nbsp;&#x22A2;&nbsp;&nbsp;</a><a class=\"ProveItLink\" href=\"../../../__pv_it/theorems/9062d7de9a4e0c6a092bb74536354cfce646b9000/expr.ipynb\"><img src=\"data:image/png;base64,iVBORw0KGgoAAAANSUhEUgAAAVMAAAAVBAMAAAAJExCCAAAAMFBMVEX///8AAAAAAAAAAAAAAAAA\n",
       "AAAAAAAAAAAAAAAAAAAAAAAAAAAAAAAAAAAAAAAAAAAv3aB7AAAAD3RSTlMAq1RmmUTNIjK7EInv\n",
       "3XZ/CtNrAAAACXBIWXMAAA7EAAAOxAGVKw4bAAADq0lEQVRIx41WTWgTQRR+3aRJkzTbXgqihwYE\n",
       "QfxpDlXwIimtIhQxKEihItEiQhS6IhTE/sSjoHYPalXQphehB6X14sGD8SCIWo2iItLAYg9i/Veo\n",
       "ikidnzf7O7PxwTfszu733jdv37wdAJkZCKXJHsYRIRb/jxm5EpUaPcNBbMj3ZP7i0lwbwH4J6y2C\n",
       "xC8oHDdaMlIIgQUSaKUTq73P1yGIDfqoiUZraCoPejbgVJvhIBb76nsWrTFrhQUJSUagtoflJutg\n",
       "G5047HknWeCgrpYDUrMpwwQoBjxfRxDrkETWWEJjZTqupMM5CCfARjYWHZyi+Te9Ochy0Mt2IyA1\n",
       "kiFfojPguRtBrOunSmokR8etdLgE4QSU2umArjOV8bzTjCB2+26JX7yv1Qq2VHLVXPZ7riCIu5O/\n",
       "VFLhIR3SdnmGEFAqDYSIkPTFvO+sQRB/1he+ir2LTlYbjpMCi/mLVStwEBvVvyulDjBpxGk0A+EE\n",
       "lEoDCczVao+87/QiiD/oYJLiRacAFj+totFa/TtnhoNYTvuhlDorNnxakFQElEoDCewAuMIm7U86\n",
       "IFYPu2GcOYsZjtRXT1+QNyMsHzvZxn7mXj3pSJmmP55t75a6mY0rAD4LkkNwu7Ol0kACxyDOvCUf\n",
       "CDnPEWS5MMaexdzbSt9EcqxVfDlIZzjop4h/U2Z1PRvJXn4jSCoCSqWBBBLlVJ5l2q6X+wjQz/e0\n",
       "s+Zwhq7WRKlg9gM0+dtLc56D7MCert9KqeO8AA0tJ0gqAkqlgQQ0i+es70lA6k2Aliq9mHZnFcwE\n",
       "+WgVldQk0fRXKXUfdn5eUmEElEoDCUCBtTmwDgQKgKw8XRHdxSWVrE2r+orLLoAowbyyVjfwu+pp\n",
       "u2ocgrRWaSABuMW2tw7bhZxriMas+OXplkcqcRIx/b8xi4P9DweVWd3C7xbabJKKILaV6QCG2br7\n",
       "4KN4ZxYxTJ3x/8hBR+pM6kPObjOOiYYSp59h0lBJ5U0QbhRskoqAUkUTZAEb2A+p90676FZnOaaX\n",
       "i6BNLjFNUxf4Q/3oZXaygnTe57ipypCcXCrD2uUjwUMV/2e8xC6cESQFgdTCY1YLNJAAnu4Axkqi\n",
       "75Q43NZ/teY5qI0EtLxGhB9Yq0FSuI24YJ+4WsRJgJ4p+LlCbd2BGXGuCLVoNkiqH6jbHTB6D5K7\n",
       "Dom7CURIdszAVMLgCLUTElLdQAIym/a0UplJQiRNjlCbkJDqBgpLQtziUNs7ydwoIsR0Q0aqFwjx\n",
       "D6gjKdUFn6kcAAAAAElFTkSuQmCC\n",
       "\" style=\"display:inline;vertical-align:middle;\" /></a></span></td></tr>\n",
       "<tr><td>&nbsp;</td><td colspan=4 style-\"text-align:left\"><a class=\"ProveItLink\" href=\"../in_bool_def/thm_proof.ipynb\">proveit.logic.booleans.in_bool_def</a></td></tr><tr><td><a name=\"0xff2e5ca74662e17_step9\">9</a></td><td>axiom</td><td></td><td><span style=\"font-size:20px;\"> <a class=\"ProveItLink\" href=\"../../../../equality/_theory_nbs_/axioms.ipynb#equality_in_bool\" style=\"text-decoration: none\">&nbsp;&#x22A2;&nbsp;&nbsp;</a><a class=\"ProveItLink\" href=\"../../../../equality/__pv_it/axioms/80c61ed0a9ea703286def3ed4e81641a1e239b430/expr.ipynb\"><img src=\"data:image/png;base64,iVBORw0KGgoAAAANSUhEUgAAAKYAAAAWBAMAAAC4bPoxAAAAMFBMVEX///8AAAAAAAAAAAAAAAAA\n",
       "AAAAAAAAAAAAAAAAAAAAAAAAAAAAAAAAAAAAAAAAAAAv3aB7AAAAD3RSTlMAq1RmmUTNIjK7EInv\n",
       "3XZ/CtNrAAAACXBIWXMAAA7EAAAOxAGVKw4bAAACZklEQVQ4y6VVTWgTQRh9+5dkd9vYi0hQSkDx\n",
       "osXgQShCrEhVVDAo9OBfFzwIpeh6EZQeqkepuJ4EwboFDxYhpCKKCCEIglWUVqjoIbClVVBo8KYI\n",
       "gvO3m2R3BxQfvLDzdubN7Pd98wWQwhVMR/YfdYZ8kVMCI4gJa/MXxhcrTO+j480pi7YJyrASF7wz\n",
       "2bH1TB+mw3PJJZbDKUXGj3sex1OT6VdpDLzkEr3EKYU2lPTcqTCdbmenhK1HUI7XIu53mx8izwzT\n",
       "NXKWTMqKrYJynOW5Ou+3z7lhN9ffNptvUlYcFqwuP3ge+wxrtYQZYI4NLvntHFUXa2D6QeCO5BSU\n",
       "Q/l+fYHGt8lAy8RWG9gD7EJ3er3T478PgekXke1L8XzPqbnaLyWWqmtkkwKwnQ2czhytjPhMN327\n",
       "kuL5kjMHPVFQfk+Ad8BN+pwjoWt+Cj1No8Z0NUhLUehJkh8k3o36uZ/AKRZbr/OcJjyuO2Xy0zqw\n",
       "Su62sQyl+9uJgWv53fHEfuQbwACbt9Dt6XD90RgpMreQIdmtrvOnxIxpztnKJtjxc96CSbwH2XOr\n",
       "y1MNuD5B3muYzpHHKwP4KmbMce64fgTH4p57MVrilUZqOyo07yTqj0UFKpNU+cH0jegXM25w3m+p\n",
       "+xK3bKZ+lARqiRdr4QQXv8zfo30p1Gn+GqzxLeGVEHonOdPxhDQJEUnjmbibYQMNIzxhOzoeAh+N\n",
       "7x0tItEmOGzHeiFvMJGuf65/w1QRWwajarwtmERvoJAyvCz5hJhetFwz2n1WMAm1PCzdL64bvhKM\n",
       "tOMScMr+Wty/0jUY5Rr+H38A4JajDXZHxnUAAAAASUVORK5CYII=\n",
       "\" style=\"display:inline;vertical-align:middle;\" /></a></span></td></tr>\n",
       "<tr><td>&nbsp;</td><td colspan=4 style-\"text-align:left\"><a class=\"ProveItLink\" href=\"../../../../equality/_theory_nbs_/axioms.ipynb#equality_in_bool\">proveit.logic.equality.equality_in_bool</a></td></tr></table>"
      ],
      "text/plain": [
       "\tstep type\trequirements\tstatement\n",
       "0\tgeneralization\t1\t|- forall_{A} ((A in BOOLEAN) in BOOLEAN)\n",
       "1\tinstantiation\t2, 3, 4\t|- (A in BOOLEAN) in BOOLEAN\n",
       "\tP(_a) : _a in BOOLEAN, x : A in BOOLEAN, y : (A = TRUE) or (A = FALSE)\n",
       "2\ttheorem\t\t|- forall_{P, x, y | P(y), x = y} P(x)\n",
       "\tproveit.logic.equality.sub_left_side_into\n",
       "3\tinstantiation\t5, 6, 7\t|- ((A = TRUE) or (A = FALSE)) in BOOLEAN\n",
       "\tA : A = TRUE, B : A = FALSE\n",
       "4\tinstantiation\t8\t|- (A in BOOLEAN) = ((A = TRUE) or (A = FALSE))\n",
       "\tA : A\n",
       "5\tconjecture\t\t|- forall_{A, B in BOOLEAN} ((A or B) in BOOLEAN)\n",
       "\tproveit.logic.booleans.disjunction.binary_closure\n",
       "6\tinstantiation\t9\t|- (A = TRUE) in BOOLEAN\n",
       "\tx : A, y : TRUE\n",
       "7\tinstantiation\t9\t|- (A = FALSE) in BOOLEAN\n",
       "\tx : A, y : FALSE\n",
       "8\tconjecture\t\t|- forall_{A} ((A in BOOLEAN) = ((A = TRUE) or (A = FALSE)))\n",
       "\tproveit.logic.booleans.in_bool_def\n",
       "9\taxiom\t\t|- forall_{x, y} ((x = y) in BOOLEAN)\n",
       "\tproveit.logic.equality.equality_in_bool"
      ]
     },
     "execution_count": 7,
     "metadata": {},
     "output_type": "execute_result"
    }
   ],
   "source": [
    "%qed"
   ]
  },
  {
   "cell_type": "code",
   "execution_count": null,
   "metadata": {},
   "outputs": [],
   "source": []
  }
 ],
 "metadata": {
  "kernelspec": {
   "display_name": "Python 3",
   "language": "python",
   "name": "python3"
  }
 },
 "nbformat": 4,
 "nbformat_minor": 0
}