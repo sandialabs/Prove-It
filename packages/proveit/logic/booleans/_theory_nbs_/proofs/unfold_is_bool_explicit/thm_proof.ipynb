{
 "cells": [
  {
   "cell_type": "markdown",
   "metadata": {},
   "source": [
    "Proof of <a class=\"ProveItLink\" href=\"../../../../../_theory_nbs_/theory.ipynb\">proveit</a>.<a class=\"ProveItLink\" href=\"../../../../_theory_nbs_/theory.ipynb\">logic</a>.<a class=\"ProveItLink\" href=\"../../theory.ipynb\">booleans</a>.<a class=\"ProveItLink\" href=\"../../theorems.ipynb#unfold_is_bool_explicit\">unfold_is_bool_explicit</a> theorem\n",
    "========"
   ]
  },
  {
   "cell_type": "code",
   "execution_count": 1,
   "metadata": {},
   "outputs": [],
   "source": [
    "import proveit\n",
    "from proveit import defaults\n",
    "from proveit.logic.booleans  import bools_def\n",
    "theory = proveit.Theory() # the theorem's theory"
   ]
  },
  {
   "cell_type": "code",
   "execution_count": 2,
   "metadata": {},
   "outputs": [
    {
     "data": {
      "text/html": [
       "With these <a href=\"allowed_presumptions.txt\">allowed</a>/<a href=\"disallowed_presumptions.txt\">disallowed</a> theorem/theory presumptions (e.g., to avoid circular dependencies), we begin our proof of<br><strong id=\"unfold_is_bool_explicit\">unfold_is_bool_explicit:</strong> <a class=\"ProveItLink\" href=\"../../../__pv_it/theorems/15b77722eb09a5caed778d8d2b09c138d97981c30/expr.ipynb\"><img src=\"data:image/png;base64,iVBORw0KGgoAAAANSUhEUgAAAPUAAAAVBAMAAABs27XUAAAAMFBMVEX///8AAAAAAAAAAAAAAAAA\n",
       "AAAAAAAAAAAAAAAAAAAAAAAAAAAAAAAAAAAAAAAAAAAv3aB7AAAAD3RSTlMAq1RmmUTNIjK7EInv\n",
       "3XZ/CtNrAAAACXBIWXMAAA7EAAAOxAGVKw4bAAACqUlEQVRIx41VS4gTQRAtJ/+ZTcxFUC8OeFHw\n",
       "k4MIXiSLqwiLGPCyB5GIirgBHdfT4m8FL15iEBaNlx08eBOiN/USb6KrRFAQMTC4iAgiq4IfRLS7\n",
       "q3p2J5nqseAVVE+9flPVPwCz5QgJKUkjUfMICfaOICasMymZII5kIMAhQlkG67ksq4MQll0c+Jbu\n",
       "KyvDQgwpjiDtgHSlCmK3DI5z2rcJwrbGTGWpkrO+9Gula4KZAFuUn0Rckt1pcdq7CMJGf3Daqar0\n",
       "O6W7AWYCaW9DyJ92XE67SxA5Z39y2vBEumK4xAYCaY/4CinR9yy73HWEsAulr6z2EaUlCki7YCaQ\n",
       "draCeNbvP+W00x2EsKr1jdW+q7d1UZM4Amk7ZcRegJtqwB/O1P8nDpKb/x3Z3Mu1tyu/GuCzJi0R\n",
       "YJ8ivIhop+qI05BTM9mPab7G0Zd6/YsuQmhC7gtb9yblxa59o0kcgbStLqLgOzXVB7k8zTWzEHSm\n",
       "NlDmSA0B8HFs9BerfRWb5FlVTeIIpJ1fRFgBbrWJ5+JnxQIIbefWoLYtRP6w2gfpSsl6oTZDIO1M\n",
       "FwF1dTIhOAx4QwWdMw8Ge54WeMuu92aMeldC0hIhdr2tHgLuTap7DvaAre6YYGx+hjILAUJdhafY\n",
       "undgtLAqJHEEvddaCDinipiAT5CpYN2X31OmPgs52Z85j9Mex+hOPSRxBNIOz+4KVeX4w3V+6kS7\n",
       "fU2ut0OZ+Z6CPffdh41/G8NPmPpZeEW3gatJDEG0f161v1hDoJUALs7kO1i3U9LDrwnmB7wXjRMJ\n",
       "cJ4Qvm0rXbxkhHZTD9Olb7Z0JRonEpY/UYL+COz9x2BatN862WiHkxU8hNGmB+JEgnw3h95O+357\n",
       "NjrQAtr9Brs+OEsS4b8qEq8RwWAlL45ksg+If3Oy142cI9r/AAAAAElFTkSuQmCC\n",
       "\" style=\"display:inline;vertical-align:middle;\" /></a><br>(see <a class=\"ProveItLink\" href=\"../../../__pv_it/theorems/8a173b869451a3cbe9be08a5d0bfa9a364aa986a0/dependencies.ipynb\">dependencies</a>)<br>"
      ],
      "text/plain": [
       "<IPython.core.display.HTML object>"
      ]
     },
     "metadata": {},
     "output_type": "display_data"
    }
   ],
   "source": [
    "%proving unfold_is_bool_explicit"
   ]
  },
  {
   "cell_type": "code",
   "execution_count": 3,
   "metadata": {},
   "outputs": [
    {
     "data": {
      "text/html": [
       "<strong id=\"Ain_bool\">Ain_bool:</strong> <a class=\"ProveItLink\" href=\"../../../__pv_it/theorems/a10dbfd9a4efbb6f30af430036ab01697a9460f80/expr.ipynb\"><img src=\"data:image/png;base64,iVBORw0KGgoAAAANSUhEUgAAADYAAAAQBAMAAACvnpHFAAAAMFBMVEX///8AAAAAAAAAAAAAAAAA\n",
       "AAAAAAAAAAAAAAAAAAAAAAAAAAAAAAAAAAAAAAAAAAAv3aB7AAAAD3RSTlMAIs1UmauJMnZmRLsQ\n",
       "3e++988cAAAACXBIWXMAAA7EAAAOxAGVKw4bAAAA40lEQVQY02NgAAEhBhTAcW/Tp7dRUI4+qhwD\n",
       "N1eD0NEFYCbzfwy5CWwCG8BMlngBDDlOgwAwMzG/AGrR3ruX4HIKIBZjQ78BWIpL4wBcH6tkAthI\n",
       "BvsJEOcegJvZ0xsGZi1mqAerYVBE2Hfp/RWwQgcGeYi9Ckhu4ZilA3LAFpd4sHvZ3969e/c2VI5h\n",
       "wzIg4wQDA/8FkAjPBiR9DBu4wUYy8D4AC11AkWMCOhzoRqYPYKEOFDkLBgY5EPsjWIjJAC6XwNbm\n",
       "wHD6vw4D8/5PYE/wRK+BBI/ebkQ8wABXNiTMIAAAYXA8zHUEOxUAAAAASUVORK5CYII=\n",
       "\" style=\"display:inline;vertical-align:middle;\" /></a><br>"
      ],
      "text/plain": [
       "<IPython.core.display.HTML object>"
      ]
     },
     "metadata": {},
     "output_type": "display_data"
    }
   ],
   "source": [
    "Ain_bool = unfold_is_bool_explicit.conditions[0]"
   ]
  },
  {
   "cell_type": "code",
   "execution_count": 4,
   "metadata": {},
   "outputs": [
    {
     "data": {
      "text/html": [
       "<strong id=\"defaults.assumptions\">defaults.assumptions:</strong> <a class=\"ProveItLink\" href=\"../../../__pv_it/_proof_unfold_is_bool_explicit/81d270e9c5cc07d6f2e45f97085e5bea1368be7e0/expr.ipynb\"><img src=\"data:image/png;base64,iVBORw0KGgoAAAANSUhEUgAAAEMAAAAVBAMAAADvM06qAAAAMFBMVEX///8AAAAAAAAAAAAAAAAA\n",
       "AAAAAAAAAAAAAAAAAAAAAAAAAAAAAAAAAAAAAAAAAAAv3aB7AAAAD3RSTlMAInZUiRDNmWbv3US7\n",
       "qzJazP2FAAAACXBIWXMAAA7EAAAOxAGVKw4bAAABXElEQVQoz31RPUjDYBB9TZukTaJmCupiFV1c\n",
       "LCKuxl0xOFeoQkEnOwg6ZnNwyVwHC0LF4FD82aODggh2cFNoZxfr0rVe7quxsZCDkPveve/eu+8A\n",
       "mEgILkoFzq14Sbp87FbfgevwsCSw/X/XDT1vbTUguYBcYiTdG6K4GTMAyoDqMqK2zCFKttAEjoGc\n",
       "QFY32n0Tz349opBCzsEyF1L5BeFa33GiLiPjNqC4OBA6WBGClhMJzc2/0T/TxC4DN/iyOdn+81I/\n",
       "uyB+toRzBiqYanJSGrArndA4aQ+n7PHpsBWEyWjV9/2rPgXBLSEdQdkExmphIgcDXRAY5N8TQhVA\n",
       "87hSi1EUEqrhIZyUplE6XJmJURbJboB1Ok6E0DdXlEJEsTOz1F218QkUe2WkX7s8tfxxJx5574U3\n",
       "Da0BrR3fjb4mFvAbk6RVQWIc0XefyEiFr1BMpBgmLzmJMg38AKOwTnUV88wyAAAAAElFTkSuQmCC\n",
       "\" style=\"display:inline;vertical-align:middle;\" /></a><br>"
      ],
      "text/plain": [
       "<IPython.core.display.HTML object>"
      ]
     },
     "metadata": {},
     "output_type": "display_data"
    }
   ],
   "source": [
    "defaults.assumptions = [Ain_bool]"
   ]
  },
  {
   "cell_type": "code",
   "execution_count": 5,
   "metadata": {},
   "outputs": [
    {
     "data": {
      "text/html": [
       "<span style=\"font-size:20px;\"> <a class=\"ProveItLink\" href=\"../../axioms.ipynb#bools_def\" style=\"text-decoration: none\">&nbsp;&#x22A2;&nbsp;&nbsp;</a><a class=\"ProveItLink\" href=\"../../../__pv_it/axioms/0ed31a4273b0db746a43c9d8e01361d0476217f00/expr.ipynb\"><img src=\"data:image/png;base64,iVBORw0KGgoAAAANSUhEUgAAAGYAAAAVBAMAAABGR4Y+AAAAMFBMVEX///8AAAAAAAAAAAAAAAAA\n",
       "AAAAAAAAAAAAAAAAAAAAAAAAAAAAAAAAAAAAAAAAAAAv3aB7AAAAD3RSTlMAdt3vu82rRCIQZolU\n",
       "mTIFPM77AAAACXBIWXMAAA7EAAAOxAGVKw4bAAABA0lEQVQ4y2NgwA44y7GL9zQACSGT+GC1Agw5\n",
       "0UrsevhSJgBJh0KOyHR0KZ6fDAy8SmCQABOrApMsIL5DFcMOFnQ93AoQrQJIYgcRMkA9a9jI0MNK\n",
       "up6M1aTqKZyotoFUPUXBn26CeJfAwaQGluENwKWH0QDiNqnSCWj2NC/ApYfjD0QPCzua49rCGXDp\n",
       "YZgWA9HD4IAW21cm4NSztQCqJwDNPywJuPSAUghYD4ocRrhNQAk3cBhUM2zciy+sOb+ih7WoiT+W\n",
       "dA3Vww4OPqUJYIcbgx0OlcECUGR4JuCSwa2Hm4EoPeDYhoGJyDLQFIIFgGMbBlACdfICXHoYenOw\n",
       "i3cDxQHNskJHEZ2ZVQAAAABJRU5ErkJggg==\n",
       "\" style=\"display:inline;vertical-align:middle;\" /></a></span>"
      ],
      "text/plain": [
       "|- BOOLEAN = {TRUE, FALSE}"
      ]
     },
     "metadata": {},
     "output_type": "display_data"
    }
   ],
   "source": [
    "bools_def"
   ]
  },
  {
   "cell_type": "code",
   "execution_count": 6,
   "metadata": {},
   "outputs": [
    {
     "data": {
      "text/html": [
       "<strong id=\"AinTFset\">AinTFset:</strong> <span style=\"font-size:20px;\"><a class=\"ProveItLink\" href=\"../../../__pv_it/theorems/a10dbfd9a4efbb6f30af430036ab01697a9460f80/expr.ipynb\"><img src=\"data:image/png;base64,iVBORw0KGgoAAAANSUhEUgAAADYAAAAQBAMAAACvnpHFAAAAMFBMVEX///8AAAAAAAAAAAAAAAAA\n",
       "AAAAAAAAAAAAAAAAAAAAAAAAAAAAAAAAAAAAAAAAAAAv3aB7AAAAD3RSTlMAIs1UmauJMnZmRLsQ\n",
       "3e++988cAAAACXBIWXMAAA7EAAAOxAGVKw4bAAAA40lEQVQY02NgAAEhBhTAcW/Tp7dRUI4+qhwD\n",
       "N1eD0NEFYCbzfwy5CWwCG8BMlngBDDlOgwAwMzG/AGrR3ruX4HIKIBZjQ78BWIpL4wBcH6tkAthI\n",
       "BvsJEOcegJvZ0xsGZi1mqAerYVBE2Hfp/RWwQgcGeYi9Ckhu4ZilA3LAFpd4sHvZ3969e/c2VI5h\n",
       "wzIg4wQDA/8FkAjPBiR9DBu4wUYy8D4AC11AkWMCOhzoRqYPYKEOFDkLBgY5EPsjWIjJAC6XwNbm\n",
       "wHD6vw4D8/5PYE/wRK+BBI/ebkQ8wABXNiTMIAAAYXA8zHUEOxUAAAAASUVORK5CYII=\n",
       "\" style=\"display:inline;vertical-align:middle;\" /></a> <a class=\"ProveItLink\" href=\"../../../__pv_it/_proof_unfold_is_bool_explicit/f50e5e50e2ccb624b728d1b6d5c29a261136fb520/proof.ipynb\" style=\"text-decoration: none\">&nbsp;&#x22A2;&nbsp;&nbsp;</a><a class=\"ProveItLink\" href=\"../../../__pv_it/_proof_unfold_is_bool_explicit/30aba06e963c2e5735460bee5dc3a063360df3b90/expr.ipynb\"><img src=\"data:image/png;base64,iVBORw0KGgoAAAANSUhEUgAAAGYAAAAVBAMAAABGR4Y+AAAAMFBMVEX///8AAAAAAAAAAAAAAAAA\n",
       "AAAAAAAAAAAAAAAAAAAAAAAAAAAAAAAAAAAAAAAAAAAv3aB7AAAAD3RSTlMAIs1UmauJMnZmRLsQ\n",
       "3e++988cAAAACXBIWXMAAA7EAAAOxAGVKw4bAAABLklEQVQ4y2NgwA54VmEXFxaAsYQw5JrWYNfD\n",
       "Hn0AytJHl2L+w8DgexcErsLFVoJJ7gCoiv/oetgugCkLZDELZBkGlngBkvUk5hdAGN137yoQp4ex\n",
       "od8AzFjUQ7Q9LAz2E8B6dYh322KG+gQQzYTwFYsCLj0cD8CUA4M8OACZEPJyE3DpYfwM1rnFJX4D\n",
       "iFEHig8wS1SLAZcehqPKQOIEAwM/2JGnEbHtfQCnnqQFYKcx8IIdyYuQh8Y2Fj2gFMLABXQ60wew\n",
       "IxuwhhsPariBjJcDGfsRzFfGque8AnpYn/6vw8C8/xM4sI/uOoCqB5wsee8wgBPsO3CChaUdOFi2\n",
       "FzXtQIANlpSIBaDIJBCnBxrbkCzbgCwDTSFYACS2ofpRZM5NwKWHQSQYu7gYUBwA9EBWv93wODIA\n",
       "AAAASUVORK5CYII=\n",
       "\" style=\"display:inline;vertical-align:middle;\" /></a></span><br>"
      ],
      "text/plain": [
       "<IPython.core.display.HTML object>"
      ]
     },
     "metadata": {},
     "output_type": "display_data"
    },
    {
     "name": "stdout",
     "output_type": "stream",
     "text": [
      "unfold_is_bool_explicit may now be readily provable (assuming required theorems are usable).  Simply execute \"%qed\".\n"
     ]
    }
   ],
   "source": [
    "AinTFset = bools_def.sub_right_side_into(Ain_bool)"
   ]
  },
  {
   "cell_type": "code",
   "execution_count": 7,
   "metadata": {},
   "outputs": [
    {
     "data": {
      "text/html": [
       "<span style=\"font-size:20px;\"><a class=\"ProveItLink\" href=\"../../../__pv_it/theorems/a10dbfd9a4efbb6f30af430036ab01697a9460f80/expr.ipynb\"><img src=\"data:image/png;base64,iVBORw0KGgoAAAANSUhEUgAAADYAAAAQBAMAAACvnpHFAAAAMFBMVEX///8AAAAAAAAAAAAAAAAA\n",
       "AAAAAAAAAAAAAAAAAAAAAAAAAAAAAAAAAAAAAAAAAAAv3aB7AAAAD3RSTlMAIs1UmauJMnZmRLsQ\n",
       "3e++988cAAAACXBIWXMAAA7EAAAOxAGVKw4bAAAA40lEQVQY02NgAAEhBhTAcW/Tp7dRUI4+qhwD\n",
       "N1eD0NEFYCbzfwy5CWwCG8BMlngBDDlOgwAwMzG/AGrR3ruX4HIKIBZjQ78BWIpL4wBcH6tkAthI\n",
       "BvsJEOcegJvZ0xsGZi1mqAerYVBE2Hfp/RWwQgcGeYi9Ckhu4ZilA3LAFpd4sHvZ3969e/c2VI5h\n",
       "wzIg4wQDA/8FkAjPBiR9DBu4wUYy8D4AC11AkWMCOhzoRqYPYKEOFDkLBgY5EPsjWIjJAC6XwNbm\n",
       "wHD6vw4D8/5PYE/wRK+BBI/ebkQ8wABXNiTMIAAAYXA8zHUEOxUAAAAASUVORK5CYII=\n",
       "\" style=\"display:inline;vertical-align:middle;\" /></a> <a class=\"ProveItLink\" href=\"../../../__pv_it/_proof_unfold_is_bool_explicit/de679c2cf6a79bc8bf14ed6143683ad3fb3f2df50/proof.ipynb\" style=\"text-decoration: none\">&nbsp;&#x22A2;&nbsp;&nbsp;</a><a class=\"ProveItLink\" href=\"../../../__pv_it/theorems/a80dd87b84d6ebecfbeb8f329cbbb1f9711c031a0/expr.ipynb\"><img src=\"data:image/png;base64,iVBORw0KGgoAAAANSUhEUgAAAKoAAAAVBAMAAAAkxGgRAAAAMFBMVEX///8AAAAAAAAAAAAAAAAA\n",
       "AAAAAAAAAAAAAAAAAAAAAAAAAAAAAAAAAAAAAAAAAAAv3aB7AAAAD3RSTlMAInZUiRDNmWbv3US7\n",
       "qzJazP2FAAAACXBIWXMAAA7EAAAOxAGVKw4bAAABwUlEQVQ4y42Uv0vDQBTHv01sk6Y/zCQognFz\n",
       "s4goulhxFotzBzsU3CxYUJw66aLQxUWXgiBYEUQX3dTF0fwHzezSurjWvLsrNql354O8u0ve95N3\n",
       "734AcKE09x9vIpYgZxRYf0IW9BB/oRNkvNAt8v5e/ONRm+wORiP2QSYgIIudA5I7bGz2/whaYL5K\n",
       "LlcKXZ6yUAlMCkCqBIunYnVcGfWEnE3x2YAiFQJOtWtI8/H6ViCjpilNtAalVAk4FedY4uvmzRdk\n",
       "1BRLbiN89qmjEgjqLup8PlhryKhj/mDJKV+lQFA3Qy7ZI7rF4YUfptpseXIBDI8nMiywmKDtR6jH\n",
       "uGJtDTO+LFezST7vw2EFVgkEdQWXbGO/H3ReZNR8jzUVLLNWJRDULg/aBsZbMmqmKTZ/5ZcqEQjq\n",
       "M59QDXCasrqaXO7keXJRwZ91XcWbOGipnixXm9OMs3vWqgSCehruAmCSzs2XjGqxxUbyGmLbyAWC\n",
       "WscnUO5XYX58F0eCnvjUeY78DEAuCItxc8GKcQsngMamokO9INGiq0Bjh9GhXkD3z6vuz/F9qRNg\n",
       "OnzKmphs/MbTCdhvE546ZnYkeY3AcPED34Z5XWvCTmMAAAAASUVORK5CYII=\n",
       "\" style=\"display:inline;vertical-align:middle;\" /></a></span>"
      ],
      "text/plain": [
       "{A in BOOLEAN} |- (A = TRUE) or (A = FALSE)"
      ]
     },
     "metadata": {},
     "output_type": "display_data"
    }
   ],
   "source": [
    "AinTFset.unfold()"
   ]
  },
  {
   "cell_type": "code",
   "execution_count": 8,
   "metadata": {},
   "outputs": [
    {
     "name": "stdout",
     "output_type": "stream",
     "text": [
      "proveit.logic.booleans.unfold_is_bool_explicit has been proven.\n"
     ]
    },
    {
     "data": {
      "text/html": [
       "<table><tr><th>&nbsp;</th><th>step type</th><th>requirements</th><th>statement</th></tr>\n",
       "<tr><td><a name=\"-0x6b16ee12e1825ca9_step0\">0</a></td><td>generalization</td><td><a href=\"#-0x6b16ee12e1825ca9_step1\">1</a></td><td><span style=\"font-size:20px;\"> <a class=\"ProveItLink\" href=\"../../../__pv_it/_proof_unfold_is_bool_explicit/10e5f867585b8bdb8c43a95d3f842e12c8661c1d0/proof.ipynb\" style=\"text-decoration: none\">&nbsp;&#x22A2;&nbsp;&nbsp;</a><a class=\"ProveItLink\" href=\"../../../__pv_it/theorems/15b77722eb09a5caed778d8d2b09c138d97981c30/expr.ipynb\"><img src=\"data:image/png;base64,iVBORw0KGgoAAAANSUhEUgAAAPUAAAAVBAMAAABs27XUAAAAMFBMVEX///8AAAAAAAAAAAAAAAAA\n",
       "AAAAAAAAAAAAAAAAAAAAAAAAAAAAAAAAAAAAAAAAAAAv3aB7AAAAD3RSTlMAq1RmmUTNIjK7EInv\n",
       "3XZ/CtNrAAAACXBIWXMAAA7EAAAOxAGVKw4bAAACqUlEQVRIx41VS4gTQRAtJ/+ZTcxFUC8OeFHw\n",
       "k4MIXiSLqwiLGPCyB5GIirgBHdfT4m8FL15iEBaNlx08eBOiN/USb6KrRFAQMTC4iAgiq4IfRLS7\n",
       "q3p2J5nqseAVVE+9flPVPwCz5QgJKUkjUfMICfaOICasMymZII5kIMAhQlkG67ksq4MQll0c+Jbu\n",
       "KyvDQgwpjiDtgHSlCmK3DI5z2rcJwrbGTGWpkrO+9Gula4KZAFuUn0Rckt1pcdq7CMJGf3Daqar0\n",
       "O6W7AWYCaW9DyJ92XE67SxA5Z39y2vBEumK4xAYCaY/4CinR9yy73HWEsAulr6z2EaUlCki7YCaQ\n",
       "draCeNbvP+W00x2EsKr1jdW+q7d1UZM4Amk7ZcRegJtqwB/O1P8nDpKb/x3Z3Mu1tyu/GuCzJi0R\n",
       "YJ8ivIhop+qI05BTM9mPab7G0Zd6/YsuQmhC7gtb9yblxa59o0kcgbStLqLgOzXVB7k8zTWzEHSm\n",
       "NlDmSA0B8HFs9BerfRWb5FlVTeIIpJ1fRFgBbrWJ5+JnxQIIbefWoLYtRP6w2gfpSsl6oTZDIO1M\n",
       "FwF1dTIhOAx4QwWdMw8Ge54WeMuu92aMeldC0hIhdr2tHgLuTap7DvaAre6YYGx+hjILAUJdhafY\n",
       "undgtLAqJHEEvddaCDinipiAT5CpYN2X31OmPgs52Z85j9Mex+hOPSRxBNIOz+4KVeX4w3V+6kS7\n",
       "fU2ut0OZ+Z6CPffdh41/G8NPmPpZeEW3gatJDEG0f161v1hDoJUALs7kO1i3U9LDrwnmB7wXjRMJ\n",
       "cJ4Qvm0rXbxkhHZTD9Olb7Z0JRonEpY/UYL+COz9x2BatN862WiHkxU8hNGmB+JEgnw3h95O+357\n",
       "NjrQAtr9Brs+OEsS4b8qEq8RwWAlL45ksg+If3Oy142cI9r/AAAAAElFTkSuQmCC\n",
       "\" style=\"display:inline;vertical-align:middle;\" /></a></span></td></tr>\n",
       "<tr><td><a name=\"-0x6b16ee12e1825ca9_step1\">1</a></td><td>instantiation</td><td><a href=\"#-0x6b16ee12e1825ca9_step2\">2</a>, <a href=\"#-0x6b16ee12e1825ca9_step3\">3</a>, <a href=\"#-0x6b16ee12e1825ca9_step4\">4</a>, <a href=\"#-0x6b16ee12e1825ca9_step5\">5</a></td><td><span style=\"font-size:20px;\"><a class=\"ProveItLink\" href=\"../../../__pv_it/theorems/a10dbfd9a4efbb6f30af430036ab01697a9460f80/expr.ipynb\"><img src=\"data:image/png;base64,iVBORw0KGgoAAAANSUhEUgAAADYAAAAQBAMAAACvnpHFAAAAMFBMVEX///8AAAAAAAAAAAAAAAAA\n",
       "AAAAAAAAAAAAAAAAAAAAAAAAAAAAAAAAAAAAAAAAAAAv3aB7AAAAD3RSTlMAIs1UmauJMnZmRLsQ\n",
       "3e++988cAAAACXBIWXMAAA7EAAAOxAGVKw4bAAAA40lEQVQY02NgAAEhBhTAcW/Tp7dRUI4+qhwD\n",
       "N1eD0NEFYCbzfwy5CWwCG8BMlngBDDlOgwAwMzG/AGrR3ruX4HIKIBZjQ78BWIpL4wBcH6tkAthI\n",
       "BvsJEOcegJvZ0xsGZi1mqAerYVBE2Hfp/RWwQgcGeYi9Ckhu4ZilA3LAFpd4sHvZ3969e/c2VI5h\n",
       "wzIg4wQDA/8FkAjPBiR9DBu4wUYy8D4AC11AkWMCOhzoRqYPYKEOFDkLBgY5EPsjWIjJAC6XwNbm\n",
       "wHD6vw4D8/5PYE/wRK+BBI/ebkQ8wABXNiTMIAAAYXA8zHUEOxUAAAAASUVORK5CYII=\n",
       "\" style=\"display:inline;vertical-align:middle;\" /></a> <a class=\"ProveItLink\" href=\"../../../__pv_it/_proof_unfold_is_bool_explicit/de679c2cf6a79bc8bf14ed6143683ad3fb3f2df50/proof.ipynb\" style=\"text-decoration: none\">&nbsp;&#x22A2;&nbsp;&nbsp;</a><a class=\"ProveItLink\" href=\"../../../__pv_it/theorems/a80dd87b84d6ebecfbeb8f329cbbb1f9711c031a0/expr.ipynb\"><img src=\"data:image/png;base64,iVBORw0KGgoAAAANSUhEUgAAAKoAAAAVBAMAAAAkxGgRAAAAMFBMVEX///8AAAAAAAAAAAAAAAAA\n",
       "AAAAAAAAAAAAAAAAAAAAAAAAAAAAAAAAAAAAAAAAAAAv3aB7AAAAD3RSTlMAInZUiRDNmWbv3US7\n",
       "qzJazP2FAAAACXBIWXMAAA7EAAAOxAGVKw4bAAABwUlEQVQ4y42Uv0vDQBTHv01sk6Y/zCQognFz\n",
       "s4goulhxFotzBzsU3CxYUJw66aLQxUWXgiBYEUQX3dTF0fwHzezSurjWvLsrNql354O8u0ve95N3\n",
       "734AcKE09x9vIpYgZxRYf0IW9BB/oRNkvNAt8v5e/ONRm+wORiP2QSYgIIudA5I7bGz2/whaYL5K\n",
       "LlcKXZ6yUAlMCkCqBIunYnVcGfWEnE3x2YAiFQJOtWtI8/H6ViCjpilNtAalVAk4FedY4uvmzRdk\n",
       "1BRLbiN89qmjEgjqLup8PlhryKhj/mDJKV+lQFA3Qy7ZI7rF4YUfptpseXIBDI8nMiywmKDtR6jH\n",
       "uGJtDTO+LFezST7vw2EFVgkEdQWXbGO/H3ReZNR8jzUVLLNWJRDULg/aBsZbMmqmKTZ/5ZcqEQjq\n",
       "M59QDXCasrqaXO7keXJRwZ91XcWbOGipnixXm9OMs3vWqgSCehruAmCSzs2XjGqxxUbyGmLbyAWC\n",
       "WscnUO5XYX58F0eCnvjUeY78DEAuCItxc8GKcQsngMamokO9INGiq0Bjh9GhXkD3z6vuz/F9qRNg\n",
       "OnzKmphs/MbTCdhvE546ZnYkeY3AcPED34Z5XWvCTmMAAAAASUVORK5CYII=\n",
       "\" style=\"display:inline;vertical-align:middle;\" /></a></span></td></tr>\n",
       "<tr><td>&nbsp;</td><td colspan=4 style=\"text-align:left\"><span style=\"font-size:20px;\"><a class=\"ProveItLink\" href=\"../../../../../__pv_it/common/8968bb04eb3f7dfa02353397ce929b025bbd79c20/expr.ipynb\"><img src=\"data:image/png;base64,iVBORw0KGgoAAAANSUhEUgAAAAwAAAAJBAMAAAD0ltBnAAAALVBMVEX///8AAAAAAAAAAAAAAAAA\n",
       "AAAAAAAAAAAAAAAAAAAAAAAAAAAAAAAAAAAAAADAOrOgAAAADnRSTlMARHarECKJu90yVM1m74AT\n",
       "aC0AAAAJcEhZcwAADsQAAA7EAZUrDhsAAABESURBVAjXY2BUdk0qYmBgYzdi8AtgEOQoYIibwODg\n",
       "J8CwzoGBYR0DgzUDGL9hYWC4xsD1hI2B9SUD04aTDIwNDCw2CwBlUgzGkPW4hwAAAABJRU5ErkJg\n",
       "gg==\n",
       "\" style=\"display:inline;vertical-align:middle;\" /></a> : <a class=\"ProveItLink\" href=\"../../../../../numbers/numerals/__pv_it/common/af4aab8a07465db063742696e006d04670f30cf10/expr.ipynb\"><img src=\"data:image/png;base64,iVBORw0KGgoAAAANSUhEUgAAAAkAAAAOBAMAAAAPuiubAAAAMFBMVEX///8AAAAAAAAAAAAAAAAA\n",
       "AAAAAAAAAAAAAAAAAAAAAAAAAAAAAAAAAAAAAAAAAAAv3aB7AAAAD3RSTlMAIpnNuzKJRKvvEN12\n",
       "ZlQ4bmvwAAAACXBIWXMAAA7EAAAOxAGVKw4bAAAATklEQVQI12NgVDIJYGAQYWD7zsDQyMAwk4Fh\n",
       "/gKGfgGGbgaGfqAEA8N+EMH6B0RyN4BIFRDBC2Y+Y2AUYGBNYOBZwCCtpKQNVPz//2cGAEeID1mi\n",
       "/zO7AAAAAElFTkSuQmCC\n",
       "\" style=\"display:inline;vertical-align:middle;\" /></a>, <a class=\"ProveItLink\" href=\"../../../../../__pv_it/common/a0d9d672aa5e272d907247690c152cc2c6daafb70/expr.ipynb\"><img src=\"data:image/png;base64,iVBORw0KGgoAAAANSUhEUgAAAAsAAAAJBAMAAAAWSsseAAAAMFBMVEX///8AAAAAAAAAAAAAAAAA\n",
       "AAAAAAAAAAAAAAAAAAAAAAAAAAAAAAAAAAAAAAAAAAAv3aB7AAAAD3RSTlMAEHarMolUmd1mIs3v\n",
       "RLtmgJDEAAAACXBIWXMAAA7EAAAOxAGVKw4bAAAAQklEQVQI12NgEFIWCU1gYChgMmJvYOBcwPmR\n",
       "eQIDCwP7BgYQ4FEAU/cXMAowyF2wYWBlYMh3rGG4xsAgrsRWmcAAAFEjCyBvD0T9AAAAAElFTkSu\n",
       "QmCC\n",
       "\" style=\"display:inline;vertical-align:middle;\" /></a> : <a class=\"ProveItLink\" href=\"../../../../../__pv_it/common/09585084922504426caf1db2ff588a23a0932a960/expr.ipynb\"><img src=\"data:image/png;base64,iVBORw0KGgoAAAANSUhEUgAAAA8AAAAPBAMAAADJ+Ih5AAAAMFBMVEX///8AAAAAAAAAAAAAAAAA\n",
       "AAAAAAAAAAAAAAAAAAAAAAAAAAAAAAAAAAAAAAAAAAAv3aB7AAAAD3RSTlMAIs1UmauJMnZmRLsQ\n",
       "3e++988cAAAACXBIWXMAAA7EAAAOxAGVKw4bAAAAXklEQVQI12NgAAEhBijQh9LM/6EMlngBCCMx\n",
       "vwBMMzb0G0BkGOwngBmLGeoTwAwHBvkAEM2xxSV+A4hxgoGB/wJEhoH3AZDmAupg+gBkyAEx90cG\n",
       "htP/dRiY939KAABt3hLO6mcEjQAAAABJRU5ErkJggg==\n",
       "\" style=\"display:inline;vertical-align:middle;\" /></a>, <a class=\"ProveItLink\" href=\"../../../../../__pv_it/common/ff7dba4ef0bbe791ab573bf2d9c220a304399ac80/expr.ipynb\"><img src=\"data:image/png;base64,iVBORw0KGgoAAAANSUhEUgAAAAsAAAANBAMAAACN24kIAAAAMFBMVEX///8AAAAAAAAAAAAAAAAA\n",
       "AAAAAAAAAAAAAAAAAAAAAAAAAAAAAAAAAAAAAAAAAAAv3aB7AAAAD3RSTlMAEHaZZquJVO8y3btE\n",
       "zSKD2s2pAAAACXBIWXMAAA7EAAAOxAGVKw4bAAAAVklEQVQI12NgVHZgEGVgYGNvYPBnYJjOvIAh\n",
       "moFBgEOBoYmBgeG8AOdPIGXLwNQApLYycAcAKVOG8w5ASjTJ/gEDCOQCMdsFxnYgxaXAmgCk2J1s\n",
       "gCQAaFoNDtFIIdEAAAAASUVORK5CYII=\n",
       "\" style=\"display:inline;vertical-align:middle;\" /></a> : <a class=\"ProveItLink\" href=\"../../../__pv_it/axioms/91257219ae58e33613ff524162053da5502f599d0/expr.ipynb\"><img src=\"data:image/png;base64,iVBORw0KGgoAAAANSUhEUgAAADUAAAAVBAMAAAAUZLt1AAAAMFBMVEX///8AAAAAAAAAAAAAAAAA\n",
       "AAAAAAAAAAAAAAAAAAAAAAAAAAAAAAAAAAAAAAAAAAAv3aB7AAAAD3RSTlMAInZUiRDNmWbv3US7\n",
       "qzJazP2FAAAACXBIWXMAAA7EAAAOxAGVKw4bAAAAv0lEQVQoz2NgYBBgwAbAokwGWOU2gQgTBvZV\n",
       "YHABJrwDrKWBgYE1AcRiVkDSYgQmUxkY2BtwyLUzMHAy4JDjDGAwwyXH1sBQgkuO5QJDBi45jgSG\n",
       "xbjkmCcwzMYlx/cBtxz3BDxmLmA4hCQXgOKWAwy+CDnWb8hy7A4MryCGg0NuFVBj1apVM1etWsvA\n",
       "wLWBgesBwiLmACRbpYDGFiC4LMgRWAHEBxHcICQpxgNAIgbBR/YIDyhRMCpgTROKDAwA4X8lji+K\n",
       "TRMAAAAASUVORK5CYII=\n",
       "\" style=\"display:inline;vertical-align:middle;\" /></a></span></td></tr><tr><td><a name=\"-0x6b16ee12e1825ca9_step2\">2</a></td><td>conjecture</td><td></td><td><span style=\"font-size:20px;\"> <a class=\"ProveItLink\" href=\"../../../../sets/enumeration/_theory_nbs_/proofs/unfold/thm_proof.ipynb\" style=\"text-decoration: none\">&nbsp;&#x22A2;&nbsp;&nbsp;</a><a class=\"ProveItLink\" href=\"../../../../sets/enumeration/__pv_it/theorems/93064732f43675fe7136dce1d05dc46f6c9d68960/expr.ipynb\"><img src=\"data:image/png;base64,iVBORw0KGgoAAAANSUhEUgAAApYAAAAZBAMAAAB5pXMdAAAAMFBMVEX///8AAAAAAAAAAAAAAAAA\n",
       "AAAAAAAAAAAAAAAAAAAAAAAAAAAAAAAAAAAAAAAAAAAv3aB7AAAAD3RSTlMAq1RmmUTNIjK7EInv\n",
       "3XZ/CtNrAAAACXBIWXMAAA7EAAAOxAGVKw4bAAAGkUlEQVRo3u1ZbYhUVRh+Zu7Mzp07Hzv9CPyI\n",
       "ZUKLBdOmZpWC2CY3UyprUuiHml7qh+WPnCAMTW3cH1GxblNh6f6Qq0Ul1jppCSXIoISBJJOYiTAx\n",
       "5paYtiwEKQuxna97Z+7nfASDRi+8Z+7M+z7vOfe57z3vOWcAL/FVfsL/0pTEK6e9HbpuiGHmhDZw\n",
       "afRLK+aahJoeXfom4DKe5Oolq51ALQHc5JdGDqv1aGkk6Mcsdy497R2ROUI9+U45gFoCuIi/iCYi\n",
       "sWhpLKLf17pz6WnvhCgqV29Zx6Z3jTRyFW0AzDKDNsO0+bjxANcJTWMbnRMK7lx62jshgRRXb+mj\n",
       "jURZCefRBsAs/bTZSZuBxgPsE5pGF3k0kaQ7l572TkhUaAMvmmEoE92AdgBmidEEYqldQlORqKYh\n",
       "pTxKDDF42jshdwptUCVZIh4kuhDtAMxCkydAE8ivoqlIVEkd/75SOelVx73snZDHhI5e+PSI5f0Y\n",
       "HYCSEHfPPjeIVHMDKGMp7HEEWBZCKs9NBIoNe2aRqBIulwAjXlx62TshzwnNxHsC9LaXVqj8QE3F\n",
       "uyBNcC+JJZAvj3gVFkCAASr01iP+Eh50BFhkGjBuZK93zywSVcLlSwglvLj0sntKxvJdOtQ8Vv5S\n",
       "0y9Pc5Vy0qTPXFHk5FL4RFn0s4lNTiCmwRWAQcLJdEeARUjFPc8mzmTDnlkkqoTLsBbJ1qf3ma/w\n",
       "QKKOS4u9ebEW/6FWwBHj+X3LVUbAOncpOIVoVVnA7o5nyVrM1kEOAGjRKk4pR27RbABrEuX8LBWi\n",
       "WY+edWInuBIu/dVaaRmevgO3R7SAVsdlvb1dLmncJupB/RpZtXCJ2uANCU7i7fzwH+yyJJboaw2Q\n",
       "AwBrNPl6APSNtQBsS/SunM6la8/6dYkr3UOq/cZSbgnd41QzEdMesmZvl0sWt10uxTtOeMgpmnnW\n",
       "IvlyFZjL/HkFickFA6QD6uZLPIJ4qTsbum4DWKX8JvR33L1nMdQyV8rlQbJolwaGx4CL1NR7x1Yz\n",
       "l9SO8cVj5EEFL8Cnb0MTsE2jdWady/jY1sU8LuOyhjL72oLWuNzNdV/2NkQs7uEE3hFcSpyS+D1Z\n",
       "HeQEIO7hhKRRLi0Aq1y8lfdQ9ei5777xjOiaKuVyMxn+h6tS0ZzCwvdG9q40cUnt8dz0LvKIRrs1\n",
       "Mesp1UnZto6tmQ0uL/kKz/K4WGBCmX1tQYPGSuULrne/9TiWWbdEieCfgssA3zcrZw2QEwAPYQ2p\n",
       "IpGyFaD8RZoDqt4An6vGtO3WszL/OE6Irqmm+boAm35DtxZkxaoXmcsmLqldwm6ZXG6ai8vYSPM9\n",
       "tLccLywbMz9UZjZzmQpX8zyu/LxAhUZ03+C8ReZlHTWL6xf1OXs714/G/QPW7Zcyc+ya4DImRrLQ\n",
       "ADkBsOfok+T12q7ZAGdojIzeiJU6GXTZvefQqIpJ0TVV48ytB6sgvbBr17uEy/1dDmdu11g7Ez3y\n",
       "XHaXvqKvWlImzF0Qs3W+7M6JuNtmCNTged03igOWs2di1rc7+kUsz9W53KuCyy2WTaAbAIfJIxux\n",
       "A9zkHNx79lVZAdsi1ODyOzwsy0Wel8F5di7lEjsU/ZE48gVZLBvN56yvOTFLi+4t1nM5hByPiwsC\n",
       "xVdu1DdkXSdRc99yel4WMiJLGa6OvHyWFFxaziBcABFVOQa8jFeaOrQwjkBceo7mA5k8jzRQx2Vo\n",
       "Aud6+f5mPr9rM5ebI2oA+8ljCk5QLpUiefJryBScJT+SL6KhZv9lfVNWYJQcJmv2EaP2MBThUoTC\n",
       "DtQCiKDzCjHzRvgDoXb5mSQ359J2kuUMiFV9RYR2vvFo00df4Zx7z68hNphnkVg0nctgAldS2EhY\n",
       "ls/magXW4DLw69HfMZTE7PtVyqV8DP6B99n+cigpn8BQjjbcPC2k1uXlEyvHNRaXc8lQ56H7BvJ1\n",
       "AURQX36Dmct9Qu0yi87Xr64/6nDLzgB/P5mgo1NTE24c2U9PC+49P4X4Id41i2b+j0L5etcOr/8o\n",
       "kkounGLvuB+f4D1ENDKpJS3mcny+Zllf8riUS4pi7zj3/SaOugA8aAwXV5i4DFW5eskl2+lEqwA3\n",
       "2drI4ZIeraX/e4Kar/o05KsHgRXoCapYP1UmP5rNSsJ/yHkP+QwtcQQ1fDIpfLum/kZdAB50D+ak\n",
       "mjvsusGkJS4lBPtFXUlh+RX9RwezI5ddJFVqKMO3FqAWFHg9+Z/j8t/8P26bkQabx4byNxuT8crx\n",
       "fwBUNxKmWBjn2gAAAABJRU5ErkJggg==\n",
       "\" style=\"display:inline;vertical-align:middle;\" /></a></span></td></tr>\n",
       "<tr><td>&nbsp;</td><td colspan=4 style-\"text-align:left\"><a class=\"ProveItLink\" href=\"../../../../sets/enumeration/_theory_nbs_/proofs/unfold/thm_proof.ipynb\">proveit.logic.sets.enumeration.unfold</a></td></tr><tr><td><a name=\"-0x6b16ee12e1825ca9_step3\">3</a></td><td>conjecture</td><td></td><td><span style=\"font-size:20px;\"> <a class=\"ProveItLink\" href=\"../../../../../numbers/numerals/decimals/_theory_nbs_/proofs/nat2/thm_proof.ipynb\" style=\"text-decoration: none\">&nbsp;&#x22A2;&nbsp;&nbsp;</a><a class=\"ProveItLink\" href=\"../../../../../numbers/numerals/decimals/__pv_it/theorems/c5da86d5508e181a625c8aa785bd1ba0345b9e710/expr.ipynb\"><img src=\"data:image/png;base64,iVBORw0KGgoAAAANSUhEUgAAADIAAAAQBAMAAACmdTG/AAAAMFBMVEX///8AAAAAAAAAAAAAAAAA\n",
       "AAAAAAAAAAAAAAAAAAAAAAAAAAAAAAAAAAAAAAAAAAAv3aB7AAAAD3RSTlMAIpnNuzKJRKvvEN12\n",
       "ZlQ4bmvwAAAACXBIWXMAAA7EAAAOxAGVKw4bAAAA6UlEQVQY02NgQAdc+12sGNjmT2dgVDIJQJVi\n",
       "eVDBwLCegUGEge07qgzHRrYLDJwMDI0MDDPRZJ4wGDJwMzDMX8DQLwAWObJ7twFYRvaAMEimm4Gh\n",
       "H2xR8SmYHoFWngRuMHM/iGC0gpsmwMLgDpZh/QMimQUQMqwKq1eDWNwNYBmECwQY7vF5glgqYH7k\n",
       "biBwgMpwLOgEMnjBWhiWIOvhagCZ9oyBEWQFN7IMQwwL0P4EBp4FQD7PAXjoAD3BE8LAIK2kpA0W\n",
       "sIPJMD8AEspAz/z//xkssMJ9AZhmtZ8CJBcjh1eZNyR0oAAAgjkuwI39QLgAAAAASUVORK5CYII=\n",
       "\" style=\"display:inline;vertical-align:middle;\" /></a></span></td></tr>\n",
       "<tr><td>&nbsp;</td><td colspan=4 style-\"text-align:left\"><a class=\"ProveItLink\" href=\"../../../../../numbers/numerals/decimals/_theory_nbs_/proofs/nat2/thm_proof.ipynb\">proveit.numbers.numerals.decimals.nat2</a></td></tr><tr><td><a name=\"-0x6b16ee12e1825ca9_step4\">4</a></td><td>instantiation</td><td><a href=\"#-0x6b16ee12e1825ca9_step6\">6</a></td><td><span style=\"font-size:20px;\"> <a class=\"ProveItLink\" href=\"../../../__pv_it/_proof_unfold_is_bool_explicit/b41d0b4b197251ca2aa9ce5f358cb0c9c2a127ed0/proof.ipynb\" style=\"text-decoration: none\">&nbsp;&#x22A2;&nbsp;&nbsp;</a><a class=\"ProveItLink\" href=\"../../../__pv_it/_proof_unfold_is_bool_explicit/6bcba13780b6185bbdf5dba1b6f7f4b866f182c00/expr.ipynb\"><img src=\"data:image/png;base64,iVBORw0KGgoAAAANSUhEUgAAAMoAAAAVBAMAAAD1I2xhAAAAMFBMVEX///8AAAAAAAAAAAAAAAAA\n",
       "AAAAAAAAAAAAAAAAAAAAAAAAAAAAAAAAAAAAAAAAAAAv3aB7AAAAD3RSTlMAIolEdjJUEM2ZZu/d\n",
       "u6v6CvZmAAAACXBIWXMAAA7EAAAOxAGVKw4bAAAB8ElEQVRIx52VsU4CQRCGBzg44I4LJjYmmpDQ\n",
       "K4WVNligiaUvoIWJhRYUFlZKZ2JlrIBYUEqhuc7ChsQQQ0IMFvbU2kBhoMPdOY4d4GYlTjG3t5l/\n",
       "v5vd2TlIg7QQBFqa+LlpRkMt5Mdn8bkbHLWJPjs7rdVQi+TH8aiIZeC+Le19ErAlnVHjKUID0Tee\n",
       "sFL+BNinlAt8OaZB3ss1TxGay/KA36wObOQgXiSUKkep8xSpMXiKkwbLheQtobgcxSqyFFdPsQbg\n",
       "9AGeFSVW4ijxGkdBjS6XBjg/ADeKkshwlHCXo6BGQxFm9wDWFQW/OJCSLPmUBNZgu+tTUKOnHIo6\n",
       "flAU+4ijxFwuF9ToKfJanCqKleMo0R5HQY2WkujIfBahRNz/U56k215oxxrcufy5Y6I3LAGcKUoq\n",
       "rxY2p0+/w+WCGkkx5wF44Q8A9gAeFQXrdbzwVYlSsF4DKagJ98cC6cwhHYRalYrYiDtFiTZUg7Rl\n",
       "AxSt8wVbp53jKFLjfA+/PIEtO0nLH7RFMvZoNBLEV9JhmmSJE7reKt/HmoEC70iKk57ZIJQ6CcnQ\n",
       "+CpPqQcKvI6hqrlGKCn1OzTz0+2bpfiaKYFn55PRGv2/mJ3JvEHDvZWCKb7GmK8xxf0YxxfwuRxc\n",
       "8zvoC7PTWg01w8u38At2xIOxfg3a2gAAAABJRU5ErkJggg==\n",
       "\" style=\"display:inline;vertical-align:middle;\" /></a></span></td></tr>\n",
       "<tr><td>&nbsp;</td><td colspan=4 style=\"text-align:left\"><span style=\"font-size:20px;\"><a class=\"ProveItLink\" href=\"../../../../../__pv_it/common/c06c606ec12678c58933ac85412ecadc2ae28be60/expr.ipynb\"><img src=\"data:image/png;base64,iVBORw0KGgoAAAANSUhEUgAAAAsAAAAJBAMAAAAWSsseAAAAMFBMVEX///8AAAAAAAAAAAAAAAAA\n",
       "AAAAAAAAAAAAAAAAAAAAAAAAAAAAAAAAAAAAAAAAAAAv3aB7AAAAD3RSTlMAIquJdkTvuxBmmd1U\n",
       "zTKBpmoTAAAACXBIWXMAAA7EAAAOxAGVKw4bAAAARUlEQVQI12NgYFR2dGBgYAgTYP/BwMCRycC1\n",
       "gYGB6wMDtwEDA1sBQ38AA0O/A8N8oIr+Awy6PAIM7A48u7iAKlXshPwYAE2lCqdX0eXEAAAAAElF\n",
       "TkSuQmCC\n",
       "\" style=\"display:inline;vertical-align:middle;\" /></a> : <a class=\"ProveItLink\" href=\"../../../__pv_it/common/95025295868b9266d37330b4427adf122f6061770/expr.ipynb\"><img src=\"data:image/png;base64,iVBORw0KGgoAAAANSUhEUgAAAA4AAAAOBAMAAADtZjDiAAAAG1BMVEX///8AAAAAAAAAAAAAAAAA\n",
       "AAAAAAAAAAAAAAB4Gco9AAAACHRSTlMAmd2rVHZEZkA3AkMAAAAJcEhZcwAADsQAAA7EAZUrDhsA\n",
       "AAAYSURBVAjXYxBSAgFlBiBwZYAAWtHpQAwAFRwEg6MlY1sAAAAASUVORK5CYII=\n",
       "\" style=\"display:inline;vertical-align:middle;\" /></a>, <a class=\"ProveItLink\" href=\"../../../../../__pv_it/common/195236b98c6c564a75b5dbada74b173bc52d5c3e0/expr.ipynb\"><img src=\"data:image/png;base64,iVBORw0KGgoAAAANSUhEUgAAAAkAAAAOBAMAAAAPuiubAAAAMFBMVEX///8AAAAAAAAAAAAAAAAA\n",
       "AAAAAAAAAAAAAAAAAAAAAAAAAAAAAAAAAAAAAAAAAAAv3aB7AAAAD3RSTlMAELvv3c2ZVESJq3Yi\n",
       "MmZ3LnoBAAAACXBIWXMAAA7EAAAOxAGVKw4bAAAAT0lEQVQI12NgVHZgAALWBBDJXwAi+wVA5BQQ\n",
       "wRC1ezkDA+NXAfkDDOwfGZg3MLAFMPBPYGCZwNBfAFKeL8DAf4HRjoGB6wET0AjGlXkMDAAVqA7Q\n",
       "GyenWgAAAABJRU5ErkJggg==\n",
       "\" style=\"display:inline;vertical-align:middle;\" /></a> : <a class=\"ProveItLink\" href=\"../../../__pv_it/common/e0f123f2e4f322e1eba7f861749cda9fd9d99a120/expr.ipynb\"><img src=\"data:image/png;base64,iVBORw0KGgoAAAANSUhEUgAAAA4AAAAPBAMAAAAmOuNHAAAAHlBMVEX///8AAAAAAAAAAAAAAAAA\n",
       "AAAAAAAAAAAAAAAAAACGjDitAAAACXRSTlMARGZUdpnd76sKo+zpAAAACXBIWXMAAA7EAAAOxAGV\n",
       "Kw4bAAAAGElEQVQI12NgQAAhKG1CSzosLa08LS0DAJuOBVCdynDUAAAAAElFTkSuQmCC\n",
       "\" style=\"display:inline;vertical-align:middle;\" /></a></span></td></tr><tr><td><a name=\"-0x6b16ee12e1825ca9_step5\">5</a></td><td>instantiation</td><td><a href=\"#-0x6b16ee12e1825ca9_step7\">7</a>, <a href=\"#-0x6b16ee12e1825ca9_step8\">8</a>, <a href=\"#-0x6b16ee12e1825ca9_step9\">9</a></td><td><span style=\"font-size:20px;\"><a class=\"ProveItLink\" href=\"../../../__pv_it/theorems/a10dbfd9a4efbb6f30af430036ab01697a9460f80/expr.ipynb\"><img src=\"data:image/png;base64,iVBORw0KGgoAAAANSUhEUgAAADYAAAAQBAMAAACvnpHFAAAAMFBMVEX///8AAAAAAAAAAAAAAAAA\n",
       "AAAAAAAAAAAAAAAAAAAAAAAAAAAAAAAAAAAAAAAAAAAv3aB7AAAAD3RSTlMAIs1UmauJMnZmRLsQ\n",
       "3e++988cAAAACXBIWXMAAA7EAAAOxAGVKw4bAAAA40lEQVQY02NgAAEhBhTAcW/Tp7dRUI4+qhwD\n",
       "N1eD0NEFYCbzfwy5CWwCG8BMlngBDDlOgwAwMzG/AGrR3ruX4HIKIBZjQ78BWIpL4wBcH6tkAthI\n",
       "BvsJEOcegJvZ0xsGZi1mqAerYVBE2Hfp/RWwQgcGeYi9Ckhu4ZilA3LAFpd4sHvZ3969e/c2VI5h\n",
       "wzIg4wQDA/8FkAjPBiR9DBu4wUYy8D4AC11AkWMCOhzoRqYPYKEOFDkLBgY5EPsjWIjJAC6XwNbm\n",
       "wHD6vw4D8/5PYE/wRK+BBI/ebkQ8wABXNiTMIAAAYXA8zHUEOxUAAAAASUVORK5CYII=\n",
       "\" style=\"display:inline;vertical-align:middle;\" /></a> <a class=\"ProveItLink\" href=\"../../../__pv_it/_proof_unfold_is_bool_explicit/f50e5e50e2ccb624b728d1b6d5c29a261136fb520/proof.ipynb\" style=\"text-decoration: none\">&nbsp;&#x22A2;&nbsp;&nbsp;</a><a class=\"ProveItLink\" href=\"../../../__pv_it/_proof_unfold_is_bool_explicit/30aba06e963c2e5735460bee5dc3a063360df3b90/expr.ipynb\"><img src=\"data:image/png;base64,iVBORw0KGgoAAAANSUhEUgAAAGYAAAAVBAMAAABGR4Y+AAAAMFBMVEX///8AAAAAAAAAAAAAAAAA\n",
       "AAAAAAAAAAAAAAAAAAAAAAAAAAAAAAAAAAAAAAAAAAAv3aB7AAAAD3RSTlMAIs1UmauJMnZmRLsQ\n",
       "3e++988cAAAACXBIWXMAAA7EAAAOxAGVKw4bAAABLklEQVQ4y2NgwA54VmEXFxaAsYQw5JrWYNfD\n",
       "Hn0AytJHl2L+w8DgexcErsLFVoJJ7gCoiv/oetgugCkLZDELZBkGlngBkvUk5hdAGN137yoQp4ex\n",
       "od8AzFjUQ7Q9LAz2E8B6dYh322KG+gQQzYTwFYsCLj0cD8CUA4M8OACZEPJyE3DpYfwM1rnFJX4D\n",
       "iFEHig8wS1SLAZcehqPKQOIEAwM/2JGnEbHtfQCnnqQFYKcx8IIdyYuQh8Y2Fj2gFMLABXQ60wew\n",
       "IxuwhhsPariBjJcDGfsRzFfGque8AnpYn/6vw8C8/xM4sI/uOoCqB5wsee8wgBPsO3CChaUdOFi2\n",
       "FzXtQIANlpSIBaDIJBCnBxrbkCzbgCwDTSFYACS2ofpRZM5NwKWHQSQYu7gYUBwA9EBWv93wODIA\n",
       "AAAASUVORK5CYII=\n",
       "\" style=\"display:inline;vertical-align:middle;\" /></a></span></td></tr>\n",
       "<tr><td>&nbsp;</td><td colspan=4 style=\"text-align:left\"><span style=\"font-size:20px;\"><a class=\"ProveItLink\" href=\"../../../__pv_it/_proof_unfold_is_bool_explicit/f307345efa93fdd6c2df141d735449c4534792f70/expr.ipynb\"><img src=\"data:image/png;base64,iVBORw0KGgoAAAANSUhEUgAAADsAAAAVBAMAAAAKrYvGAAAAMFBMVEX///8AAAAAAAAAAAAAAAAA\n",
       "AAAAAAAAAAAAAAAAAAAAAAAAAAAAAAAAAAAAAAAAAAAv3aB7AAAAD3RSTlMAdrurzZkQ7zJUiSLd\n",
       "ZkQEbk8lAAAACXBIWXMAAA7EAAAOxAGVKw4bAAABHElEQVQoz2NgQAYb8PAYGBgnoHAfgkmh/8pG\n",
       "rgkg1iw01RfA1BcGBqYyIM3mgGaaG4jg+MjAwAnEDKwX0KSvgs34AcS/gAx2NFkGdpCVTB+AGKiE\n",
       "YQq6NAvIOH4FBoZ+ASAjCiHBbSUNFOEyYABL7ToJEvNFSD/fwPSNgYEX5FZ5q1X3wGIn4bJstQys\n",
       "B4AOLgCy9WGCdXBp1g8MPAuAfvoA8Ta6NLsCQ/4DBgY+oG6OXzBBhOH5Agz3gRQn0ALGfzBBRYT0\n",
       "BAYTzg0MvEA/sXyACS6GSzMJcB5lBTphAQOr/icBqGAP0CYlINBmYDNcsVmCgYHnAXIg8TSghdoe\n",
       "FB5vAJp0LCpXG5XLrYDKT0LlMqGlJm4BFK40AwMAeV42yYcqVGcAAAAASUVORK5CYII=\n",
       "\" style=\"display:inline;vertical-align:middle;\" /></a> : <a class=\"ProveItLink\" href=\"../../../__pv_it/_proof_unfold_is_bool_explicit/eed80d0354a09b5b01d85a96781b6b31bdd0b66e0/expr.ipynb\"><img src=\"data:image/png;base64,iVBORw0KGgoAAAANSUhEUgAAAEIAAAAQBAMAAABQPLQnAAAAMFBMVEX///8AAAAAAAAAAAAAAAAA\n",
       "AAAAAAAAAAAAAAAAAAAAAAAAAAAAAAAAAAAAAAAAAAAv3aB7AAAAD3RSTlMAIs1UmauJMnZmRLsQ\n",
       "3e++988cAAAACXBIWXMAAA7EAAAOxAGVKw4bAAAA0klEQVQoz2NgAAEhBkJAn5AC5v+EVLDECxBQ\n",
       "kZhfAGF0372rgE0BY0O/AZixqAeXJQz2E8AqddBlRDMkwPRihvoEEM2E7hquhwz7D4AYDgzyAWAV\n",
       "6Eacm8DgC6I5trjEbwAx6u4CwQYkFf4MDNdA9AkGBv4LIMZpdDNeM/D8gljCwPsAxOBFU8Dzg4Hz\n",
       "A8g5QH8wfQBb14Cm4jMDq4IhA4MckM39ESykjGbIDgZbBweG0/91GJj3fwJ79+iuAxCp6t1AIMBw\n",
       "tK0wogBV07K9mKEOAPKPM+hvmOsfAAAAAElFTkSuQmCC\n",
       "\" style=\"display:inline;vertical-align:middle;\" /></a>, <a class=\"ProveItLink\" href=\"../../../../../__pv_it/common/a0d9d672aa5e272d907247690c152cc2c6daafb70/expr.ipynb\"><img src=\"data:image/png;base64,iVBORw0KGgoAAAANSUhEUgAAAAsAAAAJBAMAAAAWSsseAAAAMFBMVEX///8AAAAAAAAAAAAAAAAA\n",
       "AAAAAAAAAAAAAAAAAAAAAAAAAAAAAAAAAAAAAAAAAAAv3aB7AAAAD3RSTlMAEHarMolUmd1mIs3v\n",
       "RLtmgJDEAAAACXBIWXMAAA7EAAAOxAGVKw4bAAAAQklEQVQI12NgEFIWCU1gYChgMmJvYOBcwPmR\n",
       "eQIDCwP7BgYQ4FEAU/cXMAowyF2wYWBlYMh3rGG4xsAgrsRWmcAAAFEjCyBvD0T9AAAAAElFTkSu\n",
       "QmCC\n",
       "\" style=\"display:inline;vertical-align:middle;\" /></a> : <a class=\"ProveItLink\" href=\"../../../__pv_it/common/97424376de9815ad99f7180e3191b1cf4ab2a5710/expr.ipynb\"><img src=\"data:image/png;base64,iVBORw0KGgoAAAANSUhEUgAAAA0AAAAPBAMAAADNDVhEAAAALVBMVEX///8AAAAAAAAAAAAAAAAA\n",
       "AAAAAAAAAAAAAAAAAAAAAAAAAAAAAAAAAAAAAADAOrOgAAAADnRSTlMAdt3vu82rRCIQZolUmTPz\n",
       "mNMAAAAJcEhZcwAADsQAAA7EAZUrDhsAAABSSURBVAjXYxAyiQtWK2BgYHAo5IhMB9FVDDtYIPQa\n",
       "NijNCqEzVoPVTVTbAKKLgh/dhIhLlU4A0yzsGyA0gwOUDoDQPAJAupph414GBlETP5B9AKijF9Z/\n",
       "obYMAAAAAElFTkSuQmCC\n",
       "\" style=\"display:inline;vertical-align:middle;\" /></a>, <a class=\"ProveItLink\" href=\"../../../../../__pv_it/common/ff7dba4ef0bbe791ab573bf2d9c220a304399ac80/expr.ipynb\"><img src=\"data:image/png;base64,iVBORw0KGgoAAAANSUhEUgAAAAsAAAANBAMAAACN24kIAAAAMFBMVEX///8AAAAAAAAAAAAAAAAA\n",
       "AAAAAAAAAAAAAAAAAAAAAAAAAAAAAAAAAAAAAAAAAAAv3aB7AAAAD3RSTlMAEHaZZquJVO8y3btE\n",
       "zSKD2s2pAAAACXBIWXMAAA7EAAAOxAGVKw4bAAAAVklEQVQI12NgVHZgEGVgYGNvYPBnYJjOvIAh\n",
       "moFBgEOBoYmBgeG8AOdPIGXLwNQApLYycAcAKVOG8w5ASjTJ/gEDCOQCMdsFxnYgxaXAmgCk2J1s\n",
       "gCQAaFoNDtFIIdEAAAAASUVORK5CYII=\n",
       "\" style=\"display:inline;vertical-align:middle;\" /></a> : <a class=\"ProveItLink\" href=\"../../../__pv_it/axioms/ed4535ba4c904034cd87635cd46fe674d81be5a40/expr.ipynb\"><img src=\"data:image/png;base64,iVBORw0KGgoAAAANSUhEUgAAADsAAAAVBAMAAAAKrYvGAAAAMFBMVEX///8AAAAAAAAAAAAAAAAA\n",
       "AAAAAAAAAAAAAAAAAAAAAAAAAAAAAAAAAAAAAAAAAAAv3aB7AAAAD3RSTlMAEER2zVSJ3Zki72ar\n",
       "MruaaVGaAAAACXBIWXMAAA7EAAAOxAGVKw4bAAAAp0lEQVQoz2NgYGBUYsAGOCMhtIkiVmmGOw9B\n",
       "JOtHBob2chCogUkwbQBTb0AEWwGYHYykj9UATKUPtDSHAy5pKxAxawMu6fkBDAxznBhwSTMeCWDg\n",
       "7RPAJc0G0sl3AJd0vACayxlRpLPQPSbvgMvf2iCCvRDo0fLyquXl5QdQpSEgEDlGMaUTMKSZFyAE\n",
       "GA2QpVvAieYrQoAZWZZxNZiacRR7WssBhikA4NIpBTRivJ8AAAAASUVORK5CYII=\n",
       "\" style=\"display:inline;vertical-align:middle;\" /></a></span></td></tr><tr><td><a name=\"-0x6b16ee12e1825ca9_step6\">6</a></td><td>conjecture</td><td></td><td><span style=\"font-size:20px;\"> <a class=\"ProveItLink\" href=\"../../../../../numbers/numerals/decimals/_theory_nbs_/proofs/tuple_len_2_typical_eq/thm_proof.ipynb\" style=\"text-decoration: none\">&nbsp;&#x22A2;&nbsp;&nbsp;</a><a class=\"ProveItLink\" href=\"../../../../../numbers/numerals/decimals/__pv_it/theorems/10b037baccf1e1ebd13cf393d16f9c41951216fd0/expr.ipynb\"><img src=\"data:image/png;base64,iVBORw0KGgoAAAANSUhEUgAAAPsAAAAWBAMAAAD0hvfJAAAAMFBMVEX///8AAAAAAAAAAAAAAAAA\n",
       "AAAAAAAAAAAAAAAAAAAAAAAAAAAAAAAAAAAAAAAAAAAv3aB7AAAAD3RSTlMAq1RmmUTNIjK7EInv\n",
       "3XZ/CtNrAAAACXBIWXMAAA7EAAAOxAGVKw4bAAADO0lEQVRIx72WQWgTQRSGXzbbZnezmwQFLxUJ\n",
       "CD1YlQhFqIcaSC2CoAGvxUZ6ED1tQRDBSjyrNLeKiKwXoRRMqhS9iAERRBGiVJRCYNVDgwfJqZUe\n",
       "rPNm522S3UwWPPhChp+3b/9vZnZnZgFkYbOfEMEL/bIikYDISFBrDyhKZWGNRG9c4O1a8AYv8T0a\n",
       "P+Rimyxyowzqg+GiMTIc60oaDxqsPzk5XqkBaBty9NXpewA/BB6NTqG+FKozSsIQRSeG86y5Isc/\n",
       "Bng0vSOf9wq8KsKw4+HR6JaXDYaaE4ZqrjudxicxLscX8GnJ8TEbzDrE8wLPjLAryWyo0CRDsyc9\n",
       "ix03HSm+Phhv7kBsG+CdwDOjOBvdcLhwlAxHe9Iv+RPIyfBKKWL0DYj9BpgTeDT60Gy+DxeeIQKK\n",
       "xMim66Uv/trD7szI8GptMJ6F1QZYFXg0Og1wP1w1RwQUM7buWRpbTtWGeIkuqk0eGcLzeRmMX2QD\n",
       "OS7waDQPiQxd0y6T+kQEJozXoDZ4VtkB0wWlLhu9lY3Ef2T/wwKPRrqDSsQIiTdEYEJtg1Xz1kMJ\n",
       "0jXQ2jK8WYzCq7jIFgUejRS368172w9vVqDq9ZD1YjYLQ/V/xx/DZkbguVFpkjUrk89x8v98c8KT\n",
       "X3XhpL/szzmgNGTPPnLy2a54DeAITT4aPWWbj/FF28Y7N1J5r+4hEZioZmGfYhuIL7P3AOIV2eh1\n",
       "V+CNMJmP6zbAT4AJevXQ6AbrvJrXcCL0XFzssatEWEVTZV2FKrsSy+l5sbz64vmSTLKBYDFvjK1u\n",
       "kVifmmp4ixnx3ChWxoeWwjvNsipWwV0iMGEceDHfAoudJMYI7qpWUYbXmHds/9ZeXgwWzuQ6iSYb\n",
       "vrW7u8u68lngLXrnq7Z+gl1Ogyn2X6ssCCi8OERiQb7nfw0Vdx674x88DYFf8Ddje/G8swKWMyES\n",
       "eCyskfCiRqIgx4+Hiv1I9hxnHF/wPwEKR5/Bnax21qXMEhGW6Ah2O6emFK/bgeJOPPHVdXHeBw/a\n",
       "7oNvmQjL9PlDVzxEf7xRCRR3otOhJYHXe7+2hpzuLwMXWiR6Y5O3raC9l7gZ/bGV4tRUWRj5EYf/\n",
       "Hn8B42zx2J9lj5gAAAAASUVORK5CYII=\n",
       "\" style=\"display:inline;vertical-align:middle;\" /></a></span></td></tr>\n",
       "<tr><td>&nbsp;</td><td colspan=4 style-\"text-align:left\"><a class=\"ProveItLink\" href=\"../../../../../numbers/numerals/decimals/_theory_nbs_/proofs/tuple_len_2_typical_eq/thm_proof.ipynb\">proveit.numbers.numerals.decimals.tuple_len_2_typical_eq</a></td></tr><tr><td><a name=\"-0x6b16ee12e1825ca9_step7\">7</a></td><td>theorem</td><td></td><td><span style=\"font-size:20px;\"> <a class=\"ProveItLink\" href=\"../../../../equality/_theory_nbs_/proofs/sub_right_side_into/thm_proof.ipynb\" style=\"text-decoration: none\">&nbsp;&#x22A2;&nbsp;&nbsp;</a><a class=\"ProveItLink\" href=\"../../../../equality/__pv_it/theorems/6f117f8e22b1de06fedba415f5137beb876c1d570/expr.ipynb\"><img src=\"data:image/png;base64,iVBORw0KGgoAAAANSUhEUgAAAMEAAAAXBAMAAABACzadAAAAMFBMVEX///8AAAAAAAAAAAAAAAAA\n",
       "AAAAAAAAAAAAAAAAAAAAAAAAAAAAAAAAAAAAAAAAAAAv3aB7AAAAD3RSTlMAq1RmmUTNIjK7EInv\n",
       "3XZ/CtNrAAAACXBIWXMAAA7EAAAOxAGVKw4bAAACuElEQVRIx7VWTWgTQRT+sj/ZbH4rCFIECSgK\n",
       "irgHLx6MLVJjLWhOXgo26EHoxfQqVavnSuPFokiyORZBokIPlZYgCIJYqiB4KawQKXpI60nrQX0z\n",
       "O7OZNI0Ibh+8edP3vp1v5r03kwI7I6UOswOSzvr2Emkfm+wPad3q5q7759jsiPQ4wBCbXA1p65ki\n",
       "8MgF4kXpGQduk7HKITHMeMAxUsORnuNAlCgT2ZAY1qdI60Ay8CRd6EQXDavAVabEcjDwRGn5t6ur\n",
       "b8Ji2ARiv8iOUCmaDmqUHuqks8DDnp8MqH8c8tujNwGtbi2yjF+hpbUGTgE61XwCFvGY1ZHBPd3f\n",
       "+C3gB/XCNqyd3frtxXMOeg/cMVbQDxAPbDfBvCeBxV4MfrAmfKM9GewNMXkFuEkPy3QscmkeL/Ru\n",
       "6oKeDDw4JIvn/u06SAaMubEfdHw6A4o55nwJvCPTyjfpLTE/IaIy8OAKpaF5My962wfyHEowZuqC\n",
       "gbKEM0jT6hp9hWfj7NL9xAQlOF3qj9ICTzLutMLAgxZtcC1SvgyNFYIDhx+QOAEY66JSqJDeg031\n",
       "1dkKk+xp0pdbh5lBJUbm+lF8URh40KS5Y3tTfCKBUMG4JtP1lHQQY3QXDHasyBQb+kTwOx/3Yp/C\n",
       "wIMaGzKUmVhZAarg4d8V4blLWlu6QOBUIbjd4iWJNSxmPuC1wsCDfOFpevF5ljjQz1IAbkuKbRrz\n",
       "pDcC3y1WtseYTBQNMvhobigMPEiVthrzdBvSngQKkeC26ANIFOPUHzjdftkX2A6zxuelr2Rw4ESx\n",
       "zeAHMQucH225sEsSKESCFZlFyovUt3m1xRubjZdsR+3Wjps21wZyCcCKzEHLsftjb/kZNV1hIt5F\n",
       "dDEYAp0PgL4EYEUsz7drW9MnjZmrdzNgwY8WAqDYlwT/z78MIh3K+O/yBxoFtlBbcB3cAAAAAElF\n",
       "TkSuQmCC\n",
       "\" style=\"display:inline;vertical-align:middle;\" /></a></span></td></tr>\n",
       "<tr><td>&nbsp;</td><td colspan=4 style-\"text-align:left\"><a class=\"ProveItLink\" href=\"../../../../equality/_theory_nbs_/proofs/sub_right_side_into/thm_proof.ipynb\">proveit.logic.equality.sub_right_side_into</a></td></tr><tr><td><a name=\"-0x6b16ee12e1825ca9_step8\">8</a></td><td>assumption</td><td></td><td><span style=\"font-size:20px;\"><a class=\"ProveItLink\" href=\"../../../__pv_it/theorems/a10dbfd9a4efbb6f30af430036ab01697a9460f80/expr.ipynb\"><img src=\"data:image/png;base64,iVBORw0KGgoAAAANSUhEUgAAADYAAAAQBAMAAACvnpHFAAAAMFBMVEX///8AAAAAAAAAAAAAAAAA\n",
       "AAAAAAAAAAAAAAAAAAAAAAAAAAAAAAAAAAAAAAAAAAAv3aB7AAAAD3RSTlMAIs1UmauJMnZmRLsQ\n",
       "3e++988cAAAACXBIWXMAAA7EAAAOxAGVKw4bAAAA40lEQVQY02NgAAEhBhTAcW/Tp7dRUI4+qhwD\n",
       "N1eD0NEFYCbzfwy5CWwCG8BMlngBDDlOgwAwMzG/AGrR3ruX4HIKIBZjQ78BWIpL4wBcH6tkAthI\n",
       "BvsJEOcegJvZ0xsGZi1mqAerYVBE2Hfp/RWwQgcGeYi9Ckhu4ZilA3LAFpd4sHvZ3969e/c2VI5h\n",
       "wzIg4wQDA/8FkAjPBiR9DBu4wUYy8D4AC11AkWMCOhzoRqYPYKEOFDkLBgY5EPsjWIjJAC6XwNbm\n",
       "wHD6vw4D8/5PYE/wRK+BBI/ebkQ8wABXNiTMIAAAYXA8zHUEOxUAAAAASUVORK5CYII=\n",
       "\" style=\"display:inline;vertical-align:middle;\" /></a> <a class=\"ProveItLink\" href=\"../../../__pv_it/_proof_unfold_is_bool_explicit/bdbd2a3263f243d9e47f13bd4727aa8d51e559f80/proof.ipynb\" style=\"text-decoration: none\">&nbsp;&#x22A2;&nbsp;&nbsp;</a><a class=\"ProveItLink\" href=\"../../../__pv_it/theorems/a10dbfd9a4efbb6f30af430036ab01697a9460f80/expr.ipynb\"><img src=\"data:image/png;base64,iVBORw0KGgoAAAANSUhEUgAAADYAAAAQBAMAAACvnpHFAAAAMFBMVEX///8AAAAAAAAAAAAAAAAA\n",
       "AAAAAAAAAAAAAAAAAAAAAAAAAAAAAAAAAAAAAAAAAAAv3aB7AAAAD3RSTlMAIs1UmauJMnZmRLsQ\n",
       "3e++988cAAAACXBIWXMAAA7EAAAOxAGVKw4bAAAA40lEQVQY02NgAAEhBhTAcW/Tp7dRUI4+qhwD\n",
       "N1eD0NEFYCbzfwy5CWwCG8BMlngBDDlOgwAwMzG/AGrR3ruX4HIKIBZjQ78BWIpL4wBcH6tkAthI\n",
       "BvsJEOcegJvZ0xsGZi1mqAerYVBE2Hfp/RWwQgcGeYi9Ckhu4ZilA3LAFpd4sHvZ3969e/c2VI5h\n",
       "wzIg4wQDA/8FkAjPBiR9DBu4wUYy8D4AC11AkWMCOhzoRqYPYKEOFDkLBgY5EPsjWIjJAC6XwNbm\n",
       "wHD6vw4D8/5PYE/wRK+BBI/ebkQ8wABXNiTMIAAAYXA8zHUEOxUAAAAASUVORK5CYII=\n",
       "\" style=\"display:inline;vertical-align:middle;\" /></a></span></td></tr>\n",
       "<tr><td><a name=\"-0x6b16ee12e1825ca9_step9\">9</a></td><td>axiom</td><td></td><td><span style=\"font-size:20px;\"> <a class=\"ProveItLink\" href=\"../../axioms.ipynb#bools_def\" style=\"text-decoration: none\">&nbsp;&#x22A2;&nbsp;&nbsp;</a><a class=\"ProveItLink\" href=\"../../../__pv_it/axioms/0ed31a4273b0db746a43c9d8e01361d0476217f00/expr.ipynb\"><img src=\"data:image/png;base64,iVBORw0KGgoAAAANSUhEUgAAAGYAAAAVBAMAAABGR4Y+AAAAMFBMVEX///8AAAAAAAAAAAAAAAAA\n",
       "AAAAAAAAAAAAAAAAAAAAAAAAAAAAAAAAAAAAAAAAAAAv3aB7AAAAD3RSTlMAdt3vu82rRCIQZolU\n",
       "mTIFPM77AAAACXBIWXMAAA7EAAAOxAGVKw4bAAABA0lEQVQ4y2NgwA44y7GL9zQACSGT+GC1Agw5\n",
       "0UrsevhSJgBJh0KOyHR0KZ6fDAy8SmCQABOrApMsIL5DFcMOFnQ93AoQrQJIYgcRMkA9a9jI0MNK\n",
       "up6M1aTqKZyotoFUPUXBn26CeJfAwaQGluENwKWH0QDiNqnSCWj2NC/ApYfjD0QPCzua49rCGXDp\n",
       "YZgWA9HD4IAW21cm4NSztQCqJwDNPywJuPSAUghYD4ocRrhNQAk3cBhUM2zciy+sOb+ih7WoiT+W\n",
       "dA3Vww4OPqUJYIcbgx0OlcECUGR4JuCSwa2Hm4EoPeDYhoGJyDLQFIIFgGMbBlACdfICXHoYenOw\n",
       "i3cDxQHNskJHEZ2ZVQAAAABJRU5ErkJggg==\n",
       "\" style=\"display:inline;vertical-align:middle;\" /></a></span></td></tr>\n",
       "<tr><td>&nbsp;</td><td colspan=4 style-\"text-align:left\"><a class=\"ProveItLink\" href=\"../../axioms.ipynb#bools_def\">proveit.logic.booleans.bools_def</a></td></tr></table>"
      ],
      "text/plain": [
       "\tstep type\trequirements\tstatement\n",
       "0\tgeneralization\t1\t|- forall_{A in BOOLEAN} ((A = TRUE) or (A = FALSE))\n",
       "1\tinstantiation\t2, 3, 4, 5\t{A in BOOLEAN} |- (A = TRUE) or (A = FALSE)\n",
       "\tn : 2, x : A, y : (TRUE, FALSE)\n",
       "2\tconjecture\t\t|- forall_{n in Natural} [forall_{x, y_{1}, y_{2}, ..., y_{n} | x in {y_{1}, y_{2}, ..., y_{n}}} ((x = y_{1}) or  (x = y_{2}) or  ... or  (x = y_{n}))]\n",
       "\tproveit.logic.sets.enumeration.unfold\n",
       "3\tconjecture\t\t|- 2 in Natural\n",
       "\tproveit.numbers.numerals.decimals.nat2\n",
       "4\tinstantiation\t6\t|- |(TRUE, FALSE)| = |(1, ..., 2)|\n",
       "\ta : TRUE, b : FALSE\n",
       "5\tinstantiation\t7, 8, 9\t{A in BOOLEAN} |- A in {TRUE, FALSE}\n",
       "\tP(_a) : A in _a, x : BOOLEAN, y : {TRUE, FALSE}\n",
       "6\tconjecture\t\t|- forall_{a, b} (|(a, b)| = |(1, ..., 2)|)\n",
       "\tproveit.numbers.numerals.decimals.tuple_len_2_typical_eq\n",
       "7\ttheorem\t\t|- forall_{P, x, y | P(x), x = y} P(y)\n",
       "\tproveit.logic.equality.sub_right_side_into\n",
       "8\tassumption\t\t{A in BOOLEAN} |- A in BOOLEAN\n",
       "9\taxiom\t\t|- BOOLEAN = {TRUE, FALSE}\n",
       "\tproveit.logic.booleans.bools_def"
      ]
     },
     "execution_count": 8,
     "metadata": {},
     "output_type": "execute_result"
    }
   ],
   "source": [
    "%qed # unfolding the enumerated set via automation"
   ]
  },
  {
   "cell_type": "code",
   "execution_count": null,
   "metadata": {},
   "outputs": [],
   "source": []
  }
 ],
 "metadata": {
  "kernelspec": {
   "display_name": "Python 3",
   "language": "python",
   "name": "python3"
  }
 },
 "nbformat": 4,
 "nbformat_minor": 0
}