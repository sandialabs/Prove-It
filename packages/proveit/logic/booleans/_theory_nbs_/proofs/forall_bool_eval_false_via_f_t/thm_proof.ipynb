{
 "cells": [
  {
   "cell_type": "markdown",
   "metadata": {},
   "source": [
    "Proof of <a class=\"ProveItLink\" href=\"../../../../../_theory_nbs_/theory.ipynb\">proveit</a>.<a class=\"ProveItLink\" href=\"../../../../_theory_nbs_/theory.ipynb\">logic</a>.<a class=\"ProveItLink\" href=\"../../theory.ipynb\">booleans</a>.<a class=\"ProveItLink\" href=\"../../theorems.ipynb#forall_bool_eval_false_via_f_t\">forall_bool_eval_false_via_f_t</a> theorem\n",
    "========"
   ]
  },
  {
   "cell_type": "code",
   "execution_count": 1,
   "metadata": {},
   "outputs": [],
   "source": [
    "import proveit\n",
    "theory = proveit.Theory() # the theorem's theory"
   ]
  },
  {
   "cell_type": "code",
   "execution_count": 2,
   "metadata": {},
   "outputs": [
    {
     "data": {
      "text/html": [
       "With these <a href=\"allowed_presumptions.txt\">allowed</a>/<a href=\"disallowed_presumptions.txt\">disallowed</a> theorem/theory presumptions (e.g., to avoid circular dependencies), we begin our proof of<br><strong id=\"forall_bool_eval_false_via_f_t\">forall_bool_eval_false_via_f_t:</strong> <a class=\"ProveItLink\" href=\"../../../__pv_it/theorems/4dad5e52d4a8132596384da8eb3a623d7f3ee75a0/expr.ipynb\"><img src=\"data:image/png;base64,iVBORw0KGgoAAAANSUhEUgAAAgkAAAAVBAMAAAA+x2ACAAAAMFBMVEX///8AAAAAAAAAAAAAAAAA\n",
       "AAAAAAAAAAAAAAAAAAAAAAAAAAAAAAAAAAAAAAAAAAAv3aB7AAAAD3RSTlMAq1RmmUTNIjK7EInv\n",
       "3XZ/CtNrAAAACXBIWXMAAA7EAAAOxAGVKw4bAAAFYklEQVRYw41Yb2hbVRQ/TV7zkqZ5jaA49cOC\n",
       "Qj+o6wLWgQyl2glqNwn6SRgjMGEwhLVfBsP9iR/FP40oaoYs+SCDopN0otOVsSgIMp1kA0FGw+IG\n",
       "Dr8sVbC2G6zec+6fd+/LO7UPzkvO/eW+8zu/e+599wYg7pq2zG2lywfu8v+nxe9/GBs87ulBpwIb\n",
       "u2yyfK/pdZgEhdDcVnkNdrnY/cg1xtvD8t/DotcgW9qgCIrsQUmJ7aZj5dF5yMUesezPtffue7Uh\n",
       "W70OXXm4HidAEe9RJNEUjOqrd334gvYAXiaaxegDdtHDLxHSj8re2dIAfSvGJ2WTpeuApBSngmGB\n",
       "9iw6+xx8qBwawDJA5gJoL0GDnWrEcHSQrCqck3gbEV0/aWgPxui+PyaLEIlDT2I6HiaU4qrYJQuJ\n",
       "NUkpTgUn1hs4daoO7hVDg/Qd8bA7qlXnmpzgVNDIKUkDJvE2K6CtXe2p+OOsCuMMOokqpLF4DzEi\n",
       "RMiCt3maKPEqqFg4eFln/sOwZRCsCLutPZUrXOBU0Mj1e+RnC289sTj1mtpT8YcbHDNELDSjv7ao\n",
       "tHH0TnOrgUsWzpyvECVeBRUrKVRLufioZZBZEraiPZ3rXlYFhbTflI1UEnW0ivZU/FSRY4aIhaZV\n",
       "pWJvkc5j4muZUSFC1u/2CkSJV0HHutjp/OTiU5bBSFVWtPR0rvOsCvNqIZNT16PlcFXWqvJU/Gye\n",
       "Y4aIjW5XE7VJKgx3OotNRoUIWQ+2FokSr4KO9RzAcRffaxk+9PXL4SCrXLdREP3K6EPE8pWYMAMu\n",
       "FPDPFcLhl/GTZfvFABHERq9OmGET6XgVNUeG+jOLkH0JZptESaqwXqwZ8EUeg/Wpp+9V+GXLoPfA\n",
       "wuOm1eT6KFsLEhFr7hX8zGHywV8LX5aMp+MnWtz4IOKgowXdW6Qj2M5Q6+dqKzT69a5n1A8jZCfg\n",
       "WJ4o8bWgY2Ua9JsnAc4p/AfLaE6bVpPrLKuCRDYB3KTFp6RmKxhPx08vccwQcdCh10qqN1I9Dl9R\n",
       "63mhSvr3WinI+g8qQVyywQc7NleJEq+CjpXo0uJ4t1AyToXlWBV2syrs1juOUybvkXKcCoNsLSDi\n",
       "oAfPgKXCmFwcB98WAXeI9IMsnC2Y7YJF9gsRuk2UeBVMrPJT6H4PcClmRqRvg9Vqct3Crgtb9J7J\n",
       "K+g5MKsXM3dGtLm5ioiNdvaBNSMglaRIQSovt5iiFrbLl2mErFhOci2ixK8LJtZpfAP7t2BGb4VO\n",
       "WBb8A1aryfUJthYIyeETccQy2NjTI5Hp2utSlRsfRGz0lbA3ppMdpZy7XhnmSA5v549qu+CQxS19\n",
       "aoko8bVgYh3GwUz+cvNhjc9bllqyW02uU6wKhFB1faxfhwf0T9TrbwzCl2gcM0Qs1C+HvTEd/zsq\n",
       "5UrQUmeBbPpFmaVL9jAq9y9R4lUwsQZwaRmw3s/vhObVV7tWqz4zwa+RR4rJsXiRJgch9+PtXaxR\n",
       "UWzPr53Q+582leXPVJY57oRDiIVmKmFvSmcTRVyYvwXbarVaQawLTdLMJTu3th8S9eUmUupTwWER\n",
       "xhq2dnK5SmhuqxmeNvsHQwT5jfWOsKfiIy7qW73DdLrgr8BbshagGT3QR8jyB3I31jHrlIYnIm1u\n",
       "q33eir+iyDjrTbIqTDLouKUC1uTfcvskVPgmqkKELK+CEyuon7WgjyxzW9V1iM0gimSmGc+vsuVU\n",
       "ZVDR26SzMw+fLpd8XHtG//j2/b7fumRZFdhY4pqzzG3tj8FHlxueKuNl2L/cEIlFRe9oOp/VaiU2\n",
       "hZASqwIbi85iobmtqnLYDPqRo4x3gxXyBosehexG/3d0yAaLpfVj/Qf2XtSbnK9YvgAAAABJRU5E\n",
       "rkJggg==\n",
       "\" style=\"display:inline;vertical-align:middle;\" /></a><br>(see <a class=\"ProveItLink\" href=\"../../../__pv_it/theorems/eef7fefba697a137efab3c4268644f362e37a1690/dependencies.ipynb\">dependencies</a>)<br>"
      ],
      "text/plain": [
       "<IPython.core.display.HTML object>"
      ]
     },
     "metadata": {},
     "output_type": "display_data"
    }
   ],
   "source": [
    "%proving forall_bool_eval_false_via_f_t"
   ]
  },
  {
   "cell_type": "code",
   "execution_count": null,
   "metadata": {},
   "outputs": [],
   "source": []
  }
 ],
 "metadata": {
  "kernelspec": {
   "display_name": "Python 3",
   "language": "python",
   "name": "python3"
  }
 },
 "nbformat": 4,
 "nbformat_minor": 0
}