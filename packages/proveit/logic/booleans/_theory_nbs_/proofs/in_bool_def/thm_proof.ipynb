{
 "cells": [
  {
   "cell_type": "markdown",
   "metadata": {},
   "source": [
    "Proof of <a class=\"ProveItLink\" href=\"../../../../../_theory_nbs_/theory.ipynb\">proveit</a>.<a class=\"ProveItLink\" href=\"../../../../_theory_nbs_/theory.ipynb\">logic</a>.<a class=\"ProveItLink\" href=\"../../theory.ipynb\">booleans</a>.<a class=\"ProveItLink\" href=\"../../theorems.ipynb#in_bool_def\">in_bool_def</a> theorem\n",
    "========"
   ]
  },
  {
   "cell_type": "code",
   "execution_count": 1,
   "metadata": {},
   "outputs": [],
   "source": [
    "import proveit\n",
    "from proveit import l, x, A\n",
    "from proveit.logic import bools_def, TRUE, FALSE, InSet\n",
    "theory = proveit.Theory() # the theorem's theory"
   ]
  },
  {
   "cell_type": "code",
   "execution_count": 2,
   "metadata": {},
   "outputs": [
    {
     "data": {
      "text/html": [
       "With these <a href=\"allowed_presumptions.txt\">allowed</a>/<a href=\"disallowed_presumptions.txt\">disallowed</a> theorem/theory presumptions (e.g., to avoid circular dependencies), we begin our proof of<br><strong id=\"in_bool_def\">in_bool_def:</strong> <a class=\"ProveItLink\" href=\"../../../__pv_it/theorems/9062d7de9a4e0c6a092bb74536354cfce646b9000/expr.ipynb\"><img src=\"data:image/png;base64,iVBORw0KGgoAAAANSUhEUgAAAVMAAAAVBAMAAAAJExCCAAAAMFBMVEX///8AAAAAAAAAAAAAAAAA\n",
       "AAAAAAAAAAAAAAAAAAAAAAAAAAAAAAAAAAAAAAAAAAAv3aB7AAAAD3RSTlMAq1RmmUTNIjK7EInv\n",
       "3XZ/CtNrAAAACXBIWXMAAA7EAAAOxAGVKw4bAAADq0lEQVRIx41WTWgTQRR+3aRJkzTbXgqihwYE\n",
       "QfxpDlXwIimtIhQxKEihItEiQhS6IhTE/sSjoHYPalXQphehB6X14sGD8SCIWo2iItLAYg9i/Veo\n",
       "ikidnzf7O7PxwTfszu733jdv37wdAJkZCKXJHsYRIRb/jxm5EpUaPcNBbMj3ZP7i0lwbwH4J6y2C\n",
       "xC8oHDdaMlIIgQUSaKUTq73P1yGIDfqoiUZraCoPejbgVJvhIBb76nsWrTFrhQUJSUagtoflJutg\n",
       "G5047HknWeCgrpYDUrMpwwQoBjxfRxDrkETWWEJjZTqupMM5CCfARjYWHZyi+Te9Ochy0Mt2IyA1\n",
       "kiFfojPguRtBrOunSmokR8etdLgE4QSU2umArjOV8bzTjCB2+26JX7yv1Qq2VHLVXPZ7riCIu5O/\n",
       "VFLhIR3SdnmGEFAqDYSIkPTFvO+sQRB/1he+ir2LTlYbjpMCi/mLVStwEBvVvyulDjBpxGk0A+EE\n",
       "lEoDCczVao+87/QiiD/oYJLiRacAFj+totFa/TtnhoNYTvuhlDorNnxakFQElEoDCewAuMIm7U86\n",
       "IFYPu2GcOYsZjtRXT1+QNyMsHzvZxn7mXj3pSJmmP55t75a6mY0rAD4LkkNwu7Ol0kACxyDOvCUf\n",
       "CDnPEWS5MMaexdzbSt9EcqxVfDlIZzjop4h/U2Z1PRvJXn4jSCoCSqWBBBLlVJ5l2q6X+wjQz/e0\n",
       "s+Zwhq7WRKlg9gM0+dtLc56D7MCert9KqeO8AA0tJ0gqAkqlgQQ0i+es70lA6k2Aliq9mHZnFcwE\n",
       "+WgVldQk0fRXKXUfdn5eUmEElEoDCUCBtTmwDgQKgKw8XRHdxSWVrE2r+orLLoAowbyyVjfwu+pp\n",
       "u2ocgrRWaSABuMW2tw7bhZxriMas+OXplkcqcRIx/b8xi4P9DweVWd3C7xbabJKKILaV6QCG2br7\n",
       "4KN4ZxYxTJ3x/8hBR+pM6kPObjOOiYYSp59h0lBJ5U0QbhRskoqAUkUTZAEb2A+p90676FZnOaaX\n",
       "i6BNLjFNUxf4Q/3oZXaygnTe57ipypCcXCrD2uUjwUMV/2e8xC6cESQFgdTCY1YLNJAAnu4Axkqi\n",
       "75Q43NZ/teY5qI0EtLxGhB9Yq0FSuI24YJ+4WsRJgJ4p+LlCbd2BGXGuCLVoNkiqH6jbHTB6D5K7\n",
       "Dom7CURIdszAVMLgCLUTElLdQAIym/a0UplJQiRNjlCbkJDqBgpLQtziUNs7ydwoIsR0Q0aqFwjx\n",
       "D6gjKdUFn6kcAAAAAElFTkSuQmCC\n",
       "\" style=\"display:inline;vertical-align:middle;\" /></a><br>(see <a class=\"ProveItLink\" href=\"../../../__pv_it/theorems/a9fd2b67f3555993dbe2c6e49cbc8da900e23b260/dependencies.ipynb\">dependencies</a>)<br>"
      ],
      "text/plain": [
       "<IPython.core.display.HTML object>"
      ]
     },
     "metadata": {},
     "output_type": "display_data"
    }
   ],
   "source": [
    "%proving in_bool_def"
   ]
  },
  {
   "cell_type": "code",
   "execution_count": 3,
   "metadata": {},
   "outputs": [
    {
     "data": {
      "text/html": [
       "<span style=\"font-size:20px;\"> <a class=\"ProveItLink\" href=\"../../axioms.ipynb#bools_def\" style=\"text-decoration: none\">&nbsp;&#x22A2;&nbsp;&nbsp;</a><a class=\"ProveItLink\" href=\"../../../__pv_it/axioms/0ed31a4273b0db746a43c9d8e01361d0476217f00/expr.ipynb\"><img src=\"data:image/png;base64,iVBORw0KGgoAAAANSUhEUgAAAGYAAAAVBAMAAABGR4Y+AAAAMFBMVEX///8AAAAAAAAAAAAAAAAA\n",
       "AAAAAAAAAAAAAAAAAAAAAAAAAAAAAAAAAAAAAAAAAAAv3aB7AAAAD3RSTlMAdt3vu82rRCIQZolU\n",
       "mTIFPM77AAAACXBIWXMAAA7EAAAOxAGVKw4bAAABA0lEQVQ4y2NgwA44y7GL9zQACSGT+GC1Agw5\n",
       "0UrsevhSJgBJh0KOyHR0KZ6fDAy8SmCQABOrApMsIL5DFcMOFnQ93AoQrQJIYgcRMkA9a9jI0MNK\n",
       "up6M1aTqKZyotoFUPUXBn26CeJfAwaQGluENwKWH0QDiNqnSCWj2NC/ApYfjD0QPCzua49rCGXDp\n",
       "YZgWA9HD4IAW21cm4NSztQCqJwDNPywJuPSAUghYD4ocRrhNQAk3cBhUM2zciy+sOb+ih7WoiT+W\n",
       "dA3Vww4OPqUJYIcbgx0OlcECUGR4JuCSwa2Hm4EoPeDYhoGJyDLQFIIFgGMbBlACdfICXHoYenOw\n",
       "i3cDxQHNskJHEZ2ZVQAAAABJRU5ErkJggg==\n",
       "\" style=\"display:inline;vertical-align:middle;\" /></a></span>"
      ],
      "text/plain": [
       "|- BOOLEAN = {TRUE, FALSE}"
      ]
     },
     "metadata": {},
     "output_type": "display_data"
    }
   ],
   "source": [
    "bools_def"
   ]
  },
  {
   "cell_type": "code",
   "execution_count": 4,
   "metadata": {},
   "outputs": [
    {
     "data": {
      "text/html": [
       "<strong id=\"Ain_boolSet\">Ain_boolSet:</strong> <a class=\"ProveItLink\" href=\"../../../__pv_it/_proof_in_bool_def/30aba06e963c2e5735460bee5dc3a063360df3b90/expr.ipynb\"><img src=\"data:image/png;base64,iVBORw0KGgoAAAANSUhEUgAAAGYAAAAVBAMAAABGR4Y+AAAAMFBMVEX///8AAAAAAAAAAAAAAAAA\n",
       "AAAAAAAAAAAAAAAAAAAAAAAAAAAAAAAAAAAAAAAAAAAv3aB7AAAAD3RSTlMAIs1UmauJMnZmRLsQ\n",
       "3e++988cAAAACXBIWXMAAA7EAAAOxAGVKw4bAAABLklEQVQ4y2NgwA54VmEXFxaAsYQw5JrWYNfD\n",
       "Hn0AytJHl2L+w8DgexcErsLFVoJJ7gCoiv/oetgugCkLZDELZBkGlngBkvUk5hdAGN137yoQp4ex\n",
       "od8AzFjUQ7Q9LAz2E8B6dYh322KG+gQQzYTwFYsCLj0cD8CUA4M8OACZEPJyE3DpYfwM1rnFJX4D\n",
       "iFEHig8wS1SLAZcehqPKQOIEAwM/2JGnEbHtfQCnnqQFYKcx8IIdyYuQh8Y2Fj2gFMLABXQ60wew\n",
       "IxuwhhsPariBjJcDGfsRzFfGque8AnpYn/6vw8C8/xM4sI/uOoCqB5wsee8wgBPsO3CChaUdOFi2\n",
       "FzXtQIANlpSIBaDIJBCnBxrbkCzbgCwDTSFYACS2ofpRZM5NwKWHQSQYu7gYUBwA9EBWv93wODIA\n",
       "AAAASUVORK5CYII=\n",
       "\" style=\"display:inline;vertical-align:middle;\" /></a><br>"
      ],
      "text/plain": [
       "<IPython.core.display.HTML object>"
      ]
     },
     "metadata": {},
     "output_type": "display_data"
    }
   ],
   "source": [
    "Ain_boolSet = InSet(A, bools_def.rhs)"
   ]
  },
  {
   "cell_type": "code",
   "execution_count": 5,
   "metadata": {},
   "outputs": [
    {
     "data": {
      "text/html": [
       "<strong id=\"in_bool_set_def\">in_bool_set_def:</strong> <span style=\"font-size:20px;\"> <a class=\"ProveItLink\" href=\"../../../__pv_it/_proof_in_bool_def/f7f3e3b2dbd6b24764d9eac7e2783fa75058b6d60/proof.ipynb\" style=\"text-decoration: none\">&nbsp;&#x22A2;&nbsp;&nbsp;</a><a class=\"ProveItLink\" href=\"../../../__pv_it/_proof_in_bool_def/1d8d5e787b44d5fc8a31fb219b84219e99858a7e0/expr.ipynb\"><img src=\"data:image/png;base64,iVBORw0KGgoAAAANSUhEUgAAALoAAAAuBAMAAABt1x6XAAAAMFBMVEX///8AAAAAAAAAAAAAAAAA\n",
       "AAAAAAAAAAAAAAAAAAAAAAAAAAAAAAAAAAAAAAAAAAAv3aB7AAAAD3RSTlMAInZUiRDNmWbv3US7\n",
       "qzJazP2FAAAACXBIWXMAAA7EAAAOxAGVKw4bAAADNklEQVRYw+2XTWgTQRTHX76bbRtzqliUbg+K\n",
       "guAHtaKXRjwpBIPniBEpBDxYaNEiHnLSi4IXQcwlEBRcEUr9oOIlKYigiAHBa3O1IFVEr3XnzWSz\n",
       "k3mzed48OPBmNjP7/vvydvLmFwDIA91Sb8jp2BHR25wGW/wwDhPGwr6XtMO3t363ylSfkcPVwfnE\n",
       "L4AbnmjPelOjNRw+iphqLPFURWptDy4kGzgcDT/QxeGs6OZZ6hkZRGYj/3fqt1nqWTmcOteVFwc9\n",
       "r8JRz5Y46rNyI7iH5Mt9tZcZe5qV+CWZGJjDu2Pz3MwkOxz1KvbPYauAEfWzn6nY1A+IbgSXBzaV\n",
       "0ZrYL8AUxpLuL+yq2dSnRBIT9zix1/EX9e76RktcfBWh4NWeK2BTT33x5XPf2ernAXZgmsvBfO5m\n",
       "yaaeFA8eZcXelIkBB+92+gtjHZv6nHhuosHJ+7r6hafxm8Zdcs+kNPUz+FZbnNiL4gWKUH/gx8uk\n",
       "+sWKsSMzBY76pp/s7XlIfPqNt1/4UNLV1zBhj3w5z3vy0PM6St1Z4ag7Xf3zi/d6JZDtWPgWVJ9k\n",
       "1ZmRBcuCpl4w1Jd59b1tO1VCWy7lhleuiZLR4qmXLfOxn6EnaSfCA7EJmEdfzLUs7PxM318UhWAa\n",
       "/rd/uuWHw0+eMaO/emVIS1ZiUm2VjVg98nGlIS3ZiKlXYA02sjkESLVfmqAlKzEF9R0P83FR4HIu\n",
       "RDvIQpouoQlashJToI5sNCL8xroQ7SDVRfnyLUsQk6ku2ajRS3WUgzoE7qPNmsREqEs2Ou3bIgxx\n",
       "UOpVtCWDmCh1yUYTKv5IB6VeRKsaxKSfxFJdstF4Vx28ukMGHbyOpn4LrWkQExW7ZKNcB5wSDHFQ\n",
       "6ifQ6gYxUeqKjS7BcQKxSPUttLpBTJS6YqMZXx+GOCj112hNg5iovEs2AifXIhCLzPtJtHWDmKjY\n",
       "FRvF764QiEXGfgetaBIToa7YKPWYRCxKXe70TZOYtLYGYTZaJBEr9C8sQKqnIEzQktMddgZMRiMW\n",
       "UeAbaKrcDGnLTMTS/koKa0cQUxBJi4lYQdutrBxBTAHL55mIpT2+rWjJSkyqTbMRq3cy5tH+AODi\n",
       "8cNNlk+bAAAAAElFTkSuQmCC\n",
       "\" style=\"display:inline;vertical-align:middle;\" /></a></span><br>"
      ],
      "text/plain": [
       "<IPython.core.display.HTML object>"
      ]
     },
     "metadata": {},
     "output_type": "display_data"
    }
   ],
   "source": [
    "in_bool_set_def = Ain_boolSet.definition()"
   ]
  },
  {
   "cell_type": "code",
   "execution_count": 6,
   "metadata": {},
   "outputs": [
    {
     "data": {
      "text/html": [
       "<span style=\"font-size:20px;\"> <a class=\"ProveItLink\" href=\"../../../__pv_it/_proof_in_bool_def/e9986d0d841ab84cb6270c28a95b5c0679a800f00/proof.ipynb\" style=\"text-decoration: none\">&nbsp;&#x22A2;&nbsp;&nbsp;</a><a class=\"ProveItLink\" href=\"../../../__pv_it/_proof_in_bool_def/494cf82ce56dfc5ec75e5eaf9e14e299f7ed09a90/expr.ipynb\"><img src=\"data:image/png;base64,iVBORw0KGgoAAAANSUhEUgAAALoAAAAuBAMAAABt1x6XAAAAMFBMVEX///8AAAAAAAAAAAAAAAAA\n",
       "AAAAAAAAAAAAAAAAAAAAAAAAAAAAAAAAAAAAAAAAAAAv3aB7AAAAD3RSTlMAInZUiRDNmWbv3US7\n",
       "qzJazP2FAAAACXBIWXMAAA7EAAAOxAGVKw4bAAAC7UlEQVRYw+2XTWgTQRSAX3bT/Gx+3FPQIriC\n",
       "BRHBUkpFL0Y8B4PnFCoSiCcLLSieerIHFbx4aQ4GApVGhFCL6G3bg4IK5uDNQ3O1l+ql1zrzZtLN\n",
       "dl5mGuYkOPB2Nlne15eX7NuvAOCDZmkvnmA507iVjr278elg7SfApiV9VmwPjr2dzwWl+S44K1bw\n",
       "iQXc3EOFvpL0Q4C6FT0tikvv+go9M90DWLWiZ8V283ZfnFzudBaO6OwsW7Whz+ExEVwRX+77qaj2\n",
       "wukyQMqq8cuiMXADKYl61JmpSz/YnuzZ0Bt4fAf7Zb6n/Ii+/uo160qG9yndwTX+H2rjcRHOYWpq\n",
       "+Ft1nrJP4r6wqb2J987nh7shP/nFSwwlHcItgOJva/odgFMtflIbrh3CPEDOqva2aAx4SPHidNYo\n",
       "t2XT9x0WDAQp7IATxOgz7FsNbWqvsDjDaX/w5b2IXk5eYJ8pXbah77FmH9bB/X6AmPmv4t507n/D\n",
       "GQle14bu9eOvt76ISTBYk1ZzJrOov/7Ibr5va68mQjt6TXs1b/noSwS6q+fh//onl2+WIn9ci0rI\n",
       "QFuijSlamydTrGjlAhFoSyOMCR7j4H2rOtOoBDlwAS6K4LY0ypj4msEjPswLfMAVA9AnuHj/pKoY\n",
       "3JZGGVNER2fK8Lx8H/QJgs7HF4ssYUwqXThTa9BqXYKgw0uMOdWYCLpwplsslsCQIOkNjGXFmCi6\n",
       "cKaSrF+bIOkVjIZiTIMfyjAdnQkKffngjSfEn+mS/gSjrRgTVbtwpmIPvCoYEiT9GkZTMSaKLp3p\n",
       "LlwlFIuk72M0FWOi6NKZZhkfDAmS/hGjrRgT1XdXYLxiSCgW2ffrGDuKMVG1S2dynncJxSJrf4ZR\n",
       "UY2JoEtnmlgnFYuii1/6nmpMsfVBtEQ60xKpWEP/hXU6G2vYpDfAg9uS1zc9Ayb1ikUM+BaGHDcw\n",
       "ljOZEwbDcdtoTIQzmRLgrIya0ZgIZzIlHNXMbUlvTIQzmRIcH+MvEQjkBZMoB2sAAAAASUVORK5C\n",
       "YII=\n",
       "\" style=\"display:inline;vertical-align:middle;\" /></a></span>"
      ],
      "text/plain": [
       "|- (A in BOOLEAN) =  \\\\ ((A = TRUE) or (A = FALSE))"
      ]
     },
     "metadata": {},
     "output_type": "display_data"
    },
    {
     "name": "stdout",
     "output_type": "stream",
     "text": [
      "in_bool_def may now be readily provable (assuming required theorems are usable).  Simply execute \"%qed\".\n"
     ]
    }
   ],
   "source": [
    "bools_def.sub_left_side_into(in_bool_set_def)"
   ]
  },
  {
   "cell_type": "code",
   "execution_count": 7,
   "metadata": {},
   "outputs": [
    {
     "name": "stdout",
     "output_type": "stream",
     "text": [
      "proveit.logic.booleans.in_bool_def has been proven.\n"
     ]
    },
    {
     "data": {
      "text/html": [
       "<table><tr><th>&nbsp;</th><th>step type</th><th>requirements</th><th>statement</th></tr>\n",
       "<tr><td><a name=\"0x454464354beaaf45_step0\">0</a></td><td>generalization</td><td><a href=\"#0x454464354beaaf45_step1\">1</a></td><td><span style=\"font-size:20px;\"> <a class=\"ProveItLink\" href=\"../../../__pv_it/_proof_in_bool_def/ce7d552594e8b99b2182f4e03e6e4fe6578a13b20/proof.ipynb\" style=\"text-decoration: none\">&nbsp;&#x22A2;&nbsp;&nbsp;</a><a class=\"ProveItLink\" href=\"../../../__pv_it/theorems/9062d7de9a4e0c6a092bb74536354cfce646b9000/expr.ipynb\"><img src=\"data:image/png;base64,iVBORw0KGgoAAAANSUhEUgAAAVMAAAAVBAMAAAAJExCCAAAAMFBMVEX///8AAAAAAAAAAAAAAAAA\n",
       "AAAAAAAAAAAAAAAAAAAAAAAAAAAAAAAAAAAAAAAAAAAv3aB7AAAAD3RSTlMAq1RmmUTNIjK7EInv\n",
       "3XZ/CtNrAAAACXBIWXMAAA7EAAAOxAGVKw4bAAADq0lEQVRIx41WTWgTQRR+3aRJkzTbXgqihwYE\n",
       "QfxpDlXwIimtIhQxKEihItEiQhS6IhTE/sSjoHYPalXQphehB6X14sGD8SCIWo2iItLAYg9i/Veo\n",
       "ikidnzf7O7PxwTfszu733jdv37wdAJkZCKXJHsYRIRb/jxm5EpUaPcNBbMj3ZP7i0lwbwH4J6y2C\n",
       "xC8oHDdaMlIIgQUSaKUTq73P1yGIDfqoiUZraCoPejbgVJvhIBb76nsWrTFrhQUJSUagtoflJutg\n",
       "G5047HknWeCgrpYDUrMpwwQoBjxfRxDrkETWWEJjZTqupMM5CCfARjYWHZyi+Te9Ochy0Mt2IyA1\n",
       "kiFfojPguRtBrOunSmokR8etdLgE4QSU2umArjOV8bzTjCB2+26JX7yv1Qq2VHLVXPZ7riCIu5O/\n",
       "VFLhIR3SdnmGEFAqDYSIkPTFvO+sQRB/1he+ir2LTlYbjpMCi/mLVStwEBvVvyulDjBpxGk0A+EE\n",
       "lEoDCczVao+87/QiiD/oYJLiRacAFj+totFa/TtnhoNYTvuhlDorNnxakFQElEoDCewAuMIm7U86\n",
       "IFYPu2GcOYsZjtRXT1+QNyMsHzvZxn7mXj3pSJmmP55t75a6mY0rAD4LkkNwu7Ol0kACxyDOvCUf\n",
       "CDnPEWS5MMaexdzbSt9EcqxVfDlIZzjop4h/U2Z1PRvJXn4jSCoCSqWBBBLlVJ5l2q6X+wjQz/e0\n",
       "s+Zwhq7WRKlg9gM0+dtLc56D7MCert9KqeO8AA0tJ0gqAkqlgQQ0i+es70lA6k2Aliq9mHZnFcwE\n",
       "+WgVldQk0fRXKXUfdn5eUmEElEoDCUCBtTmwDgQKgKw8XRHdxSWVrE2r+orLLoAowbyyVjfwu+pp\n",
       "u2ocgrRWaSABuMW2tw7bhZxriMas+OXplkcqcRIx/b8xi4P9DweVWd3C7xbabJKKILaV6QCG2br7\n",
       "4KN4ZxYxTJ3x/8hBR+pM6kPObjOOiYYSp59h0lBJ5U0QbhRskoqAUkUTZAEb2A+p90676FZnOaaX\n",
       "i6BNLjFNUxf4Q/3oZXaygnTe57ipypCcXCrD2uUjwUMV/2e8xC6cESQFgdTCY1YLNJAAnu4Axkqi\n",
       "75Q43NZ/teY5qI0EtLxGhB9Yq0FSuI24YJ+4WsRJgJ4p+LlCbd2BGXGuCLVoNkiqH6jbHTB6D5K7\n",
       "Dom7CURIdszAVMLgCLUTElLdQAIym/a0UplJQiRNjlCbkJDqBgpLQtziUNs7ydwoIsR0Q0aqFwjx\n",
       "D6gjKdUFn6kcAAAAAElFTkSuQmCC\n",
       "\" style=\"display:inline;vertical-align:middle;\" /></a></span></td></tr>\n",
       "<tr><td><a name=\"0x454464354beaaf45_step1\">1</a></td><td>instantiation</td><td><a href=\"#0x454464354beaaf45_step2\">2</a>, <a href=\"#0x454464354beaaf45_step3\">3</a>, <a href=\"#0x454464354beaaf45_step4\">4</a></td><td><span style=\"font-size:20px;\"> <a class=\"ProveItLink\" href=\"../../../__pv_it/_proof_in_bool_def/e9986d0d841ab84cb6270c28a95b5c0679a800f00/proof.ipynb\" style=\"text-decoration: none\">&nbsp;&#x22A2;&nbsp;&nbsp;</a><a class=\"ProveItLink\" href=\"../../../__pv_it/_proof_in_bool_def/494cf82ce56dfc5ec75e5eaf9e14e299f7ed09a90/expr.ipynb\"><img src=\"data:image/png;base64,iVBORw0KGgoAAAANSUhEUgAAALoAAAAuBAMAAABt1x6XAAAAMFBMVEX///8AAAAAAAAAAAAAAAAA\n",
       "AAAAAAAAAAAAAAAAAAAAAAAAAAAAAAAAAAAAAAAAAAAv3aB7AAAAD3RSTlMAInZUiRDNmWbv3US7\n",
       "qzJazP2FAAAACXBIWXMAAA7EAAAOxAGVKw4bAAAC7UlEQVRYw+2XTWgTQRSAX3bT/Gx+3FPQIriC\n",
       "BRHBUkpFL0Y8B4PnFCoSiCcLLSieerIHFbx4aQ4GApVGhFCL6G3bg4IK5uDNQ3O1l+ql1zrzZtLN\n",
       "dl5mGuYkOPB2Nlne15eX7NuvAOCDZmkvnmA507iVjr278elg7SfApiV9VmwPjr2dzwWl+S44K1bw\n",
       "iQXc3EOFvpL0Q4C6FT0tikvv+go9M90DWLWiZ8V283ZfnFzudBaO6OwsW7Whz+ExEVwRX+77qaj2\n",
       "wukyQMqq8cuiMXADKYl61JmpSz/YnuzZ0Bt4fAf7Zb6n/Ii+/uo160qG9yndwTX+H2rjcRHOYWpq\n",
       "+Ft1nrJP4r6wqb2J987nh7shP/nFSwwlHcItgOJva/odgFMtflIbrh3CPEDOqva2aAx4SPHidNYo\n",
       "t2XT9x0WDAQp7IATxOgz7FsNbWqvsDjDaX/w5b2IXk5eYJ8pXbah77FmH9bB/X6AmPmv4t507n/D\n",
       "GQle14bu9eOvt76ISTBYk1ZzJrOov/7Ibr5va68mQjt6TXs1b/noSwS6q+fh//onl2+WIn9ci0rI\n",
       "QFuijSlamydTrGjlAhFoSyOMCR7j4H2rOtOoBDlwAS6K4LY0ypj4msEjPswLfMAVA9AnuHj/pKoY\n",
       "3JZGGVNER2fK8Lx8H/QJgs7HF4ssYUwqXThTa9BqXYKgw0uMOdWYCLpwplsslsCQIOkNjGXFmCi6\n",
       "cKaSrF+bIOkVjIZiTIMfyjAdnQkKffngjSfEn+mS/gSjrRgTVbtwpmIPvCoYEiT9GkZTMSaKLp3p\n",
       "LlwlFIuk72M0FWOi6NKZZhkfDAmS/hGjrRgT1XdXYLxiSCgW2ffrGDuKMVG1S2dynncJxSJrf4ZR\n",
       "UY2JoEtnmlgnFYuii1/6nmpMsfVBtEQ60xKpWEP/hXU6G2vYpDfAg9uS1zc9Ayb1ikUM+BaGHDcw\n",
       "ljOZEwbDcdtoTIQzmRLgrIya0ZgIZzIlHNXMbUlvTIQzmRIcH+MvEQjkBZMoB2sAAAAASUVORK5C\n",
       "YII=\n",
       "\" style=\"display:inline;vertical-align:middle;\" /></a></span></td></tr>\n",
       "<tr><td>&nbsp;</td><td colspan=4 style=\"text-align:left\"><span style=\"font-size:20px;\"><a class=\"ProveItLink\" href=\"../../../__pv_it/_proof_in_bool_def/f307345efa93fdd6c2df141d735449c4534792f70/expr.ipynb\"><img src=\"data:image/png;base64,iVBORw0KGgoAAAANSUhEUgAAADsAAAAVBAMAAAAKrYvGAAAAMFBMVEX///8AAAAAAAAAAAAAAAAA\n",
       "AAAAAAAAAAAAAAAAAAAAAAAAAAAAAAAAAAAAAAAAAAAv3aB7AAAAD3RSTlMAdrurzZkQ7zJUiSLd\n",
       "ZkQEbk8lAAAACXBIWXMAAA7EAAAOxAGVKw4bAAABHElEQVQoz2NgQAYb8PAYGBgnoHAfgkmh/8pG\n",
       "rgkg1iw01RfA1BcGBqYyIM3mgGaaG4jg+MjAwAnEDKwX0KSvgs34AcS/gAx2NFkGdpCVTB+AGKiE\n",
       "YQq6NAvIOH4FBoZ+ASAjCiHBbSUNFOEyYABL7ToJEvNFSD/fwPSNgYEX5FZ5q1X3wGIn4bJstQys\n",
       "B4AOLgCy9WGCdXBp1g8MPAuAfvoA8Ta6NLsCQ/4DBgY+oG6OXzBBhOH5Agz3gRQn0ALGfzBBRYT0\n",
       "BAYTzg0MvEA/sXyACS6GSzMJcB5lBTphAQOr/icBqGAP0CYlINBmYDNcsVmCgYHnAXIg8TSghdoe\n",
       "FB5vAJp0LCpXG5XLrYDKT0LlMqGlJm4BFK40AwMAeV42yYcqVGcAAAAASUVORK5CYII=\n",
       "\" style=\"display:inline;vertical-align:middle;\" /></a> : <a class=\"ProveItLink\" href=\"../../../__pv_it/_proof_in_bool_def/285061e2f347aa9ce135d7c810bbc901b52e2aed0/expr.ipynb\"><img src=\"data:image/png;base64,iVBORw0KGgoAAAANSUhEUgAAALoAAAAuBAMAAABt1x6XAAAAMFBMVEX///8AAAAAAAAAAAAAAAAA\n",
       "AAAAAAAAAAAAAAAAAAAAAAAAAAAAAAAAAAAAAAAAAAAv3aB7AAAAD3RSTlMAInZUiRDNmWbv3US7\n",
       "qzJazP2FAAAACXBIWXMAAA7EAAAOxAGVKw4bAAAC5UlEQVRYw+2Wz2sTQRTHXxLza/PDxYOgVIyg\n",
       "0IPgD4rSXKx6DhZvQgopUsjNgAWlF3OqlxbqoRfjIRARTBFERewt7UVQocF/oOvRIqQqePFQZ97b\n",
       "BXfnubM7ehH64O3MZme+ebyZefMBABt0lgBjS57F5nDIkELFWH2CmlthY8ZNxdMNbFJ7YYMy04bq\n",
       "2TY122Hpz7UM1fPUXL7mUOd0v99QR60aql+gXVE5Q4v7+hQ7qmmoPk+JgUuYocRc8PuxK4fEs2ao\n",
       "TlG9hNEULl8w+4UHsCWWdFH2F/rSnsVR7+GzBceHqB78fKMNC6KZNIy9gyfq7Z3tgex8ltENfvt8\n",
       "D+CxaEZ/o34d4GBXdurBz48g/VM064bqPUoMWCuyYwXP2jfI7Yq2apj3Tbl0Yr9kdjFFgYqS/g6l\n",
       "xjmAJcPY5V47Irz4FV9vKn9ebbW8fRvfdkSy9+YgtfUDt+TMe7ekfPkgzIaZk58+ilO8ZqhuOf73\n",
       "V++YSpDoGqpHKlBuqTOwjQhjxoxvj/o/iuAPl6b+WkvasG//mdmgJSY7wi8KXyU8WtIR04u4iCX5\n",
       "ChlrIoSYvJqbbEdHrELb46txoqUwYjqPT7zMS7LAlSsaxEpVPL4SLktIGDGR+n0sSXJe0dEgFqnL\n",
       "8iU8zxCTqp7Hutz1Uh02gdSRr1aRlgLExKhnMNirwm+DZoKr3kSfV4iJUz8w9LZIFzQTXPUaelMh\n",
       "Jv/lTOo5XMaS4168/glZnNAf+tQX0XsKMXGxp5AYykOwpkEzwVWfRO8oxMSpl5EYYBYuMojFqo/Q\n",
       "OwoxceqFFfcQzTKIxaqvo/cUYuLyniIZqzxgEIvNexV9UyEmLvYcqSaXnzOIxca+hF5TiYlRz04R\n",
       "mj1hEYtTp52+oxKTz95QSihmOkshE0SSnj7EJEm+WkNashzdHXA0HLGA5SvhbrnR2N24iOUVx40I\n",
       "vJIYxAWcMdfrEYipaMdFLC9mSUs6YjoRF7EkXwn/BesU2iYM4q40AAAAAElFTkSuQmCC\n",
       "\" style=\"display:inline;vertical-align:middle;\" /></a>, <a class=\"ProveItLink\" href=\"../../../../../__pv_it/common/a0d9d672aa5e272d907247690c152cc2c6daafb70/expr.ipynb\"><img src=\"data:image/png;base64,iVBORw0KGgoAAAANSUhEUgAAAAsAAAAJBAMAAAAWSsseAAAAMFBMVEX///8AAAAAAAAAAAAAAAAA\n",
       "AAAAAAAAAAAAAAAAAAAAAAAAAAAAAAAAAAAAAAAAAAAv3aB7AAAAD3RSTlMAEHarMolUmd1mIs3v\n",
       "RLtmgJDEAAAACXBIWXMAAA7EAAAOxAGVKw4bAAAAQklEQVQI12NgEFIWCU1gYChgMmJvYOBcwPmR\n",
       "eQIDCwP7BgYQ4FEAU/cXMAowyF2wYWBlYMh3rGG4xsAgrsRWmcAAAFEjCyBvD0T9AAAAAElFTkSu\n",
       "QmCC\n",
       "\" style=\"display:inline;vertical-align:middle;\" /></a> : <a class=\"ProveItLink\" href=\"../../../__pv_it/common/97424376de9815ad99f7180e3191b1cf4ab2a5710/expr.ipynb\"><img src=\"data:image/png;base64,iVBORw0KGgoAAAANSUhEUgAAAA0AAAAPBAMAAADNDVhEAAAALVBMVEX///8AAAAAAAAAAAAAAAAA\n",
       "AAAAAAAAAAAAAAAAAAAAAAAAAAAAAAAAAAAAAADAOrOgAAAADnRSTlMAdt3vu82rRCIQZolUmTPz\n",
       "mNMAAAAJcEhZcwAADsQAAA7EAZUrDhsAAABSSURBVAjXYxAyiQtWK2BgYHAo5IhMB9FVDDtYIPQa\n",
       "NijNCqEzVoPVTVTbAKKLgh/dhIhLlU4A0yzsGyA0gwOUDoDQPAJAupph414GBlETP5B9AKijF9Z/\n",
       "obYMAAAAAElFTkSuQmCC\n",
       "\" style=\"display:inline;vertical-align:middle;\" /></a>, <a class=\"ProveItLink\" href=\"../../../../../__pv_it/common/ff7dba4ef0bbe791ab573bf2d9c220a304399ac80/expr.ipynb\"><img src=\"data:image/png;base64,iVBORw0KGgoAAAANSUhEUgAAAAsAAAANBAMAAACN24kIAAAAMFBMVEX///8AAAAAAAAAAAAAAAAA\n",
       "AAAAAAAAAAAAAAAAAAAAAAAAAAAAAAAAAAAAAAAAAAAv3aB7AAAAD3RSTlMAEHaZZquJVO8y3btE\n",
       "zSKD2s2pAAAACXBIWXMAAA7EAAAOxAGVKw4bAAAAVklEQVQI12NgVHZgEGVgYGNvYPBnYJjOvIAh\n",
       "moFBgEOBoYmBgeG8AOdPIGXLwNQApLYycAcAKVOG8w5ASjTJ/gEDCOQCMdsFxnYgxaXAmgCk2J1s\n",
       "gCQAaFoNDtFIIdEAAAAASUVORK5CYII=\n",
       "\" style=\"display:inline;vertical-align:middle;\" /></a> : <a class=\"ProveItLink\" href=\"../../../__pv_it/axioms/ed4535ba4c904034cd87635cd46fe674d81be5a40/expr.ipynb\"><img src=\"data:image/png;base64,iVBORw0KGgoAAAANSUhEUgAAADsAAAAVBAMAAAAKrYvGAAAAMFBMVEX///8AAAAAAAAAAAAAAAAA\n",
       "AAAAAAAAAAAAAAAAAAAAAAAAAAAAAAAAAAAAAAAAAAAv3aB7AAAAD3RSTlMAEER2zVSJ3Zki72ar\n",
       "MruaaVGaAAAACXBIWXMAAA7EAAAOxAGVKw4bAAAAp0lEQVQoz2NgYGBUYsAGOCMhtIkiVmmGOw9B\n",
       "JOtHBob2chCogUkwbQBTb0AEWwGYHYykj9UATKUPtDSHAy5pKxAxawMu6fkBDAxznBhwSTMeCWDg\n",
       "7RPAJc0G0sl3AJd0vACayxlRpLPQPSbvgMvf2iCCvRDo0fLyquXl5QdQpSEgEDlGMaUTMKSZFyAE\n",
       "GA2QpVvAieYrQoAZWZZxNZiacRR7WssBhikA4NIpBTRivJ8AAAAASUVORK5CYII=\n",
       "\" style=\"display:inline;vertical-align:middle;\" /></a></span></td></tr><tr><td><a name=\"0x454464354beaaf45_step2\">2</a></td><td>theorem</td><td></td><td><span style=\"font-size:20px;\"> <a class=\"ProveItLink\" href=\"../../../../equality/_theory_nbs_/proofs/sub_left_side_into/thm_proof.ipynb\" style=\"text-decoration: none\">&nbsp;&#x22A2;&nbsp;&nbsp;</a><a class=\"ProveItLink\" href=\"../../../../equality/__pv_it/theorems/fa7b338ac0e02abe373a31648947826ee50d3a400/expr.ipynb\"><img src=\"data:image/png;base64,iVBORw0KGgoAAAANSUhEUgAAAMIAAAAXBAMAAACrPI2eAAAAMFBMVEX///8AAAAAAAAAAAAAAAAA\n",
       "AAAAAAAAAAAAAAAAAAAAAAAAAAAAAAAAAAAAAAAAAAAv3aB7AAAAD3RSTlMAq1RmmUTNIjK7EInv\n",
       "3XZ/CtNrAAAACXBIWXMAAA7EAAAOxAGVKw4bAAACs0lEQVRIx7VWS2gTURQ9k5l08uuYQkFEKQVB\n",
       "wQ9moyCoRIpUqEjQlVZsUEFwNV2KYutWlI4ULLowUQTNRqKIixahVNxUlFFwWRg/IEWIWfhNQL3v\n",
       "N3kxDIikF97c+w7nvfNy372PACtjrnA2VsqcQeHjAZBlwfru7Lv8++qaU2UWbVbQe2Af86e7dPRv\n",
       "QHKRfKqokJ4yLrJsed0RSPwCYjRg5RRk5pkI0oNdyv4PGk0KMi1sESbJ9XQpSck6DVLBhhZ2Enix\n",
       "tPS8SwqrKNtTVD0YoXH/7b05ys0DYD9wI2qJ1TbbKFIRrUC7n3stD468M2D5wA5gHDZVbLw0snd1\n",
       "588W7siXR30uzIKY5SMVPq+d284DkjFds2HQDWyhXcpptnQ38CRKwfSR9nFLgqORCiUVPKO6gsVL\n",
       "dorKK+AX3U9HiFIw8nDqonNEiUe3Q6hABcVuBMdoFPewaAF4RUn+cGGYJsezotelQmYQvVn4Eue1\n",
       "LYnQyEg0lQK/jDE3RWfZStHDM6zpGhinBH80vBPUkkEjMa8pTJTtfthFicfYRTCidZ1sOiTD+aoU\n",
       "bgKVwjqkKdxJ4zw7gfmytolcLhlMktxt3/E0hV21d2XEPYnHvZDIn09FRk9dKVCJbrt0AIdk4RqM\n",
       "amRlSfNn16gagabQxz6xrMQTXouok63Sz0BCV4A7tdgQS+cbRcvIl+Qyf9l7C5lJTeEpz7IncZ4l\n",
       "RhRZCsma9YaA7atogjZOVe35x8inqsQY02rJ/s6dD4E7gSSG2439XVRm2DPhG+iUZumUCzg4WiuT\n",
       "iw1d0xSWm7w+ZyDwpCuJcq0i6zajgrPteEy5u5jW+yHsNI5XQqIwRdat0iEl7KhyA/Fip4LlCnw4\n",
       "JApTZN1seeeO247nlDv8CZ0KmOU4e55yOqzI/2XtfxVS2vff7Q+ss7Q23lQ/yQAAAABJRU5ErkJg\n",
       "gg==\n",
       "\" style=\"display:inline;vertical-align:middle;\" /></a></span></td></tr>\n",
       "<tr><td>&nbsp;</td><td colspan=4 style-\"text-align:left\"><a class=\"ProveItLink\" href=\"../../../../equality/_theory_nbs_/proofs/sub_left_side_into/thm_proof.ipynb\">proveit.logic.equality.sub_left_side_into</a></td></tr><tr><td><a name=\"0x454464354beaaf45_step3\">3</a></td><td>instantiation</td><td><a href=\"#0x454464354beaaf45_step5\">5</a>, <a href=\"#0x454464354beaaf45_step6\">6</a>, <a href=\"#0x454464354beaaf45_step7\">7</a></td><td><span style=\"font-size:20px;\"> <a class=\"ProveItLink\" href=\"../../../__pv_it/_proof_in_bool_def/f7f3e3b2dbd6b24764d9eac7e2783fa75058b6d60/proof.ipynb\" style=\"text-decoration: none\">&nbsp;&#x22A2;&nbsp;&nbsp;</a><a class=\"ProveItLink\" href=\"../../../__pv_it/_proof_in_bool_def/1d8d5e787b44d5fc8a31fb219b84219e99858a7e0/expr.ipynb\"><img src=\"data:image/png;base64,iVBORw0KGgoAAAANSUhEUgAAALoAAAAuBAMAAABt1x6XAAAAMFBMVEX///8AAAAAAAAAAAAAAAAA\n",
       "AAAAAAAAAAAAAAAAAAAAAAAAAAAAAAAAAAAAAAAAAAAv3aB7AAAAD3RSTlMAInZUiRDNmWbv3US7\n",
       "qzJazP2FAAAACXBIWXMAAA7EAAAOxAGVKw4bAAADNklEQVRYw+2XTWgTQRTHX76bbRtzqliUbg+K\n",
       "guAHtaKXRjwpBIPniBEpBDxYaNEiHnLSi4IXQcwlEBRcEUr9oOIlKYigiAHBa3O1IFVEr3XnzWSz\n",
       "k3mzed48OPBmNjP7/vvydvLmFwDIA91Sb8jp2BHR25wGW/wwDhPGwr6XtMO3t363ylSfkcPVwfnE\n",
       "L4AbnmjPelOjNRw+iphqLPFURWptDy4kGzgcDT/QxeGs6OZZ6hkZRGYj/3fqt1nqWTmcOteVFwc9\n",
       "r8JRz5Y46rNyI7iH5Mt9tZcZe5qV+CWZGJjDu2Pz3MwkOxz1KvbPYauAEfWzn6nY1A+IbgSXBzaV\n",
       "0ZrYL8AUxpLuL+yq2dSnRBIT9zix1/EX9e76RktcfBWh4NWeK2BTT33x5XPf2ernAXZgmsvBfO5m\n",
       "yaaeFA8eZcXelIkBB+92+gtjHZv6nHhuosHJ+7r6hafxm8Zdcs+kNPUz+FZbnNiL4gWKUH/gx8uk\n",
       "+sWKsSMzBY76pp/s7XlIfPqNt1/4UNLV1zBhj3w5z3vy0PM6St1Z4ag7Xf3zi/d6JZDtWPgWVJ9k\n",
       "1ZmRBcuCpl4w1Jd59b1tO1VCWy7lhleuiZLR4qmXLfOxn6EnaSfCA7EJmEdfzLUs7PxM318UhWAa\n",
       "/rd/uuWHw0+eMaO/emVIS1ZiUm2VjVg98nGlIS3ZiKlXYA02sjkESLVfmqAlKzEF9R0P83FR4HIu\n",
       "RDvIQpouoQlashJToI5sNCL8xroQ7SDVRfnyLUsQk6ku2ajRS3WUgzoE7qPNmsREqEs2Ou3bIgxx\n",
       "UOpVtCWDmCh1yUYTKv5IB6VeRKsaxKSfxFJdstF4Vx28ukMGHbyOpn4LrWkQExW7ZKNcB5wSDHFQ\n",
       "6ifQ6gYxUeqKjS7BcQKxSPUttLpBTJS6YqMZXx+GOCj112hNg5iovEs2AifXIhCLzPtJtHWDmKjY\n",
       "FRvF764QiEXGfgetaBIToa7YKPWYRCxKXe70TZOYtLYGYTZaJBEr9C8sQKqnIEzQktMddgZMRiMW\n",
       "UeAbaKrcDGnLTMTS/koKa0cQUxBJi4lYQdutrBxBTAHL55mIpT2+rWjJSkyqTbMRq3cy5tH+AODi\n",
       "8cNNlk+bAAAAAElFTkSuQmCC\n",
       "\" style=\"display:inline;vertical-align:middle;\" /></a></span></td></tr>\n",
       "<tr><td>&nbsp;</td><td colspan=4 style=\"text-align:left\"><span style=\"font-size:20px;\"><a class=\"ProveItLink\" href=\"../../../../../__pv_it/common/8968bb04eb3f7dfa02353397ce929b025bbd79c20/expr.ipynb\"><img src=\"data:image/png;base64,iVBORw0KGgoAAAANSUhEUgAAAAwAAAAJBAMAAAD0ltBnAAAALVBMVEX///8AAAAAAAAAAAAAAAAA\n",
       "AAAAAAAAAAAAAAAAAAAAAAAAAAAAAAAAAAAAAADAOrOgAAAADnRSTlMARHarECKJu90yVM1m74AT\n",
       "aC0AAAAJcEhZcwAADsQAAA7EAZUrDhsAAABESURBVAjXY2BUdk0qYmBgYzdi8AtgEOQoYIibwODg\n",
       "J8CwzoGBYR0DgzUDGL9hYWC4xsD1hI2B9SUD04aTDIwNDCw2CwBlUgzGkPW4hwAAAABJRU5ErkJg\n",
       "gg==\n",
       "\" style=\"display:inline;vertical-align:middle;\" /></a> : <a class=\"ProveItLink\" href=\"../../../../../numbers/numerals/__pv_it/common/af4aab8a07465db063742696e006d04670f30cf10/expr.ipynb\"><img src=\"data:image/png;base64,iVBORw0KGgoAAAANSUhEUgAAAAkAAAAOBAMAAAAPuiubAAAAMFBMVEX///8AAAAAAAAAAAAAAAAA\n",
       "AAAAAAAAAAAAAAAAAAAAAAAAAAAAAAAAAAAAAAAAAAAv3aB7AAAAD3RSTlMAIpnNuzKJRKvvEN12\n",
       "ZlQ4bmvwAAAACXBIWXMAAA7EAAAOxAGVKw4bAAAATklEQVQI12NgVDIJYGAQYWD7zsDQyMAwk4Fh\n",
       "/gKGfgGGbgaGfqAEA8N+EMH6B0RyN4BIFRDBC2Y+Y2AUYGBNYOBZwCCtpKQNVPz//2cGAEeID1mi\n",
       "/zO7AAAAAElFTkSuQmCC\n",
       "\" style=\"display:inline;vertical-align:middle;\" /></a>, <a class=\"ProveItLink\" href=\"../../../../../__pv_it/common/a0d9d672aa5e272d907247690c152cc2c6daafb70/expr.ipynb\"><img src=\"data:image/png;base64,iVBORw0KGgoAAAANSUhEUgAAAAsAAAAJBAMAAAAWSsseAAAAMFBMVEX///8AAAAAAAAAAAAAAAAA\n",
       "AAAAAAAAAAAAAAAAAAAAAAAAAAAAAAAAAAAAAAAAAAAv3aB7AAAAD3RSTlMAEHarMolUmd1mIs3v\n",
       "RLtmgJDEAAAACXBIWXMAAA7EAAAOxAGVKw4bAAAAQklEQVQI12NgEFIWCU1gYChgMmJvYOBcwPmR\n",
       "eQIDCwP7BgYQ4FEAU/cXMAowyF2wYWBlYMh3rGG4xsAgrsRWmcAAAFEjCyBvD0T9AAAAAElFTkSu\n",
       "QmCC\n",
       "\" style=\"display:inline;vertical-align:middle;\" /></a> : <a class=\"ProveItLink\" href=\"../../../../../__pv_it/common/09585084922504426caf1db2ff588a23a0932a960/expr.ipynb\"><img src=\"data:image/png;base64,iVBORw0KGgoAAAANSUhEUgAAAA8AAAAPBAMAAADJ+Ih5AAAAMFBMVEX///8AAAAAAAAAAAAAAAAA\n",
       "AAAAAAAAAAAAAAAAAAAAAAAAAAAAAAAAAAAAAAAAAAAv3aB7AAAAD3RSTlMAIs1UmauJMnZmRLsQ\n",
       "3e++988cAAAACXBIWXMAAA7EAAAOxAGVKw4bAAAAXklEQVQI12NgAAEhBijQh9LM/6EMlngBCCMx\n",
       "vwBMMzb0G0BkGOwngBmLGeoTwAwHBvkAEM2xxSV+A4hxgoGB/wJEhoH3AZDmAupg+gBkyAEx90cG\n",
       "htP/dRiY939KAABt3hLO6mcEjQAAAABJRU5ErkJggg==\n",
       "\" style=\"display:inline;vertical-align:middle;\" /></a>, <a class=\"ProveItLink\" href=\"../../../../../__pv_it/common/ff7dba4ef0bbe791ab573bf2d9c220a304399ac80/expr.ipynb\"><img src=\"data:image/png;base64,iVBORw0KGgoAAAANSUhEUgAAAAsAAAANBAMAAACN24kIAAAAMFBMVEX///8AAAAAAAAAAAAAAAAA\n",
       "AAAAAAAAAAAAAAAAAAAAAAAAAAAAAAAAAAAAAAAAAAAv3aB7AAAAD3RSTlMAEHaZZquJVO8y3btE\n",
       "zSKD2s2pAAAACXBIWXMAAA7EAAAOxAGVKw4bAAAAVklEQVQI12NgVHZgEGVgYGNvYPBnYJjOvIAh\n",
       "moFBgEOBoYmBgeG8AOdPIGXLwNQApLYycAcAKVOG8w5ASjTJ/gEDCOQCMdsFxnYgxaXAmgCk2J1s\n",
       "gCQAaFoNDtFIIdEAAAAASUVORK5CYII=\n",
       "\" style=\"display:inline;vertical-align:middle;\" /></a> : <a class=\"ProveItLink\" href=\"../../../__pv_it/axioms/91257219ae58e33613ff524162053da5502f599d0/expr.ipynb\"><img src=\"data:image/png;base64,iVBORw0KGgoAAAANSUhEUgAAADUAAAAVBAMAAAAUZLt1AAAAMFBMVEX///8AAAAAAAAAAAAAAAAA\n",
       "AAAAAAAAAAAAAAAAAAAAAAAAAAAAAAAAAAAAAAAAAAAv3aB7AAAAD3RSTlMAInZUiRDNmWbv3US7\n",
       "qzJazP2FAAAACXBIWXMAAA7EAAAOxAGVKw4bAAAAv0lEQVQoz2NgYBBgwAbAokwGWOU2gQgTBvZV\n",
       "YHABJrwDrKWBgYE1AcRiVkDSYgQmUxkY2BtwyLUzMHAy4JDjDGAwwyXH1sBQgkuO5QJDBi45jgSG\n",
       "xbjkmCcwzMYlx/cBtxz3BDxmLmA4hCQXgOKWAwy+CDnWb8hy7A4MryCGg0NuFVBj1apVM1etWsvA\n",
       "wLWBgesBwiLmACRbpYDGFiC4LMgRWAHEBxHcICQpxgNAIgbBR/YIDyhRMCpgTROKDAwA4X8lji+K\n",
       "TRMAAAAASUVORK5CYII=\n",
       "\" style=\"display:inline;vertical-align:middle;\" /></a></span></td></tr><tr><td><a name=\"0x454464354beaaf45_step4\">4</a></td><td>axiom</td><td></td><td><span style=\"font-size:20px;\"> <a class=\"ProveItLink\" href=\"../../axioms.ipynb#bools_def\" style=\"text-decoration: none\">&nbsp;&#x22A2;&nbsp;&nbsp;</a><a class=\"ProveItLink\" href=\"../../../__pv_it/axioms/0ed31a4273b0db746a43c9d8e01361d0476217f00/expr.ipynb\"><img src=\"data:image/png;base64,iVBORw0KGgoAAAANSUhEUgAAAGYAAAAVBAMAAABGR4Y+AAAAMFBMVEX///8AAAAAAAAAAAAAAAAA\n",
       "AAAAAAAAAAAAAAAAAAAAAAAAAAAAAAAAAAAAAAAAAAAv3aB7AAAAD3RSTlMAdt3vu82rRCIQZolU\n",
       "mTIFPM77AAAACXBIWXMAAA7EAAAOxAGVKw4bAAABA0lEQVQ4y2NgwA44y7GL9zQACSGT+GC1Agw5\n",
       "0UrsevhSJgBJh0KOyHR0KZ6fDAy8SmCQABOrApMsIL5DFcMOFnQ93AoQrQJIYgcRMkA9a9jI0MNK\n",
       "up6M1aTqKZyotoFUPUXBn26CeJfAwaQGluENwKWH0QDiNqnSCWj2NC/ApYfjD0QPCzua49rCGXDp\n",
       "YZgWA9HD4IAW21cm4NSztQCqJwDNPywJuPSAUghYD4ocRrhNQAk3cBhUM2zciy+sOb+ih7WoiT+W\n",
       "dA3Vww4OPqUJYIcbgx0OlcECUGR4JuCSwa2Hm4EoPeDYhoGJyDLQFIIFgGMbBlACdfICXHoYenOw\n",
       "i3cDxQHNskJHEZ2ZVQAAAABJRU5ErkJggg==\n",
       "\" style=\"display:inline;vertical-align:middle;\" /></a></span></td></tr>\n",
       "<tr><td>&nbsp;</td><td colspan=4 style-\"text-align:left\"><a class=\"ProveItLink\" href=\"../../axioms.ipynb#bools_def\">proveit.logic.booleans.bools_def</a></td></tr><tr><td><a name=\"0x454464354beaaf45_step5\">5</a></td><td>axiom</td><td></td><td><span style=\"font-size:20px;\"> <a class=\"ProveItLink\" href=\"../../../../sets/enumeration/_theory_nbs_/axioms.ipynb#enum_set_def\" style=\"text-decoration: none\">&nbsp;&#x22A2;&nbsp;&nbsp;</a><a class=\"ProveItLink\" href=\"../../../../sets/enumeration/__pv_it/axioms/6fb4ff7ba9c954a5bc3bf9289224108e230746630/expr.ipynb\"><img src=\"data:image/png;base64,iVBORw0KGgoAAAANSUhEUgAAAlcAAAAzBAMAAABI7zDSAAAAMFBMVEX///8AAAAAAAAAAAAAAAAA\n",
       "AAAAAAAAAAAAAAAAAAAAAAAAAAAAAAAAAAAAAAAAAAAv3aB7AAAAD3RSTlMAq1RmmUTNIjK7EInv\n",
       "3XZ/CtNrAAAACXBIWXMAAA7EAAAOxAGVKw4bAAAI4klEQVRo3u1be4hUVRj/5nnv3HnsVASaYhOa\n",
       "LPmaSiNDdHKzl5qbkX+o6KSE5B81hhia2uhfFauuhfkA5apR+WgdFRdEqMkILUlGUzFp44qLIsYm\n",
       "Cq1s0HYe93XOvXdeu/eC4geO58ye7zv3/u53vvN953cHoJxIe/fKcF+qgyLe25vp8zSR/F2N0h6K\n",
       "UaS3t7UCWM39MNtDd7dLiZfURsADsHwFtp+z9/I3+zDF+9im4BZaozwE6xm2m0jZjro6uy8PfyBa\n",
       "KiHFJbCiSc/AEk6w/RG2o/w9fQuL+H6uuOVav3kGVpx94FLW/umV+vbwsXrYrY17pOwVWBPYbjDt\n",
       "GliBjEtghTNegXWK7cbYALa940K/gQW/uARWqNsjsBJcMBrOXMW7cj96Fix0K2i95RFY8STbn4r+\n",
       "tV3+5hjZE5fJ5ruVOtOw0whuTM8u2TANoGAddAusMbI3YG3g0nf89DOJIUFyd4uMUIbiftRfhEmG\n",
       "szA9O28yDUgU9SQl2EEk2Z9gHVC8AWsw1z+LJs0Fenwkzhs740rUX4sQHAi71S9JTzr2gOMWR4er\n",
       "+cktsmu55VmRkjdg/cD1f0IpJPEjnEv+ilzgd9xa8jb6kGMKnBa71OhFekEIOgYzMkDr7FyAvdgt\n",
       "sALdnoAl3raChbZEmntJ+uziK9iB5sviHfBr6OBeQ7Nwx9E2Ga5KO77Qua6dONz2BKxEt3UZotvM\n",
       "SWR1ldgU/EUce3SwcC8glwGLDGha36kXAKPcill0fbgOVqTIfbEDYE/zYIiSThe792/EmGGwJNB6\n",
       "5A/WsKUP2D03HUNVdJRMM961k4ftnoAV4ydA2/uYT6fBTJoapxiwnof5aQLWgazWg3UySP8A/Upv\n",
       "GANWXIUGWUsdproG1vcqWMRfhzqD5SN1brreTZcvQdYBfNnlb6IoSQNnm8Ha+d2MHAErfknrCdtQ\n",
       "qwPBEceGzoHaMAYMIZGKgnXeNbAmNVOwprAJjwWsIB4XztWbZvHnJnEm7wodZcuddqAx6wmttxQ+\n",
       "QF9Z16E+4CS8IKrqQsk1sMhtILDW4GlancESsestrzv35U+vHKpdfLfRrHRcBaug9oQtH78KaoBj\n",
       "RB9wEy42qmAF066BRRYIAgsfbERTZWLWYvT/obr9N89/s9l+1yziwxxfAYT2fxWQFLUX6+29icoj\n",
       "a4DXBoSScCNNC4D6n2hlaUhSsAJornC5AP80k2rXKH9b1u8e+yNClIL7J07RoANzDxQrtuwA2J92\n",
       "fAz9A1aruhuiNPpUObBiHR1/FOreRizhRlBsBy59sA/38iFWTuTcAyuWVcF6GWBbObCCeYjI9c4y\n",
       "Q4Z7QeIlFawlIJjTXeHcEZiQNIGF/rqk7lkehXsDrKIKVkSO6qnn+oGb4LGoHJTNSek2OHIfLBUs\n",
       "v6LH9+DLOEFVMlEmgx9df3y/55YhZCeiBilICZnU+PhqFqxwAMXkROfql1B7XhK0JWpqGknmZZrx\n",
       "GwHeGnVz4ES0MkMqfVPLn2sYaX91eoCHQyiTIgUpPTJpjO6aw4AVHY7c45qvdQHOb3rEopbq6E1D\n",
       "2hrkFjZ1sORZmGRNpMpf8Tw7pZoUHE9BKhgilqzWYkkNrJWoRQrSEEmBGyFznQFLwAcU6YiC7lvY\n",
       "VUq0knqNNmd2spX2ilFwvUJSOgKciFbTLaVtlGpScJIRUIUlq7WGjAaWD98QLkgD72zd+hkCa1+Y\n",
       "PXUYQMYT5/QVfMpa+qYEbhalm6zVQcgQU+7wxxaYZJUqxsDFZAIc70QF6lBg5RGyd0FVhoilxZZy\n",
       "p8Ac0eCCVCxQzwqNtjmiaSFLOd4cy8Ml9W+xfI5fiefhZGDKU0YOu4F/SLiAq1zEjSVlJL5t8r5S\n",
       "zQqsTMQfW6C68nGsZs2ukFazK1KQkvU1DuCyBSyh2A4ZqQDx/HzAYGnNSDPswx31Ay6Gbvqvm05A\n",
       "G/i6OQY80WqbMesHqcugHgVuL8M3kK3OELEUk+3OA3SwaEG6HD0V8ULO2NEMz3ptTpcsHgd/0xcE\n",
       "LK2Jco2WlHgCWnL4IwXDxmdhgGA4e5z3++HAEa22EiYegMv3yVCPAnekgW41mKrOELEUTtuVuNxJ\n",
       "qXR066ZyJ6V++Bo+J2CpzaiM/NPYYFJSLpKGUmKc/mR8/IY5FTii1TS7wZrSt3yWqc5SuwJXjmap\n",
       "dzkaamsCSUuDsKVo0i63rvFYeTYMCWVh/amU1nyvtwQhHZmQ7FNmoWn9h43jK/5VooXAEq0mfsHE\n",
       "mgaIQ6KdJ6FAPQqcDNCO+82GphM7Z8jp2EgIaDsVthTg18PPdYCVhjduWJoBAxkITeTOJ8RbnMWz\n",
       "wBGthphIVj9xSDEJcRkqKFAellPgZA2om5K9ITE1HXwaEtiSn1sPwn91gFWH2JCsDNFqEhPJKtLn\n",
       "vAiGaUqOCpSH5RT4OJTzZ8oYkuC0RmVSSyKXEHlEssI0e7DAuDpDDJI1VFRTyEW6kpMC5WE5BU78\n",
       "BZVEcDAU6jHeycCWQpxn+Tyi7+c32y5DnWg1c6IGyaoyrXGxVVdyUqA8LKfAS+kTsBgyxSzka3/B\n",
       "2Ge7MurUfm6XaFC8ASvOJVo7gCNaTaKTrNp1JZ5s1pScFQhbwSnwcuVhKGcIWdkojfsRTqhT87BM\n",
       "kr0Bi98ODwJHtJpEJ1khSPcJ6YKu5KyAeVhOgbCxBiUL8G22rKFgMnRbaMtCjzp1kNumzoA3YPGv\n",
       "Sa4Djmg1iU6y6vNO1pWcFUhdzymc0z5Uxw6myhqSBnV2g08hoQpb4m7bs9ckVRc2LOZ5otUsGsm6\n",
       "CixKjgqEh11VZVBwMhTNQiwfzOSppVWWVeoRWGHWpTHJ6kS0GiRrE1iUnBQoD9tUZVDIOEC+PwUf\n",
       "QXxtnlpq4jddr8ASuR8NbAYnhs8gWS0MeRkFwsMKrVVejb2hP2EQwOuQOEzJed7aWfAKLO40kJCs\n",
       "9kSrwZpG+IPdmhWcxN7QUOMME1virHn4cxT+h06C4ki06nLNUgrXquAklQwRS5y1WVAlWM/1w48z\n",
       "F8BdLSI9N5X2tlUC6/6PM+Er6i74x5n/A7VG70C6mvdEAAAAAElFTkSuQmCC\n",
       "\" style=\"display:inline;vertical-align:middle;\" /></a></span></td></tr>\n",
       "<tr><td>&nbsp;</td><td colspan=4 style-\"text-align:left\"><a class=\"ProveItLink\" href=\"../../../../sets/enumeration/_theory_nbs_/axioms.ipynb#enum_set_def\">proveit.logic.sets.enumeration.enum_set_def</a></td></tr><tr><td><a name=\"0x454464354beaaf45_step6\">6</a></td><td>conjecture</td><td></td><td><span style=\"font-size:20px;\"> <a class=\"ProveItLink\" href=\"../../../../../numbers/numerals/decimals/_theory_nbs_/proofs/nat2/thm_proof.ipynb\" style=\"text-decoration: none\">&nbsp;&#x22A2;&nbsp;&nbsp;</a><a class=\"ProveItLink\" href=\"../../../../../numbers/numerals/decimals/__pv_it/theorems/c5da86d5508e181a625c8aa785bd1ba0345b9e710/expr.ipynb\"><img src=\"data:image/png;base64,iVBORw0KGgoAAAANSUhEUgAAADIAAAAQBAMAAACmdTG/AAAAMFBMVEX///8AAAAAAAAAAAAAAAAA\n",
       "AAAAAAAAAAAAAAAAAAAAAAAAAAAAAAAAAAAAAAAAAAAv3aB7AAAAD3RSTlMAIpnNuzKJRKvvEN12\n",
       "ZlQ4bmvwAAAACXBIWXMAAA7EAAAOxAGVKw4bAAAA6UlEQVQY02NgQAdc+12sGNjmT2dgVDIJQJVi\n",
       "eVDBwLCegUGEge07qgzHRrYLDJwMDI0MDDPRZJ4wGDJwMzDMX8DQLwAWObJ7twFYRvaAMEimm4Gh\n",
       "H2xR8SmYHoFWngRuMHM/iGC0gpsmwMLgDpZh/QMimQUQMqwKq1eDWNwNYBmECwQY7vF5glgqYH7k\n",
       "biBwgMpwLOgEMnjBWhiWIOvhagCZ9oyBEWQFN7IMQwwL0P4EBp4FQD7PAXjoAD3BE8LAIK2kpA0W\n",
       "sIPJMD8AEspAz/z//xkssMJ9AZhmtZ8CJBcjh1eZNyR0oAAAgjkuwI39QLgAAAAASUVORK5CYII=\n",
       "\" style=\"display:inline;vertical-align:middle;\" /></a></span></td></tr>\n",
       "<tr><td>&nbsp;</td><td colspan=4 style-\"text-align:left\"><a class=\"ProveItLink\" href=\"../../../../../numbers/numerals/decimals/_theory_nbs_/proofs/nat2/thm_proof.ipynb\">proveit.numbers.numerals.decimals.nat2</a></td></tr><tr><td><a name=\"0x454464354beaaf45_step7\">7</a></td><td>instantiation</td><td><a href=\"#0x454464354beaaf45_step8\">8</a></td><td><span style=\"font-size:20px;\"> <a class=\"ProveItLink\" href=\"../../../__pv_it/_proof_in_bool_def/b41d0b4b197251ca2aa9ce5f358cb0c9c2a127ed0/proof.ipynb\" style=\"text-decoration: none\">&nbsp;&#x22A2;&nbsp;&nbsp;</a><a class=\"ProveItLink\" href=\"../../../__pv_it/_proof_in_bool_def/6bcba13780b6185bbdf5dba1b6f7f4b866f182c00/expr.ipynb\"><img src=\"data:image/png;base64,iVBORw0KGgoAAAANSUhEUgAAAMoAAAAVBAMAAAD1I2xhAAAAMFBMVEX///8AAAAAAAAAAAAAAAAA\n",
       "AAAAAAAAAAAAAAAAAAAAAAAAAAAAAAAAAAAAAAAAAAAv3aB7AAAAD3RSTlMAIolEdjJUEM2ZZu/d\n",
       "u6v6CvZmAAAACXBIWXMAAA7EAAAOxAGVKw4bAAAB8ElEQVRIx52VsU4CQRCGBzg44I4LJjYmmpDQ\n",
       "K4WVNligiaUvoIWJhRYUFlZKZ2JlrIBYUEqhuc7ChsQQQ0IMFvbU2kBhoMPdOY4d4GYlTjG3t5l/\n",
       "v5vd2TlIg7QQBFqa+LlpRkMt5Mdn8bkbHLWJPjs7rdVQi+TH8aiIZeC+Le19ErAlnVHjKUID0Tee\n",
       "sFL+BNinlAt8OaZB3ss1TxGay/KA36wObOQgXiSUKkep8xSpMXiKkwbLheQtobgcxSqyFFdPsQbg\n",
       "9AGeFSVW4ijxGkdBjS6XBjg/ADeKkshwlHCXo6BGQxFm9wDWFQW/OJCSLPmUBNZgu+tTUKOnHIo6\n",
       "flAU+4ijxFwuF9ToKfJanCqKleMo0R5HQY2WkujIfBahRNz/U56k215oxxrcufy5Y6I3LAGcKUoq\n",
       "rxY2p0+/w+WCGkkx5wF44Q8A9gAeFQXrdbzwVYlSsF4DKagJ98cC6cwhHYRalYrYiDtFiTZUg7Rl\n",
       "AxSt8wVbp53jKFLjfA+/PIEtO0nLH7RFMvZoNBLEV9JhmmSJE7reKt/HmoEC70iKk57ZIJQ6CcnQ\n",
       "+CpPqQcKvI6hqrlGKCn1OzTz0+2bpfiaKYFn55PRGv2/mJ3JvEHDvZWCKb7GmK8xxf0YxxfwuRxc\n",
       "8zvoC7PTWg01w8u38At2xIOxfg3a2gAAAABJRU5ErkJggg==\n",
       "\" style=\"display:inline;vertical-align:middle;\" /></a></span></td></tr>\n",
       "<tr><td>&nbsp;</td><td colspan=4 style=\"text-align:left\"><span style=\"font-size:20px;\"><a class=\"ProveItLink\" href=\"../../../../../__pv_it/common/c06c606ec12678c58933ac85412ecadc2ae28be60/expr.ipynb\"><img src=\"data:image/png;base64,iVBORw0KGgoAAAANSUhEUgAAAAsAAAAJBAMAAAAWSsseAAAAMFBMVEX///8AAAAAAAAAAAAAAAAA\n",
       "AAAAAAAAAAAAAAAAAAAAAAAAAAAAAAAAAAAAAAAAAAAv3aB7AAAAD3RSTlMAIquJdkTvuxBmmd1U\n",
       "zTKBpmoTAAAACXBIWXMAAA7EAAAOxAGVKw4bAAAARUlEQVQI12NgYFR2dGBgYAgTYP/BwMCRycC1\n",
       "gYGB6wMDtwEDA1sBQ38AA0O/A8N8oIr+Awy6PAIM7A48u7iAKlXshPwYAE2lCqdX0eXEAAAAAElF\n",
       "TkSuQmCC\n",
       "\" style=\"display:inline;vertical-align:middle;\" /></a> : <a class=\"ProveItLink\" href=\"../../../__pv_it/common/95025295868b9266d37330b4427adf122f6061770/expr.ipynb\"><img src=\"data:image/png;base64,iVBORw0KGgoAAAANSUhEUgAAAA4AAAAOBAMAAADtZjDiAAAAG1BMVEX///8AAAAAAAAAAAAAAAAA\n",
       "AAAAAAAAAAAAAAB4Gco9AAAACHRSTlMAmd2rVHZEZkA3AkMAAAAJcEhZcwAADsQAAA7EAZUrDhsA\n",
       "AAAYSURBVAjXYxBSAgFlBiBwZYAAWtHpQAwAFRwEg6MlY1sAAAAASUVORK5CYII=\n",
       "\" style=\"display:inline;vertical-align:middle;\" /></a>, <a class=\"ProveItLink\" href=\"../../../../../__pv_it/common/195236b98c6c564a75b5dbada74b173bc52d5c3e0/expr.ipynb\"><img src=\"data:image/png;base64,iVBORw0KGgoAAAANSUhEUgAAAAkAAAAOBAMAAAAPuiubAAAAMFBMVEX///8AAAAAAAAAAAAAAAAA\n",
       "AAAAAAAAAAAAAAAAAAAAAAAAAAAAAAAAAAAAAAAAAAAv3aB7AAAAD3RSTlMAELvv3c2ZVESJq3Yi\n",
       "MmZ3LnoBAAAACXBIWXMAAA7EAAAOxAGVKw4bAAAAT0lEQVQI12NgVHZgAALWBBDJXwAi+wVA5BQQ\n",
       "wRC1ezkDA+NXAfkDDOwfGZg3MLAFMPBPYGCZwNBfAFKeL8DAf4HRjoGB6wET0AjGlXkMDAAVqA7Q\n",
       "GyenWgAAAABJRU5ErkJggg==\n",
       "\" style=\"display:inline;vertical-align:middle;\" /></a> : <a class=\"ProveItLink\" href=\"../../../__pv_it/common/e0f123f2e4f322e1eba7f861749cda9fd9d99a120/expr.ipynb\"><img src=\"data:image/png;base64,iVBORw0KGgoAAAANSUhEUgAAAA4AAAAPBAMAAAAmOuNHAAAAHlBMVEX///8AAAAAAAAAAAAAAAAA\n",
       "AAAAAAAAAAAAAAAAAACGjDitAAAACXRSTlMARGZUdpnd76sKo+zpAAAACXBIWXMAAA7EAAAOxAGV\n",
       "Kw4bAAAAGElEQVQI12NgQAAhKG1CSzosLa08LS0DAJuOBVCdynDUAAAAAElFTkSuQmCC\n",
       "\" style=\"display:inline;vertical-align:middle;\" /></a></span></td></tr><tr><td><a name=\"0x454464354beaaf45_step8\">8</a></td><td>conjecture</td><td></td><td><span style=\"font-size:20px;\"> <a class=\"ProveItLink\" href=\"../../../../../numbers/numerals/decimals/_theory_nbs_/proofs/tuple_len_2_typical_eq/thm_proof.ipynb\" style=\"text-decoration: none\">&nbsp;&#x22A2;&nbsp;&nbsp;</a><a class=\"ProveItLink\" href=\"../../../../../numbers/numerals/decimals/__pv_it/theorems/10b037baccf1e1ebd13cf393d16f9c41951216fd0/expr.ipynb\"><img src=\"data:image/png;base64,iVBORw0KGgoAAAANSUhEUgAAAPsAAAAWBAMAAAD0hvfJAAAAMFBMVEX///8AAAAAAAAAAAAAAAAA\n",
       "AAAAAAAAAAAAAAAAAAAAAAAAAAAAAAAAAAAAAAAAAAAv3aB7AAAAD3RSTlMAq1RmmUTNIjK7EInv\n",
       "3XZ/CtNrAAAACXBIWXMAAA7EAAAOxAGVKw4bAAADO0lEQVRIx72WQWgTQRSGXzbbZnezmwQFLxUJ\n",
       "CD1YlQhFqIcaSC2CoAGvxUZ6ED1tQRDBSjyrNLeKiKwXoRRMqhS9iAERRBGiVJRCYNVDgwfJqZUe\n",
       "rPNm522S3UwWPPhChp+3b/9vZnZnZgFkYbOfEMEL/bIikYDISFBrDyhKZWGNRG9c4O1a8AYv8T0a\n",
       "P+Rimyxyowzqg+GiMTIc60oaDxqsPzk5XqkBaBty9NXpewA/BB6NTqG+FKozSsIQRSeG86y5Isc/\n",
       "Bng0vSOf9wq8KsKw4+HR6JaXDYaaE4ZqrjudxicxLscX8GnJ8TEbzDrE8wLPjLAryWyo0CRDsyc9\n",
       "ix03HSm+Phhv7kBsG+CdwDOjOBvdcLhwlAxHe9Iv+RPIyfBKKWL0DYj9BpgTeDT60Gy+DxeeIQKK\n",
       "xMim66Uv/trD7szI8GptMJ6F1QZYFXg0Og1wP1w1RwQUM7buWRpbTtWGeIkuqk0eGcLzeRmMX2QD\n",
       "OS7waDQPiQxd0y6T+kQEJozXoDZ4VtkB0wWlLhu9lY3Ef2T/wwKPRrqDSsQIiTdEYEJtg1Xz1kMJ\n",
       "0jXQ2jK8WYzCq7jIFgUejRS368172w9vVqDq9ZD1YjYLQ/V/xx/DZkbguVFpkjUrk89x8v98c8KT\n",
       "X3XhpL/szzmgNGTPPnLy2a54DeAITT4aPWWbj/FF28Y7N1J5r+4hEZioZmGfYhuIL7P3AOIV2eh1\n",
       "V+CNMJmP6zbAT4AJevXQ6AbrvJrXcCL0XFzssatEWEVTZV2FKrsSy+l5sbz64vmSTLKBYDFvjK1u\n",
       "kVifmmp4ixnx3ChWxoeWwjvNsipWwV0iMGEceDHfAoudJMYI7qpWUYbXmHds/9ZeXgwWzuQ6iSYb\n",
       "vrW7u8u68lngLXrnq7Z+gl1Ogyn2X6ssCCi8OERiQb7nfw0Vdx674x88DYFf8Ddje/G8swKWMyES\n",
       "eCyskfCiRqIgx4+Hiv1I9hxnHF/wPwEKR5/Bnax21qXMEhGW6Ah2O6emFK/bgeJOPPHVdXHeBw/a\n",
       "7oNvmQjL9PlDVzxEf7xRCRR3otOhJYHXe7+2hpzuLwMXWiR6Y5O3raC9l7gZ/bGV4tRUWRj5EYf/\n",
       "Hn8B42zx2J9lj5gAAAAASUVORK5CYII=\n",
       "\" style=\"display:inline;vertical-align:middle;\" /></a></span></td></tr>\n",
       "<tr><td>&nbsp;</td><td colspan=4 style-\"text-align:left\"><a class=\"ProveItLink\" href=\"../../../../../numbers/numerals/decimals/_theory_nbs_/proofs/tuple_len_2_typical_eq/thm_proof.ipynb\">proveit.numbers.numerals.decimals.tuple_len_2_typical_eq</a></td></tr></table>"
      ],
      "text/plain": [
       "\tstep type\trequirements\tstatement\n",
       "0\tgeneralization\t1\t|- forall_{A} ((A in BOOLEAN) = ((A = TRUE) or (A = FALSE)))\n",
       "1\tinstantiation\t2, 3, 4\t|- (A in BOOLEAN) =  \\\\ ((A = TRUE) or (A = FALSE))\n",
       "\tP(_a) : (A in _a) =  \\\\ ((A = TRUE) or (A = FALSE)), x : BOOLEAN, y : {TRUE, FALSE}\n",
       "2\ttheorem\t\t|- forall_{P, x, y | P(y), x = y} P(x)\n",
       "\tproveit.logic.equality.sub_left_side_into\n",
       "3\tinstantiation\t5, 6, 7\t|- (A in {TRUE, FALSE}) =  \\\\ ((A = TRUE) or (A = FALSE))\n",
       "\tn : 2, x : A, y : (TRUE, FALSE)\n",
       "4\taxiom\t\t|- BOOLEAN = {TRUE, FALSE}\n",
       "\tproveit.logic.booleans.bools_def\n",
       "5\taxiom\t\t|- forall_{n in Natural} [forall_{x, y_{1}, y_{2}, ..., y_{n}} ((x in {y_{1}, y_{2}, ..., y_{n}}) =  \\\\ ((x = y_{1}) or  (x = y_{2}) or  ... or  (x = y_{n})))]\n",
       "\tproveit.logic.sets.enumeration.enum_set_def\n",
       "6\tconjecture\t\t|- 2 in Natural\n",
       "\tproveit.numbers.numerals.decimals.nat2\n",
       "7\tinstantiation\t8\t|- |(TRUE, FALSE)| = |(1, ..., 2)|\n",
       "\ta : TRUE, b : FALSE\n",
       "8\tconjecture\t\t|- forall_{a, b} (|(a, b)| = |(1, ..., 2)|)\n",
       "\tproveit.numbers.numerals.decimals.tuple_len_2_typical_eq"
      ]
     },
     "execution_count": 7,
     "metadata": {},
     "output_type": "execute_result"
    }
   ],
   "source": [
    "%qed"
   ]
  },
  {
   "cell_type": "code",
   "execution_count": null,
   "metadata": {},
   "outputs": [],
   "source": []
  }
 ],
 "metadata": {
  "kernelspec": {
   "display_name": "Python 3",
   "language": "python",
   "name": "python3"
  }
 },
 "nbformat": 4,
 "nbformat_minor": 0
}