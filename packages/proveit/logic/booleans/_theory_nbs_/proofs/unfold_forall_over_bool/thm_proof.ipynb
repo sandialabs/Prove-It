{
 "cells": [
  {
   "cell_type": "markdown",
   "metadata": {},
   "source": [
    "Proof of <a class=\"ProveItLink\" href=\"../../../../../_theory_nbs_/theory.ipynb\">proveit</a>.<a class=\"ProveItLink\" href=\"../../../../_theory_nbs_/theory.ipynb\">logic</a>.<a class=\"ProveItLink\" href=\"../../theory.ipynb\">booleans</a>.<a class=\"ProveItLink\" href=\"../../theorems.ipynb#unfold_forall_over_bool\">unfold_forall_over_bool</a> theorem\n",
    "========"
   ]
  },
  {
   "cell_type": "code",
   "execution_count": 1,
   "metadata": {},
   "outputs": [],
   "source": [
    "import proveit\n",
    "theory = proveit.Theory() # the theorem's theory"
   ]
  },
  {
   "cell_type": "code",
   "execution_count": 2,
   "metadata": {},
   "outputs": [
    {
     "data": {
      "text/html": [
       "With these <a href=\"allowed_presumptions.txt\">allowed</a>/<a href=\"disallowed_presumptions.txt\">disallowed</a> theorem/theory presumptions (e.g., to avoid circular dependencies), we begin our proof of<br><strong id=\"unfold_forall_over_bool\">unfold_forall_over_bool:</strong> <a class=\"ProveItLink\" href=\"../../../__pv_it/theorems/6f3d64076e5a70fbcdd1480224324d45bb2b5d1a0/expr.ipynb\"><img src=\"data:image/png;base64,iVBORw0KGgoAAAANSUhEUgAAAVUAAAAVBAMAAAAEDWDFAAAAMFBMVEX///8AAAAAAAAAAAAAAAAA\n",
       "AAAAAAAAAAAAAAAAAAAAAAAAAAAAAAAAAAAAAAAAAAAv3aB7AAAAD3RSTlMAq1RmmUTNIjK7EInv\n",
       "3XZ/CtNrAAAACXBIWXMAAA7EAAAOxAGVKw4bAAAEV0lEQVRIx41XX4hUVRj/vPN/7s7dEYxSH3Yg\n",
       "iCj/zIMJPhQbmqRLuNSLDxJTa0Qu6LVAkKydoBcf2p0iWzfEGXoQfFBmlSVyWdqChTCTVSwiGLgk\n",
       "IkG6q9TmKrh93znn3u+cuWeW/eA7c8/9ft/v/O75PwA28+HO77Ay88OHDLo9y++c0MkyBtyPkbB5\n",
       "JZhYoVSEkh0BSAX4O9EZEquJhA72Z/T0puZFevG0iXyeGrUFogbri6u/2q2gZIfQb3bQSpC/lj5f\n",
       "u78ha8mWsKJIsLM6TSrfEC/L7K/Qi3eNnHyFGrUE2LoRcqohocS9hEW6YdUqIQsAuctRzRFdmm5I\n",
       "hFtqY4UzorpJlAfYP6HZUTPYk2Vq1BJgG8HGNgcSShk9OJ0SvVatApJ9jAIfhzWllRLIzlXaWGG7\n",
       "pnULO32ca8wo6BKDaQmwzVXRmxKK9u33WIfLhtavNTbwHqA/CmtKKyWQ3XyijRWmNa1djcgT+KFp\n",
       "U8gzQqslwFYnr0oodn8wRx81YGg9rrFBbh79QVgLtQ5IxOzxNlanomlNl9l/abV+NoX0yUUSD7At\n",
       "ymEVUBxY2ExDO25oTTSZDbprcoRVgtI6LivNtG+yJpuaVrfI/ioPl7IBqTUKNGJSkTEzVYp65nUY\n",
       "IfatSqta6P8wG+n88Dp3pdK6VXac7/SarOmypjVRYT8MGVScqve9/KRScl1qlQFcuj/J187g/htq\n",
       "/nr3Ji/2h1CAXhgi5AZzbTlvR2wwt37yBa6FWjeIEhfxHyZroaRpdabZcw2XAC8CTKlGZqRWFQD3\n",
       "PhbDa09A0Hz/WYmg6RdBwftyRw9tGCNt+8CZmQhSBz0h1DoiyqcA7pqsXf2a1uw8uxOIFbQGP97U\n",
       "qgKw9yoOK04I1Op+wxshN30eX8zi7z5Ta2bQjyALVq37wv33nMlqaE1Ns0PlJXr1I8A1cw6oAARv\n",
       "yTMJtX5wSW2ETQ2KUwAKRLTRnK+/+REk+wj0hFDrxvAkSJYMVnMOzLLDBToVMg/hsNqa4bTSKgLg\n",
       "wU7IizMh2HGlqjbCfg2aog2Fhm+b0a+pGkO8f0FLiLRuE8Ko9YrBmgv0tVVjh2O0LhJX7z4X8o0r\n",
       "rSIAe+FvIYf69dNbfPxH0GPE/p/cjzStRzRIel5PiLSKDUwM3kmD1S1qWmkDCx1WUWetKnIrnymt\n",
       "IgB9kz2NxHtjY1/QfHUFYNfSaYaeXToATn0BmX41tJ5kSLK+GGjcoL6dEgDWUTFssGZxuF9rta60\n",
       "WjgtC/3sajqXuZVCVWvUAxiqZpuyX12vbaMtVLW1NGto9S2QeILd9GvwR5pLG9LussYlBC9m3SV5\n",
       "KKDW4TbS8PrBV56Y6ZB4gt22aM/bNVdXx0taeJQbTf4A+T3vwFE6pQ8OjsXYR/nxaIf76+hyCXbL\n",
       "cc/RVS90m52NNZr/buxEJ6iuYmJ5SDzBbvmaITt067+dAKZW+H8rE/0R8ZDszsyykHhCJ/s4errN\n",
       "/j9v8Wwg29zDaAAAAABJRU5ErkJggg==\n",
       "\" style=\"display:inline;vertical-align:middle;\" /></a><br>(see <a class=\"ProveItLink\" href=\"../../../__pv_it/theorems/fdd96f875664b549b3d7a09ae81ccad1031c9a510/dependencies.ipynb\">dependencies</a>)<br>"
      ],
      "text/plain": [
       "<IPython.core.display.HTML object>"
      ]
     },
     "metadata": {},
     "output_type": "display_data"
    }
   ],
   "source": [
    "%proving unfold_forall_over_bool"
   ]
  },
  {
   "cell_type": "code",
   "execution_count": null,
   "metadata": {},
   "outputs": [],
   "source": []
  }
 ],
 "metadata": {
  "kernelspec": {
   "display_name": "Python 3",
   "language": "python",
   "name": "python3"
  }
 },
 "nbformat": 4,
 "nbformat_minor": 0
}