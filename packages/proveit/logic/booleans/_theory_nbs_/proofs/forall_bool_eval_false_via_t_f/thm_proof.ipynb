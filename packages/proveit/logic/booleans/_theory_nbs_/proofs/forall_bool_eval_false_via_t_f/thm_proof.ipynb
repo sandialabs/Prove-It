{
 "cells": [
  {
   "cell_type": "markdown",
   "metadata": {},
   "source": [
    "Proof of <a class=\"ProveItLink\" href=\"../../../../../_theory_nbs_/theory.ipynb\">proveit</a>.<a class=\"ProveItLink\" href=\"../../../../_theory_nbs_/theory.ipynb\">logic</a>.<a class=\"ProveItLink\" href=\"../../theory.ipynb\">booleans</a>.<a class=\"ProveItLink\" href=\"../../theorems.ipynb#forall_bool_eval_false_via_t_f\">forall_bool_eval_false_via_t_f</a> theorem\n",
    "========"
   ]
  },
  {
   "cell_type": "code",
   "execution_count": 1,
   "metadata": {},
   "outputs": [],
   "source": [
    "import proveit\n",
    "theory = proveit.Theory() # the theorem's theory"
   ]
  },
  {
   "cell_type": "code",
   "execution_count": 2,
   "metadata": {},
   "outputs": [
    {
     "data": {
      "text/html": [
       "With these <a href=\"allowed_presumptions.txt\">allowed</a>/<a href=\"disallowed_presumptions.txt\">disallowed</a> theorem/theory presumptions (e.g., to avoid circular dependencies), we begin our proof of<br><strong id=\"forall_bool_eval_false_via_t_f\">forall_bool_eval_false_via_t_f:</strong> <a class=\"ProveItLink\" href=\"../../../__pv_it/theorems/8fd09a0c4cc60980b025af2225ace99e3317986f0/expr.ipynb\"><img src=\"data:image/png;base64,iVBORw0KGgoAAAANSUhEUgAAAgkAAAAVBAMAAAA+x2ACAAAAMFBMVEX///8AAAAAAAAAAAAAAAAA\n",
       "AAAAAAAAAAAAAAAAAAAAAAAAAAAAAAAAAAAAAAAAAAAv3aB7AAAAD3RSTlMAq1RmmUTNIjK7EInv\n",
       "3XZ/CtNrAAAACXBIWXMAAA7EAAAOxAGVKw4bAAAFVUlEQVRYw41YXYhbRRQ+m9zkJns3dyMoVn1o\n",
       "UMiD2m3AtSBFWd0K6rYS9EkoJdBCoQjdfSkU+xMfxZ+NKGqKNHmQwqKVbEWrXUqjIEirkhYKIg3G\n",
       "Llh8aVbBdbeFrnPOzNw7c3PPugPnJme+zD3f+ebM3LkBiGvThtm91Fzgmvs/Pe7gzdjgcXf3u1XY\n",
       "WDPJ8qOm12HiF0Kze2VL9bjYg8h1xtvD8t/DotfBK29QBEX2kKTEDtOx8ug8ZGOPGPbn2rv37WvK\n",
       "XqdLLQ+L0buxSKIlGDVW7/rgBe0BvEw0SzGkAiQWFaO98hB9K8UnZZKldlDYYrwKVqxn0dlv4cOV\n",
       "0ACWAbIXQXsJmux0M4ajhXiqcE7hZVQM/bipPRij64GYLEIkDj2F6TiYUJqrYpssJNYkpTgVrFiv\n",
       "49Kp2RNbCg0yd8TN7qhenWtyglNBI6clDZjEy6yAtva0p+KPsyqMM+gkqpDB4j3MiBAhC87maaLE\n",
       "q6Bi4eR51vqHEcPAXxF2W3sqV7jIqaCRxXvkZxsvfbE59VvaU/FHmhwzRAw0q7+2qbRx9s5wu4FN\n",
       "Fs5eqBIlXgUVKylUS9t40TDILglb0Z7OdS+rgkI6b8hOKokGWlV7Kn66xDFDxEAzqlJxtEjnMfG1\n",
       "wqgQIev2+gWixKugY/3U7V6y8SnDYLQmK1p6Otd5VoV5tZHJpevQdrgqa1V5Kr6X55ghYqLb1UJt\n",
       "kQoj3e61FqNChKwDW0tEiVdBx3oO4ISN7zUMb/ralXCSVa7brAfDACK2r8REMOFCAfd8IZx+GT9J\n",
       "E7qLbnHZYoaIif42EUybSMepqjUyPJhZhOxLMNsiSlKF9WLNgCvySDWmnr5X4VcMg/4DC48HvUGu\n",
       "j7K1IBGx5/6KnzlM3v9r4Yty4On4iTY3P4hYaLGgR4t0BNsZ6v1MHYWKX+16Rv0wQnYCjueJEl8L\n",
       "Ola2Sb95EuC8wr83jNZ00BvkOsuqIJFNADdp8ymr1QqBp+NnljhmiFjo8KtlNRqpnoAvqfeCUCXz\n",
       "e73se+6DShCbrP/+js01osSroGMlerQ53i2UjFNhOVaF3awKu/WJ43SQ92glToUUWwuIWOihs2Co\n",
       "MCY3x9RbIuAOkb7vwblCcFwwyH4uQneIEq9CEKvyFLrfAVyOWRGZ22D0BrluYfeFLfrM5BT0GpjV\n",
       "m5m9IjrcWkXERLv7wVgRkE5SJD+dl0dMUQvb5cM0QlZsJ7k2UeL3hSDWGXwCu7dgRh+FThrm/wNG\n",
       "b5DrE2wtEJLDO+KMZbGzr2ci2zP3pRo3P4iY6CvhaEzHK1LOPacCcySHs/MHdVywyKbwIbhElPha\n",
       "CGIdwclM/nzzYY3PG5ZeMnuDXKdYFQih6vpIPw4P6p+ox98YhA/ROGaIGKhbCUdjOu63VMpVv63e\n",
       "BbzMizJLm+wRVO5fosSrEMQawq1lyHg+vx2a01jtGb1SYNGuxrxOGsj9eHkHa1QU2/NrJ/X5p0Nl\n",
       "+SOVZS7KzEIMNFsNR1M6m4j+wvwt2Fav1wtiX2iRZjbZubUDkGgst5CSt8FYI8ZJLlcNze4NpqfD\n",
       "/sEQQX5hvaPsW/FRG3WN0WE6PXBX4E1ZC9CKvtBHyPIv5Has48ZbGr4RabN7zfet+BZFxllvklVh\n",
       "kkHHDRWw8v6WxyehwtdRFSJkeRWsWH7jnAF9aJjdq9phNoMokp1mPLfGllONQcXoIJ2defhkuezi\n",
       "3lP845v3Bn5rk2VVYGOJNmeY3TsYg48uDzw1xsuyf7khEouK0dF0Pq3Xy2wKISVWBTYWvYuFZveq\n",
       "ymEzGESOMd4NVsgbLHoMvI3+72iR9a+V14/1HzNA1Js49JmaAAAAAElFTkSuQmCC\n",
       "\" style=\"display:inline;vertical-align:middle;\" /></a><br>(see <a class=\"ProveItLink\" href=\"../../../__pv_it/theorems/0140b410400a20c7ace6d871b68f2e9d5041696f0/dependencies.ipynb\">dependencies</a>)<br>"
      ],
      "text/plain": [
       "<IPython.core.display.HTML object>"
      ]
     },
     "metadata": {},
     "output_type": "display_data"
    }
   ],
   "source": [
    "%proving forall_bool_eval_false_via_t_f"
   ]
  },
  {
   "cell_type": "code",
   "execution_count": null,
   "metadata": {},
   "outputs": [],
   "source": []
  }
 ],
 "metadata": {
  "kernelspec": {
   "display_name": "Python 3",
   "language": "python",
   "name": "python3"
  }
 },
 "nbformat": 4,
 "nbformat_minor": 0
}