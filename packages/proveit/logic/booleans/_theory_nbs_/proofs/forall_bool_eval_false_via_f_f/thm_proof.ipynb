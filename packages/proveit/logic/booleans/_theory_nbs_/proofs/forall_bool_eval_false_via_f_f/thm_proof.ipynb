{
 "cells": [
  {
   "cell_type": "markdown",
   "metadata": {},
   "source": [
    "Proof of <a class=\"ProveItLink\" href=\"../../../../../_theory_nbs_/theory.ipynb\">proveit</a>.<a class=\"ProveItLink\" href=\"../../../../_theory_nbs_/theory.ipynb\">logic</a>.<a class=\"ProveItLink\" href=\"../../theory.ipynb\">booleans</a>.<a class=\"ProveItLink\" href=\"../../theorems.ipynb#forall_bool_eval_false_via_f_f\">forall_bool_eval_false_via_f_f</a> theorem\n",
    "========"
   ]
  },
  {
   "cell_type": "code",
   "execution_count": 1,
   "metadata": {},
   "outputs": [],
   "source": [
    "import proveit\n",
    "theory = proveit.Theory() # the theorem's theory"
   ]
  },
  {
   "cell_type": "code",
   "execution_count": 2,
   "metadata": {},
   "outputs": [
    {
     "data": {
      "text/html": [
       "With these <a href=\"allowed_presumptions.txt\">allowed</a>/<a href=\"disallowed_presumptions.txt\">disallowed</a> theorem/theory presumptions (e.g., to avoid circular dependencies), we begin our proof of<br><strong id=\"forall_bool_eval_false_via_f_f\">forall_bool_eval_false_via_f_f:</strong> <a class=\"ProveItLink\" href=\"../../../__pv_it/theorems/97a0a2eda71b075d3ef0b5dacd5c6d82a27ee2e70/expr.ipynb\"><img src=\"data:image/png;base64,iVBORw0KGgoAAAANSUhEUgAAAgkAAAAVBAMAAAA+x2ACAAAAMFBMVEX///8AAAAAAAAAAAAAAAAA\n",
       "AAAAAAAAAAAAAAAAAAAAAAAAAAAAAAAAAAAAAAAAAAAv3aB7AAAAD3RSTlMAq1RmmUTNIjK7EInv\n",
       "3XZ/CtNrAAAACXBIWXMAAA7EAAAOxAGVKw4bAAAFXklEQVRYw41Yb2hbVRQ/TV7zkr7mNYLi1A8L\n",
       "Cv2grgtYBzKUaieo3SToJ2GMwITBENZ+GQz3J34U/zSiqBmy9IMMik7SiU5XxqIgyHTSDQQZDYsb\n",
       "OPyyVMHabrB6z7l/3r0v79ReOC8595f7zu/87rn33ReApDZpmdtLzQeu+f/T4/fejA2edPewXYWN\n",
       "NZssP2pyHSZhMTK3V7b+Dhe7F7nGeHtY/ntY9BoE5Q2KoMgelJTYYTpWAZ2HXOwRy/5ce+++V2dk\n",
       "r9emVoDrSQKU8BpHUk3BqLF614cvaA/gZaJZSriHQRJRMToo99G3UnJSNllqBySlJBWcWM+is8/B\n",
       "ByqRASwD5C6A9lI02ZmZBI4OEqjCOYmXITH0kxntwQhd9ydkESFJ6ElMx8OEMlwVu2QhtSYpJang\n",
       "xHoDl07Nwb1SZJC9I252R/XqXNNjnAoaOSVpwDhepgW0taM9FX+UVWGUQcdRhSwW7yFGhBhZ8DZP\n",
       "EiVeBRULJy9w1j8MWgbhirDb2lO5wgVOBY1cv0d+tvDSFZtTt6k9FX9whmOGiIXm9NcWlTbO3mlu\n",
       "N3DJwpnzVaLEq6BipYVqGRcftgxyS8JWtKdz3cuqoJCFN2UnlUQDrao9FT9T4pghYqFZVak4WqTz\n",
       "mPhaYVSIkfU73SJR4lXQsS622z+5+IRlMFSTFS09nescq8Kc2sjk0vVoO1yVtao8FT8ocMwQsdHt\n",
       "aqE2SYXBdnuxyagQI+vB1hJR4lXQsZ4DOO7iey3Dm75+OZpkles2CqIfGT2I2L5SY2bChQL+uWI0\n",
       "/TJ+miZ0F93iksMMERu9OmamTaTjVdUaGejNLEb2JZhuEiWpwnqxpsAXefQ3Jp6+V+GXLYPuA/OP\n",
       "m16T66NsLUhE7LlX8DOPyYd/zX9ZNp6On2px84OIgw4X9WiRjmA7Rb2fq6PQ8Ne7nlE/jJEdg2MF\n",
       "osTXgo6Vm6HfPAlwTuE/WEZr2vSaXKdZFSSyCeAmbT5ltVrBeDp+doljhoiDDrxWVqOR6nH4inrP\n",
       "C1Wyv9fLYeA/qARxyYYf7NhcI0q8CjpWqkOb491CySQVlhNV2M2qsFufOE6ZvIcqSSr0s7WAiIMe\n",
       "PAOWCiNyc+x/WwTcIdIPAzhbNMcFi+wXIvQCUeJVMLEqT6H7PcClhBWRvQ1Wr8l1C7svbNFnJq+o\n",
       "18C03szcFbHArVVEbLS9D6wVAZk0RQozBXnEFLWwXT5MY2TFdpJvESV+XzCxTuMT2L8FU/oodMKy\n",
       "8B+wek2uT7C1QEge74gzlsPOrp6JXMfel2rc/CBio69EozGdYJhy7ngVmCU5vJ0/quOCQxaP9Jkl\n",
       "osTXgol1GCcz/cvNhzU+Z1lmye41uU6wKhBC1fWxfhwe0D9Rj78RiB6iScwQsVC/Eo3GdPzvqJSr\n",
       "YUu9CwTZF2WWLtnDqNy/RIlXwcTqw62lz3o+vxOZ11jtWL36nQl+jd1SLI7Fi7Q4CLkfL+9ijYpi\n",
       "e37thD7/LFBZ/kxlmY8zcxALzVWj0ZTOJoo4P3cLttXr9aLYF5qkmUt2dm0/pBrLTaQUbDDWoHWS\n",
       "y1cjc3vN9CywfzDEkN9Y7wj7VnzERX1rdJROB/wVeEvWAjTjL/QxsvwLuRvrmPWWhm9E2txe+30r\n",
       "ucWRUdYbZ1UYZ9BRSwWsyb/l8Umo8E1chRhZXgUnVtg4a0EfWeb2qnaIzSCO5CYZz6+x5VRjUDHa\n",
       "pLOzAJ8ul33ce4b/+Pb9nt+6ZFkV2FiizVrm9vbG4KPLA0+N8XLsX26IJKJidDydz+r1MptCRIlV\n",
       "gY1F72KRub2qctgMepGjjHeDFfIGix6FYKP/Ozpkw8Xy+rH+A5jk1IoLSHZTAAAAAElFTkSuQmCC\n",
       "\" style=\"display:inline;vertical-align:middle;\" /></a><br>(see <a class=\"ProveItLink\" href=\"../../../__pv_it/theorems/3d3b00fd278c445fad476e18d44bbcb5f1b849e40/dependencies.ipynb\">dependencies</a>)<br>"
      ],
      "text/plain": [
       "<IPython.core.display.HTML object>"
      ]
     },
     "metadata": {},
     "output_type": "display_data"
    }
   ],
   "source": [
    "%proving forall_bool_eval_false_via_f_f"
   ]
  },
  {
   "cell_type": "code",
   "execution_count": null,
   "metadata": {},
   "outputs": [],
   "source": []
  }
 ],
 "metadata": {
  "kernelspec": {
   "display_name": "Python 3",
   "language": "python",
   "name": "python3"
  }
 },
 "nbformat": 4,
 "nbformat_minor": 0
}