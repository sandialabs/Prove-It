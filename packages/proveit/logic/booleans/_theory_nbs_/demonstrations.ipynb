{
 "cells": [
  {
   "cell_type": "markdown",
   "metadata": {},
   "source": [
    "Demonstrations for the theory of <a class=\"ProveItLink\" href=\"theory.ipynb\">proveit.logic.booleans</a>\n",
    "========"
   ]
  },
  {
   "cell_type": "code",
   "execution_count": 1,
   "metadata": {},
   "outputs": [],
   "source": [
    "import proveit\n",
    "from proveit.logic import Boolean, TRUE, FALSE, in_bool, Implies, Not, And, Or, Forall\n",
    "from proveit.logic import Equals, NotEquals, InSet\n",
    "from proveit import A, B, C, P, Q, PofA, QofA, Function\n",
    "from proveit.logic import PofTrue, PofFalse, QimplPofTrue, QimplPofFalse\n",
    "%begin demonstrations"
   ]
  },
  {
   "cell_type": "code",
   "execution_count": 2,
   "metadata": {},
   "outputs": [
    {
     "data": {
      "text/html": [
       "<span style=\"font-size:20px;\"> <a class=\"ProveItLink\" href=\"proofs/true_eq_true/thm_proof.ipynb\" style=\"text-decoration: none\">&nbsp;&#x22A2;&nbsp;&nbsp;</a><a class=\"ProveItLink\" href=\"../__pv_it/theorems/a3c4d9088d0ab0d98fc5c16af22cc7989fca846c0/expr.ipynb\"><img src=\"data:image/png;base64,iVBORw0KGgoAAAANSUhEUgAAADoAAAAOBAMAAACMfhKgAAAAG1BMVEX///8AAAAAAAAAAAAAAAAA\n",
       "AAAAAAAAAAAAAAB4Gco9AAAACHRSTlMAmd2rVHZEZkA3AkMAAAAJcEhZcwAADsQAAA7EAZUrDhsA\n",
       "AAAlSURBVBjTYxBSAgFlBlSAJOrKgA24otEDJYvq/KFsbzpWWZAoADztCsNxuhVlAAAAAElFTkSu\n",
       "QmCC\n",
       "\" style=\"display:inline;vertical-align:middle;\" /></a></span>"
      ],
      "text/plain": [
       "|- TRUE = TRUE"
      ]
     },
     "metadata": {},
     "output_type": "display_data"
    }
   ],
   "source": [
    "Equals(TRUE, TRUE).prove()"
   ]
  },
  {
   "cell_type": "code",
   "execution_count": 3,
   "metadata": {},
   "outputs": [
    {
     "data": {
      "text/html": [
       "<span style=\"font-size:20px;\"> <a class=\"ProveItLink\" href=\"proofs/false_eq_false/thm_proof.ipynb\" style=\"text-decoration: none\">&nbsp;&#x22A2;&nbsp;&nbsp;</a><a class=\"ProveItLink\" href=\"../__pv_it/theorems/0dc31a1e81c5de06b89b764fee8cb294469b24ec0/expr.ipynb\"><img src=\"data:image/png;base64,iVBORw0KGgoAAAANSUhEUgAAADoAAAAPBAMAAABHIsEFAAAAHlBMVEX///8AAAAAAAAAAAAAAAAA\n",
       "AAAAAAAAAAAAAAAAAACGjDitAAAACXRSTlMARGZUdpnd76sKo+zpAAAACXBIWXMAAA7EAAAOxAGV\n",
       "Kw4bAAAAJ0lEQVQY02NgIASE8IqaYJU1GSSyYWkgkDHU7QUaV44wjgFhCUgUABR0EBcbuIghAAAA\n",
       "AElFTkSuQmCC\n",
       "\" style=\"display:inline;vertical-align:middle;\" /></a></span>"
      ],
      "text/plain": [
       "|- FALSE = FALSE"
      ]
     },
     "metadata": {},
     "output_type": "display_data"
    }
   ],
   "source": [
    "Equals(FALSE, FALSE).prove()"
   ]
  },
  {
   "cell_type": "code",
   "execution_count": 4,
   "metadata": {},
   "outputs": [
    {
     "data": {
      "text/html": [
       "<span style=\"font-size:20px;\"> <a class=\"ProveItLink\" href=\"proofs/true_not_false/thm_proof.ipynb\" style=\"text-decoration: none\">&nbsp;&#x22A2;&nbsp;&nbsp;</a><a class=\"ProveItLink\" href=\"../__pv_it/theorems/870a060ad7dcb1bd4612ad00133aadda1058053b0/expr.ipynb\"><img src=\"data:image/png;base64,iVBORw0KGgoAAAANSUhEUgAAADoAAAAUCAMAAADrw95cAAAAPFBMVEX///8AAAAAAAAAAAAAAAAA\n",
       "AAAAAAAAAAAAAAAAAAAAAAAAAAAAAAAAAAAAAAAAAAAAAAAAAAAAAAAAAAAo1xBWAAAAE3RSTlMA\n",
       "md2rVHZEZhAyuyLNief16fPv5qk81QAAAAlwSFlzAAAOxAAADsQBlSsOGwAAAIJJREFUOMudk8sS\n",
       "gCAIRdFMRe3l/39si5qmFEaCncDhCiLAyExkI/ZlUx/H1Hp8+BzdzJVO2HqaXBbF/iJSNGUt6onu\n",
       "hWjJv9F77utGzF2mSonKUG9Ai5Kiol73g9wxiWqht1eAOgMStFlpRvR6slq5r/IUX0BrJWrJoBe1\n",
       "alHAYcYJBMMC19FFXLsAAAAASUVORK5CYII=\n",
       "\" style=\"display:inline;vertical-align:middle;\" /></a></span>"
      ],
      "text/plain": [
       "|- TRUE != FALSE"
      ]
     },
     "metadata": {},
     "output_type": "display_data"
    }
   ],
   "source": [
    "NotEquals(TRUE, FALSE).prove()"
   ]
  },
  {
   "cell_type": "code",
   "execution_count": 5,
   "metadata": {},
   "outputs": [
    {
     "data": {
      "text/html": [
       "<span style=\"font-size:20px;\"><a class=\"ProveItLink\" href=\"../__pv_it/theorems/a80dd87b84d6ebecfbeb8f329cbbb1f9711c031a0/expr.ipynb\"><img src=\"data:image/png;base64,iVBORw0KGgoAAAANSUhEUgAAAKoAAAAVBAMAAAAkxGgRAAAAMFBMVEX///8AAAAAAAAAAAAAAAAA\n",
       "AAAAAAAAAAAAAAAAAAAAAAAAAAAAAAAAAAAAAAAAAAAv3aB7AAAAD3RSTlMAInZUiRDNmWbv3US7\n",
       "qzJazP2FAAAACXBIWXMAAA7EAAAOxAGVKw4bAAABwUlEQVQ4y42Uv0vDQBTHv01sk6Y/zCQognFz\n",
       "s4goulhxFotzBzsU3CxYUJw66aLQxUWXgiBYEUQX3dTF0fwHzezSurjWvLsrNql354O8u0ve95N3\n",
       "734AcKE09x9vIpYgZxRYf0IW9BB/oRNkvNAt8v5e/ONRm+wORiP2QSYgIIudA5I7bGz2/whaYL5K\n",
       "LlcKXZ6yUAlMCkCqBIunYnVcGfWEnE3x2YAiFQJOtWtI8/H6ViCjpilNtAalVAk4FedY4uvmzRdk\n",
       "1BRLbiN89qmjEgjqLup8PlhryKhj/mDJKV+lQFA3Qy7ZI7rF4YUfptpseXIBDI8nMiywmKDtR6jH\n",
       "uGJtDTO+LFezST7vw2EFVgkEdQWXbGO/H3ReZNR8jzUVLLNWJRDULg/aBsZbMmqmKTZ/5ZcqEQjq\n",
       "M59QDXCasrqaXO7keXJRwZ91XcWbOGipnixXm9OMs3vWqgSCehruAmCSzs2XjGqxxUbyGmLbyAWC\n",
       "WscnUO5XYX58F0eCnvjUeY78DEAuCItxc8GKcQsngMamokO9INGiq0Bjh9GhXkD3z6vuz/F9qRNg\n",
       "OnzKmphs/MbTCdhvE546ZnYkeY3AcPED34Z5XWvCTmMAAAAASUVORK5CYII=\n",
       "\" style=\"display:inline;vertical-align:middle;\" /></a> <a class=\"ProveItLink\" href=\"../__pv_it/demonstrations/65d7914d537d62a794e827b7e6c6f88f2da885740/proof.ipynb\" style=\"text-decoration: none\">&nbsp;&#x22A2;&nbsp;&nbsp;</a><a class=\"ProveItLink\" href=\"../__pv_it/theorems/a10dbfd9a4efbb6f30af430036ab01697a9460f80/expr.ipynb\"><img src=\"data:image/png;base64,iVBORw0KGgoAAAANSUhEUgAAADYAAAAQBAMAAACvnpHFAAAAMFBMVEX///8AAAAAAAAAAAAAAAAA\n",
       "AAAAAAAAAAAAAAAAAAAAAAAAAAAAAAAAAAAAAAAAAAAv3aB7AAAAD3RSTlMAIs1UmauJMnZmRLsQ\n",
       "3e++988cAAAACXBIWXMAAA7EAAAOxAGVKw4bAAAA40lEQVQY02NgAAEhBhTAcW/Tp7dRUI4+qhwD\n",
       "N1eD0NEFYCbzfwy5CWwCG8BMlngBDDlOgwAwMzG/AGrR3ruX4HIKIBZjQ78BWIpL4wBcH6tkAthI\n",
       "BvsJEOcegJvZ0xsGZi1mqAerYVBE2Hfp/RWwQgcGeYi9Ckhu4ZilA3LAFpd4sHvZ3969e/c2VI5h\n",
       "wzIg4wQDA/8FkAjPBiR9DBu4wUYy8D4AC11AkWMCOhzoRqYPYKEOFDkLBgY5EPsjWIjJAC6XwNbm\n",
       "wHD6vw4D8/5PYE/wRK+BBI/ebkQ8wABXNiTMIAAAYXA8zHUEOxUAAAAASUVORK5CYII=\n",
       "\" style=\"display:inline;vertical-align:middle;\" /></a></span>"
      ],
      "text/plain": [
       "{(A = TRUE) or (A = FALSE)} |- A in BOOLEAN"
      ]
     },
     "metadata": {},
     "output_type": "display_data"
    }
   ],
   "source": [
    "in_bool(A).fold(assumptions=[Or(Equals(A, TRUE), Equals(A, FALSE))])"
   ]
  },
  {
   "cell_type": "code",
   "execution_count": 6,
   "metadata": {},
   "outputs": [
    {
     "data": {
      "text/html": [
       "<span style=\"font-size:20px;\"> <a class=\"ProveItLink\" href=\"proofs/true_is_bool/thm_proof.ipynb\" style=\"text-decoration: none\">&nbsp;&#x22A2;&nbsp;&nbsp;</a><a class=\"ProveItLink\" href=\"../__pv_it/theorems/e3b19f0f51dc50d19100f70b446827a15792e4b10/expr.ipynb\"><img src=\"data:image/png;base64,iVBORw0KGgoAAAANSUhEUgAAADYAAAAQBAMAAACvnpHFAAAAMFBMVEX///8AAAAAAAAAAAAAAAAA\n",
       "AAAAAAAAAAAAAAAAAAAAAAAAAAAAAAAAAAAAAAAAAAAv3aB7AAAAD3RSTlMAmd2rVHZEZrvNECIy\n",
       "74mi4C5kAAAACXBIWXMAAA7EAAAOxAGVKw4bAAAAn0lEQVQY02NgwAJYdTt/XjJjYBBSAgFlVEkO\n",
       "toCdixNALFcMjRxsBXwbGnDKsTsYoMpFKClNgMtNQJHLjELoY97+AFmOexbCzKggOwZkOc4NCDnN\n",
       "+4oLUOSQ3cJaNgtZ7izIpw1QOYaGPGS5Fcj6GBo4kOWYUOU4keVYA1DkXFH8NwUh94AvTgDESocJ\n",
       "LW5bADFgbgc4HlBAXhMkzCAAAO/EJ1PPeY0iAAAAAElFTkSuQmCC\n",
       "\" style=\"display:inline;vertical-align:middle;\" /></a></span>"
      ],
      "text/plain": [
       "|- TRUE in BOOLEAN"
      ]
     },
     "metadata": {},
     "output_type": "display_data"
    }
   ],
   "source": [
    "InSet(TRUE, Boolean).prove()"
   ]
  },
  {
   "cell_type": "code",
   "execution_count": 7,
   "metadata": {},
   "outputs": [
    {
     "data": {
      "text/html": [
       "<span style=\"font-size:20px;\"> <a class=\"ProveItLink\" href=\"proofs/false_is_bool/thm_proof.ipynb\" style=\"text-decoration: none\">&nbsp;&#x22A2;&nbsp;&nbsp;</a><a class=\"ProveItLink\" href=\"../__pv_it/theorems/bbc9c63ce37f7c83a6285a585c4d279490a0c9400/expr.ipynb\"><img src=\"data:image/png;base64,iVBORw0KGgoAAAANSUhEUgAAADYAAAAQBAMAAACvnpHFAAAAMFBMVEX///8AAAAAAAAAAAAAAAAA\n",
       "AAAAAAAAAAAAAAAAAAAAAAAAAAAAAAAAAAAAAAAAAAAv3aB7AAAAD3RSTlMARGZUdpnd76u7zRAi\n",
       "MolMqJcyAAAACXBIWXMAAA7EAAAOxAGVKw4bAAAAn0lEQVQY02NgwAJY0mf9KmsEM4UwJDkZHU7t\n",
       "EACxTLDIKfAdmIBTjsmgAVXOMy1tAVxuAYqclDdCH8ehB8hyPKsRZnq79TEgy3EdQMhl1aduQJFD\n",
       "dguL4mpkuetpQDABKscwQQ5ZbieyPoYJnMhybKhyXMhyLA4ociYo/luMkHvA5xfAEJaWVp6WlgEW\n",
       "2jFxA8SA5TNh8YAActMgYQYBALQtJ5ZTVaF7AAAAAElFTkSuQmCC\n",
       "\" style=\"display:inline;vertical-align:middle;\" /></a></span>"
      ],
      "text/plain": [
       "|- FALSE in BOOLEAN"
      ]
     },
     "metadata": {},
     "output_type": "display_data"
    }
   ],
   "source": [
    "InSet(FALSE, Boolean).prove()"
   ]
  },
  {
   "cell_type": "code",
   "execution_count": 8,
   "metadata": {},
   "outputs": [
    {
     "data": {
      "text/html": [
       "<span style=\"font-size:20px;\"><a class=\"ProveItLink\" href=\"../../../__pv_it/common/09585084922504426caf1db2ff588a23a0932a960/expr.ipynb\"><img src=\"data:image/png;base64,iVBORw0KGgoAAAANSUhEUgAAAA8AAAAPBAMAAADJ+Ih5AAAAMFBMVEX///8AAAAAAAAAAAAAAAAA\n",
       "AAAAAAAAAAAAAAAAAAAAAAAAAAAAAAAAAAAAAAAAAAAv3aB7AAAAD3RSTlMAIs1UmauJMnZmRLsQ\n",
       "3e++988cAAAACXBIWXMAAA7EAAAOxAGVKw4bAAAAXklEQVQI12NgAAEhBijQh9LM/6EMlngBCCMx\n",
       "vwBMMzb0G0BkGOwngBmLGeoTwAwHBvkAEM2xxSV+A4hxgoGB/wJEhoH3AZDmAupg+gBkyAEx90cG\n",
       "htP/dRiY939KAABt3hLO6mcEjQAAAABJRU5ErkJggg==\n",
       "\" style=\"display:inline;vertical-align:middle;\" /></a> <a class=\"ProveItLink\" href=\"../__pv_it/demonstrations/ac9d6c5586606ed52f402eb7e868274c6cc481330/proof.ipynb\" style=\"text-decoration: none\">&nbsp;&#x22A2;&nbsp;&nbsp;</a><a class=\"ProveItLink\" href=\"../__pv_it/theorems/a10dbfd9a4efbb6f30af430036ab01697a9460f80/expr.ipynb\"><img src=\"data:image/png;base64,iVBORw0KGgoAAAANSUhEUgAAADYAAAAQBAMAAACvnpHFAAAAMFBMVEX///8AAAAAAAAAAAAAAAAA\n",
       "AAAAAAAAAAAAAAAAAAAAAAAAAAAAAAAAAAAAAAAAAAAv3aB7AAAAD3RSTlMAIs1UmauJMnZmRLsQ\n",
       "3e++988cAAAACXBIWXMAAA7EAAAOxAGVKw4bAAAA40lEQVQY02NgAAEhBhTAcW/Tp7dRUI4+qhwD\n",
       "N1eD0NEFYCbzfwy5CWwCG8BMlngBDDlOgwAwMzG/AGrR3ruX4HIKIBZjQ78BWIpL4wBcH6tkAthI\n",
       "BvsJEOcegJvZ0xsGZi1mqAerYVBE2Hfp/RWwQgcGeYi9Ckhu4ZilA3LAFpd4sHvZ3969e/c2VI5h\n",
       "wzIg4wQDA/8FkAjPBiR9DBu4wUYy8D4AC11AkWMCOhzoRqYPYKEOFDkLBgY5EPsjWIjJAC6XwNbm\n",
       "wHD6vw4D8/5PYE/wRK+BBI/ebkQ8wABXNiTMIAAAYXA8zHUEOxUAAAAASUVORK5CYII=\n",
       "\" style=\"display:inline;vertical-align:middle;\" /></a></span>"
      ],
      "text/plain": [
       "{A} |- A in BOOLEAN"
      ]
     },
     "metadata": {},
     "output_type": "display_data"
    }
   ],
   "source": [
    "in_bool(A).prove(assumptions=[A])"
   ]
  },
  {
   "cell_type": "markdown",
   "metadata": {},
   "source": [
    "in_bool_if_false"
   ]
  },
  {
   "cell_type": "code",
   "execution_count": 9,
   "metadata": {},
   "outputs": [
    {
     "data": {
      "text/html": [
       "<span style=\"font-size:20px;\"><a class=\"ProveItLink\" href=\"../__pv_it/theorems/c6244e76de3be0816f3efc36199d65e50f6589940/expr.ipynb\"><img src=\"data:image/png;base64,iVBORw0KGgoAAAANSUhEUgAAABwAAAAPBAMAAAAFYbKSAAAAMFBMVEX///8AAAAAAAAAAAAAAAAA\n",
       "AAAAAAAAAAAAAAAAAAAAAAAAAAAAAAAAAAAAAAAAAAAv3aB7AAAAD3RSTlMAmd0iq81UiTJ2ZkS7\n",
       "EO8Z3gX6AAAACXBIWXMAAA7EAAAOxAGVKw4bAAAAaUlEQVQI12NgQADmAAZkwPoBhZuPyhX5jMxj\n",
       "N/+BzLXk/IbMFWD7hcTjTuD4zsAgpAQEikAuIwPzF6iMCRDPERT5g+DyTmBg+ITgMgIpPSjXkIFh\n",
       "F5CKRzj/AZA4bwDl8Z7/eoEh5384AEaRFfDwb8v9AAAAAElFTkSuQmCC\n",
       "\" style=\"display:inline;vertical-align:middle;\" /></a> <a class=\"ProveItLink\" href=\"../__pv_it/demonstrations/df10f4a523c22dc178025f3e375da5e9e0ab40000/proof.ipynb\" style=\"text-decoration: none\">&nbsp;&#x22A2;&nbsp;&nbsp;</a><a class=\"ProveItLink\" href=\"../__pv_it/theorems/a10dbfd9a4efbb6f30af430036ab01697a9460f80/expr.ipynb\"><img src=\"data:image/png;base64,iVBORw0KGgoAAAANSUhEUgAAADYAAAAQBAMAAACvnpHFAAAAMFBMVEX///8AAAAAAAAAAAAAAAAA\n",
       "AAAAAAAAAAAAAAAAAAAAAAAAAAAAAAAAAAAAAAAAAAAv3aB7AAAAD3RSTlMAIs1UmauJMnZmRLsQ\n",
       "3e++988cAAAACXBIWXMAAA7EAAAOxAGVKw4bAAAA40lEQVQY02NgAAEhBhTAcW/Tp7dRUI4+qhwD\n",
       "N1eD0NEFYCbzfwy5CWwCG8BMlngBDDlOgwAwMzG/AGrR3ruX4HIKIBZjQ78BWIpL4wBcH6tkAthI\n",
       "BvsJEOcegJvZ0xsGZi1mqAerYVBE2Hfp/RWwQgcGeYi9Ckhu4ZilA3LAFpd4sHvZ3969e/c2VI5h\n",
       "wzIg4wQDA/8FkAjPBiR9DBu4wUYy8D4AC11AkWMCOhzoRqYPYKEOFDkLBgY5EPsjWIjJAC6XwNbm\n",
       "wHD6vw4D8/5PYE/wRK+BBI/ebkQ8wABXNiTMIAAAYXA8zHUEOxUAAAAASUVORK5CYII=\n",
       "\" style=\"display:inline;vertical-align:middle;\" /></a></span>"
      ],
      "text/plain": [
       "{[not](A)} |- A in BOOLEAN"
      ]
     },
     "metadata": {},
     "output_type": "display_data"
    }
   ],
   "source": [
    "in_bool(A).conclude(assumptions=[Not(A)])"
   ]
  },
  {
   "cell_type": "code",
   "execution_count": 10,
   "metadata": {},
   "outputs": [
    {
     "data": {
      "text/html": [
       "<span style=\"font-size:20px;\"><a class=\"ProveItLink\" href=\"../../../__pv_it/common/09585084922504426caf1db2ff588a23a0932a960/expr.ipynb\"><img src=\"data:image/png;base64,iVBORw0KGgoAAAANSUhEUgAAAA8AAAAPBAMAAADJ+Ih5AAAAMFBMVEX///8AAAAAAAAAAAAAAAAA\n",
       "AAAAAAAAAAAAAAAAAAAAAAAAAAAAAAAAAAAAAAAAAAAv3aB7AAAAD3RSTlMAIs1UmauJMnZmRLsQ\n",
       "3e++988cAAAACXBIWXMAAA7EAAAOxAGVKw4bAAAAXklEQVQI12NgAAEhBijQh9LM/6EMlngBCCMx\n",
       "vwBMMzb0G0BkGOwngBmLGeoTwAwHBvkAEM2xxSV+A4hxgoGB/wJEhoH3AZDmAupg+gBkyAEx90cG\n",
       "htP/dRiY939KAABt3hLO6mcEjQAAAABJRU5ErkJggg==\n",
       "\" style=\"display:inline;vertical-align:middle;\" /></a> <a class=\"ProveItLink\" href=\"../__pv_it/demonstrations/3d298524987f0b0d9d1816bccc87ae0a949024740/proof.ipynb\" style=\"text-decoration: none\">&nbsp;&#x22A2;&nbsp;&nbsp;</a><a class=\"ProveItLink\" href=\"../__pv_it/theorems/412820f5a9331033282d07eeef8e2db8dc17b0090/expr.ipynb\"><img src=\"data:image/png;base64,iVBORw0KGgoAAAANSUhEUgAAADoAAAAUCAMAAADrw95cAAAAPFBMVEX///8AAAAAAAAAAAAAAAAA\n",
       "AAAAAAAAAAAAAAAAAAAAAAAAAAAAAAAAAAAAAAAAAAAAAAAAAAAAAAAAAAAo1xBWAAAAE3RSTlMA\n",
       "Is1UmauJMnZmRLsQ3e/n9enzhfMsDgAAAAlwSFlzAAAOxAAADsQBlSsOGwAAAL1JREFUOMudktkS\n",
       "wyAIRUFxiUvSlv//18akaesympEHRxkO16sAfAMFtIICDENwK2t8mXFLmZHcRL2pCm11McXYEFUw\n",
       "RDVqNg1RHKJowbKsylwtWqGUzC710+EQdbugYf3rFI/YHmlVXZTSnVndES1Q64n2Fy6/0BGM0HAe\n",
       "ON4RzdFP87jmXp+v03HH6zVZ5SSK9vT+oXiJ+XycJEEfDZ75aC/TRndFzy9b15aNrLmG2RBhllzm\n",
       "ReO0KJhhxRsvswX9antpPAAAAABJRU5ErkJggg==\n",
       "\" style=\"display:inline;vertical-align:middle;\" /></a></span>"
      ],
      "text/plain": [
       "{A} |- A != FALSE"
      ]
     },
     "metadata": {},
     "output_type": "display_data"
    }
   ],
   "source": [
    "NotEquals(A, FALSE).prove(assumptions=[A])"
   ]
  },
  {
   "cell_type": "markdown",
   "metadata": {},
   "source": [
    "from_not_false"
   ]
  },
  {
   "cell_type": "code",
   "execution_count": 11,
   "metadata": {},
   "outputs": [
    {
     "data": {
      "text/html": [
       "<span style=\"font-size:20px;\"><a class=\"ProveItLink\" href=\"../__pv_it/theorems/a10dbfd9a4efbb6f30af430036ab01697a9460f80/expr.ipynb\"><img src=\"data:image/png;base64,iVBORw0KGgoAAAANSUhEUgAAADYAAAAQBAMAAACvnpHFAAAAMFBMVEX///8AAAAAAAAAAAAAAAAA\n",
       "AAAAAAAAAAAAAAAAAAAAAAAAAAAAAAAAAAAAAAAAAAAv3aB7AAAAD3RSTlMAIs1UmauJMnZmRLsQ\n",
       "3e++988cAAAACXBIWXMAAA7EAAAOxAGVKw4bAAAA40lEQVQY02NgAAEhBhTAcW/Tp7dRUI4+qhwD\n",
       "N1eD0NEFYCbzfwy5CWwCG8BMlngBDDlOgwAwMzG/AGrR3ruX4HIKIBZjQ78BWIpL4wBcH6tkAthI\n",
       "BvsJEOcegJvZ0xsGZi1mqAerYVBE2Hfp/RWwQgcGeYi9Ckhu4ZilA3LAFpd4sHvZ3969e/c2VI5h\n",
       "wzIg4wQDA/8FkAjPBiR9DBu4wUYy8D4AC11AkWMCOhzoRqYPYKEOFDkLBgY5EPsjWIjJAC6XwNbm\n",
       "wHD6vw4D8/5PYE/wRK+BBI/ebkQ8wABXNiTMIAAAYXA8zHUEOxUAAAAASUVORK5CYII=\n",
       "\" style=\"display:inline;vertical-align:middle;\" /></a>, <a class=\"ProveItLink\" href=\"../__pv_it/theorems/412820f5a9331033282d07eeef8e2db8dc17b0090/expr.ipynb\"><img src=\"data:image/png;base64,iVBORw0KGgoAAAANSUhEUgAAADoAAAAUCAMAAADrw95cAAAAPFBMVEX///8AAAAAAAAAAAAAAAAA\n",
       "AAAAAAAAAAAAAAAAAAAAAAAAAAAAAAAAAAAAAAAAAAAAAAAAAAAAAAAAAAAo1xBWAAAAE3RSTlMA\n",
       "Is1UmauJMnZmRLsQ3e/n9enzhfMsDgAAAAlwSFlzAAAOxAAADsQBlSsOGwAAAL1JREFUOMudktkS\n",
       "wyAIRUFxiUvSlv//18akaesympEHRxkO16sAfAMFtIICDENwK2t8mXFLmZHcRL2pCm11McXYEFUw\n",
       "RDVqNg1RHKJowbKsylwtWqGUzC710+EQdbugYf3rFI/YHmlVXZTSnVndES1Q64n2Fy6/0BGM0HAe\n",
       "ON4RzdFP87jmXp+v03HH6zVZ5SSK9vT+oXiJ+XycJEEfDZ75aC/TRndFzy9b15aNrLmG2RBhllzm\n",
       "ReO0KJhhxRsvswX9antpPAAAAABJRU5ErkJggg==\n",
       "\" style=\"display:inline;vertical-align:middle;\" /></a> <a class=\"ProveItLink\" href=\"../__pv_it/demonstrations/4168c2511b8fb807f3cfcaea6bdadc8fac181e310/proof.ipynb\" style=\"text-decoration: none\">&nbsp;&#x22A2;&nbsp;&nbsp;</a><a class=\"ProveItLink\" href=\"../../../__pv_it/common/09585084922504426caf1db2ff588a23a0932a960/expr.ipynb\"><img src=\"data:image/png;base64,iVBORw0KGgoAAAANSUhEUgAAAA8AAAAPBAMAAADJ+Ih5AAAAMFBMVEX///8AAAAAAAAAAAAAAAAA\n",
       "AAAAAAAAAAAAAAAAAAAAAAAAAAAAAAAAAAAAAAAAAAAv3aB7AAAAD3RSTlMAIs1UmauJMnZmRLsQ\n",
       "3e++988cAAAACXBIWXMAAA7EAAAOxAGVKw4bAAAAXklEQVQI12NgAAEhBijQh9LM/6EMlngBCCMx\n",
       "vwBMMzb0G0BkGOwngBmLGeoTwAwHBvkAEM2xxSV+A4hxgoGB/wJEhoH3AZDmAupg+gBkyAEx90cG\n",
       "htP/dRiY939KAABt3hLO6mcEjQAAAABJRU5ErkJggg==\n",
       "\" style=\"display:inline;vertical-align:middle;\" /></a></span>"
      ],
      "text/plain": [
       "{A in BOOLEAN, A != FALSE} |- A"
      ]
     },
     "metadata": {},
     "output_type": "display_data"
    }
   ],
   "source": [
    "A.prove(assumptions=[NotEquals(A, FALSE), in_bool(A)])"
   ]
  },
  {
   "cell_type": "markdown",
   "metadata": {},
   "source": [
    "fold_forall_over_bool"
   ]
  },
  {
   "cell_type": "code",
   "execution_count": 12,
   "metadata": {},
   "outputs": [
    {
     "data": {
      "text/html": [
       "<span style=\"font-size:20px;\"><a class=\"ProveItLink\" href=\"../../__pv_it/common/8656d055e795860fc783fedaa2fdfdeb655ff02a0/expr.ipynb\"><img src=\"data:image/png;base64,iVBORw0KGgoAAAANSUhEUgAAADEAAAAVBAMAAAAdjxsPAAAAMFBMVEX///8AAAAAAAAAAAAAAAAA\n",
       "AAAAAAAAAAAAAAAAAAAAAAAAAAAAAAAAAAAAAAAAAAAv3aB7AAAAD3RSTlMAdrurzZkQ7zJUiSLd\n",
       "ZkQEbk8lAAAACXBIWXMAAA7EAAAOxAGVKw4bAAAA50lEQVQoz2NgQALccNYGBlQgCWc9BJNC/5WN\n",
       "XBOADM4FDDFnQOAwA+MFsNQXBgamMiCdAuZNBJNuIILjI1A5EDPEIslcBRGMP4D4F5BRgCTDDjKe\n",
       "6QMQA2U5HZBkWEAW8SswMPQLMDCwLkCS4TJgAIvuOglTBpPhBRkgb7XqHojDMwFJhhNkqT7Ud+wP\n",
       "kGQ4PkC8gynDB9TD8Qsqg2raAaBX/kFlmASQXQB0MMsHqAzYoTAZoBdY9T9B1DJwHABTbyFGP0CO\n",
       "hBNI7D0o0XMViR2LIsOEiEluBRQZNgVsisBgI5wlzcAAAOi1NwSpBHEBAAAAAElFTkSuQmCC\n",
       "\" style=\"display:inline;vertical-align:middle;\" /></a>, <a class=\"ProveItLink\" href=\"../../__pv_it/common/c478d9b029a938e6b1884ac8094c38de4ad167440/expr.ipynb\"><img src=\"data:image/png;base64,iVBORw0KGgoAAAANSUhEUgAAADEAAAAVBAMAAAAdjxsPAAAAMFBMVEX///8AAAAAAAAAAAAAAAAA\n",
       "AAAAAAAAAAAAAAAAAAAAAAAAAAAAAAAAAAAAAAAAAAAv3aB7AAAAD3RSTlMAdrurzZkQ7zJUiSLd\n",
       "ZkQEbk8lAAAACXBIWXMAAA7EAAAOxAGVKw4bAAAA6klEQVQoz2NgQALccNYGBlQgCWc9BJNC/5WN\n",
       "XBOADM4FIO5bEMF4ASz1hYGBqQxIp4B5E8GkG4jg+AhUDsQMsUgyV8E6fwDxLyCjAEmGHWQ80wcg\n",
       "BspyOiDJsIAs4ldgYOgXYGBgXYAkw2XAABbddRKmDCbDCzJA3mrVPRCHZwKSDCfIUn2o79gfIMlw\n",
       "fIB4B1OGD6iH4xdUBtW0A0Cv/IPKMAkguwDoYJYPUBmwQ2EyQC+w6n+CqGXgABoQc+ZM+Zkzh4FG\n",
       "P0COhBNI7D0o0XMViR2LIsOEiEluBRQZNgVsisBgI5wlzcAAADXcNq92yl+AAAAAAElFTkSuQmCC\n",
       "\" style=\"display:inline;vertical-align:middle;\" /></a> <a class=\"ProveItLink\" href=\"../__pv_it/demonstrations/ce8b109901c4fbe86596333d77cb22b9b661b9b80/proof.ipynb\" style=\"text-decoration: none\">&nbsp;&#x22A2;&nbsp;&nbsp;</a><a class=\"ProveItLink\" href=\"../__pv_it/theorems/af71d01b4f600fcfc57cfaf8475c30f0443adb0e0/expr.ipynb\"><img src=\"data:image/png;base64,iVBORw0KGgoAAAANSUhEUgAAAGYAAAAVBAMAAABGR4Y+AAAAMFBMVEX///8AAAAAAAAAAAAAAAAA\n",
       "AAAAAAAAAAAAAAAAAAAAAAAAAAAAAAAAAAAAAAAAAAAv3aB7AAAAD3RSTlMAq1RmmUTNIjK7EInv\n",
       "3XZ/CtNrAAAACXBIWXMAAA7EAAAOxAGVKw4bAAAB9ElEQVQ4y41ST0gUYRT/uauOO6PmVTrsgiBC\n",
       "hV4KvIQHE8FDUhcPHhSVSKHWhEASnKCrrkUi46EdunmR3S6hHtRDEP4JkToKA9EhEDYEt0Ro+33v\n",
       "m9mVbUd88Oa975v3e997v/eAq0kycAxcVRoTYp4DNR7QpPyWypE/C6+bR13l3dAXT6nfgXvKfxSS\n",
       "Pg/EdmjNITlGCvzUunipalyoDKn7yzgqqjvkXB1nW9EuBYOVCOniD/WcTr0+f9y0+d1BlClqQ0qL\n",
       "/aISh1ZNmZdTyUeA/aOj3RDMNdacIk/o06WhXdWYBXqBZbly/8Mw/sUhdGrKA6QyNHeASRjCt/lZ\n",
       "B0YmRr/6/eWub9wWR4DowqyKvMmCXatf3Vgn/Mw3L8LLPGvTmHTw4Cdh5G13XBGcYl5PUzDwhRWz\n",
       "UGKs98XxXMCsssED2kHq0F2594Zlxgozta7Hcx5gDnVpaNiivUX9MC4vowemzNbr3rP1eE4DzDtq\n",
       "jRoKyUcndUYoGMCxXKt3Xv2QSIkQyaowNbDfPvFVkrVvI+5GHzvOG9WPJeNIn3k+Zg5YKYwjks6T\n",
       "7G/FNQFm7bqMfsdqLBtUg13yjYPAe0hSEnq4xMyXYbiXRfH3lc42zPtjmGa+yJMJp6N8I5ZK7nTZ\n",
       "L3PNWay4eSsV4ZeL4RUbT+IfuS94qmUN8SgAAAAASUVORK5CYII=\n",
       "\" style=\"display:inline;vertical-align:middle;\" /></a></span>"
      ],
      "text/plain": [
       "{P(TRUE), P(FALSE)} |- forall_{A in BOOLEAN} P(A)"
      ]
     },
     "metadata": {},
     "output_type": "display_data"
    }
   ],
   "source": [
    "Forall(A, PofA, domain=Boolean).prove(assumptions=[PofTrue, PofFalse])"
   ]
  },
  {
   "cell_type": "markdown",
   "metadata": {},
   "source": [
    "fold_conditioned_forall_over_bool"
   ]
  },
  {
   "cell_type": "code",
   "execution_count": 13,
   "metadata": {},
   "outputs": [
    {
     "data": {
      "text/html": [
       "<span style=\"font-size:20px;\"><a class=\"ProveItLink\" href=\"../../__pv_it/common/992b571de684986f68d4eb2d5494d15261d382a20/expr.ipynb\"><img src=\"data:image/png;base64,iVBORw0KGgoAAAANSUhEUgAAAIUAAAAVBAMAAACakjBMAAAAMFBMVEX///8AAAAAAAAAAAAAAAAA\n",
       "AAAAAAAAAAAAAAAAAAAAAAAAAAAAAAAAAAAAAAAAAAAv3aB7AAAAD3RSTlMAIomZq2bNMhC7791E\n",
       "VHYkqjbgAAAACXBIWXMAAA7EAAAOxAGVKw4bAAACEklEQVQ4y2NgQAICMAYjAwHAiKkHAvguwFg8\n",
       "DwiY8RbOOgcxU1nJFcy4xMC8GwwcGJ5i08g3/6fLNAsQi1eBwRqscgsDXwBIQK2AgSUBSHMkgKXB\n",
       "TmBrwGYIP1DFLJBMG5h7D0xmgPgTgMRiIGYOQJjBaoDNjHqg3H2QvCmSGcFAnA1i+AMxFwPCDIYV\n",
       "CJ0z4Kz3BUCsAGQsQDKDq4GB+TuIoQ+UvYZsRirCjEo4az4IA1XyJiCZwRbAIA/yCoP9AQYGI2Qz\n",
       "VBBmsCrAWD8ZGNj/gXytgGQGkwODPThC8wVgVkPNCAMR0Gj6DDUCqJ9R+wLEaoQZrAkM+0HhzPEL\n",
       "SOxFNuMWUlDy5kLj9ouS6gEQg/sCkhm8Cxh+gc36CiTWIJtRjxwfbRApzg9QPtcBJDPYPzDsBtFd\n",
       "CehmnEJO2EkC8OSBaQbPAmCs8lxgsBJA98ttpPDYBs0T9bDARfXLBob6C+GiTAtBnHnIZkQinMEz\n",
       "AZY8DkAZnA+Qw3QCA9/CB0wuDYjohJphhDBDDMbIhzGA0YkwAxTRJZO0DzAAEw5DNcRWSLztQZgx\n",
       "HUpb/p8Hi+QNYOooxGNg13Ee4AP5mLsAKRg3MOAqIUBgOxJbGuI9h2vo+QyS/3CCYCQ2JP8x/wfn\n",
       "GYaJCAlJ/EUQJ8JtjJAQZ98FiatOhKKJ+M3gmIDNOLCR8BKQT4BAWSgHZz1kYAAAhtSMa0u4AVkA\n",
       "AAAASUVORK5CYII=\n",
       "\" style=\"display:inline;vertical-align:middle;\" /></a>, <a class=\"ProveItLink\" href=\"../../__pv_it/common/e28d51f4d8e210e74e191fa3ba65e6ed431188b80/expr.ipynb\"><img src=\"data:image/png;base64,iVBORw0KGgoAAAANSUhEUgAAAIUAAAAVBAMAAACakjBMAAAAMFBMVEX///8AAAAAAAAAAAAAAAAA\n",
       "AAAAAAAAAAAAAAAAAAAAAAAAAAAAAAAAAAAAAAAAAAAv3aB7AAAAD3RSTlMAIomZq2bNMhC7791E\n",
       "VHYkqjbgAAAACXBIWXMAAA7EAAAOxAGVKw4bAAACGElEQVQ4y2NgQAICMAYjAwHAiKkHAvguwFg8\n",
       "DwiY8RbOOgcxU1nJFcy4BNYeACKfYtPIN/+nyzQLEItXAUQeBQuC1asVMLAkAGmOBLA02AlsDdgM\n",
       "4QeqmAWSaQNz74HJDBB/ApBYDMTMAQgzWA2wmVEPlLsPkjdFMiMYiLNBDH8g5mJAmMGwAqFzBpz1\n",
       "vgCIQd5YgGQGVwMD83cQQx8oew3ZjFSEGZVw1nwQBqrkTUAygy2AQR7kFQb7AwwMRshmqCDMYFWA\n",
       "sX4yMLD/A/laAckMJgcGe3CE5gvArIaaEQYimHeDwWeoEUD9jNoXIFYjzGBNYNgPCmeOX0BiL7IZ\n",
       "t5CCkjcXGrdflFQPgBjcF5DM4F3A8Ats1lcgsQbZjHrk+GiDSHF+gPK5DiCZwf6BYTeI7kpAN+MU\n",
       "csJOEoAnD0wzeBYAY5XnAoOVALpfbiOFxzZonqiHBS6qXzYw1F8IF2VaCOLMQzYjEuEMngmw5HEA\n",
       "yuB8gBymExj4Fj5gcmlARCfUDCOEGWIwRj6MAYxOhBmgiC6ZpH2AAZhwGKrBjt+1evduoJI9CDOm\n",
       "Q2nL//NgkbyBgcF69+5Vu3dvAXoM7DrOA3wgH3MXIAXjBgZcJQQIbEdiS0O853ANPZ9B8h9OEIzE\n",
       "huQ/5v/gPMMwESEhib8I4kS4jRES4uy7IHHViVA0Eb8ZHBOwGQc2El4C8gkQKAvl4KyHDAwAWmWM\n",
       "SQ8twLoAAAAASUVORK5CYII=\n",
       "\" style=\"display:inline;vertical-align:middle;\" /></a> <a class=\"ProveItLink\" href=\"../__pv_it/demonstrations/a8ada8f399b4c2bdb093742bc66cef8fc593d9980/proof.ipynb\" style=\"text-decoration: none\">&nbsp;&#x22A2;&nbsp;&nbsp;</a><a class=\"ProveItLink\" href=\"../__pv_it/theorems/01429d10481cd0a4c25a306db009da9d58f8135a0/expr.ipynb\"><img src=\"data:image/png;base64,iVBORw0KGgoAAAANSUhEUgAAAKAAAAAXBAMAAAB+LlnTAAAAMFBMVEX///8AAAAAAAAAAAAAAAAA\n",
       "AAAAAAAAAAAAAAAAAAAAAAAAAAAAAAAAAAAAAAAAAAAv3aB7AAAAD3RSTlMAq1RmmUTNIjK7EInv\n",
       "3XZ/CtNrAAAACXBIWXMAAA7EAAAOxAGVKw4bAAACt0lEQVQ4y62VTWgTQRTH/83XJrvNWo9FNBGL\n",
       "CCrmUkEPmkP9ooJFPbTgocVKaQsaPxCKQlbwImijYpF4MIt4KYikvYhGrB6kUj8oQY+FBRUUxIpg\n",
       "qhaM783sdpekoCwZmN03s5nfe/PefyZAA1rGMRQ0pOlJ8ToLhC2ghe11PjCfq9da+022NsqJE9Tf\n",
       "A7vYHvATWAWIzdBb7RXDQJUeERMXeOtXffCifwhCHaGUGIcSlMpgmpnQkn4y95P6IhnNcvxgyqDn\n",
       "DILEj/jZcewbdYJivSywNc9hHQVez8299ANcQXnKUVXRKXeMLbz1CWAvcEtMmbVL0t5BgMWmApYz\n",
       "QbBzZcigqB1ErkivrcBJKEI66gt75XD/W5lTu1T6kw8Ea2fznkGR2G1+VUnMoWx7zzJmE+XB1Lp4\n",
       "RvtOj9HWMVjFUxs8wPAAlGmowulUEuGiDSw45OfC642OBP8+RxFZsibdbygRtH8Canc8wM3U9yHE\n",
       "TsOXacNDrgw9wPuU1Fl6H6Heu0PMW31C6Aw8/cgFKlzInYiLMCIU56Qtw0UHWLbzHX9qu58UPnXs\n",
       "hioQVscrwwU28Tl4zAeVvoRo0GZn9ocDvM2xs/hIR9hG/bxITze+iGmO8OJHF9jMOetDD68ydAqi\n",
       "R2LEctEmmMHCXLA11CTi6SwlzOBgPn+dc6h5gOQkuoC1LLXSxG/gkpRd4ZcjoCvAeHUIgUKFfL9b\n",
       "OkhA1ogWZYSa7gJj6bAZTwmMJRLaVivXuOHayqxjHaIqJaXCCTjqKcr09k8k3bjME0nray0w6DkA\n",
       "9kVBxjOoB45hhJwFjg/nUx7ZnFmz0swglsH+FtytdOFm3SH0zIzUfFIf5sfckXOpHVYtV89q/VU3\n",
       "vix7meYsza6mY77H2Uum7nfK0vnWM/8FjHDpNPvuaG/En5n3MjL/segvxpusWW4kU4IAAAAASUVO\n",
       "RK5CYII=\n",
       "\" style=\"display:inline;vertical-align:middle;\" /></a></span>"
      ],
      "text/plain": [
       "{Q(TRUE) => P(TRUE), Q(FALSE) => P(FALSE)} |- forall_{A in BOOLEAN | Q(A)} P(A)"
      ]
     },
     "metadata": {},
     "output_type": "display_data"
    }
   ],
   "source": [
    "Forall(A, PofA, domain=Boolean, conditions=[QofA]).prove(assumptions=[QimplPofTrue, QimplPofFalse])"
   ]
  },
  {
   "cell_type": "markdown",
   "metadata": {},
   "source": [
    "forall_bool_eval_true"
   ]
  },
  {
   "cell_type": "code",
   "execution_count": 14,
   "metadata": {},
   "outputs": [
    {
     "data": {
      "text/html": [
       "<span style=\"font-size:20px;\"><a class=\"ProveItLink\" href=\"../__pv_it/demonstrations/d7ae3dbc0a3d3e886868beb64ad7695f182fe9030/expr.ipynb\"><img src=\"data:image/png;base64,iVBORw0KGgoAAAANSUhEUgAAAF4AAAAVBAMAAAA9Y0TyAAAAMFBMVEX///8AAAAAAAAAAAAAAAAA\n",
       "AAAAAAAAAAAAAAAAAAAAAAAAAAAAAAAAAAAAAAAAAAAv3aB7AAAAD3RSTlMAdrurzZkQ7zJUiSLd\n",
       "ZkQEbk8lAAAACXBIWXMAAA7EAAAOxAGVKw4bAAABBUlEQVQoz2NgQALcWFj4gCScxSeAW5XQf2Uj\n",
       "1wQgg3MBA+sZMDBgkEVXFQOWOAxifmFgYCoD0ilgCU6w0SwJmAZPhFAcH4GKgJghFkk9bwBO9Yw/\n",
       "gPgXkFGApJ6hDKd6pg9ADNTD6YCs3henen4FBoZ+oCLWBcjqF+NUD1S76yTIixeQ1V8BEfDgQlYv\n",
       "b7XqHojmmYCsfjpO8/WhXPYHyOr7car/glX9c1zqOX5BuajumYPL/Yz/oOqZBJDVX8JlPssHKJfL\n",
       "AFl9FA71rPqfoGmR4wAkaUKC9Rym+rdo/BPIWeEA4eR/FYnNeoGweqYNCPYmIrIXmwKCrU1MftwI\n",
       "ZzFuwKEEANs9R1Hc1ir6AAAAAElFTkSuQmCC\n",
       "\" style=\"display:inline;vertical-align:middle;\" /></a>, <a class=\"ProveItLink\" href=\"../__pv_it/demonstrations/ff229cb46097a90cae78058bd166db11911761a00/expr.ipynb\"><img src=\"data:image/png;base64,iVBORw0KGgoAAAANSUhEUgAAAF4AAAAVBAMAAAA9Y0TyAAAAMFBMVEX///8AAAAAAAAAAAAAAAAA\n",
       "AAAAAAAAAAAAAAAAAAAAAAAAAAAAAAAAAAAAAAAAAAAv3aB7AAAAD3RSTlMAdrurzZkQ7zJUiSLd\n",
       "ZkQEbk8lAAAACXBIWXMAAA7EAAAOxAGVKw4bAAABCUlEQVQoz2NgQALcWFj4gCScxSeAW5XQf2Uj\n",
       "1wQgg3MBWOkFECmLrirmDAgcBjG/MDAwlQHpFLAEJ9holgRMgydCKI6PQEVAzBCLpJ43AKd6xh9A\n",
       "/AvIKEBSz1CGUz3TByAG6uF0QFbvi1M9vwIDQz9QEesCZPWLcaoHqt11EuTFC8jqr4AIVnCgnDFA\n",
       "US9vteoeiOaZgKx+Ok7z9aFc9gfI6vtxqv+CVf1zXOo5fkG5qO6Zg8v9jP+g6pkEkNVfwmU+ywco\n",
       "l8sAWX0UDvWs+p+gaZHjANgBx2vADjiHqf4tGv8EclY4QDj5X0Vis14grJ5pA4K9iYjsxaaAYGsT\n",
       "kx83wlmMG3AoAQB1wUb8QHXmFwAAAABJRU5ErkJggg==\n",
       "\" style=\"display:inline;vertical-align:middle;\" /></a> <a class=\"ProveItLink\" href=\"../__pv_it/demonstrations/23fa2427ed641df6f7c34628fcf2696417c584960/proof.ipynb\" style=\"text-decoration: none\">&nbsp;&#x22A2;&nbsp;&nbsp;</a><a class=\"ProveItLink\" href=\"../__pv_it/demonstrations/68019d58f93d05a5a5517839033c544b95129dca0/expr.ipynb\"><img src=\"data:image/png;base64,iVBORw0KGgoAAAANSUhEUgAAAJwAAAAVBAMAAABBKZpuAAAAMFBMVEX///8AAAAAAAAAAAAAAAAA\n",
       "AAAAAAAAAAAAAAAAAAAAAAAAAAAAAAAAAAAAAAAAAAAv3aB7AAAAD3RSTlMAdt0yiUSrVGaZzSK7\n",
       "EO91eSXLAAAACXBIWXMAAA7EAAAOxAGVKw4bAAACL0lEQVQ4y2MQUmYgDmyAMbiBGKcuVyJNYywA\n",
       "U7sYGFgF8GhzZUgAURU4DDn/J+3UXBCrBCKwHoglsBg3SQkE1IDiU0Hc1Ths41/AwHDuAgMD7wIw\n",
       "l/0/kOC6gNV1hRDXmYHC4wAO4+yBPqsHYs4GMJczHxiEHBPwGQeyjKUAh3HyBkDswMDAB+F6+wP5\n",
       "DG/xGccBtJgLVwycB2GgEVWQSBWQB9m7Ap9xDI+UlJ7gMu4PAwPzRyA9BeJXhnqQp93wGjeZgeEs\n",
       "WOAChhKgUdxOUAcBQTiDPdDjDF1Q42DRiWrcNgZucGLhfQwRZ1+yUhMalozfXDwCQAx1MHcCw36Q\n",
       "yjq8ruO5wALWwvIdSBjmHGUQcNheDFHC8wGq9inY8JMz80FJwB6vcewCkJgIfggMHaDPgcaxXEck\n",
       "O4RxF4ECCkA6Dq9xDAsawXyBZZAUDzRuhy802TlA1apD/MrA9ABIF+ENOwb3tWCvMMxi4AUnZ4GZ\n",
       "7wygyS4AqvYgELOCUhTI9z34XbcPHBPBDHJgHSDXWYoisigYuIGUgQLzNyTV4DOODeyWKS75FzjW\n",
       "nDlzHBR2LGAVc/4fhKo1YmC4838tA/v5X0Dvq2I1LgKlgGJkYNhvwOwAcR0LI5paJgMEm1sBXwGF\n",
       "MJy/AJKegcYZoikDZXsYABUHhIzjfMbAO38pwx6gK9gXLjnTgK7uNIK5h4EI10EAr8+Zo1jV3UE1\n",
       "GZdxTkTWFdwC8EAGFnlCT7GrAgAjy4Rc2v+CawAAAABJRU5ErkJggg==\n",
       "\" style=\"display:inline;vertical-align:middle;\" /></a></span>"
      ],
      "text/plain": [
       "{P(TRUE) = TRUE, P(FALSE) = TRUE} |- [forall_{A in BOOLEAN} P(A)] = TRUE"
      ]
     },
     "metadata": {},
     "output_type": "display_data"
    }
   ],
   "source": [
    "Equals(Forall(A, PofA, domain=Boolean), TRUE).prove(assumptions=[Equals(PofTrue, TRUE), Equals(PofFalse, TRUE)])"
   ]
  },
  {
   "cell_type": "markdown",
   "metadata": {},
   "source": [
    "unfold_forall_over_bool"
   ]
  },
  {
   "cell_type": "code",
   "execution_count": 15,
   "metadata": {},
   "outputs": [
    {
     "data": {
      "text/html": [
       "<span style=\"font-size:20px;\"><a class=\"ProveItLink\" href=\"../__pv_it/theorems/af71d01b4f600fcfc57cfaf8475c30f0443adb0e0/expr.ipynb\"><img src=\"data:image/png;base64,iVBORw0KGgoAAAANSUhEUgAAAGYAAAAVBAMAAABGR4Y+AAAAMFBMVEX///8AAAAAAAAAAAAAAAAA\n",
       "AAAAAAAAAAAAAAAAAAAAAAAAAAAAAAAAAAAAAAAAAAAv3aB7AAAAD3RSTlMAq1RmmUTNIjK7EInv\n",
       "3XZ/CtNrAAAACXBIWXMAAA7EAAAOxAGVKw4bAAAB9ElEQVQ4y41ST0gUYRT/uauOO6PmVTrsgiBC\n",
       "hV4KvIQHE8FDUhcPHhSVSKHWhEASnKCrrkUi46EdunmR3S6hHtRDEP4JkToKA9EhEDYEt0Ro+33v\n",
       "m9mVbUd88Oa975v3e997v/eAq0kycAxcVRoTYp4DNR7QpPyWypE/C6+bR13l3dAXT6nfgXvKfxSS\n",
       "Pg/EdmjNITlGCvzUunipalyoDKn7yzgqqjvkXB1nW9EuBYOVCOniD/WcTr0+f9y0+d1BlClqQ0qL\n",
       "/aISh1ZNmZdTyUeA/aOj3RDMNdacIk/o06WhXdWYBXqBZbly/8Mw/sUhdGrKA6QyNHeASRjCt/lZ\n",
       "B0YmRr/6/eWub9wWR4DowqyKvMmCXatf3Vgn/Mw3L8LLPGvTmHTw4Cdh5G13XBGcYl5PUzDwhRWz\n",
       "UGKs98XxXMCsssED2kHq0F2594Zlxgozta7Hcx5gDnVpaNiivUX9MC4vowemzNbr3rP1eE4DzDtq\n",
       "jRoKyUcndUYoGMCxXKt3Xv2QSIkQyaowNbDfPvFVkrVvI+5GHzvOG9WPJeNIn3k+Zg5YKYwjks6T\n",
       "7G/FNQFm7bqMfsdqLBtUg13yjYPAe0hSEnq4xMyXYbiXRfH3lc42zPtjmGa+yJMJp6N8I5ZK7nTZ\n",
       "L3PNWay4eSsV4ZeL4RUbT+IfuS94qmUN8SgAAAAASUVORK5CYII=\n",
       "\" style=\"display:inline;vertical-align:middle;\" /></a> <a class=\"ProveItLink\" href=\"../__pv_it/demonstrations/79a64f31e07f263cb017c60c19656c95e0231eff0/proof.ipynb\" style=\"text-decoration: none\">&nbsp;&#x22A2;&nbsp;&nbsp;</a><a class=\"ProveItLink\" href=\"../__pv_it/theorems/9b3599861012520b1e1c5f637c38ccb7d5f21e310/expr.ipynb\"><img src=\"data:image/png;base64,iVBORw0KGgoAAAANSUhEUgAAAH0AAAAVBAMAAACZCfwhAAAAMFBMVEX///8AAAAAAAAAAAAAAAAA\n",
       "AAAAAAAAAAAAAAAAAAAAAAAAAAAAAAAAAAAAAAAAAAAv3aB7AAAAD3RSTlMAdrurzZkQ7zJUiSLd\n",
       "ZkQEbk8lAAAACXBIWXMAAA7EAAAOxAGVKw4bAAAB+ElEQVQ4y3WUPUgjURCAx5DVxPgTrxORRBQU\n",
       "LCIKIhZHmrMTxcJCThCxtLDSTvxphUQQBBEM2IkHOUu5IiCIwiIq2kqsrhI0WoiFOj/v7c5qduDN\n",
       "zu7M9968NzsPQEvRGgkIl8T3cCM1eWs1JcP5Vs+6Z/3jo7P/1wxZO+C4LH3Q/nXqTGWga5KseIH0\n",
       "A3+8ZN8LQGQRn7VZ9vPS0Rnh6m1Kzejspo9z/LrJeoRU7AkhHOBc+nzjuGDzWcPn8PMeuaYVf8tZ\n",
       "vOJ4Q6MOfB4WBWv/afjUCg5KfUHxdZRQ5BEHzgFbmh8VrLRm+AwNnCOeVXyUMm5OS3Ywpfl9eSlE\n",
       "TZEqslFwCoqv75OdHZ/7Sxr+RhYoxuUgkE0c5u2Slm+kZFLDB3f8dq75bdbrAKdSv+eDP2UyGvKK\n",
       "jy+YnbEsaz7HegighQ06JDmysuJjj1L+Kvx/MH/EvFf+73wTrh97s3wg/1379ziccK5ggoL5l3Bn\n",
       "75bv0Pw1B1O78MqpsgmKJPX5Yemidme2ZBLAxbwi1UNqzAZxySyPxXQyFdtrG7InKdAFqUFSqzgm\n",
       "PjpMUAxT/u26S657gvmVdY81rKgmL4W175my/wU8tmfA66Vqcqvs6aCr1zePQq+PiH/rJNJB12zV\n",
       "qb5IbbraVDKfd2vVFMPvr7+e1QbwCfIOb+u5n6VFAAAAAElFTkSuQmCC\n",
       "\" style=\"display:inline;vertical-align:middle;\" /></a></span>"
      ],
      "text/plain": [
       "{forall_{A in BOOLEAN} P(A)} |- P(TRUE) and P(FALSE)"
      ]
     },
     "metadata": {},
     "output_type": "display_data"
    }
   ],
   "source": [
    "Forall(A, PofA, domain=Boolean).unfold(assumptions=[Forall(A, PofA, domain=Boolean)])"
   ]
  },
  {
   "cell_type": "markdown",
   "metadata": {},
   "source": [
    "ForallBoolEvalFalseViaFF"
   ]
  },
  {
   "cell_type": "code",
   "execution_count": 16,
   "metadata": {},
   "outputs": [],
   "source": [
    "#Implies(And(Equals(PofTrue, FALSE), Equals(PofFalse, FALSE)), Equals(Forall(A, PofA, domain=Boolean), FALSE)).prove().proof()"
   ]
  },
  {
   "cell_type": "markdown",
   "metadata": {},
   "source": [
    "ForallBoolEvalFalseViaFT"
   ]
  },
  {
   "cell_type": "code",
   "execution_count": 17,
   "metadata": {},
   "outputs": [],
   "source": [
    "#Implies(And(Equals(PofTrue, FALSE), Equals(PofFalse, TRUE)), Equals(Forall(A, PofA, domain=Boolean), FALSE)).prove().proof()"
   ]
  },
  {
   "cell_type": "markdown",
   "metadata": {},
   "source": [
    "ForallBoolEvalFalseViaTF"
   ]
  },
  {
   "cell_type": "code",
   "execution_count": 18,
   "metadata": {},
   "outputs": [],
   "source": [
    "#Implies(And(Equals(PofTrue, TRUE), Equals(PofFalse, FALSE)), Equals(Forall(A, PofA, domain=Boolean), FALSE)).prove().proof()"
   ]
  },
  {
   "cell_type": "code",
   "execution_count": 19,
   "metadata": {},
   "outputs": [
    {
     "data": {
      "text/html": [
       "<span style=\"font-size:20px;\"><a class=\"ProveItLink\" href=\"../__pv_it/theorems/a10dbfd9a4efbb6f30af430036ab01697a9460f80/expr.ipynb\"><img src=\"data:image/png;base64,iVBORw0KGgoAAAANSUhEUgAAADYAAAAQBAMAAACvnpHFAAAAMFBMVEX///8AAAAAAAAAAAAAAAAA\n",
       "AAAAAAAAAAAAAAAAAAAAAAAAAAAAAAAAAAAAAAAAAAAv3aB7AAAAD3RSTlMAIs1UmauJMnZmRLsQ\n",
       "3e++988cAAAACXBIWXMAAA7EAAAOxAGVKw4bAAAA40lEQVQY02NgAAEhBhTAcW/Tp7dRUI4+qhwD\n",
       "N1eD0NEFYCbzfwy5CWwCG8BMlngBDDlOgwAwMzG/AGrR3ruX4HIKIBZjQ78BWIpL4wBcH6tkAthI\n",
       "BvsJEOcegJvZ0xsGZi1mqAerYVBE2Hfp/RWwQgcGeYi9Ckhu4ZilA3LAFpd4sHvZ3969e/c2VI5h\n",
       "wzIg4wQDA/8FkAjPBiR9DBu4wUYy8D4AC11AkWMCOhzoRqYPYKEOFDkLBgY5EPsjWIjJAC6XwNbm\n",
       "wHD6vw4D8/5PYE/wRK+BBI/ebkQ8wABXNiTMIAAAYXA8zHUEOxUAAAAASUVORK5CYII=\n",
       "\" style=\"display:inline;vertical-align:middle;\" /></a> <a class=\"ProveItLink\" href=\"../__pv_it/demonstrations/6cc6cbb417140743eb88588c6d05e8532415b4840/proof.ipynb\" style=\"text-decoration: none\">&nbsp;&#x22A2;&nbsp;&nbsp;</a><a class=\"ProveItLink\" href=\"../__pv_it/theorems/1e5d53a9f63e421f533678c500b8ebad0a0b693d0/expr.ipynb\"><img src=\"data:image/png;base64,iVBORw0KGgoAAAANSUhEUgAAAFIAAAAVBAMAAAAnX6R8AAAAMFBMVEX///8AAAAAAAAAAAAAAAAA\n",
       "AAAAAAAAAAAAAAAAAAAAAAAAAAAAAAAAAAAAAAAAAAAv3aB7AAAAD3RSTlMAIs1UmauJMnZmRLsQ\n",
       "3e++988cAAAACXBIWXMAAA7EAAAOxAGVKw4bAAABRElEQVQoz2NgwAoE0PiMMIYQmgSHATIPKMvV\n",
       "AGXro6k0Q+GBZDshTOb/IJL1AJBgB2nmUUBWCJZlOgBms8SD3MUJUsRdAOJPQFYJluV0ALMT80Hy\n",
       "DBdgLuZDsRwi+wbssYZ+sA+SgdgZxDBC8TZEVhNsPIP9BFgIgMxlcEOxHCKbCmIvZqhPAHupgIED\n",
       "HBqayCqhspNAbAcG+QAQzR7AwAv24mWgSXdBwAEhawcK5i0u8RvA2hUZTMD0K5gTAxCy9UB8goGB\n",
       "/wI0wBUxVMJk14GNZ+B9AJbhZYeYfRlJJUzWFhilQJ8xfYBE99QFYHoHTKUDQnY2A4McKGY+gmV4\n",
       "LkFUpCJ8Dpd1Yzj9X4eBef8ncDBBwp2BoRauECF7C2vq5C3AEGK8gFUlNDmgxNQE7El+I4aINHaF\n",
       "DKeJ0AtLP+jZRYABAAMNSajckfITAAAAAElFTkSuQmCC\n",
       "\" style=\"display:inline;vertical-align:middle;\" /></a></span>"
      ],
      "text/plain": [
       "{A in BOOLEAN} |- A or [not](A)"
      ]
     },
     "metadata": {},
     "output_type": "display_data"
    }
   ],
   "source": [
    "Or(A, Not(A)).prove(assumptions=[in_bool(A)])"
   ]
  },
  {
   "cell_type": "markdown",
   "metadata": {},
   "source": [
    "from_excluded_middle"
   ]
  },
  {
   "cell_type": "code",
   "execution_count": 20,
   "metadata": {},
   "outputs": [
    {
     "data": {
      "text/html": [
       "<span style=\"font-size:20px;\"> <a class=\"ProveItLink\" href=\"../__pv_it/demonstrations/6e375bf6104ad9a78527a4cf8272cb657d16df8c0/proof.ipynb\" style=\"text-decoration: none\">&nbsp;&#x22A2;&nbsp;&nbsp;</a><a class=\"ProveItLink\" href=\"../__pv_it/demonstrations/c3b2387ff0d6cc28b9760c1c7feba21bbdccdb070/expr.ipynb\"><img src=\"data:image/png;base64,iVBORw0KGgoAAAANSUhEUgAAAMcAAAAVBAMAAAAA3efRAAAAMFBMVEX///8AAAAAAAAAAAAAAAAA\n",
       "AAAAAAAAAAAAAAAAAAAAAAAAAAAAAAAAAAAAAAAAAAAv3aB7AAAAD3RSTlMAq1RmmUTNIjK7EInv\n",
       "3XZ/CtNrAAAACXBIWXMAAA7EAAAOxAGVKw4bAAACcElEQVRIx7VVPWgUQRT+bu/2Nrsb1xPTSAoj\n",
       "WlhYXGMrVxgjRMmCTRItIiiiEbkoCILgKWkECacQYdVikSsULTbpkiuigiD4d4iFTXBBUijBIkIQ\n",
       "K9/M7M/s7XpCYAd2eTvzvve9972ZWVRAYy9yGsb3HTs1D8PMPpcXyfoPKMeruEmm1syJ4+kXeo3V\n",
       "UXYBcygnkosUHKeAYhUo58RhbrD3LD3vV1ff5kRyo8PeT+g5CjzgU26XSynaIlkBlHpkurCySVb8\n",
       "0JqBxrex8SZAT5/5zHukhx7PGxLQGmg/Y+kcjLcpAWvIcMHXKBHdNe1IwLld8/C9y/sTJCvSvlA/\n",
       "AY9Y5EpC+ZNIuwAfI4UUX/R9/AMpRNoRiflYJlHviKr5iT1AkH1MSzsKyoBlN+1ClXBluA5Th/iM\n",
       "fxr4xg3vyrJMYpVF1gUqXmPl3qJnW5w5AwaHIOHCTwgtcXPxAg+FIzD4ofQPv2vIJH5pCkuO49wn\n",
       "7QudYPJq3AECQqmlXWh3MQl4wrjOEx3HOtSqqGR2TSJRG9aLQPxh9IcdngCP2hFAqM20C1H/om4J\n",
       "IQs879H2brd43nHusZ6YEkmpvfBHWNqg289yY9LsEVMVAURfM+1Co3V3wJa3HRXX6PNEJaYlkfjQ\n",
       "fvOsnYeUEEW1mNK3QxIODOVKuKTHCWD7kDiVRDIXkzAJN4QUZBmvgTUYXtj4WgC0/C6XrFF6CWPs\n",
       "LK6RcsqlaacakxyroLVph3cQWqM/SZxX0OsJYPAZu/T6xyw589GH3rUoIRWoXvJOR+bN9P+h/3tp\n",
       "EhhJTIxs9Q7tQUJymnLWRXurJFrvZZnE6O36F7MwqBolaCIJAAAAAElFTkSuQmCC\n",
       "\" style=\"display:inline;vertical-align:middle;\" /></a></span>"
      ],
      "text/plain": [
       "|- forall_{A in BOOLEAN | A => C, [not](A) => C} C"
      ]
     },
     "metadata": {},
     "output_type": "display_data"
    }
   ],
   "source": [
    "Forall(A, C, domain=Boolean,conditions=[Implies(A, C),Implies(Not(A), C)]).prove()"
   ]
  },
  {
   "cell_type": "code",
   "execution_count": 21,
   "metadata": {},
   "outputs": [
    {
     "data": {
      "text/html": [
       "<strong id=\"example_forall\">example_forall:</strong> <a class=\"ProveItLink\" href=\"../__pv_it/demonstrations/72ab9b11839e45b3ab0c33a03d44da7de00094240/expr.ipynb\"><img src=\"data:image/png;base64,iVBORw0KGgoAAAANSUhEUgAAAMUAAAAVBAMAAAAEKDfsAAAAMFBMVEX///8AAAAAAAAAAAAAAAAA\n",
       "AAAAAAAAAAAAAAAAAAAAAAAAAAAAAAAAAAAAAAAAAAAv3aB7AAAAD3RSTlMAq1RmmUTNIjK7EInv\n",
       "3XZ/CtNrAAAACXBIWXMAAA7EAAAOxAGVKw4bAAADL0lEQVRIx42VXUgUURTHz87s7uzOrKNCCBKx\n",
       "Q4EEPbTQB0SUW1kE9rHUiw8RRkaokFYQRIUb9BapWVIT4U69SSRTSKU+ZEX0HWI9tjARFUGkVn6E\n",
       "4HbuuTPuMO1ODtzdO+e/e3733HPOvQB+j5pNw8Ke1mLW/7pQUgtEqBp9nfCY93MfZWy+rCjDV/6W\n",
       "u1jZYLDZCm5ocZR1ufLyxjSoCWJsZabDRRm+MkwBRF/it1xPr0JuXnkBEJgBaCLGWTRInUUZvnJk\n",
       "Dv3igGCC3oNxJy0SWkO/AVYTI4yxKlpRhq+s4krVWZzE+Pv9h05+RVRE5MQMxhBxCeHiOfeVo+M4\n",
       "0BtU8cVbY85qAqiEn+FIUN28yWZf+dSVn1yKm9hh4aSWbxWsTNhKrBPkJRiUUkaM7QDXyG4UZMzL\n",
       "BR70f2qUTQ7S6x7oMB2l50cF44n1xDgKEhWo/JzLQnPDey3P4HIkU9t/lduq7u3cbMtji4fW0IRA\n",
       "kIS2MkdpBeEJczZMjKjBO035iR/tld1gmceW5xm2vAHgO6I+6ilVkZbaqc04AT2lCrhcE3cq8DoO\n",
       "VgCRcWIIFs9p3VvcUdwZZCg38wxbXgRQDVCDf1MVGNTm28PF6MMEjdiGCRzVmKkQjwPqN5LZOgDw\n",
       "iSbm8UHXWcLlxyC/o7ZFhrSepy4y6zBG+VZBybDdOL/wI84CGOGMu00UKWwDmUK1al6nXQySpblV\n",
       "m9LQSz8M7rAzp046jB4cIVbl47x01GnksCjFTs44TYmqw/0OJXgc5z67GCSLI3AjCXvJsxLZxY9K\n",
       "5pE/d5gb1jDTIDPXYYxnH1tb0OSMAK26dihuiI263sXyobgYJAeSIE3CWl3XNcyHSSUazPyx7N9d\n",
       "AOjNNYGQmTIha0AgM1Fe0cWEkpTr7FYB2tIRk8ehqN6zPaZBaAbO8zjAtDyNUuK6IwR3n51x3w+4\n",
       "DaUa7zZktHsZbQbcTmIdc8YDL0NMuvrWLWxx+Qg+Ann3ITiJ6xGONOsJD0NsGerH2CXWhlVfBi79\n",
       "0/FX8tM+l5md2N57Th7Qu/3uwVu6Xvhm7M1P3TFGW/9/lyoLvc8lq6D5K27th9Rf7Ibf2gYwrFAA\n",
       "AAAASUVORK5CYII=\n",
       "\" style=\"display:inline;vertical-align:middle;\" /></a><br>"
      ],
      "text/plain": [
       "<IPython.core.display.HTML object>"
      ]
     },
     "metadata": {},
     "output_type": "display_data"
    }
   ],
   "source": [
    "example_forall = Forall(A, Forall(B, Function(P, [A, B]), domain=Boolean), domain=Boolean)"
   ]
  },
  {
   "cell_type": "code",
   "execution_count": 22,
   "metadata": {},
   "outputs": [
    {
     "data": {
      "text/html": [
       "<a class=\"ProveItLink\" href=\"../__pv_it/demonstrations/3c4fc4bc39d38019de85c5a9ed7dc56831d6de0d0/expr.ipynb\"><img src=\"data:image/png;base64,iVBORw0KGgoAAAANSUhEUgAAAEsAAAAVBAMAAAD85A5eAAAAMFBMVEX///8AAAAAAAAAAAAAAAAA\n",
       "AAAAAAAAAAAAAAAAAAAAAAAAAAAAAAAAAAAAAAAAAAAv3aB7AAAAD3RSTlMAdrurzZkQ7zJUiSLd\n",
       "ZkQEbk8lAAAACXBIWXMAAA7EAAAOxAGVKw4bAAABmklEQVQoz21TMUsCYRh+vDTv1NOrxgYvIgga\n",
       "TrSp5SJIp8ilJQjU/oBENIY/IDiHIGhJaKshhyCIwMaEBpfWrLEpM4dQ8Hq/7+7zTvGD9+79nud5\n",
       "v/e510/Av+qYtibRQJW/7ifgT/6ct5fT2wWWXTrwruBV4zezvopAi+96gHRC79lNvlXs0TlhHTAr\n",
       "yLJc/iGKAiGnKmSOzDQ04DuPN+7oj6LPah3u9q4iZG3K2hrCzJLUoSApzjkV1ZJVITMpcnUEWZsE\n",
       "GbDodOw7PXHVErIj4PAFiKTAJY9NBu5w6gtWzVXJ3bkFBqrs25IbN+8c5Vrk0UiJOQ6ACzpaKdPG\n",
       "EC1OObWyZ+ouIBEdIddyxxmbT1Yks88ukKBjVRpVnORyX8iaTk/Eyi5gUcOZITWlusBQyJYo4sQE\n",
       "qQf/8ZI0Z4vsq7oDOuua4oFZGmCWO8lR2TEVhGoIGV3NlZ0BJTsLxejV8Eps2s5kttioYx/+CxOr\n",
       "eLlS8BFPY/dKzXt5xE8cjN+/NS8t+uCoPi4reanmg6WJWx7Vpv4XFoF/6NFYYIHMWuYAAAAASUVO\n",
       "RK5CYII=\n",
       "\" style=\"display:inline;vertical-align:middle;\" /></a>"
      ],
      "text/plain": [
       "P(A, B)"
      ]
     },
     "metadata": {},
     "output_type": "display_data"
    }
   ],
   "source": [
    "example_forall.all_instance_exprs()[-1]"
   ]
  },
  {
   "cell_type": "code",
   "execution_count": 23,
   "metadata": {},
   "outputs": [],
   "source": [
    "%end demonstrations"
   ]
  }
 ],
 "metadata": {
  "kernelspec": {
   "display_name": "Python 3",
   "language": "python",
   "name": "python3"
  }
 },
 "nbformat": 4,
 "nbformat_minor": 0
}