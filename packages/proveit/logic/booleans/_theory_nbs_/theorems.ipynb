{
 "cells": [
  {
   "cell_type": "markdown",
   "metadata": {},
   "source": [
    "Theorems (or conjectures) for the theory of <a class=\"ProveItLink\" href=\"theory.ipynb\">proveit.logic.booleans</a>\n",
    "========"
   ]
  },
  {
   "cell_type": "code",
   "execution_count": null,
   "metadata": {},
   "outputs": [],
   "source": [
    "import proveit\n",
    "# Prepare this notebook for defining the theorems of a theory:\n",
    "%theorems_notebook # Keep this at the top following 'import proveit'.\n",
    "from proveit import m, A, B, C, P, Q, PofA, QofA\n",
    "from proveit.core_expr_types import A_1_to_m\n",
    "from proveit.logic import Boolean, TRUE, FALSE, in_bool, Implies, Not, And, Or, Forall, XOr\n",
    "from proveit.logic import Equals, NotEquals, InSet\n",
    "from proveit.logic import PofTrue, PofFalse, QimplPofTrue, QimplPofFalse\n",
    "from proveit.numbers import NaturalPos"
   ]
  },
  {
   "cell_type": "code",
   "execution_count": null,
   "metadata": {},
   "outputs": [],
   "source": [
    "%begin theorems"
   ]
  },
  {
   "cell_type": "markdown",
   "metadata": {},
   "source": [
    "### Comparisons between Boolean values"
   ]
  },
  {
   "cell_type": "code",
   "execution_count": null,
   "metadata": {},
   "outputs": [],
   "source": [
    "true_eq_true = Equals(TRUE, TRUE)"
   ]
  },
  {
   "cell_type": "code",
   "execution_count": null,
   "metadata": {},
   "outputs": [],
   "source": [
    "false_eq_false = Equals(FALSE, FALSE)"
   ]
  },
  {
   "cell_type": "code",
   "execution_count": null,
   "metadata": {},
   "outputs": [],
   "source": [
    "true_not_false = NotEquals(TRUE, FALSE)"
   ]
  },
  {
   "cell_type": "markdown",
   "metadata": {},
   "source": [
    "### `TRUE` and `FALSE` are in the Boolean set:"
   ]
  },
  {
   "cell_type": "code",
   "execution_count": null,
   "metadata": {},
   "outputs": [],
   "source": [
    "fold_is_bool = Forall(A, in_bool(A), \n",
    "                    conditions=[Or(Equals(A, TRUE), Equals(A, FALSE))])"
   ]
  },
  {
   "cell_type": "code",
   "execution_count": null,
   "metadata": {},
   "outputs": [],
   "source": [
    "true_is_bool = InSet(TRUE, Boolean)"
   ]
  },
  {
   "cell_type": "code",
   "execution_count": null,
   "metadata": {},
   "outputs": [],
   "source": [
    "false_is_bool = InSet(FALSE, Boolean)"
   ]
  },
  {
   "cell_type": "code",
   "execution_count": null,
   "metadata": {},
   "outputs": [],
   "source": [
    "in_bool_if_true = Forall(A, in_bool(A), conditions=[A])"
   ]
  },
  {
   "cell_type": "code",
   "execution_count": null,
   "metadata": {},
   "outputs": [],
   "source": [
    "in_bool_if_false = Forall(A, in_bool(A), conditions=[Not(A)])"
   ]
  },
  {
   "cell_type": "code",
   "execution_count": null,
   "metadata": {},
   "outputs": [],
   "source": [
    "not_equals_false = Forall(A, NotEquals(A, FALSE), conditions=[A])"
   ]
  },
  {
   "cell_type": "code",
   "execution_count": null,
   "metadata": {},
   "outputs": [],
   "source": [
    "not_equals_true = Forall(A, NotEquals(A, TRUE), conditions=[Not(A)])"
   ]
  },
  {
   "cell_type": "markdown",
   "metadata": {},
   "source": [
    "### Must equal `TRUE` or `FALSE` if in the Boolean set:"
   ]
  },
  {
   "cell_type": "markdown",
   "metadata": {},
   "source": [
    "***The first form of 'unfold' is a more direct consequence of the Boolean definition.  See also 'unfold_is_bool'.***"
   ]
  },
  {
   "cell_type": "code",
   "execution_count": null,
   "metadata": {},
   "outputs": [],
   "source": [
    "unfold_is_bool_explicit = Forall(A, Or(Equals(A, TRUE), Equals(A, FALSE)), domain=Boolean)"
   ]
  },
  {
   "cell_type": "code",
   "execution_count": null,
   "metadata": {},
   "outputs": [],
   "source": [
    "unfold_is_bool_xor_explicit = Forall(A, XOr(Equals(A, TRUE), Equals(A, FALSE)), domain=Boolean)"
   ]
  },
  {
   "cell_type": "markdown",
   "metadata": {},
   "source": [
    "### Folding $\\forall$ over the Boolean domain"
   ]
  },
  {
   "cell_type": "code",
   "execution_count": null,
   "metadata": {},
   "outputs": [],
   "source": [
    "forall_over_bool_by_cases = Forall(P, Forall(A, PofA, domain=Boolean), conditions=[PofTrue, PofFalse])"
   ]
  },
  {
   "cell_type": "code",
   "execution_count": null,
   "metadata": {},
   "outputs": [],
   "source": [
    "conditioned_forall_over_bool_by_cases = Forall((P, Q), Forall(A, PofA, domain=Boolean, \n",
    "                                                              conditions=[QofA]), \n",
    "                                               conditions=[QimplPofTrue, QimplPofFalse])"
   ]
  },
  {
   "cell_type": "code",
   "execution_count": null,
   "metadata": {},
   "outputs": [],
   "source": []
  },
  {
   "cell_type": "code",
   "execution_count": null,
   "metadata": {},
   "outputs": [],
   "source": []
  },
  {
   "cell_type": "code",
   "execution_count": null,
   "metadata": {},
   "outputs": [],
   "source": [
    "from_not_false = Forall(A, A, conditions=[NotEquals(A, FALSE)], domain=Boolean)"
   ]
  },
  {
   "cell_type": "code",
   "execution_count": null,
   "metadata": {},
   "outputs": [],
   "source": []
  },
  {
   "cell_type": "code",
   "execution_count": null,
   "metadata": {},
   "outputs": [],
   "source": []
  },
  {
   "cell_type": "markdown",
   "metadata": {},
   "source": [
    "### Evaluation of $\\forall$ over the Boolean domain"
   ]
  },
  {
   "cell_type": "code",
   "execution_count": null,
   "metadata": {},
   "outputs": [],
   "source": [
    "forall_bool_eval_true = Forall(P, Equals(Forall(A, PofA, domain=Boolean), TRUE),\n",
    "                           conditions=[Equals(PofTrue, TRUE), Equals(PofFalse, TRUE)])"
   ]
  },
  {
   "cell_type": "code",
   "execution_count": null,
   "metadata": {},
   "outputs": [],
   "source": [
    "unfold_forall_over_bool = Forall(P, Implies(Forall(A, PofA, domain=Boolean), \n",
    "                                         And(PofTrue, PofFalse)))"
   ]
  },
  {
   "cell_type": "markdown",
   "metadata": {},
   "source": [
    "**Various ways for a $\\forall$ expression over the Boolean set to evaluate to `FALSE`:**"
   ]
  },
  {
   "cell_type": "code",
   "execution_count": null,
   "metadata": {},
   "outputs": [],
   "source": [
    "def _forallBoolEvalFalse(PofTrueVal, PofFalseVal):\n",
    "    return Forall(P, Implies(And(Equals(PofTrue, PofTrueVal), Equals(PofFalse, PofFalseVal)), \n",
    "                             Equals(Forall(A, PofA, domain=Boolean), FALSE)))"
   ]
  },
  {
   "cell_type": "code",
   "execution_count": null,
   "metadata": {},
   "outputs": [],
   "source": [
    "forall_bool_eval_false_via_f_f = _forallBoolEvalFalse(FALSE, FALSE)"
   ]
  },
  {
   "cell_type": "code",
   "execution_count": null,
   "metadata": {},
   "outputs": [],
   "source": [
    "forall_bool_eval_false_via_f_t = _forallBoolEvalFalse(FALSE, TRUE)"
   ]
  },
  {
   "cell_type": "code",
   "execution_count": null,
   "metadata": {},
   "outputs": [],
   "source": [
    "forall_bool_eval_false_via_t_f = _forallBoolEvalFalse(TRUE, FALSE)"
   ]
  },
  {
   "cell_type": "markdown",
   "metadata": {},
   "source": [
    "### Must be a true statement or a false statement if in the Boolean set:"
   ]
  },
  {
   "cell_type": "markdown",
   "metadata": {},
   "source": [
    "*** The second form, known as the 'law of excluded middle' can be more useful for unfolding the meaning of being in the Boolean set ***"
   ]
  },
  {
   "cell_type": "code",
   "execution_count": null,
   "metadata": {},
   "outputs": [],
   "source": [
    "in_bool_def = Forall(A, Equals(in_bool(A), Or(Equals(A, TRUE), Equals(A, FALSE))))"
   ]
  },
  {
   "cell_type": "code",
   "execution_count": null,
   "metadata": {},
   "outputs": [],
   "source": [
    "unfold_is_bool = Forall(A, Or(A, Not(A)), domain=Boolean)"
   ]
  },
  {
   "cell_type": "code",
   "execution_count": null,
   "metadata": {},
   "outputs": [],
   "source": [
    "from_excluded_middle = Forall(C, Forall(A, C, domain=Boolean,\n",
    "                                            conditions=[Implies(A, C),\n",
    "                                                        Implies(Not(A), C)]))"
   ]
  },
  {
   "cell_type": "markdown",
   "metadata": {},
   "source": [
    "*** New facts may be derived via the 'law of excluded middle' through dual implications ***"
   ]
  },
  {
   "cell_type": "markdown",
   "metadata": {},
   "source": [
    "### Must be a true statement or a false statement if in the Boolean set (XOr version):\n",
    "\n",
    "That is: If A is Boolean, A must be TRUE or FALSE but not both."
   ]
  },
  {
   "cell_type": "code",
   "execution_count": null,
   "metadata": {},
   "outputs": [],
   "source": [
    "in_bool_def_xor = Forall(A, Equals(in_bool(A), XOr(Equals(A, TRUE), Equals(A, FALSE))))"
   ]
  },
  {
   "cell_type": "code",
   "execution_count": null,
   "metadata": {},
   "outputs": [],
   "source": [
    "unfold_is_bool_xor = Forall(A, XOr(A, Not(A)), domain=Boolean)"
   ]
  },
  {
   "cell_type": "markdown",
   "metadata": {},
   "source": [
    "### Inclusive Disjunction (Or) vs. Exclusive Disjunction (XOr)\n",
    "\n",
    "Generally, the exclusive disjunction XOr is \"stronger\" than the inclusive disjunction Or in the sense that, if we know the XOr is true then we know the corresponding Or is true as well. The converse does _not_ hold, since the exclusive disjunction XOr holds if and only if exactly an odd number of its operands hold true (and the other operands are false), while the inclusive disjunction holds if _any_ of its operators holds true."
   ]
  },
  {
   "cell_type": "code",
   "execution_count": null,
   "metadata": {},
   "outputs": [],
   "source": [
    "xor_implies_or_binary = Forall((A, B), Implies(XOr(A,B), Or(A,B)), domain=Boolean)"
   ]
  },
  {
   "cell_type": "code",
   "execution_count": null,
   "metadata": {},
   "outputs": [],
   "source": [
    "xor_implies_or = (\n",
    "    Forall(m,\n",
    "        Forall(A_1_to_m, Implies(XOr(A_1_to_m), Or(A_1_to_m)), domain=Boolean),\n",
    "    domain = NaturalPos)\n",
    ")"
   ]
  },
  {
   "cell_type": "markdown",
   "metadata": {},
   "source": [
    "### The claim that $x\\in \\mathbb{B}$ should itself be in $\\mathbb{B}$"
   ]
  },
  {
   "cell_type": "code",
   "execution_count": null,
   "metadata": {},
   "outputs": [],
   "source": [
    "in_bool_is_bool = Forall(A, in_bool(in_bool(A)))"
   ]
  },
  {
   "cell_type": "code",
   "execution_count": null,
   "metadata": {},
   "outputs": [],
   "source": [
    "%end theorems"
   ]
  },
  {
   "cell_type": "code",
   "execution_count": null,
   "metadata": {},
   "outputs": [],
   "source": []
  }
 ],
 "metadata": {
  "kernelspec": {
   "display_name": "Python 3",
   "language": "python",
   "name": "python3"
  }
 },
 "nbformat": 4,
 "nbformat_minor": 0
}
