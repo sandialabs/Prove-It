{
 "cells": [
  {
   "cell_type": "markdown",
   "metadata": {},
   "source": [
    "Theorems (or conjectures) for the theory of <a class=\"ProveItLink\" href=\"theory.ipynb\">proveit.logic.booleans</a>\n",
    "========"
   ]
  },
  {
   "cell_type": "code",
   "execution_count": 1,
   "metadata": {},
   "outputs": [],
   "source": [
    "import proveit\n",
    "# Prepare this notebook for defining the theorems of a theory:\n",
    "%theorems_notebook # Keep this at the top following 'import proveit'.\n",
    "from proveit.logic import Boolean, TRUE, FALSE, in_bool, Implies, Not, And, Or, Forall\n",
    "from proveit.logic import Equals, NotEquals, InSet\n",
    "from proveit import A, C, P, Q, PofA, QofA\n",
    "from proveit.logic import PofTrue, PofFalse, QimplPofTrue, QimplPofFalse"
   ]
  },
  {
   "cell_type": "code",
   "execution_count": 2,
   "metadata": {},
   "outputs": [
    {
     "name": "stdout",
     "output_type": "stream",
     "text": [
      "Defining theorems for theory 'proveit.logic.booleans'\n",
      "Subsequent end-of-cell assignments will define theorems\n",
      "'%end theorems' will finalize the definitions\n"
     ]
    }
   ],
   "source": [
    "%begin theorems"
   ]
  },
  {
   "cell_type": "markdown",
   "metadata": {},
   "source": [
    "### Comparisons between Boolean values"
   ]
  },
  {
   "cell_type": "code",
   "execution_count": 3,
   "metadata": {},
   "outputs": [
    {
     "data": {
      "text/html": [
       "<strong id=\"true_eq_true\"><a class=\"ProveItLink\" href=\"proofs/true_eq_true/thm_proof.ipynb\">true_eq_true</a> (established theorem):<br></strong> <a class=\"ProveItLink\" href=\"../__pv_it/theorems/df0ac7cd8e0bd15aeaf18c6cbb52f49b57ce31930/theorem_expr.ipynb\"><img src=\"data:image/png;base64,iVBORw0KGgoAAAANSUhEUgAAADoAAAAOBAMAAACMfhKgAAAAG1BMVEX///8AAAAAAAAAAAAAAAAA\n",
       "AAAAAAAAAAAAAAB4Gco9AAAACHRSTlMAmd2rVHZEZkA3AkMAAAAJcEhZcwAADsQAAA7EAZUrDhsA\n",
       "AAAlSURBVBjTYxBSAgFlBlSAJOrKgA24otEDJYvq/KFsbzpWWZAoADztCsNxuhVlAAAAAElFTkSu\n",
       "QmCC\n",
       "\" style=\"display:inline;vertical-align:middle;\" /></a><br>"
      ],
      "text/plain": [
       "<IPython.core.display.HTML object>"
      ]
     },
     "metadata": {},
     "output_type": "display_data"
    }
   ],
   "source": [
    "true_eq_true = Equals(TRUE, TRUE)"
   ]
  },
  {
   "cell_type": "code",
   "execution_count": 4,
   "metadata": {},
   "outputs": [
    {
     "data": {
      "text/html": [
       "<strong id=\"false_eq_false\"><a class=\"ProveItLink\" href=\"proofs/false_eq_false/thm_proof.ipynb\">false_eq_false</a> (established theorem):<br></strong> <a class=\"ProveItLink\" href=\"../__pv_it/theorems/4c1ca7548bdaa42597e70517d6a63f2225d3e8070/theorem_expr.ipynb\"><img src=\"data:image/png;base64,iVBORw0KGgoAAAANSUhEUgAAADoAAAAPBAMAAABHIsEFAAAAHlBMVEX///8AAAAAAAAAAAAAAAAA\n",
       "AAAAAAAAAAAAAAAAAACGjDitAAAACXRSTlMARGZUdpnd76sKo+zpAAAACXBIWXMAAA7EAAAOxAGV\n",
       "Kw4bAAAAJ0lEQVQY02NgIASE8IqaYJU1GSSyYWkgkDHU7QUaV44wjgFhCUgUABR0EBcbuIghAAAA\n",
       "AElFTkSuQmCC\n",
       "\" style=\"display:inline;vertical-align:middle;\" /></a><br>"
      ],
      "text/plain": [
       "<IPython.core.display.HTML object>"
      ]
     },
     "metadata": {},
     "output_type": "display_data"
    }
   ],
   "source": [
    "false_eq_false = Equals(FALSE, FALSE)"
   ]
  },
  {
   "cell_type": "code",
   "execution_count": 5,
   "metadata": {},
   "outputs": [
    {
     "data": {
      "text/html": [
       "<strong id=\"true_not_false\"><a class=\"ProveItLink\" href=\"proofs/true_not_false/thm_proof.ipynb\">true_not_false</a> (established theorem):<br></strong> <a class=\"ProveItLink\" href=\"../__pv_it/theorems/781beb7075c2b53ba86ab5b8574ea6e12734ebf90/theorem_expr.ipynb\"><img src=\"data:image/png;base64,iVBORw0KGgoAAAANSUhEUgAAADoAAAAUCAMAAADrw95cAAAAPFBMVEX///8AAAAAAAAAAAAAAAAA\n",
       "AAAAAAAAAAAAAAAAAAAAAAAAAAAAAAAAAAAAAAAAAAAAAAAAAAAAAAAAAAAo1xBWAAAAE3RSTlMA\n",
       "md2rVHZEZhAyuyLNief16fPv5qk81QAAAAlwSFlzAAAOxAAADsQBlSsOGwAAAIJJREFUOMudk8sS\n",
       "gCAIRdFMRe3l/39si5qmFEaCncDhCiLAyExkI/ZlUx/H1Hp8+BzdzJVO2HqaXBbF/iJSNGUt6onu\n",
       "hWjJv9F77utGzF2mSonKUG9Ai5Kiol73g9wxiWqht1eAOgMStFlpRvR6slq5r/IUX0BrJWrJoBe1\n",
       "alHAYcYJBMMC19FFXLsAAAAASUVORK5CYII=\n",
       "\" style=\"display:inline;vertical-align:middle;\" /></a><br>"
      ],
      "text/plain": [
       "<IPython.core.display.HTML object>"
      ]
     },
     "metadata": {},
     "output_type": "display_data"
    }
   ],
   "source": [
    "true_not_false = NotEquals(TRUE, FALSE)"
   ]
  },
  {
   "cell_type": "markdown",
   "metadata": {},
   "source": [
    "### `TRUE` and `FALSE` are in the Boolean set:"
   ]
  },
  {
   "cell_type": "code",
   "execution_count": 6,
   "metadata": {},
   "outputs": [
    {
     "data": {
      "text/html": [
       "<strong id=\"fold_is_bool\"><a class=\"ProveItLink\" href=\"proofs/fold_is_bool/thm_proof.ipynb\">fold_is_bool</a> (conjecture with conjecture-based proof):<br></strong> <a class=\"ProveItLink\" href=\"../__pv_it/theorems/20b4fa78f5a8db17ad2802a95fc976c1420c3ee80/theorem_expr.ipynb\"><img src=\"data:image/png;base64,iVBORw0KGgoAAAANSUhEUgAAAO0AAAAXBAMAAAAVatXDAAAAMFBMVEX///8AAAAAAAAAAAAAAAAA\n",
       "AAAAAAAAAAAAAAAAAAAAAAAAAAAAAAAAAAAAAAAAAAAv3aB7AAAAD3RSTlMAq1RmmUTNIjK7EInv\n",
       "3XZ/CtNrAAAACXBIWXMAAA7EAAAOxAGVKw4bAAACsUlEQVRIx7VVPYgTQRR+2WST7O4lXmMhFokI\n",
       "NoJG8FoJ+HPCFQZtTg8kIiIE0RUhlXKxtBAXFCWHP2t5jaw2clgYC0GQ00PkQDCwneDvYXGW55s3\n",
       "uzOzyWYD5/qKfTPfNzPfzpv3ZgD+j9mbJv/JylVy7QH089315a0Ap7E9yYCdaevu5u7SAGzofvtx\n",
       "A8o1gMOsfz5lWbNJTtsY0q1ZtgPQAriO3YKTsm6uxl3FHtLNVjHC+wHyLoBVTVl3grvnLzvBwT7o\n",
       "rwpdjMWEC1n8tXzax7uLvgX/F9+QftEV+81c8VAQRZf7/bdp687wMMNeHu+2K+L89cd29BbG+ijA\n",
       "AoFuMJinhC0hWQeiNYY+S9/jcMuDSNoa+ur7jzgri7G+DAWqJfMNp/iIKQVCW+re73Z9qIf9ATr4\n",
       "XUF/AN6dp5WhqeRVeQqTWeth27UaDLN+K7rmpAJJfI7Wz4ymA3tN279zqEKFUsSj7H8KdMHBUcU1\n",
       "1PZ5Ws2+U3RzDQWSeN7VaqQ+ilZ1nwBsWaFNOMp+wcGheo9F4QBh/hlFt6RCEseCc1g6jKaVOGPU\n",
       "Sz3qrkR0cZsaQ561eFIcUXTbIZTrot0Oca2OV6ruJdDcHrLiYQW6Rt2fEd09mFcsAlfpsGbhu6J7\n",
       "UoUkrjvoDTeB5vaULcvQP9TNV4WuZ33Dn8uxPM/QpTLzouJK3R0qJBcuOnjPzCXR3G4CLG60QHu0\n",
       "ToVkbjvFC+1Cl94jKDWU2pvvSN0bITQcyOZCIs3ToxOtbH2J35OhXROtE5h81WheCUhuqOwD7PMS\n",
       "abJsPfk+OyjK/hWYx85JXcNWIHkxIEzFMkgH14ohnp97ibJx7x/X1b3YCYth3JJptRVnhj1KF6Zj\n",
       "J0wPNeJpfIqSdL/ASF3LjeGyIg3H0JuwQuDjFjZlcww91v4CV9ewxtBlgusAAAAASUVORK5CYII=\n",
       "\" style=\"display:inline;vertical-align:middle;\" /></a><br>"
      ],
      "text/plain": [
       "<IPython.core.display.HTML object>"
      ]
     },
     "metadata": {},
     "output_type": "display_data"
    }
   ],
   "source": [
    "fold_is_bool = Forall(A, in_bool(A), \n",
    "                    conditions=[Or(Equals(A, TRUE), Equals(A, FALSE))])"
   ]
  },
  {
   "cell_type": "code",
   "execution_count": 7,
   "metadata": {},
   "outputs": [
    {
     "data": {
      "text/html": [
       "<strong id=\"true_is_bool\"><a class=\"ProveItLink\" href=\"proofs/true_is_bool/thm_proof.ipynb\">true_is_bool</a> (conjecture with conjecture-based proof):<br></strong> <a class=\"ProveItLink\" href=\"../__pv_it/theorems/afebcf07176199c7df41cc36bf6e5dd0af111dfa0/theorem_expr.ipynb\"><img src=\"data:image/png;base64,iVBORw0KGgoAAAANSUhEUgAAADYAAAAQBAMAAACvnpHFAAAAMFBMVEX///8AAAAAAAAAAAAAAAAA\n",
       "AAAAAAAAAAAAAAAAAAAAAAAAAAAAAAAAAAAAAAAAAAAv3aB7AAAAD3RSTlMAmd2rVHZEZrvNECIy\n",
       "74mi4C5kAAAACXBIWXMAAA7EAAAOxAGVKw4bAAAAn0lEQVQY02NgwAJYdTt/XjJjYBBSAgFlVEkO\n",
       "toCdixNALFcMjRxsBXwbGnDKsTsYoMpFKClNgMtNQJHLjELoY97+AFmOexbCzKggOwZkOc4NCDnN\n",
       "+4oLUOSQ3cJaNgtZ7izIpw1QOYaGPGS5Fcj6GBo4kOWYUOU4keVYA1DkXFH8NwUh94AvTgDESocJ\n",
       "LW5bADFgbgc4HlBAXhMkzCAAAO/EJ1PPeY0iAAAAAElFTkSuQmCC\n",
       "\" style=\"display:inline;vertical-align:middle;\" /></a><br>"
      ],
      "text/plain": [
       "<IPython.core.display.HTML object>"
      ]
     },
     "metadata": {},
     "output_type": "display_data"
    }
   ],
   "source": [
    "true_is_bool = InSet(TRUE, Boolean)"
   ]
  },
  {
   "cell_type": "code",
   "execution_count": 8,
   "metadata": {},
   "outputs": [
    {
     "data": {
      "text/html": [
       "<strong id=\"false_is_bool\"><a class=\"ProveItLink\" href=\"proofs/false_is_bool/thm_proof.ipynb\">false_is_bool</a> (conjecture with conjecture-based proof):<br></strong> <a class=\"ProveItLink\" href=\"../__pv_it/theorems/2e401cb5117e855c2c3b49645c27de8d01291cb10/theorem_expr.ipynb\"><img src=\"data:image/png;base64,iVBORw0KGgoAAAANSUhEUgAAADYAAAAQBAMAAACvnpHFAAAAMFBMVEX///8AAAAAAAAAAAAAAAAA\n",
       "AAAAAAAAAAAAAAAAAAAAAAAAAAAAAAAAAAAAAAAAAAAv3aB7AAAAD3RSTlMARGZUdpnd76u7zRAi\n",
       "MolMqJcyAAAACXBIWXMAAA7EAAAOxAGVKw4bAAAAn0lEQVQY02NgwAJY0mf9KmsEM4UwJDkZHU7t\n",
       "EACxTLDIKfAdmIBTjsmgAVXOMy1tAVxuAYqclDdCH8ehB8hyPKsRZnq79TEgy3EdQMhl1aduQJFD\n",
       "dguL4mpkuetpQDABKscwQQ5ZbieyPoYJnMhybKhyXMhyLA4ociYo/luMkHvA5xfAEJaWVp6WlgEW\n",
       "2jFxA8SA5TNh8YAActMgYQYBALQtJ5ZTVaF7AAAAAElFTkSuQmCC\n",
       "\" style=\"display:inline;vertical-align:middle;\" /></a><br>"
      ],
      "text/plain": [
       "<IPython.core.display.HTML object>"
      ]
     },
     "metadata": {},
     "output_type": "display_data"
    }
   ],
   "source": [
    "false_is_bool = InSet(FALSE, Boolean)"
   ]
  },
  {
   "cell_type": "code",
   "execution_count": 9,
   "metadata": {},
   "outputs": [
    {
     "data": {
      "text/html": [
       "<strong id=\"in_bool_if_true\"><a class=\"ProveItLink\" href=\"proofs/in_bool_if_true/thm_proof.ipynb\">in_bool_if_true</a> (conjecture with conjecture-based proof):<br></strong> <a class=\"ProveItLink\" href=\"../__pv_it/theorems/9369f1f423fb4a33751d1433f87bb08b563588710/theorem_expr.ipynb\"><img src=\"data:image/png;base64,iVBORw0KGgoAAAANSUhEUgAAAIgAAAAXBAMAAAAipBr3AAAAMFBMVEX///8AAAAAAAAAAAAAAAAA\n",
       "AAAAAAAAAAAAAAAAAAAAAAAAAAAAAAAAAAAAAAAAAAAv3aB7AAAAD3RSTlMAq1RmmUTNIjK7EInv\n",
       "3XZ/CtNrAAAACXBIWXMAAA7EAAAOxAGVKw4bAAACIklEQVQ4y2NgIAKwky2JBB5BVCegir49mZ9z\n",
       "MYCB9QEDgwCIr4zXDKYNYIrtA5r4hDj2LFEGhscMDK4gbjpeQ5ZBKH0MQ4IZtnMCDV/A0Ahy6AS8\n",
       "hjhDKMfvmIYYMTIwMDuAzGHgVsBryAEwyV39A8Llm3v3GtwQNiB9ioHZAOgg/EECCdA6vk9gmjVv\n",
       "AcIl4tZAOpmB4ezdu6fxGsICCVcHps9gumwBImDXXQTJbWRg8GBgmAUWg0iywJRwwRhsBmAHKHD8\n",
       "ZkCNhAmxOX+9gLQZA0MhAzs4mrlOgGU4YUrWNEAZvAoQw9k/grkJyAH7OAxotQ5Q1wLuAHDAfUI1\n",
       "ZD8stHnA0i9dHH+CaA6g9+/ehBnCyQr0Tz8w3B5AwjXiHIohrD0PkA3hAvL+gh08AdklnAxAbgzI\n",
       "fXZgoQeJKIbwsQkgewcUVHfA3AuohgB9pwtkb8oCa2JwQzHkAQvM85wgJwUDcT6Y+w7FECagpCWQ\n",
       "XQO2MoLhDbIhrA18B6BquYHy7CDO/AJwZMFT5oRohn1bgLQ3EDOCo8F7t/wCJENYdm/8BVXLcYGB\n",
       "a/63BQya/7PBgSIZBRF/dnI+KBczMFyFmcrHwFDfgGTIAwb2HzC5G6iJj3UnNNnDChR4KAH9zK+A\n",
       "MIQVmMA+weRM8Jc2LAYwxkEGLv9UhCE+AgxLvgXAQrYAryGVmEKcmEJc+EuK6UQZwlCHzwy+AuIM\n",
       "IRmwk6EHAIkOfgF9LtBuAAAAAElFTkSuQmCC\n",
       "\" style=\"display:inline;vertical-align:middle;\" /></a><br>"
      ],
      "text/plain": [
       "<IPython.core.display.HTML object>"
      ]
     },
     "metadata": {},
     "output_type": "display_data"
    }
   ],
   "source": [
    "in_bool_if_true = Forall(A, in_bool(A), conditions=[A])"
   ]
  },
  {
   "cell_type": "code",
   "execution_count": 10,
   "metadata": {},
   "outputs": [
    {
     "data": {
      "text/html": [
       "<strong id=\"in_bool_if_false\"><a class=\"ProveItLink\" href=\"proofs/in_bool_if_false/thm_proof.ipynb\">in_bool_if_false</a> (conjecture with conjecture-based proof):<br></strong> <a class=\"ProveItLink\" href=\"../__pv_it/theorems/bce3aa64e388a6e125166b7c0ec52543337ff79f0/theorem_expr.ipynb\"><img src=\"data:image/png;base64,iVBORw0KGgoAAAANSUhEUgAAAJMAAAAXBAMAAAD96mDoAAAAMFBMVEX///8AAAAAAAAAAAAAAAAA\n",
       "AAAAAAAAAAAAAAAAAAAAAAAAAAAAAAAAAAAAAAAAAAAv3aB7AAAAD3RSTlMAq1RmmUTNIjK7EInv\n",
       "3XZ/CtNrAAAACXBIWXMAAA7EAAAOxAGVKw4bAAACIklEQVQ4y2NgIBoUkC2JDvgUwFQZmuidad/O\n",
       "ijIwxAHZAiABZSKM0oZQ+WjCnKwPyhYGMPAZMDC4gvjphE3iSgBTTP8xjDLgLpjAwJDFwNAI5LJP\n",
       "IGwUiwGEki/AMIpZAeg1EwYGtgUMDNwKhI3igVDb9zdAA2nu3Wtwo4Au5lnAwAy0jY2IoFIDk+wP\n",
       "3kOsZc1bAHcVY/EGoBlAc87evXuaCKO8If5j0Id4tGwB3IOv3koDaW6gJz0YGGaBBRdAFaMAmA6G\n",
       "ZDAZxNC/gQElojhZr52/AlTFDPRkIQM7OEFwnYBIocbbCRjrEph0YKgHK2ZIQAp2PlNg9DEdALIX\n",
       "cAeAxLg/YTEKKggER8FhPcVFHhzbHMBguXsTahTDhGigyAegcQ8goR5xDotRUEGYUesYGPgvgF07\n",
       "AclVDBOAmlgPgNxqBxZ7kIjFKKggzIMODAy8B8DcCyhGAR3DBBLZlAV2O4MbplEwQSCYB0oBoITz\n",
       "Acx9h2KUHjDYQe6sAQdkBMMbJKN2zpw58wJCEAg2glSC5L+DuWwKcKM2cL8GupYFFLOM4PTrvVt+\n",
       "AaqrBBCCQNDLwLDyfxYD0/xv4NTAJRkFcXfOTHDJwMAbgPAKQ30DulFwQZDSBtQEx7oTknFgoBbO\n",
       "CgbGjQKqUQ4IQSBgdsCfG5zh+f4gA5d/KlqwIwRBYDpek7AVLpy4FK/EaxRnAQlGsT/AZ9RzBhKM\n",
       "Ih2wk60TAIONd87E/YbnAAAAAElFTkSuQmCC\n",
       "\" style=\"display:inline;vertical-align:middle;\" /></a><br>"
      ],
      "text/plain": [
       "<IPython.core.display.HTML object>"
      ]
     },
     "metadata": {},
     "output_type": "display_data"
    }
   ],
   "source": [
    "in_bool_if_false = Forall(A, in_bool(A), conditions=[Not(A)])"
   ]
  },
  {
   "cell_type": "code",
   "execution_count": 11,
   "metadata": {},
   "outputs": [
    {
     "data": {
      "text/html": [
       "<strong id=\"not_equals_false\"><a class=\"ProveItLink\" href=\"proofs/not_equals_false/thm_proof.ipynb\">not_equals_false</a> (established theorem):<br></strong> <a class=\"ProveItLink\" href=\"../__pv_it/theorems/c25e4d83b3d4ba5c64e3e53ea44d3e44c1951d9c0/theorem_expr.ipynb\"><img src=\"data:image/png;base64,iVBORw0KGgoAAAANSUhEUgAAAIwAAAAXCAMAAADuv1eMAAAAPFBMVEX///8AAAAAAAAAAAAAAAAA\n",
       "AAAAAAAAAAAAAAAAAAAAAAAAAAAAAAAAAAAAAAAAAAAAAAAAAAAAAAAAAAAo1xBWAAAAE3RSTlMA\n",
       "q1RmmUTNIjK7EInv3Xbn9enzK1aD6QAAAAlwSFlzAAAOxAAADsQBlSsOGwAAAc9JREFUSMfFVld2\n",
       "xCAMBCx6SeH+d43BdlbUZctL9OFnI7BGwwhByJtM/uvy0gLDfxb9SWCG63lIT/r7zbbnsTCLv0Ts\n",
       "TlK6gXALGdIr8N9fPE+VKahgsQ9GqyaHgDLYaVMXNVI/TwwUpAKNvbwUJTMwG5yIkln2PBiHP6y0\n",
       "UfWIkVMwxO1AtjMr8YJi8FoZSIidxDglczAiAXE+mbMv7BJeC0k0nVroSbIAYxNayJxqVHZFBUKj\n",
       "1jYOis13UlRE6CDn6j8+05NOwGyJX0mvxxXN4S2vdV16s3lWYpeRLhFTgmHuIsVyxFex5TUY2wrC\n",
       "3RYHDbBXU3uiALkHRsVrCEmQKxfGYCpvBcYcvuiXiCnBcHcW0oZGAxF0DKbyVtt05u9dpZmv70M5\n",
       "M80wfx4xwqBoBMQQTO09poTqeG/6geh3pVLARyTpKNqGPaIbgWm8t6LM/7nWVEcwA3IfzHVAUIWG\n",
       "rKXRDMA03kN6mWCjY8wMsPRi58QcBe8c2jzPm6tAzhAf53rqPTWiHujpoxuNH/R0XL166kVNbmzC\n",
       "PNxs00AWj4EoeAdMzztuggjqEjFLl4alSWY2y68Qo+XbwKRePTS1cm1du9m9cOd6v8m/C/UDZ7gN\n",
       "7VuDo8YAAAAASUVORK5CYII=\n",
       "\" style=\"display:inline;vertical-align:middle;\" /></a><br>"
      ],
      "text/plain": [
       "<IPython.core.display.HTML object>"
      ]
     },
     "metadata": {},
     "output_type": "display_data"
    }
   ],
   "source": [
    "not_equals_false = Forall(A, NotEquals(A, FALSE), conditions=[A])"
   ]
  },
  {
   "cell_type": "code",
   "execution_count": 12,
   "metadata": {},
   "outputs": [
    {
     "data": {
      "text/html": [
       "<strong id=\"not_equals_true\"><a class=\"ProveItLink\" href=\"proofs/not_equals_true/thm_proof.ipynb\">not_equals_true</a> (established theorem):<br></strong> <a class=\"ProveItLink\" href=\"../__pv_it/theorems/bf4f0f3aadce3e764ded53758cadf195ef692a500/theorem_expr.ipynb\"><img src=\"data:image/png;base64,iVBORw0KGgoAAAANSUhEUgAAAJcAAAAXCAMAAAAx8S2TAAAAPFBMVEX///8AAAAAAAAAAAAAAAAA\n",
       "AAAAAAAAAAAAAAAAAAAAAAAAAAAAAAAAAAAAAAAAAAAAAAAAAAAAAAAAAAAo1xBWAAAAE3RSTlMA\n",
       "q1RmmUTNIjK7EInv3Xbn9enzK1aD6QAAAAlwSFlzAAAOxAAADsQBlSsOGwAAAdpJREFUSMfNl9ly\n",
       "wyAMRQGzb134/3+tsU0ssCCk40yrh0zsCHG4SKAQ8gZTfzh6YJHBWSTqw213uIj5kz6e2XIPFnPw\n",
       "SSbMRxuAGIBlnJhBuHhEuEdAWwnEEspl9GU1EaxlFVMXwZS5Ry5eyc5pQparKRlxLfyAy+bYPVwe\n",
       "PjjlkkbkUkMu4lem5VifvCm7YBwVSUzX9QpKxlwyM/kt4by7aRthHJ4T7FpOWCZXXC6D801oAwq3\n",
       "qmE+TPLrnABDrFLp5NrK+/gsldfjWrLoipaPMpmHKTEqh9pzs8DqJalEZ+SquZgvUjkBVKxSYsTl\n",
       "rsnjz0DRcL7WYxtAoDtQcelUXoFsFdrHOa7Gs+Gy+28pzMhVcwl/lOIC3kYi6RxX49ns4yFL8HV+\n",
       "fX2fJ3t3H8NxdEkLJiNcTnG1nrt7iS8W/CKS+M1Y5/0+qfIU7M06oce5nNkt4J5niW8xy/j6wGed\n",
       "+q64ymFDNXjlHE12qBfFPfeU3aCtSWkThuUv7rlcD3n3vRfI3uTa1s+5rp5HTD3fbPQ6sNChhuWP\n",
       "cHHcE1y6XZP25as/v9gSzfIkxZO8xzz7l/IJPSXXVGfzcvtjByPCjFxGvYUrdxE90zNt+Fx/elO7\n",
       "+M/+3PzWfgCOTg5MBiAUlwAAAABJRU5ErkJggg==\n",
       "\" style=\"display:inline;vertical-align:middle;\" /></a><br>"
      ],
      "text/plain": [
       "<IPython.core.display.HTML object>"
      ]
     },
     "metadata": {},
     "output_type": "display_data"
    }
   ],
   "source": [
    "not_equals_true = Forall(A, NotEquals(A, TRUE), conditions=[Not(A)])"
   ]
  },
  {
   "cell_type": "markdown",
   "metadata": {},
   "source": [
    "### Must equal `TRUE` or `FALSE` if in the Boolean set:"
   ]
  },
  {
   "cell_type": "markdown",
   "metadata": {},
   "source": [
    "***The first form of 'unfold' is a more direct consequence of the Boolean definition.  See also 'unfold_is_bool'.***"
   ]
  },
  {
   "cell_type": "code",
   "execution_count": 13,
   "metadata": {},
   "outputs": [
    {
     "data": {
      "text/html": [
       "<strong id=\"unfold_is_bool_explicit\"><a class=\"ProveItLink\" href=\"proofs/unfold_is_bool_explicit/thm_proof.ipynb\">unfold_is_bool_explicit</a> (conjecture with conjecture-based proof):<br></strong> <a class=\"ProveItLink\" href=\"../__pv_it/theorems/8a173b869451a3cbe9be08a5d0bfa9a364aa986a0/theorem_expr.ipynb\"><img src=\"data:image/png;base64,iVBORw0KGgoAAAANSUhEUgAAAPUAAAAVBAMAAABs27XUAAAAMFBMVEX///8AAAAAAAAAAAAAAAAA\n",
       "AAAAAAAAAAAAAAAAAAAAAAAAAAAAAAAAAAAAAAAAAAAv3aB7AAAAD3RSTlMAq1RmmUTNIjK7EInv\n",
       "3XZ/CtNrAAAACXBIWXMAAA7EAAAOxAGVKw4bAAACqUlEQVRIx41VS4gTQRAtJ/+ZTcxFUC8OeFHw\n",
       "k4MIXiSLqwiLGPCyB5GIirgBHdfT4m8FL15iEBaNlx08eBOiN/USb6KrRFAQMTC4iAgiq4IfRLS7\n",
       "q3p2J5nqseAVVE+9flPVPwCz5QgJKUkjUfMICfaOICasMymZII5kIMAhQlkG67ksq4MQll0c+Jbu\n",
       "KyvDQgwpjiDtgHSlCmK3DI5z2rcJwrbGTGWpkrO+9Gula4KZAFuUn0Rckt1pcdq7CMJGf3Daqar0\n",
       "O6W7AWYCaW9DyJ92XE67SxA5Z39y2vBEumK4xAYCaY/4CinR9yy73HWEsAulr6z2EaUlCki7YCaQ\n",
       "draCeNbvP+W00x2EsKr1jdW+q7d1UZM4Amk7ZcRegJtqwB/O1P8nDpKb/x3Z3Mu1tyu/GuCzJi0R\n",
       "YJ8ivIhop+qI05BTM9mPab7G0Zd6/YsuQmhC7gtb9yblxa59o0kcgbStLqLgOzXVB7k8zTWzEHSm\n",
       "NlDmSA0B8HFs9BerfRWb5FlVTeIIpJ1fRFgBbrWJ5+JnxQIIbefWoLYtRP6w2gfpSsl6oTZDIO1M\n",
       "FwF1dTIhOAx4QwWdMw8Ge54WeMuu92aMeldC0hIhdr2tHgLuTap7DvaAre6YYGx+hjILAUJdhafY\n",
       "undgtLAqJHEEvddaCDinipiAT5CpYN2X31OmPgs52Z85j9Mex+hOPSRxBNIOz+4KVeX4w3V+6kS7\n",
       "fU2ut0OZ+Z6CPffdh41/G8NPmPpZeEW3gatJDEG0f161v1hDoJUALs7kO1i3U9LDrwnmB7wXjRMJ\n",
       "cJ4Qvm0rXbxkhHZTD9Olb7Z0JRonEpY/UYL+COz9x2BatN862WiHkxU8hNGmB+JEgnw3h95O+357\n",
       "NjrQAtr9Brs+OEsS4b8qEq8RwWAlL45ksg+If3Oy142cI9r/AAAAAElFTkSuQmCC\n",
       "\" style=\"display:inline;vertical-align:middle;\" /></a><br>"
      ],
      "text/plain": [
       "<IPython.core.display.HTML object>"
      ]
     },
     "metadata": {},
     "output_type": "display_data"
    }
   ],
   "source": [
    "unfold_is_bool_explicit = Forall(A, Or(Equals(A, TRUE), Equals(A, FALSE)), domain=Boolean)"
   ]
  },
  {
   "cell_type": "markdown",
   "metadata": {},
   "source": [
    "### Folding $\\forall$ over the Boolean domain"
   ]
  },
  {
   "cell_type": "code",
   "execution_count": 14,
   "metadata": {},
   "outputs": [
    {
     "data": {
      "text/html": [
       "<strong id=\"forall_over_bool_by_cases\"><a class=\"ProveItLink\" href=\"proofs/forall_over_bool_by_cases/thm_proof.ipynb\">forall_over_bool_by_cases</a> (conjecture with conjecture-based proof):<br></strong> <a class=\"ProveItLink\" href=\"../__pv_it/theorems/d2018f319547b6ba80dc07fa7bab3517da687ca40/theorem_expr.ipynb\"><img src=\"data:image/png;base64,iVBORw0KGgoAAAANSUhEUgAAAPsAAAAXBAMAAAA/2iRsAAAAMFBMVEX///8AAAAAAAAAAAAAAAAA\n",
       "AAAAAAAAAAAAAAAAAAAAAAAAAAAAAAAAAAAAAAAAAAAv3aB7AAAAD3RSTlMAq1RmmUTNIjK7EInv\n",
       "3XZ/CtNrAAAACXBIWXMAAA7EAAAOxAGVKw4bAAADgUlEQVRIx62WTWgTQRTHX5JNNsmmawoFFQ8N\n",
       "KhX8LEgL4gdRKgqtEvRU9RBQEHoxvQhFofUoKo0o1C3SrOClKJIWv9oirRVBK0oseGtgVRB6aYto\n",
       "W1uwznuzu5lsElpJFjYz82Ymvzfz/vNmASrxqNmuNY5MWBX5f2at8iixtfoZoeIygNegaWFsbikb\n",
       "78LCXV+8e3rl9sYLOtZ2cMMl9n4n/FFsXiwbL+H6fYkS/fMAgQlWBuPUdK/gYB3x1zAOybLxftzF\n",
       "jhLd/r8MyV6Q+PZItcxPTxTxzAlQIuXHvo0Vg6UivsjeZVYJ8faLUdTcBE7zMId8FZDeXlbES3QH\n",
       "5tjLXIA6LnpjFtd7nhT7MZv9UAF8KJudSpfoXseC282UDs1872EPBmGA8McBesWxUbGxzdo+KGY1\n",
       "BLzUBQESd7AQz9BXJoEWjM8p6EZHGwnfDjKTjTfVfHg9dXIZtv56Wp0ATwyGtPuaZphO2VbupSTg\n",
       "2Z+0U/2xmUvqnp84YnbPbhppoMqkucBOFOpOwgd0ShoHAV4JeE8GlAw8oMjhz1mnFYd500La6YVn\n",
       "VB9lcfV/1WKqIm82PUlZbr6lnbzbVIuzu2ma2yDl1TAnBbwrCuocTwqE9+kOKw1rE/C7ufK8N1lI\n",
       "mhhXVWA4Yh97Af+EiSHDynM8WcYPoXEc4LOAD0WgKgwZG8/PpmClYYMC3uchKai+MKioLLb6/To/\n",
       "9ssWftIUV9UYK3dx/CCuQV6C9qiA79TlGpDjNt4ddVhp2FYBr9QRzJDi0E9+SC3vTN3+tvB9uD14\n",
       "0tlJhH0cfxV14Pk0sx0E/IGZbzp4kzaeVwUr/bQKePk1jetSx+A0QRX/SX4TEYyeAcThXy7QKSS8\n",
       "CwXiCltDOL6alhy28f6kw0rt6+KNt4HO9MjAEjRqmhZhsU+TNKXUH+uE3gLoX2kDd2qe9XwRLspQ\n",
       "fT7+TY4pbL5gLdh8KxXIi3CDrx7ShiMBVAkXvJwRpnUm8vDyAtVz0lONYDrPSsNmnHgM7E+efxj+\n",
       "pRPvEXIau37saWpqOA8/vUw66gEruQQS/vGcVdG091qf2S/iW8LwcD4m38O082PoTkH+68lVO4p/\n",
       "pYiX71m7xsTsLrAGkyW+dh5pWvHvn/48T1bDS3ZIjgGcKbDaFWWtX22yHQ41AerUKniwQoJpvr7A\n",
       "2gCVf/I+mIKOMr+llw37B+XP6zV2d0ObAAAAAElFTkSuQmCC\n",
       "\" style=\"display:inline;vertical-align:middle;\" /></a><br>"
      ],
      "text/plain": [
       "<IPython.core.display.HTML object>"
      ]
     },
     "metadata": {},
     "output_type": "display_data"
    }
   ],
   "source": [
    "forall_over_bool_by_cases = Forall(P, Forall(A, PofA, domain=Boolean), conditions=[PofTrue, PofFalse])"
   ]
  },
  {
   "cell_type": "code",
   "execution_count": 15,
   "metadata": {},
   "outputs": [
    {
     "data": {
      "text/html": [
       "<strong id=\"conditioned_forall_over_bool_by_cases\"><a class=\"ProveItLink\" href=\"proofs/conditioned_forall_over_bool_by_cases/thm_proof.ipynb\">conditioned_forall_over_bool_by_cases</a> (conjecture with conjecture-based proof):<br></strong> <a class=\"ProveItLink\" href=\"../__pv_it/theorems/46edd7f2906506240abbd16aad422e507c1cb55a0/theorem_expr.ipynb\"><img src=\"data:image/png;base64,iVBORw0KGgoAAAANSUhEUgAAAbgAAAAZBAMAAACx0yZ/AAAAMFBMVEX///8AAAAAAAAAAAAAAAAA\n",
       "AAAAAAAAAAAAAAAAAAAAAAAAAAAAAAAAAAAAAAAAAAAv3aB7AAAAD3RSTlMAq1RmmUTNIjK7EInv\n",
       "3XZ/CtNrAAAACXBIWXMAAA7EAAAOxAGVKw4bAAAFR0lEQVRYw91Yb4gbRRR/2WSzySa3zUFREarx\n",
       "DxUFNdDWD/7N2epZWzVgkV4FuSJSqJbmUATx7MUvQrHQgOK5pTQriFAqJV6r2Dtr0/aDFbFERRBp\n",
       "IC2iFiXmTmm9Fq3vzezuzO6k9QjKhQY2Oztvfm/e782b92YXoCd+ixrF/1ql1fi6N7jB8P+hdMll\n",
       "Rc7wW8XLj9wpThGVPcXJZeh2w/yTi9BNy3Wxtyqz/W89zNBV1hFvY2eOkXuAnjfMP7lYgezqJq0s\n",
       "wJXa6WDjPf58O5KDjYzcq7SQ5fknl6AQeqkb7PYmEsILlvPngbP4t5SRiyPnVLYH9hz5eqIb7G8l\n",
       "vCgia+wx9fKf+J92iFwUozPeCwllSbd5pUIXEtQ4eos1QwGeYxq/bDS+6AVy6UbjRLUb7CxA4m+8\n",
       "xzg6r/1O65dh5B4C2NEJk5cfbvJSU4eBnqw5h17204qKDMnFSpCktABmeHxMVewIS5CYcTDrLhaA\n",
       "nk2cx1uUx8IIGMhSr6wauJKZ/+kPfG43yfzSGsShBThg77TtZoDy0B/7+4soS9n25/Yu3wYPwf0T\n",
       "sIwjloEiQ1PQihHWfr/E+xZ/9Mj9rJFUFJvHhPOt6al91Ad9We4JY5ocWGPkkk6KZPcAHCTiG8D4\n",
       "TCL3RBFGi/COP8eTkqnROqTqXEaD9WoYIfVKCDOjymi77IAPWfsQGpk4aReslHF9SSInKU7NCEuS\n",
       "bbeRZhRPrxiYpfVsM3Jak+WThZhy8HYrXisFOa2OvijzYsjmiDui2EbyYLW5jA3eGEaIXhnBKpos\n",
       "c8ndxvOJvg2jdQWyslIwmRXkZMVrj3uW8DInyJkI/ou01NwUdS+JjgB8hbFBafQ+QW4MJ4m2oe7P\n",
       "4VYNFsHpLPRluIwNnggjRK+M6IOwjJOLR9ketOIZfsDAlbvLEeRkxc31on5t95afhSVF+gnXFURu\n",
       "gvxnnIMRjOIIzfKJmP0K4lMzhv05tDzuMNt+juJlzDEWApexwTeGEW5vCPEiBBEeudRiRqUZG4bd\n",
       "jGVs9TFpz0mKLXiQLHHLXMGLT/LN43htpg1Q5uRGaQ9Ej7duIdeSG9aL2alIxDN62Z9Dd/PMflR5\n",
       "d+uU43awv6EwQvTKiCFQZIyccZhNULJqzERcucSjBUFOUrwWfhWWbPZ0UPY3qJBXirwuELkI+TSS\n",
       "4XGL8ZA4K2Y/Sute1DL+HAlX5cgkQD9bSj89wNYwQvTKiOtAkfHddhXLdlMfnIM7cKmzuOeqVUFO\n",
       "Urxq6lrHs2TlhV1eTaiDWTnjwM0XnsUYLUivPGl+Hk/mdacvJ2Z/E9bBN64eOSztqjudKxNBJiPk\n",
       "sBSIrRcJS6/24b5/na8cVJuCnFBssQ2o5cP18Dup/Yr8PjdGxW0PloE7f34axOyjz+99DbmKhGLx\n",
       "wruPwoivsEgdLTCrAYTbG0JICaWlkNMRO8OrOZL7WCInFGPQLsh6lki/pVJ7uUTOqmDQwLYsvHBN\n",
       "vyMVcWPg5NX4fjvuHxSSTJggr50+zxLAuH+cGYfEEYFwSzuXywhUEZTJ5FZn4N0zBeNtKuI/HnhD\n",
       "Sii+4thhMB97xrVE/kk97D0n9CZOyXSN2ZRPKHp+r1y6WR4LnJB8mYkITUGY5TBClG6zfLE38T22\n",
       "XRBGQydTdivHOqGO8wyS08mxY4scmZwx/T0umu+TQUWlL6PGOgURU98/BxXopV8HPHJBxaolsMVv\n",
       "/aR+Q4myM8i3IJODTeTCSW9EQVXpyejImFMQy1RAylFkcyIXUNzJkrl//Qp43AzdO8mcOfQG+4Rs\n",
       "06W+WxqdFJv//t3y6D+ePZMzBvPWnAAAAABJRU5ErkJggg==\n",
       "\" style=\"display:inline;vertical-align:middle;\" /></a><br>"
      ],
      "text/plain": [
       "<IPython.core.display.HTML object>"
      ]
     },
     "metadata": {},
     "output_type": "display_data"
    }
   ],
   "source": [
    "conditioned_forall_over_bool_by_cases = Forall((P, Q), Forall(A, PofA, domain=Boolean, \n",
    "                                                              conditions=[QofA]), \n",
    "                                               conditions=[QimplPofTrue, QimplPofFalse])"
   ]
  },
  {
   "cell_type": "code",
   "execution_count": null,
   "metadata": {},
   "outputs": [],
   "source": []
  },
  {
   "cell_type": "code",
   "execution_count": null,
   "metadata": {},
   "outputs": [],
   "source": []
  },
  {
   "cell_type": "code",
   "execution_count": 16,
   "metadata": {},
   "outputs": [
    {
     "data": {
      "text/html": [
       "<strong id=\"from_not_false\"><a class=\"ProveItLink\" href=\"proofs/from_not_false/thm_proof.ipynb\">from_not_false</a> (established theorem):<br></strong> <a class=\"ProveItLink\" href=\"../__pv_it/theorems/4100944ebcd60c6b0070f38989c7673be2676d380/theorem_expr.ipynb\"><img src=\"data:image/png;base64,iVBORw0KGgoAAAANSUhEUgAAAH0AAAAWCAMAAADabWOOAAAAOVBMVEX///8AAAAAAAAAAAAAAAAA\n",
       "AAAAAAAAAAAAAAAAAAAAAAAAAAAAAAAAAAAAAAAAAAAAAAAAAAAAAAACXHtMAAAAEnRSTlMAq1Rm\n",
       "mUTNIjK7EInv3Xbt5cmRiLwgAAAACXBIWXMAAA7EAAAOxAGVKw4bAAABnklEQVRIx8VViW7sIAzk\n",
       "MKcJfeX/P7aYI4HsEr1WFUW7iGsYj+0Yxv6oGU09P+dC7mTXiXpQ59xsJBepsNsu3rid0oGnIlb7\n",
       "OkexkRwNJksD2cKtd6ZcZDFVteGgFnCn3ynwVTUUFzh/bfr/gd+af5jdm8qybapyDe9dhwY756dG\n",
       "DQeMefGSoTMG1drMtmhSYyTZ1/k8biFhNnLn8kZkyIwQ9oH9xLBZyrsPKTqAnPNtS8Qp55QNsZoI\n",
       "jY/YGXqxZj8xpXHzxO7ryXT0OsPkgI1MF9ujvFaydol+zd4x1RRkT+wtGEfobhPaDxcxIE94NywB\n",
       "hCmw7k5eMeCofeS/XLIrOZZailMYDM8kMQynmnYLUa3YTwybffaO3fRzLvX48EsXICJP2RVSFyFO\n",
       "9LizpUNPDJt99sruXUrFz4IGLyWmxN9QFbQ4ac+/uLj0wpDn/326R88/1YGKKp/PVX8qu12wj5jh\n",
       "1fo+O5QE8JC0okfP9moTNV5ybpdOmNFmJB8E6uJPqrEvePVuaylJxA3PxJJ9y0u5YhdqywP9O9d8\n",
       "AS5jDQKmCf+9AAAAAElFTkSuQmCC\n",
       "\" style=\"display:inline;vertical-align:middle;\" /></a><br>"
      ],
      "text/plain": [
       "<IPython.core.display.HTML object>"
      ]
     },
     "metadata": {},
     "output_type": "display_data"
    }
   ],
   "source": [
    "from_not_false = Forall(A, A, conditions=[NotEquals(A, FALSE)], domain=Boolean)"
   ]
  },
  {
   "cell_type": "code",
   "execution_count": null,
   "metadata": {},
   "outputs": [],
   "source": []
  },
  {
   "cell_type": "code",
   "execution_count": null,
   "metadata": {},
   "outputs": [],
   "source": []
  },
  {
   "cell_type": "markdown",
   "metadata": {},
   "source": [
    "### Evaluation of $\\forall$ over the Boolean domain"
   ]
  },
  {
   "cell_type": "code",
   "execution_count": 17,
   "metadata": {},
   "outputs": [
    {
     "data": {
      "text/html": [
       "<strong id=\"forall_bool_eval_true\"><a class=\"ProveItLink\" href=\"proofs/forall_bool_eval_true/thm_proof.ipynb\">forall_bool_eval_true</a> (conjecture without proof):<br></strong> <a class=\"ProveItLink\" href=\"../__pv_it/theorems/cadaf41ef36618b172728282d1d3a76d81d8e36f0/theorem_expr.ipynb\"><img src=\"data:image/png;base64,iVBORw0KGgoAAAANSUhEUgAAAWoAAAAXBAMAAADQPRh7AAAAMFBMVEX///8AAAAAAAAAAAAAAAAA\n",
       "AAAAAAAAAAAAAAAAAAAAAAAAAAAAAAAAAAAAAAAAAAAv3aB7AAAAD3RSTlMAq1RmmUTNIjK7EInv\n",
       "3XZ/CtNrAAAACXBIWXMAAA7EAAAOxAGVKw4bAAAD/0lEQVRYw8WXTWjUQBTHX/ej6W666xYE8dSK\n",
       "ouIH9qIgqKxQP3tw0YtVD5UqooKuCoIgdAUvHrRFrSUibfTWi6xfSJWithT8ZhUFL4WgeBC0fiCK\n",
       "Ctb3ZiaTSXYz9rL6IJvsvP/k/Wby8mYCUG3Lw4dXk5YKM/AI7WVA9S3dBDcmLyU7DBB38BzWjZwZ\n",
       "uphZPer5FF4XJN3/o+HceiEl24/HmwrUsTFmGXKuooZdVYNOtlN4bZApKLlgcylaZAJ/au2Kcx2h\n",
       "Z0DOY5Qp3VWjjjVTeG2QLkRZ5HAp9WjE9I5mNdTopFGZTVWjrmePWhvkYwGPIpei3byD/+Ghhhqd\n",
       "URxhbfXSejaj1gbpp6PApfhInI80vA4dNTqfjI09qh51K3+tdEF+ANT9FlJMEFhEmXJFR43OtQDn\n",
       "1UT0yeaIsxOKFRFFNl3Z3cGpZRC7TIHExpCYXrSN0IXZAksEtSwcKjU6D4CBbfH+1pXTqCXB/W1f\n",
       "rzfkIZozLeuB1aeMZdC6YFmOJ1nsjjTrKkQXbs85NQ+CdeK+CL93xwuR5+nPt6/lXCndppOUC3Rz\n",
       "jc6EbVKn5QBDCnW0BGYJLtIlvfvxotdVKLgkmXFbtip398rFKKcWQcD8gj+npveAUzw4V9zukyKF\n",
       "9NmWRurdpaPuoiv2nkzFF1lhqslC+hOvswxhTzk1k8RybkutraEWQWDzU3wyaynliuYlr1x71Jex\n",
       "oYTnbTpqdEL7CroaBnimMNU3QSoDJYlwtZyaSVKyRa1sHrXIEBEEnO183UPqQ7dEuS4qUsqz1F08\n",
       "L9Tl9UIConk0fsKBrMLUaRtTwWiXCLMgZqGdUaiZ5LDsE8nCOpI0+6j7BDULgq/sakgyp9PyuCDK\n",
       "dU6RxqlEUsos1c01OuEoDST6dHyeOpPLxl/bEO+W1G3lc80kbbIl3l1prq8IahYENsN7BkZzffyt\n",
       "t+2Q0qN0t++8DIZTU42soUHXZPxMDUyUkQgnyqmZZIZsqatIfVJQsyDQervRju62rNOU1yYTrJvo\n",
       "86QDE3sg0v8Nc+ZlRWo+YnKKJG32M414IGEZMiJHo8mQVEEJjzW9s1BX5HNtBit8qqDsoUvhO1Xm\n",
       "FEma91Eb39nJexvH/XOdLAqJ9zamnUpz7dsGbcIC0cSXG6Q+FYCJZoObLs2OTGxyb/mo3/1idaxX\n",
       "Lh+9/tWzblhIEnl33UnkPYkSv9cLH7sHyQ074QjOaWTfXqs5SKPEOKL5KmDOgCXUP3LlSAa3mRE3\n",
       "0+TyM1A5xEBZ+OSg1RMmVQcQSt37F+pYPnjh2hb3Yk3ZRSAJHRia5HejIXMsjeE+jIZ9qOX/Qg1u\n",
       "3iwOyuTjNcWSGM3BfzT/F3BSnO3wDrZf+U/sDwAxPBC29YR7AAAAAElFTkSuQmCC\n",
       "\" style=\"display:inline;vertical-align:middle;\" /></a><br>"
      ],
      "text/plain": [
       "<IPython.core.display.HTML object>"
      ]
     },
     "metadata": {},
     "output_type": "display_data"
    }
   ],
   "source": [
    "forall_bool_eval_true = Forall(P, Equals(Forall(A, PofA, domain=Boolean), TRUE),\n",
    "                           conditions=[Equals(PofTrue, TRUE), Equals(PofFalse, TRUE)])"
   ]
  },
  {
   "cell_type": "code",
   "execution_count": 18,
   "metadata": {},
   "outputs": [
    {
     "data": {
      "text/html": [
       "<strong id=\"unfold_forall_over_bool\"><a class=\"ProveItLink\" href=\"proofs/unfold_forall_over_bool/thm_proof.ipynb\">unfold_forall_over_bool</a> (conjecture without proof):<br></strong> <a class=\"ProveItLink\" href=\"../__pv_it/theorems/fdd96f875664b549b3d7a09ae81ccad1031c9a510/theorem_expr.ipynb\"><img src=\"data:image/png;base64,iVBORw0KGgoAAAANSUhEUgAAAVUAAAAVBAMAAAAEDWDFAAAAMFBMVEX///8AAAAAAAAAAAAAAAAA\n",
       "AAAAAAAAAAAAAAAAAAAAAAAAAAAAAAAAAAAAAAAAAAAv3aB7AAAAD3RSTlMAq1RmmUTNIjK7EInv\n",
       "3XZ/CtNrAAAACXBIWXMAAA7EAAAOxAGVKw4bAAAEV0lEQVRIx41XX4hUVRj/vPN/7s7dEYxSH3Yg\n",
       "iCj/zIMJPhQbmqRLuNSLDxJTa0Qu6LVAkKydoBcf2p0iWzfEGXoQfFBmlSVyWdqChTCTVSwiGLgk\n",
       "IkG6q9TmKrh93znn3u+cuWeW/eA7c8/9ft/v/O75PwA28+HO77Ay88OHDLo9y++c0MkyBtyPkbB5\n",
       "JZhYoVSEkh0BSAX4O9EZEquJhA72Z/T0puZFevG0iXyeGrUFogbri6u/2q2gZIfQb3bQSpC/lj5f\n",
       "u78ha8mWsKJIsLM6TSrfEC/L7K/Qi3eNnHyFGrUE2LoRcqohocS9hEW6YdUqIQsAuctRzRFdmm5I\n",
       "hFtqY4UzorpJlAfYP6HZUTPYk2Vq1BJgG8HGNgcSShk9OJ0SvVatApJ9jAIfhzWllRLIzlXaWGG7\n",
       "pnULO32ca8wo6BKDaQmwzVXRmxKK9u33WIfLhtavNTbwHqA/CmtKKyWQ3XyijRWmNa1djcgT+KFp\n",
       "U8gzQqslwFYnr0oodn8wRx81YGg9rrFBbh79QVgLtQ5IxOzxNlanomlNl9l/abV+NoX0yUUSD7At\n",
       "ymEVUBxY2ExDO25oTTSZDbprcoRVgtI6LivNtG+yJpuaVrfI/ioPl7IBqTUKNGJSkTEzVYp65nUY\n",
       "IfatSqta6P8wG+n88Dp3pdK6VXac7/SarOmypjVRYT8MGVScqve9/KRScl1qlQFcuj/J187g/htq\n",
       "/nr3Ji/2h1CAXhgi5AZzbTlvR2wwt37yBa6FWjeIEhfxHyZroaRpdabZcw2XAC8CTKlGZqRWFQD3\n",
       "PhbDa09A0Hz/WYmg6RdBwftyRw9tGCNt+8CZmQhSBz0h1DoiyqcA7pqsXf2a1uw8uxOIFbQGP97U\n",
       "qgKw9yoOK04I1Op+wxshN30eX8zi7z5Ta2bQjyALVq37wv33nMlqaE1Ns0PlJXr1I8A1cw6oAARv\n",
       "yTMJtX5wSW2ETQ2KUwAKRLTRnK+/+REk+wj0hFDrxvAkSJYMVnMOzLLDBToVMg/hsNqa4bTSKgLg\n",
       "wU7IizMh2HGlqjbCfg2aog2Fhm+b0a+pGkO8f0FLiLRuE8Ko9YrBmgv0tVVjh2O0LhJX7z4X8o0r\n",
       "rSIAe+FvIYf69dNbfPxH0GPE/p/cjzStRzRIel5PiLSKDUwM3kmD1S1qWmkDCx1WUWetKnIrnymt\n",
       "IgB9kz2NxHtjY1/QfHUFYNfSaYaeXToATn0BmX41tJ5kSLK+GGjcoL6dEgDWUTFssGZxuF9rta60\n",
       "WjgtC/3sajqXuZVCVWvUAxiqZpuyX12vbaMtVLW1NGto9S2QeILd9GvwR5pLG9LussYlBC9m3SV5\n",
       "KKDW4TbS8PrBV56Y6ZB4gt22aM/bNVdXx0taeJQbTf4A+T3vwFE6pQ8OjsXYR/nxaIf76+hyCXbL\n",
       "cc/RVS90m52NNZr/buxEJ6iuYmJ5SDzBbvmaITt067+dAKZW+H8rE/0R8ZDszsyykHhCJ/s4errN\n",
       "/j9v8Wwg29zDaAAAAABJRU5ErkJggg==\n",
       "\" style=\"display:inline;vertical-align:middle;\" /></a><br>"
      ],
      "text/plain": [
       "<IPython.core.display.HTML object>"
      ]
     },
     "metadata": {},
     "output_type": "display_data"
    }
   ],
   "source": [
    "unfold_forall_over_bool = Forall(P, Implies(Forall(A, PofA, domain=Boolean), \n",
    "                                         And(PofTrue, PofFalse)))"
   ]
  },
  {
   "cell_type": "markdown",
   "metadata": {},
   "source": [
    "**Various ways for a $\\forall$ expression over the Boolean set to evaluate to `FALSE`:**"
   ]
  },
  {
   "cell_type": "code",
   "execution_count": 19,
   "metadata": {},
   "outputs": [],
   "source": [
    "def _forallBoolEvalFalse(PofTrueVal, PofFalseVal):\n",
    "    return Forall(P, Implies(And(Equals(PofTrue, PofTrueVal), Equals(PofFalse, PofFalseVal)), \n",
    "                             Equals(Forall(A, PofA, domain=Boolean), FALSE)))"
   ]
  },
  {
   "cell_type": "code",
   "execution_count": 20,
   "metadata": {},
   "outputs": [
    {
     "data": {
      "text/html": [
       "<strong id=\"forall_bool_eval_false_via_f_f\"><a class=\"ProveItLink\" href=\"proofs/forall_bool_eval_false_via_f_f/thm_proof.ipynb\">forall_bool_eval_false_via_f_f</a> (conjecture without proof):<br></strong> <a class=\"ProveItLink\" href=\"../__pv_it/theorems/3d3b00fd278c445fad476e18d44bbcb5f1b849e40/theorem_expr.ipynb\"><img src=\"data:image/png;base64,iVBORw0KGgoAAAANSUhEUgAAAgkAAAAVBAMAAAA+x2ACAAAAMFBMVEX///8AAAAAAAAAAAAAAAAA\n",
       "AAAAAAAAAAAAAAAAAAAAAAAAAAAAAAAAAAAAAAAAAAAv3aB7AAAAD3RSTlMAq1RmmUTNIjK7EInv\n",
       "3XZ/CtNrAAAACXBIWXMAAA7EAAAOxAGVKw4bAAAFXklEQVRYw41Yb2hbVRQ/TV7zkr7mNYLi1A8L\n",
       "Cv2grgtYBzKUaieo3SToJ2GMwITBENZ+GQz3J34U/zSiqBmy9IMMik7SiU5XxqIgyHTSDQQZDYsb\n",
       "OPyyVMHabrB6z7l/3r0v79ReOC8595f7zu/87rn33ReApDZpmdtLzQeu+f/T4/fejA2edPewXYWN\n",
       "NZssP2pyHSZhMTK3V7b+Dhe7F7nGeHtY/ntY9BoE5Q2KoMgelJTYYTpWAZ2HXOwRy/5ce+++V2dk\n",
       "r9emVoDrSQKU8BpHUk3BqLF614cvaA/gZaJZSriHQRJRMToo99G3UnJSNllqBySlJBWcWM+is8/B\n",
       "ByqRASwD5C6A9lI02ZmZBI4OEqjCOYmXITH0kxntwQhd9ydkESFJ6ElMx8OEMlwVu2QhtSYpJang\n",
       "xHoDl07Nwb1SZJC9I252R/XqXNNjnAoaOSVpwDhepgW0taM9FX+UVWGUQcdRhSwW7yFGhBhZ8DZP\n",
       "EiVeBRULJy9w1j8MWgbhirDb2lO5wgVOBY1cv0d+tvDSFZtTt6k9FX9whmOGiIXm9NcWlTbO3mlu\n",
       "N3DJwpnzVaLEq6BipYVqGRcftgxyS8JWtKdz3cuqoJCFN2UnlUQDrao9FT9T4pghYqFZVak4WqTz\n",
       "mPhaYVSIkfU73SJR4lXQsS622z+5+IRlMFSTFS09nescq8Kc2sjk0vVoO1yVtao8FT8ocMwQsdHt\n",
       "aqE2SYXBdnuxyagQI+vB1hJR4lXQsZ4DOO7iey3Dm75+OZpkles2CqIfGT2I2L5SY2bChQL+uWI0\n",
       "/TJ+miZ0F93iksMMERu9OmamTaTjVdUaGejNLEb2JZhuEiWpwnqxpsAXefQ3Jp6+V+GXLYPuA/OP\n",
       "m16T66NsLUhE7LlX8DOPyYd/zX9ZNp6On2px84OIgw4X9WiRjmA7Rb2fq6PQ8Ne7nlE/jJEdg2MF\n",
       "osTXgo6Vm6HfPAlwTuE/WEZr2vSaXKdZFSSyCeAmbT5ltVrBeDp+doljhoiDDrxWVqOR6nH4inrP\n",
       "C1Wyv9fLYeA/qARxyYYf7NhcI0q8CjpWqkOb491CySQVlhNV2M2qsFufOE6ZvIcqSSr0s7WAiIMe\n",
       "PAOWCiNyc+x/WwTcIdIPAzhbNMcFi+wXIvQCUeJVMLEqT6H7PcClhBWRvQ1Wr8l1C7svbNFnJq+o\n",
       "18C03szcFbHArVVEbLS9D6wVAZk0RQozBXnEFLWwXT5MY2TFdpJvESV+XzCxTuMT2L8FU/oodMKy\n",
       "8B+wek2uT7C1QEge74gzlsPOrp6JXMfel2rc/CBio69EozGdYJhy7ngVmCU5vJ0/quOCQxaP9Jkl\n",
       "osTXgol1GCcz/cvNhzU+Z1lmye41uU6wKhBC1fWxfhwe0D9Rj78RiB6iScwQsVC/Eo3GdPzvqJSr\n",
       "YUu9CwTZF2WWLtnDqNy/RIlXwcTqw62lz3o+vxOZ11jtWL36nQl+jd1SLI7Fi7Q4CLkfL+9ijYpi\n",
       "e37thD7/LFBZ/kxlmY8zcxALzVWj0ZTOJoo4P3cLttXr9aLYF5qkmUt2dm0/pBrLTaQUbDDWoHWS\n",
       "y1cjc3vN9CywfzDEkN9Y7wj7VnzERX1rdJROB/wVeEvWAjTjL/QxsvwLuRvrmPWWhm9E2txe+30r\n",
       "ucWRUdYbZ1UYZ9BRSwWsyb/l8Umo8E1chRhZXgUnVtg4a0EfWeb2qnaIzSCO5CYZz6+x5VRjUDHa\n",
       "pLOzAJ8ul33ce4b/+Pb9nt+6ZFkV2FiizVrm9vbG4KPLA0+N8XLsX26IJKJidDydz+r1MptCRIlV\n",
       "gY1F72KRub2qctgMepGjjHeDFfIGix6FYKP/Ozpkw8Xy+rH+A5jk1IoLSHZTAAAAAElFTkSuQmCC\n",
       "\" style=\"display:inline;vertical-align:middle;\" /></a><br>"
      ],
      "text/plain": [
       "<IPython.core.display.HTML object>"
      ]
     },
     "metadata": {},
     "output_type": "display_data"
    }
   ],
   "source": [
    "forall_bool_eval_false_via_f_f = _forallBoolEvalFalse(FALSE, FALSE)"
   ]
  },
  {
   "cell_type": "code",
   "execution_count": 21,
   "metadata": {},
   "outputs": [
    {
     "data": {
      "text/html": [
       "<strong id=\"forall_bool_eval_false_via_f_t\"><a class=\"ProveItLink\" href=\"proofs/forall_bool_eval_false_via_f_t/thm_proof.ipynb\">forall_bool_eval_false_via_f_t</a> (conjecture without proof):<br></strong> <a class=\"ProveItLink\" href=\"../__pv_it/theorems/eef7fefba697a137efab3c4268644f362e37a1690/theorem_expr.ipynb\"><img src=\"data:image/png;base64,iVBORw0KGgoAAAANSUhEUgAAAgkAAAAVBAMAAAA+x2ACAAAAMFBMVEX///8AAAAAAAAAAAAAAAAA\n",
       "AAAAAAAAAAAAAAAAAAAAAAAAAAAAAAAAAAAAAAAAAAAv3aB7AAAAD3RSTlMAq1RmmUTNIjK7EInv\n",
       "3XZ/CtNrAAAACXBIWXMAAA7EAAAOxAGVKw4bAAAFYklEQVRYw41Yb2hbVRQ/TV7zkqZ5jaA49cOC\n",
       "Qj+o6wLWgQyl2glqNwn6SRgjMGEwhLVfBsP9iR/FP40oaoYs+SCDopN0otOVsSgIMp1kA0FGw+IG\n",
       "Dr8sVbC2G6zec+6fd+/LO7UPzkvO/eW+8zu/e+599wYg7pq2zG2lywfu8v+nxe9/GBs87ulBpwIb\n",
       "u2yyfK/pdZgEhdDcVnkNdrnY/cg1xtvD8t/DotcgW9qgCIrsQUmJ7aZj5dF5yMUesezPtffue7Uh\n",
       "W70OXXm4HidAEe9RJNEUjOqrd334gvYAXiaaxegDdtHDLxHSj8re2dIAfSvGJ2WTpeuApBSngmGB\n",
       "9iw6+xx8qBwawDJA5gJoL0GDnWrEcHSQrCqck3gbEV0/aWgPxui+PyaLEIlDT2I6HiaU4qrYJQuJ\n",
       "NUkpTgUn1hs4daoO7hVDg/Qd8bA7qlXnmpzgVNDIKUkDJvE2K6CtXe2p+OOsCuMMOokqpLF4DzEi\n",
       "RMiCt3maKPEqqFg4eFln/sOwZRCsCLutPZUrXOBU0Mj1e+RnC289sTj1mtpT8YcbHDNELDSjv7ao\n",
       "tHH0TnOrgUsWzpyvECVeBRUrKVRLufioZZBZEraiPZ3rXlYFhbTflI1UEnW0ivZU/FSRY4aIhaZV\n",
       "pWJvkc5j4muZUSFC1u/2CkSJV0HHutjp/OTiU5bBSFVWtPR0rvOsCvNqIZNT16PlcFXWqvJU/Gye\n",
       "Y4aIjW5XE7VJKgx3OotNRoUIWQ+2FokSr4KO9RzAcRffaxk+9PXL4SCrXLdREP3K6EPE8pWYMAMu\n",
       "FPDPFcLhl/GTZfvFABHERq9OmGET6XgVNUeG+jOLkH0JZptESaqwXqwZ8EUeg/Wpp+9V+GXLoPfA\n",
       "wuOm1eT6KFsLEhFr7hX8zGHywV8LX5aMp+MnWtz4IOKgowXdW6Qj2M5Q6+dqKzT69a5n1A8jZCfg\n",
       "WJ4o8bWgY2Ua9JsnAc4p/AfLaE6bVpPrLKuCRDYB3KTFp6RmKxhPx08vccwQcdCh10qqN1I9Dl9R\n",
       "63mhSvr3WinI+g8qQVyywQc7NleJEq+CjpXo0uJ4t1AyToXlWBV2syrs1juOUybvkXKcCoNsLSDi\n",
       "oAfPgKXCmFwcB98WAXeI9IMsnC2Y7YJF9gsRuk2UeBVMrPJT6H4PcClmRqRvg9Vqct3Crgtb9J7J\n",
       "K+g5MKsXM3dGtLm5ioiNdvaBNSMglaRIQSovt5iiFrbLl2mErFhOci2ixK8LJtZpfAP7t2BGb4VO\n",
       "WBb8A1aryfUJthYIyeETccQy2NjTI5Hp2utSlRsfRGz0lbA3ppMdpZy7XhnmSA5v549qu+CQxS19\n",
       "aoko8bVgYh3GwUz+cvNhjc9bllqyW02uU6wKhFB1faxfhwf0T9TrbwzCl2gcM0Qs1C+HvTEd/zsq\n",
       "5UrQUmeBbPpFmaVL9jAq9y9R4lUwsQZwaRmw3s/vhObVV7tWqz4zwa+RR4rJsXiRJgch9+PtXaxR\n",
       "UWzPr53Q+582leXPVJY57oRDiIVmKmFvSmcTRVyYvwXbarVaQawLTdLMJTu3th8S9eUmUupTwWER\n",
       "xhq2dnK5SmhuqxmeNvsHQwT5jfWOsKfiIy7qW73DdLrgr8BbshagGT3QR8jyB3I31jHrlIYnIm1u\n",
       "q33eir+iyDjrTbIqTDLouKUC1uTfcvskVPgmqkKELK+CEyuon7WgjyxzW9V1iM0gimSmGc+vsuVU\n",
       "ZVDR26SzMw+fLpd8XHtG//j2/b7fumRZFdhY4pqzzG3tj8FHlxueKuNl2L/cEIlFRe9oOp/VaiU2\n",
       "hZASqwIbi85iobmtqnLYDPqRo4x3gxXyBosehexG/3d0yAaLpfVj/Qf2XtSbnK9YvgAAAABJRU5E\n",
       "rkJggg==\n",
       "\" style=\"display:inline;vertical-align:middle;\" /></a><br>"
      ],
      "text/plain": [
       "<IPython.core.display.HTML object>"
      ]
     },
     "metadata": {},
     "output_type": "display_data"
    }
   ],
   "source": [
    "forall_bool_eval_false_via_f_t = _forallBoolEvalFalse(FALSE, TRUE)"
   ]
  },
  {
   "cell_type": "code",
   "execution_count": 22,
   "metadata": {},
   "outputs": [
    {
     "data": {
      "text/html": [
       "<strong id=\"forall_bool_eval_false_via_t_f\"><a class=\"ProveItLink\" href=\"proofs/forall_bool_eval_false_via_t_f/thm_proof.ipynb\">forall_bool_eval_false_via_t_f</a> (conjecture without proof):<br></strong> <a class=\"ProveItLink\" href=\"../__pv_it/theorems/0140b410400a20c7ace6d871b68f2e9d5041696f0/theorem_expr.ipynb\"><img src=\"data:image/png;base64,iVBORw0KGgoAAAANSUhEUgAAAgkAAAAVBAMAAAA+x2ACAAAAMFBMVEX///8AAAAAAAAAAAAAAAAA\n",
       "AAAAAAAAAAAAAAAAAAAAAAAAAAAAAAAAAAAAAAAAAAAv3aB7AAAAD3RSTlMAq1RmmUTNIjK7EInv\n",
       "3XZ/CtNrAAAACXBIWXMAAA7EAAAOxAGVKw4bAAAFVUlEQVRYw41YXYhbRRQ+m9zkJns3dyMoVn1o\n",
       "UMiD2m3AtSBFWd0K6rYS9EkoJdBCoQjdfSkU+xMfxZ+NKGqKNHmQwqKVbEWrXUqjIEirkhYKIg3G\n",
       "Llh8aVbBdbeFrnPOzNw7c3PPugPnJme+zD3f+ebM3LkBiGvThtm91Fzgmvs/Pe7gzdjgcXf3u1XY\n",
       "WDPJ8qOm12HiF0Kze2VL9bjYg8h1xtvD8t/DotfBK29QBEX2kKTEDtOx8ug8ZGOPGPbn2rv37WvK\n",
       "XqdLLQ+L0buxSKIlGDVW7/rgBe0BvEw0SzGkAiQWFaO98hB9K8UnZZKldlDYYrwKVqxn0dlv4cOV\n",
       "0ACWAbIXQXsJmux0M4ajhXiqcE7hZVQM/bipPRij64GYLEIkDj2F6TiYUJqrYpssJNYkpTgVrFiv\n",
       "49Kp2RNbCg0yd8TN7qhenWtyglNBI6clDZjEy6yAtva0p+KPsyqMM+gkqpDB4j3MiBAhC87maaLE\n",
       "q6Bi4eR51vqHEcPAXxF2W3sqV7jIqaCRxXvkZxsvfbE59VvaU/FHmhwzRAw0q7+2qbRx9s5wu4FN\n",
       "Fs5eqBIlXgUVKylUS9t40TDILglb0Z7OdS+rgkI6b8hOKokGWlV7Kn66xDFDxEAzqlJxtEjnMfG1\n",
       "wqgQIev2+gWixKugY/3U7V6y8SnDYLQmK1p6Otd5VoV5tZHJpevQdrgqa1V5Kr6X55ghYqLb1UJt\n",
       "kQoj3e61FqNChKwDW0tEiVdBx3oO4ISN7zUMb/ralXCSVa7brAfDACK2r8REMOFCAfd8IZx+GT9J\n",
       "E7qLbnHZYoaIif42EUybSMepqjUyPJhZhOxLMNsiSlKF9WLNgCvySDWmnr5X4VcMg/4DC48HvUGu\n",
       "j7K1IBGx5/6KnzlM3v9r4Yty4On4iTY3P4hYaLGgR4t0BNsZ6v1MHYWKX+16Rv0wQnYCjueJEl8L\n",
       "Ola2Sb95EuC8wr83jNZ00BvkOsuqIJFNADdp8ymr1QqBp+NnljhmiFjo8KtlNRqpnoAvqfeCUCXz\n",
       "e73se+6DShCbrP/+js01osSroGMlerQ53i2UjFNhOVaF3awKu/WJ43SQ92glToUUWwuIWOihs2Co\n",
       "MCY3x9RbIuAOkb7vwblCcFwwyH4uQneIEq9CEKvyFLrfAVyOWRGZ22D0BrluYfeFLfrM5BT0GpjV\n",
       "m5m9IjrcWkXERLv7wVgRkE5SJD+dl0dMUQvb5cM0QlZsJ7k2UeL3hSDWGXwCu7dgRh+FThrm/wNG\n",
       "b5DrE2wtEJLDO+KMZbGzr2ci2zP3pRo3P4iY6CvhaEzHK1LOPacCcySHs/MHdVywyKbwIbhElPha\n",
       "CGIdwclM/nzzYY3PG5ZeMnuDXKdYFQih6vpIPw4P6p+ox98YhA/ROGaIGKhbCUdjOu63VMpVv63e\n",
       "BbzMizJLm+wRVO5fosSrEMQawq1lyHg+vx2a01jtGb1SYNGuxrxOGsj9eHkHa1QU2/NrJ/X5p0Nl\n",
       "+SOVZS7KzEIMNFsNR1M6m4j+wvwt2Fav1wtiX2iRZjbZubUDkGgst5CSt8FYI8ZJLlcNze4NpqfD\n",
       "/sEQQX5hvaPsW/FRG3WN0WE6PXBX4E1ZC9CKvtBHyPIv5Has48ZbGr4RabN7zfet+BZFxllvklVh\n",
       "kkHHDRWw8v6WxyehwtdRFSJkeRWsWH7jnAF9aJjdq9phNoMokp1mPLfGllONQcXoIJ2defhkuezi\n",
       "3lP845v3Bn5rk2VVYGOJNmeY3TsYg48uDzw1xsuyf7khEouK0dF0Pq3Xy2wKISVWBTYWvYuFZveq\n",
       "ymEzGESOMd4NVsgbLHoMvI3+72iR9a+V14/1HzNA1Js49JmaAAAAAElFTkSuQmCC\n",
       "\" style=\"display:inline;vertical-align:middle;\" /></a><br>"
      ],
      "text/plain": [
       "<IPython.core.display.HTML object>"
      ]
     },
     "metadata": {},
     "output_type": "display_data"
    }
   ],
   "source": [
    "forall_bool_eval_false_via_t_f = _forallBoolEvalFalse(TRUE, FALSE)"
   ]
  },
  {
   "cell_type": "markdown",
   "metadata": {},
   "source": [
    "### Must be a true statement or a false statement if in the Boolean set:"
   ]
  },
  {
   "cell_type": "markdown",
   "metadata": {},
   "source": [
    "*** The second form, known as the 'law of excluded middle' can be more useful for unfolding the meaning of being in the Boolean set ***"
   ]
  },
  {
   "cell_type": "code",
   "execution_count": 23,
   "metadata": {},
   "outputs": [
    {
     "data": {
      "text/html": [
       "<strong id=\"in_bool_def\"><a class=\"ProveItLink\" href=\"proofs/in_bool_def/thm_proof.ipynb\">in_bool_def</a> (conjecture with conjecture-based proof):<br></strong> <a class=\"ProveItLink\" href=\"../__pv_it/theorems/a9fd2b67f3555993dbe2c6e49cbc8da900e23b260/theorem_expr.ipynb\"><img src=\"data:image/png;base64,iVBORw0KGgoAAAANSUhEUgAAAVMAAAAVBAMAAAAJExCCAAAAMFBMVEX///8AAAAAAAAAAAAAAAAA\n",
       "AAAAAAAAAAAAAAAAAAAAAAAAAAAAAAAAAAAAAAAAAAAv3aB7AAAAD3RSTlMAq1RmmUTNIjK7EInv\n",
       "3XZ/CtNrAAAACXBIWXMAAA7EAAAOxAGVKw4bAAADq0lEQVRIx41WTWgTQRR+3aRJkzTbXgqihwYE\n",
       "QfxpDlXwIimtIhQxKEihItEiQhS6IhTE/sSjoHYPalXQphehB6X14sGD8SCIWo2iItLAYg9i/Veo\n",
       "ikidnzf7O7PxwTfszu733jdv37wdAJkZCKXJHsYRIRb/jxm5EpUaPcNBbMj3ZP7i0lwbwH4J6y2C\n",
       "xC8oHDdaMlIIgQUSaKUTq73P1yGIDfqoiUZraCoPejbgVJvhIBb76nsWrTFrhQUJSUagtoflJutg\n",
       "G5047HknWeCgrpYDUrMpwwQoBjxfRxDrkETWWEJjZTqupMM5CCfARjYWHZyi+Te9Ochy0Mt2IyA1\n",
       "kiFfojPguRtBrOunSmokR8etdLgE4QSU2umArjOV8bzTjCB2+26JX7yv1Qq2VHLVXPZ7riCIu5O/\n",
       "VFLhIR3SdnmGEFAqDYSIkPTFvO+sQRB/1he+ir2LTlYbjpMCi/mLVStwEBvVvyulDjBpxGk0A+EE\n",
       "lEoDCczVao+87/QiiD/oYJLiRacAFj+totFa/TtnhoNYTvuhlDorNnxakFQElEoDCewAuMIm7U86\n",
       "IFYPu2GcOYsZjtRXT1+QNyMsHzvZxn7mXj3pSJmmP55t75a6mY0rAD4LkkNwu7Ol0kACxyDOvCUf\n",
       "CDnPEWS5MMaexdzbSt9EcqxVfDlIZzjop4h/U2Z1PRvJXn4jSCoCSqWBBBLlVJ5l2q6X+wjQz/e0\n",
       "s+Zwhq7WRKlg9gM0+dtLc56D7MCert9KqeO8AA0tJ0gqAkqlgQQ0i+es70lA6k2Aliq9mHZnFcwE\n",
       "+WgVldQk0fRXKXUfdn5eUmEElEoDCUCBtTmwDgQKgKw8XRHdxSWVrE2r+orLLoAowbyyVjfwu+pp\n",
       "u2ocgrRWaSABuMW2tw7bhZxriMas+OXplkcqcRIx/b8xi4P9DweVWd3C7xbabJKKILaV6QCG2br7\n",
       "4KN4ZxYxTJ3x/8hBR+pM6kPObjOOiYYSp59h0lBJ5U0QbhRskoqAUkUTZAEb2A+p90676FZnOaaX\n",
       "i6BNLjFNUxf4Q/3oZXaygnTe57ipypCcXCrD2uUjwUMV/2e8xC6cESQFgdTCY1YLNJAAnu4Axkqi\n",
       "75Q43NZ/teY5qI0EtLxGhB9Yq0FSuI24YJ+4WsRJgJ4p+LlCbd2BGXGuCLVoNkiqH6jbHTB6D5K7\n",
       "Dom7CURIdszAVMLgCLUTElLdQAIym/a0UplJQiRNjlCbkJDqBgpLQtziUNs7ydwoIsR0Q0aqFwjx\n",
       "D6gjKdUFn6kcAAAAAElFTkSuQmCC\n",
       "\" style=\"display:inline;vertical-align:middle;\" /></a><br>"
      ],
      "text/plain": [
       "<IPython.core.display.HTML object>"
      ]
     },
     "metadata": {},
     "output_type": "display_data"
    }
   ],
   "source": [
    "in_bool_def = Forall(A, Equals(in_bool(A), Or(Equals(A, TRUE), Equals(A, FALSE))))"
   ]
  },
  {
   "cell_type": "code",
   "execution_count": 24,
   "metadata": {},
   "outputs": [
    {
     "data": {
      "text/html": [
       "<strong id=\"unfold_is_bool\"><a class=\"ProveItLink\" href=\"proofs/unfold_is_bool/thm_proof.ipynb\">unfold_is_bool</a> (conjecture with conjecture-based proof):<br></strong> <a class=\"ProveItLink\" href=\"../__pv_it/theorems/22746b6ca3d14ebb05bedc8ca0ef430f4beef3350/theorem_expr.ipynb\"><img src=\"data:image/png;base64,iVBORw0KGgoAAAANSUhEUgAAAJsAAAAVBAMAAACj9YEXAAAAMFBMVEX///8AAAAAAAAAAAAAAAAA\n",
       "AAAAAAAAAAAAAAAAAAAAAAAAAAAAAAAAAAAAAAAAAAAv3aB7AAAAD3RSTlMAq1RmmUTNIjK7EInv\n",
       "3XZ/CtNrAAAACXBIWXMAAA7EAAAOxAGVKw4bAAACQUlEQVQ4y41UTWgTQRT+3Gw2yW6z9lJQLy54\n",
       "0ZM55CwtVimIWPDSk6SgiAY0/lxErRV66SUUoWC8dPHgTQje1Eu8CWrJoQcRA4tFRBCpCv4govPe\n",
       "m9ldza7tg28n832738y8eXnA/6O0RbqlsUm8ka8bmbTxVuoJCEaJ2JPnZnV5cDYyaR2k+jXBISJO\n",
       "59ndk2E/2+2iRztFI6WeFdyk3S7l2R2UYeIbPQ/Q43aKRkqtC5wQ8II8ux4/vavfaajGWeyl3xF1\n",
       "JGQU1IGd3NTJFcz5n/k7taodJLQOUZ2a4MVg8CzPzpaUj1tfzA1WU7QOUb1RwRRwh+lw2I6WA4pB\n",
       "+SdPdwAfE1qHVgsNwQWUuFjcp/qAzZNrJpdV/mGj9Imn6tpeGfroQMVaolo9QSX0pjkzlIH2zmVE\n",
       "3Yt7td0IK+8nJ37IZlvWeEKDthKr5Q2BFclNzKyqldTJlZ13N23nRsAvXb1O6187oxZ7AjS4nhDN\n",
       "Auv8o3vpUfqwtsJrmfcXUzkQO6NafQEeUEHDx2G4XM7R5PN5/XpFLY3jCudlvj6W0BSXE7WwJMA1\n",
       "vokZfECxJrtbeGsqVEklOsGKdIv7jZg2f3+jUvFwAW3jvRx5vDssnOl0blHuPP1yuQ935WuIfb+b\n",
       "UoeBoXUkanVaIOEDN+bLXdmd5xv6ZXZ5Z9DXNSRUCrYHUs/Krm3oerZdPbtZxJ3BfgL32ClcUee2\n",
       "zjU7cdVXsjvsME1NaagxuQ87y38T2a1rmKYFKpt397kt0u8EfwAQ0ZyCmDJJLwAAAABJRU5ErkJg\n",
       "gg==\n",
       "\" style=\"display:inline;vertical-align:middle;\" /></a><br>"
      ],
      "text/plain": [
       "<IPython.core.display.HTML object>"
      ]
     },
     "metadata": {},
     "output_type": "display_data"
    }
   ],
   "source": [
    "unfold_is_bool = Forall(A, Or(A, Not(A)), domain=Boolean)"
   ]
  },
  {
   "cell_type": "code",
   "execution_count": 25,
   "metadata": {},
   "outputs": [
    {
     "data": {
      "text/html": [
       "<strong id=\"from_excluded_middle\"><a class=\"ProveItLink\" href=\"proofs/from_excluded_middle/thm_proof.ipynb\">from_excluded_middle</a> (conjecture with conjecture-based proof):<br></strong> <a class=\"ProveItLink\" href=\"../__pv_it/theorems/17f1dad058968770de740b3fbab6aeffd10051d70/theorem_expr.ipynb\"><img src=\"data:image/png;base64,iVBORw0KGgoAAAANSUhEUgAAAPoAAAAZBAMAAADqEi4iAAAAMFBMVEX///8AAAAAAAAAAAAAAAAA\n",
       "AAAAAAAAAAAAAAAAAAAAAAAAAAAAAAAAAAAAAAAAAAAv3aB7AAAAD3RSTlMAq1RmmUTNIjK7EInv\n",
       "3XZ/CtNrAAAACXBIWXMAAA7EAAAOxAGVKw4bAAADGUlEQVRIx+WWTWgTQRTH/0k22TSbri0Ieiku\n",
       "WqoH0ULRiyBFWlFadcFLRYR6EKEotEdRcPUm9hDxoCkWVuhFKhLrB5qCtqhQFEvRq4H0oIJIkR6s\n",
       "CIrvTXazsx+tUF0vDmxmd/Le/Gbee/PeABGtpTKI+JteeRM53o9/0zr+a3oTd5uC9AR3yfa4sHeu\n",
       "NLefZXo3f50M0hWTukxcsafP2mh9y/QL9KUWgvQsm+RMTPDcqAUoS0zP2IBmhPw+QN1ETPTMS/pJ\n",
       "TzE9Rc7NhKOuI8bge8qbzXYKyOtK5VWYnq9U3pXigas/hPktQd8HjITpioUGW0gFlTvdFztq6s2e\n",
       "d4FqJF37KZ33IagcYvrayXHbo9PYkHi/bdXG2h4e2CNe3AjNzchTzveUy9SlzPoIKSqIEEHjkkRv\n",
       "sDVSSVPOvSFnmxE8qDspO180dU3daMl0bVGa+ZiBBgoj3PR5N12KEEH+i2tToierHHRbad+tMn1b\n",
       "LejSw2S+LsLqGsqGTO+bRT0lJSmKk+yS7jpMKA5EiKBR0Lc4mbZ/NxmaN3JRpmdSwmt6pgk6a9Pe\n",
       "d9kyvXq81q+j5zwbiNc252UUUnTPrE9EnHSg5NAnaIWJuWCe19oEq6r045aYTemdkf2uYy+0IrVT\n",
       "ZJgWN5y9Q8qKZM2QCAlx1Gm2Qz9Hi8x3BunqtLCfpU/hsKBp2YOmRO/DZ0f6vonnrrkLAjfqKOJI\n",
       "WITa9naky26NS9DK8mxmw1fj1gsrTd79jp00oUF+L5Ukes/kBueIDJXBIZDkR9QsrlFCEZcQEuGA\n",
       "29/c7auwCVLTB8MVtgr1Gy7X9o5S1aPr5ElLmLVIa2qmkY+cwAouXSi6lpdFoup77gXwPlzf0xRv\n",
       "i7W0Q/RHEp28saZmq3t8tk3oJsbdqFMcRSwgILLM7WKsZ8EO03ubMPbVVK9ztvnw+KoXdco0codO\n",
       "wMnXyHU9+QQMG7jmU3Q+JZHV3G3Gi0Vv2YFqLGdiA0f9/xUQmaz/4GZVWPaftA3FdyFRBv/6vW55\n",
       "eoqesjywY1W3ytMr3edX3o/PyvZv7vPPfgGuytOZBRPj8wAAAABJRU5ErkJggg==\n",
       "\" style=\"display:inline;vertical-align:middle;\" /></a><br>"
      ],
      "text/plain": [
       "<IPython.core.display.HTML object>"
      ]
     },
     "metadata": {},
     "output_type": "display_data"
    }
   ],
   "source": [
    "from_excluded_middle = Forall(C, Forall(A, C, domain=Boolean,\n",
    "                                            conditions=[Implies(A, C),\n",
    "                                                        Implies(Not(A), C)]))"
   ]
  },
  {
   "cell_type": "markdown",
   "metadata": {},
   "source": [
    "*** New facts may be derived via the 'law of excluded middle' through dual implications ***"
   ]
  },
  {
   "cell_type": "markdown",
   "metadata": {},
   "source": [
    "### The claim that $x\\in \\mathbb{B}$ should itself be in $\\mathbb{B}$"
   ]
  },
  {
   "cell_type": "code",
   "execution_count": 26,
   "metadata": {},
   "outputs": [
    {
     "data": {
      "text/html": [
       "<strong id=\"in_bool_is_bool\"><a class=\"ProveItLink\" href=\"proofs/in_bool_is_bool/thm_proof.ipynb\">in_bool_is_bool</a> (conjecture with conjecture-based proof):<br></strong> <a class=\"ProveItLink\" href=\"../__pv_it/theorems/910bdf03592b01ad40d96060b922ce66397979a30/theorem_expr.ipynb\"><img src=\"data:image/png;base64,iVBORw0KGgoAAAANSUhEUgAAAKAAAAAVBAMAAAAz5vjYAAAAMFBMVEX///8AAAAAAAAAAAAAAAAA\n",
       "AAAAAAAAAAAAAAAAAAAAAAAAAAAAAAAAAAAAAAAAAAAv3aB7AAAAD3RSTlMAq1RmmUTNIjK7EInv\n",
       "3XZ/CtNrAAAACXBIWXMAAA7EAAAOxAGVKw4bAAACL0lEQVQ4y2NgwALYoRgnYCdR/BEUA1UkoMq8\n",
       "PZmfczGAgfUBA05xARBfGUWWaQMEAwHbBzSdE+LYs0QZGB4z4BR3BXHTUSSXQTEQ6GMYGMywnRNo\n",
       "0QKc4o0gj01AkXSGYiBw/I6p0YiRgYHZAac4yC5uBRTJA1AMlKj+ARV7efduAkwjG5A+BRHmm3v3\n",
       "GgOqOLMB0KGoQZgAwUBQx/cJIhb2CuEScWsgnQzmseYtwBQ/e/fuaRQDWTZAMBA4MH2GRHYWIvDX\n",
       "XQTJbQTzyhZgEfdgYJgFFoNJshlAMNABChy/IUIFcI2xOX+9gLQZA2pkIokXMrCDkw7XCagcrwIE\n",
       "A93JwP4RYiBy4D8OA1qtA+YlYBPnXMAdAI4AaHAx8ARAMDAmXBx/goV67gLBBKhGTlag3/pBHA5g\n",
       "cN29yYAmzvQAYn/EOXQDuYDp/i9YaCWySzgZgEbHgD01Aat4gh1Y6EEiupdZgPgORAhVI9CnumDe\n",
       "Bazim8BRyMfgBpXjfADBDMFAnA9Jbg+QNTIBeZZg3jsGbOI14DiJYHgDleMWgGB2UOKeD4nfJLjG\n",
       "aIZ9W4C0NySyFLCJMzaARLx3y0PTDccFMOaa/20Bg+b/bLDYwqkQyWcn54NKFQaGq2Aul2QUAzZx\n",
       "sI8Z6hug7BtQjAyi595FLsnYoaHHuhOa9dDEweHFD3O/CRTjASwGBMRZDjJw+afCYqUAgvGASpLE\n",
       "QcmLawJeA6eTJl4HxTgBXwFOcQCrZbKP7tBMwQAAAABJRU5ErkJggg==\n",
       "\" style=\"display:inline;vertical-align:middle;\" /></a><br>"
      ],
      "text/plain": [
       "<IPython.core.display.HTML object>"
      ]
     },
     "metadata": {},
     "output_type": "display_data"
    }
   ],
   "source": [
    "in_bool_is_bool = Forall(A, in_bool(in_bool(A)))"
   ]
  },
  {
   "cell_type": "code",
   "execution_count": 27,
   "metadata": {},
   "outputs": [
    {
     "name": "stdout",
     "output_type": "stream",
     "text": [
      "These theorems may now be imported from the theory package: proveit.logic.booleans\n"
     ]
    }
   ],
   "source": [
    "%end theorems"
   ]
  },
  {
   "cell_type": "code",
   "execution_count": null,
   "metadata": {},
   "outputs": [],
   "source": []
  }
 ],
 "metadata": {
  "kernelspec": {
   "display_name": "Python 3",
   "language": "python",
   "name": "python3"
  }
 },
 "nbformat": 4,
 "nbformat_minor": 0
}