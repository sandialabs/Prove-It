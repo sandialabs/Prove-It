{
 "cells": [
  {
   "cell_type": "markdown",
   "metadata": {},
   "source": [
    "Theory of <a class=\"ProveItLink\" href=\"../../../_theory_nbs_/theory.ipynb\">proveit</a>.<a class=\"ProveItLink\" href=\"../../_theory_nbs_/theory.ipynb\">logic</a>.booleans\n",
    "========\n",
    "\n",
    "Boolean arithmetic.  Boolean ($\\mathbb{B}$) is the set containing only TRUE ($\\top$) and FALSE ($\\bot$).  This theory contains operations that are defined to act on Boolean elements: implication ($\\Rightarrow$, $\\Leftrightarrow$), negation ($\\neg$), conjunction ($\\land$), and disjunction ($\\lor$).  The quantification operations, universal ($\\forall$) and existential ($\\exists$), are also defined in this theory because these operate on multiple instances of Boolean values."
   ]
  },
  {
   "cell_type": "code",
   "execution_count": 1,
   "metadata": {},
   "outputs": [
    {
     "data": {
      "text/html": [
       "<h3>Local content of this theory</h3>"
      ],
      "text/plain": [
       "<IPython.core.display.HTML object>"
      ]
     },
     "metadata": {},
     "output_type": "display_data"
    },
    {
     "data": {
      "text/html": [
       "<table><tr>\n",
       "<th><a class=\"ProveItLink\" href=\"common.ipynb\">common expressions</a></th>\n",
       "<th><a class=\"ProveItLink\" href=\"axioms.ipynb\">axioms</a></th>\n",
       "<th><a class=\"ProveItLink\" href=\"theorems.ipynb\">theorems</a></th>\n",
       "<th><a class=\"ProveItLink\" href=\"demonstrations.ipynb\">demonstrations</a></th>\n",
       "</tr></table>\n",
       "<h3>Sub-theories</h3>\n",
       "<table>\n",
       "<tr><th><a class=\"ProveItLink\" href=\"../implication/_theory_nbs_/theory.ipynb\">implication</a></th><td>Implies and Iff (if and only if) operations</td></tr>\n",
       "<tr><th><a class=\"ProveItLink\" href=\"../negation/_theory_nbs_/theory.ipynb\">negation</a></th><td>Not operation</td></tr>\n",
       "<tr><th><a class=\"ProveItLink\" href=\"../conjunction/_theory_nbs_/theory.ipynb\">conjunction</a></th><td>And operation</td></tr>\n",
       "<tr><th><a class=\"ProveItLink\" href=\"../disjunction/_theory_nbs_/theory.ipynb\">disjunction</a></th><td>Or operation</td></tr>\n",
       "<tr><th><a class=\"ProveItLink\" href=\"../quantification/_theory_nbs_/theory.ipynb\">quantification</a></th><td>Forall (universal quantification) and Exists (existential quantification) operations</td></tr>\n",
       "</table>\n"
      ],
      "text/plain": [
       "<IPython.core.display.HTML object>"
      ]
     },
     "metadata": {},
     "output_type": "display_data"
    },
    {
     "data": {
      "text/html": [
       "<h3>All axioms contained within this theory</h3>"
      ],
      "text/plain": [
       "<IPython.core.display.HTML object>"
      ]
     },
     "metadata": {},
     "output_type": "display_data"
    },
    {
     "data": {
      "text/html": [
       "<dt><a class=\"ProveItLink\" href=\"axioms.ipynb#true_axiom\">proveit.logic.booleans.true_axiom</a></dt><dd><a class=\"ProveItLink\" href=\"../__pv_it/common/95025295868b9266d37330b4427adf122f6061770/expr.ipynb\"><img src=\"data:image/png;base64,iVBORw0KGgoAAAANSUhEUgAAAA4AAAAOBAMAAADtZjDiAAAAG1BMVEX///8AAAAAAAAAAAAAAAAA\n",
       "AAAAAAAAAAAAAAB4Gco9AAAACHRSTlMAmd2rVHZEZkA3AkMAAAAJcEhZcwAADsQAAA7EAZUrDhsA\n",
       "AAAYSURBVAjXYxBSAgFlBiBwZYAAWtHpQAwAFRwEg6MlY1sAAAAASUVORK5CYII=\n",
       "\" style=\"display:inline;vertical-align:middle;\" /></a></dd>"
      ],
      "text/plain": [
       "<IPython.core.display.HTML object>"
      ]
     },
     "metadata": {},
     "output_type": "display_data"
    },
    {
     "data": {
      "text/html": [
       "<dt><a class=\"ProveItLink\" href=\"axioms.ipynb#bools_def\">proveit.logic.booleans.bools_def</a></dt><dd><a class=\"ProveItLink\" href=\"../__pv_it/axioms/0ed31a4273b0db746a43c9d8e01361d0476217f00/expr.ipynb\"><img src=\"data:image/png;base64,iVBORw0KGgoAAAANSUhEUgAAAGYAAAAVBAMAAABGR4Y+AAAAMFBMVEX///8AAAAAAAAAAAAAAAAA\n",
       "AAAAAAAAAAAAAAAAAAAAAAAAAAAAAAAAAAAAAAAAAAAv3aB7AAAAD3RSTlMAdt3vu82rRCIQZolU\n",
       "mTIFPM77AAAACXBIWXMAAA7EAAAOxAGVKw4bAAABA0lEQVQ4y2NgwA44y7GL9zQACSGT+GC1Agw5\n",
       "0UrsevhSJgBJh0KOyHR0KZ6fDAy8SmCQABOrApMsIL5DFcMOFnQ93AoQrQJIYgcRMkA9a9jI0MNK\n",
       "up6M1aTqKZyotoFUPUXBn26CeJfAwaQGluENwKWH0QDiNqnSCWj2NC/ApYfjD0QPCzua49rCGXDp\n",
       "YZgWA9HD4IAW21cm4NSztQCqJwDNPywJuPSAUghYD4ocRrhNQAk3cBhUM2zciy+sOb+ih7WoiT+W\n",
       "dA3Vww4OPqUJYIcbgx0OlcECUGR4JuCSwa2Hm4EoPeDYhoGJyDLQFIIFgGMbBlACdfICXHoYenOw\n",
       "i3cDxQHNskJHEZ2ZVQAAAABJRU5ErkJggg==\n",
       "\" style=\"display:inline;vertical-align:middle;\" /></a></dd>"
      ],
      "text/plain": [
       "<IPython.core.display.HTML object>"
      ]
     },
     "metadata": {},
     "output_type": "display_data"
    },
    {
     "data": {
      "text/html": [
       "<dt><a class=\"ProveItLink\" href=\"axioms.ipynb#false_not_true\">proveit.logic.booleans.false_not_true</a></dt><dd><a class=\"ProveItLink\" href=\"../__pv_it/axioms/eb8cfde2511c6ba3e5c8a65a4e82d309baeb3e560/expr.ipynb\"><img src=\"data:image/png;base64,iVBORw0KGgoAAAANSUhEUgAAADoAAAAUCAMAAADrw95cAAAAPFBMVEX///8AAAAAAAAAAAAAAAAA\n",
       "AAAAAAAAAAAAAAAAAAAAAAAAAAAAAAAAAAAAAAAAAAAAAAAAAAAAAAAAAAAo1xBWAAAAE3RSTlMA\n",
       "RGZUdpnd76sQMrsizYnn9enzwjX02wAAAAlwSFlzAAAOxAAADsQBlSsOGwAAAH9JREFUOMudk0cS\n",
       "wCAIAFFj17T/PzaHOBljRTiCy1oQYBbSjuuM9yrOZ11UFiYlxdZDvSszxdou6gxQUR+oKKulWDSG\n",
       "ZTTd5XHmd7lkbUlxKJNARZtS1Fmv+z83C9bYnl4EKiSM0fcZtK631pEOvsrXfAdqREslOV2qyFJw\n",
       "0xUPtZQDboKIjKIAAAAASUVORK5CYII=\n",
       "\" style=\"display:inline;vertical-align:middle;\" /></a></dd>"
      ],
      "text/plain": [
       "<IPython.core.display.HTML object>"
      ]
     },
     "metadata": {},
     "output_type": "display_data"
    },
    {
     "data": {
      "text/html": [
       "<dt><a class=\"ProveItLink\" href=\"axioms.ipynb#eq_true_intro\">proveit.logic.booleans.eq_true_intro</a></dt><dd><a class=\"ProveItLink\" href=\"../__pv_it/axioms/af7fcd0228bc2f434dd8febb9d8c4f56a07241be0/expr.ipynb\"><img src=\"data:image/png;base64,iVBORw0KGgoAAAANSUhEUgAAAIwAAAAXBAMAAAArT7qNAAAAMFBMVEX///8AAAAAAAAAAAAAAAAA\n",
       "AAAAAAAAAAAAAAAAAAAAAAAAAAAAAAAAAAAAAAAAAAAv3aB7AAAAD3RSTlMAq1RmmUTNIjK7EInv\n",
       "3XZ/CtNrAAAACXBIWXMAAA7EAAAOxAGVKw4bAAABqElEQVQ4y2NgIAIU4JdmZyAK8CmAqTJc8qwP\n",
       "GBgEQAxlvMZoQ6h8dHGWu2AgwPCYgcEVJJCOzxSuBDDF9B+LHNMDEMm2gKER5LkJ+IxhMYBQ8gW4\n",
       "jGF2AJnEwK2AzxgeCLV9fwMuYxhOMTAD7WLDGzRqkOh48F4BpzHJDAxn7949jdcYb4ifGPQNcBqz\n",
       "kYHBg4FhFpi9AKocChbAGMlgMoihfwNK9CAbY8bAUMjADhbjOgEW4YTFzwmYMZfApANDvQBO1+gA\n",
       "9S3gDgAxuT+hGAPlAsFRcBKc4iI/Aacx/SAWJIQjzqEYA+XCjFnHwMB/AacxMUCcYAdmPkhEMQbK\n",
       "hXnKgYGB9wDOsNEF4k1ZYFczuCEbA+MCwTxQtgEliw84XWMJxDVgkyMY3iAbA+NCYpOhBiTzHacx\n",
       "oDTBCE6d3rvlFyAZA+MCQS8Dw8r/WQxM879twMzckLR0FV4YMDDUNyCMgXOBgLeBUEnCDg/8YGBM\n",
       "KCCMgXMhGY8AYIGlb5aDDFz+qXBjEFwQmE7ImEpMIU5MoZWEjJlOlDHsDwgUsgVEGUMOYCdLFwD3\n",
       "G2avyaI3nAAAAABJRU5ErkJggg==\n",
       "\" style=\"display:inline;vertical-align:middle;\" /></a></dd>"
      ],
      "text/plain": [
       "<IPython.core.display.HTML object>"
      ]
     },
     "metadata": {},
     "output_type": "display_data"
    },
    {
     "data": {
      "text/html": [
       "<dt><a class=\"ProveItLink\" href=\"axioms.ipynb#eq_true_elim\">proveit.logic.booleans.eq_true_elim</a></dt><dd><a class=\"ProveItLink\" href=\"../__pv_it/axioms/e109ec75dbf9febf42e2a6841bae9d9b810afe380/expr.ipynb\"><img src=\"data:image/png;base64,iVBORw0KGgoAAAANSUhEUgAAAGgAAAAWBAMAAADeGsQjAAAAMFBMVEX///8AAAAAAAAAAAAAAAAA\n",
       "AAAAAAAAAAAAAAAAAAAAAAAAAAAAAAAAAAAAAAAAAAAv3aB7AAAAD3RSTlMAq1RmmUTNIjK7EInv\n",
       "3XZ/CtNrAAAACXBIWXMAAA7EAAAOxAGVKw4bAAABQklEQVQ4y2NgIBWwJzAwCIAYyiRoYvvAwOAK\n",
       "YqSToEkfqKkRZOMEEjQ5fgfatoCBgVuBeD3c1T8YGJgNgBpJsKiO7xOQPHv37mkSNDkwfQaSHgwM\n",
       "s8DcBWCSBSbLhVUPqwLHbyBVyMAODnauE2BRTpj0mgaYL2bOPDlzHpTDwsD+EaRqAXcAWO4Tqqb9\n",
       "SKGDCN2XLo4/gRTTA0g4RJxD0cTa8wCLJi6g4F8QI8EOzH+QiKKJj00AiyaQj++AGJuywIoY3FA0\n",
       "PWBJYPCcCQQGyJqCgTgfxKgBGxnB8AZZE2sD3wFMm9hBYvMLgAQjOJi8d8svQNLEsnvjLwxNXPO/\n",
       "LWDQ/J8NE+ZjYKhvQNL0gIH9BxbnoQKgY/kVEJpYgUo/YQtyZMBykIHLPxWhyUeAYcm3AETaIZC2\n",
       "OBnIAPTTxE6EGgDCrEmFo2pTSQAAAABJRU5ErkJggg==\n",
       "\" style=\"display:inline;vertical-align:middle;\" /></a></dd>"
      ],
      "text/plain": [
       "<IPython.core.display.HTML object>"
      ]
     },
     "metadata": {},
     "output_type": "display_data"
    },
    {
     "data": {
      "text/html": [
       "<h4>proveit.logic.booleans.implication</h4>"
      ],
      "text/plain": [
       "<IPython.core.display.HTML object>"
      ]
     },
     "metadata": {},
     "output_type": "display_data"
    },
    {
     "data": {
      "text/html": [
       "<dt><a class=\"ProveItLink\" href=\"../implication/_theory_nbs_/axioms.ipynb#implies_t_f\">proveit.logic.booleans.implication.implies_t_f</a></dt><dd><a class=\"ProveItLink\" href=\"../implication/__pv_it/axioms/aac2148bd08007417c156444654d2678db44244f0/expr.ipynb\"><img src=\"data:image/png;base64,iVBORw0KGgoAAAANSUhEUgAAAHoAAAAVBAMAAAB71edYAAAAMFBMVEX///8AAAAAAAAAAAAAAAAA\n",
       "AAAAAAAAAAAAAAAAAAAAAAAAAAAAAAAAAAAAAAAAAAAv3aB7AAAAD3RSTlMAInZUiRDNmWbv3US7\n",
       "qzJazP2FAAAACXBIWXMAAA7EAAAOxAGVKw4bAAAA8ElEQVQ4y2NgYBBgIATwqGAyIKh7E24pEwaG\n",
       "qlUgsBab7A6wBQ24ZFgTwGwjHGZDxFNxybA3EKG7HZcMJwOm7qPoujkDcOg2w6L7DbputgYcukuw\n",
       "6OZwQNPNcgGH7gwU3ezg0F/1HU03BzhoUaMGLLMYi90MzMmoupkn4LB7NjbdDGGzUXTzfSBFN2OK\n",
       "AIpublx2L8bm72UCaC5fgMPfh7DYzX0APdQO4LDbF4tuMfT4ZnfAofsVUpqHgXNQGujUmWCncm1A\n",
       "0wqT4XpARH6WwpVBOQoYCIMKnDIHCWtmPIBTKoawbh7cRROjAkHdirgkAD2cQqjL4NQdAAAAAElF\n",
       "TkSuQmCC\n",
       "\" style=\"display:inline;vertical-align:middle;\" /></a></dd>"
      ],
      "text/plain": [
       "<IPython.core.display.HTML object>"
      ]
     },
     "metadata": {},
     "output_type": "display_data"
    },
    {
     "data": {
      "text/html": [
       "<dt><a class=\"ProveItLink\" href=\"../implication/_theory_nbs_/axioms.ipynb#affirmation_via_contradiction\">proveit.logic.booleans.implication.affirmation_via_contradiction</a></dt><dd><a class=\"ProveItLink\" href=\"../implication/__pv_it/axioms/e370e39221e2813384746423b62d6484d70717460/expr.ipynb\"><img src=\"data:image/png;base64,iVBORw0KGgoAAAANSUhEUgAAAJkAAAAWBAMAAAAhlCOEAAAAMFBMVEX///8AAAAAAAAAAAAAAAAA\n",
       "AAAAAAAAAAAAAAAAAAAAAAAAAAAAAAAAAAAAAAAAAAAv3aB7AAAAD3RSTlMAq1RmmUTNIjK7EInv\n",
       "3XZ/CtNrAAAACXBIWXMAAA7EAAAOxAGVKw4bAAACDklEQVQ4y2NgoBooA2IBEEOZGqblA7EriJFO\n",
       "BcOY/gOJRiBmn0AF01jkCxgY2BYwMHArUMG07fsbGBiYDYAmUsEw9gfvQW46e/fuaWp4lEEf6C4G\n",
       "DwaGWWD+AnQFDhBKHS7AxcDwAJdpQQz9G4BUIQM7OJVwnYDGTXbKFUg4QuKGOQCuY00D0AlY7IMw\n",
       "60HGcC7gBqvn/gQk+iSnMjzYUKSBZNpChI79CgysG5BNQ6QFviku8iAe0wNIJEScA3oe6G2gadyL\n",
       "kNS6wnWw9gD9mcWAlNwRpq1jYOC/AGIk2IH5DxIZGB6DGRuKdyGpvYCwnw3ol01gJmMBmmlAP/Me\n",
       "ADE2ga3jY3Bj4ALLPnA504BQy54A1/GABchWYdg5c+bMaSdQTWMFpbMPIFYNOBIiGN6AxUBua3mK\n",
       "UMs6gYEbqH0ukNXAB7Q9EqKd2xXFtBpQBHwHuxrsEu/d8guYM2fOnAQKN26EaUwCEK8BA3X3xl8M\n",
       "DJ3QxCq9AMm0lf+zGJjmf4PHEB8DQ30DxwaI27j5EKZxTICZ9oCB/QfMpzNno4UbKggGxokCJBkD\n",
       "TevDiAUWcDAAE9E7iEcN8JnGcpCByz+VoRLoaaa87JnIaqdDlfgIMCz5FgDltoBMnDnz5Mx5eDIb\n",
       "186ZU9HTZjSqignYcyFhANHIUoDiiQJyiwVoqOxCFjMlu5ApgJccCIDfiwCVsoREg7XbngAAAABJ\n",
       "RU5ErkJggg==\n",
       "\" style=\"display:inline;vertical-align:middle;\" /></a></dd>"
      ],
      "text/plain": [
       "<IPython.core.display.HTML object>"
      ]
     },
     "metadata": {},
     "output_type": "display_data"
    },
    {
     "data": {
      "text/html": [
       "<dt><a class=\"ProveItLink\" href=\"../implication/_theory_nbs_/axioms.ipynb#denial_via_contradiction\">proveit.logic.booleans.implication.denial_via_contradiction</a></dt><dd><a class=\"ProveItLink\" href=\"../implication/__pv_it/axioms/15e245c22c3eb4d9b40c738cddd8abe5669ddc9a0/expr.ipynb\"><img src=\"data:image/png;base64,iVBORw0KGgoAAAANSUhEUgAAAJ4AAAAXBAMAAAAIFOtYAAAAMFBMVEX///8AAAAAAAAAAAAAAAAA\n",
       "AAAAAAAAAAAAAAAAAAAAAAAAAAAAAAAAAAAAAAAAAAAv3aB7AAAAD3RSTlMAq1RmmUTNIjK7EInv\n",
       "3XZ/CtNrAAAACXBIWXMAAA7EAAAOxAGVKw4bAAACJUlEQVQ4y6WVPUgcURDH/96pp7t62onVHQQk\n",
       "oOJVgTRhCw0BC0UbCwuDCcEPjCYQEAQ3kNYPQkSehLjY2chpAqIpokVA1IiIlgcLYicoFlqambe3\n",
       "d+/tRSN7A29v5s2935t5M/sWKEJGA3YMRUk8qVofgDIXqGX9USheo2a9pXEKtLH+JgzO6FOtyC09\n",
       "yh185Lxnw/BKU5qVoNOMWoyEmQzDq9Ks9V82PXcRpV3KQx1fg1Za94KD6gf+ZDJ7oXjtWrpo4fRX\n",
       "gRfAgpxyggssX3H+yetXjS7MpOnnCTCGmOwZYydbqKFXx955+lXyPX4kWTkiPcNiyb0nmdIEVDpm\n",
       "J7vNK3pM18/BTb97rPGkJyeVvvLbPzoCxb+0JvjvMxSP65Wj54D2o+SJZy5pPPZw4Km7eStAzSHp\n",
       "vTT6nslp96Xsb+a939R47GGp03lHCo9Srt4ivZnG2qB8GfEchiS4rfu2ymOPKUiGbY33zedZKOOm\n",
       "uyT9KY0JWY4enMtpju/Tmcpjjyc/OlXeav5MJ3j+JttDJXLb9p8JJzogxGc+P1PlscfTxjZV3lQO\n",
       "t3w7iMjiNTXMSe7uASbtirQXnxlXeNIj8xVpLd9qu6AlY4e+1k0FSnqNTbxphed5WL7r9Yhad18R\n",
       "pdswOl5jnLaMjAyJVJ6X9ZBU8PoN8VUI11s0X8AbD15pG2IubwVuMSO4ermAN3/vC/+/WzHmBj8A\n",
       "o0Xxiv18PUT+AqeEhq3dPYtNAAAAAElFTkSuQmCC\n",
       "\" style=\"display:inline;vertical-align:middle;\" /></a></dd>"
      ],
      "text/plain": [
       "<IPython.core.display.HTML object>"
      ]
     },
     "metadata": {},
     "output_type": "display_data"
    },
    {
     "data": {
      "text/html": [
       "<dt><a class=\"ProveItLink\" href=\"../implication/_theory_nbs_/axioms.ipynb#iff_def\">proveit.logic.booleans.implication.iff_def</a></dt><dd><a class=\"ProveItLink\" href=\"../implication/__pv_it/axioms/58a59ea31f5a83ad01737244ae60b8d4dd112afb0/expr.ipynb\"><img src=\"data:image/png;base64,iVBORw0KGgoAAAANSUhEUgAAAXkAAAAWBAMAAADX+PE1AAAAMFBMVEX///8AAAAAAAAAAAAAAAAA\n",
       "AAAAAAAAAAAAAAAAAAAAAAAAAAAAAAAAAAAAAAAAAAAv3aB7AAAAD3RSTlMAq1RmmUTNIjK7EInv\n",
       "3XZ/CtNrAAAACXBIWXMAAA7EAAAOxAGVKw4bAAAD3klEQVRYw9WWTUhUURTHjzOj83zjvBQq2oRC\n",
       "EYSLJpAgohr7IpFIamMRZUVIGTRuhCizlkGRRFBE6KwEoULduHCRGn0RxRDhqqEBFxFEmYlWUtO9\n",
       "95xz38ybO80wuekPfxzfub/3zr333A+AvypGLtxqqcjimKLe7tShhbr+0uzo0pHE5FOwDRl2tXy4\n",
       "Jk/jerLQOVN8c7qm5vRlcCJLRta7MZMqZkAx7N3yYbs5ebsNLeRLG1u8ACj7DnDmn8kRl9MxgzaI\n",
       "7BVDviLno9ecfSCClj9rTWUW/A1QPgfQ8K+kPeVyOmZQ4wIgQ66IA4TyFFsVWWj0EU1lBWCPlfxi\n",
       "hPziW1XxIkipu3lIZ2OL5nSMVOm+PHRBTolkyP4IZmTSOrIYjtQX6uG0fB/nUyYmsuKZcKQIUuoq\n",
       "mMmw1as5HSNZbmVccmYBGfarZPJlnuybyWJGYUPEfZXN1VrVC/Zq0ZVQdWESh3zITNbT0mvOjLG2\n",
       "6F9R3zdAhr2X5zOek/1JMsABuIHfvSY6m0w+pbY3+j6vlLn55WILJJWqzSRFuZyzSLltrNVf1DGA\n",
       "fYp5HyWovM5aJIbdCUH1Qfs5zu3cWBP3+w1ZdBp6VCMHO2rdxAZfYuB7LPeVcU+/c0mS74SJtKoh\n",
       "HGdOx9w6pNoLQPArMezKeEitmNAszm0CHM7lCRmcW7tqVclMUOQ+ZnRPWC5Ka8aTfQ6pNfDEQJaJ\n",
       "nT/FnI65++9ZXNMfdzX+AGTYvhQu2tbXuJyi4J/x5vAQYFlC/ujE+gl2YAM5EtvFZ8vH82WvSd4p\n",
       "O2IGckBkmNDZc0yraxQ7IZ79AmTY0LZNxVLHcTnVwYOId/5F4YUxwa1YvjgyllxDtWJcfAlP3eeS\n",
       "FJ2KGUh1Vu1gTse47pPtXDgA7wAZNoyoHcSBPapJz3TDKu5zH7k8gme0LKxoxtnsiLPDmpdPvced\n",
       "gcR112skE3wd6suMsQ7R34N07ZAMGy6q0WqFTzi4YC9nbJh8Ue7xC/hshRyEFjq5xKgekX0PDHmy\n",
       "N5GZN7Zs0p/iQ2Q4M5ZxM1N/5Rz2x5BhyyUjd9qxWrXqReo9lBxcRw+mz4Cvfx4zFCUK5+nE6f9a\n",
       "s1LtPuEWT/YmUuqOkSyTX7ZSyLgxPmuxTO3++TisT3cgw6apFEmrVpMAx3i9hy+jsy4o8kXeg6Hb\n",
       "+8BEGm/v3blczpXIxHRnsaKmltXZQxD8CfZbfTJGudALaKf3Qalk0czOTDYwAfb+U9YkbFoca3Lv\n",
       "JbfJBWS4o5ZKFsmws+Tz/D9ILqDK3DtwqWSRDDtLh73dTKEL6INhgEoki2Q+mNgI/F/6A9dMcbXF\n",
       "hKa/AAAAAElFTkSuQmCC\n",
       "\" style=\"display:inline;vertical-align:middle;\" /></a></dd>"
      ],
      "text/plain": [
       "<IPython.core.display.HTML object>"
      ]
     },
     "metadata": {},
     "output_type": "display_data"
    },
    {
     "data": {
      "text/html": [
       "<h4>proveit.logic.booleans.negation</h4>"
      ],
      "text/plain": [
       "<IPython.core.display.HTML object>"
      ]
     },
     "metadata": {},
     "output_type": "display_data"
    },
    {
     "data": {
      "text/html": [
       "<dt><a class=\"ProveItLink\" href=\"../negation/_theory_nbs_/axioms.ipynb#not_t\">proveit.logic.booleans.negation.not_t</a></dt><dd><a class=\"ProveItLink\" href=\"../negation/__pv_it/axioms/fa3556271013b3b54b7b75b637f6a18a1772897d0/expr.ipynb\"><img src=\"data:image/png;base64,iVBORw0KGgoAAAANSUhEUgAAAFcAAAAVBAMAAADBdm84AAAAMFBMVEX///8AAAAAAAAAAAAAAAAA\n",
       "AAAAAAAAAAAAAAAAAAAAAAAAAAAAAAAAAAAAAAAAAAAv3aB7AAAAD3RSTlMAInZUiRDNmWbv3US7\n",
       "qzJazP2FAAAACXBIWXMAAA7EAAAOxAGVKw4bAAAAvElEQVQoz2NgYBBgQAWMDLgBkwGaALcCbsUm\n",
       "MAb7KjC4wKCBRRV3A4hkTUASYgYbyhaAqRgiw96AIcRRgEsxJ6YQw1Rcis2wKM7ApbgEi2JfXIoz\n",
       "sChuQwkcJJnFMOEChGJLXCbPhsXbBYTi96Qo3olL8WIsiq1wufkQTDGSm3twmeyLJTRKcCl+hZlc\n",
       "GFajqQS6aOUskIu4HmCYwrgAVwrFkmpQ0hYqOIghIoM78ccQoR3hQvRcxCSASykA470wqH9vffUA\n",
       "AAAASUVORK5CYII=\n",
       "\" style=\"display:inline;vertical-align:middle;\" /></a></dd>"
      ],
      "text/plain": [
       "<IPython.core.display.HTML object>"
      ]
     },
     "metadata": {},
     "output_type": "display_data"
    },
    {
     "data": {
      "text/html": [
       "<dt><a class=\"ProveItLink\" href=\"../negation/_theory_nbs_/axioms.ipynb#not_f\">proveit.logic.booleans.negation.not_f</a></dt><dd><a class=\"ProveItLink\" href=\"../negation/__pv_it/axioms/b9bd74a578c6b2e794e4ce82c543ff5c79f215890/expr.ipynb\"><img src=\"data:image/png;base64,iVBORw0KGgoAAAANSUhEUgAAAFcAAAAVBAMAAADBdm84AAAAMFBMVEX///8AAAAAAAAAAAAAAAAA\n",
       "AAAAAAAAAAAAAAAAAAAAAAAAAAAAAAAAAAAAAAAAAAAv3aB7AAAAD3RSTlMAInZUiRDNmWbv3US7\n",
       "qzJazP2FAAAACXBIWXMAAA7EAAAOxAGVKw4bAAAAuklEQVQoz2NgYBBgQAWMDLgBkwGaALcCbsUm\n",
       "yOoaQKQGuhL2VWBwgYE1AUmUGWwoWwCmkRAZ9gYMIY4CXIo5MYUYpuJSbIZFcQYuxSVYFPviUpyB\n",
       "RXEbShAgySyGCRcgFFviMnk2LN4uIBS/J0XxTlyKF2NRbIXLzYdgipHc3IPLZF8soVGCS/Er5OSy\n",
       "chbY3tWYiiFJjOsBhgTjAlwpFEuqQUlbqOAghogM7sQfQ4R2hAvRcxGTAC6lAOIDMKhWJ6jVAAAA\n",
       "AElFTkSuQmCC\n",
       "\" style=\"display:inline;vertical-align:middle;\" /></a></dd>"
      ],
      "text/plain": [
       "<IPython.core.display.HTML object>"
      ]
     },
     "metadata": {},
     "output_type": "display_data"
    },
    {
     "data": {
      "text/html": [
       "<dt><a class=\"ProveItLink\" href=\"../negation/_theory_nbs_/axioms.ipynb#negation_elim\">proveit.logic.booleans.negation.negation_elim</a></dt><dd><a class=\"ProveItLink\" href=\"../negation/__pv_it/axioms/0fd3f403bc4d76bb1a3bc88358aa217c1bfc7dc50/expr.ipynb\"><img src=\"data:image/png;base64,iVBORw0KGgoAAAANSUhEUgAAAJcAAAAXBAMAAAD0AcCSAAAAMFBMVEX///8AAAAAAAAAAAAAAAAA\n",
       "AAAAAAAAAAAAAAAAAAAAAAAAAAAAAAAAAAAAAAAAAAAv3aB7AAAAD3RSTlMAq1RmmUTNIjK7EInv\n",
       "3XZ/CtNrAAAACXBIWXMAAA7EAAAOxAGVKw4bAAABvElEQVQ4y2NgIBoUUCSNCvgUwFQZLvk4IBYA\n",
       "MZSJMEwbQuVjkQoGW2bAwOAKYqQTNosrAUwx/ccipwcmsxgYGoEU+wTChrEYQCj5AlyGmTAwsC1g\n",
       "YOBWIGwYD4Tavr8Bl2E8CxiYgTayERFkamCS/cF7BVyGsQFNOnv37mkiDPOG+JJB3wCXYdzAuPRg\n",
       "YJgF5iyAKkcBC2CMZDAZxNC/AUT73gWBiyiGMQOjqJCBHZw8uE6AhThR4/AEjHUJTDow1AvgchnT\n",
       "AaDuBdwBYFd+wmIYVBAIjoLT0hQX+Qm4DOP4ADTwAST8I85hMQwqCDNsHQMD/wVchrECXcaQYAdm\n",
       "P0jEYhhUEOZNBwYG3gO4wowJZM2mLLAPGNwwDYMJAsE8kN2gZPQBl8uYQQFQAw7SCIY3SIbtnDlz\n",
       "5gWEIBBsBKkEyX/HZRgLKJ4ZwWnae7f8AlSXCSAEgaCXgWHl/ywGpvnfNqCaBPTxGbCPeQMQHmKo\n",
       "b0A3DC4IBLwNhJJ1LXIpwq+AapgDQhAUIg6EDHOGlwkHGbj8U9EiACEIAtMJmIWt6OHEpXglAcM4\n",
       "C0gwjP0BfsOeM5BgGDmAnQK9AL/XYzuwbv1UAAAAAElFTkSuQmCC\n",
       "\" style=\"display:inline;vertical-align:middle;\" /></a></dd>"
      ],
      "text/plain": [
       "<IPython.core.display.HTML object>"
      ]
     },
     "metadata": {},
     "output_type": "display_data"
    },
    {
     "data": {
      "text/html": [
       "<dt><a class=\"ProveItLink\" href=\"../negation/_theory_nbs_/axioms.ipynb#operand_is_bool\">proveit.logic.booleans.negation.operand_is_bool</a></dt><dd><a class=\"ProveItLink\" href=\"../negation/__pv_it/axioms/9b3df63ea9b96f801a3dadc45f3be22470f1b8ac0/expr.ipynb\"><img src=\"data:image/png;base64,iVBORw0KGgoAAAANSUhEUgAAALUAAAAXBAMAAAC/qRN/AAAAMFBMVEX///8AAAAAAAAAAAAAAAAA\n",
       "AAAAAAAAAAAAAAAAAAAAAAAAAAAAAAAAAAAAAAAAAAAv3aB7AAAAD3RSTlMAq1RmmUTNIjK7EInv\n",
       "3XZ/CtNrAAAACXBIWXMAAA7EAAAOxAGVKw4bAAACq0lEQVRIx62VTYjTQBiG302bpm222V48iIdG\n",
       "BS+C9uB6EaTo6grrT9DLqiArIkIRrQg9KVuPImJAUSOo8bgIEj2o1YP1ICzIahFZECzEi4K/i4f1\n",
       "uH4zk9/tjxCcQybzJvNkvvf7ZgIkb7XED//ZNJ139WXqx+uLcyuAI3RfZMLaJOz1oju9TM7Jbv2e\n",
       "Aa0M7GDjEwnQ+SneSUtd7LJaM4EqcIGGipmAnS6LrlTrYqd0cmMTkLEBVU/AHhbdkxcNz+jbnfmA\n",
       "TTEN20jR5zNJ7F7Hr4r7SyxMPmUH6x466xCUwHOdzusk7AlhCTYKb+p24MnXH6uoV8mXXcAtLtre\n",
       "yyJFoYs2tF7sY/y6H1ccxMohJ8+/fU+sFPlyBgqvw/yseCTeGA3rgfSK78PjPdt8/R2/VjDNZ2Mq\n",
       "kkttlIpEatG9rRpMU39H2PliwGb6YeqznyxDU5U1Xurwiifw2liJF1mWrO188NgwaUJ2gfiuSOXk\n",
       "mwg7bQRsprNiGiOopuKZHmU/AEbafDFmZN0wiSK3WDRbueYejbALoa9MpyJl+4zYyhY76gmZVWjx\n",
       "YTvGpuVKTHlU5dFhZ4QdHhJclyqY4YP07ln/wR1WeKyAF/jwZ4y9gXLJIjnHvZ3E9wj7INC0LKvt\n",
       "6bKJA5ytZvf6bj1kU9mEP3yY0QO2o36jeNKsfoZ4diael+yQvVq8V/T0rInN9Cmd/HYcj3EZmFmq\n",
       "Qrq7yJX8ykMizpMWPwdRMMLQMd0I2Rd9ttDJk0ti3XBcb0ahEa93uSn2vN/OB3cU8ojelcuKp2su\n",
       "lapgP/XZqcrgfbs9ONReIr/veMjO1WI6DZWbbO98bl4NJt8YiO51tgq27MREViT3LcvoEvu3XK0f\n",
       "G+MxcbznytxB7C/oy1btiJYy8F+aEpx+kd9XMtRftIWaMXw2otwAAAAASUVORK5CYII=\n",
       "\" style=\"display:inline;vertical-align:middle;\" /></a></dd>"
      ],
      "text/plain": [
       "<IPython.core.display.HTML object>"
      ]
     },
     "metadata": {},
     "output_type": "display_data"
    },
    {
     "data": {
      "text/html": [
       "<h4>proveit.logic.booleans.conjunction</h4>"
      ],
      "text/plain": [
       "<IPython.core.display.HTML object>"
      ]
     },
     "metadata": {},
     "output_type": "display_data"
    },
    {
     "data": {
      "text/html": [
       "<dt><a class=\"ProveItLink\" href=\"../conjunction/_theory_nbs_/axioms.ipynb#and_t_t\">proveit.logic.booleans.conjunction.and_t_t</a></dt><dd><a class=\"ProveItLink\" href=\"../conjunction/__pv_it/axioms/2e06e480834dffc99779e341f5b63756ff25f98e0/expr.ipynb\"><img src=\"data:image/png;base64,iVBORw0KGgoAAAANSUhEUgAAAHAAAAAVBAMAAABs93eRAAAAMFBMVEX///8AAAAAAAAAAAAAAAAA\n",
       "AAAAAAAAAAAAAAAAAAAAAAAAAAAAAAAAAAAAAAAAAAAv3aB7AAAAD3RSTlMAInZUiRDNmWbv3US7\n",
       "qzJazP2FAAAACXBIWXMAAA7EAAAOxAGVKw4bAAABBklEQVQ4y2NgYBBgwAPwSDIZ4NO4CbeUCQP7\n",
       "KjC4gCxaBRZay8DUgK4eJsOaAOIxK8DEWeAOMAKTqVjsAsuwN6BqjEpA1diOSyMnA6pGjduoGjkD\n",
       "cGg0Q9O44A2qRrYGHBpLUDUyO7AJoGhkuYBDYwaqRjYB5gIUjRwJyEGJJLMYVeNbBoalKBqZJ+Cw\n",
       "cTaqxnsMDEooGvk+EKURFKtRKBq5cdmI6lRQ9LMboDh1AQ4/HkLRyAXEjAkogXMAh42+KBqbQMQ5\n",
       "ZI3sDjg0voL4BBrNV0HEIwh7B8QNGzA1gmW4HjDgBVK4JDgK8GuswClzEK8+xgM4pWLwauTBXXYw\n",
       "KuDTqIhLAgC+eT6Z7OhW8wAAAABJRU5ErkJggg==\n",
       "\" style=\"display:inline;vertical-align:middle;\" /></a></dd>"
      ],
      "text/plain": [
       "<IPython.core.display.HTML object>"
      ]
     },
     "metadata": {},
     "output_type": "display_data"
    },
    {
     "data": {
      "text/html": [
       "<dt><a class=\"ProveItLink\" href=\"../conjunction/_theory_nbs_/axioms.ipynb#and_t_f\">proveit.logic.booleans.conjunction.and_t_f</a></dt><dd><a class=\"ProveItLink\" href=\"../conjunction/__pv_it/axioms/12e5b601afe5116e2b09be2b7482d4d0c350a2490/expr.ipynb\"><img src=\"data:image/png;base64,iVBORw0KGgoAAAANSUhEUgAAAHAAAAAVBAMAAABs93eRAAAAMFBMVEX///8AAAAAAAAAAAAAAAAA\n",
       "AAAAAAAAAAAAAAAAAAAAAAAAAAAAAAAAAAAAAAAAAAAv3aB7AAAAD3RSTlMAInZUiRDNmWbv3US7\n",
       "qzJazP2FAAAACXBIWXMAAA7EAAAOxAGVKw4bAAABCElEQVQ4y2NgYBBgwAPwSDIZ4NO4CbeUCQP7\n",
       "KjC4gCaxA2xsAxYtYBnWBBDJrAATZIE7wAhMpmLRCJZhb0DVGJWAqrEdl0ZOBlSNGrdRNXIG4NBo\n",
       "hqZxwRtUjWwNODSWoGpkdmATQNHIcgGHxgxUjWwCzAUoGjnAfq4Ch/taZJnFqBrfMjAsRdHIPAGH\n",
       "jbNRNd5jYFBC0cj3gSiNoFiNQtHIjctGVKeCop/dAMWpC3D48RCKRi4gZkxACZwDOGz0RdHYBCLO\n",
       "IWtkd8Ch8RXEJ9BovgoiHkHcNhPsNq4NaLpgMlwPGPACKVwSHAX4NVbglDmIVx/jAZxSMXg18uAu\n",
       "OxgV8GlUxCUBANnJPncvU02iAAAAAElFTkSuQmCC\n",
       "\" style=\"display:inline;vertical-align:middle;\" /></a></dd>"
      ],
      "text/plain": [
       "<IPython.core.display.HTML object>"
      ]
     },
     "metadata": {},
     "output_type": "display_data"
    },
    {
     "data": {
      "text/html": [
       "<dt><a class=\"ProveItLink\" href=\"../conjunction/_theory_nbs_/axioms.ipynb#and_f_t\">proveit.logic.booleans.conjunction.and_f_t</a></dt><dd><a class=\"ProveItLink\" href=\"../conjunction/__pv_it/axioms/a65bf4fde9913e34cd5a85bbb0b1d1d29d885ac50/expr.ipynb\"><img src=\"data:image/png;base64,iVBORw0KGgoAAAANSUhEUgAAAHAAAAAVBAMAAABs93eRAAAAMFBMVEX///8AAAAAAAAAAAAAAAAA\n",
       "AAAAAAAAAAAAAAAAAAAAAAAAAAAAAAAAAAAAAAAAAAAv3aB7AAAAD3RSTlMAInZUiRDNmWbv3US7\n",
       "qzJazP2FAAAACXBIWXMAAA7EAAAOxAGVKw4bAAABDUlEQVQ4y2NgYBBgwAPwSDIZ4NO4CbeUCYjg\n",
       "bkATrVoFAmsZmBqwaNkBIlgTQCSzAkyQBe4AIzCZikUjWIa9AVVjVAKqxnZcGjkZUDVq3EbVyBmA\n",
       "Q6MZmsYFb1A1sjXg0FiCqpHZgU0ARSPLBRwaM1A1sgkwF6Bo5EhADmQkmcWoGt8yMCxF0cg8AYeN\n",
       "s1E13mNgUELRyPeBKI2gWI1C0ciNy0ZUp4Kin90AxakLcPjxEIpGLiBmTEAJnAM4bPRF0dgEIs4h\n",
       "a2R3wKHxFVBu1aqVs1atAkXYVZDQI6SkzMC1ATP5zwS5musBA14ghUuCowC/xgqcMgfx6mM8gFMq\n",
       "Bq9GHtxlB6MCPo2KuCQAUbM+d/PnPScAAAAASUVORK5CYII=\n",
       "\" style=\"display:inline;vertical-align:middle;\" /></a></dd>"
      ],
      "text/plain": [
       "<IPython.core.display.HTML object>"
      ]
     },
     "metadata": {},
     "output_type": "display_data"
    },
    {
     "data": {
      "text/html": [
       "<dt><a class=\"ProveItLink\" href=\"../conjunction/_theory_nbs_/axioms.ipynb#and_f_f\">proveit.logic.booleans.conjunction.and_f_f</a></dt><dd><a class=\"ProveItLink\" href=\"../conjunction/__pv_it/axioms/b5ff076bc01af38ecec321425420cbf9d4b90b460/expr.ipynb\"><img src=\"data:image/png;base64,iVBORw0KGgoAAAANSUhEUgAAAHAAAAAVBAMAAABs93eRAAAAMFBMVEX///8AAAAAAAAAAAAAAAAA\n",
       "AAAAAAAAAAAAAAAAAAAAAAAAAAAAAAAAAAAAAAAAAAAv3aB7AAAAD3RSTlMAInZUiRDNmWbv3US7\n",
       "qzJazP2FAAAACXBIWXMAAA7EAAAOxAGVKw4bAAABC0lEQVQ4y2NgYBBgwAPwSDIZ4NO4CbeUCYjg\n",
       "bsCU2AE2FosERIY1AUQyK8AEWeAOMAKTqVg0gmXYG1A1RiWgamzHpZGTAVWjxm1UjZwBODSaoWlc\n",
       "8AZVI1sDDo0lqBqZHdgEUDSyXMChMQNVI5sAcwGKRg6wn6tWgcBaZJnFqBrfMjAsRdHIPAGHjbNR\n",
       "Nd5jYFBC0cj3gSiNoFiNQtHIjctGVKeCop/dAMWpC3D48RCKRi4gZkxACZwDOGz0RdHYBCLOIWtk\n",
       "d8Ch8RVQbtWqlbNWrQJF2FWQ0COI22aC3ca1AU0XTIbrAQNeIIVLgqMAv8YKnDIH8epjPIBTKgav\n",
       "Rh7cZQejAj6NirgkAF5+PmZemn66AAAAAElFTkSuQmCC\n",
       "\" style=\"display:inline;vertical-align:middle;\" /></a></dd>"
      ],
      "text/plain": [
       "<IPython.core.display.HTML object>"
      ]
     },
     "metadata": {},
     "output_type": "display_data"
    },
    {
     "data": {
      "text/html": [
       "<dt><a class=\"ProveItLink\" href=\"../conjunction/_theory_nbs_/axioms.ipynb#left_in_bool\">proveit.logic.booleans.conjunction.left_in_bool</a></dt><dd><a class=\"ProveItLink\" href=\"../conjunction/__pv_it/axioms/75f54c05e4cea1b258e66ff4d9fbf25b99fcb9940/expr.ipynb\"><img src=\"data:image/png;base64,iVBORw0KGgoAAAANSUhEUgAAANQAAAAXBAMAAACBjHwxAAAAMFBMVEX///8AAAAAAAAAAAAAAAAA\n",
       "AAAAAAAAAAAAAAAAAAAAAAAAAAAAAAAAAAAAAAAAAAAv3aB7AAAAD3RSTlMAq1RmmUTNIjK7EInv\n",
       "3XZ/CtNrAAAACXBIWXMAAA7EAAAOxAGVKw4bAAADUUlEQVRIx61WXUgUURQ+7u44O7M5+WBU9NCW\n",
       "EARFS5kQUq1lP6bVgBCm/RgRgUluL0IUrj1KQUs95AaxE0QQZawhlS2U+aRFofRDQQtbghBUmJWZ\n",
       "YnXOubO7sz8YyS7snHvOvfd855zv3DsDkLOfPOvJ//59ED4bUq2fB5qbhnSQYgCFpBfnAMkWZpE/\n",
       "mmYPHJAb5wEMA2wh9WgOoK4LsSoDqgbuKRiCAWco6UAOoDYLUf4zE2p1HoDdS2jgcucAqpefrlMT\n",
       "QtWuRF8noPJRPgG7B5PLBVWiHVq1MZbScSOZ1fwylIcBnkWjT3MA5RBd4bV9Y9liJNvi9hDNdQFs\n",
       "B7jMNiNtrxmtDx9q6pSWBSrfw8m4nVOQ2miB/U3TO1CWApwAmRte7eeZ9u+RyjYaKGLlWnrcajP3\n",
       "OUNV3R0Yu6kuu7tzkzkscIv45K+sNljbYngPprECXRounQkVRbYPgtabhFI5jEfkp5FG6wE+AdQT\n",
       "6vugrrnkpWYUc9jJx4ryXxwS0hJ9G4dSJKzgeaxQTHRF7XMWeV6wjyahHORBOodn3b6I9CKAjXxI\n",
       "oAIxNBc8cFugVFw3zREGrFkpgOo+ynUDm2KHxBY3dHqSUAXMTT7mpihEZh+oL/h0aLQIsyozLAUk\n",
       "ft+xOpgKhfVcieM7jYLqrTzjHy5ZAEmoFo7CgUuLqQry7zXlmI3NCzd4k6O63/SoYEJQg/9mVr+k\n",
       "QNlwch2OTzMdtcQBk6EWWaD2Uv3aiL0ANSoyeRV7QgqwV8zKuUsXHl3oRSaSQz5uyMStEKiHh90o\n",
       "q4gdJrYqstgwyfDrSaglVJZI1yTYPNQMyKT8A1kPQGkwGHQjV+Gw2ZuDoIbGDVj+5xiTtbBO2EcG\n",
       "QnSzA7yyHBU/Q/YBHLQ0ezvVD+QJUpEsZFKa4AKeFVlBOGZ6eJN6zqQe82KKv7AS7GE95rrVMMiT\n",
       "oL6ElLaQsAHG6D2D7xy/AZ1YQC0G3CQIdT8OVfKP28QTHzwGdfcRZx+UTkUq3RYoxQfVhXBtXKdT\n",
       "67U3R7ovCKvcQUd4pOdi3JfimxHqZPqdaRkLKCmcbR+1381gULfa1JnfRJfS9LoMKNiWbV9WY+tM\n",
       "SFp6zp5MKJeRuc+u5/SjJPGNkwVKnZXDv8A3yAJGq2d5AAAAAElFTkSuQmCC\n",
       "\" style=\"display:inline;vertical-align:middle;\" /></a></dd>"
      ],
      "text/plain": [
       "<IPython.core.display.HTML object>"
      ]
     },
     "metadata": {},
     "output_type": "display_data"
    },
    {
     "data": {
      "text/html": [
       "<dt><a class=\"ProveItLink\" href=\"../conjunction/_theory_nbs_/axioms.ipynb#right_in_bool\">proveit.logic.booleans.conjunction.right_in_bool</a></dt><dd><a class=\"ProveItLink\" href=\"../conjunction/__pv_it/axioms/0fd3c8ac5f4e37ae647b9491b9192a9b51a486980/expr.ipynb\"><img src=\"data:image/png;base64,iVBORw0KGgoAAAANSUhEUgAAANUAAAAXBAMAAABuThcPAAAAMFBMVEX///8AAAAAAAAAAAAAAAAA\n",
       "AAAAAAAAAAAAAAAAAAAAAAAAAAAAAAAAAAAAAAAAAAAv3aB7AAAAD3RSTlMAq1RmmUTNIjK7EInv\n",
       "3XZ/CtNrAAAACXBIWXMAAA7EAAAOxAGVKw4bAAADGklEQVRIx62WS2jUQBjHv032kUebtqBi8dBo\n",
       "oSeRCG0vol18F18BL7UFXREpliIrwp7U1WPx0IAgpiCmF0FECB7E2kvtQRSp9lBKBRdSBQUftYpv\n",
       "Qf1mJplkHywiCexs5vvvzG++x8wsQGxPpq6ahzifFzWt2vPLX2dWAhzG92ZiaI8BJbgA4rWPLauu\n",
       "lNvllFcYN0EzAHaQ/mAMrOukabAA2s5XsAw1j+YhgAsk0lYMrG2kKXoAR7KVLFHH6HUCpB0AVY+B\n",
       "NUWaHvSpx2OJulqa56wcuuyAiHFMx5GuHGnb8DNMSy510uF+JU5jLtMImimVHsfASrqkfQQwvkD7\n",
       "BYfH8M37NfitYhx3A4xRo1Mx2F9vvlrTarDIskH6sbR4jPUHw3zNP53D8SI6fgoytO6Vh1Qa+TzZ\n",
       "SwtJZj/timhcDrLfcWffVv+1keRc+waw3qD9XKQ2tC4sQgETKjuqSWzqJyqJs6BNhSylmWukinx5\n",
       "gPiwaJuamlnnV3gDmUTGkep30pUwNaVnPgssHCAtI89jpdH3hH4lsiAuh6ykybWNLpcJdjtCNBXu\n",
       "6RFWE65M/E3XaEX8AgsnSxEPcluozTvKxuhwywhZjaFmjXEZNwk5B5CV2eREYjiKxsQX2p8tY6E7\n",
       "ArHcHmL53kml4svO1RCyClwTjAEuC1m4QYXk3iCTMtlVH7CQRlmmlspYG9Bf4ukZmpI+eEelzaCs\n",
       "iLAOcU3GzAZyyoKDlKVK+002JSlpGEbpAXM0rXOWq77N+psiQbO7Z7KN/ghnKpohay3X2iHlBrJk\n",
       "Qbdt2zrmy3XZlBKGqPVPS8sJn6G09rP9MWzTcx4azciWKVLmNB5okZof4ZpF9yGTMYYXmV/gev4M\n",
       "CxUbLjXBzqjgOcvfMCRNuuJC5icoc1BeG1QTDHIH+bLm0YAS1t2A1fkvZzMt7fugHDguTUP3r8le\n",
       "PcKS876WpEeJL6M1Q66pjlcTl3gN1L95q+4SIXoXsEi4tQaSIrxp22bUptS/mKqW0l/Fgl21BtY0\n",
       "nqvLel1pMKpZqlM9TjQh3if4W1SDpfzfjH8BDObDlhJXfUIAAAAASUVORK5CYII=\n",
       "\" style=\"display:inline;vertical-align:middle;\" /></a></dd>"
      ],
      "text/plain": [
       "<IPython.core.display.HTML object>"
      ]
     },
     "metadata": {},
     "output_type": "display_data"
    },
    {
     "data": {
      "text/html": [
       "<dt><a class=\"ProveItLink\" href=\"../conjunction/_theory_nbs_/axioms.ipynb#empty_conjunction\">proveit.logic.booleans.conjunction.empty_conjunction</a></dt><dd><a class=\"ProveItLink\" href=\"../conjunction/__pv_it/axioms/78b88323a9b068018175a0ae2b6e5ee81f7d387a0/expr.ipynb\"><img src=\"data:image/png;base64,iVBORw0KGgoAAAANSUhEUgAAACkAAAAVBAMAAAAp9toTAAAAMFBMVEX///8AAAAAAAAAAAAAAAAA\n",
       "AAAAAAAAAAAAAAAAAAAAAAAAAAAAAAAAAAAAAAAAAAAv3aB7AAAAD3RSTlMAdt0yiURUEM1mq7si\n",
       "me/+MEVxAAAACXBIWXMAAA7EAAAOxAGVKw4bAAAA4ElEQVQY02MQUmaAACiDh+EAkHRlgAEIS4wh\n",
       "EFOUzYGBcQKU7QYXrQDidgibXQMuehOI50LYjLMCYKIPgJivAMxmYt4AFWVrABIcE8DsFIYeqCiv\n",
       "A5BgWQBm9zDkQkWByhgYOBtAbOYFDEwFEFGmBJAxD0BsLgMGRgGIKB/IWuYPIDbQjewKSKKsYLUg\n",
       "P1xDNkEBxAaqYzgBEeUWANm2AcjmBLG4DcCiQEeBnefKwFUAskEALMoM0scUgB5moEA+hBGScyEh\n",
       "hCbKfYCBZwOGKPsGkASDEzzenoKpgwwyDAwAXGQq05XnXYMAAAAASUVORK5CYII=\n",
       "\" style=\"display:inline;vertical-align:middle;\" /></a></dd>"
      ],
      "text/plain": [
       "<IPython.core.display.HTML object>"
      ]
     },
     "metadata": {},
     "output_type": "display_data"
    },
    {
     "data": {
      "text/html": [
       "<dt><a class=\"ProveItLink\" href=\"../conjunction/_theory_nbs_/axioms.ipynb#multi_conjunction_def\">proveit.logic.booleans.conjunction.multi_conjunction_def</a></dt><dd><a class=\"ProveItLink\" href=\"../conjunction/__pv_it/axioms/c857baeacaa4aa6e146076efc61af651d3fc8ea00/expr.ipynb\"><img src=\"data:image/png;base64,iVBORw0KGgoAAAANSUhEUgAAAhsAAAAzBAMAAADMadf8AAAAMFBMVEX///8AAAAAAAAAAAAAAAAA\n",
       "AAAAAAAAAAAAAAAAAAAAAAAAAAAAAAAAAAAAAAAAAAAv3aB7AAAAD3RSTlMAq1RmmUTNIjK7EInv\n",
       "3XZ/CtNrAAAACXBIWXMAAA7EAAAOxAGVKw4bAAAH5klEQVRo3uVbb2wURRR/t3t3u932rteoxBih\n",
       "l6gkhpjWgEQSpcc/YygJJ3yQGAKnaIj4gSMxGBXs4QejsdBKTGiJ0jMYE4vAQYgm9EOvEAQlmouo\n",
       "H4yNRzASDGmPf6WUyDmzs7O3M7ezd43b2xom6d7Omze7s7+d9+bN+20BKpT+/n64O4rW35+uqPRH\n",
       "8bqLt6xLTUMY9hpjKxa7Kyr/4uqt72GryVo+tvBmO+mkkGsMhy/DVMNR/WerQHvr5C6uJJzb14ka\n",
       "pJxHcMxnq3PIz2aB9ubJXTxYEDQsKDY1vZqCcKuo5xFv4FBOs0ZLXqdUtAqPll6aQM6U+qh52lIQ\n",
       "NX2H5uU4wCbRuEKtnsARyjNVPxmFv9li1dqvpWaBnCkHSxay6KagSbkDEEALwjyhtXzvCRxPsdUG\n",
       "8vPNoGW5CT8ep6ciOVMu3GdOhrfHBU0yapARJA3CdfRlT+A4y1Znk3eXH41aJpBKhySSsyX3AT17\n",
       "J3xV0ORDVhREdhoUOo/1SQ/gCE+w9XZiE9DSavWuG6mtCOTsNM8EqUXFpGuCpoZu0GaimVYfEXrh\n",
       "iAdwhLjhbNCPq6DLsvxuhIeNM5GcfY6kFCNngah6W9DUtW9kBkZWxs7EP6wXdijShAdwdHEh6U/k\n",
       "rUIHGtt+4vfUCIQMC9fl2kBTmpMzZQfAb3QyKVcETaNJkE7ih84KA9M7HsDxIFc/pVvQx0ubu0Ed\n",
       "IaGQD4UHZPkhcj/4c6ycLfcDjJCzS0sX3RI0fYL+sFtWC8KhfeoBHEN2cBwCaMyZkeEX6E2RMyJv\n",
       "jCvjrLwscjlIzhBY/9g3AZ41bag9IJwd0JasORzqNbAxFmTfoawJBw62FkNJLqcJHCV5WaTljxJb\n",
       "AfgdhRZPjkQu9LBN+n2b48Y9bH0HHG6tORxhLkyCfdgDtpLo2oAjR7cqVA71OUbOOWdzq7JaD+q1\n",
       "J06iOXiebcL3Vcecn7YhUnM46rI2W4VtuOEmhUPO0yQAlZPtpinX8GMdTtDDQtwJTwYFX7svqRxK\n",
       "wDhZwM0mCKK2tThA92fEY8sZcOiwPOQIRyWVKksDj/1OgC+Lm0DqG8sYcPjws6t5i1zZy8jhZ/zi\n",
       "Y/TwAG7chVDqG0vDo8XXwJdXs8QIaRP4+q40zditT5i4cGz1BQOOZWRVd4KjkkqV5XCMn+opm002\n",
       "V16HNyYFeSrcrRQEOabt4n7yDQOOHXiqdTvCUUml2rCDXynlWEU4lJ73l0/mHh1ofsjdMfvGJQ5u\n",
       "/o4BRzDN7JLt4KikUmVpKbvEntJjf307b/u2i8XCZO7xHApGlVn2WzWnN6pdN+CQsQt3dqWVVKos\n",
       "bWVz+Mta5gahzikVeYWuLD8MD5+tsLJUUKmyjJYNR8nXEo6LTo23KBzPAuytAIepYp2Fmr2+MKcA\n",
       "g2mYvuVbCscWULgQbXt7XB6ywkFVtDMWra9s/TejAmpf+7EeWlk5neEYpnDUpest67F6vjcuRY7D\n",
       "ciscVKXemmAZtHWu9WwO5mmAy/S8eRqjgQN8AoeUt7rJpeidSwv9kLHCQVXW/FhSDHTaGr5VBZV7\n",
       "kQf9f8EBCRTPykt2nQ8vMJLv0rvP5xk4dBVU8i9adiBB29ySVQWVE6CdczCWJEwh9ZScjNw0FjiK\n",
       "4vn9a1sbIuEIWfqk1PFHWDiO6jn5MDxjeW5/wm6bZlXBOey5i0wXM1g2Dkw7uUs9WfVFNNM6R1cK\n",
       "29BrfusvaEyhLc5qAoc/3M3AsU2fCWuwH3iTvONAKpyFVX/yu4A1JVehXz8Hn5kh4miZ750DblNP\n",
       "Vv0ymsmJfhoy4fDhYc6CTghFYX5vb29USmmZBAOHrgLtA81p9TECh3/gyARkNT5kxCqWqi8Gyg1h\n",
       "GIYzNC5TT4z+Jr6bA/10nd3gn4FL0KHCh2R2wKp8+QY/jLYEKZqyzIMyDkk1y9sKUpEXz102hzx6\n",
       "QxQCJvvRwk8lTDu5TD0x+vO4bg70k3abgUMpoPmxwI+WVCyNQzhSDgcypMYohkPL6NkZtKTWxXHl\n",
       "ADkcMFSkS3BKQr4H1TvScNA0li5+kjaA29QTq2/QTGY3B/rJ3MIZy2YE7eC3/I12kDgPsdHIcTBw\n",
       "+IdAW/kKhkM9ASsi8PlYHIerqNKZVE+jQ2fUUOnREjgt1xmVNw8c223espHfaM4Gt6knVt+gmcxu\n",
       "DvSTdNU+G3agtzfumA3DxiJRo03nSxUAOpKclAnJljrtyS9F7eA29cTqGzST2c2BfiKJy8knB9XL\n",
       "yDG9QN14MVeqQMCYg1okHPddLNVNv8onBzeAy9QTpy8n2G4M/cSNrfAfcqWtthWZz+7wdY6T1JN4\n",
       "rlJPxnXMaZNluznQTyRxWVtigaOUdZ7FVeqJ6JduWGC7OdBPHfmaw2FLO7lJPdHrmNabZbs50E8e\n",
       "0E6wQmQsMXeoJ6pv7L+M65ndWPqJLTOh9nCs58KGfeAu9WTo0/2X8XRmNyf6yQvKOsQFHkfAVeqJ\n",
       "6tP9F6GZSpcLZoX0k+zFBw380rIT3KSeSvrG/ovQTGY3J/op5MXnLvzHUJh2mgLqie6/hDRTudyT\n",
       "j6GgjQ0bMO00BdQT3X8JaaZy+UfgBRxBzmj3wFRQT+b+S/Bw5fLAhCdwqOxntnrubeqoJxHNVC4P\n",
       "RT2BA9k0+57yU0k9Xaxa7tFH2Pwn+tOkBBLVw3HO1X/veWk6wvEe8fBa/6HKcNwF/95j5E7xv/f8\n",
       "C5yU6Meafm4fAAAAAElFTkSuQmCC\n",
       "\" style=\"display:inline;vertical-align:middle;\" /></a></dd>"
      ],
      "text/plain": [
       "<IPython.core.display.HTML object>"
      ]
     },
     "metadata": {},
     "output_type": "display_data"
    },
    {
     "data": {
      "text/html": [
       "<h4>proveit.logic.booleans.disjunction</h4>"
      ],
      "text/plain": [
       "<IPython.core.display.HTML object>"
      ]
     },
     "metadata": {},
     "output_type": "display_data"
    },
    {
     "data": {
      "text/html": [
       "<dt><a class=\"ProveItLink\" href=\"../disjunction/_theory_nbs_/axioms.ipynb#or_t_t\">proveit.logic.booleans.disjunction.or_t_t</a></dt><dd><a class=\"ProveItLink\" href=\"../disjunction/__pv_it/axioms/51ce2bda98b4bba5508f7e5f97f3c050ced5ef980/expr.ipynb\"><img src=\"data:image/png;base64,iVBORw0KGgoAAAANSUhEUgAAAHAAAAAVBAMAAABs93eRAAAAMFBMVEX///8AAAAAAAAAAAAAAAAA\n",
       "AAAAAAAAAAAAAAAAAAAAAAAAAAAAAAAAAAAAAAAAAAAv3aB7AAAAD3RSTlMAInZUiRDNmWbv3US7\n",
       "qzJazP2FAAAACXBIWXMAAA7EAAAOxAGVKw4bAAABDElEQVQ4y2NgYBBgwAPwSDIZ4NO4CbeUCQP7\n",
       "KjC4gCxaBRZay8DUgK4eJsOaAOIxK0BEr4KIRxC2EZhMxWIXWIa9AVljE4g4h6yxHZdGTgZkjVxA\n",
       "zJiArJEzAIdGMxSNLMCQYjdA1sjWgENjCYpGkG1cyNIMLBdwaMxA0chwj4FBCUUjRwJyUCLJLEbV\n",
       "+JaBYSmKRuYJOGycjaqRTYC5AEUj3wfiNDI7sAmgaOTGZSOaUxkWvGFAdeoCHH48hKZR4zaqRo4D\n",
       "OGz0RdMYlYCqkd0Bh8ZXEJ/Ao5kdnll2QNLSBkyNYBmuBwx4gRQuCY4C/BorcMocxKuP8QBOqRi8\n",
       "Gnlwlx2MCvg0KuKSAAAZyT5Ic8b3zgAAAABJRU5ErkJggg==\n",
       "\" style=\"display:inline;vertical-align:middle;\" /></a></dd>"
      ],
      "text/plain": [
       "<IPython.core.display.HTML object>"
      ]
     },
     "metadata": {},
     "output_type": "display_data"
    },
    {
     "data": {
      "text/html": [
       "<dt><a class=\"ProveItLink\" href=\"../disjunction/_theory_nbs_/axioms.ipynb#or_t_f\">proveit.logic.booleans.disjunction.or_t_f</a></dt><dd><a class=\"ProveItLink\" href=\"../disjunction/__pv_it/axioms/60330ee6db5efb06d1adf8b0bcef3a1d453390260/expr.ipynb\"><img src=\"data:image/png;base64,iVBORw0KGgoAAAANSUhEUgAAAHAAAAAVBAMAAABs93eRAAAAMFBMVEX///8AAAAAAAAAAAAAAAAA\n",
       "AAAAAAAAAAAAAAAAAAAAAAAAAAAAAAAAAAAAAAAAAAAv3aB7AAAAD3RSTlMAInZUiRDNmWbv3US7\n",
       "qzJazP2FAAAACXBIWXMAAA7EAAAOxAGVKw4bAAABD0lEQVQ4y2NgYBBgwAPwSDIZ4NO4CbeUCQP7\n",
       "KjC4gCaxA2xsA7r6KrDitQysCSAeswJE9CqIeARhG4HJVCx2gWXYG5A1NoGIc8ga23Fp5GRA1sgF\n",
       "xIwJyBo5A3BoNEPRyAIMKXYDZI1sDTg0lqBoBNnGhSzNwHIBh8YMFI0M9xgYlFA0ciQgByWSzGJU\n",
       "jW8ZGJaiaGSegMPG2aga2QSYC1A08n0gTiOzA5sAikZuXDaiOZVhwRsGVKcuwOHHQ2gaNW6jauQ4\n",
       "gMNGXzSNUQmoGtkdcGh8BfEJPJqh0Q9020yw27g2YGoEJ3+uBwx4gRQuCY4C/BorcMocxKuP8QBO\n",
       "qRi8Gnlwlx2MCvg0KuKSAAAmlD43fBQDCQAAAABJRU5ErkJggg==\n",
       "\" style=\"display:inline;vertical-align:middle;\" /></a></dd>"
      ],
      "text/plain": [
       "<IPython.core.display.HTML object>"
      ]
     },
     "metadata": {},
     "output_type": "display_data"
    },
    {
     "data": {
      "text/html": [
       "<dt><a class=\"ProveItLink\" href=\"../disjunction/_theory_nbs_/axioms.ipynb#or_f_t\">proveit.logic.booleans.disjunction.or_f_t</a></dt><dd><a class=\"ProveItLink\" href=\"../disjunction/__pv_it/axioms/9e9f256c794c8500531ff9573d3ae5b5b63b68f90/expr.ipynb\"><img src=\"data:image/png;base64,iVBORw0KGgoAAAANSUhEUgAAAHAAAAAVBAMAAABs93eRAAAAMFBMVEX///8AAAAAAAAAAAAAAAAA\n",
       "AAAAAAAAAAAAAAAAAAAAAAAAAAAAAAAAAAAAAAAAAAAv3aB7AAAAD3RSTlMAInZUiRDNmWbv3US7\n",
       "qzJazP2FAAAACXBIWXMAAA7EAAAOxAGVKw4bAAABEElEQVQ4y2NgYBBgwAPwSDIZ4NO4CbeUCYjg\n",
       "bkATrVoFAmsZmNAl4DKsCSAeswJE9CqIeARhG4HJVCx2gWXYG5A1NoGIc8ga23Fp5GRA1sgFxIwJ\n",
       "yBo5A3BoNEPRyAIMKXYDZI1sDTg0lqBoBNnGhSzNwHIBh8YMFI0M9xgYlFA0ciQgByWSzGJUjW8Z\n",
       "GJaiaGSegMPG2aga2QSYC1A08n0gTiOzA5sAikZuXDaiOZVhwRsGVKcuwOHHQ2gaNW6jauQ4gMNG\n",
       "XzSNUQmoGtkdcGh8BZRbtWrlrFWrIBHGDs8sOyBpaQOmRrAM1wMGvEAKlwRHAX6NFThlDuLVx3gA\n",
       "p1QMXo08uMsORgV8GhVxSQAAnm8+N7e7o2QAAAAASUVORK5CYII=\n",
       "\" style=\"display:inline;vertical-align:middle;\" /></a></dd>"
      ],
      "text/plain": [
       "<IPython.core.display.HTML object>"
      ]
     },
     "metadata": {},
     "output_type": "display_data"
    },
    {
     "data": {
      "text/html": [
       "<dt><a class=\"ProveItLink\" href=\"../disjunction/_theory_nbs_/axioms.ipynb#or_f_f\">proveit.logic.booleans.disjunction.or_f_f</a></dt><dd><a class=\"ProveItLink\" href=\"../disjunction/__pv_it/axioms/4e6ae09189e7fdfa4842751d2c37d9938b19ca550/expr.ipynb\"><img src=\"data:image/png;base64,iVBORw0KGgoAAAANSUhEUgAAAHAAAAAVBAMAAABs93eRAAAAMFBMVEX///8AAAAAAAAAAAAAAAAA\n",
       "AAAAAAAAAAAAAAAAAAAAAAAAAAAAAAAAAAAAAAAAAAAv3aB7AAAAD3RSTlMAInZUiRDNmWbv3US7\n",
       "qzJazP2FAAAACXBIWXMAAA7EAAAOxAGVKw4bAAABEUlEQVQ4y2NgYBBgwAPwSDIZ4NO4CbeUCYjg\n",
       "bsCU2AE2FosERIY1AUQyK0CEroKIRxC2EZhMxaIRLMPegKyxCUScQ9bYjksjJwOyRi4gZkxA1sgZ\n",
       "gEOjGYpGFmBIsRsga2RrwKGxBEUjyDYuZGkGlgs4NGagaGS4x8CghKKRA+zwqlUgsBZZZjGqxrcM\n",
       "DEtRNDJPwGHjbFSNbALMBSga+T4Qp5HZgU0ARSM3LhvRnMqw4A0DqlMX4PDjITSNGrdRNXIcwGGj\n",
       "L5rGqARUjewOODS+AsqtWrVy1qpVkAiDRj/QbTPBbuPagKYLJsP1gAEvkMIlwVGAX2MFTpmDePUx\n",
       "HsApFYNXIw/usoNRAZ9GRVwSALm/PhVmCEK+AAAAAElFTkSuQmCC\n",
       "\" style=\"display:inline;vertical-align:middle;\" /></a></dd>"
      ],
      "text/plain": [
       "<IPython.core.display.HTML object>"
      ]
     },
     "metadata": {},
     "output_type": "display_data"
    },
    {
     "data": {
      "text/html": [
       "<dt><a class=\"ProveItLink\" href=\"../disjunction/_theory_nbs_/axioms.ipynb#left_in_bool\">proveit.logic.booleans.disjunction.left_in_bool</a></dt><dd><a class=\"ProveItLink\" href=\"../disjunction/__pv_it/axioms/31cf087cfdbabf741dc6de93d74bdfb1386ee4500/expr.ipynb\"><img src=\"data:image/png;base64,iVBORw0KGgoAAAANSUhEUgAAANQAAAAXBAMAAACBjHwxAAAAMFBMVEX///8AAAAAAAAAAAAAAAAA\n",
       "AAAAAAAAAAAAAAAAAAAAAAAAAAAAAAAAAAAAAAAAAAAv3aB7AAAAD3RSTlMAq1RmmUTNIjK7EInv\n",
       "3XZ/CtNrAAAACXBIWXMAAA7EAAAOxAGVKw4bAAADUElEQVRIx61WW0hUYRAed/fs2XM2Tz4YFT10\n",
       "KgiCoiVNCKm07GJaLQhh2sWICExyexGiUHuUgg71kBvEniCCKGMNqWyhi09aFEoXClrYEoSgwm5m\n",
       "itXM/Gd3z14wkl3YM//Mf2a+mfnm/3cBcvaRZ7z535/3ImZDqvXTQHPTkB+kGEAB6UtygOQIs3CP\n",
       "ptmNfXLjHIBhgE2kHs4B1FUhVmZA1cAdBVMw4RQVbeQAaqMQ5T8zoVblATjLCA28eg6gHvLTe2Jc\n",
       "qNql6KsElBvlY3D6sLhcUCXGoVX7ylI6aiarmluK8iDA02j0SQ6gXGIqyhzfWLaYybG4OUR73QBb\n",
       "AS6yzUzztbIN4ENN3dKyQLl9XIzumYTUQTP2Nk1tQ1kCcAxkHni1n3c6vkcq22mhiDdX0+NGu+Xn\n",
       "CVX1dGLulrr09vYN1jJfF/nJX1htsI/F8C4sYzmGNL1+JlQ02TkI2sMklMppPNA5Oq7XAnwEqCfU\n",
       "d0G/5pUXW1nM4iAfKsp/cUpIS/RNHEqRsINnsUMxMRW1z1jklYFzNAnlogjSmRidcnIoBFjPhwQq\n",
       "EEPzwj3dBqXinTDFGRr2qhRAdQ/Vuo5NsQPCRYcuXxIqn7lxF5CqIEAfqM/5dGj0ElZVatoaSPy+\n",
       "ZXUwFQr7uQLXtxoF1Zt5p224eB4koVo4C1cDOHzUNvl3UTlW4yiDa+zkqu63IipYENTgt5nVzylQ\n",
       "Dtxcg+uTTEctcQBEhlpog9pN/Wsn9gwaVGTyMrImGRwVq/Ls8IuIXowiE8mhAA9k4lYw6uF+D8oq\n",
       "YoeJrYos5FYgTps/CbWI2hLpngAoIqqQSfkHsm5ASTAY1JGrcNiazUFQQ2MmLPtzhMmaXyfsIwMh\n",
       "utkBXtqOShtD9gHstw17B/UPZLxt3EQVMimNcwNPi6ogHLMivE49Z1KvdTHFf7AS7GE/ZutqGOQJ\n",
       "UF9AylhIOAB4EJwLiEkTurCBWoxnhKDuxqGK/3Gb+OKLR6DuPOTpg5LJSKVug1ICUF0AV8awBTg9\n",
       "zuZIzzlhlTvpCI/0no/HUgLTQh1PvzNtawElhbP50fhdDwb9dps6/S/RhTS9LgMKtmTzy2psnQ5J\n",
       "S6/ZlwnlNTP9nP6c/ilJ/MfJAqXOKOBfW9/Hr8gz2R4AAAAASUVORK5CYII=\n",
       "\" style=\"display:inline;vertical-align:middle;\" /></a></dd>"
      ],
      "text/plain": [
       "<IPython.core.display.HTML object>"
      ]
     },
     "metadata": {},
     "output_type": "display_data"
    },
    {
     "data": {
      "text/html": [
       "<dt><a class=\"ProveItLink\" href=\"../disjunction/_theory_nbs_/axioms.ipynb#right_in_bool\">proveit.logic.booleans.disjunction.right_in_bool</a></dt><dd><a class=\"ProveItLink\" href=\"../disjunction/__pv_it/axioms/75538c610162aedd9326f6bb1421f121a3b110aa0/expr.ipynb\"><img src=\"data:image/png;base64,iVBORw0KGgoAAAANSUhEUgAAANUAAAAXBAMAAABuThcPAAAAMFBMVEX///8AAAAAAAAAAAAAAAAA\n",
       "AAAAAAAAAAAAAAAAAAAAAAAAAAAAAAAAAAAAAAAAAAAv3aB7AAAAD3RSTlMAq1RmmUTNIjK7EInv\n",
       "3XZ/CtNrAAAACXBIWXMAAA7EAAAOxAGVKw4bAAADHElEQVRIx62WS2gTQRjH/8k2yT7abQsqFg9d\n",
       "LfQkEqHtRbTBd/G14KW2oBGRYikSEXpSo8fioQuCmIK4vQgiwuJBrL3UHkSRag+lVDCQKij4qFV8\n",
       "C+o3M7ubzYMgsguZ7Hz/zPzme8xMgNCeRE01gzCfF1Wt+vPLX2dWAofpvYkZ2kJARR1AuvaxedWV\n",
       "UrsSKwyPm9CTwA7WHwiBdZ019RbQer6MldQyZB4ELrBIWyGwtrEmWwCOpMpZkkHR6wDiNqAZIbCm\n",
       "WNNNPnUXRKKu5ud9VppctiFRHONhpCvN2lb6DPGSi520fb8ipymXcQLN5POPQ2DVOax9BIwv8P6w\n",
       "7cfwzfs19K1RHHcDY9xolw1215up1PQqLLZsyD+WFo+J/kAxX/NP52i8RI6fQoLXvfqQSyOfJ3t4\n",
       "ISnip50BzZe97Lff2bfVfW1gOde/AeuTvJ8O1IbeSUUYpYQqtmYym/aJS9Is9KkiS21yNeZmxJP7\n",
       "mQ+LOVPXEuvcCq9nkyg0UvvOujKlJv/MZcGiAfIy8QqiNHqf8K9ICtJykVVnulqUltvvyax4txNE\n",
       "13DPCLAaaWXSb75GK+AXLJosxjxIb+G2wlExxsCtZJHV4GsWz6uQaZOwc4BYiU12IIajZIx84f3Z\n",
       "Eha5E2WW24Mi3zu5lH3ZsRpF1rCvtSHmeHI0hRtcqNvrZVJhu+oDFdKoyNRSCWsD+cs8PcNT0ot3\n",
       "XNoMdUWAdcjXFMqsJ8csHOQsTd5viilZSWOIpAfC0bjhsxztbcrdFBGe3T2TrfxHNFPWLLLW+pqU\n",
       "7Pdl2UJXLpczKF+OI6aUKUQtf5qbT7gMtaVP7I+hHD/n0WAGtkyWM6fpQAvU/EhRS4/5MsXwovAL\n",
       "TsGdYaFsw8UmxBnlPWf9NwpJo6E6SPyEOofS2uAasJE8cGW9wAPKWHc9Vse/nM28tO9DPXBcnkbX\n",
       "r8keI8BSMq4mTmlXJmuCXVPtryYu+TVQ++atuEuiwbtARMKpNpAV4c1czgza1NoXU8VS+ipY2FVt\n",
       "YFXjuZqs1+WGZCVLsyvHSSbCfby/RVVY6v/N+BfImsNhObOtPgAAAABJRU5ErkJggg==\n",
       "\" style=\"display:inline;vertical-align:middle;\" /></a></dd>"
      ],
      "text/plain": [
       "<IPython.core.display.HTML object>"
      ]
     },
     "metadata": {},
     "output_type": "display_data"
    },
    {
     "data": {
      "text/html": [
       "<dt><a class=\"ProveItLink\" href=\"../disjunction/_theory_nbs_/axioms.ipynb#empty_disjunction\">proveit.logic.booleans.disjunction.empty_disjunction</a></dt><dd><a class=\"ProveItLink\" href=\"../disjunction/__pv_it/axioms/7c8a5fceb27af0b8c336880a32aa294256f5ebef0/expr.ipynb\"><img src=\"data:image/png;base64,iVBORw0KGgoAAAANSUhEUgAAADsAAAAVBAMAAAAKrYvGAAAAMFBMVEX///8AAAAAAAAAAAAAAAAA\n",
       "AAAAAAAAAAAAAAAAAAAAAAAAAAAAAAAAAAAAAAAAAAAv3aB7AAAAD3RSTlMAmd0iq3YyiUQQZrvN\n",
       "VO8LyBxeAAAACXBIWXMAAA7EAAAOxAGVKw4bAAAA8UlEQVQoz2NggIEgNVQGM4MBAxKoQGPFMrTi\n",
       "keYtYGBdgCLNMgFIsQVApOcA8UkUaa4AIMWdAJGWAuKFqIYrACkbqOEPgJhvAop0LZCShUjzHgAS\n",
       "PAtQpIE6QSaApBkLgAS7A4o0SwIDawBEGqyR6wCDkBIQKEKk2RwYmCZApJkugGx4ANFpAvXtYYaL\n",
       "UBZfA8iTH1ClrwMVIElzoOlmYtvAgGy4AkTaECrIuqQByuIGBRHXBtQw59SBscB+AvsOOSJkYSw2\n",
       "kLlMDThjDBTpRrgjdCE0WnBIcxswMG/ALc25AaQCAYrgae0FmDJlCGZgAABmdjU0Gp74gwAAAABJ\n",
       "RU5ErkJggg==\n",
       "\" style=\"display:inline;vertical-align:middle;\" /></a></dd>"
      ],
      "text/plain": [
       "<IPython.core.display.HTML object>"
      ]
     },
     "metadata": {},
     "output_type": "display_data"
    },
    {
     "data": {
      "text/html": [
       "<dt><a class=\"ProveItLink\" href=\"../disjunction/_theory_nbs_/axioms.ipynb#multi_disjunction_def\">proveit.logic.booleans.disjunction.multi_disjunction_def</a></dt><dd><a class=\"ProveItLink\" href=\"../disjunction/__pv_it/axioms/3a12f2e98e109c481cfba1ef0427fed927129dd10/expr.ipynb\"><img src=\"data:image/png;base64,iVBORw0KGgoAAAANSUhEUgAAAhsAAAAzBAMAAADMadf8AAAAMFBMVEX///8AAAAAAAAAAAAAAAAA\n",
       "AAAAAAAAAAAAAAAAAAAAAAAAAAAAAAAAAAAAAAAAAAAv3aB7AAAAD3RSTlMAq1RmmUTNIjK7EInv\n",
       "3XZ/CtNrAAAACXBIWXMAAA7EAAAOxAGVKw4bAAAH5UlEQVRo3uVbb2wURRR/3b0/2+3d9RqVGCP0\n",
       "EpXENKY1KJFE6fHPGErCCR8khsApGiJ+4EgMRgV7+MFoLPQkJrRE6Rn8QlEohGhCP/QKQVCiuYj6\n",
       "wdh4BCPBkPb4V0qJnDO7M7s7czt717i9rWGS7t68ebM7+9t5b9683xagQunv74e7o6j9/dmKSn+U\n",
       "rrt4y/r0DIRhLxlbqZSpqPyLq7e+h62mavnYwpvtpJNCrjEcdQNMNRLTTlsF2lundvFg0rl9nahB\n",
       "ynsEx3y22qKfNgu0N0/t4oGioGFBqanptTRE2kQ9j3gDR/A0a7T665RK5uzB01YpgKPcUh7Ah12k\n",
       "0loUNX2HrjABsEk0rnCbJ3CE2Qfy6aPwNRtWLRcs7lYkt5SF+NBDKotuCpqCdwD8aEF4Qmgt33sC\n",
       "x9NsNaSfvhkynzNvcRkiuRVfi8toeGdC0CSjBhlBEhKuo694AsdZtjpXf3eFsZghOor+FoOj3Foa\n",
       "kIaPaL0buSpoqkNWFEB2GhA6j/UpD+CITLL1Dt0moLWNWUyInxfJ+cUkTH7HpWuCplAG1NlopjVE\n",
       "hV446gEcYW44G7TjKug2l986tAAQByOSM+V+gFH9lz+m3BY0de8bnYWRlbHt+Ea0wg5FmvQAjm7O\n",
       "F/6kv1XoRGPbr5u5EoUwsXBNrg42ZTk5U3YA/EYnU/CKoGksBdJJ/NA5YWB6xwM4HuTqpzQL+mRp\n",
       "cwaUUWIKG+FhYlma3Ae+PCvnZnlKiuu/Li1ddEvQ9Cn6w25ZKQqH9pkHcAzbwXEIoDFvRoYt6MHB\n",
       "lDcmghOsnFsiBwK6F1SRKf1j3wR41rSjdr9wdkB7quZwKNfAxljQGwznTDjCSobaCpbLWQKHIedK\n",
       "/kNqKwC/o9DiqdHohR62Sbtvc4Lcw9Z3wOG2msMRuckJ9mEP2KZH1xSOyOMJ3TMSOTTkGTlfLtyn\n",
       "n1drQb365Ek0B8+zTfi+yrjz04aiNYejPmezVdiGG26acKi/6mcqp9tNIlfxYx1O0gPAV/opiK/d\n",
       "lwoeSsIEWcBpEwRQ21ocoPsGxGPLEzg0WB5yhKOSSpUlxGO/E+BAaRNIfeMD5q5SD7YMeXAvI4ef\n",
       "seHE6YFGWmrfeBYeLb0OdQUlR1YsIwjru9I0a7dmcAnh2BqKBI5lut92gqOSSpXlcJyPQ9I2m2yu\n",
       "vAFvTgnydCQTLApyTNvF/eQbBI4deKplHOGopFJt2MHHUXK8IhzBng+WT+UenWh+yJm4feMSBzd/\n",
       "h8ARyOrxvQMclVSqLK1ll9hjPvbXtwu2b7tUKk7lHs+jcCM4x36r5vRG1esEDhm7cGdXWkmlytJe\n",
       "NocP1DI3CPVOqcgrdGX5YWTkbIWVpYJKlWWsbDjBQi3huOjUeIvC8RzA3gpwGCrWWaja6wtzCjCU\n",
       "hZlbvqVwbIEgF6Jt70jIw1Y4qIp6xqL1pa3/ZlRA6es4RpNVsHImwzFC4ajPNljWY+V8b0KKHofl\n",
       "VjioSoM1wTJk61wZFYBnAC7T380zGA0c4OtwSAWrm1yK3rm00AcDVjioypofTUV/l63hW1VQuRd5\n",
       "0P8XHJBciH4s2XU+soAk36X3XigwcGgqqBResuxAAra5JasKKidAPedgLCmYRuopNRW5YSxwFMXz\n",
       "+9e2haKRqL70Senjj7BwHNVy8hF41vLcvqTdNs2qgnPY8xYZLmaobByYdnKXerLqi2imdY6uFLah\n",
       "1/z2X9CYRluc1TocvkiGgWObNhPWYD/wlv6O/elIDlb9ye8C1piuQrt+Hj43QsSxMt/bAm5TT1b9\n",
       "MprJiX4aNuCow8OcA10QjsH83t7emJRWB5IMHJoKdAw2Z5XHdDh8g0cmIafyISNWsVTr4hC8IQzD\n",
       "MO3kMvVk0Sc0k7WbA/10nd3gn4FL0KnAR/rsgFWF8g1+BG0J0jRlWYDgBKSUHG8rSEVePG9Zi/7o\n",
       "oRj4DfajlZ9KmHZymXqy6BOaydLNgX5SbzNwBItofizwoSUVSxMQiZbDgQypMYbhUAe07AxaUusT\n",
       "uHJQPxwkKtIlOCUh34PqnVn4yjCWbn6ShsBt6onRJzST2c2BfjK2cGTZjKId/Ja/0Q4S5yE2khwH\n",
       "A4dvGNSVr2I4lBOwIgpfjCdwuIoqXSnlNDp0xYhKj5rEuYaumLx58Nhu45aN/EZzLrhNPTH6hGYy\n",
       "uznQT9JV+2zYwd7ehGM2DBuLREeSLZgVADqSvDQQli112pNfijrAbeqJ0Sc0k9nNgX7SE5dTTw4q\n",
       "lxHaL1I3XsqbFfCTOahGI4m6i2bd8IV8cnADuEw9sfogJ9luDP3Eja34H3KlbbYVmc/u8HWOk9SS\n",
       "eK5ST+Q6hgXk2G4O9JOeuKwtsXCVE5wCl6knXd+8YZHt5kA/dRZqDoct7eQm9USvY1hvju3mQD95\n",
       "QDvBCpGxxN2hnqg+2X/R69FuLP3EltlQezjWc3HYPnCXeiL6dP9Fn452c6KfvKCsw1zgcQRcpZ6o\n",
       "Pt1/UZqJXi6QE9JPshcfNPBLy05wk3oy9cn+y6CZSBDmQD+Fvfjchf8YCtNO00A90f2XkGYql3vy\n",
       "MRS0s2EDpp2mgXqi+y8hzVQu/xi8gCPAGe0emA7qydh/CR6uXO6f9AQOhf3MVsu9TR/1JKKZyuXh\n",
       "mCdwIJtm31NhOqmni1XLPfoIm/9Ef4YUf7J6OM65+u89L89EON4nYU3/ocpw3AX/3kNyp/jfe/4F\n",
       "Munjd4pGHZcAAAAASUVORK5CYII=\n",
       "\" style=\"display:inline;vertical-align:middle;\" /></a></dd>"
      ],
      "text/plain": [
       "<IPython.core.display.HTML object>"
      ]
     },
     "metadata": {},
     "output_type": "display_data"
    },
    {
     "data": {
      "text/html": [
       "<h4>proveit.logic.booleans.quantification</h4>"
      ],
      "text/plain": [
       "<IPython.core.display.HTML object>"
      ]
     },
     "metadata": {},
     "output_type": "display_data"
    },
    {
     "data": {
      "text/html": [
       "<dt><a class=\"ProveItLink\" href=\"../quantification/universality/_theory_nbs_/axioms.ipynb#forall_in_bool\">proveit.logic.booleans.quantification.universality.forall_in_bool</a></dt><dd><a class=\"ProveItLink\" href=\"../quantification/universality/__pv_it/axioms/1b39e2c22b081dc382c4103afab9326d41f53ed00/expr.ipynb\"><img src=\"data:image/png;base64,iVBORw0KGgoAAAANSUhEUgAAAbcAAAAWBAMAAACxjs8nAAAAMFBMVEX///8AAAAAAAAAAAAAAAAA\n",
       "AAAAAAAAAAAAAAAAAAAAAAAAAAAAAAAAAAAAAAAAAAAv3aB7AAAAD3RSTlMAq1RmmUTNIjK7EInv\n",
       "3XZ/CtNrAAAACXBIWXMAAA7EAAAOxAGVKw4bAAAFWUlEQVRYw71YfWhbVRQ/yXsv7+WlSVtUtCoj\n",
       "oo5itYbZ+YFDA6065gdxA8FtakBBHMNlIJPq2OL+Et1qFEqt4Pp0Q5yDGmenjOKojjG3oXSjjlkW\n",
       "eFvroEpj/lBbV7Sec9/XfR9JJhEP5L3zkXNyfvfce+69AahLiVI+SJ2D2bPQIMkNe1fJQa6atodi\n",
       "mUDISTjYKDa40JC3pOPDk8Ts8U0bT2WYCfNuIdWNtcGF6BVOubQdFLe+cxDNLL7d9pxGIYuNjc2U\n",
       "HxwUnpY3XMVMCO4B0jxfG5xItYvkeKWapbj1nQPpD4DoCXx/1GDhI1oAuDXwZZSZENxrNEMLtcEp\n",
       "VKFel1JMUdz6zkGk/I1Fww90NwhOSAeCWxZiJgRH6GPJOmtuA74OuJRNbEbUdw5crvP4WUBmrNE1\n",
       "e8IGl3i/dMYGF2EmzFvAEkTqNZQ78JV1KZcycPWdgyhawQ8CDGcbBfesBU56UXMqd/W9zESN8LtS\n",
       "6WQ9cE2l0jn34n/YWMt1nYOoGSfyW9jORAo5fP7jUa72HtFPavnaN+1J9JkFbovmNJThU0VmInAr\n",
       "Ad4LCFLkwYl5iGreMaO4VZxrEwJ79TT1A+q/6cQScdyxeUQ/iXBef9QS7rTAOU2t8NTGv1YxE4Hb\n",
       "DHJLQJA0Dw6/sRm5J38baTV75mkDXBXn2vTrdaPL6R3HEgk54VIoBXvMGWqI6mirVs35Lrhfu8IS\n",
       "brXAZfmGMvWERiYCF9Vcu7Q8cRBWtHjAYXkoiDAOMXNYjxrgPM6XR0NWU0JXBURMTCmbYQ1RhOrV\n",
       "y8OD3BwwwSm4PEo/WuCiUpFMlFlYd1pCX1s/3BDTRM0LrpONTSgNiYoLHO/8b7Y5Gxw+6ZwRtsGQ\n",
       "2JyR56u7f++w601waoGvXBQKZGLDnr3Pns8r6cChp2Mw0jPRk+HARQRKoSkJ8RbXtDScyw9NWzs8\n",
       "xzrkVioLJhNnneOZnKpx4EgUtBrgpDn4BLruLtPo32ZNy3E3uCyZGLgDuIsJ3X3TxnEG2m/eFvOu\n",
       "OYgtpUWwXZOvNJW7TXDknMi1RcwOx7HcvuZWJn63tgQcsH2Z6yFmVE4FW6TZr/pxYQ5qf2gMiury\n",
       "I3AMFfdY4MoucGGdTAzcVizGnvWpppxR3PbYh+t84OSviVtRvqA5TZjFJWcBdisgs67J2NXT7nXI\n",
       "lNyhqWIFRt/b33gEVhvgPs3aIuzSmKjSDGYPSwrP7x2TkvJwFi4ZG5IBzhm8wjo4PMJMDFwIrwav\n",
       "XIRmTWJH43ZIz/jAwTXEtToZ7jLBhdi9Yg5gx6RhQHZMrXiGfI7v5UN/6ub8RER7y+HupAEuPmmL\n",
       "NFIkwgSYjzjlU9JAfUy/aRn+rC7R8eYHC5zattaIefH4EN0KyOS0uiW4AoUXBgffQXD7I959zqQj\n",
       "TorxPHesU8bw/jRpsznFc64iZdeaDt80c+5ibM3dYosvwcu8aH/L3iCa8mI6D/K4nYR0yDx+WU1/\n",
       "nMv7W+hRlKJROakz+D4nzwWfWbfGsiIDt99koxlQiyixh6nsLMR9yXa5wdnjKb/7+ip+eO1MbG47\n",
       "xHfkzdN78F6f4vKuwNl247CB++v5YHAzC9zWOuDEFX86/DMDtzNpsNh0lW9gZ045hg9TGcpv8R8y\n",
       "rR4qf7Ggg6rbdVlcrHCiczazucch8blxUakCrpfLW2qBX1LQi3NNOZOD0GXcxPd549K0NJZ1TMO8\n",
       "wrbBUMZhaq3vnOi6LSU8Pdb/m164A9XBDfjyVg8N9gccnAP/jJB1+Ir//6LvZBIko7KbFnGS2UhM\n",
       "5QfQkfIF2dbQnSCBhZ89Ws2UOJeB/5IEjk8FKf9n+gcn8ZaK2QN6jAAAAABJRU5ErkJggg==\n",
       "\" style=\"display:inline;vertical-align:middle;\" /></a></dd>"
      ],
      "text/plain": [
       "<IPython.core.display.HTML object>"
      ]
     },
     "metadata": {},
     "output_type": "display_data"
    },
    {
     "data": {
      "text/html": [
       "<dt><a class=\"ProveItLink\" href=\"../quantification/existence/_theory_nbs_/axioms.ipynb#exists_def\">proveit.logic.booleans.quantification.existence.exists_def</a></dt><dd><a class=\"ProveItLink\" href=\"../quantification/existence/__pv_it/axioms/c17288ed07a16d05dcae94da1e9ef525a5dcdb630/expr.ipynb\"><img src=\"data:image/png;base64,iVBORw0KGgoAAAANSUhEUgAAArwAAAAzCAMAAABCHStVAAAAPFBMVEX///8AAAAAAAAAAAAAAAAA\n",
       "AAAAAAAAAAAAAAAAAAAAAAAAAAAAAAAAAAAAAAAAAAAAAAAAAAAAAAAAAAAo1xBWAAAAE3RSTlMA\n",
       "q1RmmUTNIjK7EInv3Xbn9enzK1aD6QAAAAlwSFlzAAAOxAAADsQBlSsOGwAAC5ZJREFUeNrtXYmW\n",
       "q6oSVQYRUN7g///rFRlkBhPT0rfDWqdPFmCVwW1RFMXOMNxU2FGGD5ZxXVcyfMvzRexPAjx6Bzej\n",
       "bd32gt4WQ+ds0/RFTT8Fwh9GK/WgSiXa6H3gxbdY18KYfMF7FNKF7p8G7zCvoaGFnYF35MMXvJUp\n",
       "+8n5GovHwDuAtW/wwiI+j0a0qrLgP4DTfXKk40gndBodwJ+9JfgYeAc+9gxespAqeLswQD9WNvWd\n",
       "6WLQy56efib2GHiHFXYM3lUMX/B6ft6mRgRsZmQQfPiWIHoOvGBh3YIXLsMXvP4kvc36f+MsLI/f\n",
       "kwbQE+AdJtQteBf+Ba9f6Gb+1wFE8PyidYLPgRdvpFPwio19wRu4vNTzHnavQb/fTIiRzZynB6Hc\n",
       "2layMvSy6RHwDtPYKXjXcfiCN+HyEn7uZmmzN+zTpxjFgNbkdeXWtpKVoSNCLnhNBOgo4ydHBLgG\n",
       "riPwztvcAl5gQmUfBm9hrxB8aJtAxHPRyDmHzsBqGMP9DuD+HI8tHRYGGN1Wxvk4vrCN6mkIVk0P\n",
       "Wl62iS7BO1bXIj9qeYOBEVwIpEAL8U+9MMbldZYFSrd8zZEejlmIwDq6regwjC+YEkdGaGQeBO9A\n",
       "1y7Bu4z9ghdPErcqDM0+Ny/iYMW6TRnwHh+tDQIJcJrWbb+AVOe0zBNJRi7xk5Z3nw1Ih+CdN9gt\n",
       "eA06kKxEH9zam5g/JFH45fR+j4W3yqtKgNe2QvYyeE8ZCO7mHfmD8YzPu/sNsEPwio1cB6+cys1s\n",
       "7jQla9Nas12dgbEPH8oZcy1d2K462dNf24stGlJ6GENGsfKyuPduaeQHrfv/q9NawcYQy2AQLzti\n",
       "zO6nhsxDltedoPsBL62H3yPwCjKMdJgCG5yuTSMo39UZmNEo5vs9kqlwYbvqdE/geb1T5PLqOBXY\n",
       "Zob2e8HABS/TXkbQqtOxmPVB7KfCB1cGYULWmnW+jtY9BV7H6d3BeyIZwPfB+7K0hbaB103MgYcp\n",
       "kmaRONmethYDUZnjTwEl8NrNExllxNS/0NV8QXVaM3a0IpmVE3qdszKiSIgd6BD4Xs2qkgaDVnOD\n",
       "q00pXFH+g+7kyxiFdXWtkXoKvHxzwXsO8kTeB++r0lhDHntq8aucjRn4yZ6qdpFia0Jz3ooLXmh8\n",
       "0L0vGIuaL6hOaJ6rb/CaeNOszwsSrgHZx5WQXGssK9Vp2ZUipF41opU9BV54+lI7eGfzNMh7LoQC\n",
       "76vS5k28At550QnSHoR0LVGfynpVV4gw9JMNndun+/PHTCc1GXylNV9QndIMqm8wRAXwJrbXCZ3n\n",
       "WWVUNuVSpjqRw9WfwQFekxn0FHgdoEif1yxxObgBvK9KAxu4DF6yDHzS0VE9Y3K/dqDYVKf+nF2B\n",
       "oGYplliwLQQyMevdrTWpOaP6omZRf4NpaK8Jnzau1nGJqxd5XGbLtcYTYKoTlgZJcOjZpKfA60zR\n",
       "ErzmNt7M+Qh8oYvSYEM4JxKJBOZCsBNCs9x3c2rRPNjqeSH+H6/rOOulWCpURtAo5D4VseiJNGdU\n",
       "X9RM664Wy89oZXS2YLfeyd7hU+AdttGLNixqBcRvAe+L0hoiZcX3wUzenv3mzDyNlFn36lZ5SACz\n",
       "NHgP84O0WQp3EqzbkFZ9RTNrcbWIGJ4rwj6l58BLPfAqI0HZPeB9TRrf2BvgncWi3BQXfsO0T5hq\n",
       "QsYJ4V6d3DYDHA558JJt1DD1grNWc0b1Jc3oFx3sfwy8y+SBl4zmz6suvQteTxqmG+JoHO1TcXIE\n",
       "fA+gBbx13gbYXl0ZfBprx6dVbZZ3RTP8NcfyxD61PgXedfXAe5hJnh05siLZCPXeBqqA15cGD1Vc\n",
       "K3RzBPwybp09n9Jb8iFqFTZ8SwN4Fx+8QKTjUGKkcs0MxsPY6COsVfB60kakPFovpoPoveD9Uun8\n",
       "5nKRficE7441GC8DEDJnT/ZGZP2FKng9aSrtVmVr+DkC192GrDn8c4QO5MW2h26peol2oJtkhG7D\n",
       "wIEOzzoJRPaE/gBmgPc17g5ejhBa93+4CF4rTeJVZjUp8+vnCEQLtoY7z2WS/TXwljLqnjphgjNB\n",
       "EMQaLtHgxS2BlGDBJr1Q5c86CURO2AbMu9sAcLPlJWfmD1yEEGbL0csRCMe8Ic6b5ds4vs5dORr9\n",
       "FzMOfXGSiOSouxveUeZkxGAiGp7cMgbglZHyA3ZnAhGGLnh3yAraCl4jTX5yYerlCIQr7Tp483wb\n",
       "KmPnphyN7oszDl1xkkwpGxvzJgIRX2LjblPdefR32Py1j0kgghM9ClDgZXyYmsEb41V9ETdHIPxK\n",
       "WzVOlOfbOO7srhyN7ss5Dn1xkqTSLuZ4jnXBGzGYwGpyBzsz9CPw2gSimXuWVyb5ae/0AniJsbHH\n",
       "pr6fIxB8y/pBinyiy+S9tfxffq54iXytTjhJlthsJva7XfDGDCZLzfQGiTk+2gaTQHTukanguajs\n",
       "YiTAuztl3Nn593MEsrNBztObKuC9KUeje4/3/H6dcZLEVgknMOOBN2IwmWo2zMngCsHrJBAR467M\n",
       "q3Iir4PXU2o0oHTq0lobd8Qr4L0pR6N7r+H8fjlOEiYO9yF5VLTU1uhz5yTwqCa1+vDAGzGY8Np9\n",
       "OUkwpWNAjEuft3nLsgxefAbPxjU1NVRPvhfeSeON35Kj0XuZApc3wUnCFbkCTG38lNraSlbCyR+h\n",
       "4wr/+W/iRKYH3ojBBNZs2OidpLirrLVjL2aA0x1hbZdCPyIn3oIC8F7L0XjN7BWmlk/EOER2HIY8\n",
       "J8kMFFXDSGNGEqftRT4SV3owAkuD4fXBGzGYgJoNc46L9XT0vbLOitikT5jadNhijsYd5cepSFBh\n",
       "HHKcJExTLux/IkYSp+1FPhJHQvQIg9k2+ap74I0YTObKjECcEze/iHSkAbyZHI1PgfcnqEgwz49D\n",
       "npMEy2lM8WdFpA627WU+Eke6X780GF4fvBGDCa5Y3j5JRwa0NLkNJfCmczQ+Bd6foSKJwvZ2HAqc\n",
       "JAdRk1iGFHht28t8JKcEj43EUXX4dv/7f5KFxHcbQgYTUJkKxj7pnnBlmyI6Bk5QBF6bVYGPwF4w\n",
       "bMnK5K1kO1aoSN5Tm+wZRa3tOGQ5Sfb/R/MnZCTx2myu6iVCEishYCMJwZTZLfMXbCGDSQ2QnRLt\n",
       "neQBmUXuWIs2ODkaQm5xB+d3k5XpWFC2Y5mK5D216Z7RgWI7DllOkt3ySYIJte0TMJJ4bebnoQrs\n",
       "I6kqIyFgIwmCmbmT0B54IwYTxCteQ58Up7V4w7zWwXvmaMhnJrMxHE4QW1ljBDmvLoE3QUXyntq0\n",
       "XkzT41DgJJEeOBdIeYcBI4nXZu/SNsY0JDEhiSPBYyMJEJBLU8AwBs0J3gqK1l7JpWu0/utcB++J\n",
       "Yn4Mrc8JoivrjCC6Yxm8KSqS99Sm9MY8JOvcNEZ88p1Il05EtZ18JNcJSZQEl43E0pHozi17RRGD\n",
       "CVkrrmWvtP4105tP2pjSdyOH1uME0ZV1RhDd8ToVyXtqU3rj2beUvKLaJLLYAnzw8hN1qs3hI7lE\n",
       "SOJIcNlIgqSgqeV1iBhMKolF1HMd+/opq6k8hllWgylpgvBh5k42EqeyzAhiO16kImlUe01vgoek\n",
       "xO5wtMmfBFO/JRozkpxtJx/JNUKSU4LLRhIk88EmwxsymFQSAvHW709ZKU6OwujRdvACBOl0okgl\n",
       "BtnKCiOI7XiRiqRN7TW9CaSW6B2ONgBj79rAM9V2jZAkKSG80bXF8EYMJhXSlSBa2tnPt4ry7eT4\n",
       "NmLwsn0UKHRHETiVNUYQ2/EqFUmj2gt6k0At8Y48xUkifNzNly7R4BXkUrzpV/1wdkO0wcoRA5a1\n",
       "HhuJqawygpiOl6lI2tRe0Yv+xKnoJgYTHD7mO8ELGWNvZ3RN4BbwYij81wDmKqNxTHXMgjegImlT\n",
       "e0EvxMMXvNqWe0tAiTVxI3il+4/eFkNf2K+cfoy34aepSP4CD0kb/Q7zwxdUoo3+A//jeEVhkrfm\n",
       "AAAAAElFTkSuQmCC\n",
       "\" style=\"display:inline;vertical-align:middle;\" /></a></dd>"
      ],
      "text/plain": [
       "<IPython.core.display.HTML object>"
      ]
     },
     "metadata": {},
     "output_type": "display_data"
    },
    {
     "data": {
      "text/html": [
       "<dt><a class=\"ProveItLink\" href=\"../quantification/existence/_theory_nbs_/axioms.ipynb#not_exists_def\">proveit.logic.booleans.quantification.existence.not_exists_def</a></dt><dd><a class=\"ProveItLink\" href=\"../quantification/existence/__pv_it/axioms/09ed128a386f17e52e1f98d99ad7d38eeaf293cf0/expr.ipynb\"><img src=\"data:image/png;base64,iVBORw0KGgoAAAANSUhEUgAAAn0AAAA0BAMAAAANlZNzAAAAMFBMVEX///8AAAAAAAAAAAAAAAAA\n",
       "AAAAAAAAAAAAAAAAAAAAAAAAAAAAAAAAAAAAAAAAAAAv3aB7AAAAD3RSTlMAq1RmmUTNIjK7EInv\n",
       "3XZ/CtNrAAAACXBIWXMAAA7EAAAOxAGVKw4bAAALYklEQVR42u2bD4wUVx3Hf/tnbnZn/7BEYwpU\n",
       "sqa1EvnTTQsYTAPbHBS0Ui9t0kQgZSNNjJiGIRoTWoSzMY1RCotKK6TC0DZqDwNL/5BYUrKlqVZQ\n",
       "XFuohNy2C5w2J3IsFgocac/3b968efN2lr2dYyXxJTv33pv35mY++/78fr/vLMCYJcOE/yeS+vr6\n",
       "Wmofqv4dHRPZG/qh09W3mw2Qvj7rmi71/siFZk1+KRa6yDF+o4+/Oxtx20b/xkdGitd0oWPNR1zO\n",
       "yy/V0Yc32+/diB88aQ+7SFD8JoHEL1qt/rm/p4Ozr73F4yFffuFKwPwiBfCOv7ltPsNoqO24Mv6p\n",
       "r+Lc1DYvlPPjB3sD5rfWVPBbdP35wTj0RT6DZpdRaPNCK335pXLB8nsPFPwqHeC3qQZwO/pEc21e\n",
       "aKYvv/ChQPlFyip+hQ7wO9eLPiWAZLsXSlp+/ODhQPklSwp+Wr4D/HbgD2J4W7sX6sr58ltuBsnv\n",
       "nKXgl851gN8VgNgn6O+92EwbmvjTFwWrzV1UpN0nf7vfvuVExpdfVyZIfn8DD79w9f1q/3Xnh9jp\n",
       "r+H/ugJ9onCyttg5JxUVKZ+eHK0IFgXlhywxnDLuBXA4QH6xy6AYf6mWbbCoq/SFFqwNnjm//yVi\n",
       "dGLX60swz/oUGLPZOVrctXdiw1XcjAxzPyBc9h1/xicB8guVVfzWtMwvzv6eGVqIbq0V4ztvX6HO\n",
       "Mm+iTy/cg44bz7IqWsxDwzEYg6hj9cTqvvzgVwHyS2ZU/KaOlt+DJrYnd7bSc6lg/nF+AEfwYTpv\n",
       "hYsXYX1v4wep8azmP/5gnhkcv005Fb9XRskPO0fRIixoabdkG9gm2xAgoRPtEvQJ/Ejxy378lpuG\n",
       "FeneOMDuwmf9gz254PidM1X8VmJ+QwsH7JNC1kmuSsoPP1+kDhXXyfTAuoXeZY9X2qGyc/ak346W\n",
       "qC1oXSlRfpZThNdIUV7P0OeFnpshAc8tyyVNSubOpnMuGH7PgIpfBfFLmxO62KMJWYGAq5Ly+wzm\n",
       "UdYLrpMfhIrf9PxfpzLMFsBVgoMavvx8WcsSfsZHTjF2ghRhT4EdeOn2n3wN7odH/wnjEN9oyZ9f\n",
       "vML4EY63NOMXInfZwCn6k4JftPpxtb8nAttjoJNwGcneP+DeFUilxO8wMa+0IgidIRev9WozpDmN\n",
       "K9nUpOPgKyPb7QgT4nJf7dY72PpXtXhxjUWKkMLIyeEozpwAeH4o3I0AT4ZluKLHn1+izviRe/pW\n",
       "M35R/Nxd6piacUE1/iJ0Lb4E8PgJsLNloy41veRZ/97A65gZzrg7jzORT7ZHjhbYNxST51HKWeQw\n",
       "vzCfsXpeN4UiT1/kubdgPvpOfwD+/CIXGb8f4osWm/GLZYhF0shoVfALkSeIlXUAigBnzZhk6uDK\n",
       "mQ9MFfn9ApbAO4SI0Bk2gKmjgzuhysiCO0rO/HUeL+/il+ClNT/+kSUUeeIeqF6H41MAupvwow+N\n",
       "+OGtq5lScYzGcxp4P+H/qPiR6PPaRCFKEOxi2XgPGCVUIgdWOaOYEvmt/e7uJ3J4+eSdjZJe3odt\n",
       "vC1CZ1YZHsQ7Tbom38LTduaxVQeQZ8br/zoyIhb5HOIX0DJwJkdHlB8/OukQv0jOjpf48sPXahBT\n",
       "i1xW8dPI3v+PA/8iCDZkaXYR+uYOwgYz9kd0YJWh3u+L/PS7T07UMQDeGfW4b+mQBdFeobNdeRPa\n",
       "aRRSywuukoS31tiDsZcSswk/OG/vv3+pVg8355esVvtLDbynS8r910l4CtIRnrDQrYf5CVqZgtNL\n",
       "XP6Hlt/tmMS4M+vxalrszHKV9CxLokW+hVpbjvQH0IzfFZsfGhLbmvND333carAVDfvz23g4Cxrt\n",
       "u2oETbYlfKrQyp0wNefip59H0KIm78x6dI18LHRmOSMTfglg4ZhEI3z5/cHmtxr0DPgsqJQfarMa\n",
       "5b5x4eXxJvdRmdvv5Uf0X7ehIpgdqkqRHzyCd/tXFT3ErFAZGQuhKl19w+901eYXtxLiv9ePvgJ3\n",
       "ZRyX3LaftyGHDHWoQKLCfVQWPqgHdMe6xyW4xmTA9U/9Nr9wzZluGydsgc8lrKjl5TeDbB+hPKTr\n",
       "3Ee9Jn4hz2C8sdLZataXHxTm8pm4CPsitXwCvPy6iEGczEIqw33URvPXNZK6Og3AbHNGIAtF95m/\n",
       "8CKy7WjU4TSum/L5dQl4ef7R+T0ufonb8Gq/3tI/zX1Ue//w7L9w6n+IXzsqglaj/LRa4/0D1qIB\n",
       "RaIOBpmRUxLPLlWMP/11nLtr6JTFfVT7Bj32X7jk5re4Wq2+eX2pDY5snvCwReOQbaTTlB8dWa70\n",
       "OueHPS0SddDIljYF8oMKfnATPowHwUdtaD//WmHMnLrOw+4jtDNilbY9JR17Z8TD8NhuF9zxKxx1\n",
       "iHx769afIX67ulT8ODjuo9qj7aJ87e7O88P+aRj7qO0p6diPxvwisoNtXHXzw1GHWImOP22G1/5j\n",
       "6yle6pD7yXxUdqsfyv+13Hl+eFFJ42dsU0k/RPnBoUbxAzHqQPyQWQAnG8VPB69axB1lPqo4lMXl\n",
       "r9B5flhJiuOFpU0lfQXjt0IZNOH8aNRhDVoJY++aNFraOP4ctn1Ult6VmkdLnec3rkhfhsFKujGQ\n",
       "E+Wo3d3I6/OzxsXmexm/vUqnX4rfG7/fuqWB/yumJbaPytLN8qKb6zw/xO6xt9kASoTLME/wTKc5\n",
       "tqvSnxebz2b8ZsteQV3Bzyd+ALID+4hjHs6TNqdUlpos1aOM33SUP9jS449WSudxqHOT9s8iGQTx\n",
       "8WgFJsBzbFWJZRdDqOijo9PmLE1j/KZJjZLF0fPzfNeShZq00a4e9fgbtZRu75M77Apkd1rJGhyJ\n",
       "DVVsZ/kIJGs+Ojppzp+N8dskNVpfC46frJ8Hx691KX2pY/5xfrDcil12XrrVhmFTr5+OTpqztIzx\n",
       "Wya1CVI/j5a98zcQfqOQ0pmhG7tqV+BF8B5Ilx1+0QL821dHx82ZjI7VE8JvutTmsxAcP00yoOO2\n",
       "t/g9F7+HMmAPVCHrXOWksO/LUrrTwdUMPNdjUk6a3xJWNDdDPEP4kUAXym8GHx2dNGcyOsxh/OZI\n",
       "DYN8f4goqOIGllHtv0Zt2FbfhKxgVoyzNkj8uJQudHA1A8/1wnQB7KoLBgjcDctzhB8RzaMZ7UM/\n",
       "HZ00ZzI6Nn8Iv3slvyTI99fkDThWAUX8QH+2ki5SOZxkZS390ekwKPHjUrrQFzeTlXRymg1P8je6\n",
       "44o9B55En50Hvm4SflgmB2PSwCU/HZ02pzI6fnTCT0KQCvT9Sfn93eOgil+FSqEak8Nx1qOlT0L3\n",
       "7ObnSOlCX9TMo6Tj0+y7Uyvp+9iPNqhMnig00dH32TK6XqH89Iq0xQT6/m5EiqDOVPJL9SR7mRyO\n",
       "sx4t/Ri8RdVw8ErpQl/UzKOk49NUhg/nvRGARME4yPiVCJzfZf10dNKcyeg4+oD5yVGIzRAkP/iO\n",
       "tIGYSn69y5kcTrPxHkcLRwc4rtWpGg4eKZ33pc1kJZ2cpjK8SklP1UIl0PddrVGZ/D38aykfHZ00\n",
       "pw4teeUikvO8eqENB8tvgztGbhRV/MLdT9lyOMkuwrI61cLRIQu3zilQNRw8Ujrvy5pFJSUdn6Yy\n",
       "vEpJD89dILont/CFt6b0X5zm9DUGzO9ptYUWFL+0dJ11Kn6/gZ/bcjjOEi3d8VyyhhnPUTUcvFI6\n",
       "70ubyUo6Pk1l+GCV9LRJ+aWlbyXo329Jvx8E5fo3WSvYcjjOYi1d4wu4ZoVqDzI1HLxSut2XNvMo\n",
       "6fg0leHHQEmPeCKwWqE1fu80/f2099VIL78HzvD4g511FPQIaHNLXv/XltKdDryZqKTzS4+Fku7l\n",
       "9wT92o2+3dfGr9XfT7v5jUb/Ha2UPgZK+tl+mZ+xkn3JIyPF/wJNa8Z/2gKsggAAAABJRU5ErkJg\n",
       "gg==\n",
       "\" style=\"display:inline;vertical-align:middle;\" /></a></dd>"
      ],
      "text/plain": [
       "<IPython.core.display.HTML object>"
      ]
     },
     "metadata": {},
     "output_type": "display_data"
    }
   ],
   "source": [
    "import proveit\n",
    "%theory"
   ]
  },
  {
   "cell_type": "code",
   "execution_count": null,
   "metadata": {},
   "outputs": [],
   "source": []
  }
 ],
 "metadata": {
  "kernelspec": {
   "display_name": "Python 3",
   "language": "python",
   "name": "python3"
  }
 },
 "nbformat": 4,
 "nbformat_minor": 0
}