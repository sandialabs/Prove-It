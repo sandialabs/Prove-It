{
 "cells": [
  {
   "cell_type": "markdown",
   "metadata": {},
   "source": [
    "Theory of <a class=\"ProveItLink\" href=\"../../../_theory_nbs_/theory.ipynb\">proveit</a>.<a class=\"ProveItLink\" href=\"../../_theory_nbs_/theory.ipynb\">logic</a>.booleans\n",
    "========\n",
    "\n",
    "Boolean arithmetic.  Boolean ($\\mathbb{B}$) is the set containing only TRUE ($\\top$) and FALSE ($\\bot$).  This theory contains operations that are defined to act on Boolean elements: implication ($\\Rightarrow$, $\\Leftrightarrow$), negation ($\\neg$), conjunction ($\\land$), and disjunction ($\\lor$).  The quantification operations, universal ($\\forall$) and existential ($\\exists$), are also defined in this theory because these operate on multiple instances of Boolean values."
   ]
  },
  {
   "cell_type": "code",
   "execution_count": null,
   "metadata": {},
   "outputs": [],
   "source": [
    "import proveit\n",
    "%theory"
   ]
  },
  {
   "cell_type": "code",
   "execution_count": null,
   "metadata": {},
   "outputs": [],
   "source": []
  }
 ],
 "metadata": {
  "kernelspec": {
   "display_name": "Python 3 (ipykernel)",
   "language": "python",
   "name": "python3"
  }
 },
 "nbformat": 4,
 "nbformat_minor": 0
}
