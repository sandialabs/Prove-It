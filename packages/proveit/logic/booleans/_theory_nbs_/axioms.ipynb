{
 "cells": [
  {
   "cell_type": "markdown",
   "metadata": {},
   "source": [
    "Axioms for the theory of <a class=\"ProveItLink\" href=\"theory.ipynb\">proveit.logic.booleans</a>\n",
    "========"
   ]
  },
  {
   "cell_type": "code",
   "execution_count": null,
   "metadata": {},
   "outputs": [],
   "source": [
    "import proveit\n",
    "# Prepare this notebook for defining the axioms of a theory:\n",
    "%axioms_notebook # Keep this at the top following 'import proveit'.\n",
    "from proveit.logic import Implies, Boolean, Not, TRUE, FALSE, Forall, Equals, NotEquals, Union, Set, Exists\n",
    "from proveit import A, x, Px, P"
   ]
  },
  {
   "cell_type": "code",
   "execution_count": null,
   "metadata": {},
   "outputs": [],
   "source": [
    "%begin axioms"
   ]
  },
  {
   "cell_type": "markdown",
   "metadata": {},
   "source": [
    "### Double-negation elimination\n",
    "\n",
    "This is really the only axiom that is standard in (1st order) propositional logic that doesn't derive from our Deduction rule.  (A more standard approach would include $\\forall_{A, B}~A \\Rightarrow (B \\Rightarrow A)$ and $\\forall_{A, B, C}~\\left(\\left(A \\Rightarrow \\left(B \\Rightarrow C\\right)\\right) \\Rightarrow \\left(\\left(A \\Rightarrow B\\right) \\Rightarrow \\left(A \\Rightarrow C\\right)\\right)\\right)$ as axioms and to derive Deduction as a metalogical theorem -- we flip this around with our Deduction rule that allows us to prove these statements as theorems and apply deduction directly in proofs)."
   ]
  },
  {
   "cell_type": "code",
   "execution_count": null,
   "metadata": {},
   "outputs": [],
   "source": [
    "double_negation_elim_via_implication = Forall(A, Implies(Not(Not(A)), A))"
   ]
  },
  {
   "cell_type": "markdown",
   "metadata": {},
   "source": [
    "### Equating logical statements to Boolean values\n",
    "\n",
    "Applying equality to logical statements is nonstandard but will allow us to perform direct substition on logical statements.  To translate proofs involving equality between logical formulas into a more standard approach, such equalities may be replaced with logical equivalence and substitutions may be expanded to derivations based on a replacement principle."
   ]
  },
  {
   "cell_type": "code",
   "execution_count": null,
   "metadata": {},
   "outputs": [],
   "source": [
    "eq_true_intro = Forall(A, Equals(A, TRUE), conditions=[A])"
   ]
  },
  {
   "cell_type": "code",
   "execution_count": null,
   "metadata": {},
   "outputs": [],
   "source": [
    "eq_false_intro = Forall(A, Equals(Not(A), FALSE), conditions=[A])"
   ]
  },
  {
   "cell_type": "code",
   "execution_count": null,
   "metadata": {},
   "outputs": [],
   "source": [
    "%end axioms"
   ]
  },
  {
   "cell_type": "code",
   "execution_count": null,
   "metadata": {},
   "outputs": [],
   "source": []
  }
 ],
 "metadata": {
  "kernelspec": {
   "display_name": "Python 3 (ipykernel)",
   "language": "python",
   "name": "python3"
  }
 },
 "nbformat": 4,
 "nbformat_minor": 0
}
