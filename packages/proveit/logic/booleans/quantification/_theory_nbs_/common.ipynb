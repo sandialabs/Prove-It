{
 "cells": [
  {
   "cell_type": "markdown",
   "metadata": {},
   "source": [
    "Common expressions for the theory of <a class=\"ProveItLink\" href=\"theory.ipynb\">proveit.logic.booleans.quantification</a>\n",
    "========"
   ]
  },
  {
   "cell_type": "code",
   "execution_count": 1,
   "metadata": {},
   "outputs": [
    {
     "name": "stdout",
     "output_type": "stream",
     "text": [
      "Defining common sub-expressions for theory 'proveit.logic.booleans.quantification'\n",
      "Subsequent end-of-cell assignments will define common sub-expressions\n",
      "%end_common will finalize the definitions\n"
     ]
    }
   ],
   "source": [
    "import proveit\n",
    "# Prepare this notebook for defining the common expressions of a theory:\n",
    "%common_expressions_notebook # Keep this at the top following 'import proveit'.\n",
    "from proveit import k, A, B\n",
    "from proveit.core_expr_types import (\n",
    "    x_1_to_n, x_1_to_m, y_1_to_n, y_1_to_m, z_1_to_n, \n",
    "    P__x_1_to_n, P__y_1_to_n, P__x_1_to_m_y_1_to_n, \n",
    "    Q__x_1_to_n, Q__x_1_to_m, Q__y_1_to_n, Q__z_1_to_n, R__x_1_to_n, \n",
    "    R__y_1_to_m, R__z_1_to_n, R__x_1_to_m_y_1_to_n)\n",
    "from proveit.logic import TRUE, Implies, Not, Forall, Exists, NotExists, NotEquals\n",
    "from proveit.numbers import Natural, NaturalPos\n",
    "%begin common"
   ]
  },
  {
   "cell_type": "code",
   "execution_count": 2,
   "metadata": {},
   "outputs": [
    {
     "data": {
      "text/html": [
       "<strong id=\"general_forall_Px\">general_forall_Px:</strong> <a class=\"ProveItLink\" href=\"../__pv_it/common/5b2e15c8585001919db7a1e7b28c847ab8611e500/common_expr.ipynb\"><img src=\"data:image/png;base64,iVBORw0KGgoAAAANSUhEUgAAAQIAAAAWBAMAAADZUY9aAAAAMFBMVEX///8AAAAAAAAAAAAAAAAA\n",
       "AAAAAAAAAAAAAAAAAAAAAAAAAAAAAAAAAAAAAAAAAAAv3aB7AAAAD3RSTlMAq1RmmUTNIjK7EInv\n",
       "3XZ/CtNrAAAACXBIWXMAAA7EAAAOxAGVKw4bAAAC2UlEQVRIx8VVTWgTQRT+8tdNNk0a8WRPAT1Z\n",
       "f4LE+nPQgKhVUaLexMOCB8FL40UoFrsWD4Kl7UUFkXYF8WChpu1RWgIeChZrDgoSCKy2XgTbetBY\n",
       "D8Y3Ozu72WwiLIs4MLPfe/Pe5Mt7b94APof0H735+OTLO6IDKQa2e3RMTm5ueXCaoWDR3x9YAY6z\n",
       "71Wvjl0K8Fgj8MxnCDs03GbZGPfqOEbR20sTx3wyCOUYCcTTXh3XVZosASW/dfQaoQyFwrPfJJvE\n",
       "Iqj4ZXAFeFOtLnn22wSiv+kbpjjIa933Zu2tJrHFcFjMAH3AI68E6NeleZa6DopgGB/1s/Zek9hi\n",
       "OCx6geuQUl4ZJL+9nMszkCAaB3BU2wq519zj4tRMd1tvbmGOXUBMi+e9MohtmKCTXFWcIDT61VRx\n",
       "MYf2ceAW4lZRMeneC7FLaWAALLNlt7XLxO8YUtv7L9vwMk3lCC1rJ1cLpq4B2sOpHBOdkGUBkRqe\n",
       "NzAwxMN/Y2BYZA+u5Uzis9cosYVtHWZTaIANiXcq10XeYjrk+4ESivwo6i1CxDxh9zWAsJD3v8Ii\n",
       "SYdoDlIhhjARhWTcCQNeWHXWhqG0R78A8RSCP5+WImmDgfwDlhitAC8UrnMCbiFNK/hFmjM0A0a4\n",
       "asBwhR9LsCRvNLGvNeBT9QlxLcuQz+k79pnhrGqWOEDxSLAD37Fk5QQgjWkR0COsob63bniJnuqK\n",
       "BQvRpnbLlNmLPa6wfrAQYxDUrIc/J1Hd7HTZ25pONZxTIZVNcTCuhA0GUyaM5QnKRbEYyj3jCdeJ\n",
       "WQeDuCUN3L1DbNxPt60ZQmJYRTgj2tTnhS8Gg5E0h30MRhcxUmALVwbUG+7OIG7Izf4FYNrSv63X\n",
       "Kd66qxJtzXkk54ipc59lgVd8XNMFhKVMYOWS60jHw970i0l3M21WPHRIo0tpRHgm++tlAdn95egJ\n",
       "ejKuM2/5ehmT7s4TagVD+IfjD9Rm0At8/1WOAAAAAElFTkSuQmCC\n",
       "\" style=\"display:inline;vertical-align:middle;\" /></a><br>"
      ],
      "text/plain": [
       "<IPython.core.display.HTML object>"
      ]
     },
     "metadata": {},
     "output_type": "display_data"
    }
   ],
   "source": [
    "general_forall_Px = Forall(x_1_to_n, P__x_1_to_n)"
   ]
  },
  {
   "cell_type": "code",
   "execution_count": 3,
   "metadata": {},
   "outputs": [
    {
     "data": {
      "text/html": [
       "<strong id=\"general_forall_Py\">general_forall_Py:</strong> <a class=\"ProveItLink\" href=\"../__pv_it/common/0ffc5f0a14528e814855397bd785073f4fa0ce690/common_expr.ipynb\"><img src=\"data:image/png;base64,iVBORw0KGgoAAAANSUhEUgAAAPoAAAAWBAMAAAAbRJz3AAAAMFBMVEX///8AAAAAAAAAAAAAAAAA\n",
       "AAAAAAAAAAAAAAAAAAAAAAAAAAAAAAAAAAAAAAAAAAAv3aB7AAAAD3RSTlMAq1RmmUTNIjK7EInv\n",
       "3XZ/CtNrAAAACXBIWXMAAA7EAAAOxAGVKw4bAAADL0lEQVRIx61WXUgUURT+dnbHmZ39cR4zQRaK\n",
       "iFJYAgN7sA0zgpCkoIeQXCgIeml71IIseujBUgkKesgxHyKMGg18iWIRIjGyJRJEMCZagkWphbBM\n",
       "oe3cu3d3dCeFcbpwZs7M+c58Z87P3AG8rdTWXRV4XdHY1n1lC9CZssOdX64wUHPOYNpeL6F/AVrZ\n",
       "+bxLv59AcIrOWtILe5WBa6wC/e7c1D+ARIJA3Au7P8ECQMhl9aLLJKukhL11zRT8FH6VS69gnoQi\n",
       "wC5v7GeBd/Pzb116VVOl+qhjcYxKn41jyDY9bYGmb+K6Dj4KHAXuu2Qn5ssfRPAhKY2Dtsmshz+/\n",
       "ies6+H7gEhTdJfv32heNXKEQrgcyqMGwaH411gZf/8jo9o1ci3Cx6qmARqjdJftgSXkNGGEL0+q3\n",
       "jEgsphG2EmjbyJXDyzmk0bHcNh0b9zI7Og11GVKm9AFbQV/PEq72bOTL4WJ1kCSbyekzfOLWGR2O\n",
       "Sqwxs/SuljRW/COIpm32QBKLOLAJO4P7W25nmd5AMnaBWrXa6BW5s1bUdKWLbebjvlTSHpAMIKhz\n",
       "do0Po043gJeUY2e/Q8CHO+Jhtj01kVyhV+1uQA5dzEF5mIn2n8iubwVutr+Q+TUjg0PojHP2Z6zz\n",
       "Arr8g7IzB42Vh99iB/uKwbu/otooDix8LEu1qFMbeLg+02eltYqpIXNZDwz+toR6i2To1fEUZ4/M\n",
       "sferzf4Cf495kkgC4vARAsDhdbzkmCk9cgaTiHD2SHu4J1WZfDL7W/eZlbmM8PKOo1j3PcWJTkJJ\n",
       "KBSQM/VFAMEncVilNJeaBbNynrFrJj2xk8rXjhF2IQ7MLOWQ+cc+EUpqE4Ld5I9+EkPXzRsGQs6O\n",
       "M1GEK3nM7l67R+1sSjJ2dQJSy13+AeyNqW/Qm2KHGDdvU5z76T1ELJ8JZXzVon6lG5+oSHhfKFCn\n",
       "OruOABwu61gg5q6yIRWM88xLeIQ7CBkEtDe+GDdnoo2OZD6G1NxaGgX+n1LuV8u5NZLYcBa6WD7r\n",
       "FNTFMeA06uQkLhYykMtUssHMmi49d/6bWR7+ysr/hHKz6Kg4Ti6ImtrVtc3/ef0Fk3nlwpS3s3oA\n",
       "AAAASUVORK5CYII=\n",
       "\" style=\"display:inline;vertical-align:middle;\" /></a><br>"
      ],
      "text/plain": [
       "<IPython.core.display.HTML object>"
      ]
     },
     "metadata": {},
     "output_type": "display_data"
    }
   ],
   "source": [
    "general_forall_Py= Forall(y_1_to_n, P__y_1_to_n)"
   ]
  },
  {
   "cell_type": "code",
   "execution_count": 4,
   "metadata": {},
   "outputs": [
    {
     "data": {
      "text/html": [
       "<strong id=\"general_forall_Px_if_Qx\">general_forall_Px_if_Qx:</strong> <a class=\"ProveItLink\" href=\"../__pv_it/common/4e37f611a66237a7017b23c1a812db0e1604c50f0/common_expr.ipynb\"><img src=\"data:image/png;base64,iVBORw0KGgoAAAANSUhEUgAAAYMAAAAXBAMAAAAbyj7AAAAAMFBMVEX///8AAAAAAAAAAAAAAAAA\n",
       "AAAAAAAAAAAAAAAAAAAAAAAAAAAAAAAAAAAAAAAAAAAv3aB7AAAAD3RSTlMAq1RmmUTNIjK7EInv\n",
       "3XZ/CtNrAAAACXBIWXMAAA7EAAAOxAGVKw4bAAAEIklEQVRYw81WXYgTVxT+MjPJzE422ZRCqUuR\n",
       "QEWLCxrEUuhDm7LabWsrQcGHVTTogyAUpxQEy9ampRSxq+ahVhBZR/ShKqxRwQdFCS2lBVEX2wdZ\n",
       "WJjFtaJCXB/q1pY2njtz782dZHcxjUYP3Dvnnpvv5Hz355wLPGtxniH6yUgy3RJ8PbUUU15te+CH\n",
       "Hr7w/QdM62nRUQZYzpTNbV/8rjxw0AXsfIuOtgBf0scstp3CXg9YTM3ItOhoKRCjpYin207hXoFa\n",
       "Cehs1VGnC52WIdb+W3yINaIxv1VHMYr/8tjYpfZTeAhY/9F3BbXh8R/OK+fArnR/e3pWsAqIUz56\n",
       "DzjQ5P8bodGCJvKHUCh88wKLYhO1bHKuMaJ6H/c+mtWNCtApH3wCM9UkhQ7+vVvpIx+5JpBZweX+\n",
       "+TM+7ho5cPS/IxkcEbnpDbztvogTp7pncsIBgWhliseN5/4fhTUOBhwcbga5VniY5MrPtCMwKHqr\n",
       "Ita1gHd9sjPuRAAQA/KkeU3f5oCCRv9pFIPC8tiXz62VBUGBsorH3XG5Qu1PfFGYOQ15Uo3SLiD/\n",
       "FnWVvgnx3FDUmoSMAQX2F/okRkKTyYkdfY1XQBpF+t5b4lPXWLfBsV2FQnQKx/HmbBQYQO/dMyGY\n",
       "n6YCl3TmxLh3RVWCCBkDCi+xkMpmPjR5K1Lc2PCPNaPGL8M9cXaHgGO5VxDnsbB6vS9SBmN4wR/W\n",
       "iQ0BOLIu00kLp7OyPEC3WceQBdPPTL66aiJ8P3xjHQWWimOpaFEFI9PhFaKL6g4XM/IF5u+ArWLq\n",
       "FBXpXR9iVUDBfkDfv46Wo7Qi1qg/xMl8YK+NAsBnf6CLKBqMbcR3PwV8NRq4JbVsT9bRn2q4Cz+x\n",
       "A+FoqTC4y6GKe7L+RSTOmRVQeL86xA27gaMVrTfNd2HMhb3Sm7eE1O2uP0SCbdzv4F1iVALmYh0z\n",
       "yLW2yiYwKlXHKtdlATIuXd2jUvgO/fjND0oBYxCOSV1YyKgvX1KqHSQpCXngfQqaPDpm1nSUoZSF\n",
       "UvsVy+hkfC6GA/G84UdxgqsdOdglGvkdNy4qJlQKA58Of0PZeaQGtktm+SzL/fsUMDdqt9nFT3r1\n",
       "OT4bohCXE9t3fu0qQyklyXES118DemVFvHnxjh/FYDpQqWZbP2LQsX6hjhsjhW0qBfOd8W5a/f01\n",
       "MCFWrq24MAoKWBhfpouPjoZct19EdPYfojcs7VerVXUor7Ncg2gKdzMNj2x2FoLUEnfpp5qcCIwJ\n",
       "3OgPVedodrhWrRiYI84lVTDXRpKvuzjWEFPYUrdJ3sxPFHEtw2uy51Ia0eD0ba3StvZLwoHxMHoy\n",
       "IQrmfYrbcCSYI2LVfxUw1+yUdgZorBmm19Jz8dY07w81F05nVCngY5YOzk2DUFXFqOfwnIjZUG0e\n",
       "U+ynEc0jmL0xXkCTyUgAAAAASUVORK5CYII=\n",
       "\" style=\"display:inline;vertical-align:middle;\" /></a><br>"
      ],
      "text/plain": [
       "<IPython.core.display.HTML object>"
      ]
     },
     "metadata": {},
     "output_type": "display_data"
    }
   ],
   "source": [
    "general_forall_Px_if_Qx = Forall(x_1_to_n, P__x_1_to_n, conditions=[Q__x_1_to_n])"
   ]
  },
  {
   "cell_type": "code",
   "execution_count": 5,
   "metadata": {},
   "outputs": [
    {
     "data": {
      "text/html": [
       "<strong id=\"general_forall_Py_if_Qy\">general_forall_Py_if_Qy:</strong> <a class=\"ProveItLink\" href=\"../__pv_it/common/34d51f88855ae1e43a121a55143d842fa944ff630/common_expr.ipynb\"><img src=\"data:image/png;base64,iVBORw0KGgoAAAANSUhEUgAAAXgAAAAXBAMAAADzZkmuAAAAMFBMVEX///8AAAAAAAAAAAAAAAAA\n",
       "AAAAAAAAAAAAAAAAAAAAAAAAAAAAAAAAAAAAAAAAAAAv3aB7AAAAD3RSTlMAq1RmmUTNIjK7EInv\n",
       "3XZ/CtNrAAAACXBIWXMAAA7EAAAOxAGVKw4bAAAEWklEQVRYw8VXXWgcVRT+dnZnZzL7k3kS20BY\n",
       "qKiYpixihfoQt8RYQYrBQh9qMQsWCoK4IgipAdci4kNst/hT6IOd2AcplXRboQ8VZamIpcV2UQsl\n",
       "EJnSIISUuiLV2qDrOffe2ZnZMTHJ6vbCnTsz5ztnvrn3O2fuAHe1ldbuauAut2xu7b66C9h8sqGr\n",
       "lOebh9btcfhsoJMw14ERHvd2d8J/A3ou0GgVO4mSdPAmy6fSVe7mX4BGHYl8J2HiBeaPVK67Sr9N\n",
       "fZFO0p3FuYA4vX2yu6rpaVCnF8D9ncV5Afh2dvZid8n3kkoPUq3A0yT7uTymfNP0MCx7GdcQ/BTw\n",
       "FHBkVc9OhK4eWLlavBMi/vp3aupSWg2P+5jqRsQby8QIwR8FXoFhr27V1bhwcxtlzejKHQtq/Lnv\n",
       "883ihN5gf6KOdTimyo6Z245Y5cSp9UuFkHDVNhIXJzW6FvI7S5goBZf8X9tzajzq3fgacNIuLpk3\n",
       "60oVuIS0W8D2pUIIeGsFqWi5q8xXSV6j5yUq8jOx8sLslfkWeYw55m0RTH427+Bg+RbeKC8VQ8BV\n",
       "2029OERO1xBTt563EZFRwOyR5/gkz3rQIQRDJJ6qyOaiZ2LhP4lszSefKOIGHluGPMPjwwfm+HyQ\n",
       "+ukXKct7nUm1cu4ds9bu4ptb5O9hNjWjGHQIwRCJp0nRZ295to+oH0KPLchbIrZNN4AvSCDRSgMF\n",
       "P7Y7n+Yd3RbqEzQx+wYxj3F2MD6uZyvPzoXTQJjD5Lm8Jm29Ih2MIx5M3xRWkjCrhZFjshGoddiK\n",
       "sbwgf5KTNmHrv9LazMBibYlbfPCvGL7vJ/Q6stIixmvUh35zULxtrBpza1ZbvSJzG/mvOGNKmi0d\n",
       "9s94sDROhl3ZrGqJIJ84+oe6xrvUp758piTIZziE1Tf3O8QszlLP8FKJww9QAAHvF3LHFe8RV3Ae\n",
       "GUE+M5oul9qVQ+b4yMPVAPn3sQvfCz7sgBkPZqBNOWx+ZMeAL5uASUj7jMx+PCQTowijYND7RHUj\n",
       "AQQ/jydMWlMvUXBVbzB5q0oRx4jgKE7whTqwWZtHPUB+4tXpt2lnwVPGDkRewoAP4PuqeJsqGRa7\n",
       "G91apYrWOUW+Kph9msP4O285SEWTtQoJNxq4+mBwW3ffliKTN89BG/5QfHYnc+Y3mCzxISfM9xrF\n",
       "AHlj67X19DNzGNJhBh4sUQ74qnix8mvsGPlvOoyMG6vCOLPoUmbTjR9JebjcbFLyRxOWAAKu21gg\n",
       "4uMtQ6knL2Sj4RO8h5RDQH+rmRPmenazE/zC6oVp8eFhByEbCTvL24CWr4yXwfVdwPEIn+PQhkaC\n",
       "u4cNrUrh/uP2woeLeVNZ5e6EeeM0SMj9ehEvN+vQW6LTHTZbtvZZaHtg/EKMEyXhcOBiTsGSzT8R\n",
       "8JXxpjBAU7Ut+h/qdrCxbq2jPiSTEXnsWFCC9KXpm4Pk8RLP0tmAQwvm+/rxVrUN+t+aEf10rKhZ\n",
       "/zmTvwFfAkdvKcsFPwAAAABJRU5ErkJggg==\n",
       "\" style=\"display:inline;vertical-align:middle;\" /></a><br>"
      ],
      "text/plain": [
       "<IPython.core.display.HTML object>"
      ]
     },
     "metadata": {},
     "output_type": "display_data"
    }
   ],
   "source": [
    "general_forall_Py_if_Qy = Forall(y_1_to_n, P__y_1_to_n, conditions=[Q__y_1_to_n])"
   ]
  },
  {
   "cell_type": "code",
   "execution_count": 6,
   "metadata": {},
   "outputs": [
    {
     "data": {
      "text/html": [
       "<strong id=\"general_nested_forall_Pxy_if_Qx\">general_nested_forall_Pxy_if_Qx:</strong> <a class=\"ProveItLink\" href=\"../__pv_it/common/bcf6e911fe04263899a75a6f8b2b61654d4e44510/common_expr.ipynb\"><img src=\"data:image/png;base64,iVBORw0KGgoAAAANSUhEUgAAA1sAAAAZBAMAAAA1ainMAAAAMFBMVEX///8AAAAAAAAAAAAAAAAA\n",
       "AAAAAAAAAAAAAAAAAAAAAAAAAAAAAAAAAAAAAAAAAAAv3aB7AAAAD3RSTlMAq1RmmUTNIjK7EInv\n",
       "3XZ/CtNrAAAACXBIWXMAAA7EAAAOxAGVKw4bAAAHTElEQVRo3u1aa2wUVRT+dnd2Z3f20SXxB1ht\n",
       "1kD4QaFupCWWRNzQNOADs4LR8Iisj4SEHzIkBMMjdiX+QFOgxCiEHzCIUQkGlqLEiJKKISUQdWMk\n",
       "moaaJRSxCLWJIthG633M4+7MtvuIZJeEm0znnHPPmXPmfnPPPfdugao1V/+PuNvKaNf7Y1X07ruz\n",
       "BkutqneZ/vHE78JVYovEqurem+NwRSkztTpwuejNHa9hkAbHdk55WaNUY5UjucThaqf0qurAJSXp\n",
       "Ta3lSfUXEDhL7kqqyoH4NAbX6zQxdlUHLj+d2htqGS3/v2T6kwtStXOAJ8HgoqgFY9WBC6vJrbum\n",
       "V6xb5BolRKjqoZxlcNFqozqLPvE6m9xStQxXYJhcBDJMr3ooL/HK8Jv+/nPVgivU338hU8tw1ZFl\n",
       "Ygctyp4g1+GLH50Q8pCNLdCcGofboETH4Qo9QFA4yuFaCOypFlxSGgGtluEiUG36Xv+2kYg0SFmr\n",
       "z8YWaE6NzEx4hsfhCjRRYQ6Hay3kaNmvkRAZd1m1XU6Ai3heW55jqXLH5SxZBvF7/YkWRhDMPKpn\n",
       "xGVVHDa2UHXg0PDHFsHVVZgrVOiICjM5XAEtmCz7ffRnRE4OkBFrqWzA6Yq5B5+WuZjw29I/P6kv\n",
       "13Eln+M+Q3CaDB4kus4e0BdbzionJo2bHnQDoSn4FqGcMkfkDh29d7wHcAVjonO43LkKKg0Ol3cV\n",
       "5N4i6de5P88IcDWVW2nocEWy8CWU6G2Da7m17TLhAhs6/5CZ3igrYaKEaI61+fIj2JHefl3kElg0\n",
       "/lhRBZ1eoR9CpeZVCtcscj3GN7tltNUCXD5PriK4XAkEUlLytsHl41PGP2oI2AK2UlU0uE14KFuX\n",
       "lG+N/xhmkJdaUrjGx83kbqAjPW4mYuowBpvB1U3Hb2jBgLEQCKTVbEIGFwv0UYTJxz7w2gKUat4t\n",
       "wBWcTl7n+Sj0eeK9yA+m8j8xUajDFYphRTpcQtxiZEU9Wd36TjRyw+jaCxxM3ocgGFwKDNaj0VHQ\n",
       "CuQxU6Nt+8VIa5pJEIhiJ4dLM7i5FC7FCZWp0PzwEM3NrTpcm0mIEXWKTy85BVJ4a5uQweWiiewL\n",
       "rAeuuLpeRKnm0wS45K/Im+VG/D164VqndTqrWVGow9VxaSBOHReLW4ysqCeh280XL59Zt5Ey+sG3\n",
       "nsRiDteRlMkimIVCcyaVmYSgcWBFPBSNRLlYinr/YHAxTc7hS5sxI0wFpeVr9PKtBIPLReaiB3v9\n",
       "kFlBz8jFA/mJhgntcIXoKvQClgLxQC6NDVpp5ksFuDCZQPZeNtLFfW+chUFvU3v+KFKhHa5HcDBD\n",
       "H1Qsbh6Z0Yp4Yt365GN3ad/fRq7eBrw/5G6LcbjCfSaLbeS1+8kVpgj/AJ2wNDb+grq0lGESKPUD\n",
       "N/nsoiac8/dxdcuYEqaCfDiFEcKfz/sBhdht6TPJHsW+H7jpXLtCxNp/Ew/Q7aQK/yytNPM3RbjY\n",
       "LM24crrvejSEcMRmS4R2uO6Be5g5Lhp3nZggi3ii3XpRZ6+vwybobO2aYWFM0Xc7s6Gl0YBOhGOG\n",
       "JJjicHETyrHPfIbjAaaCK+clc17OinD5e2SgzyRVIyuI/c1Tmxd/JsAVSHi1cJwNfydUhLXSzKfZ\n",
       "4QonQ2nd93mckWHPUkToaX8oI8J1CsEe5rhY3DQyz/zZ7Y3pEjzR7uYljVYyzD9hFeCyjmLW4VXQ\n",
       "Jc2xwzWpMyQ5dPi55Dg+jnG4ggYnJ2RVVDeaqRBKS4k0O2M24docTEnstQ/pZCBJSCVj/GHCpq5Q\n",
       "slEsNXrn/kp2+2HIPcfJToXCVYr5kAOu9ErdN37yktnxDvKMqdA9iKwAlzwCV/a5cOG4LUslwyIj\n",
       "xqfdGSqayJPe3dRFK5iIo2DdJcKlmN3y7q2Pk5XQWWpYGsNkfrVKXPIzmdUcrsMGt2HrG5qgbi3Z\n",
       "hkIHwlvS7IcLEy7p8smr7EU6Y5xcSEl/LzpV+ocLA+kPMF8s5Nc1TNJUBFQ8tXxIY3CVYr7LDpe7\n",
       "7V3dN6a1pujJVJ4xE06WUwJcg6Oa/5UccVwobv8p3VIlFItst5KSYlQ+kSe925VeT904asyDxugf\n",
       "H81Zpx4IjY0NCyc1znMReKNYhbVXuWQqXVs3rTnJTRj33diYqJ53+sMUnkbkGB8124//NE3w4iqo\n",
       "5QwSpjCMRmTj4qkGniGfhbHvZcmwuLnSZYfrQ7yt+1bUQByfR5BnzITZSIsmJMP8DbctbreV//kt\n",
       "686EPZSb0BPvDuPSMgscoQ4pc4P4fx+LqQ64tp+LwcsXoDVjWYOk48Kp/biMBjUPro77SRff2Piv\n",
       "daMUc0m1w9XgTem+Xbln4Rv7B3nGVKhE3cdgh0t3bI8by0wFTinRSNJ1hXITeuLd+9EYN59cY835\n",
       "rzWeQqRnvDND+M6zT7oc8xbY4Vrym6HnnZdxGptCB1yFHSNegOLchJ6sbniSdwhcJTbVsQEvuZnK\n",
       "vkr+z1Cu3HEZTalJtK5fiP8H3Gacx/Hl8iUAAAAASUVORK5CYII=\n",
       "\" style=\"display:inline;vertical-align:middle;\" /></a><br>"
      ],
      "text/plain": [
       "<IPython.core.display.HTML object>"
      ]
     },
     "metadata": {},
     "output_type": "display_data"
    }
   ],
   "source": [
    "general_nested_forall_Pxy_if_Qx = Forall(x_1_to_m, \n",
    "                                         Forall(y_1_to_n, P__x_1_to_m_y_1_to_n,\n",
    "                                                conditions=R__x_1_to_m_y_1_to_n),\n",
    "                                         conditions=Q__x_1_to_m)"
   ]
  },
  {
   "cell_type": "code",
   "execution_count": 7,
   "metadata": {},
   "outputs": [
    {
     "data": {
      "text/html": [
       "<strong id=\"general_bundled_forall_Pxy_if_Qx\">general_bundled_forall_Pxy_if_Qx:</strong> <a class=\"ProveItLink\" href=\"../__pv_it/common/912bfa96818750d667efbd1eb97d22447b571e5d0/common_expr.ipynb\"><img src=\"data:image/png;base64,iVBORw0KGgoAAAANSUhEUgAAAywAAAAYBAMAAADqo2SIAAAAMFBMVEX///8AAAAAAAAAAAAAAAAA\n",
       "AAAAAAAAAAAAAAAAAAAAAAAAAAAAAAAAAAAAAAAAAAAv3aB7AAAAD3RSTlMAq1RmmUTNIjK7EInv\n",
       "3XZ/CtNrAAAACXBIWXMAAA7EAAAOxAGVKw4bAAAG1ElEQVRo3u1Za2wUVRT+dvYxs7OPLtE/UG3W\n",
       "wA9jATemVSERVisUH2AFo+ERu4oJiT90TAgGJHQl/kCtUGJQwg+ZCkEQA4UYYkTJij8gELEhkpAm\n",
       "NVNbVITUJoqtbbSee+8891G6JLUk7E125pwz37n3m3vuuY9ZoFIKinxLN3/Tlp8mt/mgASSYML0S\n",
       "CuDy6PapL+kkSB2TzKQXWMDuaypBofIXED5D932TTSSk4002mbVVYgIo/1Ki0A8Nk83En2aRQSRZ\n",
       "CQoQH6LfCAm5SadyBv4UJU0lJlTCA/Sj0EiZSaeyGviuu/tsJSZUqmgq30aboABb8Q/17D/umkPy\n",
       "1MKi9k9796jX0pdCu6uGBqiJsSpww48Ai4BdlZiAh+SN82zBpfkD6XhNoNN5lqcWlgB6jMUeS0TK\n",
       "Yb6jdsyEf2CMCjzw+4HXICcm8m3TbkXSynE1bty1nDXFvP9efbye3WOUFn7NP+xLOWuwVy1SHsB8\n",
       "/TaPZTPFcaqzn0guhm+snZUHPpOmUz3SNJFhMbnET/RRv9aX5RoQt+V/fl5drusNDJzdphql7lAQ\n",
       "YCvMHnOZEap6fIpeqo4sFuZZ9KiBc3YNKslR4+CRaaUqEHArcWkUGhO74ouwBNdAPjX27FrkuCvO\n",
       "dfFOhNLqxKX0SvvYYoeFrpSqSr89cTE1gLEmsnP5hmZdGXJqCA5jWzaNxSX9GdySV9EvM+9/CMss\n",
       "+j2GQJl5+TK/+tIIZwITl9IhngPKiKnG+NrerKk6JDsMTK1qkodKD6FBfOq1LEQ859RA6XYV19CS\n",
       "LVUBh5uF9dZR9vL9jX3W3O0SneIxBnvgM8XnEygcxh4jDwt/n/mI0dDv29SI8bYk9jbRJFZlY+WS\n",
       "dLFw8S32WBzb4tesjTIlxoGmOxAB71QVlurX6TXUIvMPgXb4cuhA3YP9id6dwgfbEU6IsLCwk7wd\n",
       "c1lYCidCG+5v2NrH5Dn020js4trUkLkBdImuZdFjPFSlt5oVGsNKwenLa+Rh8bEp9iusA37xtb2I\n",
       "8bY0g19bemnzuK5cki4WDt+iJCW+uISsfVKE+uPed57EUhGWwxlbRaSTqyqb7/jF0qShvblgUq3/\n",
       "Ft+gR5jxMJpTIrAMGUgE/6Db10WcHfieVakoG1hPsC6jvPLjIwUy3yhzcWmfd87gRrtsmIXLWM+i\n",
       "Ln/cGW/LB3OjNyxRtkq8gOVAKmxkhe84WlrOrw/hQAcTyyPJWQg04xucvaAUySC7B3b/bW78FOrJ\n",
       "vf1SQ1KEJdZlq3hP5yp+gHmJsYh261CXGDPug3wogyHWpxzUfuIpTWRLN8un6r5BqrtLaI4zFyz4\n",
       "hp9RxZ5esGmSz+YuW8yp+XvsQbdSjRplFu9aX4fPKAAzY15YaHepDOIudmrTYPpev6W3+fV2SAPc\n",
       "tTySjIWJJr5RHC5FUsnbuF50NuWsU+9xQrnLo9ooe1ryGZSB523QMbMGAYhQTrDxKBXOYja8hq/2\n",
       "sr2kKTkZ6LJFLX9qYsa66XVLv+DaBZxGjNcea4pmC8DMWLes1hWWcDqox1K8m1uhmb7Xb0lMYicR\n",
       "yXHX8kgyFiaa+MpoLUVSSnuf1HnD4nzmX4vX3ap9ErSlaJYSdCDLQZGMetKsIcL7/LMk5LSsueDO\n",
       "WdOCn8ajlPAB64i0MZIJ8Dc+aIrhJhLVDuvCjbPbok21DIKLwQHWtfQolm3mYAdqGme3xdxL/qm5\n",
       "v66mroCcO0bnBBaWcbSEfmaTh+HrfC5WnKTj6HW1qHXZfLGjFMm4kfdxTHOHRbWfyju3PO5SnaXW\n",
       "llooX/xtaQ6KGb4OMywM8COlLNZveUt3wZ11zoTLA7h4N8Hsg9ulE7/xd2hNCnERE5VTaNXYRRjD\n",
       "2X14hNkxY06Gda1yElLDBxxMooBqptGXXefeIK+tmaJr7IWXrOzXeVjG0RI+ZPVeHtGVVwxyLUbS\n",
       "adfralHrsvkGsqVIhvP2dKo1qcnHRgz7IwDlwujogEst8jHiaYQ0uUbnIGneArMGDpjOFsLvR0fz\n",
       "vl3Y3xk4PJjAlRR7bU9hGS+2MhHdsETYxhhq0UleSVULp3jXSvgE7wuw5GQ+N8bQu8J9ysczNCbM\n",
       "86GYxK7fEusfyXu0LCAplSApWAg05/tlvBTJA/ndtGmS/2HwDpOtZ5MIiln/1dFOS2RdIqR2XEKN\n",
       "RprPeBbKVTpUrEBNMMPBWGFXI4ztqE15wtJyJ9UijizcdxwtBTRXvY1FSTrPva4mC4FmfEOj/5Qi\n",
       "2Xjzf0b1FxP9eZDgPHPoprDsCiwRKDC6wxK6wAd4OS3Vu+st7uo897q6WHj4FiHpb8ItWLT8E/H4\n",
       "i37jrmUU9SbstP8A0syUTIEJVGMAAAAASUVORK5CYII=\n",
       "\" style=\"display:inline;vertical-align:middle;\" /></a><br>"
      ],
      "text/plain": [
       "<IPython.core.display.HTML object>"
      ]
     },
     "metadata": {},
     "output_type": "display_data"
    }
   ],
   "source": [
    "general_bundled_forall_Pxy_if_Qx = Forall((x_1_to_m, y_1_to_n), \n",
    "                                          P__x_1_to_m_y_1_to_n,\n",
    "                                          conditions=[Q__x_1_to_m, R__x_1_to_m_y_1_to_n])"
   ]
  },
  {
   "cell_type": "code",
   "execution_count": 8,
   "metadata": {},
   "outputs": [
    {
     "data": {
      "text/html": [
       "<strong id=\"general_forall__Py_not_T\">general_forall__Py_not_T:</strong> <a class=\"ProveItLink\" href=\"../__pv_it/common/72f056882b13a6da2c6b7e84c192b28f524d86000/common_expr.ipynb\"><img src=\"data:image/png;base64,iVBORw0KGgoAAAANSUhEUgAAATkAAAAWCAMAAACMshuUAAAAPFBMVEX///8AAAAAAAAAAAAAAAAA\n",
       "AAAAAAAAAAAAAAAAAAAAAAAAAAAAAAAAAAAAAAAAAAAAAAAAAAAAAAAAAAAo1xBWAAAAE3RSTlMA\n",
       "q1RmmUTNIjK7EInv3Xbn9enzK1aD6QAAAAlwSFlzAAAOxAAADsQBlSsOGwAAA5FJREFUWMPdWOfS\n",
       "2yoQpYpO7g3v/66hiI6w/M3IzoQfsryHRcvZQgHgo439EPuSSX+PpRb9DHuyUbuWE/lCBZb/CD9t\n",
       "JFInScI5AaE4Gusy9gV3LufNRUOiaRrMKoRm/Hg6COVRXl16FVrO2MfbsYouwSe/216F56Bj4mkL\n",
       "SXEud8kK5OyEfb5hsgg5CHbMRZXMuHq8zuiaII6fv2rCvtD0HHSCbZmLKvj09uPpguoXhMu/fMK+\n",
       "ka5TwFMI9sxFFR0Ln368QpP6BSe6pC2YtDFrJVyWyR14q85eDaAmyarmd8xFFRL9LuTnPJsYY8qg\n",
       "AVMAhbTFbqW/Be+0ywHwMayiv/7Lq+gVc1GFwfx4tlWerINKKUxHjCNvetgp+ZCUeEjgBpRKQfi2\n",
       "p9vRB070jZDrmUsqIdwUfb4O07HMjZi3Qwfz/INba4ZcqyCJ0fF2stYBRk4HeygBr5hLKkH0gQpd\n",
       "mXPHFUZd2CjFdQNN1BTQ+d7M8fePC3X0Xq5vhFzP3KlyAGzPYwXsjhXXwvWhZNuxZCt36gojgVMb\n",
       "rZqZKyCWP2OuDkCwD+oSWfVTsc79/7ueFi6z1ZxbubSpkxZ4r3A9rEgL4Xrp2ncUtpQ5eoUJmB9l\n",
       "OrWeNaC32fTgPk37ASSm2i9JOocWFq/PFOMKkVSYTuYwGcy1IhwoinYRUmTJrhpW7YulLfvwcJcY\n",
       "gSGncMOcrKndgIAb2YLzy0qUB2DSBpGT834pfJiA18xlFZgjH3oB9PUZmYb3U6iDEVvnnh2v1rZE\n",
       "BQnHfbvG/F5LWeJYG3OmmNKA2bMFNHm65aUR5U51gGBlrW6G3gg5QNv9shljKAh0oLFl7hT6L77I\n",
       "2bMjJhSvrj7MpjI1mDr64oPamSSQeVIYm8DL04scBwhzJASkjzKzutDZ39CZxQRojKvEnFSdEAia\n",
       "hatH7ohCxpp7J+seC9OSGvXMqWbOCWSCc55uqG6dfNQ0gIvWIr64bTju+GK+oEAEi6Myx+N3ijCd\n",
       "NqKQa9Y/2o4++dlqmyM291gRMzalfDhgHE7Zc+E5vVpA7ULrwBdL1zBAPJZahReXRPhWyE3FXHrz\n",
       "BQZNtqJGqCSwWThnRNMxLBSYzr6Tm4usiCE8L0K23rxuwO3V5WaAyZ/mTsjNIeALJw3Bwq1Ol05h\n",
       "+ll4eD+bLJzKZ9MxHKmRWl24sc1M2S0WHrgS7lng76uk5cP2wYqvhFOdWnX8p9sfVikhsOIvr7kA\n",
       "AAAASUVORK5CYII=\n",
       "\" style=\"display:inline;vertical-align:middle;\" /></a><br>"
      ],
      "text/plain": [
       "<IPython.core.display.HTML object>"
      ]
     },
     "metadata": {},
     "output_type": "display_data"
    }
   ],
   "source": [
    "general_forall__Py_not_T = Forall(y_1_to_n, NotEquals(P__y_1_to_n, TRUE))"
   ]
  },
  {
   "cell_type": "code",
   "execution_count": 9,
   "metadata": {},
   "outputs": [
    {
     "data": {
      "text/html": [
       "<strong id=\"general_forall__Py_not_T__st_Qy\">general_forall__Py_not_T__st_Qy:</strong> <a class=\"ProveItLink\" href=\"../__pv_it/common/053913af2b0772124d1853e6d0c1d7b5492e052f0/common_expr.ipynb\"><img src=\"data:image/png;base64,iVBORw0KGgoAAAANSUhEUgAAAbcAAAAXCAMAAAC/IvGDAAAAPFBMVEX///8AAAAAAAAAAAAAAAAA\n",
       "AAAAAAAAAAAAAAAAAAAAAAAAAAAAAAAAAAAAAAAAAAAAAAAAAAAAAAAAAAAo1xBWAAAAE3RSTlMA\n",
       "q1RmmUTNIjK7EInv3Xbn9enzK1aD6QAAAAlwSFlzAAAOxAAADsQBlSsOGwAABHdJREFUaN7tWdl2\n",
       "wygMNfvOLPz/vw672eyQtmnmZIYHN5UAYV1JSPJx/IcG+yLvTUf6d530fcPCr/FeOYhd07F8sATU\n",
       "/yH6bNigyhAJ5wQAgja6Kbw3GNNS61w0EJpmgLIEk8Knn+2AktafLv0UWs68Xx905VmCT1Zn+yW8\n",
       "OBwTn+1uuBo2d0kH0NmJ9/sD4YW7geMOt7ik4K3gZ+Omz9DkeP6rJt47DjY7nGC3uMUlKNsa/WzY\n",
       "4Pl+wpW/fOK9I1BOzk7AcY9bXKLjhafVZ+OGz/dzoguXlSdtjJcSLK/HO+bW/Xq1gZooq0yjwy0u\n",
       "wdHqhHyl0m784BXZkL2z6oQXUwYOPHXAEDCRW215y9wZlxsgOmSOf/xZMscr3OISBsrjZWNIeayy\n",
       "Fie8EPklQzlRsg4opVrBicehV1yojPxpJRpCZ8OUSgHwtJW3uw+I6A1363FLS4KrKfJruJF4LqbZ\n",
       "t8LOg3J2ivqajNfbyPNa0EE5/sGtNUOUO5k4esbTYfLcYER0OA9ZRqcOt7QkkF57M7e4wfzKWHTV\n",
       "46urohM3R68wJS4URjFbgRMwlen8bOb487Z07t7T9Ya79bjlJfRANrdQQNdCuSauGzBXExvc6hvH\n",
       "QG9+QOxy5lTV1DjJnbqKoTggavWxxK0ykfwabucGGHmHxqMh5/vtr7/PzshlnDT5JZN5Snt4m+B6\n",
       "yIMWxHXCdDmxwQ0Ua1d+IqPfF7ueCcdgI2y93iYfLzwByqMq83TbhukPb3rmfYDsN5CIaJ8I6eJW\n",
       "SDzun4x5SVrCdDoOk+G4VoTmSV1diQTa27B2rr7DrdYb1Msk4vti13KJuMq26ZwRFh4OR3KowU2e\n",
       "QbVhHtzIljn/WJHKBkzaQHJyrlBWBrfCrSwBxeuBJwB/L0PToJ6JOhzi1rTyxHvcUAlX3t4g+Amx\n",
       "K7l8xI2bfKs6J+ya57MkZbFjrb+ZeqKGWcyrMk1Rdv3RkMqkc4Nw1vNWM2TD3Q7SVudmNORA0AHE\n",
       "VoGZ6CU+CFt5IsIE9Q32RonCvw/xmxvUaPd7YldyZ7M1NzdSw1O0v3Rgq8fEZH5vxibmZYUqxw3C\n",
       "q2J8JKGsu0m3Pkwws3gBEo07KVCqjngIUoirR5kIQ8wyV3mJZkhanktdsy/2ObnW7vRve15QqtSw\n",
       "x001Gk9MJjjn6RvQVo9JTRvEjIzDhFvf06Y7ljC3wSFGgp4K5FFOJabOSiRyzfpHO9GHXUav6gCG\n",
       "gQ11K2saqDtin5O76MyKm85M5BmbQm5oplCnbE56smlVpnZhdMwHadOwQWw/WpWU33+GQVvuNqUQ\n",
       "0h9foKMJWLAhKpkbSKsvB+3EkCYgIi/7JaG0TK+T6uNNsU/IlYvsSN58qIo8iOYMqCJzy9zpua02\n",
       "mKzJ7LjbbID+wiTBYLnVqQAKSihE6q3MFOJ0bTYTQxMEKnTd5/KRAuQTYrYt9hm5eOVb7EbPbAuD\n",
       "F3RS+4Py55ekpMX2joquiNMNsZp4idtBa0bkvWlT7BNyETn+Hz8w2E5d+oNDfrxG/wHucC3cQpH+\n",
       "vwAAAABJRU5ErkJggg==\n",
       "\" style=\"display:inline;vertical-align:middle;\" /></a><br>"
      ],
      "text/plain": [
       "<IPython.core.display.HTML object>"
      ]
     },
     "metadata": {},
     "output_type": "display_data"
    }
   ],
   "source": [
    "general_forall__Py_not_T__st_Qy = Forall(y_1_to_n, NotEquals(P__y_1_to_n, TRUE),\n",
    "                                        conditions = [Q__y_1_to_n])"
   ]
  },
  {
   "cell_type": "code",
   "execution_count": 10,
   "metadata": {},
   "outputs": [
    {
     "data": {
      "text/html": [
       "<strong id=\"general_forall_st_Qx__Px_implies_Rx\">general_forall_st_Qx__Px_implies_Rx:</strong> <a class=\"ProveItLink\" href=\"../__pv_it/common/cc60a283b1908da18d7b0b6819909039df3bd0eb0/common_expr.ipynb\"><img src=\"data:image/png;base64,iVBORw0KGgoAAAANSUhEUgAAAlMAAAAYBAMAAAAsb2VdAAAAMFBMVEX///8AAAAAAAAAAAAAAAAA\n",
       "AAAAAAAAAAAAAAAAAAAAAAAAAAAAAAAAAAAAAAAAAAAv3aB7AAAAD3RSTlMAq1RmmUTNIjK7EInv\n",
       "3XZ/CtNrAAAACXBIWXMAAA7EAAAOxAGVKw4bAAAFgElEQVRYw+VYXWgcVRQ+O7O7Mzv7ky2+mKph\n",
       "RRFpiC6lUahgF2Kb+JMaqi/9wcYfKIiQEUqktrVRfKiaxvgg0Tw0U9oHa0E3LdSHaFgKErHYLqIg\n",
       "geCWRmsVtynY/BjIeu+d+7s7SXa7yxb1wJ093517vjP3zD3n3lmAWyX2Cqg6rsrvr25tw62TWGJ5\n",
       "VLE8V4mvm2LHLY7BPfUPVTNqVwsfNL7kMFRN3JNenSMLjR8nasSO22YM9tQ9UlY3vs4ChL7lqAp5\n",
       "2auzYRCM67ViR+1N9GMM1j1UfrwOzCUAbYmhamSDV+f7OYARu0bsqAVRAoQTdQ9VhKzsedQWGaqK\n",
       "zuFqiKvX+gB67Bqxo6ajkAfrX6ruI7OaQW2eoWokKBaOyVOkB4GFWrHj9t3U1Pn6h+pJWkxIlhD0\n",
       "2aVPxqTVXQQ9RB4Rjov+R5iCwnQwTtmt/Nr3TkulUoVlsOPWATBc/1C9SIvJ/u8ZSsWa/FkxoAh6\n",
       "iDxCJ5W7cwrLzym3L7CQH+1g7H64lOuUSqUKy2DH7VUw4pXWZBloFZzOYlwjEbp2x1grQ7qt/+0T\n",
       "aVQEPUQZoWXk5HZXQ3gOjg0zXw/DJuc2MaQIlsGOW8gJd1UYqhCd+Pg0ClNrJZYppnyNLyMSMsGP\n",
       "V8ZxurG70Bpb4yxHRQ0omJEPIq+QCQXR5BaZrz7Ygu88RIe48NTo2rLZcdNyFVd1N1SBPWBMgFXR\n",
       "ktyphGpWQRFUtcw8TzoM/bBSEuIRVALyqur9wj1WxcG6ztnhAmoDf/JBF8iL6yybnXjofvTmQtWC\n",
       "2uPgr2hJBh0pAc1FJR1325YDGg8Nhg1dxvzyZMSApkhW1KopeqDenQTtL84emINP3WcGDm/Aob5y\n",
       "2YmH0/gwmm+fZjVHUoUonSRUZBKbIFqGcWz6jXa6l7BN5SjuvgECney6E8LuE1nAoO4gL1bpNBwx\n",
       "om1gGpcW6RC9nf4+7UB4CaUaZrc+9GUg7YbK4XAjDlVphlte7MTDAZRCMbsxSGchqdJklU4SKh/O\n",
       "5S+hd3VjuOIbfIG+H1asRvES4wUGoQfffQq2uaH6vJtDCGcJJBdrVlbcEcd3JSP4QJ7mzgxaY4yL\n",
       "6NC4FEgQdm3+RAarLa4xg/CVIFVdlLATDz4UeB2OmmCQ/YKo26bVvCKdaqgi2PZ5/A5XM4ZkKEcX\n",
       "eoC9/SPI+chCTqATea0t4YYqOskhHHEIhCiO8Q9MmXLYiNd/hQYEosJjiLoaGzsDsOWyy25tzd27\n",
       "nhYNZMygOelyEVLhYtKDXfIwB/DWJFcz1kzRypgrrlURtJWac3B3OcYNdvFROqoUCYFISVgnlsiw\n",
       "AvkokTVNsAtdD4p7RsloyVeLarzPUSCTdR7swoOZQS4muWqbmaLNE3VueKZZClUoFXCiSXinDGPo\n",
       "B1vfvD4tJaCeUhZtSgmVyKa98JoMmYSF+g08htZ724pnpJQSKmFspAxb5mKS9mDnHg6Eu/1ktqeo\n",
       "GupCqpVmF9L5wGBULusTG39D5+Cot7EwtdJG5iyktKuAohDjO/CQ8nBDcqgsPsj46PATEhRfHWK2\n",
       "M/DT/av9NTKkhEoY7zv8tiNBXtZzpezCg/+X8d/JbPsTrtqBVXMC+m18cTt9fb3yYWFv0xrHhpDt\n",
       "aWyeo6Y20rbuzDtwO663Ib49nlSejiHj7GJOOtNHCoUZCXKRjjxx+CMp0XoK97W/Z1w2vlgoyLD0\n",
       "m0KwF3vAOUQ/CpwcU4F3RuHyDvm0Ds+i+AfS3saaKCzuTzbW6kgBMpRHNHJVfVFeWfl2DdiLPAyc\n",
       "T0DALXI9hSxTcXBd7Rg0J5VQHboL3Wj3NIYdnNbVrLh2hg/+T4jupere34AQ/JGsIc9xSQ8N9C74\n",
       "n4lRcnQu9x/1f/Os/wH8JN7YWPL1OAAAAABJRU5ErkJggg==\n",
       "\" style=\"display:inline;vertical-align:middle;\" /></a><br>"
      ],
      "text/plain": [
       "<IPython.core.display.HTML object>"
      ]
     },
     "metadata": {},
     "output_type": "display_data"
    }
   ],
   "source": [
    "general_forall_st_Qx__Px_implies_Rx = Forall(x_1_to_n, Implies(P__x_1_to_n, R__x_1_to_n),\n",
    "                                             conditions=[Q__x_1_to_n])"
   ]
  },
  {
   "cell_type": "code",
   "execution_count": 11,
   "metadata": {},
   "outputs": [
    {
     "data": {
      "text/html": [
       "<strong id=\"general_exists_Px\">general_exists_Px:</strong> <a class=\"ProveItLink\" href=\"../__pv_it/common/46024856e86567c2809f78e878e4b8a37cd160490/common_expr.ipynb\"><img src=\"data:image/png;base64,iVBORw0KGgoAAAANSUhEUgAAAQEAAAAWBAMAAAAyZjRZAAAAMFBMVEX///8AAAAAAAAAAAAAAAAA\n",
       "AAAAAAAAAAAAAAAAAAAAAAAAAAAAAAAAAAAAAAAAAAAv3aB7AAAAD3RSTlMAmd3vRHZUIqu7zWYy\n",
       "iRBbpgkXAAAACXBIWXMAAA7EAAAOxAGVKw4bAAACtklEQVRIx8VWTWgTQRT+NunuNu5mE7XiISg1\n",
       "B08iPUi9iASK3tQUSWsFsRS8iD9REPGgBKSgoJCDogex8eJFkBWK59LiTTQnkUpkPfRQqjSIHiyN\n",
       "8c3Ozv5k00B2Dz6Y3e+9mTfz7Zv3ZhaIKeX/6G2LPB3L/Ri1Hfl8/lC/jlPtp/dfWAxdjvkBJn9P\n",
       "9O25AaSO0tuoxYzh64gM9N+AQg2SGZPBm4gM5E1qLQLJuHmUtKIxSDWpEQtcjMtgmxmNQaYKfCwS\n",
       "2ENt5cz3hq8iOtQu4h+RrkRjQKvf3s/AK2pZeVYa9vo61C7iH6HVMEPVONovg/MPG/M2IBpaWfs7\n",
       "aGLNqQquGo171lbOjgMXZSRaDOYEoJNEh0SL6yXnq7gqYes48BFCaUZjsOFjQPnMMkJxV2RqpqBu\n",
       "9iiAogsHRAzk8Ru7RaV50Fd+AaPeEshOhlNlw/IxYKpm9WJgj8i9G/eIT2BysPrS6fZBT4JG+ZdA\n",
       "j4HVwl2k+VQGXBVp0sOpYLkj1sbMJN1LWtVhYKaKC7hlezA4cGEo6Gn3e0XcFOgzcPXDThznDNZr\n",
       "ropFCwbbLGYLAj7izllkaD2pLm6mTBn6DOdMMIn1zhPAd49Kc3/ERi4C30pKbpozSBx0VfU59eZp\n",
       "wkSWwD44gFmcEbMYY9aCmHWJruqEJaBKj6CQURt6W++MasKNjL2hV9yOa7hJttA2+CxHsF0Hrjua\n",
       "OrKMLGNg1DnEI4L4IR62UZlCqMK0bICBy1B99n4v7HwIimdRmzhwCcgJfdeJksUY6KMcSgsMLpX1\n",
       "w+zhGB+o4bv4iZhwuVWE4VZZst2mXFkJH8heGVZwzoRaDYaUQqRw+FV2IVw0LM+HwroaqNmOzmKI\n",
       "QaclFfhN009/Ak7yZG//FJAJR0ZF+RKaUi3GuhonwyazG4z7G9JT/gGM5sSkGCe5jwAAAABJRU5E\n",
       "rkJggg==\n",
       "\" style=\"display:inline;vertical-align:middle;\" /></a><br>"
      ],
      "text/plain": [
       "<IPython.core.display.HTML object>"
      ]
     },
     "metadata": {},
     "output_type": "display_data"
    }
   ],
   "source": [
    "general_exists_Px = Exists(x_1_to_n, P__x_1_to_n)"
   ]
  },
  {
   "cell_type": "code",
   "execution_count": 12,
   "metadata": {},
   "outputs": [
    {
     "data": {
      "text/html": [
       "<strong id=\"general_exists_Px_st_Qx\">general_exists_Px_st_Qx:</strong> <a class=\"ProveItLink\" href=\"../__pv_it/common/b1921585ebb165238ef2d3470ef01b6c7f2cb8190/common_expr.ipynb\"><img src=\"data:image/png;base64,iVBORw0KGgoAAAANSUhEUgAAAYIAAAAXBAMAAAD0CFX+AAAAMFBMVEX///8AAAAAAAAAAAAAAAAA\n",
       "AAAAAAAAAAAAAAAAAAAAAAAAAAAAAAAAAAAAAAAAAAAv3aB7AAAAD3RSTlMAmd3vRHZUIqu7zWYy\n",
       "iRBbpgkXAAAACXBIWXMAAA7EAAAOxAGVKw4bAAAEAElEQVRYw8VWXYgTVxT+ZvIzyWYyG/xhqbYS\n",
       "l6VPRfKg5qEgKQWpiDZbjT9Y6rpF8EUdESkWxKVFUPpDHiz1QTS+2EKhZmFRFNHgoiCoXSgrRVkZ\n",
       "HwQVdRdRFpfVeGbuvTP3Ju5iNtocmMk55+Y7ud/N+blAi8VoIfrdyLqm0OE8MKuzs3Px/77vjdUj\n",
       "h044pESHmgu06V2cw4xkAogvo8+HTcZpc1rEwHxOx08P5jcZKJFqEYPIJD0vSck0G2lZixjEx+gh\n",
       "FtFSs5H+ahGD9iLwD/URjQrZKvx6/aa0dm/Do5Ge6cAK4L8ZMUjJRtR+e2BeKLT7fR+7hVgmFtiQ\n",
       "nyVHjxzQ0tNFUQDn0EvddGmDDIo8mYe7afcDDQA1oWz+ZcTD6XTYZ3DR+QnWOVGbduJVrGyNHHSm\n",
       "isIAXL6d0X/AGIT/gJGF1dfIABLd/zj/DOWACuaRdvkr0aaglVyuU/8PDCD+zSYY9NLzAbRcI8i/\n",
       "g3HgMwCWiHDcScnWnjMmpw6zJFA/5wwi3Xs6RKMLVKn7KU6PgfcLF6Gri4WO7vq6CJy8AM2XfMXN\n",
       "IoTH8URm8KVtOQlnGgYeoP98IeUTX4f1seJJviypgahOj0HMbYT/4ntlMWIfaqvrI5JzC/c8E101\n",
       "D+twLIMhthWLnge5H5Gkz2TaM2uEioMBrIFPkSXHWc6gHM9XsNerHVcNb52jAr11lUHIzek/sQIy\n",
       "OIHfTCzvVjPLczJZwe8CY9xO9iE6eTcT7mEMRulUdt6YjeWkX3I805rgft9iAONeCa/I+5G42bXb\n",
       "MHtZ9ZMawmhtA7dr6yBEjdAcxzYoYIzTnLXGatDjQrnKWtLxF7yvmnTQc/NbTvN00BcBdwvR+UTI\n",
       "OMZMLHT9KfHqdAQglg+7A71LhB6EDd0RqkEvVciZmHN6SGIQT4UdveztSQKbGQO2WXNXcJ39K7cH\n",
       "WRTIJ77mJfQO39yF72TTnz5+jw1VtFQFBu9YRuYWjSnahDXEVBwGHpPlvbgzuhFpuZKzF76mka4H\n",
       "YPry7mSJen48F4CFc2tRd2u6dkf9KgP/rm0cvbZAMn1J+tp+6Fcq0MrcnLuq4LibMJcyVaOsH+wx\n",
       "sxi0zaxw/myU5G6668BBx0bc9sGE0NYOfwN8KIGFM1ahmsfvdRckkZ37Tg1TmvtDO1StjklmcOXw\n",
       "tS8QuQ3sVVbdTUSZeidCL7+pcGc6MuDIMxmf0U+IIeVlEUMknbwE5pqOTathFevuOIonUtPEprmX\n",
       "cFGOxFxD3Xo16xXVp9R1/ZRjTqsvelu5VWD/D/SVjgDMEaeqaQnMtfvYXoZWPyv2NHdLrw9Ylpvg\n",
       "G5wKg7Yu78TfgJBUydnQHeq9il07ZN5WnPewmde3wSjPxZU+5AAAAABJRU5ErkJggg==\n",
       "\" style=\"display:inline;vertical-align:middle;\" /></a><br>"
      ],
      "text/plain": [
       "<IPython.core.display.HTML object>"
      ]
     },
     "metadata": {},
     "output_type": "display_data"
    }
   ],
   "source": [
    "general_exists_Px_st_Qx = Exists(x_1_to_n, P__x_1_to_n,\n",
    "                                 conditions=[Q__x_1_to_n])"
   ]
  },
  {
   "cell_type": "code",
   "execution_count": 13,
   "metadata": {},
   "outputs": [
    {
     "data": {
      "text/html": [
       "<strong id=\"general_exists_in_A_Px_st_Qx\">general_exists_in_A_Px_st_Qx:</strong> <a class=\"ProveItLink\" href=\"../__pv_it/common/0d8c076ab6ebbaf2e82e3e963510432bd519bfc10/common_expr.ipynb\"><img src=\"data:image/png;base64,iVBORw0KGgoAAAANSUhEUgAAAZoAAAAXBAMAAADAcZTiAAAAMFBMVEX///8AAAAAAAAAAAAAAAAA\n",
       "AAAAAAAAAAAAAAAAAAAAAAAAAAAAAAAAAAAAAAAAAAAv3aB7AAAAD3RSTlMAmd3vRHZUIqu7zWYy\n",
       "iRBbpgkXAAAACXBIWXMAAA7EAAAOxAGVKw4bAAAELklEQVRYw81Xa2gUVxT+ZrM7s3FnJ1urpCjq\n",
       "GsQ/lrI/qhF8EChIrZqu1dWIaGOK+EsdCSIqYkAE3x1BaRekbouUQsFuICiK4GJQUHzkj6VUIuOP\n",
       "gIqPUHyWaDx37r07s9lsxnUD7oGZe+bce76539xzzr0DVJFoH9F79GVFRd7BJDC2oaHhy4/KYdXg\n",
       "z/t/tUlReyoDWj0a36Ri+R+onU/twwpxxthVwEZ/TstCFyZWCBSJVQGb0ABdb0hJVIo0vwrY1PbT\n",
       "RYzUTKVIf1YBmzoLuEX1SKEiYKSO3Pjb09fX8qi3dSTnAod/PpwNTznEvLYNZfgnpUJMdk1nSZwl\n",
       "RmhJjvUMioX2KvGRUAoczqONKvSsDyBjzOWtxZs1qXpKw6YyABSpfH+4t4u1AVqEs7hoH4RxXua1\n",
       "GXkbzhq9++xSKNxByA/lr43ekmaTjr7wsvnGRLuJ+2VtdnJ3OSnaGoLNYQJpl7+T74KSYbxLrw93\n",
       "kKtcPptPck6zeKaHjUpvUyyMK2t1T7vbTZ4N4MC25QfVUEDWNWkDpWFmuupXgk1o6dZ6WTBd1VNF\n",
       "88ZQVoT9Hx42u4lhpB9x+AIhVb/U5JpIXv2N6GGRhuBLPPGy+dY07Ig9AhvHofNCKpb/CCuwMmz9\n",
       "Lro9qiuu8YGYqlxhh80BFnoJLQNfoJC5f4woUuuE5Zms1EkYx8IJ9PBpsVR50LQHUYYdhzFsHeIO\n",
       "RtccNJLhnGCTrU3msN3JNaYG1w8JGqffkUW8WYxlHjbzWEnqCFrwBYrguC7UheI80i+eox1QB+4l\n",
       "gq0OG4MF4Oabn2IBtZdsPM0IG1PyT9xB68vgLVknyVNnnQm9jVcOUmvwdOimYMoqmE6n6X2Ten+0\n",
       "XTZzWAqaagf8gfBSKld5aTv5WtRqnRZgfHLdGREyDQRyL6VOpJdpv1AcfkG2qSwgY/JGI4RDOBlk\n",
       "B4lpErobJgK2VDW6FQoZI+POUBDcEIHm5IpkcxTNmAHdeg8gPaGhc9FGN9Jc+TyvMTaqW5W3YBuw\n",
       "qSjS3BE1OSWWgyYqn5b4l7ZBmoTRw1UcAx7Tk3MTRnUVS/NaW8RbXavLpn1n3zWqDnEfILq1RzMK\n",
       "1lsBVg+Gzq6zgE3U/Q07cX0yUPy74I7YjcCVHBRRoDB+Scpmk9BncVWhD9/dqjei29QbpfEQS3Pt\n",
       "BAuP2TCmnHLZaJ+1HKFfv598gEhTlt9ei3BuB5zRQw5sMpp3/XWbDjVulR4c7IeRLGLjjvgaoTvA\n",
       "9oJeFiAqV+9SKCF/QBLGeKiLRjxOp71bvjgLBGOEvcQPSGgBrG6GYRUdL6xhTz6yiJY+Gwkp+Dz6\n",
       "MtoBmnmdGfyPJpgPS240OtQ7xZBiBtorylLF9AES2n1szMrBXtla2Z9FMWDWW0yHMZZig9/Ygt31\n",
       "AYp4HLtQhVLwQYzyz+CjKu8ApC8+CxA/XNIAAAAASUVORK5CYII=\n",
       "\" style=\"display:inline;vertical-align:middle;\" /></a><br>"
      ],
      "text/plain": [
       "<IPython.core.display.HTML object>"
      ]
     },
     "metadata": {},
     "output_type": "display_data"
    }
   ],
   "source": [
    "general_exists_in_A_Px_st_Qx = Exists(x_1_to_n, P__x_1_to_n, domain=A,\n",
    "                                      conditions=[Q__x_1_to_n])"
   ]
  },
  {
   "cell_type": "code",
   "execution_count": 14,
   "metadata": {},
   "outputs": [
    {
     "data": {
      "text/html": [
       "<strong id=\"general_exists_Py\">general_exists_Py:</strong> <a class=\"ProveItLink\" href=\"../__pv_it/common/28eb577363fe1ad57af7b017109cd5d065416a100/common_expr.ipynb\"><img src=\"data:image/png;base64,iVBORw0KGgoAAAANSUhEUgAAAPkAAAAWBAMAAADwcyf0AAAAMFBMVEX///8AAAAAAAAAAAAAAAAA\n",
       "AAAAAAAAAAAAAAAAAAAAAAAAAAAAAAAAAAAAAAAAAAAv3aB7AAAAD3RSTlMAmd3vRHZUqxAyIruJ\n",
       "Zs2aKqhdAAAACXBIWXMAAA7EAAAOxAGVKw4bAAADC0lEQVRIx61VT0gUURj/7fzfcXVFgoKwbCmo\n",
       "2x5yISnYi+TFHIsM+kOTIXQw2ot4yMNAmBCRQ6LQyS0IIqIWKqxDugRCB5UV8hBBzbGbEkSa1Pbe\n",
       "mzcza6OCMz14M++97/fe7/u+933vA2I1PcbeIuK2nhh720lvymQyR3e2TZ5ZH5zeQ0dKOQa7XIlm\n",
       "QdoBXlpkcC+W475FY580gBukozkW+2I09ss26dTp2VjsohWJfYZ2ooHixGJvqERiXweSP8g/Qewf\n",
       "boZW8CVadwUj222thacKUdgJs/7e5MqXr6J+xRellCy+bre3Fl7voJdkXG6HqfJzbj5PB4KJpNkE\n",
       "taR94aKJRAtuanOD1laKMzifKNkottd5yot5aGiFaIyf5iuWaKA1AaLD5s2Fe6qsRGFPOwE7pFVM\n",
       "2uj1ZF1Wci2d19e22uvC+dizvb0AHgvSOajhR9EXs3T3XjjieSQcnEHAvg9ytt7amp3BFz+dbaSe\n",
       "dz3UoxmrSZ67w2lrLOSvQMzSPe9dAfFhXQFTLju76ym6gFQL8XGoUQCFax9PoI1GnRsAPfrtFrmk\n",
       "v6HjJ724IPXt2ljJqDiYLqMmZRIF6Tdj1/7Qpd3oIolw38Kow5fYx59RuD7sYNVNWLfKqGXVmDjM\n",
       "jhzCgIjRjVpTsT/ZW33thQ1xnTbU/cu1PUNtG5ndXwS1Q6CnHQD/CI0cwOCqwa5c8Hwo5EUbLvtB\n",
       "HNPxj/OpeLGzP+TLI8wDjsuuuGm2ADzEU+BaCO0CCFy0E40k9B75x9tdoOx3yYkSSYRX0Mpk4n2o\n",
       "uK8kbFYnFnDLdNlT7GgtB/3tA1J/w8U3BQ5/AWHCrqlRSvM0Yx8zceWzg4SNZA5jxWQb/eSYWLWf\n",
       "hzO/iEPkqvBseZbEK7XCUMsQq9UVEqnhV5Z0Bj8JeZ5Ekx9Kd/COscPUinUVfJCJQoHHmFjApY5Q\n",
       "MpRwvdu7PUqnLHnxKodjngICOFWdtwHJwfhxE5KlGqfQUP0OBFQdTDyC/krowMcxStx5f9R5kT/8\n",
       "kJb4hQVUFV/8v9tf3FXOiZjeY08AAAAASUVORK5CYII=\n",
       "\" style=\"display:inline;vertical-align:middle;\" /></a><br>"
      ],
      "text/plain": [
       "<IPython.core.display.HTML object>"
      ]
     },
     "metadata": {},
     "output_type": "display_data"
    }
   ],
   "source": [
    "general_exists_Py = Exists(y_1_to_n, P__y_1_to_n)"
   ]
  },
  {
   "cell_type": "code",
   "execution_count": 15,
   "metadata": {},
   "outputs": [
    {
     "data": {
      "text/html": [
       "<strong id=\"general_exists_Py_st_Qy\">general_exists_Py_st_Qy:</strong> <a class=\"ProveItLink\" href=\"../__pv_it/common/98af65715eb6c41dec97828dea8ccb9a7b951d070/common_expr.ipynb\"><img src=\"data:image/png;base64,iVBORw0KGgoAAAANSUhEUgAAAXcAAAAXBAMAAAACbRIjAAAAMFBMVEX///8AAAAAAAAAAAAAAAAA\n",
       "AAAAAAAAAAAAAAAAAAAAAAAAAAAAAAAAAAAAAAAAAAAv3aB7AAAAD3RSTlMAmd3vRHZUqxAyIruJ\n",
       "Zs2aKqhdAAAACXBIWXMAAA7EAAAOxAGVKw4bAAAEM0lEQVRYw8VWXWgcVRT+5mfnbzc/lII/JbqG\n",
       "Cvq2DzZgUFgfqoFSM7E0olXcRkr7UHERQhD7cEFiQMQuhgbEh24FQVTaBZWqYLsoKT60ZQOpKIKd\n",
       "N0UoCQUxbdH13J+ZnckkNcmoe+DO3J3znbPfnHvOmQN0U7wMtnV0WcYz2O6mtW1wcPCh/5Vx7vyt\n",
       "qXN38p3VzOKmlT0AW5C+APiU0ebtTG5+7Qr5kz7wMi0MZHKz0BXyL9Ro8YwpZXJjsG6QP88XvYAV\n",
       "ZHLT2+oG+VuA+zvdNYr+9ACcaqRxxlqYuZ1pHF6oboF8f/yHtfF266s7Efe+qajQNV9Ez3IEKVgl\n",
       "XL2djzi8J8AEtcqhTZFvqFY1P0bEFzdup4U97o+Ll8p8o1fgVrbBbjg/K9WcVsRrzsUpto4LCQ/j\n",
       "VtpC5KWx+Ru84fiR/6OYqqvnw9AZZTjYBcM/8ZR6wgwfuzTQK6wtEh6+yfKWyU/Q2gGtvPnG3Bd0\n",
       "yMNcwcmacCZklLk3+srejXUDIOBqH0Z+dxUqhubTsNOf4kgdkhf+r0JPGCRgSPm7oNp8+F2ltIEW\n",
       "YB865O9BrtTD1icv4As/7ud1Z8nzGXf8FVc13ek+Nps6rY46JG/z8H2L03GDJAwpfwdVmw9PK08J\n",
       "kK/irCQv8vwsf4BCkRIkJRzA4c7ioxjmBStTYNx7o5hreF/w/YcTOGAe2p4c/rg6Sd7g4fsFe6QB\n",
       "PmYh7PGxZCYJtZQ98raEWK/TquafgrzzF390B0apBb3DcDxQj8Ql+sXh3nSAFdlp5WBmN21/7gHh\n",
       "8hgmDRxPvjRXryJP/+HexGFp4E6wEFZylpO2pFa798R1R/vzsOLo3J1jYzdl5Ae5i5n5e+vgUdQ5\n",
       "mfugLnq/Agi47Yt018Mo6WWjBkl+Jx72sCpzuHph79EY+Xy/yfSW4EMG0FkIq6/OHFL3bP++2Umb\n",
       "jjwo4h9I8pbsj5eBU/gIOJJKGwkguFHT+qlq34/Y1UbByb9FHk0K3WdwmvQjvHD1oYYeL9jhH565\n",
       "Bl6wwoDIKxjy5Zit9GcdAC+u/WuMVpfxekWSLwhmzhC8L9+lgTk9LReg4Gegz9ViY501cE6Qn63g\n",
       "4E8BtBrcIczW3WF+GRJqu3Y63ipPTU6xOvL0neIGRF7BcBditsrfqx6v769W0yHr+ymt8MnSPFU2\n",
       "j6FvN2G028tU/OnRgJaAP4HcJQpfVIVv4mtBHhWnnm/huxy9T+e8hFrH8yPxLyweoz+gD48w4Gkj\n",
       "YQXmx22lv2JukY6mkepiDbwU1Tdna10JO0Vu7fGiAxdxkzJpBjjxSAUms/0n0du+DoxEViNCPYOj\n",
       "rQT5M68Q47vBDdx9F0LYUrsYs5X+nKpFodLSY9AHGca7Z6Pd3ufUsAPzisq2VqRsReoE+d6dPBFZ\n",
       "zCCCRbYxf5sZg/47qac+HRsT9q8z+Rs/4zoNGs5byQAAAABJRU5ErkJggg==\n",
       "\" style=\"display:inline;vertical-align:middle;\" /></a><br>"
      ],
      "text/plain": [
       "<IPython.core.display.HTML object>"
      ]
     },
     "metadata": {},
     "output_type": "display_data"
    }
   ],
   "source": [
    "general_exists_Py_st_Qy = Exists(y_1_to_n, P__y_1_to_n, conditions=[Q__y_1_to_n])"
   ]
  },
  {
   "cell_type": "code",
   "execution_count": 16,
   "metadata": {},
   "outputs": [
    {
     "data": {
      "text/html": [
       "<strong id=\"general_exists_Rz_st_Qz\">general_exists_Rz_st_Qz:</strong> <a class=\"ProveItLink\" href=\"../__pv_it/common/45c4c0c28500946e6f4ebc379f8550bd8983fc2c0/common_expr.ipynb\"><img src=\"data:image/png;base64,iVBORw0KGgoAAAANSUhEUgAAAXIAAAAXBAMAAADkRNlnAAAAMFBMVEX///8AAAAAAAAAAAAAAAAA\n",
       "AAAAAAAAAAAAAAAAAAAAAAAAAAAAAAAAAAAAAAAAAAAv3aB7AAAAD3RSTlMAmd3vRHZUMs0iiWYQ\n",
       "u6vSa1QaAAAACXBIWXMAAA7EAAAOxAGVKw4bAAADoklEQVRYw8VXTWgTQRT+tk12u8naBilopWgM\n",
       "YgV78CCltoIFPYi/udRDRQ0Vf/EQ+qNepEVUKB4a/0DbSqMnqbFUFPUi7KUgLf0RFGlRzE0PKioU\n",
       "f7Ctb3Z3srvJtmwabR7sznuz8818O/PmvRkgjxJbMFJGXsUbWTDUEwaWhkKhjYvK9/3053ca55M5\n",
       "9LJfL/Yt6lSXjEOeoVJpz6GTIjUPzNtopd+TiwsDOXTiD+SB+aEo0EnMC3PqZXMemHcC0jSVx3Pq\n",
       "5XIemBPrq0kqV9AjhaLd5he75SBNFTJ3sf7smQs264TrkJIKaNP1/cv4rL1omEyabexWpigXH/Rz\n",
       "/RkaKSpWZcN8iVE21JfRRqlzjQsYpe8XRt8yZS09PfCpGOZBhllK3xd1zvyjIsH1w9nPucF8ewzX\n",
       "Yhh1j9vB49kG4DdTtCyiJCDVB1OTmqAlFYJzdzKU+qu2hTIXqXthHKVZR2CUJKHMpJjfMPrShayS\n",
       "OvnH3Ek/nFK3Gsylddf5ujd1bMvcGZY6nXkvhTb/V9CYbqE+I9fvHYD4jXuLZwCqyZxZfnUe5juh\n",
       "4OHTeuZ4jQZzoeUO/7psRyADYa3TmX9kXDbI5KFuoaJRrlLhmwL9+GsyjgJJjbkCbsEX1C27sBUT\n",
       "IyhWHtdiE+nPubfIcchv9TZd8BxJ94KudG+pYeuf9IzDNVRrS623qPBPeSJaXJMmX9+NaszH2rmF\n",
       "JlWztJfy06qce9BQIQ+2448WU40TVytwulIPqmHKbmP20aVwOvNatkliIgtiLqGSzryv7z6wnB2Y\n",
       "mmh6cfiC7ucFldxis8AsFLBFWs2VEE16XKyuQ3HYQ3sca1IeRhGn0vClHhnN6f7V4y99Ercwf4ld\n",
       "WK+xcQsV0z2pIGoomp+f4tVXcMtipUTkUaUwKgSikPneuHlsN9jwQ5AvtRCdV6Qpcf5ideIBBC3M\n",
       "r3UPnqV0FnSCmkAr1Bt2PjQZzOM8fLw5U25apvi40ouC01HzuFb+qEMbvjkiDFfHIERJkzahOcZe\n",
       "et0Hud3CXF558BNdTCacoFKVAYxZoUsybkATBtd7v8NQ+H8Vzs5+NS1TBrmyB17yt9u2j2zJ9dCV\n",
       "8HINqbqg97FqzaGewKCZXuxQ0Qk6kkFmxOlw4GBpEnb8a11aayLwaOSKZr8bmkZR05SkeN+W/eUZ\n",
       "oivEHKC0BRygZfPllawvVhkL6J9XszHHeZaAEk7NBhzqsjjh/C+xX7sVtzDlX/P4C3NFBz4FBp42\n",
       "AAAAAElFTkSuQmCC\n",
       "\" style=\"display:inline;vertical-align:middle;\" /></a><br>"
      ],
      "text/plain": [
       "<IPython.core.display.HTML object>"
      ]
     },
     "metadata": {},
     "output_type": "display_data"
    }
   ],
   "source": [
    "general_exists_Rz_st_Qz = Exists(z_1_to_n, R__z_1_to_n, conditions=[Q__z_1_to_n])"
   ]
  },
  {
   "cell_type": "code",
   "execution_count": 17,
   "metadata": {},
   "outputs": [
    {
     "data": {
      "text/html": [
       "<strong id=\"general_exists_in_B_Py_st_Qy\">general_exists_in_B_Py_st_Qy:</strong> <a class=\"ProveItLink\" href=\"../__pv_it/common/6b3c8a77bfc97295a7bffccd26254e8c309fb4970/common_expr.ipynb\"><img src=\"data:image/png;base64,iVBORw0KGgoAAAANSUhEUgAAAZAAAAAXBAMAAADXUwQrAAAAMFBMVEX///8AAAAAAAAAAAAAAAAA\n",
       "AAAAAAAAAAAAAAAAAAAAAAAAAAAAAAAAAAAAAAAAAAAv3aB7AAAAD3RSTlMAmd3vRHZUqxAyIruJ\n",
       "Zs2aKqhdAAAACXBIWXMAAA7EAAAOxAGVKw4bAAAELElEQVRYw81XXWgUVxT+Znd2dmZ2E5cgSLXW\n",
       "NVjRByEPKlYUA6W0D62ZUFIfonQbEaRo2T4ISoIMlq3gD24bDBRBB3wppJIVYlMMrUuhKBhlLVEU\n",
       "Qad9LYKKpdGmTc/9mR93mzjriuuFO/fcM2e+Od+95557L/DKFOf5PzXxCpVE7vm/VS2grb29fXXz\n",
       "3O+dGev/zWbSrkZgtonmoyZOxL9Aah21utsISqvdbCLGn4BGFUqlEZiWTLOJJB5TnSYh3hjOumYT\n",
       "Sd2nSmTwWWM495pNZF4JOEU5B6/TMumu4GDwqrAYen6ub8MGFxskojzV+zR6RHkCkfhuuRzStNaB\n",
       "u4FNeTta7s8FEja4gz5Kv2vr9f/Eg4lFRR4ZUrG1ZyGtuM7oCBnZfjwwMckFYjOkZNGPozJ9Gbk2\n",
       "JEtHLu6dNU9wA9nZXveMHO8fJZezSHSEiGx2cNoJh8Uzy/uyveApaC+z4xbWGD1ZodCxBnErg7bZ\n",
       "IISBN7P1ElFeY89kRk6qIKLRv5US5tef+Nk24hNBl2085mBiu57CqeIjjBRn3c+ZgZTflkTeyUMu\n",
       "G3ULkrWf+EqxhcZzOFAJiLB/ETHyIDJOWhxIjGnvFVsob7B59okoLj7EzTmIcINrt3pYmPYJIro1\n",
       "ZXTIVDDPHqzND55SFzE5su3aPgRE9jPPOkwXkXGgiUWSeOS9Okd1DKm8IMLmi+Qxan4Wveqwkgb6\n",
       "5EasJ/m2IGJ+mU2UzB+Y/G0fetUdVVHClGJIxf77K/TPQ0Q2sFjJqyVExoEqRqTVT0ssfy5AV4UT\n",
       "0VnEKXn1H5qzFaLHH8fckMANzIKLKZ69xaExWU5aQys44gD2xHGsagRIKY4Cf4yPfw8Qi5HOgMhG\n",
       "ttocjYIqKg4MTkS58Le3Wr+mevCXJY6YkXaaBH2g+wkwbIsellKNZTyB/YMbJC2VxcAyCRPrjBch\n",
       "HFiGt0xURwUpW+bfKMMo8y7l665Q+j2L97CK+xYVxwutoMQ43lWROaDxaEq7MDOmI3tPlZ2QBvGi\n",
       "kinCzPowXWAOHAFWqjTdo0zUy96DKbVetpp52JhT0JeGQuv0mcJJirlsHTgJq/bYl3b1tZJImpP6\n",
       "Iofhb76yea96M/QMRhAbKgZHTm3xT9yBwRw+ue1CKTLRWI9Bhz2Ech+tZgyzgbszPbEoFyJiLtiy\n",
       "ly5p5+vASdXcB88jZiXLMK9OE8cCKd6kQMSmmRnRq1rslmfwLhJXyC3vxSH8yB1ATndSFVxiR4jg\n",
       "xiaU2cSkDf3y+Gj4zOfl1UyBb3KRcQ7X+HYY2nU/NzA/d3d3hnr/c8QJDNgYirJHdXF8Qw6qnbQ2\n",
       "o3XmIfnmB6ZQ6nntSu3h1bs0/0XeK050nIW1926rgcuAP78fbJWRCvV62RP98A2UsxHB72xwLkXG\n",
       "qedY9lKKWbtNRSr6C/fkP2Y1QtbTFJtfAAAAAElFTkSuQmCC\n",
       "\" style=\"display:inline;vertical-align:middle;\" /></a><br>"
      ],
      "text/plain": [
       "<IPython.core.display.HTML object>"
      ]
     },
     "metadata": {},
     "output_type": "display_data"
    }
   ],
   "source": [
    "general_exists_in_B_Py_st_Qy = Exists(y_1_to_n, P__y_1_to_n, domain=B,\n",
    "                                      conditions=[Q__y_1_to_n])"
   ]
  },
  {
   "cell_type": "code",
   "execution_count": 18,
   "metadata": {},
   "outputs": [
    {
     "data": {
      "text/html": [
       "<strong id=\"general_exists_notPx\">general_exists_notPx:</strong> <a class=\"ProveItLink\" href=\"../__pv_it/common/72640e0e2618963446b1238532d651b0ce8e532c0/common_expr.ipynb\"><img src=\"data:image/png;base64,iVBORw0KGgoAAAANSUhEUgAAAR8AAAAWBAMAAAALAYUCAAAAMFBMVEX///8AAAAAAAAAAAAAAAAA\n",
       "AAAAAAAAAAAAAAAAAAAAAAAAAAAAAAAAAAAAAAAAAAAv3aB7AAAAD3RSTlMAmd3vRHZUIqu7zWYy\n",
       "iRBbpgkXAAAACXBIWXMAAA7EAAAOxAGVKw4bAAAC60lEQVRIx6VWQWgTQRT9m3R3G3eziVrxEJSY\n",
       "Q08iPUi9iBSK3tQUSWsFsRS8iNooiHhQClJQUMhB0YPYePEiyArFc2jxJpqTSCWyHjyUKg1iD5bE\n",
       "ODt/ZnZ23ZZk+uAt77/MbN4O82cXQAnlrs2ebql8B32qW7N7HGfcVSgUDvc6+UogJztP77/wIqbS\n",
       "Q7pIH+M9znWqUrEBkDoWNVXwmlEhkOYG2l4HMNYjphLeMCoESsor3SJsR0wlJD2kQqBLkk41CVsR\n",
       "Uwk7XKRCoH2SzlQAPhaZ+f3sj4bUa5EyBvKI9CxSIdArSZMwtwe5mdXntHzwW6SMgTzCqlJOk7Yf\n",
       "7jEQCaAVfGQBLjxsLHDTKlt/+11YZf2GpdO45212IzYBYQwhFVaIn1smWeB5ybRBI1nsEntmLDXY\n",
       "fJVwBC+ayG0G2giZSX83GSKAX2ZGzNYWrVUUsm8ISQPpYzf28j4OpNTcIXMwCGS3Q+bpsuNJgfzS\n",
       "8rYKREfk3o2x52BTx2Giv/KSDZFkgLD5mAfKgv5bMldG7kIa7+qAKCGdp2UEnhixOuomyWvVqiBp\n",
       "IDdVrMEtuvl82XdxIDyb/i7wWTo8mpI582E3nMBAa1VRwqJHS3pxNmSBI+6cgwz5a61OyV6umTLY\n",
       "09gNRCZhLfI8GfnLYDF4icz/KQbmt5KRm8JAiUOiNJ9jCQnSlHCAi4InRszBqO+OIBFL5Fsk4XFp\n",
       "kksYxLQG3taxSNRidkNg0o1wVfxwDW7KpRgVHAZHYacNcB2QdDMMLUPWD+TUUcIjIuEnv1DTmAS2\n",
       "W61s3JmSDQWq88p89n6/VAqkhTKbcPAyQA6QFHtOljw/kD2MUqv5cqlsH/EvzHxg8kPjSVzDcNNc\n",
       "bhfBEe2c7HSaUhm8NYJ+n4XzLphkP5uV8KKTRTRQftWFBKHy+gJb5pW4QCFTjxwb/w+PRkyVkdKx\n",
       "eeYTwCnsnc4vLn2gcmaNL3wRijGBYs3uMcEYgRsnt/vp1Qv+ATjN2aC/HNvsAAAAAElFTkSuQmCC\n",
       "\" style=\"display:inline;vertical-align:middle;\" /></a><br>"
      ],
      "text/plain": [
       "<IPython.core.display.HTML object>"
      ]
     },
     "metadata": {},
     "output_type": "display_data"
    }
   ],
   "source": [
    "general_exists_notPx = Exists(x_1_to_n, Not(P__x_1_to_n))"
   ]
  },
  {
   "cell_type": "code",
   "execution_count": 19,
   "metadata": {},
   "outputs": [
    {
     "data": {
      "text/html": [
       "<strong id=\"general_exists_notPx_st_Qx\">general_exists_notPx_st_Qx:</strong> <a class=\"ProveItLink\" href=\"../__pv_it/common/45222648b9d5c3fe0628308866f5e9621e12e9c00/common_expr.ipynb\"><img src=\"data:image/png;base64,iVBORw0KGgoAAAANSUhEUgAAAaAAAAAXBAMAAAC/oIYTAAAAMFBMVEX///8AAAAAAAAAAAAAAAAA\n",
       "AAAAAAAAAAAAAAAAAAAAAAAAAAAAAAAAAAAAAAAAAAAv3aB7AAAAD3RSTlMAmd3vRHZUIqu7zWYy\n",
       "iRBbpgkXAAAACXBIWXMAAA7EAAAOxAGVKw4bAAAEY0lEQVRYw8VYXYgTVxT+ZvIzyWYyG6yyWGtJ\n",
       "g/SpSB6qeRAkRRClqLNt0yoWu64IUtg6UqQoiEuLoPhDHhT7UDS+aKFQs7BYKqUGlxYKtl2QlVLZ\n",
       "Mj4IWtq6FMvSZTU9c39m7mSzi3GoOXAy557Jd2e+e+/57k2A7pjTJmdE6tGI3EMUSwy0Sb4dqcu4\n",
       "zX1RoVB49ZkTGgrCbc1Pj11wKUiOR+tzu/DIQ/MUZtWUxgyQXkvX3yN22uNy7wYhrR7E5j80OeRY\n",
       "FrHTTI57NwjF1HKaJX9EQTFqr2uFd4HQ+0qcniInUsla1F6/EN4FQsuVuLcK/EzqpJEmWJVTP95S\n",
       "7t3d+sfkwILFqAJ+Ed45oZzaSDpPDrSVsZRGZA697NU01ZWGrfYi9UGJI1p+wWJUAVeZD5Jsr+6Q\n",
       "UFWs/ol+IjPaiRiIKxHQCp7R0Lx3cpJ1odNUfIVr7nFYV2WZO5nHqbo1edSdr0MOELZLeOczxAnF\n",
       "L8EowRruZPMTW43c+AwCn5dCUQYaeJ6i796QAgit5o3C/LPEAXKuhT8toUHypdDKnSC/nEtoRiEE\n",
       "rJI9iyQt0t6yMTt/j6uCcJ1wj1Cif3+flNEgVLQ1lGSE2FOuQQ/frPT1z62pIHnLX3KSkPlIxN6S\n",
       "Q3waf6mEtjiWm3EXIMQAI99UcmIcBgWhd1LVi+IrShhYOMkIpTyZvYmDoZsJ51jPHFlSkjv55Ywk\n",
       "lEPioZRvG9bpVBHj/K0s8vvlT5ClazbPmi1GhcUB1ugalCjxtXCPUD1tN3CA1Z4XxncvDoPZ/TCh\n",
       "mFcPn2MjVHAGZ0ys7w8vQ5bktjEQWHlgmRJBdhjJ2TvF+AAn9IDGa+9Pz2E9xddd1rRmRN5vcYBx\n",
       "t4bHYjNYLg+nvQ7MQS4mFMbwoGU4ep3WGoqRzJrT2IMQGNO05VtTLehpGfzAL9cD3Tv/r9Byk6Zh\n",
       "ib3zilg3+krgTiW5jPgZ53gTL3n5nPwouBKQsuPeMWOFcGZj9AtFd2Vo0EfYKJlZfGVcIZTOxV29\n",
       "zl5RAZtFA47ZcorxkiOvDwVLTm+0KYdX/IgVwgd+cx8+Upv+BuiLeayh5RowSAsNoYdG8VfaLemd\n",
       "rHEe4jTwJ7XYh0gmtyGvikLp23dpg9QDMH35w2yN9pp0OQDL5O6q7slDcI6cYyNhQv6PCeOzGy8q\n",
       "Td+yfnQY+vcNduL1T71LNlVc753M1TzUaAjHBswSxhyzJJMnjJoq2/uOHHUdpB0fTAjtrYkdwAsK\n",
       "WCZTDZIPnBXPO9uGUFqu6kOXJ6hEbH/8m80ppRmci/xoAxK3gQPgHpj3Tkke/pagD1+uRDKfGHXV\n",
       "kwJeo8fIvZItOY7IurYCFpGO7ZthSeT9dueyakgaW5Ry/nMUlEEKDZT5Ju0Sm7n0NP8miffXKE9a\n",
       "w8nboaMPDn9MX+kLwAJxuZlXwCK6h6E6NDkJht2G0f5ov+od7i1WV9W2TTJEqGcFm482CCVUkh2d\n",
       "+7r3l4375ED3/3+3/wDBfD4HUW7UNQAAAABJRU5ErkJggg==\n",
       "\" style=\"display:inline;vertical-align:middle;\" /></a><br>"
      ],
      "text/plain": [
       "<IPython.core.display.HTML object>"
      ]
     },
     "metadata": {},
     "output_type": "display_data"
    }
   ],
   "source": [
    "general_exists_notPx_st_Qx = Exists(x_1_to_n, Not(P__x_1_to_n),\n",
    "                                    conditions=[Q__x_1_to_n])"
   ]
  },
  {
   "cell_type": "code",
   "execution_count": 20,
   "metadata": {},
   "outputs": [
    {
     "data": {
      "text/html": [
       "<strong id=\"general_notexists_Px\">general_notexists_Px:</strong> <a class=\"ProveItLink\" href=\"../__pv_it/common/2ea381a7cb66bd61cdcd2bedebadf00ed5438b4d0/common_expr.ipynb\"><img src=\"data:image/png;base64,iVBORw0KGgoAAAANSUhEUgAAAQEAAAAZBAMAAADDMIaMAAAAMFBMVEX///8AAAAAAAAAAAAAAAAA\n",
       "AAAAAAAAAAAAAAAAAAAAAAAAAAAAAAAAAAAAAAAAAAAv3aB7AAAAD3RSTlMAECKJVLvdme9EZnYy\n",
       "zaslF4J/AAAACXBIWXMAAA7EAAAOxAGVKw4bAAAC8ElEQVRIx8VWTWgTQRT+drPJprubZlGK0AqN\n",
       "inrwEoknoVIRelExehPFVpDoQWhUqDZeqhRB8BBRsODBPQhSvCzVUrGo9VIKCkYQBE8BEYQWiRQL\n",
       "0pb4Zmd3s5ttA+se8mAm33vzs1/evPdmAGAL2i0H2s7gVNsZDEVZnEHU1SOFS3fu/v8Wan8kBo+t\n",
       "XjFfhl04XT/346vO0JFo7lcN1stzoRlgHYjfol+hEjECPrMugdAMtFVAWmXsjYgMnrEuFZ6BukZt\n",
       "mUAyahYk2Vk+Cs8gXqNGLHA8KoMUc+Lr8AzSeeCTSeAatZ6323OejGhSNxDvjFgVA4WVwnhYBvT1\n",
       "XRcY+EatqC7KnpLSpG4g3hlKxSpIoX3w7ntu0gJEQ8kovzsNdNtZwVUh90vfbLG9gIs0Boj58AwG\n",
       "HUC1TINMH9dm7X/FVRmb+4HPcBSKKCkbnsG6hwHFM4sIyf0iU9Nlca1FApgu7CAfxMrEQJ3Zd9XJ\n",
       "tAb0pJ/PqC07yAqGJxlB9zBgqqK3YmDNKH2YsYmndGIw1Zn/Yg97YEP8RvWvg84AXeWfiPGtBLgq\n",
       "YqQHQ0F3Z3RPGEm6l5Q8K4nEwIibc9htrWCw4+iof6U13kjimoMOASfe38BDzqC34qqY1yGww2I2\n",
       "P+AzdrxBmr4nZzEyXCjQaaYz0AY4Z4JJ9DZXAM8tLA/+cQ5yHtg2K5X6OYPEeVcVT9JogTZMFAlc\n",
       "hA2YxZ6xiAlmLQPPra0W6KpO6A4UqfMLGZXRp9lmryZcz1hxcNgd2IudZAscg8dyD9c1YA+hJWri\n",
       "WB+KjIGQ5RCnCWKr01lGaTr4llGKPgYuQ/Hsxyuw4sEvDYtYw+VjQMl5Id18MKszBto4h/IcgwsZ\n",
       "7TbrbOOSWNn0hSf2LZsQ3CxL1usUKz3BgtxIwypeGKwYAeWGS8lFEof7VRfCRUPqZMCtXb6cbRo0\n",
       "AwyaLXHfI097RY/m+zzY6ysOZMKRUJUOBrYUzUhX41TQZGwEoz5DWso/UWjEJxpL/bUAAAAASUVO\n",
       "RK5CYII=\n",
       "\" style=\"display:inline;vertical-align:middle;\" /></a><br>"
      ],
      "text/plain": [
       "<IPython.core.display.HTML object>"
      ]
     },
     "metadata": {},
     "output_type": "display_data"
    }
   ],
   "source": [
    "general_notexists_Px = NotExists(x_1_to_n, P__x_1_to_n)"
   ]
  },
  {
   "cell_type": "code",
   "execution_count": 21,
   "metadata": {},
   "outputs": [
    {
     "data": {
      "text/html": [
       "<strong id=\"general_notexists_Px_st_Qx\">general_notexists_Px_st_Qx:</strong> <a class=\"ProveItLink\" href=\"../__pv_it/common/44f76bd1d099dcfaf0da7e74f800d656d5ffebd40/common_expr.ipynb\"><img src=\"data:image/png;base64,iVBORw0KGgoAAAANSUhEUgAAAYIAAAAaBAMAAABIlkYgAAAAMFBMVEX///8AAAAAAAAAAAAAAAAA\n",
       "AAAAAAAAAAAAAAAAAAAAAAAAAAAAAAAAAAAAAAAAAAAv3aB7AAAAD3RSTlMAECKJVLvdme9EZnYy\n",
       "zaslF4J/AAAACXBIWXMAAA7EAAAOxAGVKw4bAAAEOUlEQVRYw9VXbYhUVRh+7p2POx93Z29F+EPN\n",
       "SyIKIm6sP8Kl2BBWQcixf1LkBjIlBE0bLakF0yBB+WckxeiHjmEsi4pXWdtywiZKWTBwiiDwR66I\n",
       "ESmyriSEK9N7vu49d2Z3cRzcZQ/cM8957zznnufc9+NcAHgSC72tW/AKXlnwCvrn8+Fm2+zB3Fuf\n",
       "fDqPCkbaYic91qe8kTlf99n66zf+cAhEu9qb6BzrrOrcK8ADIPYx/S5tc54Otg1xzL0C+z5tP13Y\n",
       "3eZEqTyTMQ8K0lN03SVQaHcm9iIPzYOC2ARdpCJaa3emKzwY5l5BZxa4THnEokA2Ktd+0ovq4vNL\n",
       "untnI4cIL6Ivdy+3t8Xn5/VB1H14oqcArX75DubBZVKB896gPnv6pjVriQoRTvKC1uo7yEpn7hml\n",
       "1Q+3QLQU+OF6N+fFabO/winnHxgnVWy6qTuZstF925lpFkGQbROVtewjKkj+BrMIY7yVAqSy/3b5\n",
       "mygBVXxE6NI3Kk3BqjGtM78HQVBvk9eUR1PQR9f7sEqtMH8NyoGvANinppNGcrbOkjk18zT7AvgF\n",
       "ECmRgvTo6gGV6AKoZb+QkSvgTzhF1SR0szIw2hwXgVEGoH1X3mFehOQkntAVHHENJ+XMooAThk5U\n",
       "8kI4VbURnMlkf5e3NRi0sJEryLBE+DzWhG6m3RsdTXlEM26Ulv9UVvVgbMsU0CUUGHQ9XfobEfqN\n",
       "9PNhQ6PgEARj+DMUyfA1K8mkoBzzqljBY4fB5OZdYSK/H1aQYD79Jw5CJ6fwqo0Do2HP4kbRDsqz\n",
       "wIQcR8YRnVpUSPYKBctoV7b8+AEOEL7o8KHxQNr9kSCYi2u4Q9b3MPhOLkdn004Xdp+IfoIJLGtM\n",
       "4G5jHCQoEdqTeBkhMiapzhoTDexJBS6IlLT9X5lXbdroPd7GYzIO4m8AiyrR3STI3CqGeJPZ86rL\n",
       "OYqQ8ZKsoO8EjvOpxuAi7ihoUhduZEztOtalKYjlk068zNekke2CCdduOCsw49CXGwIvCtrbPuJx\n",
       "8JI/XIln9aFfffwcm6ha+SpMyli3WFQWXqAyRYswugTENuApGvFOGqNn1beQiOTi0e+vMCf0yfTn\n",
       "VZEa5fxYKSAr4+ZsnMV044qGwgr8s7b52i/vakO/RXy0FvGfq7DK8gttz+cVhy3C3iugRV4/1msX\n",
       "MebaRWW8Zdb0bLry5m3HRcz1ycSwvus5DXyokZUxU10z3QdtTHnn8qs95OZ+0U7U6xPaMDhy+Ogw\n",
       "0uuBFYSCqGOLiAr4XJo6P6lIY3962NFrMg7RI1SR4l4kGBHH08gSxXFuP4xs0xknZEk3JLFZziXT\n",
       "fePb31K23i9yRf0eZV3f5YTRGI+uD50qsPYv+stAQJaMq/V+jSzRM9hQhtVcK1a3d0pvnrCsJ8Fp\n",
       "jCEFHTv5jk/D0KBmbOkM9Vib21hkHrY5j2Ex/wNt1RckmiYkBAAAAABJRU5ErkJggg==\n",
       "\" style=\"display:inline;vertical-align:middle;\" /></a><br>"
      ],
      "text/plain": [
       "<IPython.core.display.HTML object>"
      ]
     },
     "metadata": {},
     "output_type": "display_data"
    }
   ],
   "source": [
    "general_notexists_Px_st_Qx = NotExists(x_1_to_n, P__x_1_to_n, conditions=[Q__x_1_to_n])"
   ]
  },
  {
   "cell_type": "code",
   "execution_count": 22,
   "metadata": {},
   "outputs": [
    {
     "data": {
      "text/html": [
       "<strong id=\"general_notexists_Py\">general_notexists_Py:</strong> <a class=\"ProveItLink\" href=\"../__pv_it/common/1a5f9092e44b12142ff7c1e68b68604a1a0282c80/common_expr.ipynb\"><img src=\"data:image/png;base64,iVBORw0KGgoAAAANSUhEUgAAAPkAAAAZBAMAAAABJZUhAAAAMFBMVEX///8AAAAAAAAAAAAAAAAA\n",
       "AAAAAAAAAAAAAAAAAAAAAAAAAAAAAAAAAAAAAAAAAAAv3aB7AAAAD3RSTlMAECKJVLvdme9EZnYy\n",
       "zaslF4J/AAAACXBIWXMAAA7EAAAOxAGVKw4bAAADRElEQVRIx8VV30sUURT+Znbdndkf42A9BJJu\n",
       "BfUQ0YbRgyJsCBb50NZTv9TtZSsKsoeEhEpsCcwe1qdAKfclJCwaasswqH2QEAyc/gIXpCdDNNCH\n",
       "srZ77szsaNMK4wReuJd77/nu+c4995xzAaAGW9kObyn76S1lT23+qOiBNsZ6d/ry/f5Na8h7YB/m\n",
       "Y0hzqSPcubzQfoNm/rgH9nCOxmDB7Q2qdeCMyiY7Pb34FxoCrv03owEnWUePJ/ZRGqKu2T8WWCen\n",
       "93pil8h9j1yzd1JnFvh1T+xRevgJ1+zLQOQnRQy7f20PhGJZIoznULfR0bVwXxGt6ZV0xh05YxaP\n",
       "JEzj48cRWiyLfP5evNzo7Fp4SOfFxm3G/W5ozPJ4TSCS6IaSFF6YoslgCl+FhgW1kuEcbi6YpRCT\n",
       "btmrLOOlLAQMQNKm35o7qqRhIIhgpfJpwC1TFnnFyLtPd4sd8hJmCmi1ZCNqZLU6K65WOmvAzTm7\n",
       "uy/L2IeLMGNB/gDFWRTLYp7uVoVjnkdQxzvY7LcR7g2pldk5fPT5+y7yPPNQVEVe0JYiZu7WVqtT\n",
       "Dn/ZYp7uWesJmA+riugw2Plbd9AGfCnmY0cjAMGFZw/QR1GXpFKHvLg9FU6KpwiyqxVv5LZb638y\n",
       "EtvLWdgpg2BR/sHZhV+0dQcjLBE+qajXzS0+lFcEF2t1LBkJ2309ne6HEle0yYtc5RzmJdSvt5rE\n",
       "5cXN0nkrbJjrhLnx78bd03S3uqa7MdA9AqTtEswh0GUCOFzR6MkRYD4c4y+YlQow2K/goYi/nE/i\n",
       "0aEWhy+vcQ/oBrvfSLNmYB92A0cdaAPA4FIh2MVCby9bfePqCyMg9m1Mo8wS4SyEOFtYA4nbkoF/\n",
       "/RPN2JEw2H1ctZCBeOEz+3+dn68PJvwgApMF44/iqenvaefsUwkce6qzTxeRDKZikT4aMlysFA44\n",
       "Mz+Gq+ypsGe2icUr3UJT4pBKpUUWqc4qyzqHP0G4kRcagAdwDc5xdiSEWFUOh8LMINtjXBzAxKAj\n",
       "GZI4MW5lANH5x6x4DTtjngA2nEw327ysY/peArKqaI8RLa0ANtUgF9ehJedQuN/DF/eqPBt6bRZ+\n",
       "yGPmg9lUubL4f7c/T7PfS4STdggAAAAASUVORK5CYII=\n",
       "\" style=\"display:inline;vertical-align:middle;\" /></a><br>"
      ],
      "text/plain": [
       "<IPython.core.display.HTML object>"
      ]
     },
     "metadata": {},
     "output_type": "display_data"
    }
   ],
   "source": [
    "general_notexists_Py = NotExists(y_1_to_n, P__y_1_to_n)"
   ]
  },
  {
   "cell_type": "code",
   "execution_count": 23,
   "metadata": {},
   "outputs": [
    {
     "data": {
      "text/html": [
       "<strong id=\"general_notexists_Py_st_Qy\">general_notexists_Py_st_Qy:</strong> <a class=\"ProveItLink\" href=\"../__pv_it/common/2743ed3866001974a5f8a1d0449d10a1320093b00/common_expr.ipynb\"><img src=\"data:image/png;base64,iVBORw0KGgoAAAANSUhEUgAAAXcAAAAaBAMAAAC+8wH9AAAAMFBMVEX///8AAAAAAAAAAAAAAAAA\n",
       "AAAAAAAAAAAAAAAAAAAAAAAAAAAAAAAAAAAAAAAAAAAv3aB7AAAAD3RSTlMAECKJVLvdme9EZnYy\n",
       "zaslF4J/AAAACXBIWXMAAA7EAAAOxAGVKw4bAAAEb0lEQVRYw9VXXWgcVRT+ZnZ2fnZnJ0P1QQim\n",
       "q6J9kNKVFpGGwkohFQu6+uRf2/VltSgYhQYa/AkxCLU+bMBSaNGsoIQQpYOmprSi+xAlUCFjH/tg\n",
       "Foq+pISk0D5odT33Z2ZnMklNurolF+7dmTnfOfPNueeecxYAtmATj12bmfyzm5l8+Y69WW1DN09z\n",
       "oPLqB8fuFPmpNnRP8zXjTXWUcfbQ9cUDb7IrrdCOmRpbjXpnyaPLB55z6eLetsz8whYdHSY/5wFP\n",
       "08RgW2bG2ZLrNPkf6jRZxAy1ZcZkm3ey0+QPsUkfoPltmcmxoD/fafLXAftPdtjI+92DUBqhRJmu\n",
       "oedWqlF4qoG+yo3KyIbe3R+90fLr1vPkLxFXHy1K1xWeQGYphKS0IZy5lY0oPOPzGrUxz5dkquqd\n",
       "JuIT69czghz3987dVZ4pirCLA3BKyldSNGOU8Zuyc9Fdw4SAB36jI6OWbou8dQnqcHTL/3VYMqun\n",
       "A9eZVSg4DtO7+K184poejhsw1qr5Ah58yRKvFLdDvo/mERjVjSZmkeYD8rCWMVfnxvgYc+2bXVX1\n",
       "5poO4HB5TZ5PVYn86QakD63v4SRLcSgOyHP7Z6hGRBViMCTsye51LqirFDYwfJxDi/w7yA5l3LXJ\n",
       "c/j4lxfYudNof3IuphRv2ZZJt7vLnU3sVksckHeY+x7D9qhCHIaEvX0yzQe7laYASDdwUJDncX6Q\n",
       "PUCqTAGSGAzA4MrEhxhmB7bECiym1LvL2ZL6DIPc14ez1v6j8eaPiePkTea+X3FCKOBBN4B9PB2P\n",
       "JC4W44T4mUcr18FoWH9w8spf7NG7GKMU9JOLrb58xJfwjsHVbh/LItMOvFGpHINTcLyZl7nJK1gw\n",
       "sTX+0Uy8gjy9w76Gp4SC3ecGsCFlKa5LYnn1I1+PNF8MThztu3Jl+prwfIWZ6Ol9Lw/mRZ2ReQVy\n",
       "0fslgMMdj4U7dPLSJA+/qlmHIH8YH6lYETlMPH5qb4R8ut9y9RrnQwrQ3QCWXxk5JM4c/bzQCpvW\n",
       "eJ373xfkNZEf9wDbcD/weCJsBIDgZt3op1P7EN1d5a+tj4GRv4ssWuS656EU6CZYmHh/SY8e2OHP\n",
       "vrvMY44rEHkJQ7oa0RX2tLP8D8+FVVqrPbinKMinODNlBOpLP1PDnOyWU5DwHdBn6qKt4zlVGzzA\n",
       "yc8Wse8Ln7pk2COYzdvDbBnhYqe+PZoqty0sunmkqU4xBSIvYXgbEV1p76rqr/Z3k7Rfo7DCA/O9\n",
       "dLKZDz2nALPZXKLDn2wNaHL4p8ju5vUJ4OdrC17g5FFU8ukaHsnS97T2i4t1nB+NVlicpBdQ4eEK\n",
       "LGwELOV6UV1hr5ydoK0pJbJYCU+G55ux1SaDTJFdvb1owbnfxFiwfFx8vwjLdbxPkGveAEZDrVEu\n",
       "7sHeWoz8jt+J8VtgCva5XQFsvlmO6Ap7SkMjVxnJNujhNtq7r8OrU9/IZgfWpIy2WiisheIY+dxh\n",
       "FohuRCGEhboRextpg/6/kU+UjvUN9z9n8g+3mj6QLnONJgAAAABJRU5ErkJggg==\n",
       "\" style=\"display:inline;vertical-align:middle;\" /></a><br>"
      ],
      "text/plain": [
       "<IPython.core.display.HTML object>"
      ]
     },
     "metadata": {},
     "output_type": "display_data"
    }
   ],
   "source": [
    "general_notexists_Py_st_Qy = NotExists(y_1_to_n, P__y_1_to_n,\n",
    "                                       conditions=[Q__y_1_to_n])"
   ]
  },
  {
   "cell_type": "code",
   "execution_count": 24,
   "metadata": {},
   "outputs": [
    {
     "data": {
      "text/html": [
       "<strong id=\"general_notexists_notPy\">general_notexists_notPy:</strong> <a class=\"ProveItLink\" href=\"../__pv_it/common/8e57371a6032f3392ab8b19ab3ab034537d6971c0/common_expr.ipynb\"><img src=\"data:image/png;base64,iVBORw0KGgoAAAANSUhEUgAAARcAAAAZBAMAAADpgHcjAAAAMFBMVEX///8AAAAAAAAAAAAAAAAA\n",
       "AAAAAAAAAAAAAAAAAAAAAAAAAAAAAAAAAAAAAAAAAAAv3aB7AAAAD3RSTlMAECKJVLvdme9EZnYy\n",
       "zaslF4J/AAAACXBIWXMAAA7EAAAOxAGVKw4bAAADgklEQVRIx81WzUsUYRj/zew6u+t+DdYhkHQr\n",
       "qINUG0YHRdgQLPLQ1qkvdbusRUF2SGihWkoCs8N6CpRyLyFh0VCWYVBzkBAMnP4CF6STIWugh7Ls\n",
       "/ZqdcT/EKQIf+A3v/J5n3vm9H8/zvgBQgy1kh7eSmNNbSUzC6QfypslNWkSgN3npfr/Db8c3TW7S\n",
       "hgWAas1hP+5ooenvWl7suF5EOjd/lgPw6A7F7LS1wwZwRi0indsXAShOZzhla89qwEmtiHRuowII\n",
       "OhWTtrU/6gTRItK5eVUOPHIoxm3YXroo9CLSuQWzHJh0KMZj36rLQOCnIGtTkHIFjzSRRd1G/djD\n",
       "XTmGtuRKss/xKEwjQuQjMUFGj6M6X3C53Gm83Kgfe3i1wUFqnrOZUWK0OhHrJvn4u7EpI8hArBeh\n",
       "uPRChE15EvgqNS6qFbrh4ebSpznkuEMx3oxoHACq8hYpYQBebeatYFSvhgEPPJXqOw83leU5SLX6\n",
       "ezFhw0b6ljCro82MG1EDq+GMvFqpHx4u2mkOV4aIGc5B7CXfB4RKy3XBLZbJFDMbtZEeA+9gibkF\n",
       "f7parSyGhY8+f99DlynBEVQxLmlLAVEoasPqdMmMWm5iVebc7iMlJmMjq3Lo5GLYPumkBFwJsiAl\n",
       "RgNouPTsAe7SDRznUMgZJ29P+OPyKRq2qw1vfO031x/I1G2liTVJmLOTnpzvBxMj/aLUbYyQFPuk\n",
       "ot4QFHsU3mi4XGtgSVQGgt5ryWQ/QtGQNnWRdTuPBS/q1w+Euq00sLbkjbXzNlKan/jOZyZJR17X\n",
       "fCcCOkKFdtwN8VB6RAALD2l0q0DJcIyxJc94dXAxl/FQRtFKUffoUKt4u1puBzDSZXAxbp7PLXQp\n",
       "dwNHS6u4KsK9uqeH7OK94PjG/qaPgIrZRnr1kRQ7CylKXswHdbfHFdupVu6oa8GOGBfjYn+S+iBf\n",
       "+EwuGKW3CxdE+EEoUzo/ZlPmPc+d6mBipmM49tQgtwoE+jAdCdyljz7mDun7zc0aKSOGkFfIEmPP\n",
       "XDPJAjo+LRSFd20tT/Z/6VFAwMKfwN/Eah0DWD7U4BwTg5gUqcrikJ/os+aUuRVMDorkiperYXGc\n",
       "mDBzi/7dPWZmgb80mgZY4Wx41hAXfAZm7sXgU0PaYwTXVoDBwpeDzF2HVvNQaii3Tg3/cGi/EuA2\n",
       "9FocWPCNiRW2jsNswf2f7Q/dV/ZbJ1glwgAAAABJRU5ErkJggg==\n",
       "\" style=\"display:inline;vertical-align:middle;\" /></a><br>"
      ],
      "text/plain": [
       "<IPython.core.display.HTML object>"
      ]
     },
     "metadata": {},
     "output_type": "display_data"
    }
   ],
   "source": [
    "general_notexists_notPy = NotExists(y_1_to_n, Not(P__y_1_to_n))"
   ]
  },
  {
   "cell_type": "code",
   "execution_count": 25,
   "metadata": {},
   "outputs": [
    {
     "data": {
      "text/html": [
       "<strong id=\"general_notexists_notPy_st_Qy\">general_notexists_notPy_st_Qy:</strong> <a class=\"ProveItLink\" href=\"../__pv_it/common/89d6ea0d585195179b1060b87c9467e864c1d3760/common_expr.ipynb\"><img src=\"data:image/png;base64,iVBORw0KGgoAAAANSUhEUgAAAZUAAAAaBAMAAACN5NyxAAAAMFBMVEX///8AAAAAAAAAAAAAAAAA\n",
       "AAAAAAAAAAAAAAAAAAAAAAAAAAAAAAAAAAAAAAAAAAAv3aB7AAAAD3RSTlMAECKJVLvdme9EZnYy\n",
       "zaslF4J/AAAACXBIWXMAAA7EAAAOxAGVKw4bAAAErklEQVRYw91XXWgcVRT+ZnZ3dmf/MlQfhGC6\n",
       "KtqHUrvSINJQWCmkYkFXn/xru75sLQpGoYEGf5YYhFofNmAptGhWUEKI0kFTU1qx+xAlUCHTPvpg\n",
       "Foq+pISk0D5odT33Z2bu7G7qTsV9yIEzO3v+Zr5zzz33DABsweahwU2E5flNhKXU4+fpXQu7pJzk\n",
       "0fJrHx7vLZa5roVd0hnJQNKe6ymUaN67TR26uXrgrRZheErVBAPxem+x3K/c9znAC1aLMDxdkQwD\n",
       "vcUyptwv2cCzdoswPE1LRqbHWCrK/aU6cb5FGJ4SlmCc6i2WqKP8OcS43iIMT5maYFzoLZa4ustv\n",
       "Auk/pbB/DFrD02jzNQzcKY5qHmlwHi7fKk+EepmRQJZzXfvZfg5dIhz64wUpzD+F5JqnikQrOHun\n",
       "cKp50hFMR2W4dSnKRjg0TzhmQiyI+DEK7FAjOkwx/t61uyqF6cIoskXta2m9EC/hN23XqrVBNGHu\n",
       "ZrQiWC/eFRbzKvRxtSj+lUxRXImq/P8oEHMTS0INJ5CwL38nJVbCxok44hsNJcLcBbYmmE6pu8Ey\n",
       "THwU8WrIUyCIpc/xscBcx1Kdx+U0ZaVv91X12xumhpvL+4rgSJWwnGlAZtj8Adn2IcFTu1j4M87S\n",
       "2aQ6BMzQFm/QqzEXy5LbB5gw7uA8fCzvIlVJWhtj4ebTX11k2zdaEpyxMKfZ62nZ4fv7rMW29fTV\n",
       "LpYsy+gT2KE6BM3QFm8fv8bcwthGR4u7RkwYa+CgwML3yEEmQKRE1dRGzICZazMfYZzt/aJgSu2c\n",
       "fm8pVdSfY2YPDOOcuf9YcIZl6iCWBMvorzgpHPCw5Zp9Mh8sO64WdNLrny4tQ2mq8Yb5B8ei/cVE\n",
       "72GKmttPFrY6UsQv3j9mrvc7WJctnXj0zXL5OLL5rL3wKg97DSsJbA3mgalbsNBz0jfwjHBID1uu\n",
       "WUVbC/qSWt79KPapv5uPNl92Ny8JtWvzN8S6lFm0gaH3c2D5Ndh7HYa8GCPSgJtnbbZNYFQFz/J6\n",
       "rSbqEFiO4GMdLWXG1NOn9ypYYiOmZdT465EDDMs1y7WWGamTx77IezWGNzpVPxdGHIElKhrxHlaH\n",
       "DwJPts8OljRP1OMj1AAegeDr/C3qU2BY7qGoJiX2RWh5+uNemHp/0VD3/vjn3//CC5Q7EBZphlhV\n",
       "8RXxouf4995FfxDsNB3uwX0FgSXCX1SbgP7Kz/RF0P45EIE03wljoS4m0zH3qzI6doBjWSxg35cO\n",
       "fQYgPYHFXHqcXSa4OlvfofbkbSurVg4xOi6ZA2GRZngHiq+Md113/G/xWKdRgYSvUznioeUh6hcs\n",
       "u3Y2j0SzuUYtpX1+IebmnyG1mx+RnMG36ha8xLGgoOViNTyWInj+inK1gQuT6rmPU/QQOv+4A6sx\n",
       "YRaxbNVXxCulZmjhpKNW7HT0FfG01zXYy0dn3f6T6jwO+eY8O36GVkwHlz8owLSy9qfING8Bk57n\n",
       "JFcPYG8tgGXn7wTgbTCH9PlB12y5WVJ8RTytEaXsxd2nbe9UZNv/w7j6jWRBp7+VQxrMWVme/ghY\n",
       "89QBLJkjrHItxcEz83yVeGFGt55Rru3Y6o6s//vF/gFR+VWgoWxH5gAAAABJRU5ErkJggg==\n",
       "\" style=\"display:inline;vertical-align:middle;\" /></a><br>"
      ],
      "text/plain": [
       "<IPython.core.display.HTML object>"
      ]
     },
     "metadata": {},
     "output_type": "display_data"
    }
   ],
   "source": [
    "general_notexists_notPy_st_Qy = NotExists(y_1_to_n, Not(P__y_1_to_n),\n",
    "                                          conditions=[Q__y_1_to_n])"
   ]
  },
  {
   "cell_type": "code",
   "execution_count": 26,
   "metadata": {},
   "outputs": [
    {
     "name": "stdout",
     "output_type": "stream",
     "text": [
      "These common expressions may now be imported from the theory package: proveit.logic.booleans.quantification\n"
     ]
    }
   ],
   "source": [
    "%end common"
   ]
  },
  {
   "cell_type": "code",
   "execution_count": null,
   "metadata": {},
   "outputs": [],
   "source": []
  }
 ],
 "metadata": {
  "kernelspec": {
   "display_name": "Python 3",
   "language": "python",
   "name": "python3"
  }
 },
 "nbformat": 4,
 "nbformat_minor": 0
}