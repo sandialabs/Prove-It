{
 "cells": [
  {
   "cell_type": "markdown",
   "metadata": {},
   "source": [
    "Common <a class=\"ProveItLink\" href=\"../../../_common_.ipynb#general_notexists_notPy\">general_notexists_notPy</a> of type <a class=\"ProveItLink\" href=\"../../../../../../../../doc/html/api/proveit.logic.NotExists.html\">NotExists</a>\n",
    "=======================\n",
    "# from the theory of <a class=\"ProveItLink\" href=\"../../../_theory_nbs_/theory.ipynb\">proveit.logic.booleans.quantification</a>"
   ]
  },
  {
   "cell_type": "code",
   "execution_count": 1,
   "metadata": {},
   "outputs": [],
   "source": [
    "import proveit\n",
    "# Automation is not needed when only building an expression:\n",
    "proveit.defaults.automation = False # This will speed things up.\n",
    "proveit.defaults.inline_pngs = False # Makes files smaller.\n",
    "%load_expr # Load the stored expression as 'stored_expr'\n",
    "# import the special expression\n",
    "from proveit.logic.booleans.quantification import general_notexists_notPy"
   ]
  },
  {
   "cell_type": "code",
   "execution_count": 2,
   "metadata": {},
   "outputs": [
    {
     "name": "stdout",
     "output_type": "stream",
     "text": [
      "Passed sanity check: general_notexists_notPy matches stored_expr\n"
     ]
    }
   ],
   "source": [
    "# check that the built expression is the same as the stored expression\n",
    "assert general_notexists_notPy == stored_expr\n",
    "assert general_notexists_notPy._style_id == stored_expr._style_id\n",
    "print(\"Passed sanity check: general_notexists_notPy matches stored_expr\")"
   ]
  },
  {
   "cell_type": "code",
   "execution_count": 3,
   "metadata": {},
   "outputs": [
    {
     "name": "stdout",
     "output_type": "stream",
     "text": [
      "\\nexists_{y_{1}, y_{2}, \\ldots, y_{n}}~(\\lnot P\\left(y_{1}, y_{2}, \\ldots, y_{n}\\right))\n"
     ]
    }
   ],
   "source": [
    "# Show the LaTeX representation of the expression for convenience if you need it.\n",
    "print(stored_expr.latex())"
   ]
  },
  {
   "cell_type": "code",
   "execution_count": 4,
   "metadata": {},
   "outputs": [
    {
     "data": {
      "text/html": [
       "<table>\n",
       "<tr><th>name</th><th>description</th><th>default</th><th>current value</th><th>related methods</th></tr><tr><td>with_wrapping</td><td>If 'True', wrap the Expression after the parameters</td><td>None</td><td>None/False</td><td>('with_wrapping',)</td></tr>\n",
       "<tr><td>condition_wrapping</td><td>Wrap 'before' or 'after' the condition (or None).</td><td>None</td><td>None/False</td><td>('with_wrap_after_condition', 'with_wrap_before_condition')</td></tr>\n",
       "<tr><td>wrap_params</td><td>If 'True', wraps every two parameters AND wraps the Expression after the parameters</td><td>None</td><td>None/False</td><td>('with_params',)</td></tr>\n",
       "<tr><td>justification</td><td>justify to the 'left', 'center', or 'right' in the array cells</td><td>center</td><td>center</td><td>('with_justification',)</td></tr>\n",
       "</table>\n"
      ],
      "text/plain": [
       "style name: with_wrapping\n",
       "description: If 'True', wrap the Expression after the parameters\n",
       "default: None\n",
       "current value: None/False\n",
       "related methods: ('with_wrapping',)\n",
       "style name: condition_wrapping\n",
       "description: Wrap 'before' or 'after' the condition (or None).\n",
       "default: None\n",
       "current value: None/False\n",
       "related methods: ('with_wrap_after_condition', 'with_wrap_before_condition')\n",
       "style name: wrap_params\n",
       "description: If 'True', wraps every two parameters AND wraps the Expression after the parameters\n",
       "default: None\n",
       "current value: None/False\n",
       "related methods: ('with_params',)\n",
       "style name: justification\n",
       "description: justify to the 'left', 'center', or 'right' in the array cells\n",
       "default: center\n",
       "current value: center\n",
       "related methods: ('with_justification',)"
      ]
     },
     "metadata": {},
     "output_type": "display_data"
    }
   ],
   "source": [
    "stored_expr.style_options()"
   ]
  },
  {
   "cell_type": "code",
   "execution_count": 5,
   "metadata": {},
   "outputs": [
    {
     "data": {
      "text/html": [
       "<table><tr><th>&nbsp;</th><th>core type</th><th>sub-expressions</th><th>expression</th></tr>\n",
       "<tr><td>0</td><td>Operation</td><td>operator:&nbsp;1<br>operand:&nbsp;3<br></td><td><a class=\"ProveItLink\" href=\"expr.ipynb\"><img src=\"expr.png\" style=\"display:inline;vertical-align:middle;\" /></a></td></tr>\n",
       "<tr><td>1</td><td>Literal</td><td></td><td><a class=\"ProveItLink\" href=\"../../../existence/__pv_it/common/669b21f12f1d528c761f5d2e0039e16abc982b0f0/expr.ipynb\"><img src=\"../../../existence/__pv_it/common/669b21f12f1d528c761f5d2e0039e16abc982b0f0/expr.png\" style=\"display:inline;vertical-align:middle;\" /></a></td></tr>\n",
       "<tr><td>2</td><td>ExprTuple</td><td>3</td><td><a class=\"ProveItLink\" href=\"../b81e62bb4eb6a1eff39a186fe5e3ed1fe097c5cd0/expr.ipynb\"><img src=\"../b81e62bb4eb6a1eff39a186fe5e3ed1fe097c5cd0/expr.png\" style=\"display:inline;vertical-align:middle;\" /></a></td></tr>\n",
       "<tr><td>3</td><td>Lambda</td><td>parameters:&nbsp;9<br>body:&nbsp;4<br></td><td><a class=\"ProveItLink\" href=\"../62a22ebefcc38fa53d99532e1b00f487429199650/expr.ipynb\"><img src=\"../62a22ebefcc38fa53d99532e1b00f487429199650/expr.png\" style=\"display:inline;vertical-align:middle;\" /></a></td></tr>\n",
       "<tr><td>4</td><td>Operation</td><td>operator:&nbsp;5<br>operand:&nbsp;7<br></td><td><a class=\"ProveItLink\" href=\"../1947e4780bd9f801870d66012524854d5b24f2a00/expr.ipynb\"><img src=\"../1947e4780bd9f801870d66012524854d5b24f2a00/expr.png\" style=\"display:inline;vertical-align:middle;\" /></a></td></tr>\n",
       "<tr><td>5</td><td>Literal</td><td></td><td><a class=\"ProveItLink\" href=\"../../../../negation/__pv_it/common/1a811a997e5d75fdb50cdaf74f302daccad39af40/expr.ipynb\"><img src=\"../../../../negation/__pv_it/common/1a811a997e5d75fdb50cdaf74f302daccad39af40/expr.png\" style=\"display:inline;vertical-align:middle;\" /></a></td></tr>\n",
       "<tr><td>6</td><td>ExprTuple</td><td>7</td><td><a class=\"ProveItLink\" href=\"../551f572f9734e8a626c8d7934d4f994af04a0f910/expr.ipynb\"><img src=\"../551f572f9734e8a626c8d7934d4f994af04a0f910/expr.png\" style=\"display:inline;vertical-align:middle;\" /></a></td></tr>\n",
       "<tr><td>7</td><td>Operation</td><td>operator:&nbsp;8<br>operands:&nbsp;9<br></td><td><a class=\"ProveItLink\" href=\"../../../../../../core_expr_types/__pv_it/common/354c982fd0f502112bf4694db5f23a5833ec2bdf0/expr.ipynb\"><img src=\"../../../../../../core_expr_types/__pv_it/common/354c982fd0f502112bf4694db5f23a5833ec2bdf0/expr.png\" style=\"display:inline;vertical-align:middle;\" /></a></td></tr>\n",
       "<tr><td>8</td><td>Variable</td><td></td><td><a class=\"ProveItLink\" href=\"../../../../../../__pv_it/common/de55da274ba0f49c86925fbf3828021c04d27faf0/expr.ipynb\"><img src=\"../../../../../../__pv_it/common/de55da274ba0f49c86925fbf3828021c04d27faf0/expr.png\" style=\"display:inline;vertical-align:middle;\" /></a></td></tr>\n",
       "<tr><td>9</td><td>ExprTuple</td><td>10</td><td><a class=\"ProveItLink\" href=\"../../../../../../core_expr_types/__pv_it/common/3e6f103b1536f1d5f586682ee3b57d9899deba720/expr.ipynb\"><img src=\"../../../../../../core_expr_types/__pv_it/common/3e6f103b1536f1d5f586682ee3b57d9899deba720/expr.png\" style=\"display:inline;vertical-align:middle;\" /></a></td></tr>\n",
       "<tr><td>10</td><td>ExprRange</td><td>lambda_map:&nbsp;11<br>start_index:&nbsp;12<br>end_index:&nbsp;13<br></td><td><a class=\"ProveItLink\" href=\"../../../../../../core_expr_types/__pv_it/common/bcf5ce1b1593e9c2c261618d94fd21c2cd04eae40/expr.ipynb\"><img src=\"../../../../../../core_expr_types/__pv_it/common/bcf5ce1b1593e9c2c261618d94fd21c2cd04eae40/expr.png\" style=\"display:inline;vertical-align:middle;\" /></a></td></tr>\n",
       "<tr><td>11</td><td>Lambda</td><td>parameter:&nbsp;17<br>body:&nbsp;14<br></td><td><a class=\"ProveItLink\" href=\"../../../../../../core_expr_types/__pv_it/common/47ca082a5e3217d68f414fa9b5fb4cf7b07e06430/expr.ipynb\"><img src=\"../../../../../../core_expr_types/__pv_it/common/47ca082a5e3217d68f414fa9b5fb4cf7b07e06430/expr.png\" style=\"display:inline;vertical-align:middle;\" /></a></td></tr>\n",
       "<tr><td>12</td><td>Literal</td><td></td><td><a class=\"ProveItLink\" href=\"../../../../../../numbers/numerals/__pv_it/common/682157d4892d216d9e5626ed533aff9b56b9506e0/expr.ipynb\"><img src=\"../../../../../../numbers/numerals/__pv_it/common/682157d4892d216d9e5626ed533aff9b56b9506e0/expr.png\" style=\"display:inline;vertical-align:middle;\" /></a></td></tr>\n",
       "<tr><td>13</td><td>Variable</td><td></td><td><a class=\"ProveItLink\" href=\"../../../../../../__pv_it/common/8968bb04eb3f7dfa02353397ce929b025bbd79c20/expr.ipynb\"><img src=\"../../../../../../__pv_it/common/8968bb04eb3f7dfa02353397ce929b025bbd79c20/expr.png\" style=\"display:inline;vertical-align:middle;\" /></a></td></tr>\n",
       "<tr><td>14</td><td>IndexedVar</td><td>variable:&nbsp;15<br>index:&nbsp;17<br></td><td><a class=\"ProveItLink\" href=\"../../../../../../core_expr_types/__pv_it/common/dd83f4522fafc6cf7fa80e461f3330c821446f0a0/expr.ipynb\"><img src=\"../../../../../../core_expr_types/__pv_it/common/dd83f4522fafc6cf7fa80e461f3330c821446f0a0/expr.png\" style=\"display:inline;vertical-align:middle;\" /></a></td></tr>\n",
       "<tr><td>15</td><td>Variable</td><td></td><td><a class=\"ProveItLink\" href=\"../../../../../../__pv_it/common/ff7dba4ef0bbe791ab573bf2d9c220a304399ac80/expr.ipynb\"><img src=\"../../../../../../__pv_it/common/ff7dba4ef0bbe791ab573bf2d9c220a304399ac80/expr.png\" style=\"display:inline;vertical-align:middle;\" /></a></td></tr>\n",
       "<tr><td>16</td><td>ExprTuple</td><td>17</td><td><a class=\"ProveItLink\" href=\"../../../../../../core_expr_types/__pv_it/common/4b0dd6be36d76552eda6a95d5b4a27f5a5b62f900/expr.ipynb\"><img src=\"../../../../../../core_expr_types/__pv_it/common/4b0dd6be36d76552eda6a95d5b4a27f5a5b62f900/expr.png\" style=\"display:inline;vertical-align:middle;\" /></a></td></tr>\n",
       "<tr><td>17</td><td>Variable</td><td></td><td><a class=\"ProveItLink\" href=\"../../../../../../core_expr_types/__pv_it/common/006c465e50948aa2b52285e2de47974f741255cc0/expr.ipynb\"><img src=\"../../../../../../core_expr_types/__pv_it/common/006c465e50948aa2b52285e2de47974f741255cc0/expr.png\" style=\"display:inline;vertical-align:middle;\" /></a></td></tr>\n",
       "</table>\n"
      ],
      "text/plain": [
       "0. notexists_{y_{1}, y_{2}, ..., y_{n}} [not](P(y_{1}, y_{2}, ..., y_{n}))\n",
       "   core type: Operation\n",
       "   operator: 1\n",
       "   operand: 3\n",
       "1. notexists\n",
       "   core type: Literal\n",
       "   sub-expressions: \n",
       "2. ((y_{1}, y_{2}, ..., y_{n}) -> [not](P(y_{1}, y_{2}, ..., y_{n})))\n",
       "   core type: ExprTuple\n",
       "   sub-expressions: 3\n",
       "3. (y_{1}, y_{2}, ..., y_{n}) -> [not](P(y_{1}, y_{2}, ..., y_{n}))\n",
       "   core type: Lambda\n",
       "   parameters: 9\\n   body: 4\n",
       "4. [not](P(y_{1}, y_{2}, ..., y_{n}))\n",
       "   core type: Operation\n",
       "   operator: 5\n",
       "   operand: 7\n",
       "5. not\n",
       "   core type: Literal\n",
       "   sub-expressions: \n",
       "6. (P(y_{1}, y_{2}, ..., y_{n}))\n",
       "   core type: ExprTuple\n",
       "   sub-expressions: 7\n",
       "7. P(y_{1}, y_{2}, ..., y_{n})\n",
       "   core type: Operation\n",
       "   operator: 8\n",
       "   operands: 9\n",
       "8. P\n",
       "   core type: Variable\n",
       "   sub-expressions: \n",
       "9. (y_{1}, y_{2}, ..., y_{n})\n",
       "   core type: ExprTuple\n",
       "   sub-expressions: 10\n",
       "10. y_{1}, y_{2}, ..., y_{n}\n",
       "    core type: ExprRange\n",
       "    lambda_map: 11\n",
       "    start_index: 12\n",
       "    end_index: 13\n",
       "11. _a -> y_{_a}\n",
       "    core type: Lambda\n",
       "    parameter: 17\n",
       "    body: 14\n",
       "12. 1\n",
       "    core type: Literal\n",
       "    sub-expressions: \n",
       "13. n\n",
       "    core type: Variable\n",
       "    sub-expressions: \n",
       "14. y_{_a}\n",
       "    core type: IndexedVar\n",
       "variable: 15\n",
       "index: 17\n",
       "15. y\n",
       "    core type: Variable\n",
       "    sub-expressions: \n",
       "16. (_a)\n",
       "    core type: ExprTuple\n",
       "    sub-expressions: 17\n",
       "17. _a\n",
       "    core type: Variable\n",
       "    sub-expressions: "
      ]
     },
     "metadata": {},
     "output_type": "display_data"
    }
   ],
   "source": [
    "# display the expression information\n",
    "stored_expr.expr_info()"
   ]
  },
  {
   "cell_type": "code",
   "execution_count": null,
   "metadata": {},
   "outputs": [],
   "source": []
  }
 ],
 "metadata": {
  "kernelspec": {
   "display_name": "Python 3",
   "language": "python",
   "name": "python3"
  }
 },
 "nbformat": 4,
 "nbformat_minor": 0
}