{
 "cells": [
  {
   "cell_type": "markdown",
   "metadata": {},
   "source": [
    "Expression of type <a class=\"ProveItLink\" href=\"../../../../../../../../../doc/html/api/proveit.Conditional.html\">Conditional</a>\n",
    "=======================\n",
    "# from the theory of <a class=\"ProveItLink\" href=\"../../../_theory_nbs_/theory.ipynb\">proveit.logic.booleans.quantification.existence</a>"
   ]
  },
  {
   "cell_type": "code",
   "execution_count": 1,
   "metadata": {},
   "outputs": [],
   "source": [
    "import proveit\n",
    "# Automation is not needed when building an expression:\n",
    "proveit.defaults.automation = False # This will speed things up.\n",
    "proveit.defaults.inline_pngs = False # Makes files smaller.\n",
    "%load_expr # Load the stored expression as 'stored_expr'\n",
    "# import Expression classes needed to build the expression\n",
    "from proveit import Conditional, P, Q, n\n",
    "from proveit.logic import Forall, Implies, InSet, Not\n",
    "from proveit.logic.booleans.quantification import general_exists_Px_st_Qx, general_notexists_Py_st_Qy\n",
    "from proveit.numbers import NaturalPos"
   ]
  },
  {
   "cell_type": "code",
   "execution_count": 2,
   "metadata": {},
   "outputs": [
    {
     "data": {
      "text/html": [
       "<strong id=\"expr\">expr:</strong> <a class=\"ProveItLink\" href=\"expr.ipynb\"><img src=\"expr.png\" style=\"display:inline;vertical-align:middle;\" /></a><br>"
      ],
      "text/plain": [
       "<IPython.core.display.HTML object>"
      ]
     },
     "metadata": {},
     "output_type": "display_data"
    }
   ],
   "source": [
    "# build up the expression from sub-expressions\n",
    "expr = Conditional(Forall(instance_param_or_params = [P, Q], instance_expr = Implies(Not(general_exists_Px_st_Qx), general_notexists_Py_st_Qy).with_wrapping_at(2)), InSet(n, NaturalPos))"
   ]
  },
  {
   "cell_type": "code",
   "execution_count": 3,
   "metadata": {},
   "outputs": [
    {
     "name": "stdout",
     "output_type": "stream",
     "text": [
      "Passed sanity check: expr matches stored_expr\n"
     ]
    }
   ],
   "source": [
    "# check that the built expression is the same as the stored expression\n",
    "assert expr == stored_expr\n",
    "assert expr._style_id == stored_expr._style_id\n",
    "print(\"Passed sanity check: expr matches stored_expr\")"
   ]
  },
  {
   "cell_type": "code",
   "execution_count": 4,
   "metadata": {},
   "outputs": [
    {
     "name": "stdout",
     "output_type": "stream",
     "text": [
      "\\left\\{\\forall_{P, Q}~\\left(\\begin{array}{c} \\begin{array}{l} (\\lnot \\left[\\exists_{x_{1}, x_{2}, \\ldots, x_{n}~|~Q\\left(x_{1}, x_{2}, \\ldots, x_{n}\\right)}~P\\left(x_{1}, x_{2}, \\ldots, x_{n}\\right)\\right]) \\Rightarrow  \\\\ \\left[\\nexists_{y_{1}, y_{2}, \\ldots, y_{n}~|~Q\\left(y_{1}, y_{2}, \\ldots, y_{n}\\right)}~P\\left(y_{1}, y_{2}, \\ldots, y_{n}\\right)\\right] \\end{array} \\end{array}\\right) \\textrm{ if } n \\in \\mathbb{N}^+\\right..\n"
     ]
    }
   ],
   "source": [
    "# Show the LaTeX representation of the expression for convenience if you need it.\n",
    "print(stored_expr.latex())"
   ]
  },
  {
   "cell_type": "code",
   "execution_count": 5,
   "metadata": {},
   "outputs": [
    {
     "data": {
      "text/html": [
       "<table>\n",
       "<tr><th>name</th><th>description</th><th>default</th><th>current value</th><th>related methods</th></tr><tr><td>condition_delimiter</td><td>'comma' or 'and'</td><td>comma</td><td>comma</td><td>('with_comma_delimiter', 'with_conjunction_delimiter')</td></tr>\n",
       "</table>\n"
      ],
      "text/plain": [
       "style name: condition_delimiter\n",
       "description: 'comma' or 'and'\n",
       "default: comma\n",
       "current value: comma\n",
       "related methods: ('with_comma_delimiter', 'with_conjunction_delimiter')"
      ]
     },
     "metadata": {},
     "output_type": "display_data"
    }
   ],
   "source": [
    "stored_expr.style_options()"
   ]
  },
  {
   "cell_type": "code",
   "execution_count": 6,
   "metadata": {},
   "outputs": [
    {
     "data": {
      "text/html": [
       "<table><tr><th>&nbsp;</th><th>core type</th><th>sub-expressions</th><th>expression</th></tr>\n",
       "<tr><td>0</td><td>Conditional</td><td>value:&nbsp;1<br>condition:&nbsp;2<br></td><td><a class=\"ProveItLink\" href=\"expr.ipynb\"><img src=\"expr.png\" style=\"display:inline;vertical-align:middle;\" /></a></td></tr>\n",
       "<tr><td>1</td><td>Operation</td><td>operator:&nbsp;3<br>operand:&nbsp;7<br></td><td><a class=\"ProveItLink\" href=\"../c1f815b7d75027392ba83b70d83d959f43ff1b210/expr.ipynb\"><img src=\"../c1f815b7d75027392ba83b70d83d959f43ff1b210/expr.png\" style=\"display:inline;vertical-align:middle;\" /></a></td></tr>\n",
       "<tr><td>2</td><td>Operation</td><td>operator:&nbsp;5<br>operands:&nbsp;6<br></td><td><a class=\"ProveItLink\" href=\"../c3c0a0522590e024022c8052cabac138164190560/expr.ipynb\"><img src=\"../c3c0a0522590e024022c8052cabac138164190560/expr.png\" style=\"display:inline;vertical-align:middle;\" /></a></td></tr>\n",
       "<tr><td>3</td><td>Literal</td><td></td><td><a class=\"ProveItLink\" href=\"../../../../universality/__pv_it/common/083d2baa0b8ecab1d230f9ec29a15aa1355809fb0/expr.ipynb\"><img src=\"../../../../universality/__pv_it/common/083d2baa0b8ecab1d230f9ec29a15aa1355809fb0/expr.png\" style=\"display:inline;vertical-align:middle;\" /></a></td></tr>\n",
       "<tr><td>4</td><td>ExprTuple</td><td>7</td><td><a class=\"ProveItLink\" href=\"../edbdc3eacbb22193eb367af30813ed731bda01a80/expr.ipynb\"><img src=\"../edbdc3eacbb22193eb367af30813ed731bda01a80/expr.png\" style=\"display:inline;vertical-align:middle;\" /></a></td></tr>\n",
       "<tr><td>5</td><td>Literal</td><td></td><td><a class=\"ProveItLink\" href=\"../../../../../../sets/membership/__pv_it/common/477487d8796864d23d5810f83761435f25167f690/expr.ipynb\"><img src=\"../../../../../../sets/membership/__pv_it/common/477487d8796864d23d5810f83761435f25167f690/expr.png\" style=\"display:inline;vertical-align:middle;\" /></a></td></tr>\n",
       "<tr><td>6</td><td>ExprTuple</td><td>38, 8</td><td><a class=\"ProveItLink\" href=\"../4459dda147b56e10026c83203ced1bc32b9704ab0/expr.ipynb\"><img src=\"../4459dda147b56e10026c83203ced1bc32b9704ab0/expr.png\" style=\"display:inline;vertical-align:middle;\" /></a></td></tr>\n",
       "<tr><td>7</td><td>Lambda</td><td>parameters:&nbsp;9<br>body:&nbsp;10<br></td><td><a class=\"ProveItLink\" href=\"../e9133e2b1b4ab26098b5edf8f4d371a07b9ae78c0/expr.ipynb\"><img src=\"../e9133e2b1b4ab26098b5edf8f4d371a07b9ae78c0/expr.png\" style=\"display:inline;vertical-align:middle;\" /></a></td></tr>\n",
       "<tr><td>8</td><td>Literal</td><td></td><td><a class=\"ProveItLink\" href=\"../../../../../../../numbers/number_sets/natural_numbers/__pv_it/common/6111329435c43892c831c4793de96afbf80bdb3e0/expr.ipynb\"><img src=\"../../../../../../../numbers/number_sets/natural_numbers/__pv_it/common/6111329435c43892c831c4793de96afbf80bdb3e0/expr.png\" style=\"display:inline;vertical-align:middle;\" /></a></td></tr>\n",
       "<tr><td>9</td><td>ExprTuple</td><td>30, 31</td><td><a class=\"ProveItLink\" href=\"../c4c1f21d6347f60062175d1a42df20cb07a4deb80/expr.ipynb\"><img src=\"../c4c1f21d6347f60062175d1a42df20cb07a4deb80/expr.png\" style=\"display:inline;vertical-align:middle;\" /></a></td></tr>\n",
       "<tr><td>10</td><td>Operation</td><td>operator:&nbsp;11<br>operands:&nbsp;12<br></td><td><a class=\"ProveItLink\" href=\"../917d207ba8aea3871ec231d2cb0990ca52f3c0cf0/expr.ipynb\"><img src=\"../917d207ba8aea3871ec231d2cb0990ca52f3c0cf0/expr.png\" style=\"display:inline;vertical-align:middle;\" /></a></td></tr>\n",
       "<tr><td>11</td><td>Literal</td><td></td><td><a class=\"ProveItLink\" href=\"../../../../../implication/__pv_it/common/02bdb382575728da8cdbaed545b9096ea7a1bd5b0/expr.ipynb\"><img src=\"../../../../../implication/__pv_it/common/02bdb382575728da8cdbaed545b9096ea7a1bd5b0/expr.png\" style=\"display:inline;vertical-align:middle;\" /></a></td></tr>\n",
       "<tr><td>12</td><td>ExprTuple</td><td>13, 14</td><td><a class=\"ProveItLink\" href=\"../a4ba81684c48cdd2ffbc91393e039869328338e80/expr.ipynb\"><img src=\"../a4ba81684c48cdd2ffbc91393e039869328338e80/expr.png\" style=\"display:inline;vertical-align:middle;\" /></a></td></tr>\n",
       "<tr><td>13</td><td>Operation</td><td>operator:&nbsp;15<br>operand:&nbsp;18<br></td><td><a class=\"ProveItLink\" href=\"../4cbbcb5af0e3eab81aaf9754c7016d5c83525d980/expr.ipynb\"><img src=\"../4cbbcb5af0e3eab81aaf9754c7016d5c83525d980/expr.png\" style=\"display:inline;vertical-align:middle;\" /></a></td></tr>\n",
       "<tr><td>14</td><td>Operation</td><td>operator:&nbsp;17<br>operand:&nbsp;22<br></td><td><a class=\"ProveItLink\" href=\"../../../../__pv_it/common/2743ed3866001974a5f8a1d0449d10a1320093b00/expr.ipynb\"><img src=\"../../../../__pv_it/common/2743ed3866001974a5f8a1d0449d10a1320093b00/expr.png\" style=\"display:inline;vertical-align:middle;\" /></a></td></tr>\n",
       "<tr><td>15</td><td>Literal</td><td></td><td><a class=\"ProveItLink\" href=\"../../../../../negation/__pv_it/common/1a811a997e5d75fdb50cdaf74f302daccad39af40/expr.ipynb\"><img src=\"../../../../../negation/__pv_it/common/1a811a997e5d75fdb50cdaf74f302daccad39af40/expr.png\" style=\"display:inline;vertical-align:middle;\" /></a></td></tr>\n",
       "<tr><td>16</td><td>ExprTuple</td><td>18</td><td><a class=\"ProveItLink\" href=\"../0e7c7235131d3df5e9a3d400e791e2858b71e6550/expr.ipynb\"><img src=\"../0e7c7235131d3df5e9a3d400e791e2858b71e6550/expr.png\" style=\"display:inline;vertical-align:middle;\" /></a></td></tr>\n",
       "<tr><td>17</td><td>Literal</td><td></td><td><a class=\"ProveItLink\" href=\"../../common/669b21f12f1d528c761f5d2e0039e16abc982b0f0/expr.ipynb\"><img src=\"../../common/669b21f12f1d528c761f5d2e0039e16abc982b0f0/expr.png\" style=\"display:inline;vertical-align:middle;\" /></a></td></tr>\n",
       "<tr><td>18</td><td>Operation</td><td>operator:&nbsp;19<br>operand:&nbsp;22<br></td><td><a class=\"ProveItLink\" href=\"../../../../__pv_it/common/b1921585ebb165238ef2d3470ef01b6c7f2cb8190/expr.ipynb\"><img src=\"../../../../__pv_it/common/b1921585ebb165238ef2d3470ef01b6c7f2cb8190/expr.png\" style=\"display:inline;vertical-align:middle;\" /></a></td></tr>\n",
       "<tr><td>19</td><td>Literal</td><td></td><td><a class=\"ProveItLink\" href=\"../../common/fedc3809ed9823aab11264c156786a59540352e70/expr.ipynb\"><img src=\"../../common/fedc3809ed9823aab11264c156786a59540352e70/expr.png\" style=\"display:inline;vertical-align:middle;\" /></a></td></tr>\n",
       "<tr><td>20</td><td>ExprTuple</td><td>22</td><td><a class=\"ProveItLink\" href=\"../../../../__pv_it/common/cbe3f68315082338f9c1de4cb156e906c187b9c80/expr.ipynb\"><img src=\"../../../../__pv_it/common/cbe3f68315082338f9c1de4cb156e906c187b9c80/expr.png\" style=\"display:inline;vertical-align:middle;\" /></a></td></tr>\n",
       "<tr><td>21</td><td>Conditional</td><td>value:&nbsp;23<br>condition:&nbsp;24<br></td><td><a class=\"ProveItLink\" href=\"../../../../__pv_it/common/68869d26ca68082848b578a73d3c824afe51afea0/expr.ipynb\"><img src=\"../../../../__pv_it/common/68869d26ca68082848b578a73d3c824afe51afea0/expr.png\" style=\"display:inline;vertical-align:middle;\" /></a></td></tr>\n",
       "<tr><td>22</td><td>Lambda</td><td>parameters:&nbsp;32<br>body:&nbsp;25<br></td><td><a class=\"ProveItLink\" href=\"../../../../__pv_it/common/105524e4c9704523f29779cf036e984efabf7a1e0/expr.ipynb\"><img src=\"../../../../__pv_it/common/105524e4c9704523f29779cf036e984efabf7a1e0/expr.png\" style=\"display:inline;vertical-align:middle;\" /></a></td></tr>\n",
       "<tr><td>23</td><td>Operation</td><td>operator:&nbsp;30<br>operands:&nbsp;26<br></td><td><a class=\"ProveItLink\" href=\"../../../../../../../core_expr_types/__pv_it/common/354c982fd0f502112bf4694db5f23a5833ec2bdf0/expr.ipynb\"><img src=\"../../../../../../../core_expr_types/__pv_it/common/354c982fd0f502112bf4694db5f23a5833ec2bdf0/expr.png\" style=\"display:inline;vertical-align:middle;\" /></a></td></tr>\n",
       "<tr><td>24</td><td>Operation</td><td>operator:&nbsp;31<br>operands:&nbsp;26<br></td><td><a class=\"ProveItLink\" href=\"../../../../../../../core_expr_types/__pv_it/common/e38d9e725daa55259ff29a69c9848df141c43acc0/expr.ipynb\"><img src=\"../../../../../../../core_expr_types/__pv_it/common/e38d9e725daa55259ff29a69c9848df141c43acc0/expr.png\" style=\"display:inline;vertical-align:middle;\" /></a></td></tr>\n",
       "<tr><td>25</td><td>Conditional</td><td>value:&nbsp;27<br>condition:&nbsp;28<br></td><td><a class=\"ProveItLink\" href=\"../../../../__pv_it/common/ca9d8cfb5030e6cd59c6bf087701755e39b0c4a40/expr.ipynb\"><img src=\"../../../../__pv_it/common/ca9d8cfb5030e6cd59c6bf087701755e39b0c4a40/expr.png\" style=\"display:inline;vertical-align:middle;\" /></a></td></tr>\n",
       "<tr><td>26</td><td>ExprTuple</td><td>29</td><td><a class=\"ProveItLink\" href=\"../../../../../../../core_expr_types/__pv_it/common/3e6f103b1536f1d5f586682ee3b57d9899deba720/expr.ipynb\"><img src=\"../../../../../../../core_expr_types/__pv_it/common/3e6f103b1536f1d5f586682ee3b57d9899deba720/expr.png\" style=\"display:inline;vertical-align:middle;\" /></a></td></tr>\n",
       "<tr><td>27</td><td>Operation</td><td>operator:&nbsp;30<br>operands:&nbsp;32<br></td><td><a class=\"ProveItLink\" href=\"../../../../../../../core_expr_types/__pv_it/common/bcbe622d6fda27f5c2da727eff45652e5b8413350/expr.ipynb\"><img src=\"../../../../../../../core_expr_types/__pv_it/common/bcbe622d6fda27f5c2da727eff45652e5b8413350/expr.png\" style=\"display:inline;vertical-align:middle;\" /></a></td></tr>\n",
       "<tr><td>28</td><td>Operation</td><td>operator:&nbsp;31<br>operands:&nbsp;32<br></td><td><a class=\"ProveItLink\" href=\"../../../../../../../core_expr_types/__pv_it/common/bf2f905b72ae7caedef50b78edeba9c03ac6d7cd0/expr.ipynb\"><img src=\"../../../../../../../core_expr_types/__pv_it/common/bf2f905b72ae7caedef50b78edeba9c03ac6d7cd0/expr.png\" style=\"display:inline;vertical-align:middle;\" /></a></td></tr>\n",
       "<tr><td>29</td><td>ExprRange</td><td>lambda_map:&nbsp;33<br>start_index:&nbsp;37<br>end_index:&nbsp;38<br></td><td><a class=\"ProveItLink\" href=\"../../../../../../../core_expr_types/__pv_it/common/bcf5ce1b1593e9c2c261618d94fd21c2cd04eae40/expr.ipynb\"><img src=\"../../../../../../../core_expr_types/__pv_it/common/bcf5ce1b1593e9c2c261618d94fd21c2cd04eae40/expr.png\" style=\"display:inline;vertical-align:middle;\" /></a></td></tr>\n",
       "<tr><td>30</td><td>Variable</td><td></td><td><a class=\"ProveItLink\" href=\"../../../../../../../__pv_it/common/de55da274ba0f49c86925fbf3828021c04d27faf0/expr.ipynb\"><img src=\"../../../../../../../__pv_it/common/de55da274ba0f49c86925fbf3828021c04d27faf0/expr.png\" style=\"display:inline;vertical-align:middle;\" /></a></td></tr>\n",
       "<tr><td>31</td><td>Variable</td><td></td><td><a class=\"ProveItLink\" href=\"../../../../../../../__pv_it/common/d72bb8b07403efe79afab564c36a28e21330e5f90/expr.ipynb\"><img src=\"../../../../../../../__pv_it/common/d72bb8b07403efe79afab564c36a28e21330e5f90/expr.png\" style=\"display:inline;vertical-align:middle;\" /></a></td></tr>\n",
       "<tr><td>32</td><td>ExprTuple</td><td>34</td><td><a class=\"ProveItLink\" href=\"../../../../../../../core_expr_types/__pv_it/common/444da5a1d6d4966e75dd84efc2704e338e811fe40/expr.ipynb\"><img src=\"../../../../../../../core_expr_types/__pv_it/common/444da5a1d6d4966e75dd84efc2704e338e811fe40/expr.png\" style=\"display:inline;vertical-align:middle;\" /></a></td></tr>\n",
       "<tr><td>33</td><td>Lambda</td><td>parameter:&nbsp;43<br>body:&nbsp;35<br></td><td><a class=\"ProveItLink\" href=\"../../../../../../../core_expr_types/__pv_it/common/47ca082a5e3217d68f414fa9b5fb4cf7b07e06430/expr.ipynb\"><img src=\"../../../../../../../core_expr_types/__pv_it/common/47ca082a5e3217d68f414fa9b5fb4cf7b07e06430/expr.png\" style=\"display:inline;vertical-align:middle;\" /></a></td></tr>\n",
       "<tr><td>34</td><td>ExprRange</td><td>lambda_map:&nbsp;36<br>start_index:&nbsp;37<br>end_index:&nbsp;38<br></td><td><a class=\"ProveItLink\" href=\"../../../../../../../core_expr_types/__pv_it/common/d50f819f834d55ea1b9fad150926a94bf07ad8fc0/expr.ipynb\"><img src=\"../../../../../../../core_expr_types/__pv_it/common/d50f819f834d55ea1b9fad150926a94bf07ad8fc0/expr.png\" style=\"display:inline;vertical-align:middle;\" /></a></td></tr>\n",
       "<tr><td>35</td><td>IndexedVar</td><td>variable:&nbsp;39<br>index:&nbsp;43<br></td><td><a class=\"ProveItLink\" href=\"../../../../../../../core_expr_types/__pv_it/common/dd83f4522fafc6cf7fa80e461f3330c821446f0a0/expr.ipynb\"><img src=\"../../../../../../../core_expr_types/__pv_it/common/dd83f4522fafc6cf7fa80e461f3330c821446f0a0/expr.png\" style=\"display:inline;vertical-align:middle;\" /></a></td></tr>\n",
       "<tr><td>36</td><td>Lambda</td><td>parameter:&nbsp;43<br>body:&nbsp;40<br></td><td><a class=\"ProveItLink\" href=\"../../../../../../../core_expr_types/__pv_it/common/f8f30fee5e5b4e37951ff8886b574795bf35d80c0/expr.ipynb\"><img src=\"../../../../../../../core_expr_types/__pv_it/common/f8f30fee5e5b4e37951ff8886b574795bf35d80c0/expr.png\" style=\"display:inline;vertical-align:middle;\" /></a></td></tr>\n",
       "<tr><td>37</td><td>Literal</td><td></td><td><a class=\"ProveItLink\" href=\"../../../../../../../numbers/numerals/__pv_it/common/682157d4892d216d9e5626ed533aff9b56b9506e0/expr.ipynb\"><img src=\"../../../../../../../numbers/numerals/__pv_it/common/682157d4892d216d9e5626ed533aff9b56b9506e0/expr.png\" style=\"display:inline;vertical-align:middle;\" /></a></td></tr>\n",
       "<tr><td>38</td><td>Variable</td><td></td><td><a class=\"ProveItLink\" href=\"../../../../../../../__pv_it/common/8968bb04eb3f7dfa02353397ce929b025bbd79c20/expr.ipynb\"><img src=\"../../../../../../../__pv_it/common/8968bb04eb3f7dfa02353397ce929b025bbd79c20/expr.png\" style=\"display:inline;vertical-align:middle;\" /></a></td></tr>\n",
       "<tr><td>39</td><td>Variable</td><td></td><td><a class=\"ProveItLink\" href=\"../../../../../../../__pv_it/common/ff7dba4ef0bbe791ab573bf2d9c220a304399ac80/expr.ipynb\"><img src=\"../../../../../../../__pv_it/common/ff7dba4ef0bbe791ab573bf2d9c220a304399ac80/expr.png\" style=\"display:inline;vertical-align:middle;\" /></a></td></tr>\n",
       "<tr><td>40</td><td>IndexedVar</td><td>variable:&nbsp;41<br>index:&nbsp;43<br></td><td><a class=\"ProveItLink\" href=\"../../../../../../../core_expr_types/__pv_it/common/b7a46615d4e67a28ab963909b818c72af8e8e7c60/expr.ipynb\"><img src=\"../../../../../../../core_expr_types/__pv_it/common/b7a46615d4e67a28ab963909b818c72af8e8e7c60/expr.png\" style=\"display:inline;vertical-align:middle;\" /></a></td></tr>\n",
       "<tr><td>41</td><td>Variable</td><td></td><td><a class=\"ProveItLink\" href=\"../../../../../../../__pv_it/common/a0d9d672aa5e272d907247690c152cc2c6daafb70/expr.ipynb\"><img src=\"../../../../../../../__pv_it/common/a0d9d672aa5e272d907247690c152cc2c6daafb70/expr.png\" style=\"display:inline;vertical-align:middle;\" /></a></td></tr>\n",
       "<tr><td>42</td><td>ExprTuple</td><td>43</td><td><a class=\"ProveItLink\" href=\"../../../../../../../core_expr_types/__pv_it/common/4b0dd6be36d76552eda6a95d5b4a27f5a5b62f900/expr.ipynb\"><img src=\"../../../../../../../core_expr_types/__pv_it/common/4b0dd6be36d76552eda6a95d5b4a27f5a5b62f900/expr.png\" style=\"display:inline;vertical-align:middle;\" /></a></td></tr>\n",
       "<tr><td>43</td><td>Variable</td><td></td><td><a class=\"ProveItLink\" href=\"../../../../../../../core_expr_types/__pv_it/common/006c465e50948aa2b52285e2de47974f741255cc0/expr.ipynb\"><img src=\"../../../../../../../core_expr_types/__pv_it/common/006c465e50948aa2b52285e2de47974f741255cc0/expr.png\" style=\"display:inline;vertical-align:middle;\" /></a></td></tr>\n",
       "</table>\n"
      ],
      "text/plain": [
       "0. {forall_{P, Q} ([not](exists_{x_{1}, x_{2}, ..., x_{n} | Q(x_{1}, x_{2}, ..., x_{n})} P(x_{1}, x_{2}, ..., x_{n})) =>  \\\\ [notexists_{y_{1}, y_{2}, ..., y_{n} | Q(y_{1}, y_{2}, ..., y_{n})} P(y_{1}, y_{2}, ..., y_{n})]) if n in NaturalPos.\n",
       "   core type: Conditional\n",
       "   value: 1\n",
       "   condition: 2\n",
       "1. forall_{P, Q} ([not](exists_{x_{1}, x_{2}, ..., x_{n} | Q(x_{1}, x_{2}, ..., x_{n})} P(x_{1}, x_{2}, ..., x_{n})) =>  \\\\ [notexists_{y_{1}, y_{2}, ..., y_{n} | Q(y_{1}, y_{2}, ..., y_{n})} P(y_{1}, y_{2}, ..., y_{n})])\n",
       "   core type: Operation\n",
       "   operator: 3\n",
       "   operand: 7\n",
       "2. n in NaturalPos\n",
       "   core type: Operation\n",
       "   operator: 5\n",
       "   operands: 6\n",
       "3. forall\n",
       "   core type: Literal\n",
       "   sub-expressions: \n",
       "4. ((P, Q) -> ([not](exists_{x_{1}, x_{2}, ..., x_{n} | Q(x_{1}, x_{2}, ..., x_{n})} P(x_{1}, x_{2}, ..., x_{n})) =>  \\\\ [notexists_{y_{1}, y_{2}, ..., y_{n} | Q(y_{1}, y_{2}, ..., y_{n})} P(y_{1}, y_{2}, ..., y_{n})]))\n",
       "   core type: ExprTuple\n",
       "   sub-expressions: 7\n",
       "5. in\n",
       "   core type: Literal\n",
       "   sub-expressions: \n",
       "6. (n, NaturalPos)\n",
       "   core type: ExprTuple\n",
       "   sub-expressions: 38, 8\n",
       "7. (P, Q) -> ([not](exists_{x_{1}, x_{2}, ..., x_{n} | Q(x_{1}, x_{2}, ..., x_{n})} P(x_{1}, x_{2}, ..., x_{n})) =>  \\\\ [notexists_{y_{1}, y_{2}, ..., y_{n} | Q(y_{1}, y_{2}, ..., y_{n})} P(y_{1}, y_{2}, ..., y_{n})])\n",
       "   core type: Lambda\n",
       "   parameters: 9\\n   body: 10\n",
       "8. NaturalPos\n",
       "   core type: Literal\n",
       "   sub-expressions: \n",
       "9. (P, Q)\n",
       "   core type: ExprTuple\n",
       "   sub-expressions: 30, 31\n",
       "10. [not](exists_{x_{1}, x_{2}, ..., x_{n} | Q(x_{1}, x_{2}, ..., x_{n})} P(x_{1}, x_{2}, ..., x_{n})) =>  \\\\ [notexists_{y_{1}, y_{2}, ..., y_{n} | Q(y_{1}, y_{2}, ..., y_{n})} P(y_{1}, y_{2}, ..., y_{n})]\n",
       "    core type: Operation\n",
       "    operator: 11\n",
       "    operands: 12\n",
       "11. =>\n",
       "    core type: Literal\n",
       "    sub-expressions: \n",
       "12. ([not](exists_{x_{1}, x_{2}, ..., x_{n} | Q(x_{1}, x_{2}, ..., x_{n})} P(x_{1}, x_{2}, ..., x_{n})), notexists_{y_{1}, y_{2}, ..., y_{n} | Q(y_{1}, y_{2}, ..., y_{n})} P(y_{1}, y_{2}, ..., y_{n}))\n",
       "    core type: ExprTuple\n",
       "    sub-expressions: 13, 14\n",
       "13. [not](exists_{x_{1}, x_{2}, ..., x_{n} | Q(x_{1}, x_{2}, ..., x_{n})} P(x_{1}, x_{2}, ..., x_{n}))\n",
       "    core type: Operation\n",
       "    operator: 15\n",
       "    operand: 18\n",
       "14. notexists_{y_{1}, y_{2}, ..., y_{n} | Q(y_{1}, y_{2}, ..., y_{n})} P(y_{1}, y_{2}, ..., y_{n})\n",
       "    core type: Operation\n",
       "    operator: 17\n",
       "    operand: 22\n",
       "15. not\n",
       "    core type: Literal\n",
       "    sub-expressions: \n",
       "16. (exists_{x_{1}, x_{2}, ..., x_{n} | Q(x_{1}, x_{2}, ..., x_{n})} P(x_{1}, x_{2}, ..., x_{n}))\n",
       "    core type: ExprTuple\n",
       "    sub-expressions: 18\n",
       "17. notexists\n",
       "    core type: Literal\n",
       "    sub-expressions: \n",
       "18. exists_{x_{1}, x_{2}, ..., x_{n} | Q(x_{1}, x_{2}, ..., x_{n})} P(x_{1}, x_{2}, ..., x_{n})\n",
       "    core type: Operation\n",
       "    operator: 19\n",
       "    operand: 22\n",
       "19. exists\n",
       "    core type: Literal\n",
       "    sub-expressions: \n",
       "20. ((x_{1}, x_{2}, ..., x_{n}) -> {P(x_{1}, x_{2}, ..., x_{n}) if Q(x_{1}, x_{2}, ..., x_{n}).)\n",
       "    core type: ExprTuple\n",
       "    sub-expressions: 22\n",
       "21. {P(y_{1}, y_{2}, ..., y_{n}) if Q(y_{1}, y_{2}, ..., y_{n}).\n",
       "    core type: Conditional\n",
       "    value: 23\n",
       "    condition: 24\n",
       "22. (x_{1}, x_{2}, ..., x_{n}) -> {P(x_{1}, x_{2}, ..., x_{n}) if Q(x_{1}, x_{2}, ..., x_{n}).\n",
       "    core type: Lambda\n",
       "    parameters: 32\\n    body: 25\n",
       "23. P(y_{1}, y_{2}, ..., y_{n})\n",
       "    core type: Operation\n",
       "    operator: 30\n",
       "    operands: 26\n",
       "24. Q(y_{1}, y_{2}, ..., y_{n})\n",
       "    core type: Operation\n",
       "    operator: 31\n",
       "    operands: 26\n",
       "25. {P(x_{1}, x_{2}, ..., x_{n}) if Q(x_{1}, x_{2}, ..., x_{n}).\n",
       "    core type: Conditional\n",
       "    value: 27\n",
       "    condition: 28\n",
       "26. (y_{1}, y_{2}, ..., y_{n})\n",
       "    core type: ExprTuple\n",
       "    sub-expressions: 29\n",
       "27. P(x_{1}, x_{2}, ..., x_{n})\n",
       "    core type: Operation\n",
       "    operator: 30\n",
       "    operands: 32\n",
       "28. Q(x_{1}, x_{2}, ..., x_{n})\n",
       "    core type: Operation\n",
       "    operator: 31\n",
       "    operands: 32\n",
       "29. y_{1}, y_{2}, ..., y_{n}\n",
       "    core type: ExprRange\n",
       "    lambda_map: 33\n",
       "    start_index: 37\n",
       "    end_index: 38\n",
       "30. P\n",
       "    core type: Variable\n",
       "    sub-expressions: \n",
       "31. Q\n",
       "    core type: Variable\n",
       "    sub-expressions: \n",
       "32. (x_{1}, x_{2}, ..., x_{n})\n",
       "    core type: ExprTuple\n",
       "    sub-expressions: 34\n",
       "33. _a -> y_{_a}\n",
       "    core type: Lambda\n",
       "    parameter: 43\n",
       "    body: 35\n",
       "34. x_{1}, x_{2}, ..., x_{n}\n",
       "    core type: ExprRange\n",
       "    lambda_map: 36\n",
       "    start_index: 37\n",
       "    end_index: 38\n",
       "35. y_{_a}\n",
       "    core type: IndexedVar\n",
       "variable: 39\n",
       "index: 43\n",
       "36. _a -> x_{_a}\n",
       "    core type: Lambda\n",
       "    parameter: 43\n",
       "    body: 40\n",
       "37. 1\n",
       "    core type: Literal\n",
       "    sub-expressions: \n",
       "38. n\n",
       "    core type: Variable\n",
       "    sub-expressions: \n",
       "39. y\n",
       "    core type: Variable\n",
       "    sub-expressions: \n",
       "40. x_{_a}\n",
       "    core type: IndexedVar\n",
       "variable: 41\n",
       "index: 43\n",
       "41. x\n",
       "    core type: Variable\n",
       "    sub-expressions: \n",
       "42. (_a)\n",
       "    core type: ExprTuple\n",
       "    sub-expressions: 43\n",
       "43. _a\n",
       "    core type: Variable\n",
       "    sub-expressions: "
      ]
     },
     "metadata": {},
     "output_type": "display_data"
    }
   ],
   "source": [
    "# display the expression information\n",
    "stored_expr.expr_info()"
   ]
  },
  {
   "cell_type": "code",
   "execution_count": null,
   "metadata": {},
   "outputs": [],
   "source": []
  }
 ],
 "metadata": {
  "kernelspec": {
   "display_name": "Python 3",
   "language": "python",
   "name": "python3"
  }
 },
 "nbformat": 4,
 "nbformat_minor": 0
}