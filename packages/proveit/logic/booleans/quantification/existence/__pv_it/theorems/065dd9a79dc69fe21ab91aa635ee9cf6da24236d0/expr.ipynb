{
 "cells": [
  {
   "cell_type": "markdown",
   "metadata": {},
   "source": [
    "Expression of type <a class=\"ProveItLink\" href=\"../../../../../../../../../doc/html/api/proveit.logic.Implies.html\">Implies</a>\n",
    "=======================\n",
    "# from the theory of <a class=\"ProveItLink\" href=\"../../../_theory_nbs_/theory.ipynb\">proveit.logic.booleans.quantification.existence</a>"
   ]
  },
  {
   "cell_type": "code",
   "execution_count": 1,
   "metadata": {},
   "outputs": [],
   "source": [
    "import proveit\n",
    "# Automation is not needed when building an expression:\n",
    "proveit.defaults.automation = False # This will speed things up.\n",
    "proveit.defaults.inline_pngs = False # Makes files smaller.\n",
    "%load_expr # Load the stored expression as 'stored_expr'\n",
    "# import Expression classes needed to build the expression\n",
    "from proveit.logic import Implies\n",
    "from proveit.logic.booleans.quantification import general_exists_Py_st_Qy, general_exists_Rz_st_Qz, general_forall_st_Qx__Px_implies_Rx"
   ]
  },
  {
   "cell_type": "code",
   "execution_count": 2,
   "metadata": {},
   "outputs": [
    {
     "data": {
      "text/html": [
       "<strong id=\"expr\">expr:</strong> <a class=\"ProveItLink\" href=\"expr.ipynb\"><img src=\"expr.png\" style=\"display:inline;vertical-align:middle;\" /></a><br>"
      ],
      "text/plain": [
       "<IPython.core.display.HTML object>"
      ]
     },
     "metadata": {},
     "output_type": "display_data"
    }
   ],
   "source": [
    "# build up the expression from sub-expressions\n",
    "expr = Implies(general_forall_st_Qx__Px_implies_Rx, Implies(general_exists_Py_st_Qy, general_exists_Rz_st_Qz).with_wrapping_at(2)).with_wrapping_at(2)"
   ]
  },
  {
   "cell_type": "code",
   "execution_count": 3,
   "metadata": {},
   "outputs": [
    {
     "name": "stdout",
     "output_type": "stream",
     "text": [
      "Passed sanity check: expr matches stored_expr\n"
     ]
    }
   ],
   "source": [
    "# check that the built expression is the same as the stored expression\n",
    "assert expr == stored_expr\n",
    "assert expr._style_id == stored_expr._style_id\n",
    "print(\"Passed sanity check: expr matches stored_expr\")"
   ]
  },
  {
   "cell_type": "code",
   "execution_count": 4,
   "metadata": {},
   "outputs": [
    {
     "name": "stdout",
     "output_type": "stream",
     "text": [
      "\\begin{array}{c} \\begin{array}{l} \\left[\\forall_{x_{1}, x_{2}, \\ldots, x_{n}~|~Q\\left(x_{1}, x_{2}, \\ldots, x_{n}\\right)}~\\left(P\\left(x_{1}, x_{2}, \\ldots, x_{n}\\right) \\Rightarrow R\\left(x_{1}, x_{2}, \\ldots, x_{n}\\right)\\right)\\right] \\Rightarrow  \\\\ \\left(\\begin{array}{c} \\begin{array}{l} \\left[\\exists_{y_{1}, y_{2}, \\ldots, y_{n}~|~Q\\left(y_{1}, y_{2}, \\ldots, y_{n}\\right)}~P\\left(y_{1}, y_{2}, \\ldots, y_{n}\\right)\\right] \\Rightarrow  \\\\ \\left[\\exists_{z_{1}, z_{2}, \\ldots, z_{n}~|~Q\\left(z_{1}, z_{2}, \\ldots, z_{n}\\right)}~R\\left(z_{1}, z_{2}, \\ldots, z_{n}\\right)\\right] \\end{array} \\end{array}\\right) \\end{array} \\end{array}\n"
     ]
    }
   ],
   "source": [
    "# Show the LaTeX representation of the expression for convenience if you need it.\n",
    "print(stored_expr.latex())"
   ]
  },
  {
   "cell_type": "code",
   "execution_count": 5,
   "metadata": {},
   "outputs": [
    {
     "data": {
      "text/html": [
       "<table>\n",
       "<tr><th>name</th><th>description</th><th>default</th><th>current value</th><th>related methods</th></tr><tr><td>operation</td><td>'infix' or 'function' style formatting</td><td>infix</td><td>infix</td><td></td></tr>\n",
       "<tr><td>wrap_positions</td><td>position(s) at which wrapping is to occur; '2 n - 1' is after the nth operand, '2 n' is after the nth operation.</td><td>()</td><td>(2)</td><td>('with_wrapping_at', 'with_wrap_before_operator', 'with_wrap_after_operator', 'without_wrapping', 'wrap_positions')</td></tr>\n",
       "<tr><td>justification</td><td>if any wrap positions are set, justify to the 'left', 'center', or 'right'</td><td>center</td><td>center</td><td>('with_justification',)</td></tr>\n",
       "<tr><td>direction</td><td>Direction of the relation (normal or reversed)</td><td>normal</td><td>normal</td><td>('with_direction_reversed', 'is_reversed')</td></tr>\n",
       "</table>\n"
      ],
      "text/plain": [
       "style name: operation\n",
       "description: 'infix' or 'function' style formatting\n",
       "default: infix\n",
       "current value: infix\n",
       "related methods: ()\n",
       "style name: wrap_positions\n",
       "description: position(s) at which wrapping is to occur; '2 n - 1' is after the nth operand, '2 n' is after the nth operation.\n",
       "default: ()\n",
       "current value: (2)\n",
       "related methods: ('with_wrapping_at', 'with_wrap_before_operator', 'with_wrap_after_operator', 'without_wrapping', 'wrap_positions')\n",
       "style name: justification\n",
       "description: if any wrap positions are set, justify to the 'left', 'center', or 'right'\n",
       "default: center\n",
       "current value: center\n",
       "related methods: ('with_justification',)\n",
       "style name: direction\n",
       "description: Direction of the relation (normal or reversed)\n",
       "default: normal\n",
       "current value: normal\n",
       "related methods: ('with_direction_reversed', 'is_reversed')"
      ]
     },
     "metadata": {},
     "output_type": "display_data"
    }
   ],
   "source": [
    "stored_expr.style_options()"
   ]
  },
  {
   "cell_type": "code",
   "execution_count": 6,
   "metadata": {},
   "outputs": [
    {
     "data": {
      "text/html": [
       "<table><tr><th>&nbsp;</th><th>core type</th><th>sub-expressions</th><th>expression</th></tr>\n",
       "<tr><td>0</td><td>Operation</td><td>operator:&nbsp;18<br>operands:&nbsp;1<br></td><td><a class=\"ProveItLink\" href=\"expr.ipynb\"><img src=\"expr.png\" style=\"display:inline;vertical-align:middle;\" /></a></td></tr>\n",
       "<tr><td>1</td><td>ExprTuple</td><td>2, 3</td><td><a class=\"ProveItLink\" href=\"../f02705fc76f7a87947e9902ee0cca532231d40630/expr.ipynb\"><img src=\"../f02705fc76f7a87947e9902ee0cca532231d40630/expr.png\" style=\"display:inline;vertical-align:middle;\" /></a></td></tr>\n",
       "<tr><td>2</td><td>Operation</td><td>operator:&nbsp;4<br>operand:&nbsp;7<br></td><td><a class=\"ProveItLink\" href=\"../../../../__pv_it/common/cc60a283b1908da18d7b0b6819909039df3bd0eb0/expr.ipynb\"><img src=\"../../../../__pv_it/common/cc60a283b1908da18d7b0b6819909039df3bd0eb0/expr.png\" style=\"display:inline;vertical-align:middle;\" /></a></td></tr>\n",
       "<tr><td>3</td><td>Operation</td><td>operator:&nbsp;18<br>operands:&nbsp;6<br></td><td><a class=\"ProveItLink\" href=\"../63ee90bd0d9994defeb62695de1cf6d19182333b0/expr.ipynb\"><img src=\"../63ee90bd0d9994defeb62695de1cf6d19182333b0/expr.png\" style=\"display:inline;vertical-align:middle;\" /></a></td></tr>\n",
       "<tr><td>4</td><td>Literal</td><td></td><td><a class=\"ProveItLink\" href=\"../../../../universality/__pv_it/common/083d2baa0b8ecab1d230f9ec29a15aa1355809fb0/expr.ipynb\"><img src=\"../../../../universality/__pv_it/common/083d2baa0b8ecab1d230f9ec29a15aa1355809fb0/expr.png\" style=\"display:inline;vertical-align:middle;\" /></a></td></tr>\n",
       "<tr><td>5</td><td>ExprTuple</td><td>7</td><td><a class=\"ProveItLink\" href=\"../../../../__pv_it/common/e23461240a083f58e3d1494fd44ca6acfabe00ae0/expr.ipynb\"><img src=\"../../../../__pv_it/common/e23461240a083f58e3d1494fd44ca6acfabe00ae0/expr.png\" style=\"display:inline;vertical-align:middle;\" /></a></td></tr>\n",
       "<tr><td>6</td><td>ExprTuple</td><td>8, 9</td><td><a class=\"ProveItLink\" href=\"../f6f0f567484fa02f77038f2787fd5366e4aaed1f0/expr.ipynb\"><img src=\"../f6f0f567484fa02f77038f2787fd5366e4aaed1f0/expr.png\" style=\"display:inline;vertical-align:middle;\" /></a></td></tr>\n",
       "<tr><td>7</td><td>Lambda</td><td>parameters:&nbsp;28<br>body:&nbsp;10<br></td><td><a class=\"ProveItLink\" href=\"../../../../__pv_it/common/cdfb25ef550bea7bd1c063ce5271582c744d412f0/expr.ipynb\"><img src=\"../../../../__pv_it/common/cdfb25ef550bea7bd1c063ce5271582c744d412f0/expr.png\" style=\"display:inline;vertical-align:middle;\" /></a></td></tr>\n",
       "<tr><td>8</td><td>Operation</td><td>operator:&nbsp;12<br>operand:&nbsp;16<br></td><td><a class=\"ProveItLink\" href=\"../../../../__pv_it/common/98af65715eb6c41dec97828dea8ccb9a7b951d070/expr.ipynb\"><img src=\"../../../../__pv_it/common/98af65715eb6c41dec97828dea8ccb9a7b951d070/expr.png\" style=\"display:inline;vertical-align:middle;\" /></a></td></tr>\n",
       "<tr><td>9</td><td>Operation</td><td>operator:&nbsp;12<br>operand:&nbsp;17<br></td><td><a class=\"ProveItLink\" href=\"../../../../__pv_it/common/45c4c0c28500946e6f4ebc379f8550bd8983fc2c0/expr.ipynb\"><img src=\"../../../../__pv_it/common/45c4c0c28500946e6f4ebc379f8550bd8983fc2c0/expr.png\" style=\"display:inline;vertical-align:middle;\" /></a></td></tr>\n",
       "<tr><td>10</td><td>Conditional</td><td>value:&nbsp;14<br>condition:&nbsp;15<br></td><td><a class=\"ProveItLink\" href=\"../../../../__pv_it/common/be5c8611b2f90c6b150c4f34343b2ff99bc4e3e20/expr.ipynb\"><img src=\"../../../../__pv_it/common/be5c8611b2f90c6b150c4f34343b2ff99bc4e3e20/expr.png\" style=\"display:inline;vertical-align:middle;\" /></a></td></tr>\n",
       "<tr><td>11</td><td>ExprTuple</td><td>16</td><td><a class=\"ProveItLink\" href=\"../../../../__pv_it/common/80356d88bf1d28266181526857cdbbd43479948f0/expr.ipynb\"><img src=\"../../../../__pv_it/common/80356d88bf1d28266181526857cdbbd43479948f0/expr.png\" style=\"display:inline;vertical-align:middle;\" /></a></td></tr>\n",
       "<tr><td>12</td><td>Literal</td><td></td><td><a class=\"ProveItLink\" href=\"../../common/fedc3809ed9823aab11264c156786a59540352e70/expr.ipynb\"><img src=\"../../common/fedc3809ed9823aab11264c156786a59540352e70/expr.png\" style=\"display:inline;vertical-align:middle;\" /></a></td></tr>\n",
       "<tr><td>13</td><td>ExprTuple</td><td>17</td><td><a class=\"ProveItLink\" href=\"../../../../__pv_it/common/2ea58365dbd8f32de8e6d05caa91cca1cfacd53d0/expr.ipynb\"><img src=\"../../../../__pv_it/common/2ea58365dbd8f32de8e6d05caa91cca1cfacd53d0/expr.png\" style=\"display:inline;vertical-align:middle;\" /></a></td></tr>\n",
       "<tr><td>14</td><td>Operation</td><td>operator:&nbsp;18<br>operands:&nbsp;19<br></td><td><a class=\"ProveItLink\" href=\"../../../../__pv_it/common/9c881bbb994ebf6408b2d76d1456fb03210e24750/expr.ipynb\"><img src=\"../../../../__pv_it/common/9c881bbb994ebf6408b2d76d1456fb03210e24750/expr.png\" style=\"display:inline;vertical-align:middle;\" /></a></td></tr>\n",
       "<tr><td>15</td><td>Operation</td><td>operator:&nbsp;32<br>operands:&nbsp;28<br></td><td><a class=\"ProveItLink\" href=\"../../../../../../../core_expr_types/__pv_it/common/bf2f905b72ae7caedef50b78edeba9c03ac6d7cd0/expr.ipynb\"><img src=\"../../../../../../../core_expr_types/__pv_it/common/bf2f905b72ae7caedef50b78edeba9c03ac6d7cd0/expr.png\" style=\"display:inline;vertical-align:middle;\" /></a></td></tr>\n",
       "<tr><td>16</td><td>Lambda</td><td>parameters:&nbsp;30<br>body:&nbsp;20<br></td><td><a class=\"ProveItLink\" href=\"../../../../__pv_it/common/290b3e099de9c2103d494d862294de751a48d6330/expr.ipynb\"><img src=\"../../../../__pv_it/common/290b3e099de9c2103d494d862294de751a48d6330/expr.png\" style=\"display:inline;vertical-align:middle;\" /></a></td></tr>\n",
       "<tr><td>17</td><td>Lambda</td><td>parameters:&nbsp;33<br>body:&nbsp;21<br></td><td><a class=\"ProveItLink\" href=\"../../../../__pv_it/common/fd49614362fe1ce9d239bef2bb3a5f5e36f8a9a00/expr.ipynb\"><img src=\"../../../../__pv_it/common/fd49614362fe1ce9d239bef2bb3a5f5e36f8a9a00/expr.png\" style=\"display:inline;vertical-align:middle;\" /></a></td></tr>\n",
       "<tr><td>18</td><td>Literal</td><td></td><td><a class=\"ProveItLink\" href=\"../../../../../implication/__pv_it/common/02bdb382575728da8cdbaed545b9096ea7a1bd5b0/expr.ipynb\"><img src=\"../../../../../implication/__pv_it/common/02bdb382575728da8cdbaed545b9096ea7a1bd5b0/expr.png\" style=\"display:inline;vertical-align:middle;\" /></a></td></tr>\n",
       "<tr><td>19</td><td>ExprTuple</td><td>22, 23</td><td><a class=\"ProveItLink\" href=\"../../../../__pv_it/common/44937de39103c679dad1a7a4a9a5bf979da3a7dd0/expr.ipynb\"><img src=\"../../../../__pv_it/common/44937de39103c679dad1a7a4a9a5bf979da3a7dd0/expr.png\" style=\"display:inline;vertical-align:middle;\" /></a></td></tr>\n",
       "<tr><td>20</td><td>Conditional</td><td>value:&nbsp;24<br>condition:&nbsp;25<br></td><td><a class=\"ProveItLink\" href=\"../../../../__pv_it/common/68869d26ca68082848b578a73d3c824afe51afea0/expr.ipynb\"><img src=\"../../../../__pv_it/common/68869d26ca68082848b578a73d3c824afe51afea0/expr.png\" style=\"display:inline;vertical-align:middle;\" /></a></td></tr>\n",
       "<tr><td>21</td><td>Conditional</td><td>value:&nbsp;26<br>condition:&nbsp;27<br></td><td><a class=\"ProveItLink\" href=\"../../../../__pv_it/common/9604e7cb8228866e59faa3a4cb202bbaf0296cc10/expr.ipynb\"><img src=\"../../../../__pv_it/common/9604e7cb8228866e59faa3a4cb202bbaf0296cc10/expr.png\" style=\"display:inline;vertical-align:middle;\" /></a></td></tr>\n",
       "<tr><td>22</td><td>Operation</td><td>operator:&nbsp;29<br>operands:&nbsp;28<br></td><td><a class=\"ProveItLink\" href=\"../../../../../../../core_expr_types/__pv_it/common/bcbe622d6fda27f5c2da727eff45652e5b8413350/expr.ipynb\"><img src=\"../../../../../../../core_expr_types/__pv_it/common/bcbe622d6fda27f5c2da727eff45652e5b8413350/expr.png\" style=\"display:inline;vertical-align:middle;\" /></a></td></tr>\n",
       "<tr><td>23</td><td>Operation</td><td>operator:&nbsp;31<br>operands:&nbsp;28<br></td><td><a class=\"ProveItLink\" href=\"../../../../../../../core_expr_types/__pv_it/common/a03cebe8a7e683bb134d1195c2d0492e93e057940/expr.ipynb\"><img src=\"../../../../../../../core_expr_types/__pv_it/common/a03cebe8a7e683bb134d1195c2d0492e93e057940/expr.png\" style=\"display:inline;vertical-align:middle;\" /></a></td></tr>\n",
       "<tr><td>24</td><td>Operation</td><td>operator:&nbsp;29<br>operands:&nbsp;30<br></td><td><a class=\"ProveItLink\" href=\"../../../../../../../core_expr_types/__pv_it/common/354c982fd0f502112bf4694db5f23a5833ec2bdf0/expr.ipynb\"><img src=\"../../../../../../../core_expr_types/__pv_it/common/354c982fd0f502112bf4694db5f23a5833ec2bdf0/expr.png\" style=\"display:inline;vertical-align:middle;\" /></a></td></tr>\n",
       "<tr><td>25</td><td>Operation</td><td>operator:&nbsp;32<br>operands:&nbsp;30<br></td><td><a class=\"ProveItLink\" href=\"../../../../../../../core_expr_types/__pv_it/common/e38d9e725daa55259ff29a69c9848df141c43acc0/expr.ipynb\"><img src=\"../../../../../../../core_expr_types/__pv_it/common/e38d9e725daa55259ff29a69c9848df141c43acc0/expr.png\" style=\"display:inline;vertical-align:middle;\" /></a></td></tr>\n",
       "<tr><td>26</td><td>Operation</td><td>operator:&nbsp;31<br>operands:&nbsp;33<br></td><td><a class=\"ProveItLink\" href=\"../../../../../../../core_expr_types/__pv_it/common/9351ca465a12322fcb183925e451200bb1261e9c0/expr.ipynb\"><img src=\"../../../../../../../core_expr_types/__pv_it/common/9351ca465a12322fcb183925e451200bb1261e9c0/expr.png\" style=\"display:inline;vertical-align:middle;\" /></a></td></tr>\n",
       "<tr><td>27</td><td>Operation</td><td>operator:&nbsp;32<br>operands:&nbsp;33<br></td><td><a class=\"ProveItLink\" href=\"../../../../../../../core_expr_types/__pv_it/common/fa61ae2bda24a77da46ccd4184a14941ed8a56a50/expr.ipynb\"><img src=\"../../../../../../../core_expr_types/__pv_it/common/fa61ae2bda24a77da46ccd4184a14941ed8a56a50/expr.png\" style=\"display:inline;vertical-align:middle;\" /></a></td></tr>\n",
       "<tr><td>28</td><td>ExprTuple</td><td>34</td><td><a class=\"ProveItLink\" href=\"../../../../../../../core_expr_types/__pv_it/common/444da5a1d6d4966e75dd84efc2704e338e811fe40/expr.ipynb\"><img src=\"../../../../../../../core_expr_types/__pv_it/common/444da5a1d6d4966e75dd84efc2704e338e811fe40/expr.png\" style=\"display:inline;vertical-align:middle;\" /></a></td></tr>\n",
       "<tr><td>29</td><td>Variable</td><td></td><td><a class=\"ProveItLink\" href=\"../../../../../../../__pv_it/common/de55da274ba0f49c86925fbf3828021c04d27faf0/expr.ipynb\"><img src=\"../../../../../../../__pv_it/common/de55da274ba0f49c86925fbf3828021c04d27faf0/expr.png\" style=\"display:inline;vertical-align:middle;\" /></a></td></tr>\n",
       "<tr><td>30</td><td>ExprTuple</td><td>35</td><td><a class=\"ProveItLink\" href=\"../../../../../../../core_expr_types/__pv_it/common/3e6f103b1536f1d5f586682ee3b57d9899deba720/expr.ipynb\"><img src=\"../../../../../../../core_expr_types/__pv_it/common/3e6f103b1536f1d5f586682ee3b57d9899deba720/expr.png\" style=\"display:inline;vertical-align:middle;\" /></a></td></tr>\n",
       "<tr><td>31</td><td>Variable</td><td></td><td><a class=\"ProveItLink\" href=\"../../../../../../../__pv_it/common/647ca33d6b96e29d5aa85a15d2241c7ebd0c6e4b0/expr.ipynb\"><img src=\"../../../../../../../__pv_it/common/647ca33d6b96e29d5aa85a15d2241c7ebd0c6e4b0/expr.png\" style=\"display:inline;vertical-align:middle;\" /></a></td></tr>\n",
       "<tr><td>32</td><td>Variable</td><td></td><td><a class=\"ProveItLink\" href=\"../../../../../../../__pv_it/common/d72bb8b07403efe79afab564c36a28e21330e5f90/expr.ipynb\"><img src=\"../../../../../../../__pv_it/common/d72bb8b07403efe79afab564c36a28e21330e5f90/expr.png\" style=\"display:inline;vertical-align:middle;\" /></a></td></tr>\n",
       "<tr><td>33</td><td>ExprTuple</td><td>36</td><td><a class=\"ProveItLink\" href=\"../../../../../../../core_expr_types/__pv_it/common/9a62f22f8cfeeb64d13cc12981b234434c8e47c60/expr.ipynb\"><img src=\"../../../../../../../core_expr_types/__pv_it/common/9a62f22f8cfeeb64d13cc12981b234434c8e47c60/expr.png\" style=\"display:inline;vertical-align:middle;\" /></a></td></tr>\n",
       "<tr><td>34</td><td>ExprRange</td><td>lambda_map:&nbsp;37<br>start_index:&nbsp;40<br>end_index:&nbsp;41<br></td><td><a class=\"ProveItLink\" href=\"../../../../../../../core_expr_types/__pv_it/common/d50f819f834d55ea1b9fad150926a94bf07ad8fc0/expr.ipynb\"><img src=\"../../../../../../../core_expr_types/__pv_it/common/d50f819f834d55ea1b9fad150926a94bf07ad8fc0/expr.png\" style=\"display:inline;vertical-align:middle;\" /></a></td></tr>\n",
       "<tr><td>35</td><td>ExprRange</td><td>lambda_map:&nbsp;38<br>start_index:&nbsp;40<br>end_index:&nbsp;41<br></td><td><a class=\"ProveItLink\" href=\"../../../../../../../core_expr_types/__pv_it/common/bcf5ce1b1593e9c2c261618d94fd21c2cd04eae40/expr.ipynb\"><img src=\"../../../../../../../core_expr_types/__pv_it/common/bcf5ce1b1593e9c2c261618d94fd21c2cd04eae40/expr.png\" style=\"display:inline;vertical-align:middle;\" /></a></td></tr>\n",
       "<tr><td>36</td><td>ExprRange</td><td>lambda_map:&nbsp;39<br>start_index:&nbsp;40<br>end_index:&nbsp;41<br></td><td><a class=\"ProveItLink\" href=\"../../../../../../../core_expr_types/__pv_it/common/fe1ccaeb4d4f9086b240828453267e34ab330d430/expr.ipynb\"><img src=\"../../../../../../../core_expr_types/__pv_it/common/fe1ccaeb4d4f9086b240828453267e34ab330d430/expr.png\" style=\"display:inline;vertical-align:middle;\" /></a></td></tr>\n",
       "<tr><td>37</td><td>Lambda</td><td>parameter:&nbsp;49<br>body:&nbsp;42<br></td><td><a class=\"ProveItLink\" href=\"../../../../../../../core_expr_types/__pv_it/common/f8f30fee5e5b4e37951ff8886b574795bf35d80c0/expr.ipynb\"><img src=\"../../../../../../../core_expr_types/__pv_it/common/f8f30fee5e5b4e37951ff8886b574795bf35d80c0/expr.png\" style=\"display:inline;vertical-align:middle;\" /></a></td></tr>\n",
       "<tr><td>38</td><td>Lambda</td><td>parameter:&nbsp;49<br>body:&nbsp;43<br></td><td><a class=\"ProveItLink\" href=\"../../../../../../../core_expr_types/__pv_it/common/47ca082a5e3217d68f414fa9b5fb4cf7b07e06430/expr.ipynb\"><img src=\"../../../../../../../core_expr_types/__pv_it/common/47ca082a5e3217d68f414fa9b5fb4cf7b07e06430/expr.png\" style=\"display:inline;vertical-align:middle;\" /></a></td></tr>\n",
       "<tr><td>39</td><td>Lambda</td><td>parameter:&nbsp;49<br>body:&nbsp;44<br></td><td><a class=\"ProveItLink\" href=\"../../../../../../../core_expr_types/__pv_it/common/f90128920136a926bbadde8ca3b91c80ba74c51a0/expr.ipynb\"><img src=\"../../../../../../../core_expr_types/__pv_it/common/f90128920136a926bbadde8ca3b91c80ba74c51a0/expr.png\" style=\"display:inline;vertical-align:middle;\" /></a></td></tr>\n",
       "<tr><td>40</td><td>Literal</td><td></td><td><a class=\"ProveItLink\" href=\"../../../../../../../numbers/numerals/__pv_it/common/682157d4892d216d9e5626ed533aff9b56b9506e0/expr.ipynb\"><img src=\"../../../../../../../numbers/numerals/__pv_it/common/682157d4892d216d9e5626ed533aff9b56b9506e0/expr.png\" style=\"display:inline;vertical-align:middle;\" /></a></td></tr>\n",
       "<tr><td>41</td><td>Variable</td><td></td><td><a class=\"ProveItLink\" href=\"../../../../../../../__pv_it/common/8968bb04eb3f7dfa02353397ce929b025bbd79c20/expr.ipynb\"><img src=\"../../../../../../../__pv_it/common/8968bb04eb3f7dfa02353397ce929b025bbd79c20/expr.png\" style=\"display:inline;vertical-align:middle;\" /></a></td></tr>\n",
       "<tr><td>42</td><td>IndexedVar</td><td>variable:&nbsp;45<br>index:&nbsp;49<br></td><td><a class=\"ProveItLink\" href=\"../../../../../../../core_expr_types/__pv_it/common/b7a46615d4e67a28ab963909b818c72af8e8e7c60/expr.ipynb\"><img src=\"../../../../../../../core_expr_types/__pv_it/common/b7a46615d4e67a28ab963909b818c72af8e8e7c60/expr.png\" style=\"display:inline;vertical-align:middle;\" /></a></td></tr>\n",
       "<tr><td>43</td><td>IndexedVar</td><td>variable:&nbsp;46<br>index:&nbsp;49<br></td><td><a class=\"ProveItLink\" href=\"../../../../../../../core_expr_types/__pv_it/common/dd83f4522fafc6cf7fa80e461f3330c821446f0a0/expr.ipynb\"><img src=\"../../../../../../../core_expr_types/__pv_it/common/dd83f4522fafc6cf7fa80e461f3330c821446f0a0/expr.png\" style=\"display:inline;vertical-align:middle;\" /></a></td></tr>\n",
       "<tr><td>44</td><td>IndexedVar</td><td>variable:&nbsp;47<br>index:&nbsp;49<br></td><td><a class=\"ProveItLink\" href=\"../../../../../../../core_expr_types/__pv_it/common/e7982d1f96da18806884be8a269b781efc1ebec50/expr.ipynb\"><img src=\"../../../../../../../core_expr_types/__pv_it/common/e7982d1f96da18806884be8a269b781efc1ebec50/expr.png\" style=\"display:inline;vertical-align:middle;\" /></a></td></tr>\n",
       "<tr><td>45</td><td>Variable</td><td></td><td><a class=\"ProveItLink\" href=\"../../../../../../../__pv_it/common/a0d9d672aa5e272d907247690c152cc2c6daafb70/expr.ipynb\"><img src=\"../../../../../../../__pv_it/common/a0d9d672aa5e272d907247690c152cc2c6daafb70/expr.png\" style=\"display:inline;vertical-align:middle;\" /></a></td></tr>\n",
       "<tr><td>46</td><td>Variable</td><td></td><td><a class=\"ProveItLink\" href=\"../../../../../../../__pv_it/common/ff7dba4ef0bbe791ab573bf2d9c220a304399ac80/expr.ipynb\"><img src=\"../../../../../../../__pv_it/common/ff7dba4ef0bbe791ab573bf2d9c220a304399ac80/expr.png\" style=\"display:inline;vertical-align:middle;\" /></a></td></tr>\n",
       "<tr><td>47</td><td>Variable</td><td></td><td><a class=\"ProveItLink\" href=\"../../../../../../../__pv_it/common/95a8f6b9b9f29b83f192ad7fd05708d6be097a3f0/expr.ipynb\"><img src=\"../../../../../../../__pv_it/common/95a8f6b9b9f29b83f192ad7fd05708d6be097a3f0/expr.png\" style=\"display:inline;vertical-align:middle;\" /></a></td></tr>\n",
       "<tr><td>48</td><td>ExprTuple</td><td>49</td><td><a class=\"ProveItLink\" href=\"../../../../../../../core_expr_types/__pv_it/common/4b0dd6be36d76552eda6a95d5b4a27f5a5b62f900/expr.ipynb\"><img src=\"../../../../../../../core_expr_types/__pv_it/common/4b0dd6be36d76552eda6a95d5b4a27f5a5b62f900/expr.png\" style=\"display:inline;vertical-align:middle;\" /></a></td></tr>\n",
       "<tr><td>49</td><td>Variable</td><td></td><td><a class=\"ProveItLink\" href=\"../../../../../../../core_expr_types/__pv_it/common/006c465e50948aa2b52285e2de47974f741255cc0/expr.ipynb\"><img src=\"../../../../../../../core_expr_types/__pv_it/common/006c465e50948aa2b52285e2de47974f741255cc0/expr.png\" style=\"display:inline;vertical-align:middle;\" /></a></td></tr>\n",
       "</table>\n"
      ],
      "text/plain": [
       "0. [forall_{x_{1}, x_{2}, ..., x_{n} | Q(x_{1}, x_{2}, ..., x_{n})} (P(x_{1}, x_{2}, ..., x_{n}) => R(x_{1}, x_{2}, ..., x_{n}))] =>  \\\\ ([exists_{y_{1}, y_{2}, ..., y_{n} | Q(y_{1}, y_{2}, ..., y_{n})} P(y_{1}, y_{2}, ..., y_{n})] =>  \\\\ [exists_{z_{1}, z_{2}, ..., z_{n} | Q(z_{1}, z_{2}, ..., z_{n})} R(z_{1}, z_{2}, ..., z_{n})])\n",
       "   core type: Operation\n",
       "   operator: 18\n",
       "   operands: 1\n",
       "1. (forall_{x_{1}, x_{2}, ..., x_{n} | Q(x_{1}, x_{2}, ..., x_{n})} (P(x_{1}, x_{2}, ..., x_{n}) => R(x_{1}, x_{2}, ..., x_{n})), [exists_{y_{1}, y_{2}, ..., y_{n} | Q(y_{1}, y_{2}, ..., y_{n})} P(y_{1}, y_{2}, ..., y_{n})] =>  \\\\ [exists_{z_{1}, z_{2}, ..., z_{n} | Q(z_{1}, z_{2}, ..., z_{n})} R(z_{1}, z_{2}, ..., z_{n})])\n",
       "   core type: ExprTuple\n",
       "   sub-expressions: 2, 3\n",
       "2. forall_{x_{1}, x_{2}, ..., x_{n} | Q(x_{1}, x_{2}, ..., x_{n})} (P(x_{1}, x_{2}, ..., x_{n}) => R(x_{1}, x_{2}, ..., x_{n}))\n",
       "   core type: Operation\n",
       "   operator: 4\n",
       "   operand: 7\n",
       "3. [exists_{y_{1}, y_{2}, ..., y_{n} | Q(y_{1}, y_{2}, ..., y_{n})} P(y_{1}, y_{2}, ..., y_{n})] =>  \\\\ [exists_{z_{1}, z_{2}, ..., z_{n} | Q(z_{1}, z_{2}, ..., z_{n})} R(z_{1}, z_{2}, ..., z_{n})]\n",
       "   core type: Operation\n",
       "   operator: 18\n",
       "   operands: 6\n",
       "4. forall\n",
       "   core type: Literal\n",
       "   sub-expressions: \n",
       "5. ((x_{1}, x_{2}, ..., x_{n}) -> {P(x_{1}, x_{2}, ..., x_{n}) => R(x_{1}, x_{2}, ..., x_{n}) if Q(x_{1}, x_{2}, ..., x_{n}).)\n",
       "   core type: ExprTuple\n",
       "   sub-expressions: 7\n",
       "6. (exists_{y_{1}, y_{2}, ..., y_{n} | Q(y_{1}, y_{2}, ..., y_{n})} P(y_{1}, y_{2}, ..., y_{n}), exists_{z_{1}, z_{2}, ..., z_{n} | Q(z_{1}, z_{2}, ..., z_{n})} R(z_{1}, z_{2}, ..., z_{n}))\n",
       "   core type: ExprTuple\n",
       "   sub-expressions: 8, 9\n",
       "7. (x_{1}, x_{2}, ..., x_{n}) -> {P(x_{1}, x_{2}, ..., x_{n}) => R(x_{1}, x_{2}, ..., x_{n}) if Q(x_{1}, x_{2}, ..., x_{n}).\n",
       "   core type: Lambda\n",
       "   parameters: 28\\n   body: 10\n",
       "8. exists_{y_{1}, y_{2}, ..., y_{n} | Q(y_{1}, y_{2}, ..., y_{n})} P(y_{1}, y_{2}, ..., y_{n})\n",
       "   core type: Operation\n",
       "   operator: 12\n",
       "   operand: 16\n",
       "9. exists_{z_{1}, z_{2}, ..., z_{n} | Q(z_{1}, z_{2}, ..., z_{n})} R(z_{1}, z_{2}, ..., z_{n})\n",
       "   core type: Operation\n",
       "   operator: 12\n",
       "   operand: 17\n",
       "10. {P(x_{1}, x_{2}, ..., x_{n}) => R(x_{1}, x_{2}, ..., x_{n}) if Q(x_{1}, x_{2}, ..., x_{n}).\n",
       "    core type: Conditional\n",
       "    value: 14\n",
       "    condition: 15\n",
       "11. ((y_{1}, y_{2}, ..., y_{n}) -> {P(y_{1}, y_{2}, ..., y_{n}) if Q(y_{1}, y_{2}, ..., y_{n}).)\n",
       "    core type: ExprTuple\n",
       "    sub-expressions: 16\n",
       "12. exists\n",
       "    core type: Literal\n",
       "    sub-expressions: \n",
       "13. ((z_{1}, z_{2}, ..., z_{n}) -> {R(z_{1}, z_{2}, ..., z_{n}) if Q(z_{1}, z_{2}, ..., z_{n}).)\n",
       "    core type: ExprTuple\n",
       "    sub-expressions: 17\n",
       "14. P(x_{1}, x_{2}, ..., x_{n}) => R(x_{1}, x_{2}, ..., x_{n})\n",
       "    core type: Operation\n",
       "    operator: 18\n",
       "    operands: 19\n",
       "15. Q(x_{1}, x_{2}, ..., x_{n})\n",
       "    core type: Operation\n",
       "    operator: 32\n",
       "    operands: 28\n",
       "16. (y_{1}, y_{2}, ..., y_{n}) -> {P(y_{1}, y_{2}, ..., y_{n}) if Q(y_{1}, y_{2}, ..., y_{n}).\n",
       "    core type: Lambda\n",
       "    parameters: 30\\n    body: 20\n",
       "17. (z_{1}, z_{2}, ..., z_{n}) -> {R(z_{1}, z_{2}, ..., z_{n}) if Q(z_{1}, z_{2}, ..., z_{n}).\n",
       "    core type: Lambda\n",
       "    parameters: 33\\n    body: 21\n",
       "18. =>\n",
       "    core type: Literal\n",
       "    sub-expressions: \n",
       "19. (P(x_{1}, x_{2}, ..., x_{n}), R(x_{1}, x_{2}, ..., x_{n}))\n",
       "    core type: ExprTuple\n",
       "    sub-expressions: 22, 23\n",
       "20. {P(y_{1}, y_{2}, ..., y_{n}) if Q(y_{1}, y_{2}, ..., y_{n}).\n",
       "    core type: Conditional\n",
       "    value: 24\n",
       "    condition: 25\n",
       "21. {R(z_{1}, z_{2}, ..., z_{n}) if Q(z_{1}, z_{2}, ..., z_{n}).\n",
       "    core type: Conditional\n",
       "    value: 26\n",
       "    condition: 27\n",
       "22. P(x_{1}, x_{2}, ..., x_{n})\n",
       "    core type: Operation\n",
       "    operator: 29\n",
       "    operands: 28\n",
       "23. R(x_{1}, x_{2}, ..., x_{n})\n",
       "    core type: Operation\n",
       "    operator: 31\n",
       "    operands: 28\n",
       "24. P(y_{1}, y_{2}, ..., y_{n})\n",
       "    core type: Operation\n",
       "    operator: 29\n",
       "    operands: 30\n",
       "25. Q(y_{1}, y_{2}, ..., y_{n})\n",
       "    core type: Operation\n",
       "    operator: 32\n",
       "    operands: 30\n",
       "26. R(z_{1}, z_{2}, ..., z_{n})\n",
       "    core type: Operation\n",
       "    operator: 31\n",
       "    operands: 33\n",
       "27. Q(z_{1}, z_{2}, ..., z_{n})\n",
       "    core type: Operation\n",
       "    operator: 32\n",
       "    operands: 33\n",
       "28. (x_{1}, x_{2}, ..., x_{n})\n",
       "    core type: ExprTuple\n",
       "    sub-expressions: 34\n",
       "29. P\n",
       "    core type: Variable\n",
       "    sub-expressions: \n",
       "30. (y_{1}, y_{2}, ..., y_{n})\n",
       "    core type: ExprTuple\n",
       "    sub-expressions: 35\n",
       "31. R\n",
       "    core type: Variable\n",
       "    sub-expressions: \n",
       "32. Q\n",
       "    core type: Variable\n",
       "    sub-expressions: \n",
       "33. (z_{1}, z_{2}, ..., z_{n})\n",
       "    core type: ExprTuple\n",
       "    sub-expressions: 36\n",
       "34. x_{1}, x_{2}, ..., x_{n}\n",
       "    core type: ExprRange\n",
       "    lambda_map: 37\n",
       "    start_index: 40\n",
       "    end_index: 41\n",
       "35. y_{1}, y_{2}, ..., y_{n}\n",
       "    core type: ExprRange\n",
       "    lambda_map: 38\n",
       "    start_index: 40\n",
       "    end_index: 41\n",
       "36. z_{1}, z_{2}, ..., z_{n}\n",
       "    core type: ExprRange\n",
       "    lambda_map: 39\n",
       "    start_index: 40\n",
       "    end_index: 41\n",
       "37. _a -> x_{_a}\n",
       "    core type: Lambda\n",
       "    parameter: 49\n",
       "    body: 42\n",
       "38. _a -> y_{_a}\n",
       "    core type: Lambda\n",
       "    parameter: 49\n",
       "    body: 43\n",
       "39. _a -> z_{_a}\n",
       "    core type: Lambda\n",
       "    parameter: 49\n",
       "    body: 44\n",
       "40. 1\n",
       "    core type: Literal\n",
       "    sub-expressions: \n",
       "41. n\n",
       "    core type: Variable\n",
       "    sub-expressions: \n",
       "42. x_{_a}\n",
       "    core type: IndexedVar\n",
       "variable: 45\n",
       "index: 49\n",
       "43. y_{_a}\n",
       "    core type: IndexedVar\n",
       "variable: 46\n",
       "index: 49\n",
       "44. z_{_a}\n",
       "    core type: IndexedVar\n",
       "variable: 47\n",
       "index: 49\n",
       "45. x\n",
       "    core type: Variable\n",
       "    sub-expressions: \n",
       "46. y\n",
       "    core type: Variable\n",
       "    sub-expressions: \n",
       "47. z\n",
       "    core type: Variable\n",
       "    sub-expressions: \n",
       "48. (_a)\n",
       "    core type: ExprTuple\n",
       "    sub-expressions: 49\n",
       "49. _a\n",
       "    core type: Variable\n",
       "    sub-expressions: "
      ]
     },
     "metadata": {},
     "output_type": "display_data"
    }
   ],
   "source": [
    "# display the expression information\n",
    "stored_expr.expr_info()"
   ]
  },
  {
   "cell_type": "code",
   "execution_count": null,
   "metadata": {},
   "outputs": [],
   "source": []
  }
 ],
 "metadata": {
  "kernelspec": {
   "display_name": "Python 3",
   "language": "python",
   "name": "python3"
  }
 },
 "nbformat": 4,
 "nbformat_minor": 0
}