{
 "cells": [
  {
   "cell_type": "markdown",
   "metadata": {},
   "source": [
    "Expression of type <a class=\"ProveItLink\" href=\"../../../../../../../../../doc/html/api/proveit.ExprTuple.html\">ExprTuple</a>\n",
    "=======================\n",
    "# from the theory of <a class=\"ProveItLink\" href=\"../../../_theory_nbs_/theory.ipynb\">proveit.logic.booleans.quantification.existence</a>"
   ]
  },
  {
   "cell_type": "code",
   "execution_count": 1,
   "metadata": {},
   "outputs": [],
   "source": [
    "import proveit\n",
    "# Automation is not needed when building an expression:\n",
    "proveit.defaults.automation = False # This will speed things up.\n",
    "proveit.defaults.inline_pngs = False # Makes files smaller.\n",
    "%load_expr # Load the stored expression as 'stored_expr'\n",
    "# import Expression classes needed to build the expression\n",
    "from proveit import Conditional, ExprTuple, Lambda, P, Q, n\n",
    "from proveit.logic import Boolean, Forall, InSet\n",
    "from proveit.logic.booleans.quantification import general_notexists_Py_st_Qy\n",
    "from proveit.numbers import NaturalPos"
   ]
  },
  {
   "cell_type": "code",
   "execution_count": 2,
   "metadata": {},
   "outputs": [
    {
     "data": {
      "text/html": [
       "<strong id=\"expr\">expr:</strong> <a class=\"ProveItLink\" href=\"expr.ipynb\"><img src=\"expr.png\" style=\"display:inline;vertical-align:middle;\" /></a><br>"
      ],
      "text/plain": [
       "<IPython.core.display.HTML object>"
      ]
     },
     "metadata": {},
     "output_type": "display_data"
    }
   ],
   "source": [
    "# build up the expression from sub-expressions\n",
    "expr = ExprTuple(Lambda(n, Conditional(Forall(instance_param_or_params = [P, Q], instance_expr = InSet(general_notexists_Py_st_Qy, Boolean)), InSet(n, NaturalPos))))"
   ]
  },
  {
   "cell_type": "code",
   "execution_count": 3,
   "metadata": {},
   "outputs": [
    {
     "name": "stdout",
     "output_type": "stream",
     "text": [
      "Passed sanity check: expr matches stored_expr\n"
     ]
    }
   ],
   "source": [
    "# check that the built expression is the same as the stored expression\n",
    "assert expr == stored_expr\n",
    "assert expr._style_id == stored_expr._style_id\n",
    "print(\"Passed sanity check: expr matches stored_expr\")"
   ]
  },
  {
   "cell_type": "code",
   "execution_count": 4,
   "metadata": {},
   "outputs": [
    {
     "name": "stdout",
     "output_type": "stream",
     "text": [
      "\\left(n \\mapsto \\left\\{\\forall_{P, Q}~\\left(\\left[\\nexists_{y_{1}, y_{2}, \\ldots, y_{n}~|~Q\\left(y_{1}, y_{2}, \\ldots, y_{n}\\right)}~P\\left(y_{1}, y_{2}, \\ldots, y_{n}\\right)\\right] \\in \\mathbb{B}\\right) \\textrm{ if } n \\in \\mathbb{N}^+\\right..\\right)\n"
     ]
    }
   ],
   "source": [
    "# Show the LaTeX representation of the expression for convenience if you need it.\n",
    "print(stored_expr.latex())"
   ]
  },
  {
   "cell_type": "code",
   "execution_count": 5,
   "metadata": {},
   "outputs": [
    {
     "data": {
      "text/html": [
       "no style options"
      ],
      "text/plain": [
       "no style options"
      ]
     },
     "metadata": {},
     "output_type": "display_data"
    }
   ],
   "source": [
    "stored_expr.style_options()"
   ]
  },
  {
   "cell_type": "code",
   "execution_count": 6,
   "metadata": {},
   "outputs": [
    {
     "data": {
      "text/html": [
       "<table><tr><th>&nbsp;</th><th>core type</th><th>sub-expressions</th><th>expression</th></tr>\n",
       "<tr><td>0</td><td>ExprTuple</td><td>1</td><td><a class=\"ProveItLink\" href=\"expr.ipynb\"><img src=\"expr.png\" style=\"display:inline;vertical-align:middle;\" /></a></td></tr>\n",
       "<tr><td>1</td><td>Lambda</td><td>parameter:&nbsp;29<br>body:&nbsp;3<br></td><td><a class=\"ProveItLink\" href=\"../d0a7b0b7af4ff71aedb3b454cc42e469c216c65b0/expr.ipynb\"><img src=\"../d0a7b0b7af4ff71aedb3b454cc42e469c216c65b0/expr.png\" style=\"display:inline;vertical-align:middle;\" /></a></td></tr>\n",
       "<tr><td>2</td><td>ExprTuple</td><td>29</td><td><a class=\"ProveItLink\" href=\"../ca565dff2751ea9a3b48fe855133b9e0c2eca83f0/expr.ipynb\"><img src=\"../ca565dff2751ea9a3b48fe855133b9e0c2eca83f0/expr.png\" style=\"display:inline;vertical-align:middle;\" /></a></td></tr>\n",
       "<tr><td>3</td><td>Conditional</td><td>value:&nbsp;4<br>condition:&nbsp;5<br></td><td><a class=\"ProveItLink\" href=\"../3e4580d418c0ad02864eab4815cbcad69804596b0/expr.ipynb\"><img src=\"../3e4580d418c0ad02864eab4815cbcad69804596b0/expr.png\" style=\"display:inline;vertical-align:middle;\" /></a></td></tr>\n",
       "<tr><td>4</td><td>Operation</td><td>operator:&nbsp;6<br>operand:&nbsp;9<br></td><td><a class=\"ProveItLink\" href=\"../ffd0e2de199b6ebd191ac1ce3c2f9f089181b4f00/expr.ipynb\"><img src=\"../ffd0e2de199b6ebd191ac1ce3c2f9f089181b4f00/expr.png\" style=\"display:inline;vertical-align:middle;\" /></a></td></tr>\n",
       "<tr><td>5</td><td>Operation</td><td>operator:&nbsp;13<br>operands:&nbsp;8<br></td><td><a class=\"ProveItLink\" href=\"../c3c0a0522590e024022c8052cabac138164190560/expr.ipynb\"><img src=\"../c3c0a0522590e024022c8052cabac138164190560/expr.png\" style=\"display:inline;vertical-align:middle;\" /></a></td></tr>\n",
       "<tr><td>6</td><td>Literal</td><td></td><td><a class=\"ProveItLink\" href=\"../../../../universality/__pv_it/common/083d2baa0b8ecab1d230f9ec29a15aa1355809fb0/expr.ipynb\"><img src=\"../../../../universality/__pv_it/common/083d2baa0b8ecab1d230f9ec29a15aa1355809fb0/expr.png\" style=\"display:inline;vertical-align:middle;\" /></a></td></tr>\n",
       "<tr><td>7</td><td>ExprTuple</td><td>9</td><td><a class=\"ProveItLink\" href=\"../856e411c3be1aed1c798beab0152ce49fa064b680/expr.ipynb\"><img src=\"../856e411c3be1aed1c798beab0152ce49fa064b680/expr.png\" style=\"display:inline;vertical-align:middle;\" /></a></td></tr>\n",
       "<tr><td>8</td><td>ExprTuple</td><td>29, 10</td><td><a class=\"ProveItLink\" href=\"../4459dda147b56e10026c83203ced1bc32b9704ab0/expr.ipynb\"><img src=\"../4459dda147b56e10026c83203ced1bc32b9704ab0/expr.png\" style=\"display:inline;vertical-align:middle;\" /></a></td></tr>\n",
       "<tr><td>9</td><td>Lambda</td><td>parameters:&nbsp;11<br>body:&nbsp;12<br></td><td><a class=\"ProveItLink\" href=\"../47d190128c52203d955b6e23a5ca62b0079d9f300/expr.ipynb\"><img src=\"../47d190128c52203d955b6e23a5ca62b0079d9f300/expr.png\" style=\"display:inline;vertical-align:middle;\" /></a></td></tr>\n",
       "<tr><td>10</td><td>Literal</td><td></td><td><a class=\"ProveItLink\" href=\"../../../../../../../numbers/number_sets/natural_numbers/__pv_it/common/6111329435c43892c831c4793de96afbf80bdb3e0/expr.ipynb\"><img src=\"../../../../../../../numbers/number_sets/natural_numbers/__pv_it/common/6111329435c43892c831c4793de96afbf80bdb3e0/expr.png\" style=\"display:inline;vertical-align:middle;\" /></a></td></tr>\n",
       "<tr><td>11</td><td>ExprTuple</td><td>23, 24</td><td><a class=\"ProveItLink\" href=\"../c4c1f21d6347f60062175d1a42df20cb07a4deb80/expr.ipynb\"><img src=\"../c4c1f21d6347f60062175d1a42df20cb07a4deb80/expr.png\" style=\"display:inline;vertical-align:middle;\" /></a></td></tr>\n",
       "<tr><td>12</td><td>Operation</td><td>operator:&nbsp;13<br>operands:&nbsp;14<br></td><td><a class=\"ProveItLink\" href=\"../871359a4c4942714698e5d1ed3820deb3088795d0/expr.ipynb\"><img src=\"../871359a4c4942714698e5d1ed3820deb3088795d0/expr.png\" style=\"display:inline;vertical-align:middle;\" /></a></td></tr>\n",
       "<tr><td>13</td><td>Literal</td><td></td><td><a class=\"ProveItLink\" href=\"../../../../../../sets/membership/__pv_it/common/477487d8796864d23d5810f83761435f25167f690/expr.ipynb\"><img src=\"../../../../../../sets/membership/__pv_it/common/477487d8796864d23d5810f83761435f25167f690/expr.png\" style=\"display:inline;vertical-align:middle;\" /></a></td></tr>\n",
       "<tr><td>14</td><td>ExprTuple</td><td>15, 16</td><td><a class=\"ProveItLink\" href=\"../a3dd397d65a6386b2d030ebfa864e27a1c32bd7f0/expr.ipynb\"><img src=\"../a3dd397d65a6386b2d030ebfa864e27a1c32bd7f0/expr.png\" style=\"display:inline;vertical-align:middle;\" /></a></td></tr>\n",
       "<tr><td>15</td><td>Operation</td><td>operator:&nbsp;17<br>operand:&nbsp;19<br></td><td><a class=\"ProveItLink\" href=\"../../../../__pv_it/common/2743ed3866001974a5f8a1d0449d10a1320093b00/expr.ipynb\"><img src=\"../../../../__pv_it/common/2743ed3866001974a5f8a1d0449d10a1320093b00/expr.png\" style=\"display:inline;vertical-align:middle;\" /></a></td></tr>\n",
       "<tr><td>16</td><td>Literal</td><td></td><td><a class=\"ProveItLink\" href=\"../../../../../__pv_it/common/97424376de9815ad99f7180e3191b1cf4ab2a5710/expr.ipynb\"><img src=\"../../../../../__pv_it/common/97424376de9815ad99f7180e3191b1cf4ab2a5710/expr.png\" style=\"display:inline;vertical-align:middle;\" /></a></td></tr>\n",
       "<tr><td>17</td><td>Literal</td><td></td><td><a class=\"ProveItLink\" href=\"../../common/669b21f12f1d528c761f5d2e0039e16abc982b0f0/expr.ipynb\"><img src=\"../../common/669b21f12f1d528c761f5d2e0039e16abc982b0f0/expr.png\" style=\"display:inline;vertical-align:middle;\" /></a></td></tr>\n",
       "<tr><td>18</td><td>ExprTuple</td><td>19</td><td><a class=\"ProveItLink\" href=\"../../../../__pv_it/common/80356d88bf1d28266181526857cdbbd43479948f0/expr.ipynb\"><img src=\"../../../../__pv_it/common/80356d88bf1d28266181526857cdbbd43479948f0/expr.png\" style=\"display:inline;vertical-align:middle;\" /></a></td></tr>\n",
       "<tr><td>19</td><td>Lambda</td><td>parameters:&nbsp;25<br>body:&nbsp;20<br></td><td><a class=\"ProveItLink\" href=\"../../../../__pv_it/common/290b3e099de9c2103d494d862294de751a48d6330/expr.ipynb\"><img src=\"../../../../__pv_it/common/290b3e099de9c2103d494d862294de751a48d6330/expr.png\" style=\"display:inline;vertical-align:middle;\" /></a></td></tr>\n",
       "<tr><td>20</td><td>Conditional</td><td>value:&nbsp;21<br>condition:&nbsp;22<br></td><td><a class=\"ProveItLink\" href=\"../../../../__pv_it/common/68869d26ca68082848b578a73d3c824afe51afea0/expr.ipynb\"><img src=\"../../../../__pv_it/common/68869d26ca68082848b578a73d3c824afe51afea0/expr.png\" style=\"display:inline;vertical-align:middle;\" /></a></td></tr>\n",
       "<tr><td>21</td><td>Operation</td><td>operator:&nbsp;23<br>operands:&nbsp;25<br></td><td><a class=\"ProveItLink\" href=\"../../../../../../../core_expr_types/__pv_it/common/354c982fd0f502112bf4694db5f23a5833ec2bdf0/expr.ipynb\"><img src=\"../../../../../../../core_expr_types/__pv_it/common/354c982fd0f502112bf4694db5f23a5833ec2bdf0/expr.png\" style=\"display:inline;vertical-align:middle;\" /></a></td></tr>\n",
       "<tr><td>22</td><td>Operation</td><td>operator:&nbsp;24<br>operands:&nbsp;25<br></td><td><a class=\"ProveItLink\" href=\"../../../../../../../core_expr_types/__pv_it/common/e38d9e725daa55259ff29a69c9848df141c43acc0/expr.ipynb\"><img src=\"../../../../../../../core_expr_types/__pv_it/common/e38d9e725daa55259ff29a69c9848df141c43acc0/expr.png\" style=\"display:inline;vertical-align:middle;\" /></a></td></tr>\n",
       "<tr><td>23</td><td>Variable</td><td></td><td><a class=\"ProveItLink\" href=\"../../../../../../../__pv_it/common/de55da274ba0f49c86925fbf3828021c04d27faf0/expr.ipynb\"><img src=\"../../../../../../../__pv_it/common/de55da274ba0f49c86925fbf3828021c04d27faf0/expr.png\" style=\"display:inline;vertical-align:middle;\" /></a></td></tr>\n",
       "<tr><td>24</td><td>Variable</td><td></td><td><a class=\"ProveItLink\" href=\"../../../../../../../__pv_it/common/d72bb8b07403efe79afab564c36a28e21330e5f90/expr.ipynb\"><img src=\"../../../../../../../__pv_it/common/d72bb8b07403efe79afab564c36a28e21330e5f90/expr.png\" style=\"display:inline;vertical-align:middle;\" /></a></td></tr>\n",
       "<tr><td>25</td><td>ExprTuple</td><td>26</td><td><a class=\"ProveItLink\" href=\"../../../../../../../core_expr_types/__pv_it/common/3e6f103b1536f1d5f586682ee3b57d9899deba720/expr.ipynb\"><img src=\"../../../../../../../core_expr_types/__pv_it/common/3e6f103b1536f1d5f586682ee3b57d9899deba720/expr.png\" style=\"display:inline;vertical-align:middle;\" /></a></td></tr>\n",
       "<tr><td>26</td><td>ExprRange</td><td>lambda_map:&nbsp;27<br>start_index:&nbsp;28<br>end_index:&nbsp;29<br></td><td><a class=\"ProveItLink\" href=\"../../../../../../../core_expr_types/__pv_it/common/bcf5ce1b1593e9c2c261618d94fd21c2cd04eae40/expr.ipynb\"><img src=\"../../../../../../../core_expr_types/__pv_it/common/bcf5ce1b1593e9c2c261618d94fd21c2cd04eae40/expr.png\" style=\"display:inline;vertical-align:middle;\" /></a></td></tr>\n",
       "<tr><td>27</td><td>Lambda</td><td>parameter:&nbsp;33<br>body:&nbsp;30<br></td><td><a class=\"ProveItLink\" href=\"../../../../../../../core_expr_types/__pv_it/common/47ca082a5e3217d68f414fa9b5fb4cf7b07e06430/expr.ipynb\"><img src=\"../../../../../../../core_expr_types/__pv_it/common/47ca082a5e3217d68f414fa9b5fb4cf7b07e06430/expr.png\" style=\"display:inline;vertical-align:middle;\" /></a></td></tr>\n",
       "<tr><td>28</td><td>Literal</td><td></td><td><a class=\"ProveItLink\" href=\"../../../../../../../numbers/numerals/__pv_it/common/682157d4892d216d9e5626ed533aff9b56b9506e0/expr.ipynb\"><img src=\"../../../../../../../numbers/numerals/__pv_it/common/682157d4892d216d9e5626ed533aff9b56b9506e0/expr.png\" style=\"display:inline;vertical-align:middle;\" /></a></td></tr>\n",
       "<tr><td>29</td><td>Variable</td><td></td><td><a class=\"ProveItLink\" href=\"../../../../../../../__pv_it/common/8968bb04eb3f7dfa02353397ce929b025bbd79c20/expr.ipynb\"><img src=\"../../../../../../../__pv_it/common/8968bb04eb3f7dfa02353397ce929b025bbd79c20/expr.png\" style=\"display:inline;vertical-align:middle;\" /></a></td></tr>\n",
       "<tr><td>30</td><td>IndexedVar</td><td>variable:&nbsp;31<br>index:&nbsp;33<br></td><td><a class=\"ProveItLink\" href=\"../../../../../../../core_expr_types/__pv_it/common/dd83f4522fafc6cf7fa80e461f3330c821446f0a0/expr.ipynb\"><img src=\"../../../../../../../core_expr_types/__pv_it/common/dd83f4522fafc6cf7fa80e461f3330c821446f0a0/expr.png\" style=\"display:inline;vertical-align:middle;\" /></a></td></tr>\n",
       "<tr><td>31</td><td>Variable</td><td></td><td><a class=\"ProveItLink\" href=\"../../../../../../../__pv_it/common/ff7dba4ef0bbe791ab573bf2d9c220a304399ac80/expr.ipynb\"><img src=\"../../../../../../../__pv_it/common/ff7dba4ef0bbe791ab573bf2d9c220a304399ac80/expr.png\" style=\"display:inline;vertical-align:middle;\" /></a></td></tr>\n",
       "<tr><td>32</td><td>ExprTuple</td><td>33</td><td><a class=\"ProveItLink\" href=\"../../../../../../../core_expr_types/__pv_it/common/4b0dd6be36d76552eda6a95d5b4a27f5a5b62f900/expr.ipynb\"><img src=\"../../../../../../../core_expr_types/__pv_it/common/4b0dd6be36d76552eda6a95d5b4a27f5a5b62f900/expr.png\" style=\"display:inline;vertical-align:middle;\" /></a></td></tr>\n",
       "<tr><td>33</td><td>Variable</td><td></td><td><a class=\"ProveItLink\" href=\"../../../../../../../core_expr_types/__pv_it/common/006c465e50948aa2b52285e2de47974f741255cc0/expr.ipynb\"><img src=\"../../../../../../../core_expr_types/__pv_it/common/006c465e50948aa2b52285e2de47974f741255cc0/expr.png\" style=\"display:inline;vertical-align:middle;\" /></a></td></tr>\n",
       "</table>\n"
      ],
      "text/plain": [
       "0. (n -> {forall_{P, Q} ([notexists_{y_{1}, y_{2}, ..., y_{n} | Q(y_{1}, y_{2}, ..., y_{n})} P(y_{1}, y_{2}, ..., y_{n})] in BOOLEAN) if n in NaturalPos.)\n",
       "   core type: ExprTuple\n",
       "   sub-expressions: 1\n",
       "1. n -> {forall_{P, Q} ([notexists_{y_{1}, y_{2}, ..., y_{n} | Q(y_{1}, y_{2}, ..., y_{n})} P(y_{1}, y_{2}, ..., y_{n})] in BOOLEAN) if n in NaturalPos.\n",
       "   core type: Lambda\n",
       "   parameter: 29\n",
       "   body: 3\n",
       "2. (n)\n",
       "   core type: ExprTuple\n",
       "   sub-expressions: 29\n",
       "3. {forall_{P, Q} ([notexists_{y_{1}, y_{2}, ..., y_{n} | Q(y_{1}, y_{2}, ..., y_{n})} P(y_{1}, y_{2}, ..., y_{n})] in BOOLEAN) if n in NaturalPos.\n",
       "   core type: Conditional\n",
       "   value: 4\n",
       "   condition: 5\n",
       "4. forall_{P, Q} ([notexists_{y_{1}, y_{2}, ..., y_{n} | Q(y_{1}, y_{2}, ..., y_{n})} P(y_{1}, y_{2}, ..., y_{n})] in BOOLEAN)\n",
       "   core type: Operation\n",
       "   operator: 6\n",
       "   operand: 9\n",
       "5. n in NaturalPos\n",
       "   core type: Operation\n",
       "   operator: 13\n",
       "   operands: 8\n",
       "6. forall\n",
       "   core type: Literal\n",
       "   sub-expressions: \n",
       "7. ((P, Q) -> ([notexists_{y_{1}, y_{2}, ..., y_{n} | Q(y_{1}, y_{2}, ..., y_{n})} P(y_{1}, y_{2}, ..., y_{n})] in BOOLEAN))\n",
       "   core type: ExprTuple\n",
       "   sub-expressions: 9\n",
       "8. (n, NaturalPos)\n",
       "   core type: ExprTuple\n",
       "   sub-expressions: 29, 10\n",
       "9. (P, Q) -> ([notexists_{y_{1}, y_{2}, ..., y_{n} | Q(y_{1}, y_{2}, ..., y_{n})} P(y_{1}, y_{2}, ..., y_{n})] in BOOLEAN)\n",
       "   core type: Lambda\n",
       "   parameters: 11\\n   body: 12\n",
       "10. NaturalPos\n",
       "    core type: Literal\n",
       "    sub-expressions: \n",
       "11. (P, Q)\n",
       "    core type: ExprTuple\n",
       "    sub-expressions: 23, 24\n",
       "12. [notexists_{y_{1}, y_{2}, ..., y_{n} | Q(y_{1}, y_{2}, ..., y_{n})} P(y_{1}, y_{2}, ..., y_{n})] in BOOLEAN\n",
       "    core type: Operation\n",
       "    operator: 13\n",
       "    operands: 14\n",
       "13. in\n",
       "    core type: Literal\n",
       "    sub-expressions: \n",
       "14. (notexists_{y_{1}, y_{2}, ..., y_{n} | Q(y_{1}, y_{2}, ..., y_{n})} P(y_{1}, y_{2}, ..., y_{n}), BOOLEAN)\n",
       "    core type: ExprTuple\n",
       "    sub-expressions: 15, 16\n",
       "15. notexists_{y_{1}, y_{2}, ..., y_{n} | Q(y_{1}, y_{2}, ..., y_{n})} P(y_{1}, y_{2}, ..., y_{n})\n",
       "    core type: Operation\n",
       "    operator: 17\n",
       "    operand: 19\n",
       "16. BOOLEAN\n",
       "    core type: Literal\n",
       "    sub-expressions: \n",
       "17. notexists\n",
       "    core type: Literal\n",
       "    sub-expressions: \n",
       "18. ((y_{1}, y_{2}, ..., y_{n}) -> {P(y_{1}, y_{2}, ..., y_{n}) if Q(y_{1}, y_{2}, ..., y_{n}).)\n",
       "    core type: ExprTuple\n",
       "    sub-expressions: 19\n",
       "19. (y_{1}, y_{2}, ..., y_{n}) -> {P(y_{1}, y_{2}, ..., y_{n}) if Q(y_{1}, y_{2}, ..., y_{n}).\n",
       "    core type: Lambda\n",
       "    parameters: 25\\n    body: 20\n",
       "20. {P(y_{1}, y_{2}, ..., y_{n}) if Q(y_{1}, y_{2}, ..., y_{n}).\n",
       "    core type: Conditional\n",
       "    value: 21\n",
       "    condition: 22\n",
       "21. P(y_{1}, y_{2}, ..., y_{n})\n",
       "    core type: Operation\n",
       "    operator: 23\n",
       "    operands: 25\n",
       "22. Q(y_{1}, y_{2}, ..., y_{n})\n",
       "    core type: Operation\n",
       "    operator: 24\n",
       "    operands: 25\n",
       "23. P\n",
       "    core type: Variable\n",
       "    sub-expressions: \n",
       "24. Q\n",
       "    core type: Variable\n",
       "    sub-expressions: \n",
       "25. (y_{1}, y_{2}, ..., y_{n})\n",
       "    core type: ExprTuple\n",
       "    sub-expressions: 26\n",
       "26. y_{1}, y_{2}, ..., y_{n}\n",
       "    core type: ExprRange\n",
       "    lambda_map: 27\n",
       "    start_index: 28\n",
       "    end_index: 29\n",
       "27. _a -> y_{_a}\n",
       "    core type: Lambda\n",
       "    parameter: 33\n",
       "    body: 30\n",
       "28. 1\n",
       "    core type: Literal\n",
       "    sub-expressions: \n",
       "29. n\n",
       "    core type: Variable\n",
       "    sub-expressions: \n",
       "30. y_{_a}\n",
       "    core type: IndexedVar\n",
       "variable: 31\n",
       "index: 33\n",
       "31. y\n",
       "    core type: Variable\n",
       "    sub-expressions: \n",
       "32. (_a)\n",
       "    core type: ExprTuple\n",
       "    sub-expressions: 33\n",
       "33. _a\n",
       "    core type: Variable\n",
       "    sub-expressions: "
      ]
     },
     "metadata": {},
     "output_type": "display_data"
    }
   ],
   "source": [
    "# display the expression information\n",
    "stored_expr.expr_info()"
   ]
  },
  {
   "cell_type": "code",
   "execution_count": null,
   "metadata": {},
   "outputs": [],
   "source": []
  }
 ],
 "metadata": {
  "kernelspec": {
   "display_name": "Python 3",
   "language": "python",
   "name": "python3"
  }
 },
 "nbformat": 4,
 "nbformat_minor": 0
}