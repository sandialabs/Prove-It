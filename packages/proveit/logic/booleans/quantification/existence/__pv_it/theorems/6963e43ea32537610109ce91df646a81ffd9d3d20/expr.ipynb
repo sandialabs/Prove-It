{
 "cells": [
  {
   "cell_type": "markdown",
   "metadata": {},
   "source": [
    "Expression of type <a class=\"ProveItLink\" href=\"../../../../../../../../../doc/html/api/proveit.Lambda.html\">Lambda</a>\n",
    "=======================\n",
    "# from the theory of <a class=\"ProveItLink\" href=\"../../../_theory_nbs_/theory.ipynb\">proveit.logic.booleans.quantification.existence</a>"
   ]
  },
  {
   "cell_type": "code",
   "execution_count": 1,
   "metadata": {},
   "outputs": [],
   "source": [
    "import proveit\n",
    "# Automation is not needed when building an expression:\n",
    "proveit.defaults.automation = False # This will speed things up.\n",
    "proveit.defaults.inline_pngs = False # Makes files smaller.\n",
    "%load_expr # Load the stored expression as 'stored_expr'\n",
    "# import Expression classes needed to build the expression\n",
    "from proveit import Conditional, Lambda, P, Q, n\n",
    "from proveit.logic import Forall, Implies, InSet\n",
    "from proveit.logic.booleans.quantification import general_forall_Px_if_Qx, general_notexists_notPy_st_Qy\n",
    "from proveit.numbers import NaturalPos"
   ]
  },
  {
   "cell_type": "code",
   "execution_count": 2,
   "metadata": {},
   "outputs": [
    {
     "data": {
      "text/html": [
       "<strong id=\"expr\">expr:</strong> <a class=\"ProveItLink\" href=\"expr.ipynb\"><img src=\"expr.png\" style=\"display:inline;vertical-align:middle;\" /></a><br>"
      ],
      "text/plain": [
       "<IPython.core.display.HTML object>"
      ]
     },
     "metadata": {},
     "output_type": "display_data"
    }
   ],
   "source": [
    "# build up the expression from sub-expressions\n",
    "expr = Lambda(n, Conditional(Forall(instance_param_or_params = [P, Q], instance_expr = Implies(general_forall_Px_if_Qx, general_notexists_notPy_st_Qy).with_wrapping_at(2)), InSet(n, NaturalPos)))"
   ]
  },
  {
   "cell_type": "code",
   "execution_count": 3,
   "metadata": {},
   "outputs": [
    {
     "name": "stdout",
     "output_type": "stream",
     "text": [
      "Passed sanity check: expr matches stored_expr\n"
     ]
    }
   ],
   "source": [
    "# check that the built expression is the same as the stored expression\n",
    "assert expr == stored_expr\n",
    "assert expr._style_id == stored_expr._style_id\n",
    "print(\"Passed sanity check: expr matches stored_expr\")"
   ]
  },
  {
   "cell_type": "code",
   "execution_count": 4,
   "metadata": {},
   "outputs": [
    {
     "name": "stdout",
     "output_type": "stream",
     "text": [
      "n \\mapsto \\left\\{\\forall_{P, Q}~\\left(\\begin{array}{c} \\begin{array}{l} \\left[\\forall_{x_{1}, x_{2}, \\ldots, x_{n}~|~Q\\left(x_{1}, x_{2}, \\ldots, x_{n}\\right)}~P\\left(x_{1}, x_{2}, \\ldots, x_{n}\\right)\\right] \\Rightarrow  \\\\ \\left[\\nexists_{y_{1}, y_{2}, \\ldots, y_{n}~|~Q\\left(y_{1}, y_{2}, \\ldots, y_{n}\\right)}~(\\lnot P\\left(y_{1}, y_{2}, \\ldots, y_{n}\\right))\\right] \\end{array} \\end{array}\\right) \\textrm{ if } n \\in \\mathbb{N}^+\\right..\n"
     ]
    }
   ],
   "source": [
    "# Show the LaTeX representation of the expression for convenience if you need it.\n",
    "print(stored_expr.latex())"
   ]
  },
  {
   "cell_type": "code",
   "execution_count": 5,
   "metadata": {},
   "outputs": [
    {
     "data": {
      "text/html": [
       "no style options"
      ],
      "text/plain": [
       "no style options"
      ]
     },
     "metadata": {},
     "output_type": "display_data"
    }
   ],
   "source": [
    "stored_expr.style_options()"
   ]
  },
  {
   "cell_type": "code",
   "execution_count": 6,
   "metadata": {},
   "outputs": [
    {
     "data": {
      "text/html": [
       "<table><tr><th>&nbsp;</th><th>core type</th><th>sub-expressions</th><th>expression</th></tr>\n",
       "<tr><td>0</td><td>Lambda</td><td>parameter:&nbsp;42<br>body:&nbsp;2<br></td><td><a class=\"ProveItLink\" href=\"expr.ipynb\"><img src=\"expr.png\" style=\"display:inline;vertical-align:middle;\" /></a></td></tr>\n",
       "<tr><td>1</td><td>ExprTuple</td><td>42</td><td><a class=\"ProveItLink\" href=\"../ca565dff2751ea9a3b48fe855133b9e0c2eca83f0/expr.ipynb\"><img src=\"../ca565dff2751ea9a3b48fe855133b9e0c2eca83f0/expr.png\" style=\"display:inline;vertical-align:middle;\" /></a></td></tr>\n",
       "<tr><td>2</td><td>Conditional</td><td>value:&nbsp;3<br>condition:&nbsp;4<br></td><td><a class=\"ProveItLink\" href=\"../ef823d9aff75e50326598bd864893924cc4a71800/expr.ipynb\"><img src=\"../ef823d9aff75e50326598bd864893924cc4a71800/expr.png\" style=\"display:inline;vertical-align:middle;\" /></a></td></tr>\n",
       "<tr><td>3</td><td>Operation</td><td>operator:&nbsp;16<br>operand:&nbsp;8<br></td><td><a class=\"ProveItLink\" href=\"../9ffac889a3099faa2e25db8099e413b72c8632890/expr.ipynb\"><img src=\"../9ffac889a3099faa2e25db8099e413b72c8632890/expr.png\" style=\"display:inline;vertical-align:middle;\" /></a></td></tr>\n",
       "<tr><td>4</td><td>Operation</td><td>operator:&nbsp;6<br>operands:&nbsp;7<br></td><td><a class=\"ProveItLink\" href=\"../c3c0a0522590e024022c8052cabac138164190560/expr.ipynb\"><img src=\"../c3c0a0522590e024022c8052cabac138164190560/expr.png\" style=\"display:inline;vertical-align:middle;\" /></a></td></tr>\n",
       "<tr><td>5</td><td>ExprTuple</td><td>8</td><td><a class=\"ProveItLink\" href=\"../b8a004da931aa6bfea8ff93baf86e1a05c5c3e700/expr.ipynb\"><img src=\"../b8a004da931aa6bfea8ff93baf86e1a05c5c3e700/expr.png\" style=\"display:inline;vertical-align:middle;\" /></a></td></tr>\n",
       "<tr><td>6</td><td>Literal</td><td></td><td><a class=\"ProveItLink\" href=\"../../../../../../sets/membership/__pv_it/common/477487d8796864d23d5810f83761435f25167f690/expr.ipynb\"><img src=\"../../../../../../sets/membership/__pv_it/common/477487d8796864d23d5810f83761435f25167f690/expr.png\" style=\"display:inline;vertical-align:middle;\" /></a></td></tr>\n",
       "<tr><td>7</td><td>ExprTuple</td><td>42, 9</td><td><a class=\"ProveItLink\" href=\"../4459dda147b56e10026c83203ced1bc32b9704ab0/expr.ipynb\"><img src=\"../4459dda147b56e10026c83203ced1bc32b9704ab0/expr.png\" style=\"display:inline;vertical-align:middle;\" /></a></td></tr>\n",
       "<tr><td>8</td><td>Lambda</td><td>parameters:&nbsp;10<br>body:&nbsp;11<br></td><td><a class=\"ProveItLink\" href=\"../2361a9709940078bed08964927767878568e6c510/expr.ipynb\"><img src=\"../2361a9709940078bed08964927767878568e6c510/expr.png\" style=\"display:inline;vertical-align:middle;\" /></a></td></tr>\n",
       "<tr><td>9</td><td>Literal</td><td></td><td><a class=\"ProveItLink\" href=\"../../../../../../../numbers/number_sets/natural_numbers/__pv_it/common/6111329435c43892c831c4793de96afbf80bdb3e0/expr.ipynb\"><img src=\"../../../../../../../numbers/number_sets/natural_numbers/__pv_it/common/6111329435c43892c831c4793de96afbf80bdb3e0/expr.png\" style=\"display:inline;vertical-align:middle;\" /></a></td></tr>\n",
       "<tr><td>10</td><td>ExprTuple</td><td>35, 31</td><td><a class=\"ProveItLink\" href=\"../c4c1f21d6347f60062175d1a42df20cb07a4deb80/expr.ipynb\"><img src=\"../c4c1f21d6347f60062175d1a42df20cb07a4deb80/expr.png\" style=\"display:inline;vertical-align:middle;\" /></a></td></tr>\n",
       "<tr><td>11</td><td>Operation</td><td>operator:&nbsp;12<br>operands:&nbsp;13<br></td><td><a class=\"ProveItLink\" href=\"../f10333e9181a1b6c9e4f04f912dbd729c98d3c040/expr.ipynb\"><img src=\"../f10333e9181a1b6c9e4f04f912dbd729c98d3c040/expr.png\" style=\"display:inline;vertical-align:middle;\" /></a></td></tr>\n",
       "<tr><td>12</td><td>Literal</td><td></td><td><a class=\"ProveItLink\" href=\"../../../../../implication/__pv_it/common/02bdb382575728da8cdbaed545b9096ea7a1bd5b0/expr.ipynb\"><img src=\"../../../../../implication/__pv_it/common/02bdb382575728da8cdbaed545b9096ea7a1bd5b0/expr.png\" style=\"display:inline;vertical-align:middle;\" /></a></td></tr>\n",
       "<tr><td>13</td><td>ExprTuple</td><td>14, 15</td><td><a class=\"ProveItLink\" href=\"../302cff0698b7db9f950ee312e2169bfdfd624ecd0/expr.ipynb\"><img src=\"../302cff0698b7db9f950ee312e2169bfdfd624ecd0/expr.png\" style=\"display:inline;vertical-align:middle;\" /></a></td></tr>\n",
       "<tr><td>14</td><td>Operation</td><td>operator:&nbsp;16<br>operand:&nbsp;20<br></td><td><a class=\"ProveItLink\" href=\"../../../../__pv_it/common/4e37f611a66237a7017b23c1a812db0e1604c50f0/expr.ipynb\"><img src=\"../../../../__pv_it/common/4e37f611a66237a7017b23c1a812db0e1604c50f0/expr.png\" style=\"display:inline;vertical-align:middle;\" /></a></td></tr>\n",
       "<tr><td>15</td><td>Operation</td><td>operator:&nbsp;18<br>operand:&nbsp;21<br></td><td><a class=\"ProveItLink\" href=\"../../../../__pv_it/common/89d6ea0d585195179b1060b87c9467e864c1d3760/expr.ipynb\"><img src=\"../../../../__pv_it/common/89d6ea0d585195179b1060b87c9467e864c1d3760/expr.png\" style=\"display:inline;vertical-align:middle;\" /></a></td></tr>\n",
       "<tr><td>16</td><td>Literal</td><td></td><td><a class=\"ProveItLink\" href=\"../../../../universality/__pv_it/common/083d2baa0b8ecab1d230f9ec29a15aa1355809fb0/expr.ipynb\"><img src=\"../../../../universality/__pv_it/common/083d2baa0b8ecab1d230f9ec29a15aa1355809fb0/expr.png\" style=\"display:inline;vertical-align:middle;\" /></a></td></tr>\n",
       "<tr><td>17</td><td>ExprTuple</td><td>20</td><td><a class=\"ProveItLink\" href=\"../../../../__pv_it/common/cbe3f68315082338f9c1de4cb156e906c187b9c80/expr.ipynb\"><img src=\"../../../../__pv_it/common/cbe3f68315082338f9c1de4cb156e906c187b9c80/expr.png\" style=\"display:inline;vertical-align:middle;\" /></a></td></tr>\n",
       "<tr><td>18</td><td>Literal</td><td></td><td><a class=\"ProveItLink\" href=\"../../common/669b21f12f1d528c761f5d2e0039e16abc982b0f0/expr.ipynb\"><img src=\"../../common/669b21f12f1d528c761f5d2e0039e16abc982b0f0/expr.png\" style=\"display:inline;vertical-align:middle;\" /></a></td></tr>\n",
       "<tr><td>19</td><td>ExprTuple</td><td>21</td><td><a class=\"ProveItLink\" href=\"../../../../__pv_it/common/adac62456da891e5b0f46d9a9e6a07c15b056c710/expr.ipynb\"><img src=\"../../../../__pv_it/common/adac62456da891e5b0f46d9a9e6a07c15b056c710/expr.png\" style=\"display:inline;vertical-align:middle;\" /></a></td></tr>\n",
       "<tr><td>20</td><td>Lambda</td><td>parameters:&nbsp;28<br>body:&nbsp;22<br></td><td><a class=\"ProveItLink\" href=\"../../../../__pv_it/common/105524e4c9704523f29779cf036e984efabf7a1e0/expr.ipynb\"><img src=\"../../../../__pv_it/common/105524e4c9704523f29779cf036e984efabf7a1e0/expr.png\" style=\"display:inline;vertical-align:middle;\" /></a></td></tr>\n",
       "<tr><td>21</td><td>Lambda</td><td>parameters:&nbsp;36<br>body:&nbsp;23<br></td><td><a class=\"ProveItLink\" href=\"../../../../__pv_it/common/d7171a26382154a6129210c0e24f3c0b164879710/expr.ipynb\"><img src=\"../../../../__pv_it/common/d7171a26382154a6129210c0e24f3c0b164879710/expr.png\" style=\"display:inline;vertical-align:middle;\" /></a></td></tr>\n",
       "<tr><td>22</td><td>Conditional</td><td>value:&nbsp;24<br>condition:&nbsp;25<br></td><td><a class=\"ProveItLink\" href=\"../../../../__pv_it/common/ca9d8cfb5030e6cd59c6bf087701755e39b0c4a40/expr.ipynb\"><img src=\"../../../../__pv_it/common/ca9d8cfb5030e6cd59c6bf087701755e39b0c4a40/expr.png\" style=\"display:inline;vertical-align:middle;\" /></a></td></tr>\n",
       "<tr><td>23</td><td>Conditional</td><td>value:&nbsp;26<br>condition:&nbsp;27<br></td><td><a class=\"ProveItLink\" href=\"../../../../__pv_it/common/ccc6321465de90ac24cd7cef1ccd430e611ffff80/expr.ipynb\"><img src=\"../../../../__pv_it/common/ccc6321465de90ac24cd7cef1ccd430e611ffff80/expr.png\" style=\"display:inline;vertical-align:middle;\" /></a></td></tr>\n",
       "<tr><td>24</td><td>Operation</td><td>operator:&nbsp;35<br>operands:&nbsp;28<br></td><td><a class=\"ProveItLink\" href=\"../../../../../../../core_expr_types/__pv_it/common/bcbe622d6fda27f5c2da727eff45652e5b8413350/expr.ipynb\"><img src=\"../../../../../../../core_expr_types/__pv_it/common/bcbe622d6fda27f5c2da727eff45652e5b8413350/expr.png\" style=\"display:inline;vertical-align:middle;\" /></a></td></tr>\n",
       "<tr><td>25</td><td>Operation</td><td>operator:&nbsp;31<br>operands:&nbsp;28<br></td><td><a class=\"ProveItLink\" href=\"../../../../../../../core_expr_types/__pv_it/common/bf2f905b72ae7caedef50b78edeba9c03ac6d7cd0/expr.ipynb\"><img src=\"../../../../../../../core_expr_types/__pv_it/common/bf2f905b72ae7caedef50b78edeba9c03ac6d7cd0/expr.png\" style=\"display:inline;vertical-align:middle;\" /></a></td></tr>\n",
       "<tr><td>26</td><td>Operation</td><td>operator:&nbsp;29<br>operand:&nbsp;33<br></td><td><a class=\"ProveItLink\" href=\"../../../../__pv_it/common/1947e4780bd9f801870d66012524854d5b24f2a00/expr.ipynb\"><img src=\"../../../../__pv_it/common/1947e4780bd9f801870d66012524854d5b24f2a00/expr.png\" style=\"display:inline;vertical-align:middle;\" /></a></td></tr>\n",
       "<tr><td>27</td><td>Operation</td><td>operator:&nbsp;31<br>operands:&nbsp;36<br></td><td><a class=\"ProveItLink\" href=\"../../../../../../../core_expr_types/__pv_it/common/e38d9e725daa55259ff29a69c9848df141c43acc0/expr.ipynb\"><img src=\"../../../../../../../core_expr_types/__pv_it/common/e38d9e725daa55259ff29a69c9848df141c43acc0/expr.png\" style=\"display:inline;vertical-align:middle;\" /></a></td></tr>\n",
       "<tr><td>28</td><td>ExprTuple</td><td>32</td><td><a class=\"ProveItLink\" href=\"../../../../../../../core_expr_types/__pv_it/common/444da5a1d6d4966e75dd84efc2704e338e811fe40/expr.ipynb\"><img src=\"../../../../../../../core_expr_types/__pv_it/common/444da5a1d6d4966e75dd84efc2704e338e811fe40/expr.png\" style=\"display:inline;vertical-align:middle;\" /></a></td></tr>\n",
       "<tr><td>29</td><td>Literal</td><td></td><td><a class=\"ProveItLink\" href=\"../../../../../negation/__pv_it/common/1a811a997e5d75fdb50cdaf74f302daccad39af40/expr.ipynb\"><img src=\"../../../../../negation/__pv_it/common/1a811a997e5d75fdb50cdaf74f302daccad39af40/expr.png\" style=\"display:inline;vertical-align:middle;\" /></a></td></tr>\n",
       "<tr><td>30</td><td>ExprTuple</td><td>33</td><td><a class=\"ProveItLink\" href=\"../../../../__pv_it/common/551f572f9734e8a626c8d7934d4f994af04a0f910/expr.ipynb\"><img src=\"../../../../__pv_it/common/551f572f9734e8a626c8d7934d4f994af04a0f910/expr.png\" style=\"display:inline;vertical-align:middle;\" /></a></td></tr>\n",
       "<tr><td>31</td><td>Variable</td><td></td><td><a class=\"ProveItLink\" href=\"../../../../../../../__pv_it/common/d72bb8b07403efe79afab564c36a28e21330e5f90/expr.ipynb\"><img src=\"../../../../../../../__pv_it/common/d72bb8b07403efe79afab564c36a28e21330e5f90/expr.png\" style=\"display:inline;vertical-align:middle;\" /></a></td></tr>\n",
       "<tr><td>32</td><td>ExprRange</td><td>lambda_map:&nbsp;34<br>start_index:&nbsp;41<br>end_index:&nbsp;42<br></td><td><a class=\"ProveItLink\" href=\"../../../../../../../core_expr_types/__pv_it/common/d50f819f834d55ea1b9fad150926a94bf07ad8fc0/expr.ipynb\"><img src=\"../../../../../../../core_expr_types/__pv_it/common/d50f819f834d55ea1b9fad150926a94bf07ad8fc0/expr.png\" style=\"display:inline;vertical-align:middle;\" /></a></td></tr>\n",
       "<tr><td>33</td><td>Operation</td><td>operator:&nbsp;35<br>operands:&nbsp;36<br></td><td><a class=\"ProveItLink\" href=\"../../../../../../../core_expr_types/__pv_it/common/354c982fd0f502112bf4694db5f23a5833ec2bdf0/expr.ipynb\"><img src=\"../../../../../../../core_expr_types/__pv_it/common/354c982fd0f502112bf4694db5f23a5833ec2bdf0/expr.png\" style=\"display:inline;vertical-align:middle;\" /></a></td></tr>\n",
       "<tr><td>34</td><td>Lambda</td><td>parameter:&nbsp;46<br>body:&nbsp;37<br></td><td><a class=\"ProveItLink\" href=\"../../../../../../../core_expr_types/__pv_it/common/f8f30fee5e5b4e37951ff8886b574795bf35d80c0/expr.ipynb\"><img src=\"../../../../../../../core_expr_types/__pv_it/common/f8f30fee5e5b4e37951ff8886b574795bf35d80c0/expr.png\" style=\"display:inline;vertical-align:middle;\" /></a></td></tr>\n",
       "<tr><td>35</td><td>Variable</td><td></td><td><a class=\"ProveItLink\" href=\"../../../../../../../__pv_it/common/de55da274ba0f49c86925fbf3828021c04d27faf0/expr.ipynb\"><img src=\"../../../../../../../__pv_it/common/de55da274ba0f49c86925fbf3828021c04d27faf0/expr.png\" style=\"display:inline;vertical-align:middle;\" /></a></td></tr>\n",
       "<tr><td>36</td><td>ExprTuple</td><td>38</td><td><a class=\"ProveItLink\" href=\"../../../../../../../core_expr_types/__pv_it/common/3e6f103b1536f1d5f586682ee3b57d9899deba720/expr.ipynb\"><img src=\"../../../../../../../core_expr_types/__pv_it/common/3e6f103b1536f1d5f586682ee3b57d9899deba720/expr.png\" style=\"display:inline;vertical-align:middle;\" /></a></td></tr>\n",
       "<tr><td>37</td><td>IndexedVar</td><td>variable:&nbsp;39<br>index:&nbsp;46<br></td><td><a class=\"ProveItLink\" href=\"../../../../../../../core_expr_types/__pv_it/common/b7a46615d4e67a28ab963909b818c72af8e8e7c60/expr.ipynb\"><img src=\"../../../../../../../core_expr_types/__pv_it/common/b7a46615d4e67a28ab963909b818c72af8e8e7c60/expr.png\" style=\"display:inline;vertical-align:middle;\" /></a></td></tr>\n",
       "<tr><td>38</td><td>ExprRange</td><td>lambda_map:&nbsp;40<br>start_index:&nbsp;41<br>end_index:&nbsp;42<br></td><td><a class=\"ProveItLink\" href=\"../../../../../../../core_expr_types/__pv_it/common/bcf5ce1b1593e9c2c261618d94fd21c2cd04eae40/expr.ipynb\"><img src=\"../../../../../../../core_expr_types/__pv_it/common/bcf5ce1b1593e9c2c261618d94fd21c2cd04eae40/expr.png\" style=\"display:inline;vertical-align:middle;\" /></a></td></tr>\n",
       "<tr><td>39</td><td>Variable</td><td></td><td><a class=\"ProveItLink\" href=\"../../../../../../../__pv_it/common/a0d9d672aa5e272d907247690c152cc2c6daafb70/expr.ipynb\"><img src=\"../../../../../../../__pv_it/common/a0d9d672aa5e272d907247690c152cc2c6daafb70/expr.png\" style=\"display:inline;vertical-align:middle;\" /></a></td></tr>\n",
       "<tr><td>40</td><td>Lambda</td><td>parameter:&nbsp;46<br>body:&nbsp;43<br></td><td><a class=\"ProveItLink\" href=\"../../../../../../../core_expr_types/__pv_it/common/47ca082a5e3217d68f414fa9b5fb4cf7b07e06430/expr.ipynb\"><img src=\"../../../../../../../core_expr_types/__pv_it/common/47ca082a5e3217d68f414fa9b5fb4cf7b07e06430/expr.png\" style=\"display:inline;vertical-align:middle;\" /></a></td></tr>\n",
       "<tr><td>41</td><td>Literal</td><td></td><td><a class=\"ProveItLink\" href=\"../../../../../../../numbers/numerals/__pv_it/common/682157d4892d216d9e5626ed533aff9b56b9506e0/expr.ipynb\"><img src=\"../../../../../../../numbers/numerals/__pv_it/common/682157d4892d216d9e5626ed533aff9b56b9506e0/expr.png\" style=\"display:inline;vertical-align:middle;\" /></a></td></tr>\n",
       "<tr><td>42</td><td>Variable</td><td></td><td><a class=\"ProveItLink\" href=\"../../../../../../../__pv_it/common/8968bb04eb3f7dfa02353397ce929b025bbd79c20/expr.ipynb\"><img src=\"../../../../../../../__pv_it/common/8968bb04eb3f7dfa02353397ce929b025bbd79c20/expr.png\" style=\"display:inline;vertical-align:middle;\" /></a></td></tr>\n",
       "<tr><td>43</td><td>IndexedVar</td><td>variable:&nbsp;44<br>index:&nbsp;46<br></td><td><a class=\"ProveItLink\" href=\"../../../../../../../core_expr_types/__pv_it/common/dd83f4522fafc6cf7fa80e461f3330c821446f0a0/expr.ipynb\"><img src=\"../../../../../../../core_expr_types/__pv_it/common/dd83f4522fafc6cf7fa80e461f3330c821446f0a0/expr.png\" style=\"display:inline;vertical-align:middle;\" /></a></td></tr>\n",
       "<tr><td>44</td><td>Variable</td><td></td><td><a class=\"ProveItLink\" href=\"../../../../../../../__pv_it/common/ff7dba4ef0bbe791ab573bf2d9c220a304399ac80/expr.ipynb\"><img src=\"../../../../../../../__pv_it/common/ff7dba4ef0bbe791ab573bf2d9c220a304399ac80/expr.png\" style=\"display:inline;vertical-align:middle;\" /></a></td></tr>\n",
       "<tr><td>45</td><td>ExprTuple</td><td>46</td><td><a class=\"ProveItLink\" href=\"../../../../../../../core_expr_types/__pv_it/common/4b0dd6be36d76552eda6a95d5b4a27f5a5b62f900/expr.ipynb\"><img src=\"../../../../../../../core_expr_types/__pv_it/common/4b0dd6be36d76552eda6a95d5b4a27f5a5b62f900/expr.png\" style=\"display:inline;vertical-align:middle;\" /></a></td></tr>\n",
       "<tr><td>46</td><td>Variable</td><td></td><td><a class=\"ProveItLink\" href=\"../../../../../../../core_expr_types/__pv_it/common/006c465e50948aa2b52285e2de47974f741255cc0/expr.ipynb\"><img src=\"../../../../../../../core_expr_types/__pv_it/common/006c465e50948aa2b52285e2de47974f741255cc0/expr.png\" style=\"display:inline;vertical-align:middle;\" /></a></td></tr>\n",
       "</table>\n"
      ],
      "text/plain": [
       "0. n -> {forall_{P, Q} ([forall_{x_{1}, x_{2}, ..., x_{n} | Q(x_{1}, x_{2}, ..., x_{n})} P(x_{1}, x_{2}, ..., x_{n})] =>  \\\\ [notexists_{y_{1}, y_{2}, ..., y_{n} | Q(y_{1}, y_{2}, ..., y_{n})} [not](P(y_{1}, y_{2}, ..., y_{n}))]) if n in NaturalPos.\n",
       "   core type: Lambda\n",
       "   parameter: 42\n",
       "   body: 2\n",
       "1. (n)\n",
       "   core type: ExprTuple\n",
       "   sub-expressions: 42\n",
       "2. {forall_{P, Q} ([forall_{x_{1}, x_{2}, ..., x_{n} | Q(x_{1}, x_{2}, ..., x_{n})} P(x_{1}, x_{2}, ..., x_{n})] =>  \\\\ [notexists_{y_{1}, y_{2}, ..., y_{n} | Q(y_{1}, y_{2}, ..., y_{n})} [not](P(y_{1}, y_{2}, ..., y_{n}))]) if n in NaturalPos.\n",
       "   core type: Conditional\n",
       "   value: 3\n",
       "   condition: 4\n",
       "3. forall_{P, Q} ([forall_{x_{1}, x_{2}, ..., x_{n} | Q(x_{1}, x_{2}, ..., x_{n})} P(x_{1}, x_{2}, ..., x_{n})] =>  \\\\ [notexists_{y_{1}, y_{2}, ..., y_{n} | Q(y_{1}, y_{2}, ..., y_{n})} [not](P(y_{1}, y_{2}, ..., y_{n}))])\n",
       "   core type: Operation\n",
       "   operator: 16\n",
       "   operand: 8\n",
       "4. n in NaturalPos\n",
       "   core type: Operation\n",
       "   operator: 6\n",
       "   operands: 7\n",
       "5. ((P, Q) -> ([forall_{x_{1}, x_{2}, ..., x_{n} | Q(x_{1}, x_{2}, ..., x_{n})} P(x_{1}, x_{2}, ..., x_{n})] =>  \\\\ [notexists_{y_{1}, y_{2}, ..., y_{n} | Q(y_{1}, y_{2}, ..., y_{n})} [not](P(y_{1}, y_{2}, ..., y_{n}))]))\n",
       "   core type: ExprTuple\n",
       "   sub-expressions: 8\n",
       "6. in\n",
       "   core type: Literal\n",
       "   sub-expressions: \n",
       "7. (n, NaturalPos)\n",
       "   core type: ExprTuple\n",
       "   sub-expressions: 42, 9\n",
       "8. (P, Q) -> ([forall_{x_{1}, x_{2}, ..., x_{n} | Q(x_{1}, x_{2}, ..., x_{n})} P(x_{1}, x_{2}, ..., x_{n})] =>  \\\\ [notexists_{y_{1}, y_{2}, ..., y_{n} | Q(y_{1}, y_{2}, ..., y_{n})} [not](P(y_{1}, y_{2}, ..., y_{n}))])\n",
       "   core type: Lambda\n",
       "   parameters: 10\\n   body: 11\n",
       "9. NaturalPos\n",
       "   core type: Literal\n",
       "   sub-expressions: \n",
       "10. (P, Q)\n",
       "    core type: ExprTuple\n",
       "    sub-expressions: 35, 31\n",
       "11. [forall_{x_{1}, x_{2}, ..., x_{n} | Q(x_{1}, x_{2}, ..., x_{n})} P(x_{1}, x_{2}, ..., x_{n})] =>  \\\\ [notexists_{y_{1}, y_{2}, ..., y_{n} | Q(y_{1}, y_{2}, ..., y_{n})} [not](P(y_{1}, y_{2}, ..., y_{n}))]\n",
       "    core type: Operation\n",
       "    operator: 12\n",
       "    operands: 13\n",
       "12. =>\n",
       "    core type: Literal\n",
       "    sub-expressions: \n",
       "13. (forall_{x_{1}, x_{2}, ..., x_{n} | Q(x_{1}, x_{2}, ..., x_{n})} P(x_{1}, x_{2}, ..., x_{n}), notexists_{y_{1}, y_{2}, ..., y_{n} | Q(y_{1}, y_{2}, ..., y_{n})} [not](P(y_{1}, y_{2}, ..., y_{n})))\n",
       "    core type: ExprTuple\n",
       "    sub-expressions: 14, 15\n",
       "14. forall_{x_{1}, x_{2}, ..., x_{n} | Q(x_{1}, x_{2}, ..., x_{n})} P(x_{1}, x_{2}, ..., x_{n})\n",
       "    core type: Operation\n",
       "    operator: 16\n",
       "    operand: 20\n",
       "15. notexists_{y_{1}, y_{2}, ..., y_{n} | Q(y_{1}, y_{2}, ..., y_{n})} [not](P(y_{1}, y_{2}, ..., y_{n}))\n",
       "    core type: Operation\n",
       "    operator: 18\n",
       "    operand: 21\n",
       "16. forall\n",
       "    core type: Literal\n",
       "    sub-expressions: \n",
       "17. ((x_{1}, x_{2}, ..., x_{n}) -> {P(x_{1}, x_{2}, ..., x_{n}) if Q(x_{1}, x_{2}, ..., x_{n}).)\n",
       "    core type: ExprTuple\n",
       "    sub-expressions: 20\n",
       "18. notexists\n",
       "    core type: Literal\n",
       "    sub-expressions: \n",
       "19. ((y_{1}, y_{2}, ..., y_{n}) -> {[not](P(y_{1}, y_{2}, ..., y_{n})) if Q(y_{1}, y_{2}, ..., y_{n}).)\n",
       "    core type: ExprTuple\n",
       "    sub-expressions: 21\n",
       "20. (x_{1}, x_{2}, ..., x_{n}) -> {P(x_{1}, x_{2}, ..., x_{n}) if Q(x_{1}, x_{2}, ..., x_{n}).\n",
       "    core type: Lambda\n",
       "    parameters: 28\\n    body: 22\n",
       "21. (y_{1}, y_{2}, ..., y_{n}) -> {[not](P(y_{1}, y_{2}, ..., y_{n})) if Q(y_{1}, y_{2}, ..., y_{n}).\n",
       "    core type: Lambda\n",
       "    parameters: 36\\n    body: 23\n",
       "22. {P(x_{1}, x_{2}, ..., x_{n}) if Q(x_{1}, x_{2}, ..., x_{n}).\n",
       "    core type: Conditional\n",
       "    value: 24\n",
       "    condition: 25\n",
       "23. {[not](P(y_{1}, y_{2}, ..., y_{n})) if Q(y_{1}, y_{2}, ..., y_{n}).\n",
       "    core type: Conditional\n",
       "    value: 26\n",
       "    condition: 27\n",
       "24. P(x_{1}, x_{2}, ..., x_{n})\n",
       "    core type: Operation\n",
       "    operator: 35\n",
       "    operands: 28\n",
       "25. Q(x_{1}, x_{2}, ..., x_{n})\n",
       "    core type: Operation\n",
       "    operator: 31\n",
       "    operands: 28\n",
       "26. [not](P(y_{1}, y_{2}, ..., y_{n}))\n",
       "    core type: Operation\n",
       "    operator: 29\n",
       "    operand: 33\n",
       "27. Q(y_{1}, y_{2}, ..., y_{n})\n",
       "    core type: Operation\n",
       "    operator: 31\n",
       "    operands: 36\n",
       "28. (x_{1}, x_{2}, ..., x_{n})\n",
       "    core type: ExprTuple\n",
       "    sub-expressions: 32\n",
       "29. not\n",
       "    core type: Literal\n",
       "    sub-expressions: \n",
       "30. (P(y_{1}, y_{2}, ..., y_{n}))\n",
       "    core type: ExprTuple\n",
       "    sub-expressions: 33\n",
       "31. Q\n",
       "    core type: Variable\n",
       "    sub-expressions: \n",
       "32. x_{1}, x_{2}, ..., x_{n}\n",
       "    core type: ExprRange\n",
       "    lambda_map: 34\n",
       "    start_index: 41\n",
       "    end_index: 42\n",
       "33. P(y_{1}, y_{2}, ..., y_{n})\n",
       "    core type: Operation\n",
       "    operator: 35\n",
       "    operands: 36\n",
       "34. _a -> x_{_a}\n",
       "    core type: Lambda\n",
       "    parameter: 46\n",
       "    body: 37\n",
       "35. P\n",
       "    core type: Variable\n",
       "    sub-expressions: \n",
       "36. (y_{1}, y_{2}, ..., y_{n})\n",
       "    core type: ExprTuple\n",
       "    sub-expressions: 38\n",
       "37. x_{_a}\n",
       "    core type: IndexedVar\n",
       "variable: 39\n",
       "index: 46\n",
       "38. y_{1}, y_{2}, ..., y_{n}\n",
       "    core type: ExprRange\n",
       "    lambda_map: 40\n",
       "    start_index: 41\n",
       "    end_index: 42\n",
       "39. x\n",
       "    core type: Variable\n",
       "    sub-expressions: \n",
       "40. _a -> y_{_a}\n",
       "    core type: Lambda\n",
       "    parameter: 46\n",
       "    body: 43\n",
       "41. 1\n",
       "    core type: Literal\n",
       "    sub-expressions: \n",
       "42. n\n",
       "    core type: Variable\n",
       "    sub-expressions: \n",
       "43. y_{_a}\n",
       "    core type: IndexedVar\n",
       "variable: 44\n",
       "index: 46\n",
       "44. y\n",
       "    core type: Variable\n",
       "    sub-expressions: \n",
       "45. (_a)\n",
       "    core type: ExprTuple\n",
       "    sub-expressions: 46\n",
       "46. _a\n",
       "    core type: Variable\n",
       "    sub-expressions: "
      ]
     },
     "metadata": {},
     "output_type": "display_data"
    }
   ],
   "source": [
    "# display the expression information\n",
    "stored_expr.expr_info()"
   ]
  },
  {
   "cell_type": "code",
   "execution_count": null,
   "metadata": {},
   "outputs": [],
   "source": []
  }
 ],
 "metadata": {
  "kernelspec": {
   "display_name": "Python 3",
   "language": "python",
   "name": "python3"
  }
 },
 "nbformat": 4,
 "nbformat_minor": 0
}