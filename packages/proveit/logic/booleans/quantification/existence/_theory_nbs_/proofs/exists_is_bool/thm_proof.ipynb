{
 "cells": [
  {
   "cell_type": "markdown",
   "metadata": {},
   "source": [
    "Proof of <a class=\"ProveItLink\" href=\"../../../../../../../_theory_nbs_/theory.ipynb\">proveit</a>.<a class=\"ProveItLink\" href=\"../../../../../../_theory_nbs_/theory.ipynb\">logic</a>.<a class=\"ProveItLink\" href=\"../../../../../_theory_nbs_/theory.ipynb\">booleans</a>.<a class=\"ProveItLink\" href=\"../../../../_theory_nbs_/theory.ipynb\">quantification</a>.<a class=\"ProveItLink\" href=\"../../theory.ipynb\">existence</a>.<a class=\"ProveItLink\" href=\"../../theorems.ipynb#exists_is_bool\">exists_is_bool</a> theorem\n",
    "========\n",
    "*** see <a href=\"../__pv_it/84700d9fefa54ea1d425e5f5147806a4ff4396650/dependencies.ipynb\" class=\"ProveItLink\">dependencies</a> ***"
   ]
  },
  {
   "cell_type": "code",
   "execution_count": 1,
   "metadata": {},
   "outputs": [
    {
     "data": {
      "text/html": [
       "With these <a href=\"allowed_presumptions.txt\">allowed</a>/<a href=\"disallowed_presumptions.txt\">disallowed</a> theorem/theory presumptions (e.g., to avoid circular dependencies), we begin our proof of<br><strong id=\"exists_is_bool\">exists_is_bool:</strong> <a class=\"ProveItLink\" href=\"../../../__pv_it/theorems/97a44fe80755f33e9b7934a8e1439ab8b84b84fa0/expr.ipynb\"><img src=\"data:image/png;base64,iVBORw0KGgoAAAANSUhEUgAAAbcAAAAWBAMAAACxjs8nAAAAMFBMVEX///8AAAAAAAAAAAAAAAAA\n",
       "AAAAAAAAAAAAAAAAAAAAAAAAAAAAAAAAAAAAAAAAAAAv3aB7AAAAD3RSTlMAq1RmmUTNIjK7EInv\n",
       "3XZ/CtNrAAAACXBIWXMAAA7EAAAOxAGVKw4bAAAFRElEQVRYw72YfWhbVRTAT5KXvJf3mtcWFa3K\n",
       "iKijWK1hdn7g0ECrjvlB3EBwmxpQEMdwGcikOra4v0S3GoVSK7g+3RC3QY2zU0ZxVMeY21C6Uccs\n",
       "BtK1Dqo05g9d64rWc+77uu8jre0DH+S9e87Juzm/e+4999wALHippbyfOgdTFyDgJQZ+u4YPYk23\n",
       "XZeS8UVOwpGgbHAx0NvRMt5cTkyd2rL5bIaZ0O8GUt08P1yIHuGUQ9tC/QqlUunnzGKdmpx7t+kF\n",
       "jbosBhubcS8cFJ4VN13DTAj3EGlenB9OIP9jOV4pZ81+MYSLvS4DxE/j85OAgY9pPnDr4Ks4MyHc\n",
       "GzRDC/PDSRTeTodSSC0dTvoHg4YfaA8IF0n7wq0IMRPCEb2SXGDNbcLHYYeyDpYOp87gZxYbQ0HX\n",
       "7GkLTv2wdN6CizET+h3BEMQWSih34SPrUC4PABev4gcBw9mgcM+bTkRf1uzIXXs/M1Ei/L5UOrMQ\n",
       "XB3mDefifzQAXD2ugncwnQnUZf/Yp4NcDy7Re8mV69+2JtHnphPbNDuh9J8tMhPBrQb4wKeTIg8n\n",
       "5CGuucdsyXAI9vo5ygeUf9PqMmHYtrlE7yXAWPlxU7jbdMLOiIVnNv+9hpkIbiuIDT6dpHk4/MZW\n",
       "bD39x0CjkTPPMbgwbQWLhvv9hsGV9Ezgm5Fc5EooBfuMGaqL8mCjVuvle+BB7SpTuN2Ey/IJZfwp\n",
       "jUwEF9ccu7Q4cgRWNbjgMLbUSWQYFGNYTwSIXJ+ZlLBjCQR0TKoY3eqiALWjl4eHuTlgOCHh2ir9\n",
       "ZMLFo0Uykd/hsp1Pupq64SZFEzQ3XCsbm1Aa1GpwuMscHN6pzghbMCTWZ8SZ2q//YDc3Gk7IBT5y\n",
       "cSiQicUs+4A1n1dTtVJOKzDQMdKR4eBiEXKhLgmJBn5aGnCVRybMHZ5r2pdTKc0ajQQbludyssbB\n",
       "kRjR5oGLTsNBaLu3QqN/h+nEsBMuSyYGdxh3sUh714RezkDzrTsU95oDZTktgp2aeLWh3MvBqbmm\n",
       "mBE+rsnta06l+qe5JeCAHcjcCIoeORkskWa/7OVCH+Tu0BAU5ZXH4SQq7jOdqDjgwmUyMbjtGIx9\n",
       "G1N1OT24zcrHGzxw4jfUWlW5qNlJ2IKLwF4JRJZyWXPthLPcZEquaKqaHeMP3/nWY7BWh/ssa4mw\n",
       "R2OiTDOY3UwpPLN/KJoU+7NwRd+QdCfswStsgGMDzMTgQng0eO0S1GtRVho3Q3rSAwfXUavR9nAP\n",
       "8IXzNMCuUd2AzSG56hryaT6X9/1VNuYnEu2vhNuTOlxi1BJppEiEETBuCfKnpIH8RPmWFehzOUrl\n",
       "zY8mnNy0Xu/z0qk+OhWQyc6Ty3AFRl7q7X0P4Q7F3PuccR23XUzkubJOGsLz06jVzEmuuoqUbeta\n",
       "PNPMPouxNXebJb4Cr/Ki9S1rg6jLC+k8iMOWE9GjRvllJv1hzu/voEOSinrkoq3+5zlx2r9m3a5k\n",
       "BQZ3yGjGMyAXUWI3Q9laSHicbXPCWeMpvv/mGn54LU+s1k5I7Mpz1bt3r09xflfhQrNeqeD+OuYP\n",
       "NznLba09dr/CL8d+ZXC7k3oTk670LezOSSfxZihD+W3eItPMoeKXs2WQy1Zc5uaqnGjXZlbrSVC/\n",
       "0A8qNeA6Ob+jDfBbCjpxrknncxD6DyfxA+5+aVrqy1rR0K+wZdCVCRhf76kTHUct1ZVjvb/pxu2p\n",
       "Ddfj8Vs+2tvtUzj7/hkhluFr/v+LrjNJiOqR3TKHk8wiMZQfQUvK08mOQGcCFQM/daKWSV38XwTz\n",
       "Hx65dspP+T9f/wJIDJc3qCUfYgAAAABJRU5ErkJggg==\n",
       "\" style=\"display:inline;vertical-align:middle;\" /></a><br>(see <a class=\"ProveItLink\" href=\"../../../__pv_it/theorems/7baa1a1d53d5a2fa237e99418f517b40c4ec3c450/dependencies.ipynb\">dependencies</a>)<br>"
      ],
      "text/plain": [
       "<IPython.core.display.HTML object>"
      ]
     },
     "metadata": {},
     "output_type": "display_data"
    },
    {
     "name": "stdout",
     "output_type": "stream",
     "text": [
      "exists_is_bool may now be readily provable (assuming required theorems are usable).  Simply execute \"%qed\".\n"
     ]
    }
   ],
   "source": [
    "import proveit\n",
    "%proving exists_is_bool"
   ]
  },
  {
   "cell_type": "code",
   "execution_count": null,
   "metadata": {},
   "outputs": [],
   "source": []
  }
 ],
 "metadata": {
  "kernelspec": {
   "display_name": "Python 3",
   "language": "python",
   "name": "python3"
  }
 },
 "nbformat": 4,
 "nbformat_minor": 0
}