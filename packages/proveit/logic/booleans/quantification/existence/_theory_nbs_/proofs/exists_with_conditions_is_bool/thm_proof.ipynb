{
 "cells": [
  {
   "cell_type": "markdown",
   "metadata": {},
   "source": [
    "Proof of <a class=\"ProveItLink\" href=\"../../../../../../../_theory_nbs_/theory.ipynb\">proveit</a>.<a class=\"ProveItLink\" href=\"../../../../../../_theory_nbs_/theory.ipynb\">logic</a>.<a class=\"ProveItLink\" href=\"../../../../../_theory_nbs_/theory.ipynb\">booleans</a>.<a class=\"ProveItLink\" href=\"../../../../_theory_nbs_/theory.ipynb\">quantification</a>.<a class=\"ProveItLink\" href=\"../../theory.ipynb\">existence</a>.<a class=\"ProveItLink\" href=\"../../theorems.ipynb#exists_with_conditions_is_bool\">exists_with_conditions_is_bool</a> theorem\n",
    "========"
   ]
  },
  {
   "cell_type": "code",
   "execution_count": 1,
   "metadata": {},
   "outputs": [],
   "source": [
    "import proveit\n",
    "theory = proveit.Theory() # the theorem's theory"
   ]
  },
  {
   "cell_type": "code",
   "execution_count": 2,
   "metadata": {},
   "outputs": [
    {
     "data": {
      "text/html": [
       "With these <a href=\"allowed_presumptions.txt\">allowed</a>/<a href=\"disallowed_presumptions.txt\">disallowed</a> theorem/theory presumptions (e.g., to avoid circular dependencies), we begin our proof of<br><strong id=\"exists_with_conditions_is_bool\">exists_with_conditions_is_bool:</strong> <a class=\"ProveItLink\" href=\"../../../__pv_it/theorems/3293b0e1f88c4fffe9aec71d04d7f13185e93c430/expr.ipynb\"><img src=\"data:image/png;base64,iVBORw0KGgoAAAANSUhEUgAAAkoAAAAZBAMAAAA8iBzaAAAAMFBMVEX///8AAAAAAAAAAAAAAAAA\n",
       "AAAAAAAAAAAAAAAAAAAAAAAAAAAAAAAAAAAAAAAAAAAv3aB7AAAAD3RSTlMAq1RmmUTNIjK7EInv\n",
       "3XZ/CtNrAAAACXBIWXMAAA7EAAAOxAGVKw4bAAAGq0lEQVRYw9WZf4gUVRzAv/tjdmZ/3hr9uiTZ\n",
       "yOxIPJbUPyK5VtSyIloQBE/TjYJItFYKQ7O8/CMK1FsrsxPKOYUihHMTNVSQSwk1KdYyM3Fg/YFx\n",
       "qNcF/TAPvb7f997MvLmZvb27FZcezMx7+33f7873M9/35vveAFQv9xr5IeVTAXzGL/B/LleMlOfv\n",
       "QTwSxo/DMZEbWuzPAITq7Wa+RtVA2lOmFug8+SZQ+hzqTymRGr3uQi9KV46+uuR4FqCFU0rS5f4q\n",
       "lHwsZrxxw4ec0jOGYXx7a9n0DGxofFGn2sRaCKe9YqmwUF18B0BcZ5Rm0U8vVaEUzBIJ76hWu+1Y\n",
       "OneLQ+hvgPB3eI3karGy2JPSHPg6jAiTjNI71ugbgpJGfVd4S4PFulHSbmCE36B7SNdiZkoFSg/j\n",
       "EIpcY5RCGFLRVLV5iXDv9JY2ZOtGKXEVj36sxGoyE9NtSolPjZMWJfLqBUaJxKGqs/fkypN4u143\n",
       "SuE+PJAUTKjJTChtUVJe0e1YuutRvD7J33HfG8axqpRihnGmWCHVgLpRasCZor2MladxaFxIQ6cl\n",
       "cbY8itwhmrQoLdft2bvrOHl8mVOaDbC5KqVgG4R1b+md9aOEhN5kGR8Oi6i/Gx6zJM6WR5E7BHIW\n",
       "Jfs1VnhuyfWn8LpIZ5SWgZr0MFN0UMIuyyr8X4egNAkzgYMjcjLoaD04bL2yWfl97P6prIKo1gRL\n",
       "0Gh1cbY8itwBgZmUcvLsfX4uEmpvY5TCejQrv9hP7IZpiC3jzCo3w248z/tz1xiWD1zqfcKUPj/q\n",
       "WAqLKzMWyI6c7hazgnmaHivDD7BNuMlakf1j9Eo2eHfxquwzKWk4/Ri/mpTCCobK6iyj5C/bk/f6\n",
       "xo1wX1QP6i5KzewcKEG0hNe5eVhlZk8naqXEjXUOX08p2umSRQmHhnZV6y2JX6gVhGCpohHqYNqz\n",
       "YilSkGMpDNjckRXvrhbrIc2mPLyciYKLUihAce7LQALB+/HPg4WbFEvC2KwRpoH05PvNH2hyehwS\n",
       "3cwYK9RqyKpXK9pg3cG6AzHiSk5K6PlqPuJgJ/5pYMb6CwDnSdz0wNtR2DXzxMysTCk6gYI3loJ4\n",
       "kmsG+jwpLUyCmOWUs3xh41wzWWKLkjBWkhWq6IrMLfGXKfoMjw0QTjKHIyBaAZ0ouQed3YF5DYGC\n",
       "RanXQcmPkdGe55RW4X9vW5CO5Xm8NUW3znfHkvoN80hXbxevtaj5JBplSpHyNU0Iuhr0ta77s8UW\n",
       "JW5MzckKVXTHizzHfFDwFR7TYVGaUdqRM1s0PURoWNJPrGK1WAfmNV89CEohK78uzIcDu+x3HPjw\n",
       "Ya68CA26wno2QabHTQnuptO03nP0aCi/CpkxcRmk1a66tZQoqCyzWDkJepRm50Bi4kGUuDGlwBRg\n",
       "hT4M3Xl8ftjyr/m2W4dH54Fn84xS/LTZgnVozcAjnjEnUDpZHZjX2M5alCKNrdzixaNb2J4ATJN3\n",
       "TsbBAgi83NHxAVLaHvKgxMoYfjkEPBLFNCjvnPiKvvKa06w6FsbFYIczIEg8iBI35k8yBW2SPgzd\n",
       "9wfHWbyNznv4FAMPgWixx+V3DzmrA3kN8Ja0jlP2ihWKWabLlI7ATE0r8lhSml35Eth4sHwErfCT\n",
       "tQrKypTi2VgbcEo/wxEVBg0cEk+ZM1GmxI1pBabAdyqq6Y4f7HYgA9Fc5KCghLfOW6/DG1j1zAV5\n",
       "B/IaYEblXThzHSfCuQ9ONfEcHPO0sxV24dR/KCiLsOq1rnfTXnsC9FQXAVHaDnBKwXljI1VRhU54\n",
       "IXFzIS5TEsZKXIEo2bpCkZ9s3V6XL5sgXvYVOaUIRhxrqZ+8h9lzl3v2tjowr9mOSCVKYk9ABFoS\n",
       "LqVhBQaudjI/+P1iUerpRx+0g6BOP3uPam1fdMuU/DM+ZpTWpmD8Izla2WBVOwxr89ph1CSxr225\n",
       "TEkY2wRMgSjZuqhBinSSdTe5nPkS/C04jal7+suQoNugVmxgoE/K1O2tBLMD9zqcH4JSIOna0Y3s\n",
       "7dhYfUfXT1Qz9iO6Tab0BW1d0ohLRfLhNOyjO0rZmiSOw/lWR+7NjM0HpsBGnK3rBw/diHs7TC2P\n",
       "fjX42xD73hDPj3Lfm1xU/zjtve89TsnB+mMpUHRfeS6EBq4jBN3WJHEnTEw7KDFjwTwpaJd3gqzb\n",
       "Ch66wRo+BVQqlSi1jPbrALO31F52+YsSpTmXxL+C0lI0q7amKXZQ4sb2SQpWNe2lOxVuGaURfENZ\n",
       "Wv17XGg03+NUd0Y8rKLffEhXznhTohVtwjj0H+PlGlWKnXPnAAAAAElFTkSuQmCC\n",
       "\" style=\"display:inline;vertical-align:middle;\" /></a><br>(see <a class=\"ProveItLink\" href=\"../../../__pv_it/theorems/c0ff0a5893722f2a2d7008e0e365458cb53f3f500/dependencies.ipynb\">dependencies</a>)<br>"
      ],
      "text/plain": [
       "<IPython.core.display.HTML object>"
      ]
     },
     "metadata": {},
     "output_type": "display_data"
    },
    {
     "name": "stdout",
     "output_type": "stream",
     "text": [
      "exists_with_conditions_is_bool may now be readily provable (assuming required theorems are usable).  Simply execute \"%qed\".\n"
     ]
    }
   ],
   "source": [
    "%proving exists_with_conditions_is_bool"
   ]
  },
  {
   "cell_type": "code",
   "execution_count": null,
   "metadata": {},
   "outputs": [],
   "source": []
  }
 ],
 "metadata": {
  "kernelspec": {
   "display_name": "Python 3",
   "language": "python",
   "name": "python3"
  }
 },
 "nbformat": 4,
 "nbformat_minor": 0
}