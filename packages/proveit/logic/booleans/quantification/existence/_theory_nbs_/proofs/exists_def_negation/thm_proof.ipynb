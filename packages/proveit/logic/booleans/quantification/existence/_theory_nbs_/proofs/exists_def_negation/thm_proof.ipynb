{
 "cells": [
  {
   "cell_type": "markdown",
   "metadata": {},
   "source": [
    "Proof of <a class=\"ProveItLink\" href=\"../../../../../../../_theory_nbs_/theory.ipynb\">proveit</a>.<a class=\"ProveItLink\" href=\"../../../../../../_theory_nbs_/theory.ipynb\">logic</a>.<a class=\"ProveItLink\" href=\"../../../../../_theory_nbs_/theory.ipynb\">booleans</a>.<a class=\"ProveItLink\" href=\"../../../../_theory_nbs_/theory.ipynb\">quantification</a>.<a class=\"ProveItLink\" href=\"../../theory.ipynb\">existence</a>.<a class=\"ProveItLink\" href=\"../../theorems.ipynb#exists_def_negation\">exists_def_negation</a> theorem\n",
    "========"
   ]
  },
  {
   "cell_type": "code",
   "execution_count": 1,
   "metadata": {},
   "outputs": [],
   "source": [
    "import proveit\n",
    "theory = proveit.Theory() # the theorem's theory"
   ]
  },
  {
   "cell_type": "code",
   "execution_count": 2,
   "metadata": {},
   "outputs": [
    {
     "data": {
      "text/html": [
       "With these <a href=\"allowed_presumptions.txt\">allowed</a>/<a href=\"disallowed_presumptions.txt\">disallowed</a> theorem/theory presumptions (e.g., to avoid circular dependencies), we begin our proof of<br><strong id=\"exists_def_negation\">exists_def_negation:</strong> <a class=\"ProveItLink\" href=\"../../../__pv_it/theorems/638194aad7fca75c3be466a0c9e9153c8521daf10/expr.ipynb\"><img src=\"data:image/png;base64,iVBORw0KGgoAAAANSUhEUgAAApsAAAA0CAMAAADymQNEAAAAPFBMVEX///8AAAAAAAAAAAAAAAAA\n",
       "AAAAAAAAAAAAAAAAAAAAAAAAAAAAAAAAAAAAAAAAAAAAAAAAAAAAAAAAAAAo1xBWAAAAE3RSTlMA\n",
       "q1RmmUTNIjK7EInv3Xbn9enzK1aD6QAAAAlwSFlzAAAOxAAADsQBlSsOGwAAC31JREFUeNrtnYmS\n",
       "g6oShlkVQTn3Ht//XY/IIkuLROPEqQxVsxQobfCzQRr+IPQbk+zRX/pLzbis6UYDeJomj6Qifw3+\n",
       "uaSXO0F+E0zTvCR2tZZB7BZ18WF/fvOzidL3sjikIA4GpuF9bPJ3+MbKR47ZnL6Xiv4Rtt/MJhJT\n",
       "4SXps9jECh2xyZb+ZBrHaeTfiab+5GiG67vYRGR6Npu0Q4ds2gP1Z+/RT3G4dG0DxkPHglMh6rNX\n",
       "RO9iEyn8ZDb7sW9kk4mvYBOh2X7oYXRwyu7DF9TJu9hEE30wm5NGjWxO6DvYFLNtEuL+IkY/fEWU\n",
       "3cYmGeVj2aQjamWz+xI29SzcX9eVjx+/JAfQDWyijj2WzVG1ssnZl7A5zP6vZZR0H7+kjt7GJp/7\n",
       "h7KpZ9nKphmRfwWbbopPhC7dP75SayyF2glB1Eub0m4V7pXlDjZRhx/K5oRRC5tkmqbZTCN9AZuW\n",
       "yV6FIEzniTAdB9aIwfO89dKmtFuFm0tJ2Fzn9XzC542SxD09h00xiyY23avQ7X6zEuEi90x/a6Ar\n",
       "wUopujWsh5QuV0CXG7mGKmQ+9RaXSqUwfj34lxjI3lju85ty1o9kEx8O88Md6IcfYDNrGK20ZpZJ\n",
       "yn/qcfDDzW1I7kybx5i59hBaZ84tLmWrW3vdU0RV5D7kPjbRMD2SzRE3s7nOP/8om7wzWNr5V4nv\n",
       "Msnzl8G522Fz/T/4GAKw50vn5Yz+sEuC7wg4pcdv9JuLq+4fyKaYaTObiv8wm/7mM5PJ7guWdjJr\n",
       "kxzWaPXP+lJrl+oAbIZSKs+yuVXB6OKbWdoWt4w3l06dPpBNPffNbK63cGXT9LO+q43qAnNBq/tH\n",
       "Rg0T7i2dkV9msnPmNdPZW7Ge8yYdrCuTA7djIJU8Oj52lJYuf6eo9ACOsgpJ+bgQ42N2jph7/GbS\n",
       "ez6GzeF4VrmLX4VWNnWP8IC6zIPCuSAflSOjhsHeslousu8qZ140TdIRZzfvTOCQWUi2XAsnMZvS\n",
       "DQGyUrfEx5du/wBZUBW91CbTv0K7aayb2IwHnAubG6mEXmbzdGXj0Mgms1NI6zokunoSsb4ebW4h\n",
       "5HKi6x3wdn6VzRAUMPNvfEjPjC1fNc3jRmBmoUc25BOOQqb1AjIl6ZBjsuvMslJ/gZNfhTaFJyD8\n",
       "t/0DVYF1GGYGF3QTm2pO2NzasOsvs3m2MtmwKtk/7jS+YXYoIEi6/M/mjqbeg0p3hxIxm9SP/5aD\n",
       "Ca5avmRaHD6gE/QghfEmAfrtfmnYvt8rLesCDhoXo4zZB6l3tm5ik0bDmIVNgeOpmYtsnq1MzLqZ\n",
       "TRzdHzG6Ba8JIS63t/9V7dojKeM0W30WXf+w3F4u3UIZzw9s+ZppcviAUlZjEwj69oMQwi6xa1pd\n",
       "B1WxjrIFWZvdLza5ic2YAzPe9G+HF/fgWGd/sjIyk2Y2w5CkH5Hq3LSg64tUmosG7rOzX+mRRA/5\n",
       "Wvr4XWjsqdTCBWUm0PKOacByxbQ+fkDLzSi96ma1niiB00ezuWHeKy37L+AgbvyNVjRxOTexGfef\n",
       "hk1v5uI6AsvmycpowzSHr3Lz+kxzpbXcCBEmkhnlMoFCthj76Fd25OKL+253DqlnWJvoSh/oKCzv\n",
       "mAYsV0w37IKSlf6oDl8LmocHhSu8iU004/Q9fVznpUb1DjZPVtYwhVTH3fesiftV0jc24JWTLLMg\n",
       "lHK5w+b6RDDnVPIZ8tCnw6ah/mDHtGwZB/UafS7pcJduY3NI2bSP+CDfwua5ytQsr7Ap9GgHEQle\n",
       "3dKb2d6Sl7UnWSbWQxRFFTb7GTsKk0nJYHnHNGB51zT7RZtH72Jz7FI2e+x/nRwtx2wmlfFhZoph\n",
       "vDV6FJeOE2thM9qfXpmaacw+atuhNM83n9hsmr5wkb9md55eOsab2JymlM3Vy6ndluknZgqpm7Nn\n",
       "dTbTyuhqSnmDcVw6SXh+WvvXnoJ7FCIk+ktoGjM2iQZ7TKHxYN42CV5dhdvsd8RmUhlmdjSZTnaw\n",
       "4QybuMFv/qUnO9sGMZCCzYUlWg6xmXvLRWQpZKEzP2IzqcyuAHbx/zQu/Xqf/m13sz9Z9qFLOj6n\n",
       "YZBa9OlIETcvGa05CVuRERGEL6+HC5uKMTYtP7zGZqjM0GiWwWCHcxKXzt+F+j82c0dDzpXdmfje\n",
       "LAGTDec0sJm/C5kRoPVs0ZqTaEKDiKVPJ7zVb/bbYhI6aq1DGCyJS+dzSI3zm++K/j8/+WARIKDw\n",
       "QQUFDbd6HG0tVsy9Irgw4pxNHweM1pxwGrO5EKmHRjajoCJOIEzi0tk7aiub74r+Pz5FKgm5gMJH\n",
       "FRQ60EGWEmtEl+c0sJnFhdIXDr/mhHbDmohlUyrUtbJZ0ug+QByXzj7JzNvYfFf0//FpU0koBBQ+\n",
       "qqAARvRFOQEZs9kuuCCj5dQFm2HNiVCJ3zSrvtzQsJ3NPjjINZCcxqXTD3e87N09G2+K/j8+jcV4\n",
       "JwgofFZBYQQcJxBsjdlsF1zI13qkNCG/5mQL7dhJYX0wOV+yuYyU/DT1GkNO49K7vrzO5pui/48f\n",
       "bW6fLxdQ+LCCAuBaOIBGwmaz4EK85idnM1pz0vsxhJjs0O5lNlOr3gIDF7tMXSObb4r+P75L3z5f\n",
       "LqDgy6Re+3Z4b121sGm8u1eBKquEhv4Jm82CC/G6itqeDKnMeLM5kFZnk2/TSngCegXcvCfjPdH/\n",
       "p6cuG25GAgq+TNm94hQMW1QLW9JuBdFuePdG/s//gD1sCZuQ4AKYcLru/V1pOtqD4FsWPJAeT767\n",
       "Nnkt+n/Sa1X8/w3TA1A/QjZXkgkouDJB7MZzPADyCVHhOfWEuPasAcYWt5my2Sy4EG/NedAeYNLI\n",
       "5kH0/y3pp4UTymdh24leCCi4Mul2kC+/SvmEqPCcekJUQXGn8i4RfJITNlsFF/p4+8Nv1E7Yif7f\n",
       "xuYPCCcUqgkRm4WAQijjpq+xWj3lFvVQeFY9Iao9zR9b3GbKZqvgwjO1ExBr15wBo/+3sfkjwgnF\n",
       "jHbo00sBhVC2isLoEYFshsKz6glbBYl2QmxqHW/+/19QMyHt06c2NvEzNWf44ez7puvhA/Z8ndfK\n",
       "GgXMBC3uH1gXToBPvGS3mK0Nu39LAYVQNmD/awMmMB4VnlFP2CrItBMKZOBAUfYu1Ci48FCtrmjb\n",
       "9BGbIfqvTXQ1288IZsKTJPsHVoUT4BOv2S12WIaZmlJAIZQxs13eBi2CtEcYAUSFuXpCRTQBqCDT\n",
       "Tohnt8Arh9hsFFygD9U4PH5T38ZdIfpvbomJ80cCBiHzSL5gO7vKZimcAJq9aJfnl+FUEiABBV+2\n",
       "DH6VZnaEFvxmUEiICgv1BEg0ge1XkGgn5Pd5x23G6zGaBRemp2rDvqCpvUGq1pZLBQxc5rF8gTvw\n",
       "gE1AOAE0e8luqZowVUaIUZnqskFgLH5gCy+oJ9gKYu2EIJ7gj26JgTQKLjxXU/vQcXawTdNyiYCB\n",
       "yzyWL3AHvi6cAJq9ZLfsGWlliGPLDDhyJBmbaqPKFp5UT4gqiLUT8nUmXQvujYILQzoGf9R3uHTq\n",
       "ZTbF8rAhFEsnRJl15YRw4KvCCYVZ2O6ebAJoF1BNqG1WX8vMV97YL7Lb5BNCPHgrPKmesFUQayfk\n",
       "y79ok9tsE1zg83O/w8UqC7zEJmF06DZI7IqSkHmgnBAOfFU4ITcL292VTYDsAiDWdquvZYQCA1uP\n",
       "H1T4knoCWHtxoVOL22wUXMh3Ez3rOwP18Bqb5lvUBxq3EYkyj5QTwoGvCieUZmG7O7IJgF2Qw5pK\n",
       "wqcUFHT2DImXzqmy+ezvDGz6rtXkcI24yU2kE3zmoXKCP/Bl4YTCLGx3TzYBsMu+Y/9ojU1e3N53\n",
       "sknf8HXsNVnVDpin0CnMFMrcU04oD9xlMxVOgC2AF9Nml37JdxpX2BTpS5VBSb+RTTPkZldrGfZ7\n",
       "ie7n9qf/sHDCV6gmVMVAZPa+PxiYhv8AL8N2S3Iaou8AAAAASUVORK5CYII=\n",
       "\" style=\"display:inline;vertical-align:middle;\" /></a><br>(see <a class=\"ProveItLink\" href=\"../../../__pv_it/theorems/efdb61e8ec33940dde2722158fabf639623143d90/dependencies.ipynb\">dependencies</a>)<br>"
      ],
      "text/plain": [
       "<IPython.core.display.HTML object>"
      ]
     },
     "metadata": {},
     "output_type": "display_data"
    }
   ],
   "source": [
    "%proving exists_def_negation"
   ]
  },
  {
   "cell_type": "code",
   "execution_count": null,
   "metadata": {},
   "outputs": [],
   "source": []
  }
 ],
 "metadata": {
  "kernelspec": {
   "display_name": "Python 3",
   "language": "python",
   "name": "python3"
  }
 },
 "nbformat": 4,
 "nbformat_minor": 0
}