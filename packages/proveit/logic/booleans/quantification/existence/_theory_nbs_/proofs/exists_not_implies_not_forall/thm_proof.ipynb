{
 "cells": [
  {
   "cell_type": "markdown",
   "metadata": {},
   "source": [
    "Proof of <a class=\"ProveItLink\" href=\"../../../../../../../_theory_nbs_/theory.ipynb\">proveit</a>.<a class=\"ProveItLink\" href=\"../../../../../../_theory_nbs_/theory.ipynb\">logic</a>.<a class=\"ProveItLink\" href=\"../../../../../_theory_nbs_/theory.ipynb\">booleans</a>.<a class=\"ProveItLink\" href=\"../../../../_theory_nbs_/theory.ipynb\">quantification</a>.<a class=\"ProveItLink\" href=\"../../theory.ipynb\">existence</a>.<a class=\"ProveItLink\" href=\"../../theorems.ipynb#exists_not_implies_not_forall\">exists_not_implies_not_forall</a> theorem\n",
    "========\n",
    "*** see <a href=\"../__pv_it/d4bc3a79fce958a589b27184855c0498ae128f210/dependencies.ipynb\" class=\"ProveItLink\">dependencies</a> ***"
   ]
  },
  {
   "cell_type": "code",
   "execution_count": 1,
   "metadata": {},
   "outputs": [
    {
     "data": {
      "text/html": [
       "With these <a href=\"allowed_presumptions.txt\">allowed</a>/<a href=\"disallowed_presumptions.txt\">disallowed</a> theorem/theory presumptions (e.g., to avoid circular dependencies), we begin our proof of<br><strong id=\"exists_not_implies_not_forall\">exists_not_implies_not_forall:</strong> <a class=\"ProveItLink\" href=\"../../../__pv_it/theorems/43adbb72c2ea2bf962d8db341adfb854faf50fcf0/expr.ipynb\"><img src=\"data:image/png;base64,iVBORw0KGgoAAAANSUhEUgAAAp8AAAAzBAMAAAAjh36HAAAAMFBMVEX///8AAAAAAAAAAAAAAAAA\n",
       "AAAAAAAAAAAAAAAAAAAAAAAAAAAAAAAAAAAAAAAAAAAv3aB7AAAAD3RSTlMAq1RmmUTNIjK7EInv\n",
       "3XZ/CtNrAAAACXBIWXMAAA7EAAAOxAGVKw4bAAAL6ElEQVR42t2cD4wU1R3Hfzu7c7P/bm9Jm4Y/\n",
       "llyjtaT8caNggzGw5kBoLfaiiUmByEZMmmqMY9qYYClcTWP6B2FpiwixMKihBZpjQSWpRLNqqBZS\n",
       "uqVACWHNnlxrruixVPDgSNm+f/PmzZt/t7dzePUl7/bNm/fevvns+/f7zRcAgkNy924DmgmR6j/g\n",
       "8xYy1WOhgWpvNPJBZZ4XL9rg8xhu8wa5lX4mGo3iiIB2B4/J3PgAqrll6i01qZsteAOFZ82BGQ0L\n",
       "6BQYH0A/cJusnS01+SCLfkCVSshAowUZaKxarZ7pvt48lZKFcfuVCc99C6emt7h45mj0Awr7Qga6\n",
       "WncboS0OjVGEnUK6A/3IL6CpmCy02OgjLPoBbc+FC/R9GB9Au4T0hhrALSjGci02OptFP6DK4VCB\n",
       "RsvjBKjYj/M9KKIlIN1qo2mDRhHoVrnQw6ECTZfGB1BFnN3bcURQb2611bYcjSLQn8uFVuhhAj1v\n",
       "jA+gMfGHvQIQv4Y+70Gxt+/3B4XOJAcn/3K/b0tihVSWRhFotCRTz4YJ9G8wPoC2Ccslgqm9gTuw\n",
       "EsV8ZmqsIoCHvtoS35bECvgIgyMFio8vKFyUJ8dwiEDjl51AFXxsahJozHb1tSZONmZH0RcuwY97\n",
       "HOVdOPgK6TeyGKN6dBiZHi+ZK8I3YL7xBdizb7LnpkArMFZlGm2bkvKQZCxdCxFopBzOCE2wz3OD\n",
       "i1DXmjnEMss4bdZ5AjVWZ+lD6BeHGGIZHzTHXA/cTSp5jlJawbyo02jf5Xceslf5bYhA09lQgT6g\n",
       "43PtjmZqLnMC7ShYQNGdmmjPABxF8RKs7fF+phpPqmUabUC1RyWDdr4eHtANuTCB4seOFWFhU4un\n",
       "wae8CXSDuW0co5tw0hCAqkOwG+7wA4orRLvW97MO4WhbQ0/KDoK9ufCAntc9gQ4u6jdvCkkr2DIp\n",
       "UPyU0TpUbDcz/WsWOZdOnpmiJBPmsPoh6pTZ6W0Au7pvgBQbodh22oQWKcz7DXIpu47ArPDS8lxa\n",
       "p5BwFEeoWnSfpuEAfQG8gGb0SW1s1AhJAYktkwL9EgZU1gq2mx9Gig85vtfKVPL8gGOGxwUz+5Zf\n",
       "fBvuo0CTn6LPyy+XVdRy/DS5hL0Fmm9d0QpP/Qs6DHoYw1EE+qRzelUYUNKHG4OARki3PYy4P7sA\n",
       "pc6RKGyLg0bMCpK8r9/+25BMCegRcqpDQ0CoDLlErUedJS0DONM2YOLWIvnNxjbTtQbw8qDS1clG\n",
       "aNWA5L21m25FyVUGuYR2/HMcB/an/TSvMBWWs/GEowj0eQeEVJ0BJZ38XhDQGAbR5u5YTF70GKE4\n",
       "DAE8fZony8m6VHTIsYa+g1dlXcnaK3foyIbcK1XuMDsUZzPtlFvve2xONoVPci2v6cIlD1/nqfdg\n",
       "Afq9fww03iY5SaWT1iUG9Ce46WIQ0Dh+vlUeZ4xr3kDjZQ3gNE/qcemEhTNn3z9dBPobWAp/J4iE\n",
       "yrAOdA39sQeUGV14a4lPeeLDcDxp3gY0xW+s+tlPDeGSB24EaXU4NY16XLoCnCMmBQQUb5CpzsA1\n",
       "FPuvPKw15T+eQFenCjHCZA9LJrohWUJX5A/LnFVsF4Gu/kHvM2htqViVkyWtfACfNTcJlVmmMoC3\n",
       "rwzbjRJuc2izyefAVVSsl+f/tdEQL/mE4wcmNQvncmS0kRHnD5TOUwQ0mgv0sJsLiIdjMXrZE2js\n",
       "n2/+mzBZ10mTi9FP+Tas0+Pvoj8sM9LzpAhUu6tvsoYx8Mqoxr3LBg2I9QiVzcyJaPviIJNuU22X\n",
       "7aoGfpeC2cUXIp217w8ULpi7/F+q1SPBQNNojyl5GH5DPmsoDnjW0jmQMtADKPwGzWyHs0ttlpKa\n",
       "7+VndVKZ1Xg9I1ZmqUpmjmExW+PSP63WkoPgQxaDgF4xgS528e45gaLRkTDcb6eG/YGuP9IJKq37\n",
       "eAPNz6V8StHMHTA9ZwOqXUAUYzqvzGq0Nf4rVGapZFZ5BWDR9XC9BAD9kwn0CdCy4LM0U6CoDDI/\n",
       "4LsXX52gc3ubzWsnUMd7+ah42nHLFIHCY/hM8bpLDTEpZEavw8urTPUd/wJVE2jCSIn90Y6/Bndm\n",
       "ub+BH+y3wmu4QgVSFW5vM99IPaQ+aw6LZYQhCeMgnDGBKjVrhq6ftAm+kjJihhPoLLInRfKQqXN7\n",
       "e0RA/99lJB9XO5sDCoV5fPIuxlZTLZ8CJ9C2KF7b053QnuX2tteUt421z1xGorc4Z9A5SBtBWT7l\n",
       "YT86Y1LHylmcN+2ra1Lw6oLjC7ptQFM34y1kraF9kdvb5qbk2OVteoPPGmgr7w3UGgWqjuCgwDcl\n",
       "WI2GHHGs0FPctNSLy1xGqPYWTt45+IHB7W2zx45zqFKyAfV1BIxRGGhsnPQwOUW0pHM4S4HSoeYf\n",
       "3uJAI2j+EseKSp55GuQHXIDCRPxnAgj2tufBfqf9DOXnCBiz8CnabvHL8tZ0DtiOJKaPEVj0ot19\n",
       "hx0r0e9v2fIrBHRPmxtQTpLb2+Z4vCS33WUH6ucIGKuATWsFm9et6RywIwADjeYDTxpX7UCxYyVe\n",
       "oiNUneU8h7JFGi+XyJRm9jbr+ydy42XplO/jCBizlRNNmwx+xhZ1DocpUDg8kl9QAEodK8RimgPQ\n",
       "5+VgHrhqENOa2dviYBeX0IIE1McRMFYBv6NL4LWoRZ3DSgZ0ZVBB6iLiQKljZRVaTeMndbqLuE55\n",
       "bkUTe5uFk1LbNr0BBurjCBir0FGk6iasc0j258R3fr1dyGD1m7xi8X0M6L7AKTFkn/K0qT9u2eRh\n",
       "y4thqWlvs3CDvJLL6lsfR8BYBQTzR8fYEEspZZgvGNUzrDO0q29CLH47A3p70BdG6i5AfZwjIBvj\n",
       "j1mZ8yVYot6AAGWOgCbCaDUP3Pd2fsrBOSSBqD4dq8AkLnOIdy6BSNFH5UCLszCDAZ0R9M3p4uiB\n",
       "OkaDdHQWX4/Tgz11BDSzBLLPpjUP5m683cw4BGCka3CUyxyScBTSNR+VAynOn40B3RD0xWtr4QGV\n",
       "hQ5OoLOa3ZNGrXlYZh1DOVBYYcQvW2/l1WHY0OOnciDFWVjOgC4P+uIwhQ6xsnPK24FSR0DTQEeh\n",
       "eWAn8PhVMwMvpHdDpmwBjRXgI1+VAy7ORA4wkwGdGfTFX4bwgKrSyV7UG1CgxBHwYBbYUFb75IOE\n",
       "nClpHoR7rnWtptnrsQzvEn6bvBESWfpWnrSdRRk+KgdSnIkcYC4DOjcIUphiMfpOW9gms9IuTxwB\n",
       "ydqw+c6zt8NY52jElilpHoR7bnWFphW6iLbVhXMP3AUrcgQoFjFALKt+Ylc5WFIHcoWLM5EDPnUR\n",
       "oPcEmVRhyhnlbV7QG5jepokI6ouVTJHqFp6aCQMO2QLOlIByzQO5t8rwqkuaZgOYfMa2XzFnybMo\n",
       "7njzOzoBikUMkJzSPySpHLjUgRQgxanIAU4woCeCGIUquJUl4afAzX0XKUVqTLcwBaY6ZQsoUwJq\n",
       "aR7QvfhMw7Mubpr9mPITUZ3DAfZWnooYUoUAlcMBU+SgVShQrRKAIFxJeFRyMc92Bdrene5huoUT\n",
       "8J5TtoAyqWwBnJoHdA/aDc+6uGmql1DyTvdGqpB8mwEtEVp/6PRTOZDiTOSAXSsYaKCLZSOECRQe\n",
       "lXYl3RVozwomeoBTah3LFizRAsuksgVwaB5IBQzUqitKHkjTVC+RcRwnNkN7LVKiMgciYngf/7s/\n",
       "H5UDKU5tceIji+aCfWXqcLhA19mdnTa9AQeqdD3HRA9w09wCtkdRkooW3jUziWwBHJoHcg8Dtera\n",
       "JA+4aaqXcGpHdoEyb6FoSN3IFWs1V0vLKk5VJxjo5iBEneECzUjtrHED+jv4NRM9JPVEjsgWwLKx\n",
       "aCaRLYBD80DukSlv1RUlD7hpqpfY5eib1uQR2PZcOgWaCfKOh/1PE6V/PAuua+hUtcBED5HaA1S2\n",
       "oPJdgWZS2QI4NA/4Xvyj/SDWFSUPuGmqlxgDyUM02EWtFpoDekfgv6t3ammdQO8/x74U1HklM8l7\n",
       "bWWKQJnmQajAk6LkwWx6TCQPIwD6DOWT3N07MqDN/gcEdqCjeS8/Ws3DGEgePj4TCDT5CBsGjUbx\n",
       "f37uwuwX6rXsAAAAAElFTkSuQmCC\n",
       "\" style=\"display:inline;vertical-align:middle;\" /></a><br>(see <a class=\"ProveItLink\" href=\"../../../__pv_it/theorems/5fb68b72db2ef47ab7d81bf4f7a49d392a1236970/dependencies.ipynb\">dependencies</a>)<br>"
      ],
      "text/plain": [
       "<IPython.core.display.HTML object>"
      ]
     },
     "metadata": {},
     "output_type": "display_data"
    }
   ],
   "source": [
    "import proveit\n",
    "%proving exists_not_implies_not_forall"
   ]
  },
  {
   "cell_type": "code",
   "execution_count": null,
   "metadata": {},
   "outputs": [],
   "source": []
  }
 ],
 "metadata": {
  "kernelspec": {
   "display_name": "Python 3",
   "language": "python",
   "name": "python3"
  }
 },
 "nbformat": 4,
 "nbformat_minor": 0
}