{
 "cells": [
  {
   "cell_type": "markdown",
   "metadata": {},
   "source": [
    "Proof of <a class=\"ProveItLink\" href=\"../../../../../../../_theory_nbs_/theory.ipynb\">proveit</a>.<a class=\"ProveItLink\" href=\"../../../../../../_theory_nbs_/theory.ipynb\">logic</a>.<a class=\"ProveItLink\" href=\"../../../../../_theory_nbs_/theory.ipynb\">booleans</a>.<a class=\"ProveItLink\" href=\"../../../../_theory_nbs_/theory.ipynb\">quantification</a>.<a class=\"ProveItLink\" href=\"../../theory.ipynb\">existence</a>.<a class=\"ProveItLink\" href=\"../../theorems.ipynb#forall_implies_not_exists_not\">forall_implies_not_exists_not</a> theorem\n",
    "========"
   ]
  },
  {
   "cell_type": "code",
   "execution_count": 1,
   "metadata": {},
   "outputs": [],
   "source": [
    "import proveit\n",
    "theory = proveit.Theory() # the theorem's theory"
   ]
  },
  {
   "cell_type": "code",
   "execution_count": 2,
   "metadata": {},
   "outputs": [
    {
     "data": {
      "text/html": [
       "With these <a href=\"allowed_presumptions.txt\">allowed</a>/<a href=\"disallowed_presumptions.txt\">disallowed</a> theorem/theory presumptions (e.g., to avoid circular dependencies), we begin our proof of<br><strong id=\"forall_implies_not_exists_not\">forall_implies_not_exists_not:</strong> <a class=\"ProveItLink\" href=\"../../../__pv_it/theorems/04d1719e1eda9a9206eb8f074d02b3d3ae3c8f770/expr.ipynb\"><img src=\"data:image/png;base64,iVBORw0KGgoAAAANSUhEUgAAAoEAAAAzBAMAAAAa4M/cAAAAMFBMVEX///8AAAAAAAAAAAAAAAAA\n",
       "AAAAAAAAAAAAAAAAAAAAAAAAAAAAAAAAAAAAAAAAAAAv3aB7AAAAD3RSTlMAq1RmmUTNIjK7EInv\n",
       "3XZ/CtNrAAAACXBIWXMAAA7EAAAOxAGVKw4bAAALk0lEQVR42t2bD4wU1R3Hf/tnbnZn/7CkTSOg\n",
       "ZI3WkiK4sdBWYmDNoWBb7FUbE4HIVpqYYoxDakjOUNiSxvQPhaMtIkRxUKMCzbGAkFQrWSGWVlq6\n",
       "tUgJubWLXGspehwVenBEr+//vJl5s3t7NyzWl7zbN2/eb27ms+/f7/edBWicjG3bLGgmhap/g//7\n",
       "lK6+FRiZ1NBQvlGbJ+WDNvhUpC/5k9tEP+NDQ13DItjRuNflPmkEzdFb+xOEn/OuFwmK4AT4hBFM\n",
       "Z0dlfn8DguFKwAQjBTfBDP68ruXcnrk49omv4dLkUV4oV58g7AyY4HLTTfB2/Plgy7veGPRVPoVG\n",
       "mFEY5YWWNCCYygVL8B1wE/wh+tC7Wk5wbQ3gJpSjuVFeaFoDguE3AyUYKXsItqGOkMi2nOCZIsol\n",
       "gORoL5S0nAQ3uRt8N1CCyZKHYCR3RRaUZ3BGFG8Y7YXack6CP3E3WGQGSfCM5SEIf6pWD7We4EWA\n",
       "2Mfo8+sod5946VVpFBh943+2q66xbJDIOAlGSm7EmSAJ/gW8BOcqev5lT4ie/hqGsBjlfHpitGKf\n",
       "i8KJ2ry61rIB3l1QgtEqSefcE+FggARjFxQEl4KeafL5o46jLzSx9xCFs6/uJjeLHLKIGRlEG/3n\n",
       "+Kr8FZhlfQa27xzvO5tTAwao7FpJwg+43JKPAyQYKisIxq1ER5ME4+zzdN8cdGvNWHOnM97PCm+g\n",
       "7xWiCF6sj/eqItxBWvr2Q2rAD/rda/ELbzibPx0gwWRGQTBca3ohYQTvNfH+ckszlguk7SAniO6r\n",
       "JnsPAIdRPg8ri/4PUhNFzd0H9YdcfuIsMziCa3MKglCYOTKC+JGjXXRLPuyVky1la/l8/xZdLg1L\n",
       "IqgNwDaYUY8gNoi0r+lld+GYB4+6He0dueAInjFVBHfhbX3fnF5+UirayVFJCeInjPRDxXEy3bti\n",
       "jnf6E5V853mG3+lmgK0dV0OC9UHspaxHkw0G/Bo5dAdbgBs8tzCXNCkZuQ9qXeqRFwzBp0BFcDn6\n",
       "D2lzXBt7OKkoMXBUUoKfw0TKesFx8r1Q1wOe/2tXhtlE+Ijktt7002/A3ZSg8V/0eeH5soYuFztO\n",
       "DmFHgdbbR9TgsX/CGEQ4WnISXOYdMRVGcBghAEQwRO7Tx1X6g5JgCPcl2BwDnexqSPHuXueXQSpd\n",
       "BA+RzRb6ziVjyMVrRW2qa2TjSkcPuXNoM48+ATzfF27Psj5YtcC4q3b9zajYaZFDSGHoR4D9SR0X\n",
       "BhNhIes1MsEnPU+d6GcEhxECQFeL4idvU8fcjHNKgjQNAKw6Loplo9/VdMAzDx7A85kZzjiNx5jI\n",
       "U9vhjiPwG4q5x1Kq6IhDhcW41fO6KR2K9EVR+j3MRt/qD1x+sffRI+cZwWGEABDBGH6gTt9trC/B\n",
       "WFkHOC6KZsy18cGV0+6ZLBP8FcyHvxImkjGsBlNHf5wJVUZuv7lkj2L78fIOgglxovPHP7KkQ5GE\n",
       "y6H3w7FJAO0NIgv8sRHBYYQAcI/Gy4KPTxT+jy/B5YlClEDYzorxDjBK6Ij8YZVTu1IyweXf734c\n",
       "TRcV29go6eW9eM+3XjJmleFTeM1J19y3sIED2XsJnesW9X8eGpIPxTgSF9AycDpH+1R9gnToIYLD\n",
       "CAHwOcEn5ha54Esw+o99/yYQVmdpEfl6sf2w2owdRH9YZai4TCao33ZivI4RCGNkcdeCPguiRcmY\n",
       "V16F1hyIewbZVseRC3DN36vhE4rZkCCc5Wtx4xAAJpisVntKPj7VQJ15ECc8EGkvT1jo5sPiBK1M\n",
       "wcn5Dp9Ey3fbm2RszCxeScvGrFRJT7dcvMj3UBuVg/0eNCZ4kRNsHALABNH3H7fUpxOD9QmuOZQF\n",
       "jdo+MoSG3HwxYGjlFpiccxDUzyJsUVMYM4u2oY8kY1YyMuHdAHMuS5yiAcHfcYI+IYCSkyBqsxQV\n",
       "7zv38lhT+K5sqHoJEr3YMOVti7QJUVXKBOFhvPK/orCQi1JlpOMy8EtXD9RvUOUEXSEA/cgeuDVj\n",
       "O+t8R70J9mCDCiQqwndlgYV+n77ZbIha97gJw0wGXInUwwnKIYA149bDtQkrankJTiULSSgP6X7h\n",
       "u/oRpO8sxE34dKQPqtm6BKUQQHQu9k9q+QR4CbZF8NyczEIqI3xX31HMVogWJ11VaY7ueuSakVzd\n",
       "UUxCADQicRLXTfr8igS8PPvI7A4HwcQNeN5faemfFb4rH62qtTharf6xp6O1BN9VzWbZkV9Pq9Hs\n",
       "Q1CsJCQEQCISBhmXkxLPLlD0Qf11XLy1711L+K78Jn32gzNH+d5AsylsL34BKe8nWVYTfF0QxCEA\n",
       "EpHQSMNJkD+lIAhX4T9jQfJdG+yo57aY4Auyx1wIQnnH/hrOaoLnnNEtHJGIfG/jxl8ggtvbVAQF\n",
       "OuG78u/+vJpgpcUE2+Wgby0I5R171ySrrmJcchLEEYlYifZBbap3P8jmVjzlIbeU+a7Mxf5QTbDQ\n",
       "YoJy0CIg5f1NmpUERWRBjkgQ32Q6wAm/COupSxZxU5nvKndnD0Et31qCYXnABqS8L6ZZSZAGVARB\n",
       "GpHoRP8zdtSk8VT/GHWY+64sHVUSTOdaSzBacvqsXHk3enOybNXdjjzBeteRG+ykWUmQhgNcUX7j\n",
       "NxvX+/jFcprPfVeWrlYQDFf/Xu1pKcG2nGOECeU9ES7DLMlbvdHeySqT3ODLNCsJhvoVBOtEFsDt\n",
       "2D5sV86yVH0w1exezBElDQ97J8wDUyn03+ZhVe2IU3lfFa3AOCG8x7LzINRVR3enDdjBjTQrCSa7\n",
       "Rk7QndZmVQQ7myXI7iW9Dyt005smn+R3udSpvFvJGhwWwrsBhyFZq6O70wb8yWhWElxZC46gUnFH\n",
       "e9kREdQeBP1gg6nKmRZ4CTqU90VW7IItG2uDsLZYT3cnDVh5Ic1KgkEq7tGyiuCekRGcgvKdVNlq\n",
       "Yt/LRjEn6FDe74B02SYYLcD7dXV30mDaV/vy7Gam+BC8BoIjqJ1XEVyCCGonxLp+fwY8/Uo6zQnq\n",
       "2MGZhaMSkkF9WxZFi/Oh96hTeYd1EM8I4R2X1wHR3RUxMd7AmH4ADqLyLTQrCQb55hGVXd0EK4hg\n",
       "9xiL6WtGbdCt06GNgzgtCIbw+PstLJMNGtiG6USYkCDLyjvcBotyQniHaEb7kOjutubuFN9xA727\n",
       "AIN0M4SzimAkyLffPIsxic18VO3peGwKnCIaN+jPVtJdbsGdnHYSJK/DfgfuowZUb29gy+T2mP2K\n",
       "kUN5hy37vmkK4R2MCb0DVHfHKjuV2/O8F4gGoRp+9QjepllFMBXoG5iKt4CBhBNhAkyMTSF8Q6VQ\n",
       "zSO4o9NuguhmYwNwLTVgent9Wy63H1PdOpnu9jqE90SB6u6Syi72ULxBshjNF0FHRjirCAb7FnBk\n",
       "0EswRO79beRwpyx6kWTRI7ij01QyFwTjec1K5fBry9iA6e31bdkoJq/fK2IDiYKxXxLe98Kvs1R3\n",
       "B6/2KBqshNSqIolL4KwiuA6CJAgPeQnSCPUxrR8TNEqoNyzyCO74NJXM7ZXk4Ix/LSbWxIDo7cJ2\n",
       "u2Rt23K5XakqbIBULVSShPd38O+viO5uq+z25MobfAvSu+lLGp3q+KA2GCzB1Z5f5IBGStffUsAE\n",
       "Y/sh3P6ER3Anp4lkbu9mHp041jIxDWJA9XZuuzpLxXb0R7Ll5AzVw2yF8EzxwhJGdp2YT9Pe1s4G\n",
       "5MWHDWqCfO8UFMF0lyK6hR/KjOfIKA7Di/BLj+BOThPJXPJJ4Nuoc2glYsD0dmGbVdkKuX2F4s70\n",
       "2sg97bRJs4pg0L8K8/tlYqh2L8Te34WDERO1gkdwx6epZC4TXHmNhTV0bMD0dm6rWSrbyyO3O2ZT\n",
       "D0Gt0BzBGQ1/h+x8uVIQ1GaWeDDintNyXIL8c/u0g2Ab3kMkLMmAF22JXrKNdFwBgo9TIMa27uER\n",
       "bPoX2iP6jbvpcQ+GlS6/3P5Bj5ugsYQtXkNDXf8DplG84+1A7/kAAAAASUVORK5CYII=\n",
       "\" style=\"display:inline;vertical-align:middle;\" /></a><br>(see <a class=\"ProveItLink\" href=\"../../../__pv_it/theorems/e1bdf9991745bf54d81d67dba0be395e520e584d0/dependencies.ipynb\">dependencies</a>)<br>"
      ],
      "text/plain": [
       "<IPython.core.display.HTML object>"
      ]
     },
     "metadata": {},
     "output_type": "display_data"
    }
   ],
   "source": [
    "%proving forall_implies_not_exists_not"
   ]
  },
  {
   "cell_type": "code",
   "execution_count": null,
   "metadata": {},
   "outputs": [],
   "source": []
  }
 ],
 "metadata": {
  "kernelspec": {
   "display_name": "Python 3",
   "language": "python",
   "name": "python3"
  }
 },
 "nbformat": 4,
 "nbformat_minor": 0
}