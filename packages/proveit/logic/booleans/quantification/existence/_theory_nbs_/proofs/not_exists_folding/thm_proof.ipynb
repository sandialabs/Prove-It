{
 "cells": [
  {
   "cell_type": "markdown",
   "metadata": {},
   "source": [
    "Proof of <a class=\"ProveItLink\" href=\"../../../../../../../_theory_nbs_/theory.ipynb\">proveit</a>.<a class=\"ProveItLink\" href=\"../../../../../../_theory_nbs_/theory.ipynb\">logic</a>.<a class=\"ProveItLink\" href=\"../../../../../_theory_nbs_/theory.ipynb\">booleans</a>.<a class=\"ProveItLink\" href=\"../../../../_theory_nbs_/theory.ipynb\">quantification</a>.<a class=\"ProveItLink\" href=\"../../theory.ipynb\">existence</a>.<a class=\"ProveItLink\" href=\"../../theorems.ipynb#not_exists_folding\">not_exists_folding</a> theorem\n",
    "========"
   ]
  },
  {
   "cell_type": "code",
   "execution_count": 1,
   "metadata": {},
   "outputs": [],
   "source": [
    "import proveit\n",
    "theory = proveit.Theory() # the theorem's theory"
   ]
  },
  {
   "cell_type": "code",
   "execution_count": 2,
   "metadata": {},
   "outputs": [
    {
     "data": {
      "text/html": [
       "With these <a href=\"allowed_presumptions.txt\">allowed</a>/<a href=\"disallowed_presumptions.txt\">disallowed</a> theorem/theory presumptions (e.g., to avoid circular dependencies), we begin our proof of<br><strong id=\"not_exists_folding\">not_exists_folding:</strong> <a class=\"ProveItLink\" href=\"../../../__pv_it/theorems/bf14aab6b13a8ceaacd57f536d09cbeb6db052510/expr.ipynb\"><img src=\"data:image/png;base64,iVBORw0KGgoAAAANSUhEUgAAAqIAAAAzBAMAAAC+incPAAAAMFBMVEX///8AAAAAAAAAAAAAAAAA\n",
       "AAAAAAAAAAAAAAAAAAAAAAAAAAAAAAAAAAAAAAAAAAAv3aB7AAAAD3RSTlMAq1RmmUTNIjK7EInv\n",
       "3XZ/CtNrAAAACXBIWXMAAA7EAAAOxAGVKw4bAAALRElEQVR42t2cD4wU1R3Hf/tnbmf/zN4am7aA\n",
       "0DXahhSRjUBbjYU1hwWrtldtTPwT2KqJKY1hTBsSlMrWNKZ/kFvaqsW03lSNLUcDC1aTloonxmKg\n",
       "pVdESy5sXSr9Q7HHodDjjpTr+zcz7828mb2ZHc6zL9m79978fnPvPvP+/uZ7BzCB1NfXB6FTrPFn\n",
       "+MCnfOMAREnqrfFTrUzSVa8rHfB/keb7Xs08Qb/3jo9O6G5vtDa5UCzqU4uo3r43IprysXnEYJkr\n",
       "IyIaq4uDpDiliPLNCZGWM6JK09smPhAx0U+JxTniqE82Go3D3ZPN8dj4xml3G87mhHkgJTbq3/Yx\n",
       "2h4t0dQecVapuOfRNvtJmPQfNL3vdTYnTFrJiHYY3jZaKVKimjgekqWpQFQ9hwbjOWdzwqQFjGii\n",
       "7DPs90ZK9GqxmIOpQDR/Bn3OOpsTJuUMttbvteuecBrdHSnRfWLxE1OCaHoYfc44mxMmdZQY0bvs\n",
       "uu86jVboERLNj4nl66cE0c4aQE+TNWfrkV/s5FqQGZr+/R2+3rxDtsCIbrevJ+pO7IUIiWoFsXzX\n",
       "lCCKaD5wwGxOOT8rOcDN9HCkeaOvN++QqDCiZEuDdy4oOQ898bEIifY4DkwHzB9bpkTjePcUkKiw\n",
       "CMQDbNHzZubEjJ0LzeYk9MRYrARPm6v+p2GxcSFs2T7d6y7Mgf34fkb0Mr5NdzqOTeciJHqRo/yq\n",
       "uakqhO+jNea26yiiuTDMs+jlmqNCEsFUh8xeV4XPEUvPfkodzMIwI9rDmzz7qujy0wiJvnzeiCr3\n",
       "4L1uphDE83Z7O8o1J9fkTzYA+9HnNKyrei/w9o5QMfvoHfwe/GuOgbNYj4yo+h64Rn1EROeiz3WQ\n",
       "DHTeYvtw9azQnBV6xuCIKiPQB1f5EcUOia4NR9mDmG82x5xH33TORNtKkRHNjzgqnjSJlgWiQ0uP\n",
       "mq3gsnYSKgnRFN78LAZNvNjCOUufXf4015zN3RdBlqLJ4Dnv0Vg/4MX6RQD3OQhbUIen7yjl0F0T\n",
       "NUaUw6XUXJ26EBnRdL/HGVdc6/P6tA7WUbks92CEStLgGJ7LfgurhYutnON0Iu0Y5poz73s3wE2U\n",
       "6DZ0z/iZZ/oVZK4OQgZPDrjOypAv1OH+v0MnIp6sM6LctnC1G8MAJUrAXtKSqJ9Zzvm4HgFZpCQB\n",
       "T6qQImcNkr3pqDiYSaVINIf70VfgVnZxYs609yR7R5t2c54ZincVKVFtENH7QvPSK9CVNQhXA300\n",
       "/BAOAstgC+Ywi0ydWjcjynWtH7swZIcp0Wvxt3taEvUz2+Y87mpVkEbz0Ozw0KCV7c8MO/xGnPNo\n",
       "Dk1N6ghcHMhZrXk2h8yjn7QXl3JKh7h72NsWr8ES9KC+yc71qQFH0FR8qKcp0W9hy1pLon5mPc64\n",
       "oRBRsImq/SmAQSurq47ZAlcuuHkORzRdVgytRE58E3eOlz2bQ4jah5013/m2gadXZ7IsUsNwaDZA\n",
       "FyPqH3JRz1GieGXMFlsS9TOb56p/XEZ0bbaSJFC2sGy6G2UzdfMLqby8pvEr056r/olOPJrc2XYV\n",
       "nPNNr+akXjjbhIx9+Y/j4+i46V6ZLAulAMdLtCdhomt8KWVOUaKJUuswOyLqZ7bYtQXZLCOa/Nuu\n",
       "fxEo64s0uwxn1T2wXsdfaGWsuprfPX1j1gWGDmld6qzuZq664JzW/Zpjn6lYanqfuswlR2dEH/fH\n",
       "dJKt9X9oNPZNYK33MTvh+hVSTek8ihMeuLRPZ42mmQWrUoO3b+PPTPBl1GOUutw5LnXeDH7NCZH+\n",
       "AZRovsVZeJQRXSaJ9UmI+pi9ZPhuuIXShn1FUKj9qvEBM4sHGM39DOaUBKLrZqILS6XOcJvUeel5\n",
       "ibvMb23yO0b0Pnq08ZydGVFqpvRef81HcNXxIbvhX5QTzdBH2uF6X5+QZRPycz10vEF6pNSuJKtM\n",
       "nI8XWvnGK62NGoxo2sjybUgdfB6uLoixH/xLMbPPknMG3KLDWmsMfEz+A1qtd/5JHGHGxB0z8H6l\n",
       "w4xovGmPyw3THoWLs0bScBNlZh9C0ybdhSRr3kRnNnTZCvFBSRNVkHgQhcoiazVehg9GzXIW3ESZ\n",
       "2W6APwEJMCSGvUd9ha4T71tKtTs45ofxNEc97FiJ8JAgC3kfPfvjD2bhV0sOLukWiWIzSI3BfYj1\n",
       "h/GgtrbYL+luoujg+fvJf0Vvpr+24bs8NFFzZYK1aNYkQZYMGcezs0/dLuuj2AwS+4fwEQ3vozqs\n",
       "9exEVdpHF03yi5B87+gFj32eHI3q7dymFJboyybRGAJCgiwKWTtnQ/mYjCg2gxjFiBe+Ht17h0+I\n",
       "LpvsV0ud6Mf+BM9Az7Z1m5VhiZ4Sonk4yJL46qZNP0BEt3TIiIIZukDpR2gr+Lp9Cu2WEh2YbKI4\n",
       "vjAPb+a72rrNgpBEM2cFojjIotZpH1Uul+xH2X4bdUx0kl779a0P21GDnpKUaGWyieLZ5wRud39b\n",
       "t7H0DgGTGSnhgyzkULQQ4IhXxDnf+xtynE5dc2S6vZ52lmVElfJkE8Wv6noR1XilrdtYeoeAKf4u\n",
       "T5QGWdag5qhv6hDzIspcCS87ZqNVZETzpckmOsr6CQ65b+3i3/eJJUniDSy9Q9AlbUQY9XQm+PWm\n",
       "R73O9VzCx+nUyUGrHOt3E4033gr8ir7NhGimXiyyTla/jNswO0qyMzdnkKiEIxobdhP1i5Q4j9P3\n",
       "2stRYkzWR7Wgrz+FuSOA5sEMLOVP7nyONEorglq8EWK1DJO10pKP3oEamD+6PxxR+nIomrfL78qI\n",
       "rglKNKzmIcm+p81OlutGh/v9kGtu+Ld51MclH70DNTB/neFwRNc1IyPqUkAQonPCEQ2ueTCjp50V\n",
       "mygoY1g7NNc0wSU/vQM1Z/mQfTRCBQTcICP6fDiiITQPK9kmztzwoVGPNTbvgEWUlPz0DsRgwWeG\n",
       "8Mxj6R0CppkQHdEV3RKiKxFR5Yi1b1heAHe/EyodmgfumsyXuzWTLZ4wW5FGwy9dgI2UKD5E0RKO\n",
       "Q0pifaZBZuErgNXvlt4hYIpSSaaVJUQHENGtncZ6NlM1x1TXlkCsFDUP3DWpr31ruJR+WwXc9idZ\n",
       "UN4jRImwgZbUQZnWwTJIba3AGHB6h2ApEaXa0bXY49jTfxuHu++fC8eIzABSTw3ka07ZAqkUiVqa\n",
       "B3KNSh6kvuTWNN1Kvl43boqDVKzFmXF0hPZRrHCgJdwQrG7gtA5l3iDWxFOorXcIlrQoFblO1Tju\n",
       "owmy8s2AWepcg3S+eqzpki3gSgdRS/OArzHJg9QX3ZrlXALuQ6SnVihRqnBAJaJ34NQN1kbNNMhV\n",
       "k+WqrXcImCJVjcNiw0WUhKqQ52ugkYtad67qki3gSi/NA77GJA9SX3TrxLVX1O1RL8Q6XoBfFilR\n",
       "HD4nJaJ3AHegzzJYB9pDVVvvEDBthCiJdtRdRGkE/5AyjIlm6qBVVzhkC6zSS/NAHAaB9+X1EvjW\n",
       "8WOARSJDzuakdfgL6sPwwKpdVOFASkTvwOkfrBnZNPgS5J8DW+8QLCljkRJV97iIKnTRuLKCiaq7\n",
       "Id71mEO2wCq9NA/EYRB4X14vQW790RReX1zChEwNLrGmXYzQLuXlZy7bwNY7BJxGi5EStRYJPpqH\n",
       "fzU9XSKjPg4/hx86ZQu00kvzgK+RUc/52hvcIrn1QH6hARm3HOvBNsIDpt4hYIr4rxidf2lrEo01\n",
       "bwH1nR04uDJLqThkC6zSS/OAr2HJA+erWNO1YuBbZwpxNEyT5+Gda2CiSiUQ0ddb/x3+nVKiyqK6\n",
       "GVy5+TgfZ3FW8kSZ5oFzMLO8XsK6dbA/ezhfRB+mD7uv79iEzAP/x4J7GyH6TVjNgxE5zwkpSMSZ\n",
       "m52Ee8dH/wdbfcEj7w2vxgAAAABJRU5ErkJggg==\n",
       "\" style=\"display:inline;vertical-align:middle;\" /></a><br>(see <a class=\"ProveItLink\" href=\"../../../__pv_it/theorems/178aae179e0a6e79b7723c6a8baaef71ef1ad73f0/dependencies.ipynb\">dependencies</a>)<br>"
      ],
      "text/plain": [
       "<IPython.core.display.HTML object>"
      ]
     },
     "metadata": {},
     "output_type": "display_data"
    }
   ],
   "source": [
    "%proving not_exists_folding"
   ]
  },
  {
   "cell_type": "code",
   "execution_count": null,
   "metadata": {},
   "outputs": [],
   "source": []
  }
 ],
 "metadata": {
  "kernelspec": {
   "display_name": "Python 3",
   "language": "python",
   "name": "python3"
  }
 },
 "nbformat": 4,
 "nbformat_minor": 0
}