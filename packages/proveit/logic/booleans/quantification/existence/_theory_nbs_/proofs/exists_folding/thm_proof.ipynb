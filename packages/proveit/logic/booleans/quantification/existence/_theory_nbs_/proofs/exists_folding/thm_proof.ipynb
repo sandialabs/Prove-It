{
 "cells": [
  {
   "cell_type": "markdown",
   "metadata": {},
   "source": [
    "Proof of <a class=\"ProveItLink\" href=\"../../../../../../../_theory_nbs_/theory.ipynb\">proveit</a>.<a class=\"ProveItLink\" href=\"../../../../../../_theory_nbs_/theory.ipynb\">logic</a>.<a class=\"ProveItLink\" href=\"../../../../../_theory_nbs_/theory.ipynb\">booleans</a>.<a class=\"ProveItLink\" href=\"../../../../_theory_nbs_/theory.ipynb\">quantification</a>.<a class=\"ProveItLink\" href=\"../../theory.ipynb\">existence</a>.<a class=\"ProveItLink\" href=\"../../theorems.ipynb#exists_folding\">exists_folding</a> theorem\n",
    "========"
   ]
  },
  {
   "cell_type": "code",
   "execution_count": 1,
   "metadata": {},
   "outputs": [],
   "source": [
    "import proveit\n",
    "theory = proveit.Theory() # the theorem's theory"
   ]
  },
  {
   "cell_type": "code",
   "execution_count": 2,
   "metadata": {},
   "outputs": [
    {
     "data": {
      "text/html": [
       "With these <a href=\"allowed_presumptions.txt\">allowed</a>/<a href=\"disallowed_presumptions.txt\">disallowed</a> theorem/theory presumptions (e.g., to avoid circular dependencies), we begin our proof of<br><strong id=\"exists_folding\">exists_folding:</strong> <a class=\"ProveItLink\" href=\"../../../__pv_it/theorems/6f079253d71a49aad9bf68b5acb1b88e8652d5670/expr.ipynb\"><img src=\"data:image/png;base64,iVBORw0KGgoAAAANSUhEUgAAA6sAAAAmCAMAAAAV+v0sAAAAOVBMVEX///8AAAAAAAAAAAAAAAAA\n",
       "AAAAAAAAAAAAAAAAAAAAAAAAAAAAAAAAAAAAAAAAAAAAAAAAAAAAAAACXHtMAAAAEnRSTlMAq1Rm\n",
       "mUTNIjK7EInv3Xbt5cmRiLwgAAAACXBIWXMAAA7EAAAOxAGVKw4bAAAI3klEQVR42u1dibakKAyV\n",
       "TRCUmfH/P3bYBQ1KtbW91+Scrq4OSCjMJTfBqh6GJwhejZChS5curxBqASafMhRGfTm7dHmpzB2r\n",
       "Xbp0rHbp0qVjtUuXjtWO1S5dOla7dOnSsdrlaYKWZeF9Gb5AtLkTuGO1S1XGvgRW+FfYJqRjtUvH\n",
       "6nlMwx80zjSE1Q1mmNzD6jNG6vItWKWLl5n9BbCc1nVCaBrpFruw+uyUCIBVmu7FyO9h9Rkjdfm2\n",
       "uPrR8PI2Wf1nnhLRlJ8mF6M8YlXEcMinmxz4GSN16Vj9gIjVc068Ru5JP00NCQXy1QhghW9i9Rkj\n",
       "delY/QTjXEX4OzLf+eNzCiG+wGr8x42gH7D6hJG6dKx+QKY1/i2CR3/eh0dyxOow+xqCuo3VJ4zU\n",
       "pWP1E+nqVFBhQ4GDD0utkRSqwhTPW5ukPoRCAFap20smeR+r90fq0rH6qXSVq/TcQQxqg0kaNdID\n",
       "XcDrzlubpD4EGQGschRfWkSdYPWxkarJw7KIDpj35GngUjsnwfHM5sVYpSch4DXHCRpIV5FSimSn\n",
       "UwG1xMyArHJAYKXpvLVJTobAM4BVFwhV9RiNL9Q2khlV1zY9C3E+UutuwDqI3ibQYr81ru7ODLTS\n",
       "mnqMEvau7SGmq5uEU2W7kdG4HJLskti8VSqF0OOEsjCwD/YQVrEG60FCo2liDonK9AvnxKdYrYzU\n",
       "sdqx2oRV5k7m+Wxf5csehmN7briOFay6tzrCQQNcN7ZaWPwhF541PEswrpqbQ479KY01MdNIE/k9\n",
       "xSo80oP053djFSB2L+F6u9sgK+1fhVUcnJ1aJX2dG4xyF8EOid2WubLV3B0p8+nlgIqtq5ktX/8k\n",
       "d8sMlF6xgFhVOMyeUGK2D4eh9JDTgAVmXFusKkrpYv6wKlbTSGYO00oVRYgD9AakPzlWlbzMZn6m\n",
       "eGJXrM2LuB497H9qMjLbF53a27Bqb1x574aqFtw46j0zJ0i+Tiz9W86uvGd6V3XV62ER3AoN0tBK\n",
       "NKciTcRq8M2ilcg4/yYiDA6xgc8twgRilYdcVBI2myZLQeS2hlgY6GDWFFfjSM6K+2hqOdKba6yG\n",
       "Z5flb/tSQPxA2dq86jPmTC+r901lexNWNR/QNIy7CAtrQbyc9MycAEXDyrgvH0+uvGkal048rkcf\n",
       "dAuGVyGpmQvDOVZloMy71ng7I6FObwAVNEQGPg80BWJ1QH5D41LbMeyvGzKSY9UgVE8tWI0jubc+\n",
       "Pq9HenON1eAv6rcVhCMlydbmZVwvY3obuckW3bVXsZo/u09coLH3gmcHcknLsD7/ENv1p1hNB/Mj\n",
       "stSjvDK3fNc0yz2P2gf394mbcO4qqdYG2ASXFH1ZJNBqrpFZq3mToJLebW+OQ2Tg810YjNXtpuqQ\n",
       "1JJxcoI9VqWKu+0FVvOc2X2IBR3pTQNWg/3fRoGX49p4FdP2/W4dQSUYQ6GOG9PLQ+xUtl/G1Vh+\n",
       "cWgXeJFH7WwDxcUMV36dr84k5o888ynY8i3T4tqvoLOslK9iiOemzQS3sGCoUwKfGy4Yq2N1tjGU\n",
       "mn1IqCKu2g0s3OFWrHK7Q3AfQEp604JV1/jrzuH5eFgbr5LabqiifAoVVILMGuxomR51O94/5g85\n",
       "LLpjgo1YtWM7ly8QE7R8uJxk6EkoI7svm+U8y0yImfEXkuEJtnzPNL4ugxB6glUIA9xcwHmt9ejk\n",
       "UHCL4HMxkVxglbukXlh0bpTD1z70yfYOYpXMWuu4fRT0BrhNykfxaUnuY+nv6x7KLJdKExJKaezZ\n",
       "pFtLiHxla+NVXFpHsHlGxvWS8orpbVeDTE8TEBuuvQWrfB7UGBhV4G6q1A4Ti+rdS9kT2zku1drS\n",
       "zInUIjwztICWK6YByyemdcNZxcSrWJUaiqpCCHesKVsOQsAhNvBl31WrYpUhV68l3nik4f7rqI9i\n",
       "FeXKgt6cxFWU3EeiAeuXYZUWjMglbtaYIC+1lBYqW5ukUo4ElVwvKK+ZXugIMj05wdgQrVgdqGZK\n",
       "+13Hz05YDp9pw/GeU4uZZy+7nkgkbgE4AadI2ycKeALLwXLFNGD5xPTUUECWe+/kalydkwyQW872\n",
       "f7FYa63HLRxKZDbwZVNs+g0X6WJdU+EDxOpc7OY5vWnC6oD4Cx8szhAk/e+A8bnOym+VYwkAn2xt\n",
       "osqWEiwJKrheUF4zvdCx4JiRA//733SbA2+GYlJWsBQZnQ9IWvAuX9eEyRMnYDQEnf0TC2ldYNNQ\n",
       "ulQxLZtuM39dpGgqXz+C1QcEwiqPEdTxkZLe1LGauY+YHKCw3cv2yQOohCZW65fpwomWZSBc1S66\n",
       "YRAda0s8ZxdLKmawtWSZmfKcZKaOBccMTE+gShxz7Y9hVejZV6wKuI0mooQK2dGfCpU9n8Lq1An4\n",
       "igIqi0PRZLliGrBcNU1/0s+WvAGrelpVRlpKetNSW4o0AJvt37lbHmaj8iqRSxefYDVEHHv07H8n\n",
       "CrJ4w+B0yIK2tcnYDqZkGncsc1NekMzUMeeYYeAdO6Gl4UfjavSgZvVVVnFwgnFhW8xsNk0emOSP\n",
       "ei7uzb9jiPf0pg2rMS4xVxzZJXJeeZnIhX6H+uMRq5YJh6MyyOKfGyw8nx3rf14leZxJxjKT8opk\n",
       "po4ZxwxMr5r0+3YQq+/8feAzQ6/JgX7QVzb1ssxvxWqiIhu9eQSrxv18mSsWAjNlSuRkuu3pJe93\n",
       "qD/SolxKtETMES3I4k2D5acE+JdTIT2wcc8yo/KSZMaOOccMlqpB0rf3L0r8FHkLVglAbx7Aqtbh\n",
       "+QmPHFcD2pQ+kXNKd3qcXsp++/ojLepvSk1cbrllafGmQbGLpACxU+45Ma0Oq3ZQ1kjmsWNkeriG\n",
       "xdDesdqxeoP+lO7DcTy6DnEVF8qQyFXqj6nfvv64LxONgiYH3lu8Z5A2ULBXsDLZ1t6x2rF6Q0r3\n",
       "ESp+yy5gleTKmMhV4k3sd6g/7hE0hWfKbK18b/GWQfzlTzR3rP5tWLXnwOS17rMV7fNwmBK5Z0Ud\n",
       "eW7xYYPfXsjoWP0JQi3AvtGVVP+9pXeJ/iv+C4zfIv8DXrBX/FMjQ+EAAAAASUVORK5CYII=\n",
       "\" style=\"display:inline;vertical-align:middle;\" /></a><br>(see <a class=\"ProveItLink\" href=\"../../../__pv_it/theorems/a465e358ab529bfa6fe967d4f9ff49a5d39890f10/dependencies.ipynb\">dependencies</a>)<br>"
      ],
      "text/plain": [
       "<IPython.core.display.HTML object>"
      ]
     },
     "metadata": {},
     "output_type": "display_data"
    }
   ],
   "source": [
    "%proving exists_folding"
   ]
  },
  {
   "cell_type": "code",
   "execution_count": null,
   "metadata": {},
   "outputs": [],
   "source": []
  }
 ],
 "metadata": {
  "kernelspec": {
   "display_name": "Python 3",
   "language": "python",
   "name": "python3"
  }
 },
 "nbformat": 4,
 "nbformat_minor": 0
}