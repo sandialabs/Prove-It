{
 "cells": [
  {
   "cell_type": "markdown",
   "metadata": {},
   "source": [
    "Proof of <a class=\"ProveItLink\" href=\"../../../../../../../_theory_nbs_/theory.ipynb\">proveit</a>.<a class=\"ProveItLink\" href=\"../../../../../../_theory_nbs_/theory.ipynb\">logic</a>.<a class=\"ProveItLink\" href=\"../../../../../_theory_nbs_/theory.ipynb\">booleans</a>.<a class=\"ProveItLink\" href=\"../../../../_theory_nbs_/theory.ipynb\">quantification</a>.<a class=\"ProveItLink\" href=\"../../theory.ipynb\">existence</a>.<a class=\"ProveItLink\" href=\"../../theorems.ipynb#not_exists_via_forall\">not_exists_via_forall</a> theorem\n",
    "========"
   ]
  },
  {
   "cell_type": "code",
   "execution_count": 1,
   "metadata": {},
   "outputs": [],
   "source": [
    "import proveit\n",
    "theory = proveit.Theory() # the theorem's theory"
   ]
  },
  {
   "cell_type": "code",
   "execution_count": 2,
   "metadata": {},
   "outputs": [
    {
     "data": {
      "text/html": [
       "With these <a href=\"allowed_presumptions.txt\">allowed</a>/<a href=\"disallowed_presumptions.txt\">disallowed</a> theorem/theory presumptions (e.g., to avoid circular dependencies), we begin our proof of<br><strong id=\"not_exists_via_forall\">not_exists_via_forall:</strong> <a class=\"ProveItLink\" href=\"../../../__pv_it/theorems/f7e9b4feb5921dd26886c907ee8c634a8460678d0/expr.ipynb\"><img src=\"data:image/png;base64,iVBORw0KGgoAAAANSUhEUgAAArUAAAAzCAMAAAC+CACfAAAAPFBMVEX///8AAAAAAAAAAAAAAAAA\n",
       "AAAAAAAAAAAAAAAAAAAAAAAAAAAAAAAAAAAAAAAAAAAAAAAAAAAAAAAAAAAo1xBWAAAAE3RSTlMA\n",
       "q1RmmUTNIjK7EInv3Xbn9enzK1aD6QAAAAlwSFlzAAAOxAAADsQBlSsOGwAAC7BJREFUeNrtnYt2\n",
       "rKgShuUmCMqcM77/uw4od1DQ7laTjmvt7CxQ6IbPooDiT9e95+LL1X3wAtM00e7v+qGXVN0Hn8bZ\n",
       "NKsLv1zMwDaz+r+e/+EXQmcwHSJGB83Z8DZqyVvs6c73+jpq6cm8mz5S/ZFT1HZsSk0reha1QHR/\n",
       "1LohFZ7L++RFZDkd85ZHzlHbwenR1KJdMJdM4L8L+t3QQvMGSzUmDgAMfUAGFLe9SsVWZwFGeAou\n",
       "ED1yktpOgAdTS0dapRa7avrfPTPj/g2e11+Hked5l189b5qNQFl45Cy13YSeS+0kuyq1zL52dPjV\n",
       "0HbYdRSb13aBs8zybphRFWbcDHR71LpHTlMLR/5UatHY1al1L66Av5ta3xhyZuZ/keXd8cFyYzvQ\n",
       "XWrdIxvUDvWFrB4/ldpRtFBrv/kvn5tB//2G2f7Psrw7XIQMPQK6fWrtIxvUsjqEZKbPpFbOvIXa\n",
       "blzc/FH8bmqx/35mdZJ5B2HN43LxFDgousV7mU1+9VYBIkspzTAiau0jWx4CqndmD55J7VRrYEMt\n",
       "Zo2jyo+++sStpcJvLJk8odw93YVzcdq9l9k0b98qwC/0mNWCf/5nVwu2qLWPhNRGSw317SkY2rTn\n",
       "UMtm1kYtBfbHBy3ddut9YuWiMAv1jMoZCCEQSfMYVD2v/geqC3m6ZhhkciEAOPyOh6WnM6MGUxtT\n",
       "ax/Zno3BvjJN4bN8IrWgOsXoA+ddkI9SG7eKFFLitWsQuegtGUnq1qZ5qhVG3ZPqB5MyWYgPMvFi\n",
       "2A47CL6AzLwkLmfxFY+otY/srCHwftxv2mF6IrUjaKVWN8iH5yNhq5DFlqxryfxDJp6IbWrnfiuP\n",
       "6FFzHaOy7SOfOau7aXUgK02AeHEEJGODqY2pJVVbS3tRGcRQMB97DLVsRq3Uql+QvIxaywPWafhT\n",
       "Jj5bu3ceApvFlveAdYvIsStS6zIRP0etLwAjZcxx2iDGNf3/v34XbNNDmCp+7VTfMuIBII+hVs60\n",
       "mVoBTScTqdsqaa9iYtGYbN/oW8X19zItmd5QbfHObPV5kK5hsoa1eQOwPxwXHv4gUxU/xZn7rkFc\n",
       "AEdkVMC4fcsEmb5cajwbG/ZtLWmhMBiMH0PtUF85d9RS8wW47NQoxsZkxaaQWF7a2b7RtwqwtYpR\n",
       "j2OvV1u+E+Kt9aU+XwWweRjocRwF1HLvTgSZJmrKZea/lJJsAZRLneTm8FjsfvAStfaRDWppk78X\n",
       "OLaK2jfFo6zUni5sHNqp7cBq/yjXnSUHvb3r3niXSKDcHdD903vUunVhvWC42oTXqi3Xm1kbNhm/\n",
       "ZJ4HWc5TXraQeB2jrK2dXFRfkGk/psucLGrulyDJ3uQLADL0ZmPztGFqO4IKFm1rb6zJfRFzSO2b\n",
       "4lHWT3a2MN4QUF54I3Vko2pTBsMQTJM46lL3ly3WG/epRda9VN8HgndUW6o33x6adroyyBN97GzC\n",
       "kKI1k6qmpTTL3FyE4mkBo6oO486YisiDbgo+c49s2domRJB3lRS1b4pHWak9Wxib5RlqdaW6TbsQ\n",
       "H5Oo2qIyYJsbESYoaX3/4QfV5YSbqCPL1mvVlurNB1q08xqveRopPsKYWhHwtmbSgTG2Rjk27SeK\n",
       "rIDFo2dwpTaO3Olb3gP3CHplMA8Q0X7te+JRzChwsjA4w1PUMuV6dQ4fLqLEbiA2sfTD3gj1aD1t\n",
       "zcZGirhkZjtqaq/2WL0yf2mHHRO05OkQuTWMnop+FtI4zeYjusxRH1mZo8yK250UsIQZSIEK1gg1\n",
       "mVr3yEvUBsOxpvY98SiG2pOFoYalmUKREKOh9/iwxTa4xHXvd0lkI41/hDcqNzmZEARdQzGQem+J\n",
       "BiS1VHus3gKifGe0WvIgyj1o6acVO5m7izk7BWQfdGoxtf6Rl6jtZhCtIbwlHsV63OcKa1j4KlDL\n",
       "1UMDCpsPBomCmy4omfHwRj05QoSXqV2sDTYmaN0NaKz2QL1FQukOZfTDC9ab/RR3Ezv2yIvUDhG1\n",
       "b4lHsdSeK0zM/AS1akpDdCqT4+qRaARsYq/GxckmZlPc4Ea94QUF6rappTMwfGLaXO2RevF3nJh/\n",
       "jdqxj6g9Fo8i9qmNCiPDjAUGwHdKsKcfOewt1AZ6CJyuyysy/jRoKzFrv9KNm9Sqqu1gqSxpY7UH\n",
       "6kXkC5CVagR+idppiqitxKPQCetMZNb28T61cWFoqUnY+sI9/dhqHoyo+/BJhh3T94kISd79XQ3U\n",
       "jjG1G/EoTIJBz4chWEyMOSNaozYqDODVa+2i9Rk8nKE21J4Z/kRo7jWbE7yd2nI8CsbMTSc1q2ZY\n",
       "q1EbFbYuJ5rQinhP/7iHENb2vcjQR9SNrj9wmXoIPh4liO/xx9ghg0RNWhW1AmM8qX9kj1pXmOZU\n",
       "BxwBA3q0p5/OxlrXEJZYoXGcRvKd0Mo7T3l6RY4bqE1mY0E8io/vCRZjIFMeAiSttpb66Bw0Sind\n",
       "FmG0p5+ufB1ar1XGXMIvIDQX8ID3npeT6EZqQUKtj0dx8T1B+IPey8Mu3qNKrS1M/xbhGe3pJ7Po\n",
       "Y9Qq3+UbqM0FPPjdR5N7fhu18d5YPOWx8T2oH5YLrtRy4U4bVqnNOTVTqHBPP77gTI5QO3XfQW0m\n",
       "4IHvlomy4RHXU8t9eHxGrYvvYSKytToCz7ig7dRSZ1SXDfh4Tz/pHnSE2v5LqM0EPMbbP5Kx+tdT\n",
       "m0TPxJx1Nr7Hb2+ti+ByfxuiQK1yy4QpZN2Aj/b0t8x/A7X6gN1XUJsKeMD7tUuMzbme2iDAKqU2\n",
       "iO+hNliXmVM9h6mNK/XElWKPpv4AtXpO8BXUpgIe9lAAlxJwJrb2WirZTePxVhHmIMX11AahKnsn\n",
       "cLjQfm3rAlOFWuIXw0ApUgi0nsCBWvRBL359AbWZgId1rvRYo2YgWwfGK9kt12YRqL+JWhCdZXjT\n",
       "VaHWf8m+eCeqbzP04WTs07Z2x2GBH1rnlwXzkgh4GHwRXRtsUVbPFDyi7HMaHnEN8bcfb6I2OKP1\n",
       "oJPlsJnaJcz4w9Qm7fJ5IY/Sm5IJeJitFe26YdMcuYJHlH1OwyMqIu2oe6ilwWmXn6jisa60X0nt\n",
       "FUIeXUHLIxPwCDYEvSgMLEFps89qeHQl2ZnlQ95kax+p4tHhZsWkNaLsQmqvEfLoslNYuYCHj1lZ\n",
       "pDHXv2BUotZln9XwCIuIVDxMbZdTCx6pmESq+wx91LkLtXrYzsN1y6lFV3LzzvAMTkHI4+Wai7cm\n",
       "M/ZcwGM9ZM7VFHmZvYropXJnyuPsMxoeYRGJioch5nJqn6lOF5zNr1G7dIKmVlKt+ZfK8ZVTi+Rs\n",
       "3xm0S0HI4+Way7cmJ3VzAY912QnOjOuhiUTnc53+RpJ9RsMjLCJR8TCLb1dTi56pBFpfRXAxX/MS\n",
       "9kWWhQllfVgX6Wn41Kqghn9+j9qCkMfLNZerjrQ8SgIeq34Hx1LqI5MwdmCs/kaSfUbDIy4iUvFI\n",
       "TrVedU0PVV1uVLjv4lDg1UeP9TRsaoOgRrcVIRlSWxLyeL3mQtV1qfeStkdZwcP5N+c1PFwDBCoe\n",
       "tCA0d8H1WIX7qrG11IKg57RgxvJ9InZMaoOghrkzF/II2qUo5PFyzaWqYXVbu6TtkSl4RNCe0/CI\n",
       "15w6r+KB0S3UDtHKzaP+clMvmqh1k0k6Lgop2LOjg3TC1H0dD39nLuQRzsZyIY/Wmg9WLevnxbOj\n",
       "RwUFj8hOntPwiOxcoOLhFDmupZbMj/3LTavQRZ1aXxGWREjJPTtLkE6QWtHx8HdmQh5DNMhmQh6N\n",
       "NR+suuE03I62R4XKQxoe1ZfmWmqTU2rP+oukcmhaQyhW7/U0guGuouMRPJ4KeaSfJBHyaK75SNW8\n",
       "pTPu0u+wKx93UPvov0h6/q8/R3oawcpRRcfDW7BMyGPInLtIyKO15kNV/yQtjyupJVmgxfuoRZzz\n",
       "lw/27611tsSWoubUSqtn7RILeTSXd6DqH6XlcSG1LNoy1JTJ91GrvX78cjE7Cryh9szHr72KPiS6\n",
       "8XO0PF6WkTnULPE+96A5G/4Dddt3KUAptWEAAAAASUVORK5CYII=\n",
       "\" style=\"display:inline;vertical-align:middle;\" /></a><br>(see <a class=\"ProveItLink\" href=\"../../../__pv_it/theorems/63d36c01a09b6f610cca8c625e994e1487201b720/dependencies.ipynb\">dependencies</a>)<br>"
      ],
      "text/plain": [
       "<IPython.core.display.HTML object>"
      ]
     },
     "metadata": {},
     "output_type": "display_data"
    }
   ],
   "source": [
    "%proving not_exists_via_forall"
   ]
  },
  {
   "cell_type": "code",
   "execution_count": null,
   "metadata": {},
   "outputs": [],
   "source": []
  }
 ],
 "metadata": {
  "kernelspec": {
   "display_name": "Python 3",
   "language": "python",
   "name": "python3"
  }
 },
 "nbformat": 4,
 "nbformat_minor": 0
}