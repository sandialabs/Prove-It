{
 "cells": [
  {
   "cell_type": "markdown",
   "metadata": {},
   "source": [
    "Proof of <a class=\"ProveItLink\" href=\"../../../../../../../_theory_nbs_/theory.ipynb\">proveit</a>.<a class=\"ProveItLink\" href=\"../../../../../../_theory_nbs_/theory.ipynb\">logic</a>.<a class=\"ProveItLink\" href=\"../../../../../_theory_nbs_/theory.ipynb\">booleans</a>.<a class=\"ProveItLink\" href=\"../../../../_theory_nbs_/theory.ipynb\">quantification</a>.<a class=\"ProveItLink\" href=\"../../theory.ipynb\">existence</a>.<a class=\"ProveItLink\" href=\"../../theorems.ipynb#existence_by_example\">existence_by_example</a> theorem\n",
    "========\n",
    "*** see <a href=\"../__pv_it/bc2bd06df4a38a6f1f0897e25770909436175d1b0/dependencies.ipynb\" class=\"ProveItLink\">dependencies</a> ***"
   ]
  },
  {
   "cell_type": "code",
   "execution_count": 1,
   "metadata": {},
   "outputs": [
    {
     "data": {
      "text/html": [
       "With these <a href=\"allowed_presumptions.txt\">allowed</a>/<a href=\"disallowed_presumptions.txt\">disallowed</a> theorem/theory presumptions (e.g., to avoid circular dependencies), we begin our proof of<br><strong id=\"existence_by_example\">existence_by_example:</strong> <a class=\"ProveItLink\" href=\"../../../__pv_it/theorems/62d3bb986d216fc34aafd6b87b9bd8739249431d0/expr.ipynb\"><img src=\"data:image/png;base64,iVBORw0KGgoAAAANSUhEUgAAAnsAAAAZBAMAAAC7ufXcAAAAMFBMVEX///8AAAAAAAAAAAAAAAAA\n",
       "AAAAAAAAAAAAAAAAAAAAAAAAAAAAAAAAAAAAAAAAAAAv3aB7AAAAD3RSTlMAq1RmmUTNIjK7EInv\n",
       "3XZ/CtNrAAAACXBIWXMAAA7EAAAOxAGVKw4bAAAGFElEQVRYw+WZb4iURRzHv/vn2Wfv2du9lYTS\n",
       "QDYyOrSzRTzLMNtQ05LiSghSqYVeRL259U2gibdJL4IOPYozlNBHi6IEPf+96EI5lDCSrg3OOg4X\n",
       "1j8Fl915QWUadc2f53nmmWfm3FtX5aKBZ3fmN7/vMzOfnd/MPM8C1VOo/MOkrf+XNFLOsGsSKVaD\n",
       "9db3e7DeO5h1q2kfIll+/cfwHa37DufrUhsV3gkHX5ra7q2GT+Olt94GfNFyuXy2rUZZavfVaduf\n",
       "orlwT30duCDhW05Nr1TDp/HSW2/T7EtlatU15YEPbJL5uM4OxGw/vjdpPHdVw6fx0lunLL5tJOge\n",
       "pIG3tM4ORHJ+fBRmIlMNn8ZLb52y+C4XyUXjtq/eHnztx0e/YlW3Do2X3jpl8e2mF0EYztfbg5f9\n",
       "+PBNuXy6+s6reumtUxbfVSD+D/mOkhlojc5855CoChQ1SfI4KOFbCeysjk/10lunKj6CzjxGRTEy\n",
       "5CjOVZ4WdYGiJkkeCyV862GmNYoeGZTqpbdWSzl/4f7Jnzt8+ML04FIrvtSvXxxmh50kUT6Ex+w7\n",
       "RF2gqEmSxwMSvgY74T9EmQNHsTgtjZOC4l7G7lWP36lYa0l8n37htyPTCoi03QD2G5x9DWNOppE0\n",
       "WsQTNCIXOiZe3Hdw5oRq7uHu4RK+cEWs/ltndOOehB21FXyO16PAMdVaM75ICYkS9tSgW1snvqa8\n",
       "Dx/QTwc74tX2sx/oegHcL7LrJHzIL/FCfCV9iqjkElDwOV7Tye6vWmvGF8ohNcZP3TUcVuvBt81d\n",
       "jGjwwriCz4AW70GMFn9HR3HiRzUm4KlFxnfoNZJZuvUifx5B832bEziybGBZm4SPegEngO+CVuMc\n",
       "Qo7txTSUtdBX7eFrzCCZRskvkN2U+3nHSw/f6IqLBcfmy4okGy+7o2mowOoO9dG1neIjv4pTfITi\n",
       "s1RywmPBw6N0Ui2S8W0iPfxwXbaxYLGxNSf2rtXMPuoF8xrW54LW/U12p7O/V67FlVOpqBb4Omxz\n",
       "Osy8XyC7KfcL5wL4UoUZMQepL+vbK2Rju5tJpBH+86M+I8PwWX/AK9Jl6UCe20RGeFitJ3GKWFbJ\n",
       "+EJkzm78CU22wd6/NCM3rMFHvRDpH52jWDe2YBgbaHCZe0uprucuyjsCqw7gWzx63obRxQXmTtfN\n",
       "mCfHM6t2JmdX4JVBBLvi4FKWDTbLjF56cnyXe4IpwXqmMns+j0KUba8YHyKhTS4M0BjPORnhYe7P\n",
       "4xoxnJHxsTSLrIiRV3fseJfg2xfT4ONrVlpnvRuz4i1sbQr1hCp91pg8D0h1EN80NqHSXLBlyHVr\n",
       "xIHAK1lS7Yy6S3lhdQVwpDSrNEuNuiTeF1J8YdsrshkwR/EXHqGKQWLBLGnwfYVl8XgPn33GPPXc\n",
       "52xbWZ31DFEnWSPJtsZiIRi/pDqyfH6PH99JlwgVYMh1MxGIX1q9YPVcNXipvM+EI6VZpVlq5Fo5\n",
       "LZDwJcRUz5kFadhutIvRF6O5IqJZFZ85hsFm/gTRCpyb6MVoR0FnHTTGKD6rB8niS2RxbsM+WnA+\n",
       "aHV4mO4THj6TTwxiYgLCgLsB3RBa537zupJ0KasE8G1K5KOOlGcDzTIj1wZOgAU/vv1i8r39FhlD\n",
       "RfEXHh1IbiliA1R8RhqXsthAVrL494XgFhgT7xx7dfhmL8pTfPETCC/dzp7kOjPxU+gs0I8Mq77L\n",
       "zPvwDf/F5ur74IIhuG7Rok/r3C9UfN0/aBdf9MfjPztSng00y4xcG9iP3GXgjfbjgMD17fi4/+nG\n",
       "S8LjWaQOs16rwcvv/PmO7tpf1luFhiwL3jA+wXtI2KRBsedlWHUp1Wr7gtc7ClMBi0Du1ku772n5\n",
       "/ZK4sAb41DUek/7rGPL8g83y4GfaQNpc1zN3ivyOI1/exP86QpXnEf/lELAGs4w82sdLMLzl1rBp\n",
       "tZUOH4aCL1pggq2nM45bbPxv+LT8fnswl/RyhbYPXMpPJoFm2RfX3pJ00/AZS5z1NovVl9xTgzg/\n",
       "eNUKPvT6BJ6b0Ir7Xe/xOKLLRm75m58a8Gn/0Y3d0P+80tOBNWmZhSmWRs5m6fUv184JPN8T/4kA\n",
       "AAAASUVORK5CYII=\n",
       "\" style=\"display:inline;vertical-align:middle;\" /></a><br>(see <a class=\"ProveItLink\" href=\"../../../__pv_it/theorems/484f7daf24d6912eba278893eb5de2c1fdacb0bb0/dependencies.ipynb\">dependencies</a>)<br>"
      ],
      "text/plain": [
       "<IPython.core.display.HTML object>"
      ]
     },
     "metadata": {},
     "output_type": "display_data"
    }
   ],
   "source": [
    "import proveit\n",
    "%proving existence_by_example"
   ]
  },
  {
   "cell_type": "code",
   "execution_count": null,
   "metadata": {},
   "outputs": [],
   "source": []
  }
 ],
 "metadata": {
  "kernelspec": {
   "display_name": "Python 3",
   "language": "python",
   "name": "python3"
  }
 },
 "nbformat": 4,
 "nbformat_minor": 0
}