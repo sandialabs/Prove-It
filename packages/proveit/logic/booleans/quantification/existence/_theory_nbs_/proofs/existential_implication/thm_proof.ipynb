{
 "cells": [
  {
   "cell_type": "markdown",
   "metadata": {},
   "source": [
    "Proof of <a class=\"ProveItLink\" href=\"../../../../../../../_theory_nbs_/theory.ipynb\">proveit</a>.<a class=\"ProveItLink\" href=\"../../../../../../_theory_nbs_/theory.ipynb\">logic</a>.<a class=\"ProveItLink\" href=\"../../../../../_theory_nbs_/theory.ipynb\">booleans</a>.<a class=\"ProveItLink\" href=\"../../../../_theory_nbs_/theory.ipynb\">quantification</a>.<a class=\"ProveItLink\" href=\"../../theory.ipynb\">existence</a>.<a class=\"ProveItLink\" href=\"../../theorems.ipynb#existential_implication\">existential_implication</a> theorem\n",
    "========"
   ]
  },
  {
   "cell_type": "code",
   "execution_count": 1,
   "metadata": {},
   "outputs": [],
   "source": [
    "import proveit\n",
    "theory = proveit.Theory() # the theorem's theory"
   ]
  },
  {
   "cell_type": "code",
   "execution_count": 2,
   "metadata": {},
   "outputs": [
    {
     "data": {
      "text/html": [
       "With these <a href=\"allowed_presumptions.txt\">allowed</a>/<a href=\"disallowed_presumptions.txt\">disallowed</a> theorem/theory presumptions (e.g., to avoid circular dependencies), we begin our proof of<br><strong id=\"existential_implication\">existential_implication:</strong> <a class=\"ProveItLink\" href=\"../../../__pv_it/theorems/d7c9240c03a1e8d8d6f9a5f1e45c34174ed8f0220/expr.ipynb\"><img src=\"data:image/png;base64,iVBORw0KGgoAAAANSUhEUgAAA2sAAABMCAMAAADEKt+xAAAAPFBMVEX///8AAAAAAAAAAAAAAAAA\n",
       "AAAAAAAAAAAAAAAAAAAAAAAAAAAAAAAAAAAAAAAAAAAAAAAAAAAAAAAAAAAo1xBWAAAAE3RSTlMA\n",
       "q1RmmUTNIjK7EInv3XZAMFB8JI59vgAAAAlwSFlzAAAOxAAADsQBlSsOGwAAEcNJREFUeNrtnYmW\n",
       "rCq2RVXABpR6r/j/fy2VHraCXYScSMa4x7xAACILNo3Tqira1dM0ddWf+3N3Oz63rOaVJevF6upH\n",
       "Em/JdtBfo/hzTzmETvyom2joNUlx3Kc1hmZHnrhlvKPgH9VadzLsm+X6xO/vyLu7prWK1bFmZ1ff\n",
       "qLXHqqkZ6Z/WAvumORf2uCP8sfv6WNntPZzTWjWCP0MFaI2Oe3e8as12JA36Bak1TDXNQYihrocW\n",
       "0yjsW71A9gOQhR+GoXlb2c09nNQaAbVQgtbq3aFrDcTGdG1/YZ2E2hoR8s/BDP302wN9S7OjimE1\n",
       "2cwk/zVl19eTWqvqoUyt9YIktdbrp9UNvzCsYWQrR9o7jeBR2LfWE3D+k5WFHnTTeU3ZzfVkgTrR\n",
       "FKm1dr+za72OiDW/oLXRWj2iV1cWhX2tdNDANgCeuvCtbjrvKbu6bmltSI3dw1Si1pr9YU1pTVfK\n",
       "T6yUNPYuB6GvfRT2NUMMaqA9YHC0QrWc4XVlV9ctrfVDUg28QK21U5WhtWqcFjeyX9AaZsGMx3m0\n",
       "OoxyXtOebYzz+6F5c8bNJBi4Q4PY1nRtqg+V/dHC67Kr66YNiVINbRjL0xrUQUBaw33W2P5PuDaY\n",
       "rnXMnm/QYfOEg9e8wnBPtR+aJ/jNJJAZnvDkOBHO44gYOGc17o+V/dHC67KjNtba/t1E5lhTnNZq\n",
       "QbO01tX6n0dHlJ3KfWi6CnQ1Vllc1Iwx9wCBCkPd8mxpVS+NhaLAOHNDKWN1fbyL8jIIamLcMn39\n",
       "5seWFkNr2z9mlf3Zwuuyq+vO2kh4N9Gg3ZamNSpSlnHrTFcZeVhrQWE44xzL20bkc/oeSThdi8KW\n",
       "sQKrquk5D/pvNxSvPfbxx+0kEbWErYfZjm4ttbI9m1WdvLI/W3hddnXdW4cM7iYeJPrCtIZEk6m1\n",
       "hn9gZcTTGln38rpx+Zc+N6IStq21uPN0nv9ohsQGaI46dFl66qJ2keVG2LwnG+Na1zKvichtNWqP\n",
       "0GaX/bnC67KT5LgW3k2UkmCFaW1ImZBWX22F+Ce1phsBXjzxgyNqtDlsbMg+ep6OfbkeXqB0o72a\n",
       "UETPNlebBEbz+INjdXgznCk4ZkAEkhMbfLTsDxZe56au2/O1KXloQoxlaY2KpIFgtMYa3SgXw07b\n",
       "do7BB/qCU6TNmI7WzCNeq3C6J2cwarRaNnAzXYskLsPoQKp6edbMa0GqfoLQ+To5oYknEidBEVlO\n",
       "0Y261Ag0+0noi2U3ypblnT5d9s8UXpddXTfHNZI+MzGEfcDLtYYEy9ZaNypjhHfLGZlw6gr7gu19\n",
       "O6ZTw+bkGBsXg+KWnOGoTThjM4vqbfz0ZFgjeorncpHGba9UmZxBaNWvL4FQY5Cav7b/cJPoKF88\n",
       "jQWCGWhyhR6j/AGataYKslf23MLHfxwqvC67um5prcuYrfCw7b5ca7Ug2Vqraj3QrD3k8j+dswdg\n",
       "fEnD9y0++/s9rZmtvLY23dzVnOGsoz60n5TxKsTAwTCKOZ81ihrfMprkm1VBqC7rZN67mvD2H1AS\n",
       "NXdnaRN0j0NwU2xxa0vGrT7qu1v23MLHRT5SeF12dd08N9LnCKItSmtjunhgDyPL0jf+W3vSd1w6\n",
       "uJSt3SXna/rlg/W+m/qunIGs40MK086jhsJMe20AU6ubW2LXbYXGaQGRxjlPjFUf0YFmf1bj2C37\n",
       "Jwqvy66vm+Nazt2IYK3h3VrLmK6BWutHVR1ei1e+nfxr915kTIQJ8t/ycFr9MD9lMic/IVcOV3OG\n",
       "so5syN3jvVCYaa+AddcNfd/LV3KyDt1ASawz1r6RSrlwgHi37J8ovC67vqIrh6HbwCh7t9YaMRzX\n",
       "WjdWrFXbUspmYL5vNRDlC/1jYzZ8MKse8drI2CHKe3XWYTqS88Gseby8OuzUdRTWsVYwuezAIdNB\n",
       "v51Pc5ZxoUhkGdW5tAivvWmxU/ZPFF6X3dzDJa3h4MjTu7WG00sjwLiGOWGcU9vi+7HxfOWpoNW3\n",
       "Hzv/Hy/mPAP0Z8GDZ77UfDm00NlGkpnzwawBYdGdBr0Ttt8es3ZM+GG5HDJkhuqbhddlN/dwSWso\n",
       "GCnerbVWNCe05k4AlCXnJcOoqnQocc9vWl7RJRTW2topYtVXRhvO+zkfyRpsf91Os+ke32bcX0m9\n",
       "4l5RdnsPl7TWBzts79bamLFNuaO1no9yb8qVyyxgIaeBBJgoe37LYZCGoWpba52olaj8PbFEzoey\n",
       "xn9Evq+5S1qjATjr3VoTIr241GbwIVG2b6Juhzh3Yses/PQOZI3IX5P/0jA3TSO61nz7YrTW3UfU\n",
       "u6tEe93YM1nSv0Zfqpv8KdCrtdaII0e4d/YX/9jI3x4gTgGEaeGvI7b+QuSrtcbFgYP7NTq5fvIL\n",
       "rvt2tucmPv1UtNhqfxn91VpjIn+vpt7bHfh1rX2LcHoZatpMJVc79on7i9buAZlqrd2IRa3zvw6A\n",
       "0gxJ807E+E+vNgB41u8RTq9CTTfYJYU45ttli9buAZlqrd2IRR1ELmqwG7u01r7dy3/KhXjWbxJO\n",
       "r0JN5RG4YrU2hVq7B2SqtXYjFrXN1tq0vwX6U1qL8KzfJJxehZruf8vh7SaGv5m9ztduAZma+dp9\n",
       "WNRJZBo/KHGi96e0FuFZv0o4vQo1rVpc7JNA/p7VqrVbQKZGa/dhUcdcraWwkD+ltRDP+l3C6VWo\n",
       "6cZ3KIrV2i0gU7sOeRsWdRR5p+N4JtfuN7QW4lnVK8aUr7YkDCHaDcxyWylchpqu7+KW6RpIa3eA\n",
       "TK3WbsOijiLPyp9ST+OXtBbhWdXIwiTzEN7k2Q3MWwfYSOEy1HRusfRf0toxkClLaO02LKrI01qf\n",
       "PKGsMBN6zf9JrW23nEdgrRwY5AM8qxRd30iQ4vK1oohv6gSepJu6yQdrG6m1kRTUlApeqNYIpLUE\n",
       "yLSb8BKIFDwHJ7TmpUYGgRmuaxPo8EvdCAzUWpYq6uTk/4Pjmt/Wnoe14q3pmrUO5Oupiog4/xPz\n",
       "TZ3Ak3RTJ4WwWaS0loKagt98KcTE8IZkpbUNkGnP62F5k7ip12PsancU1tp/xP+ZnspNDa01xVR9\n",
       "ufxS3R6nreUmIf4/y9SsX6q1T8BaoxfnonNtuiGT5cFLGyA+jmECT9NNneQ978tQ07mNFro68h9f\n",
       "a/8VujUCIFOsP2vQoLXDY1XeuOalVmNp2SgzTiXhwt/WCEN7dlzr05bmd7T2GVhrQGqN8ax64rZC\n",
       "tflYgVozgafppjYFCG56BWpKRaH72fC4ZkGmTk3ZLx83fUM6vmiNYYyn+T+yqzWLRZ271cYuX/j8\n",
       "UjcCGfuzWuPpbi/WGuFLgYKxBvQE+/DtiFZrEKz1WrZgzGAbM8azaqzdUOt/Ir6pF2iMkJxZm42j\n",
       "U4DhplegphmGy2u1BszXDMjUqSnn3fumn23IhmSPa52tnW6RdifHLp9faiJwxOGjDXnrkEN6rzbS\n",
       "GuULfTOAWoGeYAPbiWgrDYC1XssWjhlQtmI8qz5SiGvL9Q74pl6gPl2fQWR1EjApwHDTK1DTYids\n",
       "8NqIAZk6NUWQq7VZYXzI1ZrBoi4LKpxzjeXz+KXOfI4O7LzWxlzWlnP2uKNLc1tuyIGmGs8UM9X+\n",
       "ek9rAKz1WrZwvt7AAOFZey2smnEsH1LIN/UCTdF28KYh3dRLAYKbXoGaVkz8W1qzMtE1hdphdY3U\n",
       "GmVVm601Jzl3/Pf4pe50rQFrc8rRGs04NAl0nsvC53yrPjRVeaaZqSrivtYgWOu1bKF80ycvHMIp\n",
       "ayt/vubCSWWgpZtm4U29ODIFCG56CWqKBPk3tWZqqmfeuLZ0u6pGj2jNIzZ4/FJ3usZAC6rN2Vnp\n",
       "MyIBWlv623WO6DZ65ZlmpqqIMazV0RoIa72WLZRvk+xq5PnfRQd0bAKtMSsSGejQTbPwpqyKUoDg\n",
       "pheBVGXusDXA2WOvo7E1Zc0cuTfE6/0KgbTWad+VN+rxS1cfOZ+r6qki8c+HnPOQzTmu3dzZk/Xe\n",
       "LTTV8dyntZqIMazVXRuJYa152R7Ll6fb4Yo7XF6FkLuYAN/UBlq6aRbe1MSxKUBw06tAqjLPH6P4\n",
       "nRp/3LM11Wljulfrsse1xme5SMX2ss9z+KWrj4rQt1CTqXPqGJ3j2jUYyW0GB5pqPRO0VhMxgrV6\n",
       "ZOQY1pqV7bF8M9in6ypXg4DZoK703cDdReBqL4WboKaVKHMhksfvim4/I7bM1zJt5SQDQQ8/hl9a\n",
       "pQYknFPHGUv+gNbo/KMBVZUHTTWeKVqriRjBWkOqXQBrzcz2QL405y3BbxFOb4KaVmIoUmsBw+Nz\n",
       "vBHTIg2/lNBjZd2KRE9oreYVWXw9aKr2TNJadcQY1hpqLYC15mV7JN9CSK3XtDaWCYzBvl32Oa3Z\n",
       "ytb80mT1oxyOFj6lNYI4i4oHekL3EUXc1FoAa83L9kC+pZBar2ltKnODbSiIWUdExgZvnXEH7ef4\n",
       "kDvZPPFqSBGvm1wGCE9jkVprC2KxZnGPc7T2x2L9osym68dPC9XaWBBjvBIZaZ6zIX/Jdd/NFF0/\n",
       "OVyoDRl8juLdWpsyDgywU+uQvzS0fOU19MsY1vLXRrqivglVZxzS4tn7az/AYpUgVnmwTrlvgVgv\n",
       "Y1hdrRW5v0aCpb13a41nbGYf38v+p3kjcpukMzuT3wOxXsawOjdV5LkRHhx7erfWSMaif5NhZ/6O\n",
       "1vTRwUE/je+BWC9jWI2jgpX4LOrg9OC7tUYzFiIzXsv+Ia1pi7rVT+OLK3gJDOvxDqQwNwWrdu/W\n",
       "2lzcdKKH36n5l7WmXhXt9Ymbb4JYExjWfNeIEp8YDXeHX641ljFoTe2f1sLpmiFmYm199dPUVx1c\n",
       "m3thec8eTCCFYT0wWJe4OdqEp3lfrjWScfq4Hv+0Zutr4JzVuA/Gloq2nA0bH1jaC8vrweEEIAzr\n",
       "yYnPvzBde7vWqjFdPpTezP4Yi3XHnH0AxcoBO2ABxdT2zUN9aKNbfBhcUXthWW4jgTSGNbcRFHnM\n",
       "P2q6b9caTq/o92lr/mPjWtAonkaxRtJuZfO263bOXiKVaqDQZyFl2EnmsZN48GDu0VpX5NJIH5lk\n",
       "b9cayVjufRGL1dPa8yjWGMRay1l5HWtNvcMWQ49t2EnmcbXxghy5aVwrk8XKoyHg7VqrxvRsDI+v\n",
       "1NonUKwBiFUj6ezSrDn4u1LRqFsu52cq7Dzz2CRexRVwWWt1kach27EqTWs8vVVNklEArS1cBxL8\n",
       "DvKD73UroktAAFCs4O+u5BqAWNU5bLYYXTJ3DbBr1ogeiNV+TluHWeZxliEJJOAhj1MY1lxXqAnJ\n",
       "itNaDmtiwse1hnvCwp9BfvBIuhXRRafHKFb4d1dy9SFa3Si1hubWSaQK1epgP7CBMwmvU1ozGFU3\n",
       "TDGPAdbqDofVJBAgjxMY1nwTssRvQtVxqd+vtQzGAcr71mFw9riTUCnvO3GrX5KJan68pzUAxbqR\n",
       "6YVcPRArW5wEI7T65K8CsbJlVbAlnm2rMapumGYexxjWHQ6rSSBAHicwrLluKvHgMQWGiPdrLecw\n",
       "3LFv+KryrpaJD0WVfhlM1J4n52sgihXK9Equh0CswTwSQq2aTiAHwwpEcpHHKQxr9upYmSsjXYFa\n",
       "S3+hNz2wtfB0ft0Xcpq98kszUVXEGMXqNH0IxQpleinXXBArqLW4g7LM46zDvnEkF3l8C4bVftCj\n",
       "LDfiqkStVVP6wbfsoNa6tumlATbJnSXPL4Fi1RFjFKu7NhKjWINMb8g1F8QKaS1GrVrmcQ6GFUrA\n",
       "QR7fg2GVn3UrcFijZWqtSafcj90xrWGKRgmYXZv9Sjq1fgkUq4kYoVgHb5AIUaxBpjfkmgtidad8\n",
       "Gnocy8kyj7NW/uJILvL4JgzrVOaxY5CEVoDWvC8jbj334eh8zTxM2QO5jzSFYrW/DVGsYSkCFGuY\n",
       "6dVcXwxivQnDyoq0IOuhKlVr3rc2tm6PndKahqK6gkmiWE33FaFYh8io8lCsQaaXcy0CxHpFa6RI\n",
       "0AgZ6dNaW90j/VA/ZrCymnPjmqqHXM/9hhP1Zz6K9eZcywCxXtBa35Y4Waum6LlMwn6S5A4bFa3u\n",
       "mcdPMjrwnc/mfYzFupfJ/c2mgIZ4CcNKy5QaJUB/s7rqf3XozQn9y2puAAAAAElFTkSuQmCC\n",
       "\" style=\"display:inline;vertical-align:middle;\" /></a><br>(see <a class=\"ProveItLink\" href=\"../../../__pv_it/theorems/d8169b346bdc172f53c0e76eaad829ac7172c0140/dependencies.ipynb\">dependencies</a>)<br>"
      ],
      "text/plain": [
       "<IPython.core.display.HTML object>"
      ]
     },
     "metadata": {},
     "output_type": "display_data"
    }
   ],
   "source": [
    "%proving existential_implication"
   ]
  },
  {
   "cell_type": "code",
   "execution_count": null,
   "metadata": {},
   "outputs": [],
   "source": []
  }
 ],
 "metadata": {
  "kernelspec": {
   "display_name": "Python 3",
   "language": "python",
   "name": "python3"
  }
 },
 "nbformat": 4,
 "nbformat_minor": 0
}