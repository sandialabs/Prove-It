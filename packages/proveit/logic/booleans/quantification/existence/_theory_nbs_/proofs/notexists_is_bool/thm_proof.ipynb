{
 "cells": [
  {
   "cell_type": "markdown",
   "metadata": {},
   "source": [
    "Proof of <a class=\"ProveItLink\" href=\"../../../../../../../_theory_nbs_/theory.ipynb\">proveit</a>.<a class=\"ProveItLink\" href=\"../../../../../../_theory_nbs_/theory.ipynb\">logic</a>.<a class=\"ProveItLink\" href=\"../../../../../_theory_nbs_/theory.ipynb\">booleans</a>.<a class=\"ProveItLink\" href=\"../../../../_theory_nbs_/theory.ipynb\">quantification</a>.<a class=\"ProveItLink\" href=\"../../theory.ipynb\">existence</a>.<a class=\"ProveItLink\" href=\"../../theorems.ipynb#notexists_is_bool\">notexists_is_bool</a> theorem\n",
    "========"
   ]
  },
  {
   "cell_type": "code",
   "execution_count": 1,
   "metadata": {},
   "outputs": [],
   "source": [
    "import proveit\n",
    "theory = proveit.Theory() # the theorem's theory"
   ]
  },
  {
   "cell_type": "code",
   "execution_count": 2,
   "metadata": {},
   "outputs": [
    {
     "data": {
      "text/html": [
       "With these <a href=\"allowed_presumptions.txt\">allowed</a>/<a href=\"disallowed_presumptions.txt\">disallowed</a> theorem/theory presumptions (e.g., to avoid circular dependencies), we begin our proof of<br><strong id=\"notexists_is_bool\">notexists_is_bool:</strong> <a class=\"ProveItLink\" href=\"../../../__pv_it/theorems/fe2487978a7845cd049ced5ba4d1ecdd1187395f0/expr.ipynb\"><img src=\"data:image/png;base64,iVBORw0KGgoAAAANSUhEUgAAAbcAAAAZBAMAAABA2H3yAAAAMFBMVEX///8AAAAAAAAAAAAAAAAA\n",
       "AAAAAAAAAAAAAAAAAAAAAAAAAAAAAAAAAAAAAAAAAAAv3aB7AAAAD3RSTlMAq1RmmUTNIjK7EInv\n",
       "3XZ/CtNrAAAACXBIWXMAAA7EAAAOxAGVKw4bAAAFhElEQVRYw92YfWgcRRTA393t3u7t5TYJKhqV\n",
       "cqKWYDQeNfUDSz1I1FA/OFsQbKseKIih2CtIJVras3+JtvEUQoxgs9oitoV41kQpwRItpbZVuZZY\n",
       "asnipYmFKDnzhzaxocY3s7O7sx+XejkQ7MLtznvv7t37zZt5M7MAVV5KBq7cKxq/guEi/+/MqXrW\n",
       "T52BqTP4iFXjWoJqf01j8DWVCds98FK+yHEYBEHXvxtNLT68c1XBiUW8DTp1U8c2bjiZoiaMu46o\n",
       "bl4YLkAewYRD28T8rlQrnnST8+80PK8Rl/nqxtS4Fw5yz0gd11ATwj1INC8sDCeQ5IQdk0tJM7/t\n",
       "lcPBBZyqx/H5cZUTJqz5wK2BLyPUhHCvkxGaWxhOJuntdCiFBPNbqBxO/huThh9orRIulPSFWxag\n",
       "JoQj9AuXc/xSBz4OOJQ15ohIVw6nzuJnDhvD1da64xac+oF+2oILUxPGHcIUhC9XUO4iFA7lUgYn\n",
       "JiuHi0zjBwGD6WrhnjPhxJc0O3PX3k9NpBB+r+snLgdXo+ujzsn/CINTE5XD1eIseBvLmUBc9o99\n",
       "MsR5cIk+O6LS9W9Zg+gzE26zZheU/pN5aiJw7QDv+zjJ83BCFiKau8/Qb1D/WR+tGA7BXjtF6gGp\n",
       "v0l1iVCwbS7RewkwVnzMFO424eyKmHt6w6VV1ETgNoFU5+MkycPhNzZh66k/BupZzTzFMheDyjP3\n",
       "+w1Dy8kzhr8MZUIXAwnYzUaoISpD9Vq5H98DD2hXmcLtJlyaLyjjT2rEROAimmOVlkYGYUWdCw5z\n",
       "S5yEChBl3XqEwXUuAq7PLEroWAYBA5NLzK0hClA+e1l4iBsDDE7GuaX/ZMJFxDwxkbiDRbuedDV0\n",
       "w01RTdDccM20bwJJUKedcE2LgLvAweGd7DOCFgwRa1PSbPmf/2A31zM4JcdnLgI5YqI5S6+0xnM7\n",
       "2a0Uk1EYaBtpS3Fw4RAJoSYOsTrnsBwkcKWHJ8wVnmval1Mpz7FGjHbLsxlF4+CIGNIWgBNnYB+0\n",
       "3FsivX+HOSwLTrg0MVG4A7iKhVq7JoztDDTeujXqnnMQXUomwTZNupopdzG4DoRTMw1hlj6uya1r\n",
       "TqX6p7kkYIftTd0IUSNzClgiGf2KlwtjULoDw5BXlh+Go6i4z4QrOeCCRWKicFswGbvXJ2oyRnIb\n",
       "ox+t88BJX5PWitI5zS7C1G8B4UKwSwaJllzaXD3h3EtTJbdpmjYd4x/f+eajsNqA+zRtibBTo6JC\n",
       "RjC9mVJwds+wGJf603DRWJAMOLvzcuvg0AA1UbgAHg1ePQ+1mki3xo2QnPTAwXWkVW9HuJPCCfol\n",
       "nZwKZgC2nzUM2BxWpl1dPsPX8r6/imx8ItGeUrA1bsDFzloi6SkiwgiwW4zEo2ugPF68ZRnGXBTJ\n",
       "9uZHE05pWGv4PH+sj5wKiMmuk0twBoZe7O19F+H2h93rHLsO2yHGstQvnYogD+P5yYAjzYzs2lcR\n",
       "ZcuaJs8ws89idM7dZokvwyu8aH3LWiBqskIyC1LB2n6JB9n2yyz6BS7ub6FNlvNG5sRm//OcNOPZ\n",
       "s5Ksw5ZoWqBw+1kzkgIljxK9MWVzznusbXHCWf0pvffGKr57rUis1jaIbc/au3eftT7BxT0NZxqN\n",
       "nQqur2P+cJNz3NLaQ/3SgIVfDv1K4XbEjSYWXfkb2JGRj+KNKQPZzeVfUUhfzBVBKVp5mZ+f5kR7\n",
       "b2a1ngD1c+OgUgauk4tbrIPfEtCJeZBPZyDwL07ie6lf0VaQYWlM66iGcQUtg6GMwfhazz7RcdRS\n",
       "XTXW+59u3J7ycD2euJWDvd0+G2fflxFSEb7i3190nYiDaGR24zwOMouEKT+EpoTHydbqXu5g4qeO\n",
       "lDOp1bz/8Ds8cu2En/I/vv4BMfme8LfizBgAAAAASUVORK5CYII=\n",
       "\" style=\"display:inline;vertical-align:middle;\" /></a><br>(see <a class=\"ProveItLink\" href=\"../../../__pv_it/theorems/46fff43b9c7305749dbb33334158fa94698b350e0/dependencies.ipynb\">dependencies</a>)<br>"
      ],
      "text/plain": [
       "<IPython.core.display.HTML object>"
      ]
     },
     "metadata": {},
     "output_type": "display_data"
    },
    {
     "name": "stdout",
     "output_type": "stream",
     "text": [
      "notexists_is_bool may now be readily provable (assuming required theorems are usable).  Simply execute \"%qed\".\n"
     ]
    }
   ],
   "source": [
    "%proving notexists_is_bool"
   ]
  },
  {
   "cell_type": "code",
   "execution_count": null,
   "metadata": {},
   "outputs": [],
   "source": []
  }
 ],
 "metadata": {
  "kernelspec": {
   "display_name": "Python 3",
   "language": "python",
   "name": "python3"
  }
 },
 "nbformat": 4,
 "nbformat_minor": 0
}