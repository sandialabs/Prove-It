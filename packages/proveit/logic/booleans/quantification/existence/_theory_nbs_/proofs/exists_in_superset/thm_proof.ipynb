{
 "cells": [
  {
   "cell_type": "markdown",
   "metadata": {},
   "source": [
    "Proof of <a class=\"ProveItLink\" href=\"../../../../../../../_theory_nbs_/theory.ipynb\">proveit</a>.<a class=\"ProveItLink\" href=\"../../../../../../_theory_nbs_/theory.ipynb\">logic</a>.<a class=\"ProveItLink\" href=\"../../../../../_theory_nbs_/theory.ipynb\">booleans</a>.<a class=\"ProveItLink\" href=\"../../../../_theory_nbs_/theory.ipynb\">quantification</a>.<a class=\"ProveItLink\" href=\"../../theory.ipynb\">existence</a>.<a class=\"ProveItLink\" href=\"../../theorems.ipynb#exists_in_superset\">exists_in_superset</a> theorem\n",
    "========"
   ]
  },
  {
   "cell_type": "code",
   "execution_count": 1,
   "metadata": {},
   "outputs": [],
   "source": [
    "import proveit\n",
    "theory = proveit.Theory() # the theorem's theory"
   ]
  },
  {
   "cell_type": "code",
   "execution_count": 2,
   "metadata": {},
   "outputs": [
    {
     "data": {
      "text/html": [
       "With these <a href=\"allowed_presumptions.txt\">allowed</a>/<a href=\"disallowed_presumptions.txt\">disallowed</a> theorem/theory presumptions (e.g., to avoid circular dependencies), we begin our proof of<br><strong id=\"exists_in_superset\">exists_in_superset:</strong> <a class=\"ProveItLink\" href=\"../../../__pv_it/theorems/9136f73bed7d1e6b03988d325a138dc2ee6269fe0/expr.ipynb\"><img src=\"data:image/png;base64,iVBORw0KGgoAAAANSUhEUgAAAvMAAAAzBAMAAADoXJp5AAAAMFBMVEX///8AAAAAAAAAAAAAAAAA\n",
       "AAAAAAAAAAAAAAAAAAAAAAAAAAAAAAAAAAAAAAAAAAAv3aB7AAAAD3RSTlMAq1RmmUTNIjK7EInv\n",
       "3XZ/CtNrAAAACXBIWXMAAA7EAAAOxAGVKw4bAAAMMUlEQVR42t2cD4wU1R3Hf/t3Zmf/3BJNI6C4\n",
       "DbQllT8bQRoNhSX8EwHdlIZYMN5W25jSGNbU2KBUtqZpbKV42iIcaWWwxBZQWBRJ9SqskAarqb0q\n",
       "GEPcZvnTWqoe5z/AI/X6fu+9mX3zb2fudi+z4SW39968N+/efOY37/3eb757AK5J2blThRFMV1WL\n",
       "cEmlD6uZFjFNDg7mWju2WEksFeBSS6GsY9UORjw2ONjlBX2+1UO7DNoYvdT82Q3Qy8e12+ML+kC5\n",
       "ndGfbOrsSK0xepjsK/oZYEa/tFqt/sVP3qmtn4964ibMBcvN9XTKBX087SN66QjYWf1JX229g4zi\n",
       "tzgPP91kR1G1MXp4y0f0yVobon+UDGoqDmxus0tszgX9JNU/9DOhDdGfJU7XWZxrKs329JoR/RbL\n",
       "Y5HzD/3r7Yh+K/4Q/MGmF/07jeh/YVmIz/uGPjXQjug/J37fF+R3mFi+0jfmkeeE7Y+xaJN2n/hj\n",
       "j76L2mtEH7Is29/1DX0y3YboCXbpZaQXJdTCcKK2tF5nKtqkXGpcuFfw3xj6cJWmT82tp6p+oX+0\n",
       "ZEU/mQzx0DD6UjQ4YvraEDrQVvzURz3P08tMEv7fgNnqZaBoPjAr7to7xnFlLYYGArqhTzIts8E7\n",
       "TM331PxCfyW0zuqfYbcxxovv9y0k1zSU4Wo3LdbPMwlydgkWkNyGD/khVsyBo+XLEBZWiEfNHs7T\n",
       "ph1LrNcv9K+0Av2G0Rvx18GMiH55EdYWYduQNp/luluvowd4Q9x3suJnsK7k2E1C8JdvM6GXfmiK\n",
       "DobO+4Re/qQF6MM3MnDrawL6ILGmcBfMH9JwVnFT1RZDnHDQCdkpoKfFGxqh7ywqamjuhtP8jhnm\n",
       "+rfNcVnlE5/Qp847ok+dfnCh1qqeFU7VD57iB6JpAT2iCfUDuQF9C08XvXUE3HU5q11jrAbKxkAF\n",
       "ygw9WRG1IrxMizarzY78lRCH39+WTeBfvd5o9ZEu++feB/SxiiP69wJd2pIkZOtJP6jwYdf4HMvQ\n",
       "fwkjJBWpAKni6GjGU0cAE9iv1UKIJXhheyWSoeiVc6AX5eO0CHsK/EMvTf3lEvgW3P9v6MBbs9iI\n",
       "/j4rgt9x9NRuxrugD9AHOtsK9IkuG/QsfJaN1UqwhloWZiNTTHMHraeWxEYSKaUqAnrcqkXTxMpC\n",
       "8KQM0hZw7wjgO/Rz0eCT2nzYC8rNtQnX8rm+qupFHBgpQhJ3o/TjKGaOA2zvC84l92YcTvMAx4zo\n",
       "N1sRHOTo6ajuckEfRsOPtuRl0p6cg9XjYlcEebKqZROwxxzj4iMI/aC7+3EymfbsHRDQH8Y5uxhE\n",
       "WyKT2kPHwb0jm83mO3oO0Qf1KUbKSUWhqKev67lXYZ5M2vUa0dtAm51n6H+K3Xa5oJfxeta0LE7l\n",
       "hH49GWhS1bIS+TAmcjA0/9oyyGXulEsXBPS/gRXwFsjkWuSKBHAc3DvSJ5x6mm5AH9dLax7+mSoU\n",
       "9aRvVqV+eGcisYesS/iMIyDoMcgZz7jN9avqK1KTaWrGCb1U2U+8Z4JeKbMsbCRZ2KV90IPBM7iO\n",
       "btGmnY8F9Gt/tPvn5FAvrI0XwhS9e0fQZ1mLNDN9YPUBgN368b8PDopFfZnVLSmShvezzEBd0NMH\n",
       "n6DHZlHXZXYatOpt0uySo9XfvLJPRfTyIZYNlzC7vigfwQ9+8AqyjsIa7GRJGrafy9fRS3NOjCHW\n",
       "vgnC/zrwX4revSPS2syyy263a19EZ8l8YJM7+o4093D+Vq2+7oo+Ua2+W24J+rNF5wmH/jXyFAZZ\n",
       "9qWUngU915u6jjwXL3ZvFC1VM7wcMcuVvHAcvHRknWofbM53LnpA38XR32gTU7agJ3YTU1uC/qDa\n",
       "EL38AZnXVtBsdPB/WhYTyynp4PNWh1Wbsj4ivMPs3m54PeOho/CI6FBc0CcKHP09IKWhwfJB0ZMm\n",
       "99j3YyaZc6rg6RbL8bstOpysXbbB5cT0rnD+eWkIHV03EuQ/fLcx+mQvRx9T4+KeSTr6AsxMCwjZ\n",
       "lmoLvIBe8Kf7RiGn1AFtu6i8yny0T3sWsUlce4JpxYvd3ZvESpKuHoFrlezCmZ6SCj6kZIWjD9ai\n",
       "hqjUl+NqWLWgn0LnhVAvxMkti9ylv9uOMx+DVPDtjYYeK3bkTZW26C8h9Vmq+uZQ0ENhliEqNb6W\n",
       "i4MFfTSEq3sgB6l+5vEuYpW30iAfVoT6DeixgrsP9UrbCafQRuya0T9RA5rmBb024cBzxGlnYTca\n",
       "lZr4lQfjsG/e0Xl5EX38q4gskcGXTHQjM5u7W+x1F6l4NmtATyokvl7UK3GZLbYz+mZeld3uFb2+\n",
       "zMJaMrPTsBvztCbGn1pptXqJhtvWqdLlxIrx1D9zt3YBixqemn4FiOixIsh3T/VKYK/+HWI4vqUz\n",
       "g4+N/h6aVlP6p1TWK3rNr4cAgUHDbiwqNRFyZ6zogcKb2XeSjDCBA2TWfit8QH9/E5TLDeixgke5\n",
       "hMpGWyo/382eI97Ga9Cs/mmVR/QdOUPQGMNuLCo1EXZFbdDTNIrdNYJUZmH3xT1X07mboF2XF9Fj\n",
       "hcKd1nolBhLy7YcetQhB1CM0p3+a7hH9nrIBPYbdWFRqIkSmWPx6ng4zNzoXUZNZvo1m724OAXSK\n",
       "ziWr4FGfeiXGjrLthz5FFq/URWhW/5RQvaHXwmdi2G0L32WcsOxmeSs09V3EsbzhP3diBpaRpyej\n",
       "lEEaAOWoOOHQCgj/iZ5Vr9SetjZDjy/FYxea1j+hkMQLehpB1NGzsBtGpeS3i+zNiA36MxfJfV2f\n",
       "gXvHjVKLJBN+BZRbvi8fghkXexZlBPSsAmAlbqmESuyt0H7oMaiCpoj6p91zQanv7pXT2cbv2cUG\n",
       "KCL2gp6GsUwvCE1RKeuEQxNi/DYGSzPGeJRhmXVMgUr7oSfYH3iTm215krAJgXiwornR9klsECp4\n",
       "Q093lcN5NxvBdXXdVSrL1ONRHtGHBmzQD1cCxXeChpJ3BVRNN8OxPTSYk8yAnFkKgS5d/vRQuBdG\n",
       "Kz2jHAMOtIFmghVv6P86XPQhOq0d4xlLYEvscXQ3jeEYvYmPW2T18tbF+zYbomdDVUDpt2yrtk7m\n",
       "QYE3IFHT5U9qogZvhKEu67MEgbCBNqJ+T+ilL4aL3st2ulFqgQRKPtGdx+0C31QMVwGl6Z/QrdfQ\n",
       "Q2QApYm6BqdTlS905PmLSLuEDbT+vFm9bxIoWNI8+nklvl2YLaAfhgKK65/ki9qVktUrXMAbqqNf\n",
       "AKlKSG2AnjZg6iccgQf0Ad+Ef515J/S3p4H7FpETJi+Lxki06lSWbxeUtwT0ugJKOLlxP9q+I/WZ\n",
       "5mSS2T+WhscYehp8fgwP0HCtdbrXG3D1E9L0gL6j5hf6ZM4BvVIbkLn7s7tDXW+5UL16B58yp80p\n",
       "Ceh1BZRwcuN+NDlCtF/wDsPpyCcMPdU6zYFOcqN/pdYFT0YdFG3A1U/om3pAP1v1C31owCF8Jj3V\n",
       "m+piyqX7J8MZs3CJVmv7NaBvAbblBPS6AgpP5kqqxv1w/VN46+fc15GJcStjT59n6FHdBNsO3FJk\n",
       "cipd/nRUs596A6Z+0vQDLukf4Bd6py/04PdpAzWuXBoL4yzCJaymmRnEccrgWwDpMwF9XQFFTtaU\n",
       "VA37cdA/xQt8rmfqpv0A98KPwVn+tF9TP/3EUwzHxy/08AfOBn0ynyhx5dIxeNUiXMLq6cuuAXiE\n",
       "uSMZiNgroMjJmpKqYT+2+qf98EyGoy/jbVAOgbT54ZvAQf7EGjD101xP6GNp/9BHy07oS51Uw7GL\n",
       "mF+k3yxcotVTupLAtRHrVHhWnHB0BRQ9GdG79WOrf/oneVKY/Ak37MlaoAyJwcF+J/kTbcDCMFTD\n",
       "546+U/UPvXzEAX1w7hMU/foMTLi+AGGTcAmrA6X7yGyNO6nQ6p59j4OAXldA0ZOTqns/tvqn8ae1\n",
       "y0V1U3DWfMvetx7wNDagujV39PztrT9f1D/jgP4P8GumXMooxVjWIlzC6iScWkHMubtbHJNJAUVP\n",
       "phOOSz8t1j+9B17Q+/pFfcd/TzEuUqDKpYgaqC23CpewehtcY9W4mBRQeDJVUrn1MxL6J1f0y2Eo\n",
       "6G9o9b8iusMe/bL3tShRZFbZHB7K6tWO6LkCSj/ZrZ+R0D+5oZfZDlrZudsT+hH+V0R3N6vDGa4C\n",
       "Sm05+FT1sEuLp9kfxX9F9H8JsBvKm0lnfgAAAABJRU5ErkJggg==\n",
       "\" style=\"display:inline;vertical-align:middle;\" /></a><br>(see <a class=\"ProveItLink\" href=\"../../../__pv_it/theorems/1b7bc0d0daef4170041edd5e92bf58b7d26cabc80/dependencies.ipynb\">dependencies</a>)<br>"
      ],
      "text/plain": [
       "<IPython.core.display.HTML object>"
      ]
     },
     "metadata": {},
     "output_type": "display_data"
    }
   ],
   "source": [
    "%proving exists_in_superset"
   ]
  },
  {
   "cell_type": "code",
   "execution_count": null,
   "metadata": {},
   "outputs": [],
   "source": []
  }
 ],
 "metadata": {
  "kernelspec": {
   "display_name": "Python 3",
   "language": "python",
   "name": "python3"
  }
 },
 "nbformat": 4,
 "nbformat_minor": 0
}