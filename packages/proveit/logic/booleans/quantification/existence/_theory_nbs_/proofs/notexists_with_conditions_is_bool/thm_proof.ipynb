{
 "cells": [
  {
   "cell_type": "markdown",
   "metadata": {},
   "source": [
    "Proof of <a class=\"ProveItLink\" href=\"../../../../../../../_theory_nbs_/theory.ipynb\">proveit</a>.<a class=\"ProveItLink\" href=\"../../../../../../_theory_nbs_/theory.ipynb\">logic</a>.<a class=\"ProveItLink\" href=\"../../../../../_theory_nbs_/theory.ipynb\">booleans</a>.<a class=\"ProveItLink\" href=\"../../../../_theory_nbs_/theory.ipynb\">quantification</a>.<a class=\"ProveItLink\" href=\"../../theory.ipynb\">existence</a>.<a class=\"ProveItLink\" href=\"../../theorems.ipynb#notexists_with_conditions_is_bool\">notexists_with_conditions_is_bool</a> theorem\n",
    "========"
   ]
  },
  {
   "cell_type": "code",
   "execution_count": 1,
   "metadata": {},
   "outputs": [],
   "source": [
    "import proveit\n",
    "theory = proveit.Theory() # the theorem's theory"
   ]
  },
  {
   "cell_type": "code",
   "execution_count": 2,
   "metadata": {},
   "outputs": [
    {
     "data": {
      "text/html": [
       "With these <a href=\"allowed_presumptions.txt\">allowed</a>/<a href=\"disallowed_presumptions.txt\">disallowed</a> theorem/theory presumptions (e.g., to avoid circular dependencies), we begin our proof of<br><strong id=\"notexists_with_conditions_is_bool\">notexists_with_conditions_is_bool:</strong> <a class=\"ProveItLink\" href=\"../../../__pv_it/theorems/2c56f8b8ba52ae3caec4858dcfc631102e3d553c0/expr.ipynb\"><img src=\"data:image/png;base64,iVBORw0KGgoAAAANSUhEUgAAAkoAAAAbBAMAAABxQL3RAAAAMFBMVEX///8AAAAAAAAAAAAAAAAA\n",
       "AAAAAAAAAAAAAAAAAAAAAAAAAAAAAAAAAAAAAAAAAAAv3aB7AAAAD3RSTlMAq1RmmUTNIjK7EInv\n",
       "3XZ/CtNrAAAACXBIWXMAAA7EAAAOxAGVKw4bAAAG7UlEQVRYw+2ZfYhUVRTAz3y+N587Rl+bJBOZ\n",
       "LYnLkPpHJNuIWlZIA4bgajpREInWSGFolpt/RIG6Y2W2QvlWIQlhnUQNFcQUURNjLDMTH42rGIu6\n",
       "bdCHueh2zv14H/Pe7OyHjERdeO/d+8495737e+fee+59ADcxbYH/U/W0/b/c+Hv1XL/yiQAe/UfM\n",
       "rP/XNvGKnnS978cjrn83EBPZ/sXeNECQ5Yq3rpm5Yar6Uq4yJU/n8TeB0ufAKM3Qzx4/dKsgxZND\n",
       "153nRunK0VcXnsgANHFKCbrcX4WSh/mMO274EIQv+UqdtWXT1be2/kWNcmOHQzjl5kv5ecqCOwBi\n",
       "GqM0jW69VIWSP0Mk3L1a2S8p+VtqTAn+BAh9g9dwdjhWFrhSmglfhRBhglF6x+h9/VBSqe5Sd6m/\n",
       "ICnFoMaU1Bvo4TfoHVLDMTOhAqWHsQuFrzFKQXSpSLLauLSg8jxfl5GUgrWmFL+KRy9mosMyE9VM\n",
       "SvFP9VMGJWrVC4wSiYNVR+/xlQfxVk1SerbWlEI9eCApGDMsM8GUQSnwimb60l2P4vVJPscd1/Vj\n",
       "VSlFdf1soUKoAZLS+VpTqsORorWEmaexa1xIQbshsZdckrVCJGFQWqKZo3fHCWrxZU5pOsCGqpT8\n",
       "LRDS3KV3Ckrj9Ov6gdpSQkJvsogPu0XEux8eMyT2kkuyVvBlDUrmNJZ/buH1p/A6X2OUFoOScDFT\n",
       "sFHCKosrPK/N8KXiIH3Jbys9OGC9ksz8OnLvRJZBVCv9Rag3qthLLslaAYFJSlnr6H1+FhJqbWGU\n",
       "QlokY53YT+6ESYgtbY8qN8BOPM/+fccIFg9c6n5CSp+XlHCmHBylkLgyY77M4OlulBmMZrVoCb6F\n",
       "zaKZrBTeO0KrZINXF1Nlj6Sk4vCj/yQphQLoKisyjJK3ZA7ea+rXwX0Rza85KDWys68IEVqGzMrB\n",
       "chk9nZSUvIWhUeLG2geuFyiY4ZJBCbuGelXtloskKvnBX3nNRBWkPcOXwnmrL4UAi9syYu5qMj7S\n",
       "dIrDS+kIOCgFfeTnnjTEEbwXH+7Pl/sSuuRQKAlj0wYZBtKX75U3aHB6HOL7mTGWqFSXUa5WtMGq\n",
       "g/EGoscV7ZSw5St4j4Pt+FDflDUXaJLC1PDA2xHYMfXk1IyVUmQMOW80CbEE1/T1lFPCyKsT5iVA\n",
       "jHKBc3xhY18zGWKDkjBWtCpU0RWRW/wPKfoMj7UQSrAGh0GUfBpRcnY6swJrNfjyBqVuGyUvekZr\n",
       "jlNajs/ePDcVzXF/a4hsmuP0JeVr1iJNuV1MaxH5JeolpRhAZ7h0TRWCjjptleP9TLFBiRtTslaF\n",
       "KrqjRZwjPxR8icdkmJ9ilLZlZYmGhzB1S7rFMkaJVWCt5qsHQSloxNf5ObBvhznHgQc/5rKLUKcF\n",
       "WM0GSHc5KcHddJrU3UmfhuKroPSJy4LSjJ91/ZCyqRjPKyyyWDYOugKN9o7ExGWUuLFAninAUm0A\n",
       "urP5+LDxbznbrcajfd8zOUYpdkaWYDVa0/GIpeUASiejAms1ljMGpXB9M7d48ehGticAk6w7J6Ng\n",
       "Lvhebmv7ACltDbpQYmkEvxwE7oliGBS+xIY3T8FTWnmGCUbCqChsszsEicsocWPeBFNQx2kD0H2/\n",
       "3M9iLXTexYcYeAhEiX0ur7PLGRWo1QBvWdZxgd1ihSLTZCulIzBVVQvclwKNjngJTDyYPoJm+N5Y\n",
       "Bcl1HPO2WCbaApzSD3BEgbKOQ+IJM8daKXFjap4p8J2Karqjy5vtS0MkGz4gKOGr89Lr8AZmXWNB\n",
       "XoFaDTCl8i6cXMcJd+6B0w08Bsc47VyFXTjlL3LKAix/rePdlGNPoMi/6nwgSlsBTgdw3FhHWVSh\n",
       "E15I3JiPWSkJY0WuQJRMXaHIT6Zut6Mt6yFW8hQ4pTB6HCspn7yH0XOHc/Q2KrBWsx2RSpTEnoBw\n",
       "tARcSsFSdFz1VK58fjEodfViG9QDoEw+d49ibF/I/SU2J3qnfMworUrC6EeytLLBrHoYVuXUw6hJ\n",
       "Yk/LEislYWw9MAWiZOqiBinSyarr3F//ArxNOIwpu3pLEKfXoFK0r6/HEqmbWwmyAm91KNcPJV/C\n",
       "saMb3t22rvqOrpeops1PdBtYdhW20NYl9bhkOBdKwR56o6SpSeIYnG+2xd7M2BxgCqzHmbpecNEN\n",
       "O7fDlNLQV4O/9LPvDbHcEPe9qYnKb2fK973FLBDIwppjSQhontIsCPZdRwiaqUnidhibslFixvw5\n",
       "UlAvbwerbjO46PqH8SugUqpEqWmofweYvUXmsgtXJialmZfEUyHQVJBZU1OKbZS4sT0WBSObctOd\n",
       "CDWjNIh/KIuq/48Lsv9xg0yKMyIeUNJuPqQrZ90p0Yo2rh/8B6s4JVa2pcLvAAAAAElFTkSuQmCC\n",
       "\" style=\"display:inline;vertical-align:middle;\" /></a><br>(see <a class=\"ProveItLink\" href=\"../../../__pv_it/theorems/67757cc8d77a78827e29c0f8921b4129ec2ed36f0/dependencies.ipynb\">dependencies</a>)<br>"
      ],
      "text/plain": [
       "<IPython.core.display.HTML object>"
      ]
     },
     "metadata": {},
     "output_type": "display_data"
    },
    {
     "name": "stdout",
     "output_type": "stream",
     "text": [
      "notexists_with_conditions_is_bool may now be readily provable (assuming required theorems are usable).  Simply execute \"%qed\".\n"
     ]
    }
   ],
   "source": [
    "%proving notexists_with_conditions_is_bool"
   ]
  },
  {
   "cell_type": "code",
   "execution_count": null,
   "metadata": {},
   "outputs": [],
   "source": []
  }
 ],
 "metadata": {
  "kernelspec": {
   "display_name": "Python 3",
   "language": "python",
   "name": "python3"
  }
 },
 "nbformat": 4,
 "nbformat_minor": 0
}