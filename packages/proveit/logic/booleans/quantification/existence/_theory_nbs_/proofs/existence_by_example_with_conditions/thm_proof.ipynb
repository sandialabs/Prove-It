{
 "cells": [
  {
   "cell_type": "markdown",
   "metadata": {},
   "source": [
    "Proof of <a class=\"ProveItLink\" href=\"../../../../../../../_theory_nbs_/theory.ipynb\">proveit</a>.<a class=\"ProveItLink\" href=\"../../../../../../_theory_nbs_/theory.ipynb\">logic</a>.<a class=\"ProveItLink\" href=\"../../../../../_theory_nbs_/theory.ipynb\">booleans</a>.<a class=\"ProveItLink\" href=\"../../../../_theory_nbs_/theory.ipynb\">quantification</a>.<a class=\"ProveItLink\" href=\"../../theory.ipynb\">existence</a>.<a class=\"ProveItLink\" href=\"../../theorems.ipynb#existence_by_example_with_conditions\">existence_by_example_with_conditions</a> theorem\n",
    "========"
   ]
  },
  {
   "cell_type": "code",
   "execution_count": 1,
   "metadata": {},
   "outputs": [],
   "source": [
    "import proveit\n",
    "theory = proveit.Theory() # the theorem's theory"
   ]
  },
  {
   "cell_type": "code",
   "execution_count": 2,
   "metadata": {},
   "outputs": [
    {
     "data": {
      "text/html": [
       "With these <a href=\"allowed_presumptions.txt\">allowed</a>/<a href=\"disallowed_presumptions.txt\">disallowed</a> theorem/theory presumptions (e.g., to avoid circular dependencies), we begin our proof of<br><strong id=\"existence_by_example_with_conditions\">existence_by_example_with_conditions:</strong> <a class=\"ProveItLink\" href=\"../../../__pv_it/theorems/560e77590133ae6c6307276db6b41e213d891eea0/expr.ipynb\"><img src=\"data:image/png;base64,iVBORw0KGgoAAAANSUhEUgAAA4AAAAAZBAMAAACSm11yAAAAMFBMVEX///8AAAAAAAAAAAAAAAAA\n",
       "AAAAAAAAAAAAAAAAAAAAAAAAAAAAAAAAAAAAAAAAAAAv3aB7AAAAD3RSTlMAq1RmmUTNIjK7EInv\n",
       "3XZ/CtNrAAAACXBIWXMAAA7EAAAOxAGVKw4bAAAHtklEQVRo3u1ae4gVVRj/7mPuzN7X3qUItVyu\n",
       "ZLYkrhcfRCJ6Y7XVHrJoCK6it/xDCqSRQlA23SIiy3SpVlFCxweULazXJ6QpWxIKUi2mJYsX7ub2\n",
       "2Mx1hcoXtZ3XzJwzM3funb0pCntgzpyZb35nvu/7nfPNd869AEXLyJzqIvXlfoR7qNxj6jqXeO4M\n",
       "wOVckjaKloyrNHRv2X43qKuWj56IjkCKNYYIvMPzJ1kWfLGFwAS+ftidQB8++VMFPOImvRsJDOZy\n",
       "uQsNd5y27TeqNj2NW2PL7CglEjgT31zmTmAQmxtSC3jETXq3zsAyZ8FgSiWKZB9rAOFMmR29LBL4\n",
       "BqrlFncCFTxNVxXyiJt0iECjbMwDjEdHsNxYNUkkMIQGRSRZ5BuISd9f0CMu0iECjXKlGR1ZgGi5\n",
       "HUU1gUB8ChVLYiYWzmVCrtIhAo2yHR+IxDFlm5ASs9BvcrnTxQiMos9+tqBHXKRDBBrlBoDyLzo/\n",
       "g4727k+PchqE+0a85x7CeEAkIRI4C2BrMQKDzVChFU7rCkuHCNQLIk8+ht+6FB3peHWw05QFoTv/\n",
       "nCuaBwQyIoErQE44QLI8geiJFYU94iItUILC1aMl4/Jl45C6fryMSJahsN9Dxh03GlePHiBrlzPI\n",
       "9Wrgpo/LZR6H6dp9br0IAH+HSGCFFuEXRfLZQzAVMZoWFvJb4RCqF/x5sAorHz/eo/JDmko9lAp6\n",
       "ov0FGjz78VJfPQwGN+gZyBSmhk/2gtT9WNHPGl+j2QhB7NRdeuLQDE+hum3fiILTlwLYRb9IoD9v\n",
       "5jAbhrfCqIgW1KwE1pI60AkRNJGlZSCf5D1S6zWHYf6g/e0oHSfRuDBfhSZ1ELhyCaSGhxNekAu5\n",
       "ZaBOIEobUExQ+swo+i2h2iWMRs0gIllmIGSmGQN1Ft6VyacjYCUwFMAd+NIQR/SPQ83ZvEeo1DuB\n",
       "tL+ZHhex4EeGB1u848omkBoe9LSLE2LZwUZ9DJHt5yVqWCN2ME6uwWfwF6xtLtgNAbAQ2mkhcD+y\n",
       "LlC3oQfgIpbXPLImAgdnnJ3RwBEYGYPh0STEEiBfR83pvEeIdHEC2NCUuun2mriFZ4hNAml/nTyg\n",
       "CJbkatjOQL93nEhgX73xHeCaZhFuEoWZ4TFR6AiO96ypZzkjGypXdHduA9jT8BBEKBOA92ZafR0o\n",
       "55iCDbMng2HQAZQkCLRYCGxCRu5alIqqYbIhUxPZudA2A+Uviec0+X40b/CNL3iPYGk4f1PpYDlv\n",
       "pbbepoYpNgkk/ckZHlAEOxpXD2C/dHjHCQTG1eEh5luuyVEg3CQKM8NXCkJHMPzqa3mRzRfmyFd0\n",
       "0T6A8e8+C3MpgeG/0fn67g4J93GMXMLeDL1vXlEAIQkFn6yFQB8a0Kt/gUpNInlODaR7bQTCMFxN\n",
       "7fsJjZAoDgYvCB5BUnlnZ7xFJguS1eOgV6oVIxwRWwkk/UktBACrtBKwC3CFl62hhHecvuohm9kB\n",
       "2KYA1Zc05/aIkZHcFBVmhi9gQhcwpCryLBxKVIPZA9uY6H2A3X3+uiSbgTkNwnPyoyfg7KSLXEIM\n",
       "+/4ssCrWpQMISehGg9PPSdWwCAIvbdnyASKwLWQnkJQqGvgQULlmGdJoHGR9+Te7SPNBqI7CXtEk\n",
       "LLYSSPrzJwhAGaeVgF2HqxP4k6J6xwnqAiATmL642RHut8yia9ZvIDN8VCngSj2sKtZ95pjxoSME\n",
       "+s2giYei3x5DHwOeJIDXwYnAUzBDUbJ0Bkq11nUgKyeoMWlJi6VsHok1RJuB2nQOTslgiWhYPGne\n",
       "WIHAE7qFCAAxrQQsCYUfQSN8PwicSKDSIQPTFzdVLsIbN0WFmeHrSgAjTdTAzAlZM4SaUzstEBgx\n",
       "A0ZaVrlLhxU5JgmgzolAuR/O19AdGbTK6bbuxLCH8JhsQ5n0lN+Wgp3A5iXEpjaA8xIakK24Gc6S\n",
       "Cp2wuLYlxhMo0zHeSQGYCBPLgLQysX34sunV9rdTXnFWdZsimSDTlzYrGjgkuykqzAyPOYP5N8sd\n",
       "hyHt78Uqxm0J+maBwHZzAr7zlsZdml9yEEgiPx3ZCJQScCkFq9DsVn5QLfmcQWDvLeSr9Ul4rbpK\n",
       "U20e8ddtIjahB0Y/kcH7a6ipnIT1qnJS+YqIfc0reQJJf8QgDIhpPBYhMBBXPHYzFshPdo+QveKs\n",
       "6gZ/Pv4705c2Z3H66jctClPDK1RHsPDmOQv7NBiG8iz8tKXs0fk4fCvPbxJ9NzBg3WsS9nIYSaTD\n",
       "An+pCH++pdVxL5QvOF163hwWhkc+gQ9pVEmG1YoUHImzZym7RByDi418CNWXugRAQqGJ9YMDFufJ\n",
       "WCCl2z3jbN9AXLoMJSNantOXtWwKY8ONXQELmH8zDS3xyZpBF5dbeVw0WxNcgLL+EyNhf60dqdk8\n",
       "Ui1lYMPpJHrAl58PoYF/2LOkNBLxDhibshMYVDFA+WM/8NhGcMAGVSqQr3Z5xjkRSPWlaf5AJ6cv\n",
       "a9kUJobXO4KFN5PpkPAfMB7+n0sZBAaIG87Zv4HzLukPSNOy3LM0rTbEdgLhCAcwmikn7GRdsLzB\n",
       "M85xBgpKcs2A89YRNTyiOT6Xcmh52bC9bQQud/1faGgwf7SUbXsNpRWtbFxocP8LlV3UcC3h20Ff\n",
       "PIfy98sXUrjxH1+4x9jjFl3sAAAAAElFTkSuQmCC\n",
       "\" style=\"display:inline;vertical-align:middle;\" /></a><br>(see <a class=\"ProveItLink\" href=\"../../../__pv_it/theorems/44b917ca63f70d99e26db1e4fb92d9895fc233090/dependencies.ipynb\">dependencies</a>)<br>"
      ],
      "text/plain": [
       "<IPython.core.display.HTML object>"
      ]
     },
     "metadata": {},
     "output_type": "display_data"
    }
   ],
   "source": [
    "%proving existence_by_example_with_conditions"
   ]
  },
  {
   "cell_type": "code",
   "execution_count": null,
   "metadata": {},
   "outputs": [],
   "source": []
  }
 ],
 "metadata": {
  "kernelspec": {
   "display_name": "Python 3",
   "language": "python",
   "name": "python3"
  }
 },
 "nbformat": 4,
 "nbformat_minor": 0
}