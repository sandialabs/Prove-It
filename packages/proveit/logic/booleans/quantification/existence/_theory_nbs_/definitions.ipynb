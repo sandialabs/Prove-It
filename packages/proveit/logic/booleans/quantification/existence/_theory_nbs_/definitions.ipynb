{
 "cells": [
  {
   "cell_type": "markdown",
   "metadata": {},
   "source": [
    "Conservative definitions for the theory of <a class=\"ProveItLink\" href=\"theory.ipynb\">proveit.logic.booleans.quantification.existence</a>\n",
    "========"
   ]
  },
  {
   "cell_type": "code",
   "execution_count": null,
   "metadata": {},
   "outputs": [],
   "source": [
    "import proveit\n",
    "# Prepare this notebook for defining the conservative definitions of a theory:\n",
    "%definitions_notebook # Keep this at the top following 'import proveit'.\n",
    "\n",
    "from proveit.logic import Forall, Exists, NotExists, Not, Equals\n",
    "from proveit.numbers import NaturalPos\n",
    "from proveit import n, P, Q\n",
    "from proveit.logic.booleans.quantification import (\n",
    "    general_exists_Py_st_Qy, general_notexists_Px_st_Qx)"
   ]
  },
  {
   "cell_type": "code",
   "execution_count": null,
   "metadata": {},
   "outputs": [],
   "source": [
    "%begin defining_properties"
   ]
  },
  {
   "cell_type": "markdown",
   "metadata": {},
   "source": [
    "**Defines the $\\nexists$ operation generically for any number of instance variables or conditions by equating it to the negation of the corresponding $\\exists$ operation**:"
   ]
  },
  {
   "cell_type": "code",
   "execution_count": null,
   "metadata": {},
   "outputs": [],
   "source": [
    "not_exists_def = Forall(n, Forall((P, Q), \n",
    "                                Equals(general_notexists_Px_st_Qx, \n",
    "                                       Not(general_exists_Py_st_Qy)).with_wrap_after_operator()),\n",
    "                      domain=NaturalPos)"
   ]
  },
  {
   "cell_type": "code",
   "execution_count": null,
   "metadata": {},
   "outputs": [],
   "source": [
    "%end defining_properties"
   ]
  }
 ],
 "metadata": {
  "kernelspec": {
   "display_name": "Python 3 (ipykernel)",
   "language": "python",
   "name": "python3"
  }
 },
 "nbformat": 4,
 "nbformat_minor": 0
}
