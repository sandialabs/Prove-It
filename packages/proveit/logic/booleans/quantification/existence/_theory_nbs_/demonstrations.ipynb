{
 "cells": [
  {
   "cell_type": "markdown",
   "metadata": {},
   "source": [
    "Demonstrations for the theory of <a class=\"ProveItLink\" href=\"theory.ipynb\">proveit.logic.booleans.quantification.existence</a>\n",
    "========"
   ]
  },
  {
   "cell_type": "code",
   "execution_count": null,
   "metadata": {},
   "outputs": [],
   "source": [
    "import proveit\n",
    "%begin demonstrations\n",
    "\n",
    "from proveit import a, b\n",
    "from proveit.logic import Exists, Equals\n",
    "from proveit.numbers import Add, two, three, five, NaturalPos"
   ]
  },
  {
   "cell_type": "code",
   "execution_count": null,
   "metadata": {},
   "outputs": [],
   "source": [
    "eval_2p3 = Add(two, three).evaluation()"
   ]
  },
  {
   "cell_type": "code",
   "execution_count": null,
   "metadata": {},
   "outputs": [],
   "source": [
    "Exists((a, b), Equals(Add(a, b), five)).conclude_via_example((two, three))"
   ]
  },
  {
   "cell_type": "code",
   "execution_count": null,
   "metadata": {},
   "outputs": [],
   "source": [
    "Exists((a, b), Equals(Add(a, b), five), domain=NaturalPos).conclude_via_example((two, three))"
   ]
  },
  {
   "cell_type": "markdown",
   "metadata": {},
   "source": [
    "#### Testing `NotExists().conclude_via_forall()` for Multiple Cases"
   ]
  },
  {
   "cell_type": "code",
   "execution_count": null,
   "metadata": {},
   "outputs": [],
   "source": [
    "from proveit import x, P, Function\n",
    "from proveit.logic import Forall, Not, NotExists\n",
    "from proveit.numbers import zero, greater_eq"
   ]
  },
  {
   "cell_type": "markdown",
   "metadata": {},
   "source": [
    "#### Deriving $\\not\\exists_{x}\\big(\\lnot P(x)\\big)$ via $\\forall_{x}\\big(P(x)\\big)$"
   ]
  },
  {
   "cell_type": "code",
   "execution_count": null,
   "metadata": {},
   "outputs": [],
   "source": [
    "Px = Function(P, x)\n",
    "forall_x_Px_assumption = Forall(x, Px)"
   ]
  },
  {
   "cell_type": "code",
   "execution_count": null,
   "metadata": {},
   "outputs": [],
   "source": [
    "noteexists_x_st_not_Px_to_prove = NotExists(x, Not(Px))"
   ]
  },
  {
   "cell_type": "code",
   "execution_count": null,
   "metadata": {},
   "outputs": [],
   "source": [
    "noteexists_x_st_not_Px_to_prove.conclude_via_forall(assumptions = (forall_x_Px_assumption,))"
   ]
  },
  {
   "cell_type": "markdown",
   "metadata": {},
   "source": [
    "#### Deriving $\\not\\exists_{x | Q(x)}\\big(\\lnot P(x)\\big)$ via $\\forall_{x | Q(x)}\\big(P(x)\\big)$"
   ]
  },
  {
   "cell_type": "code",
   "execution_count": null,
   "metadata": {},
   "outputs": [],
   "source": [
    "forall_x_Px_with_condition_assumption = Forall(x, Px, conditions = [greater_eq(x, zero)])"
   ]
  },
  {
   "cell_type": "code",
   "execution_count": null,
   "metadata": {},
   "outputs": [],
   "source": [
    "noteexists_x_st_not_Px_with_condition_to_prove = NotExists(x, Not(Px), conditions = [greater_eq(x, zero)])"
   ]
  },
  {
   "cell_type": "code",
   "execution_count": null,
   "metadata": {},
   "outputs": [],
   "source": [
    "noteexists_x_st_not_Px_with_condition_to_prove.conclude_via_forall(assumptions = [forall_x_Px_with_condition_assumption])"
   ]
  },
  {
   "cell_type": "markdown",
   "metadata": {},
   "source": [
    "#### Deriving $\\not\\exists_{x}\\big(P(x)\\big)$ via $\\forall_{x}\\big(\\lnot P(x)\\big)$"
   ]
  },
  {
   "cell_type": "code",
   "execution_count": null,
   "metadata": {},
   "outputs": [],
   "source": [
    "forall_x_not_Px_assumption = Forall(x, Not(Px))"
   ]
  },
  {
   "cell_type": "code",
   "execution_count": null,
   "metadata": {},
   "outputs": [],
   "source": [
    "noteexists_x_st_Px_to_prove = NotExists(x, Px)"
   ]
  },
  {
   "cell_type": "code",
   "execution_count": null,
   "metadata": {},
   "outputs": [],
   "source": [
    "noteexists_x_st_Px_to_prove.conclude_via_forall(assumptions = [forall_x_not_Px_assumption])"
   ]
  },
  {
   "cell_type": "markdown",
   "metadata": {},
   "source": [
    "#### Deriving $\\not\\exists_{x|Q(x)}\\big(P(x)\\big)$ via $\\forall_{x|Q(x)}\\big(\\lnot P(x)\\big)$"
   ]
  },
  {
   "cell_type": "code",
   "execution_count": null,
   "metadata": {},
   "outputs": [],
   "source": [
    "forall_x_not_Px_with_condition_assumption = Forall(x, Not(Px), conditions = [greater_eq(x, zero)])"
   ]
  },
  {
   "cell_type": "code",
   "execution_count": null,
   "metadata": {},
   "outputs": [],
   "source": [
    "noteexists_x_st_Px_with_condition_to_prove = NotExists(x, Px, conditions = [greater_eq(x, zero)])"
   ]
  },
  {
   "cell_type": "code",
   "execution_count": null,
   "metadata": {},
   "outputs": [],
   "source": [
    "noteexists_x_st_Px_with_condition_to_prove.conclude_via_forall(assumptions = [forall_x_not_Px_with_condition_assumption])"
   ]
  },
  {
   "cell_type": "code",
   "execution_count": null,
   "metadata": {},
   "outputs": [],
   "source": [
    "%end demonstrations"
   ]
  }
 ],
 "metadata": {
  "kernelspec": {
   "display_name": "Python 3",
   "language": "python",
   "name": "python3"
  }
 },
 "nbformat": 4,
 "nbformat_minor": 0
}
