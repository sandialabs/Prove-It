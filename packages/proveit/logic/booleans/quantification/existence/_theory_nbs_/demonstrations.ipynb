{
 "cells": [
  {
   "cell_type": "markdown",
   "metadata": {},
   "source": [
    "Demonstrations for the theory of <a class=\"ProveItLink\" href=\"theory.ipynb\">proveit.logic.booleans.quantification.existence</a>\n",
    "========"
   ]
  },
  {
   "cell_type": "code",
   "execution_count": 1,
   "metadata": {},
   "outputs": [],
   "source": [
    "import proveit\n",
    "%begin demonstrations\n",
    "\n",
    "from proveit import a, b\n",
    "from proveit.logic import Exists, Equals\n",
    "from proveit.numbers import Add, two, three, five, NaturalPos"
   ]
  },
  {
   "cell_type": "code",
   "execution_count": 2,
   "metadata": {},
   "outputs": [
    {
     "data": {
      "text/html": [
       "<strong id=\"eval_2p3\">eval_2p3:</strong> <span style=\"font-size:20px;\"> <a class=\"ProveItLink\" href=\"../../../../../numbers/numerals/decimals/_theory_nbs_/proofs/add_2_3/thm_proof.ipynb\" style=\"text-decoration: none\">&nbsp;&#x22A2;&nbsp;&nbsp;</a><a class=\"ProveItLink\" href=\"../../../../../numbers/numerals/decimals/__pv_it/theorems/0a82a0ae531775e2b21fcea430221f08505d5d350/expr.ipynb\"><img src=\"data:image/png;base64,iVBORw0KGgoAAAANSUhEUgAAAGEAAAAVBAMAAACkm51HAAAAMFBMVEX///8AAAAAAAAAAAAAAAAA\n",
       "AAAAAAAAAAAAAAAAAAAAAAAAAAAAAAAAAAAAAAAAAAAv3aB7AAAAD3RSTlMAInZUiRDNmWbv3US7\n",
       "qzJazP2FAAAACXBIWXMAAA7EAAAOxAGVKw4bAAABe0lEQVQ4y3WTPUjDQBTH/2ms/UyJU8GpDs6W\n",
       "Is4dXItxcnHoIoiTgxgRweKii9DFwS9a0CIEhOBUnaKDg4O6OYlFnBy0IhZBML7cOeSuuSPkfd3v\n",
       "3kvuPQAmopfKj1hRETjr8+SAaRLjQH75Vgxpk2suYjWZSPUWWkC8Cs3DlCuEZqB/AnMykW4cW0Ci\n",
       "BsNEqs59bS7GivEesCkTBs9EzxeMD+4rcXHugoiUFUlMkNKE8SsQgP4NDNYiiSVeYVciLmj3wL1M\n",
       "bFQ6wDzT3wsi8fxIoWQ1UBMOWwGdtbQf4IjtOIVcFf0rvd5/STfAPjvHC96rjrPrOP9ww0Ku20+s\n",
       "m5zYhpjjDbgrIiPnuCaiw6rSyxgSCN8KCL0pfcce8ARckfYCjArEIasq6Uk5ysABUKEuOrHtpkBs\n",
       "sftIlCUij9gO8EqX4ft+VSAyNnUi0q5EaPYDtUG6E/aVwsZw9BQkF8NWO2ysKAbnUjVqmqcIzKqI\n",
       "rGpstYIiMBLt/gP/Yl3A/CTMegAAAABJRU5ErkJggg==\n",
       "\" style=\"display:inline;vertical-align:middle;\" /></a></span><br>"
      ],
      "text/plain": [
       "<IPython.core.display.HTML object>"
      ]
     },
     "metadata": {},
     "output_type": "display_data"
    }
   ],
   "source": [
    "eval_2p3 = Add(two, three).evaluation()"
   ]
  },
  {
   "cell_type": "code",
   "execution_count": 3,
   "metadata": {},
   "outputs": [
    {
     "data": {
      "text/html": [
       "<span style=\"font-size:20px;\"> <a class=\"ProveItLink\" href=\"../__pv_it/demonstrations/45b2988e8c939a985edef279d358409a1f0e3b9c0/proof.ipynb\" style=\"text-decoration: none\">&nbsp;&#x22A2;&nbsp;&nbsp;</a><a class=\"ProveItLink\" href=\"../__pv_it/demonstrations/1cbd784bafca0271010316a64c3cf04186d029350/expr.ipynb\"><img src=\"data:image/png;base64,iVBORw0KGgoAAAANSUhEUgAAAJwAAAAWBAMAAADHvejAAAAAMFBMVEX///8AAAAAAAAAAAAAAAAA\n",
       "AAAAAAAAAAAAAAAAAAAAAAAAAAAAAAAAAAAAAAAAAAAv3aB7AAAAD3RSTlMAmd3vRHZUEIlmIjKr\n",
       "u81j98vPAAAACXBIWXMAAA7EAAAOxAGVKw4bAAACF0lEQVQ4y2NgwAG4oBiXHPHCYBAGxdgASwCG\n",
       "0AYG9gUgYSElJSUTTB1sDRCMAWqNgEQkhrD9O6UCmDAWV9RBMSZ4CMR8Beiiyp/a4cJYjJOEYgTw\n",
       "hNLfgJhTAF39AQaEMBbjDKAYAVKh4fYdRJpjNQ4qjGkc2wMIxjSOQwFEvsRu3EscxjE2QDDDmtal\n",
       "qMbxHY1JYGDoQddwMuI0A0wY0zi+CRDMYsVwvwDFuPrn7L8YGOaB7VQCA7DDrjOsdwAJJwEFzGCm\n",
       "7LsAZTAlQHDxBAYhVNflFzCYMjAkY4Y2rwJMGO46HlhKY3aAYHkGBg0QH5g6jZWUdIAsOQaGHwwM\n",
       "+zGNY/wFE4Ybx7wBzThbBvYvqK7TYGABJhVndKc9YGD8DRMOY2DvjFgAZOwPPY7iWfavDJwfUI37\n",
       "xsAITCpJaGHHrMDA8wEqDDSuaMF+kHFBBYFQ2wLAmP0bA8+DLBTjfoPCk2Eumus4gCZegAmHMQgy\n",
       "bAYxbkKiDCh9AIKvMiQJCKAYd5LhIpCUQC9MBBiCC0DCkCLAhCEGJGrNIAOR5laA4JqIXUc3oBhX\n",
       "0wh0HIMKekQslBFHCAOT0s1yIP2BAZZmtKEYI1dAHKOAvcCDCVtxf5nO3sCgzglLeBOhGLMIAEfC\n",
       "BKzGwYUdp0VM4DZj2BgKj/kFEIwdrCVGmA2JzX4BgrGDW8QIuyNzlkIxNsC6gBjhCQwUAwAR+X0j\n",
       "jRoolwAAAABJRU5ErkJggg==\n",
       "\" style=\"display:inline;vertical-align:middle;\" /></a></span>"
      ],
      "text/plain": [
       "|- exists_{a, b} ((a + b) = 5)"
      ]
     },
     "metadata": {},
     "output_type": "display_data"
    }
   ],
   "source": [
    "Exists((a, b), Equals(Add(a, b), five)).conclude_via_example((two, three))"
   ]
  },
  {
   "cell_type": "code",
   "execution_count": 4,
   "metadata": {},
   "outputs": [
    {
     "data": {
      "text/html": [
       "<span style=\"font-size:20px;\"> <a class=\"ProveItLink\" href=\"../__pv_it/demonstrations/f613b2297e9a28f61d8966997be49534e683795c0/proof.ipynb\" style=\"text-decoration: none\">&nbsp;&#x22A2;&nbsp;&nbsp;</a><a class=\"ProveItLink\" href=\"../__pv_it/demonstrations/965e50c113b46e47b79ab8b36e80ba1a9e33336e0/expr.ipynb\"><img src=\"data:image/png;base64,iVBORw0KGgoAAAANSUhEUgAAAL4AAAAXBAMAAABHSeiIAAAAMFBMVEX///8AAAAAAAAAAAAAAAAA\n",
       "AAAAAAAAAAAAAAAAAAAAAAAAAAAAAAAAAAAAAAAAAAAv3aB7AAAAD3RSTlMAmd3vRHZUEIlmIjKr\n",
       "u81j98vPAAAACXBIWXMAAA7EAAAOxAGVKw4bAAACeklEQVRIx7WVQWgTQRSG/5iY3Zg0bHpRseg2\n",
       "FSwIIqVGqIgRD3qMSkOECiXag0ZwUVAPVVNQRFBYUfRkWQ+5KUbEiweTS5EiQoSqVAjGk/SgBKlR\n",
       "2oszO7NJZneCe+mDf3b5M/Pl5c28CeA3NnD1+sy/LY8slyxCGY9VhmJRuz+ZTI76wIeLTJ64OkKG\n",
       "Ex77wM+k4dhZH/xrXN74RhQ33O7Qr1tt2w9/M1enJiZ/aRFFNPf8Kjq2H/5urk7BeM1Df+i4V8rn\n",
       "tg9+uMHk5as6HZfk/CW//ECRCU9vlkR+fG5iErjjXjCfewfH7snvnJe4yRQaw1dD4F//rqwAs3YS\n",
       "STvs1D/jeZraeWKkevE7u7ZukumiiX4x//MG9gCnvIv7dMdu5/+mxhtv8AbuV7v5wTTTNmCYZTo0\n",
       "wjLdCvwFKpKSrjh2mx+jBXn1fgHnVCNgyPj7oSyL+Q8jRE7oIXfyDQRWHbvND5bJ124hL2cymoqZ\n",
       "xGAiLdZH+Y1IU+S3ECAnNO+qf1BHrMltwldu5yzyUhl/y3q6cLqkCvXvy9hSWog1zgr8VboneOzK\n",
       "n6wO1hw7iwtWhfKPGUcVewsK6qUjAl+tMn1EXtME/jw+kHGT++rUcNygNrvfEnhJ3UXMsrYvQDsp\n",
       "8KM603Tu9VxZ4E/P0BXb3bv7ZGBjlz2KCfrYh4HIj3r9E+FfiQvnHzu5PP3L0tXlfwDcJh2yeJk8\n",
       "m0hFiyz/0JQ49R6X936zd9aUd71jj0WXHylF7IjUSOOReAD2g7oOnMUkj2f/sQ8+zJnRFF6ME4+U\n",
       "N7rLQkycSvddqfXif/Fjhxnobn1BNrfEJYv1lh/7MNY2zDVg/gNsOZgk6J2BzQAAAABJRU5ErkJg\n",
       "gg==\n",
       "\" style=\"display:inline;vertical-align:middle;\" /></a></span>"
      ],
      "text/plain": [
       "|- exists_{a, b in NaturalPos} ((a + b) = 5)"
      ]
     },
     "metadata": {},
     "output_type": "display_data"
    }
   ],
   "source": [
    "Exists((a, b), Equals(Add(a, b), five), domain=NaturalPos).conclude_via_example((two, three))"
   ]
  },
  {
   "cell_type": "code",
   "execution_count": 5,
   "metadata": {},
   "outputs": [],
   "source": [
    "%end demonstrations"
   ]
  }
 ],
 "metadata": {
  "kernelspec": {
   "display_name": "Python 3",
   "language": "python",
   "name": "python3"
  }
 },
 "nbformat": 4,
 "nbformat_minor": 0
}