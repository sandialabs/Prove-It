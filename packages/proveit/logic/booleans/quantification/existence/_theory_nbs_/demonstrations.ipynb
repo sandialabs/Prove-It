{
 "cells": [
  {
   "cell_type": "markdown",
   "metadata": {},
   "source": [
    "Demonstrations for the theory of <a class=\"ProveItLink\" href=\"theory.ipynb\">proveit.logic.booleans.quantification.existence</a>\n",
    "========"
   ]
  },
  {
   "cell_type": "code",
   "execution_count": null,
   "metadata": {},
   "outputs": [],
   "source": [
    "import proveit\n",
    "%begin demonstrations\n",
    "\n",
    "from proveit import a, b, c, x, defaults, Px\n",
    "from proveit.logic import Exists, Equals\n",
    "from proveit.numbers import one, two, three, five, Add, greater_eq, Integer, LessEq, NaturalPos"
   ]
  },
  {
   "cell_type": "code",
   "execution_count": null,
   "metadata": {},
   "outputs": [],
   "source": [
    "eval_2p3 = Add(two, three).evaluation()"
   ]
  },
  {
   "cell_type": "code",
   "execution_count": null,
   "metadata": {},
   "outputs": [],
   "source": [
    "exists_a_b_st_sum_is_5 = Exists((a, b), Equals(Add(a, b), five)).conclude_via_example((two, three))"
   ]
  },
  {
   "cell_type": "code",
   "execution_count": null,
   "metadata": {},
   "outputs": [],
   "source": [
    "Exists((a, b), Equals(Add(a, b), five), domain=NaturalPos).conclude_via_example((two, three))"
   ]
  },
  {
   "cell_type": "markdown",
   "metadata": {},
   "source": [
    "### Testing"
   ]
  },
  {
   "cell_type": "markdown",
   "metadata": {},
   "source": [
    "#### Generate some existential test cases, each quite simple but varying across the collection in terms of the presence/absence of explicit conditions and domain(s)."
   ]
  },
  {
   "cell_type": "code",
   "execution_count": null,
   "metadata": {},
   "outputs": [],
   "source": [
    "# some Exists() expressions\n",
    "exists_test_exprs = [\n",
    "    Exists((a, b), Equals(Add(a, b), five)), # no conditions at all\n",
    "    Exists((a, b), Equals(Add(a, b), five), domain=NaturalPos), # single domain spec\n",
    "    Exists((a, b), Equals(Add(a, b), five), domains=[NaturalPos, Integer]), # two domains\n",
    "    Exists((a, b), Equals(Add(a, b), five), conditions = [LessEq(a, five), LessEq(b, five)]), # explicit conditions\n",
    "    Exists((a, b), Equals(Add(a, b), five), conditions = [LessEq(a, five), LessEq(b, five)], domain = Integer), # conditions + domain\n",
    "    Exists((a, b, c), LessEq(Add(a, b, c), five), conditions = [greater_eq(a, one), greater_eq(b, one), greater_eq(c, one)], domain = Integer), # conditions + domain\n",
    "    Exists(x, Px) # archetype case\n",
    "]"
   ]
  },
  {
   "cell_type": "code",
   "execution_count": null,
   "metadata": {},
   "outputs": [],
   "source": [
    "# add this as a default assumption so later judgments work out:\n",
    "defaults.assumptions = [Exists(x, Px)]"
   ]
  },
  {
   "cell_type": "code",
   "execution_count": null,
   "metadata": {},
   "outputs": [],
   "source": [
    "# some Exists() judgments\n",
    "exists_test_judgments = [\n",
    "    exists_test_exprs[0].conclude_via_example((two, three)),\n",
    "    exists_test_exprs[1].conclude_via_example((two, three)),\n",
    "    exists_test_exprs[2].conclude_via_example((two, three)),\n",
    "    exists_test_exprs[3].conclude_via_example((two, three)),\n",
    "    exists_test_exprs[4].conclude_via_example((two, three)),\n",
    "    exists_test_exprs[5].conclude_via_example((one, two, one)),\n",
    "    exists_test_exprs[6].prove()\n",
    "]"
   ]
  },
  {
   "cell_type": "code",
   "execution_count": null,
   "metadata": {},
   "outputs": [],
   "source": [
    "# checking to verify these look correct\n",
    "for j in exists_test_judgments:\n",
    "    display(j)"
   ]
  },
  {
   "cell_type": "markdown",
   "metadata": {},
   "source": [
    "#### Now a test of the Exists().unfold() method"
   ]
  },
  {
   "cell_type": "code",
   "execution_count": null,
   "metadata": {},
   "outputs": [],
   "source": [
    "for j in exists_test_judgments:\n",
    "    display(j.unfold())"
   ]
  },
  {
   "cell_type": "code",
   "execution_count": null,
   "metadata": {},
   "outputs": [],
   "source": [
    "%end demonstrations"
   ]
  }
 ],
 "metadata": {
  "kernelspec": {
   "display_name": "Python 3",
   "language": "python",
   "name": "python3"
  }
 },
 "nbformat": 4,
 "nbformat_minor": 0
}
