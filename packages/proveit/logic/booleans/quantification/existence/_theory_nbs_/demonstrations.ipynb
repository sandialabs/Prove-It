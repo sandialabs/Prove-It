{
 "cells": [
  {
   "cell_type": "markdown",
   "metadata": {},
   "source": [
    "Demonstrations for the theory of <a class=\"ProveItLink\" href=\"theory.ipynb\">proveit.logic.booleans.quantification.existence</a>\n",
    "========"
   ]
  },
  {
   "cell_type": "code",
   "execution_count": null,
   "metadata": {},
   "outputs": [],
   "source": [
    "import proveit\n",
    "%begin demonstrations\n",
    "\n",
    "from proveit import a, b, c, x, defaults, Px, Rx\n",
    "from proveit.logic import Exists, Equals, Not, NotEquals\n",
    "from proveit.numbers import one, two, three, four, five, Add, greater_eq, Integer, LessEq, NaturalPos"
   ]
  },
  {
   "cell_type": "code",
   "execution_count": null,
   "metadata": {},
   "outputs": [],
   "source": [
    "eval_2p3 = Add(two, three).evaluation()"
   ]
  },
  {
   "cell_type": "code",
   "execution_count": null,
   "metadata": {},
   "outputs": [],
   "source": [
    "exists_a_b_st_sum_is_5 = Exists((a, b), Equals(Add(a, b), five)).conclude_via_example((two, three))"
   ]
  },
  {
   "cell_type": "code",
   "execution_count": null,
   "metadata": {},
   "outputs": [],
   "source": [
    "Exists((a, b), Equals(Add(a, b), five), domain=NaturalPos).conclude_via_example((two, three))"
   ]
  },
  {
   "cell_type": "markdown",
   "metadata": {},
   "source": [
    "### Testing `NotExists().conclude_via_forall()` for Multiple Cases"
   ]
  },
  {
   "cell_type": "code",
   "execution_count": null,
   "metadata": {},
   "outputs": [],
   "source": [
    "from proveit import x, P, Function\n",
    "from proveit.logic import Forall, Not, NotExists\n",
    "from proveit.numbers import zero, greater_eq"
   ]
  },
  {
   "cell_type": "markdown",
   "metadata": {},
   "source": [
    "#### Deriving $\\nexists_{x}\\big(\\lnot P(x)\\big)$ via $\\forall_{x}\\big(P(x)\\big)$"
   ]
  },
  {
   "cell_type": "code",
   "execution_count": null,
   "metadata": {},
   "outputs": [],
   "source": [
    "Px = Function(P, x)\n",
    "forall_x_Px_assumption = Forall(x, Px)"
   ]
  },
  {
   "cell_type": "code",
   "execution_count": null,
   "metadata": {},
   "outputs": [],
   "source": [
    "notexists_x_st_not_Px_to_prove = NotExists(x, Not(Px))"
   ]
  },
  {
   "cell_type": "code",
   "execution_count": null,
   "metadata": {},
   "outputs": [],
   "source": [
    "notexists_x_st_not_Px_to_prove.conclude_via_forall(\n",
    "        assumptions = [forall_x_Px_assumption])"
   ]
  },
  {
   "cell_type": "markdown",
   "metadata": {},
   "source": [
    "#### Deriving $\\nexists_{x}\\big(P(x)\\big)$ via $\\forall_{x}\\big(\\lnot P(x)\\big)$"
   ]
  },
  {
   "cell_type": "code",
   "execution_count": null,
   "metadata": {},
   "outputs": [],
   "source": [
    "forall_x_not_Px_assumption = Forall(x, Not(Px))"
   ]
  },
  {
   "cell_type": "code",
   "execution_count": null,
   "metadata": {},
   "outputs": [],
   "source": [
    "notexists_x_st_Px_to_prove = NotExists(x, Px)"
   ]
  },
  {
   "cell_type": "code",
   "execution_count": null,
   "metadata": {},
   "outputs": [],
   "source": [
    "notexists_x_st_Px_to_prove.conclude_via_forall(\n",
    "        assumptions = [forall_x_not_Px_assumption]\n",
    ")"
   ]
  },
  {
   "cell_type": "markdown",
   "metadata": {},
   "source": [
    "#### Deriving $\\nexists_{x|Q(x)}\\big(P(x)\\big)$ via $\\forall_{x|Q(x)}\\big(\\lnot P(x)\\big)$"
   ]
  },
  {
   "cell_type": "code",
   "execution_count": null,
   "metadata": {},
   "outputs": [],
   "source": [
    "forall_x_not_Px_with_condition_assumption = (\n",
    "        Forall(x, Not(Px), conditions = [greater_eq(x, zero)]))"
   ]
  },
  {
   "cell_type": "code",
   "execution_count": null,
   "metadata": {},
   "outputs": [],
   "source": [
    "notexists_x_st_Px_with_condition_to_prove = (\n",
    "        NotExists(x, Px, conditions = [greater_eq(x, zero)]))"
   ]
  },
  {
   "cell_type": "code",
   "execution_count": null,
   "metadata": {},
   "outputs": [],
   "source": [
    "notexists_x_st_Px_with_condition_to_prove.conclude_via_forall(\n",
    "        assumptions = [forall_x_not_Px_with_condition_assumption])"
   ]
  },
  {
   "cell_type": "markdown",
   "metadata": {},
   "source": [
    "### Testing the Exists().unfold() and Exists().definition() Methods"
   ]
  },
  {
   "cell_type": "markdown",
   "metadata": {},
   "source": [
    "#### Generate some existential test cases, each quite simple but varying across the collection in terms of the presence/absence of explicit conditions and domain(s)."
   ]
  },
  {
   "cell_type": "code",
   "execution_count": null,
   "metadata": {},
   "outputs": [],
   "source": [
    "# some Exists() expressions\n",
    "exists_test_exprs = [\n",
    "    Exists((a, b), Equals(Add(a, b), five)), # no conditions at all\n",
    "    Exists((a, b), Equals(Add(a, b), five), domain=NaturalPos), # single domain spec\n",
    "    Exists((a, b), Equals(Add(a, b), five), domains=[NaturalPos, Integer]), # two domains\n",
    "    Exists((a, b), Equals(Add(a, b), five), conditions = [LessEq(a, five), LessEq(b, five)]), # explicit conditions\n",
    "    Exists((a, b), Equals(Add(a, b), five), conditions = [LessEq(a, five), LessEq(b, five)], domain = Integer), # conditions + domain\n",
    "    Exists((a, b, c), LessEq(Add(a, b, c), five), conditions = [greater_eq(a, one), greater_eq(b, one), greater_eq(c, one)], domain = Integer), # conditions + domain\n",
    "    Exists(x, Px), # archetype case\n",
    "    Exists((a, b), Not(Equals(Add(a, b), five))), # no conditions at all\n",
    "    Exists((a, b), Not(Equals(Add(a, b), five)), domain = NaturalPos), # single domain spec\n",
    "    Exists((a, b), Not(Equals(Add(a, b), five)), domains = [NaturalPos, Integer]), # two domains\n",
    "    Exists((a, b), Not(Equals(Add(a, b), five)), conditions = [LessEq(a, five), LessEq(b, five)]), # explicit conditions\n",
    "    Exists((a, b), Not(Equals(Add(a, b), five)), conditions = [LessEq(a, five), LessEq(b, five)], domain = Integer), # conditions + domain\n",
    "    Exists(x, Not(Rx)) # archetype case\n",
    "]"
   ]
  },
  {
   "cell_type": "code",
   "execution_count": null,
   "metadata": {},
   "outputs": [],
   "source": [
    "# check to verify these look correct\n",
    "for i, expr in enumerate(exists_test_exprs):\n",
    "    display(i, expr)"
   ]
  },
  {
   "cell_type": "code",
   "execution_count": null,
   "metadata": {},
   "outputs": [],
   "source": [
    "# add this as a default assumption so later judgments work out:\n",
    "defaults.assumptions = [Exists(x, Px), Exists(x, Not(Rx))]"
   ]
  },
  {
   "cell_type": "code",
   "execution_count": null,
   "metadata": {},
   "outputs": [],
   "source": [
    "# some Exists() judgments\n",
    "exists_test_judgments = [\n",
    "    exists_test_exprs[0].conclude_via_example((two, three)),\n",
    "    exists_test_exprs[1].conclude_via_example((two, three)),\n",
    "    exists_test_exprs[2].conclude_via_example((two, three)),\n",
    "    exists_test_exprs[3].conclude_via_example((two, three)),\n",
    "    exists_test_exprs[4].conclude_via_example((two, three)),\n",
    "    exists_test_exprs[5].conclude_via_example((one, two, one)),\n",
    "    exists_test_exprs[6].prove(), # proof by assumption\n",
    "    exists_test_exprs[7].conclude_via_example((two, four)),\n",
    "    exists_test_exprs[8].conclude_via_example((two, four)),\n",
    "    exists_test_exprs[9].conclude_via_example((two, four)),\n",
    "    exists_test_exprs[10].conclude_via_example((two, four)),\n",
    "    exists_test_exprs[11].conclude_via_example((two, four)),\n",
    "    exists_test_exprs[12].prove() # proof by assumption\n",
    "]"
   ]
  },
  {
   "cell_type": "code",
   "execution_count": null,
   "metadata": {},
   "outputs": [],
   "source": [
    "# check to verify the judgments look correct and as-expected:\n",
    "for j in exists_test_judgments:\n",
    "    display(j)"
   ]
  },
  {
   "cell_type": "markdown",
   "metadata": {},
   "source": [
    "#### Now a test of the Exists().unfold() method"
   ]
  },
  {
   "cell_type": "code",
   "execution_count": null,
   "metadata": {},
   "outputs": [],
   "source": [
    "for j in exists_test_judgments:\n",
    "    display(j.unfold())"
   ]
  },
  {
   "cell_type": "markdown",
   "metadata": {},
   "source": [
    "#### Testing the Exists().definition() method"
   ]
  },
  {
   "cell_type": "code",
   "execution_count": null,
   "metadata": {},
   "outputs": [],
   "source": [
    "# we can do this on the exprs or the judgments\n",
    "for j in exists_test_exprs:\n",
    "    display(j.definition())"
   ]
  },
  {
   "cell_type": "code",
   "execution_count": null,
   "metadata": {},
   "outputs": [],
   "source": [
    "%end demonstrations"
   ]
  }
 ],
 "metadata": {
  "kernelspec": {
   "display_name": "Python 3",
   "language": "python",
   "name": "python3"
  }
 },
 "nbformat": 4,
 "nbformat_minor": 0
}
