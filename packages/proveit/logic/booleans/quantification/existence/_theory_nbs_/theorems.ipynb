{
 "cells": [
  {
   "cell_type": "markdown",
   "metadata": {},
   "source": [
    "Theorems (or conjectures) for the theory of <a class=\"ProveItLink\" href=\"theory.ipynb\">proveit.logic.booleans.quantification.existence</a>\n",
    "========"
   ]
  },
  {
   "cell_type": "code",
   "execution_count": null,
   "metadata": {},
   "outputs": [],
   "source": [
    "import proveit\n",
    "# Prepare this notebook for defining the theorems of a theory:\n",
    "%theorems_notebook # Keep this at the top following 'import proveit'.\n",
    "from proveit.logic import Forall, Exists, NotExists, Boolean\n",
    "from proveit.logic import Implies, Equals, TRUE, NotEquals, Not, And, in_bool, SubsetEq\n",
    "from proveit.numbers import Natural, NaturalPos, one, Less, LessEq\n",
    "from proveit import n, A, B, P, Q, R, alpha\n",
    "from proveit.core_expr_types import (\n",
    "    x_1_to_n, y_1_to_n, Q__x_1_to_n, Q__y_1_to_n, P__x_1_to_n, P__y_1_to_n)\n",
    "from proveit.logic.booleans.quantification import (\n",
    "    general_forall_Px, general_forall_Py, \n",
    "    general_forall_Px_if_Qx, general_forall_Py_if_Qy,\n",
    "    general_forall__Py_not_T, general_forall__Py_not_T__st_Qy,\n",
    "    general_forall_st_Qx__Px_implies_Rx, \n",
    "    general_exists_Px, general_exists_Px_st_Qx, general_exists_Py_st_Qy, \n",
    "    general_exists_Px_st_Qx, general_exists_Py_st_Qy, general_exists_Rz_st_Qz,\n",
    "    general_exists_in_A_Px_st_Qx, general_exists_in_B_Py_st_Qy, \n",
    "    general_exists_notPx_st_Qx, general_notexists_Px_st_Qx, general_notexists_Py_st_Qy, \n",
    "    general_notexists_notPy_st_Qy)\n",
    "%begin theorems"
   ]
  },
  {
   "cell_type": "markdown",
   "metadata": {},
   "source": [
    "**By our definition for $\\exists$, such an expression is always a Boolean (it acquires this property from $\\forall$):**"
   ]
  },
  {
   "cell_type": "code",
   "execution_count": null,
   "metadata": {},
   "outputs": [],
   "source": [
    "exists_is_bool = Forall(n, Forall(P, in_bool(general_exists_Px)),\n",
    "                      domain=NaturalPos)"
   ]
  },
  {
   "cell_type": "code",
   "execution_count": null,
   "metadata": {},
   "outputs": [],
   "source": [
    "exists_with_conditions_is_bool = Forall(n, Forall((P, Q), in_bool(general_exists_Py_st_Qy)),\n",
    "                      domain=NaturalPos)"
   ]
  },
  {
   "cell_type": "markdown",
   "metadata": {},
   "source": [
    "**Fold and unfold the definition:**"
   ]
  },
  {
   "cell_type": "code",
   "execution_count": null,
   "metadata": {},
   "outputs": [],
   "source": [
    "exists_unfolding = Forall(n, Forall((P, Q), \n",
    "                                   Implies(general_exists_Px_st_Qx,\n",
    "                                           Not(general_forall__Py_not_T__st_Qy)).with_wrap_after_operator()),\n",
    "                  domain=NaturalPos)"
   ]
  },
  {
   "cell_type": "code",
   "execution_count": null,
   "metadata": {},
   "outputs": [],
   "source": [
    "exists_folding = Forall(n, Forall((P, Q), general_exists_Px_st_Qx ,\n",
    "                                 condition=Not(general_forall__Py_not_T__st_Qy)),\n",
    "                       domain=NaturalPos)"
   ]
  },
  {
   "cell_type": "markdown",
   "metadata": {},
   "source": [
    "**Providing a legitimate example is one way to prove that something exists:**"
   ]
  },
  {
   "cell_type": "code",
   "execution_count": null,
   "metadata": {},
   "outputs": [],
   "source": [
    "existence_by_example = Forall(n, Forall(P,\n",
    "                                    Forall(y_1_to_n,\n",
    "                                           Implies(P__y_1_to_n, general_exists_Px).with_wrap_after_operator())),\n",
    "                            domain=NaturalPos)"
   ]
  },
  {
   "cell_type": "markdown",
   "metadata": {},
   "source": [
    "**If the negation of some instance exists, then it cannot always be true:**"
   ]
  },
  {
   "cell_type": "code",
   "execution_count": null,
   "metadata": {},
   "outputs": [],
   "source": [
    "exists_not_implies_not_forall = Forall(\n",
    "    n, Forall(\n",
    "        (P, Q), Implies(general_exists_notPx_st_Qx, \n",
    "                        Not(general_forall_Py_if_Qy))\n",
    "        .with_wrap_after_operator()),\n",
    "    domain=NaturalPos)"
   ]
  },
  {
   "cell_type": "markdown",
   "metadata": {},
   "source": [
    "**Negating both sides of exists_def:**"
   ]
  },
  {
   "cell_type": "code",
   "execution_count": null,
   "metadata": {},
   "outputs": [],
   "source": [
    "exists_def_negation = Forall(\n",
    "    n, Forall(\n",
    "        (P, Q), Equals(general_notexists_Px_st_Qx, \n",
    "                       general_forall__Py_not_T__st_Qy)\n",
    "        .with_wrap_after_operator()),\n",
    "    domain=NaturalPos)"
   ]
  },
  {
   "cell_type": "code",
   "execution_count": null,
   "metadata": {},
   "outputs": [],
   "source": [
    "not_exists_via_forall = Forall(\n",
    "    n, Forall(\n",
    "        (P, Q), Implies(general_forall__Py_not_T__st_Qy, \n",
    "                        general_notexists_Px_st_Qx)\n",
    "        .with_wrap_after_operator()),\n",
    "    domain=NaturalPos)"
   ]
  },
  {
   "cell_type": "markdown",
   "metadata": {},
   "source": [
    "**\"Unfold\" $\\nexists$ to $\\lnot \\exists$:**"
   ]
  },
  {
   "cell_type": "code",
   "execution_count": null,
   "metadata": {},
   "outputs": [],
   "source": [
    "not_exists_unfolding = Forall(\n",
    "    n, Forall(\n",
    "        (P, Q), Implies(general_notexists_Px_st_Qx, \n",
    "                        Not(general_exists_Py_st_Qy))\n",
    "        .with_wrap_after_operator()),\n",
    "    domain=NaturalPos)"
   ]
  },
  {
   "cell_type": "markdown",
   "metadata": {},
   "source": [
    "**\"Fold\" $\\lnot \\exists$ into $\\nexists$:**"
   ]
  },
  {
   "cell_type": "code",
   "execution_count": null,
   "metadata": {},
   "outputs": [],
   "source": [
    "not_exists_folding = Forall(\n",
    "    n, Forall(\n",
    "        (P, Q), Implies(Not(general_exists_Px_st_Qx), \n",
    "                        general_notexists_Py_st_Qy)\n",
    "        .with_wrap_after_operator()),\n",
    "    domain=NaturalPos)"
   ]
  },
  {
   "cell_type": "markdown",
   "metadata": {},
   "source": [
    "**If all instances are true, then there exists no counter-example:**"
   ]
  },
  {
   "cell_type": "code",
   "execution_count": null,
   "metadata": {},
   "outputs": [],
   "source": [
    "forall_implies_not_exists_not = Forall(\n",
    "    n, Forall(\n",
    "        (P, Q), Implies(general_forall_Px_if_Qx, \n",
    "                        general_notexists_notPy_st_Qy)\n",
    "        .with_wrap_after_operator()),\n",
    "    domain=NaturalPos)"
   ]
  },
  {
   "cell_type": "markdown",
   "metadata": {},
   "source": [
    "**If elements exists in $A$ that satisfies some criteria, they also exist in $B$ given that $A \\subseteq B$ (simply because all elements in $A$ also exist in $B$):**"
   ]
  },
  {
   "cell_type": "code",
   "execution_count": null,
   "metadata": {},
   "outputs": [],
   "source": [
    "exists_in_superset = Forall(\n",
    "    n, Forall(\n",
    "        (P, Q, A, B), Implies(general_exists_in_A_Px_st_Qx,\n",
    "                           general_exists_in_B_Py_st_Qy)\n",
    "        .with_wrap_after_operator(),\n",
    "        conditions=[SubsetEq(A, B)]),\n",
    "    domain=NaturalPos)"
   ]
  },
  {
   "cell_type": "markdown",
   "metadata": {},
   "source": [
    "**If an element exists satisfies some criteria under a certain set of conditions, it also exists under less restrictive criteria:**"
   ]
  },
  {
   "cell_type": "code",
   "execution_count": null,
   "metadata": {},
   "outputs": [],
   "source": [
    "'''\n",
    "exists_more_generally = Forall((i, j, k), \n",
    "                             Forall(l, Forall((P, iter_q1k), \n",
    "                                              Implies(general_exists_Px,\n",
    "                                                      exists_Px_Q1i_Qjk).with_wrap_after_operator()),\n",
    "                                    domain=NaturalPos),\n",
    "                             domain=Natural, \n",
    "                             conditions=[number_ordering(LessEq(one, i), Less(i, j), LessEq(j, k))])\n",
    "'''"
   ]
  },
  {
   "cell_type": "markdown",
   "metadata": {},
   "source": [
    "***If $P(x_{1},\\ldots,x_{l})$ given $R(x_1,\\ldots,x_{l})$ for all appropriately conditioned instances, then existence of a satisfying instance of the former implies existence of a satisfying instance of the latter (e.g., the same instance).***"
   ]
  },
  {
   "cell_type": "code",
   "execution_count": null,
   "metadata": {},
   "outputs": [],
   "source": [
    "existential_implication = Forall(n, Forall((P, Q, R),\n",
    "                                          Implies(general_forall_st_Qx__Px_implies_Rx,\n",
    "                                                  Implies(general_exists_Py_st_Qy,\n",
    "                                                          general_exists_Rz_st_Qz).with_wrap_after_operator()) \\\n",
    "                                          .with_wrap_after_operator()),\n",
    "                                domain=NaturalPos)"
   ]
  },
  {
   "cell_type": "code",
   "execution_count": null,
   "metadata": {},
   "outputs": [],
   "source": [
    "skolem_elim_lemma = Forall(\n",
    "        (n, alpha),\n",
    "        Forall((P, Q),\n",
    "               Implies(And(Exists(y_1_to_n, P__y_1_to_n, conditions=[Q__y_1_to_n]), \n",
    "                       Forall(x_1_to_n,\n",
    "                              Implies(P__x_1_to_n, alpha),\n",
    "                              conditions=[Q__x_1_to_n])), alpha)),\n",
    "        domains=[NaturalPos, Boolean])"
   ]
  },
  {
   "cell_type": "code",
   "execution_count": null,
   "metadata": {},
   "outputs": [],
   "source": [
    "skolem_elim = Forall(\n",
    "        n,\n",
    "        Forall((P, Q, alpha),\n",
    "               Implies(And(Exists(y_1_to_n, P__y_1_to_n, conditions=[Q__y_1_to_n]), \n",
    "                       Forall(x_1_to_n,\n",
    "                              Implies(P__x_1_to_n, alpha),\n",
    "                              conditions=[Q__x_1_to_n])), alpha)),\n",
    "        domain=NaturalPos)"
   ]
  },
  {
   "cell_type": "code",
   "execution_count": null,
   "metadata": {},
   "outputs": [],
   "source": [
    "%end theorems"
   ]
  },
  {
   "cell_type": "code",
   "execution_count": null,
   "metadata": {},
   "outputs": [],
   "source": []
  },
  {
   "cell_type": "code",
   "execution_count": null,
   "metadata": {},
   "outputs": [],
   "source": []
  }
 ],
 "metadata": {
  "kernelspec": {
   "display_name": "Python 3",
   "language": "python",
   "name": "python3"
  }
 },
 "nbformat": 4,
 "nbformat_minor": 0
}
