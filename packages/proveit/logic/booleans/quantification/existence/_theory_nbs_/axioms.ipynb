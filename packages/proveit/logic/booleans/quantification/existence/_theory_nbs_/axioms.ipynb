{
 "cells": [
  {
   "cell_type": "markdown",
   "metadata": {},
   "source": [
    "Axioms for the theory of <a class=\"ProveItLink\" href=\"theory.ipynb\">proveit.logic.booleans.quantification.existence</a>\n",
    "========"
   ]
  },
  {
   "cell_type": "code",
   "execution_count": null,
   "metadata": {},
   "outputs": [],
   "source": [
    "import proveit\n",
    "# Prepare this notebook for defining the axioms of a theory:\n",
    "%axioms_notebook # Keep this at the top following 'import proveit'.\n",
    "\n",
    "from proveit import f, g, n, P, Q, Function, ExprTuple\n",
    "from proveit.core_expr_types import x_1_to_n\n",
    "from proveit.logic import FALSE, Implies, Not, Forall, Exists, Equals\n",
    "from proveit.logic.booleans.quantification import (\n",
    "    exists_Px, forall_Py_impl_F, general_exists_Px_st_Qx, general_forall__notPy__st_Qy)\n",
    "from proveit.numbers import NaturalPos"
   ]
  },
  {
   "cell_type": "code",
   "execution_count": null,
   "metadata": {},
   "outputs": [],
   "source": [
    "%begin axioms"
   ]
  },
  {
   "cell_type": "markdown",
   "metadata": {},
   "source": [
    "The existential quantifier is defined as axioms rather than a conservative definition.  It plays a special role in our deduction system (requiring special scrutiny), required for the *definition existence* derivation rule.  It couldn't possibly be defined conservatively since we need *definition existence* to justify a conservative definition."
   ]
  },
  {
   "cell_type": "markdown",
   "metadata": {},
   "source": [
    "We need the basic existence definition to prove the existence of simple functions and constants."
   ]
  },
  {
   "cell_type": "code",
   "execution_count": null,
   "metadata": {},
   "outputs": [],
   "source": [
    "existence_basic_def = Forall(\n",
    "    P, Equals(exists_Px, Implies(forall_Py_impl_F, FALSE)))"
   ]
  },
  {
   "cell_type": "markdown",
   "metadata": {},
   "source": [
    "This is a more complete definition."
   ]
  },
  {
   "cell_type": "code",
   "execution_count": null,
   "metadata": {},
   "outputs": [],
   "source": [
    "existence_def = Forall(\n",
    "    n, Forall((P, Q), Equals(general_exists_Px_st_Qx,\n",
    "                             Not(general_forall__notPy__st_Qy)).with_wrap_after_operator()),\n",
    "    domain=NaturalPos)"
   ]
  },
  {
   "cell_type": "code",
   "execution_count": null,
   "metadata": {},
   "outputs": [],
   "source": [
    "%end axioms"
   ]
  },
  {
   "cell_type": "code",
   "execution_count": null,
   "metadata": {},
   "outputs": [],
   "source": []
  }
 ],
 "metadata": {
  "kernelspec": {
   "display_name": "Python 3 (ipykernel)",
   "language": "python",
   "name": "python3"
  }
 },
 "nbformat": 4,
 "nbformat_minor": 0
}
