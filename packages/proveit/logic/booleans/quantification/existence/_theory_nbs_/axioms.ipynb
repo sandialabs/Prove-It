{
 "cells": [
  {
   "cell_type": "markdown",
   "metadata": {},
   "source": [
    "Axioms for the theory of <a class=\"ProveItLink\" href=\"theory.ipynb\">proveit.logic.booleans.quantification.existence</a>\n",
    "========\n",
    "\n",
    "Unlike `Forall`, `Exists` is not fundamentally defined in the core of **Prove-It**.  It must be defined via its relationship with `Forall`."
   ]
  },
  {
   "cell_type": "code",
   "execution_count": 1,
   "metadata": {},
   "outputs": [
    {
     "name": "stdout",
     "output_type": "stream",
     "text": [
      "Defining axioms for theory 'proveit.logic.booleans.quantification.existence'\n",
      "Subsequent end-of-cell assignments will define axioms\n",
      "%end_axioms will finalize the definitions\n"
     ]
    }
   ],
   "source": [
    "import proveit\n",
    "# Prepare this notebook for defining the axioms of a theory:\n",
    "%axioms_notebook # Keep this at the top following 'import proveit'.\n",
    "from proveit.logic import TRUE, in_bool, Forall, Exists, NotExists, Not, Equals, NotEquals\n",
    "from proveit.numbers import Natural, NaturalPos\n",
    "from proveit import n, P, Q\n",
    "from proveit.logic.booleans.quantification import (\n",
    "    general_exists_Px_st_Qx, general_exists_Py_st_Qy, general_forall__Py_not_T__st_Qy, general_notexists_Px_st_Qx)\n",
    "%begin axioms"
   ]
  },
  {
   "cell_type": "markdown",
   "metadata": {},
   "source": [
    "**Defines the $\\exists$ operation generically for any number of instance variables or conditions by equating it to an equivalent expression in terms of $\\forall$**:"
   ]
  },
  {
   "cell_type": "code",
   "execution_count": 2,
   "metadata": {},
   "outputs": [
    {
     "data": {
      "text/html": [
       "<strong id=\"exists_def\">exists_def:</strong> <a class=\"ProveItLink\" href=\"../__pv_it/axioms/54629842d6f06b84ceb682f9edf8a419cd9b650b0/axiom_expr.ipynb\"><img src=\"data:image/png;base64,iVBORw0KGgoAAAANSUhEUgAAArwAAAAzCAMAAABCHStVAAAAPFBMVEX///8AAAAAAAAAAAAAAAAA\n",
       "AAAAAAAAAAAAAAAAAAAAAAAAAAAAAAAAAAAAAAAAAAAAAAAAAAAAAAAAAAAo1xBWAAAAE3RSTlMA\n",
       "q1RmmUTNIjK7EInv3Xbn9enzK1aD6QAAAAlwSFlzAAAOxAAADsQBlSsOGwAAC5ZJREFUeNrtXYmW\n",
       "q6oSVQYRUN7g///rFRlkBhPT0rfDWqdPFmCVwW1RFMXOMNxU2FGGD5ZxXVcyfMvzRexPAjx6Bzej\n",
       "bd32gt4WQ+ds0/RFTT8Fwh9GK/WgSiXa6H3gxbdY18KYfMF7FNKF7p8G7zCvoaGFnYF35MMXvJUp\n",
       "+8n5GovHwDuAtW/wwiI+j0a0qrLgP4DTfXKk40gndBodwJ+9JfgYeAc+9gxespAqeLswQD9WNvWd\n",
       "6WLQy56efib2GHiHFXYM3lUMX/B6ft6mRgRsZmQQfPiWIHoOvGBh3YIXLsMXvP4kvc36f+MsLI/f\n",
       "kwbQE+AdJtQteBf+Ba9f6Gb+1wFE8PyidYLPgRdvpFPwio19wRu4vNTzHnavQb/fTIiRzZynB6Hc\n",
       "2layMvSy6RHwDtPYKXjXcfiCN+HyEn7uZmmzN+zTpxjFgNbkdeXWtpKVoSNCLnhNBOgo4ydHBLgG\n",
       "riPwztvcAl5gQmUfBm9hrxB8aJtAxHPRyDmHzsBqGMP9DuD+HI8tHRYGGN1Wxvk4vrCN6mkIVk0P\n",
       "Wl62iS7BO1bXIj9qeYOBEVwIpEAL8U+9MMbldZYFSrd8zZEejlmIwDq6regwjC+YEkdGaGQeBO9A\n",
       "1y7Bu4z9ghdPErcqDM0+Ny/iYMW6TRnwHh+tDQIJcJrWbb+AVOe0zBNJRi7xk5Z3nw1Ih+CdN9gt\n",
       "eA06kKxEH9zam5g/JFH45fR+j4W3yqtKgNe2QvYyeE8ZCO7mHfmD8YzPu/sNsEPwio1cB6+cys1s\n",
       "7jQla9Nas12dgbEPH8oZcy1d2K462dNf24stGlJ6GENGsfKyuPduaeQHrfv/q9NawcYQy2AQLzti\n",
       "zO6nhsxDltedoPsBL62H3yPwCjKMdJgCG5yuTSMo39UZmNEo5vs9kqlwYbvqdE/geb1T5PLqOBXY\n",
       "Zob2e8HABS/TXkbQqtOxmPVB7KfCB1cGYULWmnW+jtY9BV7H6d3BeyIZwPfB+7K0hbaB103MgYcp\n",
       "kmaRONmethYDUZnjTwEl8NrNExllxNS/0NV8QXVaM3a0IpmVE3qdszKiSIgd6BD4Xs2qkgaDVnOD\n",
       "q00pXFH+g+7kyxiFdXWtkXoKvHxzwXsO8kTeB++r0lhDHntq8aucjRn4yZ6qdpFia0Jz3ooLXmh8\n",
       "0L0vGIuaL6hOaJ6rb/CaeNOszwsSrgHZx5WQXGssK9Vp2ZUipF41opU9BV54+lI7eGfzNMh7LoQC\n",
       "76vS5k28At550QnSHoR0LVGfynpVV4gw9JMNndun+/PHTCc1GXylNV9QndIMqm8wRAXwJrbXCZ3n\n",
       "WWVUNuVSpjqRw9WfwQFekxn0FHgdoEif1yxxObgBvK9KAxu4DF6yDHzS0VE9Y3K/dqDYVKf+nF2B\n",
       "oGYplliwLQQyMevdrTWpOaP6omZRf4NpaK8Jnzau1nGJqxd5XGbLtcYTYKoTlgZJcOjZpKfA60zR\n",
       "ErzmNt7M+Qh8oYvSYEM4JxKJBOZCsBNCs9x3c2rRPNjqeSH+H6/rOOulWCpURtAo5D4VseiJNGdU\n",
       "X9RM664Wy89oZXS2YLfeyd7hU+AdttGLNixqBcRvAe+L0hoiZcX3wUzenv3mzDyNlFn36lZ5SACz\n",
       "NHgP84O0WQp3EqzbkFZ9RTNrcbWIGJ4rwj6l58BLPfAqI0HZPeB9TRrf2BvgncWi3BQXfsO0T5hq\n",
       "QsYJ4V6d3DYDHA558JJt1DD1grNWc0b1Jc3oFx3sfwy8y+SBl4zmz6suvQteTxqmG+JoHO1TcXIE\n",
       "fA+gBbx13gbYXl0ZfBprx6dVbZZ3RTP8NcfyxD61PgXedfXAe5hJnh05siLZCPXeBqqA15cGD1Vc\n",
       "K3RzBPwybp09n9Jb8iFqFTZ8SwN4Fx+8QKTjUGKkcs0MxsPY6COsVfB60kakPFovpoPoveD9Uun8\n",
       "5nKRficE7441GC8DEDJnT/ZGZP2FKng9aSrtVmVr+DkC192GrDn8c4QO5MW2h26peol2oJtkhG7D\n",
       "wIEOzzoJRPaE/gBmgPc17g5ejhBa93+4CF4rTeJVZjUp8+vnCEQLtoY7z2WS/TXwljLqnjphgjNB\n",
       "EMQaLtHgxS2BlGDBJr1Q5c86CURO2AbMu9sAcLPlJWfmD1yEEGbL0csRCMe8Ic6b5ds4vs5dORr9\n",
       "FzMOfXGSiOSouxveUeZkxGAiGp7cMgbglZHyA3ZnAhGGLnh3yAraCl4jTX5yYerlCIQr7Tp483wb\n",
       "KmPnphyN7oszDl1xkkwpGxvzJgIRX2LjblPdefR32Py1j0kgghM9ClDgZXyYmsEb41V9ETdHIPxK\n",
       "WzVOlOfbOO7srhyN7ss5Dn1xkqTSLuZ4jnXBGzGYwGpyBzsz9CPw2gSimXuWVyb5ae/0AniJsbHH\n",
       "pr6fIxB8y/pBinyiy+S9tfxffq54iXytTjhJlthsJva7XfDGDCZLzfQGiTk+2gaTQHTukanguajs\n",
       "YiTAuztl3Nn593MEsrNBztObKuC9KUeje4/3/H6dcZLEVgknMOOBN2IwmWo2zMngCsHrJBAR467M\n",
       "q3Iir4PXU2o0oHTq0lobd8Qr4L0pR6N7r+H8fjlOEiYO9yF5VLTU1uhz5yTwqCa1+vDAGzGY8Np9\n",
       "OUkwpWNAjEuft3nLsgxefAbPxjU1NVRPvhfeSeON35Kj0XuZApc3wUnCFbkCTG38lNraSlbCyR+h\n",
       "4wr/+W/iRKYH3ojBBNZs2OidpLirrLVjL2aA0x1hbZdCPyIn3oIC8F7L0XjN7BWmlk/EOER2HIY8\n",
       "J8kMFFXDSGNGEqftRT4SV3owAkuD4fXBGzGYgJoNc46L9XT0vbLOitikT5jadNhijsYd5cepSFBh\n",
       "HHKcJExTLux/IkYSp+1FPhJHQvQIg9k2+ap74I0YTObKjECcEze/iHSkAbyZHI1PgfcnqEgwz49D\n",
       "npMEy2lM8WdFpA627WU+Eke6X780GF4fvBGDCa5Y3j5JRwa0NLkNJfCmczQ+Bd6foSKJwvZ2HAqc\n",
       "JAdRk1iGFHht28t8JKcEj43EUXX4dv/7f5KFxHcbQgYTUJkKxj7pnnBlmyI6Bk5QBF6bVYGPwF4w\n",
       "bMnK5K1kO1aoSN5Tm+wZRa3tOGQ5Sfb/R/MnZCTx2myu6iVCEishYCMJwZTZLfMXbCGDSQ2QnRLt\n",
       "neQBmUXuWIs2ODkaQm5xB+d3k5XpWFC2Y5mK5D216Z7RgWI7DllOkt3ySYIJte0TMJJ4bebnoQrs\n",
       "I6kqIyFgIwmCmbmT0B54IwYTxCteQ58Up7V4w7zWwXvmaMhnJrMxHE4QW1ljBDmvLoE3QUXyntq0\n",
       "XkzT41DgJJEeOBdIeYcBI4nXZu/SNsY0JDEhiSPBYyMJEJBLU8AwBs0J3gqK1l7JpWu0/utcB++J\n",
       "Yn4Mrc8JoivrjCC6Yxm8KSqS99Sm9MY8JOvcNEZ88p1Il05EtZ18JNcJSZQEl43E0pHozi17RRGD\n",
       "CVkrrmWvtP4105tP2pjSdyOH1uME0ZV1RhDd8ToVyXtqU3rj2beUvKLaJLLYAnzw8hN1qs3hI7lE\n",
       "SOJIcNlIgqSgqeV1iBhMKolF1HMd+/opq6k8hllWgylpgvBh5k42EqeyzAhiO16kImlUe01vgoek\n",
       "xO5wtMmfBFO/JRozkpxtJx/JNUKSU4LLRhIk88EmwxsymFQSAvHW709ZKU6OwujRdvACBOl0okgl\n",
       "BtnKCiOI7XiRiqRN7TW9CaSW6B2ONgBj79rAM9V2jZAkKSG80bXF8EYMJhXSlSBa2tnPt4ry7eT4\n",
       "NmLwsn0UKHRHETiVNUYQ2/EqFUmj2gt6k0At8Y48xUkifNzNly7R4BXkUrzpV/1wdkO0wcoRA5a1\n",
       "HhuJqawygpiOl6lI2tRe0Yv+xKnoJgYTHD7mO8ELGWNvZ3RN4BbwYij81wDmKqNxTHXMgjegImlT\n",
       "e0EvxMMXvNqWe0tAiTVxI3il+4/eFkNf2K+cfoy34aepSP4CD0kb/Q7zwxdUoo3+A//jeEVhkrfm\n",
       "AAAAAElFTkSuQmCC\n",
       "\" style=\"display:inline;vertical-align:middle;\" /></a><br>"
      ],
      "text/plain": [
       "<IPython.core.display.HTML object>"
      ]
     },
     "metadata": {},
     "output_type": "display_data"
    }
   ],
   "source": [
    "exists_def = Forall(n, Forall((P, Q), \n",
    "                             Equals(general_exists_Px_st_Qx, \n",
    "                                    Not(general_forall__Py_not_T__st_Qy)).with_wrap_after_operator()),\n",
    "                  domain=NaturalPos)"
   ]
  },
  {
   "cell_type": "markdown",
   "metadata": {},
   "source": [
    "The equivalent expression to saying \"there exists an instance of $x_1, \\ldots, x_l$ variables for which the set of $Q_{1}, \\ldots, Q_{k}$ conditions are satisfied such that $P(x_1, \\ldots, x_l)$ is true\" is to say that the following is *not* true: \"for all occurrences of $x_1, \\ldots, x_l$ for which the set of $Q_{1}, \\ldots, Q_{k}$ conditions are satisfied,$P(x_1, \\ldots, x_l)$ is not equal to `TRUE`\".  That is, \"there exists appropriately constrained operands of $P$ for which the $P$ operation is true\" means that \"it is *not* the case that all appropriately constrained operands of $P$ cause the $P$ operation to *not* evaluate to true\".  This is expressed in a way that does not assume that the $P$ operation returns a Boolean, exploiting the fact that `Equals` ($=$) is defined to always evaluate to a Boolean and therefore `NotEquals` ($\\neq$) as well.  Existence in this theory means that the $P$ operation evaluates to true for some instance of appropriately constrained operands but it does not mean that the $P$ operation always evaluates to a Boolean under this constraint."
   ]
  },
  {
   "cell_type": "markdown",
   "metadata": {},
   "source": [
    "**Defines the $\\nexists$ operation generically for any number of instance variables or conditions by equating it to the negation of the corresponding $\\exists$ operation**:"
   ]
  },
  {
   "cell_type": "code",
   "execution_count": 3,
   "metadata": {},
   "outputs": [
    {
     "data": {
      "text/html": [
       "<strong id=\"not_exists_def\">not_exists_def:</strong> <a class=\"ProveItLink\" href=\"../__pv_it/axioms/9500504a5eba0476fd67d5e70c8a16622c29e46c0/axiom_expr.ipynb\"><img src=\"data:image/png;base64,iVBORw0KGgoAAAANSUhEUgAAAn0AAAA0BAMAAAANlZNzAAAAMFBMVEX///8AAAAAAAAAAAAAAAAA\n",
       "AAAAAAAAAAAAAAAAAAAAAAAAAAAAAAAAAAAAAAAAAAAv3aB7AAAAD3RSTlMAq1RmmUTNIjK7EInv\n",
       "3XZ/CtNrAAAACXBIWXMAAA7EAAAOxAGVKw4bAAALYklEQVR42u2bD4wUVx3Hf/tnbnZn/7BEYwpU\n",
       "sqa1EvnTTQsYTAPbHBS0Ui9t0kQgZSNNjJiGIRoTWoSzMY1RCotKK6TC0DZqDwNL/5BYUrKlqVZQ\n",
       "XFuohNy2C5w2J3IsFgocac/3b968efN2lr2dYyXxJTv33pv35mY++/78fr/vLMCYJcOE/yeS+vr6\n",
       "Wmofqv4dHRPZG/qh09W3mw2Qvj7rmi71/siFZk1+KRa6yDF+o4+/Oxtx20b/xkdGitd0oWPNR1zO\n",
       "yy/V0Yc32+/diB88aQ+7SFD8JoHEL1qt/rm/p4Ozr73F4yFffuFKwPwiBfCOv7ltPsNoqO24Mv6p\n",
       "r+Lc1DYvlPPjB3sD5rfWVPBbdP35wTj0RT6DZpdRaPNCK335pXLB8nsPFPwqHeC3qQZwO/pEc21e\n",
       "aKYvv/ChQPlFyip+hQ7wO9eLPiWAZLsXSlp+/ODhQPklSwp+Wr4D/HbgD2J4W7sX6sr58ltuBsnv\n",
       "nKXgl851gN8VgNgn6O+92EwbmvjTFwWrzV1UpN0nf7vfvuVExpdfVyZIfn8DD79w9f1q/3Xnh9jp\n",
       "r+H/ugJ9onCyttg5JxUVKZ+eHK0IFgXlhywxnDLuBXA4QH6xy6AYf6mWbbCoq/SFFqwNnjm//yVi\n",
       "dGLX60swz/oUGLPZOVrctXdiw1XcjAxzPyBc9h1/xicB8guVVfzWtMwvzv6eGVqIbq0V4ztvX6HO\n",
       "Mm+iTy/cg44bz7IqWsxDwzEYg6hj9cTqvvzgVwHyS2ZU/KaOlt+DJrYnd7bSc6lg/nF+AEfwYTpv\n",
       "hYsXYX1v4wep8azmP/5gnhkcv005Fb9XRskPO0fRIixoabdkG9gm2xAgoRPtEvQJ/Ejxy378lpuG\n",
       "FeneOMDuwmf9gz254PidM1X8VmJ+QwsH7JNC1kmuSsoPP1+kDhXXyfTAuoXeZY9X2qGyc/ak346W\n",
       "qC1oXSlRfpZThNdIUV7P0OeFnpshAc8tyyVNSubOpnMuGH7PgIpfBfFLmxO62KMJWYGAq5Ly+wzm\n",
       "UdYLrpMfhIrf9PxfpzLMFsBVgoMavvx8WcsSfsZHTjF2ghRhT4EdeOn2n3wN7odH/wnjEN9oyZ9f\n",
       "vML4EY63NOMXInfZwCn6k4JftPpxtb8nAttjoJNwGcneP+DeFUilxO8wMa+0IgidIRev9WozpDmN\n",
       "K9nUpOPgKyPb7QgT4nJf7dY72PpXtXhxjUWKkMLIyeEozpwAeH4o3I0AT4ZluKLHn1+izviRe/pW\n",
       "M35R/Nxd6piacUE1/iJ0Lb4E8PgJsLNloy41veRZ/97A65gZzrg7jzORT7ZHjhbYNxST51HKWeQw\n",
       "vzCfsXpeN4UiT1/kubdgPvpOfwD+/CIXGb8f4osWm/GLZYhF0shoVfALkSeIlXUAigBnzZhk6uDK\n",
       "mQ9MFfn9ApbAO4SI0Bk2gKmjgzuhysiCO0rO/HUeL+/il+ClNT/+kSUUeeIeqF6H41MAupvwow+N\n",
       "+OGtq5lScYzGcxp4P+H/qPiR6PPaRCFKEOxi2XgPGCVUIgdWOaOYEvmt/e7uJ3J4+eSdjZJe3odt\n",
       "vC1CZ1YZHsQ7Tbom38LTduaxVQeQZ8br/zoyIhb5HOIX0DJwJkdHlB8/OukQv0jOjpf48sPXahBT\n",
       "i1xW8dPI3v+PA/8iCDZkaXYR+uYOwgYz9kd0YJWh3u+L/PS7T07UMQDeGfW4b+mQBdFeobNdeRPa\n",
       "aRRSywuukoS31tiDsZcSswk/OG/vv3+pVg8355esVvtLDbynS8r910l4CtIRnrDQrYf5CVqZgtNL\n",
       "XP6Hlt/tmMS4M+vxalrszHKV9CxLokW+hVpbjvQH0IzfFZsfGhLbmvND333carAVDfvz23g4Cxrt\n",
       "u2oETbYlfKrQyp0wNefip59H0KIm78x6dI18LHRmOSMTfglg4ZhEI3z5/cHmtxr0DPgsqJQfarMa\n",
       "5b5x4eXxJvdRmdvv5Uf0X7ehIpgdqkqRHzyCd/tXFT3ErFAZGQuhKl19w+901eYXtxLiv9ePvgJ3\n",
       "ZRyX3LaftyGHDHWoQKLCfVQWPqgHdMe6xyW4xmTA9U/9Nr9wzZluGydsgc8lrKjl5TeDbB+hPKTr\n",
       "3Ee9Jn4hz2C8sdLZataXHxTm8pm4CPsitXwCvPy6iEGczEIqw33URvPXNZK6Og3AbHNGIAtF95m/\n",
       "8CKy7WjU4TSum/L5dQl4ef7R+T0ufonb8Gq/3tI/zX1Ue//w7L9w6n+IXzsqglaj/LRa4/0D1qIB\n",
       "RaIOBpmRUxLPLlWMP/11nLtr6JTFfVT7Bj32X7jk5re4Wq2+eX2pDY5snvCwReOQbaTTlB8dWa70\n",
       "OueHPS0SddDIljYF8oMKfnATPowHwUdtaD//WmHMnLrOw+4jtDNilbY9JR17Z8TD8NhuF9zxKxx1\n",
       "iHx769afIX67ulT8ODjuo9qj7aJ87e7O88P+aRj7qO0p6diPxvwisoNtXHXzw1GHWImOP22G1/5j\n",
       "6yle6pD7yXxUdqsfyv+13Hl+eFFJ42dsU0k/RPnBoUbxAzHqQPyQWQAnG8VPB69axB1lPqo4lMXl\n",
       "r9B5flhJiuOFpU0lfQXjt0IZNOH8aNRhDVoJY++aNFraOP4ctn1Ult6VmkdLnec3rkhfhsFKujGQ\n",
       "E+Wo3d3I6/OzxsXmexm/vUqnX4rfG7/fuqWB/yumJbaPytLN8qKb6zw/xO6xt9kASoTLME/wTKc5\n",
       "tqvSnxebz2b8ZsteQV3Bzyd+ALID+4hjHs6TNqdUlpos1aOM33SUP9jS449WSudxqHOT9s8iGQTx\n",
       "8WgFJsBzbFWJZRdDqOijo9PmLE1j/KZJjZLF0fPzfNeShZq00a4e9fgbtZRu75M77Apkd1rJGhyJ\n",
       "DVVsZ/kIJGs+Ojppzp+N8dskNVpfC46frJ8Hx691KX2pY/5xfrDcil12XrrVhmFTr5+OTpqztIzx\n",
       "Wya1CVI/j5a98zcQfqOQ0pmhG7tqV+BF8B5Ilx1+0QL821dHx82ZjI7VE8JvutTmsxAcP00yoOO2\n",
       "t/g9F7+HMmAPVCHrXOWksO/LUrrTwdUMPNdjUk6a3xJWNDdDPEP4kUAXym8GHx2dNGcyOsxh/OZI\n",
       "DYN8f4goqOIGllHtv0Zt2FbfhKxgVoyzNkj8uJQudHA1A8/1wnQB7KoLBgjcDctzhB8RzaMZ7UM/\n",
       "HZ00ZzI6Nn8Iv3slvyTI99fkDThWAUX8QH+2ki5SOZxkZS390ekwKPHjUrrQFzeTlXRymg1P8je6\n",
       "44o9B55En50Hvm4SflgmB2PSwCU/HZ02pzI6fnTCT0KQCvT9Sfn93eOgil+FSqEak8Nx1qOlT0L3\n",
       "7ObnSOlCX9TMo6Tj0+y7Uyvp+9iPNqhMnig00dH32TK6XqH89Iq0xQT6/m5EiqDOVPJL9SR7mRyO\n",
       "sx4t/Ri8RdVw8ErpQl/UzKOk49NUhg/nvRGARME4yPiVCJzfZf10dNKcyeg4+oD5yVGIzRAkP/iO\n",
       "tIGYSn69y5kcTrPxHkcLRwc4rtWpGg4eKZ33pc1kJZ2cpjK8SklP1UIl0PddrVGZ/D38aykfHZ00\n",
       "pw4teeUikvO8eqENB8tvgztGbhRV/MLdT9lyOMkuwrI61cLRIQu3zilQNRw8Ujrvy5pFJSUdn6Yy\n",
       "vEpJD89dILont/CFt6b0X5zm9DUGzO9ptYUWFL+0dJ11Kn6/gZ/bcjjOEi3d8VyyhhnPUTUcvFI6\n",
       "70ubyUo6Pk1l+GCV9LRJ+aWlbyXo329Jvx8E5fo3WSvYcjjOYi1d4wu4ZoVqDzI1HLxSut2XNvMo\n",
       "6fg0leHHQEmPeCKwWqE1fu80/f2099VIL78HzvD4g511FPQIaHNLXv/XltKdDryZqKTzS4+Fku7l\n",
       "9wT92o2+3dfGr9XfT7v5jUb/Ha2UPgZK+tl+mZ+xkn3JIyPF/wJNa8Z/2gKsggAAAABJRU5ErkJg\n",
       "gg==\n",
       "\" style=\"display:inline;vertical-align:middle;\" /></a><br>"
      ],
      "text/plain": [
       "<IPython.core.display.HTML object>"
      ]
     },
     "metadata": {},
     "output_type": "display_data"
    }
   ],
   "source": [
    "not_exists_def = Forall(n, Forall((P, Q), \n",
    "                                Equals(general_notexists_Px_st_Qx, \n",
    "                                       Not(general_exists_Py_st_Qy)).with_wrap_after_operator()),\n",
    "                      domain=NaturalPos)"
   ]
  },
  {
   "cell_type": "code",
   "execution_count": 4,
   "metadata": {},
   "outputs": [
    {
     "name": "stdout",
     "output_type": "stream",
     "text": [
      "These axioms may now be imported from the theory package: proveit.logic.booleans.quantification.existence\n"
     ]
    }
   ],
   "source": [
    "%end axioms"
   ]
  },
  {
   "cell_type": "code",
   "execution_count": null,
   "metadata": {},
   "outputs": [],
   "source": []
  }
 ],
 "metadata": {
  "kernelspec": {
   "display_name": "Python 3",
   "language": "python",
   "name": "python3"
  }
 },
 "nbformat": 4,
 "nbformat_minor": 0
}