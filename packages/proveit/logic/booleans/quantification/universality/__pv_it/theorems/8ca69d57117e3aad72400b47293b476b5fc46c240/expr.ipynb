{
 "cells": [
  {
   "cell_type": "markdown",
   "metadata": {},
   "source": [
    "Expression of type <a class=\"ProveItLink\" href=\"../../../../../../../../../doc/html/api/proveit.Lambda.html\">Lambda</a>\n",
    "=======================\n",
    "# from the theory of <a class=\"ProveItLink\" href=\"../../../_theory_nbs_/theory.ipynb\">proveit.logic.booleans.quantification.universality</a>"
   ]
  },
  {
   "cell_type": "code",
   "execution_count": 1,
   "metadata": {},
   "outputs": [],
   "source": [
    "import proveit\n",
    "# Automation is not needed when building an expression:\n",
    "proveit.defaults.automation = False # This will speed things up.\n",
    "proveit.defaults.inline_pngs = False # Makes files smaller.\n",
    "%load_expr # Load the stored expression as 'stored_expr'\n",
    "# import Expression classes needed to build the expression\n",
    "from proveit import Conditional, Lambda, P, Q, R, m, n\n",
    "from proveit.logic import And, Forall, Implies, InSet\n",
    "from proveit.logic.booleans.quantification import general_bundled_forall_Pxy_if_Qx, general_nested_forall_Pxy_if_Qx\n",
    "from proveit.numbers import NaturalPos"
   ]
  },
  {
   "cell_type": "code",
   "execution_count": 2,
   "metadata": {},
   "outputs": [
    {
     "data": {
      "text/html": [
       "<strong id=\"expr\">expr:</strong> <a class=\"ProveItLink\" href=\"expr.ipynb\"><img src=\"expr.png\" style=\"display:inline;vertical-align:middle;\" /></a><br>"
      ],
      "text/plain": [
       "<IPython.core.display.HTML object>"
      ]
     },
     "metadata": {},
     "output_type": "display_data"
    }
   ],
   "source": [
    "# build up the expression from sub-expressions\n",
    "expr = Lambda([m, n], Conditional(Forall(instance_param_or_params = [P, Q, R], instance_expr = Implies(general_nested_forall_Pxy_if_Qx, general_bundled_forall_Pxy_if_Qx).with_wrapping_at(1)), And(InSet(m, NaturalPos), InSet(n, NaturalPos))))"
   ]
  },
  {
   "cell_type": "code",
   "execution_count": 3,
   "metadata": {},
   "outputs": [
    {
     "name": "stdout",
     "output_type": "stream",
     "text": [
      "Passed sanity check: expr matches stored_expr\n"
     ]
    }
   ],
   "source": [
    "# check that the built expression is the same as the stored expression\n",
    "assert expr == stored_expr\n",
    "assert expr._style_id == stored_expr._style_id\n",
    "print(\"Passed sanity check: expr matches stored_expr\")"
   ]
  },
  {
   "cell_type": "code",
   "execution_count": 4,
   "metadata": {},
   "outputs": [
    {
     "name": "stdout",
     "output_type": "stream",
     "text": [
      "\\left(m, n\\right) \\mapsto \\left\\{\\forall_{P, Q, R}~\\left(\\begin{array}{c} \\begin{array}{l} \\left[\\forall_{x_{1}, x_{2}, \\ldots, x_{m}~|~Q\\left(x_{1}, x_{2}, \\ldots, x_{m}\\right)}~\\left[\\forall_{y_{1}, y_{2}, \\ldots, y_{n}~|~R\\left(x_{1}, x_{2}, \\ldots, x_{m},y_{1}, y_{2}, \\ldots, y_{n}\\right)}~P\\left(x_{1}, x_{2}, \\ldots, x_{m},y_{1}, y_{2}, \\ldots, y_{n}\\right)\\right]\\right] \\\\  \\Rightarrow \\left[\\forall_{x_{1}, x_{2}, \\ldots, x_{m}, y_{1}, y_{2}, \\ldots, y_{n}~|~Q\\left(x_{1}, x_{2}, \\ldots, x_{m}\\right), R\\left(x_{1}, x_{2}, \\ldots, x_{m},y_{1}, y_{2}, \\ldots, y_{n}\\right)}~P\\left(x_{1}, x_{2}, \\ldots, x_{m},y_{1}, y_{2}, \\ldots, y_{n}\\right)\\right] \\end{array} \\end{array}\\right) \\textrm{ if } m \\in \\mathbb{N}^+ ,  n \\in \\mathbb{N}^+\\right..\n"
     ]
    }
   ],
   "source": [
    "# Show the LaTeX representation of the expression for convenience if you need it.\n",
    "print(stored_expr.latex())"
   ]
  },
  {
   "cell_type": "code",
   "execution_count": 5,
   "metadata": {},
   "outputs": [
    {
     "data": {
      "text/html": [
       "no style options"
      ],
      "text/plain": [
       "no style options"
      ]
     },
     "metadata": {},
     "output_type": "display_data"
    }
   ],
   "source": [
    "stored_expr.style_options()"
   ]
  },
  {
   "cell_type": "code",
   "execution_count": 6,
   "metadata": {},
   "outputs": [
    {
     "data": {
      "text/html": [
       "<table><tr><th>&nbsp;</th><th>core type</th><th>sub-expressions</th><th>expression</th></tr>\n",
       "<tr><td>0</td><td>Lambda</td><td>parameters:&nbsp;1<br>body:&nbsp;2<br></td><td><a class=\"ProveItLink\" href=\"expr.ipynb\"><img src=\"expr.png\" style=\"display:inline;vertical-align:middle;\" /></a></td></tr>\n",
       "<tr><td>1</td><td>ExprTuple</td><td>46, 49</td><td><a class=\"ProveItLink\" href=\"../05a1ed7149bdab455b0537bd9baa8c6aae03294c0/expr.ipynb\"><img src=\"../05a1ed7149bdab455b0537bd9baa8c6aae03294c0/expr.png\" style=\"display:inline;vertical-align:middle;\" /></a></td></tr>\n",
       "<tr><td>2</td><td>Conditional</td><td>value:&nbsp;3<br>condition:&nbsp;4<br></td><td><a class=\"ProveItLink\" href=\"../275d63a72f0b0a61021fc7afa7b9a325e68a9b420/expr.ipynb\"><img src=\"../275d63a72f0b0a61021fc7afa7b9a325e68a9b420/expr.png\" style=\"display:inline;vertical-align:middle;\" /></a></td></tr>\n",
       "<tr><td>3</td><td>Operation</td><td>operator:&nbsp;28<br>operand:&nbsp;7<br></td><td><a class=\"ProveItLink\" href=\"../0a19aae7b159d588329a4592106e01baa25ea5ab0/expr.ipynb\"><img src=\"../0a19aae7b159d588329a4592106e01baa25ea5ab0/expr.png\" style=\"display:inline;vertical-align:middle;\" /></a></td></tr>\n",
       "<tr><td>4</td><td>Operation</td><td>operator:&nbsp;30<br>operands:&nbsp;6<br></td><td><a class=\"ProveItLink\" href=\"../3ac138a03840d6f0b7448249da5c06efd69f5dbd0/expr.ipynb\"><img src=\"../3ac138a03840d6f0b7448249da5c06efd69f5dbd0/expr.png\" style=\"display:inline;vertical-align:middle;\" /></a></td></tr>\n",
       "<tr><td>5</td><td>ExprTuple</td><td>7</td><td><a class=\"ProveItLink\" href=\"../d4a87c1d699024974ae4f4c23965625c1d6eabec0/expr.ipynb\"><img src=\"../d4a87c1d699024974ae4f4c23965625c1d6eabec0/expr.png\" style=\"display:inline;vertical-align:middle;\" /></a></td></tr>\n",
       "<tr><td>6</td><td>ExprTuple</td><td>8, 9</td><td><a class=\"ProveItLink\" href=\"../59c98b751c09f887990cd686af7f00c4d21137b80/expr.ipynb\"><img src=\"../59c98b751c09f887990cd686af7f00c4d21137b80/expr.png\" style=\"display:inline;vertical-align:middle;\" /></a></td></tr>\n",
       "<tr><td>7</td><td>Lambda</td><td>parameters:&nbsp;10<br>body:&nbsp;11<br></td><td><a class=\"ProveItLink\" href=\"../6ace522d5851d3d8c17e283084f01656c952e7d20/expr.ipynb\"><img src=\"../6ace522d5851d3d8c17e283084f01656c952e7d20/expr.png\" style=\"display:inline;vertical-align:middle;\" /></a></td></tr>\n",
       "<tr><td>8</td><td>Operation</td><td>operator:&nbsp;13<br>operands:&nbsp;12<br></td><td><a class=\"ProveItLink\" href=\"../79a768603778550c651661670153c27ee0a505870/expr.ipynb\"><img src=\"../79a768603778550c651661670153c27ee0a505870/expr.png\" style=\"display:inline;vertical-align:middle;\" /></a></td></tr>\n",
       "<tr><td>9</td><td>Operation</td><td>operator:&nbsp;13<br>operands:&nbsp;14<br></td><td><a class=\"ProveItLink\" href=\"../c3c0a0522590e024022c8052cabac138164190560/expr.ipynb\"><img src=\"../c3c0a0522590e024022c8052cabac138164190560/expr.png\" style=\"display:inline;vertical-align:middle;\" /></a></td></tr>\n",
       "<tr><td>10</td><td>ExprTuple</td><td>40, 36, 41</td><td><a class=\"ProveItLink\" href=\"../8e6242785881a58a87c57f38ae1078ff93387fd80/expr.ipynb\"><img src=\"../8e6242785881a58a87c57f38ae1078ff93387fd80/expr.png\" style=\"display:inline;vertical-align:middle;\" /></a></td></tr>\n",
       "<tr><td>11</td><td>Operation</td><td>operator:&nbsp;15<br>operands:&nbsp;16<br></td><td><a class=\"ProveItLink\" href=\"../3b6a5cedac15140417fb00955b16074709f233900/expr.ipynb\"><img src=\"../3b6a5cedac15140417fb00955b16074709f233900/expr.png\" style=\"display:inline;vertical-align:middle;\" /></a></td></tr>\n",
       "<tr><td>12</td><td>ExprTuple</td><td>46, 17</td><td><a class=\"ProveItLink\" href=\"../0aafde61e876ad81c8138546f58d9459d893af050/expr.ipynb\"><img src=\"../0aafde61e876ad81c8138546f58d9459d893af050/expr.png\" style=\"display:inline;vertical-align:middle;\" /></a></td></tr>\n",
       "<tr><td>13</td><td>Literal</td><td></td><td><a class=\"ProveItLink\" href=\"../../../../../../sets/membership/__pv_it/common/477487d8796864d23d5810f83761435f25167f690/expr.ipynb\"><img src=\"../../../../../../sets/membership/__pv_it/common/477487d8796864d23d5810f83761435f25167f690/expr.png\" style=\"display:inline;vertical-align:middle;\" /></a></td></tr>\n",
       "<tr><td>14</td><td>ExprTuple</td><td>49, 17</td><td><a class=\"ProveItLink\" href=\"../4459dda147b56e10026c83203ced1bc32b9704ab0/expr.ipynb\"><img src=\"../4459dda147b56e10026c83203ced1bc32b9704ab0/expr.png\" style=\"display:inline;vertical-align:middle;\" /></a></td></tr>\n",
       "<tr><td>15</td><td>Literal</td><td></td><td><a class=\"ProveItLink\" href=\"../../../../../implication/__pv_it/common/02bdb382575728da8cdbaed545b9096ea7a1bd5b0/expr.ipynb\"><img src=\"../../../../../implication/__pv_it/common/02bdb382575728da8cdbaed545b9096ea7a1bd5b0/expr.png\" style=\"display:inline;vertical-align:middle;\" /></a></td></tr>\n",
       "<tr><td>16</td><td>ExprTuple</td><td>18, 19</td><td><a class=\"ProveItLink\" href=\"../52f4044a4105025db72ef69a65b58ca553f69e860/expr.ipynb\"><img src=\"../52f4044a4105025db72ef69a65b58ca553f69e860/expr.png\" style=\"display:inline;vertical-align:middle;\" /></a></td></tr>\n",
       "<tr><td>17</td><td>Literal</td><td></td><td><a class=\"ProveItLink\" href=\"../../../../../../../numbers/number_sets/natural_numbers/__pv_it/common/6111329435c43892c831c4793de96afbf80bdb3e0/expr.ipynb\"><img src=\"../../../../../../../numbers/number_sets/natural_numbers/__pv_it/common/6111329435c43892c831c4793de96afbf80bdb3e0/expr.png\" style=\"display:inline;vertical-align:middle;\" /></a></td></tr>\n",
       "<tr><td>18</td><td>Operation</td><td>operator:&nbsp;28<br>operand:&nbsp;22<br></td><td><a class=\"ProveItLink\" href=\"../../../../__pv_it/common/bcf6e911fe04263899a75a6f8b2b61654d4e44510/expr.ipynb\"><img src=\"../../../../__pv_it/common/bcf6e911fe04263899a75a6f8b2b61654d4e44510/expr.png\" style=\"display:inline;vertical-align:middle;\" /></a></td></tr>\n",
       "<tr><td>19</td><td>Operation</td><td>operator:&nbsp;28<br>operand:&nbsp;23<br></td><td><a class=\"ProveItLink\" href=\"../../../../__pv_it/common/912bfa96818750d667efbd1eb97d22447b571e5d0/expr.ipynb\"><img src=\"../../../../__pv_it/common/912bfa96818750d667efbd1eb97d22447b571e5d0/expr.png\" style=\"display:inline;vertical-align:middle;\" /></a></td></tr>\n",
       "<tr><td>20</td><td>ExprTuple</td><td>22</td><td><a class=\"ProveItLink\" href=\"../../../../__pv_it/common/8ae7a8a3581954ffe02af8b0cfd70154e9a4aec30/expr.ipynb\"><img src=\"../../../../__pv_it/common/8ae7a8a3581954ffe02af8b0cfd70154e9a4aec30/expr.png\" style=\"display:inline;vertical-align:middle;\" /></a></td></tr>\n",
       "<tr><td>21</td><td>ExprTuple</td><td>23</td><td><a class=\"ProveItLink\" href=\"../../../../__pv_it/common/5ab35c29a133d28081cb6daff17f9e3ff2f8a5d00/expr.ipynb\"><img src=\"../../../../__pv_it/common/5ab35c29a133d28081cb6daff17f9e3ff2f8a5d00/expr.png\" style=\"display:inline;vertical-align:middle;\" /></a></td></tr>\n",
       "<tr><td>22</td><td>Lambda</td><td>parameters:&nbsp;37<br>body:&nbsp;24<br></td><td><a class=\"ProveItLink\" href=\"../../../../__pv_it/common/965c90dc77b34e783bf7ffd3d20c54ac8d8bac440/expr.ipynb\"><img src=\"../../../../__pv_it/common/965c90dc77b34e783bf7ffd3d20c54ac8d8bac440/expr.png\" style=\"display:inline;vertical-align:middle;\" /></a></td></tr>\n",
       "<tr><td>23</td><td>Lambda</td><td>parameters:&nbsp;42<br>body:&nbsp;25<br></td><td><a class=\"ProveItLink\" href=\"../../../../__pv_it/common/6b37619ef14168965c09cd53bbaf62e40f3105a90/expr.ipynb\"><img src=\"../../../../__pv_it/common/6b37619ef14168965c09cd53bbaf62e40f3105a90/expr.png\" style=\"display:inline;vertical-align:middle;\" /></a></td></tr>\n",
       "<tr><td>24</td><td>Conditional</td><td>value:&nbsp;26<br>condition:&nbsp;33<br></td><td><a class=\"ProveItLink\" href=\"../../../../__pv_it/common/f1e1fe306a208781951aa231d547115029e42e040/expr.ipynb\"><img src=\"../../../../__pv_it/common/f1e1fe306a208781951aa231d547115029e42e040/expr.png\" style=\"display:inline;vertical-align:middle;\" /></a></td></tr>\n",
       "<tr><td>25</td><td>Conditional</td><td>value:&nbsp;38<br>condition:&nbsp;27<br></td><td><a class=\"ProveItLink\" href=\"../../../../__pv_it/common/72d5cfdda48127c1fc588adc106658c2641717ee0/expr.ipynb\"><img src=\"../../../../__pv_it/common/72d5cfdda48127c1fc588adc106658c2641717ee0/expr.png\" style=\"display:inline;vertical-align:middle;\" /></a></td></tr>\n",
       "<tr><td>26</td><td>Operation</td><td>operator:&nbsp;28<br>operand:&nbsp;32<br></td><td><a class=\"ProveItLink\" href=\"../../../../__pv_it/common/dd1f6c2a5f5dfac0b65c7c121ff7c862a8dc97f30/expr.ipynb\"><img src=\"../../../../__pv_it/common/dd1f6c2a5f5dfac0b65c7c121ff7c862a8dc97f30/expr.png\" style=\"display:inline;vertical-align:middle;\" /></a></td></tr>\n",
       "<tr><td>27</td><td>Operation</td><td>operator:&nbsp;30<br>operands:&nbsp;31<br></td><td><a class=\"ProveItLink\" href=\"../../../../__pv_it/common/fbc3bf9fb3488cb19c0923a3ddac3e4aa7d153750/expr.ipynb\"><img src=\"../../../../__pv_it/common/fbc3bf9fb3488cb19c0923a3ddac3e4aa7d153750/expr.png\" style=\"display:inline;vertical-align:middle;\" /></a></td></tr>\n",
       "<tr><td>28</td><td>Literal</td><td></td><td><a class=\"ProveItLink\" href=\"../../common/083d2baa0b8ecab1d230f9ec29a15aa1355809fb0/expr.ipynb\"><img src=\"../../common/083d2baa0b8ecab1d230f9ec29a15aa1355809fb0/expr.png\" style=\"display:inline;vertical-align:middle;\" /></a></td></tr>\n",
       "<tr><td>29</td><td>ExprTuple</td><td>32</td><td><a class=\"ProveItLink\" href=\"../../../../__pv_it/common/e6d5c98d0481fc786fce3b6f6192f6dc4b0e00030/expr.ipynb\"><img src=\"../../../../__pv_it/common/e6d5c98d0481fc786fce3b6f6192f6dc4b0e00030/expr.png\" style=\"display:inline;vertical-align:middle;\" /></a></td></tr>\n",
       "<tr><td>30</td><td>Literal</td><td></td><td><a class=\"ProveItLink\" href=\"../../../../../conjunction/__pv_it/common/42118ff318bd65d98b1393f64ce7c2269feef76e0/expr.ipynb\"><img src=\"../../../../../conjunction/__pv_it/common/42118ff318bd65d98b1393f64ce7c2269feef76e0/expr.png\" style=\"display:inline;vertical-align:middle;\" /></a></td></tr>\n",
       "<tr><td>31</td><td>ExprTuple</td><td>33, 39</td><td><a class=\"ProveItLink\" href=\"../../../../__pv_it/common/765c86e0d7a3ddbc5cc63c24094556d9ef7506870/expr.ipynb\"><img src=\"../../../../__pv_it/common/765c86e0d7a3ddbc5cc63c24094556d9ef7506870/expr.png\" style=\"display:inline;vertical-align:middle;\" /></a></td></tr>\n",
       "<tr><td>32</td><td>Lambda</td><td>parameters:&nbsp;34<br>body:&nbsp;35<br></td><td><a class=\"ProveItLink\" href=\"../../../../__pv_it/common/007b4d8f696c3434d5e459cec9279117005534c10/expr.ipynb\"><img src=\"../../../../__pv_it/common/007b4d8f696c3434d5e459cec9279117005534c10/expr.png\" style=\"display:inline;vertical-align:middle;\" /></a></td></tr>\n",
       "<tr><td>33</td><td>Operation</td><td>operator:&nbsp;36<br>operands:&nbsp;37<br></td><td><a class=\"ProveItLink\" href=\"../../../../../../../core_expr_types/__pv_it/common/11d3710a2609c1fd8b6a9def2ef1d65fd8de88d20/expr.ipynb\"><img src=\"../../../../../../../core_expr_types/__pv_it/common/11d3710a2609c1fd8b6a9def2ef1d65fd8de88d20/expr.png\" style=\"display:inline;vertical-align:middle;\" /></a></td></tr>\n",
       "<tr><td>34</td><td>ExprTuple</td><td>44</td><td><a class=\"ProveItLink\" href=\"../../../../../../../core_expr_types/__pv_it/common/3e6f103b1536f1d5f586682ee3b57d9899deba720/expr.ipynb\"><img src=\"../../../../../../../core_expr_types/__pv_it/common/3e6f103b1536f1d5f586682ee3b57d9899deba720/expr.png\" style=\"display:inline;vertical-align:middle;\" /></a></td></tr>\n",
       "<tr><td>35</td><td>Conditional</td><td>value:&nbsp;38<br>condition:&nbsp;39<br></td><td><a class=\"ProveItLink\" href=\"../../../../__pv_it/common/d4c63a9914c4c6e202070a162ecf3dd980656e5d0/expr.ipynb\"><img src=\"../../../../__pv_it/common/d4c63a9914c4c6e202070a162ecf3dd980656e5d0/expr.png\" style=\"display:inline;vertical-align:middle;\" /></a></td></tr>\n",
       "<tr><td>36</td><td>Variable</td><td></td><td><a class=\"ProveItLink\" href=\"../../../../../../../__pv_it/common/d72bb8b07403efe79afab564c36a28e21330e5f90/expr.ipynb\"><img src=\"../../../../../../../__pv_it/common/d72bb8b07403efe79afab564c36a28e21330e5f90/expr.png\" style=\"display:inline;vertical-align:middle;\" /></a></td></tr>\n",
       "<tr><td>37</td><td>ExprTuple</td><td>43</td><td><a class=\"ProveItLink\" href=\"../../../../../../../core_expr_types/__pv_it/common/d10e62cce1fac714c7e71938b0231232f67178f80/expr.ipynb\"><img src=\"../../../../../../../core_expr_types/__pv_it/common/d10e62cce1fac714c7e71938b0231232f67178f80/expr.png\" style=\"display:inline;vertical-align:middle;\" /></a></td></tr>\n",
       "<tr><td>38</td><td>Operation</td><td>operator:&nbsp;40<br>operands:&nbsp;42<br></td><td><a class=\"ProveItLink\" href=\"../../../../../../../core_expr_types/__pv_it/common/c03746506535a5b9b9bc4606ba23d6af8c1dbe5d0/expr.ipynb\"><img src=\"../../../../../../../core_expr_types/__pv_it/common/c03746506535a5b9b9bc4606ba23d6af8c1dbe5d0/expr.png\" style=\"display:inline;vertical-align:middle;\" /></a></td></tr>\n",
       "<tr><td>39</td><td>Operation</td><td>operator:&nbsp;41<br>operands:&nbsp;42<br></td><td><a class=\"ProveItLink\" href=\"../../../../../../../core_expr_types/__pv_it/common/081fd26d60b6b74d35dbbd36f9f0637bb7b0c2630/expr.ipynb\"><img src=\"../../../../../../../core_expr_types/__pv_it/common/081fd26d60b6b74d35dbbd36f9f0637bb7b0c2630/expr.png\" style=\"display:inline;vertical-align:middle;\" /></a></td></tr>\n",
       "<tr><td>40</td><td>Variable</td><td></td><td><a class=\"ProveItLink\" href=\"../../../../../../../__pv_it/common/de55da274ba0f49c86925fbf3828021c04d27faf0/expr.ipynb\"><img src=\"../../../../../../../__pv_it/common/de55da274ba0f49c86925fbf3828021c04d27faf0/expr.png\" style=\"display:inline;vertical-align:middle;\" /></a></td></tr>\n",
       "<tr><td>41</td><td>Variable</td><td></td><td><a class=\"ProveItLink\" href=\"../../../../../../../__pv_it/common/647ca33d6b96e29d5aa85a15d2241c7ebd0c6e4b0/expr.ipynb\"><img src=\"../../../../../../../__pv_it/common/647ca33d6b96e29d5aa85a15d2241c7ebd0c6e4b0/expr.png\" style=\"display:inline;vertical-align:middle;\" /></a></td></tr>\n",
       "<tr><td>42</td><td>ExprTuple</td><td>43, 44</td><td><a class=\"ProveItLink\" href=\"../../../../../../../core_expr_types/__pv_it/common/9e4143b282751885407edd3e4535eb7c981811ea0/expr.ipynb\"><img src=\"../../../../../../../core_expr_types/__pv_it/common/9e4143b282751885407edd3e4535eb7c981811ea0/expr.png\" style=\"display:inline;vertical-align:middle;\" /></a></td></tr>\n",
       "<tr><td>43</td><td>ExprRange</td><td>lambda_map:&nbsp;45<br>start_index:&nbsp;48<br>end_index:&nbsp;46<br></td><td><a class=\"ProveItLink\" href=\"../../../../../../../core_expr_types/__pv_it/common/6024a41cfaf972bdb338175c21c197d8e61f5ed20/expr.ipynb\"><img src=\"../../../../../../../core_expr_types/__pv_it/common/6024a41cfaf972bdb338175c21c197d8e61f5ed20/expr.png\" style=\"display:inline;vertical-align:middle;\" /></a></td></tr>\n",
       "<tr><td>44</td><td>ExprRange</td><td>lambda_map:&nbsp;47<br>start_index:&nbsp;48<br>end_index:&nbsp;49<br></td><td><a class=\"ProveItLink\" href=\"../../../../../../../core_expr_types/__pv_it/common/bcf5ce1b1593e9c2c261618d94fd21c2cd04eae40/expr.ipynb\"><img src=\"../../../../../../../core_expr_types/__pv_it/common/bcf5ce1b1593e9c2c261618d94fd21c2cd04eae40/expr.png\" style=\"display:inline;vertical-align:middle;\" /></a></td></tr>\n",
       "<tr><td>45</td><td>Lambda</td><td>parameter:&nbsp;55<br>body:&nbsp;50<br></td><td><a class=\"ProveItLink\" href=\"../../../../../../../core_expr_types/__pv_it/common/f8f30fee5e5b4e37951ff8886b574795bf35d80c0/expr.ipynb\"><img src=\"../../../../../../../core_expr_types/__pv_it/common/f8f30fee5e5b4e37951ff8886b574795bf35d80c0/expr.png\" style=\"display:inline;vertical-align:middle;\" /></a></td></tr>\n",
       "<tr><td>46</td><td>Variable</td><td></td><td><a class=\"ProveItLink\" href=\"../../../../../../../__pv_it/common/674a03b9c3ca221b3aabd5636837b31528ff33830/expr.ipynb\"><img src=\"../../../../../../../__pv_it/common/674a03b9c3ca221b3aabd5636837b31528ff33830/expr.png\" style=\"display:inline;vertical-align:middle;\" /></a></td></tr>\n",
       "<tr><td>47</td><td>Lambda</td><td>parameter:&nbsp;55<br>body:&nbsp;51<br></td><td><a class=\"ProveItLink\" href=\"../../../../../../../core_expr_types/__pv_it/common/47ca082a5e3217d68f414fa9b5fb4cf7b07e06430/expr.ipynb\"><img src=\"../../../../../../../core_expr_types/__pv_it/common/47ca082a5e3217d68f414fa9b5fb4cf7b07e06430/expr.png\" style=\"display:inline;vertical-align:middle;\" /></a></td></tr>\n",
       "<tr><td>48</td><td>Literal</td><td></td><td><a class=\"ProveItLink\" href=\"../../../../../../../numbers/numerals/__pv_it/common/682157d4892d216d9e5626ed533aff9b56b9506e0/expr.ipynb\"><img src=\"../../../../../../../numbers/numerals/__pv_it/common/682157d4892d216d9e5626ed533aff9b56b9506e0/expr.png\" style=\"display:inline;vertical-align:middle;\" /></a></td></tr>\n",
       "<tr><td>49</td><td>Variable</td><td></td><td><a class=\"ProveItLink\" href=\"../../../../../../../__pv_it/common/8968bb04eb3f7dfa02353397ce929b025bbd79c20/expr.ipynb\"><img src=\"../../../../../../../__pv_it/common/8968bb04eb3f7dfa02353397ce929b025bbd79c20/expr.png\" style=\"display:inline;vertical-align:middle;\" /></a></td></tr>\n",
       "<tr><td>50</td><td>IndexedVar</td><td>variable:&nbsp;52<br>index:&nbsp;55<br></td><td><a class=\"ProveItLink\" href=\"../../../../../../../core_expr_types/__pv_it/common/b7a46615d4e67a28ab963909b818c72af8e8e7c60/expr.ipynb\"><img src=\"../../../../../../../core_expr_types/__pv_it/common/b7a46615d4e67a28ab963909b818c72af8e8e7c60/expr.png\" style=\"display:inline;vertical-align:middle;\" /></a></td></tr>\n",
       "<tr><td>51</td><td>IndexedVar</td><td>variable:&nbsp;53<br>index:&nbsp;55<br></td><td><a class=\"ProveItLink\" href=\"../../../../../../../core_expr_types/__pv_it/common/dd83f4522fafc6cf7fa80e461f3330c821446f0a0/expr.ipynb\"><img src=\"../../../../../../../core_expr_types/__pv_it/common/dd83f4522fafc6cf7fa80e461f3330c821446f0a0/expr.png\" style=\"display:inline;vertical-align:middle;\" /></a></td></tr>\n",
       "<tr><td>52</td><td>Variable</td><td></td><td><a class=\"ProveItLink\" href=\"../../../../../../../__pv_it/common/a0d9d672aa5e272d907247690c152cc2c6daafb70/expr.ipynb\"><img src=\"../../../../../../../__pv_it/common/a0d9d672aa5e272d907247690c152cc2c6daafb70/expr.png\" style=\"display:inline;vertical-align:middle;\" /></a></td></tr>\n",
       "<tr><td>53</td><td>Variable</td><td></td><td><a class=\"ProveItLink\" href=\"../../../../../../../__pv_it/common/ff7dba4ef0bbe791ab573bf2d9c220a304399ac80/expr.ipynb\"><img src=\"../../../../../../../__pv_it/common/ff7dba4ef0bbe791ab573bf2d9c220a304399ac80/expr.png\" style=\"display:inline;vertical-align:middle;\" /></a></td></tr>\n",
       "<tr><td>54</td><td>ExprTuple</td><td>55</td><td><a class=\"ProveItLink\" href=\"../../../../../../../core_expr_types/__pv_it/common/4b0dd6be36d76552eda6a95d5b4a27f5a5b62f900/expr.ipynb\"><img src=\"../../../../../../../core_expr_types/__pv_it/common/4b0dd6be36d76552eda6a95d5b4a27f5a5b62f900/expr.png\" style=\"display:inline;vertical-align:middle;\" /></a></td></tr>\n",
       "<tr><td>55</td><td>Variable</td><td></td><td><a class=\"ProveItLink\" href=\"../../../../../../../core_expr_types/__pv_it/common/006c465e50948aa2b52285e2de47974f741255cc0/expr.ipynb\"><img src=\"../../../../../../../core_expr_types/__pv_it/common/006c465e50948aa2b52285e2de47974f741255cc0/expr.png\" style=\"display:inline;vertical-align:middle;\" /></a></td></tr>\n",
       "</table>\n"
      ],
      "text/plain": [
       "0. (m, n) -> {forall_{P, Q, R} ([forall_{x_{1}, x_{2}, ..., x_{m} | Q(x_{1}, x_{2}, ..., x_{m})} [forall_{y_{1}, y_{2}, ..., y_{n} | R(x_{1}, x_{2}, ..., x_{m},y_{1}, y_{2}, ..., y_{n})} P(x_{1}, x_{2}, ..., x_{m},y_{1}, y_{2}, ..., y_{n})]] \\\\  => [forall_{x_{1}, x_{2}, ..., x_{m}, y_{1}, y_{2}, ..., y_{n} | Q(x_{1}, x_{2}, ..., x_{m}), R(x_{1}, x_{2}, ..., x_{m},y_{1}, y_{2}, ..., y_{n})} P(x_{1}, x_{2}, ..., x_{m},y_{1}, y_{2}, ..., y_{n})]) if m in NaturalPos ,  n in NaturalPos.\n",
       "   core type: Lambda\n",
       "   parameters: 1\\n   body: 2\n",
       "1. (m, n)\n",
       "   core type: ExprTuple\n",
       "   sub-expressions: 46, 49\n",
       "2. {forall_{P, Q, R} ([forall_{x_{1}, x_{2}, ..., x_{m} | Q(x_{1}, x_{2}, ..., x_{m})} [forall_{y_{1}, y_{2}, ..., y_{n} | R(x_{1}, x_{2}, ..., x_{m},y_{1}, y_{2}, ..., y_{n})} P(x_{1}, x_{2}, ..., x_{m},y_{1}, y_{2}, ..., y_{n})]] \\\\  => [forall_{x_{1}, x_{2}, ..., x_{m}, y_{1}, y_{2}, ..., y_{n} | Q(x_{1}, x_{2}, ..., x_{m}), R(x_{1}, x_{2}, ..., x_{m},y_{1}, y_{2}, ..., y_{n})} P(x_{1}, x_{2}, ..., x_{m},y_{1}, y_{2}, ..., y_{n})]) if m in NaturalPos ,  n in NaturalPos.\n",
       "   core type: Conditional\n",
       "   value: 3\n",
       "   condition: 4\n",
       "3. forall_{P, Q, R} ([forall_{x_{1}, x_{2}, ..., x_{m} | Q(x_{1}, x_{2}, ..., x_{m})} [forall_{y_{1}, y_{2}, ..., y_{n} | R(x_{1}, x_{2}, ..., x_{m},y_{1}, y_{2}, ..., y_{n})} P(x_{1}, x_{2}, ..., x_{m},y_{1}, y_{2}, ..., y_{n})]] \\\\  => [forall_{x_{1}, x_{2}, ..., x_{m}, y_{1}, y_{2}, ..., y_{n} | Q(x_{1}, x_{2}, ..., x_{m}), R(x_{1}, x_{2}, ..., x_{m},y_{1}, y_{2}, ..., y_{n})} P(x_{1}, x_{2}, ..., x_{m},y_{1}, y_{2}, ..., y_{n})])\n",
       "   core type: Operation\n",
       "   operator: 28\n",
       "   operand: 7\n",
       "4. (m in NaturalPos) and (n in NaturalPos)\n",
       "   core type: Operation\n",
       "   operator: 30\n",
       "   operands: 6\n",
       "5. ((P, Q, R) -> ([forall_{x_{1}, x_{2}, ..., x_{m} | Q(x_{1}, x_{2}, ..., x_{m})} [forall_{y_{1}, y_{2}, ..., y_{n} | R(x_{1}, x_{2}, ..., x_{m},y_{1}, y_{2}, ..., y_{n})} P(x_{1}, x_{2}, ..., x_{m},y_{1}, y_{2}, ..., y_{n})]] \\\\  => [forall_{x_{1}, x_{2}, ..., x_{m}, y_{1}, y_{2}, ..., y_{n} | Q(x_{1}, x_{2}, ..., x_{m}), R(x_{1}, x_{2}, ..., x_{m},y_{1}, y_{2}, ..., y_{n})} P(x_{1}, x_{2}, ..., x_{m},y_{1}, y_{2}, ..., y_{n})]))\n",
       "   core type: ExprTuple\n",
       "   sub-expressions: 7\n",
       "6. (m in NaturalPos, n in NaturalPos)\n",
       "   core type: ExprTuple\n",
       "   sub-expressions: 8, 9\n",
       "7. (P, Q, R) -> ([forall_{x_{1}, x_{2}, ..., x_{m} | Q(x_{1}, x_{2}, ..., x_{m})} [forall_{y_{1}, y_{2}, ..., y_{n} | R(x_{1}, x_{2}, ..., x_{m},y_{1}, y_{2}, ..., y_{n})} P(x_{1}, x_{2}, ..., x_{m},y_{1}, y_{2}, ..., y_{n})]] \\\\  => [forall_{x_{1}, x_{2}, ..., x_{m}, y_{1}, y_{2}, ..., y_{n} | Q(x_{1}, x_{2}, ..., x_{m}), R(x_{1}, x_{2}, ..., x_{m},y_{1}, y_{2}, ..., y_{n})} P(x_{1}, x_{2}, ..., x_{m},y_{1}, y_{2}, ..., y_{n})])\n",
       "   core type: Lambda\n",
       "   parameters: 10\\n   body: 11\n",
       "8. m in NaturalPos\n",
       "   core type: Operation\n",
       "   operator: 13\n",
       "   operands: 12\n",
       "9. n in NaturalPos\n",
       "   core type: Operation\n",
       "   operator: 13\n",
       "   operands: 14\n",
       "10. (P, Q, R)\n",
       "    core type: ExprTuple\n",
       "    sub-expressions: 40, 36, 41\n",
       "11. [forall_{x_{1}, x_{2}, ..., x_{m} | Q(x_{1}, x_{2}, ..., x_{m})} [forall_{y_{1}, y_{2}, ..., y_{n} | R(x_{1}, x_{2}, ..., x_{m},y_{1}, y_{2}, ..., y_{n})} P(x_{1}, x_{2}, ..., x_{m},y_{1}, y_{2}, ..., y_{n})]] \\\\  => [forall_{x_{1}, x_{2}, ..., x_{m}, y_{1}, y_{2}, ..., y_{n} | Q(x_{1}, x_{2}, ..., x_{m}), R(x_{1}, x_{2}, ..., x_{m},y_{1}, y_{2}, ..., y_{n})} P(x_{1}, x_{2}, ..., x_{m},y_{1}, y_{2}, ..., y_{n})]\n",
       "    core type: Operation\n",
       "    operator: 15\n",
       "    operands: 16\n",
       "12. (m, NaturalPos)\n",
       "    core type: ExprTuple\n",
       "    sub-expressions: 46, 17\n",
       "13. in\n",
       "    core type: Literal\n",
       "    sub-expressions: \n",
       "14. (n, NaturalPos)\n",
       "    core type: ExprTuple\n",
       "    sub-expressions: 49, 17\n",
       "15. =>\n",
       "    core type: Literal\n",
       "    sub-expressions: \n",
       "16. (forall_{x_{1}, x_{2}, ..., x_{m} | Q(x_{1}, x_{2}, ..., x_{m})} [forall_{y_{1}, y_{2}, ..., y_{n} | R(x_{1}, x_{2}, ..., x_{m},y_{1}, y_{2}, ..., y_{n})} P(x_{1}, x_{2}, ..., x_{m},y_{1}, y_{2}, ..., y_{n})], forall_{x_{1}, x_{2}, ..., x_{m}, y_{1}, y_{2}, ..., y_{n} | Q(x_{1}, x_{2}, ..., x_{m}), R(x_{1}, x_{2}, ..., x_{m},y_{1}, y_{2}, ..., y_{n})} P(x_{1}, x_{2}, ..., x_{m},y_{1}, y_{2}, ..., y_{n}))\n",
       "    core type: ExprTuple\n",
       "    sub-expressions: 18, 19\n",
       "17. NaturalPos\n",
       "    core type: Literal\n",
       "    sub-expressions: \n",
       "18. forall_{x_{1}, x_{2}, ..., x_{m} | Q(x_{1}, x_{2}, ..., x_{m})} [forall_{y_{1}, y_{2}, ..., y_{n} | R(x_{1}, x_{2}, ..., x_{m},y_{1}, y_{2}, ..., y_{n})} P(x_{1}, x_{2}, ..., x_{m},y_{1}, y_{2}, ..., y_{n})]\n",
       "    core type: Operation\n",
       "    operator: 28\n",
       "    operand: 22\n",
       "19. forall_{x_{1}, x_{2}, ..., x_{m}, y_{1}, y_{2}, ..., y_{n} | Q(x_{1}, x_{2}, ..., x_{m}), R(x_{1}, x_{2}, ..., x_{m},y_{1}, y_{2}, ..., y_{n})} P(x_{1}, x_{2}, ..., x_{m},y_{1}, y_{2}, ..., y_{n})\n",
       "    core type: Operation\n",
       "    operator: 28\n",
       "    operand: 23\n",
       "20. ((x_{1}, x_{2}, ..., x_{m}) -> {forall_{y_{1}, y_{2}, ..., y_{n} | R(x_{1}, x_{2}, ..., x_{m},y_{1}, y_{2}, ..., y_{n})} P(x_{1}, x_{2}, ..., x_{m},y_{1}, y_{2}, ..., y_{n}) if Q(x_{1}, x_{2}, ..., x_{m}).)\n",
       "    core type: ExprTuple\n",
       "    sub-expressions: 22\n",
       "21. ((x_{1}, x_{2}, ..., x_{m}, y_{1}, y_{2}, ..., y_{n}) -> {P(x_{1}, x_{2}, ..., x_{m},y_{1}, y_{2}, ..., y_{n}) if Q(x_{1}, x_{2}, ..., x_{m}) ,  R(x_{1}, x_{2}, ..., x_{m},y_{1}, y_{2}, ..., y_{n}).)\n",
       "    core type: ExprTuple\n",
       "    sub-expressions: 23\n",
       "22. (x_{1}, x_{2}, ..., x_{m}) -> {forall_{y_{1}, y_{2}, ..., y_{n} | R(x_{1}, x_{2}, ..., x_{m},y_{1}, y_{2}, ..., y_{n})} P(x_{1}, x_{2}, ..., x_{m},y_{1}, y_{2}, ..., y_{n}) if Q(x_{1}, x_{2}, ..., x_{m}).\n",
       "    core type: Lambda\n",
       "    parameters: 37\\n    body: 24\n",
       "23. (x_{1}, x_{2}, ..., x_{m}, y_{1}, y_{2}, ..., y_{n}) -> {P(x_{1}, x_{2}, ..., x_{m},y_{1}, y_{2}, ..., y_{n}) if Q(x_{1}, x_{2}, ..., x_{m}) ,  R(x_{1}, x_{2}, ..., x_{m},y_{1}, y_{2}, ..., y_{n}).\n",
       "    core type: Lambda\n",
       "    parameters: 42\\n    body: 25\n",
       "24. {forall_{y_{1}, y_{2}, ..., y_{n} | R(x_{1}, x_{2}, ..., x_{m},y_{1}, y_{2}, ..., y_{n})} P(x_{1}, x_{2}, ..., x_{m},y_{1}, y_{2}, ..., y_{n}) if Q(x_{1}, x_{2}, ..., x_{m}).\n",
       "    core type: Conditional\n",
       "    value: 26\n",
       "    condition: 33\n",
       "25. {P(x_{1}, x_{2}, ..., x_{m},y_{1}, y_{2}, ..., y_{n}) if Q(x_{1}, x_{2}, ..., x_{m}) ,  R(x_{1}, x_{2}, ..., x_{m},y_{1}, y_{2}, ..., y_{n}).\n",
       "    core type: Conditional\n",
       "    value: 38\n",
       "    condition: 27\n",
       "26. forall_{y_{1}, y_{2}, ..., y_{n} | R(x_{1}, x_{2}, ..., x_{m},y_{1}, y_{2}, ..., y_{n})} P(x_{1}, x_{2}, ..., x_{m},y_{1}, y_{2}, ..., y_{n})\n",
       "    core type: Operation\n",
       "    operator: 28\n",
       "    operand: 32\n",
       "27. Q(x_{1}, x_{2}, ..., x_{m}) and R(x_{1}, x_{2}, ..., x_{m},y_{1}, y_{2}, ..., y_{n})\n",
       "    core type: Operation\n",
       "    operator: 30\n",
       "    operands: 31\n",
       "28. forall\n",
       "    core type: Literal\n",
       "    sub-expressions: \n",
       "29. ((y_{1}, y_{2}, ..., y_{n}) -> {P(x_{1}, x_{2}, ..., x_{m},y_{1}, y_{2}, ..., y_{n}) if R(x_{1}, x_{2}, ..., x_{m},y_{1}, y_{2}, ..., y_{n}).)\n",
       "    core type: ExprTuple\n",
       "    sub-expressions: 32\n",
       "30. and\n",
       "    core type: Literal\n",
       "    sub-expressions: \n",
       "31. (Q(x_{1}, x_{2}, ..., x_{m}), R(x_{1}, x_{2}, ..., x_{m},y_{1}, y_{2}, ..., y_{n}))\n",
       "    core type: ExprTuple\n",
       "    sub-expressions: 33, 39\n",
       "32. (y_{1}, y_{2}, ..., y_{n}) -> {P(x_{1}, x_{2}, ..., x_{m},y_{1}, y_{2}, ..., y_{n}) if R(x_{1}, x_{2}, ..., x_{m},y_{1}, y_{2}, ..., y_{n}).\n",
       "    core type: Lambda\n",
       "    parameters: 34\\n    body: 35\n",
       "33. Q(x_{1}, x_{2}, ..., x_{m})\n",
       "    core type: Operation\n",
       "    operator: 36\n",
       "    operands: 37\n",
       "34. (y_{1}, y_{2}, ..., y_{n})\n",
       "    core type: ExprTuple\n",
       "    sub-expressions: 44\n",
       "35. {P(x_{1}, x_{2}, ..., x_{m},y_{1}, y_{2}, ..., y_{n}) if R(x_{1}, x_{2}, ..., x_{m},y_{1}, y_{2}, ..., y_{n}).\n",
       "    core type: Conditional\n",
       "    value: 38\n",
       "    condition: 39\n",
       "36. Q\n",
       "    core type: Variable\n",
       "    sub-expressions: \n",
       "37. (x_{1}, x_{2}, ..., x_{m})\n",
       "    core type: ExprTuple\n",
       "    sub-expressions: 43\n",
       "38. P(x_{1}, x_{2}, ..., x_{m},y_{1}, y_{2}, ..., y_{n})\n",
       "    core type: Operation\n",
       "    operator: 40\n",
       "    operands: 42\n",
       "39. R(x_{1}, x_{2}, ..., x_{m},y_{1}, y_{2}, ..., y_{n})\n",
       "    core type: Operation\n",
       "    operator: 41\n",
       "    operands: 42\n",
       "40. P\n",
       "    core type: Variable\n",
       "    sub-expressions: \n",
       "41. R\n",
       "    core type: Variable\n",
       "    sub-expressions: \n",
       "42. (x_{1}, x_{2}, ..., x_{m},y_{1}, y_{2}, ..., y_{n})\n",
       "    core type: ExprTuple\n",
       "    sub-expressions: 43, 44\n",
       "43. x_{1}, x_{2}, ..., x_{m}\n",
       "    core type: ExprRange\n",
       "    lambda_map: 45\n",
       "    start_index: 48\n",
       "    end_index: 46\n",
       "44. y_{1}, y_{2}, ..., y_{n}\n",
       "    core type: ExprRange\n",
       "    lambda_map: 47\n",
       "    start_index: 48\n",
       "    end_index: 49\n",
       "45. _a -> x_{_a}\n",
       "    core type: Lambda\n",
       "    parameter: 55\n",
       "    body: 50\n",
       "46. m\n",
       "    core type: Variable\n",
       "    sub-expressions: \n",
       "47. _a -> y_{_a}\n",
       "    core type: Lambda\n",
       "    parameter: 55\n",
       "    body: 51\n",
       "48. 1\n",
       "    core type: Literal\n",
       "    sub-expressions: \n",
       "49. n\n",
       "    core type: Variable\n",
       "    sub-expressions: \n",
       "50. x_{_a}\n",
       "    core type: IndexedVar\n",
       "variable: 52\n",
       "index: 55\n",
       "51. y_{_a}\n",
       "    core type: IndexedVar\n",
       "variable: 53\n",
       "index: 55\n",
       "52. x\n",
       "    core type: Variable\n",
       "    sub-expressions: \n",
       "53. y\n",
       "    core type: Variable\n",
       "    sub-expressions: \n",
       "54. (_a)\n",
       "    core type: ExprTuple\n",
       "    sub-expressions: 55\n",
       "55. _a\n",
       "    core type: Variable\n",
       "    sub-expressions: "
      ]
     },
     "metadata": {},
     "output_type": "display_data"
    }
   ],
   "source": [
    "# display the expression information\n",
    "stored_expr.expr_info()"
   ]
  },
  {
   "cell_type": "code",
   "execution_count": null,
   "metadata": {},
   "outputs": [],
   "source": []
  }
 ],
 "metadata": {
  "kernelspec": {
   "display_name": "Python 3",
   "language": "python",
   "name": "python3"
  }
 },
 "nbformat": 4,
 "nbformat_minor": 0
}