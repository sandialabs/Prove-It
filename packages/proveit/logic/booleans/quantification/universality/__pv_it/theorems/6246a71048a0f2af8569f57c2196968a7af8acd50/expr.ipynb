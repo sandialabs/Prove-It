{
 "cells": [
  {
   "cell_type": "markdown",
   "metadata": {},
   "source": [
    "Expression of type <a class=\"ProveItLink\" href=\"../../../../../../../../../doc/html/api/proveit.ExprTuple.html\">ExprTuple</a>\n",
    "=======================\n",
    "# from the theory of <a class=\"ProveItLink\" href=\"../../../_theory_nbs_/theory.ipynb\">proveit.logic.booleans.quantification.universality</a>"
   ]
  },
  {
   "cell_type": "code",
   "execution_count": 1,
   "metadata": {},
   "outputs": [],
   "source": [
    "import proveit\n",
    "# Automation is not needed when building an expression:\n",
    "proveit.defaults.automation = False # This will speed things up.\n",
    "proveit.defaults.inline_pngs = False # Makes files smaller.\n",
    "%load_expr # Load the stored expression as 'stored_expr'\n",
    "# import Expression classes needed to build the expression\n",
    "from proveit import ExprTuple, Function, Lambda, P, n\n",
    "from proveit.core_expr_types import P__x_1_to_n, P__x_1_to_np1, x_1_to_n, x_1_to_np1\n",
    "from proveit.logic import And, Forall, Implies\n",
    "from proveit.numbers import Natural"
   ]
  },
  {
   "cell_type": "code",
   "execution_count": 2,
   "metadata": {},
   "outputs": [
    {
     "data": {
      "text/html": [
       "<strong id=\"expr\">expr:</strong> <a class=\"ProveItLink\" href=\"expr.ipynb\"><img src=\"expr.png\" style=\"display:inline;vertical-align:middle;\" /></a><br>"
      ],
      "text/plain": [
       "<IPython.core.display.HTML object>"
      ]
     },
     "metadata": {},
     "output_type": "display_data"
    }
   ],
   "source": [
    "# build up the expression from sub-expressions\n",
    "sub_expr1 = [n]\n",
    "sub_expr2 = Forall(instance_param_or_params = [x_1_to_n], instance_expr = P__x_1_to_n)\n",
    "expr = ExprTuple(Lambda(P, Implies(And(Function(P, []), Forall(instance_param_or_params = sub_expr1, instance_expr = Implies(sub_expr2, Forall(instance_param_or_params = [x_1_to_np1], instance_expr = P__x_1_to_np1)).with_wrapping_at(2), domain = Natural)), Forall(instance_param_or_params = sub_expr1, instance_expr = sub_expr2, domain = Natural)).with_wrapping_at(1)))"
   ]
  },
  {
   "cell_type": "code",
   "execution_count": 3,
   "metadata": {},
   "outputs": [
    {
     "name": "stdout",
     "output_type": "stream",
     "text": [
      "Passed sanity check: expr matches stored_expr\n"
     ]
    }
   ],
   "source": [
    "# check that the built expression is the same as the stored expression\n",
    "assert expr == stored_expr\n",
    "assert expr._style_id == stored_expr._style_id\n",
    "print(\"Passed sanity check: expr matches stored_expr\")"
   ]
  },
  {
   "cell_type": "code",
   "execution_count": 4,
   "metadata": {},
   "outputs": [
    {
     "name": "stdout",
     "output_type": "stream",
     "text": [
      "\\left(P \\mapsto \\left(\\begin{array}{c} \\begin{array}{l} \\left(P\\left(\\right) \\land \\left[\\forall_{n \\in \\mathbb{N}}~\\left(\\begin{array}{c} \\begin{array}{l} \\left[\\forall_{x_{1}, x_{2}, \\ldots, x_{n}}~P\\left(x_{1}, x_{2}, \\ldots, x_{n}\\right)\\right] \\Rightarrow  \\\\ \\left[\\forall_{x_{1}, x_{2}, \\ldots, x_{n + 1}}~P\\left(x_{1}, x_{2}, \\ldots, x_{n + 1}\\right)\\right] \\end{array} \\end{array}\\right)\\right]\\right) \\\\  \\Rightarrow \\left[\\forall_{n \\in \\mathbb{N}}~\\left[\\forall_{x_{1}, x_{2}, \\ldots, x_{n}}~P\\left(x_{1}, x_{2}, \\ldots, x_{n}\\right)\\right]\\right] \\end{array} \\end{array}\\right)\\right)\n"
     ]
    }
   ],
   "source": [
    "# Show the LaTeX representation of the expression for convenience if you need it.\n",
    "print(stored_expr.latex())"
   ]
  },
  {
   "cell_type": "code",
   "execution_count": 5,
   "metadata": {},
   "outputs": [
    {
     "data": {
      "text/html": [
       "no style options"
      ],
      "text/plain": [
       "no style options"
      ]
     },
     "metadata": {},
     "output_type": "display_data"
    }
   ],
   "source": [
    "stored_expr.style_options()"
   ]
  },
  {
   "cell_type": "code",
   "execution_count": 6,
   "metadata": {},
   "outputs": [
    {
     "data": {
      "text/html": [
       "<table><tr><th>&nbsp;</th><th>core type</th><th>sub-expressions</th><th>expression</th></tr>\n",
       "<tr><td>0</td><td>ExprTuple</td><td>1</td><td><a class=\"ProveItLink\" href=\"expr.ipynb\"><img src=\"expr.png\" style=\"display:inline;vertical-align:middle;\" /></a></td></tr>\n",
       "<tr><td>1</td><td>Lambda</td><td>parameter:&nbsp;36<br>body:&nbsp;3<br></td><td><a class=\"ProveItLink\" href=\"../8dd438c2b891e7095eb4edc47086c98285acdc440/expr.ipynb\"><img src=\"../8dd438c2b891e7095eb4edc47086c98285acdc440/expr.png\" style=\"display:inline;vertical-align:middle;\" /></a></td></tr>\n",
       "<tr><td>2</td><td>ExprTuple</td><td>36</td><td><a class=\"ProveItLink\" href=\"../56f816491122851137106e952ad7383c0a593aaf0/expr.ipynb\"><img src=\"../56f816491122851137106e952ad7383c0a593aaf0/expr.png\" style=\"display:inline;vertical-align:middle;\" /></a></td></tr>\n",
       "<tr><td>3</td><td>Operation</td><td>operator:&nbsp;21<br>operands:&nbsp;4<br></td><td><a class=\"ProveItLink\" href=\"../449433150e3015e2195c7ffe97db9814db1fb7460/expr.ipynb\"><img src=\"../449433150e3015e2195c7ffe97db9814db1fb7460/expr.png\" style=\"display:inline;vertical-align:middle;\" /></a></td></tr>\n",
       "<tr><td>4</td><td>ExprTuple</td><td>5, 6</td><td><a class=\"ProveItLink\" href=\"../0d1454750d9d16ead62e1998e6723c255d7ff4660/expr.ipynb\"><img src=\"../0d1454750d9d16ead62e1998e6723c255d7ff4660/expr.png\" style=\"display:inline;vertical-align:middle;\" /></a></td></tr>\n",
       "<tr><td>5</td><td>Operation</td><td>operator:&nbsp;7<br>operands:&nbsp;8<br></td><td><a class=\"ProveItLink\" href=\"../a929401cd515d98e0b6f4a611f11a32f92b7c0e90/expr.ipynb\"><img src=\"../a929401cd515d98e0b6f4a611f11a32f92b7c0e90/expr.png\" style=\"display:inline;vertical-align:middle;\" /></a></td></tr>\n",
       "<tr><td>6</td><td>Operation</td><td>operator:&nbsp;29<br>operand:&nbsp;12<br></td><td><a class=\"ProveItLink\" href=\"../a34eeba5db6e4bc6a9fb255e362e13c1b0c949b60/expr.ipynb\"><img src=\"../a34eeba5db6e4bc6a9fb255e362e13c1b0c949b60/expr.png\" style=\"display:inline;vertical-align:middle;\" /></a></td></tr>\n",
       "<tr><td>7</td><td>Literal</td><td></td><td><a class=\"ProveItLink\" href=\"../../../../../conjunction/__pv_it/common/42118ff318bd65d98b1393f64ce7c2269feef76e0/expr.ipynb\"><img src=\"../../../../../conjunction/__pv_it/common/42118ff318bd65d98b1393f64ce7c2269feef76e0/expr.png\" style=\"display:inline;vertical-align:middle;\" /></a></td></tr>\n",
       "<tr><td>8</td><td>ExprTuple</td><td>10, 11</td><td><a class=\"ProveItLink\" href=\"../8a52c0ac5a6eb9c485981c31e2a710bba15ceb800/expr.ipynb\"><img src=\"../8a52c0ac5a6eb9c485981c31e2a710bba15ceb800/expr.png\" style=\"display:inline;vertical-align:middle;\" /></a></td></tr>\n",
       "<tr><td>9</td><td>ExprTuple</td><td>12</td><td><a class=\"ProveItLink\" href=\"../07a7c6383ec51947ad01be5b75a29e3834c511d40/expr.ipynb\"><img src=\"../07a7c6383ec51947ad01be5b75a29e3834c511d40/expr.png\" style=\"display:inline;vertical-align:middle;\" /></a></td></tr>\n",
       "<tr><td>10</td><td>Operation</td><td>operator:&nbsp;36<br>operands:&nbsp;13<br></td><td><a class=\"ProveItLink\" href=\"../e3cd877f27b855828bd1f43a2b0042abb9f6ed120/expr.ipynb\"><img src=\"../e3cd877f27b855828bd1f43a2b0042abb9f6ed120/expr.png\" style=\"display:inline;vertical-align:middle;\" /></a></td></tr>\n",
       "<tr><td>11</td><td>Operation</td><td>operator:&nbsp;29<br>operand:&nbsp;16<br></td><td><a class=\"ProveItLink\" href=\"../5c172b508a427d3d4b51c2cc4b0dbf3f11a33d780/expr.ipynb\"><img src=\"../5c172b508a427d3d4b51c2cc4b0dbf3f11a33d780/expr.png\" style=\"display:inline;vertical-align:middle;\" /></a></td></tr>\n",
       "<tr><td>12</td><td>Lambda</td><td>parameter:&nbsp;47<br>body:&nbsp;15<br></td><td><a class=\"ProveItLink\" href=\"../10fc3475083b3a5a24860331e78458eaef9f57500/expr.ipynb\"><img src=\"../10fc3475083b3a5a24860331e78458eaef9f57500/expr.png\" style=\"display:inline;vertical-align:middle;\" /></a></td></tr>\n",
       "<tr><td>13</td><td>ExprTuple</td><td></td><td><a class=\"ProveItLink\" href=\"../1a4193f1deeaf7a4a6b6289328d46189ae6a257f0/expr.ipynb\"><img src=\"../1a4193f1deeaf7a4a6b6289328d46189ae6a257f0/expr.png\" style=\"display:inline;vertical-align:middle;\" /></a></td></tr>\n",
       "<tr><td>14</td><td>ExprTuple</td><td>16</td><td><a class=\"ProveItLink\" href=\"../0e195af1f586ea78fda46e6bbbf86881e7720f330/expr.ipynb\"><img src=\"../0e195af1f586ea78fda46e6bbbf86881e7720f330/expr.png\" style=\"display:inline;vertical-align:middle;\" /></a></td></tr>\n",
       "<tr><td>15</td><td>Conditional</td><td>value:&nbsp;25<br>condition:&nbsp;20<br></td><td><a class=\"ProveItLink\" href=\"../af64924eb6e7ff3a6e56818d31452ce19df7545c0/expr.ipynb\"><img src=\"../af64924eb6e7ff3a6e56818d31452ce19df7545c0/expr.png\" style=\"display:inline;vertical-align:middle;\" /></a></td></tr>\n",
       "<tr><td>16</td><td>Lambda</td><td>parameter:&nbsp;47<br>body:&nbsp;18<br></td><td><a class=\"ProveItLink\" href=\"../432c67ef4360ddda64407f37effc1b061960c36b0/expr.ipynb\"><img src=\"../432c67ef4360ddda64407f37effc1b061960c36b0/expr.png\" style=\"display:inline;vertical-align:middle;\" /></a></td></tr>\n",
       "<tr><td>17</td><td>ExprTuple</td><td>47</td><td><a class=\"ProveItLink\" href=\"../ca565dff2751ea9a3b48fe855133b9e0c2eca83f0/expr.ipynb\"><img src=\"../ca565dff2751ea9a3b48fe855133b9e0c2eca83f0/expr.png\" style=\"display:inline;vertical-align:middle;\" /></a></td></tr>\n",
       "<tr><td>18</td><td>Conditional</td><td>value:&nbsp;19<br>condition:&nbsp;20<br></td><td><a class=\"ProveItLink\" href=\"../c671bf52474c43bcf7a740beeffe071745cc48460/expr.ipynb\"><img src=\"../c671bf52474c43bcf7a740beeffe071745cc48460/expr.png\" style=\"display:inline;vertical-align:middle;\" /></a></td></tr>\n",
       "<tr><td>19</td><td>Operation</td><td>operator:&nbsp;21<br>operands:&nbsp;22<br></td><td><a class=\"ProveItLink\" href=\"../7c794d81e32a804d33a2675aa23d8f494151ce620/expr.ipynb\"><img src=\"../7c794d81e32a804d33a2675aa23d8f494151ce620/expr.png\" style=\"display:inline;vertical-align:middle;\" /></a></td></tr>\n",
       "<tr><td>20</td><td>Operation</td><td>operator:&nbsp;23<br>operands:&nbsp;24<br></td><td><a class=\"ProveItLink\" href=\"../a4c62904f3a87ce48a16b43526806be1316ce7cc0/expr.ipynb\"><img src=\"../a4c62904f3a87ce48a16b43526806be1316ce7cc0/expr.png\" style=\"display:inline;vertical-align:middle;\" /></a></td></tr>\n",
       "<tr><td>21</td><td>Literal</td><td></td><td><a class=\"ProveItLink\" href=\"../../../../../implication/__pv_it/common/02bdb382575728da8cdbaed545b9096ea7a1bd5b0/expr.ipynb\"><img src=\"../../../../../implication/__pv_it/common/02bdb382575728da8cdbaed545b9096ea7a1bd5b0/expr.png\" style=\"display:inline;vertical-align:middle;\" /></a></td></tr>\n",
       "<tr><td>22</td><td>ExprTuple</td><td>25, 26</td><td><a class=\"ProveItLink\" href=\"../0d1a635046162e5029a489af543cad10df1fd79e0/expr.ipynb\"><img src=\"../0d1a635046162e5029a489af543cad10df1fd79e0/expr.png\" style=\"display:inline;vertical-align:middle;\" /></a></td></tr>\n",
       "<tr><td>23</td><td>Literal</td><td></td><td><a class=\"ProveItLink\" href=\"../../../../../../sets/membership/__pv_it/common/477487d8796864d23d5810f83761435f25167f690/expr.ipynb\"><img src=\"../../../../../../sets/membership/__pv_it/common/477487d8796864d23d5810f83761435f25167f690/expr.png\" style=\"display:inline;vertical-align:middle;\" /></a></td></tr>\n",
       "<tr><td>24</td><td>ExprTuple</td><td>47, 27</td><td><a class=\"ProveItLink\" href=\"../ecc3c58a9897ba541ec19be82e54ee986957c4200/expr.ipynb\"><img src=\"../ecc3c58a9897ba541ec19be82e54ee986957c4200/expr.png\" style=\"display:inline;vertical-align:middle;\" /></a></td></tr>\n",
       "<tr><td>25</td><td>Operation</td><td>operator:&nbsp;29<br>operand:&nbsp;31<br></td><td><a class=\"ProveItLink\" href=\"../42b90e89dd48178e63eef69e802e55387f5f60600/expr.ipynb\"><img src=\"../42b90e89dd48178e63eef69e802e55387f5f60600/expr.png\" style=\"display:inline;vertical-align:middle;\" /></a></td></tr>\n",
       "<tr><td>26</td><td>Operation</td><td>operator:&nbsp;29<br>operand:&nbsp;32<br></td><td><a class=\"ProveItLink\" href=\"../57d1ce53253ab99c1a3a8c682c8123e10aacdd2b0/expr.ipynb\"><img src=\"../57d1ce53253ab99c1a3a8c682c8123e10aacdd2b0/expr.png\" style=\"display:inline;vertical-align:middle;\" /></a></td></tr>\n",
       "<tr><td>27</td><td>Literal</td><td></td><td><a class=\"ProveItLink\" href=\"../../../../../../../numbers/number_sets/natural_numbers/__pv_it/common/8b7c321957f52ed3b05b36af612eeae4fa4783bc0/expr.ipynb\"><img src=\"../../../../../../../numbers/number_sets/natural_numbers/__pv_it/common/8b7c321957f52ed3b05b36af612eeae4fa4783bc0/expr.png\" style=\"display:inline;vertical-align:middle;\" /></a></td></tr>\n",
       "<tr><td>28</td><td>ExprTuple</td><td>31</td><td><a class=\"ProveItLink\" href=\"../3b20075ec5263dfcf5c0fa91efa024dd7d14b5cd0/expr.ipynb\"><img src=\"../3b20075ec5263dfcf5c0fa91efa024dd7d14b5cd0/expr.png\" style=\"display:inline;vertical-align:middle;\" /></a></td></tr>\n",
       "<tr><td>29</td><td>Literal</td><td></td><td><a class=\"ProveItLink\" href=\"../../common/083d2baa0b8ecab1d230f9ec29a15aa1355809fb0/expr.ipynb\"><img src=\"../../common/083d2baa0b8ecab1d230f9ec29a15aa1355809fb0/expr.png\" style=\"display:inline;vertical-align:middle;\" /></a></td></tr>\n",
       "<tr><td>30</td><td>ExprTuple</td><td>32</td><td><a class=\"ProveItLink\" href=\"../21b27decaf6c4452f0eea246c7bc0a883d4659500/expr.ipynb\"><img src=\"../21b27decaf6c4452f0eea246c7bc0a883d4659500/expr.png\" style=\"display:inline;vertical-align:middle;\" /></a></td></tr>\n",
       "<tr><td>31</td><td>Lambda</td><td>parameters:&nbsp;35<br>body:&nbsp;33<br></td><td><a class=\"ProveItLink\" href=\"../e8f1c43913b63f865097f46cb552a2e00bd997340/expr.ipynb\"><img src=\"../e8f1c43913b63f865097f46cb552a2e00bd997340/expr.png\" style=\"display:inline;vertical-align:middle;\" /></a></td></tr>\n",
       "<tr><td>32</td><td>Lambda</td><td>parameters:&nbsp;37<br>body:&nbsp;34<br></td><td><a class=\"ProveItLink\" href=\"../1c97137ce21ae98e5e02a5ca8ec9a414cba99ecb0/expr.ipynb\"><img src=\"../1c97137ce21ae98e5e02a5ca8ec9a414cba99ecb0/expr.png\" style=\"display:inline;vertical-align:middle;\" /></a></td></tr>\n",
       "<tr><td>33</td><td>Operation</td><td>operator:&nbsp;36<br>operands:&nbsp;35<br></td><td><a class=\"ProveItLink\" href=\"../../../../../../../core_expr_types/__pv_it/common/bcbe622d6fda27f5c2da727eff45652e5b8413350/expr.ipynb\"><img src=\"../../../../../../../core_expr_types/__pv_it/common/bcbe622d6fda27f5c2da727eff45652e5b8413350/expr.png\" style=\"display:inline;vertical-align:middle;\" /></a></td></tr>\n",
       "<tr><td>34</td><td>Operation</td><td>operator:&nbsp;36<br>operands:&nbsp;37<br></td><td><a class=\"ProveItLink\" href=\"../../../../../../../core_expr_types/__pv_it/common/c727476b19775ccb31c3afd880d951839db7bc420/expr.ipynb\"><img src=\"../../../../../../../core_expr_types/__pv_it/common/c727476b19775ccb31c3afd880d951839db7bc420/expr.png\" style=\"display:inline;vertical-align:middle;\" /></a></td></tr>\n",
       "<tr><td>35</td><td>ExprTuple</td><td>38</td><td><a class=\"ProveItLink\" href=\"../../../../../../../core_expr_types/__pv_it/common/444da5a1d6d4966e75dd84efc2704e338e811fe40/expr.ipynb\"><img src=\"../../../../../../../core_expr_types/__pv_it/common/444da5a1d6d4966e75dd84efc2704e338e811fe40/expr.png\" style=\"display:inline;vertical-align:middle;\" /></a></td></tr>\n",
       "<tr><td>36</td><td>Variable</td><td></td><td><a class=\"ProveItLink\" href=\"../../../../../../../__pv_it/common/de55da274ba0f49c86925fbf3828021c04d27faf0/expr.ipynb\"><img src=\"../../../../../../../__pv_it/common/de55da274ba0f49c86925fbf3828021c04d27faf0/expr.png\" style=\"display:inline;vertical-align:middle;\" /></a></td></tr>\n",
       "<tr><td>37</td><td>ExprTuple</td><td>39</td><td><a class=\"ProveItLink\" href=\"../../../../../../../core_expr_types/__pv_it/common/432edf88186f9dc8cc5a628bfe98420c63e2614b0/expr.ipynb\"><img src=\"../../../../../../../core_expr_types/__pv_it/common/432edf88186f9dc8cc5a628bfe98420c63e2614b0/expr.png\" style=\"display:inline;vertical-align:middle;\" /></a></td></tr>\n",
       "<tr><td>38</td><td>ExprRange</td><td>lambda_map:&nbsp;40<br>start_index:&nbsp;48<br>end_index:&nbsp;47<br></td><td><a class=\"ProveItLink\" href=\"../../../../../../../core_expr_types/__pv_it/common/d50f819f834d55ea1b9fad150926a94bf07ad8fc0/expr.ipynb\"><img src=\"../../../../../../../core_expr_types/__pv_it/common/d50f819f834d55ea1b9fad150926a94bf07ad8fc0/expr.png\" style=\"display:inline;vertical-align:middle;\" /></a></td></tr>\n",
       "<tr><td>39</td><td>ExprRange</td><td>lambda_map:&nbsp;40<br>start_index:&nbsp;48<br>end_index:&nbsp;41<br></td><td><a class=\"ProveItLink\" href=\"../../../../../../../core_expr_types/__pv_it/common/4c0b61b56542b2c0d2ab9a431fe4a88d4a9e76ff0/expr.ipynb\"><img src=\"../../../../../../../core_expr_types/__pv_it/common/4c0b61b56542b2c0d2ab9a431fe4a88d4a9e76ff0/expr.png\" style=\"display:inline;vertical-align:middle;\" /></a></td></tr>\n",
       "<tr><td>40</td><td>Lambda</td><td>parameter:&nbsp;49<br>body:&nbsp;42<br></td><td><a class=\"ProveItLink\" href=\"../../../../../../../core_expr_types/__pv_it/common/f8f30fee5e5b4e37951ff8886b574795bf35d80c0/expr.ipynb\"><img src=\"../../../../../../../core_expr_types/__pv_it/common/f8f30fee5e5b4e37951ff8886b574795bf35d80c0/expr.png\" style=\"display:inline;vertical-align:middle;\" /></a></td></tr>\n",
       "<tr><td>41</td><td>Operation</td><td>operator:&nbsp;43<br>operands:&nbsp;44<br></td><td><a class=\"ProveItLink\" href=\"../../../../../../../core_expr_types/__pv_it/common/da9454a8f6582aff67171697f6638aec8e79b2450/expr.ipynb\"><img src=\"../../../../../../../core_expr_types/__pv_it/common/da9454a8f6582aff67171697f6638aec8e79b2450/expr.png\" style=\"display:inline;vertical-align:middle;\" /></a></td></tr>\n",
       "<tr><td>42</td><td>IndexedVar</td><td>variable:&nbsp;45<br>index:&nbsp;49<br></td><td><a class=\"ProveItLink\" href=\"../../../../../../../core_expr_types/__pv_it/common/b7a46615d4e67a28ab963909b818c72af8e8e7c60/expr.ipynb\"><img src=\"../../../../../../../core_expr_types/__pv_it/common/b7a46615d4e67a28ab963909b818c72af8e8e7c60/expr.png\" style=\"display:inline;vertical-align:middle;\" /></a></td></tr>\n",
       "<tr><td>43</td><td>Literal</td><td></td><td><a class=\"ProveItLink\" href=\"../../../../../../../numbers/addition/__pv_it/common/4b7effaab3619a1c2c38fe2dee8601df8ec714590/expr.ipynb\"><img src=\"../../../../../../../numbers/addition/__pv_it/common/4b7effaab3619a1c2c38fe2dee8601df8ec714590/expr.png\" style=\"display:inline;vertical-align:middle;\" /></a></td></tr>\n",
       "<tr><td>44</td><td>ExprTuple</td><td>47, 48</td><td><a class=\"ProveItLink\" href=\"../../../../../../../core_expr_types/__pv_it/common/a3b4d93edb08a2579aa592b54f8896fd10b24c2f0/expr.ipynb\"><img src=\"../../../../../../../core_expr_types/__pv_it/common/a3b4d93edb08a2579aa592b54f8896fd10b24c2f0/expr.png\" style=\"display:inline;vertical-align:middle;\" /></a></td></tr>\n",
       "<tr><td>45</td><td>Variable</td><td></td><td><a class=\"ProveItLink\" href=\"../../../../../../../__pv_it/common/a0d9d672aa5e272d907247690c152cc2c6daafb70/expr.ipynb\"><img src=\"../../../../../../../__pv_it/common/a0d9d672aa5e272d907247690c152cc2c6daafb70/expr.png\" style=\"display:inline;vertical-align:middle;\" /></a></td></tr>\n",
       "<tr><td>46</td><td>ExprTuple</td><td>49</td><td><a class=\"ProveItLink\" href=\"../../../../../../../core_expr_types/__pv_it/common/4b0dd6be36d76552eda6a95d5b4a27f5a5b62f900/expr.ipynb\"><img src=\"../../../../../../../core_expr_types/__pv_it/common/4b0dd6be36d76552eda6a95d5b4a27f5a5b62f900/expr.png\" style=\"display:inline;vertical-align:middle;\" /></a></td></tr>\n",
       "<tr><td>47</td><td>Variable</td><td></td><td><a class=\"ProveItLink\" href=\"../../../../../../../__pv_it/common/8968bb04eb3f7dfa02353397ce929b025bbd79c20/expr.ipynb\"><img src=\"../../../../../../../__pv_it/common/8968bb04eb3f7dfa02353397ce929b025bbd79c20/expr.png\" style=\"display:inline;vertical-align:middle;\" /></a></td></tr>\n",
       "<tr><td>48</td><td>Literal</td><td></td><td><a class=\"ProveItLink\" href=\"../../../../../../../numbers/numerals/__pv_it/common/682157d4892d216d9e5626ed533aff9b56b9506e0/expr.ipynb\"><img src=\"../../../../../../../numbers/numerals/__pv_it/common/682157d4892d216d9e5626ed533aff9b56b9506e0/expr.png\" style=\"display:inline;vertical-align:middle;\" /></a></td></tr>\n",
       "<tr><td>49</td><td>Variable</td><td></td><td><a class=\"ProveItLink\" href=\"../../../../../../../core_expr_types/__pv_it/common/006c465e50948aa2b52285e2de47974f741255cc0/expr.ipynb\"><img src=\"../../../../../../../core_expr_types/__pv_it/common/006c465e50948aa2b52285e2de47974f741255cc0/expr.png\" style=\"display:inline;vertical-align:middle;\" /></a></td></tr>\n",
       "</table>\n"
      ],
      "text/plain": [
       "0. (P -> ((P() and [forall_{n in Natural} ([forall_{x_{1}, x_{2}, ..., x_{n}} P(x_{1}, x_{2}, ..., x_{n})] =>  \\\\ [forall_{x_{1}, x_{2}, ..., x_{n + 1}} P(x_{1}, x_{2}, ..., x_{n + 1})])]) \\\\  => [forall_{n in Natural} [forall_{x_{1}, x_{2}, ..., x_{n}} P(x_{1}, x_{2}, ..., x_{n})]]))\n",
       "   core type: ExprTuple\n",
       "   sub-expressions: 1\n",
       "1. P -> ((P() and [forall_{n in Natural} ([forall_{x_{1}, x_{2}, ..., x_{n}} P(x_{1}, x_{2}, ..., x_{n})] =>  \\\\ [forall_{x_{1}, x_{2}, ..., x_{n + 1}} P(x_{1}, x_{2}, ..., x_{n + 1})])]) \\\\  => [forall_{n in Natural} [forall_{x_{1}, x_{2}, ..., x_{n}} P(x_{1}, x_{2}, ..., x_{n})]])\n",
       "   core type: Lambda\n",
       "   parameter: 36\n",
       "   body: 3\n",
       "2. (P)\n",
       "   core type: ExprTuple\n",
       "   sub-expressions: 36\n",
       "3. (P() and [forall_{n in Natural} ([forall_{x_{1}, x_{2}, ..., x_{n}} P(x_{1}, x_{2}, ..., x_{n})] =>  \\\\ [forall_{x_{1}, x_{2}, ..., x_{n + 1}} P(x_{1}, x_{2}, ..., x_{n + 1})])]) \\\\  => [forall_{n in Natural} [forall_{x_{1}, x_{2}, ..., x_{n}} P(x_{1}, x_{2}, ..., x_{n})]]\n",
       "   core type: Operation\n",
       "   operator: 21\n",
       "   operands: 4\n",
       "4. (P() and [forall_{n in Natural} ([forall_{x_{1}, x_{2}, ..., x_{n}} P(x_{1}, x_{2}, ..., x_{n})] =>  \\\\ [forall_{x_{1}, x_{2}, ..., x_{n + 1}} P(x_{1}, x_{2}, ..., x_{n + 1})])], forall_{n in Natural} [forall_{x_{1}, x_{2}, ..., x_{n}} P(x_{1}, x_{2}, ..., x_{n})])\n",
       "   core type: ExprTuple\n",
       "   sub-expressions: 5, 6\n",
       "5. P() and [forall_{n in Natural} ([forall_{x_{1}, x_{2}, ..., x_{n}} P(x_{1}, x_{2}, ..., x_{n})] =>  \\\\ [forall_{x_{1}, x_{2}, ..., x_{n + 1}} P(x_{1}, x_{2}, ..., x_{n + 1})])]\n",
       "   core type: Operation\n",
       "   operator: 7\n",
       "   operands: 8\n",
       "6. forall_{n in Natural} [forall_{x_{1}, x_{2}, ..., x_{n}} P(x_{1}, x_{2}, ..., x_{n})]\n",
       "   core type: Operation\n",
       "   operator: 29\n",
       "   operand: 12\n",
       "7. and\n",
       "   core type: Literal\n",
       "   sub-expressions: \n",
       "8. (P(), forall_{n in Natural} ([forall_{x_{1}, x_{2}, ..., x_{n}} P(x_{1}, x_{2}, ..., x_{n})] =>  \\\\ [forall_{x_{1}, x_{2}, ..., x_{n + 1}} P(x_{1}, x_{2}, ..., x_{n + 1})]))\n",
       "   core type: ExprTuple\n",
       "   sub-expressions: 10, 11\n",
       "9. (n -> {forall_{x_{1}, x_{2}, ..., x_{n}} P(x_{1}, x_{2}, ..., x_{n}) if n in Natural.)\n",
       "   core type: ExprTuple\n",
       "   sub-expressions: 12\n",
       "10. P()\n",
       "    core type: Operation\n",
       "    operator: 36\n",
       "    operands: 13\n",
       "11. forall_{n in Natural} ([forall_{x_{1}, x_{2}, ..., x_{n}} P(x_{1}, x_{2}, ..., x_{n})] =>  \\\\ [forall_{x_{1}, x_{2}, ..., x_{n + 1}} P(x_{1}, x_{2}, ..., x_{n + 1})])\n",
       "    core type: Operation\n",
       "    operator: 29\n",
       "    operand: 16\n",
       "12. n -> {forall_{x_{1}, x_{2}, ..., x_{n}} P(x_{1}, x_{2}, ..., x_{n}) if n in Natural.\n",
       "    core type: Lambda\n",
       "    parameter: 47\n",
       "    body: 15\n",
       "13. ()\n",
       "    core type: ExprTuple\n",
       "    sub-expressions: \n",
       "14. (n -> {[forall_{x_{1}, x_{2}, ..., x_{n}} P(x_{1}, x_{2}, ..., x_{n})] =>  \\\\ [forall_{x_{1}, x_{2}, ..., x_{n + 1}} P(x_{1}, x_{2}, ..., x_{n + 1})] if n in Natural.)\n",
       "    core type: ExprTuple\n",
       "    sub-expressions: 16\n",
       "15. {forall_{x_{1}, x_{2}, ..., x_{n}} P(x_{1}, x_{2}, ..., x_{n}) if n in Natural.\n",
       "    core type: Conditional\n",
       "    value: 25\n",
       "    condition: 20\n",
       "16. n -> {[forall_{x_{1}, x_{2}, ..., x_{n}} P(x_{1}, x_{2}, ..., x_{n})] =>  \\\\ [forall_{x_{1}, x_{2}, ..., x_{n + 1}} P(x_{1}, x_{2}, ..., x_{n + 1})] if n in Natural.\n",
       "    core type: Lambda\n",
       "    parameter: 47\n",
       "    body: 18\n",
       "17. (n)\n",
       "    core type: ExprTuple\n",
       "    sub-expressions: 47\n",
       "18. {[forall_{x_{1}, x_{2}, ..., x_{n}} P(x_{1}, x_{2}, ..., x_{n})] =>  \\\\ [forall_{x_{1}, x_{2}, ..., x_{n + 1}} P(x_{1}, x_{2}, ..., x_{n + 1})] if n in Natural.\n",
       "    core type: Conditional\n",
       "    value: 19\n",
       "    condition: 20\n",
       "19. [forall_{x_{1}, x_{2}, ..., x_{n}} P(x_{1}, x_{2}, ..., x_{n})] =>  \\\\ [forall_{x_{1}, x_{2}, ..., x_{n + 1}} P(x_{1}, x_{2}, ..., x_{n + 1})]\n",
       "    core type: Operation\n",
       "    operator: 21\n",
       "    operands: 22\n",
       "20. n in Natural\n",
       "    core type: Operation\n",
       "    operator: 23\n",
       "    operands: 24\n",
       "21. =>\n",
       "    core type: Literal\n",
       "    sub-expressions: \n",
       "22. (forall_{x_{1}, x_{2}, ..., x_{n}} P(x_{1}, x_{2}, ..., x_{n}), forall_{x_{1}, x_{2}, ..., x_{n + 1}} P(x_{1}, x_{2}, ..., x_{n + 1}))\n",
       "    core type: ExprTuple\n",
       "    sub-expressions: 25, 26\n",
       "23. in\n",
       "    core type: Literal\n",
       "    sub-expressions: \n",
       "24. (n, Natural)\n",
       "    core type: ExprTuple\n",
       "    sub-expressions: 47, 27\n",
       "25. forall_{x_{1}, x_{2}, ..., x_{n}} P(x_{1}, x_{2}, ..., x_{n})\n",
       "    core type: Operation\n",
       "    operator: 29\n",
       "    operand: 31\n",
       "26. forall_{x_{1}, x_{2}, ..., x_{n + 1}} P(x_{1}, x_{2}, ..., x_{n + 1})\n",
       "    core type: Operation\n",
       "    operator: 29\n",
       "    operand: 32\n",
       "27. Natural\n",
       "    core type: Literal\n",
       "    sub-expressions: \n",
       "28. ((x_{1}, x_{2}, ..., x_{n}) -> P(x_{1}, x_{2}, ..., x_{n}))\n",
       "    core type: ExprTuple\n",
       "    sub-expressions: 31\n",
       "29. forall\n",
       "    core type: Literal\n",
       "    sub-expressions: \n",
       "30. ((x_{1}, x_{2}, ..., x_{n + 1}) -> P(x_{1}, x_{2}, ..., x_{n + 1}))\n",
       "    core type: ExprTuple\n",
       "    sub-expressions: 32\n",
       "31. (x_{1}, x_{2}, ..., x_{n}) -> P(x_{1}, x_{2}, ..., x_{n})\n",
       "    core type: Lambda\n",
       "    parameters: 35\\n    body: 33\n",
       "32. (x_{1}, x_{2}, ..., x_{n + 1}) -> P(x_{1}, x_{2}, ..., x_{n + 1})\n",
       "    core type: Lambda\n",
       "    parameters: 37\\n    body: 34\n",
       "33. P(x_{1}, x_{2}, ..., x_{n})\n",
       "    core type: Operation\n",
       "    operator: 36\n",
       "    operands: 35\n",
       "34. P(x_{1}, x_{2}, ..., x_{n + 1})\n",
       "    core type: Operation\n",
       "    operator: 36\n",
       "    operands: 37\n",
       "35. (x_{1}, x_{2}, ..., x_{n})\n",
       "    core type: ExprTuple\n",
       "    sub-expressions: 38\n",
       "36. P\n",
       "    core type: Variable\n",
       "    sub-expressions: \n",
       "37. (x_{1}, x_{2}, ..., x_{n + 1})\n",
       "    core type: ExprTuple\n",
       "    sub-expressions: 39\n",
       "38. x_{1}, x_{2}, ..., x_{n}\n",
       "    core type: ExprRange\n",
       "    lambda_map: 40\n",
       "    start_index: 48\n",
       "    end_index: 47\n",
       "39. x_{1}, x_{2}, ..., x_{n + 1}\n",
       "    core type: ExprRange\n",
       "    lambda_map: 40\n",
       "    start_index: 48\n",
       "    end_index: 41\n",
       "40. _a -> x_{_a}\n",
       "    core type: Lambda\n",
       "    parameter: 49\n",
       "    body: 42\n",
       "41. n + 1\n",
       "    core type: Operation\n",
       "    operator: 43\n",
       "    operands: 44\n",
       "42. x_{_a}\n",
       "    core type: IndexedVar\n",
       "variable: 45\n",
       "index: 49\n",
       "43. +\n",
       "    core type: Literal\n",
       "    sub-expressions: \n",
       "44. (n, 1)\n",
       "    core type: ExprTuple\n",
       "    sub-expressions: 47, 48\n",
       "45. x\n",
       "    core type: Variable\n",
       "    sub-expressions: \n",
       "46. (_a)\n",
       "    core type: ExprTuple\n",
       "    sub-expressions: 49\n",
       "47. n\n",
       "    core type: Variable\n",
       "    sub-expressions: \n",
       "48. 1\n",
       "    core type: Literal\n",
       "    sub-expressions: \n",
       "49. _a\n",
       "    core type: Variable\n",
       "    sub-expressions: "
      ]
     },
     "metadata": {},
     "output_type": "display_data"
    }
   ],
   "source": [
    "# display the expression information\n",
    "stored_expr.expr_info()"
   ]
  },
  {
   "cell_type": "code",
   "execution_count": null,
   "metadata": {},
   "outputs": [],
   "source": []
  }
 ],
 "metadata": {
  "kernelspec": {
   "display_name": "Python 3",
   "language": "python",
   "name": "python3"
  }
 },
 "nbformat": 4,
 "nbformat_minor": 0
}