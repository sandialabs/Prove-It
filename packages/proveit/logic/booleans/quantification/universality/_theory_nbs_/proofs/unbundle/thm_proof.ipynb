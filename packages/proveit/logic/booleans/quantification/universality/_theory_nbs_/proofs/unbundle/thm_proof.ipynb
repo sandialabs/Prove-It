{
 "cells": [
  {
   "cell_type": "markdown",
   "metadata": {},
   "source": [
    "Proof of <a class=\"ProveItLink\" href=\"../../../../../../../_theory_nbs_/theory.ipynb\">proveit</a>.<a class=\"ProveItLink\" href=\"../../../../../../_theory_nbs_/theory.ipynb\">logic</a>.<a class=\"ProveItLink\" href=\"../../../../../_theory_nbs_/theory.ipynb\">booleans</a>.<a class=\"ProveItLink\" href=\"../../../../_theory_nbs_/theory.ipynb\">quantification</a>.<a class=\"ProveItLink\" href=\"../../theory.ipynb\">universality</a>.<a class=\"ProveItLink\" href=\"../../theorems.ipynb#unbundle\">unbundle</a> theorem\n",
    "========"
   ]
  },
  {
   "cell_type": "code",
   "execution_count": 1,
   "metadata": {},
   "outputs": [],
   "source": [
    "import proveit\n",
    "theory = proveit.Theory() # the theorem's theory"
   ]
  },
  {
   "cell_type": "code",
   "execution_count": 2,
   "metadata": {},
   "outputs": [
    {
     "data": {
      "text/html": [
       "With these <a href=\"allowed_presumptions.txt\">allowed</a>/<a href=\"disallowed_presumptions.txt\">disallowed</a> theorem/theory presumptions (e.g., to avoid circular dependencies), we begin our proof of<br><strong id=\"unbundle\">unbundle:</strong> <a class=\"ProveItLink\" href=\"../../../__pv_it/theorems/ecd1a8896ab516477feb858d290471b6aa269d180/expr.ipynb\"><img src=\"data:image/png;base64,iVBORw0KGgoAAAANSUhEUgAABIAAAAAzBAMAAAAdl26hAAAAMFBMVEX///8AAAAAAAAAAAAAAAAA\n",
       "AAAAAAAAAAAAAAAAAAAAAAAAAAAAAAAAAAAAAAAAAAAv3aB7AAAAD3RSTlMAq1RmmUTNIjK7EInv\n",
       "3XZ/CtNrAAAACXBIWXMAAA7EAAAOxAGVKw4bAAAP90lEQVR42u1dDWwcxRV+97t357vzRaCKEHAP\n",
       "kdKIkOQEDiWIJgdOSPg3UFGFROQKSKhUlENFVIEUX1GFoA2JKQ0E2uINoLRxquT4i1oCwQ1CSUGl\n",
       "V/6KIlxdiCk1P44pP0kcFXfezOzu7O7seXed1cWVn2TfzOyb98Yz387OzNvPB+BBUr29KviSE/vL\n",
       "MClHo2T7X/dfube315N+ZnS06FY3WRFzpcmROmrlDO9VNvF5pGf0kDcAdbrXPQYmATS2KM11X/YJ\n",
       "oMQeLTUvKACFqpMAciHvNdf9NT4BBLMCB9CZYAFQCD/ChUnMkGVHz6EpD15I+6Pa5JYUfAKoJRcw\n",
       "gJRdVgBFsW58cimN0kom5N/gMmJjs1tyo08AwRsBAyhTtwIogZhdOQkelLWkd+ZgD3U0uyXtfgF0\n",
       "mhosgM4BK4Ao2J+aBA/KfrJD3Y9Pr75mtySt+gRQvBgsgF61A+iMybW0Jj34Q0AUbnp/xAs+ARQ7\n",
       "ECiAsiN2AKX7+9+tToIH5RDZCH9FPqOkP1JDx/9CmJgtWYnYNbZ0QCpnXB8owIaGBgQFXAz7AhB8\n",
       "L1AAZXJ2AEUrkFQnwQMUPMoLeX7/R2Fv/RLjmiUrEbtG9TSIDBsbpHAfLGi4gxIUIiW/AJqjBgmg\n",
       "tRU7gJQc3BLksERNuW962s36r+pFtI1F9tPtT9OezBAUfQsWqMdASjv2YNnNTx7vaIVpiHjMXwKh\n",
       "bt3CXdEaTE1tn+J4s1IFniZY8gmgrfUgAXQC2AEEj8CzQQIoyT8/GlpM7qxOT3XZijDWc9G5Va9V\n",
       "fUA8qU0XaeKqAueT1JpPeBHLFsF5FmIa4iMJXoN0XbegpuvwWhQIShyEKmjgG/YLoGQtSAD9WQag\n",
       "2cGuoTmArirDqnLjRYBdlrEPMgbXe63qZeFZNY6BdAABG0z9aJdmv4CuirOd16x2R3DK1y2sUBMH\n",
       "WzuVg471UUGr6nsGihwIEECJz2QAikfqwQMoTG6MaDcs8rgZYfP9sQAPeq3qRW7kD3htL4GPMNzP\n",
       "9AoAotmzGwGIarSfNZTbt57PbCX4WLBwPmT7ImoDAFGFjjUDvLv8ASj1WYAAyh6QAajlFDJM2YE7\n",
       "F2taRlKoaiq8Jgd8OR7by4Ih5q4UCxmAsOPJirLmzVNLnn7shNhur1VNrTDaK73MN0/7tW5M1iG1\n",
       "LtQHVTb8pHu0LLxAs9ZBA00jNfclMs3vZUrJHNzPLKACSZMCaKk5WaAKjy8vpMukq7r9Aog/ZYIB\n",
       "ULJPBiAFXX4Q6r6WlwlJQ0yFqfpIgpva0qqutimbChmAvoZw6FNK3jyF6SJI+Wp+B3itKrZCaK+0\n",
       "kdPZx81gbKLDB5/oi+Xp8Ke+BD2b2EOz7NfWkpBgGsqWEhyEi1hxNBf7jAEIFeBcWEF2d/epksqG\n",
       "wu3/glaVHST4BNBvOYDoHXOyawC5iommu2UAguPITyFZr8BKemtgMjbb8sSg1zVRHqtlu5VHMHn7\n",
       "LBi0KWOhBUB4ghnPxbq9eYrRBkdqqV+D16q8FVSbtveKgU6nRi6lvy8YfVR71NcgdWl9+ul8DdSv\n",
       "6lk0148m38RuL2qJPaBphOoEqq8zpdS0gQPMAirAhh2XlYH2Gl40KhdNCm2wnE8JPgH0IgcQ7Zsb\n",
       "XAPIVUx0a1EKILaCLENilqol07DVotkq2g5VQ/W72Lsn06DNrkwKLQB6CdcY5XDOm6cEBVCoCHPA\n",
       "a1XWCq6N7e1LDTs18l5rt7yjp3D4w/ojRykqZSGry6nGPVoht9ZwhSu1lPgaiClsA7gVfgzOFojC\n",
       "bliYAPgJ+AbQgk4GoJ9ie7tdA8hVTHRt3RlAq6EMGVVLKmB9MJHCyHlnLJpZYQ7TFWAAegt225VJ\n",
       "YWTR6VUBQL+Cq+ENBggPntgjLJ2H5z1XZa3g2tjesvUpZjRyurVb2k0AatFzK+/5mSpkjSNDPdVF\n",
       "5qBId5EqbYM/5DmAqgim1E5Q1t9zIThYYArD8M4MFs31CSA2yPPoBoSvIV2tgdzEROfknQCk9G2D\n",
       "IvZ2qsqSsI4kYbP2ixaGB+HlcBWLMpUVgADaTG7W2DAqG6q8kCjXBACt+tGWu8kDtubJE2TraK1L\n",
       "hRNjZXlVo6KlKm8a1WbtTXY6NXLItljUZrI7bt5BVkt6+d9GR8WssSbUk5eTx4DSplKlf5JJjllA\n",
       "hUw9VIX06OiwkwWqEMvBRwU2c/gEEHvMzIMI6e64h0W0m5jogorjDHTpsiEVezuxkyWjFUyuLid2\n",
       "4S9euD5ViuaxPNzxIAXQ6jxMn1dCZZJkqru0wuOUkgAg5dy9xysAD3nyhAO5Op/teQ7uHnKoavi1\n",
       "VOWtYNq0vUscG/mQbTy7ZSfV8qztxFxXOllfdaFCeP6ixhYEBQpgnwBqzfFd2F/7+1/1ACA3MdH9\n",
       "ZedHGLVDZr0wSz6X1ZOgp2rhaiaCud/BAxRAkE+VkwWqDMbsxgpr2bmqeBIdK27RTwbdetok2HWo\n",
       "avg1V+WtYNrY3ha17tDIlH2lcCc0VT6AcQComwNoCQYZ3AMo6iIm+qLaEECJj8kz8Gp2gjf6Xy2J\n",
       "wlKpXLYz9AHm2mIlWPNqHmJqqH4VU47ptllhKhd+2hTKUD4liIuWPXlaLNh1qGr4NVdlreDa2N6b\n",
       "R2sOjYwene9j+gRQusQBdAuGORtJ1QQgHhNd+vkzU7A/sjsGykYcictlNgDdZOOFFWTJgkXlyo/4\n",
       "uTnE5le1pH6YbhSKAIKbcEJ/zosnDH8ZduVVIw6NFFohtlfWyLlHI3yy/S/5q5ipcQAl1Rb5+aDy\n",
       "5rNwTk6LNOoHiSwmGqnRs87YDdrrzzSOxOXrzegJxX7k6vpY3n9VL6LC/5Nk+jiAwnXZGnrN1HVw\n",
       "UosaVW0AYjHRUBGyw2zveIERR3IHoFD/P5r4hzfX+wSUT/rzMv6qDiAozbdXii7B1X29iCcJFgCx\n",
       "mGg6j2+N0YgdezmJxpEcH2EmiTe1P+ITa/iau26i03pESv7RH2Hw1I1Ep2PN3uw83H2zMO0+vDjj\n",
       "G3e2wDML31zYKQKIxkShS1XInBPCyeh56gnjSPoiujwJoCO1RMk31X2s7gggfRENq8g6B4OzuSwu\n",
       "pmmYlm04Z7Q8tsw+A9GYKJwz9B7BURrXh/TtWBpH0rfxlTGGsJksw/gE4DgOjt4/9Xo6jc9sckv2\n",
       "OQNIOweCEBluDM5WMDRLU2qM9u4MKA7aAURjojCFGSF6CfruBo0jOR8kWoawmSzD+ETgOH5JNjev\n",
       "4IK+1OSGYKBCDqDWogYgKm2wmr3fRMO0ke8//PAvCYA2xyUAosL2fsliTM1QsNE4kiZzOscYwmay\n",
       "DOMTgOOInI0w5W00e56MFJ0AtLVqAtBuGISuBEstTCSqbAaKzbadA/HFFU47m8kW/ux/XwdGHIlf\n",
       "XSv9sx8RViFNZBnGJwDHMUs2J9nDeF82vSmvOAFIC6ZyQAyTmWdeFDFBw7R0sOcCvvMmLrx1AA0e\n",
       "VmkY6Na2KaoQRzLNbla5VxjCJrIM4xOA44iv3Sdxh3tK05tynROAWMRcA1AsBzfALR8SKLAw7Uqy\n",
       "ikm8Xba8Rmp9IxFNfAcDvJatQkY6OpGqMYRNZBnGJwDHEeNM9A6/iPxs2fv77UIHW7ISsWlYuIZm\n",
       "IqLMgKDwpBOAWMDT9kord5z608Pr7IYtAIrR/fyJKksIEuqznCr1U/ncGMJo81iG8QnAcSTgueN1\n",
       "fv9DMdsmcnQsWYnYNCxcQzMRUSKiwplOAGKnxVYAxRr2qwVANOITf0sM/fALI9Lq4Wv1IfTFMhwH\n",
       "dVB4s8GXd5PrcFAbOP11jf3TtrPAGUFRpBwZCRXgcT6rs2wj4iCvIAijEmoWGBGxAXeRKfDMaU4A\n",
       "+osUQBHwACDnTcR/5OUbX9aG0BfLcDzUwagIIO/eueulnz8zLcigqLZ27NEKSIclkLYDiSE+p7Bs\n",
       "I+Ig0xCFUgl1C4yI2IC7yBS0ydABQMpXUgDBEQGQnVjIfP6grA+hH5bheKiDsaoIIM/euetsDeLF\n",
       "xuuHccky4xhIBxCwwQzrgMFsQ+KgMfqaUCqhboESERtxFxlTkclyBwAFSiyEi6VroLfLxhD6YRmO\n",
       "hzqokfp8eucAChUhWYoGxn3WCI6Jw1oBXQitKKdUAUCYbUgcZBp6cAoYldCwQImIjbiLVKH9rCGc\n",
       "EGc5ACgUKLV5hUwx1i0MoQ+WoWfqIAwtHtCXK0+B1fsYrEUTSZADKJ2H5ZWM2bLoROrZgyf+cnr2\n",
       "C+3SowCbOk/At+Nx+PFFE57Fl2kk752ouoYWnDK4hhRAqMCIiMhddLCACkhd3MUQIgVQaz1IAGVk\n",
       "B0G3iUPonWXonTqYLU+N69vZ6VbvY7AWzSRBDqCufWRDfJvJssmJ1LMHT2HWb3F9j0Q20XN+fjFc\n",
       "wQCEtECeReKgThU0MwiZhhacMriGFIIGERH/Va+9sq6A1MURdpAgBdACNUgASbdh68Uh9M4y9E4d\n",
       "jMCjCT2z1Op9DNYivWwF0LdhUxUtUcusLk1ayYQmzx48sUk62nNIe8LeB/DEULgjzwCEtECeRXOU\n",
       "JWgmDiKVkGvw4JRBJaQzkEFExI6jF03cRUMhVMf/vABvOQDo7xAkgED2mn7ZNIRsHvRE4PNMHQSB\n",
       "o3+vzfsYrEW8bAXQsRAehpO4ZV4XkzYyIRywmnLlKWF97T6j30B0+A1iISUOnmo/KTE291pwSqcS\n",
       "Ugs6EZFyFx0tEIV0JVqsgFKTAyjgf3GnTXCOR3lcvBH4PFMHE30KtJ/cfsUfrY8w/tc0ZC3i5fYr\n",
       "Z5oAtJM8PCkU0TKvi0kbmVD07MFT2ProjxRNANK3kow4aD9NN6iEWnBKpxIyCzoRkXIXHSxQhS7I\n",
       "3FWh0VwZgJK5YAEUr7oAkCcCH7iiDpoofataSlGY3Z3uxLEZsgOoAWuRkwRnd2dEACkjZPPxXVJE\n",
       "LbO6LJnsFPyaPUv5kSLFUfCUtW0ONSqZsu1wXSAWUuJgyr6VNKiEWnBKpxJSCwYRkXIXHSxQhcsh\n",
       "+zR7aUEGoBVqsABK7HIzA3kh8IEr6qCJ0hd9f8eHkKxshPOEkTC8N2ItcpJgqHKbCKDBw2rih/Vk\n",
       "GahlVpcll4DAWjR7lvIjTRRHw1PStp/bJD2plmbNB+6ikoVraCYiSiwYCrTbZADSXpEO7KsOBl09\n",
       "wqhR1R2Bzx11UKT0seswE2oFgdSne2/IWmQkwQzsu9rk2nQmuUevQMmEYblnOT9SpDganjbZD1+9\n",
       "H5cd0eBKWQ6gwL/qwPplK84AckvgA3fUQaM6T22A96GtLJD6dO8NWYuMJLgBZhZsAAJ+4sTq0iSS\n",
       "CQ3WotmznB8pUhwNT4vhaBQJgK4CfwA62/0Xzl3rdgaiu3BxBywpBPMoNqAORiQplLl27w1ZiwZJ\n",
       "0A6gFlXqpCD3LOdHFmSegvv/nkcYQAl+rt/bO+gNQL6/cM4MIJ/MrHFQBwVSny/vioOxIyupoxI/\n",
       "n7xbsPJXN/Ie6Bk99D+rbUx9PYZaOAAAAABJRU5ErkJggg==\n",
       "\" style=\"display:inline;vertical-align:middle;\" /></a><br>(see <a class=\"ProveItLink\" href=\"../../../__pv_it/theorems/c0434fe06bb356a63c2477add523538f475cfa7e0/dependencies.ipynb\">dependencies</a>)<br>"
      ],
      "text/plain": [
       "<IPython.core.display.HTML object>"
      ]
     },
     "metadata": {},
     "output_type": "display_data"
    }
   ],
   "source": [
    "%proving unbundle"
   ]
  },
  {
   "cell_type": "code",
   "execution_count": null,
   "metadata": {},
   "outputs": [],
   "source": []
  }
 ],
 "metadata": {
  "kernelspec": {
   "display_name": "Python 3",
   "language": "python",
   "name": "python3"
  }
 },
 "nbformat": 4,
 "nbformat_minor": 0
}