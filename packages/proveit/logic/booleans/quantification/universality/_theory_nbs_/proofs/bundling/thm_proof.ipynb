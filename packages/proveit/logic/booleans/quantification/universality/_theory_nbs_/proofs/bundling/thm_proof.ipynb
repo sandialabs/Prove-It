{
 "cells": [
  {
   "cell_type": "markdown",
   "metadata": {},
   "source": [
    "Proof of <a class=\"ProveItLink\" href=\"../../../../../../../_theory_nbs_/theory.ipynb\">proveit</a>.<a class=\"ProveItLink\" href=\"../../../../../../_theory_nbs_/theory.ipynb\">logic</a>.<a class=\"ProveItLink\" href=\"../../../../../_theory_nbs_/theory.ipynb\">booleans</a>.<a class=\"ProveItLink\" href=\"../../../../_theory_nbs_/theory.ipynb\">quantification</a>.<a class=\"ProveItLink\" href=\"../../theory.ipynb\">universality</a>.<a class=\"ProveItLink\" href=\"../../theorems.ipynb#bundling\">bundling</a> theorem\n",
    "========"
   ]
  },
  {
   "cell_type": "code",
   "execution_count": 1,
   "metadata": {},
   "outputs": [],
   "source": [
    "import proveit\n",
    "theory = proveit.Theory() # the theorem's theory"
   ]
  },
  {
   "cell_type": "code",
   "execution_count": 2,
   "metadata": {},
   "outputs": [
    {
     "data": {
      "text/html": [
       "With these <a href=\"allowed_presumptions.txt\">allowed</a>/<a href=\"disallowed_presumptions.txt\">disallowed</a> theorem/theory presumptions (e.g., to avoid circular dependencies), we begin our proof of<br><strong id=\"bundling\">bundling:</strong> <a class=\"ProveItLink\" href=\"../../../__pv_it/theorems/03072422316c84eae178b24b3d130979b6a48c920/expr.ipynb\"><img src=\"data:image/png;base64,iVBORw0KGgoAAAANSUhEUgAABGUAAAAzBAMAAADMXKiUAAAAMFBMVEX///8AAAAAAAAAAAAAAAAA\n",
       "AAAAAAAAAAAAAAAAAAAAAAAAAAAAAAAAAAAAAAAAAAAv3aB7AAAAD3RSTlMAq1RmmUTNIjK7EInv\n",
       "3XZ/CtNrAAAACXBIWXMAAA7EAAAOxAGVKw4bAAAPWUlEQVR42u1dC4xU1Rn+53H3ztx57BCbRnxs\n",
       "x0hbUgQmCrYYA6MLgg90q42Jj8hUTUxJjGNqbFAqU9MY21IY2+KzlYsaWqGB8UVaUdxKGqikdqrY\n",
       "GOI2s4q162NZa1WE1O153nvuPfc1s3v3jgl/MrvnnPv/5/z3nm/O67/fLkAbom3ZokNHcvJQFaKT\n",
       "aFv/AsoHQ0XymQQI5MbHy0F10zUxV4n0EVSOoaBNSZTox5THKVTS4+P19jAzEFz3ODiGmc5E7YLm\n",
       "ZcykDnA4hYaZWOMYZjqUN6NtXmk5YgZmh46ZM+29FsO/4qWIMBNl68FkZPye6dfj8T/eiNiTt5wx\n",
       "kymEjBl1j73Xkti2pxoRZqJsPaB8ghYLL6Hfm6N2pEd3xAy8GjJmci17r6UwTFdFNTdF2XowSX2O\n",
       "hhj0gf7I179lZ8ycpoeLmbPlFcVK9OvJyNYzEbYeTPKH0ecoSgxG7spLzpjpKYeLmX1yr50R3WI0\n",
       "2tYDnk2MoQ/CTTx6L69zxozyaaiYyR+Rey07NPRGIzLMRNh6MOlFXbEezehJ5KU2esLPxEFx2/Dv\n",
       "dha9jO0GqORgCTYJNfSDVvCqQFR/whkz8N1QMZMryL2WrEFajwwzEbYeTBBebn8FzwCop5Iw3Fou\n",
       "XCvn+5JNL2O7AdrlxAdhkZltnAaJMY8KLOpnumBmrh4mZtbX5F5TC3Bz208yacl9va0FwgRbL4uZ\n",
       "eFhbLmOvcOjEnfPJM0YDyjdhkX4caPy8IlFNHImVtJ3TXEFPDUS5E4FsOjzKJrpUcTnE6lufOMGt\n",
       "AqrOF7sumNneChMzJzl80+FBeKb9WZ79fm90KfJ2oMNO76h1+miUjReeg2aL+WENL8aXYiP7nUU3\n",
       "WYPzUGrdB3xLBUk8UoL7WEMNRNGzLXg5NcosNHgZsq0yLHergKgb33gXzKSbYWLmT06YmdPBIpRh\n",
       "5vIqrK6K83MQuWpirbNHgzrueu+1wIREaZjHMwZmgPbfbEML9Sj0DqiH3et52V6wQk8dhjhHmXIE\n",
       "jf0fw5qamz1RZ3K1C2YSn4aImdRHTpjpSbQ6xAy+9WQdlrR/NjWB1tmj+RLAvfRIMBxZyR7ZUf6M\n",
       "i3SLskXEzIqqpid0D8wQg3nfGi28dT8rOQ/ygyZm0ED1PpzlgRmsnuhfd5Bh1REz2kchYib/qRNm\n",
       "Ml9DnZg/eMdSrmUmBVNrIcUMvlW0hEMPYHTpwWpQ80xRav2aArARQxmm8QSLmJdNzLwIyl7IWWsW\n",
       "vDDFUihU79MS2+7kP+Z33AJtQ2wQGhQzGvo8PnASZPAtNEnWPq0AM9Dm70YD/DC1gXsgXSCYITmU\n",
       "vgf9ep6o26HA1R+9upTFt7DABTN0+ggJM+lBJ8youMl3YvVrWZmQNMVWSDHzZfzABtUK5KvTe4pB\n",
       "zeNle+ta60iKubatV18rPTzzsoEZ9fOF/QC3WmoWvTDRaikUqvdpaQYbFPmuJoN6+vBjg0qRYmY7\n",
       "8n3uTy+CS1H65zrJap+wciNHDdRtFTgMF7Jr58CKEsEMySULykckNi0bm+q3/Qt6MaQudMPMbxhm\n",
       "CNxPDYyZQMG+bN0JM3A8+pTSrRqsImDHSWWObcIh1+2YwSeEPQWlDgl4OAXqgxDIXKnbW1cfaebr\n",
       "1Py22TBityaXbZhJNLWHAK6wOE68uPSg9QtECg3B1TNtn5auoHPHxs/Y1JlCg8nFrRmns/VM7gDA\n",
       "Y6PxfgQh7DjOwn5cXuY/hnRuEGshIL7ClDbtuqRKMENy2okH0diPHULqgvF+ENX78FIG4DU3zLzA\n",
       "MENu5obAmAkU7NtedsQMPbuqQmq2zpNZ2G4/26rK65ndeDFfjWN4ozu/8wAEMk/VpdZjjViLmZ8I\n",
       "fZI1vmzDTKwMcwFOsTqOvRjU7OcdlgkZVc+1vVv6if1RvW6kyHrmG0b2FviBmDWGU2O2ydbQN2Ks\n",
       "xpV20IUgy2UqoJbVqqBuiKG+FxYj3KtNN8wsGqCY+RGGfT0wZgIF+9a33DGzFqqQ03lSBfu4jQoT\n",
       "556xZFZNwMyv4Ep4lWAgNagCHIBA5ta5id1AtsbMX4O9kjW+PO+yWSJmskV4jnas4Dj2opqyTcC4\n",
       "cN6p8y79A6+ea3u3NMP+qOZZMWMcXqv3332BkDWP44zUGjTSJOplopSpaC8yzDQIIH5fhFV3/1gX\n",
       "1M0DP6aujsHrM9GYV3LDDOlXhBm8u8gUg69nggT75hbdMKMO7oAyfphagyZhA0rCVv6DFMZH4M/s\n",
       "LRKKmdXf33YXuoEmrM5UkgQzQczzLRkztRXEfCv6OitjdmtyeU49J2JmjQ4nK9Wc6TjSpF6kBwRL\n",
       "Vjinnh2YZVRPtX1aGpUWg3ykvP2mXXjlY4wi4+NjQtZcOhmpb6MJQO3TiVKuFWuAuuNoi5r8E412\n",
       "8LfxcVHdXFwxdaUA75XoiOCMGTJ/IMzgKz1trIGDBPsW1VzHmYuvGtXxw0y9SJPJGk6urab24B+s\n",
       "8H6tkiwKmFHPGT4BjS/3QfLtXe+STg9ibjx8s/V4/73EfG0RZiyoSNb4cqx2q4CZ/MZn4a5RXBV3\n",
       "HNlSL5bhJLXcwwvTtc1wrlE91fZp6T6pC+sup9kOWctJskUpvnCJaHKqsfryU6ceOWOmt8D2TX8d\n",
       "GtrXBmaCBPsOVd3nJlIPephxmnw2byTBSDXjjVzCcg6slLeZh3QHIJD543Lrv4VfUvOiVk2XJGt8\n",
       "OQdvXSnutS0nb2S2oWjO6C2eBKMwB7OgWeLVU23vljR5WXAHRCr5qjtm6gwzy/C5enDMJAME+17Q\n",
       "PTGTeh9NbrRjesb/x5NYaEor5Adi71gwo36IejpJobhuXzGQ+VK59T6lQswVPda6XLbGlzfBrJKE\n",
       "GVYXcVyhN3fTeJMnwSjcBG9DX5VVz7S9W0p257uDzpjJVhhmbsbxOy9pWDDDgn1X/Pfpafh287vo\n",
       "SRaLy1C5RMLMjRLDqOSULLnFm+BGPLY+2465EJ0yWr/sPb4xVhY2ZGt+WcZMRhc21Q7JhG3fbVTv\n",
       "19L8roTMB2+UyMc+ZjQZZtJ6xvmoTt3/DJxdEGN95EyPBvsSTXwsCcoN/NVfEpdh8pVJc16VTyyD\n",
       "ijbBpqv209ZQRIcvkOQGGWbiLacl8LrpG+CUjJ7UJczQYF+sDPkxuh0834zLBMHMMVJjt0p+6JWA\n",
       "mIHKQvlqchlebLfKeDdvwwwN9mWL+MUqEjVbZMZlXOcm1+XwMXEeUqdcyBf5DB/M8LkJnlyJEv3r\n",
       "hvML8BaZBjcxxwVmfvWODDy9eP/iAREzJNgHa3QVjSwxDIDnzLgMXwNXj2GmbYmYCndNAMwYa2BY\n",
       "jdYsOKRZyOO1MAlu0h3gzMwjV8njDAk1wtmjbyLoZPHyjrwmSuMyfK9d88RM9xPUpm462PjZtHsv\n",
       "IM8j4reV86UAmOHnMxBDPYxDmjX8+jJJ6Qrp0JlQHpExQ0KNMI1WgvRSJM5C4zKuZ3oWzHwBCGpT\n",
       "Jr3oq/trPHBHToVb6Y+Z3jKI70L0wVr6ug8Jbia+98ADv0CY2drjgBkiu+lWuKzoOYIvGpdhMnfA\n",
       "EzPdT1CbOsEhnLl4gRg5FW6eP2a2NyyY2QsjsCZFU4tTqQYdZ5Q50vkMW7DhwWUr2mef9e/rSFCF\n",
       "xmX4gyh5r2e6nqA2dYKn8UP4CQ9G7UlW98UMj1EyDIyh8WVBEsOABDcfZOdNw9Z1s4GZkaM6iaXc\n",
       "0jdNr6IEi8uIY5gHZrqeoDZ1gl8d31jrBiocJsn4YIbEng3MKAW4AW5+F/U+DW6uQreR+kfV9lai\n",
       "/T09XMV3cFi0aNuTVbwx0/UEtamTzyhT24kKJxPd7CJz5azcNxsxThZRAf/dBx/MkDii/G4nc0H7\n",
       "4wMbHPbnVswoZNN9sk4TgsRsA21yiEiBYybZ7QS1KROEF/X5IjhS4WSim11krpyV+2YjxskiKiQq\n",
       "vpghZ7USZhTPrszZX2fEN/uaPdqC8ke8x5mO6HFtyOQw6do1bUdavLkPdz5FHqoDFY5mPYhslCtn\n",
       "gSDhvhk1EKabF5dOpMIh+Phh5i+OmElAG5hx//b8xxszHdHj2pCJM+loyDUxEDaq03xQcKDC0awH\n",
       "kY1y5SxzDeG+GTUQppsXl06kwqXG/DCjfu6IGZgUzMicOBtm5oS7BJ4EJh0JuW4KzUP+Qk5vRcCM\n",
       "RIXDWS8iG+HKWevF3DezBsx08+TSCVQ4xXecCZUTBxd5r2c6ose1jZkJMelIyHVJeC4yKtx6vhVw\n",
       "osKRrBeRjXLljLAPMO6bWQNhunlx6QQqHH5c3piJhcq9XTHgPc50QI/zobNZCieBSUdCrs3OnbTy\n",
       "62Qn2YboEH9QNiqcDkbWnchGuXJG2AcrUe4bJ9NRYhx5aUWuQecKjAqHseCNmd5WmJjJlb0x0z49\n",
       "zofOZi2cOJOOhFyRacdOWvl1spOMbnATmDtdgQpnEt1MIpvBXzMSlCvHwz6kmHLfOJmOEuMwl042\n",
       "JgmRCod3+96YWaSHiRmvjROZwdumx/nQ2SgJzYqZiTDpSMgVJzt1kiTtvDnBSUqFO3/8Yb4CtVLh\n",
       "TKKbQWQzqXCcyMa4cjzsg5Uo942T6SjTjThkUOGMWkidAhWOEwTc5e8QJmZgnw9m6FjXDj3Oh86G\n",
       "C22YmQiTjoRciWmnTuKkxJsznfShwpnMNW8iGxYe9qFKmYqFTLeDcenkGliJQYX7IfhgJuS/jcaG\n",
       "MR/MtEWP86Gz4cLEktNFVtREmHQk5Erg06mTOCnx5kwnfahwJnPNg8jGQMXCPkSJcN8MMh1luhEu\n",
       "nVwD+asBAhWu3w8z6UK4mOlp+GKmHXocY5FZ6WwWShouRMpNATMdM+mMkGvT0UnT0NVJnrTx5gQn\n",
       "fahwJnPNg8jGvv4s7EOUCPfNINMRphvh0jnUgEsEKhzh0npiZoUeLmZSe/zHmTbocYxFZqWzWShp\n",
       "pPB4tSJgpmMmnRFyvc/RSbNdVyd5cpmrkz5UuJbzsbHbebWhZHLfbEy3lqO6oEAw64kZ9rJweH+7\n",
       "fiTA3ESq1APx2+JOdDaRkkYKm/n5ungO3CmTrmg937M7abbr6iRN2nlzppPdR4UjfDIvzIT+t+vt\n",
       "/yPDDTNB6XFXOtHZFGPRRAu1QvwpS+ygQyadUS8ztTtptuvmJEvaeXOmk11KhfPCzOXQGWbOCv4P\n",
       "n64NNs6Q/apTsmRTcaCziZQ0o1DETIdMOrNeZ9OEr5MWf52c7E4qnBdmUvTkWtuyrU3MdPw/vwS5\n",
       "MXx+06Qx6bSwPNS7ETH5od3uFzdTl/H//Po/ev5jQKfHmYsAAAAASUVORK5CYII=\n",
       "\" style=\"display:inline;vertical-align:middle;\" /></a><br>(see <a class=\"ProveItLink\" href=\"../../../__pv_it/theorems/0d800839dac099574cf668097cf9dceffcc1015b0/dependencies.ipynb\">dependencies</a>)<br>"
      ],
      "text/plain": [
       "<IPython.core.display.HTML object>"
      ]
     },
     "metadata": {},
     "output_type": "display_data"
    }
   ],
   "source": [
    "%proving bundling"
   ]
  },
  {
   "cell_type": "code",
   "execution_count": null,
   "metadata": {},
   "outputs": [],
   "source": []
  }
 ],
 "metadata": {
  "kernelspec": {
   "display_name": "Python 3",
   "language": "python",
   "name": "python3"
  }
 },
 "nbformat": 4,
 "nbformat_minor": 0
}