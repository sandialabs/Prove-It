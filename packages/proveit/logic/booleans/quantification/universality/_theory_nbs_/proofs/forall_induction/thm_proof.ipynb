{
 "cells": [
  {
   "cell_type": "markdown",
   "metadata": {},
   "source": [
    "Proof of <a class=\"ProveItLink\" href=\"../../../../../../../_theory_nbs_/theory.ipynb\">proveit</a>.<a class=\"ProveItLink\" href=\"../../../../../../_theory_nbs_/theory.ipynb\">logic</a>.<a class=\"ProveItLink\" href=\"../../../../../_theory_nbs_/theory.ipynb\">booleans</a>.<a class=\"ProveItLink\" href=\"../../../../_theory_nbs_/theory.ipynb\">quantification</a>.<a class=\"ProveItLink\" href=\"../../theory.ipynb\">universality</a>.<a class=\"ProveItLink\" href=\"../../theorems.ipynb#forall_induction\">forall_induction</a> theorem\n",
    "========"
   ]
  },
  {
   "cell_type": "code",
   "execution_count": 1,
   "metadata": {},
   "outputs": [],
   "source": [
    "import proveit\n",
    "theory = proveit.Theory() # the theorem's theory"
   ]
  },
  {
   "cell_type": "code",
   "execution_count": 2,
   "metadata": {},
   "outputs": [
    {
     "data": {
      "text/html": [
       "With these <a href=\"allowed_presumptions.txt\">allowed</a>/<a href=\"disallowed_presumptions.txt\">disallowed</a> theorem/theory presumptions (e.g., to avoid circular dependencies), we begin our proof of<br><strong id=\"forall_induction\">forall_induction:</strong> <a class=\"ProveItLink\" href=\"../../../__pv_it/theorems/9b99d7f571f4ed48bfe19e1b23358e2f31be571c0/expr.ipynb\"><img src=\"data:image/png;base64,iVBORw0KGgoAAAANSUhEUgAAApcAAABMCAMAAAAP1GxmAAAANlBMVEX///8AAAAAAAAAAAAAAAAA\n",
       "AAAAAAAAAAAAAAAAAAAAAAAAAAAAAAAAAAAAAAAAAAAAAAAAAABHL6OuAAAAEXRSTlMAq1RmmUTN\n",
       "IjK7EInv3XZQQBRtQDMAAAAJcEhZcwAADsQAAA7EAZUrDhsAAA5eSURBVHja7V2LlqSqDhUBUXmc\n",
       "6///7NUSFHkGtEqnq1gz3b1UNMImCSFsm+apZXyV5lf+2fLpHuxo/pqhP/sUOc2FXCHveVl+BYTD\n",
       "4QjCYenBIXgqVJg8h2GC8tcgfPotJb2oueKyKCnvhyy7/9lXtUPvIwsP0VNe4ejMw1uRfwLizWNw\n",
       "mZCF09tR2aj2xodTdW1LtDKGy8Apv4gT2mwEVMZd8xhcpmRZemMfoy1+OwZnyzYgNHRkG9otv3dU\n",
       "4GtHqKfyNlxCtCGd6o0HymOOCfYYXCZlWXqDbI/pPmBRp7X1BmNzxq65t3TjtZZD4hguvVMhcA3V\n",
       "LsSUfwOpmsfgMinL0hu9GcZseD8K+mkVp9W/G4JvxiUm1+LS9fIsXAIcQDbVejVdfoBj0TwGl2lZ\n",
       "Xr2hNUbDP+DoqanXv7X5Fs3dZQVLGJdDxQS5IzFcuqeCT5SVwwGgLgV/Di7Tsrx6A2uV9QmLOkzm\n",
       "94rPtrsdlx2O47KvMCGOj2jjEuA+GoNS/BYSoBPGx+AyI8vaG0IuRXxiAqKjeVvrE/3QUSk09jym\n",
       "sjOnQdPV2C3W6UjEjuOKRulQDJfOqfDIrbIgEDhL1DwGlxlZ1t4gfa3Nqms+xmV7UFazCPMQQqoh\n",
       "kVGfOQ0p0Vus8QoLl0RapWJhoz3oggMu27zKaqs8TJS/cT/1j8FlTpa1NxgyP97vXiLOOd5fTAMU\n",
       "z/YNz037WgEYvciWfXrkHKHyIXR4gjNRSc572q4UJ+NBdx1wOQLU2lTh2oxT3uFAV7nyF+AyJ4vu\n",
       "jUVVfiTEbtzL3f1dn7qMHqL7o1fK1Wn2afLSaOUj1LqFO3bT8/GxE4VNc5i7HHAJmdagCr2GAUpW\n",
       "oOfgMieL7o1WfWbW4+sCq8vFpkqCKyPm9DLvZHUmSQSVFU3rS9ZxVowSFsMlzs986MQrxjvAjOPH\n",
       "4DIri+mNrsG6z5QibP7n2t/g0aClTl3Ze02+OZrrXHVNvgnhcjuNx1pc7rcgeFbK5DAKYv6lrFhs\n",
       "GO1mP+JyBKBjEuUPhMzG8y/CQMkK53GZlcX0Bm91EFOxZcnBdanCR4NPTF6pvCDb8BoO40BXl4Mf\n",
       "9aVZEzqenn9L62ymy/xbjJguS8lmHWwFTkRf0qq1BttMHXEJsaZD8ajDABULmOcvmQpUfQCXWVlM\n",
       "bzDTXPgFlaVdmDU/347SVpGkVHv9YARlCgdp2qkfiVhuf8DlqM2+c1qn5pizgT/8Q/Yt2KiWg8b0\n",
       "raGqMC5ZnXdje5EOLgeIZis15AgSVD/KEc1UUBiGyzNpFWIA4rJBO5RWHdu3x7ys9ahYejpnhmI6\n",
       "mixN4QzHftV8RKmmJbh1/Eu5yuCcNiNGGgmlMcnbH9ah0C2QMm7l1syR9Z660AqforjkU7Z2Xzwj\n",
       "F/mbjl7AK5ap0Dl2yIv4rg12Iq1izAbfAr3RC+1kHHCpj7L1r2SrrldiQjEkVSiU97j7l23AVrP5\n",
       "pRiLnfVvFrhIzA8lZFXrTDYJfVlnp7ClvxxcYoBqmwoXZiDupRd4j2Yq4CNoRtkFcXkirSK/COD2\n",
       "BhMN79ZYjMblyI9Hm4Gaw86P45WtmsUFhHMwSeEyAGw29H2/Gh+QuQvdYnoNiLa3uuPSMJnd8A4u\n",
       "IQsz3VQmTAuIXnrh+nimwjG7RGFEg/5lfVpFfunA6w2iKFdq3HHZi/ZwdF0bWg/3glk/nCtnzwDk\n",
       "nQ2uTmK8m/jaeaMK2aylxM76uiRwEV2GuuLYHu2X4tI2VA4uR8ACEilcIycAhxS7k6l4pkJ38Bel\n",
       "lySgcVmfVoGzE7tUbxg7fsA2HxsVOBw4JJehRvMGaUyM9XT3gDpPAYfFtcsKE4rh0j4V77cy09gB\n",
       "oupeaCaWqeDkLy++mONAmvl4dVpFPmTFo/taeiVWBX2AVjerqtXIBhB3ODSi5Z0gMzWmmvuKWltI\n",
       "SXEtLoc4LvOY6wsjmAIQWOKOzxrNVHA2OCyYbEkQl9VpFfyKxCYMPnx3hu+DiuiiuBR5uzdOU9ko\n",
       "APQzca6JZSo0JmFAwxd5U+ANl5m0CibJYoSwH7El02/3+T1FyigupYQArSQ+xSAwRlPYvdzHC91V\n",
       "qVXtJYhSIVzG0ip6hYZldtyixe1ryJiTJSjv7CKwH5Dghn9ur7w3J0UclwAbLYty3VpAmMjDQiJT\n",
       "ge4S6pjmKIO4DKdVED01blqslsgMb2pw2f2gVuzZ4HfjsiuakCtIHN6xnalMBSs9wcSASBvC5Z5W\n",
       "YWUc7OtFbd/SefLAsz7Fv4RL9lyBILg8Z8dR0Uokh0zf+XEOHMtUcCQ2sh4ifjsuTVqFlXFghVfa\n",
       "frbjLeU5Wf4lXN5KdhAse0IDAJfn5j2zQkEFC9AIEHrawuibRvbAst1kjxjh7Z3tBdkdlyatwso4\n",
       "oNjG5WzH1ZCTJY7LT1Ib+FL6GQR3kx2E5cQFuIzHLyHpuXyxzOAF6AGy1+MQy45nKhxxt+8L6FUI\n",
       "l3taxZZxgLvhVdoVlyMPaD4MxeVnqQ386aeTQXA/2UG4qUYwLuPrPQ0ERHyZyYAXoDvILfP7eE0k\n",
       "m+UcjVCe25Zx0PODvlwy0Cpk0bj8KLWBH1dwMwjuJzsIqxwCxeVo+YfeOiTAFKhXYB26AC0ht8yn\n",
       "q5vXyzZ+AJdWxsEeZ1+DowpVyGL8y09SG0TdjT3vUDSPLFqf53F5Mm9jNnRTA1+AFqBZUl6prkuy\n",
       "edUUwKWVccCMK9rrVH9UI4t+6U9SGwT8I/PbBL4eOhnTS3V5XNoJMw4uQdtwV1xCF6AFKKoks426\n",
       "TqUHVoHLw2344l/Sc7IYJH6Q2sAfPU4GAZDs4AKug8J76ClrHpd2YoKDS8g2mxm8L1wCF6AFaEcZ\n",
       "YJvukqmg8uKd30cBkMXsfv0YtUHE6FkZBECygwu4DgrvgTsgLlE8Xx2y1mFweViApvO0mxOEfNxM\n",
       "IFziyxalz+MSIIvG5eeoDQLKxckggJEdXMB1kCA7sFTq/mCd0JDHpb1/xd13BplZUr3ifViAxuu+\n",
       "TRnAZQsa/u1jcAmQxTT6x6gNou6l1XcQsoMLuA4SZAeN8cztB+uEhiwume3wHXHJQL5grzOEDgvQ\n",
       "aF3mmwK4/A80a/uHeA321/4YtYHfrF0El68/k2QHF3AdRMgOGms5bXswBerLc7wGc/mfyVzrrCUX\n",
       "8dIxAcIpmL5syIN4YPKy7Nnzn6E2COgGb7IFJTu4gOsgRnYQxKX+K4tLFOeBQRLWJhqX277+5f2W\n",
       "l0SBCAsQl3Sij8FlXpYNlx+iNgi4l56ISbKDNNfBVWQHQVxqiGVxGefNamCJQr3JqGS7wcNCKRXc\n",
       "ASqADC+SPAaXeVk2XL6Z2sDAh7lzfj+DIEl2kOY6SJEd+KwHCbKDIC51/CqHSxznGQROiumW6bvv\n",
       "60foXJzouhn5FbjMyrI7d++lNtDjw71nKIMgTXaQ5jpIkR1YrAdJsgOyxIXF8gMfcelsBIz2W5yX\n",
       "FUiNSgMZ6PGvoEgoI9a/w2Mdnuu8g9pgxwRg0CbJDtJcB9eQHQT1pUloyODyHI91DJcsXhWcRXyR\n",
       "wryG9z8ji4dLKLVBgNkgRW1QhMsk2UGa6+AasoMgLjdCijQuh6NOtHE5AEM1rbchUg0TH6OBNqge\n",
       "7PhjcJmTJbA/A0ZtEGA2iFEbcEKInP9TKC5TZAdproNryA4sXO4P3hIa0rikU/Q7KRSqr/BUEoxF\n",
       "YK7t/kHflcrIkoxZpqkNQjPuKLVBkb5MkR1kcHcJ2cFBX3pjJY1Ld1eavSsBHqMoCSWTCRwxV8Nj\n",
       "cJmRJdEAGWqDEJdGnNqAOPfMlFvJDg7jyAp/QXB57jt85soiwo2Sq/+R75bC1ngw+CiG9/O/W1K4\n",
       "pF57brikcB1Iir6CgUu0a3d+lVzii76qnpKl+9D+cf5HQKmkTHy3tj+SRy79Z8xV38G7cijap0uL\n",
       "aGPOf4teLs78JXpm6Jtf+UAZHewNSw8OwVNpRVKU+8MKaWN+5Vfqiihb659OfB16MQD9HXWvK+z+\n",
       "R78a4hmt8c5SSBgsz2Rk8JvqXudZ3Ug1sJMKvJriEe3xxlFYyDOIznyaZ2nLWv6AM3WrIPg4qoGN\n",
       "VOAbcEkLif/VmVnI0pa1/AFn6lZakqdRDWw7ib8Al6UfSqFTdw6XtfwBZ+pWledRDZgl82/AJSrc\n",
       "ilPC4+ptLXy1ZSV/wJm6lSP2cVQDWnN/Ay5lad6PhE/IXRL/tS0r+QPO1K0qD6Qa6PC34HIs/kAk\n",
       "L5j4YB6aU9fxB5ypW+de3kY1EL2FXl3+Aly2U+nORZqpcfgSqzNJWtuyjj/gTN169/IWqoHoLfQ2\n",
       "7i/AJSrf6S1KVnzaw7r02pZ1HP6gupe6l3dRDcSZBjSpwBfgUpQvK5KiBaKxs3ZC67as4vBP132f\n",
       "e2m11YeoBuJMA5pU4O/jsp/KVQ8tiSyxjjMPW1Uc/sm673Avb6UaCDMN0G/Rl6qGsEUIsH8pj/Fv\n",
       "05Y1HP5e3fdyD9xLNRBhGmjll+CyE1VghjYJHcLYquHwd+u+mXvgWqqBi5gGdH7tn8dlP1UFXKDG\n",
       "3/uWrGnLGg5/t+6buAe2EXsl1UCCV8D/I8E0oCNVfx6XqG4zLfSbi14q7taWFRz+ft23cA9oAFxM\n",
       "NeAzDYQ4B5JMA68r6FfgcpxQZT2YmvV63W9LOId/aAL/Bu6BVDlBNXAJ04AhFfjruFS1Ob6qkrTA\n",
       "a8sCDn+3LpR7IMQ7kOAeSFr+eqqBS5gGTN7IX8elqE5Zk/waXBZw+Ht1gdwDIfKBCPdA3jGppRq4\n",
       "hGlgS6L647hU9VQtbZ2mTbZlhsM/VTfNPRAiH4hyD6SRU0s1cAnTwDYq/jYuxzOZ56QqAZKf2JUS\n",
       "r5vhHgiRD8S5BzIe841UA4ZUQElB1x9/dDJ+KrdWPvBzXBh8GDe/8tBCxamknF6Mvzb8levLWYYV\n",
       "yn5t+CvXe5c2LP8Pu7Ke4oylL9QAAAAASUVORK5CYII=\n",
       "\" style=\"display:inline;vertical-align:middle;\" /></a><br>(see <a class=\"ProveItLink\" href=\"../../../__pv_it/theorems/12f396e587fa88f123d2c536c22f02188a679aa60/dependencies.ipynb\">dependencies</a>)<br>"
      ],
      "text/plain": [
       "<IPython.core.display.HTML object>"
      ]
     },
     "metadata": {},
     "output_type": "display_data"
    }
   ],
   "source": [
    "%proving forall_induction"
   ]
  },
  {
   "cell_type": "code",
   "execution_count": null,
   "metadata": {},
   "outputs": [],
   "source": []
  }
 ],
 "metadata": {
  "kernelspec": {
   "display_name": "Python 3",
   "language": "python",
   "name": "python3"
  }
 },
 "nbformat": 4,
 "nbformat_minor": 0
}