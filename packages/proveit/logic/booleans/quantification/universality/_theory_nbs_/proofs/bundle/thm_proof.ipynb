{
 "cells": [
  {
   "cell_type": "markdown",
   "metadata": {},
   "source": [
    "Proof of <a class=\"ProveItLink\" href=\"../../../../../../../_theory_nbs_/theory.ipynb\">proveit</a>.<a class=\"ProveItLink\" href=\"../../../../../../_theory_nbs_/theory.ipynb\">logic</a>.<a class=\"ProveItLink\" href=\"../../../../../_theory_nbs_/theory.ipynb\">booleans</a>.<a class=\"ProveItLink\" href=\"../../../../_theory_nbs_/theory.ipynb\">quantification</a>.<a class=\"ProveItLink\" href=\"../../theory.ipynb\">universality</a>.<a class=\"ProveItLink\" href=\"../../theorems.ipynb#bundle\">bundle</a> theorem\n",
    "========"
   ]
  },
  {
   "cell_type": "code",
   "execution_count": 1,
   "metadata": {},
   "outputs": [],
   "source": [
    "import proveit\n",
    "theory = proveit.Theory() # the theorem's theory"
   ]
  },
  {
   "cell_type": "code",
   "execution_count": 2,
   "metadata": {},
   "outputs": [
    {
     "data": {
      "text/html": [
       "With these <a href=\"allowed_presumptions.txt\">allowed</a>/<a href=\"disallowed_presumptions.txt\">disallowed</a> theorem/theory presumptions (e.g., to avoid circular dependencies), we begin our proof of<br><strong id=\"bundle\">bundle:</strong> <a class=\"ProveItLink\" href=\"../../../__pv_it/theorems/ac370961257c7dceed45943f76d40bee953aab800/expr.ipynb\"><img src=\"data:image/png;base64,iVBORw0KGgoAAAANSUhEUgAABGUAAAAzBAMAAADMXKiUAAAAMFBMVEX///8AAAAAAAAAAAAAAAAA\n",
       "AAAAAAAAAAAAAAAAAAAAAAAAAAAAAAAAAAAAAAAAAAAv3aB7AAAAD3RSTlMAq1RmmUTNIjK7EInv\n",
       "3XZ/CtNrAAAACXBIWXMAAA7EAAAOxAGVKw4bAAANkklEQVR42u2dD4wU1R3Hf/tnbnZn/9wSm0ZA\n",
       "rmugLSkCGwVbCOEWD4QW0Ss2JIgpWzQhpTEOqaFBCWxNY7SlsLRFAdMyqKEFGlitkhYsXiEGKind\n",
       "IlhDvGZPsPZEzmtRoZByff9m5s2/vZmFuVmz/JJl38x7b96beZ99/37z5QA8mLRzpwJ12ahuGYKz\n",
       "YEv/DNq57iz5XAMEUgMDebdp40X+qBDoIyhcp8CjRXL0o9sOikp8YKDkjZlO92lvgOvM1GdiAxRv\n",
       "ZSZ2SsXJN2ZC5evM1GnvBlu8ULVlBsb7zszt5lYL4a9wLiBmgizdnfUObBj+IO7/w+WAa3LanplE\n",
       "xmdmxMPmVovivC1yQMwEWbpL+xRNFt5A39uDrkiLYssMvOkzM6mqudViGNOVQY1NQZbuzmJXUBeD\n",
       "PtAR+Pw3b8/MLYq/zEyzziiWoa+XApvPBFi6O0tfRJ/LKNAVeFXesGemJe8vM0etrXZbcJPRYEt3\n",
       "uTfRjz6Im3DwtXzAnhnhgq/MpC9ZWy3Z3f1OOTBmAizdnbWipliPRvQoqqXUN+InfKe4u+c3+7O1\n",
       "MpszoDNncrCNu0IHSJlaF+CTv2jPDHzHV2ZSGWurRYsQVwJjJsDS3Rni5bHjeARALRWFnuo8Li6f\n",
       "botWamU2Z0CrnHAXtOuH5Vsg0l/jAobktzswM1Hxk5n1RWuriRlY7vlJRg1HX/Y0QbjK0vP8Qdiv\n",
       "JZe2Vvho5P7J5BmjDuWr0K7cAJK6XxGRI5dCOWn/MEfoaQbeHkeQDYfn2UAXy86DUGnXiyOcLkCT\n",
       "q5NdB2b2VP1k5iabXzpsgVe8j/Ls+2zfbFTbzjobva7S6aMRts6dgUaLyX51L9qPYiv7TqKbLMKd\n",
       "KLTunLqkgijuKcG5r6EZeFOSVTgW62M5JDgGyWoe5jldgCTXfvEOzMQrfjLzJztmJtQxCWXMLJBh\n",
       "lcyPz25s0dWVzh4NargHa88FrsqEsr49ozEDtP3Ga6lQi0Jrp3jR+TrHzCcWK7GLEFYpEy6hvv8T\n",
       "WFN0yk+SM7vfgZnIBR+ZiZ23Y6YlUq2TGXzr0RLM8r43dRWls0fzOYCn6ZagP7aMPbLL6jPO0iXK\n",
       "Tp6ZxbKkRJQazJAMk77Wlzm9iZ25E9JdOjOoo/oQptZgBiePdKw7w1i1ZUY67yMz6Qt2zCS+hBox\n",
       "fWb1bDWVHuSyGk9SZvCtoikcegB9s8/IbrMnspbSv50B1mMIPdSfYDA9WmfmIAhHIGW8MlcL3Qwn\n",
       "ucsPUhJb7qQ/Ue+4CtLGUBeUKTMS+uzovAkS+BYq5NA8rADLIE0+hDr4HpoHNkA8Q5ghRyi8AX39\n",
       "kSQ3o6Amf/7+XBLfwhQHZujw4RMz8S47ZkRc5Puh0hJ2jgvqZjpJmfk8fmBdYgHS8vCWrNvs4by5\n",
       "dKl6KcaqtrtVWWt5eHq0xox4ZXoHwArDlfla6LQaTnKXH6SkMaxTVFc1CdTSF1/oErKUmT2o7hN/\n",
       "fBfMR+GfKuRQ+pSd145oBnF3AS7CXBY3AxbnCDPkKJoRzhPftDWznvzRf0IrRmquEzO/ZMwQ3Ee7\n",
       "ZsaVsy9ZsmMGbkSfXLxahJUEdhwUJpgGHBJvZgbvELZkhBJE4FcxELeAq+xCyVy6+FwlXaLZHx0P\n",
       "vebcJNrETKQiPQuw0FBxUov5Z4w/IHJSM3x5lnqQkhbSsWPrf9nQGUOdyd3VMbey+UzqFMALfeEO\n",
       "hBCuOD6EE/h8Xv2nW1EzhKoIxOMs0bYD98iEGXIkjTyD+n5cIZScy3wC+ORteCoDcNKJmdcYM+Rm\n",
       "lrpmxpWzb0/elhm6dyVDbLyiBpOwx7y3JVvnM4fwZF4OY7zRnT9+Clxlj5UspYfKoSrLPhLaLLlx\n",
       "tImZUB4mAtxsrDiuRZdk3u8wDMjo8mrq2iU9ZX5Ub2shMp/5inb4CPyAP9S6U220SRbRL6K/qCba\n",
       "SyeC7ChRADEvylxyzbTkR2Am4l6sODHT3kmZ+SHGvuSaGVfOvvVVZ2bWggwpRQ2KYO630cnIHbfN\n",
       "GlfkmPkF3AdvEgZiXSLAKXCV3Tg2sRtIFln2k3DEkhtHT7p3HM9MMguv0oblKo5rIcdMAzA+OWn0\n",
       "pPm/Vy+vpq5d0hjzo5pkZEbbvBY3PfkN7lDfjtNCa1BPEynlSaJEQTrImCkTIH6bhZVP/kjhkusb\n",
       "fiy52A9vj0V9Xs6JGdKuiBm8ukhk3c9n3Dj7JmadmBG79kIeP0ypTIOwEQVhl/oPORnuhdfZWySU\n",
       "mVXf3/0EuoEKrEoUooQZN9nTVSszxcUk+y70cxb6zblJ9IRSimdmjQKjBDmlVxylpLWId3I52ckJ\n",
       "pWTnOO3yNPUgJfVZJoNqT/nYwwfwzEfrRQYG+rlDfeqkhb6JBgCxTSGJUtVQGcS9l6s0yz9Qbwd/\n",
       "HRjgk+uTK5ZcyMDZHO0R7Jkh4wdiBse0eJgDu3H2tRcd+5m7F/Up+GHGDtJgtIiDa+XYYfwPO7lJ\n",
       "KkSzHDPijJ4RqH95BqLvHfiANLqb7NrD10sPdzxNsq/NwpgpBUtuHB0qruCYSW/dB0/04UupFUd5\n",
       "aS3m4CDNeVg9GS9uhzu0y9PUg5T0jKUJSw672TaHhp1kQ6Lw9Fl8ltHa7Guw5LRG9sy0Zti66S/d\n",
       "3Uc9MOPG2feR7Dw2keughxmmwX1pLQhaqBIupyKGfWAhv1vfpDsFrrLvsJb+a/g5zZ6V5HjOkhtH\n",
       "p+D0ffxa27DzRkYbSnNCqapB0E6mYBxUcurlaeraJUnWacFqCNTSsjMzJcbMHLyv7p6ZqAtn32tK\n",
       "TWZiH6LBjTZMy8D/1CA2GpIy6c7Q+wZmxH+jlo5SFNcdzbrKPttaeptQINkFJVRdYM2No7fBuJyF\n",
       "GXYtUnGB3tzDAxU1CNrJbfAetMns8ix17ZKijfnuoD0zyQJjZjn239WysoEZ5uxb+PHLw/Dtpg/Q\n",
       "nSzml6F2j4WZhywKo5xdMOfkb4KHcN+6z0t2zjullX7vWXVhLEwvW3Or0VZmEgq3qLYJRkzrbu3y\n",
       "g5U0uSGROfdOjnzMfUaFMRNXEvZbdeKJV2Bahvf1kT096uyLVPC2JAhL1Vd/iV+G2ReuWeVF646l\n",
       "W5OusmjZvNvqiynwGbJUF2MmXLWbAq8bvhFuTihRxcIMdfaF8pDup8vBr+t+GXfMhLr/DtetMTuY\n",
       "7qwbZqAw3RobnYMn29U8Xs2bmKHOvmQWv1hFvGbtul/GcWwyWMv1tnHRqQZTfKTWFr82NsFLy1Cg\n",
       "Y11PegpeIlPnJta4wNgvrk7AyzNPzOzkmSHOPlijiKhnCeEu51XdL6POgeXrzNRhjSKGczRtDgyr\n",
       "0JwFuzQzaTwXJs5NugIcm3hukbWfIa5GmNb3LkIniad35DVR6pdR19rFQZhpfIna0FnjieGcmVH3\n",
       "ZyCEWhi7NIv49WUSUgSScyzke63MEFcjDKMXQelixM9C/TKOe3omZj4DErWhs4YTwzlaax74dyHa\n",
       "YC193Yc4NyPf3bz5Z4iZXS02zBA7RJfCeUFJkVKoX4bZxM5BmGl8idrQWeOJ4RxtT9nAzBHohTUx\n",
       "GpoZi5VpPyNMsOzPsPkS7lx2oXX21H89QJwq1C/DYtfbFryFm880vERt6KzxxHCOpvooGQP9qH+Z\n",
       "EsUYEOfmFrbf1GOcN2vM9F5WiC/lkbZhiowCzC/D92EWe4pjpuElakNnjSeGczTie9aYETKwFJZ/\n",
       "gFqfOjdXohlJ7C3Z9Fai+T09fIlvYbeoaVGfsr39SFlnpuElakNnjSeGczTiR7S+28lqKP1h80ab\n",
       "9bmRGYEsukcpNMBZyNTNRruJfawzE210idrQWeOJ4RyN7NVamBFqNmTK/DojvtWTZm8LOr5kmz28\n",
       "RGOmLoGcFzOMjp60dMa3BZpRDOdof7ZlJgIemHFeCvzH/vz211Vm6hLIeTF2Y/Vo6ahMrYnFcE4m\n",
       "XrFlBq4JM1ZNHC3ze7LGzASfp8D0xurS0rGXZZpXDOe4FvdTEwd32c5n3pK1sakugZxnZurT0jGZ\n",
       "WvOK4Zws5Kv2drFdQk07gpmpQyDHicsM4jVrtMqMrqXzpGijC5HmFcM5rvCqfjKTstugWcHtz9Qj\n",
       "kNPFZUbxmiVaY0bT0nlTtI2hg3fTiuGcrF3xkxnbhdMmnpk6BHK6zoxIysyiNBJtZEbT0nlTtBGZ\n",
       "WhOL4Zzsb+AnM2D3VrpsYIb2dp4EcrrODEvKLKI0FG1ihtPSeVG0kQ3rJhbDOU+dfGWmvdY+j86M\n",
       "N4GcrjPDkjKLKA1FR2bdWuaY0bV0nhRtZNRoYjGcg8Uz/jLTUnbBjJ1ATteNmRRuus6MScrMojQc\n",
       "jRJXOGY0LZ0nRRv06U7XphTDOa7K/WUmdthNP2MjkNN1ZiaFm64zY5IysyiNRN8oFjhmNC2dJ0Ub\n",
       "Sq85XZtSDOdgx8FfZvjpaI2xiVxUMSjcdH+nSSCn68yopMwsSiPRlfRkhd8HNmjpXCracNtlTTtv\n",
       "TSWGszff/+9689/IcGbGLJATtJmQUeHG6cyopMwsSsPRUib8O4PvgNfSuVW0RWUuqhnFcPa2AOpj\n",
       "Zqr7P/i0xG0/QxbV/NLV5iSYxGW6ts0mmmfGoqVzoWibzJ9oMjGcMzMxum8t7dztkZm6/+aXkZkh\n",
       "0DfJlg1P16bUOLp2pjQkMjbiSWbbaYXx3/z6P3MMb8OkUfH9AAAAAElFTkSuQmCC\n",
       "\" style=\"display:inline;vertical-align:middle;\" /></a><br>(see <a class=\"ProveItLink\" href=\"../../../__pv_it/theorems/ee4cbdac5642f209cd50cb29049a0dac338afbc00/dependencies.ipynb\">dependencies</a>)<br>"
      ],
      "text/plain": [
       "<IPython.core.display.HTML object>"
      ]
     },
     "metadata": {},
     "output_type": "display_data"
    }
   ],
   "source": [
    "%proving bundle"
   ]
  },
  {
   "cell_type": "code",
   "execution_count": null,
   "metadata": {},
   "outputs": [],
   "source": []
  }
 ],
 "metadata": {
  "kernelspec": {
   "display_name": "Python 3",
   "language": "python",
   "name": "python3"
  }
 },
 "nbformat": 4,
 "nbformat_minor": 0
}