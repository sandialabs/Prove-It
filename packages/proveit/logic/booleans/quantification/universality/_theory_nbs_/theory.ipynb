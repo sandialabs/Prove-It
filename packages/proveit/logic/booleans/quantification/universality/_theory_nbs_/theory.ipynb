{
 "cells": [
  {
   "cell_type": "markdown",
   "metadata": {},
   "source": [
    "Theory of <a class=\"ProveItLink\" href=\"../../../../../_theory_nbs_/theory.ipynb\">proveit</a>.<a class=\"ProveItLink\" href=\"../../../../_theory_nbs_/theory.ipynb\">logic</a>.<a class=\"ProveItLink\" href=\"../../../_theory_nbs_/theory.ipynb\">booleans</a>.<a class=\"ProveItLink\" href=\"../../_theory_nbs_/theory.ipynb\">quantification</a>.universality\n",
    "========\n",
    "\n",
    "Universal quantification is a general expression about *everything* (`Forall`: $\\forall$).  \n",
    "The `Forall` **Expression** derives from `proveit.OperationOverInstances`.  As such, it has instance variables (`instance_vars`) with an instance expression (`instance_expr`) and may be restricted to a `domain` and have zero or more `conditions`.  For example $\\forall_{x, y \\in S~|~Q(x),~R(x, y)} P(x, y)$ means that $P(x, y)$ is `TRUE` for all occurrences of $x$ and $y$ in domain $S$ given that the conditions $Q(x)$ and $R(x, y)$ are satisfied.    The `conditions` may be any **Expression**s involving the instance variables."
   ]
  },
  {
   "cell_type": "code",
   "execution_count": null,
   "metadata": {},
   "outputs": [],
   "source": [
    "import proveit\n",
    "%theory"
   ]
  },
  {
   "cell_type": "code",
   "execution_count": null,
   "metadata": {},
   "outputs": [],
   "source": []
  }
 ],
 "metadata": {
  "kernelspec": {
   "display_name": "Python 3 (ipykernel)",
   "language": "python",
   "name": "python3"
  }
 },
 "nbformat": 4,
 "nbformat_minor": 0
}
