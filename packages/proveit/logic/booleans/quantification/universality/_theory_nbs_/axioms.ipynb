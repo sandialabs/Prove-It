{
 "cells": [
  {
   "cell_type": "markdown",
   "metadata": {},
   "source": [
    "Axioms for the theory of <a class=\"ProveItLink\" href=\"theory.ipynb\">proveit.logic.booleans.quantification.universality</a>\n",
    "========\n",
    "\n",
    "Note that $\\forall$ is a core concept of **Prove-It** pertaining to the *instantiation* and *generalization* derivation steps.  As such, axioms are not needed to define the fundamentals of $\\forall$.  These axioms just add some extra properties that are not intrinsic to those core fundamentals."
   ]
  },
  {
   "cell_type": "code",
   "execution_count": 1,
   "metadata": {},
   "outputs": [
    {
     "name": "stdout",
     "output_type": "stream",
     "text": [
      "Defining axioms for theory 'proveit.logic.booleans.quantification.universality'\n",
      "Subsequent end-of-cell assignments will define axioms\n",
      "%end_axioms will finalize the definitions\n"
     ]
    }
   ],
   "source": [
    "import proveit\n",
    "# Prepare this notebook for defining the axioms of a theory:\n",
    "%axioms_notebook # Keep this at the top following 'import proveit'.\n",
    "from proveit.logic import Forall, in_bool\n",
    "from proveit.numbers import NaturalPos\n",
    "from proveit import n, P\n",
    "from proveit.logic.booleans.quantification import general_forall_Px\n",
    "%begin axioms"
   ]
  },
  {
   "cell_type": "markdown",
   "metadata": {},
   "source": [
    "**If a $\\forall$ statement is not true (the instance expression is not true for all valid instances) then it is defined to be false:**"
   ]
  },
  {
   "cell_type": "code",
   "execution_count": 2,
   "metadata": {},
   "outputs": [
    {
     "data": {
      "text/html": [
       "<strong id=\"forall_in_bool\">forall_in_bool:</strong> <a class=\"ProveItLink\" href=\"../__pv_it/axioms/8c35c0ece5becc381bc33e2c01e63a020945c15e0/axiom_expr.ipynb\"><img src=\"data:image/png;base64,iVBORw0KGgoAAAANSUhEUgAAAbcAAAAWBAMAAACxjs8nAAAAMFBMVEX///8AAAAAAAAAAAAAAAAA\n",
       "AAAAAAAAAAAAAAAAAAAAAAAAAAAAAAAAAAAAAAAAAAAv3aB7AAAAD3RSTlMAq1RmmUTNIjK7EInv\n",
       "3XZ/CtNrAAAACXBIWXMAAA7EAAAOxAGVKw4bAAAFWUlEQVRYw71YfWhbVRQ/yXsv7+WlSVtUtCoj\n",
       "oo5itYbZ+YFDA6065gdxA8FtakBBHMNlIJPq2OL+Et1qFEqt4Pp0Q5yDGmenjOKojjG3oXSjjlkW\n",
       "eFvroEpj/lBbV7Sec9/XfR9JJhEP5L3zkXNyfvfce+69AahLiVI+SJ2D2bPQIMkNe1fJQa6atodi\n",
       "mUDISTjYKDa40JC3pOPDk8Ts8U0bT2WYCfNuIdWNtcGF6BVOubQdFLe+cxDNLL7d9pxGIYuNjc2U\n",
       "HxwUnpY3XMVMCO4B0jxfG5xItYvkeKWapbj1nQPpD4DoCXx/1GDhI1oAuDXwZZSZENxrNEMLtcEp\n",
       "VKFel1JMUdz6zkGk/I1Fww90NwhOSAeCWxZiJgRH6GPJOmtuA74OuJRNbEbUdw5crvP4WUBmrNE1\n",
       "e8IGl3i/dMYGF2EmzFvAEkTqNZQ78JV1KZcycPWdgyhawQ8CDGcbBfesBU56UXMqd/W9zESN8LtS\n",
       "6WQ9cE2l0jn34n/YWMt1nYOoGSfyW9jORAo5fP7jUa72HtFPavnaN+1J9JkFbovmNJThU0VmInAr\n",
       "Ad4LCFLkwYl5iGreMaO4VZxrEwJ79TT1A+q/6cQScdyxeUQ/iXBef9QS7rTAOU2t8NTGv1YxE4Hb\n",
       "DHJLQJA0Dw6/sRm5J38baTV75mkDXBXn2vTrdaPL6R3HEgk54VIoBXvMGWqI6mirVs35Lrhfu8IS\n",
       "brXAZfmGMvWERiYCF9Vcu7Q8cRBWtHjAYXkoiDAOMXNYjxrgPM6XR0NWU0JXBURMTCmbYQ1RhOrV\n",
       "y8OD3BwwwSm4PEo/WuCiUpFMlFlYd1pCX1s/3BDTRM0LrpONTSgNiYoLHO/8b7Y5Gxw+6ZwRtsGQ\n",
       "2JyR56u7f++w601waoGvXBQKZGLDnr3Pns8r6cChp2Mw0jPRk+HARQRKoSkJ8RbXtDScyw9NWzs8\n",
       "xzrkVioLJhNnneOZnKpx4EgUtBrgpDn4BLruLtPo32ZNy3E3uCyZGLgDuIsJ3X3TxnEG2m/eFvOu\n",
       "OYgtpUWwXZOvNJW7TXDknMi1RcwOx7HcvuZWJn63tgQcsH2Z6yFmVE4FW6TZr/pxYQ5qf2gMiury\n",
       "I3AMFfdY4MoucGGdTAzcVizGnvWpppxR3PbYh+t84OSviVtRvqA5TZjFJWcBdisgs67J2NXT7nXI\n",
       "lNyhqWIFRt/b33gEVhvgPs3aIuzSmKjSDGYPSwrP7x2TkvJwFi4ZG5IBzhm8wjo4PMJMDFwIrwav\n",
       "XIRmTWJH43ZIz/jAwTXEtToZ7jLBhdi9Yg5gx6RhQHZMrXiGfI7v5UN/6ub8RER7y+HupAEuPmmL\n",
       "NFIkwgSYjzjlU9JAfUy/aRn+rC7R8eYHC5zattaIefH4EN0KyOS0uiW4AoUXBgffQXD7I959zqQj\n",
       "TorxPHesU8bw/jRpsznFc64iZdeaDt80c+5ibM3dYosvwcu8aH/L3iCa8mI6D/K4nYR0yDx+WU1/\n",
       "nMv7W+hRlKJROakz+D4nzwWfWbfGsiIDt99koxlQiyixh6nsLMR9yXa5wdnjKb/7+ip+eO1MbG47\n",
       "xHfkzdN78F6f4vKuwNl247CB++v5YHAzC9zWOuDEFX86/DMDtzNpsNh0lW9gZ045hg9TGcpv8R8y\n",
       "rR4qf7Ggg6rbdVlcrHCiczazucch8blxUakCrpfLW2qBX1LQi3NNOZOD0GXcxPd549K0NJZ1TMO8\n",
       "wrbBUMZhaq3vnOi6LSU8Pdb/m164A9XBDfjyVg8N9gccnAP/jJB1+Ir//6LvZBIko7KbFnGS2UhM\n",
       "5QfQkfIF2dbQnSCBhZ89Ws2UOJeB/5IEjk8FKf9n+gcn8ZaK2QN6jAAAAABJRU5ErkJggg==\n",
       "\" style=\"display:inline;vertical-align:middle;\" /></a><br>"
      ],
      "text/plain": [
       "<IPython.core.display.HTML object>"
      ]
     },
     "metadata": {},
     "output_type": "display_data"
    }
   ],
   "source": [
    "forall_in_bool = Forall(n, Forall(P, in_bool(general_forall_Px)),\n",
    "                      domain=NaturalPos)"
   ]
  },
  {
   "cell_type": "markdown",
   "metadata": {},
   "source": [
    "This is applicable to any universal quantification.  Note that there is no guarantee that it can be proven to be true or false, but it must be one of these according to this axiom."
   ]
  },
  {
   "cell_type": "code",
   "execution_count": 3,
   "metadata": {},
   "outputs": [
    {
     "name": "stdout",
     "output_type": "stream",
     "text": [
      "These axioms may now be imported from the theory package: proveit.logic.booleans.quantification.universality\n"
     ]
    }
   ],
   "source": [
    "%end axioms"
   ]
  },
  {
   "cell_type": "code",
   "execution_count": null,
   "metadata": {},
   "outputs": [],
   "source": []
  }
 ],
 "metadata": {
  "kernelspec": {
   "display_name": "Python 3",
   "language": "python",
   "name": "python3"
  }
 },
 "nbformat": 4,
 "nbformat_minor": 0
}