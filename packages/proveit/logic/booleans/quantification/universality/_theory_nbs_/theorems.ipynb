{
 "cells": [
  {
   "cell_type": "markdown",
   "metadata": {},
   "source": [
    "Theorems (or conjectures) for the theory of <a class=\"ProveItLink\" href=\"theory.ipynb\">proveit.logic.booleans.quantification.universality</a>\n",
    "========"
   ]
  },
  {
   "cell_type": "code",
   "execution_count": 1,
   "metadata": {},
   "outputs": [
    {
     "name": "stdout",
     "output_type": "stream",
     "text": [
      "Defining theorems for theory 'proveit.logic.booleans.quantification.universality'\n",
      "Subsequent end-of-cell assignments will define theorems\n",
      "'%end theorems' will finalize the definitions\n"
     ]
    }
   ],
   "source": [
    "import proveit\n",
    "# Prepare this notebook for defining the theorems of a theory:\n",
    "%theorems_notebook # Keep this at the top following 'import proveit'.\n",
    "from proveit import Function\n",
    "from proveit.logic import Equals, Implies, And, Forall, in_bool\n",
    "from proveit.numbers import Add, num\n",
    "from proveit import n, m, P, Q, R\n",
    "from proveit.core_expr_types import (\n",
    "    x_1_to_n, x_1_to_np1, y_1_to_m, P__x_1_to_n, P__x_1_to_np1    \n",
    ")\n",
    "from proveit.logic.booleans.quantification import (\n",
    "    general_forall_Px_if_Qx, general_nested_forall_Pxy_if_Qx, \n",
    "    general_bundled_forall_Pxy_if_Qx)\n",
    "from proveit.numbers import Natural, NaturalPos\n",
    "%begin theorems"
   ]
  },
  {
   "cell_type": "code",
   "execution_count": 2,
   "metadata": {},
   "outputs": [
    {
     "data": {
      "text/html": [
       "<strong id=\"forall_with_conditions__is_bool\"><a class=\"ProveItLink\" href=\"proofs/forall_with_conditions__is_bool/thm_proof.ipynb\">forall_with_conditions__is_bool</a> (conjecture with conjecture-based proof):<br></strong> <a class=\"ProveItLink\" href=\"../__pv_it/theorems/ac94b83bb6bc492fb94e5821826f4d934a11c9c10/theorem_expr.ipynb\"><img src=\"data:image/png;base64,iVBORw0KGgoAAAANSUhEUgAAAlUAAAAZBAMAAADqLca/AAAAMFBMVEX///8AAAAAAAAAAAAAAAAA\n",
       "AAAAAAAAAAAAAAAAAAAAAAAAAAAAAAAAAAAAAAAAAAAv3aB7AAAAD3RSTlMAq1RmmUTNIjK7EInv\n",
       "3XZ/CtNrAAAACXBIWXMAAA7EAAAOxAGVKw4bAAAGbElEQVRYw9VZfYhUVRQ/M2/evJk3O8+JvlBL\n",
       "RrJYXLJXuQRSOaK1lhWDRZArtWUgSdETY8Ha0iKij82maIsNct+qf2SCjlJBmTIoYSTqVpuGODCL\n",
       "28euuG1/qNsKbed+vPfu23lvnuM0UhfezJ17f+fOPb8595xzzwAEt1DxWMV5KRsI+V80rfiD90QG\n",
       "n9PF9IWsEQ2YnxUMuRTNqF36Vu+5tdQi9H+BK7XtP8GVlq5J/FEPrrQTH5w9dCXSVGJcpcjgdUFc\n",
       "VULF9UBI/drQxLtTnzRJr6lGqnUPu4rLpfbeLMBxxtVdZGxlEFeVUB3BkDq2s6jRd9y6a2qrPLnS\n",
       "E0YOYIBx9TK+KbkgriqhlgRD6tdifwOE8YGIXuNKc725ktJ4YHaYlKsoviXSQVxVQp0JhtTRS43h\n",
       "cx47DbWu1GA6XA0Vi202V8Qd65QrSQ/0zFGohIqNB0Lq2OKj+CBfcEOtKxE+OFcPDzt2FVqTR6PN\n",
       "Mf0OFYsHg+OgP0rrC4TUsU1BLd4pcU+wfeCT3YJlqyPT3tpVUVoUSKQsrpRVzhkcPj2d6FhgXC0G\n",
       "+CiYK39UqC0QUseGPL1AM8gVJGfUZkT6nLkIDJTurygtCkhtFldRw+Hq6JF+PJvyOONqNSgpj2Xy\n",
       "bq58UGS9XCDEf6/ih3AVyaRmdf6YvruZdpAwyZDGQ4KLvw3mm5dXvHCIAuGCzZXo27VmtLLYGOMq\n",
       "biaygrzS/zncnnKpQWQZSu5ZsuBqMnRqpMWeTbkgVTUeNrW9g8hT88Ww3GMNfIMaQYTY+GYre1gP\n",
       "d+Prtp3TfIMoE+AfRi2uOovYcpwryLUiKWcYV+GSw+OGqV0wM2FGzDKuOOoOgD3E+RnQYVlBMuOG\n",
       "VM+VvBKUA6BWZZStTnplc4WxDD1XbMQ5hocpqxXOIRHgTbbtaqtoV5CLo+fjXEHbnfYBX0xS71Im\n",
       "AWVccdQVaPXISh8LDW67Ehaqjqsb8bkHIlUZZdRkxnDeGqBO6zFDNenuuPrn4FNMadat912GCvAz\n",
       "2GdxlXRzhbop/AzCLjyQ0sINgwAnyXzj9S8l4LNF/YuyLq520eCwD+B7oF8ujZZxRSEjLYOWxQld\n",
       "p7kGKVdkIzCf7vDChXkmp52xpjaiPWSvgQRTWiVhsCtUQLc7j2zXLL/FgiXAdAcpZ3GllVxczcGf\n",
       "5BznqgOV3bxcbzBUuvXGxKZWD7siKFDGYTVOXEU2W7DiYE6EaMbUKI/CQldwyq7BnB1Iv4b2qoTD\n",
       "bH9R6xeDnQA3vXkfLGVc7cA1w2NbCjKB7wGVHFUyZnfoCxOguuNBydv51RMOV/nEqYwTByGEVvL8\n",
       "rzDFlGlIaITMkAdXBAXS4ZHZ+HbQMifguYcDkWBjDBSaO9Du0kH30aKDbq4aSMh9HB6pSlimopGe\n",
       "vywbeBtgy0h4YZpxlcTbrvpAadYt5Jxiv2hyx9pveViCYAJUdxzI2lz1djE71J7upnUGkApiTWYG\n",
       "LAfpqe7u95CrbVEPrpgNMYL2k8TGOiHyuLtsg+b6ynG7W1BHJxnHucn+qkGnRj6zKuHY5Jtn0nZK\n",
       "1F/NFqpPqHi4/BA6CKI7wIvCfbD146LrKh5JiVx9C4tisTyzK3lOeX7FwwbDvw/L4EcQI5ADiRUU\n",
       "VsNgXSNWmBSncXDug00CV/GMbCZ1eKMq4XBmcq6UcXHlbF/JKAZxY/4JJNEdYKF/rc+6D/IFR+Hn\n",
       "RpZ2N7MShGetbx0ak5qHjjXbX9Mn1xl4gSbRFqHqbuPdeBa7KMNf6OCcXFL07Qfm/b6CRh8vYUfU\n",
       "Jez4X6t9KHKlOtNrX3/VhO3lvt1GMN1picSPK15n4AcpBad0WIt2HDtqQMiHK63nKwTsA2XBwDTF\n",
       "nu4UIZFf9g5TdTvTrLuYdGMHoNMgL2wwtL5dzBmem3GZaUDc8BTGr2Oihks4XhYkraxI+eJ8ycnr\n",
       "AY5MTACU/DN/rjtd0I+rm8tryOqX3V3BNeQwWT/j/FKhdBmEHCMWsBJmyeqCPZiEk8vEvB0ewl9Z\n",
       "znsLhz2Ft5btUinVdLH8rUK9HY5dbL2dqKn8ebxCvX3DwTTIzJs+O9FndQnFrNcLTbqLq3XX4kSL\n",
       "pzAs8xRuqctN3Icrq95ePVdU5hkhmjd5Fa4kr67kfR+E6E/UijxxuteglL2UXFXzP07w/4PRi/t/\n",
       "0O10zAsXVOtSYy3u9564F5/TJ/R/AHKm70IaMrR7AAAAAElFTkSuQmCC\n",
       "\" style=\"display:inline;vertical-align:middle;\" /></a><br>"
      ],
      "text/plain": [
       "<IPython.core.display.HTML object>"
      ]
     },
     "metadata": {},
     "output_type": "display_data"
    }
   ],
   "source": [
    "forall_with_conditions__is_bool = Forall(n, Forall((P, Q), in_bool(general_forall_Px_if_Qx)),\n",
    "                                         domain=NaturalPos)"
   ]
  },
  {
   "cell_type": "code",
   "execution_count": 3,
   "metadata": {},
   "outputs": [
    {
     "data": {
      "text/html": [
       "<strong id=\"bundling\"><a class=\"ProveItLink\" href=\"proofs/bundling/thm_proof.ipynb\">bundling</a> (conjecture without proof):<br></strong> <a class=\"ProveItLink\" href=\"../__pv_it/theorems/0d800839dac099574cf668097cf9dceffcc1015b0/theorem_expr.ipynb\"><img src=\"data:image/png;base64,iVBORw0KGgoAAAANSUhEUgAABGUAAAAzBAMAAADMXKiUAAAAMFBMVEX///8AAAAAAAAAAAAAAAAA\n",
       "AAAAAAAAAAAAAAAAAAAAAAAAAAAAAAAAAAAAAAAAAAAv3aB7AAAAD3RSTlMAq1RmmUTNIjK7EInv\n",
       "3XZ/CtNrAAAACXBIWXMAAA7EAAAOxAGVKw4bAAAPWUlEQVR42u1dC4xU1Rn+53H3ztx57BCbRnxs\n",
       "x0hbUgQmCrYYA6MLgg90q42Jj8hUTUxJjGNqbFAqU9MY21IY2+KzlYsaWqGB8UVaUdxKGqikdqrY\n",
       "GOI2s4q162NZa1WE1O153nvuPfc1s3v3jgl/MrvnnPv/5/z3nm/O67/fLkAbom3ZokNHcvJQFaKT\n",
       "aFv/AsoHQ0XymQQI5MbHy0F10zUxV4n0EVSOoaBNSZTox5THKVTS4+P19jAzEFz3ODiGmc5E7YLm\n",
       "ZcykDnA4hYaZWOMYZjqUN6NtXmk5YgZmh46ZM+29FsO/4qWIMBNl68FkZPye6dfj8T/eiNiTt5wx\n",
       "kymEjBl1j73Xkti2pxoRZqJsPaB8ghYLL6Hfm6N2pEd3xAy8GjJmci17r6UwTFdFNTdF2XowSX2O\n",
       "hhj0gf7I179lZ8ycpoeLmbPlFcVK9OvJyNYzEbYeTPKH0ecoSgxG7spLzpjpKYeLmX1yr50R3WI0\n",
       "2tYDnk2MoQ/CTTx6L69zxozyaaiYyR+Rey07NPRGIzLMRNh6MOlFXbEezehJ5KU2esLPxEFx2/Dv\n",
       "dha9jO0GqORgCTYJNfSDVvCqQFR/whkz8N1QMZMryL2WrEFajwwzEbYeTBBebn8FzwCop5Iw3Fou\n",
       "XCvn+5JNL2O7AdrlxAdhkZltnAaJMY8KLOpnumBmrh4mZtbX5F5TC3Bz208yacl9va0FwgRbL4uZ\n",
       "eFhbLmOvcOjEnfPJM0YDyjdhkX4caPy8IlFNHImVtJ3TXEFPDUS5E4FsOjzKJrpUcTnE6lufOMGt\n",
       "AqrOF7sumNneChMzJzl80+FBeKb9WZ79fm90KfJ2oMNO76h1+miUjReeg2aL+WENL8aXYiP7nUU3\n",
       "WYPzUGrdB3xLBUk8UoL7WEMNRNGzLXg5NcosNHgZsq0yLHergKgb33gXzKSbYWLmT06YmdPBIpRh\n",
       "5vIqrK6K83MQuWpirbNHgzrueu+1wIREaZjHMwZmgPbfbEML9Sj0DqiH3et52V6wQk8dhjhHmXIE\n",
       "jf0fw5qamz1RZ3K1C2YSn4aImdRHTpjpSbQ6xAy+9WQdlrR/NjWB1tmj+RLAvfRIMBxZyR7ZUf6M\n",
       "i3SLskXEzIqqpid0D8wQg3nfGi28dT8rOQ/ygyZm0ED1PpzlgRmsnuhfd5Bh1REz2kchYib/qRNm\n",
       "Ml9DnZg/eMdSrmUmBVNrIcUMvlW0hEMPYHTpwWpQ80xRav2aArARQxmm8QSLmJdNzLwIyl7IWWsW\n",
       "vDDFUihU79MS2+7kP+Z33AJtQ2wQGhQzGvo8PnASZPAtNEnWPq0AM9Dm70YD/DC1gXsgXSCYITmU\n",
       "vgf9ep6o26HA1R+9upTFt7DABTN0+ggJM+lBJ8youMl3YvVrWZmQNMVWSDHzZfzABtUK5KvTe4pB\n",
       "zeNle+ta60iKubatV18rPTzzsoEZ9fOF/QC3WmoWvTDRaikUqvdpaQYbFPmuJoN6+vBjg0qRYmY7\n",
       "8n3uTy+CS1H65zrJap+wciNHDdRtFTgMF7Jr58CKEsEMySULykckNi0bm+q3/Qt6MaQudMPMbxhm\n",
       "CNxPDYyZQMG+bN0JM3A8+pTSrRqsImDHSWWObcIh1+2YwSeEPQWlDgl4OAXqgxDIXKnbW1cfaebr\n",
       "1Py22TBityaXbZhJNLWHAK6wOE68uPSg9QtECg3B1TNtn5auoHPHxs/Y1JlCg8nFrRmns/VM7gDA\n",
       "Y6PxfgQh7DjOwn5cXuY/hnRuEGshIL7ClDbtuqRKMENy2okH0diPHULqgvF+ENX78FIG4DU3zLzA\n",
       "MENu5obAmAkU7NtedsQMPbuqQmq2zpNZ2G4/26rK65ndeDFfjWN4ozu/8wAEMk/VpdZjjViLmZ8I\n",
       "fZI1vmzDTKwMcwFOsTqOvRjU7OcdlgkZVc+1vVv6if1RvW6kyHrmG0b2FviBmDWGU2O2ydbQN2Ks\n",
       "xpV20IUgy2UqoJbVqqBuiKG+FxYj3KtNN8wsGqCY+RGGfT0wZgIF+9a33DGzFqqQ03lSBfu4jQoT\n",
       "556xZFZNwMyv4Ep4lWAgNagCHIBA5ta5id1AtsbMX4O9kjW+PO+yWSJmskV4jnas4Dj2opqyTcC4\n",
       "cN6p8y79A6+ea3u3NMP+qOZZMWMcXqv3332BkDWP44zUGjTSJOplopSpaC8yzDQIIH5fhFV3/1gX\n",
       "1M0DP6aujsHrM9GYV3LDDOlXhBm8u8gUg69nggT75hbdMKMO7oAyfphagyZhA0rCVv6DFMZH4M/s\n",
       "LRKKmdXf33YXuoEmrM5UkgQzQczzLRkztRXEfCv6OitjdmtyeU49J2JmjQ4nK9Wc6TjSpF6kBwRL\n",
       "Vjinnh2YZVRPtX1aGpUWg3ykvP2mXXjlY4wi4+NjQtZcOhmpb6MJQO3TiVKuFWuAuuNoi5r8E412\n",
       "8LfxcVHdXFwxdaUA75XoiOCMGTJ/IMzgKz1trIGDBPsW1VzHmYuvGtXxw0y9SJPJGk6urab24B+s\n",
       "8H6tkiwKmFHPGT4BjS/3QfLtXe+STg9ibjx8s/V4/73EfG0RZiyoSNb4cqx2q4CZ/MZn4a5RXBV3\n",
       "HNlSL5bhJLXcwwvTtc1wrlE91fZp6T6pC+sup9kOWctJskUpvnCJaHKqsfryU6ceOWOmt8D2TX8d\n",
       "GtrXBmaCBPsOVd3nJlIPephxmnw2byTBSDXjjVzCcg6slLeZh3QHIJD543Lrv4VfUvOiVk2XJGt8\n",
       "OQdvXSnutS0nb2S2oWjO6C2eBKMwB7OgWeLVU23vljR5WXAHRCr5qjtm6gwzy/C5enDMJAME+17Q\n",
       "PTGTeh9NbrRjesb/x5NYaEor5Adi71gwo36IejpJobhuXzGQ+VK59T6lQswVPda6XLbGlzfBrJKE\n",
       "GVYXcVyhN3fTeJMnwSjcBG9DX5VVz7S9W0p257uDzpjJVhhmbsbxOy9pWDDDgn1X/Pfpafh287vo\n",
       "SRaLy1C5RMLMjRLDqOSULLnFm+BGPLY+2465EJ0yWr/sPb4xVhY2ZGt+WcZMRhc21Q7JhG3fbVTv\n",
       "19L8roTMB2+UyMc+ZjQZZtJ6xvmoTt3/DJxdEGN95EyPBvsSTXwsCcoN/NVfEpdh8pVJc16VTyyD\n",
       "ijbBpqv209ZQRIcvkOQGGWbiLacl8LrpG+CUjJ7UJczQYF+sDPkxuh0834zLBMHMMVJjt0p+6JWA\n",
       "mIHKQvlqchlebLfKeDdvwwwN9mWL+MUqEjVbZMZlXOcm1+XwMXEeUqdcyBf5DB/M8LkJnlyJEv3r\n",
       "hvML8BaZBjcxxwVmfvWODDy9eP/iAREzJNgHa3QVjSwxDIDnzLgMXwNXj2GmbYmYCndNAMwYa2BY\n",
       "jdYsOKRZyOO1MAlu0h3gzMwjV8njDAk1wtmjbyLoZPHyjrwmSuMyfK9d88RM9xPUpm462PjZtHsv\n",
       "IM8j4reV86UAmOHnMxBDPYxDmjX8+jJJ6Qrp0JlQHpExQ0KNMI1WgvRSJM5C4zKuZ3oWzHwBCGpT\n",
       "Jr3oq/trPHBHToVb6Y+Z3jKI70L0wVr6ug8Jbia+98ADv0CY2drjgBkiu+lWuKzoOYIvGpdhMnfA\n",
       "EzPdT1CbOsEhnLl4gRg5FW6eP2a2NyyY2QsjsCZFU4tTqQYdZ5Q50vkMW7DhwWUr2mef9e/rSFCF\n",
       "xmX4gyh5r2e6nqA2dYKn8UP4CQ9G7UlW98UMj1EyDIyh8WVBEsOABDcfZOdNw9Z1s4GZkaM6iaXc\n",
       "0jdNr6IEi8uIY5gHZrqeoDZ1gl8d31jrBiocJsn4YIbEng3MKAW4AW5+F/U+DW6uQreR+kfV9lai\n",
       "/T09XMV3cFi0aNuTVbwx0/UEtamTzyhT24kKJxPd7CJz5azcNxsxThZRAf/dBx/MkDii/G4nc0H7\n",
       "4wMbHPbnVswoZNN9sk4TgsRsA21yiEiBYybZ7QS1KROEF/X5IjhS4WSim11krpyV+2YjxskiKiQq\n",
       "vpghZ7USZhTPrszZX2fEN/uaPdqC8ke8x5mO6HFtyOQw6do1bUdavLkPdz5FHqoDFY5mPYhslCtn\n",
       "gSDhvhk1EKabF5dOpMIh+Phh5i+OmElAG5hx//b8xxszHdHj2pCJM+loyDUxEDaq03xQcKDC0awH\n",
       "kY1y5SxzDeG+GTUQppsXl06kwqXG/DCjfu6IGZgUzMicOBtm5oS7BJ4EJh0JuW4KzUP+Qk5vRcCM\n",
       "RIXDWS8iG+HKWevF3DezBsx08+TSCVQ4xXecCZUTBxd5r2c6ose1jZkJMelIyHVJeC4yKtx6vhVw\n",
       "osKRrBeRjXLljLAPMO6bWQNhunlx6QQqHH5c3piJhcq9XTHgPc50QI/zobNZCieBSUdCrs3OnbTy\n",
       "62Qn2YboEH9QNiqcDkbWnchGuXJG2AcrUe4bJ9NRYhx5aUWuQecKjAqHseCNmd5WmJjJlb0x0z49\n",
       "zofOZi2cOJOOhFyRacdOWvl1spOMbnATmDtdgQpnEt1MIpvBXzMSlCvHwz6kmHLfOJmOEuMwl042\n",
       "JgmRCod3+96YWaSHiRmvjROZwdumx/nQ2SgJzYqZiTDpSMgVJzt1kiTtvDnBSUqFO3/8Yb4CtVLh\n",
       "TKKbQWQzqXCcyMa4cjzsg5Uo942T6SjTjThkUOGMWkidAhWOEwTc5e8QJmZgnw9m6FjXDj3Oh86G\n",
       "C22YmQiTjoRciWmnTuKkxJsznfShwpnMNW8iGxYe9qFKmYqFTLeDcenkGliJQYX7IfhgJuS/jcaG\n",
       "MR/MtEWP86Gz4cLEktNFVtREmHQk5Erg06mTOCnx5kwnfahwJnPNg8jGQMXCPkSJcN8MMh1luhEu\n",
       "nVwD+asBAhWu3w8z6UK4mOlp+GKmHXocY5FZ6WwWShouRMpNATMdM+mMkGvT0UnT0NVJnrTx5gQn\n",
       "fahwJnPNg8jGvv4s7EOUCPfNINMRphvh0jnUgEsEKhzh0npiZoUeLmZSe/zHmTbocYxFZqWzWShp\n",
       "pPB4tSJgpmMmnRFyvc/RSbNdVyd5cpmrkz5UuJbzsbHbebWhZHLfbEy3lqO6oEAw64kZ9rJweH+7\n",
       "fiTA3ESq1APx2+JOdDaRkkYKm/n5ungO3CmTrmg937M7abbr6iRN2nlzppPdR4UjfDIvzIT+t+vt\n",
       "/yPDDTNB6XFXOtHZFGPRRAu1QvwpS+ygQyadUS8ztTtptuvmJEvaeXOmk11KhfPCzOXQGWbOCv4P\n",
       "n64NNs6Q/apTsmRTcaCziZQ0o1DETIdMOrNeZ9OEr5MWf52c7E4qnBdmUvTkWtuyrU3MdPw/vwS5\n",
       "MXx+06Qx6bSwPNS7ETH5od3uFzdTl/H//Po/ev5jQKfHmYsAAAAASUVORK5CYII=\n",
       "\" style=\"display:inline;vertical-align:middle;\" /></a><br>"
      ],
      "text/plain": [
       "<IPython.core.display.HTML object>"
      ]
     },
     "metadata": {},
     "output_type": "display_data"
    }
   ],
   "source": [
    "bundling = \\\n",
    "    Forall((m, n), Forall((P, Q, R), \n",
    "                          Equals(general_nested_forall_Pxy_if_Qx,\n",
    "                                 general_bundled_forall_Pxy_if_Qx) \\\n",
    "                          .with_wrapping_at(1)),\n",
    "           domain=NaturalPos)"
   ]
  },
  {
   "cell_type": "code",
   "execution_count": 4,
   "metadata": {},
   "outputs": [
    {
     "data": {
      "text/html": [
       "<strong id=\"bundle\"><a class=\"ProveItLink\" href=\"proofs/bundle/thm_proof.ipynb\">bundle</a> (conjecture without proof):<br></strong> <a class=\"ProveItLink\" href=\"../__pv_it/theorems/ee4cbdac5642f209cd50cb29049a0dac338afbc00/theorem_expr.ipynb\"><img src=\"data:image/png;base64,iVBORw0KGgoAAAANSUhEUgAABGUAAAAzBAMAAADMXKiUAAAAMFBMVEX///8AAAAAAAAAAAAAAAAA\n",
       "AAAAAAAAAAAAAAAAAAAAAAAAAAAAAAAAAAAAAAAAAAAv3aB7AAAAD3RSTlMAq1RmmUTNIjK7EInv\n",
       "3XZ/CtNrAAAACXBIWXMAAA7EAAAOxAGVKw4bAAANkklEQVR42u2dD4wU1R3Hf/tnbnZn/9wSm0ZA\n",
       "rmugLSkCGwVbCOEWD4QW0Ss2JIgpWzQhpTEOqaFBCWxNY7SlsLRFAdMyqKEFGlitkhYsXiEGKind\n",
       "IlhDvGZPsPZEzmtRoZByff9m5s2/vZmFuVmz/JJl38x7b96beZ99/37z5QA8mLRzpwJ12ahuGYKz\n",
       "YEv/DNq57iz5XAMEUgMDebdp40X+qBDoIyhcp8CjRXL0o9sOikp8YKDkjZlO92lvgOvM1GdiAxRv\n",
       "ZSZ2SsXJN2ZC5evM1GnvBlu8ULVlBsb7zszt5lYL4a9wLiBmgizdnfUObBj+IO7/w+WAa3LanplE\n",
       "xmdmxMPmVovivC1yQMwEWbpL+xRNFt5A39uDrkiLYssMvOkzM6mqudViGNOVQY1NQZbuzmJXUBeD\n",
       "PtAR+Pw3b8/MLYq/zEyzziiWoa+XApvPBFi6O0tfRJ/LKNAVeFXesGemJe8vM0etrXZbcJPRYEt3\n",
       "uTfRjz6Im3DwtXzAnhnhgq/MpC9ZWy3Z3f1OOTBmAizdnbWipliPRvQoqqXUN+InfKe4u+c3+7O1\n",
       "MpszoDNncrCNu0IHSJlaF+CTv2jPDHzHV2ZSGWurRYsQVwJjJsDS3Rni5bHjeARALRWFnuo8Li6f\n",
       "botWamU2Z0CrnHAXtOuH5Vsg0l/jAobktzswM1Hxk5n1RWuriRlY7vlJRg1HX/Y0QbjK0vP8Qdiv\n",
       "JZe2Vvho5P7J5BmjDuWr0K7cAJK6XxGRI5dCOWn/MEfoaQbeHkeQDYfn2UAXy86DUGnXiyOcLkCT\n",
       "q5NdB2b2VP1k5iabXzpsgVe8j/Ls+2zfbFTbzjobva7S6aMRts6dgUaLyX51L9qPYiv7TqKbLMKd\n",
       "KLTunLqkgijuKcG5r6EZeFOSVTgW62M5JDgGyWoe5jldgCTXfvEOzMQrfjLzJztmJtQxCWXMLJBh\n",
       "lcyPz25s0dWVzh4NargHa88FrsqEsr49ozEDtP3Ga6lQi0Jrp3jR+TrHzCcWK7GLEFYpEy6hvv8T\n",
       "WFN0yk+SM7vfgZnIBR+ZiZ23Y6YlUq2TGXzr0RLM8r43dRWls0fzOYCn6ZagP7aMPbLL6jPO0iXK\n",
       "Tp6ZxbKkRJQazJAMk77Wlzm9iZ25E9JdOjOoo/oQptZgBiePdKw7w1i1ZUY67yMz6Qt2zCS+hBox\n",
       "fWb1bDWVHuSyGk9SZvCtoikcegB9s8/IbrMnspbSv50B1mMIPdSfYDA9WmfmIAhHIGW8MlcL3Qwn\n",
       "ucsPUhJb7qQ/Ue+4CtLGUBeUKTMS+uzovAkS+BYq5NA8rADLIE0+hDr4HpoHNkA8Q5ghRyi8AX39\n",
       "kSQ3o6Amf/7+XBLfwhQHZujw4RMz8S47ZkRc5Puh0hJ2jgvqZjpJmfk8fmBdYgHS8vCWrNvs4by5\n",
       "dKl6KcaqtrtVWWt5eHq0xox4ZXoHwArDlfla6LQaTnKXH6SkMaxTVFc1CdTSF1/oErKUmT2o7hN/\n",
       "fBfMR+GfKuRQ+pSd145oBnF3AS7CXBY3AxbnCDPkKJoRzhPftDWznvzRf0IrRmquEzO/ZMwQ3Ee7\n",
       "ZsaVsy9ZsmMGbkSfXLxahJUEdhwUJpgGHBJvZgbvELZkhBJE4FcxELeAq+xCyVy6+FwlXaLZHx0P\n",
       "vebcJNrETKQiPQuw0FBxUov5Z4w/IHJSM3x5lnqQkhbSsWPrf9nQGUOdyd3VMbey+UzqFMALfeEO\n",
       "hBCuOD6EE/h8Xv2nW1EzhKoIxOMs0bYD98iEGXIkjTyD+n5cIZScy3wC+ORteCoDcNKJmdcYM+Rm\n",
       "lrpmxpWzb0/elhm6dyVDbLyiBpOwx7y3JVvnM4fwZF4OY7zRnT9+Clxlj5UspYfKoSrLPhLaLLlx\n",
       "tImZUB4mAtxsrDiuRZdk3u8wDMjo8mrq2iU9ZX5Ub2shMp/5inb4CPyAP9S6U220SRbRL6K/qCba\n",
       "SyeC7ChRADEvylxyzbTkR2Am4l6sODHT3kmZ+SHGvuSaGVfOvvVVZ2bWggwpRQ2KYO630cnIHbfN\n",
       "GlfkmPkF3AdvEgZiXSLAKXCV3Tg2sRtIFln2k3DEkhtHT7p3HM9MMguv0oblKo5rIcdMAzA+OWn0\n",
       "pPm/Vy+vpq5d0hjzo5pkZEbbvBY3PfkN7lDfjtNCa1BPEynlSaJEQTrImCkTIH6bhZVP/kjhkusb\n",
       "fiy52A9vj0V9Xs6JGdKuiBm8ukhk3c9n3Dj7JmadmBG79kIeP0ypTIOwEQVhl/oPORnuhdfZWySU\n",
       "mVXf3/0EuoEKrEoUooQZN9nTVSszxcUk+y70cxb6zblJ9IRSimdmjQKjBDmlVxylpLWId3I52ckJ\n",
       "pWTnOO3yNPUgJfVZJoNqT/nYwwfwzEfrRQYG+rlDfeqkhb6JBgCxTSGJUtVQGcS9l6s0yz9Qbwd/\n",
       "HRjgk+uTK5ZcyMDZHO0R7Jkh4wdiBse0eJgDu3H2tRcd+5m7F/Up+GHGDtJgtIiDa+XYYfwPO7lJ\n",
       "KkSzHDPijJ4RqH95BqLvHfiANLqb7NrD10sPdzxNsq/NwpgpBUtuHB0qruCYSW/dB0/04UupFUd5\n",
       "aS3m4CDNeVg9GS9uhzu0y9PUg5T0jKUJSw672TaHhp1kQ6Lw9Fl8ltHa7Guw5LRG9sy0Zti66S/d\n",
       "3Uc9MOPG2feR7Dw2keughxmmwX1pLQhaqBIupyKGfWAhv1vfpDsFrrLvsJb+a/g5zZ6V5HjOkhtH\n",
       "p+D0ffxa27DzRkYbSnNCqapB0E6mYBxUcurlaeraJUnWacFqCNTSsjMzJcbMHLyv7p6ZqAtn32tK\n",
       "TWZiH6LBjTZMy8D/1CA2GpIy6c7Q+wZmxH+jlo5SFNcdzbrKPttaeptQINkFJVRdYM2No7fBuJyF\n",
       "GXYtUnGB3tzDAxU1CNrJbfAetMns8ix17ZKijfnuoD0zyQJjZjn239WysoEZ5uxb+PHLw/Dtpg/Q\n",
       "nSzml6F2j4WZhywKo5xdMOfkb4KHcN+6z0t2zjullX7vWXVhLEwvW3Or0VZmEgq3qLYJRkzrbu3y\n",
       "g5U0uSGROfdOjnzMfUaFMRNXEvZbdeKJV2Bahvf1kT096uyLVPC2JAhL1Vd/iV+G2ReuWeVF646l\n",
       "W5OusmjZvNvqiynwGbJUF2MmXLWbAq8bvhFuTihRxcIMdfaF8pDup8vBr+t+GXfMhLr/DtetMTuY\n",
       "7qwbZqAw3RobnYMn29U8Xs2bmKHOvmQWv1hFvGbtul/GcWwyWMv1tnHRqQZTfKTWFr82NsFLy1Cg\n",
       "Y11PegpeIlPnJta4wNgvrk7AyzNPzOzkmSHOPlijiKhnCeEu51XdL6POgeXrzNRhjSKGczRtDgyr\n",
       "0JwFuzQzaTwXJs5NugIcm3hukbWfIa5GmNb3LkIniad35DVR6pdR19rFQZhpfIna0FnjieGcmVH3\n",
       "ZyCEWhi7NIv49WUSUgSScyzke63MEFcjDKMXQelixM9C/TKOe3omZj4DErWhs4YTwzlaax74dyHa\n",
       "YC193Yc4NyPf3bz5Z4iZXS02zBA7RJfCeUFJkVKoX4bZxM5BmGl8idrQWeOJ4RxtT9nAzBHohTUx\n",
       "GpoZi5VpPyNMsOzPsPkS7lx2oXX21H89QJwq1C/DYtfbFryFm880vERt6KzxxHCOpvooGQP9qH+Z\n",
       "EsUYEOfmFrbf1GOcN2vM9F5WiC/lkbZhiowCzC/D92EWe4pjpuElakNnjSeGczTie9aYETKwFJZ/\n",
       "gFqfOjdXohlJ7C3Z9Fai+T09fIlvYbeoaVGfsr39SFlnpuElakNnjSeGczTiR7S+28lqKP1h80ab\n",
       "9bmRGYEsukcpNMBZyNTNRruJfawzE210idrQWeOJ4RyN7NVamBFqNmTK/DojvtWTZm8LOr5kmz28\n",
       "RGOmLoGcFzOMjp60dMa3BZpRDOdof7ZlJgIemHFeCvzH/vz211Vm6hLIeTF2Y/Vo6ahMrYnFcE4m\n",
       "XrFlBq4JM1ZNHC3ze7LGzASfp8D0xurS0rGXZZpXDOe4FvdTEwd32c5n3pK1sakugZxnZurT0jGZ\n",
       "WvOK4Zws5Kv2drFdQk07gpmpQyDHicsM4jVrtMqMrqXzpGijC5HmFcM5rvCqfjKTstugWcHtz9Qj\n",
       "kNPFZUbxmiVaY0bT0nlTtI2hg3fTiuGcrF3xkxnbhdMmnpk6BHK6zoxIysyiNBJtZEbT0nlTtBGZ\n",
       "WhOL4Zzsb+AnM2D3VrpsYIb2dp4EcrrODEvKLKI0FG1ihtPSeVG0kQ3rJhbDOU+dfGWmvdY+j86M\n",
       "N4GcrjPDkjKLKA1FR2bdWuaY0bV0nhRtZNRoYjGcg8Uz/jLTUnbBjJ1ATteNmRRuus6MScrMojQc\n",
       "jRJXOGY0LZ0nRRv06U7XphTDOa7K/WUmdthNP2MjkNN1ZiaFm64zY5IysyiNRN8oFjhmNC2dJ0Ub\n",
       "Sq85XZtSDOdgx8FfZvjpaI2xiVxUMSjcdH+nSSCn68yopMwsSiPRlfRkhd8HNmjpXCracNtlTTtv\n",
       "TSWGszff/+9689/IcGbGLJATtJmQUeHG6cyopMwsSsPRUib8O4PvgNfSuVW0RWUuqhnFcPa2AOpj\n",
       "Zqr7P/i0xG0/QxbV/NLV5iSYxGW6ts0mmmfGoqVzoWibzJ9oMjGcMzMxum8t7dztkZm6/+aXkZkh\n",
       "0DfJlg1P16bUOLp2pjQkMjbiSWbbaYXx3/z6P3MMb8OkUfH9AAAAAElFTkSuQmCC\n",
       "\" style=\"display:inline;vertical-align:middle;\" /></a><br>"
      ],
      "text/plain": [
       "<IPython.core.display.HTML object>"
      ]
     },
     "metadata": {},
     "output_type": "display_data"
    }
   ],
   "source": [
    "bundle = Forall((m, n), Forall((P, Q, R), \n",
    "                               Implies(general_nested_forall_Pxy_if_Qx,\n",
    "                                       general_bundled_forall_Pxy_if_Qx) \\\n",
    "                               .with_wrapping_at(1)),\n",
    "                  domain=NaturalPos)"
   ]
  },
  {
   "cell_type": "code",
   "execution_count": 5,
   "metadata": {},
   "outputs": [
    {
     "data": {
      "text/html": [
       "<strong id=\"unbundle\"><a class=\"ProveItLink\" href=\"proofs/unbundle/thm_proof.ipynb\">unbundle</a> (conjecture without proof):<br></strong> <a class=\"ProveItLink\" href=\"../__pv_it/theorems/c0434fe06bb356a63c2477add523538f475cfa7e0/theorem_expr.ipynb\"><img src=\"data:image/png;base64,iVBORw0KGgoAAAANSUhEUgAABIAAAAAzBAMAAAAdl26hAAAAMFBMVEX///8AAAAAAAAAAAAAAAAA\n",
       "AAAAAAAAAAAAAAAAAAAAAAAAAAAAAAAAAAAAAAAAAAAv3aB7AAAAD3RSTlMAq1RmmUTNIjK7EInv\n",
       "3XZ/CtNrAAAACXBIWXMAAA7EAAAOxAGVKw4bAAAP90lEQVR42u1dDWwcxRV+97t357vzRaCKEHAP\n",
       "kdKIkOQEDiWIJgdOSPg3UFGFROQKSKhUlENFVIEUX1GFoA2JKQ0E2uINoLRxquT4i1oCwQ1CSUGl\n",
       "V/6KIlxdiCk1P44pP0kcFXfezOzu7O7seXed1cWVn2TfzOyb98Yz387OzNvPB+BBUr29KviSE/vL\n",
       "MClHo2T7X/dfube315N+ZnS06FY3WRFzpcmROmrlDO9VNvF5pGf0kDcAdbrXPQYmATS2KM11X/YJ\n",
       "oMQeLTUvKACFqpMAciHvNdf9NT4BBLMCB9CZYAFQCD/ChUnMkGVHz6EpD15I+6Pa5JYUfAKoJRcw\n",
       "gJRdVgBFsW58cimN0kom5N/gMmJjs1tyo08AwRsBAyhTtwIogZhdOQkelLWkd+ZgD3U0uyXtfgF0\n",
       "mhosgM4BK4Ao2J+aBA/KfrJD3Y9Pr75mtySt+gRQvBgsgF61A+iMybW0Jj34Q0AUbnp/xAs+ARQ7\n",
       "ECiAsiN2AKX7+9+tToIH5RDZCH9FPqOkP1JDx/9CmJgtWYnYNbZ0QCpnXB8owIaGBgQFXAz7AhB8\n",
       "L1AAZXJ2AEUrkFQnwQMUPMoLeX7/R2Fv/RLjmiUrEbtG9TSIDBsbpHAfLGi4gxIUIiW/AJqjBgmg\n",
       "tRU7gJQc3BLksERNuW962s36r+pFtI1F9tPtT9OezBAUfQsWqMdASjv2YNnNTx7vaIVpiHjMXwKh\n",
       "bt3CXdEaTE1tn+J4s1IFniZY8gmgrfUgAXQC2AEEj8CzQQIoyT8/GlpM7qxOT3XZijDWc9G5Va9V\n",
       "fUA8qU0XaeKqAueT1JpPeBHLFsF5FmIa4iMJXoN0XbegpuvwWhQIShyEKmjgG/YLoGQtSAD9WQag\n",
       "2cGuoTmArirDqnLjRYBdlrEPMgbXe63qZeFZNY6BdAABG0z9aJdmv4CuirOd16x2R3DK1y2sUBMH\n",
       "WzuVg471UUGr6nsGihwIEECJz2QAikfqwQMoTG6MaDcs8rgZYfP9sQAPeq3qRW7kD3htL4GPMNzP\n",
       "9AoAotmzGwGIarSfNZTbt57PbCX4WLBwPmT7ImoDAFGFjjUDvLv8ASj1WYAAyh6QAajlFDJM2YE7\n",
       "F2taRlKoaiq8Jgd8OR7by4Ih5q4UCxmAsOPJirLmzVNLnn7shNhur1VNrTDaK73MN0/7tW5M1iG1\n",
       "LtQHVTb8pHu0LLxAs9ZBA00jNfclMs3vZUrJHNzPLKACSZMCaKk5WaAKjy8vpMukq7r9Aog/ZYIB\n",
       "ULJPBiAFXX4Q6r6WlwlJQ0yFqfpIgpva0qqutimbChmAvoZw6FNK3jyF6SJI+Wp+B3itKrZCaK+0\n",
       "kdPZx81gbKLDB5/oi+Xp8Ke+BD2b2EOz7NfWkpBgGsqWEhyEi1hxNBf7jAEIFeBcWEF2d/epksqG\n",
       "wu3/glaVHST4BNBvOYDoHXOyawC5iommu2UAguPITyFZr8BKemtgMjbb8sSg1zVRHqtlu5VHMHn7\n",
       "LBi0KWOhBUB4ghnPxbq9eYrRBkdqqV+D16q8FVSbtveKgU6nRi6lvy8YfVR71NcgdWl9+ul8DdSv\n",
       "6lk0148m38RuL2qJPaBphOoEqq8zpdS0gQPMAirAhh2XlYH2Gl40KhdNCm2wnE8JPgH0IgcQ7Zsb\n",
       "XAPIVUx0a1EKILaCLENilqol07DVotkq2g5VQ/W72Lsn06DNrkwKLQB6CdcY5XDOm6cEBVCoCHPA\n",
       "a1XWCq6N7e1LDTs18l5rt7yjp3D4w/ojRykqZSGry6nGPVoht9ZwhSu1lPgaiClsA7gVfgzOFojC\n",
       "bliYAPgJ+AbQgk4GoJ9ie7tdA8hVTHRt3RlAq6EMGVVLKmB9MJHCyHlnLJpZYQ7TFWAAegt225VJ\n",
       "YWTR6VUBQL+Cq+ENBggPntgjLJ2H5z1XZa3g2tjesvUpZjRyurVb2k0AatFzK+/5mSpkjSNDPdVF\n",
       "5qBId5EqbYM/5DmAqgim1E5Q1t9zIThYYArD8M4MFs31CSA2yPPoBoSvIV2tgdzEROfknQCk9G2D\n",
       "IvZ2qsqSsI4kYbP2ixaGB+HlcBWLMpUVgADaTG7W2DAqG6q8kCjXBACt+tGWu8kDtubJE2TraK1L\n",
       "hRNjZXlVo6KlKm8a1WbtTXY6NXLItljUZrI7bt5BVkt6+d9GR8WssSbUk5eTx4DSplKlf5JJjllA\n",
       "hUw9VIX06OiwkwWqEMvBRwU2c/gEEHvMzIMI6e64h0W0m5jogorjDHTpsiEVezuxkyWjFUyuLid2\n",
       "4S9euD5ViuaxPNzxIAXQ6jxMn1dCZZJkqru0wuOUkgAg5dy9xysAD3nyhAO5Op/teQ7uHnKoavi1\n",
       "VOWtYNq0vUscG/mQbTy7ZSfV8qztxFxXOllfdaFCeP6ixhYEBQpgnwBqzfFd2F/7+1/1ACA3MdH9\n",
       "ZedHGLVDZr0wSz6X1ZOgp2rhaiaCud/BAxRAkE+VkwWqDMbsxgpr2bmqeBIdK27RTwbdetok2HWo\n",
       "avg1V+WtYNrY3ha17tDIlH2lcCc0VT6AcQComwNoCQYZ3AMo6iIm+qLaEECJj8kz8Gp2gjf6Xy2J\n",
       "wlKpXLYz9AHm2mIlWPNqHmJqqH4VU47ptllhKhd+2hTKUD4liIuWPXlaLNh1qGr4NVdlreDa2N6b\n",
       "R2sOjYwene9j+gRQusQBdAuGORtJ1QQgHhNd+vkzU7A/sjsGykYcictlNgDdZOOFFWTJgkXlyo/4\n",
       "uTnE5le1pH6YbhSKAIKbcEJ/zosnDH8ZduVVIw6NFFohtlfWyLlHI3yy/S/5q5ipcQAl1Rb5+aDy\n",
       "5rNwTk6LNOoHiSwmGqnRs87YDdrrzzSOxOXrzegJxX7k6vpY3n9VL6LC/5Nk+jiAwnXZGnrN1HVw\n",
       "UosaVW0AYjHRUBGyw2zveIERR3IHoFD/P5r4hzfX+wSUT/rzMv6qDiAozbdXii7B1X29iCcJFgCx\n",
       "mGg6j2+N0YgdezmJxpEcH2EmiTe1P+ITa/iau26i03pESv7RH2Hw1I1Ep2PN3uw83H2zMO0+vDjj\n",
       "G3e2wDML31zYKQKIxkShS1XInBPCyeh56gnjSPoiujwJoCO1RMk31X2s7gggfRENq8g6B4OzuSwu\n",
       "pmmYlm04Z7Q8tsw+A9GYKJwz9B7BURrXh/TtWBpH0rfxlTGGsJksw/gE4DgOjt4/9Xo6jc9sckv2\n",
       "OQNIOweCEBluDM5WMDRLU2qM9u4MKA7aAURjojCFGSF6CfruBo0jOR8kWoawmSzD+ETgOH5JNjev\n",
       "4IK+1OSGYKBCDqDWogYgKm2wmr3fRMO0ke8//PAvCYA2xyUAosL2fsliTM1QsNE4kiZzOscYwmay\n",
       "DOMTgOOInI0w5W00e56MFJ0AtLVqAtBuGISuBEstTCSqbAaKzbadA/HFFU47m8kW/ux/XwdGHIlf\n",
       "XSv9sx8RViFNZBnGJwDHMUs2J9nDeF82vSmvOAFIC6ZyQAyTmWdeFDFBw7R0sOcCvvMmLrx1AA0e\n",
       "VmkY6Na2KaoQRzLNbla5VxjCJrIM4xOA44iv3Sdxh3tK05tynROAWMRcA1AsBzfALR8SKLAw7Uqy\n",
       "ikm8Xba8Rmp9IxFNfAcDvJatQkY6OpGqMYRNZBnGJwDHEeNM9A6/iPxs2fv77UIHW7ISsWlYuIZm\n",
       "IqLMgKDwpBOAWMDT9kord5z608Pr7IYtAIrR/fyJKksIEuqznCr1U/ncGMJo81iG8QnAcSTgueN1\n",
       "fv9DMdsmcnQsWYnYNCxcQzMRUSKiwplOAGKnxVYAxRr2qwVANOITf0sM/fALI9Lq4Wv1IfTFMhwH\n",
       "dVB4s8GXd5PrcFAbOP11jf3TtrPAGUFRpBwZCRXgcT6rs2wj4iCvIAijEmoWGBGxAXeRKfDMaU4A\n",
       "+osUQBHwACDnTcR/5OUbX9aG0BfLcDzUwagIIO/eueulnz8zLcigqLZ27NEKSIclkLYDiSE+p7Bs\n",
       "I+Ig0xCFUgl1C4yI2IC7yBS0ydABQMpXUgDBEQGQnVjIfP6grA+hH5bheKiDsaoIIM/euetsDeLF\n",
       "xuuHccky4xhIBxCwwQzrgMFsQ+KgMfqaUCqhboESERtxFxlTkclyBwAFSiyEi6VroLfLxhD6YRmO\n",
       "hzqokfp8eucAChUhWYoGxn3WCI6Jw1oBXQitKKdUAUCYbUgcZBp6cAoYldCwQImIjbiLVKH9rCGc\n",
       "EGc5ACgUKLV5hUwx1i0MoQ+WoWfqIAwtHtCXK0+B1fsYrEUTSZADKJ2H5ZWM2bLoROrZgyf+cnr2\n",
       "C+3SowCbOk/At+Nx+PFFE57Fl2kk752ouoYWnDK4hhRAqMCIiMhddLCACkhd3MUQIgVQaz1IAGVk\n",
       "B0G3iUPonWXonTqYLU+N69vZ6VbvY7AWzSRBDqCufWRDfJvJssmJ1LMHT2HWb3F9j0Q20XN+fjFc\n",
       "wQCEtECeReKgThU0MwiZhhacMriGFIIGERH/Va+9sq6A1MURdpAgBdACNUgASbdh68Uh9M4y9E4d\n",
       "jMCjCT2z1Op9DNYivWwF0LdhUxUtUcusLk1ayYQmzx48sUk62nNIe8LeB/DEULgjzwCEtECeRXOU\n",
       "JWgmDiKVkGvw4JRBJaQzkEFExI6jF03cRUMhVMf/vABvOQDo7xAkgED2mn7ZNIRsHvRE4PNMHQSB\n",
       "o3+vzfsYrEW8bAXQsRAehpO4ZV4XkzYyIRywmnLlKWF97T6j30B0+A1iISUOnmo/KTE291pwSqcS\n",
       "Ugs6EZFyFx0tEIV0JVqsgFKTAyjgf3GnTXCOR3lcvBH4PFMHE30KtJ/cfsUfrY8w/tc0ZC3i5fYr\n",
       "Z5oAtJM8PCkU0TKvi0kbmVD07MFT2ProjxRNANK3kow4aD9NN6iEWnBKpxIyCzoRkXIXHSxQhS7I\n",
       "3FWh0VwZgJK5YAEUr7oAkCcCH7iiDpoofataSlGY3Z3uxLEZsgOoAWuRkwRnd2dEACkjZPPxXVJE\n",
       "LbO6LJnsFPyaPUv5kSLFUfCUtW0ONSqZsu1wXSAWUuJgyr6VNKiEWnBKpxJSCwYRkXIXHSxQhcsh\n",
       "+zR7aUEGoBVqsABK7HIzA3kh8IEr6qCJ0hd9f8eHkKxshPOEkTC8N2ItcpJgqHKbCKDBw2rih/Vk\n",
       "GahlVpcll4DAWjR7lvIjTRRHw1PStp/bJD2plmbNB+6ikoVraCYiSiwYCrTbZADSXpEO7KsOBl09\n",
       "wqhR1R2Bzx11UKT0seswE2oFgdSne2/IWmQkwQzsu9rk2nQmuUevQMmEYblnOT9SpDganjbZD1+9\n",
       "H5cd0eBKWQ6gwL/qwPplK84AckvgA3fUQaM6T22A96GtLJD6dO8NWYuMJLgBZhZsAAJ+4sTq0iSS\n",
       "CQ3WotmznB8pUhwNT4vhaBQJgK4CfwA62/0Xzl3rdgaiu3BxBywpBPMoNqAORiQplLl27w1ZiwZJ\n",
       "0A6gFlXqpCD3LOdHFmSegvv/nkcYQAl+rt/bO+gNQL6/cM4MIJ/MrHFQBwVSny/vioOxIyupoxI/\n",
       "n7xbsPJXN/Ie6Bk99D+rbUx9PYZaOAAAAABJRU5ErkJggg==\n",
       "\" style=\"display:inline;vertical-align:middle;\" /></a><br>"
      ],
      "text/plain": [
       "<IPython.core.display.HTML object>"
      ]
     },
     "metadata": {},
     "output_type": "display_data"
    }
   ],
   "source": [
    "unbundle = Forall((m, n), Forall((P, Q, R), \n",
    "                                 Implies(general_bundled_forall_Pxy_if_Qx,\n",
    "                                         general_nested_forall_Pxy_if_Qx) \\\n",
    "                                 .with_wrapping_at(1)),\n",
    "                    domain=NaturalPos)"
   ]
  },
  {
   "cell_type": "markdown",
   "metadata": {},
   "source": [
    "**Induction to any number of $\\forall$ instance variables:**"
   ]
  },
  {
   "cell_type": "code",
   "execution_count": 6,
   "metadata": {},
   "outputs": [
    {
     "data": {
      "text/html": [
       "<strong id=\"forall_induction\"><a class=\"ProveItLink\" href=\"proofs/forall_induction/thm_proof.ipynb\">forall_induction</a> (conjecture without proof):<br></strong> <a class=\"ProveItLink\" href=\"../__pv_it/theorems/12f396e587fa88f123d2c536c22f02188a679aa60/theorem_expr.ipynb\"><img src=\"data:image/png;base64,iVBORw0KGgoAAAANSUhEUgAAApcAAABMCAMAAAAP1GxmAAAANlBMVEX///8AAAAAAAAAAAAAAAAA\n",
       "AAAAAAAAAAAAAAAAAAAAAAAAAAAAAAAAAAAAAAAAAAAAAAAAAABHL6OuAAAAEXRSTlMAq1RmmUTN\n",
       "IjK7EInv3XZQQBRtQDMAAAAJcEhZcwAADsQAAA7EAZUrDhsAAA5eSURBVHja7V2LlqSqDhUBUXmc\n",
       "6///7NUSFHkGtEqnq1gz3b1UNMImCSFsm+apZXyV5lf+2fLpHuxo/pqhP/sUOc2FXCHveVl+BYTD\n",
       "4QjCYenBIXgqVJg8h2GC8tcgfPotJb2oueKyKCnvhyy7/9lXtUPvIwsP0VNe4ejMw1uRfwLizWNw\n",
       "mZCF09tR2aj2xodTdW1LtDKGy8Apv4gT2mwEVMZd8xhcpmRZemMfoy1+OwZnyzYgNHRkG9otv3dU\n",
       "4GtHqKfyNlxCtCGd6o0HymOOCfYYXCZlWXqDbI/pPmBRp7X1BmNzxq65t3TjtZZD4hguvVMhcA3V\n",
       "LsSUfwOpmsfgMinL0hu9GcZseD8K+mkVp9W/G4JvxiUm1+LS9fIsXAIcQDbVejVdfoBj0TwGl2lZ\n",
       "Xr2hNUbDP+DoqanXv7X5Fs3dZQVLGJdDxQS5IzFcuqeCT5SVwwGgLgV/Di7Tsrx6A2uV9QmLOkzm\n",
       "94rPtrsdlx2O47KvMCGOj2jjEuA+GoNS/BYSoBPGx+AyI8vaG0IuRXxiAqKjeVvrE/3QUSk09jym\n",
       "sjOnQdPV2C3W6UjEjuOKRulQDJfOqfDIrbIgEDhL1DwGlxlZ1t4gfa3Nqms+xmV7UFazCPMQQqoh\n",
       "kVGfOQ0p0Vus8QoLl0RapWJhoz3oggMu27zKaqs8TJS/cT/1j8FlTpa1NxgyP97vXiLOOd5fTAMU\n",
       "z/YNz037WgEYvciWfXrkHKHyIXR4gjNRSc572q4UJ+NBdx1wOQLU2lTh2oxT3uFAV7nyF+AyJ4vu\n",
       "jUVVfiTEbtzL3f1dn7qMHqL7o1fK1Wn2afLSaOUj1LqFO3bT8/GxE4VNc5i7HHAJmdagCr2GAUpW\n",
       "oOfgMieL7o1WfWbW4+sCq8vFpkqCKyPm9DLvZHUmSQSVFU3rS9ZxVowSFsMlzs986MQrxjvAjOPH\n",
       "4DIri+mNrsG6z5QibP7n2t/g0aClTl3Ze02+OZrrXHVNvgnhcjuNx1pc7rcgeFbK5DAKYv6lrFhs\n",
       "GO1mP+JyBKBjEuUPhMzG8y/CQMkK53GZlcX0Bm91EFOxZcnBdanCR4NPTF6pvCDb8BoO40BXl4Mf\n",
       "9aVZEzqenn9L62ymy/xbjJguS8lmHWwFTkRf0qq1BttMHXEJsaZD8ajDABULmOcvmQpUfQCXWVlM\n",
       "bzDTXPgFlaVdmDU/347SVpGkVHv9YARlCgdp2qkfiVhuf8DlqM2+c1qn5pizgT/8Q/Yt2KiWg8b0\n",
       "raGqMC5ZnXdje5EOLgeIZis15AgSVD/KEc1UUBiGyzNpFWIA4rJBO5RWHdu3x7ys9ahYejpnhmI6\n",
       "mixN4QzHftV8RKmmJbh1/Eu5yuCcNiNGGgmlMcnbH9ah0C2QMm7l1syR9Z660AqforjkU7Z2Xzwj\n",
       "F/mbjl7AK5ap0Dl2yIv4rg12Iq1izAbfAr3RC+1kHHCpj7L1r2SrrldiQjEkVSiU97j7l23AVrP5\n",
       "pRiLnfVvFrhIzA8lZFXrTDYJfVlnp7ClvxxcYoBqmwoXZiDupRd4j2Yq4CNoRtkFcXkirSK/COD2\n",
       "BhMN79ZYjMblyI9Hm4Gaw86P45WtmsUFhHMwSeEyAGw29H2/Gh+QuQvdYnoNiLa3uuPSMJnd8A4u\n",
       "IQsz3VQmTAuIXnrh+nimwjG7RGFEg/5lfVpFfunA6w2iKFdq3HHZi/ZwdF0bWg/3glk/nCtnzwDk\n",
       "nQ2uTmK8m/jaeaMK2aylxM76uiRwEV2GuuLYHu2X4tI2VA4uR8ACEilcIycAhxS7k6l4pkJ38Bel\n",
       "lySgcVmfVoGzE7tUbxg7fsA2HxsVOBw4JJehRvMGaUyM9XT3gDpPAYfFtcsKE4rh0j4V77cy09gB\n",
       "oupeaCaWqeDkLy++mONAmvl4dVpFPmTFo/taeiVWBX2AVjerqtXIBhB3ODSi5Z0gMzWmmvuKWltI\n",
       "SXEtLoc4LvOY6wsjmAIQWOKOzxrNVHA2OCyYbEkQl9VpFfyKxCYMPnx3hu+DiuiiuBR5uzdOU9ko\n",
       "APQzca6JZSo0JmFAwxd5U+ANl5m0CibJYoSwH7El02/3+T1FyigupYQArSQ+xSAwRlPYvdzHC91V\n",
       "qVXtJYhSIVzG0ip6hYZldtyixe1ryJiTJSjv7CKwH5Dghn9ur7w3J0UclwAbLYty3VpAmMjDQiJT\n",
       "ge4S6pjmKIO4DKdVED01blqslsgMb2pw2f2gVuzZ4HfjsiuakCtIHN6xnalMBSs9wcSASBvC5Z5W\n",
       "YWUc7OtFbd/SefLAsz7Fv4RL9lyBILg8Z8dR0Uokh0zf+XEOHMtUcCQ2sh4ifjsuTVqFlXFghVfa\n",
       "frbjLeU5Wf4lXN5KdhAse0IDAJfn5j2zQkEFC9AIEHrawuibRvbAst1kjxjh7Z3tBdkdlyatwso4\n",
       "oNjG5WzH1ZCTJY7LT1Ib+FL6GQR3kx2E5cQFuIzHLyHpuXyxzOAF6AGy1+MQy45nKhxxt+8L6FUI\n",
       "l3taxZZxgLvhVdoVlyMPaD4MxeVnqQ386aeTQXA/2UG4qUYwLuPrPQ0ERHyZyYAXoDvILfP7eE0k\n",
       "m+UcjVCe25Zx0PODvlwy0Cpk0bj8KLWBH1dwMwjuJzsIqxwCxeVo+YfeOiTAFKhXYB26AC0ht8yn\n",
       "q5vXyzZ+AJdWxsEeZ1+DowpVyGL8y09SG0TdjT3vUDSPLFqf53F5Mm9jNnRTA1+AFqBZUl6prkuy\n",
       "edUUwKWVccCMK9rrVH9UI4t+6U9SGwT8I/PbBL4eOhnTS3V5XNoJMw4uQdtwV1xCF6AFKKoks426\n",
       "TqUHVoHLw2344l/Sc7IYJH6Q2sAfPU4GAZDs4AKug8J76ClrHpd2YoKDS8g2mxm8L1wCF6AFaEcZ\n",
       "YJvukqmg8uKd30cBkMXsfv0YtUHE6FkZBECygwu4DgrvgTsgLlE8Xx2y1mFweViApvO0mxOEfNxM\n",
       "IFziyxalz+MSIIvG5eeoDQLKxckggJEdXMB1kCA7sFTq/mCd0JDHpb1/xd13BplZUr3ifViAxuu+\n",
       "TRnAZQsa/u1jcAmQxTT6x6gNou6l1XcQsoMLuA4SZAeN8cztB+uEhiwume3wHXHJQL5grzOEDgvQ\n",
       "aF3mmwK4/A80a/uHeA321/4YtYHfrF0El68/k2QHF3AdRMgOGms5bXswBerLc7wGc/mfyVzrrCUX\n",
       "8dIxAcIpmL5syIN4YPKy7Nnzn6E2COgGb7IFJTu4gOsgRnYQxKX+K4tLFOeBQRLWJhqX277+5f2W\n",
       "l0SBCAsQl3Sij8FlXpYNlx+iNgi4l56ISbKDNNfBVWQHQVxqiGVxGefNamCJQr3JqGS7wcNCKRXc\n",
       "ASqADC+SPAaXeVk2XL6Z2sDAh7lzfj+DIEl2kOY6SJEd+KwHCbKDIC51/CqHSxznGQROiumW6bvv\n",
       "60foXJzouhn5FbjMyrI7d++lNtDjw71nKIMgTXaQ5jpIkR1YrAdJsgOyxIXF8gMfcelsBIz2W5yX\n",
       "FUiNSgMZ6PGvoEgoI9a/w2Mdnuu8g9pgxwRg0CbJDtJcB9eQHQT1pUloyODyHI91DJcsXhWcRXyR\n",
       "wryG9z8ji4dLKLVBgNkgRW1QhMsk2UGa6+AasoMgLjdCijQuh6NOtHE5AEM1rbchUg0TH6OBNqge\n",
       "7PhjcJmTJbA/A0ZtEGA2iFEbcEKInP9TKC5TZAdproNryA4sXO4P3hIa0rikU/Q7KRSqr/BUEoxF\n",
       "YK7t/kHflcrIkoxZpqkNQjPuKLVBkb5MkR1kcHcJ2cFBX3pjJY1Ld1eavSsBHqMoCSWTCRwxV8Nj\n",
       "cJmRJdEAGWqDEJdGnNqAOPfMlFvJDg7jyAp/QXB57jt85soiwo2Sq/+R75bC1ngw+CiG9/O/W1K4\n",
       "pF57brikcB1Iir6CgUu0a3d+lVzii76qnpKl+9D+cf5HQKmkTHy3tj+SRy79Z8xV38G7cijap0uL\n",
       "aGPOf4teLs78JXpm6Jtf+UAZHewNSw8OwVNpRVKU+8MKaWN+5Vfqiihb659OfB16MQD9HXWvK+z+\n",
       "R78a4hmt8c5SSBgsz2Rk8JvqXudZ3Ug1sJMKvJriEe3xxlFYyDOIznyaZ2nLWv6AM3WrIPg4qoGN\n",
       "VOAbcEkLif/VmVnI0pa1/AFn6lZakqdRDWw7ib8Al6UfSqFTdw6XtfwBZ+pWledRDZgl82/AJSrc\n",
       "ilPC4+ptLXy1ZSV/wJm6lSP2cVQDWnN/Ay5lad6PhE/IXRL/tS0r+QPO1K0qD6Qa6PC34HIs/kAk\n",
       "L5j4YB6aU9fxB5ypW+de3kY1EL2FXl3+Aly2U+nORZqpcfgSqzNJWtuyjj/gTN169/IWqoHoLfQ2\n",
       "7i/AJSrf6S1KVnzaw7r02pZ1HP6gupe6l3dRDcSZBjSpwBfgUpQvK5KiBaKxs3ZC67as4vBP132f\n",
       "e2m11YeoBuJMA5pU4O/jsp/KVQ8tiSyxjjMPW1Uc/sm673Avb6UaCDMN0G/Rl6qGsEUIsH8pj/Fv\n",
       "05Y1HP5e3fdyD9xLNRBhGmjll+CyE1VghjYJHcLYquHwd+u+mXvgWqqBi5gGdH7tn8dlP1UFXKDG\n",
       "3/uWrGnLGg5/t+6buAe2EXsl1UCCV8D/I8E0oCNVfx6XqG4zLfSbi14q7taWFRz+ft23cA9oAFxM\n",
       "NeAzDYQ4B5JMA68r6FfgcpxQZT2YmvV63W9LOId/aAL/Bu6BVDlBNXAJ04AhFfjruFS1Ob6qkrTA\n",
       "a8sCDn+3LpR7IMQ7kOAeSFr+eqqBS5gGTN7IX8elqE5Zk/waXBZw+Ht1gdwDIfKBCPdA3jGppRq4\n",
       "hGlgS6L647hU9VQtbZ2mTbZlhsM/VTfNPRAiH4hyD6SRU0s1cAnTwDYq/jYuxzOZ56QqAZKf2JUS\n",
       "r5vhHgiRD8S5BzIe841UA4ZUQElB1x9/dDJ+KrdWPvBzXBh8GDe/8tBCxamknF6Mvzb8levLWYYV\n",
       "yn5t+CvXe5c2LP8Pu7Ke4oylL9QAAAAASUVORK5CYII=\n",
       "\" style=\"display:inline;vertical-align:middle;\" /></a><br>"
      ],
      "text/plain": [
       "<IPython.core.display.HTML object>"
      ]
     },
     "metadata": {},
     "output_type": "display_data"
    }
   ],
   "source": [
    "forall_induction = \\\n",
    "    Forall(P, Implies(And(Function(P, []),\n",
    "                          Forall(n, Implies(Forall(x_1_to_n, P__x_1_to_n),\n",
    "                                            Forall(x_1_to_np1, P__x_1_to_np1)) \\\n",
    "                                    .with_wrap_after_operator(),\n",
    "                                 domain=Natural)),\n",
    "                      Forall(n, Forall(x_1_to_n, P__x_1_to_n),\n",
    "                             domain=Natural)).with_wrap_before_operator())"
   ]
  },
  {
   "cell_type": "code",
   "execution_count": 7,
   "metadata": {},
   "outputs": [
    {
     "name": "stdout",
     "output_type": "stream",
     "text": [
      "These theorems may now be imported from the theory package: proveit.logic.booleans.quantification.universality\n"
     ]
    }
   ],
   "source": [
    "%end theorems"
   ]
  },
  {
   "cell_type": "code",
   "execution_count": null,
   "metadata": {},
   "outputs": [],
   "source": []
  }
 ],
 "metadata": {
  "kernelspec": {
   "display_name": "Python 3",
   "language": "python",
   "name": "python3"
  }
 },
 "nbformat": 4,
 "nbformat_minor": 0
}