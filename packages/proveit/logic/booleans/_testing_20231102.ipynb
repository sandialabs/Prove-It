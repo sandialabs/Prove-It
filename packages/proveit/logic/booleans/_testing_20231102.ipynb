{
 "cells": [
  {
   "cell_type": "code",
   "execution_count": null,
   "id": "e5513e83",
   "metadata": {},
   "outputs": [],
   "source": [
    "import proveit\n",
    "from proveit.logic.booleans import Boolean\n",
    "from proveit.logic.booleans import eq_true_elim\n",
    "try:\n",
    "    from proveit.logic.booleans import in_bool_is_bool\n",
    "except Exception as the_exception:\n",
    "    pass\n",
    "try:\n",
    "    from proveit.logic.booleans import in_bool_is_bool_alt\n",
    "except Exception as the_exception:\n",
    "    pass"
   ]
  },
  {
   "cell_type": "code",
   "execution_count": null,
   "id": "63ee6e74",
   "metadata": {},
   "outputs": [],
   "source": [
    "%begin testing"
   ]
  },
  {
   "cell_type": "code",
   "execution_count": null,
   "id": "0a3d4a2d",
   "metadata": {},
   "outputs": [],
   "source": [
    "the_little_set_of_booleans = Boolean"
   ]
  },
  {
   "cell_type": "code",
   "execution_count": null,
   "id": "3b705387",
   "metadata": {},
   "outputs": [],
   "source": [
    "if 'in_bool_is_bool_alt' in locals():\n",
    "    print(\"in_bool_is_bool_alt:\")\n",
    "    display(in_bool_is_bool_alt)\n",
    "if 'in_bool_is_bool' in locals():\n",
    "    print(\"in_bool_is_bool:\")\n",
    "    display(in_bool_is_bool)"
   ]
  },
  {
   "cell_type": "code",
   "execution_count": null,
   "id": "a1cc477f",
   "metadata": {},
   "outputs": [],
   "source": [
    "if 'in_bool_is_bool_alt' in locals():\n",
    "    print(\"type of 'in_bool_is_bool_alt':\")\n",
    "    display(type(in_bool_is_bool_alt))\n",
    "if 'in_bool_is_bool' in locals():\n",
    "    print(\"type of 'in_bool_is_bool':\")\n",
    "    display(type(in_bool_is_bool))"
   ]
  },
  {
   "cell_type": "code",
   "execution_count": null,
   "id": "b69d5fcd",
   "metadata": {},
   "outputs": [],
   "source": [
    "if 'in_bool_is_bool_alt' in locals():\n",
    "    print(\"in_bool_is_bool_alt.expr = \")\n",
    "    display(in_bool_is_bool_alt.expr)\n",
    "if 'in_bool_is_bool' in locals():\n",
    "    print(\"in_bool_is_bool.expr = \")\n",
    "    display(in_bool_is_bool.expr)"
   ]
  },
  {
   "cell_type": "code",
   "execution_count": null,
   "id": "7581dfef",
   "metadata": {},
   "outputs": [],
   "source": [
    "from proveit import A, P\n",
    "if 'in_bool_is_bool_alt' in locals():\n",
    "    in_bool_is_bool_alt_inst = in_bool_is_bool_alt.instantiate({A:P})\n",
    "    print(\"instantiating 'in_bool_is_bool_alt' = \")\n",
    "    display(in_bool_is_bool_alt_inst)\n",
    "if 'in_bool_is_bool' in locals():\n",
    "    in_bool_is_bool_inst = in_bool_is_bool.instantiate({A:P})\n",
    "    print(\"instantiating 'in_bool_is_bool' = \")\n",
    "    display(in_bool_is_bool_inst)"
   ]
  },
  {
   "cell_type": "code",
   "execution_count": null,
   "id": "e41abcc9",
   "metadata": {},
   "outputs": [],
   "source": [
    "eq_true_elim"
   ]
  },
  {
   "cell_type": "code",
   "execution_count": null,
   "id": "ab2486fa",
   "metadata": {},
   "outputs": [],
   "source": [
    "%end testing"
   ]
  }
 ],
 "metadata": {
  "kernelspec": {
   "display_name": "Python 3",
   "language": "python",
   "name": "python3"
  }
 },
 "nbformat": 4,
 "nbformat_minor": 0
}
