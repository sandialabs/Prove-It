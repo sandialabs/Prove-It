{
 "cells": [
  {
   "cell_type": "markdown",
   "metadata": {},
   "source": [
    "Proof of <a class=\"ProveItLink\" href=\"../../../../../../_theory_nbs_/theory.ipynb\">proveit</a>.<a class=\"ProveItLink\" href=\"../../../../../_theory_nbs_/theory.ipynb\">logic</a>.<a class=\"ProveItLink\" href=\"../../../../_theory_nbs_/theory.ipynb\">booleans</a>.<a class=\"ProveItLink\" href=\"../../theory.ipynb\">disjunction</a>.<a class=\"ProveItLink\" href=\"../../theorems.ipynb#true_or_false\">true_or_false</a> theorem\n",
    "========"
   ]
  },
  {
   "cell_type": "code",
   "execution_count": 1,
   "metadata": {},
   "outputs": [],
   "source": [
    "import proveit\n",
    "from proveit.logic.booleans.disjunction  import or_t_f\n",
    "theory = proveit.Theory() # the theorem's theory"
   ]
  },
  {
   "cell_type": "code",
   "execution_count": 2,
   "metadata": {},
   "outputs": [
    {
     "data": {
      "text/html": [
       "With these <a href=\"allowed_presumptions.txt\">allowed</a>/<a href=\"disallowed_presumptions.txt\">disallowed</a> theorem/theory presumptions (e.g., to avoid circular dependencies), we begin our proof of<br><strong id=\"true_or_false\">true_or_false:</strong> <a class=\"ProveItLink\" href=\"../../../__pv_it/axioms/5be08831a8e37b44b705904bb8ca6529c1f0a5d10/expr.ipynb\"><img src=\"data:image/png;base64,iVBORw0KGgoAAAANSUhEUgAAADUAAAAPBAMAAAC2KZqIAAAAMFBMVEX///8AAAAAAAAAAAAAAAAA\n",
       "AAAAAAAAAAAAAAAAAAAAAAAAAAAAAAAAAAAAAAAAAAAv3aB7AAAAD3RSTlMAmd2rVHZEZhAyuyLN\n",
       "ie8tkZAaAAAACXBIWXMAAA7EAAAOxAGVKw4bAAAAdUlEQVQY02NgwAOElEBAGU2UrQDKcIVQzA1A\n",
       "gjMAzGYJQJVjB/G5JmCVY1AA4j0M2OWuALEIDrk9UL3Y5JgnMLAG4JDjNGBgasAhx3CawZEBl5wv\n",
       "UBaXHBPnApxyrMUJOOU4dBjQ5dLhQQzxOaOSkt4jJSUDAI7cFLFPCilqAAAAAElFTkSuQmCC\n",
       "\" style=\"display:inline;vertical-align:middle;\" /></a><br>(see <a class=\"ProveItLink\" href=\"../../../__pv_it/theorems/5790755076a0430a586644d86831c4b85dc4003d0/dependencies.ipynb\">dependencies</a>)<br>"
      ],
      "text/plain": [
       "<IPython.core.display.HTML object>"
      ]
     },
     "metadata": {},
     "output_type": "display_data"
    },
    {
     "name": "stdout",
     "output_type": "stream",
     "text": [
      "true_or_false has been proven.  Now simply execute \"%qed\".\n"
     ]
    }
   ],
   "source": [
    "%proving true_or_false"
   ]
  },
  {
   "cell_type": "code",
   "execution_count": 3,
   "metadata": {},
   "outputs": [
    {
     "name": "stdout",
     "output_type": "stream",
     "text": [
      "proveit.logic.booleans.disjunction.true_or_false has been proven.\n"
     ]
    },
    {
     "data": {
      "text/html": [
       "<table><tr><th>&nbsp;</th><th>step type</th><th>requirements</th><th>statement</th></tr>\n",
       "<tr><td><a name=\"-0xdef4ab9929812df_step0\">0</a></td><td>instantiation</td><td><a href=\"#-0xdef4ab9929812df_step1\">1</a>, <a href=\"#-0xdef4ab9929812df_step2\">2</a></td><td><span style=\"font-size:20px;\"> <a class=\"ProveItLink\" href=\"../../../__pv_it/_proof_true_or_false/6aa491a7600fc632322694f4e27d4ffec09905fd0/proof.ipynb\" style=\"text-decoration: none\">&nbsp;&#x22A2;&nbsp;&nbsp;</a><a class=\"ProveItLink\" href=\"../../../__pv_it/axioms/5be08831a8e37b44b705904bb8ca6529c1f0a5d10/expr.ipynb\"><img src=\"data:image/png;base64,iVBORw0KGgoAAAANSUhEUgAAADUAAAAPBAMAAAC2KZqIAAAAMFBMVEX///8AAAAAAAAAAAAAAAAA\n",
       "AAAAAAAAAAAAAAAAAAAAAAAAAAAAAAAAAAAAAAAAAAAv3aB7AAAAD3RSTlMAmd2rVHZEZhAyuyLN\n",
       "ie8tkZAaAAAACXBIWXMAAA7EAAAOxAGVKw4bAAAAdUlEQVQY02NgwAOElEBAGU2UrQDKcIVQzA1A\n",
       "gjMAzGYJQJVjB/G5JmCVY1AA4j0M2OWuALEIDrk9UL3Y5JgnMLAG4JDjNGBgasAhx3CawZEBl5wv\n",
       "UBaXHBPnApxyrMUJOOU4dBjQ5dLhQQzxOaOSkt4jJSUDAI7cFLFPCilqAAAAAElFTkSuQmCC\n",
       "\" style=\"display:inline;vertical-align:middle;\" /></a></span></td></tr>\n",
       "<tr><td>&nbsp;</td><td colspan=4 style=\"text-align:left\"><span style=\"font-size:20px;\"><a class=\"ProveItLink\" href=\"../../../../../../__pv_it/common/09585084922504426caf1db2ff588a23a0932a960/expr.ipynb\"><img src=\"data:image/png;base64,iVBORw0KGgoAAAANSUhEUgAAAA8AAAAPBAMAAADJ+Ih5AAAAMFBMVEX///8AAAAAAAAAAAAAAAAA\n",
       "AAAAAAAAAAAAAAAAAAAAAAAAAAAAAAAAAAAAAAAAAAAv3aB7AAAAD3RSTlMAIs1UmauJMnZmRLsQ\n",
       "3e++988cAAAACXBIWXMAAA7EAAAOxAGVKw4bAAAAXklEQVQI12NgAAEhBijQh9LM/6EMlngBCCMx\n",
       "vwBMMzb0G0BkGOwngBmLGeoTwAwHBvkAEM2xxSV+A4hxgoGB/wJEhoH3AZDmAupg+gBkyAEx90cG\n",
       "htP/dRiY939KAABt3hLO6mcEjQAAAABJRU5ErkJggg==\n",
       "\" style=\"display:inline;vertical-align:middle;\" /></a> : <a class=\"ProveItLink\" href=\"../../../__pv_it/axioms/5be08831a8e37b44b705904bb8ca6529c1f0a5d10/expr.ipynb\"><img src=\"data:image/png;base64,iVBORw0KGgoAAAANSUhEUgAAADUAAAAPBAMAAAC2KZqIAAAAMFBMVEX///8AAAAAAAAAAAAAAAAA\n",
       "AAAAAAAAAAAAAAAAAAAAAAAAAAAAAAAAAAAAAAAAAAAv3aB7AAAAD3RSTlMAmd2rVHZEZhAyuyLN\n",
       "ie8tkZAaAAAACXBIWXMAAA7EAAAOxAGVKw4bAAAAdUlEQVQY02NgwAOElEBAGU2UrQDKcIVQzA1A\n",
       "gjMAzGYJQJVjB/G5JmCVY1AA4j0M2OWuALEIDrk9UL3Y5JgnMLAG4JDjNGBgasAhx3CawZEBl5wv\n",
       "UBaXHBPnApxyrMUJOOU4dBjQ5dLhQQzxOaOSkt4jJSUDAI7cFLFPCilqAAAAAElFTkSuQmCC\n",
       "\" style=\"display:inline;vertical-align:middle;\" /></a></span></td></tr><tr><td><a name=\"-0xdef4ab9929812df_step1\">1</a></td><td>axiom</td><td></td><td><span style=\"font-size:20px;\"> <a class=\"ProveItLink\" href=\"../../../../_theory_nbs_/axioms.ipynb#eq_true_elim\" style=\"text-decoration: none\">&nbsp;&#x22A2;&nbsp;&nbsp;</a><a class=\"ProveItLink\" href=\"../../../../__pv_it/axioms/e109ec75dbf9febf42e2a6841bae9d9b810afe380/expr.ipynb\"><img src=\"data:image/png;base64,iVBORw0KGgoAAAANSUhEUgAAAGgAAAAWBAMAAADeGsQjAAAAMFBMVEX///8AAAAAAAAAAAAAAAAA\n",
       "AAAAAAAAAAAAAAAAAAAAAAAAAAAAAAAAAAAAAAAAAAAv3aB7AAAAD3RSTlMAq1RmmUTNIjK7EInv\n",
       "3XZ/CtNrAAAACXBIWXMAAA7EAAAOxAGVKw4bAAABQklEQVQ4y2NgIBWwJzAwCIAYyiRoYvvAwOAK\n",
       "YqSToEkfqKkRZOMEEjQ5fgfatoCBgVuBeD3c1T8YGJgNgBpJsKiO7xOQPHv37mkSNDkwfQaSHgwM\n",
       "s8DcBWCSBSbLhVUPqwLHbyBVyMAODnauE2BRTpj0mgaYL2bOPDlzHpTDwsD+EaRqAXcAWO4Tqqb9\n",
       "SKGDCN2XLo4/gRTTA0g4RJxD0cTa8wCLJi6g4F8QI8EOzH+QiKKJj00AiyaQj++AGJuywIoY3FA0\n",
       "PWBJYPCcCQQGyJqCgTgfxKgBGxnB8AZZE2sD3wFMm9hBYvMLgAQjOJi8d8svQNLEsnvjLwxNXPO/\n",
       "LWDQ/J8NE+ZjYKhvQNL0gIH9BxbnoQKgY/kVEJpYgUo/YQtyZMBykIHLPxWhyUeAYcm3AETaIZC2\n",
       "OBnIAPTTxE6EGgDCrEmFo2pTSQAAAABJRU5ErkJggg==\n",
       "\" style=\"display:inline;vertical-align:middle;\" /></a></span></td></tr>\n",
       "<tr><td>&nbsp;</td><td colspan=4 style-\"text-align:left\"><a class=\"ProveItLink\" href=\"../../../../_theory_nbs_/axioms.ipynb#eq_true_elim\">proveit.logic.booleans.eq_true_elim</a></td></tr><tr><td><a name=\"-0xdef4ab9929812df_step2\">2</a></td><td>axiom</td><td></td><td><span style=\"font-size:20px;\"> <a class=\"ProveItLink\" href=\"../../axioms.ipynb#or_t_f\" style=\"text-decoration: none\">&nbsp;&#x22A2;&nbsp;&nbsp;</a><a class=\"ProveItLink\" href=\"../../../__pv_it/axioms/60330ee6db5efb06d1adf8b0bcef3a1d453390260/expr.ipynb\"><img src=\"data:image/png;base64,iVBORw0KGgoAAAANSUhEUgAAAHAAAAAVBAMAAABs93eRAAAAMFBMVEX///8AAAAAAAAAAAAAAAAA\n",
       "AAAAAAAAAAAAAAAAAAAAAAAAAAAAAAAAAAAAAAAAAAAv3aB7AAAAD3RSTlMAInZUiRDNmWbv3US7\n",
       "qzJazP2FAAAACXBIWXMAAA7EAAAOxAGVKw4bAAABD0lEQVQ4y2NgYBBgwAPwSDIZ4NO4CbeUCQP7\n",
       "KjC4gCaxA2xsA7r6KrDitQysCSAeswJE9CqIeARhG4HJVCx2gWXYG5A1NoGIc8ga23Fp5GRA1sgF\n",
       "xIwJyBo5A3BoNEPRyAIMKXYDZI1sDTg0lqBoBNnGhSzNwHIBh8YMFI0M9xgYlFA0ciQgByWSzGJU\n",
       "jW8ZGJaiaGSegMPG2aga2QSYC1A08n0gTiOzA5sAikZuXDaiOZVhwRsGVKcuwOHHQ2gaNW6jauQ4\n",
       "gMNGXzSNUQmoGtkdcGh8BfEJPJqh0Q9020yw27g2YGoEJ3+uBwx4gRQuCY4C/BorcMocxKuP8QBO\n",
       "qRi8Gnlwlx2MCvg0KuKSAAAmlD43fBQDCQAAAABJRU5ErkJggg==\n",
       "\" style=\"display:inline;vertical-align:middle;\" /></a></span></td></tr>\n",
       "<tr><td>&nbsp;</td><td colspan=4 style-\"text-align:left\"><a class=\"ProveItLink\" href=\"../../axioms.ipynb#or_t_f\">proveit.logic.booleans.disjunction.or_t_f</a></td></tr></table>"
      ],
      "text/plain": [
       "\tstep type\trequirements\tstatement\n",
       "0\tinstantiation\t1, 2\t|- TRUE or FALSE\n",
       "\tA : TRUE or FALSE\n",
       "1\taxiom\t\t|- forall_{A | A = TRUE} A\n",
       "\tproveit.logic.booleans.eq_true_elim\n",
       "2\taxiom\t\t|- (TRUE or FALSE) = TRUE\n",
       "\tproveit.logic.booleans.disjunction.or_t_f"
      ]
     },
     "execution_count": 3,
     "metadata": {},
     "output_type": "execute_result"
    }
   ],
   "source": [
    "%qed"
   ]
  },
  {
   "cell_type": "code",
   "execution_count": null,
   "metadata": {},
   "outputs": [],
   "source": []
  }
 ],
 "metadata": {
  "kernelspec": {
   "display_name": "Python 3",
   "language": "python",
   "name": "python3"
  }
 },
 "nbformat": 4,
 "nbformat_minor": 0
}