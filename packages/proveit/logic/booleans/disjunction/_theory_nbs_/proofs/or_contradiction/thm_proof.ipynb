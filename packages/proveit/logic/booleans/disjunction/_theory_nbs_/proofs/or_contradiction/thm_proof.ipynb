{
 "cells": [
  {
   "cell_type": "markdown",
   "metadata": {},
   "source": [
    "Proof of <a class=\"ProveItLink\" href=\"../../../../../../_theory_nbs_/theory.ipynb\">proveit</a>.<a class=\"ProveItLink\" href=\"../../../../../_theory_nbs_/theory.ipynb\">logic</a>.<a class=\"ProveItLink\" href=\"../../../../_theory_nbs_/theory.ipynb\">booleans</a>.<a class=\"ProveItLink\" href=\"../../theory.ipynb\">disjunction</a>.<a class=\"ProveItLink\" href=\"../../theorems.ipynb#or_contradiction\">or_contradiction</a> theorem\n",
    "========"
   ]
  },
  {
   "cell_type": "code",
   "execution_count": 1,
   "metadata": {},
   "outputs": [],
   "source": [
    "import proveit\n",
    "theory = proveit.Theory() # the theorem's theory"
   ]
  },
  {
   "cell_type": "code",
   "execution_count": 2,
   "metadata": {},
   "outputs": [
    {
     "data": {
      "text/html": [
       "With these <a href=\"allowed_presumptions.txt\">allowed</a>/<a href=\"disallowed_presumptions.txt\">disallowed</a> theorem/theory presumptions (e.g., to avoid circular dependencies), we begin our proof of<br><strong id=\"or_contradiction\">or_contradiction:</strong> <a class=\"ProveItLink\" href=\"../../../__pv_it/theorems/e80d7a10b3e91b5ca01d0f2f4910cfb12d351e0f0/expr.ipynb\"><img src=\"data:image/png;base64,iVBORw0KGgoAAAANSUhEUgAAAgIAAAAZBAMAAACx5VuOAAAAMFBMVEX///8AAAAAAAAAAAAAAAAA\n",
       "AAAAAAAAAAAAAAAAAAAAAAAAAAAAAAAAAAAAAAAAAAAv3aB7AAAAD3RSTlMAq1RmmUTNIjK7EInv\n",
       "3XZ/CtNrAAAACXBIWXMAAA7EAAAOxAGVKw4bAAAEcUlEQVRYw+2ZT4jUVhzHf5NJJpmME3MvaGQt\n",
       "PYgyICt4EWldt/gHgz3UVg/jQQQvzl6EimVTb9JR5iI6gpCil2UFx711PXRtKRVsZetFWAiMIBaL\n",
       "iPRQpCD2vZf3kt/Le5uh2suI75DJy/vk+375bt77vZcFKC+V5CG8w8VLHoxCavCOl63vHXjvAPj0\n",
       "Z6LMgRHE2JbPuANT9Od4mQMjiLEtW7gD35Cj3StzYAQx9g7UYoBGUObACGLsHai2Sqc70jSCGHsH\n",
       "4LckuVeeC8qJ8XfgU4Ar5Q5kRIwaXD2PETBXg+OyyOTGj4o9eumP0Sne4BWFVISUoerADNi+fOfX\n",
       "e8PqHeSAINy7CLoR6aKXEKivAstUqUQ1VHrcyY6T6g07C0qTOk1TdaAeN/JewHnUDw1/EfYgBwTR\n",
       "+AvJ/6CdGyUkd4DDNEQfUaKubUzLd2qPh9kz+WqfhwtW+rqwrIHigDHE09wuYrSxw4QBckAQh+7n\n",
       "nNUd6hzASO6AgCd4AIKawAEVG9MypfZIcxOYodpnTR4/OoSUE4oD0N5BXrZPLjzytkfgtegTn/18\n",
       "iB1gBB1CR9GmqubrHMBI7oCA6/R9QpSoaxvTsqz2yDJzU9NnIWU39WEtqA4sEFeuHWmt8T0f5tgM\n",
       "Ei1+KDmwcCKdaXYjTbOt22xiJHdAwEaLvakZxeugbWTFbqs9GnS8nNL0acgTwSl9WBtVB84Qb08/\n",
       "gbWROUjXykZkej3swBnm/iF4BvBV+jezIm8JDj4Oi4OAIooDDLZpOumxpEIpa8tUVuclb0SDrQeN\n",
       "fr9/FYtYNLYvAL4nDctYzZIXrjKCLxcdqNA5dh10oRnANnJLYETuoI0dYATsvb0+djanDpi3b/0D\n",
       "S+6LggMUUR1g8NkV2h0b6ZRaAzezutilZY0ooaVvfgWLOPRBN6TtPlZzZAdkJLt8jh33J8mvSfI7\n",
       "2h3fhacw68C36TsAB4fK7pik29kImjHPqvZL6DhLxUFAkOrHW6c2RdgBBgMNvkZHOqNs4jivZ0uP\n",
       "rDGX4A9VwSLsZT8nHg+pFUaBjGSaG/XfB+wX5C3YbqZzEcnBnq84QAbI2oA64A7AIhMmSTD1EOZp\n",
       "lR9SxHgKPxsD5ACHafDVDzIhuMjr4n7UKCTmxUxoYhFvSOimSKFIjTXkAclIFtZzvQOWT/a/M3+C\n",
       "fZlUzh/P03TmgHkH3APHqAPOj7DPh+t/h3Sx2A2cX6DboYeAI5fdthkgBzi8wlMRp8yI18X9uJFL\n",
       "dAO4xLtHIvUOiaDekcJiaqwhjUWDiLAujfhGNN/vh2XfiOgoMET2iclYyTOQOFs2Bs2qvCKiZUUW\n",
       "WvRK1oVCIiiucqjIHI0ATyBCbS4PTYNwTbf3dl/JnGcknX7JKydfL4OVDWRx5vpeWPlDceDCPSlb\n",
       "116/KlkYcwkiaXagKDLNIphW1abz0FREaMqCb/idsIXX7ZozdVX8hoVKLioXQxZBI16lIQ+yoduA\n",
       "Tf7nL6Vv8/8C+3/Yw7qrXYhHktotqHzNS376FzpsXBszsNRsAAAAAElFTkSuQmCC\n",
       "\" style=\"display:inline;vertical-align:middle;\" /></a><br>(see <a class=\"ProveItLink\" href=\"../../../__pv_it/theorems/7a43b8673b53a5bf981ce1e5ce704dcd634fa1f90/dependencies.ipynb\">dependencies</a>)<br>"
      ],
      "text/plain": [
       "<IPython.core.display.HTML object>"
      ]
     },
     "metadata": {},
     "output_type": "display_data"
    }
   ],
   "source": [
    "%proving or_contradiction"
   ]
  },
  {
   "cell_type": "code",
   "execution_count": null,
   "metadata": {},
   "outputs": [],
   "source": []
  }
 ],
 "metadata": {
  "kernelspec": {
   "display_name": "Python 3",
   "language": "python",
   "name": "python3"
  }
 },
 "nbformat": 4,
 "nbformat_minor": 0
}