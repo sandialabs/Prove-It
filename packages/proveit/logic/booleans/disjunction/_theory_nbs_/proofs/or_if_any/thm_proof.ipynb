{
 "cells": [
  {
   "cell_type": "markdown",
   "metadata": {},
   "source": [
    "Proof of <a class=\"ProveItLink\" href=\"../../../../../../_theory_nbs_/theory.ipynb\">proveit</a>.<a class=\"ProveItLink\" href=\"../../../../../_theory_nbs_/theory.ipynb\">logic</a>.<a class=\"ProveItLink\" href=\"../../../../_theory_nbs_/theory.ipynb\">booleans</a>.<a class=\"ProveItLink\" href=\"../../theory.ipynb\">disjunction</a>.<a class=\"ProveItLink\" href=\"../../theorems.ipynb#or_if_any\">or_if_any</a> theorem\n",
    "========"
   ]
  },
  {
   "cell_type": "code",
   "execution_count": 1,
   "metadata": {},
   "outputs": [],
   "source": [
    "import proveit\n",
    "theory = proveit.Theory() # the theorem's theory"
   ]
  },
  {
   "cell_type": "code",
   "execution_count": 2,
   "metadata": {},
   "outputs": [
    {
     "data": {
      "text/html": [
       "With these <a href=\"allowed_presumptions.txt\">allowed</a>/<a href=\"disallowed_presumptions.txt\">disallowed</a> theorem/theory presumptions (e.g., to avoid circular dependencies), we begin our proof of<br><strong id=\"or_if_any\">or_if_any:</strong> <a class=\"ProveItLink\" href=\"../../../__pv_it/theorems/fd3da9898ba64653da239a2e75a4d4c56fe499ff0/expr.ipynb\"><img src=\"data:image/png;base64,iVBORw0KGgoAAAANSUhEUgAAAxsAAAAZBAMAAACr0C5sAAAAMFBMVEX///8AAAAAAAAAAAAAAAAA\n",
       "AAAAAAAAAAAAAAAAAAAAAAAAAAAAAAAAAAAAAAAAAAAv3aB7AAAAD3RSTlMAq1RmmUTNIjK7EInv\n",
       "3XZ/CtNrAAAACXBIWXMAAA7EAAAOxAGVKw4bAAAIAklEQVRo3u1afWwURRR/3fvY7e51uUYkaAKc\n",
       "AQkGC6eAkUTxkGLQajjxHyJoatQQQO2hBoMoPQl/aFLKQSQCUbt8xEj4OhD8aBNaQAOKwgUJIYSG\n",
       "JaCkCKWgFpRAna/dnbnbbbcBQwUn6e7cm9+9NzO/mTfvzRXAV+nXnIL/y79czjbHfCIre2L3b6YV\n",
       "QsYSiP+H6dDpWprt0Ty7e9rkGzvE5xkdUfwe2DUdRfglxXsQHUPpq8qjuap72sJtHg2jO0pLp6fz\n",
       "hBsXl8bnFmLVltLb5Kxvmxxcj1M6xuMP07qmI5jEfe5B/kGly1nqsCVFBnooJnQq58qd+FHLPgxv\n",
       "82r6Hmm4JMr0fQYM+rlQ+5nTID0V922Vh8+gdLyHN2qmazoUvI3m9KDNEaTjCA6wl0gAj72YLWQv\n",
       "OVfG4Mcy9mHsRY8m+SpA6A9Bpn6ClAUvFmhfexg9Jqb8WhXgIykdYUSiFuuaDkLflh5ER4S+vmp0\n",
       "RpzjjgwvOVdKuCNDm3vJoymAGgJXBVn4B/QINRVofwVviKm+rQrwiEHowKd52M9RPqKHneiD6do1\n",
       "zzlrCa+WR6FTOV/wKgwy1Dz9gkdTEfJi4d2CrBE/lUS+do2oWODXqggPx2lk9VNz814/dESam49m\n",
       "exAdFdQnwfC4EEzloFN5fjBVwuoJ6XePpkgG1H5pXiZfIR4rna+9mjw/92tVhGtRSscEgBV+6Aim\n",
       "odjoQXS8SJ6TYJGzRorSoLOz00sulL4ArbQWiimXPZoWfdraJy7ItKsC1NbeaLrLPayK8EAlpWMW\n",
       "yFE/dCDULBrS8A3uBKnXffITBZIDTF7t9B6FGyUGdCoXCgpjjlibST7v0XQuBdIuQVYinPqO9mMp\n",
       "d7mHVREuNVE6ig0t6Z4YHdwGD0WdNHAFbCP19Vy0oO5x/SoPAaWuYisNUvTeDevsDh6vqK93ye14\n",
       "CEgzXzpIPXgmTxXAdwT+YfkA1LSaHWrTYBBTQ+RqQ6khyvNyjZTEaG4pH/uXR9PHeCGneVmkjS45\n",
       "9QHR6n66QP1a3S+sZ6WN0iGZbid57R1L4S7NCBoOHcPYSd7IxWHaBVc6GoVQ7WEUYROPcIAOjpTn\n",
       "YlDcVPBFHoK7YGZfH8LRYauy6NgI0CsHSmvOygxZBkXlQQjmRLlYpCxLpFTkN664NwHeNY+YvKyE\n",
       "0DEEas+KVo8RUNqvVQa3Rs52B1SOcQnqJ+Bc3Uxo3CVJmETSEKrhfN7kfW4GBQhAbzQe/L4XcWut\n",
       "FwnFilKhB+IgpAtmVlvF02GpspwV0lCCxiExOkqUjO3bkLxXUr4kyvNK7gPLVwEcdW9S8BE/IMnL\n",
       "aMaBjqYy0SpJITTfVhncmpAco2MLyigC42qP66MxU6h2EuAE4f/ueTwd2mCyVfQwd9SYL7jeJoWF\n",
       "02gnqDiDlfFOms9k1Wj/KAXpDg8hXTCzb9TzdDBVuHyKeY/T2w2LDv0+Om9MHjDYxFjy/HLidvp+\n",
       "hl6qjHywNXpimdiko7lX2gUZTgxBM2w6LO3VeBHW+7ZqwcmEQyDD6HgHzd3qqfFIVMeTiGsplYx+\n",
       "iLZqCkeHvIMyEHSyDx0ec7PHQ3DvR4zFRBfxUV8/145yENoFs/zHNEeHpQqXzbjrOPG96NChHqJv\n",
       "Sw5ajpereFo3VVoPgA30JWOvWZdSR+2CHXAc+CYIo7apM0QZiqFDeJWUiVZxrDzF8LaqtgtqGJxM\n",
       "ONpyWUYHCsjg7V+hVxpLSM0Ixal3TLTwN7p9ycJL600gs9B4MvLkoWHj830VhnAhXA5WYrcUob5p\n",
       "Dtlj39Jw9KS4fiKO+6JdMLMLfuHosFThshBgbccMkOraszYdLO2y5bDQ4OVwELuQhPWwsjq1rt2A\n",
       "ezpmyhsr4RLLZ+wksO58aZ8lIMhAfbyUjLlMsAqwZnFvMh4vqwdFNRROJhwBkvwFe3+ogZIYrU2F\n",
       "wPTly5cgOtaFCy7Ygw2b/4b5LAisaBhgRGBT/sGDIdyST4D8J55rvDljShnpKz5zJGhSxXtUCqEz\n",
       "T7qAzg6No8NSRTwzF71JOY9b864zKmFzmkoTC6B9lbLrYrU/uSh5F3g69kALVCu0Vq4oWbo7QsMK\n",
       "6DABe8YjzFdBdVpGROb5KgwZOXDkpK/pHMcghJ1pEfKFeorF4qXo7xSkFDG4opDA+PuzQLuA6NA5\n",
       "OixVhK9E13S8CW916xosrWfktvS10tFNq3jCAcbxdMhtiKTRQViHa4eH0Dx9FFiO1KED+5ALhI51\n",
       "5ATshdbyUlCz6KP1oJBhmUhyKEFVG7AhgZtQaIo8D6IDgdYnQUfbszjJfdGCSC34cmEFo6OWo4Oq\n",
       "YuWjLumQl73/RHcmphrtj0AmcY10dNMqnXByqW7TEYqiGHnWaaiJodpvcZiDlohyKEV/dOLpeDIK\n",
       "a9qTmI6aWHAHqBNfxrcnyk6oSSm78WMngxSnP8O+syYWqGrYugRXYE1Fq0HoQCC1fPtpIDc0NTH6\n",
       "xd0OpC++18FdkF6buTzu0MFUsbLWGdGXl03X1d7R0dYdOp5GKZrc3/dN0Nyq7dfBKp3w4hS4/Thr\n",
       "HVbfLF+ad0kilCMOFOp1fAzYC9W+Rx4KubiDsivYWVkgzTA5hF3L6aOMvC64RPCyCTdPOQVudIQM\n",
       "zzsrIWffG7Oh4Q6Uzz5rN1m1lcjr9E85Cq2KcmaLA6rqyHEmrZoalb7I70AGboFSQEcAfNFRAI27\n",
       "1ESUB5xvCHTS01uTDq/y6o3+P6tb4d+8zh6N/wP3B40ceaa9kQAAAABJRU5ErkJggg==\n",
       "\" style=\"display:inline;vertical-align:middle;\" /></a><br>(see <a class=\"ProveItLink\" href=\"../../../__pv_it/theorems/931639e0cb6d87671e76f9406df5e922307c3ffb0/dependencies.ipynb\">dependencies</a>)<br>"
      ],
      "text/plain": [
       "<IPython.core.display.HTML object>"
      ]
     },
     "metadata": {},
     "output_type": "display_data"
    },
    {
     "name": "stdout",
     "output_type": "stream",
     "text": [
      "or_if_any may now be readily provable (assuming required theorems are usable).  Simply execute \"%qed\".\n"
     ]
    }
   ],
   "source": [
    "%proving or_if_any"
   ]
  },
  {
   "cell_type": "code",
   "execution_count": null,
   "metadata": {},
   "outputs": [],
   "source": []
  }
 ],
 "metadata": {
  "kernelspec": {
   "display_name": "Python 3",
   "language": "python",
   "name": "python3"
  }
 },
 "nbformat": 4,
 "nbformat_minor": 0
}