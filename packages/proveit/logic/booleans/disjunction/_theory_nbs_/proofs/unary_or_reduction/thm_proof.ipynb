{
 "cells": [
  {
   "cell_type": "markdown",
   "metadata": {},
   "source": [
    "Proof of <a class=\"ProveItLink\" href=\"../../../../../../_theory_nbs_/theory.ipynb\">proveit</a>.<a class=\"ProveItLink\" href=\"../../../../../_theory_nbs_/theory.ipynb\">logic</a>.<a class=\"ProveItLink\" href=\"../../../../_theory_nbs_/theory.ipynb\">booleans</a>.<a class=\"ProveItLink\" href=\"../../theory.ipynb\">disjunction</a>.<a class=\"ProveItLink\" href=\"../../theorems.ipynb#unary_or_reduction\">unary_or_reduction</a> theorem\n",
    "========"
   ]
  },
  {
   "cell_type": "code",
   "execution_count": 1,
   "metadata": {},
   "outputs": [],
   "source": [
    "import proveit\n",
    "from proveit.logic import TRUE, FALSE\n",
    "from proveit import A\n",
    "from proveit.logic.booleans.disjunction import unary_or_lemma\n",
    "from proveit.logic.booleans.disjunction  import or_f_t, or_f_f\n",
    "theory = proveit.Theory() # the theorem's theory"
   ]
  },
  {
   "cell_type": "code",
   "execution_count": 2,
   "metadata": {},
   "outputs": [
    {
     "data": {
      "text/html": [
       "With these <a href=\"allowed_presumptions.txt\">allowed</a>/<a href=\"disallowed_presumptions.txt\">disallowed</a> theorem/theory presumptions (e.g., to avoid circular dependencies), we begin our proof of<br><strong id=\"unary_or_reduction\">unary_or_reduction:</strong> <a class=\"ProveItLink\" href=\"../../../__pv_it/theorems/a39ceab4eedeedc6a5f759a48d9462a5ab8f15820/expr.ipynb\"><img src=\"data:image/png;base64,iVBORw0KGgoAAAANSUhEUgAAAK4AAAAVBAMAAAAtL8hrAAAAMFBMVEX///8AAAAAAAAAAAAAAAAA\n",
       "AAAAAAAAAAAAAAAAAAAAAAAAAAAAAAAAAAAAAAAAAAAv3aB7AAAAD3RSTlMAq1RmmUTNIjK7EInv\n",
       "3XZ/CtNrAAAACXBIWXMAAA7EAAAOxAGVKw4bAAACyElEQVQ4y4WVTWgTURDH/9kk3WS3SXP1lIAi\n",
       "SpVGEMGLpG0UoQeDXnoQiVQptqBRQShWG8GrbRFLiQezeBC8SFoQURHroSB+EUSlBwOLIiIoVoVW\n",
       "EYkz771sPjbbPnjZyfv4zbx5M/OAtVsO35aUqAS9Yc6j6VivRRO46/yR0ge5NQscabvlHBC0gRjL\n",
       "G7243WjlaiUhdyyT0mS7LaeofwT2sjzsgTWyTPNZJIZsyb0lZ3qIi5E2W7Qqa7VwiQ817cENJJnr\n",
       "p2MhnJfcfjnTu0o/O9ttiZPb/SlGw0x4cDvl6cvSbYK7ICbM87952nJvufc4T7/P4CeTOrzcu1ly\n",
       "5+nTJ7laVkxcjP7k47odrNvf2cgh4GWl8tyLOyC5ZCvbzNyAvLaU9outjrndgB5WNgfsB66LoTaH\n",
       "GpJcXx5RW3KlicFE6C99/Gx8oCKaUnEQU6x5F3AauhgznqoLHT32pubv15IbiiFiSW4kIa3Sf/DS\n",
       "BZclKUwwbRtdtGVmxFWwxyY3zMAundmiVi2qqB3GJiV1irVf0r1/OPaWXXl0LR3n4Joipba8tsFX\n",
       "ZAc5hbjmzRZut4hwh2uQU/6xO1z23gG6OHoOU8/uEUP2UZEnzD37oNkPiISm0eCHAPX37Idyq39T\n",
       "tIKVbac+L9Imin0wRH7Y6Rd5xb2haNEdGSWFOUcOqXT1t+ZTMCkzHLupjwtVg/gqhtney5/UujlF\n",
       "M97V6gOHls4WFXNO0NXbOGteVQHqE9YNPIxb/hOFwlX2r6nWXalVm74aN1SGUVyxsLU6SkfONGNv\n",
       "V0egFVdI21vnIoGJfKgk7TWjajSSd9WzpQbOBc8CXK5J5LKuhEwQ4k6qUaofrdzGWtOPNeqVFJ7A\n",
       "OHAcY2SfdnK04OT9rIsbrr8SnmUQY6319n5hptljLq5Rh4U9H6LZ9d4h3cYj531blKXMmfzs+Xrl\n",
       "8B/USMIsmXkErgAAAABJRU5ErkJggg==\n",
       "\" style=\"display:inline;vertical-align:middle;\" /></a><br>(see <a class=\"ProveItLink\" href=\"../../../__pv_it/theorems/c5a683c8244565c14f74ea5e8df86dae349921770/dependencies.ipynb\">dependencies</a>)<br>"
      ],
      "text/plain": [
       "<IPython.core.display.HTML object>"
      ]
     },
     "metadata": {},
     "output_type": "display_data"
    }
   ],
   "source": [
    "%proving unary_or_reduction"
   ]
  },
  {
   "cell_type": "code",
   "execution_count": 3,
   "metadata": {},
   "outputs": [
    {
     "data": {
      "text/html": [
       "<strong id=\"base_case_t_r_u_e\">base_case_t_r_u_e:</strong> <span style=\"font-size:20px;\"> <a class=\"ProveItLink\" href=\"../../../__pv_it/_proof_unary_or_reduction/c1303350156387536c2414d273f116fbeb7ec1370/proof.ipynb\" style=\"text-decoration: none\">&nbsp;&#x22A2;&nbsp;&nbsp;</a><a class=\"ProveItLink\" href=\"../../../__pv_it/_proof_unary_or_reduction/5135dee176e50c052f15f956bf339a801ebdf0bb0/expr.ipynb\"><img src=\"data:image/png;base64,iVBORw0KGgoAAAANSUhEUgAAAGYAAAAVBAMAAABGR4Y+AAAAMFBMVEX///8AAAAAAAAAAAAAAAAA\n",
       "AAAAAAAAAAAAAAAAAAAAAAAAAAAAAAAAAAAAAAAAAAAv3aB7AAAAD3RSTlMAdt0yiUSrEGa7Is1U\n",
       "me/+rfgeAAAACXBIWXMAAA7EAAAOxAGVKw4bAAABFklEQVQ4y2MQUmaAACiDiwEGFjDgAq5oLBk4\n",
       "P5BYPTwODJeUQECNgbEBXS1MxpWBrQDIZRaA6KkGSx4Ek9uxWHEQYjqHAJDiNIDouYGkpxe3HgYF\n",
       "ILUa6rYHSHr4CnDr8QFSdyB6eDYg6eFuwK0HaAfILpAeXgckPSwJuPWwGTAwCkD0QI2G6OHYgBxY\n",
       "qHqYExiYCiB6mA4g6eF5gNsehl0MZ6EsvgAkPcwf8Og5AtSFRQ8rPnuYmCcwYHObAm7/MDC2BUBZ\n",
       "nALIYTABjz3s2jAWNHgheqABj10PKEYhLGawcxgiwCRTAKaeCCzpWhlJfhGReQE5Xd4gUg8nIndy\n",
       "TSBSDztCISfOzO0ELw+egqmFcBkpXFoA349FC9/bAjEAAAAASUVORK5CYII=\n",
       "\" style=\"display:inline;vertical-align:middle;\" /></a></span><br>"
      ],
      "text/plain": [
       "<IPython.core.display.HTML object>"
      ]
     },
     "metadata": {},
     "output_type": "display_data"
    }
   ],
   "source": [
    "base_case_t_r_u_e = unary_or_lemma.instantiate({A:TRUE})"
   ]
  },
  {
   "cell_type": "code",
   "execution_count": 4,
   "metadata": {},
   "outputs": [
    {
     "data": {
      "text/html": [
       "<strong id=\"base_case_f_a_l_s_e\">base_case_f_a_l_s_e:</strong> <span style=\"font-size:20px;\"> <a class=\"ProveItLink\" href=\"../../../__pv_it/_proof_unary_or_reduction/bbaca60d19327103d5ef4793513b2e6c2a99e76f0/proof.ipynb\" style=\"text-decoration: none\">&nbsp;&#x22A2;&nbsp;&nbsp;</a><a class=\"ProveItLink\" href=\"../../../__pv_it/_proof_unary_or_reduction/00f8fbbbdbd065234f9bcfb1719e0af561ec3ed20/expr.ipynb\"><img src=\"data:image/png;base64,iVBORw0KGgoAAAANSUhEUgAAAGYAAAAVBAMAAABGR4Y+AAAAMFBMVEX///8AAAAAAAAAAAAAAAAA\n",
       "AAAAAAAAAAAAAAAAAAAAAAAAAAAAAAAAAAAAAAAAAAAv3aB7AAAAD3RSTlMAdt0yiUSrEGa7Is1U\n",
       "me/+rfgeAAAACXBIWXMAAA7EAAAOxAGVKw4bAAABGElEQVQ4y2MQUmaAACiDiwEGFjDgAq5oLBk4\n",
       "P5BYPTwOIDICRDA2YFEeAVHJVgCkmAUgeqrBMgfB5HYseg5C9HAIAClOA4ieG0h6enHrYVAAUquh\n",
       "bnuApIevALceHyB1B6KHZwOSHu4G3HqAdoDsAunhdUDSw5KAWw+bAQOjAEQP1GiIHg6wpZeUQEAN\n",
       "TQ9zAgNTAUQP0wEkPTwPcNvDsIvhLJTFF4Ckh/kDHj1HgLqw6GHFZw8T8wQGbG5TwO0fBsa2ACiL\n",
       "UwA5DCbgsYddG8aCBi9EDzTgsesBxSiExawAdsw7sGOYAtA0wGTQ0rUykpJFROYF5HR5g0g9nIjc\n",
       "yTWBSD3sCIWcODO3E7w8eAqmFsJlpHBpAQDJ7EajKPxBYgAAAABJRU5ErkJggg==\n",
       "\" style=\"display:inline;vertical-align:middle;\" /></a></span><br>"
      ],
      "text/plain": [
       "<IPython.core.display.HTML object>"
      ]
     },
     "metadata": {},
     "output_type": "display_data"
    }
   ],
   "source": [
    "base_case_f_a_l_s_e = unary_or_lemma.instantiate({A:FALSE})"
   ]
  },
  {
   "cell_type": "code",
   "execution_count": 5,
   "metadata": {},
   "outputs": [
    {
     "data": {
      "text/html": [
       "<span style=\"font-size:20px;\"> <a class=\"ProveItLink\" href=\"../../../__pv_it/_proof_unary_or_reduction/ceea875b7689a6b2bc5353eddc70d6309cf2638d0/proof.ipynb\" style=\"text-decoration: none\">&nbsp;&#x22A2;&nbsp;&nbsp;</a><a class=\"ProveItLink\" href=\"../../../__pv_it/_proof_unary_or_reduction/b3bd85fd5b4fab66ae9c1c1f2d2b95d968bb40790/expr.ipynb\"><img src=\"data:image/png;base64,iVBORw0KGgoAAAANSUhEUgAAAMkAAAAVBAMAAAAeFNdiAAAAMFBMVEX///8AAAAAAAAAAAAAAAAA\n",
       "AAAAAAAAAAAAAAAAAAAAAAAAAAAAAAAAAAAAAAAAAAAv3aB7AAAAD3RSTlMAInZUiRDNmWbv3US7\n",
       "qzJazP2FAAAACXBIWXMAAA7EAAAOxAGVKw4bAAACTUlEQVRIx42Vv4sTQRTHX3aT3WQvtwQLC7FY\n",
       "tQlWQYKiVcBOEVJZHBZrIVge3BVitVh4jUIaG20W5IQ78QhW2uX8AySNlSDBUhT9E5x5783Om9nl\n",
       "koHv5ru73+xn59dbABhAQwuOV66pUi2W166euMZG8J/BqInSnrvOprYyktfueu5Kdf5RH8b412IN\n",
       "ZQzxMbYlDNXpcB0lnMBTzH+AQD27k+NFfrlv+vCTns0eKTIVTUk+ZVtfSzOi3MeL1/D4CCAuJOWZ\n",
       "PnwlCnukyFR3l+RTuvpuf0WUJ4JyANADSUn0vOVEYY8UJ/WK5Y9YqX7O84jNBKU3hesOpa0mOR4R\n",
       "hT1SnNRjlk+5rX72iBLmghIVsO9QdD8SnnP2SHFS91g+RfVD90dT4omgtJf8UoYCPwAum5VFHilO\n",
       "6jnLLjuibK8gyIgSFYLSzeGtS/kDcGgo5JHipG6y/L6kS0imRElGghLO4I1LiQbhrqGQR4qT+suq\n",
       "7ZeHcINdby4o6T+fEk6igaGQr1M+s2qUseI0ULZm/ohB+dvuePT1EbvF8ucFknQBTSNWwhePMvxu\n",
       "KejROakXrFpfgpdzdv1Mzv6Cl6Sl7OSWspMb56T2q6XtUTrvjGsvBUUt61/Y8aPX3HHak/xssz9B\n",
       "p2xNfc+qV8s949ISL36igqLqyAo2qPwy1SpJZ9bkE3HrQlPda6LIlK6ccbGGciBu6cp5uglFpi6y\n",
       "zqT07Re4pRfeg40oInXa+GoepbOozhHYyhop1Xf/CCk2FQxIXrtTffdpB5+r7lwC+A9oPqcz45Mv\n",
       "LQAAAABJRU5ErkJggg==\n",
       "\" style=\"display:inline;vertical-align:middle;\" /></a></span>"
      ],
      "text/plain": [
       "|- (FALSE or [or](TRUE)) = [or](TRUE)"
      ]
     },
     "metadata": {},
     "output_type": "display_data"
    }
   ],
   "source": [
    "base_case_t_r_u_e.sub_left_side_into(or_f_t)"
   ]
  },
  {
   "cell_type": "code",
   "execution_count": 6,
   "metadata": {},
   "outputs": [
    {
     "data": {
      "text/html": [
       "<span style=\"font-size:20px;\"> <a class=\"ProveItLink\" href=\"../../../__pv_it/_proof_unary_or_reduction/d995b9360b31da53913414b9571ff8bc1ac284af0/proof.ipynb\" style=\"text-decoration: none\">&nbsp;&#x22A2;&nbsp;&nbsp;</a><a class=\"ProveItLink\" href=\"../../../__pv_it/_proof_unary_or_reduction/8986612f2fac3c79c9004bc4a347e3ccda526a6d0/expr.ipynb\"><img src=\"data:image/png;base64,iVBORw0KGgoAAAANSUhEUgAAAPYAAAAVBAMAAACH7A7XAAAAMFBMVEX///8AAAAAAAAAAAAAAAAA\n",
       "AAAAAAAAAAAAAAAAAAAAAAAAAAAAAAAAAAAAAAAAAAAv3aB7AAAAD3RSTlMAInZUiRDNmWbv3US7\n",
       "qzJazP2FAAAACXBIWXMAAA7EAAAOxAGVKw4bAAAC4ElEQVRIx4WWv2vbQBTHny1bsmXHiA4dQgel\n",
       "XUInU0xKOxm6JQQ8dQgZ3CGQ0RAPppPpUC8tZOnQZjGEFKLSYDK1m5M/oGTpVCimY2hp/4TevfdO\n",
       "unsStsC6891H34/u9OMEABE8vADcyskCywjMltVoM6SplBxS0lliemCK4JHlNuyYhsqMW8x2KbJ2\n",
       "RO2BQ17m3BSY8Vl0I1a7Dkh3B+tfkB0vdXtdh5R03o3RDcQ2Aap93f5d//tFqG5R2yPcH+gd92LC\n",
       "Wk8VrZiyngvyIO92eIr29JDB70Ew1omv9L9v5A7GVuJE77gX3TV9YHNBWSNBTvJuh6doctcGUMfE\n",
       "UF/9PrnrYCXW9WlzL83cVBV3eQ6PBYm0mHObp2hywzvYwsSKugeCNrm3bLevz5R7yf1MFUeU5fUF\n",
       "6Y/zbovnaHYfwhAT9ahCvjWGtrtyw2MOzR2jxqDHorOCriCRFm6L52h27yo7tv8EuM/uQ9tdw6FR\n",
       "L5FrCyjHlOWPBUn0y0Rvn9lt8RzN7tdwSol/AM7YfWq7Pbyk1Etk6wbCHmWFbUES7Y7b4jma3U/g\n",
       "hBL9yBuw+8R2t/7htcRefkpfwGOu1WeCJFo83xnP0ez+a9xe14+K3I1jeof4UeruqLQCtyYbBeO2\n",
       "eNf91cw5TH9D4ZxPscBeJsPWHIrmfGpo93pbvDvnT+Ga2zd/GPe1c6/NscBeJstvZ1xrxoJk2h13\n",
       "xnM0u9+oO53a9/rGvWu7+THa62fu6kdT40cqI5l23RnP0ewewi2347sD3bc0be9x2kK6pEHbWhGO\n",
       "TK01FWQ4K1pLUl5HB0ly/iFJ1Fl/gnAh17FwYR28vnQduxDk+op1zI4uTfUrXbhrA+vg0VL3RJCj\n",
       "FW47Wq8rV7n1+8o6uflSdzNySEnn128r+p767efc+xnQjJa6q3OHbEar3Fa0Po1SDNvme+0c0VKc\n",
       "Ahsiazv9XqPXxB2H3Mh/M6Xfa8Rn0eUI/gMUXdWG1l/uCQAAAABJRU5ErkJggg==\n",
       "\" style=\"display:inline;vertical-align:middle;\" /></a></span>"
      ],
      "text/plain": [
       "|- ([or](FALSE) or [or](FALSE)) = [or](FALSE)"
      ]
     },
     "metadata": {},
     "output_type": "display_data"
    }
   ],
   "source": [
    "base_case_f_a_l_s_e.sub_left_side_into(or_f_f)"
   ]
  },
  {
   "cell_type": "code",
   "execution_count": 7,
   "metadata": {},
   "outputs": [
    {
     "name": "stdout",
     "output_type": "stream",
     "text": [
      "proveit.logic.booleans.disjunction.unary_or_reduction has been proven.\n"
     ]
    },
    {
     "data": {
      "text/html": [
       "<table><tr><th>&nbsp;</th><th>step type</th><th>requirements</th><th>statement</th></tr>\n",
       "<tr><td><a name=\"-0x33166b82808ab1bf_step0\">0</a></td><td>instantiation</td><td><a href=\"#-0x33166b82808ab1bf_step1\">1</a>, <a href=\"#-0x33166b82808ab1bf_step2\">2</a>, <a href=\"#-0x33166b82808ab1bf_step3\">3</a></td><td><span style=\"font-size:20px;\"> <a class=\"ProveItLink\" href=\"../../../__pv_it/_proof_unary_or_reduction/253ebf7d50da5d9ad982111d11a3a2a0e67858050/proof.ipynb\" style=\"text-decoration: none\">&nbsp;&#x22A2;&nbsp;&nbsp;</a><a class=\"ProveItLink\" href=\"../../../__pv_it/theorems/a39ceab4eedeedc6a5f759a48d9462a5ab8f15820/expr.ipynb\"><img src=\"data:image/png;base64,iVBORw0KGgoAAAANSUhEUgAAAK4AAAAVBAMAAAAtL8hrAAAAMFBMVEX///8AAAAAAAAAAAAAAAAA\n",
       "AAAAAAAAAAAAAAAAAAAAAAAAAAAAAAAAAAAAAAAAAAAv3aB7AAAAD3RSTlMAq1RmmUTNIjK7EInv\n",
       "3XZ/CtNrAAAACXBIWXMAAA7EAAAOxAGVKw4bAAACyElEQVQ4y4WVTWgTURDH/9kk3WS3SXP1lIAi\n",
       "SpVGEMGLpG0UoQeDXnoQiVQptqBRQShWG8GrbRFLiQezeBC8SFoQURHroSB+EUSlBwOLIiIoVoVW\n",
       "EYkz771sPjbbPnjZyfv4zbx5M/OAtVsO35aUqAS9Yc6j6VivRRO46/yR0ge5NQscabvlHBC0gRjL\n",
       "G7243WjlaiUhdyyT0mS7LaeofwT2sjzsgTWyTPNZJIZsyb0lZ3qIi5E2W7Qqa7VwiQ817cENJJnr\n",
       "p2MhnJfcfjnTu0o/O9ttiZPb/SlGw0x4cDvl6cvSbYK7ICbM87952nJvufc4T7/P4CeTOrzcu1ly\n",
       "5+nTJ7laVkxcjP7k47odrNvf2cgh4GWl8tyLOyC5ZCvbzNyAvLaU9outjrndgB5WNgfsB66LoTaH\n",
       "GpJcXx5RW3KlicFE6C99/Gx8oCKaUnEQU6x5F3AauhgznqoLHT32pubv15IbiiFiSW4kIa3Sf/DS\n",
       "BZclKUwwbRtdtGVmxFWwxyY3zMAundmiVi2qqB3GJiV1irVf0r1/OPaWXXl0LR3n4Joipba8tsFX\n",
       "ZAc5hbjmzRZut4hwh2uQU/6xO1z23gG6OHoOU8/uEUP2UZEnzD37oNkPiISm0eCHAPX37Idyq39T\n",
       "tIKVbac+L9Imin0wRH7Y6Rd5xb2haNEdGSWFOUcOqXT1t+ZTMCkzHLupjwtVg/gqhtney5/UujlF\n",
       "M97V6gOHls4WFXNO0NXbOGteVQHqE9YNPIxb/hOFwlX2r6nWXalVm74aN1SGUVyxsLU6SkfONGNv\n",
       "V0egFVdI21vnIoGJfKgk7TWjajSSd9WzpQbOBc8CXK5J5LKuhEwQ4k6qUaofrdzGWtOPNeqVFJ7A\n",
       "OHAcY2SfdnK04OT9rIsbrr8SnmUQY6319n5hptljLq5Rh4U9H6LZ9d4h3cYj531blKXMmfzs+Xrl\n",
       "8B/USMIsmXkErgAAAABJRU5ErkJggg==\n",
       "\" style=\"display:inline;vertical-align:middle;\" /></a></span></td></tr>\n",
       "<tr><td>&nbsp;</td><td colspan=4 style=\"text-align:left\"><span style=\"font-size:20px;\"><a class=\"ProveItLink\" href=\"../../../../../../__pv_it/common/179eec53aec5f67dcadb70a64bbe503739c53abe0/expr.ipynb\"><img src=\"data:image/png;base64,iVBORw0KGgoAAAANSUhEUgAAADIAAAAVBAMAAAD2uKAMAAAAMFBMVEX///8AAAAAAAAAAAAAAAAA\n",
       "AAAAAAAAAAAAAAAAAAAAAAAAAAAAAAAAAAAAAAAAAAAv3aB7AAAAD3RSTlMAdrurzZkQ7zJUiSLd\n",
       "ZkQEbk8lAAAACXBIWXMAAA7EAAAOxAGVKw4bAAABHUlEQVQoz2NgQAYbYAxuBlTAOAFMbWFg4BMA\n",
       "MYT+Kxu5JoBYsyAK/IFYFsz6wsDAVAak2RzAXM7/QIIFpJTjI5AHxAysF8AyrPZA63gDQKb/AOJf\n",
       "QAY7xLDV6xuAJMgQpg9ADJRlmAJxloA8yCG+QMyvwMDQD3JLFMQwhvkgUxczgEV3nWSAKmNgeMnQ\n",
       "vwBIXQFieatV98BiYGmGAIb9BkBqOhDrwzxaB/ataqi9AsgkiHeQZBKBFh8A0s+B3vkFkzkJMYyB\n",
       "pwBIzwFq/weTUQRiPqC7WIDeYLgEpcEA5NDtIA/+BnuBVf+TAFSmh4Eh6b8bA6f+F6CzzyFHAk8D\n",
       "gs19AFkGHIpQAA1dGNBGMDehxmkSVkWQYIbH+wYGAAUzPGBwqko8AAAAAElFTkSuQmCC\n",
       "\" style=\"display:inline;vertical-align:middle;\" /></a> : <a class=\"ProveItLink\" href=\"../../../__pv_it/theorems/a96c8c7b8f678d2ed3614abc517e08529c1242440/expr.ipynb\"><img src=\"data:image/png;base64,iVBORw0KGgoAAAANSUhEUgAAAGUAAAAVBAMAAACtcD09AAAAMFBMVEX///8AAAAAAAAAAAAAAAAA\n",
       "AAAAAAAAAAAAAAAAAAAAAAAAAAAAAAAAAAAAAAAAAAAv3aB7AAAAD3RSTlMAdt0yiUSrEGa7Is1U\n",
       "me/+rfgeAAAACXBIWXMAAA7EAAAOxAGVKw4bAAABmElEQVQ4y2MQUmaAACiDiwEGFjDgAq5oLBmI\n",
       "zg0MDIFY1a/G1MPjAGZzf2BgYGzApmc/WCVbAZBiFoDoqYbInAfqYdiORQvPf7AeDgEgxWkA0XMD\n",
       "InXtF5DoxaKHN38B2EUKEGeC9TwAy7As+Qwk+Qow9Xj5G4BV+gDZdyB6eDaAZRYy/gF5CtNDXALy\n",
       "B8AqQUGhANHDCwmCCzw/QLYlYDqN4XwDWCWbAQOjAEQPxGjWA8xfgBQHyFJeJTCAao9hsHcAq2RO\n",
       "YGAqgOhhOgAxjesbyKEPMOy5wLA+AaJyF8NZaPzwBYBkJO9e+wkK/w/oWhjn3s2fAFF5BKgLSQ87\n",
       "0KGfQE7EsKeQgYEf6nMm5gkMSG7jBWI9kNsU0P1zAajiAUQlY1sAVA8nKH4joEmEYwKaNawNkFQF\n",
       "UsmuDUtvoODlAjlp/gJ4wCPAOpCpv6Cxfwemh1mBgX3+7wKGk/+3AJ0RgKql8v92Bp75vx3Q07Uy\n",
       "kppFROYf5HR5g0g9nIjcyTWBSD3sCIWcODO3E7w8eApJ0nAZKVxaAJXSXJj0KrPxAAAAAElFTkSu\n",
       "QmCC\n",
       "\" style=\"display:inline;vertical-align:middle;\" /></a>, <a class=\"ProveItLink\" href=\"../../../../../../__pv_it/common/09585084922504426caf1db2ff588a23a0932a960/expr.ipynb\"><img src=\"data:image/png;base64,iVBORw0KGgoAAAANSUhEUgAAAA8AAAAPBAMAAADJ+Ih5AAAAMFBMVEX///8AAAAAAAAAAAAAAAAA\n",
       "AAAAAAAAAAAAAAAAAAAAAAAAAAAAAAAAAAAAAAAAAAAv3aB7AAAAD3RSTlMAIs1UmauJMnZmRLsQ\n",
       "3e++988cAAAACXBIWXMAAA7EAAAOxAGVKw4bAAAAXklEQVQI12NgAAEhBijQh9LM/6EMlngBCCMx\n",
       "vwBMMzb0G0BkGOwngBmLGeoTwAwHBvkAEM2xxSV+A4hxgoGB/wJEhoH3AZDmAupg+gBkyAEx90cG\n",
       "htP/dRiY939KAABt3hLO6mcEjQAAAABJRU5ErkJggg==\n",
       "\" style=\"display:inline;vertical-align:middle;\" /></a> : <a class=\"ProveItLink\" href=\"../../../../../../__pv_it/common/09585084922504426caf1db2ff588a23a0932a960/expr.ipynb\"><img src=\"data:image/png;base64,iVBORw0KGgoAAAANSUhEUgAAAA8AAAAPBAMAAADJ+Ih5AAAAMFBMVEX///8AAAAAAAAAAAAAAAAA\n",
       "AAAAAAAAAAAAAAAAAAAAAAAAAAAAAAAAAAAAAAAAAAAv3aB7AAAAD3RSTlMAIs1UmauJMnZmRLsQ\n",
       "3e++988cAAAACXBIWXMAAA7EAAAOxAGVKw4bAAAAXklEQVQI12NgAAEhBijQh9LM/6EMlngBCCMx\n",
       "vwBMMzb0G0BkGOwngBmLGeoTwAwHBvkAEM2xxSV+A4hxgoGB/wJEhoH3AZDmAupg+gBkyAEx90cG\n",
       "htP/dRiY939KAABt3hLO6mcEjQAAAABJRU5ErkJggg==\n",
       "\" style=\"display:inline;vertical-align:middle;\" /></a></span></td></tr><tr><td><a name=\"-0x33166b82808ab1bf_step1\">1</a></td><td>conjecture</td><td></td><td><span style=\"font-size:20px;\"> <a class=\"ProveItLink\" href=\"../../../../_theory_nbs_/proofs/forall_over_bool_by_cases/thm_proof.ipynb\" style=\"text-decoration: none\">&nbsp;&#x22A2;&nbsp;&nbsp;</a><a class=\"ProveItLink\" href=\"../../../../__pv_it/theorems/6d327d2140f1f0c2a937cb448134f4763a4374070/expr.ipynb\"><img src=\"data:image/png;base64,iVBORw0KGgoAAAANSUhEUgAAAPsAAAAXBAMAAAA/2iRsAAAAMFBMVEX///8AAAAAAAAAAAAAAAAA\n",
       "AAAAAAAAAAAAAAAAAAAAAAAAAAAAAAAAAAAAAAAAAAAv3aB7AAAAD3RSTlMAq1RmmUTNIjK7EInv\n",
       "3XZ/CtNrAAAACXBIWXMAAA7EAAAOxAGVKw4bAAADgUlEQVRIx62WTWgTQRTHX5JNNsmmawoFFQ8N\n",
       "KhX8LEgL4gdRKgqtEvRU9RBQEHoxvQhFofUoKo0o1C3SrOClKJIWv9oirRVBK0oseGtgVRB6aYto\n",
       "W1uwznuzu5lsElpJFjYz82Ymvzfz/vNmASrxqNmuNY5MWBX5f2at8iixtfoZoeIygNegaWFsbikb\n",
       "78LCXV+8e3rl9sYLOtZ2cMMl9n4n/FFsXiwbL+H6fYkS/fMAgQlWBuPUdK/gYB3x1zAOybLxftzF\n",
       "jhLd/r8MyV6Q+PZItcxPTxTxzAlQIuXHvo0Vg6UivsjeZVYJ8faLUdTcBE7zMId8FZDeXlbES3QH\n",
       "5tjLXIA6LnpjFtd7nhT7MZv9UAF8KJudSpfoXseC282UDs1872EPBmGA8McBesWxUbGxzdo+KGY1\n",
       "BLzUBQESd7AQz9BXJoEWjM8p6EZHGwnfDjKTjTfVfHg9dXIZtv56Wp0ATwyGtPuaZphO2VbupSTg\n",
       "2Z+0U/2xmUvqnp84YnbPbhppoMqkucBOFOpOwgd0ShoHAV4JeE8GlAw8oMjhz1mnFYd500La6YVn\n",
       "VB9lcfV/1WKqIm82PUlZbr6lnbzbVIuzu2ma2yDl1TAnBbwrCuocTwqE9+kOKw1rE/C7ufK8N1lI\n",
       "mhhXVWA4Yh97Af+EiSHDynM8WcYPoXEc4LOAD0WgKgwZG8/PpmClYYMC3uchKai+MKioLLb6/To/\n",
       "9ssWftIUV9UYK3dx/CCuQV6C9qiA79TlGpDjNt4ddVhp2FYBr9QRzJDi0E9+SC3vTN3+tvB9uD14\n",
       "0tlJhH0cfxV14Pk0sx0E/IGZbzp4kzaeVwUr/bQKePk1jetSx+A0QRX/SX4TEYyeAcThXy7QKSS8\n",
       "CwXiCltDOL6alhy28f6kw0rt6+KNt4HO9MjAEjRqmhZhsU+TNKXUH+uE3gLoX2kDd2qe9XwRLspQ\n",
       "fT7+TY4pbL5gLdh8KxXIi3CDrx7ShiMBVAkXvJwRpnUm8vDyAtVz0lONYDrPSsNmnHgM7E+efxj+\n",
       "pRPvEXIau37saWpqOA8/vUw66gEruQQS/vGcVdG091qf2S/iW8LwcD4m38O082PoTkH+68lVO4p/\n",
       "pYiX71m7xsTsLrAGkyW+dh5pWvHvn/48T1bDS3ZIjgGcKbDaFWWtX22yHQ41AerUKniwQoJpvr7A\n",
       "2gCVf/I+mIKOMr+llw37B+XP6zV2d0ObAAAAAElFTkSuQmCC\n",
       "\" style=\"display:inline;vertical-align:middle;\" /></a></span></td></tr>\n",
       "<tr><td>&nbsp;</td><td colspan=4 style-\"text-align:left\"><a class=\"ProveItLink\" href=\"../../../../_theory_nbs_/proofs/forall_over_bool_by_cases/thm_proof.ipynb\">proveit.logic.booleans.forall_over_bool_by_cases</a></td></tr><tr><td><a name=\"-0x33166b82808ab1bf_step2\">2</a></td><td>instantiation</td><td><a href=\"#-0x33166b82808ab1bf_step6\">6</a>, <a href=\"#-0x33166b82808ab1bf_step4\">4</a>, <a href=\"#-0x33166b82808ab1bf_step5\">5</a><sup>*</sup></td><td><span style=\"font-size:20px;\"> <a class=\"ProveItLink\" href=\"../../../__pv_it/_proof_unary_or_reduction/c1303350156387536c2414d273f116fbeb7ec1370/proof.ipynb\" style=\"text-decoration: none\">&nbsp;&#x22A2;&nbsp;&nbsp;</a><a class=\"ProveItLink\" href=\"../../../__pv_it/_proof_unary_or_reduction/5135dee176e50c052f15f956bf339a801ebdf0bb0/expr.ipynb\"><img src=\"data:image/png;base64,iVBORw0KGgoAAAANSUhEUgAAAGYAAAAVBAMAAABGR4Y+AAAAMFBMVEX///8AAAAAAAAAAAAAAAAA\n",
       "AAAAAAAAAAAAAAAAAAAAAAAAAAAAAAAAAAAAAAAAAAAv3aB7AAAAD3RSTlMAdt0yiUSrEGa7Is1U\n",
       "me/+rfgeAAAACXBIWXMAAA7EAAAOxAGVKw4bAAABFklEQVQ4y2MQUmaAACiDiwEGFjDgAq5oLBk4\n",
       "P5BYPTwODJeUQECNgbEBXS1MxpWBrQDIZRaA6KkGSx4Ek9uxWHEQYjqHAJDiNIDouYGkpxe3HgYF\n",
       "ILUa6rYHSHr4CnDr8QFSdyB6eDYg6eFuwK0HaAfILpAeXgckPSwJuPWwGTAwCkD0QI2G6OHYgBxY\n",
       "qHqYExiYCiB6mA4g6eF5gNsehl0MZ6EsvgAkPcwf8Og5AtSFRQ8rPnuYmCcwYHObAm7/MDC2BUBZ\n",
       "nALIYTABjz3s2jAWNHgheqABj10PKEYhLGawcxgiwCRTAKaeCCzpWhlJfhGReQE5Xd4gUg8nIndy\n",
       "TSBSDztCISfOzO0ELw+egqmFcBkpXFoA349FC9/bAjEAAAAASUVORK5CYII=\n",
       "\" style=\"display:inline;vertical-align:middle;\" /></a></span></td></tr>\n",
       "<tr><td>&nbsp;</td><td colspan=4 style=\"text-align:left\"><span style=\"font-size:20px;\"><a class=\"ProveItLink\" href=\"../../../../../../__pv_it/common/09585084922504426caf1db2ff588a23a0932a960/expr.ipynb\"><img src=\"data:image/png;base64,iVBORw0KGgoAAAANSUhEUgAAAA8AAAAPBAMAAADJ+Ih5AAAAMFBMVEX///8AAAAAAAAAAAAAAAAA\n",
       "AAAAAAAAAAAAAAAAAAAAAAAAAAAAAAAAAAAAAAAAAAAv3aB7AAAAD3RSTlMAIs1UmauJMnZmRLsQ\n",
       "3e++988cAAAACXBIWXMAAA7EAAAOxAGVKw4bAAAAXklEQVQI12NgAAEhBijQh9LM/6EMlngBCCMx\n",
       "vwBMMzb0G0BkGOwngBmLGeoTwAwHBvkAEM2xxSV+A4hxgoGB/wJEhoH3AZDmAupg+gBkyAEx90cG\n",
       "htP/dRiY939KAABt3hLO6mcEjQAAAABJRU5ErkJggg==\n",
       "\" style=\"display:inline;vertical-align:middle;\" /></a> : <a class=\"ProveItLink\" href=\"../../../../__pv_it/common/95025295868b9266d37330b4427adf122f6061770/expr.ipynb\"><img src=\"data:image/png;base64,iVBORw0KGgoAAAANSUhEUgAAAA4AAAAOBAMAAADtZjDiAAAAG1BMVEX///8AAAAAAAAAAAAAAAAA\n",
       "AAAAAAAAAAAAAAB4Gco9AAAACHRSTlMAmd2rVHZEZkA3AkMAAAAJcEhZcwAADsQAAA7EAZUrDhsA\n",
       "AAAYSURBVAjXYxBSAgFlBiBwZYAAWtHpQAwAFRwEg6MlY1sAAAAASUVORK5CYII=\n",
       "\" style=\"display:inline;vertical-align:middle;\" /></a></span></td></tr><tr><td><a name=\"-0x33166b82808ab1bf_step3\">3</a></td><td>instantiation</td><td><a href=\"#-0x33166b82808ab1bf_step6\">6</a>, <a href=\"#-0x33166b82808ab1bf_step7\">7</a>, <a href=\"#-0x33166b82808ab1bf_step8\">8</a><sup>*</sup></td><td><span style=\"font-size:20px;\"> <a class=\"ProveItLink\" href=\"../../../__pv_it/_proof_unary_or_reduction/bbaca60d19327103d5ef4793513b2e6c2a99e76f0/proof.ipynb\" style=\"text-decoration: none\">&nbsp;&#x22A2;&nbsp;&nbsp;</a><a class=\"ProveItLink\" href=\"../../../__pv_it/_proof_unary_or_reduction/00f8fbbbdbd065234f9bcfb1719e0af561ec3ed20/expr.ipynb\"><img src=\"data:image/png;base64,iVBORw0KGgoAAAANSUhEUgAAAGYAAAAVBAMAAABGR4Y+AAAAMFBMVEX///8AAAAAAAAAAAAAAAAA\n",
       "AAAAAAAAAAAAAAAAAAAAAAAAAAAAAAAAAAAAAAAAAAAv3aB7AAAAD3RSTlMAdt0yiUSrEGa7Is1U\n",
       "me/+rfgeAAAACXBIWXMAAA7EAAAOxAGVKw4bAAABGElEQVQ4y2MQUmaAACiDiwEGFjDgAq5oLBk4\n",
       "P5BYPTwOIDICRDA2YFEeAVHJVgCkmAUgeqrBMgfB5HYseg5C9HAIAClOA4ieG0h6enHrYVAAUquh\n",
       "bnuApIevALceHyB1B6KHZwOSHu4G3HqAdoDsAunhdUDSw5KAWw+bAQOjAEQP1GiIHg6wpZeUQEAN\n",
       "TQ9zAgNTAUQP0wEkPTwPcNvDsIvhLJTFF4Ckh/kDHj1HgLqw6GHFZw8T8wQGbG5TwO0fBsa2ACiL\n",
       "UwA5DCbgsYddG8aCBi9EDzTgsesBxSiExawAdsw7sGOYAtA0wGTQ0rUykpJFROYF5HR5g0g9nIjc\n",
       "yTWBSD3sCIWcODO3E7w8eAqmFsJlpHBpAQDJ7EajKPxBYgAAAABJRU5ErkJggg==\n",
       "\" style=\"display:inline;vertical-align:middle;\" /></a></span></td></tr>\n",
       "<tr><td>&nbsp;</td><td colspan=4 style=\"text-align:left\"><span style=\"font-size:20px;\"><a class=\"ProveItLink\" href=\"../../../../../../__pv_it/common/09585084922504426caf1db2ff588a23a0932a960/expr.ipynb\"><img src=\"data:image/png;base64,iVBORw0KGgoAAAANSUhEUgAAAA8AAAAPBAMAAADJ+Ih5AAAAMFBMVEX///8AAAAAAAAAAAAAAAAA\n",
       "AAAAAAAAAAAAAAAAAAAAAAAAAAAAAAAAAAAAAAAAAAAv3aB7AAAAD3RSTlMAIs1UmauJMnZmRLsQ\n",
       "3e++988cAAAACXBIWXMAAA7EAAAOxAGVKw4bAAAAXklEQVQI12NgAAEhBijQh9LM/6EMlngBCCMx\n",
       "vwBMMzb0G0BkGOwngBmLGeoTwAwHBvkAEM2xxSV+A4hxgoGB/wJEhoH3AZDmAupg+gBkyAEx90cG\n",
       "htP/dRiY939KAABt3hLO6mcEjQAAAABJRU5ErkJggg==\n",
       "\" style=\"display:inline;vertical-align:middle;\" /></a> : <a class=\"ProveItLink\" href=\"../../../../__pv_it/common/e0f123f2e4f322e1eba7f861749cda9fd9d99a120/expr.ipynb\"><img src=\"data:image/png;base64,iVBORw0KGgoAAAANSUhEUgAAAA4AAAAPBAMAAAAmOuNHAAAAHlBMVEX///8AAAAAAAAAAAAAAAAA\n",
       "AAAAAAAAAAAAAAAAAACGjDitAAAACXRSTlMARGZUdpnd76sKo+zpAAAACXBIWXMAAA7EAAAOxAGV\n",
       "Kw4bAAAAGElEQVQI12NgQAAhKG1CSzosLa08LS0DAJuOBVCdynDUAAAAAElFTkSuQmCC\n",
       "\" style=\"display:inline;vertical-align:middle;\" /></a></span></td></tr><tr><td><a name=\"-0x33166b82808ab1bf_step4\">4</a></td><td>conjecture</td><td></td><td><span style=\"font-size:20px;\"> <a class=\"ProveItLink\" href=\"../../../../_theory_nbs_/proofs/true_is_bool/thm_proof.ipynb\" style=\"text-decoration: none\">&nbsp;&#x22A2;&nbsp;&nbsp;</a><a class=\"ProveItLink\" href=\"../../../../__pv_it/theorems/e3b19f0f51dc50d19100f70b446827a15792e4b10/expr.ipynb\"><img src=\"data:image/png;base64,iVBORw0KGgoAAAANSUhEUgAAADYAAAAQBAMAAACvnpHFAAAAMFBMVEX///8AAAAAAAAAAAAAAAAA\n",
       "AAAAAAAAAAAAAAAAAAAAAAAAAAAAAAAAAAAAAAAAAAAv3aB7AAAAD3RSTlMAmd2rVHZEZrvNECIy\n",
       "74mi4C5kAAAACXBIWXMAAA7EAAAOxAGVKw4bAAAAn0lEQVQY02NgwAJYdTt/XjJjYBBSAgFlVEkO\n",
       "toCdixNALFcMjRxsBXwbGnDKsTsYoMpFKClNgMtNQJHLjELoY97+AFmOexbCzKggOwZkOc4NCDnN\n",
       "+4oLUOSQ3cJaNgtZ7izIpw1QOYaGPGS5Fcj6GBo4kOWYUOU4keVYA1DkXFH8NwUh94AvTgDESocJ\n",
       "LW5bADFgbgc4HlBAXhMkzCAAAO/EJ1PPeY0iAAAAAElFTkSuQmCC\n",
       "\" style=\"display:inline;vertical-align:middle;\" /></a></span></td></tr>\n",
       "<tr><td>&nbsp;</td><td colspan=4 style-\"text-align:left\"><a class=\"ProveItLink\" href=\"../../../../_theory_nbs_/proofs/true_is_bool/thm_proof.ipynb\">proveit.logic.booleans.true_is_bool</a></td></tr><tr><td><a name=\"-0x33166b82808ab1bf_step5\">5</a></td><td>axiom</td><td></td><td><span style=\"font-size:20px;\"> <a class=\"ProveItLink\" href=\"../../axioms.ipynb#or_f_t\" style=\"text-decoration: none\">&nbsp;&#x22A2;&nbsp;&nbsp;</a><a class=\"ProveItLink\" href=\"../../../__pv_it/axioms/9e9f256c794c8500531ff9573d3ae5b5b63b68f90/expr.ipynb\"><img src=\"data:image/png;base64,iVBORw0KGgoAAAANSUhEUgAAAHAAAAAVBAMAAABs93eRAAAAMFBMVEX///8AAAAAAAAAAAAAAAAA\n",
       "AAAAAAAAAAAAAAAAAAAAAAAAAAAAAAAAAAAAAAAAAAAv3aB7AAAAD3RSTlMAInZUiRDNmWbv3US7\n",
       "qzJazP2FAAAACXBIWXMAAA7EAAAOxAGVKw4bAAABEElEQVQ4y2NgYBBgwAPwSDIZ4NO4CbeUCYjg\n",
       "bkATrVoFAmsZmNAl4DKsCSAeswJE9CqIeARhG4HJVCx2gWXYG5A1NoGIc8ga23Fp5GRA1sgFxIwJ\n",
       "yBo5A3BoNEPRyAIMKXYDZI1sDTg0lqBoBNnGhSzNwHIBh8YMFI0M9xgYlFA0ciQgByWSzGJUjW8Z\n",
       "GJaiaGSegMPG2aga2QSYC1A08n0gTiOzA5sAikZuXDaiOZVhwRsGVKcuwOHHQ2gaNW6jauQ4gMNG\n",
       "XzSNUQmoGtkdcGh8BZRbtWrlrFWrIBHGDs8sOyBpaQOmRrAM1wMGvEAKlwRHAX6NFThlDuLVx3gA\n",
       "p1QMXo08uMsORgV8GhVxSQAAnm8+N7e7o2QAAAAASUVORK5CYII=\n",
       "\" style=\"display:inline;vertical-align:middle;\" /></a></span></td></tr>\n",
       "<tr><td>&nbsp;</td><td colspan=4 style-\"text-align:left\"><a class=\"ProveItLink\" href=\"../../axioms.ipynb#or_f_t\">proveit.logic.booleans.disjunction.or_f_t</a></td></tr><tr><td><a name=\"-0x33166b82808ab1bf_step6\">6</a></td><td>conjecture</td><td></td><td><span style=\"font-size:20px;\"> <a class=\"ProveItLink\" href=\"../unary_or_lemma/thm_proof.ipynb\" style=\"text-decoration: none\">&nbsp;&#x22A2;&nbsp;&nbsp;</a><a class=\"ProveItLink\" href=\"../../../__pv_it/theorems/bbb82ba46b9d0534face5960997acdba2ab9bea20/expr.ipynb\"><img src=\"data:image/png;base64,iVBORw0KGgoAAAANSUhEUgAAAOUAAAAVBAMAAABLdTQ8AAAAMFBMVEX///8AAAAAAAAAAAAAAAAA\n",
       "AAAAAAAAAAAAAAAAAAAAAAAAAAAAAAAAAAAAAAAAAAAv3aB7AAAAD3RSTlMAq1RmmUTNIjK7EInv\n",
       "3XZ/CtNrAAAACXBIWXMAAA7EAAAOxAGVKw4bAAADXUlEQVRIx4WWTWgTURDHp5s0m2yatBdBvTSg\n",
       "iFK1FYrgRdIPRShi0EsPIpUqxQY0KgjF2kbw4sE2iKXGg108CD0oaUFERYyHgmiVKCpFLCwtIoIf\n",
       "VaFVROqbN7PbzW52fZDdt5n9v9/MvPfmLYB/y8CXGe5yR7XZ3E31G0z1EJW3eALuWA/UmyN5F8Ch\n",
       "CoI5z6HOAFQbJKrD53VeLzaAk6kUZD+0IBxqcr1P1gOVhjohfvMk2oXPPR5IrQtJVbrohg1i3iRL\n",
       "o2BCr0tA1q30sBYvQ6Y3y+ipLkXnMVE5D2awCZkBkRKIZInZRpaWJXFpdgna7MydeLlqDlUvZjKQ\n",
       "lCJERxMezBrKaImmQzKL0hA9+wvNulNQtDNjPO+y3X2UFdenUhQQoYS8pnMDMSfFrZWYCo0xEP+B\n",
       "qXJOKFuZiaEEORzV+Ia9bhI9n5195sXsIKaIEWNFZpCWUFL5iYPWOeeiYGdijDHTAo3o4ASJ9gBc\n",
       "k3/rbmY3MauyEDeISaFVJ8J/xC0gw9o7i+0lrATOTFgN8JW7+2EY/dlOopOgSne1J5yf9JHX5vy+\n",
       "Ima4DmI6MWMJ8lr9jq8WHT6S1WKK9fmOu0kYRMpmEkX0aEpmH2doaM0IGIVTG/nNKd6VPbCeezXy\n",
       "3U/tLb9x/yw411yqjBnKKEmuLVfa63FzDJNIMWgJdb4Q/otEC2b0hoPZIHewxdREov9iiov+TKUQ\n",
       "4lJ3G6AWV/9BFnXJfQTGYVknkHn6fnluIRbOgS23QfF7j2OWHPPpyC2ULlqphRiytrBoUpaTOOwG\n",
       "TdYGo306y69eZ1J8W4p7EYNrG5aygLOWSKuNOb+K7tVNVC1hB4v65RLqhM/ShHFe+MCaCSZpb816\n",
       "iytdRY/HMtbWWGm8eSzmLa4I/ejPEm0+KaqSUXU8qNcDx/L5yzifUdZcMit7q8kMl0AbW9Rh03Ja\n",
       "pCvlYAorpnqaU21WhPHlXlDGFgXsjV0UBxjMhgsUZzRurv2s61yZsSHOuTb0jP/RqJbsIjFFtQkq\n",
       "DoJpHgZYkx3MZldFt7dmfyaeGZYo+Bi0fUehT8SlHE/nrTo66mJGVg76CsdRxP8zoK+CSLuXHyn7\n",
       "Y9zF1HJ+AC3nyxz9r1fyOICH1vfQFB0plvFjBcGA75dORor+AbFR6ahJApivAAAAAElFTkSuQmCC\n",
       "\" style=\"display:inline;vertical-align:middle;\" /></a></span></td></tr>\n",
       "<tr><td>&nbsp;</td><td colspan=4 style-\"text-align:left\"><a class=\"ProveItLink\" href=\"../unary_or_lemma/thm_proof.ipynb\">proveit.logic.booleans.disjunction.unary_or_lemma</a></td></tr><tr><td><a name=\"-0x33166b82808ab1bf_step7\">7</a></td><td>conjecture</td><td></td><td><span style=\"font-size:20px;\"> <a class=\"ProveItLink\" href=\"../../../../_theory_nbs_/proofs/false_is_bool/thm_proof.ipynb\" style=\"text-decoration: none\">&nbsp;&#x22A2;&nbsp;&nbsp;</a><a class=\"ProveItLink\" href=\"../../../../__pv_it/theorems/bbc9c63ce37f7c83a6285a585c4d279490a0c9400/expr.ipynb\"><img src=\"data:image/png;base64,iVBORw0KGgoAAAANSUhEUgAAADYAAAAQBAMAAACvnpHFAAAAMFBMVEX///8AAAAAAAAAAAAAAAAA\n",
       "AAAAAAAAAAAAAAAAAAAAAAAAAAAAAAAAAAAAAAAAAAAv3aB7AAAAD3RSTlMARGZUdpnd76u7zRAi\n",
       "MolMqJcyAAAACXBIWXMAAA7EAAAOxAGVKw4bAAAAn0lEQVQY02NgwAJY0mf9KmsEM4UwJDkZHU7t\n",
       "EACxTLDIKfAdmIBTjsmgAVXOMy1tAVxuAYqclDdCH8ehB8hyPKsRZnq79TEgy3EdQMhl1aduQJFD\n",
       "dguL4mpkuetpQDABKscwQQ5ZbieyPoYJnMhybKhyXMhyLA4ociYo/luMkHvA5xfAEJaWVp6WlgEW\n",
       "2jFxA8SA5TNh8YAActMgYQYBALQtJ5ZTVaF7AAAAAElFTkSuQmCC\n",
       "\" style=\"display:inline;vertical-align:middle;\" /></a></span></td></tr>\n",
       "<tr><td>&nbsp;</td><td colspan=4 style-\"text-align:left\"><a class=\"ProveItLink\" href=\"../../../../_theory_nbs_/proofs/false_is_bool/thm_proof.ipynb\">proveit.logic.booleans.false_is_bool</a></td></tr><tr><td><a name=\"-0x33166b82808ab1bf_step8\">8</a></td><td>axiom</td><td></td><td><span style=\"font-size:20px;\"> <a class=\"ProveItLink\" href=\"../../axioms.ipynb#or_f_f\" style=\"text-decoration: none\">&nbsp;&#x22A2;&nbsp;&nbsp;</a><a class=\"ProveItLink\" href=\"../../../__pv_it/axioms/4e6ae09189e7fdfa4842751d2c37d9938b19ca550/expr.ipynb\"><img src=\"data:image/png;base64,iVBORw0KGgoAAAANSUhEUgAAAHAAAAAVBAMAAABs93eRAAAAMFBMVEX///8AAAAAAAAAAAAAAAAA\n",
       "AAAAAAAAAAAAAAAAAAAAAAAAAAAAAAAAAAAAAAAAAAAv3aB7AAAAD3RSTlMAInZUiRDNmWbv3US7\n",
       "qzJazP2FAAAACXBIWXMAAA7EAAAOxAGVKw4bAAABEUlEQVQ4y2NgYBBgwAPwSDIZ4NO4CbeUCYjg\n",
       "bsCU2AE2FosERIY1AUQyK0CEroKIRxC2EZhMxaIRLMPegKyxCUScQ9bYjksjJwOyRi4gZkxA1sgZ\n",
       "gEOjGYpGFmBIsRsga2RrwKGxBEUjyDYuZGkGlgs4NGagaGS4x8CghKKRA+zwqlUgsBZZZjGqxrcM\n",
       "DEtRNDJPwGHjbFSNbALMBSga+T4Qp5HZgU0ARSM3LhvRnMqw4A0DqlMX4PDjITSNGrdRNXIcwGGj\n",
       "L5rGqARUjewOODS+AsqtWrVy1qpVkAiDRj/QbTPBbuPagKYLJsP1gAEvkMIlwVGAX2MFTpmDePUx\n",
       "HsApFYNXIw/usoNRAZ9GRVwSALm/PhVmCEK+AAAAAElFTkSuQmCC\n",
       "\" style=\"display:inline;vertical-align:middle;\" /></a></span></td></tr>\n",
       "<tr><td>&nbsp;</td><td colspan=4 style-\"text-align:left\"><a class=\"ProveItLink\" href=\"../../axioms.ipynb#or_f_f\">proveit.logic.booleans.disjunction.or_f_f</a></td></tr><tr><td colspan=4 style=\"text-align:left\"><sup>*</sup>equality replacement requirements</td></tr></table>"
      ],
      "text/plain": [
       "\tstep type\trequirements\tstatement\n",
       "0\tinstantiation\t1, 2, 3\t|- forall_{A in BOOLEAN} ([or](A) = A)\n",
       "\tP(A) : [or](A) = A, A : A\n",
       "1\tconjecture\t\t|- forall_{P | P(TRUE), P(FALSE)} [forall_{A in BOOLEAN} P(A)]\n",
       "\tproveit.logic.booleans.forall_over_bool_by_cases\n",
       "2\tinstantiation\t6, 4, 5*\t|- [or](TRUE) = TRUE\n",
       "\tA : TRUE\n",
       "3\tinstantiation\t6, 7, 8*\t|- [or](FALSE) = FALSE\n",
       "\tA : FALSE\n",
       "4\tconjecture\t\t|- TRUE in BOOLEAN\n",
       "\tproveit.logic.booleans.true_is_bool\n",
       "5\taxiom\t\t|- (FALSE or TRUE) = TRUE\n",
       "\tproveit.logic.booleans.disjunction.or_f_t\n",
       "6\tconjecture\t\t|- forall_{A in BOOLEAN} ([or](A) = (FALSE or A))\n",
       "\tproveit.logic.booleans.disjunction.unary_or_lemma\n",
       "7\tconjecture\t\t|- FALSE in BOOLEAN\n",
       "\tproveit.logic.booleans.false_is_bool\n",
       "8\taxiom\t\t|- (FALSE or FALSE) = FALSE\n",
       "\tproveit.logic.booleans.disjunction.or_f_f"
      ]
     },
     "execution_count": 7,
     "metadata": {},
     "output_type": "execute_result"
    }
   ],
   "source": [
    "%qed"
   ]
  },
  {
   "cell_type": "code",
   "execution_count": null,
   "metadata": {},
   "outputs": [],
   "source": []
  }
 ],
 "metadata": {
  "kernelspec": {
   "display_name": "Python 3",
   "language": "python",
   "name": "python3"
  }
 },
 "nbformat": 4,
 "nbformat_minor": 0
}