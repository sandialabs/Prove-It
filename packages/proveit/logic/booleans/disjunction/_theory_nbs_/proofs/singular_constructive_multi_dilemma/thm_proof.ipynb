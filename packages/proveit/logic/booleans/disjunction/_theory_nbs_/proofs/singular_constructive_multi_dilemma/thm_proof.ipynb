{
 "cells": [
  {
   "cell_type": "markdown",
   "metadata": {},
   "source": [
    "Proof of <a class=\"ProveItLink\" href=\"../../../../../../_theory_nbs_/theory.ipynb\">proveit</a>.<a class=\"ProveItLink\" href=\"../../../../../_theory_nbs_/theory.ipynb\">logic</a>.<a class=\"ProveItLink\" href=\"../../../../_theory_nbs_/theory.ipynb\">booleans</a>.<a class=\"ProveItLink\" href=\"../../theory.ipynb\">disjunction</a>.<a class=\"ProveItLink\" href=\"../../theorems.ipynb#singular_constructive_multi_dilemma\">singular_constructive_multi_dilemma</a> theorem\n",
    "========"
   ]
  },
  {
   "cell_type": "code",
   "execution_count": 1,
   "metadata": {},
   "outputs": [],
   "source": [
    "import proveit\n",
    "theory = proveit.Theory() # the theorem's theory"
   ]
  },
  {
   "cell_type": "code",
   "execution_count": 2,
   "metadata": {},
   "outputs": [
    {
     "data": {
      "text/html": [
       "With these <a href=\"allowed_presumptions.txt\">allowed</a>/<a href=\"disallowed_presumptions.txt\">disallowed</a> theorem/theory presumptions (e.g., to avoid circular dependencies), we begin our proof of<br><strong id=\"singular_constructive_multi_dilemma\">singular_constructive_multi_dilemma:</strong> <a class=\"ProveItLink\" href=\"../../../__pv_it/theorems/597675f1750db79f8df9a1237e954e78e445419f0/expr.ipynb\"><img src=\"data:image/png;base64,iVBORw0KGgoAAAANSUhEUgAAApIAAAAZBAMAAABwTtNnAAAAMFBMVEX///8AAAAAAAAAAAAAAAAA\n",
       "AAAAAAAAAAAAAAAAAAAAAAAAAAAAAAAAAAAAAAAAAAAv3aB7AAAAD3RSTlMAq1RmmUTNIjK7EInv\n",
       "3XZ/CtNrAAAACXBIWXMAAA7EAAAOxAGVKw4bAAAF0UlEQVRo3u1ZX2gcRRj/bm/v397ddgOCD9J6\n",
       "tbEI0XqQRihCCbGxaqou9cGmVTgfJFAUry8FtZK1b6FRTkRsisKKRSgRPaNIvYCmajEolqAPvnhw\n",
       "AW1paUvogxWh1m9mdndmd2f3jhKOffCDbO67+d1vvu+3M9/OzALEW6r9GyTINrbrkDS70q6A3v6l\n",
       "GyybrKhrkEBLV/Ey/L+S66akQT5viVOyC6LPSiYpGvjkrYHqq66S4+SbqTgluyD6rGSSotHP2TD4\n",
       "q6vk63jNNeKU7ILos5IJikZ73wJQr7tKZm2AYiVOyS6IPiuZoGiyP+Ils+QqSf5lY584XRB9VjJB\n",
       "0XxDbmh+1Ht2/9xu/xT/7I5H9PvZnZhocjfoFLc8JR8BOBGvZDyi30omJpriv4H15CHIGfFKeghb\n",
       "LLdyvB3BMxoFsOOCtSVKBuNlzEo9kkyHHhHcKFaLiqrD/pWvB5Qs2EXTj3xtwkyfEZR0EdqyAPrY\n",
       "kj7Olv3+1i8fH6MfGhGAoN+lseZFo9+2OG9z5hE5fnWi1XK07o7gNhKZIYGr7GNpzRlRrpJKRyzg\n",
       "+dU5UzFa8JigpIsoXguW2/CIv+an0ou5uyxRSRdAYjckvrTRpySLJoP73Pf4PdIMkOGfrUBhCQ70\n",
       "hhDuoBGVIYVnmmxMUiXvEXaLtZ0CdBfmrexUoSnuFh3EvnMcl5ntyJQUIYRKL0KrIirpAnCXQgMK\n",
       "+tJG/26RRnMvjsdBrqRqBnpXSHYKLlOUUbpw6gHBjWIDGYrwgwxFZ3dTUHIBG9IPvbmq77BAp/ij\n",
       "T3d8Si6wn3aeE0pLVlpcBQilwjH5oC0q6QIKZJpKfGmjX0kSTY6MraNcyXIowNvxbxpvYr7Clp/d\n",
       "EdzKsgwF+AJ7dpMnTtEWlDyCv/jwmWrJ0A04ReW3Wnf7lDxisLr8sCCZWpOWbg6hVLq6Z1mskx4A\n",
       "b/EBiS9v9CtJokmteF9R5sMieXEO7QWcERsdutGeENwOBzIMwtlkgPurkGmJZ0EphLxyHjZYahOe\n",
       "YkqqekNUMkVL3T64DPAyGzgZS1+CvX+YwclNII5RKr2Yf8IUlOQcDbqWIX5m27jne+qcCLAJSpJo\n",
       "SqN+JSeDAQJ8YcL3TiVqiAjWnQTBbdLN0GccPumU00cHxsOnaptgFsoVeADFryiW1qyFT9UmFu+0\n",
       "8/exQNXFz/6BJW0tkCiBuJ8pFdbJZlNQknMM00pI/BJ86vmO8caIU7USqWEVruTmYIC4WmoBKYoK\n",
       "zseGiGDdSRDcNrsZ+ozDZ+LOJ5fhIkzn4Rgbk7C3E1ISF13TFpRtZ0mV+xvq+aXQumzaSo8Njw/h\n",
       "sDnGxiQ0O1xJgSNLKiH1c3gTHd9bxXqNLltAyRTOcL3OlZwRyelknMN7MYDfXnDmrocg3UkR3Gbc\n",
       "DLdv2b73NITggzFK5tZwVO5QWaFPm6AbISVxtm6okEC1JmTwt1jzCyZx5tll3oEoF+Gs0nSeGajk\n",
       "aUFJjwM7ucPz4R3Hd8mERpctoKR2FuBP8D9xBHK0z8mKEBPB2qJ3kLPs706CmPf6RyzLcFujZA5B\n",
       "CH41RsmMAVNw6BLkjqPzxhRf23lKqmdAe/J5Emj+W9hjwMm/TLJxQ2e2nv8BL7MVB3Jcq6kYL6Xa\n",
       "ev6rt4W1iseBdtDzVcvxKQ9exEaHLXhmfnLiqi0oWaj7ycnBAuq96+tLtBGj5AjWXRjh5MGwLMOC\n",
       "9RGMQQj+bi9vH+bn5sy4tw8kUMV9pNkd7rhlC2BFaZbTQapGgEO0lh6zz3HZIt8+UGZeZB1ycat3\n",
       "ikTJEU53IYS3cuDYMgzBSjUI1xq9KCnbd4tboMu4ltrvOC/dXOEOZGx3g6CbqQvSfAUOsYubN2I2\n",
       "jH62KCVhdwS507afI2Td7RbyELEfYAnZFHqbqdbXQUlqVamTjuVZp1PuSCWL0SchWPZJlN0RPKNi\n",
       "7LnKCNySkuv0vnudXlO/GH7fXe92pqRBr4hbO6G68nsV9PZ3/wFJcu33B/h1IQAAAABJRU5ErkJg\n",
       "gg==\n",
       "\" style=\"display:inline;vertical-align:middle;\" /></a><br>(see <a class=\"ProveItLink\" href=\"../../../__pv_it/theorems/cbb98c08c79eb70181344aafe5b60e3c7141de470/dependencies.ipynb\">dependencies</a>)<br>"
      ],
      "text/plain": [
       "<IPython.core.display.HTML object>"
      ]
     },
     "metadata": {},
     "output_type": "display_data"
    }
   ],
   "source": [
    "%proving singular_constructive_multi_dilemma"
   ]
  },
  {
   "cell_type": "code",
   "execution_count": null,
   "metadata": {},
   "outputs": [],
   "source": []
  }
 ],
 "metadata": {
  "kernelspec": {
   "display_name": "Python 3",
   "language": "python",
   "name": "python3"
  }
 },
 "nbformat": 4,
 "nbformat_minor": 0
}