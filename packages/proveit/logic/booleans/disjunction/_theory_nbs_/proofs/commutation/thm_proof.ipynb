{
 "cells": [
  {
   "cell_type": "markdown",
   "metadata": {},
   "source": [
    "Proof of <a class=\"ProveItLink\" href=\"../../../../../../_theory_nbs_/theory.ipynb\">proveit</a>.<a class=\"ProveItLink\" href=\"../../../../../_theory_nbs_/theory.ipynb\">logic</a>.<a class=\"ProveItLink\" href=\"../../../../_theory_nbs_/theory.ipynb\">booleans</a>.<a class=\"ProveItLink\" href=\"../../theory.ipynb\">disjunction</a>.<a class=\"ProveItLink\" href=\"../../theorems.ipynb#commutation\">commutation</a> theorem\n",
    "========"
   ]
  },
  {
   "cell_type": "code",
   "execution_count": 1,
   "metadata": {},
   "outputs": [],
   "source": [
    "import proveit\n",
    "theory = proveit.Theory() # the theorem's theory"
   ]
  },
  {
   "cell_type": "code",
   "execution_count": 2,
   "metadata": {},
   "outputs": [
    {
     "data": {
      "text/html": [
       "With these <a href=\"allowed_presumptions.txt\">allowed</a>/<a href=\"disallowed_presumptions.txt\">disallowed</a> theorem/theory presumptions (e.g., to avoid circular dependencies), we begin our proof of<br><strong id=\"commutation\">commutation:</strong> <a class=\"ProveItLink\" href=\"../../../__pv_it/theorems/6d4c758289c9edc32ac3d0bf4a627026e254cf060/expr.ipynb\"><img src=\"data:image/png;base64,iVBORw0KGgoAAAANSUhEUgAAAQMAAAAWBAMAAAA2k+RkAAAAMFBMVEX///8AAAAAAAAAAAAAAAAA\n",
       "AAAAAAAAAAAAAAAAAAAAAAAAAAAAAAAAAAAAAAAAAAAv3aB7AAAAD3RSTlMAq1RmmUTNIjK7EInv\n",
       "3XZ/CtNrAAAACXBIWXMAAA7EAAAOxAGVKw4bAAAD10lEQVRIx8WWW0gUURjHv51dd9ZZd1UoySB2\n",
       "IYgiw32QoIdSySLxIamXiOhCRbhKbQVBVLpBLz7kihS5Ebr1EPhgbL1E+ZAZ3S8sUSCRsCURQZia\n",
       "2Y207zK7NuO441sDM3PmnPOb+Z/vdgZgnkcETzXXBHUuKicRgXkf/iBe3gu523JGXnoOyvo4JsRO\n",
       "bBbR81JbCSvxVJLcdI8ah5zdY8UlnQDD1tSa6eLihuisoUPAhD8EsIGeD9gp0GjlV6VdzhIW06WN\n",
       "OwraAQJRcCcsKXgM4PhhJHA507QYJMIAp8m07XYSXCgW1ku7+jtd19Glkzta0KC7qsBZZUmpU2jy\n",
       "CSOBQwGMAiIqRIk3aCehgC793PSeoCWBbyYqKtHMlSjjiSXlxOnOKSMBcPMO+QaJggQ4UanbNhSW\n",
       "ke0Eb/aPsxKU7RLpATybcFF7rShwoN/cD40EqOkv1ELCjd9/PjT01FZCHdlOorFK+ZrJC58MorMv\n",
       "D+L9uhVFkaItiRoJcEF5SAgv5sMmgIvcncghgRZIetGtQc9v7loEMMINz8+Rd2yA1fzyIT6KMhTE\n",
       "ukZKQkYCYAvEkkI4UdhhUHm+9ogHWyf6aiWFlMZ9rzJB8pJ8GRT96hh3YRy/keTH8Cyjj5SZhRMF\n",
       "XyKg3DMSaEpoKRJCwQjLT3jr2bnjkuUp8GNvW+l5SCePLNeR+2RRnvappvqnlIeIIimQj9O9FKIx\n",
       "swSi4BKeHHszBPjP1QTahfBgqChpicZtL/jmwOwaBRe6ByV4r5glaBj5f8RISbdU18IiPeR3WEog\n",
       "m1WmDQRcQyolRB7l2W5OWEjvkUQKQm9IKl06efS22REuPN9KX6pV7jF0guMbNlaZY4EoDwVvoN5A\n",
       "oB/A1y+EQlJuhNk2sFHqzHDFItC4VqVrnmUKaxcZnJayVa+tVF4Xyh2dDTFK2DVmK3TpkeKZNBJ5\n",
       "Ib3MI+GkT51kxdvgMw+vBW0BzyErnPmgv4zyjdJHJe3dYs5evcw04TsfJDI5+O9BlBuJHWEwECdp\n",
       "Qd+F4FR38FLr+gKclQvQEPXOhni8g2LBq7/sLJk0BVr3ZAJWTDdKbku6lNI2xM3XZglIOWgP68hU\n",
       "AyF6psOgdE8mmfDVZ7dV/DJLGcB6H/UkxQpevz7so7HB3OVLTZl7fFF74lT2CX1cGNSSoP4C7ZVe\n",
       "rFBCZmPjLahiHluZcRuvsifWZx/ugrZ5v2cAVv/uq0VzHUf9ysHGePatF8h9uX9xjs/uugB2xKxN\n",
       "Wsnu9Lfi5w0jPdSZe0+3+F4P2BGzlrV9brdRRjbn/LWLzEHlJD6aO0PwH46/24gD0GV3ZAsAAAAA\n",
       "SUVORK5CYII=\n",
       "\" style=\"display:inline;vertical-align:middle;\" /></a><br>(see <a class=\"ProveItLink\" href=\"../../../__pv_it/theorems/5cb66972365ba8a9b1650021436738a85a5a50d20/dependencies.ipynb\">dependencies</a>)<br>"
      ],
      "text/plain": [
       "<IPython.core.display.HTML object>"
      ]
     },
     "metadata": {},
     "output_type": "display_data"
    },
    {
     "name": "stdout",
     "output_type": "stream",
     "text": [
      "commutation may now be readily provable (assuming required theorems are usable).  Simply execute \"%qed\".\n"
     ]
    }
   ],
   "source": [
    "%proving commutation"
   ]
  },
  {
   "cell_type": "code",
   "execution_count": null,
   "metadata": {},
   "outputs": [],
   "source": []
  }
 ],
 "metadata": {
  "kernelspec": {
   "display_name": "Python 3",
   "language": "python",
   "name": "python3"
  }
 },
 "nbformat": 4,
 "nbformat_minor": 0
}