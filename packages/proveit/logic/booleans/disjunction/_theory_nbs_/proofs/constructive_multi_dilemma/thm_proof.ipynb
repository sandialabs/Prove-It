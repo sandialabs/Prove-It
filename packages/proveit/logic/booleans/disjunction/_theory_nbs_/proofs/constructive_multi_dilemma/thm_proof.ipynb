{
 "cells": [
  {
   "cell_type": "markdown",
   "metadata": {},
   "source": [
    "Proof of <a class=\"ProveItLink\" href=\"../../../../../../_theory_nbs_/theory.ipynb\">proveit</a>.<a class=\"ProveItLink\" href=\"../../../../../_theory_nbs_/theory.ipynb\">logic</a>.<a class=\"ProveItLink\" href=\"../../../../_theory_nbs_/theory.ipynb\">booleans</a>.<a class=\"ProveItLink\" href=\"../../theory.ipynb\">disjunction</a>.<a class=\"ProveItLink\" href=\"../../theorems.ipynb#constructive_multi_dilemma\">constructive_multi_dilemma</a> theorem\n",
    "========"
   ]
  },
  {
   "cell_type": "code",
   "execution_count": 1,
   "metadata": {},
   "outputs": [],
   "source": [
    "import proveit\n",
    "theory = proveit.Theory() # the theorem's theory"
   ]
  },
  {
   "cell_type": "code",
   "execution_count": 2,
   "metadata": {},
   "outputs": [
    {
     "data": {
      "text/html": [
       "With these <a href=\"allowed_presumptions.txt\">allowed</a>/<a href=\"disallowed_presumptions.txt\">disallowed</a> theorem/theory presumptions (e.g., to avoid circular dependencies), we begin our proof of<br><strong id=\"constructive_multi_dilemma\">constructive_multi_dilemma:</strong> <a class=\"ProveItLink\" href=\"../../../__pv_it/theorems/0e4dc64f0564a57235e73b9e3349752b70cffb370/expr.ipynb\"><img src=\"data:image/png;base64,iVBORw0KGgoAAAANSUhEUgAAA4EAAAAZBAMAAAB9WTZMAAAAMFBMVEX///8AAAAAAAAAAAAAAAAA\n",
       "AAAAAAAAAAAAAAAAAAAAAAAAAAAAAAAAAAAAAAAAAAAv3aB7AAAAD3RSTlMAq1RmmUTNIjK7EInv\n",
       "3XZ/CtNrAAAACXBIWXMAAA7EAAAOxAGVKw4bAAAIRElEQVRo3u1aa4wTVRQ+28e2nW5LSXyhCdQs\n",
       "PhIeqWEhYiJWcXUVjRV/KEJiDRojECmakKyvHQ0/JK5LY4JY/OGsGhKDaEFMdDfqglHxvVF8hLjJ\n",
       "4IpGI4hGEDGy3nMfM/femSndKuiPnqQzne+ee+4595v7OLcFqCktI19CU/6/sn8kexyN1mYn/VOJ\n",
       "nVDD4VyTwRMt35wow1GbMZjBh/ZgBlvwFso1mWhQQlXSzU//MvG0J71lQXiQaPqjjMFO/H5HMIOR\n",
       "At5KTSoalE14aSsDTDE5ciZe+qAWrmxFLHKJ2159aLUogw/hjFoOZjCOg7S7yUSjMh8vPYSAW/Ic\n",
       "mYcXNpKCcGXgIXkJ06sP4TxlEIlMZmusg8vIbVuTiUZlCC+XEAIusTmSwjFThFq4IsPksxq8+gDv\n",
       "UwZxM9Naayczi9yKTSYaXQZp100hnxViJcLxEmFjJghXBIfPZeDVB1jK9qIfjYx8UIvBtpGRr6tN\n",
       "KhqUCO269wD6v3KygCIbbzVwRVbzcajrA2xlDHYBbKzFYMSEhNWkokFpxV18/I8De5e62BkAB+iX\n",
       "IFzbypiQtv30YQ5jcBXEMrUYJKWr6HdDLgjg9F+kOh9g06hVSS08r7a+XY9W2jMvluoI1FmrUjgt\n",
       "pn8HmO4mZGTzuIfZDsBVIXvJlOWnD9MZgwkrWVCrPLCgEN7hZvQb4RX6/QVT6qld/h2owGt/G7xK\n",
       "1Ik/vWC7T+bjgUPLb9vN1oJyQFOyGx5RCsMFP323yUhdWnmtidlB8cvhRgTYhtYTZDuTPALGHN6p\n",
       "pRAzyvHNW89UcU3ugKkg6zuyjjEYsuWNTHxvpRDKDMDVLoMz+UbmTWmVTf7q24EqHB6G9JB4uBjg\n",
       "J58aCtw3aT3Y1bvPVxjkNrFPWiQ3nGe/Qib9HrfVJqPVerQWay9pJih+OdxoVWZwAqkTPgZ9+0WS\n",
       "z/NrjufhWhXXZJrI17m+I0v4qVpxnqR9OXmLQvMiUHUZbKUZCUR73W0s3PSxL4Mq3JKH8EHxcArZ\n",
       "B/vUkOFIF84/1eQzCoPcJh4LLZbcEM++hUw6dbfbtSaX1aPVqk6Y9IRDC5QdWSnhLpNn0XWkvOUQ\n",
       "wAyRH6zlY4jhh6DHVHBNUvGyou/IDM7gNtJaeH7f3vRcsmQiEHr4RltiMHkujSHdKi2X9q3+078C\n",
       "t2VhizNr7wTjM58aMjxKTVTvGVAYFDbLbMfluFGWd2B6oZNIKVBLSW1yWz1aWrKc8ov/dE+4IoNO\n",
       "4JvxM7G4rugyOHoqu3P8IsGgwPWl+IKCot9x4YHMKE7xczmD9xPnn12Sa8ukM/A8faXMgXMkBmNs\n",
       "TbQjRWl5v8J/1VfgntGOM5yt8rFZl/osYDJsUM7syz80ZQYdm+1sanLcaHenKm8hONmxgF6rVCpP\n",
       "7FKbnFqPlrY2rdYCTZIalRWmFq5YuSCJb8YKMsjfsVwGt3AvBQ6vK/hL5GYcBn4hty9A1jdmvwU7\n",
       "YC95XsAZJLtVuPc7mGCS3OUGxmAkXXYZBOpX1CSTfIy/9TeRNSI6s9MziapL3cVgkLmo2+KLRH8e\n",
       "Fn5b8Kwd/aKHojk2BtfskxmkNtFGgiY11A1qJiEnOVKhI9Gy7jYkO0WTFFqkaDnOuVoIRdUjx0U+\n",
       "gQJsL4hwZTXcV5AhPmls4sQ7s+AyyPN2B4/vUfAU9shuEBcnn+f6sReLcATZg8/lX5cmQy/O2XPI\n",
       "C5UNmUa1KDHIrA9uPQoP86YWDE6x2uAlnUGE1TWupxCfYfFFInYIhoyDWq5DYc7mnZXK47gOJmUG\n",
       "0Sa1Ec4tFm5QM+xZ1HUL3dUpo7sNsbMs3iSF1ipajnOuFkJxlcGzfQIlKdkAD9fZmIovUgLuMKhL\n",
       "9/iSsBY7PgSfEj+HZQZ3wQ/QE4dH2RiEhbbOoA2xI04eQ3w1Y4RzT+rUY4Yvm9U5zeRrHNxi8lyG\n",
       "LBLRI1CKD6lVGNzR3rHwVYhX2RhMpiUGqU1mo7hRuMHMFOWDCLeQGcM3uyy7jfNj5SmnSRrJVEUL\n",
       "rWpaCGmz6FotUDqLVqoiXBG+mEWh4/gMxvKxcf3202amy7GDJkRyEoOxg2QUzo2wiYlkSOmMxiBO\n",
       "cb/SuDcDzrUTyIBfjw9GVVwYHPoB3g5VEYkdBYNMA6T3SVmPBVtIVyQKahUGzyy3FabxjQlhsE9i\n",
       "kDVFGbyg6riRKPBnYUcq5MY20z2K6zadHjFc7glCB1StRMGjRaC07bpMbilQA6XyMnYhDVegzuFK\n",
       "onRcBrsfWTOuQdhDRmG4nKe/GDkMRjMk51j1I8Rwi/MYST90Bq/JwHOHCxh3bzayA4zrbsfjNvIQ\n",
       "fxd6S3gR8JNGkczn8Z0w58/Bq7KUwd5seOXg9seBHuHJVTicMDfhXN+Nmcxdyys5l0FukzKI23ru\n",
       "RpfY5jM7JbmQG+vNwgbZbZQ1GDL3BKENqlaXV6uLUuC4TKIij0qgdLTjMOXhcnQDKPszKvetfMOX\n",
       "kU/GxsY1i15Pcv/YZIu24f2XxeZKpaCeqimCcYvd9UBaenC/DYeqqTChwtl+W25Z0rL9qqRI0jqc\n",
       "A+O1ynqQEwSQbcgHB5YdHB83RowvVtzWjsL2sM6VtIRVS23oeTnKkLQB5oFqR3IMlXh78EQduaZL\n",
       "MP7/yfR9QJYHHmHr2F/gPLjfjEy60PI9wM1iM/bTNldr5diwTxXoh30wWV8KJAbRhixoJlC4MWI8\n",
       "UpLcBm8kEVXLxypCV8pRkqiuBDVQ/ciGopGT9aeGRv7pFPZ/CGtqufFXCWSwodBwlqitMrseLTw2\n",
       "DctRJetZs2bD/4bB/+7/ov/CW2zULrbq0TIa+v3lZP0ct//r3N/hp+OwEKbWrwAAAABJRU5ErkJg\n",
       "gg==\n",
       "\" style=\"display:inline;vertical-align:middle;\" /></a><br>(see <a class=\"ProveItLink\" href=\"../../../__pv_it/theorems/613bc8989398aafb6e10682ea54385ae1c655d3b0/dependencies.ipynb\">dependencies</a>)<br>"
      ],
      "text/plain": [
       "<IPython.core.display.HTML object>"
      ]
     },
     "metadata": {},
     "output_type": "display_data"
    }
   ],
   "source": [
    "%proving constructive_multi_dilemma"
   ]
  },
  {
   "cell_type": "code",
   "execution_count": null,
   "metadata": {},
   "outputs": [],
   "source": []
  }
 ],
 "metadata": {
  "kernelspec": {
   "display_name": "Python 3",
   "language": "python",
   "name": "python3"
  }
 },
 "nbformat": 4,
 "nbformat_minor": 0
}