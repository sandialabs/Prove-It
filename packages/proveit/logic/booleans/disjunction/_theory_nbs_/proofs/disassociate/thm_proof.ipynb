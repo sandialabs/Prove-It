{
 "cells": [
  {
   "cell_type": "markdown",
   "metadata": {},
   "source": [
    "Proof of <a class=\"ProveItLink\" href=\"../../../../../../_theory_nbs_/theory.ipynb\">proveit</a>.<a class=\"ProveItLink\" href=\"../../../../../_theory_nbs_/theory.ipynb\">logic</a>.<a class=\"ProveItLink\" href=\"../../../../_theory_nbs_/theory.ipynb\">booleans</a>.<a class=\"ProveItLink\" href=\"../../theory.ipynb\">disjunction</a>.<a class=\"ProveItLink\" href=\"../../theorems.ipynb#disassociate\">disassociate</a> theorem\n",
    "========"
   ]
  },
  {
   "cell_type": "code",
   "execution_count": 1,
   "metadata": {},
   "outputs": [],
   "source": [
    "import proveit\n",
    "theory = proveit.Theory() # the theorem's theory"
   ]
  },
  {
   "cell_type": "code",
   "execution_count": 2,
   "metadata": {},
   "outputs": [
    {
     "data": {
      "text/html": [
       "With these <a href=\"allowed_presumptions.txt\">allowed</a>/<a href=\"disallowed_presumptions.txt\">disallowed</a> theorem/theory presumptions (e.g., to avoid circular dependencies), we begin our proof of<br><strong id=\"disassociate\">disassociate:</strong> <a class=\"ProveItLink\" href=\"../../../__pv_it/theorems/de7b11873ea8f4c70f2c7929c8eaf6a611431a420/expr.ipynb\"><img src=\"data:image/png;base64,iVBORw0KGgoAAAANSUhEUgAABVUAAAAZBAMAAADDFtM8AAAAMFBMVEX///8AAAAAAAAAAAAAAAAA\n",
       "AAAAAAAAAAAAAAAAAAAAAAAAAAAAAAAAAAAAAAAAAAAv3aB7AAAAD3RSTlMAq1RmmUTNIjK7EInv\n",
       "3XZ/CtNrAAAACXBIWXMAAA7EAAAOxAGVKw4bAAALdUlEQVR42u1ce4xU1Rn/5j1z57GzKTVogzsN\n",
       "aGkWYSxgSh8yWGhAap3iP9alcVvSEKkNQ9LQUI07Jf6hyQqjKQFMKxclTQmCA2ofbCqIpVhMdaJo\n",
       "CGHjELQEiutK5SFEtud9vnPvndk7xbXGzJfsnXO++73OPb/73e+cewHAP00YLEGb2vR/ofcGc62I\n",
       "97av2FhTOxl4UYweQvk2Vj9LlOG5Y2WD0ytbnOLPy4RF6hyrWdqZ6BOrAfoTzLdBNUbUzX+WNzi9\n",
       "vDVr0WE3b9ZIZ+c9ZTc/tOmDzqs2+LfdyA4l62TnF2JVN3/Ho535+/y7QOLHOVbn0fZSn1gNF+kl\n",
       "aD+oxogsngiDI4oTsMkhXoemfETX0MMa0Zk27CH9D9K94MFPVQC6yv6tYzsOldOnIHhb3qWSedWG\n",
       "SW8094D4WDxqM6z+mj4sKj6xGqdZeFUbVGNEYT7B4S6VDUJ02hICQo34iG6mB5ke55x3S8cuk0fq\n",
       "hx5W+kj77oJv64YdU2XrYXK4veRUsX5HzobPN/eg+aZ4gWGVQjaZ84lVWEZ+drVBNUaU4j9/2qMn\n",
       "sYbK1EZ8RGlUpibvu+CWDhFe6LKHldnE9uy6b+umHUPlXpobF7tUogdp5bm3uQfNN8UPMqzS5VXU\n",
       "99pqenuJNYZ0PU9Z9fd17qCJ4RZoysdEs05YSD2QOeOWDpC6IHrAw0oXRVnJt3XTDlZJMq8PulT2\n",
       "0GO80NyD5pviS/g+wD8HB1/xjdXU4ODRahtUY0QL+aMepuWNpX8NmvKdS/+0aBeC/3FLk7LUmlD2\n",
       "sELqz82H/Vs37WCVPnb8g1Ml9jErBMrNPSi+Q3wnx+p8gMd9YzVchoTdBtUY0RJ2XARrdToIlCEj\n",
       "nsyN+AaNBxgSGz25+CW39Nonhq7Ke1iJfzR0bEkL1k07WGVP3VMleRk8xZ2LK8F3iN/EsboCYlnf\n",
       "WCWiK/iSFZ/wRq/1qS5LGnltGoUR+FeuwH39ExnE6zwfQp+eELKaTYsoG/ENIkvlI/KKxD5wS79f\n",
       "guBLHlYyZBUzJe/fumkHq7xd8lRJnwdPcQdJvkN8Csdqwk4WwepqcPlih56Hb2UVVkkKfp61n0b5\n",
       "33rZU1WLPPzhwALZiW9a+JzHPh4WYXRs4e7dsp0ZN7DNPTCDm3B79e4bOMaBh4quKBrE6nEyDI1i\n",
       "xeNwkePkfmbgN3O7KgBPiWXBUpgkDDO+NdBpm3yToqWgqPFOzp3zEXmuD5vSv6WZr+y2niCrmOQF\n",
       "2LbzGn/WhR1EUuU1kQWEC6mSGuaZYxQPki/FBa3lWA3Wo6qsd9Caq9fBl5N22NZYnSqWVnvQ1kHy\n",
       "jKdXLRKqQUau6ODbAKfdwoYIoR/l2OXjT7PX+bUxyeQmHF4peAKoT6+XykqyIwLn3c04CiGhYvVS\n",
       "xwOJVAVXRSUCUONQAXmdxFjdAdBRg/iQqOa65eY354chXDP5JgWrYvvbIqme1HzBXlOaptrZdbf1\n",
       "jixb1xfgNl/WhR18Tqq8zQTL0oVUSTPwTR7Ng+RLcUGLxTvW3ptVWe94rpJSFibWC0ldA0CU7YBB\n",
       "pB/FeeerXk6RSKAAIfUOZRwZpEedgkXICA+SP7kInELuFfdNaHITDq/05VoP6k9keBIkOyJw3p2H\n",
       "oxASKlYvdWMgywRXRcUD0OOQAYHXSVwDEEaaADgo0JSOV9QdQvgdxdgFk+/c9HlY3w5HyU/VkI7T\n",
       "5VZX0W19LYkocBbOQl/Zj3VpB29oCRW2s5rUAxAqfKu0OqoHwZfigm4QWN1FN03fpFnlO2uOZWaV\n",
       "eesd/mYLJl/3AMZq8nqWZDNRVOPWf+zlFImkcrBd1UL7wHrDY2sRi5DFJMmGcZGXYzT7rXYVJyY3\n",
       "4fRa4UtG2U8AWhTKjgicd2s4CiGhYvVSNwayi3NRVCwANI4KXsM6T3J6gt5cef5yVE515kaOCMEP\n",
       "2QKrku+k41/kv3cAeyebLhrStCyNn3Nbp/UnrO2FbwgkjWZd2NGI0Sr0pQLs1i6ECn15AEl7VA+C\n",
       "L8VnfH2I3s2zBFbvJ7Np0Wzy1OJ8KpvJilbJYgCfnHyyB2E19iKHZ1jvsmbgu57LDSKyks9E3/EZ\n",
       "4xXGLk+f41FCYhFCE3DK9drbcHITyKtIfiwRyj7JZD2A0lqPCDz2E9FlG9YqCi6hY/VQNwcyiXNR\n",
       "VCwANI6JKDO7TqqdGbifDua8nmrrLf4r+ZCsYb5FgAfP9MoDwHb+E6O1xaYSPGNaiRL24mVu63Av\n",
       "uRv+Tu/Gvxp8alS7UNalHY0YrUJ3ynps7UKqTMtDhBXnzT1IPhe3Zr4EB/hjn2E1UBZlza/+BR1l\n",
       "9tCgLTuSFxXGSYRVYHMZKZOyLibSxJ2kbItMnecsAahIoiRKVIs8MFfZojDdXIBF7zjuKi6i6G/8\n",
       "gjMPKfaYdHpIFbywqgNLsNzH+sxZBe/M8Q4NHNaLbqRiBMokUKxudX5S0g85V0RFLbAA+DiYhQTe\n",
       "7UMnET0CsHVkGQQ3nauqqRY75ooPj9iYD4foc7MgD3Lj3dp0zoavjvxMrUPEmwD6hcpjAE7rcDX9\n",
       "FIXtvh8x+MzoIad1ZUcjBm3tb3l0XBG5kK8mrAWdbAZH8SD5XDy2oxcu8se++iaQ+7sW+iGd463F\n",
       "ELpn48bHCFa3RTFWufjAzouwWjhdONBlp+QNbIqkVInaV4zfYIvCNHYW9lqOb4CYiO7SQjIoPKTo\n",
       "QyXn9MC5TqzqwEL5HtlnzqajrCY6NHDYK7rBrBEok0CxutX5SbWPwbk8KmaBBcDHwSzwgORSUp/E\n",
       "tRp64ARrDTZmfG6GG68X3IukBtZFQvFNGjG+XbTmIVCn71ljNYTV9F30+DKchL44b82Nx6s8r0am\n",
       "urBaB1o1HRElAKlAYiRm544jEVklS1S4uyz200hJGLkApfheU5yJhG6ZPq+bzVcn+TshPAQIijIl\n",
       "pwfODc37WhVjFQXW+7jsM2dR/A6DdXjgFdFlJb0OlEmgWN3q/OSMiTMW/ZnVAIzLo+JDpQHwcfDR\n",
       "9mKU6ZMz7uhWCC6MPtW/gF+2Mtdv2i0BKVaItfQVnUaMXxctekiVw4Uy+6hHYbUjA9sgNkzuk1lh\n",
       "3jo8mT/1ZgIcc2KVVgdnGCS2sSK+g9xZ68Cqkq48cJFvAm3HLoJFsjyZQCLeZ8N2MiWJohZWIsGT\n",
       "sD9Ypeyni5ApCg/WfoB3wfQguUSjhrCqAwO4sar6xBmEvgRKn3V44CEKddYldnSgnKVj9VDnJ6dW\n",
       "UkWKtSEhwmNlWKUBiHFQC6wvwscnp1bSambWjz7VGx66tRUwDddbS3oPPdhK2pOIacFFix76IL26\n",
       "zHKergHehf5cJAtLYcUp3vp3HlaRFBd/q6S2BRVWv5eFLeeKFBL9ufCLYN3+U/ryNb4P+kvxA/Sw\n",
       "T4iQioO0b7o0sCDHJrA/F1o+8BwtmOZTXS58QItssHpJeUP61twXTgFwD7Bl4ZANpgfFHS+++0k4\n",
       "AuPfPIr+fL6rBMIf7/DA2Re57PMxghMdKGOhWN3q4mSi/HtWYa0XVnhUzAINQIxjvgxIhI9PBsr6\n",
       "e6OtGgV/vOSJstTIyHArWP2+52q7kXV4bWSkFesSMS24aNHDDyDzLL+6xr9hyTlb1l82rnO8YzXo\n",
       "CFLancG1l2wdySEunUApnrTryKESqQWr6RDqN/YgubXMTNt4FyDVEDFnDSj9pGzpatLx8q+ZOqSh\n",
       "G2p5sMzNwtYsHL9LTfAn867280aZkgOrEdvdMsmB1TWv5JRodORjAHXJVeuFkm7HT+/SlpeP1JAb\n",
       "KWJlM8XACd1v7EFyrWzwWXBilaphos4aUfKEWgyWUKB+1WEzeeRfW9LK/4uF7vY/CvJBGKshj1ZT\n",
       "rLpE8x4tsx3y1nXOVX5UD64QE1d+MXZfge7MNpY+TayOTj//DP//ALErN3El34XZbSyNMb13NP9f\n",
       "veswB/Ry1H8AAAAASUVORK5CYII=\n",
       "\" style=\"display:inline;vertical-align:middle;\" /></a><br>(see <a class=\"ProveItLink\" href=\"../../../__pv_it/theorems/b6643615b364015ccf0b631159627321c5f9a9280/dependencies.ipynb\">dependencies</a>)<br>"
      ],
      "text/plain": [
       "<IPython.core.display.HTML object>"
      ]
     },
     "metadata": {},
     "output_type": "display_data"
    }
   ],
   "source": [
    "%proving disassociate"
   ]
  },
  {
   "cell_type": "code",
   "execution_count": null,
   "metadata": {},
   "outputs": [],
   "source": []
  }
 ],
 "metadata": {
  "kernelspec": {
   "display_name": "Python 3",
   "language": "python",
   "name": "python3"
  }
 },
 "nbformat": 4,
 "nbformat_minor": 0
}