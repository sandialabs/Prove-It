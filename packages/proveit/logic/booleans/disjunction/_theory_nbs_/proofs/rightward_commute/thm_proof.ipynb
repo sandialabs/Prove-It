{
 "cells": [
  {
   "cell_type": "markdown",
   "metadata": {},
   "source": [
    "Proof of <a class=\"ProveItLink\" href=\"../../../../../../_theory_nbs_/theory.ipynb\">proveit</a>.<a class=\"ProveItLink\" href=\"../../../../../_theory_nbs_/theory.ipynb\">logic</a>.<a class=\"ProveItLink\" href=\"../../../../_theory_nbs_/theory.ipynb\">booleans</a>.<a class=\"ProveItLink\" href=\"../../theory.ipynb\">disjunction</a>.<a class=\"ProveItLink\" href=\"../../theorems.ipynb#rightward_commute\">rightward_commute</a> theorem\n",
    "========"
   ]
  },
  {
   "cell_type": "code",
   "execution_count": 1,
   "metadata": {},
   "outputs": [],
   "source": [
    "import proveit\n",
    "theory = proveit.Theory() # the theorem's theory"
   ]
  },
  {
   "cell_type": "code",
   "execution_count": 2,
   "metadata": {},
   "outputs": [
    {
     "data": {
      "text/html": [
       "With these <a href=\"allowed_presumptions.txt\">allowed</a>/<a href=\"disallowed_presumptions.txt\">disallowed</a> theorem/theory presumptions (e.g., to avoid circular dependencies), we begin our proof of<br><strong id=\"rightward_commute\">rightward_commute:</strong> <a class=\"ProveItLink\" href=\"../../../__pv_it/theorems/e7e026b0eafcb2f79c5b15878bb3fb24f16015030/expr.ipynb\"><img src=\"data:image/png;base64,iVBORw0KGgoAAAANSUhEUgAABaUAAAAZBAMAAADTWl+lAAAAMFBMVEX///8AAAAAAAAAAAAAAAAA\n",
       "AAAAAAAAAAAAAAAAAAAAAAAAAAAAAAAAAAAAAAAAAAAv3aB7AAAAD3RSTlMAq1RmmUTNIjK7EInv\n",
       "3XZ/CtNrAAAACXBIWXMAAA7EAAAOxAGVKw4bAAALsklEQVR42u1ca4wUxxGufe/NPm5PIQ4kwmyE\n",
       "bRFhYB0eCkpi1g7EJvixsf84gOVLrAiZPFikiIiAvGuUH0E6c4tlYkCJb2zzIwgM61eicBIcEISN\n",
       "FWfjYMuyOHkRttERHgc4HOZiLl3dPT3dPTO3s7F1IcmWxExPVXVV9fTXNTU9ewD4p4n9RWhRi65p\n",
       "OtOfbUa9s3XHxp5aacQ/xfAQyrUwfW1TmmWdVR7iVU1O+v/2FEbqDNMZvJjsE9MBPAVzLaiNGU1l\n",
       "pxUe4hXNWYsOujB3bezIrXGyjYGOz8Wq/m17mCE0d6Sj45GyulR7Pu7Y8gW3Newl8KKBkY0TNloP\n",
       "sxMM0wuwvcwnpsMFvDGtx+GYkcESa3BEcAImOcTrMCpfoi/iYQO/mDHo1E6/YcINf3Nqnz4Fwbtz\n",
       "vo0rZjS/rxELl1VeOxnYvKyLsiLwM6hLBMYXrDVrUkw/ho+kik9MxzGrr25BbcwozEAVniTySAhn\n",
       "uI1nPS++RLfiYTO/uG3IoW38lhzDQw7t7e+Qw71Fv8ZVM6rf2FVSFnyk8rqJxXCfi7Ii8DGoODEO\n",
       "d1n6eYpphHYi6xPTsJycXmxBbcwoyU5/2GfPa00qo734EqWkMjqx5rJDO3oEC9E+h/aPMUUu9W1c\n",
       "NaP6DRGvoasq7xwJPHLRRVkVNB5UGof0kFUOH6GYxtfEqO93xJmtV8UxpZtYoqufs7MOppTbYVS+\n",
       "TJivwlzr0fQFh/Y+lMXzunaCav7St3HVjOo3QCqe6GGV14PhD7soq4LGg2rDcqpk1f0Ps32PP/f3\n",
       "v+4b08n+/mPVFtTGjBaxEgNm5JStjhqMyte3OlK8nQ9e1LVjn9DKoaxrl6ip3/k1rplR/SYrYEws\n",
       "q7yPcQmcd1FWBY0H1Y51c3eGC15gmL4TYKtvTIfL0Ga2oDZm9DA93gfddiIJlCHN35q8+AqNBzjL\n",
       "t7qy8WFdO3HVXXufaqqRcd2M4rf76bPX5VQerYJDw05lTdB4UFh/wzzrNsxhmF4JsYxvTBPVleyF\n",
       "XBa4o9z4D+Eg7xXWqIvx2lypb/IRlewpIu/pKRNG5Sv0GMC7VlqPnde1U0Pu2u+pm1uNjOtmFL/n\n",
       "ihA8qPJoFRz4h1NZEzQeFNbfMKnA+TczTLeZiQIYkzxuauzoK/CNjMA0Semv0PZO6TFjvOra1VZZ\n",
       "/1HvQnZxfNGePWIrclzvDme8Gvd7oismmp5FL292OtLYFY+wPMJ0Ea6XnephykNoELwev/cQPLTh\n",
       "ELX65PxJZFDP8ReZZXAD90b5Rm+HqfJVihaDfJUPzL+NPNmfGZS1k4Ms/RhzVO2/sIXu17hlxtXv\n",
       "bzDvlxUerYLb+8SYdIH/QWH9Df+0+N0M08F6VLyMaLRhwib4csIMmzamp/NXxH3SVknigusE2Sqh\n",
       "GqTpK/GDWWiz3o0jb7LRavjUuKRr7LC4+ibAWpfdcZVd0cLCwWdcrl2EYUwSVrxMJALiMjEEFzNy\n",
       "8LYpHj/XF7FyBQ9tGdO7yCzXIH6WF5ZTrc8JjB+GcE3lqxSs8g8KBnlKk7I32ClrpygYp8CGM6r2\n",
       "e/Si7Ne4ZcbNL+DDYV5d4dEqeF5OjEkX+B4Urb9D4jVhKf823nmreBnRNkdJqQ2T6/mEXXtAlG4Z\n",
       "QqRLqnIeeMPNraQSyEMIBx08Qv5ZpcHNZKU416DOJV1hobgaR4Jy2UtX2RUtrMkklqrLtYsQP5Eu\n",
       "seJlIhEQk9lDcDEjB2+b4vFzfRErV/DQlmsPwkyRZRTk85+KV8RCIvz2Quyyyteott5eN8fIqSpr\n",
       "sy1lwpqmatOd6YRv48KMi9/4Rbs6sHhYBRuv2WPSBb4HRevvnUJnGsf0i7jp/BbC/Vsbjqfnllnr\n",
       "ffalEabc+KiM6cRNNGmno1INXv++63PYVklm4Xn0VCKZO86zdwwT4zpHqaNzSVc4La4OAE/4Kqns\n",
       "ihZWG7D3Wv3aTVihL8wsXiqSAqIyewhOM2rwwhSPn+vbsVbkl3Ndm9PTmBxy7KO2Nf/pWxg+OD9k\n",
       "8um3+Dqd+Dw73w/0W3qqIGvj9xBImDamuXYJE9Ie38YtM7O+djZzYrPqN03wHr+k8rAKbuuUMK0J\n",
       "fA+K1t+/BnSMmWYux/Ragj0D0+hzS3PJTDrDW0WDgmNK4tklEqZj+xlewvYudRq+7eYVVVYxAJdO\n",
       "zBqP54lyAq65dXJwS+R23y0QfwWsZ5KyEFR2RQuL5MAlLtcOYewHmEwxl7J4qUgKiMom6j2lCzV4\n",
       "bkrEz/SlWCdLed6hbe9NwVpcEEP2/Btvs7PFh0RN5hsIn92dvEHoeTZVMVxJPUXYrVqZkYPIHrAx\n",
       "zbVx12+J6TBuG97dKatzM8bsg7AfjiuWIEocL12u8sjaihwFCdO6wK9fXOwP5qnjw6zcoJgOlHmR\n",
       "9YsPob1MH03YMiM5ViPlByRMAwVnpExyTYxnmQdIaolMX6CXHqjSVuT1rjEOz39iN5f2S9IHuN4v\n",
       "mXeWyvBXyxUpNyGVcfhibB3TGBasNiljqxJmRd68tIXwFCZTzKU8XhTxgNAOlbEh3Pd+wcWMGrxl\n",
       "SsRP9aUhtMnborK2RI8DbB9ZDsGeS1V7/tlHCMGHx02ZDwiJVJ43wPo4YfRcMuErIz8Sb05c21jY\n",
       "sQAkTFvfZ7ZtHEczpGZcGE7lFXVmJrarEy5bdaz1xaXnfMd1T6jWJ4x0THiyKGNaF/j0i8a33MEc\n",
       "X2HlhvitKSuyrocuSGVZaymEHtmy5QmC6R1RGdNMvfeFK7CO76Ys6p1kJq3lr6okRb1bwhuENWuQ\n",
       "90viwy2r92NctVSOD1musNzsLjp8MbaOaQwrPg3vzEyaD+0wZ0r5URJCH96QJXa8KGIBUTtUxobQ\n",
       "h881hxk1eGHKip/qS0NgCi7aEqWkXZBgzWNryufnBeUzjoOmfSbGA/V4H9+A9EVeY2rWL3GMH+Zj\n",
       "NQnTqcV4fBUGoBRnrfnxeJXl6ch0B6brgOUO31EkACjHyGrQSg9UWS3q3YdwcjrIv5O8X4Ak1nRR\n",
       "78e4odtnLpjKZvMgebzULVdJEu5PweGLsUMLvlqVME3DYpubUUyBUphR+bORJMSOnVvteFHEAmJ2\n",
       "UMaGUCQz5zSjBU9NSfFTfXkInfK8Sdqz7p8qoJ5vPP8/g583M/tvmc1guknjyXK6Ehssf3pMN+mX\n",
       "OA7ny/QnXwLT7WnYAbFBkp/nhlnrnSns0TobrPrIxjRWJRfoRO2grx7tJDltAqNKLq0DU/k6YJvU\n",
       "kMZRbOwsQLrA+xmHAD4AtZ/FDQ7AoWCVdh0CA9+TmKtSEbbXaZ8dUi/OJp1qEqZZWBSLoS+BFCa7\n",
       "trpLwhAuiVuqwOPleixMagdlfAhtBRczSvDclB0/82QPgSlYY5C1p1dSYq6eajj/sc2/+k4zsz9Y\n",
       "bwLTzRovkYQZquQ/Naab9Uscp9aVaQ61a48PoCsbycAyWHmKtf6eg9VkvcXfLopdVIHpuzKw7VIB\n",
       "J6orG94Pxr0/hHAZ4gegqxg/jIcDXIWUWKQ9Z7h3YRYbxvy9p9gEd2Vh26KzJqj9BHez0RmmPT4c\n",
       "7p1ftLqkV/S+fAfQPl1Z5uiwxB7Pf6nF9qhYWOwj1HJxHS7za6u7JGQ/DicdWLxMxANi+Z4c+BDu\n",
       "dDOjBM/UpfipijQEpsBHrmgHyvZP0bbb0/z7YVc0JkdGBpuZ/XtcNxLWrNj7WRj/LkSLset9f5P1\n",
       "GlPTfonj9EssAyh/u5XVW8Yft2zSvo0r9K7UaU8a60yx/CyNrMQNNu5ncWvBaiokC+QutE/WGXYt\n",
       "PduU9/JoTaXdXuzqRalnR5GpdhJm3VuXB++4VX7jgBScWCxmvQ4t8kvpoobpiOlsqaRhesPrWaEa\n",
       "HfkEQEyEaO0tStzFDftZXCOTLgROSgK5C+3jEqyRCb4EGqbjp9Ufe1N3XpQ46SnS7awYqXnqWsHr\n",
       "t8p3HPAMTG39edy/TTKmQy6tUTHtUM25tKR2rmE/3XHO09VowVZa89rCtF/6yX/H/+/R+nPJ/2c6\n",
       "cyz3L7gtYOlyllguAAAAAElFTkSuQmCC\n",
       "\" style=\"display:inline;vertical-align:middle;\" /></a><br>(see <a class=\"ProveItLink\" href=\"../../../__pv_it/theorems/24a17822451e8cf18f497ec1be16b81b3ad455c60/dependencies.ipynb\">dependencies</a>)<br>"
      ],
      "text/plain": [
       "<IPython.core.display.HTML object>"
      ]
     },
     "metadata": {},
     "output_type": "display_data"
    }
   ],
   "source": [
    "%proving rightward_commute"
   ]
  },
  {
   "cell_type": "code",
   "execution_count": null,
   "metadata": {},
   "outputs": [],
   "source": []
  }
 ],
 "metadata": {
  "kernelspec": {
   "display_name": "Python 3",
   "language": "python",
   "name": "python3"
  }
 },
 "nbformat": 4,
 "nbformat_minor": 0
}