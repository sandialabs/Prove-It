{
 "cells": [
  {
   "cell_type": "markdown",
   "metadata": {},
   "source": [
    "Proof of <a class=\"ProveItLink\" href=\"../../../../../../_theory_nbs_/theory.ipynb\">proveit</a>.<a class=\"ProveItLink\" href=\"../../../../../_theory_nbs_/theory.ipynb\">logic</a>.<a class=\"ProveItLink\" href=\"../../../../_theory_nbs_/theory.ipynb\">booleans</a>.<a class=\"ProveItLink\" href=\"../../theory.ipynb\">disjunction</a>.<a class=\"ProveItLink\" href=\"../../theorems.ipynb#destructive_multi_dilemma\">destructive_multi_dilemma</a> theorem\n",
    "========"
   ]
  },
  {
   "cell_type": "code",
   "execution_count": 1,
   "metadata": {},
   "outputs": [],
   "source": [
    "import proveit\n",
    "theory = proveit.Theory() # the theorem's theory"
   ]
  },
  {
   "cell_type": "code",
   "execution_count": 2,
   "metadata": {},
   "outputs": [
    {
     "data": {
      "text/html": [
       "With these <a href=\"allowed_presumptions.txt\">allowed</a>/<a href=\"disallowed_presumptions.txt\">disallowed</a> theorem/theory presumptions (e.g., to avoid circular dependencies), we begin our proof of<br><strong id=\"destructive_multi_dilemma\">destructive_multi_dilemma:</strong> <a class=\"ProveItLink\" href=\"../../../__pv_it/theorems/d5c7b325b55fb8ef9efb3f0ee6a5266588118a7f0/expr.ipynb\"><img src=\"data:image/png;base64,iVBORw0KGgoAAAANSUhEUgAABCMAAAAZBAMAAAD5z/kjAAAAMFBMVEX///8AAAAAAAAAAAAAAAAA\n",
       "AAAAAAAAAAAAAAAAAAAAAAAAAAAAAAAAAAAAAAAAAAAv3aB7AAAAD3RSTlMAq1RmmUTNIjK7EInv\n",
       "3XZ/CtNrAAAACXBIWXMAAA7EAAAOxAGVKw4bAAAKNklEQVRo3u1bb4xcVRU/O292Z+bNznSaKILG\n",
       "dkkrmPRPhnTbuB8oK7BSWIxj/WBLGxlTTQM0dqqkpirsk/BB4rqdkNR2q8KsGpIGK9NaE9lN7BaC\n",
       "VFAz0aKEsMnUigZD1wWhVoys59z/9747s1vjCsY9yX3z3n3nnt+95557zrn37QK0pY6p38Ei/R/R\n",
       "+ameOTi6FpX036CUKN4XDlV8fJVLQWrbg6C4aBLvBPq9KDHqbLo1ee8q/tSlILUCYmBoEgWqWNHa\n",
       "JDroJ1FcnLYFpESdF0HBw68uvewQvz/n8q7St32zS5feEXFDKc4fyYMigM5xkxig552tTSJZop/K\n",
       "4rwtID0iiqTuKsByPtddNbq+ly4jdAnLBt/PMdm7yG/vtNnshJBkpJvQGkUAUUGT+CoFkWprk0iT\n",
       "G9m3OG0LSTeIImkIp+/2fr6W2c9GurAVnTTcQeotdPav8/tem82igKwhE0FrFAHESpFZRranTS5B\n",
       "9nd8cdoWkiZFkXQdTt91Iot4hi45MgDmH7rNqUYPEbwllnzNYrOpgWWvQvKhCKBnmElQhtnVLr1c\n",
       "hz/lxWlbyFSizIui5Vh2iVi9gy60ZpNs3V5lBoQZnKCnxUQVLTabaEVfL5G8KAJoB99x/HJq6tl2\n",
       "JtE9NfVifXHeFpCSdV7MHGHseXF/DMTSz7HHQTsZCN8vkoFswWKzaa/wFK1RBNAxbhKbAA63M4lk\n",
       "BJna4rwtINEK7zJyhPTfp8/ukA8b2PVygGntNATtf2j6MtksKFtsTn4ZQb6pfIkPRQBt4CaxB1KF\n",
       "diaBb/ew+9B80cJI/oO2IxKfq1WFwM9rh1txcfMtPHPF08GmIT9s2YumIWFOLk1Xz0MZqlGuh5eP\n",
       "TiGdwVH8DWC1nLzV7IqbgBfYza9xjRLbFKrnLxVIPCmHOGmx2YRbhFxNInlRBNBqbhKZWrZkS7hn\n",
       "sBSc0kdVh+HH7P4HkWYJT3tHaVc/8PrEzbJN+uHBE4c8nXWrE3d95gyPhnwXFOi+SXyVJK+P4/Z7\n",
       "u7Xe18GkId8cmt31pCFhTi6d+JVa6Mgcr2rUXeKFES6/DE5v9iKEzEHs5/NQSfChPSV3G7iMv42/\n",
       "J6NwYilOd3rGYnNoJ6xUSA6K9jm8kEkkmmZ2mT47WkoUxuEWbRJrRXZ50khcsq95dW9XBw3IqxT3\n",
       "WoBXPC2s6pErDkCz/vkPGiYxplkl/jamzA4IC3Fc+c7Qup8Rt291Lf+km5OprnMuLmEuLk1jLXVk\n",
       "jFc1ck1iSYHtJEbO0/N2ccQkjoZMk3iVtg3NJCQxT+ictNhi51s7YyYhUBRt54UdaJc3Go1vRKtP\n",
       "bExCXZtEF9vXQuew4R63/MprEnZ1Rz8EM/LhXdh9TwuzOrmJ3Gk9+13DJAb0FEr8rhodpm7jh2gO\n",
       "rnwnfU5LRnm6M+AOjR/U6q4zLiZhTi5NAx4drYiN904ncMjJ2o/CO94AWEPPa8Q+8gGQgUOaRPqv\n",
       "tG0oLSmlcK0nGhabQ7l0VSG5KJLW8MJM4jh2Lbhh5Gy+L+IHo4n7Ptk0TCJ7FYtD+S4j5Wh+2h8e\n",
       "reruHjiqgtUTEP7G08KsZoe3zfoXxg2TaChOhY9brSqFs5wHV76T1JJRHrY0YkN7j9314/JcYG4u\n",
       "+yDA1VFHxR2vbJRp8sLobpYjwP6ysIY+oZt389+HpEn0s2QgfQGCGplEULXYHMpfU1JIDkrvh6YL\n",
       "5w4JoD5hEl/BkX5ve7G7kC/AEbYEovEPGCaR4nlFM6k3tXn4iBfZrh4613u5Pmlb9+Eo3sKsDtmo\n",
       "mjf+ItImYRy8KHwMlyvI6+714Mp3emm2YERaqeRL0dlRpF2R1fWVchc3N5ceVdnBehxbfPO0qwbZ\n",
       "iDaQWcPcdqFH+llNmITYdR4tG3tSMTcYK7aTp8k21PZSsIUX8PJYWdzgz2+NraqFEq5/Ek7BWQE0\n",
       "KEwCtyjwpT/CkgjFfoKbRDJf1SYBbNidEYbNlFh/WzAgdq4diMUNO124FkL0k/tqIuyO9cPmP5Ri\n",
       "0XhMJkSdRe4l7n9Jm0Rnlc3Ad0x8rMvQvngrV3VD4DLZ8p0kH6OkrVyWMzSAEyWz61sVK3HpASgu\n",
       "poet1qiY1C1u7pQdsMerGqUbvAi6gr5m9ciY8ZwIqsLlf0N7Hfps9SCrw27mShbbGXJt/eJGHlT5\n",
       "UFI/LMNFZg7P8aI/ji+DYYo0G1B1PYkorJcNk+BgE8fehPvEFmdwYnmtGx5zTYKq7TxhqJReUxNh\n",
       "N/UGTIYzzo6ZVQvzuGN09EHKJbLaJBLcrDtMfIyLQRHThSt5s4LAZbLlO2VyHka1X5DyraFhnB03\n",
       "u86C85WSSw9AcTE92CGcSXWUgR7ifTVrvLrR86I4RCaRajhZQdzVMmO+Z347+zhKRzM9SRkKAVHR\n",
       "JnEaXoahNHydewnY3HRNogkUsl6Q2/+hKIVG5MYNrA6uXzewKhJ5AtweiR0xht3Oi1BJT9pNeHXv\n",
       "it7NP4F0nXuJbF6bhEiLOkx82meVDyuNFjguly3fKfIwcjTut5l8JZqFhNG61fWVcvIYF4E4XEwP\n",
       "duAgqZYyyEmNfssZr27UK4rHJJLOV+8gvsm8G75of89qQ3GU7ihfTc1EDIiKMonUDPqJviT3ubir\n",
       "zhcckyCv/hrT26NA4WUJeqgD9BDW5YVXJ16GpxJ1qkm9CSH6LdQrvhuqwVEcTaZkN+HVa6vdpVUi\n",
       "K0STGImll0kDnx3EXVNXR7f9sjsoW72T8n2MAg2miaFhDo3Rj0gdquvIhZJyiitTinGRHqbtYTVs\n",
       "ZfC4Qbq2xqsOGjMVXjwmEfsGfTDmJA597ZY237JtiqMMoZ8Iqv0MaB8YJtFZwJ3rnj+jfIpNOwFc\n",
       "k7i1AN+/UCK9DfckT0H4sc/SSTc+pJ+G4QpdZPWhsIwRLf0EbPjHxM09TK/DPcHuiRMU9zbZTUR1\n",
       "JnqEot0+2gB/7q7RomESB2P4bFj0/VYOT+CSbPWOy/czCjQUPdxD8g3RtMJpGequIwMOBSUIrk1x\n",
       "LtLDQWtY+Ggpg9H9pG9rvGp2KbEOY5P65d0/9VjAkdgyn52d8RmU/ywxhvJx6KqkltUY0EHw/aHd\n",
       "o6OjJftA2yLSm9zbjueNB33XSNRzAc6tin41/S5ba/qa5GAVNIoQPj56AMz9IxhHDBr/iHvUY8g+\n",
       "4tODwyjRqtSBbZZo59Qau05cCS2BgThcqAcuSw9LSRXKcI63eQ+M6blXlPgeLjbVqaaP70/z/Uxw\n",
       "b4t6AmJgl/q3lyPPYiwUY+ua/SeoB30XFvKlDuzhbTKuvnJcc+2ebXiawBi8BMvcwXOFJSsuPtwk\n",
       "n26y+Em2U+VnFGgoGTug5DPRzukzdp3e36YlMBBHRagHLksPS0qVygDw9CD5jvxTtX/nz3ED/0Pg\n",
       "sBUvvYnPJGAcfN8PxJJt/c5xIP4PH4FPfvzzSLGFhJgsPazxeSh/PfxvmsTb938clbgjdytqbd7N\n",
       "+YG21r6J07I2L645OzJXp952Ov9i8V89VFzTQlegbgAAAABJRU5ErkJggg==\n",
       "\" style=\"display:inline;vertical-align:middle;\" /></a><br>(see <a class=\"ProveItLink\" href=\"../../../__pv_it/theorems/b5e3f2f470e91a5966a0fc32bfc467566e1cd4d90/dependencies.ipynb\">dependencies</a>)<br>"
      ],
      "text/plain": [
       "<IPython.core.display.HTML object>"
      ]
     },
     "metadata": {},
     "output_type": "display_data"
    }
   ],
   "source": [
    "%proving destructive_multi_dilemma"
   ]
  },
  {
   "cell_type": "code",
   "execution_count": null,
   "metadata": {},
   "outputs": [],
   "source": []
  }
 ],
 "metadata": {
  "kernelspec": {
   "display_name": "Python 3",
   "language": "python",
   "name": "python3"
  }
 },
 "nbformat": 4,
 "nbformat_minor": 0
}