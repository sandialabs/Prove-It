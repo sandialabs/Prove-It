{
 "cells": [
  {
   "cell_type": "markdown",
   "metadata": {},
   "source": [
    "Proof of <a class=\"ProveItLink\" href=\"../../../../../../_theory_nbs_/theory.ipynb\">proveit</a>.<a class=\"ProveItLink\" href=\"../../../../../_theory_nbs_/theory.ipynb\">logic</a>.<a class=\"ProveItLink\" href=\"../../../../_theory_nbs_/theory.ipynb\">booleans</a>.<a class=\"ProveItLink\" href=\"../../theory.ipynb\">disjunction</a>.<a class=\"ProveItLink\" href=\"../../theorems.ipynb#disassociation\">disassociation</a> theorem\n",
    "========"
   ]
  },
  {
   "cell_type": "code",
   "execution_count": 1,
   "metadata": {},
   "outputs": [],
   "source": [
    "import proveit\n",
    "theory = proveit.Theory() # the theorem's theory"
   ]
  },
  {
   "cell_type": "code",
   "execution_count": 2,
   "metadata": {},
   "outputs": [
    {
     "data": {
      "text/html": [
       "With these <a href=\"allowed_presumptions.txt\">allowed</a>/<a href=\"disallowed_presumptions.txt\">disallowed</a> theorem/theory presumptions (e.g., to avoid circular dependencies), we begin our proof of<br><strong id=\"disassociation\">disassociation:</strong> <a class=\"ProveItLink\" href=\"../../../__pv_it/theorems/c4fd962a88ee58f83b84408aa1b482cd86c538050/expr.ipynb\"><img src=\"data:image/png;base64,iVBORw0KGgoAAAANSUhEUgAABFcAAAAzBAMAAACgWvqRAAAAMFBMVEX///8AAAAAAAAAAAAAAAAA\n",
       "AAAAAAAAAAAAAAAAAAAAAAAAAAAAAAAAAAAAAAAAAAAv3aB7AAAAD3RSTlMAq1RmmUTNIjK7EInv\n",
       "3XZ/CtNrAAAACXBIWXMAAA7EAAAOxAGVKw4bAAAM3UlEQVR42u1df4wU1R3/3v64nZv9cXspbdS2\n",
       "sC2W0KCwjScpWsui2JSe1C0kjVEqZ0xjRBOWpKGhUG41/qHpFU5bUs9oGCohRRQOola5FE5rK2iq\n",
       "W6WGEKmLoAakgCDcCYHt+z3z3szbnW1u6N1yL7nbmc983/vszPvMe9/343sH4D+ZzzxjwVi6NFO9\n",
       "lZ+sVHKj6f4eH6viYUgbqUZaKpWeusSSH1V32ZQdq+lhSMY+dhBuZLF8VT6NBU4YG3UFO1JBe+Xq\n",
       "S0As4U75/EP63Ds19dFZX+lLPbAPg7qVaDn4x3Wn9ko83fhiWSG/K6E+8tF8wttah+vSYjeEGcJr\n",
       "P2v7ioevpMO1SpftD7rczcNtX4r1ebihGlzntdrmKX2n/W7ji+Xf8ukG+jFNiKIJO24Gf2d1uMMF\n",
       "cuKhCoevwL9WCYYEeqITiq5rWlzHINlDs6VkO3oEQnOz7mxOXMOiK2aR9kleZTW6WMID8vlN9GPW\n",
       "oDDAj7eF14cOdxToxCMTeLv1fTHuIgxdyGphznVNi+sYJHsI5+RsG/eiX7cWXNkkXMOiK6Zd+yib\n",
       "c40uloTSGFPtxJcPCaTkcD10uDM58T/v5GpKCoeHMMxE+Myy65oW1zFI9gBvyNnux+/6Anc2Cdex\n",
       "aIpJaKdRooONLpbj8r2H6FNbmTopoG3o50Z2rMOdyYHHysczXGboIJIRDBNwHRTUa3pcxyDZA9wt\n",
       "ZYuTL/uQK5uM61g0xTTrnZa7Gl0s/5RPI7ShyYVOSQOaEjvW4eoAiOERmJZ1DKOSNsNugHV7Qb2m\n",
       "x3UMkj3AVilbFzH6kyubjOtYNMXwQY9HmmY1tliMIaXfJZUbzRjnbH+yCCnW0Otw2f+08XmwWvRy\n",
       "lwEcEwzGF8cO3G1n4de0uI5BsYfpUradZe9sCq5h0RRDpxrm7sdJedO2lBtbLE2Kf5vM0BYh9hka\n",
       "MNJHb6QhafGWAuObtl6h4LL+bDwHXWkwJ5DjBwD2CYYU6t6vynIGcY3jjMHGdQzM3h6QSNk+YP3T\n",
       "051yNoab/W1WFRZXMayjHtA+zJZSY4sloTSqCfLdD8+e9QUaNv6HYvfAlewqxXMwV8HlJPDU72dP\n",
       "QE9uEm2zCqGcYGhBTzw+JBj4NY5zBoHrGJi9SKulbG+TM8s4VpKzMTwCkVI1FqUYrlT9TFN4sLHF\n",
       "sjrrIRYTNafnQUxgT0FPmb6KFD8NXUUJV5LANwO0ouroYHNxzQXB0Io0Gr4gGPg1jnMGgesYeDk8\n",
       "LZCK+4CcFCFUkrMxvDUfG6rGohbDumJ9y2KeamyxHC94dEMR9PO+LZak0cN7IYJfx6pS4Or9cxy9\n",
       "l0n0aP/FRq6P2AxYo02n7fUUdo3jnEHgOgZm3/7dY+mDj9vfmGUjUyNxEGLh2RgetqhYdCxKMeGb\n",
       "Vh0CXpinzwKvNLZYnlS7XeyjzQc6T88efeo77IY4Dn+RcSVxPJolywMma7cPftlmwBpd3WmLhV0T\n",
       "OGMQuIaB2ZvX/hXV0wF0PkPKhmfsYLstFp6N4xAvVWNRinl6QTZRqK6FpxpbLLvVyQXUrsdwQ7u2\n",
       "IKrSfI+NJTnOVuM5vgXVrnmGHTjwFVgag3zqBp7rtIee9yMp/d2yxcKuCZyv9zOcFCxobAZmH9vc\n",
       "CUOkt+uQsuFx/h2WLRaejePwW8tpLu6BsSjF/OpjaLXE5IJn2snEQhzBiX7F0kRIRv5GEfNzdaBR\n",
       "AnPtGQu+XbnPrko6AWbjyywnDknsBu7hBwLfWFkEobVn+vjTZRNfiAEur7S13Zux2y5+TeCcgeGk\n",
       "YEFjM3P7prIxAO+A6PH4HNv6R8flwRaLmENkeOwJ2XyPwqIUM564RNWagpl5KpabqTvtUyyRPPGm\n",
       "R/40ywUVccxwiapUZ6tysXruLHl70AyQKKZ6YieKECt5Xg55w/AL+GU9LLtgtgHw62rDhTIVywP4\n",
       "Hnr8isXADdGykd8LhU6qSHvtqlz28ENWHRytqaAZoAu1LeGeHESy9Ygl9vjDP6qDJHYC9k4WK62e\n",
       "aUuOigWvfsczvn0WvJC9beSLJTzkmliyX+nli3d4Znq7UqmHI/JR0AzwE9SKx8Zbmtcz9uK5smd7\n",
       "VKnUszsnmoZPs9UbDDySx2IJY9fev4N7DfrsHPliSQ26vJieoDkDZPhD8E+spVr/2NrDRkP/2L//\n",
       "Tf9iSezf/37fyBdL/KwLWhk4aWAMqYvgJH5S1XfqZGL5IcAT/sUSKUIL6XZN5xXvjtj8/4klchbG\n",
       "0vClZImJZQnExKKYR7+45wX4XtoWC7JdQk6eLTpUscszr23yyOf9c/iJsbbjeY/9Wy74QMf27eLV\n",
       "Gte/yUOQThOASS/OFdtQmk6M1fBwimWAiaXFiuf5opiSVl2+Br4RtyKWLRbUCr1A52kcTnH8pPdU\n",
       "jjAJlyA1wE9uADjqYa3AP8uQ1TTqgr3jnpKVTYwDvflUPPbN4phYAhVLqIz92w6vthz1UDCxnIs7\n",
       "uiGYSv3baLfDEb/tLU8v2zZpykFYVN84gJke5jIcegP95NgJ3jHsXgh2msxGKknFYXtmrBsKtBuC\n",
       "TryDF08Rhm9adSA1o0iPDrEAhMnfWimJpZnsD4ZUs2MPQPkuT7fMNklk4DkxVfAqmO96mMtwF6p2\n",
       "g1V9DDdcD7onIWwTEseAWpbreV8VH3R3qGN17pV8+c7CwYVti4AuiuEVpXQqzY4KdCg4Of7HO5xi\n",
       "iU8iFVKO2APoFPzAiwGbLKWV2XWw/TJRaReumVX0cI5k+OuOS03ec08Ok43ka0RuEb5TyjXPchGC\n",
       "zEZlutOXWNJcLCvSbLcxXlEqkhUPsrYUJW3BZMgddoolRparo0Xkg/AliNuQsxGderPaC2ETNnq/\n",
       "AcxxfGEE+S/rcjDvkLIUQWGRXqNVSBgSBHcxvGYfzicCiRs/5oW6J+WCDzILKMBMHmBqgsg2P9qW\n",
       "XV7HlJCv4DLHPEuOi6WpyJccx0M323+I15bC9/b2PobEsqnZKRYgTUSkf+tZeJAtoXb0T7ASsEX1\n",
       "eLBJQvgjXXnjaov5L7HTMGAqtUNhkbAXFGIMCdzxZVwM1ISk6b29vRnks/Tx5xg6rd5v8EFmAQWY\n",
       "+QkuS71lwZXv+mfwF1xmpy194NiiQBfFdsFh6DLo0WzD6KMtS3SqJBbaxQDeX8P2lyIlFGNIZ0ov\n",
       "hE2WcX8EFhbZRlHkv0SHoGAMKC0dgdsnts97CZ+20XkiwtCUxvNSLgZq0j5/CsBvaMsCfbyOjVPq\n",
       "/QYfZBZQgJmP4DLzKfy+D/pm8BlcZie+kMjamRRswitK42FGhB7tnUzn6q4FsvtGFgvuoU6SqtxE\n",
       "+oBW1BytwSdmH/mFPqjJ9YCh2Fkw9wAWCzLvsuA59CRa8ra5DU/tSeSnYOTZPKTyjMH8GwBeh1nj\n",
       "sBcmU3uSQOcJkVheEg2CukXhIgSZBRVgVju4rBnHoIltkbUZfAaX2WlaximWyEfQnYmm4R5YcoQe\n",
       "fZqFZehLG+8V6CYWSSy3pGH9mTyuyu5M5BUwb/05ntpFJ8br0F0wXjdeZSbIzUDH08/1z8kQsXRn\n",
       "wov7n38MyMSxMLfhluIGuBFnMWfvOAJAGWB9xzGLTB6jC9S+IEyaikvxOiuelPv45d+J23tPdVno\n",
       "0wswyCywALPawWVkQsvI+WXwHVwmEtmkKu2Uy6hH5su9a6TRtro9Zp8j1/aUs4gQt8jYx6QbEs/Y\n",
       "KnswordiCpSydhaVIQQqQxIOoi50U2+v/OW+pnpQgQeZBRZgVjO4LHae1FbRL4Pv4DKRyPy+UyxR\n",
       "y32kTM0oYln1ZkbYNlfOOzPyfUE7CvaxcXSbbbG4UvJiXIf6m/EFkcXFYO83ul3kmOL1asxU7iH4\n",
       "ILPAAsxqBpfFlZ1etRi8gsuqp92qWMIeR9XF4rK1T5z1l61trjJqs2Q9TbxcMqUdDj7ILLAAs5rB\n",
       "ZUnm2vpl8B1cZs+BqWLxMek7FmTGpvy8gswCCzCrGVyWIMN+0zeD7+Ay8b42eJBZZMBDLIEGmQUW\n",
       "YFYzuCx5gs5x+GXwHVwmT6E3rliipz26oUCDzAILMINawWV0hqXPN4NXcFn1CdxyY4uFRz3wFHyQ\n",
       "WWABZlAruIy4FHHLN4P/4DJptNDAYlGGQ8EHmQUWYAY1g8vQOD6Kd4EpDGpwmRKL5iO4jCUazXrp\n",
       "/Jmw4IPMAgswg5rBZeacNrLIqjC4gsuUWLTawWWsS2/4PxMWVrY/BR9kNryliwAzj6SLF6qToXZw\n",
       "GevC040uFrhPPg0+yGx4SxcBZv7FUieDj+AymhZaDS+WbvktCz7IbHhLFwFmHrWsCS6rk8FHcBlN\n",
       "rC9sZLGk5HsLPshsdKaWmj3XpfDn2NV/9LByTBhe6ZOaFj+F/0ks142qf07VnBmTwjAkg26lM5/Z\n",
       "XJ9Yxv451SWYNtAGAv9zqv8CzbaB/rxUyvIAAAAASUVORK5CYII=\n",
       "\" style=\"display:inline;vertical-align:middle;\" /></a><br>(see <a class=\"ProveItLink\" href=\"../../../__pv_it/theorems/588c4ad9ef17104fc1f0112416f2ab0a35bfd2f00/dependencies.ipynb\">dependencies</a>)<br>"
      ],
      "text/plain": [
       "<IPython.core.display.HTML object>"
      ]
     },
     "metadata": {},
     "output_type": "display_data"
    }
   ],
   "source": [
    "%proving disassociation"
   ]
  },
  {
   "cell_type": "code",
   "execution_count": null,
   "metadata": {},
   "outputs": [],
   "source": []
  }
 ],
 "metadata": {
  "kernelspec": {
   "display_name": "Python 3",
   "language": "python",
   "name": "python3"
  }
 },
 "nbformat": 4,
 "nbformat_minor": 0
}