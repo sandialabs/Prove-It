{
 "cells": [
  {
   "cell_type": "markdown",
   "metadata": {},
   "source": [
    "Proof of <a class=\"ProveItLink\" href=\"../../../../../../_theory_nbs_/theory.ipynb\">proveit</a>.<a class=\"ProveItLink\" href=\"../../../../../_theory_nbs_/theory.ipynb\">logic</a>.<a class=\"ProveItLink\" href=\"../../../../_theory_nbs_/theory.ipynb\">booleans</a>.<a class=\"ProveItLink\" href=\"../../theory.ipynb\">disjunction</a>.<a class=\"ProveItLink\" href=\"../../theorems.ipynb#disjunction_from_quantification\">disjunction_from_quantification</a> theorem\n",
    "========"
   ]
  },
  {
   "cell_type": "code",
   "execution_count": 1,
   "metadata": {},
   "outputs": [],
   "source": [
    "import proveit\n",
    "theory = proveit.Theory() # the theorem's theory"
   ]
  },
  {
   "cell_type": "code",
   "execution_count": 2,
   "metadata": {},
   "outputs": [
    {
     "data": {
      "text/html": [
       "With these <a href=\"allowed_presumptions.txt\">allowed</a>/<a href=\"disallowed_presumptions.txt\">disallowed</a> theorem/theory presumptions (e.g., to avoid circular dependencies), we begin our proof of<br><strong id=\"disjunction_from_quantification\">disjunction_from_quantification:</strong> <a class=\"ProveItLink\" href=\"../../../__pv_it/theorems/f8aa0ffdbe9ed8b09a5a17e8aa978a7059ed237b0/expr.ipynb\"><img src=\"data:image/png;base64,iVBORw0KGgoAAAANSUhEUgAAAqYAAAAZBAMAAAARVvElAAAAMFBMVEX///8AAAAAAAAAAAAAAAAA\n",
       "AAAAAAAAAAAAAAAAAAAAAAAAAAAAAAAAAAAAAAAAAAAv3aB7AAAAD3RSTlMAq1RmmUTNIjK7EInv\n",
       "3XZ/CtNrAAAACXBIWXMAAA7EAAAOxAGVKw4bAAAIIUlEQVRo3tVZfYwTRRSfttvudvdu7y5oAoiX\n",
       "+pFTg0gJH0JUbEBFRM1F/xEVUhRD1IiLRhKUj6IJCZGPikEoEljUoCfKnYgmQDSnhJhgMBeiQJAm\n",
       "PbiEoIE7CZ+9RJw3H7s7s9uW9qLBl8zudvp+M29/++bNmxmEKsmNeQsNQCKtA27CldP5BLqGJYWL\n",
       "mT9YWTE9sH5uHXAT7Huo5AslgzRUv75VucGrrC4nqouEsoD8Gv1vc6qnB9qEyVwzWijJ6XG//szK\n",
       "Dcoys3rbjrtIKJEC5bQRbreU5TQEt3CyJkbiSdKEks/nj7VWgTt15b0hs214Go5Q2wF4OFGK03AH\n",
       "Jmrz5aYPHmH6qAeZsqKsIIp2FPkhFW2DjpG2gSAJ+ijl9EG4zSnLqQJkxGoLiQtdVzerioUX8PfY\n",
       "zx19NtTE7BKcboVLA9bbaDP93xF6CSpD8OYa8R6fgle2PFREARCvDIXLKtE20rGZpkgo3ZTTpRAW\n",
       "smU51RqdWFG1TKuRU+1v7Aa4IAVYPEtiaaoEp5PhshrTMLLA9LGMQXwwxjMoSIHEE/5sFoMgXpkI\n",
       "l/WibZP5n2NYabcJp/D1jUT5eAqfYEdtnJ6vkVPzEi79+KEOXr1I6vaLnG7gD51w6cU09HZQfZA6\n",
       "Eji6cJlPK2QFEjUKXk59EK/Ug++lRds6kaczKLEk4RSsjFWYo0bXPM9oxRo5jffhgm1HLbgY1Pjn\n",
       "RU6Xc2JI85uhZKg+iRREEzxhEq2QFfyc+iBeAb9TEoJtYYcTQEJRsnTeP5DP/1yB0zo8wXTUNml3\n",
       "1chpQ5aOVhI8Yo3hndgLvhI5jTCTFHK/TMck6Os9WMsgk+985ngBCn5OfRAhbUpTX/XYRjre3s2Q\n",
       "UMxOyunDnlFUglMlg+J2TZyG0jVyim1+6yBzTtSevHkhZmEc5xSyCCznPB6J6VK/S1B9I4pfLUI6\n",
       "DWWQWeBBUFTwcypDRBmM0BnRNtJxqi5JkVBIkMKczkMqZlin03omkFOsME9eLzgQMM0SkaY7hLO0\n",
       "iTDkUgKn92BTPpUCBdJ28k/Xe8OeseQBjB/5RmIZ7uJOaY4KP0cjHbRr/rXn61am/7aCbQ4T2vD0\n",
       "Wk+b9Cn4OZUhoixlqZJrG3RsWg0JioSiXaKcxm0D92XQ1o9Q1LAPp+705vwb0Df4Ov3czibCI00T\n",
       "KCS8DqGxLhKhj9OcdDJqBT+9z3EADez/XpoGMmz4sehHZB8uj46n/iHP+1v3kQmilcU4rm/X4W40\n",
       "WjGHLOSCFMDbj+HA1+hwKkNEiVnhlGgbdKyjkTZFQlHPU07DBXGKWjVkLTqMdv/h5fQuco10IaPL\n",
       "5ZR+6U24XU6EAoadwSrPODSlBE7J62vduVZPfBfT97SbnrqcHnqAjIJnJU7Vly2H04a0Rx9ekw3v\n",
       "4Tz39in4/VSGyCsLnqJf8HCK0GMMCUVnnKL0RC9UwfEVJbXbkl5OYyRrC6WQ2SdyGnkfIHyBFCd9\n",
       "d9H0PMhPl8CdEFSBU62f1+Chqp+NwphCI6R4eshyx/7qDlcfzdKpGfCnxoz1KQSMfQkiSddyyTbS\n",
       "MVk+ABKKysY+2oHTzyhZAeg9CbICxFYrwnrfaAGS6hKovtHhFCDmGpa6AdLDqZPwSpxOUP9kS0Ag\n",
       "b2ajYPP2SS6n5nlei8dBpKifhRA9QfTTKHv1OBDT2+rq6+cNrEn/NUexP3wKAXOUBJHkxPWSbaRj\n",
       "MtwBCUW7yDhdiF9tewOQpoTTOm337tsFTtUf4GmJrV6HHE4xRPsRsexDIWQ4nPLIg0JZgdPm176w\n",
       "2qiDp5FeKIo7ZThzjLIsJsajHyRQobR+yaBZkJdTnpiTGPyqR1/re51nWEg/xOp9CgKnxkUkQ/QL\n",
       "/NJO7f8yLdlGOo70MSQUPu9D8oDeHAFKnxspulrTCx3ivtRguNx75rjtcgqQO3bD03SC9HLKXYgm\n",
       "bO4eyi8JDT1J/liWQepHQhqo2zAtziU9KJsv87ddiZtNoB4I77+JnK7n0x1uZuqVTa4+GoS16pmz\n",
       "sfTdr+DlNDTswiAf5Fd+oZMCz/hd26Bj6jWAhBLp9O71bWKpXuTFXG4NMgxbt317fU38IetApgOp\n",
       "N9FcbWpuYy6XJJw6ESla9DahnsPBelwul0toTTYbOx6BVLRFTg3rnSRN7RI5dVK5I0H6i0plvvWZ\n",
       "gHVUeUgpgY5JCrGIFaXRw6leJD01WBpx0CfeQYaf070CpxSydApdJDZYgWOfzLJOE5HsDBW9Sx0Y\n",
       "997+mWgiHn9qp++cwGkKNj8C91DGBOlPLnnwkArYQykPKSVjUChxv82Qk5Gz3ufzbUrHbK5ga6qO\n",
       "FJrh25NWLwqcYgjc5g0lS7YVwrzvLkSmeZsIFVYabEUG8beFTITbkN7hpKwB6cA6/rCg1P5p3PLr\n",
       "l9lqW1dq0z5b9eawtTpxkCEJmu1LMT9ttmDCwVP5Aux9kabmXbN8nJ7qtwU/bbbYEIR36uacqt/2\n",
       "FzxvucLbRNwKjUfqes7plpNEw9J+clw3gNM2LxeBnOpZv3689HZvW0mGqj7EyCo9rQxJ0KPks5Mw\n",
       "iWj6rtzaSmcn0geNdtBYSP1UNDuU8DWxLRec88PACahWmc+bVsmzk8V+/ZNlDpEKwfUnq9/OWOwi\n",
       "CfqwzOnTsac6r+48Sh4kUxjSSWqnVDyPivq2fl5YUXop4AbD2k5w/iPh51GuJJUeuzpONTyF5/CQ\n",
       "ND4RkRFP0jy8xN7rXLnicTgsWpb4P3N61eemr/gP530V0rfQJX4DmkBaEHtqprwtp49d05yCV5j5\n",
       "vf8AiY1vGMpx0EsAAAAASUVORK5CYII=\n",
       "\" style=\"display:inline;vertical-align:middle;\" /></a><br>(see <a class=\"ProveItLink\" href=\"../../../__pv_it/theorems/3016e6718f54c03096d27d625e1b5ad334e590d70/dependencies.ipynb\">dependencies</a>)<br>"
      ],
      "text/plain": [
       "<IPython.core.display.HTML object>"
      ]
     },
     "metadata": {},
     "output_type": "display_data"
    },
    {
     "name": "stdout",
     "output_type": "stream",
     "text": [
      "disjunction_from_quantification may now be readily provable (assuming required theorems are usable).  Simply execute \"%qed\".\n"
     ]
    }
   ],
   "source": [
    "%proving disjunction_from_quantification"
   ]
  },
  {
   "cell_type": "code",
   "execution_count": null,
   "metadata": {},
   "outputs": [],
   "source": []
  }
 ],
 "metadata": {
  "kernelspec": {
   "display_name": "Python 3",
   "language": "python",
   "name": "python3"
  }
 },
 "nbformat": 4,
 "nbformat_minor": 0
}