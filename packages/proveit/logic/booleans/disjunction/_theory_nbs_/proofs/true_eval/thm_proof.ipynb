{
 "cells": [
  {
   "cell_type": "markdown",
   "metadata": {},
   "source": [
    "Proof of <a class=\"ProveItLink\" href=\"../../../../../../_theory_nbs_/theory.ipynb\">proveit</a>.<a class=\"ProveItLink\" href=\"../../../../../_theory_nbs_/theory.ipynb\">logic</a>.<a class=\"ProveItLink\" href=\"../../../../_theory_nbs_/theory.ipynb\">booleans</a>.<a class=\"ProveItLink\" href=\"../../theory.ipynb\">disjunction</a>.<a class=\"ProveItLink\" href=\"../../theorems.ipynb#true_eval\">true_eval</a> theorem\n",
    "========"
   ]
  },
  {
   "cell_type": "code",
   "execution_count": 1,
   "metadata": {},
   "outputs": [],
   "source": [
    "import proveit\n",
    "theory = proveit.Theory() # the theorem's theory"
   ]
  },
  {
   "cell_type": "code",
   "execution_count": 2,
   "metadata": {},
   "outputs": [
    {
     "data": {
      "text/html": [
       "With these <a href=\"allowed_presumptions.txt\">allowed</a>/<a href=\"disallowed_presumptions.txt\">disallowed</a> theorem/theory presumptions (e.g., to avoid circular dependencies), we begin our proof of<br><strong id=\"true_eval\">true_eval:</strong> <a class=\"ProveItLink\" href=\"../../../__pv_it/theorems/f78de34acda0313f69d996f227bda6d55b68347a0/expr.ipynb\"><img src=\"data:image/png;base64,iVBORw0KGgoAAAANSUhEUgAAAyAAAAAXBAMAAAAByTbTAAAAMFBMVEX///8AAAAAAAAAAAAAAAAA\n",
       "AAAAAAAAAAAAAAAAAAAAAAAAAAAAAAAAAAAAAAAAAAAv3aB7AAAAD3RSTlMAq1RmmUTNIjK7EInv\n",
       "3XZ/CtNrAAAACXBIWXMAAA7EAAAOxAGVKw4bAAAHwklEQVRo3u1ZfWwURRR/vdu73e71tteIiZII\n",
       "p6KpKS1nBGLVkANag5bKSf8hUJMaYohowpEYTIXQk/AHxlqKSuCMhlOJkRThiqlKG2hVCAQinAqE\n",
       "EBsOQUgREDG2iMFzPndn93bbvUBDQnjJbOfe++2bnfebjzdTADdy8TjcKpFZuV1EHtbiNtBdt64D\n",
       "v7KCPrjJoSNNhXlcdksJ8WWHtXRBCNcfHJEQV7BREE+aFiT+y/YQJ72TLLFX1/dj+dGi3bauLLI8\n",
       "H6wOlN0lp923Kbg5bbVJpOH+ELF0QS3WLRqREFewUZDPWEEyyQj8WPxog+H1hhSl0ENhQ9OTczRV\n",
       "5em0QymY8HO+9wvnwVMfsXEhiAAX3fhTNsMuyy1d8Cae9O0jEuIKNgoykxUk04d07TT82AjD6w3x\n",
       "4v4WJ9iAHB93MlVZdepH6CkN5Xnfgpf6OXEbF4IYcJMbb9SJEGzpIrQEwiMS4go2CtLHCmp9+VVd\n",
       "GxS2Die9KBlh6/i6N+FkqrLq/Afw2t6X5/1VPMob7VwIYsDNbg44EYItXeBFE88/8qbuCjYKW0gT\n",
       "LUhWald0NR4aEhseTnpRdqAyg6UA2T/CDiadEF3Xi6FK1Oo9QFpcbedCEONjzG4WOhKykKRPP/T3\n",
       "H3SRZbmB3XyR0rQgiXr+MiVWQVZ30lsTqwzzCJMiDiadEK6Tr5MFJ2H13kJe+NzOhSX7I3CLm05H\n",
       "QjpJpGcBfOCCEDewmy/+CC1oxoeVfw39PQCXWLLooDfv6gnQ2K47F9amHUw6IVwX+M/shnvvzTp5\n",
       "t4Vb3Ew1pVYiIVNJpJeCHHJBiA4TkwTVHp66aYQEw7TgkS3/aehRjnGCj3h7vUmUEATZR0WhJeRg\n",
       "0gnhuuCQ2Q33fjLu5N0WbnEz0XGGTCSRLk4FYvYHriNd8FSIE8Jh6n4BsjVh96IJAnCqrrub17Ux\n",
       "PR023y5CAB7+qp4vySUxWgAGaqb/g1xPZTMn7mFLMtV3dI616M2yCCawD3i/Zny7vckghOtKLtNR\n",
       "Z231MB12ak9ZyurCNL0ZnLthstaRkLUk0p6s3Wbddu96uD+QklKcEA4LXBFQvbZ5lwkCL4ShmCcY\n",
       "vp8APsx/QYAop5IxLSA/kLAQoqJPRktx20V+XvTTUcr0Uag36y1Swc9Q2wBKM/YmgRCmC5JIlue1\n",
       "epL8SEggZawuzIdaCudumDQ6EtJI70SaptlsprPwwTwbDRhXJww275Bw2G+1vQcQIeBBuZw+aici\n",
       "fvMHkwipQUxoAegOW5YsCZVfUKnkqeZbfMUi+r+hJWHSW5c+pZ2vWBDsszcJhDAdPTqk81olJ5AA\n",
       "lMbkq1YX5mybwnU3VCod95BKGukdi9GZZGbbKa0a9wnVzrDzfflDKwVCMAxJ9kWjQc1vu/uIEGhB\n",
       "4VRYeGU8dVbl4QWIhjdwNEOeZOtacZYWaGB3Hjw0p++mf5n+CU4I11tEe5Quy74IuWoxumuYREKY\n",
       "Tsa7cSCV12oL/qJu8KYYIYILkzA4dzP58Ut42FU7zpBqGukVKKqfNkZKQhoOL67FVcJ4eeCTBQYh\n",
       "K0jwNXhaiLxkd69ngsB9YjqSsf1uAbKFOJBm810oEKJFxqN6U9wIzRe0ZV0Pu0z67eiPOgjsgf4c\n",
       "o+YVmOQhobuGSSSE61CG7OuGvFZxor0AD5lARoQbDW5vEuHMjTrle9iHftU5ElJHI42yNnjjLJQm\n",
       "SMKPaylfhK560QGDkCIyoObBBYBmOn59Ca0P5p6xjg4C0WUPDRxJmUvIuuSrqjW/sMeoNhBCAspz\n",
       "zKmSIUXdNJiCR3KvGKGhJy5Dr5wQ9RDELR0B/uAHty25xeDZNJg2ums60zXoNaZTnymrBbC2CrB5\n",
       "3Rjyge+kTHC9wWDUBKdu5G1NcA39Ompz0UuPRkeFe/Vx0Mryy3Fob/G+nEy+iwjp8Fuv3+t6xqeU\n",
       "SvodUk/nNehTrZetGGL8wvuJB1aReJXggRAuge3mFyiEZuLJZDKM9pA0X3GPs2JagG2kubBU2+iu\n",
       "K3FoVS7sZFaUxdcncsbJji16pPfDALQotFajKGk6Q3xVFkI0wIs1y7qzgNbQuNJnXbEQxDvjsdoK\n",
       "MqXKUDnHEvIitEhocRkFwyQUMrmhAuBtOkMgzbOFyayMFJqoHC8kNkZ3b4SQ1+D1QhotSUjRBEgR\n",
       "x2uJiBFp+TIaNNUSdODa8XJ6KJ+CDggWQtCkLg1jQtQ0mWdoly6OobfQT/agEM8A7PWksWZrDLQY\n",
       "IQQB9gL8hrysF/A6pKo9iE87lJBvOCHFcVpGCE3zmtWFTBHe3RsjRN645tlCCGmB4KoENDvam4VI\n",
       "+0IolV56HlrDqPZ7BJrR6FaOxaHITIj0LahzXsKEKN/B7BBsHozhO5XWsLIPWuP4EWaQjWoTWkER\n",
       "Sq3ZfR4IIa1h2Fx3CcVNSmADxcd1SFFiGe4jPhie3fmevr2208Jk+ZLdtn05nMsVEhreXZfi0GpJ\n",
       "LlfQ/8aeB+1LgA2O9g1g879Zvg3tTK4XtLvM/+rFS5aH50GprP6W8T5kPOmg10CRJYvbujXBoNeC\n",
       "cHo+mkbJpDlJWMnK7SJafDjLxb3WoeNm4isXdgDMZz+W5DLCW7ymhrRY0TkD1XYwrNv8ueuGwah9\n",
       "DBURuCMW8bpGRmzf8rpCmQx3WDDJ/26qc7gjtcykAAAAAElFTkSuQmCC\n",
       "\" style=\"display:inline;vertical-align:middle;\" /></a><br>(see <a class=\"ProveItLink\" href=\"../../../__pv_it/theorems/dd3dd1be7940671d70f538b7a82594aaa1b56b3f0/dependencies.ipynb\">dependencies</a>)<br>"
      ],
      "text/plain": [
       "<IPython.core.display.HTML object>"
      ]
     },
     "metadata": {},
     "output_type": "display_data"
    },
    {
     "name": "stdout",
     "output_type": "stream",
     "text": [
      "true_eval may now be readily provable (assuming required theorems are usable).  Simply execute \"%qed\".\n"
     ]
    }
   ],
   "source": [
    "%proving true_eval"
   ]
  },
  {
   "cell_type": "code",
   "execution_count": null,
   "metadata": {},
   "outputs": [],
   "source": []
  }
 ],
 "metadata": {
  "kernelspec": {
   "display_name": "Python 3",
   "language": "python",
   "name": "python3"
  }
 },
 "nbformat": 4,
 "nbformat_minor": 0
}