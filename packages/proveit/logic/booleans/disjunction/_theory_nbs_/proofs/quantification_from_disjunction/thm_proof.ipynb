{
 "cells": [
  {
   "cell_type": "markdown",
   "metadata": {},
   "source": [
    "Proof of <a class=\"ProveItLink\" href=\"../../../../../../_theory_nbs_/theory.ipynb\">proveit</a>.<a class=\"ProveItLink\" href=\"../../../../../_theory_nbs_/theory.ipynb\">logic</a>.<a class=\"ProveItLink\" href=\"../../../../_theory_nbs_/theory.ipynb\">booleans</a>.<a class=\"ProveItLink\" href=\"../../theory.ipynb\">disjunction</a>.<a class=\"ProveItLink\" href=\"../../theorems.ipynb#quantification_from_disjunction\">quantification_from_disjunction</a> theorem\n",
    "========"
   ]
  },
  {
   "cell_type": "code",
   "execution_count": 1,
   "metadata": {},
   "outputs": [],
   "source": [
    "import proveit\n",
    "theory = proveit.Theory() # the theorem's theory"
   ]
  },
  {
   "cell_type": "code",
   "execution_count": 2,
   "metadata": {},
   "outputs": [
    {
     "data": {
      "text/html": [
       "With these <a href=\"allowed_presumptions.txt\">allowed</a>/<a href=\"disallowed_presumptions.txt\">disallowed</a> theorem/theory presumptions (e.g., to avoid circular dependencies), we begin our proof of<br><strong id=\"quantification_from_disjunction\">quantification_from_disjunction:</strong> <a class=\"ProveItLink\" href=\"../../../__pv_it/theorems/db5727ac9e7a3d73f2a96d8634db75e1daefca190/expr.ipynb\"><img src=\"data:image/png;base64,iVBORw0KGgoAAAANSUhEUgAAAlYAAAAZBAMAAAABGn28AAAAMFBMVEX///8AAAAAAAAAAAAAAAAA\n",
       "AAAAAAAAAAAAAAAAAAAAAAAAAAAAAAAAAAAAAAAAAAAv3aB7AAAAD3RSTlMAq1RmmUTNIjK7EInv\n",
       "3XZ/CtNrAAAACXBIWXMAAA7EAAAOxAGVKw4bAAAHdUlEQVRYw9VZb4xTRRCftu/a19dr7y6iAVTS\n",
       "RHKYnEKNiJIgVC4mgJFc4IsagR5gUIxSNCGCIAU/EYE7SZA/EnifSEDlyh8/IBpPCTHBf5UgGLHJ\n",
       "AZcQ0HBn5PibgDuzu+/t69terxwfYJK2u3uzszO/nZ2Z3QOoRA8Xs7rhUAvcxRQonrwzghLFYwCG\n",
       "bFSijH54JH55Ucz6h8DP4KPIbZgQcb+1QsODAiii6vsk67eLxu1hZeFwIunZAurN7mePktrhmq7q\n",
       "rTnjzpx957E6I35nS4gm8kY9/jzSL1YB/AmmPKNR7Daxz/lbHw+bb4PodUMiVTK/lMFL69hfzg70\n",
       "POy41vDJNFImz77MrTTTt6DAyigWi39VEygcRZl0a1tBikas4jY1nke2Bf1iZeCKYa+vL5e+BZcZ\n",
       "cEdl7xTAQooXKNzkDlPKoHrnkEWMMUxIDsev9f71lfE6JmEbMu8k6DJ85sLyflXGk8uQVBSlh9Mg\n",
       "RCNWiXpqrAJ5HstiZSLnUu/oC+xjIOzmTbYRN2WP0ViK/AhTNAc6BqSZstHDrA2RXuTnm/3rK+Nt\n",
       "TOoYlNwsE0xaLngHsHIURel1SWkLYmVdpwZuTSzZf7xCePd5R/vYp5bUuco+N2QPf8lL0IWXgJYB\n",
       "abSKFeBmQhw3TRMclfEeBn4PHr9O+cejzoJEWweDlaMoSp9jS1sopM8jrEKpCpEww9m9VpgIdCMF\n",
       "rl72uSp7qCa5D0I7GbQMfqxQE9owQ2ObMr4DPwyvoKPMPGdBojWDwUoqStK/dmwhrKZyB/u5WPyx\n",
       "Ala1LErmvXtQEOcQ6tr52cCe1c1kxyhbLBG+pWHwY7UXhO/EdQncHb/GDwoYqMye02ImX5Cfyfwg\n",
       "sJKKkvRWaJrGRRNW/3CspiiuWwYrIwdR21vrZaQ7MOnvHxNbHKth7huiTQ/kINEFWgY/VuOoORTg\n",
       "ok4BZ5zhFPkmKT0pXZviM2lBzHqMLg0CK6koSrf+C446zEUTVnP4YVwMEYaexdNcTosVY1hc4q+Y\n",
       "DQiBngcPPUVDrLfaYMxBgoPlgziH18fgx+oxarIs86fOBmc88e+h/VQExBkEiSyGX5wZ7HR5g3Md\n",
       "rIJYM6hYhfY7ZrqxBD6a5qgiFEXpwSszzAVcNGHVlqNG1I4xBWLcCf7g0x76dOoBtRbdCl+y75cv\n",
       "HWgQa4XR74/IGELEenYtk2L2Ai9DRgJoGeDFYvGnYvE3F6s2LjMbTGvrSjke7ZXpgylswRibzzR7\n",
       "FeadR0r86lmn0l0Ljplu4sjxAKAqitKNwzyH9wqsVrZQI9jlDe3rh22Ek/DVBRWr0fQdKkCsINZI\n",
       "S6wuK1CQ+uKYNcmizcfg96tXuU/kw9r7ijNel1GsYZCLmTWKX0XezJZgRbxokye3KNSolFeO9Pj8\n",
       "KSBEE1YdLSLDTVSnGsiUMkelVKzCVC8F0pDoVfwKz6B5Q/Jhr9VipnE44yYv2vwMfqwe5+3CGr01\n",
       "crxNRu44Ha1TYiYtKOLViWxpvFopbaqElaMoSu9IzskJ0dyv+BmEfax8qjlNZXR3Ulw4DMNzH4w1\n",
       "okm1SYjXK1htR236JB/rWX0x5n0co8QT/H7hZ/BjNZ63z96vt0aO98gbSxR3LtInZobcSrqm3Rfb\n",
       "x0f+FjY1SjNd2jPZxcpRFKVPsjuSXVw0j1dZ3ljO7N5ThzobwYzFV3v6UQ9Wke8IXDsyRObBdpGw\n",
       "w06w2IvH+12RchksJ4TWPgYPVt9mZfEB8AU/YxYeho6MaLjjsMgpuXCnQr3y+uCWM0v89dWIdz5f\n",
       "xm0aJ810Kc2AmgUliqL0B6Ajl+ei1TyI6R2W0THYHUvX0NmzuvLed4ah+DXh4hm5VAJjxDombMc1\n",
       "GS1ZD+5js+Ni93klqmFQsWr4tZWN/C6Ov8hax2VAPO4Zn3pruzwuBbldODPuXpA3++/OvyRNbpP5\n",
       "ujTTvY7aLIOFL5QoitI3QGK6zUUTVhPUN5ntok4NvbFlywaIxWzL9r3JNCjvKNd5EvGmFKIV5eoX\n",
       "lX20p9osVPtogukaUyrNXKF5IHPSVeTSFOA2rRrumOkSq/mCb+uku7YQRM8pWFnXyZC6rEkONeND\n",
       "iPmxOqzIOyJvrm75InrN5QxU2Wd60kmqWqzGQiA5yRYzm/t7vwq1z4pwm+C0Y6ZLV/iLSal0Sc3g\n",
       "uQ+KvJxJW3kqQaiGz6edY+xiFblS8s4AmzxL8F4/bxabyowvrfoxLpptSx4TM7ULOlgFutbFxL2k\n",
       "kczE1mdgcfjMTl16jEr3JNHKO4PwqxFZ83uCfilDPtQw4mCrD6vzN5TAiIUd7PIsscu7kJ92VYlh\n",
       "ebLaje4WMVO7YNi1O/AM2USgMDNJ+az5Aw+79TqsrHYVNIQoVF/yhhwkV7MObtk4gDfkAMbbiKcK\n",
       "5r1z/Txj6x+LE9nqX3k/cGeeq/yGzG3S1Fd49WssJ12IpnfRbAlWr4Rf6qzuvf3uJd0r0yzfyGtr\n",
       "y5eoDinv7S6ljG574P/HabrnsAr73Ho6uzebcytjNeD/47x1L/5/MKz7/+BqHed7FR5Liyz7GzY1\n",
       "/gekqhyymRf8NgAAAABJRU5ErkJggg==\n",
       "\" style=\"display:inline;vertical-align:middle;\" /></a><br>(see <a class=\"ProveItLink\" href=\"../../../__pv_it/theorems/88142da7b004b39ed22be21d9f11ff98191677480/dependencies.ipynb\">dependencies</a>)<br>"
      ],
      "text/plain": [
       "<IPython.core.display.HTML object>"
      ]
     },
     "metadata": {},
     "output_type": "display_data"
    }
   ],
   "source": [
    "%proving quantification_from_disjunction"
   ]
  },
  {
   "cell_type": "code",
   "execution_count": null,
   "metadata": {},
   "outputs": [],
   "source": []
  }
 ],
 "metadata": {
  "kernelspec": {
   "display_name": "Python 3",
   "language": "python",
   "name": "python3"
  }
 },
 "nbformat": 4,
 "nbformat_minor": 0
}