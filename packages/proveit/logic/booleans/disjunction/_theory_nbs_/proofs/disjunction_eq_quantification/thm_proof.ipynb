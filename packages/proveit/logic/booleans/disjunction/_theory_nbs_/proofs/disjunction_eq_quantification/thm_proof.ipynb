{
 "cells": [
  {
   "cell_type": "markdown",
   "metadata": {},
   "source": [
    "Proof of <a class=\"ProveItLink\" href=\"../../../../../../_theory_nbs_/theory.ipynb\">proveit</a>.<a class=\"ProveItLink\" href=\"../../../../../_theory_nbs_/theory.ipynb\">logic</a>.<a class=\"ProveItLink\" href=\"../../../../_theory_nbs_/theory.ipynb\">booleans</a>.<a class=\"ProveItLink\" href=\"../../theory.ipynb\">disjunction</a>.<a class=\"ProveItLink\" href=\"../../theorems.ipynb#disjunction_eq_quantification\">disjunction_eq_quantification</a> theorem\n",
    "========"
   ]
  },
  {
   "cell_type": "code",
   "execution_count": 1,
   "metadata": {},
   "outputs": [],
   "source": [
    "import proveit\n",
    "theory = proveit.Theory() # the theorem's theory"
   ]
  },
  {
   "cell_type": "code",
   "execution_count": 2,
   "metadata": {},
   "outputs": [
    {
     "data": {
      "text/html": [
       "With these <a href=\"allowed_presumptions.txt\">allowed</a>/<a href=\"disallowed_presumptions.txt\">disallowed</a> theorem/theory presumptions (e.g., to avoid circular dependencies), we begin our proof of<br><strong id=\"disjunction_eq_quantification\">disjunction_eq_quantification:</strong> <a class=\"ProveItLink\" href=\"../../../__pv_it/theorems/b0718cefb15269738a13b2523f52f1ba2d9bf7610/expr.ipynb\"><img src=\"data:image/png;base64,iVBORw0KGgoAAAANSUhEUgAAAqEAAAAZBAMAAADziupcAAAAMFBMVEX///8AAAAAAAAAAAAAAAAA\n",
       "AAAAAAAAAAAAAAAAAAAAAAAAAAAAAAAAAAAAAAAAAAAv3aB7AAAAD3RSTlMAq1RmmUTNIjK7EInv\n",
       "3XZ/CtNrAAAACXBIWXMAAA7EAAAOxAGVKw4bAAAH7UlEQVRo3tVZf4jURRR/++N2v/fd2707tFCr\n",
       "Y6M4K1M3MkMIXbJQLxKxf7JS99KwhHIliCx/3NlfkXqXYXYm+oUgsMhbfxSoRVcighVtYijpxnke\n",
       "iILeRZ0/QZv3Zub7nfl+v7t7t2dgD/Z7M3PvvZn3mTdv3swAlKNA4TgMg0Jz4LalewrZW6PoQiEJ\n",
       "kJaFchQZXmf340cfeNbbBF4GD0Ur6D3qfH2UZoZlWVT5E0oBrJCF/xZRE0ed0CaO1xYUl0n4z3NV\n",
       "99C773EkF9xqRHuUYSGQIVGow9b7SiIawD/BVEXdVqPYOPY7d/PD0YstELVeSLj1uRl0Ws/+c2aQ\n",
       "fSa2X63/uIkGnWMfYwtJJlJ+iD5bKBQODcEeTbe5NQ98WOSaf/DC0/jfJSURDWMojFQWclZKP4VL\n",
       "DN4jsnYSYCk2jsHPBs7qZlA9feQyhmjEcouopLTXMg1bkflzAiHDJZcW89GeoRik6Y5g7ETlhOhp\n",
       "jmgrhoL2koga6McrKlsaz7BfGLszbrBpvSFrjCbhZyp+PqG6hwHpOVnow2GnXSIaKe1tbP1NxDU4\n",
       "XW6PadnhsBHVdNcmhXJCtJNDiwjHkqXjKM7u7soQHWC/GvKUK+x3XdbwL050HOeTG+ZhQJqgIgro\n",
       "waqIRkp7Xwv74YLvkv88IjscNqKa7oWWUE6IRlJUwHKkzM70aMVR3LjGPo0UUPvZ74qsif5pLsN8\n",
       "Pj0MXkQXgS6ikdK+HX/M8qA96EWyw2Ejqun+VionRMPtvPBLofBTGURrCoVTuYoQTeTFyofadr5i\n",
       "sGb2sn5jdcKp4iJAuRm8iO4CXURPZpz2qzyGQBgHvfO0kKQOh42oprsZxjWRckI00cULMwG2lEE0\n",
       "3ALVVkWIBjLStRhY7x4VMxqrwr7JnlEAF+0ApTN4EZ0MuohOdjuzOPpdUnpluibFJanDcIGorlJE\n",
       "Nd3m38GxB0k5IVp1jReWQ5TpN/lW3uKLKGNYrjaF+QZs7/5BVjJUz3SSJ9zzCKe+uw48Rk2stjbM\n",
       "bAkSaK086fBj8CL6MOgiOtntib8O7KGTWpyZnsji9oGSwS4fHx3P4P1RO+PtUS0DgcoHTdI0VXfw\n",
       "8lxjCSknRI0rvFBtxRhLjKfPJ7jc3Z/O2qtm+Fvga/ad98/eeuqrmgcuEgluBkAk4nIyPsvwAxkX\n",
       "Rmc4JOMPEatZNUzU6CeGbDDtBCiNAXPFnwuF3xxE20AXcU29bK/ul5sfM8yEiRaXNPqLrvrQn3bb\n",
       "Otsyh06IgOPWHT5IRrcJRKMDvBDs1jemDaM3wXHYf15FdAJ1HspDLO8gyt1zGxt0neK7xkXG8qK9\n",
       "AaclopcUwMhIvrCDOZnoehi8PvoS6CI62e21GcVqNjFCsqqreBw9JC3X9kWFGpV01NYdXzwTuHJC\n",
       "1BSIQmaqtqKRKWWMTamIRuiEFUhDol9HNPQRisjLEGoP5mUuLn0UV71xXYpgrdnkfIzy74sA5WHw\n",
       "IjoeNBE3yfY2uYvGaes/KSSpQ/84Gu2XlpdDVNPdmVzYwpVzHxWrHnazdLPqNEXG3qQ46oXD2rk+\n",
       "1ogG1SQhXmcjhyKJjTIT3Pmkiqid4BKi2zD+DEh96NQDMdY3P1acuUMEKA+DF9EpoIm4Sbb32TPc\n",
       "LdYiSYbai6/69tU5YXmjBMM5sDFUbEQ13dOszmQ3Kedx9LIorGRW76zFEYeDGZN3+/gDGqLRH7C0\n",
       "xoqOdHyRiRg8pr+FO2qjiqgd6ALtInWJ2EFsF0a0N0X6AfCVMMvLoCH6fVamYbaIiXGiMyMKiqpl\n",
       "doqK8xnql0e3XFFEA2cfOiwsnyzBcFYtpp7zwUf3ndDZkiPl2l4PAea579CC+iKWrqLVbnbn9Lun\n",
       "Ufh54mKP5SCKIg/ux9I8JmDtVRGtku6AKRqsZ6PaflVGe1aDEayXOJ9tkZT7MKiI1v/azFp+B1UE\n",
       "jslAfUxrn3Vzm0x18nJSUTI+p+hNSU0PtHDLjVclGDYxVBgK5310b4TEbIuUE5ChLvU2b5s4x4Re\n",
       "6+jYCLGYZVqe27x6UOMlicxDSO/lWeSsjq0dHSlC1JCI4rQ5aQAPQKK2qljKp7JP0HL4/FDTYUxd\n",
       "MG0gyVXFb/PWPNUC3PLWMTYYjk/h/v2Gn257WPzMVKcgal4jM2qzBjnn3Pcg5kX0oIYoF2mdAUAb\n",
       "wmXfVU+baEhLdmRtetFb/7TPTQm4rlAGR5MgkJxmCcnpxRGdUpUXluMFkgDDuW7K8js0t25lWOq5\n",
       "XmQembSZo2SMzk+5tB04HESjlzVEmQj+WT6GdiajS0U00a3ePcFmbSi8VuK+a3OR9qFff1Vn25JH\n",
       "haRPhzaiDUY+J06OjdIyhseXTora6KNbGZZ69yR8tCGL2wyboBVsfkL1DfuaPYieu25pPtqQFU8Y\n",
       "qDtRJ9qj31zvdnqj0cAObSg79AF5accQkS7xgtAe7p0jJH06zDiaR7SQ5QQdt8w4DOuy0m19EDXb\n",
       "lWERkI+4X0WCdKQ293VsKvcqUu16rsiJI3S1F5MA7hZR7QzCa2dLPOD4P38kKrjzXu1Ini33KsIt\n",
       "98lHF/mnqauVYRGQx92IvhB5vmtw70wuRGEGvLLOOe9Tg/bOdLuS39jme+wnVBpLa1LfmRxKhXut\n",
       "oSFqdDBiTh+zZjdp+pU8Zdz/DNGIe4EQKsbL5REd/Fuo973e887rmgmzCLq3G73u916/1o/z7dKK\n",
       "LpxiQDbxwr+qp1Qc1WfLpAAAAABJRU5ErkJggg==\n",
       "\" style=\"display:inline;vertical-align:middle;\" /></a><br>(see <a class=\"ProveItLink\" href=\"../../../__pv_it/theorems/2c70aa0614d3d1b37ec8367f7fc4b694bc3d535f0/dependencies.ipynb\">dependencies</a>)<br>"
      ],
      "text/plain": [
       "<IPython.core.display.HTML object>"
      ]
     },
     "metadata": {},
     "output_type": "display_data"
    }
   ],
   "source": [
    "%proving disjunction_eq_quantification"
   ]
  },
  {
   "cell_type": "code",
   "execution_count": null,
   "metadata": {},
   "outputs": [],
   "source": []
  }
 ],
 "metadata": {
  "kernelspec": {
   "display_name": "Python 3",
   "language": "python",
   "name": "python3"
  }
 },
 "nbformat": 4,
 "nbformat_minor": 0
}