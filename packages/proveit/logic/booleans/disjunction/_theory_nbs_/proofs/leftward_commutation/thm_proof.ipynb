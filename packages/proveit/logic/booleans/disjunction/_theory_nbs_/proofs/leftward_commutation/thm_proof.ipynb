{
 "cells": [
  {
   "cell_type": "markdown",
   "metadata": {},
   "source": [
    "Proof of <a class=\"ProveItLink\" href=\"../../../../../../_theory_nbs_/theory.ipynb\">proveit</a>.<a class=\"ProveItLink\" href=\"../../../../../_theory_nbs_/theory.ipynb\">logic</a>.<a class=\"ProveItLink\" href=\"../../../../_theory_nbs_/theory.ipynb\">booleans</a>.<a class=\"ProveItLink\" href=\"../../theory.ipynb\">disjunction</a>.<a class=\"ProveItLink\" href=\"../../theorems.ipynb#leftward_commutation\">leftward_commutation</a> theorem\n",
    "========"
   ]
  },
  {
   "cell_type": "code",
   "execution_count": 1,
   "metadata": {},
   "outputs": [],
   "source": [
    "import proveit\n",
    "theory = proveit.Theory() # the theorem's theory"
   ]
  },
  {
   "cell_type": "code",
   "execution_count": 2,
   "metadata": {},
   "outputs": [
    {
     "data": {
      "text/html": [
       "With these <a href=\"allowed_presumptions.txt\">allowed</a>/<a href=\"disallowed_presumptions.txt\">disallowed</a> theorem/theory presumptions (e.g., to avoid circular dependencies), we begin our proof of<br><strong id=\"leftward_commutation\">leftward_commutation:</strong> <a class=\"ProveItLink\" href=\"../../../__pv_it/theorems/e98531fc2895ca9c93fdc254fac791256cecccae0/expr.ipynb\"><img src=\"data:image/png;base64,iVBORw0KGgoAAAANSUhEUgAABIsAAAAzBAMAAADld5VWAAAAMFBMVEX///8AAAAAAAAAAAAAAAAA\n",
       "AAAAAAAAAAAAAAAAAAAAAAAAAAAAAAAAAAAAAAAAAAAv3aB7AAAAD3RSTlMAq1RmmUTNIjK7EInv\n",
       "3XZ/CtNrAAAACXBIWXMAAA7EAAAOxAGVKw4bAAANS0lEQVR42u1de4xU1Rn/dh47d+/Mzs6m1Iqt\n",
       "7LS2hAaFaVxJ1dodZG1LkDqFpLEVZU3TGNGU4R8TqmXHxj9qumEXKg1rWncohhRXZSVqFVJYtSlQ\n",
       "07pWSoiROpRHA1LesKtUpud5z+Oeu3On7ux2O3OS3Tn3d7/zfXPP+d1zvvP4dgH8J/uZZ/JQS7X0\n",
       "yWjRWCymJ+mjrq+19tinzZQ9DcViT1k0ykzWB65L1Rp97JP1LssEq4RGn1UvIzUKlJGynneuqy4a\n",
       "BTvU639QMnWYpb1wr/TQ/zmN7vG8E01UFY0eUV+owAD5qD9tlvbCvdJyA2/7zjRfsd4/7sn/UeTt\n",
       "Y82figwoULzvw+bezxhkjxXXTF2T9W9XURT39gjeqSoa/V293EQ/Zjt0qcO+olWA0XHJ1ZLxQJHD\n",
       "V+Ffq0k2hiq2Jecf99KuyKtFThyHwMKUKt6EOtK2pEHPRdTWZ8G/XUXRMs+KvTZfRTQKDqrX8+jH\n",
       "3GFHANddA28tL1xSKOOhFv6af13MCTuRxNK0f9xLuyKvFNm8H/26I6uKd6N8aNCtx7qMft0O/u0q\n",
       "ilo9a7Y+XUU0iqldP9DqiT484iBDkovjhctJxn+3k/OsUThWbQhrK/jHvbQr8kqRB3FHsEQTP4XE\n",
       "w+fceuL4kZam/NtVFMU8l4XCw1VEo1NqNQRoDa6KO708bEU/t7K8Fy4nCY8UTvHOP4oyIXrRghs6\n",
       "6x/30q7Iy0Wi5Es+pon34S90ya2nAY/TnQP+7SqK6r2do3uriEZvq5chWp3pwDllsjXE8l64Pjlj\n",
       "eAhmp6QpXiPN7gHYsB/8417aFXm5SCcR+K0m/iEewM649TThdu5O+LerKOITMkOana8aGlkj2oBO\n",
       "mj2ctC4J7zIHcTZ0eOGqNyrwRdDtjJlXApykJj88efAHQrwk7qVdk5eK7CyYxLELFLzkvoFdHWgb\n",
       "8G9XUUTXSxYewEl7JbcUqoZGdZqH3ZikvUgEvW32HFptCWjM894F4/0vXKXhKjMFnobOBNgtJP8o\n",
       "AF3YjSOf4doU1+7CmXaBe2ln8lLiRd7PmsTxC1N3ATZ2aDewqwMtGf92mSLmBQx61m3DUNXQKKb1\n",
       "yTHyGMfa56Kee/W/KHYffJEvsRA8DQs1XE0OHn+ivQVV4nTaz2UDdOrSgCo+OuJo13Gu3cG9tDN5\n",
       "uStlRd4iV3lNHLtATYPWySFND3Z14N9l2KWKOL28F9KCw1VDo+6UgUY26o0/Bmc9fyaqQrqoR/EL\n",
       "0JlTcC05+POoulGjLWDrmvW0k2hCzA1edrTrONfu4F7auR556ZQWeZ9c5DRx3JxtKQgMaXqwqxM8\n",
       "V4ZdpoiN8969kX2uamh0KmsY1ELo5z1Bo0arh49pBL+JVbiD61XBcfRWN6Ja/hubMj8umIvHBL7p\n",
       "pOFcu4N7aWfyrV89mTi0XlGFV4wgqoujd8BGXjmnEb9BXJ1ne8qwSxUF560+DFyd0TeC16qGRr/S\n",
       "x3PsFi4GuovBGjr+FfZsHIffq7iWOB5Okc0Tm3X7hz4tmNvdIWik40y7g3toZ/L2DW+g5jqoFMHr\n",
       "krBNF0ckaegQNOI3iKvzSyjDLlW0cUkqlh2dJb+uGhrt0a7x/DWC++m+rNPQ9j42F+Y4OwTB8S2o\n",
       "ceyLLCPhj2BaDvOlKHiOfT6ICPbHvKCRjvMjFgwnSh0TQjuTjzzfASNs3ORF8KrEXXn1y2P+h/eC\n",
       "oBG/gXcJ78bekGbXeSLdLlP046PQlHdWSIxpJ6MR8T+v8UujOvIIk+r0jn1en5AMgd13MQ9fLj4g\n",
       "Gpouuwl8ZV7GoRE3wl6ecfDNxWUQ6Ls4wCuaLepNLTY3358UfZ0L59oZTpQ6JoRVLl9XsAbhr0oR\n",
       "eHrNFOetFuJTn8hKNGI36vrONPd+E9x2xRPtNSuaRtbJR+s+2jKURrdRF90njUIZ4uhPqmWjyzoi\n",
       "r+ddZy4USUfKecjG75vxsdEOsVy8J3I651s+MDQ2dmE3tFsAPxlt/lKgNHoUq+/xSyMLd14rJ9WY\n",
       "FjirI62lG3rlzx7Ll2GjKV4WjcrUDp2oPwr2pD8xjcq1GzkN+2c4W9nGtCVNaVSfp5ssPn0jfGhg\n",
       "66SiUXDEtWYmXsmHl+8wFnqrWCzHRuiIER4j7fAdNABEpvlmQOTlS4UxsRtOwAep0TsZvCSBaRTE\n",
       "cw3/Lvb16LNjUtEoPuzylnqglvynhtEGQrLChGdqfz5w4E3/NIodOPDewKSqhehHLmhVjRtlpH+O\n",
       "6rZ1MBp9C+BJ/zQK5aCB9K62fMfc39r/E7UQ+qjGhMqlxiFGoxUQcfYWDePs3pfgawlBIyS7glw8\n",
       "K00c7N3GskLk8fPb5/MLq2/Bi4bjxS744IJteHktrODfkxRJSYenv7zQOSZUd7rW2BWk0SCjUUM+\n",
       "muF7i1paPXUdfD6aD+UFjVDP9RJdd5Lc8uhZ89KUIxIcgvggv7gF4IRBWoPvTpKNSYKLI/lIUWSX\n",
       "wY2WYOtgbyYejXwhV6PReNIoUMAe9gLTcIDGO7imkI5KgxrMoh52uEuaDNz5F6OfL0Tq0hB0WnMK\n",
       "QJtBXIUDf0I/aYaHeiRFMN9dVobbEX/iUdiWrA1q4zmoQQc+4o33FoPzVh+M35ijucMAh7DcjC+t\n",
       "UmhUT05+Q7xeOn5RuNc4RRIisSQ85yx9vw72OwZxFe5ELLCSFJd6MqTI1JVJMAmHQb3Rzdxfiw67\n",
       "R+pa85eRsr5cbNi6DOjeIt6JS8QTLJel8+IZ0d/cJdMoOp20TyEkpv1x+IbJAhZ5iPYJnYdar3Ta\n",
       "8PL1cw3ujQZf7eCoMwk5y2mdyPhCd2EJ3ky+Ueh2x12Lu9aNauGOZaV7RqVRgtPokQQ75o534nJk\n",
       "e4jsyYVJ/zED0sdkGkXI0YBwDvUQETbDuxP1BOFZt+ljGhZhaw63gD2F7+ggP2ZDGhYdzrjcmw1p\n",
       "cfkHCYfGBN8NQo4SvO0uTGGSFhPqRK1vcxH38mPlwx1NsYg34g0yw/tTbgiklx6YgHBHgKY0p1Fd\n",
       "jm/iToMudsQU78kF7+/tXYto1F8v0whItxLa/sJH8FO2X7xge0s+Blt0zwqLxBy/pzNjXZdnfkzk\n",
       "Agzap13uTeSCuMTeVoC7Pd1ZVhYrsobdhSlM0pze3t4k8o0GeCMGLuiPPg7hjqZYxD3ocsSgQQ5p\n",
       "9GNR1gMTG+4IsGUApIMidG9xNxyDTovm2i1rgPZG4VkKjeiABZER54Ax4kgughiojWlYZCX3e2Bp\n",
       "jh30RX5MeASy1qDLvUFw6zWti17Bl8183SuGGuNHwA8Jv4E6i4K7MIVbF88E+DntjWCAt4V1Tn/0\n",
       "yoc7mmIRI5dRD33eoEEOafRhUdEDExvuKLZmWd8Uh368EzcNbgzR3P4ZdFXyBuAHpiQa4fHuLKFR\n",
       "PxlGmhBx1+ELe4D8Qh9U5GbAEPJv7L2ECv3Ej3kOVVpDRogLeFZPLDMTI89mIJ4heBY2F0hZrGgY\n",
       "7Kfww2ZESQHP6mkEujiKaPSK80rrB0XGIdzRFIuIB1dxINYrpLG0RVUPTGi4I+q6kzKNQkegKxlO\n",
       "wH2w4jjNfZCClUiXtS9LDxkpNLo9AU9fzGAadSVDr4F9xw/x8ja6sHZBV9baZb3ORJDDhPJzLm2f\n",
       "nyRU6EoGl29/cS2QxXNHXMANuU1wKy5it+84jiXiCMdHZVBZhB69tL09SwqjC1oyK+C6HKqECH7N\n",
       "ph999RfOk+7TXSNagxUMdzTGIuL1q/pdBg1KSGNpi6oemNhwR3pCWTn9mNRz9qu965Q1Av340rtS\n",
       "qW1xWUWASyRFngxMTpXnCwaL6EWZCUMpUSQpl3VQXDgAui1U+BAam/t7e9Xv+Tndaat4uKMxFhG5\n",
       "QPbVOYMGJaSxtEVVD0xsuCN5BxQahfPunLbUpNFo9ZtJR7a++LFckB/j2pEVeevEViGxvDhksrgB\n",
       "jsC0rFPEwXFZByWFxUExJ7cBZpremzbtcSof7miMRex+6uQVKQOuhjSWtqjqgXELdzSnPTqNgobc\n",
       "6DRyyYoL+TlTpcV1iykjnjJflDrS263135UPdzTGIqLuP4CmAhs7NFwNgSxtkekx3Rr/cMfIZZ1G\n",
       "Pha+a+GOPI0e7miMRcQBKjtz7lBELQSypEWqx3irFu5YwRQaNNCoouGOxlhE7GmgCZkrFFELgSxp\n",
       "kekx3Rr/cMe66gm+Dl8wDGoVDXc0xSKS5auWjCsUUQ+BLGWR6RH7n+MV7mhexC5UDY149AxPlQ93\n",
       "NMUiYhfIuugORdRDIEtZZHrE/ueEhjvS6Ut10EibqlU+3NEUi1iPNC9Z5g5F1EMgS1lkesT+54SG\n",
       "O9KNzKr8o32VD3c0xCLikMMr1oIrFNEdAjm6RUeP2P+cwHDHqvqjfUHt4Nr4hTsa0liFIor9z8rZ\n",
       "KBnu2JCoIhrBA+rl+IU7ltHEZVrk+5+VtFE63HFpvppo1KW+g+MW7mhqmTEKReT7n5W0UTrckf1d\n",
       "gSqhUVx9zFq4Y1nJO9yxyv7Zg/6vZ2rhjuUk73DH78J/RaObJuu/5atP1tgw9smixyLtZ54vj0a1\n",
       "f8tXS1LaRDsV/G/5/gNWxvDspbBdRwAAAABJRU5ErkJggg==\n",
       "\" style=\"display:inline;vertical-align:middle;\" /></a><br>(see <a class=\"ProveItLink\" href=\"../../../__pv_it/theorems/62fd2371445218098de448a50087f92f7e39cd5a0/dependencies.ipynb\">dependencies</a>)<br>"
      ],
      "text/plain": [
       "<IPython.core.display.HTML object>"
      ]
     },
     "metadata": {},
     "output_type": "display_data"
    },
    {
     "name": "stdout",
     "output_type": "stream",
     "text": [
      "leftward_commutation may now be readily provable (assuming required theorems are usable).  Simply execute \"%qed\".\n"
     ]
    }
   ],
   "source": [
    "%proving leftward_commutation"
   ]
  },
  {
   "cell_type": "code",
   "execution_count": null,
   "metadata": {},
   "outputs": [],
   "source": []
  }
 ],
 "metadata": {
  "kernelspec": {
   "display_name": "Python 3",
   "language": "python",
   "name": "python3"
  }
 },
 "nbformat": 4,
 "nbformat_minor": 0
}