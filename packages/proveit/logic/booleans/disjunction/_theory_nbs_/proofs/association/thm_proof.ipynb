{
 "cells": [
  {
   "cell_type": "markdown",
   "metadata": {},
   "source": [
    "Proof of <a class=\"ProveItLink\" href=\"../../../../../../_theory_nbs_/theory.ipynb\">proveit</a>.<a class=\"ProveItLink\" href=\"../../../../../_theory_nbs_/theory.ipynb\">logic</a>.<a class=\"ProveItLink\" href=\"../../../../_theory_nbs_/theory.ipynb\">booleans</a>.<a class=\"ProveItLink\" href=\"../../theory.ipynb\">disjunction</a>.<a class=\"ProveItLink\" href=\"../../theorems.ipynb#association\">association</a> theorem\n",
    "========"
   ]
  },
  {
   "cell_type": "code",
   "execution_count": 1,
   "metadata": {},
   "outputs": [],
   "source": [
    "import proveit\n",
    "theory = proveit.Theory() # the theorem's theory"
   ]
  },
  {
   "cell_type": "code",
   "execution_count": 2,
   "metadata": {},
   "outputs": [
    {
     "data": {
      "text/html": [
       "With these <a href=\"allowed_presumptions.txt\">allowed</a>/<a href=\"disallowed_presumptions.txt\">disallowed</a> theorem/theory presumptions (e.g., to avoid circular dependencies), we begin our proof of<br><strong id=\"association\">association:</strong> <a class=\"ProveItLink\" href=\"../../../__pv_it/theorems/aee00c5f069c4677b8154ca687832bec99146ef70/expr.ipynb\"><img src=\"data:image/png;base64,iVBORw0KGgoAAAANSUhEUgAABEcAAAAzBAMAAACH9Ht5AAAAMFBMVEX///8AAAAAAAAAAAAAAAAA\n",
       "AAAAAAAAAAAAAAAAAAAAAAAAAAAAAAAAAAAAAAAAAAAv3aB7AAAAD3RSTlMAq1RmmUTNIjK7EInv\n",
       "3XZ/CtNrAAAACXBIWXMAAA7EAAAOxAGVKw4bAAAM0UlEQVR42u1df4wU1R3/7q+budkft5fSRm0L\n",
       "22oJDQLbeJKitSwCTSlSt5o0Rm09YxojmrAkjQ2FcqvxD02vcNqSck0NQyWkiMBB1CqXymlt/ZXq\n",
       "VpEQI2URtAEpIAh3QmT7fs7Me/PeMqs3FJZ9yd3OfPb7Y2feZ9/7vu+b7x1A8GY9/rgNrXZhtUY7\n",
       "PV2rFc6n61vZ6uLP0dZRbrTXan0NkaR4Xl1lJN/q6c/RzHfYQayZSfJl8dRo9buqlbTvTLoASBLr\n",
       "Fs/fo1TpVkvrcF27t1lI8lPtO8ls85NkifgdiQ6Ql7YjamkdrmsLFKxc9VHnl1YGx7XsriNv7e/8\n",
       "gjHgxzc+3Jlf3EA06prJ6Cflt5qfJP8WT9fSlykOGSI4MDOrUB/3hDhePFrj8CX41zJymEJ3c1w5\n",
       "OK6zLsiLKgcPQHRe3qeSed2Gy94K7sFrZr72Dl5uNztJYkPi+Uz6MmPYEcD3q533hQ73GPTi8XF8\n",
       "nPquu47qQRK3FYLjOuuCvKCybif6dX1JVrEeRb/jw4E9CGa6tLewrdDsJElJgzLlTHLxiINUPKGF\n",
       "Dvc2L/6XbZxFaTegmY6w6dXguM66IC+o3IO/27f6VNpeRb8SQ4E9CGZS2jRIYrjZSXJYvPYovWtL\n",
       "M0cdaAv6uZYd63Bv8+BG9XCO0wsdxOnJOHz/S8FxnXVB3quSJB/yAZ/KNvymWQjqQTTTpg9Kbm92\n",
       "kvxLPI3TgaUQPSYsUCrsWIfLCxqGx2FK3rMsStPDVwBW74TguM66IO9V6SECf5ZVjE9JMFoO6kE0\n",
       "wxcxijbFbm6SmCPS/Eo6NZEzT7mRXBkybFDX4WLk5+I3wHJnNrsI4BB1+cmhPXe44mfEddYleY/K\n",
       "tqpSJXkalOI6D6IZmiqYtws36Zu1qdrcJIlIcWs6R0cA4yP0nZtKOyMLaZuPDBhfv/kSCRd55+IF\n",
       "6MmCNY4c3wdAc5MZNIVfnufWfTiz7uI660ze07jKbjYHPdYtqKRZyBrUw24hORAd0t7E9kpzkyQl\n",
       "DaIp8tn3z5rxCVoe/pdid8Jl7F2KF2CehIvNwTO/mzUO3bnxdIwqRWk00I7udnLEsS7j3LqD66wz\n",
       "ee8wyFTeIGe2eagiqKTI8t0K7IGZ4dzRZ4hiw81NkuV5BUksNHzi+ZslnCei20ZzSxQ/Dj1lAZea\n",
       "g28E6ED9NJdl6droN7MD8TJ22rEu49y6g+usczveRCBV2U1OyhCtCCpp0s0TAnvgZthUqx9JrGPN\n",
       "TZLDJcV0E0c/77okSZt9fLYh+FXsJju4fP0cR9/TNLq1b7Ol5UMuLyPH3T0PCefWHVxnncl3fftQ\n",
       "du9KwRRJbSTBIQlToRmSgcAemJnYzGX7gBtTxiTwfHOT5I/y9IpjsBuB5tNZN2a+xS6I4/BXEZca\n",
       "xxN5ksa32Di994suL5d3uySRcWbdwTXWmbx15d9QH+0RVHCWDba6JGEqBh52knZgD8zMY7fmU6X6\n",
       "HHi0uUnyinSOF3oGHlhXlZxutHawNSPH2e44xzehnrVOsAMPvgSTbpinXmADe70H0ecftksSGed7\n",
       "7wwnRh0XrnUmb2zshhE2o3EVvE6/xXZJwlXQejyxFXwenM8ueWBmfvkBdNhOckDZtjGSkADv0qAk\n",
       "iRAn5/6DGtbHcmhfAWvVCRu+Wbvb7UaavHLxRbYXhzQO/7bzAwdfV5sP0VUnBvjdZYmri2udnXfl\n",
       "3HHKh3PrDCdGHReuVy4fqZpD8KagAmseHlMElyRcxZrTORv8HtzPLnrgZsaSrGu9r/70IiXJbBr3\n",
       "BiRJvEii53M/TXJaRrzZqUlqJaNgNHJl6ZvV+OhYh1Q502ccKaveilZGxcPLMMsE+FW98L9KSXIf\n",
       "tt4XlCQmHngWnfuzTfSojHSduRsXPfiA3YCPjkxDJGnQOvSgsSTWV2iAJA16MI7AzgnOzqeybSpQ\n",
       "krTZNNsfMCbBG8tbzn2SxEZ8iSH3S7Z4wXNKpTdqtUZ8xN9XwqNkHX6ERmxjrKrXjadPVUfBQyIL\n",
       "H+brDxB4NY5JEsOhevDA9Qr02n3ukyQz7ItS+qDVFK293gzV0cdWN//cteu14CRJ7dr17sC5f+nJ\n",
       "kz5oaYsQqvafunFRNyPJ9wH+EJwk8TK0kyHQ8r6jngqt/9+lx0+2un8UWrrCSLIQDGezSjH/bX8K\n",
       "vpN1SYJkF5KTJzxxt/WyUtcVeejjwTn8xFw190nFE5w+eM/crVud2WPM4HoFEb0iAOOfnuc8BhI5\n",
       "0urh0SDJECNJu50s8s0qqS27eAV8LWnHbZckaNR5iuZZPMFu8qg6FeOIxCqQGeIn1wAcVEhL8E9y\n",
       "ZKeLhlhv+lOoooi5p7+YSRpfL7dIEgpJolUct85VjdloJoJLq4WkZ7qByTRuTfR6AuybXldGz65I\n",
       "pAAxp9vGAExXiItw9FX0w9d/+Ilc/8asV2QWYkcmCVtzrekmlOkGuvGTs3izKjZz2Z7MtDI92gew\n",
       "F8tN+MZSgSRt5IFayLR59uKrtytXGK5IKgcbnDTtC2C9pRAX4R7U3SbrcgMPVPf7EwmuCKkLQCPJ\n",
       "1XxOSg77J87Qb6lx3hn2tFLdwBW2zAe6WYV3fLKZLDsq0UXjhOSfbvGSJDmedEQ17i6EM/A9lQcs\n",
       "ci/txJ69XRc5V3z6ihllxY0Q4a963oqoc0cekXXkY8Svc2KjjC9PchaKs94LqwMT1fBJoizSSmU5\n",
       "SZZk2XPCeMenTHYkyN5Pgnz3J0Bhv5ckBtk+TpRRjGGwVdFNKJhITJ4tXxkWYavwa8Aaw7cWUHyy\n",
       "ugA37JO2DCjstBdp1xEPKYL7PLzoHt5IiJE0f8iN+pNp4RdnYQ8hFWjt9S0cNUVaOlzTzlSk1VHg\n",
       "JImU+VbgWOhlz/nhvZ/YXf39jyCSrG/zkgTIkBAf3HwS7mebjnMHx9kp2CRHNFgk5cQbPUVzks3i\n",
       "E+M4DFlSr1DYaTjKiTIPKfxFyvk8UBHSpvb39+dQTDLA70/0uHy94RdnEQ/hFGi12ZKapkhLwDVe\n",
       "dGZURVqbBsDzqADdrHoZ9kOPSY9mmeYAHUkSkwWS0KkEjBHnGU7EgLKB+CXNNlhkEY834LYye8IS\n",
       "xSeJESiZQ9LIRuCuS7tueAafdtI8D/EQQUNdpuTzQEW6bpwI8Gs6ksAA71vzmHy94RdnEQ/hFGjF\n",
       "CqKapkhLxDVedGZURVp8g4+NKxlYj3d8xsK0OD3aOYHm2K4E/uSLhyR4JjpKunA9Ges70PCzAp9Y\n",
       "A+QXeqEiVwOGjJNgbQdMEiTeY8MGdM3tRVfchSf3pYoTMfJEETJF5sH6OwDeJ1nhkXdEJvelgeb3\n",
       "EEmecQYA+VGBs1CcRTyEVKD1qqimKdIScZ0XjRlVkdaUnJck8fehN5fIwp2w8AA9+jAPi9AHNXeU\n",
       "6EMkAkmuy8KaE0Xchb25+PNgXf8znIpFJ+ZL0FsyXzJfYCIojEDHU08NzskRkvTmYgsGn3wESKLX\n",
       "EXfh9vJauBarWLOeOwBAPcCauYdskuxFb1D5kiMSKaP7Y+AvxvgPnv2tc3k75ICB3q0Qi7Ooh5AK\n",
       "tO4Q1HRFWiKu86IxoyrSIg+BCk+m5eQj69n+FXJaXmjveLS2Zrwmolwi5x6T6ca5t3ZV4RGxfCJU\n",
       "8q6K7CEKsoc07EVT5fr+fvHDfUWOkEIvzqIeQirQ2iyoaYq0JFznRWNGVaRF8vBekiRs/5E0Tkkk\n",
       "WfZazpFtq33qVeTP4zxXco/Ng1tciQW1isrjajSvjC05Kj4P7nM+NzsaE1Vx+XTpGsIvziIewirQ\n",
       "miqoaYq0ZFzjRWMmppiZXpFJElMc1SeJT9Y98fZb/szisketSl4pogq5pHE2/OIs4iGsAq3LBTVN\n",
       "kRbHrcFOu44Xnxk2NA8pclcySQIkaVvFWSxVpyrOIh7CKtBaLqhpirQ4Hod4pZ4XyQxnqD9T1OzF\n",
       "WfEhBUlCLc4iHsIq0LpVMKcp0uJ4R9EYqedFNsOmXP9IEmnyMs/EccV0E2pxFvEQVoHWJMGcpkjL\n",
       "qbqyKUl0XiQzQpGWmHCtNjdJeBUBb+EXZxEPYRVoTRPUNEVaDg7JSj0vkhl9kRaN/puYJNLyJvzi\n",
       "LLKEDKtAK1iRFsfhN7ZXXC7Skszoi7Ro1eeF8+ewwi/OQh7CK9B6W1DTFWlxnO+86oq0JDO6Iq3m\n",
       "/3NYMemxo/CLs0bfg1OgZagfltDU38DP4ReNeNEVabVnm50kcLd4Gn5x1uh7cAq04vlGSGKsfPAH\n",
       "DTjRFmndZjc9SXrF72z4xVmj78Ep0FLXTOqKtFK1WiNPx2iLtFghcjOTJCNeW/jFWSF6+H34t8tf\n",
       "pHUh/Nlw+R8QhF+cFZqHzFmo0PcXaf0YPhNJrjqv/ilSWw5a7bM3kz6qZj2+sTGStP4p0gXU1tIB\n",
       "Af9TpP8BW5uB/tLsQfsAAAAASUVORK5CYII=\n",
       "\" style=\"display:inline;vertical-align:middle;\" /></a><br>(see <a class=\"ProveItLink\" href=\"../../../__pv_it/theorems/548d319e6ed66bbce6c8114c387df24531c39d080/dependencies.ipynb\">dependencies</a>)<br>"
      ],
      "text/plain": [
       "<IPython.core.display.HTML object>"
      ]
     },
     "metadata": {},
     "output_type": "display_data"
    }
   ],
   "source": [
    "%proving association"
   ]
  },
  {
   "cell_type": "code",
   "execution_count": null,
   "metadata": {},
   "outputs": [],
   "source": []
  }
 ],
 "metadata": {
  "kernelspec": {
   "display_name": "Python 3",
   "language": "python",
   "name": "python3"
  }
 },
 "nbformat": 4,
 "nbformat_minor": 0
}