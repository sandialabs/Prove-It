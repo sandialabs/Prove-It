{
 "cells": [
  {
   "cell_type": "markdown",
   "metadata": {},
   "source": [
    "Proof of <a class=\"ProveItLink\" href=\"../../../../../../_theory_nbs_/theory.ipynb\">proveit</a>.<a class=\"ProveItLink\" href=\"../../../../../_theory_nbs_/theory.ipynb\">logic</a>.<a class=\"ProveItLink\" href=\"../../../../_theory_nbs_/theory.ipynb\">booleans</a>.<a class=\"ProveItLink\" href=\"../../theory.ipynb\">disjunction</a>.<a class=\"ProveItLink\" href=\"../../theorems.ipynb#leftward_commute\">leftward_commute</a> theorem\n",
    "========"
   ]
  },
  {
   "cell_type": "code",
   "execution_count": 1,
   "metadata": {},
   "outputs": [],
   "source": [
    "import proveit\n",
    "theory = proveit.Theory() # the theorem's theory"
   ]
  },
  {
   "cell_type": "code",
   "execution_count": 2,
   "metadata": {},
   "outputs": [
    {
     "data": {
      "text/html": [
       "With these <a href=\"allowed_presumptions.txt\">allowed</a>/<a href=\"disallowed_presumptions.txt\">disallowed</a> theorem/theory presumptions (e.g., to avoid circular dependencies), we begin our proof of<br><strong id=\"leftward_commute\">leftward_commute:</strong> <a class=\"ProveItLink\" href=\"../../../__pv_it/theorems/ad063cc1f53727da49cba8d9b4b33ffd2338e66b0/expr.ipynb\"><img src=\"data:image/png;base64,iVBORw0KGgoAAAANSUhEUgAABaoAAAAZBAMAAAAiUQQoAAAAMFBMVEX///8AAAAAAAAAAAAAAAAA\n",
       "AAAAAAAAAAAAAAAAAAAAAAAAAAAAAAAAAAAAAAAAAAAv3aB7AAAAD3RSTlMAq1RmmUTNIjK7EInv\n",
       "3XZ/CtNrAAAACXBIWXMAAA7EAAAOxAGVKw4bAAALh0lEQVR42u1cfYxU1RU/OzM7H292htnUGrGB\n",
       "nWZbQ7KFjmE1pR8yVWhFJE7xH+ti2dY0RGLLkDQ029LuaPxDk5UdTKlgGhnUNCWADlT7waawgBZb\n",
       "0zptqSGkG4cgEijFFeVDadne73vue+8Ob4JZaZ2T8Oaee3/nnnPn/t555703C0BwmTZWhJa05AqX\n",
       "9Nhfm4H3t76xD0FamaTpb2t2i9VXeubJso9VluFVTU636v/86/oGZ3WGfnQHZHUb/QjlWlybPOnh\n",
       "HysswyuanM4P7xzv/FisanTNmejsvK/khdr6LRLe+Hbn1ev9x45PrJ26ttjMAASYKJ1jrJ5P28sC\n",
       "sjpSIB/R1jVx8sThF8jQhOppq5BDvA4N+5FcSw9rwIXH6JMnILQoZyL/QCDnfbC2fovHjjJAFzoL\n",
       "sMlZwvrTflFaByDARMsZqx8gx1g5IKvjNLMPtLg2eRLhF8ZIl0olYbqVCcEUWz+Sm+hB5kuFR+jN\n",
       "B8nhjqKBjF0EaH/XO7Ot3+ZxkECW5lHy1iZxMhXc7mNjHTCuAraJehmro4T0yWzQupqeCTtaXJs8\n",
       "6eAfv96tyVND5bGtH0mKkrHfg9fo+2naW2IiwyQfhy96Z7b12zzOJe7m4myuTdI05S/NeW2sA4bY\n",
       "JuqoUFaHiRoNfLc4u3XTOLlyHU+d9bd04qFZ5WZo2I+FpqxI1oNX6CS7eD9kItvGCSv2e2e29ds8\n",
       "dtGzBles2iQxTnN51WtjHTDENlE0x1j6p7GxVwKzumNs7B/VFtcmTxbywgE+mzMeY9SgYT8WmuhS\n",
       "4MEr9CA7/sJEknrYmVbyzmzrt3kkZfimg+5nMNxkCi17hzNeG+sABJkomWGsvhXgicCsjpQgUWlx\n",
       "bfLkXnZcDMM6l7SVIC0u6rZ+Q64BOAUevELvrvsgh588dXXOZ2Zbv8Vj/L1Th+817/L0VPRjbtXH\n",
       "t20g0ERhXlGshFgmMKsJdCW/N8cD/jx3PqwbLFsADQO6Qs9V/posD4N6j8gte0pEa+s35AGAQ+DB\n",
       "K/TrRR/kW0UI7fOZ2dZv8Zg+B/AZ40Ewmoqm/K6Cj2/bAASZKDTKWJ2oJAvgdFm+1diBF+CLGcVq\n",
       "ktZfYO2t6NbXednXVEMeeXdkgVTiGxc+7/MEE0OYHF64cyf5aMfwdn9b+LphnPAG4K8bjMdrcMdo\n",
       "idk+KIL3xmZfgz8aXmLk+Mm8LnKZfVrc0SyDT/EG73dGOitmvynRYihv4LsM9Kv6pNbIn9EkXvJ6\n",
       "5P2BPSYIxZLnjTFlspEe/g3Oje4oxcCW7de6BqDhRHI7xhmrQ/WouitxyZqp6+CTyUqkolk9S9ws\n",
       "7kYFfPK07w5pSLgG6VGpfAngpBdsQIjck2VfCYOvLiLb1UVf49h+L6tFADR3tyGdfkcqw0lFrEGo\n",
       "KkaLDr6DyhULXrR1bBrO16DiQoq5EsnqZ0nxWIP4KVHD9sj3C7w/ApGa2W9KqCrfMHC82GuJfp1h\n",
       "SibybXpRr3s98v7AHqdk8CMT0+Q9unHvwJp/uaMUA3lY5BqAhhPJrDEqnmncpO5KXJdyUnJDdz2f\n",
       "1BUIRNmDQmgfQvXUXX/284ogbXkIj0vlKvK9+JRJGEKW8kfyLy/gkTKyjZR9jWGBh9UyAPoutA/p\n",
       "3aSpqjapiDUIVcVo0cF3ULriwQu3OjYN52uQceEgzZXICoR0pshmhQTHUvGyOq1I/5RC7LzZ734I\n",
       "9ghgvNhriaZPqiFpIuPv8Iu626PoD+xxmKyq7Yz52E9ORcm+lbRnumzkwBkYLJnhQ+OJxBdZ46ze\n",
       "QR9C/50S/pY1h9NzSrz1BsARiprx6R9jVievY4k7HUW1eP2bfl4RpCML21R1tRecv/k8l8UQcmNO\n",
       "0mo8y+EoiRuKYYzyf8IdQJnfD0s9AeiOVypiDUJVMVp08B2UrkTw3K2OTcHlGsr4Pt2NFvIkPR3p\n",
       "w9dxzer09byIFP3hiuCY7HfLkY8DxrO91mj6ogR2mkhaD8fPej2K/sAeSRkOw/3Q+7lTmSPrXVPR\n",
       "GX4KmtXKtxj4vGS1HHDzyzURcULTYLjMWb2abLZD8+TTS3IdmXRGtIoO4/+M5FN9iNWxPZzIEf3U\n",
       "Og1f8fNKIav4NX/wSO81qlC/OPvLPvUthhCZpuDvg7zcuRRsTMiyyMNqFWM3z69SJ2mxD1CO7BNr\n",
       "iH1LqjpGf92wNRbEXE3DbnVsAq7X0I3yvgctZDvdILqoc5pjzmv8U/ZDsob7HUJHeK5fHgC29Rt4\n",
       "Z9yYJUTyb584UyUySk67Jcu9HmV/UI/3k1Pp9xXnhn2wBw67piJR3JNHrFa+5QD8zhigUzNH7OCZ\n",
       "iDqhtVukylndRvYkRC1/8CZMKdFe1qq0s9w5A/LHEauBca+9RNJNTCSau0h2aZ81312AUEiiKMph\n",
       "h1x3ByqiBt6Uh8VvuE5yDlHyIiqZIZXRtkTx+iKlKvzFzWodY4LlSKYzv2X8KJMrdA3wuFR5jMwW\n",
       "6RZbPqh8E1cvoraIzZhLriGBn5JiNJJHATZPLIfQxrNVxTHx9kH1w6MV3A8H6PU5Lw/qJYbEh/oN\n",
       "NDyz9iq5GfIdDP1R0mMAbo+qP6DHqfS3UFmIPdsP51WNq6fa8FVArEa++UD8kDHApj4gvXkmok7e\n",
       "p7CC/iUq4zJMhyFIZXlrCYTv27DhMcLqLVHMag4f2f4+PCi8LhzpqnTAc+6inEI6VDk8WIjPrIga\n",
       "OHYGRp1xE84gWqVVbkiWzMNFbUsUry9iHD/nZrWOMZzrkzrzOxulSKHQNcCoVHmMzBbpFls+KE9C\n",
       "6koEz93y2Iy55Bo4AFu6VkI3CV3XQjXLc6qA7xuMvQ4kH5DHtnp8FGw/5Z9psxqoNOmE3ijCj0Cz\n",
       "OnU3Pb4Mx2Ewzlvz4vEqz9XtszysrgMtrMQzScLHUoycD64ChEIGVDm8tCQeL5LKsf08FOOu8phB\n",
       "wjfPnt/DtrGT/DvG4OSC8V2Qtkzx+tpHrkN16L2zB7Maxdj/hNSZ3yh+kcQUvoayVHmMzBbpFls+\n",
       "2Nvdu/g3wpUMnrnlsaG50Br6MTkQWq6Ekj1/aY59D77fzPbzvb4sVjfpsaOULsfGS82xOpaPFZtz\n",
       "EskTF7cgVk9JwxaIjZMcPSfCWwdn8GvtDSArIs1qWpucZju1BeBOYk3y+zpwqkSVBw75AtA2KSWd\n",
       "A4yZW1jluI3sVKKgwQoSOg4vhaq0e2sB0gUGL8LmurLlittXjNSK5K5qVjmFWK1jBLi+qnTiF8Kf\n",
       "AGXLFL6GMD2LmSpiPOTS/W354KxyR6FHuOLB87aIDc2l1sABYhkGWq6EyuOX5Fhs/cO3NbP9ZK8v\n",
       "k9XNehwkiTRczjfH6oGHH6o05yT1YIn//FRVIEdhKNuegWWw8gRv/TMHA4T68deK6qGqYvXtGXjm\n",
       "bIHu1FA2sgecO74NkRLE98JQMb6fHvYKCCkeSfvGCyMLsoyZQ9nwipHnaWV2K7Xl4P0ast7pJ1UU\n",
       "0Z15u05QRJrAaZHFbKXi9vXmhZF5RXp/sAqxWscI7HeJQqcPK+kvD4VrrvA1sB+PU1XGeMil+9qK\n",
       "wUTp56zQo6548LwtYlNzoTVwgFiGgZYrYdWw5tKvLtR9k9TExHhTFcjRoMgPyuPXIFqMTffn6A9X\n",
       "7PI3enViAppzkv4l8Ds5/BdeWXfL+e2Gda435oYcQkY706IQ5ue4RGRRL60iJDxZqSOHClILVVNh\n",
       "pGf9bC2+IAVH7jbewsgYkTC/tivzUz7rC2hLnPdArcEfCblf+u5slDDlShiz6tCS4MLKVsTq9oq3\n",
       "ZYqL1WteySpodOI/ALpek61dRd2On9yhZ14xUUNuJMTJpAttx7SuEIatxRdsgp6cm9U0RizUr02S\n",
       "x7zrC2pLnB+F6fY60D0XW0ODyXpaf0V3GYJYHfZpNWS1B5rzaZntsL+tewtzjeF2X+DJ1S35aLP6\n",
       "0vKd/43/DyTW2taPtKTH9v0XBrB+aS+SSygAAAAASUVORK5CYII=\n",
       "\" style=\"display:inline;vertical-align:middle;\" /></a><br>(see <a class=\"ProveItLink\" href=\"../../../__pv_it/theorems/d5555159954ec36dd9976b10c25d6ca1bd5b24760/dependencies.ipynb\">dependencies</a>)<br>"
      ],
      "text/plain": [
       "<IPython.core.display.HTML object>"
      ]
     },
     "metadata": {},
     "output_type": "display_data"
    }
   ],
   "source": [
    "%proving leftward_commute"
   ]
  },
  {
   "cell_type": "code",
   "execution_count": null,
   "metadata": {},
   "outputs": [],
   "source": []
  }
 ],
 "metadata": {
  "kernelspec": {
   "display_name": "Python 3",
   "language": "python",
   "name": "python3"
  }
 },
 "nbformat": 4,
 "nbformat_minor": 0
}