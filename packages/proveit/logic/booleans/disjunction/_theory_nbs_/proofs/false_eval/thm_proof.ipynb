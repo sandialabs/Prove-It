{
 "cells": [
  {
   "cell_type": "markdown",
   "metadata": {},
   "source": [
    "Proof of <a class=\"ProveItLink\" href=\"../../../../../../_theory_nbs_/theory.ipynb\">proveit</a>.<a class=\"ProveItLink\" href=\"../../../../../_theory_nbs_/theory.ipynb\">logic</a>.<a class=\"ProveItLink\" href=\"../../../../_theory_nbs_/theory.ipynb\">booleans</a>.<a class=\"ProveItLink\" href=\"../../theory.ipynb\">disjunction</a>.<a class=\"ProveItLink\" href=\"../../theorems.ipynb#false_eval\">false_eval</a> theorem\n",
    "========"
   ]
  },
  {
   "cell_type": "code",
   "execution_count": 1,
   "metadata": {},
   "outputs": [],
   "source": [
    "import proveit\n",
    "theory = proveit.Theory() # the theorem's theory"
   ]
  },
  {
   "cell_type": "code",
   "execution_count": 2,
   "metadata": {},
   "outputs": [
    {
     "data": {
      "text/html": [
       "With these <a href=\"allowed_presumptions.txt\">allowed</a>/<a href=\"disallowed_presumptions.txt\">disallowed</a> theorem/theory presumptions (e.g., to avoid circular dependencies), we begin our proof of<br><strong id=\"false_eval\">false_eval:</strong> <a class=\"ProveItLink\" href=\"../../../__pv_it/theorems/e3cbed2840b2309e6995d785c80a03d5bd95216e0/expr.ipynb\"><img src=\"data:image/png;base64,iVBORw0KGgoAAAANSUhEUgAAAeQAAAAZBAMAAAAS+0C5AAAAMFBMVEX///8AAAAAAAAAAAAAAAAA\n",
       "AAAAAAAAAAAAAAAAAAAAAAAAAAAAAAAAAAAAAAAAAAAv3aB7AAAAD3RSTlMAq1RmmUTNIjK7EInv\n",
       "3XZ/CtNrAAAACXBIWXMAAA7EAAAOxAGVKw4bAAAFT0lEQVRYw91YXWgcVRQ+mZ3dnZ10J/MiaB7M\n",
       "glqQEruyIVAfStqmUlqLS/pgEVtWQaIVzPZFjE2aafFBaYxBLHT6YBYUocSfTXwQW7RbRaz4t4qo\n",
       "FBc2ViwpVWPFtCqy3jP33pk7k7mz7Gqp9sCZvXvOt7Pz3XPuuecOQLR01L6Ga0mM2hfNIAm41iR3\n",
       "dSgnmV4RKUZ7rhLl75gS4gXJpBRau+Nj3nC3FLSbUjbx46Yoyk0QbYhSpor3X5L871JrtxwRlms2\n",
       "xL/D9eRgM46Hoyg3QbQhLzMlstal1lEiF60O0XZPuvEyxSexIXj2hPzlba4nBwcwi6ajKDdBtCGb\n",
       "mBLZcIkbY8gqZUG03ZP1eDnCvqg9wgruk1LucygnyCR2ZqIoN0G0IRWm5L77LrvWqrAkZXZB0uKK\n",
       "f/OkMCerSjLK6MlBLBtZo4irCaKNpVygSmS/cdE1zxPdyMYyuyAYBZVFIln/WYhJIiujjB5SsT+p\n",
       "1T6KrtjRiNZFLVMlMqD86iu6VTaW2QM1Pc3vCGsFmp2mjDJ6COUtAEejKbsIMWH0cHwwp2Jv8NGh\n",
       "rWIUaCTiGe1Pr9GzwGBVSmb3yfUAP7HhEDxbFv7TyaDtNZTPfZTRQyjvhWRgVsa35WOnBMocoZ8W\n",
       "QK9YYYx9EJRJGjS8zLmrMEMVo5P8hfyo3zFrJqRLPGpon53rDth9QsrqGZ4UMCFwUCqyKKOHUE6V\n",
       "OvOeS1uw84p5HLYKlDmi86Jwj5OhBU2ETN1wGGC1M3Tq/Wq3vOSpAiwObvidAH+k9mG4mSGofQC2\n",
       "B+z+BCwqA2wnfn6wR9hStCUZZfQQykpdrE2DJHjKehXKAmWO2Pmph4tPhuWaCFG3eDwllHVyj7/I\n",
       "Zy+1r+G7P7P/BhOWzx5saBJsZ3oNoEtY7XFplOM0ylAgO1xs09SCsc6i/Yly8J66SNlBEKnfL7Q4\n",
       "CTPsMQTIWZBRdhNbJfqtRzmtTfO8dux3MMquPSDVp928hnTF5QBKVbaW0YOU50lP8uJ92VWmYcIx\n",
       "x2Edv8VHed7pZwy4U+CmhjXBAkSnj9nvUd7FXak6VacLHPEoG7fnve7Q6SDf9tsDcvY6FtWs06By\n",
       "DhCblkUZPUh5jKCe+AG6LLJx7KCUVWNapDzmRHQnXAAYpYUkbhkVGPo++CgOxHsOsnge8ignzgub\n",
       "CGoSE3Cm6FLWv2LbD7drZ3z218ks68tsQORVNutjOI2XXA58AwyhjJ4c3QQAbiS1lSRbv23bGcXS\n",
       "ywWRsoOAbSd6SlovpayemPsDKnqwTiCE7xQP2/ZzcKDbo6w8ystL1VF9ZrkEtzYecSmzhsOzs/nl\n",
       "jUgaq9WXfOA2Iscae0CZWS5zDpAORoLk+MdOjqPHPTyehkWY0OAQjTIM1VccHg3ApcW2izokL0NR\n",
       "qwTzmkBiG3Ob11ig0ale8CiPubhvmHLplRwgB5LFVlocxgHGpYhx4bycXCJztE4l+xEGKA+GuYIy\n",
       "yfmuDFLWy07Wku0olYdZ/MouFKIswvt4MjwqLV9Od9/XnPLoU0+WWnnvwDjwE4vkPMMpx02yEew9\n",
       "D0k8mjwzzA7JImX1FOh3P4iUtXfhLhNeWs5jWzaZ0T6AySJeMgxyRC9gyo1ajGenbX9ovyBSThWp\n",
       "Mtk38k7oA37WaLQSZJeD9NTneFa8FZm17XzUWxFMbIWXoRJJf68j4aOqUk7HyJJ8yz4s8hSGWM31\n",
       "f/U4KkqqGOlp9UWQdoGca+7lbyIaVYi7qcdHumnkO85x664wyrCf6RWRc9Gett59iWezWMjI93u3\n",
       "SdMe+L+84fyn77EP8sHj/5H32O/9DRM1b/jkiv1GAAAAAElFTkSuQmCC\n",
       "\" style=\"display:inline;vertical-align:middle;\" /></a><br>(see <a class=\"ProveItLink\" href=\"../../../__pv_it/theorems/033bb8e8b4c988fdc2d20e7255003ecfef7832580/dependencies.ipynb\">dependencies</a>)<br>"
      ],
      "text/plain": [
       "<IPython.core.display.HTML object>"
      ]
     },
     "metadata": {},
     "output_type": "display_data"
    }
   ],
   "source": [
    "%proving false_eval"
   ]
  },
  {
   "cell_type": "code",
   "execution_count": null,
   "metadata": {},
   "outputs": [],
   "source": []
  }
 ],
 "metadata": {
  "kernelspec": {
   "display_name": "Python 3",
   "language": "python",
   "name": "python3"
  }
 },
 "nbformat": 4,
 "nbformat_minor": 0
}