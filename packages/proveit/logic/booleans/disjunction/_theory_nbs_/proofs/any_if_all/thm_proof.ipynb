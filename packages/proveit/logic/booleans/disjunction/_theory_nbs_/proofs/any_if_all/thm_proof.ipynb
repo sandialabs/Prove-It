{
 "cells": [
  {
   "cell_type": "markdown",
   "metadata": {},
   "source": [
    "Proof of <a class=\"ProveItLink\" href=\"../../../../../../_theory_nbs_/theory.ipynb\">proveit</a>.<a class=\"ProveItLink\" href=\"../../../../../_theory_nbs_/theory.ipynb\">logic</a>.<a class=\"ProveItLink\" href=\"../../../../_theory_nbs_/theory.ipynb\">booleans</a>.<a class=\"ProveItLink\" href=\"../../theory.ipynb\">disjunction</a>.<a class=\"ProveItLink\" href=\"../../theorems.ipynb#any_if_all\">any_if_all</a> theorem\n",
    "========"
   ]
  },
  {
   "cell_type": "code",
   "execution_count": 1,
   "metadata": {},
   "outputs": [],
   "source": [
    "import proveit\n",
    "theory = proveit.Theory() # the theorem's theory"
   ]
  },
  {
   "cell_type": "code",
   "execution_count": 2,
   "metadata": {},
   "outputs": [
    {
     "data": {
      "text/html": [
       "With these <a href=\"allowed_presumptions.txt\">allowed</a>/<a href=\"disallowed_presumptions.txt\">disallowed</a> theorem/theory presumptions (e.g., to avoid circular dependencies), we begin our proof of<br><strong id=\"any_if_all\">any_if_all:</strong> <a class=\"ProveItLink\" href=\"../../../__pv_it/theorems/5693c04ccb181d75f58de3b9cebaeb1a4831fd370/expr.ipynb\"><img src=\"data:image/png;base64,iVBORw0KGgoAAAANSUhEUgAAAf8AAAAZBAMAAADNtTqmAAAAMFBMVEX///8AAAAAAAAAAAAAAAAA\n",
       "AAAAAAAAAAAAAAAAAAAAAAAAAAAAAAAAAAAAAAAAAAAv3aB7AAAAD3RSTlMAq1RmmUTNIjK7EInv\n",
       "3XZ/CtNrAAAACXBIWXMAAA7EAAAOxAGVKw4bAAAFCklEQVRYw91ZT2gcVRj/dnZ2ZzubnYwHQTw0\n",
       "A6IgtXRBLeYStroRaRTHeLBIDysihfbQLUilGs3Yk+Ka7kFo1oMZ0EuJ1m0PCs2hG6UYLMoiilAa\n",
       "mJCiRNoYFdJokfX9nXlvdyY7SzcQ+x0m837v9+3M/Ob7vvfNC0AcSyz+DHei3Vi04hHTcIdaMr/9\n",
       "BShv0e9q/xMBDBqkxyOmj/f41CX/NOVRAUw8uK+7ALF4W2C76J+jEdNHe/u19FpwvkwFGMXnh7oL\n",
       "EIvXf9PpK1NaPnIvPkyxQRQumITvEQRIu0SAt3FgVLsLEIvXf1NpkqpDfikYwYdpPh2BCybh+24K\n",
       "BbBABMA6ZK3uAsTi9d8G6J8vLzocyYmpHIULJuLZNzaEmW+JALgOdq1xaYjH6789QGuX97uvPX4L\n",
       "KhtF4aKJ+FvGn8LMy/SpvltcvBxnFYjD67+N0UiHPXmxkOd4BkTg7YWf4wXlL2HmHBXgKYAPQ6+d\n",
       "lQXwea5Yo8Jv25VGhTByLE/ylpCNw6m6D90DsMpOo3DJAjxlZW4JE3upAMdAM8PrjywA5+kLAudT\n",
       "J7R0L0jDahg5lifAD0zCSXTtj2kmo3J8xZcW4frcXW4bLlmAq6D9IUw8RAXY4WZt2ePNMTs53yEA\n",
       "52XFNLoYWhYlSiCARI7lCXCJNEMfFIeqkFlt0pspKyymKK6C2pTxtvz18ZXivr+FiVNUAMUTa1tm\n",
       "qWYr5gXY3yEA5x34PsBTFS/skiIlEEAix/NkApwFGETPqFABlHqarX0UH7S1DRmXzcd1dMl/hYmD\n",
       "rBUujQhgEUWmMqJCPVt8pjgqtcKM570k9Knp0OwRKYEAEjmeJ0sB9AJzDV8AaL4bFBeEJ10qQIC3\n",
       "GcfxG70K8Mhjq+Yybgx2MwHOH0YnT0wtGcMOGBhQTr7g1TsigPDQncOTwv2qpbD2XaQEAkjkeJ4A\n",
       "H+FoydMelguwfDeLIoZDtinh7cbx50nrrD/6NczDEjofZgJM4PpyMD9gGiacITHjXLg/RIAJ8s4O\n",
       "wHWAE7RYpxyjAePX7PY4xpQOAQhZYwtOTE+yVMEErkA3AwE+Y9pxHN53RVxfR4fPS+wkwDUURDBT\n",
       "1s6WYIMsr2NMgASK+td/gUFHrRORkACqUe0UIEHq9tjckJvZTa+ozp37Bxr6WvvajSidAhDySV6P\n",
       "43miZwM40zoMysx63ReAtTU+zlXl7c6PuP8rsBMf12fWXXiwdQQSXqZBUusn8XN4J1QgZ8HeWq1m\n",
       "KY5eL3X0ATxIYdKBHL1ND1D2lTON9jhGlOTjD4/uckQBCJkvSDE90YMIqyUXoN1ehdd66q4do6qt\n",
       "OaA1RQEWYAUmM/AejQAY9yL2A1CIDFpYAL1OchAtWztsPJilh1lGUVbgklIXBGBkJIDkOSv4dnrS\n",
       "L5YuAmjT7+zvRYBJFAPJaoF8Z/kCaGsoBoZVtNjji9pgmOECqPOgP/sKFiDzFTxtwifrNm4R0aBS\n",
       "znyDDhWLUab1Eg9JIgAjXwHZs2IRN3wI8UR2OnjQL26FLp0DrdZaLwI8hzoDbacLJ8QdoZSJvvWP\n",
       "/YbUxHl3iO1/RO4I4RRQeO/iesEAgN96U6nnknIjhA2ngORpbeaJM33LPjNOh26JzdZqdtctscz1\n",
       "8wAv8j2ZVjMYQIoVMd007MSvHQJMXbZkz5S7mSf54Nuqvbbybe4J5kMHyRBmdRPPJGzmuX12hW/r\n",
       "/wJl2K5242r+P4vahFzfdpVGAAAAAElFTkSuQmCC\n",
       "\" style=\"display:inline;vertical-align:middle;\" /></a><br>(see <a class=\"ProveItLink\" href=\"../../../__pv_it/theorems/c393a214fe750c9ff49691287f1b2a5508b7fb680/dependencies.ipynb\">dependencies</a>)<br>"
      ],
      "text/plain": [
       "<IPython.core.display.HTML object>"
      ]
     },
     "metadata": {},
     "output_type": "display_data"
    },
    {
     "name": "stdout",
     "output_type": "stream",
     "text": [
      "any_if_all may now be readily provable (assuming required theorems are usable).  Simply execute \"%qed\".\n"
     ]
    }
   ],
   "source": [
    "%proving any_if_all"
   ]
  },
  {
   "cell_type": "code",
   "execution_count": null,
   "metadata": {},
   "outputs": [],
   "source": []
  }
 ],
 "metadata": {
  "kernelspec": {
   "display_name": "Python 3",
   "language": "python",
   "name": "python3"
  }
 },
 "nbformat": 4,
 "nbformat_minor": 0
}