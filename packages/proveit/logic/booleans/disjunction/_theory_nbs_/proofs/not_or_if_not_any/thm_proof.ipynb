{
 "cells": [
  {
   "cell_type": "markdown",
   "metadata": {},
   "source": [
    "Proof of <a class=\"ProveItLink\" href=\"../../../../../../_theory_nbs_/theory.ipynb\">proveit</a>.<a class=\"ProveItLink\" href=\"../../../../../_theory_nbs_/theory.ipynb\">logic</a>.<a class=\"ProveItLink\" href=\"../../../../_theory_nbs_/theory.ipynb\">booleans</a>.<a class=\"ProveItLink\" href=\"../../theory.ipynb\">disjunction</a>.<a class=\"ProveItLink\" href=\"../../theorems.ipynb#not_or_if_not_any\">not_or_if_not_any</a> theorem\n",
    "========"
   ]
  },
  {
   "cell_type": "code",
   "execution_count": 1,
   "metadata": {},
   "outputs": [],
   "source": [
    "import proveit\n",
    "theory = proveit.Theory() # the theorem's theory"
   ]
  },
  {
   "cell_type": "code",
   "execution_count": 2,
   "metadata": {},
   "outputs": [
    {
     "data": {
      "text/html": [
       "With these <a href=\"allowed_presumptions.txt\">allowed</a>/<a href=\"disallowed_presumptions.txt\">disallowed</a> theorem/theory presumptions (e.g., to avoid circular dependencies), we begin our proof of<br><strong id=\"not_or_if_not_any\">not_or_if_not_any:</strong> <a class=\"ProveItLink\" href=\"../../../__pv_it/theorems/d88ce0a1575e5347b6b5a8913e37b07e1fd114e20/expr.ipynb\"><img src=\"data:image/png;base64,iVBORw0KGgoAAAANSUhEUgAAAloAAAAZBAMAAAAbJp0yAAAAMFBMVEX///8AAAAAAAAAAAAAAAAA\n",
       "AAAAAAAAAAAAAAAAAAAAAAAAAAAAAAAAAAAAAAAAAAAv3aB7AAAAD3RSTlMAq1RmmUTNIjK7EInv\n",
       "3XZ/CtNrAAAACXBIWXMAAA7EAAAOxAGVKw4bAAAGV0lEQVRYw+1ZXYgbVRQ+mZkkk8lmdnwQxIc2\n",
       "0qrIYhvZrdiXkna7Kl3FcftgbUUiIgvrQ1MoFbXtjj5Z3NY8KHYF3ZFKYVlt033wZ/ehWUuxIEoo\n",
       "oiIupFYtK6VGhW21SLx/M3NmMpkQpaaCB87MveecOTf3u/eee+4NQDTFFr+C/4mRvni2nUniuu5A\n",
       "EleK16qVouO8/7+N1nd46LPstaeF6Z4Ox6HglR8XTNAy6GtVFFptLLpIUhlV+vhrZwvbnZ25TtTR\n",
       "OOQ4E7SGaH00Cq02Fl2ko6is8ckgNbyQa5OHWoNIOaKb6eOQqKxFaMGY4H54gU67UhRabSy6SIOo\n",
       "rOT4a6UbvmQKSMqCSDmiDfRxWFQ2XkaaAcH9kCBIp7NRaLWx6CJVULmHvz446cFQReGqlRxRBoWr\n",
       "9PNXsG+bcz/IuchQTlRtLLoYtlAkhtt4cK797I3rLOFNECnHRGeEIqz2679iEHKcyZ742eLip9F7\n",
       "YrRF90jBQX6Yi2BtzrcNViFSHtwGM6Kcl37DOBqcCVr3A7wRjVa0RfcokUOVJ9lzBF7xIIxZoItg\n",
       "3kruo5sALvFSPKteRQq5wJmgtQuSRjRaroWN96Bwe9s3+GLFFINqvZWiqRO3hzSoO4GGLJsHFwl9\n",
       "QSo8z87DuNcZ1YCM8NtK7iOynX3j/PDkL3jJVzgTtFJ22vR/tW/YlBcQWo6FdgYZvWuFgeUzgRR/\n",
       "rWtW51solIA/2QxrMC+Cr6PcRfg0w/HVzSvJ7n1EBLRRWC3wZXJt/gbbLw/MjKIkPC9t3vg7Uqh1\n",
       "zgQtqYZDuHpu0pSMOdiC0HIs0jjynQzdJX0mAi3NaFbvaKGIl/3+3g5tcEcrtI4B9FZBvVR1ElaR\n",
       "JnK5AkrVLw8muwk+2TUyxf9EiniFMz35FDYgxWYygtIGBcr45CMstn2OHEyErXyfiYOWYjaraVYS\n",
       "qhjz+xsKbTBhuyvRReusmHQZumoEWhm15E5GIu81k1f88gBVD3gz/FsMY5UzRWuW/EJ58NA5fb3F\n",
       "E3zpxUdqPrRmeR9qT6DTQCI02GETB61MiJrlb2GK2cDvD21QZH8pB7/dhN+iiOb4kcVBS7+Lj4eQ\n",
       "y7ZAy5EH6fyN/L2Vn5QG7rlknKfpqlziTNHaS37GkcdyPYZuwDSD0pq71YfWXoMH13tR95RC2KUG\n",
       "NnHQ2hOiZgEiTLG61dkWNyjCSxoP2An6O2mblz20tC/525FDuorl2jJ5HC+IAqH3eBNJmvVOFbV1\n",
       "p2ABzolUhXI/31DhuR+h1yKCrRwtRS9htGIswG6DiwDP8kUQt/QKjHwfHCJmEkTrUYCPJicnq9hD\n",
       "vNSkiK8Z4jIcMEqQJhZvigaRmMVYnDQdBJhujIE0tVx20RI5qCuHgzaWA91LM3lRACc31aaWbbij\n",
       "8XTyWAGusDwuY3J2b2xWwASNA3eT35aVLK1caL6xGZ5faat38vaU+RN/QEWrB9CiJk1o3cIrBvbA\n",
       "Aodf0QPHSeWAP+7y2RMTDbpbkRjLr/G5xfLHmdBrmM7SxlhNrbB4uE+wi9YZWIJxFV7mcwtGak1o\n",
       "kSxn3HISlRqQEFBUK8GFSEzkTf1DfRZC64ADCvLA1pJfkSTjFVyJApaYaHBg1cDIh95KZCddN9fI\n",
       "t0drNzzTCVo9ll5K1i1+eh9EaCXrZHatV0hqxZMc3WhCiyzS3iztq1ZmYZPs+SmTVmb4Y0aYSEtw\n",
       "Wlw8+aJ83vNAcK2RbwIKeA1oMj2DfIoor4gG15R6zD72tZi7+Lr09bZoJQ+/tKUTtMbJ7JJLeXYB\n",
       "wy5hHLTiBklBdv1EHNIQMCquADFaygJoDz1F+6p+DA8Y8M6ySY9EpDJRVD8hj4msMDmsFcThNOXr\n",
       "k+eBysiHAYVisT5PZJk7+si6EPAGU9ZRFnKcDzWcCEx7qLx/NTS96Wk06p2g9TDJV5MrbNYca7Lp\n",
       "pnlmctKMummmfZWcjdyueRUAJ/upSuWMjNAKZJwMrWn6YUAxp/P+Z5HHHYE7lT6o5hAw+/HMqV2r\n",
       "8+gFwR3fy6sXSUK03bm8bVS9CsRFfNcM3YxdwCef+5o8UNH2gCLRIOmzUnT9MI9K0Z/Z/wArioHv\n",
       "/kX6W/9i5EIrcrNhypmDEHL8y4Up1mE/tDQX0r5sXrdo/ZP/E5NhFxP4PsGOvMJoddWhdQcrffHU\n",
       "XxgNwfQWFw/aAAAAAElFTkSuQmCC\n",
       "\" style=\"display:inline;vertical-align:middle;\" /></a><br>(see <a class=\"ProveItLink\" href=\"../../../__pv_it/theorems/c16dbe197266b8888064924233c90dbefbf159900/dependencies.ipynb\">dependencies</a>)<br>"
      ],
      "text/plain": [
       "<IPython.core.display.HTML object>"
      ]
     },
     "metadata": {},
     "output_type": "display_data"
    }
   ],
   "source": [
    "%proving not_or_if_not_any"
   ]
  },
  {
   "cell_type": "code",
   "execution_count": null,
   "metadata": {},
   "outputs": [],
   "source": []
  }
 ],
 "metadata": {
  "kernelspec": {
   "display_name": "Python 3",
   "language": "python",
   "name": "python3"
  }
 },
 "nbformat": 4,
 "nbformat_minor": 0
}