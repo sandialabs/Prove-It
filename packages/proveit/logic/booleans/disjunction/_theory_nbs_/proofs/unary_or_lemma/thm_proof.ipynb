{
 "cells": [
  {
   "cell_type": "markdown",
   "metadata": {},
   "source": [
    "Proof of <a class=\"ProveItLink\" href=\"../../../../../../_theory_nbs_/theory.ipynb\">proveit</a>.<a class=\"ProveItLink\" href=\"../../../../../_theory_nbs_/theory.ipynb\">logic</a>.<a class=\"ProveItLink\" href=\"../../../../_theory_nbs_/theory.ipynb\">booleans</a>.<a class=\"ProveItLink\" href=\"../../theory.ipynb\">disjunction</a>.<a class=\"ProveItLink\" href=\"../../theorems.ipynb#unary_or_lemma\">unary_or_lemma</a> theorem\n",
    "========"
   ]
  },
  {
   "cell_type": "code",
   "execution_count": 1,
   "metadata": {},
   "outputs": [],
   "source": [
    "import proveit\n",
    "from proveit.numbers import num\n",
    "from proveit import A, B, m\n",
    "from proveit.logic.booleans.disjunction  import multi_disjunction_def\n",
    "theory = proveit.Theory() # the theorem's theory"
   ]
  },
  {
   "cell_type": "code",
   "execution_count": 2,
   "metadata": {},
   "outputs": [
    {
     "data": {
      "text/html": [
       "With these <a href=\"allowed_presumptions.txt\">allowed</a>/<a href=\"disallowed_presumptions.txt\">disallowed</a> theorem/theory presumptions (e.g., to avoid circular dependencies), we begin our proof of<br><strong id=\"unary_or_lemma\">unary_or_lemma:</strong> <a class=\"ProveItLink\" href=\"../../../__pv_it/theorems/bbb82ba46b9d0534face5960997acdba2ab9bea20/expr.ipynb\"><img src=\"data:image/png;base64,iVBORw0KGgoAAAANSUhEUgAAAOUAAAAVBAMAAABLdTQ8AAAAMFBMVEX///8AAAAAAAAAAAAAAAAA\n",
       "AAAAAAAAAAAAAAAAAAAAAAAAAAAAAAAAAAAAAAAAAAAv3aB7AAAAD3RSTlMAq1RmmUTNIjK7EInv\n",
       "3XZ/CtNrAAAACXBIWXMAAA7EAAAOxAGVKw4bAAADXUlEQVRIx4WWTWgTURDHp5s0m2yatBdBvTSg\n",
       "iFK1FYrgRdIPRShi0EsPIpUqxQY0KgjF2kbw4sE2iKXGg108CD0oaUFERYyHgmiVKCpFLCwtIoIf\n",
       "VaFVROqbN7PbzW52fZDdt5n9v9/MvPfmLYB/y8CXGe5yR7XZ3E31G0z1EJW3eALuWA/UmyN5F8Ch\n",
       "CoI5z6HOAFQbJKrD53VeLzaAk6kUZD+0IBxqcr1P1gOVhjohfvMk2oXPPR5IrQtJVbrohg1i3iRL\n",
       "o2BCr0tA1q30sBYvQ6Y3y+ipLkXnMVE5D2awCZkBkRKIZInZRpaWJXFpdgna7MydeLlqDlUvZjKQ\n",
       "lCJERxMezBrKaImmQzKL0hA9+wvNulNQtDNjPO+y3X2UFdenUhQQoYS8pnMDMSfFrZWYCo0xEP+B\n",
       "qXJOKFuZiaEEORzV+Ia9bhI9n5195sXsIKaIEWNFZpCWUFL5iYPWOeeiYGdijDHTAo3o4ASJ9gBc\n",
       "k3/rbmY3MauyEDeISaFVJ8J/xC0gw9o7i+0lrATOTFgN8JW7+2EY/dlOopOgSne1J5yf9JHX5vy+\n",
       "Ima4DmI6MWMJ8lr9jq8WHT6S1WKK9fmOu0kYRMpmEkX0aEpmH2doaM0IGIVTG/nNKd6VPbCeezXy\n",
       "3U/tLb9x/yw411yqjBnKKEmuLVfa63FzDJNIMWgJdb4Q/otEC2b0hoPZIHewxdREov9iiov+TKUQ\n",
       "4lJ3G6AWV/9BFnXJfQTGYVknkHn6fnluIRbOgS23QfF7j2OWHPPpyC2ULlqphRiytrBoUpaTOOwG\n",
       "TdYGo306y69eZ1J8W4p7EYNrG5aygLOWSKuNOb+K7tVNVC1hB4v65RLqhM/ShHFe+MCaCSZpb816\n",
       "iytdRY/HMtbWWGm8eSzmLa4I/ejPEm0+KaqSUXU8qNcDx/L5yzifUdZcMit7q8kMl0AbW9Rh03Ja\n",
       "pCvlYAorpnqaU21WhPHlXlDGFgXsjV0UBxjMhgsUZzRurv2s61yZsSHOuTb0jP/RqJbsIjFFtQkq\n",
       "DoJpHgZYkx3MZldFt7dmfyaeGZYo+Bi0fUehT8SlHE/nrTo66mJGVg76CsdRxP8zoK+CSLuXHyn7\n",
       "Y9zF1HJ+AC3nyxz9r1fyOICH1vfQFB0plvFjBcGA75dORor+AbFR6ahJApivAAAAAElFTkSuQmCC\n",
       "\" style=\"display:inline;vertical-align:middle;\" /></a><br>(see <a class=\"ProveItLink\" href=\"../../../__pv_it/theorems/9c7e9f5526d692efc758eeb84ae79d7ff5222f320/dependencies.ipynb\">dependencies</a>)<br>"
      ],
      "text/plain": [
       "<IPython.core.display.HTML object>"
      ]
     },
     "metadata": {},
     "output_type": "display_data"
    }
   ],
   "source": [
    "%proving unary_or_lemma"
   ]
  },
  {
   "cell_type": "code",
   "execution_count": 3,
   "metadata": {},
   "outputs": [
    {
     "data": {
      "text/html": [
       "<span style=\"font-size:20px;\"> <a class=\"ProveItLink\" href=\"../../axioms.ipynb#multi_disjunction_def\" style=\"text-decoration: none\">&nbsp;&#x22A2;&nbsp;&nbsp;</a><a class=\"ProveItLink\" href=\"../../../__pv_it/axioms/3a12f2e98e109c481cfba1ef0427fed927129dd10/expr.ipynb\"><img src=\"data:image/png;base64,iVBORw0KGgoAAAANSUhEUgAAAhsAAAAzBAMAAADMadf8AAAAMFBMVEX///8AAAAAAAAAAAAAAAAA\n",
       "AAAAAAAAAAAAAAAAAAAAAAAAAAAAAAAAAAAAAAAAAAAv3aB7AAAAD3RSTlMAq1RmmUTNIjK7EInv\n",
       "3XZ/CtNrAAAACXBIWXMAAA7EAAAOxAGVKw4bAAAH5UlEQVRo3uVbb2wURRR/3b0/2+3d9RqVGCP0\n",
       "EpXENKY1KJFE6fHPGErCCR8khsApGiJ+4EgMRgV7+MFoLPQkJrRE6Rn8QlEohGhCP/QKQVCiuYj6\n",
       "wdh4BCPBkPb4V0qJnDO7M7s7czt717i9rWGS7t68ebM7+9t5b9683xagQunv74e7o6j9/dmKSn+U\n",
       "rrt4y/r0DIRhLxlbqZSpqPyLq7e+h62mavnYwpvtpJNCrjEcdQNMNRLTTlsF2lundvFg0rl9nahB\n",
       "ynsEx3y22qKfNgu0N0/t4oGioGFBqanptTRE2kQ9j3gDR/A0a7T665RK5uzB01YpgKPcUh7Ah12k\n",
       "0loUNX2HrjABsEk0rnCbJ3CE2Qfy6aPwNRtWLRcs7lYkt5SF+NBDKotuCpqCdwD8aEF4Qmgt33sC\n",
       "x9NsNaSfvhkynzNvcRkiuRVfi8toeGdC0CSjBhlBEhKuo694AsdZtjpXf3eFsZghOor+FoOj3Foa\n",
       "kIaPaL0buSpoqkNWFEB2GhA6j/UpD+CITLL1Dt0moLWNWUyInxfJ+cUkTH7HpWuCplAG1NlopjVE\n",
       "hV446gEcYW44G7TjKug2l986tAAQByOSM+V+gFH9lz+m3BY0de8bnYWRlbHt+Ea0wg5FmvQAjm7O\n",
       "F/6kv1XoRGPbr5u5EoUwsXBNrg42ZTk5U3YA/EYnU/CKoGksBdJJ/NA5YWB6xwM4HuTqpzQL+mRp\n",
       "cwaUUWIKG+FhYlma3Ae+PCvnZnlKiuu/Li1ddEvQ9Cn6w25ZKQqH9pkHcAzbwXEIoDFvRoYt6MHB\n",
       "lDcmghOsnFsiBwK6F1SRKf1j3wR41rSjdr9wdkB7quZwKNfAxljQGwznTDjCSobaCpbLWQKHIedK\n",
       "/kNqKwC/o9DiqdHohR62Sbtvc4Lcw9Z3wOG2msMRuckJ9mEP2KZH1xSOyOMJ3TMSOTTkGTlfLtyn\n",
       "n1drQb365Ek0B8+zTfi+yrjz04aiNYejPmezVdiGG26acKi/6mcqp9tNIlfxYx1O0gPAV/opiK/d\n",
       "lwoeSsIEWcBpEwRQ21ocoPsGxGPLEzg0WB5yhKOSSpUlxGO/E+BAaRNIfeMD5q5SD7YMeXAvI4ef\n",
       "seHE6YFGWmrfeBYeLb0OdQUlR1YsIwjru9I0a7dmcAnh2BqKBI5lut92gqOSSpXlcJyPQ9I2m2yu\n",
       "vAFvTgnydCQTLApyTNvF/eQbBI4deKplHOGopFJt2MHHUXK8IhzBng+WT+UenWh+yJm4feMSBzd/\n",
       "h8ARyOrxvQMclVSqLK1ll9hjPvbXtwu2b7tUKk7lHs+jcCM4x36r5vRG1esEDhm7cGdXWkmlytJe\n",
       "NocP1DI3CPVOqcgrdGX5YWTkbIWVpYJKlWWsbDjBQi3huOjUeIvC8RzA3gpwGCrWWaja6wtzCjCU\n",
       "hZlbvqVwbIEgF6Jt70jIw1Y4qIp6xqL1pa3/ZlRA6es4RpNVsHImwzFC4ajPNljWY+V8b0KKHofl\n",
       "VjioSoM1wTJk61wZFYBnAC7T380zGA0c4OtwSAWrm1yK3rm00AcDVjioypofTUV/l63hW1VQuRd5\n",
       "0P8XHJBciH4s2XU+soAk36X3XigwcGgqqBResuxAAra5JasKKidAPedgLCmYRuopNRW5YSxwFMXz\n",
       "+9e2haKRqL70Senjj7BwHNVy8hF41vLcvqTdNs2qgnPY8xYZLmaobByYdnKXerLqi2imdY6uFLah\n",
       "1/z2X9CYRluc1TocvkiGgWObNhPWYD/wlv6O/elIDlb9ye8C1piuQrt+Hj43QsSxMt/bAm5TT1b9\n",
       "MprJiX4aNuCow8OcA10QjsH83t7emJRWB5IMHJoKdAw2Z5XHdDh8g0cmIafyISNWsVTr4hC8IQzD\n",
       "MO3kMvVk0Sc0k7WbA/10nd3gn4FL0KnAR/rsgFWF8g1+BG0J0jRlWYDgBKSUHG8rSEVePG9Zi/7o\n",
       "oRj4DfajlZ9KmHZymXqy6BOaydLNgX5SbzNwBItofizwoSUVSxMQiZbDgQypMYbhUAe07AxaUusT\n",
       "uHJQPxwkKtIlOCUh34PqnVn4yjCWbn6ShsBt6onRJzST2c2BfjK2cGTZjKId/Ja/0Q4S5yE2khwH\n",
       "A4dvGNSVr2I4lBOwIgpfjCdwuIoqXSnlNDp0xYhKj5rEuYaumLx58Nhu45aN/EZzLrhNPTH6hGYy\n",
       "uznQT9JV+2zYwd7ehGM2DBuLREeSLZgVADqSvDQQli112pNfijrAbeqJ0Sc0k9nNgX7SE5dTTw4q\n",
       "lxHaL1I3XsqbFfCTOahGI4m6i2bd8IV8cnADuEw9sfogJ9luDP3Eja34H3KlbbYVmc/u8HWOk9SS\n",
       "eK5ST+Q6hgXk2G4O9JOeuKwtsXCVE5wCl6knXd+8YZHt5kA/dRZqDoct7eQm9USvY1hvju3mQD95\n",
       "QDvBCpGxxN2hnqg+2X/R69FuLP3EltlQezjWc3HYPnCXeiL6dP9Fn452c6KfvKCsw1zgcQRcpZ6o\n",
       "Pt1/UZqJXi6QE9JPshcfNPBLy05wk3oy9cn+y6CZSBDmQD+Fvfjchf8YCtNO00A90f2XkGYql3vy\n",
       "MRS0s2EDpp2mgXqi+y8hzVQu/xi8gCPAGe0emA7qydh/CR6uXO6f9AQOhf3MVsu9TR/1JKKZyuXh\n",
       "mCdwIJtm31NhOqmni1XLPfoIm/9Ef4YUf7J6OM65+u89L89EON4nYU3/ocpw3AX/3kNyp/jfe/4F\n",
       "Munjd4pGHZcAAAAASUVORK5CYII=\n",
       "\" style=\"display:inline;vertical-align:middle;\" /></a></span>"
      ],
      "text/plain": [
       "|- forall_{m in Natural} [forall_{A_{1}, A_{2}, ..., A_{m}, B} ((A_{1} or  A_{2} or  ... or  A_{m} or B) =  \\\\ ((A_{1} or  A_{2} or  ... or  A_{m}) or B))]"
      ]
     },
     "metadata": {},
     "output_type": "display_data"
    }
   ],
   "source": [
    "multi_disjunction_def"
   ]
  },
  {
   "cell_type": "code",
   "execution_count": 4,
   "metadata": {},
   "outputs": [
    {
     "data": {
      "text/html": [
       "<span style=\"font-size:20px;\"> <a class=\"ProveItLink\" href=\"../../../__pv_it/_proof_unary_or_lemma/68dd0a1940721bac8455f16e026fecc70ca3eea90/proof.ipynb\" style=\"text-decoration: none\">&nbsp;&#x22A2;&nbsp;&nbsp;</a><a class=\"ProveItLink\" href=\"../../../__pv_it/_proof_unary_or_lemma/b6710d6a8c0143d4e4939493052f610e86ad39e60/expr.ipynb\"><img src=\"data:image/png;base64,iVBORw0KGgoAAAANSUhEUgAAAFAAAAAuBAMAAABNF4MvAAAAMFBMVEX///8AAAAAAAAAAAAAAAAA\n",
       "AAAAAAAAAAAAAAAAAAAAAAAAAAAAAAAAAAAAAAAAAAAv3aB7AAAAD3RSTlMAdt0yiUSrEGa7Is1U\n",
       "me/+rfgeAAAACXBIWXMAAA7EAAAOxAGVKw4bAAACWklEQVQ4y9WUPWgUURCAZ3dz2bu93ctqFUVw\n",
       "MaiFEs4UQqoEwRQieHYpRAIiljntgs3ZBESEC+mEcKekEUFTCAk2npJGRHOIhBQJpAl2EkyQ/Ajn\n",
       "zM7s3/Pyeh/sezNvPmbem515cHwAeIjgQDSakBlXFekU4wsAN7WgOxrKxW0Ao6aAvVVcLJ/Bh7y7\n",
       "giAsKmDex6VQZnCNd1cPcHqqhg5weSWhN8PNnvkdnEtVBbyOyzqD7kK4+dz4QwetKSB6I68EenyX\n",
       "trtHficUsLcMhs8gO8m1rF1c8qH7b2donCOzNQFmlUGzRTYPnN90jk01j+/gi0ilCu2d2Fjdp5Rt\n",
       "q+AyoinQxnP8ohP849G06pAK7eE3SKED5YxgTFcELFDyx/F7T5epqx7tC5FEGXEoYqMZ5ypdCuuR\n",
       "ZAVgNw6r8KnzFs9R0VTPQMr0Qldm6UJY04GFpK6dug60E2sh2wtX4p7Z4sKJLSfhPxxNnTF5D8Bo\n",
       "HUlhj+T8WFsO5/FuIJVQf6TY3HcfWLtH0yUxuR3qoqhnvVoafETTbGSaxOPn26KVIA2a8kCF49qN\n",
       "Ms4/RPucAXvwZp7czvFPk7Qk4PcMSN7MKDKs0LHGRF3KgHAH4JiIt2CEeuGJqBez4GWA8yK24Q29\n",
       "KV9F3cqCxaYr1zTmNiapOEe6g+5oUX7pfYA+auzb3UNDMBxHBpMa96PoMwrYf5fXXI1fcngshjEF\n",
       "fCDpfk1dc5DkD4b4eflJz0uYPU73VGcR3MYh5uesgGZZX61OIEL8048YXvyQP9ODL2NpSg8mfhxf\n",
       "xxlRR/0FEgmJeR7hcCkAAAAASUVORK5CYII=\n",
       "\" style=\"display:inline;vertical-align:middle;\" /></a></span>"
      ],
      "text/plain": [
       "|- [or](A) =  \\\\ (FALSE or A)"
      ]
     },
     "metadata": {},
     "output_type": "display_data"
    },
    {
     "name": "stdout",
     "output_type": "stream",
     "text": [
      "unary_or_lemma may now be readily provable (assuming required theorems are usable).  Simply execute \"%qed\".\n"
     ]
    }
   ],
   "source": [
    "multi_disjunction_def.instantiate({m:num(0), A:(), B:A})"
   ]
  },
  {
   "cell_type": "code",
   "execution_count": 5,
   "metadata": {},
   "outputs": [
    {
     "name": "stdout",
     "output_type": "stream",
     "text": [
      "proveit.logic.booleans.disjunction.unary_or_lemma has been proven.\n"
     ]
    },
    {
     "data": {
      "text/html": [
       "<table><tr><th>&nbsp;</th><th>step type</th><th>requirements</th><th>statement</th></tr>\n",
       "<tr><td><a name=\"0x6ddb664ea3a22d30_step0\">0</a></td><td>generalization</td><td><a href=\"#0x6ddb664ea3a22d30_step1\">1</a></td><td><span style=\"font-size:20px;\"> <a class=\"ProveItLink\" href=\"../../../__pv_it/_proof_unary_or_lemma/7c8c7244a888d08959565e703302affb7cbfa5a70/proof.ipynb\" style=\"text-decoration: none\">&nbsp;&#x22A2;&nbsp;&nbsp;</a><a class=\"ProveItLink\" href=\"../../../__pv_it/theorems/bbb82ba46b9d0534face5960997acdba2ab9bea20/expr.ipynb\"><img src=\"data:image/png;base64,iVBORw0KGgoAAAANSUhEUgAAAOUAAAAVBAMAAABLdTQ8AAAAMFBMVEX///8AAAAAAAAAAAAAAAAA\n",
       "AAAAAAAAAAAAAAAAAAAAAAAAAAAAAAAAAAAAAAAAAAAv3aB7AAAAD3RSTlMAq1RmmUTNIjK7EInv\n",
       "3XZ/CtNrAAAACXBIWXMAAA7EAAAOxAGVKw4bAAADXUlEQVRIx4WWTWgTURDHp5s0m2yatBdBvTSg\n",
       "iFK1FYrgRdIPRShi0EsPIpUqxQY0KgjF2kbw4sE2iKXGg108CD0oaUFERYyHgmiVKCpFLCwtIoIf\n",
       "VaFVROqbN7PbzW52fZDdt5n9v9/MvPfmLYB/y8CXGe5yR7XZ3E31G0z1EJW3eALuWA/UmyN5F8Ch\n",
       "CoI5z6HOAFQbJKrD53VeLzaAk6kUZD+0IBxqcr1P1gOVhjohfvMk2oXPPR5IrQtJVbrohg1i3iRL\n",
       "o2BCr0tA1q30sBYvQ6Y3y+ipLkXnMVE5D2awCZkBkRKIZInZRpaWJXFpdgna7MydeLlqDlUvZjKQ\n",
       "lCJERxMezBrKaImmQzKL0hA9+wvNulNQtDNjPO+y3X2UFdenUhQQoYS8pnMDMSfFrZWYCo0xEP+B\n",
       "qXJOKFuZiaEEORzV+Ia9bhI9n5195sXsIKaIEWNFZpCWUFL5iYPWOeeiYGdijDHTAo3o4ASJ9gBc\n",
       "k3/rbmY3MauyEDeISaFVJ8J/xC0gw9o7i+0lrATOTFgN8JW7+2EY/dlOopOgSne1J5yf9JHX5vy+\n",
       "Ima4DmI6MWMJ8lr9jq8WHT6S1WKK9fmOu0kYRMpmEkX0aEpmH2doaM0IGIVTG/nNKd6VPbCeezXy\n",
       "3U/tLb9x/yw411yqjBnKKEmuLVfa63FzDJNIMWgJdb4Q/otEC2b0hoPZIHewxdREov9iiov+TKUQ\n",
       "4lJ3G6AWV/9BFnXJfQTGYVknkHn6fnluIRbOgS23QfF7j2OWHPPpyC2ULlqphRiytrBoUpaTOOwG\n",
       "TdYGo306y69eZ1J8W4p7EYNrG5aygLOWSKuNOb+K7tVNVC1hB4v65RLqhM/ShHFe+MCaCSZpb816\n",
       "iytdRY/HMtbWWGm8eSzmLa4I/ejPEm0+KaqSUXU8qNcDx/L5yzifUdZcMit7q8kMl0AbW9Rh03Ja\n",
       "pCvlYAorpnqaU21WhPHlXlDGFgXsjV0UBxjMhgsUZzRurv2s61yZsSHOuTb0jP/RqJbsIjFFtQkq\n",
       "DoJpHgZYkx3MZldFt7dmfyaeGZYo+Bi0fUehT8SlHE/nrTo66mJGVg76CsdRxP8zoK+CSLuXHyn7\n",
       "Y9zF1HJ+AC3nyxz9r1fyOICH1vfQFB0plvFjBcGA75dORor+AbFR6ahJApivAAAAAElFTkSuQmCC\n",
       "\" style=\"display:inline;vertical-align:middle;\" /></a></span></td></tr>\n",
       "<tr><td><a name=\"0x6ddb664ea3a22d30_step1\">1</a></td><td>instantiation</td><td><a href=\"#0x6ddb664ea3a22d30_step2\">2</a>, <a href=\"#0x6ddb664ea3a22d30_step3\">3</a>, <a href=\"#0x6ddb664ea3a22d30_step4\">4</a>, <a href=\"#0x6ddb664ea3a22d30_step5\">5</a><sup>*</sup></td><td><span style=\"font-size:20px;\"> <a class=\"ProveItLink\" href=\"../../../__pv_it/_proof_unary_or_lemma/68dd0a1940721bac8455f16e026fecc70ca3eea90/proof.ipynb\" style=\"text-decoration: none\">&nbsp;&#x22A2;&nbsp;&nbsp;</a><a class=\"ProveItLink\" href=\"../../../__pv_it/_proof_unary_or_lemma/b6710d6a8c0143d4e4939493052f610e86ad39e60/expr.ipynb\"><img src=\"data:image/png;base64,iVBORw0KGgoAAAANSUhEUgAAAFAAAAAuBAMAAABNF4MvAAAAMFBMVEX///8AAAAAAAAAAAAAAAAA\n",
       "AAAAAAAAAAAAAAAAAAAAAAAAAAAAAAAAAAAAAAAAAAAv3aB7AAAAD3RSTlMAdt0yiUSrEGa7Is1U\n",
       "me/+rfgeAAAACXBIWXMAAA7EAAAOxAGVKw4bAAACWklEQVQ4y9WUPWgUURCAZ3dz2bu93ctqFUVw\n",
       "MaiFEs4UQqoEwRQieHYpRAIiljntgs3ZBESEC+mEcKekEUFTCAk2npJGRHOIhBQJpAl2EkyQ/Ajn\n",
       "zM7s3/Pyeh/sezNvPmbem515cHwAeIjgQDSakBlXFekU4wsAN7WgOxrKxW0Ao6aAvVVcLJ/Bh7y7\n",
       "giAsKmDex6VQZnCNd1cPcHqqhg5weSWhN8PNnvkdnEtVBbyOyzqD7kK4+dz4QwetKSB6I68EenyX\n",
       "trtHficUsLcMhs8gO8m1rF1c8qH7b2donCOzNQFmlUGzRTYPnN90jk01j+/gi0ilCu2d2Fjdp5Rt\n",
       "q+AyoinQxnP8ohP849G06pAK7eE3SKED5YxgTFcELFDyx/F7T5epqx7tC5FEGXEoYqMZ5ypdCuuR\n",
       "ZAVgNw6r8KnzFs9R0VTPQMr0Qldm6UJY04GFpK6dug60E2sh2wtX4p7Z4sKJLSfhPxxNnTF5D8Bo\n",
       "HUlhj+T8WFsO5/FuIJVQf6TY3HcfWLtH0yUxuR3qoqhnvVoafETTbGSaxOPn26KVIA2a8kCF49qN\n",
       "Ms4/RPucAXvwZp7czvFPk7Qk4PcMSN7MKDKs0LHGRF3KgHAH4JiIt2CEeuGJqBez4GWA8yK24Q29\n",
       "KV9F3cqCxaYr1zTmNiapOEe6g+5oUX7pfYA+auzb3UNDMBxHBpMa96PoMwrYf5fXXI1fcngshjEF\n",
       "fCDpfk1dc5DkD4b4eflJz0uYPU73VGcR3MYh5uesgGZZX61OIEL8048YXvyQP9ODL2NpSg8mfhxf\n",
       "xxlRR/0FEgmJeR7hcCkAAAAASUVORK5CYII=\n",
       "\" style=\"display:inline;vertical-align:middle;\" /></a></span></td></tr>\n",
       "<tr><td>&nbsp;</td><td colspan=4 style=\"text-align:left\"><span style=\"font-size:20px;\"><a class=\"ProveItLink\" href=\"../../../../../../__pv_it/common/674a03b9c3ca221b3aabd5636837b31528ff33830/expr.ipynb\"><img src=\"data:image/png;base64,iVBORw0KGgoAAAANSUhEUgAAABIAAAAJBAMAAADN8WE8AAAAMFBMVEX///8AAAAAAAAAAAAAAAAA\n",
       "AAAAAAAAAAAAAAAAAAAAAAAAAAAAAAAAAAAAAAAAAAAv3aB7AAAAD3RSTlMARHarECKJuzJmVO/d\n",
       "mc2qKiq2AAAACXBIWXMAAA7EAAAOxAGVKw4bAAAAXklEQVQI12NgVHZNKuJIK2RgYGM3YvCfyLCa\n",
       "gUGQp4AhXoFhPgODg78Aw3oHhnsMDAzrGUDUNiDLjoHhGAPjVxYQj+UjA/ODSAbWHwycHxjYExIY\n",
       "GA8wMF1gYLwUAABMtRSZFIjjRwAAAABJRU5ErkJggg==\n",
       "\" style=\"display:inline;vertical-align:middle;\" /></a> : <a class=\"ProveItLink\" href=\"../../../../../../numbers/numerals/__pv_it/common/dd4e19e8b134dfb293470ea55fe3589b0ab9f8040/expr.ipynb\"><img src=\"data:image/png;base64,iVBORw0KGgoAAAANSUhEUgAAAAoAAAAOBAMAAADkjZCYAAAAMFBMVEX///8AAAAAAAAAAAAAAAAA\n",
       "AAAAAAAAAAAAAAAAAAAAAAAAAAAAAAAAAAAAAAAAAAAv3aB7AAAAD3RSTlMAiXaZIs1UEN1mu6sy\n",
       "RO+L2jdBAAAACXBIWXMAAA7EAAAOxAGVKw4bAAAAV0lEQVQI12NgYBQyYWBgCGOocGDgbGBgXMDA\n",
       "tYGB7TsDvwEDzzeGeiD5k8FfgIHnE5j8yFAvwMD7CSTL9o2BawED53cGzgcMzAEMDG0MdQcYGIqF\n",
       "9jAAAMPIEplEfAWeAAAAAElFTkSuQmCC\n",
       "\" style=\"display:inline;vertical-align:middle;\" /></a>, <a class=\"ProveItLink\" href=\"../../../../../../__pv_it/common/09585084922504426caf1db2ff588a23a0932a960/expr.ipynb\"><img src=\"data:image/png;base64,iVBORw0KGgoAAAANSUhEUgAAAA8AAAAPBAMAAADJ+Ih5AAAAMFBMVEX///8AAAAAAAAAAAAAAAAA\n",
       "AAAAAAAAAAAAAAAAAAAAAAAAAAAAAAAAAAAAAAAAAAAv3aB7AAAAD3RSTlMAIs1UmauJMnZmRLsQ\n",
       "3e++988cAAAACXBIWXMAAA7EAAAOxAGVKw4bAAAAXklEQVQI12NgAAEhBijQh9LM/6EMlngBCCMx\n",
       "vwBMMzb0G0BkGOwngBmLGeoTwAwHBvkAEM2xxSV+A4hxgoGB/wJEhoH3AZDmAupg+gBkyAEx90cG\n",
       "htP/dRiY939KAABt3hLO6mcEjQAAAABJRU5ErkJggg==\n",
       "\" style=\"display:inline;vertical-align:middle;\" /></a> : <a class=\"ProveItLink\" href=\"../../../../../../core_expr_types/tuples/__pv_it/theorems/1a4193f1deeaf7a4a6b6289328d46189ae6a257f0/expr.ipynb\"><img src=\"data:image/png;base64,iVBORw0KGgoAAAANSUhEUgAAAAwAAAAVBAMAAACAghKHAAAAMFBMVEX///8AAAAAAAAAAAAAAAAA\n",
       "AAAAAAAAAAAAAAAAAAAAAAAAAAAAAAAAAAAAAAAAAAAv3aB7AAAAD3RSTlMAInZUiRDNmWbv3US7\n",
       "qzJazP2FAAAACXBIWXMAAA7EAAAOxAGVKw4bAAAAcklEQVQI12NgYBBgZAACJgNuBSBlwsCgwcDA\n",
       "msDAwBbAwN7AwMBRwMAJkp/KYAaiMhhKQJQvkAEEbQyLQZQlw2wQ9R5C7YQIWjEcAlE9QLVAUMLw\n",
       "CkStZuB6wMDAuABkLNj4gwwMMkDxGDCLgVGBSYABAJpvEmISwLzKAAAAAElFTkSuQmCC\n",
       "\" style=\"display:inline;vertical-align:middle;\" /></a>, <a class=\"ProveItLink\" href=\"../../../../../../__pv_it/common/a9162d1c3cc0470c02e5daf414500903a7a419230/expr.ipynb\"><img src=\"data:image/png;base64,iVBORw0KGgoAAAANSUhEUgAAABAAAAAOBAMAAADUAYG5AAAAMFBMVEX///8AAAAAAAAAAAAAAAAA\n",
       "AAAAAAAAAAAAAAAAAAAAAAAAAAAAAAAAAAAAAAAAAAAv3aB7AAAAD3RSTlMAZrurzTLvInZEmRDd\n",
       "VIkafcLnAAAACXBIWXMAAA7EAAAOxAGVKw4bAAAAb0lEQVQI12NgYBD6b2zsFMAABEkMDMxfgTT7\n",
       "DwYGzl9ABiOQxwjkMDB/YGBgSQcy2BQYuG1AiuM1OkwEQJr6Cxh4E0EMNSB+D5L6DMTyDQwMrB+B\n",
       "DPsJDAwc34GcL0AOSwIDwzRvoHH6n41NdBkYAF/iFeJ4bEa2AAAAAElFTkSuQmCC\n",
       "\" style=\"display:inline;vertical-align:middle;\" /></a> : <a class=\"ProveItLink\" href=\"../../../../../../__pv_it/common/09585084922504426caf1db2ff588a23a0932a960/expr.ipynb\"><img src=\"data:image/png;base64,iVBORw0KGgoAAAANSUhEUgAAAA8AAAAPBAMAAADJ+Ih5AAAAMFBMVEX///8AAAAAAAAAAAAAAAAA\n",
       "AAAAAAAAAAAAAAAAAAAAAAAAAAAAAAAAAAAAAAAAAAAv3aB7AAAAD3RSTlMAIs1UmauJMnZmRLsQ\n",
       "3e++988cAAAACXBIWXMAAA7EAAAOxAGVKw4bAAAAXklEQVQI12NgAAEhBijQh9LM/6EMlngBCCMx\n",
       "vwBMMzb0G0BkGOwngBmLGeoTwAwHBvkAEM2xxSV+A4hxgoGB/wJEhoH3AZDmAupg+gBkyAEx90cG\n",
       "htP/dRiY939KAABt3hLO6mcEjQAAAABJRU5ErkJggg==\n",
       "\" style=\"display:inline;vertical-align:middle;\" /></a></span></td></tr><tr><td><a name=\"0x6ddb664ea3a22d30_step2\">2</a></td><td>axiom</td><td></td><td><span style=\"font-size:20px;\"> <a class=\"ProveItLink\" href=\"../../axioms.ipynb#multi_disjunction_def\" style=\"text-decoration: none\">&nbsp;&#x22A2;&nbsp;&nbsp;</a><a class=\"ProveItLink\" href=\"../../../__pv_it/axioms/3a12f2e98e109c481cfba1ef0427fed927129dd10/expr.ipynb\"><img src=\"data:image/png;base64,iVBORw0KGgoAAAANSUhEUgAAAhsAAAAzBAMAAADMadf8AAAAMFBMVEX///8AAAAAAAAAAAAAAAAA\n",
       "AAAAAAAAAAAAAAAAAAAAAAAAAAAAAAAAAAAAAAAAAAAv3aB7AAAAD3RSTlMAq1RmmUTNIjK7EInv\n",
       "3XZ/CtNrAAAACXBIWXMAAA7EAAAOxAGVKw4bAAAH5UlEQVRo3uVbb2wURRR/3b0/2+3d9RqVGCP0\n",
       "EpXENKY1KJFE6fHPGErCCR8khsApGiJ+4EgMRgV7+MFoLPQkJrRE6Rn8QlEohGhCP/QKQVCiuYj6\n",
       "wdh4BCPBkPb4V0qJnDO7M7s7czt717i9rWGS7t68ebM7+9t5b9683xagQunv74e7o6j9/dmKSn+U\n",
       "rrt4y/r0DIRhLxlbqZSpqPyLq7e+h62mavnYwpvtpJNCrjEcdQNMNRLTTlsF2lundvFg0rl9nahB\n",
       "ynsEx3y22qKfNgu0N0/t4oGioGFBqanptTRE2kQ9j3gDR/A0a7T665RK5uzB01YpgKPcUh7Ah12k\n",
       "0loUNX2HrjABsEk0rnCbJ3CE2Qfy6aPwNRtWLRcs7lYkt5SF+NBDKotuCpqCdwD8aEF4Qmgt33sC\n",
       "x9NsNaSfvhkynzNvcRkiuRVfi8toeGdC0CSjBhlBEhKuo694AsdZtjpXf3eFsZghOor+FoOj3Foa\n",
       "kIaPaL0buSpoqkNWFEB2GhA6j/UpD+CITLL1Dt0moLWNWUyInxfJ+cUkTH7HpWuCplAG1NlopjVE\n",
       "hV446gEcYW44G7TjKug2l986tAAQByOSM+V+gFH9lz+m3BY0de8bnYWRlbHt+Ea0wg5FmvQAjm7O\n",
       "F/6kv1XoRGPbr5u5EoUwsXBNrg42ZTk5U3YA/EYnU/CKoGksBdJJ/NA5YWB6xwM4HuTqpzQL+mRp\n",
       "cwaUUWIKG+FhYlma3Ae+PCvnZnlKiuu/Li1ddEvQ9Cn6w25ZKQqH9pkHcAzbwXEIoDFvRoYt6MHB\n",
       "lDcmghOsnFsiBwK6F1SRKf1j3wR41rSjdr9wdkB7quZwKNfAxljQGwznTDjCSobaCpbLWQKHIedK\n",
       "/kNqKwC/o9DiqdHohR62Sbtvc4Lcw9Z3wOG2msMRuckJ9mEP2KZH1xSOyOMJ3TMSOTTkGTlfLtyn\n",
       "n1drQb365Ek0B8+zTfi+yrjz04aiNYejPmezVdiGG26acKi/6mcqp9tNIlfxYx1O0gPAV/opiK/d\n",
       "lwoeSsIEWcBpEwRQ21ocoPsGxGPLEzg0WB5yhKOSSpUlxGO/E+BAaRNIfeMD5q5SD7YMeXAvI4ef\n",
       "seHE6YFGWmrfeBYeLb0OdQUlR1YsIwjru9I0a7dmcAnh2BqKBI5lut92gqOSSpXlcJyPQ9I2m2yu\n",
       "vAFvTgnydCQTLApyTNvF/eQbBI4deKplHOGopFJt2MHHUXK8IhzBng+WT+UenWh+yJm4feMSBzd/\n",
       "h8ARyOrxvQMclVSqLK1ll9hjPvbXtwu2b7tUKk7lHs+jcCM4x36r5vRG1esEDhm7cGdXWkmlytJe\n",
       "NocP1DI3CPVOqcgrdGX5YWTkbIWVpYJKlWWsbDjBQi3huOjUeIvC8RzA3gpwGCrWWaja6wtzCjCU\n",
       "hZlbvqVwbIEgF6Jt70jIw1Y4qIp6xqL1pa3/ZlRA6es4RpNVsHImwzFC4ajPNljWY+V8b0KKHofl\n",
       "VjioSoM1wTJk61wZFYBnAC7T380zGA0c4OtwSAWrm1yK3rm00AcDVjioypofTUV/l63hW1VQuRd5\n",
       "0P8XHJBciH4s2XU+soAk36X3XigwcGgqqBResuxAAra5JasKKidAPedgLCmYRuopNRW5YSxwFMXz\n",
       "+9e2haKRqL70Senjj7BwHNVy8hF41vLcvqTdNs2qgnPY8xYZLmaobByYdnKXerLqi2imdY6uFLah\n",
       "1/z2X9CYRluc1TocvkiGgWObNhPWYD/wlv6O/elIDlb9ye8C1piuQrt+Hj43QsSxMt/bAm5TT1b9\n",
       "MprJiX4aNuCow8OcA10QjsH83t7emJRWB5IMHJoKdAw2Z5XHdDh8g0cmIafyISNWsVTr4hC8IQzD\n",
       "MO3kMvVk0Sc0k7WbA/10nd3gn4FL0KnAR/rsgFWF8g1+BG0J0jRlWYDgBKSUHG8rSEVePG9Zi/7o\n",
       "oRj4DfajlZ9KmHZymXqy6BOaydLNgX5SbzNwBItofizwoSUVSxMQiZbDgQypMYbhUAe07AxaUusT\n",
       "uHJQPxwkKtIlOCUh34PqnVn4yjCWbn6ShsBt6onRJzST2c2BfjK2cGTZjKId/Ja/0Q4S5yE2khwH\n",
       "A4dvGNSVr2I4lBOwIgpfjCdwuIoqXSnlNDp0xYhKj5rEuYaumLx58Nhu45aN/EZzLrhNPTH6hGYy\n",
       "uznQT9JV+2zYwd7ehGM2DBuLREeSLZgVADqSvDQQli112pNfijrAbeqJ0Sc0k9nNgX7SE5dTTw4q\n",
       "lxHaL1I3XsqbFfCTOahGI4m6i2bd8IV8cnADuEw9sfogJ9luDP3Eja34H3KlbbYVmc/u8HWOk9SS\n",
       "eK5ST+Q6hgXk2G4O9JOeuKwtsXCVE5wCl6knXd+8YZHt5kA/dRZqDoct7eQm9USvY1hvju3mQD95\n",
       "QDvBCpGxxN2hnqg+2X/R69FuLP3EltlQezjWc3HYPnCXeiL6dP9Fn452c6KfvKCsw1zgcQRcpZ6o\n",
       "Pt1/UZqJXi6QE9JPshcfNPBLy05wk3oy9cn+y6CZSBDmQD+Fvfjchf8YCtNO00A90f2XkGYql3vy\n",
       "MRS0s2EDpp2mgXqi+y8hzVQu/xi8gCPAGe0emA7qydh/CR6uXO6f9AQOhf3MVsu9TR/1JKKZyuXh\n",
       "mCdwIJtm31NhOqmni1XLPfoIm/9Ef4YUf7J6OM65+u89L89EON4nYU3/ocpw3AX/3kNyp/jfe/4F\n",
       "Munjd4pGHZcAAAAASUVORK5CYII=\n",
       "\" style=\"display:inline;vertical-align:middle;\" /></a></span></td></tr>\n",
       "<tr><td>&nbsp;</td><td colspan=4 style-\"text-align:left\"><a class=\"ProveItLink\" href=\"../../axioms.ipynb#multi_disjunction_def\">proveit.logic.booleans.disjunction.multi_disjunction_def</a></td></tr><tr><td><a name=\"0x6ddb664ea3a22d30_step3\">3</a></td><td>axiom</td><td></td><td><span style=\"font-size:20px;\"> <a class=\"ProveItLink\" href=\"../../../../../../numbers/number_sets/natural_numbers/_theory_nbs_/axioms.ipynb#zero_in_nats\" style=\"text-decoration: none\">&nbsp;&#x22A2;&nbsp;&nbsp;</a><a class=\"ProveItLink\" href=\"../../../../../../numbers/number_sets/natural_numbers/__pv_it/axioms/6bc27fa16ea1c04bf3d4c776d5c721085150bfa20/expr.ipynb\"><img src=\"data:image/png;base64,iVBORw0KGgoAAAANSUhEUgAAADMAAAAQBAMAAABJt1qBAAAAMFBMVEX///8AAAAAAAAAAAAAAAAA\n",
       "AAAAAAAAAAAAAAAAAAAAAAAAAAAAAAAAAAAAAAAAAAAv3aB7AAAAD3RSTlMAiXaZIs1UEN1mu6sy\n",
       "RO+L2jdBAAAACXBIWXMAAA7EAAAOxAGVKw4bAAAA9klEQVQY02NgwAAVv5YWMMj9u8DAwChkgia3\n",
       "jHcDA/sHICOMocIBVWqHgyQDwwMGBs4GBsYFqFLbFrA6MDQwMHBtYGD7DhZhWtHRCmZsmcQSAJLi\n",
       "N2Dg+QYS4A0qgOrawn1AESRVD5T6CRJwhckwbGFYwHUBKOUvwMDzCSQQwoCQOszeDpX6CBIIQJLi\n",
       "TMgCurBegIEXpIvnRUdHRxdUimE79wOwM9hAzmBfgKSLoZod5PgFDJxgxzcgS/EoAFVyPmBgBluj\n",
       "BJdaA8Q6IEPaGOoOgARYE2BSYUAMVl4stAcswL7rOkTm6D+gDvYA5KDjlYIGFBQAAFS8PxwW/emj\n",
       "AAAAAElFTkSuQmCC\n",
       "\" style=\"display:inline;vertical-align:middle;\" /></a></span></td></tr>\n",
       "<tr><td>&nbsp;</td><td colspan=4 style-\"text-align:left\"><a class=\"ProveItLink\" href=\"../../../../../../numbers/number_sets/natural_numbers/_theory_nbs_/axioms.ipynb#zero_in_nats\">proveit.numbers.number_sets.natural_numbers.zero_in_nats</a></td></tr><tr><td><a name=\"0x6ddb664ea3a22d30_step4\">4</a></td><td>conjecture</td><td></td><td><span style=\"font-size:20px;\"> <a class=\"ProveItLink\" href=\"../../../../../../core_expr_types/tuples/_theory_nbs_/proofs/tuple_len_0_typical_eq/thm_proof.ipynb\" style=\"text-decoration: none\">&nbsp;&#x22A2;&nbsp;&nbsp;</a><a class=\"ProveItLink\" href=\"../../../../../../core_expr_types/tuples/__pv_it/theorems/e4227b9c4c4eee791197a50fb372df0303979ecf0/expr.ipynb\"><img src=\"data:image/png;base64,iVBORw0KGgoAAAANSUhEUgAAAK0AAAAVBAMAAADGGHNoAAAAMFBMVEX///8AAAAAAAAAAAAAAAAA\n",
       "AAAAAAAAAAAAAAAAAAAAAAAAAAAAAAAAAAAAAAAAAAAv3aB7AAAAD3RSTlMAIolEdjJUEM2ZZu/d\n",
       "u6v6CvZmAAAACXBIWXMAAA7EAAAOxAGVKw4bAAACH0lEQVQ4y5XVv0scQRQH8O+eezv3Yw1XWBpY\n",
       "tI5cYWfhpjCQFOIfEHCxiaDgFinSaK4TBEGu8iSBKyNJyIGIhUUMIUpA8ARb5Ww1YH4IXiqdt7M7\n",
       "t3vrC7lXzL15d/uZ3dmZOZQgo2QELbpCFQz0EPqSYflhen0uVJoIVXjSizsatJlycO0M8Ix1LQfI\n",
       "HoQVo7Y6xZpDT0sw6x1XVICcz7mvgKX1m7DyEJk/HJvzxBdguePm5RiFNc7doImK3HNgl3M/AI+A\n",
       "zY5bpHSHcxtx97OPqxLjngELPoq+dmepusK4ViXu/gCuuAn+C0x7yNW1W6XqCOPmnbgr44hhBbl1\n",
       "ZFraXaHyu9DNHwbRitxg/JibvWZc47d0XRQq2t2n8hxzv7aXdO3Wv1wHVkO7W1SeZtxiOem+5ZaD\n",
       "kO64i+zPpDv2f26hxW4LOb8LHvoayXmYZ+a3ax5mYHDr7BT45MPa0+4JVT8y99vvhq4I3poD0xdp\n",
       "kxbte2BdPlBTuyP0TZVx1br5BbymFz1Yq70JMtFG2Oie7YntcF0q9zkZXxk3K5/rwWX7AjadPUe3\n",
       "t22VfUfY2PIEwKG8YVGdlFvGLmvXll1jj9vH36LeC6SzKCw/ygY75wOdOXT23O9uRj0H6SyKjM42\n",
       "YufvMR2AnNsfvn/h6pXqptyXenc0Y+5iQDOuaKqOqctmej3okdRdSHeCBnFN6k50/1oVBnr5H3qs\n",
       "Rp66A38YhoCQmIjBAAAAAElFTkSuQmCC\n",
       "\" style=\"display:inline;vertical-align:middle;\" /></a></span></td></tr>\n",
       "<tr><td>&nbsp;</td><td colspan=4 style-\"text-align:left\"><a class=\"ProveItLink\" href=\"../../../../../../core_expr_types/tuples/_theory_nbs_/proofs/tuple_len_0_typical_eq/thm_proof.ipynb\">proveit.core_expr_types.tuples.tuple_len_0_typical_eq</a></td></tr><tr><td><a name=\"0x6ddb664ea3a22d30_step5\">5</a></td><td>theorem</td><td></td><td><span style=\"font-size:20px;\"> <a class=\"ProveItLink\" href=\"../empty_disjunction_eval/thm_proof.ipynb\" style=\"text-decoration: none\">&nbsp;&#x22A2;&nbsp;&nbsp;</a><a class=\"ProveItLink\" href=\"../../../__pv_it/theorems/4520f76c9e36d93f8e46113c31c98d274bdc8bb30/expr.ipynb\"><img src=\"data:image/png;base64,iVBORw0KGgoAAAANSUhEUgAAAFYAAAAVBAMAAAAutAQGAAAAMFBMVEX///8AAAAAAAAAAAAAAAAA\n",
       "AAAAAAAAAAAAAAAAAAAAAAAAAAAAAAAAAAAAAAAAAAAv3aB7AAAAD3RSTlMAdt0yiUSrEGa7Is1U\n",
       "me/+rfgeAAAACXBIWXMAAA7EAAAOxAGVKw4bAAABBElEQVQoz2MQUmaAACiDi2EBAy7gisaSYQgk\n",
       "Vi2PAwNjAxZlERAVbAVAilkAorYaiLdjUXsQopZDAEhxGkDU3gDiXtxqGRSA1GqoGx4AMV8BbrU+\n",
       "QOoORC3PBiDB3YBbLdBMkNkgtbwOQIIlAbdaNgMGRgGIWrCRHCDDGS4pgYAamlrmBAamAohapgMg\n",
       "hzzAbS7DLoazUBZfACj8PuBRewSoGkktKz5zmZgnMCC7QQG3exkY2wKgLE5QvHBMwGMuuzaMBQ4u\n",
       "cMDhUguKCQiLGWQ9UwCaQqBz3oGcg5bOQIl4EZFpsheafohRy7mAgWsCkWrZJ4CU4wBO8Pz2FEwt\n",
       "ZJDCpRQAHkE60Yq4wUgAAAAASUVORK5CYII=\n",
       "\" style=\"display:inline;vertical-align:middle;\" /></a></span></td></tr>\n",
       "<tr><td>&nbsp;</td><td colspan=4 style-\"text-align:left\"><a class=\"ProveItLink\" href=\"../empty_disjunction_eval/thm_proof.ipynb\">proveit.logic.booleans.disjunction.empty_disjunction_eval</a></td></tr><tr><td colspan=4 style=\"text-align:left\"><sup>*</sup>equality replacement requirements</td></tr></table>"
      ],
      "text/plain": [
       "\tstep type\trequirements\tstatement\n",
       "0\tgeneralization\t1\t|- forall_{A in BOOLEAN} ([or](A) = (FALSE or A))\n",
       "1\tinstantiation\t2, 3, 4, 5*\t|- [or](A) =  \\\\ (FALSE or A)\n",
       "\tm : 0, A : (), B : A\n",
       "2\taxiom\t\t|- forall_{m in Natural} [forall_{A_{1}, A_{2}, ..., A_{m}, B} ((A_{1} or  A_{2} or  ... or  A_{m} or B) =  \\\\ ((A_{1} or  A_{2} or  ... or  A_{m}) or B))]\n",
       "\tproveit.logic.booleans.disjunction.multi_disjunction_def\n",
       "3\taxiom\t\t|- 0 in Natural\n",
       "\tproveit.numbers.number_sets.natural_numbers.zero_in_nats\n",
       "4\tconjecture\t\t|- |()| = |(1, 2, ..., 0)|\n",
       "\tproveit.core_expr_types.tuples.tuple_len_0_typical_eq\n",
       "5\ttheorem\t\t|- [or]() = FALSE\n",
       "\tproveit.logic.booleans.disjunction.empty_disjunction_eval"
      ]
     },
     "execution_count": 5,
     "metadata": {},
     "output_type": "execute_result"
    }
   ],
   "source": [
    "%qed"
   ]
  },
  {
   "cell_type": "code",
   "execution_count": null,
   "metadata": {},
   "outputs": [],
   "source": []
  }
 ],
 "metadata": {
  "kernelspec": {
   "display_name": "Python 3",
   "language": "python",
   "name": "python3"
  }
 },
 "nbformat": 4,
 "nbformat_minor": 0
}