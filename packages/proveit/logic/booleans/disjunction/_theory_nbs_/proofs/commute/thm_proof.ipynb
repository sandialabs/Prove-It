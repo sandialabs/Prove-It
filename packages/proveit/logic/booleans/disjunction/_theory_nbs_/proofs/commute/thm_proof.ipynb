{
 "cells": [
  {
   "cell_type": "markdown",
   "metadata": {},
   "source": [
    "Proof of <a class=\"ProveItLink\" href=\"../../../../../../_theory_nbs_/theory.ipynb\">proveit</a>.<a class=\"ProveItLink\" href=\"../../../../../_theory_nbs_/theory.ipynb\">logic</a>.<a class=\"ProveItLink\" href=\"../../../../_theory_nbs_/theory.ipynb\">booleans</a>.<a class=\"ProveItLink\" href=\"../../theory.ipynb\">disjunction</a>.<a class=\"ProveItLink\" href=\"../../theorems.ipynb#commute\">commute</a> theorem\n",
    "========"
   ]
  },
  {
   "cell_type": "code",
   "execution_count": 1,
   "metadata": {},
   "outputs": [],
   "source": [
    "import proveit\n",
    "theory = proveit.Theory() # the theorem's theory"
   ]
  },
  {
   "cell_type": "code",
   "execution_count": 2,
   "metadata": {},
   "outputs": [
    {
     "data": {
      "text/html": [
       "With these <a href=\"allowed_presumptions.txt\">allowed</a>/<a href=\"disallowed_presumptions.txt\">disallowed</a> theorem/theory presumptions (e.g., to avoid circular dependencies), we begin our proof of<br><strong id=\"commute\">commute:</strong> <a class=\"ProveItLink\" href=\"../../../__pv_it/theorems/31965341347cc6bc5c8ef54847fe394332beddc40/expr.ipynb\"><img src=\"data:image/png;base64,iVBORw0KGgoAAAANSUhEUgAAALMAAAAXBAMAAACyt2M4AAAAMFBMVEX///8AAAAAAAAAAAAAAAAA\n",
       "AAAAAAAAAAAAAAAAAAAAAAAAAAAAAAAAAAAAAAAAAAAv3aB7AAAAD3RSTlMAq1RmmUTNIjK7EInv\n",
       "3XZ/CtNrAAAACXBIWXMAAA7EAAAOxAGVKw4bAAAC00lEQVRIx6VVTWgTQRT+spvdTTZtTKGWokgX\n",
       "BEE8uNAieKjd4g+WCAa8FBWNiIj10Hr2p/FY8Cf0oog0EbwIBlLpLQdrRVRECepJLCz0IILUttZY\n",
       "W7S+N7ubbqOmJB3Im3n7Md+8+d57E6DuMVA3uNaIGv9DtCRwguYYO1vroN5Bv93LTU3nUpWIOkMH\n",
       "m8B+ds7Wzqwn2b4EAgs0b2LnhgvtJGr0AVf5BunaqYMmb/wNKPO02MOfbrtQ9w8yHRR9FogYtVM3\n",
       "sJEpYpno0ehKzCNyke/RkIVMp6t1SL2NTYCurj6HE1zQDfBKdI4FJ97Xk5Ov6qCOi9DT0Lek3Igb\n",
       "XcSSvvFhVB8HgTviU7ZCzHLC/kl9ms3NkekWU7itwLQDKEZoibWiwy5AEwWovxDI0HyhR5RT2CN5\n",
       "6FVXKBMf81KFt2y+DkB6Klyqhg9eSNosTdI4UWQjCaH+nEDkIqLjq6gfG7CcBugEvnhfn7G5y7A4\n",
       "WR2QLAf4vK/7J8dBaZBsJ4u9b8QUsCDP+KmVaza3lJIHmoGuVdQcXpfNKymvOr2tk/uLt3F8SVGU\n",
       "sE85RWUgZ/qpo2qM12FKxQT0d35BQpyvNnFnFIdWUvSRzyqSedQnGHBAQINTHa3wU9vBJCQTx7hB\n",
       "2rvLXT3Ce6g3QiXHn9rozEfo18/CchteElnsdWXshN7sp1ZSLH2aq4jScM/yqEdZYEKO9zl+zmkY\n",
       "jXXIkDbBPKsrIokX2kT1Ee9gwkcdLIwuAu0sNaVB++5RXyc/M9vUMuzVqmgYPVPKYvvyearyRPmJ\n",
       "JEZxxARw0l98NjTqW5WlpjQoC96GxlT1lrpcXpFEGww9D20R+nufIAqllKpS3sxpyCJXFkS2qlPv\n",
       "LbfeE+iHz4QmsGup0GP4qA/FcL+UEG+k3F8YG17Ze6sq81+PqeRbh9d4RB5URcOV/2BHa6DW7Gro\n",
       "p8oPZg3U6xjaegn+AI+ynUKnbArHAAAAAElFTkSuQmCC\n",
       "\" style=\"display:inline;vertical-align:middle;\" /></a><br>(see <a class=\"ProveItLink\" href=\"../../../__pv_it/theorems/7d8b730877437628beec50a15e130c1efb9f53de0/dependencies.ipynb\">dependencies</a>)<br>"
      ],
      "text/plain": [
       "<IPython.core.display.HTML object>"
      ]
     },
     "metadata": {},
     "output_type": "display_data"
    }
   ],
   "source": [
    "%proving commute"
   ]
  },
  {
   "cell_type": "code",
   "execution_count": null,
   "metadata": {},
   "outputs": [],
   "source": []
  }
 ],
 "metadata": {
  "kernelspec": {
   "display_name": "Python 3",
   "language": "python",
   "name": "python3"
  }
 },
 "nbformat": 4,
 "nbformat_minor": 0
}