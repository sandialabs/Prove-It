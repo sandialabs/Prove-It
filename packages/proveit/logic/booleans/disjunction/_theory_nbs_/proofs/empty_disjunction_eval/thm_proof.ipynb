{
 "cells": [
  {
   "cell_type": "markdown",
   "metadata": {},
   "source": [
    "Proof of <a class=\"ProveItLink\" href=\"../../../../../../_theory_nbs_/theory.ipynb\">proveit</a>.<a class=\"ProveItLink\" href=\"../../../../../_theory_nbs_/theory.ipynb\">logic</a>.<a class=\"ProveItLink\" href=\"../../../../_theory_nbs_/theory.ipynb\">booleans</a>.<a class=\"ProveItLink\" href=\"../../theory.ipynb\">disjunction</a>.<a class=\"ProveItLink\" href=\"../../theorems.ipynb#empty_disjunction_eval\">empty_disjunction_eval</a> theorem\n",
    "========"
   ]
  },
  {
   "cell_type": "code",
   "execution_count": 1,
   "metadata": {},
   "outputs": [],
   "source": [
    "import proveit\n",
    "from proveit.logic.booleans.disjunction  import empty_disjunction\n",
    "theory = proveit.Theory() # the theorem's theory"
   ]
  },
  {
   "cell_type": "code",
   "execution_count": 2,
   "metadata": {},
   "outputs": [
    {
     "data": {
      "text/html": [
       "With these <a href=\"allowed_presumptions.txt\">allowed</a>/<a href=\"disallowed_presumptions.txt\">disallowed</a> theorem/theory presumptions (e.g., to avoid circular dependencies), we begin our proof of<br><strong id=\"empty_disjunction_eval\">empty_disjunction_eval:</strong> <a class=\"ProveItLink\" href=\"../../../__pv_it/theorems/4520f76c9e36d93f8e46113c31c98d274bdc8bb30/expr.ipynb\"><img src=\"data:image/png;base64,iVBORw0KGgoAAAANSUhEUgAAAFYAAAAVBAMAAAAutAQGAAAAMFBMVEX///8AAAAAAAAAAAAAAAAA\n",
       "AAAAAAAAAAAAAAAAAAAAAAAAAAAAAAAAAAAAAAAAAAAv3aB7AAAAD3RSTlMAdt0yiUSrEGa7Is1U\n",
       "me/+rfgeAAAACXBIWXMAAA7EAAAOxAGVKw4bAAABBElEQVQoz2MQUmaAACiDi2EBAy7gisaSYQgk\n",
       "Vi2PAwNjAxZlERAVbAVAilkAorYaiLdjUXsQopZDAEhxGkDU3gDiXtxqGRSA1GqoGx4AMV8BbrU+\n",
       "QOoORC3PBiDB3YBbLdBMkNkgtbwOQIIlAbdaNgMGRgGIWrCRHCDDGS4pgYAamlrmBAamAohapgMg\n",
       "hzzAbS7DLoazUBZfACj8PuBRewSoGkktKz5zmZgnMCC7QQG3exkY2wKgLE5QvHBMwGMuuzaMBQ4u\n",
       "cMDhUguKCQiLGWQ9UwCaQqBz3oGcg5bOQIl4EZFpsheafohRy7mAgWsCkWrZJ4CU4wBO8Pz2FEwt\n",
       "ZJDCpRQAHkE60Yq4wUgAAAAASUVORK5CYII=\n",
       "\" style=\"display:inline;vertical-align:middle;\" /></a><br>(see <a class=\"ProveItLink\" href=\"../../../__pv_it/theorems/30fa5e6e5a0d336d8368918a30181ab67fb9c6fe0/dependencies.ipynb\">dependencies</a>)<br>"
      ],
      "text/plain": [
       "<IPython.core.display.HTML object>"
      ]
     },
     "metadata": {},
     "output_type": "display_data"
    },
    {
     "name": "stdout",
     "output_type": "stream",
     "text": [
      "empty_disjunction_eval may now be readily provable (assuming required theorems are usable).  Simply execute \"%qed\".\n"
     ]
    }
   ],
   "source": [
    "%proving empty_disjunction_eval"
   ]
  },
  {
   "cell_type": "code",
   "execution_count": 3,
   "metadata": {},
   "outputs": [
    {
     "data": {
      "text/html": [
       "<span style=\"font-size:20px;\"> <a class=\"ProveItLink\" href=\"../../axioms.ipynb#empty_disjunction\" style=\"text-decoration: none\">&nbsp;&#x22A2;&nbsp;&nbsp;</a><a class=\"ProveItLink\" href=\"../../../__pv_it/axioms/7c8a5fceb27af0b8c336880a32aa294256f5ebef0/expr.ipynb\"><img src=\"data:image/png;base64,iVBORw0KGgoAAAANSUhEUgAAADsAAAAVBAMAAAAKrYvGAAAAMFBMVEX///8AAAAAAAAAAAAAAAAA\n",
       "AAAAAAAAAAAAAAAAAAAAAAAAAAAAAAAAAAAAAAAAAAAv3aB7AAAAD3RSTlMAmd0iq3YyiUQQZrvN\n",
       "VO8LyBxeAAAACXBIWXMAAA7EAAAOxAGVKw4bAAAA8UlEQVQoz2NggIEgNVQGM4MBAxKoQGPFMrTi\n",
       "keYtYGBdgCLNMgFIsQVApOcA8UkUaa4AIMWdAJGWAuKFqIYrACkbqOEPgJhvAop0LZCShUjzHgAS\n",
       "PAtQpIE6QSaApBkLgAS7A4o0SwIDawBEGqyR6wCDkBIQKEKk2RwYmCZApJkugGx4ANFpAvXtYYaL\n",
       "UBZfA8iTH1ClrwMVIElzoOlmYtvAgGy4AkTaECrIuqQByuIGBRHXBtQw59SBscB+AvsOOSJkYSw2\n",
       "kLlMDThjDBTpRrgjdCE0WnBIcxswMG/ALc25AaQCAYrgae0FmDJlCGZgAABmdjU0Gp74gwAAAABJ\n",
       "RU5ErkJggg==\n",
       "\" style=\"display:inline;vertical-align:middle;\" /></a></span>"
      ],
      "text/plain": [
       "|- [not]([or]())"
      ]
     },
     "metadata": {},
     "output_type": "display_data"
    }
   ],
   "source": [
    "empty_disjunction"
   ]
  },
  {
   "cell_type": "code",
   "execution_count": 4,
   "metadata": {},
   "outputs": [
    {
     "data": {
      "text/html": [
       "<span style=\"font-size:20px;\"> <a class=\"ProveItLink\" href=\"../../../__pv_it/_proof_empty_disjunction_eval/4b30ae1f413952227045ce8ddaaf6e319e1af35c0/proof.ipynb\" style=\"text-decoration: none\">&nbsp;&#x22A2;&nbsp;&nbsp;</a><a class=\"ProveItLink\" href=\"../../../__pv_it/theorems/4520f76c9e36d93f8e46113c31c98d274bdc8bb30/expr.ipynb\"><img src=\"data:image/png;base64,iVBORw0KGgoAAAANSUhEUgAAAFYAAAAVBAMAAAAutAQGAAAAMFBMVEX///8AAAAAAAAAAAAAAAAA\n",
       "AAAAAAAAAAAAAAAAAAAAAAAAAAAAAAAAAAAAAAAAAAAv3aB7AAAAD3RSTlMAdt0yiUSrEGa7Is1U\n",
       "me/+rfgeAAAACXBIWXMAAA7EAAAOxAGVKw4bAAABBElEQVQoz2MQUmaAACiDi2EBAy7gisaSYQgk\n",
       "Vi2PAwNjAxZlERAVbAVAilkAorYaiLdjUXsQopZDAEhxGkDU3gDiXtxqGRSA1GqoGx4AMV8BbrU+\n",
       "QOoORC3PBiDB3YBbLdBMkNkgtbwOQIIlAbdaNgMGRgGIWrCRHCDDGS4pgYAamlrmBAamAohapgMg\n",
       "hzzAbS7DLoazUBZfACj8PuBRewSoGkktKz5zmZgnMCC7QQG3exkY2wKgLE5QvHBMwGMuuzaMBQ4u\n",
       "cMDhUguKCQiLGWQ9UwCaQqBz3oGcg5bOQIl4EZFpsheafohRy7mAgWsCkWrZJ4CU4wBO8Pz2FEwt\n",
       "ZJDCpRQAHkE60Yq4wUgAAAAASUVORK5CYII=\n",
       "\" style=\"display:inline;vertical-align:middle;\" /></a></span>"
      ],
      "text/plain": [
       "|- [or]() = FALSE"
      ]
     },
     "metadata": {},
     "output_type": "display_data"
    }
   ],
   "source": [
    "empty_disjunction.equate_negated_to_false()"
   ]
  },
  {
   "cell_type": "code",
   "execution_count": 5,
   "metadata": {},
   "outputs": [
    {
     "name": "stdout",
     "output_type": "stream",
     "text": [
      "proveit.logic.booleans.disjunction.empty_disjunction_eval has been proven.\n"
     ]
    },
    {
     "data": {
      "text/html": [
       "<table><tr><th>&nbsp;</th><th>step type</th><th>requirements</th><th>statement</th></tr>\n",
       "<tr><td><a name=\"0x617c1588aff67ed5_step0\">0</a></td><td>instantiation</td><td><a href=\"#0x617c1588aff67ed5_step1\">1</a>, <a href=\"#0x617c1588aff67ed5_step2\">2</a></td><td><span style=\"font-size:20px;\"> <a class=\"ProveItLink\" href=\"../../../__pv_it/_proof_empty_disjunction_eval/4b30ae1f413952227045ce8ddaaf6e319e1af35c0/proof.ipynb\" style=\"text-decoration: none\">&nbsp;&#x22A2;&nbsp;&nbsp;</a><a class=\"ProveItLink\" href=\"../../../__pv_it/theorems/4520f76c9e36d93f8e46113c31c98d274bdc8bb30/expr.ipynb\"><img src=\"data:image/png;base64,iVBORw0KGgoAAAANSUhEUgAAAFYAAAAVBAMAAAAutAQGAAAAMFBMVEX///8AAAAAAAAAAAAAAAAA\n",
       "AAAAAAAAAAAAAAAAAAAAAAAAAAAAAAAAAAAAAAAAAAAv3aB7AAAAD3RSTlMAdt0yiUSrEGa7Is1U\n",
       "me/+rfgeAAAACXBIWXMAAA7EAAAOxAGVKw4bAAABBElEQVQoz2MQUmaAACiDi2EBAy7gisaSYQgk\n",
       "Vi2PAwNjAxZlERAVbAVAilkAorYaiLdjUXsQopZDAEhxGkDU3gDiXtxqGRSA1GqoGx4AMV8BbrU+\n",
       "QOoORC3PBiDB3YBbLdBMkNkgtbwOQIIlAbdaNgMGRgGIWrCRHCDDGS4pgYAamlrmBAamAohapgMg\n",
       "hzzAbS7DLoazUBZfACj8PuBRewSoGkktKz5zmZgnMCC7QQG3exkY2wKgLE5QvHBMwGMuuzaMBQ4u\n",
       "cMDhUguKCQiLGWQ9UwCaQqBz3oGcg5bOQIl4EZFpsheafohRy7mAgWsCkWrZJ4CU4wBO8Pz2FEwt\n",
       "ZJDCpRQAHkE60Yq4wUgAAAAASUVORK5CYII=\n",
       "\" style=\"display:inline;vertical-align:middle;\" /></a></span></td></tr>\n",
       "<tr><td>&nbsp;</td><td colspan=4 style=\"text-align:left\"><span style=\"font-size:20px;\"><a class=\"ProveItLink\" href=\"../../../../../../__pv_it/common/09585084922504426caf1db2ff588a23a0932a960/expr.ipynb\"><img src=\"data:image/png;base64,iVBORw0KGgoAAAANSUhEUgAAAA8AAAAPBAMAAADJ+Ih5AAAAMFBMVEX///8AAAAAAAAAAAAAAAAA\n",
       "AAAAAAAAAAAAAAAAAAAAAAAAAAAAAAAAAAAAAAAAAAAv3aB7AAAAD3RSTlMAIs1UmauJMnZmRLsQ\n",
       "3e++988cAAAACXBIWXMAAA7EAAAOxAGVKw4bAAAAXklEQVQI12NgAAEhBijQh9LM/6EMlngBCCMx\n",
       "vwBMMzb0G0BkGOwngBmLGeoTwAwHBvkAEM2xxSV+A4hxgoGB/wJEhoH3AZDmAupg+gBkyAEx90cG\n",
       "htP/dRiY939KAABt3hLO6mcEjQAAAABJRU5ErkJggg==\n",
       "\" style=\"display:inline;vertical-align:middle;\" /></a> : <a class=\"ProveItLink\" href=\"../../../__pv_it/axioms/2e66e344e0c67326b4c51db2cacf28602d3f48230/expr.ipynb\"><img src=\"data:image/png;base64,iVBORw0KGgoAAAANSUhEUgAAACkAAAAVBAMAAAAp9toTAAAAMFBMVEX///8AAAAAAAAAAAAAAAAA\n",
       "AAAAAAAAAAAAAAAAAAAAAAAAAAAAAAAAAAAAAAAAAAAv3aB7AAAAD3RSTlMAdt0yiUSrEGa7Is1U\n",
       "me/+rfgeAAAACXBIWXMAAA7EAAAOxAGVKw4bAAAA5UlEQVQY02MQUmaAACiDi2EBkHRlgAEIS4Yh\n",
       "EFOUx4GBsQHEZisA8pgFIKLVQLwdJMohAGRxGkBEbwBxL1ifApC1GmrCAyDmKwCxfYCsOxBRng1A\n",
       "grsBxAaqA6kHifI6AAmWBBCbzYCBUQAiClTGwMCxAcRmTmBgKoCIMh0AGfMAzN7FcBbqXr4AkCs/\n",
       "gNlHgOJIoqwQtUzMExiQTVAAsxnbAqCinCAfcUwAs9m1YeEAdBTYeWAf3YGJMoP8yRSAHmagQF6E\n",
       "EZK9kBBCE+VcwMA1AUOUfQJIgsEJHm9PwdRCBikGBgD8Eiu7p8Z3sQAAAABJRU5ErkJggg==\n",
       "\" style=\"display:inline;vertical-align:middle;\" /></a></span></td></tr><tr><td><a name=\"0x617c1588aff67ed5_step1\">1</a></td><td>axiom</td><td></td><td><span style=\"font-size:20px;\"> <a class=\"ProveItLink\" href=\"../../../../negation/_theory_nbs_/axioms.ipynb#negation_elim\" style=\"text-decoration: none\">&nbsp;&#x22A2;&nbsp;&nbsp;</a><a class=\"ProveItLink\" href=\"../../../../negation/__pv_it/axioms/0fd3f403bc4d76bb1a3bc88358aa217c1bfc7dc50/expr.ipynb\"><img src=\"data:image/png;base64,iVBORw0KGgoAAAANSUhEUgAAAJcAAAAXBAMAAAD0AcCSAAAAMFBMVEX///8AAAAAAAAAAAAAAAAA\n",
       "AAAAAAAAAAAAAAAAAAAAAAAAAAAAAAAAAAAAAAAAAAAv3aB7AAAAD3RSTlMAq1RmmUTNIjK7EInv\n",
       "3XZ/CtNrAAAACXBIWXMAAA7EAAAOxAGVKw4bAAABvElEQVQ4y2NgIBoUUCSNCvgUwFQZLvk4IBYA\n",
       "MZSJMEwbQuVjkQoGW2bAwOAKYqQTNosrAUwx/ccipwcmsxgYGoEU+wTChrEYQCj5AlyGmTAwsC1g\n",
       "YOBWIGwYD4Tavr8Bl2E8CxiYgTayERFkamCS/cF7BVyGsQFNOnv37mkiDPOG+JJB3wCXYdzAuPRg\n",
       "YJgF5iyAKkcBC2CMZDAZxNC/AUT73gWBiyiGMQOjqJCBHZw8uE6AhThR4/AEjHUJTDow1AvgchnT\n",
       "AaDuBdwBYFd+wmIYVBAIjoLT0hQX+Qm4DOP4ADTwAST8I85hMQwqCDNsHQMD/wVchrECXcaQYAdm\n",
       "P0jEYhhUEOZNBwYG3gO4wowJZM2mLLAPGNwwDYMJAsE8kN2gZPQBl8uYQQFQAw7SCIY3SIbtnDlz\n",
       "5gWEIBBsBKkEyX/HZRgLKJ4ZwWnae7f8AlSXCSAEgaCXgWHl/ywGpvnfNqCaBPTxGbCPeQMQHmKo\n",
       "b0A3DC4IBLwNhJJ1LXIpwq+AapgDQhAUIg6EDHOGlwkHGbj8U9EiACEIAtMJmIWt6OHEpXglAcM4\n",
       "C0gwjP0BfsOeM5BgGDmAnQK9AL/XYzuwbv1UAAAAAElFTkSuQmCC\n",
       "\" style=\"display:inline;vertical-align:middle;\" /></a></span></td></tr>\n",
       "<tr><td>&nbsp;</td><td colspan=4 style-\"text-align:left\"><a class=\"ProveItLink\" href=\"../../../../negation/_theory_nbs_/axioms.ipynb#negation_elim\">proveit.logic.booleans.negation.negation_elim</a></td></tr><tr><td><a name=\"0x617c1588aff67ed5_step2\">2</a></td><td>axiom</td><td></td><td><span style=\"font-size:20px;\"> <a class=\"ProveItLink\" href=\"../../axioms.ipynb#empty_disjunction\" style=\"text-decoration: none\">&nbsp;&#x22A2;&nbsp;&nbsp;</a><a class=\"ProveItLink\" href=\"../../../__pv_it/axioms/7c8a5fceb27af0b8c336880a32aa294256f5ebef0/expr.ipynb\"><img src=\"data:image/png;base64,iVBORw0KGgoAAAANSUhEUgAAADsAAAAVBAMAAAAKrYvGAAAAMFBMVEX///8AAAAAAAAAAAAAAAAA\n",
       "AAAAAAAAAAAAAAAAAAAAAAAAAAAAAAAAAAAAAAAAAAAv3aB7AAAAD3RSTlMAmd0iq3YyiUQQZrvN\n",
       "VO8LyBxeAAAACXBIWXMAAA7EAAAOxAGVKw4bAAAA8UlEQVQoz2NggIEgNVQGM4MBAxKoQGPFMrTi\n",
       "keYtYGBdgCLNMgFIsQVApOcA8UkUaa4AIMWdAJGWAuKFqIYrACkbqOEPgJhvAop0LZCShUjzHgAS\n",
       "PAtQpIE6QSaApBkLgAS7A4o0SwIDawBEGqyR6wCDkBIQKEKk2RwYmCZApJkugGx4ANFpAvXtYYaL\n",
       "UBZfA8iTH1ClrwMVIElzoOlmYtvAgGy4AkTaECrIuqQByuIGBRHXBtQw59SBscB+AvsOOSJkYSw2\n",
       "kLlMDThjDBTpRrgjdCE0WnBIcxswMG/ALc25AaQCAYrgae0FmDJlCGZgAABmdjU0Gp74gwAAAABJ\n",
       "RU5ErkJggg==\n",
       "\" style=\"display:inline;vertical-align:middle;\" /></a></span></td></tr>\n",
       "<tr><td>&nbsp;</td><td colspan=4 style-\"text-align:left\"><a class=\"ProveItLink\" href=\"../../axioms.ipynb#empty_disjunction\">proveit.logic.booleans.disjunction.empty_disjunction</a></td></tr></table>"
      ],
      "text/plain": [
       "\tstep type\trequirements\tstatement\n",
       "0\tinstantiation\t1, 2\t|- [or]() = FALSE\n",
       "\tA : [or]()\n",
       "1\taxiom\t\t|- forall_{A | [not](A)} (A = FALSE)\n",
       "\tproveit.logic.booleans.negation.negation_elim\n",
       "2\taxiom\t\t|- [not]([or]())\n",
       "\tproveit.logic.booleans.disjunction.empty_disjunction"
      ]
     },
     "execution_count": 5,
     "metadata": {},
     "output_type": "execute_result"
    }
   ],
   "source": [
    "%qed"
   ]
  }
 ],
 "metadata": {
  "kernelspec": {
   "display_name": "Python 3",
   "language": "python",
   "name": "python3"
  }
 },
 "nbformat": 4,
 "nbformat_minor": 0
}