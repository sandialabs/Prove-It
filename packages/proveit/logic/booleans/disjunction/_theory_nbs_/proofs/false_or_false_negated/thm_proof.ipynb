{
 "cells": [
  {
   "cell_type": "markdown",
   "metadata": {},
   "source": [
    "Proof of <a class=\"ProveItLink\" href=\"../../../../../../_theory_nbs_/theory.ipynb\">proveit</a>.<a class=\"ProveItLink\" href=\"../../../../../_theory_nbs_/theory.ipynb\">logic</a>.<a class=\"ProveItLink\" href=\"../../../../_theory_nbs_/theory.ipynb\">booleans</a>.<a class=\"ProveItLink\" href=\"../../theory.ipynb\">disjunction</a>.<a class=\"ProveItLink\" href=\"../../theorems.ipynb#false_or_false_negated\">false_or_false_negated</a> theorem\n",
    "========"
   ]
  },
  {
   "cell_type": "code",
   "execution_count": 1,
   "metadata": {},
   "outputs": [],
   "source": [
    "import proveit\n",
    "from proveit.logic.booleans.disjunction  import or_f_f\n",
    "theory = proveit.Theory() # the theorem's theory"
   ]
  },
  {
   "cell_type": "code",
   "execution_count": 2,
   "metadata": {},
   "outputs": [
    {
     "data": {
      "text/html": [
       "With these <a href=\"allowed_presumptions.txt\">allowed</a>/<a href=\"disallowed_presumptions.txt\">disallowed</a> theorem/theory presumptions (e.g., to avoid circular dependencies), we begin our proof of<br><strong id=\"false_or_false_negated\">false_or_false_negated:</strong> <a class=\"ProveItLink\" href=\"../../../__pv_it/theorems/6047236ddcc0b3f2fc2a65eeac24c66476c6a3d30/expr.ipynb\"><img src=\"data:image/png;base64,iVBORw0KGgoAAAANSUhEUgAAAFYAAAAVBAMAAAAutAQGAAAAMFBMVEX///8AAAAAAAAAAAAAAAAA\n",
       "AAAAAAAAAAAAAAAAAAAAAAAAAAAAAAAAAAAAAAAAAAAv3aB7AAAAD3RSTlMAmd0iq3ZUiRDNZu9E\n",
       "uzLWhN+VAAAACXBIWXMAAA7EAAAOxAGVKw4bAAABC0lEQVQoz2NgQABmBjwATTIMn1qeAGQeWwGI\n",
       "PIVF2QIQGYUs1AkmUyEcDxDxFGoI2EjOBiS1Ushql4KIe8hquQSQ1G5AVssE8s4EZLUMO5CcOwFZ\n",
       "LXsCAwNjAoraWQi1jAXIakFmMjGgqC1BqOVcgKyWwY+BIRRV7UoGISUgUAS5MAFF7RMGBg1UtdkQ\n",
       "ngkQcx9AUctpwCaAqvY9TrVsBZwGqGpPI9SiuYFB4S0DqtokCM8QiHkDUNVG+aCpXYsIB3YHVLVN\n",
       "E9DUiiPU8ikwgAJlt5KSCiS8IW5iVFLS3qSkBDRIBymO9RjwAmYFJM5C/GoZFyBxeA3wqrVF5nBc\n",
       "wKv2MgrPFJ9SVgMGAPkQK7naZXhkAAAAAElFTkSuQmCC\n",
       "\" style=\"display:inline;vertical-align:middle;\" /></a><br>(see <a class=\"ProveItLink\" href=\"../../../__pv_it/theorems/7e57deca92c3a100d28e96368b684698596473120/dependencies.ipynb\">dependencies</a>)<br>"
      ],
      "text/plain": [
       "<IPython.core.display.HTML object>"
      ]
     },
     "metadata": {},
     "output_type": "display_data"
    },
    {
     "name": "stdout",
     "output_type": "stream",
     "text": [
      "false_or_false_negated has been proven.  Now simply execute \"%qed\".\n"
     ]
    }
   ],
   "source": [
    "%proving false_or_false_negated"
   ]
  },
  {
   "cell_type": "code",
   "execution_count": 3,
   "metadata": {},
   "outputs": [
    {
     "name": "stdout",
     "output_type": "stream",
     "text": [
      "proveit.logic.booleans.disjunction.false_or_false_negated has been proven.\n"
     ]
    },
    {
     "data": {
      "text/html": [
       "<table><tr><th>&nbsp;</th><th>step type</th><th>requirements</th><th>statement</th></tr>\n",
       "<tr><td><a name=\"-0x5bd56a017d890911_step0\">0</a></td><td>instantiation</td><td><a href=\"#-0x5bd56a017d890911_step1\">1</a>, <a href=\"#-0x5bd56a017d890911_step2\">2</a></td><td><span style=\"font-size:20px;\"> <a class=\"ProveItLink\" href=\"../../../__pv_it/_proof_false_or_false_negated/905484a37d96b601fd4c4b5e1a6d44a74f1a0dcf0/proof.ipynb\" style=\"text-decoration: none\">&nbsp;&#x22A2;&nbsp;&nbsp;</a><a class=\"ProveItLink\" href=\"../../../__pv_it/theorems/6047236ddcc0b3f2fc2a65eeac24c66476c6a3d30/expr.ipynb\"><img src=\"data:image/png;base64,iVBORw0KGgoAAAANSUhEUgAAAFYAAAAVBAMAAAAutAQGAAAAMFBMVEX///8AAAAAAAAAAAAAAAAA\n",
       "AAAAAAAAAAAAAAAAAAAAAAAAAAAAAAAAAAAAAAAAAAAv3aB7AAAAD3RSTlMAmd0iq3ZUiRDNZu9E\n",
       "uzLWhN+VAAAACXBIWXMAAA7EAAAOxAGVKw4bAAABC0lEQVQoz2NgQABmBjwATTIMn1qeAGQeWwGI\n",
       "PIVF2QIQGYUs1AkmUyEcDxDxFGoI2EjOBiS1Ushql4KIe8hquQSQ1G5AVssE8s4EZLUMO5CcOwFZ\n",
       "LXsCAwNjAoraWQi1jAXIakFmMjGgqC1BqOVcgKyWwY+BIRRV7UoGISUgUAS5MAFF7RMGBg1UtdkQ\n",
       "ngkQcx9AUctpwCaAqvY9TrVsBZwGqGpPI9SiuYFB4S0DqtokCM8QiHkDUNVG+aCpXYsIB3YHVLVN\n",
       "E9DUiiPU8ikwgAJlt5KSCiS8IW5iVFLS3qSkBDRIBymO9RjwAmYFJM5C/GoZFyBxeA3wqrVF5nBc\n",
       "wKv2MgrPFJ9SVgMGAPkQK7naZXhkAAAAAElFTkSuQmCC\n",
       "\" style=\"display:inline;vertical-align:middle;\" /></a></span></td></tr>\n",
       "<tr><td>&nbsp;</td><td colspan=4 style=\"text-align:left\"><span style=\"font-size:20px;\"><a class=\"ProveItLink\" href=\"../../../../../../__pv_it/common/09585084922504426caf1db2ff588a23a0932a960/expr.ipynb\"><img src=\"data:image/png;base64,iVBORw0KGgoAAAANSUhEUgAAAA8AAAAPBAMAAADJ+Ih5AAAAMFBMVEX///8AAAAAAAAAAAAAAAAA\n",
       "AAAAAAAAAAAAAAAAAAAAAAAAAAAAAAAAAAAAAAAAAAAv3aB7AAAAD3RSTlMAIs1UmauJMnZmRLsQ\n",
       "3e++988cAAAACXBIWXMAAA7EAAAOxAGVKw4bAAAAXklEQVQI12NgAAEhBijQh9LM/6EMlngBCCMx\n",
       "vwBMMzb0G0BkGOwngBmLGeoTwAwHBvkAEM2xxSV+A4hxgoGB/wJEhoH3AZDmAupg+gBkyAEx90cG\n",
       "htP/dRiY939KAABt3hLO6mcEjQAAAABJRU5ErkJggg==\n",
       "\" style=\"display:inline;vertical-align:middle;\" /></a> : <a class=\"ProveItLink\" href=\"../../../__pv_it/axioms/da65ebe41caf682fb54517627e6d86dcc6435f710/expr.ipynb\"><img src=\"data:image/png;base64,iVBORw0KGgoAAAANSUhEUgAAADUAAAAPBAMAAAC2KZqIAAAAMFBMVEX///8AAAAAAAAAAAAAAAAA\n",
       "AAAAAAAAAAAAAAAAAAAAAAAAAAAAAAAAAAAAAAAAAAAv3aB7AAAAD3RSTlMARGZUdpnd76sQMrsi\n",
       "zYn8WdLlAAAACXBIWXMAAA7EAAAOxAGVKw4bAAAAd0lEQVQY02NgwA+EMIUYFaAMEwjFMQFIcDmA\n",
       "2cwOqHJMID73AqxyDAlAfJYBu9xjIA7GIXcWqhebHMcCBhYHHHJcDQxsE3DIMdxhMGXAJWcHlMUl\n",
       "x8a1Aacci4YATjnOXAYUubC0tPK0tAyIEMTnrGlp6WVpaQ0AGzgW6kOxsq8AAAAASUVORK5CYII=\n",
       "\" style=\"display:inline;vertical-align:middle;\" /></a></span></td></tr><tr><td><a name=\"-0x5bd56a017d890911_step1\">1</a></td><td>theorem</td><td></td><td><span style=\"font-size:20px;\"> <a class=\"ProveItLink\" href=\"../../../../negation/_theory_nbs_/proofs/negation_intro/thm_proof.ipynb\" style=\"text-decoration: none\">&nbsp;&#x22A2;&nbsp;&nbsp;</a><a class=\"ProveItLink\" href=\"../../../../negation/__pv_it/theorems/6d52edb7489198a819b30fa49358832bc6fbae820/expr.ipynb\"><img src=\"data:image/png;base64,iVBORw0KGgoAAAANSUhEUgAAAIUAAAAXBAMAAADXWpFHAAAAMFBMVEX///8AAAAAAAAAAAAAAAAA\n",
       "AAAAAAAAAAAAAAAAAAAAAAAAAAAAAAAAAAAAAAAAAAAv3aB7AAAAD3RSTlMAq1RmmUTNIjK7EInv\n",
       "3XZ/CtNrAAAACXBIWXMAAA7EAAAOxAGVKw4bAAABz0lEQVQ4y2NgIA2wowsUMJAMHqEYmMDAEAek\n",
       "BUAcZWKNYNqAzGP7wMDAZ8DA4AripBNrxjIUnj7QDIYsBoZGkJsmEGuGMwrP8TuQMAG6ZwEDA7cC\n",
       "sWYcQOZwV/8AkjwLGJiB/mEjOjgSkHl1fJ9AgQI04Ozdu6eJNYMFJUgdmD6DXAOMFQ8GhllgoQUQ\n",
       "ZTAVXFjMANkJB6wKHL+BFDPQbYUM7OD45ToBluGEKVnTgGQjlOYFBpzvXSC4AraN/SPIf8Aw4lzA\n",
       "HQAOoU+oZuxHCmhYvPEEQBmFQPzSxfEnkOIARjDTA0iQRpxDMYO15wF+M7iA8n9BCkFxlWAHFn6Q\n",
       "iGIGH5sAphm8CggzQAF3B+SXC0BiUxZYD4MbihkPWBIYPGcCgQGSGZwwt5UwMAQDqXxQmIIka8AW\n",
       "RjC8QTaDtYHvAKY7uBFuYwdJzy+AxjcjOAK8d8svQDKDZffGX5hmcFyAx/z8bwsYNP9nA/0HCyOg\n",
       "VxjqG5DMeMDA/gPTLww3MNNMLZwF9B2/AsIMVqDOT5juAGUwnNmQ5SADl38qwgwfAYYl36CO5J45\n",
       "8+TMedBAxSi2sOV5TrwZhgtDB2cBqWYw1KELPGcg2QzyCm7CAACM/mSyha+m5AAAAABJRU5ErkJg\n",
       "gg==\n",
       "\" style=\"display:inline;vertical-align:middle;\" /></a></span></td></tr>\n",
       "<tr><td>&nbsp;</td><td colspan=4 style-\"text-align:left\"><a class=\"ProveItLink\" href=\"../../../../negation/_theory_nbs_/proofs/negation_intro/thm_proof.ipynb\">proveit.logic.booleans.negation.negation_intro</a></td></tr><tr><td><a name=\"-0x5bd56a017d890911_step2\">2</a></td><td>axiom</td><td></td><td><span style=\"font-size:20px;\"> <a class=\"ProveItLink\" href=\"../../axioms.ipynb#or_f_f\" style=\"text-decoration: none\">&nbsp;&#x22A2;&nbsp;&nbsp;</a><a class=\"ProveItLink\" href=\"../../../__pv_it/axioms/4e6ae09189e7fdfa4842751d2c37d9938b19ca550/expr.ipynb\"><img src=\"data:image/png;base64,iVBORw0KGgoAAAANSUhEUgAAAHAAAAAVBAMAAABs93eRAAAAMFBMVEX///8AAAAAAAAAAAAAAAAA\n",
       "AAAAAAAAAAAAAAAAAAAAAAAAAAAAAAAAAAAAAAAAAAAv3aB7AAAAD3RSTlMAInZUiRDNmWbv3US7\n",
       "qzJazP2FAAAACXBIWXMAAA7EAAAOxAGVKw4bAAABEUlEQVQ4y2NgYBBgwAPwSDIZ4NO4CbeUCYjg\n",
       "bsCU2AE2FosERIY1AUQyK0CEroKIRxC2EZhMxaIRLMPegKyxCUScQ9bYjksjJwOyRi4gZkxA1sgZ\n",
       "gEOjGYpGFmBIsRsga2RrwKGxBEUjyDYuZGkGlgs4NGagaGS4x8CghKKRA+zwqlUgsBZZZjGqxrcM\n",
       "DEtRNDJPwGHjbFSNbALMBSga+T4Qp5HZgU0ARSM3LhvRnMqw4A0DqlMX4PDjITSNGrdRNXIcwGGj\n",
       "L5rGqARUjewOODS+AsqtWrVy1qpVkAiDRj/QbTPBbuPagKYLJsP1gAEvkMIlwVGAX2MFTpmDePUx\n",
       "HsApFYNXIw/usoNRAZ9GRVwSALm/PhVmCEK+AAAAAElFTkSuQmCC\n",
       "\" style=\"display:inline;vertical-align:middle;\" /></a></span></td></tr>\n",
       "<tr><td>&nbsp;</td><td colspan=4 style-\"text-align:left\"><a class=\"ProveItLink\" href=\"../../axioms.ipynb#or_f_f\">proveit.logic.booleans.disjunction.or_f_f</a></td></tr></table>"
      ],
      "text/plain": [
       "\tstep type\trequirements\tstatement\n",
       "0\tinstantiation\t1, 2\t|- [not](FALSE or FALSE)\n",
       "\tA : FALSE or FALSE\n",
       "1\ttheorem\t\t|- forall_{A | A = FALSE} [not](A)\n",
       "\tproveit.logic.booleans.negation.negation_intro\n",
       "2\taxiom\t\t|- (FALSE or FALSE) = FALSE\n",
       "\tproveit.logic.booleans.disjunction.or_f_f"
      ]
     },
     "execution_count": 3,
     "metadata": {},
     "output_type": "execute_result"
    }
   ],
   "source": [
    "%qed"
   ]
  },
  {
   "cell_type": "code",
   "execution_count": null,
   "metadata": {},
   "outputs": [],
   "source": []
  }
 ],
 "metadata": {
  "kernelspec": {
   "display_name": "Python 3",
   "language": "python",
   "name": "python3"
  }
 },
 "nbformat": 4,
 "nbformat_minor": 0
}