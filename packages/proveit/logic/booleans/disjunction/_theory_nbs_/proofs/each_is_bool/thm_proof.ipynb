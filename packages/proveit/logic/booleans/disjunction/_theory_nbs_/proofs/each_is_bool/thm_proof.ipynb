{
 "cells": [
  {
   "cell_type": "markdown",
   "metadata": {},
   "source": [
    "Proof of <a class=\"ProveItLink\" href=\"../../../../../../_theory_nbs_/theory.ipynb\">proveit</a>.<a class=\"ProveItLink\" href=\"../../../../../_theory_nbs_/theory.ipynb\">logic</a>.<a class=\"ProveItLink\" href=\"../../../../_theory_nbs_/theory.ipynb\">booleans</a>.<a class=\"ProveItLink\" href=\"../../theory.ipynb\">disjunction</a>.<a class=\"ProveItLink\" href=\"../../theorems.ipynb#each_is_bool\">each_is_bool</a> theorem\n",
    "========"
   ]
  },
  {
   "cell_type": "code",
   "execution_count": 1,
   "metadata": {},
   "outputs": [],
   "source": [
    "import proveit\n",
    "from proveit import defaults\n",
    "#from proveit import Lambda, Iter, Indexed\n",
    "from proveit import A, B, C, D, i, j, k, l, m, n\n",
    "from proveit.logic import Or, TRUE, FALSE, Forall, Implies, Not, in_bool, And, Boolean, Equals, Set\n",
    "from proveit.core_expr_types import A_1_to_m, C_1_to_n\n",
    "from proveit.numbers import Natural, NaturalPos, Add, Exp, one, LessEq\n",
    "from proveit.logic.booleans.disjunction  import left_in_bool, right_in_bool, multi_disjunction_def\n",
    "theory = proveit.Theory() # the theorem's theory"
   ]
  },
  {
   "cell_type": "code",
   "execution_count": 2,
   "metadata": {},
   "outputs": [
    {
     "data": {
      "text/html": [
       "With these <a href=\"allowed_presumptions.txt\">allowed</a>/<a href=\"disallowed_presumptions.txt\">disallowed</a> theorem/theory presumptions (e.g., to avoid circular dependencies), we begin our proof of<br><strong id=\"each_is_bool\">each_is_bool:</strong> <a class=\"ProveItLink\" href=\"../../../__pv_it/theorems/e0e13428a4631826afafff48ebd935627215daa60/expr.ipynb\"><img src=\"data:image/png;base64,iVBORw0KGgoAAAANSUhEUgAAAsYAAAAZBAMAAADAsfVVAAAAMFBMVEX///8AAAAAAAAAAAAAAAAA\n",
       "AAAAAAAAAAAAAAAAAAAAAAAAAAAAAAAAAAAAAAAAAAAv3aB7AAAAD3RSTlMAq1RmmUTNIjK7EInv\n",
       "3XZ/CtNrAAAACXBIWXMAAA7EAAAOxAGVKw4bAAAHE0lEQVRo3u1afYhUVRQ/M28+38w8Z8EiCXXE\n",
       "koW1ZcI1ECoHP1IxaEgIcyynLMQPakwQjGom6R9h0yHYcpc+Zk0CWaNREGoXajUty6wlFpPFgbdo\n",
       "yarZJmVllJ1777vvnTfvzTioUX/Mhffeuefee97v/d555557ZwAaK57Kd9As11G0yreNdg002XIt\n",
       "uWu3zmpyfGNemnBXn3r98vFbAB4XHMfZZXoDHHvYxZts8kpLGx7KOz+33LrTrg/79c29adCSnOOF\n",
       "TLWmAY59aXbJNXklRc2yc7QIMLVQxXEykkP1Os7xy3gOFhvgOMQ8fkuTV1p8/LPO6wCrUtUcKwkk\n",
       "rINzHCgBRBKNxGP2TvY3eaUlys9z0Yfn6lwcq1SyJscoRUuMYyXZ0IQWEPNjtskrLTP4eSoeG3gQ\n",
       "feSc5ceeTWWkLcl5O16pHGuI42ilcqrc5JWWpfz8BUDvSSYE11mx4tyPt+M1EuccLwboaYhjXwHC\n",
       "pSavtKxmp9AfF0dXC5JyFscnvhlGspQs53gjBOMNcYzdNorZlDbUYP0mvQwxk3hzLibVuhP+v5AK\n",
       "u+j4Ek77DWBm0r6IwFihzUav9g5yjsOlSNrVaHD4ANwbJ2uQHjjA5b0kT1GPuj+jTb3tl4ElYszo\n",
       "0v5+E/TEgT6XV0G7gEh4ZrvdaW+hDiGORgtC9S1qAqnua2QO3vVPDcsc4QjnE3mM/M6kzgqWosEx\n",
       "FDPo4+OcY6/uNuVtn9QF0yIlX4lw3G5MeZ+QNCRyyRWZXa0MgTbIhMcSHBEvfnSCN50jaReDYzVO\n",
       "TPrY5glBYdbdGi0Vh2DI5i0Ya3ELiJspAidj0KKXn2ulHE9AeMrfTNpD/RiKYXzIQSNXuN8l8VvM\n",
       "Vn96KkLX0gGFJyj+Tt3quPxrV47tak8KlHHmAl/iIRPJmfj67nAMtHUxOOarH2mSrTQzBIWsuzZa\n",
       "Kg5ByNYtcHnrL1tAXExROJjlclr0cmQXjRU7sKfnVybF7BwjZ94hwfF+jBvK/O2j2hz2MaF0BuA0\n",
       "69h650s2jiMzuFdrARK/9SdcObarowl4nwWsPHpXyPCwIHPLrY6BtIvkOGYzWRRztImiSOfs6kZT\n",
       "JSBw2bpFmEVKAsRpisLBVQSnRS9vkpHmbXb6CWeLHfwL13Qbx+3IZlFw/ALieXdlMhrXGDAm5VT+\n",
       "bK2RXRnKcfCgeFhflkwED7jPDzZ1/nTHbew6mfr2kOvLmWyvchybbSanM98jKIy6e6OpEhC4bN0C\n",
       "fTVDgThNUTjelKBFX/CVjOz72GkDfg2fiZj6pMVxOXIe/d9XFhx7cMTzP8CEAlNwqeTn02QrpMZs\n",
       "+26cKH8BY2vQeN/L4QL42xc6QgWqSbkP1Inselh4MB8b5V+gY+xhF44fNU1uKTHnYxkkR/HwmbSs\n",
       "y2ezGu0qAYHLBEURXZUAcZqicPxFQYtefuV7Q/UqHpOutrSsNVy9t0uM1zZ08303iKXJ3uYU6IRY\n",
       "QkgrQVnb3f0actwXcO5t+gb2XYGtI0YSPjC1FIUPHLk5qkkVny7PYiqLqF5jbJR9VwnHWNHFzvE0\n",
       "aTJ0F0s5kxmJYlAdl3U5u1qNdpWAwGWCYha6KgHiNEXhhIqCFozHMoTGqtOXzFsV21L4Rbp/fBTG\n",
       "IB8S0oJQqCz82N/u5FiHICYqIzJnzBeC+HocqWS+oMybtbBNYDgEsIpJLXicNcZ6MDBpOcdY0aVj\n",
       "WRvheJs0CTH25rI9EkUuNCjrsliNHdM7Hv7QVBkQmExQBNBVKRCHKQrHmxK0IMcyV1ZS10iq5xOO\n",
       "g+Pov3N80Mekk60i9GNaOurgmH0vlzjCPoBlmLmg83exilqWJ6H2jsERb5lpgldAHWbC3jRoaWOs\n",
       "inkP++S6yECzS3sxVjXniTtxju8umyjCaaMu70wa24vRNH9TTCUgCNlCAQqudy0gLqYoHJzRegyO\n",
       "t0s23qhPMd/QlBz747AGNp6DzgRK55OwBd956ETOShdNjh+Mw+7LaYawM+E7COpDT7NFNlZCn0Nn\n",
       "jp2keqea9SUgdAju+XNgCRfUBR+zTRM+FnYvvVjiC3RsEANzZhdPYTPhOJwDwyTnmO0UGigWGzmV\n",
       "NEAbw4X3YJ5sFxCEbKEQe4kmEBdTFA7CYLR4n1nfbf5Ssac+x+EcuPzWZARv9aPuruq1tK2MWH2h\n",
       "XyMVSxrylmMKia7eWmOt+CulGJxeYXFsTfYx+3IsUtJrP18M2mCozs82I/Zqv1bPFIOzx4WWoF6X\n",
       "47PgwrG/VHu/wrYMPJYw+wau/kUHSkmNa2kP3mSFbFhRa6zZw5R6oS1J1tKL5Kxzwb5//ezVodrP\n",
       "14sRYErtn20YCvp8DEhtUwzOouvc6KjmWIHGOHb0VWqaSDqE6k5JcOtCOI78H7b7lPRN4rj2vtt/\n",
       "8/+K3E3dxbuhcp1beVrl038A+HIz/ATc1BwAAAAASUVORK5CYII=\n",
       "\" style=\"display:inline;vertical-align:middle;\" /></a><br>(see <a class=\"ProveItLink\" href=\"../../../__pv_it/theorems/c0ca3413b8141f0169ca7984a366894d1ac58b440/dependencies.ipynb\">dependencies</a>)<br>"
      ],
      "text/plain": [
       "<IPython.core.display.HTML object>"
      ]
     },
     "metadata": {},
     "output_type": "display_data"
    }
   ],
   "source": [
    "%proving each_is_bool"
   ]
  },
  {
   "cell_type": "code",
   "execution_count": 3,
   "metadata": {},
   "outputs": [
    {
     "data": {
      "text/html": [
       "<strong id=\"defaults.assumptions\">defaults.assumptions:</strong> <a class=\"ProveItLink\" href=\"../../../__pv_it/_proof_each_is_bool/41d8a986b5bf6d624dc9091d52d33f00eca42ab60/expr.ipynb\"><img src=\"data:image/png;base64,iVBORw0KGgoAAAANSUhEUgAAAlsAAAAVBAMAAACDJjZ3AAAAMFBMVEX///8AAAAAAAAAAAAAAAAA\n",
       "AAAAAAAAAAAAAAAAAAAAAAAAAAAAAAAAAAAAAAAAAAAv3aB7AAAAD3RSTlMAInZUiRDNmWbv3US7\n",
       "qzJazP2FAAAACXBIWXMAAA7EAAAOxAGVKw4bAAAGBklEQVRYw81ZfWwUVRCf3bu9j72PngnWj2h6\n",
       "NlSRFGmMSiQGThSjCYaVfyQE7CEhkcSEJmpo1MQLf+AfoqCRxKCBSwigJ4ELVk31DxdQjGjhWqUS\n",
       "8OylMRKI2ha1ggp13tu3ezv7QfdCE5mkm9uZ35vZ93vz5s1uASADUyBT4uQqEelyc5Q7vI3L/j2s\n",
       "wSMXyhDELJw0+4CbG3zg5v+VrkSW3svvHR7fegpgP7u5y2/UoUQFlFEIZBZO1vpg1zb4wH74jRPV\n",
       "6tM1h3JJX7UwzY1V2qsnpFzgkHb4DIctmcg2ryiDXEBY3s/ByczDAJshiFk4CU1Y1pSGl7RYJj+9\n",
       "TY6zyzC48I4h7+DtJQqX39BgzrtuN7e3Qej5QuCodnhEc9JVCGd0gNUA0YIfH9/qkQwUIYhZOIkO\n",
       "WSUsxp4tKRLBT2+T9exyFFx4OkQ6h1vlLwJXjqAlOuZys3wvXl7KBI1K4V0uumIdFYCXAeJOF/KR\n",
       "0i7+o3+9lPegq71UyjvNwsn9i+tPVLSVID+9TVRGRt4DT4bEMLNi5wg8soVVm80uN2tYhvQGjkrh\n",
       "W+hUOV34K67BPc4696SZif2p2nQ3XR+1eZgNJ1J2dv3YeAD/noHL6u0SRkS0wwNPhqSwVkZeJ/DF\n",
       "7JrucroJ/85uTweN6oA/RaeKdKWux7oWKcCzeLv/+LT27E+L+CnXbO3bftCTZYOPxKzHFhw0prLa\n",
       "w8ydYGCYXyCHm7lVffTk8M4ba+3CkyFxHZSTNTtc+pvvyJrTTQsf8ETQqA74o3SqyUTbzO8YqRVO\n",
       "ZK4vq5wvh3hGr4Q6H6eVnUaMcHIAOvnGjmQ8zGI1PoCR+kmUqoEsaqufnsiPAK3ggSdDRg62DhYI\n",
       "PHzO281iGmOyqA74BjrVZGLX9t2YRrE87MDcKe9hRTTGu4K8ja5Yx31GUfhU1aGFr2DEy8ycoHRB\n",
       "S8UypyugikT10xP5FWAneODJkNkZCL1F4OqYt5t9tG+eLKoDfi+dKm5G+RXMNUyotzGVlX8g9CdE\n",
       "GVPpraVSaY/gA46nDD60zjLM5+HOoLmkO8zMCZ4RX64bQstSQfhKmCPODq5XHqxqVE8lkgl12fF2\n",
       "sYZ8xRKhZofH+RoroGygbrYbzx00qoCb6hE6VaQL9B4kZ5TPNDTKuIqzHaDotvSBFYrYbfMBBvmP\n",
       "5Z5mTtcSgKYipFuLZucq9rWhj0K0SPVUQjkz+Q28XawhF/FvU9YOVzld82B4JnWzj9/UgkYVcFPd\n",
       "S6fK6UryA5jto1Qe1Bx8ltFIQexnnZ1gD7k6r5hHr9u8w9hDoGK2hYQHNa2be4vpm8rSJap3SPEX\n",
       "sOPJeS+GpM/jZahshxsdFy70XOqGt1DhwFEF3JS5dKqcrgifGjvwMK9wtw1KrIq2WiDWvt2Bu4j9\n",
       "fhN3K/dWL5h2M3OCLiEyWqdLftWYl9DHNPHgpt4pM04BwXcPz5I31sgQGblJjxM4a1whrNXpEvoW\n",
       "9pwLA0c14d3Dt/GXLTpVTtedWOp1fmZiFd8E8DnnI2K1PKvY4uWhE2sRxpTzr1lap5k7uYH5HavT\n",
       "pRjNrqWHcNGuV8bNS6dR7JblCX5pbyFekSvEVQSTrlcc7yYce47EQqjTJfQhTMQezTsqD0ijCjgL\n",
       "mrEao1V1unLh6Zj00RycxdtPAJDUj2/hDn/40MD8fEHnL4MqHh2JIignDB5XfK25zMzJ8onVEDo2\n",
       "nrPoEm2hpYezml0Pu82LapR40aSa+GtvhaZaNGcfkjp2sTp4yGzOxLIqL1ZfABtdpv7xvu95PnlE\n",
       "5QFpVAFnQRn+fTJVec03/IsEqGVQnW9SiUXiJciUu6m950gp7zTbnYR8XjOlLxr7KjEAZ0DtCAyf\n",
       "OyVRB3iVl4reU73R/TrpltzkZrsTP7qug2saevJt0A4t6Sulq8Go22Bd2v+zQzf+HZjsQ1A2gPnA\n",
       "pHRJR397rqFPmqO41BujV0hXg1Ex6N55ADf5WHXSXniLHMRcdyI99Icnv/GJidGGPmlWsFO6uS0o\n",
       "fNraBVMQFYNOL/hmUDLD3/+n4vP2VDi5WkT2+ccDHoX/AUH1CfIPBGXZAAAAAElFTkSuQmCC\n",
       "\" style=\"display:inline;vertical-align:middle;\" /></a><br>"
      ],
      "text/plain": [
       "<IPython.core.display.HTML object>"
      ]
     },
     "metadata": {},
     "output_type": "display_data"
    }
   ],
   "source": [
    "defaults.assumptions = each_is_bool.all_conditions()"
   ]
  },
  {
   "cell_type": "code",
   "execution_count": 4,
   "metadata": {},
   "outputs": [
    {
     "data": {
      "text/html": [
       "<strong id=\"BeqT_or_BeqF\">BeqT_or_BeqF:</strong> <span style=\"font-size:20px;\"><a class=\"ProveItLink\" href=\"../../../__pv_it/axioms/c50b73f2d168f6a3012768bd45c62ea92218bcbc0/expr.ipynb\"><img src=\"data:image/png;base64,iVBORw0KGgoAAAANSUhEUgAAADcAAAAQBAMAAABAXPr7AAAAMFBMVEX///8AAAAAAAAAAAAAAAAA\n",
       "AAAAAAAAAAAAAAAAAAAAAAAAAAAAAAAAAAAAAAAAAAAv3aB7AAAAD3RSTlMAZrurzTLvInZEmRDd\n",
       "VIkafcLnAAAACXBIWXMAAA7EAAAOxAGVKw4bAAAA8UlEQVQY02NgwAZ6kvzdDk8AsYT+Gxs7BaDK\n",
       "Ksxg97YEs5IYGJi/oklOZHjOBGKw/2Bg4PyFISnLDGIwAnUx/gCLceicOQKXZAExmD8wMLCkg1ic\n",
       "HhsQOs3lQAw2BQZuG7CDSjYgHLTj8AMQI16jw0QALOSOsHOO25/VIEZ/AQNvIljIAdlBjVNA5qgB\n",
       "8XuQsaw5Z86cOQSTZOIEmfsZiOUbgAS3ArJOJgYgl/UjkGMPDqsDqJJAWzi+AxV8AQt1oEjyAk1j\n",
       "SWBgmOYNFmK5AJecx/DiFTAI9D8bm+hChLiNZkMYLUn60FhBApyPoMEHAQCDjz3xiC/o5wAAAABJ\n",
       "RU5ErkJggg==\n",
       "\" style=\"display:inline;vertical-align:middle;\" /></a> <a class=\"ProveItLink\" href=\"../../../__pv_it/_proof_each_is_bool/7d2f8b2d59c142d53ad20a9bfb274c07782da2210/proof.ipynb\" style=\"text-decoration: none\">&nbsp;&#x22A2;&nbsp;&nbsp;</a><a class=\"ProveItLink\" href=\"../../../__pv_it/_proof_each_is_bool/49cf56b590cfabdaf9b8c6e5e041e733a3267db30/expr.ipynb\"><img src=\"data:image/png;base64,iVBORw0KGgoAAAANSUhEUgAAAFUAAAAVBAMAAADFg78FAAAAMFBMVEX///8AAAAAAAAAAAAAAAAA\n",
       "AAAAAAAAAAAAAAAAAAAAAAAAAAAAAAAAAAAAAAAAAAAv3aB7AAAAD3RSTlMAZrurzTLvInZEmRDd\n",
       "VIkafcLnAAAACXBIWXMAAA7EAAAOxAGVKw4bAAABXklEQVQoz2NgwA4KCArAAccFdJEZYFLov7Gx\n",
       "UwCqzD0EEyrNIQDmJTEwMH8F0swbgARrA5DgdkDSB5X2BrHZfzAwcP4CMhhByphANnAJIJTCpKVA\n",
       "HEagJsYfINYBIC4BMdiQjIVJs4FsZf7AwMCSDhJ+C8RrQYwrSGph0iwgu9gUGLhtwH4rgZrNsA5J\n",
       "LUyazwDIidfoMIG4jxnoXZCbGRyR1MKkGUH+7S9g4E0EC7MaMPCAXMVwFui9MyCwACHNmwAk1ID4\n",
       "PSR83RlugelMWBgYIKRZge5m+AzE8g3QKHDHUAuT5gSay/oRyLGfAJbjYVVggLoBphYuzQv0Ncd3\n",
       "oPov0GQgDNGjAVO7ACHNCDSGBWj2NG+IHPcRCP0YEQxwaa4HDMz6n41NdGEyayFUDCIm4NI8E7An\n",
       "SZ4ATLEaHMmXcQGm2EJcaV0dQ4RdAZfaTRgiTDgzEXsDukg7AwMAYL1R+qSyn2gAAAAASUVORK5C\n",
       "YII=\n",
       "\" style=\"display:inline;vertical-align:middle;\" /></a></span><br>"
      ],
      "text/plain": [
       "<IPython.core.display.HTML object>"
      ]
     },
     "metadata": {},
     "output_type": "display_data"
    }
   ],
   "source": [
    "BeqT_or_BeqF = in_bool(B).unfold(assumptions=[in_bool(B)])"
   ]
  },
  {
   "cell_type": "code",
   "execution_count": 5,
   "metadata": {},
   "outputs": [
    {
     "data": {
      "text/html": [
       "<strong id=\"BeqT\">BeqT:</strong> <a class=\"ProveItLink\" href=\"../../../../../../__pv_it/common/a9162d1c3cc0470c02e5daf414500903a7a419230/expr.ipynb\"><img src=\"data:image/png;base64,iVBORw0KGgoAAAANSUhEUgAAABAAAAAOBAMAAADUAYG5AAAAMFBMVEX///8AAAAAAAAAAAAAAAAA\n",
       "AAAAAAAAAAAAAAAAAAAAAAAAAAAAAAAAAAAAAAAAAAAv3aB7AAAAD3RSTlMAZrurzTLvInZEmRDd\n",
       "VIkafcLnAAAACXBIWXMAAA7EAAAOxAGVKw4bAAAAb0lEQVQI12NgYBD6b2zsFMAABEkMDMxfgTT7\n",
       "DwYGzl9ABiOQxwjkMDB/YGBgSQcy2BQYuG1AiuM1OkwEQJr6Cxh4E0EMNSB+D5L6DMTyDQwMrB+B\n",
       "DPsJDAwc34GcL0AOSwIDwzRvoHH6n41NdBkYAF/iFeJ4bEa2AAAAAElFTkSuQmCC\n",
       "\" style=\"display:inline;vertical-align:middle;\" /></a><br>"
      ],
      "text/plain": [
       "<IPython.core.display.HTML object>"
      ]
     },
     "metadata": {},
     "output_type": "display_data"
    }
   ],
   "source": [
    "BeqT = BeqT_or_BeqF.operands[0]"
   ]
  },
  {
   "cell_type": "code",
   "execution_count": 6,
   "metadata": {},
   "outputs": [
    {
     "data": {
      "text/html": [
       "<span style=\"font-size:20px;\"><a class=\"ProveItLink\" href=\"../../../../../../__pv_it/common/a9162d1c3cc0470c02e5daf414500903a7a419230/expr.ipynb\"><img src=\"data:image/png;base64,iVBORw0KGgoAAAANSUhEUgAAABAAAAAOBAMAAADUAYG5AAAAMFBMVEX///8AAAAAAAAAAAAAAAAA\n",
       "AAAAAAAAAAAAAAAAAAAAAAAAAAAAAAAAAAAAAAAAAAAv3aB7AAAAD3RSTlMAZrurzTLvInZEmRDd\n",
       "VIkafcLnAAAACXBIWXMAAA7EAAAOxAGVKw4bAAAAb0lEQVQI12NgYBD6b2zsFMAABEkMDMxfgTT7\n",
       "DwYGzl9ABiOQxwjkMDB/YGBgSQcy2BQYuG1AiuM1OkwEQJr6Cxh4E0EMNSB+D5L6DMTyDQwMrB+B\n",
       "DPsJDAwc34GcL0AOSwIDwzRvoHH6n41NdBkYAF/iFeJ4bEa2AAAAAElFTkSuQmCC\n",
       "\" style=\"display:inline;vertical-align:middle;\" /></a> <a class=\"ProveItLink\" href=\"../../../__pv_it/_proof_each_is_bool/d19ac0113bde5b47003c985d69c4ab01b0c31d920/proof.ipynb\" style=\"text-decoration: none\">&nbsp;&#x22A2;&nbsp;&nbsp;</a><a class=\"ProveItLink\" href=\"../../../__pv_it/_proof_each_is_bool/b677a00a750ae462ef977207acadfa9dc94a9f730/expr.ipynb\"><img src=\"data:image/png;base64,iVBORw0KGgoAAAANSUhEUgAAADwAAAAOBAMAAACBYGLnAAAAMFBMVEX///8AAAAAAAAAAAAAAAAA\n",
       "AAAAAAAAAAAAAAAAAAAAAAAAAAAAAAAAAAAAAAAAAAAv3aB7AAAAD3RSTlMAZrurzTLvInZEmRDd\n",
       "VIkafcLnAAAACXBIWXMAAA7EAAAOxAGVKw4bAAAAh0lEQVQY02NgYBD6b2zsFMCACtacAYHDIGYS\n",
       "AwPzVwYMcANCsf9gYOD8hVOaEaiT8QdOaeYPDAws6Til2RQYuG0CcErHa3SYCKA7FyHdX8DAm8iA\n",
       "U7caEL/HbfhnIJZvwCXN+hFI2E/AZTfHd6CSLzjtZklgYJjmjUuaWf+zsYkuFlmGiUAMAJPeMNSw\n",
       "HGcOAAAAAElFTkSuQmCC\n",
       "\" style=\"display:inline;vertical-align:middle;\" /></a></span>"
      ],
      "text/plain": [
       "{B} |- B = TRUE"
      ]
     },
     "metadata": {},
     "output_type": "display_data"
    }
   ],
   "source": [
    "BeqT.evaluation(assumptions=[BeqT])"
   ]
  },
  {
   "cell_type": "code",
   "execution_count": 7,
   "metadata": {},
   "outputs": [
    {
     "data": {
      "text/html": [
       "<strong id=\"BeqF\">BeqF:</strong> <a class=\"ProveItLink\" href=\"../../../__pv_it/_proof_each_is_bool/8552c6321b312c5e15a5015adce4a756ce05da420/expr.ipynb\"><img src=\"data:image/png;base64,iVBORw0KGgoAAAANSUhEUgAAAB0AAAAOBAMAAAAh/woJAAAAMFBMVEX///8AAAAAAAAAAAAAAAAA\n",
       "AAAAAAAAAAAAAAAAAAAAAAAAAAAAAAAAAAAAAAAAAAAv3aB7AAAAD3RSTlMAmd0iq2a7zTLvdkQQ\n",
       "VIm/XloVAAAACXBIWXMAAA7EAAAOxAGVKw4bAAAAgUlEQVQI12NggALW/C8u7hkMCMCZwMDg34Dg\n",
       "2y9gYNgvgODHA+XiFyD4/kBcaYDgT2NgOKKB4HJ8W7WkFEgLKQGBIgMD12cGhpsBUEkTBga2CQwM\n",
       "fD8QfH4HoJt+Ifj9QLUsv6F8QwaG9UCr+gsQ5lcyMHBPPwDnuv13cSm7wMAAAOyYG523RGm6AAAA\n",
       "AElFTkSuQmCC\n",
       "\" style=\"display:inline;vertical-align:middle;\" /></a><br>"
      ],
      "text/plain": [
       "<IPython.core.display.HTML object>"
      ]
     },
     "metadata": {},
     "output_type": "display_data"
    }
   ],
   "source": [
    "BeqF = BeqT_or_BeqF.operands[1]"
   ]
  },
  {
   "cell_type": "code",
   "execution_count": 8,
   "metadata": {},
   "outputs": [
    {
     "data": {
      "text/html": [
       "<span style=\"font-size:20px;\"><a class=\"ProveItLink\" href=\"../../../__pv_it/_proof_each_is_bool/8552c6321b312c5e15a5015adce4a756ce05da420/expr.ipynb\"><img src=\"data:image/png;base64,iVBORw0KGgoAAAANSUhEUgAAAB0AAAAOBAMAAAAh/woJAAAAMFBMVEX///8AAAAAAAAAAAAAAAAA\n",
       "AAAAAAAAAAAAAAAAAAAAAAAAAAAAAAAAAAAAAAAAAAAv3aB7AAAAD3RSTlMAmd0iq2a7zTLvdkQQ\n",
       "VIm/XloVAAAACXBIWXMAAA7EAAAOxAGVKw4bAAAAgUlEQVQI12NggALW/C8u7hkMCMCZwMDg34Dg\n",
       "2y9gYNgvgODHA+XiFyD4/kBcaYDgT2NgOKKB4HJ8W7WkFEgLKQGBIgMD12cGhpsBUEkTBga2CQwM\n",
       "fD8QfH4HoJt+Ifj9QLUsv6F8QwaG9UCr+gsQ5lcyMHBPPwDnuv13cSm7wMAAAOyYG523RGm6AAAA\n",
       "AElFTkSuQmCC\n",
       "\" style=\"display:inline;vertical-align:middle;\" /></a> <a class=\"ProveItLink\" href=\"../../../__pv_it/_proof_each_is_bool/86dc6d32e93c77a4f28daf5ad77ee9dbce18f3760/proof.ipynb\" style=\"text-decoration: none\">&nbsp;&#x22A2;&nbsp;&nbsp;</a><a class=\"ProveItLink\" href=\"../../../__pv_it/_proof_each_is_bool/879be6c1f685d84e51c8693c3fddcef1d5b0d67b0/expr.ipynb\"><img src=\"data:image/png;base64,iVBORw0KGgoAAAANSUhEUgAAAFgAAAAVBAMAAAAwfTS1AAAAMFBMVEX///8AAAAAAAAAAAAAAAAA\n",
       "AAAAAAAAAAAAAAAAAAAAAAAAAAAAAAAAAAAAAAAAAAAv3aB7AAAAD3RSTlMAInZUiRDNmWbv3US7\n",
       "qzJazP2FAAAACXBIWXMAAA7EAAAOxAGVKw4bAAABGUlEQVQoz2NgYBBgQAMYAgjAZIAusgm3YhME\n",
       "s+f/3bs5DxiYGtDVVK0CgbUMrAlIgnMYGHj/MTCkYjHTCESwIxnD+ImBgfs7A0M7LsWcSAIcQFM5\n",
       "gBo4A3AoNkMS4P3AwMA2EYgbcCguQRLgPMDAeusBAwPLBRyKM5AE3h9SugYylCMBOQiQFC8G+hEs\n",
       "WsDAoC/AwDwDKMY8AYfJs2EhAbT6JJD2BzqD7wMRiv8C6X4FYPDhMnkxQjHfDyB9fwPQGQtwuPkQ\n",
       "THEBA9NHoAu+gTx4AIfJvgg+G9D2naCoZnfAofgVIkrO/7177TCIxbUBU/EOsMQDTAkpXCmUowBT\n",
       "rAJnej6IIcJ4AKfiGAwRHtz5ilEBXUQRl1IA63ZLrafKgmUAAAAASUVORK5CYII=\n",
       "\" style=\"display:inline;vertical-align:middle;\" /></a></span>"
      ],
      "text/plain": [
       "{[not](B)} |- [not](B) = TRUE"
      ]
     },
     "metadata": {},
     "output_type": "display_data"
    }
   ],
   "source": [
    "BeqF.evaluation(assumptions=[BeqF])"
   ]
  },
  {
   "cell_type": "code",
   "execution_count": null,
   "metadata": {},
   "outputs": [],
   "source": []
  }
 ],
 "metadata": {
  "kernelspec": {
   "display_name": "Python 3",
   "language": "python",
   "name": "python3"
  }
 },
 "nbformat": 4,
 "nbformat_minor": 0
}