{
 "cells": [
  {
   "cell_type": "markdown",
   "metadata": {},
   "source": [
    "Proof of <a class=\"ProveItLink\" href=\"../../../../../../_theory_nbs_/theory.ipynb\">proveit</a>.<a class=\"ProveItLink\" href=\"../../../../../_theory_nbs_/theory.ipynb\">logic</a>.<a class=\"ProveItLink\" href=\"../../../../_theory_nbs_/theory.ipynb\">booleans</a>.<a class=\"ProveItLink\" href=\"../../theory.ipynb\">disjunction</a>.<a class=\"ProveItLink\" href=\"../../theorems.ipynb#demorgans_law_and_to_or\">demorgans_law_and_to_or</a> theorem\n",
    "========"
   ]
  },
  {
   "cell_type": "code",
   "execution_count": 1,
   "metadata": {},
   "outputs": [],
   "source": [
    "import proveit\n",
    "theory = proveit.Theory() # the theorem's theory"
   ]
  },
  {
   "cell_type": "code",
   "execution_count": 2,
   "metadata": {},
   "outputs": [
    {
     "data": {
      "text/html": [
       "With these <a href=\"allowed_presumptions.txt\">allowed</a>/<a href=\"disallowed_presumptions.txt\">disallowed</a> theorem/theory presumptions (e.g., to avoid circular dependencies), we begin our proof of<br><strong id=\"demorgans_law_and_to_or\">demorgans_law_and_to_or:</strong> <a class=\"ProveItLink\" href=\"../../../__pv_it/theorems/c08945160fa9c21d3d5d0b37ead34a611c3052520/expr.ipynb\"><img src=\"data:image/png;base64,iVBORw0KGgoAAAANSUhEUgAAAmYAAAAZBAMAAABp6f+EAAAAMFBMVEX///8AAAAAAAAAAAAAAAAA\n",
       "AAAAAAAAAAAAAAAAAAAAAAAAAAAAAAAAAAAAAAAAAAAv3aB7AAAAD3RSTlMAq1RmmUTNIjK7EInv\n",
       "3XZ/CtNrAAAACXBIWXMAAA7EAAAOxAGVKw4bAAAGEUlEQVRYw+1ZX2gcRRj/bm/vbm+T2+yLIBWa\n",
       "g1REQtqTxEJ9CGmbqFjFI32w/kHOBwnUh15fhNjUrOKDxVjvQWlPkGxQCiFqr3lRU7RXRSyIeoio\n",
       "FANX/5VIrbFiWpVyzt/dmbndPa7Scoofc3tz3/eb2ZnfzHzzzRxAtMSWv4L/RRBr+fNWkOS/sV+p\n",
       "q1VxET8G/5OcfUuZK4QwWmivtsf97MOUMxt/9UVx1gLReaJVaNNXQ7q02l51e4SFmSOcjeH8RBRn\n",
       "LRCdJ0fo1yaPm5iLHkYdovW+rMOPg3wEGoJlN+HsKTxbS1GctUB0nmynX1svckUc05J2IFrvyzB+\n",
       "HGY/9N6ibxkinCUR113ZKM5aIDpPquTZte+Sp6kJbilML0hG9HpvnRBI7XYxZ/FcpKNHphaIznNn\n",
       "tLdPWhc81SL6bGP5ML0geIbobJak6r8I8yWZI/vmJ8vLH0fvm9GIjhOdbgEj2m/S1ldj+TC9srNm\n",
       "eG2wKSewaRPO7gR4OZqzaETHSZL0MZE1/vIjcwcs5urD9JJcD3CeZcfhhYpviBcIZ3shZUdz5iFc\n",
       "wWAG411pxMUfN5GklK6L5lAbKPU0NcEiiXujLH136ldPZdiQcXmbgvWSoG3vNJ+WMC3Qo1UJZ2m3\n",
       "Ky+X2L8jHz8pcMYR5ikB9LoT1CEJAmkhH8/jpJbWBXOoTZIAIOkZTsxPE8TK6NY/UHs2U90EbGBW\n",
       "ql84tk7RyzOlqLHqrBdHe4WYwVglnGl10cEbZ8p5zV6CuwTOOKLrggA8EbiTShCJszmS1NKJCgt6\n",
       "omxSdDQX2IQHSRI4M9EsvYyCrJ+prp8HmEw/AvfIejUqTrIA402AHsHjJeg8g8KwgB5FY6cN61AR\n",
       "z04MsetTofBM4NIRITJnYyw4VkojGuI3QLTNm2JhQBIPJV1xbeJJ+g36DDCdUfInL9L/DtOOpFek\n",
       "dsCfwJmqQGaNcraI27b94Blri0MPB9rT99UlzhbpaNcfEU4RyUAnKEJkzmriDuWXRrt9Ou1G27zq\n",
       "woAkOvBCyDSmcic79DDOrFvYkmb62xhnnl6R765j45IjZy1OD8RLlLMp9OpXH8p125YN84RMZ+lG\n",
       "ibMpmzra2wVy9KCTrgSROEPbt3A29ksjd9KHFmGUzZNQIGryCHAPROKBFJ4bs0WPM/NL1gyuh3cl\n",
       "/VFUlbnGMkjeYFVP4V5c9Oghccwg3XDhiR+hx0GKnZQz3SqJnMXImOyCcwCTdNwTjlWF8e/VQSIQ\n",
       "lbN3yuVyLVEClLpQ9hVWmlZ1P0AJRTKKLbFxzLd5EgD01impnrnkGpizay7c3HjM44xFrr7eOC3q\n",
       "IYMJ/4JnvIh2vrEbtNm1CqcHMnnhLmg9zGBHsBm1J6s5ZqXQfBe043ivawxQzvTjx/6EqqneEGBI\n",
       "4DyzNRs0upRirDSt6gBoOeS+FVs3HPVt3lwKAHpbVwl8z/S10ISBkBhq0m0r5mP0wH7x/uwUrMC0\n",
       "Ac/ReQbj9SbOUACEfAALZ+qQugRFo6ouTQSJbxsc63dUzvxOxVhpWtUGDEq7ii2FmujZhBFoAg71\n",
       "DY2/raxNcpBuwVlqJFVshzNGDzn+c85Sq4jKLTptIQqBLLuJM7Rse7K4o2aFuEYUVaTzsIB/sgeF\n",
       "aCvwIbvBSgvxk7cH6Lw04ew8vplL1FUbvOTb+AuCgBtL3fl+PFp1IaBPF1tyNvnsM+1MNE4Pud7h\n",
       "nCVsFKjs/QlS+Abk+Ql20Shypp8E895HcUeN9+FuG15by+ND1UzW+AhmiviRZZDDZoG5A3HfPEQS\n",
       "EVaacHaIxKIjqk13fBt/QRAw7RwhLgnR5DNl+vHDvj3vBZLwWaPRzjTj9JB3NN1tL5TL+ai7bdxR\n",
       "jW9QLhpaP67kuZpWycSbOBOjTr8qr3uKbcmSui7XI93a9EMNzbh5oFs+u7q4WkfZs1fyf4BxDgVN\n",
       "D/BL30YNEt4U5znTtvKxs02c6UWc1Ko8lWxLNi6rKggEzsEPsB5p7iDp2sgV/YeSE2PzgFxgTAtL\n",
       "JClyq2gOtYFST9AhNJ7vHM7+yf+b0n9mZtBdiBtxTxLipM1gnXmNGLOWP/gbGsjAbwBbkFoAAAAA\n",
       "SUVORK5CYII=\n",
       "\" style=\"display:inline;vertical-align:middle;\" /></a><br>(see <a class=\"ProveItLink\" href=\"../../../__pv_it/theorems/29d345ca32fcb82bb91d468fb00864cf616feb720/dependencies.ipynb\">dependencies</a>)<br>"
      ],
      "text/plain": [
       "<IPython.core.display.HTML object>"
      ]
     },
     "metadata": {},
     "output_type": "display_data"
    }
   ],
   "source": [
    "%proving demorgans_law_and_to_or"
   ]
  },
  {
   "cell_type": "code",
   "execution_count": null,
   "metadata": {},
   "outputs": [],
   "source": []
  }
 ],
 "metadata": {
  "kernelspec": {
   "display_name": "Python 3",
   "language": "python",
   "name": "python3"
  }
 },
 "nbformat": 4,
 "nbformat_minor": 0
}