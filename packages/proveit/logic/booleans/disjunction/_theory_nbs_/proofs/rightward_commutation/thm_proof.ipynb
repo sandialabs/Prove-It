{
 "cells": [
  {
   "cell_type": "markdown",
   "metadata": {},
   "source": [
    "Proof of <a class=\"ProveItLink\" href=\"../../../../../../_theory_nbs_/theory.ipynb\">proveit</a>.<a class=\"ProveItLink\" href=\"../../../../../_theory_nbs_/theory.ipynb\">logic</a>.<a class=\"ProveItLink\" href=\"../../../../_theory_nbs_/theory.ipynb\">booleans</a>.<a class=\"ProveItLink\" href=\"../../theory.ipynb\">disjunction</a>.<a class=\"ProveItLink\" href=\"../../theorems.ipynb#rightward_commutation\">rightward_commutation</a> theorem\n",
    "========"
   ]
  },
  {
   "cell_type": "code",
   "execution_count": 1,
   "metadata": {},
   "outputs": [],
   "source": [
    "import proveit\n",
    "theory = proveit.Theory() # the theorem's theory"
   ]
  },
  {
   "cell_type": "code",
   "execution_count": 2,
   "metadata": {},
   "outputs": [
    {
     "data": {
      "text/html": [
       "With these <a href=\"allowed_presumptions.txt\">allowed</a>/<a href=\"disallowed_presumptions.txt\">disallowed</a> theorem/theory presumptions (e.g., to avoid circular dependencies), we begin our proof of<br><strong id=\"rightward_commutation\">rightward_commutation:</strong> <a class=\"ProveItLink\" href=\"../../../__pv_it/theorems/008b25763802eef145da071b67d589aa94ca965f0/expr.ipynb\"><img src=\"data:image/png;base64,iVBORw0KGgoAAAANSUhEUgAABIgAAAAzBAMAAAAOQC5VAAAAMFBMVEX///8AAAAAAAAAAAAAAAAA\n",
       "AAAAAAAAAAAAAAAAAAAAAAAAAAAAAAAAAAAAAAAAAAAv3aB7AAAAD3RSTlMAq1RmmUTNIjK7EInv\n",
       "3XZ/CtNrAAAACXBIWXMAAA7EAAAOxAGVKw4bAAAM80lEQVR42u1de2wUxxn/fA/veu/hs0JTiAq+\n",
       "ijRyRYBrC6ikaX1JoS2FFDf9J02IcNtUUaAKR1tRUVB8QahKJAebKCQYNfElQVWxCRwk6QOrYEJS\n",
       "ktAmbkqiCGHlEE0q0xTM02A3XOe1j5ndOe9hn113byTf7nz7zffNzf525pvZ+Z0B3CetoyMD5VRO\n",
       "XOro6ChGPZLPJyfmF61Kl2/2aCdtGz22568UBaKGifqFryvf89FPj+nD0nxPgKgiy+dTZQS4Tor0\n",
       "iq/HUyCax2ejcXJYI9FeU2QrN/5fgyiYk17a4yUQKYf5/Ax6WCVRX1Wc9cp+u2x+vqbmATEO27W5\n",
       "JrHOIbboq7lOybr3JzGDUl9+85TNDr1stP1KTduni/hKnKGTcjwkPASiCP8wabTr8OXN4Q6P7irT\n",
       "kskt6Qb8sYllZvc7aL+Bspd5WfStDNz4d7uFj0+B745EYYcyM0JdLgH4zzlcqEbfuD4Orn1whiql\n",
       "M3Lfmx4C0a18NkDvWKDWeGj9OcsMTia3pK/hj60sc9uAXVu5isaBC5xMexp9BgZsFna8jz6Wpgo7\n",
       "lJnh66Iir7DE4UILKh7oBrc+eEN++Yz8Pg+B6AifDdPD7w+YDdljCYVkcmtDWEKh0LrLdm0/kvmv\n",
       "crJK/NgGu20WfoIf9GXDOJSZ4esSxTVZnrBfOIO+UfC8ax+CoTelDbs85RkQRQf5/E00UMqdiRui\n",
       "vejvdigot6YQ0ggwrYei5+zaFWiIqzzMyQ5gfTUpWgiR0huHcSgzw9elCg+sTVn7hXb8vYZc+xAM\n",
       "/UgeDsY8A6JIjM8vpqMWzE5wEzI2YZXJxQlZhJ0nfeft2uFW0KamrTLlExKOpUULTaTAb4dxKDPD\n",
       "16W6FQ9dMfsFvBqonnXrQzS0Rz7JH/QMiFqE8Z8+WXdCizklqkhDlIWaMjmXJgOcZjPguDpk1255\n",
       "5vT1CU4Wuups4QBvXuZQZoarCw59oD5ru0BCHP+QWx+iIbJAEugliX8etaueAdFnhPw7tAeBJtQi\n",
       "z9OgQY1BhE1CiFzrqskIci49DHBM77gU9Ig/289rn0mB7xBnOcJiYW0eb+EDGlYM51A041gXHPpA\n",
       "bYPogoY4FRfd+jAMMfnN8qZ92jMgOijkXyMN+8SC2lZQT7N+/X64kQVQRB6AQA8vF4KBlI+FJX0L\n",
       "bkODha+R1/417mPSVlmYwEyDTf/mLbxNcpnhHIpmHOuCQx/4j80FDXGqu936MAzpPbm8aetTHgGR\n",
       "et4JRLtQs/aYS/czUAuCKa9uUC7zciEYyFayHgR1/ChMCWR5bRx/1Oessgi5+3UAM3kLH5BMejiH\n",
       "NjMOdSGhj/+8zQUNceoTbn2YhmhaJm/b3QmPgCg64DScoWc00m2CKKK26qMZlvszrL0NuTgdflQf\n",
       "zQCOGy2jaxPc1nIyurSTNe6wboGsEIWGdyiYmfPl07GTW/m6kNBnZ6vNBQlxtDdc+zAMISe4K5sp\n",
       "jYkgHPMIiKq6BcEzOB5O0PcVOoiiX6DfTZdDqIeTi+nkp+jxe0Bek+zmrWDcqpc4GV5+hFDGvMPM\n",
       "QhPur/YN75A3o809hEbpE3xdSOjzJNhckBCnqtG1D90QdnK4MEaqejwCorD42OEp63rcAgMmiLT3\n",
       "6FGX6/scmFzDiNjdqH8AvEAPCgZoe4otPRlWKpF42QpeNjsBwX2WO8ws4AWCezI2h8SP6VU0o+xq\n",
       "hMtsrUK3RMB/b9LuAqM8eBTc+2CGsJNBY0nEMYX6KYhIhzTdLYgqyBdPTCQQ7U4KgscAduRXgK/9\n",
       "UtbczkBX2Qy5so2TA74HkaT+oa/iae2XMvD5/EqjndlSY/vZmusfB96CtqhmIVjusL5YuX3zJPxs\n",
       "ig6Jn6OmQ8FMRU7tZtNM3RL22vZNBxdT8jVTnki592EYqsiRpfF35W3rv0hBtJDG5S5BFGggYf+E\n",
       "WiYS10QilnUjX49zoZ/DL4rx8W7GterMUXEYTkdblf50US6K9YGcBJJpUHoKTFquUhA9jCHa6hZE\n",
       "Ku641k6o4Wx2XHx8ksOCSNn6yLeL8dGfGyGIinXYhLoJf2uyKBAV6wM5iWxI6++rHZN2gYIIv+kP\n",
       "xV3HRHik3zuhQFRve16fMtv1d0OOtz+cz/cX4+M7rqPFdav2j4bD76LhQJmWKcZF0T6Qk+iLw3QZ\n",
       "ZymI/Hg+4j6w/hI6Nk4oEJ2xDb47oJzcp6cKXbzCZmd/7e094h5E4d7e49kJ1QgHbM+rkitDw/0y\n",
       "W8EA+M8MRN8C2OYeRIE0VJG7wi29O/er2v9EKyzNlJFQstTLQLQalBhotRIt5ejLcGvMBBHSXU0y\n",
       "Oy2hhva6Y1lT5dELXYto5sTiffsMkE/q6nS4w1YVgO8bRVEKti9+aau9hCj2rbzvqBHm1ZZvdenS\n",
       "cQaiqkyoQd+pJaRNU7bAZ0OZQMYEEeq1XqajhCUYD51zHkgMFX8PRPGSA9wbN1eQg+/QN5VCsqrQ\n",
       "opaN9l8FWO/Qv1rFuNK57E/ryiAaQxD5cjiudlqWDKCRDqbnkiHLcAazaFwdbLYEFne95eTAolKR\n",
       "BD+eGeCt3T59Ynozwqb9dTKnQovCIiM3CdXKYT3CIiaVzmVDz5WHszEczqARb+nGy5L+r286EZ2f\n",
       "pmf/YGSRus89xIGokmzohmil5V1c7geOIZmpEo7DC3i5oQn1TSrrnxTcfW2wL05YVFhR+NjIvQKs\n",
       "S+OTRUwqncv+zBgRD9h7rjJ50X1SwE1gDXtXoKgG9xPPL0uEY9EYO0tp5NmuCz13jxVEoZvIk50L\n",
       "mBP9KHzDyQFWWUPh0HRyzmR8nGq5XOG8zjdVBBVyd4fxjQZB3xTDfVFTTCudW/AXI446Y1snKpMX\n",
       "i0jBglPZgzqI1sfYrqpffgTVabI1Bp9lgmSpsg6SfVYQKaRcMI2efP1dzF2oqwjOWih6xypVKRaz\n",
       "aJPw8VXa7KRcmIxZtnKv2sMd+JvuCgVIEInZylAx9ZqgPdHGD/WL9sXG0pMXpQxDOfPQMcnVneiR\n",
       "Y01eROmCDqKKtL6raho0QyROz5aB/4G2tscRiDorrSAC0qUEuvYMwga2LXNxV20mrG+HMCMqrBI2\n",
       "YpYmXBjHTj5WLowhHreVoypcuKMO6K5wgNSSspWhYoonUmkUE+ljMMwWV5PHgLwoIypa5SMkKur0\n",
       "yHEkL6KmHNJBRPBxN/58HfqgSaVnC1Q1S3ui4CwORHSoArzBiW3hRQhJKwh/wmiGVdYaMcty/NjU\n",
       "oL9/snIVMbySZStHVeZMn3PnH0j+EPoaOd1VGPUzD4KtDBX7F34xC7TSCERR/WKL+O6n9ORFGVGR\n",
       "k4+MqGjQI8eTvGi8gKWpOgqdoPSjHmh+gJ69X0fXIOeCvvnJAiI8aJwjd7aTbMyqRjDfgjNalnyg\n",
       "A1X5CmARilm0o/hkZwNEG1g57TUAPOZs0QvRD6oyqzXcMIMUHQAN7yKjrppSsCNHynRaSjGxrw8z\n",
       "XrYxEOkdBVSLjVB68qKMqMjLR0RUNOiR40leBN85K4gCH0JzPBiD+2H1KXr2rwSsRb7V91J0ExEH\n",
       "oiUx2H6pAd/Z5njgIGhLf4yXslFGPQzNKfWw+gpTQcELOp831LUojk+0BftPUUQ0x2H74tMZsgSO\n",
       "LuBC+ENXqUr/Bm7HFz4a6lqQ0otEV3W9hDe6oDKGK4t4Mm4zXGnfgyvbjP4nIga+pScvSoiKgnxE\n",
       "REWDHjme5EW29di6szEunml/bNvCPYBidHHMUmpf1GpCj2qOxS0Rjk9WzoyBfMZjNAN6EpYL1iKk\n",
       "TNxe757o3Iyt0lAhLgmUnLwoIyoK8hERFQ165HiSFwmUORAFM/YzoRcXQLTpSNzQrcx/Yi14Nzvu\n",
       "T5nnxomtnKFhnD2LRrppKfOCtQgp41BbLeZ70aHWfoFFXXryooyoKMhHRlQ06JFjQ150TnTrsQVE\n",
       "foezwiCy6ZoZazCbcBJy5RKO5cSsxJV/mPmqKr6TKTl5UUZU1OWde24oZNwdUdGgR44neZHQDMrk\n",
       "xVKQF2VERV2eZKunIyEqmvTIMnlxLNISJxCVkrwoIyrq8ovQlC5g3BVR0aRHjid5kb5e8AKIljc4\n",
       "DGfJEpIXZURFXX4LA9FIiIoWeuSYkBedk3d+0CEiLBSVnLwoIyoacvhTQeNuiIoWeuT4kRf93vlp\n",
       "GXF6VnryooSoaMjVY5z6tRAVu0165PiRFyPe+ZEr8ef2Sk5elBIVdfnaDKd+bURFgx45fuRFD/3c\n",
       "HtTzE9qxIy/KCGBJpZgdTQWJikW4HX3y4mbwDogqeXrK2JEXJXdz7SMbM0UYL0hULAa7o01eDA56\n",
       "CESq8GPoY0VelLEI387nizFeiKhYjNtRJy9G4h4CEfTx2TJ5sZgkJy966t8yiP8gRsmVoeE6ycmL\n",
       "wcZrAtEtE/Wf5v2wDIbRT7+iYOjo6CsKROV/mldORtLYMlV7/sp/AfPGwAnfEvIDAAAAAElFTkSu\n",
       "QmCC\n",
       "\" style=\"display:inline;vertical-align:middle;\" /></a><br>(see <a class=\"ProveItLink\" href=\"../../../__pv_it/theorems/1edb1c16c54650a9a666652574578f7ccc27260c0/dependencies.ipynb\">dependencies</a>)<br>"
      ],
      "text/plain": [
       "<IPython.core.display.HTML object>"
      ]
     },
     "metadata": {},
     "output_type": "display_data"
    },
    {
     "name": "stdout",
     "output_type": "stream",
     "text": [
      "rightward_commutation may now be readily provable (assuming required theorems are usable).  Simply execute \"%qed\".\n"
     ]
    }
   ],
   "source": [
    "%proving rightward_commutation"
   ]
  },
  {
   "cell_type": "code",
   "execution_count": null,
   "metadata": {},
   "outputs": [],
   "source": []
  }
 ],
 "metadata": {
  "kernelspec": {
   "display_name": "Python 3",
   "language": "python",
   "name": "python3"
  }
 },
 "nbformat": 4,
 "nbformat_minor": 0
}