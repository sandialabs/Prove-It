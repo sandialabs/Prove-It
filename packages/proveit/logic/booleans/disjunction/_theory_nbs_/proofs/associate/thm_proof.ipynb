{
 "cells": [
  {
   "cell_type": "markdown",
   "metadata": {},
   "source": [
    "Proof of <a class=\"ProveItLink\" href=\"../../../../../../_theory_nbs_/theory.ipynb\">proveit</a>.<a class=\"ProveItLink\" href=\"../../../../../_theory_nbs_/theory.ipynb\">logic</a>.<a class=\"ProveItLink\" href=\"../../../../_theory_nbs_/theory.ipynb\">booleans</a>.<a class=\"ProveItLink\" href=\"../../theory.ipynb\">disjunction</a>.<a class=\"ProveItLink\" href=\"../../theorems.ipynb#associate\">associate</a> theorem\n",
    "========"
   ]
  },
  {
   "cell_type": "code",
   "execution_count": 1,
   "metadata": {},
   "outputs": [],
   "source": [
    "import proveit\n",
    "theory = proveit.Theory() # the theorem's theory"
   ]
  },
  {
   "cell_type": "code",
   "execution_count": 2,
   "metadata": {},
   "outputs": [
    {
     "data": {
      "text/html": [
       "With these <a href=\"allowed_presumptions.txt\">allowed</a>/<a href=\"disallowed_presumptions.txt\">disallowed</a> theorem/theory presumptions (e.g., to avoid circular dependencies), we begin our proof of<br><strong id=\"associate\">associate:</strong> <a class=\"ProveItLink\" href=\"../../../__pv_it/theorems/ed283a2f23ed974d10bacc5f8cb65de847c10a860/expr.ipynb\"><img src=\"data:image/png;base64,iVBORw0KGgoAAAANSUhEUgAABVkAAAAZBAMAAADZKjOyAAAAMFBMVEX///8AAAAAAAAAAAAAAAAA\n",
       "AAAAAAAAAAAAAAAAAAAAAAAAAAAAAAAAAAAAAAAAAAAv3aB7AAAAD3RSTlMAq1RmmUTNIjK7EInv\n",
       "3XZ/CtNrAAAACXBIWXMAAA7EAAAOxAGVKw4bAAALrElEQVR42u1ce4xUVxn/dl535s5jZyM2tAZ2\n",
       "DLXB8JrKQsQXQwumiE1H/KcRtKuNIcUahsTUrFR2bPpHm6wwbSRCo3JpSWNDoQO2PnYjLNRKpbFM\n",
       "7COEsOkgRQLClmKBbUlZz/t1z11mkt2KOl+yd+73ne+c33fv+d1zv3POBYDGZcpQCVrSkv+QnBvK\n",
       "NePe3bpjEybOfzFC6SO6PeF8i63Xh/yddkrALXaavPUPBCJMhHxr4m9PtE7ZmsXKtAbZ2oZ/QvkW\n",
       "ucZbQlXyEztvLw6yB8maAIQFox0d95X9hUH2AAlvfbfjhs1CzfgIseuxjvw6fz33dMfHnGrDMKr7\n",
       "CcrWJfh8VYNsjRTxrWtlr+MuT9OfOZKVN+HDBhjbLqXNQ4d4nTFz1O9NEf6CPEcsLQXZVVHsqQpA\n",
       "p2T3aqM486oHN7/mD+zsGQjdmbcEbEdR3WMeYetP8Ium0iBb43gk7mmRa9zldvqz6LKwfAkf+PgV\n",
       "ZFeGO9zvCUagSGfJ500QnKvopfqev6UguyaKvReh3VMQJV16sftLFEfksi+wZ46gw10lS8BWFN29\n",
       "QNiKSZvMNchW8hTtaZFr3GWQHJPrRoQlraSrQXZVakq6+rt9ZZ83QQijdsJX/S0F2TVR7AtR+wvl\n",
       "uJjytOLYIZxpDvoCux+7rbQFbEXR3Q8RtuKJVqzhWdbc1mRrQtJWek/XZy4IEx5BImwUCbKrgseQ\n",
       "29icrP5OzvSmCG0oo4gd9LcUZNdEsXdiMsmEMJbXivfhY7xgBpYkF/GwJWAriuF+L10T+OvQ0CsN\n",
       "szU1NHSs2mLXeEuE3tNC6F/aMkCanQfZzWWAGmsN5uRNb4qA8k13StnfUpDdtzCRFmnutiMKw7Jq\n",
       "sfMhSQfKZmC95PhrS8BWFMN9N2XrHQBPNMzWSBkSXotd4y1kcIJoLn5F2iYDDLPlmwC7Ps0qQ4a9\n",
       "m5fDxqrpTRE2/mr4hrylpSC7LsIef3/4+L1q0tytFiev2gPbVw8K2IpiuM+nbF0LTrZhtiLXtXR1\n",
       "QS2w89f9SEenINQxo7heHrx0jl6D8660oenvUX5tdrsmaAKcZpdTgN6s6U0R3ilB6EVLS0F2XYQ9\n",
       "g2ZQM5Vlq9CgBnXZHthbpaCArSiG+0zK1oSXLILbGXAfnddfgC9kBVvRMPwCOX9Wmc25L1urSpdH\n",
       "3xtYypX41mXPWyacqguR48v6+8WC3qSBHf4L06wJP6pd15isBm4GFhBocKEacWDQ9sIUXhmE04sX\n",
       "vY+Cms/G21KIpX7UvmP3TYZdl1VwM2v7Z4s7K7xHuTdF+AUes8rwVLfRErW7Ax3eWAjCnkDsTI4o\n",
       "d+O8BnWejhL8Qnhgh+kAwVFkwHaUw/p4spGyNVTHk6xbbBU33LgJPpn0Ip5k62w2ydqnpOHJC9Ye\n",
       "kS7hGmT4FBG+CHDW76y5IPlmjtwT+ib8G72fuujWhIGKx9o2Rcc3QAw4XGGBM1UEFqCDtVBAiYip\n",
       "hwzPUt28IsIlF736UMq34RwbsKpsYZvZC3CnbjdkBl813wXQXuM9yr0pW/EQvbAeH64ZLVF7BCK1\n",
       "sRCEvT2rLCGI+T8vThO2ThcXwgN7iziVOYoM2I7C3Ll5Jdt57cZLXMtsb1eU0sK0eiEpMwGIkXUy\n",
       "iPYpWcXdr9pQFZe2AoTF+vYkdGMsaZfqgqI8hP74Az4TPS3+x1C3JgxUvOG2QtGnoVORzHGFBc5U\n",
       "EViADtZCDiUjph4yPEt184rIexqz/hj6m8WXeB6VTwOyX4TesmY3s4l4RTwQ6UHRo8ybIMTxZK2z\n",
       "CKGajsDs7UVnZCwEYd+IrrjtotJbNbWYrrRWxYXwwMjSaRIEigjYjsLcucxibN2DF1HfwOPb7RuO\n",
       "ZxaU6dnbdLcLpn9qvcrW5C1koM3ElFy3/m3ry066pHKwU6Q5B8B9ze+tuaAJIbq5cTY2O3gEfMiX\n",
       "oujWhIlaoZNHridAmR5yhQXOVBFYgA7WQg4lIyYeSnj+6r4rSuBH6utAt0w5W098nP4y++c4W7nd\n",
       "vN+3Funzmqc7tW9orRAEnG/GLwl2iZaYPewxHgUgCDtKc2FjN3R9djh7AudD4YpajLcaIOmJC+GB\n",
       "4S0F6Jco3B6Awt0JFQEWMLY+iPrTxePaUyvzqWwmy85KLolhevLJFQpbnf2UoBG56pqBL9tAscsD\n",
       "lHC9J7omC5ZdnbvIkkqqLkimqMNuzda8YU0oqGwQIwMa19EAuEKOBVTBgTvf4aoMzK5rdbWrIFBT\n",
       "dA8lPH913xXhJSAHv063liRbd9LIhR3+qNmfQz/uJWAH9PMmLX4Q343LtEelN1lkiqGmVq6WbGVl\n",
       "wg7JmmonDQsYxf9+9Ez82XPnvQj74bhcgOPFc/IQ7ZePHQ8ML8Ot8CQKswsUehDNMHdCRfryJ2xt\n",
       "K7PF4x/9A9rLBBmfedE8zT8KpxW2AuFUtIySTIctfN2NMrjo7CVmIoBdEiWWqrrozdnjsQR1WwGW\n",
       "v208V9RFyJ9oRxGEFHm/mgipgo2tMrAEGdCITsAq6jodVXDg8HOu0sBIXUUPqEsLBTaCUiLGHmrQ\n",
       "vuopcxITr4G79ZIHnx79nmQrXWqX9vhR1Q5p3MjrwA98qf2Z0dUQ2nqpyjYcuDdCgDb8Mcrj8s0t\n",
       "9ga4HX7qqXbSsIQR9hvxNzA5cHZ1wwhJONJFrZq7tGMJKC8Jvgew/bFJRQWF2wVKuqA1Q90JFenL\n",
       "X3wxSJ+OqdDHljqmoqw2fN+WLY8jtu6IqWyl7gO7P4CH2N1bNtDppeA5M+nFLimRqvYW47M8lqA6\n",
       "F2HQNb4qIi5SxQlliCGk8CshZyJQq8lWGVg4v4LrBGxuVNnVoAoOnOxIEpUGRuoqekBdWshniBhK\n",
       "iRh7qEH7qhuxI1GW2kUnm9LT1HpbxNjEURFCtYAFoCeaQYC2enwQ0HwRfmwvnzUuKFPJ7qtTU9ia\n",
       "/gY+vgynoTdOzxbH41U6tkZn+9haB5x7sMU3xLOyg3huJALYpYenqnBPma2uoQQ1OgKl+KDuTlzC\n",
       "t81dMoO8YDvQ3ymG0IZeYpmSiUCt4SWfqapsVQLrfoLrBCym7moQhQZe4SoNjNRV9IC6tLBrWtfy\n",
       "3zMoJWLsoQbtq27EDuy7kGt0csFp5uM32qNSuhpg6w/gh83wKFXOVJzzZfFNToNsbRIFUxE9fHmF\n",
       "re0Z2AHOeUTkBRF6dmQ6fX/NA5KaaGzFOcIF0jM7yCSgHY0Tm8CtIpUfqMvnAZ87H4CLhnvEVuTe\n",
       "68FONOInitJZuIROw0uhKjY/W4RMkSG4LwGcBB2BW1GNmsJWGRjArVWhIzAIfwJEfaLQwMOYMERl\n",
       "gR01dHtdWji7kirOYFAyYuougrZUN2LH4Zeu2ck9jzzczOCKelRPlUrXZKuz+ZGvNMOjXjS6hiuF\n",
       "wE/4Zo0HCqUiGfdkJnAS+nLRLKyCtWfo2T/z0IMem/ibJbpuqbL1q1nYfqmIe6YvF9kP7l3fxVuy\n",
       "8QPQV4ofxIcDzAWlL+h8/pWBpTnC1r5ceM3A8zhFugPXpc4HpctmtxtlLUh3F+89A0ARYPuyYQ90\n",
       "BGGdzL4KShiB0S8imY5X4vDnYwyPKjRw8sUuVnlgRw3dWpcVJspPk+QLQ8mI6ZdqImhLdSN2nOrJ\n",
       "Dl+3Zq+12w6PjjaVCZw0dkIkgvPbK3XrWDk62tRX31+DWMmZ6mkPgiIBF9IkCqUimV5o/9IlZ565\n",
       "f9iyydh51eSoUqk/g9M28fByj5xixZkAd096dQVQuNRC1XRY0YMRuLWWmedpuwO8mjrj9urBL8wn\n",
       "LRfVYF1Iwwyo5ceq3p8ZoyN47FjWT/ju7sQhnJr4relMyWBr1POf6WKwdcMrOeEaG/0QQGZK/Gxv\n",
       "SZ7Hz+6RLa8ZrSkw3MXNZoptp6QejMCtbjb0GzDZiqupgsGCJHnKf1GN1oVt6H0+tTRGdRJ04L4v\n",
       "j70ljYnK1rDlbEy2+lzzljP9PGyva/67nvw1EXwhJlqd+X/F1mvL96/j/0/AaXXm/7qcO5b/Nz2K\n",
       "JcNgb0CZAAAAAElFTkSuQmCC\n",
       "\" style=\"display:inline;vertical-align:middle;\" /></a><br>(see <a class=\"ProveItLink\" href=\"../../../__pv_it/theorems/725dffdd65cc04491d764d044a4af92688aae1980/dependencies.ipynb\">dependencies</a>)<br>"
      ],
      "text/plain": [
       "<IPython.core.display.HTML object>"
      ]
     },
     "metadata": {},
     "output_type": "display_data"
    }
   ],
   "source": [
    "%proving associate"
   ]
  },
  {
   "cell_type": "code",
   "execution_count": null,
   "metadata": {},
   "outputs": [],
   "source": []
  }
 ],
 "metadata": {
  "kernelspec": {
   "display_name": "Python 3",
   "language": "python",
   "name": "python3"
  }
 },
 "nbformat": 4,
 "nbformat_minor": 0
}