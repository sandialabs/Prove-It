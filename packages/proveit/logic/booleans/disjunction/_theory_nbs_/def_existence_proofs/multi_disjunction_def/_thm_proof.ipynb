{
 "cells": [
  {
   "cell_type": "markdown",
   "metadata": {},
   "source": [
    "Existence proof for <a class=\"ProveItLink\" href=\"../../../../../../_theory_nbs_/theory.ipynb\">proveit</a>.<a class=\"ProveItLink\" href=\"../../../../../_theory_nbs_/theory.ipynb\">logic</a>.<a class=\"ProveItLink\" href=\"../../../../_theory_nbs_/theory.ipynb\">booleans</a>.<a class=\"ProveItLink\" href=\"../../theory.ipynb\">disjunction</a>.<a class=\"ProveItLink\" href=\"../../definitions.ipynb#multi_disjunction_def\">multi_disjunction_def</a>\n",
    "========"
   ]
  },
  {
   "cell_type": "code",
   "execution_count": null,
   "metadata": {},
   "outputs": [],
   "source": [
    "import proveit\n",
    "theory = proveit.Theory() # the theorem's theory\n",
    "\n",
    "from proveit import defaults, Variable\n",
    "from proveit.core_expr_types.lambda_maps import nary_function_existence"
   ]
  },
  {
   "cell_type": "code",
   "execution_count": null,
   "metadata": {},
   "outputs": [],
   "source": [
    "%existence_proving multi_disjunction_def"
   ]
  },
  {
   "cell_type": "code",
   "execution_count": null,
   "metadata": {},
   "outputs": [],
   "source": [
    "nary_function_existence"
   ]
  },
  {
   "cell_type": "markdown",
   "metadata": {},
   "source": [
    "### Do proof by induction\n",
    "\n",
    "The base case is the existence of $\\lor$ applied to zero operands evaluating to $\\bot$."
   ]
  },
  {
   "cell_type": "code",
   "execution_count": null,
   "metadata": {},
   "outputs": [],
   "source": []
  },
  {
   "cell_type": "markdown",
   "metadata": {},
   "source": [
    "Can use quantification_from_conjunction\n"
   ]
  },
  {
   "cell_type": "code",
   "execution_count": null,
   "metadata": {},
   "outputs": [],
   "source": [
    "%begin demo"
   ]
  },
  {
   "cell_type": "code",
   "execution_count": null,
   "metadata": {},
   "outputs": [],
   "source": [
    "from proveit import k, m, P, Q, Function\n",
    "from proveit.logic import Forall, Implies\n",
    "from proveit.numbers import Natural, Interval, zero\n",
    "Forall((P, Q), Implies(\n",
    "    Forall(m, Function(P, Forall(k, Function(Q, k), domain=Interval(zero, m))), domain=Natural),\n",
    "    Function(P, Forall(k, Function(Q, k), domain=Natural))).with_wrap_before_operator())"
   ]
  },
  {
   "cell_type": "markdown",
   "metadata": {},
   "source": [
    "Use a contradiction proof?  Assume that $P(\\forall_{k \\in N} Q(k))$ is not True.  Then there exists an $n$ such that , leading to a contradiction."
   ]
  },
  {
   "cell_type": "markdown",
   "metadata": {},
   "source": [
    "Or maybe something more general, like"
   ]
  },
  {
   "cell_type": "code",
   "execution_count": null,
   "metadata": {},
   "outputs": [],
   "source": [
    "from proveit import k, m, P, Q, Function\n",
    "from proveit.logic import Forall, Implies\n",
    "from proveit.numbers import Natural, Interval, zero\n",
    "Forall((P, Q), Implies(\n",
    "    Forall(m, Function(P, Interval(zero, m)), domain=Natural),\n",
    "    Function(P, Natural)))"
   ]
  },
  {
   "cell_type": "markdown",
   "metadata": {},
   "source": [
    "Apply it as `take_limit` or something like that."
   ]
  },
  {
   "cell_type": "code",
   "execution_count": null,
   "metadata": {},
   "outputs": [],
   "source": []
  },
  {
   "cell_type": "code",
   "execution_count": null,
   "metadata": {},
   "outputs": [],
   "source": [
    "# Prove the following by induction\n",
    "from proveit import m, g, P, ExprTuple\n",
    "from proveit.core_expr_types import A_1_to_m\n",
    "from proveit.numbers import NaturalPos\n",
    "from proveit.logic import Forall\n",
    "Forall(m, Exists(g, Equals(Function(g, ExprTuple(A_1_to_m, B)),\n",
    "                           BinOr(Function(g, ExprTuple(A_1_to_m, FALSE)), B))),\n",
    "       domain=Natural)"
   ]
  },
  {
   "cell_type": "code",
   "execution_count": null,
   "metadata": {},
   "outputs": [],
   "source": [
    "P(n, f) |-> f(A_1, .., A_{n-1}, B) = BinOr(f(A_1, .., A_{n-1}, FALSE), B)"
   ]
  },
  {
   "cell_type": "code",
   "execution_count": null,
   "metadata": {},
   "outputs": [],
   "source": [
    "f(A_1, .., A_{n-1}, FALSE) = f(A_1, .., A_{n-1})"
   ]
  }
 ],
 "metadata": {
  "kernelspec": {
   "display_name": "Python 3 (ipykernel)",
   "language": "python",
   "name": "python3"
  }
 },
 "nbformat": 4,
 "nbformat_minor": 0
}
