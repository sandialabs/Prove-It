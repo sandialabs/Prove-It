{
 "cells": [
  {
   "cell_type": "markdown",
   "metadata": {},
   "source": [
    "Conservative definitions for the theory of <a class=\"ProveItLink\" href=\"theory.ipynb\">proveit.logic.booleans.disjunction</a>\n",
    "========"
   ]
  },
  {
   "cell_type": "code",
   "execution_count": null,
   "metadata": {},
   "outputs": [],
   "source": [
    "import proveit\n",
    "# Prepare this notebook for defining the conservative definitions of a theory:\n",
    "%definitions_notebook # Keep this at the top following 'import proveit'.\n",
    "\n",
    "from proveit import A, B, n, m\n",
    "from proveit.logic import FALSE, Implies, Not, Or, Equals, Forall\n",
    "from proveit.numbers import Natural\n",
    "from proveit.core_expr_types import B_1_to_n, A_1_to_m"
   ]
  },
  {
   "cell_type": "code",
   "execution_count": null,
   "metadata": {},
   "outputs": [],
   "source": [
    "%begin defining_properties"
   ]
  },
  {
   "cell_type": "code",
   "execution_count": null,
   "metadata": {},
   "outputs": [],
   "source": [
    "or_def = Forall((A, B), Equals(Or(A, B), Implies(Not(A), B)))\n",
    "empty_disjunction = Equals(Or(), FALSE)\n",
    "multi_disjunction_def = \\\n",
    "    Forall(m, Forall((A_1_to_m, B), \n",
    "                     Equals(Or(A_1_to_m, B), Or(Or(A_1_to_m), B)).with_wrapping_at(2)),\n",
    "           domain=Natural)"
   ]
  },
  {
   "cell_type": "code",
   "execution_count": null,
   "metadata": {},
   "outputs": [],
   "source": [
    "%end defining_properties"
   ]
  }
 ],
 "metadata": {
  "kernelspec": {
   "display_name": "Python 3 (ipykernel)",
   "language": "python",
   "name": "python3"
  }
 },
 "nbformat": 4,
 "nbformat_minor": 0
}
