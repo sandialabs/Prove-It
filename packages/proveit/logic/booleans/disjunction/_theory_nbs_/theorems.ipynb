{
 "cells": [
  {
   "cell_type": "markdown",
   "metadata": {},
   "source": [
    "Theorems (or conjectures) for the theory of <a class=\"ProveItLink\" href=\"theory.ipynb\">proveit.logic.booleans.disjunction</a>\n",
    "========"
   ]
  },
  {
   "cell_type": "code",
   "execution_count": null,
   "metadata": {},
   "outputs": [],
   "source": [
    "import proveit\n",
    "# Prepare this notebook for defining the theorems of a theory:\n",
    "%theorems_notebook # Keep this at the top following 'import proveit'.\n",
    "from proveit import Lambda, ExprRange, IndexedVar\n",
    "from proveit import i, j, k, l, m, n, A, B, C, D, E, P, Pk\n",
    "from proveit.logic import (Or, TRUE, FALSE, Forall, Exists, Implies, Not, in_bool, \n",
    "                           And, Boolean, Equals, Set)\n",
    "from proveit.core_expr_types import A_k, A_1_to_l, A_1_to_m, B_1_to_m, C_1_to_m, C_1_to_n, D_1_to_n\n",
    "from proveit.numbers import Natural, NaturalPos, Add, Exp, one, LessEq, Integer, Interval\n",
    "%begin theorems"
   ]
  },
  {
   "cell_type": "markdown",
   "metadata": {},
   "source": [
    "### Direct by definition"
   ]
  },
  {
   "cell_type": "code",
   "execution_count": null,
   "metadata": {},
   "outputs": [],
   "source": [
    "unfold_or = Forall((A, B), Implies(Not(A), B), condition=Or(A, B))"
   ]
  },
  {
   "cell_type": "code",
   "execution_count": null,
   "metadata": {},
   "outputs": [],
   "source": [
    "fold_or = Forall((A, B), Or(A, B), condition=Implies(Not(A), B))"
   ]
  },
  {
   "cell_type": "code",
   "execution_count": null,
   "metadata": {},
   "outputs": [],
   "source": []
  },
  {
   "cell_type": "code",
   "execution_count": null,
   "metadata": {},
   "outputs": [],
   "source": [
    "or_if_left = Forall((A, B), Or(A, B), condition=A)"
   ]
  },
  {
   "cell_type": "code",
   "execution_count": null,
   "metadata": {},
   "outputs": [],
   "source": [
    "or_if_right = Forall((A, B), Or(A, B), condition=B)"
   ]
  },
  {
   "cell_type": "markdown",
   "metadata": {},
   "source": [
    "### Truth table for disjunction:"
   ]
  },
  {
   "cell_type": "code",
   "execution_count": null,
   "metadata": {},
   "outputs": [],
   "source": [
    "or_t_t = Equals(Or(TRUE, TRUE), TRUE)"
   ]
  },
  {
   "cell_type": "code",
   "execution_count": null,
   "metadata": {},
   "outputs": [],
   "source": [
    "or_t_f = Equals(Or(TRUE, FALSE), TRUE)"
   ]
  },
  {
   "cell_type": "code",
   "execution_count": null,
   "metadata": {},
   "outputs": [],
   "source": [
    "or_f_t = Equals(Or(FALSE, TRUE), TRUE)"
   ]
  },
  {
   "cell_type": "code",
   "execution_count": null,
   "metadata": {},
   "outputs": [],
   "source": [
    "or_f_f = Equals(Or(FALSE, FALSE), FALSE)"
   ]
  },
  {
   "cell_type": "code",
   "execution_count": null,
   "metadata": {},
   "outputs": [],
   "source": [
    "true_or_true = Or(TRUE, TRUE)"
   ]
  },
  {
   "cell_type": "code",
   "execution_count": null,
   "metadata": {},
   "outputs": [],
   "source": [
    "true_or_false = Or(TRUE, FALSE)"
   ]
  },
  {
   "cell_type": "code",
   "execution_count": null,
   "metadata": {},
   "outputs": [],
   "source": [
    "false_or_true = Or(FALSE, TRUE)"
   ]
  },
  {
   "cell_type": "code",
   "execution_count": null,
   "metadata": {},
   "outputs": [],
   "source": [
    "false_or_false_negated = Not(Or(FALSE, FALSE))"
   ]
  },
  {
   "cell_type": "code",
   "execution_count": null,
   "metadata": {},
   "outputs": [],
   "source": []
  },
  {
   "cell_type": "code",
   "execution_count": null,
   "metadata": {},
   "outputs": [],
   "source": [
    "excluded_middle = Forall(A, Or(A, Not(A)))"
   ]
  },
  {
   "cell_type": "code",
   "execution_count": null,
   "metadata": {},
   "outputs": [],
   "source": []
  },
  {
   "cell_type": "code",
   "execution_count": null,
   "metadata": {},
   "outputs": [],
   "source": [
    "neither_intro = Forall((A, B), Not(Or(A, B)), conditions=[Not(A), Not(B)])"
   ]
  },
  {
   "cell_type": "code",
   "execution_count": null,
   "metadata": {},
   "outputs": [],
   "source": [
    "not_left_if_neither = Forall((A, B), Not(A), conditions=(Not(Or(A, B))))"
   ]
  },
  {
   "cell_type": "code",
   "execution_count": null,
   "metadata": {},
   "outputs": [],
   "source": [
    "not_right_if_neither = Forall((A, B), Not(B), conditions=(Not(Or(A, B))))"
   ]
  },
  {
   "cell_type": "code",
   "execution_count": null,
   "metadata": {},
   "outputs": [],
   "source": [
    "binary_or_contradiction = Forall((A, B), Implies(Or(A, B), FALSE), conditions=(Not(A), Not(B)))"
   ]
  },
  {
   "cell_type": "code",
   "execution_count": null,
   "metadata": {},
   "outputs": [],
   "source": [
    "left_if_not_right = Forall((A, B), A, conditions=(Or(A, B), Not(B)))"
   ]
  },
  {
   "cell_type": "code",
   "execution_count": null,
   "metadata": {},
   "outputs": [],
   "source": [
    "right_if_not_left = Forall((A, B), B, conditions=(Or(A, B), Not(A)))"
   ]
  },
  {
   "cell_type": "code",
   "execution_count": null,
   "metadata": {},
   "outputs": [],
   "source": [
    "singular_constructive_dilemma = Forall((A, B), Forall(C, C, conditions=[Implies(A, C), Implies(B, C)]), \n",
    "                                       conditions=[Or(A, B)])"
   ]
  },
  {
   "cell_type": "code",
   "execution_count": null,
   "metadata": {},
   "outputs": [],
   "source": [
    "constructive_dilemma = Forall((A, B, C, D), Implies(Or(A, B), Or(C, D)), \n",
    "                             conditions=[Implies(A, C), Implies(B, D)])"
   ]
  },
  {
   "cell_type": "code",
   "execution_count": null,
   "metadata": {},
   "outputs": [],
   "source": [
    "destructive_dilemma = Forall((A, B, C, D), Implies(Or(Not(C), Not(D)), Or(Not(A), Not(B))), \n",
    "                            conditions=[Implies(A, C), Implies(B, D)])"
   ]
  },
  {
   "cell_type": "code",
   "execution_count": null,
   "metadata": {},
   "outputs": [],
   "source": [
    "commute = Forall((A, B), Or(B, A), conditions=[Or(A, B)])"
   ]
  },
  {
   "cell_type": "code",
   "execution_count": null,
   "metadata": {},
   "outputs": [],
   "source": [
    "commutation = Forall((A, B), Equals(Or(A, B), Or(B, A)))"
   ]
  },
  {
   "cell_type": "markdown",
   "metadata": {},
   "source": [
    "Regardless of what $A$ and $B$ are, $A \\lor B$ is Boolean by our definitions and should be \n",
    "interpretted to mean \"$A$ is a true statement or $B$ is a true statement\"."
   ]
  },
  {
   "cell_type": "code",
   "execution_count": null,
   "metadata": {},
   "outputs": [],
   "source": [
    "binary_closure = Forall((A, B), in_bool(Or(A, B)))"
   ]
  },
  {
   "cell_type": "code",
   "execution_count": null,
   "metadata": {},
   "outputs": [],
   "source": [
    "demorgans_law_and_to_or_bin = Forall((A,B), Or(A,B), \n",
    "                                conditions=[Not(And(Not(A), Not(B)))])"
   ]
  },
  {
   "cell_type": "code",
   "execution_count": null,
   "metadata": {},
   "outputs": [],
   "source": []
  },
  {
   "cell_type": "markdown",
   "metadata": {},
   "source": [
    "### Multi-disjunction"
   ]
  },
  {
   "cell_type": "code",
   "execution_count": null,
   "metadata": {},
   "outputs": [],
   "source": [
    "unfold_multi_or = Forall(m, Forall(A_1_to_m, Exists(k, A_k, domain=Interval(one, m)), \n",
    "                                   condition=Or(A_1_to_m)), \n",
    "                         domain=Natural)"
   ]
  },
  {
   "cell_type": "code",
   "execution_count": null,
   "metadata": {},
   "outputs": [],
   "source": [
    "fold_multi_or = Forall(m, Forall(A_1_to_m, Implies(Exists(k, A_k, domain=Interval(one, m)), \n",
    "                                                   Or(A_1_to_m))),\n",
    "                       domain=Natural)"
   ]
  },
  {
   "cell_type": "code",
   "execution_count": null,
   "metadata": {},
   "outputs": [],
   "source": []
  },
  {
   "cell_type": "code",
   "execution_count": null,
   "metadata": {},
   "outputs": [],
   "source": [
    "empty_disjunction_eval = Equals(Or(), FALSE)"
   ]
  },
  {
   "cell_type": "code",
   "execution_count": null,
   "metadata": {},
   "outputs": [],
   "source": [
    "unary_or_lemma = Forall(A, (Equals(Or(A), Or(FALSE, A))))"
   ]
  },
  {
   "cell_type": "code",
   "execution_count": null,
   "metadata": {},
   "outputs": [],
   "source": [
    "unary_or_reduction = Forall(A, Equals(Or(A), A), domain = Boolean)"
   ]
  },
  {
   "cell_type": "code",
   "execution_count": null,
   "metadata": {},
   "outputs": [],
   "source": [
    "singular_constructive_multi_dilemma = \\\n",
    "    Forall(m, \n",
    "           Forall(A_1_to_m,\n",
    "                  Forall(C, C,\n",
    "                         conditions=[ExprRange(i, Implies(IndexedVar(A,i),\n",
    "                                                          C), \n",
    "                                          one, m)]),\n",
    "                  conditions=[Or(A_1_to_m)]),\n",
    "           domain = Natural)"
   ]
  },
  {
   "cell_type": "code",
   "execution_count": null,
   "metadata": {},
   "outputs": [],
   "source": [
    "constructive_multi_dilemma = \\\n",
    "    Forall(m, \n",
    "           Forall((A_1_to_m, B_1_to_m), \n",
    "                  Or(B_1_to_m),\n",
    "                  conditions=[Or(A_1_to_m), \n",
    "                              ExprRange(i,Implies(IndexedVar(A,i), \n",
    "                                                  IndexedVar(B,i)),\n",
    "                                   one, m)]),\n",
    "           domain = Natural)"
   ]
  },
  {
   "cell_type": "code",
   "execution_count": null,
   "metadata": {},
   "outputs": [],
   "source": [
    "destructive_multi_dilemma = \\\n",
    "    Forall(m,\n",
    "           Forall((A_1_to_m, B_1_to_m), \n",
    "                  Or(ExprRange(i, Not(IndexedVar(A,i)), one, m)), \n",
    "                  conditions=[Or(ExprRange(i, Not(IndexedVar(B,i)), \n",
    "                                           one, m)), \n",
    "                              ExprRange(i,Implies(IndexedVar(A, i), \n",
    "                                                  IndexedVar(B, i)),\n",
    "                                   one,m)]), \n",
    "           domain=Natural)"
   ]
  },
  {
   "cell_type": "code",
   "execution_count": null,
   "metadata": {},
   "outputs": [],
   "source": []
  },
  {
   "cell_type": "code",
   "execution_count": null,
   "metadata": {},
   "outputs": [],
   "source": [
    "or_if_any = Forall((m, n), \n",
    "                 Forall((A_1_to_m, B, C_1_to_n),\n",
    "                        Or(A_1_to_m, B, C_1_to_n),\n",
    "                        conditions=[B]),\n",
    "                 domain=Natural)"
   ]
  },
  {
   "cell_type": "code",
   "execution_count": null,
   "metadata": {},
   "outputs": [],
   "source": [
    "not_or_if_not_any = \\\n",
    "    Forall(m, Forall(A_1_to_m, Not(Or(A_1_to_m)),\n",
    "                     conditions=[ExprRange(i, Not(IndexedVar(A, i)),\n",
    "                                           one, m)]),\n",
    "           domain=Natural)"
   ]
  },
  {
   "cell_type": "code",
   "execution_count": null,
   "metadata": {},
   "outputs": [],
   "source": [
    "# As long as there is at least one operand then \"if all then any.\"\n",
    "any_if_all = \\\n",
    "    Forall(m, Forall(A_1_to_m, Or(A_1_to_m),\n",
    "                     conditions=[A_1_to_m]),\n",
    "           domain=NaturalPos)"
   ]
  },
  {
   "cell_type": "code",
   "execution_count": null,
   "metadata": {},
   "outputs": [],
   "source": [
    "or_contradiction = \\\n",
    "    Forall(m, Forall(A_1_to_m, FALSE, \n",
    "                     conditions=(Or(A_1_to_m), \n",
    "                                 ExprRange(i, Not(IndexedVar(A, i)),\n",
    "                                           one, m))),\n",
    "           domain=Natural)"
   ]
  },
  {
   "cell_type": "code",
   "execution_count": null,
   "metadata": {},
   "outputs": [],
   "source": []
  },
  {
   "cell_type": "code",
   "execution_count": null,
   "metadata": {},
   "outputs": [],
   "source": [
    "true_eval = Forall((m, n), \n",
    "                  Forall((A_1_to_m, C_1_to_n), \n",
    "                         Equals(Or(A_1_to_m, TRUE, C_1_to_n), TRUE)),\n",
    "                  domain=Natural)"
   ]
  },
  {
   "cell_type": "code",
   "execution_count": null,
   "metadata": {},
   "outputs": [],
   "source": [
    "false_eval = Forall(m, Forall(A_1_to_m, \n",
    "                             Equals(Or(A_1_to_m), FALSE), \n",
    "                             domain=Set(FALSE)),\n",
    "                   domain=Natural)"
   ]
  },
  {
   "cell_type": "code",
   "execution_count": null,
   "metadata": {},
   "outputs": [],
   "source": [
    "closure = Forall(m, Forall(A_1_to_m, \n",
    "                           in_bool(Or(A_1_to_m))),\n",
    "                 domain=NaturalPos)"
   ]
  },
  {
   "cell_type": "code",
   "execution_count": null,
   "metadata": {},
   "outputs": [],
   "source": [
    "demorgans_law_and_to_or = \\\n",
    "    Forall(m, Forall(A_1_to_m, Or(A_1_to_m), \n",
    "                     condition=Not(And(ExprRange(i, Not(IndexedVar(A,i)), one, m)))),\n",
    "           domain=Natural)"
   ]
  },
  {
   "cell_type": "code",
   "execution_count": null,
   "metadata": {},
   "outputs": [],
   "source": [
    "leftward_commutation = \\\n",
    "    Forall((l, m, n),\n",
    "           Forall((A_1_to_l,B_1_to_m,C,D_1_to_n), \n",
    "                  Equals(Or(A_1_to_l, B_1_to_m, C, D_1_to_n), \n",
    "                         Or(A_1_to_l, C, B_1_to_m, D_1_to_n)) \\\n",
    "                  .with_wrapping_at(2)), \n",
    "           domain=Natural)"
   ]
  },
  {
   "cell_type": "code",
   "execution_count": null,
   "metadata": {},
   "outputs": [],
   "source": [
    "rightward_commutation = \\\n",
    "    Forall((l, m, n),\n",
    "           Forall((A_1_to_l,B,C_1_to_m,D_1_to_n), \n",
    "                  Equals(Or(A_1_to_l, B, C_1_to_m, D_1_to_n), \n",
    "                         Or(A_1_to_l, C_1_to_m, B, D_1_to_n)) \\\n",
    "                  .with_wrapping_at(2)),\n",
    "           domain = Natural)"
   ]
  },
  {
   "cell_type": "code",
   "execution_count": null,
   "metadata": {},
   "outputs": [],
   "source": [
    "rightward_commute = \\\n",
    "    Forall((l, m, n), \n",
    "           Forall((A_1_to_l,B,C_1_to_m,D_1_to_n), \n",
    "                  Or(A_1_to_l, C_1_to_m, B, D_1_to_n),\n",
    "                  conditions=[Or(A_1_to_l, B, C_1_to_m, D_1_to_n)]),\n",
    "           domain=Natural)"
   ]
  },
  {
   "cell_type": "code",
   "execution_count": null,
   "metadata": {},
   "outputs": [],
   "source": [
    "leftward_commute = \\\n",
    "    Forall((l, m, n), \n",
    "           Forall((A_1_to_l,B_1_to_m,C,D_1_to_n), \n",
    "                  Or(A_1_to_l, C, B_1_to_m,D_1_to_n),\n",
    "                  conditions=[Or(A_1_to_l, B_1_to_m, C, D_1_to_n)]),\n",
    "           domain=Natural)"
   ]
  },
  {
   "cell_type": "code",
   "execution_count": null,
   "metadata": {},
   "outputs": [],
   "source": [
    "association = \\\n",
    "    Forall((l,m,n), \n",
    "           Forall((A_1_to_l,B_1_to_m,C_1_to_n), \n",
    "                  Equals(Or(A_1_to_l, B_1_to_m, C_1_to_n),\n",
    "                         Or(A_1_to_l, Or(B_1_to_m), C_1_to_n)) \\\n",
    "                  .with_wrapping_at(2)),\n",
    "           domain=Natural)"
   ]
  },
  {
   "cell_type": "code",
   "execution_count": null,
   "metadata": {},
   "outputs": [],
   "source": [
    "disassociation = \\\n",
    "    Forall((l,m,n), \n",
    "           Forall((A_1_to_l,B_1_to_m,C_1_to_n), \n",
    "                  Equals(Or(A_1_to_l, Or(B_1_to_m), C_1_to_n),\n",
    "                         Or(A_1_to_l, B_1_to_m, C_1_to_n)) \\\n",
    "                  .with_wrapping_at(2)),\n",
    "           domain=Natural)"
   ]
  },
  {
   "cell_type": "code",
   "execution_count": null,
   "metadata": {},
   "outputs": [],
   "source": [
    "associate = \\\n",
    "    Forall((l,m,n), \n",
    "           Forall((A_1_to_l,B_1_to_m,C_1_to_n), \n",
    "                  Or(A_1_to_l, Or(B_1_to_m), C_1_to_n),\n",
    "                  conditions=[Or(A_1_to_l, B_1_to_m, C_1_to_n)]),\n",
    "           domain=Natural)"
   ]
  },
  {
   "cell_type": "code",
   "execution_count": null,
   "metadata": {},
   "outputs": [],
   "source": [
    "disassociate = \\\n",
    "    Forall((l,m,n), \n",
    "           Forall((A_1_to_l,B_1_to_m,C_1_to_n), \n",
    "                  Or(A_1_to_l, B_1_to_m, C_1_to_n),\n",
    "                  conditions=[Or(A_1_to_l, Or(B_1_to_m), C_1_to_n)]),\n",
    "           domain=Natural)"
   ]
  },
  {
   "cell_type": "code",
   "execution_count": null,
   "metadata": {},
   "outputs": [],
   "source": [
    "disjunction_eq_quantification = Forall(\n",
    "    (i, j), Forall(P, Equals(Or(ExprRange(k, Pk, i, j)),\n",
    "                             Exists(k, Pk, domain=Interval(i,j))),\n",
    "                   conditions=[LessEq(i, Add(j, one))]),\n",
    "    domain=Integer)"
   ]
  },
  {
   "cell_type": "code",
   "execution_count": null,
   "metadata": {},
   "outputs": [],
   "source": [
    "disjunction_from_quantification = Forall(\n",
    "    (i, j), Forall(P, Implies(Exists(k, Pk, domain=Interval(i,j)), \n",
    "                              Or(ExprRange(k, Pk, i, j))),\n",
    "                   conditions=[LessEq(i, Add(j, one))]),\n",
    "    domain=Integer)"
   ]
  },
  {
   "cell_type": "code",
   "execution_count": null,
   "metadata": {},
   "outputs": [],
   "source": [
    "quantification_from_disjunction = Forall(\n",
    "    (i, j), Forall(P, Implies(Or(ExprRange(k, Pk, i, j)),\n",
    "                              Exists(k, Pk, domain=Interval(i,j)))),\n",
    "    domain=Integer)"
   ]
  },
  {
   "cell_type": "code",
   "execution_count": null,
   "metadata": {},
   "outputs": [],
   "source": [
    "%end theorems"
   ]
  },
  {
   "cell_type": "code",
   "execution_count": null,
   "metadata": {},
   "outputs": [],
   "source": []
  }
 ],
 "metadata": {
  "kernelspec": {
   "display_name": "Python 3 (ipykernel)",
   "language": "python",
   "name": "python3"
  }
 },
 "nbformat": 4,
 "nbformat_minor": 0
}
