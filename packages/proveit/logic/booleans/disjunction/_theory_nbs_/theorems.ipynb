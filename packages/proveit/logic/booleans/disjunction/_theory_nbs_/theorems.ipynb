{
 "cells": [
  {
   "cell_type": "markdown",
   "metadata": {},
   "source": [
    "Theorems (or conjectures) for the theory of <a class=\"ProveItLink\" href=\"theory.ipynb\">proveit.logic.booleans.disjunction</a>\n",
    "========"
   ]
  },
  {
   "cell_type": "code",
   "execution_count": 1,
   "metadata": {},
   "outputs": [
    {
     "name": "stdout",
     "output_type": "stream",
     "text": [
      "Defining theorems for theory 'proveit.logic.booleans.disjunction'\n",
      "Subsequent end-of-cell assignments will define theorems\n",
      "'%end theorems' will finalize the definitions\n"
     ]
    }
   ],
   "source": [
    "import proveit\n",
    "# Prepare this notebook for defining the theorems of a theory:\n",
    "%theorems_notebook # Keep this at the top following 'import proveit'.\n",
    "from proveit import Lambda, ExprRange, IndexedVar\n",
    "from proveit import i, j, k, l, m, n, A, B, C, D, E, P, Pk\n",
    "from proveit.logic import (Or, TRUE, FALSE, Forall, Exists, Implies, Not, in_bool, \n",
    "                           And, Boolean, Equals, Set)\n",
    "from proveit.core_expr_types import A_1_to_l, A_1_to_m, B_1_to_m, C_1_to_m, C_1_to_n, D_1_to_n\n",
    "from proveit.numbers import Natural, NaturalPos, Add, Exp, one, LessEq, Integer, Interval\n",
    "%begin theorems"
   ]
  },
  {
   "cell_type": "code",
   "execution_count": 2,
   "metadata": {},
   "outputs": [
    {
     "data": {
      "text/html": [
       "<strong id=\"true_or_true\"><a class=\"ProveItLink\" href=\"proofs/true_or_true/thm_proof.ipynb\">true_or_true</a> (established theorem):<br></strong> <a class=\"ProveItLink\" href=\"../__pv_it/theorems/ff775c2fd7717c8be8f93d9215c29a6d8727a7e70/theorem_expr.ipynb\"><img src=\"data:image/png;base64,iVBORw0KGgoAAAANSUhEUgAAADUAAAAOBAMAAAB9dUktAAAALVBMVEX///8AAAAAAAAAAAAAAAAA\n",
       "AAAAAAAAAAAAAAAAAAAAAAAAAAAAAAAAAAAAAADAOrOgAAAADnRSTlMAmd2rVHZEZhAyuyLNiZwV\n",
       "5zYAAAAJcEhZcwAADsQAAA7EAZUrDhsAAAB0SURBVBjTYxBSAgFlBiTACBZSMgCxXSFCzA1AgjMA\n",
       "zGYJgKqDyrGD+FwTsMoxKADxHgbscleAWASH3B6oXmxyzBMYWANwyHEaMDA14JBjOM3gyIBLzhco\n",
       "i0uOiXMBTjnW4gScchw6DOhy6fBQFoEx2AqABABLhxPlC5SEqgAAAABJRU5ErkJggg==\n",
       "\" style=\"display:inline;vertical-align:middle;\" /></a><br>"
      ],
      "text/plain": [
       "<IPython.core.display.HTML object>"
      ]
     },
     "metadata": {},
     "output_type": "display_data"
    }
   ],
   "source": [
    "true_or_true = Or(TRUE, TRUE)"
   ]
  },
  {
   "cell_type": "code",
   "execution_count": 3,
   "metadata": {},
   "outputs": [
    {
     "data": {
      "text/html": [
       "<strong id=\"true_or_false\"><a class=\"ProveItLink\" href=\"proofs/true_or_false/thm_proof.ipynb\">true_or_false</a> (established theorem):<br></strong> <a class=\"ProveItLink\" href=\"../__pv_it/theorems/5790755076a0430a586644d86831c4b85dc4003d0/theorem_expr.ipynb\"><img src=\"data:image/png;base64,iVBORw0KGgoAAAANSUhEUgAAADUAAAAPBAMAAAC2KZqIAAAAMFBMVEX///8AAAAAAAAAAAAAAAAA\n",
       "AAAAAAAAAAAAAAAAAAAAAAAAAAAAAAAAAAAAAAAAAAAv3aB7AAAAD3RSTlMAmd2rVHZEZhAyuyLN\n",
       "ie8tkZAaAAAACXBIWXMAAA7EAAAOxAGVKw4bAAAAdUlEQVQY02NgwAOElEBAGU2UrQDKcIVQzA1A\n",
       "gjMAzGYJQJVjB/G5JmCVY1AA4j0M2OWuALEIDrk9UL3Y5JgnMLAG4JDjNGBgasAhx3CawZEBl5wv\n",
       "UBaXHBPnApxyrMUJOOU4dBjQ5dLhQQzxOaOSkt4jJSUDAI7cFLFPCilqAAAAAElFTkSuQmCC\n",
       "\" style=\"display:inline;vertical-align:middle;\" /></a><br>"
      ],
      "text/plain": [
       "<IPython.core.display.HTML object>"
      ]
     },
     "metadata": {},
     "output_type": "display_data"
    }
   ],
   "source": [
    "true_or_false = Or(TRUE, FALSE)"
   ]
  },
  {
   "cell_type": "code",
   "execution_count": 4,
   "metadata": {},
   "outputs": [
    {
     "data": {
      "text/html": [
       "<strong id=\"false_or_true\"><a class=\"ProveItLink\" href=\"proofs/false_or_true/thm_proof.ipynb\">false_or_true</a> (established theorem):<br></strong> <a class=\"ProveItLink\" href=\"../__pv_it/theorems/672ae54ead1cda02d0d369ab4a126dbb3152578b0/theorem_expr.ipynb\"><img src=\"data:image/png;base64,iVBORw0KGgoAAAANSUhEUgAAADUAAAAPBAMAAAC2KZqIAAAAMFBMVEX///8AAAAAAAAAAAAAAAAA\n",
       "AAAAAAAAAAAAAAAAAAAAAAAAAAAAAAAAAAAAAAAAAAAv3aB7AAAAD3RSTlMARGZUdpnd76sQMrsi\n",
       "zYn8WdLlAAAACXBIWXMAAA7EAAAOxAGVKw4bAAAAeElEQVQY02NgwA+E0PisaWDQAGKbQIQ4JgAJ\n",
       "Lgcwm9kBqg4qxwTicy/AKseQAMRnGbDLPQbiYBxyZ6F6sclxLGBgccAhx9XAwDYBhxzDHQZTBlxy\n",
       "dkBZXHJsXBtwyrFoCOCU48xlQJELS0srT0vLgAgFw+QYFYAEAA+PFtlNV6SWAAAAAElFTkSuQmCC\n",
       "\" style=\"display:inline;vertical-align:middle;\" /></a><br>"
      ],
      "text/plain": [
       "<IPython.core.display.HTML object>"
      ]
     },
     "metadata": {},
     "output_type": "display_data"
    }
   ],
   "source": [
    "false_or_true = Or(FALSE, TRUE)"
   ]
  },
  {
   "cell_type": "code",
   "execution_count": 5,
   "metadata": {},
   "outputs": [
    {
     "data": {
      "text/html": [
       "<strong id=\"false_or_false_negated\"><a class=\"ProveItLink\" href=\"proofs/false_or_false_negated/thm_proof.ipynb\">false_or_false_negated</a> (established theorem):<br></strong> <a class=\"ProveItLink\" href=\"../__pv_it/theorems/7e57deca92c3a100d28e96368b684698596473120/theorem_expr.ipynb\"><img src=\"data:image/png;base64,iVBORw0KGgoAAAANSUhEUgAAAFYAAAAVBAMAAAAutAQGAAAAMFBMVEX///8AAAAAAAAAAAAAAAAA\n",
       "AAAAAAAAAAAAAAAAAAAAAAAAAAAAAAAAAAAAAAAAAAAv3aB7AAAAD3RSTlMAmd0iq3ZUiRDNZu9E\n",
       "uzLWhN+VAAAACXBIWXMAAA7EAAAOxAGVKw4bAAABC0lEQVQoz2NgQABmBjwATTIMn1qeAGQeWwGI\n",
       "PIVF2QIQGYUs1AkmUyEcDxDxFGoI2EjOBiS1Ushql4KIe8hquQSQ1G5AVssE8s4EZLUMO5CcOwFZ\n",
       "LXsCAwNjAoraWQi1jAXIakFmMjGgqC1BqOVcgKyWwY+BIRRV7UoGISUgUAS5MAFF7RMGBg1UtdkQ\n",
       "ngkQcx9AUctpwCaAqvY9TrVsBZwGqGpPI9SiuYFB4S0DqtokCM8QiHkDUNVG+aCpXYsIB3YHVLVN\n",
       "E9DUiiPU8ikwgAJlt5KSCiS8IW5iVFLS3qSkBDRIBymO9RjwAmYFJM5C/GoZFyBxeA3wqrVF5nBc\n",
       "wKv2MgrPFJ9SVgMGAPkQK7naZXhkAAAAAElFTkSuQmCC\n",
       "\" style=\"display:inline;vertical-align:middle;\" /></a><br>"
      ],
      "text/plain": [
       "<IPython.core.display.HTML object>"
      ]
     },
     "metadata": {},
     "output_type": "display_data"
    }
   ],
   "source": [
    "false_or_false_negated = Not(Or(FALSE, FALSE))"
   ]
  },
  {
   "cell_type": "code",
   "execution_count": 6,
   "metadata": {},
   "outputs": [
    {
     "data": {
      "text/html": [
       "<strong id=\"or_if_both\"><a class=\"ProveItLink\" href=\"proofs/or_if_both/thm_proof.ipynb\">or_if_both</a> (established theorem):<br></strong> <a class=\"ProveItLink\" href=\"../__pv_it/theorems/f65d197daca2ec146906d0f187b21897863c34f80/theorem_expr.ipynb\"><img src=\"data:image/png;base64,iVBORw0KGgoAAAANSUhEUgAAAK0AAAAXBAMAAACL0NJjAAAAMFBMVEX///8AAAAAAAAAAAAAAAAA\n",
       "AAAAAAAAAAAAAAAAAAAAAAAAAAAAAAAAAAAAAAAAAAAv3aB7AAAAD3RSTlMAq1RmmUTNIjK7EInv\n",
       "3XZ/CtNrAAAACXBIWXMAAA7EAAAOxAGVKw4bAAACuklEQVQ4y61VTWgTQRT+ks0mm82PCZTiRRLQ\n",
       "mwcjFsFDbf3FUsGglyKi8SDFXBovnqqJR6HQUjyIiFlBBNFKLQUPObTWg4ooAUW8FIIevIj9sU1D\n",
       "BeObebNhk9hoqguzk3lv3vfe++bbCbCpx9fSm8Fmn088Xf699yyNiPixvU1Y9yTPQw32fdVo9GIO\n",
       "4QRwRKwH28S9r+Cr4u2y6GWUpOUVLStAGrgm2BprE/cQT56YYFITkP6cpP0noK8AXYCXsgXibeLO\n",
       "8vR0RqIVa0xrVKtG2EELGnHhbZfeFIuitCALmqJxUFpciwT2ggaBvpmff90mroePzYNdCVsVRWkJ\n",
       "jsHcRj0ESA3HgFvSaDVE96rZbML1SjicxKhM4CIF8LGN3vnWKXwaNXQJPqk186V0XV8p9EnWYB/m\n",
       "I7k08v3TN5UlFFeJszLSiCDERS1k4H4uiKID8FuBpLAFlpn6IsKzdbgzjNINfFWWoAwI3zgc4z2D\n",
       "2MGO22I7lWEQz+4SH9vAW6a+F9qiE1cf4R47gJ463MfAFqZ1p/0BLNHooe26qCy1X9pK5zkmjomE\n",
       "Ezfslc1iDua7Oh6I/xB3FjJ4r/GdXjFK6hb5ptIyHEelL/u5ayucuCVPiiW/50BO4fpFB7oQKHcW\n",
       "3p3keY2wy4JMETss6xlQ7HXD7HDi6jmmm3i/aytEyAjDIsEaK+aD0gntPJO2heiSZfQXYpaiMZt0\n",
       "4HoKT9YV775VhWtQmw+qabjzZVay+iryS9HOcUlM0pZkmOByTCPOOXVWgq+ieNcr9u6Pf/hwrtR+\n",
       "naLDjZuT8K3DfO/gQbC4jIeU1cKEzYO4V/7mXqJun8E8ccGYw94fhb64A/d4BPfKyZG4NlSYHq/F\n",
       "+Vv/IzTdj27nwulsuPDM1hdrU9rTG+DqjXfH1Za4XxoNiQ1wNfzHJ/Mvwb8AFtGhXt/iZ08AAAAA\n",
       "SUVORK5CYII=\n",
       "\" style=\"display:inline;vertical-align:middle;\" /></a><br>"
      ],
      "text/plain": [
       "<IPython.core.display.HTML object>"
      ]
     },
     "metadata": {},
     "output_type": "display_data"
    }
   ],
   "source": [
    "or_if_both = Forall((A, B), Or(A, B), conditions=[A, B])"
   ]
  },
  {
   "cell_type": "code",
   "execution_count": 7,
   "metadata": {},
   "outputs": [
    {
     "data": {
      "text/html": [
       "<strong id=\"or_if_only_left\"><a class=\"ProveItLink\" href=\"proofs/or_if_only_left/thm_proof.ipynb\">or_if_only_left</a> (established theorem):<br></strong> <a class=\"ProveItLink\" href=\"../__pv_it/theorems/4b9a7a66fb7faae8a2341d487a15c078561ca52d0/theorem_expr.ipynb\"><img src=\"data:image/png;base64,iVBORw0KGgoAAAANSUhEUgAAALgAAAAXBAMAAABKV5jPAAAAMFBMVEX///8AAAAAAAAAAAAAAAAA\n",
       "AAAAAAAAAAAAAAAAAAAAAAAAAAAAAAAAAAAAAAAAAAAv3aB7AAAAD3RSTlMAq1RmmUTNIjK7EInv\n",
       "3XZ/CtNrAAAACXBIWXMAAA7EAAAOxAGVKw4bAAACq0lEQVRIx61VTWgTQRT+ks1/mm0CInpKQPFi\n",
       "xQhS8KANomKpYNBLEcFIkWIpqBdBKCQehUp6EDSCdgUvxR9aLx5yqBYUf1CCqHgprPQqVov9sYLx\n",
       "zZv9GUMSZOODmXn7vp1vdt77ZhbowM63A8PoyPQMDxebo0ETSApniyfy7XI41xDWJr+nNt4AFoCD\n",
       "4nnYC3eswIO/LnqfQV3E5EjXBJAuIWTgskjPhBfyQFYOaZF6TfBGSxwpkn8qBy0n+BHPeCHvksPj\n",
       "Waasudnvo0AfLfAKGq0f8pTybVIU5iJ/2iNq+yWQpjZK2xkC3szPv/ZEPiCzgp1ZWzM1CbwE7nyi\n",
       "cQY4DNzkmNGQUqdwLciHuD+G8jRXtARd1jPy8+tnxnqBCwizHGMvGLryo9rPSYzaJPdLLqGDkr3j\n",
       "PociT48kkZCfp68CPWI3PURixPMiFl+SKq1Bf/IX+axSbgcle8ZM1w6kpdaGsVXGo/RCfI2cMunU\n",
       "lPUcfMuDjzT0TSUPjpsuuYPa5A+B7pp1pKzT0k070X6Tc5JaYR/HzNNSYBk8yKrkeiipyM9G7bTk\n",
       "gITcSiJinZYyveBbJmeHENEIc+CQPAELuzdBJTcDBZfcQclui20JIcut6LvyMr5IKiyLOXuojfGX\n",
       "DeILQ3sR26CSB0uc5HilUrmloFJpGBMvrkpRfbTiozTpuWFp1cflH6imudg0t5hXyAPVmXU74QpK\n",
       "dhWYqo/AP7nCWrSP0OZ6KnWWNfDBuT5pFi8yR/eCKkUT4TWX3EFFkkvtD1m4ZnvHqcqZ2DTC64i9\n",
       "V9IikrqEe9axclEhy9w/XWzkPEXs6JnIHHp/VfszCvmRJO6u5MctqbuosOvtyS81PPsVP6oCTa/N\n",
       "qfbkjWufaEEeNJom1Wz7E2z8w2ZbkGv4zxbunOIPCmKalaejCfwAAAAASUVORK5CYII=\n",
       "\" style=\"display:inline;vertical-align:middle;\" /></a><br>"
      ],
      "text/plain": [
       "<IPython.core.display.HTML object>"
      ]
     },
     "metadata": {},
     "output_type": "display_data"
    }
   ],
   "source": [
    "or_if_only_left = Forall((A, B), Or(A, B), conditions=[A, Not(B)])"
   ]
  },
  {
   "cell_type": "code",
   "execution_count": 8,
   "metadata": {},
   "outputs": [
    {
     "data": {
      "text/html": [
       "<strong id=\"or_if_only_right\"><a class=\"ProveItLink\" href=\"proofs/or_if_only_right/thm_proof.ipynb\">or_if_only_right</a> (established theorem):<br></strong> <a class=\"ProveItLink\" href=\"../__pv_it/theorems/25cf93e6d03e949bc2692d69fffe0df53823d97c0/theorem_expr.ipynb\"><img src=\"data:image/png;base64,iVBORw0KGgoAAAANSUhEUgAAALgAAAAXBAMAAABKV5jPAAAAMFBMVEX///8AAAAAAAAAAAAAAAAA\n",
       "AAAAAAAAAAAAAAAAAAAAAAAAAAAAAAAAAAAAAAAAAAAv3aB7AAAAD3RSTlMAq1RmmUTNIjK7EInv\n",
       "3XZ/CtNrAAAACXBIWXMAAA7EAAAOxAGVKw4bAAACfUlEQVRIx61VTWjUQBT+dqPdbLa73QURPWVB\n",
       "8WLFCFLwoA2iYunBRS+lCFaKFEuhehGEwsajB9keBF0PNh57UKoXkT2oBcUflCAqXgqRXkurotYf\n",
       "cH3zJqHdyRIk64OZefO+yTeZ975JgA7sXByYQUdWKPNwoT260QeKwtmWiHynHCaVsDbzubT5OrAI\n",
       "HBbzsSTcxggP6aboUy51us+R7mnAdNDl4pJIz3QS8g2WHEyRek3wZh2OVMk/ZUOzBT9y5STk3XK4\n",
       "/5ApvbXs91OgnzZ4AY3270qU8h1SFP4Kv9o9agclYFKboOOMAq8WFl4mIh+UWcFuK9SMJ4HnwK0P\n",
       "NN4FjgI3OOYqKW2duhHyUe6PozbHFXVQkPXUfy5/ZKwPOI8My9F4xtDlr40BTmK2VRoKSvaGextV\n",
       "flwvIi9foLAK9IrT9BKJm6uIWO6LVKmHwqMouYqSPWGmq4dMqbUxbJfxLC3I/SCnRjr1ZT2HXvOQ\n",
       "Ig19ipKraEh+B+jxgisV3JYeOon2h5yT1EYOcMw/LQVWxm0rSq6iYVpsIC+PkteD21KjBalv5OwS\n",
       "Ihrn8+GIvAGLe7cgQh5ByW6KD4gQsjxKYU9FxldIhTVxe/dRm+KCDGGJof0wNq0jf1Cv1702qFQa\n",
       "psTCVVny90F8gvZ86gZaTXH5BxsmF5uerVZa37zYBiW7Asw2x5Ge+c5aDK/Q1mapdJbv1bu1c6PK\n",
       "m8zTd8FRyaOoSLITf8kyXuidoCqXjTlkfsF4q+TcboMKWdr/9GEj5zGMY2f0efT9bgyU1YK2QYVd\n",
       "iye/qMzT6/xsZHVamc/Gk6t7D8eSD6tJ9WN/guof1oolt/DfLNM5xV+EoJkPOd8+qQAAAABJRU5E\n",
       "rkJggg==\n",
       "\" style=\"display:inline;vertical-align:middle;\" /></a><br>"
      ],
      "text/plain": [
       "<IPython.core.display.HTML object>"
      ]
     },
     "metadata": {},
     "output_type": "display_data"
    }
   ],
   "source": [
    "or_if_only_right = Forall((A, B), Or(A, B), conditions=[Not(A), B])"
   ]
  },
  {
   "cell_type": "code",
   "execution_count": 9,
   "metadata": {},
   "outputs": [
    {
     "data": {
      "text/html": [
       "<strong id=\"neither_intro\"><a class=\"ProveItLink\" href=\"proofs/neither_intro/thm_proof.ipynb\">neither_intro</a> (established theorem):<br></strong> <a class=\"ProveItLink\" href=\"../__pv_it/theorems/e9c1dd0f2eaaa7e684000223213d4793a32f1f250/theorem_expr.ipynb\"><img src=\"data:image/png;base64,iVBORw0KGgoAAAANSUhEUgAAAOEAAAAXBAMAAAAPVjVNAAAAMFBMVEX///8AAAAAAAAAAAAAAAAA\n",
       "AAAAAAAAAAAAAAAAAAAAAAAAAAAAAAAAAAAAAAAAAAAv3aB7AAAAD3RSTlMAq1RmmUTNIjK7EInv\n",
       "3XZ/CtNrAAAACXBIWXMAAA7EAAAOxAGVKw4bAAAC7UlEQVRIx7VVT0gUURj/nNl1ZmfdbQWRLrEL\n",
       "RZcOTSRBB3P6S+KhpS4iUUaE5MXt0snY7dghFAnMCJ2OHgwTIWIPmREZUSwW3YSFDl0i1/6oFGjf\n",
       "+76368y+WQ8rfvCbeb/3zbzf+/68GYAdWqYmCXoyAzu2eEolt4MfvSKREGR/3YqHAshA1TPHN5ub\n",
       "b+YgbgPhrJjrq1fQ6lWJtimuDS5ezCLNvEO6DtAPhLt4M4brVQzZKgklRbV0IRbJiQljAyD8G6AN\n",
       "CI24l2iqXsWmAPL8JekUKhXVMT4dVZtcgo4ba6y7jAdVYhSXKYAZxCmaaSihxFuEzfiwtPS+bsUu\n",
       "lYTgsF3u2ALHPgzWPow7mmCcB3hEDreqRH7qBipeV8lFGJqmyLA7uXGGxn+0ik3ovYxbYNAJsRbI\n",
       "fe93vpPqEPE35cLW2Jzomn3Iw0Xc2ZIwhwmaA1laz0xAjLe5nAHttWjiOUbEjabFfPQnl7kA8TlV\n",
       "UXrZ2gG+8+iNnKFNE4k/OJPk1u+DA+x8jBDdZJYYWpEbp/sjl9kBvaQqSi9bC0BHLcWnAHsK8nsg\n",
       "j/kKogMTHJ5jQO8Jmi9e4zKnYMpWFaWXbR6sT5WsbikuclIhRjmCmMmxmr/wksQ8agUGzPRTNuAc\n",
       "+bNf2/aColj28vIbR0/meDhennIkCYsTUOJ3jqT5voaqq6JgwwwYpEJ3y9K0g9XiUXwxNjZWqHiZ\n",
       "YamfOKz0zLstQQbFm2vcbF94uhFDviyiCk0zRBuLw5RPurJG2bQ/xsSWlxiW2vjD5L5XEcnkZj9o\n",
       "E6t0PMrnf2KluXWE0pxmlNMG2RzXCK7mqhUrXmJY6vA6k1jOo+gjAXZHgu0StljKmgbjL1ifq+ro\n",
       "VLzyvLkwJbOqO54VfSTATkvwB+YVWBdumPNw7F++M1XdORUvLzyQnx0pu0a9S45uKyj+UMpfSvOM\n",
       "I8orWsAykzWJYpEMw2c92yr2BG28WIso9k3CZ/a2ijbsrhm7tO5/aZ640ZQmq6QAAAAASUVORK5C\n",
       "YII=\n",
       "\" style=\"display:inline;vertical-align:middle;\" /></a><br>"
      ],
      "text/plain": [
       "<IPython.core.display.HTML object>"
      ]
     },
     "metadata": {},
     "output_type": "display_data"
    }
   ],
   "source": [
    "neither_intro = Forall((A, B), Not(Or(A, B)), conditions=[Not(A), Not(B)])"
   ]
  },
  {
   "cell_type": "code",
   "execution_count": 10,
   "metadata": {},
   "outputs": [
    {
     "data": {
      "text/html": [
       "<strong id=\"binary_or_contradiction\"><a class=\"ProveItLink\" href=\"proofs/binary_or_contradiction/thm_proof.ipynb\">binary_or_contradiction</a> (established theorem):<br></strong> <a class=\"ProveItLink\" href=\"../__pv_it/theorems/a14ea537e6cb0beb9642efe65138e330bef3f6320/theorem_expr.ipynb\"><img src=\"data:image/png;base64,iVBORw0KGgoAAAANSUhEUgAAALMAAAAWBAMAAAB567CdAAAAMFBMVEX///8AAAAAAAAAAAAAAAAA\n",
       "AAAAAAAAAAAAAAAAAAAAAAAAAAAAAAAAAAAAAAAAAAAv3aB7AAAAD3RSTlMAq1RmmUTNIjK7EInv\n",
       "3XZ/CtNrAAAACXBIWXMAAA7EAAAOxAGVKw4bAAAB+klEQVQ4y7WUv0sbYRjHv8nd5cxFYoYMhQ4e\n",
       "9B84SOmmxkFRUjDgIjqYDqXgIu6FXEfBQZyMiyd0bCAtLuWGtpmEogjtaODAtUMpbQkRxPfXJc9F\n",
       "EwLmHsj7Pg/f9/kceZ73eYH4LMeXZ2OGGg5fF/jyZszoZMDXd+xn7seCTnlAxo4FrbGypBALGuet\n",
       "1veY0EvAkXC8qKyHjjUY4Q1H78AUF9A6E+HuX3/Z5U46PPfBVc7Ecen0kBJUyn1RodNepsz3zB8R\n",
       "apfIfo2gv9goygGYAX5RtEqRRkWFTgayi2sXYksUof2maGMv4CNlNIA8MEfRKkUaFRUalVmxBa/E\n",
       "Nmmj7lB0NpXjfprVtQnrB0WrFGlUDNGftgQBiyKqXj9/AooO9AqSDjbYZN0W5l0CC1OERcQQ/VZ0\n",
       "cU1VagZWnqINl5d+n98i1oYTXnV8rtVql90UGXVFik6Ij5X8aU+VrFomaN3/2AEKvNSsDeY/8qyF\n",
       "KSLqiXqrdcWGJdf7c6i6smTYpJcvgNlm88pLzdpgtHvoboqIImLEVoEp22rA7MD6SQrCn0d2xbSn\n",
       "vA0e6kWwQ9yK3RQZSfEB07/BWnk90cSLG3/ZJuiXObz/zwrEWq1t+6cHbDaafSlyHKQ4ZPaJnx7l\n",
       "UH802NZHQa8PiQabMwraGRKNZuZjX9Y7a66ELqZdsyIAAAAASUVORK5CYII=\n",
       "\" style=\"display:inline;vertical-align:middle;\" /></a><br>"
      ],
      "text/plain": [
       "<IPython.core.display.HTML object>"
      ]
     },
     "metadata": {},
     "output_type": "display_data"
    }
   ],
   "source": [
    "binary_or_contradiction = Forall((A, B), FALSE, conditions=(Or(A, B), Not(A), Not(B)))"
   ]
  },
  {
   "cell_type": "code",
   "execution_count": 11,
   "metadata": {},
   "outputs": [
    {
     "data": {
      "text/html": [
       "<strong id=\"left_if_not_right\"><a class=\"ProveItLink\" href=\"proofs/left_if_not_right/thm_proof.ipynb\">left_if_not_right</a> (established theorem):<br></strong> <a class=\"ProveItLink\" href=\"../__pv_it/theorems/95078694b6f2a8517ae8fdf7d40a916e180631c60/theorem_expr.ipynb\"><img src=\"data:image/png;base64,iVBORw0KGgoAAAANSUhEUgAAAKsAAAAWBAMAAABNknGBAAAAMFBMVEX///8AAAAAAAAAAAAAAAAA\n",
       "AAAAAAAAAAAAAAAAAAAAAAAAAAAAAAAAAAAAAAAAAAAv3aB7AAAAD3RSTlMAq1RmmUTNIjK7EInv\n",
       "3XZ/CtNrAAAACXBIWXMAAA7EAAAOxAGVKw4bAAACHElEQVQ4y62UQUgUURjH/87stjpjqwcPdtoF\n",
       "L92cILoVe1BROiR5kTy0gSIqpBUEQbAbeBFERfQwQjR4iygGL1F7qPYUlOHBqzAg3gQlQqEO2/e+\n",
       "eW/nDbmwS/Ng9r3/9/7zm2+/b+YByY+ndHWLRV+i2Hm6BsViOkmqUaOfF3Rl1pLEpnILwCUPsPNJ\n",
       "Yt9/KgOmQ+gkqZngRGS5e3DwLdEaoJ8yxTCwxdpr6CyohdcE9i5WfZoeIcMvmfWVo0u/KiPlsKNz\n",
       "k/th0VVHpSXm+kcWUBK8Ds8eFdL+yVFzD9nPwMqVTQT+46sxLFlSNLXVXWpoMrsxkBN+Iwg7Nv6D\n",
       "p7YCzFOkqDSEtbdjWLIYVLcJ5aoPTb4DuvbEoniLdfCAp8483jo45Ij/5GMMKyxr3IrQVR+apD5c\n",
       "5sR3Zjl5DHG4dHi9FxaDgoHvZR3Llj6kfemKRiTT4n3lxJ9zx8ZxzPGbsHp4U2S7eKRj2dJBzZAu\n",
       "UW3XdV9GkmCiW+dcGE7pdiXHrw9tl0bNGdddF7W1dSxbTGdCuVRhNfm6Ngvj1Zmv/kaWNhhfBe6X\n",
       "2/0wWzurYaWluKVcEVaXsTFGDcxbPjK/Ye3LD4SwKxqWLcA1eqR0vZGflZQXfHFfYN2Zaq/ixp/K\n",
       "CN37jJ5tPJxznQgbWsKzSbqW5RElZeOjUi2sD+5mFG54bjZ58t27ONwIm/aawzqtYc3/O+sWWr7j\n",
       "L2OqmkMb5w41AAAAAElFTkSuQmCC\n",
       "\" style=\"display:inline;vertical-align:middle;\" /></a><br>"
      ],
      "text/plain": [
       "<IPython.core.display.HTML object>"
      ]
     },
     "metadata": {},
     "output_type": "display_data"
    }
   ],
   "source": [
    "left_if_not_right = Forall((A, B), A, domain=Boolean, conditions=(Or(A, B), Not(B)))"
   ]
  },
  {
   "cell_type": "code",
   "execution_count": 12,
   "metadata": {},
   "outputs": [
    {
     "data": {
      "text/html": [
       "<strong id=\"right_if_not_left\"><a class=\"ProveItLink\" href=\"proofs/right_if_not_left/thm_proof.ipynb\">right_if_not_left</a> (established theorem):<br></strong> <a class=\"ProveItLink\" href=\"../__pv_it/theorems/acb0f049bcb0669728419af9174e8d56a643964f0/theorem_expr.ipynb\"><img src=\"data:image/png;base64,iVBORw0KGgoAAAANSUhEUgAAAKsAAAAVBAMAAADLBgMvAAAAMFBMVEX///8AAAAAAAAAAAAAAAAA\n",
       "AAAAAAAAAAAAAAAAAAAAAAAAAAAAAAAAAAAAAAAAAAAv3aB7AAAAD3RSTlMAq1RmmUTNIjK7EInv\n",
       "3XZ/CtNrAAAACXBIWXMAAA7EAAAOxAGVKw4bAAACY0lEQVQ4y62UTWjUQBTH/7vZbLYTWXehiMXD\n",
       "Brx48BCoeKuuoGKpYMFL0YMrKlIrWvUkCBvBiyBtKBQaL92KRwtReqk5qHsQxQ8K9uClMFK8iV9Y\n",
       "rRWqbyZJM9LWspiBMC+P+f/m5X0EJdDajrSWNv6lvGUMOCBezqaGxSYXqDi4Tqbhpoetc+BEFfkG\n",
       "YFrpYfc69HBoNpBPj4oKPecHgVdzcy9SxD4HJt7Sfgi4LR2NdY9Wo52tT4vFhZ8f350SxiUYssnY\n",
       "M+m/+S3odqSVHTg9GyY9rug9JxaP90yNqdRIDBR/ADspr2hrmL3CYX4NG28GxcfAUMcouH95x1/Y\n",
       "R5YMnKLoAj6o2EhMNNKaiyIoHlas77XcMlVon5Gj1BDWvKNi9VtcDI7uA+1UbhUbiYHNdKe2LKza\n",
       "HungJ8N2tjBpY156/CsPVWwxX0Kb+DygCfZGxUZiYJgSkFkQ1oNzUoODYTvP79oKJkF8/0tHxfJc\n",
       "DVkbx2l+ljv3OQo1FgOfqLeGa8K6JivWFyWrC6wduh1Ge+O9gtUdkXRX9A0VYEK2x7TneTOJmFqW\n",
       "zj2VbZGR9/YEFflGWav3av2eNyJyayrYXHB/CegUqaUCGAtxqKVEjI7f5XK/pX4G6hLfpJF2Cn4Y\n",
       "rVlUsBwGlTgvUksF0BcT7Ip41TpKRbSYD2MJbDYaEMIOJViRGGojbZsoQAOTVTA/GhYpXouaewJ2\n",
       "5Eyhid2/gm46cZUuz14Y8OwEe7iEu9+pw6nA2sVgaoSGoqmK/zHQ2ZWpmfZGE7e70fEN1rG13W5r\n",
       "x1ctuzWs/X8/u8GWFX8AX2Se2Ig/xzYAAAAASUVORK5CYII=\n",
       "\" style=\"display:inline;vertical-align:middle;\" /></a><br>"
      ],
      "text/plain": [
       "<IPython.core.display.HTML object>"
      ]
     },
     "metadata": {},
     "output_type": "display_data"
    }
   ],
   "source": [
    "right_if_not_left = Forall((A, B), B, domain=Boolean, conditions=(Or(A, B), Not(A)))"
   ]
  },
  {
   "cell_type": "markdown",
   "metadata": {},
   "source": [
    "This **singular constructive dilemma lemma** will require a single provable $C$ be designated as a Boolean.  The main (non-lemma) version will drop this constraint.  This will all culminate to the **constructive dilemma**, below, that can prove some $C \\lor D$ given $A \\lor B$, $A \\Rightarrow C$ and $B \\Rightarrow D$."
   ]
  },
  {
   "cell_type": "code",
   "execution_count": 13,
   "metadata": {},
   "outputs": [
    {
     "data": {
      "text/html": [
       "<strong id=\"singular_constructive_dilemma_lemma\"><a class=\"ProveItLink\" href=\"proofs/singular_constructive_dilemma_lemma/thm_proof.ipynb\">singular_constructive_dilemma_lemma</a> (established theorem):<br></strong> <a class=\"ProveItLink\" href=\"../__pv_it/theorems/f3f3ad9131886904745d318db9ce47ed835066860/theorem_expr.ipynb\"><img src=\"data:image/png;base64,iVBORw0KGgoAAAANSUhEUgAAAP8AAAAVBAMAAAB7+SUdAAAAMFBMVEX///8AAAAAAAAAAAAAAAAA\n",
       "AAAAAAAAAAAAAAAAAAAAAAAAAAAAAAAAAAAAAAAAAAAv3aB7AAAAD3RSTlMAq1RmmUTNIjK7EInv\n",
       "3XZ/CtNrAAAACXBIWXMAAA7EAAAOxAGVKw4bAAADCElEQVRIx8VVS2gTURQ9mWk66UyJFgMqIgbq\n",
       "woWLiOKuWqEVS5AG3BSrWEERbdGoK0FolGwEKbVQcargKF0otRC0mybgpygUv0W7cFOMlCIWEfED\n",
       "oiDed998XiBBg0IuzMydO2fOu+/e897DUpA1owZmvm9aZuTQLvxDtUjgwyK0nQmcIdcYrMH4N1/T\n",
       "rTONegew4jVIoI8Gxh5ATwD1NRjf+izuWbqezc09qUEC/TPifoOuHcAIh5w//9XqOWWxTjUJ3Ct6\n",
       "3nEYvBTNaX4997XQkWEvGiuMMafWe2BWqsQTq4stgStBYW+T+Tw9IleTE5eUsE/6Ju2FGhwrFTQF\n",
       "+gyi94UTfglcAQZWDqOYO7GuJAHC1tEjpMB9Aml742jgeAuttyDskpK98IumFaUGu57zI9QK/ZNw\n",
       "1tPHtaijDlEC1vWSBAirkXi7FbhPID5Ae0wXNywGbIW/2UlSrgBjuXg9WzhS3M+PxjjGBYUh5nMW\n",
       "8/wpdzJfkoDADrJ2PHhAgOVCYtSyCLdtCuYrObO0Twq5A1DR2L19hJuD7VKd85tWMJ5VavKQxban\n",
       "GTUBxjYjnAvgMmjZZH2EXe3V3Pi1cVsGkxS+OO2RynGECOW0TrMGu9xWtcCMcSW4gOGErEB2QU2A\n",
       "sQ2kngAeEAATKTz0xiGNXHPXjtXukspOfaEWynUT4tklC2sct2f9QpSNIsO4fti2h4QGLDUBxuqJ\n",
       "bgUeENC6ykPIQXMlZXxzi7HKkaTydfRCLKUuDyLKyJ5hn3BCVJdoOpKTFbCiSgIutmdEgcsgt8Cm\n",
       "f5oo8s6VVPg7t8C+7JGW3Rd2AUviZg7GD5izwBjMR8CCu0dRAgNKAowFNtBAPtwLkt2h61YK0ZQI\n",
       "9zsYl3W3qJsuaRmrewCz82BkCpt/FjqI53wco8mPVNJTND3taK+dCBKQWPAx5sO9IIlfjGe23V0U\n",
       "Yf1YYWJIDpHlujNpZdN8zzsfzUl7OPhe8dhWjlOzfPjvNurd/o5VHl4pgQrwsFPtEZXwVw+qSkCv\n",
       "KvwPlv7/x/Jv0gHlbz9VMFEAAAAASUVORK5CYII=\n",
       "\" style=\"display:inline;vertical-align:middle;\" /></a><br>"
      ],
      "text/plain": [
       "<IPython.core.display.HTML object>"
      ]
     },
     "metadata": {},
     "output_type": "display_data"
    }
   ],
   "source": [
    "singular_constructive_dilemma_lemma = Forall((A, B, C), C, conditions=[Or(A, B), Implies(A, C), Implies(B, C)],\n",
    "                                                domain=Boolean)"
   ]
  },
  {
   "cell_type": "code",
   "execution_count": 14,
   "metadata": {},
   "outputs": [
    {
     "data": {
      "text/html": [
       "<strong id=\"singular_constructive_dilemma\"><a class=\"ProveItLink\" href=\"proofs/singular_constructive_dilemma/thm_proof.ipynb\">singular_constructive_dilemma</a> (established theorem):<br></strong> <a class=\"ProveItLink\" href=\"../__pv_it/theorems/ce54cf91536af8521128da7c955cb8dd248760a10/theorem_expr.ipynb\"><img src=\"data:image/png;base64,iVBORw0KGgoAAAANSUhEUgAAASwAAAAZBAMAAAB5kw7sAAAAMFBMVEX///8AAAAAAAAAAAAAAAAA\n",
       "AAAAAAAAAAAAAAAAAAAAAAAAAAAAAAAAAAAAAAAAAAAv3aB7AAAAD3RSTlMAq1RmmUTNIjK7EInv\n",
       "3XZ/CtNrAAAACXBIWXMAAA7EAAAOxAGVKw4bAAADgklEQVRIx+1XTWgTQRR+2U2yyW6IFgMqUgxU\n",
       "xINIpOKtGqEVS5AGvBSrWEER26qpngpCV+lFkFKFiqmCq3hQamGp9dAEtK0K4m/RHjwYGilFLCLi\n",
       "D4iC+ObtZneyabRl482BzMzOfG/ny3vfzLwFcF+qcymoZAnnXlbiNa1Q6VL7n9aiaC1lTY1LWh7W\n",
       "CDH3fOT3VcskHWk1sKdDLml5k9j4KyD8D3Mg7IwhrVP4IPW5pBVgPu9yz+rma6yaUkjLrwEoUbfa\n",
       "asNm2D2tDiQDe5i2RFSE37XkayuifOUzq3vodc9yuSeuaYVyuTe6a1rdk6y+QbR2AAzQoFYWHi90\n",
       "tHK0vCoEtYVblCn38va51QkSHRLyIxo58zXbqFJPaD8wZYiusCNMSBHKoIWv6GTdt4lMZn4LbjZw\n",
       "JTFykb9sItlBoj+dsmkFNSVpBxbESQiPAfSu7Ie8fnxdES2EeLHxWCj7OB2AO1jvjUJwzGFhF2u2\n",
       "Dk8Ce9iHN+Bl6r0oOBhpCXlD8c3PqfHEQfwEXgwt0lKuFdFCCDszWwoojtYGVguP8Rd3WFgnrT0b\n",
       "AdgK1jG+HnmsocdpwqrmDtpCY/n91ISiMBSDGRrRT2SKaDFIH0nRQHG0/CLqohtjHog6LVhZDvzs\n",
       "BMivDB9g1CTm0NP02MSCqJh34nAbBRi2G7thZtMKkOm1+fqnKk+LIDXg000UT0tZi/+52hriLJQ0\n",
       "lg6Vm5V+1W5TYRSHL6D0PJP2TmSSz5i0TpLim81w14EcAV/M8FbPLL8IQYK05QjF05LGsXrgpNVs\n",
       "aWgkac+iMK+aW1VpgJC1a0H4ggrRTFoeckkiu1oz496dFA+n0+eZthR+EYKIsZYCqiiDYM5jQhJK\n",
       "LKh0ZuxZFKb0zXTcKi3EXGReM9fPRZJFiU0Y11GNuMM+NaAb3lLC3CImpHWggCpJbKrw985pQUFM\n",
       "69wsCtP3nYKYvoQkMVjhVJl8axfAkqisg/QD5CnzgEVavdwiBAHYiCuYKCetW0kIJ0stsNy2ZgeR\n",
       "qgZDRuQUFIv8EGC2TBroHQe56WBgAjb/zDbim7rQFcLR9nTMXsSAAN3tJspJS66/OwelFrgB49bs\n",
       "2ah4LDty3oD1UOQSH7U/Z6eCtcBouh+cAl5EduqwkLk+n61oC0uad8+Pck2LK76F3JIOWrF/T0us\n",
       "3CfGX7LhI6Xfia7y53Du/m9zewiExZ1tFwAAAABJRU5ErkJggg==\n",
       "\" style=\"display:inline;vertical-align:middle;\" /></a><br>"
      ],
      "text/plain": [
       "<IPython.core.display.HTML object>"
      ]
     },
     "metadata": {},
     "output_type": "display_data"
    }
   ],
   "source": [
    "singular_constructive_dilemma = Forall((A, B), Forall(C, C, conditions=[Implies(A, C), Implies(B, C)]), \n",
    "                                     domain=Boolean, conditions=[Or(A, B)])"
   ]
  },
  {
   "cell_type": "code",
   "execution_count": 15,
   "metadata": {},
   "outputs": [
    {
     "data": {
      "text/html": [
       "<strong id=\"singular_constructive_multi_dilemma\"><a class=\"ProveItLink\" href=\"proofs/singular_constructive_multi_dilemma/thm_proof.ipynb\">singular_constructive_multi_dilemma</a> (conjecture without proof):<br></strong> <a class=\"ProveItLink\" href=\"../__pv_it/theorems/cbb98c08c79eb70181344aafe5b60e3c7141de470/theorem_expr.ipynb\"><img src=\"data:image/png;base64,iVBORw0KGgoAAAANSUhEUgAAApIAAAAZBAMAAABwTtNnAAAAMFBMVEX///8AAAAAAAAAAAAAAAAA\n",
       "AAAAAAAAAAAAAAAAAAAAAAAAAAAAAAAAAAAAAAAAAAAv3aB7AAAAD3RSTlMAq1RmmUTNIjK7EInv\n",
       "3XZ/CtNrAAAACXBIWXMAAA7EAAAOxAGVKw4bAAAF0UlEQVRo3u1ZX2gcRRj/bm/v397ddgOCD9J6\n",
       "tbEI0XqQRihCCbGxaqou9cGmVTgfJFAUry8FtZK1b6FRTkRsisKKRSgRPaNIvYCmajEolqAPvnhw\n",
       "AW1paUvogxWh1m9mdndmd2f3jhKOffCDbO67+d1vvu+3M9/OzALEW6r9GyTINrbrkDS70q6A3v6l\n",
       "GyybrKhrkEBLV/Ey/L+S66akQT5viVOyC6LPSiYpGvjkrYHqq66S4+SbqTgluyD6rGSSotHP2TD4\n",
       "q6vk63jNNeKU7ILos5IJikZ73wJQr7tKZm2AYiVOyS6IPiuZoGiyP+Ils+QqSf5lY584XRB9VjJB\n",
       "0XxDbmh+1Ht2/9xu/xT/7I5H9PvZnZhocjfoFLc8JR8BOBGvZDyi30omJpriv4H15CHIGfFKeghb\n",
       "LLdyvB3BMxoFsOOCtSVKBuNlzEo9kkyHHhHcKFaLiqrD/pWvB5Qs2EXTj3xtwkyfEZR0EdqyAPrY\n",
       "kj7Olv3+1i8fH6MfGhGAoN+lseZFo9+2OG9z5hE5fnWi1XK07o7gNhKZIYGr7GNpzRlRrpJKRyzg\n",
       "+dU5UzFa8JigpIsoXguW2/CIv+an0ou5uyxRSRdAYjckvrTRpySLJoP73Pf4PdIMkOGfrUBhCQ70\n",
       "hhDuoBGVIYVnmmxMUiXvEXaLtZ0CdBfmrexUoSnuFh3EvnMcl5ntyJQUIYRKL0KrIirpAnCXQgMK\n",
       "+tJG/26RRnMvjsdBrqRqBnpXSHYKLlOUUbpw6gHBjWIDGYrwgwxFZ3dTUHIBG9IPvbmq77BAp/ij\n",
       "T3d8Si6wn3aeE0pLVlpcBQilwjH5oC0q6QIKZJpKfGmjX0kSTY6MraNcyXIowNvxbxpvYr7Clp/d\n",
       "EdzKsgwF+AJ7dpMnTtEWlDyCv/jwmWrJ0A04ReW3Wnf7lDxisLr8sCCZWpOWbg6hVLq6Z1mskx4A\n",
       "b/EBiS9v9CtJokmteF9R5sMieXEO7QWcERsdutGeENwOBzIMwtlkgPurkGmJZ0EphLxyHjZYahOe\n",
       "YkqqekNUMkVL3T64DPAyGzgZS1+CvX+YwclNII5RKr2Yf8IUlOQcDbqWIX5m27jne+qcCLAJSpJo\n",
       "SqN+JSeDAQJ8YcL3TiVqiAjWnQTBbdLN0GccPumU00cHxsOnaptgFsoVeADFryiW1qyFT9UmFu+0\n",
       "8/exQNXFz/6BJW0tkCiBuJ8pFdbJZlNQknMM00pI/BJ86vmO8caIU7USqWEVruTmYIC4WmoBKYoK\n",
       "zseGiGDdSRDcNrsZ+ozDZ+LOJ5fhIkzn4Rgbk7C3E1ISF13TFpRtZ0mV+xvq+aXQumzaSo8Njw/h\n",
       "sDnGxiQ0O1xJgSNLKiH1c3gTHd9bxXqNLltAyRTOcL3OlZwRyelknMN7MYDfXnDmrocg3UkR3Gbc\n",
       "DLdv2b73NITggzFK5tZwVO5QWaFPm6AbISVxtm6okEC1JmTwt1jzCyZx5tll3oEoF+Gs0nSeGajk\n",
       "aUFJjwM7ucPz4R3Hd8mERpctoKR2FuBP8D9xBHK0z8mKEBPB2qJ3kLPs706CmPf6RyzLcFujZA5B\n",
       "CH41RsmMAVNw6BLkjqPzxhRf23lKqmdAe/J5Emj+W9hjwMm/TLJxQ2e2nv8BL7MVB3Jcq6kYL6Xa\n",
       "ev6rt4W1iseBdtDzVcvxKQ9exEaHLXhmfnLiqi0oWaj7ycnBAuq96+tLtBGj5AjWXRjh5MGwLMOC\n",
       "9RGMQQj+bi9vH+bn5sy4tw8kUMV9pNkd7rhlC2BFaZbTQapGgEO0lh6zz3HZIt8+UGZeZB1ycat3\n",
       "ikTJEU53IYS3cuDYMgzBSjUI1xq9KCnbd4tboMu4ltrvOC/dXOEOZGx3g6CbqQvSfAUOsYubN2I2\n",
       "jH62KCVhdwS507afI2Td7RbyELEfYAnZFHqbqdbXQUlqVamTjuVZp1PuSCWL0SchWPZJlN0RPKNi\n",
       "7LnKCNySkuv0vnudXlO/GH7fXe92pqRBr4hbO6G68nsV9PZ3/wFJcu33B/h1IQAAAABJRU5ErkJg\n",
       "gg==\n",
       "\" style=\"display:inline;vertical-align:middle;\" /></a><br>"
      ],
      "text/plain": [
       "<IPython.core.display.HTML object>"
      ]
     },
     "metadata": {},
     "output_type": "display_data"
    }
   ],
   "source": [
    "singular_constructive_multi_dilemma = \\\n",
    "    Forall(m, \n",
    "           Forall(A_1_to_m,\n",
    "                  Forall(C, C,\n",
    "                         conditions=[ExprRange(i, Implies(IndexedVar(A,i),\n",
    "                                                          C), \n",
    "                                          one, m)]),\n",
    "                  domain=Boolean,\n",
    "                  conditions=[Or(A_1_to_m)]),\n",
    "           domain = Natural)"
   ]
  },
  {
   "cell_type": "code",
   "execution_count": null,
   "metadata": {},
   "outputs": [],
   "source": []
  },
  {
   "cell_type": "code",
   "execution_count": 16,
   "metadata": {},
   "outputs": [
    {
     "data": {
      "text/html": [
       "<strong id=\"or_if_left\"><a class=\"ProveItLink\" href=\"proofs/or_if_left/thm_proof.ipynb\">or_if_left</a> (conjecture with conjecture-based proof):<br></strong> <a class=\"ProveItLink\" href=\"../__pv_it/theorems/ef1e760da865c891fa2fc044ab5c30ff953342cb0/theorem_expr.ipynb\"><img src=\"data:image/png;base64,iVBORw0KGgoAAAANSUhEUgAAAK8AAAAXBAMAAACPJQJeAAAAMFBMVEX///8AAAAAAAAAAAAAAAAA\n",
       "AAAAAAAAAAAAAAAAAAAAAAAAAAAAAAAAAAAAAAAAAAAv3aB7AAAAD3RSTlMAq1RmmUTNIjK7EInv\n",
       "3XZ/CtNrAAAACXBIWXMAAA7EAAAOxAGVKw4bAAACwElEQVQ4y61VTWgTQRT+upuf7W4TGyhFD5KA\n",
       "IoIHVyiCBzVoFYsHg16KiFZUSlPQqiAISlfw4sG2FItEpA3eelDWXkRzsFZExR+CFG+FhSJeik21\n",
       "tKJgfPNmd5vEGEzxwczsvHnvmzffezMLrFL6Vr1YW6IJHi5VXz1OrVl8bKgbeIsczlWodxRjsR4L\n",
       "URPYJ+bd9eLqXTwoRdE3ZKnTHNa8pul3IA1co1l4qF7ggCmHuGBTFZiNllCEfwHBRaANCNF2RqJe\n",
       "4CY5PHrKcHmfbZWiVQm8KQuV9g7VTfEm7sPOPIc0QW0PaxoKhPaSGqG+m5l5UzfwQckEtppebeTl\n",
       "SYagr6dTGFQTB4A7rMz+FSbpffgmp7g/jEGb46Q6kLkbHP3SKvZSKbnnEeaS01/x0o3FXIclU957\n",
       "elqS7+XWNSH54G7Yz65aMyJyz/k+KM+F7ySlM2ukhM74KunPI0ragXUjcOwLm8uAXROSF3xJbrXH\n",
       "5VI3Nkr9XWoioRpxrTgyd53vJf1JqAUEiCACNu6VAbsmHvADYE3evS7uTVigtptYCVJs6NrFOuek\n",
       "pD+B+yZmWWNffFIG7Jp4VBD1kUmeRjRpon2jLk4EKGLDiTSfC/t5rX+2bS10tnPa31qlwJ4JySi1\n",
       "oCjUglzZlpLjMoEvCUKFyxVOQCfmeG0n9Bb2ERFf/1QK7JmQPBR+4r4ty6x+lOoQHeCYiDNgy2IR\n",
       "lZmLc2JbKOiU2pPJDAuOjVJgz4TkJjBeTEMZW+J6867H2EKsdZi5SfnPIOHxBlPACUuzZcRGtATY\n",
       "NxGOVu0LdNX/OkIZTug2wj+gT7tXhoAHSoDZxDVXk7WB9/qv1TPoh85oU9j+M9dB3pcpIuVsb8Zc\n",
       "AZYmnsPtmrh/PJeK/94+zoysqKu8quM1gRsr/01Hq9tVAQ47tYA/VyrMfwb+P7Kan+5v3Z+r45Gq\n",
       "CTkAAAAASUVORK5CYII=\n",
       "\" style=\"display:inline;vertical-align:middle;\" /></a><br>"
      ],
      "text/plain": [
       "<IPython.core.display.HTML object>"
      ]
     },
     "metadata": {},
     "output_type": "display_data"
    }
   ],
   "source": [
    "or_if_left = Forall((A, B), Or(A, B), domain=Boolean, conditions=[A])"
   ]
  },
  {
   "cell_type": "code",
   "execution_count": 17,
   "metadata": {},
   "outputs": [
    {
     "data": {
      "text/html": [
       "<strong id=\"or_if_right\"><a class=\"ProveItLink\" href=\"proofs/or_if_right/thm_proof.ipynb\">or_if_right</a> (conjecture with conjecture-based proof):<br></strong> <a class=\"ProveItLink\" href=\"../__pv_it/theorems/e3724abf685745045f6437ce8d6a198b5e7dfc010/theorem_expr.ipynb\"><img src=\"data:image/png;base64,iVBORw0KGgoAAAANSUhEUgAAALAAAAAXBAMAAABZgNg7AAAAMFBMVEX///8AAAAAAAAAAAAAAAAA\n",
       "AAAAAAAAAAAAAAAAAAAAAAAAAAAAAAAAAAAAAAAAAAAv3aB7AAAAD3RSTlMAq1RmmUTNIjK7EInv\n",
       "3XZ/CtNrAAAACXBIWXMAAA7EAAAOxAGVKw4bAAAC00lEQVQ4y62VT0gUURzHv7ujzjjjrgoSedqF\n",
       "IoKMNgqhg7mFReIhqYtEoGEh/iGtIBCCnaBLh1yRJLdDjt08GGsIUXvIhKL/LGXRRZiQbpEWmVbg\n",
       "9nt/dnfYtsVZGnjz3vzee5/33vf3+70BinwGCnWqKPrxB3l1MX9vqQ1UscYW1+AdourPMSvjX6s3\n",
       "jQGLwCH23eWWq3fwyptib49FL83mlophIGCizMJlJsmwW3BJSFQBJrXCmOUmt0So3R6GEmZsGEG3\n",
       "4ApR3XvIccms2o1kaCT4cyi0dplribcJ59tLfEt3qRwUHQEqfXSMTuDVwsIL1+AWoQR2hdKxkRQd\n",
       "z4CJD1RPA0eAm9xm/RMT/svSyd/HEI1z75nwC99pP7985H31wDmoPOT0p7zr6vdEs/CDt/f0vBBf\n",
       "+FYbb5kZk+A3csEIn6pVwSe25V8F6tgp6sidltHKbMY3EYlJ+GeBodpR2PHz2x1gNACfJfgxp1xv\n",
       "CoiuLmwV9nKaaqxRI0obs4Xv2l7zykOxsowSEojAxm0nuIYc7gTfASqTMl1kJlTSCZR1apyk0rGf\n",
       "2+xTIpCCmAqxzGHgCw+c4Dnob51SkPS+Wf7p0+SQKMngWaHGThYsPfxcOCwifHHvZuh8nN300nSA\n",
       "1fU9B0wJvsUuBBaoy0La3a3CvkSRFmVZuY/KJe6ANqlfA/QaPoft+MonB5jUn0jHxzSbxzRdFRn+\n",
       "Xtr7aL0nloxHD99GSyJgSSEjrUp3LDbCNDYcYFJfXZGAa8Bkqgfe8R883tLpUZuqru7mkfQucw0S\n",
       "zxRCot3U4mLHht8BJvVL1+Rwn1k4gdRkunWcPBrU41B/QZ+XKUPgIQc4YmEqLYUS3tAlRY1H0I+e\n",
       "0eZQ/zvRTGcZpB15z/bGQlmw0p+YGcnMvFEYPJjz7c3ct/djo1lznlt1sjA4d90T+YflAat2wR9X\n",
       "7h8xtGHw/3kGipjzB3L3ruW/z3QCAAAAAElFTkSuQmCC\n",
       "\" style=\"display:inline;vertical-align:middle;\" /></a><br>"
      ],
      "text/plain": [
       "<IPython.core.display.HTML object>"
      ]
     },
     "metadata": {},
     "output_type": "display_data"
    }
   ],
   "source": [
    "or_if_right = Forall((A, B), Or(A, B), domain=Boolean, conditions=[B])"
   ]
  },
  {
   "cell_type": "code",
   "execution_count": 18,
   "metadata": {},
   "outputs": [
    {
     "data": {
      "text/html": [
       "<strong id=\"constructive_dilemma\"><a class=\"ProveItLink\" href=\"proofs/constructive_dilemma/thm_proof.ipynb\">constructive_dilemma</a> (conjecture with conjecture-based proof):<br></strong> <a class=\"ProveItLink\" href=\"../__pv_it/theorems/8472ef45fa564d99e833aaef00c491b5d50fdc110/theorem_expr.ipynb\"><img src=\"data:image/png;base64,iVBORw0KGgoAAAANSUhEUgAAAUwAAAAXBAMAAACSfmvsAAAAMFBMVEX///8AAAAAAAAAAAAAAAAA\n",
       "AAAAAAAAAAAAAAAAAAAAAAAAAAAAAAAAAAAAAAAAAAAv3aB7AAAAD3RSTlMAq1RmmUTNIjK7EInv\n",
       "3XZ/CtNrAAAACXBIWXMAAA7EAAAOxAGVKw4bAAAEWklEQVRIx81XbYhUVRh+9s7n3tmdZmklTcQL\n",
       "RgQaDChCP9QJ1nQZxQH/mCZuVEQpOtYvQZgx/CPYfghaV8MdZX+4uAuztn/cAS0rCvsazSAC8cZi\n",
       "oYiVlVqK9b7vOfdjp/1oIBgPnDPvec+Z9z73eZ/znhngYWj5aVdjeDha0pp2OeIAKTYWNBbmQh7M\n",
       "a22PxsoT/Nf+7pvTR0yPAyt5/mpDUZpdPN64DmNtGnicJ91q5TYQugVES9jDye9tKMwwgcPgdzSs\n",
       "I+qWs+tdWYg/oGENQc0wUiSshsJs4WEb4cAL1FuZty6l2bs0bKGXOI8QjdHGSvNJ6olbbO2F4iys\n",
       "eGv+hYYC6fUl4MvLlz9vLMwsg6mydUIz2aoWHmEx9tAhHwFWA4fFWaojcsZV/6RHok6YxBXOOt50\n",
       "NnBTWT3sXEFsLgV2IiZFyfxMlvb9XuksivVDdmyMq1Z/dlQpGsbWly+pdLhnbqiojbi/y3eKvtor\n",
       "J0sT4kp7PjC9SP2KX+HpUH+vrJ95x/wcsIgEUErk4KkDoSqSH7Cx2UKzGMuA3RSke85BOOU3npoA\n",
       "86wlxKZk1w3f6ZdmwvDehLhwHxP7VNufUP/aT2g0b+hk9fNwn2klihx1gjZ8JR9NGYRYucZ56rK9\n",
       "nSTdizCJg2AmjgdhRvY7fDVEyrJrhe/07oxF9OQngnFhpPUUnQGYV2RJ+DXKUU3tn/w+v+kK0CWV\n",
       "Cs6LqjpYGOZABaIkLrScA/MwLnvKb44FYSajKTRzQniX+Y3vFCT0sBin6K1gXOAxPfXYv6grJhJq\n",
       "Xt0Hv2wO8aOepn7qdQmO52StML5kNn/O8y7+v4jNqinAnI4vikGYTriL2dlEux4sfrboO0/btn2I\n",
       "xN5UdcNI3AS57W28r0BvtlYvHeU5Z0BRgPFZ8MvmIbaeob5bXn6DfrllMNv58+OAitCaiqQVm3uv\n",
       "BmBGiiy3Xq4UtOtYJuAUta9Ei1sSvLjURnMiZVzQ8xHONOV2k641w6q4I0oi2ZxxS1aTsJCtzC9p\n",
       "JRb4SLFSDVdFPfnQa7Z9gLWZCMAMV0aI6sUsTdoV+yPglDzMLbUwSVYwLrWdYzKN39Ew3+ZhoK89\n",
       "516e6gg29f/aZq8S81uvblCUolbiFjbaqP8kKiIetyNeVmwmkgGYDmKUlyhLk7QWues7Oen2EXoU\n",
       "ZSqZ9+JK0m0O9RF9zy2VrcUZCmvMk856qvmWWWYlmpdAxlAOyRxOEvo8Bh19BRDMbh8mC4GOSGiu\n",
       "0tpwhr+nnZxzskw6xVfhxZX2Pj/4Dsyjnqwy/+W3iRgfwlz3Svwclt6rdFogw+w4cx3YbyV3VEaZ\n",
       "+V30ysb2rXbah7kmhYHblCk6giHadQD8PdepLmgMZG+W4MWV88ugfrxX6fAL+jszwNxVMzf+ZXiV\n",
       "2jxtH/Q3TvXLzwjYpcndk1ylgzPArH2NjbVGZIqLfiqYG+tye9pzpv8PUvtXKV1rhFAfzHRd7gb/\n",
       "Ffz/2z+pYji86RMESgAAAABJRU5ErkJggg==\n",
       "\" style=\"display:inline;vertical-align:middle;\" /></a><br>"
      ],
      "text/plain": [
       "<IPython.core.display.HTML object>"
      ]
     },
     "metadata": {},
     "output_type": "display_data"
    }
   ],
   "source": [
    "constructive_dilemma = Forall((A, B, C, D), Or(C, D), domain=Boolean, \n",
    "                             conditions=[Or(A, B), Implies(A, C), Implies(B, D)])"
   ]
  },
  {
   "cell_type": "code",
   "execution_count": 19,
   "metadata": {},
   "outputs": [
    {
     "data": {
      "text/html": [
       "<strong id=\"constructive_multi_dilemma\"><a class=\"ProveItLink\" href=\"proofs/constructive_multi_dilemma/thm_proof.ipynb\">constructive_multi_dilemma</a> (conjecture without proof):<br></strong> <a class=\"ProveItLink\" href=\"../__pv_it/theorems/613bc8989398aafb6e10682ea54385ae1c655d3b0/theorem_expr.ipynb\"><img src=\"data:image/png;base64,iVBORw0KGgoAAAANSUhEUgAAA4EAAAAZBAMAAAB9WTZMAAAAMFBMVEX///8AAAAAAAAAAAAAAAAA\n",
       "AAAAAAAAAAAAAAAAAAAAAAAAAAAAAAAAAAAAAAAAAAAv3aB7AAAAD3RSTlMAq1RmmUTNIjK7EInv\n",
       "3XZ/CtNrAAAACXBIWXMAAA7EAAAOxAGVKw4bAAAIRElEQVRo3u1aa4wTVRQ+28e2nW5LSXyhCdQs\n",
       "PhIeqWEhYiJWcXUVjRV/KEJiDRojECmakKyvHQ0/JK5LY4JY/OGsGhKDaEFMdDfqglHxvVF8hLjJ\n",
       "4IpGI4hGEDGy3nMfM/femSndKuiPnqQzne+ee+4595v7OLcFqCktI19CU/6/sn8kexyN1mYn/VOJ\n",
       "nVDD4VyTwRMt35wow1GbMZjBh/ZgBlvwFso1mWhQQlXSzU//MvG0J71lQXiQaPqjjMFO/H5HMIOR\n",
       "At5KTSoalE14aSsDTDE5ciZe+qAWrmxFLHKJ2159aLUogw/hjFoOZjCOg7S7yUSjMh8vPYSAW/Ic\n",
       "mYcXNpKCcGXgIXkJ06sP4TxlEIlMZmusg8vIbVuTiUZlCC+XEAIusTmSwjFThFq4IsPksxq8+gDv\n",
       "UwZxM9Naayczi9yKTSYaXQZp100hnxViJcLxEmFjJghXBIfPZeDVB1jK9qIfjYx8UIvBtpGRr6tN\n",
       "KhqUCO269wD6v3KygCIbbzVwRVbzcajrA2xlDHYBbKzFYMSEhNWkokFpxV18/I8De5e62BkAB+iX\n",
       "IFzbypiQtv30YQ5jcBXEMrUYJKWr6HdDLgjg9F+kOh9g06hVSS08r7a+XY9W2jMvluoI1FmrUjgt\n",
       "pn8HmO4mZGTzuIfZDsBVIXvJlOWnD9MZgwkrWVCrPLCgEN7hZvQb4RX6/QVT6qld/h2owGt/G7xK\n",
       "1Ik/vWC7T+bjgUPLb9vN1oJyQFOyGx5RCsMFP323yUhdWnmtidlB8cvhRgTYhtYTZDuTPALGHN6p\n",
       "pRAzyvHNW89UcU3ugKkg6zuyjjEYsuWNTHxvpRDKDMDVLoMz+UbmTWmVTf7q24EqHB6G9JB4uBjg\n",
       "J58aCtw3aT3Y1bvPVxjkNrFPWiQ3nGe/Qib9HrfVJqPVerQWay9pJih+OdxoVWZwAqkTPgZ9+0WS\n",
       "z/NrjufhWhXXZJrI17m+I0v4qVpxnqR9OXmLQvMiUHUZbKUZCUR73W0s3PSxL4Mq3JKH8EHxcArZ\n",
       "B/vUkOFIF84/1eQzCoPcJh4LLZbcEM++hUw6dbfbtSaX1aPVqk6Y9IRDC5QdWSnhLpNn0XWkvOUQ\n",
       "wAyRH6zlY4jhh6DHVHBNUvGyou/IDM7gNtJaeH7f3vRcsmQiEHr4RltiMHkujSHdKi2X9q3+078C\n",
       "t2VhizNr7wTjM58aMjxKTVTvGVAYFDbLbMfluFGWd2B6oZNIKVBLSW1yWz1aWrKc8ov/dE+4IoNO\n",
       "4JvxM7G4rugyOHoqu3P8IsGgwPWl+IKCot9x4YHMKE7xczmD9xPnn12Sa8ukM/A8faXMgXMkBmNs\n",
       "TbQjRWl5v8J/1VfgntGOM5yt8rFZl/osYDJsUM7syz80ZQYdm+1sanLcaHenKm8hONmxgF6rVCpP\n",
       "7FKbnFqPlrY2rdYCTZIalRWmFq5YuSCJb8YKMsjfsVwGt3AvBQ6vK/hL5GYcBn4hty9A1jdmvwU7\n",
       "YC95XsAZJLtVuPc7mGCS3OUGxmAkXXYZBOpX1CSTfIy/9TeRNSI6s9MziapL3cVgkLmo2+KLRH8e\n",
       "Fn5b8Kwd/aKHojk2BtfskxmkNtFGgiY11A1qJiEnOVKhI9Gy7jYkO0WTFFqkaDnOuVoIRdUjx0U+\n",
       "gQJsL4hwZTXcV5AhPmls4sQ7s+AyyPN2B4/vUfAU9shuEBcnn+f6sReLcATZg8/lX5cmQy/O2XPI\n",
       "C5UNmUa1KDHIrA9uPQoP86YWDE6x2uAlnUGE1TWupxCfYfFFInYIhoyDWq5DYc7mnZXK47gOJmUG\n",
       "0Sa1Ec4tFm5QM+xZ1HUL3dUpo7sNsbMs3iSF1ipajnOuFkJxlcGzfQIlKdkAD9fZmIovUgLuMKhL\n",
       "9/iSsBY7PgSfEj+HZQZ3wQ/QE4dH2RiEhbbOoA2xI04eQ3w1Y4RzT+rUY4Yvm9U5zeRrHNxi8lyG\n",
       "LBLRI1CKD6lVGNzR3rHwVYhX2RhMpiUGqU1mo7hRuMHMFOWDCLeQGcM3uyy7jfNj5SmnSRrJVEUL\n",
       "rWpaCGmz6FotUDqLVqoiXBG+mEWh4/gMxvKxcf3202amy7GDJkRyEoOxg2QUzo2wiYlkSOmMxiBO\n",
       "cb/SuDcDzrUTyIBfjw9GVVwYHPoB3g5VEYkdBYNMA6T3SVmPBVtIVyQKahUGzyy3FabxjQlhsE9i\n",
       "kDVFGbyg6riRKPBnYUcq5MY20z2K6zadHjFc7glCB1StRMGjRaC07bpMbilQA6XyMnYhDVegzuFK\n",
       "onRcBrsfWTOuQdhDRmG4nKe/GDkMRjMk51j1I8Rwi/MYST90Bq/JwHOHCxh3bzayA4zrbsfjNvIQ\n",
       "fxd6S3gR8JNGkczn8Z0w58/Bq7KUwd5seOXg9seBHuHJVTicMDfhXN+Nmcxdyys5l0FukzKI23ru\n",
       "RpfY5jM7JbmQG+vNwgbZbZQ1GDL3BKENqlaXV6uLUuC4TKIij0qgdLTjMOXhcnQDKPszKvetfMOX\n",
       "kU/GxsY1i15Pcv/YZIu24f2XxeZKpaCeqimCcYvd9UBaenC/DYeqqTChwtl+W25Z0rL9qqRI0jqc\n",
       "A+O1ynqQEwSQbcgHB5YdHB83RowvVtzWjsL2sM6VtIRVS23oeTnKkLQB5oFqR3IMlXh78EQduaZL\n",
       "MP7/yfR9QJYHHmHr2F/gPLjfjEy60PI9wM1iM/bTNldr5diwTxXoh30wWV8KJAbRhixoJlC4MWI8\n",
       "UpLcBm8kEVXLxypCV8pRkqiuBDVQ/ciGopGT9aeGRv7pFPZ/CGtqufFXCWSwodBwlqitMrseLTw2\n",
       "DctRJetZs2bD/4bB/+7/ov/CW2zULrbq0TIa+v3lZP0ct//r3N/hp+OwEKbWrwAAAABJRU5ErkJg\n",
       "gg==\n",
       "\" style=\"display:inline;vertical-align:middle;\" /></a><br>"
      ],
      "text/plain": [
       "<IPython.core.display.HTML object>"
      ]
     },
     "metadata": {},
     "output_type": "display_data"
    }
   ],
   "source": [
    "constructive_multi_dilemma = \\\n",
    "    Forall(m, \n",
    "           Forall((A_1_to_m, B_1_to_m), \n",
    "                  Or(B_1_to_m),\n",
    "                  domain=Boolean,\n",
    "                  conditions=[Or(A_1_to_m), \n",
    "                              ExprRange(i,Implies(IndexedVar(A,i), \n",
    "                                                  IndexedVar(B,i)),\n",
    "                                   one, m)]),\n",
    "           domain = Natural)"
   ]
  },
  {
   "cell_type": "code",
   "execution_count": 20,
   "metadata": {},
   "outputs": [
    {
     "data": {
      "text/html": [
       "<strong id=\"destructive_dilemma\"><a class=\"ProveItLink\" href=\"proofs/destructive_dilemma/thm_proof.ipynb\">destructive_dilemma</a> (conjecture with conjecture-based proof):<br></strong> <a class=\"ProveItLink\" href=\"../__pv_it/theorems/9417c2b7291061f876a769b52122c61c25760c3a0/theorem_expr.ipynb\"><img src=\"data:image/png;base64,iVBORw0KGgoAAAANSUhEUgAAAbcAAAAXBAMAAAB60hyCAAAAMFBMVEX///8AAAAAAAAAAAAAAAAA\n",
       "AAAAAAAAAAAAAAAAAAAAAAAAAAAAAAAAAAAAAAAAAAAv3aB7AAAAD3RSTlMAq1RmmUTNIjK7EInv\n",
       "3XZ/CtNrAAAACXBIWXMAAA7EAAAOxAGVKw4bAAAFX0lEQVRYw81Yb4hUVRQ/83/mzc44C1L5IXbC\n",
       "qKCiEVahD+aga7os0lBf1K3csBDXRccKQdiaCfoSmDtEoiPkjn0Ilv4w2kK4C7bZP/vLFFv4ZWFM\n",
       "SohQi2oroe38ufe++95rJT81F868e88795z7u+fPvW8AOrqVFdktEZBK/JdpHdeyeSG37QOItf1i\n",
       "3/kZjyrK0WB5h4K7U5Hb9iBd8EmFm6YbGf+5+4YjkC0A03ri7ehMbM6QkIVjAX/iDfwJ0U+Snfia\n",
       "JdBVA+ipwjB2kZ6jmK11JrhoQcji9GAqRYrkI8KVqhJznSVQQfa2IvRit1e2IZ3vTHBditz2zrsE\n",
       "51PqtiQDsc1YAmvw/Zo2dCEqpAjuTLxDU+42RW5ZbF8mP2yn/kmktRyqduD2II2UIU6okL6Ym/us\n",
       "Q8ENKHKjEu6hKD2h6iZ7D6JNS+ITgOPnMBZzQhsBjjK/cR1mi/K43VO33bT3njGmdDeuE9x27SXd\n",
       "HoQxQrKK+qEqZFlz3MrK5J+XztOMyJDQXkjwceCc5dcv/Drdz2kK5wempvARGx+YPKIWvevxWUlP\n",
       "qUCRklbKskU9WqmeampUF7+z9kKVessgty3W8Guh6By1Iu9phdZ6F+PIQYZ3K4NL2kQSs7jB8/gW\n",
       "wYZnhFKNNK8x/YssuAVZztBH8pDizmqAUXTFwWWHoN188g4L3HG9IpEdZBghcHKaL1NjKm6UBXuK\n",
       "bRC0/cTHqv+hIk43VJp9ua+HLI+BnF+3StnRW7wXWGX6D0R+RSjclnqy+Ut+hIoQuUJewpIUZl8s\n",
       "xb2rQXQjBVgz/aoFbr0OQ5GNN8K4aQjROFSm8qnjWiAhS702KHwaQv8i4N4CWEJp9rA64XcEwC1B\n",
       "qcjfGDMzQjB0n2TGYyKahzfJSgWdneQYPAO0tXwtaDefmrLAtfThIrJ4otQogTPGDTKVC5trAW70\n",
       "qNcGhU9D+MkblgYc4s7Qiu9mTiYpq8jkXXBjqCn0G25USwhODks5uF8WeqH3JnrebMrvX7j9LYcV\n",
       "tfs+r7rgEroGK1n0xHKKwX3eqaDChyyk69hGqpZ6MWj4UME82qReHVPEuooQo/pOTr5X9K0Ql6V0\n",
       "wXoa4DLmzxgVk5oQjHKKbFb7tRqcpfT8wEoCyORiBfHc89+74GI1XtQrWhbHKUxh2AJwCvktNRWI\n",
       "YVkAmCy56o1B4VOawldqfEKXfWmjhGTeHA/OtyqVc67ICK7io4YcD3xEhNgZA9M9DZUmFdoRyo+w\n",
       "ToKxcmRnvf4S5VzaBRcWrSEti2ESKQwC3CKGcmoqFkSwLWD8TLnqjUHh0zA5r5b6oiJpEwvDEB7/\n",
       "HZf8jTDWqvLfMiLLFrq7d1KUZkpC5pCqVFWabKNON9JFTgL02W5INsVz6awLTsV8SMtSgRg6qrEg\n",
       "OJmqwpItcPjVm5Z6MWj48D6Gno6zTFXI//nW8o7PBU/IZxRJewgrTd5pUpo4s4CdN0qQLcHruKIy\n",
       "TLTVQY/gDgYKSlTJ8pm6AheY0Qe9mgqXSA9b4BdvI8kUY9DwE/PgHDMZUVS35OB92m69QXDr7Pt0\n",
       "9D1wHngieQZWXZ3uzwN2nL7TPwIcyGf3TE9uQIn9uIPh3bvqBQvcYX06syykynIPT6kLip6Kcgfy\n",
       "YoEdXjRTjEHD/+HqdJ97vzlsGXHbft84Ffjops+cwKdOONAx3wvOqfohV1AmDnpnT+iLSdP3WVaz\n",
       "9ODw3wz6+JbGiQDXD9cJfLER3ADkrf5ObJHroKiLeudvCHRAiy2mZ+u1L5eJtpD3v4eAo571My6a\n",
       "jLZawd+JwLXAwZTNc2+aaS+UlYvrKXTqv1L+SLIGXnCN/2uV/wCvxIPgdOQvOAAAAABJRU5ErkJg\n",
       "gg==\n",
       "\" style=\"display:inline;vertical-align:middle;\" /></a><br>"
      ],
      "text/plain": [
       "<IPython.core.display.HTML object>"
      ]
     },
     "metadata": {},
     "output_type": "display_data"
    }
   ],
   "source": [
    "destructive_dilemma = Forall((A, B, C, D), Or(Not(A), Not(B)), domain=Boolean, \n",
    "                            conditions=[Or(Not(C), Not(D)), Implies(A, C), Implies(B, D)])"
   ]
  },
  {
   "cell_type": "code",
   "execution_count": 21,
   "metadata": {},
   "outputs": [
    {
     "data": {
      "text/html": [
       "<strong id=\"destructive_multi_dilemma\"><a class=\"ProveItLink\" href=\"proofs/destructive_multi_dilemma/thm_proof.ipynb\">destructive_multi_dilemma</a> (conjecture without proof):<br></strong> <a class=\"ProveItLink\" href=\"../__pv_it/theorems/b5e3f2f470e91a5966a0fc32bfc467566e1cd4d90/theorem_expr.ipynb\"><img src=\"data:image/png;base64,iVBORw0KGgoAAAANSUhEUgAABCMAAAAZBAMAAAD5z/kjAAAAMFBMVEX///8AAAAAAAAAAAAAAAAA\n",
       "AAAAAAAAAAAAAAAAAAAAAAAAAAAAAAAAAAAAAAAAAAAv3aB7AAAAD3RSTlMAq1RmmUTNIjK7EInv\n",
       "3XZ/CtNrAAAACXBIWXMAAA7EAAAOxAGVKw4bAAAKNklEQVRo3u1bb4xcVRU/O292Z+bNznSaKILG\n",
       "dkkrmPRPhnTbuB8oK7BSWIxj/WBLGxlTTQM0dqqkpirsk/BB4rqdkNR2q8KsGpIGK9NaE9lN7BaC\n",
       "VFAz0aKEsMnUigZD1wWhVoys59z/9747s1vjCsY9yX3z3n3nnt+95557zrn37QK0pY6p38Ei/R/R\n",
       "+ameOTi6FpX036CUKN4XDlV8fJVLQWrbg6C4aBLvBPq9KDHqbLo1ee8q/tSlILUCYmBoEgWqWNHa\n",
       "JDroJ1FcnLYFpESdF0HBw68uvewQvz/n8q7St32zS5feEXFDKc4fyYMigM5xkxig552tTSJZop/K\n",
       "4rwtID0iiqTuKsByPtddNbq+ly4jdAnLBt/PMdm7yG/vtNnshJBkpJvQGkUAUUGT+CoFkWprk0iT\n",
       "G9m3OG0LSTeIImkIp+/2fr6W2c9GurAVnTTcQeotdPav8/tem82igKwhE0FrFAHESpFZRranTS5B\n",
       "9nd8cdoWkiZFkXQdTt91Iot4hi45MgDmH7rNqUYPEbwllnzNYrOpgWWvQvKhCKBnmElQhtnVLr1c\n",
       "hz/lxWlbyFSizIui5Vh2iVi9gy60ZpNs3V5lBoQZnKCnxUQVLTabaEVfL5G8KAJoB99x/HJq6tl2\n",
       "JtE9NfVifXHeFpCSdV7MHGHseXF/DMTSz7HHQTsZCN8vkoFswWKzaa/wFK1RBNAxbhKbAA63M4lk\n",
       "BJna4rwtINEK7zJyhPTfp8/ukA8b2PVygGntNATtf2j6MtksKFtsTn4ZQb6pfIkPRQBt4CaxB1KF\n",
       "diaBb/ew+9B80cJI/oO2IxKfq1WFwM9rh1txcfMtPHPF08GmIT9s2YumIWFOLk1Xz0MZqlGuh5eP\n",
       "TiGdwVH8DWC1nLzV7IqbgBfYza9xjRLbFKrnLxVIPCmHOGmx2YRbhFxNInlRBNBqbhKZWrZkS7hn\n",
       "sBSc0kdVh+HH7P4HkWYJT3tHaVc/8PrEzbJN+uHBE4c8nXWrE3d95gyPhnwXFOi+SXyVJK+P4/Z7\n",
       "u7Xe18GkId8cmt31pCFhTi6d+JVa6Mgcr2rUXeKFES6/DE5v9iKEzEHs5/NQSfChPSV3G7iMv42/\n",
       "J6NwYilOd3rGYnNoJ6xUSA6K9jm8kEkkmmZ2mT47WkoUxuEWbRJrRXZ50khcsq95dW9XBw3IqxT3\n",
       "WoBXPC2s6pErDkCz/vkPGiYxplkl/jamzA4IC3Fc+c7Qup8Rt291Lf+km5OprnMuLmEuLk1jLXVk\n",
       "jFc1ck1iSYHtJEbO0/N2ccQkjoZMk3iVtg3NJCQxT+ictNhi51s7YyYhUBRt54UdaJc3Go1vRKtP\n",
       "bExCXZtEF9vXQuew4R63/MprEnZ1Rz8EM/LhXdh9TwuzOrmJ3Gk9+13DJAb0FEr8rhodpm7jh2gO\n",
       "rnwnfU5LRnm6M+AOjR/U6q4zLiZhTi5NAx4drYiN904ncMjJ2o/CO94AWEPPa8Q+8gGQgUOaRPqv\n",
       "tG0oLSmlcK0nGhabQ7l0VSG5KJLW8MJM4jh2Lbhh5Gy+L+IHo4n7Ptk0TCJ7FYtD+S4j5Wh+2h8e\n",
       "reruHjiqgtUTEP7G08KsZoe3zfoXxg2TaChOhY9brSqFs5wHV76T1JJRHrY0YkN7j9314/JcYG4u\n",
       "+yDA1VFHxR2vbJRp8sLobpYjwP6ysIY+oZt389+HpEn0s2QgfQGCGplEULXYHMpfU1JIDkrvh6YL\n",
       "5w4JoD5hEl/BkX5ve7G7kC/AEbYEovEPGCaR4nlFM6k3tXn4iBfZrh4613u5Pmlb9+Eo3sKsDtmo\n",
       "mjf+ItImYRy8KHwMlyvI6+714Mp3emm2YERaqeRL0dlRpF2R1fWVchc3N5ceVdnBehxbfPO0qwbZ\n",
       "iDaQWcPcdqFH+llNmITYdR4tG3tSMTcYK7aTp8k21PZSsIUX8PJYWdzgz2+NraqFEq5/Ek7BWQE0\n",
       "KEwCtyjwpT/CkgjFfoKbRDJf1SYBbNidEYbNlFh/WzAgdq4diMUNO124FkL0k/tqIuyO9cPmP5Ri\n",
       "0XhMJkSdRe4l7n9Jm0Rnlc3Ad0x8rMvQvngrV3VD4DLZ8p0kH6OkrVyWMzSAEyWz61sVK3HpASgu\n",
       "poet1qiY1C1u7pQdsMerGqUbvAi6gr5m9ciY8ZwIqsLlf0N7Hfps9SCrw27mShbbGXJt/eJGHlT5\n",
       "UFI/LMNFZg7P8aI/ji+DYYo0G1B1PYkorJcNk+BgE8fehPvEFmdwYnmtGx5zTYKq7TxhqJReUxNh\n",
       "N/UGTIYzzo6ZVQvzuGN09EHKJbLaJBLcrDtMfIyLQRHThSt5s4LAZbLlO2VyHka1X5DyraFhnB03\n",
       "u86C85WSSw9AcTE92CGcSXWUgR7ifTVrvLrR86I4RCaRajhZQdzVMmO+Z347+zhKRzM9SRkKAVHR\n",
       "JnEaXoahNHydewnY3HRNogkUsl6Q2/+hKIVG5MYNrA6uXzewKhJ5AtweiR0xht3Oi1BJT9pNeHXv\n",
       "it7NP4F0nXuJbF6bhEiLOkx82meVDyuNFjguly3fKfIwcjTut5l8JZqFhNG61fWVcvIYF4E4XEwP\n",
       "duAgqZYyyEmNfssZr27UK4rHJJLOV+8gvsm8G75of89qQ3GU7ihfTc1EDIiKMonUDPqJviT3ubir\n",
       "zhcckyCv/hrT26NA4WUJeqgD9BDW5YVXJ16GpxJ1qkm9CSH6LdQrvhuqwVEcTaZkN+HVa6vdpVUi\n",
       "K0STGImll0kDnx3EXVNXR7f9sjsoW72T8n2MAg2miaFhDo3Rj0gdquvIhZJyiitTinGRHqbtYTVs\n",
       "ZfC4Qbq2xqsOGjMVXjwmEfsGfTDmJA597ZY237JtiqMMoZ8Iqv0MaB8YJtFZwJ3rnj+jfIpNOwFc\n",
       "k7i1AN+/UCK9DfckT0H4sc/SSTc+pJ+G4QpdZPWhsIwRLf0EbPjHxM09TK/DPcHuiRMU9zbZTUR1\n",
       "JnqEot0+2gB/7q7RomESB2P4bFj0/VYOT+CSbPWOy/czCjQUPdxD8g3RtMJpGequIwMOBSUIrk1x\n",
       "LtLDQWtY+Ggpg9H9pG9rvGp2KbEOY5P65d0/9VjAkdgyn52d8RmU/ywxhvJx6KqkltUY0EHw/aHd\n",
       "o6OjJftA2yLSm9zbjueNB33XSNRzAc6tin41/S5ba/qa5GAVNIoQPj56AMz9IxhHDBr/iHvUY8g+\n",
       "4tODwyjRqtSBbZZo59Qau05cCS2BgThcqAcuSw9LSRXKcI63eQ+M6blXlPgeLjbVqaaP70/z/Uxw\n",
       "b4t6AmJgl/q3lyPPYiwUY+ua/SeoB30XFvKlDuzhbTKuvnJcc+2ebXiawBi8BMvcwXOFJSsuPtwk\n",
       "n26y+Em2U+VnFGgoGTug5DPRzukzdp3e36YlMBBHRagHLksPS0qVygDw9CD5jvxTtX/nz3ED/0Pg\n",
       "sBUvvYnPJGAcfN8PxJJt/c5xIP4PH4FPfvzzSLGFhJgsPazxeSh/PfxvmsTb938clbgjdytqbd7N\n",
       "+YG21r6J07I2L645OzJXp952Ov9i8V89VFzTQlegbgAAAABJRU5ErkJggg==\n",
       "\" style=\"display:inline;vertical-align:middle;\" /></a><br>"
      ],
      "text/plain": [
       "<IPython.core.display.HTML object>"
      ]
     },
     "metadata": {},
     "output_type": "display_data"
    }
   ],
   "source": [
    "destructive_multi_dilemma = \\\n",
    "    Forall(m,\n",
    "           Forall((A_1_to_m, B_1_to_m), \n",
    "                  Or(ExprRange(i, Not(IndexedVar(B,i)), one, m)), \n",
    "                  domain=Boolean, \n",
    "                  conditions=[Or(ExprRange(i, Not(IndexedVar(A,i)), \n",
    "                                           one, m)), \n",
    "                              ExprRange(i,Implies(IndexedVar(A, i), \n",
    "                                                  IndexedVar(B, i)),\n",
    "                                   one,m)]), \n",
    "           domain=Natural)"
   ]
  },
  {
   "cell_type": "code",
   "execution_count": 22,
   "metadata": {},
   "outputs": [
    {
     "data": {
      "text/html": [
       "<strong id=\"not_left_if_neither\"><a class=\"ProveItLink\" href=\"proofs/not_left_if_neither/thm_proof.ipynb\">not_left_if_neither</a> (conjecture with conjecture-based proof):<br></strong> <a class=\"ProveItLink\" href=\"../__pv_it/theorems/67eb776d3fb0b69693463f831a28e2920fd7de570/theorem_expr.ipynb\"><img src=\"data:image/png;base64,iVBORw0KGgoAAAANSUhEUgAAAK4AAAAXBAMAAABg52lgAAAAMFBMVEX///8AAAAAAAAAAAAAAAAA\n",
       "AAAAAAAAAAAAAAAAAAAAAAAAAAAAAAAAAAAAAAAAAAAv3aB7AAAAD3RSTlMAq1RmmUTNIjK7EInv\n",
       "3XZ/CtNrAAAACXBIWXMAAA7EAAAOxAGVKw4bAAACmklEQVQ4y61VTWgTQRT+ms1m042Ne+hB8JAF\n",
       "RQ8qBqoFD9UVVCwRDHqpVjBSROil8VIoFBKPgtIggsaDTcFLwUpSCqI5VAOCKErw5xhY6FVURGup\n",
       "YH1vNll3J4kHtwMzO2/em29mvvfNLLAJJSvZGjalxE2vNQmoNmBwf0cg3D0+a4LqCnCc+1eCwOoZ\n",
       "rxXaoCZSwjXmoxAEN5z0WQliW7EYGjEzCO4Wn/V4OU/tKyi0WiQQvbt8UrC/8CbHgDeNxutAuCkf\n",
       "DdjPtFSAk8A9MVSSaPMau0WC/AF28zvmHTyDmTJ9BoGr0ITW9JfCcf17dZgZQq8nWklz+zDfNKOz\n",
       "qaW77sLvaA8NLhYZFnKMtpfml2JiVuybA1FH/JmMOyfaZRM8leYNAZ+glh3nixa15IjfPpZgcc2Q\n",
       "4GwnbSNvxafHgvJVxhUiV2/YfIEYrh84Aoy34z4Cttapf4Fq5rBD1yVHNSYWkjJuXVzXiMGDvZSH\n",
       "GvT3wKLLg4tL5+nj0+6juijWjeOE8OZWDmyDhKuJG2WHMwglMUr274GjxPVOx3u/FWVBZdHyaQ9R\n",
       "nRZpGyHGuAxB7/fgPikWi3WVKVPzzHuBxUM5mKOdnXPwKn83MM3zfja11yPSnKomhNAINJf279cI\n",
       "8crhamUdGGB6KQfaD5KO477pBs5vjCM0u0oRH923juAEfg24KOnMiBaEXLU1OiXTSzlQ11we+vJt\n",
       "V0Wrt3pnKZGmXoa2Dv2DxK/FeWPqSInKds5BCQvEw+emuK3uT1H4OfTTl6M1DP6qDpty3nAHOGXg\n",
       "wWpaiEuZqC7dckZbXqlMSXbI0/fijnZ8d1uv63ybS17pfBfccLbTu5t13zD5xySHJ7vg4mkH3IP/\n",
       "9/z5fqp6h4DSv2b/AYeLjQUN8EzqAAAAAElFTkSuQmCC\n",
       "\" style=\"display:inline;vertical-align:middle;\" /></a><br>"
      ],
      "text/plain": [
       "<IPython.core.display.HTML object>"
      ]
     },
     "metadata": {},
     "output_type": "display_data"
    }
   ],
   "source": [
    "not_left_if_neither = Forall((A, B), Not(A), conditions=(Not(Or(A, B))))"
   ]
  },
  {
   "cell_type": "code",
   "execution_count": 23,
   "metadata": {},
   "outputs": [
    {
     "data": {
      "text/html": [
       "<strong id=\"not_right_if_neither\"><a class=\"ProveItLink\" href=\"proofs/not_right_if_neither/thm_proof.ipynb\">not_right_if_neither</a> (conjecture with conjecture-based proof):<br></strong> <a class=\"ProveItLink\" href=\"../__pv_it/theorems/4c15a8ddaee9910378eb70671c603589a0dfc3a80/theorem_expr.ipynb\"><img src=\"data:image/png;base64,iVBORw0KGgoAAAANSUhEUgAAAK8AAAAXBAMAAACPJQJeAAAAMFBMVEX///8AAAAAAAAAAAAAAAAA\n",
       "AAAAAAAAAAAAAAAAAAAAAAAAAAAAAAAAAAAAAAAAAAAv3aB7AAAAD3RSTlMAq1RmmUTNIjK7EInv\n",
       "3XZ/CtNrAAAACXBIWXMAAA7EAAAOxAGVKw4bAAACrElEQVQ4y61VTWgTQRT+upvNJps2JlCKINIF\n",
       "QQ9eAi2CB21E/CkRDHgpVjQiIvbSeFeyHgXF4EUj0qbgRbCQSi+agzUiKqKE6rWw4MGLaKu1lgrV\n",
       "92aaZDpJFRoHZue9NzPfvP3eezPAf2jZfxo216KubjlNPcbCjraAdzfEvb/j8YseogngEOsX2sF1\n",
       "MoryGuhYBkaAq6TZ+XaAA4mGbK8C1iLQDwSLQMRtB7hTkU3y1iTwziJMOi/YFsU7FbljntBeUifU\n",
       "t3Nzb9oCTqne5+Fs94gDyomjwF1hLGrUqcouESUty9bGc4rt5tiXHqbcpIBegi1Sznklpq4tlgc9\n",
       "FsIqdWn+PvTW1NB4avoOkJTaLDkxx430r1kYz8lmzBBAMSK2Rb5JjCqiMzrwhPg+dQUWubEP+AwM\n",
       "y8kXtYygiXu8jM4PEdeGL2M39E7Sn4Q5rwOLZLeu+1xJVgnoBgZkQmnACzQO+LSIfcvsF3b/rKTf\n",
       "xWRCB64KToMxNoYJrgLnfT1LZxvAoe809hIBBu94NCJDcVhM5z72b4UGbIva8gMZGAkmwF7tO0D/\n",
       "a0iSx2qrkoj+JBaWmFAuucsidkPMGpg+p1sBflwoFKoWL7M85j7PKURxmCBQSxbsVMODIK04xX4G\n",
       "SsyqCHaq3CsoI9Rcer3HMYOPDpSnVoA+ppjiYP8g3yTwjUZ5jC/Ee26x1JVWkjInDqgAZ7R0iwkE\n",
       "HzbVa5AppjhYy3UqurzmorlSl04AW1ynBHsFzgeN4yQHz6KIUkKa2zgORUwSaNSXCZpsBj5YL7Nn\n",
       "cI6fD1Ww51d50NWDh9vAsRjuL6XFhWiOlqf5h8PZ+qzWmq5LQ5FV4OGWl8QDbVT26m/TyQ2AAy0f\n",
       "sSM1/3x95pNuSGwAjCctcM305m5De93z0+pJ+uv2Px99kq0eBJ8OAAAAAElFTkSuQmCC\n",
       "\" style=\"display:inline;vertical-align:middle;\" /></a><br>"
      ],
      "text/plain": [
       "<IPython.core.display.HTML object>"
      ]
     },
     "metadata": {},
     "output_type": "display_data"
    }
   ],
   "source": [
    "not_right_if_neither = Forall((A, B), Not(B), conditions=(Not(Or(A, B))))"
   ]
  },
  {
   "cell_type": "code",
   "execution_count": null,
   "metadata": {},
   "outputs": [],
   "source": []
  },
  {
   "cell_type": "code",
   "execution_count": 24,
   "metadata": {},
   "outputs": [
    {
     "data": {
      "text/html": [
       "<strong id=\"empty_disjunction_eval\"><a class=\"ProveItLink\" href=\"proofs/empty_disjunction_eval/thm_proof.ipynb\">empty_disjunction_eval</a> (established theorem):<br></strong> <a class=\"ProveItLink\" href=\"../__pv_it/theorems/30fa5e6e5a0d336d8368918a30181ab67fb9c6fe0/theorem_expr.ipynb\"><img src=\"data:image/png;base64,iVBORw0KGgoAAAANSUhEUgAAAFYAAAAVBAMAAAAutAQGAAAAMFBMVEX///8AAAAAAAAAAAAAAAAA\n",
       "AAAAAAAAAAAAAAAAAAAAAAAAAAAAAAAAAAAAAAAAAAAv3aB7AAAAD3RSTlMAdt0yiUSrEGa7Is1U\n",
       "me/+rfgeAAAACXBIWXMAAA7EAAAOxAGVKw4bAAABBElEQVQoz2MQUmaAACiDi2EBAy7gisaSYQgk\n",
       "Vi2PAwNjAxZlERAVbAVAilkAorYaiLdjUXsQopZDAEhxGkDU3gDiXtxqGRSA1GqoGx4AMV8BbrU+\n",
       "QOoORC3PBiDB3YBbLdBMkNkgtbwOQIIlAbdaNgMGRgGIWrCRHCDDGS4pgYAamlrmBAamAohapgMg\n",
       "hzzAbS7DLoazUBZfACj8PuBRewSoGkktKz5zmZgnMCC7QQG3exkY2wKgLE5QvHBMwGMuuzaMBQ4u\n",
       "cMDhUguKCQiLGWQ9UwCaQqBz3oGcg5bOQIl4EZFpsheafohRy7mAgWsCkWrZJ4CU4wBO8Pz2FEwt\n",
       "ZJDCpRQAHkE60Yq4wUgAAAAASUVORK5CYII=\n",
       "\" style=\"display:inline;vertical-align:middle;\" /></a><br>"
      ],
      "text/plain": [
       "<IPython.core.display.HTML object>"
      ]
     },
     "metadata": {},
     "output_type": "display_data"
    }
   ],
   "source": [
    "empty_disjunction_eval = Equals(Or(), FALSE)"
   ]
  },
  {
   "cell_type": "code",
   "execution_count": 25,
   "metadata": {},
   "outputs": [
    {
     "data": {
      "text/html": [
       "<strong id=\"unary_or_lemma\"><a class=\"ProveItLink\" href=\"proofs/unary_or_lemma/thm_proof.ipynb\">unary_or_lemma</a> (conjecture with conjecture-based proof):<br></strong> <a class=\"ProveItLink\" href=\"../__pv_it/theorems/9c7e9f5526d692efc758eeb84ae79d7ff5222f320/theorem_expr.ipynb\"><img src=\"data:image/png;base64,iVBORw0KGgoAAAANSUhEUgAAAOUAAAAVBAMAAABLdTQ8AAAAMFBMVEX///8AAAAAAAAAAAAAAAAA\n",
       "AAAAAAAAAAAAAAAAAAAAAAAAAAAAAAAAAAAAAAAAAAAv3aB7AAAAD3RSTlMAq1RmmUTNIjK7EInv\n",
       "3XZ/CtNrAAAACXBIWXMAAA7EAAAOxAGVKw4bAAADXUlEQVRIx4WWTWgTURDHp5s0m2yatBdBvTSg\n",
       "iFK1FYrgRdIPRShi0EsPIpUqxQY0KgjF2kbw4sE2iKXGg108CD0oaUFERYyHgmiVKCpFLCwtIoIf\n",
       "VaFVROqbN7PbzW52fZDdt5n9v9/MvPfmLYB/y8CXGe5yR7XZ3E31G0z1EJW3eALuWA/UmyN5F8Ch\n",
       "CoI5z6HOAFQbJKrD53VeLzaAk6kUZD+0IBxqcr1P1gOVhjohfvMk2oXPPR5IrQtJVbrohg1i3iRL\n",
       "o2BCr0tA1q30sBYvQ6Y3y+ipLkXnMVE5D2awCZkBkRKIZInZRpaWJXFpdgna7MydeLlqDlUvZjKQ\n",
       "lCJERxMezBrKaImmQzKL0hA9+wvNulNQtDNjPO+y3X2UFdenUhQQoYS8pnMDMSfFrZWYCo0xEP+B\n",
       "qXJOKFuZiaEEORzV+Ia9bhI9n5195sXsIKaIEWNFZpCWUFL5iYPWOeeiYGdijDHTAo3o4ASJ9gBc\n",
       "k3/rbmY3MauyEDeISaFVJ8J/xC0gw9o7i+0lrATOTFgN8JW7+2EY/dlOopOgSne1J5yf9JHX5vy+\n",
       "Ima4DmI6MWMJ8lr9jq8WHT6S1WKK9fmOu0kYRMpmEkX0aEpmH2doaM0IGIVTG/nNKd6VPbCeezXy\n",
       "3U/tLb9x/yw411yqjBnKKEmuLVfa63FzDJNIMWgJdb4Q/otEC2b0hoPZIHewxdREov9iiov+TKUQ\n",
       "4lJ3G6AWV/9BFnXJfQTGYVknkHn6fnluIRbOgS23QfF7j2OWHPPpyC2ULlqphRiytrBoUpaTOOwG\n",
       "TdYGo306y69eZ1J8W4p7EYNrG5aygLOWSKuNOb+K7tVNVC1hB4v65RLqhM/ShHFe+MCaCSZpb816\n",
       "iytdRY/HMtbWWGm8eSzmLa4I/ejPEm0+KaqSUXU8qNcDx/L5yzifUdZcMit7q8kMl0AbW9Rh03Ja\n",
       "pCvlYAorpnqaU21WhPHlXlDGFgXsjV0UBxjMhgsUZzRurv2s61yZsSHOuTb0jP/RqJbsIjFFtQkq\n",
       "DoJpHgZYkx3MZldFt7dmfyaeGZYo+Bi0fUehT8SlHE/nrTo66mJGVg76CsdRxP8zoK+CSLuXHyn7\n",
       "Y9zF1HJ+AC3nyxz9r1fyOICH1vfQFB0plvFjBcGA75dORor+AbFR6ahJApivAAAAAElFTkSuQmCC\n",
       "\" style=\"display:inline;vertical-align:middle;\" /></a><br>"
      ],
      "text/plain": [
       "<IPython.core.display.HTML object>"
      ]
     },
     "metadata": {},
     "output_type": "display_data"
    }
   ],
   "source": [
    "unary_or_lemma = Forall(A, (Equals(Or(A), Or(FALSE, A))), domain = Boolean)"
   ]
  },
  {
   "cell_type": "code",
   "execution_count": 26,
   "metadata": {},
   "outputs": [
    {
     "data": {
      "text/html": [
       "<strong id=\"unary_or_reduction\"><a class=\"ProveItLink\" href=\"proofs/unary_or_reduction/thm_proof.ipynb\">unary_or_reduction</a> (conjecture with conjecture-based proof):<br></strong> <a class=\"ProveItLink\" href=\"../__pv_it/theorems/c5a683c8244565c14f74ea5e8df86dae349921770/theorem_expr.ipynb\"><img src=\"data:image/png;base64,iVBORw0KGgoAAAANSUhEUgAAAK4AAAAVBAMAAAAtL8hrAAAAMFBMVEX///8AAAAAAAAAAAAAAAAA\n",
       "AAAAAAAAAAAAAAAAAAAAAAAAAAAAAAAAAAAAAAAAAAAv3aB7AAAAD3RSTlMAq1RmmUTNIjK7EInv\n",
       "3XZ/CtNrAAAACXBIWXMAAA7EAAAOxAGVKw4bAAACyElEQVQ4y4WVTWgTURDH/9kk3WS3SXP1lIAi\n",
       "SpVGEMGLpG0UoQeDXnoQiVQptqBRQShWG8GrbRFLiQezeBC8SFoQURHroSB+EUSlBwOLIiIoVoVW\n",
       "EYkz771sPjbbPnjZyfv4zbx5M/OAtVsO35aUqAS9Yc6j6VivRRO46/yR0ge5NQscabvlHBC0gRjL\n",
       "G7243WjlaiUhdyyT0mS7LaeofwT2sjzsgTWyTPNZJIZsyb0lZ3qIi5E2W7Qqa7VwiQ817cENJJnr\n",
       "p2MhnJfcfjnTu0o/O9ttiZPb/SlGw0x4cDvl6cvSbYK7ICbM87952nJvufc4T7/P4CeTOrzcu1ly\n",
       "5+nTJ7laVkxcjP7k47odrNvf2cgh4GWl8tyLOyC5ZCvbzNyAvLaU9outjrndgB5WNgfsB66LoTaH\n",
       "GpJcXx5RW3KlicFE6C99/Gx8oCKaUnEQU6x5F3AauhgznqoLHT32pubv15IbiiFiSW4kIa3Sf/DS\n",
       "BZclKUwwbRtdtGVmxFWwxyY3zMAundmiVi2qqB3GJiV1irVf0r1/OPaWXXl0LR3n4Joipba8tsFX\n",
       "ZAc5hbjmzRZut4hwh2uQU/6xO1z23gG6OHoOU8/uEUP2UZEnzD37oNkPiISm0eCHAPX37Idyq39T\n",
       "tIKVbac+L9Imin0wRH7Y6Rd5xb2haNEdGSWFOUcOqXT1t+ZTMCkzHLupjwtVg/gqhtney5/UujlF\n",
       "M97V6gOHls4WFXNO0NXbOGteVQHqE9YNPIxb/hOFwlX2r6nWXalVm74aN1SGUVyxsLU6SkfONGNv\n",
       "V0egFVdI21vnIoGJfKgk7TWjajSSd9WzpQbOBc8CXK5J5LKuhEwQ4k6qUaofrdzGWtOPNeqVFJ7A\n",
       "OHAcY2SfdnK04OT9rIsbrr8SnmUQY6319n5hptljLq5Rh4U9H6LZ9d4h3cYj531blKXMmfzs+Xrl\n",
       "8B/USMIsmXkErgAAAABJRU5ErkJggg==\n",
       "\" style=\"display:inline;vertical-align:middle;\" /></a><br>"
      ],
      "text/plain": [
       "<IPython.core.display.HTML object>"
      ]
     },
     "metadata": {},
     "output_type": "display_data"
    }
   ],
   "source": [
    "unary_or_reduction = Forall(A, Equals(Or(A), A), domain = Boolean)"
   ]
  },
  {
   "cell_type": "code",
   "execution_count": 27,
   "metadata": {},
   "outputs": [
    {
     "data": {
      "text/html": [
       "<strong id=\"each_is_bool\"><a class=\"ProveItLink\" href=\"proofs/each_is_bool/thm_proof.ipynb\">each_is_bool</a> (conjecture without proof):<br></strong> <a class=\"ProveItLink\" href=\"../__pv_it/theorems/c0ca3413b8141f0169ca7984a366894d1ac58b440/theorem_expr.ipynb\"><img src=\"data:image/png;base64,iVBORw0KGgoAAAANSUhEUgAAAsYAAAAZBAMAAADAsfVVAAAAMFBMVEX///8AAAAAAAAAAAAAAAAA\n",
       "AAAAAAAAAAAAAAAAAAAAAAAAAAAAAAAAAAAAAAAAAAAv3aB7AAAAD3RSTlMAq1RmmUTNIjK7EInv\n",
       "3XZ/CtNrAAAACXBIWXMAAA7EAAAOxAGVKw4bAAAHE0lEQVRo3u1afYhUVRQ/M28+38w8Z8EiCXXE\n",
       "koW1ZcI1ECoHP1IxaEgIcyynLMQPakwQjGom6R9h0yHYcpc+Zk0CWaNREGoXajUty6wlFpPFgbdo\n",
       "yarZJmVllJ1777vvnTfvzTioUX/Mhffeuefee97v/d555557ZwAaK57Kd9As11G0yreNdg002XIt\n",
       "uWu3zmpyfGNemnBXn3r98vFbAB4XHMfZZXoDHHvYxZts8kpLGx7KOz+33LrTrg/79c29adCSnOOF\n",
       "TLWmAY59aXbJNXklRc2yc7QIMLVQxXEykkP1Os7xy3gOFhvgOMQ8fkuTV1p8/LPO6wCrUtUcKwkk\n",
       "rINzHCgBRBKNxGP2TvY3eaUlys9z0Yfn6lwcq1SyJscoRUuMYyXZ0IQWEPNjtskrLTP4eSoeG3gQ\n",
       "feSc5ceeTWWkLcl5O16pHGuI42ilcqrc5JWWpfz8BUDvSSYE11mx4tyPt+M1EuccLwboaYhjXwHC\n",
       "pSavtKxmp9AfF0dXC5JyFscnvhlGspQs53gjBOMNcYzdNorZlDbUYP0mvQwxk3hzLibVuhP+v5AK\n",
       "u+j4Ek77DWBm0r6IwFihzUav9g5yjsOlSNrVaHD4ANwbJ2uQHjjA5b0kT1GPuj+jTb3tl4ElYszo\n",
       "0v5+E/TEgT6XV0G7gEh4ZrvdaW+hDiGORgtC9S1qAqnua2QO3vVPDcsc4QjnE3mM/M6kzgqWosEx\n",
       "FDPo4+OcY6/uNuVtn9QF0yIlX4lw3G5MeZ+QNCRyyRWZXa0MgTbIhMcSHBEvfnSCN50jaReDYzVO\n",
       "TPrY5glBYdbdGi0Vh2DI5i0Ya3ELiJspAidj0KKXn2ulHE9AeMrfTNpD/RiKYXzIQSNXuN8l8VvM\n",
       "Vn96KkLX0gGFJyj+Tt3quPxrV47tak8KlHHmAl/iIRPJmfj67nAMtHUxOOarH2mSrTQzBIWsuzZa\n",
       "Kg5ByNYtcHnrL1tAXExROJjlclr0cmQXjRU7sKfnVybF7BwjZ94hwfF+jBvK/O2j2hz2MaF0BuA0\n",
       "69h650s2jiMzuFdrARK/9SdcObarowl4nwWsPHpXyPCwIHPLrY6BtIvkOGYzWRRztImiSOfs6kZT\n",
       "JSBw2bpFmEVKAsRpisLBVQSnRS9vkpHmbXb6CWeLHfwL13Qbx+3IZlFw/ALieXdlMhrXGDAm5VT+\n",
       "bK2RXRnKcfCgeFhflkwED7jPDzZ1/nTHbew6mfr2kOvLmWyvchybbSanM98jKIy6e6OpEhC4bN0C\n",
       "fTVDgThNUTjelKBFX/CVjOz72GkDfg2fiZj6pMVxOXIe/d9XFhx7cMTzP8CEAlNwqeTn02QrpMZs\n",
       "+26cKH8BY2vQeN/L4QL42xc6QgWqSbkP1Inselh4MB8b5V+gY+xhF44fNU1uKTHnYxkkR/HwmbSs\n",
       "y2ezGu0qAYHLBEURXZUAcZqicPxFQYtefuV7Q/UqHpOutrSsNVy9t0uM1zZ08303iKXJ3uYU6IRY\n",
       "QkgrQVnb3f0actwXcO5t+gb2XYGtI0YSPjC1FIUPHLk5qkkVny7PYiqLqF5jbJR9VwnHWNHFzvE0\n",
       "aTJ0F0s5kxmJYlAdl3U5u1qNdpWAwGWCYha6KgHiNEXhhIqCFozHMoTGqtOXzFsV21L4Rbp/fBTG\n",
       "IB8S0oJQqCz82N/u5FiHICYqIzJnzBeC+HocqWS+oMybtbBNYDgEsIpJLXicNcZ6MDBpOcdY0aVj\n",
       "WRvheJs0CTH25rI9EkUuNCjrsliNHdM7Hv7QVBkQmExQBNBVKRCHKQrHmxK0IMcyV1ZS10iq5xOO\n",
       "g+Pov3N80Mekk60i9GNaOurgmH0vlzjCPoBlmLmg83exilqWJ6H2jsERb5lpgldAHWbC3jRoaWOs\n",
       "inkP++S6yECzS3sxVjXniTtxju8umyjCaaMu70wa24vRNH9TTCUgCNlCAQqudy0gLqYoHJzRegyO\n",
       "t0s23qhPMd/QlBz747AGNp6DzgRK55OwBd956ETOShdNjh+Mw+7LaYawM+E7COpDT7NFNlZCn0Nn\n",
       "jp2keqea9SUgdAju+XNgCRfUBR+zTRM+FnYvvVjiC3RsEANzZhdPYTPhOJwDwyTnmO0UGigWGzmV\n",
       "NEAbw4X3YJ5sFxCEbKEQe4kmEBdTFA7CYLR4n1nfbf5Ssac+x+EcuPzWZARv9aPuruq1tK2MWH2h\n",
       "XyMVSxrylmMKia7eWmOt+CulGJxeYXFsTfYx+3IsUtJrP18M2mCozs82I/Zqv1bPFIOzx4WWoF6X\n",
       "47PgwrG/VHu/wrYMPJYw+wau/kUHSkmNa2kP3mSFbFhRa6zZw5R6oS1J1tKL5Kxzwb5//ezVodrP\n",
       "14sRYErtn20YCvp8DEhtUwzOouvc6KjmWIHGOHb0VWqaSDqE6k5JcOtCOI78H7b7lPRN4rj2vtt/\n",
       "8/+K3E3dxbuhcp1beVrl038A+HIz/ATc1BwAAAAASUVORK5CYII=\n",
       "\" style=\"display:inline;vertical-align:middle;\" /></a><br>"
      ],
      "text/plain": [
       "<IPython.core.display.HTML object>"
      ]
     },
     "metadata": {},
     "output_type": "display_data"
    }
   ],
   "source": [
    "each_is_bool = \\\n",
    "    Forall((m, n), \n",
    "           Forall((A_1_to_m, B, C_1_to_n), \n",
    "                  in_bool(B), \n",
    "                  conditions=in_bool(Or(A_1_to_m, B, C_1_to_n))),\n",
    "           domain=Natural)"
   ]
  },
  {
   "cell_type": "code",
   "execution_count": 28,
   "metadata": {},
   "outputs": [
    {
     "data": {
      "text/html": [
       "<strong id=\"or_if_any\"><a class=\"ProveItLink\" href=\"proofs/or_if_any/thm_proof.ipynb\">or_if_any</a> (conjecture without proof):<br></strong> <a class=\"ProveItLink\" href=\"../__pv_it/theorems/931639e0cb6d87671e76f9406df5e922307c3ffb0/theorem_expr.ipynb\"><img src=\"data:image/png;base64,iVBORw0KGgoAAAANSUhEUgAAAxsAAAAZBAMAAACr0C5sAAAAMFBMVEX///8AAAAAAAAAAAAAAAAA\n",
       "AAAAAAAAAAAAAAAAAAAAAAAAAAAAAAAAAAAAAAAAAAAv3aB7AAAAD3RSTlMAq1RmmUTNIjK7EInv\n",
       "3XZ/CtNrAAAACXBIWXMAAA7EAAAOxAGVKw4bAAAIAklEQVRo3u1afWwURRR/3fvY7e51uUYkaAKc\n",
       "AQkGC6eAkUTxkGLQajjxHyJoatQQQO2hBoMoPQl/aFLKQSQCUbt8xEj4OhD8aBNaQAOKwgUJIYSG\n",
       "JaCkCKWgFpRAna/dnbnbbbcBQwUn6e7cm9+9NzO/mTfvzRXAV+nXnIL/y79czjbHfCIre2L3b6YV\n",
       "QsYSiP+H6dDpWprt0Ty7e9rkGzvE5xkdUfwe2DUdRfglxXsQHUPpq8qjuap72sJtHg2jO0pLp6fz\n",
       "hBsXl8bnFmLVltLb5Kxvmxxcj1M6xuMP07qmI5jEfe5B/kGly1nqsCVFBnooJnQq58qd+FHLPgxv\n",
       "82r6Hmm4JMr0fQYM+rlQ+5nTID0V922Vh8+gdLyHN2qmazoUvI3m9KDNEaTjCA6wl0gAj72YLWQv\n",
       "OVfG4Mcy9mHsRY8m+SpA6A9Bpn6ClAUvFmhfexg9Jqb8WhXgIykdYUSiFuuaDkLflh5ER4S+vmp0\n",
       "RpzjjgwvOVdKuCNDm3vJoymAGgJXBVn4B/QINRVofwVviKm+rQrwiEHowKd52M9RPqKHneiD6do1\n",
       "zzlrCa+WR6FTOV/wKgwy1Dz9gkdTEfJi4d2CrBE/lUS+do2oWODXqggPx2lk9VNz814/dESam49m\n",
       "exAdFdQnwfC4EEzloFN5fjBVwuoJ6XePpkgG1H5pXiZfIR4rna+9mjw/92tVhGtRSscEgBV+6Aim\n",
       "odjoQXS8SJ6TYJGzRorSoLOz00sulL4ArbQWiimXPZoWfdraJy7ItKsC1NbeaLrLPayK8EAlpWMW\n",
       "yFE/dCDULBrS8A3uBKnXffITBZIDTF7t9B6FGyUGdCoXCgpjjlibST7v0XQuBdIuQVYinPqO9mMp\n",
       "d7mHVREuNVE6ig0t6Z4YHdwGD0WdNHAFbCP19Vy0oO5x/SoPAaWuYisNUvTeDevsDh6vqK93ye14\n",
       "CEgzXzpIPXgmTxXAdwT+YfkA1LSaHWrTYBBTQ+RqQ6khyvNyjZTEaG4pH/uXR9PHeCGneVmkjS45\n",
       "9QHR6n66QP1a3S+sZ6WN0iGZbid57R1L4S7NCBoOHcPYSd7IxWHaBVc6GoVQ7WEUYROPcIAOjpTn\n",
       "YlDcVPBFHoK7YGZfH8LRYauy6NgI0CsHSmvOygxZBkXlQQjmRLlYpCxLpFTkN664NwHeNY+YvKyE\n",
       "0DEEas+KVo8RUNqvVQa3Rs52B1SOcQnqJ+Bc3Uxo3CVJmETSEKrhfN7kfW4GBQhAbzQe/L4XcWut\n",
       "FwnFilKhB+IgpAtmVlvF02GpspwV0lCCxiExOkqUjO3bkLxXUr4kyvNK7gPLVwEcdW9S8BE/IMnL\n",
       "aMaBjqYy0SpJITTfVhncmpAco2MLyigC42qP66MxU6h2EuAE4f/ueTwd2mCyVfQwd9SYL7jeJoWF\n",
       "02gnqDiDlfFOms9k1Wj/KAXpDg8hXTCzb9TzdDBVuHyKeY/T2w2LDv0+Om9MHjDYxFjy/HLidvp+\n",
       "hl6qjHywNXpimdiko7lX2gUZTgxBM2w6LO3VeBHW+7ZqwcmEQyDD6HgHzd3qqfFIVMeTiGsplYx+\n",
       "iLZqCkeHvIMyEHSyDx0ec7PHQ3DvR4zFRBfxUV8/145yENoFs/zHNEeHpQqXzbjrOPG96NChHqJv\n",
       "Sw5ajpereFo3VVoPgA30JWOvWZdSR+2CHXAc+CYIo7apM0QZiqFDeJWUiVZxrDzF8LaqtgtqGJxM\n",
       "ONpyWUYHCsjg7V+hVxpLSM0Ixal3TLTwN7p9ycJL600gs9B4MvLkoWHj830VhnAhXA5WYrcUob5p\n",
       "Dtlj39Jw9KS4fiKO+6JdMLMLfuHosFThshBgbccMkOraszYdLO2y5bDQ4OVwELuQhPWwsjq1rt2A\n",
       "ezpmyhsr4RLLZ+wksO58aZ8lIMhAfbyUjLlMsAqwZnFvMh4vqwdFNRROJhwBkvwFe3+ogZIYrU2F\n",
       "wPTly5cgOtaFCy7Ygw2b/4b5LAisaBhgRGBT/sGDIdyST4D8J55rvDljShnpKz5zJGhSxXtUCqEz\n",
       "T7qAzg6No8NSRTwzF71JOY9b864zKmFzmkoTC6B9lbLrYrU/uSh5F3g69kALVCu0Vq4oWbo7QsMK\n",
       "6DABe8YjzFdBdVpGROb5KgwZOXDkpK/pHMcghJ1pEfKFeorF4qXo7xSkFDG4opDA+PuzQLuA6NA5\n",
       "OixVhK9E13S8CW916xosrWfktvS10tFNq3jCAcbxdMhtiKTRQViHa4eH0Dx9FFiO1KED+5ALhI51\n",
       "5ATshdbyUlCz6KP1oJBhmUhyKEFVG7AhgZtQaIo8D6IDgdYnQUfbszjJfdGCSC34cmEFo6OWo4Oq\n",
       "YuWjLumQl73/RHcmphrtj0AmcY10dNMqnXByqW7TEYqiGHnWaaiJodpvcZiDlohyKEV/dOLpeDIK\n",
       "a9qTmI6aWHAHqBNfxrcnyk6oSSm78WMngxSnP8O+syYWqGrYugRXYE1Fq0HoQCC1fPtpIDc0NTH6\n",
       "xd0OpC++18FdkF6buTzu0MFUsbLWGdGXl03X1d7R0dYdOp5GKZrc3/dN0Nyq7dfBKp3w4hS4/Thr\n",
       "HVbfLF+ad0kilCMOFOp1fAzYC9W+Rx4KubiDsivYWVkgzTA5hF3L6aOMvC64RPCyCTdPOQVudIQM\n",
       "zzsrIWffG7Oh4Q6Uzz5rN1m1lcjr9E85Cq2KcmaLA6rqyHEmrZoalb7I70AGboFSQEcAfNFRAI27\n",
       "1ESUB5xvCHTS01uTDq/y6o3+P6tb4d+8zh6N/wP3B40ceaa9kQAAAABJRU5ErkJggg==\n",
       "\" style=\"display:inline;vertical-align:middle;\" /></a><br>"
      ],
      "text/plain": [
       "<IPython.core.display.HTML object>"
      ]
     },
     "metadata": {},
     "output_type": "display_data"
    }
   ],
   "source": [
    "or_if_any = Forall((m, n), \n",
    "                 Forall((A_1_to_m, B, C_1_to_n),\n",
    "                        Or(A_1_to_m, B, C_1_to_n),\n",
    "                        domain=Boolean, \n",
    "                        conditions=[B]),\n",
    "                 domain=Natural)"
   ]
  },
  {
   "cell_type": "code",
   "execution_count": 29,
   "metadata": {},
   "outputs": [
    {
     "data": {
      "text/html": [
       "<strong id=\"not_or_if_not_any\"><a class=\"ProveItLink\" href=\"proofs/not_or_if_not_any/thm_proof.ipynb\">not_or_if_not_any</a> (conjecture without proof):<br></strong> <a class=\"ProveItLink\" href=\"../__pv_it/theorems/c16dbe197266b8888064924233c90dbefbf159900/theorem_expr.ipynb\"><img src=\"data:image/png;base64,iVBORw0KGgoAAAANSUhEUgAAAloAAAAZBAMAAAAbJp0yAAAAMFBMVEX///8AAAAAAAAAAAAAAAAA\n",
       "AAAAAAAAAAAAAAAAAAAAAAAAAAAAAAAAAAAAAAAAAAAv3aB7AAAAD3RSTlMAq1RmmUTNIjK7EInv\n",
       "3XZ/CtNrAAAACXBIWXMAAA7EAAAOxAGVKw4bAAAGV0lEQVRYw+1ZXYgbVRQ+mZkkk8lmdnwQxIc2\n",
       "0qrIYhvZrdiXkna7Kl3FcftgbUUiIgvrQ1MoFbXtjj5Z3NY8KHYF3ZFKYVlt033wZ/ehWUuxIEoo\n",
       "oiIupFYtK6VGhW21SLx/M3NmMpkQpaaCB87MveecOTf3u/eee+4NQDTFFr+C/4mRvni2nUniuu5A\n",
       "EleK16qVouO8/7+N1nd46LPstaeF6Z4Ox6HglR8XTNAy6GtVFFptLLpIUhlV+vhrZwvbnZ25TtTR\n",
       "OOQ4E7SGaH00Cq02Fl2ko6is8ckgNbyQa5OHWoNIOaKb6eOQqKxFaMGY4H54gU67UhRabSy6SIOo\n",
       "rOT4a6UbvmQKSMqCSDmiDfRxWFQ2XkaaAcH9kCBIp7NRaLWx6CJVULmHvz446cFQReGqlRxRBoWr\n",
       "9PNXsG+bcz/IuchQTlRtLLoYtlAkhtt4cK797I3rLOFNECnHRGeEIqz2679iEHKcyZ742eLip9F7\n",
       "YrRF90jBQX6Yi2BtzrcNViFSHtwGM6Kcl37DOBqcCVr3A7wRjVa0RfcokUOVJ9lzBF7xIIxZoItg\n",
       "3kruo5sALvFSPKteRQq5wJmgtQuSRjRaroWN96Bwe9s3+GLFFINqvZWiqRO3hzSoO4GGLJsHFwl9\n",
       "QSo8z87DuNcZ1YCM8NtK7iOynX3j/PDkL3jJVzgTtFJ22vR/tW/YlBcQWo6FdgYZvWuFgeUzgRR/\n",
       "rWtW51solIA/2QxrMC+Cr6PcRfg0w/HVzSvJ7n1EBLRRWC3wZXJt/gbbLw/MjKIkPC9t3vg7Uqh1\n",
       "zgQtqYZDuHpu0pSMOdiC0HIs0jjynQzdJX0mAi3NaFbvaKGIl/3+3g5tcEcrtI4B9FZBvVR1ElaR\n",
       "JnK5AkrVLw8muwk+2TUyxf9EiniFMz35FDYgxWYygtIGBcr45CMstn2OHEyErXyfiYOWYjaraVYS\n",
       "qhjz+xsKbTBhuyvRReusmHQZumoEWhm15E5GIu81k1f88gBVD3gz/FsMY5UzRWuW/EJ58NA5fb3F\n",
       "E3zpxUdqPrRmeR9qT6DTQCI02GETB61MiJrlb2GK2cDvD21QZH8pB7/dhN+iiOb4kcVBS7+Lj4eQ\n",
       "y7ZAy5EH6fyN/L2Vn5QG7rlknKfpqlziTNHaS37GkcdyPYZuwDSD0pq71YfWXoMH13tR95RC2KUG\n",
       "NnHQ2hOiZgEiTLG61dkWNyjCSxoP2An6O2mblz20tC/525FDuorl2jJ5HC+IAqH3eBNJmvVOFbV1\n",
       "p2ABzolUhXI/31DhuR+h1yKCrRwtRS9htGIswG6DiwDP8kUQt/QKjHwfHCJmEkTrUYCPJicnq9hD\n",
       "vNSkiK8Z4jIcMEqQJhZvigaRmMVYnDQdBJhujIE0tVx20RI5qCuHgzaWA91LM3lRACc31aaWbbij\n",
       "8XTyWAGusDwuY3J2b2xWwASNA3eT35aVLK1caL6xGZ5faat38vaU+RN/QEWrB9CiJk1o3cIrBvbA\n",
       "Aodf0QPHSeWAP+7y2RMTDbpbkRjLr/G5xfLHmdBrmM7SxlhNrbB4uE+wi9YZWIJxFV7mcwtGak1o\n",
       "kSxn3HISlRqQEFBUK8GFSEzkTf1DfRZC64ADCvLA1pJfkSTjFVyJApaYaHBg1cDIh95KZCddN9fI\n",
       "t0drNzzTCVo9ll5K1i1+eh9EaCXrZHatV0hqxZMc3WhCiyzS3iztq1ZmYZPs+SmTVmb4Y0aYSEtw\n",
       "Wlw8+aJ83vNAcK2RbwIKeA1oMj2DfIoor4gG15R6zD72tZi7+Lr09bZoJQ+/tKUTtMbJ7JJLeXYB\n",
       "wy5hHLTiBklBdv1EHNIQMCquADFaygJoDz1F+6p+DA8Y8M6ySY9EpDJRVD8hj4msMDmsFcThNOXr\n",
       "k+eBysiHAYVisT5PZJk7+si6EPAGU9ZRFnKcDzWcCEx7qLx/NTS96Wk06p2g9TDJV5MrbNYca7Lp\n",
       "pnlmctKMummmfZWcjdyueRUAJ/upSuWMjNAKZJwMrWn6YUAxp/P+Z5HHHYE7lT6o5hAw+/HMqV2r\n",
       "8+gFwR3fy6sXSUK03bm8bVS9CsRFfNcM3YxdwCef+5o8UNH2gCLRIOmzUnT9MI9K0Z/Z/wArioHv\n",
       "/kX6W/9i5EIrcrNhypmDEHL8y4Up1mE/tDQX0r5sXrdo/ZP/E5NhFxP4PsGOvMJoddWhdQcrffHU\n",
       "XxgNwfQWFw/aAAAAAElFTkSuQmCC\n",
       "\" style=\"display:inline;vertical-align:middle;\" /></a><br>"
      ],
      "text/plain": [
       "<IPython.core.display.HTML object>"
      ]
     },
     "metadata": {},
     "output_type": "display_data"
    }
   ],
   "source": [
    "not_or_if_not_any = \\\n",
    "    Forall(m, Forall(A_1_to_m, Not(Or(A_1_to_m)),\n",
    "                     conditions=[ExprRange(i, Not(IndexedVar(A, i)),\n",
    "                                           one, m)]),\n",
    "           domain=Natural)"
   ]
  },
  {
   "cell_type": "code",
   "execution_count": 30,
   "metadata": {},
   "outputs": [
    {
     "data": {
      "text/html": [
       "<strong id=\"any_if_all\"><a class=\"ProveItLink\" href=\"proofs/any_if_all/thm_proof.ipynb\">any_if_all</a> (conjecture without proof):<br></strong> <a class=\"ProveItLink\" href=\"../__pv_it/theorems/c393a214fe750c9ff49691287f1b2a5508b7fb680/theorem_expr.ipynb\"><img src=\"data:image/png;base64,iVBORw0KGgoAAAANSUhEUgAAAf8AAAAZBAMAAADNtTqmAAAAMFBMVEX///8AAAAAAAAAAAAAAAAA\n",
       "AAAAAAAAAAAAAAAAAAAAAAAAAAAAAAAAAAAAAAAAAAAv3aB7AAAAD3RSTlMAq1RmmUTNIjK7EInv\n",
       "3XZ/CtNrAAAACXBIWXMAAA7EAAAOxAGVKw4bAAAFCklEQVRYw91ZT2gcVRj/dnZ2ZzubnYwHQTw0\n",
       "A6IgtXRBLeYStroRaRTHeLBIDysihfbQLUilGs3Yk+Ka7kFo1oMZ0EuJ1m0PCs2hG6UYLMoiilAa\n",
       "mJCiRNoYFdJokfX9nXlvdyY7SzcQ+x0m837v9+3M/Ob7vvfNC0AcSyz+DHei3Vi04hHTcIdaMr/9\n",
       "BShv0e9q/xMBDBqkxyOmj/f41CX/NOVRAUw8uK+7ALF4W2C76J+jEdNHe/u19FpwvkwFGMXnh7oL\n",
       "EIvXf9PpK1NaPnIvPkyxQRQumITvEQRIu0SAt3FgVLsLEIvXf1NpkqpDfikYwYdpPh2BCybh+24K\n",
       "BbBABMA6ZK3uAsTi9d8G6J8vLzocyYmpHIULJuLZNzaEmW+JALgOdq1xaYjH6789QGuX97uvPX4L\n",
       "KhtF4aKJ+FvGn8LMy/SpvltcvBxnFYjD67+N0UiHPXmxkOd4BkTg7YWf4wXlL2HmHBXgKYAPQ6+d\n",
       "lQXwea5Yo8Jv25VGhTByLE/ylpCNw6m6D90DsMpOo3DJAjxlZW4JE3upAMdAM8PrjywA5+kLAudT\n",
       "J7R0L0jDahg5lifAD0zCSXTtj2kmo3J8xZcW4frcXW4bLlmAq6D9IUw8RAXY4WZt2ePNMTs53yEA\n",
       "52XFNLoYWhYlSiCARI7lCXCJNEMfFIeqkFlt0pspKyymKK6C2pTxtvz18ZXivr+FiVNUAMUTa1tm\n",
       "qWYr5gXY3yEA5x34PsBTFS/skiIlEEAix/NkApwFGETPqFABlHqarX0UH7S1DRmXzcd1dMl/hYmD\n",
       "rBUujQhgEUWmMqJCPVt8pjgqtcKM570k9Knp0OwRKYEAEjmeJ0sB9AJzDV8AaL4bFBeEJ10qQIC3\n",
       "GcfxG70K8Mhjq+Yybgx2MwHOH0YnT0wtGcMOGBhQTr7g1TsigPDQncOTwv2qpbD2XaQEAkjkeJ4A\n",
       "H+FoydMelguwfDeLIoZDtinh7cbx50nrrD/6NczDEjofZgJM4PpyMD9gGiacITHjXLg/RIAJ8s4O\n",
       "wHWAE7RYpxyjAePX7PY4xpQOAQhZYwtOTE+yVMEErkA3AwE+Y9pxHN53RVxfR4fPS+wkwDUURDBT\n",
       "1s6WYIMsr2NMgASK+td/gUFHrRORkACqUe0UIEHq9tjckJvZTa+ozp37Bxr6WvvajSidAhDySV6P\n",
       "43miZwM40zoMysx63ReAtTU+zlXl7c6PuP8rsBMf12fWXXiwdQQSXqZBUusn8XN4J1QgZ8HeWq1m\n",
       "KY5eL3X0ATxIYdKBHL1ND1D2lTON9jhGlOTjD4/uckQBCJkvSDE90YMIqyUXoN1ehdd66q4do6qt\n",
       "OaA1RQEWYAUmM/AejQAY9yL2A1CIDFpYAL1OchAtWztsPJilh1lGUVbgklIXBGBkJIDkOSv4dnrS\n",
       "L5YuAmjT7+zvRYBJFAPJaoF8Z/kCaGsoBoZVtNjji9pgmOECqPOgP/sKFiDzFTxtwifrNm4R0aBS\n",
       "znyDDhWLUab1Eg9JIgAjXwHZs2IRN3wI8UR2OnjQL26FLp0DrdZaLwI8hzoDbacLJ8QdoZSJvvWP\n",
       "/YbUxHl3iO1/RO4I4RRQeO/iesEAgN96U6nnknIjhA2ngORpbeaJM33LPjNOh26JzdZqdtctscz1\n",
       "8wAv8j2ZVjMYQIoVMd007MSvHQJMXbZkz5S7mSf54Nuqvbbybe4J5kMHyRBmdRPPJGzmuX12hW/r\n",
       "/wJl2K5242r+P4vahFzfdpVGAAAAAElFTkSuQmCC\n",
       "\" style=\"display:inline;vertical-align:middle;\" /></a><br>"
      ],
      "text/plain": [
       "<IPython.core.display.HTML object>"
      ]
     },
     "metadata": {},
     "output_type": "display_data"
    }
   ],
   "source": [
    "# As long as there is at least one operand then \"if all then any.\"\n",
    "any_if_all = \\\n",
    "    Forall(m, Forall(A_1_to_m, Or(A_1_to_m),\n",
    "                     conditions=[A_1_to_m]),\n",
    "           domain=NaturalPos)"
   ]
  },
  {
   "cell_type": "code",
   "execution_count": 31,
   "metadata": {},
   "outputs": [
    {
     "data": {
      "text/html": [
       "<strong id=\"or_contradiction\"><a class=\"ProveItLink\" href=\"proofs/or_contradiction/thm_proof.ipynb\">or_contradiction</a> (conjecture without proof):<br></strong> <a class=\"ProveItLink\" href=\"../__pv_it/theorems/7a43b8673b53a5bf981ce1e5ce704dcd634fa1f90/theorem_expr.ipynb\"><img src=\"data:image/png;base64,iVBORw0KGgoAAAANSUhEUgAAAgIAAAAZBAMAAACx5VuOAAAAMFBMVEX///8AAAAAAAAAAAAAAAAA\n",
       "AAAAAAAAAAAAAAAAAAAAAAAAAAAAAAAAAAAAAAAAAAAv3aB7AAAAD3RSTlMAq1RmmUTNIjK7EInv\n",
       "3XZ/CtNrAAAACXBIWXMAAA7EAAAOxAGVKw4bAAAEcUlEQVRYw+2ZT4jUVhzHf5NJJpmME3MvaGQt\n",
       "PYgyICt4EWldt/gHgz3UVg/jQQQvzl6EimVTb9JR5iI6gpCil2UFx711PXRtKRVsZetFWAiMIBaL\n",
       "iPRQpCD2vZf3kt/Le5uh2suI75DJy/vk+375bt77vZcFKC+V5CG8w8VLHoxCavCOl63vHXjvAPj0\n",
       "Z6LMgRHE2JbPuANT9Od4mQMjiLEtW7gD35Cj3StzYAQx9g7UYoBGUObACGLsHai2Sqc70jSCGHsH\n",
       "4LckuVeeC8qJ8XfgU4Ar5Q5kRIwaXD2PETBXg+OyyOTGj4o9eumP0Sne4BWFVISUoerADNi+fOfX\n",
       "e8PqHeSAINy7CLoR6aKXEKivAstUqUQ1VHrcyY6T6g07C0qTOk1TdaAeN/JewHnUDw1/EfYgBwTR\n",
       "+AvJ/6CdGyUkd4DDNEQfUaKubUzLd2qPh9kz+WqfhwtW+rqwrIHigDHE09wuYrSxw4QBckAQh+7n\n",
       "nNUd6hzASO6AgCd4AIKawAEVG9MypfZIcxOYodpnTR4/OoSUE4oD0N5BXrZPLjzytkfgtegTn/18\n",
       "iB1gBB1CR9GmqubrHMBI7oCA6/R9QpSoaxvTsqz2yDJzU9NnIWU39WEtqA4sEFeuHWmt8T0f5tgM\n",
       "Ei1+KDmwcCKdaXYjTbOt22xiJHdAwEaLvakZxeugbWTFbqs9GnS8nNL0acgTwSl9WBtVB84Qb08/\n",
       "gbWROUjXykZkej3swBnm/iF4BvBV+jezIm8JDj4Oi4OAIooDDLZpOumxpEIpa8tUVuclb0SDrQeN\n",
       "fr9/FYtYNLYvAL4nDctYzZIXrjKCLxcdqNA5dh10oRnANnJLYETuoI0dYATsvb0+djanDpi3b/0D\n",
       "S+6LggMUUR1g8NkV2h0b6ZRaAzezutilZY0ooaVvfgWLOPRBN6TtPlZzZAdkJLt8jh33J8mvSfI7\n",
       "2h3fhacw68C36TsAB4fK7pik29kImjHPqvZL6DhLxUFAkOrHW6c2RdgBBgMNvkZHOqNs4jivZ0uP\n",
       "rDGX4A9VwSLsZT8nHg+pFUaBjGSaG/XfB+wX5C3YbqZzEcnBnq84QAbI2oA64A7AIhMmSTD1EOZp\n",
       "lR9SxHgKPxsD5ACHafDVDzIhuMjr4n7UKCTmxUxoYhFvSOimSKFIjTXkAclIFtZzvQOWT/a/M3+C\n",
       "fZlUzh/P03TmgHkH3APHqAPOj7DPh+t/h3Sx2A2cX6DboYeAI5fdthkgBzi8wlMRp8yI18X9uJFL\n",
       "dAO4xLtHIvUOiaDekcJiaqwhjUWDiLAujfhGNN/vh2XfiOgoMET2iclYyTOQOFs2Bs2qvCKiZUUW\n",
       "WvRK1oVCIiiucqjIHI0ATyBCbS4PTYNwTbf3dl/JnGcknX7JKydfL4OVDWRx5vpeWPlDceDCPSlb\n",
       "116/KlkYcwkiaXagKDLNIphW1abz0FREaMqCb/idsIXX7ZozdVX8hoVKLioXQxZBI16lIQ+yoduA\n",
       "Tf7nL6Vv8/8C+3/Yw7qrXYhHktotqHzNS376FzpsXBszsNRsAAAAAElFTkSuQmCC\n",
       "\" style=\"display:inline;vertical-align:middle;\" /></a><br>"
      ],
      "text/plain": [
       "<IPython.core.display.HTML object>"
      ]
     },
     "metadata": {},
     "output_type": "display_data"
    }
   ],
   "source": [
    "or_contradiction = \\\n",
    "    Forall(m, Forall(A_1_to_m, FALSE, \n",
    "                     conditions=(Or(A_1_to_m), \n",
    "                                 ExprRange(i, Not(IndexedVar(A, i)),\n",
    "                                           one, m))),\n",
    "           domain=Natural)"
   ]
  },
  {
   "cell_type": "code",
   "execution_count": null,
   "metadata": {},
   "outputs": [],
   "source": []
  },
  {
   "cell_type": "code",
   "execution_count": 32,
   "metadata": {},
   "outputs": [
    {
     "data": {
      "text/html": [
       "<strong id=\"true_eval\"><a class=\"ProveItLink\" href=\"proofs/true_eval/thm_proof.ipynb\">true_eval</a> (conjecture without proof):<br></strong> <a class=\"ProveItLink\" href=\"../__pv_it/theorems/dd3dd1be7940671d70f538b7a82594aaa1b56b3f0/theorem_expr.ipynb\"><img src=\"data:image/png;base64,iVBORw0KGgoAAAANSUhEUgAAAyAAAAAXBAMAAAAByTbTAAAAMFBMVEX///8AAAAAAAAAAAAAAAAA\n",
       "AAAAAAAAAAAAAAAAAAAAAAAAAAAAAAAAAAAAAAAAAAAv3aB7AAAAD3RSTlMAq1RmmUTNIjK7EInv\n",
       "3XZ/CtNrAAAACXBIWXMAAA7EAAAOxAGVKw4bAAAHwklEQVRo3u1ZfWwURRR/vdu73e71tteIiZII\n",
       "p6KpKS1nBGLVkANag5bKSf8hUJMaYohowpEYTIXQk/AHxlqKSuCMhlOJkRThiqlKG2hVCAQinAqE\n",
       "EBsOQUgREDG2iMFzPndn93bbvUBDQnjJbOfe++2bnfebjzdTADdy8TjcKpFZuV1EHtbiNtBdt64D\n",
       "v7KCPrjJoSNNhXlcdksJ8WWHtXRBCNcfHJEQV7BREE+aFiT+y/YQJ72TLLFX1/dj+dGi3bauLLI8\n",
       "H6wOlN0lp923Kbg5bbVJpOH+ELF0QS3WLRqREFewUZDPWEEyyQj8WPxog+H1hhSl0ENhQ9OTczRV\n",
       "5em0QymY8HO+9wvnwVMfsXEhiAAX3fhTNsMuyy1d8Cae9O0jEuIKNgoykxUk04d07TT82AjD6w3x\n",
       "4v4WJ9iAHB93MlVZdepH6CkN5Xnfgpf6OXEbF4IYcJMbb9SJEGzpIrQEwiMS4go2CtLHCmp9+VVd\n",
       "GxS2Die9KBlh6/i6N+FkqrLq/Afw2t6X5/1VPMob7VwIYsDNbg44EYItXeBFE88/8qbuCjYKW0gT\n",
       "LUhWald0NR4aEhseTnpRdqAyg6UA2T/CDiadEF3Xi6FK1Oo9QFpcbedCEONjzG4WOhKykKRPP/T3\n",
       "H3SRZbmB3XyR0rQgiXr+MiVWQVZ30lsTqwzzCJMiDiadEK6Tr5MFJ2H13kJe+NzOhSX7I3CLm05H\n",
       "QjpJpGcBfOCCEDewmy/+CC1oxoeVfw39PQCXWLLooDfv6gnQ2K47F9amHUw6IVwX+M/shnvvzTp5\n",
       "t4Vb3Ew1pVYiIVNJpJeCHHJBiA4TkwTVHp66aYQEw7TgkS3/aehRjnGCj3h7vUmUEATZR0WhJeRg\n",
       "0gnhuuCQ2Q33fjLu5N0WbnEz0XGGTCSRLk4FYvYHriNd8FSIE8Jh6n4BsjVh96IJAnCqrrub17Ux\n",
       "PR023y5CAB7+qp4vySUxWgAGaqb/g1xPZTMn7mFLMtV3dI616M2yCCawD3i/Zny7vckghOtKLtNR\n",
       "Z231MB12ak9ZyurCNL0ZnLthstaRkLUk0p6s3Wbddu96uD+QklKcEA4LXBFQvbZ5lwkCL4ShmCcY\n",
       "vp8APsx/QYAop5IxLSA/kLAQoqJPRktx20V+XvTTUcr0Uag36y1Swc9Q2wBKM/YmgRCmC5JIlue1\n",
       "epL8SEggZawuzIdaCudumDQ6EtJI70SaptlsprPwwTwbDRhXJww275Bw2G+1vQcQIeBBuZw+aici\n",
       "fvMHkwipQUxoAegOW5YsCZVfUKnkqeZbfMUi+r+hJWHSW5c+pZ2vWBDsszcJhDAdPTqk81olJ5AA\n",
       "lMbkq1YX5mybwnU3VCod95BKGukdi9GZZGbbKa0a9wnVzrDzfflDKwVCMAxJ9kWjQc1vu/uIEGhB\n",
       "4VRYeGU8dVbl4QWIhjdwNEOeZOtacZYWaGB3Hjw0p++mf5n+CU4I11tEe5Quy74IuWoxumuYREKY\n",
       "Tsa7cSCV12oL/qJu8KYYIYILkzA4dzP58Ut42FU7zpBqGukVKKqfNkZKQhoOL67FVcJ4eeCTBQYh\n",
       "K0jwNXhaiLxkd69ngsB9YjqSsf1uAbKFOJBm810oEKJFxqN6U9wIzRe0ZV0Pu0z67eiPOgjsgf4c\n",
       "o+YVmOQhobuGSSSE61CG7OuGvFZxor0AD5lARoQbDW5vEuHMjTrle9iHftU5ElJHI42yNnjjLJQm\n",
       "SMKPaylfhK560QGDkCIyoObBBYBmOn59Ca0P5p6xjg4C0WUPDRxJmUvIuuSrqjW/sMeoNhBCAspz\n",
       "zKmSIUXdNJiCR3KvGKGhJy5Dr5wQ9RDELR0B/uAHty25xeDZNJg2ums60zXoNaZTnymrBbC2CrB5\n",
       "3Rjyge+kTHC9wWDUBKdu5G1NcA39Ompz0UuPRkeFe/Vx0Mryy3Fob/G+nEy+iwjp8Fuv3+t6xqeU\n",
       "SvodUk/nNehTrZetGGL8wvuJB1aReJXggRAuge3mFyiEZuLJZDKM9pA0X3GPs2JagG2kubBU2+iu\n",
       "K3FoVS7sZFaUxdcncsbJji16pPfDALQotFajKGk6Q3xVFkI0wIs1y7qzgNbQuNJnXbEQxDvjsdoK\n",
       "MqXKUDnHEvIitEhocRkFwyQUMrmhAuBtOkMgzbOFyayMFJqoHC8kNkZ3b4SQ1+D1QhotSUjRBEgR\n",
       "x2uJiBFp+TIaNNUSdODa8XJ6KJ+CDggWQtCkLg1jQtQ0mWdoly6OobfQT/agEM8A7PWksWZrDLQY\n",
       "IQQB9gL8hrysF/A6pKo9iE87lJBvOCHFcVpGCE3zmtWFTBHe3RsjRN645tlCCGmB4KoENDvam4VI\n",
       "+0IolV56HlrDqPZ7BJrR6FaOxaHITIj0LahzXsKEKN/B7BBsHozhO5XWsLIPWuP4EWaQjWoTWkER\n",
       "Sq3ZfR4IIa1h2Fx3CcVNSmADxcd1SFFiGe4jPhie3fmevr2208Jk+ZLdtn05nMsVEhreXZfi0GpJ\n",
       "LlfQ/8aeB+1LgA2O9g1g879Zvg3tTK4XtLvM/+rFS5aH50GprP6W8T5kPOmg10CRJYvbujXBoNeC\n",
       "cHo+mkbJpDlJWMnK7SJafDjLxb3WoeNm4isXdgDMZz+W5DLCW7ymhrRY0TkD1XYwrNv8ueuGwah9\n",
       "DBURuCMW8bpGRmzf8rpCmQx3WDDJ/26qc7gjtcykAAAAAElFTkSuQmCC\n",
       "\" style=\"display:inline;vertical-align:middle;\" /></a><br>"
      ],
      "text/plain": [
       "<IPython.core.display.HTML object>"
      ]
     },
     "metadata": {},
     "output_type": "display_data"
    }
   ],
   "source": [
    "true_eval = Forall((m, n), \n",
    "                  Forall((A_1_to_m, C_1_to_n), \n",
    "                         Equals(Or(A_1_to_m, TRUE, C_1_to_n), TRUE),\n",
    "                         domain=Boolean),\n",
    "                  domain=Natural)"
   ]
  },
  {
   "cell_type": "code",
   "execution_count": 33,
   "metadata": {},
   "outputs": [
    {
     "data": {
      "text/html": [
       "<strong id=\"false_eval\"><a class=\"ProveItLink\" href=\"proofs/false_eval/thm_proof.ipynb\">false_eval</a> (conjecture without proof):<br></strong> <a class=\"ProveItLink\" href=\"../__pv_it/theorems/033bb8e8b4c988fdc2d20e7255003ecfef7832580/theorem_expr.ipynb\"><img src=\"data:image/png;base64,iVBORw0KGgoAAAANSUhEUgAAAeQAAAAZBAMAAAAS+0C5AAAAMFBMVEX///8AAAAAAAAAAAAAAAAA\n",
       "AAAAAAAAAAAAAAAAAAAAAAAAAAAAAAAAAAAAAAAAAAAv3aB7AAAAD3RSTlMAq1RmmUTNIjK7EInv\n",
       "3XZ/CtNrAAAACXBIWXMAAA7EAAAOxAGVKw4bAAAFT0lEQVRYw91YXWgcVRQ+mZ3dnZ10J/MiaB7M\n",
       "glqQEruyIVAfStqmUlqLS/pgEVtWQaIVzPZFjE2aafFBaYxBLHT6YBYUocSfTXwQW7RbRaz4t4qo\n",
       "FBc2ViwpVWPFtCqy3jP33pk7k7mz7Gqp9sCZvXvOt7Pz3XPuuecOQLR01L6Ga0mM2hfNIAm41iR3\n",
       "dSgnmV4RKUZ7rhLl75gS4gXJpBRau+Nj3nC3FLSbUjbx46Yoyk0QbYhSpor3X5L871JrtxwRlms2\n",
       "xL/D9eRgM46Hoyg3QbQhLzMlstal1lEiF60O0XZPuvEyxSexIXj2hPzlba4nBwcwi6ajKDdBtCGb\n",
       "mBLZcIkbY8gqZUG03ZP1eDnCvqg9wgruk1LucygnyCR2ZqIoN0G0IRWm5L77LrvWqrAkZXZB0uKK\n",
       "f/OkMCerSjLK6MlBLBtZo4irCaKNpVygSmS/cdE1zxPdyMYyuyAYBZVFIln/WYhJIiujjB5SsT+p\n",
       "1T6KrtjRiNZFLVMlMqD86iu6VTaW2QM1Pc3vCGsFmp2mjDJ6COUtAEejKbsIMWH0cHwwp2Jv8NGh\n",
       "rWIUaCTiGe1Pr9GzwGBVSmb3yfUAP7HhEDxbFv7TyaDtNZTPfZTRQyjvhWRgVsa35WOnBMocoZ8W\n",
       "QK9YYYx9EJRJGjS8zLmrMEMVo5P8hfyo3zFrJqRLPGpon53rDth9QsrqGZ4UMCFwUCqyKKOHUE6V\n",
       "OvOeS1uw84p5HLYKlDmi86Jwj5OhBU2ETN1wGGC1M3Tq/Wq3vOSpAiwObvidAH+k9mG4mSGofQC2\n",
       "B+z+BCwqA2wnfn6wR9hStCUZZfQQykpdrE2DJHjKehXKAmWO2Pmph4tPhuWaCFG3eDwllHVyj7/I\n",
       "Zy+1r+G7P7P/BhOWzx5saBJsZ3oNoEtY7XFplOM0ylAgO1xs09SCsc6i/Yly8J66SNlBEKnfL7Q4\n",
       "CTPsMQTIWZBRdhNbJfqtRzmtTfO8dux3MMquPSDVp928hnTF5QBKVbaW0YOU50lP8uJ92VWmYcIx\n",
       "x2Edv8VHed7pZwy4U+CmhjXBAkSnj9nvUd7FXak6VacLHPEoG7fnve7Q6SDf9tsDcvY6FtWs06By\n",
       "DhCblkUZPUh5jKCe+AG6LLJx7KCUVWNapDzmRHQnXAAYpYUkbhkVGPo++CgOxHsOsnge8ignzgub\n",
       "CGoSE3Cm6FLWv2LbD7drZ3z218ks68tsQORVNutjOI2XXA58AwyhjJ4c3QQAbiS1lSRbv23bGcXS\n",
       "ywWRsoOAbSd6SlovpayemPsDKnqwTiCE7xQP2/ZzcKDbo6w8ystL1VF9ZrkEtzYecSmzhsOzs/nl\n",
       "jUgaq9WXfOA2Iscae0CZWS5zDpAORoLk+MdOjqPHPTyehkWY0OAQjTIM1VccHg3ApcW2izokL0NR\n",
       "qwTzmkBiG3Ob11ig0ale8CiPubhvmHLplRwgB5LFVlocxgHGpYhx4bycXCJztE4l+xEGKA+GuYIy\n",
       "yfmuDFLWy07Wku0olYdZ/MouFKIswvt4MjwqLV9Od9/XnPLoU0+WWnnvwDjwE4vkPMMpx02yEew9\n",
       "D0k8mjwzzA7JImX1FOh3P4iUtXfhLhNeWs5jWzaZ0T6AySJeMgxyRC9gyo1ajGenbX9ovyBSThWp\n",
       "Mtk38k7oA37WaLQSZJeD9NTneFa8FZm17XzUWxFMbIWXoRJJf68j4aOqUk7HyJJ8yz4s8hSGWM31\n",
       "f/U4KkqqGOlp9UWQdoGca+7lbyIaVYi7qcdHumnkO85x664wyrCf6RWRc9Gett59iWezWMjI93u3\n",
       "SdMe+L+84fyn77EP8sHj/5H32O/9DRM1b/jkiv1GAAAAAElFTkSuQmCC\n",
       "\" style=\"display:inline;vertical-align:middle;\" /></a><br>"
      ],
      "text/plain": [
       "<IPython.core.display.HTML object>"
      ]
     },
     "metadata": {},
     "output_type": "display_data"
    }
   ],
   "source": [
    "false_eval = Forall(m, Forall(A_1_to_m, \n",
    "                             Equals(Or(A_1_to_m), FALSE), \n",
    "                             domain=Set(FALSE)),\n",
    "                   domain=Natural)"
   ]
  },
  {
   "cell_type": "code",
   "execution_count": null,
   "metadata": {},
   "outputs": [],
   "source": []
  },
  {
   "cell_type": "code",
   "execution_count": 34,
   "metadata": {},
   "outputs": [
    {
     "data": {
      "text/html": [
       "<strong id=\"binary_closure\"><a class=\"ProveItLink\" href=\"proofs/binary_closure/thm_proof.ipynb\">binary_closure</a> (conjecture with conjecture-based proof):<br></strong> <a class=\"ProveItLink\" href=\"../__pv_it/theorems/77b13fc0156b765e348c13e9a1b0c73e8cb109380/theorem_expr.ipynb\"><img src=\"data:image/png;base64,iVBORw0KGgoAAAANSUhEUgAAAMcAAAAWBAMAAACGSZV/AAAAMFBMVEX///8AAAAAAAAAAAAAAAAA\n",
       "AAAAAAAAAAAAAAAAAAAAAAAAAAAAAAAAAAAAAAAAAAAv3aB7AAAAD3RSTlMAq1RmmUTNIjK7EInv\n",
       "3XZ/CtNrAAAACXBIWXMAAA7EAAAOxAGVKw4bAAADYklEQVRIx7VVS0hUURj+5857rjMmaGgtHAii\n",
       "yGoWJrSoRrRIXDTQRizKqAgfmCUIUtkEbVykQ2A6QTm2CFoIYztzU0LROwkTCwemJKKXqZVlUvY/\n",
       "7tyccZxx04Fzz3/+8/j+x3f+C7DM1oDdmmqDNcXBZTaXGz9v5LaqpDvM0YQTY5dmnuQAHEB5BSnW\n",
       "pAXZgF0Js2iZjF8ydk9lrewCGE84YjdHm3p84PIA7KT5sXQYDrL+usibGWQVfdpYkREAyPeDJZQI\n",
       "4lEbcKkG4BwFIJAOxITmQInIxT/ou50+Xaw4i4E66AWjdxGI0Y2BKgTGV93pQDLoc5tF9dRPGpz/\n",
       "srPDjx2BHmrJuBIZ0UFwR0YIjGijJW1K1lJK5MoW1zRjoWEmMS4fex2S6LAQoD6ke2JoxDRaEOFJ\n",
       "JPIoLUg5hUzy7lW+xjjmlMUHAD2jOPbxrCmkh+vD59VkDoZsN8BlVoZSgJCRZBEa6rbNsSoXYIIF\n",
       "2+zEa3aiCOJIZDePPBvGS41ozgmwMo0d93mp9dtAmZ8lpfbIcCxZzykLPDGBdYpVyJhXkgMkQgEZ\n",
       "UMDTqgWJd21BaimYS3tI9XGQp4X1Q+BCbVteB0TDJ9dpB+5S8nnb+9LiWXkuDYrQyY7bVSJDO/uF\n",
       "4Y+81EAgsA81SHklKnmveMqDAbk4CSYMIoKo1xJBHMii3+Jo2CIVIxMDYfyDwn4OSGCBJxCwY4CJ\n",
       "lVVMeYgeErK6odcjrzcabryVGC4T9jHRDbXK2I6hMnxHYaOo40DQAYU0N2s4srBLXtZ4Ya5mTrT0\n",
       "sV87cJUOUXHai/246MZzZPyCDrVTJrbydCIOZBN6SZed5rxXwCde2gaObDB7xJPzb7UDfRoVreR6\n",
       "t4SpV0txHUbkXkjjOebKrYOE1Y9ejfoGNrd8IJ85nI3O+IzVweBFyomqHbhAKR0CR/dMCNbP10qp\n",
       "kdvy5rOyqll8IWUur1JIVxfkKgxOn16Y8W4GG8Q65LeFxRPVpS07aW009YO1atkw90tZibUzuoSx\n",
       "znQ7wmD9BY5h7XkiSFusnBNbC5dRRJO0En3DHXDsOWobhKK5gTL0vRktV+prg/q5Tgpy6p9c8xIO\n",
       "JpZ4Rf9/9Ac74lZuxD2BpK0zuXqRaZVLB5z425LyB72En+8SFR74L+0vyf3Su4+vGTcAAAAASUVO\n",
       "RK5CYII=\n",
       "\" style=\"display:inline;vertical-align:middle;\" /></a><br>"
      ],
      "text/plain": [
       "<IPython.core.display.HTML object>"
      ]
     },
     "metadata": {},
     "output_type": "display_data"
    }
   ],
   "source": [
    "binary_closure = Forall((A, B), in_bool(Or(A, B)), domain=Boolean)"
   ]
  },
  {
   "cell_type": "code",
   "execution_count": 35,
   "metadata": {},
   "outputs": [
    {
     "data": {
      "text/html": [
       "<strong id=\"closure\"><a class=\"ProveItLink\" href=\"proofs/closure/thm_proof.ipynb\">closure</a> (conjecture with conjecture-based proof):<br></strong> <a class=\"ProveItLink\" href=\"../__pv_it/theorems/3e1ecb6eef0e0999454e77d07044437c933735840/theorem_expr.ipynb\"><img src=\"data:image/png;base64,iVBORw0KGgoAAAANSUhEUgAAAdQAAAAWBAMAAACLXnBUAAAAMFBMVEX///8AAAAAAAAAAAAAAAAA\n",
       "AAAAAAAAAAAAAAAAAAAAAAAAAAAAAAAAAAAAAAAAAAAv3aB7AAAAD3RSTlMAq1RmmUTNIjK7EInv\n",
       "3XZ/CtNrAAAACXBIWXMAAA7EAAAOxAGVKw4bAAAFhElEQVRYw81Ya2gcVRQ+mZ3d2UcyWX8UHz+S\n",
       "xWJAYtNFoxgKIa2JSNLqmoKWWmWliBCLSUAq1WrG/lJM0gWVdgXNiCKE1nRa3D4SsElLsbUoW1HR\n",
       "0oUJwUDFxBghjZay3ufMnclMtnEb8MCZvfvdszPnu+fcc88swE2IWtDgVkkP09UQZRl85uebukUs\n",
       "dcu8URNUkez2Mdm9Qn5paxg0XXMzF7p3XUpRPAdxDK0tRbUCf0jJ8qnWM0XS7WPSvbI7hubs8ZR7\n",
       "MvOc0rWG4jlow8iLpajKOK6h8hMvmqaKF65ooXfhyyD74ocL4sDXC1RDupvqVjgRoXgO3sI5kClF\n",
       "NYyDv6f8oMpJqnhYa61cM74c5CY+uCAOfOM1eyLQspTq/RUUzxHCsUTJvdqFPo6VT7WSKZITp61a\n",
       "VyVuOT9cEBGPvb4ozHzDKsJHhZ8sqiGK5yCA1jhUuiw9gD7S5VOtY4pcNf+wFhgvtcy++eEOfwT8\n",
       "TXVemNlJy9PLuh3V2zdQPAfwbaFwsTTVykLhilE+1Q6myFVYnxSLaBXPXx/cXXQ53iL9JcwcpTVc\n",
       "t8vSyCWD4ojqYwAfehMUqcoaRMgNoqKJ7l17/KnutFa+E/bbS3cHwCwb+uEOsfFgInxdmHgInFU2\n",
       "8+yuG+0UR1R7QYl7lxCRKrLpJePDQjcRPe/5w8POhqPu+JZNfPw9UxQN6EOP/ZRuClQbL/MoYTw6\n",
       "dpvuwh1i4zIofwoT95FrWixLU0/pBEdUI7q7Q3ijIxWYcFFFkc+R8Wlh78TmPakKJuHJbEqNKXdz\n",
       "8ueYgvp+a20GwrN5ekj0SKx2UlwGOe/EXWephV9t3fi3MLGfPBTtycIvnGokaBAcuS+ZYlXCvknx\n",
       "UWh3U22gaxXsFzqSbd95+SGatCKOagxGE26qIwDViI1EqUoGP7MpXp1SFp24Uyw8ih51Q5jYQcCM\n",
       "GNUIZAiOI5VuFmyxb1KzDEasdUtrm0A1FCAE1JCQ7ebznr2fbaLiCoOiukF3JzAKStW4RRXy71j5\n",
       "i/GATqnauEs4jsNxBaDx4dn4FD5o19FZJ9U0wTHVY+jMDDwyOKk2adQ3ad/TpuGOaqyOuGvK9kZQ\n",
       "4VEvNwSTYWImb7b29MdMg0na0XGqU2tYRjAcYnkH7haObyWNZPTBszABk2jcRNBZB1XJJDimuheX\n",
       "hx3Jyrgap75J2ug9S6gqE8QVTR0HhVXsbfA7BBva3PmLTcD2BEU1/HhKOAyw7kUauWZT/YKtDsdh\n",
       "QBfx6AK6HEmzgY0r+ElDPcpIGhaFgyxkFYvMM/DVlxTHVCtQzr42DdWabFDfJE1WM26quMAjbOzo\n",
       "P7CPVb+OsVq9Eo64Czc24bU/m80m0F41+PkxQHW42AXS0IJhUWUNgYXz1eSNwg+4R2phAwuPDi3o\n",
       "cG/xJagww+NkY/xIV+bO7dRs+sIQfrMheI47VQP9UJWgvkla1Ei7zlWenIA30WWWv9CnKeh3rvzF\n",
       "Jo1rGztPArxLowoGL1RVGlWrvuS9E/QVeHVF/aamZpQ5DRR2u+Ap1hjyniMvUD0PV6EvTH2TNOg0\n",
       "Pd9X8VaaJ1QPkeysRov7AUQN9JVfqElDpjJVD7TrQFRPmkI/LvbkPlSVg2+3r4RqH4prINPC3yQ8\n",
       "3zI4VWUOxbVJpr4FUqDGPalujsNnCylMtT8hT0D0iRdwGxU+A/094a/x5QwziWifwybsMm4hpk+9\n",
       "Z93qAFP22OPXTc8oFYtzK6H6JDpplRrd991rD9hUg3HUTfX+Rn0bQI1VfLl/IXAC850/ivJYsqNk\n",
       "vXvUQx4t5aFs1vnbYV6XV0UOLIPn3OAS3whV539LgxcTEGQnZaiITvDt1hQffQK/Qo3X6a+YVFdF\n",
       "1B5/fObcf71rQPyS9Bj9/+RfPYeaFJypBpYAAAAASUVORK5CYII=\n",
       "\" style=\"display:inline;vertical-align:middle;\" /></a><br>"
      ],
      "text/plain": [
       "<IPython.core.display.HTML object>"
      ]
     },
     "metadata": {},
     "output_type": "display_data"
    }
   ],
   "source": [
    "closure = Forall(m, Forall(A_1_to_m, \n",
    "                           in_bool(Or(A_1_to_m)), \n",
    "                           domain=Boolean),\n",
    "                 domain=NaturalPos)"
   ]
  },
  {
   "cell_type": "code",
   "execution_count": 36,
   "metadata": {},
   "outputs": [
    {
     "data": {
      "text/html": [
       "<strong id=\"demorgans_law_and_to_or_bin_explicit\"><a class=\"ProveItLink\" href=\"proofs/demorgans_law_and_to_or_bin_explicit/thm_proof.ipynb\">demorgans_law_and_to_or_bin_explicit</a> (conjecture with conjecture-based proof):<br></strong> <a class=\"ProveItLink\" href=\"../__pv_it/theorems/60c1c12f92b8e577caa7b15011abda708c795c990/theorem_expr.ipynb\"><img src=\"data:image/png;base64,iVBORw0KGgoAAAANSUhEUgAAARAAAAAXBAMAAAAxVg0qAAAAMFBMVEX///8AAAAAAAAAAAAAAAAA\n",
       "AAAAAAAAAAAAAAAAAAAAAAAAAAAAAAAAAAAAAAAAAAAv3aB7AAAAD3RSTlMAq1RmmUTNIjK7EInv\n",
       "3XZ/CtNrAAAACXBIWXMAAA7EAAAOxAGVKw4bAAADx0lEQVRIx71WTUhUURQ+896MM/OeMylIFC3G\n",
       "MCqoaKISWpRTWCYuktpUBhkW4g9pBYEQzARtXORIJDpB+WznwhhDCHNRCYX9MpRFG2FC2kVaVFqB\n",
       "ds65d2buvMwKmi68d3++e+797j3fOe8B/KfSuhjohv9W/MVcnV0YdSUBCqhRknMi60TVYhvWez8U\n",
       "Lu0BmATYTf36XPMwarnS5untsPDlSfJIfidAIAJ5FpwnF3XmmogzKKoASUUnDt4Ij4SxfTQEeoi4\n",
       "gFmcayL5orp1h7dPZNRShgNlSOYR6Mg1L+cSWS2CIznFR76Jzy4BBPBpxmuqA3g6MfE450SqhGdg\n",
       "YzAVOwkBPAToe431IMBegCs8Zv1ymZDSXoOSy+QEC/xZkBqwoGB1/N4P0TirNQJ+oVXP1/dvGCsF\n",
       "OAVuDmFjjKH2TyOVQkda0/FxIR5Fy3o1wNZMMIwpLAkSq/dWDfUwkMaeywOFeStPAfjEsf0zAOvp\n",
       "ltajfC2TVzA/iuUS4L8L0LG8C5Lx02vtRPpw94J0j2xqqNEoIFm2A7xjoCY1cp93vVweEEvVwyox\n",
       "7sWtzFlsRPHgSaHVg8+4cmAsTYMTHYZEzOt2Iph2nNXpHtlQ2OkrQGYkLkUYCQzkWSqRGwBLEjK9\n",
       "ycy1BA+lz2HjCD61O3gseUwEWjEMBCnTEZEzt+1EcCFfpkc2FPter5WWH5ZRMF4wkM4Lz6XUfHe5\n",
       "6/PIJaPoFsdnbGygYGoU2tojMszklmVg8Lxk+ZOIjYi7Vv1esI2G65e44gzJSXObd0YY0FIiuUYf\n",
       "FEoU08Jwk7zVKdR9lAy34XOOfX6Q3Mr+NYrYhm7kwtsMkeFYLJZwYfOQbEsbGurEwMPaxOGrLLO+\n",
       "EAOu1BEGaR/SxIwQ+Ss53ozTHlgyvh187KqRgCX9G67WG2KxS6QRM/tGCjQkvVK2pQ3eshZEWWpC\n",
       "ww6WmRuvG4GUB+AiQP98I2i9Xzh+U+ls+XxhYQO776US9eGI8C8cjXji4kZMv40IrdyeIiJs8Pq9\n",
       "FHtyUwfLzDWb7RpfZPGE504L7AAquNhAT38DY1ymOCTSkU0kpIg1JGwoNZXwH0VCZk8IWzCADBCQ\n",
       "aQvoo/YnH0Vs3ANj3wnPKJR+H6nEu2ojsZ1sigXtUdONh29VbagbYl7dqU1bRoYuAc/ztip2i5U2\n",
       "W19Lp8zhWFdmWCGCKcoVz7LpVyA70P/zrIWLnefhhacpRJx4xoossEKFbEBmpju56I+k/Y82+Fsi\n",
       "gCnOVD+PerUKZQMK9u//wA3bd9pYsCl6xl/s8QN63u6z2SZ5swAAAABJRU5ErkJggg==\n",
       "\" style=\"display:inline;vertical-align:middle;\" /></a><br>"
      ],
      "text/plain": [
       "<IPython.core.display.HTML object>"
      ]
     },
     "metadata": {},
     "output_type": "display_data"
    }
   ],
   "source": [
    "demorgans_law_and_to_or_bin_explicit = \\\n",
    "    Forall((A,B), Or(A,B), \n",
    "           conditions=[Not(And(Not(A), Not(B)))], \n",
    "           domain=Boolean)"
   ]
  },
  {
   "cell_type": "code",
   "execution_count": 37,
   "metadata": {},
   "outputs": [
    {
     "data": {
      "text/html": [
       "<strong id=\"demorgans_law_and_to_or_bin\"><a class=\"ProveItLink\" href=\"proofs/demorgans_law_and_to_or_bin/thm_proof.ipynb\">demorgans_law_and_to_or_bin</a> (conjecture with conjecture-based proof):<br></strong> <a class=\"ProveItLink\" href=\"../__pv_it/theorems/abdb055e548b989e6e233c5f6e387bde0c92d28e0/theorem_expr.ipynb\"><img src=\"data:image/png;base64,iVBORw0KGgoAAAANSUhEUgAAAPsAAAAXBAMAAAA/2iRsAAAAMFBMVEX///8AAAAAAAAAAAAAAAAA\n",
       "AAAAAAAAAAAAAAAAAAAAAAAAAAAAAAAAAAAAAAAAAAAv3aB7AAAAD3RSTlMAq1RmmUTNIjK7EInv\n",
       "3XZ/CtNrAAAACXBIWXMAAA7EAAAOxAGVKw4bAAADYUlEQVRIx7VWTWgTQRT+skmaZNOkKYjoKZEW\n",
       "PSiYQutNu/hXiweDXloLWhEploL14klJPPYgzUGoLWjTYw9K7EW0B2tBUUQJIuKlEPHgRdoqav0B\n",
       "65s3k93JtM1BzWOyM/Pmvf3evr8JUFca/uvD/0HxFE+X1j89Rb+EWLTUCX6nnC4YbP/kp+bNNxBP\n",
       "A4fEfqA+6HY/T9aqePoK9AiXmdOYB5I5DAJXaRfK1wc+kJZTUkTZL5AjOeZkaX3aQTvQQEZFU/WB\n",
       "b5TTvYcMWvKyoJMYnWU0FuAnCxvqFPrt/AyVl/jzZui3Xx4k6Tc0jAbCfrGw8LxO8Eel77E7Xcn/\n",
       "kjx4Bky9Ja9T3h8BJphXMAKnb3ZQAnllWkDcXVvV1VvmoegsP49jtMi5l0NcnoV/LL4TZ35KzYsI\n",
       "cfHZT/lo5MtsN4cqoldKBujwEpokncrGZUvFgG73K346yDJAOIGY/MT4CrCLPGLNEUwhmhG86GeJ\n",
       "VEJ8zoSfIsyEuxOSfZBZ67GlYrAohqLHjHX9YFJW1gBaJT9CANHvZNAymVCWmdfzkiefA/+yCU/N\n",
       "IZBxd0JSQLcVdbZSHOShwd8BmkqqCan+0kQ2+38DQfGd/ftk1M7IYknhdtqEJ/WYFt8zslbzEzpb\n",
       "Kc7IFPecT2GKsTsRC6v+Mkpyvq/05cKsGbY2jsOyI7xv3wIDPtSv922WtBxY6T6drRRbUXExcIt+\n",
       "QVHYy1KxTblqidJ1lN7pF+Zc5vD14CMf7YW9SYO/Pz4+XgqSWK9aK0liRShtBDtK7JuuYi8PSXfF\n",
       "28WrVmTKvlH8IdJ/QtELFGVBiBqdTXJa0iuymeqvT1hk4Da1VpLkxxaRZIrtcxVHeEi6BkyvDsKa\n",
       "/CazUTWdravNzedFJ4plPI8iy2bMUzc2Ci8hYjZSgZeS5Py8aBgjLrxS1J0fy9VuS1fc1QnKx5Rd\n",
       "ROgn7NdG7B0t9RwpSQ3ESosbO1bpURXFRR6qFp3a8AfcFvcI9rFz4Xns+TXbnTJTD2O0HdYlaRtg\n",
       "1ArbVRzj4enVoDUXraWtdXhKca+ZME2r2WDDzothSq1PEfPf1skN4AMk2FUl2bVm4UoGvLeGyrXg\n",
       "P5iM9AbweED1VTAuAdWBq2+qDv1y+BcKVfnUuBFtaNefToU1N2dN+gMam8p39B+IJwAAAABJRU5E\n",
       "rkJggg==\n",
       "\" style=\"display:inline;vertical-align:middle;\" /></a><br>"
      ],
      "text/plain": [
       "<IPython.core.display.HTML object>"
      ]
     },
     "metadata": {},
     "output_type": "display_data"
    }
   ],
   "source": [
    "demorgans_law_and_to_or_bin = Forall((A,B), Or(A,B), \n",
    "                                conditions=[Not(And(Not(A), Not(B)))])"
   ]
  },
  {
   "cell_type": "code",
   "execution_count": 38,
   "metadata": {},
   "outputs": [
    {
     "data": {
      "text/html": [
       "<strong id=\"demorgans_law_and_to_or\"><a class=\"ProveItLink\" href=\"proofs/demorgans_law_and_to_or/thm_proof.ipynb\">demorgans_law_and_to_or</a> (conjecture without proof):<br></strong> <a class=\"ProveItLink\" href=\"../__pv_it/theorems/29d345ca32fcb82bb91d468fb00864cf616feb720/theorem_expr.ipynb\"><img src=\"data:image/png;base64,iVBORw0KGgoAAAANSUhEUgAAAmYAAAAZBAMAAABp6f+EAAAAMFBMVEX///8AAAAAAAAAAAAAAAAA\n",
       "AAAAAAAAAAAAAAAAAAAAAAAAAAAAAAAAAAAAAAAAAAAv3aB7AAAAD3RSTlMAq1RmmUTNIjK7EInv\n",
       "3XZ/CtNrAAAACXBIWXMAAA7EAAAOxAGVKw4bAAAGEUlEQVRYw+1ZX2gcRRj/bm/vbm+T2+yLIBWa\n",
       "g1REQtqTxEJ9CGmbqFjFI32w/kHOBwnUh15fhNjUrOKDxVjvQWlPkGxQCiFqr3lRU7RXRSyIeoio\n",
       "FANX/5VIrbFiWpVyzt/dmbndPa7Scoofc3tz3/eb2ZnfzHzzzRxAtMSWv4L/RRBr+fNWkOS/sV+p\n",
       "q1VxET8G/5OcfUuZK4QwWmivtsf97MOUMxt/9UVx1gLReaJVaNNXQ7q02l51e4SFmSOcjeH8RBRn\n",
       "LRCdJ0fo1yaPm5iLHkYdovW+rMOPg3wEGoJlN+HsKTxbS1GctUB0nmynX1svckUc05J2IFrvyzB+\n",
       "HGY/9N6ibxkinCUR113ZKM5aIDpPquTZte+Sp6kJbilML0hG9HpvnRBI7XYxZ/FcpKNHphaIznNn\n",
       "tLdPWhc81SL6bGP5ML0geIbobJak6r8I8yWZI/vmJ8vLH0fvm9GIjhOdbgEj2m/S1ldj+TC9srNm\n",
       "eG2wKSewaRPO7gR4OZqzaETHSZL0MZE1/vIjcwcs5urD9JJcD3CeZcfhhYpviBcIZ3shZUdz5iFc\n",
       "wWAG411pxMUfN5GklK6L5lAbKPU0NcEiiXujLH136ldPZdiQcXmbgvWSoG3vNJ+WMC3Qo1UJZ2m3\n",
       "Ky+X2L8jHz8pcMYR5ikB9LoT1CEJAmkhH8/jpJbWBXOoTZIAIOkZTsxPE8TK6NY/UHs2U90EbGBW\n",
       "ql84tk7RyzOlqLHqrBdHe4WYwVglnGl10cEbZ8p5zV6CuwTOOKLrggA8EbiTShCJszmS1NKJCgt6\n",
       "omxSdDQX2IQHSRI4M9EsvYyCrJ+prp8HmEw/AvfIejUqTrIA402AHsHjJeg8g8KwgB5FY6cN61AR\n",
       "z04MsetTofBM4NIRITJnYyw4VkojGuI3QLTNm2JhQBIPJV1xbeJJ+g36DDCdUfInL9L/DtOOpFek\n",
       "dsCfwJmqQGaNcraI27b94Blri0MPB9rT99UlzhbpaNcfEU4RyUAnKEJkzmriDuWXRrt9Ou1G27zq\n",
       "woAkOvBCyDSmcic79DDOrFvYkmb62xhnnl6R765j45IjZy1OD8RLlLMp9OpXH8p125YN84RMZ+lG\n",
       "ibMpmzra2wVy9KCTrgSROEPbt3A29ksjd9KHFmGUzZNQIGryCHAPROKBFJ4bs0WPM/NL1gyuh3cl\n",
       "/VFUlbnGMkjeYFVP4V5c9Oghccwg3XDhiR+hx0GKnZQz3SqJnMXImOyCcwCTdNwTjlWF8e/VQSIQ\n",
       "lbN3yuVyLVEClLpQ9hVWmlZ1P0AJRTKKLbFxzLd5EgD01impnrnkGpizay7c3HjM44xFrr7eOC3q\n",
       "IYMJ/4JnvIh2vrEbtNm1CqcHMnnhLmg9zGBHsBm1J6s5ZqXQfBe043ivawxQzvTjx/6EqqneEGBI\n",
       "4DyzNRs0upRirDSt6gBoOeS+FVs3HPVt3lwKAHpbVwl8z/S10ISBkBhq0m0r5mP0wH7x/uwUrMC0\n",
       "Ac/ReQbj9SbOUACEfAALZ+qQugRFo6ouTQSJbxsc63dUzvxOxVhpWtUGDEq7ii2FmujZhBFoAg71\n",
       "DY2/raxNcpBuwVlqJFVshzNGDzn+c85Sq4jKLTptIQqBLLuJM7Rse7K4o2aFuEYUVaTzsIB/sgeF\n",
       "aCvwIbvBSgvxk7cH6Lw04ew8vplL1FUbvOTb+AuCgBtL3fl+PFp1IaBPF1tyNvnsM+1MNE4Pud7h\n",
       "nCVsFKjs/QlS+Abk+Ql20Shypp8E895HcUeN9+FuG15by+ND1UzW+AhmiviRZZDDZoG5A3HfPEQS\n",
       "EVaacHaIxKIjqk13fBt/QRAw7RwhLgnR5DNl+vHDvj3vBZLwWaPRzjTj9JB3NN1tL5TL+ai7bdxR\n",
       "jW9QLhpaP67kuZpWycSbOBOjTr8qr3uKbcmSui7XI93a9EMNzbh5oFs+u7q4WkfZs1fyf4BxDgVN\n",
       "D/BL30YNEt4U5znTtvKxs02c6UWc1Ko8lWxLNi6rKggEzsEPsB5p7iDp2sgV/YeSE2PzgFxgTAtL\n",
       "JClyq2gOtYFST9AhNJ7vHM7+yf+b0n9mZtBdiBtxTxLipM1gnXmNGLOWP/gbGsjAbwBbkFoAAAAA\n",
       "SUVORK5CYII=\n",
       "\" style=\"display:inline;vertical-align:middle;\" /></a><br>"
      ],
      "text/plain": [
       "<IPython.core.display.HTML object>"
      ]
     },
     "metadata": {},
     "output_type": "display_data"
    }
   ],
   "source": [
    "demorgans_law_and_to_or = \\\n",
    "    Forall(m, Forall(A_1_to_m, Or(A_1_to_m), \n",
    "                     condition=Not(And(ExprRange(i, Not(IndexedVar(A,i)), one, m)))),\n",
    "           domain=Natural)"
   ]
  },
  {
   "cell_type": "code",
   "execution_count": 39,
   "metadata": {},
   "outputs": [
    {
     "data": {
      "text/html": [
       "<strong id=\"commutation\"><a class=\"ProveItLink\" href=\"proofs/commutation/thm_proof.ipynb\">commutation</a> (conjecture without proof):<br></strong> <a class=\"ProveItLink\" href=\"../__pv_it/theorems/5cb66972365ba8a9b1650021436738a85a5a50d20/theorem_expr.ipynb\"><img src=\"data:image/png;base64,iVBORw0KGgoAAAANSUhEUgAAAQMAAAAWBAMAAAA2k+RkAAAAMFBMVEX///8AAAAAAAAAAAAAAAAA\n",
       "AAAAAAAAAAAAAAAAAAAAAAAAAAAAAAAAAAAAAAAAAAAv3aB7AAAAD3RSTlMAq1RmmUTNIjK7EInv\n",
       "3XZ/CtNrAAAACXBIWXMAAA7EAAAOxAGVKw4bAAAD10lEQVRIx8WWW0gUURjHv51dd9ZZd1UoySB2\n",
       "IYgiw32QoIdSySLxIamXiOhCRbhKbQVBVLpBLz7kihS5Ebr1EPhgbL1E+ZAZ3S8sUSCRsCURQZia\n",
       "2Y207zK7NuO441sDM3PmnPOb+Z/vdgZgnkcETzXXBHUuKicRgXkf/iBe3gu523JGXnoOyvo4JsRO\n",
       "bBbR81JbCSvxVJLcdI8ah5zdY8UlnQDD1tSa6eLihuisoUPAhD8EsIGeD9gp0GjlV6VdzhIW06WN\n",
       "OwraAQJRcCcsKXgM4PhhJHA507QYJMIAp8m07XYSXCgW1ku7+jtd19Glkzta0KC7qsBZZUmpU2jy\n",
       "CSOBQwGMAiIqRIk3aCehgC793PSeoCWBbyYqKtHMlSjjiSXlxOnOKSMBcPMO+QaJggQ4UanbNhSW\n",
       "ke0Eb/aPsxKU7RLpATybcFF7rShwoN/cD40EqOkv1ELCjd9/PjT01FZCHdlOorFK+ZrJC58MorMv\n",
       "D+L9uhVFkaItiRoJcEF5SAgv5sMmgIvcncghgRZIetGtQc9v7loEMMINz8+Rd2yA1fzyIT6KMhTE\n",
       "ukZKQkYCYAvEkkI4UdhhUHm+9ogHWyf6aiWFlMZ9rzJB8pJ8GRT96hh3YRy/keTH8Cyjj5SZhRMF\n",
       "XyKg3DMSaEpoKRJCwQjLT3jr2bnjkuUp8GNvW+l5SCePLNeR+2RRnvappvqnlIeIIimQj9O9FKIx\n",
       "swSi4BKeHHszBPjP1QTahfBgqChpicZtL/jmwOwaBRe6ByV4r5glaBj5f8RISbdU18IiPeR3WEog\n",
       "m1WmDQRcQyolRB7l2W5OWEjvkUQKQm9IKl06efS22REuPN9KX6pV7jF0guMbNlaZY4EoDwVvoN5A\n",
       "oB/A1y+EQlJuhNk2sFHqzHDFItC4VqVrnmUKaxcZnJayVa+tVF4Xyh2dDTFK2DVmK3TpkeKZNBJ5\n",
       "Ib3MI+GkT51kxdvgMw+vBW0BzyErnPmgv4zyjdJHJe3dYs5evcw04TsfJDI5+O9BlBuJHWEwECdp\n",
       "Qd+F4FR38FLr+gKclQvQEPXOhni8g2LBq7/sLJk0BVr3ZAJWTDdKbku6lNI2xM3XZglIOWgP68hU\n",
       "AyF6psOgdE8mmfDVZ7dV/DJLGcB6H/UkxQpevz7so7HB3OVLTZl7fFF74lT2CX1cGNSSoP4C7ZVe\n",
       "rFBCZmPjLahiHluZcRuvsifWZx/ugrZ5v2cAVv/uq0VzHUf9ysHGePatF8h9uX9xjs/uugB2xKxN\n",
       "Wsnu9Lfi5w0jPdSZe0+3+F4P2BGzlrV9brdRRjbn/LWLzEHlJD6aO0PwH46/24gD0GV3ZAsAAAAA\n",
       "SUVORK5CYII=\n",
       "\" style=\"display:inline;vertical-align:middle;\" /></a><br>"
      ],
      "text/plain": [
       "<IPython.core.display.HTML object>"
      ]
     },
     "metadata": {},
     "output_type": "display_data"
    }
   ],
   "source": [
    "commutation = Forall((A, B), Equals(Or(A, B), Or(B, A)), \n",
    "                     domain=Boolean)"
   ]
  },
  {
   "cell_type": "code",
   "execution_count": 40,
   "metadata": {},
   "outputs": [
    {
     "data": {
      "text/html": [
       "<strong id=\"leftward_commutation\"><a class=\"ProveItLink\" href=\"proofs/leftward_commutation/thm_proof.ipynb\">leftward_commutation</a> (conjecture without proof):<br></strong> <a class=\"ProveItLink\" href=\"../__pv_it/theorems/62fd2371445218098de448a50087f92f7e39cd5a0/theorem_expr.ipynb\"><img src=\"data:image/png;base64,iVBORw0KGgoAAAANSUhEUgAABIsAAAAzBAMAAADld5VWAAAAMFBMVEX///8AAAAAAAAAAAAAAAAA\n",
       "AAAAAAAAAAAAAAAAAAAAAAAAAAAAAAAAAAAAAAAAAAAv3aB7AAAAD3RSTlMAq1RmmUTNIjK7EInv\n",
       "3XZ/CtNrAAAACXBIWXMAAA7EAAAOxAGVKw4bAAANS0lEQVR42u1de4xU1Rn/dh47d+/Mzs6m1Iqt\n",
       "7LS2hAaFaVxJ1dodZG1LkDqFpLEVZU3TGNGU4R8TqmXHxj9qumEXKg1rWncohhRXZSVqFVJYtSlQ\n",
       "07pWSoiROpRHA1LesKtUpud5z+Oeu3On7ux2O3OS3Tn3d7/zfXPP+d1zvvP4dgH8J/uZZ/JQS7X0\n",
       "yWjRWCymJ+mjrq+19tinzZQ9DcViT1k0ykzWB65L1Rp97JP1LssEq4RGn1UvIzUKlJGynneuqy4a\n",
       "BTvU639QMnWYpb1wr/TQ/zmN7vG8E01UFY0eUV+owAD5qD9tlvbCvdJyA2/7zjRfsd4/7sn/UeTt\n",
       "Y82figwoULzvw+bezxhkjxXXTF2T9W9XURT39gjeqSoa/V293EQ/Zjt0qcO+olWA0XHJ1ZLxQJHD\n",
       "V+Ffq0k2hiq2Jecf99KuyKtFThyHwMKUKt6EOtK2pEHPRdTWZ8G/XUXRMs+KvTZfRTQKDqrX8+jH\n",
       "3GFHANddA28tL1xSKOOhFv6af13MCTuRxNK0f9xLuyKvFNm8H/26I6uKd6N8aNCtx7qMft0O/u0q\n",
       "ilo9a7Y+XUU0iqldP9DqiT484iBDkovjhctJxn+3k/OsUThWbQhrK/jHvbQr8kqRB3FHsEQTP4XE\n",
       "w+fceuL4kZam/NtVFMU8l4XCw1VEo1NqNQRoDa6KO708bEU/t7K8Fy4nCY8UTvHOP4oyIXrRghs6\n",
       "6x/30q7Iy0Wi5Es+pon34S90ya2nAY/TnQP+7SqK6r2do3uriEZvq5chWp3pwDllsjXE8l64Pjlj\n",
       "eAhmp6QpXiPN7gHYsB/8417aFXm5SCcR+K0m/iEewM649TThdu5O+LerKOITMkOana8aGlkj2oBO\n",
       "mj2ctC4J7zIHcTZ0eOGqNyrwRdDtjJlXApykJj88efAHQrwk7qVdk5eK7CyYxLELFLzkvoFdHWgb\n",
       "8G9XUUTXSxYewEl7JbcUqoZGdZqH3ZikvUgEvW32HFptCWjM894F4/0vXKXhKjMFnobOBNgtJP8o\n",
       "AF3YjSOf4doU1+7CmXaBe2ln8lLiRd7PmsTxC1N3ATZ2aDewqwMtGf92mSLmBQx61m3DUNXQKKb1\n",
       "yTHyGMfa56Kee/W/KHYffJEvsRA8DQs1XE0OHn+ivQVV4nTaz2UDdOrSgCo+OuJo13Gu3cG9tDN5\n",
       "uStlRd4iV3lNHLtATYPWySFND3Z14N9l2KWKOL28F9KCw1VDo+6UgUY26o0/Bmc9fyaqQrqoR/EL\n",
       "0JlTcC05+POoulGjLWDrmvW0k2hCzA1edrTrONfu4F7auR556ZQWeZ9c5DRx3JxtKQgMaXqwqxM8\n",
       "V4ZdpoiN8969kX2uamh0KmsY1ELo5z1Bo0arh49pBL+JVbiD61XBcfRWN6Ja/hubMj8umIvHBL7p\n",
       "pOFcu4N7aWfyrV89mTi0XlGFV4wgqoujd8BGXjmnEb9BXJ1ne8qwSxUF560+DFyd0TeC16qGRr/S\n",
       "x3PsFi4GuovBGjr+FfZsHIffq7iWOB5Okc0Tm3X7hz4tmNvdIWik40y7g3toZ/L2DW+g5jqoFMHr\n",
       "krBNF0ckaegQNOI3iKvzSyjDLlW0cUkqlh2dJb+uGhrt0a7x/DWC++m+rNPQ9j42F+Y4OwTB8S2o\n",
       "ceyLLCPhj2BaDvOlKHiOfT6ICPbHvKCRjvMjFgwnSh0TQjuTjzzfASNs3ORF8KrEXXn1y2P+h/eC\n",
       "oBG/gXcJ78bekGbXeSLdLlP046PQlHdWSIxpJ6MR8T+v8UujOvIIk+r0jn1en5AMgd13MQ9fLj4g\n",
       "Gpouuwl8ZV7GoRE3wl6ecfDNxWUQ6Ls4wCuaLepNLTY3358UfZ0L59oZTpQ6JoRVLl9XsAbhr0oR\n",
       "eHrNFOetFuJTn8hKNGI36vrONPd+E9x2xRPtNSuaRtbJR+s+2jKURrdRF90njUIZ4uhPqmWjyzoi\n",
       "r+ddZy4USUfKecjG75vxsdEOsVy8J3I651s+MDQ2dmE3tFsAPxlt/lKgNHoUq+/xSyMLd14rJ9WY\n",
       "FjirI62lG3rlzx7Ll2GjKV4WjcrUDp2oPwr2pD8xjcq1GzkN+2c4W9nGtCVNaVSfp5ssPn0jfGhg\n",
       "66SiUXDEtWYmXsmHl+8wFnqrWCzHRuiIER4j7fAdNABEpvlmQOTlS4UxsRtOwAep0TsZvCSBaRTE\n",
       "cw3/Lvb16LNjUtEoPuzylnqglvynhtEGQrLChGdqfz5w4E3/NIodOPDewKSqhehHLmhVjRtlpH+O\n",
       "6rZ1MBp9C+BJ/zQK5aCB9K62fMfc39r/E7UQ+qjGhMqlxiFGoxUQcfYWDePs3pfgawlBIyS7glw8\n",
       "K00c7N3GskLk8fPb5/MLq2/Bi4bjxS744IJteHktrODfkxRJSYenv7zQOSZUd7rW2BWk0SCjUUM+\n",
       "muF7i1paPXUdfD6aD+UFjVDP9RJdd5Lc8uhZ89KUIxIcgvggv7gF4IRBWoPvTpKNSYKLI/lIUWSX\n",
       "wY2WYOtgbyYejXwhV6PReNIoUMAe9gLTcIDGO7imkI5KgxrMoh52uEuaDNz5F6OfL0Tq0hB0WnMK\n",
       "QJtBXIUDf0I/aYaHeiRFMN9dVobbEX/iUdiWrA1q4zmoQQc+4o33FoPzVh+M35ijucMAh7DcjC+t\n",
       "UmhUT05+Q7xeOn5RuNc4RRIisSQ85yx9vw72OwZxFe5ELLCSFJd6MqTI1JVJMAmHQb3Rzdxfiw67\n",
       "R+pa85eRsr5cbNi6DOjeIt6JS8QTLJel8+IZ0d/cJdMoOp20TyEkpv1x+IbJAhZ5iPYJnYdar3Ta\n",
       "8PL1cw3ujQZf7eCoMwk5y2mdyPhCd2EJ3ky+Ueh2x12Lu9aNauGOZaV7RqVRgtPokQQ75o534nJk\n",
       "e4jsyYVJ/zED0sdkGkXI0YBwDvUQETbDuxP1BOFZt+ljGhZhaw63gD2F7+ggP2ZDGhYdzrjcmw1p\n",
       "cfkHCYfGBN8NQo4SvO0uTGGSFhPqRK1vcxH38mPlwx1NsYg34g0yw/tTbgiklx6YgHBHgKY0p1Fd\n",
       "jm/iToMudsQU78kF7+/tXYto1F8v0whItxLa/sJH8FO2X7xge0s+Blt0zwqLxBy/pzNjXZdnfkzk\n",
       "Agzap13uTeSCuMTeVoC7Pd1ZVhYrsobdhSlM0pze3t4k8o0GeCMGLuiPPg7hjqZYxD3ocsSgQQ5p\n",
       "9GNR1gMTG+4IsGUApIMidG9xNxyDTovm2i1rgPZG4VkKjeiABZER54Ax4kgughiojWlYZCX3e2Bp\n",
       "jh30RX5MeASy1qDLvUFw6zWti17Bl8183SuGGuNHwA8Jv4E6i4K7MIVbF88E+DntjWCAt4V1Tn/0\n",
       "yoc7mmIRI5dRD33eoEEOafRhUdEDExvuKLZmWd8Uh368EzcNbgzR3P4ZdFXyBuAHpiQa4fHuLKFR\n",
       "PxlGmhBx1+ELe4D8Qh9U5GbAEPJv7L2ECv3Ej3kOVVpDRogLeFZPLDMTI89mIJ4heBY2F0hZrGgY\n",
       "7Kfww2ZESQHP6mkEujiKaPSK80rrB0XGIdzRFIuIB1dxINYrpLG0RVUPTGi4I+q6kzKNQkegKxlO\n",
       "wH2w4jjNfZCClUiXtS9LDxkpNLo9AU9fzGAadSVDr4F9xw/x8ja6sHZBV9baZb3ORJDDhPJzLm2f\n",
       "nyRU6EoGl29/cS2QxXNHXMANuU1wKy5it+84jiXiCMdHZVBZhB69tL09SwqjC1oyK+C6HKqECH7N\n",
       "ph999RfOk+7TXSNagxUMdzTGIuL1q/pdBg1KSGNpi6oemNhwR3pCWTn9mNRz9qu965Q1Av340rtS\n",
       "qW1xWUWASyRFngxMTpXnCwaL6EWZCUMpUSQpl3VQXDgAui1U+BAam/t7e9Xv+Tndaat4uKMxFhG5\n",
       "QPbVOYMGJaSxtEVVD0xsuCN5BxQahfPunLbUpNFo9ZtJR7a++LFckB/j2pEVeevEViGxvDhksrgB\n",
       "jsC0rFPEwXFZByWFxUExJ7cBZpremzbtcSof7miMRex+6uQVKQOuhjSWtqjqgXELdzSnPTqNgobc\n",
       "6DRyyYoL+TlTpcV1iykjnjJflDrS263135UPdzTGIqLuP4CmAhs7NFwNgSxtkekx3Rr/cMfIZZ1G\n",
       "Pha+a+GOPI0e7miMRcQBKjtz7lBELQSypEWqx3irFu5YwRQaNNCoouGOxlhE7GmgCZkrFFELgSxp\n",
       "kekx3Rr/cMe66gm+Dl8wDGoVDXc0xSKS5auWjCsUUQ+BLGWR6RH7n+MV7mhexC5UDY149AxPlQ93\n",
       "NMUiYhfIuugORdRDIEtZZHrE/ueEhjvS6Ut10EibqlU+3NEUi1iPNC9Z5g5F1EMgS1lkesT+54SG\n",
       "O9KNzKr8o32VD3c0xCLikMMr1oIrFNEdAjm6RUeP2P+cwHDHqvqjfUHt4Nr4hTsa0liFIor9z8rZ\n",
       "KBnu2JCoIhrBA+rl+IU7ltHEZVrk+5+VtFE63HFpvppo1KW+g+MW7mhqmTEKReT7n5W0UTrckf1d\n",
       "gSqhUVx9zFq4Y1nJO9yxyv7Zg/6vZ2rhjuUk73DH78J/RaObJuu/5atP1tgw9smixyLtZ54vj0a1\n",
       "f8tXS1LaRDsV/G/5/gNWxvDspbBdRwAAAABJRU5ErkJggg==\n",
       "\" style=\"display:inline;vertical-align:middle;\" /></a><br>"
      ],
      "text/plain": [
       "<IPython.core.display.HTML object>"
      ]
     },
     "metadata": {},
     "output_type": "display_data"
    }
   ],
   "source": [
    "leftward_commutation = \\\n",
    "    Forall((l, m, n),\n",
    "           Forall((A_1_to_l,B_1_to_m,C,D_1_to_n), \n",
    "                  Equals(Or(A_1_to_l, B_1_to_m, C, D_1_to_n), \n",
    "                         Or(A_1_to_l, C, B_1_to_m, D_1_to_n)) \\\n",
    "                  .with_wrapping_at(2),\n",
    "                  domain=Boolean), \n",
    "           domain=Natural)"
   ]
  },
  {
   "cell_type": "code",
   "execution_count": 41,
   "metadata": {},
   "outputs": [
    {
     "data": {
      "text/html": [
       "<strong id=\"rightward_commutation\"><a class=\"ProveItLink\" href=\"proofs/rightward_commutation/thm_proof.ipynb\">rightward_commutation</a> (conjecture without proof):<br></strong> <a class=\"ProveItLink\" href=\"../__pv_it/theorems/1edb1c16c54650a9a666652574578f7ccc27260c0/theorem_expr.ipynb\"><img src=\"data:image/png;base64,iVBORw0KGgoAAAANSUhEUgAABIgAAAAzBAMAAAAOQC5VAAAAMFBMVEX///8AAAAAAAAAAAAAAAAA\n",
       "AAAAAAAAAAAAAAAAAAAAAAAAAAAAAAAAAAAAAAAAAAAv3aB7AAAAD3RSTlMAq1RmmUTNIjK7EInv\n",
       "3XZ/CtNrAAAACXBIWXMAAA7EAAAOxAGVKw4bAAAM80lEQVR42u1de2wUxxn/fA/veu/hs0JTiAq+\n",
       "ijRyRYBrC6ikaX1JoS2FFDf9J02IcNtUUaAKR1tRUVB8QahKJAebKCQYNfElQVWxCRwk6QOrYEJS\n",
       "ktAmbkqiCGHlEE0q0xTM02A3XOe1j5ndOe9hn113byTf7nz7zffNzf525pvZ+Z0B3CetoyMD5VRO\n",
       "XOro6ChGPZLPJyfmF61Kl2/2aCdtGz22568UBaKGifqFryvf89FPj+nD0nxPgKgiy+dTZQS4Tor0\n",
       "iq/HUyCax2ejcXJYI9FeU2QrN/5fgyiYk17a4yUQKYf5/Ax6WCVRX1Wc9cp+u2x+vqbmATEO27W5\n",
       "JrHOIbboq7lOybr3JzGDUl9+85TNDr1stP1KTduni/hKnKGTcjwkPASiCP8wabTr8OXN4Q6P7irT\n",
       "kskt6Qb8sYllZvc7aL+Bspd5WfStDNz4d7uFj0+B745EYYcyM0JdLgH4zzlcqEbfuD4Orn1whiql\n",
       "M3Lfmx4C0a18NkDvWKDWeGj9OcsMTia3pK/hj60sc9uAXVu5isaBC5xMexp9BgZsFna8jz6Wpgo7\n",
       "lJnh66Iir7DE4UILKh7oBrc+eEN++Yz8Pg+B6AifDdPD7w+YDdljCYVkcmtDWEKh0LrLdm0/kvmv\n",
       "crJK/NgGu20WfoIf9GXDOJSZ4esSxTVZnrBfOIO+UfC8ax+CoTelDbs85RkQRQf5/E00UMqdiRui\n",
       "vejvdigot6YQ0ggwrYei5+zaFWiIqzzMyQ5gfTUpWgiR0huHcSgzw9elCg+sTVn7hXb8vYZc+xAM\n",
       "/UgeDsY8A6JIjM8vpqMWzE5wEzI2YZXJxQlZhJ0nfeft2uFW0KamrTLlExKOpUULTaTAb4dxKDPD\n",
       "16W6FQ9dMfsFvBqonnXrQzS0Rz7JH/QMiFqE8Z8+WXdCizklqkhDlIWaMjmXJgOcZjPguDpk1255\n",
       "5vT1CU4Wuups4QBvXuZQZoarCw59oD5ru0BCHP+QWx+iIbJAEugliX8etaueAdFnhPw7tAeBJtQi\n",
       "z9OgQY1BhE1CiFzrqskIci49DHBM77gU9Ig/289rn0mB7xBnOcJiYW0eb+EDGlYM51A041gXHPpA\n",
       "bYPogoY4FRfd+jAMMfnN8qZ92jMgOijkXyMN+8SC2lZQT7N+/X64kQVQRB6AQA8vF4KBlI+FJX0L\n",
       "bkODha+R1/417mPSVlmYwEyDTf/mLbxNcpnhHIpmHOuCQx/4j80FDXGqu936MAzpPbm8aetTHgGR\n",
       "et4JRLtQs/aYS/czUAuCKa9uUC7zciEYyFayHgR1/ChMCWR5bRx/1Oessgi5+3UAM3kLH5BMejiH\n",
       "NjMOdSGhj/+8zQUNceoTbn2YhmhaJm/b3QmPgCg64DScoWc00m2CKKK26qMZlvszrL0NuTgdflQf\n",
       "zQCOGy2jaxPc1nIyurSTNe6wboGsEIWGdyiYmfPl07GTW/m6kNBnZ6vNBQlxtDdc+zAMISe4K5sp\n",
       "jYkgHPMIiKq6BcEzOB5O0PcVOoiiX6DfTZdDqIeTi+nkp+jxe0Bek+zmrWDcqpc4GV5+hFDGvMPM\n",
       "QhPur/YN75A3o809hEbpE3xdSOjzJNhckBCnqtG1D90QdnK4MEaqejwCorD42OEp63rcAgMmiLT3\n",
       "6FGX6/scmFzDiNjdqH8AvEAPCgZoe4otPRlWKpF42QpeNjsBwX2WO8ws4AWCezI2h8SP6VU0o+xq\n",
       "hMtsrUK3RMB/b9LuAqM8eBTc+2CGsJNBY0nEMYX6KYhIhzTdLYgqyBdPTCQQ7U4KgscAduRXgK/9\n",
       "UtbczkBX2Qy5so2TA74HkaT+oa/iae2XMvD5/EqjndlSY/vZmusfB96CtqhmIVjusL5YuX3zJPxs\n",
       "ig6Jn6OmQ8FMRU7tZtNM3RL22vZNBxdT8jVTnki592EYqsiRpfF35W3rv0hBtJDG5S5BFGggYf+E\n",
       "WiYS10QilnUjX49zoZ/DL4rx8W7GterMUXEYTkdblf50US6K9YGcBJJpUHoKTFquUhA9jCHa6hZE\n",
       "Ku641k6o4Wx2XHx8ksOCSNn6yLeL8dGfGyGIinXYhLoJf2uyKBAV6wM5iWxI6++rHZN2gYIIv+kP\n",
       "xV3HRHik3zuhQFRve16fMtv1d0OOtz+cz/cX4+M7rqPFdav2j4bD76LhQJmWKcZF0T6Qk+iLw3QZ\n",
       "ZymI/Hg+4j6w/hI6Nk4oEJ2xDb47oJzcp6cKXbzCZmd/7e094h5E4d7e49kJ1QgHbM+rkitDw/0y\n",
       "W8EA+M8MRN8C2OYeRIE0VJG7wi29O/er2v9EKyzNlJFQstTLQLQalBhotRIt5ejLcGvMBBHSXU0y\n",
       "Oy2hhva6Y1lT5dELXYto5sTiffsMkE/q6nS4w1YVgO8bRVEKti9+aau9hCj2rbzvqBHm1ZZvdenS\n",
       "cQaiqkyoQd+pJaRNU7bAZ0OZQMYEEeq1XqajhCUYD51zHkgMFX8PRPGSA9wbN1eQg+/QN5VCsqrQ\n",
       "opaN9l8FWO/Qv1rFuNK57E/ryiAaQxD5cjiudlqWDKCRDqbnkiHLcAazaFwdbLYEFne95eTAolKR\n",
       "BD+eGeCt3T59Ynozwqb9dTKnQovCIiM3CdXKYT3CIiaVzmVDz5WHszEczqARb+nGy5L+r286EZ2f\n",
       "pmf/YGSRus89xIGokmzohmil5V1c7geOIZmpEo7DC3i5oQn1TSrrnxTcfW2wL05YVFhR+NjIvQKs\n",
       "S+OTRUwqncv+zBgRD9h7rjJ50X1SwE1gDXtXoKgG9xPPL0uEY9EYO0tp5NmuCz13jxVEoZvIk50L\n",
       "mBP9KHzDyQFWWUPh0HRyzmR8nGq5XOG8zjdVBBVyd4fxjQZB3xTDfVFTTCudW/AXI446Y1snKpMX\n",
       "i0jBglPZgzqI1sfYrqpffgTVabI1Bp9lgmSpsg6SfVYQKaRcMI2efP1dzF2oqwjOWih6xypVKRaz\n",
       "aJPw8VXa7KRcmIxZtnKv2sMd+JvuCgVIEInZylAx9ZqgPdHGD/WL9sXG0pMXpQxDOfPQMcnVneiR\n",
       "Y01eROmCDqKKtL6raho0QyROz5aB/4G2tscRiDorrSAC0qUEuvYMwga2LXNxV20mrG+HMCMqrBI2\n",
       "YpYmXBjHTj5WLowhHreVoypcuKMO6K5wgNSSspWhYoonUmkUE+ljMMwWV5PHgLwoIypa5SMkKur0\n",
       "yHEkL6KmHNJBRPBxN/58HfqgSaVnC1Q1S3ui4CwORHSoArzBiW3hRQhJKwh/wmiGVdYaMcty/NjU\n",
       "oL9/snIVMbySZStHVeZMn3PnH0j+EPoaOd1VGPUzD4KtDBX7F34xC7TSCERR/WKL+O6n9ORFGVGR\n",
       "k4+MqGjQI8eTvGi8gKWpOgqdoPSjHmh+gJ69X0fXIOeCvvnJAiI8aJwjd7aTbMyqRjDfgjNalnyg\n",
       "A1X5CmARilm0o/hkZwNEG1g57TUAPOZs0QvRD6oyqzXcMIMUHQAN7yKjrppSsCNHynRaSjGxrw8z\n",
       "XrYxEOkdBVSLjVB68qKMqMjLR0RUNOiR40leBN85K4gCH0JzPBiD+2H1KXr2rwSsRb7V91J0ExEH\n",
       "oiUx2H6pAd/Z5njgIGhLf4yXslFGPQzNKfWw+gpTQcELOp831LUojk+0BftPUUQ0x2H74tMZsgSO\n",
       "LuBC+ENXqUr/Bm7HFz4a6lqQ0otEV3W9hDe6oDKGK4t4Mm4zXGnfgyvbjP4nIga+pScvSoiKgnxE\n",
       "REWDHjme5EW29di6szEunml/bNvCPYBidHHMUmpf1GpCj2qOxS0Rjk9WzoyBfMZjNAN6EpYL1iKk\n",
       "TNxe757o3Iyt0lAhLgmUnLwoIyoK8hERFQ165HiSFwmUORAFM/YzoRcXQLTpSNzQrcx/Yi14Nzvu\n",
       "T5nnxomtnKFhnD2LRrppKfOCtQgp41BbLeZ70aHWfoFFXXryooyoKMhHRlQ06JFjQ150TnTrsQVE\n",
       "foezwiCy6ZoZazCbcBJy5RKO5cSsxJV/mPmqKr6TKTl5UUZU1OWde24oZNwdUdGgR44neZHQDMrk\n",
       "xVKQF2VERV2eZKunIyEqmvTIMnlxLNISJxCVkrwoIyrq8ovQlC5g3BVR0aRHjid5kb5e8AKIljc4\n",
       "DGfJEpIXZURFXX4LA9FIiIoWeuSYkBedk3d+0CEiLBSVnLwoIyoacvhTQeNuiIoWeuT4kRf93vlp\n",
       "GXF6VnryooSoaMjVY5z6tRAVu0165PiRFyPe+ZEr8ef2Sk5elBIVdfnaDKd+bURFgx45fuRFD/3c\n",
       "HtTzE9qxIy/KCGBJpZgdTQWJikW4HX3y4mbwDogqeXrK2JEXJXdz7SMbM0UYL0hULAa7o01eDA56\n",
       "CESq8GPoY0VelLEI387nizFeiKhYjNtRJy9G4h4CEfTx2TJ5sZgkJy966t8yiP8gRsmVoeE6ycmL\n",
       "wcZrAtEtE/Wf5v2wDIbRT7+iYOjo6CsKROV/mldORtLYMlV7/sp/AfPGwAnfEvIDAAAAAElFTkSu\n",
       "QmCC\n",
       "\" style=\"display:inline;vertical-align:middle;\" /></a><br>"
      ],
      "text/plain": [
       "<IPython.core.display.HTML object>"
      ]
     },
     "metadata": {},
     "output_type": "display_data"
    }
   ],
   "source": [
    "rightward_commutation = \\\n",
    "    Forall((l, m, n),\n",
    "           Forall((A_1_to_l,B,C_1_to_m,D_1_to_n), \n",
    "                  Equals(Or(A_1_to_l, B, C_1_to_m, D_1_to_n), \n",
    "                         Or(A_1_to_l, C_1_to_m, B, D_1_to_n)) \\\n",
    "                  .with_wrapping_at(2),\n",
    "                  domain=Boolean),\n",
    "           domain = Natural)"
   ]
  },
  {
   "cell_type": "code",
   "execution_count": 42,
   "metadata": {},
   "outputs": [
    {
     "data": {
      "text/html": [
       "<strong id=\"commute\"><a class=\"ProveItLink\" href=\"proofs/commute/thm_proof.ipynb\">commute</a> (conjecture without proof):<br></strong> <a class=\"ProveItLink\" href=\"../__pv_it/theorems/7d8b730877437628beec50a15e130c1efb9f53de0/theorem_expr.ipynb\"><img src=\"data:image/png;base64,iVBORw0KGgoAAAANSUhEUgAAALMAAAAXBAMAAACyt2M4AAAAMFBMVEX///8AAAAAAAAAAAAAAAAA\n",
       "AAAAAAAAAAAAAAAAAAAAAAAAAAAAAAAAAAAAAAAAAAAv3aB7AAAAD3RSTlMAq1RmmUTNIjK7EInv\n",
       "3XZ/CtNrAAAACXBIWXMAAA7EAAAOxAGVKw4bAAAC00lEQVRIx6VVTWgTQRT+spvdTTZtTKGWokgX\n",
       "BEE8uNAieKjd4g+WCAa8FBWNiIj10Hr2p/FY8Cf0oog0EbwIBlLpLQdrRVRECepJLCz0IILUttZY\n",
       "W7S+N7ubbqOmJB3Im3n7Md+8+d57E6DuMVA3uNaIGv9DtCRwguYYO1vroN5Bv93LTU3nUpWIOkMH\n",
       "m8B+ds7Wzqwn2b4EAgs0b2LnhgvtJGr0AVf5BunaqYMmb/wNKPO02MOfbrtQ9w8yHRR9FogYtVM3\n",
       "sJEpYpno0ehKzCNyke/RkIVMp6t1SL2NTYCurj6HE1zQDfBKdI4FJ97Xk5Ov6qCOi9DT0Lek3Igb\n",
       "XcSSvvFhVB8HgTviU7ZCzHLC/kl9ms3NkekWU7itwLQDKEZoibWiwy5AEwWovxDI0HyhR5RT2CN5\n",
       "6FVXKBMf81KFt2y+DkB6Klyqhg9eSNosTdI4UWQjCaH+nEDkIqLjq6gfG7CcBugEvnhfn7G5y7A4\n",
       "WR2QLAf4vK/7J8dBaZBsJ4u9b8QUsCDP+KmVaza3lJIHmoGuVdQcXpfNKymvOr2tk/uLt3F8SVGU\n",
       "sE85RWUgZ/qpo2qM12FKxQT0d35BQpyvNnFnFIdWUvSRzyqSedQnGHBAQINTHa3wU9vBJCQTx7hB\n",
       "2rvLXT3Ce6g3QiXHn9rozEfo18/CchteElnsdWXshN7sp1ZSLH2aq4jScM/yqEdZYEKO9zl+zmkY\n",
       "jXXIkDbBPKsrIokX2kT1Ee9gwkcdLIwuAu0sNaVB++5RXyc/M9vUMuzVqmgYPVPKYvvyearyRPmJ\n",
       "JEZxxARw0l98NjTqW5WlpjQoC96GxlT1lrpcXpFEGww9D20R+nufIAqllKpS3sxpyCJXFkS2qlPv\n",
       "LbfeE+iHz4QmsGup0GP4qA/FcL+UEG+k3F8YG17Ze6sq81+PqeRbh9d4RB5URcOV/2BHa6DW7Gro\n",
       "p8oPZg3U6xjaegn+AI+ynUKnbArHAAAAAElFTkSuQmCC\n",
       "\" style=\"display:inline;vertical-align:middle;\" /></a><br>"
      ],
      "text/plain": [
       "<IPython.core.display.HTML object>"
      ]
     },
     "metadata": {},
     "output_type": "display_data"
    }
   ],
   "source": [
    "commute = Forall((A, B), Or(B, A), conditions=[Or(A, B)])"
   ]
  },
  {
   "cell_type": "code",
   "execution_count": 43,
   "metadata": {},
   "outputs": [
    {
     "data": {
      "text/html": [
       "<strong id=\"rightward_commute\"><a class=\"ProveItLink\" href=\"proofs/rightward_commute/thm_proof.ipynb\">rightward_commute</a> (conjecture without proof):<br></strong> <a class=\"ProveItLink\" href=\"../__pv_it/theorems/24a17822451e8cf18f497ec1be16b81b3ad455c60/theorem_expr.ipynb\"><img src=\"data:image/png;base64,iVBORw0KGgoAAAANSUhEUgAABaUAAAAZBAMAAADTWl+lAAAAMFBMVEX///8AAAAAAAAAAAAAAAAA\n",
       "AAAAAAAAAAAAAAAAAAAAAAAAAAAAAAAAAAAAAAAAAAAv3aB7AAAAD3RSTlMAq1RmmUTNIjK7EInv\n",
       "3XZ/CtNrAAAACXBIWXMAAA7EAAAOxAGVKw4bAAALsklEQVR42u1ca4wUxxGufe/NPm5PIQ4kwmyE\n",
       "bRFhYB0eCkpi1g7EJvixsf84gOVLrAiZPFikiIiAvGuUH0E6c4tlYkCJb2zzIwgM61eicBIcEISN\n",
       "FWfjYMuyOHkRttERHgc4HOZiLl3dPT3dPTO3s7F1IcmWxExPVXVV9fTXNTU9ewD4p4n9RWhRi65p\n",
       "OtOfbUa9s3XHxp5aacQ/xfAQyrUwfW1TmmWdVR7iVU1O+v/2FEbqDNMZvJjsE9MBPAVzLaiNGU1l\n",
       "pxUe4hXNWYsOujB3bezIrXGyjYGOz8Wq/m17mCE0d6Sj45GyulR7Pu7Y8gW3Newl8KKBkY0TNloP\n",
       "sxMM0wuwvcwnpsMFvDGtx+GYkcESa3BEcAImOcTrMCpfoi/iYQO/mDHo1E6/YcINf3Nqnz4Fwbtz\n",
       "vo0rZjS/rxELl1VeOxnYvKyLsiLwM6hLBMYXrDVrUkw/ho+kik9MxzGrr25BbcwozEAVniTySAhn\n",
       "uI1nPS++RLfiYTO/uG3IoW38lhzDQw7t7e+Qw71Fv8ZVM6rf2FVSFnyk8rqJxXCfi7Ii8DGoODEO\n",
       "d1n6eYpphHYi6xPTsJycXmxBbcwoyU5/2GfPa00qo734EqWkMjqx5rJDO3oEC9E+h/aPMUUu9W1c\n",
       "NaP6DRGvoasq7xwJPHLRRVkVNB5UGof0kFUOH6GYxtfEqO93xJmtV8UxpZtYoqufs7MOppTbYVS+\n",
       "TJivwlzr0fQFh/Y+lMXzunaCav7St3HVjOo3QCqe6GGV14PhD7soq4LGg2rDcqpk1f0Ps32PP/f3\n",
       "v+4b08n+/mPVFtTGjBaxEgNm5JStjhqMyte3OlK8nQ9e1LVjn9DKoaxrl6ip3/k1rplR/SYrYEws\n",
       "q7yPcQmcd1FWBY0H1Y51c3eGC15gmL4TYKtvTIfL0Ga2oDZm9DA93gfddiIJlCHN35q8+AqNBzjL\n",
       "t7qy8WFdO3HVXXufaqqRcd2M4rf76bPX5VQerYJDw05lTdB4UFh/wzzrNsxhmF4JsYxvTBPVleyF\n",
       "XBa4o9z4D+Eg7xXWqIvx2lypb/IRlewpIu/pKRNG5Sv0GMC7VlqPnde1U0Pu2u+pm1uNjOtmFL/n\n",
       "ihA8qPJoFRz4h1NZEzQeFNbfMKnA+TczTLeZiQIYkzxuauzoK/CNjMA0Semv0PZO6TFjvOra1VZZ\n",
       "/1HvQnZxfNGePWIrclzvDme8Gvd7oismmp5FL292OtLYFY+wPMJ0Ea6XnephykNoELwev/cQPLTh\n",
       "ELX65PxJZFDP8ReZZXAD90b5Rm+HqfJVihaDfJUPzL+NPNmfGZS1k4Ms/RhzVO2/sIXu17hlxtXv\n",
       "bzDvlxUerYLb+8SYdIH/QWH9Df+0+N0M08F6VLyMaLRhwib4csIMmzamp/NXxH3SVknigusE2Sqh\n",
       "GqTpK/GDWWiz3o0jb7LRavjUuKRr7LC4+ibAWpfdcZVd0cLCwWdcrl2EYUwSVrxMJALiMjEEFzNy\n",
       "8LYpHj/XF7FyBQ9tGdO7yCzXIH6WF5ZTrc8JjB+GcE3lqxSs8g8KBnlKk7I32ClrpygYp8CGM6r2\n",
       "e/Si7Ne4ZcbNL+DDYV5d4dEqeF5OjEkX+B4Urb9D4jVhKf823nmreBnRNkdJqQ2T6/mEXXtAlG4Z\n",
       "QqRLqnIeeMPNraQSyEMIBx08Qv5ZpcHNZKU416DOJV1hobgaR4Jy2UtX2RUtrMkklqrLtYsQP5Eu\n",
       "seJlIhEQk9lDcDEjB2+b4vFzfRErV/DQlmsPwkyRZRTk85+KV8RCIvz2Quyyyteott5eN8fIqSpr\n",
       "sy1lwpqmatOd6YRv48KMi9/4Rbs6sHhYBRuv2WPSBb4HRevvnUJnGsf0i7jp/BbC/Vsbjqfnllnr\n",
       "ffalEabc+KiM6cRNNGmno1INXv++63PYVklm4Xn0VCKZO86zdwwT4zpHqaNzSVc4La4OAE/4Kqns\n",
       "ihZWG7D3Wv3aTVihL8wsXiqSAqIyewhOM2rwwhSPn+vbsVbkl3Ndm9PTmBxy7KO2Nf/pWxg+OD9k\n",
       "8um3+Dqd+Dw73w/0W3qqIGvj9xBImDamuXYJE9Ie38YtM7O+djZzYrPqN03wHr+k8rAKbuuUMK0J\n",
       "fA+K1t+/BnSMmWYux/Ragj0D0+hzS3PJTDrDW0WDgmNK4tklEqZj+xlewvYudRq+7eYVVVYxAJdO\n",
       "zBqP54lyAq65dXJwS+R23y0QfwWsZ5KyEFR2RQuL5MAlLtcOYewHmEwxl7J4qUgKiMom6j2lCzV4\n",
       "bkrEz/SlWCdLed6hbe9NwVpcEEP2/Btvs7PFh0RN5hsIn92dvEHoeTZVMVxJPUXYrVqZkYPIHrAx\n",
       "zbVx12+J6TBuG97dKatzM8bsg7AfjiuWIEocL12u8sjaihwFCdO6wK9fXOwP5qnjw6zcoJgOlHmR\n",
       "9YsPob1MH03YMiM5ViPlByRMAwVnpExyTYxnmQdIaolMX6CXHqjSVuT1rjEOz39iN5f2S9IHuN4v\n",
       "mXeWyvBXyxUpNyGVcfhibB3TGBasNiljqxJmRd68tIXwFCZTzKU8XhTxgNAOlbEh3Pd+wcWMGrxl\n",
       "SsRP9aUhtMnborK2RI8DbB9ZDsGeS1V7/tlHCMGHx02ZDwiJVJ43wPo4YfRcMuErIz8Sb05c21jY\n",
       "sQAkTFvfZ7ZtHEczpGZcGE7lFXVmJrarEy5bdaz1xaXnfMd1T6jWJ4x0THiyKGNaF/j0i8a33MEc\n",
       "X2HlhvitKSuyrocuSGVZaymEHtmy5QmC6R1RGdNMvfeFK7CO76Ys6p1kJq3lr6okRb1bwhuENWuQ\n",
       "90viwy2r92NctVSOD1musNzsLjp8MbaOaQwrPg3vzEyaD+0wZ0r5URJCH96QJXa8KGIBUTtUxobQ\n",
       "h881hxk1eGHKip/qS0NgCi7aEqWkXZBgzWNryufnBeUzjoOmfSbGA/V4H9+A9EVeY2rWL3GMH+Zj\n",
       "NQnTqcV4fBUGoBRnrfnxeJXl6ch0B6brgOUO31EkACjHyGrQSg9UWS3q3YdwcjrIv5O8X4Ak1nRR\n",
       "78e4odtnLpjKZvMgebzULVdJEu5PweGLsUMLvlqVME3DYpubUUyBUphR+bORJMSOnVvteFHEAmJ2\n",
       "UMaGUCQz5zSjBU9NSfFTfXkInfK8Sdqz7p8qoJ5vPP8/g583M/tvmc1guknjyXK6Ehssf3pMN+mX\n",
       "OA7ny/QnXwLT7WnYAbFBkp/nhlnrnSns0TobrPrIxjRWJRfoRO2grx7tJDltAqNKLq0DU/k6YJvU\n",
       "kMZRbOwsQLrA+xmHAD4AtZ/FDQ7AoWCVdh0CA9+TmKtSEbbXaZ8dUi/OJp1qEqZZWBSLoS+BFCa7\n",
       "trpLwhAuiVuqwOPleixMagdlfAhtBRczSvDclB0/82QPgSlYY5C1p1dSYq6eajj/sc2/+k4zsz9Y\n",
       "bwLTzRovkYQZquQ/Naab9Uscp9aVaQ61a48PoCsbycAyWHmKtf6eg9VkvcXfLopdVIHpuzKw7VIB\n",
       "J6orG94Pxr0/hHAZ4gegqxg/jIcDXIWUWKQ9Z7h3YRYbxvy9p9gEd2Vh26KzJqj9BHez0RmmPT4c\n",
       "7p1ftLqkV/S+fAfQPl1Z5uiwxB7Pf6nF9qhYWOwj1HJxHS7za6u7JGQ/DicdWLxMxANi+Z4c+BDu\n",
       "dDOjBM/UpfipijQEpsBHrmgHyvZP0bbb0/z7YVc0JkdGBpuZ/XtcNxLWrNj7WRj/LkSLset9f5P1\n",
       "GlPTfonj9EssAyh/u5XVW8Yft2zSvo0r9K7UaU8a60yx/CyNrMQNNu5ncWvBaiokC+QutE/WGXYt\n",
       "PduU9/JoTaXdXuzqRalnR5GpdhJm3VuXB++4VX7jgBScWCxmvQ4t8kvpoobpiOlsqaRhesPrWaEa\n",
       "HfkEQEyEaO0tStzFDftZXCOTLgROSgK5C+3jEqyRCb4EGqbjp9Ufe1N3XpQ46SnS7awYqXnqWsHr\n",
       "t8p3HPAMTG39edy/TTKmQy6tUTHtUM25tKR2rmE/3XHO09VowVZa89rCtF/6yX/H/+/R+nPJ/2c6\n",
       "cyz3L7gtYOlyllguAAAAAElFTkSuQmCC\n",
       "\" style=\"display:inline;vertical-align:middle;\" /></a><br>"
      ],
      "text/plain": [
       "<IPython.core.display.HTML object>"
      ]
     },
     "metadata": {},
     "output_type": "display_data"
    }
   ],
   "source": [
    "rightward_commute = \\\n",
    "    Forall((l, m, n), \n",
    "           Forall((A_1_to_l,B,C_1_to_m,D_1_to_n), \n",
    "                  Or(A_1_to_l, C_1_to_m, B, D_1_to_n),\n",
    "                  conditions=[Or(A_1_to_l, B, C_1_to_m, D_1_to_n)]),\n",
    "           domain=Natural)"
   ]
  },
  {
   "cell_type": "code",
   "execution_count": 44,
   "metadata": {},
   "outputs": [
    {
     "data": {
      "text/html": [
       "<strong id=\"leftward_commute\"><a class=\"ProveItLink\" href=\"proofs/leftward_commute/thm_proof.ipynb\">leftward_commute</a> (conjecture without proof):<br></strong> <a class=\"ProveItLink\" href=\"../__pv_it/theorems/d5555159954ec36dd9976b10c25d6ca1bd5b24760/theorem_expr.ipynb\"><img src=\"data:image/png;base64,iVBORw0KGgoAAAANSUhEUgAABaoAAAAZBAMAAAAiUQQoAAAAMFBMVEX///8AAAAAAAAAAAAAAAAA\n",
       "AAAAAAAAAAAAAAAAAAAAAAAAAAAAAAAAAAAAAAAAAAAv3aB7AAAAD3RSTlMAq1RmmUTNIjK7EInv\n",
       "3XZ/CtNrAAAACXBIWXMAAA7EAAAOxAGVKw4bAAALh0lEQVR42u1cfYxU1RU/OzM7H292htnUGrGB\n",
       "nWZbQ7KFjmE1pR8yVWhFJE7xH+ti2dY0RGLLkDQ029LuaPxDk5UdTKlgGhnUNCWADlT7waawgBZb\n",
       "0zptqSGkG4cgEijFFeVDadne73vue+8Ob4JZaZ2T8Oaee3/nnnPn/t555703C0BwmTZWhJa05AqX\n",
       "9Nhfm4H3t76xD0FamaTpb2t2i9VXeubJso9VluFVTU636v/86/oGZ3WGfnQHZHUb/QjlWlybPOnh\n",
       "HysswyuanM4P7xzv/FisanTNmejsvK/khdr6LRLe+Hbn1ev9x45PrJ26ttjMAASYKJ1jrJ5P28sC\n",
       "sjpSIB/R1jVx8sThF8jQhOppq5BDvA4N+5FcSw9rwIXH6JMnILQoZyL/QCDnfbC2fovHjjJAFzoL\n",
       "sMlZwvrTflFaByDARMsZqx8gx1g5IKvjNLMPtLg2eRLhF8ZIl0olYbqVCcEUWz+Sm+hB5kuFR+jN\n",
       "B8nhjqKBjF0EaH/XO7Ot3+ZxkECW5lHy1iZxMhXc7mNjHTCuAraJehmro4T0yWzQupqeCTtaXJs8\n",
       "6eAfv96tyVND5bGtH0mKkrHfg9fo+2naW2IiwyQfhy96Z7b12zzOJe7m4myuTdI05S/NeW2sA4bY\n",
       "JuqoUFaHiRoNfLc4u3XTOLlyHU+d9bd04qFZ5WZo2I+FpqxI1oNX6CS7eD9kItvGCSv2e2e29ds8\n",
       "dtGzBles2iQxTnN51WtjHTDENlE0x1j6p7GxVwKzumNs7B/VFtcmTxbywgE+mzMeY9SgYT8WmuhS\n",
       "4MEr9CA7/sJEknrYmVbyzmzrt3kkZfimg+5nMNxkCi17hzNeG+sABJkomWGsvhXgicCsjpQgUWlx\n",
       "bfLkXnZcDMM6l7SVIC0u6rZ+Q64BOAUevELvrvsgh588dXXOZ2Zbv8Vj/L1Th+817/L0VPRjbtXH\n",
       "t20g0ERhXlGshFgmMKsJdCW/N8cD/jx3PqwbLFsADQO6Qs9V/posD4N6j8gte0pEa+s35AGAQ+DB\n",
       "K/TrRR/kW0UI7fOZ2dZv8Zg+B/AZ40Ewmoqm/K6Cj2/bAASZKDTKWJ2oJAvgdFm+1diBF+CLGcVq\n",
       "ktZfYO2t6NbXednXVEMeeXdkgVTiGxc+7/MEE0OYHF64cyf5aMfwdn9b+LphnPAG4K8bjMdrcMdo\n",
       "idk+KIL3xmZfgz8aXmLk+Mm8LnKZfVrc0SyDT/EG73dGOitmvynRYihv4LsM9Kv6pNbIn9EkXvJ6\n",
       "5P2BPSYIxZLnjTFlspEe/g3Oje4oxcCW7de6BqDhRHI7xhmrQ/WouitxyZqp6+CTyUqkolk9S9ws\n",
       "7kYFfPK07w5pSLgG6VGpfAngpBdsQIjck2VfCYOvLiLb1UVf49h+L6tFADR3tyGdfkcqw0lFrEGo\n",
       "KkaLDr6DyhULXrR1bBrO16DiQoq5EsnqZ0nxWIP4KVHD9sj3C7w/ApGa2W9KqCrfMHC82GuJfp1h\n",
       "SibybXpRr3s98v7AHqdk8CMT0+Q9unHvwJp/uaMUA3lY5BqAhhPJrDEqnmncpO5KXJdyUnJDdz2f\n",
       "1BUIRNmDQmgfQvXUXX/284ogbXkIj0vlKvK9+JRJGEKW8kfyLy/gkTKyjZR9jWGBh9UyAPoutA/p\n",
       "3aSpqjapiDUIVcVo0cF3ULriwQu3OjYN52uQceEgzZXICoR0pshmhQTHUvGyOq1I/5RC7LzZ734I\n",
       "9ghgvNhriaZPqiFpIuPv8Iu626PoD+xxmKyq7Yz52E9ORcm+lbRnumzkwBkYLJnhQ+OJxBdZ46ze\n",
       "QR9C/50S/pY1h9NzSrz1BsARiprx6R9jVievY4k7HUW1eP2bfl4RpCML21R1tRecv/k8l8UQcmNO\n",
       "0mo8y+EoiRuKYYzyf8IdQJnfD0s9AeiOVypiDUJVMVp08B2UrkTw3K2OTcHlGsr4Pt2NFvIkPR3p\n",
       "w9dxzer09byIFP3hiuCY7HfLkY8DxrO91mj6ogR2mkhaD8fPej2K/sAeSRkOw/3Q+7lTmSPrXVPR\n",
       "GX4KmtXKtxj4vGS1HHDzyzURcULTYLjMWb2abLZD8+TTS3IdmXRGtIoO4/+M5FN9iNWxPZzIEf3U\n",
       "Og1f8fNKIav4NX/wSO81qlC/OPvLPvUthhCZpuDvg7zcuRRsTMiyyMNqFWM3z69SJ2mxD1CO7BNr\n",
       "iH1LqjpGf92wNRbEXE3DbnVsAq7X0I3yvgctZDvdILqoc5pjzmv8U/ZDsob7HUJHeK5fHgC29Rt4\n",
       "Z9yYJUTyb584UyUySk67Jcu9HmV/UI/3k1Pp9xXnhn2wBw67piJR3JNHrFa+5QD8zhigUzNH7OCZ\n",
       "iDqhtVukylndRvYkRC1/8CZMKdFe1qq0s9w5A/LHEauBca+9RNJNTCSau0h2aZ81312AUEiiKMph\n",
       "h1x3ByqiBt6Uh8VvuE5yDlHyIiqZIZXRtkTx+iKlKvzFzWodY4LlSKYzv2X8KJMrdA3wuFR5jMwW\n",
       "6RZbPqh8E1cvoraIzZhLriGBn5JiNJJHATZPLIfQxrNVxTHx9kH1w6MV3A8H6PU5Lw/qJYbEh/oN\n",
       "NDyz9iq5GfIdDP1R0mMAbo+qP6DHqfS3UFmIPdsP51WNq6fa8FVArEa++UD8kDHApj4gvXkmok7e\n",
       "p7CC/iUq4zJMhyFIZXlrCYTv27DhMcLqLVHMag4f2f4+PCi8LhzpqnTAc+6inEI6VDk8WIjPrIga\n",
       "OHYGRp1xE84gWqVVbkiWzMNFbUsUry9iHD/nZrWOMZzrkzrzOxulSKHQNcCoVHmMzBbpFls+KE9C\n",
       "6koEz93y2Iy55Bo4AFu6VkI3CV3XQjXLc6qA7xuMvQ4kH5DHtnp8FGw/5Z9psxqoNOmE3ijCj0Cz\n",
       "OnU3Pb4Mx2Ewzlvz4vEqz9XtszysrgMtrMQzScLHUoycD64ChEIGVDm8tCQeL5LKsf08FOOu8phB\n",
       "wjfPnt/DtrGT/DvG4OSC8V2Qtkzx+tpHrkN16L2zB7Maxdj/hNSZ3yh+kcQUvoayVHmMzBbpFls+\n",
       "2Nvdu/g3wpUMnrnlsaG50Br6MTkQWq6Ekj1/aY59D77fzPbzvb4sVjfpsaOULsfGS82xOpaPFZtz\n",
       "EskTF7cgVk9JwxaIjZMcPSfCWwdn8GvtDSArIs1qWpucZju1BeBOYk3y+zpwqkSVBw75AtA2KSWd\n",
       "A4yZW1jluI3sVKKgwQoSOg4vhaq0e2sB0gUGL8LmurLlittXjNSK5K5qVjmFWK1jBLi+qnTiF8Kf\n",
       "AGXLFL6GMD2LmSpiPOTS/W354KxyR6FHuOLB87aIDc2l1sABYhkGWq6EyuOX5Fhs/cO3NbP9ZK8v\n",
       "k9XNehwkiTRczjfH6oGHH6o05yT1YIn//FRVIEdhKNuegWWw8gRv/TMHA4T68deK6qGqYvXtGXjm\n",
       "bIHu1FA2sgecO74NkRLE98JQMb6fHvYKCCkeSfvGCyMLsoyZQ9nwipHnaWV2K7Xl4P0ast7pJ1UU\n",
       "0Z15u05QRJrAaZHFbKXi9vXmhZF5RXp/sAqxWscI7HeJQqcPK+kvD4VrrvA1sB+PU1XGeMil+9qK\n",
       "wUTp56zQo6548LwtYlNzoTVwgFiGgZYrYdWw5tKvLtR9k9TExHhTFcjRoMgPyuPXIFqMTffn6A9X\n",
       "7PI3enViAppzkv4l8Ds5/BdeWXfL+e2Gda435oYcQkY706IQ5ue4RGRRL60iJDxZqSOHClILVVNh\n",
       "pGf9bC2+IAVH7jbewsgYkTC/tivzUz7rC2hLnPdArcEfCblf+u5slDDlShiz6tCS4MLKVsTq9oq3\n",
       "ZYqL1WteySpodOI/ALpek61dRd2On9yhZ14xUUNuJMTJpAttx7SuEIatxRdsgp6cm9U0RizUr02S\n",
       "x7zrC2pLnB+F6fY60D0XW0ODyXpaf0V3GYJYHfZpNWS1B5rzaZntsL+tewtzjeF2X+DJ1S35aLP6\n",
       "0vKd/43/DyTW2taPtKTH9v0XBrB+aS+SSygAAAAASUVORK5CYII=\n",
       "\" style=\"display:inline;vertical-align:middle;\" /></a><br>"
      ],
      "text/plain": [
       "<IPython.core.display.HTML object>"
      ]
     },
     "metadata": {},
     "output_type": "display_data"
    }
   ],
   "source": [
    "leftward_commute = \\\n",
    "    Forall((l, m, n), \n",
    "           Forall((A_1_to_l,B_1_to_m,C,D_1_to_n), \n",
    "                  Or(A_1_to_l, C, B_1_to_m,D_1_to_n),\n",
    "                  conditions=[Or(A_1_to_l, B_1_to_m, C, D_1_to_n)]),\n",
    "           domain=Natural)"
   ]
  },
  {
   "cell_type": "code",
   "execution_count": 45,
   "metadata": {},
   "outputs": [
    {
     "data": {
      "text/html": [
       "<strong id=\"association\"><a class=\"ProveItLink\" href=\"proofs/association/thm_proof.ipynb\">association</a> (conjecture without proof):<br></strong> <a class=\"ProveItLink\" href=\"../__pv_it/theorems/548d319e6ed66bbce6c8114c387df24531c39d080/theorem_expr.ipynb\"><img src=\"data:image/png;base64,iVBORw0KGgoAAAANSUhEUgAABEcAAAAzBAMAAACH9Ht5AAAAMFBMVEX///8AAAAAAAAAAAAAAAAA\n",
       "AAAAAAAAAAAAAAAAAAAAAAAAAAAAAAAAAAAAAAAAAAAv3aB7AAAAD3RSTlMAq1RmmUTNIjK7EInv\n",
       "3XZ/CtNrAAAACXBIWXMAAA7EAAAOxAGVKw4bAAAM0UlEQVR42u1df4wU1R3/7q+budkft5fSRm0L\n",
       "22oJDQLbeJKitSwCTSlSt5o0Rm09YxojmrAkjQ2FcqvxD02vcNqSck0NQyWkiMBB1CqXymlt/ZXq\n",
       "VpEQI2URtAEpIAh3QmT7fs7Me/PeMqs3FJZ9yd3OfPb7Y2feZ9/7vu+b7x1A8GY9/rgNrXZhtUY7\n",
       "PV2rFc6n61vZ6uLP0dZRbrTXan0NkaR4Xl1lJN/q6c/RzHfYQayZSfJl8dRo9buqlbTvTLoASBLr\n",
       "Fs/fo1TpVkvrcF27t1lI8lPtO8ls85NkifgdiQ6Ql7YjamkdrmsLFKxc9VHnl1YGx7XsriNv7e/8\n",
       "gjHgxzc+3Jlf3EA06prJ6Cflt5qfJP8WT9fSlykOGSI4MDOrUB/3hDhePFrj8CX41zJymEJ3c1w5\n",
       "OK6zLsiLKgcPQHRe3qeSed2Gy94K7sFrZr72Dl5uNztJYkPi+Uz6MmPYEcD3q533hQ73GPTi8XF8\n",
       "nPquu47qQRK3FYLjOuuCvKCybif6dX1JVrEeRb/jw4E9CGa6tLewrdDsJElJgzLlTHLxiINUPKGF\n",
       "Dvc2L/6XbZxFaTegmY6w6dXguM66IC+o3IO/27f6VNpeRb8SQ4E9CGZS2jRIYrjZSXJYvPYovWtL\n",
       "M0cdaAv6uZYd63Bv8+BG9XCO0wsdxOnJOHz/S8FxnXVB3quSJB/yAZ/KNvymWQjqQTTTpg9Kbm92\n",
       "kvxLPI3TgaUQPSYsUCrsWIfLCxqGx2FK3rMsStPDVwBW74TguM66IO9V6SECf5ZVjE9JMFoO6kE0\n",
       "wxcxijbFbm6SmCPS/Eo6NZEzT7mRXBkybFDX4WLk5+I3wHJnNrsI4BB1+cmhPXe44mfEddYleY/K\n",
       "tqpSJXkalOI6D6IZmiqYtws36Zu1qdrcJIlIcWs6R0cA4yP0nZtKOyMLaZuPDBhfv/kSCRd55+IF\n",
       "6MmCNY4c3wdAc5MZNIVfnufWfTiz7uI660ze07jKbjYHPdYtqKRZyBrUw24hORAd0t7E9kpzkyQl\n",
       "DaIp8tn3z5rxCVoe/pdid8Jl7F2KF2CehIvNwTO/mzUO3bnxdIwqRWk00I7udnLEsS7j3LqD66wz\n",
       "ee8wyFTeIGe2eagiqKTI8t0K7IGZ4dzRZ4hiw81NkuV5BUksNHzi+ZslnCei20ZzSxQ/Dj1lAZea\n",
       "g28E6ED9NJdl6droN7MD8TJ22rEu49y6g+usczveRCBV2U1OyhCtCCpp0s0TAnvgZthUqx9JrGPN\n",
       "TZLDJcV0E0c/77okSZt9fLYh+FXsJju4fP0cR9/TNLq1b7Ol5UMuLyPH3T0PCefWHVxnncl3fftQ\n",
       "du9KwRRJbSTBIQlToRmSgcAemJnYzGX7gBtTxiTwfHOT5I/y9IpjsBuB5tNZN2a+xS6I4/BXEZca\n",
       "xxN5ksa32Di994suL5d3uySRcWbdwTXWmbx15d9QH+0RVHCWDba6JGEqBh52knZgD8zMY7fmU6X6\n",
       "HHi0uUnyinSOF3oGHlhXlZxutHawNSPH2e44xzehnrVOsAMPvgSTbpinXmADe70H0ecftksSGed7\n",
       "7wwnRh0XrnUmb2zshhE2o3EVvE6/xXZJwlXQejyxFXwenM8ueWBmfvkBdNhOckDZtjGSkADv0qAk\n",
       "iRAn5/6DGtbHcmhfAWvVCRu+Wbvb7UaavHLxRbYXhzQO/7bzAwdfV5sP0VUnBvjdZYmri2udnXfl\n",
       "3HHKh3PrDCdGHReuVy4fqZpD8KagAmseHlMElyRcxZrTORv8HtzPLnrgZsaSrGu9r/70IiXJbBr3\n",
       "BiRJvEii53M/TXJaRrzZqUlqJaNgNHJl6ZvV+OhYh1Q502ccKaveilZGxcPLMMsE+FW98L9KSXIf\n",
       "tt4XlCQmHngWnfuzTfSojHSduRsXPfiA3YCPjkxDJGnQOvSgsSTWV2iAJA16MI7AzgnOzqeybSpQ\n",
       "krTZNNsfMCbBG8tbzn2SxEZ8iSH3S7Z4wXNKpTdqtUZ8xN9XwqNkHX6ERmxjrKrXjadPVUfBQyIL\n",
       "H+brDxB4NY5JEsOhevDA9Qr02n3ukyQz7ItS+qDVFK293gzV0cdWN//cteu14CRJ7dr17sC5f+nJ\n",
       "kz5oaYsQqvafunFRNyPJ9wH+EJwk8TK0kyHQ8r6jngqt/9+lx0+2un8UWrrCSLIQDGezSjH/bX8K\n",
       "vpN1SYJkF5KTJzxxt/WyUtcVeejjwTn8xFw190nFE5w+eM/crVud2WPM4HoFEb0iAOOfnuc8BhI5\n",
       "0urh0SDJECNJu50s8s0qqS27eAV8LWnHbZckaNR5iuZZPMFu8qg6FeOIxCqQGeIn1wAcVEhL8E9y\n",
       "ZKeLhlhv+lOoooi5p7+YSRpfL7dIEgpJolUct85VjdloJoJLq4WkZ7qByTRuTfR6AuybXldGz65I\n",
       "pAAxp9vGAExXiItw9FX0w9d/+Ilc/8asV2QWYkcmCVtzrekmlOkGuvGTs3izKjZz2Z7MtDI92gew\n",
       "F8tN+MZSgSRt5IFayLR59uKrtytXGK5IKgcbnDTtC2C9pRAX4R7U3SbrcgMPVPf7EwmuCKkLQCPJ\n",
       "1XxOSg77J87Qb6lx3hn2tFLdwBW2zAe6WYV3fLKZLDsq0UXjhOSfbvGSJDmedEQ17i6EM/A9lQcs\n",
       "ci/txJ69XRc5V3z6ihllxY0Q4a963oqoc0cekXXkY8Svc2KjjC9PchaKs94LqwMT1fBJoizSSmU5\n",
       "SZZk2XPCeMenTHYkyN5Pgnz3J0Bhv5ckBtk+TpRRjGGwVdFNKJhITJ4tXxkWYavwa8Aaw7cWUHyy\n",
       "ugA37JO2DCjstBdp1xEPKYL7PLzoHt5IiJE0f8iN+pNp4RdnYQ8hFWjt9S0cNUVaOlzTzlSk1VHg\n",
       "JImU+VbgWOhlz/nhvZ/YXf39jyCSrG/zkgTIkBAf3HwS7mebjnMHx9kp2CRHNFgk5cQbPUVzks3i\n",
       "E+M4DFlSr1DYaTjKiTIPKfxFyvk8UBHSpvb39+dQTDLA70/0uHy94RdnEQ/hFGi12ZKapkhLwDVe\n",
       "dGZURVqbBsDzqADdrHoZ9kOPSY9mmeYAHUkSkwWS0KkEjBHnGU7EgLKB+CXNNlhkEY834LYye8IS\n",
       "xSeJESiZQ9LIRuCuS7tueAafdtI8D/EQQUNdpuTzQEW6bpwI8Gs6ksAA71vzmHy94RdnEQ/hFGjF\n",
       "CqKapkhLxDVedGZURVp8g4+NKxlYj3d8xsK0OD3aOYHm2K4E/uSLhyR4JjpKunA9Ges70PCzAp9Y\n",
       "A+QXeqEiVwOGjJNgbQdMEiTeY8MGdM3tRVfchSf3pYoTMfJEETJF5sH6OwDeJ1nhkXdEJvelgeb3\n",
       "EEmecQYA+VGBs1CcRTyEVKD1qqimKdIScZ0XjRlVkdaUnJck8fehN5fIwp2w8AA9+jAPi9AHNXeU\n",
       "6EMkAkmuy8KaE0Xchb25+PNgXf8znIpFJ+ZL0FsyXzJfYCIojEDHU08NzskRkvTmYgsGn3wESKLX\n",
       "EXfh9vJauBarWLOeOwBAPcCauYdskuxFb1D5kiMSKaP7Y+AvxvgPnv2tc3k75ICB3q0Qi7Ooh5AK\n",
       "tO4Q1HRFWiKu86IxoyrSIg+BCk+m5eQj69n+FXJaXmjveLS2Zrwmolwi5x6T6ca5t3ZV4RGxfCJU\n",
       "8q6K7CEKsoc07EVT5fr+fvHDfUWOkEIvzqIeQirQ2iyoaYq0JFznRWNGVaRF8vBekiRs/5E0Tkkk\n",
       "WfZazpFtq33qVeTP4zxXco/Ng1tciQW1isrjajSvjC05Kj4P7nM+NzsaE1Vx+XTpGsIvziIewirQ\n",
       "miqoaYq0ZFzjRWMmppiZXpFJElMc1SeJT9Y98fZb/szisketSl4pogq5pHE2/OIs4iGsAq3LBTVN\n",
       "kRbHrcFOu44Xnxk2NA8pclcySQIkaVvFWSxVpyrOIh7CKtBaLqhpirQ4Hod4pZ4XyQxnqD9T1OzF\n",
       "WfEhBUlCLc4iHsIq0LpVMKcp0uJ4R9EYqedFNsOmXP9IEmnyMs/EccV0E2pxFvEQVoHWJMGcpkjL\n",
       "qbqyKUl0XiQzQpGWmHCtNjdJeBUBb+EXZxEPYRVoTRPUNEVaDg7JSj0vkhl9kRaN/puYJNLyJvzi\n",
       "LLKEDKtAK1iRFsfhN7ZXXC7Skszoi7Ro1eeF8+ewwi/OQh7CK9B6W1DTFWlxnO+86oq0JDO6Iq3m\n",
       "/3NYMemxo/CLs0bfg1OgZagfltDU38DP4ReNeNEVabVnm50kcLd4Gn5x1uh7cAq04vlGSGKsfPAH\n",
       "DTjRFmndZjc9SXrF72z4xVmj78Ep0FLXTOqKtFK1WiNPx2iLtFghcjOTJCNeW/jFWSF6+H34t8tf\n",
       "pHUh/Nlw+R8QhF+cFZqHzFmo0PcXaf0YPhNJrjqv/ilSWw5a7bM3kz6qZj2+sTGStP4p0gXU1tIB\n",
       "Af9TpP8BW5uB/tLsQfsAAAAASUVORK5CYII=\n",
       "\" style=\"display:inline;vertical-align:middle;\" /></a><br>"
      ],
      "text/plain": [
       "<IPython.core.display.HTML object>"
      ]
     },
     "metadata": {},
     "output_type": "display_data"
    }
   ],
   "source": [
    "association = \\\n",
    "    Forall((l,m,n), \n",
    "           Forall((A_1_to_l,B_1_to_m,C_1_to_n), \n",
    "                  Equals(Or(A_1_to_l, B_1_to_m, C_1_to_n),\n",
    "                         Or(A_1_to_l, Or(B_1_to_m), C_1_to_n)) \\\n",
    "                  .with_wrapping_at(2),\n",
    "                  domain=Boolean),\n",
    "           domain=Natural)"
   ]
  },
  {
   "cell_type": "code",
   "execution_count": 46,
   "metadata": {},
   "outputs": [
    {
     "data": {
      "text/html": [
       "<strong id=\"disassociation\"><a class=\"ProveItLink\" href=\"proofs/disassociation/thm_proof.ipynb\">disassociation</a> (conjecture without proof):<br></strong> <a class=\"ProveItLink\" href=\"../__pv_it/theorems/588c4ad9ef17104fc1f0112416f2ab0a35bfd2f00/theorem_expr.ipynb\"><img src=\"data:image/png;base64,iVBORw0KGgoAAAANSUhEUgAABFcAAAAzBAMAAACgWvqRAAAAMFBMVEX///8AAAAAAAAAAAAAAAAA\n",
       "AAAAAAAAAAAAAAAAAAAAAAAAAAAAAAAAAAAAAAAAAAAv3aB7AAAAD3RSTlMAq1RmmUTNIjK7EInv\n",
       "3XZ/CtNrAAAACXBIWXMAAA7EAAAOxAGVKw4bAAAM3UlEQVR42u1df4wU1R3/3v64nZv9cXspbdS2\n",
       "sC2W0KCwjScpWsui2JSe1C0kjVEqZ0xjRBOWpKGhUG41/qHpFU5bUs9oGCohRRQOola5FE5rK2iq\n",
       "W6WGEKmLoAakgCDcCYHt+z3z3szbnW1u6N1yL7nbmc983/vszPvMe9/343sH4D+ZzzxjwVi6NFO9\n",
       "lZ+sVHKj6f4eH6viYUgbqUZaKpWeusSSH1V32ZQdq+lhSMY+dhBuZLF8VT6NBU4YG3UFO1JBe+Xq\n",
       "S0As4U75/EP63Ds19dFZX+lLPbAPg7qVaDn4x3Wn9ko83fhiWSG/K6E+8tF8wttah+vSYjeEGcJr\n",
       "P2v7ioevpMO1SpftD7rczcNtX4r1ebihGlzntdrmKX2n/W7ji+Xf8ukG+jFNiKIJO24Gf2d1uMMF\n",
       "cuKhCoevwL9WCYYEeqITiq5rWlzHINlDs6VkO3oEQnOz7mxOXMOiK2aR9kleZTW6WMID8vlN9GPW\n",
       "oDDAj7eF14cOdxToxCMTeLv1fTHuIgxdyGphznVNi+sYJHsI5+RsG/eiX7cWXNkkXMOiK6Zd+yib\n",
       "c40uloTSGFPtxJcPCaTkcD10uDM58T/v5GpKCoeHMMxE+Myy65oW1zFI9gBvyNnux+/6Anc2Cdex\n",
       "aIpJaKdRooONLpbj8r2H6FNbmTopoG3o50Z2rMOdyYHHysczXGboIJIRDBNwHRTUa3pcxyDZA9wt\n",
       "ZYuTL/uQK5uM61g0xTTrnZa7Gl0s/5RPI7ShyYVOSQOaEjvW4eoAiOERmJZ1DKOSNsNugHV7Qb2m\n",
       "x3UMkj3AVilbFzH6kyubjOtYNMXwQY9HmmY1tliMIaXfJZUbzRjnbH+yCCnW0Otw2f+08XmwWvRy\n",
       "lwEcEwzGF8cO3G1n4de0uI5BsYfpUradZe9sCq5h0RRDpxrm7sdJedO2lBtbLE2Kf5vM0BYh9hka\n",
       "MNJHb6QhafGWAuObtl6h4LL+bDwHXWkwJ5DjBwD2CYYU6t6vynIGcY3jjMHGdQzM3h6QSNk+YP3T\n",
       "051yNoab/W1WFRZXMayjHtA+zJZSY4sloTSqCfLdD8+e9QUaNv6HYvfAlewqxXMwV8HlJPDU72dP\n",
       "QE9uEm2zCqGcYGhBTzw+JBj4NY5zBoHrGJi9SKulbG+TM8s4VpKzMTwCkVI1FqUYrlT9TFN4sLHF\n",
       "sjrrIRYTNafnQUxgT0FPmb6KFD8NXUUJV5LANwO0ouroYHNxzQXB0Io0Gr4gGPg1jnMGgesYeDk8\n",
       "LZCK+4CcFCFUkrMxvDUfG6rGohbDumJ9y2KeamyxHC94dEMR9PO+LZak0cN7IYJfx6pS4Or9cxy9\n",
       "l0n0aP/FRq6P2AxYo02n7fUUdo3jnEHgOgZm3/7dY+mDj9vfmGUjUyNxEGLh2RgetqhYdCxKMeGb\n",
       "Vh0CXpinzwKvNLZYnlS7XeyjzQc6T88efeo77IY4Dn+RcSVxPJolywMma7cPftlmwBpd3WmLhV0T\n",
       "OGMQuIaB2ZvX/hXV0wF0PkPKhmfsYLstFp6N4xAvVWNRinl6QTZRqK6FpxpbLLvVyQXUrsdwQ7u2\n",
       "IKrSfI+NJTnOVuM5vgXVrnmGHTjwFVgag3zqBp7rtIee9yMp/d2yxcKuCZyv9zOcFCxobAZmH9vc\n",
       "CUOkt+uQsuFx/h2WLRaejePwW8tpLu6BsSjF/OpjaLXE5IJn2snEQhzBiX7F0kRIRv5GEfNzdaBR\n",
       "AnPtGQu+XbnPrko6AWbjyywnDknsBu7hBwLfWFkEobVn+vjTZRNfiAEur7S13Zux2y5+TeCcgeGk\n",
       "YEFjM3P7prIxAO+A6PH4HNv6R8flwRaLmENkeOwJ2XyPwqIUM564RNWagpl5KpabqTvtUyyRPPGm\n",
       "R/40ywUVccxwiapUZ6tysXruLHl70AyQKKZ6YieKECt5Xg55w/AL+GU9LLtgtgHw62rDhTIVywP4\n",
       "Hnr8isXADdGykd8LhU6qSHvtqlz28ENWHRytqaAZoAu1LeGeHESy9Ygl9vjDP6qDJHYC9k4WK62e\n",
       "aUuOigWvfsczvn0WvJC9beSLJTzkmliyX+nli3d4Znq7UqmHI/JR0AzwE9SKx8Zbmtcz9uK5smd7\n",
       "VKnUszsnmoZPs9UbDDySx2IJY9fev4N7DfrsHPliSQ26vJieoDkDZPhD8E+spVr/2NrDRkP/2L//\n",
       "Tf9iSezf/37fyBdL/KwLWhk4aWAMqYvgJH5S1XfqZGL5IcAT/sUSKUIL6XZN5xXvjtj8/4klchbG\n",
       "0vClZImJZQnExKKYR7+45wX4XtoWC7JdQk6eLTpUscszr23yyOf9c/iJsbbjeY/9Wy74QMf27eLV\n",
       "Gte/yUOQThOASS/OFdtQmk6M1fBwimWAiaXFiuf5opiSVl2+Br4RtyKWLRbUCr1A52kcTnH8pPdU\n",
       "jjAJlyA1wE9uADjqYa3AP8uQ1TTqgr3jnpKVTYwDvflUPPbN4phYAhVLqIz92w6vthz1UDCxnIs7\n",
       "uiGYSv3baLfDEb/tLU8v2zZpykFYVN84gJke5jIcegP95NgJ3jHsXgh2msxGKknFYXtmrBsKtBuC\n",
       "TryDF08Rhm9adSA1o0iPDrEAhMnfWimJpZnsD4ZUs2MPQPkuT7fMNklk4DkxVfAqmO96mMtwF6p2\n",
       "g1V9DDdcD7onIWwTEseAWpbreV8VH3R3qGN17pV8+c7CwYVti4AuiuEVpXQqzY4KdCg4Of7HO5xi\n",
       "iU8iFVKO2APoFPzAiwGbLKWV2XWw/TJRaReumVX0cI5k+OuOS03ec08Ok43ka0RuEb5TyjXPchGC\n",
       "zEZlutOXWNJcLCvSbLcxXlEqkhUPsrYUJW3BZMgddoolRparo0Xkg/AliNuQsxGderPaC2ETNnq/\n",
       "AcxxfGEE+S/rcjDvkLIUQWGRXqNVSBgSBHcxvGYfzicCiRs/5oW6J+WCDzILKMBMHmBqgsg2P9qW\n",
       "XV7HlJCv4DLHPEuOi6WpyJccx0M323+I15bC9/b2PobEsqnZKRYgTUSkf+tZeJAtoXb0T7ASsEX1\n",
       "eLBJQvgjXXnjaov5L7HTMGAqtUNhkbAXFGIMCdzxZVwM1ISk6b29vRnks/Tx5xg6rd5v8EFmAQWY\n",
       "+QkuS71lwZXv+mfwF1xmpy194NiiQBfFdsFh6DLo0WzD6KMtS3SqJBbaxQDeX8P2lyIlFGNIZ0ov\n",
       "hE2WcX8EFhbZRlHkv0SHoGAMKC0dgdsnts97CZ+20XkiwtCUxvNSLgZq0j5/CsBvaMsCfbyOjVPq\n",
       "/QYfZBZQgJmP4DLzKfy+D/pm8BlcZie+kMjamRRswitK42FGhB7tnUzn6q4FsvtGFgvuoU6SqtxE\n",
       "+oBW1BytwSdmH/mFPqjJ9YCh2Fkw9wAWCzLvsuA59CRa8ra5DU/tSeSnYOTZPKTyjMH8GwBeh1nj\n",
       "sBcmU3uSQOcJkVheEg2CukXhIgSZBRVgVju4rBnHoIltkbUZfAaX2WlaximWyEfQnYmm4R5YcoQe\n",
       "fZqFZehLG+8V6CYWSSy3pGH9mTyuyu5M5BUwb/05ntpFJ8br0F0wXjdeZSbIzUDH08/1z8kQsXRn\n",
       "wov7n38MyMSxMLfhluIGuBFnMWfvOAJAGWB9xzGLTB6jC9S+IEyaikvxOiuelPv45d+J23tPdVno\n",
       "0wswyCywALPawWVkQsvI+WXwHVwmEtmkKu2Uy6hH5su9a6TRtro9Zp8j1/aUs4gQt8jYx6QbEs/Y\n",
       "KnswordiCpSydhaVIQQqQxIOoi50U2+v/OW+pnpQgQeZBRZgVjO4LHae1FbRL4Pv4DKRyPy+UyxR\n",
       "y32kTM0oYln1ZkbYNlfOOzPyfUE7CvaxcXSbbbG4UvJiXIf6m/EFkcXFYO83ul3kmOL1asxU7iH4\n",
       "ILPAAsxqBpfFlZ1etRi8gsuqp92qWMIeR9XF4rK1T5z1l61trjJqs2Q9TbxcMqUdDj7ILLAAs5rB\n",
       "ZUnm2vpl8B1cZs+BqWLxMek7FmTGpvy8gswCCzCrGVyWIMN+0zeD7+Ay8b42eJBZZMBDLIEGmQUW\n",
       "YFYzuCx5gs5x+GXwHVwmT6E3rliipz26oUCDzAILMINawWV0hqXPN4NXcFn1CdxyY4uFRz3wFHyQ\n",
       "WWABZlAruIy4FHHLN4P/4DJptNDAYlGGQ8EHmQUWYAY1g8vQOD6Kd4EpDGpwmRKL5iO4jCUazXrp\n",
       "/Jmw4IPMAgswg5rBZeacNrLIqjC4gsuUWLTawWWsS2/4PxMWVrY/BR9kNryliwAzj6SLF6qToXZw\n",
       "GevC040uFrhPPg0+yGx4SxcBZv7FUieDj+AymhZaDS+WbvktCz7IbHhLFwFmHrWsCS6rk8FHcBlN\n",
       "rC9sZLGk5HsLPshsdKaWmj3XpfDn2NV/9LByTBhe6ZOaFj+F/0ks142qf07VnBmTwjAkg26lM5/Z\n",
       "XJ9Yxv451SWYNtAGAv9zqv8CzbaB/rxUyvIAAAAASUVORK5CYII=\n",
       "\" style=\"display:inline;vertical-align:middle;\" /></a><br>"
      ],
      "text/plain": [
       "<IPython.core.display.HTML object>"
      ]
     },
     "metadata": {},
     "output_type": "display_data"
    }
   ],
   "source": [
    "disassociation = \\\n",
    "    Forall((l,m,n), \n",
    "           Forall((A_1_to_l,B_1_to_m,C_1_to_n), \n",
    "                  Equals(Or(A_1_to_l, Or(B_1_to_m), C_1_to_n),\n",
    "                         Or(A_1_to_l, B_1_to_m, C_1_to_n)) \\\n",
    "                  .with_wrapping_at(2),\n",
    "                  domain=Boolean),\n",
    "           domain=Natural)"
   ]
  },
  {
   "cell_type": "code",
   "execution_count": 47,
   "metadata": {},
   "outputs": [
    {
     "data": {
      "text/html": [
       "<strong id=\"associate\"><a class=\"ProveItLink\" href=\"proofs/associate/thm_proof.ipynb\">associate</a> (conjecture without proof):<br></strong> <a class=\"ProveItLink\" href=\"../__pv_it/theorems/725dffdd65cc04491d764d044a4af92688aae1980/theorem_expr.ipynb\"><img src=\"data:image/png;base64,iVBORw0KGgoAAAANSUhEUgAABVkAAAAZBAMAAADZKjOyAAAAMFBMVEX///8AAAAAAAAAAAAAAAAA\n",
       "AAAAAAAAAAAAAAAAAAAAAAAAAAAAAAAAAAAAAAAAAAAv3aB7AAAAD3RSTlMAq1RmmUTNIjK7EInv\n",
       "3XZ/CtNrAAAACXBIWXMAAA7EAAAOxAGVKw4bAAALrElEQVR42u1ce4xUVxn/dl535s5jZyM2tAZ2\n",
       "DLXB8JrKQsQXQwumiE1H/KcRtKuNIcUahsTUrFR2bPpHm6wwbSRCo3JpSWNDoQO2PnYjLNRKpbFM\n",
       "7COEsOkgRQLClmKBbUlZz/t1z11mkt2KOl+yd+73ne+c33fv+d1zv3POBYDGZcpQCVrSkv+QnBvK\n",
       "NePe3bpjEybOfzFC6SO6PeF8i63Xh/yddkrALXaavPUPBCJMhHxr4m9PtE7ZmsXKtAbZ2oZ/QvkW\n",
       "ucZbQlXyEztvLw6yB8maAIQFox0d95X9hUH2AAlvfbfjhs1CzfgIseuxjvw6fz33dMfHnGrDMKr7\n",
       "CcrWJfh8VYNsjRTxrWtlr+MuT9OfOZKVN+HDBhjbLqXNQ4d4nTFz1O9NEf6CPEcsLQXZVVHsqQpA\n",
       "p2T3aqM486oHN7/mD+zsGQjdmbcEbEdR3WMeYetP8Ium0iBb43gk7mmRa9zldvqz6LKwfAkf+PgV\n",
       "ZFeGO9zvCUagSGfJ500QnKvopfqev6UguyaKvReh3VMQJV16sftLFEfksi+wZ46gw10lS8BWFN29\n",
       "QNiKSZvMNchW8hTtaZFr3GWQHJPrRoQlraSrQXZVakq6+rt9ZZ83QQijdsJX/S0F2TVR7AtR+wvl\n",
       "uJjytOLYIZxpDvoCux+7rbQFbEXR3Q8RtuKJVqzhWdbc1mRrQtJWek/XZy4IEx5BImwUCbKrgseQ\n",
       "29icrP5OzvSmCG0oo4gd9LcUZNdEsXdiMsmEMJbXivfhY7xgBpYkF/GwJWAriuF+L10T+OvQ0CsN\n",
       "szU1NHSs2mLXeEuE3tNC6F/aMkCanQfZzWWAGmsN5uRNb4qA8k13StnfUpDdtzCRFmnutiMKw7Jq\n",
       "sfMhSQfKZmC95PhrS8BWFMN9N2XrHQBPNMzWSBkSXotd4y1kcIJoLn5F2iYDDLPlmwC7Ps0qQ4a9\n",
       "m5fDxqrpTRE2/mr4hrylpSC7LsIef3/4+L1q0tytFiev2gPbVw8K2IpiuM+nbF0LTrZhtiLXtXR1\n",
       "QS2w89f9SEenINQxo7heHrx0jl6D8660oenvUX5tdrsmaAKcZpdTgN6s6U0R3ilB6EVLS0F2XYQ9\n",
       "g2ZQM5Vlq9CgBnXZHthbpaCArSiG+0zK1oSXLILbGXAfnddfgC9kBVvRMPwCOX9Wmc25L1urSpdH\n",
       "3xtYypX41mXPWyacqguR48v6+8WC3qSBHf4L06wJP6pd15isBm4GFhBocKEacWDQ9sIUXhmE04sX\n",
       "vY+Cms/G21KIpX7UvmP3TYZdl1VwM2v7Z4s7K7xHuTdF+AUes8rwVLfRErW7Ax3eWAjCnkDsTI4o\n",
       "d+O8BnWejhL8Qnhgh+kAwVFkwHaUw/p4spGyNVTHk6xbbBU33LgJPpn0Ip5k62w2ydqnpOHJC9Ye\n",
       "kS7hGmT4FBG+CHDW76y5IPlmjtwT+ib8G72fuujWhIGKx9o2Rcc3QAw4XGGBM1UEFqCDtVBAiYip\n",
       "hwzPUt28IsIlF736UMq34RwbsKpsYZvZC3CnbjdkBl813wXQXuM9yr0pW/EQvbAeH64ZLVF7BCK1\n",
       "sRCEvT2rLCGI+T8vThO2ThcXwgN7iziVOYoM2I7C3Ll5Jdt57cZLXMtsb1eU0sK0eiEpMwGIkXUy\n",
       "iPYpWcXdr9pQFZe2AoTF+vYkdGMsaZfqgqI8hP74Az4TPS3+x1C3JgxUvOG2QtGnoVORzHGFBc5U\n",
       "EViADtZCDiUjph4yPEt184rIexqz/hj6m8WXeB6VTwOyX4TesmY3s4l4RTwQ6UHRo8ybIMTxZK2z\n",
       "CKGajsDs7UVnZCwEYd+IrrjtotJbNbWYrrRWxYXwwMjSaRIEigjYjsLcucxibN2DF1HfwOPb7RuO\n",
       "ZxaU6dnbdLcLpn9qvcrW5C1koM3ElFy3/m3ry066pHKwU6Q5B8B9ze+tuaAJIbq5cTY2O3gEfMiX\n",
       "oujWhIlaoZNHridAmR5yhQXOVBFYgA7WQg4lIyYeSnj+6r4rSuBH6utAt0w5W098nP4y++c4W7nd\n",
       "vN+3Funzmqc7tW9orRAEnG/GLwl2iZaYPewxHgUgCDtKc2FjN3R9djh7AudD4YpajLcaIOmJC+GB\n",
       "4S0F6Jco3B6Awt0JFQEWMLY+iPrTxePaUyvzqWwmy85KLolhevLJFQpbnf2UoBG56pqBL9tAscsD\n",
       "lHC9J7omC5ZdnbvIkkqqLkimqMNuzda8YU0oqGwQIwMa19EAuEKOBVTBgTvf4aoMzK5rdbWrIFBT\n",
       "dA8lPH913xXhJSAHv063liRbd9LIhR3+qNmfQz/uJWAH9PMmLX4Q343LtEelN1lkiqGmVq6WbGVl\n",
       "wg7JmmonDQsYxf9+9Ez82XPnvQj74bhcgOPFc/IQ7ZePHQ8ML8Ot8CQKswsUehDNMHdCRfryJ2xt\n",
       "K7PF4x/9A9rLBBmfedE8zT8KpxW2AuFUtIySTIctfN2NMrjo7CVmIoBdEiWWqrrozdnjsQR1WwGW\n",
       "v208V9RFyJ9oRxGEFHm/mgipgo2tMrAEGdCITsAq6jodVXDg8HOu0sBIXUUPqEsLBTaCUiLGHmrQ\n",
       "vuopcxITr4G79ZIHnx79nmQrXWqX9vhR1Q5p3MjrwA98qf2Z0dUQ2nqpyjYcuDdCgDb8Mcrj8s0t\n",
       "9ga4HX7qqXbSsIQR9hvxNzA5cHZ1wwhJONJFrZq7tGMJKC8Jvgew/bFJRQWF2wVKuqA1Q90JFenL\n",
       "X3wxSJ+OqdDHljqmoqw2fN+WLY8jtu6IqWyl7gO7P4CH2N1bNtDppeA5M+nFLimRqvYW47M8lqA6\n",
       "F2HQNb4qIi5SxQlliCGk8CshZyJQq8lWGVg4v4LrBGxuVNnVoAoOnOxIEpUGRuoqekBdWshniBhK\n",
       "iRh7qEH7qhuxI1GW2kUnm9LT1HpbxNjEURFCtYAFoCeaQYC2enwQ0HwRfmwvnzUuKFPJ7qtTU9ia\n",
       "/gY+vgynoTdOzxbH41U6tkZn+9haB5x7sMU3xLOyg3huJALYpYenqnBPma2uoQQ1OgKl+KDuTlzC\n",
       "t81dMoO8YDvQ3ymG0IZeYpmSiUCt4SWfqapsVQLrfoLrBCym7moQhQZe4SoNjNRV9IC6tLBrWtfy\n",
       "3zMoJWLsoQbtq27EDuy7kGt0csFp5uM32qNSuhpg6w/gh83wKFXOVJzzZfFNToNsbRIFUxE9fHmF\n",
       "re0Z2AHOeUTkBRF6dmQ6fX/NA5KaaGzFOcIF0jM7yCSgHY0Tm8CtIpUfqMvnAZ87H4CLhnvEVuTe\n",
       "68FONOInitJZuIROw0uhKjY/W4RMkSG4LwGcBB2BW1GNmsJWGRjArVWhIzAIfwJEfaLQwMOYMERl\n",
       "gR01dHtdWji7kirOYFAyYuougrZUN2LH4Zeu2ck9jzzczOCKelRPlUrXZKuz+ZGvNMOjXjS6hiuF\n",
       "wE/4Zo0HCqUiGfdkJnAS+nLRLKyCtWfo2T/z0IMem/ibJbpuqbL1q1nYfqmIe6YvF9kP7l3fxVuy\n",
       "8QPQV4ofxIcDzAWlL+h8/pWBpTnC1r5ceM3A8zhFugPXpc4HpctmtxtlLUh3F+89A0ARYPuyYQ90\n",
       "BGGdzL4KShiB0S8imY5X4vDnYwyPKjRw8sUuVnlgRw3dWpcVJspPk+QLQ8mI6ZdqImhLdSN2nOrJ\n",
       "Dl+3Zq+12w6PjjaVCZw0dkIkgvPbK3XrWDk62tRX31+DWMmZ6mkPgiIBF9IkCqUimV5o/9IlZ565\n",
       "f9iyydh51eSoUqk/g9M28fByj5xixZkAd096dQVQuNRC1XRY0YMRuLWWmedpuwO8mjrj9urBL8wn\n",
       "LRfVYF1Iwwyo5ceq3p8ZoyN47FjWT/ju7sQhnJr4relMyWBr1POf6WKwdcMrOeEaG/0QQGZK/Gxv\n",
       "SZ7Hz+6RLa8ZrSkw3MXNZoptp6QejMCtbjb0GzDZiqupgsGCJHnKf1GN1oVt6H0+tTRGdRJ04L4v\n",
       "j70ljYnK1rDlbEy2+lzzljP9PGyva/67nvw1EXwhJlqd+X/F1mvL96/j/0/AaXXm/7qcO5b/Nz2K\n",
       "JcNgb0CZAAAAAElFTkSuQmCC\n",
       "\" style=\"display:inline;vertical-align:middle;\" /></a><br>"
      ],
      "text/plain": [
       "<IPython.core.display.HTML object>"
      ]
     },
     "metadata": {},
     "output_type": "display_data"
    }
   ],
   "source": [
    "associate = \\\n",
    "    Forall((l,m,n), \n",
    "           Forall((A_1_to_l,B_1_to_m,C_1_to_n), \n",
    "                  Or(A_1_to_l, Or(B_1_to_m), C_1_to_n),\n",
    "                  conditions=[Or(A_1_to_l, B_1_to_m, C_1_to_n)]),\n",
    "           domain=Natural)"
   ]
  },
  {
   "cell_type": "code",
   "execution_count": 48,
   "metadata": {},
   "outputs": [
    {
     "data": {
      "text/html": [
       "<strong id=\"disassociate\"><a class=\"ProveItLink\" href=\"proofs/disassociate/thm_proof.ipynb\">disassociate</a> (conjecture without proof):<br></strong> <a class=\"ProveItLink\" href=\"../__pv_it/theorems/b6643615b364015ccf0b631159627321c5f9a9280/theorem_expr.ipynb\"><img src=\"data:image/png;base64,iVBORw0KGgoAAAANSUhEUgAABVUAAAAZBAMAAADDFtM8AAAAMFBMVEX///8AAAAAAAAAAAAAAAAA\n",
       "AAAAAAAAAAAAAAAAAAAAAAAAAAAAAAAAAAAAAAAAAAAv3aB7AAAAD3RSTlMAq1RmmUTNIjK7EInv\n",
       "3XZ/CtNrAAAACXBIWXMAAA7EAAAOxAGVKw4bAAALdUlEQVR42u1ce4xU1Rn/5j1z57GzKTVogzsN\n",
       "aGkWYSxgSh8yWGhAap3iP9alcVvSEKkNQ9LQUI07Jf6hyQqjKQFMKxclTQmCA2ofbCqIpVhMdaJo\n",
       "CGHjELQEiutK5SFEtud9vnPvndk7xbXGzJfsnXO++73OPb/73e+cewHAP00YLEGb2vR/ofcGc62I\n",
       "97av2FhTOxl4UYweQvk2Vj9LlOG5Y2WD0ytbnOLPy4RF6hyrWdqZ6BOrAfoTzLdBNUbUzX+WNzi9\n",
       "vDVr0WE3b9ZIZ+c9ZTc/tOmDzqs2+LfdyA4l62TnF2JVN3/Ho535+/y7QOLHOVbn0fZSn1gNF+kl\n",
       "aD+oxogsngiDI4oTsMkhXoemfETX0MMa0Zk27CH9D9K94MFPVQC6yv6tYzsOldOnIHhb3qWSedWG\n",
       "SW8094D4WDxqM6z+mj4sKj6xGqdZeFUbVGNEYT7B4S6VDUJ02hICQo34iG6mB5ke55x3S8cuk0fq\n",
       "hx5W+kj77oJv64YdU2XrYXK4veRUsX5HzobPN/eg+aZ4gWGVQjaZ84lVWEZ+drVBNUaU4j9/2qMn\n",
       "sYbK1EZ8RGlUpibvu+CWDhFe6LKHldnE9uy6b+umHUPlXpobF7tUogdp5bm3uQfNN8UPMqzS5VXU\n",
       "99pqenuJNYZ0PU9Z9fd17qCJ4RZoysdEs05YSD2QOeOWDpC6IHrAw0oXRVnJt3XTDlZJMq8PulT2\n",
       "0GO80NyD5pviS/g+wD8HB1/xjdXU4ODRahtUY0QL+aMepuWNpX8NmvKdS/+0aBeC/3FLk7LUmlD2\n",
       "sELqz82H/Vs37WCVPnb8g1Ml9jErBMrNPSi+Q3wnx+p8gMd9YzVchoTdBtUY0RJ2XARrdToIlCEj\n",
       "nsyN+AaNBxgSGz25+CW39Nonhq7Ke1iJfzR0bEkL1k07WGVP3VMleRk8xZ2LK8F3iN/EsboCYlnf\n",
       "WCWiK/iSFZ/wRq/1qS5LGnltGoUR+FeuwH39ExnE6zwfQp+eELKaTYsoG/ENIkvlI/KKxD5wS79f\n",
       "guBLHlYyZBUzJe/fumkHq7xd8lRJnwdPcQdJvkN8Csdqwk4WwepqcPlih56Hb2UVVkkKfp61n0b5\n",
       "33rZU1WLPPzhwALZiW9a+JzHPh4WYXRs4e7dsp0ZN7DNPTCDm3B79e4bOMaBh4quKBrE6nEyDI1i\n",
       "xeNwkePkfmbgN3O7KgBPiWXBUpgkDDO+NdBpm3yToqWgqPFOzp3zEXmuD5vSv6WZr+y2niCrmOQF\n",
       "2LbzGn/WhR1EUuU1kQWEC6mSGuaZYxQPki/FBa3lWA3Wo6qsd9Caq9fBl5N22NZYnSqWVnvQ1kHy\n",
       "jKdXLRKqQUau6ODbAKfdwoYIoR/l2OXjT7PX+bUxyeQmHF4peAKoT6+XykqyIwLn3c04CiGhYvVS\n",
       "xwOJVAVXRSUCUONQAXmdxFjdAdBRg/iQqOa65eY354chXDP5JgWrYvvbIqme1HzBXlOaptrZdbf1\n",
       "jixb1xfgNl/WhR18Tqq8zQTL0oVUSTPwTR7Ng+RLcUGLxTvW3ptVWe94rpJSFibWC0ldA0CU7YBB\n",
       "pB/FeeerXk6RSKAAIfUOZRwZpEedgkXICA+SP7kInELuFfdNaHITDq/05VoP6k9keBIkOyJw3p2H\n",
       "oxASKlYvdWMgywRXRcUD0OOQAYHXSVwDEEaaADgo0JSOV9QdQvgdxdgFk+/c9HlY3w5HyU/VkI7T\n",
       "5VZX0W19LYkocBbOQl/Zj3VpB29oCRW2s5rUAxAqfKu0OqoHwZfigm4QWN1FN03fpFnlO2uOZWaV\n",
       "eesd/mYLJl/3AMZq8nqWZDNRVOPWf+zlFImkcrBd1UL7wHrDY2sRi5DFJMmGcZGXYzT7rXYVJyY3\n",
       "4fRa4UtG2U8AWhTKjgicd2s4CiGhYvVSNwayi3NRVCwANI4KXsM6T3J6gt5cef5yVE515kaOCMEP\n",
       "2QKrku+k41/kv3cAeyebLhrStCyNn3Nbp/UnrO2FbwgkjWZd2NGI0Sr0pQLs1i6ECn15AEl7VA+C\n",
       "L8VnfH2I3s2zBFbvJ7Np0Wzy1OJ8KpvJilbJYgCfnHyyB2E19iKHZ1jvsmbgu57LDSKyks9E3/EZ\n",
       "4xXGLk+f41FCYhFCE3DK9drbcHITyKtIfiwRyj7JZD2A0lqPCDz2E9FlG9YqCi6hY/VQNwcyiXNR\n",
       "VCwANI6JKDO7TqqdGbifDua8nmrrLf4r+ZCsYb5FgAfP9MoDwHb+E6O1xaYSPGNaiRL24mVu63Av\n",
       "uRv+Tu/Gvxp8alS7UNalHY0YrUJ3ynps7UKqTMtDhBXnzT1IPhe3Zr4EB/hjn2E1UBZlza/+BR1l\n",
       "9tCgLTuSFxXGSYRVYHMZKZOyLibSxJ2kbItMnecsAahIoiRKVIs8MFfZojDdXIBF7zjuKi6i6G/8\n",
       "gjMPKfaYdHpIFbywqgNLsNzH+sxZBe/M8Q4NHNaLbqRiBMokUKxudX5S0g85V0RFLbAA+DiYhQTe\n",
       "7UMnET0CsHVkGQQ3nauqqRY75ooPj9iYD4foc7MgD3Lj3dp0zoavjvxMrUPEmwD6hcpjAE7rcDX9\n",
       "FIXtvh8x+MzoIad1ZUcjBm3tb3l0XBG5kK8mrAWdbAZH8SD5XDy2oxcu8se++iaQ+7sW+iGd463F\n",
       "ELpn48bHCFa3RTFWufjAzouwWjhdONBlp+QNbIqkVInaV4zfYIvCNHYW9lqOb4CYiO7SQjIoPKTo\n",
       "QyXn9MC5TqzqwEL5HtlnzqajrCY6NHDYK7rBrBEok0CxutX5SbWPwbk8KmaBBcDHwSzwgORSUp/E\n",
       "tRp64ARrDTZmfG6GG68X3IukBtZFQvFNGjG+XbTmIVCn71ljNYTV9F30+DKchL44b82Nx6s8r0am\n",
       "urBaB1o1HRElAKlAYiRm544jEVklS1S4uyz200hJGLkApfheU5yJhG6ZPq+bzVcn+TshPAQIijIl\n",
       "pwfODc37WhVjFQXW+7jsM2dR/A6DdXjgFdFlJb0OlEmgWN3q/OSMiTMW/ZnVAIzLo+JDpQHwcfDR\n",
       "9mKU6ZMz7uhWCC6MPtW/gF+2Mtdv2i0BKVaItfQVnUaMXxctekiVw4Uy+6hHYbUjA9sgNkzuk1lh\n",
       "3jo8mT/1ZgIcc2KVVgdnGCS2sSK+g9xZ68Cqkq48cJFvAm3HLoJFsjyZQCLeZ8N2MiWJohZWIsGT\n",
       "sD9Ypeyni5ApCg/WfoB3wfQguUSjhrCqAwO4sar6xBmEvgRKn3V44CEKddYldnSgnKVj9VDnJ6dW\n",
       "UkWKtSEhwmNlWKUBiHFQC6wvwscnp1bSambWjz7VGx66tRUwDddbS3oPPdhK2pOIacFFix76IL26\n",
       "zHKergHehf5cJAtLYcUp3vp3HlaRFBd/q6S2BRVWv5eFLeeKFBL9ufCLYN3+U/ryNb4P+kvxA/Sw\n",
       "T4iQioO0b7o0sCDHJrA/F1o+8BwtmOZTXS58QItssHpJeUP61twXTgFwD7Bl4ZANpgfFHS+++0k4\n",
       "AuPfPIr+fL6rBMIf7/DA2Re57PMxghMdKGOhWN3q4mSi/HtWYa0XVnhUzAINQIxjvgxIhI9PBsr6\n",
       "e6OtGgV/vOSJstTIyHArWP2+52q7kXV4bWSkFesSMS24aNHDDyDzLL+6xr9hyTlb1l82rnO8YzXo\n",
       "CFLancG1l2wdySEunUApnrTryKESqQWr6RDqN/YgubXMTNt4FyDVEDFnDSj9pGzpatLx8q+ZOqSh\n",
       "G2p5sMzNwtYsHL9LTfAn867280aZkgOrEdvdMsmB1TWv5JRodORjAHXJVeuFkm7HT+/SlpeP1JAb\n",
       "KWJlM8XACd1v7EFyrWzwWXBilaphos4aUfKEWgyWUKB+1WEzeeRfW9LK/4uF7vY/CvJBGKshj1ZT\n",
       "rLpE8x4tsx3y1nXOVX5UD64QE1d+MXZfge7MNpY+TayOTj//DP//ALErN3El34XZbSyNMb13NP9f\n",
       "veswB/Ry1H8AAAAASUVORK5CYII=\n",
       "\" style=\"display:inline;vertical-align:middle;\" /></a><br>"
      ],
      "text/plain": [
       "<IPython.core.display.HTML object>"
      ]
     },
     "metadata": {},
     "output_type": "display_data"
    }
   ],
   "source": [
    "disassociate = \\\n",
    "    Forall((l,m,n), \n",
    "           Forall((A_1_to_l,B_1_to_m,C_1_to_n), \n",
    "                  Or(A_1_to_l, B_1_to_m, C_1_to_n),\n",
    "                  conditions=[Or(A_1_to_l, Or(B_1_to_m), C_1_to_n)]),\n",
    "           domain=Natural)"
   ]
  },
  {
   "cell_type": "code",
   "execution_count": 49,
   "metadata": {},
   "outputs": [
    {
     "data": {
      "text/html": [
       "<strong id=\"disjunction_eq_quantification\"><a class=\"ProveItLink\" href=\"proofs/disjunction_eq_quantification/thm_proof.ipynb\">disjunction_eq_quantification</a> (conjecture without proof):<br></strong> <a class=\"ProveItLink\" href=\"../__pv_it/theorems/2c70aa0614d3d1b37ec8367f7fc4b694bc3d535f0/theorem_expr.ipynb\"><img src=\"data:image/png;base64,iVBORw0KGgoAAAANSUhEUgAAAqEAAAAZBAMAAADziupcAAAAMFBMVEX///8AAAAAAAAAAAAAAAAA\n",
       "AAAAAAAAAAAAAAAAAAAAAAAAAAAAAAAAAAAAAAAAAAAv3aB7AAAAD3RSTlMAq1RmmUTNIjK7EInv\n",
       "3XZ/CtNrAAAACXBIWXMAAA7EAAAOxAGVKw4bAAAH7UlEQVRo3tVZf4jURRR/++N2v/fd2707tFCr\n",
       "Y6M4K1M3MkMIXbJQLxKxf7JS99KwhHIliCx/3NlfkXqXYXYm+oUgsMhbfxSoRVcighVtYijpxnke\n",
       "iILeRZ0/QZv3Zub7nfl+v7t7t2dgD/Z7M3PvvZn3mTdv3swAlKNA4TgMg0Jz4LalewrZW6PoQiEJ\n",
       "kJaFchQZXmf340cfeNbbBF4GD0Ur6D3qfH2UZoZlWVT5E0oBrJCF/xZRE0ed0CaO1xYUl0n4z3NV\n",
       "99C773EkF9xqRHuUYSGQIVGow9b7SiIawD/BVEXdVqPYOPY7d/PD0YstELVeSLj1uRl0Ws/+c2aQ\n",
       "fSa2X63/uIkGnWMfYwtJJlJ+iD5bKBQODcEeTbe5NQ98WOSaf/DC0/jfJSURDWMojFQWclZKP4VL\n",
       "DN4jsnYSYCk2jsHPBs7qZlA9feQyhmjEcouopLTXMg1bkflzAiHDJZcW89GeoRik6Y5g7ETlhOhp\n",
       "jmgrhoL2koga6McrKlsaz7BfGLszbrBpvSFrjCbhZyp+PqG6hwHpOVnow2GnXSIaKe1tbP1NxDU4\n",
       "XW6PadnhsBHVdNcmhXJCtJNDiwjHkqXjKM7u7soQHWC/GvKUK+x3XdbwL050HOeTG+ZhQJqgIgro\n",
       "waqIRkp7Xwv74YLvkv88IjscNqKa7oWWUE6IRlJUwHKkzM70aMVR3LjGPo0UUPvZ74qsif5pLsN8\n",
       "Pj0MXkQXgS6ikdK+HX/M8qA96EWyw2Ejqun+VionRMPtvPBLofBTGURrCoVTuYoQTeTFyofadr5i\n",
       "sGb2sn5jdcKp4iJAuRm8iO4CXURPZpz2qzyGQBgHvfO0kKQOh42oprsZxjWRckI00cULMwG2lEE0\n",
       "3ALVVkWIBjLStRhY7x4VMxqrwr7JnlEAF+0ApTN4EZ0MuohOdjuzOPpdUnpluibFJanDcIGorlJE\n",
       "Nd3m38GxB0k5IVp1jReWQ5TpN/lW3uKLKGNYrjaF+QZs7/5BVjJUz3SSJ9zzCKe+uw48Rk2stjbM\n",
       "bAkSaK086fBj8CL6MOgiOtntib8O7KGTWpyZnsji9oGSwS4fHx3P4P1RO+PtUS0DgcoHTdI0VXfw\n",
       "8lxjCSknRI0rvFBtxRhLjKfPJ7jc3Z/O2qtm+Fvga/ad98/eeuqrmgcuEgluBkAk4nIyPsvwAxkX\n",
       "Rmc4JOMPEatZNUzU6CeGbDDtBCiNAXPFnwuF3xxE20AXcU29bK/ul5sfM8yEiRaXNPqLrvrQn3bb\n",
       "Otsyh06IgOPWHT5IRrcJRKMDvBDs1jemDaM3wXHYf15FdAJ1HspDLO8gyt1zGxt0neK7xkXG8qK9\n",
       "AaclopcUwMhIvrCDOZnoehi8PvoS6CI62e21GcVqNjFCsqqreBw9JC3X9kWFGpV01NYdXzwTuHJC\n",
       "1BSIQmaqtqKRKWWMTamIRuiEFUhDol9HNPQRisjLEGoP5mUuLn0UV71xXYpgrdnkfIzy74sA5WHw\n",
       "IjoeNBE3yfY2uYvGaes/KSSpQ/84Gu2XlpdDVNPdmVzYwpVzHxWrHnazdLPqNEXG3qQ46oXD2rk+\n",
       "1ogG1SQhXmcjhyKJjTIT3Pmkiqid4BKi2zD+DEh96NQDMdY3P1acuUMEKA+DF9EpoIm4Sbb32TPc\n",
       "LdYiSYbai6/69tU5YXmjBMM5sDFUbEQ13dOszmQ3Kedx9LIorGRW76zFEYeDGZN3+/gDGqLRH7C0\n",
       "xoqOdHyRiRg8pr+FO2qjiqgd6ALtInWJ2EFsF0a0N0X6AfCVMMvLoCH6fVamYbaIiXGiMyMKiqpl\n",
       "doqK8xnql0e3XFFEA2cfOiwsnyzBcFYtpp7zwUf3ndDZkiPl2l4PAea579CC+iKWrqLVbnbn9Lun\n",
       "Ufh54mKP5SCKIg/ux9I8JmDtVRGtku6AKRqsZ6PaflVGe1aDEayXOJ9tkZT7MKiI1v/azFp+B1UE\n",
       "jslAfUxrn3Vzm0x18nJSUTI+p+hNSU0PtHDLjVclGDYxVBgK5310b4TEbIuUE5ChLvU2b5s4x4Re\n",
       "6+jYCLGYZVqe27x6UOMlicxDSO/lWeSsjq0dHSlC1JCI4rQ5aQAPQKK2qljKp7JP0HL4/FDTYUxd\n",
       "MG0gyVXFb/PWPNUC3PLWMTYYjk/h/v2Gn257WPzMVKcgal4jM2qzBjnn3Pcg5kX0oIYoF2mdAUAb\n",
       "wmXfVU+baEhLdmRtetFb/7TPTQm4rlAGR5MgkJxmCcnpxRGdUpUXluMFkgDDuW7K8js0t25lWOq5\n",
       "XmQembSZo2SMzk+5tB04HESjlzVEmQj+WT6GdiajS0U00a3ePcFmbSi8VuK+a3OR9qFff1Vn25JH\n",
       "haRPhzaiDUY+J06OjdIyhseXTora6KNbGZZ69yR8tCGL2wyboBVsfkL1DfuaPYieu25pPtqQFU8Y\n",
       "qDtRJ9qj31zvdnqj0cAObSg79AF5accQkS7xgtAe7p0jJH06zDiaR7SQ5QQdt8w4DOuy0m19EDXb\n",
       "lWERkI+4X0WCdKQ293VsKvcqUu16rsiJI3S1F5MA7hZR7QzCa2dLPOD4P38kKrjzXu1Ini33KsIt\n",
       "98lHF/mnqauVYRGQx92IvhB5vmtw70wuRGEGvLLOOe9Tg/bOdLuS39jme+wnVBpLa1LfmRxKhXut\n",
       "oSFqdDBiTh+zZjdp+pU8Zdz/DNGIe4EQKsbL5REd/Fuo973e887rmgmzCLq3G73u916/1o/z7dKK\n",
       "LpxiQDbxwr+qp1Qc1WfLpAAAAABJRU5ErkJggg==\n",
       "\" style=\"display:inline;vertical-align:middle;\" /></a><br>"
      ],
      "text/plain": [
       "<IPython.core.display.HTML object>"
      ]
     },
     "metadata": {},
     "output_type": "display_data"
    }
   ],
   "source": [
    "disjunction_eq_quantification = Forall(\n",
    "    (i, j), Forall(P, Equals(Or(ExprRange(k, Pk, i, j)),\n",
    "                             Exists(k, Pk, domain=Interval(i,j))),\n",
    "                   conditions=[LessEq(i, Add(j, one))]),\n",
    "    domain=Integer)"
   ]
  },
  {
   "cell_type": "code",
   "execution_count": 50,
   "metadata": {},
   "outputs": [
    {
     "data": {
      "text/html": [
       "<strong id=\"disjunction_from_quantification\"><a class=\"ProveItLink\" href=\"proofs/disjunction_from_quantification/thm_proof.ipynb\">disjunction_from_quantification</a> (conjecture without proof):<br></strong> <a class=\"ProveItLink\" href=\"../__pv_it/theorems/3016e6718f54c03096d27d625e1b5ad334e590d70/theorem_expr.ipynb\"><img src=\"data:image/png;base64,iVBORw0KGgoAAAANSUhEUgAAAqYAAAAZBAMAAAARVvElAAAAMFBMVEX///8AAAAAAAAAAAAAAAAA\n",
       "AAAAAAAAAAAAAAAAAAAAAAAAAAAAAAAAAAAAAAAAAAAv3aB7AAAAD3RSTlMAq1RmmUTNIjK7EInv\n",
       "3XZ/CtNrAAAACXBIWXMAAA7EAAAOxAGVKw4bAAAIIUlEQVRo3tVZfYwTRRSfttvudvdu7y5oAoiX\n",
       "+pFTg0gJH0JUbEBFRM1F/xEVUhRD1IiLRhKUj6IJCZGPikEoEljUoCfKnYgmQDSnhJhgMBeiQJAm\n",
       "PbiEoIE7CZ+9RJw3H7s7s9uW9qLBl8zudvp+M29/++bNmxmEKsmNeQsNQCKtA27CldP5BLqGJYWL\n",
       "mT9YWTE9sH5uHXAT7Huo5AslgzRUv75VucGrrC4nqouEsoD8Gv1vc6qnB9qEyVwzWijJ6XG//szK\n",
       "Dcoys3rbjrtIKJEC5bQRbreU5TQEt3CyJkbiSdKEks/nj7VWgTt15b0hs214Go5Q2wF4OFGK03AH\n",
       "Jmrz5aYPHmH6qAeZsqKsIIp2FPkhFW2DjpG2gSAJ+ijl9EG4zSnLqQJkxGoLiQtdVzerioUX8PfY\n",
       "zx19NtTE7BKcboVLA9bbaDP93xF6CSpD8OYa8R6fgle2PFREARCvDIXLKtE20rGZpkgo3ZTTpRAW\n",
       "smU51RqdWFG1TKuRU+1v7Aa4IAVYPEtiaaoEp5PhshrTMLLA9LGMQXwwxjMoSIHEE/5sFoMgXpkI\n",
       "l/WibZP5n2NYabcJp/D1jUT5eAqfYEdtnJ6vkVPzEi79+KEOXr1I6vaLnG7gD51w6cU09HZQfZA6\n",
       "Eji6cJlPK2QFEjUKXk59EK/Ug++lRds6kaczKLEk4RSsjFWYo0bXPM9oxRo5jffhgm1HLbgY1Pjn\n",
       "RU6Xc2JI85uhZKg+iRREEzxhEq2QFfyc+iBeAb9TEoJtYYcTQEJRsnTeP5DP/1yB0zo8wXTUNml3\n",
       "1chpQ5aOVhI8Yo3hndgLvhI5jTCTFHK/TMck6Os9WMsgk+985ngBCn5OfRAhbUpTX/XYRjre3s2Q\n",
       "UMxOyunDnlFUglMlg+J2TZyG0jVyim1+6yBzTtSevHkhZmEc5xSyCCznPB6J6VK/S1B9I4pfLUI6\n",
       "DWWQWeBBUFTwcypDRBmM0BnRNtJxqi5JkVBIkMKczkMqZlin03omkFOsME9eLzgQMM0SkaY7hLO0\n",
       "iTDkUgKn92BTPpUCBdJ28k/Xe8OeseQBjB/5RmIZ7uJOaY4KP0cjHbRr/rXn61am/7aCbQ4T2vD0\n",
       "Wk+b9Cn4OZUhoixlqZJrG3RsWg0JioSiXaKcxm0D92XQ1o9Q1LAPp+705vwb0Df4Ov3czibCI00T\n",
       "KCS8DqGxLhKhj9OcdDJqBT+9z3EADez/XpoGMmz4sehHZB8uj46n/iHP+1v3kQmilcU4rm/X4W40\n",
       "WjGHLOSCFMDbj+HA1+hwKkNEiVnhlGgbdKyjkTZFQlHPU07DBXGKWjVkLTqMdv/h5fQuco10IaPL\n",
       "5ZR+6U24XU6EAoadwSrPODSlBE7J62vduVZPfBfT97SbnrqcHnqAjIJnJU7Vly2H04a0Rx9ekw3v\n",
       "4Tz39in4/VSGyCsLnqJf8HCK0GMMCUVnnKL0RC9UwfEVJbXbkl5OYyRrC6WQ2SdyGnkfIHyBFCd9\n",
       "d9H0PMhPl8CdEFSBU62f1+Chqp+NwphCI6R4eshyx/7qDlcfzdKpGfCnxoz1KQSMfQkiSddyyTbS\n",
       "MVk+ABKKysY+2oHTzyhZAeg9CbICxFYrwnrfaAGS6hKovtHhFCDmGpa6AdLDqZPwSpxOUP9kS0Ag\n",
       "b2ajYPP2SS6n5nlei8dBpKifhRA9QfTTKHv1OBDT2+rq6+cNrEn/NUexP3wKAXOUBJHkxPWSbaRj\n",
       "MtwBCUW7yDhdiF9tewOQpoTTOm337tsFTtUf4GmJrV6HHE4xRPsRsexDIWQ4nPLIg0JZgdPm176w\n",
       "2qiDp5FeKIo7ZThzjLIsJsajHyRQobR+yaBZkJdTnpiTGPyqR1/re51nWEg/xOp9CgKnxkUkQ/QL\n",
       "/NJO7f8yLdlGOo70MSQUPu9D8oDeHAFKnxspulrTCx3ivtRguNx75rjtcgqQO3bD03SC9HLKXYgm\n",
       "bO4eyi8JDT1J/liWQepHQhqo2zAtziU9KJsv87ddiZtNoB4I77+JnK7n0x1uZuqVTa4+GoS16pmz\n",
       "sfTdr+DlNDTswiAf5Fd+oZMCz/hd26Bj6jWAhBLp9O71bWKpXuTFXG4NMgxbt317fU38IetApgOp\n",
       "N9FcbWpuYy6XJJw6ESla9DahnsPBelwul0toTTYbOx6BVLRFTg3rnSRN7RI5dVK5I0H6i0plvvWZ\n",
       "gHVUeUgpgY5JCrGIFaXRw6leJD01WBpx0CfeQYaf070CpxSydApdJDZYgWOfzLJOE5HsDBW9Sx0Y\n",
       "997+mWgiHn9qp++cwGkKNj8C91DGBOlPLnnwkArYQykPKSVjUChxv82Qk5Gz3ufzbUrHbK5ga6qO\n",
       "FJrh25NWLwqcYgjc5g0lS7YVwrzvLkSmeZsIFVYabEUG8beFTITbkN7hpKwB6cA6/rCg1P5p3PLr\n",
       "l9lqW1dq0z5b9eawtTpxkCEJmu1LMT9ttmDCwVP5Aux9kabmXbN8nJ7qtwU/bbbYEIR36uacqt/2\n",
       "FzxvucLbRNwKjUfqes7plpNEw9J+clw3gNM2LxeBnOpZv3689HZvW0mGqj7EyCo9rQxJ0KPks5Mw\n",
       "iWj6rtzaSmcn0geNdtBYSP1UNDuU8DWxLRec88PACahWmc+bVsmzk8V+/ZNlDpEKwfUnq9/OWOwi\n",
       "CfqwzOnTsac6r+48Sh4kUxjSSWqnVDyPivq2fl5YUXop4AbD2k5w/iPh51GuJJUeuzpONTyF5/CQ\n",
       "ND4RkRFP0jy8xN7rXLnicTgsWpb4P3N61eemr/gP530V0rfQJX4DmkBaEHtqprwtp49d05yCV5j5\n",
       "vf8AiY1vGMpx0EsAAAAASUVORK5CYII=\n",
       "\" style=\"display:inline;vertical-align:middle;\" /></a><br>"
      ],
      "text/plain": [
       "<IPython.core.display.HTML object>"
      ]
     },
     "metadata": {},
     "output_type": "display_data"
    }
   ],
   "source": [
    "disjunction_from_quantification = Forall(\n",
    "    (i, j), Forall(P, Implies(Exists(k, Pk, domain=Interval(i,j)), \n",
    "                              Or(ExprRange(k, Pk, i, j))),\n",
    "                   conditions=[LessEq(i, Add(j, one))]),\n",
    "    domain=Integer)"
   ]
  },
  {
   "cell_type": "code",
   "execution_count": 51,
   "metadata": {},
   "outputs": [
    {
     "data": {
      "text/html": [
       "<strong id=\"quantification_from_disjunction\"><a class=\"ProveItLink\" href=\"proofs/quantification_from_disjunction/thm_proof.ipynb\">quantification_from_disjunction</a> (conjecture without proof):<br></strong> <a class=\"ProveItLink\" href=\"../__pv_it/theorems/88142da7b004b39ed22be21d9f11ff98191677480/theorem_expr.ipynb\"><img src=\"data:image/png;base64,iVBORw0KGgoAAAANSUhEUgAAAlYAAAAZBAMAAAABGn28AAAAMFBMVEX///8AAAAAAAAAAAAAAAAA\n",
       "AAAAAAAAAAAAAAAAAAAAAAAAAAAAAAAAAAAAAAAAAAAv3aB7AAAAD3RSTlMAq1RmmUTNIjK7EInv\n",
       "3XZ/CtNrAAAACXBIWXMAAA7EAAAOxAGVKw4bAAAHdUlEQVRYw9VZb4xTRRCftu/a19dr7y6iAVTS\n",
       "RHKYnEKNiJIgVC4mgJFc4IsagR5gUIxSNCGCIAU/EYE7SZA/EnifSEDlyh8/IBpPCTHBf5UgGLHJ\n",
       "AZcQ0HBn5PibgDuzu+/t69terxwfYJK2u3uzszO/nZ2Z3QOoRA8Xs7rhUAvcxRQonrwzghLFYwCG\n",
       "bFSijH54JH55Ucz6h8DP4KPIbZgQcb+1QsODAiii6vsk67eLxu1hZeFwIunZAurN7mePktrhmq7q\n",
       "rTnjzpx957E6I35nS4gm8kY9/jzSL1YB/AmmPKNR7Daxz/lbHw+bb4PodUMiVTK/lMFL69hfzg70\n",
       "POy41vDJNFImz77MrTTTt6DAyigWi39VEygcRZl0a1tBikas4jY1nke2Bf1iZeCKYa+vL5e+BZcZ\n",
       "cEdl7xTAQooXKNzkDlPKoHrnkEWMMUxIDsev9f71lfE6JmEbMu8k6DJ85sLyflXGk8uQVBSlh9Mg\n",
       "RCNWiXpqrAJ5HstiZSLnUu/oC+xjIOzmTbYRN2WP0ViK/AhTNAc6BqSZstHDrA2RXuTnm/3rK+Nt\n",
       "TOoYlNwsE0xaLngHsHIURel1SWkLYmVdpwZuTSzZf7xCePd5R/vYp5bUuco+N2QPf8lL0IWXgJYB\n",
       "abSKFeBmQhw3TRMclfEeBn4PHr9O+cejzoJEWweDlaMoSp9jS1sopM8jrEKpCpEww9m9VpgIdCMF\n",
       "rl72uSp7qCa5D0I7GbQMfqxQE9owQ2ObMr4DPwyvoKPMPGdBojWDwUoqStK/dmwhrKZyB/u5WPyx\n",
       "Ala1LErmvXtQEOcQ6tr52cCe1c1kxyhbLBG+pWHwY7UXhO/EdQncHb/GDwoYqMye02ImX5Cfyfwg\n",
       "sJKKkvRWaJrGRRNW/3CspiiuWwYrIwdR21vrZaQ7MOnvHxNbHKth7huiTQ/kINEFWgY/VuOoORTg\n",
       "ok4BZ5zhFPkmKT0pXZviM2lBzHqMLg0CK6koSrf+C446zEUTVnP4YVwMEYaexdNcTosVY1hc4q+Y\n",
       "DQiBngcPPUVDrLfaYMxBgoPlgziH18fgx+oxarIs86fOBmc88e+h/VQExBkEiSyGX5wZ7HR5g3Md\n",
       "rIJYM6hYhfY7ZrqxBD6a5qgiFEXpwSszzAVcNGHVlqNG1I4xBWLcCf7g0x76dOoBtRbdCl+y75cv\n",
       "HWgQa4XR74/IGELEenYtk2L2Ai9DRgJoGeDFYvGnYvE3F6s2LjMbTGvrSjke7ZXpgylswRibzzR7\n",
       "FeadR0r86lmn0l0Ljplu4sjxAKAqitKNwzyH9wqsVrZQI9jlDe3rh22Ek/DVBRWr0fQdKkCsINZI\n",
       "S6wuK1CQ+uKYNcmizcfg96tXuU/kw9r7ijNel1GsYZCLmTWKX0XezJZgRbxokye3KNSolFeO9Pj8\n",
       "KSBEE1YdLSLDTVSnGsiUMkelVKzCVC8F0pDoVfwKz6B5Q/Jhr9VipnE44yYv2vwMfqwe5+3CGr01\n",
       "crxNRu44Ha1TYiYtKOLViWxpvFopbaqElaMoSu9IzskJ0dyv+BmEfax8qjlNZXR3Ulw4DMNzH4w1\n",
       "okm1SYjXK1htR236JB/rWX0x5n0co8QT/H7hZ/BjNZ63z96vt0aO98gbSxR3LtInZobcSrqm3Rfb\n",
       "x0f+FjY1SjNd2jPZxcpRFKVPsjuSXVw0j1dZ3ljO7N5ThzobwYzFV3v6UQ9Wke8IXDsyRObBdpGw\n",
       "w06w2IvH+12RchksJ4TWPgYPVt9mZfEB8AU/YxYeho6MaLjjsMgpuXCnQr3y+uCWM0v89dWIdz5f\n",
       "xm0aJ810Kc2AmgUliqL0B6Ajl+ei1TyI6R2W0THYHUvX0NmzuvLed4ah+DXh4hm5VAJjxDombMc1\n",
       "GS1ZD+5js+Ni93klqmFQsWr4tZWN/C6Ov8hax2VAPO4Zn3pruzwuBbldODPuXpA3++/OvyRNbpP5\n",
       "ujTTvY7aLIOFL5QoitI3QGK6zUUTVhPUN5ntok4NvbFlywaIxWzL9r3JNCjvKNd5EvGmFKIV5eoX\n",
       "lX20p9osVPtogukaUyrNXKF5IHPSVeTSFOA2rRrumOkSq/mCb+uku7YQRM8pWFnXyZC6rEkONeND\n",
       "iPmxOqzIOyJvrm75InrN5QxU2Wd60kmqWqzGQiA5yRYzm/t7vwq1z4pwm+C0Y6ZLV/iLSal0Sc3g\n",
       "uQ+KvJxJW3kqQaiGz6edY+xiFblS8s4AmzxL8F4/bxabyowvrfoxLpptSx4TM7ULOlgFutbFxL2k\n",
       "kczE1mdgcfjMTl16jEr3JNHKO4PwqxFZ83uCfilDPtQw4mCrD6vzN5TAiIUd7PIsscu7kJ92VYlh\n",
       "ebLaje4WMVO7YNi1O/AM2USgMDNJ+az5Aw+79TqsrHYVNIQoVF/yhhwkV7MObtk4gDfkAMbbiKcK\n",
       "5r1z/Txj6x+LE9nqX3k/cGeeq/yGzG3S1Fd49WssJ12IpnfRbAlWr4Rf6qzuvf3uJd0r0yzfyGtr\n",
       "y5eoDinv7S6ljG574P/HabrnsAr73Ho6uzebcytjNeD/47x1L/5/MKz7/+BqHed7FR5Liyz7GzY1\n",
       "/gekqhyymRf8NgAAAABJRU5ErkJggg==\n",
       "\" style=\"display:inline;vertical-align:middle;\" /></a><br>"
      ],
      "text/plain": [
       "<IPython.core.display.HTML object>"
      ]
     },
     "metadata": {},
     "output_type": "display_data"
    }
   ],
   "source": [
    "quantification_from_disjunction = Forall(\n",
    "    (i, j), Forall(P, Implies(Or(ExprRange(k, Pk, i, j)),\n",
    "                              Exists(k, Pk, domain=Interval(i,j)))),\n",
    "    domain=Integer)"
   ]
  },
  {
   "cell_type": "code",
   "execution_count": 52,
   "metadata": {},
   "outputs": [
    {
     "name": "stdout",
     "output_type": "stream",
     "text": [
      "These theorems may now be imported from the theory package: proveit.logic.booleans.disjunction\n"
     ]
    }
   ],
   "source": [
    "%end theorems"
   ]
  },
  {
   "cell_type": "code",
   "execution_count": null,
   "metadata": {},
   "outputs": [],
   "source": []
  }
 ],
 "metadata": {
  "kernelspec": {
   "display_name": "Python 3",
   "language": "python",
   "name": "python3"
  }
 },
 "nbformat": 4,
 "nbformat_minor": 0
}