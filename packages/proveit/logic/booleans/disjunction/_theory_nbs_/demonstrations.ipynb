{
 "cells": [
  {
   "cell_type": "markdown",
   "metadata": {},
   "source": [
    "Demonstrations for the theory of <a class=\"ProveItLink\" href=\"theory.ipynb\">proveit.logic.booleans.disjunction</a>\n",
    "========"
   ]
  },
  {
   "cell_type": "code",
   "execution_count": 1,
   "metadata": {},
   "outputs": [],
   "source": [
    "import proveit\n",
    "from proveit import defaults, ProofFailure\n",
    "from proveit import A, B, C, D, E,F,G,H,I,J,K,L, m\n",
    "from proveit.numbers import num, NaturalPos\n",
    "from proveit.logic import Boolean, in_bool, InSet, Or, And, TRUE, FALSE, Not, Implies, Equals\n",
    "from proveit.logic.booleans.disjunction import closure, each_is_bool\n",
    "%begin demonstrations"
   ]
  },
  {
   "cell_type": "code",
   "execution_count": 2,
   "metadata": {},
   "outputs": [
    {
     "data": {
      "text/html": [
       "<span style=\"font-size:20px;\"> <a class=\"ProveItLink\" href=\"proofs/closure/thm_proof.ipynb\" style=\"text-decoration: none\">&nbsp;&#x22A2;&nbsp;&nbsp;</a><a class=\"ProveItLink\" href=\"../__pv_it/theorems/89d3d97dc4360142d43d01b2b868737402f7ad940/expr.ipynb\"><img src=\"data:image/png;base64,iVBORw0KGgoAAAANSUhEUgAAAdQAAAAWBAMAAACLXnBUAAAAMFBMVEX///8AAAAAAAAAAAAAAAAA\n",
       "AAAAAAAAAAAAAAAAAAAAAAAAAAAAAAAAAAAAAAAAAAAv3aB7AAAAD3RSTlMAq1RmmUTNIjK7EInv\n",
       "3XZ/CtNrAAAACXBIWXMAAA7EAAAOxAGVKw4bAAAFhElEQVRYw81Ya2gcVRQ+mZ3d2UcyWX8UHz+S\n",
       "xWJAYtNFoxgKIa2JSNLqmoKWWmWliBCLSUAq1WrG/lJM0gWVdgXNiCKE1nRa3D4SsElLsbUoW1HR\n",
       "0oUJwUDFxBghjZay3ufMnclMtnEb8MCZvfvdszPnu+fcc88swE2IWtDgVkkP09UQZRl85uebukUs\n",
       "dcu8URNUkez2Mdm9Qn5paxg0XXMzF7p3XUpRPAdxDK0tRbUCf0jJ8qnWM0XS7WPSvbI7hubs8ZR7\n",
       "MvOc0rWG4jlow8iLpajKOK6h8hMvmqaKF65ooXfhyyD74ocL4sDXC1RDupvqVjgRoXgO3sI5kClF\n",
       "NYyDv6f8oMpJqnhYa61cM74c5CY+uCAOfOM1eyLQspTq/RUUzxHCsUTJvdqFPo6VT7WSKZITp61a\n",
       "VyVuOT9cEBGPvb4ozHzDKsJHhZ8sqiGK5yCA1jhUuiw9gD7S5VOtY4pcNf+wFhgvtcy++eEOfwT8\n",
       "TXVemNlJy9PLuh3V2zdQPAfwbaFwsTTVykLhilE+1Q6myFVYnxSLaBXPXx/cXXQ53iL9JcwcpTVc\n",
       "t8vSyCWD4ojqYwAfehMUqcoaRMgNoqKJ7l17/KnutFa+E/bbS3cHwCwb+uEOsfFgInxdmHgInFU2\n",
       "8+yuG+0UR1R7QYl7lxCRKrLpJePDQjcRPe/5w8POhqPu+JZNfPw9UxQN6EOP/ZRuClQbL/MoYTw6\n",
       "dpvuwh1i4zIofwoT95FrWixLU0/pBEdUI7q7Q3ijIxWYcFFFkc+R8Wlh78TmPakKJuHJbEqNKXdz\n",
       "8ueYgvp+a20GwrN5ekj0SKx2UlwGOe/EXWephV9t3fi3MLGfPBTtycIvnGokaBAcuS+ZYlXCvknx\n",
       "UWh3U22gaxXsFzqSbd95+SGatCKOagxGE26qIwDViI1EqUoGP7MpXp1SFp24Uyw8ih51Q5jYQcCM\n",
       "GNUIZAiOI5VuFmyxb1KzDEasdUtrm0A1FCAE1JCQ7ebznr2fbaLiCoOiukF3JzAKStW4RRXy71j5\n",
       "i/GATqnauEs4jsNxBaDx4dn4FD5o19FZJ9U0wTHVY+jMDDwyOKk2adQ3ad/TpuGOaqyOuGvK9kZQ\n",
       "4VEvNwSTYWImb7b29MdMg0na0XGqU2tYRjAcYnkH7haObyWNZPTBszABk2jcRNBZB1XJJDimuheX\n",
       "hx3Jyrgap75J2ug9S6gqE8QVTR0HhVXsbfA7BBva3PmLTcD2BEU1/HhKOAyw7kUauWZT/YKtDsdh\n",
       "QBfx6AK6HEmzgY0r+ElDPcpIGhaFgyxkFYvMM/DVlxTHVCtQzr42DdWabFDfJE1WM26quMAjbOzo\n",
       "P7CPVb+OsVq9Eo64Czc24bU/m80m0F41+PkxQHW42AXS0IJhUWUNgYXz1eSNwg+4R2phAwuPDi3o\n",
       "cG/xJagww+NkY/xIV+bO7dRs+sIQfrMheI47VQP9UJWgvkla1Ei7zlWenIA30WWWv9CnKeh3rvzF\n",
       "Jo1rGztPArxLowoGL1RVGlWrvuS9E/QVeHVF/aamZpQ5DRR2u+Ap1hjyniMvUD0PV6EvTH2TNOg0\n",
       "Pd9X8VaaJ1QPkeysRov7AUQN9JVfqElDpjJVD7TrQFRPmkI/LvbkPlSVg2+3r4RqH4prINPC3yQ8\n",
       "3zI4VWUOxbVJpr4FUqDGPalujsNnCylMtT8hT0D0iRdwGxU+A/094a/x5QwziWifwybsMm4hpk+9\n",
       "Z93qAFP22OPXTc8oFYtzK6H6JDpplRrd991rD9hUg3HUTfX+Rn0bQI1VfLl/IXAC850/ivJYsqNk\n",
       "vXvUQx4t5aFs1vnbYV6XV0UOLIPn3OAS3whV539LgxcTEGQnZaiITvDt1hQffQK/Qo3X6a+YVFdF\n",
       "1B5/fObcf71rQPyS9Bj9/+RfPYeaFJypBpYAAAAASUVORK5CYII=\n",
       "\" style=\"display:inline;vertical-align:middle;\" /></a></span>"
      ],
      "text/plain": [
       "|- forall_{m in NaturalPos} [forall_{A_{1}, A_{2}, ..., A_{m} in BOOLEAN} ((A_{1} or  A_{2} or  ... or  A_{m}) in BOOLEAN)]"
      ]
     },
     "metadata": {},
     "output_type": "display_data"
    }
   ],
   "source": [
    "closure"
   ]
  },
  {
   "cell_type": "code",
   "execution_count": 3,
   "metadata": {},
   "outputs": [
    {
     "data": {
      "text/html": [
       "<strong id=\"closure_spec\">closure_spec:</strong> <span style=\"font-size:20px;\"><a class=\"ProveItLink\" href=\"../__pv_it/theorems/79a768603778550c651661670153c27ee0a505870/expr.ipynb\"><img src=\"data:image/png;base64,iVBORw0KGgoAAAANSUhEUgAAAEYAAAATBAMAAADfQ2bzAAAAMFBMVEX///8AAAAAAAAAAAAAAAAA\n",
       "AAAAAAAAAAAAAAAAAAAAAAAAAAAAAAAAAAAAAAAAAAAv3aB7AAAAD3RSTlMARHarECKJuzJmVO/d\n",
       "mc2qKiq2AAAACXBIWXMAAA7EAAAOxAGVKw4bAAABD0lEQVQoz2NgIAAuMBAGBZSoYTlf/oSBbf9G\n",
       "vOawLxBmYPDHbxfzUbYJDNwMvOXl28srcalZzvCUgQe7OUw1Z86B1UQqxOFQw/jIAWpOgAVTAlwN\n",
       "o7JrUhFHWiFYKs4BZlcAO0MhXA0buxGD/0SG1WCpp3D3BHBc8PGBhbMgTwFDvALDfLDUA4Qahllc\n",
       "1TCeg78Aw3oHhnsgNseeM2fOHIeqYXawhrtzPQNIwTZw8BYgmcNi4ANXY8fAcIyB8SsLiH0ASQ1D\n",
       "EztczTYGlo8MzA8iQWwleFw0AMOqHcZj/cHA+YGBPSEBxOFbABUFM+7Bg+0AA9MFBsZLAWAHmYuA\n",
       "BTnebweSftjjiTEdEhcoAAAiLj7xf6vyygAAAABJRU5ErkJggg==\n",
       "\" style=\"display:inline;vertical-align:middle;\" /></a> <a class=\"ProveItLink\" href=\"../__pv_it/demonstrations/d04c242d1f70388b8d86ed5cdcb9d49eccd3b96b0/proof.ipynb\" style=\"text-decoration: none\">&nbsp;&#x22A2;&nbsp;&nbsp;</a><a class=\"ProveItLink\" href=\"../__pv_it/theorems/396b7a0f9445240bbc3cec8e6d5c93d8e58ee8830/expr.ipynb\"><img src=\"data:image/png;base64,iVBORw0KGgoAAAANSUhEUgAAAYEAAAAWBAMAAADUYz1YAAAAMFBMVEX///8AAAAAAAAAAAAAAAAA\n",
       "AAAAAAAAAAAAAAAAAAAAAAAAAAAAAAAAAAAAAAAAAAAv3aB7AAAAD3RSTlMAq1RmmUTNIjK7EInv\n",
       "3XZ/CtNrAAAACXBIWXMAAA7EAAAOxAGVKw4bAAAEs0lEQVRYw81XbYhUVRh+987HvXNn5+78EcrA\n",
       "HTKEsNUJtmALYtQtArUu2x8xiYkIYYscCQTzYyfoR9GiA0U1QeyVQpDtY9YfpUk59icpzPlhS4kD\n",
       "1yxDUzOjUYuY3vd83Hvu7V5jmRV64T33nuecOfc879c5AzBfogu9KRK3cGU+P/KDUPxcOWYb5bmt\n",
       "uMV/TbnBIevUG51jCwCewPc8AYt7J6A1uKKkL0dPicPjZJPyfiY0lkm5W/bYYBUBHqT+xt4Z7BWK\n",
       "stzf6UJqdsGNcV/6HGwMYW+tq7J3wgyK2UoNYBzgRXJvrXcGq4SirLjqoQ9Q8xbcGPclQZvPVHkn\n",
       "OahEeaL0LwaJAsbPMCeXLfTOoCkUV9t2zUNzSvjH4aq0lPD/5HBVGflKJMA77VmPAS7Q70ACIyk9\n",
       "D2lQ5oqy07riwWSbpLBPHK7KftSVIu/dX9UJT/GMfs7xfND3PKZdGrd/rN3+uncGyQZXlJL2e6D8\n",
       "5MR7HB4uPy2xIiwvKiMzfNzxouj8xdvIFBhJDwO8zUA1V8zofZqxDMgWafbFVMH4y8dvAbgkCmIM\n",
       "HkzlKlgikcdgd0MZuRcCJSeTmj1+AnecQFNsBp1VVPOoMv/9auQ+Q/CSj9eulIFd4Eq203/D1fgX\n",
       "qVCclDYlfHpmYQgPiJGHnLBkCSbyyshdrC0rmWzdg4VIw9zLOFmbheYVZf7h6NxWYON03bay+u2C\n",
       "U7/NFeDc6IrrWCkvCt9UNFFFOF6CtSE8KBvhDpGyr48OqiVyN/sohnz7e8EAao8jghVac3kir/tG\n",
       "OQIn3ajlVXgUt25l4dNCiIGJU/7G55A86NK8Jgr8D5ioBvCQLJWB8iHAQEsZ2MAWqSk+gFoGt0T1\n",
       "r8yKM7hPKod2Oh+1vALTYYgM9PudUBQlUU/5DKD1igwiht8nGHh4SHJGTQYR5JqQWLXrtDVS9dZr\n",
       "BRig6TVC9o+zLcFD/jpuMvIKo8D72G+Sa2TyZFyu8Ji4DkgGZxbwp8ThsyAeNtLdNnd3kd1C3t1Q\n",
       "7M9bZLcRBl8KMFiGmUyEtzPDroMLAFu5RVNVqwljP9rhICIY/A2hD4xHxCSqaqQ6zZiq+Aw+4KQ9\n",
       "3DgZwD/Ch9kB0eBjlg9vp11ehRfOwkCVVenVPH0KHoNG9peSqOB9zK2rDw06xhBnkDw08yc0zfBF\n",
       "jMGyuNXr9QLmQUNUPKPF1JzqOHBn9xmfAT+3fFwYSZ5nOcrnEyAbeZ7t646DNtVpwCKY5NH5LSd4\n",
       "63ruqmfr7G4KOc/MFlCAikrmgn4NKkYzHEQEDy8eHjsA8Cr3ATRkbn8nVMpQzA27pM/pTn8UzsGE\n",
       "gb8TGZA62J5Vx3eAEhUDBWJgNlgMYmnN2NSZ9hoOL6v120upBnMGBySDYaH/wWDryy85c/lncxm9\n",
       "MIJVIFmMv1Bynx4B89GniYHxBazJw3sdmw5r7ExWjC+pkXCmupc8rdPFcsnZg695qVXhKmTbps8j\n",
       "v3i8252LC1J5rK6bzyPzGIbhWzVFkSYvX47rd/y3HJbsFhpkul4PZDqVanMebukx8mY0nAmFpHEB\n",
       "74br5T+kbsvv+G974CdYFBXKO4XeFLFikufnKLAY3SnC/1T+AWAhQW6LewX+AAAAAElFTkSuQmCC\n",
       "\" style=\"display:inline;vertical-align:middle;\" /></a></span><br>"
      ],
      "text/plain": [
       "<IPython.core.display.HTML object>"
      ]
     },
     "metadata": {},
     "output_type": "display_data"
    }
   ],
   "source": [
    "closure_spec = closure.instantiate({m:m}, assumptions=[InSet(m, NaturalPos)])"
   ]
  },
  {
   "cell_type": "code",
   "execution_count": 4,
   "metadata": {},
   "outputs": [
    {
     "data": {
      "text/html": [
       "<span style=\"font-size:20px;\"> <a class=\"ProveItLink\" href=\"../__pv_it/demonstrations/361c8db4d15673b8c56e82d97d45461e4b97296c0/proof.ipynb\" style=\"text-decoration: none\">&nbsp;&#x22A2;&nbsp;&nbsp;</a><a class=\"ProveItLink\" href=\"../__pv_it/demonstrations/87e07455e5f4dd07cd107fcd043da98e20bb18240/expr.ipynb\"><img src=\"data:image/png;base64,iVBORw0KGgoAAAANSUhEUgAAAXEAAAAWBAMAAADEL7HBAAAAMFBMVEX///8AAAAAAAAAAAAAAAAA\n",
       "AAAAAAAAAAAAAAAAAAAAAAAAAAAAAAAAAAAAAAAAAAAv3aB7AAAAD3RSTlMAq1RmmUTNIjK7EInv\n",
       "3XZ/CtNrAAAACXBIWXMAAA7EAAAOxAGVKw4bAAAEr0lEQVRIx81Xb4gVVRQ/b96fmTfz3uQjhf4Q\n",
       "DCVrkFtPKCGCWMqg2qyHfdOMBT8EIfmi2BArX9GHIrUnQfoiYyI/tGzZUyJyF2yJJFHUJXWppcUn\n",
       "VtKmy1Jh0VLbOffec2fmzRgt733owrlz58yZ3/3dM+ecewegK62qpNvN/Jf5utJcT0rXW7bVNtF3\n",
       "b10+vgTgcRwvIsVNHU5wixLYt7NU3hJ/bv9Uutps/ne8AOZ825N8tjX4XgXcMsB9dP9EZ8TtASng\n",
       "nvBh6SmlvY66HWJ4cRqM1WWpTvnYWa0YSMg8BJPz25mXnWod4EmAlyia6p0xz5Sl2HtqOPhdae+m\n",
       "bjd1Q99g94iKzTSRztdiIIF5GCbdF2Oe9jBObpeLcjoM0YKS3FEKzTGlLZJP6EvARnLcY2w9jjIY\n",
       "BwnMIzBHVYDvmZrQzNGq4EMafZXrMMx7lHxOHrDYS+SPDGmcX+j2FbY+gHJPHESbR2E2yEx9ytc+\n",
       "Tz2DGZND2senpo51yLxfivmX+NYcCORAciRsJS/DB2w9qPzeXgDZPAqzX77j62iZvnQ9rRMj5n6A\n",
       "tztkvkGK83dUfQ3AjPBhNB1TNXBbCShsHoVZCZESks9OnDyNy0jjOp8Gkyqju3h0WOfxuf6RkYSq\n",
       "HTbp+XS1/uRfSymq3LTlbJT8k3Q9K3PTHi2Jt61FUPQTmLM5wwBQ1C/XI44W9w4sLAamQd53KhhI\n",
       "OPM7/Hi9B/mx+K6gTaxzjYrrmDdyXByWUpgVBGHHJanOVQ0RrCfFnZ+BzLhy4NKkL8fmDAMuDd4Q\n",
       "E2JIT32rmEN9HWrwmdGiBF2OXmA8A/PZ6IshByarkLLrwIgXZV4UU94M0Ktwmjnh7bPipnZVxfxD\n",
       "7VuJ+weba5g1s1yS7HrI51DPq9IzgJXUpPR/WT3dioysWKEMTGgDQ+bmXX40WmQJbmrmMP6auIhK\n",
       "7kDaV8yLVvL+ocwZxp4m5r26kgbM0dUGaQ5g2KTCyX5DIm5gMiToZx46wop3pZiUWo4fMD+/RHqC\n",
       "8pHyxpEQ7opK4gzKnGFcm5jfKXQzEea3YobS4p/HBC3I4NgsvPilGK/5PoqvTLAQPSqmd6yH2WC/\n",
       "ktvKkB2BgPlHMrGMXwHWEfJ2+ZHsCXm5zN3HA2FzhlkmmPfLHPA086bzMzLJNGWVggK5xbN6BfQJ\n",
       "mg3GxIsh5sIE0pOwstFoeBjnTT5DbVdiP1ASxyBmnlHz7d25mBZpcvVVRek0d8W+iLmEMcuCwBmp\n",
       "unat/FwbG+KsCEX2Wgr97lZVtSqhXICqFS0vymTZJLwufQ5NrsrFmhRuvcll/1l4bgGbhDX6yZwH\n",
       "porR7EG5+3N7QZ/2sDT8AMTcbsKHeIrEJeUrMEy33AkTqzKJdVQy/4yZ07EofDRKZm7ufvXBhf1W\n",
       "/CkPckntXj3a2z/jC+bWF2CvOjQNYnPd5llfwbYqdZ40eR93C5NOdD0/HnxTv71LiWxbNh1KPJfN\n",
       "z88uiPmK3zzYfIVFtVcnihaDT0B+i+Kamxq9ODNXheFGI5q9Q1xxut52Javzbb9z1kU8x61VN5vm\n",
       "xyGrd2k92jeX8A9otqR0vblX+OG8kKQMB1Y6YfR/af8APkNCjvFWNJgAAAAASUVORK5CYII=\n",
       "\" style=\"display:inline;vertical-align:middle;\" /></a></span>"
      ],
      "text/plain": [
       "|- forall_{C_{1}, C_{2}, ..., C_{4} in BOOLEAN} ((C_{1} or  C_{2} or  ... or  C_{4}) in BOOLEAN)"
      ]
     },
     "metadata": {},
     "output_type": "display_data"
    }
   ],
   "source": [
    "closure.instantiate({m:num(4), A:C}, num_forall_eliminations=1)"
   ]
  },
  {
   "cell_type": "code",
   "execution_count": 5,
   "metadata": {},
   "outputs": [
    {
     "data": {
      "text/html": [
       "<strong id=\"demo1\">demo1:</strong> <span style=\"font-size:20px;\"><a class=\"ProveItLink\" href=\"../../__pv_it/theorems/a10dbfd9a4efbb6f30af430036ab01697a9460f80/expr.ipynb\"><img src=\"data:image/png;base64,iVBORw0KGgoAAAANSUhEUgAAADYAAAAQBAMAAACvnpHFAAAAMFBMVEX///8AAAAAAAAAAAAAAAAA\n",
       "AAAAAAAAAAAAAAAAAAAAAAAAAAAAAAAAAAAAAAAAAAAv3aB7AAAAD3RSTlMAIs1UmauJMnZmRLsQ\n",
       "3e++988cAAAACXBIWXMAAA7EAAAOxAGVKw4bAAAA40lEQVQY02NgAAEhBhTAcW/Tp7dRUI4+qhwD\n",
       "N1eD0NEFYCbzfwy5CWwCG8BMlngBDDlOgwAwMzG/AGrR3ruX4HIKIBZjQ78BWIpL4wBcH6tkAthI\n",
       "BvsJEOcegJvZ0xsGZi1mqAerYVBE2Hfp/RWwQgcGeYi9Ckhu4ZilA3LAFpd4sHvZ3969e/c2VI5h\n",
       "wzIg4wQDA/8FkAjPBiR9DBu4wUYy8D4AC11AkWMCOhzoRqYPYKEOFDkLBgY5EPsjWIjJAC6XwNbm\n",
       "wHD6vw4D8/5PYE/wRK+BBI/ebkQ8wABXNiTMIAAAYXA8zHUEOxUAAAAASUVORK5CYII=\n",
       "\" style=\"display:inline;vertical-align:middle;\" /></a>, <a class=\"ProveItLink\" href=\"../__pv_it/theorems/c50b73f2d168f6a3012768bd45c62ea92218bcbc0/expr.ipynb\"><img src=\"data:image/png;base64,iVBORw0KGgoAAAANSUhEUgAAADcAAAAQBAMAAABAXPr7AAAAMFBMVEX///8AAAAAAAAAAAAAAAAA\n",
       "AAAAAAAAAAAAAAAAAAAAAAAAAAAAAAAAAAAAAAAAAAAv3aB7AAAAD3RSTlMAZrurzTLvInZEmRDd\n",
       "VIkafcLnAAAACXBIWXMAAA7EAAAOxAGVKw4bAAAA8UlEQVQY02NgwAZ6kvzdDk8AsYT+Gxs7BaDK\n",
       "Ksxg97YEs5IYGJi/oklOZHjOBGKw/2Bg4PyFISnLDGIwAnUx/gCLceicOQKXZAExmD8wMLCkg1ic\n",
       "HhsQOs3lQAw2BQZuG7CDSjYgHLTj8AMQI16jw0QALOSOsHOO25/VIEZ/AQNvIljIAdlBjVNA5qgB\n",
       "8XuQsaw5Z86cOQSTZOIEmfsZiOUbgAS3ArJOJgYgl/UjkGMPDqsDqJJAWzi+AxV8AQt1oEjyAk1j\n",
       "SWBgmOYNFmK5AJecx/DiFTAI9D8bm+hChLiNZkMYLUn60FhBApyPoMEHAQCDjz3xiC/o5wAAAABJ\n",
       "RU5ErkJggg==\n",
       "\" style=\"display:inline;vertical-align:middle;\" /></a>, <a class=\"ProveItLink\" href=\"../__pv_it/demonstrations/dc7d96b1022c0165a0469ead301debeb324b9c180/expr.ipynb\"><img src=\"data:image/png;base64,iVBORw0KGgoAAAANSUhEUgAAADYAAAAQBAMAAACvnpHFAAAAMFBMVEX///8AAAAAAAAAAAAAAAAA\n",
       "AAAAAAAAAAAAAAAAAAAAAAAAAAAAAAAAAAAAAAAAAAAv3aB7AAAAD3RSTlMAEHa7q2Yiie9Umd0y\n",
       "zUTye3nKAAAACXBIWXMAAA7EAAAOxAGVKw4bAAAA4ElEQVQY02NgwAKYdtj+7fYDsRiVXVzZClAk\n",
       "mfkUckUeABkaigycqwPQ5ALYEwwYGIT3ADnrE9DlWCc4MDDcEAByXkDElHfvvgCXu8DA/hPEOQWW\n",
       "equI0MeSWsCQvwHEkQERbBcRZipquzMw1CvAbeFNQMjt7d8lwLAf4QpeZLcwxV1k6AdzQO5hOLEb\n",
       "CAygcgwGzxn2g9icB0CkMLI+BgNmiM/YwSLcqHK8DPkgtxRCglEBRW4SA+dXBobnAhChmwi5Anb1\n",
       "BQwMUiZeD6BCInYQRUw3jKHxgASeW0PCDAIA+qo1SVIYGkQAAAAASUVORK5CYII=\n",
       "\" style=\"display:inline;vertical-align:middle;\" /></a>, <a class=\"ProveItLink\" href=\"../__pv_it/demonstrations/be49e688692580141a3851882e8c02185518c0cd0/expr.ipynb\"><img src=\"data:image/png;base64,iVBORw0KGgoAAAANSUhEUgAAADgAAAAQBAMAAACxV6F2AAAAMFBMVEX///8AAAAAAAAAAAAAAAAA\n",
       "AAAAAAAAAAAAAAAAAAAAAAAAAAAAAAAAAAAAAAAAAAAv3aB7AAAAD3RSTlMAdrurIs1mVDKZ70SJ\n",
       "EN02Mxp8AAAACXBIWXMAAA7EAAAOxAGVKw4bAAAA6UlEQVQY02NgwAYYX6l+XWcNYgn9VzZSdkCV\n",
       "ZeIWcL28AcT6ysDA9h1dMoHHQQHI4PgIJGZhSLIVGIAs+AEk9idALNN79xQuGQBifAAS/gdAYtyB\n",
       "F+A6md1AQvwgs/tBZjC4XoAbKytnA2L0CwCJfLDOEISdT9e/BKmUbwAS9mB3ByA5iDE7FsjQB/F+\n",
       "gQiOde/evXsElWRQ2ANkfAJitm8gIV4FJJ0MCkxQb96CCD9AkWSFelMVIiaIIlnIwMAK9Oa+CRAx\n",
       "1gK45AEemQkMzPqfjZWmQMV4jfZCAipKCRoryID7ECT4IAAAk1I8Z0PO6g0AAAAASUVORK5CYII=\n",
       "\" style=\"display:inline;vertical-align:middle;\" /></a> <a class=\"ProveItLink\" href=\"../__pv_it/demonstrations/562497b31cd01a2c3769a030b08d4016beb44b410/proof.ipynb\" style=\"text-decoration: none\">&nbsp;&#x22A2;&nbsp;&nbsp;</a><a class=\"ProveItLink\" href=\"../__pv_it/demonstrations/9ea2eed5392d81c2a9966e32841742ba2e03f7860/expr.ipynb\"><img src=\"data:image/png;base64,iVBORw0KGgoAAAANSUhEUgAAALwAAAAVBAMAAAAOdJm+AAAAMFBMVEX///8AAAAAAAAAAAAAAAAA\n",
       "AAAAAAAAAAAAAAAAAAAAAAAAAAAAAAAAAAAAAAAAAAAv3aB7AAAAD3RSTlMAInZUiRDNmWbv3US7\n",
       "qzJazP2FAAAACXBIWXMAAA7EAAAOxAGVKw4bAAACrElEQVQ4y61VTWhTQRCevPw0zV9zKgpCQrGg\n",
       "UkkoRdGLEfGm9OFFhFaiUDAgmKIg9mJOXlTSix6q0IIQMUobsB700qeHCtKYHEQFE5Kb4CX9gaBY\n",
       "G2dn9uVlU3PyPci8nW/nfTs78+0GAMJgw+PoNaHF6TX4f/T+aBfrs9Xm3DccjLF/rSveW/pT/fyx\n",
       "C3SPVL86Ego00ipWiliAA12hAX90cLIA7iR5zpawQR1NiBPpNwBqdRU7OAzOmYyKNTGVLQCP3k2f\n",
       "cYUN6MuQ11cTLfCKLwJ1QiI4Xkkr2MQimtthBQttormFUHoXvTdehn72To5T8ILVhSwC2aiCpUSG\n",
       "r9U4bQfNCub4QBb9Qz7Xpk/CEW58NEYdPoW/6xxXE3zhTsy1Jex3NS6wLnaK/bjCLb6st7MP7knA\n",
       "Da4NnMiY+lng+ccAk4sKFiF7UY0bwBZBowxwlgWot4szfOiTuehLaJAggnXQuGOh7aHDPNfGxi3x\n",
       "WXEN8crix3fIvWTVPjf/VIcn5KQhUibSMvh4fW0D4FhGwZasA2jFxUTPagUMJjfZ0Vrt7hQ8Iq73\n",
       "N2uGXP2onJ7FYu8o2DxZXY0rCfNLbIOWncvn8y8kPRjLTH8Oa8ilHDO3N4C78W4q2BIdkLoaty30\n",
       "/NNUlNvoyB6MABcHNeubJdQXkgENcXp+K5hQPLhAwUj2F8T4OIClC0nvgXdCTUjlWeeS3y/wdAy5\n",
       "GkkFEwcNToOCkexXxege+UMK/Sjpaa9wN/hWycnpFK76UFcwJ9ZgWQrPxERWb+jAssI98TZ9wrU/\n",
       "DT/wrLemwFlq8lUlD1WlVa1eNUMlBueLXwqgYEG8+Namaficl6284l2l1ujG9NXBlschq+4/k891\n",
       "Xrxpe+jl1bjreWsP/b4e+IQ99L2ydETtYNf+/Y/9F20xvEihz8lzAAAAAElFTkSuQmCC\n",
       "\" style=\"display:inline;vertical-align:middle;\" /></a></span><br>"
      ],
      "text/plain": [
       "<IPython.core.display.HTML object>"
      ]
     },
     "metadata": {},
     "output_type": "display_data"
    }
   ],
   "source": [
    "demo1 = closure.instantiate({m:num(4), A:[A, B, C, D]}, assumptions=[in_bool(A), in_bool(B), in_bool(C), in_bool(D)])"
   ]
  },
  {
   "cell_type": "code",
   "execution_count": 6,
   "metadata": {},
   "outputs": [
    {
     "data": {
      "text/html": [
       "<span style=\"font-size:20px;\"><a class=\"ProveItLink\" href=\"../__pv_it/demonstrations/9ea2eed5392d81c2a9966e32841742ba2e03f7860/expr.ipynb\"><img src=\"data:image/png;base64,iVBORw0KGgoAAAANSUhEUgAAALwAAAAVBAMAAAAOdJm+AAAAMFBMVEX///8AAAAAAAAAAAAAAAAA\n",
       "AAAAAAAAAAAAAAAAAAAAAAAAAAAAAAAAAAAAAAAAAAAv3aB7AAAAD3RSTlMAInZUiRDNmWbv3US7\n",
       "qzJazP2FAAAACXBIWXMAAA7EAAAOxAGVKw4bAAACrElEQVQ4y61VTWhTQRCevPw0zV9zKgpCQrGg\n",
       "UkkoRdGLEfGm9OFFhFaiUDAgmKIg9mJOXlTSix6q0IIQMUobsB700qeHCtKYHEQFE5Kb4CX9gaBY\n",
       "G2dn9uVlU3PyPci8nW/nfTs78+0GAMJgw+PoNaHF6TX4f/T+aBfrs9Xm3DccjLF/rSveW/pT/fyx\n",
       "C3SPVL86Ego00ipWiliAA12hAX90cLIA7iR5zpawQR1NiBPpNwBqdRU7OAzOmYyKNTGVLQCP3k2f\n",
       "cYUN6MuQ11cTLfCKLwJ1QiI4Xkkr2MQimtthBQttormFUHoXvTdehn72To5T8ILVhSwC2aiCpUSG\n",
       "r9U4bQfNCub4QBb9Qz7Xpk/CEW58NEYdPoW/6xxXE3zhTsy1Jex3NS6wLnaK/bjCLb6st7MP7knA\n",
       "Da4NnMiY+lng+ccAk4sKFiF7UY0bwBZBowxwlgWot4szfOiTuehLaJAggnXQuGOh7aHDPNfGxi3x\n",
       "WXEN8crix3fIvWTVPjf/VIcn5KQhUibSMvh4fW0D4FhGwZasA2jFxUTPagUMJjfZ0Vrt7hQ8Iq73\n",
       "N2uGXP2onJ7FYu8o2DxZXY0rCfNLbIOWncvn8y8kPRjLTH8Oa8ilHDO3N4C78W4q2BIdkLoaty30\n",
       "/NNUlNvoyB6MABcHNeubJdQXkgENcXp+K5hQPLhAwUj2F8T4OIClC0nvgXdCTUjlWeeS3y/wdAy5\n",
       "GkkFEwcNToOCkexXxege+UMK/Sjpaa9wN/hWycnpFK76UFcwJ9ZgWQrPxERWb+jAssI98TZ9wrU/\n",
       "DT/wrLemwFlq8lUlD1WlVa1eNUMlBueLXwqgYEG8+Namaficl6284l2l1ujG9NXBlschq+4/k891\n",
       "Xrxpe+jl1bjreWsP/b4e+IQ99L2ydETtYNf+/Y/9F20xvEihz8lzAAAAAElFTkSuQmCC\n",
       "\" style=\"display:inline;vertical-align:middle;\" /></a> <a class=\"ProveItLink\" href=\"../__pv_it/demonstrations/bc00fcccbd0a97cba78b2782cf31f0bdf0f0179f0/proof.ipynb\" style=\"text-decoration: none\">&nbsp;&#x22A2;&nbsp;&nbsp;</a><a class=\"ProveItLink\" href=\"../__pv_it/theorems/c50b73f2d168f6a3012768bd45c62ea92218bcbc0/expr.ipynb\"><img src=\"data:image/png;base64,iVBORw0KGgoAAAANSUhEUgAAADcAAAAQBAMAAABAXPr7AAAAMFBMVEX///8AAAAAAAAAAAAAAAAA\n",
       "AAAAAAAAAAAAAAAAAAAAAAAAAAAAAAAAAAAAAAAAAAAv3aB7AAAAD3RSTlMAZrurzTLvInZEmRDd\n",
       "VIkafcLnAAAACXBIWXMAAA7EAAAOxAGVKw4bAAAA8UlEQVQY02NgwAZ6kvzdDk8AsYT+Gxs7BaDK\n",
       "Ksxg97YEs5IYGJi/oklOZHjOBGKw/2Bg4PyFISnLDGIwAnUx/gCLceicOQKXZAExmD8wMLCkg1ic\n",
       "HhsQOs3lQAw2BQZuG7CDSjYgHLTj8AMQI16jw0QALOSOsHOO25/VIEZ/AQNvIljIAdlBjVNA5qgB\n",
       "8XuQsaw5Z86cOQSTZOIEmfsZiOUbgAS3ArJOJgYgl/UjkGMPDqsDqJJAWzi+AxV8AQt1oEjyAk1j\n",
       "SWBgmOYNFmK5AJecx/DiFTAI9D8bm+hChLiNZkMYLUn60FhBApyPoMEHAQCDjz3xiC/o5wAAAABJ\n",
       "RU5ErkJggg==\n",
       "\" style=\"display:inline;vertical-align:middle;\" /></a></span>"
      ],
      "text/plain": [
       "{(A or B or C or D) in BOOLEAN} |- B in BOOLEAN"
      ]
     },
     "metadata": {},
     "output_type": "display_data"
    }
   ],
   "source": [
    "demo1.element.deduce_part_in_bool(1, assumptions=[demo1.expr])"
   ]
  },
  {
   "cell_type": "code",
   "execution_count": 7,
   "metadata": {},
   "outputs": [
    {
     "data": {
      "text/html": [
       "<span style=\"font-size:20px;\"> <a class=\"ProveItLink\" href=\"proofs/each_is_bool/thm_proof.ipynb\" style=\"text-decoration: none\">&nbsp;&#x22A2;&nbsp;&nbsp;</a><a class=\"ProveItLink\" href=\"../__pv_it/theorems/e0e13428a4631826afafff48ebd935627215daa60/expr.ipynb\"><img src=\"data:image/png;base64,iVBORw0KGgoAAAANSUhEUgAAAsYAAAAZBAMAAADAsfVVAAAAMFBMVEX///8AAAAAAAAAAAAAAAAA\n",
       "AAAAAAAAAAAAAAAAAAAAAAAAAAAAAAAAAAAAAAAAAAAv3aB7AAAAD3RSTlMAq1RmmUTNIjK7EInv\n",
       "3XZ/CtNrAAAACXBIWXMAAA7EAAAOxAGVKw4bAAAHE0lEQVRo3u1afYhUVRQ/M28+38w8Z8EiCXXE\n",
       "koW1ZcI1ECoHP1IxaEgIcyynLMQPakwQjGom6R9h0yHYcpc+Zk0CWaNREGoXajUty6wlFpPFgbdo\n",
       "yarZJmVllJ1777vvnTfvzTioUX/Mhffeuefee97v/d555557ZwAaK57Kd9As11G0yreNdg002XIt\n",
       "uWu3zmpyfGNemnBXn3r98vFbAB4XHMfZZXoDHHvYxZts8kpLGx7KOz+33LrTrg/79c29adCSnOOF\n",
       "TLWmAY59aXbJNXklRc2yc7QIMLVQxXEykkP1Os7xy3gOFhvgOMQ8fkuTV1p8/LPO6wCrUtUcKwkk\n",
       "rINzHCgBRBKNxGP2TvY3eaUlys9z0Yfn6lwcq1SyJscoRUuMYyXZ0IQWEPNjtskrLTP4eSoeG3gQ\n",
       "feSc5ceeTWWkLcl5O16pHGuI42ilcqrc5JWWpfz8BUDvSSYE11mx4tyPt+M1EuccLwboaYhjXwHC\n",
       "pSavtKxmp9AfF0dXC5JyFscnvhlGspQs53gjBOMNcYzdNorZlDbUYP0mvQwxk3hzLibVuhP+v5AK\n",
       "u+j4Ek77DWBm0r6IwFihzUav9g5yjsOlSNrVaHD4ANwbJ2uQHjjA5b0kT1GPuj+jTb3tl4ElYszo\n",
       "0v5+E/TEgT6XV0G7gEh4ZrvdaW+hDiGORgtC9S1qAqnua2QO3vVPDcsc4QjnE3mM/M6kzgqWosEx\n",
       "FDPo4+OcY6/uNuVtn9QF0yIlX4lw3G5MeZ+QNCRyyRWZXa0MgTbIhMcSHBEvfnSCN50jaReDYzVO\n",
       "TPrY5glBYdbdGi0Vh2DI5i0Ya3ELiJspAidj0KKXn2ulHE9AeMrfTNpD/RiKYXzIQSNXuN8l8VvM\n",
       "Vn96KkLX0gGFJyj+Tt3quPxrV47tak8KlHHmAl/iIRPJmfj67nAMtHUxOOarH2mSrTQzBIWsuzZa\n",
       "Kg5ByNYtcHnrL1tAXExROJjlclr0cmQXjRU7sKfnVybF7BwjZ94hwfF+jBvK/O2j2hz2MaF0BuA0\n",
       "69h650s2jiMzuFdrARK/9SdcObarowl4nwWsPHpXyPCwIHPLrY6BtIvkOGYzWRRztImiSOfs6kZT\n",
       "JSBw2bpFmEVKAsRpisLBVQSnRS9vkpHmbXb6CWeLHfwL13Qbx+3IZlFw/ALieXdlMhrXGDAm5VT+\n",
       "bK2RXRnKcfCgeFhflkwED7jPDzZ1/nTHbew6mfr2kOvLmWyvchybbSanM98jKIy6e6OpEhC4bN0C\n",
       "fTVDgThNUTjelKBFX/CVjOz72GkDfg2fiZj6pMVxOXIe/d9XFhx7cMTzP8CEAlNwqeTn02QrpMZs\n",
       "+26cKH8BY2vQeN/L4QL42xc6QgWqSbkP1Inselh4MB8b5V+gY+xhF44fNU1uKTHnYxkkR/HwmbSs\n",
       "y2ezGu0qAYHLBEURXZUAcZqicPxFQYtefuV7Q/UqHpOutrSsNVy9t0uM1zZ08303iKXJ3uYU6IRY\n",
       "QkgrQVnb3f0actwXcO5t+gb2XYGtI0YSPjC1FIUPHLk5qkkVny7PYiqLqF5jbJR9VwnHWNHFzvE0\n",
       "aTJ0F0s5kxmJYlAdl3U5u1qNdpWAwGWCYha6KgHiNEXhhIqCFozHMoTGqtOXzFsV21L4Rbp/fBTG\n",
       "IB8S0oJQqCz82N/u5FiHICYqIzJnzBeC+HocqWS+oMybtbBNYDgEsIpJLXicNcZ6MDBpOcdY0aVj\n",
       "WRvheJs0CTH25rI9EkUuNCjrsliNHdM7Hv7QVBkQmExQBNBVKRCHKQrHmxK0IMcyV1ZS10iq5xOO\n",
       "g+Pov3N80Mekk60i9GNaOurgmH0vlzjCPoBlmLmg83exilqWJ6H2jsERb5lpgldAHWbC3jRoaWOs\n",
       "inkP++S6yECzS3sxVjXniTtxju8umyjCaaMu70wa24vRNH9TTCUgCNlCAQqudy0gLqYoHJzRegyO\n",
       "t0s23qhPMd/QlBz747AGNp6DzgRK55OwBd956ETOShdNjh+Mw+7LaYawM+E7COpDT7NFNlZCn0Nn\n",
       "jp2keqea9SUgdAju+XNgCRfUBR+zTRM+FnYvvVjiC3RsEANzZhdPYTPhOJwDwyTnmO0UGigWGzmV\n",
       "NEAbw4X3YJ5sFxCEbKEQe4kmEBdTFA7CYLR4n1nfbf5Ssac+x+EcuPzWZARv9aPuruq1tK2MWH2h\n",
       "XyMVSxrylmMKia7eWmOt+CulGJxeYXFsTfYx+3IsUtJrP18M2mCozs82I/Zqv1bPFIOzx4WWoF6X\n",
       "47PgwrG/VHu/wrYMPJYw+wau/kUHSkmNa2kP3mSFbFhRa6zZw5R6oS1J1tKL5Kxzwb5//ezVodrP\n",
       "14sRYErtn20YCvp8DEhtUwzOouvc6KjmWIHGOHb0VWqaSDqE6k5JcOtCOI78H7b7lPRN4rj2vtt/\n",
       "8/+K3E3dxbuhcp1beVrl038A+HIz/ATc1BwAAAAASUVORK5CYII=\n",
       "\" style=\"display:inline;vertical-align:middle;\" /></a></span>"
      ],
      "text/plain": [
       "|- forall_{m, n in Natural} [forall_{A_{1}, A_{2}, ..., A_{m}, B, C_{1}, C_{2}, ..., C_{n} | (A_{1} or  A_{2} or  ... or  A_{m} or Bor C_{1} or  C_{2} or  ... or  C_{n}) in BOOLEAN} (B in BOOLEAN)]"
      ]
     },
     "metadata": {},
     "output_type": "display_data"
    }
   ],
   "source": [
    "each_is_bool"
   ]
  },
  {
   "cell_type": "code",
   "execution_count": null,
   "metadata": {},
   "outputs": [],
   "source": []
  },
  {
   "cell_type": "code",
   "execution_count": 8,
   "metadata": {},
   "outputs": [
    {
     "data": {
      "text/html": [
       "<span style=\"font-size:20px;\"> <a class=\"ProveItLink\" href=\"../__pv_it/demonstrations/0566ee96b84d5c0735076ba089a67fb136a1e50e0/proof.ipynb\" style=\"text-decoration: none\">&nbsp;&#x22A2;&nbsp;&nbsp;</a><a class=\"ProveItLink\" href=\"../__pv_it/axioms/644ef198683ba1122dae29a93144c0bb33daed710/expr.ipynb\"><img src=\"data:image/png;base64,iVBORw0KGgoAAAANSUhEUgAAADUAAAAOBAMAAAB9dUktAAAALVBMVEX///8AAAAAAAAAAAAAAAAA\n",
       "AAAAAAAAAAAAAAAAAAAAAAAAAAAAAAAAAAAAAADAOrOgAAAADnRSTlMAmd2rVHZEZhAyuyLNiZwV\n",
       "5zYAAAAJcEhZcwAADsQAAA7EAZUrDhsAAAB0SURBVBjTYxBSAgFlBiTACBZSMgCxXSFCzA1AgjMA\n",
       "zGYJgKqDyrGD+FwTsMoxKADxHgbscleAWASH3B6oXmxyzBMYWANwyHEaMDA14JBjOM3gyIBLzhco\n",
       "i0uOiXMBTjnW4gScchw6DOhy6fBQFoEx2AqABABLhxPlC5SEqgAAAABJRU5ErkJggg==\n",
       "\" style=\"display:inline;vertical-align:middle;\" /></a></span>"
      ],
      "text/plain": [
       "|- TRUE or TRUE"
      ]
     },
     "metadata": {},
     "output_type": "display_data"
    }
   ],
   "source": [
    "Or(TRUE, TRUE).prove()"
   ]
  },
  {
   "cell_type": "code",
   "execution_count": 9,
   "metadata": {},
   "outputs": [
    {
     "data": {
      "text/html": [
       "<span style=\"font-size:20px;\"> <a class=\"ProveItLink\" href=\"../__pv_it/demonstrations/7092f271b2daeaf2599957d3ccc066007c3db1f80/proof.ipynb\" style=\"text-decoration: none\">&nbsp;&#x22A2;&nbsp;&nbsp;</a><a class=\"ProveItLink\" href=\"../__pv_it/axioms/5be08831a8e37b44b705904bb8ca6529c1f0a5d10/expr.ipynb\"><img src=\"data:image/png;base64,iVBORw0KGgoAAAANSUhEUgAAADUAAAAPBAMAAAC2KZqIAAAAMFBMVEX///8AAAAAAAAAAAAAAAAA\n",
       "AAAAAAAAAAAAAAAAAAAAAAAAAAAAAAAAAAAAAAAAAAAv3aB7AAAAD3RSTlMAmd2rVHZEZhAyuyLN\n",
       "ie8tkZAaAAAACXBIWXMAAA7EAAAOxAGVKw4bAAAAdUlEQVQY02NgwAOElEBAGU2UrQDKcIVQzA1A\n",
       "gjMAzGYJQJVjB/G5JmCVY1AA4j0M2OWuALEIDrk9UL3Y5JgnMLAG4JDjNGBgasAhx3CawZEBl5wv\n",
       "UBaXHBPnApxyrMUJOOU4dBjQ5dLhQQzxOaOSkt4jJSUDAI7cFLFPCilqAAAAAElFTkSuQmCC\n",
       "\" style=\"display:inline;vertical-align:middle;\" /></a></span>"
      ],
      "text/plain": [
       "|- TRUE or FALSE"
      ]
     },
     "metadata": {},
     "output_type": "display_data"
    }
   ],
   "source": [
    "Or(TRUE, FALSE).prove()"
   ]
  },
  {
   "cell_type": "code",
   "execution_count": 10,
   "metadata": {},
   "outputs": [
    {
     "data": {
      "text/html": [
       "<span style=\"font-size:20px;\"> <a class=\"ProveItLink\" href=\"../__pv_it/demonstrations/ab2095cdbad65476c1d763ad4bd74be24098dd8f0/proof.ipynb\" style=\"text-decoration: none\">&nbsp;&#x22A2;&nbsp;&nbsp;</a><a class=\"ProveItLink\" href=\"../__pv_it/axioms/439378edc5303e14cd663a2903f838515479ff050/expr.ipynb\"><img src=\"data:image/png;base64,iVBORw0KGgoAAAANSUhEUgAAADUAAAAPBAMAAAC2KZqIAAAAMFBMVEX///8AAAAAAAAAAAAAAAAA\n",
       "AAAAAAAAAAAAAAAAAAAAAAAAAAAAAAAAAAAAAAAAAAAv3aB7AAAAD3RSTlMARGZUdpnd76sQMrsi\n",
       "zYn8WdLlAAAACXBIWXMAAA7EAAAOxAGVKw4bAAAAeElEQVQY02NgwA+E0PisaWDQAGKbQIQ4JgAJ\n",
       "Lgcwm9kBqg4qxwTicy/AKseQAMRnGbDLPQbiYBxyZ6F6sclxLGBgccAhx9XAwDYBhxzDHQZTBlxy\n",
       "dkBZXHJsXBtwyrFoCOCU48xlQJELS0srT0vLgAgFw+QYFYAEAA+PFtlNV6SWAAAAAElFTkSuQmCC\n",
       "\" style=\"display:inline;vertical-align:middle;\" /></a></span>"
      ],
      "text/plain": [
       "|- FALSE or TRUE"
      ]
     },
     "metadata": {},
     "output_type": "display_data"
    }
   ],
   "source": [
    "Or(FALSE, TRUE).prove()"
   ]
  },
  {
   "cell_type": "code",
   "execution_count": 11,
   "metadata": {},
   "outputs": [
    {
     "data": {
      "text/html": [
       "<span style=\"font-size:20px;\"> <a class=\"ProveItLink\" href=\"../__pv_it/demonstrations/e9b0e711a70240746db6cc14b3ab7807951fe2a20/proof.ipynb\" style=\"text-decoration: none\">&nbsp;&#x22A2;&nbsp;&nbsp;</a><a class=\"ProveItLink\" href=\"../__pv_it/demonstrations/0e5066497a01b6dd05c9d2953396a81ab33cfd8b0/expr.ipynb\"><img src=\"data:image/png;base64,iVBORw0KGgoAAAANSUhEUgAAAFYAAAAVBAMAAAAutAQGAAAAMFBMVEX///8AAAAAAAAAAAAAAAAA\n",
       "AAAAAAAAAAAAAAAAAAAAAAAAAAAAAAAAAAAAAAAAAAAv3aB7AAAAD3RSTlMAmd0iq3ZUiRDNZu9E\n",
       "uzLWhN+VAAAACXBIWXMAAA7EAAAOxAGVKw4bAAABC0lEQVQoz2NgQABmBjwATTIMn1qeAGQeWwGI\n",
       "PIVF2QIQGYUs1AkmUyEcDxDxFGoI2EjOBiS1Ushql4KIe8hquQSQ1G5AVssE8s4EZLUMO5CcOwFZ\n",
       "LXsCAwNjAoraWQi1jAXIakFmMjGgqC1BqOVcgKyWwY+BIRRV7UoGISUgUAS5MAFF7RMGBg1UtdkQ\n",
       "ngkQcx9AUctpwCaAqvY9TrVsBZwGqGpPI9SiuYFB4S0DqtokCM8QiHkDUNVG+aCpXYsIB3YHVLVN\n",
       "E9DUiiPU8ikwgAJlt5KSCiS8IW5iVFLS3qSkBDRIBymO9RjwAmYFJM5C/GoZFyBxeA3wqrVF5nBc\n",
       "wKv2MgrPFJ9SVgMGAPkQK7naZXhkAAAAAElFTkSuQmCC\n",
       "\" style=\"display:inline;vertical-align:middle;\" /></a></span>"
      ],
      "text/plain": [
       "|- [not](FALSE or FALSE)"
      ]
     },
     "metadata": {},
     "output_type": "display_data"
    }
   ],
   "source": [
    "Not(Or(FALSE, FALSE)).prove()"
   ]
  },
  {
   "cell_type": "code",
   "execution_count": 12,
   "metadata": {},
   "outputs": [
    {
     "data": {
      "text/html": [
       "<span style=\"font-size:20px;\"><a class=\"ProveItLink\" href=\"../../../../__pv_it/common/09585084922504426caf1db2ff588a23a0932a960/expr.ipynb\"><img src=\"data:image/png;base64,iVBORw0KGgoAAAANSUhEUgAAAA8AAAAPBAMAAADJ+Ih5AAAAMFBMVEX///8AAAAAAAAAAAAAAAAA\n",
       "AAAAAAAAAAAAAAAAAAAAAAAAAAAAAAAAAAAAAAAAAAAv3aB7AAAAD3RSTlMAIs1UmauJMnZmRLsQ\n",
       "3e++988cAAAACXBIWXMAAA7EAAAOxAGVKw4bAAAAXklEQVQI12NgAAEhBijQh9LM/6EMlngBCCMx\n",
       "vwBMMzb0G0BkGOwngBmLGeoTwAwHBvkAEM2xxSV+A4hxgoGB/wJEhoH3AZDmAupg+gBkyAEx90cG\n",
       "htP/dRiY939KAABt3hLO6mcEjQAAAABJRU5ErkJggg==\n",
       "\" style=\"display:inline;vertical-align:middle;\" /></a>, <a class=\"ProveItLink\" href=\"../../../../__pv_it/common/a9162d1c3cc0470c02e5daf414500903a7a419230/expr.ipynb\"><img src=\"data:image/png;base64,iVBORw0KGgoAAAANSUhEUgAAABAAAAAOBAMAAADUAYG5AAAAMFBMVEX///8AAAAAAAAAAAAAAAAA\n",
       "AAAAAAAAAAAAAAAAAAAAAAAAAAAAAAAAAAAAAAAAAAAv3aB7AAAAD3RSTlMAZrurzTLvInZEmRDd\n",
       "VIkafcLnAAAACXBIWXMAAA7EAAAOxAGVKw4bAAAAb0lEQVQI12NgYBD6b2zsFMAABEkMDMxfgTT7\n",
       "DwYGzl9ABiOQxwjkMDB/YGBgSQcy2BQYuG1AiuM1OkwEQJr6Cxh4E0EMNSB+D5L6DMTyDQwMrB+B\n",
       "DPsJDAwc34GcL0AOSwIDwzRvoHH6n41NdBkYAF/iFeJ4bEa2AAAAAElFTkSuQmCC\n",
       "\" style=\"display:inline;vertical-align:middle;\" /></a> <a class=\"ProveItLink\" href=\"../__pv_it/demonstrations/7a8adfeb02bd35815ba2754af5eadfabd7045d6e0/proof.ipynb\" style=\"text-decoration: none\">&nbsp;&#x22A2;&nbsp;&nbsp;</a><a class=\"ProveItLink\" href=\"../__pv_it/axioms/93740805d9480eb9ad930b4e4e09b06b85ab14c70/expr.ipynb\"><img src=\"data:image/png;base64,iVBORw0KGgoAAAANSUhEUgAAADcAAAAPBAMAAACy3Eq1AAAAMFBMVEX///8AAAAAAAAAAAAAAAAA\n",
       "AAAAAAAAAAAAAAAAAAAAAAAAAAAAAAAAAAAAAAAAAAAv3aB7AAAAD3RSTlMAIs1UmauJMnZmRLsQ\n",
       "3e++988cAAAACXBIWXMAAA7EAAAOxAGVKw4bAAABAElEQVQY02NgAAEhBjxAH43Puf9raNB2CJv5\n",
       "P4hkPQAk2BvAInwbGBjiC8BMlngBkHKQODdERB7IXu8AZibmg4UuIGyfDxSYDzaEsaHfAEQnA7Ez\n",
       "RDIeiPUEwKYy2E+AufkCRPI1A8PR62DWYob6BLCLChg4IO5h/93RqglR5sAgHwAWCmDgPQAW4fjI\n",
       "wGAHNo1ji0v8BrCYIoMJRDn3AwYGtu8g1gkGBn6IVWZAaTDgB5rE+QNiKgPvA7AYLzvEBIZ6oJGs\n",
       "v4AMLiCD6QPEqqkLIJL9QF/UKwAZciA7PoLFeC5Bw1YPqOcR0G2n/+swMO//BPYLLAii/4eGagPD\n",
       "BQDgODfLjtZywAAAAABJRU5ErkJggg==\n",
       "\" style=\"display:inline;vertical-align:middle;\" /></a></span>"
      ],
      "text/plain": [
       "{A, B} |- A or B"
      ]
     },
     "metadata": {},
     "output_type": "display_data"
    }
   ],
   "source": [
    "Or(A, B).prove(assumptions=[A, B])"
   ]
  },
  {
   "cell_type": "code",
   "execution_count": 13,
   "metadata": {},
   "outputs": [
    {
     "data": {
      "text/html": [
       "<span style=\"font-size:20px;\"><a class=\"ProveItLink\" href=\"../../../../__pv_it/common/09585084922504426caf1db2ff588a23a0932a960/expr.ipynb\"><img src=\"data:image/png;base64,iVBORw0KGgoAAAANSUhEUgAAAA8AAAAPBAMAAADJ+Ih5AAAAMFBMVEX///8AAAAAAAAAAAAAAAAA\n",
       "AAAAAAAAAAAAAAAAAAAAAAAAAAAAAAAAAAAAAAAAAAAv3aB7AAAAD3RSTlMAIs1UmauJMnZmRLsQ\n",
       "3e++988cAAAACXBIWXMAAA7EAAAOxAGVKw4bAAAAXklEQVQI12NgAAEhBijQh9LM/6EMlngBCCMx\n",
       "vwBMMzb0G0BkGOwngBmLGeoTwAwHBvkAEM2xxSV+A4hxgoGB/wJEhoH3AZDmAupg+gBkyAEx90cG\n",
       "htP/dRiY939KAABt3hLO6mcEjQAAAABJRU5ErkJggg==\n",
       "\" style=\"display:inline;vertical-align:middle;\" /></a>, <a class=\"ProveItLink\" href=\"../__pv_it/theorems/8552c6321b312c5e15a5015adce4a756ce05da420/expr.ipynb\"><img src=\"data:image/png;base64,iVBORw0KGgoAAAANSUhEUgAAAB0AAAAOBAMAAAAh/woJAAAAMFBMVEX///8AAAAAAAAAAAAAAAAA\n",
       "AAAAAAAAAAAAAAAAAAAAAAAAAAAAAAAAAAAAAAAAAAAv3aB7AAAAD3RSTlMAmd0iq2a7zTLvdkQQ\n",
       "VIm/XloVAAAACXBIWXMAAA7EAAAOxAGVKw4bAAAAgUlEQVQI12NggALW/C8u7hkMCMCZwMDg34Dg\n",
       "2y9gYNgvgODHA+XiFyD4/kBcaYDgT2NgOKKB4HJ8W7WkFEgLKQGBIgMD12cGhpsBUEkTBga2CQwM\n",
       "fD8QfH4HoJt+Ifj9QLUsv6F8QwaG9UCr+gsQ5lcyMHBPPwDnuv13cSm7wMAAAOyYG523RGm6AAAA\n",
       "AElFTkSuQmCC\n",
       "\" style=\"display:inline;vertical-align:middle;\" /></a> <a class=\"ProveItLink\" href=\"../__pv_it/demonstrations/f5dbaf7cf3ca23267422e245e69cebf9d398af3a0/proof.ipynb\" style=\"text-decoration: none\">&nbsp;&#x22A2;&nbsp;&nbsp;</a><a class=\"ProveItLink\" href=\"../__pv_it/axioms/93740805d9480eb9ad930b4e4e09b06b85ab14c70/expr.ipynb\"><img src=\"data:image/png;base64,iVBORw0KGgoAAAANSUhEUgAAADcAAAAPBAMAAACy3Eq1AAAAMFBMVEX///8AAAAAAAAAAAAAAAAA\n",
       "AAAAAAAAAAAAAAAAAAAAAAAAAAAAAAAAAAAAAAAAAAAv3aB7AAAAD3RSTlMAIs1UmauJMnZmRLsQ\n",
       "3e++988cAAAACXBIWXMAAA7EAAAOxAGVKw4bAAABAElEQVQY02NgAAEhBjxAH43Puf9raNB2CJv5\n",
       "P4hkPQAk2BvAInwbGBjiC8BMlngBkHKQODdERB7IXu8AZibmg4UuIGyfDxSYDzaEsaHfAEQnA7Ez\n",
       "RDIeiPUEwKYy2E+AufkCRPI1A8PR62DWYob6BLCLChg4IO5h/93RqglR5sAgHwAWCmDgPQAW4fjI\n",
       "wGAHNo1ji0v8BrCYIoMJRDn3AwYGtu8g1gkGBn6IVWZAaTDgB5rE+QNiKgPvA7AYLzvEBIZ6oJGs\n",
       "v4AMLiCD6QPEqqkLIJL9QF/UKwAZciA7PoLFeC5Bw1YPqOcR0G2n/+swMO//BPYLLAii/4eGagPD\n",
       "BQDgODfLjtZywAAAAABJRU5ErkJggg==\n",
       "\" style=\"display:inline;vertical-align:middle;\" /></a></span>"
      ],
      "text/plain": [
       "{A, [not](B)} |- A or B"
      ]
     },
     "metadata": {},
     "output_type": "display_data"
    }
   ],
   "source": [
    "Or(A, B).prove(assumptions=[A, Not(B)])"
   ]
  },
  {
   "cell_type": "code",
   "execution_count": 14,
   "metadata": {},
   "outputs": [
    {
     "data": {
      "text/html": [
       "<span style=\"font-size:20px;\"><a class=\"ProveItLink\" href=\"../../__pv_it/theorems/c6244e76de3be0816f3efc36199d65e50f6589940/expr.ipynb\"><img src=\"data:image/png;base64,iVBORw0KGgoAAAANSUhEUgAAABwAAAAPBAMAAAAFYbKSAAAAMFBMVEX///8AAAAAAAAAAAAAAAAA\n",
       "AAAAAAAAAAAAAAAAAAAAAAAAAAAAAAAAAAAAAAAAAAAv3aB7AAAAD3RSTlMAmd0iq81UiTJ2ZkS7\n",
       "EO8Z3gX6AAAACXBIWXMAAA7EAAAOxAGVKw4bAAAAaUlEQVQI12NgQADmAAZkwPoBhZuPyhX5jMxj\n",
       "N/+BzLXk/IbMFWD7hcTjTuD4zsAgpAQEikAuIwPzF6iMCRDPERT5g+DyTmBg+ITgMgIpPSjXkIFh\n",
       "F5CKRzj/AZA4bwDl8Z7/eoEh5384AEaRFfDwb8v9AAAAAElFTkSuQmCC\n",
       "\" style=\"display:inline;vertical-align:middle;\" /></a>, <a class=\"ProveItLink\" href=\"../../../../__pv_it/common/a9162d1c3cc0470c02e5daf414500903a7a419230/expr.ipynb\"><img src=\"data:image/png;base64,iVBORw0KGgoAAAANSUhEUgAAABAAAAAOBAMAAADUAYG5AAAAMFBMVEX///8AAAAAAAAAAAAAAAAA\n",
       "AAAAAAAAAAAAAAAAAAAAAAAAAAAAAAAAAAAAAAAAAAAv3aB7AAAAD3RSTlMAZrurzTLvInZEmRDd\n",
       "VIkafcLnAAAACXBIWXMAAA7EAAAOxAGVKw4bAAAAb0lEQVQI12NgYBD6b2zsFMAABEkMDMxfgTT7\n",
       "DwYGzl9ABiOQxwjkMDB/YGBgSQcy2BQYuG1AiuM1OkwEQJr6Cxh4E0EMNSB+D5L6DMTyDQwMrB+B\n",
       "DPsJDAwc34GcL0AOSwIDwzRvoHH6n41NdBkYAF/iFeJ4bEa2AAAAAElFTkSuQmCC\n",
       "\" style=\"display:inline;vertical-align:middle;\" /></a> <a class=\"ProveItLink\" href=\"../__pv_it/demonstrations/f34464e4aae5e232fd3c446ba0e2816a9d942d4b0/proof.ipynb\" style=\"text-decoration: none\">&nbsp;&#x22A2;&nbsp;&nbsp;</a><a class=\"ProveItLink\" href=\"../__pv_it/axioms/93740805d9480eb9ad930b4e4e09b06b85ab14c70/expr.ipynb\"><img src=\"data:image/png;base64,iVBORw0KGgoAAAANSUhEUgAAADcAAAAPBAMAAACy3Eq1AAAAMFBMVEX///8AAAAAAAAAAAAAAAAA\n",
       "AAAAAAAAAAAAAAAAAAAAAAAAAAAAAAAAAAAAAAAAAAAv3aB7AAAAD3RSTlMAIs1UmauJMnZmRLsQ\n",
       "3e++988cAAAACXBIWXMAAA7EAAAOxAGVKw4bAAABAElEQVQY02NgAAEhBjxAH43Puf9raNB2CJv5\n",
       "P4hkPQAk2BvAInwbGBjiC8BMlngBkHKQODdERB7IXu8AZibmg4UuIGyfDxSYDzaEsaHfAEQnA7Ez\n",
       "RDIeiPUEwKYy2E+AufkCRPI1A8PR62DWYob6BLCLChg4IO5h/93RqglR5sAgHwAWCmDgPQAW4fjI\n",
       "wGAHNo1ji0v8BrCYIoMJRDn3AwYGtu8g1gkGBn6IVWZAaTDgB5rE+QNiKgPvA7AYLzvEBIZ6oJGs\n",
       "v4AMLiCD6QPEqqkLIJL9QF/UKwAZciA7PoLFeC5Bw1YPqOcR0G2n/+swMO//BPYLLAii/4eGagPD\n",
       "BQDgODfLjtZywAAAAABJRU5ErkJggg==\n",
       "\" style=\"display:inline;vertical-align:middle;\" /></a></span>"
      ],
      "text/plain": [
       "{[not](A), B} |- A or B"
      ]
     },
     "metadata": {},
     "output_type": "display_data"
    }
   ],
   "source": [
    "Or(A, B).prove(assumptions=[B, Not(A)])"
   ]
  },
  {
   "cell_type": "code",
   "execution_count": 15,
   "metadata": {},
   "outputs": [
    {
     "data": {
      "text/html": [
       "<span style=\"font-size:20px;\"><a class=\"ProveItLink\" href=\"../../__pv_it/theorems/c6244e76de3be0816f3efc36199d65e50f6589940/expr.ipynb\"><img src=\"data:image/png;base64,iVBORw0KGgoAAAANSUhEUgAAABwAAAAPBAMAAAAFYbKSAAAAMFBMVEX///8AAAAAAAAAAAAAAAAA\n",
       "AAAAAAAAAAAAAAAAAAAAAAAAAAAAAAAAAAAAAAAAAAAv3aB7AAAAD3RSTlMAmd0iq81UiTJ2ZkS7\n",
       "EO8Z3gX6AAAACXBIWXMAAA7EAAAOxAGVKw4bAAAAaUlEQVQI12NgQADmAAZkwPoBhZuPyhX5jMxj\n",
       "N/+BzLXk/IbMFWD7hcTjTuD4zsAgpAQEikAuIwPzF6iMCRDPERT5g+DyTmBg+ITgMgIpPSjXkIFh\n",
       "F5CKRzj/AZA4bwDl8Z7/eoEh5384AEaRFfDwb8v9AAAAAElFTkSuQmCC\n",
       "\" style=\"display:inline;vertical-align:middle;\" /></a>, <a class=\"ProveItLink\" href=\"../__pv_it/theorems/8552c6321b312c5e15a5015adce4a756ce05da420/expr.ipynb\"><img src=\"data:image/png;base64,iVBORw0KGgoAAAANSUhEUgAAAB0AAAAOBAMAAAAh/woJAAAAMFBMVEX///8AAAAAAAAAAAAAAAAA\n",
       "AAAAAAAAAAAAAAAAAAAAAAAAAAAAAAAAAAAAAAAAAAAv3aB7AAAAD3RSTlMAmd0iq2a7zTLvdkQQ\n",
       "VIm/XloVAAAACXBIWXMAAA7EAAAOxAGVKw4bAAAAgUlEQVQI12NggALW/C8u7hkMCMCZwMDg34Dg\n",
       "2y9gYNgvgODHA+XiFyD4/kBcaYDgT2NgOKKB4HJ8W7WkFEgLKQGBIgMD12cGhpsBUEkTBga2CQwM\n",
       "fD8QfH4HoJt+Ifj9QLUsv6F8QwaG9UCr+gsQ5lcyMHBPPwDnuv13cSm7wMAAAOyYG523RGm6AAAA\n",
       "AElFTkSuQmCC\n",
       "\" style=\"display:inline;vertical-align:middle;\" /></a> <a class=\"ProveItLink\" href=\"../__pv_it/demonstrations/d34708a752af7cffa7057587e1ab5204890323990/proof.ipynb\" style=\"text-decoration: none\">&nbsp;&#x22A2;&nbsp;&nbsp;</a><a class=\"ProveItLink\" href=\"../__pv_it/theorems/88b090a35cddd0f3ea45e2fff303d7d3770a7d390/expr.ipynb\"><img src=\"data:image/png;base64,iVBORw0KGgoAAAANSUhEUgAAAFYAAAAVBAMAAAAutAQGAAAAMFBMVEX///8AAAAAAAAAAAAAAAAA\n",
       "AAAAAAAAAAAAAAAAAAAAAAAAAAAAAAAAAAAAAAAAAAAv3aB7AAAAD3RSTlMAmd0iq3ZUiRDNZu9E\n",
       "uzLWhN+VAAAACXBIWXMAAA7EAAAOxAGVKw4bAAABhklEQVQoz2NgQABmBjwATTIMIjgBq1qeAGQe\n",
       "WwGY4vyAqojr/hcXz3sMDFHIgp0QKh+s1gNEPAULcF9gYPB/wMDZgKRWCkKJfAaRS0HEPbCAPdD2\n",
       "8wIMXAJIajeASXbzfyCKCeHy9Q+AGKh+B5JzITKmrN/AWhIYGBgTwCL+QDzbgIFhFkItI8RrAmy/\n",
       "YKHBBJHYy8DQogekSxBqOReAgyaB7zuY68fAEApm8P0NDQEbuZJBSAkIFEEuBNvIyMD8BazkCQOD\n",
       "BpjBCvRrNsicbIiZJqCgOQBixQqK/IVYY8AG8Tgv0M/sIP++R1PLAfTvJ2jMcBqAGfwOwPj4CmSc\n",
       "RqgFu4ERiLUhYgpvIfR7oP0sf4CMJAjfEGQXKMJPAfF8iFiUD4SOBxr/HhSeaxHhwA60ixkUH/ch\n",
       "djdB09BsYODsBMWvOEItnwIDx/2fDQy5/6dDwhsSE77/XVzmgpk6SHGsx4AXMCsgcRbiV8u4AInD\n",
       "a4BXrS0yh+MCXrWXUXim+JSyGjAAANjOT0DZJm+EAAAAAElFTkSuQmCC\n",
       "\" style=\"display:inline;vertical-align:middle;\" /></a></span>"
      ],
      "text/plain": [
       "{[not](A), [not](B)} |- [not](A or B)"
      ]
     },
     "metadata": {},
     "output_type": "display_data"
    }
   ],
   "source": [
    "Not(Or(A, B)).prove(assumptions=[Not(A), Not(B)])"
   ]
  },
  {
   "cell_type": "code",
   "execution_count": 16,
   "metadata": {},
   "outputs": [
    {
     "data": {
      "text/html": [
       "<span style=\"font-size:20px;\"><a class=\"ProveItLink\" href=\"../__pv_it/axioms/93740805d9480eb9ad930b4e4e09b06b85ab14c70/expr.ipynb\"><img src=\"data:image/png;base64,iVBORw0KGgoAAAANSUhEUgAAADcAAAAPBAMAAACy3Eq1AAAAMFBMVEX///8AAAAAAAAAAAAAAAAA\n",
       "AAAAAAAAAAAAAAAAAAAAAAAAAAAAAAAAAAAAAAAAAAAv3aB7AAAAD3RSTlMAIs1UmauJMnZmRLsQ\n",
       "3e++988cAAAACXBIWXMAAA7EAAAOxAGVKw4bAAABAElEQVQY02NgAAEhBjxAH43Puf9raNB2CJv5\n",
       "P4hkPQAk2BvAInwbGBjiC8BMlngBkHKQODdERB7IXu8AZibmg4UuIGyfDxSYDzaEsaHfAEQnA7Ez\n",
       "RDIeiPUEwKYy2E+AufkCRPI1A8PR62DWYob6BLCLChg4IO5h/93RqglR5sAgHwAWCmDgPQAW4fjI\n",
       "wGAHNo1ji0v8BrCYIoMJRDn3AwYGtu8g1gkGBn6IVWZAaTDgB5rE+QNiKgPvA7AYLzvEBIZ6oJGs\n",
       "v4AMLiCD6QPEqqkLIJL9QF/UKwAZciA7PoLFeC5Bw1YPqOcR0G2n/+swMO//BPYLLAii/4eGagPD\n",
       "BQDgODfLjtZywAAAAABJRU5ErkJggg==\n",
       "\" style=\"display:inline;vertical-align:middle;\" /></a>, <a class=\"ProveItLink\" href=\"../../__pv_it/theorems/c6244e76de3be0816f3efc36199d65e50f6589940/expr.ipynb\"><img src=\"data:image/png;base64,iVBORw0KGgoAAAANSUhEUgAAABwAAAAPBAMAAAAFYbKSAAAAMFBMVEX///8AAAAAAAAAAAAAAAAA\n",
       "AAAAAAAAAAAAAAAAAAAAAAAAAAAAAAAAAAAAAAAAAAAv3aB7AAAAD3RSTlMAmd0iq81UiTJ2ZkS7\n",
       "EO8Z3gX6AAAACXBIWXMAAA7EAAAOxAGVKw4bAAAAaUlEQVQI12NgQADmAAZkwPoBhZuPyhX5jMxj\n",
       "N/+BzLXk/IbMFWD7hcTjTuD4zsAgpAQEikAuIwPzF6iMCRDPERT5g+DyTmBg+ITgMgIpPSjXkIFh\n",
       "F5CKRzj/AZA4bwDl8Z7/eoEh5384AEaRFfDwb8v9AAAAAElFTkSuQmCC\n",
       "\" style=\"display:inline;vertical-align:middle;\" /></a>, <a class=\"ProveItLink\" href=\"../__pv_it/theorems/8552c6321b312c5e15a5015adce4a756ce05da420/expr.ipynb\"><img src=\"data:image/png;base64,iVBORw0KGgoAAAANSUhEUgAAAB0AAAAOBAMAAAAh/woJAAAAMFBMVEX///8AAAAAAAAAAAAAAAAA\n",
       "AAAAAAAAAAAAAAAAAAAAAAAAAAAAAAAAAAAAAAAAAAAv3aB7AAAAD3RSTlMAmd0iq2a7zTLvdkQQ\n",
       "VIm/XloVAAAACXBIWXMAAA7EAAAOxAGVKw4bAAAAgUlEQVQI12NggALW/C8u7hkMCMCZwMDg34Dg\n",
       "2y9gYNgvgODHA+XiFyD4/kBcaYDgT2NgOKKB4HJ8W7WkFEgLKQGBIgMD12cGhpsBUEkTBga2CQwM\n",
       "fD8QfH4HoJt+Ifj9QLUsv6F8QwaG9UCr+gsQ5lcyMHBPPwDnuv13cSm7wMAAAOyYG523RGm6AAAA\n",
       "AElFTkSuQmCC\n",
       "\" style=\"display:inline;vertical-align:middle;\" /></a> <a class=\"ProveItLink\" href=\"../__pv_it/demonstrations/8584be809193bea0bfab8bf7846f8ae242493e360/proof.ipynb\" style=\"text-decoration: none\">&nbsp;&#x22A2;&nbsp;&nbsp;</a><a class=\"ProveItLink\" href=\"../../__pv_it/common/e0f123f2e4f322e1eba7f861749cda9fd9d99a120/expr.ipynb\"><img src=\"data:image/png;base64,iVBORw0KGgoAAAANSUhEUgAAAA4AAAAPBAMAAAAmOuNHAAAAHlBMVEX///8AAAAAAAAAAAAAAAAA\n",
       "AAAAAAAAAAAAAAAAAACGjDitAAAACXRSTlMARGZUdpnd76sKo+zpAAAACXBIWXMAAA7EAAAOxAGV\n",
       "Kw4bAAAAGElEQVQI12NgQAAhKG1CSzosLa08LS0DAJuOBVCdynDUAAAAAElFTkSuQmCC\n",
       "\" style=\"display:inline;vertical-align:middle;\" /></a></span>"
      ],
      "text/plain": [
       "{A or B, [not](A), [not](B)} |- FALSE"
      ]
     },
     "metadata": {},
     "output_type": "display_data"
    }
   ],
   "source": [
    "Or(A, B).derive_contradiction(assumptions=[Not(A), Not(B), Or(A, B)])"
   ]
  },
  {
   "cell_type": "code",
   "execution_count": 17,
   "metadata": {},
   "outputs": [
    {
     "data": {
      "text/html": [
       "<span style=\"font-size:20px;\"><a class=\"ProveItLink\" href=\"../../__pv_it/theorems/a10dbfd9a4efbb6f30af430036ab01697a9460f80/expr.ipynb\"><img src=\"data:image/png;base64,iVBORw0KGgoAAAANSUhEUgAAADYAAAAQBAMAAACvnpHFAAAAMFBMVEX///8AAAAAAAAAAAAAAAAA\n",
       "AAAAAAAAAAAAAAAAAAAAAAAAAAAAAAAAAAAAAAAAAAAv3aB7AAAAD3RSTlMAIs1UmauJMnZmRLsQ\n",
       "3e++988cAAAACXBIWXMAAA7EAAAOxAGVKw4bAAAA40lEQVQY02NgAAEhBhTAcW/Tp7dRUI4+qhwD\n",
       "N1eD0NEFYCbzfwy5CWwCG8BMlngBDDlOgwAwMzG/AGrR3ruX4HIKIBZjQ78BWIpL4wBcH6tkAthI\n",
       "BvsJEOcegJvZ0xsGZi1mqAerYVBE2Hfp/RWwQgcGeYi9Ckhu4ZilA3LAFpd4sHvZ3969e/c2VI5h\n",
       "wzIg4wQDA/8FkAjPBiR9DBu4wUYy8D4AC11AkWMCOhzoRqYPYKEOFDkLBgY5EPsjWIjJAC6XwNbm\n",
       "wHD6vw4D8/5PYE/wRK+BBI/ebkQ8wABXNiTMIAAAYXA8zHUEOxUAAAAASUVORK5CYII=\n",
       "\" style=\"display:inline;vertical-align:middle;\" /></a>, <a class=\"ProveItLink\" href=\"../__pv_it/theorems/c50b73f2d168f6a3012768bd45c62ea92218bcbc0/expr.ipynb\"><img src=\"data:image/png;base64,iVBORw0KGgoAAAANSUhEUgAAADcAAAAQBAMAAABAXPr7AAAAMFBMVEX///8AAAAAAAAAAAAAAAAA\n",
       "AAAAAAAAAAAAAAAAAAAAAAAAAAAAAAAAAAAAAAAAAAAv3aB7AAAAD3RSTlMAZrurzTLvInZEmRDd\n",
       "VIkafcLnAAAACXBIWXMAAA7EAAAOxAGVKw4bAAAA8UlEQVQY02NgwAZ6kvzdDk8AsYT+Gxs7BaDK\n",
       "Ksxg97YEs5IYGJi/oklOZHjOBGKw/2Bg4PyFISnLDGIwAnUx/gCLceicOQKXZAExmD8wMLCkg1ic\n",
       "HhsQOs3lQAw2BQZuG7CDSjYgHLTj8AMQI16jw0QALOSOsHOO25/VIEZ/AQNvIljIAdlBjVNA5qgB\n",
       "8XuQsaw5Z86cOQSTZOIEmfsZiOUbgAS3ArJOJgYgl/UjkGMPDqsDqJJAWzi+AxV8AQt1oEjyAk1j\n",
       "SWBgmOYNFmK5AJecx/DiFTAI9D8bm+hChLiNZkMYLUn60FhBApyPoMEHAQCDjz3xiC/o5wAAAABJ\n",
       "RU5ErkJggg==\n",
       "\" style=\"display:inline;vertical-align:middle;\" /></a>, <a class=\"ProveItLink\" href=\"../__pv_it/axioms/93740805d9480eb9ad930b4e4e09b06b85ab14c70/expr.ipynb\"><img src=\"data:image/png;base64,iVBORw0KGgoAAAANSUhEUgAAADcAAAAPBAMAAACy3Eq1AAAAMFBMVEX///8AAAAAAAAAAAAAAAAA\n",
       "AAAAAAAAAAAAAAAAAAAAAAAAAAAAAAAAAAAAAAAAAAAv3aB7AAAAD3RSTlMAIs1UmauJMnZmRLsQ\n",
       "3e++988cAAAACXBIWXMAAA7EAAAOxAGVKw4bAAABAElEQVQY02NgAAEhBjxAH43Puf9raNB2CJv5\n",
       "P4hkPQAk2BvAInwbGBjiC8BMlngBkHKQODdERB7IXu8AZibmg4UuIGyfDxSYDzaEsaHfAEQnA7Ez\n",
       "RDIeiPUEwKYy2E+AufkCRPI1A8PR62DWYob6BLCLChg4IO5h/93RqglR5sAgHwAWCmDgPQAW4fjI\n",
       "wGAHNo1ji0v8BrCYIoMJRDn3AwYGtu8g1gkGBn6IVWZAaTDgB5rE+QNiKgPvA7AYLzvEBIZ6oJGs\n",
       "v4AMLiCD6QPEqqkLIJL9QF/UKwAZciA7PoLFeC5Bw1YPqOcR0G2n/+swMO//BPYLLAii/4eGagPD\n",
       "BQDgODfLjtZywAAAAABJRU5ErkJggg==\n",
       "\" style=\"display:inline;vertical-align:middle;\" /></a>, <a class=\"ProveItLink\" href=\"../__pv_it/theorems/8552c6321b312c5e15a5015adce4a756ce05da420/expr.ipynb\"><img src=\"data:image/png;base64,iVBORw0KGgoAAAANSUhEUgAAAB0AAAAOBAMAAAAh/woJAAAAMFBMVEX///8AAAAAAAAAAAAAAAAA\n",
       "AAAAAAAAAAAAAAAAAAAAAAAAAAAAAAAAAAAAAAAAAAAv3aB7AAAAD3RSTlMAmd0iq2a7zTLvdkQQ\n",
       "VIm/XloVAAAACXBIWXMAAA7EAAAOxAGVKw4bAAAAgUlEQVQI12NggALW/C8u7hkMCMCZwMDg34Dg\n",
       "2y9gYNgvgODHA+XiFyD4/kBcaYDgT2NgOKKB4HJ8W7WkFEgLKQGBIgMD12cGhpsBUEkTBga2CQwM\n",
       "fD8QfH4HoJt+Ifj9QLUsv6F8QwaG9UCr+gsQ5lcyMHBPPwDnuv13cSm7wMAAAOyYG523RGm6AAAA\n",
       "AElFTkSuQmCC\n",
       "\" style=\"display:inline;vertical-align:middle;\" /></a> <a class=\"ProveItLink\" href=\"../__pv_it/demonstrations/f13c135c67cb98b66f07aa807e594cc288f5c3640/proof.ipynb\" style=\"text-decoration: none\">&nbsp;&#x22A2;&nbsp;&nbsp;</a><a class=\"ProveItLink\" href=\"../../../../__pv_it/common/09585084922504426caf1db2ff588a23a0932a960/expr.ipynb\"><img src=\"data:image/png;base64,iVBORw0KGgoAAAANSUhEUgAAAA8AAAAPBAMAAADJ+Ih5AAAAMFBMVEX///8AAAAAAAAAAAAAAAAA\n",
       "AAAAAAAAAAAAAAAAAAAAAAAAAAAAAAAAAAAAAAAAAAAv3aB7AAAAD3RSTlMAIs1UmauJMnZmRLsQ\n",
       "3e++988cAAAACXBIWXMAAA7EAAAOxAGVKw4bAAAAXklEQVQI12NgAAEhBijQh9LM/6EMlngBCCMx\n",
       "vwBMMzb0G0BkGOwngBmLGeoTwAwHBvkAEM2xxSV+A4hxgoGB/wJEhoH3AZDmAupg+gBkyAEx90cG\n",
       "htP/dRiY939KAABt3hLO6mcEjQAAAABJRU5ErkJggg==\n",
       "\" style=\"display:inline;vertical-align:middle;\" /></a></span>"
      ],
      "text/plain": [
       "{A in BOOLEAN, B in BOOLEAN, A or B, [not](B)} |- A"
      ]
     },
     "metadata": {},
     "output_type": "display_data"
    }
   ],
   "source": [
    "Or(A, B).derive_left_if_not_right(assumptions=[in_bool(A), in_bool(B), Not(B), Or(A, B)])"
   ]
  },
  {
   "cell_type": "code",
   "execution_count": 18,
   "metadata": {},
   "outputs": [
    {
     "data": {
      "text/html": [
       "<span style=\"font-size:20px;\"><a class=\"ProveItLink\" href=\"../../__pv_it/theorems/a10dbfd9a4efbb6f30af430036ab01697a9460f80/expr.ipynb\"><img src=\"data:image/png;base64,iVBORw0KGgoAAAANSUhEUgAAADYAAAAQBAMAAACvnpHFAAAAMFBMVEX///8AAAAAAAAAAAAAAAAA\n",
       "AAAAAAAAAAAAAAAAAAAAAAAAAAAAAAAAAAAAAAAAAAAv3aB7AAAAD3RSTlMAIs1UmauJMnZmRLsQ\n",
       "3e++988cAAAACXBIWXMAAA7EAAAOxAGVKw4bAAAA40lEQVQY02NgAAEhBhTAcW/Tp7dRUI4+qhwD\n",
       "N1eD0NEFYCbzfwy5CWwCG8BMlngBDDlOgwAwMzG/AGrR3ruX4HIKIBZjQ78BWIpL4wBcH6tkAthI\n",
       "BvsJEOcegJvZ0xsGZi1mqAerYVBE2Hfp/RWwQgcGeYi9Ckhu4ZilA3LAFpd4sHvZ3969e/c2VI5h\n",
       "wzIg4wQDA/8FkAjPBiR9DBu4wUYy8D4AC11AkWMCOhzoRqYPYKEOFDkLBgY5EPsjWIjJAC6XwNbm\n",
       "wHD6vw4D8/5PYE/wRK+BBI/ebkQ8wABXNiTMIAAAYXA8zHUEOxUAAAAASUVORK5CYII=\n",
       "\" style=\"display:inline;vertical-align:middle;\" /></a>, <a class=\"ProveItLink\" href=\"../__pv_it/theorems/c50b73f2d168f6a3012768bd45c62ea92218bcbc0/expr.ipynb\"><img src=\"data:image/png;base64,iVBORw0KGgoAAAANSUhEUgAAADcAAAAQBAMAAABAXPr7AAAAMFBMVEX///8AAAAAAAAAAAAAAAAA\n",
       "AAAAAAAAAAAAAAAAAAAAAAAAAAAAAAAAAAAAAAAAAAAv3aB7AAAAD3RSTlMAZrurzTLvInZEmRDd\n",
       "VIkafcLnAAAACXBIWXMAAA7EAAAOxAGVKw4bAAAA8UlEQVQY02NgwAZ6kvzdDk8AsYT+Gxs7BaDK\n",
       "Ksxg97YEs5IYGJi/oklOZHjOBGKw/2Bg4PyFISnLDGIwAnUx/gCLceicOQKXZAExmD8wMLCkg1ic\n",
       "HhsQOs3lQAw2BQZuG7CDSjYgHLTj8AMQI16jw0QALOSOsHOO25/VIEZ/AQNvIljIAdlBjVNA5qgB\n",
       "8XuQsaw5Z86cOQSTZOIEmfsZiOUbgAS3ArJOJgYgl/UjkGMPDqsDqJJAWzi+AxV8AQt1oEjyAk1j\n",
       "SWBgmOYNFmK5AJecx/DiFTAI9D8bm+hChLiNZkMYLUn60FhBApyPoMEHAQCDjz3xiC/o5wAAAABJ\n",
       "RU5ErkJggg==\n",
       "\" style=\"display:inline;vertical-align:middle;\" /></a>, <a class=\"ProveItLink\" href=\"../__pv_it/axioms/93740805d9480eb9ad930b4e4e09b06b85ab14c70/expr.ipynb\"><img src=\"data:image/png;base64,iVBORw0KGgoAAAANSUhEUgAAADcAAAAPBAMAAACy3Eq1AAAAMFBMVEX///8AAAAAAAAAAAAAAAAA\n",
       "AAAAAAAAAAAAAAAAAAAAAAAAAAAAAAAAAAAAAAAAAAAv3aB7AAAAD3RSTlMAIs1UmauJMnZmRLsQ\n",
       "3e++988cAAAACXBIWXMAAA7EAAAOxAGVKw4bAAABAElEQVQY02NgAAEhBjxAH43Puf9raNB2CJv5\n",
       "P4hkPQAk2BvAInwbGBjiC8BMlngBkHKQODdERB7IXu8AZibmg4UuIGyfDxSYDzaEsaHfAEQnA7Ez\n",
       "RDIeiPUEwKYy2E+AufkCRPI1A8PR62DWYob6BLCLChg4IO5h/93RqglR5sAgHwAWCmDgPQAW4fjI\n",
       "wGAHNo1ji0v8BrCYIoMJRDn3AwYGtu8g1gkGBn6IVWZAaTDgB5rE+QNiKgPvA7AYLzvEBIZ6oJGs\n",
       "v4AMLiCD6QPEqqkLIJL9QF/UKwAZciA7PoLFeC5Bw1YPqOcR0G2n/+swMO//BPYLLAii/4eGagPD\n",
       "BQDgODfLjtZywAAAAABJRU5ErkJggg==\n",
       "\" style=\"display:inline;vertical-align:middle;\" /></a>, <a class=\"ProveItLink\" href=\"../../__pv_it/theorems/c6244e76de3be0816f3efc36199d65e50f6589940/expr.ipynb\"><img src=\"data:image/png;base64,iVBORw0KGgoAAAANSUhEUgAAABwAAAAPBAMAAAAFYbKSAAAAMFBMVEX///8AAAAAAAAAAAAAAAAA\n",
       "AAAAAAAAAAAAAAAAAAAAAAAAAAAAAAAAAAAAAAAAAAAv3aB7AAAAD3RSTlMAmd0iq81UiTJ2ZkS7\n",
       "EO8Z3gX6AAAACXBIWXMAAA7EAAAOxAGVKw4bAAAAaUlEQVQI12NgQADmAAZkwPoBhZuPyhX5jMxj\n",
       "N/+BzLXk/IbMFWD7hcTjTuD4zsAgpAQEikAuIwPzF6iMCRDPERT5g+DyTmBg+ITgMgIpPSjXkIFh\n",
       "F5CKRzj/AZA4bwDl8Z7/eoEh5384AEaRFfDwb8v9AAAAAElFTkSuQmCC\n",
       "\" style=\"display:inline;vertical-align:middle;\" /></a> <a class=\"ProveItLink\" href=\"../__pv_it/demonstrations/006a37eb21a4bbae143db0103e62fa000f6e0ce60/proof.ipynb\" style=\"text-decoration: none\">&nbsp;&#x22A2;&nbsp;&nbsp;</a><a class=\"ProveItLink\" href=\"../../../../__pv_it/common/a9162d1c3cc0470c02e5daf414500903a7a419230/expr.ipynb\"><img src=\"data:image/png;base64,iVBORw0KGgoAAAANSUhEUgAAABAAAAAOBAMAAADUAYG5AAAAMFBMVEX///8AAAAAAAAAAAAAAAAA\n",
       "AAAAAAAAAAAAAAAAAAAAAAAAAAAAAAAAAAAAAAAAAAAv3aB7AAAAD3RSTlMAZrurzTLvInZEmRDd\n",
       "VIkafcLnAAAACXBIWXMAAA7EAAAOxAGVKw4bAAAAb0lEQVQI12NgYBD6b2zsFMAABEkMDMxfgTT7\n",
       "DwYGzl9ABiOQxwjkMDB/YGBgSQcy2BQYuG1AiuM1OkwEQJr6Cxh4E0EMNSB+D5L6DMTyDQwMrB+B\n",
       "DPsJDAwc34GcL0AOSwIDwzRvoHH6n41NdBkYAF/iFeJ4bEa2AAAAAElFTkSuQmCC\n",
       "\" style=\"display:inline;vertical-align:middle;\" /></a></span>"
      ],
      "text/plain": [
       "{A in BOOLEAN, B in BOOLEAN, A or B, [not](A)} |- B"
      ]
     },
     "metadata": {},
     "output_type": "display_data"
    }
   ],
   "source": [
    "Or(A, B).derive_right_if_not_left(assumptions=[*in_bool(A, B), Not(A), Or(A, B)])"
   ]
  },
  {
   "cell_type": "code",
   "execution_count": 19,
   "metadata": {},
   "outputs": [
    {
     "data": {
      "text/html": [
       "<span style=\"font-size:20px;\"><a class=\"ProveItLink\" href=\"../../__pv_it/theorems/a10dbfd9a4efbb6f30af430036ab01697a9460f80/expr.ipynb\"><img src=\"data:image/png;base64,iVBORw0KGgoAAAANSUhEUgAAADYAAAAQBAMAAACvnpHFAAAAMFBMVEX///8AAAAAAAAAAAAAAAAA\n",
       "AAAAAAAAAAAAAAAAAAAAAAAAAAAAAAAAAAAAAAAAAAAv3aB7AAAAD3RSTlMAIs1UmauJMnZmRLsQ\n",
       "3e++988cAAAACXBIWXMAAA7EAAAOxAGVKw4bAAAA40lEQVQY02NgAAEhBhTAcW/Tp7dRUI4+qhwD\n",
       "N1eD0NEFYCbzfwy5CWwCG8BMlngBDDlOgwAwMzG/AGrR3ruX4HIKIBZjQ78BWIpL4wBcH6tkAthI\n",
       "BvsJEOcegJvZ0xsGZi1mqAerYVBE2Hfp/RWwQgcGeYi9Ckhu4ZilA3LAFpd4sHvZ3969e/c2VI5h\n",
       "wzIg4wQDA/8FkAjPBiR9DBu4wUYy8D4AC11AkWMCOhzoRqYPYKEOFDkLBgY5EPsjWIjJAC6XwNbm\n",
       "wHD6vw4D8/5PYE/wRK+BBI/ebkQ8wABXNiTMIAAAYXA8zHUEOxUAAAAASUVORK5CYII=\n",
       "\" style=\"display:inline;vertical-align:middle;\" /></a>, <a class=\"ProveItLink\" href=\"../__pv_it/theorems/c50b73f2d168f6a3012768bd45c62ea92218bcbc0/expr.ipynb\"><img src=\"data:image/png;base64,iVBORw0KGgoAAAANSUhEUgAAADcAAAAQBAMAAABAXPr7AAAAMFBMVEX///8AAAAAAAAAAAAAAAAA\n",
       "AAAAAAAAAAAAAAAAAAAAAAAAAAAAAAAAAAAAAAAAAAAv3aB7AAAAD3RSTlMAZrurzTLvInZEmRDd\n",
       "VIkafcLnAAAACXBIWXMAAA7EAAAOxAGVKw4bAAAA8UlEQVQY02NgwAZ6kvzdDk8AsYT+Gxs7BaDK\n",
       "Ksxg97YEs5IYGJi/oklOZHjOBGKw/2Bg4PyFISnLDGIwAnUx/gCLceicOQKXZAExmD8wMLCkg1ic\n",
       "HhsQOs3lQAw2BQZuG7CDSjYgHLTj8AMQI16jw0QALOSOsHOO25/VIEZ/AQNvIljIAdlBjVNA5qgB\n",
       "8XuQsaw5Z86cOQSTZOIEmfsZiOUbgAS3ArJOJgYgl/UjkGMPDqsDqJJAWzi+AxV8AQt1oEjyAk1j\n",
       "SWBgmOYNFmK5AJecx/DiFTAI9D8bm+hChLiNZkMYLUn60FhBApyPoMEHAQCDjz3xiC/o5wAAAABJ\n",
       "RU5ErkJggg==\n",
       "\" style=\"display:inline;vertical-align:middle;\" /></a>, <a class=\"ProveItLink\" href=\"../__pv_it/axioms/93740805d9480eb9ad930b4e4e09b06b85ab14c70/expr.ipynb\"><img src=\"data:image/png;base64,iVBORw0KGgoAAAANSUhEUgAAADcAAAAPBAMAAACy3Eq1AAAAMFBMVEX///8AAAAAAAAAAAAAAAAA\n",
       "AAAAAAAAAAAAAAAAAAAAAAAAAAAAAAAAAAAAAAAAAAAv3aB7AAAAD3RSTlMAIs1UmauJMnZmRLsQ\n",
       "3e++988cAAAACXBIWXMAAA7EAAAOxAGVKw4bAAABAElEQVQY02NgAAEhBjxAH43Puf9raNB2CJv5\n",
       "P4hkPQAk2BvAInwbGBjiC8BMlngBkHKQODdERB7IXu8AZibmg4UuIGyfDxSYDzaEsaHfAEQnA7Ez\n",
       "RDIeiPUEwKYy2E+AufkCRPI1A8PR62DWYob6BLCLChg4IO5h/93RqglR5sAgHwAWCmDgPQAW4fjI\n",
       "wGAHNo1ji0v8BrCYIoMJRDn3AwYGtu8g1gkGBn6IVWZAaTDgB5rE+QNiKgPvA7AYLzvEBIZ6oJGs\n",
       "v4AMLiCD6QPEqqkLIJL9QF/UKwAZciA7PoLFeC5Bw1YPqOcR0G2n/+swMO//BPYLLAii/4eGagPD\n",
       "BQDgODfLjtZywAAAAABJRU5ErkJggg==\n",
       "\" style=\"display:inline;vertical-align:middle;\" /></a>, <a class=\"ProveItLink\" href=\"../__pv_it/theorems/e0a020e9d252a135566be36c4415c62a49aadfe60/expr.ipynb\"><img src=\"data:image/png;base64,iVBORw0KGgoAAAANSUhEUgAAAD8AAAAQBAMAAABTi7oPAAAAMFBMVEX///8AAAAAAAAAAAAAAAAA\n",
       "AAAAAAAAAAAAAAAAAAAAAAAAAAAAAAAAAAAAAAAAAAAv3aB7AAAAD3RSTlMAIs1UmauJMnZmRLsQ\n",
       "3e++988cAAAACXBIWXMAAA7EAAAOxAGVKw4bAAAA5klEQVQoz2NgAAEhBgJAH5sgT3doJGMCmMn8\n",
       "H5uCvh4GZt8JYCZLvACm/OnrQMIfIpGYXwAX5z4AZeiBGOvATMaGfgO4AvYNEJrtM4gsgdjAYD8B\n",
       "YfQ0CCV/AUQeB7MXM9SDHet7FwTuO4AF8xsQehwY5AOQXGcEtu8+wt0cW1ziNyD7X28BkHwPZoNd\n",
       "fIKBgf8CkgKhRLAJ4AAqgNjAwPsA4Ya7imBl4BBgA7G4gD5g+oAwYDXUFyBH5oBYcqDQ+QiXZ1SA\n",
       "0Mw/GRiWgZxw+r8OA/P+TwnwkIQF6pGtIQuwRREjGh8Avbg4tNZGubUAAAAASUVORK5CYII=\n",
       "\" style=\"display:inline;vertical-align:middle;\" /></a>, <a class=\"ProveItLink\" href=\"../__pv_it/theorems/4330ddda9e29fd652cf95ea8be4349693af389660/expr.ipynb\"><img src=\"data:image/png;base64,iVBORw0KGgoAAAANSUhEUgAAAEEAAAAPBAMAAABJi79qAAAAMFBMVEX///8AAAAAAAAAAAAAAAAA\n",
       "AAAAAAAAAAAAAAAAAAAAAAAAAAAAAAAAAAAAAAAAAAAv3aB7AAAAD3RSTlMAZrurzTLvInZEmRDd\n",
       "VIkafcLnAAAACXBIWXMAAA7EAAAOxAGVKw4bAAAA90lEQVQY02NgYBD6b2zsFMCACbibjA3ZH4BY\n",
       "SQwMzF+xqGjrZuBdIwBksP9gYOD8halg01Egsb4ASDAC9TP+gEswbYAy3ECMaSAW8wcGBpZ0uApW\n",
       "BQjN9xdERoEINgUGbhskl8pBqPoDIHIriIjX6DARAAuuOQMC5xeAOe8b4Hr6Cxh4E5GdeOUCiDxf\n",
       "ABdQA2lADg9utwlAMh/MBjv7MxDLNyCpKHkONgNE8IJ0sn4EEvYTEO444w5WBw4JPhCL4ztQ1Rck\n",
       "IyZB/QIy9jWIxZIADBdvhAJ2BwjNCzR7HsgZzPqfjU10kYxggjl6l7LVBAZsgB2NDwAzdD7rBq7S\n",
       "3AAAAABJRU5ErkJggg==\n",
       "\" style=\"display:inline;vertical-align:middle;\" /></a> <a class=\"ProveItLink\" href=\"../__pv_it/demonstrations/71b4fa6f96a680eb97aca50c271cbc1c2c04945a0/proof.ipynb\" style=\"text-decoration: none\">&nbsp;&#x22A2;&nbsp;&nbsp;</a><a class=\"ProveItLink\" href=\"../../../../__pv_it/common/9fba9f29e823606ff4fdf2f1c6d5d08d906e850a0/expr.ipynb\"><img src=\"data:image/png;base64,iVBORw0KGgoAAAANSUhEUgAAAA8AAAAOBAMAAAACpFvcAAAAMFBMVEX///8AAAAAAAAAAAAAAAAA\n",
       "AAAAAAAAAAAAAAAAAAAAAAAAAAAAAAAAAAAAAAAAAAAv3aB7AAAAD3RSTlMAEHa7q2Yiie9Umd0y\n",
       "zUTye3nKAAAACXBIWXMAAA7EAAAOxAGVKw4bAAAAZElEQVQI12NgYGBUdnFlK2BgYNBQZOBcHcDA\n",
       "ILwHyFmfwMBwQwDIeMHAwP4TSDOcYmDI3wBiyDAw1CswQMD+BCijH0wCNewH0ZwHICYwsANxPkhx\n",
       "IUj0KwPDc5CZDFImXg+AFACuvBKMxZNU9AAAAABJRU5ErkJggg==\n",
       "\" style=\"display:inline;vertical-align:middle;\" /></a></span>"
      ],
      "text/plain": [
       "{A in BOOLEAN, B in BOOLEAN, A or B, A => C, B => C} |- C"
      ]
     },
     "metadata": {},
     "output_type": "display_data"
    }
   ],
   "source": [
    "Or(A, B).derive_via_dilemma(C, assumptions=[Or(A, B), in_bool(B), Implies(A, C), Implies(B, C), in_bool(A), Implies(A, Or(C, D)), Implies(B, Or(C, D))])"
   ]
  },
  {
   "cell_type": "code",
   "execution_count": 20,
   "metadata": {},
   "outputs": [
    {
     "data": {
      "text/html": [
       "<span style=\"font-size:20px;\"><a class=\"ProveItLink\" href=\"../../__pv_it/theorems/a10dbfd9a4efbb6f30af430036ab01697a9460f80/expr.ipynb\"><img src=\"data:image/png;base64,iVBORw0KGgoAAAANSUhEUgAAADYAAAAQBAMAAACvnpHFAAAAMFBMVEX///8AAAAAAAAAAAAAAAAA\n",
       "AAAAAAAAAAAAAAAAAAAAAAAAAAAAAAAAAAAAAAAAAAAv3aB7AAAAD3RSTlMAIs1UmauJMnZmRLsQ\n",
       "3e++988cAAAACXBIWXMAAA7EAAAOxAGVKw4bAAAA40lEQVQY02NgAAEhBhTAcW/Tp7dRUI4+qhwD\n",
       "N1eD0NEFYCbzfwy5CWwCG8BMlngBDDlOgwAwMzG/AGrR3ruX4HIKIBZjQ78BWIpL4wBcH6tkAthI\n",
       "BvsJEOcegJvZ0xsGZi1mqAerYVBE2Hfp/RWwQgcGeYi9Ckhu4ZilA3LAFpd4sHvZ3969e/c2VI5h\n",
       "wzIg4wQDA/8FkAjPBiR9DBu4wUYy8D4AC11AkWMCOhzoRqYPYKEOFDkLBgY5EPsjWIjJAC6XwNbm\n",
       "wHD6vw4D8/5PYE/wRK+BBI/ebkQ8wABXNiTMIAAAYXA8zHUEOxUAAAAASUVORK5CYII=\n",
       "\" style=\"display:inline;vertical-align:middle;\" /></a>, <a class=\"ProveItLink\" href=\"../__pv_it/theorems/c50b73f2d168f6a3012768bd45c62ea92218bcbc0/expr.ipynb\"><img src=\"data:image/png;base64,iVBORw0KGgoAAAANSUhEUgAAADcAAAAQBAMAAABAXPr7AAAAMFBMVEX///8AAAAAAAAAAAAAAAAA\n",
       "AAAAAAAAAAAAAAAAAAAAAAAAAAAAAAAAAAAAAAAAAAAv3aB7AAAAD3RSTlMAZrurzTLvInZEmRDd\n",
       "VIkafcLnAAAACXBIWXMAAA7EAAAOxAGVKw4bAAAA8UlEQVQY02NgwAZ6kvzdDk8AsYT+Gxs7BaDK\n",
       "Ksxg97YEs5IYGJi/oklOZHjOBGKw/2Bg4PyFISnLDGIwAnUx/gCLceicOQKXZAExmD8wMLCkg1ic\n",
       "HhsQOs3lQAw2BQZuG7CDSjYgHLTj8AMQI16jw0QALOSOsHOO25/VIEZ/AQNvIljIAdlBjVNA5qgB\n",
       "8XuQsaw5Z86cOQSTZOIEmfsZiOUbgAS3ArJOJgYgl/UjkGMPDqsDqJJAWzi+AxV8AQt1oEjyAk1j\n",
       "SWBgmOYNFmK5AJecx/DiFTAI9D8bm+hChLiNZkMYLUn60FhBApyPoMEHAQCDjz3xiC/o5wAAAABJ\n",
       "RU5ErkJggg==\n",
       "\" style=\"display:inline;vertical-align:middle;\" /></a>, <a class=\"ProveItLink\" href=\"../__pv_it/demonstrations/dc7d96b1022c0165a0469ead301debeb324b9c180/expr.ipynb\"><img src=\"data:image/png;base64,iVBORw0KGgoAAAANSUhEUgAAADYAAAAQBAMAAACvnpHFAAAAMFBMVEX///8AAAAAAAAAAAAAAAAA\n",
       "AAAAAAAAAAAAAAAAAAAAAAAAAAAAAAAAAAAAAAAAAAAv3aB7AAAAD3RSTlMAEHa7q2Yiie9Umd0y\n",
       "zUTye3nKAAAACXBIWXMAAA7EAAAOxAGVKw4bAAAA4ElEQVQY02NgwAKYdtj+7fYDsRiVXVzZClAk\n",
       "mfkUckUeABkaigycqwPQ5ALYEwwYGIT3ADnrE9DlWCc4MDDcEAByXkDElHfvvgCXu8DA/hPEOQWW\n",
       "equI0MeSWsCQvwHEkQERbBcRZipquzMw1CvAbeFNQMjt7d8lwLAf4QpeZLcwxV1k6AdzQO5hOLEb\n",
       "CAygcgwGzxn2g9icB0CkMLI+BgNmiM/YwSLcqHK8DPkgtxRCglEBRW4SA+dXBobnAhChmwi5Anb1\n",
       "BQwMUiZeD6BCInYQRUw3jKHxgASeW0PCDAIA+qo1SVIYGkQAAAAASUVORK5CYII=\n",
       "\" style=\"display:inline;vertical-align:middle;\" /></a>, <a class=\"ProveItLink\" href=\"../__pv_it/demonstrations/be49e688692580141a3851882e8c02185518c0cd0/expr.ipynb\"><img src=\"data:image/png;base64,iVBORw0KGgoAAAANSUhEUgAAADgAAAAQBAMAAACxV6F2AAAAMFBMVEX///8AAAAAAAAAAAAAAAAA\n",
       "AAAAAAAAAAAAAAAAAAAAAAAAAAAAAAAAAAAAAAAAAAAv3aB7AAAAD3RSTlMAdrurIs1mVDKZ70SJ\n",
       "EN02Mxp8AAAACXBIWXMAAA7EAAAOxAGVKw4bAAAA6UlEQVQY02NgwAYYX6l+XWcNYgn9VzZSdkCV\n",
       "ZeIWcL28AcT6ysDA9h1dMoHHQQHI4PgIJGZhSLIVGIAs+AEk9idALNN79xQuGQBifAAS/gdAYtyB\n",
       "F+A6md1AQvwgs/tBZjC4XoAbKytnA2L0CwCJfLDOEISdT9e/BKmUbwAS9mB3ByA5iDE7FsjQB/F+\n",
       "gQiOde/evXsElWRQ2ANkfAJitm8gIV4FJJ0MCkxQb96CCD9AkWSFelMVIiaIIlnIwMAK9Oa+CRAx\n",
       "1gK45AEemQkMzPqfjZWmQMV4jfZCAipKCRoryID7ECT4IAAAk1I8Z0PO6g0AAAAASUVORK5CYII=\n",
       "\" style=\"display:inline;vertical-align:middle;\" /></a>, <a class=\"ProveItLink\" href=\"../__pv_it/demonstrations/7087606d9bf84b0b714b20b88e446fd37823ac710/expr.ipynb\"><img src=\"data:image/png;base64,iVBORw0KGgoAAAANSUhEUgAAAIcAAAAPBAMAAAA8KsGMAAAAMFBMVEX///8AAAAAAAAAAAAAAAAA\n",
       "AAAAAAAAAAAAAAAAAAAAAAAAAAAAAAAAAAAAAAAAAAAv3aB7AAAAD3RSTlMAIs1UmauJMnZmRLsQ\n",
       "3e++988cAAAACXBIWXMAAA7EAAAOxAGVKw4bAAAB7UlEQVQ4y61TTShEURQ+8/vm743JwtLPUoSF\n",
       "2DFiRUnqpVBvZKvMRimLmY0aWZiNshtlLZNMFtLMRinRZCNlISvFYpAMYpyfq3fH2qt75rvfPefc\n",
       "c757BoC+RviHr/vPPlh8tSYP/5CnBSvbVE+t1wozhZhgT42sr4TGSDMTzQPYyToucF+C3msEs7Rb\n",
       "lshnvPBFoNembEHyDSeZaUG8F9e5yDFa7xOiLXKQMo0qmnFJMrfIoWVHnRwSubTOuR/RhG7RmLhc\n",
       "rewWeEOzlyXoSm/00O88rmFJYuPqiuncIrkYWBz4EXk5AMIVqjrB3cBg9veNypLkAeDkSudcX7SL\n",
       "JFUVprg1oHSQmiC4AylO5ktCQHQ1PjOr7aBz/qrzJlMAGUEpOspxcBxaOJkxAWZJekUBB7I6Zz45\n",
       "SZYAbgRtUGX2NkUcjNh55tqgVw7DKKD/TeeiFW6HKXfMExe/IplvHiLsTaTowxDpFSsLVnXO5CT9\n",
       "MlYJtxqwT5qMd+kGzFvmTCOvesVWfB86xxMCCTkur4AzJhd0HsIAd0Wk2NxWveJNqVadc5G/XxSD\n",
       "tWlwxmSfUDNpILJFLpV0XZj7rlTH4RSEFtTxueTnu3dJnrNaJ3iKz1KoGrWZmmV19KgIxUXGrNHf\n",
       "51Gj5sO/6dEQgh95A313hs1tVgAAAABJRU5ErkJggg==\n",
       "\" style=\"display:inline;vertical-align:middle;\" /></a>, <a class=\"ProveItLink\" href=\"../__pv_it/demonstrations/110558688934e22eb48b4f424bf02d0193b6dd920/expr.ipynb\"><img src=\"data:image/png;base64,iVBORw0KGgoAAAANSUhEUgAAAD8AAAAQBAMAAABTi7oPAAAAMFBMVEX///8AAAAAAAAAAAAAAAAA\n",
       "AAAAAAAAAAAAAAAAAAAAAAAAAAAAAAAAAAAAAAAAAAAv3aB7AAAAD3RSTlMAIs1UmauJMnZmRLsQ\n",
       "3e++988cAAAACXBIWXMAAA7EAAAOxAGVKw4bAAAA8ElEQVQoz2NgAAEhBgJAH4sYx77XodH3NoDZ\n",
       "zP+x6eJXAKqCKGCJF8CiYH0CAwOPA5iZmF8AF+Y+AGPlLwAqaACxGBv6DeAK2DcgOayBAayThcF+\n",
       "AsLkaTDGbwYuqPBihvoEEO17FwTuQ6xl4Pobuh/qNAcG+QAkxxlB7GP7ziAL9fAWl/gNSAp49BaA\n",
       "KKYPDGwMPCDWCaCXLyApEEqEBMMGBkaQHMgGBt4HCDfcVYQGA8iHPSDHTAAbBwerYcEA9CEjyG1y\n",
       "oND5CJdnVIAy7gPxOqBrTv/XYWDe/ykBHpKQQOUJ+h8auu8TlhhgROMDAGpbPFbz4HKPAAAAAElF\n",
       "TkSuQmCC\n",
       "\" style=\"display:inline;vertical-align:middle;\" /></a>, <a class=\"ProveItLink\" href=\"../__pv_it/demonstrations/7ce60c491330f21555d1fe7073215f05f5a1c58a0/expr.ipynb\"><img src=\"data:image/png;base64,iVBORw0KGgoAAAANSUhEUgAAAEEAAAAPBAMAAABJi79qAAAAMFBMVEX///8AAAAAAAAAAAAAAAAA\n",
       "AAAAAAAAAAAAAAAAAAAAAAAAAAAAAAAAAAAAAAAAAAAv3aB7AAAAD3RSTlMAZrurzTLvInZEmRDd\n",
       "VIkafcLnAAAACXBIWXMAAA7EAAAOxAGVKw4bAAABAUlEQVQY02NgYBD6b2zsFMCAATjUkoyNjimA\n",
       "mEkMDMxfMVUw8DsAlYFUsP9gYOD8hUXF/AcMDNwLgAxGoH7GH3BxbTjr/QSgigYgg/kDAwNLOlw8\n",
       "CM7yZ2BoYAA5kE2BgdsG4VLGBzDWJwZOATAjXqPDBMziOgMGMCdx/jHWLwCz+gsYeBORHMjrC6H5\n",
       "vjLUQFhqIEchh8eWTDDF8oGBj4EbxPoMxPINCAXsfhCz+RUY2Bl2ABmsH4GE/QSEO44UQIMDpKsb\n",
       "FLjfgaq+IIzgVIAFB9BmdgOQdQkMDNO8ESpKYIzzQDwNaDaz/mdjE10kd6pCKG4TYISqfcESGQwF\n",
       "aHwAj4k8VOidPvcAAAAASUVORK5CYII=\n",
       "\" style=\"display:inline;vertical-align:middle;\" /></a>, <a class=\"ProveItLink\" href=\"../__pv_it/demonstrations/9d829586a081493f920b560653c0b09bf98251410/expr.ipynb\"><img src=\"data:image/png;base64,iVBORw0KGgoAAAANSUhEUgAAAEAAAAAPBAMAAACmSdRUAAAAMFBMVEX///8AAAAAAAAAAAAAAAAA\n",
       "AAAAAAAAAAAAAAAAAAAAAAAAAAAAAAAAAAAAAAAAAAAv3aB7AAAAD3RSTlMAEHa7q2Yiie9Umd0y\n",
       "zUTye3nKAAAACXBIWXMAAA7EAAAOxAGVKw4bAAAA8UlEQVQY02NgYGBUdnFlK2DAAModJi7WzUCG\n",
       "hiID5+oATAUMf0GqGBiE9wDp9QmY8nzfgYQUA8MNASD9Ai7MLABjsf8DEkIM7D9BnFNwBTwGMBbv\n",
       "BwYmBh6G/A0gjgzC5HAYg9+A4SmQqleAS63eDQL7F0C577c4fwNS+zGcN3cChK4/wAYyvR/MEUBS\n",
       "wHjjAZi+z8BQAJTYD2JzHkBSkFsGoT8zMCQwKkBCgB3JDbuvQYPhE5BgEmDIBzmyEMmAx7Bg+AMk\n",
       "UoCmf2VgeI7kBLYLUAb3B6ApfaDANPF6gGQAM9Q5Ive/uDj3X8CMATY0PgAlpDv4/k2AgwAAAABJ\n",
       "RU5ErkJggg==\n",
       "\" style=\"display:inline;vertical-align:middle;\" /></a>, <a class=\"ProveItLink\" href=\"../__pv_it/demonstrations/88309c1bd751db253d21dfc202f095d50df124830/expr.ipynb\"><img src=\"data:image/png;base64,iVBORw0KGgoAAAANSUhEUgAAAEIAAAAPBAMAAACivARpAAAAMFBMVEX///8AAAAAAAAAAAAAAAAA\n",
       "AAAAAAAAAAAAAAAAAAAAAAAAAAAAAAAAAAAAAAAAAAAv3aB7AAAAD3RSTlMAdrurIs1mVDKZ70SJ\n",
       "EN02Mxp8AAAACXBIWXMAAA7EAAAOxAGVKw4bAAAA9ElEQVQY02NgYBD6r2yk7MCACYRWKRvrLQKx\n",
       "vjIwsH3HogIkwSAExBwfgcQsLAq4/wCJm0DM+ANI7E+AS+jCGDy/gcRFIGb6ACT8D8BVNMEYrB8Y\n",
       "GBk4gAx+BSDRbwBXwQZTDJTYBmb0CwCJfJAw5zsw+AlVsf+x0RcwQ74BSNhvQLiQPRxCn29geQBm\n",
       "6IOIX8ieuLoaTMUzMBxguABkfALZ/Q1JAUsMJPyAEg68AtDguAVyLcwdTyEKuEESjBegwaGKHFAK\n",
       "0OAASThDfM2wbwKSClcozQeU4Aa6iFn/s7HSFGR3akCoy/GfjY3WB2CLL7RoBgDhqUNc/8Hm5QAA\n",
       "AABJRU5ErkJggg==\n",
       "\" style=\"display:inline;vertical-align:middle;\" /></a> <a class=\"ProveItLink\" href=\"../__pv_it/demonstrations/aa99d47c3d8115159a073384eeb490d9fb2bf45a0/proof.ipynb\" style=\"text-decoration: none\">&nbsp;&#x22A2;&nbsp;&nbsp;</a><a class=\"ProveItLink\" href=\"../../../../__pv_it/common/bab67c83c02ef7fff18e38de447cea6afc251f350/expr.ipynb\"><img src=\"data:image/png;base64,iVBORw0KGgoAAAANSUhEUgAAABAAAAAOBAMAAADUAYG5AAAALVBMVEX///8AAAAAAAAAAAAAAAAA\n",
       "AAAAAAAAAAAAAAAAAAAAAAAAAAAAAAAAAAAAAADAOrOgAAAADnRSTlMAdrvvq93NRIkQmTJmIrxg\n",
       "88YAAAAJcEhZcwAADsQAAA7EAZUrDhsAAABrSURBVAjXY2BgEDJWcVE1YgCCZ0AsBMTsL4DELCDm\n",
       "eA4kJgIx2wMGRgZuIINPgaEGpJShLsTpLZjRt4E3AMzIY2BoYJgAZDxiYLjAKQA05iGQwwgU4XgN\n",
       "ZFwBYtYHQFFzBoYpeU9cnOwSGACAeRT03/gSFQAAAABJRU5ErkJggg==\n",
       "\" style=\"display:inline;vertical-align:middle;\" /></a></span>"
      ],
      "text/plain": [
       "{A in BOOLEAN, B in BOOLEAN, C in BOOLEAN, D in BOOLEAN, A or B or C or D, A => E, B => E, C => E, D => E} |- E"
      ]
     },
     "metadata": {},
     "output_type": "display_data"
    }
   ],
   "source": [
    "Or(A, B, C, D).derive_via_dilemma(E, assumptions=[Or(A, B, C, D), Implies(A, E), Implies(B, E), Implies(C, E), Implies(D, E), in_bool(A), in_bool(B), in_bool(C), in_bool(D)])"
   ]
  },
  {
   "cell_type": "code",
   "execution_count": 21,
   "metadata": {},
   "outputs": [
    {
     "data": {
      "text/html": [
       "<span style=\"font-size:20px;\"><a class=\"ProveItLink\" href=\"../../__pv_it/theorems/a10dbfd9a4efbb6f30af430036ab01697a9460f80/expr.ipynb\"><img src=\"data:image/png;base64,iVBORw0KGgoAAAANSUhEUgAAADYAAAAQBAMAAACvnpHFAAAAMFBMVEX///8AAAAAAAAAAAAAAAAA\n",
       "AAAAAAAAAAAAAAAAAAAAAAAAAAAAAAAAAAAAAAAAAAAv3aB7AAAAD3RSTlMAIs1UmauJMnZmRLsQ\n",
       "3e++988cAAAACXBIWXMAAA7EAAAOxAGVKw4bAAAA40lEQVQY02NgAAEhBhTAcW/Tp7dRUI4+qhwD\n",
       "N1eD0NEFYCbzfwy5CWwCG8BMlngBDDlOgwAwMzG/AGrR3ruX4HIKIBZjQ78BWIpL4wBcH6tkAthI\n",
       "BvsJEOcegJvZ0xsGZi1mqAerYVBE2Hfp/RWwQgcGeYi9Ckhu4ZilA3LAFpd4sHvZ3969e/c2VI5h\n",
       "wzIg4wQDA/8FkAjPBiR9DBu4wUYy8D4AC11AkWMCOhzoRqYPYKEOFDkLBgY5EPsjWIjJAC6XwNbm\n",
       "wHD6vw4D8/5PYE/wRK+BBI/ebkQ8wABXNiTMIAAAYXA8zHUEOxUAAAAASUVORK5CYII=\n",
       "\" style=\"display:inline;vertical-align:middle;\" /></a>, <a class=\"ProveItLink\" href=\"../__pv_it/theorems/c50b73f2d168f6a3012768bd45c62ea92218bcbc0/expr.ipynb\"><img src=\"data:image/png;base64,iVBORw0KGgoAAAANSUhEUgAAADcAAAAQBAMAAABAXPr7AAAAMFBMVEX///8AAAAAAAAAAAAAAAAA\n",
       "AAAAAAAAAAAAAAAAAAAAAAAAAAAAAAAAAAAAAAAAAAAv3aB7AAAAD3RSTlMAZrurzTLvInZEmRDd\n",
       "VIkafcLnAAAACXBIWXMAAA7EAAAOxAGVKw4bAAAA8UlEQVQY02NgwAZ6kvzdDk8AsYT+Gxs7BaDK\n",
       "Ksxg97YEs5IYGJi/oklOZHjOBGKw/2Bg4PyFISnLDGIwAnUx/gCLceicOQKXZAExmD8wMLCkg1ic\n",
       "HhsQOs3lQAw2BQZuG7CDSjYgHLTj8AMQI16jw0QALOSOsHOO25/VIEZ/AQNvIljIAdlBjVNA5qgB\n",
       "8XuQsaw5Z86cOQSTZOIEmfsZiOUbgAS3ArJOJgYgl/UjkGMPDqsDqJJAWzi+AxV8AQt1oEjyAk1j\n",
       "SWBgmOYNFmK5AJecx/DiFTAI9D8bm+hChLiNZkMYLUn60FhBApyPoMEHAQCDjz3xiC/o5wAAAABJ\n",
       "RU5ErkJggg==\n",
       "\" style=\"display:inline;vertical-align:middle;\" /></a>, <a class=\"ProveItLink\" href=\"../../../../__pv_it/common/09585084922504426caf1db2ff588a23a0932a960/expr.ipynb\"><img src=\"data:image/png;base64,iVBORw0KGgoAAAANSUhEUgAAAA8AAAAPBAMAAADJ+Ih5AAAAMFBMVEX///8AAAAAAAAAAAAAAAAA\n",
       "AAAAAAAAAAAAAAAAAAAAAAAAAAAAAAAAAAAAAAAAAAAv3aB7AAAAD3RSTlMAIs1UmauJMnZmRLsQ\n",
       "3e++988cAAAACXBIWXMAAA7EAAAOxAGVKw4bAAAAXklEQVQI12NgAAEhBijQh9LM/6EMlngBCCMx\n",
       "vwBMMzb0G0BkGOwngBmLGeoTwAwHBvkAEM2xxSV+A4hxgoGB/wJEhoH3AZDmAupg+gBkyAEx90cG\n",
       "htP/dRiY939KAABt3hLO6mcEjQAAAABJRU5ErkJggg==\n",
       "\" style=\"display:inline;vertical-align:middle;\" /></a> <a class=\"ProveItLink\" href=\"../__pv_it/demonstrations/2c95addbed05de674e18e24122591158690d937a0/proof.ipynb\" style=\"text-decoration: none\">&nbsp;&#x22A2;&nbsp;&nbsp;</a><a class=\"ProveItLink\" href=\"../__pv_it/axioms/93740805d9480eb9ad930b4e4e09b06b85ab14c70/expr.ipynb\"><img src=\"data:image/png;base64,iVBORw0KGgoAAAANSUhEUgAAADcAAAAPBAMAAACy3Eq1AAAAMFBMVEX///8AAAAAAAAAAAAAAAAA\n",
       "AAAAAAAAAAAAAAAAAAAAAAAAAAAAAAAAAAAAAAAAAAAv3aB7AAAAD3RSTlMAIs1UmauJMnZmRLsQ\n",
       "3e++988cAAAACXBIWXMAAA7EAAAOxAGVKw4bAAABAElEQVQY02NgAAEhBjxAH43Puf9raNB2CJv5\n",
       "P4hkPQAk2BvAInwbGBjiC8BMlngBkHKQODdERB7IXu8AZibmg4UuIGyfDxSYDzaEsaHfAEQnA7Ez\n",
       "RDIeiPUEwKYy2E+AufkCRPI1A8PR62DWYob6BLCLChg4IO5h/93RqglR5sAgHwAWCmDgPQAW4fjI\n",
       "wGAHNo1ji0v8BrCYIoMJRDn3AwYGtu8g1gkGBn6IVWZAaTDgB5rE+QNiKgPvA7AYLzvEBIZ6oJGs\n",
       "v4AMLiCD6QPEqqkLIJL9QF/UKwAZciA7PoLFeC5Bw1YPqOcR0G2n/+swMO//BPYLLAii/4eGagPD\n",
       "BQDgODfLjtZywAAAAABJRU5ErkJggg==\n",
       "\" style=\"display:inline;vertical-align:middle;\" /></a></span>"
      ],
      "text/plain": [
       "{A in BOOLEAN, B in BOOLEAN, A} |- A or B"
      ]
     },
     "metadata": {},
     "output_type": "display_data"
    }
   ],
   "source": [
    "Or(A, B).prove(assumptions=[in_bool(B), A, in_bool(A)])"
   ]
  },
  {
   "cell_type": "code",
   "execution_count": 22,
   "metadata": {},
   "outputs": [
    {
     "data": {
      "text/html": [
       "<span style=\"font-size:20px;\"><a class=\"ProveItLink\" href=\"../../__pv_it/theorems/a10dbfd9a4efbb6f30af430036ab01697a9460f80/expr.ipynb\"><img src=\"data:image/png;base64,iVBORw0KGgoAAAANSUhEUgAAADYAAAAQBAMAAACvnpHFAAAAMFBMVEX///8AAAAAAAAAAAAAAAAA\n",
       "AAAAAAAAAAAAAAAAAAAAAAAAAAAAAAAAAAAAAAAAAAAv3aB7AAAAD3RSTlMAIs1UmauJMnZmRLsQ\n",
       "3e++988cAAAACXBIWXMAAA7EAAAOxAGVKw4bAAAA40lEQVQY02NgAAEhBhTAcW/Tp7dRUI4+qhwD\n",
       "N1eD0NEFYCbzfwy5CWwCG8BMlngBDDlOgwAwMzG/AGrR3ruX4HIKIBZjQ78BWIpL4wBcH6tkAthI\n",
       "BvsJEOcegJvZ0xsGZi1mqAerYVBE2Hfp/RWwQgcGeYi9Ckhu4ZilA3LAFpd4sHvZ3969e/c2VI5h\n",
       "wzIg4wQDA/8FkAjPBiR9DBu4wUYy8D4AC11AkWMCOhzoRqYPYKEOFDkLBgY5EPsjWIjJAC6XwNbm\n",
       "wHD6vw4D8/5PYE/wRK+BBI/ebkQ8wABXNiTMIAAAYXA8zHUEOxUAAAAASUVORK5CYII=\n",
       "\" style=\"display:inline;vertical-align:middle;\" /></a>, <a class=\"ProveItLink\" href=\"../__pv_it/theorems/c50b73f2d168f6a3012768bd45c62ea92218bcbc0/expr.ipynb\"><img src=\"data:image/png;base64,iVBORw0KGgoAAAANSUhEUgAAADcAAAAQBAMAAABAXPr7AAAAMFBMVEX///8AAAAAAAAAAAAAAAAA\n",
       "AAAAAAAAAAAAAAAAAAAAAAAAAAAAAAAAAAAAAAAAAAAv3aB7AAAAD3RSTlMAZrurzTLvInZEmRDd\n",
       "VIkafcLnAAAACXBIWXMAAA7EAAAOxAGVKw4bAAAA8UlEQVQY02NgwAZ6kvzdDk8AsYT+Gxs7BaDK\n",
       "Ksxg97YEs5IYGJi/oklOZHjOBGKw/2Bg4PyFISnLDGIwAnUx/gCLceicOQKXZAExmD8wMLCkg1ic\n",
       "HhsQOs3lQAw2BQZuG7CDSjYgHLTj8AMQI16jw0QALOSOsHOO25/VIEZ/AQNvIljIAdlBjVNA5qgB\n",
       "8XuQsaw5Z86cOQSTZOIEmfsZiOUbgAS3ArJOJgYgl/UjkGMPDqsDqJJAWzi+AxV8AQt1oEjyAk1j\n",
       "SWBgmOYNFmK5AJecx/DiFTAI9D8bm+hChLiNZkMYLUn60FhBApyPoMEHAQCDjz3xiC/o5wAAAABJ\n",
       "RU5ErkJggg==\n",
       "\" style=\"display:inline;vertical-align:middle;\" /></a>, <a class=\"ProveItLink\" href=\"../../../../__pv_it/common/a9162d1c3cc0470c02e5daf414500903a7a419230/expr.ipynb\"><img src=\"data:image/png;base64,iVBORw0KGgoAAAANSUhEUgAAABAAAAAOBAMAAADUAYG5AAAAMFBMVEX///8AAAAAAAAAAAAAAAAA\n",
       "AAAAAAAAAAAAAAAAAAAAAAAAAAAAAAAAAAAAAAAAAAAv3aB7AAAAD3RSTlMAZrurzTLvInZEmRDd\n",
       "VIkafcLnAAAACXBIWXMAAA7EAAAOxAGVKw4bAAAAb0lEQVQI12NgYBD6b2zsFMAABEkMDMxfgTT7\n",
       "DwYGzl9ABiOQxwjkMDB/YGBgSQcy2BQYuG1AiuM1OkwEQJr6Cxh4E0EMNSB+D5L6DMTyDQwMrB+B\n",
       "DPsJDAwc34GcL0AOSwIDwzRvoHH6n41NdBkYAF/iFeJ4bEa2AAAAAElFTkSuQmCC\n",
       "\" style=\"display:inline;vertical-align:middle;\" /></a> <a class=\"ProveItLink\" href=\"../__pv_it/demonstrations/4f354ef0f08835c466d69f4865b2d4b1dc4f02eb0/proof.ipynb\" style=\"text-decoration: none\">&nbsp;&#x22A2;&nbsp;&nbsp;</a><a class=\"ProveItLink\" href=\"../__pv_it/axioms/93740805d9480eb9ad930b4e4e09b06b85ab14c70/expr.ipynb\"><img src=\"data:image/png;base64,iVBORw0KGgoAAAANSUhEUgAAADcAAAAPBAMAAACy3Eq1AAAAMFBMVEX///8AAAAAAAAAAAAAAAAA\n",
       "AAAAAAAAAAAAAAAAAAAAAAAAAAAAAAAAAAAAAAAAAAAv3aB7AAAAD3RSTlMAIs1UmauJMnZmRLsQ\n",
       "3e++988cAAAACXBIWXMAAA7EAAAOxAGVKw4bAAABAElEQVQY02NgAAEhBjxAH43Puf9raNB2CJv5\n",
       "P4hkPQAk2BvAInwbGBjiC8BMlngBkHKQODdERB7IXu8AZibmg4UuIGyfDxSYDzaEsaHfAEQnA7Ez\n",
       "RDIeiPUEwKYy2E+AufkCRPI1A8PR62DWYob6BLCLChg4IO5h/93RqglR5sAgHwAWCmDgPQAW4fjI\n",
       "wGAHNo1ji0v8BrCYIoMJRDn3AwYGtu8g1gkGBn6IVWZAaTDgB5rE+QNiKgPvA7AYLzvEBIZ6oJGs\n",
       "v4AMLiCD6QPEqqkLIJL9QF/UKwAZciA7PoLFeC5Bw1YPqOcR0G2n/+swMO//BPYLLAii/4eGagPD\n",
       "BQDgODfLjtZywAAAAABJRU5ErkJggg==\n",
       "\" style=\"display:inline;vertical-align:middle;\" /></a></span>"
      ],
      "text/plain": [
       "{A in BOOLEAN, B in BOOLEAN, B} |- A or B"
      ]
     },
     "metadata": {},
     "output_type": "display_data"
    }
   ],
   "source": [
    "Or(A, B).prove(assumptions=[in_bool(A), in_bool(B), B])"
   ]
  },
  {
   "cell_type": "code",
   "execution_count": 23,
   "metadata": {},
   "outputs": [
    {
     "data": {
      "text/html": [
       "<span style=\"font-size:20px;\"><a class=\"ProveItLink\" href=\"../__pv_it/demonstrations/dc7d96b1022c0165a0469ead301debeb324b9c180/expr.ipynb\"><img src=\"data:image/png;base64,iVBORw0KGgoAAAANSUhEUgAAADYAAAAQBAMAAACvnpHFAAAAMFBMVEX///8AAAAAAAAAAAAAAAAA\n",
       "AAAAAAAAAAAAAAAAAAAAAAAAAAAAAAAAAAAAAAAAAAAv3aB7AAAAD3RSTlMAEHa7q2Yiie9Umd0y\n",
       "zUTye3nKAAAACXBIWXMAAA7EAAAOxAGVKw4bAAAA4ElEQVQY02NgwAKYdtj+7fYDsRiVXVzZClAk\n",
       "mfkUckUeABkaigycqwPQ5ALYEwwYGIT3ADnrE9DlWCc4MDDcEAByXkDElHfvvgCXu8DA/hPEOQWW\n",
       "equI0MeSWsCQvwHEkQERbBcRZipquzMw1CvAbeFNQMjt7d8lwLAf4QpeZLcwxV1k6AdzQO5hOLEb\n",
       "CAygcgwGzxn2g9icB0CkMLI+BgNmiM/YwSLcqHK8DPkgtxRCglEBRW4SA+dXBobnAhChmwi5Anb1\n",
       "BQwMUiZeD6BCInYQRUw3jKHxgASeW0PCDAIA+qo1SVIYGkQAAAAASUVORK5CYII=\n",
       "\" style=\"display:inline;vertical-align:middle;\" /></a>, <a class=\"ProveItLink\" href=\"../__pv_it/demonstrations/be49e688692580141a3851882e8c02185518c0cd0/expr.ipynb\"><img src=\"data:image/png;base64,iVBORw0KGgoAAAANSUhEUgAAADgAAAAQBAMAAACxV6F2AAAAMFBMVEX///8AAAAAAAAAAAAAAAAA\n",
       "AAAAAAAAAAAAAAAAAAAAAAAAAAAAAAAAAAAAAAAAAAAv3aB7AAAAD3RSTlMAdrurIs1mVDKZ70SJ\n",
       "EN02Mxp8AAAACXBIWXMAAA7EAAAOxAGVKw4bAAAA6UlEQVQY02NgwAYYX6l+XWcNYgn9VzZSdkCV\n",
       "ZeIWcL28AcT6ysDA9h1dMoHHQQHI4PgIJGZhSLIVGIAs+AEk9idALNN79xQuGQBifAAS/gdAYtyB\n",
       "F+A6md1AQvwgs/tBZjC4XoAbKytnA2L0CwCJfLDOEISdT9e/BKmUbwAS9mB3ByA5iDE7FsjQB/F+\n",
       "gQiOde/evXsElWRQ2ANkfAJitm8gIV4FJJ0MCkxQb96CCD9AkWSFelMVIiaIIlnIwMAK9Oa+CRAx\n",
       "1gK45AEemQkMzPqfjZWmQMV4jfZCAipKCRoryID7ECT4IAAAk1I8Z0PO6g0AAAAASUVORK5CYII=\n",
       "\" style=\"display:inline;vertical-align:middle;\" /></a>, <a class=\"ProveItLink\" href=\"../__pv_it/theorems/4825abcfe3a96072f484e253acfc3d55c65e2f9a0/expr.ipynb\"><img src=\"data:image/png;base64,iVBORw0KGgoAAAANSUhEUgAAADgAAAAOBAMAAACIi8KdAAAAMFBMVEX///8AAAAAAAAAAAAAAAAA\n",
       "AAAAAAAAAAAAAAAAAAAAAAAAAAAAAAAAAAAAAAAAAAAv3aB7AAAAD3RSTlMAEHa7q2Yiie9Umd0y\n",
       "zUTye3nKAAAACXBIWXMAAA7EAAAOxAGVKw4bAAABAUlEQVQY02NgYGBUdnFlK2BABkz2n12M3UAs\n",
       "DUUGztUBDAwsAkAOjwJYlv8CA0P8BAYG4T1AzvoEBgZWkDjzAbDkeSCbq4GB4QZIwwuQyAYgzoWY\n",
       "qw9Uw/eVgf0niHMKRFQC8UqIpD0Qs31nyAepZ5BhgOraAJH8DLL+C0O9AtyNLAcYmCA8nk9AgvU7\n",
       "w/4EuCSPAwO3AMQrf0Bq/zH0g3kQsWsMsyDKmD+AvNPAsB/E4YR4YDpQGuJNAyARHwD2IQM7RIyb\n",
       "x4AB7k3GZgaGfJATCqGhFvIA4U1mYCBxfmVgeA6xkoFxL9Rp94FBsAvEkDLxegBzLzQInP+7OFsB\n",
       "rQMANHA2IF8/LIcAAAAASUVORK5CYII=\n",
       "\" style=\"display:inline;vertical-align:middle;\" /></a> <a class=\"ProveItLink\" href=\"../__pv_it/demonstrations/0ca72702e66216b3fccf4da61a199ed56621091c0/proof.ipynb\" style=\"text-decoration: none\">&nbsp;&#x22A2;&nbsp;&nbsp;</a><a class=\"ProveItLink\" href=\"../__pv_it/theorems/4825abcfe3a96072f484e253acfc3d55c65e2f9a0/expr.ipynb\"><img src=\"data:image/png;base64,iVBORw0KGgoAAAANSUhEUgAAADgAAAAOBAMAAACIi8KdAAAAMFBMVEX///8AAAAAAAAAAAAAAAAA\n",
       "AAAAAAAAAAAAAAAAAAAAAAAAAAAAAAAAAAAAAAAAAAAv3aB7AAAAD3RSTlMAEHa7q2Yiie9Umd0y\n",
       "zUTye3nKAAAACXBIWXMAAA7EAAAOxAGVKw4bAAABAUlEQVQY02NgYGBUdnFlK2BABkz2n12M3UAs\n",
       "DUUGztUBDAwsAkAOjwJYlv8CA0P8BAYG4T1AzvoEBgZWkDjzAbDkeSCbq4GB4QZIwwuQyAYgzoWY\n",
       "qw9Uw/eVgf0niHMKRFQC8UqIpD0Qs31nyAepZ5BhgOraAJH8DLL+C0O9AtyNLAcYmCA8nk9AgvU7\n",
       "w/4EuCSPAwO3AMQrf0Bq/zH0g3kQsWsMsyDKmD+AvNPAsB/E4YR4YDpQGuJNAyARHwD2IQM7RIyb\n",
       "x4AB7k3GZgaGfJATCqGhFvIA4U1mYCBxfmVgeA6xkoFxL9Rp94FBsAvEkDLxegBzLzQInP+7OFsB\n",
       "rQMANHA2IF8/LIcAAAAASUVORK5CYII=\n",
       "\" style=\"display:inline;vertical-align:middle;\" /></a></span>"
      ],
      "text/plain": [
       "{C in BOOLEAN, D in BOOLEAN, C or D} |- C or D"
      ]
     },
     "metadata": {},
     "output_type": "display_data"
    }
   ],
   "source": [
    "Or(C, D).derive_via_dilemma(Or(C, D), assumptions=[Or(A, B), Or(C, D), Implies(A, C), Implies(A, C), Implies(B, D), in_bool(A), in_bool(B), in_bool(C), in_bool(D)])"
   ]
  },
  {
   "cell_type": "code",
   "execution_count": 24,
   "metadata": {},
   "outputs": [
    {
     "data": {
      "text/html": [
       "<span style=\"font-size:20px;\"><a class=\"ProveItLink\" href=\"../../__pv_it/theorems/a10dbfd9a4efbb6f30af430036ab01697a9460f80/expr.ipynb\"><img src=\"data:image/png;base64,iVBORw0KGgoAAAANSUhEUgAAADYAAAAQBAMAAACvnpHFAAAAMFBMVEX///8AAAAAAAAAAAAAAAAA\n",
       "AAAAAAAAAAAAAAAAAAAAAAAAAAAAAAAAAAAAAAAAAAAv3aB7AAAAD3RSTlMAIs1UmauJMnZmRLsQ\n",
       "3e++988cAAAACXBIWXMAAA7EAAAOxAGVKw4bAAAA40lEQVQY02NgAAEhBhTAcW/Tp7dRUI4+qhwD\n",
       "N1eD0NEFYCbzfwy5CWwCG8BMlngBDDlOgwAwMzG/AGrR3ruX4HIKIBZjQ78BWIpL4wBcH6tkAthI\n",
       "BvsJEOcegJvZ0xsGZi1mqAerYVBE2Hfp/RWwQgcGeYi9Ckhu4ZilA3LAFpd4sHvZ3969e/c2VI5h\n",
       "wzIg4wQDA/8FkAjPBiR9DBu4wUYy8D4AC11AkWMCOhzoRqYPYKEOFDkLBgY5EPsjWIjJAC6XwNbm\n",
       "wHD6vw4D8/5PYE/wRK+BBI/ebkQ8wABXNiTMIAAAYXA8zHUEOxUAAAAASUVORK5CYII=\n",
       "\" style=\"display:inline;vertical-align:middle;\" /></a>, <a class=\"ProveItLink\" href=\"../__pv_it/theorems/c50b73f2d168f6a3012768bd45c62ea92218bcbc0/expr.ipynb\"><img src=\"data:image/png;base64,iVBORw0KGgoAAAANSUhEUgAAADcAAAAQBAMAAABAXPr7AAAAMFBMVEX///8AAAAAAAAAAAAAAAAA\n",
       "AAAAAAAAAAAAAAAAAAAAAAAAAAAAAAAAAAAAAAAAAAAv3aB7AAAAD3RSTlMAZrurzTLvInZEmRDd\n",
       "VIkafcLnAAAACXBIWXMAAA7EAAAOxAGVKw4bAAAA8UlEQVQY02NgwAZ6kvzdDk8AsYT+Gxs7BaDK\n",
       "Ksxg97YEs5IYGJi/oklOZHjOBGKw/2Bg4PyFISnLDGIwAnUx/gCLceicOQKXZAExmD8wMLCkg1ic\n",
       "HhsQOs3lQAw2BQZuG7CDSjYgHLTj8AMQI16jw0QALOSOsHOO25/VIEZ/AQNvIljIAdlBjVNA5qgB\n",
       "8XuQsaw5Z86cOQSTZOIEmfsZiOUbgAS3ArJOJgYgl/UjkGMPDqsDqJJAWzi+AxV8AQt1oEjyAk1j\n",
       "SWBgmOYNFmK5AJecx/DiFTAI9D8bm+hChLiNZkMYLUn60FhBApyPoMEHAQCDjz3xiC/o5wAAAABJ\n",
       "RU5ErkJggg==\n",
       "\" style=\"display:inline;vertical-align:middle;\" /></a>, <a class=\"ProveItLink\" href=\"../__pv_it/demonstrations/dc7d96b1022c0165a0469ead301debeb324b9c180/expr.ipynb\"><img src=\"data:image/png;base64,iVBORw0KGgoAAAANSUhEUgAAADYAAAAQBAMAAACvnpHFAAAAMFBMVEX///8AAAAAAAAAAAAAAAAA\n",
       "AAAAAAAAAAAAAAAAAAAAAAAAAAAAAAAAAAAAAAAAAAAv3aB7AAAAD3RSTlMAEHa7q2Yiie9Umd0y\n",
       "zUTye3nKAAAACXBIWXMAAA7EAAAOxAGVKw4bAAAA4ElEQVQY02NgwAKYdtj+7fYDsRiVXVzZClAk\n",
       "mfkUckUeABkaigycqwPQ5ALYEwwYGIT3ADnrE9DlWCc4MDDcEAByXkDElHfvvgCXu8DA/hPEOQWW\n",
       "equI0MeSWsCQvwHEkQERbBcRZipquzMw1CvAbeFNQMjt7d8lwLAf4QpeZLcwxV1k6AdzQO5hOLEb\n",
       "CAygcgwGzxn2g9icB0CkMLI+BgNmiM/YwSLcqHK8DPkgtxRCglEBRW4SA+dXBobnAhChmwi5Anb1\n",
       "BQwMUiZeD6BCInYQRUw3jKHxgASeW0PCDAIA+qo1SVIYGkQAAAAASUVORK5CYII=\n",
       "\" style=\"display:inline;vertical-align:middle;\" /></a>, <a class=\"ProveItLink\" href=\"../__pv_it/demonstrations/be49e688692580141a3851882e8c02185518c0cd0/expr.ipynb\"><img src=\"data:image/png;base64,iVBORw0KGgoAAAANSUhEUgAAADgAAAAQBAMAAACxV6F2AAAAMFBMVEX///8AAAAAAAAAAAAAAAAA\n",
       "AAAAAAAAAAAAAAAAAAAAAAAAAAAAAAAAAAAAAAAAAAAv3aB7AAAAD3RSTlMAdrurIs1mVDKZ70SJ\n",
       "EN02Mxp8AAAACXBIWXMAAA7EAAAOxAGVKw4bAAAA6UlEQVQY02NgwAYYX6l+XWcNYgn9VzZSdkCV\n",
       "ZeIWcL28AcT6ysDA9h1dMoHHQQHI4PgIJGZhSLIVGIAs+AEk9idALNN79xQuGQBifAAS/gdAYtyB\n",
       "F+A6md1AQvwgs/tBZjC4XoAbKytnA2L0CwCJfLDOEISdT9e/BKmUbwAS9mB3ByA5iDE7FsjQB/F+\n",
       "gQiOde/evXsElWRQ2ANkfAJitm8gIV4FJJ0MCkxQb96CCD9AkWSFelMVIiaIIlnIwMAK9Oa+CRAx\n",
       "1gK45AEemQkMzPqfjZWmQMV4jfZCAipKCRoryID7ECT4IAAAk1I8Z0PO6g0AAAAASUVORK5CYII=\n",
       "\" style=\"display:inline;vertical-align:middle;\" /></a>, <a class=\"ProveItLink\" href=\"../__pv_it/demonstrations/fc8440502a70f4288255891a01e1367471bf51bf0/expr.ipynb\"><img src=\"data:image/png;base64,iVBORw0KGgoAAAANSUhEUgAAADkAAAAQBAMAAABelcpIAAAAMFBMVEX///8AAAAAAAAAAAAAAAAA\n",
       "AAAAAAAAAAAAAAAAAAAAAAAAAAAAAAAAAAAAAAAAAAAv3aB7AAAAD3RSTlMAdqu7Zu8Qzd0yiSKZ\n",
       "RFTI+uAaAAAACXBIWXMAAA7EAAAOxAGVKw4bAAAA9UlEQVQY02NgwAokgutLmy6AWEL/jRic4o0S\n",
       "UKQNLnKX6YJZ34E4Ak2zwRWG1cwgBucvBgbuP5iyfkwgBtdfBgaWfxBBRouOdrgsO4jB/oGBgfkb\n",
       "WIy3MAGhV9sLxOA3YGBgbQCLbU9AuCqxaQGIcb9JSUn/AFisGmHvjdIfx0CM9RMYGOQfgMUKkF0l\n",
       "ch1kUj0Q24ON5Izo6Ohohsky84KM/gz1MgMDmwGyXmYGIJf3I8TLINCAKgu0iOsn0Jt/IWKCKLJ8\n",
       "AgwMHCDvfoCIsT+Ay95iWLiGgSHJ/pMAj/1nAYjFytcgkuLB9tA4Qga8i6EhCQEAzHNC6aNO8g4A\n",
       "AAAASUVORK5CYII=\n",
       "\" style=\"display:inline;vertical-align:middle;\" /></a>, <a class=\"ProveItLink\" href=\"../__pv_it/demonstrations/7dd67e7d9e3c14950d28fd01437b45d8b93efa690/expr.ipynb\"><img src=\"data:image/png;base64,iVBORw0KGgoAAAANSUhEUgAAADEAAAAQBAMAAABNQoq8AAAAMFBMVEX///8AAAAAAAAAAAAAAAAA\n",
       "AAAAAAAAAAAAAAAAAAAAAAAAAAAAAAAAAAAAAAAAAAAv3aB7AAAAD3RSTlMAiburEN0ydkTNIu9U\n",
       "ZpnUMxRNAAAACXBIWXMAAA7EAAAOxAGVKw4bAAAAxElEQVQY02NgwAClm+bPDm4AsYT+KzugSCm0\n",
       "c02xALO+omlS6GWQYgIx2D5iytxhBjHYf0AE2FVDI+EynCAG0wcwn2O6A0KP1UUQg38CmL/SAeEC\n",
       "92ABEKO/AMyfhbCndfbXJyCGfAKYPwHZBbWdIBPmg7lsW0NDQ4NgMkwcIOM+gbksCsh6mBiAXI7v\n",
       "EH4AqgzQcMZvEH45igwP0FmsEO8wcB6AyzQyiMsxMDjrfxaAWGTUApGo3KQPDWsY4BCChg4EAABl\n",
       "dC65lTrGwwAAAABJRU5ErkJggg==\n",
       "\" style=\"display:inline;vertical-align:middle;\" /></a>, <a class=\"ProveItLink\" href=\"../__pv_it/demonstrations/c6ec33b5ac99bfbc2db170ed1f8f959d09e97e400/expr.ipynb\"><img src=\"data:image/png;base64,iVBORw0KGgoAAAANSUhEUgAAADMAAAAQBAMAAABJt1qBAAAAMFBMVEX///8AAAAAAAAAAAAAAAAA\n",
       "AAAAAAAAAAAAAAAAAAAAAAAAAAAAAAAAAAAAAAAAAAAv3aB7AAAAD3RSTlMAiavdMs3vRGaZECJ2\n",
       "VLvjn+thAAAACXBIWXMAAA7EAAAOxAGVKw4bAAAAxklEQVQY02NgwASH8+LDjArATCF7I1S5BzXc\n",
       "UeoQprwDmlQFgzQfhBnGgCHVywRhfoIKnTM2DoBJsYJF2H9AZEpPIXRpN4JZnL/AFHcUwhlrjATA\n",
       "LGYDMMW6AS5VHPZ5Fpi1fgJECtkZJ0oXgFj9EO+5GQPBA6gUHzvYRH2I2nXIuvgYHjBsE2BIhQgw\n",
       "o0oFMJw/wPsdIsBzAFmK9wBDDcMyAahILFyqkEFGkoGB44w6TGTRc7CrGI7mvYeFPBwUPoYEFAQA\n",
       "APeqOS2/1ZVGAAAAAElFTkSuQmCC\n",
       "\" style=\"display:inline;vertical-align:middle;\" /></a>, <a class=\"ProveItLink\" href=\"../__pv_it/demonstrations/40a7f5db52e4ab4f7bfdb8bea1462f70a48d83c50/expr.ipynb\"><img src=\"data:image/png;base64,iVBORw0KGgoAAAANSUhEUgAAADkAAAAQBAMAAABelcpIAAAAMFBMVEX///8AAAAAAAAAAAAAAAAA\n",
       "AAAAAAAAAAAAAAAAAAAAAAAAAAAAAAAAAAAAAAAAAAAv3aB7AAAAD3RSTlMAdqu77zLdVBCJZkQi\n",
       "zZm4b83uAAAACXBIWXMAAA7EAAAOxAGVKw4bAAAA9ElEQVQY02NgwArEnO9fSdoAYgn9N2Jg0HcO\n",
       "QJE22MhzQxvM+gbERQ2omg12McxhBjFYfzIwcBUwYMguZwIxGH8zcMyBCjKapeXCZXlBDN4PDJFQ\n",
       "Se6LDQi9OitBDP4LXA+gYmcbEK5qTJoAYuyfIJ8AFbuDsHfblW8vQIz5knzfoWIXkF0ltRdk0v0F\n",
       "PH8hQqxuaWlpyTBZZm6Q0Z8ZGOwhQcFhgKyXmQHI5f4ItFoBIpaAKgu0iPMrAwPbD4iYIIosuwBQ\n",
       "5gMwEH5CxHjhQWawk2HiPAaGJvtPAgxT/ttALFbeAZGUdbaHxhEy4J4MDUkIAAAd5EODij0sGQAA\n",
       "AABJRU5ErkJggg==\n",
       "\" style=\"display:inline;vertical-align:middle;\" /></a>, <a class=\"ProveItLink\" href=\"../__pv_it/demonstrations/7087606d9bf84b0b714b20b88e446fd37823ac710/expr.ipynb\"><img src=\"data:image/png;base64,iVBORw0KGgoAAAANSUhEUgAAAIcAAAAPBAMAAAA8KsGMAAAAMFBMVEX///8AAAAAAAAAAAAAAAAA\n",
       "AAAAAAAAAAAAAAAAAAAAAAAAAAAAAAAAAAAAAAAAAAAv3aB7AAAAD3RSTlMAIs1UmauJMnZmRLsQ\n",
       "3e++988cAAAACXBIWXMAAA7EAAAOxAGVKw4bAAAB7UlEQVQ4y61TTShEURQ+8/vm743JwtLPUoSF\n",
       "2DFiRUnqpVBvZKvMRimLmY0aWZiNshtlLZNMFtLMRinRZCNlISvFYpAMYpyfq3fH2qt75rvfPefc\n",
       "c757BoC+RviHr/vPPlh8tSYP/5CnBSvbVE+t1wozhZhgT42sr4TGSDMTzQPYyToucF+C3msEs7Rb\n",
       "lshnvPBFoNembEHyDSeZaUG8F9e5yDFa7xOiLXKQMo0qmnFJMrfIoWVHnRwSubTOuR/RhG7RmLhc\n",
       "rewWeEOzlyXoSm/00O88rmFJYuPqiuncIrkYWBz4EXk5AMIVqjrB3cBg9veNypLkAeDkSudcX7SL\n",
       "JFUVprg1oHSQmiC4AylO5ktCQHQ1PjOr7aBz/qrzJlMAGUEpOspxcBxaOJkxAWZJekUBB7I6Zz45\n",
       "SZYAbgRtUGX2NkUcjNh55tqgVw7DKKD/TeeiFW6HKXfMExe/IplvHiLsTaTowxDpFSsLVnXO5CT9\n",
       "MlYJtxqwT5qMd+kGzFvmTCOvesVWfB86xxMCCTkur4AzJhd0HsIAd0Wk2NxWveJNqVadc5G/XxSD\n",
       "tWlwxmSfUDNpILJFLpV0XZj7rlTH4RSEFtTxueTnu3dJnrNaJ3iKz1KoGrWZmmV19KgIxUXGrNHf\n",
       "51Gj5sO/6dEQgh95A313hs1tVgAAAABJRU5ErkJggg==\n",
       "\" style=\"display:inline;vertical-align:middle;\" /></a>, <a class=\"ProveItLink\" href=\"../__pv_it/demonstrations/6821ad278984ee2099e014cf8f60ac57cb1fed570/expr.ipynb\"><img src=\"data:image/png;base64,iVBORw0KGgoAAAANSUhEUgAAAEMAAAAQBAMAAAC//t8ZAAAAMFBMVEX///8AAAAAAAAAAAAAAAAA\n",
       "AAAAAAAAAAAAAAAAAAAAAAAAAAAAAAAAAAAAAAAAAAAv3aB7AAAAD3RSTlMAIs1UmauJMnZmRLsQ\n",
       "3e++988cAAAACXBIWXMAAA7EAAAOxAGVKw4bAAAA7klEQVQoz2NgAAEhBoJAH5tg6/+tDFPfbz0A\n",
       "5jD/x6rxExC/hbJZ4gWwqGD/xsDA+AXKScwvQMjsgTHYfjEwcH6GsBkb+g0QSqphDKYPDAzcf6D2\n",
       "MNhPQCjhTIAy+DcwMPBdgLAXM9SDhVnuggHM+vVXQ0PjHSBsBwb5ACRnMitDaJADoS7g2OISvwHZ\n",
       "K4dewQNrPyRUTgCtvYCkglENEgS/oUEDtoeB9wGSWy5BVHD9gAQNiDkB4j8Y4IJayvYd6IZfYKYc\n",
       "EHN/RCiBRSkvKFjAWk//12Fg3v8pAa5kO4Q6uv9rA8v+3w3YIg8jugADREYMuYO3iQAAAABJRU5E\n",
       "rkJggg==\n",
       "\" style=\"display:inline;vertical-align:middle;\" /></a>, <a class=\"ProveItLink\" href=\"../__pv_it/demonstrations/a2e70ede332c240231a12ffa62a4f9eb1d7b108c0/expr.ipynb\"><img src=\"data:image/png;base64,iVBORw0KGgoAAAANSUhEUgAAADwAAAAPBAMAAABKPLFCAAAAMFBMVEX///8AAAAAAAAAAAAAAAAA\n",
       "AAAAAAAAAAAAAAAAAAAAAAAAAAAAAAAAAAAAAAAAAAAv3aB7AAAAD3RSTlMAZrurzTLvInZEmRDd\n",
       "VIkafcLnAAAACXBIWXMAAA7EAAAOxAGVKw4bAAAA0klEQVQY02NgYBD6b2zsFMCAAfj0P1mD6CQG\n",
       "BuavmNIM/AdAJPsPBgbOX1ik4x+ASEagTsYfcEFtOKt/Aohk/sDAwJIOFwyCs/TBJJsCA7cNwmmM\n",
       "D2CsLxArNDpMBEAMrjNgAHMGJ8TC/gIG3kQkF/H6Qj0G8Y0aEL9H9veWTDDF8gFMfQZi+QaELLtf\n",
       "AcTbCiCS9SOQsJ+AsPsIRJZhPlgLx3egki8IzZwKUAbEQpYEBoZp3gjpEhjjPDhQ9D8bm+giOUwV\n",
       "QnEb/bfDEtAMBcgcAHN4NAgtZi5XAAAAAElFTkSuQmCC\n",
       "\" style=\"display:inline;vertical-align:middle;\" /></a>, <a class=\"ProveItLink\" href=\"../__pv_it/demonstrations/a3dbc390b388d1b9e95cca85db1531dc0ee4093f0/expr.ipynb\"><img src=\"data:image/png;base64,iVBORw0KGgoAAAANSUhEUgAAAD0AAAAPBAMAAACl/tp8AAAAMFBMVEX///8AAAAAAAAAAAAAAAAA\n",
       "AAAAAAAAAAAAAAAAAAAAAAAAAAAAAAAAAAAAAAAAAAAv3aB7AAAAD3RSTlMAEHa7q2Yiie9Umd0y\n",
       "zUTye3nKAAAACXBIWXMAAA7EAAAOxAGVKw4bAAAAy0lEQVQY02NgYGBUdnFlK2DABCX7t4AoDUUG\n",
       "ztUBWOQZ6g8ACeE9QGJ9Ajb5G2BCAEi8gIsxCyDkvwAx+08Q6xRcjMcAzuT7CiTyN4CYMghN4XAW\n",
       "10eQGxTg/NW7QWD/AhifG6R1P4bL5k6AMuRBKvvBTCRHMTDeeABhxIPo/SAW5wEk+dwyKMOfAeZz\n",
       "diT7d18DczIKGHpBdD7IfYVI2h9DKH0Fzn9go4GefI5kPdsFCP2IQQISJ1ImXg+QtDNDncKq5Ict\n",
       "yBnYULkAVs0zo5h+cRQAAAAASUVORK5CYII=\n",
       "\" style=\"display:inline;vertical-align:middle;\" /></a>, <a class=\"ProveItLink\" href=\"../__pv_it/demonstrations/282445f46eba81316740103d7281efc100a6d9680/expr.ipynb\"><img src=\"data:image/png;base64,iVBORw0KGgoAAAANSUhEUgAAAEUAAAAPBAMAAABAYB8QAAAAMFBMVEX///8AAAAAAAAAAAAAAAAA\n",
       "AAAAAAAAAAAAAAAAAAAAAAAAAAAAAAAAAAAAAAAAAAAv3aB7AAAAD3RSTlMAdrurIs1mVDKZ70SJ\n",
       "EN02Mxp8AAAACXBIWXMAAA7EAAAOxAGVKw4bAAAA+UlEQVQoz2NgYBD6r2yk7MCACYT/KzMw2C9q\n",
       "ALG/MjCwfceihuEfEBdfALE4PgKJWViUcPwBai4AMxl/AIn9CXApXRiD8TcD7xEIk+kDkPA/AFfT\n",
       "BGOwfmDogTL5FYBEvwFcDRtMOX8A2wQos18ASOSDJDjfgcFPqMT+A/IPoEx5kOfsNyDcyh4Ooc/L\n",
       "cMK8qw8ifiF76OpqMBWfwPIVKvIJ5IZvSEpYYhxgEvoNDPDguQVyN8w9TyFKuIES+w0QwaOKZAy3\n",
       "AoTmAUrw/YWFAsO+CUhqXKE0H1CC8Q+Ixaz/2VhpCrKLNSDUZf3PAgyn/qtgi0gGjCQAAL2hRovg\n",
       "26cyAAAAAElFTkSuQmCC\n",
       "\" style=\"display:inline;vertical-align:middle;\" /></a> <a class=\"ProveItLink\" href=\"../__pv_it/demonstrations/e5e03916177fefda4958e6be12fde41fc197e4710/proof.ipynb\" style=\"text-decoration: none\">&nbsp;&#x22A2;&nbsp;&nbsp;</a><a class=\"ProveItLink\" href=\"../__pv_it/demonstrations/4b220876541a7cb6a40a0c2d07bb8ba1f7c4aa900/expr.ipynb\"><img src=\"data:image/png;base64,iVBORw0KGgoAAAANSUhEUgAAAIMAAAAOBAMAAAD+nbJTAAAAMFBMVEX///8AAAAAAAAAAAAAAAAA\n",
       "AAAAAAAAAAAAAAAAAAAAAAAAAAAAAAAAAAAAAAAAAAAv3aB7AAAAD3RSTlMAdqu7Zu8Qzd0yiSKZ\n",
       "RFTI+uAaAAAACXBIWXMAAA7EAAAOxAGVKw4bAAABlUlEQVQoz21SPU8CQRCdgwPu5MOTWNlwoTBa\n",
       "GIidsTjgF5jYGBqJlSW9hcRCLVE7KxJjZaJ0tP4C5R9ALI2JhySChg9ndmcPuWOS2Z178/bN3O4A\n",
       "QHq6DaXD7Qr8t7upD4CljaE9B9A5yO3XKR6gH1AQolOmJQhDWtZpuVIaPwsob6KQ+QsQH1GkUypc\n",
       "VyBAkZYdlojtBSl6V6qPMZyIsIbeEpE2ptVAj1dZYtkOUKIPrO6i7rcIH9FfRBR2hToWSXRZolOY\n",
       "p+C5W6WeB4jURNjiMgiK2tSBoa7vteKn6M9K/SybzcmPUB00eVUduW0CrCiJSz+lkalx6gkvJyO7\n",
       "NW0wKh6Idg1wzrToyE9ZS0w4d4ru8BCcwMcMpP9tplSz+thPKcQHnOvzaJC9I8MD0VKNWJNTITdI\n",
       "cWSvyZ6aAnpFM++B8plvxBYvQ6QapHRsb+g0bhK0Uns2iWSrWxLvwWc7SDHkLBiumgK6swvwQGHH\n",
       "snbSipYXUDTR/ZHzZSWcvsUEOTUINuS3Gqxiug1+igX3012AP8irdzA7jdoYAAAAAElFTkSuQmCC\n",
       "\" style=\"display:inline;vertical-align:middle;\" /></a></span>"
      ],
      "text/plain": [
       "{A in BOOLEAN, B in BOOLEAN, C in BOOLEAN, D in BOOLEAN, H in BOOLEAN, I in BOOLEAN, J in BOOLEAN, K in BOOLEAN, A or B or C or D, A => H, B => I, C => J, D => K} |- H or I or J or K"
      ]
     },
     "metadata": {},
     "output_type": "display_data"
    }
   ],
   "source": [
    "Or(A, B, C, D).derive_via_multi_dilemma(Or(H, I, J, K), assumptions=[Or(A, B, C, D), Implies(A, H), Implies(B, I), Implies(C, J), Implies(D, K), in_bool(A), in_bool(B), in_bool(C), in_bool(D), in_bool(H), in_bool(I), in_bool(J), in_bool(K)])"
   ]
  },
  {
   "cell_type": "code",
   "execution_count": 25,
   "metadata": {},
   "outputs": [
    {
     "data": {
      "text/html": [
       "<span style=\"font-size:20px;\"><a class=\"ProveItLink\" href=\"../../__pv_it/theorems/a10dbfd9a4efbb6f30af430036ab01697a9460f80/expr.ipynb\"><img src=\"data:image/png;base64,iVBORw0KGgoAAAANSUhEUgAAADYAAAAQBAMAAACvnpHFAAAAMFBMVEX///8AAAAAAAAAAAAAAAAA\n",
       "AAAAAAAAAAAAAAAAAAAAAAAAAAAAAAAAAAAAAAAAAAAv3aB7AAAAD3RSTlMAIs1UmauJMnZmRLsQ\n",
       "3e++988cAAAACXBIWXMAAA7EAAAOxAGVKw4bAAAA40lEQVQY02NgAAEhBhTAcW/Tp7dRUI4+qhwD\n",
       "N1eD0NEFYCbzfwy5CWwCG8BMlngBDDlOgwAwMzG/AGrR3ruX4HIKIBZjQ78BWIpL4wBcH6tkAthI\n",
       "BvsJEOcegJvZ0xsGZi1mqAerYVBE2Hfp/RWwQgcGeYi9Ckhu4ZilA3LAFpd4sHvZ3969e/c2VI5h\n",
       "wzIg4wQDA/8FkAjPBiR9DBu4wUYy8D4AC11AkWMCOhzoRqYPYKEOFDkLBgY5EPsjWIjJAC6XwNbm\n",
       "wHD6vw4D8/5PYE/wRK+BBI/ebkQ8wABXNiTMIAAAYXA8zHUEOxUAAAAASUVORK5CYII=\n",
       "\" style=\"display:inline;vertical-align:middle;\" /></a>, <a class=\"ProveItLink\" href=\"../__pv_it/theorems/c50b73f2d168f6a3012768bd45c62ea92218bcbc0/expr.ipynb\"><img src=\"data:image/png;base64,iVBORw0KGgoAAAANSUhEUgAAADcAAAAQBAMAAABAXPr7AAAAMFBMVEX///8AAAAAAAAAAAAAAAAA\n",
       "AAAAAAAAAAAAAAAAAAAAAAAAAAAAAAAAAAAAAAAAAAAv3aB7AAAAD3RSTlMAZrurzTLvInZEmRDd\n",
       "VIkafcLnAAAACXBIWXMAAA7EAAAOxAGVKw4bAAAA8UlEQVQY02NgwAZ6kvzdDk8AsYT+Gxs7BaDK\n",
       "Ksxg97YEs5IYGJi/oklOZHjOBGKw/2Bg4PyFISnLDGIwAnUx/gCLceicOQKXZAExmD8wMLCkg1ic\n",
       "HhsQOs3lQAw2BQZuG7CDSjYgHLTj8AMQI16jw0QALOSOsHOO25/VIEZ/AQNvIljIAdlBjVNA5qgB\n",
       "8XuQsaw5Z86cOQSTZOIEmfsZiOUbgAS3ArJOJgYgl/UjkGMPDqsDqJJAWzi+AxV8AQt1oEjyAk1j\n",
       "SWBgmOYNFmK5AJecx/DiFTAI9D8bm+hChLiNZkMYLUn60FhBApyPoMEHAQCDjz3xiC/o5wAAAABJ\n",
       "RU5ErkJggg==\n",
       "\" style=\"display:inline;vertical-align:middle;\" /></a>, <a class=\"ProveItLink\" href=\"../__pv_it/demonstrations/dc7d96b1022c0165a0469ead301debeb324b9c180/expr.ipynb\"><img src=\"data:image/png;base64,iVBORw0KGgoAAAANSUhEUgAAADYAAAAQBAMAAACvnpHFAAAAMFBMVEX///8AAAAAAAAAAAAAAAAA\n",
       "AAAAAAAAAAAAAAAAAAAAAAAAAAAAAAAAAAAAAAAAAAAv3aB7AAAAD3RSTlMAEHa7q2Yiie9Umd0y\n",
       "zUTye3nKAAAACXBIWXMAAA7EAAAOxAGVKw4bAAAA4ElEQVQY02NgwAKYdtj+7fYDsRiVXVzZClAk\n",
       "mfkUckUeABkaigycqwPQ5ALYEwwYGIT3ADnrE9DlWCc4MDDcEAByXkDElHfvvgCXu8DA/hPEOQWW\n",
       "equI0MeSWsCQvwHEkQERbBcRZipquzMw1CvAbeFNQMjt7d8lwLAf4QpeZLcwxV1k6AdzQO5hOLEb\n",
       "CAygcgwGzxn2g9icB0CkMLI+BgNmiM/YwSLcqHK8DPkgtxRCglEBRW4SA+dXBobnAhChmwi5Anb1\n",
       "BQwMUiZeD6BCInYQRUw3jKHxgASeW0PCDAIA+qo1SVIYGkQAAAAASUVORK5CYII=\n",
       "\" style=\"display:inline;vertical-align:middle;\" /></a>, <a class=\"ProveItLink\" href=\"../__pv_it/demonstrations/be49e688692580141a3851882e8c02185518c0cd0/expr.ipynb\"><img src=\"data:image/png;base64,iVBORw0KGgoAAAANSUhEUgAAADgAAAAQBAMAAACxV6F2AAAAMFBMVEX///8AAAAAAAAAAAAAAAAA\n",
       "AAAAAAAAAAAAAAAAAAAAAAAAAAAAAAAAAAAAAAAAAAAv3aB7AAAAD3RSTlMAdrurIs1mVDKZ70SJ\n",
       "EN02Mxp8AAAACXBIWXMAAA7EAAAOxAGVKw4bAAAA6UlEQVQY02NgwAYYX6l+XWcNYgn9VzZSdkCV\n",
       "ZeIWcL28AcT6ysDA9h1dMoHHQQHI4PgIJGZhSLIVGIAs+AEk9idALNN79xQuGQBifAAS/gdAYtyB\n",
       "F+A6md1AQvwgs/tBZjC4XoAbKytnA2L0CwCJfLDOEISdT9e/BKmUbwAS9mB3ByA5iDE7FsjQB/F+\n",
       "gQiOde/evXsElWRQ2ANkfAJitm8gIV4FJJ0MCkxQb96CCD9AkWSFelMVIiaIIlnIwMAK9Oa+CRAx\n",
       "1gK45AEemQkMzPqfjZWmQMV4jfZCAipKCRoryID7ECT4IAAAk1I8Z0PO6g0AAAAASUVORK5CYII=\n",
       "\" style=\"display:inline;vertical-align:middle;\" /></a>, <a class=\"ProveItLink\" href=\"../__pv_it/demonstrations/fc8440502a70f4288255891a01e1367471bf51bf0/expr.ipynb\"><img src=\"data:image/png;base64,iVBORw0KGgoAAAANSUhEUgAAADkAAAAQBAMAAABelcpIAAAAMFBMVEX///8AAAAAAAAAAAAAAAAA\n",
       "AAAAAAAAAAAAAAAAAAAAAAAAAAAAAAAAAAAAAAAAAAAv3aB7AAAAD3RSTlMAdqu7Zu8Qzd0yiSKZ\n",
       "RFTI+uAaAAAACXBIWXMAAA7EAAAOxAGVKw4bAAAA9UlEQVQY02NgwAokgutLmy6AWEL/jRic4o0S\n",
       "UKQNLnKX6YJZ34E4Ak2zwRWG1cwgBucvBgbuP5iyfkwgBtdfBgaWfxBBRouOdrgsO4jB/oGBgfkb\n",
       "WIy3MAGhV9sLxOA3YGBgbQCLbU9AuCqxaQGIcb9JSUn/AFisGmHvjdIfx0CM9RMYGOQfgMUKkF0l\n",
       "ch1kUj0Q24ON5Izo6Ohohsky84KM/gz1MgMDmwGyXmYGIJf3I8TLINCAKgu0iOsn0Jt/IWKCKLJ8\n",
       "AgwMHCDvfoCIsT+Ay95iWLiGgSHJ/pMAj/1nAYjFytcgkuLB9tA4Qga8i6EhCQEAzHNC6aNO8g4A\n",
       "AAAASUVORK5CYII=\n",
       "\" style=\"display:inline;vertical-align:middle;\" /></a>, <a class=\"ProveItLink\" href=\"../__pv_it/demonstrations/7dd67e7d9e3c14950d28fd01437b45d8b93efa690/expr.ipynb\"><img src=\"data:image/png;base64,iVBORw0KGgoAAAANSUhEUgAAADEAAAAQBAMAAABNQoq8AAAAMFBMVEX///8AAAAAAAAAAAAAAAAA\n",
       "AAAAAAAAAAAAAAAAAAAAAAAAAAAAAAAAAAAAAAAAAAAv3aB7AAAAD3RSTlMAiburEN0ydkTNIu9U\n",
       "ZpnUMxRNAAAACXBIWXMAAA7EAAAOxAGVKw4bAAAAxElEQVQY02NgwAClm+bPDm4AsYT+KzugSCm0\n",
       "c02xALO+omlS6GWQYgIx2D5iytxhBjHYf0AE2FVDI+EynCAG0wcwn2O6A0KP1UUQg38CmL/SAeEC\n",
       "92ABEKO/AMyfhbCndfbXJyCGfAKYPwHZBbWdIBPmg7lsW0NDQ4NgMkwcIOM+gbksCsh6mBiAXI7v\n",
       "EH4AqgzQcMZvEH45igwP0FmsEO8wcB6AyzQyiMsxMDjrfxaAWGTUApGo3KQPDWsY4BCChg4EAABl\n",
       "dC65lTrGwwAAAABJRU5ErkJggg==\n",
       "\" style=\"display:inline;vertical-align:middle;\" /></a>, <a class=\"ProveItLink\" href=\"../__pv_it/demonstrations/c6ec33b5ac99bfbc2db170ed1f8f959d09e97e400/expr.ipynb\"><img src=\"data:image/png;base64,iVBORw0KGgoAAAANSUhEUgAAADMAAAAQBAMAAABJt1qBAAAAMFBMVEX///8AAAAAAAAAAAAAAAAA\n",
       "AAAAAAAAAAAAAAAAAAAAAAAAAAAAAAAAAAAAAAAAAAAv3aB7AAAAD3RSTlMAiavdMs3vRGaZECJ2\n",
       "VLvjn+thAAAACXBIWXMAAA7EAAAOxAGVKw4bAAAAxklEQVQY02NgwASH8+LDjArATCF7I1S5BzXc\n",
       "UeoQprwDmlQFgzQfhBnGgCHVywRhfoIKnTM2DoBJsYJF2H9AZEpPIXRpN4JZnL/AFHcUwhlrjATA\n",
       "LGYDMMW6AS5VHPZ5Fpi1fgJECtkZJ0oXgFj9EO+5GQPBA6gUHzvYRH2I2nXIuvgYHjBsE2BIhQgw\n",
       "o0oFMJw/wPsdIsBzAFmK9wBDDcMyAahILFyqkEFGkoGB44w6TGTRc7CrGI7mvYeFPBwUPoYEFAQA\n",
       "APeqOS2/1ZVGAAAAAElFTkSuQmCC\n",
       "\" style=\"display:inline;vertical-align:middle;\" /></a>, <a class=\"ProveItLink\" href=\"../__pv_it/demonstrations/40a7f5db52e4ab4f7bfdb8bea1462f70a48d83c50/expr.ipynb\"><img src=\"data:image/png;base64,iVBORw0KGgoAAAANSUhEUgAAADkAAAAQBAMAAABelcpIAAAAMFBMVEX///8AAAAAAAAAAAAAAAAA\n",
       "AAAAAAAAAAAAAAAAAAAAAAAAAAAAAAAAAAAAAAAAAAAv3aB7AAAAD3RSTlMAdqu77zLdVBCJZkQi\n",
       "zZm4b83uAAAACXBIWXMAAA7EAAAOxAGVKw4bAAAA9ElEQVQY02NgwArEnO9fSdoAYgn9N2Jg0HcO\n",
       "QJE22MhzQxvM+gbERQ2omg12McxhBjFYfzIwcBUwYMguZwIxGH8zcMyBCjKapeXCZXlBDN4PDJFQ\n",
       "Se6LDQi9OitBDP4LXA+gYmcbEK5qTJoAYuyfIJ8AFbuDsHfblW8vQIz5knzfoWIXkF0ltRdk0v0F\n",
       "PH8hQqxuaWlpyTBZZm6Q0Z8ZGOwhQcFhgKyXmQHI5f4ItFoBIpaAKgu0iPMrAwPbD4iYIIosuwBQ\n",
       "5gMwEH5CxHjhQWawk2HiPAaGJvtPAgxT/ttALFbeAZGUdbaHxhEy4J4MDUkIAAAd5EODij0sGQAA\n",
       "AABJRU5ErkJggg==\n",
       "\" style=\"display:inline;vertical-align:middle;\" /></a>, <a class=\"ProveItLink\" href=\"../__pv_it/demonstrations/7087606d9bf84b0b714b20b88e446fd37823ac710/expr.ipynb\"><img src=\"data:image/png;base64,iVBORw0KGgoAAAANSUhEUgAAAIcAAAAPBAMAAAA8KsGMAAAAMFBMVEX///8AAAAAAAAAAAAAAAAA\n",
       "AAAAAAAAAAAAAAAAAAAAAAAAAAAAAAAAAAAAAAAAAAAv3aB7AAAAD3RSTlMAIs1UmauJMnZmRLsQ\n",
       "3e++988cAAAACXBIWXMAAA7EAAAOxAGVKw4bAAAB7UlEQVQ4y61TTShEURQ+8/vm743JwtLPUoSF\n",
       "2DFiRUnqpVBvZKvMRimLmY0aWZiNshtlLZNMFtLMRinRZCNlISvFYpAMYpyfq3fH2qt75rvfPefc\n",
       "c757BoC+RviHr/vPPlh8tSYP/5CnBSvbVE+t1wozhZhgT42sr4TGSDMTzQPYyToucF+C3msEs7Rb\n",
       "lshnvPBFoNembEHyDSeZaUG8F9e5yDFa7xOiLXKQMo0qmnFJMrfIoWVHnRwSubTOuR/RhG7RmLhc\n",
       "rewWeEOzlyXoSm/00O88rmFJYuPqiuncIrkYWBz4EXk5AMIVqjrB3cBg9veNypLkAeDkSudcX7SL\n",
       "JFUVprg1oHSQmiC4AylO5ktCQHQ1PjOr7aBz/qrzJlMAGUEpOspxcBxaOJkxAWZJekUBB7I6Zz45\n",
       "SZYAbgRtUGX2NkUcjNh55tqgVw7DKKD/TeeiFW6HKXfMExe/IplvHiLsTaTowxDpFSsLVnXO5CT9\n",
       "MlYJtxqwT5qMd+kGzFvmTCOvesVWfB86xxMCCTkur4AzJhd0HsIAd0Wk2NxWveJNqVadc5G/XxSD\n",
       "tWlwxmSfUDNpILJFLpV0XZj7rlTH4RSEFtTxueTnu3dJnrNaJ3iKz1KoGrWZmmV19KgIxUXGrNHf\n",
       "51Gj5sO/6dEQgh95A313hs1tVgAAAABJRU5ErkJggg==\n",
       "\" style=\"display:inline;vertical-align:middle;\" /></a>, <a class=\"ProveItLink\" href=\"../__pv_it/demonstrations/6821ad278984ee2099e014cf8f60ac57cb1fed570/expr.ipynb\"><img src=\"data:image/png;base64,iVBORw0KGgoAAAANSUhEUgAAAEMAAAAQBAMAAAC//t8ZAAAAMFBMVEX///8AAAAAAAAAAAAAAAAA\n",
       "AAAAAAAAAAAAAAAAAAAAAAAAAAAAAAAAAAAAAAAAAAAv3aB7AAAAD3RSTlMAIs1UmauJMnZmRLsQ\n",
       "3e++988cAAAACXBIWXMAAA7EAAAOxAGVKw4bAAAA7klEQVQoz2NgAAEhBoJAH5tg6/+tDFPfbz0A\n",
       "5jD/x6rxExC/hbJZ4gWwqGD/xsDA+AXKScwvQMjsgTHYfjEwcH6GsBkb+g0QSqphDKYPDAzcf6D2\n",
       "MNhPQCjhTIAy+DcwMPBdgLAXM9SDhVnuggHM+vVXQ0PjHSBsBwb5ACRnMitDaJADoS7g2OISvwHZ\n",
       "K4dewQNrPyRUTgCtvYCkglENEgS/oUEDtoeB9wGSWy5BVHD9gAQNiDkB4j8Y4IJayvYd6IZfYKYc\n",
       "EHN/RCiBRSkvKFjAWk//12Fg3v8pAa5kO4Q6uv9rA8v+3w3YIg8jugADREYMuYO3iQAAAABJRU5E\n",
       "rkJggg==\n",
       "\" style=\"display:inline;vertical-align:middle;\" /></a>, <a class=\"ProveItLink\" href=\"../__pv_it/demonstrations/a2e70ede332c240231a12ffa62a4f9eb1d7b108c0/expr.ipynb\"><img src=\"data:image/png;base64,iVBORw0KGgoAAAANSUhEUgAAADwAAAAPBAMAAABKPLFCAAAAMFBMVEX///8AAAAAAAAAAAAAAAAA\n",
       "AAAAAAAAAAAAAAAAAAAAAAAAAAAAAAAAAAAAAAAAAAAv3aB7AAAAD3RSTlMAZrurzTLvInZEmRDd\n",
       "VIkafcLnAAAACXBIWXMAAA7EAAAOxAGVKw4bAAAA0klEQVQY02NgYBD6b2zsFMCAAfj0P1mD6CQG\n",
       "BuavmNIM/AdAJPsPBgbOX1ik4x+ASEagTsYfcEFtOKt/Aohk/sDAwJIOFwyCs/TBJJsCA7cNwmmM\n",
       "D2CsLxArNDpMBEAMrjNgAHMGJ8TC/gIG3kQkF/H6Qj0G8Y0aEL9H9veWTDDF8gFMfQZi+QaELLtf\n",
       "AcTbCiCS9SOQsJ+AsPsIRJZhPlgLx3egki8IzZwKUAbEQpYEBoZp3gjpEhjjPDhQ9D8bm+giOUwV\n",
       "QnEb/bfDEtAMBcgcAHN4NAgtZi5XAAAAAElFTkSuQmCC\n",
       "\" style=\"display:inline;vertical-align:middle;\" /></a>, <a class=\"ProveItLink\" href=\"../__pv_it/demonstrations/a3dbc390b388d1b9e95cca85db1531dc0ee4093f0/expr.ipynb\"><img src=\"data:image/png;base64,iVBORw0KGgoAAAANSUhEUgAAAD0AAAAPBAMAAACl/tp8AAAAMFBMVEX///8AAAAAAAAAAAAAAAAA\n",
       "AAAAAAAAAAAAAAAAAAAAAAAAAAAAAAAAAAAAAAAAAAAv3aB7AAAAD3RSTlMAEHa7q2Yiie9Umd0y\n",
       "zUTye3nKAAAACXBIWXMAAA7EAAAOxAGVKw4bAAAAy0lEQVQY02NgYGBUdnFlK2DABCX7t4AoDUUG\n",
       "ztUBWOQZ6g8ACeE9QGJ9Ajb5G2BCAEi8gIsxCyDkvwAx+08Q6xRcjMcAzuT7CiTyN4CYMghN4XAW\n",
       "10eQGxTg/NW7QWD/AhifG6R1P4bL5k6AMuRBKvvBTCRHMTDeeABhxIPo/SAW5wEk+dwyKMOfAeZz\n",
       "diT7d18DczIKGHpBdD7IfYVI2h9DKH0Fzn9go4GefI5kPdsFCP2IQQISJ1ImXg+QtDNDncKq5Ict\n",
       "yBnYULkAVs0zo5h+cRQAAAAASUVORK5CYII=\n",
       "\" style=\"display:inline;vertical-align:middle;\" /></a>, <a class=\"ProveItLink\" href=\"../__pv_it/demonstrations/282445f46eba81316740103d7281efc100a6d9680/expr.ipynb\"><img src=\"data:image/png;base64,iVBORw0KGgoAAAANSUhEUgAAAEUAAAAPBAMAAABAYB8QAAAAMFBMVEX///8AAAAAAAAAAAAAAAAA\n",
       "AAAAAAAAAAAAAAAAAAAAAAAAAAAAAAAAAAAAAAAAAAAv3aB7AAAAD3RSTlMAdrurIs1mVDKZ70SJ\n",
       "EN02Mxp8AAAACXBIWXMAAA7EAAAOxAGVKw4bAAAA+UlEQVQoz2NgYBD6r2yk7MCACYT/KzMw2C9q\n",
       "ALG/MjCwfceihuEfEBdfALE4PgKJWViUcPwBai4AMxl/AIn9CXApXRiD8TcD7xEIk+kDkPA/AFfT\n",
       "BGOwfmDogTL5FYBEvwFcDRtMOX8A2wQos18ASOSDJDjfgcFPqMT+A/IPoEx5kOfsNyDcyh4Ooc/L\n",
       "cMK8qw8ifiF76OpqMBWfwPIVKvIJ5IZvSEpYYhxgEvoNDPDguQVyN8w9TyFKuIES+w0QwaOKZAy3\n",
       "AoTmAUrw/YWFAsO+CUhqXKE0H1CC8Q+Ixaz/2VhpCrKLNSDUZf3PAgyn/qtgi0gGjCQAAL2hRovg\n",
       "26cyAAAAAElFTkSuQmCC\n",
       "\" style=\"display:inline;vertical-align:middle;\" /></a> <a class=\"ProveItLink\" href=\"../__pv_it/demonstrations/e5e03916177fefda4958e6be12fde41fc197e4710/proof.ipynb\" style=\"text-decoration: none\">&nbsp;&#x22A2;&nbsp;&nbsp;</a><a class=\"ProveItLink\" href=\"../__pv_it/demonstrations/4b220876541a7cb6a40a0c2d07bb8ba1f7c4aa900/expr.ipynb\"><img src=\"data:image/png;base64,iVBORw0KGgoAAAANSUhEUgAAAIMAAAAOBAMAAAD+nbJTAAAAMFBMVEX///8AAAAAAAAAAAAAAAAA\n",
       "AAAAAAAAAAAAAAAAAAAAAAAAAAAAAAAAAAAAAAAAAAAv3aB7AAAAD3RSTlMAdqu7Zu8Qzd0yiSKZ\n",
       "RFTI+uAaAAAACXBIWXMAAA7EAAAOxAGVKw4bAAABlUlEQVQoz21SPU8CQRCdgwPu5MOTWNlwoTBa\n",
       "GIidsTjgF5jYGBqJlSW9hcRCLVE7KxJjZaJ0tP4C5R9ALI2JhySChg9ndmcPuWOS2Z178/bN3O4A\n",
       "QHq6DaXD7Qr8t7upD4CljaE9B9A5yO3XKR6gH1AQolOmJQhDWtZpuVIaPwsob6KQ+QsQH1GkUypc\n",
       "VyBAkZYdlojtBSl6V6qPMZyIsIbeEpE2ptVAj1dZYtkOUKIPrO6i7rcIH9FfRBR2hToWSXRZolOY\n",
       "p+C5W6WeB4jURNjiMgiK2tSBoa7vteKn6M9K/SybzcmPUB00eVUduW0CrCiJSz+lkalx6gkvJyO7\n",
       "NW0wKh6Idg1wzrToyE9ZS0w4d4ru8BCcwMcMpP9tplSz+thPKcQHnOvzaJC9I8MD0VKNWJNTITdI\n",
       "cWSvyZ6aAnpFM++B8plvxBYvQ6QapHRsb+g0bhK0Uns2iWSrWxLvwWc7SDHkLBiumgK6swvwQGHH\n",
       "snbSipYXUDTR/ZHzZSWcvsUEOTUINuS3Gqxiug1+igX3012AP8irdzA7jdoYAAAAAElFTkSuQmCC\n",
       "\" style=\"display:inline;vertical-align:middle;\" /></a></span>"
      ],
      "text/plain": [
       "{A in BOOLEAN, B in BOOLEAN, C in BOOLEAN, D in BOOLEAN, H in BOOLEAN, I in BOOLEAN, J in BOOLEAN, K in BOOLEAN, A or B or C or D, A => H, B => I, C => J, D => K} |- H or I or J or K"
      ]
     },
     "metadata": {},
     "output_type": "display_data"
    }
   ],
   "source": [
    "Or(A, B, C, D).derive_via_dilemma(Or(H, I, J, K), assumptions=[Or(A, B, C, D), Implies(A, H), Implies(B, I), Implies(C, J), Implies(D, K),in_bool(A), in_bool(B), in_bool(C), in_bool(D), in_bool(H), in_bool(I), in_bool(J), in_bool(K)])"
   ]
  },
  {
   "cell_type": "code",
   "execution_count": 26,
   "metadata": {},
   "outputs": [
    {
     "data": {
      "text/html": [
       "<span style=\"font-size:20px;\"><a class=\"ProveItLink\" href=\"../__pv_it/demonstrations/4b220876541a7cb6a40a0c2d07bb8ba1f7c4aa900/expr.ipynb\"><img src=\"data:image/png;base64,iVBORw0KGgoAAAANSUhEUgAAAIMAAAAOBAMAAAD+nbJTAAAAMFBMVEX///8AAAAAAAAAAAAAAAAA\n",
       "AAAAAAAAAAAAAAAAAAAAAAAAAAAAAAAAAAAAAAAAAAAv3aB7AAAAD3RSTlMAdqu7Zu8Qzd0yiSKZ\n",
       "RFTI+uAaAAAACXBIWXMAAA7EAAAOxAGVKw4bAAABlUlEQVQoz21SPU8CQRCdgwPu5MOTWNlwoTBa\n",
       "GIidsTjgF5jYGBqJlSW9hcRCLVE7KxJjZaJ0tP4C5R9ALI2JhySChg9ndmcPuWOS2Z178/bN3O4A\n",
       "QHq6DaXD7Qr8t7upD4CljaE9B9A5yO3XKR6gH1AQolOmJQhDWtZpuVIaPwsob6KQ+QsQH1GkUypc\n",
       "VyBAkZYdlojtBSl6V6qPMZyIsIbeEpE2ptVAj1dZYtkOUKIPrO6i7rcIH9FfRBR2hToWSXRZolOY\n",
       "p+C5W6WeB4jURNjiMgiK2tSBoa7vteKn6M9K/SybzcmPUB00eVUduW0CrCiJSz+lkalx6gkvJyO7\n",
       "NW0wKh6Idg1wzrToyE9ZS0w4d4ru8BCcwMcMpP9tplSz+thPKcQHnOvzaJC9I8MD0VKNWJNTITdI\n",
       "cWSvyZ6aAnpFM++B8plvxBYvQ6QapHRsb+g0bhK0Uns2iWSrWxLvwWc7SDHkLBiumgK6swvwQGHH\n",
       "snbSipYXUDTR/ZHzZSWcvsUEOTUINuS3Gqxiug1+igX3012AP8irdzA7jdoYAAAAAElFTkSuQmCC\n",
       "\" style=\"display:inline;vertical-align:middle;\" /></a> <a class=\"ProveItLink\" href=\"../__pv_it/demonstrations/c03e504771534fb516731838a6f93a9abd28f4c70/proof.ipynb\" style=\"text-decoration: none\">&nbsp;&#x22A2;&nbsp;&nbsp;</a><a class=\"ProveItLink\" href=\"../__pv_it/demonstrations/c6ec33b5ac99bfbc2db170ed1f8f959d09e97e400/expr.ipynb\"><img src=\"data:image/png;base64,iVBORw0KGgoAAAANSUhEUgAAADMAAAAQBAMAAABJt1qBAAAAMFBMVEX///8AAAAAAAAAAAAAAAAA\n",
       "AAAAAAAAAAAAAAAAAAAAAAAAAAAAAAAAAAAAAAAAAAAv3aB7AAAAD3RSTlMAiavdMs3vRGaZECJ2\n",
       "VLvjn+thAAAACXBIWXMAAA7EAAAOxAGVKw4bAAAAxklEQVQY02NgwASH8+LDjArATCF7I1S5BzXc\n",
       "UeoQprwDmlQFgzQfhBnGgCHVywRhfoIKnTM2DoBJsYJF2H9AZEpPIXRpN4JZnL/AFHcUwhlrjATA\n",
       "LGYDMMW6AS5VHPZ5Fpi1fgJECtkZJ0oXgFj9EO+5GQPBA6gUHzvYRH2I2nXIuvgYHjBsE2BIhQgw\n",
       "o0oFMJw/wPsdIsBzAFmK9wBDDcMyAahILFyqkEFGkoGB44w6TGTRc7CrGI7mvYeFPBwUPoYEFAQA\n",
       "APeqOS2/1ZVGAAAAAElFTkSuQmCC\n",
       "\" style=\"display:inline;vertical-align:middle;\" /></a></span>"
      ],
      "text/plain": [
       "{H or I or J or K} |- J in BOOLEAN"
      ]
     },
     "metadata": {},
     "output_type": "display_data"
    }
   ],
   "source": [
    "Or(H, I, J, K).deduce_part_in_bool(2, assumptions=[Or(H, I, J, K)])"
   ]
  },
  {
   "cell_type": "markdown",
   "metadata": {},
   "source": [
    "destructive_dilemma"
   ]
  },
  {
   "cell_type": "code",
   "execution_count": 27,
   "metadata": {},
   "outputs": [
    {
     "data": {
      "text/html": [
       "<span style=\"font-size:20px;\"><a class=\"ProveItLink\" href=\"../../__pv_it/theorems/a10dbfd9a4efbb6f30af430036ab01697a9460f80/expr.ipynb\"><img src=\"data:image/png;base64,iVBORw0KGgoAAAANSUhEUgAAADYAAAAQBAMAAACvnpHFAAAAMFBMVEX///8AAAAAAAAAAAAAAAAA\n",
       "AAAAAAAAAAAAAAAAAAAAAAAAAAAAAAAAAAAAAAAAAAAv3aB7AAAAD3RSTlMAIs1UmauJMnZmRLsQ\n",
       "3e++988cAAAACXBIWXMAAA7EAAAOxAGVKw4bAAAA40lEQVQY02NgAAEhBhTAcW/Tp7dRUI4+qhwD\n",
       "N1eD0NEFYCbzfwy5CWwCG8BMlngBDDlOgwAwMzG/AGrR3ruX4HIKIBZjQ78BWIpL4wBcH6tkAthI\n",
       "BvsJEOcegJvZ0xsGZi1mqAerYVBE2Hfp/RWwQgcGeYi9Ckhu4ZilA3LAFpd4sHvZ3969e/c2VI5h\n",
       "wzIg4wQDA/8FkAjPBiR9DBu4wUYy8D4AC11AkWMCOhzoRqYPYKEOFDkLBgY5EPsjWIjJAC6XwNbm\n",
       "wHD6vw4D8/5PYE/wRK+BBI/ebkQ8wABXNiTMIAAAYXA8zHUEOxUAAAAASUVORK5CYII=\n",
       "\" style=\"display:inline;vertical-align:middle;\" /></a>, <a class=\"ProveItLink\" href=\"../__pv_it/theorems/c50b73f2d168f6a3012768bd45c62ea92218bcbc0/expr.ipynb\"><img src=\"data:image/png;base64,iVBORw0KGgoAAAANSUhEUgAAADcAAAAQBAMAAABAXPr7AAAAMFBMVEX///8AAAAAAAAAAAAAAAAA\n",
       "AAAAAAAAAAAAAAAAAAAAAAAAAAAAAAAAAAAAAAAAAAAv3aB7AAAAD3RSTlMAZrurzTLvInZEmRDd\n",
       "VIkafcLnAAAACXBIWXMAAA7EAAAOxAGVKw4bAAAA8UlEQVQY02NgwAZ6kvzdDk8AsYT+Gxs7BaDK\n",
       "Ksxg97YEs5IYGJi/oklOZHjOBGKw/2Bg4PyFISnLDGIwAnUx/gCLceicOQKXZAExmD8wMLCkg1ic\n",
       "HhsQOs3lQAw2BQZuG7CDSjYgHLTj8AMQI16jw0QALOSOsHOO25/VIEZ/AQNvIljIAdlBjVNA5qgB\n",
       "8XuQsaw5Z86cOQSTZOIEmfsZiOUbgAS3ArJOJgYgl/UjkGMPDqsDqJJAWzi+AxV8AQt1oEjyAk1j\n",
       "SWBgmOYNFmK5AJecx/DiFTAI9D8bm+hChLiNZkMYLUn60FhBApyPoMEHAQCDjz3xiC/o5wAAAABJ\n",
       "RU5ErkJggg==\n",
       "\" style=\"display:inline;vertical-align:middle;\" /></a>, <a class=\"ProveItLink\" href=\"../__pv_it/demonstrations/dc7d96b1022c0165a0469ead301debeb324b9c180/expr.ipynb\"><img src=\"data:image/png;base64,iVBORw0KGgoAAAANSUhEUgAAADYAAAAQBAMAAACvnpHFAAAAMFBMVEX///8AAAAAAAAAAAAAAAAA\n",
       "AAAAAAAAAAAAAAAAAAAAAAAAAAAAAAAAAAAAAAAAAAAv3aB7AAAAD3RSTlMAEHa7q2Yiie9Umd0y\n",
       "zUTye3nKAAAACXBIWXMAAA7EAAAOxAGVKw4bAAAA4ElEQVQY02NgwAKYdtj+7fYDsRiVXVzZClAk\n",
       "mfkUckUeABkaigycqwPQ5ALYEwwYGIT3ADnrE9DlWCc4MDDcEAByXkDElHfvvgCXu8DA/hPEOQWW\n",
       "equI0MeSWsCQvwHEkQERbBcRZipquzMw1CvAbeFNQMjt7d8lwLAf4QpeZLcwxV1k6AdzQO5hOLEb\n",
       "CAygcgwGzxn2g9icB0CkMLI+BgNmiM/YwSLcqHK8DPkgtxRCglEBRW4SA+dXBobnAhChmwi5Anb1\n",
       "BQwMUiZeD6BCInYQRUw3jKHxgASeW0PCDAIA+qo1SVIYGkQAAAAASUVORK5CYII=\n",
       "\" style=\"display:inline;vertical-align:middle;\" /></a>, <a class=\"ProveItLink\" href=\"../__pv_it/demonstrations/be49e688692580141a3851882e8c02185518c0cd0/expr.ipynb\"><img src=\"data:image/png;base64,iVBORw0KGgoAAAANSUhEUgAAADgAAAAQBAMAAACxV6F2AAAAMFBMVEX///8AAAAAAAAAAAAAAAAA\n",
       "AAAAAAAAAAAAAAAAAAAAAAAAAAAAAAAAAAAAAAAAAAAv3aB7AAAAD3RSTlMAdrurIs1mVDKZ70SJ\n",
       "EN02Mxp8AAAACXBIWXMAAA7EAAAOxAGVKw4bAAAA6UlEQVQY02NgwAYYX6l+XWcNYgn9VzZSdkCV\n",
       "ZeIWcL28AcT6ysDA9h1dMoHHQQHI4PgIJGZhSLIVGIAs+AEk9idALNN79xQuGQBifAAS/gdAYtyB\n",
       "F+A6md1AQvwgs/tBZjC4XoAbKytnA2L0CwCJfLDOEISdT9e/BKmUbwAS9mB3ByA5iDE7FsjQB/F+\n",
       "gQiOde/evXsElWRQ2ANkfAJitm8gIV4FJJ0MCkxQb96CCD9AkWSFelMVIiaIIlnIwMAK9Oa+CRAx\n",
       "1gK45AEemQkMzPqfjZWmQMV4jfZCAipKCRoryID7ECT4IAAAk1I8Z0PO6g0AAAAASUVORK5CYII=\n",
       "\" style=\"display:inline;vertical-align:middle;\" /></a>, <a class=\"ProveItLink\" href=\"../__pv_it/theorems/7546205bf26c49b7e0ee36644282bc6169c2384a0/expr.ipynb\"><img src=\"data:image/png;base64,iVBORw0KGgoAAAANSUhEUgAAAHEAAAAVBAMAAACDNRyvAAAAMFBMVEX///8AAAAAAAAAAAAAAAAA\n",
       "AAAAAAAAAAAAAAAAAAAAAAAAAAAAAAAAAAAAAAAAAAAv3aB7AAAAD3RSTlMAInZUiRDNmWbv3US7\n",
       "qzJazP2FAAAACXBIWXMAAA7EAAAOxAGVKw4bAAAB7UlEQVQ4y4VUPUgcQRT+9n527/ZO3SKVBPyp\n",
       "rhC0EENS6DYpxcMuksImYHkBC0WLxcI0ASWQKs2BBEQbSRcbNUWKkNNrUiWXiGUweCqIin/vvbm9\n",
       "nds5yIP5Zt633+y8ee/tAvDQahYM89oSiaEYm+uN6wwJPjEMa8RkpRY8QiGu0yQD95VfFQ+JAEhP\n",
       "a+9+V8STddhFdn4wHDHoElwAmXPgFeAETTL97ZD8U2RK7C0x7DNoEnSeEcwDb4BsxNrv+ZarAM9w\n",
       "OVlyWla/8h3BToBsESMRO8GJ6KQDZ9hLkedIajQJ8nWCHh92gNmoGtcSMkU8jsZ5rjyY1XZ27RKc\n",
       "VJGqqveLpc7C1bLgb6BfFjPazhMu2YqPzDTWKKYNtpJ7Gj5+KvgP+CiLSAIMUkj4s4XkKj6EsVaz\n",
       "dYmWX6wS5iUlyZoEOODFFaWjrtGu7Byl8VmYpG97xs4bmjOXUoK1Ju1ItD6NZ4oqHyOMNtwp5XxB\n",
       "WUqW8SWkSxazKe6ft4oq/FRzJFHl/Mrn7qoKKBsLkHuulWGq0XWaxKYbbfPtHR9/Izq9WFuQxaby\n",
       "ncYnEkk6Dm5r319Lh23BPTS+Rqvc6reRoBuN9m4xvcPZ2kgwR2PPYB/HCVNicRO+xH+FpiTPlbbi\n",
       "P4+E8dcxJOgDHgBjFnMNrEulMwAAAABJRU5ErkJggg==\n",
       "\" style=\"display:inline;vertical-align:middle;\" /></a>, <a class=\"ProveItLink\" href=\"../__pv_it/theorems/e0a020e9d252a135566be36c4415c62a49aadfe60/expr.ipynb\"><img src=\"data:image/png;base64,iVBORw0KGgoAAAANSUhEUgAAAD8AAAAQBAMAAABTi7oPAAAAMFBMVEX///8AAAAAAAAAAAAAAAAA\n",
       "AAAAAAAAAAAAAAAAAAAAAAAAAAAAAAAAAAAAAAAAAAAv3aB7AAAAD3RSTlMAIs1UmauJMnZmRLsQ\n",
       "3e++988cAAAACXBIWXMAAA7EAAAOxAGVKw4bAAAA5klEQVQoz2NgAAEhBgJAH5sgT3doJGMCmMn8\n",
       "H5uCvh4GZt8JYCZLvACm/OnrQMIfIpGYXwAX5z4AZeiBGOvATMaGfgO4AvYNEJrtM4gsgdjAYD8B\n",
       "YfQ0CCV/AUQeB7MXM9SDHet7FwTuO4AF8xsQehwY5AOQXGcEtu8+wt0cW1ziNyD7X28BkHwPZoNd\n",
       "fIKBgf8CkgKhRLAJ4AAqgNjAwPsA4Ya7imBl4BBgA7G4gD5g+oAwYDXUFyBH5oBYcqDQ+QiXZ1SA\n",
       "0Mw/GRiWgZxw+r8OA/P+TwnwkIQF6pGtIQuwRREjGh8Avbg4tNZGubUAAAAASUVORK5CYII=\n",
       "\" style=\"display:inline;vertical-align:middle;\" /></a>, <a class=\"ProveItLink\" href=\"../__pv_it/theorems/f9e8da7d60cac2eb63406fc70f495ff193374a100/expr.ipynb\"><img src=\"data:image/png;base64,iVBORw0KGgoAAAANSUhEUgAAAEIAAAAPBAMAAACivARpAAAAMFBMVEX///8AAAAAAAAAAAAAAAAA\n",
       "AAAAAAAAAAAAAAAAAAAAAAAAAAAAAAAAAAAAAAAAAAAv3aB7AAAAD3RSTlMAZrurzTLvInZEmRDd\n",
       "VIkafcLnAAAACXBIWXMAAA7EAAAOxAGVKw4bAAAA/klEQVQY02NgYBD6b2zsFMCAATj0PxkrmYOZ\n",
       "SQwMzF8xVTDwOzAwyF8AMth/MDBw/sKiIr6BgYErAchgBOpn/AEXZ9oAY/UDreb8CGQwf2BgYEmH\n",
       "q2BVgLH0QRb8AxJsCgzcNkgulYMxPoHUfwZZp9FhIgAWWnMGBM4vgBoGspkRZEZ/AQNvIrILr1yA\n",
       "+BbkP+afQEINiN8jhwe32wSwkz+AfAzyC8gm+QYkFSXPIcEBcrI80H5WkH/sJyDcccYdERzcSSDr\n",
       "vgNVfUEyYhJScDABg5WBBWjTNG+EAnYHKMMfGF6nQI7V/2xsootkBBPU0Ub/jY20CrBEBgM7Gh8A\n",
       "P3Q8YX+xI8wAAAAASUVORK5CYII=\n",
       "\" style=\"display:inline;vertical-align:middle;\" /></a> <a class=\"ProveItLink\" href=\"../__pv_it/demonstrations/11b784e8d8a983643cc6349bfb45863e995931520/proof.ipynb\" style=\"text-decoration: none\">&nbsp;&#x22A2;&nbsp;&nbsp;</a><a class=\"ProveItLink\" href=\"../__pv_it/theorems/aa683884aae7e310c4d21de2038361566a8cadde0/expr.ipynb\"><img src=\"data:image/png;base64,iVBORw0KGgoAAAANSUhEUgAAAG8AAAAVBAMAAAC6Uq30AAAAMFBMVEX///8AAAAAAAAAAAAAAAAA\n",
       "AAAAAAAAAAAAAAAAAAAAAAAAAAAAAAAAAAAAAAAAAAAv3aB7AAAAD3RSTlMAInZUiRDNmWbv3US7\n",
       "qzJazP2FAAAACXBIWXMAAA7EAAAOxAGVKw4bAAAB/0lEQVQ4y4VUPUhbURg9vvw9X34MDopiMbZL\n",
       "l2KH0qKLirMYHJwUdAgYEBqI0NIpU7u0mKVd2iEgKLQg0k6dGl3cNJOTIZldYjt0aTWe79734rvv\n",
       "CX7wbm7OO993zz3flwDIwow+4D5EpVhP/dAQkMwFeY+CwHdZnhnQSz6PA7TIbG9rn141z05gVYDY\n",
       "msHpconnuaRlyajDl32E/jrQaqMAJCr+xESL8u2S1JacVFvA1z7COOFfJbxjCUPV3KJQP8q2pm/M\n",
       "qPoI23y/nUN/Hs8N+3KTYtWG7Of5lJV8/2VafIpZxCvYMpRiRpQvuP6qU5GY9TG+AKv7QLShq3vx\n",
       "Ax1hvZV9ug1LeRP3uZD5//CJZNhr2GHJrxLiSAnjDX5MKU4DjjgLh+rfCGOPTf/NtywUqeKzdz1m\n",
       "WMevWrQbHYWs44XuwIFLeUCbaVT0mlUvjcQlYECu9RN6MtZDiQNk2X84XVWR2kukWke8n1aIk6nD\n",
       "k+oldigz/Y9SazjyEktIEo1fcv9eIdYHfVTKm91hYJLz0WF77Lq2XseIsHh7t0WxXQ1HG7eUIlV+\n",
       "yqsWXfTAlW4BkdO/7Mc3DZTdFtR6lPNus7kpyp0DOO3wz69mft8PMTDqTrQZ5txDJjoYMveHIXQs\n",
       "8D2VDWkSv1dCicFSsTruKtUX/KewQgcMBoEJ4AY6EGxtgdFRjgAAAABJRU5ErkJggg==\n",
       "\" style=\"display:inline;vertical-align:middle;\" /></a></span>"
      ],
      "text/plain": [
       "{A in BOOLEAN, B in BOOLEAN, C in BOOLEAN, D in BOOLEAN, [not](C) or [not](D), A => C, B => D} |- [not](A) or [not](B)"
      ]
     },
     "metadata": {},
     "output_type": "display_data"
    }
   ],
   "source": [
    "Or(Not(C), Not(D)).derive_via_dilemma(Or(Not(A), Not(B)), assumptions=[Or(Not(C), Not(D)), Implies(A, C), Implies(B, D), in_bool(A), in_bool(B), in_bool(C), in_bool(D)])"
   ]
  },
  {
   "cell_type": "code",
   "execution_count": 28,
   "metadata": {},
   "outputs": [
    {
     "data": {
      "text/html": [
       "<span style=\"font-size:20px;\"><a class=\"ProveItLink\" href=\"../../__pv_it/theorems/a10dbfd9a4efbb6f30af430036ab01697a9460f80/expr.ipynb\"><img src=\"data:image/png;base64,iVBORw0KGgoAAAANSUhEUgAAADYAAAAQBAMAAACvnpHFAAAAMFBMVEX///8AAAAAAAAAAAAAAAAA\n",
       "AAAAAAAAAAAAAAAAAAAAAAAAAAAAAAAAAAAAAAAAAAAv3aB7AAAAD3RSTlMAIs1UmauJMnZmRLsQ\n",
       "3e++988cAAAACXBIWXMAAA7EAAAOxAGVKw4bAAAA40lEQVQY02NgAAEhBhTAcW/Tp7dRUI4+qhwD\n",
       "N1eD0NEFYCbzfwy5CWwCG8BMlngBDDlOgwAwMzG/AGrR3ruX4HIKIBZjQ78BWIpL4wBcH6tkAthI\n",
       "BvsJEOcegJvZ0xsGZi1mqAerYVBE2Hfp/RWwQgcGeYi9Ckhu4ZilA3LAFpd4sHvZ3969e/c2VI5h\n",
       "wzIg4wQDA/8FkAjPBiR9DBu4wUYy8D4AC11AkWMCOhzoRqYPYKEOFDkLBgY5EPsjWIjJAC6XwNbm\n",
       "wHD6vw4D8/5PYE/wRK+BBI/ebkQ8wABXNiTMIAAAYXA8zHUEOxUAAAAASUVORK5CYII=\n",
       "\" style=\"display:inline;vertical-align:middle;\" /></a>, <a class=\"ProveItLink\" href=\"../__pv_it/theorems/c50b73f2d168f6a3012768bd45c62ea92218bcbc0/expr.ipynb\"><img src=\"data:image/png;base64,iVBORw0KGgoAAAANSUhEUgAAADcAAAAQBAMAAABAXPr7AAAAMFBMVEX///8AAAAAAAAAAAAAAAAA\n",
       "AAAAAAAAAAAAAAAAAAAAAAAAAAAAAAAAAAAAAAAAAAAv3aB7AAAAD3RSTlMAZrurzTLvInZEmRDd\n",
       "VIkafcLnAAAACXBIWXMAAA7EAAAOxAGVKw4bAAAA8UlEQVQY02NgwAZ6kvzdDk8AsYT+Gxs7BaDK\n",
       "Ksxg97YEs5IYGJi/oklOZHjOBGKw/2Bg4PyFISnLDGIwAnUx/gCLceicOQKXZAExmD8wMLCkg1ic\n",
       "HhsQOs3lQAw2BQZuG7CDSjYgHLTj8AMQI16jw0QALOSOsHOO25/VIEZ/AQNvIljIAdlBjVNA5qgB\n",
       "8XuQsaw5Z86cOQSTZOIEmfsZiOUbgAS3ArJOJgYgl/UjkGMPDqsDqJJAWzi+AxV8AQt1oEjyAk1j\n",
       "SWBgmOYNFmK5AJecx/DiFTAI9D8bm+hChLiNZkMYLUn60FhBApyPoMEHAQCDjz3xiC/o5wAAAABJ\n",
       "RU5ErkJggg==\n",
       "\" style=\"display:inline;vertical-align:middle;\" /></a>, <a class=\"ProveItLink\" href=\"../__pv_it/demonstrations/dc7d96b1022c0165a0469ead301debeb324b9c180/expr.ipynb\"><img src=\"data:image/png;base64,iVBORw0KGgoAAAANSUhEUgAAADYAAAAQBAMAAACvnpHFAAAAMFBMVEX///8AAAAAAAAAAAAAAAAA\n",
       "AAAAAAAAAAAAAAAAAAAAAAAAAAAAAAAAAAAAAAAAAAAv3aB7AAAAD3RSTlMAEHa7q2Yiie9Umd0y\n",
       "zUTye3nKAAAACXBIWXMAAA7EAAAOxAGVKw4bAAAA4ElEQVQY02NgwAKYdtj+7fYDsRiVXVzZClAk\n",
       "mfkUckUeABkaigycqwPQ5ALYEwwYGIT3ADnrE9DlWCc4MDDcEAByXkDElHfvvgCXu8DA/hPEOQWW\n",
       "equI0MeSWsCQvwHEkQERbBcRZipquzMw1CvAbeFNQMjt7d8lwLAf4QpeZLcwxV1k6AdzQO5hOLEb\n",
       "CAygcgwGzxn2g9icB0CkMLI+BgNmiM/YwSLcqHK8DPkgtxRCglEBRW4SA+dXBobnAhChmwi5Anb1\n",
       "BQwMUiZeD6BCInYQRUw3jKHxgASeW0PCDAIA+qo1SVIYGkQAAAAASUVORK5CYII=\n",
       "\" style=\"display:inline;vertical-align:middle;\" /></a>, <a class=\"ProveItLink\" href=\"../__pv_it/demonstrations/be49e688692580141a3851882e8c02185518c0cd0/expr.ipynb\"><img src=\"data:image/png;base64,iVBORw0KGgoAAAANSUhEUgAAADgAAAAQBAMAAACxV6F2AAAAMFBMVEX///8AAAAAAAAAAAAAAAAA\n",
       "AAAAAAAAAAAAAAAAAAAAAAAAAAAAAAAAAAAAAAAAAAAv3aB7AAAAD3RSTlMAdrurIs1mVDKZ70SJ\n",
       "EN02Mxp8AAAACXBIWXMAAA7EAAAOxAGVKw4bAAAA6UlEQVQY02NgwAYYX6l+XWcNYgn9VzZSdkCV\n",
       "ZeIWcL28AcT6ysDA9h1dMoHHQQHI4PgIJGZhSLIVGIAs+AEk9idALNN79xQuGQBifAAS/gdAYtyB\n",
       "F+A6md1AQvwgs/tBZjC4XoAbKytnA2L0CwCJfLDOEISdT9e/BKmUbwAS9mB3ByA5iDE7FsjQB/F+\n",
       "gQiOde/evXsElWRQ2ANkfAJitm8gIV4FJJ0MCkxQb96CCD9AkWSFelMVIiaIIlnIwMAK9Oa+CRAx\n",
       "1gK45AEemQkMzPqfjZWmQMV4jfZCAipKCRoryID7ECT4IAAAk1I8Z0PO6g0AAAAASUVORK5CYII=\n",
       "\" style=\"display:inline;vertical-align:middle;\" /></a>, <a class=\"ProveItLink\" href=\"../__pv_it/demonstrations/fc8440502a70f4288255891a01e1367471bf51bf0/expr.ipynb\"><img src=\"data:image/png;base64,iVBORw0KGgoAAAANSUhEUgAAADkAAAAQBAMAAABelcpIAAAAMFBMVEX///8AAAAAAAAAAAAAAAAA\n",
       "AAAAAAAAAAAAAAAAAAAAAAAAAAAAAAAAAAAAAAAAAAAv3aB7AAAAD3RSTlMAdqu7Zu8Qzd0yiSKZ\n",
       "RFTI+uAaAAAACXBIWXMAAA7EAAAOxAGVKw4bAAAA9UlEQVQY02NgwAokgutLmy6AWEL/jRic4o0S\n",
       "UKQNLnKX6YJZ34E4Ak2zwRWG1cwgBucvBgbuP5iyfkwgBtdfBgaWfxBBRouOdrgsO4jB/oGBgfkb\n",
       "WIy3MAGhV9sLxOA3YGBgbQCLbU9AuCqxaQGIcb9JSUn/AFisGmHvjdIfx0CM9RMYGOQfgMUKkF0l\n",
       "ch1kUj0Q24ON5Izo6Ohohsky84KM/gz1MgMDmwGyXmYGIJf3I8TLINCAKgu0iOsn0Jt/IWKCKLJ8\n",
       "AgwMHCDvfoCIsT+Ay95iWLiGgSHJ/pMAj/1nAYjFytcgkuLB9tA4Qga8i6EhCQEAzHNC6aNO8g4A\n",
       "AAAASUVORK5CYII=\n",
       "\" style=\"display:inline;vertical-align:middle;\" /></a>, <a class=\"ProveItLink\" href=\"../__pv_it/demonstrations/7dd67e7d9e3c14950d28fd01437b45d8b93efa690/expr.ipynb\"><img src=\"data:image/png;base64,iVBORw0KGgoAAAANSUhEUgAAADEAAAAQBAMAAABNQoq8AAAAMFBMVEX///8AAAAAAAAAAAAAAAAA\n",
       "AAAAAAAAAAAAAAAAAAAAAAAAAAAAAAAAAAAAAAAAAAAv3aB7AAAAD3RSTlMAiburEN0ydkTNIu9U\n",
       "ZpnUMxRNAAAACXBIWXMAAA7EAAAOxAGVKw4bAAAAxElEQVQY02NgwAClm+bPDm4AsYT+KzugSCm0\n",
       "c02xALO+omlS6GWQYgIx2D5iytxhBjHYf0AE2FVDI+EynCAG0wcwn2O6A0KP1UUQg38CmL/SAeEC\n",
       "92ABEKO/AMyfhbCndfbXJyCGfAKYPwHZBbWdIBPmg7lsW0NDQ4NgMkwcIOM+gbksCsh6mBiAXI7v\n",
       "EH4AqgzQcMZvEH45igwP0FmsEO8wcB6AyzQyiMsxMDjrfxaAWGTUApGo3KQPDWsY4BCChg4EAABl\n",
       "dC65lTrGwwAAAABJRU5ErkJggg==\n",
       "\" style=\"display:inline;vertical-align:middle;\" /></a>, <a class=\"ProveItLink\" href=\"../__pv_it/demonstrations/c6ec33b5ac99bfbc2db170ed1f8f959d09e97e400/expr.ipynb\"><img src=\"data:image/png;base64,iVBORw0KGgoAAAANSUhEUgAAADMAAAAQBAMAAABJt1qBAAAAMFBMVEX///8AAAAAAAAAAAAAAAAA\n",
       "AAAAAAAAAAAAAAAAAAAAAAAAAAAAAAAAAAAAAAAAAAAv3aB7AAAAD3RSTlMAiavdMs3vRGaZECJ2\n",
       "VLvjn+thAAAACXBIWXMAAA7EAAAOxAGVKw4bAAAAxklEQVQY02NgwASH8+LDjArATCF7I1S5BzXc\n",
       "UeoQprwDmlQFgzQfhBnGgCHVywRhfoIKnTM2DoBJsYJF2H9AZEpPIXRpN4JZnL/AFHcUwhlrjATA\n",
       "LGYDMMW6AS5VHPZ5Fpi1fgJECtkZJ0oXgFj9EO+5GQPBA6gUHzvYRH2I2nXIuvgYHjBsE2BIhQgw\n",
       "o0oFMJw/wPsdIsBzAFmK9wBDDcMyAahILFyqkEFGkoGB44w6TGTRc7CrGI7mvYeFPBwUPoYEFAQA\n",
       "APeqOS2/1ZVGAAAAAElFTkSuQmCC\n",
       "\" style=\"display:inline;vertical-align:middle;\" /></a>, <a class=\"ProveItLink\" href=\"../__pv_it/demonstrations/40a7f5db52e4ab4f7bfdb8bea1462f70a48d83c50/expr.ipynb\"><img src=\"data:image/png;base64,iVBORw0KGgoAAAANSUhEUgAAADkAAAAQBAMAAABelcpIAAAAMFBMVEX///8AAAAAAAAAAAAAAAAA\n",
       "AAAAAAAAAAAAAAAAAAAAAAAAAAAAAAAAAAAAAAAAAAAv3aB7AAAAD3RSTlMAdqu77zLdVBCJZkQi\n",
       "zZm4b83uAAAACXBIWXMAAA7EAAAOxAGVKw4bAAAA9ElEQVQY02NgwArEnO9fSdoAYgn9N2Jg0HcO\n",
       "QJE22MhzQxvM+gbERQ2omg12McxhBjFYfzIwcBUwYMguZwIxGH8zcMyBCjKapeXCZXlBDN4PDJFQ\n",
       "Se6LDQi9OitBDP4LXA+gYmcbEK5qTJoAYuyfIJ8AFbuDsHfblW8vQIz5knzfoWIXkF0ltRdk0v0F\n",
       "PH8hQqxuaWlpyTBZZm6Q0Z8ZGOwhQcFhgKyXmQHI5f4ItFoBIpaAKgu0iPMrAwPbD4iYIIosuwBQ\n",
       "5gMwEH5CxHjhQWawk2HiPAaGJvtPAgxT/ttALFbeAZGUdbaHxhEy4J4MDUkIAAAd5EODij0sGQAA\n",
       "AABJRU5ErkJggg==\n",
       "\" style=\"display:inline;vertical-align:middle;\" /></a>, <a class=\"ProveItLink\" href=\"../__pv_it/demonstrations/aa086096f72148a76bedc97c6cffe6d7addbab5a0/expr.ipynb\"><img src=\"data:image/png;base64,iVBORw0KGgoAAAANSUhEUgAAAPsAAAAVBAMAAAByEoVnAAAAMFBMVEX///8AAAAAAAAAAAAAAAAA\n",
       "AAAAAAAAAAAAAAAAAAAAAAAAAAAAAAAAAAAAAAAAAAAv3aB7AAAAD3RSTlMAInZUiRDNmWbv3US7\n",
       "qzJazP2FAAAACXBIWXMAAA7EAAAOxAGVKw4bAAADSElEQVRIx52WTWgTQRTH//ncZJOmQURRlMZ6\n",
       "6UFpD2KpB42Ix9LQg6BUSA+FFgRTKlg/DsGDvSgtgl70ECh+oFCKnvTS6EFBbJuLXmxM8ChK2grF\n",
       "j2p8b3Y3OzNbbHRhh52X3/zfzPvILoAk1MsHbGZJYlNLs4i/SzZtA2IpndurGx7rBlXkX5ADiuks\n",
       "3R0aFkg3HiOLv8rvFuDPa4gs0j9fzm/9K7KvPr80nxRIKKt4qtMQztDQwkNCBOKEBESLQKWKISiI\n",
       "LOK/kUH3A1jIWx4+QkOwRgf5KhBD2aVRoYREcnxOlo1X2TguAW1knsthAgoiiYRek8FYgYVc4WEB\n",
       "KoLEKg0XBBJVInS0j9Vu8mPBqgS6piRgkn6fTCGaURBJJMyLY7REICYXblZD4P9Nw1yekYNKiac6\n",
       "uUCG+fkY3WMiIXLYKnSPJBHOK4gk0scCCYqfQII0M7o0BPFljmOakXNK7HGEF/XaPSCOByMtEXeA\n",
       "0zMkW1IQV8T3Q2SgaiN8chMqArRSAaFWYmRYdv8ENfZ1VRRWFX5ReWE5a+vt+3lFJKsgrkhwtdEk\n",
       "AvkAtENFyDMvmkwzMk3He8gX11sObbznHuGpBFNk2KTgXWTiPmWNaqqHthOYUhBXxFxpNJFAvgB3\n",
       "oSJAJxdYZZaR207UyK//1fmKiIuwDKLb6rVZG9lNWSPNIBVOYllBXJGo+CEEBwknAzkNARb54btA\n",
       "ZHM/pYVz+dT+nxj0uG8lKrJqlbaEuCKmcHoYDhJIh5Me9+ucm28CmZbMtE+TFx0SFjNRhBN8x32N\n",
       "At/yk1QLCuKKGCL4XEA2UvgMDbHa/mRRIC8ccw4x0g7z7q9Z3XndOnbceQdsp6zRUWpUU5Gigrgi\n",
       "PpYOckHYSMd7aIjV9i8tpNctyB3sa6XRJKF7djGXXGSEInYr02hGB5FEqHNjx6V+PZX1IHzEZzkL\n",
       "+dSwDtSHEFhco1WPLMOY3WyFBrJUL5fPcC7MWQVxRRC6XL5kJcZCjC4daaHX1ptRGzGr3td7QZ3P\n",
       "eAjsVKcbiDSJRHIeq6G9Kye8C8fV6QYizSLPPdZd2jzu+U7xFTWDV6RZZMBj1sGQruTdkFekWcSn\n",
       "f1v5PYfdohv2eA6S+j/kDyHr64cYQcgOAAAAAElFTkSuQmCC\n",
       "\" style=\"display:inline;vertical-align:middle;\" /></a>, <a class=\"ProveItLink\" href=\"../__pv_it/demonstrations/6821ad278984ee2099e014cf8f60ac57cb1fed570/expr.ipynb\"><img src=\"data:image/png;base64,iVBORw0KGgoAAAANSUhEUgAAAEMAAAAQBAMAAAC//t8ZAAAAMFBMVEX///8AAAAAAAAAAAAAAAAA\n",
       "AAAAAAAAAAAAAAAAAAAAAAAAAAAAAAAAAAAAAAAAAAAv3aB7AAAAD3RSTlMAIs1UmauJMnZmRLsQ\n",
       "3e++988cAAAACXBIWXMAAA7EAAAOxAGVKw4bAAAA7klEQVQoz2NgAAEhBoJAH5tg6/+tDFPfbz0A\n",
       "5jD/x6rxExC/hbJZ4gWwqGD/xsDA+AXKScwvQMjsgTHYfjEwcH6GsBkb+g0QSqphDKYPDAzcf6D2\n",
       "MNhPQCjhTIAy+DcwMPBdgLAXM9SDhVnuggHM+vVXQ0PjHSBsBwb5ACRnMitDaJADoS7g2OISvwHZ\n",
       "K4dewQNrPyRUTgCtvYCkglENEgS/oUEDtoeB9wGSWy5BVHD9gAQNiDkB4j8Y4IJayvYd6IZfYKYc\n",
       "EHN/RCiBRSkvKFjAWk//12Fg3v8pAa5kO4Q6uv9rA8v+3w3YIg8jugADREYMuYO3iQAAAABJRU5E\n",
       "rkJggg==\n",
       "\" style=\"display:inline;vertical-align:middle;\" /></a>, <a class=\"ProveItLink\" href=\"../__pv_it/demonstrations/a2e70ede332c240231a12ffa62a4f9eb1d7b108c0/expr.ipynb\"><img src=\"data:image/png;base64,iVBORw0KGgoAAAANSUhEUgAAADwAAAAPBAMAAABKPLFCAAAAMFBMVEX///8AAAAAAAAAAAAAAAAA\n",
       "AAAAAAAAAAAAAAAAAAAAAAAAAAAAAAAAAAAAAAAAAAAv3aB7AAAAD3RSTlMAZrurzTLvInZEmRDd\n",
       "VIkafcLnAAAACXBIWXMAAA7EAAAOxAGVKw4bAAAA0klEQVQY02NgYBD6b2zsFMCAAfj0P1mD6CQG\n",
       "BuavmNIM/AdAJPsPBgbOX1ik4x+ASEagTsYfcEFtOKt/Aohk/sDAwJIOFwyCs/TBJJsCA7cNwmmM\n",
       "D2CsLxArNDpMBEAMrjNgAHMGJ8TC/gIG3kQkF/H6Qj0G8Y0aEL9H9veWTDDF8gFMfQZi+QaELLtf\n",
       "AcTbCiCS9SOQsJ+AsPsIRJZhPlgLx3egki8IzZwKUAbEQpYEBoZp3gjpEhjjPDhQ9D8bm+giOUwV\n",
       "QnEb/bfDEtAMBcgcAHN4NAgtZi5XAAAAAElFTkSuQmCC\n",
       "\" style=\"display:inline;vertical-align:middle;\" /></a>, <a class=\"ProveItLink\" href=\"../__pv_it/demonstrations/a3dbc390b388d1b9e95cca85db1531dc0ee4093f0/expr.ipynb\"><img src=\"data:image/png;base64,iVBORw0KGgoAAAANSUhEUgAAAD0AAAAPBAMAAACl/tp8AAAAMFBMVEX///8AAAAAAAAAAAAAAAAA\n",
       "AAAAAAAAAAAAAAAAAAAAAAAAAAAAAAAAAAAAAAAAAAAv3aB7AAAAD3RSTlMAEHa7q2Yiie9Umd0y\n",
       "zUTye3nKAAAACXBIWXMAAA7EAAAOxAGVKw4bAAAAy0lEQVQY02NgYGBUdnFlK2DABCX7t4AoDUUG\n",
       "ztUBWOQZ6g8ACeE9QGJ9Ajb5G2BCAEi8gIsxCyDkvwAx+08Q6xRcjMcAzuT7CiTyN4CYMghN4XAW\n",
       "10eQGxTg/NW7QWD/AhifG6R1P4bL5k6AMuRBKvvBTCRHMTDeeABhxIPo/SAW5wEk+dwyKMOfAeZz\n",
       "diT7d18DczIKGHpBdD7IfYVI2h9DKH0Fzn9go4GefI5kPdsFCP2IQQISJ1ImXg+QtDNDncKq5Ict\n",
       "yBnYULkAVs0zo5h+cRQAAAAASUVORK5CYII=\n",
       "\" style=\"display:inline;vertical-align:middle;\" /></a>, <a class=\"ProveItLink\" href=\"../__pv_it/demonstrations/282445f46eba81316740103d7281efc100a6d9680/expr.ipynb\"><img src=\"data:image/png;base64,iVBORw0KGgoAAAANSUhEUgAAAEUAAAAPBAMAAABAYB8QAAAAMFBMVEX///8AAAAAAAAAAAAAAAAA\n",
       "AAAAAAAAAAAAAAAAAAAAAAAAAAAAAAAAAAAAAAAAAAAv3aB7AAAAD3RSTlMAdrurIs1mVDKZ70SJ\n",
       "EN02Mxp8AAAACXBIWXMAAA7EAAAOxAGVKw4bAAAA+UlEQVQoz2NgYBD6r2yk7MCACYT/KzMw2C9q\n",
       "ALG/MjCwfceihuEfEBdfALE4PgKJWViUcPwBai4AMxl/AIn9CXApXRiD8TcD7xEIk+kDkPA/AFfT\n",
       "BGOwfmDogTL5FYBEvwFcDRtMOX8A2wQos18ASOSDJDjfgcFPqMT+A/IPoEx5kOfsNyDcyh4Ooc/L\n",
       "cMK8qw8ifiF76OpqMBWfwPIVKvIJ5IZvSEpYYhxgEvoNDPDguQVyN8w9TyFKuIES+w0QwaOKZAy3\n",
       "AoTmAUrw/YWFAsO+CUhqXKE0H1CC8Q+Ixaz/2VhpCrKLNSDUZf3PAgyn/qtgi0gGjCQAAL2hRovg\n",
       "26cyAAAAAElFTkSuQmCC\n",
       "\" style=\"display:inline;vertical-align:middle;\" /></a> <a class=\"ProveItLink\" href=\"../__pv_it/demonstrations/dbfc689f56fce607b5ffeff7cf30c43baf7d2ca00/proof.ipynb\" style=\"text-decoration: none\">&nbsp;&#x22A2;&nbsp;&nbsp;</a><a class=\"ProveItLink\" href=\"../__pv_it/demonstrations/c1dc1742c31231fd153460baf92f1358aad22c150/expr.ipynb\"><img src=\"data:image/png;base64,iVBORw0KGgoAAAANSUhEUgAAAPcAAAAVBAMAAABoLmXpAAAAMFBMVEX///8AAAAAAAAAAAAAAAAA\n",
       "AAAAAAAAAAAAAAAAAAAAAAAAAAAAAAAAAAAAAAAAAAAv3aB7AAAAD3RSTlMAInZUiRDNmWbv3US7\n",
       "qzJazP2FAAAACXBIWXMAAA7EAAAOxAGVKw4bAAACgElEQVRIx5WWvYsTQRjGn9187GbzYSoLq1Us\n",
       "bI5LIVrJRawExdRyQq4Q7AxoYWe4xuogxVUqeHBocSAc/gOX2J/ZxkY5L4iVKCz3CZdonK9NZmcg\n",
       "r1mY3Zn3+c2zT2Z3lgCowjyoCjnjvy3dmlX/YBYMhtJpIGGuTscL412svdltuG0D1Jg749k6sl/O\n",
       "olkAvwn2Xw84k2tqzAlrL1l7yAflBjtVQhjMWaJ/5qfvMHVk/9IGNxqC8bSQlSPAOWWdF3zk82ml\n",
       "AWxG6qv89AmGDuQ7pIFfkyYFPfOQ1Q9Zp8AzY4O187yjM+4w0QPWnKapA+ciyiB3E9Lkmp45ZkmP\n",
       "eUckvcXaE97RmVKc6FkW36uZOrDTnmnAbvJDdtp4qmfusjw8bjaCCs1HaaaZ6PxXBzB14HmDMPBb\n",
       "cp0jPNIzv9/b2+eKL1azPIDLH1uaCSf6N+ASTB3YIgzqiyIQZzbZ2m3xg930Hns5FvlCZjri1YgQ\n",
       "iGdnMkr/DbyFqSN3Shhc9g7FLMa8UoEctlCP2bUv9kcsaiu4Lq4mo/R8NdOydPhDwqDtnECZ6PWR\n",
       "2uoodtSnYcWaO5rqmXq+at+8HJMG/YEy2ZzWiwdqGyMjn0pQ6SbLqjMTfeMXDN1ZR6FJGuxEyuRj\n",
       "Um+JT5PYxvDlHHdtW1wNZqJf+QpDdw+wtE0aBMfK5O70PQxitY3h1UUh904KBjPR7zdNvRjm1mkD\n",
       "90gxPyflB/0/odcf8b0RyMDyC4E0U5/qXs3UsbogpFkGIW6Pe5IJBrCPC+mhxVA6DUhGfW7Sx7P0\n",
       "0GIonQYU07PLTtco9ObTaSBhlu16yfzTszyfTgMJ44RW/aKVMpxLpwHJ/APzfejyEK97mAAAAABJ\n",
       "RU5ErkJggg==\n",
       "\" style=\"display:inline;vertical-align:middle;\" /></a></span>"
      ],
      "text/plain": [
       "{A in BOOLEAN, B in BOOLEAN, C in BOOLEAN, D in BOOLEAN, H in BOOLEAN, I in BOOLEAN, J in BOOLEAN, K in BOOLEAN, [not](A) or [not](B) or [not](C) or [not](D), A => H, B => I, C => J, D => K} |- [not](H) or [not](I) or [not](J) or [not](K)"
      ]
     },
     "metadata": {},
     "output_type": "display_data"
    }
   ],
   "source": [
    "Or(Not(A), Not(B), Not(C), Not(D)).derive_via_dilemma(Or(Not(H), Not(I), Not(J), Not(K)), assumptions=[Or(Not(A), Not(B), Not(C), Not(D)),Implies(A,H), Implies(B,I), Implies(C,J), Implies(D,K),in_bool(A), in_bool(B), in_bool(C), in_bool(D), in_bool(H), in_bool(I), in_bool(J), in_bool(K)])"
   ]
  },
  {
   "cell_type": "code",
   "execution_count": 29,
   "metadata": {},
   "outputs": [
    {
     "data": {
      "text/html": [
       "<span style=\"font-size:20px;\"><a class=\"ProveItLink\" href=\"../__pv_it/theorems/88b090a35cddd0f3ea45e2fff303d7d3770a7d390/expr.ipynb\"><img src=\"data:image/png;base64,iVBORw0KGgoAAAANSUhEUgAAAFYAAAAVBAMAAAAutAQGAAAAMFBMVEX///8AAAAAAAAAAAAAAAAA\n",
       "AAAAAAAAAAAAAAAAAAAAAAAAAAAAAAAAAAAAAAAAAAAv3aB7AAAAD3RSTlMAmd0iq3ZUiRDNZu9E\n",
       "uzLWhN+VAAAACXBIWXMAAA7EAAAOxAGVKw4bAAABhklEQVQoz2NgQABmBjwATTIMIjgBq1qeAGQe\n",
       "WwGY4vyAqojr/hcXz3sMDFHIgp0QKh+s1gNEPAULcF9gYPB/wMDZgKRWCkKJfAaRS0HEPbCAPdD2\n",
       "8wIMXAJIajeASXbzfyCKCeHy9Q+AGKh+B5JzITKmrN/AWhIYGBgTwCL+QDzbgIFhFkItI8RrAmy/\n",
       "YKHBBJHYy8DQogekSxBqOReAgyaB7zuY68fAEApm8P0NDQEbuZJBSAkIFEEuBNvIyMD8BazkCQOD\n",
       "BpjBCvRrNsicbIiZJqCgOQBixQqK/IVYY8AG8Tgv0M/sIP++R1PLAfTvJ2jMcBqAGfwOwPj4CmSc\n",
       "RqgFu4ERiLUhYgpvIfR7oP0sf4CMJAjfEGQXKMJPAfF8iFiUD4SOBxr/HhSeaxHhwA60ixkUH/ch\n",
       "djdB09BsYODsBMWvOEItnwIDx/2fDQy5/6dDwhsSE77/XVzmgpk6SHGsx4AXMCsgcRbiV8u4AInD\n",
       "a4BXrS0yh+MCXrWXUXim+JSyGjAAANjOT0DZJm+EAAAAAElFTkSuQmCC\n",
       "\" style=\"display:inline;vertical-align:middle;\" /></a> <a class=\"ProveItLink\" href=\"../__pv_it/demonstrations/654f0795c405c8b2d7f4fe8f987285daff1aa1420/proof.ipynb\" style=\"text-decoration: none\">&nbsp;&#x22A2;&nbsp;&nbsp;</a><a class=\"ProveItLink\" href=\"../../__pv_it/theorems/c6244e76de3be0816f3efc36199d65e50f6589940/expr.ipynb\"><img src=\"data:image/png;base64,iVBORw0KGgoAAAANSUhEUgAAABwAAAAPBAMAAAAFYbKSAAAAMFBMVEX///8AAAAAAAAAAAAAAAAA\n",
       "AAAAAAAAAAAAAAAAAAAAAAAAAAAAAAAAAAAAAAAAAAAv3aB7AAAAD3RSTlMAmd0iq81UiTJ2ZkS7\n",
       "EO8Z3gX6AAAACXBIWXMAAA7EAAAOxAGVKw4bAAAAaUlEQVQI12NgQADmAAZkwPoBhZuPyhX5jMxj\n",
       "N/+BzLXk/IbMFWD7hcTjTuD4zsAgpAQEikAuIwPzF6iMCRDPERT5g+DyTmBg+ITgMgIpPSjXkIFh\n",
       "F5CKRzj/AZA4bwDl8Z7/eoEh5384AEaRFfDwb8v9AAAAAElFTkSuQmCC\n",
       "\" style=\"display:inline;vertical-align:middle;\" /></a></span>"
      ],
      "text/plain": [
       "{[not](A or B)} |- [not](A)"
      ]
     },
     "metadata": {},
     "output_type": "display_data"
    }
   ],
   "source": [
    "Not(A).prove(assumptions=[Not(Or(A, B))])"
   ]
  },
  {
   "cell_type": "code",
   "execution_count": 30,
   "metadata": {},
   "outputs": [
    {
     "data": {
      "text/html": [
       "<span style=\"font-size:20px;\"><a class=\"ProveItLink\" href=\"../__pv_it/theorems/88b090a35cddd0f3ea45e2fff303d7d3770a7d390/expr.ipynb\"><img src=\"data:image/png;base64,iVBORw0KGgoAAAANSUhEUgAAAFYAAAAVBAMAAAAutAQGAAAAMFBMVEX///8AAAAAAAAAAAAAAAAA\n",
       "AAAAAAAAAAAAAAAAAAAAAAAAAAAAAAAAAAAAAAAAAAAv3aB7AAAAD3RSTlMAmd0iq3ZUiRDNZu9E\n",
       "uzLWhN+VAAAACXBIWXMAAA7EAAAOxAGVKw4bAAABhklEQVQoz2NgQABmBjwATTIMIjgBq1qeAGQe\n",
       "WwGY4vyAqojr/hcXz3sMDFHIgp0QKh+s1gNEPAULcF9gYPB/wMDZgKRWCkKJfAaRS0HEPbCAPdD2\n",
       "8wIMXAJIajeASXbzfyCKCeHy9Q+AGKh+B5JzITKmrN/AWhIYGBgTwCL+QDzbgIFhFkItI8RrAmy/\n",
       "YKHBBJHYy8DQogekSxBqOReAgyaB7zuY68fAEApm8P0NDQEbuZJBSAkIFEEuBNvIyMD8BazkCQOD\n",
       "BpjBCvRrNsicbIiZJqCgOQBixQqK/IVYY8AG8Tgv0M/sIP++R1PLAfTvJ2jMcBqAGfwOwPj4CmSc\n",
       "RqgFu4ERiLUhYgpvIfR7oP0sf4CMJAjfEGQXKMJPAfF8iFiUD4SOBxr/HhSeaxHhwA60ixkUH/ch\n",
       "djdB09BsYODsBMWvOEItnwIDx/2fDQy5/6dDwhsSE77/XVzmgpk6SHGsx4AXMCsgcRbiV8u4AInD\n",
       "a4BXrS0yh+MCXrWXUXim+JSyGjAAANjOT0DZJm+EAAAAAElFTkSuQmCC\n",
       "\" style=\"display:inline;vertical-align:middle;\" /></a> <a class=\"ProveItLink\" href=\"../__pv_it/demonstrations/a4d25beb8fb11c9a7ccba4e101d53bb31cda0d590/proof.ipynb\" style=\"text-decoration: none\">&nbsp;&#x22A2;&nbsp;&nbsp;</a><a class=\"ProveItLink\" href=\"../__pv_it/theorems/8552c6321b312c5e15a5015adce4a756ce05da420/expr.ipynb\"><img src=\"data:image/png;base64,iVBORw0KGgoAAAANSUhEUgAAAB0AAAAOBAMAAAAh/woJAAAAMFBMVEX///8AAAAAAAAAAAAAAAAA\n",
       "AAAAAAAAAAAAAAAAAAAAAAAAAAAAAAAAAAAAAAAAAAAv3aB7AAAAD3RSTlMAmd0iq2a7zTLvdkQQ\n",
       "VIm/XloVAAAACXBIWXMAAA7EAAAOxAGVKw4bAAAAgUlEQVQI12NggALW/C8u7hkMCMCZwMDg34Dg\n",
       "2y9gYNgvgODHA+XiFyD4/kBcaYDgT2NgOKKB4HJ8W7WkFEgLKQGBIgMD12cGhpsBUEkTBga2CQwM\n",
       "fD8QfH4HoJt+Ifj9QLUsv6F8QwaG9UCr+gsQ5lcyMHBPPwDnuv13cSm7wMAAAOyYG523RGm6AAAA\n",
       "AElFTkSuQmCC\n",
       "\" style=\"display:inline;vertical-align:middle;\" /></a></span>"
      ],
      "text/plain": [
       "{[not](A or B)} |- [not](B)"
      ]
     },
     "metadata": {},
     "output_type": "display_data"
    }
   ],
   "source": [
    "Not(B).prove(assumptions=[Not(Or(A, B))])"
   ]
  },
  {
   "cell_type": "code",
   "execution_count": 31,
   "metadata": {},
   "outputs": [
    {
     "data": {
      "text/html": [
       "<strong id=\"reduction\">reduction:</strong> <span style=\"font-size:20px;\"><a class=\"ProveItLink\" href=\"../../__pv_it/theorems/a10dbfd9a4efbb6f30af430036ab01697a9460f80/expr.ipynb\"><img src=\"data:image/png;base64,iVBORw0KGgoAAAANSUhEUgAAADYAAAAQBAMAAACvnpHFAAAAMFBMVEX///8AAAAAAAAAAAAAAAAA\n",
       "AAAAAAAAAAAAAAAAAAAAAAAAAAAAAAAAAAAAAAAAAAAv3aB7AAAAD3RSTlMAIs1UmauJMnZmRLsQ\n",
       "3e++988cAAAACXBIWXMAAA7EAAAOxAGVKw4bAAAA40lEQVQY02NgAAEhBhTAcW/Tp7dRUI4+qhwD\n",
       "N1eD0NEFYCbzfwy5CWwCG8BMlngBDDlOgwAwMzG/AGrR3ruX4HIKIBZjQ78BWIpL4wBcH6tkAthI\n",
       "BvsJEOcegJvZ0xsGZi1mqAerYVBE2Hfp/RWwQgcGeYi9Ckhu4ZilA3LAFpd4sHvZ3969e/c2VI5h\n",
       "wzIg4wQDA/8FkAjPBiR9DBu4wUYy8D4AC11AkWMCOhzoRqYPYKEOFDkLBgY5EPsjWIjJAC6XwNbm\n",
       "wHD6vw4D8/5PYE/wRK+BBI/ebkQ8wABXNiTMIAAAYXA8zHUEOxUAAAAASUVORK5CYII=\n",
       "\" style=\"display:inline;vertical-align:middle;\" /></a> <a class=\"ProveItLink\" href=\"../__pv_it/demonstrations/da88826c7389bf4b6ebfcecbc172f06bf0c1c88e0/proof.ipynb\" style=\"text-decoration: none\">&nbsp;&#x22A2;&nbsp;&nbsp;</a><a class=\"ProveItLink\" href=\"../__pv_it/theorems/a96c8c7b8f678d2ed3614abc517e08529c1242440/expr.ipynb\"><img src=\"data:image/png;base64,iVBORw0KGgoAAAANSUhEUgAAAGUAAAAVBAMAAACtcD09AAAAMFBMVEX///8AAAAAAAAAAAAAAAAA\n",
       "AAAAAAAAAAAAAAAAAAAAAAAAAAAAAAAAAAAAAAAAAAAv3aB7AAAAD3RSTlMAdt0yiUSrEGa7Is1U\n",
       "me/+rfgeAAAACXBIWXMAAA7EAAAOxAGVKw4bAAABmElEQVQ4y2MQUmaAACiDiwEGFjDgAq5oLBmI\n",
       "zg0MDIFY1a/G1MPjAGZzf2BgYGzApmc/WCVbAZBiFoDoqYbInAfqYdiORQvPf7AeDgEgxWkA0XMD\n",
       "InXtF5DoxaKHN38B2EUKEGeC9TwAy7As+Qwk+Qow9Xj5G4BV+gDZdyB6eDaAZRYy/gF5CtNDXALy\n",
       "B8AqQUGhANHDCwmCCzw/QLYlYDqN4XwDWCWbAQOjAEQPxGjWA8xfgBQHyFJeJTCAao9hsHcAq2RO\n",
       "YGAqgOhhOgAxjesbyKEPMOy5wLA+AaJyF8NZaPzwBYBkJO9e+wkK/w/oWhjn3s2fAFF5BKgLSQ87\n",
       "0KGfQE7EsKeQgYEf6nMm5gkMSG7jBWI9kNsU0P1zAajiAUQlY1sAVA8nKH4joEmEYwKaNawNkFQF\n",
       "UsmuDUtvoODlAjlp/gJ4wCPAOpCpv6Cxfwemh1mBgX3+7wKGk/+3AJ0RgKql8v92Bp75vx3Q07Uy\n",
       "kppFROYf5HR5g0g9nIjcyTWBSD3sCIWcODO3E7w8eApJ0nAZKVxaAJXSXJj0KrPxAAAAAElFTkSu\n",
       "QmCC\n",
       "\" style=\"display:inline;vertical-align:middle;\" /></a></span><br>"
      ],
      "text/plain": [
       "<IPython.core.display.HTML object>"
      ]
     },
     "metadata": {},
     "output_type": "display_data"
    }
   ],
   "source": [
    "reduction = Or(A).unary_reduction(assumptions=[in_bool(A)])"
   ]
  },
  {
   "cell_type": "code",
   "execution_count": 32,
   "metadata": {},
   "outputs": [
    {
     "data": {
      "text/html": [
       "<span style=\"font-size:20px;\"><a class=\"ProveItLink\" href=\"../__pv_it/demonstrations/a8b1b8a60b3069dfb78b4a951641b03386f8ad070/expr.ipynb\"><img src=\"data:image/png;base64,iVBORw0KGgoAAAANSUhEUgAAAJMAAAAVBAMAAACwIsHjAAAAMFBMVEX///8AAAAAAAAAAAAAAAAA\n",
       "AAAAAAAAAAAAAAAAAAAAAAAAAAAAAAAAAAAAAAAAAAAv3aB7AAAAD3RSTlMAInZUiRDNmWbv3US7\n",
       "qzJazP2FAAAACXBIWXMAAA7EAAAOxAGVKw4bAAACVklEQVQ4y5VVTWgTQRT+dtNskk2y9iCCILj0\n",
       "IMVLeygWPWiqiBelS849RCFgQWihigc9BBRPFatQEM2hIIhEC8U/rKdYD2JBUi89qEv27KVpDlUK\n",
       "Nc68t7vZ3RB0B2Z23jfzvnnzvbe7AAYRryl9V9RRehz4b6qsGQGOVmeml1fEZIztmcj6fMe2rzgR\n",
       "sPjFruzHcJS8/lIpfweSJbISHTnmLTEYfGpVmH/CmPrAwvgzaFaU6h0mckCqQlaqKSVLS48cxaK0\n",
       "xVV+hbDkuhhT20jP9lLdygMZtiYmiWDJVy0tIkq3Q5i2KJVaABZdlddrT30qDTjGWTFHSP0zos8R\n",
       "km8J3/shbFJuMURIl1n+S1Y3qq+3gat8P5yqeHlcIiRTR/KbE8SUXWklBXaBc251ZS8uF7wTXmGr\n",
       "QLE4UFn1rbWhTZbRwwbanusdGi92tXo/vXsNeELGLA5vyKexAZ0PGxlE4iGCmL7tuR6nsRSUffit\n",
       "hcck4Kfrzbp71Dgvf5biOEEs06ILyojphEe1Wu2FR5XLFpiqCOxjica8uPdEv2cGMZ2oToq+Spz1\n",
       "YFQ51PmCIiv6AqG6wTuM32JorgSxFF1QSnoC8NPjU5WwJtMq9NVaXCt32V0VfsYOgpgsWgxI1eYJ\n",
       "HgpRJUxK7EFZzyxqkosOmghytYwQJuole1ZOuIC0UZ/qNU6fA34CU50yEo0dqgavQBt79uZHb+uc\n",
       "S3nTvkGT52z+eMP4kWqDvgy6g7hNcVXKnndfHLf1vJv/bu4XoLd9iE11qN/CVGyqvocrZkwmtc/P\n",
       "4C/RkqA9MWLxZwAAAABJRU5ErkJggg==\n",
       "\" style=\"display:inline;vertical-align:middle;\" /></a> <a class=\"ProveItLink\" href=\"../__pv_it/demonstrations/7bfb58b6cd8163a2086174a39acda87446bae27f0/proof.ipynb\" style=\"text-decoration: none\">&nbsp;&#x22A2;&nbsp;&nbsp;</a><a class=\"ProveItLink\" href=\"../__pv_it/theorems/c50b73f2d168f6a3012768bd45c62ea92218bcbc0/expr.ipynb\"><img src=\"data:image/png;base64,iVBORw0KGgoAAAANSUhEUgAAADcAAAAQBAMAAABAXPr7AAAAMFBMVEX///8AAAAAAAAAAAAAAAAA\n",
       "AAAAAAAAAAAAAAAAAAAAAAAAAAAAAAAAAAAAAAAAAAAv3aB7AAAAD3RSTlMAZrurzTLvInZEmRDd\n",
       "VIkafcLnAAAACXBIWXMAAA7EAAAOxAGVKw4bAAAA8UlEQVQY02NgwAZ6kvzdDk8AsYT+Gxs7BaDK\n",
       "Ksxg97YEs5IYGJi/oklOZHjOBGKw/2Bg4PyFISnLDGIwAnUx/gCLceicOQKXZAExmD8wMLCkg1ic\n",
       "HhsQOs3lQAw2BQZuG7CDSjYgHLTj8AMQI16jw0QALOSOsHOO25/VIEZ/AQNvIljIAdlBjVNA5qgB\n",
       "8XuQsaw5Z86cOQSTZOIEmfsZiOUbgAS3ArJOJgYgl/UjkGMPDqsDqJJAWzi+AxV8AQt1oEjyAk1j\n",
       "SWBgmOYNFmK5AJecx/DiFTAI9D8bm+hChLiNZkMYLUn60FhBApyPoMEHAQCDjz3xiC/o5wAAAABJ\n",
       "RU5ErkJggg==\n",
       "\" style=\"display:inline;vertical-align:middle;\" /></a></span>"
      ],
      "text/plain": [
       "{(A or B or C) in BOOLEAN} |- B in BOOLEAN"
      ]
     },
     "metadata": {},
     "output_type": "display_data"
    }
   ],
   "source": [
    "in_bool(B).prove(assumptions=[in_bool(Or(A, B, C))])"
   ]
  },
  {
   "cell_type": "code",
   "execution_count": 33,
   "metadata": {},
   "outputs": [
    {
     "data": {
      "text/html": [
       "<span style=\"font-size:20px;\"><a class=\"ProveItLink\" href=\"../../__pv_it/theorems/a10dbfd9a4efbb6f30af430036ab01697a9460f80/expr.ipynb\"><img src=\"data:image/png;base64,iVBORw0KGgoAAAANSUhEUgAAADYAAAAQBAMAAACvnpHFAAAAMFBMVEX///8AAAAAAAAAAAAAAAAA\n",
       "AAAAAAAAAAAAAAAAAAAAAAAAAAAAAAAAAAAAAAAAAAAv3aB7AAAAD3RSTlMAIs1UmauJMnZmRLsQ\n",
       "3e++988cAAAACXBIWXMAAA7EAAAOxAGVKw4bAAAA40lEQVQY02NgAAEhBhTAcW/Tp7dRUI4+qhwD\n",
       "N1eD0NEFYCbzfwy5CWwCG8BMlngBDDlOgwAwMzG/AGrR3ruX4HIKIBZjQ78BWIpL4wBcH6tkAthI\n",
       "BvsJEOcegJvZ0xsGZi1mqAerYVBE2Hfp/RWwQgcGeYi9Ckhu4ZilA3LAFpd4sHvZ3969e/c2VI5h\n",
       "wzIg4wQDA/8FkAjPBiR9DBu4wUYy8D4AC11AkWMCOhzoRqYPYKEOFDkLBgY5EPsjWIjJAC6XwNbm\n",
       "wHD6vw4D8/5PYE/wRK+BBI/ebkQ8wABXNiTMIAAAYXA8zHUEOxUAAAAASUVORK5CYII=\n",
       "\" style=\"display:inline;vertical-align:middle;\" /></a>, <a class=\"ProveItLink\" href=\"../__pv_it/theorems/c50b73f2d168f6a3012768bd45c62ea92218bcbc0/expr.ipynb\"><img src=\"data:image/png;base64,iVBORw0KGgoAAAANSUhEUgAAADcAAAAQBAMAAABAXPr7AAAAMFBMVEX///8AAAAAAAAAAAAAAAAA\n",
       "AAAAAAAAAAAAAAAAAAAAAAAAAAAAAAAAAAAAAAAAAAAv3aB7AAAAD3RSTlMAZrurzTLvInZEmRDd\n",
       "VIkafcLnAAAACXBIWXMAAA7EAAAOxAGVKw4bAAAA8UlEQVQY02NgwAZ6kvzdDk8AsYT+Gxs7BaDK\n",
       "Ksxg97YEs5IYGJi/oklOZHjOBGKw/2Bg4PyFISnLDGIwAnUx/gCLceicOQKXZAExmD8wMLCkg1ic\n",
       "HhsQOs3lQAw2BQZuG7CDSjYgHLTj8AMQI16jw0QALOSOsHOO25/VIEZ/AQNvIljIAdlBjVNA5qgB\n",
       "8XuQsaw5Z86cOQSTZOIEmfsZiOUbgAS3ArJOJgYgl/UjkGMPDqsDqJJAWzi+AxV8AQt1oEjyAk1j\n",
       "SWBgmOYNFmK5AJecx/DiFTAI9D8bm+hChLiNZkMYLUn60FhBApyPoMEHAQCDjz3xiC/o5wAAAABJ\n",
       "RU5ErkJggg==\n",
       "\" style=\"display:inline;vertical-align:middle;\" /></a>, <a class=\"ProveItLink\" href=\"../__pv_it/demonstrations/dc7d96b1022c0165a0469ead301debeb324b9c180/expr.ipynb\"><img src=\"data:image/png;base64,iVBORw0KGgoAAAANSUhEUgAAADYAAAAQBAMAAACvnpHFAAAAMFBMVEX///8AAAAAAAAAAAAAAAAA\n",
       "AAAAAAAAAAAAAAAAAAAAAAAAAAAAAAAAAAAAAAAAAAAv3aB7AAAAD3RSTlMAEHa7q2Yiie9Umd0y\n",
       "zUTye3nKAAAACXBIWXMAAA7EAAAOxAGVKw4bAAAA4ElEQVQY02NgwAKYdtj+7fYDsRiVXVzZClAk\n",
       "mfkUckUeABkaigycqwPQ5ALYEwwYGIT3ADnrE9DlWCc4MDDcEAByXkDElHfvvgCXu8DA/hPEOQWW\n",
       "equI0MeSWsCQvwHEkQERbBcRZipquzMw1CvAbeFNQMjt7d8lwLAf4QpeZLcwxV1k6AdzQO5hOLEb\n",
       "CAygcgwGzxn2g9icB0CkMLI+BgNmiM/YwSLcqHK8DPkgtxRCglEBRW4SA+dXBobnAhChmwi5Anb1\n",
       "BQwMUiZeD6BCInYQRUw3jKHxgASeW0PCDAIA+qo1SVIYGkQAAAAASUVORK5CYII=\n",
       "\" style=\"display:inline;vertical-align:middle;\" /></a>, <a class=\"ProveItLink\" href=\"../../../../__pv_it/common/09585084922504426caf1db2ff588a23a0932a960/expr.ipynb\"><img src=\"data:image/png;base64,iVBORw0KGgoAAAANSUhEUgAAAA8AAAAPBAMAAADJ+Ih5AAAAMFBMVEX///8AAAAAAAAAAAAAAAAA\n",
       "AAAAAAAAAAAAAAAAAAAAAAAAAAAAAAAAAAAAAAAAAAAv3aB7AAAAD3RSTlMAIs1UmauJMnZmRLsQ\n",
       "3e++988cAAAACXBIWXMAAA7EAAAOxAGVKw4bAAAAXklEQVQI12NgAAEhBijQh9LM/6EMlngBCCMx\n",
       "vwBMMzb0G0BkGOwngBmLGeoTwAwHBvkAEM2xxSV+A4hxgoGB/wJEhoH3AZDmAupg+gBkyAEx90cG\n",
       "htP/dRiY939KAABt3hLO6mcEjQAAAABJRU5ErkJggg==\n",
       "\" style=\"display:inline;vertical-align:middle;\" /></a> <a class=\"ProveItLink\" href=\"../__pv_it/demonstrations/cc6150567a56dd2dd75f54b4143e7b6d183b42810/proof.ipynb\" style=\"text-decoration: none\">&nbsp;&#x22A2;&nbsp;&nbsp;</a><a class=\"ProveItLink\" href=\"../__pv_it/demonstrations/17ddc8d3bf20b5815ea26fe906044c982a7f05130/expr.ipynb\"><img src=\"data:image/png;base64,iVBORw0KGgoAAAANSUhEUgAAAF8AAAAPBAMAAABw7A4xAAAAMFBMVEX///8AAAAAAAAAAAAAAAAA\n",
       "AAAAAAAAAAAAAAAAAAAAAAAAAAAAAAAAAAAAAAAAAAAv3aB7AAAAD3RSTlMAIs1UmauJMnZmRLsQ\n",
       "3e++988cAAAACXBIWXMAAA7EAAAOxAGVKw4bAAABX0lEQVQoz2NgAAEhBhKBPhqfc//X0KDtaII8\n",
       "3aGRjAlgJvN/EMl6AEiwN4BF+DYwMMQXoIr19TAw+04AM1niBUDGgsS5C8Ai8kD2egcUsdPXgYS/\n",
       "AFg6MR8sdAHhm/lAgfkNKGJ6IMvWgZmMDf0GIDoZiJ0hGuJBKgSQxdg+g8gSiIsY7CfAwuoCRMNr\n",
       "Boaj11HE5MHkcbDsYoZ6sOdZCxg4IP5j/93RqsmAIpbfgAgvBwb5ALCyAAbeA2ARjo8MDHYTUMTu\n",
       "C8DVc2xxid8AZikymECEuB8AHf0dRew9mATrPcHAwA9xuhlQGgz4gTZy/kARuw+OsAKIixh4H4AF\n",
       "edkhNjHUA53D+gtFDBwDbCAWF1CS6QPEcVMXQDT0A2XrFVDEQFHJkANiyYHc/BGSWi5BvaUHNOfR\n",
       "ARQx5p8MDMtAQqf/6zAw7/8ESVTQaIv+HxqqbQDVDBVjOLI1BGQXADDwV/Kmwt3sAAAAAElFTkSu\n",
       "QmCC\n",
       "\" style=\"display:inline;vertical-align:middle;\" /></a></span>"
      ],
      "text/plain": [
       "{A in BOOLEAN, B in BOOLEAN, C in BOOLEAN, A} |- A or B or C"
      ]
     },
     "metadata": {},
     "output_type": "display_data"
    }
   ],
   "source": [
    "Or(A, B, C).prove(assumptions=[A, in_bool(A), in_bool(B), in_bool(C)])"
   ]
  },
  {
   "cell_type": "code",
   "execution_count": 34,
   "metadata": {},
   "outputs": [
    {
     "data": {
      "text/html": [
       "<span style=\"font-size:20px;\"><a class=\"ProveItLink\" href=\"../../__pv_it/theorems/c6244e76de3be0816f3efc36199d65e50f6589940/expr.ipynb\"><img src=\"data:image/png;base64,iVBORw0KGgoAAAANSUhEUgAAABwAAAAPBAMAAAAFYbKSAAAAMFBMVEX///8AAAAAAAAAAAAAAAAA\n",
       "AAAAAAAAAAAAAAAAAAAAAAAAAAAAAAAAAAAAAAAAAAAv3aB7AAAAD3RSTlMAmd0iq81UiTJ2ZkS7\n",
       "EO8Z3gX6AAAACXBIWXMAAA7EAAAOxAGVKw4bAAAAaUlEQVQI12NgQADmAAZkwPoBhZuPyhX5jMxj\n",
       "N/+BzLXk/IbMFWD7hcTjTuD4zsAgpAQEikAuIwPzF6iMCRDPERT5g+DyTmBg+ITgMgIpPSjXkIFh\n",
       "F5CKRzj/AZA4bwDl8Z7/eoEh5384AEaRFfDwb8v9AAAAAElFTkSuQmCC\n",
       "\" style=\"display:inline;vertical-align:middle;\" /></a>, <a class=\"ProveItLink\" href=\"../__pv_it/theorems/8552c6321b312c5e15a5015adce4a756ce05da420/expr.ipynb\"><img src=\"data:image/png;base64,iVBORw0KGgoAAAANSUhEUgAAAB0AAAAOBAMAAAAh/woJAAAAMFBMVEX///8AAAAAAAAAAAAAAAAA\n",
       "AAAAAAAAAAAAAAAAAAAAAAAAAAAAAAAAAAAAAAAAAAAv3aB7AAAAD3RSTlMAmd0iq2a7zTLvdkQQ\n",
       "VIm/XloVAAAACXBIWXMAAA7EAAAOxAGVKw4bAAAAgUlEQVQI12NggALW/C8u7hkMCMCZwMDg34Dg\n",
       "2y9gYNgvgODHA+XiFyD4/kBcaYDgT2NgOKKB4HJ8W7WkFEgLKQGBIgMD12cGhpsBUEkTBga2CQwM\n",
       "fD8QfH4HoJt+Ifj9QLUsv6F8QwaG9UCr+gsQ5lcyMHBPPwDnuv13cSm7wMAAAOyYG523RGm6AAAA\n",
       "AElFTkSuQmCC\n",
       "\" style=\"display:inline;vertical-align:middle;\" /></a>, <a class=\"ProveItLink\" href=\"../__pv_it/theorems/de9cd218afa6090be4c9a818a5bbda5441f069430/expr.ipynb\"><img src=\"data:image/png;base64,iVBORw0KGgoAAAANSUhEUgAAAB0AAAAOBAMAAAAh/woJAAAAMFBMVEX///8AAAAAAAAAAAAAAAAA\n",
       "AAAAAAAAAAAAAAAAAAAAAAAAAAAAAAAAAAAAAAAAAAAv3aB7AAAAD3RSTlMAmd0iqxB2u2aJ71Qy\n",
       "zUScGf0PAAAACXBIWXMAAA7EAAAOxAGVKw4bAAAAb0lEQVQI12NggAHWdBcP5glwLkNWKgO3UAOc\n",
       "G64DJOQN4PxbAUDiFZzL+RtEHoTz7RVAZAycPz8ByhBSAgJFBn2ESUBgwrAeTAfA+fogivsAnA+2\n",
       "mROm3pDBHmTeVIQJ3D8YGF4GIBkZWOL4AEgBAOILEuvVv37TAAAAAElFTkSuQmCC\n",
       "\" style=\"display:inline;vertical-align:middle;\" /></a> <a class=\"ProveItLink\" href=\"../__pv_it/demonstrations/4aef41469e0e45e9cb44d6615cbd2e9f46bfe8140/proof.ipynb\" style=\"text-decoration: none\">&nbsp;&#x22A2;&nbsp;&nbsp;</a><a class=\"ProveItLink\" href=\"../__pv_it/demonstrations/4156148d3c9edaecbcfb5911962285817dfdb0b60/expr.ipynb\"><img src=\"data:image/png;base64,iVBORw0KGgoAAAANSUhEUgAAAH0AAAAVBAMAAACZCfwhAAAAMFBMVEX///8AAAAAAAAAAAAAAAAA\n",
       "AAAAAAAAAAAAAAAAAAAAAAAAAAAAAAAAAAAAAAAAAAAv3aB7AAAAD3RSTlMAmd0iq3ZUiRDNZu9E\n",
       "uzLWhN+VAAAACXBIWXMAAA7EAAAOxAGVKw4bAAAB5klEQVQ4y5WUPUsDQRCGJ3e5XD7MGS0URCFa\n",
       "CFqIiiBiEYtrLOQCah2tRAQVFLEzhZZCwEYMYgT7pBEUFGy0NX61JvgHIkYLQY2zMxdvL5W3sLN3\n",
       "z8y7vDt7CYAzBsHjcAu0OVrG/q+/dr0t8HLUUBQuvZuTzw1w59HMjYKWk1AwQ0ugJqI/jcFIEokU\n",
       "Aayyi2mnaZjvB9iX9D7ezGeJU4VFWbRMJIHPtzGZBe8x+qoAx5I+wsvaFqniTifyCPJJmYXOMDQV\n",
       "UJN29IsU1WSK2riBs40TFs7soMy2RImBlkJSA9rZPqzk6rcQ58QlwPaAzNQ36hfa0icc/QHFG6is\n",
       "UgPLoHH7jO/ZGc7Vmf7xdzcZaO3B0Y3PvURikKA9jQlQ+HAa9mkpJzOlWtcHCryO4Lyg4rsWq0ho\n",
       "D+Y5F8Ua/UdmkVfyL3Z8bdDvADTH7a9pj3PN6Cf8ITOFVMv2HdT1vWwfFGaKwT6ggt79XzLzkX/R\n",
       "poDd4iGcT2I/rA2xJ+3kinMpvLpKRmaqcKOLToSLTv/XcY6L83J3gn02z+K252kXwytu2iQnq47+\n",
       "BWC3tg+B0idD++uZqpnm4ZxdY7Ngl9nJB7py9EoZPI9h+Xca867vkF8ePMvVovy261kfdf2BqUmv\n",
       "+mmAXy26b33VyjCGAAAAAElFTkSuQmCC\n",
       "\" style=\"display:inline;vertical-align:middle;\" /></a></span>"
      ],
      "text/plain": [
       "{[not](A), [not](B), [not](C)} |- [not](A or B or C)"
      ]
     },
     "metadata": {},
     "output_type": "display_data"
    }
   ],
   "source": [
    "Not(Or(A, B, C)).prove(assumptions=[Not(A), Not(B), Not(C)])"
   ]
  },
  {
   "cell_type": "code",
   "execution_count": 35,
   "metadata": {},
   "outputs": [
    {
     "data": {
      "text/html": [
       "<span style=\"font-size:20px;\"><a class=\"ProveItLink\" href=\"../__pv_it/demonstrations/17ddc8d3bf20b5815ea26fe906044c982a7f05130/expr.ipynb\"><img src=\"data:image/png;base64,iVBORw0KGgoAAAANSUhEUgAAAF8AAAAPBAMAAABw7A4xAAAAMFBMVEX///8AAAAAAAAAAAAAAAAA\n",
       "AAAAAAAAAAAAAAAAAAAAAAAAAAAAAAAAAAAAAAAAAAAv3aB7AAAAD3RSTlMAIs1UmauJMnZmRLsQ\n",
       "3e++988cAAAACXBIWXMAAA7EAAAOxAGVKw4bAAABX0lEQVQoz2NgAAEhBhKBPhqfc//X0KDtaII8\n",
       "3aGRjAlgJvN/EMl6AEiwN4BF+DYwMMQXoIr19TAw+04AM1niBUDGgsS5C8Ai8kD2egcUsdPXgYS/\n",
       "AFg6MR8sdAHhm/lAgfkNKGJ6IMvWgZmMDf0GIDoZiJ0hGuJBKgSQxdg+g8gSiIsY7CfAwuoCRMNr\n",
       "Boaj11HE5MHkcbDsYoZ6sOdZCxg4IP5j/93RqsmAIpbfgAgvBwb5ALCyAAbeA2ARjo8MDHYTUMTu\n",
       "C8DVc2xxid8AZikymECEuB8AHf0dRew9mATrPcHAwA9xuhlQGgz4gTZy/kARuw+OsAKIixh4H4AF\n",
       "edkhNjHUA53D+gtFDBwDbCAWF1CS6QPEcVMXQDT0A2XrFVDEQFHJkANiyYHc/BGSWi5BvaUHNOfR\n",
       "ARQx5p8MDMtAQqf/6zAw7/8ESVTQaIv+HxqqbQDVDBVjOLI1BGQXADDwV/Kmwt3sAAAAAElFTkSu\n",
       "QmCC\n",
       "\" style=\"display:inline;vertical-align:middle;\" /></a>, <a class=\"ProveItLink\" href=\"../../__pv_it/theorems/c6244e76de3be0816f3efc36199d65e50f6589940/expr.ipynb\"><img src=\"data:image/png;base64,iVBORw0KGgoAAAANSUhEUgAAABwAAAAPBAMAAAAFYbKSAAAAMFBMVEX///8AAAAAAAAAAAAAAAAA\n",
       "AAAAAAAAAAAAAAAAAAAAAAAAAAAAAAAAAAAAAAAAAAAv3aB7AAAAD3RSTlMAmd0iq81UiTJ2ZkS7\n",
       "EO8Z3gX6AAAACXBIWXMAAA7EAAAOxAGVKw4bAAAAaUlEQVQI12NgQADmAAZkwPoBhZuPyhX5jMxj\n",
       "N/+BzLXk/IbMFWD7hcTjTuD4zsAgpAQEikAuIwPzF6iMCRDPERT5g+DyTmBg+ITgMgIpPSjXkIFh\n",
       "F5CKRzj/AZA4bwDl8Z7/eoEh5384AEaRFfDwb8v9AAAAAElFTkSuQmCC\n",
       "\" style=\"display:inline;vertical-align:middle;\" /></a>, <a class=\"ProveItLink\" href=\"../__pv_it/theorems/8552c6321b312c5e15a5015adce4a756ce05da420/expr.ipynb\"><img src=\"data:image/png;base64,iVBORw0KGgoAAAANSUhEUgAAAB0AAAAOBAMAAAAh/woJAAAAMFBMVEX///8AAAAAAAAAAAAAAAAA\n",
       "AAAAAAAAAAAAAAAAAAAAAAAAAAAAAAAAAAAAAAAAAAAv3aB7AAAAD3RSTlMAmd0iq2a7zTLvdkQQ\n",
       "VIm/XloVAAAACXBIWXMAAA7EAAAOxAGVKw4bAAAAgUlEQVQI12NggALW/C8u7hkMCMCZwMDg34Dg\n",
       "2y9gYNgvgODHA+XiFyD4/kBcaYDgT2NgOKKB4HJ8W7WkFEgLKQGBIgMD12cGhpsBUEkTBga2CQwM\n",
       "fD8QfH4HoJt+Ifj9QLUsv6F8QwaG9UCr+gsQ5lcyMHBPPwDnuv13cSm7wMAAAOyYG523RGm6AAAA\n",
       "AElFTkSuQmCC\n",
       "\" style=\"display:inline;vertical-align:middle;\" /></a>, <a class=\"ProveItLink\" href=\"../__pv_it/theorems/de9cd218afa6090be4c9a818a5bbda5441f069430/expr.ipynb\"><img src=\"data:image/png;base64,iVBORw0KGgoAAAANSUhEUgAAAB0AAAAOBAMAAAAh/woJAAAAMFBMVEX///8AAAAAAAAAAAAAAAAA\n",
       "AAAAAAAAAAAAAAAAAAAAAAAAAAAAAAAAAAAAAAAAAAAv3aB7AAAAD3RSTlMAmd0iqxB2u2aJ71Qy\n",
       "zUScGf0PAAAACXBIWXMAAA7EAAAOxAGVKw4bAAAAb0lEQVQI12NggAHWdBcP5glwLkNWKgO3UAOc\n",
       "G64DJOQN4PxbAUDiFZzL+RtEHoTz7RVAZAycPz8ByhBSAgJFBn2ESUBgwrAeTAfA+fogivsAnA+2\n",
       "mROm3pDBHmTeVIQJ3D8YGF4GIBkZWOL4AEgBAOILEuvVv37TAAAAAElFTkSuQmCC\n",
       "\" style=\"display:inline;vertical-align:middle;\" /></a> <a class=\"ProveItLink\" href=\"../__pv_it/demonstrations/f06677e8db9599feef398d5bcb1989c183ee977a0/proof.ipynb\" style=\"text-decoration: none\">&nbsp;&#x22A2;&nbsp;&nbsp;</a><a class=\"ProveItLink\" href=\"../../__pv_it/common/e0f123f2e4f322e1eba7f861749cda9fd9d99a120/expr.ipynb\"><img src=\"data:image/png;base64,iVBORw0KGgoAAAANSUhEUgAAAA4AAAAPBAMAAAAmOuNHAAAAHlBMVEX///8AAAAAAAAAAAAAAAAA\n",
       "AAAAAAAAAAAAAAAAAACGjDitAAAACXRSTlMARGZUdpnd76sKo+zpAAAACXBIWXMAAA7EAAAOxAGV\n",
       "Kw4bAAAAGElEQVQI12NgQAAhKG1CSzosLa08LS0DAJuOBVCdynDUAAAAAElFTkSuQmCC\n",
       "\" style=\"display:inline;vertical-align:middle;\" /></a></span>"
      ],
      "text/plain": [
       "{A or B or C, [not](A), [not](B), [not](C)} |- FALSE"
      ]
     },
     "metadata": {},
     "output_type": "display_data"
    }
   ],
   "source": [
    "Or(A,B,C).derive_contradiction(assumptions=[Or(A,B,C), Not(A), Not(B), Not(C)])"
   ]
  },
  {
   "cell_type": "code",
   "execution_count": 36,
   "metadata": {},
   "outputs": [
    {
     "data": {
      "text/html": [
       "<strong id=\"group_c_d\">group_c_d:</strong> <span style=\"font-size:20px;\"><a class=\"ProveItLink\" href=\"../__pv_it/demonstrations/8efb5f4519c23d70ce9c1531ee4336ad4160f6cb0/expr.ipynb\"><img src=\"data:image/png;base64,iVBORw0KGgoAAAANSUhEUgAAAP0AAAAPBAMAAADdQdTdAAAAMFBMVEX///8AAAAAAAAAAAAAAAAA\n",
       "AAAAAAAAAAAAAAAAAAAAAAAAAAAAAAAAAAAAAAAAAAAv3aB7AAAAD3RSTlMAIs1UmauJMnZmRLsQ\n",
       "3e++988cAAAACXBIWXMAAA7EAAAOxAGVKw4bAAAC6klEQVQ4y8WUT2gTURDGv22a7CbNtkHQk5j0\n",
       "KBZSoejRSIsHRVsLi2gtjQiehOTQguIhOXioVOxeBNGDgicPtkFdFKRNDhUFUaogKAjWm/+wbTS1\n",
       "VTS+eW+3u7P2biCTyW/nm7dv3swD6LMJ//eTDf2/1rSsHcUQfOJY9haOJprOkJMKsa+ONfP5Xzb7\n",
       "kbPkhHNUy0s30iQbrQmjlyUR+ugPzowPNfS8Ec5x+ndGJakD8W8hbZ0W3IBt59pLFxE5aEu3dYT2\n",
       "EKfQNrlrbRVIfGcsOSNs67LwrlDEfSnURRwOcW1iRZg5znRiV5m27YUw/ap2Jwoyan69E+Ji7/FV\n",
       "xlq+UO4FYUx6wYyMM6hG0zbTxn7SWfF8BrGdTFul6kzJp1p5spt+T4pvryTRJbHge8YKFKLnaAHh\n",
       "tUoB2kQc0nmmbVmCAZ3nE3E6uoPa2BrxUVV+7LG9KZiXpL2C5HAxyLTfsmeK7vub6vg7KsKUBphW\n",
       "sFsAz9eRwVm1VU+blg8eS3gTJdmH0SIM1S6lB+ODqjU8Flv1O/cIMK68Ej26nmfa6VdDy0AoX17r\n",
       "5NpC2c+XQ3pAdskAzJokkylE1Lh4zFz248eAt8qbpHqM3GDaQlFTmw4yZ3iBa7P+dBv3+kYq0utE\n",
       "j0KzMk+QtS/J+qsTTkVyKq5K5g/Xirskj1qI1eAqPO2i+J7v2wfVqx3qjXfBrVKDyloOMlOuv1td\n",
       "F/kW9875RbOyxrWCpZJlzupIqoZd174j02+r8sNU1TF1VQd9zSvrOpOTD3VdYf4c/PF/XmHaBDGj\n",
       "xtmKf3iuVt44snwJW86MPInLak1DLKbXEWR0IyGm0uLCMfjjf4fFIUZs8wYMTJsWFdKofNhG86m6\n",
       "K/nSPSRRjqkuMCZGNHHazfEsA2/UcTvH4+igEp84c7cX1EZEicdeC+dpswuRal1V1r19qg1r8K4n\n",
       "6HVzHbD2e8i9fSju4V4e9yjbsIYWM5xVG4cR0mLOOWVvBf4CbVHmwc6A20EAAAAASUVORK5CYII=\n",
       "\" style=\"display:inline;vertical-align:middle;\" /></a> <a class=\"ProveItLink\" href=\"../__pv_it/demonstrations/8c069ae653990fea605a7f7ea11c8dfe64e72e0f0/proof.ipynb\" style=\"text-decoration: none\">&nbsp;&#x22A2;&nbsp;&nbsp;</a><a class=\"ProveItLink\" href=\"../__pv_it/demonstrations/95e9d05e1fd47e5f629ca8a47b57dd2a3cb2d4e60/expr.ipynb\"><img src=\"data:image/png;base64,iVBORw0KGgoAAAANSUhEUgAAAQ0AAAAVBAMAAACuzqZ5AAAAMFBMVEX///8AAAAAAAAAAAAAAAAA\n",
       "AAAAAAAAAAAAAAAAAAAAAAAAAAAAAAAAAAAAAAAAAAAv3aB7AAAAD3RSTlMAIs1UmauJMnZmRLsQ\n",
       "3e++988cAAAACXBIWXMAAA7EAAAOxAGVKw4bAAADeklEQVRIx71VTWgTQRT+Nkl3N39t8ODJmvQo\n",
       "FqpS9GjFUlDRxkIQraUR0ZOQHCwoIo3godJic1AQPRjw4sU2/gQLYtODolCUaC8KovWmVjSN9k+p\n",
       "8c3MJpuXQ1updGGH2W++982b9968BVb8BFaxusJn3Qo45pYll2//Dz+aqr5vFCORzXGObRfD80wk\n",
       "uZ7j/cVMZyYAM1nt9+hUpPN9mnO/ZSKjnznP1585rEXl1FkUY80YDUZCIlP0OccwX0hofxpD81ua\n",
       "HBWkM0qoALh/AI3VGnVkYaY5Rlxs4vaXB+Dcrw7h6hbZdQuqV0ZBmwc8PxnmIqrvMc1c0/R1TbAe\n",
       "SmODuDgAXAHXwDAd0tfCMGOWhuvM3vuKhnZVXcdikpUrV4qbYuGeZ1gtvY6vNHgmafALZ0Mq/iJu\n",
       "w0nUjnENxFLkR4Jh5i8atjL7rDAbkqtaYlDW4HF6d0ukJk+bfmTYNqEsaAYdETrNXKpwvcRFMApH\n",
       "kmuIoksgzjDiGthSaa8vCPy0Sgt2Jku3JieR2jR8XXGGtZG/i7Ku4tZZ/Gq7OlGKvWHoYa6B3/Ak\n",
       "wTEqmbPq6CX7oFx4JsFb6JX1WhOHqcqpd6SvQ2mUMaoufd6u8kNAn5r1iuWbUbhDXMOzGMkGUKUb\n",
       "1Rq4fSxha7YgKM9ihOGXScZgAE51vcrYBB1g2rbpAd6p2aCIT3cKzkmuoc+hHlwDsUzXJLdvsruD\n",
       "+aC1W13zBjQraFTYxBn2hbKVl3mRn46As0Vxs2L4Q7vluYYjD90il7GmMVhWJfvv9F5sbZO9ifKW\n",
       "s1qVFbUZEeoEw8gPv9xph2o5UUegVAZ0txase1ShQXWjCe1KrACf1ZVL9h/E0J5UaYFfafgNFRdj\n",
       "QYW6EpuwOgdU60PuHOz28ZI4zhzjY1icY4Bhnlk7sZa97FwypKKoHSqm5lW1t0kbGgUwbER1N+gq\n",
       "07h0BHb7uCdikmZ8mVctzDB9zvbDsg+St5oIKTaKe60q0PfaSh6FZ6gRDDtBL11vzylL50WoXAa4\n",
       "I1LtijK+jPhQiuvmbT8seyeFvucNTcaLjXBmC0rE6mLZmUjH/ZKB1ZXOC719kb0l2Opigvtolwx+\n",
       "qpLv66Bf5WiBaTzNzhxElT2eZE4mN/zDL9kfX4ZQjzV53C3LEPasjR+4u/Syll4jP8aXXvYG1sgP\n",
       "LbHk8oXVqf8F7CT5MB8JS9UAAAAASUVORK5CYII=\n",
       "\" style=\"display:inline;vertical-align:middle;\" /></a></span><br>"
      ],
      "text/plain": [
       "<IPython.core.display.HTML object>"
      ]
     },
     "metadata": {},
     "output_type": "display_data"
    }
   ],
   "source": [
    "group_c_d = Or(A,B,C,D,E,F,G).associate(2,length=2,assumptions=[Or(A,B,Or(C,D),E,F,G),Or(A,B,C,D,E,F,G),in_bool(A), in_bool(B),in_bool(C),in_bool(D),in_bool(E),in_bool(F),in_bool(G)])"
   ]
  },
  {
   "cell_type": "code",
   "execution_count": 37,
   "metadata": {},
   "outputs": [
    {
     "data": {
      "text/html": [
       "<span style=\"font-size:20px;\"><a class=\"ProveItLink\" href=\"../__pv_it/demonstrations/95e9d05e1fd47e5f629ca8a47b57dd2a3cb2d4e60/expr.ipynb\"><img src=\"data:image/png;base64,iVBORw0KGgoAAAANSUhEUgAAAQ0AAAAVBAMAAACuzqZ5AAAAMFBMVEX///8AAAAAAAAAAAAAAAAA\n",
       "AAAAAAAAAAAAAAAAAAAAAAAAAAAAAAAAAAAAAAAAAAAv3aB7AAAAD3RSTlMAIs1UmauJMnZmRLsQ\n",
       "3e++988cAAAACXBIWXMAAA7EAAAOxAGVKw4bAAADeklEQVRIx71VTWgTQRT+Nkl3N39t8ODJmvQo\n",
       "FqpS9GjFUlDRxkIQraUR0ZOQHCwoIo3godJic1AQPRjw4sU2/gQLYtODolCUaC8KovWmVjSN9k+p\n",
       "8c3MJpuXQ1updGGH2W++982b9968BVb8BFaxusJn3Qo45pYll2//Dz+aqr5vFCORzXGObRfD80wk\n",
       "uZ7j/cVMZyYAM1nt9+hUpPN9mnO/ZSKjnznP1585rEXl1FkUY80YDUZCIlP0OccwX0hofxpD81ua\n",
       "HBWkM0qoALh/AI3VGnVkYaY5Rlxs4vaXB+Dcrw7h6hbZdQuqV0ZBmwc8PxnmIqrvMc1c0/R1TbAe\n",
       "SmODuDgAXAHXwDAd0tfCMGOWhuvM3vuKhnZVXcdikpUrV4qbYuGeZ1gtvY6vNHgmafALZ0Mq/iJu\n",
       "w0nUjnENxFLkR4Jh5i8atjL7rDAbkqtaYlDW4HF6d0ukJk+bfmTYNqEsaAYdETrNXKpwvcRFMApH\n",
       "kmuIoksgzjDiGthSaa8vCPy0Sgt2Jku3JieR2jR8XXGGtZG/i7Ku4tZZ/Gq7OlGKvWHoYa6B3/Ak\n",
       "wTEqmbPq6CX7oFx4JsFb6JX1WhOHqcqpd6SvQ2mUMaoufd6u8kNAn5r1iuWbUbhDXMOzGMkGUKUb\n",
       "1Rq4fSxha7YgKM9ihOGXScZgAE51vcrYBB1g2rbpAd6p2aCIT3cKzkmuoc+hHlwDsUzXJLdvsruD\n",
       "+aC1W13zBjQraFTYxBn2hbKVl3mRn46As0Vxs2L4Q7vluYYjD90il7GmMVhWJfvv9F5sbZO9ifKW\n",
       "s1qVFbUZEeoEw8gPv9xph2o5UUegVAZ0txase1ShQXWjCe1KrACf1ZVL9h/E0J5UaYFfafgNFRdj\n",
       "QYW6EpuwOgdU60PuHOz28ZI4zhzjY1icY4Bhnlk7sZa97FwypKKoHSqm5lW1t0kbGgUwbER1N+gq\n",
       "07h0BHb7uCdikmZ8mVctzDB9zvbDsg+St5oIKTaKe60q0PfaSh6FZ6gRDDtBL11vzylL50WoXAa4\n",
       "I1LtijK+jPhQiuvmbT8seyeFvucNTcaLjXBmC0rE6mLZmUjH/ZKB1ZXOC719kb0l2Opigvtolwx+\n",
       "qpLv66Bf5WiBaTzNzhxElT2eZE4mN/zDL9kfX4ZQjzV53C3LEPasjR+4u/Syll4jP8aXXvYG1sgP\n",
       "LbHk8oXVqf8F7CT5MB8JS9UAAAAASUVORK5CYII=\n",
       "\" style=\"display:inline;vertical-align:middle;\" /></a> <a class=\"ProveItLink\" href=\"../__pv_it/demonstrations/a1821ea189b2a6d778ba4712f92fe521a7c09a8d0/proof.ipynb\" style=\"text-decoration: none\">&nbsp;&#x22A2;&nbsp;&nbsp;</a><a class=\"ProveItLink\" href=\"../__pv_it/demonstrations/8efb5f4519c23d70ce9c1531ee4336ad4160f6cb0/expr.ipynb\"><img src=\"data:image/png;base64,iVBORw0KGgoAAAANSUhEUgAAAP0AAAAPBAMAAADdQdTdAAAAMFBMVEX///8AAAAAAAAAAAAAAAAA\n",
       "AAAAAAAAAAAAAAAAAAAAAAAAAAAAAAAAAAAAAAAAAAAv3aB7AAAAD3RSTlMAIs1UmauJMnZmRLsQ\n",
       "3e++988cAAAACXBIWXMAAA7EAAAOxAGVKw4bAAAC6klEQVQ4y8WUT2gTURDGv22a7CbNtkHQk5j0\n",
       "KBZSoejRSIsHRVsLi2gtjQiehOTQguIhOXioVOxeBNGDgicPtkFdFKRNDhUFUaogKAjWm/+wbTS1\n",
       "VTS+eW+3u7P2biCTyW/nm7dv3swD6LMJ//eTDf2/1rSsHcUQfOJY9haOJprOkJMKsa+ONfP5Xzb7\n",
       "kbPkhHNUy0s30iQbrQmjlyUR+ugPzowPNfS8Ec5x+ndGJakD8W8hbZ0W3IBt59pLFxE5aEu3dYT2\n",
       "EKfQNrlrbRVIfGcsOSNs67LwrlDEfSnURRwOcW1iRZg5znRiV5m27YUw/ap2Jwoyan69E+Ji7/FV\n",
       "xlq+UO4FYUx6wYyMM6hG0zbTxn7SWfF8BrGdTFul6kzJp1p5spt+T4pvryTRJbHge8YKFKLnaAHh\n",
       "tUoB2kQc0nmmbVmCAZ3nE3E6uoPa2BrxUVV+7LG9KZiXpL2C5HAxyLTfsmeK7vub6vg7KsKUBphW\n",
       "sFsAz9eRwVm1VU+blg8eS3gTJdmH0SIM1S6lB+ODqjU8Flv1O/cIMK68Ej26nmfa6VdDy0AoX17r\n",
       "5NpC2c+XQ3pAdskAzJokkylE1Lh4zFz248eAt8qbpHqM3GDaQlFTmw4yZ3iBa7P+dBv3+kYq0utE\n",
       "j0KzMk+QtS/J+qsTTkVyKq5K5g/Xirskj1qI1eAqPO2i+J7v2wfVqx3qjXfBrVKDyloOMlOuv1td\n",
       "F/kW9875RbOyxrWCpZJlzupIqoZd174j02+r8sNU1TF1VQd9zSvrOpOTD3VdYf4c/PF/XmHaBDGj\n",
       "xtmKf3iuVt44snwJW86MPInLak1DLKbXEWR0IyGm0uLCMfjjf4fFIUZs8wYMTJsWFdKofNhG86m6\n",
       "K/nSPSRRjqkuMCZGNHHazfEsA2/UcTvH4+igEp84c7cX1EZEicdeC+dpswuRal1V1r19qg1r8K4n\n",
       "6HVzHbD2e8i9fSju4V4e9yjbsIYWM5xVG4cR0mLOOWVvBf4CbVHmwc6A20EAAAAASUVORK5CYII=\n",
       "\" style=\"display:inline;vertical-align:middle;\" /></a></span>"
      ],
      "text/plain": [
       "{A or B or (C or D) or E or F or G} |- A or B or C or D or E or F or G"
      ]
     },
     "metadata": {},
     "output_type": "display_data"
    }
   ],
   "source": [
    "group_c_d.disassociate(2, assumptions=[group_c_d.expr])"
   ]
  },
  {
   "cell_type": "code",
   "execution_count": 38,
   "metadata": {},
   "outputs": [
    {
     "data": {
      "text/html": [
       "<span style=\"font-size:20px;\"><a class=\"ProveItLink\" href=\"../../__pv_it/theorems/a10dbfd9a4efbb6f30af430036ab01697a9460f80/expr.ipynb\"><img src=\"data:image/png;base64,iVBORw0KGgoAAAANSUhEUgAAADYAAAAQBAMAAACvnpHFAAAAMFBMVEX///8AAAAAAAAAAAAAAAAA\n",
       "AAAAAAAAAAAAAAAAAAAAAAAAAAAAAAAAAAAAAAAAAAAv3aB7AAAAD3RSTlMAIs1UmauJMnZmRLsQ\n",
       "3e++988cAAAACXBIWXMAAA7EAAAOxAGVKw4bAAAA40lEQVQY02NgAAEhBhTAcW/Tp7dRUI4+qhwD\n",
       "N1eD0NEFYCbzfwy5CWwCG8BMlngBDDlOgwAwMzG/AGrR3ruX4HIKIBZjQ78BWIpL4wBcH6tkAthI\n",
       "BvsJEOcegJvZ0xsGZi1mqAerYVBE2Hfp/RWwQgcGeYi9Ckhu4ZilA3LAFpd4sHvZ3969e/c2VI5h\n",
       "wzIg4wQDA/8FkAjPBiR9DBu4wUYy8D4AC11AkWMCOhzoRqYPYKEOFDkLBgY5EPsjWIjJAC6XwNbm\n",
       "wHD6vw4D8/5PYE/wRK+BBI/ebkQ8wABXNiTMIAAAYXA8zHUEOxUAAAAASUVORK5CYII=\n",
       "\" style=\"display:inline;vertical-align:middle;\" /></a>, <a class=\"ProveItLink\" href=\"../__pv_it/theorems/c50b73f2d168f6a3012768bd45c62ea92218bcbc0/expr.ipynb\"><img src=\"data:image/png;base64,iVBORw0KGgoAAAANSUhEUgAAADcAAAAQBAMAAABAXPr7AAAAMFBMVEX///8AAAAAAAAAAAAAAAAA\n",
       "AAAAAAAAAAAAAAAAAAAAAAAAAAAAAAAAAAAAAAAAAAAv3aB7AAAAD3RSTlMAZrurzTLvInZEmRDd\n",
       "VIkafcLnAAAACXBIWXMAAA7EAAAOxAGVKw4bAAAA8UlEQVQY02NgwAZ6kvzdDk8AsYT+Gxs7BaDK\n",
       "Ksxg97YEs5IYGJi/oklOZHjOBGKw/2Bg4PyFISnLDGIwAnUx/gCLceicOQKXZAExmD8wMLCkg1ic\n",
       "HhsQOs3lQAw2BQZuG7CDSjYgHLTj8AMQI16jw0QALOSOsHOO25/VIEZ/AQNvIljIAdlBjVNA5qgB\n",
       "8XuQsaw5Z86cOQSTZOIEmfsZiOUbgAS3ArJOJgYgl/UjkGMPDqsDqJJAWzi+AxV8AQt1oEjyAk1j\n",
       "SWBgmOYNFmK5AJecx/DiFTAI9D8bm+hChLiNZkMYLUn60FhBApyPoMEHAQCDjz3xiC/o5wAAAABJ\n",
       "RU5ErkJggg==\n",
       "\" style=\"display:inline;vertical-align:middle;\" /></a>, <a class=\"ProveItLink\" href=\"../__pv_it/demonstrations/dc7d96b1022c0165a0469ead301debeb324b9c180/expr.ipynb\"><img src=\"data:image/png;base64,iVBORw0KGgoAAAANSUhEUgAAADYAAAAQBAMAAACvnpHFAAAAMFBMVEX///8AAAAAAAAAAAAAAAAA\n",
       "AAAAAAAAAAAAAAAAAAAAAAAAAAAAAAAAAAAAAAAAAAAv3aB7AAAAD3RSTlMAEHa7q2Yiie9Umd0y\n",
       "zUTye3nKAAAACXBIWXMAAA7EAAAOxAGVKw4bAAAA4ElEQVQY02NgwAKYdtj+7fYDsRiVXVzZClAk\n",
       "mfkUckUeABkaigycqwPQ5ALYEwwYGIT3ADnrE9DlWCc4MDDcEAByXkDElHfvvgCXu8DA/hPEOQWW\n",
       "equI0MeSWsCQvwHEkQERbBcRZipquzMw1CvAbeFNQMjt7d8lwLAf4QpeZLcwxV1k6AdzQO5hOLEb\n",
       "CAygcgwGzxn2g9icB0CkMLI+BgNmiM/YwSLcqHK8DPkgtxRCglEBRW4SA+dXBobnAhChmwi5Anb1\n",
       "BQwMUiZeD6BCInYQRUw3jKHxgASeW0PCDAIA+qo1SVIYGkQAAAAASUVORK5CYII=\n",
       "\" style=\"display:inline;vertical-align:middle;\" /></a>, <a class=\"ProveItLink\" href=\"../__pv_it/demonstrations/be49e688692580141a3851882e8c02185518c0cd0/expr.ipynb\"><img src=\"data:image/png;base64,iVBORw0KGgoAAAANSUhEUgAAADgAAAAQBAMAAACxV6F2AAAAMFBMVEX///8AAAAAAAAAAAAAAAAA\n",
       "AAAAAAAAAAAAAAAAAAAAAAAAAAAAAAAAAAAAAAAAAAAv3aB7AAAAD3RSTlMAdrurIs1mVDKZ70SJ\n",
       "EN02Mxp8AAAACXBIWXMAAA7EAAAOxAGVKw4bAAAA6UlEQVQY02NgwAYYX6l+XWcNYgn9VzZSdkCV\n",
       "ZeIWcL28AcT6ysDA9h1dMoHHQQHI4PgIJGZhSLIVGIAs+AEk9idALNN79xQuGQBifAAS/gdAYtyB\n",
       "F+A6md1AQvwgs/tBZjC4XoAbKytnA2L0CwCJfLDOEISdT9e/BKmUbwAS9mB3ByA5iDE7FsjQB/F+\n",
       "gQiOde/evXsElWRQ2ANkfAJitm8gIV4FJJ0MCkxQb96CCD9AkWSFelMVIiaIIlnIwMAK9Oa+CRAx\n",
       "1gK45AEemQkMzPqfjZWmQMV4jfZCAipKCRoryID7ECT4IAAAk1I8Z0PO6g0AAAAASUVORK5CYII=\n",
       "\" style=\"display:inline;vertical-align:middle;\" /></a>, <a class=\"ProveItLink\" href=\"../__pv_it/demonstrations/25542f4e2111e214ae31ec917c5346fb112614f30/expr.ipynb\"><img src=\"data:image/png;base64,iVBORw0KGgoAAAANSUhEUgAAADcAAAAQBAMAAABAXPr7AAAAMFBMVEX///8AAAAAAAAAAAAAAAAA\n",
       "AAAAAAAAAAAAAAAAAAAAAAAAAAAAAAAAAAAAAAAAAAAv3aB7AAAAD3RSTlMAdrvvq93NRIkQmTJm\n",
       "IlTMv30WAAAACXBIWXMAAA7EAAAOxAGVKw4bAAAA6klEQVQY02NgwAZEjfKTQwpALCFjFRdVI1RZ\n",
       "hULeTHcw6xtIBZpkDUMvE4jB/gNIzMKQPMcCYnB8BxITwWKMqqFhcEk2EIPtAwMjAzfYjMQJCJ2+\n",
       "J0AMfgWGGojQtQkIB00MaQAx6kOc/kKEchF2liZ/XQli9G/gDYAIJSA7SKYMZE4+A0MDA4jBbRoa\n",
       "GhoEk2RiB5n7iYHhAqcAkMGpgKyTiQHIZf8I8gPYKQGokkBbOH4DOVfAQoIoknxA01g/AHWbg4XY\n",
       "HsAlKxgauxgYpuR/cXGyh7iT06kSIidmpA+NFSTA3gQNPggAAL7KNJxscirvAAAAAElFTkSuQmCC\n",
       "\" style=\"display:inline;vertical-align:middle;\" /></a> <a class=\"ProveItLink\" href=\"../__pv_it/demonstrations/1bc4ee1a18ef3049cd3e9627828139879cf443c50/proof.ipynb\" style=\"text-decoration: none\">&nbsp;&#x22A2;&nbsp;&nbsp;</a><a class=\"ProveItLink\" href=\"../__pv_it/demonstrations/26c9b5c400d0508fe69cfe40bea56652ae7b9fb80/expr.ipynb\"><img src=\"data:image/png;base64,iVBORw0KGgoAAAANSUhEUgAAANIAAAAuBAMAAACv51oTAAAAMFBMVEX///8AAAAAAAAAAAAAAAAA\n",
       "AAAAAAAAAAAAAAAAAAAAAAAAAAAAAAAAAAAAAAAAAAAv3aB7AAAAD3RSTlMAInZUiRDNmWbv3US7\n",
       "qzJazP2FAAAACXBIWXMAAA7EAAAOxAGVKw4bAAADW0lEQVRYw+2WTWgTQRTHXzZfbZqmOQn20rVQ\n",
       "UKikB1E8GRGP0uBFlCrpoWBBMKKg7cXgxZOkJy8WDBQFBdugXuqlqwelYJtcrIKJCV4EUdJWCH7U\n",
       "xvdmts2+bafbBXMQO5C32f++N29m3szuDwCi0KRm71jrE5ddfz/TY9v9AXm5aJNb8r9LC/M20d9b\n",
       "eueJM6m3Plecs41emx0vFR8YWpoHJ8XFWyfbnkAT0YXSagCUK1zb1wPe0TTXajiqb7bYDuxUM2CI\n",
       "ZQrKxMEyjauFHMMVoXTh/5kU0wYm0VyPMi2yjGbEFjuD8/an4CbL1CovR/uFT7ZRsQwKGZ1pwzTs\n",
       "ae6nrVLPaR7bn8NMOrQmrJkOCuvRY2JjHMPfZfmgTF1HrZqPFgk+cb/wIs0/zmOx6DpUIMAKdUUu\n",
       "HhxJr+3ArHwwDnB2kmldwp7jfh1YTqgWeOwKtFF3voI103lhn0BVbKn2CmiyqJGV7v3y2brWr69H\n",
       "NfyqdMnEmdb2s5QXZRe7bfQhtUcwIZ6loEvkjxQgJBdXWwI4nGbaVGMzN/xiVN9yjmm+VegUG3rM\n",
       "Oqc7ottXV8uGuB2EQ1IPj4kIq3ZX2AT3y5P5wbXAIvjAj7kXN2Q6ieudNc/xoNQ7cI4ty0ybEuOs\n",
       "cL8VWqXvtlgDPNRnG5vThFw8CEk1FJFzgyod0F9Mo5OEg2WaOE6nDR47Q+XqwVFlrXV6QRVMixmL\n",
       "dbyVk94x7LaaZBqdZTgOTBPH6SXXgM6mh9bEsM7pBP52U12W5MvpvqkP4wBuJ5jmxUV6ah7GNY0G\n",
       "+CzFNbHM05g1yF6Rn/ElUx8Cb74mZfPsFeul0oU+08fU4NTc2xwwrR3fw68vcc2/gLGzNVrOnDVT\n",
       "qAJNa53865BqXqZr/PZ50xJ5DH4/0LRMYdsH0qM3K9Me2Gn/ZPt/yHK7FLkZgboky60oEt6Q+agk\n",
       "UFdkuSVFwg0y8yoCdUeWW1NkiF4uSRWBuiJLB4r0oXewT0Gg7sjSgSJpPiEVgbojSweKhA8A3SoC\n",
       "tZElY6ONZOlAkfAV4J6KQN2RpRNFBqLelIpA3ZGlE0V644GoikDdkaUTRUL2i5JAbWS51hRk6USR\n",
       "sPe9kkDdkaUTRcKZpJJA3ZGlI0Wa53YTAt0hyx2y3BZZ/gGzM4SEUtYZhwAAAABJRU5ErkJggg==\n",
       "\" style=\"display:inline;vertical-align:middle;\" /></a></span>"
      ],
      "text/plain": [
       "{A in BOOLEAN, B in BOOLEAN, C in BOOLEAN, D in BOOLEAN, E in BOOLEAN} |- (A or B or C or D or E) =  \\\\ (A or C or D or B or E)"
      ]
     },
     "metadata": {},
     "output_type": "display_data"
    }
   ],
   "source": [
    "Or(A,B,C,D,E).commutation(1,3, assumptions=in_bool(A,B,C,D,E))"
   ]
  },
  {
   "cell_type": "code",
   "execution_count": 39,
   "metadata": {},
   "outputs": [
    {
     "data": {
      "text/html": [
       "<span style=\"font-size:20px;\"><a class=\"ProveItLink\" href=\"../../__pv_it/theorems/a10dbfd9a4efbb6f30af430036ab01697a9460f80/expr.ipynb\"><img src=\"data:image/png;base64,iVBORw0KGgoAAAANSUhEUgAAADYAAAAQBAMAAACvnpHFAAAAMFBMVEX///8AAAAAAAAAAAAAAAAA\n",
       "AAAAAAAAAAAAAAAAAAAAAAAAAAAAAAAAAAAAAAAAAAAv3aB7AAAAD3RSTlMAIs1UmauJMnZmRLsQ\n",
       "3e++988cAAAACXBIWXMAAA7EAAAOxAGVKw4bAAAA40lEQVQY02NgAAEhBhTAcW/Tp7dRUI4+qhwD\n",
       "N1eD0NEFYCbzfwy5CWwCG8BMlngBDDlOgwAwMzG/AGrR3ruX4HIKIBZjQ78BWIpL4wBcH6tkAthI\n",
       "BvsJEOcegJvZ0xsGZi1mqAerYVBE2Hfp/RWwQgcGeYi9Ckhu4ZilA3LAFpd4sHvZ3969e/c2VI5h\n",
       "wzIg4wQDA/8FkAjPBiR9DBu4wUYy8D4AC11AkWMCOhzoRqYPYKEOFDkLBgY5EPsjWIjJAC6XwNbm\n",
       "wHD6vw4D8/5PYE/wRK+BBI/ebkQ8wABXNiTMIAAAYXA8zHUEOxUAAAAASUVORK5CYII=\n",
       "\" style=\"display:inline;vertical-align:middle;\" /></a>, <a class=\"ProveItLink\" href=\"../__pv_it/theorems/c50b73f2d168f6a3012768bd45c62ea92218bcbc0/expr.ipynb\"><img src=\"data:image/png;base64,iVBORw0KGgoAAAANSUhEUgAAADcAAAAQBAMAAABAXPr7AAAAMFBMVEX///8AAAAAAAAAAAAAAAAA\n",
       "AAAAAAAAAAAAAAAAAAAAAAAAAAAAAAAAAAAAAAAAAAAv3aB7AAAAD3RSTlMAZrurzTLvInZEmRDd\n",
       "VIkafcLnAAAACXBIWXMAAA7EAAAOxAGVKw4bAAAA8UlEQVQY02NgwAZ6kvzdDk8AsYT+Gxs7BaDK\n",
       "Ksxg97YEs5IYGJi/oklOZHjOBGKw/2Bg4PyFISnLDGIwAnUx/gCLceicOQKXZAExmD8wMLCkg1ic\n",
       "HhsQOs3lQAw2BQZuG7CDSjYgHLTj8AMQI16jw0QALOSOsHOO25/VIEZ/AQNvIljIAdlBjVNA5qgB\n",
       "8XuQsaw5Z86cOQSTZOIEmfsZiOUbgAS3ArJOJgYgl/UjkGMPDqsDqJJAWzi+AxV8AQt1oEjyAk1j\n",
       "SWBgmOYNFmK5AJecx/DiFTAI9D8bm+hChLiNZkMYLUn60FhBApyPoMEHAQCDjz3xiC/o5wAAAABJ\n",
       "RU5ErkJggg==\n",
       "\" style=\"display:inline;vertical-align:middle;\" /></a>, <a class=\"ProveItLink\" href=\"../__pv_it/demonstrations/dc7d96b1022c0165a0469ead301debeb324b9c180/expr.ipynb\"><img src=\"data:image/png;base64,iVBORw0KGgoAAAANSUhEUgAAADYAAAAQBAMAAACvnpHFAAAAMFBMVEX///8AAAAAAAAAAAAAAAAA\n",
       "AAAAAAAAAAAAAAAAAAAAAAAAAAAAAAAAAAAAAAAAAAAv3aB7AAAAD3RSTlMAEHa7q2Yiie9Umd0y\n",
       "zUTye3nKAAAACXBIWXMAAA7EAAAOxAGVKw4bAAAA4ElEQVQY02NgwAKYdtj+7fYDsRiVXVzZClAk\n",
       "mfkUckUeABkaigycqwPQ5ALYEwwYGIT3ADnrE9DlWCc4MDDcEAByXkDElHfvvgCXu8DA/hPEOQWW\n",
       "equI0MeSWsCQvwHEkQERbBcRZipquzMw1CvAbeFNQMjt7d8lwLAf4QpeZLcwxV1k6AdzQO5hOLEb\n",
       "CAygcgwGzxn2g9icB0CkMLI+BgNmiM/YwSLcqHK8DPkgtxRCglEBRW4SA+dXBobnAhChmwi5Anb1\n",
       "BQwMUiZeD6BCInYQRUw3jKHxgASeW0PCDAIA+qo1SVIYGkQAAAAASUVORK5CYII=\n",
       "\" style=\"display:inline;vertical-align:middle;\" /></a>, <a class=\"ProveItLink\" href=\"../__pv_it/demonstrations/be49e688692580141a3851882e8c02185518c0cd0/expr.ipynb\"><img src=\"data:image/png;base64,iVBORw0KGgoAAAANSUhEUgAAADgAAAAQBAMAAACxV6F2AAAAMFBMVEX///8AAAAAAAAAAAAAAAAA\n",
       "AAAAAAAAAAAAAAAAAAAAAAAAAAAAAAAAAAAAAAAAAAAv3aB7AAAAD3RSTlMAdrurIs1mVDKZ70SJ\n",
       "EN02Mxp8AAAACXBIWXMAAA7EAAAOxAGVKw4bAAAA6UlEQVQY02NgwAYYX6l+XWcNYgn9VzZSdkCV\n",
       "ZeIWcL28AcT6ysDA9h1dMoHHQQHI4PgIJGZhSLIVGIAs+AEk9idALNN79xQuGQBifAAS/gdAYtyB\n",
       "F+A6md1AQvwgs/tBZjC4XoAbKytnA2L0CwCJfLDOEISdT9e/BKmUbwAS9mB3ByA5iDE7FsjQB/F+\n",
       "gQiOde/evXsElWRQ2ANkfAJitm8gIV4FJJ0MCkxQb96CCD9AkWSFelMVIiaIIlnIwMAK9Oa+CRAx\n",
       "1gK45AEemQkMzPqfjZWmQMV4jfZCAipKCRoryID7ECT4IAAAk1I8Z0PO6g0AAAAASUVORK5CYII=\n",
       "\" style=\"display:inline;vertical-align:middle;\" /></a>, <a class=\"ProveItLink\" href=\"../__pv_it/demonstrations/25542f4e2111e214ae31ec917c5346fb112614f30/expr.ipynb\"><img src=\"data:image/png;base64,iVBORw0KGgoAAAANSUhEUgAAADcAAAAQBAMAAABAXPr7AAAAMFBMVEX///8AAAAAAAAAAAAAAAAA\n",
       "AAAAAAAAAAAAAAAAAAAAAAAAAAAAAAAAAAAAAAAAAAAv3aB7AAAAD3RSTlMAdrvvq93NRIkQmTJm\n",
       "IlTMv30WAAAACXBIWXMAAA7EAAAOxAGVKw4bAAAA6klEQVQY02NgwAZEjfKTQwpALCFjFRdVI1RZ\n",
       "hULeTHcw6xtIBZpkDUMvE4jB/gNIzMKQPMcCYnB8BxITwWKMqqFhcEk2EIPtAwMjAzfYjMQJCJ2+\n",
       "J0AMfgWGGojQtQkIB00MaQAx6kOc/kKEchF2liZ/XQli9G/gDYAIJSA7SKYMZE4+A0MDA4jBbRoa\n",
       "GhoEk2RiB5n7iYHhAqcAkMGpgKyTiQHIZf8I8gPYKQGokkBbOH4DOVfAQoIoknxA01g/AHWbg4XY\n",
       "HsAlKxgauxgYpuR/cXGyh7iT06kSIidmpA+NFSTA3gQNPggAAL7KNJxscirvAAAAAElFTkSuQmCC\n",
       "\" style=\"display:inline;vertical-align:middle;\" /></a> <a class=\"ProveItLink\" href=\"../__pv_it/demonstrations/4e7f33947aa660254cad67d03a1132ecc8b231bb0/proof.ipynb\" style=\"text-decoration: none\">&nbsp;&#x22A2;&nbsp;&nbsp;</a><a class=\"ProveItLink\" href=\"../__pv_it/demonstrations/f3e5f72f942830cd98c777fc738aa6f74c4c736e0/expr.ipynb\"><img src=\"data:image/png;base64,iVBORw0KGgoAAAANSUhEUgAAANIAAAAuBAMAAACv51oTAAAAMFBMVEX///8AAAAAAAAAAAAAAAAA\n",
       "AAAAAAAAAAAAAAAAAAAAAAAAAAAAAAAAAAAAAAAAAAAv3aB7AAAAD3RSTlMAInZUiRDNmWbv3US7\n",
       "qzJazP2FAAAACXBIWXMAAA7EAAAOxAGVKw4bAAAEcElEQVRYw+2XTYhbVRTHz3vJSzLJ5E0WIrQg\n",
       "kw4UFEZmFmJxU1NKlyWhm2JpJV0MWBAasaDWgsGNG8tUQWnpQAOlxRbahtpFx83EEZQpxpmNo2ie\n",
       "ebgRRMnMKNPazkfPufe+j/PerRtNoTAP3n25/3vPPfee+/ULABSgT0+0YXNcfJ7+/z3djORfkJ/j\n",
       "ETkzv+4sfhcRrVHnR6PEpNHNdqcd6b05N+V0rrTMOjeuik9ik9J8BRO7KJSBFkDX5dpzOyFxss61\n",
       "VezVXxHbIWzUbMEE85SWjtNd6leGKg66QhnG3zM1ph2+jsl7BabZK5i8E7GdwXFbNfiAeRqQnz1l\n",
       "UacRzNgkCpNFph2jbk/zeuYGtVzntuUmeirCQCXs6UWRGsUxsTD24vumLOhS04WwlqQgwW+83uAS\n",
       "jb/EbXHSi+BCik3UCRk8eLnurcCGLJgCOHKdacMifZXXG8LphN4Ct12DHDWXXAh7ek2kn0NPLKm8\n",
       "C6acVHtt5HlZ5mvlom8V1OvRZ7LEtNx9Z15Mu1htJ6/Scw0uirIaDAv/9gJkZXDNZYCX6ky7ESzm\n",
       "oN4YzW+3ybTkBmwXC/pMeEznRbPfvNVtiexR2CX1wTPCIqxdEGmF15un5B+upZYgCRb6Xop5OoDx\n",
       "bqh9fFTqQzjGzArTboh+urzeGkXpXsS2BQa1mWNjuiiDB1mpZm05NujRBn3ANNpJ2Fmmie30Sovb\n",
       "ztB07cReNcLzNEszWBcjFnE83ZS1x7DZXpVptJdhHzBNbKevuQa0Nw2KSSs8pv34bqN5WZaH02Wl\n",
       "H8MOfFphWgKDdEttRk+jDn5R45oI8zR6TbMj8nc8ZDYnIDG/KmW19zqbjvP6uKqjNDjY/qEJTMvj\n",
       "OfztG1yzFtF2bpXC2Qx7yrrQt2c7vx1q/fP0Ns9+2TdHRovnD/fN02DkgjSK/fK0A7aeJ/J53GSp\n",
       "e/4jberIcvRc27kzFasapc0P6TCMnl4H2k79KdDRppYs6Twcxfd7yvyqiuK0iZ3Jb3DN/LgCuz6L\n",
       "mCra1JBl7m86qfF9nySPkWO0aeC1l7vLNOsOpullburRpoYskw/kFQ9Zaq8Kj6DNzIZ34/ta6hNQ\n",
       "t3jI1KNNDVnifWaCTS5xeaTH4RG0mcdrL/UR08pUxa5xU482NWSJiHFbtl6VndPTJv4psH5yw5px\n",
       "X8y1y0092tSQ5cy1jrzc4ReAEVUSp83e7MhinZFlciVoKTD1aDNTjbFR2TUU5/4JcEmVxGkTKSZx\n",
       "lpFldjloKTD1aFNDlrhxShIZU4WEuoQ1tDmnuCfQBgRRWcBNPdrUkCXiYcESEUqUUuoQ0dDmOqg/\n",
       "Or6WFW3tBm7q0WacLHMUbVNGqPGHH7wobdr3PAT3NbGTQMGWZ+rTZqIR9jQLir+fkflnf5ZfDW3S\n",
       "nwJ7lVEk7WVIVripT5txsqQY5M7L/CG1XjS0mcIhTk9wisSNkFNY65v6tBkjyyPH153OBVVNbT4N\n",
       "bRJFLn7FKRKsU867/sE2HqHNLbLcIst/IcuHnIaH6tRpcegAAAAASUVORK5CYII=\n",
       "\" style=\"display:inline;vertical-align:middle;\" /></a></span>"
      ],
      "text/plain": [
       "{A in BOOLEAN, B in BOOLEAN, C in BOOLEAN, D in BOOLEAN, E in BOOLEAN} |- (A or B or C or D or E) =  \\\\ (E or A or B or C or D)"
      ]
     },
     "metadata": {},
     "output_type": "display_data"
    }
   ],
   "source": [
    "Or(A,B,C,D,E).commutation(-1,0, assumptions=in_bool(A,B,C,D,E))"
   ]
  },
  {
   "cell_type": "code",
   "execution_count": 40,
   "metadata": {},
   "outputs": [
    {
     "data": {
      "text/html": [
       "<span style=\"font-size:20px;\"><a class=\"ProveItLink\" href=\"../__pv_it/demonstrations/7fa65a444b599d7e1ab9b777a790e0e674905c780/expr.ipynb\"><img src=\"data:image/png;base64,iVBORw0KGgoAAAANSUhEUgAAAUoAAAAPBAMAAABw5ZtdAAAAMFBMVEX///8AAAAAAAAAAAAAAAAA\n",
       "AAAAAAAAAAAAAAAAAAAAAAAAAAAAAAAAAAAAAAAAAAAv3aB7AAAAD3RSTlMAIs1UmauJMnZmRLsQ\n",
       "3e++988cAAAACXBIWXMAAA7EAAAOxAGVKw4bAAADW0lEQVRIx9WWy2sTURSHf5O0mTwmbXDhSk27\n",
       "FAutUHRpxOLCoo2F8VVrIoIrIVlYUFwkCxeVFpuNILpowLVtUIMFMclCURAlulIQrTulPtL0bazx\n",
       "viaTM+k/4EBuJ9+c787NueceCvBrG/6Hq9fx/W7dNPckHfBl3sxsp2iinh/JhyjzFhbMkU85Gvcz\n",
       "bxa+0ThjIn9ai1M1Vov6ztXOEugpKuCu87G9xAY9LcgC+7pGmfdrCf0f2I1wrsgpqoBvyeF2drHg\n",
       "HGUsDrupe3MS7qOZVrWj7JyvLN/VFuP58HEYEBnU1gH/MmHGUza2LbK72zzisRB1Fodj1MUsS5AR\n",
       "IUxfZcMd4gbesmEoRNUUU8MRtEJ+nU+I7+VGhfpYHn3rhLm+s8E/z4Yg/xldcot4vmczxEUiy1aZ\n",
       "Jsz7mw17iVvk2ZpBqzrd54BTWfFHS0+JJxfY55Ag7RW2rC+EJXiIzn+nh921CQEBFodwnLi8yNNI\n",
       "EsbidPQ1u54Nzi+jRZXLb4ZFteE4kLFOuqyBjhyM0WQz0zZFxSdVLoLS7OSHJBUlLmrwZ0DnY/V2\n",
       "VSbEcsPiwQs4VeCHwxU1za57auvbk/DKgk3NjQ/LN1nMs26fupPAuLxL8UfTceL6N81iCI754lo3\n",
       "dRPpxnRENc1lJ1RvjiAcFTUeRbAkSyEEt2wcFgsu2qscAz6qkuG5jWWJ61nDToDOl8iPzlO31+5z\n",
       "RIV3aQvIS/vRQEy2t270S7HAZ042s46K2HGBXCF3pKlk/lLXVYFHBTZYbwnKsNxf7HN94HCLisAf\n",
       "tELerRstaR/UvqzwjUw3s6CI3S/ba9wVsuvIt0FdVqsan7OZVWHI49ZwP/NhKNOiipbZAsWGIyj3\n",
       "I6hLom9YG9lgolNCda7yNdjt8k2OuJjlv26SMP+qXS7KFR1anV6iWt2RzicOpMqq95ZcmZctSVdH\n",
       "SzHe5+GRlYIbZ2C3ywckTlaKFiVMlVazG2bv1mpbqKo7Ugjs4v1Mng3jnSoFltqZHhDGmpX/knrT\n",
       "6y67ZO5HaJzYy5ksna9ir1K5brZdY++3UIvYAuJVvQfuYlXmWfX04oo5/NCaVvVWY9A8YiHV03nc\n",
       "k4M0zhhm/6gUqoQ9L64ch8PFs/zFzA6qjtRPYbA+54QngH/gYSVfZms1SAAAAABJRU5ErkJggg==\n",
       "\" style=\"display:inline;vertical-align:middle;\" /></a> <a class=\"ProveItLink\" href=\"../__pv_it/demonstrations/549aae6c834faf415edfbda0aa84846c088cfdfc0/proof.ipynb\" style=\"text-decoration: none\">&nbsp;&#x22A2;&nbsp;&nbsp;</a><a class=\"ProveItLink\" href=\"../__pv_it/demonstrations/09c1cdb5cf4f39f81e75bbadfb05240dca2edfe40/expr.ipynb\"><img src=\"data:image/png;base64,iVBORw0KGgoAAAANSUhEUgAAAUoAAAAPBAMAAABw5ZtdAAAAMFBMVEX///8AAAAAAAAAAAAAAAAA\n",
       "AAAAAAAAAAAAAAAAAAAAAAAAAAAAAAAAAAAAAAAAAAAv3aB7AAAAD3RSTlMAIs1UmauJMnZmRLsQ\n",
       "3e++988cAAAACXBIWXMAAA7EAAAOxAGVKw4bAAADaElEQVRIx9WWz2sTQRTHX7JJdpNsmqWgJzHx\n",
       "bCEeih4tWDxYpLWw/oqaiuBJSA4WBA/NwUOlYvciCB4a8OSlLdhgQdoErCiIEEVBQWy9qdX+iG2s\n",
       "jSXOm5lk903zD7iQyeSz3/djZt68FgCfTvgfnpTy+0HDtg/mFPiyaDt7KRpbKdpzywQZ88t2esWh\n",
       "rFS3n55S3JljxXO+IarL1AfCl+oXCAyVJNAaOAbLbNDznLDIwd+UGV/L0P2RTbjNDeGiiqlSFk8C\n",
       "+B3qDtnEIaq7ewe0k210HRUll3hFxApkLDaGEUb5Dvq2ACIbhJlzbAyss9l9VDzhhpEaGxYoG2H7\n",
       "Ey4QdzDC5oEloou+YUO/peiYbaIHdkN8Lmf570qrQsNsH8NbhPl/YFYYKYbLSIrT2MZKoGycZahZ\n",
       "xB2MM/+RP0RXwt2apGEhW5B7TowL/MuXH+dvrrDPMU6CayytL4RlUaLjOkNsFuAG4F8DA3TKSgA5\n",
       "jbpDBr6aVxfCnOG6oks101eN8cDhqNO86aIGOqbBvJjzMt8Or/ic3IuYsIxPwyOxUJdVQXeAuoM6\n",
       "rnDTq0vwNy/a6H6qxlXx9VAefTAHhijYkdnRQRGqyUJb7q07AzAqZlPv0+sK02vQaQF1p6NxuObV\n",
       "ZfMtd64usmPb9oYKZeQeSAxwZwMQK4tSsED7Bl4WW3ezHAb4JOso56soLFS3PwNQdwZvF9teXcrt\n",
       "c64uxHTGrzYQfcz0Zqb57AB0C8N5noGXdazxExfVaGk9rToagjJh/r+sgoC6i6JxfMmrW2WfW73H\n",
       "qY6VOUT/wm4o7qhsSYfZO/5gCU3kvSzGtUdEex3yW606ssw8YazlPZNZttzFcRMmHK9uEYd+Z7cu\n",
       "nmxnjAcOMb5OiOmC6HgBMwUv450SZOeq3AS3ZIwyYVPun5OmO94uzWViyzt0SdFN5d3uSCAL5bR2\n",
       "1bgnMjNYSrq8WpJhn4eQSAhunwe3ZPZQlnULrumOt8tokugSLLavrujQVnZHCgH2Y+GIu2G+laXA\n",
       "tnayCwhjzSpyTYZ/LSNiGUS+U+b5l6Bpiizyjtpq7LiGPyi6RXd/KYRXjS7QSlWxz7KnlzbtwcfN\n",
       "WLK3mn32iSaS/ft5atNOrya9zEw3bAsUU8bSMxa1hYXiVWcf0THbs9DXmFXhaYB//LwiCMyJavoA\n",
       "AAAASUVORK5CYII=\n",
       "\" style=\"display:inline;vertical-align:middle;\" /></a></span>"
      ],
      "text/plain": [
       "{A or B or C or D or E or F or G or H or I} |- A or B or C or E or F or D or G or H or I"
      ]
     },
     "metadata": {},
     "output_type": "display_data"
    }
   ],
   "source": [
    "Or(A,B,C,D,E,F,G,H,I).commute(3, 5, assumptions=[Or(A,B,C,D,E,F,G,H,I), *in_bool(A,B,C,D,E,F,G,H,I)])"
   ]
  },
  {
   "cell_type": "code",
   "execution_count": 41,
   "metadata": {},
   "outputs": [
    {
     "data": {
      "text/html": [
       "<span style=\"font-size:20px;\"><a class=\"ProveItLink\" href=\"../__pv_it/demonstrations/7fa65a444b599d7e1ab9b777a790e0e674905c780/expr.ipynb\"><img src=\"data:image/png;base64,iVBORw0KGgoAAAANSUhEUgAAAUoAAAAPBAMAAABw5ZtdAAAAMFBMVEX///8AAAAAAAAAAAAAAAAA\n",
       "AAAAAAAAAAAAAAAAAAAAAAAAAAAAAAAAAAAAAAAAAAAv3aB7AAAAD3RSTlMAIs1UmauJMnZmRLsQ\n",
       "3e++988cAAAACXBIWXMAAA7EAAAOxAGVKw4bAAADW0lEQVRIx9WWy2sTURSHf5O0mTwmbXDhSk27\n",
       "FAutUHRpxOLCoo2F8VVrIoIrIVlYUFwkCxeVFpuNILpowLVtUIMFMclCURAlulIQrTulPtL0bazx\n",
       "viaTM+k/4EBuJ9+c787NueceCvBrG/6Hq9fx/W7dNPckHfBl3sxsp2iinh/JhyjzFhbMkU85Gvcz\n",
       "bxa+0ThjIn9ai1M1Vov6ztXOEugpKuCu87G9xAY9LcgC+7pGmfdrCf0f2I1wrsgpqoBvyeF2drHg\n",
       "HGUsDrupe3MS7qOZVrWj7JyvLN/VFuP58HEYEBnU1gH/MmHGUza2LbK72zzisRB1Fodj1MUsS5AR\n",
       "IUxfZcMd4gbesmEoRNUUU8MRtEJ+nU+I7+VGhfpYHn3rhLm+s8E/z4Yg/xldcot4vmczxEUiy1aZ\n",
       "Jsz7mw17iVvk2ZpBqzrd54BTWfFHS0+JJxfY55Ag7RW2rC+EJXiIzn+nh921CQEBFodwnLi8yNNI\n",
       "EsbidPQ1u54Nzi+jRZXLb4ZFteE4kLFOuqyBjhyM0WQz0zZFxSdVLoLS7OSHJBUlLmrwZ0DnY/V2\n",
       "VSbEcsPiwQs4VeCHwxU1za57auvbk/DKgk3NjQ/LN1nMs26fupPAuLxL8UfTceL6N81iCI754lo3\n",
       "dRPpxnRENc1lJ1RvjiAcFTUeRbAkSyEEt2wcFgsu2qscAz6qkuG5jWWJ61nDToDOl8iPzlO31+5z\n",
       "RIV3aQvIS/vRQEy2t270S7HAZ042s46K2HGBXCF3pKlk/lLXVYFHBTZYbwnKsNxf7HN94HCLisAf\n",
       "tELerRstaR/UvqzwjUw3s6CI3S/ba9wVsuvIt0FdVqsan7OZVWHI49ZwP/NhKNOiipbZAsWGIyj3\n",
       "I6hLom9YG9lgolNCda7yNdjt8k2OuJjlv26SMP+qXS7KFR1anV6iWt2RzicOpMqq95ZcmZctSVdH\n",
       "SzHe5+GRlYIbZ2C3ywckTlaKFiVMlVazG2bv1mpbqKo7Ugjs4v1Mng3jnSoFltqZHhDGmpX/knrT\n",
       "6y67ZO5HaJzYy5ksna9ir1K5brZdY++3UIvYAuJVvQfuYlXmWfX04oo5/NCaVvVWY9A8YiHV03nc\n",
       "k4M0zhhm/6gUqoQ9L64ch8PFs/zFzA6qjtRPYbA+54QngH/gYSVfZms1SAAAAABJRU5ErkJggg==\n",
       "\" style=\"display:inline;vertical-align:middle;\" /></a> <a class=\"ProveItLink\" href=\"../__pv_it/demonstrations/bcd3a212b3ff2e559465ceb4b7e3c613759750d30/proof.ipynb\" style=\"text-decoration: none\">&nbsp;&#x22A2;&nbsp;&nbsp;</a><a class=\"ProveItLink\" href=\"../__pv_it/demonstrations/1ea7fe5c239dcc05687290432e4c80f078822bad0/expr.ipynb\"><img src=\"data:image/png;base64,iVBORw0KGgoAAAANSUhEUgAAAUoAAAAPBAMAAABw5ZtdAAAAMFBMVEX///8AAAAAAAAAAAAAAAAA\n",
       "AAAAAAAAAAAAAAAAAAAAAAAAAAAAAAAAAAAAAAAAAAAv3aB7AAAAD3RSTlMAIs1UmauJMnZmRLsQ\n",
       "3e++988cAAAACXBIWXMAAA7EAAAOxAGVKw4bAAADO0lEQVRIx9WVy2sTURTGvzxnkkyaoaBLG9cW\n",
       "6qLo0oJd2U0tTBVjTcSVICQbQXDRLBUXnY0guGjBlRsbsMVCaRNQQRAhiC4E0bpTq7WpbfpIS7yv\n",
       "Sebcaf8AL2Qy88s557tz73dPAD568T+MAe35cdtxTpU0+GbecY/rbFFnZrXlLF7Uwh6szTtLqzRu\n",
       "edXJrbmU5VujiWutqwTGqwpE2vwaq7GLURaEVYxtU2Z+r2HwE7sROXdwFMtkgenTlGGDTzUYF3ap\n",
       "LGc9dW0umbqsEc3b7JrgMCVWMLQDJDcJs5bYNdpgd494xAuRuGQH2SRLia5QlmyyyystrsDKzxBZ\n",
       "wfqGEIR8XC+K53rHoQm2jokdwsK/uBpXT/PXyHKW2g8yTLFayV3K4nvcHVocm2HEJrIozqh98EMe\n",
       "yNPKU+KXG+xzXpDYOpvWN8KKPMTg7xlnd1GRUHSDDFVesUlZeB0mjEBcKUJlxfmo1jRYVRuOc653\n",
       "0qUHeiqwJkp+FjrgT1ZJrUUaRzCgxWe+RVmmgqdyQbpsA4YLKityf+twQ349UVsfK8GUhp1cuDcm\n",
       "S3gsvtM9dZeAeziCweAw0SQMsx9zDT2uiV4bVDZ54DjOpg6VyhD6RkXiKNI1aQUbkR/ws3SjO6Pb\n",
       "wGexj9tBBlO0hj3CUCyF6lpcvOV8AahsnOWafw+BvO7ccL4i7k5iUCYui8p+1rMudle6zI4Mecwc\n",
       "Hi74GVI8MLNCGPdbATXCwvvMaaCyzL7yROpQnj3Vks6w38Tgtpou+1laxJ6V7bUQtjssuksYtyDL\n",
       "dQnjfrOtMo3L4qWaZUeW52ayh0Cx4UiLd0fakMTgyvkZPxNdEapz1e9K7zS8tesy0S6tVcqEtcwa\n",
       "YbOFjls8WcyWu92RQFbC7ayq+VDOzGTyhjpaivE+j7gUwv0r6LC+CmGiXaaylAlrHaOs2P0D9mQF\n",
       "U92RQuAEXxB5Nqz3ygpsaZ/1gzDWrJK3VNl32Q4zJsqUMQsmP2hx3BrJn4E4b3gS+NrtjhTibbsf\n",
       "keqGXGfV06tbzthzr4bqrdaIc8FDqi8zNn4zVCMs13ZyczaNez2w5eT+ZP3MYnE2qARjlzHSXtDh\n",
       "OPAPfPAh6nR5oVMAAAAASUVORK5CYII=\n",
       "\" style=\"display:inline;vertical-align:middle;\" /></a></span>"
      ],
      "text/plain": [
       "{A or B or C or D or E or F or G or H or I} |- A or B or C or G or D or E or F or H or I"
      ]
     },
     "metadata": {},
     "output_type": "display_data"
    }
   ],
   "source": [
    "Or(A,B,C,D,E,F,G,H,I).commute(6, 3, assumptions=[Or(A,B,C,D,E,F,G,H,I), *in_bool(A,B,C,D,E,F,G,H,I)])"
   ]
  },
  {
   "cell_type": "code",
   "execution_count": 42,
   "metadata": {},
   "outputs": [
    {
     "data": {
      "text/html": [
       "<span style=\"font-size:20px;\"><a class=\"ProveItLink\" href=\"../__pv_it/demonstrations/7fa65a444b599d7e1ab9b777a790e0e674905c780/expr.ipynb\"><img src=\"data:image/png;base64,iVBORw0KGgoAAAANSUhEUgAAAUoAAAAPBAMAAABw5ZtdAAAAMFBMVEX///8AAAAAAAAAAAAAAAAA\n",
       "AAAAAAAAAAAAAAAAAAAAAAAAAAAAAAAAAAAAAAAAAAAv3aB7AAAAD3RSTlMAIs1UmauJMnZmRLsQ\n",
       "3e++988cAAAACXBIWXMAAA7EAAAOxAGVKw4bAAADW0lEQVRIx9WWy2sTURSHf5O0mTwmbXDhSk27\n",
       "FAutUHRpxOLCoo2F8VVrIoIrIVlYUFwkCxeVFpuNILpowLVtUIMFMclCURAlulIQrTulPtL0bazx\n",
       "viaTM+k/4EBuJ9+c787NueceCvBrG/6Hq9fx/W7dNPckHfBl3sxsp2iinh/JhyjzFhbMkU85Gvcz\n",
       "bxa+0ThjIn9ai1M1Vov6ztXOEugpKuCu87G9xAY9LcgC+7pGmfdrCf0f2I1wrsgpqoBvyeF2drHg\n",
       "HGUsDrupe3MS7qOZVrWj7JyvLN/VFuP58HEYEBnU1gH/MmHGUza2LbK72zzisRB1Fodj1MUsS5AR\n",
       "IUxfZcMd4gbesmEoRNUUU8MRtEJ+nU+I7+VGhfpYHn3rhLm+s8E/z4Yg/xldcot4vmczxEUiy1aZ\n",
       "Jsz7mw17iVvk2ZpBqzrd54BTWfFHS0+JJxfY55Ag7RW2rC+EJXiIzn+nh921CQEBFodwnLi8yNNI\n",
       "EsbidPQ1u54Nzi+jRZXLb4ZFteE4kLFOuqyBjhyM0WQz0zZFxSdVLoLS7OSHJBUlLmrwZ0DnY/V2\n",
       "VSbEcsPiwQs4VeCHwxU1za57auvbk/DKgk3NjQ/LN1nMs26fupPAuLxL8UfTceL6N81iCI754lo3\n",
       "dRPpxnRENc1lJ1RvjiAcFTUeRbAkSyEEt2wcFgsu2qscAz6qkuG5jWWJ61nDToDOl8iPzlO31+5z\n",
       "RIV3aQvIS/vRQEy2t270S7HAZ042s46K2HGBXCF3pKlk/lLXVYFHBTZYbwnKsNxf7HN94HCLisAf\n",
       "tELerRstaR/UvqzwjUw3s6CI3S/ba9wVsuvIt0FdVqsan7OZVWHI49ZwP/NhKNOiipbZAsWGIyj3\n",
       "I6hLom9YG9lgolNCda7yNdjt8k2OuJjlv26SMP+qXS7KFR1anV6iWt2RzicOpMqq95ZcmZctSVdH\n",
       "SzHe5+GRlYIbZ2C3ywckTlaKFiVMlVazG2bv1mpbqKo7Ugjs4v1Mng3jnSoFltqZHhDGmpX/knrT\n",
       "6y67ZO5HaJzYy5ksna9ir1K5brZdY++3UIvYAuJVvQfuYlXmWfX04oo5/NCaVvVWY9A8YiHV03nc\n",
       "k4M0zhhm/6gUqoQ9L64ch8PFs/zFzA6qjtRPYbA+54QngH/gYSVfZms1SAAAAABJRU5ErkJggg==\n",
       "\" style=\"display:inline;vertical-align:middle;\" /></a> <a class=\"ProveItLink\" href=\"../__pv_it/demonstrations/63f87898e0a196d047ad517d65ebbe230f4243620/proof.ipynb\" style=\"text-decoration: none\">&nbsp;&#x22A2;&nbsp;&nbsp;</a><a class=\"ProveItLink\" href=\"../__pv_it/demonstrations/4ac962f4e902591348ad4c76629099a0534b67fb0/expr.ipynb\"><img src=\"data:image/png;base64,iVBORw0KGgoAAAANSUhEUgAAAUkAAAAPBAMAAACb0iBeAAAAMFBMVEX///8AAAAAAAAAAAAAAAAA\n",
       "AAAAAAAAAAAAAAAAAAAAAAAAAAAAAAAAAAAAAAAAAAAv3aB7AAAAD3RSTlMAEHa7q2Yiie9Umd0y\n",
       "zUTye3nKAAAACXBIWXMAAA7EAAAOxAGVKw4bAAADb0lEQVRIx71WTUgUYRh+ZtRZ1x23xTz0d1jT\n",
       "oJuCexAq1nAi6E8J7y5dPIRoRIdOK3kJIlzoUHhxIYmyQwYFHoyW6tRlhai8uZco6KC5ppWu2/t+\n",
       "34wz76y3oIH5duaZ55n3e7953vdb4B8PaxH/5TDanTPWmIDaq6m+VEbSzJ4Jp2++K6xuXpX3Del1\n",
       "5+LJPaS3ByTY0u0MDEuoo5rC4GQqIcDrVQUcb0P0Kb2inm/spHpUoXC/+eI0D28Uto9WzeySPGB6\n",
       "NURrJEp/oVbaLEOYtxKYeilpHBZ3Qu/DFg/7F2h4RgvXwOo6fj/sNRoe89VlHvTSrNB6G3nBo2Nm\n",
       "I0QbpccreYkVSdpQEtITFLFpQ9LsTXLQH9SCwBLn942v5ugc0Z9om2fFnyjmWy9LYYyk4AGRYaYG\n",
       "aUM0iaGkxDpJGs0EpXU/aIiPS1pkx/uEAdDc4ScKfc/DTTqfqCd1/BlH2auRHKWcU+AykERB8IAr\n",
       "ptIHaP2ceUZiaaAQFSGyvAR2XtLY42r6QVDPhdPDEbhJzmkfcZEUe92EYnpCZcR1Afg8IB/9CUmb\n",
       "AFoXQlgFtpRaymxGQdI4bONcSMueRja5W031BZj6rsg/Q6ruLwBHFRbfctKZEA/xnLaNT7PLRzs+\n",
       "IoRtYkRKI2t+Ee/SsPLCcfrzYZD5r/2GY/ciprtAJyfZX+LLd8BzbZptXA3z0ARrHYJmUkU8GJBY\n",
       "pOzMS2nztj/LXRqyFLYztweISXWpg37CFDwfAb+0VzLRvGeaCAzJQ/vsTFnS6sZVQlL6g9JBUNpI\n",
       "ZjNnZ8cEjZ2PdAK1IF7zENV95T69xLUgFZsyHKJjzRnPNBZaJI9LfitEIzc3rIWwRRx0Z+lKY1wS\n",
       "TaEIKmwFe4CqU9IiqSNm661FtcsD7jYz9zbgjzbBUys0L2lFbt47Iam/s7nS+g2vegO0+JrXHUOg\n",
       "bsK45u5kgyW/XZ5y6ccu+f6wegUPX7wv4tM6KeviYq0UIoTFsUe7JI2NYu6gFqSlpWX/6taC8crf\n",
       "m7+7tsBhNyRb41tJ8Czuym7he7QlSv9uQkqXA38aXOn0AOzzSUljG3jrK0A6DqXOlbx36F5dT38Y\n",
       "uh95mG6uxsWq4/RUBM9IVxK4V/0coKGPaB9yUkqY30jc7cB4ePaGlQjS0JpeTzaly8kwSHb5C4vG\n",
       "J4iGSGHdAAAAAElFTkSuQmCC\n",
       "\" style=\"display:inline;vertical-align:middle;\" /></a></span>"
      ],
      "text/plain": [
       "{A or B or C or D or E or F or G or H or I} |- C or D or E or A or B or F or G or H or I"
      ]
     },
     "metadata": {},
     "output_type": "display_data"
    }
   ],
   "source": [
    "Or(A,B,C,D,E,F,G,H,I).group_commute(0, 3, length=2, assumptions=[Or(A,B,C,D,E,F,G,H,I), *in_bool(A,B,C,D,E,F,G,H,I)])"
   ]
  },
  {
   "cell_type": "code",
   "execution_count": 43,
   "metadata": {},
   "outputs": [
    {
     "data": {
      "text/html": [
       "<span style=\"font-size:20px;\"><a class=\"ProveItLink\" href=\"../__pv_it/demonstrations/7087606d9bf84b0b714b20b88e446fd37823ac710/expr.ipynb\"><img src=\"data:image/png;base64,iVBORw0KGgoAAAANSUhEUgAAAIcAAAAPBAMAAAA8KsGMAAAAMFBMVEX///8AAAAAAAAAAAAAAAAA\n",
       "AAAAAAAAAAAAAAAAAAAAAAAAAAAAAAAAAAAAAAAAAAAv3aB7AAAAD3RSTlMAIs1UmauJMnZmRLsQ\n",
       "3e++988cAAAACXBIWXMAAA7EAAAOxAGVKw4bAAAB7UlEQVQ4y61TTShEURQ+8/vm743JwtLPUoSF\n",
       "2DFiRUnqpVBvZKvMRimLmY0aWZiNshtlLZNMFtLMRinRZCNlISvFYpAMYpyfq3fH2qt75rvfPefc\n",
       "c757BoC+RviHr/vPPlh8tSYP/5CnBSvbVE+t1wozhZhgT42sr4TGSDMTzQPYyToucF+C3msEs7Rb\n",
       "lshnvPBFoNembEHyDSeZaUG8F9e5yDFa7xOiLXKQMo0qmnFJMrfIoWVHnRwSubTOuR/RhG7RmLhc\n",
       "rewWeEOzlyXoSm/00O88rmFJYuPqiuncIrkYWBz4EXk5AMIVqjrB3cBg9veNypLkAeDkSudcX7SL\n",
       "JFUVprg1oHSQmiC4AylO5ktCQHQ1PjOr7aBz/qrzJlMAGUEpOspxcBxaOJkxAWZJekUBB7I6Zz45\n",
       "SZYAbgRtUGX2NkUcjNh55tqgVw7DKKD/TeeiFW6HKXfMExe/IplvHiLsTaTowxDpFSsLVnXO5CT9\n",
       "MlYJtxqwT5qMd+kGzFvmTCOvesVWfB86xxMCCTkur4AzJhd0HsIAd0Wk2NxWveJNqVadc5G/XxSD\n",
       "tWlwxmSfUDNpILJFLpV0XZj7rlTH4RSEFtTxueTnu3dJnrNaJ3iKz1KoGrWZmmV19KgIxUXGrNHf\n",
       "51Gj5sO/6dEQgh95A313hs1tVgAAAABJRU5ErkJggg==\n",
       "\" style=\"display:inline;vertical-align:middle;\" /></a> <a class=\"ProveItLink\" href=\"../__pv_it/demonstrations/1185162f4e80a664a732cc84244639576cf7d6b80/proof.ipynb\" style=\"text-decoration: none\">&nbsp;&#x22A2;&nbsp;&nbsp;</a><a class=\"ProveItLink\" href=\"../__pv_it/demonstrations/c01bc2963369294d3aa7c7319fef18fbc94a16150/expr.ipynb\"><img src=\"data:image/png;base64,iVBORw0KGgoAAAANSUhEUgAAAIYAAAAPBAMAAADT6KqyAAAAMFBMVEX///8AAAAAAAAAAAAAAAAA\n",
       "AAAAAAAAAAAAAAAAAAAAAAAAAAAAAAAAAAAAAAAAAAAv3aB7AAAAD3RSTlMAEHa7q2Yiie9Umd0y\n",
       "zUTye3nKAAAACXBIWXMAAA7EAAAOxAGVKw4bAAABq0lEQVQoz5WTPUhCURTH/36nvkyqKRrsY2hT\n",
       "qEkCA18NQfiGdt/YEtoSNCk4R25FS63VkHMUOrdYROGWWzUlfhSBZee8+xTvhYYu3HfP+d3Duefr\n",
       "AX+sbfxnOeb0VW9Wpc+K7km09Y1lmTkTLX1xjaWFGfgvDMAdJkWLiGt/j7/DaCQGpCoyG7sD0kVg\n",
       "4pqUS5NeYu6qCB+BlAkZZUh+P5VZleRAHqix31cmpaEy7OYqCkoTSEdkFiUW6sD3xcotf/Zon4lL\n",
       "byRaVFCKds2UWYJNP5Fht5jut6Jkp4ITQ0EFYPJaYS0uTRu5yKDM7gqctvaGalZGWmt2/lEx05pc\n",
       "s0+UzYEPbQXBsBBPkVmRkfMDODIU1mWXPziwNMGecGw3Pn6eisnIReX3dRXW4P7mUbamQbTqkK6t\n",
       "NU5XJRmNUVyepsL4nbRhTQZ8ggW1WD8VBPMyqhpW2DKjsjgKYnSwY6ewWbfOENmPNiSEKL1VvVMY\n",
       "he8i5u8AL3YlHTfi3OJcPySEGrneD8uM/qnQFQtTS+v1fmfE6Ez07uFPfGeHEJI9XX8oSmbMknEK\n",
       "7xdbCHq3hI+G7AAAAABJRU5ErkJggg==\n",
       "\" style=\"display:inline;vertical-align:middle;\" /></a></span>"
      ],
      "text/plain": [
       "{A or B or C or D} |- C or A or B or D"
      ]
     },
     "metadata": {},
     "output_type": "display_data"
    }
   ],
   "source": [
    "Or(A,B,C,D).group_commute(0, 1, length=2, assumptions=[Or(A,B,C,D)])"
   ]
  },
  {
   "cell_type": "code",
   "execution_count": 44,
   "metadata": {},
   "outputs": [
    {
     "data": {
      "text/html": [
       "<span style=\"font-size:20px;\"><a class=\"ProveItLink\" href=\"../../__pv_it/theorems/a10dbfd9a4efbb6f30af430036ab01697a9460f80/expr.ipynb\"><img src=\"data:image/png;base64,iVBORw0KGgoAAAANSUhEUgAAADYAAAAQBAMAAACvnpHFAAAAMFBMVEX///8AAAAAAAAAAAAAAAAA\n",
       "AAAAAAAAAAAAAAAAAAAAAAAAAAAAAAAAAAAAAAAAAAAv3aB7AAAAD3RSTlMAIs1UmauJMnZmRLsQ\n",
       "3e++988cAAAACXBIWXMAAA7EAAAOxAGVKw4bAAAA40lEQVQY02NgAAEhBhTAcW/Tp7dRUI4+qhwD\n",
       "N1eD0NEFYCbzfwy5CWwCG8BMlngBDDlOgwAwMzG/AGrR3ruX4HIKIBZjQ78BWIpL4wBcH6tkAthI\n",
       "BvsJEOcegJvZ0xsGZi1mqAerYVBE2Hfp/RWwQgcGeYi9Ckhu4ZilA3LAFpd4sHvZ3969e/c2VI5h\n",
       "wzIg4wQDA/8FkAjPBiR9DBu4wUYy8D4AC11AkWMCOhzoRqYPYKEOFDkLBgY5EPsjWIjJAC6XwNbm\n",
       "wHD6vw4D8/5PYE/wRK+BBI/ebkQ8wABXNiTMIAAAYXA8zHUEOxUAAAAASUVORK5CYII=\n",
       "\" style=\"display:inline;vertical-align:middle;\" /></a>, <a class=\"ProveItLink\" href=\"../__pv_it/theorems/c50b73f2d168f6a3012768bd45c62ea92218bcbc0/expr.ipynb\"><img src=\"data:image/png;base64,iVBORw0KGgoAAAANSUhEUgAAADcAAAAQBAMAAABAXPr7AAAAMFBMVEX///8AAAAAAAAAAAAAAAAA\n",
       "AAAAAAAAAAAAAAAAAAAAAAAAAAAAAAAAAAAAAAAAAAAv3aB7AAAAD3RSTlMAZrurzTLvInZEmRDd\n",
       "VIkafcLnAAAACXBIWXMAAA7EAAAOxAGVKw4bAAAA8UlEQVQY02NgwAZ6kvzdDk8AsYT+Gxs7BaDK\n",
       "Ksxg97YEs5IYGJi/oklOZHjOBGKw/2Bg4PyFISnLDGIwAnUx/gCLceicOQKXZAExmD8wMLCkg1ic\n",
       "HhsQOs3lQAw2BQZuG7CDSjYgHLTj8AMQI16jw0QALOSOsHOO25/VIEZ/AQNvIljIAdlBjVNA5qgB\n",
       "8XuQsaw5Z86cOQSTZOIEmfsZiOUbgAS3ArJOJgYgl/UjkGMPDqsDqJJAWzi+AxV8AQt1oEjyAk1j\n",
       "SWBgmOYNFmK5AJecx/DiFTAI9D8bm+hChLiNZkMYLUn60FhBApyPoMEHAQCDjz3xiC/o5wAAAABJ\n",
       "RU5ErkJggg==\n",
       "\" style=\"display:inline;vertical-align:middle;\" /></a>, <a class=\"ProveItLink\" href=\"../__pv_it/demonstrations/dc7d96b1022c0165a0469ead301debeb324b9c180/expr.ipynb\"><img src=\"data:image/png;base64,iVBORw0KGgoAAAANSUhEUgAAADYAAAAQBAMAAACvnpHFAAAAMFBMVEX///8AAAAAAAAAAAAAAAAA\n",
       "AAAAAAAAAAAAAAAAAAAAAAAAAAAAAAAAAAAAAAAAAAAv3aB7AAAAD3RSTlMAEHa7q2Yiie9Umd0y\n",
       "zUTye3nKAAAACXBIWXMAAA7EAAAOxAGVKw4bAAAA4ElEQVQY02NgwAKYdtj+7fYDsRiVXVzZClAk\n",
       "mfkUckUeABkaigycqwPQ5ALYEwwYGIT3ADnrE9DlWCc4MDDcEAByXkDElHfvvgCXu8DA/hPEOQWW\n",
       "equI0MeSWsCQvwHEkQERbBcRZipquzMw1CvAbeFNQMjt7d8lwLAf4QpeZLcwxV1k6AdzQO5hOLEb\n",
       "CAygcgwGzxn2g9icB0CkMLI+BgNmiM/YwSLcqHK8DPkgtxRCglEBRW4SA+dXBobnAhChmwi5Anb1\n",
       "BQwMUiZeD6BCInYQRUw3jKHxgASeW0PCDAIA+qo1SVIYGkQAAAAASUVORK5CYII=\n",
       "\" style=\"display:inline;vertical-align:middle;\" /></a>, <a class=\"ProveItLink\" href=\"../__pv_it/demonstrations/be49e688692580141a3851882e8c02185518c0cd0/expr.ipynb\"><img src=\"data:image/png;base64,iVBORw0KGgoAAAANSUhEUgAAADgAAAAQBAMAAACxV6F2AAAAMFBMVEX///8AAAAAAAAAAAAAAAAA\n",
       "AAAAAAAAAAAAAAAAAAAAAAAAAAAAAAAAAAAAAAAAAAAv3aB7AAAAD3RSTlMAdrurIs1mVDKZ70SJ\n",
       "EN02Mxp8AAAACXBIWXMAAA7EAAAOxAGVKw4bAAAA6UlEQVQY02NgwAYYX6l+XWcNYgn9VzZSdkCV\n",
       "ZeIWcL28AcT6ysDA9h1dMoHHQQHI4PgIJGZhSLIVGIAs+AEk9idALNN79xQuGQBifAAS/gdAYtyB\n",
       "F+A6md1AQvwgs/tBZjC4XoAbKytnA2L0CwCJfLDOEISdT9e/BKmUbwAS9mB3ByA5iDE7FsjQB/F+\n",
       "gQiOde/evXsElWRQ2ANkfAJitm8gIV4FJJ0MCkxQb96CCD9AkWSFelMVIiaIIlnIwMAK9Oa+CRAx\n",
       "1gK45AEemQkMzPqfjZWmQMV4jfZCAipKCRoryID7ECT4IAAAk1I8Z0PO6g0AAAAASUVORK5CYII=\n",
       "\" style=\"display:inline;vertical-align:middle;\" /></a> <a class=\"ProveItLink\" href=\"../__pv_it/demonstrations/c286a7e268825a69fb325afe4c9c38953ee670600/proof.ipynb\" style=\"text-decoration: none\">&nbsp;&#x22A2;&nbsp;&nbsp;</a><a class=\"ProveItLink\" href=\"../__pv_it/demonstrations/5f1f6779662b1daffc416fa9bcde2c8b703101e20/expr.ipynb\"><img src=\"data:image/png;base64,iVBORw0KGgoAAAANSUhEUgAAAUcAAAAVBAMAAAAnVjEQAAAAMFBMVEX///8AAAAAAAAAAAAAAAAA\n",
       "AAAAAAAAAAAAAAAAAAAAAAAAAAAAAAAAAAAAAAAAAAAv3aB7AAAAD3RSTlMAInZUiRDNmWbv3US7\n",
       "qzJazP2FAAAACXBIWXMAAA7EAAAOxAGVKw4bAAAD4klEQVRIx61XTWgTQRT+kjRpzM82iAiK0FoQ\n",
       "KlTagyiK0Ip4FIMXUVRasGBBMKLgD4jBg14qqQdFUDAgKipoUQ/qxVpBEdomHqyijQleBFFiVWrV\n",
       "1vjem02ys82i6A5kMvvNmy9v3vvm7QRADC40Ty3QFWYh8bbLeP7/UYWbZmMm899us6s2fou75Wq8\n",
       "xzYXzMzkxkZtoL8199LTqUGtpZHxEdpty2x6Zu4r5XK7C39koRb4ZNtiZjo3/Iy+k7RCbcBX4j4a\n",
       "p85QQZkzCOQLOrZ0CXyHkzo2SRv6Qr8Rt/+qYj5P1r/o+zk/vHVkATrESYtZA61PUTJ6gPqkIPV5\n",
       "zn2QV0TUxhtp/CChYdtuUHc0pmHGZ+oOEZSwOynMHpoOf6PBMYZGnVioHZmAZoYiTdf3AycoYMpk\n",
       "7UYxTlfVmSIg1aRhvbz1e7qdl8P0gPw5bXdSmIM0HeR9hCqyq8UC1M1jIosZ2siB8BTxxLFCqbap\n",
       "TVS+jj771Ko888WsWN0X7t/pdhHOUiMpbJfdSWGO0nTgFC8m/vp2JxZgrlfwihmQYb++0vIk9qvU\n",
       "oCNZPuNptYrEtP2GhjVKv0O3axjkzGSBDXYn95vK9r8qmOEJObIACd8UrGbANItphvzOmgG4jaIc\n",
       "t2gBXqVkY7p5mZqrYBurZaZqx8pBihYfl81ek5blsawuDjWPKdW/AZodWRBuN75qZkrsQQKDXbio\n",
       "9oFGITayCKlj6iUdr0pq2M1qca7asXKQHyBjeySFuS0G31l5/AhccmShVHpmNDMl9uhPKjz9OCfA\n",
       "kwP5QZnqxkq1KkLnqu6Xhl2QPq7bsXLwnWNmd1KYn3Ls5EwGYr6EIwtaDxyZhtVMib2BvDA+KapN\n",
       "9Jg2C3C3WtWQNY9lFbspBbWg2zF1cKp8Xmc5yeGRGgFfZyDmyOInkx+wmimxpyiX4X6VFPI91C9T\n",
       "IUNFFMWkCrYF49qGOmiYKGcLj1fbNcnMxpQpBj4iHxxZKNvAVVjNROz+8+x2GkOs2mTlreQ9qRhZ\n",
       "TCh2aRiXd6yHholyHvOozx7JIVPZxqR6bnntyIK71RezaSZij7ADwUGpHAtYAhMq7pfNn+gl38/E\n",
       "NYyLxB1T6GWM93Y/Uak41sbMAcrPvR71vLXLkcXDaczErGbsc/iKRLkT7+k9VeqBLzOpXvlmcR3n\n",
       "i0H5FlMuuJtHXgxAw6J0DRneK8Prdiffq+mxR+XXZLsTiz8zGcea0k6rGTkw/kTcDg0gVIArzZO2\n",
       "I24xL6x1Mfi3Zl5UrJc9l5gP0uehO1SLZkPuMHu4AGxzx8kaHrnDHInJBcgNKm+N/zPuMC8GfgOq\n",
       "0zi+CQ0+DwAAAABJRU5ErkJggg==\n",
       "\" style=\"display:inline;vertical-align:middle;\" /></a></span>"
      ],
      "text/plain": [
       "{A in BOOLEAN, B in BOOLEAN, C in BOOLEAN, D in BOOLEAN} |- (A or B or C or D) = (B or C or A or D)"
      ]
     },
     "metadata": {},
     "output_type": "display_data"
    }
   ],
   "source": [
    "Or(A,B,C,D).group_commutation(1, 0, length=2, assumptions=in_bool(A,B,C,D))"
   ]
  },
  {
   "cell_type": "code",
   "execution_count": 45,
   "metadata": {},
   "outputs": [
    {
     "data": {
      "text/html": [
       "<span style=\"font-size:20px;\"><a class=\"ProveItLink\" href=\"../../__pv_it/theorems/a10dbfd9a4efbb6f30af430036ab01697a9460f80/expr.ipynb\"><img src=\"data:image/png;base64,iVBORw0KGgoAAAANSUhEUgAAADYAAAAQBAMAAACvnpHFAAAAMFBMVEX///8AAAAAAAAAAAAAAAAA\n",
       "AAAAAAAAAAAAAAAAAAAAAAAAAAAAAAAAAAAAAAAAAAAv3aB7AAAAD3RSTlMAIs1UmauJMnZmRLsQ\n",
       "3e++988cAAAACXBIWXMAAA7EAAAOxAGVKw4bAAAA40lEQVQY02NgAAEhBhTAcW/Tp7dRUI4+qhwD\n",
       "N1eD0NEFYCbzfwy5CWwCG8BMlngBDDlOgwAwMzG/AGrR3ruX4HIKIBZjQ78BWIpL4wBcH6tkAthI\n",
       "BvsJEOcegJvZ0xsGZi1mqAerYVBE2Hfp/RWwQgcGeYi9Ckhu4ZilA3LAFpd4sHvZ3969e/c2VI5h\n",
       "wzIg4wQDA/8FkAjPBiR9DBu4wUYy8D4AC11AkWMCOhzoRqYPYKEOFDkLBgY5EPsjWIjJAC6XwNbm\n",
       "wHD6vw4D8/5PYE/wRK+BBI/ebkQ8wABXNiTMIAAAYXA8zHUEOxUAAAAASUVORK5CYII=\n",
       "\" style=\"display:inline;vertical-align:middle;\" /></a>, <a class=\"ProveItLink\" href=\"../__pv_it/theorems/c50b73f2d168f6a3012768bd45c62ea92218bcbc0/expr.ipynb\"><img src=\"data:image/png;base64,iVBORw0KGgoAAAANSUhEUgAAADcAAAAQBAMAAABAXPr7AAAAMFBMVEX///8AAAAAAAAAAAAAAAAA\n",
       "AAAAAAAAAAAAAAAAAAAAAAAAAAAAAAAAAAAAAAAAAAAv3aB7AAAAD3RSTlMAZrurzTLvInZEmRDd\n",
       "VIkafcLnAAAACXBIWXMAAA7EAAAOxAGVKw4bAAAA8UlEQVQY02NgwAZ6kvzdDk8AsYT+Gxs7BaDK\n",
       "Ksxg97YEs5IYGJi/oklOZHjOBGKw/2Bg4PyFISnLDGIwAnUx/gCLceicOQKXZAExmD8wMLCkg1ic\n",
       "HhsQOs3lQAw2BQZuG7CDSjYgHLTj8AMQI16jw0QALOSOsHOO25/VIEZ/AQNvIljIAdlBjVNA5qgB\n",
       "8XuQsaw5Z86cOQSTZOIEmfsZiOUbgAS3ArJOJgYgl/UjkGMPDqsDqJJAWzi+AxV8AQt1oEjyAk1j\n",
       "SWBgmOYNFmK5AJecx/DiFTAI9D8bm+hChLiNZkMYLUn60FhBApyPoMEHAQCDjz3xiC/o5wAAAABJ\n",
       "RU5ErkJggg==\n",
       "\" style=\"display:inline;vertical-align:middle;\" /></a>, <a class=\"ProveItLink\" href=\"../__pv_it/demonstrations/dc7d96b1022c0165a0469ead301debeb324b9c180/expr.ipynb\"><img src=\"data:image/png;base64,iVBORw0KGgoAAAANSUhEUgAAADYAAAAQBAMAAACvnpHFAAAAMFBMVEX///8AAAAAAAAAAAAAAAAA\n",
       "AAAAAAAAAAAAAAAAAAAAAAAAAAAAAAAAAAAAAAAAAAAv3aB7AAAAD3RSTlMAEHa7q2Yiie9Umd0y\n",
       "zUTye3nKAAAACXBIWXMAAA7EAAAOxAGVKw4bAAAA4ElEQVQY02NgwAKYdtj+7fYDsRiVXVzZClAk\n",
       "mfkUckUeABkaigycqwPQ5ALYEwwYGIT3ADnrE9DlWCc4MDDcEAByXkDElHfvvgCXu8DA/hPEOQWW\n",
       "equI0MeSWsCQvwHEkQERbBcRZipquzMw1CvAbeFNQMjt7d8lwLAf4QpeZLcwxV1k6AdzQO5hOLEb\n",
       "CAygcgwGzxn2g9icB0CkMLI+BgNmiM/YwSLcqHK8DPkgtxRCglEBRW4SA+dXBobnAhChmwi5Anb1\n",
       "BQwMUiZeD6BCInYQRUw3jKHxgASeW0PCDAIA+qo1SVIYGkQAAAAASUVORK5CYII=\n",
       "\" style=\"display:inline;vertical-align:middle;\" /></a>, <a class=\"ProveItLink\" href=\"../__pv_it/demonstrations/be49e688692580141a3851882e8c02185518c0cd0/expr.ipynb\"><img src=\"data:image/png;base64,iVBORw0KGgoAAAANSUhEUgAAADgAAAAQBAMAAACxV6F2AAAAMFBMVEX///8AAAAAAAAAAAAAAAAA\n",
       "AAAAAAAAAAAAAAAAAAAAAAAAAAAAAAAAAAAAAAAAAAAv3aB7AAAAD3RSTlMAdrurIs1mVDKZ70SJ\n",
       "EN02Mxp8AAAACXBIWXMAAA7EAAAOxAGVKw4bAAAA6UlEQVQY02NgwAYYX6l+XWcNYgn9VzZSdkCV\n",
       "ZeIWcL28AcT6ysDA9h1dMoHHQQHI4PgIJGZhSLIVGIAs+AEk9idALNN79xQuGQBifAAS/gdAYtyB\n",
       "F+A6md1AQvwgs/tBZjC4XoAbKytnA2L0CwCJfLDOEISdT9e/BKmUbwAS9mB3ByA5iDE7FsjQB/F+\n",
       "gQiOde/evXsElWRQ2ANkfAJitm8gIV4FJJ0MCkxQb96CCD9AkWSFelMVIiaIIlnIwMAK9Oa+CRAx\n",
       "1gK45AEemQkMzPqfjZWmQMV4jfZCAipKCRoryID7ECT4IAAAk1I8Z0PO6g0AAAAASUVORK5CYII=\n",
       "\" style=\"display:inline;vertical-align:middle;\" /></a> <a class=\"ProveItLink\" href=\"../__pv_it/demonstrations/2bca65b858005d77d769ba8e5b8767fff23b1ef90/proof.ipynb\" style=\"text-decoration: none\">&nbsp;&#x22A2;&nbsp;&nbsp;</a><a class=\"ProveItLink\" href=\"../__pv_it/demonstrations/f8595ddfb685c9a4a21043383c392f07ddb56a2e0/expr.ipynb\"><img src=\"data:image/png;base64,iVBORw0KGgoAAAANSUhEUgAAAgUAAAAVBAMAAAAk+4CMAAAAMFBMVEX///8AAAAAAAAAAAAAAAAA\n",
       "AAAAAAAAAAAAAAAAAAAAAAAAAAAAAAAAAAAAAAAAAAAv3aB7AAAAD3RSTlMAInZUiRDNmWbv3US7\n",
       "qzJazP2FAAAACXBIWXMAAA7EAAAOxAGVKw4bAAAEZElEQVRYw8VXXYgTVxQ++Zkkm5/ZINIHX0xX\n",
       "BAWL+7BUCqILxUcx+GBBrERQUCh0oYUu/mDwxZfKRqGloNCAqK3gukgf6pPRPoiiZvtQLa3pBl+E\n",
       "Ull3FV3s7uo5c25m7knmmsk64IUzmfnyne9+c/8HAPIQuEQgjJIH/0oj781IdJBVSwGSVgWnvqVc\n",
       "UfEO6qvMrVNagpEhfk48lf+n6guN+/ckFhv2pcK3rxuNL5pt4Pa7jfJygUTr8407v+NvmQMCqRuN\n",
       "WOsaf0aG21WCpLcbsVS7bVa58UFF7KsBTDUFtkOn/kGXR4ycAcgtSix6qggbfpJYP9Y1hlr7gEOW\n",
       "HT0aWbsaYgfxDXJFfLALYDDnppuNJFWHHJnh352tsbQSVa+NCGxUpx6jCzdwZBYg81Jg1m2sNjkj\n",
       "edMomawAHAcOWUZ7M7JrHC9HcTqn6PWzrWHYYc5NNxvpU62+fJFv1vytxMZQdawgsIpOTXuTL4VA\n",
       "alZgie/wkqlI3nqUzMxhnUUOWSq9GTlAAlfpqYrxAYDBnJtuNvIx5y6LPuOb6n9KbYrqyetYrKRT\n",
       "aVwmeWzmcPwlTgpsG13tEcmrk4vnyC1zyDle6slI3KE9psunGF8BGMy56WYjX3PuSGxOrTaJvDvH\n",
       "Px8XWHJYp1KTpt0Za/3V1LHIK2dCNCVvntplAd1Mcogi1bsaWUm9D7tBjYEqgMGcm242st8BM4P2\n",
       "c15W8zGeevb8wEf7QWDcdS71H4ABJkzfGLhfFlh81ns5l2cTmMLkVIkD4OBFKpd81LsZ2VZwK8g1\n",
       "IaqeOs1p6UYjZ7kTILLg3DwBOMfrOq4tn5QFlh70p8L6PMR+kNQZrw08SZqquf+xPyscopjUDUYu\n",
       "e6csexLSanUJlN5h5LSDrvvmyLxsqyz+HV8UWN+EoLo9BbdoAWjqWJ+zQ1mSlyWwH3XtpxyitKl3\n",
       "M/Kjg/Cr74ENSqTTnJZuNOK0gYVDiWcwDo6dvIVOqrXewxyXLlWbsdT0vHK3sLTzhpskr79GvDLv\n",
       "F5mKXxsEN3LZkeYdcQhbAcDfnJduNnKWhxDAz3I9nS7zcNEwZ7S6VG/ltmkZmprQMedkAMOSR7uy\n",
       "dYbMVDnEeiDVuxo56iz1ahrZtdZU6DDnpZuN3CDwV4wv5b6KcxymSwLLFnSqt1vTlLNfCIxOTRAv\n",
       "Sh7tylkSStU4RJHqXY3Q0Qe2KAMnuAP8zHnpZiNbSZjGZT0vzlIHcJR8XxRnLtpJPKp3aksgdnWf\n",
       "PN1tLkNGOXQxdJe50Nrbku0nfane1Qjtgb+oRrbOq+8lH3NeutnIvyhRf1GEja/36mfqh/QZxAcK\n",
       "F7OrOtU7IdFXyW+tXV6d6K3DjUMgMZR8eJNXiwkOUaR6NyMAn9194ErwCcnPnJZuNpJuBv/WHIdw\n",
       "ygoVS1YP2UhqJHjK8ZCqHvW+kJamHraR68FTsvlQao7UOJauHraRXcFzrFooVdMb+LxFD+phG4kU\n",
       "gictC6XqD1W8g3qoRt4AEpHzD7FBxjMAAAAASUVORK5CYII=\n",
       "\" style=\"display:inline;vertical-align:middle;\" /></a></span>"
      ],
      "text/plain": [
       "{A in BOOLEAN, B in BOOLEAN, C in BOOLEAN, D in BOOLEAN} |- (A and B and (A or B or C or D)) = (A and B and (C or A or B or D))"
      ]
     },
     "metadata": {},
     "output_type": "display_data"
    }
   ],
   "source": [
    "And(A, B, Or(A,B,C,D)).inner_expr().operands[2].group_commutation(0, 1, length=2, assumptions=in_bool(A,B,C,D))"
   ]
  },
  {
   "cell_type": "code",
   "execution_count": 46,
   "metadata": {},
   "outputs": [
    {
     "data": {
      "text/html": [
       "<span style=\"font-size:20px;\"><a class=\"ProveItLink\" href=\"../__pv_it/demonstrations/b5d644007110a02b35299afb883b9536a3ae3b4f0/expr.ipynb\"><img src=\"data:image/png;base64,iVBORw0KGgoAAAANSUhEUgAAAOQAAAAVBAMAAACkt18CAAAAMFBMVEX///8AAAAAAAAAAAAAAAAA\n",
       "AAAAAAAAAAAAAAAAAAAAAAAAAAAAAAAAAAAAAAAAAAAv3aB7AAAAD3RSTlMAIs1UmauJMnZmRLsQ\n",
       "3e++988cAAAACXBIWXMAAA7EAAAOxAGVKw4bAAACu0lEQVRIx62VTWgTQRTH/0ma7sYkbehVMO1R\n",
       "LLWIeLNGFG9qKOYgRVIRb0Jz8Cqbi9BSsUHw5CEFwZtt/AgWBBNEUQhIsYeCl1ZvfoBpamlrwfje\n",
       "zGZ3XimSYgY63f3lPzNv3tcCbY8EOjACrYe+NsT2cNvSf4wDeffh6K4fHjQzmSM5yU7sLY1UNjKj\n",
       "L3bB2HTmcmBcoOlmeaxMjprSr6Gmy6+1BN+B8KZgsX5DGq7SZGmDe0pANifZ3TsInS9I1iDz1oFg\n",
       "Vb11ZXWcYh9bHt8iF/wSrKtgSCO8S1S7IUnP8ynBass0XUwIZtGWuEAopVZdndCr7fuzrrfohpEt\n",
       "wXpgShf9qBYJFPOCDfFN5qTOZqfNk90/1J3yMzo14lZJbxOukwc+C3YMppS9fUZrs3xGwmTd6zzf\n",
       "lLponT1C8T2snIVTBTdDBtCKT+xKTrBzMKV97g102N8uC5ZU8zup62XLnTRwnd8ewtHZNYDjehtn\n",
       "YXJUW+ExZZwnDedg66ywdiZv6988NpH38tTXOfyvSIvv8VsKybRanUZc59NMAqGvEGwJe0vtNWCk\n",
       "INiK3zSMLdlpWcqLEV70/Gy2JE16xbbmBPsGU+o7JLpKwdsU7Keaq1JX4ekPX5f+3pOjlb9fU0lo\n",
       "x2/AzUKfqSM9qR/23rSX3C22ogpYpgJ2uBC23UymQomvivSytl0nGGwJptRPbocr/rdgXJHohmCq\n",
       "LD/w80kqeVoTrIsi4vhYDQi2AFPqlzCFHU6/YNwccAOCqbJ8qpopcIgDsiZaSpBuMjcIwTi3PanR\n",
       "qIbIki9VwULkpEdVCMaWPk7paqs1BxGqNMaNhhjmTv0MspnegiH1G8EYfwCG3eNdhjflS7MQjLd8\n",
       "eVo9fmr7qxPPoSMjsNi21G3H/z3cz0Nb40lnjjy4D22tM0fux/JAvhMn2gn8BU702YRGDzcYAAAA\n",
       "AElFTkSuQmCC\n",
       "\" style=\"display:inline;vertical-align:middle;\" /></a> <a class=\"ProveItLink\" href=\"../__pv_it/demonstrations/b4eb317132c0e678cb350e3386ca81529ba9d9430/proof.ipynb\" style=\"text-decoration: none\">&nbsp;&#x22A2;&nbsp;&nbsp;</a><a class=\"ProveItLink\" href=\"../__pv_it/demonstrations/d49d7661cd6cd05e924838491685741e1701525e0/expr.ipynb\"><img src=\"data:image/png;base64,iVBORw0KGgoAAAANSUhEUgAAAUcAAAAVBAMAAAAnVjEQAAAAMFBMVEX///8AAAAAAAAAAAAAAAAA\n",
       "AAAAAAAAAAAAAAAAAAAAAAAAAAAAAAAAAAAAAAAAAAAv3aB7AAAAD3RSTlMAInZUiRDNmWbv3US7\n",
       "qzJazP2FAAAACXBIWXMAAA7EAAAOxAGVKw4bAAAEGklEQVRIx62XXWhURxTHz35v7u7eXYoUWoTE\n",
       "gKAQSR6K0iIakT5KFl9EiRLBgILQiEKsH/TSh/alsmmhRTDQhVA/wQT1QX1xjaAoxl0fjEWz7uJL\n",
       "IVSiUWJqE7fnnJnde89kH8TeCzs7+5uZ/5wzc+bMXQDIgA9PoBn0RZlFgl1c//T/SSXaljKt3Myl\n",
       "vg9XvkTFF6r+jdEWLy6WJx8YMNJR/jPQLVBHbWJqAr1dtVSelbdOlJ1lZkv0pQF+qpXL+6vSxeJC\n",
       "+f5D/HZwXuVUqEZlKouFrRalpQBQqUq2eiWEjjiSzaFDr3HerGkJKwd/ycK6s1h5ROi5btrIRnrR\n",
       "MIq+lyyN43O4Gf0AMYdJrEJ7H6d5k8qjVqzfGBCs9yIW32UEs2ex+BbRgGkkKUfuYafYK/z1PaH6\n",
       "zhwn4kUBVEm8lWwGJ4kNAfyIC6aGberhKfNudOYQ5NoE20erdU32C5L/N9CeX00jSTlKNIEzgeUJ\n",
       "xfAyGuRFcQTxWck60YDEPOpkYa3ypK2To3wzfg4qpQpZlfGy8Gsq/5L9krRzrRine00jSbmHVG1a\n",
       "5DDWYvokfRJkJQ9KoUr0Z8mKZNcb5A4cUlsDG536Gc83omTnRcFaudwl+6ULtDMlgC2mkagceMfB\n",
       "WdXLY+mWgdA8SIQHIPLE6LZA/i2i3SW9AJdhhg9tqgpBdR7shfY1qq3Betw04/ajyIEcDv6BnT3P\n",
       "T4nqODo869r8DKBdp6su+42BZsbbJx3JONjj2DHeByPKN2hlYbsEljqmQYztLx3BRt3k7PajyIHK\n",
       "GHY2VxKVrVfuzxcAf+gTBYFFA3VmIHRSMg721L+YeIbgFIM7g5UCN+2GdWpYEqM9/F6w37nMyn4U\n",
       "OfAPLYZpJCq3cKqJqNyYCekE0DF4fMFAd2mjqoJxsKfRCvulMnIr/szrBLxbDUuX9Hlz2Sgn1Krs\n",
       "R9PF5+un3jDSYiM3qEzcHVU7EcEAeScR0MpyKnEZB3vO4eQwonYbrCFusuyCjhJHLbaHUYaEMAjG\n",
       "kbOd6l+ZMTmiMyToKyr/d323Ac5JZM/rmPEwCvbIMJmdh3GKZKdxUwVPjDWiBGb6BKP0Dl+DYBw5\n",
       "t/lmM1dyXOVoCOu7aNVT9X3VvYTriA6APScZBXuSDIgXOHN8RiGgYjxyWk+xD23/LSsYJY4resY6\n",
       "I9+uD+iMIx9SxsSW0G7BDuVygLasmPEiiCK71i+6kR+JM7zy3TCNt12tH0LFObUrOpVP0Y1ff4vR\n",
       "DLZNPB4DwVL4GnL/AFcvmEZOky/Hykcb1yTLRYpzWVhf2+NBrDJ5S3QjA6busCvWGFhV8OUJ5E3i\n",
       "l/LnzV4MPu7RLyrelz2flA/j56Y/UsuXIn+UA5Q6ev0xsolF/ignM/wC5IdUsMn/GX+UVwD8B4rE\n",
       "O0OIck6hAAAAAElFTkSuQmCC\n",
       "\" style=\"display:inline;vertical-align:middle;\" /></a></span>"
      ],
      "text/plain": [
       "{A and B and (A or B or C or D)} |- (A or B or C or D) = (C or A or B or D)"
      ]
     },
     "metadata": {},
     "output_type": "display_data"
    }
   ],
   "source": [
    "And(A, B, Or(A,B,C,D)).operands[2].group_commutation(0, 1, length=2, assumptions=[And(A, B, Or(A,B,C,D))], auto_simplify=False)"
   ]
  },
  {
   "cell_type": "code",
   "execution_count": 47,
   "metadata": {},
   "outputs": [
    {
     "data": {
      "text/html": [
       "<span style=\"font-size:20px;\"><a class=\"ProveItLink\" href=\"../__pv_it/demonstrations/b5d644007110a02b35299afb883b9536a3ae3b4f0/expr.ipynb\"><img src=\"data:image/png;base64,iVBORw0KGgoAAAANSUhEUgAAAOQAAAAVBAMAAACkt18CAAAAMFBMVEX///8AAAAAAAAAAAAAAAAA\n",
       "AAAAAAAAAAAAAAAAAAAAAAAAAAAAAAAAAAAAAAAAAAAv3aB7AAAAD3RSTlMAIs1UmauJMnZmRLsQ\n",
       "3e++988cAAAACXBIWXMAAA7EAAAOxAGVKw4bAAACu0lEQVRIx62VTWgTQRTH/0ma7sYkbehVMO1R\n",
       "LLWIeLNGFG9qKOYgRVIRb0Jz8Cqbi9BSsUHw5CEFwZtt/AgWBBNEUQhIsYeCl1ZvfoBpamlrwfje\n",
       "zGZ3XimSYgY63f3lPzNv3tcCbY8EOjACrYe+NsT2cNvSf4wDeffh6K4fHjQzmSM5yU7sLY1UNjKj\n",
       "L3bB2HTmcmBcoOlmeaxMjprSr6Gmy6+1BN+B8KZgsX5DGq7SZGmDe0pANifZ3TsInS9I1iDz1oFg\n",
       "Vb11ZXWcYh9bHt8iF/wSrKtgSCO8S1S7IUnP8ynBass0XUwIZtGWuEAopVZdndCr7fuzrrfohpEt\n",
       "wXpgShf9qBYJFPOCDfFN5qTOZqfNk90/1J3yMzo14lZJbxOukwc+C3YMppS9fUZrs3xGwmTd6zzf\n",
       "lLponT1C8T2snIVTBTdDBtCKT+xKTrBzMKV97g102N8uC5ZU8zup62XLnTRwnd8ewtHZNYDjehtn\n",
       "YXJUW+ExZZwnDedg66ywdiZv6988NpH38tTXOfyvSIvv8VsKybRanUZc59NMAqGvEGwJe0vtNWCk\n",
       "INiK3zSMLdlpWcqLEV70/Gy2JE16xbbmBPsGU+o7JLpKwdsU7Keaq1JX4ekPX5f+3pOjlb9fU0lo\n",
       "x2/AzUKfqSM9qR/23rSX3C22ogpYpgJ2uBC23UymQomvivSytl0nGGwJptRPbocr/rdgXJHohmCq\n",
       "LD/w80kqeVoTrIsi4vhYDQi2AFPqlzCFHU6/YNwccAOCqbJ8qpopcIgDsiZaSpBuMjcIwTi3PanR\n",
       "qIbIki9VwULkpEdVCMaWPk7paqs1BxGqNMaNhhjmTv0MspnegiH1G8EYfwCG3eNdhjflS7MQjLd8\n",
       "eVo9fmr7qxPPoSMjsNi21G3H/z3cz0Nb40lnjjy4D22tM0fux/JAvhMn2gn8BU702YRGDzcYAAAA\n",
       "AElFTkSuQmCC\n",
       "\" style=\"display:inline;vertical-align:middle;\" /></a> <a class=\"ProveItLink\" href=\"../__pv_it/demonstrations/d6fa96330d058b58eb3ef8204dcb325fe00bd4e20/proof.ipynb\" style=\"text-decoration: none\">&nbsp;&#x22A2;&nbsp;&nbsp;</a><a class=\"ProveItLink\" href=\"../__pv_it/demonstrations/54aec9244e29ccfdbff76836d38e9e2ba65468c30/expr.ipynb\"><img src=\"data:image/png;base64,iVBORw0KGgoAAAANSUhEUgAAAOQAAAAVBAMAAACkt18CAAAAMFBMVEX///8AAAAAAAAAAAAAAAAA\n",
       "AAAAAAAAAAAAAAAAAAAAAAAAAAAAAAAAAAAAAAAAAAAv3aB7AAAAD3RSTlMAIs1UmauJMnZmRLsQ\n",
       "3e++988cAAAACXBIWXMAAA7EAAAOxAGVKw4bAAACx0lEQVRIx61VTWgTURCebLLZTZutIQcvgm2P\n",
       "YkGRoqdqRPGgIKEQBH9IRLwJ3YsgSMkeWzwkCILgQcGzNf4EC6IJnoSiBHtSPNSbPz0k0WKKaJx5\n",
       "b3bfvoiwpVnYl3nfzjdv3vwFIPKTgSE8MV/IRlC29//3Uzb6kSMeC/sGPtzpFwp7XR07SMvreqG6\n",
       "8x87Ueg3+vVzdQzUotzG+4xf8hW+AZg/NSw9QTf93ITp9yicJ+gahOlmExfL0+hhrAuQ+g5gNMUu\n",
       "UZR5Sr/zI97DEPzQsEQV5RfoeqKDu9sEPWNtSU+R5VFXo4cwCzE4jVBOcC7OySjYt+5JIyl0MdXT\n",
       "sDF8jXXKxhouDhme4COZ3gqyqugKs+nWD9HvdeGUV5Gl4Vg1acRso/1PGnYA3zlSs8jNJEoJrief\n",
       "Thk4NkBX2ChiMF4C2CMCA0eqXCGT0spYDdIXXA07gbZ/i0i7fEPHjyvTs3yrMF1hO8jzch7gMu3u\n",
       "Q7kk4EmYllbKywuz0osAQ+eSPVWAZwAWWPTppgu2N0APYfRzFxVv0i4H43mR4Tw4sp4qGYh/AQ1b\n",
       "xWt11JFXAT6yGIkOFbp1EeviMCX26fFiTXfpJSXO1bCvGK+2CKzQMDLxHI8In66CpOgKa9Dyh65L\n",
       "7Y2BFvF+hfZk4DcoCJ6G4ZGOOPKQ7MWSwQMwoKtSUHSF/aJK3sRlSQQGnDWtvKxNDkIIW+WOBJl2\n",
       "aF0P4sr0oLhDdIVRHbwleQb7DBNttLUmstG21QUNW5YdDkmZGlg8y0MzoActHKIrjNrysZiGALup\n",
       "aTraqDDQ66Up0DCqbWyGkSt8uTc8CAK6GlSKHsLQqwc52W0r/SmIN7ql0EA0GxuF2SegD8554p8q\n",
       "nPRLlgeBoqtBoOga9vyoED9E/tdxXBjKE2tFVuVxvO0nUY2u+2g4R+7agu7KcI7ciucxbxgn2hn4\n",
       "C4Xx2inGtg3AAAAAAElFTkSuQmCC\n",
       "\" style=\"display:inline;vertical-align:middle;\" /></a></span>"
      ],
      "text/plain": [
       "{A and B and (A or B or C or D)} |- A and B and (C or A or B or D)"
      ]
     },
     "metadata": {},
     "output_type": "display_data"
    }
   ],
   "source": [
    "And(A, B, Or(A,B,C,D)).inner_expr().operands[2].group_commute(0, 1, length=2, assumptions=[And(A, B, Or(A,B,C,D))], auto_simplify=False)"
   ]
  },
  {
   "cell_type": "code",
   "execution_count": 48,
   "metadata": {},
   "outputs": [
    {
     "data": {
      "text/html": [
       "<span style=\"font-size:20px;\"><a class=\"ProveItLink\" href=\"../../__pv_it/theorems/a10dbfd9a4efbb6f30af430036ab01697a9460f80/expr.ipynb\"><img src=\"data:image/png;base64,iVBORw0KGgoAAAANSUhEUgAAADYAAAAQBAMAAACvnpHFAAAAMFBMVEX///8AAAAAAAAAAAAAAAAA\n",
       "AAAAAAAAAAAAAAAAAAAAAAAAAAAAAAAAAAAAAAAAAAAv3aB7AAAAD3RSTlMAIs1UmauJMnZmRLsQ\n",
       "3e++988cAAAACXBIWXMAAA7EAAAOxAGVKw4bAAAA40lEQVQY02NgAAEhBhTAcW/Tp7dRUI4+qhwD\n",
       "N1eD0NEFYCbzfwy5CWwCG8BMlngBDDlOgwAwMzG/AGrR3ruX4HIKIBZjQ78BWIpL4wBcH6tkAthI\n",
       "BvsJEOcegJvZ0xsGZi1mqAerYVBE2Hfp/RWwQgcGeYi9Ckhu4ZilA3LAFpd4sHvZ3969e/c2VI5h\n",
       "wzIg4wQDA/8FkAjPBiR9DBu4wUYy8D4AC11AkWMCOhzoRqYPYKEOFDkLBgY5EPsjWIjJAC6XwNbm\n",
       "wHD6vw4D8/5PYE/wRK+BBI/ebkQ8wABXNiTMIAAAYXA8zHUEOxUAAAAASUVORK5CYII=\n",
       "\" style=\"display:inline;vertical-align:middle;\" /></a>, <a class=\"ProveItLink\" href=\"../__pv_it/theorems/c50b73f2d168f6a3012768bd45c62ea92218bcbc0/expr.ipynb\"><img src=\"data:image/png;base64,iVBORw0KGgoAAAANSUhEUgAAADcAAAAQBAMAAABAXPr7AAAAMFBMVEX///8AAAAAAAAAAAAAAAAA\n",
       "AAAAAAAAAAAAAAAAAAAAAAAAAAAAAAAAAAAAAAAAAAAv3aB7AAAAD3RSTlMAZrurzTLvInZEmRDd\n",
       "VIkafcLnAAAACXBIWXMAAA7EAAAOxAGVKw4bAAAA8UlEQVQY02NgwAZ6kvzdDk8AsYT+Gxs7BaDK\n",
       "Ksxg97YEs5IYGJi/oklOZHjOBGKw/2Bg4PyFISnLDGIwAnUx/gCLceicOQKXZAExmD8wMLCkg1ic\n",
       "HhsQOs3lQAw2BQZuG7CDSjYgHLTj8AMQI16jw0QALOSOsHOO25/VIEZ/AQNvIljIAdlBjVNA5qgB\n",
       "8XuQsaw5Z86cOQSTZOIEmfsZiOUbgAS3ArJOJgYgl/UjkGMPDqsDqJJAWzi+AxV8AQt1oEjyAk1j\n",
       "SWBgmOYNFmK5AJecx/DiFTAI9D8bm+hChLiNZkMYLUn60FhBApyPoMEHAQCDjz3xiC/o5wAAAABJ\n",
       "RU5ErkJggg==\n",
       "\" style=\"display:inline;vertical-align:middle;\" /></a>, <a class=\"ProveItLink\" href=\"../__pv_it/demonstrations/dc7d96b1022c0165a0469ead301debeb324b9c180/expr.ipynb\"><img src=\"data:image/png;base64,iVBORw0KGgoAAAANSUhEUgAAADYAAAAQBAMAAACvnpHFAAAAMFBMVEX///8AAAAAAAAAAAAAAAAA\n",
       "AAAAAAAAAAAAAAAAAAAAAAAAAAAAAAAAAAAAAAAAAAAv3aB7AAAAD3RSTlMAEHa7q2Yiie9Umd0y\n",
       "zUTye3nKAAAACXBIWXMAAA7EAAAOxAGVKw4bAAAA4ElEQVQY02NgwAKYdtj+7fYDsRiVXVzZClAk\n",
       "mfkUckUeABkaigycqwPQ5ALYEwwYGIT3ADnrE9DlWCc4MDDcEAByXkDElHfvvgCXu8DA/hPEOQWW\n",
       "equI0MeSWsCQvwHEkQERbBcRZipquzMw1CvAbeFNQMjt7d8lwLAf4QpeZLcwxV1k6AdzQO5hOLEb\n",
       "CAygcgwGzxn2g9icB0CkMLI+BgNmiM/YwSLcqHK8DPkgtxRCglEBRW4SA+dXBobnAhChmwi5Anb1\n",
       "BQwMUiZeD6BCInYQRUw3jKHxgASeW0PCDAIA+qo1SVIYGkQAAAAASUVORK5CYII=\n",
       "\" style=\"display:inline;vertical-align:middle;\" /></a>, <a class=\"ProveItLink\" href=\"../__pv_it/demonstrations/be49e688692580141a3851882e8c02185518c0cd0/expr.ipynb\"><img src=\"data:image/png;base64,iVBORw0KGgoAAAANSUhEUgAAADgAAAAQBAMAAACxV6F2AAAAMFBMVEX///8AAAAAAAAAAAAAAAAA\n",
       "AAAAAAAAAAAAAAAAAAAAAAAAAAAAAAAAAAAAAAAAAAAv3aB7AAAAD3RSTlMAdrurIs1mVDKZ70SJ\n",
       "EN02Mxp8AAAACXBIWXMAAA7EAAAOxAGVKw4bAAAA6UlEQVQY02NgwAYYX6l+XWcNYgn9VzZSdkCV\n",
       "ZeIWcL28AcT6ysDA9h1dMoHHQQHI4PgIJGZhSLIVGIAs+AEk9idALNN79xQuGQBifAAS/gdAYtyB\n",
       "F+A6md1AQvwgs/tBZjC4XoAbKytnA2L0CwCJfLDOEISdT9e/BKmUbwAS9mB3ByA5iDE7FsjQB/F+\n",
       "gQiOde/evXsElWRQ2ANkfAJitm8gIV4FJJ0MCkxQb96CCD9AkWSFelMVIiaIIlnIwMAK9Oa+CRAx\n",
       "1gK45AEemQkMzPqfjZWmQMV4jfZCAipKCRoryID7ECT4IAAAk1I8Z0PO6g0AAAAASUVORK5CYII=\n",
       "\" style=\"display:inline;vertical-align:middle;\" /></a>, <a class=\"ProveItLink\" href=\"../__pv_it/demonstrations/25542f4e2111e214ae31ec917c5346fb112614f30/expr.ipynb\"><img src=\"data:image/png;base64,iVBORw0KGgoAAAANSUhEUgAAADcAAAAQBAMAAABAXPr7AAAAMFBMVEX///8AAAAAAAAAAAAAAAAA\n",
       "AAAAAAAAAAAAAAAAAAAAAAAAAAAAAAAAAAAAAAAAAAAv3aB7AAAAD3RSTlMAdrvvq93NRIkQmTJm\n",
       "IlTMv30WAAAACXBIWXMAAA7EAAAOxAGVKw4bAAAA6klEQVQY02NgwAZEjfKTQwpALCFjFRdVI1RZ\n",
       "hULeTHcw6xtIBZpkDUMvE4jB/gNIzMKQPMcCYnB8BxITwWKMqqFhcEk2EIPtAwMjAzfYjMQJCJ2+\n",
       "J0AMfgWGGojQtQkIB00MaQAx6kOc/kKEchF2liZ/XQli9G/gDYAIJSA7SKYMZE4+A0MDA4jBbRoa\n",
       "GhoEk2RiB5n7iYHhAqcAkMGpgKyTiQHIZf8I8gPYKQGokkBbOH4DOVfAQoIoknxA01g/AHWbg4XY\n",
       "HsAlKxgauxgYpuR/cXGyh7iT06kSIidmpA+NFSTA3gQNPggAAL7KNJxscirvAAAAAElFTkSuQmCC\n",
       "\" style=\"display:inline;vertical-align:middle;\" /></a>, <a class=\"ProveItLink\" href=\"../__pv_it/demonstrations/cbdfe2562fa1ac184d9d2bc9c5634de1ed6f1c810/expr.ipynb\"><img src=\"data:image/png;base64,iVBORw0KGgoAAAANSUhEUgAAADcAAAAQBAMAAABAXPr7AAAAMFBMVEX///8AAAAAAAAAAAAAAAAA\n",
       "AAAAAAAAAAAAAAAAAAAAAAAAAAAAAAAAAAAAAAAAAAAv3aB7AAAAD3RSTlMAdrvvq2bNMolEVCLd\n",
       "EJnHu19WAAAACXBIWXMAAA7EAAAOxAGVKw4bAAAA30lEQVQY02NgwAZkjPKTj0wAsYSMVVyUTVFl\n",
       "FSZy53qCWd+AOBVNcipDNxOIwf4DSERiSEaxgBiMP4HEarAYo86ZY3BJNhCD6QMDO8MCEIsz8QJC\n",
       "p3cEiMGfwFAKEdp2AeGgi0caQIz6Bu5siFA2ws45yX/eghj9Kj4GEKEEZAeJTgOZk3+B4QFYhN3m\n",
       "zJkzh2CSTJwNYG/ygp3DwKuArJOJAcjl/AEXOoAqCbSF4ztcSBBFkkuAgYHtA1yIbQFccgZDYx8D\n",
       "wxX9L94wIV6nuRCGmJE+NFaQAGcTNPggAACdejlzdKH0ugAAAABJRU5ErkJggg==\n",
       "\" style=\"display:inline;vertical-align:middle;\" /></a>, <a class=\"ProveItLink\" href=\"../__pv_it/demonstrations/5cfbddcc80a181fbe47e65a8cc1e0a97096ffa650/expr.ipynb\"><img src=\"data:image/png;base64,iVBORw0KGgoAAAANSUhEUgAAADYAAAAQBAMAAACvnpHFAAAAMFBMVEX///8AAAAAAAAAAAAAAAAA\n",
       "AAAAAAAAAAAAAAAAAAAAAAAAAAAAAAAAAAAAAAAAAAAv3aB7AAAAD3RSTlMAEHa7q2Yiie9Umd1E\n",
       "Ms2lR6veAAAACXBIWXMAAA7EAAAOxAGVKw4bAAAA40lEQVQY02NgwAKYdtj96/YBsRiVTVzZClAk\n",
       "mXkU8kQOABkaigycqwPQ5ALYEwyA9DYgZ30CuhzrBAcGBnsBIOcEREx59+4HcLkHDOxfQZxbYKlz\n",
       "igh9LKkFDPkbQBxZEMH2EGGmorY7A0O9AtwWvgSE3L7+XQIM7y8g5JDdwhTzkKEfyNRatRwkcmM3\n",
       "EBhA5RgMjjPsB7HXg70njKyPwYCZwR9kiT1YhBtVjo8hH+gWts+QYFRAkZvEwAn035VNEKGXCLkC\n",
       "dvUFDAxSJuUBiRAhERsBiAEvjKHxgASOW0PCDAIAvbQ3jOoEz10AAAAASUVORK5CYII=\n",
       "\" style=\"display:inline;vertical-align:middle;\" /></a>, <a class=\"ProveItLink\" href=\"../__pv_it/demonstrations/fc8440502a70f4288255891a01e1367471bf51bf0/expr.ipynb\"><img src=\"data:image/png;base64,iVBORw0KGgoAAAANSUhEUgAAADkAAAAQBAMAAABelcpIAAAAMFBMVEX///8AAAAAAAAAAAAAAAAA\n",
       "AAAAAAAAAAAAAAAAAAAAAAAAAAAAAAAAAAAAAAAAAAAv3aB7AAAAD3RSTlMAdqu7Zu8Qzd0yiSKZ\n",
       "RFTI+uAaAAAACXBIWXMAAA7EAAAOxAGVKw4bAAAA9UlEQVQY02NgwAokgutLmy6AWEL/jRic4o0S\n",
       "UKQNLnKX6YJZ34E4Ak2zwRWG1cwgBucvBgbuP5iyfkwgBtdfBgaWfxBBRouOdrgsO4jB/oGBgfkb\n",
       "WIy3MAGhV9sLxOA3YGBgbQCLbU9AuCqxaQGIcb9JSUn/AFisGmHvjdIfx0CM9RMYGOQfgMUKkF0l\n",
       "ch1kUj0Q24ON5Izo6Ohohsky84KM/gz1MgMDmwGyXmYGIJf3I8TLINCAKgu0iOsn0Jt/IWKCKLJ8\n",
       "AgwMHCDvfoCIsT+Ay95iWLiGgSHJ/pMAj/1nAYjFytcgkuLB9tA4Qga8i6EhCQEAzHNC6aNO8g4A\n",
       "AAAASUVORK5CYII=\n",
       "\" style=\"display:inline;vertical-align:middle;\" /></a> <a class=\"ProveItLink\" href=\"../__pv_it/demonstrations/66648a71340bdfa079a2b00970832cd251e49d8b0/proof.ipynb\" style=\"text-decoration: none\">&nbsp;&#x22A2;&nbsp;&nbsp;</a><a class=\"ProveItLink\" href=\"../__pv_it/demonstrations/661e9d2f274c30b0e886ef56a8ef45cd2e940d2c0/expr.ipynb\"><img src=\"data:image/png;base64,iVBORw0KGgoAAAANSUhEUgAAAVwAAAAVBAMAAAD4GEsPAAAAMFBMVEX///8AAAAAAAAAAAAAAAAA\n",
       "AAAAAAAAAAAAAAAAAAAAAAAAAAAAAAAAAAAAAAAAAAAv3aB7AAAAD3RSTlMAInZUiRDNmWbv3US7\n",
       "qzJazP2FAAAACXBIWXMAAA7EAAAOxAGVKw4bAAAEN0lEQVRIx82XT4gbZRTAXyaZJJtkszlIURES\n",
       "FheqVHaVYqkXIyJ4UDLsRZSupELBBaERhUUpOHjwUmUXQdG10AVxtVG6AeuhXnb0UNmyMVHaqm3G\n",
       "BC+KKOmuNdZ2u/G9932TmTfr3jMw38z3m/e+vPe9PzMBgBwM4RHZ7YExxZc9w2VuuhCy8tS53uIV\n",
       "vNmv5kdD8snGLffStyFo7nN/jBQF2tevt+qhABlrJ9zWKUfKvV93194LrTe97tq3SdX2VjP509ZF\n",
       "2BsSzaQLe2ZqYJZ5Fu3TOGrhkFWOjeDPtTuS3TMB0VdtyXro2l8h3TFc1HB2yMHzeF6kyS/Ktrct\n",
       "OPCJZKQ6sgQQt8Lm2rGcAwmbZ4k27VCSVs50mOTxfrUi2KHTOLyWEyy7icMrId1VjIApdbPXcDiO\n",
       "5+s0U2E7j0slNiTromqeVCs7zE1ONWFEzR4p8aJLfhbPI5gvCDZLHp+VcsY2mWdL3VINzZW6xk0c\n",
       "7sczRYXEIc38TUm6IBirzlM5vaOz43x1eWBuGR5UhViY5Ip7FM+XlFyb7MsFWYxiDr9KucxVikRR\n",
       "6mIhFKATlssC/UYMhwT/WImczFYE4xpqWDpx0JvnrMHujt5ehJdVLsDDttcfltTzEwAzpwXL8/is\n",
       "lBujiuo2pe4WpG0IyZXhN7UzZbWbELnB1dsJMlIFWKSbJ9UC1iAZJu694DnxOecM1kYHDFUZ2a3x\n",
       "+9SzASv5zcWX69JlvihY+obbyIXlipHDSvdngHEO1qafmR4jVdf9h+7e4PlhP3eXT35swYc8qUC+\n",
       "yUY2IaX8MbAEDtqCrfj9ypebpN1p1wSLbcOdYblS/fKCYn8CfETX+LZvrsdIFQxOuoM8LwdKzTh+\n",
       "BD5g276ZazvamwP68YLSDbCTPFpSrkHDv5LFr0IMTMmOWqBrPZ6L8t0IZr0xN1cMMlJVJQhddnex\n",
       "Wq1+ps0F54wydxpzS6XYfm/7x3C3k5uCrXCD7kg5yrXk9ZCugy/Racl6YKpagmgxzmFKUZEmrgvG\n",
       "pTDGW8odyHQCuwtORiUDepZSoUpltUCX3gY3BaOOi9smGLfdpx2pu0rpOiFY+pof+aU/VF5veI3F\n",
       "Z6yqyughAL92tblx+JrWslUUKC3eqqnHk2hbtywYvTjgMRCM2+45yYB6eKQpWCyQqHuvqBZBnuYd\n",
       "wVh1klXe5Pm4MPcB7hd30HRDfRUs68ez6MW7lmBRDNwZ3Vg8Rl5+WZGMs+ZsbYecdzyj6wd7Z/Zy\n",
       "QbIVrxx0h41PDcwtxu6uwO/4bu0fgWijpz5ddKNv9V33BU9UM3iq/kMNBBvFD6H1FyUzL6HuWk+w\n",
       "mcat7wbm6hcCmMcuPB6xgsxs9b+HY32KOHyqZFpfqCjNrvMXWaoDQ3lEdNamn6guBz8UK8Nprv70\n",
       "2nF8NZzm3rULPzSc5u62i5HCMFpr/P8/yP8AMaFUHX7CGPsAAAAASUVORK5CYII=\n",
       "\" style=\"display:inline;vertical-align:middle;\" /></a></span>"
      ],
      "text/plain": [
       "{A in BOOLEAN, B in BOOLEAN, C in BOOLEAN, D in BOOLEAN, E in BOOLEAN, F in BOOLEAN, G in BOOLEAN, H in BOOLEAN} |- (A or B or C or D or E or F or G or H) in BOOLEAN"
      ]
     },
     "metadata": {},
     "output_type": "display_data"
    }
   ],
   "source": [
    "Or(A,B,C,D,E,F,G,H).deduce_in_bool(assumptions=in_bool(A,B,C,D,E,F,G,H))"
   ]
  },
  {
   "cell_type": "markdown",
   "metadata": {},
   "source": [
    "true_eval"
   ]
  },
  {
   "cell_type": "code",
   "execution_count": 49,
   "metadata": {},
   "outputs": [
    {
     "data": {
      "text/html": [
       "<span style=\"font-size:20px;\"> <a class=\"ProveItLink\" href=\"../__pv_it/demonstrations/d54bac212dc02ce69c0b367e294a27ebc3868cdd0/proof.ipynb\" style=\"text-decoration: none\">&nbsp;&#x22A2;&nbsp;&nbsp;</a><a class=\"ProveItLink\" href=\"../__pv_it/demonstrations/e9a62c1be5680a4fc86f6bb8f385b8af8096b24f0/expr.ipynb\"><img src=\"data:image/png;base64,iVBORw0KGgoAAAANSUhEUgAAAOYAAAAVBAMAAACgQo8/AAAAMFBMVEX///8AAAAAAAAAAAAAAAAA\n",
       "AAAAAAAAAAAAAAAAAAAAAAAAAAAAAAAAAAAAAAAAAAAv3aB7AAAAD3RSTlMAInZUiRDNmWbv3US7\n",
       "qzJazP2FAAAACXBIWXMAAA7EAAAOxAGVKw4bAAABs0lEQVRIx7WWsUsDMRTG3/XaXnttj04dnKqT\n",
       "Y5Gia8FZ6CwO5yA4FuogTsXFSXBVl4IoeCAUJ8fqH1C6OAlSHEXBP8HkXoS8JE9dEri0/d7vfV+T\n",
       "5o4CQBP8jF98Cx1Pmfd8qSun2sguWNpRJsfdX5gYD/lirMKPQSmVn8I2qs9yesP3Smv0xZSo+hqL\n",
       "EQ2xPccK80o00huP5TQjZhX5Ul+QTAdGNMROuMwqaYzFFaTUbCyuFpBMF6ZriFX7TOY6aSyKAxV1\n",
       "qNmmuIY004XpGmLlEZN5QBrlF42BmrXUWrVMF6ZriBXnTOY+aYRXgBXDrLGAQptmujBdQ6yS2qc9\n",
       "r1zRxk+Aa8MsmUPcNzIdmK4hFp4x67ykjeVmODDNdmEDjEwXpmmIJV//ywx75aZp1hWpRqYL0zTE\n",
       "atw6jb2F8QeYZnEyNTNdmKapvR0zv+eT0bj6YpkVTidWpgPTNHWGpsw6t4zG7dQyK92AlenANA2x\n",
       "qMdkvotalt1eZBneTeq2JtqQPrw5TGliM8/zzYwnzNM/XoCvscQVKgNvmYds5dFXZDBlSzu+Muv8\n",
       "n5Og7SlzmSt8A6m4dHM4qO6NAAAAAElFTkSuQmCC\n",
       "\" style=\"display:inline;vertical-align:middle;\" /></a></span>"
      ],
      "text/plain": [
       "|- (FALSE or FALSE or TRUE or FALSE or FALSE) = TRUE"
      ]
     },
     "metadata": {},
     "output_type": "display_data"
    }
   ],
   "source": [
    "Or(FALSE,FALSE,TRUE,FALSE,FALSE).evaluation()"
   ]
  },
  {
   "cell_type": "code",
   "execution_count": 50,
   "metadata": {},
   "outputs": [
    {
     "data": {
      "text/html": [
       "<span style=\"font-size:20px;\"><a class=\"ProveItLink\" href=\"../../__pv_it/theorems/a10dbfd9a4efbb6f30af430036ab01697a9460f80/expr.ipynb\"><img src=\"data:image/png;base64,iVBORw0KGgoAAAANSUhEUgAAADYAAAAQBAMAAACvnpHFAAAAMFBMVEX///8AAAAAAAAAAAAAAAAA\n",
       "AAAAAAAAAAAAAAAAAAAAAAAAAAAAAAAAAAAAAAAAAAAv3aB7AAAAD3RSTlMAIs1UmauJMnZmRLsQ\n",
       "3e++988cAAAACXBIWXMAAA7EAAAOxAGVKw4bAAAA40lEQVQY02NgAAEhBhTAcW/Tp7dRUI4+qhwD\n",
       "N1eD0NEFYCbzfwy5CWwCG8BMlngBDDlOgwAwMzG/AGrR3ruX4HIKIBZjQ78BWIpL4wBcH6tkAthI\n",
       "BvsJEOcegJvZ0xsGZi1mqAerYVBE2Hfp/RWwQgcGeYi9Ckhu4ZilA3LAFpd4sHvZ3969e/c2VI5h\n",
       "wzIg4wQDA/8FkAjPBiR9DBu4wUYy8D4AC11AkWMCOhzoRqYPYKEOFDkLBgY5EPsjWIjJAC6XwNbm\n",
       "wHD6vw4D8/5PYE/wRK+BBI/ebkQ8wABXNiTMIAAAYXA8zHUEOxUAAAAASUVORK5CYII=\n",
       "\" style=\"display:inline;vertical-align:middle;\" /></a>, <a class=\"ProveItLink\" href=\"../__pv_it/theorems/c50b73f2d168f6a3012768bd45c62ea92218bcbc0/expr.ipynb\"><img src=\"data:image/png;base64,iVBORw0KGgoAAAANSUhEUgAAADcAAAAQBAMAAABAXPr7AAAAMFBMVEX///8AAAAAAAAAAAAAAAAA\n",
       "AAAAAAAAAAAAAAAAAAAAAAAAAAAAAAAAAAAAAAAAAAAv3aB7AAAAD3RSTlMAZrurzTLvInZEmRDd\n",
       "VIkafcLnAAAACXBIWXMAAA7EAAAOxAGVKw4bAAAA8UlEQVQY02NgwAZ6kvzdDk8AsYT+Gxs7BaDK\n",
       "Ksxg97YEs5IYGJi/oklOZHjOBGKw/2Bg4PyFISnLDGIwAnUx/gCLceicOQKXZAExmD8wMLCkg1ic\n",
       "HhsQOs3lQAw2BQZuG7CDSjYgHLTj8AMQI16jw0QALOSOsHOO25/VIEZ/AQNvIljIAdlBjVNA5qgB\n",
       "8XuQsaw5Z86cOQSTZOIEmfsZiOUbgAS3ArJOJgYgl/UjkGMPDqsDqJJAWzi+AxV8AQt1oEjyAk1j\n",
       "SWBgmOYNFmK5AJecx/DiFTAI9D8bm+hChLiNZkMYLUn60FhBApyPoMEHAQCDjz3xiC/o5wAAAABJ\n",
       "RU5ErkJggg==\n",
       "\" style=\"display:inline;vertical-align:middle;\" /></a>, <a class=\"ProveItLink\" href=\"../__pv_it/demonstrations/dc7d96b1022c0165a0469ead301debeb324b9c180/expr.ipynb\"><img src=\"data:image/png;base64,iVBORw0KGgoAAAANSUhEUgAAADYAAAAQBAMAAACvnpHFAAAAMFBMVEX///8AAAAAAAAAAAAAAAAA\n",
       "AAAAAAAAAAAAAAAAAAAAAAAAAAAAAAAAAAAAAAAAAAAv3aB7AAAAD3RSTlMAEHa7q2Yiie9Umd0y\n",
       "zUTye3nKAAAACXBIWXMAAA7EAAAOxAGVKw4bAAAA4ElEQVQY02NgwAKYdtj+7fYDsRiVXVzZClAk\n",
       "mfkUckUeABkaigycqwPQ5ALYEwwYGIT3ADnrE9DlWCc4MDDcEAByXkDElHfvvgCXu8DA/hPEOQWW\n",
       "equI0MeSWsCQvwHEkQERbBcRZipquzMw1CvAbeFNQMjt7d8lwLAf4QpeZLcwxV1k6AdzQO5hOLEb\n",
       "CAygcgwGzxn2g9icB0CkMLI+BgNmiM/YwSLcqHK8DPkgtxRCglEBRW4SA+dXBobnAhChmwi5Anb1\n",
       "BQwMUiZeD6BCInYQRUw3jKHxgASeW0PCDAIA+qo1SVIYGkQAAAAASUVORK5CYII=\n",
       "\" style=\"display:inline;vertical-align:middle;\" /></a>, <a class=\"ProveItLink\" href=\"../__pv_it/demonstrations/be49e688692580141a3851882e8c02185518c0cd0/expr.ipynb\"><img src=\"data:image/png;base64,iVBORw0KGgoAAAANSUhEUgAAADgAAAAQBAMAAACxV6F2AAAAMFBMVEX///8AAAAAAAAAAAAAAAAA\n",
       "AAAAAAAAAAAAAAAAAAAAAAAAAAAAAAAAAAAAAAAAAAAv3aB7AAAAD3RSTlMAdrurIs1mVDKZ70SJ\n",
       "EN02Mxp8AAAACXBIWXMAAA7EAAAOxAGVKw4bAAAA6UlEQVQY02NgwAYYX6l+XWcNYgn9VzZSdkCV\n",
       "ZeIWcL28AcT6ysDA9h1dMoHHQQHI4PgIJGZhSLIVGIAs+AEk9idALNN79xQuGQBifAAS/gdAYtyB\n",
       "F+A6md1AQvwgs/tBZjC4XoAbKytnA2L0CwCJfLDOEISdT9e/BKmUbwAS9mB3ByA5iDE7FsjQB/F+\n",
       "gQiOde/evXsElWRQ2ANkfAJitm8gIV4FJJ0MCkxQb96CCD9AkWSFelMVIiaIIlnIwMAK9Oa+CRAx\n",
       "1gK45AEemQkMzPqfjZWmQMV4jfZCAipKCRoryID7ECT4IAAAk1I8Z0PO6g0AAAAASUVORK5CYII=\n",
       "\" style=\"display:inline;vertical-align:middle;\" /></a> <a class=\"ProveItLink\" href=\"../__pv_it/demonstrations/f912561a8c2c0b2d2a14d57fc735b6ff4129b1840/proof.ipynb\" style=\"text-decoration: none\">&nbsp;&#x22A2;&nbsp;&nbsp;</a><a class=\"ProveItLink\" href=\"../__pv_it/demonstrations/0fcc6704e44fc9401a3af3ec599f6a275e62364c0/expr.ipynb\"><img src=\"data:image/png;base64,iVBORw0KGgoAAAANSUhEUgAAAOgAAAAVBAMAAAC+i7+MAAAAMFBMVEX///8AAAAAAAAAAAAAAAAA\n",
       "AAAAAAAAAAAAAAAAAAAAAAAAAAAAAAAAAAAAAAAAAAAv3aB7AAAAD3RSTlMAInZUiRDNmWbv3US7\n",
       "qzJazP2FAAAACXBIWXMAAA7EAAAOxAGVKw4bAAACr0lEQVRIx7VWTWgTQRR+m2STzSbd9CCCXhp7\n",
       "8iIpIhYvGhGP0tCjVGgPBQuCCxUU9RC8eJIEQS/2ECj+IChFL96MXgqiph70YtcEj6KkLSKiaeOb\n",
       "92az3dlOT+7CzLz9Zr73vTfzZlkAGIaYnl0cJ8Zo2Pv/RZ/pp47wcFGBrdam9+l9CLr6WDxPlIWT\n",
       "77zqnnAarZ739gOOVVXL92BO02uyT8NH0X0lM9sEaHcAhir44hSZdZiHbVjidgXGH4WpBfRZww2c\n",
       "3SFH8pDhcDJtOoEbouP8RtDnSxdTFr7znZBogJlvsM+sh6ldnM7UAW7qRLNsn5wgtzY2g3OvIVAT\n",
       "zhvbTlyKBlj6Dna5ephaQmruN/quaESPkmkUS1RPKewzXFltbHMi/VPY5hXRATYhFjtumNoSHn9i\n",
       "RFWN6CXeXThBC0SoNs8uAJx76td1QxH1MeOPeDM7YWpPBLKJcaxoRM+T+Ry6ZTK+AIyS4fRGD/Hc\n",
       "UAcSRUXUx1IbgbuAKkALM7Wmo0VPHhbJdGGEo/oBcJ/rHovjGGXvrIBdUUR9zF4PRAPqlgjrL16J\n",
       "uibTe7Rs+XK7SVh6OOmSkUdCaovMGRgHRdTHsmu0vQpVgAXkO2u7iU7iIj62ZDnNX68CZm5tyM/H\n",
       "TERUYja5Pa5QRfy1qqzqnUQXeXfBlgsa33nsVnmLhGenGRGVGN1QKCtUPG1zQYTR0Jzpa3HPUCAt\n",
       "t+LgZx5LGHWXr13i1lJEVGKG2ItURaFiMecF1WpqMj2DbZ84CFkSZ1kI5jCWu+zNfAARUR/Dm5Y7\n",
       "DWEqfsZzD2kfyhrRbwBT/VlItn7xCnm/V/ued2FMLpwfUF4MLImZ171rPhRQV5fpdO2lqCh5sDsQ\n",
       "27NfN2G58Yle0c68ik3TaGqnpmITzev/V4xiXKIHdBP/AEmgurbHoDobAAAAAElFTkSuQmCC\n",
       "\" style=\"display:inline;vertical-align:middle;\" /></a></span>"
      ],
      "text/plain": [
       "{A in BOOLEAN, B in BOOLEAN, C in BOOLEAN, D in BOOLEAN} |- (A or B or TRUE or C or D) = TRUE"
      ]
     },
     "metadata": {},
     "output_type": "display_data"
    }
   ],
   "source": [
    "Or(A,B,TRUE,C,D).evaluation(assumptions=[in_bool(A), in_bool(B), in_bool(C), in_bool(D)])"
   ]
  },
  {
   "cell_type": "markdown",
   "metadata": {},
   "source": [
    "false_eval"
   ]
  },
  {
   "cell_type": "code",
   "execution_count": 51,
   "metadata": {},
   "outputs": [
    {
     "data": {
      "text/html": [
       "<span style=\"font-size:20px;\"><a class=\"ProveItLink\" href=\"../../__pv_it/theorems/df6506bd32d9f7c53b00f834a4c61833f27224860/expr.ipynb\"><img src=\"data:image/png;base64,iVBORw0KGgoAAAANSUhEUgAAADoAAAAPBAMAAABHIsEFAAAAMFBMVEX///8AAAAAAAAAAAAAAAAA\n",
       "AAAAAAAAAAAAAAAAAAAAAAAAAAAAAAAAAAAAAAAAAAAv3aB7AAAAD3RSTlMAIs1UmauJMnZmRLsQ\n",
       "3e++988cAAAACXBIWXMAAA7EAAAOxAGVKw4bAAAAeklEQVQY02NgAAEhBnxAH4vYShiD+T8WWQsY\n",
       "gyVeAI9sYn4BblnGhn4D3LIsDPYTcMsuZqhPANG+d0HgKpqsA4N8AE69HFtc4jfglD3BwMB/Aaes\n",
       "AwMD7wNc9nIB3cv0AZdeOSDm/ohD9vR/HQbm/Z8SUKWAlrwDWgIAg68mgSudtswAAAAASUVORK5C\n",
       "YII=\n",
       "\" style=\"display:inline;vertical-align:middle;\" /></a>, <a class=\"ProveItLink\" href=\"../__pv_it/demonstrations/5eca0a01bc170fd2a23ec710f24c6e923730fa100/expr.ipynb\"><img src=\"data:image/png;base64,iVBORw0KGgoAAAANSUhEUgAAADwAAAAPBAMAAABKPLFCAAAAMFBMVEX///8AAAAAAAAAAAAAAAAA\n",
       "AAAAAAAAAAAAAAAAAAAAAAAAAAAAAAAAAAAAAAAAAAAv3aB7AAAAD3RSTlMAZrurzTLvInZEmRDd\n",
       "VIkafcLnAAAACXBIWXMAAA7EAAAOxAGVKw4bAAAAiElEQVQY02NgIASE/hsbOwVgik+E0kkMDMxf\n",
       "MaVvQCj2HwwMnL9wSjMCdTL+wCnN/IGBgSUdpzSbAgO3TQBO6XiNDhMBMGvNGRA4jCrdX8DAm8iA\n",
       "U7caEL/HbfhnIJZvwCXN+hFI2E/AZTfHd6CSLzjtZklgYJjmjUuaWf+zsYkuhhzQnjSgPQDuvzBu\n",
       "TmTVYAAAAABJRU5ErkJggg==\n",
       "\" style=\"display:inline;vertical-align:middle;\" /></a>, <a class=\"ProveItLink\" href=\"../__pv_it/demonstrations/222df78628a8d057c23c89d7ef57a47a290d4cbf0/expr.ipynb\"><img src=\"data:image/png;base64,iVBORw0KGgoAAAANSUhEUgAAADoAAAAPBAMAAABHIsEFAAAAMFBMVEX///8AAAAAAAAAAAAAAAAA\n",
       "AAAAAAAAAAAAAAAAAAAAAAAAAAAAAAAAAAAAAAAAAAAv3aB7AAAAD3RSTlMAEHa7q2Yiie9Umd0y\n",
       "zUTye3nKAAAACXBIWXMAAA7EAAAOxAGVKw4bAAAAfklEQVQY02NgIAAYlV1c2QowhJ9CKA1FBs7V\n",
       "ARiyk8Ck8B4gsT4Bh+wNASDxggG7LPtPEHkKh2z+BhApg0O2XgHOX70bBLYgy+5PwOFRsGw/mCmA\n",
       "Q3Y/iOA8gEMW7FN2XPbmg1xViMtezq8MDM8FcMkySJl4PcCQAlrSAbQEAILDKSjloTumAAAAAElF\n",
       "TkSuQmCC\n",
       "\" style=\"display:inline;vertical-align:middle;\" /></a>, <a class=\"ProveItLink\" href=\"../__pv_it/demonstrations/2d6e7ed843e206fbcc43d3b1f6a01e2ac6dbf4270/expr.ipynb\"><img src=\"data:image/png;base64,iVBORw0KGgoAAAANSUhEUgAAADwAAAAPBAMAAABKPLFCAAAAMFBMVEX///8AAAAAAAAAAAAAAAAA\n",
       "AAAAAAAAAAAAAAAAAAAAAAAAAAAAAAAAAAAAAAAAAAAv3aB7AAAAD3RSTlMAdrurIs1mVDKZ70SJ\n",
       "EN02Mxp8AAAACXBIWXMAAA7EAAAOxAGVKw4bAAAAhUlEQVQY02NgIASE/isbKTtgim+D0l8ZGNi+\n",
       "Y0oXQiiOj0BiFk5pxh9AYn8CLmmmD0DC/wAuaX4FINFvgEu6XwBI5IN0z3sHAo9RpeUbgIT9Bly6\n",
       "9UHEL5wu/wTEbN9wSYO9fQvkPKx2g72tyoBLNyvQ2/sm4JJm1v9srDQFQw5ozyqgPQDxfTBeAfOs\n",
       "ZQAAAABJRU5ErkJggg==\n",
       "\" style=\"display:inline;vertical-align:middle;\" /></a> <a class=\"ProveItLink\" href=\"../__pv_it/demonstrations/67a32da95726b99039f0e4f1d8015ec8d3cddfec0/proof.ipynb\" style=\"text-decoration: none\">&nbsp;&#x22A2;&nbsp;&nbsp;</a><a class=\"ProveItLink\" href=\"../__pv_it/demonstrations/0a518f5fead9ccd8d8a9733fc052cce2d397c1a20/expr.ipynb\"><img src=\"data:image/png;base64,iVBORw0KGgoAAAANSUhEUgAAAMAAAAAVBAMAAADiAfyoAAAAMFBMVEX///8AAAAAAAAAAAAAAAAA\n",
       "AAAAAAAAAAAAAAAAAAAAAAAAAAAAAAAAAAAAAAAAAAAv3aB7AAAAD3RSTlMAInZUiRDNmWbv3US7\n",
       "qzJazP2FAAAACXBIWXMAAA7EAAAOxAGVKw4bAAACjUlEQVQ4y61VTWgTURCe3SSbZJusOYggCA09\n",
       "9aC0iFjqQSPiURp6Uyq0B8GCYERB/DkED54qKUIF0cNCUURRCl7US6MHBTEmF73YdRePoiSNUPyp\n",
       "jTNvXtiXNM+D5sHOTr55O9+bvxcAyEAflqE3maPite3/CAayWtMefp3ughPV3977t13gZMUrbu2E\n",
       "drYqKxVMwnAP109IxKaFHmmRTOdROHyYZBnADzow83oexu6h8o5+fWIva3iYbwBWfjPBbhLxotDj\n",
       "PpUiQX5SgUAGUV8uqFjsNcr4KmpXaAOH5zRRXMBtBQ1BkvWDE8KtG1ajhEApq2LWAiV7HoVNZeXQ\n",
       "zQ0Uy3jKBQ3BXm6C7Iio9SF8zrLVx2c2o2ITtMWhk0ZRi3NzpBoUbQ7gpIbgHGcIDhTbveSy9TbA\n",
       "8UcqZvwUNQvk6W3etgVLBfUawBENARM/hnpOVDkAk2vsrA/tYlsbizbDTz8CDLFWJ1MJP75Kvy7e\n",
       "p/VQJVgUagEGa8JtDWxuBxOLOV5UMXs1JPgKcIe1EYrIX8LNmghuCW+vzvtlgc3AGBtTWMzohool\n",
       "GyJFArIyEdk1VRI/KJS/EUxiLl05djMytxhRoqlitiDYz2OTs+QNs07d/R3FUw3BImcI7HmB2U5Z\n",
       "5hbTk/6lYmICIMdm9wuEY3CU7Ps0NXhBvY3OrAan/tqSzC2esD6tYgb5isqBHf4A4Ri8JG1OEwF1\n",
       "13bKOZcwdlcaZ5H3Rr4Dw04eOCzNx5hbnOtZIez3zQSfAaZaJyBSXePg5ZittDzv1KjcKLHYZe9S\n",
       "+1s5Zmm8Et+cEeqDLu+YrZuULTuAvizD1Rh6XVL/suSl2WM97w/BDq1lqj8E+nMa2X74N3X/7H8A\n",
       "dxmohdfAI6MAAAAASUVORK5CYII=\n",
       "\" style=\"display:inline;vertical-align:middle;\" /></a></span>"
      ],
      "text/plain": [
       "{A = FALSE, B = FALSE, C = FALSE, D = FALSE} |- (A or B or C or D) = FALSE"
      ]
     },
     "metadata": {},
     "output_type": "display_data"
    }
   ],
   "source": [
    "Equals(Or(A,B,C,D),FALSE).prove(assumptions=[Equals(A,FALSE), Equals(B,FALSE),Equals(C,FALSE),Equals(D,FALSE)])"
   ]
  },
  {
   "cell_type": "code",
   "execution_count": 52,
   "metadata": {},
   "outputs": [
    {
     "data": {
      "text/html": [
       "<span style=\"font-size:20px;\"><a class=\"ProveItLink\" href=\"../../__pv_it/theorems/a10dbfd9a4efbb6f30af430036ab01697a9460f80/expr.ipynb\"><img src=\"data:image/png;base64,iVBORw0KGgoAAAANSUhEUgAAADYAAAAQBAMAAACvnpHFAAAAMFBMVEX///8AAAAAAAAAAAAAAAAA\n",
       "AAAAAAAAAAAAAAAAAAAAAAAAAAAAAAAAAAAAAAAAAAAv3aB7AAAAD3RSTlMAIs1UmauJMnZmRLsQ\n",
       "3e++988cAAAACXBIWXMAAA7EAAAOxAGVKw4bAAAA40lEQVQY02NgAAEhBhTAcW/Tp7dRUI4+qhwD\n",
       "N1eD0NEFYCbzfwy5CWwCG8BMlngBDDlOgwAwMzG/AGrR3ruX4HIKIBZjQ78BWIpL4wBcH6tkAthI\n",
       "BvsJEOcegJvZ0xsGZi1mqAerYVBE2Hfp/RWwQgcGeYi9Ckhu4ZilA3LAFpd4sHvZ3969e/c2VI5h\n",
       "wzIg4wQDA/8FkAjPBiR9DBu4wUYy8D4AC11AkWMCOhzoRqYPYKEOFDkLBgY5EPsjWIjJAC6XwNbm\n",
       "wHD6vw4D8/5PYE/wRK+BBI/ebkQ8wABXNiTMIAAAYXA8zHUEOxUAAAAASUVORK5CYII=\n",
       "\" style=\"display:inline;vertical-align:middle;\" /></a>, <a class=\"ProveItLink\" href=\"../__pv_it/theorems/c50b73f2d168f6a3012768bd45c62ea92218bcbc0/expr.ipynb\"><img src=\"data:image/png;base64,iVBORw0KGgoAAAANSUhEUgAAADcAAAAQBAMAAABAXPr7AAAAMFBMVEX///8AAAAAAAAAAAAAAAAA\n",
       "AAAAAAAAAAAAAAAAAAAAAAAAAAAAAAAAAAAAAAAAAAAv3aB7AAAAD3RSTlMAZrurzTLvInZEmRDd\n",
       "VIkafcLnAAAACXBIWXMAAA7EAAAOxAGVKw4bAAAA8UlEQVQY02NgwAZ6kvzdDk8AsYT+Gxs7BaDK\n",
       "Ksxg97YEs5IYGJi/oklOZHjOBGKw/2Bg4PyFISnLDGIwAnUx/gCLceicOQKXZAExmD8wMLCkg1ic\n",
       "HhsQOs3lQAw2BQZuG7CDSjYgHLTj8AMQI16jw0QALOSOsHOO25/VIEZ/AQNvIljIAdlBjVNA5qgB\n",
       "8XuQsaw5Z86cOQSTZOIEmfsZiOUbgAS3ArJOJgYgl/UjkGMPDqsDqJJAWzi+AxV8AQt1oEjyAk1j\n",
       "SWBgmOYNFmK5AJecx/DiFTAI9D8bm+hChLiNZkMYLUn60FhBApyPoMEHAQCDjz3xiC/o5wAAAABJ\n",
       "RU5ErkJggg==\n",
       "\" style=\"display:inline;vertical-align:middle;\" /></a> <a class=\"ProveItLink\" href=\"../__pv_it/demonstrations/92bf864ebf2e9f9044e855729e3728679f33f7050/proof.ipynb\" style=\"text-decoration: none\">&nbsp;&#x22A2;&nbsp;&nbsp;</a><a class=\"ProveItLink\" href=\"../__pv_it/axioms/8cb68ea6c47a8dc1a51ea6dd86c4b6d1040c41070/expr.ipynb\"><img src=\"data:image/png;base64,iVBORw0KGgoAAAANSUhEUgAAAGwAAAAVBAMAAABRZRb3AAAAMFBMVEX///8AAAAAAAAAAAAAAAAA\n",
       "AAAAAAAAAAAAAAAAAAAAAAAAAAAAAAAAAAAAAAAAAAAv3aB7AAAAD3RSTlMAInZUiRDNmWbv3US7\n",
       "qzJazP2FAAAACXBIWXMAAA7EAAAOxAGVKw4bAAAB8klEQVQ4y31UTyisURT/zb9vxsxgVqJemSav\n",
       "pGSSXrEx9mSyFDWUMvXKt1BvKwsbymxY8OqpFzIkhYWV71lQEhbYMGayfD0NFjY849xzPoNhvltz\n",
       "z/mde3/3nPO79xsAAVgMW7EFe5hNxeervmDB7qXd+5lzcpoEDxXs9xz9T50dArUFcb8vWNG7BleM\n",
       "kSPH5lRNV+yWGEA6Ay1aSBtxBgy4Rxi509ziqJoOOVJN5W3r8OgfaJ7wMUoEtXVmlPEqFST/JAUm\n",
       "iTplNrWfXMjTYvgmggUbWBknzW7RKE2/OJUwKNL0R/PZSisjGJYa0crFqkxeWf8J9K6S7RCho/ki\n",
       "v9advBy2jmyEnUsgxE7ZY6ie18YY9r32tvBrMYrfDHRUH7NzDcxLL7dAs6qgmWHsjST28QHM8p69\n",
       "H2mDo1rAIdL5E9TpEzlZzj2TTCZXTBqMDaF1AeVzcn8RTR5bOWX33JGzpZDLeJMNhl+KpATehITn\n",
       "/onNUoGlD+S0SPgdTcOOUpe2aDcSrj0X20BJs6qjCYahd7RG1rdKwVsJd5vNx+m0aaW63JAWztMi\n",
       "zhodf4Ge3AAcR/dyA+ZlX+RSqe/sLjN2XWyKwPED/gK8GVgOm9mVr10e18sHolvTzKf+Yfyxpn0p\n",
       "Eu+xphU71Ra0Ytk//6d5BsXCdemOTwfcAAAAAElFTkSuQmCC\n",
       "\" style=\"display:inline;vertical-align:middle;\" /></a></span>"
      ],
      "text/plain": [
       "{A in BOOLEAN, B in BOOLEAN} |- (A or B) in BOOLEAN"
      ]
     },
     "metadata": {},
     "output_type": "display_data"
    }
   ],
   "source": [
    "in_bool(Or(A,B)).prove(assumptions=[in_bool(A), in_bool(B)])"
   ]
  },
  {
   "cell_type": "code",
   "execution_count": 53,
   "metadata": {},
   "outputs": [
    {
     "data": {
      "text/html": [
       "<span style=\"font-size:20px;\"><a class=\"ProveItLink\" href=\"../../__pv_it/theorems/a10dbfd9a4efbb6f30af430036ab01697a9460f80/expr.ipynb\"><img src=\"data:image/png;base64,iVBORw0KGgoAAAANSUhEUgAAADYAAAAQBAMAAACvnpHFAAAAMFBMVEX///8AAAAAAAAAAAAAAAAA\n",
       "AAAAAAAAAAAAAAAAAAAAAAAAAAAAAAAAAAAAAAAAAAAv3aB7AAAAD3RSTlMAIs1UmauJMnZmRLsQ\n",
       "3e++988cAAAACXBIWXMAAA7EAAAOxAGVKw4bAAAA40lEQVQY02NgAAEhBhTAcW/Tp7dRUI4+qhwD\n",
       "N1eD0NEFYCbzfwy5CWwCG8BMlngBDDlOgwAwMzG/AGrR3ruX4HIKIBZjQ78BWIpL4wBcH6tkAthI\n",
       "BvsJEOcegJvZ0xsGZi1mqAerYVBE2Hfp/RWwQgcGeYi9Ckhu4ZilA3LAFpd4sHvZ3969e/c2VI5h\n",
       "wzIg4wQDA/8FkAjPBiR9DBu4wUYy8D4AC11AkWMCOhzoRqYPYKEOFDkLBgY5EPsjWIjJAC6XwNbm\n",
       "wHD6vw4D8/5PYE/wRK+BBI/ebkQ8wABXNiTMIAAAYXA8zHUEOxUAAAAASUVORK5CYII=\n",
       "\" style=\"display:inline;vertical-align:middle;\" /></a>, <a class=\"ProveItLink\" href=\"../__pv_it/theorems/c50b73f2d168f6a3012768bd45c62ea92218bcbc0/expr.ipynb\"><img src=\"data:image/png;base64,iVBORw0KGgoAAAANSUhEUgAAADcAAAAQBAMAAABAXPr7AAAAMFBMVEX///8AAAAAAAAAAAAAAAAA\n",
       "AAAAAAAAAAAAAAAAAAAAAAAAAAAAAAAAAAAAAAAAAAAv3aB7AAAAD3RSTlMAZrurzTLvInZEmRDd\n",
       "VIkafcLnAAAACXBIWXMAAA7EAAAOxAGVKw4bAAAA8UlEQVQY02NgwAZ6kvzdDk8AsYT+Gxs7BaDK\n",
       "Ksxg97YEs5IYGJi/oklOZHjOBGKw/2Bg4PyFISnLDGIwAnUx/gCLceicOQKXZAExmD8wMLCkg1ic\n",
       "HhsQOs3lQAw2BQZuG7CDSjYgHLTj8AMQI16jw0QALOSOsHOO25/VIEZ/AQNvIljIAdlBjVNA5qgB\n",
       "8XuQsaw5Z86cOQSTZOIEmfsZiOUbgAS3ArJOJgYgl/UjkGMPDqsDqJJAWzi+AxV8AQt1oEjyAk1j\n",
       "SWBgmOYNFmK5AJecx/DiFTAI9D8bm+hChLiNZkMYLUn60FhBApyPoMEHAQCDjz3xiC/o5wAAAABJ\n",
       "RU5ErkJggg==\n",
       "\" style=\"display:inline;vertical-align:middle;\" /></a>, <a class=\"ProveItLink\" href=\"../__pv_it/demonstrations/dc7d96b1022c0165a0469ead301debeb324b9c180/expr.ipynb\"><img src=\"data:image/png;base64,iVBORw0KGgoAAAANSUhEUgAAADYAAAAQBAMAAACvnpHFAAAAMFBMVEX///8AAAAAAAAAAAAAAAAA\n",
       "AAAAAAAAAAAAAAAAAAAAAAAAAAAAAAAAAAAAAAAAAAAv3aB7AAAAD3RSTlMAEHa7q2Yiie9Umd0y\n",
       "zUTye3nKAAAACXBIWXMAAA7EAAAOxAGVKw4bAAAA4ElEQVQY02NgwAKYdtj+7fYDsRiVXVzZClAk\n",
       "mfkUckUeABkaigycqwPQ5ALYEwwYGIT3ADnrE9DlWCc4MDDcEAByXkDElHfvvgCXu8DA/hPEOQWW\n",
       "equI0MeSWsCQvwHEkQERbBcRZipquzMw1CvAbeFNQMjt7d8lwLAf4QpeZLcwxV1k6AdzQO5hOLEb\n",
       "CAygcgwGzxn2g9icB0CkMLI+BgNmiM/YwSLcqHK8DPkgtxRCglEBRW4SA+dXBobnAhChmwi5Anb1\n",
       "BQwMUiZeD6BCInYQRUw3jKHxgASeW0PCDAIA+qo1SVIYGkQAAAAASUVORK5CYII=\n",
       "\" style=\"display:inline;vertical-align:middle;\" /></a>, <a class=\"ProveItLink\" href=\"../__pv_it/demonstrations/be49e688692580141a3851882e8c02185518c0cd0/expr.ipynb\"><img src=\"data:image/png;base64,iVBORw0KGgoAAAANSUhEUgAAADgAAAAQBAMAAACxV6F2AAAAMFBMVEX///8AAAAAAAAAAAAAAAAA\n",
       "AAAAAAAAAAAAAAAAAAAAAAAAAAAAAAAAAAAAAAAAAAAv3aB7AAAAD3RSTlMAdrurIs1mVDKZ70SJ\n",
       "EN02Mxp8AAAACXBIWXMAAA7EAAAOxAGVKw4bAAAA6UlEQVQY02NgwAYYX6l+XWcNYgn9VzZSdkCV\n",
       "ZeIWcL28AcT6ysDA9h1dMoHHQQHI4PgIJGZhSLIVGIAs+AEk9idALNN79xQuGQBifAAS/gdAYtyB\n",
       "F+A6md1AQvwgs/tBZjC4XoAbKytnA2L0CwCJfLDOEISdT9e/BKmUbwAS9mB3ByA5iDE7FsjQB/F+\n",
       "gQiOde/evXsElWRQ2ANkfAJitm8gIV4FJJ0MCkxQb96CCD9AkWSFelMVIiaIIlnIwMAK9Oa+CRAx\n",
       "1gK45AEemQkMzPqfjZWmQMV4jfZCAipKCRoryID7ECT4IAAAk1I8Z0PO6g0AAAAASUVORK5CYII=\n",
       "\" style=\"display:inline;vertical-align:middle;\" /></a> <a class=\"ProveItLink\" href=\"../__pv_it/demonstrations/562497b31cd01a2c3769a030b08d4016beb44b410/proof.ipynb\" style=\"text-decoration: none\">&nbsp;&#x22A2;&nbsp;&nbsp;</a><a class=\"ProveItLink\" href=\"../__pv_it/demonstrations/9ea2eed5392d81c2a9966e32841742ba2e03f7860/expr.ipynb\"><img src=\"data:image/png;base64,iVBORw0KGgoAAAANSUhEUgAAALwAAAAVBAMAAAAOdJm+AAAAMFBMVEX///8AAAAAAAAAAAAAAAAA\n",
       "AAAAAAAAAAAAAAAAAAAAAAAAAAAAAAAAAAAAAAAAAAAv3aB7AAAAD3RSTlMAInZUiRDNmWbv3US7\n",
       "qzJazP2FAAAACXBIWXMAAA7EAAAOxAGVKw4bAAACrElEQVQ4y61VTWhTQRCevPw0zV9zKgpCQrGg\n",
       "UkkoRdGLEfGm9OFFhFaiUDAgmKIg9mJOXlTSix6q0IIQMUobsB700qeHCtKYHEQFE5Kb4CX9gaBY\n",
       "G2dn9uVlU3PyPci8nW/nfTs78+0GAMJgw+PoNaHF6TX4f/T+aBfrs9Xm3DccjLF/rSveW/pT/fyx\n",
       "C3SPVL86Ego00ipWiliAA12hAX90cLIA7iR5zpawQR1NiBPpNwBqdRU7OAzOmYyKNTGVLQCP3k2f\n",
       "cYUN6MuQ11cTLfCKLwJ1QiI4Xkkr2MQimtthBQttormFUHoXvTdehn72To5T8ILVhSwC2aiCpUSG\n",
       "r9U4bQfNCub4QBb9Qz7Xpk/CEW58NEYdPoW/6xxXE3zhTsy1Jex3NS6wLnaK/bjCLb6st7MP7knA\n",
       "Da4NnMiY+lng+ccAk4sKFiF7UY0bwBZBowxwlgWot4szfOiTuehLaJAggnXQuGOh7aHDPNfGxi3x\n",
       "WXEN8crix3fIvWTVPjf/VIcn5KQhUibSMvh4fW0D4FhGwZasA2jFxUTPagUMJjfZ0Vrt7hQ8Iq73\n",
       "N2uGXP2onJ7FYu8o2DxZXY0rCfNLbIOWncvn8y8kPRjLTH8Oa8ilHDO3N4C78W4q2BIdkLoaty30\n",
       "/NNUlNvoyB6MABcHNeubJdQXkgENcXp+K5hQPLhAwUj2F8T4OIClC0nvgXdCTUjlWeeS3y/wdAy5\n",
       "GkkFEwcNToOCkexXxege+UMK/Sjpaa9wN/hWycnpFK76UFcwJ9ZgWQrPxERWb+jAssI98TZ9wrU/\n",
       "DT/wrLemwFlq8lUlD1WlVa1eNUMlBueLXwqgYEG8+Namaficl6284l2l1ujG9NXBlschq+4/k891\n",
       "Xrxpe+jl1bjreWsP/b4e+IQ99L2ydETtYNf+/Y/9F20xvEihz8lzAAAAAElFTkSuQmCC\n",
       "\" style=\"display:inline;vertical-align:middle;\" /></a></span>"
      ],
      "text/plain": [
       "{A in BOOLEAN, B in BOOLEAN, C in BOOLEAN, D in BOOLEAN} |- (A or B or C or D) in BOOLEAN"
      ]
     },
     "metadata": {},
     "output_type": "display_data"
    }
   ],
   "source": [
    "in_bool(Or(A,B,C,D)).prove(assumptions=[in_bool(A), in_bool(B), in_bool(C), in_bool(D)])"
   ]
  },
  {
   "cell_type": "code",
   "execution_count": 54,
   "metadata": {},
   "outputs": [
    {
     "data": {
      "text/html": [
       "<span style=\"font-size:20px;\"><a class=\"ProveItLink\" href=\"../__pv_it/theorems/431e37fb8f778b3a904ff52080b4c50d3226578d0/expr.ipynb\"><img src=\"data:image/png;base64,iVBORw0KGgoAAAANSUhEUgAAAJIAAAAVBAMAAABf4KrdAAAAMFBMVEX///8AAAAAAAAAAAAAAAAA\n",
       "AAAAAAAAAAAAAAAAAAAAAAAAAAAAAAAAAAAAAAAAAAAv3aB7AAAAD3RSTlMAmd0iq3ZUiRDNZu9E\n",
       "uzLWhN+VAAAACXBIWXMAAA7EAAAOxAGVKw4bAAACEElEQVQ4y32Tv09UQRDHv8/zfurBYUhIrE4q\n",
       "Ew15EowVgeIKSEBIFAoS48WWGCn8AwixobsOAjEeBQUF0VIKEhoaLbjEnqPQ0hxB1GBEnHkzu3u7\n",
       "h36Tz3v7Jt+3uzOzCzilFE9xGEhdFgiCs4rz1ID98MfZMHB9WnDKLAhO+WMgXff/a3MUmqeV8UNg\n",
       "DoLVsuL0gmbCqoyzVecyutYApo6QX0SC1U3FqfcbPTZkvFRzLqMRyumghEIJCVbvFKvsgz+8sKw2\n",
       "N+FcRm+PCJrtPQRTgJrgdD/9g4slhSp/tS6rKWKdmrsGQRUtCE6lzC/e2agUOh8bl9Uu8GqA3i8V\n",
       "06i6XV+7W+36yR1KdpGPMyXAd3SdzzxOtrKVcKOfdIuGV6qCDURInfJuksp8Bm4DviNNDZnnmecV\n",
       "0hBXdk+wgSc9vee8Mh8FPARmAN9RpDWy3JSW8o+ZctSUE06S95SjFJfCmbqpgoXvNP6o6EwmOxOI\n",
       "6HWHsyvruYyq8B0tyuzqbxo/U0j3iOK0YAIf6PWGK97gCfQWeo6n1M0WB7cVcw5HTcfl9nJSzVj7\n",
       "vsmhQ3gOrFPqO3xu+xTT07IgyjXPFvH8YoW2w5UZ49gXtDsweVGpvE6SvasYDSiBBv3PSxypsmC1\n",
       "4a4rgosduAJFdcGqGAvBgg3/u9OBYcUq1xD+/2enA5+UtruveHoUBjoc6TjhL83weY4KSGsEAAAA\n",
       "AElFTkSuQmCC\n",
       "\" style=\"display:inline;vertical-align:middle;\" /></a> <a class=\"ProveItLink\" href=\"../__pv_it/demonstrations/905f14977037902205ceef10874c4b28729d3e1d0/proof.ipynb\" style=\"text-decoration: none\">&nbsp;&#x22A2;&nbsp;&nbsp;</a><a class=\"ProveItLink\" href=\"../__pv_it/axioms/93740805d9480eb9ad930b4e4e09b06b85ab14c70/expr.ipynb\"><img src=\"data:image/png;base64,iVBORw0KGgoAAAANSUhEUgAAADcAAAAPBAMAAACy3Eq1AAAAMFBMVEX///8AAAAAAAAAAAAAAAAA\n",
       "AAAAAAAAAAAAAAAAAAAAAAAAAAAAAAAAAAAAAAAAAAAv3aB7AAAAD3RSTlMAIs1UmauJMnZmRLsQ\n",
       "3e++988cAAAACXBIWXMAAA7EAAAOxAGVKw4bAAABAElEQVQY02NgAAEhBjxAH43Puf9raNB2CJv5\n",
       "P4hkPQAk2BvAInwbGBjiC8BMlngBkHKQODdERB7IXu8AZibmg4UuIGyfDxSYDzaEsaHfAEQnA7Ez\n",
       "RDIeiPUEwKYy2E+AufkCRPI1A8PR62DWYob6BLCLChg4IO5h/93RqglR5sAgHwAWCmDgPQAW4fjI\n",
       "wGAHNo1ji0v8BrCYIoMJRDn3AwYGtu8g1gkGBn6IVWZAaTDgB5rE+QNiKgPvA7AYLzvEBIZ6oJGs\n",
       "v4AMLiCD6QPEqqkLIJL9QF/UKwAZciA7PoLFeC5Bw1YPqOcR0G2n/+swMO//BPYLLAii/4eGagPD\n",
       "BQDgODfLjtZywAAAAABJRU5ErkJggg==\n",
       "\" style=\"display:inline;vertical-align:middle;\" /></a></span>"
      ],
      "text/plain": [
       "{[not]([not](A) and [not](B))} |- A or B"
      ]
     },
     "metadata": {},
     "output_type": "display_data"
    }
   ],
   "source": [
    "Or(A,B).prove(assumptions=[Not(And(Not(A), Not(B)))])"
   ]
  },
  {
   "cell_type": "code",
   "execution_count": 55,
   "metadata": {},
   "outputs": [
    {
     "data": {
      "text/html": [
       "<span style=\"font-size:20px;\"><a class=\"ProveItLink\" href=\"../__pv_it/demonstrations/ec9e746bfd5c06cac72d38c0e1c51e66038dbe1c0/expr.ipynb\"><img src=\"data:image/png;base64,iVBORw0KGgoAAAANSUhEUgAAANcAAAAVBAMAAAAnc2Y5AAAAMFBMVEX///8AAAAAAAAAAAAAAAAA\n",
       "AAAAAAAAAAAAAAAAAAAAAAAAAAAAAAAAAAAAAAAAAAAv3aB7AAAAD3RSTlMAmd0iq3ZUiRDNZu9E\n",
       "uzLWhN+VAAAACXBIWXMAAA7EAAAOxAGVKw4bAAAC50lEQVRIx4WVz2tTQRDHJy/N7x+NHhSKwrMH\n",
       "QZESRRERaQ+5eJAE/HHwUutFpKAFi3hrDvbgoRDoJbSICXjxIM1FUFDIRS8ejL+uNvQfiBh7ENQ4\n",
       "szvv7ey+YAcmZOd95rv7Zmf3ARgrs0uLA+wVKcOekahy4oZ2Y+cA8jU38ZobeOsGbJEAsbFb7Mae\n",
       "oF938pJL4d/s9s/KxW+QaDmIFFn9UmmdVYiFpRvahe4IfzJ1PbjPwUcCyPUAqn1ogoVIkcSLOiwc\n",
       "B4U0RWaspV1EqljnbEkrHOPglABmscYfStAGCxEi6U99HA9BIW25THZj91YQhZd6iU+7OtgRwBY+\n",
       "36pBrm4hQiRDyXlMIYQxZbfZTdvV5mmnN9TAK/Z0aWWhq+ibZci0LESIrJBAEWtDSEaU7SC7qSLc\n",
       "pcfLvOnrOrgkiDcAD2cAUnMWYkTiP1Qt+xphTNlG+BZs72BAys/UYB0WdGHE8op/rl6hjGzDQoxI\n",
       "ajds3Iby/dNoR3B8VHuMxtPUFSWYpbUsKt058FTJPSxMkJLAnV/EyZMdCzEi3jBs7E6AAZxGf82u\n",
       "3h9nSXzcV6VNGFBgog8Jdbxz3CeUUsDs1F+c5ruFGJGcepAGjWhs/GSrAJM+/n/Ppyvtu5NNIpXd\n",
       "1e0mECPiKfk73JF58WZcxnAyrKRHj28G5/VAUMYgZYAlnPiN9fEtxIjEVBlp4wnRGMBJ9K/siitB\n",
       "npqVVvacAr6+KbF0wV2JKfN45ge08z0LMSJxapAUbSQhGtO2HLa5svOkPOROztIUBTrisn83sTSv\n",
       "6nwcDCJE8OzkHwQnRp6aHXZta6MmJLd/4fMTtPm0uiLJFf0QuTSqVB5TVb2uheyI+/Zw5ZA+8F3G\n",
       "2Ly+dvfz5dvjmQgBp+zhGBGFSIxuXL51wbmfpbWjSlP2cIyIQizsM7ttF5xxIfIZjvecQFSEEBtb\n",
       "Y/9/ZtqVjk4fFSHExuI17fYnPvIiZ9zA5ch71MYh6P8Adi2yaeOe/7MAAAAASUVORK5CYII=\n",
       "\" style=\"display:inline;vertical-align:middle;\" /></a> <a class=\"ProveItLink\" href=\"../__pv_it/demonstrations/610b9c79c1f9009bc5554b405decf92f4866e2050/proof.ipynb\" style=\"text-decoration: none\">&nbsp;&#x22A2;&nbsp;&nbsp;</a><a class=\"ProveItLink\" href=\"../__pv_it/demonstrations/17ddc8d3bf20b5815ea26fe906044c982a7f05130/expr.ipynb\"><img src=\"data:image/png;base64,iVBORw0KGgoAAAANSUhEUgAAAF8AAAAPBAMAAABw7A4xAAAAMFBMVEX///8AAAAAAAAAAAAAAAAA\n",
       "AAAAAAAAAAAAAAAAAAAAAAAAAAAAAAAAAAAAAAAAAAAv3aB7AAAAD3RSTlMAIs1UmauJMnZmRLsQ\n",
       "3e++988cAAAACXBIWXMAAA7EAAAOxAGVKw4bAAABX0lEQVQoz2NgAAEhBhKBPhqfc//X0KDtaII8\n",
       "3aGRjAlgJvN/EMl6AEiwN4BF+DYwMMQXoIr19TAw+04AM1niBUDGgsS5C8Ai8kD2egcUsdPXgYS/\n",
       "AFg6MR8sdAHhm/lAgfkNKGJ6IMvWgZmMDf0GIDoZiJ0hGuJBKgSQxdg+g8gSiIsY7CfAwuoCRMNr\n",
       "Boaj11HE5MHkcbDsYoZ6sOdZCxg4IP5j/93RqsmAIpbfgAgvBwb5ALCyAAbeA2ARjo8MDHYTUMTu\n",
       "C8DVc2xxid8AZikymECEuB8AHf0dRew9mATrPcHAwA9xuhlQGgz4gTZy/kARuw+OsAKIixh4H4AF\n",
       "edkhNjHUA53D+gtFDBwDbCAWF1CS6QPEcVMXQDT0A2XrFVDEQFHJkANiyYHc/BGSWi5BvaUHNOfR\n",
       "ARQx5p8MDMtAQqf/6zAw7/8ESVTQaIv+HxqqbQDVDBVjOLI1BGQXADDwV/Kmwt3sAAAAAElFTkSu\n",
       "QmCC\n",
       "\" style=\"display:inline;vertical-align:middle;\" /></a></span>"
      ],
      "text/plain": [
       "{[not]([not](A) and [not](B) and [not](C))} |- A or B or C"
      ]
     },
     "metadata": {},
     "output_type": "display_data"
    }
   ],
   "source": [
    "Or(A, B, C).prove(assumptions=[Not(And(Not(A),Not(B),Not(C)))])"
   ]
  },
  {
   "cell_type": "code",
   "execution_count": 56,
   "metadata": {},
   "outputs": [
    {
     "name": "stdout",
     "output_type": "stream",
     "text": [
      "ProofFailure: Unable to prove A or B:\n",
      "Or.conclude() has failed to find a proof for the disjunction: (A or B)\n"
     ]
    }
   ],
   "source": [
    "# testing a simple Or.conclude() failure\n",
    "try:\n",
    "    Or(A, B).conclude()\n",
    "    assert False, \"Expecting a ProofFailure; should not get this far!\"\n",
    "except ProofFailure as the_error:\n",
    "    print(\"ProofFailure: {}\".format(the_error))"
   ]
  },
  {
   "cell_type": "markdown",
   "metadata": {},
   "source": [
    "### Automatically proving conjunctions are equal via permutation"
   ]
  },
  {
   "cell_type": "code",
   "execution_count": 57,
   "metadata": {},
   "outputs": [
    {
     "data": {
      "text/plain": [
       "False"
      ]
     },
     "metadata": {},
     "output_type": "display_data"
    }
   ],
   "source": [
    "defaults.assumptions = [Or(D, B, A, C)]\n",
    "Or(A, C, B, D).readily_provable()"
   ]
  },
  {
   "cell_type": "code",
   "execution_count": 58,
   "metadata": {},
   "outputs": [
    {
     "data": {
      "text/plain": [
       "False"
      ]
     },
     "metadata": {},
     "output_type": "display_data"
    }
   ],
   "source": [
    "A.readily_provable(assumptions=[Or(D, B, A, C)])"
   ]
  },
  {
   "cell_type": "code",
   "execution_count": 59,
   "metadata": {},
   "outputs": [
    {
     "data": {
      "text/plain": [
       "False"
      ]
     },
     "metadata": {},
     "output_type": "display_data"
    }
   ],
   "source": [
    "Implies(Or(D, B, A, C), Or(A, C, B, D)).readily_provable()"
   ]
  },
  {
   "cell_type": "code",
   "execution_count": 60,
   "metadata": {},
   "outputs": [
    {
     "data": {
      "text/html": [
       "<strong id=\"eq\">eq:</strong> <a class=\"ProveItLink\" href=\"../__pv_it/demonstrations/a867e6fe72984a8e5792b56768a123f0575529c90/expr.ipynb\"><img src=\"data:image/png;base64,iVBORw0KGgoAAAANSUhEUgAAAUcAAAAVBAMAAAAnVjEQAAAAMFBMVEX///8AAAAAAAAAAAAAAAAA\n",
       "AAAAAAAAAAAAAAAAAAAAAAAAAAAAAAAAAAAAAAAAAAAv3aB7AAAAD3RSTlMAInZUiRDNmWbv3US7\n",
       "qzJazP2FAAAACXBIWXMAAA7EAAAOxAGVKw4bAAAEJUlEQVRIx62XXWgTWRTH//lOk3QaRARFaC0I\n",
       "LnSpD6IoohHxURp8EaWKgoUVBCsr+LErDj7oi5IqKIKCgaLuKqioD+qLUUFR7Cb7YHdxGxP2RZBd\n",
       "0lap1W03nnPvTObem7zsOgMzkzlz7u+ce865Z24ApOHDEWgl9IUsIMGl/82bHS3Fya5mmUOe93VO\n",
       "3ubLMjp76iNjI8a848XZ8ugvTWOi44Yg0lP+PZDBkmb8Mnnba4hP1svlPVVDuGmkbM/Vp1icKb/8\n",
       "le422RCRmSKn3vOPV3z5U2i1FYAKwdqz9GC5kVo7bqh9sxihwzaiWdNHSUaozlcVcpEe/9VlwTNZ\n",
       "rPhJB3fQ+BwlYwCI2aw5SZdD/OYYX2T8Omn4w0HynjEpd+pHJnS1/ht0OZpGfNB0UpDpVuEUKZAA\n",
       "GUt+1GSRF3SNTej2a/Q6NgScoHiJifDEHjI04ZVdjgbmmJNXCis8l1UVtd0cjvt0njWdbJO3dX3C\n",
       "NQ8SJ0J8UpNFeXBySLffS+OS08TJYjk/pziHnRl2guIbkwVfYRc4Cuvp/N6xPCcoqqKhFhaPb+n8\n",
       "znRyuVxoXb0C50HayVj0tCbrYxVrULdf5NEfSNfGfpH+Aoe35MwiAbd0tt1wl2fesTwYmoaq1ile\n",
       "bKdzo+nkfpltrLV1CNV65HVVlQU+ixqu6vZn2PFZ8rskA8DpR44jiTdAt9CxZrq/ldFpryLorJvk\n",
       "UusDVLW+Rus5Lly6Jg6erhPaO6hldEjtcfeorYHDk97UPPssjJO1+A4Mu+lH5Rb//Bu4LFsA1fFK\n",
       "AbNKSDhrN4bALFS1m43GtdKM5LAMPTpLOqQ3jdB5qLLEhDfKsy8awD/UHoZwwU0/Psk+mA7JdZqi\n",
       "Og6LVYKdWOEgeg4cmdHULokntlQznRTk4LMDlYIOec4JqKqyNtHWIoZ9FnaQE9a4RLHh+LRsa5mo\n",
       "DE5HyV2E1JV3Oq2PkvNZU7spHqrOCm92chOB8jqEU5HrUmUJ4eQawz7PLWeLVT/spn+LnDDyf8l7\n",
       "zZbRZohVcLMN/KypHWVimH+tMmtyWGYbiSENYk03SsuViQ6JjGGf5hG5yG7n8dhN/1MnAEv+gFs6\n",
       "qMmOFTwlmbjnfeUcNe742CC+dmYkmZy0Gx9SF8K1bk1BlXF7Rzhr2Kf0pNh+vCA6B2MeuF+Mrc4O\n",
       "YjeZOCcHRq44mwuOSTGtqnFHupv1Oo5yMHk+F9eEBokS5P4ANBl1qeQGwz4FI3lVxDmDd5RU2kq8\n",
       "3Nf4mslWOsbbAHeDJLtwpDiVxer6LlUNm0d+kxG6bjpJ5P76AELFqYwCYWOjT6CBEfmx/EOz/bFn\n",
       "Ih6JW0hU4csRyJsSv8gL0GJj8P8OZzuh7vV8Ih+k85E/qIXNIn/IAW4A/f442cIjf8iptNim+IEK\n",
       "tvg/4w95EfAFbVM7Q+lx7HQAAAAASUVORK5CYII=\n",
       "\" style=\"display:inline;vertical-align:middle;\" /></a><br>"
      ],
      "text/plain": [
       "<IPython.core.display.HTML object>"
      ]
     },
     "metadata": {},
     "output_type": "display_data"
    }
   ],
   "source": [
    "eq = Equals(Or(D, B, A, C), Or(A, B, C, D))"
   ]
  },
  {
   "cell_type": "code",
   "execution_count": 61,
   "metadata": {},
   "outputs": [
    {
     "data": {
      "text/html": [
       "<span style=\"font-size:20px;\"><a class=\"ProveItLink\" href=\"../__pv_it/demonstrations/be49e688692580141a3851882e8c02185518c0cd0/expr.ipynb\"><img src=\"data:image/png;base64,iVBORw0KGgoAAAANSUhEUgAAADgAAAAQBAMAAACxV6F2AAAAMFBMVEX///8AAAAAAAAAAAAAAAAA\n",
       "AAAAAAAAAAAAAAAAAAAAAAAAAAAAAAAAAAAAAAAAAAAv3aB7AAAAD3RSTlMAdrurIs1mVDKZ70SJ\n",
       "EN02Mxp8AAAACXBIWXMAAA7EAAAOxAGVKw4bAAAA6UlEQVQY02NgwAYYX6l+XWcNYgn9VzZSdkCV\n",
       "ZeIWcL28AcT6ysDA9h1dMoHHQQHI4PgIJGZhSLIVGIAs+AEk9idALNN79xQuGQBifAAS/gdAYtyB\n",
       "F+A6md1AQvwgs/tBZjC4XoAbKytnA2L0CwCJfLDOEISdT9e/BKmUbwAS9mB3ByA5iDE7FsjQB/F+\n",
       "gQiOde/evXsElWRQ2ANkfAJitm8gIV4FJJ0MCkxQb96CCD9AkWSFelMVIiaIIlnIwMAK9Oa+CRAx\n",
       "1gK45AEemQkMzPqfjZWmQMV4jfZCAipKCRoryID7ECT4IAAAk1I8Z0PO6g0AAAAASUVORK5CYII=\n",
       "\" style=\"display:inline;vertical-align:middle;\" /></a>, <a class=\"ProveItLink\" href=\"../__pv_it/theorems/c50b73f2d168f6a3012768bd45c62ea92218bcbc0/expr.ipynb\"><img src=\"data:image/png;base64,iVBORw0KGgoAAAANSUhEUgAAADcAAAAQBAMAAABAXPr7AAAAMFBMVEX///8AAAAAAAAAAAAAAAAA\n",
       "AAAAAAAAAAAAAAAAAAAAAAAAAAAAAAAAAAAAAAAAAAAv3aB7AAAAD3RSTlMAZrurzTLvInZEmRDd\n",
       "VIkafcLnAAAACXBIWXMAAA7EAAAOxAGVKw4bAAAA8UlEQVQY02NgwAZ6kvzdDk8AsYT+Gxs7BaDK\n",
       "Ksxg97YEs5IYGJi/oklOZHjOBGKw/2Bg4PyFISnLDGIwAnUx/gCLceicOQKXZAExmD8wMLCkg1ic\n",
       "HhsQOs3lQAw2BQZuG7CDSjYgHLTj8AMQI16jw0QALOSOsHOO25/VIEZ/AQNvIljIAdlBjVNA5qgB\n",
       "8XuQsaw5Z86cOQSTZOIEmfsZiOUbgAS3ArJOJgYgl/UjkGMPDqsDqJJAWzi+AxV8AQt1oEjyAk1j\n",
       "SWBgmOYNFmK5AJecx/DiFTAI9D8bm+hChLiNZkMYLUn60FhBApyPoMEHAQCDjz3xiC/o5wAAAABJ\n",
       "RU5ErkJggg==\n",
       "\" style=\"display:inline;vertical-align:middle;\" /></a>, <a class=\"ProveItLink\" href=\"../../__pv_it/theorems/a10dbfd9a4efbb6f30af430036ab01697a9460f80/expr.ipynb\"><img src=\"data:image/png;base64,iVBORw0KGgoAAAANSUhEUgAAADYAAAAQBAMAAACvnpHFAAAAMFBMVEX///8AAAAAAAAAAAAAAAAA\n",
       "AAAAAAAAAAAAAAAAAAAAAAAAAAAAAAAAAAAAAAAAAAAv3aB7AAAAD3RSTlMAIs1UmauJMnZmRLsQ\n",
       "3e++988cAAAACXBIWXMAAA7EAAAOxAGVKw4bAAAA40lEQVQY02NgAAEhBhTAcW/Tp7dRUI4+qhwD\n",
       "N1eD0NEFYCbzfwy5CWwCG8BMlngBDDlOgwAwMzG/AGrR3ruX4HIKIBZjQ78BWIpL4wBcH6tkAthI\n",
       "BvsJEOcegJvZ0xsGZi1mqAerYVBE2Hfp/RWwQgcGeYi9Ckhu4ZilA3LAFpd4sHvZ3969e/c2VI5h\n",
       "wzIg4wQDA/8FkAjPBiR9DBu4wUYy8D4AC11AkWMCOhzoRqYPYKEOFDkLBgY5EPsjWIjJAC6XwNbm\n",
       "wHD6vw4D8/5PYE/wRK+BBI/ebkQ8wABXNiTMIAAAYXA8zHUEOxUAAAAASUVORK5CYII=\n",
       "\" style=\"display:inline;vertical-align:middle;\" /></a>, <a class=\"ProveItLink\" href=\"../__pv_it/demonstrations/dc7d96b1022c0165a0469ead301debeb324b9c180/expr.ipynb\"><img src=\"data:image/png;base64,iVBORw0KGgoAAAANSUhEUgAAADYAAAAQBAMAAACvnpHFAAAAMFBMVEX///8AAAAAAAAAAAAAAAAA\n",
       "AAAAAAAAAAAAAAAAAAAAAAAAAAAAAAAAAAAAAAAAAAAv3aB7AAAAD3RSTlMAEHa7q2Yiie9Umd0y\n",
       "zUTye3nKAAAACXBIWXMAAA7EAAAOxAGVKw4bAAAA4ElEQVQY02NgwAKYdtj+7fYDsRiVXVzZClAk\n",
       "mfkUckUeABkaigycqwPQ5ALYEwwYGIT3ADnrE9DlWCc4MDDcEAByXkDElHfvvgCXu8DA/hPEOQWW\n",
       "equI0MeSWsCQvwHEkQERbBcRZipquzMw1CvAbeFNQMjt7d8lwLAf4QpeZLcwxV1k6AdzQO5hOLEb\n",
       "CAygcgwGzxn2g9icB0CkMLI+BgNmiM/YwSLcqHK8DPkgtxRCglEBRW4SA+dXBobnAhChmwi5Anb1\n",
       "BQwMUiZeD6BCInYQRUw3jKHxgASeW0PCDAIA+qo1SVIYGkQAAAAASUVORK5CYII=\n",
       "\" style=\"display:inline;vertical-align:middle;\" /></a> <a class=\"ProveItLink\" href=\"../__pv_it/demonstrations/4968761e59c49f139af714325419f994fb10ec340/proof.ipynb\" style=\"text-decoration: none\">&nbsp;&#x22A2;&nbsp;&nbsp;</a><a class=\"ProveItLink\" href=\"../__pv_it/demonstrations/a867e6fe72984a8e5792b56768a123f0575529c90/expr.ipynb\"><img src=\"data:image/png;base64,iVBORw0KGgoAAAANSUhEUgAAAUcAAAAVBAMAAAAnVjEQAAAAMFBMVEX///8AAAAAAAAAAAAAAAAA\n",
       "AAAAAAAAAAAAAAAAAAAAAAAAAAAAAAAAAAAAAAAAAAAv3aB7AAAAD3RSTlMAInZUiRDNmWbv3US7\n",
       "qzJazP2FAAAACXBIWXMAAA7EAAAOxAGVKw4bAAAEJUlEQVRIx62XXWgTWRTH//lOk3QaRARFaC0I\n",
       "LnSpD6IoohHxURp8EaWKgoUVBCsr+LErDj7oi5IqKIKCgaLuKqioD+qLUUFR7Cb7YHdxGxP2RZBd\n",
       "0lap1W03nnPvTObem7zsOgMzkzlz7u+ce865Z24ApOHDEWgl9IUsIMGl/82bHS3Fya5mmUOe93VO\n",
       "3ubLMjp76iNjI8a848XZ8ugvTWOi44Yg0lP+PZDBkmb8Mnnba4hP1svlPVVDuGmkbM/Vp1icKb/8\n",
       "le422RCRmSKn3vOPV3z5U2i1FYAKwdqz9GC5kVo7bqh9sxihwzaiWdNHSUaozlcVcpEe/9VlwTNZ\n",
       "rPhJB3fQ+BwlYwCI2aw5SZdD/OYYX2T8Omn4w0HynjEpd+pHJnS1/ht0OZpGfNB0UpDpVuEUKZAA\n",
       "GUt+1GSRF3SNTej2a/Q6NgScoHiJifDEHjI04ZVdjgbmmJNXCis8l1UVtd0cjvt0njWdbJO3dX3C\n",
       "NQ8SJ0J8UpNFeXBySLffS+OS08TJYjk/pziHnRl2guIbkwVfYRc4Cuvp/N6xPCcoqqKhFhaPb+n8\n",
       "znRyuVxoXb0C50HayVj0tCbrYxVrULdf5NEfSNfGfpH+Aoe35MwiAbd0tt1wl2fesTwYmoaq1ile\n",
       "bKdzo+nkfpltrLV1CNV65HVVlQU+ixqu6vZn2PFZ8rskA8DpR44jiTdAt9CxZrq/ldFpryLorJvk\n",
       "UusDVLW+Rus5Lly6Jg6erhPaO6hldEjtcfeorYHDk97UPPssjJO1+A4Mu+lH5Rb//Bu4LFsA1fFK\n",
       "AbNKSDhrN4bALFS1m43GtdKM5LAMPTpLOqQ3jdB5qLLEhDfKsy8awD/UHoZwwU0/Psk+mA7JdZqi\n",
       "Og6LVYKdWOEgeg4cmdHULokntlQznRTk4LMDlYIOec4JqKqyNtHWIoZ9FnaQE9a4RLHh+LRsa5mo\n",
       "DE5HyV2E1JV3Oq2PkvNZU7spHqrOCm92chOB8jqEU5HrUmUJ4eQawz7PLWeLVT/spn+LnDDyf8l7\n",
       "zZbRZohVcLMN/KypHWVimH+tMmtyWGYbiSENYk03SsuViQ6JjGGf5hG5yG7n8dhN/1MnAEv+gFs6\n",
       "qMmOFTwlmbjnfeUcNe742CC+dmYkmZy0Gx9SF8K1bk1BlXF7Rzhr2Kf0pNh+vCA6B2MeuF+Mrc4O\n",
       "YjeZOCcHRq44mwuOSTGtqnFHupv1Oo5yMHk+F9eEBokS5P4ANBl1qeQGwz4FI3lVxDmDd5RU2kq8\n",
       "3Nf4mslWOsbbAHeDJLtwpDiVxer6LlUNm0d+kxG6bjpJ5P76AELFqYwCYWOjT6CBEfmx/EOz/bFn\n",
       "Ih6JW0hU4csRyJsSv8gL0GJj8P8OZzuh7vV8Ih+k85E/qIXNIn/IAW4A/f442cIjf8iptNim+IEK\n",
       "tvg/4w95EfAFbVM7Q+lx7HQAAAAASUVORK5CYII=\n",
       "\" style=\"display:inline;vertical-align:middle;\" /></a></span>"
      ],
      "text/plain": [
       "{D in BOOLEAN, B in BOOLEAN, A in BOOLEAN, C in BOOLEAN} |- (D or B or A or C) = (A or B or C or D)"
      ]
     },
     "metadata": {},
     "output_type": "display_data"
    }
   ],
   "source": [
    "Equals(Or(D, B, A, C), Or(A, B, C, D)).prove(assumptions=in_bool(A, B, C, D))"
   ]
  },
  {
   "cell_type": "code",
   "execution_count": 62,
   "metadata": {},
   "outputs": [
    {
     "data": {
      "text/html": [
       "<span style=\"font-size:20px;\"><a class=\"ProveItLink\" href=\"../__pv_it/demonstrations/be49e688692580141a3851882e8c02185518c0cd0/expr.ipynb\"><img src=\"data:image/png;base64,iVBORw0KGgoAAAANSUhEUgAAADgAAAAQBAMAAACxV6F2AAAAMFBMVEX///8AAAAAAAAAAAAAAAAA\n",
       "AAAAAAAAAAAAAAAAAAAAAAAAAAAAAAAAAAAAAAAAAAAv3aB7AAAAD3RSTlMAdrurIs1mVDKZ70SJ\n",
       "EN02Mxp8AAAACXBIWXMAAA7EAAAOxAGVKw4bAAAA6UlEQVQY02NgwAYYX6l+XWcNYgn9VzZSdkCV\n",
       "ZeIWcL28AcT6ysDA9h1dMoHHQQHI4PgIJGZhSLIVGIAs+AEk9idALNN79xQuGQBifAAS/gdAYtyB\n",
       "F+A6md1AQvwgs/tBZjC4XoAbKytnA2L0CwCJfLDOEISdT9e/BKmUbwAS9mB3ByA5iDE7FsjQB/F+\n",
       "gQiOde/evXsElWRQ2ANkfAJitm8gIV4FJJ0MCkxQb96CCD9AkWSFelMVIiaIIlnIwMAK9Oa+CRAx\n",
       "1gK45AEemQkMzPqfjZWmQMV4jfZCAipKCRoryID7ECT4IAAAk1I8Z0PO6g0AAAAASUVORK5CYII=\n",
       "\" style=\"display:inline;vertical-align:middle;\" /></a>, <a class=\"ProveItLink\" href=\"../__pv_it/theorems/c50b73f2d168f6a3012768bd45c62ea92218bcbc0/expr.ipynb\"><img src=\"data:image/png;base64,iVBORw0KGgoAAAANSUhEUgAAADcAAAAQBAMAAABAXPr7AAAAMFBMVEX///8AAAAAAAAAAAAAAAAA\n",
       "AAAAAAAAAAAAAAAAAAAAAAAAAAAAAAAAAAAAAAAAAAAv3aB7AAAAD3RSTlMAZrurzTLvInZEmRDd\n",
       "VIkafcLnAAAACXBIWXMAAA7EAAAOxAGVKw4bAAAA8UlEQVQY02NgwAZ6kvzdDk8AsYT+Gxs7BaDK\n",
       "Ksxg97YEs5IYGJi/oklOZHjOBGKw/2Bg4PyFISnLDGIwAnUx/gCLceicOQKXZAExmD8wMLCkg1ic\n",
       "HhsQOs3lQAw2BQZuG7CDSjYgHLTj8AMQI16jw0QALOSOsHOO25/VIEZ/AQNvIljIAdlBjVNA5qgB\n",
       "8XuQsaw5Z86cOQSTZOIEmfsZiOUbgAS3ArJOJgYgl/UjkGMPDqsDqJJAWzi+AxV8AQt1oEjyAk1j\n",
       "SWBgmOYNFmK5AJecx/DiFTAI9D8bm+hChLiNZkMYLUn60FhBApyPoMEHAQCDjz3xiC/o5wAAAABJ\n",
       "RU5ErkJggg==\n",
       "\" style=\"display:inline;vertical-align:middle;\" /></a>, <a class=\"ProveItLink\" href=\"../__pv_it/demonstrations/dc7d96b1022c0165a0469ead301debeb324b9c180/expr.ipynb\"><img src=\"data:image/png;base64,iVBORw0KGgoAAAANSUhEUgAAADYAAAAQBAMAAACvnpHFAAAAMFBMVEX///8AAAAAAAAAAAAAAAAA\n",
       "AAAAAAAAAAAAAAAAAAAAAAAAAAAAAAAAAAAAAAAAAAAv3aB7AAAAD3RSTlMAEHa7q2Yiie9Umd0y\n",
       "zUTye3nKAAAACXBIWXMAAA7EAAAOxAGVKw4bAAAA4ElEQVQY02NgwAKYdtj+7fYDsRiVXVzZClAk\n",
       "mfkUckUeABkaigycqwPQ5ALYEwwYGIT3ADnrE9DlWCc4MDDcEAByXkDElHfvvgCXu8DA/hPEOQWW\n",
       "equI0MeSWsCQvwHEkQERbBcRZipquzMw1CvAbeFNQMjt7d8lwLAf4QpeZLcwxV1k6AdzQO5hOLEb\n",
       "CAygcgwGzxn2g9icB0CkMLI+BgNmiM/YwSLcqHK8DPkgtxRCglEBRW4SA+dXBobnAhChmwi5Anb1\n",
       "BQwMUiZeD6BCInYQRUw3jKHxgASeW0PCDAIA+qo1SVIYGkQAAAAASUVORK5CYII=\n",
       "\" style=\"display:inline;vertical-align:middle;\" /></a>, <a class=\"ProveItLink\" href=\"../../__pv_it/theorems/a10dbfd9a4efbb6f30af430036ab01697a9460f80/expr.ipynb\"><img src=\"data:image/png;base64,iVBORw0KGgoAAAANSUhEUgAAADYAAAAQBAMAAACvnpHFAAAAMFBMVEX///8AAAAAAAAAAAAAAAAA\n",
       "AAAAAAAAAAAAAAAAAAAAAAAAAAAAAAAAAAAAAAAAAAAv3aB7AAAAD3RSTlMAIs1UmauJMnZmRLsQ\n",
       "3e++988cAAAACXBIWXMAAA7EAAAOxAGVKw4bAAAA40lEQVQY02NgAAEhBhTAcW/Tp7dRUI4+qhwD\n",
       "N1eD0NEFYCbzfwy5CWwCG8BMlngBDDlOgwAwMzG/AGrR3ruX4HIKIBZjQ78BWIpL4wBcH6tkAthI\n",
       "BvsJEOcegJvZ0xsGZi1mqAerYVBE2Hfp/RWwQgcGeYi9Ckhu4ZilA3LAFpd4sHvZ3969e/c2VI5h\n",
       "wzIg4wQDA/8FkAjPBiR9DBu4wUYy8D4AC11AkWMCOhzoRqYPYKEOFDkLBgY5EPsjWIjJAC6XwNbm\n",
       "wHD6vw4D8/5PYE/wRK+BBI/ebkQ8wABXNiTMIAAAYXA8zHUEOxUAAAAASUVORK5CYII=\n",
       "\" style=\"display:inline;vertical-align:middle;\" /></a> <a class=\"ProveItLink\" href=\"../__pv_it/demonstrations/850300f485ad8cdcc92d45ba0fd5f05495faad460/proof.ipynb\" style=\"text-decoration: none\">&nbsp;&#x22A2;&nbsp;&nbsp;</a><a class=\"ProveItLink\" href=\"../__pv_it/demonstrations/40bc7d08902a4106bb48dbdcb05d22bc27f8499c0/expr.ipynb\"><img src=\"data:image/png;base64,iVBORw0KGgoAAAANSUhEUgAAAUcAAAAVBAMAAAAnVjEQAAAAMFBMVEX///8AAAAAAAAAAAAAAAAA\n",
       "AAAAAAAAAAAAAAAAAAAAAAAAAAAAAAAAAAAAAAAAAAAv3aB7AAAAD3RSTlMAInZUiRDNmWbv3US7\n",
       "qzJazP2FAAAACXBIWXMAAA7EAAAOxAGVKw4bAAAD9klEQVRIx61XXYhMYRh+5ndnZ2Zn50KKFLYU\n",
       "RetCtC5YyaV2ciNa4mKLUlaU3zK54GY1S5GiTG1+othww421isjadWGJHTO5UaL9obXYtd73/c75\n",
       "zvm+2SvOqfPNzPN+7/P+fu85AyCLAK7QTGAgzEISXv7fPLOB1IJq2GGe/X/kd3hZQffS6b6hPivu\n",
       "RP9UafClpRFbWnobarZ59tK9uJp+hSc1rk19pfwsE+qYLpX2VMwQ+ydLL17RZ57M7mBknJz6xl9e\n",
       "8/JRdtX2AGVSrMvRj4zK1JJFiBzJmxgi07TEc7YvillJ/Qrhszmsum7awiXa8sfE6km/QMVoA2ry\n",
       "rD1Gy2GWnOBF5W8+UT5sJ++ZOi1htt6i5XjWwIiizEi77aQwO1KfQuw5rTWjpq0QOZD6YWLDpFLT\n",
       "CZyifElwHMRDJk2yhkpBgcgKzF3UjbWb83EfBgasa2Hj52wna/1STyHOG1Odpq0EOZAYM7FG0ktN\n",
       "EE8OK/l3eoQzx70WpfzWqIYvs1echfV072ckKh3xCX6MOBc0ssIu28mVfqmn0MI/M+2mrTpyIH7G\n",
       "xPpZ+zvheRyQ8vdwegecKJK6Tbbdco9nURpA1u0GRpxYyzXYaDt5wC/VCqFf0q8V0xb1f+ydhU1y\n",
       "MFPk94BKAJcfBTm1H4AG2ZOZbFimslNXQVhavsWbMxoD7mKYNU+KSzfk4nCd1DpSrRAd88LQtjDc\n",
       "2zCYNzE5JwnKZGIHutzyo9zNX78CV9QIoN5uEsXMAJJydm97U0pjQDvms1NNdia7/FKtkBz1dmhb\n",
       "aMwicsHE5JzU/abx0ImLbvnxU2TxbESd0zT1dvSPfN2JVfJ5WdacgSH89GBZusV28qJfqhVqR6Tc\n",
       "pi084zpVTPu8sZ6cyIwoKi5/YkKNtea4ylf9gHPgeCrvlM/bsqFiYNhEW4vuoa9y0pVqhaQ4uca0\n",
       "hSk4k8Rnn2Mr5GUSdLnl36ICRvGL0yZ5lW0mzigZT0hEYWBUTyR5oKy2e7LLL9UKMiHRbNrKTOh2\n",
       "8+yTz7FL7HYRvW75nzgJWPxetwmG1cQKn+7W4x0bYGApiiXO2emwM9nrl2oFHtuI5kxb3P+Zccs+\n",
       "VSzN9hM9MjmY5oH7xNiqHMNuMnFekcWuOs8/Cview+9ic7h9RvXE8V0b/VJPgSZSaoNlK07Jvt9m\n",
       "YvTIT12T3DfjMxWVXiVe7NNPMzVKh/iR774gOWMbm/vedMPAWqfbEOkfp/LdtJ387Jd6JLFjpaOW\n",
       "LXZg8HGV/aGn0p3JbiQrCOQKFW0kKOa5M70Y/NvlvE743/UCYj5E96NgqOZVQ8Ewh3gotAbj5Awe\n",
       "BcOczsprShBU4Rn+zwTDvBD4C8ZqOwdn2C9IAAAAAElFTkSuQmCC\n",
       "\" style=\"display:inline;vertical-align:middle;\" /></a></span>"
      ],
      "text/plain": [
       "{D in BOOLEAN, B in BOOLEAN, C in BOOLEAN, A in BOOLEAN} |- (D or B or C or A) = (A or C or B or D)"
      ]
     },
     "metadata": {},
     "output_type": "display_data"
    }
   ],
   "source": [
    "Equals(Or(D, B, C, A), Or(A, C, B, D)).prove(assumptions=in_bool(A, B, C, D))"
   ]
  },
  {
   "cell_type": "code",
   "execution_count": 63,
   "metadata": {},
   "outputs": [
    {
     "data": {
      "text/html": [
       "<span style=\"font-size:20px;\"><a class=\"ProveItLink\" href=\"../__pv_it/theorems/c50b73f2d168f6a3012768bd45c62ea92218bcbc0/expr.ipynb\"><img src=\"data:image/png;base64,iVBORw0KGgoAAAANSUhEUgAAADcAAAAQBAMAAABAXPr7AAAAMFBMVEX///8AAAAAAAAAAAAAAAAA\n",
       "AAAAAAAAAAAAAAAAAAAAAAAAAAAAAAAAAAAAAAAAAAAv3aB7AAAAD3RSTlMAZrurzTLvInZEmRDd\n",
       "VIkafcLnAAAACXBIWXMAAA7EAAAOxAGVKw4bAAAA8UlEQVQY02NgwAZ6kvzdDk8AsYT+Gxs7BaDK\n",
       "Ksxg97YEs5IYGJi/oklOZHjOBGKw/2Bg4PyFISnLDGIwAnUx/gCLceicOQKXZAExmD8wMLCkg1ic\n",
       "HhsQOs3lQAw2BQZuG7CDSjYgHLTj8AMQI16jw0QALOSOsHOO25/VIEZ/AQNvIljIAdlBjVNA5qgB\n",
       "8XuQsaw5Z86cOQSTZOIEmfsZiOUbgAS3ArJOJgYgl/UjkGMPDqsDqJJAWzi+AxV8AQt1oEjyAk1j\n",
       "SWBgmOYNFmK5AJecx/DiFTAI9D8bm+hChLiNZkMYLUn60FhBApyPoMEHAQCDjz3xiC/o5wAAAABJ\n",
       "RU5ErkJggg==\n",
       "\" style=\"display:inline;vertical-align:middle;\" /></a>, <a class=\"ProveItLink\" href=\"../__pv_it/demonstrations/be49e688692580141a3851882e8c02185518c0cd0/expr.ipynb\"><img src=\"data:image/png;base64,iVBORw0KGgoAAAANSUhEUgAAADgAAAAQBAMAAACxV6F2AAAAMFBMVEX///8AAAAAAAAAAAAAAAAA\n",
       "AAAAAAAAAAAAAAAAAAAAAAAAAAAAAAAAAAAAAAAAAAAv3aB7AAAAD3RSTlMAdrurIs1mVDKZ70SJ\n",
       "EN02Mxp8AAAACXBIWXMAAA7EAAAOxAGVKw4bAAAA6UlEQVQY02NgwAYYX6l+XWcNYgn9VzZSdkCV\n",
       "ZeIWcL28AcT6ysDA9h1dMoHHQQHI4PgIJGZhSLIVGIAs+AEk9idALNN79xQuGQBifAAS/gdAYtyB\n",
       "F+A6md1AQvwgs/tBZjC4XoAbKytnA2L0CwCJfLDOEISdT9e/BKmUbwAS9mB3ByA5iDE7FsjQB/F+\n",
       "gQiOde/evXsElWRQ2ANkfAJitm8gIV4FJJ0MCkxQb96CCD9AkWSFelMVIiaIIlnIwMAK9Oa+CRAx\n",
       "1gK45AEemQkMzPqfjZWmQMV4jfZCAipKCRoryID7ECT4IAAAk1I8Z0PO6g0AAAAASUVORK5CYII=\n",
       "\" style=\"display:inline;vertical-align:middle;\" /></a>, <a class=\"ProveItLink\" href=\"../__pv_it/demonstrations/dc7d96b1022c0165a0469ead301debeb324b9c180/expr.ipynb\"><img src=\"data:image/png;base64,iVBORw0KGgoAAAANSUhEUgAAADYAAAAQBAMAAACvnpHFAAAAMFBMVEX///8AAAAAAAAAAAAAAAAA\n",
       "AAAAAAAAAAAAAAAAAAAAAAAAAAAAAAAAAAAAAAAAAAAv3aB7AAAAD3RSTlMAEHa7q2Yiie9Umd0y\n",
       "zUTye3nKAAAACXBIWXMAAA7EAAAOxAGVKw4bAAAA4ElEQVQY02NgwAKYdtj+7fYDsRiVXVzZClAk\n",
       "mfkUckUeABkaigycqwPQ5ALYEwwYGIT3ADnrE9DlWCc4MDDcEAByXkDElHfvvgCXu8DA/hPEOQWW\n",
       "equI0MeSWsCQvwHEkQERbBcRZipquzMw1CvAbeFNQMjt7d8lwLAf4QpeZLcwxV1k6AdzQO5hOLEb\n",
       "CAygcgwGzxn2g9icB0CkMLI+BgNmiM/YwSLcqHK8DPkgtxRCglEBRW4SA+dXBobnAhChmwi5Anb1\n",
       "BQwMUiZeD6BCInYQRUw3jKHxgASeW0PCDAIA+qo1SVIYGkQAAAAASUVORK5CYII=\n",
       "\" style=\"display:inline;vertical-align:middle;\" /></a>, <a class=\"ProveItLink\" href=\"../../__pv_it/theorems/a10dbfd9a4efbb6f30af430036ab01697a9460f80/expr.ipynb\"><img src=\"data:image/png;base64,iVBORw0KGgoAAAANSUhEUgAAADYAAAAQBAMAAACvnpHFAAAAMFBMVEX///8AAAAAAAAAAAAAAAAA\n",
       "AAAAAAAAAAAAAAAAAAAAAAAAAAAAAAAAAAAAAAAAAAAv3aB7AAAAD3RSTlMAIs1UmauJMnZmRLsQ\n",
       "3e++988cAAAACXBIWXMAAA7EAAAOxAGVKw4bAAAA40lEQVQY02NgAAEhBhTAcW/Tp7dRUI4+qhwD\n",
       "N1eD0NEFYCbzfwy5CWwCG8BMlngBDDlOgwAwMzG/AGrR3ruX4HIKIBZjQ78BWIpL4wBcH6tkAthI\n",
       "BvsJEOcegJvZ0xsGZi1mqAerYVBE2Hfp/RWwQgcGeYi9Ckhu4ZilA3LAFpd4sHvZ3969e/c2VI5h\n",
       "wzIg4wQDA/8FkAjPBiR9DBu4wUYy8D4AC11AkWMCOhzoRqYPYKEOFDkLBgY5EPsjWIjJAC6XwNbm\n",
       "wHD6vw4D8/5PYE/wRK+BBI/ebkQ8wABXNiTMIAAAYXA8zHUEOxUAAAAASUVORK5CYII=\n",
       "\" style=\"display:inline;vertical-align:middle;\" /></a> <a class=\"ProveItLink\" href=\"../__pv_it/demonstrations/14fee26bbb24f898e297771e5bb370568f11b8390/proof.ipynb\" style=\"text-decoration: none\">&nbsp;&#x22A2;&nbsp;&nbsp;</a><a class=\"ProveItLink\" href=\"../__pv_it/demonstrations/5e8ee6386be22752690e07a57ba1ed01eac9be830/expr.ipynb\"><img src=\"data:image/png;base64,iVBORw0KGgoAAAANSUhEUgAAAUgAAAAVBAMAAADWXWqdAAAAMFBMVEX///8AAAAAAAAAAAAAAAAA\n",
       "AAAAAAAAAAAAAAAAAAAAAAAAAAAAAAAAAAAAAAAAAAAv3aB7AAAAD3RSTlMAInZUiRDNmWbv3US7\n",
       "qzJazP2FAAAACXBIWXMAAA7EAAAOxAGVKw4bAAADZElEQVRIx62XTWgTQRTHX77TTbvmIIIgJBSE\n",
       "CoX2UFr0oBHxWBp6ESWIPRQUBCsWxA8wePBU8QMEoYKBooiCDeilXowVFMXYXqyixgQvQlHSVqhV\n",
       "rPG9mdnMx24uugs7O/vfl9/+583M2xYAkuDDEfAS/SMHe/+bswkgkXbLPpL78JxoVCpHa/rz7kb5\n",
       "Y9nMRaS78i6QMVHH8Oxyv6GvFWW4XMlv1CUvB5IcOUQ3NwA6/uC1I4uNzbOyChD/bmjbtkLodF7X\n",
       "INTAJpo1X8DJHpTg1SwM3MHOG7r7zKMdB6rWJMfyNO8rmNYf2IkTpZ2NyEYNTula7j4255KaBhCr\n",
       "kjJmmmRkD0rkJbaxZeydp7DXfOU5DhRNktvoJo5jiBMOCnwh0HhpXI/zmnaE0jGjxwHsHqJ3XzNN\n",
       "trWgRCkycRkbi9yxfEsHiibJ/XTTsYS/vUK9PXieYAHtqEEqo2phmjf4osdBIN1DO+SwabK/BWWI\n",
       "om1KfBh7Mb67mg4UTZLH2aBLEHlfE9uJjRlgQwmb+ryqpVh7UI+DGOyiTA2aJse9KYFfbMHWRMYs\n",
       "kXbHgaJJMktAfbZzIc9HVIMg3w91ulzKqNqQrDMyDh5AnaIuMOxddpApQXZRwityHJ8AOnlPOpCa\n",
       "JE/RXU8SQteZbs+DxfdpD42rWlS1aVlLZByMQYpMbTczOeVNsZZlyDeAW7wnHUhNkifp7gWlie/V\n",
       "ERjgEXPU/NS0m6zN6nHB5yerbE5Nk5PelLYlNt1MiiZDoihIB1KTZIZapzlJiwo8wkN+055b07Rp\n",
       "VrtqetwwLryCs+ldJt0Ui5ncyetgJiomRzqQmiTTpNhrzpwgwy5Bs0zuL2kaVUgIg6bhnIBF9WSH\n",
       "uSanvCmsQoL4ahW+itWjOHA0hTxLecXf2asixxeLskw+07UUDXWvriVwuUcpORNmJme9KVS2ISzW\n",
       "c9cH8Uxx4GgKmSpHFP3OjIqP2W1+pcePxnQthON9mNW1zVQMl52Kox6DLShYVhJipHBAlG3VgaMp\n",
       "5EUsDnPrlYWnDpuXaNJeHdc1gH3lt0VdyzVGITS3irN3zzS52IISOVs50/x09jbf1nQgNJVs1cCX\n",
       "I1AwFR/J7j8M/u2I5U3FT/ITf1Bb3JKP5Jw/KA9HPpIDaT9IQY//Z3wj/wUo8z19n0TerQAAAABJ\n",
       "RU5ErkJggg==\n",
       "\" style=\"display:inline;vertical-align:middle;\" /></a></span>"
      ],
      "text/plain": [
       "{B in BOOLEAN, D in BOOLEAN, C in BOOLEAN, A in BOOLEAN} |- (B or D or C or A) = (D or C or B or A)"
      ]
     },
     "metadata": {},
     "output_type": "display_data"
    }
   ],
   "source": [
    "Equals(Or(B, D, C, A), Or(D, C, B, A)).prove(assumptions=in_bool(A, B, C, D))"
   ]
  },
  {
   "cell_type": "markdown",
   "metadata": {},
   "source": [
    "This even works in a nested manner"
   ]
  },
  {
   "cell_type": "code",
   "execution_count": 64,
   "metadata": {},
   "outputs": [
    {
     "data": {
      "text/html": [
       "<span style=\"font-size:20px;\"><a class=\"ProveItLink\" href=\"../__pv_it/theorems/c50b73f2d168f6a3012768bd45c62ea92218bcbc0/expr.ipynb\"><img src=\"data:image/png;base64,iVBORw0KGgoAAAANSUhEUgAAADcAAAAQBAMAAABAXPr7AAAAMFBMVEX///8AAAAAAAAAAAAAAAAA\n",
       "AAAAAAAAAAAAAAAAAAAAAAAAAAAAAAAAAAAAAAAAAAAv3aB7AAAAD3RSTlMAZrurzTLvInZEmRDd\n",
       "VIkafcLnAAAACXBIWXMAAA7EAAAOxAGVKw4bAAAA8UlEQVQY02NgwAZ6kvzdDk8AsYT+Gxs7BaDK\n",
       "Ksxg97YEs5IYGJi/oklOZHjOBGKw/2Bg4PyFISnLDGIwAnUx/gCLceicOQKXZAExmD8wMLCkg1ic\n",
       "HhsQOs3lQAw2BQZuG7CDSjYgHLTj8AMQI16jw0QALOSOsHOO25/VIEZ/AQNvIljIAdlBjVNA5qgB\n",
       "8XuQsaw5Z86cOQSTZOIEmfsZiOUbgAS3ArJOJgYgl/UjkGMPDqsDqJJAWzi+AxV8AQt1oEjyAk1j\n",
       "SWBgmOYNFmK5AJecx/DiFTAI9D8bm+hChLiNZkMYLUn60FhBApyPoMEHAQCDjz3xiC/o5wAAAABJ\n",
       "RU5ErkJggg==\n",
       "\" style=\"display:inline;vertical-align:middle;\" /></a>, <a class=\"ProveItLink\" href=\"../../__pv_it/theorems/a10dbfd9a4efbb6f30af430036ab01697a9460f80/expr.ipynb\"><img src=\"data:image/png;base64,iVBORw0KGgoAAAANSUhEUgAAADYAAAAQBAMAAACvnpHFAAAAMFBMVEX///8AAAAAAAAAAAAAAAAA\n",
       "AAAAAAAAAAAAAAAAAAAAAAAAAAAAAAAAAAAAAAAAAAAv3aB7AAAAD3RSTlMAIs1UmauJMnZmRLsQ\n",
       "3e++988cAAAACXBIWXMAAA7EAAAOxAGVKw4bAAAA40lEQVQY02NgAAEhBhTAcW/Tp7dRUI4+qhwD\n",
       "N1eD0NEFYCbzfwy5CWwCG8BMlngBDDlOgwAwMzG/AGrR3ruX4HIKIBZjQ78BWIpL4wBcH6tkAthI\n",
       "BvsJEOcegJvZ0xsGZi1mqAerYVBE2Hfp/RWwQgcGeYi9Ckhu4ZilA3LAFpd4sHvZ3969e/c2VI5h\n",
       "wzIg4wQDA/8FkAjPBiR9DBu4wUYy8D4AC11AkWMCOhzoRqYPYKEOFDkLBgY5EPsjWIjJAC6XwNbm\n",
       "wHD6vw4D8/5PYE/wRK+BBI/ebkQ8wABXNiTMIAAAYXA8zHUEOxUAAAAASUVORK5CYII=\n",
       "\" style=\"display:inline;vertical-align:middle;\" /></a>, <a class=\"ProveItLink\" href=\"../__pv_it/demonstrations/be49e688692580141a3851882e8c02185518c0cd0/expr.ipynb\"><img src=\"data:image/png;base64,iVBORw0KGgoAAAANSUhEUgAAADgAAAAQBAMAAACxV6F2AAAAMFBMVEX///8AAAAAAAAAAAAAAAAA\n",
       "AAAAAAAAAAAAAAAAAAAAAAAAAAAAAAAAAAAAAAAAAAAv3aB7AAAAD3RSTlMAdrurIs1mVDKZ70SJ\n",
       "EN02Mxp8AAAACXBIWXMAAA7EAAAOxAGVKw4bAAAA6UlEQVQY02NgwAYYX6l+XWcNYgn9VzZSdkCV\n",
       "ZeIWcL28AcT6ysDA9h1dMoHHQQHI4PgIJGZhSLIVGIAs+AEk9idALNN79xQuGQBifAAS/gdAYtyB\n",
       "F+A6md1AQvwgs/tBZjC4XoAbKytnA2L0CwCJfLDOEISdT9e/BKmUbwAS9mB3ByA5iDE7FsjQB/F+\n",
       "gQiOde/evXsElWRQ2ANkfAJitm8gIV4FJJ0MCkxQb96CCD9AkWSFelMVIiaIIlnIwMAK9Oa+CRAx\n",
       "1gK45AEemQkMzPqfjZWmQMV4jfZCAipKCRoryID7ECT4IAAAk1I8Z0PO6g0AAAAASUVORK5CYII=\n",
       "\" style=\"display:inline;vertical-align:middle;\" /></a>, <a class=\"ProveItLink\" href=\"../__pv_it/demonstrations/dc7d96b1022c0165a0469ead301debeb324b9c180/expr.ipynb\"><img src=\"data:image/png;base64,iVBORw0KGgoAAAANSUhEUgAAADYAAAAQBAMAAACvnpHFAAAAMFBMVEX///8AAAAAAAAAAAAAAAAA\n",
       "AAAAAAAAAAAAAAAAAAAAAAAAAAAAAAAAAAAAAAAAAAAv3aB7AAAAD3RSTlMAEHa7q2Yiie9Umd0y\n",
       "zUTye3nKAAAACXBIWXMAAA7EAAAOxAGVKw4bAAAA4ElEQVQY02NgwAKYdtj+7fYDsRiVXVzZClAk\n",
       "mfkUckUeABkaigycqwPQ5ALYEwwYGIT3ADnrE9DlWCc4MDDcEAByXkDElHfvvgCXu8DA/hPEOQWW\n",
       "equI0MeSWsCQvwHEkQERbBcRZipquzMw1CvAbeFNQMjt7d8lwLAf4QpeZLcwxV1k6AdzQO5hOLEb\n",
       "CAygcgwGzxn2g9icB0CkMLI+BgNmiM/YwSLcqHK8DPkgtxRCglEBRW4SA+dXBobnAhChmwi5Anb1\n",
       "BQwMUiZeD6BCInYQRUw3jKHxgASeW0PCDAIA+qo1SVIYGkQAAAAASUVORK5CYII=\n",
       "\" style=\"display:inline;vertical-align:middle;\" /></a> <a class=\"ProveItLink\" href=\"../__pv_it/demonstrations/e3c40e63ac96abb906c2c78a2a557f2e17f19ec20/proof.ipynb\" style=\"text-decoration: none\">&nbsp;&#x22A2;&nbsp;&nbsp;</a><a class=\"ProveItLink\" href=\"../__pv_it/demonstrations/11df5fe4548cc93b0bb91a4789e7b8d130d323de0/expr.ipynb\"><img src=\"data:image/png;base64,iVBORw0KGgoAAAANSUhEUgAAAbUAAAAVBAMAAAAz7220AAAAMFBMVEX///8AAAAAAAAAAAAAAAAA\n",
       "AAAAAAAAAAAAAAAAAAAAAAAAAAAAAAAAAAAAAAAAAAAv3aB7AAAAD3RSTlMAInZUiRDNmWbv3US7\n",
       "qzJazP2FAAAACXBIWXMAAA7EAAAOxAGVKw4bAAAEq0lEQVRYw6VXXYhbVRCem+Tm5+Znw1IES2Fj\n",
       "i1Ch0H0olhaxK9LHssEHhbLIFixUEAy00FItBh+6LysbBUGwYKD4W9wu6oP7lq0PRbGmPlhFGzf4\n",
       "IoiS7rasUlvjzDlnzrnn/mS7yYGTe+/cud98c2bOzAkAlEHO2OHAaKM8IqYzzEthNDEpZ8x4CCBf\n",
       "Gd4vZxbgswj5ri1g7NJIESOKnDa6T835fqfzUjek9zLO3QFZon2v8+33Qc1nrnXq24LC9C1Ur4dQ\n",
       "k1MxKO6ezk/OVEhXIVlDEd4d9o2NurNyAlwAKP4nXz5tgPukW6XbH+jnNyEdww8WJm1Z4q0q7P/I\n",
       "lgEcIkbHQ9afjUN57FFInkVaRTJZqmhdhYQjpXNMEg6RM0YzdTnBWccA/y0X7wNNIrOKiZut0e3r\n",
       "9POdkPbQaKZhydxvMOaZNVsP4BxJ5kK+nYlBmVnEn9fIJLlV6GpdhYTjKOemIhwiZ4zmQE7IYsyy\n",
       "6zIEbywxiaemCf9tuvVM0u9FYf4fS5YmnXzD1oPUNsqEXDXoWyMG5UXSXKa7ptzrrKuQaIP8ojCY\n",
       "cJCcMfo4XmhCEQOZflO89EotXpvKXkqBE5wMGZkQbXp1x5JN02+pZuvBeOI2+R3ccMnZaJQUacPv\n",
       "vC1OGl2FRE7/qUCYcJCcMXoKLzQh1wL3Z1lL9sExTkk4RLyOcPXxpPge+XHfL3PuisTs2npQS1Jc\n",
       "UtcDvmWmolEmKFrwvKrPInZKVyFRZUmrnsKEg+SM0RMclt6VnTfU+h6D/Urtc+gR9Hnx8CvATnFT\n",
       "otTN3vHLUuuGudaD/GSJtLJi6c9+QuNT4EBGoEybgl7sQqKidRkJH8vJmtRgwudjjV7Ey0WR/WVI\n",
       "viOpXwdP7ZAaTNCaHxAPfwG8L/cj5XPxX7/MWzO+aT0Mu0NxSTYCcfMmo1EumzavSQhdRvKDM+ED\n",
       "sUbfxQtN+JrWrWstGSSunl6lrdezl6xANXas4ZflRIV2A0u75/Q5kXjB1pRbikZ5T7ytWskjdBnJ\n",
       "Hx8m3Is1qn0jXxe4obhN2Y7ReJMrl0n1MfJ3oe6XeYL+k7aei3B3uXyGfItAuSwe7E0vdBlJtOKj\n",
       "EoQJL8ca5Zws0f5bXbJKFKYkeMTroF2iqDG5FyyZ6GwwZetlcH5MdpuB/SbyLAKFOhukwCrWQpeR\n",
       "fPVQEz4Ya/QKXmgmkFxpA6zWkq+ro8683VqoMRVmLRk1UkhVbb0v1Zkt2wrErVCJRpkg+WGwmqzQ\n",
       "ZSRfH9OE52ONHlElPo3xWRaHI3MkeJhu1rhJmCMBfpr/EGwZ9or8YVvmUMjbZV3GzRBNIQKFivcX\n",
       "aoH4cES6Gsl3/tCET8Ua/QNvcRbb9zs3vpLVl49yM/3jkGxvILFLKtyyOd7sd25e5YrGDdN9tfMK\n",
       "WDK3vVGFJ/ov4GIvBXwrNWNQnrv2o9Y9qXUNkjk3GsKXYo16GCCvu8kfleZof+C2hySLW/h6cThy\n",
       "2+U5OFsb/HmmPppvZ0KSuS18PTccOTK6ouaAsWM015xWSFQoP/jnm+juGGB0Rs0BY2U03yLIua0H\n",
       "/3wT3ZUBRp2KnPEjUR7Nt0ciZONb+H58GHJo9H97N58vBlk0ZwAAAABJRU5ErkJggg==\n",
       "\" style=\"display:inline;vertical-align:middle;\" /></a></span>"
      ],
      "text/plain": [
       "{B in BOOLEAN, A in BOOLEAN, D in BOOLEAN, C in BOOLEAN} |- ((B and A) or D or C or A) = (D or C or (A and B) or A)"
      ]
     },
     "metadata": {},
     "output_type": "display_data"
    }
   ],
   "source": [
    "Equals(Or(And(B, A), D, C, A), Or(D, C, And(A, B), A)).prove(assumptions=in_bool(A, B, C, D))"
   ]
  },
  {
   "cell_type": "code",
   "execution_count": 65,
   "metadata": {},
   "outputs": [],
   "source": [
    "%end demonstrations"
   ]
  },
  {
   "cell_type": "code",
   "execution_count": null,
   "metadata": {},
   "outputs": [],
   "source": []
  }
 ],
 "metadata": {
  "kernelspec": {
   "display_name": "Python 3",
   "language": "python",
   "name": "python3"
  }
 },
 "nbformat": 4,
 "nbformat_minor": 0
}