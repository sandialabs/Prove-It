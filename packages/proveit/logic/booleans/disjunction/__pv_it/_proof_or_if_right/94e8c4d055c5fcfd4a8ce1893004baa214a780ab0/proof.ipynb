{
 "cells": [
  {
   "cell_type": "markdown",
   "metadata": {},
   "source": [
    "Show the Proof\n",
    "========"
   ]
  },
  {
   "cell_type": "code",
   "execution_count": 1,
   "metadata": {},
   "outputs": [
    {
     "data": {
      "text/html": [
       "<table><tr><th>&nbsp;</th><th>step type</th><th>requirements</th><th>statement</th></tr>\n",
       "<tr><td><a name=\"proveit.logic.booleans.disjunction._proof_or_if_right.94e8c4d055c5fcfd4a8ce1893004baa214a780ab0_step0\">0</a></td><td>instantiation</td><td><a href=\"#proveit.logic.booleans.disjunction._proof_or_if_right.94e8c4d055c5fcfd4a8ce1893004baa214a780ab0_step1\">1</a></td><td><span style=\"font-size:20px;\"> <a class=\"ProveItLink\" href=\"proof.ipynb\" style=\"text-decoration: none\">&nbsp;&#x22A2;&nbsp;&nbsp;</a><a class=\"ProveItLink\" href=\"../a219573816ed2392915fb372922978de0d921e120/expr.ipynb\"><img src=\"../a219573816ed2392915fb372922978de0d921e120/expr.png\" style=\"display:inline;vertical-align:middle;\" /></a></span></td></tr>\n",
       "<tr><td>&nbsp;</td><td colspan=4 style=\"text-align:left\"><span style=\"font-size:20px;\"><a class=\"ProveItLink\" href=\"../../../../../../__pv_it/common/a0d9d672aa5e272d907247690c152cc2c6daafb70/expr.ipynb\"><img src=\"../../../../../../__pv_it/common/a0d9d672aa5e272d907247690c152cc2c6daafb70/expr.png\" style=\"display:inline;vertical-align:middle;\" /></a> : <a class=\"ProveItLink\" href=\"../../../../../../__pv_it/common/09585084922504426caf1db2ff588a23a0932a960/expr.ipynb\"><img src=\"../../../../../../__pv_it/common/09585084922504426caf1db2ff588a23a0932a960/expr.png\" style=\"display:inline;vertical-align:middle;\" /></a>, <a class=\"ProveItLink\" href=\"../../../../../../__pv_it/common/ff7dba4ef0bbe791ab573bf2d9c220a304399ac80/expr.ipynb\"><img src=\"../../../../../../__pv_it/common/ff7dba4ef0bbe791ab573bf2d9c220a304399ac80/expr.png\" style=\"display:inline;vertical-align:middle;\" /></a> : <a class=\"ProveItLink\" href=\"../../../../__pv_it/common/95025295868b9266d37330b4427adf122f6061770/expr.ipynb\"><img src=\"../../../../__pv_it/common/95025295868b9266d37330b4427adf122f6061770/expr.png\" style=\"display:inline;vertical-align:middle;\" /></a></span></td></tr><tr><td><a name=\"proveit.logic.booleans.disjunction._proof_or_if_right.94e8c4d055c5fcfd4a8ce1893004baa214a780ab0_step1\">1</a></td><td>axiom</td><td></td><td><span style=\"font-size:20px;\"> <a class=\"ProveItLink\" href=\"../../../../../equality/_theory_nbs_/axioms.ipynb#equality_in_bool\" style=\"text-decoration: none\">&nbsp;&#x22A2;&nbsp;&nbsp;</a><a class=\"ProveItLink\" href=\"../../../../../equality/__pv_it/axioms/80c61ed0a9ea703286def3ed4e81641a1e239b430/expr.ipynb\"><img src=\"../../../../../equality/__pv_it/axioms/80c61ed0a9ea703286def3ed4e81641a1e239b430/expr.png\" style=\"display:inline;vertical-align:middle;\" /></a></span></td></tr>\n",
       "<tr><td>&nbsp;</td><td colspan=4 style-\"text-align:left\"><a class=\"ProveItLink\" href=\"../../../../../equality/_theory_nbs_/axioms.ipynb#equality_in_bool\">proveit.logic.equality.equality_in_bool</a></td></tr></table>"
      ],
      "text/plain": [
       "<proveit._core_.proof._ShowProof at 0x7f75e5ddc6d8>"
      ]
     },
     "execution_count": 1,
     "metadata": {},
     "output_type": "execute_result"
    }
   ],
   "source": [
    "import proveit\n",
    "# Automation is not needed when only showing a stored proof:\n",
    "proveit.defaults.automation = False # This will speed things up.\n",
    "proveit.defaults.inline_pngs = False # Makes files smaller.\n",
    "%show_proof"
   ]
  },
  {
   "cell_type": "code",
   "execution_count": null,
   "metadata": {},
   "outputs": [],
   "source": []
  }
 ],
 "metadata": {
  "kernelspec": {
   "display_name": "Python 3",
   "language": "python",
   "name": "python3"
  }
 },
 "nbformat": 4,
 "nbformat_minor": 0
}