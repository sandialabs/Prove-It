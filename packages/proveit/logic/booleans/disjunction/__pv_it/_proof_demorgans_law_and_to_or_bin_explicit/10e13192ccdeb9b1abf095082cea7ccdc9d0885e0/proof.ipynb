{
 "cells": [
  {
   "cell_type": "markdown",
   "metadata": {},
   "source": [
    "Show the Proof\n",
    "========"
   ]
  },
  {
   "cell_type": "code",
   "execution_count": 1,
   "metadata": {},
   "outputs": [
    {
     "data": {
      "text/html": [
       "<table><tr><th>&nbsp;</th><th>step type</th><th>requirements</th><th>statement</th></tr>\n",
       "<tr><td><a name=\"proveit.logic.booleans.disjunction._proof_demorgans_law_and_to_or_bin_explicit.10e13192ccdeb9b1abf095082cea7ccdc9d0885e0_step0\">0</a></td><td>instantiation</td><td><a href=\"#proveit.logic.booleans.disjunction._proof_demorgans_law_and_to_or_bin_explicit.10e13192ccdeb9b1abf095082cea7ccdc9d0885e0_step1\">1</a>, <a href=\"#proveit.logic.booleans.disjunction._proof_demorgans_law_and_to_or_bin_explicit.10e13192ccdeb9b1abf095082cea7ccdc9d0885e0_step2\">2</a>, <a href=\"#proveit.logic.booleans.disjunction._proof_demorgans_law_and_to_or_bin_explicit.10e13192ccdeb9b1abf095082cea7ccdc9d0885e0_step3\">3</a></td><td><span style=\"font-size:20px;\"> <a class=\"ProveItLink\" href=\"proof.ipynb\" style=\"text-decoration: none\">&nbsp;&#x22A2;&nbsp;&nbsp;</a><a class=\"ProveItLink\" href=\"../b017e51110acdf2142922efd0e650461b684d14a0/expr.ipynb\"><img src=\"../b017e51110acdf2142922efd0e650461b684d14a0/expr.png\" style=\"display:inline;vertical-align:middle;\" /></a></span></td></tr>\n",
       "<tr><td>&nbsp;</td><td colspan=4 style=\"text-align:left\"><span style=\"font-size:20px;\"><a class=\"ProveItLink\" href=\"../f90c4097c7f2032632deca0ffe172c46d56dd9290/expr.ipynb\"><img src=\"../f90c4097c7f2032632deca0ffe172c46d56dd9290/expr.png\" style=\"display:inline;vertical-align:middle;\" /></a> : <a class=\"ProveItLink\" href=\"../9c280f76e5a30a54ed2ab307af1a41b1a948adc30/expr.ipynb\"><img src=\"../9c280f76e5a30a54ed2ab307af1a41b1a948adc30/expr.png\" style=\"display:inline;vertical-align:middle;\" /></a>, <a class=\"ProveItLink\" href=\"../6dd27d6a42e5ef49f01833152e391f6a902003ce0/expr.ipynb\"><img src=\"../6dd27d6a42e5ef49f01833152e391f6a902003ce0/expr.png\" style=\"display:inline;vertical-align:middle;\" /></a> : <a class=\"ProveItLink\" href=\"../1cd91c7650201f51ff806d686712a698187630be0/expr.ipynb\"><img src=\"../1cd91c7650201f51ff806d686712a698187630be0/expr.png\" style=\"display:inline;vertical-align:middle;\" /></a>, <a class=\"ProveItLink\" href=\"../../../../../../__pv_it/common/09585084922504426caf1db2ff588a23a0932a960/expr.ipynb\"><img src=\"../../../../../../__pv_it/common/09585084922504426caf1db2ff588a23a0932a960/expr.png\" style=\"display:inline;vertical-align:middle;\" /></a> : <a class=\"ProveItLink\" href=\"../../../../../../__pv_it/common/a9162d1c3cc0470c02e5daf414500903a7a419230/expr.ipynb\"><img src=\"../../../../../../__pv_it/common/a9162d1c3cc0470c02e5daf414500903a7a419230/expr.png\" style=\"display:inline;vertical-align:middle;\" /></a></span></td></tr><tr><td><a name=\"proveit.logic.booleans.disjunction._proof_demorgans_law_and_to_or_bin_explicit.10e13192ccdeb9b1abf095082cea7ccdc9d0885e0_step1\">1</a></td><td>theorem</td><td></td><td><span style=\"font-size:20px;\"> <a class=\"ProveItLink\" href=\"../../../../_theory_nbs_/proofs/conditioned_forall_over_bool_by_cases/thm_proof.ipynb\" style=\"text-decoration: none\">&nbsp;&#x22A2;&nbsp;&nbsp;</a><a class=\"ProveItLink\" href=\"../../../../__pv_it/theorems/04bd85b23a57ae8e49fc576fe74347ba356f43c80/expr.ipynb\"><img src=\"../../../../__pv_it/theorems/04bd85b23a57ae8e49fc576fe74347ba356f43c80/expr.png\" style=\"display:inline;vertical-align:middle;\" /></a></span></td></tr>\n",
       "<tr><td>&nbsp;</td><td colspan=4 style-\"text-align:left\"><a class=\"ProveItLink\" href=\"../../../../_theory_nbs_/proofs/conditioned_forall_over_bool_by_cases/thm_proof.ipynb\">proveit.logic.booleans.conditioned_forall_over_bool_by_cases</a></td></tr><tr><td><a name=\"proveit.logic.booleans.disjunction._proof_demorgans_law_and_to_or_bin_explicit.10e13192ccdeb9b1abf095082cea7ccdc9d0885e0_step2\">2</a></td><td>deduction</td><td><a href=\"#proveit.logic.booleans.disjunction._proof_demorgans_law_and_to_or_bin_explicit.10e13192ccdeb9b1abf095082cea7ccdc9d0885e0_step4\">4</a></td><td><span style=\"font-size:20px;\"> <a class=\"ProveItLink\" href=\"../54ead3007f894d4320bc09eee83f334f11cec2cc0/proof.ipynb\" style=\"text-decoration: none\">&nbsp;&#x22A2;&nbsp;&nbsp;</a><a class=\"ProveItLink\" href=\"../686352e1fdfdbd8ecc77d89c500626b98e7a771b0/expr.ipynb\"><img src=\"../686352e1fdfdbd8ecc77d89c500626b98e7a771b0/expr.png\" style=\"display:inline;vertical-align:middle;\" /></a></span></td></tr>\n",
       "<tr><td><a name=\"proveit.logic.booleans.disjunction._proof_demorgans_law_and_to_or_bin_explicit.10e13192ccdeb9b1abf095082cea7ccdc9d0885e0_step3\">3</a></td><td>instantiation</td><td><a href=\"#proveit.logic.booleans.disjunction._proof_demorgans_law_and_to_or_bin_explicit.10e13192ccdeb9b1abf095082cea7ccdc9d0885e0_step5\">5</a>, <a href=\"#proveit.logic.booleans.disjunction._proof_demorgans_law_and_to_or_bin_explicit.10e13192ccdeb9b1abf095082cea7ccdc9d0885e0_step6\">6</a></td><td><span style=\"font-size:20px;\"> <a class=\"ProveItLink\" href=\"../c580df10f48b84af19c9a7ceb10ed90914479d3f0/proof.ipynb\" style=\"text-decoration: none\">&nbsp;&#x22A2;&nbsp;&nbsp;</a><a class=\"ProveItLink\" href=\"../e6da4c1df0e79d18888cbed7017d92fd465b4fe20/expr.ipynb\"><img src=\"../e6da4c1df0e79d18888cbed7017d92fd465b4fe20/expr.png\" style=\"display:inline;vertical-align:middle;\" /></a></span></td></tr>\n",
       "<tr><td>&nbsp;</td><td colspan=4 style=\"text-align:left\"><span style=\"font-size:20px;\"><a class=\"ProveItLink\" href=\"../../../../../../__pv_it/common/09585084922504426caf1db2ff588a23a0932a960/expr.ipynb\"><img src=\"../../../../../../__pv_it/common/09585084922504426caf1db2ff588a23a0932a960/expr.png\" style=\"display:inline;vertical-align:middle;\" /></a> : <a class=\"ProveItLink\" href=\"../d1976706e2580382e9ab5e31bf37807013b9e80c0/expr.ipynb\"><img src=\"../d1976706e2580382e9ab5e31bf37807013b9e80c0/expr.png\" style=\"display:inline;vertical-align:middle;\" /></a>, <a class=\"ProveItLink\" href=\"../../../../../../__pv_it/common/a9162d1c3cc0470c02e5daf414500903a7a419230/expr.ipynb\"><img src=\"../../../../../../__pv_it/common/a9162d1c3cc0470c02e5daf414500903a7a419230/expr.png\" style=\"display:inline;vertical-align:middle;\" /></a> : <a class=\"ProveItLink\" href=\"../../axioms/da65ebe41caf682fb54517627e6d86dcc6435f710/expr.ipynb\"><img src=\"../../axioms/da65ebe41caf682fb54517627e6d86dcc6435f710/expr.png\" style=\"display:inline;vertical-align:middle;\" /></a></span></td></tr><tr><td><a name=\"proveit.logic.booleans.disjunction._proof_demorgans_law_and_to_or_bin_explicit.10e13192ccdeb9b1abf095082cea7ccdc9d0885e0_step4\">4</a></td><td>theorem</td><td></td><td><span style=\"font-size:20px;\"> <a class=\"ProveItLink\" href=\"../../../_theory_nbs_/proofs/false_or_true/thm_proof.ipynb\" style=\"text-decoration: none\">&nbsp;&#x22A2;&nbsp;&nbsp;</a><a class=\"ProveItLink\" href=\"../../axioms/439378edc5303e14cd663a2903f838515479ff050/expr.ipynb\"><img src=\"../../axioms/439378edc5303e14cd663a2903f838515479ff050/expr.png\" style=\"display:inline;vertical-align:middle;\" /></a></span></td></tr>\n",
       "<tr><td>&nbsp;</td><td colspan=4 style-\"text-align:left\"><a class=\"ProveItLink\" href=\"../../../_theory_nbs_/proofs/false_or_true/thm_proof.ipynb\">proveit.logic.booleans.disjunction.false_or_true</a></td></tr><tr><td><a name=\"proveit.logic.booleans.disjunction._proof_demorgans_law_and_to_or_bin_explicit.10e13192ccdeb9b1abf095082cea7ccdc9d0885e0_step5\">5</a></td><td>theorem</td><td></td><td><span style=\"font-size:20px;\"> <a class=\"ProveItLink\" href=\"../../../../implication/_theory_nbs_/proofs/falsified_antecedent_implication/thm_proof.ipynb\" style=\"text-decoration: none\">&nbsp;&#x22A2;&nbsp;&nbsp;</a><a class=\"ProveItLink\" href=\"../../../../implication/__pv_it/theorems/28929e1faa0d6cd913a00023d42a5ba1e5cedce10/expr.ipynb\"><img src=\"../../../../implication/__pv_it/theorems/28929e1faa0d6cd913a00023d42a5ba1e5cedce10/expr.png\" style=\"display:inline;vertical-align:middle;\" /></a></span></td></tr>\n",
       "<tr><td>&nbsp;</td><td colspan=4 style-\"text-align:left\"><a class=\"ProveItLink\" href=\"../../../../implication/_theory_nbs_/proofs/falsified_antecedent_implication/thm_proof.ipynb\">proveit.logic.booleans.implication.falsified_antecedent_implication</a></td></tr><tr><td><a name=\"proveit.logic.booleans.disjunction._proof_demorgans_law_and_to_or_bin_explicit.10e13192ccdeb9b1abf095082cea7ccdc9d0885e0_step6\">6</a></td><td>instantiation</td><td><a href=\"#proveit.logic.booleans.disjunction._proof_demorgans_law_and_to_or_bin_explicit.10e13192ccdeb9b1abf095082cea7ccdc9d0885e0_step7\">7</a>, <a href=\"#proveit.logic.booleans.disjunction._proof_demorgans_law_and_to_or_bin_explicit.10e13192ccdeb9b1abf095082cea7ccdc9d0885e0_step8\">8</a></td><td><span style=\"font-size:20px;\"> <a class=\"ProveItLink\" href=\"../3f2b32ee94d4429a7482ec8785865d70509ca8180/proof.ipynb\" style=\"text-decoration: none\">&nbsp;&#x22A2;&nbsp;&nbsp;</a><a class=\"ProveItLink\" href=\"../2069cf3d0f2f5283ea413f535d09f3de61916ef50/expr.ipynb\"><img src=\"../2069cf3d0f2f5283ea413f535d09f3de61916ef50/expr.png\" style=\"display:inline;vertical-align:middle;\" /></a></span></td></tr>\n",
       "<tr><td>&nbsp;</td><td colspan=4 style=\"text-align:left\"><span style=\"font-size:20px;\"><a class=\"ProveItLink\" href=\"../../../../../../__pv_it/common/09585084922504426caf1db2ff588a23a0932a960/expr.ipynb\"><img src=\"../../../../../../__pv_it/common/09585084922504426caf1db2ff588a23a0932a960/expr.png\" style=\"display:inline;vertical-align:middle;\" /></a> : <a class=\"ProveItLink\" href=\"../01def155c257299c2fa6bd3f47d504df9f6b06310/expr.ipynb\"><img src=\"../01def155c257299c2fa6bd3f47d504df9f6b06310/expr.png\" style=\"display:inline;vertical-align:middle;\" /></a></span></td></tr><tr><td><a name=\"proveit.logic.booleans.disjunction._proof_demorgans_law_and_to_or_bin_explicit.10e13192ccdeb9b1abf095082cea7ccdc9d0885e0_step7\">7</a></td><td>theorem</td><td></td><td><span style=\"font-size:20px;\"> <a class=\"ProveItLink\" href=\"../../../../negation/_theory_nbs_/proofs/double_negation_intro/thm_proof.ipynb\" style=\"text-decoration: none\">&nbsp;&#x22A2;&nbsp;&nbsp;</a><a class=\"ProveItLink\" href=\"../../../../negation/__pv_it/theorems/0b22d68afd7bfc707f054cfbe8b4e2370c2f148f0/expr.ipynb\"><img src=\"../../../../negation/__pv_it/theorems/0b22d68afd7bfc707f054cfbe8b4e2370c2f148f0/expr.png\" style=\"display:inline;vertical-align:middle;\" /></a></span></td></tr>\n",
       "<tr><td>&nbsp;</td><td colspan=4 style-\"text-align:left\"><a class=\"ProveItLink\" href=\"../../../../negation/_theory_nbs_/proofs/double_negation_intro/thm_proof.ipynb\">proveit.logic.booleans.negation.double_negation_intro</a></td></tr><tr><td><a name=\"proveit.logic.booleans.disjunction._proof_demorgans_law_and_to_or_bin_explicit.10e13192ccdeb9b1abf095082cea7ccdc9d0885e0_step8\">8</a></td><td>theorem</td><td></td><td><span style=\"font-size:20px;\"> <a class=\"ProveItLink\" href=\"../../../../negation/_theory_nbs_/proofs/not_false/thm_proof.ipynb\" style=\"text-decoration: none\">&nbsp;&#x22A2;&nbsp;&nbsp;</a><a class=\"ProveItLink\" href=\"../../../../negation/__pv_it/axioms/446a01d9a7ebef169028057d3b157d31652390170/expr.ipynb\"><img src=\"../../../../negation/__pv_it/axioms/446a01d9a7ebef169028057d3b157d31652390170/expr.png\" style=\"display:inline;vertical-align:middle;\" /></a></span></td></tr>\n",
       "<tr><td>&nbsp;</td><td colspan=4 style-\"text-align:left\"><a class=\"ProveItLink\" href=\"../../../../negation/_theory_nbs_/proofs/not_false/thm_proof.ipynb\">proveit.logic.booleans.negation.not_false</a></td></tr></table>"
      ],
      "text/plain": [
       "<proveit._core_.proof._ShowProof at 0x7fa27f578588>"
      ]
     },
     "execution_count": 1,
     "metadata": {},
     "output_type": "execute_result"
    }
   ],
   "source": [
    "import proveit\n",
    "# Automation is not needed when only showing a stored proof:\n",
    "proveit.defaults.automation = False # This will speed things up.\n",
    "proveit.defaults.inline_pngs = False # Makes files smaller.\n",
    "%show_proof"
   ]
  },
  {
   "cell_type": "code",
   "execution_count": null,
   "metadata": {},
   "outputs": [],
   "source": []
  }
 ],
 "metadata": {
  "kernelspec": {
   "display_name": "Python 3",
   "language": "python",
   "name": "python3"
  }
 },
 "nbformat": 4,
 "nbformat_minor": 0
}