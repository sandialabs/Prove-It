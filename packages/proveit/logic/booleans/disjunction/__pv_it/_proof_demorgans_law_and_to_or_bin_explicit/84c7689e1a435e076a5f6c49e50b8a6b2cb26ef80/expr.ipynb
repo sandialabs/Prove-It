{
 "cells": [
  {
   "cell_type": "markdown",
   "metadata": {},
   "source": [
    "Expression of type <a class=\"ProveItLink\" href=\"../../../../../../../../doc/html/api/proveit.Lambda.html\">Lambda</a>\n",
    "=======================\n",
    "# from the theory of <a class=\"ProveItLink\" href=\"../../../_theory_nbs_/theory.ipynb\">proveit.logic.booleans.disjunction</a>"
   ]
  },
  {
   "cell_type": "code",
   "execution_count": 1,
   "metadata": {},
   "outputs": [],
   "source": [
    "import proveit\n",
    "# Automation is not needed when building an expression:\n",
    "proveit.defaults.automation = False # This will speed things up.\n",
    "proveit.defaults.inline_pngs = False # Makes files smaller.\n",
    "%load_expr # Load the stored expression as 'stored_expr'\n",
    "# import Expression classes needed to build the expression\n",
    "from proveit import B, Conditional, Lambda\n",
    "from proveit.logic import And, Boolean, FALSE, InSet, Not, Or"
   ]
  },
  {
   "cell_type": "code",
   "execution_count": 2,
   "metadata": {},
   "outputs": [
    {
     "data": {
      "text/html": [
       "<strong id=\"expr\">expr:</strong> <a class=\"ProveItLink\" href=\"expr.ipynb\"><img src=\"expr.png\" style=\"display:inline;vertical-align:middle;\" /></a><br>"
      ],
      "text/plain": [
       "<IPython.core.display.HTML object>"
      ]
     },
     "metadata": {},
     "output_type": "display_data"
    }
   ],
   "source": [
    "# build up the expression from sub-expressions\n",
    "expr = Lambda(B, Conditional(Or(FALSE, B), And(InSet(B, Boolean), Not(And(Not(FALSE), Not(B))))))"
   ]
  },
  {
   "cell_type": "code",
   "execution_count": 3,
   "metadata": {},
   "outputs": [
    {
     "name": "stdout",
     "output_type": "stream",
     "text": [
      "Passed sanity check: expr matches stored_expr\n"
     ]
    }
   ],
   "source": [
    "# check that the built expression is the same as the stored expression\n",
    "assert expr == stored_expr\n",
    "assert expr._style_id == stored_expr._style_id\n",
    "print(\"Passed sanity check: expr matches stored_expr\")"
   ]
  },
  {
   "cell_type": "code",
   "execution_count": 4,
   "metadata": {},
   "outputs": [
    {
     "name": "stdout",
     "output_type": "stream",
     "text": [
      "B \\mapsto \\left\\{\\bot \\lor B \\textrm{ if } B \\in \\mathbb{B} ,  \\lnot \\left((\\lnot \\bot) \\land (\\lnot B)\\right)\\right..\n"
     ]
    }
   ],
   "source": [
    "# Show the LaTeX representation of the expression for convenience if you need it.\n",
    "print(stored_expr.latex())"
   ]
  },
  {
   "cell_type": "code",
   "execution_count": 5,
   "metadata": {},
   "outputs": [
    {
     "data": {
      "text/html": [
       "no style options"
      ],
      "text/plain": [
       "no style options"
      ]
     },
     "metadata": {},
     "output_type": "display_data"
    }
   ],
   "source": [
    "stored_expr.style_options()"
   ]
  },
  {
   "cell_type": "code",
   "execution_count": 6,
   "metadata": {},
   "outputs": [
    {
     "data": {
      "text/html": [
       "<table><tr><th>&nbsp;</th><th>core type</th><th>sub-expressions</th><th>expression</th></tr>\n",
       "<tr><td>0</td><td>Lambda</td><td>parameter:&nbsp;22<br>body:&nbsp;1<br></td><td><a class=\"ProveItLink\" href=\"expr.ipynb\"><img src=\"expr.png\" style=\"display:inline;vertical-align:middle;\" /></a></td></tr>\n",
       "<tr><td>1</td><td>Conditional</td><td>value:&nbsp;2<br>condition:&nbsp;3<br></td><td><a class=\"ProveItLink\" href=\"../1641070523d7def27b38137fb4b70e831c31287f0/expr.ipynb\"><img src=\"../1641070523d7def27b38137fb4b70e831c31287f0/expr.png\" style=\"display:inline;vertical-align:middle;\" /></a></td></tr>\n",
       "<tr><td>2</td><td>Operation</td><td>operator:&nbsp;4<br>operands:&nbsp;5<br></td><td><a class=\"ProveItLink\" href=\"../9c280f76e5a30a54ed2ab307af1a41b1a948adc30/expr.ipynb\"><img src=\"../9c280f76e5a30a54ed2ab307af1a41b1a948adc30/expr.png\" style=\"display:inline;vertical-align:middle;\" /></a></td></tr>\n",
       "<tr><td>3</td><td>Operation</td><td>operator:&nbsp;14<br>operands:&nbsp;6<br></td><td><a class=\"ProveItLink\" href=\"../c840b61b4e09718d69592ad0366f0ca7f01944410/expr.ipynb\"><img src=\"../c840b61b4e09718d69592ad0366f0ca7f01944410/expr.png\" style=\"display:inline;vertical-align:middle;\" /></a></td></tr>\n",
       "<tr><td>4</td><td>Literal</td><td></td><td><a class=\"ProveItLink\" href=\"../../common/ef8e59262ff8e0133aa1ca984dd6b3a41bf69d5b0/expr.ipynb\"><img src=\"../../common/ef8e59262ff8e0133aa1ca984dd6b3a41bf69d5b0/expr.png\" style=\"display:inline;vertical-align:middle;\" /></a></td></tr>\n",
       "<tr><td>5</td><td>ExprTuple</td><td>21, 22</td><td><a class=\"ProveItLink\" href=\"../c4f8ee47f0dfe1942588b457450dbe3534fc19ed0/expr.ipynb\"><img src=\"../c4f8ee47f0dfe1942588b457450dbe3534fc19ed0/expr.png\" style=\"display:inline;vertical-align:middle;\" /></a></td></tr>\n",
       "<tr><td>6</td><td>ExprTuple</td><td>7, 8</td><td><a class=\"ProveItLink\" href=\"../03a584aa2ce08df71ec6c4b97e5c66dfd49661690/expr.ipynb\"><img src=\"../03a584aa2ce08df71ec6c4b97e5c66dfd49661690/expr.png\" style=\"display:inline;vertical-align:middle;\" /></a></td></tr>\n",
       "<tr><td>7</td><td>Operation</td><td>operator:&nbsp;9<br>operands:&nbsp;10<br></td><td><a class=\"ProveItLink\" href=\"../../theorems/c50b73f2d168f6a3012768bd45c62ea92218bcbc0/expr.ipynb\"><img src=\"../../theorems/c50b73f2d168f6a3012768bd45c62ea92218bcbc0/expr.png\" style=\"display:inline;vertical-align:middle;\" /></a></td></tr>\n",
       "<tr><td>8</td><td>Operation</td><td>operator:&nbsp;19<br>operand:&nbsp;13<br></td><td><a class=\"ProveItLink\" href=\"../1cd91c7650201f51ff806d686712a698187630be0/expr.ipynb\"><img src=\"../1cd91c7650201f51ff806d686712a698187630be0/expr.png\" style=\"display:inline;vertical-align:middle;\" /></a></td></tr>\n",
       "<tr><td>9</td><td>Literal</td><td></td><td><a class=\"ProveItLink\" href=\"../../../../../sets/membership/__pv_it/common/477487d8796864d23d5810f83761435f25167f690/expr.ipynb\"><img src=\"../../../../../sets/membership/__pv_it/common/477487d8796864d23d5810f83761435f25167f690/expr.png\" style=\"display:inline;vertical-align:middle;\" /></a></td></tr>\n",
       "<tr><td>10</td><td>ExprTuple</td><td>22, 12</td><td><a class=\"ProveItLink\" href=\"../../theorems/5e8e479d9a496304ae582f3d8c5c79a5903c707c0/expr.ipynb\"><img src=\"../../theorems/5e8e479d9a496304ae582f3d8c5c79a5903c707c0/expr.png\" style=\"display:inline;vertical-align:middle;\" /></a></td></tr>\n",
       "<tr><td>11</td><td>ExprTuple</td><td>13</td><td><a class=\"ProveItLink\" href=\"../e32c8f6544727091c26f04ef9b313dbfcbe43b770/expr.ipynb\"><img src=\"../e32c8f6544727091c26f04ef9b313dbfcbe43b770/expr.png\" style=\"display:inline;vertical-align:middle;\" /></a></td></tr>\n",
       "<tr><td>12</td><td>Literal</td><td></td><td><a class=\"ProveItLink\" href=\"../../../../__pv_it/common/97424376de9815ad99f7180e3191b1cf4ab2a5710/expr.ipynb\"><img src=\"../../../../__pv_it/common/97424376de9815ad99f7180e3191b1cf4ab2a5710/expr.png\" style=\"display:inline;vertical-align:middle;\" /></a></td></tr>\n",
       "<tr><td>13</td><td>Operation</td><td>operator:&nbsp;14<br>operands:&nbsp;15<br></td><td><a class=\"ProveItLink\" href=\"../ae19a72d5914900b95d1ad800ccf584310477bcd0/expr.ipynb\"><img src=\"../ae19a72d5914900b95d1ad800ccf584310477bcd0/expr.png\" style=\"display:inline;vertical-align:middle;\" /></a></td></tr>\n",
       "<tr><td>14</td><td>Literal</td><td></td><td><a class=\"ProveItLink\" href=\"../../../../conjunction/__pv_it/common/42118ff318bd65d98b1393f64ce7c2269feef76e0/expr.ipynb\"><img src=\"../../../../conjunction/__pv_it/common/42118ff318bd65d98b1393f64ce7c2269feef76e0/expr.png\" style=\"display:inline;vertical-align:middle;\" /></a></td></tr>\n",
       "<tr><td>15</td><td>ExprTuple</td><td>16, 17</td><td><a class=\"ProveItLink\" href=\"../29e83ee8d5f8529c4ce4f8b614ed30355d9c104a0/expr.ipynb\"><img src=\"../29e83ee8d5f8529c4ce4f8b614ed30355d9c104a0/expr.png\" style=\"display:inline;vertical-align:middle;\" /></a></td></tr>\n",
       "<tr><td>16</td><td>Operation</td><td>operator:&nbsp;19<br>operand:&nbsp;21<br></td><td><a class=\"ProveItLink\" href=\"../../../../negation/__pv_it/axioms/446a01d9a7ebef169028057d3b157d31652390170/expr.ipynb\"><img src=\"../../../../negation/__pv_it/axioms/446a01d9a7ebef169028057d3b157d31652390170/expr.png\" style=\"display:inline;vertical-align:middle;\" /></a></td></tr>\n",
       "<tr><td>17</td><td>Operation</td><td>operator:&nbsp;19<br>operand:&nbsp;22<br></td><td><a class=\"ProveItLink\" href=\"../../theorems/8552c6321b312c5e15a5015adce4a756ce05da420/expr.ipynb\"><img src=\"../../theorems/8552c6321b312c5e15a5015adce4a756ce05da420/expr.png\" style=\"display:inline;vertical-align:middle;\" /></a></td></tr>\n",
       "<tr><td>18</td><td>ExprTuple</td><td>21</td><td><a class=\"ProveItLink\" href=\"../../../../negation/__pv_it/axioms/a855a267d4f945b106773c7bab29f8f0e36bad550/expr.ipynb\"><img src=\"../../../../negation/__pv_it/axioms/a855a267d4f945b106773c7bab29f8f0e36bad550/expr.png\" style=\"display:inline;vertical-align:middle;\" /></a></td></tr>\n",
       "<tr><td>19</td><td>Literal</td><td></td><td><a class=\"ProveItLink\" href=\"../../../../negation/__pv_it/common/1a811a997e5d75fdb50cdaf74f302daccad39af40/expr.ipynb\"><img src=\"../../../../negation/__pv_it/common/1a811a997e5d75fdb50cdaf74f302daccad39af40/expr.png\" style=\"display:inline;vertical-align:middle;\" /></a></td></tr>\n",
       "<tr><td>20</td><td>ExprTuple</td><td>22</td><td><a class=\"ProveItLink\" href=\"../../theorems/a7ff2e5307eface0f17839b0263ddd504c2c69e40/expr.ipynb\"><img src=\"../../theorems/a7ff2e5307eface0f17839b0263ddd504c2c69e40/expr.png\" style=\"display:inline;vertical-align:middle;\" /></a></td></tr>\n",
       "<tr><td>21</td><td>Literal</td><td></td><td><a class=\"ProveItLink\" href=\"../../../../__pv_it/common/e0f123f2e4f322e1eba7f861749cda9fd9d99a120/expr.ipynb\"><img src=\"../../../../__pv_it/common/e0f123f2e4f322e1eba7f861749cda9fd9d99a120/expr.png\" style=\"display:inline;vertical-align:middle;\" /></a></td></tr>\n",
       "<tr><td>22</td><td>Variable</td><td></td><td><a class=\"ProveItLink\" href=\"../../../../../../__pv_it/common/a9162d1c3cc0470c02e5daf414500903a7a419230/expr.ipynb\"><img src=\"../../../../../../__pv_it/common/a9162d1c3cc0470c02e5daf414500903a7a419230/expr.png\" style=\"display:inline;vertical-align:middle;\" /></a></td></tr>\n",
       "</table>\n"
      ],
      "text/plain": [
       "0. B -> {FALSE or B if B in BOOLEAN ,  [not]([not](FALSE) and [not](B)).\n",
       "   core type: Lambda\n",
       "   parameter: 22\n",
       "   body: 1\n",
       "1. {FALSE or B if B in BOOLEAN ,  [not]([not](FALSE) and [not](B)).\n",
       "   core type: Conditional\n",
       "   value: 2\n",
       "   condition: 3\n",
       "2. FALSE or B\n",
       "   core type: Operation\n",
       "   operator: 4\n",
       "   operands: 5\n",
       "3. (B in BOOLEAN) and [not]([not](FALSE) and [not](B))\n",
       "   core type: Operation\n",
       "   operator: 14\n",
       "   operands: 6\n",
       "4. or\n",
       "   core type: Literal\n",
       "   sub-expressions: \n",
       "5. (FALSE, B)\n",
       "   core type: ExprTuple\n",
       "   sub-expressions: 21, 22\n",
       "6. (B in BOOLEAN, [not]([not](FALSE) and [not](B)))\n",
       "   core type: ExprTuple\n",
       "   sub-expressions: 7, 8\n",
       "7. B in BOOLEAN\n",
       "   core type: Operation\n",
       "   operator: 9\n",
       "   operands: 10\n",
       "8. [not]([not](FALSE) and [not](B))\n",
       "   core type: Operation\n",
       "   operator: 19\n",
       "   operand: 13\n",
       "9. in\n",
       "   core type: Literal\n",
       "   sub-expressions: \n",
       "10. (B, BOOLEAN)\n",
       "    core type: ExprTuple\n",
       "    sub-expressions: 22, 12\n",
       "11. ([not](FALSE) and [not](B))\n",
       "    core type: ExprTuple\n",
       "    sub-expressions: 13\n",
       "12. BOOLEAN\n",
       "    core type: Literal\n",
       "    sub-expressions: \n",
       "13. [not](FALSE) and [not](B)\n",
       "    core type: Operation\n",
       "    operator: 14\n",
       "    operands: 15\n",
       "14. and\n",
       "    core type: Literal\n",
       "    sub-expressions: \n",
       "15. ([not](FALSE), [not](B))\n",
       "    core type: ExprTuple\n",
       "    sub-expressions: 16, 17\n",
       "16. [not](FALSE)\n",
       "    core type: Operation\n",
       "    operator: 19\n",
       "    operand: 21\n",
       "17. [not](B)\n",
       "    core type: Operation\n",
       "    operator: 19\n",
       "    operand: 22\n",
       "18. (FALSE)\n",
       "    core type: ExprTuple\n",
       "    sub-expressions: 21\n",
       "19. not\n",
       "    core type: Literal\n",
       "    sub-expressions: \n",
       "20. (B)\n",
       "    core type: ExprTuple\n",
       "    sub-expressions: 22\n",
       "21. FALSE\n",
       "    core type: Literal\n",
       "    sub-expressions: \n",
       "22. B\n",
       "    core type: Variable\n",
       "    sub-expressions: "
      ]
     },
     "metadata": {},
     "output_type": "display_data"
    }
   ],
   "source": [
    "# display the expression information\n",
    "stored_expr.expr_info()"
   ]
  },
  {
   "cell_type": "code",
   "execution_count": null,
   "metadata": {},
   "outputs": [],
   "source": []
  }
 ],
 "metadata": {
  "kernelspec": {
   "display_name": "Python 3",
   "language": "python",
   "name": "python3"
  }
 },
 "nbformat": 4,
 "nbformat_minor": 0
}