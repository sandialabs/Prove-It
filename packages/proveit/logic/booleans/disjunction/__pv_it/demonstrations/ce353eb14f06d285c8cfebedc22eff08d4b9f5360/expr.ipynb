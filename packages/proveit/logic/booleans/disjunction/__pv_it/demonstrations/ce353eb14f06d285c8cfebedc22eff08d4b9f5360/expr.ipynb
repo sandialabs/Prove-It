{
 "cells": [
  {
   "cell_type": "markdown",
   "metadata": {},
   "source": [
    "Expression of type <a class=\"ProveItLink\" href=\"../../../../../../../../doc/html/api/proveit.ExprTuple.html\">ExprTuple</a>\n",
    "=======================\n",
    "# from the theory of <a class=\"ProveItLink\" href=\"../../../_theory_nbs_/theory.ipynb\">proveit.logic.booleans.disjunction</a>"
   ]
  },
  {
   "cell_type": "code",
   "execution_count": 1,
   "metadata": {},
   "outputs": [],
   "source": [
    "import proveit\n",
    "# Automation is not needed when building an expression:\n",
    "proveit.defaults.automation = False # This will speed things up.\n",
    "proveit.defaults.inline_pngs = False # Makes files smaller.\n",
    "%load_expr # Load the stored expression as 'stored_expr'\n",
    "# import Expression classes needed to build the expression\n",
    "from proveit import C, Conditional, ExprRange, ExprTuple, IndexedVar, Lambda, Variable\n",
    "from proveit.logic import And, Boolean, InSet, Or\n",
    "from proveit.numbers import four, one"
   ]
  },
  {
   "cell_type": "code",
   "execution_count": 2,
   "metadata": {},
   "outputs": [
    {
     "data": {
      "text/html": [
       "<strong id=\"expr\">expr:</strong> <a class=\"ProveItLink\" href=\"expr.ipynb\"><img src=\"expr.png\" style=\"display:inline;vertical-align:middle;\" /></a><br>"
      ],
      "text/plain": [
       "<IPython.core.display.HTML object>"
      ]
     },
     "metadata": {},
     "output_type": "display_data"
    }
   ],
   "source": [
    "# build up the expression from sub-expressions\n",
    "sub_expr1 = Variable(\"_a\", latex_format = r\"{_{-}a}\")\n",
    "sub_expr2 = IndexedVar(C, sub_expr1)\n",
    "sub_expr3 = ExprRange(sub_expr1, sub_expr2, one, four)\n",
    "expr = ExprTuple(Lambda([sub_expr3], Conditional(InSet(Or(sub_expr3), Boolean), And(ExprRange(sub_expr1, InSet(sub_expr2, Boolean), one, four)))))"
   ]
  },
  {
   "cell_type": "code",
   "execution_count": 3,
   "metadata": {},
   "outputs": [
    {
     "name": "stdout",
     "output_type": "stream",
     "text": [
      "Passed sanity check: expr matches stored_expr\n"
     ]
    }
   ],
   "source": [
    "# check that the built expression is the same as the stored expression\n",
    "assert expr == stored_expr\n",
    "assert expr._style_id == stored_expr._style_id\n",
    "print(\"Passed sanity check: expr matches stored_expr\")"
   ]
  },
  {
   "cell_type": "code",
   "execution_count": 4,
   "metadata": {},
   "outputs": [
    {
     "name": "stdout",
     "output_type": "stream",
     "text": [
      "\\left(\\left(C_{1}, C_{2}, \\ldots, C_{4}\\right) \\mapsto \\left\\{\\left(C_{1} \\lor  C_{2} \\lor  \\ldots \\lor  C_{4}\\right) \\in \\mathbb{B} \\textrm{ if } \\left(C_{1} \\in \\mathbb{B}\\right) \\land  \\left(C_{2} \\in \\mathbb{B}\\right) \\land  \\ldots \\land  \\left(C_{4} \\in \\mathbb{B}\\right)\\right..\\right)\n"
     ]
    }
   ],
   "source": [
    "# Show the LaTeX representation of the expression for convenience if you need it.\n",
    "print(stored_expr.latex())"
   ]
  },
  {
   "cell_type": "code",
   "execution_count": 5,
   "metadata": {},
   "outputs": [
    {
     "data": {
      "text/html": [
       "no style options"
      ],
      "text/plain": [
       "no style options"
      ]
     },
     "metadata": {},
     "output_type": "display_data"
    }
   ],
   "source": [
    "stored_expr.style_options()"
   ]
  },
  {
   "cell_type": "code",
   "execution_count": 6,
   "metadata": {},
   "outputs": [
    {
     "data": {
      "text/html": [
       "<table><tr><th>&nbsp;</th><th>core type</th><th>sub-expressions</th><th>expression</th></tr>\n",
       "<tr><td>0</td><td>ExprTuple</td><td>1</td><td><a class=\"ProveItLink\" href=\"expr.ipynb\"><img src=\"expr.png\" style=\"display:inline;vertical-align:middle;\" /></a></td></tr>\n",
       "<tr><td>1</td><td>Lambda</td><td>parameters:&nbsp;11<br>body:&nbsp;2<br></td><td><a class=\"ProveItLink\" href=\"../6a64382ca5de787a4506835e44b0d21a5f9b36a30/expr.ipynb\"><img src=\"../6a64382ca5de787a4506835e44b0d21a5f9b36a30/expr.png\" style=\"display:inline;vertical-align:middle;\" /></a></td></tr>\n",
       "<tr><td>2</td><td>Conditional</td><td>value:&nbsp;3<br>condition:&nbsp;4<br></td><td><a class=\"ProveItLink\" href=\"../9137a400cf957d277d1e8a58be5e91b759169ae60/expr.ipynb\"><img src=\"../9137a400cf957d277d1e8a58be5e91b759169ae60/expr.png\" style=\"display:inline;vertical-align:middle;\" /></a></td></tr>\n",
       "<tr><td>3</td><td>Operation</td><td>operator:&nbsp;18<br>operands:&nbsp;5<br></td><td><a class=\"ProveItLink\" href=\"../d34f958fbf8cefbeebba63706e57fe0c51482f960/expr.ipynb\"><img src=\"../d34f958fbf8cefbeebba63706e57fe0c51482f960/expr.png\" style=\"display:inline;vertical-align:middle;\" /></a></td></tr>\n",
       "<tr><td>4</td><td>Operation</td><td>operator:&nbsp;6<br>operands:&nbsp;7<br></td><td><a class=\"ProveItLink\" href=\"../eeceb07e308a46e131fb4bc7ae20d06e8ad8d0dd0/expr.ipynb\"><img src=\"../eeceb07e308a46e131fb4bc7ae20d06e8ad8d0dd0/expr.png\" style=\"display:inline;vertical-align:middle;\" /></a></td></tr>\n",
       "<tr><td>5</td><td>ExprTuple</td><td>8, 21</td><td><a class=\"ProveItLink\" href=\"../fd4b33a45675bdfb94e21da2948c0806e31232ae0/expr.ipynb\"><img src=\"../fd4b33a45675bdfb94e21da2948c0806e31232ae0/expr.png\" style=\"display:inline;vertical-align:middle;\" /></a></td></tr>\n",
       "<tr><td>6</td><td>Literal</td><td></td><td><a class=\"ProveItLink\" href=\"../../../../conjunction/__pv_it/common/42118ff318bd65d98b1393f64ce7c2269feef76e0/expr.ipynb\"><img src=\"../../../../conjunction/__pv_it/common/42118ff318bd65d98b1393f64ce7c2269feef76e0/expr.png\" style=\"display:inline;vertical-align:middle;\" /></a></td></tr>\n",
       "<tr><td>7</td><td>ExprTuple</td><td>9</td><td><a class=\"ProveItLink\" href=\"../b332f1a504dd77f5f1009157d79bc02768aae6e40/expr.ipynb\"><img src=\"../b332f1a504dd77f5f1009157d79bc02768aae6e40/expr.png\" style=\"display:inline;vertical-align:middle;\" /></a></td></tr>\n",
       "<tr><td>8</td><td>Operation</td><td>operator:&nbsp;10<br>operands:&nbsp;11<br></td><td><a class=\"ProveItLink\" href=\"../e761cbe905100ae6b74e760ddca6f38b09ad04e50/expr.ipynb\"><img src=\"../e761cbe905100ae6b74e760ddca6f38b09ad04e50/expr.png\" style=\"display:inline;vertical-align:middle;\" /></a></td></tr>\n",
       "<tr><td>9</td><td>ExprRange</td><td>lambda_map:&nbsp;12<br>start_index:&nbsp;16<br>end_index:&nbsp;17<br></td><td><a class=\"ProveItLink\" href=\"../5d888415ce9272d785c2d0c335a17c56b6b6bcb20/expr.ipynb\"><img src=\"../5d888415ce9272d785c2d0c335a17c56b6b6bcb20/expr.png\" style=\"display:inline;vertical-align:middle;\" /></a></td></tr>\n",
       "<tr><td>10</td><td>Literal</td><td></td><td><a class=\"ProveItLink\" href=\"../../common/ef8e59262ff8e0133aa1ca984dd6b3a41bf69d5b0/expr.ipynb\"><img src=\"../../common/ef8e59262ff8e0133aa1ca984dd6b3a41bf69d5b0/expr.png\" style=\"display:inline;vertical-align:middle;\" /></a></td></tr>\n",
       "<tr><td>11</td><td>ExprTuple</td><td>13</td><td><a class=\"ProveItLink\" href=\"../897fa05e92df6e7d0c1be2d296603daaff3de8c20/expr.ipynb\"><img src=\"../897fa05e92df6e7d0c1be2d296603daaff3de8c20/expr.png\" style=\"display:inline;vertical-align:middle;\" /></a></td></tr>\n",
       "<tr><td>12</td><td>Lambda</td><td>parameter:&nbsp;24<br>body:&nbsp;14<br></td><td><a class=\"ProveItLink\" href=\"../1d62f4848cb58c5f81b1a54ca4e9e6493636b0bc0/expr.ipynb\"><img src=\"../1d62f4848cb58c5f81b1a54ca4e9e6493636b0bc0/expr.png\" style=\"display:inline;vertical-align:middle;\" /></a></td></tr>\n",
       "<tr><td>13</td><td>ExprRange</td><td>lambda_map:&nbsp;15<br>start_index:&nbsp;16<br>end_index:&nbsp;17<br></td><td><a class=\"ProveItLink\" href=\"../012b1828ec8c0b9846f02ea6f15445077dfd91100/expr.ipynb\"><img src=\"../012b1828ec8c0b9846f02ea6f15445077dfd91100/expr.png\" style=\"display:inline;vertical-align:middle;\" /></a></td></tr>\n",
       "<tr><td>14</td><td>Operation</td><td>operator:&nbsp;18<br>operands:&nbsp;19<br></td><td><a class=\"ProveItLink\" href=\"../f161700ea9c36270553cc9e817eb7416b9e36b500/expr.ipynb\"><img src=\"../f161700ea9c36270553cc9e817eb7416b9e36b500/expr.png\" style=\"display:inline;vertical-align:middle;\" /></a></td></tr>\n",
       "<tr><td>15</td><td>Lambda</td><td>parameter:&nbsp;24<br>body:&nbsp;20<br></td><td><a class=\"ProveItLink\" href=\"../../../../../../core_expr_types/__pv_it/common/c9399abb980047fe39e716f375f641a4494b404b0/expr.ipynb\"><img src=\"../../../../../../core_expr_types/__pv_it/common/c9399abb980047fe39e716f375f641a4494b404b0/expr.png\" style=\"display:inline;vertical-align:middle;\" /></a></td></tr>\n",
       "<tr><td>16</td><td>Literal</td><td></td><td><a class=\"ProveItLink\" href=\"../../../../../../numbers/numerals/__pv_it/common/682157d4892d216d9e5626ed533aff9b56b9506e0/expr.ipynb\"><img src=\"../../../../../../numbers/numerals/__pv_it/common/682157d4892d216d9e5626ed533aff9b56b9506e0/expr.png\" style=\"display:inline;vertical-align:middle;\" /></a></td></tr>\n",
       "<tr><td>17</td><td>Literal</td><td></td><td><a class=\"ProveItLink\" href=\"../../../../../../numbers/numerals/__pv_it/common/48a1d915c1e9490b9a94e5c77a208938d3ee20ce0/expr.ipynb\"><img src=\"../../../../../../numbers/numerals/__pv_it/common/48a1d915c1e9490b9a94e5c77a208938d3ee20ce0/expr.png\" style=\"display:inline;vertical-align:middle;\" /></a></td></tr>\n",
       "<tr><td>18</td><td>Literal</td><td></td><td><a class=\"ProveItLink\" href=\"../../../../../sets/membership/__pv_it/common/477487d8796864d23d5810f83761435f25167f690/expr.ipynb\"><img src=\"../../../../../sets/membership/__pv_it/common/477487d8796864d23d5810f83761435f25167f690/expr.png\" style=\"display:inline;vertical-align:middle;\" /></a></td></tr>\n",
       "<tr><td>19</td><td>ExprTuple</td><td>20, 21</td><td><a class=\"ProveItLink\" href=\"../240f87d4f00f5b917f53616d36f86fff5a6299590/expr.ipynb\"><img src=\"../240f87d4f00f5b917f53616d36f86fff5a6299590/expr.png\" style=\"display:inline;vertical-align:middle;\" /></a></td></tr>\n",
       "<tr><td>20</td><td>IndexedVar</td><td>variable:&nbsp;22<br>index:&nbsp;24<br></td><td><a class=\"ProveItLink\" href=\"../../../../../../core_expr_types/__pv_it/common/f756bc205d05c1af04e1aeeb7a42469b1e89f9cf0/expr.ipynb\"><img src=\"../../../../../../core_expr_types/__pv_it/common/f756bc205d05c1af04e1aeeb7a42469b1e89f9cf0/expr.png\" style=\"display:inline;vertical-align:middle;\" /></a></td></tr>\n",
       "<tr><td>21</td><td>Literal</td><td></td><td><a class=\"ProveItLink\" href=\"../../../../__pv_it/common/97424376de9815ad99f7180e3191b1cf4ab2a5710/expr.ipynb\"><img src=\"../../../../__pv_it/common/97424376de9815ad99f7180e3191b1cf4ab2a5710/expr.png\" style=\"display:inline;vertical-align:middle;\" /></a></td></tr>\n",
       "<tr><td>22</td><td>Variable</td><td></td><td><a class=\"ProveItLink\" href=\"../../../../../../__pv_it/common/9fba9f29e823606ff4fdf2f1c6d5d08d906e850a0/expr.ipynb\"><img src=\"../../../../../../__pv_it/common/9fba9f29e823606ff4fdf2f1c6d5d08d906e850a0/expr.png\" style=\"display:inline;vertical-align:middle;\" /></a></td></tr>\n",
       "<tr><td>23</td><td>ExprTuple</td><td>24</td><td><a class=\"ProveItLink\" href=\"../../../../../../core_expr_types/__pv_it/common/4b0dd6be36d76552eda6a95d5b4a27f5a5b62f900/expr.ipynb\"><img src=\"../../../../../../core_expr_types/__pv_it/common/4b0dd6be36d76552eda6a95d5b4a27f5a5b62f900/expr.png\" style=\"display:inline;vertical-align:middle;\" /></a></td></tr>\n",
       "<tr><td>24</td><td>Variable</td><td></td><td><a class=\"ProveItLink\" href=\"../../../../../../core_expr_types/__pv_it/common/006c465e50948aa2b52285e2de47974f741255cc0/expr.ipynb\"><img src=\"../../../../../../core_expr_types/__pv_it/common/006c465e50948aa2b52285e2de47974f741255cc0/expr.png\" style=\"display:inline;vertical-align:middle;\" /></a></td></tr>\n",
       "</table>\n"
      ],
      "text/plain": [
       "0. ((C_{1}, C_{2}, ..., C_{4}) -> {(C_{1} or  C_{2} or  ... or  C_{4}) in BOOLEAN if (C_{1} in BOOLEAN) and  (C_{2} in BOOLEAN) and  ... and  (C_{4} in BOOLEAN).)\n",
       "   core type: ExprTuple\n",
       "   sub-expressions: 1\n",
       "1. (C_{1}, C_{2}, ..., C_{4}) -> {(C_{1} or  C_{2} or  ... or  C_{4}) in BOOLEAN if (C_{1} in BOOLEAN) and  (C_{2} in BOOLEAN) and  ... and  (C_{4} in BOOLEAN).\n",
       "   core type: Lambda\n",
       "   parameters: 11\\n   body: 2\n",
       "2. {(C_{1} or  C_{2} or  ... or  C_{4}) in BOOLEAN if (C_{1} in BOOLEAN) and  (C_{2} in BOOLEAN) and  ... and  (C_{4} in BOOLEAN).\n",
       "   core type: Conditional\n",
       "   value: 3\n",
       "   condition: 4\n",
       "3. (C_{1} or  C_{2} or  ... or  C_{4}) in BOOLEAN\n",
       "   core type: Operation\n",
       "   operator: 18\n",
       "   operands: 5\n",
       "4. (C_{1} in BOOLEAN) and  (C_{2} in BOOLEAN) and  ... and  (C_{4} in BOOLEAN)\n",
       "   core type: Operation\n",
       "   operator: 6\n",
       "   operands: 7\n",
       "5. (C_{1} or  C_{2} or  ... or  C_{4}, BOOLEAN)\n",
       "   core type: ExprTuple\n",
       "   sub-expressions: 8, 21\n",
       "6. and\n",
       "   core type: Literal\n",
       "   sub-expressions: \n",
       "7. ((C_{1} in BOOLEAN), (C_{2} in BOOLEAN), ..., (C_{4} in BOOLEAN))\n",
       "   core type: ExprTuple\n",
       "   sub-expressions: 9\n",
       "8. C_{1} or  C_{2} or  ... or  C_{4}\n",
       "   core type: Operation\n",
       "   operator: 10\n",
       "   operands: 11\n",
       "9. (C_{1} in BOOLEAN), (C_{2} in BOOLEAN), ..., (C_{4} in BOOLEAN)\n",
       "   core type: ExprRange\n",
       "   lambda_map: 12\n",
       "   start_index: 16\n",
       "   end_index: 17\n",
       "10. or\n",
       "    core type: Literal\n",
       "    sub-expressions: \n",
       "11. (C_{1}, C_{2}, ..., C_{4})\n",
       "    core type: ExprTuple\n",
       "    sub-expressions: 13\n",
       "12. _a -> (C_{_a} in BOOLEAN)\n",
       "    core type: Lambda\n",
       "    parameter: 24\n",
       "    body: 14\n",
       "13. C_{1}, C_{2}, ..., C_{4}\n",
       "    core type: ExprRange\n",
       "    lambda_map: 15\n",
       "    start_index: 16\n",
       "    end_index: 17\n",
       "14. C_{_a} in BOOLEAN\n",
       "    core type: Operation\n",
       "    operator: 18\n",
       "    operands: 19\n",
       "15. _a -> C_{_a}\n",
       "    core type: Lambda\n",
       "    parameter: 24\n",
       "    body: 20\n",
       "16. 1\n",
       "    core type: Literal\n",
       "    sub-expressions: \n",
       "17. 4\n",
       "    core type: Literal\n",
       "    sub-expressions: \n",
       "18. in\n",
       "    core type: Literal\n",
       "    sub-expressions: \n",
       "19. (C_{_a}, BOOLEAN)\n",
       "    core type: ExprTuple\n",
       "    sub-expressions: 20, 21\n",
       "20. C_{_a}\n",
       "    core type: IndexedVar\n",
       "variable: 22\n",
       "index: 24\n",
       "21. BOOLEAN\n",
       "    core type: Literal\n",
       "    sub-expressions: \n",
       "22. C\n",
       "    core type: Variable\n",
       "    sub-expressions: \n",
       "23. (_a)\n",
       "    core type: ExprTuple\n",
       "    sub-expressions: 24\n",
       "24. _a\n",
       "    core type: Variable\n",
       "    sub-expressions: "
      ]
     },
     "metadata": {},
     "output_type": "display_data"
    }
   ],
   "source": [
    "# display the expression information\n",
    "stored_expr.expr_info()"
   ]
  },
  {
   "cell_type": "code",
   "execution_count": null,
   "metadata": {},
   "outputs": [],
   "source": []
  }
 ],
 "metadata": {
  "kernelspec": {
   "display_name": "Python 3",
   "language": "python",
   "name": "python3"
  }
 },
 "nbformat": 4,
 "nbformat_minor": 0
}