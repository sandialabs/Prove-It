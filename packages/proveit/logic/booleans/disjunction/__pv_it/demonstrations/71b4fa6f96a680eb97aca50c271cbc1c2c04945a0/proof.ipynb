{
 "cells": [
  {
   "cell_type": "markdown",
   "metadata": {},
   "source": [
    "Show the Proof\n",
    "========"
   ]
  },
  {
   "cell_type": "code",
   "execution_count": 1,
   "metadata": {},
   "outputs": [
    {
     "data": {
      "text/html": [
       "<table><tr><th>&nbsp;</th><th>step type</th><th>requirements</th><th>statement</th></tr>\n",
       "<tr><td><a name=\"proveit.logic.booleans.disjunction.demonstrations.71b4fa6f96a680eb97aca50c271cbc1c2c04945a0_step0\">0</a></td><td>instantiation</td><td><a href=\"#proveit.logic.booleans.disjunction.demonstrations.71b4fa6f96a680eb97aca50c271cbc1c2c04945a0_step1\">1</a>, <a href=\"#proveit.logic.booleans.disjunction.demonstrations.71b4fa6f96a680eb97aca50c271cbc1c2c04945a0_step2\">2</a>, <a href=\"#proveit.logic.booleans.disjunction.demonstrations.71b4fa6f96a680eb97aca50c271cbc1c2c04945a0_step3\">3</a>, <a href=\"#proveit.logic.booleans.disjunction.demonstrations.71b4fa6f96a680eb97aca50c271cbc1c2c04945a0_step4\">4</a>, <a href=\"#proveit.logic.booleans.disjunction.demonstrations.71b4fa6f96a680eb97aca50c271cbc1c2c04945a0_step5\">5</a>, <a href=\"#proveit.logic.booleans.disjunction.demonstrations.71b4fa6f96a680eb97aca50c271cbc1c2c04945a0_step6\">6</a></td><td><span style=\"font-size:20px;\"><a class=\"ProveItLink\" href=\"../../../../__pv_it/theorems/a10dbfd9a4efbb6f30af430036ab01697a9460f80/expr.ipynb\"><img src=\"../../../../__pv_it/theorems/a10dbfd9a4efbb6f30af430036ab01697a9460f80/expr.png\" style=\"display:inline;vertical-align:middle;\" /></a>, <a class=\"ProveItLink\" href=\"../../theorems/c50b73f2d168f6a3012768bd45c62ea92218bcbc0/expr.ipynb\"><img src=\"../../theorems/c50b73f2d168f6a3012768bd45c62ea92218bcbc0/expr.png\" style=\"display:inline;vertical-align:middle;\" /></a>, <a class=\"ProveItLink\" href=\"../../axioms/93740805d9480eb9ad930b4e4e09b06b85ab14c70/expr.ipynb\"><img src=\"../../axioms/93740805d9480eb9ad930b4e4e09b06b85ab14c70/expr.png\" style=\"display:inline;vertical-align:middle;\" /></a>, <a class=\"ProveItLink\" href=\"../../theorems/e0a020e9d252a135566be36c4415c62a49aadfe60/expr.ipynb\"><img src=\"../../theorems/e0a020e9d252a135566be36c4415c62a49aadfe60/expr.png\" style=\"display:inline;vertical-align:middle;\" /></a>, <a class=\"ProveItLink\" href=\"../../theorems/4330ddda9e29fd652cf95ea8be4349693af389660/expr.ipynb\"><img src=\"../../theorems/4330ddda9e29fd652cf95ea8be4349693af389660/expr.png\" style=\"display:inline;vertical-align:middle;\" /></a> <a class=\"ProveItLink\" href=\"proof.ipynb\" style=\"text-decoration: none\">&nbsp;&#x22A2;&nbsp;&nbsp;</a><a class=\"ProveItLink\" href=\"../../../../../../__pv_it/common/9fba9f29e823606ff4fdf2f1c6d5d08d906e850a0/expr.ipynb\"><img src=\"../../../../../../__pv_it/common/9fba9f29e823606ff4fdf2f1c6d5d08d906e850a0/expr.png\" style=\"display:inline;vertical-align:middle;\" /></a></span></td></tr>\n",
       "<tr><td>&nbsp;</td><td colspan=4 style=\"text-align:left\"><span style=\"font-size:20px;\"><a class=\"ProveItLink\" href=\"../../../../../../__pv_it/common/09585084922504426caf1db2ff588a23a0932a960/expr.ipynb\"><img src=\"../../../../../../__pv_it/common/09585084922504426caf1db2ff588a23a0932a960/expr.png\" style=\"display:inline;vertical-align:middle;\" /></a> : <a class=\"ProveItLink\" href=\"../../../../../../__pv_it/common/09585084922504426caf1db2ff588a23a0932a960/expr.ipynb\"><img src=\"../../../../../../__pv_it/common/09585084922504426caf1db2ff588a23a0932a960/expr.png\" style=\"display:inline;vertical-align:middle;\" /></a>, <a class=\"ProveItLink\" href=\"../../../../../../__pv_it/common/a9162d1c3cc0470c02e5daf414500903a7a419230/expr.ipynb\"><img src=\"../../../../../../__pv_it/common/a9162d1c3cc0470c02e5daf414500903a7a419230/expr.png\" style=\"display:inline;vertical-align:middle;\" /></a> : <a class=\"ProveItLink\" href=\"../../../../../../__pv_it/common/a9162d1c3cc0470c02e5daf414500903a7a419230/expr.ipynb\"><img src=\"../../../../../../__pv_it/common/a9162d1c3cc0470c02e5daf414500903a7a419230/expr.png\" style=\"display:inline;vertical-align:middle;\" /></a></span></td></tr><tr><td><a name=\"proveit.logic.booleans.disjunction.demonstrations.71b4fa6f96a680eb97aca50c271cbc1c2c04945a0_step1\">1</a></td><td>theorem</td><td></td><td><span style=\"font-size:20px;\"> <a class=\"ProveItLink\" href=\"../../../_theory_nbs_/proofs/singular_constructive_dilemma/thm_proof.ipynb\" style=\"text-decoration: none\">&nbsp;&#x22A2;&nbsp;&nbsp;</a><a class=\"ProveItLink\" href=\"../../theorems/f809f331dab9bb767cdac3d0ee485f302aa77c2c0/expr.ipynb\"><img src=\"../../theorems/f809f331dab9bb767cdac3d0ee485f302aa77c2c0/expr.png\" style=\"display:inline;vertical-align:middle;\" /></a></span></td></tr>\n",
       "<tr><td>&nbsp;</td><td colspan=4 style-\"text-align:left\"><a class=\"ProveItLink\" href=\"../../../_theory_nbs_/proofs/singular_constructive_dilemma/thm_proof.ipynb\">proveit.logic.booleans.disjunction.singular_constructive_dilemma</a></td></tr><tr><td><a name=\"proveit.logic.booleans.disjunction.demonstrations.71b4fa6f96a680eb97aca50c271cbc1c2c04945a0_step2\">2</a></td><td>assumption</td><td></td><td><span style=\"font-size:20px;\"><a class=\"ProveItLink\" href=\"../../../../__pv_it/theorems/a10dbfd9a4efbb6f30af430036ab01697a9460f80/expr.ipynb\"><img src=\"../../../../__pv_it/theorems/a10dbfd9a4efbb6f30af430036ab01697a9460f80/expr.png\" style=\"display:inline;vertical-align:middle;\" /></a> <a class=\"ProveItLink\" href=\"../db3c0f8d66e8b38e6e12b7373153857b7bab3da90/proof.ipynb\" style=\"text-decoration: none\">&nbsp;&#x22A2;&nbsp;&nbsp;</a><a class=\"ProveItLink\" href=\"../../../../__pv_it/theorems/a10dbfd9a4efbb6f30af430036ab01697a9460f80/expr.ipynb\"><img src=\"../../../../__pv_it/theorems/a10dbfd9a4efbb6f30af430036ab01697a9460f80/expr.png\" style=\"display:inline;vertical-align:middle;\" /></a></span></td></tr>\n",
       "<tr><td><a name=\"proveit.logic.booleans.disjunction.demonstrations.71b4fa6f96a680eb97aca50c271cbc1c2c04945a0_step3\">3</a></td><td>assumption</td><td></td><td><span style=\"font-size:20px;\"><a class=\"ProveItLink\" href=\"../../theorems/c50b73f2d168f6a3012768bd45c62ea92218bcbc0/expr.ipynb\"><img src=\"../../theorems/c50b73f2d168f6a3012768bd45c62ea92218bcbc0/expr.png\" style=\"display:inline;vertical-align:middle;\" /></a> <a class=\"ProveItLink\" href=\"../798e02206cf4d793b7f39f8954e5f3c836bee7570/proof.ipynb\" style=\"text-decoration: none\">&nbsp;&#x22A2;&nbsp;&nbsp;</a><a class=\"ProveItLink\" href=\"../../theorems/c50b73f2d168f6a3012768bd45c62ea92218bcbc0/expr.ipynb\"><img src=\"../../theorems/c50b73f2d168f6a3012768bd45c62ea92218bcbc0/expr.png\" style=\"display:inline;vertical-align:middle;\" /></a></span></td></tr>\n",
       "<tr><td><a name=\"proveit.logic.booleans.disjunction.demonstrations.71b4fa6f96a680eb97aca50c271cbc1c2c04945a0_step4\">4</a></td><td>assumption</td><td></td><td><span style=\"font-size:20px;\"><a class=\"ProveItLink\" href=\"../../axioms/93740805d9480eb9ad930b4e4e09b06b85ab14c70/expr.ipynb\"><img src=\"../../axioms/93740805d9480eb9ad930b4e4e09b06b85ab14c70/expr.png\" style=\"display:inline;vertical-align:middle;\" /></a> <a class=\"ProveItLink\" href=\"../0739ec8176a342afb0f2976212df8e0b8c7016ee0/proof.ipynb\" style=\"text-decoration: none\">&nbsp;&#x22A2;&nbsp;&nbsp;</a><a class=\"ProveItLink\" href=\"../../axioms/93740805d9480eb9ad930b4e4e09b06b85ab14c70/expr.ipynb\"><img src=\"../../axioms/93740805d9480eb9ad930b4e4e09b06b85ab14c70/expr.png\" style=\"display:inline;vertical-align:middle;\" /></a></span></td></tr>\n",
       "<tr><td><a name=\"proveit.logic.booleans.disjunction.demonstrations.71b4fa6f96a680eb97aca50c271cbc1c2c04945a0_step5\">5</a></td><td>assumption</td><td></td><td><span style=\"font-size:20px;\"><a class=\"ProveItLink\" href=\"../../theorems/e0a020e9d252a135566be36c4415c62a49aadfe60/expr.ipynb\"><img src=\"../../theorems/e0a020e9d252a135566be36c4415c62a49aadfe60/expr.png\" style=\"display:inline;vertical-align:middle;\" /></a> <a class=\"ProveItLink\" href=\"../47f05ef0847d92519e60d74fba2554085109090f0/proof.ipynb\" style=\"text-decoration: none\">&nbsp;&#x22A2;&nbsp;&nbsp;</a><a class=\"ProveItLink\" href=\"../../theorems/e0a020e9d252a135566be36c4415c62a49aadfe60/expr.ipynb\"><img src=\"../../theorems/e0a020e9d252a135566be36c4415c62a49aadfe60/expr.png\" style=\"display:inline;vertical-align:middle;\" /></a></span></td></tr>\n",
       "<tr><td><a name=\"proveit.logic.booleans.disjunction.demonstrations.71b4fa6f96a680eb97aca50c271cbc1c2c04945a0_step6\">6</a></td><td>assumption</td><td></td><td><span style=\"font-size:20px;\"><a class=\"ProveItLink\" href=\"../../theorems/4330ddda9e29fd652cf95ea8be4349693af389660/expr.ipynb\"><img src=\"../../theorems/4330ddda9e29fd652cf95ea8be4349693af389660/expr.png\" style=\"display:inline;vertical-align:middle;\" /></a> <a class=\"ProveItLink\" href=\"../80c74592c34e138f33e6c5df0966a7f712ec4f4e0/proof.ipynb\" style=\"text-decoration: none\">&nbsp;&#x22A2;&nbsp;&nbsp;</a><a class=\"ProveItLink\" href=\"../../theorems/4330ddda9e29fd652cf95ea8be4349693af389660/expr.ipynb\"><img src=\"../../theorems/4330ddda9e29fd652cf95ea8be4349693af389660/expr.png\" style=\"display:inline;vertical-align:middle;\" /></a></span></td></tr>\n",
       "</table>"
      ],
      "text/plain": [
       "<proveit._core_.proof._ShowProof at 0x7f3e681656a0>"
      ]
     },
     "execution_count": 1,
     "metadata": {},
     "output_type": "execute_result"
    }
   ],
   "source": [
    "import proveit\n",
    "# Automation is not needed when only showing a stored proof:\n",
    "proveit.defaults.automation = False # This will speed things up.\n",
    "proveit.defaults.inline_pngs = False # Makes files smaller.\n",
    "%show_proof"
   ]
  },
  {
   "cell_type": "code",
   "execution_count": null,
   "metadata": {},
   "outputs": [],
   "source": []
  }
 ],
 "metadata": {
  "kernelspec": {
   "display_name": "Python 3",
   "language": "python",
   "name": "python3"
  }
 },
 "nbformat": 4,
 "nbformat_minor": 0
}