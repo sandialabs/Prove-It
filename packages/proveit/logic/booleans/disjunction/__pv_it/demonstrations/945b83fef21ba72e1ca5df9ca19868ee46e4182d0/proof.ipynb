{
 "cells": [
  {
   "cell_type": "markdown",
   "metadata": {},
   "source": [
    "Show the Proof\n",
    "========"
   ]
  },
  {
   "cell_type": "code",
   "execution_count": 1,
   "metadata": {},
   "outputs": [
    {
     "data": {
      "text/html": [
       "<table><tr><th>&nbsp;</th><th>step type</th><th>requirements</th><th>statement</th></tr>\n",
       "<tr><td><a name=\"proveit.logic.booleans.disjunction.demonstrations.945b83fef21ba72e1ca5df9ca19868ee46e4182d0_step0\">0</a></td><td>instantiation</td><td><a href=\"#proveit.logic.booleans.disjunction.demonstrations.945b83fef21ba72e1ca5df9ca19868ee46e4182d0_step1\">1</a></td><td><span style=\"font-size:20px;\"> <a class=\"ProveItLink\" href=\"proof.ipynb\" style=\"text-decoration: none\">&nbsp;&#x22A2;&nbsp;&nbsp;</a><a class=\"ProveItLink\" href=\"../9c2e3326a2a6703475ef0ad83a1ff3484bfbb8dd0/expr.ipynb\"><img src=\"../9c2e3326a2a6703475ef0ad83a1ff3484bfbb8dd0/expr.png\" style=\"display:inline;vertical-align:middle;\" /></a></span></td></tr>\n",
       "<tr><td>&nbsp;</td><td colspan=4 style=\"text-align:left\"><span style=\"font-size:20px;\"><a class=\"ProveItLink\" href=\"../../../../../../__pv_it/common/c06c606ec12678c58933ac85412ecadc2ae28be60/expr.ipynb\"><img src=\"../../../../../../__pv_it/common/c06c606ec12678c58933ac85412ecadc2ae28be60/expr.png\" style=\"display:inline;vertical-align:middle;\" /></a> : <a class=\"ProveItLink\" href=\"../../../../../../__pv_it/common/9fba9f29e823606ff4fdf2f1c6d5d08d906e850a0/expr.ipynb\"><img src=\"../../../../../../__pv_it/common/9fba9f29e823606ff4fdf2f1c6d5d08d906e850a0/expr.png\" style=\"display:inline;vertical-align:middle;\" /></a>, <a class=\"ProveItLink\" href=\"../../../../../../__pv_it/common/195236b98c6c564a75b5dbada74b173bc52d5c3e0/expr.ipynb\"><img src=\"../../../../../../__pv_it/common/195236b98c6c564a75b5dbada74b173bc52d5c3e0/expr.png\" style=\"display:inline;vertical-align:middle;\" /></a> : <a class=\"ProveItLink\" href=\"../../../../../../__pv_it/common/8d36d28f3636cdaa66f8b7d56eb3bbf0b50f70200/expr.ipynb\"><img src=\"../../../../../../__pv_it/common/8d36d28f3636cdaa66f8b7d56eb3bbf0b50f70200/expr.png\" style=\"display:inline;vertical-align:middle;\" /></a>, <a class=\"ProveItLink\" href=\"../../../../../../__pv_it/common/ceef4280a2f1cc604b455b54e735507244cc62cd0/expr.ipynb\"><img src=\"../../../../../../__pv_it/common/ceef4280a2f1cc604b455b54e735507244cc62cd0/expr.png\" style=\"display:inline;vertical-align:middle;\" /></a> : <a class=\"ProveItLink\" href=\"../../../../../../__pv_it/common/bab67c83c02ef7fff18e38de447cea6afc251f350/expr.ipynb\"><img src=\"../../../../../../__pv_it/common/bab67c83c02ef7fff18e38de447cea6afc251f350/expr.png\" style=\"display:inline;vertical-align:middle;\" /></a>, <a class=\"ProveItLink\" href=\"../../../../../../__pv_it/common/4f5c524ffda87296de1c79b96880123fe2efedd50/expr.ipynb\"><img src=\"../../../../../../__pv_it/common/4f5c524ffda87296de1c79b96880123fe2efedd50/expr.png\" style=\"display:inline;vertical-align:middle;\" /></a> : <a class=\"ProveItLink\" href=\"../../../../../../__pv_it/common/9d1ffc79180dc7de30ad10ed4b26b62e9dcb5b670/expr.ipynb\"><img src=\"../../../../../../__pv_it/common/9d1ffc79180dc7de30ad10ed4b26b62e9dcb5b670/expr.png\" style=\"display:inline;vertical-align:middle;\" /></a>, <a class=\"ProveItLink\" href=\"../../../../../../__pv_it/common/f3b2e5223a46d6d30e0676b70270e0fb96f45ce80/expr.ipynb\"><img src=\"../../../../../../__pv_it/common/f3b2e5223a46d6d30e0676b70270e0fb96f45ce80/expr.png\" style=\"display:inline;vertical-align:middle;\" /></a> : <a class=\"ProveItLink\" href=\"../../../../../../__pv_it/common/cd2bbe4a07ced9e6cf68e9cc62da3ac2ecc7137e0/expr.ipynb\"><img src=\"../../../../../../__pv_it/common/cd2bbe4a07ced9e6cf68e9cc62da3ac2ecc7137e0/expr.png\" style=\"display:inline;vertical-align:middle;\" /></a>, <a class=\"ProveItLink\" href=\"../../../../../../__pv_it/common/01b6dbb444a31fc38af4c2379badef6c75b363710/expr.ipynb\"><img src=\"../../../../../../__pv_it/common/01b6dbb444a31fc38af4c2379badef6c75b363710/expr.png\" style=\"display:inline;vertical-align:middle;\" /></a> : <a class=\"ProveItLink\" href=\"../../../../../../__pv_it/common/db1921da064725c141f453bae2d02f0bb2333a8a0/expr.ipynb\"><img src=\"../../../../../../__pv_it/common/db1921da064725c141f453bae2d02f0bb2333a8a0/expr.png\" style=\"display:inline;vertical-align:middle;\" /></a>, <a class=\"ProveItLink\" href=\"../../../../../../__pv_it/common/96ac097ea7ee432328a5e933062d0ef407701bf40/expr.ipynb\"><img src=\"../../../../../../__pv_it/common/96ac097ea7ee432328a5e933062d0ef407701bf40/expr.png\" style=\"display:inline;vertical-align:middle;\" /></a> : <a class=\"ProveItLink\" href=\"../../../../../../__pv_it/common/343861aa4b100ac072c90b5db5a254070d7bb9190/expr.ipynb\"><img src=\"../../../../../../__pv_it/common/343861aa4b100ac072c90b5db5a254070d7bb9190/expr.png\" style=\"display:inline;vertical-align:middle;\" /></a></span></td></tr><tr><td><a name=\"proveit.logic.booleans.disjunction.demonstrations.945b83fef21ba72e1ca5df9ca19868ee46e4182d0_step1\">1</a></td><td>theorem</td><td></td><td><span style=\"font-size:20px;\"> <a class=\"ProveItLink\" href=\"../../../../../../numbers/numerals/decimals/_theory_nbs_/proofs/tuple_len_7_typical_eq/thm_proof.ipynb\" style=\"text-decoration: none\">&nbsp;&#x22A2;&nbsp;&nbsp;</a><a class=\"ProveItLink\" href=\"../../../../../../numbers/numerals/decimals/__pv_it/theorems/06278e8dc731cd89b11008159f618afd521f83180/expr.ipynb\"><img src=\"../../../../../../numbers/numerals/decimals/__pv_it/theorems/06278e8dc731cd89b11008159f618afd521f83180/expr.png\" style=\"display:inline;vertical-align:middle;\" /></a></span></td></tr>\n",
       "<tr><td>&nbsp;</td><td colspan=4 style-\"text-align:left\"><a class=\"ProveItLink\" href=\"../../../../../../numbers/numerals/decimals/_theory_nbs_/proofs/tuple_len_7_typical_eq/thm_proof.ipynb\">proveit.numbers.numerals.decimals.tuple_len_7_typical_eq</a></td></tr></table>"
      ],
      "text/plain": [
       "<proveit._core_.proof._ShowProof at 0x7fa7a03ba1d0>"
      ]
     },
     "execution_count": 1,
     "metadata": {},
     "output_type": "execute_result"
    }
   ],
   "source": [
    "import proveit\n",
    "# Automation is not needed when only showing a stored proof:\n",
    "proveit.defaults.automation = False # This will speed things up.\n",
    "proveit.defaults.inline_pngs = False # Makes files smaller.\n",
    "%show_proof"
   ]
  },
  {
   "cell_type": "code",
   "execution_count": null,
   "metadata": {},
   "outputs": [],
   "source": []
  }
 ],
 "metadata": {
  "kernelspec": {
   "display_name": "Python 3",
   "language": "python",
   "name": "python3"
  }
 },
 "nbformat": 4,
 "nbformat_minor": 0
}