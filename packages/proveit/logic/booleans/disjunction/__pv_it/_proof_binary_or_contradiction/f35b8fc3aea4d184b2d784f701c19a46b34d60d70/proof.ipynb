{
 "cells": [
  {
   "cell_type": "markdown",
   "metadata": {},
   "source": [
    "Show the Proof\n",
    "========"
   ]
  },
  {
   "cell_type": "code",
   "execution_count": 1,
   "metadata": {},
   "outputs": [
    {
     "data": {
      "text/html": [
       "<table><tr><th>&nbsp;</th><th>step type</th><th>requirements</th><th>statement</th></tr>\n",
       "<tr><td><a name=\"proveit.logic.booleans.disjunction._proof_binary_or_contradiction.f35b8fc3aea4d184b2d784f701c19a46b34d60d70_step0\">0</a></td><td>instantiation</td><td><a href=\"#proveit.logic.booleans.disjunction._proof_binary_or_contradiction.f35b8fc3aea4d184b2d784f701c19a46b34d60d70_step1\">1</a>, <a href=\"#proveit.logic.booleans.disjunction._proof_binary_or_contradiction.f35b8fc3aea4d184b2d784f701c19a46b34d60d70_step2\">2</a>, <a href=\"#proveit.logic.booleans.disjunction._proof_binary_or_contradiction.f35b8fc3aea4d184b2d784f701c19a46b34d60d70_step3\">3</a></td><td><span style=\"font-size:20px;\"><a class=\"ProveItLink\" href=\"../../theorems/93740805d9480eb9ad930b4e4e09b06b85ab14c70/expr.ipynb\"><img src=\"../../theorems/93740805d9480eb9ad930b4e4e09b06b85ab14c70/expr.png\" style=\"display:inline;vertical-align:middle;\" /></a>, <a class=\"ProveItLink\" href=\"../../../../__pv_it/theorems/c6244e76de3be0816f3efc36199d65e50f6589940/expr.ipynb\"><img src=\"../../../../__pv_it/theorems/c6244e76de3be0816f3efc36199d65e50f6589940/expr.png\" style=\"display:inline;vertical-align:middle;\" /></a>, <a class=\"ProveItLink\" href=\"../../theorems/8552c6321b312c5e15a5015adce4a756ce05da420/expr.ipynb\"><img src=\"../../theorems/8552c6321b312c5e15a5015adce4a756ce05da420/expr.png\" style=\"display:inline;vertical-align:middle;\" /></a> <a class=\"ProveItLink\" href=\"proof.ipynb\" style=\"text-decoration: none\">&nbsp;&#x22A2;&nbsp;&nbsp;</a><a class=\"ProveItLink\" href=\"../../../../__pv_it/common/e0f123f2e4f322e1eba7f861749cda9fd9d99a120/expr.ipynb\"><img src=\"../../../../__pv_it/common/e0f123f2e4f322e1eba7f861749cda9fd9d99a120/expr.png\" style=\"display:inline;vertical-align:middle;\" /></a></span></td></tr>\n",
       "<tr><td>&nbsp;</td><td colspan=4 style=\"text-align:left\"><span style=\"font-size:20px;\"><a class=\"ProveItLink\" href=\"../../../../../../__pv_it/common/09585084922504426caf1db2ff588a23a0932a960/expr.ipynb\"><img src=\"../../../../../../__pv_it/common/09585084922504426caf1db2ff588a23a0932a960/expr.png\" style=\"display:inline;vertical-align:middle;\" /></a> : <a class=\"ProveItLink\" href=\"../../theorems/93740805d9480eb9ad930b4e4e09b06b85ab14c70/expr.ipynb\"><img src=\"../../theorems/93740805d9480eb9ad930b4e4e09b06b85ab14c70/expr.png\" style=\"display:inline;vertical-align:middle;\" /></a></span></td></tr><tr><td><a name=\"proveit.logic.booleans.disjunction._proof_binary_or_contradiction.f35b8fc3aea4d184b2d784f701c19a46b34d60d70_step1\">1</a></td><td>theorem</td><td></td><td><span style=\"font-size:20px;\"> <a class=\"ProveItLink\" href=\"../../../../negation/_theory_nbs_/proofs/negation_contradiction/thm_proof.ipynb\" style=\"text-decoration: none\">&nbsp;&#x22A2;&nbsp;&nbsp;</a><a class=\"ProveItLink\" href=\"../../../../negation/__pv_it/theorems/27dc228341cf78472ea9e06dffca1323233a47f10/expr.ipynb\"><img src=\"../../../../negation/__pv_it/theorems/27dc228341cf78472ea9e06dffca1323233a47f10/expr.png\" style=\"display:inline;vertical-align:middle;\" /></a></span></td></tr>\n",
       "<tr><td>&nbsp;</td><td colspan=4 style-\"text-align:left\"><a class=\"ProveItLink\" href=\"../../../../negation/_theory_nbs_/proofs/negation_contradiction/thm_proof.ipynb\">proveit.logic.booleans.negation.negation_contradiction</a></td></tr><tr><td><a name=\"proveit.logic.booleans.disjunction._proof_binary_or_contradiction.f35b8fc3aea4d184b2d784f701c19a46b34d60d70_step2\">2</a></td><td>assumption</td><td></td><td><span style=\"font-size:20px;\"><a class=\"ProveItLink\" href=\"../../theorems/93740805d9480eb9ad930b4e4e09b06b85ab14c70/expr.ipynb\"><img src=\"../../theorems/93740805d9480eb9ad930b4e4e09b06b85ab14c70/expr.png\" style=\"display:inline;vertical-align:middle;\" /></a> <a class=\"ProveItLink\" href=\"../d69902455aa55ee35288805683b0bf74b0ac0a110/proof.ipynb\" style=\"text-decoration: none\">&nbsp;&#x22A2;&nbsp;&nbsp;</a><a class=\"ProveItLink\" href=\"../../theorems/93740805d9480eb9ad930b4e4e09b06b85ab14c70/expr.ipynb\"><img src=\"../../theorems/93740805d9480eb9ad930b4e4e09b06b85ab14c70/expr.png\" style=\"display:inline;vertical-align:middle;\" /></a></span></td></tr>\n",
       "<tr><td><a name=\"proveit.logic.booleans.disjunction._proof_binary_or_contradiction.f35b8fc3aea4d184b2d784f701c19a46b34d60d70_step3\">3</a></td><td>instantiation</td><td><a href=\"#proveit.logic.booleans.disjunction._proof_binary_or_contradiction.f35b8fc3aea4d184b2d784f701c19a46b34d60d70_step4\">4</a>, <a href=\"#proveit.logic.booleans.disjunction._proof_binary_or_contradiction.f35b8fc3aea4d184b2d784f701c19a46b34d60d70_step5\">5</a>, <a href=\"#proveit.logic.booleans.disjunction._proof_binary_or_contradiction.f35b8fc3aea4d184b2d784f701c19a46b34d60d70_step6\">6</a></td><td><span style=\"font-size:20px;\"><a class=\"ProveItLink\" href=\"../../../../__pv_it/theorems/c6244e76de3be0816f3efc36199d65e50f6589940/expr.ipynb\"><img src=\"../../../../__pv_it/theorems/c6244e76de3be0816f3efc36199d65e50f6589940/expr.png\" style=\"display:inline;vertical-align:middle;\" /></a>, <a class=\"ProveItLink\" href=\"../../theorems/8552c6321b312c5e15a5015adce4a756ce05da420/expr.ipynb\"><img src=\"../../theorems/8552c6321b312c5e15a5015adce4a756ce05da420/expr.png\" style=\"display:inline;vertical-align:middle;\" /></a> <a class=\"ProveItLink\" href=\"../d34708a752af7cffa7057587e1ab5204890323990/proof.ipynb\" style=\"text-decoration: none\">&nbsp;&#x22A2;&nbsp;&nbsp;</a><a class=\"ProveItLink\" href=\"../../theorems/88b090a35cddd0f3ea45e2fff303d7d3770a7d390/expr.ipynb\"><img src=\"../../theorems/88b090a35cddd0f3ea45e2fff303d7d3770a7d390/expr.png\" style=\"display:inline;vertical-align:middle;\" /></a></span></td></tr>\n",
       "<tr><td>&nbsp;</td><td colspan=4 style=\"text-align:left\"><span style=\"font-size:20px;\"><a class=\"ProveItLink\" href=\"../../../../../../__pv_it/common/09585084922504426caf1db2ff588a23a0932a960/expr.ipynb\"><img src=\"../../../../../../__pv_it/common/09585084922504426caf1db2ff588a23a0932a960/expr.png\" style=\"display:inline;vertical-align:middle;\" /></a> : <a class=\"ProveItLink\" href=\"../../../../../../__pv_it/common/09585084922504426caf1db2ff588a23a0932a960/expr.ipynb\"><img src=\"../../../../../../__pv_it/common/09585084922504426caf1db2ff588a23a0932a960/expr.png\" style=\"display:inline;vertical-align:middle;\" /></a>, <a class=\"ProveItLink\" href=\"../../../../../../__pv_it/common/a9162d1c3cc0470c02e5daf414500903a7a419230/expr.ipynb\"><img src=\"../../../../../../__pv_it/common/a9162d1c3cc0470c02e5daf414500903a7a419230/expr.png\" style=\"display:inline;vertical-align:middle;\" /></a> : <a class=\"ProveItLink\" href=\"../../../../../../__pv_it/common/a9162d1c3cc0470c02e5daf414500903a7a419230/expr.ipynb\"><img src=\"../../../../../../__pv_it/common/a9162d1c3cc0470c02e5daf414500903a7a419230/expr.png\" style=\"display:inline;vertical-align:middle;\" /></a></span></td></tr><tr><td><a name=\"proveit.logic.booleans.disjunction._proof_binary_or_contradiction.f35b8fc3aea4d184b2d784f701c19a46b34d60d70_step4\">4</a></td><td>theorem</td><td></td><td><span style=\"font-size:20px;\"> <a class=\"ProveItLink\" href=\"../../../_theory_nbs_/proofs/neither_intro/thm_proof.ipynb\" style=\"text-decoration: none\">&nbsp;&#x22A2;&nbsp;&nbsp;</a><a class=\"ProveItLink\" href=\"../../theorems/aa437e25342693eaa9c76896665fa5c65b317cb80/expr.ipynb\"><img src=\"../../theorems/aa437e25342693eaa9c76896665fa5c65b317cb80/expr.png\" style=\"display:inline;vertical-align:middle;\" /></a></span></td></tr>\n",
       "<tr><td>&nbsp;</td><td colspan=4 style-\"text-align:left\"><a class=\"ProveItLink\" href=\"../../../_theory_nbs_/proofs/neither_intro/thm_proof.ipynb\">proveit.logic.booleans.disjunction.neither_intro</a></td></tr><tr><td><a name=\"proveit.logic.booleans.disjunction._proof_binary_or_contradiction.f35b8fc3aea4d184b2d784f701c19a46b34d60d70_step5\">5</a></td><td>assumption</td><td></td><td><span style=\"font-size:20px;\"><a class=\"ProveItLink\" href=\"../../../../__pv_it/theorems/c6244e76de3be0816f3efc36199d65e50f6589940/expr.ipynb\"><img src=\"../../../../__pv_it/theorems/c6244e76de3be0816f3efc36199d65e50f6589940/expr.png\" style=\"display:inline;vertical-align:middle;\" /></a> <a class=\"ProveItLink\" href=\"../62bc27149aae5522131bc80b219470722f3e45de0/proof.ipynb\" style=\"text-decoration: none\">&nbsp;&#x22A2;&nbsp;&nbsp;</a><a class=\"ProveItLink\" href=\"../../../../__pv_it/theorems/c6244e76de3be0816f3efc36199d65e50f6589940/expr.ipynb\"><img src=\"../../../../__pv_it/theorems/c6244e76de3be0816f3efc36199d65e50f6589940/expr.png\" style=\"display:inline;vertical-align:middle;\" /></a></span></td></tr>\n",
       "<tr><td><a name=\"proveit.logic.booleans.disjunction._proof_binary_or_contradiction.f35b8fc3aea4d184b2d784f701c19a46b34d60d70_step6\">6</a></td><td>assumption</td><td></td><td><span style=\"font-size:20px;\"><a class=\"ProveItLink\" href=\"../../theorems/8552c6321b312c5e15a5015adce4a756ce05da420/expr.ipynb\"><img src=\"../../theorems/8552c6321b312c5e15a5015adce4a756ce05da420/expr.png\" style=\"display:inline;vertical-align:middle;\" /></a> <a class=\"ProveItLink\" href=\"../bd32d0676eab8f44f89518d14e8130e3c90f16690/proof.ipynb\" style=\"text-decoration: none\">&nbsp;&#x22A2;&nbsp;&nbsp;</a><a class=\"ProveItLink\" href=\"../../theorems/8552c6321b312c5e15a5015adce4a756ce05da420/expr.ipynb\"><img src=\"../../theorems/8552c6321b312c5e15a5015adce4a756ce05da420/expr.png\" style=\"display:inline;vertical-align:middle;\" /></a></span></td></tr>\n",
       "</table>"
      ],
      "text/plain": [
       "<proveit._core_.proof._ShowProof at 0x7fa7a0951080>"
      ]
     },
     "execution_count": 1,
     "metadata": {},
     "output_type": "execute_result"
    }
   ],
   "source": [
    "import proveit\n",
    "# Automation is not needed when only showing a stored proof:\n",
    "proveit.defaults.automation = False # This will speed things up.\n",
    "proveit.defaults.inline_pngs = False # Makes files smaller.\n",
    "%show_proof"
   ]
  },
  {
   "cell_type": "code",
   "execution_count": null,
   "metadata": {},
   "outputs": [],
   "source": []
  }
 ],
 "metadata": {
  "kernelspec": {
   "display_name": "Python 3",
   "language": "python",
   "name": "python3"
  }
 },
 "nbformat": 4,
 "nbformat_minor": 0
}