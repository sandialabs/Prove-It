{
 "cells": [
  {
   "cell_type": "markdown",
   "metadata": {},
   "source": [
    "Show the Proof\n",
    "========"
   ]
  },
  {
   "cell_type": "code",
   "execution_count": 1,
   "metadata": {},
   "outputs": [
    {
     "data": {
      "text/html": [
       "<table><tr><th>&nbsp;</th><th>step type</th><th>requirements</th><th>statement</th></tr>\n",
       "<tr><td><a name=\"proveit.logic.booleans.disjunction._proof_binary_closure.95f580cb72bc1f4324f56b2baa38d7f249c9770b0_step0\">0</a></td><td>instantiation</td><td><a href=\"#proveit.logic.booleans.disjunction._proof_binary_closure.95f580cb72bc1f4324f56b2baa38d7f249c9770b0_step1\">1</a>, <a href=\"#proveit.logic.booleans.disjunction._proof_binary_closure.95f580cb72bc1f4324f56b2baa38d7f249c9770b0_step2\">2</a>, <a href=\"#proveit.logic.booleans.disjunction._proof_binary_closure.95f580cb72bc1f4324f56b2baa38d7f249c9770b0_step3\">3</a></td><td><span style=\"font-size:20px;\"> <a class=\"ProveItLink\" href=\"proof.ipynb\" style=\"text-decoration: none\">&nbsp;&#x22A2;&nbsp;&nbsp;</a><a class=\"ProveItLink\" href=\"../ca17ef4c887cff97cd05a8bff3f1e6bbb2bb6c3d0/expr.ipynb\"><img src=\"../ca17ef4c887cff97cd05a8bff3f1e6bbb2bb6c3d0/expr.png\" style=\"display:inline;vertical-align:middle;\" /></a></span></td></tr>\n",
       "<tr><td>&nbsp;</td><td colspan=4 style=\"text-align:left\"><span style=\"font-size:20px;\"><a class=\"ProveItLink\" href=\"../f90c4097c7f2032632deca0ffe172c46d56dd9290/expr.ipynb\"><img src=\"../f90c4097c7f2032632deca0ffe172c46d56dd9290/expr.png\" style=\"display:inline;vertical-align:middle;\" /></a> : <a class=\"ProveItLink\" href=\"../579a099d8684dbffbcd2ab08d23a99b22aa6ca9a0/expr.ipynb\"><img src=\"../579a099d8684dbffbcd2ab08d23a99b22aa6ca9a0/expr.png\" style=\"display:inline;vertical-align:middle;\" /></a>, <a class=\"ProveItLink\" href=\"../../../../../../__pv_it/common/09585084922504426caf1db2ff588a23a0932a960/expr.ipynb\"><img src=\"../../../../../../__pv_it/common/09585084922504426caf1db2ff588a23a0932a960/expr.png\" style=\"display:inline;vertical-align:middle;\" /></a> : <a class=\"ProveItLink\" href=\"../../../../../../__pv_it/common/a9162d1c3cc0470c02e5daf414500903a7a419230/expr.ipynb\"><img src=\"../../../../../../__pv_it/common/a9162d1c3cc0470c02e5daf414500903a7a419230/expr.png\" style=\"display:inline;vertical-align:middle;\" /></a></span></td></tr><tr><td><a name=\"proveit.logic.booleans.disjunction._proof_binary_closure.95f580cb72bc1f4324f56b2baa38d7f249c9770b0_step1\">1</a></td><td>theorem</td><td></td><td><span style=\"font-size:20px;\"> <a class=\"ProveItLink\" href=\"../../../../_theory_nbs_/proofs/forall_over_bool_by_cases/thm_proof.ipynb\" style=\"text-decoration: none\">&nbsp;&#x22A2;&nbsp;&nbsp;</a><a class=\"ProveItLink\" href=\"../../../../__pv_it/theorems/6d327d2140f1f0c2a937cb448134f4763a4374070/expr.ipynb\"><img src=\"../../../../__pv_it/theorems/6d327d2140f1f0c2a937cb448134f4763a4374070/expr.png\" style=\"display:inline;vertical-align:middle;\" /></a></span></td></tr>\n",
       "<tr><td>&nbsp;</td><td colspan=4 style-\"text-align:left\"><a class=\"ProveItLink\" href=\"../../../../_theory_nbs_/proofs/forall_over_bool_by_cases/thm_proof.ipynb\">proveit.logic.booleans.forall_over_bool_by_cases</a></td></tr><tr><td><a name=\"proveit.logic.booleans.disjunction._proof_binary_closure.95f580cb72bc1f4324f56b2baa38d7f249c9770b0_step2\">2</a></td><td>instantiation</td><td><a href=\"#proveit.logic.booleans.disjunction._proof_binary_closure.95f580cb72bc1f4324f56b2baa38d7f249c9770b0_step7\">7</a>, <a href=\"#proveit.logic.booleans.disjunction._proof_binary_closure.95f580cb72bc1f4324f56b2baa38d7f249c9770b0_step4\">4</a></td><td><span style=\"font-size:20px;\"> <a class=\"ProveItLink\" href=\"../7fcb2f7059015740f90641ef747b44a626b262840/proof.ipynb\" style=\"text-decoration: none\">&nbsp;&#x22A2;&nbsp;&nbsp;</a><a class=\"ProveItLink\" href=\"../aebbfcbf01662c9e4d3357def12da7ffe31be4660/expr.ipynb\"><img src=\"../aebbfcbf01662c9e4d3357def12da7ffe31be4660/expr.png\" style=\"display:inline;vertical-align:middle;\" /></a></span></td></tr>\n",
       "<tr><td>&nbsp;</td><td colspan=4 style=\"text-align:left\"><span style=\"font-size:20px;\"><a class=\"ProveItLink\" href=\"../../../../../../__pv_it/common/09585084922504426caf1db2ff588a23a0932a960/expr.ipynb\"><img src=\"../../../../../../__pv_it/common/09585084922504426caf1db2ff588a23a0932a960/expr.png\" style=\"display:inline;vertical-align:middle;\" /></a> : <a class=\"ProveItLink\" href=\"../../theorems/439378edc5303e14cd663a2903f838515479ff050/expr.ipynb\"><img src=\"../../theorems/439378edc5303e14cd663a2903f838515479ff050/expr.png\" style=\"display:inline;vertical-align:middle;\" /></a></span></td></tr><tr><td><a name=\"proveit.logic.booleans.disjunction._proof_binary_closure.95f580cb72bc1f4324f56b2baa38d7f249c9770b0_step3\">3</a></td><td>instantiation</td><td><a href=\"#proveit.logic.booleans.disjunction._proof_binary_closure.95f580cb72bc1f4324f56b2baa38d7f249c9770b0_step5\">5</a>, <a href=\"#proveit.logic.booleans.disjunction._proof_binary_closure.95f580cb72bc1f4324f56b2baa38d7f249c9770b0_step6\">6</a></td><td><span style=\"font-size:20px;\"> <a class=\"ProveItLink\" href=\"../8bbb36622374a7cef2d7d950478a66416d51546b0/proof.ipynb\" style=\"text-decoration: none\">&nbsp;&#x22A2;&nbsp;&nbsp;</a><a class=\"ProveItLink\" href=\"../99fb6e928cc98f55106c5cc9fcea911f1c71ea830/expr.ipynb\"><img src=\"../99fb6e928cc98f55106c5cc9fcea911f1c71ea830/expr.png\" style=\"display:inline;vertical-align:middle;\" /></a></span></td></tr>\n",
       "<tr><td>&nbsp;</td><td colspan=4 style=\"text-align:left\"><span style=\"font-size:20px;\"><a class=\"ProveItLink\" href=\"../../../../../../__pv_it/common/09585084922504426caf1db2ff588a23a0932a960/expr.ipynb\"><img src=\"../../../../../../__pv_it/common/09585084922504426caf1db2ff588a23a0932a960/expr.png\" style=\"display:inline;vertical-align:middle;\" /></a> : <a class=\"ProveItLink\" href=\"../../theorems/da65ebe41caf682fb54517627e6d86dcc6435f710/expr.ipynb\"><img src=\"../../theorems/da65ebe41caf682fb54517627e6d86dcc6435f710/expr.png\" style=\"display:inline;vertical-align:middle;\" /></a></span></td></tr><tr><td><a name=\"proveit.logic.booleans.disjunction._proof_binary_closure.95f580cb72bc1f4324f56b2baa38d7f249c9770b0_step4\">4</a></td><td>theorem</td><td></td><td><span style=\"font-size:20px;\"> <a class=\"ProveItLink\" href=\"../../../_theory_nbs_/proofs/false_or_true/thm_proof.ipynb\" style=\"text-decoration: none\">&nbsp;&#x22A2;&nbsp;&nbsp;</a><a class=\"ProveItLink\" href=\"../../theorems/439378edc5303e14cd663a2903f838515479ff050/expr.ipynb\"><img src=\"../../theorems/439378edc5303e14cd663a2903f838515479ff050/expr.png\" style=\"display:inline;vertical-align:middle;\" /></a></span></td></tr>\n",
       "<tr><td>&nbsp;</td><td colspan=4 style-\"text-align:left\"><a class=\"ProveItLink\" href=\"../../../_theory_nbs_/proofs/false_or_true/thm_proof.ipynb\">proveit.logic.booleans.disjunction.false_or_true</a></td></tr><tr><td><a name=\"proveit.logic.booleans.disjunction._proof_binary_closure.95f580cb72bc1f4324f56b2baa38d7f249c9770b0_step5\">5</a></td><td>axiom</td><td></td><td><span style=\"font-size:20px;\"> <a class=\"ProveItLink\" href=\"../../../../negation/_theory_nbs_/axioms.ipynb#operand_is_bool\" style=\"text-decoration: none\">&nbsp;&#x22A2;&nbsp;&nbsp;</a><a class=\"ProveItLink\" href=\"../../../../negation/__pv_it/axioms/9b3df63ea9b96f801a3dadc45f3be22470f1b8ac0/expr.ipynb\"><img src=\"../../../../negation/__pv_it/axioms/9b3df63ea9b96f801a3dadc45f3be22470f1b8ac0/expr.png\" style=\"display:inline;vertical-align:middle;\" /></a></span></td></tr>\n",
       "<tr><td>&nbsp;</td><td colspan=4 style-\"text-align:left\"><a class=\"ProveItLink\" href=\"../../../../negation/_theory_nbs_/axioms.ipynb#operand_is_bool\">proveit.logic.booleans.negation.operand_is_bool</a></td></tr><tr><td><a name=\"proveit.logic.booleans.disjunction._proof_binary_closure.95f580cb72bc1f4324f56b2baa38d7f249c9770b0_step6\">6</a></td><td>instantiation</td><td><a href=\"#proveit.logic.booleans.disjunction._proof_binary_closure.95f580cb72bc1f4324f56b2baa38d7f249c9770b0_step7\">7</a>, <a href=\"#proveit.logic.booleans.disjunction._proof_binary_closure.95f580cb72bc1f4324f56b2baa38d7f249c9770b0_step8\">8</a></td><td><span style=\"font-size:20px;\"> <a class=\"ProveItLink\" href=\"../d72a9bab30f2c209b28179994897ec82dc0187250/proof.ipynb\" style=\"text-decoration: none\">&nbsp;&#x22A2;&nbsp;&nbsp;</a><a class=\"ProveItLink\" href=\"../c9c3ec1ed56f9250102a6213ce6d392b8b416d790/expr.ipynb\"><img src=\"../c9c3ec1ed56f9250102a6213ce6d392b8b416d790/expr.png\" style=\"display:inline;vertical-align:middle;\" /></a></span></td></tr>\n",
       "<tr><td>&nbsp;</td><td colspan=4 style=\"text-align:left\"><span style=\"font-size:20px;\"><a class=\"ProveItLink\" href=\"../../../../../../__pv_it/common/09585084922504426caf1db2ff588a23a0932a960/expr.ipynb\"><img src=\"../../../../../../__pv_it/common/09585084922504426caf1db2ff588a23a0932a960/expr.png\" style=\"display:inline;vertical-align:middle;\" /></a> : <a class=\"ProveItLink\" href=\"../../theorems/6047236ddcc0b3f2fc2a65eeac24c66476c6a3d30/expr.ipynb\"><img src=\"../../theorems/6047236ddcc0b3f2fc2a65eeac24c66476c6a3d30/expr.png\" style=\"display:inline;vertical-align:middle;\" /></a></span></td></tr><tr><td><a name=\"proveit.logic.booleans.disjunction._proof_binary_closure.95f580cb72bc1f4324f56b2baa38d7f249c9770b0_step7\">7</a></td><td>theorem</td><td></td><td><span style=\"font-size:20px;\"> <a class=\"ProveItLink\" href=\"../../../../_theory_nbs_/proofs/in_bool_if_true/thm_proof.ipynb\" style=\"text-decoration: none\">&nbsp;&#x22A2;&nbsp;&nbsp;</a><a class=\"ProveItLink\" href=\"../../../../__pv_it/theorems/858f6fea2a9d198e3a6e9cbe3c54c9eff7cff4060/expr.ipynb\"><img src=\"../../../../__pv_it/theorems/858f6fea2a9d198e3a6e9cbe3c54c9eff7cff4060/expr.png\" style=\"display:inline;vertical-align:middle;\" /></a></span></td></tr>\n",
       "<tr><td>&nbsp;</td><td colspan=4 style-\"text-align:left\"><a class=\"ProveItLink\" href=\"../../../../_theory_nbs_/proofs/in_bool_if_true/thm_proof.ipynb\">proveit.logic.booleans.in_bool_if_true</a></td></tr><tr><td><a name=\"proveit.logic.booleans.disjunction._proof_binary_closure.95f580cb72bc1f4324f56b2baa38d7f249c9770b0_step8\">8</a></td><td>theorem</td><td></td><td><span style=\"font-size:20px;\"> <a class=\"ProveItLink\" href=\"../../../_theory_nbs_/proofs/false_or_false_negated/thm_proof.ipynb\" style=\"text-decoration: none\">&nbsp;&#x22A2;&nbsp;&nbsp;</a><a class=\"ProveItLink\" href=\"../../theorems/6047236ddcc0b3f2fc2a65eeac24c66476c6a3d30/expr.ipynb\"><img src=\"../../theorems/6047236ddcc0b3f2fc2a65eeac24c66476c6a3d30/expr.png\" style=\"display:inline;vertical-align:middle;\" /></a></span></td></tr>\n",
       "<tr><td>&nbsp;</td><td colspan=4 style-\"text-align:left\"><a class=\"ProveItLink\" href=\"../../../_theory_nbs_/proofs/false_or_false_negated/thm_proof.ipynb\">proveit.logic.booleans.disjunction.false_or_false_negated</a></td></tr></table>"
      ],
      "text/plain": [
       "<proveit._core_.proof._ShowProof at 0x7f2cdf226be0>"
      ]
     },
     "execution_count": 1,
     "metadata": {},
     "output_type": "execute_result"
    }
   ],
   "source": [
    "import proveit\n",
    "# Automation is not needed when only showing a stored proof:\n",
    "proveit.defaults.automation = False # This will speed things up.\n",
    "proveit.defaults.inline_pngs = False # Makes files smaller.\n",
    "%show_proof"
   ]
  },
  {
   "cell_type": "code",
   "execution_count": null,
   "metadata": {},
   "outputs": [],
   "source": []
  }
 ],
 "metadata": {
  "kernelspec": {
   "display_name": "Python 3",
   "language": "python",
   "name": "python3"
  }
 },
 "nbformat": 4,
 "nbformat_minor": 0
}