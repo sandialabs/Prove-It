{
 "cells": [
  {
   "cell_type": "markdown",
   "metadata": {},
   "source": [
    "Show the Proof\n",
    "========"
   ]
  },
  {
   "cell_type": "code",
   "execution_count": 1,
   "metadata": {},
   "outputs": [
    {
     "data": {
      "text/html": [
       "<table><tr><th>&nbsp;</th><th>step type</th><th>requirements</th><th>statement</th></tr>\n",
       "<tr><td><a name=\"proveit.logic.booleans.disjunction._proof_or_if_left.99b8715dec51ee4bb8e4e83aa2835d5f3dc982950_step0\">0</a></td><td>instantiation</td><td><a href=\"#proveit.logic.booleans.disjunction._proof_or_if_left.99b8715dec51ee4bb8e4e83aa2835d5f3dc982950_step1\">1</a>, <a href=\"#proveit.logic.booleans.disjunction._proof_or_if_left.99b8715dec51ee4bb8e4e83aa2835d5f3dc982950_step2\">2</a></td><td><span style=\"font-size:20px;\"><a class=\"ProveItLink\" href=\"../../theorems/c50b73f2d168f6a3012768bd45c62ea92218bcbc0/expr.ipynb\"><img src=\"../../theorems/c50b73f2d168f6a3012768bd45c62ea92218bcbc0/expr.png\" style=\"display:inline;vertical-align:middle;\" /></a> <a class=\"ProveItLink\" href=\"proof.ipynb\" style=\"text-decoration: none\">&nbsp;&#x22A2;&nbsp;&nbsp;</a><a class=\"ProveItLink\" href=\"../f5a9a063ee1b2df13f10162b8d0f05160a9c57bb0/expr.ipynb\"><img src=\"../f5a9a063ee1b2df13f10162b8d0f05160a9c57bb0/expr.png\" style=\"display:inline;vertical-align:middle;\" /></a></span></td></tr>\n",
       "<tr><td>&nbsp;</td><td colspan=4 style=\"text-align:left\"><span style=\"font-size:20px;\"><a class=\"ProveItLink\" href=\"../../../../../../__pv_it/common/09585084922504426caf1db2ff588a23a0932a960/expr.ipynb\"><img src=\"../../../../../../__pv_it/common/09585084922504426caf1db2ff588a23a0932a960/expr.png\" style=\"display:inline;vertical-align:middle;\" /></a> : <a class=\"ProveItLink\" href=\"../../../../../../__pv_it/common/a9162d1c3cc0470c02e5daf414500903a7a419230/expr.ipynb\"><img src=\"../../../../../../__pv_it/common/a9162d1c3cc0470c02e5daf414500903a7a419230/expr.png\" style=\"display:inline;vertical-align:middle;\" /></a></span></td></tr><tr><td><a name=\"proveit.logic.booleans.disjunction._proof_or_if_left.99b8715dec51ee4bb8e4e83aa2835d5f3dc982950_step1\">1</a></td><td>theorem</td><td></td><td><span style=\"font-size:20px;\"> <a class=\"ProveItLink\" href=\"../../../../_theory_nbs_/proofs/unfold_is_bool_explicit/thm_proof.ipynb\" style=\"text-decoration: none\">&nbsp;&#x22A2;&nbsp;&nbsp;</a><a class=\"ProveItLink\" href=\"../../../../__pv_it/theorems/15b77722eb09a5caed778d8d2b09c138d97981c30/expr.ipynb\"><img src=\"../../../../__pv_it/theorems/15b77722eb09a5caed778d8d2b09c138d97981c30/expr.png\" style=\"display:inline;vertical-align:middle;\" /></a></span></td></tr>\n",
       "<tr><td>&nbsp;</td><td colspan=4 style-\"text-align:left\"><a class=\"ProveItLink\" href=\"../../../../_theory_nbs_/proofs/unfold_is_bool_explicit/thm_proof.ipynb\">proveit.logic.booleans.unfold_is_bool_explicit</a></td></tr><tr><td><a name=\"proveit.logic.booleans.disjunction._proof_or_if_left.99b8715dec51ee4bb8e4e83aa2835d5f3dc982950_step2\">2</a></td><td>assumption</td><td></td><td><span style=\"font-size:20px;\"><a class=\"ProveItLink\" href=\"../../theorems/c50b73f2d168f6a3012768bd45c62ea92218bcbc0/expr.ipynb\"><img src=\"../../theorems/c50b73f2d168f6a3012768bd45c62ea92218bcbc0/expr.png\" style=\"display:inline;vertical-align:middle;\" /></a> <a class=\"ProveItLink\" href=\"../798e02206cf4d793b7f39f8954e5f3c836bee7570/proof.ipynb\" style=\"text-decoration: none\">&nbsp;&#x22A2;&nbsp;&nbsp;</a><a class=\"ProveItLink\" href=\"../../theorems/c50b73f2d168f6a3012768bd45c62ea92218bcbc0/expr.ipynb\"><img src=\"../../theorems/c50b73f2d168f6a3012768bd45c62ea92218bcbc0/expr.png\" style=\"display:inline;vertical-align:middle;\" /></a></span></td></tr>\n",
       "</table>"
      ],
      "text/plain": [
       "<proveit._core_.proof._ShowProof at 0x7fa7abc19710>"
      ]
     },
     "execution_count": 1,
     "metadata": {},
     "output_type": "execute_result"
    }
   ],
   "source": [
    "import proveit\n",
    "# Automation is not needed when only showing a stored proof:\n",
    "proveit.defaults.automation = False # This will speed things up.\n",
    "proveit.defaults.inline_pngs = False # Makes files smaller.\n",
    "%show_proof"
   ]
  },
  {
   "cell_type": "code",
   "execution_count": null,
   "metadata": {},
   "outputs": [],
   "source": []
  }
 ],
 "metadata": {
  "kernelspec": {
   "display_name": "Python 3",
   "language": "python",
   "name": "python3"
  }
 },
 "nbformat": 4,
 "nbformat_minor": 0
}