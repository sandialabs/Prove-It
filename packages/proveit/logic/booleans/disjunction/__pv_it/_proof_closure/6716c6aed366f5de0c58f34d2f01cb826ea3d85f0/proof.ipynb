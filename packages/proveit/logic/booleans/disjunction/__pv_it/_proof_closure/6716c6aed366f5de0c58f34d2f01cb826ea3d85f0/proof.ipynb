{
 "cells": [
  {
   "cell_type": "markdown",
   "metadata": {},
   "source": [
    "Show the Proof\n",
    "========"
   ]
  },
  {
   "cell_type": "code",
   "execution_count": 1,
   "metadata": {},
   "outputs": [
    {
     "data": {
      "text/html": [
       "<table><tr><th>&nbsp;</th><th>step type</th><th>requirements</th><th>statement</th></tr>\n",
       "<tr><td><a name=\"proveit.logic.booleans.disjunction._proof_closure.6716c6aed366f5de0c58f34d2f01cb826ea3d85f0_step0\">0</a></td><td>generalization</td><td><a href=\"#proveit.logic.booleans.disjunction._proof_closure.6716c6aed366f5de0c58f34d2f01cb826ea3d85f0_step1\">1</a></td><td><span style=\"font-size:20px;\"> <a class=\"ProveItLink\" href=\"proof.ipynb\" style=\"text-decoration: none\">&nbsp;&#x22A2;&nbsp;&nbsp;</a><a class=\"ProveItLink\" href=\"../cd71c7c486c775166f8524ac0270ead0bac3a8350/expr.ipynb\"><img src=\"../cd71c7c486c775166f8524ac0270ead0bac3a8350/expr.png\" style=\"display:inline;vertical-align:middle;\" /></a></span></td></tr>\n",
       "<tr><td><a name=\"proveit.logic.booleans.disjunction._proof_closure.6716c6aed366f5de0c58f34d2f01cb826ea3d85f0_step1\">1</a></td><td>assumption</td><td></td><td><span style=\"font-size:20px;\"><a class=\"ProveItLink\" href=\"../20ed93f8e65f22c038689af0f0d84a273ffe51d90/expr.ipynb\"><img src=\"../20ed93f8e65f22c038689af0f0d84a273ffe51d90/expr.png\" style=\"display:inline;vertical-align:middle;\" /></a> <a class=\"ProveItLink\" href=\"../3741b7c40350afe51f882f380aa06e77bf7579b50/proof.ipynb\" style=\"text-decoration: none\">&nbsp;&#x22A2;&nbsp;&nbsp;</a><a class=\"ProveItLink\" href=\"../20ed93f8e65f22c038689af0f0d84a273ffe51d90/expr.ipynb\"><img src=\"../20ed93f8e65f22c038689af0f0d84a273ffe51d90/expr.png\" style=\"display:inline;vertical-align:middle;\" /></a></span></td></tr>\n",
       "</table>"
      ],
      "text/plain": [
       "<proveit._core_.proof._ShowProof at 0x7f6e7ab9cd68>"
      ]
     },
     "execution_count": 1,
     "metadata": {},
     "output_type": "execute_result"
    }
   ],
   "source": [
    "import proveit\n",
    "# Automation is not needed when only showing a stored proof:\n",
    "proveit.defaults.automation = False # This will speed things up.\n",
    "proveit.defaults.inline_pngs = False # Makes files smaller.\n",
    "%show_proof"
   ]
  },
  {
   "cell_type": "code",
   "execution_count": null,
   "metadata": {},
   "outputs": [],
   "source": []
  }
 ],
 "metadata": {
  "kernelspec": {
   "display_name": "Python 3",
   "language": "python",
   "name": "python3"
  }
 },
 "nbformat": 4,
 "nbformat_minor": 0
}