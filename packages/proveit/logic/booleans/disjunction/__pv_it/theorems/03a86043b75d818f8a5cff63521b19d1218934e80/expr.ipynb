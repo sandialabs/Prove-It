{
 "cells": [
  {
   "cell_type": "markdown",
   "metadata": {},
   "source": [
    "Expression of type <a class=\"ProveItLink\" href=\"../../../../../../../../doc/html/api/proveit.ExprTuple.html\">ExprTuple</a>\n",
    "=======================\n",
    "# from the theory of <a class=\"ProveItLink\" href=\"../../../_theory_nbs_/theory.ipynb\">proveit.logic.booleans.disjunction</a>"
   ]
  },
  {
   "cell_type": "code",
   "execution_count": 1,
   "metadata": {},
   "outputs": [],
   "source": [
    "import proveit\n",
    "# Automation is not needed when building an expression:\n",
    "proveit.defaults.automation = False # This will speed things up.\n",
    "proveit.defaults.inline_pngs = False # Makes files smaller.\n",
    "%load_expr # Load the stored expression as 'stored_expr'\n",
    "# import Expression classes needed to build the expression\n",
    "from proveit import A, B, C, Conditional, D, ExprRange, ExprTuple, IndexedVar, Lambda, Variable, l, m, n\n",
    "from proveit.core_expr_types import A_1_to_l, B_1_to_m, D_1_to_n\n",
    "from proveit.logic import And, Boolean, Equals, InSet, Or\n",
    "from proveit.numbers import one"
   ]
  },
  {
   "cell_type": "code",
   "execution_count": 2,
   "metadata": {},
   "outputs": [
    {
     "data": {
      "text/html": [
       "<strong id=\"expr\">expr:</strong> <a class=\"ProveItLink\" href=\"expr.ipynb\"><img src=\"expr.png\" style=\"display:inline;vertical-align:middle;\" /></a><br>"
      ],
      "text/plain": [
       "<IPython.core.display.HTML object>"
      ]
     },
     "metadata": {},
     "output_type": "display_data"
    }
   ],
   "source": [
    "# build up the expression from sub-expressions\n",
    "sub_expr1 = Variable(\"_a\", latex_format = r\"{_{-}a}\")\n",
    "expr = ExprTuple(Lambda([A_1_to_l, B_1_to_m, C, D_1_to_n], Conditional(Equals(Or(A_1_to_l, B_1_to_m, C, D_1_to_n), Or(A_1_to_l, C, B_1_to_m, D_1_to_n)).with_wrapping_at(2), And(ExprRange(sub_expr1, InSet(IndexedVar(A, sub_expr1), Boolean), one, l), ExprRange(sub_expr1, InSet(IndexedVar(B, sub_expr1), Boolean), one, m), InSet(C, Boolean), ExprRange(sub_expr1, InSet(IndexedVar(D, sub_expr1), Boolean), one, n)))))"
   ]
  },
  {
   "cell_type": "code",
   "execution_count": 3,
   "metadata": {},
   "outputs": [
    {
     "name": "stdout",
     "output_type": "stream",
     "text": [
      "Passed sanity check: expr matches stored_expr\n"
     ]
    }
   ],
   "source": [
    "# check that the built expression is the same as the stored expression\n",
    "assert expr == stored_expr\n",
    "assert expr._style_id == stored_expr._style_id\n",
    "print(\"Passed sanity check: expr matches stored_expr\")"
   ]
  },
  {
   "cell_type": "code",
   "execution_count": 4,
   "metadata": {},
   "outputs": [
    {
     "name": "stdout",
     "output_type": "stream",
     "text": [
      "\\left(\\left(A_{1}, A_{2}, \\ldots, A_{l}, B_{1}, B_{2}, \\ldots, B_{m}, C, D_{1}, D_{2}, \\ldots, D_{n}\\right) \\mapsto \\left\\{\\begin{array}{c} \\begin{array}{l} \\left(A_{1} \\lor  A_{2} \\lor  \\ldots \\lor  A_{l}\\lor B_{1} \\lor  B_{2} \\lor  \\ldots \\lor  B_{m} \\lor C\\lor D_{1} \\lor  D_{2} \\lor  \\ldots \\lor  D_{n}\\right) =  \\\\ \\left(A_{1} \\lor  A_{2} \\lor  \\ldots \\lor  A_{l} \\lor C\\lor B_{1} \\lor  B_{2} \\lor  \\ldots \\lor  B_{m}\\lor D_{1} \\lor  D_{2} \\lor  \\ldots \\lor  D_{n}\\right) \\end{array} \\end{array} \\textrm{ if } \\left(A_{1} \\in \\mathbb{B}\\right) ,  \\left(A_{2} \\in \\mathbb{B}\\right) ,  \\ldots ,  \\left(A_{l} \\in \\mathbb{B}\\right), \\left(B_{1} \\in \\mathbb{B}\\right) ,  \\left(B_{2} \\in \\mathbb{B}\\right) ,  \\ldots ,  \\left(B_{m} \\in \\mathbb{B}\\right) ,  C \\in \\mathbb{B}, \\left(D_{1} \\in \\mathbb{B}\\right) ,  \\left(D_{2} \\in \\mathbb{B}\\right) ,  \\ldots ,  \\left(D_{n} \\in \\mathbb{B}\\right)\\right..\\right)\n"
     ]
    }
   ],
   "source": [
    "# Show the LaTeX representation of the expression for convenience if you need it.\n",
    "print(stored_expr.latex())"
   ]
  },
  {
   "cell_type": "code",
   "execution_count": 5,
   "metadata": {},
   "outputs": [
    {
     "data": {
      "text/html": [
       "no style options"
      ],
      "text/plain": [
       "no style options"
      ]
     },
     "metadata": {},
     "output_type": "display_data"
    }
   ],
   "source": [
    "stored_expr.style_options()"
   ]
  },
  {
   "cell_type": "code",
   "execution_count": 6,
   "metadata": {},
   "outputs": [
    {
     "data": {
      "text/html": [
       "<table><tr><th>&nbsp;</th><th>core type</th><th>sub-expressions</th><th>expression</th></tr>\n",
       "<tr><td>0</td><td>ExprTuple</td><td>1</td><td><a class=\"ProveItLink\" href=\"expr.ipynb\"><img src=\"expr.png\" style=\"display:inline;vertical-align:middle;\" /></a></td></tr>\n",
       "<tr><td>1</td><td>Lambda</td><td>parameters:&nbsp;15<br>body:&nbsp;2<br></td><td><a class=\"ProveItLink\" href=\"../3474c142a695ca8fd61ffd2c4c94e2421819a7500/expr.ipynb\"><img src=\"../3474c142a695ca8fd61ffd2c4c94e2421819a7500/expr.png\" style=\"display:inline;vertical-align:middle;\" /></a></td></tr>\n",
       "<tr><td>2</td><td>Conditional</td><td>value:&nbsp;3<br>condition:&nbsp;4<br></td><td><a class=\"ProveItLink\" href=\"../c3ca41b2e7dfacc5ba16736ec5a3b1169b1c5ed80/expr.ipynb\"><img src=\"../c3ca41b2e7dfacc5ba16736ec5a3b1169b1c5ed80/expr.png\" style=\"display:inline;vertical-align:middle;\" /></a></td></tr>\n",
       "<tr><td>3</td><td>Operation</td><td>operator:&nbsp;5<br>operands:&nbsp;6<br></td><td><a class=\"ProveItLink\" href=\"../6d8a1d3c0c8295bf5a351e9e0e53850c6c8775c90/expr.ipynb\"><img src=\"../6d8a1d3c0c8295bf5a351e9e0e53850c6c8775c90/expr.png\" style=\"display:inline;vertical-align:middle;\" /></a></td></tr>\n",
       "<tr><td>4</td><td>Operation</td><td>operator:&nbsp;7<br>operands:&nbsp;8<br></td><td><a class=\"ProveItLink\" href=\"../31a72dcd590f7d9a12134058796f10e3eaf9dbfd0/expr.ipynb\"><img src=\"../31a72dcd590f7d9a12134058796f10e3eaf9dbfd0/expr.png\" style=\"display:inline;vertical-align:middle;\" /></a></td></tr>\n",
       "<tr><td>5</td><td>Literal</td><td></td><td><a class=\"ProveItLink\" href=\"../../../../../equality/__pv_it/common/fb96dc12b2aa8801dda64d0132b396c63d1502bb0/expr.ipynb\"><img src=\"../../../../../equality/__pv_it/common/fb96dc12b2aa8801dda64d0132b396c63d1502bb0/expr.png\" style=\"display:inline;vertical-align:middle;\" /></a></td></tr>\n",
       "<tr><td>6</td><td>ExprTuple</td><td>9, 10</td><td><a class=\"ProveItLink\" href=\"../979a8c93a02aa05e3be77435dc8bbe44e8f5ebc50/expr.ipynb\"><img src=\"../979a8c93a02aa05e3be77435dc8bbe44e8f5ebc50/expr.png\" style=\"display:inline;vertical-align:middle;\" /></a></td></tr>\n",
       "<tr><td>7</td><td>Literal</td><td></td><td><a class=\"ProveItLink\" href=\"../../../../conjunction/__pv_it/common/42118ff318bd65d98b1393f64ce7c2269feef76e0/expr.ipynb\"><img src=\"../../../../conjunction/__pv_it/common/42118ff318bd65d98b1393f64ce7c2269feef76e0/expr.png\" style=\"display:inline;vertical-align:middle;\" /></a></td></tr>\n",
       "<tr><td>8</td><td>ExprTuple</td><td>11, 12, 13, 14</td><td><a class=\"ProveItLink\" href=\"../02019de852c39871baddda2d736bef60754883890/expr.ipynb\"><img src=\"../02019de852c39871baddda2d736bef60754883890/expr.png\" style=\"display:inline;vertical-align:middle;\" /></a></td></tr>\n",
       "<tr><td>9</td><td>Operation</td><td>operator:&nbsp;16<br>operands:&nbsp;15<br></td><td><a class=\"ProveItLink\" href=\"../fa42b5d535201f24e1c833bb6e5aeefa3058c4470/expr.ipynb\"><img src=\"../fa42b5d535201f24e1c833bb6e5aeefa3058c4470/expr.png\" style=\"display:inline;vertical-align:middle;\" /></a></td></tr>\n",
       "<tr><td>10</td><td>Operation</td><td>operator:&nbsp;16<br>operands:&nbsp;17<br></td><td><a class=\"ProveItLink\" href=\"../061e5d30efad75c957c45c1e36ffd24a6c4377790/expr.ipynb\"><img src=\"../061e5d30efad75c957c45c1e36ffd24a6c4377790/expr.png\" style=\"display:inline;vertical-align:middle;\" /></a></td></tr>\n",
       "<tr><td>11</td><td>ExprRange</td><td>lambda_map:&nbsp;18<br>start_index:&nbsp;34<br>end_index:&nbsp;30<br></td><td><a class=\"ProveItLink\" href=\"../448e42881ef03533b7a7c42001c43a227fcfbe0e0/expr.ipynb\"><img src=\"../448e42881ef03533b7a7c42001c43a227fcfbe0e0/expr.png\" style=\"display:inline;vertical-align:middle;\" /></a></td></tr>\n",
       "<tr><td>12</td><td>ExprRange</td><td>lambda_map:&nbsp;19<br>start_index:&nbsp;34<br>end_index:&nbsp;32<br></td><td><a class=\"ProveItLink\" href=\"../4d4aee17e36e02aefeb696567ce7f3dcd89975fd0/expr.ipynb\"><img src=\"../4d4aee17e36e02aefeb696567ce7f3dcd89975fd0/expr.png\" style=\"display:inline;vertical-align:middle;\" /></a></td></tr>\n",
       "<tr><td>13</td><td>Operation</td><td>operator:&nbsp;38<br>operands:&nbsp;20<br></td><td><a class=\"ProveItLink\" href=\"../dc7d96b1022c0165a0469ead301debeb324b9c180/expr.ipynb\"><img src=\"../dc7d96b1022c0165a0469ead301debeb324b9c180/expr.png\" style=\"display:inline;vertical-align:middle;\" /></a></td></tr>\n",
       "<tr><td>14</td><td>ExprRange</td><td>lambda_map:&nbsp;21<br>start_index:&nbsp;34<br>end_index:&nbsp;35<br></td><td><a class=\"ProveItLink\" href=\"../12aa0095f4627b88c02b419f136f159cc1cb0e410/expr.ipynb\"><img src=\"../12aa0095f4627b88c02b419f136f159cc1cb0e410/expr.png\" style=\"display:inline;vertical-align:middle;\" /></a></td></tr>\n",
       "<tr><td>15</td><td>ExprTuple</td><td>22, 23, 27, 24</td><td><a class=\"ProveItLink\" href=\"../2bfa70b07dcf0f297f649f175b2ed560bc624a0b0/expr.ipynb\"><img src=\"../2bfa70b07dcf0f297f649f175b2ed560bc624a0b0/expr.png\" style=\"display:inline;vertical-align:middle;\" /></a></td></tr>\n",
       "<tr><td>16</td><td>Literal</td><td></td><td><a class=\"ProveItLink\" href=\"../../common/ef8e59262ff8e0133aa1ca984dd6b3a41bf69d5b0/expr.ipynb\"><img src=\"../../common/ef8e59262ff8e0133aa1ca984dd6b3a41bf69d5b0/expr.png\" style=\"display:inline;vertical-align:middle;\" /></a></td></tr>\n",
       "<tr><td>17</td><td>ExprTuple</td><td>22, 27, 23, 24</td><td><a class=\"ProveItLink\" href=\"../401ca2f5ee5706f06d57064916f70892ee52c14f0/expr.ipynb\"><img src=\"../401ca2f5ee5706f06d57064916f70892ee52c14f0/expr.png\" style=\"display:inline;vertical-align:middle;\" /></a></td></tr>\n",
       "<tr><td>18</td><td>Lambda</td><td>parameter:&nbsp;48<br>body:&nbsp;25<br></td><td><a class=\"ProveItLink\" href=\"../24bc2dc2924744cfd65436fd9d2c6ad0cc6f28660/expr.ipynb\"><img src=\"../24bc2dc2924744cfd65436fd9d2c6ad0cc6f28660/expr.png\" style=\"display:inline;vertical-align:middle;\" /></a></td></tr>\n",
       "<tr><td>19</td><td>Lambda</td><td>parameter:&nbsp;48<br>body:&nbsp;26<br></td><td><a class=\"ProveItLink\" href=\"../172e35772a4ef7324ed97e7de0a6cced34ac89c90/expr.ipynb\"><img src=\"../172e35772a4ef7324ed97e7de0a6cced34ac89c90/expr.png\" style=\"display:inline;vertical-align:middle;\" /></a></td></tr>\n",
       "<tr><td>20</td><td>ExprTuple</td><td>27, 43</td><td><a class=\"ProveItLink\" href=\"../a570f15c222d5872d396efc1550d1d4203d129bf0/expr.ipynb\"><img src=\"../a570f15c222d5872d396efc1550d1d4203d129bf0/expr.png\" style=\"display:inline;vertical-align:middle;\" /></a></td></tr>\n",
       "<tr><td>21</td><td>Lambda</td><td>parameter:&nbsp;48<br>body:&nbsp;28<br></td><td><a class=\"ProveItLink\" href=\"../5109cb9d16a4638bc6a480072b000deb0b93c2c40/expr.ipynb\"><img src=\"../5109cb9d16a4638bc6a480072b000deb0b93c2c40/expr.png\" style=\"display:inline;vertical-align:middle;\" /></a></td></tr>\n",
       "<tr><td>22</td><td>ExprRange</td><td>lambda_map:&nbsp;29<br>start_index:&nbsp;34<br>end_index:&nbsp;30<br></td><td><a class=\"ProveItLink\" href=\"../../../../../../core_expr_types/__pv_it/common/a661ce209a2c221820bbff00e1d4b098820c37af0/expr.ipynb\"><img src=\"../../../../../../core_expr_types/__pv_it/common/a661ce209a2c221820bbff00e1d4b098820c37af0/expr.png\" style=\"display:inline;vertical-align:middle;\" /></a></td></tr>\n",
       "<tr><td>23</td><td>ExprRange</td><td>lambda_map:&nbsp;31<br>start_index:&nbsp;34<br>end_index:&nbsp;32<br></td><td><a class=\"ProveItLink\" href=\"../../../../../../core_expr_types/__pv_it/common/fee611567f2a92d4a4191651639f02d5571d04e40/expr.ipynb\"><img src=\"../../../../../../core_expr_types/__pv_it/common/fee611567f2a92d4a4191651639f02d5571d04e40/expr.png\" style=\"display:inline;vertical-align:middle;\" /></a></td></tr>\n",
       "<tr><td>24</td><td>ExprRange</td><td>lambda_map:&nbsp;33<br>start_index:&nbsp;34<br>end_index:&nbsp;35<br></td><td><a class=\"ProveItLink\" href=\"../../../../../../core_expr_types/__pv_it/common/ea79e983ae6d397673f6a492cdf8265d812567980/expr.ipynb\"><img src=\"../../../../../../core_expr_types/__pv_it/common/ea79e983ae6d397673f6a492cdf8265d812567980/expr.png\" style=\"display:inline;vertical-align:middle;\" /></a></td></tr>\n",
       "<tr><td>25</td><td>Operation</td><td>operator:&nbsp;38<br>operands:&nbsp;36<br></td><td><a class=\"ProveItLink\" href=\"../4e5a3811f8fae2836722462066e6579a37dfad210/expr.ipynb\"><img src=\"../4e5a3811f8fae2836722462066e6579a37dfad210/expr.png\" style=\"display:inline;vertical-align:middle;\" /></a></td></tr>\n",
       "<tr><td>26</td><td>Operation</td><td>operator:&nbsp;38<br>operands:&nbsp;37<br></td><td><a class=\"ProveItLink\" href=\"../4e8ac1c474a0f2e16238fae69f6b8b983f2f7c8e0/expr.ipynb\"><img src=\"../4e8ac1c474a0f2e16238fae69f6b8b983f2f7c8e0/expr.png\" style=\"display:inline;vertical-align:middle;\" /></a></td></tr>\n",
       "<tr><td>27</td><td>Variable</td><td></td><td><a class=\"ProveItLink\" href=\"../../../../../../__pv_it/common/9fba9f29e823606ff4fdf2f1c6d5d08d906e850a0/expr.ipynb\"><img src=\"../../../../../../__pv_it/common/9fba9f29e823606ff4fdf2f1c6d5d08d906e850a0/expr.png\" style=\"display:inline;vertical-align:middle;\" /></a></td></tr>\n",
       "<tr><td>28</td><td>Operation</td><td>operator:&nbsp;38<br>operands:&nbsp;39<br></td><td><a class=\"ProveItLink\" href=\"../defd3081633076bf2d912fb58939daf34c437ead0/expr.ipynb\"><img src=\"../defd3081633076bf2d912fb58939daf34c437ead0/expr.png\" style=\"display:inline;vertical-align:middle;\" /></a></td></tr>\n",
       "<tr><td>29</td><td>Lambda</td><td>parameter:&nbsp;48<br>body:&nbsp;40<br></td><td><a class=\"ProveItLink\" href=\"../../../../../../core_expr_types/__pv_it/common/9332289e845003c758afc3bcee43498ae784f2d90/expr.ipynb\"><img src=\"../../../../../../core_expr_types/__pv_it/common/9332289e845003c758afc3bcee43498ae784f2d90/expr.png\" style=\"display:inline;vertical-align:middle;\" /></a></td></tr>\n",
       "<tr><td>30</td><td>Variable</td><td></td><td><a class=\"ProveItLink\" href=\"../../../../../../__pv_it/common/27cc275d44b4f4499fb9ccfb3fab1a98165d2fa60/expr.ipynb\"><img src=\"../../../../../../__pv_it/common/27cc275d44b4f4499fb9ccfb3fab1a98165d2fa60/expr.png\" style=\"display:inline;vertical-align:middle;\" /></a></td></tr>\n",
       "<tr><td>31</td><td>Lambda</td><td>parameter:&nbsp;48<br>body:&nbsp;41<br></td><td><a class=\"ProveItLink\" href=\"../../../../../../core_expr_types/__pv_it/common/d51b6313a4eb9f8dc367ca4753f290af006fadbb0/expr.ipynb\"><img src=\"../../../../../../core_expr_types/__pv_it/common/d51b6313a4eb9f8dc367ca4753f290af006fadbb0/expr.png\" style=\"display:inline;vertical-align:middle;\" /></a></td></tr>\n",
       "<tr><td>32</td><td>Variable</td><td></td><td><a class=\"ProveItLink\" href=\"../../../../../../__pv_it/common/674a03b9c3ca221b3aabd5636837b31528ff33830/expr.ipynb\"><img src=\"../../../../../../__pv_it/common/674a03b9c3ca221b3aabd5636837b31528ff33830/expr.png\" style=\"display:inline;vertical-align:middle;\" /></a></td></tr>\n",
       "<tr><td>33</td><td>Lambda</td><td>parameter:&nbsp;48<br>body:&nbsp;42<br></td><td><a class=\"ProveItLink\" href=\"../../../../../../core_expr_types/__pv_it/common/235a310135ac1db383f7e53487b6f79171d747610/expr.ipynb\"><img src=\"../../../../../../core_expr_types/__pv_it/common/235a310135ac1db383f7e53487b6f79171d747610/expr.png\" style=\"display:inline;vertical-align:middle;\" /></a></td></tr>\n",
       "<tr><td>34</td><td>Literal</td><td></td><td><a class=\"ProveItLink\" href=\"../../../../../../numbers/numerals/__pv_it/common/682157d4892d216d9e5626ed533aff9b56b9506e0/expr.ipynb\"><img src=\"../../../../../../numbers/numerals/__pv_it/common/682157d4892d216d9e5626ed533aff9b56b9506e0/expr.png\" style=\"display:inline;vertical-align:middle;\" /></a></td></tr>\n",
       "<tr><td>35</td><td>Variable</td><td></td><td><a class=\"ProveItLink\" href=\"../../../../../../__pv_it/common/8968bb04eb3f7dfa02353397ce929b025bbd79c20/expr.ipynb\"><img src=\"../../../../../../__pv_it/common/8968bb04eb3f7dfa02353397ce929b025bbd79c20/expr.png\" style=\"display:inline;vertical-align:middle;\" /></a></td></tr>\n",
       "<tr><td>36</td><td>ExprTuple</td><td>40, 43</td><td><a class=\"ProveItLink\" href=\"../3b63dd2d70dc3db7b3daaeea0ebe335178ad58940/expr.ipynb\"><img src=\"../3b63dd2d70dc3db7b3daaeea0ebe335178ad58940/expr.png\" style=\"display:inline;vertical-align:middle;\" /></a></td></tr>\n",
       "<tr><td>37</td><td>ExprTuple</td><td>41, 43</td><td><a class=\"ProveItLink\" href=\"../89609b2cb6260f3e6c3a0773bcc33eb8a11042ae0/expr.ipynb\"><img src=\"../89609b2cb6260f3e6c3a0773bcc33eb8a11042ae0/expr.png\" style=\"display:inline;vertical-align:middle;\" /></a></td></tr>\n",
       "<tr><td>38</td><td>Literal</td><td></td><td><a class=\"ProveItLink\" href=\"../../../../../sets/membership/__pv_it/common/477487d8796864d23d5810f83761435f25167f690/expr.ipynb\"><img src=\"../../../../../sets/membership/__pv_it/common/477487d8796864d23d5810f83761435f25167f690/expr.png\" style=\"display:inline;vertical-align:middle;\" /></a></td></tr>\n",
       "<tr><td>39</td><td>ExprTuple</td><td>42, 43</td><td><a class=\"ProveItLink\" href=\"../cae3135f5f05abf75897d8c6bba2c9d3b26433a70/expr.ipynb\"><img src=\"../cae3135f5f05abf75897d8c6bba2c9d3b26433a70/expr.png\" style=\"display:inline;vertical-align:middle;\" /></a></td></tr>\n",
       "<tr><td>40</td><td>IndexedVar</td><td>variable:&nbsp;44<br>index:&nbsp;48<br></td><td><a class=\"ProveItLink\" href=\"../../../../../../core_expr_types/__pv_it/common/9fdaaadf1b3d81a308244818dc08833e7f5035730/expr.ipynb\"><img src=\"../../../../../../core_expr_types/__pv_it/common/9fdaaadf1b3d81a308244818dc08833e7f5035730/expr.png\" style=\"display:inline;vertical-align:middle;\" /></a></td></tr>\n",
       "<tr><td>41</td><td>IndexedVar</td><td>variable:&nbsp;45<br>index:&nbsp;48<br></td><td><a class=\"ProveItLink\" href=\"../../../../../../core_expr_types/__pv_it/common/d1b4c772326349c6e4ef6ad6defb9c61a45fc9d80/expr.ipynb\"><img src=\"../../../../../../core_expr_types/__pv_it/common/d1b4c772326349c6e4ef6ad6defb9c61a45fc9d80/expr.png\" style=\"display:inline;vertical-align:middle;\" /></a></td></tr>\n",
       "<tr><td>42</td><td>IndexedVar</td><td>variable:&nbsp;46<br>index:&nbsp;48<br></td><td><a class=\"ProveItLink\" href=\"../../../../../../core_expr_types/__pv_it/common/6a4c5be14c9fca15c4a86f42beee4e45e0f4ff9e0/expr.ipynb\"><img src=\"../../../../../../core_expr_types/__pv_it/common/6a4c5be14c9fca15c4a86f42beee4e45e0f4ff9e0/expr.png\" style=\"display:inline;vertical-align:middle;\" /></a></td></tr>\n",
       "<tr><td>43</td><td>Literal</td><td></td><td><a class=\"ProveItLink\" href=\"../../../../__pv_it/common/97424376de9815ad99f7180e3191b1cf4ab2a5710/expr.ipynb\"><img src=\"../../../../__pv_it/common/97424376de9815ad99f7180e3191b1cf4ab2a5710/expr.png\" style=\"display:inline;vertical-align:middle;\" /></a></td></tr>\n",
       "<tr><td>44</td><td>Variable</td><td></td><td><a class=\"ProveItLink\" href=\"../../../../../../__pv_it/common/09585084922504426caf1db2ff588a23a0932a960/expr.ipynb\"><img src=\"../../../../../../__pv_it/common/09585084922504426caf1db2ff588a23a0932a960/expr.png\" style=\"display:inline;vertical-align:middle;\" /></a></td></tr>\n",
       "<tr><td>45</td><td>Variable</td><td></td><td><a class=\"ProveItLink\" href=\"../../../../../../__pv_it/common/a9162d1c3cc0470c02e5daf414500903a7a419230/expr.ipynb\"><img src=\"../../../../../../__pv_it/common/a9162d1c3cc0470c02e5daf414500903a7a419230/expr.png\" style=\"display:inline;vertical-align:middle;\" /></a></td></tr>\n",
       "<tr><td>46</td><td>Variable</td><td></td><td><a class=\"ProveItLink\" href=\"../../../../../../__pv_it/common/8d36d28f3636cdaa66f8b7d56eb3bbf0b50f70200/expr.ipynb\"><img src=\"../../../../../../__pv_it/common/8d36d28f3636cdaa66f8b7d56eb3bbf0b50f70200/expr.png\" style=\"display:inline;vertical-align:middle;\" /></a></td></tr>\n",
       "<tr><td>47</td><td>ExprTuple</td><td>48</td><td><a class=\"ProveItLink\" href=\"../../../../../../core_expr_types/__pv_it/common/4b0dd6be36d76552eda6a95d5b4a27f5a5b62f900/expr.ipynb\"><img src=\"../../../../../../core_expr_types/__pv_it/common/4b0dd6be36d76552eda6a95d5b4a27f5a5b62f900/expr.png\" style=\"display:inline;vertical-align:middle;\" /></a></td></tr>\n",
       "<tr><td>48</td><td>Variable</td><td></td><td><a class=\"ProveItLink\" href=\"../../../../../../core_expr_types/__pv_it/common/006c465e50948aa2b52285e2de47974f741255cc0/expr.ipynb\"><img src=\"../../../../../../core_expr_types/__pv_it/common/006c465e50948aa2b52285e2de47974f741255cc0/expr.png\" style=\"display:inline;vertical-align:middle;\" /></a></td></tr>\n",
       "</table>\n"
      ],
      "text/plain": [
       "0. ((A_{1}, A_{2}, ..., A_{l}, B_{1}, B_{2}, ..., B_{m}, C, D_{1}, D_{2}, ..., D_{n}) -> {(A_{1} or  A_{2} or  ... or  A_{l}or B_{1} or  B_{2} or  ... or  B_{m} or Cor D_{1} or  D_{2} or  ... or  D_{n}) =  \\\\ (A_{1} or  A_{2} or  ... or  A_{l} or Cor B_{1} or  B_{2} or  ... or  B_{m}or D_{1} or  D_{2} or  ... or  D_{n}) if (A_{1} in BOOLEAN) ,  (A_{2} in BOOLEAN) ,  ... ,  (A_{l} in BOOLEAN), (B_{1} in BOOLEAN) ,  (B_{2} in BOOLEAN) ,  ... ,  (B_{m} in BOOLEAN) ,  C in BOOLEAN, (D_{1} in BOOLEAN) ,  (D_{2} in BOOLEAN) ,  ... ,  (D_{n} in BOOLEAN).)\n",
       "   core type: ExprTuple\n",
       "   sub-expressions: 1\n",
       "1. (A_{1}, A_{2}, ..., A_{l}, B_{1}, B_{2}, ..., B_{m}, C, D_{1}, D_{2}, ..., D_{n}) -> {(A_{1} or  A_{2} or  ... or  A_{l}or B_{1} or  B_{2} or  ... or  B_{m} or Cor D_{1} or  D_{2} or  ... or  D_{n}) =  \\\\ (A_{1} or  A_{2} or  ... or  A_{l} or Cor B_{1} or  B_{2} or  ... or  B_{m}or D_{1} or  D_{2} or  ... or  D_{n}) if (A_{1} in BOOLEAN) ,  (A_{2} in BOOLEAN) ,  ... ,  (A_{l} in BOOLEAN), (B_{1} in BOOLEAN) ,  (B_{2} in BOOLEAN) ,  ... ,  (B_{m} in BOOLEAN) ,  C in BOOLEAN, (D_{1} in BOOLEAN) ,  (D_{2} in BOOLEAN) ,  ... ,  (D_{n} in BOOLEAN).\n",
       "   core type: Lambda\n",
       "   parameters: 15\\n   body: 2\n",
       "2. {(A_{1} or  A_{2} or  ... or  A_{l}or B_{1} or  B_{2} or  ... or  B_{m} or Cor D_{1} or  D_{2} or  ... or  D_{n}) =  \\\\ (A_{1} or  A_{2} or  ... or  A_{l} or Cor B_{1} or  B_{2} or  ... or  B_{m}or D_{1} or  D_{2} or  ... or  D_{n}) if (A_{1} in BOOLEAN) ,  (A_{2} in BOOLEAN) ,  ... ,  (A_{l} in BOOLEAN), (B_{1} in BOOLEAN) ,  (B_{2} in BOOLEAN) ,  ... ,  (B_{m} in BOOLEAN) ,  C in BOOLEAN, (D_{1} in BOOLEAN) ,  (D_{2} in BOOLEAN) ,  ... ,  (D_{n} in BOOLEAN).\n",
       "   core type: Conditional\n",
       "   value: 3\n",
       "   condition: 4\n",
       "3. (A_{1} or  A_{2} or  ... or  A_{l}or B_{1} or  B_{2} or  ... or  B_{m} or Cor D_{1} or  D_{2} or  ... or  D_{n}) =  \\\\ (A_{1} or  A_{2} or  ... or  A_{l} or Cor B_{1} or  B_{2} or  ... or  B_{m}or D_{1} or  D_{2} or  ... or  D_{n})\n",
       "   core type: Operation\n",
       "   operator: 5\n",
       "   operands: 6\n",
       "4. (A_{1} in BOOLEAN) and  (A_{2} in BOOLEAN) and  ... and  (A_{l} in BOOLEAN)and (B_{1} in BOOLEAN) and  (B_{2} in BOOLEAN) and  ... and  (B_{m} in BOOLEAN) and (C in BOOLEAN)and (D_{1} in BOOLEAN) and  (D_{2} in BOOLEAN) and  ... and  (D_{n} in BOOLEAN)\n",
       "   core type: Operation\n",
       "   operator: 7\n",
       "   operands: 8\n",
       "5. =\n",
       "   core type: Literal\n",
       "   sub-expressions: \n",
       "6. (A_{1} or  A_{2} or  ... or  A_{l}or B_{1} or  B_{2} or  ... or  B_{m} or Cor D_{1} or  D_{2} or  ... or  D_{n}, A_{1} or  A_{2} or  ... or  A_{l} or Cor B_{1} or  B_{2} or  ... or  B_{m}or D_{1} or  D_{2} or  ... or  D_{n})\n",
       "   core type: ExprTuple\n",
       "   sub-expressions: 9, 10\n",
       "7. and\n",
       "   core type: Literal\n",
       "   sub-expressions: \n",
       "8. ((A_{1} in BOOLEAN), (A_{2} in BOOLEAN), ..., (A_{l} in BOOLEAN),(B_{1} in BOOLEAN), (B_{2} in BOOLEAN), ..., (B_{m} in BOOLEAN), C in BOOLEAN,(D_{1} in BOOLEAN), (D_{2} in BOOLEAN), ..., (D_{n} in BOOLEAN))\n",
       "   core type: ExprTuple\n",
       "   sub-expressions: 11, 12, 13, 14\n",
       "9. A_{1} or  A_{2} or  ... or  A_{l}or B_{1} or  B_{2} or  ... or  B_{m} or Cor D_{1} or  D_{2} or  ... or  D_{n}\n",
       "   core type: Operation\n",
       "   operator: 16\n",
       "   operands: 15\n",
       "10. A_{1} or  A_{2} or  ... or  A_{l} or Cor B_{1} or  B_{2} or  ... or  B_{m}or D_{1} or  D_{2} or  ... or  D_{n}\n",
       "    core type: Operation\n",
       "    operator: 16\n",
       "    operands: 17\n",
       "11. (A_{1} in BOOLEAN), (A_{2} in BOOLEAN), ..., (A_{l} in BOOLEAN)\n",
       "    core type: ExprRange\n",
       "    lambda_map: 18\n",
       "    start_index: 34\n",
       "    end_index: 30\n",
       "12. (B_{1} in BOOLEAN), (B_{2} in BOOLEAN), ..., (B_{m} in BOOLEAN)\n",
       "    core type: ExprRange\n",
       "    lambda_map: 19\n",
       "    start_index: 34\n",
       "    end_index: 32\n",
       "13. C in BOOLEAN\n",
       "    core type: Operation\n",
       "    operator: 38\n",
       "    operands: 20\n",
       "14. (D_{1} in BOOLEAN), (D_{2} in BOOLEAN), ..., (D_{n} in BOOLEAN)\n",
       "    core type: ExprRange\n",
       "    lambda_map: 21\n",
       "    start_index: 34\n",
       "    end_index: 35\n",
       "15. (A_{1}, A_{2}, ..., A_{l},B_{1}, B_{2}, ..., B_{m}, C,D_{1}, D_{2}, ..., D_{n})\n",
       "    core type: ExprTuple\n",
       "    sub-expressions: 22, 23, 27, 24\n",
       "16. or\n",
       "    core type: Literal\n",
       "    sub-expressions: \n",
       "17. (A_{1}, A_{2}, ..., A_{l}, C,B_{1}, B_{2}, ..., B_{m},D_{1}, D_{2}, ..., D_{n})\n",
       "    core type: ExprTuple\n",
       "    sub-expressions: 22, 27, 23, 24\n",
       "18. _a -> (A_{_a} in BOOLEAN)\n",
       "    core type: Lambda\n",
       "    parameter: 48\n",
       "    body: 25\n",
       "19. _a -> (B_{_a} in BOOLEAN)\n",
       "    core type: Lambda\n",
       "    parameter: 48\n",
       "    body: 26\n",
       "20. (C, BOOLEAN)\n",
       "    core type: ExprTuple\n",
       "    sub-expressions: 27, 43\n",
       "21. _a -> (D_{_a} in BOOLEAN)\n",
       "    core type: Lambda\n",
       "    parameter: 48\n",
       "    body: 28\n",
       "22. A_{1}, A_{2}, ..., A_{l}\n",
       "    core type: ExprRange\n",
       "    lambda_map: 29\n",
       "    start_index: 34\n",
       "    end_index: 30\n",
       "23. B_{1}, B_{2}, ..., B_{m}\n",
       "    core type: ExprRange\n",
       "    lambda_map: 31\n",
       "    start_index: 34\n",
       "    end_index: 32\n",
       "24. D_{1}, D_{2}, ..., D_{n}\n",
       "    core type: ExprRange\n",
       "    lambda_map: 33\n",
       "    start_index: 34\n",
       "    end_index: 35\n",
       "25. A_{_a} in BOOLEAN\n",
       "    core type: Operation\n",
       "    operator: 38\n",
       "    operands: 36\n",
       "26. B_{_a} in BOOLEAN\n",
       "    core type: Operation\n",
       "    operator: 38\n",
       "    operands: 37\n",
       "27. C\n",
       "    core type: Variable\n",
       "    sub-expressions: \n",
       "28. D_{_a} in BOOLEAN\n",
       "    core type: Operation\n",
       "    operator: 38\n",
       "    operands: 39\n",
       "29. _a -> A_{_a}\n",
       "    core type: Lambda\n",
       "    parameter: 48\n",
       "    body: 40\n",
       "30. l\n",
       "    core type: Variable\n",
       "    sub-expressions: \n",
       "31. _a -> B_{_a}\n",
       "    core type: Lambda\n",
       "    parameter: 48\n",
       "    body: 41\n",
       "32. m\n",
       "    core type: Variable\n",
       "    sub-expressions: \n",
       "33. _a -> D_{_a}\n",
       "    core type: Lambda\n",
       "    parameter: 48\n",
       "    body: 42\n",
       "34. 1\n",
       "    core type: Literal\n",
       "    sub-expressions: \n",
       "35. n\n",
       "    core type: Variable\n",
       "    sub-expressions: \n",
       "36. (A_{_a}, BOOLEAN)\n",
       "    core type: ExprTuple\n",
       "    sub-expressions: 40, 43\n",
       "37. (B_{_a}, BOOLEAN)\n",
       "    core type: ExprTuple\n",
       "    sub-expressions: 41, 43\n",
       "38. in\n",
       "    core type: Literal\n",
       "    sub-expressions: \n",
       "39. (D_{_a}, BOOLEAN)\n",
       "    core type: ExprTuple\n",
       "    sub-expressions: 42, 43\n",
       "40. A_{_a}\n",
       "    core type: IndexedVar\n",
       "variable: 44\n",
       "index: 48\n",
       "41. B_{_a}\n",
       "    core type: IndexedVar\n",
       "variable: 45\n",
       "index: 48\n",
       "42. D_{_a}\n",
       "    core type: IndexedVar\n",
       "variable: 46\n",
       "index: 48\n",
       "43. BOOLEAN\n",
       "    core type: Literal\n",
       "    sub-expressions: \n",
       "44. A\n",
       "    core type: Variable\n",
       "    sub-expressions: \n",
       "45. B\n",
       "    core type: Variable\n",
       "    sub-expressions: \n",
       "46. D\n",
       "    core type: Variable\n",
       "    sub-expressions: \n",
       "47. (_a)\n",
       "    core type: ExprTuple\n",
       "    sub-expressions: 48\n",
       "48. _a\n",
       "    core type: Variable\n",
       "    sub-expressions: "
      ]
     },
     "metadata": {},
     "output_type": "display_data"
    }
   ],
   "source": [
    "# display the expression information\n",
    "stored_expr.expr_info()"
   ]
  },
  {
   "cell_type": "code",
   "execution_count": null,
   "metadata": {},
   "outputs": [],
   "source": []
  }
 ],
 "metadata": {
  "kernelspec": {
   "display_name": "Python 3",
   "language": "python",
   "name": "python3"
  }
 },
 "nbformat": 4,
 "nbformat_minor": 0
}