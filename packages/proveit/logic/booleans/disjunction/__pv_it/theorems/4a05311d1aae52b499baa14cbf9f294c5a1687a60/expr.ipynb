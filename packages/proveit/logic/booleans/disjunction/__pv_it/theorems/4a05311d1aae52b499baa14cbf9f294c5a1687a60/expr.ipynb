{
 "cells": [
  {
   "cell_type": "markdown",
   "metadata": {},
   "source": [
    "Expression of type <a class=\"ProveItLink\" href=\"../../../../../../../../doc/html/api/proveit.Lambda.html\">Lambda</a>\n",
    "=======================\n",
    "# from the theory of <a class=\"ProveItLink\" href=\"../../../_theory_nbs_/theory.ipynb\">proveit.logic.booleans.disjunction</a>"
   ]
  },
  {
   "cell_type": "code",
   "execution_count": 1,
   "metadata": {},
   "outputs": [],
   "source": [
    "import proveit\n",
    "# Automation is not needed when building an expression:\n",
    "proveit.defaults.automation = False # This will speed things up.\n",
    "proveit.defaults.inline_pngs = False # Makes files smaller.\n",
    "%load_expr # Load the stored expression as 'stored_expr'\n",
    "# import Expression classes needed to build the expression\n",
    "from proveit import A, Conditional, ExprRange, IndexedVar, Lambda, Variable, m\n",
    "from proveit.core_expr_types import A_1_to_m\n",
    "from proveit.logic import Forall, InSet, Not, Or\n",
    "from proveit.numbers import Natural, one"
   ]
  },
  {
   "cell_type": "code",
   "execution_count": 2,
   "metadata": {},
   "outputs": [
    {
     "data": {
      "text/html": [
       "<strong id=\"expr\">expr:</strong> <a class=\"ProveItLink\" href=\"expr.ipynb\"><img src=\"expr.png\" style=\"display:inline;vertical-align:middle;\" /></a><br>"
      ],
      "text/plain": [
       "<IPython.core.display.HTML object>"
      ]
     },
     "metadata": {},
     "output_type": "display_data"
    }
   ],
   "source": [
    "# build up the expression from sub-expressions\n",
    "sub_expr1 = Variable(\"_a\", latex_format = r\"{_{-}a}\")\n",
    "expr = Lambda(m, Conditional(Forall(instance_param_or_params = [A_1_to_m], instance_expr = Not(Or(A_1_to_m)), condition = ExprRange(sub_expr1, Not(IndexedVar(A, sub_expr1)), one, m)), InSet(m, Natural)))"
   ]
  },
  {
   "cell_type": "code",
   "execution_count": 3,
   "metadata": {},
   "outputs": [
    {
     "name": "stdout",
     "output_type": "stream",
     "text": [
      "Passed sanity check: expr matches stored_expr\n"
     ]
    }
   ],
   "source": [
    "# check that the built expression is the same as the stored expression\n",
    "assert expr == stored_expr\n",
    "assert expr._style_id == stored_expr._style_id\n",
    "print(\"Passed sanity check: expr matches stored_expr\")"
   ]
  },
  {
   "cell_type": "code",
   "execution_count": 4,
   "metadata": {},
   "outputs": [
    {
     "name": "stdout",
     "output_type": "stream",
     "text": [
      "m \\mapsto \\left\\{\\forall_{A_{1}, A_{2}, \\ldots, A_{m}~|~(\\lnot A_{1}), (\\lnot A_{2}), \\ldots, (\\lnot A_{m})}~(\\lnot \\left(A_{1} \\lor  A_{2} \\lor  \\ldots \\lor  A_{m}\\right)) \\textrm{ if } m \\in \\mathbb{N}\\right..\n"
     ]
    }
   ],
   "source": [
    "# Show the LaTeX representation of the expression for convenience if you need it.\n",
    "print(stored_expr.latex())"
   ]
  },
  {
   "cell_type": "code",
   "execution_count": 5,
   "metadata": {},
   "outputs": [
    {
     "data": {
      "text/html": [
       "no style options"
      ],
      "text/plain": [
       "no style options"
      ]
     },
     "metadata": {},
     "output_type": "display_data"
    }
   ],
   "source": [
    "stored_expr.style_options()"
   ]
  },
  {
   "cell_type": "code",
   "execution_count": 6,
   "metadata": {},
   "outputs": [
    {
     "data": {
      "text/html": [
       "<table><tr><th>&nbsp;</th><th>core type</th><th>sub-expressions</th><th>expression</th></tr>\n",
       "<tr><td>0</td><td>Lambda</td><td>parameter:&nbsp;26<br>body:&nbsp;2<br></td><td><a class=\"ProveItLink\" href=\"expr.ipynb\"><img src=\"expr.png\" style=\"display:inline;vertical-align:middle;\" /></a></td></tr>\n",
       "<tr><td>1</td><td>ExprTuple</td><td>26</td><td><a class=\"ProveItLink\" href=\"../2ed45ad9602ac89076225577ef477d88f8c5a1790/expr.ipynb\"><img src=\"../2ed45ad9602ac89076225577ef477d88f8c5a1790/expr.png\" style=\"display:inline;vertical-align:middle;\" /></a></td></tr>\n",
       "<tr><td>2</td><td>Conditional</td><td>value:&nbsp;3<br>condition:&nbsp;4<br></td><td><a class=\"ProveItLink\" href=\"../2d5ca211458898e81c769deda39b4bb4f21c7f030/expr.ipynb\"><img src=\"../2d5ca211458898e81c769deda39b4bb4f21c7f030/expr.png\" style=\"display:inline;vertical-align:middle;\" /></a></td></tr>\n",
       "<tr><td>3</td><td>Operation</td><td>operator:&nbsp;5<br>operand:&nbsp;9<br></td><td><a class=\"ProveItLink\" href=\"../a34ea648672a574d3318cb2bfac984d6ff0f164b0/expr.ipynb\"><img src=\"../a34ea648672a574d3318cb2bfac984d6ff0f164b0/expr.png\" style=\"display:inline;vertical-align:middle;\" /></a></td></tr>\n",
       "<tr><td>4</td><td>Operation</td><td>operator:&nbsp;7<br>operands:&nbsp;8<br></td><td><a class=\"ProveItLink\" href=\"../22736ce9d3a37303b26f11de823dee236fdf12440/expr.ipynb\"><img src=\"../22736ce9d3a37303b26f11de823dee236fdf12440/expr.png\" style=\"display:inline;vertical-align:middle;\" /></a></td></tr>\n",
       "<tr><td>5</td><td>Literal</td><td></td><td><a class=\"ProveItLink\" href=\"../../../../quantification/universality/__pv_it/common/083d2baa0b8ecab1d230f9ec29a15aa1355809fb0/expr.ipynb\"><img src=\"../../../../quantification/universality/__pv_it/common/083d2baa0b8ecab1d230f9ec29a15aa1355809fb0/expr.png\" style=\"display:inline;vertical-align:middle;\" /></a></td></tr>\n",
       "<tr><td>6</td><td>ExprTuple</td><td>9</td><td><a class=\"ProveItLink\" href=\"../623b6d9d50c305448b380bf8ee6be6d454186a2c0/expr.ipynb\"><img src=\"../623b6d9d50c305448b380bf8ee6be6d454186a2c0/expr.png\" style=\"display:inline;vertical-align:middle;\" /></a></td></tr>\n",
       "<tr><td>7</td><td>Literal</td><td></td><td><a class=\"ProveItLink\" href=\"../../../../../sets/membership/__pv_it/common/477487d8796864d23d5810f83761435f25167f690/expr.ipynb\"><img src=\"../../../../../sets/membership/__pv_it/common/477487d8796864d23d5810f83761435f25167f690/expr.png\" style=\"display:inline;vertical-align:middle;\" /></a></td></tr>\n",
       "<tr><td>8</td><td>ExprTuple</td><td>26, 10</td><td><a class=\"ProveItLink\" href=\"../0d6c99f0fbf307a57c36a9642312d22b5ef7d9810/expr.ipynb\"><img src=\"../0d6c99f0fbf307a57c36a9642312d22b5ef7d9810/expr.png\" style=\"display:inline;vertical-align:middle;\" /></a></td></tr>\n",
       "<tr><td>9</td><td>Lambda</td><td>parameters:&nbsp;20<br>body:&nbsp;11<br></td><td><a class=\"ProveItLink\" href=\"../f49bd193dca4ffcccc0cdfe43f14418ccaf3978b0/expr.ipynb\"><img src=\"../f49bd193dca4ffcccc0cdfe43f14418ccaf3978b0/expr.png\" style=\"display:inline;vertical-align:middle;\" /></a></td></tr>\n",
       "<tr><td>10</td><td>Literal</td><td></td><td><a class=\"ProveItLink\" href=\"../../../../../../numbers/number_sets/natural_numbers/__pv_it/common/8b7c321957f52ed3b05b36af612eeae4fa4783bc0/expr.ipynb\"><img src=\"../../../../../../numbers/number_sets/natural_numbers/__pv_it/common/8b7c321957f52ed3b05b36af612eeae4fa4783bc0/expr.png\" style=\"display:inline;vertical-align:middle;\" /></a></td></tr>\n",
       "<tr><td>11</td><td>Conditional</td><td>value:&nbsp;12<br>condition:&nbsp;13<br></td><td><a class=\"ProveItLink\" href=\"../677b80c48c07f087f53920aa717944e9a5d496b90/expr.ipynb\"><img src=\"../677b80c48c07f087f53920aa717944e9a5d496b90/expr.png\" style=\"display:inline;vertical-align:middle;\" /></a></td></tr>\n",
       "<tr><td>12</td><td>Operation</td><td>operator:&nbsp;27<br>operand:&nbsp;17<br></td><td><a class=\"ProveItLink\" href=\"../94fe5bbcce2a3cb876ede0f24b4cf4e19df371650/expr.ipynb\"><img src=\"../94fe5bbcce2a3cb876ede0f24b4cf4e19df371650/expr.png\" style=\"display:inline;vertical-align:middle;\" /></a></td></tr>\n",
       "<tr><td>13</td><td>Operation</td><td>operator:&nbsp;15<br>operands:&nbsp;16<br></td><td><a class=\"ProveItLink\" href=\"../4f7e03f713913a92e3e2d5acbf99c8b93aa1cfdf0/expr.ipynb\"><img src=\"../4f7e03f713913a92e3e2d5acbf99c8b93aa1cfdf0/expr.png\" style=\"display:inline;vertical-align:middle;\" /></a></td></tr>\n",
       "<tr><td>14</td><td>ExprTuple</td><td>17</td><td><a class=\"ProveItLink\" href=\"../0ee4d59e4b8f02e001757066a46fa06492e61e070/expr.ipynb\"><img src=\"../0ee4d59e4b8f02e001757066a46fa06492e61e070/expr.png\" style=\"display:inline;vertical-align:middle;\" /></a></td></tr>\n",
       "<tr><td>15</td><td>Literal</td><td></td><td><a class=\"ProveItLink\" href=\"../../../../conjunction/__pv_it/common/42118ff318bd65d98b1393f64ce7c2269feef76e0/expr.ipynb\"><img src=\"../../../../conjunction/__pv_it/common/42118ff318bd65d98b1393f64ce7c2269feef76e0/expr.png\" style=\"display:inline;vertical-align:middle;\" /></a></td></tr>\n",
       "<tr><td>16</td><td>ExprTuple</td><td>18</td><td><a class=\"ProveItLink\" href=\"../3fc568743640ff9c5d24715d24e716e87dd94b610/expr.ipynb\"><img src=\"../3fc568743640ff9c5d24715d24e716e87dd94b610/expr.png\" style=\"display:inline;vertical-align:middle;\" /></a></td></tr>\n",
       "<tr><td>17</td><td>Operation</td><td>operator:&nbsp;19<br>operands:&nbsp;20<br></td><td><a class=\"ProveItLink\" href=\"../672690be5e71a07bccfb167f7fa9c72f661921fe0/expr.ipynb\"><img src=\"../672690be5e71a07bccfb167f7fa9c72f661921fe0/expr.png\" style=\"display:inline;vertical-align:middle;\" /></a></td></tr>\n",
       "<tr><td>18</td><td>ExprRange</td><td>lambda_map:&nbsp;21<br>start_index:&nbsp;25<br>end_index:&nbsp;26<br></td><td><a class=\"ProveItLink\" href=\"../9523e2b2855e97bf33354d3e42863a77d54e6bc80/expr.ipynb\"><img src=\"../9523e2b2855e97bf33354d3e42863a77d54e6bc80/expr.png\" style=\"display:inline;vertical-align:middle;\" /></a></td></tr>\n",
       "<tr><td>19</td><td>Literal</td><td></td><td><a class=\"ProveItLink\" href=\"../../common/ef8e59262ff8e0133aa1ca984dd6b3a41bf69d5b0/expr.ipynb\"><img src=\"../../common/ef8e59262ff8e0133aa1ca984dd6b3a41bf69d5b0/expr.png\" style=\"display:inline;vertical-align:middle;\" /></a></td></tr>\n",
       "<tr><td>20</td><td>ExprTuple</td><td>22</td><td><a class=\"ProveItLink\" href=\"../218b49ecc2fcb674f5eb724d523a787df9bde9a00/expr.ipynb\"><img src=\"../218b49ecc2fcb674f5eb724d523a787df9bde9a00/expr.png\" style=\"display:inline;vertical-align:middle;\" /></a></td></tr>\n",
       "<tr><td>21</td><td>Lambda</td><td>parameter:&nbsp;32<br>body:&nbsp;23<br></td><td><a class=\"ProveItLink\" href=\"../62c2b1087a1a8dead8181baa4d285704b6ddb7700/expr.ipynb\"><img src=\"../62c2b1087a1a8dead8181baa4d285704b6ddb7700/expr.png\" style=\"display:inline;vertical-align:middle;\" /></a></td></tr>\n",
       "<tr><td>22</td><td>ExprRange</td><td>lambda_map:&nbsp;24<br>start_index:&nbsp;25<br>end_index:&nbsp;26<br></td><td><a class=\"ProveItLink\" href=\"../../../../../../core_expr_types/__pv_it/common/eaccd55f312202b1e754429bdfeaf22333037c330/expr.ipynb\"><img src=\"../../../../../../core_expr_types/__pv_it/common/eaccd55f312202b1e754429bdfeaf22333037c330/expr.png\" style=\"display:inline;vertical-align:middle;\" /></a></td></tr>\n",
       "<tr><td>23</td><td>Operation</td><td>operator:&nbsp;27<br>operand:&nbsp;29<br></td><td><a class=\"ProveItLink\" href=\"../d00e162d2f18b7705f9e97d9c59676cc4afbdc060/expr.ipynb\"><img src=\"../d00e162d2f18b7705f9e97d9c59676cc4afbdc060/expr.png\" style=\"display:inline;vertical-align:middle;\" /></a></td></tr>\n",
       "<tr><td>24</td><td>Lambda</td><td>parameter:&nbsp;32<br>body:&nbsp;29<br></td><td><a class=\"ProveItLink\" href=\"../../../../../../core_expr_types/__pv_it/common/9332289e845003c758afc3bcee43498ae784f2d90/expr.ipynb\"><img src=\"../../../../../../core_expr_types/__pv_it/common/9332289e845003c758afc3bcee43498ae784f2d90/expr.png\" style=\"display:inline;vertical-align:middle;\" /></a></td></tr>\n",
       "<tr><td>25</td><td>Literal</td><td></td><td><a class=\"ProveItLink\" href=\"../../../../../../numbers/numerals/__pv_it/common/682157d4892d216d9e5626ed533aff9b56b9506e0/expr.ipynb\"><img src=\"../../../../../../numbers/numerals/__pv_it/common/682157d4892d216d9e5626ed533aff9b56b9506e0/expr.png\" style=\"display:inline;vertical-align:middle;\" /></a></td></tr>\n",
       "<tr><td>26</td><td>Variable</td><td></td><td><a class=\"ProveItLink\" href=\"../../../../../../__pv_it/common/674a03b9c3ca221b3aabd5636837b31528ff33830/expr.ipynb\"><img src=\"../../../../../../__pv_it/common/674a03b9c3ca221b3aabd5636837b31528ff33830/expr.png\" style=\"display:inline;vertical-align:middle;\" /></a></td></tr>\n",
       "<tr><td>27</td><td>Literal</td><td></td><td><a class=\"ProveItLink\" href=\"../../../../negation/__pv_it/common/1a811a997e5d75fdb50cdaf74f302daccad39af40/expr.ipynb\"><img src=\"../../../../negation/__pv_it/common/1a811a997e5d75fdb50cdaf74f302daccad39af40/expr.png\" style=\"display:inline;vertical-align:middle;\" /></a></td></tr>\n",
       "<tr><td>28</td><td>ExprTuple</td><td>29</td><td><a class=\"ProveItLink\" href=\"../0dcbed9683bf9c4a5bdbd0eef11a7d46cd9de7e60/expr.ipynb\"><img src=\"../0dcbed9683bf9c4a5bdbd0eef11a7d46cd9de7e60/expr.png\" style=\"display:inline;vertical-align:middle;\" /></a></td></tr>\n",
       "<tr><td>29</td><td>IndexedVar</td><td>variable:&nbsp;30<br>index:&nbsp;32<br></td><td><a class=\"ProveItLink\" href=\"../../../../../../core_expr_types/__pv_it/common/9fdaaadf1b3d81a308244818dc08833e7f5035730/expr.ipynb\"><img src=\"../../../../../../core_expr_types/__pv_it/common/9fdaaadf1b3d81a308244818dc08833e7f5035730/expr.png\" style=\"display:inline;vertical-align:middle;\" /></a></td></tr>\n",
       "<tr><td>30</td><td>Variable</td><td></td><td><a class=\"ProveItLink\" href=\"../../../../../../__pv_it/common/09585084922504426caf1db2ff588a23a0932a960/expr.ipynb\"><img src=\"../../../../../../__pv_it/common/09585084922504426caf1db2ff588a23a0932a960/expr.png\" style=\"display:inline;vertical-align:middle;\" /></a></td></tr>\n",
       "<tr><td>31</td><td>ExprTuple</td><td>32</td><td><a class=\"ProveItLink\" href=\"../../../../../../core_expr_types/__pv_it/common/4b0dd6be36d76552eda6a95d5b4a27f5a5b62f900/expr.ipynb\"><img src=\"../../../../../../core_expr_types/__pv_it/common/4b0dd6be36d76552eda6a95d5b4a27f5a5b62f900/expr.png\" style=\"display:inline;vertical-align:middle;\" /></a></td></tr>\n",
       "<tr><td>32</td><td>Variable</td><td></td><td><a class=\"ProveItLink\" href=\"../../../../../../core_expr_types/__pv_it/common/006c465e50948aa2b52285e2de47974f741255cc0/expr.ipynb\"><img src=\"../../../../../../core_expr_types/__pv_it/common/006c465e50948aa2b52285e2de47974f741255cc0/expr.png\" style=\"display:inline;vertical-align:middle;\" /></a></td></tr>\n",
       "</table>\n"
      ],
      "text/plain": [
       "0. m -> {forall_{A_{1}, A_{2}, ..., A_{m} | [not](A_{1}), [not](A_{2}), ..., [not](A_{m})} [not](A_{1} or  A_{2} or  ... or  A_{m}) if m in Natural.\n",
       "   core type: Lambda\n",
       "   parameter: 26\n",
       "   body: 2\n",
       "1. (m)\n",
       "   core type: ExprTuple\n",
       "   sub-expressions: 26\n",
       "2. {forall_{A_{1}, A_{2}, ..., A_{m} | [not](A_{1}), [not](A_{2}), ..., [not](A_{m})} [not](A_{1} or  A_{2} or  ... or  A_{m}) if m in Natural.\n",
       "   core type: Conditional\n",
       "   value: 3\n",
       "   condition: 4\n",
       "3. forall_{A_{1}, A_{2}, ..., A_{m} | [not](A_{1}), [not](A_{2}), ..., [not](A_{m})} [not](A_{1} or  A_{2} or  ... or  A_{m})\n",
       "   core type: Operation\n",
       "   operator: 5\n",
       "   operand: 9\n",
       "4. m in Natural\n",
       "   core type: Operation\n",
       "   operator: 7\n",
       "   operands: 8\n",
       "5. forall\n",
       "   core type: Literal\n",
       "   sub-expressions: \n",
       "6. ((A_{1}, A_{2}, ..., A_{m}) -> {[not](A_{1} or  A_{2} or  ... or  A_{m}) if [not](A_{1}) and  [not](A_{2}) and  ... and  [not](A_{m}).)\n",
       "   core type: ExprTuple\n",
       "   sub-expressions: 9\n",
       "7. in\n",
       "   core type: Literal\n",
       "   sub-expressions: \n",
       "8. (m, Natural)\n",
       "   core type: ExprTuple\n",
       "   sub-expressions: 26, 10\n",
       "9. (A_{1}, A_{2}, ..., A_{m}) -> {[not](A_{1} or  A_{2} or  ... or  A_{m}) if [not](A_{1}) and  [not](A_{2}) and  ... and  [not](A_{m}).\n",
       "   core type: Lambda\n",
       "   parameters: 20\\n   body: 11\n",
       "10. Natural\n",
       "    core type: Literal\n",
       "    sub-expressions: \n",
       "11. {[not](A_{1} or  A_{2} or  ... or  A_{m}) if [not](A_{1}) and  [not](A_{2}) and  ... and  [not](A_{m}).\n",
       "    core type: Conditional\n",
       "    value: 12\n",
       "    condition: 13\n",
       "12. [not](A_{1} or  A_{2} or  ... or  A_{m})\n",
       "    core type: Operation\n",
       "    operator: 27\n",
       "    operand: 17\n",
       "13. [not](A_{1}) and  [not](A_{2}) and  ... and  [not](A_{m})\n",
       "    core type: Operation\n",
       "    operator: 15\n",
       "    operands: 16\n",
       "14. (A_{1} or  A_{2} or  ... or  A_{m})\n",
       "    core type: ExprTuple\n",
       "    sub-expressions: 17\n",
       "15. and\n",
       "    core type: Literal\n",
       "    sub-expressions: \n",
       "16. ([not](A_{1}), [not](A_{2}), ..., [not](A_{m}))\n",
       "    core type: ExprTuple\n",
       "    sub-expressions: 18\n",
       "17. A_{1} or  A_{2} or  ... or  A_{m}\n",
       "    core type: Operation\n",
       "    operator: 19\n",
       "    operands: 20\n",
       "18. [not](A_{1}), [not](A_{2}), ..., [not](A_{m})\n",
       "    core type: ExprRange\n",
       "    lambda_map: 21\n",
       "    start_index: 25\n",
       "    end_index: 26\n",
       "19. or\n",
       "    core type: Literal\n",
       "    sub-expressions: \n",
       "20. (A_{1}, A_{2}, ..., A_{m})\n",
       "    core type: ExprTuple\n",
       "    sub-expressions: 22\n",
       "21. _a -> [not](A_{_a})\n",
       "    core type: Lambda\n",
       "    parameter: 32\n",
       "    body: 23\n",
       "22. A_{1}, A_{2}, ..., A_{m}\n",
       "    core type: ExprRange\n",
       "    lambda_map: 24\n",
       "    start_index: 25\n",
       "    end_index: 26\n",
       "23. [not](A_{_a})\n",
       "    core type: Operation\n",
       "    operator: 27\n",
       "    operand: 29\n",
       "24. _a -> A_{_a}\n",
       "    core type: Lambda\n",
       "    parameter: 32\n",
       "    body: 29\n",
       "25. 1\n",
       "    core type: Literal\n",
       "    sub-expressions: \n",
       "26. m\n",
       "    core type: Variable\n",
       "    sub-expressions: \n",
       "27. not\n",
       "    core type: Literal\n",
       "    sub-expressions: \n",
       "28. (A_{_a})\n",
       "    core type: ExprTuple\n",
       "    sub-expressions: 29\n",
       "29. A_{_a}\n",
       "    core type: IndexedVar\n",
       "variable: 30\n",
       "index: 32\n",
       "30. A\n",
       "    core type: Variable\n",
       "    sub-expressions: \n",
       "31. (_a)\n",
       "    core type: ExprTuple\n",
       "    sub-expressions: 32\n",
       "32. _a\n",
       "    core type: Variable\n",
       "    sub-expressions: "
      ]
     },
     "metadata": {},
     "output_type": "display_data"
    }
   ],
   "source": [
    "# display the expression information\n",
    "stored_expr.expr_info()"
   ]
  },
  {
   "cell_type": "code",
   "execution_count": null,
   "metadata": {},
   "outputs": [],
   "source": []
  }
 ],
 "metadata": {
  "kernelspec": {
   "display_name": "Python 3",
   "language": "python",
   "name": "python3"
  }
 },
 "nbformat": 4,
 "nbformat_minor": 0
}