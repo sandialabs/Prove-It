{
 "cells": [
  {
   "cell_type": "markdown",
   "metadata": {},
   "source": [
    "Expression of type <a class=\"ProveItLink\" href=\"../../../../../../../../doc/html/api/proveit.ExprTuple.html\">ExprTuple</a>\n",
    "=======================\n",
    "# from the theory of <a class=\"ProveItLink\" href=\"../../../_theory_nbs_/theory.ipynb\">proveit.logic.booleans.disjunction</a>"
   ]
  },
  {
   "cell_type": "code",
   "execution_count": 1,
   "metadata": {},
   "outputs": [],
   "source": [
    "import proveit\n",
    "# Automation is not needed when building an expression:\n",
    "proveit.defaults.automation = False # This will speed things up.\n",
    "proveit.defaults.inline_pngs = False # Makes files smaller.\n",
    "%load_expr # Load the stored expression as 'stored_expr'\n",
    "# import Expression classes needed to build the expression\n",
    "from proveit import A, B, C, Conditional, D, ExprRange, ExprTuple, IndexedVar, Lambda, Variable, l, m, n\n",
    "from proveit.core_expr_types import A_1_to_l, C_1_to_m, D_1_to_n\n",
    "from proveit.logic import And, Boolean, Equals, InSet, Or\n",
    "from proveit.numbers import one"
   ]
  },
  {
   "cell_type": "code",
   "execution_count": 2,
   "metadata": {},
   "outputs": [
    {
     "data": {
      "text/html": [
       "<strong id=\"expr\">expr:</strong> <a class=\"ProveItLink\" href=\"expr.ipynb\"><img src=\"expr.png\" style=\"display:inline;vertical-align:middle;\" /></a><br>"
      ],
      "text/plain": [
       "<IPython.core.display.HTML object>"
      ]
     },
     "metadata": {},
     "output_type": "display_data"
    }
   ],
   "source": [
    "# build up the expression from sub-expressions\n",
    "sub_expr1 = Variable(\"_a\", latex_format = r\"{_{-}a}\")\n",
    "expr = ExprTuple(Lambda([A_1_to_l, B, C_1_to_m, D_1_to_n], Conditional(Equals(Or(A_1_to_l, B, C_1_to_m, D_1_to_n), Or(A_1_to_l, C_1_to_m, B, D_1_to_n)).with_wrapping_at(2), And(ExprRange(sub_expr1, InSet(IndexedVar(A, sub_expr1), Boolean), one, l), InSet(B, Boolean), ExprRange(sub_expr1, InSet(IndexedVar(C, sub_expr1), Boolean), one, m), ExprRange(sub_expr1, InSet(IndexedVar(D, sub_expr1), Boolean), one, n)))))"
   ]
  },
  {
   "cell_type": "code",
   "execution_count": 3,
   "metadata": {},
   "outputs": [
    {
     "name": "stdout",
     "output_type": "stream",
     "text": [
      "Passed sanity check: expr matches stored_expr\n"
     ]
    }
   ],
   "source": [
    "# check that the built expression is the same as the stored expression\n",
    "assert expr == stored_expr\n",
    "assert expr._style_id == stored_expr._style_id\n",
    "print(\"Passed sanity check: expr matches stored_expr\")"
   ]
  },
  {
   "cell_type": "code",
   "execution_count": 4,
   "metadata": {},
   "outputs": [
    {
     "name": "stdout",
     "output_type": "stream",
     "text": [
      "\\left(\\left(A_{1}, A_{2}, \\ldots, A_{l}, B, C_{1}, C_{2}, \\ldots, C_{m}, D_{1}, D_{2}, \\ldots, D_{n}\\right) \\mapsto \\left\\{\\begin{array}{c} \\begin{array}{l} \\left(A_{1} \\lor  A_{2} \\lor  \\ldots \\lor  A_{l} \\lor B\\lor C_{1} \\lor  C_{2} \\lor  \\ldots \\lor  C_{m}\\lor D_{1} \\lor  D_{2} \\lor  \\ldots \\lor  D_{n}\\right) =  \\\\ \\left(A_{1} \\lor  A_{2} \\lor  \\ldots \\lor  A_{l}\\lor C_{1} \\lor  C_{2} \\lor  \\ldots \\lor  C_{m} \\lor B\\lor D_{1} \\lor  D_{2} \\lor  \\ldots \\lor  D_{n}\\right) \\end{array} \\end{array} \\textrm{ if } \\left(A_{1} \\in \\mathbb{B}\\right) ,  \\left(A_{2} \\in \\mathbb{B}\\right) ,  \\ldots ,  \\left(A_{l} \\in \\mathbb{B}\\right) ,  B \\in \\mathbb{B}, \\left(C_{1} \\in \\mathbb{B}\\right) ,  \\left(C_{2} \\in \\mathbb{B}\\right) ,  \\ldots ,  \\left(C_{m} \\in \\mathbb{B}\\right), \\left(D_{1} \\in \\mathbb{B}\\right) ,  \\left(D_{2} \\in \\mathbb{B}\\right) ,  \\ldots ,  \\left(D_{n} \\in \\mathbb{B}\\right)\\right..\\right)\n"
     ]
    }
   ],
   "source": [
    "# Show the LaTeX representation of the expression for convenience if you need it.\n",
    "print(stored_expr.latex())"
   ]
  },
  {
   "cell_type": "code",
   "execution_count": 5,
   "metadata": {},
   "outputs": [
    {
     "data": {
      "text/html": [
       "no style options"
      ],
      "text/plain": [
       "no style options"
      ]
     },
     "metadata": {},
     "output_type": "display_data"
    }
   ],
   "source": [
    "stored_expr.style_options()"
   ]
  },
  {
   "cell_type": "code",
   "execution_count": 6,
   "metadata": {},
   "outputs": [
    {
     "data": {
      "text/html": [
       "<table><tr><th>&nbsp;</th><th>core type</th><th>sub-expressions</th><th>expression</th></tr>\n",
       "<tr><td>0</td><td>ExprTuple</td><td>1</td><td><a class=\"ProveItLink\" href=\"expr.ipynb\"><img src=\"expr.png\" style=\"display:inline;vertical-align:middle;\" /></a></td></tr>\n",
       "<tr><td>1</td><td>Lambda</td><td>parameters:&nbsp;15<br>body:&nbsp;2<br></td><td><a class=\"ProveItLink\" href=\"../e6f2501058df90926fcb0795f4d22142f0d2b8580/expr.ipynb\"><img src=\"../e6f2501058df90926fcb0795f4d22142f0d2b8580/expr.png\" style=\"display:inline;vertical-align:middle;\" /></a></td></tr>\n",
       "<tr><td>2</td><td>Conditional</td><td>value:&nbsp;3<br>condition:&nbsp;4<br></td><td><a class=\"ProveItLink\" href=\"../0bf2a6beb521e119a31e46df99c23495fd7bfd780/expr.ipynb\"><img src=\"../0bf2a6beb521e119a31e46df99c23495fd7bfd780/expr.png\" style=\"display:inline;vertical-align:middle;\" /></a></td></tr>\n",
       "<tr><td>3</td><td>Operation</td><td>operator:&nbsp;5<br>operands:&nbsp;6<br></td><td><a class=\"ProveItLink\" href=\"../c021258372d31deebaf9a09c302395123f02ee570/expr.ipynb\"><img src=\"../c021258372d31deebaf9a09c302395123f02ee570/expr.png\" style=\"display:inline;vertical-align:middle;\" /></a></td></tr>\n",
       "<tr><td>4</td><td>Operation</td><td>operator:&nbsp;7<br>operands:&nbsp;8<br></td><td><a class=\"ProveItLink\" href=\"../ecb1ea5e169b4b5d30fa6c00999a9e46589ac8ec0/expr.ipynb\"><img src=\"../ecb1ea5e169b4b5d30fa6c00999a9e46589ac8ec0/expr.png\" style=\"display:inline;vertical-align:middle;\" /></a></td></tr>\n",
       "<tr><td>5</td><td>Literal</td><td></td><td><a class=\"ProveItLink\" href=\"../../../../../equality/__pv_it/common/fb96dc12b2aa8801dda64d0132b396c63d1502bb0/expr.ipynb\"><img src=\"../../../../../equality/__pv_it/common/fb96dc12b2aa8801dda64d0132b396c63d1502bb0/expr.png\" style=\"display:inline;vertical-align:middle;\" /></a></td></tr>\n",
       "<tr><td>6</td><td>ExprTuple</td><td>9, 10</td><td><a class=\"ProveItLink\" href=\"../e9176ea0196f4da35a227d78fbd721c8d9c4b2480/expr.ipynb\"><img src=\"../e9176ea0196f4da35a227d78fbd721c8d9c4b2480/expr.png\" style=\"display:inline;vertical-align:middle;\" /></a></td></tr>\n",
       "<tr><td>7</td><td>Literal</td><td></td><td><a class=\"ProveItLink\" href=\"../../../../conjunction/__pv_it/common/42118ff318bd65d98b1393f64ce7c2269feef76e0/expr.ipynb\"><img src=\"../../../../conjunction/__pv_it/common/42118ff318bd65d98b1393f64ce7c2269feef76e0/expr.png\" style=\"display:inline;vertical-align:middle;\" /></a></td></tr>\n",
       "<tr><td>8</td><td>ExprTuple</td><td>11, 12, 13, 14</td><td><a class=\"ProveItLink\" href=\"../8e17a806525a4ea13fa1584703efc27ac71ada130/expr.ipynb\"><img src=\"../8e17a806525a4ea13fa1584703efc27ac71ada130/expr.png\" style=\"display:inline;vertical-align:middle;\" /></a></td></tr>\n",
       "<tr><td>9</td><td>Operation</td><td>operator:&nbsp;16<br>operands:&nbsp;15<br></td><td><a class=\"ProveItLink\" href=\"../0977594f562aca466a89cdb07ed2eac65581da5a0/expr.ipynb\"><img src=\"../0977594f562aca466a89cdb07ed2eac65581da5a0/expr.png\" style=\"display:inline;vertical-align:middle;\" /></a></td></tr>\n",
       "<tr><td>10</td><td>Operation</td><td>operator:&nbsp;16<br>operands:&nbsp;17<br></td><td><a class=\"ProveItLink\" href=\"../c87936d02b5f7441218659811192569429d9d8c20/expr.ipynb\"><img src=\"../c87936d02b5f7441218659811192569429d9d8c20/expr.png\" style=\"display:inline;vertical-align:middle;\" /></a></td></tr>\n",
       "<tr><td>11</td><td>ExprRange</td><td>lambda_map:&nbsp;18<br>start_index:&nbsp;34<br>end_index:&nbsp;30<br></td><td><a class=\"ProveItLink\" href=\"../448e42881ef03533b7a7c42001c43a227fcfbe0e0/expr.ipynb\"><img src=\"../448e42881ef03533b7a7c42001c43a227fcfbe0e0/expr.png\" style=\"display:inline;vertical-align:middle;\" /></a></td></tr>\n",
       "<tr><td>12</td><td>Operation</td><td>operator:&nbsp;38<br>operands:&nbsp;19<br></td><td><a class=\"ProveItLink\" href=\"../c50b73f2d168f6a3012768bd45c62ea92218bcbc0/expr.ipynb\"><img src=\"../c50b73f2d168f6a3012768bd45c62ea92218bcbc0/expr.png\" style=\"display:inline;vertical-align:middle;\" /></a></td></tr>\n",
       "<tr><td>13</td><td>ExprRange</td><td>lambda_map:&nbsp;20<br>start_index:&nbsp;34<br>end_index:&nbsp;32<br></td><td><a class=\"ProveItLink\" href=\"../73c60950f434f4757e6b3105e015b5b6bce714790/expr.ipynb\"><img src=\"../73c60950f434f4757e6b3105e015b5b6bce714790/expr.png\" style=\"display:inline;vertical-align:middle;\" /></a></td></tr>\n",
       "<tr><td>14</td><td>ExprRange</td><td>lambda_map:&nbsp;21<br>start_index:&nbsp;34<br>end_index:&nbsp;35<br></td><td><a class=\"ProveItLink\" href=\"../12aa0095f4627b88c02b419f136f159cc1cb0e410/expr.ipynb\"><img src=\"../12aa0095f4627b88c02b419f136f159cc1cb0e410/expr.png\" style=\"display:inline;vertical-align:middle;\" /></a></td></tr>\n",
       "<tr><td>15</td><td>ExprTuple</td><td>22, 26, 23, 24</td><td><a class=\"ProveItLink\" href=\"../17a812147919c4b31ba8fa1bf2c807ef7fbe28660/expr.ipynb\"><img src=\"../17a812147919c4b31ba8fa1bf2c807ef7fbe28660/expr.png\" style=\"display:inline;vertical-align:middle;\" /></a></td></tr>\n",
       "<tr><td>16</td><td>Literal</td><td></td><td><a class=\"ProveItLink\" href=\"../../common/ef8e59262ff8e0133aa1ca984dd6b3a41bf69d5b0/expr.ipynb\"><img src=\"../../common/ef8e59262ff8e0133aa1ca984dd6b3a41bf69d5b0/expr.png\" style=\"display:inline;vertical-align:middle;\" /></a></td></tr>\n",
       "<tr><td>17</td><td>ExprTuple</td><td>22, 23, 26, 24</td><td><a class=\"ProveItLink\" href=\"../e79770014594887e5c1e85027fa9c38ab24d17b90/expr.ipynb\"><img src=\"../e79770014594887e5c1e85027fa9c38ab24d17b90/expr.png\" style=\"display:inline;vertical-align:middle;\" /></a></td></tr>\n",
       "<tr><td>18</td><td>Lambda</td><td>parameter:&nbsp;48<br>body:&nbsp;25<br></td><td><a class=\"ProveItLink\" href=\"../24bc2dc2924744cfd65436fd9d2c6ad0cc6f28660/expr.ipynb\"><img src=\"../24bc2dc2924744cfd65436fd9d2c6ad0cc6f28660/expr.png\" style=\"display:inline;vertical-align:middle;\" /></a></td></tr>\n",
       "<tr><td>19</td><td>ExprTuple</td><td>26, 43</td><td><a class=\"ProveItLink\" href=\"../5e8e479d9a496304ae582f3d8c5c79a5903c707c0/expr.ipynb\"><img src=\"../5e8e479d9a496304ae582f3d8c5c79a5903c707c0/expr.png\" style=\"display:inline;vertical-align:middle;\" /></a></td></tr>\n",
       "<tr><td>20</td><td>Lambda</td><td>parameter:&nbsp;48<br>body:&nbsp;27<br></td><td><a class=\"ProveItLink\" href=\"../1d62f4848cb58c5f81b1a54ca4e9e6493636b0bc0/expr.ipynb\"><img src=\"../1d62f4848cb58c5f81b1a54ca4e9e6493636b0bc0/expr.png\" style=\"display:inline;vertical-align:middle;\" /></a></td></tr>\n",
       "<tr><td>21</td><td>Lambda</td><td>parameter:&nbsp;48<br>body:&nbsp;28<br></td><td><a class=\"ProveItLink\" href=\"../5109cb9d16a4638bc6a480072b000deb0b93c2c40/expr.ipynb\"><img src=\"../5109cb9d16a4638bc6a480072b000deb0b93c2c40/expr.png\" style=\"display:inline;vertical-align:middle;\" /></a></td></tr>\n",
       "<tr><td>22</td><td>ExprRange</td><td>lambda_map:&nbsp;29<br>start_index:&nbsp;34<br>end_index:&nbsp;30<br></td><td><a class=\"ProveItLink\" href=\"../../../../../../core_expr_types/__pv_it/common/a661ce209a2c221820bbff00e1d4b098820c37af0/expr.ipynb\"><img src=\"../../../../../../core_expr_types/__pv_it/common/a661ce209a2c221820bbff00e1d4b098820c37af0/expr.png\" style=\"display:inline;vertical-align:middle;\" /></a></td></tr>\n",
       "<tr><td>23</td><td>ExprRange</td><td>lambda_map:&nbsp;31<br>start_index:&nbsp;34<br>end_index:&nbsp;32<br></td><td><a class=\"ProveItLink\" href=\"../../../../../../core_expr_types/__pv_it/common/50dca3187a05eb1225bac7602c2b719bfa8fbeac0/expr.ipynb\"><img src=\"../../../../../../core_expr_types/__pv_it/common/50dca3187a05eb1225bac7602c2b719bfa8fbeac0/expr.png\" style=\"display:inline;vertical-align:middle;\" /></a></td></tr>\n",
       "<tr><td>24</td><td>ExprRange</td><td>lambda_map:&nbsp;33<br>start_index:&nbsp;34<br>end_index:&nbsp;35<br></td><td><a class=\"ProveItLink\" href=\"../../../../../../core_expr_types/__pv_it/common/ea79e983ae6d397673f6a492cdf8265d812567980/expr.ipynb\"><img src=\"../../../../../../core_expr_types/__pv_it/common/ea79e983ae6d397673f6a492cdf8265d812567980/expr.png\" style=\"display:inline;vertical-align:middle;\" /></a></td></tr>\n",
       "<tr><td>25</td><td>Operation</td><td>operator:&nbsp;38<br>operands:&nbsp;36<br></td><td><a class=\"ProveItLink\" href=\"../4e5a3811f8fae2836722462066e6579a37dfad210/expr.ipynb\"><img src=\"../4e5a3811f8fae2836722462066e6579a37dfad210/expr.png\" style=\"display:inline;vertical-align:middle;\" /></a></td></tr>\n",
       "<tr><td>26</td><td>Variable</td><td></td><td><a class=\"ProveItLink\" href=\"../../../../../../__pv_it/common/a9162d1c3cc0470c02e5daf414500903a7a419230/expr.ipynb\"><img src=\"../../../../../../__pv_it/common/a9162d1c3cc0470c02e5daf414500903a7a419230/expr.png\" style=\"display:inline;vertical-align:middle;\" /></a></td></tr>\n",
       "<tr><td>27</td><td>Operation</td><td>operator:&nbsp;38<br>operands:&nbsp;37<br></td><td><a class=\"ProveItLink\" href=\"../f161700ea9c36270553cc9e817eb7416b9e36b500/expr.ipynb\"><img src=\"../f161700ea9c36270553cc9e817eb7416b9e36b500/expr.png\" style=\"display:inline;vertical-align:middle;\" /></a></td></tr>\n",
       "<tr><td>28</td><td>Operation</td><td>operator:&nbsp;38<br>operands:&nbsp;39<br></td><td><a class=\"ProveItLink\" href=\"../defd3081633076bf2d912fb58939daf34c437ead0/expr.ipynb\"><img src=\"../defd3081633076bf2d912fb58939daf34c437ead0/expr.png\" style=\"display:inline;vertical-align:middle;\" /></a></td></tr>\n",
       "<tr><td>29</td><td>Lambda</td><td>parameter:&nbsp;48<br>body:&nbsp;40<br></td><td><a class=\"ProveItLink\" href=\"../../../../../../core_expr_types/__pv_it/common/9332289e845003c758afc3bcee43498ae784f2d90/expr.ipynb\"><img src=\"../../../../../../core_expr_types/__pv_it/common/9332289e845003c758afc3bcee43498ae784f2d90/expr.png\" style=\"display:inline;vertical-align:middle;\" /></a></td></tr>\n",
       "<tr><td>30</td><td>Variable</td><td></td><td><a class=\"ProveItLink\" href=\"../../../../../../__pv_it/common/27cc275d44b4f4499fb9ccfb3fab1a98165d2fa60/expr.ipynb\"><img src=\"../../../../../../__pv_it/common/27cc275d44b4f4499fb9ccfb3fab1a98165d2fa60/expr.png\" style=\"display:inline;vertical-align:middle;\" /></a></td></tr>\n",
       "<tr><td>31</td><td>Lambda</td><td>parameter:&nbsp;48<br>body:&nbsp;41<br></td><td><a class=\"ProveItLink\" href=\"../../../../../../core_expr_types/__pv_it/common/c9399abb980047fe39e716f375f641a4494b404b0/expr.ipynb\"><img src=\"../../../../../../core_expr_types/__pv_it/common/c9399abb980047fe39e716f375f641a4494b404b0/expr.png\" style=\"display:inline;vertical-align:middle;\" /></a></td></tr>\n",
       "<tr><td>32</td><td>Variable</td><td></td><td><a class=\"ProveItLink\" href=\"../../../../../../__pv_it/common/674a03b9c3ca221b3aabd5636837b31528ff33830/expr.ipynb\"><img src=\"../../../../../../__pv_it/common/674a03b9c3ca221b3aabd5636837b31528ff33830/expr.png\" style=\"display:inline;vertical-align:middle;\" /></a></td></tr>\n",
       "<tr><td>33</td><td>Lambda</td><td>parameter:&nbsp;48<br>body:&nbsp;42<br></td><td><a class=\"ProveItLink\" href=\"../../../../../../core_expr_types/__pv_it/common/235a310135ac1db383f7e53487b6f79171d747610/expr.ipynb\"><img src=\"../../../../../../core_expr_types/__pv_it/common/235a310135ac1db383f7e53487b6f79171d747610/expr.png\" style=\"display:inline;vertical-align:middle;\" /></a></td></tr>\n",
       "<tr><td>34</td><td>Literal</td><td></td><td><a class=\"ProveItLink\" href=\"../../../../../../numbers/numerals/__pv_it/common/682157d4892d216d9e5626ed533aff9b56b9506e0/expr.ipynb\"><img src=\"../../../../../../numbers/numerals/__pv_it/common/682157d4892d216d9e5626ed533aff9b56b9506e0/expr.png\" style=\"display:inline;vertical-align:middle;\" /></a></td></tr>\n",
       "<tr><td>35</td><td>Variable</td><td></td><td><a class=\"ProveItLink\" href=\"../../../../../../__pv_it/common/8968bb04eb3f7dfa02353397ce929b025bbd79c20/expr.ipynb\"><img src=\"../../../../../../__pv_it/common/8968bb04eb3f7dfa02353397ce929b025bbd79c20/expr.png\" style=\"display:inline;vertical-align:middle;\" /></a></td></tr>\n",
       "<tr><td>36</td><td>ExprTuple</td><td>40, 43</td><td><a class=\"ProveItLink\" href=\"../3b63dd2d70dc3db7b3daaeea0ebe335178ad58940/expr.ipynb\"><img src=\"../3b63dd2d70dc3db7b3daaeea0ebe335178ad58940/expr.png\" style=\"display:inline;vertical-align:middle;\" /></a></td></tr>\n",
       "<tr><td>37</td><td>ExprTuple</td><td>41, 43</td><td><a class=\"ProveItLink\" href=\"../240f87d4f00f5b917f53616d36f86fff5a6299590/expr.ipynb\"><img src=\"../240f87d4f00f5b917f53616d36f86fff5a6299590/expr.png\" style=\"display:inline;vertical-align:middle;\" /></a></td></tr>\n",
       "<tr><td>38</td><td>Literal</td><td></td><td><a class=\"ProveItLink\" href=\"../../../../../sets/membership/__pv_it/common/477487d8796864d23d5810f83761435f25167f690/expr.ipynb\"><img src=\"../../../../../sets/membership/__pv_it/common/477487d8796864d23d5810f83761435f25167f690/expr.png\" style=\"display:inline;vertical-align:middle;\" /></a></td></tr>\n",
       "<tr><td>39</td><td>ExprTuple</td><td>42, 43</td><td><a class=\"ProveItLink\" href=\"../cae3135f5f05abf75897d8c6bba2c9d3b26433a70/expr.ipynb\"><img src=\"../cae3135f5f05abf75897d8c6bba2c9d3b26433a70/expr.png\" style=\"display:inline;vertical-align:middle;\" /></a></td></tr>\n",
       "<tr><td>40</td><td>IndexedVar</td><td>variable:&nbsp;44<br>index:&nbsp;48<br></td><td><a class=\"ProveItLink\" href=\"../../../../../../core_expr_types/__pv_it/common/9fdaaadf1b3d81a308244818dc08833e7f5035730/expr.ipynb\"><img src=\"../../../../../../core_expr_types/__pv_it/common/9fdaaadf1b3d81a308244818dc08833e7f5035730/expr.png\" style=\"display:inline;vertical-align:middle;\" /></a></td></tr>\n",
       "<tr><td>41</td><td>IndexedVar</td><td>variable:&nbsp;45<br>index:&nbsp;48<br></td><td><a class=\"ProveItLink\" href=\"../../../../../../core_expr_types/__pv_it/common/f756bc205d05c1af04e1aeeb7a42469b1e89f9cf0/expr.ipynb\"><img src=\"../../../../../../core_expr_types/__pv_it/common/f756bc205d05c1af04e1aeeb7a42469b1e89f9cf0/expr.png\" style=\"display:inline;vertical-align:middle;\" /></a></td></tr>\n",
       "<tr><td>42</td><td>IndexedVar</td><td>variable:&nbsp;46<br>index:&nbsp;48<br></td><td><a class=\"ProveItLink\" href=\"../../../../../../core_expr_types/__pv_it/common/6a4c5be14c9fca15c4a86f42beee4e45e0f4ff9e0/expr.ipynb\"><img src=\"../../../../../../core_expr_types/__pv_it/common/6a4c5be14c9fca15c4a86f42beee4e45e0f4ff9e0/expr.png\" style=\"display:inline;vertical-align:middle;\" /></a></td></tr>\n",
       "<tr><td>43</td><td>Literal</td><td></td><td><a class=\"ProveItLink\" href=\"../../../../__pv_it/common/97424376de9815ad99f7180e3191b1cf4ab2a5710/expr.ipynb\"><img src=\"../../../../__pv_it/common/97424376de9815ad99f7180e3191b1cf4ab2a5710/expr.png\" style=\"display:inline;vertical-align:middle;\" /></a></td></tr>\n",
       "<tr><td>44</td><td>Variable</td><td></td><td><a class=\"ProveItLink\" href=\"../../../../../../__pv_it/common/09585084922504426caf1db2ff588a23a0932a960/expr.ipynb\"><img src=\"../../../../../../__pv_it/common/09585084922504426caf1db2ff588a23a0932a960/expr.png\" style=\"display:inline;vertical-align:middle;\" /></a></td></tr>\n",
       "<tr><td>45</td><td>Variable</td><td></td><td><a class=\"ProveItLink\" href=\"../../../../../../__pv_it/common/9fba9f29e823606ff4fdf2f1c6d5d08d906e850a0/expr.ipynb\"><img src=\"../../../../../../__pv_it/common/9fba9f29e823606ff4fdf2f1c6d5d08d906e850a0/expr.png\" style=\"display:inline;vertical-align:middle;\" /></a></td></tr>\n",
       "<tr><td>46</td><td>Variable</td><td></td><td><a class=\"ProveItLink\" href=\"../../../../../../__pv_it/common/8d36d28f3636cdaa66f8b7d56eb3bbf0b50f70200/expr.ipynb\"><img src=\"../../../../../../__pv_it/common/8d36d28f3636cdaa66f8b7d56eb3bbf0b50f70200/expr.png\" style=\"display:inline;vertical-align:middle;\" /></a></td></tr>\n",
       "<tr><td>47</td><td>ExprTuple</td><td>48</td><td><a class=\"ProveItLink\" href=\"../../../../../../core_expr_types/__pv_it/common/4b0dd6be36d76552eda6a95d5b4a27f5a5b62f900/expr.ipynb\"><img src=\"../../../../../../core_expr_types/__pv_it/common/4b0dd6be36d76552eda6a95d5b4a27f5a5b62f900/expr.png\" style=\"display:inline;vertical-align:middle;\" /></a></td></tr>\n",
       "<tr><td>48</td><td>Variable</td><td></td><td><a class=\"ProveItLink\" href=\"../../../../../../core_expr_types/__pv_it/common/006c465e50948aa2b52285e2de47974f741255cc0/expr.ipynb\"><img src=\"../../../../../../core_expr_types/__pv_it/common/006c465e50948aa2b52285e2de47974f741255cc0/expr.png\" style=\"display:inline;vertical-align:middle;\" /></a></td></tr>\n",
       "</table>\n"
      ],
      "text/plain": [
       "0. ((A_{1}, A_{2}, ..., A_{l}, B, C_{1}, C_{2}, ..., C_{m}, D_{1}, D_{2}, ..., D_{n}) -> {(A_{1} or  A_{2} or  ... or  A_{l} or Bor C_{1} or  C_{2} or  ... or  C_{m}or D_{1} or  D_{2} or  ... or  D_{n}) =  \\\\ (A_{1} or  A_{2} or  ... or  A_{l}or C_{1} or  C_{2} or  ... or  C_{m} or Bor D_{1} or  D_{2} or  ... or  D_{n}) if (A_{1} in BOOLEAN) ,  (A_{2} in BOOLEAN) ,  ... ,  (A_{l} in BOOLEAN) ,  B in BOOLEAN, (C_{1} in BOOLEAN) ,  (C_{2} in BOOLEAN) ,  ... ,  (C_{m} in BOOLEAN), (D_{1} in BOOLEAN) ,  (D_{2} in BOOLEAN) ,  ... ,  (D_{n} in BOOLEAN).)\n",
       "   core type: ExprTuple\n",
       "   sub-expressions: 1\n",
       "1. (A_{1}, A_{2}, ..., A_{l}, B, C_{1}, C_{2}, ..., C_{m}, D_{1}, D_{2}, ..., D_{n}) -> {(A_{1} or  A_{2} or  ... or  A_{l} or Bor C_{1} or  C_{2} or  ... or  C_{m}or D_{1} or  D_{2} or  ... or  D_{n}) =  \\\\ (A_{1} or  A_{2} or  ... or  A_{l}or C_{1} or  C_{2} or  ... or  C_{m} or Bor D_{1} or  D_{2} or  ... or  D_{n}) if (A_{1} in BOOLEAN) ,  (A_{2} in BOOLEAN) ,  ... ,  (A_{l} in BOOLEAN) ,  B in BOOLEAN, (C_{1} in BOOLEAN) ,  (C_{2} in BOOLEAN) ,  ... ,  (C_{m} in BOOLEAN), (D_{1} in BOOLEAN) ,  (D_{2} in BOOLEAN) ,  ... ,  (D_{n} in BOOLEAN).\n",
       "   core type: Lambda\n",
       "   parameters: 15\\n   body: 2\n",
       "2. {(A_{1} or  A_{2} or  ... or  A_{l} or Bor C_{1} or  C_{2} or  ... or  C_{m}or D_{1} or  D_{2} or  ... or  D_{n}) =  \\\\ (A_{1} or  A_{2} or  ... or  A_{l}or C_{1} or  C_{2} or  ... or  C_{m} or Bor D_{1} or  D_{2} or  ... or  D_{n}) if (A_{1} in BOOLEAN) ,  (A_{2} in BOOLEAN) ,  ... ,  (A_{l} in BOOLEAN) ,  B in BOOLEAN, (C_{1} in BOOLEAN) ,  (C_{2} in BOOLEAN) ,  ... ,  (C_{m} in BOOLEAN), (D_{1} in BOOLEAN) ,  (D_{2} in BOOLEAN) ,  ... ,  (D_{n} in BOOLEAN).\n",
       "   core type: Conditional\n",
       "   value: 3\n",
       "   condition: 4\n",
       "3. (A_{1} or  A_{2} or  ... or  A_{l} or Bor C_{1} or  C_{2} or  ... or  C_{m}or D_{1} or  D_{2} or  ... or  D_{n}) =  \\\\ (A_{1} or  A_{2} or  ... or  A_{l}or C_{1} or  C_{2} or  ... or  C_{m} or Bor D_{1} or  D_{2} or  ... or  D_{n})\n",
       "   core type: Operation\n",
       "   operator: 5\n",
       "   operands: 6\n",
       "4. (A_{1} in BOOLEAN) and  (A_{2} in BOOLEAN) and  ... and  (A_{l} in BOOLEAN) and (B in BOOLEAN)and (C_{1} in BOOLEAN) and  (C_{2} in BOOLEAN) and  ... and  (C_{m} in BOOLEAN)and (D_{1} in BOOLEAN) and  (D_{2} in BOOLEAN) and  ... and  (D_{n} in BOOLEAN)\n",
       "   core type: Operation\n",
       "   operator: 7\n",
       "   operands: 8\n",
       "5. =\n",
       "   core type: Literal\n",
       "   sub-expressions: \n",
       "6. (A_{1} or  A_{2} or  ... or  A_{l} or Bor C_{1} or  C_{2} or  ... or  C_{m}or D_{1} or  D_{2} or  ... or  D_{n}, A_{1} or  A_{2} or  ... or  A_{l}or C_{1} or  C_{2} or  ... or  C_{m} or Bor D_{1} or  D_{2} or  ... or  D_{n})\n",
       "   core type: ExprTuple\n",
       "   sub-expressions: 9, 10\n",
       "7. and\n",
       "   core type: Literal\n",
       "   sub-expressions: \n",
       "8. ((A_{1} in BOOLEAN), (A_{2} in BOOLEAN), ..., (A_{l} in BOOLEAN), B in BOOLEAN,(C_{1} in BOOLEAN), (C_{2} in BOOLEAN), ..., (C_{m} in BOOLEAN),(D_{1} in BOOLEAN), (D_{2} in BOOLEAN), ..., (D_{n} in BOOLEAN))\n",
       "   core type: ExprTuple\n",
       "   sub-expressions: 11, 12, 13, 14\n",
       "9. A_{1} or  A_{2} or  ... or  A_{l} or Bor C_{1} or  C_{2} or  ... or  C_{m}or D_{1} or  D_{2} or  ... or  D_{n}\n",
       "   core type: Operation\n",
       "   operator: 16\n",
       "   operands: 15\n",
       "10. A_{1} or  A_{2} or  ... or  A_{l}or C_{1} or  C_{2} or  ... or  C_{m} or Bor D_{1} or  D_{2} or  ... or  D_{n}\n",
       "    core type: Operation\n",
       "    operator: 16\n",
       "    operands: 17\n",
       "11. (A_{1} in BOOLEAN), (A_{2} in BOOLEAN), ..., (A_{l} in BOOLEAN)\n",
       "    core type: ExprRange\n",
       "    lambda_map: 18\n",
       "    start_index: 34\n",
       "    end_index: 30\n",
       "12. B in BOOLEAN\n",
       "    core type: Operation\n",
       "    operator: 38\n",
       "    operands: 19\n",
       "13. (C_{1} in BOOLEAN), (C_{2} in BOOLEAN), ..., (C_{m} in BOOLEAN)\n",
       "    core type: ExprRange\n",
       "    lambda_map: 20\n",
       "    start_index: 34\n",
       "    end_index: 32\n",
       "14. (D_{1} in BOOLEAN), (D_{2} in BOOLEAN), ..., (D_{n} in BOOLEAN)\n",
       "    core type: ExprRange\n",
       "    lambda_map: 21\n",
       "    start_index: 34\n",
       "    end_index: 35\n",
       "15. (A_{1}, A_{2}, ..., A_{l}, B,C_{1}, C_{2}, ..., C_{m},D_{1}, D_{2}, ..., D_{n})\n",
       "    core type: ExprTuple\n",
       "    sub-expressions: 22, 26, 23, 24\n",
       "16. or\n",
       "    core type: Literal\n",
       "    sub-expressions: \n",
       "17. (A_{1}, A_{2}, ..., A_{l},C_{1}, C_{2}, ..., C_{m}, B,D_{1}, D_{2}, ..., D_{n})\n",
       "    core type: ExprTuple\n",
       "    sub-expressions: 22, 23, 26, 24\n",
       "18. _a -> (A_{_a} in BOOLEAN)\n",
       "    core type: Lambda\n",
       "    parameter: 48\n",
       "    body: 25\n",
       "19. (B, BOOLEAN)\n",
       "    core type: ExprTuple\n",
       "    sub-expressions: 26, 43\n",
       "20. _a -> (C_{_a} in BOOLEAN)\n",
       "    core type: Lambda\n",
       "    parameter: 48\n",
       "    body: 27\n",
       "21. _a -> (D_{_a} in BOOLEAN)\n",
       "    core type: Lambda\n",
       "    parameter: 48\n",
       "    body: 28\n",
       "22. A_{1}, A_{2}, ..., A_{l}\n",
       "    core type: ExprRange\n",
       "    lambda_map: 29\n",
       "    start_index: 34\n",
       "    end_index: 30\n",
       "23. C_{1}, C_{2}, ..., C_{m}\n",
       "    core type: ExprRange\n",
       "    lambda_map: 31\n",
       "    start_index: 34\n",
       "    end_index: 32\n",
       "24. D_{1}, D_{2}, ..., D_{n}\n",
       "    core type: ExprRange\n",
       "    lambda_map: 33\n",
       "    start_index: 34\n",
       "    end_index: 35\n",
       "25. A_{_a} in BOOLEAN\n",
       "    core type: Operation\n",
       "    operator: 38\n",
       "    operands: 36\n",
       "26. B\n",
       "    core type: Variable\n",
       "    sub-expressions: \n",
       "27. C_{_a} in BOOLEAN\n",
       "    core type: Operation\n",
       "    operator: 38\n",
       "    operands: 37\n",
       "28. D_{_a} in BOOLEAN\n",
       "    core type: Operation\n",
       "    operator: 38\n",
       "    operands: 39\n",
       "29. _a -> A_{_a}\n",
       "    core type: Lambda\n",
       "    parameter: 48\n",
       "    body: 40\n",
       "30. l\n",
       "    core type: Variable\n",
       "    sub-expressions: \n",
       "31. _a -> C_{_a}\n",
       "    core type: Lambda\n",
       "    parameter: 48\n",
       "    body: 41\n",
       "32. m\n",
       "    core type: Variable\n",
       "    sub-expressions: \n",
       "33. _a -> D_{_a}\n",
       "    core type: Lambda\n",
       "    parameter: 48\n",
       "    body: 42\n",
       "34. 1\n",
       "    core type: Literal\n",
       "    sub-expressions: \n",
       "35. n\n",
       "    core type: Variable\n",
       "    sub-expressions: \n",
       "36. (A_{_a}, BOOLEAN)\n",
       "    core type: ExprTuple\n",
       "    sub-expressions: 40, 43\n",
       "37. (C_{_a}, BOOLEAN)\n",
       "    core type: ExprTuple\n",
       "    sub-expressions: 41, 43\n",
       "38. in\n",
       "    core type: Literal\n",
       "    sub-expressions: \n",
       "39. (D_{_a}, BOOLEAN)\n",
       "    core type: ExprTuple\n",
       "    sub-expressions: 42, 43\n",
       "40. A_{_a}\n",
       "    core type: IndexedVar\n",
       "variable: 44\n",
       "index: 48\n",
       "41. C_{_a}\n",
       "    core type: IndexedVar\n",
       "variable: 45\n",
       "index: 48\n",
       "42. D_{_a}\n",
       "    core type: IndexedVar\n",
       "variable: 46\n",
       "index: 48\n",
       "43. BOOLEAN\n",
       "    core type: Literal\n",
       "    sub-expressions: \n",
       "44. A\n",
       "    core type: Variable\n",
       "    sub-expressions: \n",
       "45. C\n",
       "    core type: Variable\n",
       "    sub-expressions: \n",
       "46. D\n",
       "    core type: Variable\n",
       "    sub-expressions: \n",
       "47. (_a)\n",
       "    core type: ExprTuple\n",
       "    sub-expressions: 48\n",
       "48. _a\n",
       "    core type: Variable\n",
       "    sub-expressions: "
      ]
     },
     "metadata": {},
     "output_type": "display_data"
    }
   ],
   "source": [
    "# display the expression information\n",
    "stored_expr.expr_info()"
   ]
  },
  {
   "cell_type": "code",
   "execution_count": null,
   "metadata": {},
   "outputs": [],
   "source": []
  }
 ],
 "metadata": {
  "kernelspec": {
   "display_name": "Python 3",
   "language": "python",
   "name": "python3"
  }
 },
 "nbformat": 4,
 "nbformat_minor": 0
}