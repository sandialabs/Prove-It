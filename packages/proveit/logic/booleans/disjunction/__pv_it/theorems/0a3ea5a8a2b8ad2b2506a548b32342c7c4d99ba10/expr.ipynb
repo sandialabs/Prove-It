{
 "cells": [
  {
   "cell_type": "markdown",
   "metadata": {},
   "source": [
    "Expression of type <a class=\"ProveItLink\" href=\"../../../../../../../../doc/html/api/proveit.ExprTuple.html\">ExprTuple</a>\n",
    "=======================\n",
    "# from the theory of <a class=\"ProveItLink\" href=\"../../../_theory_nbs_/theory.ipynb\">proveit.logic.booleans.disjunction</a>"
   ]
  },
  {
   "cell_type": "code",
   "execution_count": 1,
   "metadata": {},
   "outputs": [],
   "source": [
    "import proveit\n",
    "# Automation is not needed when building an expression:\n",
    "proveit.defaults.automation = False # This will speed things up.\n",
    "proveit.defaults.inline_pngs = False # Makes files smaller.\n",
    "%load_expr # Load the stored expression as 'stored_expr'\n",
    "# import Expression classes needed to build the expression\n",
    "from proveit import A, C, Conditional, ExprRange, ExprTuple, IndexedVar, Lambda, Variable, m\n",
    "from proveit.logic import And, Implies\n",
    "from proveit.numbers import one"
   ]
  },
  {
   "cell_type": "code",
   "execution_count": 2,
   "metadata": {},
   "outputs": [
    {
     "data": {
      "text/html": [
       "<strong id=\"expr\">expr:</strong> <a class=\"ProveItLink\" href=\"expr.ipynb\"><img src=\"expr.png\" style=\"display:inline;vertical-align:middle;\" /></a><br>"
      ],
      "text/plain": [
       "<IPython.core.display.HTML object>"
      ]
     },
     "metadata": {},
     "output_type": "display_data"
    }
   ],
   "source": [
    "# build up the expression from sub-expressions\n",
    "sub_expr1 = Variable(\"_a\", latex_format = r\"{_{-}a}\")\n",
    "expr = ExprTuple(Lambda(C, Conditional(C, And(ExprRange(sub_expr1, Implies(IndexedVar(A, sub_expr1), C), one, m)))))"
   ]
  },
  {
   "cell_type": "code",
   "execution_count": 3,
   "metadata": {},
   "outputs": [
    {
     "name": "stdout",
     "output_type": "stream",
     "text": [
      "Passed sanity check: expr matches stored_expr\n"
     ]
    }
   ],
   "source": [
    "# check that the built expression is the same as the stored expression\n",
    "assert expr == stored_expr\n",
    "assert expr._style_id == stored_expr._style_id\n",
    "print(\"Passed sanity check: expr matches stored_expr\")"
   ]
  },
  {
   "cell_type": "code",
   "execution_count": 4,
   "metadata": {},
   "outputs": [
    {
     "name": "stdout",
     "output_type": "stream",
     "text": [
      "\\left(C \\mapsto \\left\\{C \\textrm{ if } \\left(A_{1} \\Rightarrow C\\right) \\land  \\left(A_{2} \\Rightarrow C\\right) \\land  \\ldots \\land  \\left(A_{m} \\Rightarrow C\\right)\\right..\\right)\n"
     ]
    }
   ],
   "source": [
    "# Show the LaTeX representation of the expression for convenience if you need it.\n",
    "print(stored_expr.latex())"
   ]
  },
  {
   "cell_type": "code",
   "execution_count": 5,
   "metadata": {},
   "outputs": [
    {
     "data": {
      "text/html": [
       "no style options"
      ],
      "text/plain": [
       "no style options"
      ]
     },
     "metadata": {},
     "output_type": "display_data"
    }
   ],
   "source": [
    "stored_expr.style_options()"
   ]
  },
  {
   "cell_type": "code",
   "execution_count": 6,
   "metadata": {},
   "outputs": [
    {
     "data": {
      "text/html": [
       "<table><tr><th>&nbsp;</th><th>core type</th><th>sub-expressions</th><th>expression</th></tr>\n",
       "<tr><td>0</td><td>ExprTuple</td><td>1</td><td><a class=\"ProveItLink\" href=\"expr.ipynb\"><img src=\"expr.png\" style=\"display:inline;vertical-align:middle;\" /></a></td></tr>\n",
       "<tr><td>1</td><td>Lambda</td><td>parameter:&nbsp;15<br>body:&nbsp;3<br></td><td><a class=\"ProveItLink\" href=\"../e0ba0cc6e5532c6596aa09a36f00ce5a6ab419510/expr.ipynb\"><img src=\"../e0ba0cc6e5532c6596aa09a36f00ce5a6ab419510/expr.png\" style=\"display:inline;vertical-align:middle;\" /></a></td></tr>\n",
       "<tr><td>2</td><td>ExprTuple</td><td>15</td><td><a class=\"ProveItLink\" href=\"../7cd89a0b28fb2652e5a208f6667ea21fd78cb7420/expr.ipynb\"><img src=\"../7cd89a0b28fb2652e5a208f6667ea21fd78cb7420/expr.png\" style=\"display:inline;vertical-align:middle;\" /></a></td></tr>\n",
       "<tr><td>3</td><td>Conditional</td><td>value:&nbsp;15<br>condition:&nbsp;4<br></td><td><a class=\"ProveItLink\" href=\"../c4d598cd4f558495e2a98d52d2e0da802ce4abf80/expr.ipynb\"><img src=\"../c4d598cd4f558495e2a98d52d2e0da802ce4abf80/expr.png\" style=\"display:inline;vertical-align:middle;\" /></a></td></tr>\n",
       "<tr><td>4</td><td>Operation</td><td>operator:&nbsp;5<br>operands:&nbsp;6<br></td><td><a class=\"ProveItLink\" href=\"../b47cd54cb263f175d7a40292cb53cdd0c0bcf1b30/expr.ipynb\"><img src=\"../b47cd54cb263f175d7a40292cb53cdd0c0bcf1b30/expr.png\" style=\"display:inline;vertical-align:middle;\" /></a></td></tr>\n",
       "<tr><td>5</td><td>Literal</td><td></td><td><a class=\"ProveItLink\" href=\"../../../../conjunction/__pv_it/common/42118ff318bd65d98b1393f64ce7c2269feef76e0/expr.ipynb\"><img src=\"../../../../conjunction/__pv_it/common/42118ff318bd65d98b1393f64ce7c2269feef76e0/expr.png\" style=\"display:inline;vertical-align:middle;\" /></a></td></tr>\n",
       "<tr><td>6</td><td>ExprTuple</td><td>7</td><td><a class=\"ProveItLink\" href=\"../0a0c989ad832ea55c7f3ec7a46a6a2b764d4d9b80/expr.ipynb\"><img src=\"../0a0c989ad832ea55c7f3ec7a46a6a2b764d4d9b80/expr.png\" style=\"display:inline;vertical-align:middle;\" /></a></td></tr>\n",
       "<tr><td>7</td><td>ExprRange</td><td>lambda_map:&nbsp;8<br>start_index:&nbsp;9<br>end_index:&nbsp;10<br></td><td><a class=\"ProveItLink\" href=\"../2e45284d2e561a20334ead94ccde02ced8b906540/expr.ipynb\"><img src=\"../2e45284d2e561a20334ead94ccde02ced8b906540/expr.png\" style=\"display:inline;vertical-align:middle;\" /></a></td></tr>\n",
       "<tr><td>8</td><td>Lambda</td><td>parameter:&nbsp;18<br>body:&nbsp;11<br></td><td><a class=\"ProveItLink\" href=\"../051bf5443cb2fa86e79b873fb65639725664ca8e0/expr.ipynb\"><img src=\"../051bf5443cb2fa86e79b873fb65639725664ca8e0/expr.png\" style=\"display:inline;vertical-align:middle;\" /></a></td></tr>\n",
       "<tr><td>9</td><td>Literal</td><td></td><td><a class=\"ProveItLink\" href=\"../../../../../../numbers/numerals/__pv_it/common/682157d4892d216d9e5626ed533aff9b56b9506e0/expr.ipynb\"><img src=\"../../../../../../numbers/numerals/__pv_it/common/682157d4892d216d9e5626ed533aff9b56b9506e0/expr.png\" style=\"display:inline;vertical-align:middle;\" /></a></td></tr>\n",
       "<tr><td>10</td><td>Variable</td><td></td><td><a class=\"ProveItLink\" href=\"../../../../../../__pv_it/common/674a03b9c3ca221b3aabd5636837b31528ff33830/expr.ipynb\"><img src=\"../../../../../../__pv_it/common/674a03b9c3ca221b3aabd5636837b31528ff33830/expr.png\" style=\"display:inline;vertical-align:middle;\" /></a></td></tr>\n",
       "<tr><td>11</td><td>Operation</td><td>operator:&nbsp;12<br>operands:&nbsp;13<br></td><td><a class=\"ProveItLink\" href=\"../3d6cfbbfd31b912a5bf4d4a30fe8b3414a332fdc0/expr.ipynb\"><img src=\"../3d6cfbbfd31b912a5bf4d4a30fe8b3414a332fdc0/expr.png\" style=\"display:inline;vertical-align:middle;\" /></a></td></tr>\n",
       "<tr><td>12</td><td>Literal</td><td></td><td><a class=\"ProveItLink\" href=\"../../../../implication/__pv_it/common/02bdb382575728da8cdbaed545b9096ea7a1bd5b0/expr.ipynb\"><img src=\"../../../../implication/__pv_it/common/02bdb382575728da8cdbaed545b9096ea7a1bd5b0/expr.png\" style=\"display:inline;vertical-align:middle;\" /></a></td></tr>\n",
       "<tr><td>13</td><td>ExprTuple</td><td>14, 15</td><td><a class=\"ProveItLink\" href=\"../6c0430ddc3d9a7bb7a62da3a9f991c90df9f97b90/expr.ipynb\"><img src=\"../6c0430ddc3d9a7bb7a62da3a9f991c90df9f97b90/expr.png\" style=\"display:inline;vertical-align:middle;\" /></a></td></tr>\n",
       "<tr><td>14</td><td>IndexedVar</td><td>variable:&nbsp;16<br>index:&nbsp;18<br></td><td><a class=\"ProveItLink\" href=\"../../../../../../core_expr_types/__pv_it/common/9fdaaadf1b3d81a308244818dc08833e7f5035730/expr.ipynb\"><img src=\"../../../../../../core_expr_types/__pv_it/common/9fdaaadf1b3d81a308244818dc08833e7f5035730/expr.png\" style=\"display:inline;vertical-align:middle;\" /></a></td></tr>\n",
       "<tr><td>15</td><td>Variable</td><td></td><td><a class=\"ProveItLink\" href=\"../../../../../../__pv_it/common/9fba9f29e823606ff4fdf2f1c6d5d08d906e850a0/expr.ipynb\"><img src=\"../../../../../../__pv_it/common/9fba9f29e823606ff4fdf2f1c6d5d08d906e850a0/expr.png\" style=\"display:inline;vertical-align:middle;\" /></a></td></tr>\n",
       "<tr><td>16</td><td>Variable</td><td></td><td><a class=\"ProveItLink\" href=\"../../../../../../__pv_it/common/09585084922504426caf1db2ff588a23a0932a960/expr.ipynb\"><img src=\"../../../../../../__pv_it/common/09585084922504426caf1db2ff588a23a0932a960/expr.png\" style=\"display:inline;vertical-align:middle;\" /></a></td></tr>\n",
       "<tr><td>17</td><td>ExprTuple</td><td>18</td><td><a class=\"ProveItLink\" href=\"../../../../../../core_expr_types/__pv_it/common/4b0dd6be36d76552eda6a95d5b4a27f5a5b62f900/expr.ipynb\"><img src=\"../../../../../../core_expr_types/__pv_it/common/4b0dd6be36d76552eda6a95d5b4a27f5a5b62f900/expr.png\" style=\"display:inline;vertical-align:middle;\" /></a></td></tr>\n",
       "<tr><td>18</td><td>Variable</td><td></td><td><a class=\"ProveItLink\" href=\"../../../../../../core_expr_types/__pv_it/common/006c465e50948aa2b52285e2de47974f741255cc0/expr.ipynb\"><img src=\"../../../../../../core_expr_types/__pv_it/common/006c465e50948aa2b52285e2de47974f741255cc0/expr.png\" style=\"display:inline;vertical-align:middle;\" /></a></td></tr>\n",
       "</table>\n"
      ],
      "text/plain": [
       "0. (C -> {C if (A_{1} => C) and  (A_{2} => C) and  ... and  (A_{m} => C).)\n",
       "   core type: ExprTuple\n",
       "   sub-expressions: 1\n",
       "1. C -> {C if (A_{1} => C) and  (A_{2} => C) and  ... and  (A_{m} => C).\n",
       "   core type: Lambda\n",
       "   parameter: 15\n",
       "   body: 3\n",
       "2. (C)\n",
       "   core type: ExprTuple\n",
       "   sub-expressions: 15\n",
       "3. {C if (A_{1} => C) and  (A_{2} => C) and  ... and  (A_{m} => C).\n",
       "   core type: Conditional\n",
       "   value: 15\n",
       "   condition: 4\n",
       "4. (A_{1} => C) and  (A_{2} => C) and  ... and  (A_{m} => C)\n",
       "   core type: Operation\n",
       "   operator: 5\n",
       "   operands: 6\n",
       "5. and\n",
       "   core type: Literal\n",
       "   sub-expressions: \n",
       "6. ((A_{1} => C), (A_{2} => C), ..., (A_{m} => C))\n",
       "   core type: ExprTuple\n",
       "   sub-expressions: 7\n",
       "7. (A_{1} => C), (A_{2} => C), ..., (A_{m} => C)\n",
       "   core type: ExprRange\n",
       "   lambda_map: 8\n",
       "   start_index: 9\n",
       "   end_index: 10\n",
       "8. _a -> (A_{_a} => C)\n",
       "   core type: Lambda\n",
       "   parameter: 18\n",
       "   body: 11\n",
       "9. 1\n",
       "   core type: Literal\n",
       "   sub-expressions: \n",
       "10. m\n",
       "    core type: Variable\n",
       "    sub-expressions: \n",
       "11. A_{_a} => C\n",
       "    core type: Operation\n",
       "    operator: 12\n",
       "    operands: 13\n",
       "12. =>\n",
       "    core type: Literal\n",
       "    sub-expressions: \n",
       "13. (A_{_a}, C)\n",
       "    core type: ExprTuple\n",
       "    sub-expressions: 14, 15\n",
       "14. A_{_a}\n",
       "    core type: IndexedVar\n",
       "variable: 16\n",
       "index: 18\n",
       "15. C\n",
       "    core type: Variable\n",
       "    sub-expressions: \n",
       "16. A\n",
       "    core type: Variable\n",
       "    sub-expressions: \n",
       "17. (_a)\n",
       "    core type: ExprTuple\n",
       "    sub-expressions: 18\n",
       "18. _a\n",
       "    core type: Variable\n",
       "    sub-expressions: "
      ]
     },
     "metadata": {},
     "output_type": "display_data"
    }
   ],
   "source": [
    "# display the expression information\n",
    "stored_expr.expr_info()"
   ]
  },
  {
   "cell_type": "code",
   "execution_count": null,
   "metadata": {},
   "outputs": [],
   "source": []
  }
 ],
 "metadata": {
  "kernelspec": {
   "display_name": "Python 3",
   "language": "python",
   "name": "python3"
  }
 },
 "nbformat": 4,
 "nbformat_minor": 0
}