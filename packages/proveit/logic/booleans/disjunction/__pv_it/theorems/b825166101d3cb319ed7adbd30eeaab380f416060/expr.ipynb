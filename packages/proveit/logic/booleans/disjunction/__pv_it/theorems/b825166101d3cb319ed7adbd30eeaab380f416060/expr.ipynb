{
 "cells": [
  {
   "cell_type": "markdown",
   "metadata": {},
   "source": [
    "Expression of type <a class=\"ProveItLink\" href=\"../../../../../../../../doc/html/api/proveit.Conditional.html\">Conditional</a>\n",
    "=======================\n",
    "# from the theory of <a class=\"ProveItLink\" href=\"../../../_theory_nbs_/theory.ipynb\">proveit.logic.booleans.disjunction</a>"
   ]
  },
  {
   "cell_type": "code",
   "execution_count": 1,
   "metadata": {},
   "outputs": [],
   "source": [
    "import proveit\n",
    "# Automation is not needed when building an expression:\n",
    "proveit.defaults.automation = False # This will speed things up.\n",
    "proveit.defaults.inline_pngs = False # Makes files smaller.\n",
    "%load_expr # Load the stored expression as 'stored_expr'\n",
    "# import Expression classes needed to build the expression\n",
    "from proveit import Conditional, ExprRange, Function, P, Pk, Variable, i, j, k\n",
    "from proveit.logic import And, Exists, Forall, Implies, InSet, Or\n",
    "from proveit.numbers import Integer, Interval"
   ]
  },
  {
   "cell_type": "code",
   "execution_count": 2,
   "metadata": {},
   "outputs": [
    {
     "data": {
      "text/html": [
       "<strong id=\"expr\">expr:</strong> <a class=\"ProveItLink\" href=\"expr.ipynb\"><img src=\"expr.png\" style=\"display:inline;vertical-align:middle;\" /></a><br>"
      ],
      "text/plain": [
       "<IPython.core.display.HTML object>"
      ]
     },
     "metadata": {},
     "output_type": "display_data"
    }
   ],
   "source": [
    "# build up the expression from sub-expressions\n",
    "sub_expr1 = Variable(\"_a\", latex_format = r\"{_{-}a}\")\n",
    "expr = Conditional(Forall(instance_param_or_params = [P], instance_expr = Implies(Or(ExprRange(sub_expr1, Function(P, [sub_expr1]), i, j)), Exists(instance_param_or_params = [k], instance_expr = Pk, domain = Interval(i, j)))), And(InSet(i, Integer), InSet(j, Integer)))"
   ]
  },
  {
   "cell_type": "code",
   "execution_count": 3,
   "metadata": {},
   "outputs": [
    {
     "name": "stdout",
     "output_type": "stream",
     "text": [
      "Passed sanity check: expr matches stored_expr\n"
     ]
    }
   ],
   "source": [
    "# check that the built expression is the same as the stored expression\n",
    "assert expr == stored_expr\n",
    "assert expr._style_id == stored_expr._style_id\n",
    "print(\"Passed sanity check: expr matches stored_expr\")"
   ]
  },
  {
   "cell_type": "code",
   "execution_count": 4,
   "metadata": {},
   "outputs": [
    {
     "name": "stdout",
     "output_type": "stream",
     "text": [
      "\\left\\{\\forall_{P}~\\left(\\left(P\\left(i\\right) \\lor  P\\left(i + 1\\right) \\lor  \\ldots \\lor  P\\left(j\\right)\\right) \\Rightarrow \\left[\\exists_{k \\in \\{i~\\ldotp \\ldotp~j\\}}~P\\left(k\\right)\\right]\\right) \\textrm{ if } i \\in \\mathbb{Z} ,  j \\in \\mathbb{Z}\\right..\n"
     ]
    }
   ],
   "source": [
    "# Show the LaTeX representation of the expression for convenience if you need it.\n",
    "print(stored_expr.latex())"
   ]
  },
  {
   "cell_type": "code",
   "execution_count": 5,
   "metadata": {},
   "outputs": [
    {
     "data": {
      "text/html": [
       "<table>\n",
       "<tr><th>name</th><th>description</th><th>default</th><th>current value</th><th>related methods</th></tr><tr><td>condition_delimiter</td><td>'comma' or 'and'</td><td>comma</td><td>comma</td><td>('with_comma_delimiter', 'with_conjunction_delimiter')</td></tr>\n",
       "</table>\n"
      ],
      "text/plain": [
       "style name: condition_delimiter\n",
       "description: 'comma' or 'and'\n",
       "default: comma\n",
       "current value: comma\n",
       "related methods: ('with_comma_delimiter', 'with_conjunction_delimiter')"
      ]
     },
     "metadata": {},
     "output_type": "display_data"
    }
   ],
   "source": [
    "stored_expr.style_options()"
   ]
  },
  {
   "cell_type": "code",
   "execution_count": 6,
   "metadata": {},
   "outputs": [
    {
     "data": {
      "text/html": [
       "<table><tr><th>&nbsp;</th><th>core type</th><th>sub-expressions</th><th>expression</th></tr>\n",
       "<tr><td>0</td><td>Conditional</td><td>value:&nbsp;1<br>condition:&nbsp;2<br></td><td><a class=\"ProveItLink\" href=\"expr.ipynb\"><img src=\"expr.png\" style=\"display:inline;vertical-align:middle;\" /></a></td></tr>\n",
       "<tr><td>1</td><td>Operation</td><td>operator:&nbsp;3<br>operand:&nbsp;7<br></td><td><a class=\"ProveItLink\" href=\"../ab13b38bb535cd4d3c10c1c515c74329bab11cb10/expr.ipynb\"><img src=\"../ab13b38bb535cd4d3c10c1c515c74329bab11cb10/expr.png\" style=\"display:inline;vertical-align:middle;\" /></a></td></tr>\n",
       "<tr><td>2</td><td>Operation</td><td>operator:&nbsp;5<br>operands:&nbsp;6<br></td><td><a class=\"ProveItLink\" href=\"../bcd19e26cf58f6a25b016c8d6adf6c06dd510b200/expr.ipynb\"><img src=\"../bcd19e26cf58f6a25b016c8d6adf6c06dd510b200/expr.png\" style=\"display:inline;vertical-align:middle;\" /></a></td></tr>\n",
       "<tr><td>3</td><td>Literal</td><td></td><td><a class=\"ProveItLink\" href=\"../../../../quantification/universality/__pv_it/common/083d2baa0b8ecab1d230f9ec29a15aa1355809fb0/expr.ipynb\"><img src=\"../../../../quantification/universality/__pv_it/common/083d2baa0b8ecab1d230f9ec29a15aa1355809fb0/expr.png\" style=\"display:inline;vertical-align:middle;\" /></a></td></tr>\n",
       "<tr><td>4</td><td>ExprTuple</td><td>7</td><td><a class=\"ProveItLink\" href=\"../b46659c9b099c841f20817beca7310e1fd2915b40/expr.ipynb\"><img src=\"../b46659c9b099c841f20817beca7310e1fd2915b40/expr.png\" style=\"display:inline;vertical-align:middle;\" /></a></td></tr>\n",
       "<tr><td>5</td><td>Literal</td><td></td><td><a class=\"ProveItLink\" href=\"../../../../conjunction/__pv_it/common/42118ff318bd65d98b1393f64ce7c2269feef76e0/expr.ipynb\"><img src=\"../../../../conjunction/__pv_it/common/42118ff318bd65d98b1393f64ce7c2269feef76e0/expr.png\" style=\"display:inline;vertical-align:middle;\" /></a></td></tr>\n",
       "<tr><td>6</td><td>ExprTuple</td><td>8, 9</td><td><a class=\"ProveItLink\" href=\"../09d9c932f9dd37874a35b55f296bbd5ff857e9540/expr.ipynb\"><img src=\"../09d9c932f9dd37874a35b55f296bbd5ff857e9540/expr.png\" style=\"display:inline;vertical-align:middle;\" /></a></td></tr>\n",
       "<tr><td>7</td><td>Lambda</td><td>parameter:&nbsp;31<br>body:&nbsp;11<br></td><td><a class=\"ProveItLink\" href=\"../ffdba29ca0fe2a1e1516bff3c822a6e0b28bd8a20/expr.ipynb\"><img src=\"../ffdba29ca0fe2a1e1516bff3c822a6e0b28bd8a20/expr.png\" style=\"display:inline;vertical-align:middle;\" /></a></td></tr>\n",
       "<tr><td>8</td><td>Operation</td><td>operator:&nbsp;33<br>operands:&nbsp;12<br></td><td><a class=\"ProveItLink\" href=\"../8c03a8ee27d4d8fa777368c3ee7b307fe25ee5270/expr.ipynb\"><img src=\"../8c03a8ee27d4d8fa777368c3ee7b307fe25ee5270/expr.png\" style=\"display:inline;vertical-align:middle;\" /></a></td></tr>\n",
       "<tr><td>9</td><td>Operation</td><td>operator:&nbsp;33<br>operands:&nbsp;13<br></td><td><a class=\"ProveItLink\" href=\"../3b73368031281d59ff93a70f2b4cba5069515ff80/expr.ipynb\"><img src=\"../3b73368031281d59ff93a70f2b4cba5069515ff80/expr.png\" style=\"display:inline;vertical-align:middle;\" /></a></td></tr>\n",
       "<tr><td>10</td><td>ExprTuple</td><td>31</td><td><a class=\"ProveItLink\" href=\"../56f816491122851137106e952ad7383c0a593aaf0/expr.ipynb\"><img src=\"../56f816491122851137106e952ad7383c0a593aaf0/expr.png\" style=\"display:inline;vertical-align:middle;\" /></a></td></tr>\n",
       "<tr><td>11</td><td>Operation</td><td>operator:&nbsp;14<br>operands:&nbsp;15<br></td><td><a class=\"ProveItLink\" href=\"../b6957fc6c34b2116efee5b7b49c69665dbf5c5f30/expr.ipynb\"><img src=\"../b6957fc6c34b2116efee5b7b49c69665dbf5c5f30/expr.png\" style=\"display:inline;vertical-align:middle;\" /></a></td></tr>\n",
       "<tr><td>12</td><td>ExprTuple</td><td>40, 16</td><td><a class=\"ProveItLink\" href=\"../47ca95fbf770788a7539aec78740699ca1d4e6a90/expr.ipynb\"><img src=\"../47ca95fbf770788a7539aec78740699ca1d4e6a90/expr.png\" style=\"display:inline;vertical-align:middle;\" /></a></td></tr>\n",
       "<tr><td>13</td><td>ExprTuple</td><td>41, 16</td><td><a class=\"ProveItLink\" href=\"../b837e7b5b741e6b3bc2376025255553857d94ca30/expr.ipynb\"><img src=\"../b837e7b5b741e6b3bc2376025255553857d94ca30/expr.png\" style=\"display:inline;vertical-align:middle;\" /></a></td></tr>\n",
       "<tr><td>14</td><td>Literal</td><td></td><td><a class=\"ProveItLink\" href=\"../../../../implication/__pv_it/common/02bdb382575728da8cdbaed545b9096ea7a1bd5b0/expr.ipynb\"><img src=\"../../../../implication/__pv_it/common/02bdb382575728da8cdbaed545b9096ea7a1bd5b0/expr.png\" style=\"display:inline;vertical-align:middle;\" /></a></td></tr>\n",
       "<tr><td>15</td><td>ExprTuple</td><td>17, 18</td><td><a class=\"ProveItLink\" href=\"../1ace8f205b6de59e66a409eb9dc79e53cd9a57700/expr.ipynb\"><img src=\"../1ace8f205b6de59e66a409eb9dc79e53cd9a57700/expr.png\" style=\"display:inline;vertical-align:middle;\" /></a></td></tr>\n",
       "<tr><td>16</td><td>Literal</td><td></td><td><a class=\"ProveItLink\" href=\"../../../../../../numbers/number_sets/integers/__pv_it/common/e6b4e90f9467053e055a4fd2f735c0bb79cb79300/expr.ipynb\"><img src=\"../../../../../../numbers/number_sets/integers/__pv_it/common/e6b4e90f9467053e055a4fd2f735c0bb79cb79300/expr.png\" style=\"display:inline;vertical-align:middle;\" /></a></td></tr>\n",
       "<tr><td>17</td><td>Operation</td><td>operator:&nbsp;19<br>operands:&nbsp;20<br></td><td><a class=\"ProveItLink\" href=\"../f2ac9dc7735ea0cb77e6a8fb3c4ed9b24b21e59c0/expr.ipynb\"><img src=\"../f2ac9dc7735ea0cb77e6a8fb3c4ed9b24b21e59c0/expr.png\" style=\"display:inline;vertical-align:middle;\" /></a></td></tr>\n",
       "<tr><td>18</td><td>Operation</td><td>operator:&nbsp;21<br>operand:&nbsp;24<br></td><td><a class=\"ProveItLink\" href=\"../ce49e9e7677facfbffdfdd58794b0f89fef968300/expr.ipynb\"><img src=\"../ce49e9e7677facfbffdfdd58794b0f89fef968300/expr.png\" style=\"display:inline;vertical-align:middle;\" /></a></td></tr>\n",
       "<tr><td>19</td><td>Literal</td><td></td><td><a class=\"ProveItLink\" href=\"../../common/ef8e59262ff8e0133aa1ca984dd6b3a41bf69d5b0/expr.ipynb\"><img src=\"../../common/ef8e59262ff8e0133aa1ca984dd6b3a41bf69d5b0/expr.png\" style=\"display:inline;vertical-align:middle;\" /></a></td></tr>\n",
       "<tr><td>20</td><td>ExprTuple</td><td>23</td><td><a class=\"ProveItLink\" href=\"../98c28f7f023cebbaaec280f67cd44ebd5caa21a00/expr.ipynb\"><img src=\"../98c28f7f023cebbaaec280f67cd44ebd5caa21a00/expr.png\" style=\"display:inline;vertical-align:middle;\" /></a></td></tr>\n",
       "<tr><td>21</td><td>Literal</td><td></td><td><a class=\"ProveItLink\" href=\"../../../../quantification/existence/__pv_it/common/fedc3809ed9823aab11264c156786a59540352e70/expr.ipynb\"><img src=\"../../../../quantification/existence/__pv_it/common/fedc3809ed9823aab11264c156786a59540352e70/expr.png\" style=\"display:inline;vertical-align:middle;\" /></a></td></tr>\n",
       "<tr><td>22</td><td>ExprTuple</td><td>24</td><td><a class=\"ProveItLink\" href=\"../28254a7cf31cd5caee5ed4e9c8f104dd7fd6b0f10/expr.ipynb\"><img src=\"../28254a7cf31cd5caee5ed4e9c8f104dd7fd6b0f10/expr.png\" style=\"display:inline;vertical-align:middle;\" /></a></td></tr>\n",
       "<tr><td>23</td><td>ExprRange</td><td>lambda_map:&nbsp;25<br>start_index:&nbsp;40<br>end_index:&nbsp;41<br></td><td><a class=\"ProveItLink\" href=\"../aa6e30ac43489373fc35dcac61be17e47078f6820/expr.ipynb\"><img src=\"../aa6e30ac43489373fc35dcac61be17e47078f6820/expr.png\" style=\"display:inline;vertical-align:middle;\" /></a></td></tr>\n",
       "<tr><td>24</td><td>Lambda</td><td>parameter:&nbsp;36<br>body:&nbsp;26<br></td><td><a class=\"ProveItLink\" href=\"../57ed264766fe6bc1fe1445d4e4e615cc320014630/expr.ipynb\"><img src=\"../57ed264766fe6bc1fe1445d4e4e615cc320014630/expr.png\" style=\"display:inline;vertical-align:middle;\" /></a></td></tr>\n",
       "<tr><td>25</td><td>Lambda</td><td>parameter:&nbsp;35<br>body:&nbsp;27<br></td><td><a class=\"ProveItLink\" href=\"../bd5e2d2f54c584fcc77ad74603d87ed900af5e070/expr.ipynb\"><img src=\"../bd5e2d2f54c584fcc77ad74603d87ed900af5e070/expr.png\" style=\"display:inline;vertical-align:middle;\" /></a></td></tr>\n",
       "<tr><td>26</td><td>Conditional</td><td>value:&nbsp;28<br>condition:&nbsp;29<br></td><td><a class=\"ProveItLink\" href=\"../5253d8ea6941badba9ce1aeb8062743a7ba710250/expr.ipynb\"><img src=\"../5253d8ea6941badba9ce1aeb8062743a7ba710250/expr.png\" style=\"display:inline;vertical-align:middle;\" /></a></td></tr>\n",
       "<tr><td>27</td><td>Operation</td><td>operator:&nbsp;31<br>operand:&nbsp;35<br></td><td><a class=\"ProveItLink\" href=\"../f307345efa93fdd6c2df141d735449c4534792f70/expr.ipynb\"><img src=\"../f307345efa93fdd6c2df141d735449c4534792f70/expr.png\" style=\"display:inline;vertical-align:middle;\" /></a></td></tr>\n",
       "<tr><td>28</td><td>Operation</td><td>operator:&nbsp;31<br>operand:&nbsp;36<br></td><td><a class=\"ProveItLink\" href=\"../../../../../../__pv_it/common/10f6db3d92f2a6872bea0c3d23d18e515274bbde0/expr.ipynb\"><img src=\"../../../../../../__pv_it/common/10f6db3d92f2a6872bea0c3d23d18e515274bbde0/expr.png\" style=\"display:inline;vertical-align:middle;\" /></a></td></tr>\n",
       "<tr><td>29</td><td>Operation</td><td>operator:&nbsp;33<br>operands:&nbsp;34<br></td><td><a class=\"ProveItLink\" href=\"../9c8791ff3e93d4a757799c8c048c043f49130a000/expr.ipynb\"><img src=\"../9c8791ff3e93d4a757799c8c048c043f49130a000/expr.png\" style=\"display:inline;vertical-align:middle;\" /></a></td></tr>\n",
       "<tr><td>30</td><td>ExprTuple</td><td>35</td><td><a class=\"ProveItLink\" href=\"../../../../../../core_expr_types/__pv_it/common/4b0dd6be36d76552eda6a95d5b4a27f5a5b62f900/expr.ipynb\"><img src=\"../../../../../../core_expr_types/__pv_it/common/4b0dd6be36d76552eda6a95d5b4a27f5a5b62f900/expr.png\" style=\"display:inline;vertical-align:middle;\" /></a></td></tr>\n",
       "<tr><td>31</td><td>Variable</td><td></td><td><a class=\"ProveItLink\" href=\"../../../../../../__pv_it/common/de55da274ba0f49c86925fbf3828021c04d27faf0/expr.ipynb\"><img src=\"../../../../../../__pv_it/common/de55da274ba0f49c86925fbf3828021c04d27faf0/expr.png\" style=\"display:inline;vertical-align:middle;\" /></a></td></tr>\n",
       "<tr><td>32</td><td>ExprTuple</td><td>36</td><td><a class=\"ProveItLink\" href=\"../../../../../../__pv_it/common/688b115fcd711144fb0bdcf2138b0bd26487dd890/expr.ipynb\"><img src=\"../../../../../../__pv_it/common/688b115fcd711144fb0bdcf2138b0bd26487dd890/expr.png\" style=\"display:inline;vertical-align:middle;\" /></a></td></tr>\n",
       "<tr><td>33</td><td>Literal</td><td></td><td><a class=\"ProveItLink\" href=\"../../../../../sets/membership/__pv_it/common/477487d8796864d23d5810f83761435f25167f690/expr.ipynb\"><img src=\"../../../../../sets/membership/__pv_it/common/477487d8796864d23d5810f83761435f25167f690/expr.png\" style=\"display:inline;vertical-align:middle;\" /></a></td></tr>\n",
       "<tr><td>34</td><td>ExprTuple</td><td>36, 37</td><td><a class=\"ProveItLink\" href=\"../c9a1c766d932a23796e960a9387e31c267455aba0/expr.ipynb\"><img src=\"../c9a1c766d932a23796e960a9387e31c267455aba0/expr.png\" style=\"display:inline;vertical-align:middle;\" /></a></td></tr>\n",
       "<tr><td>35</td><td>Variable</td><td></td><td><a class=\"ProveItLink\" href=\"../../../../../../core_expr_types/__pv_it/common/006c465e50948aa2b52285e2de47974f741255cc0/expr.ipynb\"><img src=\"../../../../../../core_expr_types/__pv_it/common/006c465e50948aa2b52285e2de47974f741255cc0/expr.png\" style=\"display:inline;vertical-align:middle;\" /></a></td></tr>\n",
       "<tr><td>36</td><td>Variable</td><td></td><td><a class=\"ProveItLink\" href=\"../../../../../../__pv_it/common/63b7c64bf9ec7a04ecc396c7a1670f3f12fb59490/expr.ipynb\"><img src=\"../../../../../../__pv_it/common/63b7c64bf9ec7a04ecc396c7a1670f3f12fb59490/expr.png\" style=\"display:inline;vertical-align:middle;\" /></a></td></tr>\n",
       "<tr><td>37</td><td>Operation</td><td>operator:&nbsp;38<br>operands:&nbsp;39<br></td><td><a class=\"ProveItLink\" href=\"../5638dbf376898e408558e7286a905453b5b014a90/expr.ipynb\"><img src=\"../5638dbf376898e408558e7286a905453b5b014a90/expr.png\" style=\"display:inline;vertical-align:middle;\" /></a></td></tr>\n",
       "<tr><td>38</td><td>Literal</td><td></td><td><a class=\"ProveItLink\" href=\"../../../../../../numbers/number_sets/integers/__pv_it/common/92f3a0a77e3c3ea8e4a5c8674edadc54e4f57d550/expr.ipynb\"><img src=\"../../../../../../numbers/number_sets/integers/__pv_it/common/92f3a0a77e3c3ea8e4a5c8674edadc54e4f57d550/expr.png\" style=\"display:inline;vertical-align:middle;\" /></a></td></tr>\n",
       "<tr><td>39</td><td>ExprTuple</td><td>40, 41</td><td><a class=\"ProveItLink\" href=\"../fd5db4d3d282981293a7ef32c5ae50e0675f01460/expr.ipynb\"><img src=\"../fd5db4d3d282981293a7ef32c5ae50e0675f01460/expr.png\" style=\"display:inline;vertical-align:middle;\" /></a></td></tr>\n",
       "<tr><td>40</td><td>Variable</td><td></td><td><a class=\"ProveItLink\" href=\"../../../../../../__pv_it/common/ae955345c83abf786c3aff8681cd5465beae262d0/expr.ipynb\"><img src=\"../../../../../../__pv_it/common/ae955345c83abf786c3aff8681cd5465beae262d0/expr.png\" style=\"display:inline;vertical-align:middle;\" /></a></td></tr>\n",
       "<tr><td>41</td><td>Variable</td><td></td><td><a class=\"ProveItLink\" href=\"../../../../../../__pv_it/common/1ed21df18baca2f42b561a7ffbf30a2743d594650/expr.ipynb\"><img src=\"../../../../../../__pv_it/common/1ed21df18baca2f42b561a7ffbf30a2743d594650/expr.png\" style=\"display:inline;vertical-align:middle;\" /></a></td></tr>\n",
       "</table>\n"
      ],
      "text/plain": [
       "0. {forall_{P} ((P(i) or  P(i + 1) or  ... or  P(j)) => [exists_{k in {i .. j}} P(k)]) if i in Integer ,  j in Integer.\n",
       "   core type: Conditional\n",
       "   value: 1\n",
       "   condition: 2\n",
       "1. forall_{P} ((P(i) or  P(i + 1) or  ... or  P(j)) => [exists_{k in {i .. j}} P(k)])\n",
       "   core type: Operation\n",
       "   operator: 3\n",
       "   operand: 7\n",
       "2. (i in Integer) and (j in Integer)\n",
       "   core type: Operation\n",
       "   operator: 5\n",
       "   operands: 6\n",
       "3. forall\n",
       "   core type: Literal\n",
       "   sub-expressions: \n",
       "4. (P -> ((P(i) or  P(i + 1) or  ... or  P(j)) => [exists_{k in {i .. j}} P(k)]))\n",
       "   core type: ExprTuple\n",
       "   sub-expressions: 7\n",
       "5. and\n",
       "   core type: Literal\n",
       "   sub-expressions: \n",
       "6. (i in Integer, j in Integer)\n",
       "   core type: ExprTuple\n",
       "   sub-expressions: 8, 9\n",
       "7. P -> ((P(i) or  P(i + 1) or  ... or  P(j)) => [exists_{k in {i .. j}} P(k)])\n",
       "   core type: Lambda\n",
       "   parameter: 31\n",
       "   body: 11\n",
       "8. i in Integer\n",
       "   core type: Operation\n",
       "   operator: 33\n",
       "   operands: 12\n",
       "9. j in Integer\n",
       "   core type: Operation\n",
       "   operator: 33\n",
       "   operands: 13\n",
       "10. (P)\n",
       "    core type: ExprTuple\n",
       "    sub-expressions: 31\n",
       "11. (P(i) or  P(i + 1) or  ... or  P(j)) => [exists_{k in {i .. j}} P(k)]\n",
       "    core type: Operation\n",
       "    operator: 14\n",
       "    operands: 15\n",
       "12. (i, Integer)\n",
       "    core type: ExprTuple\n",
       "    sub-expressions: 40, 16\n",
       "13. (j, Integer)\n",
       "    core type: ExprTuple\n",
       "    sub-expressions: 41, 16\n",
       "14. =>\n",
       "    core type: Literal\n",
       "    sub-expressions: \n",
       "15. (P(i) or  P(i + 1) or  ... or  P(j), exists_{k in {i .. j}} P(k))\n",
       "    core type: ExprTuple\n",
       "    sub-expressions: 17, 18\n",
       "16. Integer\n",
       "    core type: Literal\n",
       "    sub-expressions: \n",
       "17. P(i) or  P(i + 1) or  ... or  P(j)\n",
       "    core type: Operation\n",
       "    operator: 19\n",
       "    operands: 20\n",
       "18. exists_{k in {i .. j}} P(k)\n",
       "    core type: Operation\n",
       "    operator: 21\n",
       "    operand: 24\n",
       "19. or\n",
       "    core type: Literal\n",
       "    sub-expressions: \n",
       "20. (P(i), P(i + 1), ..., P(j))\n",
       "    core type: ExprTuple\n",
       "    sub-expressions: 23\n",
       "21. exists\n",
       "    core type: Literal\n",
       "    sub-expressions: \n",
       "22. (k -> {P(k) if k in {i .. j}.)\n",
       "    core type: ExprTuple\n",
       "    sub-expressions: 24\n",
       "23. P(i), P(i + 1), ..., P(j)\n",
       "    core type: ExprRange\n",
       "    lambda_map: 25\n",
       "    start_index: 40\n",
       "    end_index: 41\n",
       "24. k -> {P(k) if k in {i .. j}.\n",
       "    core type: Lambda\n",
       "    parameter: 36\n",
       "    body: 26\n",
       "25. _a -> P(_a)\n",
       "    core type: Lambda\n",
       "    parameter: 35\n",
       "    body: 27\n",
       "26. {P(k) if k in {i .. j}.\n",
       "    core type: Conditional\n",
       "    value: 28\n",
       "    condition: 29\n",
       "27. P(_a)\n",
       "    core type: Operation\n",
       "    operator: 31\n",
       "    operand: 35\n",
       "28. P(k)\n",
       "    core type: Operation\n",
       "    operator: 31\n",
       "    operand: 36\n",
       "29. k in {i .. j}\n",
       "    core type: Operation\n",
       "    operator: 33\n",
       "    operands: 34\n",
       "30. (_a)\n",
       "    core type: ExprTuple\n",
       "    sub-expressions: 35\n",
       "31. P\n",
       "    core type: Variable\n",
       "    sub-expressions: \n",
       "32. (k)\n",
       "    core type: ExprTuple\n",
       "    sub-expressions: 36\n",
       "33. in\n",
       "    core type: Literal\n",
       "    sub-expressions: \n",
       "34. (k, {i .. j})\n",
       "    core type: ExprTuple\n",
       "    sub-expressions: 36, 37\n",
       "35. _a\n",
       "    core type: Variable\n",
       "    sub-expressions: \n",
       "36. k\n",
       "    core type: Variable\n",
       "    sub-expressions: \n",
       "37. {i .. j}\n",
       "    core type: Operation\n",
       "    operator: 38\n",
       "    operands: 39\n",
       "38. Interval\n",
       "    core type: Literal\n",
       "    sub-expressions: \n",
       "39. (i, j)\n",
       "    core type: ExprTuple\n",
       "    sub-expressions: 40, 41\n",
       "40. i\n",
       "    core type: Variable\n",
       "    sub-expressions: \n",
       "41. j\n",
       "    core type: Variable\n",
       "    sub-expressions: "
      ]
     },
     "metadata": {},
     "output_type": "display_data"
    }
   ],
   "source": [
    "# display the expression information\n",
    "stored_expr.expr_info()"
   ]
  },
  {
   "cell_type": "code",
   "execution_count": null,
   "metadata": {},
   "outputs": [],
   "source": []
  }
 ],
 "metadata": {
  "kernelspec": {
   "display_name": "Python 3",
   "language": "python",
   "name": "python3"
  }
 },
 "nbformat": 4,
 "nbformat_minor": 0
}