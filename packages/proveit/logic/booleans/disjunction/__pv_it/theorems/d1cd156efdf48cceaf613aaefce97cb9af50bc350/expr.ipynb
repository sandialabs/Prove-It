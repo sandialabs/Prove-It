{
 "cells": [
  {
   "cell_type": "markdown",
   "metadata": {},
   "source": [
    "Expression of type <a class=\"ProveItLink\" href=\"../../../../../../../../doc/html/api/proveit.Lambda.html\">Lambda</a>\n",
    "=======================\n",
    "# from the theory of <a class=\"ProveItLink\" href=\"../../../_theory_nbs_/theory.ipynb\">proveit.logic.booleans.disjunction</a>"
   ]
  },
  {
   "cell_type": "code",
   "execution_count": 1,
   "metadata": {},
   "outputs": [],
   "source": [
    "import proveit\n",
    "# Automation is not needed when building an expression:\n",
    "proveit.defaults.automation = False # This will speed things up.\n",
    "proveit.defaults.inline_pngs = False # Makes files smaller.\n",
    "%load_expr # Load the stored expression as 'stored_expr'\n",
    "# import Expression classes needed to build the expression\n",
    "from proveit import Conditional, ExprRange, Function, Lambda, P, Pk, Variable, i, j, k\n",
    "from proveit.logic import And, Exists, Forall, Implies, InSet, Or\n",
    "from proveit.numbers import Integer, Interval"
   ]
  },
  {
   "cell_type": "code",
   "execution_count": 2,
   "metadata": {},
   "outputs": [
    {
     "data": {
      "text/html": [
       "<strong id=\"expr\">expr:</strong> <a class=\"ProveItLink\" href=\"expr.ipynb\"><img src=\"expr.png\" style=\"display:inline;vertical-align:middle;\" /></a><br>"
      ],
      "text/plain": [
       "<IPython.core.display.HTML object>"
      ]
     },
     "metadata": {},
     "output_type": "display_data"
    }
   ],
   "source": [
    "# build up the expression from sub-expressions\n",
    "sub_expr1 = Variable(\"_a\", latex_format = r\"{_{-}a}\")\n",
    "expr = Lambda([i, j], Conditional(Forall(instance_param_or_params = [P], instance_expr = Implies(Or(ExprRange(sub_expr1, Function(P, [sub_expr1]), i, j)), Exists(instance_param_or_params = [k], instance_expr = Pk, domain = Interval(i, j)))), And(InSet(i, Integer), InSet(j, Integer))))"
   ]
  },
  {
   "cell_type": "code",
   "execution_count": 3,
   "metadata": {},
   "outputs": [
    {
     "name": "stdout",
     "output_type": "stream",
     "text": [
      "Passed sanity check: expr matches stored_expr\n"
     ]
    }
   ],
   "source": [
    "# check that the built expression is the same as the stored expression\n",
    "assert expr == stored_expr\n",
    "assert expr._style_id == stored_expr._style_id\n",
    "print(\"Passed sanity check: expr matches stored_expr\")"
   ]
  },
  {
   "cell_type": "code",
   "execution_count": 4,
   "metadata": {},
   "outputs": [
    {
     "name": "stdout",
     "output_type": "stream",
     "text": [
      "\\left(i, j\\right) \\mapsto \\left\\{\\forall_{P}~\\left(\\left(P\\left(i\\right) \\lor  P\\left(i + 1\\right) \\lor  \\ldots \\lor  P\\left(j\\right)\\right) \\Rightarrow \\left[\\exists_{k \\in \\{i~\\ldotp \\ldotp~j\\}}~P\\left(k\\right)\\right]\\right) \\textrm{ if } i \\in \\mathbb{Z} ,  j \\in \\mathbb{Z}\\right..\n"
     ]
    }
   ],
   "source": [
    "# Show the LaTeX representation of the expression for convenience if you need it.\n",
    "print(stored_expr.latex())"
   ]
  },
  {
   "cell_type": "code",
   "execution_count": 5,
   "metadata": {},
   "outputs": [
    {
     "data": {
      "text/html": [
       "no style options"
      ],
      "text/plain": [
       "no style options"
      ]
     },
     "metadata": {},
     "output_type": "display_data"
    }
   ],
   "source": [
    "stored_expr.style_options()"
   ]
  },
  {
   "cell_type": "code",
   "execution_count": 6,
   "metadata": {},
   "outputs": [
    {
     "data": {
      "text/html": [
       "<table><tr><th>&nbsp;</th><th>core type</th><th>sub-expressions</th><th>expression</th></tr>\n",
       "<tr><td>0</td><td>Lambda</td><td>parameters:&nbsp;40<br>body:&nbsp;1<br></td><td><a class=\"ProveItLink\" href=\"expr.ipynb\"><img src=\"expr.png\" style=\"display:inline;vertical-align:middle;\" /></a></td></tr>\n",
       "<tr><td>1</td><td>Conditional</td><td>value:&nbsp;2<br>condition:&nbsp;3<br></td><td><a class=\"ProveItLink\" href=\"../b825166101d3cb319ed7adbd30eeaab380f416060/expr.ipynb\"><img src=\"../b825166101d3cb319ed7adbd30eeaab380f416060/expr.png\" style=\"display:inline;vertical-align:middle;\" /></a></td></tr>\n",
       "<tr><td>2</td><td>Operation</td><td>operator:&nbsp;4<br>operand:&nbsp;8<br></td><td><a class=\"ProveItLink\" href=\"../ab13b38bb535cd4d3c10c1c515c74329bab11cb10/expr.ipynb\"><img src=\"../ab13b38bb535cd4d3c10c1c515c74329bab11cb10/expr.png\" style=\"display:inline;vertical-align:middle;\" /></a></td></tr>\n",
       "<tr><td>3</td><td>Operation</td><td>operator:&nbsp;6<br>operands:&nbsp;7<br></td><td><a class=\"ProveItLink\" href=\"../bcd19e26cf58f6a25b016c8d6adf6c06dd510b200/expr.ipynb\"><img src=\"../bcd19e26cf58f6a25b016c8d6adf6c06dd510b200/expr.png\" style=\"display:inline;vertical-align:middle;\" /></a></td></tr>\n",
       "<tr><td>4</td><td>Literal</td><td></td><td><a class=\"ProveItLink\" href=\"../../../../quantification/universality/__pv_it/common/083d2baa0b8ecab1d230f9ec29a15aa1355809fb0/expr.ipynb\"><img src=\"../../../../quantification/universality/__pv_it/common/083d2baa0b8ecab1d230f9ec29a15aa1355809fb0/expr.png\" style=\"display:inline;vertical-align:middle;\" /></a></td></tr>\n",
       "<tr><td>5</td><td>ExprTuple</td><td>8</td><td><a class=\"ProveItLink\" href=\"../b46659c9b099c841f20817beca7310e1fd2915b40/expr.ipynb\"><img src=\"../b46659c9b099c841f20817beca7310e1fd2915b40/expr.png\" style=\"display:inline;vertical-align:middle;\" /></a></td></tr>\n",
       "<tr><td>6</td><td>Literal</td><td></td><td><a class=\"ProveItLink\" href=\"../../../../conjunction/__pv_it/common/42118ff318bd65d98b1393f64ce7c2269feef76e0/expr.ipynb\"><img src=\"../../../../conjunction/__pv_it/common/42118ff318bd65d98b1393f64ce7c2269feef76e0/expr.png\" style=\"display:inline;vertical-align:middle;\" /></a></td></tr>\n",
       "<tr><td>7</td><td>ExprTuple</td><td>9, 10</td><td><a class=\"ProveItLink\" href=\"../09d9c932f9dd37874a35b55f296bbd5ff857e9540/expr.ipynb\"><img src=\"../09d9c932f9dd37874a35b55f296bbd5ff857e9540/expr.png\" style=\"display:inline;vertical-align:middle;\" /></a></td></tr>\n",
       "<tr><td>8</td><td>Lambda</td><td>parameter:&nbsp;32<br>body:&nbsp;12<br></td><td><a class=\"ProveItLink\" href=\"../ffdba29ca0fe2a1e1516bff3c822a6e0b28bd8a20/expr.ipynb\"><img src=\"../ffdba29ca0fe2a1e1516bff3c822a6e0b28bd8a20/expr.png\" style=\"display:inline;vertical-align:middle;\" /></a></td></tr>\n",
       "<tr><td>9</td><td>Operation</td><td>operator:&nbsp;34<br>operands:&nbsp;13<br></td><td><a class=\"ProveItLink\" href=\"../8c03a8ee27d4d8fa777368c3ee7b307fe25ee5270/expr.ipynb\"><img src=\"../8c03a8ee27d4d8fa777368c3ee7b307fe25ee5270/expr.png\" style=\"display:inline;vertical-align:middle;\" /></a></td></tr>\n",
       "<tr><td>10</td><td>Operation</td><td>operator:&nbsp;34<br>operands:&nbsp;14<br></td><td><a class=\"ProveItLink\" href=\"../3b73368031281d59ff93a70f2b4cba5069515ff80/expr.ipynb\"><img src=\"../3b73368031281d59ff93a70f2b4cba5069515ff80/expr.png\" style=\"display:inline;vertical-align:middle;\" /></a></td></tr>\n",
       "<tr><td>11</td><td>ExprTuple</td><td>32</td><td><a class=\"ProveItLink\" href=\"../56f816491122851137106e952ad7383c0a593aaf0/expr.ipynb\"><img src=\"../56f816491122851137106e952ad7383c0a593aaf0/expr.png\" style=\"display:inline;vertical-align:middle;\" /></a></td></tr>\n",
       "<tr><td>12</td><td>Operation</td><td>operator:&nbsp;15<br>operands:&nbsp;16<br></td><td><a class=\"ProveItLink\" href=\"../b6957fc6c34b2116efee5b7b49c69665dbf5c5f30/expr.ipynb\"><img src=\"../b6957fc6c34b2116efee5b7b49c69665dbf5c5f30/expr.png\" style=\"display:inline;vertical-align:middle;\" /></a></td></tr>\n",
       "<tr><td>13</td><td>ExprTuple</td><td>41, 17</td><td><a class=\"ProveItLink\" href=\"../47ca95fbf770788a7539aec78740699ca1d4e6a90/expr.ipynb\"><img src=\"../47ca95fbf770788a7539aec78740699ca1d4e6a90/expr.png\" style=\"display:inline;vertical-align:middle;\" /></a></td></tr>\n",
       "<tr><td>14</td><td>ExprTuple</td><td>42, 17</td><td><a class=\"ProveItLink\" href=\"../b837e7b5b741e6b3bc2376025255553857d94ca30/expr.ipynb\"><img src=\"../b837e7b5b741e6b3bc2376025255553857d94ca30/expr.png\" style=\"display:inline;vertical-align:middle;\" /></a></td></tr>\n",
       "<tr><td>15</td><td>Literal</td><td></td><td><a class=\"ProveItLink\" href=\"../../../../implication/__pv_it/common/02bdb382575728da8cdbaed545b9096ea7a1bd5b0/expr.ipynb\"><img src=\"../../../../implication/__pv_it/common/02bdb382575728da8cdbaed545b9096ea7a1bd5b0/expr.png\" style=\"display:inline;vertical-align:middle;\" /></a></td></tr>\n",
       "<tr><td>16</td><td>ExprTuple</td><td>18, 19</td><td><a class=\"ProveItLink\" href=\"../1ace8f205b6de59e66a409eb9dc79e53cd9a57700/expr.ipynb\"><img src=\"../1ace8f205b6de59e66a409eb9dc79e53cd9a57700/expr.png\" style=\"display:inline;vertical-align:middle;\" /></a></td></tr>\n",
       "<tr><td>17</td><td>Literal</td><td></td><td><a class=\"ProveItLink\" href=\"../../../../../../numbers/number_sets/integers/__pv_it/common/e6b4e90f9467053e055a4fd2f735c0bb79cb79300/expr.ipynb\"><img src=\"../../../../../../numbers/number_sets/integers/__pv_it/common/e6b4e90f9467053e055a4fd2f735c0bb79cb79300/expr.png\" style=\"display:inline;vertical-align:middle;\" /></a></td></tr>\n",
       "<tr><td>18</td><td>Operation</td><td>operator:&nbsp;20<br>operands:&nbsp;21<br></td><td><a class=\"ProveItLink\" href=\"../f2ac9dc7735ea0cb77e6a8fb3c4ed9b24b21e59c0/expr.ipynb\"><img src=\"../f2ac9dc7735ea0cb77e6a8fb3c4ed9b24b21e59c0/expr.png\" style=\"display:inline;vertical-align:middle;\" /></a></td></tr>\n",
       "<tr><td>19</td><td>Operation</td><td>operator:&nbsp;22<br>operand:&nbsp;25<br></td><td><a class=\"ProveItLink\" href=\"../ce49e9e7677facfbffdfdd58794b0f89fef968300/expr.ipynb\"><img src=\"../ce49e9e7677facfbffdfdd58794b0f89fef968300/expr.png\" style=\"display:inline;vertical-align:middle;\" /></a></td></tr>\n",
       "<tr><td>20</td><td>Literal</td><td></td><td><a class=\"ProveItLink\" href=\"../../common/ef8e59262ff8e0133aa1ca984dd6b3a41bf69d5b0/expr.ipynb\"><img src=\"../../common/ef8e59262ff8e0133aa1ca984dd6b3a41bf69d5b0/expr.png\" style=\"display:inline;vertical-align:middle;\" /></a></td></tr>\n",
       "<tr><td>21</td><td>ExprTuple</td><td>24</td><td><a class=\"ProveItLink\" href=\"../98c28f7f023cebbaaec280f67cd44ebd5caa21a00/expr.ipynb\"><img src=\"../98c28f7f023cebbaaec280f67cd44ebd5caa21a00/expr.png\" style=\"display:inline;vertical-align:middle;\" /></a></td></tr>\n",
       "<tr><td>22</td><td>Literal</td><td></td><td><a class=\"ProveItLink\" href=\"../../../../quantification/existence/__pv_it/common/fedc3809ed9823aab11264c156786a59540352e70/expr.ipynb\"><img src=\"../../../../quantification/existence/__pv_it/common/fedc3809ed9823aab11264c156786a59540352e70/expr.png\" style=\"display:inline;vertical-align:middle;\" /></a></td></tr>\n",
       "<tr><td>23</td><td>ExprTuple</td><td>25</td><td><a class=\"ProveItLink\" href=\"../28254a7cf31cd5caee5ed4e9c8f104dd7fd6b0f10/expr.ipynb\"><img src=\"../28254a7cf31cd5caee5ed4e9c8f104dd7fd6b0f10/expr.png\" style=\"display:inline;vertical-align:middle;\" /></a></td></tr>\n",
       "<tr><td>24</td><td>ExprRange</td><td>lambda_map:&nbsp;26<br>start_index:&nbsp;41<br>end_index:&nbsp;42<br></td><td><a class=\"ProveItLink\" href=\"../aa6e30ac43489373fc35dcac61be17e47078f6820/expr.ipynb\"><img src=\"../aa6e30ac43489373fc35dcac61be17e47078f6820/expr.png\" style=\"display:inline;vertical-align:middle;\" /></a></td></tr>\n",
       "<tr><td>25</td><td>Lambda</td><td>parameter:&nbsp;37<br>body:&nbsp;27<br></td><td><a class=\"ProveItLink\" href=\"../57ed264766fe6bc1fe1445d4e4e615cc320014630/expr.ipynb\"><img src=\"../57ed264766fe6bc1fe1445d4e4e615cc320014630/expr.png\" style=\"display:inline;vertical-align:middle;\" /></a></td></tr>\n",
       "<tr><td>26</td><td>Lambda</td><td>parameter:&nbsp;36<br>body:&nbsp;28<br></td><td><a class=\"ProveItLink\" href=\"../bd5e2d2f54c584fcc77ad74603d87ed900af5e070/expr.ipynb\"><img src=\"../bd5e2d2f54c584fcc77ad74603d87ed900af5e070/expr.png\" style=\"display:inline;vertical-align:middle;\" /></a></td></tr>\n",
       "<tr><td>27</td><td>Conditional</td><td>value:&nbsp;29<br>condition:&nbsp;30<br></td><td><a class=\"ProveItLink\" href=\"../5253d8ea6941badba9ce1aeb8062743a7ba710250/expr.ipynb\"><img src=\"../5253d8ea6941badba9ce1aeb8062743a7ba710250/expr.png\" style=\"display:inline;vertical-align:middle;\" /></a></td></tr>\n",
       "<tr><td>28</td><td>Operation</td><td>operator:&nbsp;32<br>operand:&nbsp;36<br></td><td><a class=\"ProveItLink\" href=\"../f307345efa93fdd6c2df141d735449c4534792f70/expr.ipynb\"><img src=\"../f307345efa93fdd6c2df141d735449c4534792f70/expr.png\" style=\"display:inline;vertical-align:middle;\" /></a></td></tr>\n",
       "<tr><td>29</td><td>Operation</td><td>operator:&nbsp;32<br>operand:&nbsp;37<br></td><td><a class=\"ProveItLink\" href=\"../../../../../../__pv_it/common/10f6db3d92f2a6872bea0c3d23d18e515274bbde0/expr.ipynb\"><img src=\"../../../../../../__pv_it/common/10f6db3d92f2a6872bea0c3d23d18e515274bbde0/expr.png\" style=\"display:inline;vertical-align:middle;\" /></a></td></tr>\n",
       "<tr><td>30</td><td>Operation</td><td>operator:&nbsp;34<br>operands:&nbsp;35<br></td><td><a class=\"ProveItLink\" href=\"../9c8791ff3e93d4a757799c8c048c043f49130a000/expr.ipynb\"><img src=\"../9c8791ff3e93d4a757799c8c048c043f49130a000/expr.png\" style=\"display:inline;vertical-align:middle;\" /></a></td></tr>\n",
       "<tr><td>31</td><td>ExprTuple</td><td>36</td><td><a class=\"ProveItLink\" href=\"../../../../../../core_expr_types/__pv_it/common/4b0dd6be36d76552eda6a95d5b4a27f5a5b62f900/expr.ipynb\"><img src=\"../../../../../../core_expr_types/__pv_it/common/4b0dd6be36d76552eda6a95d5b4a27f5a5b62f900/expr.png\" style=\"display:inline;vertical-align:middle;\" /></a></td></tr>\n",
       "<tr><td>32</td><td>Variable</td><td></td><td><a class=\"ProveItLink\" href=\"../../../../../../__pv_it/common/de55da274ba0f49c86925fbf3828021c04d27faf0/expr.ipynb\"><img src=\"../../../../../../__pv_it/common/de55da274ba0f49c86925fbf3828021c04d27faf0/expr.png\" style=\"display:inline;vertical-align:middle;\" /></a></td></tr>\n",
       "<tr><td>33</td><td>ExprTuple</td><td>37</td><td><a class=\"ProveItLink\" href=\"../../../../../../__pv_it/common/688b115fcd711144fb0bdcf2138b0bd26487dd890/expr.ipynb\"><img src=\"../../../../../../__pv_it/common/688b115fcd711144fb0bdcf2138b0bd26487dd890/expr.png\" style=\"display:inline;vertical-align:middle;\" /></a></td></tr>\n",
       "<tr><td>34</td><td>Literal</td><td></td><td><a class=\"ProveItLink\" href=\"../../../../../sets/membership/__pv_it/common/477487d8796864d23d5810f83761435f25167f690/expr.ipynb\"><img src=\"../../../../../sets/membership/__pv_it/common/477487d8796864d23d5810f83761435f25167f690/expr.png\" style=\"display:inline;vertical-align:middle;\" /></a></td></tr>\n",
       "<tr><td>35</td><td>ExprTuple</td><td>37, 38</td><td><a class=\"ProveItLink\" href=\"../c9a1c766d932a23796e960a9387e31c267455aba0/expr.ipynb\"><img src=\"../c9a1c766d932a23796e960a9387e31c267455aba0/expr.png\" style=\"display:inline;vertical-align:middle;\" /></a></td></tr>\n",
       "<tr><td>36</td><td>Variable</td><td></td><td><a class=\"ProveItLink\" href=\"../../../../../../core_expr_types/__pv_it/common/006c465e50948aa2b52285e2de47974f741255cc0/expr.ipynb\"><img src=\"../../../../../../core_expr_types/__pv_it/common/006c465e50948aa2b52285e2de47974f741255cc0/expr.png\" style=\"display:inline;vertical-align:middle;\" /></a></td></tr>\n",
       "<tr><td>37</td><td>Variable</td><td></td><td><a class=\"ProveItLink\" href=\"../../../../../../__pv_it/common/63b7c64bf9ec7a04ecc396c7a1670f3f12fb59490/expr.ipynb\"><img src=\"../../../../../../__pv_it/common/63b7c64bf9ec7a04ecc396c7a1670f3f12fb59490/expr.png\" style=\"display:inline;vertical-align:middle;\" /></a></td></tr>\n",
       "<tr><td>38</td><td>Operation</td><td>operator:&nbsp;39<br>operands:&nbsp;40<br></td><td><a class=\"ProveItLink\" href=\"../5638dbf376898e408558e7286a905453b5b014a90/expr.ipynb\"><img src=\"../5638dbf376898e408558e7286a905453b5b014a90/expr.png\" style=\"display:inline;vertical-align:middle;\" /></a></td></tr>\n",
       "<tr><td>39</td><td>Literal</td><td></td><td><a class=\"ProveItLink\" href=\"../../../../../../numbers/number_sets/integers/__pv_it/common/92f3a0a77e3c3ea8e4a5c8674edadc54e4f57d550/expr.ipynb\"><img src=\"../../../../../../numbers/number_sets/integers/__pv_it/common/92f3a0a77e3c3ea8e4a5c8674edadc54e4f57d550/expr.png\" style=\"display:inline;vertical-align:middle;\" /></a></td></tr>\n",
       "<tr><td>40</td><td>ExprTuple</td><td>41, 42</td><td><a class=\"ProveItLink\" href=\"../fd5db4d3d282981293a7ef32c5ae50e0675f01460/expr.ipynb\"><img src=\"../fd5db4d3d282981293a7ef32c5ae50e0675f01460/expr.png\" style=\"display:inline;vertical-align:middle;\" /></a></td></tr>\n",
       "<tr><td>41</td><td>Variable</td><td></td><td><a class=\"ProveItLink\" href=\"../../../../../../__pv_it/common/ae955345c83abf786c3aff8681cd5465beae262d0/expr.ipynb\"><img src=\"../../../../../../__pv_it/common/ae955345c83abf786c3aff8681cd5465beae262d0/expr.png\" style=\"display:inline;vertical-align:middle;\" /></a></td></tr>\n",
       "<tr><td>42</td><td>Variable</td><td></td><td><a class=\"ProveItLink\" href=\"../../../../../../__pv_it/common/1ed21df18baca2f42b561a7ffbf30a2743d594650/expr.ipynb\"><img src=\"../../../../../../__pv_it/common/1ed21df18baca2f42b561a7ffbf30a2743d594650/expr.png\" style=\"display:inline;vertical-align:middle;\" /></a></td></tr>\n",
       "</table>\n"
      ],
      "text/plain": [
       "0. (i, j) -> {forall_{P} ((P(i) or  P(i + 1) or  ... or  P(j)) => [exists_{k in {i .. j}} P(k)]) if i in Integer ,  j in Integer.\n",
       "   core type: Lambda\n",
       "   parameters: 40\\n   body: 1\n",
       "1. {forall_{P} ((P(i) or  P(i + 1) or  ... or  P(j)) => [exists_{k in {i .. j}} P(k)]) if i in Integer ,  j in Integer.\n",
       "   core type: Conditional\n",
       "   value: 2\n",
       "   condition: 3\n",
       "2. forall_{P} ((P(i) or  P(i + 1) or  ... or  P(j)) => [exists_{k in {i .. j}} P(k)])\n",
       "   core type: Operation\n",
       "   operator: 4\n",
       "   operand: 8\n",
       "3. (i in Integer) and (j in Integer)\n",
       "   core type: Operation\n",
       "   operator: 6\n",
       "   operands: 7\n",
       "4. forall\n",
       "   core type: Literal\n",
       "   sub-expressions: \n",
       "5. (P -> ((P(i) or  P(i + 1) or  ... or  P(j)) => [exists_{k in {i .. j}} P(k)]))\n",
       "   core type: ExprTuple\n",
       "   sub-expressions: 8\n",
       "6. and\n",
       "   core type: Literal\n",
       "   sub-expressions: \n",
       "7. (i in Integer, j in Integer)\n",
       "   core type: ExprTuple\n",
       "   sub-expressions: 9, 10\n",
       "8. P -> ((P(i) or  P(i + 1) or  ... or  P(j)) => [exists_{k in {i .. j}} P(k)])\n",
       "   core type: Lambda\n",
       "   parameter: 32\n",
       "   body: 12\n",
       "9. i in Integer\n",
       "   core type: Operation\n",
       "   operator: 34\n",
       "   operands: 13\n",
       "10. j in Integer\n",
       "    core type: Operation\n",
       "    operator: 34\n",
       "    operands: 14\n",
       "11. (P)\n",
       "    core type: ExprTuple\n",
       "    sub-expressions: 32\n",
       "12. (P(i) or  P(i + 1) or  ... or  P(j)) => [exists_{k in {i .. j}} P(k)]\n",
       "    core type: Operation\n",
       "    operator: 15\n",
       "    operands: 16\n",
       "13. (i, Integer)\n",
       "    core type: ExprTuple\n",
       "    sub-expressions: 41, 17\n",
       "14. (j, Integer)\n",
       "    core type: ExprTuple\n",
       "    sub-expressions: 42, 17\n",
       "15. =>\n",
       "    core type: Literal\n",
       "    sub-expressions: \n",
       "16. (P(i) or  P(i + 1) or  ... or  P(j), exists_{k in {i .. j}} P(k))\n",
       "    core type: ExprTuple\n",
       "    sub-expressions: 18, 19\n",
       "17. Integer\n",
       "    core type: Literal\n",
       "    sub-expressions: \n",
       "18. P(i) or  P(i + 1) or  ... or  P(j)\n",
       "    core type: Operation\n",
       "    operator: 20\n",
       "    operands: 21\n",
       "19. exists_{k in {i .. j}} P(k)\n",
       "    core type: Operation\n",
       "    operator: 22\n",
       "    operand: 25\n",
       "20. or\n",
       "    core type: Literal\n",
       "    sub-expressions: \n",
       "21. (P(i), P(i + 1), ..., P(j))\n",
       "    core type: ExprTuple\n",
       "    sub-expressions: 24\n",
       "22. exists\n",
       "    core type: Literal\n",
       "    sub-expressions: \n",
       "23. (k -> {P(k) if k in {i .. j}.)\n",
       "    core type: ExprTuple\n",
       "    sub-expressions: 25\n",
       "24. P(i), P(i + 1), ..., P(j)\n",
       "    core type: ExprRange\n",
       "    lambda_map: 26\n",
       "    start_index: 41\n",
       "    end_index: 42\n",
       "25. k -> {P(k) if k in {i .. j}.\n",
       "    core type: Lambda\n",
       "    parameter: 37\n",
       "    body: 27\n",
       "26. _a -> P(_a)\n",
       "    core type: Lambda\n",
       "    parameter: 36\n",
       "    body: 28\n",
       "27. {P(k) if k in {i .. j}.\n",
       "    core type: Conditional\n",
       "    value: 29\n",
       "    condition: 30\n",
       "28. P(_a)\n",
       "    core type: Operation\n",
       "    operator: 32\n",
       "    operand: 36\n",
       "29. P(k)\n",
       "    core type: Operation\n",
       "    operator: 32\n",
       "    operand: 37\n",
       "30. k in {i .. j}\n",
       "    core type: Operation\n",
       "    operator: 34\n",
       "    operands: 35\n",
       "31. (_a)\n",
       "    core type: ExprTuple\n",
       "    sub-expressions: 36\n",
       "32. P\n",
       "    core type: Variable\n",
       "    sub-expressions: \n",
       "33. (k)\n",
       "    core type: ExprTuple\n",
       "    sub-expressions: 37\n",
       "34. in\n",
       "    core type: Literal\n",
       "    sub-expressions: \n",
       "35. (k, {i .. j})\n",
       "    core type: ExprTuple\n",
       "    sub-expressions: 37, 38\n",
       "36. _a\n",
       "    core type: Variable\n",
       "    sub-expressions: \n",
       "37. k\n",
       "    core type: Variable\n",
       "    sub-expressions: \n",
       "38. {i .. j}\n",
       "    core type: Operation\n",
       "    operator: 39\n",
       "    operands: 40\n",
       "39. Interval\n",
       "    core type: Literal\n",
       "    sub-expressions: \n",
       "40. (i, j)\n",
       "    core type: ExprTuple\n",
       "    sub-expressions: 41, 42\n",
       "41. i\n",
       "    core type: Variable\n",
       "    sub-expressions: \n",
       "42. j\n",
       "    core type: Variable\n",
       "    sub-expressions: "
      ]
     },
     "metadata": {},
     "output_type": "display_data"
    }
   ],
   "source": [
    "# display the expression information\n",
    "stored_expr.expr_info()"
   ]
  },
  {
   "cell_type": "code",
   "execution_count": null,
   "metadata": {},
   "outputs": [],
   "source": []
  }
 ],
 "metadata": {
  "kernelspec": {
   "display_name": "Python 3",
   "language": "python",
   "name": "python3"
  }
 },
 "nbformat": 4,
 "nbformat_minor": 0
}