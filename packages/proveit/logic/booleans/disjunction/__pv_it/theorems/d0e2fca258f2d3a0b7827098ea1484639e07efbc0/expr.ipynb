{
 "cells": [
  {
   "cell_type": "markdown",
   "metadata": {},
   "source": [
    "Expression of type <a class=\"ProveItLink\" href=\"../../../../../../../../doc/html/api/proveit.Lambda.html\">Lambda</a>\n",
    "=======================\n",
    "# from the theory of <a class=\"ProveItLink\" href=\"../../../_theory_nbs_/theory.ipynb\">proveit.logic.booleans.disjunction</a>"
   ]
  },
  {
   "cell_type": "code",
   "execution_count": 1,
   "metadata": {},
   "outputs": [],
   "source": [
    "import proveit\n",
    "# Automation is not needed when building an expression:\n",
    "proveit.defaults.automation = False # This will speed things up.\n",
    "proveit.defaults.inline_pngs = False # Makes files smaller.\n",
    "%load_expr # Load the stored expression as 'stored_expr'\n",
    "# import Expression classes needed to build the expression\n",
    "from proveit import A, B, Conditional, ExprRange, IndexedVar, Lambda, Variable, m\n",
    "from proveit.core_expr_types import A_1_to_m, B_1_to_m\n",
    "from proveit.logic import And, Boolean, Implies, InSet, Or\n",
    "from proveit.numbers import one"
   ]
  },
  {
   "cell_type": "code",
   "execution_count": 2,
   "metadata": {},
   "outputs": [
    {
     "data": {
      "text/html": [
       "<strong id=\"expr\">expr:</strong> <a class=\"ProveItLink\" href=\"expr.ipynb\"><img src=\"expr.png\" style=\"display:inline;vertical-align:middle;\" /></a><br>"
      ],
      "text/plain": [
       "<IPython.core.display.HTML object>"
      ]
     },
     "metadata": {},
     "output_type": "display_data"
    }
   ],
   "source": [
    "# build up the expression from sub-expressions\n",
    "sub_expr1 = Variable(\"_a\", latex_format = r\"{_{-}a}\")\n",
    "sub_expr2 = IndexedVar(A, sub_expr1)\n",
    "sub_expr3 = IndexedVar(B, sub_expr1)\n",
    "expr = Lambda([A_1_to_m, B_1_to_m], Conditional(Or(B_1_to_m), And(ExprRange(sub_expr1, InSet(sub_expr2, Boolean), one, m), ExprRange(sub_expr1, InSet(sub_expr3, Boolean), one, m), Or(A_1_to_m), ExprRange(sub_expr1, Implies(sub_expr2, sub_expr3), one, m))))"
   ]
  },
  {
   "cell_type": "code",
   "execution_count": 3,
   "metadata": {},
   "outputs": [
    {
     "name": "stdout",
     "output_type": "stream",
     "text": [
      "Passed sanity check: expr matches stored_expr\n"
     ]
    }
   ],
   "source": [
    "# check that the built expression is the same as the stored expression\n",
    "assert expr == stored_expr\n",
    "assert expr._style_id == stored_expr._style_id\n",
    "print(\"Passed sanity check: expr matches stored_expr\")"
   ]
  },
  {
   "cell_type": "code",
   "execution_count": 4,
   "metadata": {},
   "outputs": [
    {
     "name": "stdout",
     "output_type": "stream",
     "text": [
      "\\left(A_{1}, A_{2}, \\ldots, A_{m}, B_{1}, B_{2}, \\ldots, B_{m}\\right) \\mapsto \\left\\{B_{1} \\lor  B_{2} \\lor  \\ldots \\lor  B_{m} \\textrm{ if } \\left(A_{1} \\in \\mathbb{B}\\right) ,  \\left(A_{2} \\in \\mathbb{B}\\right) ,  \\ldots ,  \\left(A_{m} \\in \\mathbb{B}\\right), \\left(B_{1} \\in \\mathbb{B}\\right) ,  \\left(B_{2} \\in \\mathbb{B}\\right) ,  \\ldots ,  \\left(B_{m} \\in \\mathbb{B}\\right) ,  A_{1} \\lor  A_{2} \\lor  \\ldots \\lor  A_{m}, \\left(A_{1} \\Rightarrow B_{1}\\right) ,  \\left(A_{2} \\Rightarrow B_{2}\\right) ,  \\ldots ,  \\left(A_{m} \\Rightarrow B_{m}\\right)\\right..\n"
     ]
    }
   ],
   "source": [
    "# Show the LaTeX representation of the expression for convenience if you need it.\n",
    "print(stored_expr.latex())"
   ]
  },
  {
   "cell_type": "code",
   "execution_count": 5,
   "metadata": {},
   "outputs": [
    {
     "data": {
      "text/html": [
       "no style options"
      ],
      "text/plain": [
       "no style options"
      ]
     },
     "metadata": {},
     "output_type": "display_data"
    }
   ],
   "source": [
    "stored_expr.style_options()"
   ]
  },
  {
   "cell_type": "code",
   "execution_count": 6,
   "metadata": {},
   "outputs": [
    {
     "data": {
      "text/html": [
       "<table><tr><th>&nbsp;</th><th>core type</th><th>sub-expressions</th><th>expression</th></tr>\n",
       "<tr><td>0</td><td>Lambda</td><td>parameters:&nbsp;1<br>body:&nbsp;2<br></td><td><a class=\"ProveItLink\" href=\"expr.ipynb\"><img src=\"expr.png\" style=\"display:inline;vertical-align:middle;\" /></a></td></tr>\n",
       "<tr><td>1</td><td>ExprTuple</td><td>21, 8</td><td><a class=\"ProveItLink\" href=\"../e6fd12b7b186d3eb387b92631706461b9c23c2e50/expr.ipynb\"><img src=\"../e6fd12b7b186d3eb387b92631706461b9c23c2e50/expr.png\" style=\"display:inline;vertical-align:middle;\" /></a></td></tr>\n",
       "<tr><td>2</td><td>Conditional</td><td>value:&nbsp;3<br>condition:&nbsp;4<br></td><td><a class=\"ProveItLink\" href=\"../5a1ab3a77c0bf17d68bd484a16c9a8144aa440cb0/expr.ipynb\"><img src=\"../5a1ab3a77c0bf17d68bd484a16c9a8144aa440cb0/expr.png\" style=\"display:inline;vertical-align:middle;\" /></a></td></tr>\n",
       "<tr><td>3</td><td>Operation</td><td>operator:&nbsp;16<br>operands:&nbsp;5<br></td><td><a class=\"ProveItLink\" href=\"../9e9436cd3b6652163110461423c794e02fa452640/expr.ipynb\"><img src=\"../9e9436cd3b6652163110461423c794e02fa452640/expr.png\" style=\"display:inline;vertical-align:middle;\" /></a></td></tr>\n",
       "<tr><td>4</td><td>Operation</td><td>operator:&nbsp;6<br>operands:&nbsp;7<br></td><td><a class=\"ProveItLink\" href=\"../1be8a9581b8104dc0c1c9f09f07ab44ac2cd4c510/expr.ipynb\"><img src=\"../1be8a9581b8104dc0c1c9f09f07ab44ac2cd4c510/expr.png\" style=\"display:inline;vertical-align:middle;\" /></a></td></tr>\n",
       "<tr><td>5</td><td>ExprTuple</td><td>8</td><td><a class=\"ProveItLink\" href=\"../d64e0d0133a6bbc8cf8dc807566d19b58dc7ca1a0/expr.ipynb\"><img src=\"../d64e0d0133a6bbc8cf8dc807566d19b58dc7ca1a0/expr.png\" style=\"display:inline;vertical-align:middle;\" /></a></td></tr>\n",
       "<tr><td>6</td><td>Literal</td><td></td><td><a class=\"ProveItLink\" href=\"../../../../conjunction/__pv_it/common/42118ff318bd65d98b1393f64ce7c2269feef76e0/expr.ipynb\"><img src=\"../../../../conjunction/__pv_it/common/42118ff318bd65d98b1393f64ce7c2269feef76e0/expr.png\" style=\"display:inline;vertical-align:middle;\" /></a></td></tr>\n",
       "<tr><td>7</td><td>ExprTuple</td><td>9, 10, 11, 12</td><td><a class=\"ProveItLink\" href=\"../75bb74873486b8944126afd786358b08873dc7820/expr.ipynb\"><img src=\"../75bb74873486b8944126afd786358b08873dc7820/expr.png\" style=\"display:inline;vertical-align:middle;\" /></a></td></tr>\n",
       "<tr><td>8</td><td>ExprRange</td><td>lambda_map:&nbsp;13<br>start_index:&nbsp;27<br>end_index:&nbsp;28<br></td><td><a class=\"ProveItLink\" href=\"../../../../../../core_expr_types/__pv_it/common/fee611567f2a92d4a4191651639f02d5571d04e40/expr.ipynb\"><img src=\"../../../../../../core_expr_types/__pv_it/common/fee611567f2a92d4a4191651639f02d5571d04e40/expr.png\" style=\"display:inline;vertical-align:middle;\" /></a></td></tr>\n",
       "<tr><td>9</td><td>ExprRange</td><td>lambda_map:&nbsp;14<br>start_index:&nbsp;27<br>end_index:&nbsp;28<br></td><td><a class=\"ProveItLink\" href=\"../1fb27215f9874f666c9ff5c489de9562a10203f10/expr.ipynb\"><img src=\"../1fb27215f9874f666c9ff5c489de9562a10203f10/expr.png\" style=\"display:inline;vertical-align:middle;\" /></a></td></tr>\n",
       "<tr><td>10</td><td>ExprRange</td><td>lambda_map:&nbsp;15<br>start_index:&nbsp;27<br>end_index:&nbsp;28<br></td><td><a class=\"ProveItLink\" href=\"../4d4aee17e36e02aefeb696567ce7f3dcd89975fd0/expr.ipynb\"><img src=\"../4d4aee17e36e02aefeb696567ce7f3dcd89975fd0/expr.png\" style=\"display:inline;vertical-align:middle;\" /></a></td></tr>\n",
       "<tr><td>11</td><td>Operation</td><td>operator:&nbsp;16<br>operands:&nbsp;17<br></td><td><a class=\"ProveItLink\" href=\"../672690be5e71a07bccfb167f7fa9c72f661921fe0/expr.ipynb\"><img src=\"../672690be5e71a07bccfb167f7fa9c72f661921fe0/expr.png\" style=\"display:inline;vertical-align:middle;\" /></a></td></tr>\n",
       "<tr><td>12</td><td>ExprRange</td><td>lambda_map:&nbsp;18<br>start_index:&nbsp;27<br>end_index:&nbsp;28<br></td><td><a class=\"ProveItLink\" href=\"../3bde0f7d2ece0c9ac162801dc28a5d366905a2360/expr.ipynb\"><img src=\"../3bde0f7d2ece0c9ac162801dc28a5d366905a2360/expr.png\" style=\"display:inline;vertical-align:middle;\" /></a></td></tr>\n",
       "<tr><td>13</td><td>Lambda</td><td>parameter:&nbsp;37<br>body:&nbsp;33<br></td><td><a class=\"ProveItLink\" href=\"../../../../../../core_expr_types/__pv_it/common/d51b6313a4eb9f8dc367ca4753f290af006fadbb0/expr.ipynb\"><img src=\"../../../../../../core_expr_types/__pv_it/common/d51b6313a4eb9f8dc367ca4753f290af006fadbb0/expr.png\" style=\"display:inline;vertical-align:middle;\" /></a></td></tr>\n",
       "<tr><td>14</td><td>Lambda</td><td>parameter:&nbsp;37<br>body:&nbsp;19<br></td><td><a class=\"ProveItLink\" href=\"../24bc2dc2924744cfd65436fd9d2c6ad0cc6f28660/expr.ipynb\"><img src=\"../24bc2dc2924744cfd65436fd9d2c6ad0cc6f28660/expr.png\" style=\"display:inline;vertical-align:middle;\" /></a></td></tr>\n",
       "<tr><td>15</td><td>Lambda</td><td>parameter:&nbsp;37<br>body:&nbsp;20<br></td><td><a class=\"ProveItLink\" href=\"../172e35772a4ef7324ed97e7de0a6cced34ac89c90/expr.ipynb\"><img src=\"../172e35772a4ef7324ed97e7de0a6cced34ac89c90/expr.png\" style=\"display:inline;vertical-align:middle;\" /></a></td></tr>\n",
       "<tr><td>16</td><td>Literal</td><td></td><td><a class=\"ProveItLink\" href=\"../../common/ef8e59262ff8e0133aa1ca984dd6b3a41bf69d5b0/expr.ipynb\"><img src=\"../../common/ef8e59262ff8e0133aa1ca984dd6b3a41bf69d5b0/expr.png\" style=\"display:inline;vertical-align:middle;\" /></a></td></tr>\n",
       "<tr><td>17</td><td>ExprTuple</td><td>21</td><td><a class=\"ProveItLink\" href=\"../218b49ecc2fcb674f5eb724d523a787df9bde9a00/expr.ipynb\"><img src=\"../218b49ecc2fcb674f5eb724d523a787df9bde9a00/expr.png\" style=\"display:inline;vertical-align:middle;\" /></a></td></tr>\n",
       "<tr><td>18</td><td>Lambda</td><td>parameter:&nbsp;37<br>body:&nbsp;22<br></td><td><a class=\"ProveItLink\" href=\"../70eec89c6a2e79f1f3ce92ed3761ce0dfa08f8fd0/expr.ipynb\"><img src=\"../70eec89c6a2e79f1f3ce92ed3761ce0dfa08f8fd0/expr.png\" style=\"display:inline;vertical-align:middle;\" /></a></td></tr>\n",
       "<tr><td>19</td><td>Operation</td><td>operator:&nbsp;24<br>operands:&nbsp;23<br></td><td><a class=\"ProveItLink\" href=\"../4e5a3811f8fae2836722462066e6579a37dfad210/expr.ipynb\"><img src=\"../4e5a3811f8fae2836722462066e6579a37dfad210/expr.png\" style=\"display:inline;vertical-align:middle;\" /></a></td></tr>\n",
       "<tr><td>20</td><td>Operation</td><td>operator:&nbsp;24<br>operands:&nbsp;25<br></td><td><a class=\"ProveItLink\" href=\"../4e8ac1c474a0f2e16238fae69f6b8b983f2f7c8e0/expr.ipynb\"><img src=\"../4e8ac1c474a0f2e16238fae69f6b8b983f2f7c8e0/expr.png\" style=\"display:inline;vertical-align:middle;\" /></a></td></tr>\n",
       "<tr><td>21</td><td>ExprRange</td><td>lambda_map:&nbsp;26<br>start_index:&nbsp;27<br>end_index:&nbsp;28<br></td><td><a class=\"ProveItLink\" href=\"../../../../../../core_expr_types/__pv_it/common/eaccd55f312202b1e754429bdfeaf22333037c330/expr.ipynb\"><img src=\"../../../../../../core_expr_types/__pv_it/common/eaccd55f312202b1e754429bdfeaf22333037c330/expr.png\" style=\"display:inline;vertical-align:middle;\" /></a></td></tr>\n",
       "<tr><td>22</td><td>Operation</td><td>operator:&nbsp;29<br>operands:&nbsp;30<br></td><td><a class=\"ProveItLink\" href=\"../ace9e3403f1f3b206cfc7eb930fb31d91fa7cace0/expr.ipynb\"><img src=\"../ace9e3403f1f3b206cfc7eb930fb31d91fa7cace0/expr.png\" style=\"display:inline;vertical-align:middle;\" /></a></td></tr>\n",
       "<tr><td>23</td><td>ExprTuple</td><td>32, 31</td><td><a class=\"ProveItLink\" href=\"../3b63dd2d70dc3db7b3daaeea0ebe335178ad58940/expr.ipynb\"><img src=\"../3b63dd2d70dc3db7b3daaeea0ebe335178ad58940/expr.png\" style=\"display:inline;vertical-align:middle;\" /></a></td></tr>\n",
       "<tr><td>24</td><td>Literal</td><td></td><td><a class=\"ProveItLink\" href=\"../../../../../sets/membership/__pv_it/common/477487d8796864d23d5810f83761435f25167f690/expr.ipynb\"><img src=\"../../../../../sets/membership/__pv_it/common/477487d8796864d23d5810f83761435f25167f690/expr.png\" style=\"display:inline;vertical-align:middle;\" /></a></td></tr>\n",
       "<tr><td>25</td><td>ExprTuple</td><td>33, 31</td><td><a class=\"ProveItLink\" href=\"../89609b2cb6260f3e6c3a0773bcc33eb8a11042ae0/expr.ipynb\"><img src=\"../89609b2cb6260f3e6c3a0773bcc33eb8a11042ae0/expr.png\" style=\"display:inline;vertical-align:middle;\" /></a></td></tr>\n",
       "<tr><td>26</td><td>Lambda</td><td>parameter:&nbsp;37<br>body:&nbsp;32<br></td><td><a class=\"ProveItLink\" href=\"../../../../../../core_expr_types/__pv_it/common/9332289e845003c758afc3bcee43498ae784f2d90/expr.ipynb\"><img src=\"../../../../../../core_expr_types/__pv_it/common/9332289e845003c758afc3bcee43498ae784f2d90/expr.png\" style=\"display:inline;vertical-align:middle;\" /></a></td></tr>\n",
       "<tr><td>27</td><td>Literal</td><td></td><td><a class=\"ProveItLink\" href=\"../../../../../../numbers/numerals/__pv_it/common/682157d4892d216d9e5626ed533aff9b56b9506e0/expr.ipynb\"><img src=\"../../../../../../numbers/numerals/__pv_it/common/682157d4892d216d9e5626ed533aff9b56b9506e0/expr.png\" style=\"display:inline;vertical-align:middle;\" /></a></td></tr>\n",
       "<tr><td>28</td><td>Variable</td><td></td><td><a class=\"ProveItLink\" href=\"../../../../../../__pv_it/common/674a03b9c3ca221b3aabd5636837b31528ff33830/expr.ipynb\"><img src=\"../../../../../../__pv_it/common/674a03b9c3ca221b3aabd5636837b31528ff33830/expr.png\" style=\"display:inline;vertical-align:middle;\" /></a></td></tr>\n",
       "<tr><td>29</td><td>Literal</td><td></td><td><a class=\"ProveItLink\" href=\"../../../../implication/__pv_it/common/02bdb382575728da8cdbaed545b9096ea7a1bd5b0/expr.ipynb\"><img src=\"../../../../implication/__pv_it/common/02bdb382575728da8cdbaed545b9096ea7a1bd5b0/expr.png\" style=\"display:inline;vertical-align:middle;\" /></a></td></tr>\n",
       "<tr><td>30</td><td>ExprTuple</td><td>32, 33</td><td><a class=\"ProveItLink\" href=\"../155cee90a916402ead1c434c25ec506dcfd525920/expr.ipynb\"><img src=\"../155cee90a916402ead1c434c25ec506dcfd525920/expr.png\" style=\"display:inline;vertical-align:middle;\" /></a></td></tr>\n",
       "<tr><td>31</td><td>Literal</td><td></td><td><a class=\"ProveItLink\" href=\"../../../../__pv_it/common/97424376de9815ad99f7180e3191b1cf4ab2a5710/expr.ipynb\"><img src=\"../../../../__pv_it/common/97424376de9815ad99f7180e3191b1cf4ab2a5710/expr.png\" style=\"display:inline;vertical-align:middle;\" /></a></td></tr>\n",
       "<tr><td>32</td><td>IndexedVar</td><td>variable:&nbsp;34<br>index:&nbsp;37<br></td><td><a class=\"ProveItLink\" href=\"../../../../../../core_expr_types/__pv_it/common/9fdaaadf1b3d81a308244818dc08833e7f5035730/expr.ipynb\"><img src=\"../../../../../../core_expr_types/__pv_it/common/9fdaaadf1b3d81a308244818dc08833e7f5035730/expr.png\" style=\"display:inline;vertical-align:middle;\" /></a></td></tr>\n",
       "<tr><td>33</td><td>IndexedVar</td><td>variable:&nbsp;35<br>index:&nbsp;37<br></td><td><a class=\"ProveItLink\" href=\"../../../../../../core_expr_types/__pv_it/common/d1b4c772326349c6e4ef6ad6defb9c61a45fc9d80/expr.ipynb\"><img src=\"../../../../../../core_expr_types/__pv_it/common/d1b4c772326349c6e4ef6ad6defb9c61a45fc9d80/expr.png\" style=\"display:inline;vertical-align:middle;\" /></a></td></tr>\n",
       "<tr><td>34</td><td>Variable</td><td></td><td><a class=\"ProveItLink\" href=\"../../../../../../__pv_it/common/09585084922504426caf1db2ff588a23a0932a960/expr.ipynb\"><img src=\"../../../../../../__pv_it/common/09585084922504426caf1db2ff588a23a0932a960/expr.png\" style=\"display:inline;vertical-align:middle;\" /></a></td></tr>\n",
       "<tr><td>35</td><td>Variable</td><td></td><td><a class=\"ProveItLink\" href=\"../../../../../../__pv_it/common/a9162d1c3cc0470c02e5daf414500903a7a419230/expr.ipynb\"><img src=\"../../../../../../__pv_it/common/a9162d1c3cc0470c02e5daf414500903a7a419230/expr.png\" style=\"display:inline;vertical-align:middle;\" /></a></td></tr>\n",
       "<tr><td>36</td><td>ExprTuple</td><td>37</td><td><a class=\"ProveItLink\" href=\"../../../../../../core_expr_types/__pv_it/common/4b0dd6be36d76552eda6a95d5b4a27f5a5b62f900/expr.ipynb\"><img src=\"../../../../../../core_expr_types/__pv_it/common/4b0dd6be36d76552eda6a95d5b4a27f5a5b62f900/expr.png\" style=\"display:inline;vertical-align:middle;\" /></a></td></tr>\n",
       "<tr><td>37</td><td>Variable</td><td></td><td><a class=\"ProveItLink\" href=\"../../../../../../core_expr_types/__pv_it/common/006c465e50948aa2b52285e2de47974f741255cc0/expr.ipynb\"><img src=\"../../../../../../core_expr_types/__pv_it/common/006c465e50948aa2b52285e2de47974f741255cc0/expr.png\" style=\"display:inline;vertical-align:middle;\" /></a></td></tr>\n",
       "</table>\n"
      ],
      "text/plain": [
       "0. (A_{1}, A_{2}, ..., A_{m}, B_{1}, B_{2}, ..., B_{m}) -> {B_{1} or  B_{2} or  ... or  B_{m} if (A_{1} in BOOLEAN) ,  (A_{2} in BOOLEAN) ,  ... ,  (A_{m} in BOOLEAN), (B_{1} in BOOLEAN) ,  (B_{2} in BOOLEAN) ,  ... ,  (B_{m} in BOOLEAN) ,  A_{1} or  A_{2} or  ... or  A_{m}, (A_{1} => B_{1}) ,  (A_{2} => B_{2}) ,  ... ,  (A_{m} => B_{m}).\n",
       "   core type: Lambda\n",
       "   parameters: 1\\n   body: 2\n",
       "1. (A_{1}, A_{2}, ..., A_{m},B_{1}, B_{2}, ..., B_{m})\n",
       "   core type: ExprTuple\n",
       "   sub-expressions: 21, 8\n",
       "2. {B_{1} or  B_{2} or  ... or  B_{m} if (A_{1} in BOOLEAN) ,  (A_{2} in BOOLEAN) ,  ... ,  (A_{m} in BOOLEAN), (B_{1} in BOOLEAN) ,  (B_{2} in BOOLEAN) ,  ... ,  (B_{m} in BOOLEAN) ,  A_{1} or  A_{2} or  ... or  A_{m}, (A_{1} => B_{1}) ,  (A_{2} => B_{2}) ,  ... ,  (A_{m} => B_{m}).\n",
       "   core type: Conditional\n",
       "   value: 3\n",
       "   condition: 4\n",
       "3. B_{1} or  B_{2} or  ... or  B_{m}\n",
       "   core type: Operation\n",
       "   operator: 16\n",
       "   operands: 5\n",
       "4. (A_{1} in BOOLEAN) and  (A_{2} in BOOLEAN) and  ... and  (A_{m} in BOOLEAN)and (B_{1} in BOOLEAN) and  (B_{2} in BOOLEAN) and  ... and  (B_{m} in BOOLEAN) and (A_{1} or  A_{2} or  ... or  A_{m})and (A_{1} => B_{1}) and  (A_{2} => B_{2}) and  ... and  (A_{m} => B_{m})\n",
       "   core type: Operation\n",
       "   operator: 6\n",
       "   operands: 7\n",
       "5. (B_{1}, B_{2}, ..., B_{m})\n",
       "   core type: ExprTuple\n",
       "   sub-expressions: 8\n",
       "6. and\n",
       "   core type: Literal\n",
       "   sub-expressions: \n",
       "7. ((A_{1} in BOOLEAN), (A_{2} in BOOLEAN), ..., (A_{m} in BOOLEAN),(B_{1} in BOOLEAN), (B_{2} in BOOLEAN), ..., (B_{m} in BOOLEAN), A_{1} or  A_{2} or  ... or  A_{m},(A_{1} => B_{1}), (A_{2} => B_{2}), ..., (A_{m} => B_{m}))\n",
       "   core type: ExprTuple\n",
       "   sub-expressions: 9, 10, 11, 12\n",
       "8. B_{1}, B_{2}, ..., B_{m}\n",
       "   core type: ExprRange\n",
       "   lambda_map: 13\n",
       "   start_index: 27\n",
       "   end_index: 28\n",
       "9. (A_{1} in BOOLEAN), (A_{2} in BOOLEAN), ..., (A_{m} in BOOLEAN)\n",
       "   core type: ExprRange\n",
       "   lambda_map: 14\n",
       "   start_index: 27\n",
       "   end_index: 28\n",
       "10. (B_{1} in BOOLEAN), (B_{2} in BOOLEAN), ..., (B_{m} in BOOLEAN)\n",
       "    core type: ExprRange\n",
       "    lambda_map: 15\n",
       "    start_index: 27\n",
       "    end_index: 28\n",
       "11. A_{1} or  A_{2} or  ... or  A_{m}\n",
       "    core type: Operation\n",
       "    operator: 16\n",
       "    operands: 17\n",
       "12. (A_{1} => B_{1}), (A_{2} => B_{2}), ..., (A_{m} => B_{m})\n",
       "    core type: ExprRange\n",
       "    lambda_map: 18\n",
       "    start_index: 27\n",
       "    end_index: 28\n",
       "13. _a -> B_{_a}\n",
       "    core type: Lambda\n",
       "    parameter: 37\n",
       "    body: 33\n",
       "14. _a -> (A_{_a} in BOOLEAN)\n",
       "    core type: Lambda\n",
       "    parameter: 37\n",
       "    body: 19\n",
       "15. _a -> (B_{_a} in BOOLEAN)\n",
       "    core type: Lambda\n",
       "    parameter: 37\n",
       "    body: 20\n",
       "16. or\n",
       "    core type: Literal\n",
       "    sub-expressions: \n",
       "17. (A_{1}, A_{2}, ..., A_{m})\n",
       "    core type: ExprTuple\n",
       "    sub-expressions: 21\n",
       "18. _a -> (A_{_a} => B_{_a})\n",
       "    core type: Lambda\n",
       "    parameter: 37\n",
       "    body: 22\n",
       "19. A_{_a} in BOOLEAN\n",
       "    core type: Operation\n",
       "    operator: 24\n",
       "    operands: 23\n",
       "20. B_{_a} in BOOLEAN\n",
       "    core type: Operation\n",
       "    operator: 24\n",
       "    operands: 25\n",
       "21. A_{1}, A_{2}, ..., A_{m}\n",
       "    core type: ExprRange\n",
       "    lambda_map: 26\n",
       "    start_index: 27\n",
       "    end_index: 28\n",
       "22. A_{_a} => B_{_a}\n",
       "    core type: Operation\n",
       "    operator: 29\n",
       "    operands: 30\n",
       "23. (A_{_a}, BOOLEAN)\n",
       "    core type: ExprTuple\n",
       "    sub-expressions: 32, 31\n",
       "24. in\n",
       "    core type: Literal\n",
       "    sub-expressions: \n",
       "25. (B_{_a}, BOOLEAN)\n",
       "    core type: ExprTuple\n",
       "    sub-expressions: 33, 31\n",
       "26. _a -> A_{_a}\n",
       "    core type: Lambda\n",
       "    parameter: 37\n",
       "    body: 32\n",
       "27. 1\n",
       "    core type: Literal\n",
       "    sub-expressions: \n",
       "28. m\n",
       "    core type: Variable\n",
       "    sub-expressions: \n",
       "29. =>\n",
       "    core type: Literal\n",
       "    sub-expressions: \n",
       "30. (A_{_a}, B_{_a})\n",
       "    core type: ExprTuple\n",
       "    sub-expressions: 32, 33\n",
       "31. BOOLEAN\n",
       "    core type: Literal\n",
       "    sub-expressions: \n",
       "32. A_{_a}\n",
       "    core type: IndexedVar\n",
       "variable: 34\n",
       "index: 37\n",
       "33. B_{_a}\n",
       "    core type: IndexedVar\n",
       "variable: 35\n",
       "index: 37\n",
       "34. A\n",
       "    core type: Variable\n",
       "    sub-expressions: \n",
       "35. B\n",
       "    core type: Variable\n",
       "    sub-expressions: \n",
       "36. (_a)\n",
       "    core type: ExprTuple\n",
       "    sub-expressions: 37\n",
       "37. _a\n",
       "    core type: Variable\n",
       "    sub-expressions: "
      ]
     },
     "metadata": {},
     "output_type": "display_data"
    }
   ],
   "source": [
    "# display the expression information\n",
    "stored_expr.expr_info()"
   ]
  },
  {
   "cell_type": "code",
   "execution_count": null,
   "metadata": {},
   "outputs": [],
   "source": []
  }
 ],
 "metadata": {
  "kernelspec": {
   "display_name": "Python 3",
   "language": "python",
   "name": "python3"
  }
 },
 "nbformat": 4,
 "nbformat_minor": 0
}