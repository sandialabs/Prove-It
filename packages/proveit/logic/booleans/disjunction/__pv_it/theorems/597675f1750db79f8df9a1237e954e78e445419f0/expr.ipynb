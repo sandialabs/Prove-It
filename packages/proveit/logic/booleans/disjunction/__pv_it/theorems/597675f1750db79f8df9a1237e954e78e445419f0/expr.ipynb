{
 "cells": [
  {
   "cell_type": "markdown",
   "metadata": {},
   "source": [
    "Expression of type <a class=\"ProveItLink\" href=\"../../../../../../../../doc/html/api/proveit.logic.Forall.html\">Forall</a>\n",
    "=======================\n",
    "# from the theory of <a class=\"ProveItLink\" href=\"../../../_theory_nbs_/theory.ipynb\">proveit.logic.booleans.disjunction</a>"
   ]
  },
  {
   "cell_type": "code",
   "execution_count": 1,
   "metadata": {},
   "outputs": [],
   "source": [
    "import proveit\n",
    "# Automation is not needed when building an expression:\n",
    "proveit.defaults.automation = False # This will speed things up.\n",
    "proveit.defaults.inline_pngs = False # Makes files smaller.\n",
    "%load_expr # Load the stored expression as 'stored_expr'\n",
    "# import Expression classes needed to build the expression\n",
    "from proveit import A, C, ExprRange, IndexedVar, Variable, m\n",
    "from proveit.core_expr_types import A_1_to_m\n",
    "from proveit.logic import Boolean, Forall, Implies, Or\n",
    "from proveit.numbers import Natural, one"
   ]
  },
  {
   "cell_type": "code",
   "execution_count": 2,
   "metadata": {},
   "outputs": [
    {
     "data": {
      "text/html": [
       "<strong id=\"expr\">expr:</strong> <a class=\"ProveItLink\" href=\"expr.ipynb\"><img src=\"expr.png\" style=\"display:inline;vertical-align:middle;\" /></a><br>"
      ],
      "text/plain": [
       "<IPython.core.display.HTML object>"
      ]
     },
     "metadata": {},
     "output_type": "display_data"
    }
   ],
   "source": [
    "# build up the expression from sub-expressions\n",
    "sub_expr1 = Variable(\"_a\", latex_format = r\"{_{-}a}\")\n",
    "expr = Forall(instance_param_or_params = [m], instance_expr = Forall(instance_param_or_params = [A_1_to_m], instance_expr = Forall(instance_param_or_params = [C], instance_expr = C, condition = ExprRange(sub_expr1, Implies(IndexedVar(A, sub_expr1), C), one, m)), domain = Boolean, condition = Or(A_1_to_m)), domain = Natural)"
   ]
  },
  {
   "cell_type": "code",
   "execution_count": 3,
   "metadata": {},
   "outputs": [
    {
     "name": "stdout",
     "output_type": "stream",
     "text": [
      "Passed sanity check: expr matches stored_expr\n"
     ]
    }
   ],
   "source": [
    "# check that the built expression is the same as the stored expression\n",
    "assert expr == stored_expr\n",
    "assert expr._style_id == stored_expr._style_id\n",
    "print(\"Passed sanity check: expr matches stored_expr\")"
   ]
  },
  {
   "cell_type": "code",
   "execution_count": 4,
   "metadata": {},
   "outputs": [
    {
     "name": "stdout",
     "output_type": "stream",
     "text": [
      "\\forall_{m \\in \\mathbb{N}}~\\left[\\forall_{A_{1}, A_{2}, \\ldots, A_{m} \\in \\mathbb{B}~|~A_{1} \\lor  A_{2} \\lor  \\ldots \\lor  A_{m}}~\\left[\\forall_{C~|~\\left(A_{1} \\Rightarrow C\\right), \\left(A_{2} \\Rightarrow C\\right), \\ldots, \\left(A_{m} \\Rightarrow C\\right)}~C\\right]\\right]\n"
     ]
    }
   ],
   "source": [
    "# Show the LaTeX representation of the expression for convenience if you need it.\n",
    "print(stored_expr.latex())"
   ]
  },
  {
   "cell_type": "code",
   "execution_count": 5,
   "metadata": {},
   "outputs": [
    {
     "data": {
      "text/html": [
       "<table>\n",
       "<tr><th>name</th><th>description</th><th>default</th><th>current value</th><th>related methods</th></tr><tr><td>with_wrapping</td><td>If 'True', wrap the Expression after the parameters</td><td>None</td><td>None/False</td><td>('with_wrapping',)</td></tr>\n",
       "<tr><td>condition_wrapping</td><td>Wrap 'before' or 'after' the condition (or None).</td><td>None</td><td>None/False</td><td>('with_wrap_after_condition', 'with_wrap_before_condition')</td></tr>\n",
       "<tr><td>wrap_params</td><td>If 'True', wraps every two parameters AND wraps the Expression after the parameters</td><td>None</td><td>None/False</td><td>('with_params',)</td></tr>\n",
       "<tr><td>justification</td><td>justify to the 'left', 'center', or 'right' in the array cells</td><td>center</td><td>center</td><td>('with_justification',)</td></tr>\n",
       "</table>\n"
      ],
      "text/plain": [
       "style name: with_wrapping\n",
       "description: If 'True', wrap the Expression after the parameters\n",
       "default: None\n",
       "current value: None/False\n",
       "related methods: ('with_wrapping',)\n",
       "style name: condition_wrapping\n",
       "description: Wrap 'before' or 'after' the condition (or None).\n",
       "default: None\n",
       "current value: None/False\n",
       "related methods: ('with_wrap_after_condition', 'with_wrap_before_condition')\n",
       "style name: wrap_params\n",
       "description: If 'True', wraps every two parameters AND wraps the Expression after the parameters\n",
       "default: None\n",
       "current value: None/False\n",
       "related methods: ('with_params',)\n",
       "style name: justification\n",
       "description: justify to the 'left', 'center', or 'right' in the array cells\n",
       "default: center\n",
       "current value: center\n",
       "related methods: ('with_justification',)"
      ]
     },
     "metadata": {},
     "output_type": "display_data"
    }
   ],
   "source": [
    "stored_expr.style_options()"
   ]
  },
  {
   "cell_type": "code",
   "execution_count": 6,
   "metadata": {},
   "outputs": [
    {
     "data": {
      "text/html": [
       "<table><tr><th>&nbsp;</th><th>core type</th><th>sub-expressions</th><th>expression</th></tr>\n",
       "<tr><td>0</td><td>Operation</td><td>operator:&nbsp;14<br>operand:&nbsp;2<br></td><td><a class=\"ProveItLink\" href=\"expr.ipynb\"><img src=\"expr.png\" style=\"display:inline;vertical-align:middle;\" /></a></td></tr>\n",
       "<tr><td>1</td><td>ExprTuple</td><td>2</td><td><a class=\"ProveItLink\" href=\"../1badb6f2863067236efad6e14bc51f7fd25864dc0/expr.ipynb\"><img src=\"../1badb6f2863067236efad6e14bc51f7fd25864dc0/expr.png\" style=\"display:inline;vertical-align:middle;\" /></a></td></tr>\n",
       "<tr><td>2</td><td>Lambda</td><td>parameter:&nbsp;37<br>body:&nbsp;4<br></td><td><a class=\"ProveItLink\" href=\"../d76edccbcc5b397eb91549d6b92517404cebdd570/expr.ipynb\"><img src=\"../d76edccbcc5b397eb91549d6b92517404cebdd570/expr.png\" style=\"display:inline;vertical-align:middle;\" /></a></td></tr>\n",
       "<tr><td>3</td><td>ExprTuple</td><td>37</td><td><a class=\"ProveItLink\" href=\"../2ed45ad9602ac89076225577ef477d88f8c5a1790/expr.ipynb\"><img src=\"../2ed45ad9602ac89076225577ef477d88f8c5a1790/expr.png\" style=\"display:inline;vertical-align:middle;\" /></a></td></tr>\n",
       "<tr><td>4</td><td>Conditional</td><td>value:&nbsp;5<br>condition:&nbsp;6<br></td><td><a class=\"ProveItLink\" href=\"../865ddb0ac68bbee867cecdd8fe88bb76819c79130/expr.ipynb\"><img src=\"../865ddb0ac68bbee867cecdd8fe88bb76819c79130/expr.png\" style=\"display:inline;vertical-align:middle;\" /></a></td></tr>\n",
       "<tr><td>5</td><td>Operation</td><td>operator:&nbsp;14<br>operand:&nbsp;9<br></td><td><a class=\"ProveItLink\" href=\"../bb7b6cee3440dd5fc91a93b3516e6b3789f05c780/expr.ipynb\"><img src=\"../bb7b6cee3440dd5fc91a93b3516e6b3789f05c780/expr.png\" style=\"display:inline;vertical-align:middle;\" /></a></td></tr>\n",
       "<tr><td>6</td><td>Operation</td><td>operator:&nbsp;30<br>operands:&nbsp;8<br></td><td><a class=\"ProveItLink\" href=\"../22736ce9d3a37303b26f11de823dee236fdf12440/expr.ipynb\"><img src=\"../22736ce9d3a37303b26f11de823dee236fdf12440/expr.png\" style=\"display:inline;vertical-align:middle;\" /></a></td></tr>\n",
       "<tr><td>7</td><td>ExprTuple</td><td>9</td><td><a class=\"ProveItLink\" href=\"../d7bb648293a8b6c8d78eb97a04c97e35ef6323230/expr.ipynb\"><img src=\"../d7bb648293a8b6c8d78eb97a04c97e35ef6323230/expr.png\" style=\"display:inline;vertical-align:middle;\" /></a></td></tr>\n",
       "<tr><td>8</td><td>ExprTuple</td><td>37, 10</td><td><a class=\"ProveItLink\" href=\"../0d6c99f0fbf307a57c36a9642312d22b5ef7d9810/expr.ipynb\"><img src=\"../0d6c99f0fbf307a57c36a9642312d22b5ef7d9810/expr.png\" style=\"display:inline;vertical-align:middle;\" /></a></td></tr>\n",
       "<tr><td>9</td><td>Lambda</td><td>parameters:&nbsp;24<br>body:&nbsp;11<br></td><td><a class=\"ProveItLink\" href=\"../50b66895d1c4f6e9886c395f73810fa4995e09c20/expr.ipynb\"><img src=\"../50b66895d1c4f6e9886c395f73810fa4995e09c20/expr.png\" style=\"display:inline;vertical-align:middle;\" /></a></td></tr>\n",
       "<tr><td>10</td><td>Literal</td><td></td><td><a class=\"ProveItLink\" href=\"../../../../../../numbers/number_sets/natural_numbers/__pv_it/common/8b7c321957f52ed3b05b36af612eeae4fa4783bc0/expr.ipynb\"><img src=\"../../../../../../numbers/number_sets/natural_numbers/__pv_it/common/8b7c321957f52ed3b05b36af612eeae4fa4783bc0/expr.png\" style=\"display:inline;vertical-align:middle;\" /></a></td></tr>\n",
       "<tr><td>11</td><td>Conditional</td><td>value:&nbsp;12<br>condition:&nbsp;13<br></td><td><a class=\"ProveItLink\" href=\"../4e4f876be244090756a91386eb4ddec8ef0219980/expr.ipynb\"><img src=\"../4e4f876be244090756a91386eb4ddec8ef0219980/expr.png\" style=\"display:inline;vertical-align:middle;\" /></a></td></tr>\n",
       "<tr><td>12</td><td>Operation</td><td>operator:&nbsp;14<br>operand:&nbsp;17<br></td><td><a class=\"ProveItLink\" href=\"../74d11f3dcdfa964b5bf6d489d81aee36422c47650/expr.ipynb\"><img src=\"../74d11f3dcdfa964b5bf6d489d81aee36422c47650/expr.png\" style=\"display:inline;vertical-align:middle;\" /></a></td></tr>\n",
       "<tr><td>13</td><td>Operation</td><td>operator:&nbsp;28<br>operands:&nbsp;16<br></td><td><a class=\"ProveItLink\" href=\"../3c6fb28ef5e413944ddf95acce3956aac92d3d5f0/expr.ipynb\"><img src=\"../3c6fb28ef5e413944ddf95acce3956aac92d3d5f0/expr.png\" style=\"display:inline;vertical-align:middle;\" /></a></td></tr>\n",
       "<tr><td>14</td><td>Literal</td><td></td><td><a class=\"ProveItLink\" href=\"../../../../quantification/universality/__pv_it/common/083d2baa0b8ecab1d230f9ec29a15aa1355809fb0/expr.ipynb\"><img src=\"../../../../quantification/universality/__pv_it/common/083d2baa0b8ecab1d230f9ec29a15aa1355809fb0/expr.png\" style=\"display:inline;vertical-align:middle;\" /></a></td></tr>\n",
       "<tr><td>15</td><td>ExprTuple</td><td>17</td><td><a class=\"ProveItLink\" href=\"../0a3ea5a8a2b8ad2b2506a548b32342c7c4d99ba10/expr.ipynb\"><img src=\"../0a3ea5a8a2b8ad2b2506a548b32342c7c4d99ba10/expr.png\" style=\"display:inline;vertical-align:middle;\" /></a></td></tr>\n",
       "<tr><td>16</td><td>ExprTuple</td><td>18, 19</td><td><a class=\"ProveItLink\" href=\"../ddbeb7de03c42d673fff6296da0d2ad48ef499770/expr.ipynb\"><img src=\"../ddbeb7de03c42d673fff6296da0d2ad48ef499770/expr.png\" style=\"display:inline;vertical-align:middle;\" /></a></td></tr>\n",
       "<tr><td>17</td><td>Lambda</td><td>parameter:&nbsp;42<br>body:&nbsp;21<br></td><td><a class=\"ProveItLink\" href=\"../e0ba0cc6e5532c6596aa09a36f00ce5a6ab419510/expr.ipynb\"><img src=\"../e0ba0cc6e5532c6596aa09a36f00ce5a6ab419510/expr.png\" style=\"display:inline;vertical-align:middle;\" /></a></td></tr>\n",
       "<tr><td>18</td><td>ExprRange</td><td>lambda_map:&nbsp;22<br>start_index:&nbsp;36<br>end_index:&nbsp;37<br></td><td><a class=\"ProveItLink\" href=\"../1fb27215f9874f666c9ff5c489de9562a10203f10/expr.ipynb\"><img src=\"../1fb27215f9874f666c9ff5c489de9562a10203f10/expr.png\" style=\"display:inline;vertical-align:middle;\" /></a></td></tr>\n",
       "<tr><td>19</td><td>Operation</td><td>operator:&nbsp;23<br>operands:&nbsp;24<br></td><td><a class=\"ProveItLink\" href=\"../672690be5e71a07bccfb167f7fa9c72f661921fe0/expr.ipynb\"><img src=\"../672690be5e71a07bccfb167f7fa9c72f661921fe0/expr.png\" style=\"display:inline;vertical-align:middle;\" /></a></td></tr>\n",
       "<tr><td>20</td><td>ExprTuple</td><td>42</td><td><a class=\"ProveItLink\" href=\"../7cd89a0b28fb2652e5a208f6667ea21fd78cb7420/expr.ipynb\"><img src=\"../7cd89a0b28fb2652e5a208f6667ea21fd78cb7420/expr.png\" style=\"display:inline;vertical-align:middle;\" /></a></td></tr>\n",
       "<tr><td>21</td><td>Conditional</td><td>value:&nbsp;42<br>condition:&nbsp;25<br></td><td><a class=\"ProveItLink\" href=\"../c4d598cd4f558495e2a98d52d2e0da802ce4abf80/expr.ipynb\"><img src=\"../c4d598cd4f558495e2a98d52d2e0da802ce4abf80/expr.png\" style=\"display:inline;vertical-align:middle;\" /></a></td></tr>\n",
       "<tr><td>22</td><td>Lambda</td><td>parameter:&nbsp;45<br>body:&nbsp;26<br></td><td><a class=\"ProveItLink\" href=\"../24bc2dc2924744cfd65436fd9d2c6ad0cc6f28660/expr.ipynb\"><img src=\"../24bc2dc2924744cfd65436fd9d2c6ad0cc6f28660/expr.png\" style=\"display:inline;vertical-align:middle;\" /></a></td></tr>\n",
       "<tr><td>23</td><td>Literal</td><td></td><td><a class=\"ProveItLink\" href=\"../../common/ef8e59262ff8e0133aa1ca984dd6b3a41bf69d5b0/expr.ipynb\"><img src=\"../../common/ef8e59262ff8e0133aa1ca984dd6b3a41bf69d5b0/expr.png\" style=\"display:inline;vertical-align:middle;\" /></a></td></tr>\n",
       "<tr><td>24</td><td>ExprTuple</td><td>27</td><td><a class=\"ProveItLink\" href=\"../218b49ecc2fcb674f5eb724d523a787df9bde9a00/expr.ipynb\"><img src=\"../218b49ecc2fcb674f5eb724d523a787df9bde9a00/expr.png\" style=\"display:inline;vertical-align:middle;\" /></a></td></tr>\n",
       "<tr><td>25</td><td>Operation</td><td>operator:&nbsp;28<br>operands:&nbsp;29<br></td><td><a class=\"ProveItLink\" href=\"../b47cd54cb263f175d7a40292cb53cdd0c0bcf1b30/expr.ipynb\"><img src=\"../b47cd54cb263f175d7a40292cb53cdd0c0bcf1b30/expr.png\" style=\"display:inline;vertical-align:middle;\" /></a></td></tr>\n",
       "<tr><td>26</td><td>Operation</td><td>operator:&nbsp;30<br>operands:&nbsp;31<br></td><td><a class=\"ProveItLink\" href=\"../4e5a3811f8fae2836722462066e6579a37dfad210/expr.ipynb\"><img src=\"../4e5a3811f8fae2836722462066e6579a37dfad210/expr.png\" style=\"display:inline;vertical-align:middle;\" /></a></td></tr>\n",
       "<tr><td>27</td><td>ExprRange</td><td>lambda_map:&nbsp;32<br>start_index:&nbsp;36<br>end_index:&nbsp;37<br></td><td><a class=\"ProveItLink\" href=\"../../../../../../core_expr_types/__pv_it/common/eaccd55f312202b1e754429bdfeaf22333037c330/expr.ipynb\"><img src=\"../../../../../../core_expr_types/__pv_it/common/eaccd55f312202b1e754429bdfeaf22333037c330/expr.png\" style=\"display:inline;vertical-align:middle;\" /></a></td></tr>\n",
       "<tr><td>28</td><td>Literal</td><td></td><td><a class=\"ProveItLink\" href=\"../../../../conjunction/__pv_it/common/42118ff318bd65d98b1393f64ce7c2269feef76e0/expr.ipynb\"><img src=\"../../../../conjunction/__pv_it/common/42118ff318bd65d98b1393f64ce7c2269feef76e0/expr.png\" style=\"display:inline;vertical-align:middle;\" /></a></td></tr>\n",
       "<tr><td>29</td><td>ExprTuple</td><td>33</td><td><a class=\"ProveItLink\" href=\"../0a0c989ad832ea55c7f3ec7a46a6a2b764d4d9b80/expr.ipynb\"><img src=\"../0a0c989ad832ea55c7f3ec7a46a6a2b764d4d9b80/expr.png\" style=\"display:inline;vertical-align:middle;\" /></a></td></tr>\n",
       "<tr><td>30</td><td>Literal</td><td></td><td><a class=\"ProveItLink\" href=\"../../../../../sets/membership/__pv_it/common/477487d8796864d23d5810f83761435f25167f690/expr.ipynb\"><img src=\"../../../../../sets/membership/__pv_it/common/477487d8796864d23d5810f83761435f25167f690/expr.png\" style=\"display:inline;vertical-align:middle;\" /></a></td></tr>\n",
       "<tr><td>31</td><td>ExprTuple</td><td>41, 34</td><td><a class=\"ProveItLink\" href=\"../3b63dd2d70dc3db7b3daaeea0ebe335178ad58940/expr.ipynb\"><img src=\"../3b63dd2d70dc3db7b3daaeea0ebe335178ad58940/expr.png\" style=\"display:inline;vertical-align:middle;\" /></a></td></tr>\n",
       "<tr><td>32</td><td>Lambda</td><td>parameter:&nbsp;45<br>body:&nbsp;41<br></td><td><a class=\"ProveItLink\" href=\"../../../../../../core_expr_types/__pv_it/common/9332289e845003c758afc3bcee43498ae784f2d90/expr.ipynb\"><img src=\"../../../../../../core_expr_types/__pv_it/common/9332289e845003c758afc3bcee43498ae784f2d90/expr.png\" style=\"display:inline;vertical-align:middle;\" /></a></td></tr>\n",
       "<tr><td>33</td><td>ExprRange</td><td>lambda_map:&nbsp;35<br>start_index:&nbsp;36<br>end_index:&nbsp;37<br></td><td><a class=\"ProveItLink\" href=\"../2e45284d2e561a20334ead94ccde02ced8b906540/expr.ipynb\"><img src=\"../2e45284d2e561a20334ead94ccde02ced8b906540/expr.png\" style=\"display:inline;vertical-align:middle;\" /></a></td></tr>\n",
       "<tr><td>34</td><td>Literal</td><td></td><td><a class=\"ProveItLink\" href=\"../../../../__pv_it/common/97424376de9815ad99f7180e3191b1cf4ab2a5710/expr.ipynb\"><img src=\"../../../../__pv_it/common/97424376de9815ad99f7180e3191b1cf4ab2a5710/expr.png\" style=\"display:inline;vertical-align:middle;\" /></a></td></tr>\n",
       "<tr><td>35</td><td>Lambda</td><td>parameter:&nbsp;45<br>body:&nbsp;38<br></td><td><a class=\"ProveItLink\" href=\"../051bf5443cb2fa86e79b873fb65639725664ca8e0/expr.ipynb\"><img src=\"../051bf5443cb2fa86e79b873fb65639725664ca8e0/expr.png\" style=\"display:inline;vertical-align:middle;\" /></a></td></tr>\n",
       "<tr><td>36</td><td>Literal</td><td></td><td><a class=\"ProveItLink\" href=\"../../../../../../numbers/numerals/__pv_it/common/682157d4892d216d9e5626ed533aff9b56b9506e0/expr.ipynb\"><img src=\"../../../../../../numbers/numerals/__pv_it/common/682157d4892d216d9e5626ed533aff9b56b9506e0/expr.png\" style=\"display:inline;vertical-align:middle;\" /></a></td></tr>\n",
       "<tr><td>37</td><td>Variable</td><td></td><td><a class=\"ProveItLink\" href=\"../../../../../../__pv_it/common/674a03b9c3ca221b3aabd5636837b31528ff33830/expr.ipynb\"><img src=\"../../../../../../__pv_it/common/674a03b9c3ca221b3aabd5636837b31528ff33830/expr.png\" style=\"display:inline;vertical-align:middle;\" /></a></td></tr>\n",
       "<tr><td>38</td><td>Operation</td><td>operator:&nbsp;39<br>operands:&nbsp;40<br></td><td><a class=\"ProveItLink\" href=\"../3d6cfbbfd31b912a5bf4d4a30fe8b3414a332fdc0/expr.ipynb\"><img src=\"../3d6cfbbfd31b912a5bf4d4a30fe8b3414a332fdc0/expr.png\" style=\"display:inline;vertical-align:middle;\" /></a></td></tr>\n",
       "<tr><td>39</td><td>Literal</td><td></td><td><a class=\"ProveItLink\" href=\"../../../../implication/__pv_it/common/02bdb382575728da8cdbaed545b9096ea7a1bd5b0/expr.ipynb\"><img src=\"../../../../implication/__pv_it/common/02bdb382575728da8cdbaed545b9096ea7a1bd5b0/expr.png\" style=\"display:inline;vertical-align:middle;\" /></a></td></tr>\n",
       "<tr><td>40</td><td>ExprTuple</td><td>41, 42</td><td><a class=\"ProveItLink\" href=\"../6c0430ddc3d9a7bb7a62da3a9f991c90df9f97b90/expr.ipynb\"><img src=\"../6c0430ddc3d9a7bb7a62da3a9f991c90df9f97b90/expr.png\" style=\"display:inline;vertical-align:middle;\" /></a></td></tr>\n",
       "<tr><td>41</td><td>IndexedVar</td><td>variable:&nbsp;43<br>index:&nbsp;45<br></td><td><a class=\"ProveItLink\" href=\"../../../../../../core_expr_types/__pv_it/common/9fdaaadf1b3d81a308244818dc08833e7f5035730/expr.ipynb\"><img src=\"../../../../../../core_expr_types/__pv_it/common/9fdaaadf1b3d81a308244818dc08833e7f5035730/expr.png\" style=\"display:inline;vertical-align:middle;\" /></a></td></tr>\n",
       "<tr><td>42</td><td>Variable</td><td></td><td><a class=\"ProveItLink\" href=\"../../../../../../__pv_it/common/9fba9f29e823606ff4fdf2f1c6d5d08d906e850a0/expr.ipynb\"><img src=\"../../../../../../__pv_it/common/9fba9f29e823606ff4fdf2f1c6d5d08d906e850a0/expr.png\" style=\"display:inline;vertical-align:middle;\" /></a></td></tr>\n",
       "<tr><td>43</td><td>Variable</td><td></td><td><a class=\"ProveItLink\" href=\"../../../../../../__pv_it/common/09585084922504426caf1db2ff588a23a0932a960/expr.ipynb\"><img src=\"../../../../../../__pv_it/common/09585084922504426caf1db2ff588a23a0932a960/expr.png\" style=\"display:inline;vertical-align:middle;\" /></a></td></tr>\n",
       "<tr><td>44</td><td>ExprTuple</td><td>45</td><td><a class=\"ProveItLink\" href=\"../../../../../../core_expr_types/__pv_it/common/4b0dd6be36d76552eda6a95d5b4a27f5a5b62f900/expr.ipynb\"><img src=\"../../../../../../core_expr_types/__pv_it/common/4b0dd6be36d76552eda6a95d5b4a27f5a5b62f900/expr.png\" style=\"display:inline;vertical-align:middle;\" /></a></td></tr>\n",
       "<tr><td>45</td><td>Variable</td><td></td><td><a class=\"ProveItLink\" href=\"../../../../../../core_expr_types/__pv_it/common/006c465e50948aa2b52285e2de47974f741255cc0/expr.ipynb\"><img src=\"../../../../../../core_expr_types/__pv_it/common/006c465e50948aa2b52285e2de47974f741255cc0/expr.png\" style=\"display:inline;vertical-align:middle;\" /></a></td></tr>\n",
       "</table>\n"
      ],
      "text/plain": [
       "0. forall_{m in Natural} [forall_{A_{1}, A_{2}, ..., A_{m} in BOOLEAN | A_{1} or  A_{2} or  ... or  A_{m}} [forall_{C | (A_{1} => C), (A_{2} => C), ..., (A_{m} => C)} C]]\n",
       "   core type: Operation\n",
       "   operator: 14\n",
       "   operand: 2\n",
       "1. (m -> {forall_{A_{1}, A_{2}, ..., A_{m} in BOOLEAN | A_{1} or  A_{2} or  ... or  A_{m}} [forall_{C | (A_{1} => C), (A_{2} => C), ..., (A_{m} => C)} C] if m in Natural.)\n",
       "   core type: ExprTuple\n",
       "   sub-expressions: 2\n",
       "2. m -> {forall_{A_{1}, A_{2}, ..., A_{m} in BOOLEAN | A_{1} or  A_{2} or  ... or  A_{m}} [forall_{C | (A_{1} => C), (A_{2} => C), ..., (A_{m} => C)} C] if m in Natural.\n",
       "   core type: Lambda\n",
       "   parameter: 37\n",
       "   body: 4\n",
       "3. (m)\n",
       "   core type: ExprTuple\n",
       "   sub-expressions: 37\n",
       "4. {forall_{A_{1}, A_{2}, ..., A_{m} in BOOLEAN | A_{1} or  A_{2} or  ... or  A_{m}} [forall_{C | (A_{1} => C), (A_{2} => C), ..., (A_{m} => C)} C] if m in Natural.\n",
       "   core type: Conditional\n",
       "   value: 5\n",
       "   condition: 6\n",
       "5. forall_{A_{1}, A_{2}, ..., A_{m} in BOOLEAN | A_{1} or  A_{2} or  ... or  A_{m}} [forall_{C | (A_{1} => C), (A_{2} => C), ..., (A_{m} => C)} C]\n",
       "   core type: Operation\n",
       "   operator: 14\n",
       "   operand: 9\n",
       "6. m in Natural\n",
       "   core type: Operation\n",
       "   operator: 30\n",
       "   operands: 8\n",
       "7. ((A_{1}, A_{2}, ..., A_{m}) -> {forall_{C | (A_{1} => C), (A_{2} => C), ..., (A_{m} => C)} C if (A_{1} in BOOLEAN) ,  (A_{2} in BOOLEAN) ,  ... ,  (A_{m} in BOOLEAN) ,  A_{1} or  A_{2} or  ... or  A_{m}.)\n",
       "   core type: ExprTuple\n",
       "   sub-expressions: 9\n",
       "8. (m, Natural)\n",
       "   core type: ExprTuple\n",
       "   sub-expressions: 37, 10\n",
       "9. (A_{1}, A_{2}, ..., A_{m}) -> {forall_{C | (A_{1} => C), (A_{2} => C), ..., (A_{m} => C)} C if (A_{1} in BOOLEAN) ,  (A_{2} in BOOLEAN) ,  ... ,  (A_{m} in BOOLEAN) ,  A_{1} or  A_{2} or  ... or  A_{m}.\n",
       "   core type: Lambda\n",
       "   parameters: 24\\n   body: 11\n",
       "10. Natural\n",
       "    core type: Literal\n",
       "    sub-expressions: \n",
       "11. {forall_{C | (A_{1} => C), (A_{2} => C), ..., (A_{m} => C)} C if (A_{1} in BOOLEAN) ,  (A_{2} in BOOLEAN) ,  ... ,  (A_{m} in BOOLEAN) ,  A_{1} or  A_{2} or  ... or  A_{m}.\n",
       "    core type: Conditional\n",
       "    value: 12\n",
       "    condition: 13\n",
       "12. forall_{C | (A_{1} => C), (A_{2} => C), ..., (A_{m} => C)} C\n",
       "    core type: Operation\n",
       "    operator: 14\n",
       "    operand: 17\n",
       "13. (A_{1} in BOOLEAN) and  (A_{2} in BOOLEAN) and  ... and  (A_{m} in BOOLEAN) and (A_{1} or  A_{2} or  ... or  A_{m})\n",
       "    core type: Operation\n",
       "    operator: 28\n",
       "    operands: 16\n",
       "14. forall\n",
       "    core type: Literal\n",
       "    sub-expressions: \n",
       "15. (C -> {C if (A_{1} => C) and  (A_{2} => C) and  ... and  (A_{m} => C).)\n",
       "    core type: ExprTuple\n",
       "    sub-expressions: 17\n",
       "16. ((A_{1} in BOOLEAN), (A_{2} in BOOLEAN), ..., (A_{m} in BOOLEAN), A_{1} or  A_{2} or  ... or  A_{m})\n",
       "    core type: ExprTuple\n",
       "    sub-expressions: 18, 19\n",
       "17. C -> {C if (A_{1} => C) and  (A_{2} => C) and  ... and  (A_{m} => C).\n",
       "    core type: Lambda\n",
       "    parameter: 42\n",
       "    body: 21\n",
       "18. (A_{1} in BOOLEAN), (A_{2} in BOOLEAN), ..., (A_{m} in BOOLEAN)\n",
       "    core type: ExprRange\n",
       "    lambda_map: 22\n",
       "    start_index: 36\n",
       "    end_index: 37\n",
       "19. A_{1} or  A_{2} or  ... or  A_{m}\n",
       "    core type: Operation\n",
       "    operator: 23\n",
       "    operands: 24\n",
       "20. (C)\n",
       "    core type: ExprTuple\n",
       "    sub-expressions: 42\n",
       "21. {C if (A_{1} => C) and  (A_{2} => C) and  ... and  (A_{m} => C).\n",
       "    core type: Conditional\n",
       "    value: 42\n",
       "    condition: 25\n",
       "22. _a -> (A_{_a} in BOOLEAN)\n",
       "    core type: Lambda\n",
       "    parameter: 45\n",
       "    body: 26\n",
       "23. or\n",
       "    core type: Literal\n",
       "    sub-expressions: \n",
       "24. (A_{1}, A_{2}, ..., A_{m})\n",
       "    core type: ExprTuple\n",
       "    sub-expressions: 27\n",
       "25. (A_{1} => C) and  (A_{2} => C) and  ... and  (A_{m} => C)\n",
       "    core type: Operation\n",
       "    operator: 28\n",
       "    operands: 29\n",
       "26. A_{_a} in BOOLEAN\n",
       "    core type: Operation\n",
       "    operator: 30\n",
       "    operands: 31\n",
       "27. A_{1}, A_{2}, ..., A_{m}\n",
       "    core type: ExprRange\n",
       "    lambda_map: 32\n",
       "    start_index: 36\n",
       "    end_index: 37\n",
       "28. and\n",
       "    core type: Literal\n",
       "    sub-expressions: \n",
       "29. ((A_{1} => C), (A_{2} => C), ..., (A_{m} => C))\n",
       "    core type: ExprTuple\n",
       "    sub-expressions: 33\n",
       "30. in\n",
       "    core type: Literal\n",
       "    sub-expressions: \n",
       "31. (A_{_a}, BOOLEAN)\n",
       "    core type: ExprTuple\n",
       "    sub-expressions: 41, 34\n",
       "32. _a -> A_{_a}\n",
       "    core type: Lambda\n",
       "    parameter: 45\n",
       "    body: 41\n",
       "33. (A_{1} => C), (A_{2} => C), ..., (A_{m} => C)\n",
       "    core type: ExprRange\n",
       "    lambda_map: 35\n",
       "    start_index: 36\n",
       "    end_index: 37\n",
       "34. BOOLEAN\n",
       "    core type: Literal\n",
       "    sub-expressions: \n",
       "35. _a -> (A_{_a} => C)\n",
       "    core type: Lambda\n",
       "    parameter: 45\n",
       "    body: 38\n",
       "36. 1\n",
       "    core type: Literal\n",
       "    sub-expressions: \n",
       "37. m\n",
       "    core type: Variable\n",
       "    sub-expressions: \n",
       "38. A_{_a} => C\n",
       "    core type: Operation\n",
       "    operator: 39\n",
       "    operands: 40\n",
       "39. =>\n",
       "    core type: Literal\n",
       "    sub-expressions: \n",
       "40. (A_{_a}, C)\n",
       "    core type: ExprTuple\n",
       "    sub-expressions: 41, 42\n",
       "41. A_{_a}\n",
       "    core type: IndexedVar\n",
       "variable: 43\n",
       "index: 45\n",
       "42. C\n",
       "    core type: Variable\n",
       "    sub-expressions: \n",
       "43. A\n",
       "    core type: Variable\n",
       "    sub-expressions: \n",
       "44. (_a)\n",
       "    core type: ExprTuple\n",
       "    sub-expressions: 45\n",
       "45. _a\n",
       "    core type: Variable\n",
       "    sub-expressions: "
      ]
     },
     "metadata": {},
     "output_type": "display_data"
    }
   ],
   "source": [
    "# display the expression information\n",
    "stored_expr.expr_info()"
   ]
  },
  {
   "cell_type": "code",
   "execution_count": null,
   "metadata": {},
   "outputs": [],
   "source": []
  }
 ],
 "metadata": {
  "kernelspec": {
   "display_name": "Python 3",
   "language": "python",
   "name": "python3"
  }
 },
 "nbformat": 4,
 "nbformat_minor": 0
}