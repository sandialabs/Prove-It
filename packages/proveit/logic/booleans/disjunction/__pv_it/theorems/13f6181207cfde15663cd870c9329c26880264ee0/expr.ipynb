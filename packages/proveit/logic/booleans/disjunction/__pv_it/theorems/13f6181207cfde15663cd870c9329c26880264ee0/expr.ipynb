{
 "cells": [
  {
   "cell_type": "markdown",
   "metadata": {},
   "source": [
    "Expression of type <a class=\"ProveItLink\" href=\"../../../../../../../../doc/html/api/proveit.Conditional.html\">Conditional</a>\n",
    "=======================\n",
    "# from the theory of <a class=\"ProveItLink\" href=\"../../../_theory_nbs_/theory.ipynb\">proveit.logic.booleans.disjunction</a>"
   ]
  },
  {
   "cell_type": "code",
   "execution_count": 1,
   "metadata": {},
   "outputs": [],
   "source": [
    "import proveit\n",
    "# Automation is not needed when building an expression:\n",
    "proveit.defaults.automation = False # This will speed things up.\n",
    "proveit.defaults.inline_pngs = False # Makes files smaller.\n",
    "%load_expr # Load the stored expression as 'stored_expr'\n",
    "# import Expression classes needed to build the expression\n",
    "from proveit import A, B, C, Conditional, D\n",
    "from proveit.logic import And, Boolean, Implies, InSet, Not, Or"
   ]
  },
  {
   "cell_type": "code",
   "execution_count": 2,
   "metadata": {},
   "outputs": [
    {
     "data": {
      "text/html": [
       "<strong id=\"expr\">expr:</strong> <a class=\"ProveItLink\" href=\"expr.ipynb\"><img src=\"expr.png\" style=\"display:inline;vertical-align:middle;\" /></a><br>"
      ],
      "text/plain": [
       "<IPython.core.display.HTML object>"
      ]
     },
     "metadata": {},
     "output_type": "display_data"
    }
   ],
   "source": [
    "# build up the expression from sub-expressions\n",
    "expr = Conditional(Or(Not(A), Not(B)), And(InSet(A, Boolean), InSet(B, Boolean), InSet(C, Boolean), InSet(D, Boolean), Or(Not(C), Not(D)), Implies(A, C), Implies(B, D)))"
   ]
  },
  {
   "cell_type": "code",
   "execution_count": 3,
   "metadata": {},
   "outputs": [
    {
     "name": "stdout",
     "output_type": "stream",
     "text": [
      "Passed sanity check: expr matches stored_expr\n"
     ]
    }
   ],
   "source": [
    "# check that the built expression is the same as the stored expression\n",
    "assert expr == stored_expr\n",
    "assert expr._style_id == stored_expr._style_id\n",
    "print(\"Passed sanity check: expr matches stored_expr\")"
   ]
  },
  {
   "cell_type": "code",
   "execution_count": 4,
   "metadata": {},
   "outputs": [
    {
     "name": "stdout",
     "output_type": "stream",
     "text": [
      "\\left\\{(\\lnot A) \\lor (\\lnot B) \\textrm{ if } A \\in \\mathbb{B} ,  B \\in \\mathbb{B} ,  C \\in \\mathbb{B} ,  D \\in \\mathbb{B} ,  (\\lnot C) \\lor (\\lnot D) ,  A \\Rightarrow C ,  B \\Rightarrow D\\right..\n"
     ]
    }
   ],
   "source": [
    "# Show the LaTeX representation of the expression for convenience if you need it.\n",
    "print(stored_expr.latex())"
   ]
  },
  {
   "cell_type": "code",
   "execution_count": 5,
   "metadata": {},
   "outputs": [
    {
     "data": {
      "text/html": [
       "<table>\n",
       "<tr><th>name</th><th>description</th><th>default</th><th>current value</th><th>related methods</th></tr><tr><td>condition_delimiter</td><td>'comma' or 'and'</td><td>comma</td><td>comma</td><td>('with_comma_delimiter', 'with_conjunction_delimiter')</td></tr>\n",
       "</table>\n"
      ],
      "text/plain": [
       "style name: condition_delimiter\n",
       "description: 'comma' or 'and'\n",
       "default: comma\n",
       "current value: comma\n",
       "related methods: ('with_comma_delimiter', 'with_conjunction_delimiter')"
      ]
     },
     "metadata": {},
     "output_type": "display_data"
    }
   ],
   "source": [
    "stored_expr.style_options()"
   ]
  },
  {
   "cell_type": "code",
   "execution_count": 6,
   "metadata": {},
   "outputs": [
    {
     "data": {
      "text/html": [
       "<table><tr><th>&nbsp;</th><th>core type</th><th>sub-expressions</th><th>expression</th></tr>\n",
       "<tr><td>0</td><td>Conditional</td><td>value:&nbsp;1<br>condition:&nbsp;2<br></td><td><a class=\"ProveItLink\" href=\"expr.ipynb\"><img src=\"expr.png\" style=\"display:inline;vertical-align:middle;\" /></a></td></tr>\n",
       "<tr><td>1</td><td>Operation</td><td>operator:&nbsp;22<br>operands:&nbsp;3<br></td><td><a class=\"ProveItLink\" href=\"../aa683884aae7e310c4d21de2038361566a8cadde0/expr.ipynb\"><img src=\"../aa683884aae7e310c4d21de2038361566a8cadde0/expr.png\" style=\"display:inline;vertical-align:middle;\" /></a></td></tr>\n",
       "<tr><td>2</td><td>Operation</td><td>operator:&nbsp;4<br>operands:&nbsp;5<br></td><td><a class=\"ProveItLink\" href=\"../f05f9c367abd2ce3dbd461cc2e1eeb4ba2ec9df50/expr.ipynb\"><img src=\"../f05f9c367abd2ce3dbd461cc2e1eeb4ba2ec9df50/expr.png\" style=\"display:inline;vertical-align:middle;\" /></a></td></tr>\n",
       "<tr><td>3</td><td>ExprTuple</td><td>6, 7</td><td><a class=\"ProveItLink\" href=\"../e08a4ac88f1815e5594cfa40e1aca1f0ee499af30/expr.ipynb\"><img src=\"../e08a4ac88f1815e5594cfa40e1aca1f0ee499af30/expr.png\" style=\"display:inline;vertical-align:middle;\" /></a></td></tr>\n",
       "<tr><td>4</td><td>Literal</td><td></td><td><a class=\"ProveItLink\" href=\"../../../../conjunction/__pv_it/common/42118ff318bd65d98b1393f64ce7c2269feef76e0/expr.ipynb\"><img src=\"../../../../conjunction/__pv_it/common/42118ff318bd65d98b1393f64ce7c2269feef76e0/expr.png\" style=\"display:inline;vertical-align:middle;\" /></a></td></tr>\n",
       "<tr><td>5</td><td>ExprTuple</td><td>8, 9, 10, 11, 12, 13, 14</td><td><a class=\"ProveItLink\" href=\"../894521a8bbede3e405d51cf067a98d5d224cc6c30/expr.ipynb\"><img src=\"../894521a8bbede3e405d51cf067a98d5d224cc6c30/expr.png\" style=\"display:inline;vertical-align:middle;\" /></a></td></tr>\n",
       "<tr><td>6</td><td>Operation</td><td>operator:&nbsp;33<br>operand:&nbsp;30<br></td><td><a class=\"ProveItLink\" href=\"../c19a32dfcf93aeb9aa7e65c251bf4b72d5c3a7b90/expr.ipynb\"><img src=\"../c19a32dfcf93aeb9aa7e65c251bf4b72d5c3a7b90/expr.png\" style=\"display:inline;vertical-align:middle;\" /></a></td></tr>\n",
       "<tr><td>7</td><td>Operation</td><td>operator:&nbsp;33<br>operand:&nbsp;31<br></td><td><a class=\"ProveItLink\" href=\"../8552c6321b312c5e15a5015adce4a756ce05da420/expr.ipynb\"><img src=\"../8552c6321b312c5e15a5015adce4a756ce05da420/expr.png\" style=\"display:inline;vertical-align:middle;\" /></a></td></tr>\n",
       "<tr><td>8</td><td>Operation</td><td>operator:&nbsp;20<br>operands:&nbsp;17<br></td><td><a class=\"ProveItLink\" href=\"../9b36d7235130a6b592c97bb06e5078015c4aa29f0/expr.ipynb\"><img src=\"../9b36d7235130a6b592c97bb06e5078015c4aa29f0/expr.png\" style=\"display:inline;vertical-align:middle;\" /></a></td></tr>\n",
       "<tr><td>9</td><td>Operation</td><td>operator:&nbsp;20<br>operands:&nbsp;18<br></td><td><a class=\"ProveItLink\" href=\"../c50b73f2d168f6a3012768bd45c62ea92218bcbc0/expr.ipynb\"><img src=\"../c50b73f2d168f6a3012768bd45c62ea92218bcbc0/expr.png\" style=\"display:inline;vertical-align:middle;\" /></a></td></tr>\n",
       "<tr><td>10</td><td>Operation</td><td>operator:&nbsp;20<br>operands:&nbsp;19<br></td><td><a class=\"ProveItLink\" href=\"../dc7d96b1022c0165a0469ead301debeb324b9c180/expr.ipynb\"><img src=\"../dc7d96b1022c0165a0469ead301debeb324b9c180/expr.png\" style=\"display:inline;vertical-align:middle;\" /></a></td></tr>\n",
       "<tr><td>11</td><td>Operation</td><td>operator:&nbsp;20<br>operands:&nbsp;21<br></td><td><a class=\"ProveItLink\" href=\"../be49e688692580141a3851882e8c02185518c0cd0/expr.ipynb\"><img src=\"../be49e688692580141a3851882e8c02185518c0cd0/expr.png\" style=\"display:inline;vertical-align:middle;\" /></a></td></tr>\n",
       "<tr><td>12</td><td>Operation</td><td>operator:&nbsp;22<br>operands:&nbsp;23<br></td><td><a class=\"ProveItLink\" href=\"../7546205bf26c49b7e0ee36644282bc6169c2384a0/expr.ipynb\"><img src=\"../7546205bf26c49b7e0ee36644282bc6169c2384a0/expr.png\" style=\"display:inline;vertical-align:middle;\" /></a></td></tr>\n",
       "<tr><td>13</td><td>Operation</td><td>operator:&nbsp;25<br>operands:&nbsp;24<br></td><td><a class=\"ProveItLink\" href=\"../e0a020e9d252a135566be36c4415c62a49aadfe60/expr.ipynb\"><img src=\"../e0a020e9d252a135566be36c4415c62a49aadfe60/expr.png\" style=\"display:inline;vertical-align:middle;\" /></a></td></tr>\n",
       "<tr><td>14</td><td>Operation</td><td>operator:&nbsp;25<br>operands:&nbsp;26<br></td><td><a class=\"ProveItLink\" href=\"../f9e8da7d60cac2eb63406fc70f495ff193374a100/expr.ipynb\"><img src=\"../f9e8da7d60cac2eb63406fc70f495ff193374a100/expr.png\" style=\"display:inline;vertical-align:middle;\" /></a></td></tr>\n",
       "<tr><td>15</td><td>ExprTuple</td><td>30</td><td><a class=\"ProveItLink\" href=\"../0dc6c42a8c40e6a1c0a1b3cc41b6e5aa01a661750/expr.ipynb\"><img src=\"../0dc6c42a8c40e6a1c0a1b3cc41b6e5aa01a661750/expr.png\" style=\"display:inline;vertical-align:middle;\" /></a></td></tr>\n",
       "<tr><td>16</td><td>ExprTuple</td><td>31</td><td><a class=\"ProveItLink\" href=\"../a7ff2e5307eface0f17839b0263ddd504c2c69e40/expr.ipynb\"><img src=\"../a7ff2e5307eface0f17839b0263ddd504c2c69e40/expr.png\" style=\"display:inline;vertical-align:middle;\" /></a></td></tr>\n",
       "<tr><td>17</td><td>ExprTuple</td><td>30, 27</td><td><a class=\"ProveItLink\" href=\"../a127b67d6fcf2b758c6caef10ddcbab4c31e02f40/expr.ipynb\"><img src=\"../a127b67d6fcf2b758c6caef10ddcbab4c31e02f40/expr.png\" style=\"display:inline;vertical-align:middle;\" /></a></td></tr>\n",
       "<tr><td>18</td><td>ExprTuple</td><td>31, 27</td><td><a class=\"ProveItLink\" href=\"../5e8e479d9a496304ae582f3d8c5c79a5903c707c0/expr.ipynb\"><img src=\"../5e8e479d9a496304ae582f3d8c5c79a5903c707c0/expr.png\" style=\"display:inline;vertical-align:middle;\" /></a></td></tr>\n",
       "<tr><td>19</td><td>ExprTuple</td><td>35, 27</td><td><a class=\"ProveItLink\" href=\"../a570f15c222d5872d396efc1550d1d4203d129bf0/expr.ipynb\"><img src=\"../a570f15c222d5872d396efc1550d1d4203d129bf0/expr.png\" style=\"display:inline;vertical-align:middle;\" /></a></td></tr>\n",
       "<tr><td>20</td><td>Literal</td><td></td><td><a class=\"ProveItLink\" href=\"../../../../../sets/membership/__pv_it/common/477487d8796864d23d5810f83761435f25167f690/expr.ipynb\"><img src=\"../../../../../sets/membership/__pv_it/common/477487d8796864d23d5810f83761435f25167f690/expr.png\" style=\"display:inline;vertical-align:middle;\" /></a></td></tr>\n",
       "<tr><td>21</td><td>ExprTuple</td><td>36, 27</td><td><a class=\"ProveItLink\" href=\"../43e2eb73d7e3419d2c637d8b92dc3ba259f667940/expr.ipynb\"><img src=\"../43e2eb73d7e3419d2c637d8b92dc3ba259f667940/expr.png\" style=\"display:inline;vertical-align:middle;\" /></a></td></tr>\n",
       "<tr><td>22</td><td>Literal</td><td></td><td><a class=\"ProveItLink\" href=\"../../common/ef8e59262ff8e0133aa1ca984dd6b3a41bf69d5b0/expr.ipynb\"><img src=\"../../common/ef8e59262ff8e0133aa1ca984dd6b3a41bf69d5b0/expr.png\" style=\"display:inline;vertical-align:middle;\" /></a></td></tr>\n",
       "<tr><td>23</td><td>ExprTuple</td><td>28, 29</td><td><a class=\"ProveItLink\" href=\"../80ba91ec6dc9c61f12e533d6c5e6707315e6bd820/expr.ipynb\"><img src=\"../80ba91ec6dc9c61f12e533d6c5e6707315e6bd820/expr.png\" style=\"display:inline;vertical-align:middle;\" /></a></td></tr>\n",
       "<tr><td>24</td><td>ExprTuple</td><td>30, 35</td><td><a class=\"ProveItLink\" href=\"../78265c0185c64ef6296f70f467400ed6e58161d40/expr.ipynb\"><img src=\"../78265c0185c64ef6296f70f467400ed6e58161d40/expr.png\" style=\"display:inline;vertical-align:middle;\" /></a></td></tr>\n",
       "<tr><td>25</td><td>Literal</td><td></td><td><a class=\"ProveItLink\" href=\"../../../../implication/__pv_it/common/02bdb382575728da8cdbaed545b9096ea7a1bd5b0/expr.ipynb\"><img src=\"../../../../implication/__pv_it/common/02bdb382575728da8cdbaed545b9096ea7a1bd5b0/expr.png\" style=\"display:inline;vertical-align:middle;\" /></a></td></tr>\n",
       "<tr><td>26</td><td>ExprTuple</td><td>31, 36</td><td><a class=\"ProveItLink\" href=\"../dbd2db8e0ef0c90a6a34820f9c5111331f45a25f0/expr.ipynb\"><img src=\"../dbd2db8e0ef0c90a6a34820f9c5111331f45a25f0/expr.png\" style=\"display:inline;vertical-align:middle;\" /></a></td></tr>\n",
       "<tr><td>27</td><td>Literal</td><td></td><td><a class=\"ProveItLink\" href=\"../../../../__pv_it/common/97424376de9815ad99f7180e3191b1cf4ab2a5710/expr.ipynb\"><img src=\"../../../../__pv_it/common/97424376de9815ad99f7180e3191b1cf4ab2a5710/expr.png\" style=\"display:inline;vertical-align:middle;\" /></a></td></tr>\n",
       "<tr><td>28</td><td>Operation</td><td>operator:&nbsp;33<br>operand:&nbsp;35<br></td><td><a class=\"ProveItLink\" href=\"../de9cd218afa6090be4c9a818a5bbda5441f069430/expr.ipynb\"><img src=\"../de9cd218afa6090be4c9a818a5bbda5441f069430/expr.png\" style=\"display:inline;vertical-align:middle;\" /></a></td></tr>\n",
       "<tr><td>29</td><td>Operation</td><td>operator:&nbsp;33<br>operand:&nbsp;36<br></td><td><a class=\"ProveItLink\" href=\"../2b11098212d4c51606d042e8d9ebd25a0ecf75520/expr.ipynb\"><img src=\"../2b11098212d4c51606d042e8d9ebd25a0ecf75520/expr.png\" style=\"display:inline;vertical-align:middle;\" /></a></td></tr>\n",
       "<tr><td>30</td><td>Variable</td><td></td><td><a class=\"ProveItLink\" href=\"../../../../../../__pv_it/common/09585084922504426caf1db2ff588a23a0932a960/expr.ipynb\"><img src=\"../../../../../../__pv_it/common/09585084922504426caf1db2ff588a23a0932a960/expr.png\" style=\"display:inline;vertical-align:middle;\" /></a></td></tr>\n",
       "<tr><td>31</td><td>Variable</td><td></td><td><a class=\"ProveItLink\" href=\"../../../../../../__pv_it/common/a9162d1c3cc0470c02e5daf414500903a7a419230/expr.ipynb\"><img src=\"../../../../../../__pv_it/common/a9162d1c3cc0470c02e5daf414500903a7a419230/expr.png\" style=\"display:inline;vertical-align:middle;\" /></a></td></tr>\n",
       "<tr><td>32</td><td>ExprTuple</td><td>35</td><td><a class=\"ProveItLink\" href=\"../7cd89a0b28fb2652e5a208f6667ea21fd78cb7420/expr.ipynb\"><img src=\"../7cd89a0b28fb2652e5a208f6667ea21fd78cb7420/expr.png\" style=\"display:inline;vertical-align:middle;\" /></a></td></tr>\n",
       "<tr><td>33</td><td>Literal</td><td></td><td><a class=\"ProveItLink\" href=\"../../../../negation/__pv_it/common/1a811a997e5d75fdb50cdaf74f302daccad39af40/expr.ipynb\"><img src=\"../../../../negation/__pv_it/common/1a811a997e5d75fdb50cdaf74f302daccad39af40/expr.png\" style=\"display:inline;vertical-align:middle;\" /></a></td></tr>\n",
       "<tr><td>34</td><td>ExprTuple</td><td>36</td><td><a class=\"ProveItLink\" href=\"../c92bf9e71677950a95b5eb5b13e14c427ed6612a0/expr.ipynb\"><img src=\"../c92bf9e71677950a95b5eb5b13e14c427ed6612a0/expr.png\" style=\"display:inline;vertical-align:middle;\" /></a></td></tr>\n",
       "<tr><td>35</td><td>Variable</td><td></td><td><a class=\"ProveItLink\" href=\"../../../../../../__pv_it/common/9fba9f29e823606ff4fdf2f1c6d5d08d906e850a0/expr.ipynb\"><img src=\"../../../../../../__pv_it/common/9fba9f29e823606ff4fdf2f1c6d5d08d906e850a0/expr.png\" style=\"display:inline;vertical-align:middle;\" /></a></td></tr>\n",
       "<tr><td>36</td><td>Variable</td><td></td><td><a class=\"ProveItLink\" href=\"../../../../../../__pv_it/common/8d36d28f3636cdaa66f8b7d56eb3bbf0b50f70200/expr.ipynb\"><img src=\"../../../../../../__pv_it/common/8d36d28f3636cdaa66f8b7d56eb3bbf0b50f70200/expr.png\" style=\"display:inline;vertical-align:middle;\" /></a></td></tr>\n",
       "</table>\n"
      ],
      "text/plain": [
       "0. {[not](A) or [not](B) if A in BOOLEAN ,  B in BOOLEAN ,  C in BOOLEAN ,  D in BOOLEAN ,  [not](C) or [not](D) ,  A => C ,  B => D.\n",
       "   core type: Conditional\n",
       "   value: 1\n",
       "   condition: 2\n",
       "1. [not](A) or [not](B)\n",
       "   core type: Operation\n",
       "   operator: 22\n",
       "   operands: 3\n",
       "2. (A in BOOLEAN) and (B in BOOLEAN) and (C in BOOLEAN) and (D in BOOLEAN) and ([not](C) or [not](D)) and (A => C) and (B => D)\n",
       "   core type: Operation\n",
       "   operator: 4\n",
       "   operands: 5\n",
       "3. ([not](A), [not](B))\n",
       "   core type: ExprTuple\n",
       "   sub-expressions: 6, 7\n",
       "4. and\n",
       "   core type: Literal\n",
       "   sub-expressions: \n",
       "5. (A in BOOLEAN, B in BOOLEAN, C in BOOLEAN, D in BOOLEAN, [not](C) or [not](D), A => C, B => D)\n",
       "   core type: ExprTuple\n",
       "   sub-expressions: 8, 9, 10, 11, 12, 13, 14\n",
       "6. [not](A)\n",
       "   core type: Operation\n",
       "   operator: 33\n",
       "   operand: 30\n",
       "7. [not](B)\n",
       "   core type: Operation\n",
       "   operator: 33\n",
       "   operand: 31\n",
       "8. A in BOOLEAN\n",
       "   core type: Operation\n",
       "   operator: 20\n",
       "   operands: 17\n",
       "9. B in BOOLEAN\n",
       "   core type: Operation\n",
       "   operator: 20\n",
       "   operands: 18\n",
       "10. C in BOOLEAN\n",
       "    core type: Operation\n",
       "    operator: 20\n",
       "    operands: 19\n",
       "11. D in BOOLEAN\n",
       "    core type: Operation\n",
       "    operator: 20\n",
       "    operands: 21\n",
       "12. [not](C) or [not](D)\n",
       "    core type: Operation\n",
       "    operator: 22\n",
       "    operands: 23\n",
       "13. A => C\n",
       "    core type: Operation\n",
       "    operator: 25\n",
       "    operands: 24\n",
       "14. B => D\n",
       "    core type: Operation\n",
       "    operator: 25\n",
       "    operands: 26\n",
       "15. (A)\n",
       "    core type: ExprTuple\n",
       "    sub-expressions: 30\n",
       "16. (B)\n",
       "    core type: ExprTuple\n",
       "    sub-expressions: 31\n",
       "17. (A, BOOLEAN)\n",
       "    core type: ExprTuple\n",
       "    sub-expressions: 30, 27\n",
       "18. (B, BOOLEAN)\n",
       "    core type: ExprTuple\n",
       "    sub-expressions: 31, 27\n",
       "19. (C, BOOLEAN)\n",
       "    core type: ExprTuple\n",
       "    sub-expressions: 35, 27\n",
       "20. in\n",
       "    core type: Literal\n",
       "    sub-expressions: \n",
       "21. (D, BOOLEAN)\n",
       "    core type: ExprTuple\n",
       "    sub-expressions: 36, 27\n",
       "22. or\n",
       "    core type: Literal\n",
       "    sub-expressions: \n",
       "23. ([not](C), [not](D))\n",
       "    core type: ExprTuple\n",
       "    sub-expressions: 28, 29\n",
       "24. (A, C)\n",
       "    core type: ExprTuple\n",
       "    sub-expressions: 30, 35\n",
       "25. =>\n",
       "    core type: Literal\n",
       "    sub-expressions: \n",
       "26. (B, D)\n",
       "    core type: ExprTuple\n",
       "    sub-expressions: 31, 36\n",
       "27. BOOLEAN\n",
       "    core type: Literal\n",
       "    sub-expressions: \n",
       "28. [not](C)\n",
       "    core type: Operation\n",
       "    operator: 33\n",
       "    operand: 35\n",
       "29. [not](D)\n",
       "    core type: Operation\n",
       "    operator: 33\n",
       "    operand: 36\n",
       "30. A\n",
       "    core type: Variable\n",
       "    sub-expressions: \n",
       "31. B\n",
       "    core type: Variable\n",
       "    sub-expressions: \n",
       "32. (C)\n",
       "    core type: ExprTuple\n",
       "    sub-expressions: 35\n",
       "33. not\n",
       "    core type: Literal\n",
       "    sub-expressions: \n",
       "34. (D)\n",
       "    core type: ExprTuple\n",
       "    sub-expressions: 36\n",
       "35. C\n",
       "    core type: Variable\n",
       "    sub-expressions: \n",
       "36. D\n",
       "    core type: Variable\n",
       "    sub-expressions: "
      ]
     },
     "metadata": {},
     "output_type": "display_data"
    }
   ],
   "source": [
    "# display the expression information\n",
    "stored_expr.expr_info()"
   ]
  },
  {
   "cell_type": "code",
   "execution_count": null,
   "metadata": {},
   "outputs": [],
   "source": []
  }
 ],
 "metadata": {
  "kernelspec": {
   "display_name": "Python 3",
   "language": "python",
   "name": "python3"
  }
 },
 "nbformat": 4,
 "nbformat_minor": 0
}