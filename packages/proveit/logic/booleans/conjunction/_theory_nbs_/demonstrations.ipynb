{
 "cells": [
  {
   "cell_type": "markdown",
   "metadata": {},
   "source": [
    "Demonstrations for the theory of <a class=\"ProveItLink\" href=\"theory.ipynb\">proveit.logic.booleans.conjunction</a>\n",
    "========"
   ]
  },
  {
   "cell_type": "code",
   "execution_count": 1,
   "metadata": {},
   "outputs": [],
   "source": [
    "from proveit import ExprTuple\n",
    "from proveit import a, b, c, d, e, f, A,B,C,D,E,F,G,H, i, j, k, l, m,n\n",
    "from proveit.core_expr_types import A_1_to_m, B_1_to_n,C_1_to_n\n",
    "from proveit.logic import And, Or, Not, TRUE, FALSE, Equals, in_bool, Boolean\n",
    "from proveit.numbers import zero, one, two, three,five,Add, Exp, subtract\n",
    "%begin demonstrations"
   ]
  },
  {
   "cell_type": "code",
   "execution_count": 2,
   "metadata": {},
   "outputs": [],
   "source": [
    "#And(A,B,C,D,E,F).derive_some_from_and(3, assumptions=[And(A,B,C,var_iter(D, one, one),E,F)])"
   ]
  },
  {
   "cell_type": "code",
   "execution_count": 3,
   "metadata": {},
   "outputs": [],
   "source": [
    "#And(var_iter(A, one, five), var_iter(B, one, two), var_iter(C, one, three)).derive_some_from_and(1)"
   ]
  },
  {
   "cell_type": "code",
   "execution_count": 4,
   "metadata": {},
   "outputs": [],
   "source": [
    "#And(A_1_to_m, B_1_to_n, C_1_to_n).derive_some_from_and(1)"
   ]
  },
  {
   "cell_type": "code",
   "execution_count": 5,
   "metadata": {},
   "outputs": [
    {
     "data": {
      "text/html": [
       "<a class=\"ProveItLink\" href=\"../__pv_it/demonstrations/0f3672724a8d4d77dfa2595ffd7ee911776ce7ee0/expr.ipynb\"><img src=\"data:image/png;base64,iVBORw0KGgoAAAANSUhEUgAAAT8AAAAVBAMAAADCyPR8AAAAMFBMVEX///8AAAAAAAAAAAAAAAAA\n",
       "AAAAAAAAAAAAAAAAAAAAAAAAAAAAAAAAAAAAAAAAAAAv3aB7AAAAD3RSTlMAInZUiRDNmWbv3US7\n",
       "qzJazP2FAAAACXBIWXMAAA7EAAAOxAGVKw4bAAACtklEQVRIx6WWP2gTcRTHv8klzZ9LY3ASEXri\n",
       "4iKUUgq69AiuhbgoSiUBEYpTlFDEKZMOCmaog2Y5iA5GLMGp4nLN6hIcRBfJ3MVWjQiC+Lvf3SX5\n",
       "vXsXfqQ/eAn5vHvf98373T8AJXCrhLjMJM/TBMMTmFsOyWUu5VE+E6x3sdS0ovwc5pbDKpAq36Wp\n",
       "1SDYVXwl2jVj6flIgWHPL5euAbdwg4zYo16w6+b2SHzejqULFVpxFfPLZZrIOki5Pt4L0oLK4FfS\n",
       "q30U/tqjNFunBfehLWc2Cc0BhQGMkU9XgmwuiBmKuXBOKxH6jBa09OUMi9A14EQdxZ9qs7UgZigu\n",
       "NDmDkm7RU7CmL6caFLQBVIXBP2qzhh/mhSvlfvHyR04xNeAMSrpBjs/Y+nKqQUHFv12yUfyhNtvy\n",
       "I1X4hOpjXOQUszXOoKQPpauuXIOpserIqQYF7fgGf6nNOn58yLtYsvCUUzRanEFJqYP8sr6calDQ\n",
       "tthiG6Y3wQfd7vNu962XbftRqfawXsG2vFXIgeyOa4uHUGsm9DtxkOtF5NJ3pNxQLRRTf/3Cn/qY\n",
       "tuVFYpCLJDCIdXhyO9xfNtkJSvo+xqCOnDpBQcXkCy6yI3aL8Rl4CfMoze2Jw26xRy+RczDcYh05\n",
       "ssUO+uJMbCFTU5v1g9hB+i8Wa6e4s9plLxKPPiEjKlj6cuQiceUtoYPrQ7XZhh+Jf8geomDbqmLq\n",
       "KLx3TNdMaIMYDO89OnJjgyE9EF/Xyt9IswM/TAfJOsx76pN68evvL2LfemrNFH1Dn/uOvlxocEzz\n",
       "w+mDQ4MeVTORdZrWjGnCocfuQlvOsAhVn+zhg9+j0Wd+5AVAqZnxWsC/QrByZpPSffb4/dhM+I7s\n",
       "xtIzEVwoHUNuky3YjM1M99R1knaPIZewWO9WXCZYZ2Npkul1EvPK/QfdywWjizNdjQAAAABJRU5E\n",
       "rkJggg==\n",
       "\" style=\"display:inline;vertical-align:middle;\" /></a>"
      ],
      "text/plain": [
       "(0 + ((m - 1) + 1)) = ((m - 1) + 1)"
      ]
     },
     "metadata": {},
     "output_type": "display_data"
    }
   ],
   "source": [
    "Equals(Add(zero, Add(subtract(m, one), one)), Add(subtract(m, one), one))"
   ]
  },
  {
   "cell_type": "code",
   "execution_count": 6,
   "metadata": {},
   "outputs": [],
   "source": [
    "#Equals(Add(zero, Add(subtract(m, one), one)), Add(subtract(m, one), one)).prove()"
   ]
  },
  {
   "cell_type": "code",
   "execution_count": 7,
   "metadata": {},
   "outputs": [
    {
     "data": {
      "text/html": [
       "<strong id=\"expr\">expr:</strong> <a class=\"ProveItLink\" href=\"../__pv_it/demonstrations/c1e52b9ad88920dea8fd63330ded1bd3d79c4e5c0/expr.ipynb\"><img src=\"data:image/png;base64,iVBORw0KGgoAAAANSUhEUgAAALEAAAASBAMAAADmjyK2AAAAMFBMVEX///8AAAAAAAAAAAAAAAAA\n",
       "AAAAAAAAAAAAAAAAAAAAAAAAAAAAAAAAAAAAAAAAAAAv3aB7AAAAD3RSTlMAIquJdkTvuxBmmd1U\n",
       "zTKBpmoTAAAACXBIWXMAAA7EAAAOxAGVKw4bAAABsUlEQVQ4y7WSP0jDUBDGr39s0jRNi6uIhYqT\n",
       "QrF1UiRiB3UonXRw6OIiOBQH58xCSRGXTtZREBQdBEF46OZi6+DglMm5g0IFBd+91vbey5ApN7zw\n",
       "477vvcvdAaihH11DQFhv7QCFUXQorgw+6bbMap5HhgUIFj8YLfZBso1YzfOoOQGCgx1ac/ykSmxj\n",
       "VvM8lgMEE30pkbLqxDZm8PN7gCAmRhXJr9kCn6Arvq/leYmhtOlRjuQrP5JAL205kiE5d4Oz2s5q\n",
       "g9q78Cx0v46bJQxTzKhTVg2w61kFynxUWKu+D4ao3cpBCp82+5CwCcOtzGjoUEPkG+JVagCYwZ80\n",
       "epASL0Y9iOMN3JYpUB5OY8SqQfssL1Hm8YJHog6uGGmDl4PFc1uNEU4Mx0JYNmRysuB/CVwbzkZr\n",
       "fjlY5yuHsGuDlPcbFAGPQ3EzgwUTJ4bPTaPQ452k3ASoEvYZsDeMMI89PDTbvDdwU0TLeOejTa1N\n",
       "mS9GzCPsMyQ7cJwlzGf6JZZsdnWygv3HDlg8q+cvgDIUWxtSXjXAesuWGMwehBRGLqSLH9MspJvv\n",
       "GmE14/Qczz+fNIwd7EVspQAAAABJRU5ErkJggg==\n",
       "\" style=\"display:inline;vertical-align:middle;\" /></a><br>"
      ],
      "text/plain": [
       "<IPython.core.display.HTML object>"
      ]
     },
     "metadata": {},
     "output_type": "display_data"
    }
   ],
   "source": [
    "expr = And(a, b, c, d, e, f)"
   ]
  },
  {
   "cell_type": "code",
   "execution_count": 8,
   "metadata": {},
   "outputs": [
    {
     "data": {
      "text/html": [
       "<a class=\"ProveItLink\" href=\"../__pv_it/demonstrations/5a4a1fe8b76237a37cb65795a4fb21a6af12f0960/expr.ipynb\"><img src=\"data:image/png;base64,iVBORw0KGgoAAAANSUhEUgAAAHwAAAArBAMAAABIu/HCAAAAMFBMVEX///8AAAAAAAAAAAAAAAAA\n",
       "AAAAAAAAAAAAAAAAAAAAAAAAAAAAAAAAAAAAAAAAAAAv3aB7AAAAD3RSTlMAIquJdkTvuxBmmd1U\n",
       "zTKBpmoTAAAACXBIWXMAAA7EAAAOxAGVKw4bAAACKklEQVRIx+1VQUgbQRR9ujHZbNYYvBcDKpRi\n",
       "JQcPSotEXA96EE9eRRBE24MHEU81VPAiJUG8tsb2YAXFgBcRlYh40YOrZw+xFnoqDUUhghX/nw3Z\n",
       "2b24SW7FD5k/7828nZn/J38AL6bOZFCRvbVcfboitbpv+YZsRXLf0pDwI4mK5KHwlPBvylLVNPfE\n",
       "RecI58JfGG1lyIcjgYLonONEhOBfIhnxHrAJaCJT4ShCfGq9AH/cs1zLIxTjTm0OPpZpJhpinuX+\n",
       "KSRFxD/RTngb9LER76lLxrFSujQbVtq3vKcumcVrnUPFK79geY7C4dkCcX1XIx/kcwdyFINUoIxb\n",
       "q7Z0Nw5y5HjDYfqG2ryOZ3u2/95+Tz4141snNYqjEEjo3k24sNL+ntpFUx61UV3BRbgn+I9nqe1v\n",
       "lUdtpGRchHuC9XZkfsmjNiq+a85hGYu3Q4/Vc11SjC8SAho7/mQdxLzx3YGx9O4VLxLRaZmaPayh\n",
       "hOjgo5hLOIgDXMuY7IabH8COKMVjNgIWUtiETDSl0CdjWvGB23bAQKkOW4gwsO0g5ozeIRnTMfJc\n",
       "FikPi8B4sUhaiLF66yD+uiYUM8O3QMuqN/ad0OhHOJiXCbgmcAWP8vvDpzBxR8GxEdR71JqHEsFH\n",
       "0WUM69Fc5t4HDnu3jYBpnKbTMvEZ6qqMKZgci5fc+wmlazlhI+Bj71VLTiZ8XUJZwsBZdf/Ir9WI\n",
       "9ehlNfLQrFmNPDjAV/8Rc0STFk/SiaMAAAAASUVORK5CYII=\n",
       "\" style=\"display:inline;vertical-align:middle;\" /></a>"
      ],
      "text/plain": [
       "a and b \\\\  and c and d and e and f"
      ]
     },
     "metadata": {},
     "output_type": "display_data"
    }
   ],
   "source": [
    "expr.copy().with_wrapping_at(3)"
   ]
  },
  {
   "cell_type": "code",
   "execution_count": 9,
   "metadata": {},
   "outputs": [
    {
     "data": {
      "text/html": [
       "<strong id=\"new_expr\">new_expr:</strong> <a class=\"ProveItLink\" href=\"../__pv_it/demonstrations/5a4a1fe8b76237a37cb65795a4fb21a6af12f0960/expr.ipynb\"><img src=\"data:image/png;base64,iVBORw0KGgoAAAANSUhEUgAAAHwAAAArBAMAAABIu/HCAAAAMFBMVEX///8AAAAAAAAAAAAAAAAA\n",
       "AAAAAAAAAAAAAAAAAAAAAAAAAAAAAAAAAAAAAAAAAAAv3aB7AAAAD3RSTlMAIquJdkTvuxBmmd1U\n",
       "zTKBpmoTAAAACXBIWXMAAA7EAAAOxAGVKw4bAAACKklEQVRIx+1VQUgbQRR9ujHZbNYYvBcDKpRi\n",
       "JQcPSotEXA96EE9eRRBE24MHEU81VPAiJUG8tsb2YAXFgBcRlYh40YOrZw+xFnoqDUUhghX/nw3Z\n",
       "2b24SW7FD5k/7828nZn/J38AL6bOZFCRvbVcfboitbpv+YZsRXLf0pDwI4mK5KHwlPBvylLVNPfE\n",
       "RecI58JfGG1lyIcjgYLonONEhOBfIhnxHrAJaCJT4ShCfGq9AH/cs1zLIxTjTm0OPpZpJhpinuX+\n",
       "KSRFxD/RTngb9LER76lLxrFSujQbVtq3vKcumcVrnUPFK79geY7C4dkCcX1XIx/kcwdyFINUoIxb\n",
       "q7Z0Nw5y5HjDYfqG2ryOZ3u2/95+Tz4141snNYqjEEjo3k24sNL+ntpFUx61UV3BRbgn+I9nqe1v\n",
       "lUdtpGRchHuC9XZkfsmjNiq+a85hGYu3Q4/Vc11SjC8SAho7/mQdxLzx3YGx9O4VLxLRaZmaPayh\n",
       "hOjgo5hLOIgDXMuY7IabH8COKMVjNgIWUtiETDSl0CdjWvGB23bAQKkOW4gwsO0g5ozeIRnTMfJc\n",
       "FikPi8B4sUhaiLF66yD+uiYUM8O3QMuqN/ad0OhHOJiXCbgmcAWP8vvDpzBxR8GxEdR71JqHEsFH\n",
       "0WUM69Fc5t4HDnu3jYBpnKbTMvEZ6qqMKZgci5fc+wmlazlhI+Bj71VLTiZ8XUJZwsBZdf/Ir9WI\n",
       "9ehlNfLQrFmNPDjAV/8Rc0STFk/SiaMAAAAASUVORK5CYII=\n",
       "\" style=\"display:inline;vertical-align:middle;\" /></a><br>"
      ],
      "text/plain": [
       "<IPython.core.display.HTML object>"
      ]
     },
     "metadata": {},
     "output_type": "display_data"
    }
   ],
   "source": [
    "new_expr = expr.copy().with_wrapping_at(3)"
   ]
  },
  {
   "cell_type": "code",
   "execution_count": 10,
   "metadata": {},
   "outputs": [
    {
     "data": {
      "text/html": [
       "<a class=\"ProveItLink\" href=\"../__pv_it/demonstrations/c1e52b9ad88920dea8fd63330ded1bd3d79c4e5c0/expr.ipynb\"><img src=\"data:image/png;base64,iVBORw0KGgoAAAANSUhEUgAAALEAAAASBAMAAADmjyK2AAAAMFBMVEX///8AAAAAAAAAAAAAAAAA\n",
       "AAAAAAAAAAAAAAAAAAAAAAAAAAAAAAAAAAAAAAAAAAAv3aB7AAAAD3RSTlMAIquJdkTvuxBmmd1U\n",
       "zTKBpmoTAAAACXBIWXMAAA7EAAAOxAGVKw4bAAABsUlEQVQ4y7WSP0jDUBDGr39s0jRNi6uIhYqT\n",
       "QrF1UiRiB3UonXRw6OIiOBQH58xCSRGXTtZREBQdBEF46OZi6+DglMm5g0IFBd+91vbey5ApN7zw\n",
       "477vvcvdAaihH11DQFhv7QCFUXQorgw+6bbMap5HhgUIFj8YLfZBso1YzfOoOQGCgx1ac/ykSmxj\n",
       "VvM8lgMEE30pkbLqxDZm8PN7gCAmRhXJr9kCn6Arvq/leYmhtOlRjuQrP5JAL205kiE5d4Oz2s5q\n",
       "g9q78Cx0v46bJQxTzKhTVg2w61kFynxUWKu+D4ao3cpBCp82+5CwCcOtzGjoUEPkG+JVagCYwZ80\n",
       "epASL0Y9iOMN3JYpUB5OY8SqQfssL1Hm8YJHog6uGGmDl4PFc1uNEU4Mx0JYNmRysuB/CVwbzkZr\n",
       "fjlY5yuHsGuDlPcbFAGPQ3EzgwUTJ4bPTaPQ452k3ASoEvYZsDeMMI89PDTbvDdwU0TLeOejTa1N\n",
       "mS9GzCPsMyQ7cJwlzGf6JZZsdnWygv3HDlg8q+cvgDIUWxtSXjXAesuWGMwehBRGLqSLH9MspJvv\n",
       "GmE14/Qczz+fNIwd7EVspQAAAABJRU5ErkJggg==\n",
       "\" style=\"display:inline;vertical-align:middle;\" /></a>"
      ],
      "text/plain": [
       "a and b and c and d and e and f"
      ]
     },
     "metadata": {},
     "output_type": "display_data"
    }
   ],
   "source": [
    "expr"
   ]
  },
  {
   "cell_type": "code",
   "execution_count": 11,
   "metadata": {},
   "outputs": [
    {
     "data": {
      "text/html": [
       "<a class=\"ProveItLink\" href=\"../__pv_it/demonstrations/5a4a1fe8b76237a37cb65795a4fb21a6af12f0960/expr.ipynb\"><img src=\"data:image/png;base64,iVBORw0KGgoAAAANSUhEUgAAAHwAAAArBAMAAABIu/HCAAAAMFBMVEX///8AAAAAAAAAAAAAAAAA\n",
       "AAAAAAAAAAAAAAAAAAAAAAAAAAAAAAAAAAAAAAAAAAAv3aB7AAAAD3RSTlMAIquJdkTvuxBmmd1U\n",
       "zTKBpmoTAAAACXBIWXMAAA7EAAAOxAGVKw4bAAACKklEQVRIx+1VQUgbQRR9ujHZbNYYvBcDKpRi\n",
       "JQcPSotEXA96EE9eRRBE24MHEU81VPAiJUG8tsb2YAXFgBcRlYh40YOrZw+xFnoqDUUhghX/nw3Z\n",
       "2b24SW7FD5k/7828nZn/J38AL6bOZFCRvbVcfboitbpv+YZsRXLf0pDwI4mK5KHwlPBvylLVNPfE\n",
       "RecI58JfGG1lyIcjgYLonONEhOBfIhnxHrAJaCJT4ShCfGq9AH/cs1zLIxTjTm0OPpZpJhpinuX+\n",
       "KSRFxD/RTngb9LER76lLxrFSujQbVtq3vKcumcVrnUPFK79geY7C4dkCcX1XIx/kcwdyFINUoIxb\n",
       "q7Z0Nw5y5HjDYfqG2ryOZ3u2/95+Tz4141snNYqjEEjo3k24sNL+ntpFUx61UV3BRbgn+I9nqe1v\n",
       "lUdtpGRchHuC9XZkfsmjNiq+a85hGYu3Q4/Vc11SjC8SAho7/mQdxLzx3YGx9O4VLxLRaZmaPayh\n",
       "hOjgo5hLOIgDXMuY7IabH8COKMVjNgIWUtiETDSl0CdjWvGB23bAQKkOW4gwsO0g5ozeIRnTMfJc\n",
       "FikPi8B4sUhaiLF66yD+uiYUM8O3QMuqN/ad0OhHOJiXCbgmcAWP8vvDpzBxR8GxEdR71JqHEsFH\n",
       "0WUM69Fc5t4HDnu3jYBpnKbTMvEZ6qqMKZgci5fc+wmlazlhI+Bj71VLTiZ8XUJZwsBZdf/Ir9WI\n",
       "9ehlNfLQrFmNPDjAV/8Rc0STFk/SiaMAAAAASUVORK5CYII=\n",
       "\" style=\"display:inline;vertical-align:middle;\" /></a>"
      ],
      "text/plain": [
       "a and b \\\\  and c and d and e and f"
      ]
     },
     "metadata": {},
     "output_type": "display_data"
    }
   ],
   "source": [
    "new_expr"
   ]
  },
  {
   "cell_type": "code",
   "execution_count": 12,
   "metadata": {},
   "outputs": [
    {
     "data": {
      "text/html": [
       "<strong id=\"expr\">expr:</strong> <a class=\"ProveItLink\" href=\"../__pv_it/demonstrations/9f285a4751f06a56cd481490f010c76513904bfe0/expr.ipynb\"><img src=\"data:image/png;base64,iVBORw0KGgoAAAANSUhEUgAAAT8AAAAVBAMAAADCyPR8AAAAMFBMVEX///8AAAAAAAAAAAAAAAAA\n",
       "AAAAAAAAAAAAAAAAAAAAAAAAAAAAAAAAAAAAAAAAAAAv3aB7AAAAD3RSTlMAInZUiRDNmWbv3US7\n",
       "qzJazP2FAAAACXBIWXMAAA7EAAAOxAGVKw4bAAAC1ElEQVRIx7WWP2gTURzHf5dLckmaJjd1KIjX\n",
       "ouhUbih1EkPtpERuqouQdhDrIETs0M3gYhep6CJ0CVR0UQhuitCzm4MQNAhut9qpKBHBxd/7k+T3\n",
       "7r2LN3hvyOP7e9/P75ff3XsvAQAXUg03ReT/gtKY89OZ38QDmYMSXdbjhY9dPZjrxALLZp86arfb\n",
       "BlAs/AN11gKGFjbGkdmAgR5+FNuq5uOmnC/LLjYSfKqu+yZQLEwnm9856kz6K7GVaiRhqvl4KPO/\n",
       "kA12EnyqPgxMoFiYTj59z9Eyeajshc2NYKr5KItg7lFPyCSfqq8YQbEwlZwZiporZJm9g3tjmGg+\n",
       "iqLzSi3k80qST9W3jKBYmErmu6LmNk7WYIG/9znZA9xZ/KJoWD0fQb4vt/gmn7eTfERbg6WfYALF\n",
       "AnEWVs8FSqbSt9dtjm6heOtWh3yPRpBj37TwK2i5RMO874RQEpt7Ey7weSvJR7RIrINaRXgX1RpU\n",
       "4/5mM6IHWOcZOPxr1/pQYX3YQyh7RMNzpu3H1MNAs2+iWWL8cjooFyZB6zfketQEcJq9C0T38Vid\n",
       "QKVBm0S43qCad1s7UXreT/IRLRIbwHjF6o/Fq8pjBrgka6K9HEKrR7cJwoc+0WW+u2f4g1jH/ruy\n",
       "jtmnaJZYB7WK9b5Kjg4govjAWx7sAT1oeL3dD4hu8c7trnLODpJ8it4zgnrFGInjk6x5hHYfvtou\n",
       "uarqEW4SqvGe6EEpVG6qoyTfRMvEOqhVZC/cp5clwBN+lkNo4gbw7JcOvexnO9U21Xg08xE4DeWu\n",
       "byb5Jlom1kGtIp7W6y79uQHrD8/YgGMMfr52akmExSVZGOwA1bC2exa77Cm/lsdJPpJHJDaA8Ypw\n",
       "ZtdTNNj8ZCFaidL+95lXZcag05doqZ22zo4qswUvFv0R+iFlGSuMBTIFX62P0Rsp61Tjf9QzBR/c\n",
       "HaOWl67OgvZksgY5+hdZsgMANfePtAAAAABJRU5ErkJggg==\n",
       "\" style=\"display:inline;vertical-align:middle;\" /></a><br>"
      ],
      "text/plain": [
       "<IPython.core.display.HTML object>"
      ]
     },
     "metadata": {},
     "output_type": "display_data"
    }
   ],
   "source": [
    "expr = And(Or(a, b, c), Or(b, c, d), Or(d, e, f))"
   ]
  },
  {
   "cell_type": "code",
   "execution_count": 13,
   "metadata": {},
   "outputs": [
    {
     "data": {
      "text/html": [
       "<strong id=\"new_expr\">new_expr:</strong> <a class=\"ProveItLink\" href=\"../__pv_it/demonstrations/9f285a4751f06a56cd481490f010c76513904bfe0/expr.ipynb\"><img src=\"data:image/png;base64,iVBORw0KGgoAAAANSUhEUgAAAT8AAAAVBAMAAADCyPR8AAAAMFBMVEX///8AAAAAAAAAAAAAAAAA\n",
       "AAAAAAAAAAAAAAAAAAAAAAAAAAAAAAAAAAAAAAAAAAAv3aB7AAAAD3RSTlMAInZUiRDNmWbv3US7\n",
       "qzJazP2FAAAACXBIWXMAAA7EAAAOxAGVKw4bAAAC1ElEQVRIx7WWP2gTURzHf5dLckmaJjd1KIjX\n",
       "ouhUbih1EkPtpERuqouQdhDrIETs0M3gYhep6CJ0CVR0UQhuitCzm4MQNAhut9qpKBHBxd/7k+T3\n",
       "7r2LN3hvyOP7e9/P75ff3XsvAQAXUg03ReT/gtKY89OZ38QDmYMSXdbjhY9dPZjrxALLZp86arfb\n",
       "BlAs/AN11gKGFjbGkdmAgR5+FNuq5uOmnC/LLjYSfKqu+yZQLEwnm9856kz6K7GVaiRhqvl4KPO/\n",
       "kA12EnyqPgxMoFiYTj59z9Eyeajshc2NYKr5KItg7lFPyCSfqq8YQbEwlZwZiporZJm9g3tjmGg+\n",
       "iqLzSi3k80qST9W3jKBYmErmu6LmNk7WYIG/9znZA9xZ/KJoWD0fQb4vt/gmn7eTfERbg6WfYALF\n",
       "AnEWVs8FSqbSt9dtjm6heOtWh3yPRpBj37TwK2i5RMO874RQEpt7Ey7weSvJR7RIrINaRXgX1RpU\n",
       "4/5mM6IHWOcZOPxr1/pQYX3YQyh7RMNzpu3H1MNAs2+iWWL8cjooFyZB6zfketQEcJq9C0T38Vid\n",
       "QKVBm0S43qCad1s7UXreT/IRLRIbwHjF6o/Fq8pjBrgka6K9HEKrR7cJwoc+0WW+u2f4g1jH/ruy\n",
       "jtmnaJZYB7WK9b5Kjg4govjAWx7sAT1oeL3dD4hu8c7trnLODpJ8it4zgnrFGInjk6x5hHYfvtou\n",
       "uarqEW4SqvGe6EEpVG6qoyTfRMvEOqhVZC/cp5clwBN+lkNo4gbw7JcOvexnO9U21Xg08xE4DeWu\n",
       "byb5Jlom1kGtIp7W6y79uQHrD8/YgGMMfr52akmExSVZGOwA1bC2exa77Cm/lsdJPpJHJDaA8Ypw\n",
       "ZtdTNNj8ZCFaidL+95lXZcag05doqZ22zo4qswUvFv0R+iFlGSuMBTIFX62P0Rsp61Tjf9QzBR/c\n",
       "HaOWl67OgvZksgY5+hdZsgMANfePtAAAAABJRU5ErkJggg==\n",
       "\" style=\"display:inline;vertical-align:middle;\" /></a><br>"
      ],
      "text/plain": [
       "<IPython.core.display.HTML object>"
      ]
     },
     "metadata": {},
     "output_type": "display_data"
    }
   ],
   "source": [
    "new_expr = expr.copy()"
   ]
  },
  {
   "cell_type": "code",
   "execution_count": 14,
   "metadata": {},
   "outputs": [
    {
     "data": {
      "text/html": [
       "<a class=\"ProveItLink\" href=\"../__pv_it/demonstrations/79119af77af53f151da2e0238466478a96336e8b0/expr.ipynb\"><img src=\"data:image/png;base64,iVBORw0KGgoAAAANSUhEUgAAAUEAAAAyBAMAAAAw4XTZAAAAMFBMVEX///8AAAAAAAAAAAAAAAAA\n",
       "AAAAAAAAAAAAAAAAAAAAAAAAAAAAAAAAAAAAAAAAAAAv3aB7AAAAD3RSTlMAInZUiRDNmWbv3US7\n",
       "qzJazP2FAAAACXBIWXMAAA7EAAAOxAGVKw4bAAAEsklEQVRYw81ZTWgTURCeZJtskqabnAQFMS2K\n",
       "PdUcRFGQBvWkqDlVkEIiKOpBqOjBm+JFL9KiF0GFYP07KAQPgiI0elNQilahCBq8KYq1pSoUxPf/\n",
       "l1fz2kKfD0Le7s7uNzvzZr6ZtwBLG6/aXB8sg9/RdbaNQHTLs4YTbSW2+lUwVaX/iee1+UQ6xr1q\n",
       "uDLPJskh4nO86KKCLnPXq4Y3+CRXJCbFymWbuswWn7GSGuGzMaoG9vUKQ4ia19NIl/hsF/3bgX4n\n",
       "DaHOHx413CAceLznDTD70ZjZ3iucfdyjhvf5JPGzXMFB09WEOAmUVcWwwS/2+1uI0R8+C2YhjTWL\n",
       "xiFD9LlJj8moFPwRigiUsAo5siYPwmZyPKuIZWv+AkUk40wJxki+2Yh0xFcaasT7C5XvZ5V0eIZ4\n",
       "NxM1Whyb+L1UoPxixTaIU7lm4gqZxC/WyTHSvS7kri8WkgnGi27CD1rOPFdKnCzNy4nbdF02oENS\n",
       "ywvzRldIBrqx9by1EIi3FFrX5A0Tp9mM5eudF9ZJuX3mjQQyOtaObMKdZQyaqEpLCOK3FgKHQRIH\n",
       "UeuXoyGGmcM7mOkYJObyt3jyCSwqoLHncxGDhtI0kvithcB5UB2JHjTtGlEM8QAzBoPEXH7OqNM1\n",
       "yMtPyhg0rTxKEL+1EEiX1WBAaXrGUcMKc2fve/YgyeUZ9ItVbSogQp+loJuUy4L4rYVAkr46Syjo\n",
       "ff84aphjebP2lf4zyCPM8WHRpgK6VqOgp/BbTHQXNOK3FgKsWmZJGRnTNRPn6CsFpSTNMhSyb4bZ\n",
       "L0MXz/b1ZQ0yNXl/iJToR9HBo3yW0BQnfnshwEp+Rmzo5llX7qE3JvMBdbcK+QGgh5x83IxKKiR6\n",
       "sQLtM0aRQlcgJHpz4rcXAsGIKmOQ779GhhrlGwBt/BhkVT0Z+w3xuvZ4WIMDBoFeRVBTmFhV4rcW\n",
       "AtEUaC/ZNeWqIa0whLlUSG7Y7HTPbt1F0M9ArxKer9TVNWYvBDoJ0AAyQG0xGuIseIBrKCD54uTR\n",
       "JJc5DVcEOkp4fhjUOLUXAkFND7YFelmGrQbJAjzHiUGkCnjJQJ8h8SK8C/Iq8VsLgVRDT1gdPxYU\n",
       "KTL1aZAsSWKfF7V0C5dIRDdgD1oDheBOqPKFvRAIS3rSj8+XD03GpXWkpA8NkhENitn9eY2yYnME\n",
       "ugRf0MnXe1f3qcRvLwQydZ04jYytXMnptUuOKCwpWIPk+XrthYIGCQFZ5gg003SthFYZx8Gc3jxL\n",
       "647pvVOlZKxLJ8hwnIGmnBvu06YzjdpZrtBd9spBvIsL5LZkkYM+dVQw1jDPGNWXjPIj+oV+s2B1\n",
       "gbw3IEAHHTXMtpTut/VDRqmMca3dAt/2dIA7d0KAxhzb2e6WM5NGc0rZhjOuHB9b3OHcQXcvrQUb\n",
       "1gOCUqpgXFu3sOzdqLG+CKVKkhcWm/amYXrcbJAOqiT/H3T04YiR5zClSsYV69PfrkjnnNGvYkqV\n",
       "jCsoxd/OEtwx2mycfiTjzhNQyzpMbJyvFZI3dxm97hL/ay343CVOudSwWa8fVA45yIx5/bL32WGb\n",
       "bdSnghBvtBXx/NXM4cvjQ78KQrLdXmV02LOGbb+ADyw5Tv4Ciow7GfpMEQMAAAAASUVORK5CYII=\n",
       "\" style=\"display:inline;vertical-align:middle;\" /></a>"
      ],
      "text/plain": [
       "(a or b or c) and (b or c \\\\  or d) and (d or e or f)"
      ]
     },
     "metadata": {},
     "output_type": "display_data"
    }
   ],
   "source": [
    "new_expr.inner_expr().operands[1].with_wrapping_at(3)"
   ]
  },
  {
   "cell_type": "code",
   "execution_count": 15,
   "metadata": {},
   "outputs": [
    {
     "data": {
      "text/html": [
       "<a class=\"ProveItLink\" href=\"../__pv_it/demonstrations/9f285a4751f06a56cd481490f010c76513904bfe0/expr.ipynb\"><img src=\"data:image/png;base64,iVBORw0KGgoAAAANSUhEUgAAAT8AAAAVBAMAAADCyPR8AAAAMFBMVEX///8AAAAAAAAAAAAAAAAA\n",
       "AAAAAAAAAAAAAAAAAAAAAAAAAAAAAAAAAAAAAAAAAAAv3aB7AAAAD3RSTlMAInZUiRDNmWbv3US7\n",
       "qzJazP2FAAAACXBIWXMAAA7EAAAOxAGVKw4bAAAC1ElEQVRIx7WWP2gTURzHf5dLckmaJjd1KIjX\n",
       "ouhUbih1EkPtpERuqouQdhDrIETs0M3gYhep6CJ0CVR0UQhuitCzm4MQNAhut9qpKBHBxd/7k+T3\n",
       "7r2LN3hvyOP7e9/P75ff3XsvAQAXUg03ReT/gtKY89OZ38QDmYMSXdbjhY9dPZjrxALLZp86arfb\n",
       "BlAs/AN11gKGFjbGkdmAgR5+FNuq5uOmnC/LLjYSfKqu+yZQLEwnm9856kz6K7GVaiRhqvl4KPO/\n",
       "kA12EnyqPgxMoFiYTj59z9Eyeajshc2NYKr5KItg7lFPyCSfqq8YQbEwlZwZiporZJm9g3tjmGg+\n",
       "iqLzSi3k80qST9W3jKBYmErmu6LmNk7WYIG/9znZA9xZ/KJoWD0fQb4vt/gmn7eTfERbg6WfYALF\n",
       "AnEWVs8FSqbSt9dtjm6heOtWh3yPRpBj37TwK2i5RMO874RQEpt7Ey7weSvJR7RIrINaRXgX1RpU\n",
       "4/5mM6IHWOcZOPxr1/pQYX3YQyh7RMNzpu3H1MNAs2+iWWL8cjooFyZB6zfketQEcJq9C0T38Vid\n",
       "QKVBm0S43qCad1s7UXreT/IRLRIbwHjF6o/Fq8pjBrgka6K9HEKrR7cJwoc+0WW+u2f4g1jH/ruy\n",
       "jtmnaJZYB7WK9b5Kjg4govjAWx7sAT1oeL3dD4hu8c7trnLODpJ8it4zgnrFGInjk6x5hHYfvtou\n",
       "uarqEW4SqvGe6EEpVG6qoyTfRMvEOqhVZC/cp5clwBN+lkNo4gbw7JcOvexnO9U21Xg08xE4DeWu\n",
       "byb5Jlom1kGtIp7W6y79uQHrD8/YgGMMfr52akmExSVZGOwA1bC2exa77Cm/lsdJPpJHJDaA8Ypw\n",
       "ZtdTNNj8ZCFaidL+95lXZcag05doqZ22zo4qswUvFv0R+iFlGSuMBTIFX62P0Rsp61Tjf9QzBR/c\n",
       "HaOWl67OgvZksgY5+hdZsgMANfePtAAAAABJRU5ErkJggg==\n",
       "\" style=\"display:inline;vertical-align:middle;\" /></a>"
      ],
      "text/plain": [
       "(a or b or c) and (b or c or d) and (d or e or f)"
      ]
     },
     "metadata": {},
     "output_type": "display_data"
    }
   ],
   "source": [
    "expr"
   ]
  },
  {
   "cell_type": "code",
   "execution_count": 16,
   "metadata": {},
   "outputs": [
    {
     "name": "stdout",
     "output_type": "stream",
     "text": [
      "True\n"
     ]
    }
   ],
   "source": [
    "print(expr==new_expr)"
   ]
  },
  {
   "cell_type": "code",
   "execution_count": 17,
   "metadata": {},
   "outputs": [
    {
     "data": {
      "text/html": [
       "<span style=\"font-size:20px;\"> <a class=\"ProveItLink\" href=\"axioms.ipynb#and_t_t\" style=\"text-decoration: none\">&nbsp;&#x22A2;&nbsp;&nbsp;</a><a class=\"ProveItLink\" href=\"../__pv_it/axioms/2e06e480834dffc99779e341f5b63756ff25f98e0/expr.ipynb\"><img src=\"data:image/png;base64,iVBORw0KGgoAAAANSUhEUgAAAHAAAAAVBAMAAABs93eRAAAAMFBMVEX///8AAAAAAAAAAAAAAAAA\n",
       "AAAAAAAAAAAAAAAAAAAAAAAAAAAAAAAAAAAAAAAAAAAv3aB7AAAAD3RSTlMAInZUiRDNmWbv3US7\n",
       "qzJazP2FAAAACXBIWXMAAA7EAAAOxAGVKw4bAAABBklEQVQ4y2NgYBBgwAPwSDIZ4NO4CbeUCQP7\n",
       "KjC4gCxaBRZay8DUgK4eJsOaAOIxK8DEWeAOMAKTqVjsAsuwN6BqjEpA1diOSyMnA6pGjduoGjkD\n",
       "cGg0Q9O44A2qRrYGHBpLUDUyO7AJoGhkuYBDYwaqRjYB5gIUjRwJyEGJJLMYVeNbBoalKBqZJ+Cw\n",
       "cTaqxnsMDEooGvk+EKURFKtRKBq5cdmI6lRQ9LMboDh1AQ4/HkLRyAXEjAkogXMAh42+KBqbQMQ5\n",
       "ZI3sDjg0voL4BBrNV0HEIwh7B8QNGzA1gmW4HjDgBVK4JDgK8GuswClzEK8+xgM4pWLwauTBXXYw\n",
       "KuDTqIhLAgC+eT6Z7OhW8wAAAABJRU5ErkJggg==\n",
       "\" style=\"display:inline;vertical-align:middle;\" /></a></span>"
      ],
      "text/plain": [
       "|- (TRUE and TRUE) = TRUE"
      ]
     },
     "metadata": {},
     "output_type": "display_data"
    }
   ],
   "source": [
    "And(TRUE, TRUE).evaluation()"
   ]
  },
  {
   "cell_type": "code",
   "execution_count": 18,
   "metadata": {},
   "outputs": [
    {
     "data": {
      "text/html": [
       "<span style=\"font-size:20px;\"> <a class=\"ProveItLink\" href=\"../__pv_it/demonstrations/5f159e395e636996f24f6530cb14ff070f6ba7cc0/proof.ipynb\" style=\"text-decoration: none\">&nbsp;&#x22A2;&nbsp;&nbsp;</a><a class=\"ProveItLink\" href=\"../__pv_it/demonstrations/a89588274397d1f4822adbb65f0e7174d1fae4f80/expr.ipynb\"><img src=\"data:image/png;base64,iVBORw0KGgoAAAANSUhEUgAAAJgAAAAVBAMAAABIwjoUAAAAMFBMVEX///8AAAAAAAAAAAAAAAAA\n",
       "AAAAAAAAAAAAAAAAAAAAAAAAAAAAAAAAAAAAAAAAAAAv3aB7AAAAD3RSTlMAInZUiRDNmWbv3US7\n",
       "qzJazP2FAAAACXBIWXMAAA7EAAAOxAGVKw4bAAABX0lEQVQ4y2NgYBBgIBHg0cBkQKphm3BLmTAw\n",
       "VK0CgbXIouxgoVUXkMVgypga0M2AybAmgLlGMHEWuEOZFWAsZ7guiLJULG4Cy7A3oBoWlYBhGOsy\n",
       "NMPacRnGyYBqmMZtDMOYejegGsYZgMMwMzTDFrzBMIyL7wCqYWwNOAwrQTWM2YFNAN0wE4ZEVMNY\n",
       "LuAwLAPVMDYB5gJ0wxIZzFEN40hAjkIkmcWohr1lYFiKZhjfBQauABTDmCfgcNlsVMPuMTAooRnG\n",
       "+4CBSQHFML4PRBkGSnVRaIaFAYUXoBjGjctlqN4EJVl2A1TDQEm2GNWbC3CE2SEUw7iAmDEB1TCQ\n",
       "TjHUCDiAw2W+KIY1gYhzKIZxgCieB8jK2B1wGPYKwt4Boa6CiEcQNjckafKCYpJPAVkZ1wZMw8Ay\n",
       "XA8YSAZSuCQ4Ckg3rAKnzEGSzWI8gFMqhmTDeHCX24wKpBqmiEsCAFQiUKEZd4dvAAAAAElFTkSu\n",
       "QmCC\n",
       "\" style=\"display:inline;vertical-align:middle;\" /></a></span>"
      ],
      "text/plain": [
       "|- (TRUE and TRUE and TRUE) = TRUE"
      ]
     },
     "metadata": {},
     "output_type": "display_data"
    }
   ],
   "source": [
    "And(TRUE, TRUE, TRUE).evaluation()"
   ]
  },
  {
   "cell_type": "code",
   "execution_count": 19,
   "metadata": {},
   "outputs": [
    {
     "data": {
      "text/html": [
       "<span style=\"font-size:20px;\"> <a class=\"ProveItLink\" href=\"../../negation/_theory_nbs_/proofs/not_false/thm_proof.ipynb\" style=\"text-decoration: none\">&nbsp;&#x22A2;&nbsp;&nbsp;</a><a class=\"ProveItLink\" href=\"../../negation/__pv_it/axioms/446a01d9a7ebef169028057d3b157d31652390170/expr.ipynb\"><img src=\"data:image/png;base64,iVBORw0KGgoAAAANSUhEUgAAABwAAAAPBAMAAAAFYbKSAAAAIVBMVEX///8AAAAAAAAAAAAAAAAA\n",
       "AAAAAAAAAAAAAAAAAAAAAADdcGRXAAAACnRSTlMAmd0iq0RmVHbvMiy3+wAAAAlwSFlzAAAOxAAA\n",
       "DsQBlSsOGwAAACVJREFUCNdjYMAFwlC5FVTmCikBgSKqrAkpXEMCFgEtmKmkpAIA/3EI1mTq1PcA\n",
       "AAAASUVORK5CYII=\n",
       "\" style=\"display:inline;vertical-align:middle;\" /></a></span>"
      ],
      "text/plain": [
       "|- [not](FALSE)"
      ]
     },
     "metadata": {},
     "output_type": "display_data"
    }
   ],
   "source": [
    "Not(FALSE).prove()"
   ]
  },
  {
   "cell_type": "code",
   "execution_count": 20,
   "metadata": {},
   "outputs": [
    {
     "data": {
      "text/html": [
       "<span style=\"font-size:20px;\"> <a class=\"ProveItLink\" href=\"../__pv_it/demonstrations/750815cf08328db19200e42057aa6b59510cec630/proof.ipynb\" style=\"text-decoration: none\">&nbsp;&#x22A2;&nbsp;&nbsp;</a><a class=\"ProveItLink\" href=\"../__pv_it/demonstrations/a083aeb988eb95ce28005ea7ec31d776869ee1770/expr.ipynb\"><img src=\"data:image/png;base64,iVBORw0KGgoAAAANSUhEUgAAALYAAAAVBAMAAAAZVgl3AAAAMFBMVEX///8AAAAAAAAAAAAAAAAA\n",
       "AAAAAAAAAAAAAAAAAAAAAAAAAAAAAAAAAAAAAAAAAAAv3aB7AAAAD3RSTlMAInZUiRDNmWbv3US7\n",
       "qzJazP2FAAAACXBIWXMAAA7EAAAOxAGVKw4bAAABxUlEQVQ4y42VMUvDQBTHX5KatGkNnRzEITp1\n",
       "LCIVnQTnQieH4tAOQseCHcQpOOii4OKiS0AUrAjFSbfqB5AuToIUR1H0I9h3l9h7yT3IQd5d/vfu\n",
       "l8e7dxcAKIO+JXUjo5/SzGpGvejrHe959grAfh/bXUqfYgO0FeoQrzKDJDKemWmJ1+VYz0XhRrps\n",
       "lgjZbsi3zX9drtrRRCxmnICymxHTCVLsfFd+9TrBPuLYBaDsypvsC5Biw5nciJMBZRcaDLuWYIdf\n",
       "sq9p2B1hXW9I2XbAsHuUbW3YsqZ6GnY92uQ2ZedGDLtD2XbZ6ioxUvahsG1Ypex8Sy0OZeaSsr8B\n",
       "riDSHeHdnbLX0HgjcBuEbZ0ycV9Q9jvAEig6GKMp+wfN7BhMn7C930xsrOomy35EszXxCgm7yMVN\n",
       "c4Inx6kqOmGvxydnl+YkZPL9TNgu0lqKDoaS72NRpJNnju7lkIm7TtgHaF4UndQJ1mUeh6WxusrZ\n",
       "YNifcvwgu1c0H4oOolxuzvv9SW5ucSuxRjxfXeUO0mwx447116NGN0K96zx3xUYXUBbdCfSue+z9\n",
       "/ZRZX9A7GkOWvZ1ZZ6Io8T81w8+omwxjkSP/AaTMaZ7yOjvDAAAAAElFTkSuQmCC\n",
       "\" style=\"display:inline;vertical-align:middle;\" /></a></span>"
      ],
      "text/plain": [
       "|- (TRUE and [not](FALSE) and TRUE) = TRUE"
      ]
     },
     "metadata": {},
     "output_type": "display_data"
    }
   ],
   "source": [
    "And(TRUE, Not(FALSE), TRUE).evaluation()"
   ]
  },
  {
   "cell_type": "code",
   "execution_count": 21,
   "metadata": {},
   "outputs": [
    {
     "data": {
      "text/html": [
       "<span style=\"font-size:20px;\"> <a class=\"ProveItLink\" href=\"../__pv_it/demonstrations/1be8f7f106d51232888ec121d37907c0fe65e1df0/proof.ipynb\" style=\"text-decoration: none\">&nbsp;&#x22A2;&nbsp;&nbsp;</a><a class=\"ProveItLink\" href=\"../__pv_it/demonstrations/1d3c29952f56ac43fba428c2867d55ae861805040/expr.ipynb\"><img src=\"data:image/png;base64,iVBORw0KGgoAAAANSUhEUgAAAHsAAAAVBAMAAACUF4xmAAAAMFBMVEX///8AAAAAAAAAAAAAAAAA\n",
       "AAAAAAAAAAAAAAAAAAAAAAAAAAAAAAAAAAAAAAAAAAAv3aB7AAAAD3RSTlMAmd2rVHZEZokQzTK7\n",
       "Iu8moTT4AAAACXBIWXMAAA7EAAAOxAGVKw4bAAABT0lEQVQ4y2NgwAp40QUuMJACQtAFUnEoFFIC\n",
       "AWVUQZYGJE46iGAtQFHACNalZABiu8JFW6D0LGSlEOmVEA6HA9yKABR5IODUgjLEMbUXQjiTFuDW\n",
       "zlqcAGE8wNTONwFMhZvh1s7EfQAiswBTOxfE8wp7cGv3YFgLCZgGTO0cBpAw5bqAU/taBkdkm1Ck\n",
       "2cEu4rrAIoBLO7cBAxPYh0wO0AhVREizgMNjMwODJi7tzBsYWMFifNAQZLiMkOb+ACKtGRhCcWkH\n",
       "xjanAi7tbCDbOYE+mIRLOyjRiMAcj66dRQGaaBgdcGgHKbgFYvDAZC4iBR0oTplAuWkBdu3sID7P\n",
       "BngkoYY8ODJLQazTaNrToSEHCnVukCC3AnKOegfOUUyg8LAECW2FyLAV4Myv2phCl0jI7oWYQuIk\n",
       "aOfBKFx4D5CgnfMAYQPxgavoArHY1QEA/xk+ZmL6PxQAAAAASUVORK5CYII=\n",
       "\" style=\"display:inline;vertical-align:middle;\" /></a></span>"
      ],
      "text/plain": [
       "|- TRUE and [not](FALSE) and TRUE"
      ]
     },
     "metadata": {},
     "output_type": "display_data"
    }
   ],
   "source": [
    "And(TRUE, Not(FALSE), TRUE).prove()"
   ]
  },
  {
   "cell_type": "code",
   "execution_count": 22,
   "metadata": {},
   "outputs": [
    {
     "data": {
      "text/html": [
       "<span style=\"font-size:20px;\"> <a class=\"ProveItLink\" href=\"../__pv_it/demonstrations/750815cf08328db19200e42057aa6b59510cec630/proof.ipynb\" style=\"text-decoration: none\">&nbsp;&#x22A2;&nbsp;&nbsp;</a><a class=\"ProveItLink\" href=\"../__pv_it/demonstrations/a083aeb988eb95ce28005ea7ec31d776869ee1770/expr.ipynb\"><img src=\"data:image/png;base64,iVBORw0KGgoAAAANSUhEUgAAALYAAAAVBAMAAAAZVgl3AAAAMFBMVEX///8AAAAAAAAAAAAAAAAA\n",
       "AAAAAAAAAAAAAAAAAAAAAAAAAAAAAAAAAAAAAAAAAAAv3aB7AAAAD3RSTlMAInZUiRDNmWbv3US7\n",
       "qzJazP2FAAAACXBIWXMAAA7EAAAOxAGVKw4bAAABxUlEQVQ4y42VMUvDQBTHX5KatGkNnRzEITp1\n",
       "LCIVnQTnQieH4tAOQseCHcQpOOii4OKiS0AUrAjFSbfqB5AuToIUR1H0I9h3l9h7yT3IQd5d/vfu\n",
       "l8e7dxcAKIO+JXUjo5/SzGpGvejrHe959grAfh/bXUqfYgO0FeoQrzKDJDKemWmJ1+VYz0XhRrps\n",
       "lgjZbsi3zX9drtrRRCxmnICymxHTCVLsfFd+9TrBPuLYBaDsypvsC5Biw5nciJMBZRcaDLuWYIdf\n",
       "sq9p2B1hXW9I2XbAsHuUbW3YsqZ6GnY92uQ2ZedGDLtD2XbZ6ioxUvahsG1Ypex8Sy0OZeaSsr8B\n",
       "riDSHeHdnbLX0HgjcBuEbZ0ycV9Q9jvAEig6GKMp+wfN7BhMn7C930xsrOomy35EszXxCgm7yMVN\n",
       "c4Inx6kqOmGvxydnl+YkZPL9TNgu0lqKDoaS72NRpJNnju7lkIm7TtgHaF4UndQJ1mUeh6WxusrZ\n",
       "YNifcvwgu1c0H4oOolxuzvv9SW5ucSuxRjxfXeUO0mwx447116NGN0K96zx3xUYXUBbdCfSue+z9\n",
       "/ZRZX9A7GkOWvZ1ZZ6Io8T81w8+omwxjkSP/AaTMaZ7yOjvDAAAAAElFTkSuQmCC\n",
       "\" style=\"display:inline;vertical-align:middle;\" /></a></span>"
      ],
      "text/plain": [
       "|- (TRUE and [not](FALSE) and TRUE) = TRUE"
      ]
     },
     "metadata": {},
     "output_type": "display_data"
    }
   ],
   "source": [
    "And(TRUE, Not(FALSE), TRUE).evaluation()"
   ]
  },
  {
   "cell_type": "code",
   "execution_count": 23,
   "metadata": {},
   "outputs": [
    {
     "data": {
      "text/html": [
       "<span style=\"font-size:20px;\"> <a class=\"ProveItLink\" href=\"../../disjunction/_theory_nbs_/axioms.ipynb#or_t_f\" style=\"text-decoration: none\">&nbsp;&#x22A2;&nbsp;&nbsp;</a><a class=\"ProveItLink\" href=\"../../disjunction/__pv_it/axioms/60330ee6db5efb06d1adf8b0bcef3a1d453390260/expr.ipynb\"><img src=\"data:image/png;base64,iVBORw0KGgoAAAANSUhEUgAAAHAAAAAVBAMAAABs93eRAAAAMFBMVEX///8AAAAAAAAAAAAAAAAA\n",
       "AAAAAAAAAAAAAAAAAAAAAAAAAAAAAAAAAAAAAAAAAAAv3aB7AAAAD3RSTlMAInZUiRDNmWbv3US7\n",
       "qzJazP2FAAAACXBIWXMAAA7EAAAOxAGVKw4bAAABD0lEQVQ4y2NgYBBgwAPwSDIZ4NO4CbeUCQP7\n",
       "KjC4gCaxA2xsA7r6KrDitQysCSAeswJE9CqIeARhG4HJVCx2gWXYG5A1NoGIc8ga23Fp5GRA1sgF\n",
       "xIwJyBo5A3BoNEPRyAIMKXYDZI1sDTg0lqBoBNnGhSzNwHIBh8YMFI0M9xgYlFA0ciQgByWSzGJU\n",
       "jW8ZGJaiaGSegMPG2aga2QSYC1A08n0gTiOzA5sAikZuXDaiOZVhwRsGVKcuwOHHQ2gaNW6jauQ4\n",
       "gMNGXzSNUQmoGtkdcGh8BfEJPJqh0Q9020yw27g2YGoEJ3+uBwx4gRQuCY4C/BorcMocxKuP8QBO\n",
       "qRi8Gnlwlx2MCvg0KuKSAAAmlD43fBQDCQAAAABJRU5ErkJggg==\n",
       "\" style=\"display:inline;vertical-align:middle;\" /></a></span>"
      ],
      "text/plain": [
       "|- (TRUE or FALSE) = TRUE"
      ]
     },
     "metadata": {},
     "output_type": "display_data"
    }
   ],
   "source": [
    "Or(TRUE, FALSE).evaluation()"
   ]
  },
  {
   "cell_type": "code",
   "execution_count": 24,
   "metadata": {},
   "outputs": [
    {
     "data": {
      "text/html": [
       "<span style=\"font-size:20px;\"> <a class=\"ProveItLink\" href=\"../__pv_it/demonstrations/38b6748d213e7e904dde1cbbeffc3553db664bf20/proof.ipynb\" style=\"text-decoration: none\">&nbsp;&#x22A2;&nbsp;&nbsp;</a><a class=\"ProveItLink\" href=\"../__pv_it/demonstrations/407012fb77588ae41bb247d3c262718e39b1aefb0/expr.ipynb\"><img src=\"data:image/png;base64,iVBORw0KGgoAAAANSUhEUgAAAKgAAAAVBAMAAAAgMbgsAAAAMFBMVEX///8AAAAAAAAAAAAAAAAA\n",
       "AAAAAAAAAAAAAAAAAAAAAAAAAAAAAAAAAAAAAAAAAAAv3aB7AAAAD3RSTlMAInZUiRDNmWbv3US7\n",
       "qzJazP2FAAAACXBIWXMAAA7EAAAOxAGVKw4bAAABhklEQVQ4y5WUsUvDQBTGX5M2SWMbMnVwik6O\n",
       "RYquBWchc3GIg+BY0EGcgouT0FVcAqKDIBQnx+gfIFk6CRIcRcE/wdy9S5vXvEjzwXdHv8v75e76\n",
       "CAC4wKsqny/+84DWr5ejnpQrNADzQSpZLYdn+coQTXUuCx6hFYhfupfnTbVBknf9bHDUM9tyPFJe\n",
       "llw1QwodBTiT3BJTJy1CL5VZaBsodOsdZ5pHmXvFMmj7aBa6swSNvnGm+V7mEwI1QjQLPaVQfWhg\n",
       "p9C8p3a7gDYTNAs9plDD1cdQzrspaB6BWgF68ZcXVm8p9AfgDsq5k4DtE6g+QbM7vaHQD4BNYPJD\n",
       "2CVl4PyiV4CK7hxx0EGGJdC1CZqF0mOK1jf7zLXYTkyheoRm7/SVFNuZG0E5B+1qSqFWjGZ3uk+K\n",
       "L8TwVs6hdU/LwByiWegX3pBq45kYPsv5vPWzs17Ls9pTNHCfGzvlP15Vea51ZVbWuF6e60yZ10vN\n",
       "HNWI0RU6qJmjOi666p1evRy1oczqD5mgY/ma3gwEAAAAAElFTkSuQmCC\n",
       "\" style=\"display:inline;vertical-align:middle;\" /></a></span>"
      ],
      "text/plain": [
       "|- (TRUE and (TRUE or FALSE)) = TRUE"
      ]
     },
     "metadata": {},
     "output_type": "display_data"
    }
   ],
   "source": [
    "And(TRUE, Or(TRUE, FALSE)).evaluation()"
   ]
  },
  {
   "cell_type": "code",
   "execution_count": 25,
   "metadata": {},
   "outputs": [
    {
     "data": {
      "text/html": [
       "<span style=\"font-size:20px;\"> <a class=\"ProveItLink\" href=\"../__pv_it/demonstrations/ce214182032648d807853c209464fa4ff6498f7b0/proof.ipynb\" style=\"text-decoration: none\">&nbsp;&#x22A2;&nbsp;&nbsp;</a><a class=\"ProveItLink\" href=\"../__pv_it/demonstrations/9aa49fc17238ce9c029aea4d56c6b8c8115ffbfc0/expr.ipynb\"><img src=\"data:image/png;base64,iVBORw0KGgoAAAANSUhEUgAAAM4AAAAVBAMAAAD8yMwbAAAAMFBMVEX///8AAAAAAAAAAAAAAAAA\n",
       "AAAAAAAAAAAAAAAAAAAAAAAAAAAAAAAAAAAAAAAAAAAv3aB7AAAAD3RSTlMAInZUiRDNmWbv3US7\n",
       "qzJazP2FAAAACXBIWXMAAA7EAAAOxAGVKw4bAAAB0klEQVRIx5WVsUvDQBTGX1Ob1NiW4NDJoejS\n",
       "sUhRdCo4Fzo5FIe6dRTsIE7BQRcFFwd1CYiCSqWjbq1/gHRxEqQ4iuK/4N2l2HzvrpE8yAv9+vX9\n",
       "cq93L0TkkTFSFBMpSvwjq2LWl+I4c6VkuogqOXcqhiCna7Sv5C4v5ctc1hFTdKJHmTItVfXvOWbG\n",
       "y9tUeTn8kG+IVAg9odVuoJ3r0VBFHB85zVZ434tysvLr3ChSL7uDdq5rnFlCTvktvJ9GORSIqxit\n",
       "R2do57rGWWGc4CsUWsDZENcu1GuDXdM1Tgc56Zqt9rlTA05xvKaJtQ52ruucNnJsL606bPvAyY/I\n",
       "KkG9Q7AzHXewKnKFnG+ia3l3K8ApDMltQL01sHNdX88lct6JFtX26AGHtmkV6/2Anev/ceRpapo4\n",
       "VUGCek9gZ7qBg32Tx86p6H0jt9DHeutgZ7rh/3kGjitnodzSuRJyrJMeco7BznTDeurAOZDpRT7p\n",
       "EDmZG3ZOOmBnuoHzGRmCRK8yfcgNFkxGoIrwlIqG3F6ohtyDnemREMP4XA5jd2Qe4w8UG6kgmW4c\n",
       "fDKO4jmOn0wnGpjlnBfLWUioE22Z5Uw/ljNIqIuOTnnVzsdhLC+ZTr8sdHLxPcXDBQAAAABJRU5E\n",
       "rkJggg==\n",
       "\" style=\"display:inline;vertical-align:middle;\" /></a></span>"
      ],
      "text/plain": [
       "|- (TRUE and (TRUE or FALSE) and FALSE) = FALSE"
      ]
     },
     "metadata": {},
     "output_type": "display_data"
    }
   ],
   "source": [
    "And(TRUE, Or(TRUE, FALSE), FALSE).evaluation()"
   ]
  },
  {
   "cell_type": "code",
   "execution_count": null,
   "metadata": {},
   "outputs": [],
   "source": []
  },
  {
   "cell_type": "code",
   "execution_count": null,
   "metadata": {},
   "outputs": [],
   "source": []
  },
  {
   "cell_type": "code",
   "execution_count": 26,
   "metadata": {},
   "outputs": [
    {
     "data": {
      "text/html": [
       "<span style=\"font-size:20px;\"> <a class=\"ProveItLink\" href=\"proofs/true_and_true/thm_proof.ipynb\" style=\"text-decoration: none\">&nbsp;&#x22A2;&nbsp;&nbsp;</a><a class=\"ProveItLink\" href=\"../__pv_it/axioms/99a716e73aa09d5c67130ff1a1955fb528669eac0/expr.ipynb\"><img src=\"data:image/png;base64,iVBORw0KGgoAAAANSUhEUgAAADUAAAAOBAMAAAB9dUktAAAALVBMVEX///8AAAAAAAAAAAAAAAAA\n",
       "AAAAAAAAAAAAAAAAAAAAAAAAAAAAAAAAAAAAAADAOrOgAAAADnRSTlMAmd2rVHZEZokQzTK7Indu\n",
       "JPkAAAAJcEhZcwAADsQAAA7EAZUrDhsAAABtSURBVBjTYxBSAgFlBiTACBZSMgCxXeGiLTAGSwCU\n",
       "AZfj1MItx1qcgFOOifsATjkPhrU45dYyOOKS4zZgYJqAQ455AwNrAA65WUBfKOCQA/lcBIccSM8t\n",
       "7HLsID7PBlS5dKhTQG7khgiyFQAJAPEmFFCDI+LWAAAAAElFTkSuQmCC\n",
       "\" style=\"display:inline;vertical-align:middle;\" /></a></span>"
      ],
      "text/plain": [
       "|- TRUE and TRUE"
      ]
     },
     "metadata": {},
     "output_type": "display_data"
    }
   ],
   "source": [
    "And(TRUE, TRUE).prove()"
   ]
  },
  {
   "cell_type": "code",
   "execution_count": 27,
   "metadata": {},
   "outputs": [
    {
     "data": {
      "text/html": [
       "<span style=\"font-size:20px;\"> <a class=\"ProveItLink\" href=\"proofs/true_and_false_negated/thm_proof.ipynb\" style=\"text-decoration: none\">&nbsp;&#x22A2;&nbsp;&nbsp;</a><a class=\"ProveItLink\" href=\"../__pv_it/theorems/42019859b9da221b6afa22a4a321fafe030500fa0/expr.ipynb\"><img src=\"data:image/png;base64,iVBORw0KGgoAAAANSUhEUgAAAFYAAAAVBAMAAAAutAQGAAAAMFBMVEX///8AAAAAAAAAAAAAAAAA\n",
       "AAAAAAAAAAAAAAAAAAAAAAAAAAAAAAAAAAAAAAAAAAAv3aB7AAAAD3RSTlMAmd0iq3ZUiRDNZu9E\n",
       "uzLWhN+VAAAACXBIWXMAAA7EAAAOxAGVKw4bAAABBElEQVQoz2NgQABmBjwATTIMn1qeAGQeWwGD\n",
       "kBIIqKArWwAio5CFOsFkKozLngA3BGwkZwOSWilUtU0TUNVyCSCp3YCqNsoHVS3DDiTnTkBVq/AW\n",
       "Te0shFrGAhS1bAWcBqhqSxBqORegqOU0YBNAVbsSEkyKQCZTAoraJwwMGqhqsyE8EyDmPoCi1o+B\n",
       "IRRV7XtcajmAPm1CVXsaoRbVDaCYYExAUZsE4RkCMW8AslomUHKZgKJ2LSIc2B2Q1S4FEfdQ1Ioj\n",
       "1PIpgKlTEJ4HiHgKCnYlJe1NSkpAg3SQ4liPAS9gVkDiLMSvlnEBEofXAK9aW2QOxwW8ai+j8Ezx\n",
       "KWU1YAAAay4rqyJBq9kAAAAASUVORK5CYII=\n",
       "\" style=\"display:inline;vertical-align:middle;\" /></a></span>"
      ],
      "text/plain": [
       "|- [not](TRUE and FALSE)"
      ]
     },
     "metadata": {},
     "output_type": "display_data"
    }
   ],
   "source": [
    "Not(And(TRUE, FALSE)).prove()"
   ]
  },
  {
   "cell_type": "code",
   "execution_count": 28,
   "metadata": {},
   "outputs": [
    {
     "data": {
      "text/html": [
       "<span style=\"font-size:20px;\"> <a class=\"ProveItLink\" href=\"proofs/false_and_true_negated/thm_proof.ipynb\" style=\"text-decoration: none\">&nbsp;&#x22A2;&nbsp;&nbsp;</a><a class=\"ProveItLink\" href=\"../__pv_it/theorems/973fcbcb85c3320062ba08caf138d1c98bcf329a0/expr.ipynb\"><img src=\"data:image/png;base64,iVBORw0KGgoAAAANSUhEUgAAAFYAAAAVBAMAAAAutAQGAAAAMFBMVEX///8AAAAAAAAAAAAAAAAA\n",
       "AAAAAAAAAAAAAAAAAAAAAAAAAAAAAAAAAAAAAAAAAAAv3aB7AAAAD3RSTlMAmd0iq3ZUiRDNZu9E\n",
       "uzLWhN+VAAAACXBIWXMAAA7EAAAOxAGVKw4bAAABBElEQVQoz2NgQABmBjwATTIMn1qeAGQeWwGI\n",
       "PIWmhlEJDBwYopBFO8FkKozLngA3BGwkZwOSWilUtU0TUNVyCSCp3YCqNsoHVS3DDiTnTkBVq/AW\n",
       "Te0sJE8UoKhlK+A0QFVbglDLuQBFLacBmwCq2pUMQqAQUQQymRJQ1D5hYNBAVZsN4ZkAMfcBFLV+\n",
       "DAyhqGrf41LLAfRpE6ra0wi1qG4AxQRjAoraJAjPEIh5A5DVMoGSywQUtWsR4cDugKx2KYi4h6JW\n",
       "HKGWT4EBFCi7lZRUgDwPkNBTaBKDhKYOUhzrMeAFzApInIX41TIuQOLwGuBVa4vM4biAV+1lFJ4p\n",
       "PqWsBgwAHrwrqzFgRwAAAAAASUVORK5CYII=\n",
       "\" style=\"display:inline;vertical-align:middle;\" /></a></span>"
      ],
      "text/plain": [
       "|- [not](FALSE and TRUE)"
      ]
     },
     "metadata": {},
     "output_type": "display_data"
    }
   ],
   "source": [
    "Not(And(FALSE,TRUE)).prove()"
   ]
  },
  {
   "cell_type": "code",
   "execution_count": 29,
   "metadata": {},
   "outputs": [
    {
     "data": {
      "text/html": [
       "<span style=\"font-size:20px;\"> <a class=\"ProveItLink\" href=\"proofs/false_and_false_negated/thm_proof.ipynb\" style=\"text-decoration: none\">&nbsp;&#x22A2;&nbsp;&nbsp;</a><a class=\"ProveItLink\" href=\"../__pv_it/theorems/3f580260baf60f1bbe721c3c14c6323ee245a8e40/expr.ipynb\"><img src=\"data:image/png;base64,iVBORw0KGgoAAAANSUhEUgAAAFYAAAAVBAMAAAAutAQGAAAAMFBMVEX///8AAAAAAAAAAAAAAAAA\n",
       "AAAAAAAAAAAAAAAAAAAAAAAAAAAAAAAAAAAAAAAAAAAv3aB7AAAAD3RSTlMAmd0iq3ZUiRDNZu9E\n",
       "uzLWhN+VAAAACXBIWXMAAA7EAAAOxAGVKw4bAAABCElEQVQoz2NgQABmBjwATTIMn1qeAGQeWwGI\n",
       "PIVF2QIQGYUs1AkmU2Fc9gS4IWAjORuQ1Eqhqm2agKqWSwBJ7QZUtVE+qGoZdiA5dwKqWoW3aGpn\n",
       "IdQyFqCoZSvgNEBVW4JQy7kARS2nAZsAqtqVDEJKQKAIZDIloKh9wsCggao2G8IzAWLuAyhq/RgY\n",
       "QlHVvsellgPo0yZUtacRalHdAIoJxgQUtUkQniEQ8wYgq2UCJZcJKGrXIsKB3QFZ7VIQcQ9FrThC\n",
       "LZ8CAyhQdispqQB5HiChp6BgV1LS3qSkBDRIBymO9RjwAmYFJM5C/GoZFyBxeA3wqrVF5nBcwKv2\n",
       "MgrPFJ9SVgMGAM2lLET3hDWJAAAAAElFTkSuQmCC\n",
       "\" style=\"display:inline;vertical-align:middle;\" /></a></span>"
      ],
      "text/plain": [
       "|- [not](FALSE and FALSE)"
      ]
     },
     "metadata": {},
     "output_type": "display_data"
    }
   ],
   "source": [
    "Not(And(FALSE,FALSE)).prove()"
   ]
  },
  {
   "cell_type": "code",
   "execution_count": 30,
   "metadata": {},
   "outputs": [
    {
     "data": {
      "text/html": [
       "<span style=\"font-size:20px;\"><a class=\"ProveItLink\" href=\"../../../../__pv_it/common/09585084922504426caf1db2ff588a23a0932a960/expr.ipynb\"><img src=\"data:image/png;base64,iVBORw0KGgoAAAANSUhEUgAAAA8AAAAPBAMAAADJ+Ih5AAAAMFBMVEX///8AAAAAAAAAAAAAAAAA\n",
       "AAAAAAAAAAAAAAAAAAAAAAAAAAAAAAAAAAAAAAAAAAAv3aB7AAAAD3RSTlMAIs1UmauJMnZmRLsQ\n",
       "3e++988cAAAACXBIWXMAAA7EAAAOxAGVKw4bAAAAXklEQVQI12NgAAEhBijQh9LM/6EMlngBCCMx\n",
       "vwBMMzb0G0BkGOwngBmLGeoTwAwHBvkAEM2xxSV+A4hxgoGB/wJEhoH3AZDmAupg+gBkyAEx90cG\n",
       "htP/dRiY939KAABt3hLO6mcEjQAAAABJRU5ErkJggg==\n",
       "\" style=\"display:inline;vertical-align:middle;\" /></a>, <a class=\"ProveItLink\" href=\"../../../../__pv_it/common/a9162d1c3cc0470c02e5daf414500903a7a419230/expr.ipynb\"><img src=\"data:image/png;base64,iVBORw0KGgoAAAANSUhEUgAAABAAAAAOBAMAAADUAYG5AAAAMFBMVEX///8AAAAAAAAAAAAAAAAA\n",
       "AAAAAAAAAAAAAAAAAAAAAAAAAAAAAAAAAAAAAAAAAAAv3aB7AAAAD3RSTlMAZrurzTLvInZEmRDd\n",
       "VIkafcLnAAAACXBIWXMAAA7EAAAOxAGVKw4bAAAAb0lEQVQI12NgYBD6b2zsFMAABEkMDMxfgTT7\n",
       "DwYGzl9ABiOQxwjkMDB/YGBgSQcy2BQYuG1AiuM1OkwEQJr6Cxh4E0EMNSB+D5L6DMTyDQwMrB+B\n",
       "DPsJDAwc34GcL0AOSwIDwzRvoHH6n41NdBkYAF/iFeJ4bEa2AAAAAElFTkSuQmCC\n",
       "\" style=\"display:inline;vertical-align:middle;\" /></a> <a class=\"ProveItLink\" href=\"../__pv_it/demonstrations/c39667b7d95375763440ba2a7f5eb5c319b7ba290/proof.ipynb\" style=\"text-decoration: none\">&nbsp;&#x22A2;&nbsp;&nbsp;</a><a class=\"ProveItLink\" href=\"../__pv_it/axioms/ebe322aacd1b571c58879de875163df360acd3820/expr.ipynb\"><img src=\"data:image/png;base64,iVBORw0KGgoAAAANSUhEUgAAADcAAAAPBAMAAACy3Eq1AAAAMFBMVEX///8AAAAAAAAAAAAAAAAA\n",
       "AAAAAAAAAAAAAAAAAAAAAAAAAAAAAAAAAAAAAAAAAAAv3aB7AAAAD3RSTlMAIs1UmauJMnZmRLsQ\n",
       "3e++988cAAAACXBIWXMAAA7EAAAOxAGVKw4bAAABBElEQVQY02NgAAEhBjxAH43Puf9raNB2CJv5\n",
       "P1QwGSbLt4GBIb4AzGSJFwDTPJdgkvINDAzrHcDMxHyIIo6pC6CS84EC8xtALMaGfgOwEC/7Bqhk\n",
       "PBDrgY1jYbCfABYyY1CESr5mYDh6HcxazFCfAGYoMphA5Nh/d7RqQpgODPIBYKEABt4DEMs/MjDY\n",
       "gU3j2OISD7aLtYCBA+wIBu4HDAxs30GsEwwM/BdAjENAz4AZDPxAkzh/QExl4H0ACwJnsGQ90EjW\n",
       "X0AGF5DB9AEkdAEeyv1AX9QrABlyIDs+ggIUZB83ODj0gHoeAd12+r8OA/P+T0C/sIJcyg5SEf0/\n",
       "NFQbGC4A3Zk4p5FAwSQAAAAASUVORK5CYII=\n",
       "\" style=\"display:inline;vertical-align:middle;\" /></a></span>"
      ],
      "text/plain": [
       "{A, B} |- A and B"
      ]
     },
     "metadata": {},
     "output_type": "display_data"
    }
   ],
   "source": [
    "And(A,B).prove(assumptions=[A,B])"
   ]
  },
  {
   "cell_type": "code",
   "execution_count": 31,
   "metadata": {},
   "outputs": [
    {
     "data": {
      "text/html": [
       "<span style=\"font-size:20px;\"><a class=\"ProveItLink\" href=\"../../__pv_it/theorems/a10dbfd9a4efbb6f30af430036ab01697a9460f80/expr.ipynb\"><img src=\"data:image/png;base64,iVBORw0KGgoAAAANSUhEUgAAADYAAAAQBAMAAACvnpHFAAAAMFBMVEX///8AAAAAAAAAAAAAAAAA\n",
       "AAAAAAAAAAAAAAAAAAAAAAAAAAAAAAAAAAAAAAAAAAAv3aB7AAAAD3RSTlMAIs1UmauJMnZmRLsQ\n",
       "3e++988cAAAACXBIWXMAAA7EAAAOxAGVKw4bAAAA40lEQVQY02NgAAEhBhTAcW/Tp7dRUI4+qhwD\n",
       "N1eD0NEFYCbzfwy5CWwCG8BMlngBDDlOgwAwMzG/AGrR3ruX4HIKIBZjQ78BWIpL4wBcH6tkAthI\n",
       "BvsJEOcegJvZ0xsGZi1mqAerYVBE2Hfp/RWwQgcGeYi9Ckhu4ZilA3LAFpd4sHvZ3969e/c2VI5h\n",
       "wzIg4wQDA/8FkAjPBiR9DBu4wUYy8D4AC11AkWMCOhzoRqYPYKEOFDkLBgY5EPsjWIjJAC6XwNbm\n",
       "wHD6vw4D8/5PYE/wRK+BBI/ebkQ8wABXNiTMIAAAYXA8zHUEOxUAAAAASUVORK5CYII=\n",
       "\" style=\"display:inline;vertical-align:middle;\" /></a>, <a class=\"ProveItLink\" href=\"../__pv_it/theorems/c50b73f2d168f6a3012768bd45c62ea92218bcbc0/expr.ipynb\"><img src=\"data:image/png;base64,iVBORw0KGgoAAAANSUhEUgAAADcAAAAQBAMAAABAXPr7AAAAMFBMVEX///8AAAAAAAAAAAAAAAAA\n",
       "AAAAAAAAAAAAAAAAAAAAAAAAAAAAAAAAAAAAAAAAAAAv3aB7AAAAD3RSTlMAZrurzTLvInZEmRDd\n",
       "VIkafcLnAAAACXBIWXMAAA7EAAAOxAGVKw4bAAAA8UlEQVQY02NgwAZ6kvzdDk8AsYT+Gxs7BaDK\n",
       "Ksxg97YEs5IYGJi/oklOZHjOBGKw/2Bg4PyFISnLDGIwAnUx/gCLceicOQKXZAExmD8wMLCkg1ic\n",
       "HhsQOs3lQAw2BQZuG7CDSjYgHLTj8AMQI16jw0QALOSOsHOO25/VIEZ/AQNvIljIAdlBjVNA5qgB\n",
       "8XuQsaw5Z86cOQSTZOIEmfsZiOUbgAS3ArJOJgYgl/UjkGMPDqsDqJJAWzi+AxV8AQt1oEjyAk1j\n",
       "SWBgmOYNFmK5AJecx/DiFTAI9D8bm+hChLiNZkMYLUn60FhBApyPoMEHAQCDjz3xiC/o5wAAAABJ\n",
       "RU5ErkJggg==\n",
       "\" style=\"display:inline;vertical-align:middle;\" /></a>, <a class=\"ProveItLink\" href=\"../../disjunction/__pv_it/theorems/8552c6321b312c5e15a5015adce4a756ce05da420/expr.ipynb\"><img src=\"data:image/png;base64,iVBORw0KGgoAAAANSUhEUgAAAB0AAAAOBAMAAAAh/woJAAAAMFBMVEX///8AAAAAAAAAAAAAAAAA\n",
       "AAAAAAAAAAAAAAAAAAAAAAAAAAAAAAAAAAAAAAAAAAAv3aB7AAAAD3RSTlMAmd0iq2a7zTLvdkQQ\n",
       "VIm/XloVAAAACXBIWXMAAA7EAAAOxAGVKw4bAAAAgUlEQVQI12NggALW/C8u7hkMCMCZwMDg34Dg\n",
       "2y9gYNgvgODHA+XiFyD4/kBcaYDgT2NgOKKB4HJ8W7WkFEgLKQGBIgMD12cGhpsBUEkTBga2CQwM\n",
       "fD8QfH4HoJt+Ifj9QLUsv6F8QwaG9UCr+gsQ5lcyMHBPPwDnuv13cSm7wMAAAOyYG523RGm6AAAA\n",
       "AElFTkSuQmCC\n",
       "\" style=\"display:inline;vertical-align:middle;\" /></a> <a class=\"ProveItLink\" href=\"../__pv_it/demonstrations/a33ca9f11f3263ef9ec7c30975aa469b404bca8e0/proof.ipynb\" style=\"text-decoration: none\">&nbsp;&#x22A2;&nbsp;&nbsp;</a><a class=\"ProveItLink\" href=\"../__pv_it/theorems/0567bf29b3602a47df1cf08da8d3e179ba950a980/expr.ipynb\"><img src=\"data:image/png;base64,iVBORw0KGgoAAAANSUhEUgAAAFYAAAAVBAMAAAAutAQGAAAAMFBMVEX///8AAAAAAAAAAAAAAAAA\n",
       "AAAAAAAAAAAAAAAAAAAAAAAAAAAAAAAAAAAAAAAAAAAv3aB7AAAAD3RSTlMAmd0iq3ZUiRDNZu9E\n",
       "uzLWhN+VAAAACXBIWXMAAA7EAAAOxAGVKw4bAAABh0lEQVQoz2NgQABmBjwATTIMIjgBq1qeAGQe\n",
       "WwGY4vyAqojr/hcXz3sMDFHIgp0QKh+qlj0BKs59gYHB/wEDZwOSWikIJfIZQjfB3GIPtP28AAOX\n",
       "AJLaDRDjzP9BuFE+UPH1D4AYqH4HknMh5piyfoPwFd5CJfyBeLYBA8MshFpGiNcE2H5BfcppAJHY\n",
       "y8DQogekSxBqOReAgyaB7zuEa8AGcSDf39AQsJErGYSUgEARyGQC+5uRgfkLWMkTBgYNMIMV6Nds\n",
       "kDnZEDNNQEFzAMSKFRT5CxbyY2AIBTN4gX5mB/n3PZpaDqB/P4FEOIA+bQLL8TsA4+MrkHEaoRbs\n",
       "BkYg1obFBCPYVe+B9rP8ATKSIGoNQXaBIvwUEM8HiTDBU0Y8MDjeg1hrEeHADrSLGRQf90FhtRQk\n",
       "dA9EzAYGzk5Q/Ioj1PIpMHDc/9nAkPt/OpDnARJ6CsS+/11c5oIdo4MUx3oMeAGzAhJnIX61jAuQ\n",
       "OLwGeNXaInM4LuBVexmFZ4pPKasBAwCtY0/Lm8R8fAAAAABJRU5ErkJggg==\n",
       "\" style=\"display:inline;vertical-align:middle;\" /></a></span>"
      ],
      "text/plain": [
       "{A in BOOLEAN, B in BOOLEAN, [not](B)} |- [not](A and B)"
      ]
     },
     "metadata": {},
     "output_type": "display_data"
    }
   ],
   "source": [
    "Not(And(A,B)).prove(assumptions=[in_bool(A), in_bool(B), Not(B)])"
   ]
  },
  {
   "cell_type": "code",
   "execution_count": 32,
   "metadata": {},
   "outputs": [
    {
     "data": {
      "text/html": [
       "<span style=\"font-size:20px;\"><a class=\"ProveItLink\" href=\"../../__pv_it/theorems/a10dbfd9a4efbb6f30af430036ab01697a9460f80/expr.ipynb\"><img src=\"data:image/png;base64,iVBORw0KGgoAAAANSUhEUgAAADYAAAAQBAMAAACvnpHFAAAAMFBMVEX///8AAAAAAAAAAAAAAAAA\n",
       "AAAAAAAAAAAAAAAAAAAAAAAAAAAAAAAAAAAAAAAAAAAv3aB7AAAAD3RSTlMAIs1UmauJMnZmRLsQ\n",
       "3e++988cAAAACXBIWXMAAA7EAAAOxAGVKw4bAAAA40lEQVQY02NgAAEhBhTAcW/Tp7dRUI4+qhwD\n",
       "N1eD0NEFYCbzfwy5CWwCG8BMlngBDDlOgwAwMzG/AGrR3ruX4HIKIBZjQ78BWIpL4wBcH6tkAthI\n",
       "BvsJEOcegJvZ0xsGZi1mqAerYVBE2Hfp/RWwQgcGeYi9Ckhu4ZilA3LAFpd4sHvZ3969e/c2VI5h\n",
       "wzIg4wQDA/8FkAjPBiR9DBu4wUYy8D4AC11AkWMCOhzoRqYPYKEOFDkLBgY5EPsjWIjJAC6XwNbm\n",
       "wHD6vw4D8/5PYE/wRK+BBI/ebkQ8wABXNiTMIAAAYXA8zHUEOxUAAAAASUVORK5CYII=\n",
       "\" style=\"display:inline;vertical-align:middle;\" /></a>, <a class=\"ProveItLink\" href=\"../__pv_it/theorems/c50b73f2d168f6a3012768bd45c62ea92218bcbc0/expr.ipynb\"><img src=\"data:image/png;base64,iVBORw0KGgoAAAANSUhEUgAAADcAAAAQBAMAAABAXPr7AAAAMFBMVEX///8AAAAAAAAAAAAAAAAA\n",
       "AAAAAAAAAAAAAAAAAAAAAAAAAAAAAAAAAAAAAAAAAAAv3aB7AAAAD3RSTlMAZrurzTLvInZEmRDd\n",
       "VIkafcLnAAAACXBIWXMAAA7EAAAOxAGVKw4bAAAA8UlEQVQY02NgwAZ6kvzdDk8AsYT+Gxs7BaDK\n",
       "Ksxg97YEs5IYGJi/oklOZHjOBGKw/2Bg4PyFISnLDGIwAnUx/gCLceicOQKXZAExmD8wMLCkg1ic\n",
       "HhsQOs3lQAw2BQZuG7CDSjYgHLTj8AMQI16jw0QALOSOsHOO25/VIEZ/AQNvIljIAdlBjVNA5qgB\n",
       "8XuQsaw5Z86cOQSTZOIEmfsZiOUbgAS3ArJOJgYgl/UjkGMPDqsDqJJAWzi+AxV8AQt1oEjyAk1j\n",
       "SWBgmOYNFmK5AJecx/DiFTAI9D8bm+hChLiNZkMYLUn60FhBApyPoMEHAQCDjz3xiC/o5wAAAABJ\n",
       "RU5ErkJggg==\n",
       "\" style=\"display:inline;vertical-align:middle;\" /></a>, <a class=\"ProveItLink\" href=\"../../__pv_it/theorems/c6244e76de3be0816f3efc36199d65e50f6589940/expr.ipynb\"><img src=\"data:image/png;base64,iVBORw0KGgoAAAANSUhEUgAAABwAAAAPBAMAAAAFYbKSAAAAMFBMVEX///8AAAAAAAAAAAAAAAAA\n",
       "AAAAAAAAAAAAAAAAAAAAAAAAAAAAAAAAAAAAAAAAAAAv3aB7AAAAD3RSTlMAmd0iq81UiTJ2ZkS7\n",
       "EO8Z3gX6AAAACXBIWXMAAA7EAAAOxAGVKw4bAAAAaUlEQVQI12NgQADmAAZkwPoBhZuPyhX5jMxj\n",
       "N/+BzLXk/IbMFWD7hcTjTuD4zsAgpAQEikAuIwPzF6iMCRDPERT5g+DyTmBg+ITgMgIpPSjXkIFh\n",
       "F5CKRzj/AZA4bwDl8Z7/eoEh5384AEaRFfDwb8v9AAAAAElFTkSuQmCC\n",
       "\" style=\"display:inline;vertical-align:middle;\" /></a> <a class=\"ProveItLink\" href=\"../__pv_it/demonstrations/ce3963664fae5b43c6b1ca04994dd21f84fbd12f0/proof.ipynb\" style=\"text-decoration: none\">&nbsp;&#x22A2;&nbsp;&nbsp;</a><a class=\"ProveItLink\" href=\"../__pv_it/theorems/0567bf29b3602a47df1cf08da8d3e179ba950a980/expr.ipynb\"><img src=\"data:image/png;base64,iVBORw0KGgoAAAANSUhEUgAAAFYAAAAVBAMAAAAutAQGAAAAMFBMVEX///8AAAAAAAAAAAAAAAAA\n",
       "AAAAAAAAAAAAAAAAAAAAAAAAAAAAAAAAAAAAAAAAAAAv3aB7AAAAD3RSTlMAmd0iq3ZUiRDNZu9E\n",
       "uzLWhN+VAAAACXBIWXMAAA7EAAAOxAGVKw4bAAABh0lEQVQoz2NgQABmBjwATTIMIjgBq1qeAGQe\n",
       "WwGY4vyAqojr/hcXz3sMDFHIgp0QKh+qlj0BKs59gYHB/wEDZwOSWikIJfIZQjfB3GIPtP28AAOX\n",
       "AJLaDRDjzP9BuFE+UPH1D4AYqH4HknMh5piyfoPwFd5CJfyBeLYBA8MshFpGiNcE2H5BfcppAJHY\n",
       "y8DQogekSxBqOReAgyaB7zuEa8AGcSDf39AQsJErGYSUgEARyGQC+5uRgfkLWMkTBgYNMIMV6Nds\n",
       "kDnZEDNNQEFzAMSKFRT5CxbyY2AIBTN4gX5mB/n3PZpaDqB/P4FEOIA+bQLL8TsA4+MrkHEaoRbs\n",
       "BkYg1obFBCPYVe+B9rP8ATKSIGoNQXaBIvwUEM8HiTDBU0Y8MDjeg1hrEeHADrSLGRQf90FhtRQk\n",
       "dA9EzAYGzk5Q/Ioj1PIpMHDc/9nAkPt/OpDnARJ6CsS+/11c5oIdo4MUx3oMeAGzAhJnIX61jAuQ\n",
       "OLwGeNXaInM4LuBVexmFZ4pPKasBAwCtY0/Lm8R8fAAAAABJRU5ErkJggg==\n",
       "\" style=\"display:inline;vertical-align:middle;\" /></a></span>"
      ],
      "text/plain": [
       "{A in BOOLEAN, B in BOOLEAN, [not](A)} |- [not](A and B)"
      ]
     },
     "metadata": {},
     "output_type": "display_data"
    }
   ],
   "source": [
    "Not(And(A,B)).prove(assumptions=[in_bool(A), in_bool(B), Not(A)])"
   ]
  },
  {
   "cell_type": "code",
   "execution_count": 33,
   "metadata": {},
   "outputs": [
    {
     "data": {
      "text/html": [
       "<span style=\"font-size:20px;\"><a class=\"ProveItLink\" href=\"../../disjunction/__pv_it/theorems/8552c6321b312c5e15a5015adce4a756ce05da420/expr.ipynb\"><img src=\"data:image/png;base64,iVBORw0KGgoAAAANSUhEUgAAAB0AAAAOBAMAAAAh/woJAAAAMFBMVEX///8AAAAAAAAAAAAAAAAA\n",
       "AAAAAAAAAAAAAAAAAAAAAAAAAAAAAAAAAAAAAAAAAAAv3aB7AAAAD3RSTlMAmd0iq2a7zTLvdkQQ\n",
       "VIm/XloVAAAACXBIWXMAAA7EAAAOxAGVKw4bAAAAgUlEQVQI12NggALW/C8u7hkMCMCZwMDg34Dg\n",
       "2y9gYNgvgODHA+XiFyD4/kBcaYDgT2NgOKKB4HJ8W7WkFEgLKQGBIgMD12cGhpsBUEkTBga2CQwM\n",
       "fD8QfH4HoJt+Ifj9QLUsv6F8QwaG9UCr+gsQ5lcyMHBPPwDnuv13cSm7wMAAAOyYG523RGm6AAAA\n",
       "AElFTkSuQmCC\n",
       "\" style=\"display:inline;vertical-align:middle;\" /></a> <a class=\"ProveItLink\" href=\"../__pv_it/demonstrations/1f6a76ff100da1046f1c75e55e3ff546fc6d15240/proof.ipynb\" style=\"text-decoration: none\">&nbsp;&#x22A2;&nbsp;&nbsp;</a><a class=\"ProveItLink\" href=\"../__pv_it/demonstrations/51be80f921204bc1f91db5c0dba8499fbb64be530/expr.ipynb\"><img src=\"data:image/png;base64,iVBORw0KGgoAAAANSUhEUgAAAH0AAAAVBAMAAACZCfwhAAAAMFBMVEX///8AAAAAAAAAAAAAAAAA\n",
       "AAAAAAAAAAAAAAAAAAAAAAAAAAAAAAAAAAAAAAAAAAAv3aB7AAAAD3RSTlMAmd0iq3ZUiRDNZu9E\n",
       "uzLWhN+VAAAACXBIWXMAAA7EAAAOxAGVKw4bAAAB6UlEQVQ4y5VUzStEURT/zXvz5tM8w4IShYVi\n",
       "IaQkCxZvY6GZwhorSaFIdmbBwkJN2YhklL3ZKIqyYWt8bZn8AyMfC4Vx7rnveffNyrt177n3d87v\n",
       "vPNx7wPc0QWfw0swJln0/59/6TlNS7FfYRR7ereGHyvA9Xsr1wcjp0CRLItQ2T4vO4p4AUgVPZhx\n",
       "nMFUB7Ct8APSWSAls4q0O4rBNHCdVLHILbkLvAEHCj8uxeKq/JRxeGErjgg4SqtY9ISWqjxxMi5/\n",
       "hlc9PSHLqJkFW5GiudulYqvCxKSQokoB6mX4mM/Z1dyyFefAWqeK6a+cBIUVHnL5O7xeobTAmy1M\n",
       "Sdz8Hh+TOgcLf/z1JovaVhottG9jJIlB9mkOQZPJGVSn2ZyKaW8OP5SXspfmGRvf1KQ4x2ARBtcM\n",
       "CbIJ/6hY/IXjFx5fKvjrQHWz2GyQAW9QTfHEPlRMY9ac3QOH3ybDh5Z3bkod60oUe/BLxQIcvyhT\n",
       "SH4C3TQfhD+yjbL35r+XMEGtK2VVTBfRhEUlYgW3/ks0B0S+wntM5Jngm7RLbk8zHoxaXLXC3V5w\n",
       "+c/AZnkboadPAoOCYArCSNmy9vhKuVikyWqUl+zC5WtF+B496jtN+uc3qIc733S9oJ42ffMTnh+Y\n",
       "nvbLHwV+ARY5cO04Uq9FAAAAAElFTkSuQmCC\n",
       "\" style=\"display:inline;vertical-align:middle;\" /></a></span>"
      ],
      "text/plain": [
       "{[not](B)} |- [not](A and B and C)"
      ]
     },
     "metadata": {},
     "output_type": "display_data"
    }
   ],
   "source": [
    "Not(And(A,B,C)).prove(assumptions=[Not(B)])"
   ]
  },
  {
   "cell_type": "code",
   "execution_count": 34,
   "metadata": {},
   "outputs": [
    {
     "data": {
      "text/html": [
       "<span style=\"font-size:20px;\"><a class=\"ProveItLink\" href=\"../__pv_it/axioms/ebe322aacd1b571c58879de875163df360acd3820/expr.ipynb\"><img src=\"data:image/png;base64,iVBORw0KGgoAAAANSUhEUgAAADcAAAAPBAMAAACy3Eq1AAAAMFBMVEX///8AAAAAAAAAAAAAAAAA\n",
       "AAAAAAAAAAAAAAAAAAAAAAAAAAAAAAAAAAAAAAAAAAAv3aB7AAAAD3RSTlMAIs1UmauJMnZmRLsQ\n",
       "3e++988cAAAACXBIWXMAAA7EAAAOxAGVKw4bAAABBElEQVQY02NgAAEhBjxAH43Puf9raNB2CJv5\n",
       "P1QwGSbLt4GBIb4AzGSJFwDTPJdgkvINDAzrHcDMxHyIIo6pC6CS84EC8xtALMaGfgOwEC/7Bqhk\n",
       "PBDrgY1jYbCfABYyY1CESr5mYDh6HcxazFCfAGYoMphA5Nh/d7RqQpgODPIBYKEABt4DEMs/MjDY\n",
       "gU3j2OISD7aLtYCBA+wIBu4HDAxs30GsEwwM/BdAjENAz4AZDPxAkzh/QExl4H0ACwJnsGQ90EjW\n",
       "X0AGF5DB9AEkdAEeyv1AX9QrABlyIDs+ggIUZB83ODj0gHoeAd12+r8OA/P+T0C/sIJcyg5SEf0/\n",
       "NFQbGC4A3Zk4p5FAwSQAAAAASUVORK5CYII=\n",
       "\" style=\"display:inline;vertical-align:middle;\" /></a> <a class=\"ProveItLink\" href=\"../__pv_it/demonstrations/9f17acd0ec771fe1b1b7abe58eb35f447c7734490/proof.ipynb\" style=\"text-decoration: none\">&nbsp;&#x22A2;&nbsp;&nbsp;</a><a class=\"ProveItLink\" href=\"../../../../__pv_it/common/09585084922504426caf1db2ff588a23a0932a960/expr.ipynb\"><img src=\"data:image/png;base64,iVBORw0KGgoAAAANSUhEUgAAAA8AAAAPBAMAAADJ+Ih5AAAAMFBMVEX///8AAAAAAAAAAAAAAAAA\n",
       "AAAAAAAAAAAAAAAAAAAAAAAAAAAAAAAAAAAAAAAAAAAv3aB7AAAAD3RSTlMAIs1UmauJMnZmRLsQ\n",
       "3e++988cAAAACXBIWXMAAA7EAAAOxAGVKw4bAAAAXklEQVQI12NgAAEhBijQh9LM/6EMlngBCCMx\n",
       "vwBMMzb0G0BkGOwngBmLGeoTwAwHBvkAEM2xxSV+A4hxgoGB/wJEhoH3AZDmAupg+gBkyAEx90cG\n",
       "htP/dRiY939KAABt3hLO6mcEjQAAAABJRU5ErkJggg==\n",
       "\" style=\"display:inline;vertical-align:middle;\" /></a></span>"
      ],
      "text/plain": [
       "{A and B} |- A"
      ]
     },
     "metadata": {},
     "output_type": "display_data"
    }
   ],
   "source": [
    "And(A,B).derive_any(0, assumptions=[And(A,B), *in_bool(A,B)])"
   ]
  },
  {
   "cell_type": "code",
   "execution_count": 35,
   "metadata": {},
   "outputs": [
    {
     "data": {
      "text/html": [
       "<span style=\"font-size:20px;\"><a class=\"ProveItLink\" href=\"../__pv_it/axioms/ebe322aacd1b571c58879de875163df360acd3820/expr.ipynb\"><img src=\"data:image/png;base64,iVBORw0KGgoAAAANSUhEUgAAADcAAAAPBAMAAACy3Eq1AAAAMFBMVEX///8AAAAAAAAAAAAAAAAA\n",
       "AAAAAAAAAAAAAAAAAAAAAAAAAAAAAAAAAAAAAAAAAAAv3aB7AAAAD3RSTlMAIs1UmauJMnZmRLsQ\n",
       "3e++988cAAAACXBIWXMAAA7EAAAOxAGVKw4bAAABBElEQVQY02NgAAEhBjxAH43Puf9raNB2CJv5\n",
       "P1QwGSbLt4GBIb4AzGSJFwDTPJdgkvINDAzrHcDMxHyIIo6pC6CS84EC8xtALMaGfgOwEC/7Bqhk\n",
       "PBDrgY1jYbCfABYyY1CESr5mYDh6HcxazFCfAGYoMphA5Nh/d7RqQpgODPIBYKEABt4DEMs/MjDY\n",
       "gU3j2OISD7aLtYCBA+wIBu4HDAxs30GsEwwM/BdAjENAz4AZDPxAkzh/QExl4H0ACwJnsGQ90EjW\n",
       "X0AGF5DB9AEkdAEeyv1AX9QrABlyIDs+ggIUZB83ODj0gHoeAd12+r8OA/P+T0C/sIJcyg5SEf0/\n",
       "NFQbGC4A3Zk4p5FAwSQAAAAASUVORK5CYII=\n",
       "\" style=\"display:inline;vertical-align:middle;\" /></a> <a class=\"ProveItLink\" href=\"../__pv_it/demonstrations/daabed9a536e76af22c6398411195a5c2376f6d80/proof.ipynb\" style=\"text-decoration: none\">&nbsp;&#x22A2;&nbsp;&nbsp;</a><a class=\"ProveItLink\" href=\"../../../../__pv_it/common/a9162d1c3cc0470c02e5daf414500903a7a419230/expr.ipynb\"><img src=\"data:image/png;base64,iVBORw0KGgoAAAANSUhEUgAAABAAAAAOBAMAAADUAYG5AAAAMFBMVEX///8AAAAAAAAAAAAAAAAA\n",
       "AAAAAAAAAAAAAAAAAAAAAAAAAAAAAAAAAAAAAAAAAAAv3aB7AAAAD3RSTlMAZrurzTLvInZEmRDd\n",
       "VIkafcLnAAAACXBIWXMAAA7EAAAOxAGVKw4bAAAAb0lEQVQI12NgYBD6b2zsFMAABEkMDMxfgTT7\n",
       "DwYGzl9ABiOQxwjkMDB/YGBgSQcy2BQYuG1AiuM1OkwEQJr6Cxh4E0EMNSB+D5L6DMTyDQwMrB+B\n",
       "DPsJDAwc34GcL0AOSwIDwzRvoHH6n41NdBkYAF/iFeJ4bEa2AAAAAElFTkSuQmCC\n",
       "\" style=\"display:inline;vertical-align:middle;\" /></a></span>"
      ],
      "text/plain": [
       "{A and B} |- B"
      ]
     },
     "metadata": {},
     "output_type": "display_data"
    }
   ],
   "source": [
    "And(A,B).derive_any(1, assumptions=[And(A,B), *in_bool(A,B)])"
   ]
  },
  {
   "cell_type": "code",
   "execution_count": 36,
   "metadata": {},
   "outputs": [
    {
     "data": {
      "text/html": [
       "<span style=\"font-size:20px;\"><a class=\"ProveItLink\" href=\"../../__pv_it/theorems/a10dbfd9a4efbb6f30af430036ab01697a9460f80/expr.ipynb\"><img src=\"data:image/png;base64,iVBORw0KGgoAAAANSUhEUgAAADYAAAAQBAMAAACvnpHFAAAAMFBMVEX///8AAAAAAAAAAAAAAAAA\n",
       "AAAAAAAAAAAAAAAAAAAAAAAAAAAAAAAAAAAAAAAAAAAv3aB7AAAAD3RSTlMAIs1UmauJMnZmRLsQ\n",
       "3e++988cAAAACXBIWXMAAA7EAAAOxAGVKw4bAAAA40lEQVQY02NgAAEhBhTAcW/Tp7dRUI4+qhwD\n",
       "N1eD0NEFYCbzfwy5CWwCG8BMlngBDDlOgwAwMzG/AGrR3ruX4HIKIBZjQ78BWIpL4wBcH6tkAthI\n",
       "BvsJEOcegJvZ0xsGZi1mqAerYVBE2Hfp/RWwQgcGeYi9Ckhu4ZilA3LAFpd4sHvZ3969e/c2VI5h\n",
       "wzIg4wQDA/8FkAjPBiR9DBu4wUYy8D4AC11AkWMCOhzoRqYPYKEOFDkLBgY5EPsjWIjJAC6XwNbm\n",
       "wHD6vw4D8/5PYE/wRK+BBI/ebkQ8wABXNiTMIAAAYXA8zHUEOxUAAAAASUVORK5CYII=\n",
       "\" style=\"display:inline;vertical-align:middle;\" /></a>, <a class=\"ProveItLink\" href=\"../__pv_it/theorems/c50b73f2d168f6a3012768bd45c62ea92218bcbc0/expr.ipynb\"><img src=\"data:image/png;base64,iVBORw0KGgoAAAANSUhEUgAAADcAAAAQBAMAAABAXPr7AAAAMFBMVEX///8AAAAAAAAAAAAAAAAA\n",
       "AAAAAAAAAAAAAAAAAAAAAAAAAAAAAAAAAAAAAAAAAAAv3aB7AAAAD3RSTlMAZrurzTLvInZEmRDd\n",
       "VIkafcLnAAAACXBIWXMAAA7EAAAOxAGVKw4bAAAA8UlEQVQY02NgwAZ6kvzdDk8AsYT+Gxs7BaDK\n",
       "Ksxg97YEs5IYGJi/oklOZHjOBGKw/2Bg4PyFISnLDGIwAnUx/gCLceicOQKXZAExmD8wMLCkg1ic\n",
       "HhsQOs3lQAw2BQZuG7CDSjYgHLTj8AMQI16jw0QALOSOsHOO25/VIEZ/AQNvIljIAdlBjVNA5qgB\n",
       "8XuQsaw5Z86cOQSTZOIEmfsZiOUbgAS3ArJOJgYgl/UjkGMPDqsDqJJAWzi+AxV8AQt1oEjyAk1j\n",
       "SWBgmOYNFmK5AJecx/DiFTAI9D8bm+hChLiNZkMYLUn60FhBApyPoMEHAQCDjz3xiC/o5wAAAABJ\n",
       "RU5ErkJggg==\n",
       "\" style=\"display:inline;vertical-align:middle;\" /></a> <a class=\"ProveItLink\" href=\"../__pv_it/demonstrations/6e1c873552d74ed44944721622db449312378bed0/proof.ipynb\" style=\"text-decoration: none\">&nbsp;&#x22A2;&nbsp;&nbsp;</a><a class=\"ProveItLink\" href=\"../__pv_it/theorems/03b6fc4fd00d12dcca238ca67f903d3ab4b6cfb60/expr.ipynb\"><img src=\"data:image/png;base64,iVBORw0KGgoAAAANSUhEUgAAAKcAAAAVBAMAAADROuOhAAAAMFBMVEX///8AAAAAAAAAAAAAAAAA\n",
       "AAAAAAAAAAAAAAAAAAAAAAAAAAAAAAAAAAAAAAAAAAAv3aB7AAAAD3RSTlMAInZUiRDNmWbv3US7\n",
       "qzJazP2FAAAACXBIWXMAAA7EAAAOxAGVKw4bAAAChUlEQVQ4y4WVz2sTQRTHv5ttku2PpEFEUITW\n",
       "nHpQ2oMIFaHxDxCDx1IhBwMWBHMo1EsheNBLofGgCHoIiAcVpOjFnozxIF6aXOxBjRs8ipJaJYq2\n",
       "xvfezJbOZNkOzGZ+vM+b9777dgIgg4jmhC1GErIZm5LxoXCT4fH+NU2EhVAAnvHgpJpftfa9xk5r\n",
       "Yx2Y6EeZWO61Wlfa9k5ik44sA/GCTN2eXh8IwhisAX4bibxNKuI+kPpnEsAMOUURSJZlmvS1ULMF\n",
       "bTBGib8swSvZToVwtkiaXyYBLH2nx00KSE3Pnte5THzQBiu0sEKOb9tOhfAoSm/LJDBwkGMfzOOU\n",
       "Unh8UidR/aotfOrzFP5l26kQKUo0ccskcCD2g4UtY0GlhBklg5tLaB1ItItP6fec7XRBKx5/3zYJ\n",
       "lNzfHG9TB/IcnZx6fxlXiZjezp6QvRty6GNpTR7Laqee3SibBIan0j9ZmQIeqDMwJgC+AQ9VMZLm\n",
       "04xN25EKMZmBe9ckKF1nh0Ov4J54eLPo12TjE5CVwUiFEmHdO7ZTId5SV+92l8DxxaVtznFTmVwA\n",
       "RqtBDc6KxWhTv961UKccEtfGHiJO0z+sQkUlQ6IMVYJCTkoddCj11F8anLY1ZSLNb8RfNYgk9Uec\n",
       "fhV19l1WXxi51h+wiIYOj5btSOta8XTXJF7oj92rScUcZg35Y8B1fqzzY57OupMPKmhvYyJBea0V\n",
       "DcLhVBsUSjKHL8Bcrwi30eWaescmn6l/5AtDsnpiOyUixbfNa5kFRLzRzeNM7xLFvoqhNiKbU7VX\n",
       "9iOOIOTCCLk+zEtxH+Ia9VfRJkf7l6IJhwt+LtppiIdoYiQjF1SUSSzk/yiaOAb8B7WKrTiXBWc4\n",
       "AAAAAElFTkSuQmCC\n",
       "\" style=\"display:inline;vertical-align:middle;\" /></a></span>"
      ],
      "text/plain": [
       "{A in BOOLEAN, B in BOOLEAN} |- (A and B) = (B and A)"
      ]
     },
     "metadata": {},
     "output_type": "display_data"
    }
   ],
   "source": [
    "And(A,B).commutation(assumptions=in_bool(A, B))"
   ]
  },
  {
   "cell_type": "code",
   "execution_count": 37,
   "metadata": {},
   "outputs": [
    {
     "data": {
      "text/html": [
       "<span style=\"font-size:20px;\"><a class=\"ProveItLink\" href=\"../__pv_it/axioms/ebe322aacd1b571c58879de875163df360acd3820/expr.ipynb\"><img src=\"data:image/png;base64,iVBORw0KGgoAAAANSUhEUgAAADcAAAAPBAMAAACy3Eq1AAAAMFBMVEX///8AAAAAAAAAAAAAAAAA\n",
       "AAAAAAAAAAAAAAAAAAAAAAAAAAAAAAAAAAAAAAAAAAAv3aB7AAAAD3RSTlMAIs1UmauJMnZmRLsQ\n",
       "3e++988cAAAACXBIWXMAAA7EAAAOxAGVKw4bAAABBElEQVQY02NgAAEhBjxAH43Puf9raNB2CJv5\n",
       "P1QwGSbLt4GBIb4AzGSJFwDTPJdgkvINDAzrHcDMxHyIIo6pC6CS84EC8xtALMaGfgOwEC/7Bqhk\n",
       "PBDrgY1jYbCfABYyY1CESr5mYDh6HcxazFCfAGYoMphA5Nh/d7RqQpgODPIBYKEABt4DEMs/MjDY\n",
       "gU3j2OISD7aLtYCBA+wIBu4HDAxs30GsEwwM/BdAjENAz4AZDPxAkzh/QExl4H0ACwJnsGQ90EjW\n",
       "X0AGF5DB9AEkdAEeyv1AX9QrABlyIDs+ggIUZB83ODj0gHoeAd12+r8OA/P+T0C/sIJcyg5SEf0/\n",
       "NFQbGC4A3Zk4p5FAwSQAAAAASUVORK5CYII=\n",
       "\" style=\"display:inline;vertical-align:middle;\" /></a> <a class=\"ProveItLink\" href=\"../__pv_it/demonstrations/4672c312e790aaebff04ddcaf7456329a5109bd50/proof.ipynb\" style=\"text-decoration: none\">&nbsp;&#x22A2;&nbsp;&nbsp;</a><a class=\"ProveItLink\" href=\"../__pv_it/theorems/de444c1d2846e09c8b1eef6a7cb289a2f0270f230/expr.ipynb\"><img src=\"data:image/png;base64,iVBORw0KGgoAAAANSUhEUgAAADcAAAAPBAMAAACy3Eq1AAAAMFBMVEX///8AAAAAAAAAAAAAAAAA\n",
       "AAAAAAAAAAAAAAAAAAAAAAAAAAAAAAAAAAAAAAAAAAAv3aB7AAAAD3RSTlMAZrurzTLvInZEmRDd\n",
       "VIkafcLnAAAACXBIWXMAAA7EAAAOxAGVKw4bAAABAElEQVQY02NgwAVKwKTQf2NjpwAMSX8IlcTA\n",
       "wPwVzOK7AJfj/Q+m2H8wMHD+AjP3OMAluewLQBQjUBfjD7BIoyVc8vl7sE3MHxgYWNLBIgeCYHLs\n",
       "Df1gK9gUGLhtwMp4H7AUwExluC8AouM1OkzADAaWAt4FUMm5DPEPQHR/AQNvIlgkmIHhNFRyAUO9\n",
       "AYhWA2KI7aYMDB0QOQ6tVfYKIMZnIJZvABLcQI/sgUjuYGDgPwCkWT8CCfsJ0CDgugA1lYEnAWTC\n",
       "d6CCLyARHpAXwMHACXQgyweQE4EqpnmDhCRAhCqIKANiJqAmZv3Pxia6YLOsQUQEEG/6783Aq//l\n",
       "AQBWAjbVOZ5EqQAAAABJRU5ErkJggg==\n",
       "\" style=\"display:inline;vertical-align:middle;\" /></a></span>"
      ],
      "text/plain": [
       "{A and B} |- B and A"
      ]
     },
     "metadata": {},
     "output_type": "display_data"
    }
   ],
   "source": [
    "And(A,B).commute(assumptions=[And(A, B)])"
   ]
  },
  {
   "cell_type": "code",
   "execution_count": 38,
   "metadata": {},
   "outputs": [
    {
     "data": {
      "text/html": [
       "<span style=\"font-size:20px;\"><a class=\"ProveItLink\" href=\"../__pv_it/demonstrations/853ca21cd53752e0cddb4715e1dad1e0bcfabe460/expr.ipynb\"><img src=\"data:image/png;base64,iVBORw0KGgoAAAANSUhEUgAAALwAAAAVBAMAAAAOdJm+AAAAMFBMVEX///8AAAAAAAAAAAAAAAAA\n",
       "AAAAAAAAAAAAAAAAAAAAAAAAAAAAAAAAAAAAAAAAAAAv3aB7AAAAD3RSTlMAInZUiRDNmWbv3US7\n",
       "qzJazP2FAAAACXBIWXMAAA7EAAAOxAGVKw4bAAACrklEQVQ4y61VTWgTURCebH6aJpuYU1EQEooF\n",
       "lUqCFKVejIg3pYsHRWglFQoGBFcURC/m5EUlveihCg0IEaO0BetBL109VJDG5CAqmJDcBC/pDwSL\n",
       "tXHezO4mLzUndw8vO9/Mfm/eNzMvABABBx5XL4eSoJ+B/6MPxrpYny83Z77jywjbV7vi/aU/1S+f\n",
       "ukDvcPWbKylBw61ipYgC7O8KVYOxgYkF8KbIcrdM+KTl7zcAanUZOzAE7tsZGWtiKhsAPq2bPuOJ\n",
       "GNDH0X01LoE3b/mjeNwlXcLG53C5E5Gw8Dout3ALfQe9P1GGfrZOjHGiyoMF059FIBuTsLTI8I0c\n",
       "p2zjsoQ5PjTtj4W8TZ+CI1z4WJwrHAgbJn1N8EU6Mc+GWH/IceqqOCnW4zKX+JJmZx/anYQbrA0c\n",
       "Z5FGYNKkfwIwMSdh0ZxYL8pxu8Q2jTLAGW5AzRZn6OBna9NX0OCGmISjpqZbg4fYZ2NjHc1nxzUE\n",
       "mMWP75q4TZ+ffabBUzJ0iJaJtAwB3l9ZAxjNSNh8ewDbcXFRsxoWYpTMVEdplXtT8Ji4PtyskZah\n",
       "OiicozqNYm9L2Cw5NDmuJJZNcQzadqZQKLw06cFYZPqzqCEJew5bLsea4mn86xI2TwNSl+O2xAj+\n",
       "sjrKa3RkD4bK4mDPBqatYbnOmqIwod8SRh3vAQmjtr8gSI+RIyfR++C96Cak8q1aXr594sjVSEmY\n",
       "GDQ4BRJGbb8s3u6TY1CiP0z9tEeYa+KUgkCl46dx10eahLlRg0WSvo2JrN7SwHKH+xI2fdKzT4ef\n",
       "OOutKXCXmthcIfFxWHxbaVWrVyi0jcH54leeVRsL4cW3co2wF3ypVF5z46VX6MYM1MGRx2WqHjxd\n",
       "yHdevLoz9ObVuON55wz93h74uDP0vbJ0xZxgV/79j/0X3Wy8h4k8h0cAAAAASUVORK5CYII=\n",
       "\" style=\"display:inline;vertical-align:middle;\" /></a> <a class=\"ProveItLink\" href=\"../__pv_it/demonstrations/1b75b9212ca5123e59c94c5f0eb9b0160cfeff410/proof.ipynb\" style=\"text-decoration: none\">&nbsp;&#x22A2;&nbsp;&nbsp;</a><a class=\"ProveItLink\" href=\"../__pv_it/demonstrations/be49e688692580141a3851882e8c02185518c0cd0/expr.ipynb\"><img src=\"data:image/png;base64,iVBORw0KGgoAAAANSUhEUgAAADgAAAAQBAMAAACxV6F2AAAAMFBMVEX///8AAAAAAAAAAAAAAAAA\n",
       "AAAAAAAAAAAAAAAAAAAAAAAAAAAAAAAAAAAAAAAAAAAv3aB7AAAAD3RSTlMAdrurIs1mVDKZ70SJ\n",
       "EN02Mxp8AAAACXBIWXMAAA7EAAAOxAGVKw4bAAAA6UlEQVQY02NgwAYYX6l+XWcNYgn9VzZSdkCV\n",
       "ZeIWcL28AcT6ysDA9h1dMoHHQQHI4PgIJGZhSLIVGIAs+AEk9idALNN79xQuGQBifAAS/gdAYtyB\n",
       "F+A6md1AQvwgs/tBZjC4XoAbKytnA2L0CwCJfLDOEISdT9e/BKmUbwAS9mB3ByA5iDE7FsjQB/F+\n",
       "gQiOde/evXsElWRQ2ANkfAJitm8gIV4FJJ0MCkxQb96CCD9AkWSFelMVIiaIIlnIwMAK9Oa+CRAx\n",
       "1gK45AEemQkMzPqfjZWmQMV4jfZCAipKCRoryID7ECT4IAAAk1I8Z0PO6g0AAAAASUVORK5CYII=\n",
       "\" style=\"display:inline;vertical-align:middle;\" /></a></span>"
      ],
      "text/plain": [
       "{(A and B and C and D) in BOOLEAN} |- D in BOOLEAN"
      ]
     },
     "metadata": {},
     "output_type": "display_data"
    }
   ],
   "source": [
    "in_bool(D).prove(assumptions=[in_bool(And(A,B,C,D))])"
   ]
  },
  {
   "cell_type": "code",
   "execution_count": 39,
   "metadata": {},
   "outputs": [
    {
     "data": {
      "text/html": [
       "<strong id=\"expr\">expr:</strong> <a class=\"ProveItLink\" href=\"../__pv_it/theorems/4373c152b87fc4d27077c1df4ab38c3f250acfd50/expr.ipynb\"><img src=\"data:image/png;base64,iVBORw0KGgoAAAANSUhEUgAAAZQAAAASBAMAAACOdTXiAAAAMFBMVEX///8AAAAAAAAAAAAAAAAA\n",
       "AAAAAAAAAAAAAAAAAAAAAAAAAAAAAAAAAAAAAAAAAAAv3aB7AAAAD3RSTlMAIs1UmauJMnZmRLsQ\n",
       "3e++988cAAAACXBIWXMAAA7EAAAOxAGVKw4bAAADVUlEQVRIx8WWT2gTQRTGv80m2aRN2igiHsSk\n",
       "Fy8W7UH04KEBW0FQDMVgFaVVwZPQHBQLIg2iklKxOSiKHiyIgpcSUKkHsYsItpRiUKEXsXoQKR5M\n",
       "q20qInEm+29mdsc0WPAdlsnvvXxfZt5kZwAaa+EdMi4JJYH/Htvq5JLwlSSJO5V0ekuGZ5Gh9GGl\n",
       "110r45IQytUKmzxZk3MRbLOH7SVZ6isQKPPs2lWo+/NudZ4z6t7Sgoy/J8ZM801NzsW0s6s65yUp\n",
       "ZRlo+MGxqRnyOBBzqQt8OvF3V6Ecx/uY5odujNTiXAwesVdqfVmSCpNEeJljW3XyGHWrC9xR95YW\n",
       "ypXsMNPGqFaowfkonrdGG0LfJakA2Xm+TywLVkvPuNRF7qh7SovlfrQ7mw070FKDc6H2+qz2JtWf\n",
       "klRTAZFjGZbFi/T5yqUucEbdU1qUuYcB5o3Rgu01OP/WiqlJY9TQpi1JUgNPc115jvVleRlLXeCO\n",
       "hLerKJNEPAVMGn8kLYWozvDIqbQucC7OAu+tJiqLktRwDOocx2bNxRZdTW65OhLerrN8z0KPO3oK\n",
       "0HJFY1tnEMoy3A9/ked8HAJyxmioo/OXJPWcLmCGZd+qXHe5mtxydSS8Xc1yC08AzeR7qiH6gixJ\n",
       "keHNI0qZ5/wJRVZ12hiRn/LbOwXarbtZls1Wd3zG5Wpy05WR8Ha1ZOz9hehHeyr0qNrN8LBuTMXh\n",
       "rqPK32bsL+ADcP1mLjU4xqc0+jroGWFZ9SgIul1Nbro6EhJXq3xv/yX6b80bNw5TtGhdvSyOYJHj\n",
       "fETtq9fD6kUncnsOn3GZT4XI0aktcCxOe3Ta7WpxwzUqudiJMpOj+SYyqU3kQ+O8JRqmuUbaMYvj\n",
       "gs7yCP1JrxPmALfogzZBIY3FeEyZSKCMPVwKPpIbbeUYfW8/0N2uFjdc7XKZq1m+8SKadUxVWqGO\n",
       "L/SaogGqoBFlmyvPOI53dFWS5gBH6aOfWIwv6NhV2YxAVvuIt2wKgfHFdNcjcAwvnxykO05wtbnh\n",
       "6pR7u9rl3cyJb7faFeuwpp7bcVMmVFBKmZWWr5LrF3RoNUWVsXP76hGNk76EC8l/nEqdrkoJMzud\n",
       "TyeWsp6rXKmU6pnKfXISK936Sn/D6rg2pHAl/wf5cT6AVslNHwAAAABJRU5ErkJggg==\n",
       "\" style=\"display:inline;vertical-align:middle;\" /></a><br>"
      ],
      "text/plain": [
       "<IPython.core.display.HTML object>"
      ]
     },
     "metadata": {},
     "output_type": "display_data"
    }
   ],
   "source": [
    "from  proveit.logic.booleans.conjunction import each_is_bool\n",
    "expr = each_is_bool.instance_expr.explicit_conditions()[0].element"
   ]
  },
  {
   "cell_type": "code",
   "execution_count": 40,
   "metadata": {},
   "outputs": [
    {
     "data": {
      "text/html": [
       "<span style=\"font-size:20px;\"><a class=\"ProveItLink\" href=\"../__pv_it/theorems/22736ce9d3a37303b26f11de823dee236fdf12440/expr.ipynb\"><img src=\"data:image/png;base64,iVBORw0KGgoAAAANSUhEUgAAADsAAAAQBAMAAABaYBp1AAAAMFBMVEX///8AAAAAAAAAAAAAAAAA\n",
       "AAAAAAAAAAAAAAAAAAAAAAAAAAAAAAAAAAAAAAAAAAAv3aB7AAAAD3RSTlMARHarECKJuzJmVO/d\n",
       "mc2qKiq2AAAACXBIWXMAAA7EAAAOxAGVKw4bAAABAElEQVQY02NgwAp8vtc5MGT/FmDAAaoYDRhY\n",
       "PuCSZbAJyGRg2IBT2qqAL4DhALooU82Zc2CG6STWBxjSjI8coCxT5gY1kDSjsmtSEUdaIVgwDibL\n",
       "YMpQwC4AlGZjN2Lwn8iwGiz4lAEh3ctyBCgtyFPAEK/AMB8s+ABJmnPBcqDLHfwFGNY7MNwDiXHs\n",
       "OXPmzHGoNIMJM8hj6xlActtAYiwFSLoZnFlALrdjYDjGwPiVBSR4AFmaQwGkehsDy0cG5geRIEEl\n",
       "uHQFEGsApVl/MHB+YGBPSAAJ8i2ASb8CYl6gSxkPMDBdYGC8FAC23FwEItv3G6iT5QF6oDKmQwMV\n",
       "CgBaaz3sjV0ySwAAAABJRU5ErkJggg==\n",
       "\" style=\"display:inline;vertical-align:middle;\" /></a>, <a class=\"ProveItLink\" href=\"../../../../numbers/number_sets/natural_numbers/__pv_it/theorems/1a8a7907b709bbd24c48a9933f16dbe96429f5cc0/expr.ipynb\"><img src=\"data:image/png;base64,iVBORw0KGgoAAAANSUhEUgAAADUAAAAQBAMAAABEqSrGAAAAMFBMVEX///8AAAAAAAAAAAAAAAAA\n",
       "AAAAAAAAAAAAAAAAAAAAAAAAAAAAAAAAAAAAAAAAAAAv3aB7AAAAD3RSTlMARHarECKJu90yVM1m\n",
       "75kejotwAAAACXBIWXMAAA7EAAAOxAGVKw4bAAAA5ElEQVQY02NgwAQe36sdGHL/CjBgA1WMBgws\n",
       "H7BKMVgE5DAwXMAuZ1XAHcDQgCqm3tGxAUSbHmLdgCYnrQJlmDJPUAPJMSq7JhWBRVi3wBSZMhSw\n",
       "CwDl2NiNGPwDQCLcAQi5eSwtQDlBjgKG+AlgOQaEHM+C5UB3OvgLMKx3AInM7QCCAogcgwkzyA/r\n",
       "GRiswardkfQxOLOA3AmU+MMCEuFAluNUAJlwjYHrCxtIhEkBJlcJxJpAOdafDEwbToKFdsHkQAw+\n",
       "YCgwNjCw2CwACzkXgt3EMPsvUA/LBtQwE6voQBYBAAF6MQMvLZecAAAAAElFTkSuQmCC\n",
       "\" style=\"display:inline;vertical-align:middle;\" /></a>, <a class=\"ProveItLink\" href=\"../__pv_it/theorems/4373c152b87fc4d27077c1df4ab38c3f250acfd50/expr.ipynb\"><img src=\"data:image/png;base64,iVBORw0KGgoAAAANSUhEUgAAAZQAAAASBAMAAACOdTXiAAAAMFBMVEX///8AAAAAAAAAAAAAAAAA\n",
       "AAAAAAAAAAAAAAAAAAAAAAAAAAAAAAAAAAAAAAAAAAAv3aB7AAAAD3RSTlMAIs1UmauJMnZmRLsQ\n",
       "3e++988cAAAACXBIWXMAAA7EAAAOxAGVKw4bAAADVUlEQVRIx8WWT2gTQRTGv80m2aRN2igiHsSk\n",
       "Fy8W7UH04KEBW0FQDMVgFaVVwZPQHBQLIg2iklKxOSiKHiyIgpcSUKkHsYsItpRiUKEXsXoQKR5M\n",
       "q20qInEm+29mdsc0WPAdlsnvvXxfZt5kZwAaa+EdMi4JJYH/Htvq5JLwlSSJO5V0ekuGZ5Gh9GGl\n",
       "110r45IQytUKmzxZk3MRbLOH7SVZ6isQKPPs2lWo+/NudZ4z6t7Sgoy/J8ZM801NzsW0s6s65yUp\n",
       "ZRlo+MGxqRnyOBBzqQt8OvF3V6Ecx/uY5odujNTiXAwesVdqfVmSCpNEeJljW3XyGHWrC9xR95YW\n",
       "ypXsMNPGqFaowfkonrdGG0LfJakA2Xm+TywLVkvPuNRF7qh7SovlfrQ7mw070FKDc6H2+qz2JtWf\n",
       "klRTAZFjGZbFi/T5yqUucEbdU1qUuYcB5o3Rgu01OP/WiqlJY9TQpi1JUgNPc115jvVleRlLXeCO\n",
       "hLerKJNEPAVMGn8kLYWozvDIqbQucC7OAu+tJiqLktRwDOocx2bNxRZdTW65OhLerrN8z0KPO3oK\n",
       "0HJFY1tnEMoy3A9/ked8HAJyxmioo/OXJPWcLmCGZd+qXHe5mtxydSS8Xc1yC08AzeR7qiH6gixJ\n",
       "keHNI0qZ5/wJRVZ12hiRn/LbOwXarbtZls1Wd3zG5Wpy05WR8Ha1ZOz9hehHeyr0qNrN8LBuTMXh\n",
       "rqPK32bsL+ADcP1mLjU4xqc0+jroGWFZ9SgIul1Nbro6EhJXq3xv/yX6b80bNw5TtGhdvSyOYJHj\n",
       "fETtq9fD6kUncnsOn3GZT4XI0aktcCxOe3Ta7WpxwzUqudiJMpOj+SYyqU3kQ+O8JRqmuUbaMYvj\n",
       "gs7yCP1JrxPmALfogzZBIY3FeEyZSKCMPVwKPpIbbeUYfW8/0N2uFjdc7XKZq1m+8SKadUxVWqGO\n",
       "L/SaogGqoBFlmyvPOI53dFWS5gBH6aOfWIwv6NhV2YxAVvuIt2wKgfHFdNcjcAwvnxykO05wtbnh\n",
       "6pR7u9rl3cyJb7faFeuwpp7bcVMmVFBKmZWWr5LrF3RoNUWVsXP76hGNk76EC8l/nEqdrkoJMzud\n",
       "TyeWsp6rXKmU6pnKfXISK936Sn/D6rg2pHAl/wf5cT6AVslNHwAAAABJRU5ErkJggg==\n",
       "\" style=\"display:inline;vertical-align:middle;\" /></a> <a class=\"ProveItLink\" href=\"../__pv_it/demonstrations/30be201d430302dcb91d19ca3707653f475b046c0/proof.ipynb\" style=\"text-decoration: none\">&nbsp;&#x22A2;&nbsp;&nbsp;</a><a class=\"ProveItLink\" href=\"../../../../__pv_it/common/a9162d1c3cc0470c02e5daf414500903a7a419230/expr.ipynb\"><img src=\"data:image/png;base64,iVBORw0KGgoAAAANSUhEUgAAABAAAAAOBAMAAADUAYG5AAAAMFBMVEX///8AAAAAAAAAAAAAAAAA\n",
       "AAAAAAAAAAAAAAAAAAAAAAAAAAAAAAAAAAAAAAAAAAAv3aB7AAAAD3RSTlMAZrurzTLvInZEmRDd\n",
       "VIkafcLnAAAACXBIWXMAAA7EAAAOxAGVKw4bAAAAb0lEQVQI12NgYBD6b2zsFMAABEkMDMxfgTT7\n",
       "DwYGzl9ABiOQxwjkMDB/YGBgSQcy2BQYuG1AiuM1OkwEQJr6Cxh4E0EMNSB+D5L6DMTyDQwMrB+B\n",
       "DPsJDAwc34GcL0AOSwIDwzRvoHH6n41NdBkYAF/iFeJ4bEa2AAAAAElFTkSuQmCC\n",
       "\" style=\"display:inline;vertical-align:middle;\" /></a></span>"
      ],
      "text/plain": [
       "{m in Natural, n in Natural, A_{1} and  A_{2} and  ... and  A_{m} and Band C_{1} and  C_{2} and  ... and  C_{n}} |- B"
      ]
     },
     "metadata": {},
     "output_type": "display_data"
    }
   ],
   "source": [
    "from proveit.logic import InSet\n",
    "from proveit.numbers import Natural\n",
    "expr.derive_any(1, assumptions=[InSet(m, Natural), InSet(n, Natural), expr])"
   ]
  },
  {
   "cell_type": "code",
   "execution_count": 41,
   "metadata": {},
   "outputs": [
    {
     "data": {
      "text/html": [
       "<span style=\"font-size:20px;\"><a class=\"ProveItLink\" href=\"../__pv_it/theorems/22736ce9d3a37303b26f11de823dee236fdf12440/expr.ipynb\"><img src=\"data:image/png;base64,iVBORw0KGgoAAAANSUhEUgAAADsAAAAQBAMAAABaYBp1AAAAMFBMVEX///8AAAAAAAAAAAAAAAAA\n",
       "AAAAAAAAAAAAAAAAAAAAAAAAAAAAAAAAAAAAAAAAAAAv3aB7AAAAD3RSTlMARHarECKJuzJmVO/d\n",
       "mc2qKiq2AAAACXBIWXMAAA7EAAAOxAGVKw4bAAABAElEQVQY02NgwAp8vtc5MGT/FmDAAaoYDRhY\n",
       "PuCSZbAJyGRg2IBT2qqAL4DhALooU82Zc2CG6STWBxjSjI8coCxT5gY1kDSjsmtSEUdaIVgwDibL\n",
       "YMpQwC4AlGZjN2Lwn8iwGiz4lAEh3ctyBCgtyFPAEK/AMB8s+ABJmnPBcqDLHfwFGNY7MNwDiXHs\n",
       "OXPmzHGoNIMJM8hj6xlActtAYiwFSLoZnFlALrdjYDjGwPiVBSR4AFmaQwGkehsDy0cG5geRIEEl\n",
       "uHQFEGsApVl/MHB+YGBPSAAJ8i2ASb8CYl6gSxkPMDBdYGC8FAC23FwEItv3G6iT5QF6oDKmQwMV\n",
       "CgBaaz3sjV0ySwAAAABJRU5ErkJggg==\n",
       "\" style=\"display:inline;vertical-align:middle;\" /></a>, <a class=\"ProveItLink\" href=\"../../../../numbers/number_sets/natural_numbers/__pv_it/theorems/1a8a7907b709bbd24c48a9933f16dbe96429f5cc0/expr.ipynb\"><img src=\"data:image/png;base64,iVBORw0KGgoAAAANSUhEUgAAADUAAAAQBAMAAABEqSrGAAAAMFBMVEX///8AAAAAAAAAAAAAAAAA\n",
       "AAAAAAAAAAAAAAAAAAAAAAAAAAAAAAAAAAAAAAAAAAAv3aB7AAAAD3RSTlMARHarECKJu90yVM1m\n",
       "75kejotwAAAACXBIWXMAAA7EAAAOxAGVKw4bAAAA5ElEQVQY02NgwAQe36sdGHL/CjBgA1WMBgws\n",
       "H7BKMVgE5DAwXMAuZ1XAHcDQgCqm3tGxAUSbHmLdgCYnrQJlmDJPUAPJMSq7JhWBRVi3wBSZMhSw\n",
       "CwDl2NiNGPwDQCLcAQi5eSwtQDlBjgKG+AlgOQaEHM+C5UB3OvgLMKx3AInM7QCCAogcgwkzyA/r\n",
       "GRiswardkfQxOLOA3AmU+MMCEuFAluNUAJlwjYHrCxtIhEkBJlcJxJpAOdafDEwbToKFdsHkQAw+\n",
       "YCgwNjCw2CwACzkXgt3EMPsvUA/LBtQwE6voQBYBAAF6MQMvLZecAAAAAElFTkSuQmCC\n",
       "\" style=\"display:inline;vertical-align:middle;\" /></a>, <a class=\"ProveItLink\" href=\"../__pv_it/theorems/4373c152b87fc4d27077c1df4ab38c3f250acfd50/expr.ipynb\"><img src=\"data:image/png;base64,iVBORw0KGgoAAAANSUhEUgAAAZQAAAASBAMAAACOdTXiAAAAMFBMVEX///8AAAAAAAAAAAAAAAAA\n",
       "AAAAAAAAAAAAAAAAAAAAAAAAAAAAAAAAAAAAAAAAAAAv3aB7AAAAD3RSTlMAIs1UmauJMnZmRLsQ\n",
       "3e++988cAAAACXBIWXMAAA7EAAAOxAGVKw4bAAADVUlEQVRIx8WWT2gTQRTGv80m2aRN2igiHsSk\n",
       "Fy8W7UH04KEBW0FQDMVgFaVVwZPQHBQLIg2iklKxOSiKHiyIgpcSUKkHsYsItpRiUKEXsXoQKR5M\n",
       "q20qInEm+29mdsc0WPAdlsnvvXxfZt5kZwAaa+EdMi4JJYH/Htvq5JLwlSSJO5V0ekuGZ5Gh9GGl\n",
       "110r45IQytUKmzxZk3MRbLOH7SVZ6isQKPPs2lWo+/NudZ4z6t7Sgoy/J8ZM801NzsW0s6s65yUp\n",
       "ZRlo+MGxqRnyOBBzqQt8OvF3V6Ecx/uY5odujNTiXAwesVdqfVmSCpNEeJljW3XyGHWrC9xR95YW\n",
       "ypXsMNPGqFaowfkonrdGG0LfJakA2Xm+TywLVkvPuNRF7qh7SovlfrQ7mw070FKDc6H2+qz2JtWf\n",
       "klRTAZFjGZbFi/T5yqUucEbdU1qUuYcB5o3Rgu01OP/WiqlJY9TQpi1JUgNPc115jvVleRlLXeCO\n",
       "hLerKJNEPAVMGn8kLYWozvDIqbQucC7OAu+tJiqLktRwDOocx2bNxRZdTW65OhLerrN8z0KPO3oK\n",
       "0HJFY1tnEMoy3A9/ked8HAJyxmioo/OXJPWcLmCGZd+qXHe5mtxydSS8Xc1yC08AzeR7qiH6gixJ\n",
       "keHNI0qZ5/wJRVZ12hiRn/LbOwXarbtZls1Wd3zG5Wpy05WR8Ha1ZOz9hehHeyr0qNrN8LBuTMXh\n",
       "rqPK32bsL+ADcP1mLjU4xqc0+jroGWFZ9SgIul1Nbro6EhJXq3xv/yX6b80bNw5TtGhdvSyOYJHj\n",
       "fETtq9fD6kUncnsOn3GZT4XI0aktcCxOe3Ta7WpxwzUqudiJMpOj+SYyqU3kQ+O8JRqmuUbaMYvj\n",
       "gs7yCP1JrxPmALfogzZBIY3FeEyZSKCMPVwKPpIbbeUYfW8/0N2uFjdc7XKZq1m+8SKadUxVWqGO\n",
       "L/SaogGqoBFlmyvPOI53dFWS5gBH6aOfWIwv6NhV2YxAVvuIt2wKgfHFdNcjcAwvnxykO05wtbnh\n",
       "6pR7u9rl3cyJb7faFeuwpp7bcVMmVFBKmZWWr5LrF3RoNUWVsXP76hGNk76EC8l/nEqdrkoJMzud\n",
       "TyeWsp6rXKmU6pnKfXISK936Sn/D6rg2pHAl/wf5cT6AVslNHwAAAABJRU5ErkJggg==\n",
       "\" style=\"display:inline;vertical-align:middle;\" /></a> <a class=\"ProveItLink\" href=\"../__pv_it/demonstrations/2340b1101618a59cc7e69be2c069c5be2300995f0/proof.ipynb\" style=\"text-decoration: none\">&nbsp;&#x22A2;&nbsp;&nbsp;</a><a class=\"ProveItLink\" href=\"../__pv_it/theorems/979fea90c43ade83e382acdd213d17b696496eed0/expr.ipynb\"><img src=\"data:image/png;base64,iVBORw0KGgoAAAANSUhEUgAAAK4AAAASBAMAAAAwKvjTAAAAMFBMVEX///8AAAAAAAAAAAAAAAAA\n",
       "AAAAAAAAAAAAAAAAAAAAAAAAAAAAAAAAAAAAAAAAAAAv3aB7AAAAD3RSTlMAIs1UmauJMnZmRLsQ\n",
       "3e++988cAAAACXBIWXMAAA7EAAAOxAGVKw4bAAABsklEQVQ4y5WUPUjDQBiG3zSp6V/aKrqJbXeh\n",
       "HcTVgi6CQxdRRGhUcLWLWBC1CEJFwS6C0KXgLh2ELoLFySLFII4Obq61g47xzv7cXb0S8w4H38Ob\n",
       "l/v5vgBUY5BrGMc//ckhvqTL3AG/avPVliMXNJIa4ge0bJQVoRdHLqgZl/uJNnZyrPBdVpy4oNM1\n",
       "eQ6gFC7YWWDoVQcuytqX55DtY67EqlkkHLj4NqYnKvUD1zgyWZXAjAMX5ImqaakfSCOWARqd+9cz\n",
       "MOocD20v1we4oF3gTchhD3K7kK1CL1q/lTcHX4HjGjRL5KJWgCKfw/QIRMinaif3gXSUxfFIRfkW\n",
       "uaAQOWVTyOGuAcZ7P5d2/zzH/fVOLuN/pkJL8f7F/ImvTPotQN7Q0+rnWr0x73GMWAIXZdD+inP+\n",
       "xk0pnPGRe54iLPjZy/XTOwzS9u5xHNR5HmqjuzzTuCv6UQ3MP3mMSE4z8WRPQ71vm91cLw3RSUif\n",
       "K3cCxyu6i0H7a51WeXD+VRzC4OZDteTzP45RV/+0D5whpjvmKrW9JTexSovsuKyxevNL1p4I23bL\n",
       "TW4gQyZz4vwHWSGBudkCA2YAAAAASUVORK5CYII=\n",
       "\" style=\"display:inline;vertical-align:middle;\" /></a></span>"
      ],
      "text/plain": [
       "{m in Natural, n in Natural, A_{1} and  A_{2} and  ... and  A_{m} and Band C_{1} and  C_{2} and  ... and  C_{n}} |- A_{1} and  A_{2} and  ... and  A_{m}"
      ]
     },
     "metadata": {},
     "output_type": "display_data"
    }
   ],
   "source": [
    "expr.derive_some(0, assumptions=[InSet(m, Natural), InSet(n, Natural), expr])"
   ]
  },
  {
   "cell_type": "code",
   "execution_count": 42,
   "metadata": {},
   "outputs": [
    {
     "data": {
      "text/html": [
       "<strong id=\"and_C_1_to_n\">and_C_1_to_n:</strong> <span style=\"font-size:20px;\"><a class=\"ProveItLink\" href=\"../__pv_it/theorems/22736ce9d3a37303b26f11de823dee236fdf12440/expr.ipynb\"><img src=\"data:image/png;base64,iVBORw0KGgoAAAANSUhEUgAAADsAAAAQBAMAAABaYBp1AAAAMFBMVEX///8AAAAAAAAAAAAAAAAA\n",
       "AAAAAAAAAAAAAAAAAAAAAAAAAAAAAAAAAAAAAAAAAAAv3aB7AAAAD3RSTlMARHarECKJuzJmVO/d\n",
       "mc2qKiq2AAAACXBIWXMAAA7EAAAOxAGVKw4bAAABAElEQVQY02NgwAp8vtc5MGT/FmDAAaoYDRhY\n",
       "PuCSZbAJyGRg2IBT2qqAL4DhALooU82Zc2CG6STWBxjSjI8coCxT5gY1kDSjsmtSEUdaIVgwDibL\n",
       "YMpQwC4AlGZjN2Lwn8iwGiz4lAEh3ctyBCgtyFPAEK/AMB8s+ABJmnPBcqDLHfwFGNY7MNwDiXHs\n",
       "OXPmzHGoNIMJM8hj6xlActtAYiwFSLoZnFlALrdjYDjGwPiVBSR4AFmaQwGkehsDy0cG5geRIEEl\n",
       "uHQFEGsApVl/MHB+YGBPSAAJ8i2ASb8CYl6gSxkPMDBdYGC8FAC23FwEItv3G6iT5QF6oDKmQwMV\n",
       "CgBaaz3sjV0ySwAAAABJRU5ErkJggg==\n",
       "\" style=\"display:inline;vertical-align:middle;\" /></a>, <a class=\"ProveItLink\" href=\"../../../../numbers/number_sets/natural_numbers/__pv_it/theorems/1a8a7907b709bbd24c48a9933f16dbe96429f5cc0/expr.ipynb\"><img src=\"data:image/png;base64,iVBORw0KGgoAAAANSUhEUgAAADUAAAAQBAMAAABEqSrGAAAAMFBMVEX///8AAAAAAAAAAAAAAAAA\n",
       "AAAAAAAAAAAAAAAAAAAAAAAAAAAAAAAAAAAAAAAAAAAv3aB7AAAAD3RSTlMARHarECKJu90yVM1m\n",
       "75kejotwAAAACXBIWXMAAA7EAAAOxAGVKw4bAAAA5ElEQVQY02NgwAQe36sdGHL/CjBgA1WMBgws\n",
       "H7BKMVgE5DAwXMAuZ1XAHcDQgCqm3tGxAUSbHmLdgCYnrQJlmDJPUAPJMSq7JhWBRVi3wBSZMhSw\n",
       "CwDl2NiNGPwDQCLcAQi5eSwtQDlBjgKG+AlgOQaEHM+C5UB3OvgLMKx3AInM7QCCAogcgwkzyA/r\n",
       "GRiswardkfQxOLOA3AmU+MMCEuFAluNUAJlwjYHrCxtIhEkBJlcJxJpAOdafDEwbToKFdsHkQAw+\n",
       "YCgwNjCw2CwACzkXgt3EMPsvUA/LBtQwE6voQBYBAAF6MQMvLZecAAAAAElFTkSuQmCC\n",
       "\" style=\"display:inline;vertical-align:middle;\" /></a>, <a class=\"ProveItLink\" href=\"../__pv_it/theorems/4373c152b87fc4d27077c1df4ab38c3f250acfd50/expr.ipynb\"><img src=\"data:image/png;base64,iVBORw0KGgoAAAANSUhEUgAAAZQAAAASBAMAAACOdTXiAAAAMFBMVEX///8AAAAAAAAAAAAAAAAA\n",
       "AAAAAAAAAAAAAAAAAAAAAAAAAAAAAAAAAAAAAAAAAAAv3aB7AAAAD3RSTlMAIs1UmauJMnZmRLsQ\n",
       "3e++988cAAAACXBIWXMAAA7EAAAOxAGVKw4bAAADVUlEQVRIx8WWT2gTQRTGv80m2aRN2igiHsSk\n",
       "Fy8W7UH04KEBW0FQDMVgFaVVwZPQHBQLIg2iklKxOSiKHiyIgpcSUKkHsYsItpRiUKEXsXoQKR5M\n",
       "q20qInEm+29mdsc0WPAdlsnvvXxfZt5kZwAaa+EdMi4JJYH/Htvq5JLwlSSJO5V0ekuGZ5Gh9GGl\n",
       "110r45IQytUKmzxZk3MRbLOH7SVZ6isQKPPs2lWo+/NudZ4z6t7Sgoy/J8ZM801NzsW0s6s65yUp\n",
       "ZRlo+MGxqRnyOBBzqQt8OvF3V6Ecx/uY5odujNTiXAwesVdqfVmSCpNEeJljW3XyGHWrC9xR95YW\n",
       "ypXsMNPGqFaowfkonrdGG0LfJakA2Xm+TywLVkvPuNRF7qh7SovlfrQ7mw070FKDc6H2+qz2JtWf\n",
       "klRTAZFjGZbFi/T5yqUucEbdU1qUuYcB5o3Rgu01OP/WiqlJY9TQpi1JUgNPc115jvVleRlLXeCO\n",
       "hLerKJNEPAVMGn8kLYWozvDIqbQucC7OAu+tJiqLktRwDOocx2bNxRZdTW65OhLerrN8z0KPO3oK\n",
       "0HJFY1tnEMoy3A9/ked8HAJyxmioo/OXJPWcLmCGZd+qXHe5mtxydSS8Xc1yC08AzeR7qiH6gixJ\n",
       "keHNI0qZ5/wJRVZ12hiRn/LbOwXarbtZls1Wd3zG5Wpy05WR8Ha1ZOz9hehHeyr0qNrN8LBuTMXh\n",
       "rqPK32bsL+ADcP1mLjU4xqc0+jroGWFZ9SgIul1Nbro6EhJXq3xv/yX6b80bNw5TtGhdvSyOYJHj\n",
       "fETtq9fD6kUncnsOn3GZT4XI0aktcCxOe3Ta7WpxwzUqudiJMpOj+SYyqU3kQ+O8JRqmuUbaMYvj\n",
       "gs7yCP1JrxPmALfogzZBIY3FeEyZSKCMPVwKPpIbbeUYfW8/0N2uFjdc7XKZq1m+8SKadUxVWqGO\n",
       "L/SaogGqoBFlmyvPOI53dFWS5gBH6aOfWIwv6NhV2YxAVvuIt2wKgfHFdNcjcAwvnxykO05wtbnh\n",
       "6pR7u9rl3cyJb7faFeuwpp7bcVMmVFBKmZWWr5LrF3RoNUWVsXP76hGNk76EC8l/nEqdrkoJMzud\n",
       "TyeWsp6rXKmU6pnKfXISK936Sn/D6rg2pHAl/wf5cT6AVslNHwAAAABJRU5ErkJggg==\n",
       "\" style=\"display:inline;vertical-align:middle;\" /></a> <a class=\"ProveItLink\" href=\"../__pv_it/demonstrations/99fb53f7cdfede9385039fcca2ffa1b7e17dc7e50/proof.ipynb\" style=\"text-decoration: none\">&nbsp;&#x22A2;&nbsp;&nbsp;</a><a class=\"ProveItLink\" href=\"../__pv_it/demonstrations/56b3dcf651ce9cc1ed2f41b3eacac1d44d884cb70/expr.ipynb\"><img src=\"data:image/png;base64,iVBORw0KGgoAAAANSUhEUgAAAKUAAAARBAMAAABOXnGKAAAAMFBMVEX///8AAAAAAAAAAAAAAAAA\n",
       "AAAAAAAAAAAAAAAAAAAAAAAAAAAAAAAAAAAAAAAAAAAv3aB7AAAAD3RSTlMAEHa7q2Yiie9Umd0y\n",
       "zUTye3nKAAAACXBIWXMAAA7EAAAOxAGVKw4bAAAB4ElEQVQ4y5WUTygEcRTHv7PWrN2Z1URS/mSt\n",
       "lKODGwdqXSQtOUnacnDSruIgyZ/iyk1JmXKS8ufgIjLhQg5OcnRQHFFI8uf3fjPzy45XeLXv7b75\n",
       "7Hfe7703A0CrS7XrOfywkqZUegh/tjy8oRbRjbS6Nu7F0KyF5V2VjizyUixeui/cVsZntAMvNjtA\n",
       "7Fn9t/KCleTxK0u4OwWFeq9ljM8IVzyt8vVdrCaLR17JnynIMBtlnKKzmrbKbx+zmiye3SZfpaAl\n",
       "XFLQ3+SJHD8dzcUznCaLTyXyoUssy/If89PxTNTmNFn80Lt9mTsDsxUGNdjw2l0+2ibjCbDDSAZx\n",
       "1xakt8yk7AHCDkJUedG9PAxsbMh8J5BkNIO4V6fsloOoq1ktrtA3Q0Ir+ECWmqSJU1QymkHcNbmZ\n",
       "EfiatMLr8Fcth25XkzY+tshv/He8rz8p2p6l0keUJvlhGiQ1PUKtmpArQylm6wO4NjCHeaH1BNxa\n",
       "vmYh3aGAKltNo3iEpiBH00OuRXxqhLD2Ds8Fcb3kAg/iV0VTBz0KrmaYKjOJ1NZSm5QZpAzk8I+o\n",
       "YNqoPXjuBx5OfHv0/LMHTbf1zN/fTShyYrbzm+bg+Zn1D80sjFOlqU++JDho4fPzH5K4QWgMX4+m\n",
       "gZhVsIUnAAAAAElFTkSuQmCC\n",
       "\" style=\"display:inline;vertical-align:middle;\" /></a></span><br>"
      ],
      "text/plain": [
       "<IPython.core.display.HTML object>"
      ]
     },
     "metadata": {},
     "output_type": "display_data"
    }
   ],
   "source": [
    "and_C_1_to_n = expr.derive_some(2, assumptions=[InSet(m, Natural), InSet(n, Natural), expr])"
   ]
  },
  {
   "cell_type": "code",
   "execution_count": 43,
   "metadata": {},
   "outputs": [
    {
     "data": {
      "text/html": [
       "<span style=\"font-size:20px;\"><a class=\"ProveItLink\" href=\"../__pv_it/theorems/22736ce9d3a37303b26f11de823dee236fdf12440/expr.ipynb\"><img src=\"data:image/png;base64,iVBORw0KGgoAAAANSUhEUgAAADsAAAAQBAMAAABaYBp1AAAAMFBMVEX///8AAAAAAAAAAAAAAAAA\n",
       "AAAAAAAAAAAAAAAAAAAAAAAAAAAAAAAAAAAAAAAAAAAv3aB7AAAAD3RSTlMARHarECKJuzJmVO/d\n",
       "mc2qKiq2AAAACXBIWXMAAA7EAAAOxAGVKw4bAAABAElEQVQY02NgwAp8vtc5MGT/FmDAAaoYDRhY\n",
       "PuCSZbAJyGRg2IBT2qqAL4DhALooU82Zc2CG6STWBxjSjI8coCxT5gY1kDSjsmtSEUdaIVgwDibL\n",
       "YMpQwC4AlGZjN2Lwn8iwGiz4lAEh3ctyBCgtyFPAEK/AMB8s+ABJmnPBcqDLHfwFGNY7MNwDiXHs\n",
       "OXPmzHGoNIMJM8hj6xlActtAYiwFSLoZnFlALrdjYDjGwPiVBSR4AFmaQwGkehsDy0cG5geRIEEl\n",
       "uHQFEGsApVl/MHB+YGBPSAAJ8i2ASb8CYl6gSxkPMDBdYGC8FAC23FwEItv3G6iT5QF6oDKmQwMV\n",
       "CgBaaz3sjV0ySwAAAABJRU5ErkJggg==\n",
       "\" style=\"display:inline;vertical-align:middle;\" /></a>, <a class=\"ProveItLink\" href=\"../../../../numbers/number_sets/natural_numbers/__pv_it/theorems/1a8a7907b709bbd24c48a9933f16dbe96429f5cc0/expr.ipynb\"><img src=\"data:image/png;base64,iVBORw0KGgoAAAANSUhEUgAAADUAAAAQBAMAAABEqSrGAAAAMFBMVEX///8AAAAAAAAAAAAAAAAA\n",
       "AAAAAAAAAAAAAAAAAAAAAAAAAAAAAAAAAAAAAAAAAAAv3aB7AAAAD3RSTlMARHarECKJu90yVM1m\n",
       "75kejotwAAAACXBIWXMAAA7EAAAOxAGVKw4bAAAA5ElEQVQY02NgwAQe36sdGHL/CjBgA1WMBgws\n",
       "H7BKMVgE5DAwXMAuZ1XAHcDQgCqm3tGxAUSbHmLdgCYnrQJlmDJPUAPJMSq7JhWBRVi3wBSZMhSw\n",
       "CwDl2NiNGPwDQCLcAQi5eSwtQDlBjgKG+AlgOQaEHM+C5UB3OvgLMKx3AInM7QCCAogcgwkzyA/r\n",
       "GRiswardkfQxOLOA3AmU+MMCEuFAluNUAJlwjYHrCxtIhEkBJlcJxJpAOdafDEwbToKFdsHkQAw+\n",
       "YCgwNjCw2CwACzkXgt3EMPsvUA/LBtQwE6voQBYBAAF6MQMvLZecAAAAAElFTkSuQmCC\n",
       "\" style=\"display:inline;vertical-align:middle;\" /></a>, <a class=\"ProveItLink\" href=\"../__pv_it/theorems/4373c152b87fc4d27077c1df4ab38c3f250acfd50/expr.ipynb\"><img src=\"data:image/png;base64,iVBORw0KGgoAAAANSUhEUgAAAZQAAAASBAMAAACOdTXiAAAAMFBMVEX///8AAAAAAAAAAAAAAAAA\n",
       "AAAAAAAAAAAAAAAAAAAAAAAAAAAAAAAAAAAAAAAAAAAv3aB7AAAAD3RSTlMAIs1UmauJMnZmRLsQ\n",
       "3e++988cAAAACXBIWXMAAA7EAAAOxAGVKw4bAAADVUlEQVRIx8WWT2gTQRTGv80m2aRN2igiHsSk\n",
       "Fy8W7UH04KEBW0FQDMVgFaVVwZPQHBQLIg2iklKxOSiKHiyIgpcSUKkHsYsItpRiUKEXsXoQKR5M\n",
       "q20qInEm+29mdsc0WPAdlsnvvXxfZt5kZwAaa+EdMi4JJYH/Htvq5JLwlSSJO5V0ekuGZ5Gh9GGl\n",
       "110r45IQytUKmzxZk3MRbLOH7SVZ6isQKPPs2lWo+/NudZ4z6t7Sgoy/J8ZM801NzsW0s6s65yUp\n",
       "ZRlo+MGxqRnyOBBzqQt8OvF3V6Ecx/uY5odujNTiXAwesVdqfVmSCpNEeJljW3XyGHWrC9xR95YW\n",
       "ypXsMNPGqFaowfkonrdGG0LfJakA2Xm+TywLVkvPuNRF7qh7SovlfrQ7mw070FKDc6H2+qz2JtWf\n",
       "klRTAZFjGZbFi/T5yqUucEbdU1qUuYcB5o3Rgu01OP/WiqlJY9TQpi1JUgNPc115jvVleRlLXeCO\n",
       "hLerKJNEPAVMGn8kLYWozvDIqbQucC7OAu+tJiqLktRwDOocx2bNxRZdTW65OhLerrN8z0KPO3oK\n",
       "0HJFY1tnEMoy3A9/ked8HAJyxmioo/OXJPWcLmCGZd+qXHe5mtxydSS8Xc1yC08AzeR7qiH6gixJ\n",
       "keHNI0qZ5/wJRVZ12hiRn/LbOwXarbtZls1Wd3zG5Wpy05WR8Ha1ZOz9hehHeyr0qNrN8LBuTMXh\n",
       "rqPK32bsL+ADcP1mLjU4xqc0+jroGWFZ9SgIul1Nbro6EhJXq3xv/yX6b80bNw5TtGhdvSyOYJHj\n",
       "fETtq9fD6kUncnsOn3GZT4XI0aktcCxOe3Ta7WpxwzUqudiJMpOj+SYyqU3kQ+O8JRqmuUbaMYvj\n",
       "gs7yCP1JrxPmALfogzZBIY3FeEyZSKCMPVwKPpIbbeUYfW8/0N2uFjdc7XKZq1m+8SKadUxVWqGO\n",
       "L/SaogGqoBFlmyvPOI53dFWS5gBH6aOfWIwv6NhV2YxAVvuIt2wKgfHFdNcjcAwvnxykO05wtbnh\n",
       "6pR7u9rl3cyJb7faFeuwpp7bcVMmVFBKmZWWr5LrF3RoNUWVsXP76hGNk76EC8l/nEqdrkoJMzud\n",
       "TyeWsp6rXKmU6pnKfXISK936Sn/D6rg2pHAl/wf5cT6AVslNHwAAAABJRU5ErkJggg==\n",
       "\" style=\"display:inline;vertical-align:middle;\" /></a> <a class=\"ProveItLink\" href=\"../__pv_it/demonstrations/910e501c5e700209a56f76771aadc9e2d0122e640/proof.ipynb\" style=\"text-decoration: none\">&nbsp;&#x22A2;&nbsp;&nbsp;</a><a class=\"ProveItLink\" href=\"../__pv_it/demonstrations/972c428091ddaaed60af1b91c472e2bd42a8c38c0/expr.ipynb\"><img src=\"data:image/png;base64,iVBORw0KGgoAAAANSUhEUgAAAHgAAAAVBAMAAAB/IDdlAAAAMFBMVEX///8AAAAAAAAAAAAAAAAA\n",
       "AAAAAAAAAAAAAAAAAAAAAAAAAAAAAAAAAAAAAAAAAAAv3aB7AAAAD3RSTlMAq1RmmUTNIjK7EInv\n",
       "3XZ/CtNrAAAACXBIWXMAAA7EAAAOxAGVKw4bAAABvUlEQVQ4y2MQYAACZQaSwLqJggbVIIYriEgn\n",
       "SS/fuQUMKpdBrEYgZp9Ail6uuQ0MDCzfQUy2BQwM3AqkaGY7BSRYD4CYzAZALkmu3g+yisMBzD57\n",
       "9+5pUvSy/wW7vQHM8WBgmAUyCiZpbYBdU7cXhOb+BxMB6i9kYAdFFy/EKAYOoGe4zLDp3giheL/D\n",
       "BG4wMHAu4A6A6ns4M4CBKYGBoe8tNs1qEIrnA9jZEA7TA1h4uYAsB2lm0MWjmResWQMqmGAHSjRO\n",
       "DHxgz2LTbGLxzgGuGRLDGxi4noBCfVMWkHBQY1gJlmPG1MxlepjhOANDLDS0QQHGvYCBBWxNDTC8\n",
       "uBZsYQgGy7U1YGhmX5fA8AuYGl5BuPoGDKy7GBhWcYOimhEczskMZjNnzlTgEFyA6WzGB6AExZQH\n",
       "dYinIDhDsCHi9DtDNyTVC2Bq5mlgcWhgqEELQP4CGAsYvZwL0AKMawPDajCjnoG3qQEWYHDQg8hm\n",
       "AgzsM2Caq/P3gQ08ztADNj2QgW8zA4bmh4isAvTA6pnQRIIdoGtOhjFS4W5gvUCcZraIAzCmnxdc\n",
       "NA+HXo4kFC7LkwXYFOEoGSowhQBySVp1iHjZ1wAAAABJRU5ErkJggg==\n",
       "\" style=\"display:inline;vertical-align:middle;\" /></a></span>"
      ],
      "text/plain": [
       "{m in Natural, n in Natural, A_{1} and  A_{2} and  ... and  A_{m} and Band C_{1} and  C_{2} and  ... and  C_{n}} |- forall_{j in {1 .. n}} C_{j}"
      ]
     },
     "metadata": {},
     "output_type": "display_data"
    }
   ],
   "source": [
    "and_C_1_to_n.derive_quantification(j)"
   ]
  },
  {
   "cell_type": "code",
   "execution_count": 44,
   "metadata": {},
   "outputs": [
    {
     "data": {
      "text/html": [
       "<span style=\"font-size:20px;\"> <a class=\"ProveItLink\" href=\"proofs/any_from_and/thm_proof.ipynb\" style=\"text-decoration: none\">&nbsp;&#x22A2;&nbsp;&nbsp;</a><a class=\"ProveItLink\" href=\"../__pv_it/theorems/17a71de2e133672ce62dcfb215d7c146322da5ed0/expr.ipynb\"><img src=\"data:image/png;base64,iVBORw0KGgoAAAANSUhEUgAAAjcAAAAZBAMAAAA/PxLyAAAAMFBMVEX///8AAAAAAAAAAAAAAAAA\n",
       "AAAAAAAAAAAAAAAAAAAAAAAAAAAAAAAAAAAAAAAAAAAv3aB7AAAAD3RSTlMAq1RmmUTNIjK7EInv\n",
       "3XZ/CtNrAAAACXBIWXMAAA7EAAAOxAGVKw4bAAAFIklEQVRYw+1ZXWgcVRT+dmd/JrOb6QaCtA9J\n",
       "RqoQSA2LTYWCP2ttpCWCS/sSaqURkVIpdPsiVIpZ+yYscSkEEhE60eJLWlxrBc2CxtLaalGWtmgp\n",
       "BjaktaS2NYrVWLHx3rkzs3dm7ia3pVCW9sLsnrn7nfOd/eaeM7N3AbkRmvoJ99e4NmXIQmO474aS\n",
       "fiDOA3HuUJwUfV8pI44ksvFFOfB7y0Mjlji99Hy7jDiSyMYfySLQkafivE3O4kUZcSSRjT8Gq8C2\n",
       "DBUnZgIJQ0YcSWTjj2fy5KhScWhPlui2McgiG390kGNnzvq+309NnZa7W8khG398C4ydZ4thA/Ce\n",
       "nDgu0uQ+0MR48+7kmRHFq0Op3SVt1H+uT79qP+fsRjwlBMXPfYYnU5w4DlI7xaEO5YWJ8hC882d5\n",
       "I4NN901MOLN6a3lcoCEPQVEUT0zpnVYP9B0dCdJ4gkOcif43sCrNxGkyE9kgfmjFMB5OmBGTE8dB\n",
       "Jv7ggF8JW7QHAqUCfZIaLxtomrQno2eA94OePKQmjgSlb/op4GqAxhsc4kwoIjHPxAlXBV02soE+\n",
       "8FUzCb6sHGT/D1zgQlWUKA8hv1rJfXGOBviOHE6lrCK6PxJw9EBq4khQ+qZbyR3HT+MLDnEmy0h5\n",
       "KLfsnw8DTxPjuaFpfS1dl8S6CMxQVOejb3nEsZBkVF/hVmRMWJM8hDxVGThMmQbJtVXt6xuna2Ff\n",
       "8BmDg3DiSFD6po9BO+un8QWHOJN3SaqhG7Y4R14HPtyaTqZ0Gp1aOc1KqjPxwUsecSiSZIHnORUi\n",
       "A6JEeQhJaqZnOX1v41dTRVgbbd7ToiCemNI3Hb+1+tm8n6ZNvBvjy+S3HBFowBZnL9HkzV+wLB8p\n",
       "gVlm1PpB2onMrEecvda16afFvIc1o2ieNJNNF/1Nq5/Ve63+tVb6fpzlbd3yktbyjnb3ej2PC8WR\n",
       "oLSmPW1uLOPS2L4suN836Su0nSTYN6YtTogq3I4Cmq0V146tUHaMju4n4ozHPOJYSPSVO0z1MZZp\n",
       "pPzJTUxqc75MKcRb/4M0Ido4wth3wUqJdggjiY+9ngziF0eC0pr2tLn4DZfG9mXB/b4M4p6uWGhp\n",
       "2WF4tixOYRaDKrPWq2qJrZxod3DLQiffNI9mlmkV8Xnk1El/VRGIsm51b1fern9so1YLOS4Dljgh\n",
       "sgr1XJxcE89gkJ7NXbw4EpRsumdlz6bPnTYXnXdpbF8W3O/LIErv46U6+znxObJi1kYwTq3znexh\n",
       "bw15LgiKs5n0c4OyaSXQ8iPtrClLHMmp/cIg4VmcCJfoTPwmtHPUOJSFnrXEIcgTwCUSbphzdCHd\n",
       "xWZeHDGlx49NdxeT2S4aHYMmDmdqNMzX5velyyAk3UodcaIpbMfuKygYxPo1jT3kQqs/5hAKiBP5\n",
       "GtqLr1E29RheSOHgX1n66Fww1JMo5OiLYUNGtIGIQVFP/FveaBna+i+vwBKnYOBg33VyOSN5+gFz\n",
       "zLmQUP4NTpw6lB4/Nt2U/wjraHRlV/nofo6G+dr8vnRtyPL4wFI7gXbtaV+MDi+6E0jXqdMbEmaV\n",
       "L1rHqoRLzQrXQVzjAgea0Pke41jNmNniuZULKUV+XaikuWSM20hXX2MuLk7UlNsmVa8eAbbYJ7sW\n",
       "KpyjY2kpPRu6XEO5xtBpwwXFFv7jEK41hq60X5wApdDvEtpztWQcQyrd8KdLrBzldvaQ00JHpR4q\n",
       "XY8nLYwYWDkBQF0/ZQmaxdK9ow32e/O/Ve7ebVxc+zn9P2UJsymIVF41AAAAAElFTkSuQmCC\n",
       "\" style=\"display:inline;vertical-align:middle;\" /></a></span>"
      ],
      "text/plain": [
       "|- forall_{m, n in Natural} [forall_{A_{1}, A_{2}, ..., A_{m}, B, C_{1}, C_{2}, ..., C_{n} | A_{1}, A_{2}, ..., A_{m}, B,C_{1}, C_{2}, ..., C_{n}} B]"
      ]
     },
     "metadata": {},
     "output_type": "display_data"
    }
   ],
   "source": [
    "from  proveit.logic.booleans.conjunction import any_from_and\n",
    "any_from_and"
   ]
  },
  {
   "cell_type": "code",
   "execution_count": null,
   "metadata": {},
   "outputs": [],
   "source": []
  },
  {
   "cell_type": "code",
   "execution_count": 45,
   "metadata": {},
   "outputs": [
    {
     "data": {
      "text/html": [
       "<span style=\"font-size:20px;\"><a class=\"ProveItLink\" href=\"../../../../__pv_it/common/09585084922504426caf1db2ff588a23a0932a960/expr.ipynb\"><img src=\"data:image/png;base64,iVBORw0KGgoAAAANSUhEUgAAAA8AAAAPBAMAAADJ+Ih5AAAAMFBMVEX///8AAAAAAAAAAAAAAAAA\n",
       "AAAAAAAAAAAAAAAAAAAAAAAAAAAAAAAAAAAAAAAAAAAv3aB7AAAAD3RSTlMAIs1UmauJMnZmRLsQ\n",
       "3e++988cAAAACXBIWXMAAA7EAAAOxAGVKw4bAAAAXklEQVQI12NgAAEhBijQh9LM/6EMlngBCCMx\n",
       "vwBMMzb0G0BkGOwngBmLGeoTwAwHBvkAEM2xxSV+A4hxgoGB/wJEhoH3AZDmAupg+gBkyAEx90cG\n",
       "htP/dRiY939KAABt3hLO6mcEjQAAAABJRU5ErkJggg==\n",
       "\" style=\"display:inline;vertical-align:middle;\" /></a>, <a class=\"ProveItLink\" href=\"../../../../__pv_it/common/a9162d1c3cc0470c02e5daf414500903a7a419230/expr.ipynb\"><img src=\"data:image/png;base64,iVBORw0KGgoAAAANSUhEUgAAABAAAAAOBAMAAADUAYG5AAAAMFBMVEX///8AAAAAAAAAAAAAAAAA\n",
       "AAAAAAAAAAAAAAAAAAAAAAAAAAAAAAAAAAAAAAAAAAAv3aB7AAAAD3RSTlMAZrurzTLvInZEmRDd\n",
       "VIkafcLnAAAACXBIWXMAAA7EAAAOxAGVKw4bAAAAb0lEQVQI12NgYBD6b2zsFMAABEkMDMxfgTT7\n",
       "DwYGzl9ABiOQxwjkMDB/YGBgSQcy2BQYuG1AiuM1OkwEQJr6Cxh4E0EMNSB+D5L6DMTyDQwMrB+B\n",
       "DPsJDAwc34GcL0AOSwIDwzRvoHH6n41NdBkYAF/iFeJ4bEa2AAAAAElFTkSuQmCC\n",
       "\" style=\"display:inline;vertical-align:middle;\" /></a>, <a class=\"ProveItLink\" href=\"../../../../__pv_it/common/9fba9f29e823606ff4fdf2f1c6d5d08d906e850a0/expr.ipynb\"><img src=\"data:image/png;base64,iVBORw0KGgoAAAANSUhEUgAAAA8AAAAOBAMAAAACpFvcAAAAMFBMVEX///8AAAAAAAAAAAAAAAAA\n",
       "AAAAAAAAAAAAAAAAAAAAAAAAAAAAAAAAAAAAAAAAAAAv3aB7AAAAD3RSTlMAEHa7q2Yiie9Umd0y\n",
       "zUTye3nKAAAACXBIWXMAAA7EAAAOxAGVKw4bAAAAZElEQVQI12NgYGBUdnFlK2BgYNBQZOBcHcDA\n",
       "ILwHyFmfwMBwQwDIeMHAwP4TSDOcYmDI3wBiyDAw1CswQMD+BCijH0wCNewH0ZwHICYwsANxPkhx\n",
       "IUj0KwPDc5CZDFImXg+AFACuvBKMxZNU9AAAAABJRU5ErkJggg==\n",
       "\" style=\"display:inline;vertical-align:middle;\" /></a> <a class=\"ProveItLink\" href=\"../__pv_it/demonstrations/475dedaf4113756df62e9b0b3f81b1f45dc2857a0/proof.ipynb\" style=\"text-decoration: none\">&nbsp;&#x22A2;&nbsp;&nbsp;</a><a class=\"ProveItLink\" href=\"../__pv_it/demonstrations/468e8352205828ca2ff33f2eb80da369212058900/expr.ipynb\"><img src=\"data:image/png;base64,iVBORw0KGgoAAAANSUhEUgAAAF8AAAAPBAMAAABw7A4xAAAAMFBMVEX///8AAAAAAAAAAAAAAAAA\n",
       "AAAAAAAAAAAAAAAAAAAAAAAAAAAAAAAAAAAAAAAAAAAv3aB7AAAAD3RSTlMAIs1UmauJMnZmRLsQ\n",
       "3e++988cAAAACXBIWXMAAA7EAAAOxAGVKw4bAAABX0lEQVQoz2NgAAEhBhKBPhqfc//X0KDtaII8\n",
       "3aGRjAlgJvN/qFgyTJJvAwNDfAGqWF8PA7PvBDCTJV4AYsYlmKR8AwPDegcUsdPXgYQ/RGFiPsQw\n",
       "jqkLoLLzgQLzG1DE9A4AiXVgJmNDvwGYwcu+AaohHqRCAFmM7TOILIG4iMEe4jQzBkWohtcMDEev\n",
       "o4jJXwCRx8HsxQz1EM8rMphA1LP/7mjVZEARy29AhJcDg3wAWFkAA+8BiGc+MjDYTUARuy8AV8+x\n",
       "xSUe7E7WAgYOiDncD4CO/o4i9h4sAdZ7goGBH+zAQ8BABDMY+IE2cv5AEbsPjrACiIsYeB/AosgZ\n",
       "rKEe6BzWXyhi4BhgA7G4gJJMH0CsC/BU1Q+UrVdAEQNFJUMOiCUHcvNHUAICCXGDLdUDmvPoAIoY\n",
       "808GhmUgodP/dRiY938ChisriMsOUhH9PzRUGxyXCDGGI1tDQHEOAMSEWapJJM4DAAAAAElFTkSu\n",
       "QmCC\n",
       "\" style=\"display:inline;vertical-align:middle;\" /></a></span>"
      ],
      "text/plain": [
       "{A, B, C} |- A and B and C"
      ]
     },
     "metadata": {},
     "output_type": "display_data"
    }
   ],
   "source": [
    "And(A,B,C).prove(assumptions=[A,C,B])"
   ]
  },
  {
   "cell_type": "code",
   "execution_count": 46,
   "metadata": {},
   "outputs": [
    {
     "data": {
      "text/html": [
       "<span style=\"font-size:20px;\"><a class=\"ProveItLink\" href=\"../__pv_it/demonstrations/9a35aad743f1ba62fc821a3fabd1cfac3fd6b0220/expr.ipynb\"><img src=\"data:image/png;base64,iVBORw0KGgoAAAANSUhEUgAAAP0AAAAPBAMAAADdQdTdAAAAMFBMVEX///8AAAAAAAAAAAAAAAAA\n",
       "AAAAAAAAAAAAAAAAAAAAAAAAAAAAAAAAAAAAAAAAAAAv3aB7AAAAD3RSTlMAIs1UmauJMnZmRLsQ\n",
       "3e++988cAAAACXBIWXMAAA7EAAAOxAGVKw4bAAAC7ElEQVQ4y8WVT2gTQRTGX7JNdpNu2iDoSUx6\n",
       "FAutUPRoxOJB0dbCIlpLVwRPQnJoQfHQHDxUKjYXQfRgwZMH26IuCtImSEVBKlUQFATrzX/YNpra\n",
       "Khrfm7eT5K29G8gw+c373sx8M28CQJ9N8H8/HYHf16uOsyMXgE89p7BForGq1+8lA+yr58x8/pfN\n",
       "fpTMHvOOhVzVNao+O6UHUR/5IZn1oQRdb1Q32qnjygCxbwFtmSbcgG2X2suXwDhUUN2mQd6D/dIf\n",
       "C60BxL8LZs+gH00rqj+f9uNMjIPDUhtfxWZOMpPYNaFtfoFND897MsteW1cmeDCGe4+tCRb+QrkX\n",
       "Vf/ice0JeTRVENroTzormc8itlNoiyVsJnm3+XE2JWFO82BkGSd8L1iWQsyM6i+c9+dvxjhIuUIb\n",
       "XgYLTJkP40zobNRG16kdYvthD5/DLmjj+JZpsAdyjSz0WxmqmOGG/TvXSvlHeoUW2S1/eXWWhnPc\n",
       "09rUArVPFLsJI3wP26CLo0YejPbxkjSLrtVvbjhpZPy4PDY3XKGdetW/AhDI54bapDabr+fLQEpt\n",
       "weyFREmR8SQYXC6aJVbq8cMAb7k3Tn4MTghtNhdaAJD5st7AotR21Kvbutc9qM4pkgOLlzWr8jSy\n",
       "lmXlvxo9CjDqXyJq/kgtviUulAKsBL5jWruE3wvd+4Hvaqta8SOcgJdeIVvzjSyh5t+tFoEVNM/Z\n",
       "flGtrEstsqSdl6wMNt++mvYdNT0Fth8Si/q12KeMW9e21hhXvqtfkKbOWvk/nxbaODGrJNmq9rqm\n",
       "VS+Osi9eUDVDpaH/CSyczCxDI6MXCaIqbYJ+pmvlf0fEQZTY5g0YCG0KHQqRfbCN6pN2FyPTmunU\n",
       "w2jHZDsIhiUaP6NyXKXmvl/qcDsj4+ig4p8k4+0JrYEWD7/GzrNqOxjFMjobod2ZKIoUK07fXX6I\n",
       "NAP7oHOAc5yg5ixw3MO9Mu5xR8XpX0pLVqwcgYAW5rzTha0AfwHLXuvLOoM+AgAAAABJRU5ErkJg\n",
       "gg==\n",
       "\" style=\"display:inline;vertical-align:middle;\" /></a> <a class=\"ProveItLink\" href=\"../__pv_it/demonstrations/f610178e4da8efef62d450394807eda1faf0aa3b0/proof.ipynb\" style=\"text-decoration: none\">&nbsp;&#x22A2;&nbsp;&nbsp;</a><a class=\"ProveItLink\" href=\"../__pv_it/demonstrations/8907d5a534208da7919d5e589e7d48f70481ac4d0/expr.ipynb\"><img src=\"data:image/png;base64,iVBORw0KGgoAAAANSUhEUgAAAQ0AAAAVBAMAAACuzqZ5AAAAMFBMVEX///8AAAAAAAAAAAAAAAAA\n",
       "AAAAAAAAAAAAAAAAAAAAAAAAAAAAAAAAAAAAAAAAAAAv3aB7AAAAD3RSTlMAIs1UmauJMnZmRLsQ\n",
       "3e++988cAAAACXBIWXMAAA7EAAAOxAGVKw4bAAADeUlEQVRIx71VS2gTURQ9yeQzSSZtcOHK2nYp\n",
       "Fhql6NKKpaCirYUgWksjoishWVhQRBrBRaXFzkJBdGHAjRvb+AkWxKSIolAq0W4UROtOrWga7U+p\n",
       "9b73ZpLeLNqKkoG5vDnv3Pvu790B1vyE/mF3jc+6NXD08Irbt/6HH41l39eXIpHNcY5tE+J5OmKu\n",
       "53j/UrozHYJulvudmYp0vktx7td0JPOJ84z+9CFHVC61JQs7Zm9OAe45hhl1wvbHUTS9kd+eYnoK\n",
       "gO870FBuo5o09BTHiItNXP/SALR9KghXt6qu8crac8wD/h8McxHVeEQ5ck3L7/E6i+slLvYDl8Ft\n",
       "YJiCNJoZ5p0lcY3pB16SaFPnH42pGuhXkmrTR7nwzTOsil7nFxL+Sfl98bCdf5G3YRNVo9wGYrQw\n",
       "EgzTf5LYwvSzQm1IRZ8YVEkKeq1yuvN06AeGbRWWBc0rQ0TurHVcgLiojcJpchui6RKIM4y4XoSX\n",
       "63sWhDylUo4dptWK9YpflYLRFWdYK/m7KJMscS3qtG5qtTijtx2edm4Dv+A3wTFqmTNqZevX5oR8\n",
       "JrGb6FX9Wo8mxeod6euwbNgYdZdnvtTlzpDWbHFF6m9E4avjNvyLkWwIZXajjnquH0uUbDajVsbi\n",
       "bUdQFXkwBE1dryI2QemdLun0AG/ValDkpzsJbZLb8MyhBtwGYumuSa7fWJoO+v2Wblk/dxy6ci8j\n",
       "dOIM+0zVysu6SMZBoM9qNCF+02l5bsOZh0eRS1jjKKws2vrf6L3Q0ipnE9VNVukxHSIXmBGpTjCM\n",
       "/AjKk7bb02TcbgO6Wwv2PSrZoL5xCNvLsQKMMJj+eyHaTFUWBCftabNLJnJBpXo5NmFPjqg9hVzh\n",
       "4vh4QfnUcoyPYRHHAMP8s3YNivpycsmUiqZ2ykhz9p9GpwO9BTBsRE03eGSlg+K61xXHx12RkxTj\n",
       "y7o62hnmmbP9KOrXkrcOkVJsFPdaROoTAQREVzgpPUNyTpew4/TS9faflHauCvHAagPcFkV3RRlf\n",
       "Znwoye3mbT+K+hqlvuc1LcaWGqBlC2TELSL1kpI7OxPpuKcGmo3hnKjq3sgeZeeIEKehuA93yhCT\n",
       "y/lGB/0qMwVm42l25gDK9PEkfcLc8Be/5GB8FUINKvL4mlch7K6MH7iz8rYjVSE/xlbeDoQq5Icj\n",
       "seL2+X+z/ge/2P46+f1OWQAAAABJRU5ErkJggg==\n",
       "\" style=\"display:inline;vertical-align:middle;\" /></a></span>"
      ],
      "text/plain": [
       "{A and B and C and D and E and F and G} |- A and B and (C and D) and E and F and G"
      ]
     },
     "metadata": {},
     "output_type": "display_data"
    }
   ],
   "source": [
    "And(A,B,C,D,E,F,G).associate(2,length=2,assumptions=[And(A,B,And(C,D),E,F,G),And(A,B,C,D,E,F,G),in_bool(A), in_bool(B),in_bool(C),in_bool(D),in_bool(E),in_bool(F),in_bool(G)])"
   ]
  },
  {
   "cell_type": "code",
   "execution_count": 47,
   "metadata": {},
   "outputs": [
    {
     "data": {
      "text/html": [
       "<span style=\"font-size:20px;\"><a class=\"ProveItLink\" href=\"../__pv_it/demonstrations/f390e6fc19961a3156e079a75f307bb89bd9a3f60/expr.ipynb\"><img src=\"data:image/png;base64,iVBORw0KGgoAAAANSUhEUgAAAK8AAAAPBAMAAABgoIKoAAAAMFBMVEX///8AAAAAAAAAAAAAAAAA\n",
       "AAAAAAAAAAAAAAAAAAAAAAAAAAAAAAAAAAAAAAAAAAAv3aB7AAAAD3RSTlMAIs1UmauJMnZmRLsQ\n",
       "3e++988cAAAACXBIWXMAAA7EAAAOxAGVKw4bAAACFklEQVQ4y7WUPUhbURTH/2nMh+alBvc2OhaL\n",
       "7SCONtKurSJ9g2R4KV0LyeCetxQKisniHEHopgmlwaFggigVBAld3FS6OtQPxI9g4znnvuR53u4b\n",
       "Lu/9zsc753/PvQA/Q3ik51Xgu79xac9uBKC1YM+FcgotdOrZekq7xTdP7OxhTd7DHQ9+7lqfksEp\n",
       "aLa0iPD7smbnVMRFIHZwmLKbxH2O+av1p2tMu0A1o9jeAS3TKcVi17R8CMRWqStLYvEpb4qLL694\n",
       "xgqBiqvYWJOWde0Xv+JEZR2bpxdLYkNu6bWgZKzmGR3OlHrIotLxvPZLnHJ3OR1LG+ZCKu3DGyPd\n",
       "BEY84wmwc6BYusXrb+03yMmKMzq2jQGTDqsoms0ewbinXfvb1xdQLO/6G9/zKzKs5BQbuLMb3qBk\n",
       "kJafxmaQbBrtzoDJsmJH/lT5fiXu2FlRLHqFZ94O/HzniD6RAuKmrsSxODxk/8TQ1H4NXv5r9uQU\n",
       "UVj8tktaiYBbtJstox110H+t2JEMfEH7tfkw3QRiawhxTlYCyePuiL812pEMkVvFZIKjUEzGeL+m\n",
       "Y6tc+CKLXZby6Wn1bo0SZSkOK8ZHBl+gmIzxD83AZyLEe/acNT3jnjg0Ic2O0f/+NhULU8ffRWKf\n",
       "cT1rGc1Es3Xaz73OS4Qb5zQyEQ6LsUe2Y9ujcmZ8hu36R3O2eixCV9WvKc2sWYrdpCvkHhDepoGr\n",
       "OrDqAAAAAElFTkSuQmCC\n",
       "\" style=\"display:inline;vertical-align:middle;\" /></a> <a class=\"ProveItLink\" href=\"../__pv_it/demonstrations/dbce1ea5f263e914f32fb5c89dfc231a70ae7dc30/proof.ipynb\" style=\"text-decoration: none\">&nbsp;&#x22A2;&nbsp;&nbsp;</a><a class=\"ProveItLink\" href=\"../__pv_it/demonstrations/062d4480d3aa0a27a402ed411e10f7e5337dc3360/expr.ipynb\"><img src=\"data:image/png;base64,iVBORw0KGgoAAAANSUhEUgAAAK8AAAAPBAMAAABgoIKoAAAAMFBMVEX///8AAAAAAAAAAAAAAAAA\n",
       "AAAAAAAAAAAAAAAAAAAAAAAAAAAAAAAAAAAAAAAAAAAv3aB7AAAAD3RSTlMAIs1UmauJMnZmRLsQ\n",
       "3e++988cAAAACXBIWXMAAA7EAAAOxAGVKw4bAAACD0lEQVQ4y7WUMWhTURSG/5gm77V5McFd246i\n",
       "1A7iqBFd1VJ8g2R4EVehGdzfWwShxWRxTkFwswlicBCaIIpCQYpLN1tcO9hWpNWi8Zxz8xr+7N7h\n",
       "cPnuueed85/zLqDrDP7TujQOguXwXqZGaHnQrXbL7DbZ+xkuvmHmr++G1a8d22cHQ/ggPX26guyt\n",
       "JrMDCfRjzO+0BIjqzEozEt0FnohcJsGX4dnGlpg7ZWLekZjb7IfpBGhXmLWl0sAY7i+5j/rPVt3Z\n",
       "XF/MGjP/UC81iaElF1sJsyXZBMYySWPeUNFzFeSt4kfEUNjTDGvEEGkWZWbSsASW6QSuOTmvYNYV\n",
       "uKn2IzGU9GK8QAy7wIct9sMxplw4PEfsBmAWl10xyajJKUOssFUj5h0/eXx+zG/qT9gbDk8F05aI\n",
       "t4Ciiovt0VSdMDS0umiVmL8PXG2yX/4QZ4ddeX0zMn1ydfiW63fjfWLoqfnLrLBjgYid2kMege4+\n",
       "iX4m6jvppm22bbjrxEQ6meNfzEpS6eTRGOsgozFVCRR30hG/gXSC8yBmY/y5QwyxyJD7zaytia+o\n",
       "2E1LX9Zm+mro2OMhiNkYv2KGhmQQzzDTfyKjPTunWu1rnRquoAJkpeIXJvGI6bdfVphhTvL61mem\n",
       "Oq5JjzcGF5HtHcgY5dTDsw687951/9EJy8lz8/Y6M1QHYXhhnliwKGxdnpV/3wumgZ5F2ZAAAAAA\n",
       "SUVORK5CYII=\n",
       "\" style=\"display:inline;vertical-align:middle;\" /></a></span>"
      ],
      "text/plain": [
       "{A and B and C and D and E} |- A and C and D and B and E"
      ]
     },
     "metadata": {},
     "output_type": "display_data"
    }
   ],
   "source": [
    "And(A,B,C,D,E).commute(1, 3, assumptions=[And(A,B,C,D,E), *in_bool(A,B,C,D,E)])"
   ]
  },
  {
   "cell_type": "code",
   "execution_count": 48,
   "metadata": {},
   "outputs": [
    {
     "data": {
      "text/html": [
       "<span style=\"font-size:20px;\"><a class=\"ProveItLink\" href=\"../__pv_it/demonstrations/f390e6fc19961a3156e079a75f307bb89bd9a3f60/expr.ipynb\"><img src=\"data:image/png;base64,iVBORw0KGgoAAAANSUhEUgAAAK8AAAAPBAMAAABgoIKoAAAAMFBMVEX///8AAAAAAAAAAAAAAAAA\n",
       "AAAAAAAAAAAAAAAAAAAAAAAAAAAAAAAAAAAAAAAAAAAv3aB7AAAAD3RSTlMAIs1UmauJMnZmRLsQ\n",
       "3e++988cAAAACXBIWXMAAA7EAAAOxAGVKw4bAAACFklEQVQ4y7WUPUhbURTH/2nMh+alBvc2OhaL\n",
       "7SCONtKurSJ9g2R4KV0LyeCetxQKisniHEHopgmlwaFggigVBAld3FS6OtQPxI9g4znnvuR53u4b\n",
       "Lu/9zsc753/PvQA/Q3ik51Xgu79xac9uBKC1YM+FcgotdOrZekq7xTdP7OxhTd7DHQ9+7lqfksEp\n",
       "aLa0iPD7smbnVMRFIHZwmLKbxH2O+av1p2tMu0A1o9jeAS3TKcVi17R8CMRWqStLYvEpb4qLL694\n",
       "xgqBiqvYWJOWde0Xv+JEZR2bpxdLYkNu6bWgZKzmGR3OlHrIotLxvPZLnHJ3OR1LG+ZCKu3DGyPd\n",
       "BEY84wmwc6BYusXrb+03yMmKMzq2jQGTDqsoms0ewbinXfvb1xdQLO/6G9/zKzKs5BQbuLMb3qBk\n",
       "kJafxmaQbBrtzoDJsmJH/lT5fiXu2FlRLHqFZ94O/HzniD6RAuKmrsSxODxk/8TQ1H4NXv5r9uQU\n",
       "UVj8tktaiYBbtJstox110H+t2JEMfEH7tfkw3QRiawhxTlYCyePuiL812pEMkVvFZIKjUEzGeL+m\n",
       "Y6tc+CKLXZby6Wn1bo0SZSkOK8ZHBl+gmIzxD83AZyLEe/acNT3jnjg0Ic2O0f/+NhULU8ffRWKf\n",
       "cT1rGc1Es3Xaz73OS4Qb5zQyEQ6LsUe2Y9ujcmZ8hu36R3O2eixCV9WvKc2sWYrdpCvkHhDepoGr\n",
       "OrDqAAAAAElFTkSuQmCC\n",
       "\" style=\"display:inline;vertical-align:middle;\" /></a> <a class=\"ProveItLink\" href=\"../__pv_it/demonstrations/c4706ccf3975d511f7d4979d342c16eb85d7a3e40/proof.ipynb\" style=\"text-decoration: none\">&nbsp;&#x22A2;&nbsp;&nbsp;</a><a class=\"ProveItLink\" href=\"../__pv_it/demonstrations/e2d03e5fd6dce60e6f747d161ce4bfcde7487c160/expr.ipynb\"><img src=\"data:image/png;base64,iVBORw0KGgoAAAANSUhEUgAAAK8AAAAPBAMAAABgoIKoAAAAMFBMVEX///8AAAAAAAAAAAAAAAAA\n",
       "AAAAAAAAAAAAAAAAAAAAAAAAAAAAAAAAAAAAAAAAAAAv3aB7AAAAD3RSTlMAdrurIs1mVDKZ70SJ\n",
       "EN02Mxp8AAAACXBIWXMAAA7EAAAOxAGVKw4bAAACTUlEQVQ4y6WUz2sTQRTH35pNdmt22zQHD0Jp\n",
       "NIiSS0KXiCJqPHgTI9KTKFb9A1q8FQTX9uQpgQqiB5UiXu3JQxDTmyfpKgjqoeQiSEFqW1OrSOP7\n",
       "MZPdiXhyIbMvn3lv9r3vvBmAfz32BfjPJ98rThRrf+H0twFwvRcEF0OT+fngqL1sIKu0GEysFcjs\n",
       "AmR+CH0dO9xWC3szmiwCpHZMtn8MnEdTZugIlmrRwu4GDg8lgc/xwgvf5b2qJbHRL/vTYO++4PC4\n",
       "Zoa2sQK/SblTFm3+rHVjSU975yQ52HdCkQyCzIbBLkU4tMAMXUHDz6Gxh2qus1DDbkEvfMZS6nTm\n",
       "FEmhX/ppknnschfM0KsAOaC9GCHSqBC7BZN64aazzW9nOa02dm8B/FNhktU7NH4AM3QTsqJ6g9Ke\n",
       "5ownYVbNZmfc39IcNacpqHFgtDplsJVcvCX90OxuUJZUximL06SQW4HhSKaHwN5iYx7gq6DxGjjP\n",
       "DLYeN2kc6u3AeWFlGn6xiiFYKon8g4VNNo4BjAoqUY5hkj1nHpmh2P8e+KIJ7jYL+h63syN9h067\n",
       "bGBjrcrCVMF0LsnWWfDQDMUts+GtbuNPBd3j95USAGv6KAzxcXC3tWJ9xh3sgRnapm+P6TY+JF2E\n",
       "v7NsvZC2wS7q3xoWHhi3a7A6rfFmIJTUsivqTnjFm5zhrqbK7CekPeVzjSaOsHbIWlcgyagjX0Zm\n",
       "KOvTwsJS5a3g4D05AeTjootf7kZws3cZ/56kiTsgftXD7Ndn8LF4fGkgtIpXVQkL+wPIk53TAXVE\n",
       "gAAAAABJRU5ErkJggg==\n",
       "\" style=\"display:inline;vertical-align:middle;\" /></a></span>"
      ],
      "text/plain": [
       "{A and B and C and D and E} |- D and A and B and C and E"
      ]
     },
     "metadata": {},
     "output_type": "display_data"
    }
   ],
   "source": [
    "And(A,B,C,D,E).group_commute(0,1,length=3, assumptions=[And(A,B,C,D,E), *in_bool(A,B,C,D,E)])"
   ]
  },
  {
   "cell_type": "code",
   "execution_count": 49,
   "metadata": {},
   "outputs": [
    {
     "data": {
      "text/html": [
       "<strong id=\"expr\">expr:</strong> <a class=\"ProveItLink\" href=\"../__pv_it/demonstrations/cb87abddfed6c755c3f724fae7b09700b982e7ea0/expr.ipynb\"><img src=\"data:image/png;base64,iVBORw0KGgoAAAANSUhEUgAAAL0AAAAVBAMAAADhtvKAAAAAMFBMVEX///8AAAAAAAAAAAAAAAAA\n",
       "AAAAAAAAAAAAAAAAAAAAAAAAAAAAAAAAAAAAAAAAAAAv3aB7AAAAD3RSTlMAIs1UmauJMnZmRLsQ\n",
       "3e++988cAAAACXBIWXMAAA7EAAAOxAGVKw4bAAACjElEQVQ4y52UP2gTcRTHX3JJLn8uMTi51KSj\n",
       "WGoHcdSILh3UUrxBMiTiKuQG9zsRQWgxGeqcgCAuNocYHITmEEWhIMElmw2uHUwj0mrR+N773Xl9\n",
       "nXIe3I/ffe7d9/39HcDMVwyiXsVgc3IW6weR9Z8Hm3PHXmT6P8zV15JpdVyMNfNWrC742rRX7RWl\n",
       "bXpr16x+cdMt/9MprUkPF91hUnABapZgb2l5vA7aNfXVnUBsgvF8B8lOlNGJCwvqKVEj/xmSyVlM\n",
       "SrjvVgRbxnt7iMsNDtb47EvpB7hcB8GgizkaFdhQT7cbrDAIO9FG0HYEG+G9SOlsqhI86fi12Ce9\n",
       "lmDQwI3hQMHjwXCaS0F2V9T7GokVjzINM05xGe6xRV53lWluTPnWBaOGOmBBnN0m4FIrmKKBer8L\n",
       "8H4oWAIVSrz7wBYXYN4vNWnaK4LBIWRJMsX4KdjsPmlBWrVXP3z08AwIRqE0nHBE5uG82tgE23XB\n",
       "sr/NPre0TE8VKLEffQXynqrpHsDFlmB5LOFOOIahbZN6V+sIltqHOS4qNS396mrNlTHlRmxzlBVQ\n",
       "4RvvPJlrn5Y/ksXHkAIDPVJvPmINB8dqivlkDgQj/R2OyfJPgzHwS422PyXDnsRINzvi8kB+JGfC\n",
       "xtokfwlG9eHJT4GYNR7/T66cvy6lsY6xoDtqdHwsZ7qJQnZZsJyjTh3cBXFWePxfSgZ0nmJUA/R7\n",
       "mj7ek+dvEd1+9QSjUdOwDM8Yh+eaQntRkYwLudnhod6eLoDWn6h/ln+6qlPTPLvk+/KZTtG9691U\n",
       "2fz7LyXxT/jmsmTGKn6/NaGidmb/2Q4h+jUXwXbjP/SXI9jmipHlY24EY8ONrB8tpFOR9e8D/AUX\n",
       "lLmfOugf5gAAAABJRU5ErkJggg==\n",
       "\" style=\"display:inline;vertical-align:middle;\" /></a><br>"
      ],
      "text/plain": [
       "<IPython.core.display.HTML object>"
      ]
     },
     "metadata": {},
     "output_type": "display_data"
    }
   ],
   "source": [
    "expr = Or(A, B, And(C, D, E))"
   ]
  },
  {
   "cell_type": "code",
   "execution_count": 50,
   "metadata": {},
   "outputs": [
    {
     "data": {
      "text/html": [
       "<span style=\"font-size:20px;\"><a class=\"ProveItLink\" href=\"../__pv_it/theorems/dc7d96b1022c0165a0469ead301debeb324b9c180/expr.ipynb\"><img src=\"data:image/png;base64,iVBORw0KGgoAAAANSUhEUgAAADYAAAAQBAMAAACvnpHFAAAAMFBMVEX///8AAAAAAAAAAAAAAAAA\n",
       "AAAAAAAAAAAAAAAAAAAAAAAAAAAAAAAAAAAAAAAAAAAv3aB7AAAAD3RSTlMAEHa7q2Yiie9Umd0y\n",
       "zUTye3nKAAAACXBIWXMAAA7EAAAOxAGVKw4bAAAA4ElEQVQY02NgwAKYdtj+7fYDsRiVXVzZClAk\n",
       "mfkUckUeABkaigycqwPQ5ALYEwwYGIT3ADnrE9DlWCc4MDDcEAByXkDElHfvvgCXu8DA/hPEOQWW\n",
       "equI0MeSWsCQvwHEkQERbBcRZipquzMw1CvAbeFNQMjt7d8lwLAf4QpeZLcwxV1k6AdzQO5hOLEb\n",
       "CAygcgwGzxn2g9icB0CkMLI+BgNmiM/YwSLcqHK8DPkgtxRCglEBRW4SA+dXBobnAhChmwi5Anb1\n",
       "BQwMUiZeD6BCInYQRUw3jKHxgASeW0PCDAIA+qo1SVIYGkQAAAAASUVORK5CYII=\n",
       "\" style=\"display:inline;vertical-align:middle;\" /></a>, <a class=\"ProveItLink\" href=\"../__pv_it/demonstrations/be49e688692580141a3851882e8c02185518c0cd0/expr.ipynb\"><img src=\"data:image/png;base64,iVBORw0KGgoAAAANSUhEUgAAADgAAAAQBAMAAACxV6F2AAAAMFBMVEX///8AAAAAAAAAAAAAAAAA\n",
       "AAAAAAAAAAAAAAAAAAAAAAAAAAAAAAAAAAAAAAAAAAAv3aB7AAAAD3RSTlMAdrurIs1mVDKZ70SJ\n",
       "EN02Mxp8AAAACXBIWXMAAA7EAAAOxAGVKw4bAAAA6UlEQVQY02NgwAYYX6l+XWcNYgn9VzZSdkCV\n",
       "ZeIWcL28AcT6ysDA9h1dMoHHQQHI4PgIJGZhSLIVGIAs+AEk9idALNN79xQuGQBifAAS/gdAYtyB\n",
       "F+A6md1AQvwgs/tBZjC4XoAbKytnA2L0CwCJfLDOEISdT9e/BKmUbwAS9mB3ByA5iDE7FsjQB/F+\n",
       "gQiOde/evXsElWRQ2ANkfAJitm8gIV4FJJ0MCkxQb96CCD9AkWSFelMVIiaIIlnIwMAK9Oa+CRAx\n",
       "1gK45AEemQkMzPqfjZWmQMV4jfZCAipKCRoryID7ECT4IAAAk1I8Z0PO6g0AAAAASUVORK5CYII=\n",
       "\" style=\"display:inline;vertical-align:middle;\" /></a>, <a class=\"ProveItLink\" href=\"../__pv_it/demonstrations/25542f4e2111e214ae31ec917c5346fb112614f30/expr.ipynb\"><img src=\"data:image/png;base64,iVBORw0KGgoAAAANSUhEUgAAADcAAAAQBAMAAABAXPr7AAAAMFBMVEX///8AAAAAAAAAAAAAAAAA\n",
       "AAAAAAAAAAAAAAAAAAAAAAAAAAAAAAAAAAAAAAAAAAAv3aB7AAAAD3RSTlMAdrvvq93NRIkQmTJm\n",
       "IlTMv30WAAAACXBIWXMAAA7EAAAOxAGVKw4bAAAA6klEQVQY02NgwAZEjfKTQwpALCFjFRdVI1RZ\n",
       "hULeTHcw6xtIBZpkDUMvE4jB/gNIzMKQPMcCYnB8BxITwWKMqqFhcEk2EIPtAwMjAzfYjMQJCJ2+\n",
       "J0AMfgWGGojQtQkIB00MaQAx6kOc/kKEchF2liZ/XQli9G/gDYAIJSA7SKYMZE4+A0MDA4jBbRoa\n",
       "GhoEk2RiB5n7iYHhAqcAkMGpgKyTiQHIZf8I8gPYKQGokkBbOH4DOVfAQoIoknxA01g/AHWbg4XY\n",
       "HsAlKxgauxgYpuR/cXGyh7iT06kSIidmpA+NFSTA3gQNPggAAL7KNJxscirvAAAAAElFTkSuQmCC\n",
       "\" style=\"display:inline;vertical-align:middle;\" /></a> <a class=\"ProveItLink\" href=\"../__pv_it/demonstrations/14a5f54bd2c0f6954d92a6c6e4a5aaab69efb4c00/proof.ipynb\" style=\"text-decoration: none\">&nbsp;&#x22A2;&nbsp;&nbsp;</a><a class=\"ProveItLink\" href=\"../__pv_it/demonstrations/7e863418359abd948e03af7a389678df82f9e9650/expr.ipynb\"><img src=\"data:image/png;base64,iVBORw0KGgoAAAANSUhEUgAAAbcAAAAVBAMAAAA3Gr2JAAAAMFBMVEX///8AAAAAAAAAAAAAAAAA\n",
       "AAAAAAAAAAAAAAAAAAAAAAAAAAAAAAAAAAAAAAAAAAAv3aB7AAAAD3RSTlMAInZUiRDNmWbv3US7\n",
       "qzJazP2FAAAACXBIWXMAAA7EAAAOxAGVKw4bAAAEnklEQVRYw51XTWhcVRQ+8/Mm89/BRcFSyBgp\n",
       "RKi0C6m0m1aky5LgQrFESReBFgQjDVi7cXBhN5WMC4uQggPBQhXSoG7iJpMISsCYbIyiGWdwIxRl\n",
       "0gppa3/i+bn3vndemrx5PfC9ee+8e8/3vXPP/RkAqEDPloC4ltipVwzWSmzWiu2VPMzPe3vp9Gxs\n",
       "mkJVELYYrKZpHPvKAF6Q57dD77MrD1trP2lf6gRevIOtXxMnlP/g1vL6cii/yaWrrfXrTRjE+8Ht\n",
       "9DuwXt5qtd7qbG+6G4MyUZes4WuENyq6t/jnZ7r8ybc57NZGntIwPpQ5+a/S5bkDkLpY4yYv25Cb\n",
       "mIx/5TZt87wHAyebkMHuhJCGIGuAAa7i4yPlk6a7MCglRt0Y3iL6RGdfm/PyAV1kvPox8vw4xiSG\n",
       "ImfzAmJkBi/vc2PvmolYvo2X9+T+9KhxzuPoeuOQpRDj4Y9TrAGGBEYq3FE+brobQ1CJVXcJfxA5\n",
       "8b40xMHzRCCdJ9ExSRQNNzfqiHOU0jmpi49mTYFQrudF7+DvhmcIX3rY/xMQKNOsPkMWI2VvK18u\n",
       "kiGgxKrLDTOOyKJWPXTYDnmfDHub2lbMkJ/nIsKvTnNt/MUt8mVT8MUNGmmZh42/wU2nKqD2syBQ\n",
       "plkdA5QwUuZj5TsSyeArceoyNcaE1Acc57TQqOXBVv8bM3ZFa3AjDN7Pd2+amX7GFD+F7q7KmpMx\n",
       "8/4BFDjkKQNlmtUx0ET3fuso30Qkg6/EqUuvMiSpX0NX0vIHwIDMowcDz8u7UgeSPPiUjqHAsn4G\n",
       "XpSbLjknOUCmkpIJVvivtcIiPjSAvi/YWKFmdQzQXRxYq2nWs5EMvhKnLjvKmOaHcehnUvgH4HOZ\n",
       "R7cAjjJPeRXyvNzlsYZu+Oux88MhynV7VvVPP4J9fHPUQJlmDUSqQOpTHX06ksFv69Sl6owp/pIf\n",
       "3m1L1bq8FOvcPZiXHAb/jO+Gdb5X6HJPj3xmA9LgUdINlIVYXQ0sUfo7yjcVyeArcerKGwzu+wpW\n",
       "dQNURe9ZteuWq2j6uBvcqGN2Pa9hih/b3rX712k7DxMUl1fWucd+nM/qZu9DMEu075uKZPCVOHWF\n",
       "OmNa6gPydVBrURdLsnRfrYpUlrzDpUGtZ7wJvd7Uq+08STyAOGag5lyI1TKU77rqc77pSAZfiVOX\n",
       "ajAWaWrWeJDVLoLVD91RtZ8Vq7K1w0lQOxFvQt+D3iepuBL0IZcNlIVYLQNN9PImKN9iJIOvxKnL\n",
       "Nhm0Sj9Nym/p/f8csl+RWW73f1pfU5jbb9jtnyFI4bcyU/0TDlXI3KxZyifCHxditQwZHMi5MVC+\n",
       "U5EMvhKnjnYtxE08s2yNQWplU/YCs4Wv0wnWHuLOm0WJMvTa8i+SUXf6K+ER+8d3QJ1NvTXsv8Rj\n",
       "8KWBsjCr2cLpsP4daNabkQyBs6lVl59l5Du9/5OYgfiWaAi0xWCNI9DZPsH2Q+3OdukJaOjca47J\n",
       "wT9UvbPGEejsgsFC712K8f8Tw36DkMVgXXiCcmkKYKT3Pl4zPs/C4+XFYB2JT0qjwCORqPbe6anY\n",
       "NMmKYFtue2eNI9DYM4L/AcJ4riwxP9baAAAAAElFTkSuQmCC\n",
       "\" style=\"display:inline;vertical-align:middle;\" /></a></span>"
      ],
      "text/plain": [
       "{C in BOOLEAN, D in BOOLEAN, E in BOOLEAN} |- (A or B or (C and D and E)) = (A or B or (D and E and C))"
      ]
     },
     "metadata": {},
     "output_type": "display_data"
    }
   ],
   "source": [
    "expr.inner_expr().operands[-1].commutation(0, -1, assumptions=in_bool(C, D, E))"
   ]
  },
  {
   "cell_type": "code",
   "execution_count": 51,
   "metadata": {},
   "outputs": [
    {
     "data": {
      "text/html": [
       "<strong id=\"kt\">kt:</strong> <span style=\"font-size:20px;\"><a class=\"ProveItLink\" href=\"../__pv_it/demonstrations/cb87abddfed6c755c3f724fae7b09700b982e7ea0/expr.ipynb\"><img src=\"data:image/png;base64,iVBORw0KGgoAAAANSUhEUgAAAL0AAAAVBAMAAADhtvKAAAAAMFBMVEX///8AAAAAAAAAAAAAAAAA\n",
       "AAAAAAAAAAAAAAAAAAAAAAAAAAAAAAAAAAAAAAAAAAAv3aB7AAAAD3RSTlMAIs1UmauJMnZmRLsQ\n",
       "3e++988cAAAACXBIWXMAAA7EAAAOxAGVKw4bAAACjElEQVQ4y52UP2gTcRTHX3JJLn8uMTi51KSj\n",
       "WGoHcdSILh3UUrxBMiTiKuQG9zsRQWgxGeqcgCAuNocYHITmEEWhIMElmw2uHUwj0mrR+N773Xl9\n",
       "nXIe3I/ffe7d9/39HcDMVwyiXsVgc3IW6weR9Z8Hm3PHXmT6P8zV15JpdVyMNfNWrC742rRX7RWl\n",
       "bXpr16x+cdMt/9MprUkPF91hUnABapZgb2l5vA7aNfXVnUBsgvF8B8lOlNGJCwvqKVEj/xmSyVlM\n",
       "SrjvVgRbxnt7iMsNDtb47EvpB7hcB8GgizkaFdhQT7cbrDAIO9FG0HYEG+G9SOlsqhI86fi12Ce9\n",
       "lmDQwI3hQMHjwXCaS0F2V9T7GokVjzINM05xGe6xRV53lWluTPnWBaOGOmBBnN0m4FIrmKKBer8L\n",
       "8H4oWAIVSrz7wBYXYN4vNWnaK4LBIWRJMsX4KdjsPmlBWrVXP3z08AwIRqE0nHBE5uG82tgE23XB\n",
       "sr/NPre0TE8VKLEffQXynqrpHsDFlmB5LOFOOIahbZN6V+sIltqHOS4qNS396mrNlTHlRmxzlBVQ\n",
       "4RvvPJlrn5Y/ksXHkAIDPVJvPmINB8dqivlkDgQj/R2OyfJPgzHwS422PyXDnsRINzvi8kB+JGfC\n",
       "xtokfwlG9eHJT4GYNR7/T66cvy6lsY6xoDtqdHwsZ7qJQnZZsJyjTh3cBXFWePxfSgZ0nmJUA/R7\n",
       "mj7ek+dvEd1+9QSjUdOwDM8Yh+eaQntRkYwLudnhod6eLoDWn6h/ln+6qlPTPLvk+/KZTtG9691U\n",
       "2fz7LyXxT/jmsmTGKn6/NaGidmb/2Q4h+jUXwXbjP/SXI9jmipHlY24EY8ONrB8tpFOR9e8D/AUX\n",
       "lLmfOugf5gAAAABJRU5ErkJggg==\n",
       "\" style=\"display:inline;vertical-align:middle;\" /></a> <a class=\"ProveItLink\" href=\"../__pv_it/demonstrations/22d25ce2b665db79836ebfd7acfc66450e91e7060/proof.ipynb\" style=\"text-decoration: none\">&nbsp;&#x22A2;&nbsp;&nbsp;</a><a class=\"ProveItLink\" href=\"../__pv_it/demonstrations/b12fc8f398d2e4c05eeb847fb278fa1848a3a9dd0/expr.ipynb\"><img src=\"data:image/png;base64,iVBORw0KGgoAAAANSUhEUgAAAM0AAAAVBAMAAAAX/3cYAAAAMFBMVEX///8AAAAAAAAAAAAAAAAA\n",
       "AAAAAAAAAAAAAAAAAAAAAAAAAAAAAAAAAAAAAAAAAAAv3aB7AAAAD3RSTlMAIs1UmauJMnZmRLsQ\n",
       "3e++988cAAAACXBIWXMAAA7EAAAOxAGVKw4bAAAC/ElEQVRIx5VVTWgTURCezX/STQyeBKlpj2Kp\n",
       "QcSbNaIIPaihuAfJIRXpTUgOXiUrIigtJkg9eUhAEC82qxgUhCaIohCQoIeABxs8WsE0RVotNs68\n",
       "t5vshDSJC/t473uzM/O++eYtwMhPGF9loIUy4Evx7B8hjC+Kw62BJgG9P/7Emhzt2fCXf2lzLzl2\n",
       "Al/nPA7qonZZmWd7i+1SooRZ3+3NbXVdS3w1fDm5dLZpdFdw8MqUQgZAMm3H1Akc3tDevSVwnpdf\n",
       "XrUctjC3TQBHBTi+D7/yGTAlV64kMegnd2NpgURwXozZMRd5nsW3WsfhoqBc/WS6827jcAHNY8Bw\n",
       "KOK51Rgsy9WVlPBe61Yqj0Bet2MhGhr4TlPOK5KWBwWTny3yiZn84DikcKLqEBLnVPRs1DrtGbmf\n",
       "JIdhO3aM+EUWPJu0ui6sgl5Dmo81iQPM/TDHqfA6pMEhaHbBqZyluprcXwd4V2fYOTJETxGxem9K\n",
       "Y9IsA/nNxAEWOA47ECDXnjgtHkFGyMedBp+UgXfnzm2ZWgejJaWVsml3Eo7LSYbAPDq5z/HAX60s\n",
       "Sk8ighhERDxvHIJSML4NgJkcwz4TH0jvWqfpbPZZqm8SazHDcc8WjAtBU2F9L84mDZ7HWEPY2LHv\n",
       "pAX09FOsKvz8ZRp26WAcdzTBAypGpvp9QH5rPXzj+fzbDLPirIn8hD6xm9SaWQa0/23psItj3RTy\n",
       "H2gI2iDY4DrJIGfuPwyzeBOd4wGmT9E+H8nuJNdtkY61hHlhWBKEo8l1n0VnmQmGvSI6ddnBcA1Y\n",
       "v4n2eU6zh7wPqS8V4gZzOEQONngfT2P4bxWGLZjydCI9j8VW966gNJ/GLPXb7hUieaUgGqLangJn\n",
       "uSXvRbNLE21NOxI1Y5rYDeKHMn1buiRP2Ln73Hjrvj4tsC92XJ1DP6stIrww8t8nSAnWhxgptf74\n",
       "+Oh/OXFFLg8xcuX647Ojx4FnxHp4sM3BPY5p/EecKonCGJ5Ln2dYejwpktGBwb/2PfzdBPgHy17N\n",
       "OsTd5rAAAAAASUVORK5CYII=\n",
       "\" style=\"display:inline;vertical-align:middle;\" /></a></span><br>"
      ],
      "text/plain": [
       "<IPython.core.display.HTML object>"
      ]
     },
     "metadata": {},
     "output_type": "display_data"
    }
   ],
   "source": [
    "kt = expr.inner_expr().operands[-1].associate(0, length=2, assumptions=[expr])"
   ]
  },
  {
   "cell_type": "code",
   "execution_count": 52,
   "metadata": {},
   "outputs": [
    {
     "data": {
      "text/html": [
       "<strong id=\"expr\">expr:</strong> <a class=\"ProveItLink\" href=\"../__pv_it/demonstrations/b12fc8f398d2e4c05eeb847fb278fa1848a3a9dd0/expr.ipynb\"><img src=\"data:image/png;base64,iVBORw0KGgoAAAANSUhEUgAAAM0AAAAVBAMAAAAX/3cYAAAAMFBMVEX///8AAAAAAAAAAAAAAAAA\n",
       "AAAAAAAAAAAAAAAAAAAAAAAAAAAAAAAAAAAAAAAAAAAv3aB7AAAAD3RSTlMAIs1UmauJMnZmRLsQ\n",
       "3e++988cAAAACXBIWXMAAA7EAAAOxAGVKw4bAAAC/ElEQVRIx5VVTWgTURCezX/STQyeBKlpj2Kp\n",
       "QcSbNaIIPaihuAfJIRXpTUgOXiUrIigtJkg9eUhAEC82qxgUhCaIohCQoIeABxs8WsE0RVotNs68\n",
       "t5vshDSJC/t473uzM/O++eYtwMhPGF9loIUy4Evx7B8hjC+Kw62BJgG9P/7Emhzt2fCXf2lzLzl2\n",
       "Al/nPA7qonZZmWd7i+1SooRZ3+3NbXVdS3w1fDm5dLZpdFdw8MqUQgZAMm3H1Akc3tDevSVwnpdf\n",
       "XrUctjC3TQBHBTi+D7/yGTAlV64kMegnd2NpgURwXozZMRd5nsW3WsfhoqBc/WS6827jcAHNY8Bw\n",
       "KOK51Rgsy9WVlPBe61Yqj0Bet2MhGhr4TlPOK5KWBwWTny3yiZn84DikcKLqEBLnVPRs1DrtGbmf\n",
       "JIdhO3aM+EUWPJu0ui6sgl5Dmo81iQPM/TDHqfA6pMEhaHbBqZyluprcXwd4V2fYOTJETxGxem9K\n",
       "Y9IsA/nNxAEWOA47ECDXnjgtHkFGyMedBp+UgXfnzm2ZWgejJaWVsml3Eo7LSYbAPDq5z/HAX60s\n",
       "Sk8ighhERDxvHIJSML4NgJkcwz4TH0jvWqfpbPZZqm8SazHDcc8WjAtBU2F9L84mDZ7HWEPY2LHv\n",
       "pAX09FOsKvz8ZRp26WAcdzTBAypGpvp9QH5rPXzj+fzbDLPirIn8hD6xm9SaWQa0/23psItj3RTy\n",
       "H2gI2iDY4DrJIGfuPwyzeBOd4wGmT9E+H8nuJNdtkY61hHlhWBKEo8l1n0VnmQmGvSI6ddnBcA1Y\n",
       "v4n2eU6zh7wPqS8V4gZzOEQONngfT2P4bxWGLZjydCI9j8VW966gNJ/GLPXb7hUieaUgGqLangJn\n",
       "uSXvRbNLE21NOxI1Y5rYDeKHMn1buiRP2Ln73Hjrvj4tsC92XJ1DP6stIrww8t8nSAnWhxgptf74\n",
       "+Oh/OXFFLg8xcuX647Ojx4FnxHp4sM3BPY5p/EecKonCGJ5Ln2dYejwpktGBwb/2PfzdBPgHy17N\n",
       "OsTd5rAAAAAASUVORK5CYII=\n",
       "\" style=\"display:inline;vertical-align:middle;\" /></a><br>"
      ],
      "text/plain": [
       "<IPython.core.display.HTML object>"
      ]
     },
     "metadata": {},
     "output_type": "display_data"
    }
   ],
   "source": [
    "expr = kt.expr"
   ]
  },
  {
   "cell_type": "code",
   "execution_count": 53,
   "metadata": {},
   "outputs": [
    {
     "data": {
      "text/html": [
       "<strong id=\"expr\">expr:</strong> <span style=\"font-size:20px;\"><a class=\"ProveItLink\" href=\"../__pv_it/demonstrations/b12fc8f398d2e4c05eeb847fb278fa1848a3a9dd0/expr.ipynb\"><img src=\"data:image/png;base64,iVBORw0KGgoAAAANSUhEUgAAAM0AAAAVBAMAAAAX/3cYAAAAMFBMVEX///8AAAAAAAAAAAAAAAAA\n",
       "AAAAAAAAAAAAAAAAAAAAAAAAAAAAAAAAAAAAAAAAAAAv3aB7AAAAD3RSTlMAIs1UmauJMnZmRLsQ\n",
       "3e++988cAAAACXBIWXMAAA7EAAAOxAGVKw4bAAAC/ElEQVRIx5VVTWgTURCezX/STQyeBKlpj2Kp\n",
       "QcSbNaIIPaihuAfJIRXpTUgOXiUrIigtJkg9eUhAEC82qxgUhCaIohCQoIeABxs8WsE0RVotNs68\n",
       "t5vshDSJC/t473uzM/O++eYtwMhPGF9loIUy4Evx7B8hjC+Kw62BJgG9P/7Emhzt2fCXf2lzLzl2\n",
       "Al/nPA7qonZZmWd7i+1SooRZ3+3NbXVdS3w1fDm5dLZpdFdw8MqUQgZAMm3H1Akc3tDevSVwnpdf\n",
       "XrUctjC3TQBHBTi+D7/yGTAlV64kMegnd2NpgURwXozZMRd5nsW3WsfhoqBc/WS6827jcAHNY8Bw\n",
       "KOK51Rgsy9WVlPBe61Yqj0Bet2MhGhr4TlPOK5KWBwWTny3yiZn84DikcKLqEBLnVPRs1DrtGbmf\n",
       "JIdhO3aM+EUWPJu0ui6sgl5Dmo81iQPM/TDHqfA6pMEhaHbBqZyluprcXwd4V2fYOTJETxGxem9K\n",
       "Y9IsA/nNxAEWOA47ECDXnjgtHkFGyMedBp+UgXfnzm2ZWgejJaWVsml3Eo7LSYbAPDq5z/HAX60s\n",
       "Sk8ighhERDxvHIJSML4NgJkcwz4TH0jvWqfpbPZZqm8SazHDcc8WjAtBU2F9L84mDZ7HWEPY2LHv\n",
       "pAX09FOsKvz8ZRp26WAcdzTBAypGpvp9QH5rPXzj+fzbDLPirIn8hD6xm9SaWQa0/23psItj3RTy\n",
       "H2gI2iDY4DrJIGfuPwyzeBOd4wGmT9E+H8nuJNdtkY61hHlhWBKEo8l1n0VnmQmGvSI6ddnBcA1Y\n",
       "v4n2eU6zh7wPqS8V4gZzOEQONngfT2P4bxWGLZjydCI9j8VW966gNJ/GLPXb7hUieaUgGqLangJn\n",
       "uSXvRbNLE21NOxI1Y5rYDeKHMn1buiRP2Ln73Hjrvj4tsC92XJ1DP6stIrww8t8nSAnWhxgptf74\n",
       "+Oh/OXFFLg8xcuX647Ojx4FnxHp4sM3BPY5p/EecKonCGJ5Ln2dYejwpktGBwb/2PfzdBPgHy17N\n",
       "OsTd5rAAAAAASUVORK5CYII=\n",
       "\" style=\"display:inline;vertical-align:middle;\" /></a> <a class=\"ProveItLink\" href=\"../__pv_it/demonstrations/b19e6b27ef773fcef3edada44ea42100ce888e550/proof.ipynb\" style=\"text-decoration: none\">&nbsp;&#x22A2;&nbsp;&nbsp;</a><a class=\"ProveItLink\" href=\"../__pv_it/demonstrations/cb87abddfed6c755c3f724fae7b09700b982e7ea0/expr.ipynb\"><img src=\"data:image/png;base64,iVBORw0KGgoAAAANSUhEUgAAAL0AAAAVBAMAAADhtvKAAAAAMFBMVEX///8AAAAAAAAAAAAAAAAA\n",
       "AAAAAAAAAAAAAAAAAAAAAAAAAAAAAAAAAAAAAAAAAAAv3aB7AAAAD3RSTlMAIs1UmauJMnZmRLsQ\n",
       "3e++988cAAAACXBIWXMAAA7EAAAOxAGVKw4bAAACjElEQVQ4y52UP2gTcRTHX3JJLn8uMTi51KSj\n",
       "WGoHcdSILh3UUrxBMiTiKuQG9zsRQWgxGeqcgCAuNocYHITmEEWhIMElmw2uHUwj0mrR+N773Xl9\n",
       "nXIe3I/ffe7d9/39HcDMVwyiXsVgc3IW6weR9Z8Hm3PHXmT6P8zV15JpdVyMNfNWrC742rRX7RWl\n",
       "bXpr16x+cdMt/9MprUkPF91hUnABapZgb2l5vA7aNfXVnUBsgvF8B8lOlNGJCwvqKVEj/xmSyVlM\n",
       "SrjvVgRbxnt7iMsNDtb47EvpB7hcB8GgizkaFdhQT7cbrDAIO9FG0HYEG+G9SOlsqhI86fi12Ce9\n",
       "lmDQwI3hQMHjwXCaS0F2V9T7GokVjzINM05xGe6xRV53lWluTPnWBaOGOmBBnN0m4FIrmKKBer8L\n",
       "8H4oWAIVSrz7wBYXYN4vNWnaK4LBIWRJMsX4KdjsPmlBWrVXP3z08AwIRqE0nHBE5uG82tgE23XB\n",
       "sr/NPre0TE8VKLEffQXynqrpHsDFlmB5LOFOOIahbZN6V+sIltqHOS4qNS396mrNlTHlRmxzlBVQ\n",
       "4RvvPJlrn5Y/ksXHkAIDPVJvPmINB8dqivlkDgQj/R2OyfJPgzHwS422PyXDnsRINzvi8kB+JGfC\n",
       "xtokfwlG9eHJT4GYNR7/T66cvy6lsY6xoDtqdHwsZ7qJQnZZsJyjTh3cBXFWePxfSgZ0nmJUA/R7\n",
       "mj7ek+dvEd1+9QSjUdOwDM8Yh+eaQntRkYwLudnhod6eLoDWn6h/ln+6qlPTPLvk+/KZTtG9691U\n",
       "2fz7LyXxT/jmsmTGKn6/NaGidmb/2Q4h+jUXwXbjP/SXI9jmipHlY24EY8ONrB8tpFOR9e8D/AUX\n",
       "lLmfOugf5gAAAABJRU5ErkJggg==\n",
       "\" style=\"display:inline;vertical-align:middle;\" /></a></span><br>"
      ],
      "text/plain": [
       "<IPython.core.display.HTML object>"
      ]
     },
     "metadata": {},
     "output_type": "display_data"
    }
   ],
   "source": [
    "expr = expr.inner_expr().operands[-1].disassociate(0, assumptions=[expr])"
   ]
  },
  {
   "cell_type": "code",
   "execution_count": 54,
   "metadata": {},
   "outputs": [
    {
     "data": {
      "text/html": [
       "<span style=\"font-size:20px;\"><a class=\"ProveItLink\" href=\"../../__pv_it/theorems/a10dbfd9a4efbb6f30af430036ab01697a9460f80/expr.ipynb\"><img src=\"data:image/png;base64,iVBORw0KGgoAAAANSUhEUgAAADYAAAAQBAMAAACvnpHFAAAAMFBMVEX///8AAAAAAAAAAAAAAAAA\n",
       "AAAAAAAAAAAAAAAAAAAAAAAAAAAAAAAAAAAAAAAAAAAv3aB7AAAAD3RSTlMAIs1UmauJMnZmRLsQ\n",
       "3e++988cAAAACXBIWXMAAA7EAAAOxAGVKw4bAAAA40lEQVQY02NgAAEhBhTAcW/Tp7dRUI4+qhwD\n",
       "N1eD0NEFYCbzfwy5CWwCG8BMlngBDDlOgwAwMzG/AGrR3ruX4HIKIBZjQ78BWIpL4wBcH6tkAthI\n",
       "BvsJEOcegJvZ0xsGZi1mqAerYVBE2Hfp/RWwQgcGeYi9Ckhu4ZilA3LAFpd4sHvZ3969e/c2VI5h\n",
       "wzIg4wQDA/8FkAjPBiR9DBu4wUYy8D4AC11AkWMCOhzoRqYPYKEOFDkLBgY5EPsjWIjJAC6XwNbm\n",
       "wHD6vw4D8/5PYE/wRK+BBI/ebkQ8wABXNiTMIAAAYXA8zHUEOxUAAAAASUVORK5CYII=\n",
       "\" style=\"display:inline;vertical-align:middle;\" /></a>, <a class=\"ProveItLink\" href=\"../__pv_it/theorems/c50b73f2d168f6a3012768bd45c62ea92218bcbc0/expr.ipynb\"><img src=\"data:image/png;base64,iVBORw0KGgoAAAANSUhEUgAAADcAAAAQBAMAAABAXPr7AAAAMFBMVEX///8AAAAAAAAAAAAAAAAA\n",
       "AAAAAAAAAAAAAAAAAAAAAAAAAAAAAAAAAAAAAAAAAAAv3aB7AAAAD3RSTlMAZrurzTLvInZEmRDd\n",
       "VIkafcLnAAAACXBIWXMAAA7EAAAOxAGVKw4bAAAA8UlEQVQY02NgwAZ6kvzdDk8AsYT+Gxs7BaDK\n",
       "Ksxg97YEs5IYGJi/oklOZHjOBGKw/2Bg4PyFISnLDGIwAnUx/gCLceicOQKXZAExmD8wMLCkg1ic\n",
       "HhsQOs3lQAw2BQZuG7CDSjYgHLTj8AMQI16jw0QALOSOsHOO25/VIEZ/AQNvIljIAdlBjVNA5qgB\n",
       "8XuQsaw5Z86cOQSTZOIEmfsZiOUbgAS3ArJOJgYgl/UjkGMPDqsDqJJAWzi+AxV8AQt1oEjyAk1j\n",
       "SWBgmOYNFmK5AJecx/DiFTAI9D8bm+hChLiNZkMYLUn60FhBApyPoMEHAQCDjz3xiC/o5wAAAABJ\n",
       "RU5ErkJggg==\n",
       "\" style=\"display:inline;vertical-align:middle;\" /></a> <a class=\"ProveItLink\" href=\"../__pv_it/demonstrations/64316767db1a96e58aee3acb15b8029e84b83bb10/proof.ipynb\" style=\"text-decoration: none\">&nbsp;&#x22A2;&nbsp;&nbsp;</a><a class=\"ProveItLink\" href=\"../__pv_it/axioms/6950b8dde63419a8049c20dbc9d1b142bf347c700/expr.ipynb\"><img src=\"data:image/png;base64,iVBORw0KGgoAAAANSUhEUgAAAGwAAAAVBAMAAABRZRb3AAAAMFBMVEX///8AAAAAAAAAAAAAAAAA\n",
       "AAAAAAAAAAAAAAAAAAAAAAAAAAAAAAAAAAAAAAAAAAAv3aB7AAAAD3RSTlMAInZUiRDNmWbv3US7\n",
       "qzJazP2FAAAACXBIWXMAAA7EAAAOxAGVKw4bAAAB9UlEQVQ4y2NgYBBgwAMYcUkwGYApMeyy3Apo\n",
       "qlce+zbrNpBhAuHno6nnOP/37rVzDAwaaOI83ApisRsYWBPAPOb/UGEWAyiD8wADw/0HDGwB6Noa\n",
       "WAQOMLA3gHns96FejEqAyssDnbe/gIGjAEMbh8EFBk4Iz9H/AYShcRsq3w8U6AdqnQr11KlVy+Da\n",
       "EhjMIAGmoA913II3UG33gTgT6IQMSNAkBcBt45VwYCiBuJHBHuJYZgc2qGvnMDDErgPSvpCADoA7\n",
       "UlXrCsywzQzvHcAMNgFmiGf4/ijpguXawNxEhN+WzV8ewLAYzClgkL8AZrxlYFgK8ctHBgZLkAss\n",
       "wdwEpCBh6k5lmA1Wc7z8/gGw6D0GBiWI9ARgZPwDMt6D7Z61atWqNVBtDAe2QLQFMTDwLwAxQLEY\n",
       "BdbGD7Sd4xOQsRMsfgDJNoYDPBBHAr3DNQEW2ezgMH0PdCDvbyDDChLAKNrYGA6BQheohO0DSJAL\n",
       "FBlgf+gDA/Q9iNUDVq2Eos0IHL6SIO5HkGATiDgHIjKBpk0DhTokhtgM4NocWFQKGF4xMMT8T2Vg\n",
       "Pv8NFANXQTKPgPjO/7t3c8BKV4NVs97ZCgngzDPgHMD1gAEvYIT6itsHkrhgGaQAvzZoUscAB/Fr\n",
       "k8EhHoNfGy5TGRXw6WLCXtIAAH91djqcO7OuAAAAAElFTkSuQmCC\n",
       "\" style=\"display:inline;vertical-align:middle;\" /></a></span>"
      ],
      "text/plain": [
       "{A in BOOLEAN, B in BOOLEAN} |- (A and B) in BOOLEAN"
      ]
     },
     "metadata": {},
     "output_type": "display_data"
    }
   ],
   "source": [
    "in_bool(And(A,B)).prove(assumptions=[in_bool(A), in_bool(B)])"
   ]
  },
  {
   "cell_type": "code",
   "execution_count": 55,
   "metadata": {},
   "outputs": [
    {
     "data": {
      "text/html": [
       "<span style=\"font-size:20px;\"><a class=\"ProveItLink\" href=\"../../__pv_it/theorems/a10dbfd9a4efbb6f30af430036ab01697a9460f80/expr.ipynb\"><img src=\"data:image/png;base64,iVBORw0KGgoAAAANSUhEUgAAADYAAAAQBAMAAACvnpHFAAAAMFBMVEX///8AAAAAAAAAAAAAAAAA\n",
       "AAAAAAAAAAAAAAAAAAAAAAAAAAAAAAAAAAAAAAAAAAAv3aB7AAAAD3RSTlMAIs1UmauJMnZmRLsQ\n",
       "3e++988cAAAACXBIWXMAAA7EAAAOxAGVKw4bAAAA40lEQVQY02NgAAEhBhTAcW/Tp7dRUI4+qhwD\n",
       "N1eD0NEFYCbzfwy5CWwCG8BMlngBDDlOgwAwMzG/AGrR3ruX4HIKIBZjQ78BWIpL4wBcH6tkAthI\n",
       "BvsJEOcegJvZ0xsGZi1mqAerYVBE2Hfp/RWwQgcGeYi9Ckhu4ZilA3LAFpd4sHvZ3969e/c2VI5h\n",
       "wzIg4wQDA/8FkAjPBiR9DBu4wUYy8D4AC11AkWMCOhzoRqYPYKEOFDkLBgY5EPsjWIjJAC6XwNbm\n",
       "wHD6vw4D8/5PYE/wRK+BBI/ebkQ8wABXNiTMIAAAYXA8zHUEOxUAAAAASUVORK5CYII=\n",
       "\" style=\"display:inline;vertical-align:middle;\" /></a>, <a class=\"ProveItLink\" href=\"../__pv_it/theorems/c50b73f2d168f6a3012768bd45c62ea92218bcbc0/expr.ipynb\"><img src=\"data:image/png;base64,iVBORw0KGgoAAAANSUhEUgAAADcAAAAQBAMAAABAXPr7AAAAMFBMVEX///8AAAAAAAAAAAAAAAAA\n",
       "AAAAAAAAAAAAAAAAAAAAAAAAAAAAAAAAAAAAAAAAAAAv3aB7AAAAD3RSTlMAZrurzTLvInZEmRDd\n",
       "VIkafcLnAAAACXBIWXMAAA7EAAAOxAGVKw4bAAAA8UlEQVQY02NgwAZ6kvzdDk8AsYT+Gxs7BaDK\n",
       "Ksxg97YEs5IYGJi/oklOZHjOBGKw/2Bg4PyFISnLDGIwAnUx/gCLceicOQKXZAExmD8wMLCkg1ic\n",
       "HhsQOs3lQAw2BQZuG7CDSjYgHLTj8AMQI16jw0QALOSOsHOO25/VIEZ/AQNvIljIAdlBjVNA5qgB\n",
       "8XuQsaw5Z86cOQSTZOIEmfsZiOUbgAS3ArJOJgYgl/UjkGMPDqsDqJJAWzi+AxV8AQt1oEjyAk1j\n",
       "SWBgmOYNFmK5AJecx/DiFTAI9D8bm+hChLiNZkMYLUn60FhBApyPoMEHAQCDjz3xiC/o5wAAAABJ\n",
       "RU5ErkJggg==\n",
       "\" style=\"display:inline;vertical-align:middle;\" /></a>, <a class=\"ProveItLink\" href=\"../__pv_it/theorems/dc7d96b1022c0165a0469ead301debeb324b9c180/expr.ipynb\"><img src=\"data:image/png;base64,iVBORw0KGgoAAAANSUhEUgAAADYAAAAQBAMAAACvnpHFAAAAMFBMVEX///8AAAAAAAAAAAAAAAAA\n",
       "AAAAAAAAAAAAAAAAAAAAAAAAAAAAAAAAAAAAAAAAAAAv3aB7AAAAD3RSTlMAEHa7q2Yiie9Umd0y\n",
       "zUTye3nKAAAACXBIWXMAAA7EAAAOxAGVKw4bAAAA4ElEQVQY02NgwAKYdtj+7fYDsRiVXVzZClAk\n",
       "mfkUckUeABkaigycqwPQ5ALYEwwYGIT3ADnrE9DlWCc4MDDcEAByXkDElHfvvgCXu8DA/hPEOQWW\n",
       "equI0MeSWsCQvwHEkQERbBcRZipquzMw1CvAbeFNQMjt7d8lwLAf4QpeZLcwxV1k6AdzQO5hOLEb\n",
       "CAygcgwGzxn2g9icB0CkMLI+BgNmiM/YwSLcqHK8DPkgtxRCglEBRW4SA+dXBobnAhChmwi5Anb1\n",
       "BQwMUiZeD6BCInYQRUw3jKHxgASeW0PCDAIA+qo1SVIYGkQAAAAASUVORK5CYII=\n",
       "\" style=\"display:inline;vertical-align:middle;\" /></a>, <a class=\"ProveItLink\" href=\"../__pv_it/demonstrations/be49e688692580141a3851882e8c02185518c0cd0/expr.ipynb\"><img src=\"data:image/png;base64,iVBORw0KGgoAAAANSUhEUgAAADgAAAAQBAMAAACxV6F2AAAAMFBMVEX///8AAAAAAAAAAAAAAAAA\n",
       "AAAAAAAAAAAAAAAAAAAAAAAAAAAAAAAAAAAAAAAAAAAv3aB7AAAAD3RSTlMAdrurIs1mVDKZ70SJ\n",
       "EN02Mxp8AAAACXBIWXMAAA7EAAAOxAGVKw4bAAAA6UlEQVQY02NgwAYYX6l+XWcNYgn9VzZSdkCV\n",
       "ZeIWcL28AcT6ysDA9h1dMoHHQQHI4PgIJGZhSLIVGIAs+AEk9idALNN79xQuGQBifAAS/gdAYtyB\n",
       "F+A6md1AQvwgs/tBZjC4XoAbKytnA2L0CwCJfLDOEISdT9e/BKmUbwAS9mB3ByA5iDE7FsjQB/F+\n",
       "gQiOde/evXsElWRQ2ANkfAJitm8gIV4FJJ0MCkxQb96CCD9AkWSFelMVIiaIIlnIwMAK9Oa+CRAx\n",
       "1gK45AEemQkMzPqfjZWmQMV4jfZCAipKCRoryID7ECT4IAAAk1I8Z0PO6g0AAAAASUVORK5CYII=\n",
       "\" style=\"display:inline;vertical-align:middle;\" /></a> <a class=\"ProveItLink\" href=\"../__pv_it/demonstrations/2a2eb9eec67d49fc6aceb59df5cb82009167d5e50/proof.ipynb\" style=\"text-decoration: none\">&nbsp;&#x22A2;&nbsp;&nbsp;</a><a class=\"ProveItLink\" href=\"../__pv_it/demonstrations/853ca21cd53752e0cddb4715e1dad1e0bcfabe460/expr.ipynb\"><img src=\"data:image/png;base64,iVBORw0KGgoAAAANSUhEUgAAALwAAAAVBAMAAAAOdJm+AAAAMFBMVEX///8AAAAAAAAAAAAAAAAA\n",
       "AAAAAAAAAAAAAAAAAAAAAAAAAAAAAAAAAAAAAAAAAAAv3aB7AAAAD3RSTlMAInZUiRDNmWbv3US7\n",
       "qzJazP2FAAAACXBIWXMAAA7EAAAOxAGVKw4bAAACrklEQVQ4y61VTWgTURCebH6aJpuYU1EQEooF\n",
       "lUqCFKVejIg3pYsHRWglFQoGBFcURC/m5EUlveihCg0IEaO0BetBL109VJDG5CAqmJDcBC/pDwSL\n",
       "tXHezO4mLzUndw8vO9/Mfm/eNzMvABABBx5XL4eSoJ+B/6MPxrpYny83Z77jywjbV7vi/aU/1S+f\n",
       "ukDvcPWbKylBw61ipYgC7O8KVYOxgYkF8KbIcrdM+KTl7zcAanUZOzAE7tsZGWtiKhsAPq2bPuOJ\n",
       "GNDH0X01LoE3b/mjeNwlXcLG53C5E5Gw8Dout3ALfQe9P1GGfrZOjHGiyoMF059FIBuTsLTI8I0c\n",
       "p2zjsoQ5PjTtj4W8TZ+CI1z4WJwrHAgbJn1N8EU6Mc+GWH/IceqqOCnW4zKX+JJmZx/anYQbrA0c\n",
       "Z5FGYNKkfwIwMSdh0ZxYL8pxu8Q2jTLAGW5AzRZn6OBna9NX0OCGmISjpqZbg4fYZ2NjHc1nxzUE\n",
       "mMWP75q4TZ+ffabBUzJ0iJaJtAwB3l9ZAxjNSNh8ewDbcXFRsxoWYpTMVEdplXtT8Ji4PtyskZah\n",
       "OiicozqNYm9L2Cw5NDmuJJZNcQzadqZQKLw06cFYZPqzqCEJew5bLsea4mn86xI2TwNSl+O2xAj+\n",
       "sjrKa3RkD4bK4mDPBqatYbnOmqIwod8SRh3vAQmjtr8gSI+RIyfR++C96Cak8q1aXr594sjVSEmY\n",
       "GDQ4BRJGbb8s3u6TY1CiP0z9tEeYa+KUgkCl46dx10eahLlRg0WSvo2JrN7SwHKH+xI2fdKzT4ef\n",
       "OOutKXCXmthcIfFxWHxbaVWrVyi0jcH54leeVRsL4cW3co2wF3ypVF5z46VX6MYM1MGRx2WqHjxd\n",
       "yHdevLoz9ObVuON55wz93h74uDP0vbJ0xZxgV/79j/0X3Wy8h4k8h0cAAAAASUVORK5CYII=\n",
       "\" style=\"display:inline;vertical-align:middle;\" /></a></span>"
      ],
      "text/plain": [
       "{A in BOOLEAN, B in BOOLEAN, C in BOOLEAN, D in BOOLEAN} |- (A and B and C and D) in BOOLEAN"
      ]
     },
     "metadata": {},
     "output_type": "display_data"
    }
   ],
   "source": [
    "in_bool(And(A,B,C,D)).prove(assumptions=[in_bool(A), in_bool(B), in_bool(C), in_bool(D)])"
   ]
  },
  {
   "cell_type": "code",
   "execution_count": 56,
   "metadata": {},
   "outputs": [
    {
     "data": {
      "text/html": [
       "<span style=\"font-size:20px;\"><a class=\"ProveItLink\" href=\"../__pv_it/theorems/4392859b96438edcedf8b7080b1d0e8b997a14c40/expr.ipynb\"><img src=\"data:image/png;base64,iVBORw0KGgoAAAANSUhEUgAAAJIAAAAVBAMAAABf4KrdAAAAMFBMVEX///8AAAAAAAAAAAAAAAAA\n",
       "AAAAAAAAAAAAAAAAAAAAAAAAAAAAAAAAAAAAAAAAAAAv3aB7AAAAD3RSTlMAmd0iq3ZUiRDNZu9E\n",
       "uzLWhN+VAAAACXBIWXMAAA7EAAAOxAGVKw4bAAACEklEQVQ4y32Tv09UQRDHv4/zfurBSUhMrE4r\n",
       "Ewl5GgmVkeIKSVRIFAoSw4stMVD4BxBjQ3edBkI4CgsLAyUUJjY2WHiJPUehpTmiCNEIOLMzu+92\n",
       "7/SbfN7um3zf7s7MWyBVRvEUh4FMr0AQnFFSTx34EH44EwYuTAmpcotCquIBkG3433U4Sq3D2sQe\n",
       "MAvBaVlJtUAr4RXP7vLjKwLH+SYwuY/iEgxOl5VUQz/oscGz1/zYQ+C4Qzl9qqBUgcFpS3HKj53y\n",
       "xrxbn1bNd2zuE7TaNgRbgLqQajR7xMXiQuUTIEoQOCaJVWruCgRVtCikquR+8yLjep4+63J6B7wY\n",
       "ofGZYhvV0P1dd5P+Y+6QOcUDYNq6rPpPph+Zo7wxDF4lXeFSJIILRMgccj6mMl+Aa4DvyFJD5nnl\n",
       "eYV0iyv7XnCBxxeHTnjnA3OWOGe60+ko0x55bkpb+cdKBWrKd05yS37IYhyuNEAVLP2k+UdFV7LZ\n",
       "2UBEw3Veo2oi1W+w2VlHmzI794fmTxTSDaI8JdjALg3rXPGmiczeM0OnY45O2eZ+vFXsfziuHdfb\n",
       "y0m1Ytf353Xnslql1Hf4v72k2J5WBVGh9WsJT89eUj5SmShxLtX9s1ptzUSHFasRJdBN/7WHI1MV\n",
       "nDbsdfXlX+pejqghOJVjIdiw6b93O3BbcSo0hf9/2e3AZ6Xj7iueHoaBLkc2NvwFw2N5A9CA0hAA\n",
       "AAAASUVORK5CYII=\n",
       "\" style=\"display:inline;vertical-align:middle;\" /></a> <a class=\"ProveItLink\" href=\"../__pv_it/demonstrations/f514e00685842292c655c0d23b45012756b85f6c0/proof.ipynb\" style=\"text-decoration: none\">&nbsp;&#x22A2;&nbsp;&nbsp;</a><a class=\"ProveItLink\" href=\"../__pv_it/axioms/ebe322aacd1b571c58879de875163df360acd3820/expr.ipynb\"><img src=\"data:image/png;base64,iVBORw0KGgoAAAANSUhEUgAAADcAAAAPBAMAAACy3Eq1AAAAMFBMVEX///8AAAAAAAAAAAAAAAAA\n",
       "AAAAAAAAAAAAAAAAAAAAAAAAAAAAAAAAAAAAAAAAAAAv3aB7AAAAD3RSTlMAIs1UmauJMnZmRLsQ\n",
       "3e++988cAAAACXBIWXMAAA7EAAAOxAGVKw4bAAABBElEQVQY02NgAAEhBjxAH43Puf9raNB2CJv5\n",
       "P1QwGSbLt4GBIb4AzGSJFwDTPJdgkvINDAzrHcDMxHyIIo6pC6CS84EC8xtALMaGfgOwEC/7Bqhk\n",
       "PBDrgY1jYbCfABYyY1CESr5mYDh6HcxazFCfAGYoMphA5Nh/d7RqQpgODPIBYKEABt4DEMs/MjDY\n",
       "gU3j2OISD7aLtYCBA+wIBu4HDAxs30GsEwwM/BdAjENAz4AZDPxAkzh/QExl4H0ACwJnsGQ90EjW\n",
       "X0AGF5DB9AEkdAEeyv1AX9QrABlyIDs+ggIUZB83ODj0gHoeAd12+r8OA/P+T0C/sIJcyg5SEf0/\n",
       "NFQbGC4A3Zk4p5FAwSQAAAAASUVORK5CYII=\n",
       "\" style=\"display:inline;vertical-align:middle;\" /></a></span>"
      ],
      "text/plain": [
       "{[not]([not](A) or [not](B))} |- A and B"
      ]
     },
     "metadata": {},
     "output_type": "display_data"
    }
   ],
   "source": [
    "And(A,B).prove(assumptions=[Not(Or(Not(A), Not(B)))])"
   ]
  },
  {
   "cell_type": "code",
   "execution_count": 57,
   "metadata": {},
   "outputs": [
    {
     "data": {
      "text/html": [
       "<span style=\"font-size:20px;\"><a class=\"ProveItLink\" href=\"../__pv_it/demonstrations/7e92ea9fd8e586217b7c1feb7d1d02ab1aee61e20/expr.ipynb\"><img src=\"data:image/png;base64,iVBORw0KGgoAAAANSUhEUgAAANcAAAAVBAMAAAAnc2Y5AAAAMFBMVEX///8AAAAAAAAAAAAAAAAA\n",
       "AAAAAAAAAAAAAAAAAAAAAAAAAAAAAAAAAAAAAAAAAAAv3aB7AAAAD3RSTlMAmd0iq3ZUiRDNZu9E\n",
       "uzLWhN+VAAAACXBIWXMAAA7EAAAOxAGVKw4bAAAC6ElEQVRIx4WVz2sTURDHZzfd/E4aPVQoCrEH\n",
       "QZESiyIi0h5y8SAJ+OPgpdaLSEELLeKtObQHD4VAL6FFTMCLB2kugoJCLnrxYPx1taH/QMTYg6DG\n",
       "mXlv983bDXZgln2zn/m+ffPm7QIYK2mXFgM4KFKCAyNRZe+WcmMXALLVcOKNcOBtOGCL+IiN3dFu\n",
       "7An6zVBefCm4Te/+LF/+Bl4zhEiR9S/l5nlGLCxZVy50h3hJ1fAyRpc8L/KRADJdgEoPGmAhUsR7\n",
       "UYOFU8BIQ2Q6TeUiUsE6pwu0BhLJ9Sg4KYBZDH8oQAssRIgkP2HAGQAjLfma2o0tr1LuS7otqh1E\n",
       "awtgB5/vVCFTsxAhkqLkLKYQojBld7WbtqvO005v0f0D9AkurSx0BX27BKmmhQiRVRLIY20ISYmy\n",
       "HdFuqgj36fGK7kt+dXCWBPEGYG0aIDFnIUYk9oNr2VOIwpRt+avw7R30SfkZb38PPO4P+Xr5P9ev\n",
       "UUa6biFGJLEfNG6d/fAU2nEcn1Du0HiKuqIAs/Qui6w7By6X3MXC+Cke7vwiTh5vW4gRcQdBY7d9\n",
       "DOAs+mvtvH6cxft4qIKtDX2ObMKCaqMOBCk5zE78xWm+W4gRyfCDJChEYyMnWwcYpz14rw/qZmSy\n",
       "caTS+6rdBGJEXJa/pzsyK1amyxhMhpV06fFtjrj5Lvhl9FP6WMKx31ifooUYEYfLSBtPiMbgDPpX\n",
       "7cwVIEvNSm/2XH0Knqol5fxvJabM45nv0853LcSIxKhBErSRhGiMbcVvc2UXSXkQdHLypG4w0b/b\n",
       "WJpXteA4+IgQwbOTfeifGHlq9rQr2xg2IL77C5+fVoEJ3e7FALkyLJcfU1XdjoXsie/tsfJRVeKO\n",
       "wXjcUx7+fRXt8XSEgBl7OEKEEYnRF5e/urY5oR9IK6o0aQ9HiDBiYZ+123YpNM5FfsOxbigQFSHE\n",
       "xja0/z8zGZaOTh8VIcTGYlXl9i8+spBz4cDVyDqqoxD0f+b7sPmeHA3zAAAAAElFTkSuQmCC\n",
       "\" style=\"display:inline;vertical-align:middle;\" /></a> <a class=\"ProveItLink\" href=\"../__pv_it/demonstrations/f835e0a1dbf1fec79b02d25ec8d1f81382e0a20a0/proof.ipynb\" style=\"text-decoration: none\">&nbsp;&#x22A2;&nbsp;&nbsp;</a><a class=\"ProveItLink\" href=\"../__pv_it/demonstrations/468e8352205828ca2ff33f2eb80da369212058900/expr.ipynb\"><img src=\"data:image/png;base64,iVBORw0KGgoAAAANSUhEUgAAAF8AAAAPBAMAAABw7A4xAAAAMFBMVEX///8AAAAAAAAAAAAAAAAA\n",
       "AAAAAAAAAAAAAAAAAAAAAAAAAAAAAAAAAAAAAAAAAAAv3aB7AAAAD3RSTlMAIs1UmauJMnZmRLsQ\n",
       "3e++988cAAAACXBIWXMAAA7EAAAOxAGVKw4bAAABX0lEQVQoz2NgAAEhBhKBPhqfc//X0KDtaII8\n",
       "3aGRjAlgJvN/qFgyTJJvAwNDfAGqWF8PA7PvBDCTJV4AYsYlmKR8AwPDegcUsdPXgYQ/RGFiPsQw\n",
       "jqkLoLLzgQLzG1DE9A4AiXVgJmNDvwGYwcu+AaohHqRCAFmM7TOILIG4iMEe4jQzBkWohtcMDEev\n",
       "o4jJXwCRx8HsxQz1EM8rMphA1LP/7mjVZEARy29AhJcDg3wAWFkAA+8BiGc+MjDYTUARuy8AV8+x\n",
       "xSUe7E7WAgYOiDncD4CO/o4i9h4sAdZ7goGBH+zAQ8BABDMY+IE2cv5AEbsPjrACiIsYeB/AosgZ\n",
       "rKEe6BzWXyhi4BhgA7G4gJJMH0CsC/BU1Q+UrVdAEQNFJUMOiCUHcvNHUAICCXGDLdUDmvPoAIoY\n",
       "808GhmUgodP/dRiY938ChisriMsOUhH9PzRUGxyXCDGGI1tDQHEOAMSEWapJJM4DAAAAAElFTkSu\n",
       "QmCC\n",
       "\" style=\"display:inline;vertical-align:middle;\" /></a></span>"
      ],
      "text/plain": [
       "{[not]([not](A) or [not](B) or [not](C))} |- A and B and C"
      ]
     },
     "metadata": {},
     "output_type": "display_data"
    }
   ],
   "source": [
    "And(A,B,C).prove(assumptions=[Not(Or(Not(A), Not(B), Not(C)))])"
   ]
  },
  {
   "cell_type": "markdown",
   "metadata": {},
   "source": [
    "## Axioms"
   ]
  },
  {
   "cell_type": "code",
   "execution_count": 58,
   "metadata": {},
   "outputs": [
    {
     "data": {
      "text/html": [
       "<span style=\"font-size:20px;\"> <a class=\"ProveItLink\" href=\"axioms.ipynb#and_t_t\" style=\"text-decoration: none\">&nbsp;&#x22A2;&nbsp;&nbsp;</a><a class=\"ProveItLink\" href=\"../__pv_it/axioms/2e06e480834dffc99779e341f5b63756ff25f98e0/expr.ipynb\"><img src=\"data:image/png;base64,iVBORw0KGgoAAAANSUhEUgAAAHAAAAAVBAMAAABs93eRAAAAMFBMVEX///8AAAAAAAAAAAAAAAAA\n",
       "AAAAAAAAAAAAAAAAAAAAAAAAAAAAAAAAAAAAAAAAAAAv3aB7AAAAD3RSTlMAInZUiRDNmWbv3US7\n",
       "qzJazP2FAAAACXBIWXMAAA7EAAAOxAGVKw4bAAABBklEQVQ4y2NgYBBgwAPwSDIZ4NO4CbeUCQP7\n",
       "KjC4gCxaBRZay8DUgK4eJsOaAOIxK8DEWeAOMAKTqVjsAsuwN6BqjEpA1diOSyMnA6pGjduoGjkD\n",
       "cGg0Q9O44A2qRrYGHBpLUDUyO7AJoGhkuYBDYwaqRjYB5gIUjRwJyEGJJLMYVeNbBoalKBqZJ+Cw\n",
       "cTaqxnsMDEooGvk+EKURFKtRKBq5cdmI6lRQ9LMboDh1AQ4/HkLRyAXEjAkogXMAh42+KBqbQMQ5\n",
       "ZI3sDjg0voL4BBrNV0HEIwh7B8QNGzA1gmW4HjDgBVK4JDgK8GuswClzEK8+xgM4pWLwauTBXXYw\n",
       "KuDTqIhLAgC+eT6Z7OhW8wAAAABJRU5ErkJggg==\n",
       "\" style=\"display:inline;vertical-align:middle;\" /></a></span>"
      ],
      "text/plain": [
       "|- (TRUE and TRUE) = TRUE"
      ]
     },
     "metadata": {},
     "output_type": "display_data"
    }
   ],
   "source": [
    "Equals(And(TRUE, TRUE), TRUE).prove()"
   ]
  },
  {
   "cell_type": "code",
   "execution_count": 59,
   "metadata": {},
   "outputs": [
    {
     "data": {
      "text/html": [
       "<span style=\"font-size:20px;\"> <a class=\"ProveItLink\" href=\"axioms.ipynb#and_t_f\" style=\"text-decoration: none\">&nbsp;&#x22A2;&nbsp;&nbsp;</a><a class=\"ProveItLink\" href=\"../__pv_it/axioms/12e5b601afe5116e2b09be2b7482d4d0c350a2490/expr.ipynb\"><img src=\"data:image/png;base64,iVBORw0KGgoAAAANSUhEUgAAAHAAAAAVBAMAAABs93eRAAAAMFBMVEX///8AAAAAAAAAAAAAAAAA\n",
       "AAAAAAAAAAAAAAAAAAAAAAAAAAAAAAAAAAAAAAAAAAAv3aB7AAAAD3RSTlMAInZUiRDNmWbv3US7\n",
       "qzJazP2FAAAACXBIWXMAAA7EAAAOxAGVKw4bAAABCElEQVQ4y2NgYBBgwAPwSDIZ4NO4CbeUCQP7\n",
       "KjC4gCaxA2xsAxYtYBnWBBDJrAATZIE7wAhMpmLRCJZhb0DVGJWAqrEdl0ZOBlSNGrdRNXIG4NBo\n",
       "hqZxwRtUjWwNODSWoGpkdmATQNHIcgGHxgxUjWwCzAUoGjnAfq4Ch/taZJnFqBrfMjAsRdHIPAGH\n",
       "jbNRNd5jYFBC0cj3gSiNoFiNQtHIjctGVKeCop/dAMWpC3D48RCKRi4gZkxACZwDOGz0RdHYBCLO\n",
       "IWtkd8Ch8RXEJ9BovgoiHkHcNhPsNq4NaLpgMlwPGPACKVwSHAX4NVbglDmIVx/jAZxSMXg18uAu\n",
       "OxgV8GlUxCUBANnJPncvU02iAAAAAElFTkSuQmCC\n",
       "\" style=\"display:inline;vertical-align:middle;\" /></a></span>"
      ],
      "text/plain": [
       "|- (TRUE and FALSE) = FALSE"
      ]
     },
     "metadata": {},
     "output_type": "display_data"
    }
   ],
   "source": [
    "Equals(And(TRUE, FALSE), FALSE).prove()"
   ]
  },
  {
   "cell_type": "code",
   "execution_count": 60,
   "metadata": {},
   "outputs": [
    {
     "data": {
      "text/html": [
       "<span style=\"font-size:20px;\"> <a class=\"ProveItLink\" href=\"axioms.ipynb#and_f_t\" style=\"text-decoration: none\">&nbsp;&#x22A2;&nbsp;&nbsp;</a><a class=\"ProveItLink\" href=\"../__pv_it/axioms/a65bf4fde9913e34cd5a85bbb0b1d1d29d885ac50/expr.ipynb\"><img src=\"data:image/png;base64,iVBORw0KGgoAAAANSUhEUgAAAHAAAAAVBAMAAABs93eRAAAAMFBMVEX///8AAAAAAAAAAAAAAAAA\n",
       "AAAAAAAAAAAAAAAAAAAAAAAAAAAAAAAAAAAAAAAAAAAv3aB7AAAAD3RSTlMAInZUiRDNmWbv3US7\n",
       "qzJazP2FAAAACXBIWXMAAA7EAAAOxAGVKw4bAAABDUlEQVQ4y2NgYBBgwAPwSDIZ4NO4CbeUCYjg\n",
       "bkATrVoFAmsZmBqwaNkBIlgTQCSzAkyQBe4AIzCZikUjWIa9AVVjVAKqxnZcGjkZUDVq3EbVyBmA\n",
       "Q6MZmsYFb1A1sjXg0FiCqpHZgU0ARSPLBRwaM1A1sgkwF6Bo5EhADmQkmcWoGt8yMCxF0cg8AYeN\n",
       "s1E13mNgUELRyPeBKI2gWI1C0ciNy0ZUp4Kin90AxakLcPjxEIpGLiBmTEAJnAM4bPRF0dgEIs4h\n",
       "a2R3wKHxFVBu1aqVs1atAkXYVZDQI6SkzMC1ATP5zwS5musBA14ghUuCowC/xgqcMgfx6mM8gFMq\n",
       "Bq9GHtxlB6MCPo2KuCQAUbM+d/PnPScAAAAASUVORK5CYII=\n",
       "\" style=\"display:inline;vertical-align:middle;\" /></a></span>"
      ],
      "text/plain": [
       "|- (FALSE and TRUE) = FALSE"
      ]
     },
     "metadata": {},
     "output_type": "display_data"
    }
   ],
   "source": [
    "Equals(And(FALSE, TRUE), FALSE).prove()"
   ]
  },
  {
   "cell_type": "code",
   "execution_count": 61,
   "metadata": {},
   "outputs": [
    {
     "data": {
      "text/html": [
       "<span style=\"font-size:20px;\"> <a class=\"ProveItLink\" href=\"axioms.ipynb#and_f_f\" style=\"text-decoration: none\">&nbsp;&#x22A2;&nbsp;&nbsp;</a><a class=\"ProveItLink\" href=\"../__pv_it/axioms/b5ff076bc01af38ecec321425420cbf9d4b90b460/expr.ipynb\"><img src=\"data:image/png;base64,iVBORw0KGgoAAAANSUhEUgAAAHAAAAAVBAMAAABs93eRAAAAMFBMVEX///8AAAAAAAAAAAAAAAAA\n",
       "AAAAAAAAAAAAAAAAAAAAAAAAAAAAAAAAAAAAAAAAAAAv3aB7AAAAD3RSTlMAInZUiRDNmWbv3US7\n",
       "qzJazP2FAAAACXBIWXMAAA7EAAAOxAGVKw4bAAABC0lEQVQ4y2NgYBBgwAPwSDIZ4NO4CbeUCYjg\n",
       "bsCU2AE2FosERIY1AUQyK8AEWeAOMAKTqVg0gmXYG1A1RiWgamzHpZGTAVWjxm1UjZwBODSaoWlc\n",
       "8AZVI1sDDo0lqBqZHdgEUDSyXMChMQNVI5sAcwGKRg6wn6tWgcBaZJnFqBrfMjAsRdHIPAGHjbNR\n",
       "Nd5jYFBC0cj3gSiNoFiNQtHIjctGVKeCop/dAMWpC3D48RCKRi4gZkxACZwDOGz0RdHYBCLOIWtk\n",
       "d8Ch8RVQbtWqlbNWrQJF2FWQ0COI22aC3ca1AU0XTIbrAQNeIIVLgqMAv8YKnDIH8epjPIBTKgav\n",
       "Rh7cZQejAj6NirgkAF5+PmZemn66AAAAAElFTkSuQmCC\n",
       "\" style=\"display:inline;vertical-align:middle;\" /></a></span>"
      ],
      "text/plain": [
       "|- (FALSE and FALSE) = FALSE"
      ]
     },
     "metadata": {},
     "output_type": "display_data"
    }
   ],
   "source": [
    "Equals(And(FALSE, FALSE), FALSE).prove()"
   ]
  },
  {
   "cell_type": "code",
   "execution_count": 62,
   "metadata": {},
   "outputs": [
    {
     "data": {
      "text/html": [
       "<span style=\"font-size:20px;\"><a class=\"ProveItLink\" href=\"../__pv_it/axioms/6950b8dde63419a8049c20dbc9d1b142bf347c700/expr.ipynb\"><img src=\"data:image/png;base64,iVBORw0KGgoAAAANSUhEUgAAAGwAAAAVBAMAAABRZRb3AAAAMFBMVEX///8AAAAAAAAAAAAAAAAA\n",
       "AAAAAAAAAAAAAAAAAAAAAAAAAAAAAAAAAAAAAAAAAAAv3aB7AAAAD3RSTlMAInZUiRDNmWbv3US7\n",
       "qzJazP2FAAAACXBIWXMAAA7EAAAOxAGVKw4bAAAB9UlEQVQ4y2NgYBBgwAMYcUkwGYApMeyy3Apo\n",
       "qlce+zbrNpBhAuHno6nnOP/37rVzDAwaaOI83ApisRsYWBPAPOb/UGEWAyiD8wADw/0HDGwB6Noa\n",
       "WAQOMLA3gHns96FejEqAyssDnbe/gIGjAEMbh8EFBk4Iz9H/AYShcRsq3w8U6AdqnQr11KlVy+Da\n",
       "EhjMIAGmoA913II3UG33gTgT6IQMSNAkBcBt45VwYCiBuJHBHuJYZgc2qGvnMDDErgPSvpCADoA7\n",
       "UlXrCsywzQzvHcAMNgFmiGf4/ijpguXawNxEhN+WzV8ewLAYzClgkL8AZrxlYFgK8ctHBgZLkAss\n",
       "wdwEpCBh6k5lmA1Wc7z8/gGw6D0GBiWI9ARgZPwDMt6D7Z61atWqNVBtDAe2QLQFMTDwLwAxQLEY\n",
       "BdbGD7Sd4xOQsRMsfgDJNoYDPBBHAr3DNQEW2ezgMH0PdCDvbyDDChLAKNrYGA6BQheohO0DSJAL\n",
       "FBlgf+gDA/Q9iNUDVq2Eos0IHL6SIO5HkGATiDgHIjKBpk0DhTokhtgM4NocWFQKGF4xMMT8T2Vg\n",
       "Pv8NFANXQTKPgPjO/7t3c8BKV4NVs97ZCgngzDPgHMD1gAEvYIT6itsHkrhgGaQAvzZoUscAB/Fr\n",
       "k8EhHoNfGy5TGRXw6WLCXtIAAH91djqcO7OuAAAAAElFTkSuQmCC\n",
       "\" style=\"display:inline;vertical-align:middle;\" /></a> <a class=\"ProveItLink\" href=\"../__pv_it/demonstrations/f21d0552a140b89a33e28ed1f812b403417449920/proof.ipynb\" style=\"text-decoration: none\">&nbsp;&#x22A2;&nbsp;&nbsp;</a><a class=\"ProveItLink\" href=\"../../__pv_it/theorems/a10dbfd9a4efbb6f30af430036ab01697a9460f80/expr.ipynb\"><img src=\"data:image/png;base64,iVBORw0KGgoAAAANSUhEUgAAADYAAAAQBAMAAACvnpHFAAAAMFBMVEX///8AAAAAAAAAAAAAAAAA\n",
       "AAAAAAAAAAAAAAAAAAAAAAAAAAAAAAAAAAAAAAAAAAAv3aB7AAAAD3RSTlMAIs1UmauJMnZmRLsQ\n",
       "3e++988cAAAACXBIWXMAAA7EAAAOxAGVKw4bAAAA40lEQVQY02NgAAEhBhTAcW/Tp7dRUI4+qhwD\n",
       "N1eD0NEFYCbzfwy5CWwCG8BMlngBDDlOgwAwMzG/AGrR3ruX4HIKIBZjQ78BWIpL4wBcH6tkAthI\n",
       "BvsJEOcegJvZ0xsGZi1mqAerYVBE2Hfp/RWwQgcGeYi9Ckhu4ZilA3LAFpd4sHvZ3969e/c2VI5h\n",
       "wzIg4wQDA/8FkAjPBiR9DBu4wUYy8D4AC11AkWMCOhzoRqYPYKEOFDkLBgY5EPsjWIjJAC6XwNbm\n",
       "wHD6vw4D8/5PYE/wRK+BBI/ebkQ8wABXNiTMIAAAYXA8zHUEOxUAAAAASUVORK5CYII=\n",
       "\" style=\"display:inline;vertical-align:middle;\" /></a></span>"
      ],
      "text/plain": [
       "{(A and B) in BOOLEAN} |- A in BOOLEAN"
      ]
     },
     "metadata": {},
     "output_type": "display_data"
    }
   ],
   "source": [
    "in_bool(A).prove(assumptions=[in_bool(And(A,B))])"
   ]
  },
  {
   "cell_type": "code",
   "execution_count": 63,
   "metadata": {},
   "outputs": [
    {
     "data": {
      "text/html": [
       "<span style=\"font-size:20px;\"><a class=\"ProveItLink\" href=\"../__pv_it/axioms/6950b8dde63419a8049c20dbc9d1b142bf347c700/expr.ipynb\"><img src=\"data:image/png;base64,iVBORw0KGgoAAAANSUhEUgAAAGwAAAAVBAMAAABRZRb3AAAAMFBMVEX///8AAAAAAAAAAAAAAAAA\n",
       "AAAAAAAAAAAAAAAAAAAAAAAAAAAAAAAAAAAAAAAAAAAv3aB7AAAAD3RSTlMAInZUiRDNmWbv3US7\n",
       "qzJazP2FAAAACXBIWXMAAA7EAAAOxAGVKw4bAAAB9UlEQVQ4y2NgYBBgwAMYcUkwGYApMeyy3Apo\n",
       "qlce+zbrNpBhAuHno6nnOP/37rVzDAwaaOI83ApisRsYWBPAPOb/UGEWAyiD8wADw/0HDGwB6Noa\n",
       "WAQOMLA3gHns96FejEqAyssDnbe/gIGjAEMbh8EFBk4Iz9H/AYShcRsq3w8U6AdqnQr11KlVy+Da\n",
       "EhjMIAGmoA913II3UG33gTgT6IQMSNAkBcBt45VwYCiBuJHBHuJYZgc2qGvnMDDErgPSvpCADoA7\n",
       "UlXrCsywzQzvHcAMNgFmiGf4/ijpguXawNxEhN+WzV8ewLAYzClgkL8AZrxlYFgK8ctHBgZLkAss\n",
       "wdwEpCBh6k5lmA1Wc7z8/gGw6D0GBiWI9ARgZPwDMt6D7Z61atWqNVBtDAe2QLQFMTDwLwAxQLEY\n",
       "BdbGD7Sd4xOQsRMsfgDJNoYDPBBHAr3DNQEW2ezgMH0PdCDvbyDDChLAKNrYGA6BQheohO0DSJAL\n",
       "FBlgf+gDA/Q9iNUDVq2Eos0IHL6SIO5HkGATiDgHIjKBpk0DhTokhtgM4NocWFQKGF4xMMT8T2Vg\n",
       "Pv8NFANXQTKPgPjO/7t3c8BKV4NVs97ZCgngzDPgHMD1gAEvYIT6itsHkrhgGaQAvzZoUscAB/Fr\n",
       "k8EhHoNfGy5TGRXw6WLCXtIAAH91djqcO7OuAAAAAElFTkSuQmCC\n",
       "\" style=\"display:inline;vertical-align:middle;\" /></a> <a class=\"ProveItLink\" href=\"../__pv_it/demonstrations/39565edf03645418a47727cb07290946e9bc4da50/proof.ipynb\" style=\"text-decoration: none\">&nbsp;&#x22A2;&nbsp;&nbsp;</a><a class=\"ProveItLink\" href=\"../__pv_it/theorems/c50b73f2d168f6a3012768bd45c62ea92218bcbc0/expr.ipynb\"><img src=\"data:image/png;base64,iVBORw0KGgoAAAANSUhEUgAAADcAAAAQBAMAAABAXPr7AAAAMFBMVEX///8AAAAAAAAAAAAAAAAA\n",
       "AAAAAAAAAAAAAAAAAAAAAAAAAAAAAAAAAAAAAAAAAAAv3aB7AAAAD3RSTlMAZrurzTLvInZEmRDd\n",
       "VIkafcLnAAAACXBIWXMAAA7EAAAOxAGVKw4bAAAA8UlEQVQY02NgwAZ6kvzdDk8AsYT+Gxs7BaDK\n",
       "Ksxg97YEs5IYGJi/oklOZHjOBGKw/2Bg4PyFISnLDGIwAnUx/gCLceicOQKXZAExmD8wMLCkg1ic\n",
       "HhsQOs3lQAw2BQZuG7CDSjYgHLTj8AMQI16jw0QALOSOsHOO25/VIEZ/AQNvIljIAdlBjVNA5qgB\n",
       "8XuQsaw5Z86cOQSTZOIEmfsZiOUbgAS3ArJOJgYgl/UjkGMPDqsDqJJAWzi+AxV8AQt1oEjyAk1j\n",
       "SWBgmOYNFmK5AJecx/DiFTAI9D8bm+hChLiNZkMYLUn60FhBApyPoMEHAQCDjz3xiC/o5wAAAABJ\n",
       "RU5ErkJggg==\n",
       "\" style=\"display:inline;vertical-align:middle;\" /></a></span>"
      ],
      "text/plain": [
       "{(A and B) in BOOLEAN} |- B in BOOLEAN"
      ]
     },
     "metadata": {},
     "output_type": "display_data"
    }
   ],
   "source": [
    "in_bool(B).prove(assumptions=[in_bool(And(A,B))])"
   ]
  },
  {
   "cell_type": "code",
   "execution_count": 64,
   "metadata": {},
   "outputs": [
    {
     "data": {
      "text/html": [
       "<span style=\"font-size:20px;\"> <a class=\"ProveItLink\" href=\"axioms.ipynb#and_f_t\" style=\"text-decoration: none\">&nbsp;&#x22A2;&nbsp;&nbsp;</a><a class=\"ProveItLink\" href=\"../__pv_it/axioms/a65bf4fde9913e34cd5a85bbb0b1d1d29d885ac50/expr.ipynb\"><img src=\"data:image/png;base64,iVBORw0KGgoAAAANSUhEUgAAAHAAAAAVBAMAAABs93eRAAAAMFBMVEX///8AAAAAAAAAAAAAAAAA\n",
       "AAAAAAAAAAAAAAAAAAAAAAAAAAAAAAAAAAAAAAAAAAAv3aB7AAAAD3RSTlMAInZUiRDNmWbv3US7\n",
       "qzJazP2FAAAACXBIWXMAAA7EAAAOxAGVKw4bAAABDUlEQVQ4y2NgYBBgwAPwSDIZ4NO4CbeUCYjg\n",
       "bkATrVoFAmsZmBqwaNkBIlgTQCSzAkyQBe4AIzCZikUjWIa9AVVjVAKqxnZcGjkZUDVq3EbVyBmA\n",
       "Q6MZmsYFb1A1sjXg0FiCqpHZgU0ARSPLBRwaM1A1sgkwF6Bo5EhADmQkmcWoGt8yMCxF0cg8AYeN\n",
       "s1E13mNgUELRyPeBKI2gWI1C0ciNy0ZUp4Kin90AxakLcPjxEIpGLiBmTEAJnAM4bPRF0dgEIs4h\n",
       "a2R3wKHxFVBu1aqVs1atAkXYVZDQI6SkzMC1ATP5zwS5musBA14ghUuCowC/xgqcMgfx6mM8gFMq\n",
       "Bq9GHtxlB6MCPo2KuCQAUbM+d/PnPScAAAAASUVORK5CYII=\n",
       "\" style=\"display:inline;vertical-align:middle;\" /></a></span>"
      ],
      "text/plain": [
       "|- (FALSE and TRUE) = FALSE"
      ]
     },
     "metadata": {},
     "output_type": "display_data"
    }
   ],
   "source": [
    "Equals(And(FALSE, TRUE), FALSE).prove()"
   ]
  },
  {
   "cell_type": "code",
   "execution_count": 65,
   "metadata": {},
   "outputs": [
    {
     "data": {
      "text/html": [
       "<span style=\"font-size:20px;\"> <a class=\"ProveItLink\" href=\"axioms.ipynb#and_f_f\" style=\"text-decoration: none\">&nbsp;&#x22A2;&nbsp;&nbsp;</a><a class=\"ProveItLink\" href=\"../__pv_it/axioms/b5ff076bc01af38ecec321425420cbf9d4b90b460/expr.ipynb\"><img src=\"data:image/png;base64,iVBORw0KGgoAAAANSUhEUgAAAHAAAAAVBAMAAABs93eRAAAAMFBMVEX///8AAAAAAAAAAAAAAAAA\n",
       "AAAAAAAAAAAAAAAAAAAAAAAAAAAAAAAAAAAAAAAAAAAv3aB7AAAAD3RSTlMAInZUiRDNmWbv3US7\n",
       "qzJazP2FAAAACXBIWXMAAA7EAAAOxAGVKw4bAAABC0lEQVQ4y2NgYBBgwAPwSDIZ4NO4CbeUCYjg\n",
       "bsCU2AE2FosERIY1AUQyK8AEWeAOMAKTqVg0gmXYG1A1RiWgamzHpZGTAVWjxm1UjZwBODSaoWlc\n",
       "8AZVI1sDDo0lqBqZHdgEUDSyXMChMQNVI5sAcwGKRg6wn6tWgcBaZJnFqBrfMjAsRdHIPAGHjbNR\n",
       "Nd5jYFBC0cj3gSiNoFiNQtHIjctGVKeCop/dAMWpC3D48RCKRi4gZkxACZwDOGz0RdHYBCLOIWtk\n",
       "d8Ch8RVQbtWqlbNWrQJF2FWQ0COI22aC3ca1AU0XTIbrAQNeIIVLgqMAv8YKnDIH8epjPIBTKgav\n",
       "Rh7cZQejAj6NirgkAF5+PmZemn66AAAAAElFTkSuQmCC\n",
       "\" style=\"display:inline;vertical-align:middle;\" /></a></span>"
      ],
      "text/plain": [
       "|- (FALSE and FALSE) = FALSE"
      ]
     },
     "metadata": {},
     "output_type": "display_data"
    }
   ],
   "source": [
    "Equals(And(FALSE, FALSE), FALSE).prove()"
   ]
  },
  {
   "cell_type": "code",
   "execution_count": 66,
   "metadata": {},
   "outputs": [
    {
     "data": {
      "text/html": [
       "<span style=\"font-size:20px;\"><a class=\"ProveItLink\" href=\"../__pv_it/axioms/6950b8dde63419a8049c20dbc9d1b142bf347c700/expr.ipynb\"><img src=\"data:image/png;base64,iVBORw0KGgoAAAANSUhEUgAAAGwAAAAVBAMAAABRZRb3AAAAMFBMVEX///8AAAAAAAAAAAAAAAAA\n",
       "AAAAAAAAAAAAAAAAAAAAAAAAAAAAAAAAAAAAAAAAAAAv3aB7AAAAD3RSTlMAInZUiRDNmWbv3US7\n",
       "qzJazP2FAAAACXBIWXMAAA7EAAAOxAGVKw4bAAAB9UlEQVQ4y2NgYBBgwAMYcUkwGYApMeyy3Apo\n",
       "qlce+zbrNpBhAuHno6nnOP/37rVzDAwaaOI83ApisRsYWBPAPOb/UGEWAyiD8wADw/0HDGwB6Noa\n",
       "WAQOMLA3gHns96FejEqAyssDnbe/gIGjAEMbh8EFBk4Iz9H/AYShcRsq3w8U6AdqnQr11KlVy+Da\n",
       "EhjMIAGmoA913II3UG33gTgT6IQMSNAkBcBt45VwYCiBuJHBHuJYZgc2qGvnMDDErgPSvpCADoA7\n",
       "UlXrCsywzQzvHcAMNgFmiGf4/ijpguXawNxEhN+WzV8ewLAYzClgkL8AZrxlYFgK8ctHBgZLkAss\n",
       "wdwEpCBh6k5lmA1Wc7z8/gGw6D0GBiWI9ARgZPwDMt6D7Z61atWqNVBtDAe2QLQFMTDwLwAxQLEY\n",
       "BdbGD7Sd4xOQsRMsfgDJNoYDPBBHAr3DNQEW2ezgMH0PdCDvbyDDChLAKNrYGA6BQheohO0DSJAL\n",
       "FBlgf+gDA/Q9iNUDVq2Eos0IHL6SIO5HkGATiDgHIjKBpk0DhTokhtgM4NocWFQKGF4xMMT8T2Vg\n",
       "Pv8NFANXQTKPgPjO/7t3c8BKV4NVs97ZCgngzDPgHMD1gAEvYIT6itsHkrhgGaQAvzZoUscAB/Fr\n",
       "k8EhHoNfGy5TGRXw6WLCXtIAAH91djqcO7OuAAAAAElFTkSuQmCC\n",
       "\" style=\"display:inline;vertical-align:middle;\" /></a> <a class=\"ProveItLink\" href=\"../__pv_it/demonstrations/f21d0552a140b89a33e28ed1f812b403417449920/proof.ipynb\" style=\"text-decoration: none\">&nbsp;&#x22A2;&nbsp;&nbsp;</a><a class=\"ProveItLink\" href=\"../../__pv_it/theorems/a10dbfd9a4efbb6f30af430036ab01697a9460f80/expr.ipynb\"><img src=\"data:image/png;base64,iVBORw0KGgoAAAANSUhEUgAAADYAAAAQBAMAAACvnpHFAAAAMFBMVEX///8AAAAAAAAAAAAAAAAA\n",
       "AAAAAAAAAAAAAAAAAAAAAAAAAAAAAAAAAAAAAAAAAAAv3aB7AAAAD3RSTlMAIs1UmauJMnZmRLsQ\n",
       "3e++988cAAAACXBIWXMAAA7EAAAOxAGVKw4bAAAA40lEQVQY02NgAAEhBhTAcW/Tp7dRUI4+qhwD\n",
       "N1eD0NEFYCbzfwy5CWwCG8BMlngBDDlOgwAwMzG/AGrR3ruX4HIKIBZjQ78BWIpL4wBcH6tkAthI\n",
       "BvsJEOcegJvZ0xsGZi1mqAerYVBE2Hfp/RWwQgcGeYi9Ckhu4ZilA3LAFpd4sHvZ3969e/c2VI5h\n",
       "wzIg4wQDA/8FkAjPBiR9DBu4wUYy8D4AC11AkWMCOhzoRqYPYKEOFDkLBgY5EPsjWIjJAC6XwNbm\n",
       "wHD6vw4D8/5PYE/wRK+BBI/ebkQ8wABXNiTMIAAAYXA8zHUEOxUAAAAASUVORK5CYII=\n",
       "\" style=\"display:inline;vertical-align:middle;\" /></a></span>"
      ],
      "text/plain": [
       "{(A and B) in BOOLEAN} |- A in BOOLEAN"
      ]
     },
     "metadata": {},
     "output_type": "display_data"
    }
   ],
   "source": [
    "in_bool(A).prove(assumptions=[in_bool(And(A,B))])"
   ]
  },
  {
   "cell_type": "code",
   "execution_count": 67,
   "metadata": {},
   "outputs": [
    {
     "data": {
      "text/html": [
       "<span style=\"font-size:20px;\"><a class=\"ProveItLink\" href=\"../__pv_it/axioms/6950b8dde63419a8049c20dbc9d1b142bf347c700/expr.ipynb\"><img src=\"data:image/png;base64,iVBORw0KGgoAAAANSUhEUgAAAGwAAAAVBAMAAABRZRb3AAAAMFBMVEX///8AAAAAAAAAAAAAAAAA\n",
       "AAAAAAAAAAAAAAAAAAAAAAAAAAAAAAAAAAAAAAAAAAAv3aB7AAAAD3RSTlMAInZUiRDNmWbv3US7\n",
       "qzJazP2FAAAACXBIWXMAAA7EAAAOxAGVKw4bAAAB9UlEQVQ4y2NgYBBgwAMYcUkwGYApMeyy3Apo\n",
       "qlce+zbrNpBhAuHno6nnOP/37rVzDAwaaOI83ApisRsYWBPAPOb/UGEWAyiD8wADw/0HDGwB6Noa\n",
       "WAQOMLA3gHns96FejEqAyssDnbe/gIGjAEMbh8EFBk4Iz9H/AYShcRsq3w8U6AdqnQr11KlVy+Da\n",
       "EhjMIAGmoA913II3UG33gTgT6IQMSNAkBcBt45VwYCiBuJHBHuJYZgc2qGvnMDDErgPSvpCADoA7\n",
       "UlXrCsywzQzvHcAMNgFmiGf4/ijpguXawNxEhN+WzV8ewLAYzClgkL8AZrxlYFgK8ctHBgZLkAss\n",
       "wdwEpCBh6k5lmA1Wc7z8/gGw6D0GBiWI9ARgZPwDMt6D7Z61atWqNVBtDAe2QLQFMTDwLwAxQLEY\n",
       "BdbGD7Sd4xOQsRMsfgDJNoYDPBBHAr3DNQEW2ezgMH0PdCDvbyDDChLAKNrYGA6BQheohO0DSJAL\n",
       "FBlgf+gDA/Q9iNUDVq2Eos0IHL6SIO5HkGATiDgHIjKBpk0DhTokhtgM4NocWFQKGF4xMMT8T2Vg\n",
       "Pv8NFANXQTKPgPjO/7t3c8BKV4NVs97ZCgngzDPgHMD1gAEvYIT6itsHkrhgGaQAvzZoUscAB/Fr\n",
       "k8EhHoNfGy5TGRXw6WLCXtIAAH91djqcO7OuAAAAAElFTkSuQmCC\n",
       "\" style=\"display:inline;vertical-align:middle;\" /></a> <a class=\"ProveItLink\" href=\"../__pv_it/demonstrations/39565edf03645418a47727cb07290946e9bc4da50/proof.ipynb\" style=\"text-decoration: none\">&nbsp;&#x22A2;&nbsp;&nbsp;</a><a class=\"ProveItLink\" href=\"../__pv_it/theorems/c50b73f2d168f6a3012768bd45c62ea92218bcbc0/expr.ipynb\"><img src=\"data:image/png;base64,iVBORw0KGgoAAAANSUhEUgAAADcAAAAQBAMAAABAXPr7AAAAMFBMVEX///8AAAAAAAAAAAAAAAAA\n",
       "AAAAAAAAAAAAAAAAAAAAAAAAAAAAAAAAAAAAAAAAAAAv3aB7AAAAD3RSTlMAZrurzTLvInZEmRDd\n",
       "VIkafcLnAAAACXBIWXMAAA7EAAAOxAGVKw4bAAAA8UlEQVQY02NgwAZ6kvzdDk8AsYT+Gxs7BaDK\n",
       "Ksxg97YEs5IYGJi/oklOZHjOBGKw/2Bg4PyFISnLDGIwAnUx/gCLceicOQKXZAExmD8wMLCkg1ic\n",
       "HhsQOs3lQAw2BQZuG7CDSjYgHLTj8AMQI16jw0QALOSOsHOO25/VIEZ/AQNvIljIAdlBjVNA5qgB\n",
       "8XuQsaw5Z86cOQSTZOIEmfsZiOUbgAS3ArJOJgYgl/UjkGMPDqsDqJJAWzi+AxV8AQt1oEjyAk1j\n",
       "SWBgmOYNFmK5AJecx/DiFTAI9D8bm+hChLiNZkMYLUn60FhBApyPoMEHAQCDjz3xiC/o5wAAAABJ\n",
       "RU5ErkJggg==\n",
       "\" style=\"display:inline;vertical-align:middle;\" /></a></span>"
      ],
      "text/plain": [
       "{(A and B) in BOOLEAN} |- B in BOOLEAN"
      ]
     },
     "metadata": {},
     "output_type": "display_data"
    }
   ],
   "source": [
    "in_bool(B).prove(assumptions=[in_bool(And(A,B))])"
   ]
  },
  {
   "cell_type": "markdown",
   "metadata": {},
   "source": [
    "#### Testing `And.conclude_over_expr_range()`"
   ]
  },
  {
   "cell_type": "code",
   "execution_count": 68,
   "metadata": {},
   "outputs": [
    {
     "data": {
      "text/html": [
       "<strong id=\"test_conj_over_expr_range_01\">test_conj_over_expr_range_01:</strong> <a class=\"ProveItLink\" href=\"../__pv_it/demonstrations/79146556591a245330987dbcddd69c2b6ac2d5ca0/expr.ipynb\"><img src=\"data:image/png;base64,iVBORw0KGgoAAAANSUhEUgAAAQkAAAAVBAMAAACnJQYDAAAAMFBMVEX///8AAAAAAAAAAAAAAAAA\n",
       "AAAAAAAAAAAAAAAAAAAAAAAAAAAAAAAAAAAAAAAAAAAv3aB7AAAAD3RSTlMAIomZq2bNMhC7791E\n",
       "VHYkqjbgAAAACXBIWXMAAA7EAAAOxAGVKw4bAAADC0lEQVRIx5VWTWgTQRR+yW6ymyZZc1EQIRYV\n",
       "D4oYBH9QtDn4hwgVFMWLTVFB8OAeevFicpAeLJjoRRGEFikIXoKClkYxZ0G7VvCgByPaY8Qe2koR\n",
       "dN6bSbKbeVuSgX3zdvf73n7z5s3MAvhaxGf5FvouA323SAi1STbVCGc2w1586F9FM0CNbN1yjJz0\n",
       "oDDWQ1jQVHcjgs2aAXDO9JoBXyz7URVa1O0umAV0xtE4BYiXJCHqKaaGCLTb+/4Ie03d7eI/zseK\n",
       "50BRxyvCPMG7vQoYy8l+Qn1OR8iZaw3fQRVnpW+/5FXwsdaRNqReR2cYzWSL8lR2C6dlzyAopQ2/\n",
       "igGZQOdcnVXBx5ojkqAaK+jsdkXUdqavyq56kzoOoauIy8wkrQqrgo+1gx4K6mZiDYkRGFh6d38K\n",
       "s02VT5wWEYfQVUTz5M/DKCciJNYVmD9A1CGamhsZNZrcgLDnpcRMmgqEQ+gqYjJPo/CJU8HHspfS\n",
       "H6eJ+hanxl7FZAqEk8GC+ULMMYAZ7DmEriJNNWPlIVliVPCx0ovvrVGirtKqWMIiEXmy4ZvAFYl5\n",
       "AuAX9hwCjFpt9lmtlm+rsH6ja7rgcJseH8uYdkFSa9jfKajnAIfE9Y7WnHg2gQ6H0HORmlSbgF3V\n",
       "RYTESl7eD5I6DCkPDmZUjgCei+tra58xPFpXOoKZkWprzzrM71lMrLI350pq0buwPjqF0ARGjfwV\n",
       "5iKtObxD1RyCqU6qfpSyQVcREmukVPYaRHWmGtGjVFC01mI4vXvw9hKaB/gRBhFQEV0EtfJi+Cgh\n",
       "xmcvC6dcUE5YrONQdgcldez+zjpgYiwciIlDeo2wk2huUYHrCL8K89SyOJ+SWDMmfsDC5y8wAznl\n",
       "hMV6DM6RkqJCou7QlvIKi0aEiGj11Y0I5oLapl4PdH8sPzWR/wzyVDG9EaHN0E7pbkTwNAPtoFtT\n",
       "RTtWkGr8W5HvM0Xvjeg3asxuBPPbUOlVRSdWkGrNyt3Qrhg/cIruacxuBDPCnn/5OrFCqFm58NYI\n",
       "mA178b3/P75sh/of6FANWxqStkMAAAAASUVORK5CYII=\n",
       "\" style=\"display:inline;vertical-align:middle;\" /></a><br>"
      ],
      "text/plain": [
       "<IPython.core.display.HTML object>"
      ]
     },
     "metadata": {},
     "output_type": "display_data"
    }
   ],
   "source": [
    "from proveit import i, j, k, x, P, Q, Pk, Qx, ExprRange, Function, Lambda\n",
    "from proveit.logic import Forall, InSet\n",
    "from proveit.numbers import one, two, three, four, five, Add, Integer, Interval, LessEq\n",
    "test_conj_over_expr_range_01 = And(ExprRange(x, Qx, j, k))"
   ]
  },
  {
   "cell_type": "code",
   "execution_count": 69,
   "metadata": {},
   "outputs": [
    {
     "data": {
      "text/html": [
       "<strong id=\"our_assumptions_01\">our_assumptions_01:</strong> <a class=\"ProveItLink\" href=\"../__pv_it/demonstrations/26a0f6253f43b461d2eb31dff7fa0a0ec729fa490/expr.ipynb\"><img src=\"data:image/png;base64,iVBORw0KGgoAAAANSUhEUgAAAb4AAAAZBAMAAAC8zVY4AAAAMFBMVEX///8AAAAAAAAAAAAAAAAA\n",
       "AAAAAAAAAAAAAAAAAAAAAAAAAAAAAAAAAAAAAAAAAAAv3aB7AAAAD3RSTlMAZkRUmRDNuyLviTJ2\n",
       "3asqG0tJAAAACXBIWXMAAA7EAAAOxAGVKw4bAAAFTElEQVRYw91Yf4gUVRz/7s7M7t7O3rqVZHCV\n",
       "+1eQKA1UF0HhWRpZJ+4fpRjibV0SUZ3bRWwJwlh/iGTdCv3wD82tLoPAXDCKk/QmOvOK85LIymJp\n",
       "xfQES8vr4o79o77vvXlv3szNzO5GSPlg3u7Mdz7vO5/vzzcDAFfC5Tq6yKR0Xbb8tpBp1SVVmWhZ\n",
       "8A8VmHhELJyenn1P5+7XN323PWCBUGEDKcBnQYKo9e/w4woWkuk48i3h74j7niPnIAZ5fvZxLlC4\n",
       "epd3+VAoJkPZDwQH8b5P+Uma3phpzWuD758UCuhIkQXGAVRy4Qf33UtRW9LgZ5+HCB/1KgqEdpoi\n",
       "Gbwg7ecNyC/GbaFmcYqZLfHbU4F03p1t6/HoycGc7Oy7z4JWWB20lEs42Sz0umX0Z4kLFOVO+gq5\n",
       "RXid02u8NDQ9VhVwelUooGMusVIGhqUQOlKtUiPkQK2cmxV5PsLoVFNQgKPvst+SC6RYEj94Tbb8\n",
       "Oy3xe4pMF7gCNtpwTbUAR527bjgs/h7SvV3DV5gsNQMFba9NRMnLIA+/h/nlK/DIt0JPrZN5X8VW\n",
       "wAb6DlIlOIPqR2icJNY7iGfj3K3aWC1YGKspg7lGUNBW8Dikyc5BXn4fCMtXqyfKrfAbIOEJK7NM\n",
       "gTZ2+gC6P1mjoVLEf1FqUSmllfK1wjawPVjYk7l5a6YRVDtjyDYVIC+/qwWuAnFX4Y28RdJyNq8D\n",
       "LKlhJVWwwWQKVBi3ViAIXanXoQ9gv0q9GnOAUokfZeXAX7j4BeMjsxEUHH7thgTy8rtdFPsavOLi\n",
       "MUSxFXfBshyX/0Tg2oyt4BqYn8NmoaDTEhfhG6wJbVTPUBVHgTXJZBY0hs0pU8HC5R32A4RBISHi\n",
       "sy3rgFSMwl3Vak3wG3ZCHN7mfz+Z6Mfe4hOTdClbMEOd/Lt9tQL30DL8G3K+SPwHi2k0OGVdK2B5\n",
       "Ttsxpx4LFn67lBk1FCrVF/pQHOT1341ikTtEDKj3A/jzG5AEVTKtyXMFsJPWduI/Gp/QRw3eLrDp\n",
       "yllMEx5T5UChNhmtQ0Oo1B9I+AiQl9+dToyTjWNqZNu99qaG0Fh7t5vfvMSXgt8FiBqw3OQJEJ2G\n",
       "B3FxNK4+DRPEi0m6oxE7wA+jWOJ/tcNsIBsojExpk6mGUKm/xy0J5OU3j/VP0kE68Wc0XejVWMyT\n",
       "ytPlceIvL64xYRH7P2x0bE7usBVo/ekSoGEjBVo/vyCRupne1iviH/dKW26DHhol8yFQmM5r9WRj\n",
       "KPMBCUpSsx2Qw28fsf19JCL+pAn7Jk6ZuFVhGxz9CRTkBt38dhpYUGOs7aZ2WMnzzDI1UOoPlNCd\n",
       "tFVESnATXj/J8n9dP6vK0TceLz4/sxHaj5OzCQgUxg0YOdwY6gz9mAwS/M7v7sMn+JqmEl2H7oDm\n",
       "mBB5rFh8Bg6dBrn9s5r1B8lM5Ul7T7FxbxYqTIHWbd1yFQlV0g5rdkaysWBT1bVvuFUka5CwOagz\n",
       "fnS/TcjvRAlajJSc1BVMnSXwOJmmXdBIYRG+6W0V5/FsynQreJn1WzVkp4CiU5GpYCG0DJ3rfueT\n",
       "X4JUepIUdEt7oAs7Ba8vOtvVPQQaVZy2DiblwhqvdXoULGHvD3op8Bk1C/TJdiNQGDJkqFalgzaF\n",
       "uBn+MQHWivPuBWOYyhXOL8X2ekOmzgqJme6Q+al/saIsFCRIaboej1OBGkmV674rRAgtQ+2C6Dee\n",
       "o7PHatp7Rbu/x/xeeB1++gnDrYAS/f6Sf3/ZFmiRkBdabAOPDEEov1kKRvn3F6UM//URs6B7mc91\n",
       "vbeJ72f/h++f+/0vv9QAhjb5G5Cpskh9LnHLAAAAAElFTkSuQmCC\n",
       "\" style=\"display:inline;vertical-align:middle;\" /></a><br>"
      ],
      "text/plain": [
       "<IPython.core.display.HTML object>"
      ]
     },
     "metadata": {},
     "output_type": "display_data"
    }
   ],
   "source": [
    "our_assumptions_01 = [InSet(i, Integer), InSet(j, Integer),\n",
    "                   InSet(k, Integer), LessEq(j, Add(k, one)),\n",
    "                   Forall(x, Qx, domain=Interval(j, k))]"
   ]
  },
  {
   "cell_type": "code",
   "execution_count": 70,
   "metadata": {},
   "outputs": [
    {
     "data": {
      "text/html": [
       "<span style=\"font-size:20px;\"><a class=\"ProveItLink\" href=\"../__pv_it/theorems/3b73368031281d59ff93a70f2b4cba5069515ff80/expr.ipynb\"><img src=\"data:image/png;base64,iVBORw0KGgoAAAANSUhEUgAAADIAAAATBAMAAAAg4UMRAAAAMFBMVEX///8AAAAAAAAAAAAAAAAA\n",
       "AAAAAAAAAAAAAAAAAAAAAAAAAAAAAAAAAAAAAAAAAAAv3aB7AAAAD3RSTlMAMrsQds2rme9mIlTd\n",
       "iUQmv6lAAAAACXBIWXMAAA7EAAAOxAGVKw4bAAAA4klEQVQY02NgwADcET+CzmhMADEZlVFkWNQE\n",
       "GAJYIcwAFBn2AgaWCbcZsAC2BQxGzAooQk5nzoB0MzMwFLIJIEs8dYaxGBPEwbSJG5jiCoarYTKA\n",
       "uKmAA+xC1gVwmb2cDmCXLeDfAJZBmAt1MzPDfgMQLXEGCMBOYtlwj4EBLFYDVmEE12LEBVSQBWKd\n",
       "BfN54DKJQB8xfwA56h8kJBxgbi54DvTuASCL8wNEJBru5mAGLm2QjWzQkDDTA9vK8EK1Sam/6QKQ\n",
       "xQEz5q3OGeSwZdsw34ABK5DfcBq7BAO7+wPsEgBKniwbfzxyLwAAAABJRU5ErkJggg==\n",
       "\" style=\"display:inline;vertical-align:middle;\" /></a>, <a class=\"ProveItLink\" href=\"../__pv_it/demonstrations/53b6b683a0dc02a803e4eae3af6ee6cd1da1ef180/expr.ipynb\"><img src=\"data:image/png;base64,iVBORw0KGgoAAAANSUhEUgAAADIAAAAQBAMAAACmdTG/AAAAMFBMVEX///8AAAAAAAAAAAAAAAAA\n",
       "AAAAAAAAAAAAAAAAAAAAAAAAAAAAAAAAAAAAAAAAAAAv3aB7AAAAD3RSTlMAELvv3c2ZVESJq2Yi\n",
       "MnY6gD36AAAACXBIWXMAAA7EAAAOxAGVKw4bAAAA6ElEQVQY02NgwADswZ+DXJQ3MDAqO6DJ8Gld\n",
       "YAhgBTJYE9Bk2BIY+DZMBzL4C9BkuA4wCDEqABn9AjChRy4uAUCKkYEhl+sCkDEZJtH6EMbiXXAN\n",
       "REUxVCaCaJ5AuHlMAoogvb/Za6xBXNYDcJlK7gcg1/9p540ByyDcAHYzA5v1BQj3sgsQKIA9VDCD\n",
       "gUGAgSUsFyIjBNcixANUsIZBvqAfookFLrMW6CPGDwz7BeQLHoDNeABzc0Ib0LsODEsZ5C9MAIuE\n",
       "w90cyMCjrsCgzsCXBwkFKQ0I3axqpGRvNAE5wDpVwKEDBQAK0i1Zmi7k2QAAAABJRU5ErkJggg==\n",
       "\" style=\"display:inline;vertical-align:middle;\" /></a>, <a class=\"ProveItLink\" href=\"../__pv_it/demonstrations/28458df569d21aa5d0b8ed899d95282987415a9a0/expr.ipynb\"><img src=\"data:image/png;base64,iVBORw0KGgoAAAANSUhEUgAAAGQAAAAVBAMAAABCslYDAAAAMFBMVEX///8AAAAAAAAAAAAAAAAA\n",
       "AAAAAAAAAAAAAAAAAAAAAAAAAAAAAAAAAAAAAAAAAAAv3aB7AAAAD3RSTlMAMrsQds2rme9mIlTd\n",
       "iUQmv6lAAAAACXBIWXMAAA7EAAAOxAGVKw4bAAABb0lEQVQ4y2NgwAq4GBhIlGDwxiXB5wCmGJXR\n",
       "JbgvMDBrHMBQL2PAwOAJZrEEINRGgSlTIGYtQNPAnB4P1MJqgCrKeRwiUAnE/Btgoi9hDH+gLCeq\n",
       "SSxnoUY0APF7uHFbkLUwNCPrsD0Ccx7IpTcYsGuJBGITN4iA+UmYFPsFIBHGsLcYm5ZrQFzAMQHE\n",
       "N4uGG8sKFGD+yb2rE5uWqUAPLIB4lA2hhQcowP3rNWMUNi07gMYx7Id4dDncYRwPgI7rFACza86c\n",
       "6Thz5hhCizxYFN37IC084YXYvf8CxDqLHsggh9lveC+AVcseUEr7hx6VTMCENN/AfoMDNi2TQOo+\n",
       "ICWuQBDJm8DAkMpgL3ABTcv9BUCiFhRUCujJjxGYIrUZWEoMULWk9YcBQ/8cyLMOGEn2IApvC0qG\n",
       "OcDAtmG+AYaW6Si8l8gc9gkM8htOQ9g2Z0AAYj7TApyZbxFQl/sDTHFmBZxatHBJLMElwbKAAQAm\n",
       "AVvXepI03AAAAABJRU5ErkJggg==\n",
       "\" style=\"display:inline;vertical-align:middle;\" /></a>, <a class=\"ProveItLink\" href=\"../__pv_it/demonstrations/21ae07f954ca4c2af7a14654a7ffc4715a60a1820/expr.ipynb\"><img src=\"data:image/png;base64,iVBORw0KGgoAAAANSUhEUgAAAJAAAAAXBAMAAAAW3dvrAAAAMFBMVEX///8AAAAAAAAAAAAAAAAA\n",
       "AAAAAAAAAAAAAAAAAAAAAAAAAAAAAAAAAAAAAAAAAAAv3aB7AAAAD3RSTlMAq1RmmUTNIjK7EInv\n",
       "3XZ/CtNrAAAACXBIWXMAAA7EAAAOxAGVKw4bAAACcElEQVQ4y6VUTWgTURD+0t1mN7vJtl6EipSA\n",
       "4EkxBymKqIEqFis06MWDxWAP/hzK6kkx1HhRsC3Wg+h6kBxErBU1XitSPCgoSi4FL4VEI0KVUoqi\n",
       "9qIz7+1Ptl0Kqw/ezOww79v5ZuY94H+WtkL/8/ro6vY60MnGpnjnL/ZXc6zbnnqeT8B+1idj4Zin\n",
       "gPVs3PddyQouM8WJODjGaRLpPIle36fkGQtmNg5QskYisUhiJnC+gUJsk7GYDZSZ3i8qUTFwDgHv\n",
       "5ubexmr5b5bqD9pc68eNB9NEqAr0AXdCkbu4I+VVAKMHpVaXBL+ftDkwb3WrxLUHOAuts/WALph/\n",
       "CIHspjnhn/LKLLN8QlEZykSxleUEAW4BUhWz4GE0nEKIubfSHLFZ2h3iR3tz0qtDFfHXqWR1v9b7\n",
       "mFAU0CUEQBlumvHKg0eas8Ux2sU9JBYONG1LjisBGc3wQOzUvvpA1PjDUF9DUgOO2wZN0Faynp0B\n",
       "LLsrmZ2Us0VA6oq0us89sjHo8l9Sruae22SlKJfJwkaY/CvaJaq1grs6jojAK8TvoZkPAb3P6tSk\n",
       "efnxbQTVDeKq0MFt1w5RgkA/5ypaTe3scRwnq6+rwO1sMDrf+5jzsJtS1/QsFZkMqta9hbZeZjgb\n",
       "NF3DqLAsHoYOuxVImRikF6cUOG7iS3hGtJprlMyiSoPgFRtjwjsFQzwUifq46Reb1w1Zw+2+Q/UY\n",
       "qJ9fzEO77QM1hHfM1rk7SNmJHSGggT9l6fccF8LjMuV4AzkUcclagMZfygfFf35uRcS315A8OrM2\n",
       "kLdGXG3ZUdd7GGqzstqtn4j7ouvRz9z5tU/9Bd5cgjpmoF7/AAAAAElFTkSuQmCC\n",
       "\" style=\"display:inline;vertical-align:middle;\" /></a> <a class=\"ProveItLink\" href=\"../__pv_it/demonstrations/729ae77a9c2c54de5c92c82aa5da2ceeab6ad2360/proof.ipynb\" style=\"text-decoration: none\">&nbsp;&#x22A2;&nbsp;&nbsp;</a><a class=\"ProveItLink\" href=\"../__pv_it/demonstrations/79146556591a245330987dbcddd69c2b6ac2d5ca0/expr.ipynb\"><img src=\"data:image/png;base64,iVBORw0KGgoAAAANSUhEUgAAAQkAAAAVBAMAAACnJQYDAAAAMFBMVEX///8AAAAAAAAAAAAAAAAA\n",
       "AAAAAAAAAAAAAAAAAAAAAAAAAAAAAAAAAAAAAAAAAAAv3aB7AAAAD3RSTlMAIomZq2bNMhC7791E\n",
       "VHYkqjbgAAAACXBIWXMAAA7EAAAOxAGVKw4bAAADC0lEQVRIx5VWTWgTQRR+yW6ymyZZc1EQIRYV\n",
       "D4oYBH9QtDn4hwgVFMWLTVFB8OAeevFicpAeLJjoRRGEFikIXoKClkYxZ0G7VvCgByPaY8Qe2koR\n",
       "dN6bSbKbeVuSgX3zdvf73n7z5s3MAvhaxGf5FvouA323SAi1STbVCGc2w1586F9FM0CNbN1yjJz0\n",
       "oDDWQ1jQVHcjgs2aAXDO9JoBXyz7URVa1O0umAV0xtE4BYiXJCHqKaaGCLTb+/4Ie03d7eI/zseK\n",
       "50BRxyvCPMG7vQoYy8l+Qn1OR8iZaw3fQRVnpW+/5FXwsdaRNqReR2cYzWSL8lR2C6dlzyAopQ2/\n",
       "igGZQOdcnVXBx5ojkqAaK+jsdkXUdqavyq56kzoOoauIy8wkrQqrgo+1gx4K6mZiDYkRGFh6d38K\n",
       "s02VT5wWEYfQVUTz5M/DKCciJNYVmD9A1CGamhsZNZrcgLDnpcRMmgqEQ+gqYjJPo/CJU8HHspfS\n",
       "H6eJ+hanxl7FZAqEk8GC+ULMMYAZ7DmEriJNNWPlIVliVPCx0ovvrVGirtKqWMIiEXmy4ZvAFYl5\n",
       "AuAX9hwCjFpt9lmtlm+rsH6ja7rgcJseH8uYdkFSa9jfKajnAIfE9Y7WnHg2gQ6H0HORmlSbgF3V\n",
       "RYTESl7eD5I6DCkPDmZUjgCei+tra58xPFpXOoKZkWprzzrM71lMrLI350pq0buwPjqF0ARGjfwV\n",
       "5iKtObxD1RyCqU6qfpSyQVcREmukVPYaRHWmGtGjVFC01mI4vXvw9hKaB/gRBhFQEV0EtfJi+Cgh\n",
       "xmcvC6dcUE5YrONQdgcldez+zjpgYiwciIlDeo2wk2huUYHrCL8K89SyOJ+SWDMmfsDC5y8wAznl\n",
       "hMV6DM6RkqJCou7QlvIKi0aEiGj11Y0I5oLapl4PdH8sPzWR/wzyVDG9EaHN0E7pbkTwNAPtoFtT\n",
       "RTtWkGr8W5HvM0Xvjeg3asxuBPPbUOlVRSdWkGrNyt3Qrhg/cIruacxuBDPCnn/5OrFCqFm58NYI\n",
       "mA178b3/P75sh/of6FANWxqStkMAAAAASUVORK5CYII=\n",
       "\" style=\"display:inline;vertical-align:middle;\" /></a></span>"
      ],
      "text/plain": [
       "{j in Integer, k in Integer, j <= (k + 1), forall_{x in {j .. k}} Q(x)} |- Q(j) and  Q(j + 1) and  ... and  Q(k)"
      ]
     },
     "metadata": {},
     "output_type": "display_data"
    }
   ],
   "source": [
    "test_conj_over_expr_range_01.conclude_over_expr_range(assumptions=our_assumptions_01)"
   ]
  },
  {
   "cell_type": "markdown",
   "metadata": {},
   "source": [
    "A more concrete case …"
   ]
  },
  {
   "cell_type": "code",
   "execution_count": 71,
   "metadata": {},
   "outputs": [
    {
     "data": {
      "text/html": [
       "<strong id=\"test_conj_over_expr_range_02\">test_conj_over_expr_range_02:</strong> <a class=\"ProveItLink\" href=\"../__pv_it/demonstrations/05d6a0a068bbdba86ae209c5983f67e41feba6cb0/expr.ipynb\"><img src=\"data:image/png;base64,iVBORw0KGgoAAAANSUhEUgAAAOYAAAAVBAMAAACgQo8/AAAAMFBMVEX///8AAAAAAAAAAAAAAAAA\n",
       "AAAAAAAAAAAAAAAAAAAAAAAAAAAAAAAAAAAAAAAAAAAv3aB7AAAAD3RSTlMAIomZq2bNMhC7791E\n",
       "VHYkqjbgAAAACXBIWXMAAA7EAAAOxAGVKw4bAAADMUlEQVRIx42WS2hTURCG/zSPmzQPL0IFKdRQ\n",
       "iwtFLA1dVJFUiS8UG6gP3GgLihYXRlREhDYguLCLVhHcCLYoIoJYUFS00CxcVZRQwYVu2kU3gq9F\n",
       "rZbWODPnXMk9t4mZxXnc+/1nTubMnBugzHyqs1HZakCqK33G4y+qe1dFWQNSXRmbFs9rm3fINJ6E\n",
       "L9WXQyLr2WM50txRWAapZCvbWrJaSXYOmOV+XQ6BHh5cBVajbhE4pfmNjrAcuYL40jKI2+qKzuAk\n",
       "sFMryZ4CoTxNhml8lx+0A9uAh0C34sPPtNCFfCuGf3oRwwZ79Ps+aupblRJIkM8gzU7zpIubEeBx\n",
       "Hl026vMiSBwoKKULmSyAfJqIYbP7VB8aoybwXSmBC8epeQD/PE825SjitLe9tHYOIXVaUWtYejdC\n",
       "7RxMxLSxS6pP5zi+844yyT5PYI2I0rRdv5wyJgjqlNEUeqU3kTdZD2JYPBmSavL9lj0vamXCZp8t\n",
       "SMtpn7GdrVt/KOTqNHrxXm3WjfRnch7EsJAdbxVvSzL7oZUNYJ+HMMEHE17gOMnSUfoBcQm+1Ymo\n",
       "nJqJcN4aiGHngRey2C9uh0a0Mik+P4KXQnCO00vSoYOX4kNHgCpVCthEONMMxLBdwFfuV8jOjmWV\n",
       "MmiLzwG84qfXepwFg3xOsRFdUWFOOwO5CNwpmojbwsQOyu/kl+H7WtkE8TlJJRArYrPtBG4KPhvx\n",
       "Mafct6oqKUdKefZpIN4bwV9UVfIW/lGtfJ3JLGwHPmGgeLihjp8iQlGykkjkEZRE5VVX8cCN3JPY\n",
       "GojbopyyHBdrKXg2u97WSogYR5AYna7LSB5w+jemUlt0YgeZinB9uZGDUp9uhG8m1Qyxq6PM3uLm\n",
       "cxNadjtKMq6dNsqxGxsK4KUt2vVEqUTKKJ9sgL1Ysj0XEkvRHW8iT6CbKNeIeOmXxN7TPA5LKylB\n",
       "S/uBcYlYISEV/NyJTaMnWjUglew2ZlxKn3iPdH6QWbfzuN3r8/9IJbuprr1/Sr9cPf7SvFpYf/19\n",
       "3ju0BqSSpUu5ciV9LiXoL9XXLqwXinj/edSAVLLLj1xKXHe/blLdTJUVakCqKykv/gL2WOrz7Fkf\n",
       "agAAAABJRU5ErkJggg==\n",
       "\" style=\"display:inline;vertical-align:middle;\" /></a><br>"
      ],
      "text/plain": [
       "<IPython.core.display.HTML object>"
      ]
     },
     "metadata": {},
     "output_type": "display_data"
    }
   ],
   "source": [
    "test_conj_over_expr_range_02 = And(ExprRange(x, Qx, two, four))"
   ]
  },
  {
   "cell_type": "code",
   "execution_count": 72,
   "metadata": {},
   "outputs": [
    {
     "data": {
      "text/html": [
       "<strong id=\"our_assumptions_02\">our_assumptions_02:</strong> <a class=\"ProveItLink\" href=\"../__pv_it/demonstrations/a52cdd61f26c05cca811e011b40413885723901d0/expr.ipynb\"><img src=\"data:image/png;base64,iVBORw0KGgoAAAANSUhEUgAAAVAAAAAZBAMAAACV5mv6AAAAMFBMVEX///8AAAAAAAAAAAAAAAAA\n",
       "AAAAAAAAAAAAAAAAAAAAAAAAAAAAAAAAAAAAAAAAAAAv3aB7AAAAD3RSTlMAZkRUmRDNuyLviTJ2\n",
       "3asqG0tJAAAACXBIWXMAAA7EAAAOxAGVKw4bAAAFK0lEQVRYw82XbWgcRRjH//e+d3u5HL7EomJP\n",
       "9IsgeIIGFCRXjUWrJfdBWwyBnB9EwapnQE5s0SsIUan2qC8E8SWQIBhseh+kaKTN+VJIoY2xtqBI\n",
       "9IrUfBCSmhBNCXg+zzM7u7PXkyZQSpfcZHd+O//9zzPPzM4CuAKX/ZHjIpS7/I0OcrHNX1eW0mrd\n",
       "wMIaaPnimLMMQ4EaFc/7cDIr/4K1lo2/xRrorRfHqKOm5E6R8QqfvLFlPC3VdwOvbt4JfG220TQ0\n",
       "TOejA35qjY6dhqawc0imNapzcfv64uhTk9Cx3DQQ5orE08AfXBspwCriQAbRvNfYpZQlkRy6sj76\n",
       "SRWpgptDbWTuCY3u5eKpdRn1q8nBcv15tGfo6U/SeZwnVTiNVBnxCgLeFPPoJurfEvoLJt1WpOId\n",
       "KAocJ6NXaXaYQ1Rcj88mNTlYLprGJAUnOkPnqbPsh/6WkVoB3nVv9ChlSXAf2gsmfYaLBSgKu4OM\n",
       "xnW8OfCJ7HqM+tXUwXLhIo7TaU+VB3iVik6yNIMUnT7u3ujSkIwJutIGDXMrHKg6NBGtS/fVEaCT\n",
       "6Hp8Nqk53SWVZIWTz/pHblqkYougNgrfuJveLpV0RvAHGHSvjGxPxqFTbDRR1/TD2dn312PUrxY5\n",
       "dmZiRMkFl1GiyiUxTuPtRGqSlp8Ot5culUjZ03/CoD0yss+VFbXSbDTgRuMh4AWfk2vTrfzZo/lW\n",
       "amFM17YqOXsVz1IAlxn3c1b8KPf/Sr+7tIpH21S60az36G/8iMg5KJoAGw25+fUWrLrPEZHe8TN+\n",
       "m1FvDPxqG7Axf1rJWYs4CbSL8Ebu7D6JIQ/ApNbxaDyjknvZoOckF/+CohvEqH1W01g+kdEep0sZ\n",
       "ybwctvqNfu9lpF+tis3SkuQiixJRntaR96CN3sDFLW5EXcqN7SpiSwad5eKxgqJWTYwG3YiGau5c\n",
       "6uYpyYYWsbdq+gx2eUZ9anR8IDdwRGXoaem5CeEhOENP74TXgHu0kEd5ONqXxahLFxDM4sGyosH5\n",
       "+YWPhhGacV0Urqfi2APfldXrig1d3WS0r98z6lMjiyt4FCJnr2COyqXAF+lPZS+xi34TwBHgGr7k\n",
       "lPFojOZYvC5DzzQi8y573e6E9DEmG4A4T6ai0xQYoddKsjwXzW5X65UY2u8b+RoZDTpd86lFBlIV\n",
       "DCs5mvVHqfboHjgZTsuOdbK7e0YtVJG/YVJOeVoaeR1l2s9PTQ7VEvN5TSniRWdpkaZ4nZtgl40b\n",
       "5fIgx9I+ZfoMlckodqh++dRCq49UKMAiF6jgNqq358ZOwGZ+iILeaDTIwgnJGQmppjb3++Zu2pQI\n",
       "bZMHHn5pfwZVTcOv/FtDW0Y3RUpGmZa2jlKplLXFxGDeNLobbLTT2Y+ZapGHa3dcyc/hZbWup/IA\n",
       "pmTm6PSxZDBCjqZDf4GP3ulM7Uyy7KNvmk1lUbI4nzhiFGArZ5k71omxnhFnC9daTeRoWVWvG7ys\n",
       "8tndbYQl+RPOlUPd3YaizkYsVu+Ej24ym9LwJwphWqj0ZBr86nNZLYfR67yO8uYL8zw1kaPdk606\n",
       "09NQsXzR3PyjT79/FI2VTRpxhivcWIVJ1X6pz3uBf/PZEVg7tdGPGw0J8xC+lAaBhftMo81qSo5X\n",
       "zN/l8tDbqnq7g5VhvZN3aKRo0qQe2Z+zPqoe0fwR0FtyFvxWh1HfrKbkfjrvm8lSD0i2/vDZgzXQ\n",
       "qf/fdARnLmi0WU3k5JvJ3fNfimNH6+qD2TV8hV7S73q7pSOreoFm9wP/AbaWgpf0wRHDAAAAAElF\n",
       "TkSuQmCC\n",
       "\" style=\"display:inline;vertical-align:middle;\" /></a><br>"
      ],
      "text/plain": [
       "<IPython.core.display.HTML object>"
      ]
     },
     "metadata": {},
     "output_type": "display_data"
    }
   ],
   "source": [
    "our_assumptions_02 = [Function(Q, two), Function(Q, three), Function(Q, four),\n",
    "                      Forall(x, Qx, domain=Interval(two, four))]"
   ]
  },
  {
   "cell_type": "code",
   "execution_count": 73,
   "metadata": {},
   "outputs": [
    {
     "data": {
      "text/html": [
       "<span style=\"font-size:20px;\"> <a class=\"ProveItLink\" href=\"../__pv_it/demonstrations/378a597a7742e64a569163d8185ea3acea7b66670/proof.ipynb\" style=\"text-decoration: none\">&nbsp;&#x22A2;&nbsp;&nbsp;</a><a class=\"ProveItLink\" href=\"../__pv_it/demonstrations/c90eb7007e7eafba0af498cb67274103eb7818820/expr.ipynb\"><img src=\"data:image/png;base64,iVBORw0KGgoAAAANSUhEUgAAADAAAAASBAMAAADvSECJAAAAMFBMVEX///8AAAAAAAAAAAAAAAAA\n",
       "AAAAAAAAAAAAAAAAAAAAAAAAAAAAAAAAAAAAAAAAAAAv3aB7AAAAD3RSTlMAIpnNuzKJRKvvEN12\n",
       "ZlQ4bmvwAAAACXBIWXMAAA7EAAAOxAGVKw4bAAAAx0lEQVQY02NgwAICGLgEGBiVTALQJeYb717A\n",
       "IMLA9h0h9FgARO78ncXA0MjAMBMuflsLTDWAtS1g6BeAip/OYkBIdDMw9EMs4co+wIAkAQT7IeLa\n",
       "F2Am9h5rBVGsf8DizQ/gVnkxyBcAKW6ITiQJBgaWDUBCBcJmRBjFwMD0kYGBF2YV3HIWAwamrwwM\n",
       "zxgY0ZzLuYGB4wMDawIDzwJUD7IB5RwYpJWUtJGCBOQlRgWGkwsY9v///xk9EIU0tBgoAFy7wQAe\n",
       "NwA6fTGQqUC0LgAAAABJRU5ErkJggg==\n",
       "\" style=\"display:inline;vertical-align:middle;\" /></a></span>"
      ],
      "text/plain": [
       "|- 2 <= 5"
      ]
     },
     "metadata": {},
     "output_type": "display_data"
    }
   ],
   "source": [
    "LessEq(two, five).prove()"
   ]
  },
  {
   "cell_type": "code",
   "execution_count": 74,
   "metadata": {},
   "outputs": [
    {
     "data": {
      "text/html": [
       "<span style=\"font-size:20px;\"> <a class=\"ProveItLink\" href=\"../../../../numbers/numerals/decimals/_theory_nbs_/proofs/add_4_1/thm_proof.ipynb\" style=\"text-decoration: none\">&nbsp;&#x22A2;&nbsp;&nbsp;</a><a class=\"ProveItLink\" href=\"../../../../numbers/numerals/decimals/__pv_it/theorems/b38ae7aa6f3dc7804565a90403b0552355c1167e0/expr.ipynb\"><img src=\"data:image/png;base64,iVBORw0KGgoAAAANSUhEUgAAAGEAAAAVBAMAAACkm51HAAAAMFBMVEX///8AAAAAAAAAAAAAAAAA\n",
       "AAAAAAAAAAAAAAAAAAAAAAAAAAAAAAAAAAAAAAAAAAAv3aB7AAAAD3RSTlMAInZUiRDNmWbv3US7\n",
       "qzJazP2FAAAACXBIWXMAAA7EAAAOxAGVKw4bAAABQElEQVQ4y2NgYBBgwA5wiTMwGeCQ2IQhwsfA\n",
       "EAikTEDs5+hyS4FGNaDr4PyWBRRnTQCx16JKxZZ9BZKp6Dq45i8JYGBgB5nEBNOxA+ZUkI52dB28\n",
       "EJtAxItcqJgRsg7OAKw6zECEA1YdbA1YdZSA5AWw6mC5gK6jyfcBA0MGkCXBgFUHBzhQ2FeBAUg3\n",
       "TwDjbwaGxSBHYdfBPAEzkk4xMMwGmiUA0VG1atXMVavWwnXwfcDUUS8A0iHEgN0ObnQ7jgF1PAC5\n",
       "au/duz+vYHPVAjR/zGJguM/AcAisYi5Wnx9As8OBgWEOA4MvmP0HTQfLR5DpDmg6xBmYpjIwvAIx\n",
       "a/5fQtHBe/PbDWAy2oCmg7H8OjAZcD1AFjNC5khhzwUcBci8HcicChwZ5yCurMZ4AIdEDC4dPLiy\n",
       "LaMCDglF7MIAqQ1T/azHHywAAAAASUVORK5CYII=\n",
       "\" style=\"display:inline;vertical-align:middle;\" /></a></span>"
      ],
      "text/plain": [
       "|- (4 + 1) = 5"
      ]
     },
     "metadata": {},
     "output_type": "display_data"
    }
   ],
   "source": [
    "Equals(Add(four, one), five).prove()"
   ]
  },
  {
   "cell_type": "code",
   "execution_count": 75,
   "metadata": {},
   "outputs": [
    {
     "data": {
      "text/html": [
       "<span style=\"font-size:20px;\"><a class=\"ProveItLink\" href=\"../__pv_it/demonstrations/548e2aa955edd0a8340ed5b7d8813c4e7582d8a40/expr.ipynb\"><img src=\"data:image/png;base64,iVBORw0KGgoAAAANSUhEUgAAAI8AAAAXBAMAAADAeAGOAAAAMFBMVEX///8AAAAAAAAAAAAAAAAA\n",
       "AAAAAAAAAAAAAAAAAAAAAAAAAAAAAAAAAAAAAAAAAAAv3aB7AAAAD3RSTlMAq1RmmUTNIjK7EInv\n",
       "3XZ/CtNrAAAACXBIWXMAAA7EAAAOxAGVKw4bAAACZklEQVQ4y6WUT2gTURDGv2ST7GajIeLJXrqg\n",
       "1GsUUVHQgn8Raxc9K4sXQbCueLEQ7RZEhAh6EYyC5CAFjYe2FC+lmoOQg6g5ihjciiLkUASVBhXi\n",
       "zHu7m2xYlKUPMm/y9s1vZ755+4C1DNWbbaxxfPLmM/QrsLM5Xh4LixuFk5z1VvJF4BA752KBnjlI\n",
       "WOzMBEvngWl+xZ04nBne/ZK9A8HaDiBTBXJGHNAFNsNs6sHauioUKi8Th5PqsH3hkERWsJghyutW\n",
       "61Uc0JTQYdwkJGmtrwyV56km6tlR4H5o595iJKB8TM7jQoeLtkwjhWV3DFAouUtQC/0BGlVemxsa\n",
       "wNDGOel9JFGh/yGznpC7sL9KZyFJQdlqzvQZyxVTVD6KsTAn/w0YkS4joHxnhSnOwWERSc+TbqD1\n",
       "QQdSwp+YckKgkz1Qi81TywMBb9ikuYHWPjIrRz7beSEOg/YMgPR2DzSMtIHjtlca0qt4QkFNcufp\n",
       "WObtTRnjsdioiKYuhSvTCXRa+reN3ZdzDfayLvS7iTqoeQq3skRaK3io4ZTYeINz0d6HQFsZlGlL\n",
       "aMPNbWDBuefJzqM6JShOAhKiilVgZ6VSMTSxabIa+kqLDEpOyH/TD5ZMiLc1oZ9wt2znKs1e01WU\n",
       "5RspQXVU7b9itMWF3wZKwf+smReP3wUrV32nlLNSdBB8sSdvXhenZRY1L6dfgdgMKoz4n6o3gs83\n",
       "9eV5G+o9H/S22xWZNHBLZrbth9EHSnU7EuinPXh91CregYwcPZD2QV4Xuh+fjbpr083/goJxzZu/\n",
       "RgZMRHO0s3FvdC36mrvy76i/kuyLNOPJNEgAAAAASUVORK5CYII=\n",
       "\" style=\"display:inline;vertical-align:middle;\" /></a> <a class=\"ProveItLink\" href=\"../__pv_it/demonstrations/0ceaa13d71e5cdc3f1f2b195d45caa70577842340/proof.ipynb\" style=\"text-decoration: none\">&nbsp;&#x22A2;&nbsp;&nbsp;</a><a class=\"ProveItLink\" href=\"../__pv_it/demonstrations/05d6a0a068bbdba86ae209c5983f67e41feba6cb0/expr.ipynb\"><img src=\"data:image/png;base64,iVBORw0KGgoAAAANSUhEUgAAAOYAAAAVBAMAAACgQo8/AAAAMFBMVEX///8AAAAAAAAAAAAAAAAA\n",
       "AAAAAAAAAAAAAAAAAAAAAAAAAAAAAAAAAAAAAAAAAAAv3aB7AAAAD3RSTlMAIomZq2bNMhC7791E\n",
       "VHYkqjbgAAAACXBIWXMAAA7EAAAOxAGVKw4bAAADMUlEQVRIx42WS2hTURCG/zSPmzQPL0IFKdRQ\n",
       "iwtFLA1dVJFUiS8UG6gP3GgLihYXRlREhDYguLCLVhHcCLYoIoJYUFS00CxcVZRQwYVu2kU3gq9F\n",
       "rZbWODPnXMk9t4mZxXnc+/1nTubMnBugzHyqs1HZakCqK33G4y+qe1dFWQNSXRmbFs9rm3fINJ6E\n",
       "L9WXQyLr2WM50txRWAapZCvbWrJaSXYOmOV+XQ6BHh5cBVajbhE4pfmNjrAcuYL40jKI2+qKzuAk\n",
       "sFMryZ4CoTxNhml8lx+0A9uAh0C34sPPtNCFfCuGf3oRwwZ79Ps+aupblRJIkM8gzU7zpIubEeBx\n",
       "Hl026vMiSBwoKKULmSyAfJqIYbP7VB8aoybwXSmBC8epeQD/PE825SjitLe9tHYOIXVaUWtYejdC\n",
       "7RxMxLSxS6pP5zi+844yyT5PYI2I0rRdv5wyJgjqlNEUeqU3kTdZD2JYPBmSavL9lj0vamXCZp8t\n",
       "SMtpn7GdrVt/KOTqNHrxXm3WjfRnch7EsJAdbxVvSzL7oZUNYJ+HMMEHE17gOMnSUfoBcQm+1Ymo\n",
       "nJqJcN4aiGHngRey2C9uh0a0Mik+P4KXQnCO00vSoYOX4kNHgCpVCthEONMMxLBdwFfuV8jOjmWV\n",
       "MmiLzwG84qfXepwFg3xOsRFdUWFOOwO5CNwpmojbwsQOyu/kl+H7WtkE8TlJJRArYrPtBG4KPhvx\n",
       "Mafct6oqKUdKefZpIN4bwV9UVfIW/lGtfJ3JLGwHPmGgeLihjp8iQlGykkjkEZRE5VVX8cCN3JPY\n",
       "GojbopyyHBdrKXg2u97WSogYR5AYna7LSB5w+jemUlt0YgeZinB9uZGDUp9uhG8m1Qyxq6PM3uLm\n",
       "cxNadjtKMq6dNsqxGxsK4KUt2vVEqUTKKJ9sgL1Ysj0XEkvRHW8iT6CbKNeIeOmXxN7TPA5LKylB\n",
       "S/uBcYlYISEV/NyJTaMnWjUglew2ZlxKn3iPdH6QWbfzuN3r8/9IJbuprr1/Sr9cPf7SvFpYf/19\n",
       "3ju0BqSSpUu5ciV9LiXoL9XXLqwXinj/edSAVLLLj1xKXHe/blLdTJUVakCqKykv/gL2WOrz7Fkf\n",
       "agAAAABJRU5ErkJggg==\n",
       "\" style=\"display:inline;vertical-align:middle;\" /></a></span>"
      ],
      "text/plain": [
       "{forall_{x in {2 .. 4}} Q(x)} |- Q(2) and  Q(3) and  ... and  Q(4)"
      ]
     },
     "metadata": {},
     "output_type": "display_data"
    }
   ],
   "source": [
    "test_conj_over_expr_range_02.conclude_over_expr_range(assumptions=our_assumptions_02)"
   ]
  },
  {
   "cell_type": "markdown",
   "metadata": {},
   "source": [
    "### Automatically proving conjunctions are equal via permutation"
   ]
  },
  {
   "cell_type": "code",
   "execution_count": 76,
   "metadata": {},
   "outputs": [
    {
     "data": {
      "text/html": [
       "<span style=\"font-size:20px;\"><a class=\"ProveItLink\" href=\"../../__pv_it/theorems/a10dbfd9a4efbb6f30af430036ab01697a9460f80/expr.ipynb\"><img src=\"data:image/png;base64,iVBORw0KGgoAAAANSUhEUgAAADYAAAAQBAMAAACvnpHFAAAAMFBMVEX///8AAAAAAAAAAAAAAAAA\n",
       "AAAAAAAAAAAAAAAAAAAAAAAAAAAAAAAAAAAAAAAAAAAv3aB7AAAAD3RSTlMAIs1UmauJMnZmRLsQ\n",
       "3e++988cAAAACXBIWXMAAA7EAAAOxAGVKw4bAAAA40lEQVQY02NgAAEhBhTAcW/Tp7dRUI4+qhwD\n",
       "N1eD0NEFYCbzfwy5CWwCG8BMlngBDDlOgwAwMzG/AGrR3ruX4HIKIBZjQ78BWIpL4wBcH6tkAthI\n",
       "BvsJEOcegJvZ0xsGZi1mqAerYVBE2Hfp/RWwQgcGeYi9Ckhu4ZilA3LAFpd4sHvZ3969e/c2VI5h\n",
       "wzIg4wQDA/8FkAjPBiR9DBu4wUYy8D4AC11AkWMCOhzoRqYPYKEOFDkLBgY5EPsjWIjJAC6XwNbm\n",
       "wHD6vw4D8/5PYE/wRK+BBI/ebkQ8wABXNiTMIAAAYXA8zHUEOxUAAAAASUVORK5CYII=\n",
       "\" style=\"display:inline;vertical-align:middle;\" /></a>, <a class=\"ProveItLink\" href=\"../__pv_it/theorems/c50b73f2d168f6a3012768bd45c62ea92218bcbc0/expr.ipynb\"><img src=\"data:image/png;base64,iVBORw0KGgoAAAANSUhEUgAAADcAAAAQBAMAAABAXPr7AAAAMFBMVEX///8AAAAAAAAAAAAAAAAA\n",
       "AAAAAAAAAAAAAAAAAAAAAAAAAAAAAAAAAAAAAAAAAAAv3aB7AAAAD3RSTlMAZrurzTLvInZEmRDd\n",
       "VIkafcLnAAAACXBIWXMAAA7EAAAOxAGVKw4bAAAA8UlEQVQY02NgwAZ6kvzdDk8AsYT+Gxs7BaDK\n",
       "Ksxg97YEs5IYGJi/oklOZHjOBGKw/2Bg4PyFISnLDGIwAnUx/gCLceicOQKXZAExmD8wMLCkg1ic\n",
       "HhsQOs3lQAw2BQZuG7CDSjYgHLTj8AMQI16jw0QALOSOsHOO25/VIEZ/AQNvIljIAdlBjVNA5qgB\n",
       "8XuQsaw5Z86cOQSTZOIEmfsZiOUbgAS3ArJOJgYgl/UjkGMPDqsDqJJAWzi+AxV8AQt1oEjyAk1j\n",
       "SWBgmOYNFmK5AJecx/DiFTAI9D8bm+hChLiNZkMYLUn60FhBApyPoMEHAQCDjz3xiC/o5wAAAABJ\n",
       "RU5ErkJggg==\n",
       "\" style=\"display:inline;vertical-align:middle;\" /></a>, <a class=\"ProveItLink\" href=\"../__pv_it/theorems/dc7d96b1022c0165a0469ead301debeb324b9c180/expr.ipynb\"><img src=\"data:image/png;base64,iVBORw0KGgoAAAANSUhEUgAAADYAAAAQBAMAAACvnpHFAAAAMFBMVEX///8AAAAAAAAAAAAAAAAA\n",
       "AAAAAAAAAAAAAAAAAAAAAAAAAAAAAAAAAAAAAAAAAAAv3aB7AAAAD3RSTlMAEHa7q2Yiie9Umd0y\n",
       "zUTye3nKAAAACXBIWXMAAA7EAAAOxAGVKw4bAAAA4ElEQVQY02NgwAKYdtj+7fYDsRiVXVzZClAk\n",
       "mfkUckUeABkaigycqwPQ5ALYEwwYGIT3ADnrE9DlWCc4MDDcEAByXkDElHfvvgCXu8DA/hPEOQWW\n",
       "equI0MeSWsCQvwHEkQERbBcRZipquzMw1CvAbeFNQMjt7d8lwLAf4QpeZLcwxV1k6AdzQO5hOLEb\n",
       "CAygcgwGzxn2g9icB0CkMLI+BgNmiM/YwSLcqHK8DPkgtxRCglEBRW4SA+dXBobnAhChmwi5Anb1\n",
       "BQwMUiZeD6BCInYQRUw3jKHxgASeW0PCDAIA+qo1SVIYGkQAAAAASUVORK5CYII=\n",
       "\" style=\"display:inline;vertical-align:middle;\" /></a>, <a class=\"ProveItLink\" href=\"../__pv_it/demonstrations/be49e688692580141a3851882e8c02185518c0cd0/expr.ipynb\"><img src=\"data:image/png;base64,iVBORw0KGgoAAAANSUhEUgAAADgAAAAQBAMAAACxV6F2AAAAMFBMVEX///8AAAAAAAAAAAAAAAAA\n",
       "AAAAAAAAAAAAAAAAAAAAAAAAAAAAAAAAAAAAAAAAAAAv3aB7AAAAD3RSTlMAdrurIs1mVDKZ70SJ\n",
       "EN02Mxp8AAAACXBIWXMAAA7EAAAOxAGVKw4bAAAA6UlEQVQY02NgwAYYX6l+XWcNYgn9VzZSdkCV\n",
       "ZeIWcL28AcT6ysDA9h1dMoHHQQHI4PgIJGZhSLIVGIAs+AEk9idALNN79xQuGQBifAAS/gdAYtyB\n",
       "F+A6md1AQvwgs/tBZjC4XoAbKytnA2L0CwCJfLDOEISdT9e/BKmUbwAS9mB3ByA5iDE7FsjQB/F+\n",
       "gQiOde/evXsElWRQ2ANkfAJitm8gIV4FJJ0MCkxQb96CCD9AkWSFelMVIiaIIlnIwMAK9Oa+CRAx\n",
       "1gK45AEemQkMzPqfjZWmQMV4jfZCAipKCRoryID7ECT4IAAAk1I8Z0PO6g0AAAAASUVORK5CYII=\n",
       "\" style=\"display:inline;vertical-align:middle;\" /></a> <a class=\"ProveItLink\" href=\"../__pv_it/demonstrations/aac6262725b649c10305919f9280ca72737aabbd0/proof.ipynb\" style=\"text-decoration: none\">&nbsp;&#x22A2;&nbsp;&nbsp;</a><a class=\"ProveItLink\" href=\"../__pv_it/demonstrations/4d95414b1d234c81eb2146b11e56775f18612b050/expr.ipynb\"><img src=\"data:image/png;base64,iVBORw0KGgoAAAANSUhEUgAAAUcAAAAVBAMAAAAnVjEQAAAAMFBMVEX///8AAAAAAAAAAAAAAAAA\n",
       "AAAAAAAAAAAAAAAAAAAAAAAAAAAAAAAAAAAAAAAAAAAv3aB7AAAAD3RSTlMAInZUiRDNmWbv3US7\n",
       "qzJazP2FAAAACXBIWXMAAA7EAAAOxAGVKw4bAAADYUlEQVRIx61XTWgTQRR+2W3TNE1iToIitBYE\n",
       "hUo9lEq9WBGPpcGDIlRJD4UWBCMWql7MSS9K40ERKhgoeFBoi3qpl8YIimBNTlGkIXsTeklboVZs\n",
       "G9/M7E7mzawgugNdtt/7+b55+/btBACSEMAK+YGBZOZJrGP8fu//peroMjE389+uPyh4wS594v6K\n",
       "ZouUdqqVTxrY2lP9EhokUE9jeWUZd3vYTN+nmNV1t1GtXnYMd12By2Zl8S7NAbvhWk57Lu0FgJpD\n",
       "sSOHwL6Zpdgmbug7QDhlcKQVMwl5DBDf1TAfBS7bGECb4Gyrie22PvVcOvEBLmUINjKHl1tJgiU2\n",
       "8HIDlWR0kTyzZ1ZDQoh1/NDoTAUe2x0smEBODYuiWfcWXJ9pBKa7CDbBqrVI/SxWkiXU80AX2U7M\n",
       "SkgEsciGRmcq8NjaU9AvNtfVK7o8mii4QTXml1SxFv7YvlG/2BqrOvbpuC6yn5iVkDhi4fsanaFA\n",
       "soWzMClqDSezbrOPNhvn4hzBOvPseon67WEp62WAIV3kJDErIdjtrV8djc5QINlaym4BXkJdvLSj\n",
       "cNztte3uo25xPGxYGTPSr87AaQy+zame8cVFjROzGlLsrmS1NKYCyRZJwyy/yUAnT5woQ1S8ptY6\n",
       "wECWYPPNUdL062UlqWEbDeiVnCVmNSQJ9iMtjalAstk5mOGK3k/VeCfEHbDEDmI5LPQuwZ5wQ4r6\n",
       "ldjlJ6uPLnKGmJWQD6xODsVMBZItsSZSncXm4S1wDkdAXvRa2XsFJTbP9+VQv232QLbkW6+LlGYl\n",
       "ZAe8udHETAWSrSMnHgrOuGjOG6TXROPgo47/IhifkC1AMD4HL7AanNB7cpaYlZAtrwMUOlOBZLPz\n",
       "UGQfXhQUZrMC8vIbio0D9TTB2HiHM0AwPgff8Y+dXskiMSsh2O2JTYr5KJBskQKfHPtYD66z/5kh\n",
       "xh/oBEY+TBHMxhK84i3ZxFjm1xk5cdQ1RMxKCFZscYxiPgokW9sgrOL3pzEGdmkTJ0CcgQnmt8IO\n",
       "AXy6NjE4v/xZfA0kFsdjyMerHHuui1wlZhJSeUsxPwWSLboAUQcCWaG8jgSVeb/fweDflntQUQ97\n",
       "AWW+jn9vgkl1wISCyRxis2EkGJE+ioLJHEvy40cQqSyf3zPBZD4I8Btu+TmlV+JU0QAAAABJRU5E\n",
       "rkJggg==\n",
       "\" style=\"display:inline;vertical-align:middle;\" /></a></span>"
      ],
      "text/plain": [
       "{A in BOOLEAN, B in BOOLEAN, C in BOOLEAN, D in BOOLEAN} |- (A and B and C and D) = (D and B and A and C)"
      ]
     },
     "metadata": {},
     "output_type": "display_data"
    }
   ],
   "source": [
    "Equals(And(A, B, C, D), And(D, B, A, C)).prove(assumptions=in_bool(A, B, C, D))"
   ]
  },
  {
   "cell_type": "code",
   "execution_count": 77,
   "metadata": {},
   "outputs": [
    {
     "data": {
      "text/html": [
       "<span style=\"font-size:20px;\"><a class=\"ProveItLink\" href=\"../__pv_it/demonstrations/be49e688692580141a3851882e8c02185518c0cd0/expr.ipynb\"><img src=\"data:image/png;base64,iVBORw0KGgoAAAANSUhEUgAAADgAAAAQBAMAAACxV6F2AAAAMFBMVEX///8AAAAAAAAAAAAAAAAA\n",
       "AAAAAAAAAAAAAAAAAAAAAAAAAAAAAAAAAAAAAAAAAAAv3aB7AAAAD3RSTlMAdrurIs1mVDKZ70SJ\n",
       "EN02Mxp8AAAACXBIWXMAAA7EAAAOxAGVKw4bAAAA6UlEQVQY02NgwAYYX6l+XWcNYgn9VzZSdkCV\n",
       "ZeIWcL28AcT6ysDA9h1dMoHHQQHI4PgIJGZhSLIVGIAs+AEk9idALNN79xQuGQBifAAS/gdAYtyB\n",
       "F+A6md1AQvwgs/tBZjC4XoAbKytnA2L0CwCJfLDOEISdT9e/BKmUbwAS9mB3ByA5iDE7FsjQB/F+\n",
       "gQiOde/evXsElWRQ2ANkfAJitm8gIV4FJJ0MCkxQb96CCD9AkWSFelMVIiaIIlnIwMAK9Oa+CRAx\n",
       "1gK45AEemQkMzPqfjZWmQMV4jfZCAipKCRoryID7ECT4IAAAk1I8Z0PO6g0AAAAASUVORK5CYII=\n",
       "\" style=\"display:inline;vertical-align:middle;\" /></a>, <a class=\"ProveItLink\" href=\"../__pv_it/theorems/c50b73f2d168f6a3012768bd45c62ea92218bcbc0/expr.ipynb\"><img src=\"data:image/png;base64,iVBORw0KGgoAAAANSUhEUgAAADcAAAAQBAMAAABAXPr7AAAAMFBMVEX///8AAAAAAAAAAAAAAAAA\n",
       "AAAAAAAAAAAAAAAAAAAAAAAAAAAAAAAAAAAAAAAAAAAv3aB7AAAAD3RSTlMAZrurzTLvInZEmRDd\n",
       "VIkafcLnAAAACXBIWXMAAA7EAAAOxAGVKw4bAAAA8UlEQVQY02NgwAZ6kvzdDk8AsYT+Gxs7BaDK\n",
       "Ksxg97YEs5IYGJi/oklOZHjOBGKw/2Bg4PyFISnLDGIwAnUx/gCLceicOQKXZAExmD8wMLCkg1ic\n",
       "HhsQOs3lQAw2BQZuG7CDSjYgHLTj8AMQI16jw0QALOSOsHOO25/VIEZ/AQNvIljIAdlBjVNA5qgB\n",
       "8XuQsaw5Z86cOQSTZOIEmfsZiOUbgAS3ArJOJgYgl/UjkGMPDqsDqJJAWzi+AxV8AQt1oEjyAk1j\n",
       "SWBgmOYNFmK5AJecx/DiFTAI9D8bm+hChLiNZkMYLUn60FhBApyPoMEHAQCDjz3xiC/o5wAAAABJ\n",
       "RU5ErkJggg==\n",
       "\" style=\"display:inline;vertical-align:middle;\" /></a>, <a class=\"ProveItLink\" href=\"../__pv_it/theorems/dc7d96b1022c0165a0469ead301debeb324b9c180/expr.ipynb\"><img src=\"data:image/png;base64,iVBORw0KGgoAAAANSUhEUgAAADYAAAAQBAMAAACvnpHFAAAAMFBMVEX///8AAAAAAAAAAAAAAAAA\n",
       "AAAAAAAAAAAAAAAAAAAAAAAAAAAAAAAAAAAAAAAAAAAv3aB7AAAAD3RSTlMAEHa7q2Yiie9Umd0y\n",
       "zUTye3nKAAAACXBIWXMAAA7EAAAOxAGVKw4bAAAA4ElEQVQY02NgwAKYdtj+7fYDsRiVXVzZClAk\n",
       "mfkUckUeABkaigycqwPQ5ALYEwwYGIT3ADnrE9DlWCc4MDDcEAByXkDElHfvvgCXu8DA/hPEOQWW\n",
       "equI0MeSWsCQvwHEkQERbBcRZipquzMw1CvAbeFNQMjt7d8lwLAf4QpeZLcwxV1k6AdzQO5hOLEb\n",
       "CAygcgwGzxn2g9icB0CkMLI+BgNmiM/YwSLcqHK8DPkgtxRCglEBRW4SA+dXBobnAhChmwi5Anb1\n",
       "BQwMUiZeD6BCInYQRUw3jKHxgASeW0PCDAIA+qo1SVIYGkQAAAAASUVORK5CYII=\n",
       "\" style=\"display:inline;vertical-align:middle;\" /></a>, <a class=\"ProveItLink\" href=\"../../__pv_it/theorems/a10dbfd9a4efbb6f30af430036ab01697a9460f80/expr.ipynb\"><img src=\"data:image/png;base64,iVBORw0KGgoAAAANSUhEUgAAADYAAAAQBAMAAACvnpHFAAAAMFBMVEX///8AAAAAAAAAAAAAAAAA\n",
       "AAAAAAAAAAAAAAAAAAAAAAAAAAAAAAAAAAAAAAAAAAAv3aB7AAAAD3RSTlMAIs1UmauJMnZmRLsQ\n",
       "3e++988cAAAACXBIWXMAAA7EAAAOxAGVKw4bAAAA40lEQVQY02NgAAEhBhTAcW/Tp7dRUI4+qhwD\n",
       "N1eD0NEFYCbzfwy5CWwCG8BMlngBDDlOgwAwMzG/AGrR3ruX4HIKIBZjQ78BWIpL4wBcH6tkAthI\n",
       "BvsJEOcegJvZ0xsGZi1mqAerYVBE2Hfp/RWwQgcGeYi9Ckhu4ZilA3LAFpd4sHvZ3969e/c2VI5h\n",
       "wzIg4wQDA/8FkAjPBiR9DBu4wUYy8D4AC11AkWMCOhzoRqYPYKEOFDkLBgY5EPsjWIjJAC6XwNbm\n",
       "wHD6vw4D8/5PYE/wRK+BBI/ebkQ8wABXNiTMIAAAYXA8zHUEOxUAAAAASUVORK5CYII=\n",
       "\" style=\"display:inline;vertical-align:middle;\" /></a> <a class=\"ProveItLink\" href=\"../__pv_it/demonstrations/5025326afb776a6d09bb0eb644b75dde67c6146b0/proof.ipynb\" style=\"text-decoration: none\">&nbsp;&#x22A2;&nbsp;&nbsp;</a><a class=\"ProveItLink\" href=\"../__pv_it/demonstrations/8e61eb0c6e0aab0188330cb721380caf2c92932b0/expr.ipynb\"><img src=\"data:image/png;base64,iVBORw0KGgoAAAANSUhEUgAAAUgAAAAVBAMAAADWXWqdAAAAMFBMVEX///8AAAAAAAAAAAAAAAAA\n",
       "AAAAAAAAAAAAAAAAAAAAAAAAAAAAAAAAAAAAAAAAAAAv3aB7AAAAD3RSTlMAInZUiRDNmWbv3US7\n",
       "qzJazP2FAAAACXBIWXMAAA7EAAAOxAGVKw4bAAADYElEQVRIx61XTUhUURQ+8+b/6bxmEUIQzCAE\n",
       "BoIuQtFFGdFSFBdFIqELwSDISIh+oKGFKyMLhMCgASkiIYPa2CYzKIom3WRRTQ5tAilGDcwim845\n",
       "9743796RJ+S7izv3fufe733n3HPPewMASfChBTYD/WM2Gnlcsz2qqnQlJpm302ok8z4xPaXbw/X5\n",
       "94E2BRop5fMnC+qy+lLuUw5DVlf5hH0u81Y00JXLZ3ZWUJAqZA738ixYkvAh2753DwTPZ1TsJkDi\n",
       "r7ZuDSD2AyDSWeFlr8u8FY1xvROa7/IwVD4AVoXMUaEjuijcDd+R9p772F1KKlhgFaP/U11nIQbn\n",
       "UMmgLpKZbfMWNOFXGNnoCo+7e8sUpAqZ42J6sEPE37jyQAAnKDLTKhZD92OrKmZQSJ6gnjFdZFwx\n",
       "e9NEaHfVKI/rPjoUQtUYNAnn0g0iyKY1I2LOR/RVwSCxjHTXVKwaMUhh7g7oIpsUszdNBz3dEoeR\n",
       "/eZcbKFqAIZEXOFARiZ7H/+mstQfVzCIz0D4Q0HFdtBTivMA7brIIcXsSRP4zWfOWLAtYl80qapd\n",
       "BuAhFMVF7oNm4ZqrpNgYFGdrFzI6Rguv4uZhpr3HjUUNKGZPmtBq+WmRZNBOb6lqGCZ4OggpJrbm\n",
       "weRrOlUuGw4GDUkI3tAxcn8RM6tFj+SEYvakMVfK274D3JZDqaoFxjl/X5xd5ORIFMDgGN7iVZ0K\n",
       "Bi8pxAUVm6PuF8VHFzmumD1p4st83Gz9DFAr76RUVRRUXZg8nIRHcCkPpjg9CgoGG3R0aRX7Q9d1\n",
       "3akEukjH7Eljssj9dnXtlvVdqpoWh4JJYI7atfUM2BUyBApmrdtH58Iom46Rv616Tk4oZk8aUSHb\n",
       "7FIebQS3qlaYpQKFaRxhZ7L2WzxFnh4GBTOQylrTMKqDz/llp0dyVjF70lB5hxAnl0lTLueOqhGu\n",
       "HLuooJEzMZJWTYccRHcf8a4yFkG3pvs1DFkeDzoVx93aFbM3DZaaKhGSy9S9AbeqIVjCN2CpH4Jz\n",
       "axjtBMmyOF2O5t6Jl4GDJeY28gvPKrHXpxmb1EUuKWZPGghfzF8Qu95S9wXcqibBLIAvLZDVER+Z\n",
       "Kz8M/q/JDxVX85P5qT9UuyshH5l7/KHaRJGPzIG0H0zGJv9nfGP+B3VgPWVo1ViJAAAAAElFTkSu\n",
       "QmCC\n",
       "\" style=\"display:inline;vertical-align:middle;\" /></a></span>"
      ],
      "text/plain": [
       "{D in BOOLEAN, B in BOOLEAN, C in BOOLEAN, A in BOOLEAN} |- (A and C and B and D) = (D and B and C and A)"
      ]
     },
     "metadata": {},
     "output_type": "display_data"
    }
   ],
   "source": [
    "Equals(And(A, C, B, D), And(D, B, C, A)).prove(assumptions=in_bool(A, B, C, D))"
   ]
  },
  {
   "cell_type": "code",
   "execution_count": 78,
   "metadata": {},
   "outputs": [
    {
     "data": {
      "text/html": [
       "<span style=\"font-size:20px;\"><a class=\"ProveItLink\" href=\"../__pv_it/demonstrations/be49e688692580141a3851882e8c02185518c0cd0/expr.ipynb\"><img src=\"data:image/png;base64,iVBORw0KGgoAAAANSUhEUgAAADgAAAAQBAMAAACxV6F2AAAAMFBMVEX///8AAAAAAAAAAAAAAAAA\n",
       "AAAAAAAAAAAAAAAAAAAAAAAAAAAAAAAAAAAAAAAAAAAv3aB7AAAAD3RSTlMAdrurIs1mVDKZ70SJ\n",
       "EN02Mxp8AAAACXBIWXMAAA7EAAAOxAGVKw4bAAAA6UlEQVQY02NgwAYYX6l+XWcNYgn9VzZSdkCV\n",
       "ZeIWcL28AcT6ysDA9h1dMoHHQQHI4PgIJGZhSLIVGIAs+AEk9idALNN79xQuGQBifAAS/gdAYtyB\n",
       "F+A6md1AQvwgs/tBZjC4XoAbKytnA2L0CwCJfLDOEISdT9e/BKmUbwAS9mB3ByA5iDE7FsjQB/F+\n",
       "gQiOde/evXsElWRQ2ANkfAJitm8gIV4FJJ0MCkxQb96CCD9AkWSFelMVIiaIIlnIwMAK9Oa+CRAx\n",
       "1gK45AEemQkMzPqfjZWmQMV4jfZCAipKCRoryID7ECT4IAAAk1I8Z0PO6g0AAAAASUVORK5CYII=\n",
       "\" style=\"display:inline;vertical-align:middle;\" /></a>, <a class=\"ProveItLink\" href=\"../__pv_it/theorems/dc7d96b1022c0165a0469ead301debeb324b9c180/expr.ipynb\"><img src=\"data:image/png;base64,iVBORw0KGgoAAAANSUhEUgAAADYAAAAQBAMAAACvnpHFAAAAMFBMVEX///8AAAAAAAAAAAAAAAAA\n",
       "AAAAAAAAAAAAAAAAAAAAAAAAAAAAAAAAAAAAAAAAAAAv3aB7AAAAD3RSTlMAEHa7q2Yiie9Umd0y\n",
       "zUTye3nKAAAACXBIWXMAAA7EAAAOxAGVKw4bAAAA4ElEQVQY02NgwAKYdtj+7fYDsRiVXVzZClAk\n",
       "mfkUckUeABkaigycqwPQ5ALYEwwYGIT3ADnrE9DlWCc4MDDcEAByXkDElHfvvgCXu8DA/hPEOQWW\n",
       "equI0MeSWsCQvwHEkQERbBcRZipquzMw1CvAbeFNQMjt7d8lwLAf4QpeZLcwxV1k6AdzQO5hOLEb\n",
       "CAygcgwGzxn2g9icB0CkMLI+BgNmiM/YwSLcqHK8DPkgtxRCglEBRW4SA+dXBobnAhChmwi5Anb1\n",
       "BQwMUiZeD6BCInYQRUw3jKHxgASeW0PCDAIA+qo1SVIYGkQAAAAASUVORK5CYII=\n",
       "\" style=\"display:inline;vertical-align:middle;\" /></a>, <a class=\"ProveItLink\" href=\"../__pv_it/theorems/c50b73f2d168f6a3012768bd45c62ea92218bcbc0/expr.ipynb\"><img src=\"data:image/png;base64,iVBORw0KGgoAAAANSUhEUgAAADcAAAAQBAMAAABAXPr7AAAAMFBMVEX///8AAAAAAAAAAAAAAAAA\n",
       "AAAAAAAAAAAAAAAAAAAAAAAAAAAAAAAAAAAAAAAAAAAv3aB7AAAAD3RSTlMAZrurzTLvInZEmRDd\n",
       "VIkafcLnAAAACXBIWXMAAA7EAAAOxAGVKw4bAAAA8UlEQVQY02NgwAZ6kvzdDk8AsYT+Gxs7BaDK\n",
       "Ksxg97YEs5IYGJi/oklOZHjOBGKw/2Bg4PyFISnLDGIwAnUx/gCLceicOQKXZAExmD8wMLCkg1ic\n",
       "HhsQOs3lQAw2BQZuG7CDSjYgHLTj8AMQI16jw0QALOSOsHOO25/VIEZ/AQNvIljIAdlBjVNA5qgB\n",
       "8XuQsaw5Z86cOQSTZOIEmfsZiOUbgAS3ArJOJgYgl/UjkGMPDqsDqJJAWzi+AxV8AQt1oEjyAk1j\n",
       "SWBgmOYNFmK5AJecx/DiFTAI9D8bm+hChLiNZkMYLUn60FhBApyPoMEHAQCDjz3xiC/o5wAAAABJ\n",
       "RU5ErkJggg==\n",
       "\" style=\"display:inline;vertical-align:middle;\" /></a>, <a class=\"ProveItLink\" href=\"../../__pv_it/theorems/a10dbfd9a4efbb6f30af430036ab01697a9460f80/expr.ipynb\"><img src=\"data:image/png;base64,iVBORw0KGgoAAAANSUhEUgAAADYAAAAQBAMAAACvnpHFAAAAMFBMVEX///8AAAAAAAAAAAAAAAAA\n",
       "AAAAAAAAAAAAAAAAAAAAAAAAAAAAAAAAAAAAAAAAAAAv3aB7AAAAD3RSTlMAIs1UmauJMnZmRLsQ\n",
       "3e++988cAAAACXBIWXMAAA7EAAAOxAGVKw4bAAAA40lEQVQY02NgAAEhBhTAcW/Tp7dRUI4+qhwD\n",
       "N1eD0NEFYCbzfwy5CWwCG8BMlngBDDlOgwAwMzG/AGrR3ruX4HIKIBZjQ78BWIpL4wBcH6tkAthI\n",
       "BvsJEOcegJvZ0xsGZi1mqAerYVBE2Hfp/RWwQgcGeYi9Ckhu4ZilA3LAFpd4sHvZ3969e/c2VI5h\n",
       "wzIg4wQDA/8FkAjPBiR9DBu4wUYy8D4AC11AkWMCOhzoRqYPYKEOFDkLBgY5EPsjWIjJAC6XwNbm\n",
       "wHD6vw4D8/5PYE/wRK+BBI/ebkQ8wABXNiTMIAAAYXA8zHUEOxUAAAAASUVORK5CYII=\n",
       "\" style=\"display:inline;vertical-align:middle;\" /></a> <a class=\"ProveItLink\" href=\"../__pv_it/demonstrations/fcf4ea3c9c047b1362fa5dd796e10b3a043b3a100/proof.ipynb\" style=\"text-decoration: none\">&nbsp;&#x22A2;&nbsp;&nbsp;</a><a class=\"ProveItLink\" href=\"../__pv_it/demonstrations/d9492b4d9c54e5f08c0702eae8f4ab716b9d3ea70/expr.ipynb\"><img src=\"data:image/png;base64,iVBORw0KGgoAAAANSUhEUgAAAUgAAAAVBAMAAADWXWqdAAAAMFBMVEX///8AAAAAAAAAAAAAAAAA\n",
       "AAAAAAAAAAAAAAAAAAAAAAAAAAAAAAAAAAAAAAAAAAAv3aB7AAAAD3RSTlMAInZUiRDNmWbv3US7\n",
       "qzJazP2FAAAACXBIWXMAAA7EAAAOxAGVKw4bAAADkUlEQVRIx62XTUhUURSAz/yPM844iwiCYAYh\n",
       "MBB0EUotygiXorgoEgldCAZBRkL0Aw0tWhljQRAoNDD0Q0EFtbFNZpAUTtoii/Ll0CaQwp/ErLTp\n",
       "nnPnvnfPnWlT78Hc995553zv3PP3FAAS4MLhqSR0j+xt/G/OVoBoqlzsInmX+NUX83N5c9+Beuud\n",
       "p4WJhoqWdaxQhjoufnXlb9hV2cI7vWFNvTaVO/NWesvfyIEevFkDCH+Tcr/a/84d4DuTpssDymgU\n",
       "IPYbuAx8RbEEO8wXSLJjYYNrxINMI6d4r3RA822u55BD6EZ8RSyn5YOuHnnuvieW8xTewE1VH0Iv\n",
       "+h2YDCA0L7TCA6aTRNYsFBgWRQJDw4wSeCmiHVrmeg65ivaBe30io1b3QSocxdCMyW1eeiBlYaEX\n",
       "XuEygP3tmM+rppNVhoUCQ4NQj64zShCto8NczyE34U31kliSsv6yX2TQKfuf6ToSH5dGMaEXvMxl\n",
       "4Ek1YIL6TSebDIsSGGAajVYZpR0J8QGu55AHqUpQdXGGyqAlSClOZnE9UuqA3lJwxiHwvsBlEIJ9\n",
       "mIM208lBbqHAABvo0KZO8fyknBt6DrlfVQlkKJLBhI821K7NlF5oLlXTRO1s2pDBQ1hEy4uEvUMH\n",
       "bbefWyiwbIDwqk7xrzgvs/U0ck5VCcxTeXwFuIHn+85Eis9ARPZuQwJ81wwZDEASndptRjLHLRRY\n",
       "NkDsl06JLDtmtp5GHlFVAj/owUeAWjxfpzvyI1YAr4zrCwxxgcu8k6fmqVpMJ0e4hQLLBqgZ1ilV\n",
       "S5Ru5oBOHlFVEl5Xw62LIkn1QfiDQkwVClhImRSXdYo3Zu1BYDppW9hg2QCZtE6JkJN7mQM6Oaeq\n",
       "5PC4mqShRjUh/fbAPUnZWberwpaJnEAEw7LHrMkcs7DB1ACBUUaWE7KFOaCTJ1SVPJczAXsNp2kS\n",
       "t98qZ4L8iAo9wYqvcVlUhCSIgRgyIznBLGwwNUB1D6PgyAd/B9fTyDg58PKxbKkLuLzCTIsYPCKz\n",
       "MLpbjYkPin2N9XHZNrxYVhNHP9qYhQ3G73H0FnCKGDXRVu6ATl4Q5Tu9aU2dkOQ3uHzC5VD+rfwa\n",
       "xNDVeErqzT7jsu5iH/im10Sm7ppOLjALGzxXtOYmE5wCgXPWWcMBnRwpgCuHJ2tKXCSX/2Hwb0co\n",
       "bUrcJD91B7W9XOQiudsdVAWPXCR7Um6QvBX+n3GN/AfQPj043yJ/dAAAAABJRU5ErkJggg==\n",
       "\" style=\"display:inline;vertical-align:middle;\" /></a></span>"
      ],
      "text/plain": [
       "{D in BOOLEAN, C in BOOLEAN, B in BOOLEAN, A in BOOLEAN} |- (D and C and B and A) = (B and D and C and A)"
      ]
     },
     "metadata": {},
     "output_type": "display_data"
    }
   ],
   "source": [
    "Equals(And(D, C, B, A), And(B, D, C, A)).prove(assumptions=in_bool(A, B, C, D))"
   ]
  },
  {
   "cell_type": "markdown",
   "metadata": {},
   "source": [
    "This even works in a nested manner"
   ]
  },
  {
   "cell_type": "code",
   "execution_count": 79,
   "metadata": {},
   "outputs": [
    {
     "data": {
      "text/html": [
       "<span style=\"font-size:20px;\"><a class=\"ProveItLink\" href=\"../__pv_it/demonstrations/be49e688692580141a3851882e8c02185518c0cd0/expr.ipynb\"><img src=\"data:image/png;base64,iVBORw0KGgoAAAANSUhEUgAAADgAAAAQBAMAAACxV6F2AAAAMFBMVEX///8AAAAAAAAAAAAAAAAA\n",
       "AAAAAAAAAAAAAAAAAAAAAAAAAAAAAAAAAAAAAAAAAAAv3aB7AAAAD3RSTlMAdrurIs1mVDKZ70SJ\n",
       "EN02Mxp8AAAACXBIWXMAAA7EAAAOxAGVKw4bAAAA6UlEQVQY02NgwAYYX6l+XWcNYgn9VzZSdkCV\n",
       "ZeIWcL28AcT6ysDA9h1dMoHHQQHI4PgIJGZhSLIVGIAs+AEk9idALNN79xQuGQBifAAS/gdAYtyB\n",
       "F+A6md1AQvwgs/tBZjC4XoAbKytnA2L0CwCJfLDOEISdT9e/BKmUbwAS9mB3ByA5iDE7FsjQB/F+\n",
       "gQiOde/evXsElWRQ2ANkfAJitm8gIV4FJJ0MCkxQb96CCD9AkWSFelMVIiaIIlnIwMAK9Oa+CRAx\n",
       "1gK45AEemQkMzPqfjZWmQMV4jfZCAipKCRoryID7ECT4IAAAk1I8Z0PO6g0AAAAASUVORK5CYII=\n",
       "\" style=\"display:inline;vertical-align:middle;\" /></a>, <a class=\"ProveItLink\" href=\"../__pv_it/theorems/dc7d96b1022c0165a0469ead301debeb324b9c180/expr.ipynb\"><img src=\"data:image/png;base64,iVBORw0KGgoAAAANSUhEUgAAADYAAAAQBAMAAACvnpHFAAAAMFBMVEX///8AAAAAAAAAAAAAAAAA\n",
       "AAAAAAAAAAAAAAAAAAAAAAAAAAAAAAAAAAAAAAAAAAAv3aB7AAAAD3RSTlMAEHa7q2Yiie9Umd0y\n",
       "zUTye3nKAAAACXBIWXMAAA7EAAAOxAGVKw4bAAAA4ElEQVQY02NgwAKYdtj+7fYDsRiVXVzZClAk\n",
       "mfkUckUeABkaigycqwPQ5ALYEwwYGIT3ADnrE9DlWCc4MDDcEAByXkDElHfvvgCXu8DA/hPEOQWW\n",
       "equI0MeSWsCQvwHEkQERbBcRZipquzMw1CvAbeFNQMjt7d8lwLAf4QpeZLcwxV1k6AdzQO5hOLEb\n",
       "CAygcgwGzxn2g9icB0CkMLI+BgNmiM/YwSLcqHK8DPkgtxRCglEBRW4SA+dXBobnAhChmwi5Anb1\n",
       "BQwMUiZeD6BCInYQRUw3jKHxgASeW0PCDAIA+qo1SVIYGkQAAAAASUVORK5CYII=\n",
       "\" style=\"display:inline;vertical-align:middle;\" /></a>, <a class=\"ProveItLink\" href=\"../../__pv_it/theorems/a10dbfd9a4efbb6f30af430036ab01697a9460f80/expr.ipynb\"><img src=\"data:image/png;base64,iVBORw0KGgoAAAANSUhEUgAAADYAAAAQBAMAAACvnpHFAAAAMFBMVEX///8AAAAAAAAAAAAAAAAA\n",
       "AAAAAAAAAAAAAAAAAAAAAAAAAAAAAAAAAAAAAAAAAAAv3aB7AAAAD3RSTlMAIs1UmauJMnZmRLsQ\n",
       "3e++988cAAAACXBIWXMAAA7EAAAOxAGVKw4bAAAA40lEQVQY02NgAAEhBhTAcW/Tp7dRUI4+qhwD\n",
       "N1eD0NEFYCbzfwy5CWwCG8BMlngBDDlOgwAwMzG/AGrR3ruX4HIKIBZjQ78BWIpL4wBcH6tkAthI\n",
       "BvsJEOcegJvZ0xsGZi1mqAerYVBE2Hfp/RWwQgcGeYi9Ckhu4ZilA3LAFpd4sHvZ3969e/c2VI5h\n",
       "wzIg4wQDA/8FkAjPBiR9DBu4wUYy8D4AC11AkWMCOhzoRqYPYKEOFDkLBgY5EPsjWIjJAC6XwNbm\n",
       "wHD6vw4D8/5PYE/wRK+BBI/ebkQ8wABXNiTMIAAAYXA8zHUEOxUAAAAASUVORK5CYII=\n",
       "\" style=\"display:inline;vertical-align:middle;\" /></a>, <a class=\"ProveItLink\" href=\"../__pv_it/theorems/c50b73f2d168f6a3012768bd45c62ea92218bcbc0/expr.ipynb\"><img src=\"data:image/png;base64,iVBORw0KGgoAAAANSUhEUgAAADcAAAAQBAMAAABAXPr7AAAAMFBMVEX///8AAAAAAAAAAAAAAAAA\n",
       "AAAAAAAAAAAAAAAAAAAAAAAAAAAAAAAAAAAAAAAAAAAv3aB7AAAAD3RSTlMAZrurzTLvInZEmRDd\n",
       "VIkafcLnAAAACXBIWXMAAA7EAAAOxAGVKw4bAAAA8UlEQVQY02NgwAZ6kvzdDk8AsYT+Gxs7BaDK\n",
       "Ksxg97YEs5IYGJi/oklOZHjOBGKw/2Bg4PyFISnLDGIwAnUx/gCLceicOQKXZAExmD8wMLCkg1ic\n",
       "HhsQOs3lQAw2BQZuG7CDSjYgHLTj8AMQI16jw0QALOSOsHOO25/VIEZ/AQNvIljIAdlBjVNA5qgB\n",
       "8XuQsaw5Z86cOQSTZOIEmfsZiOUbgAS3ArJOJgYgl/UjkGMPDqsDqJJAWzi+AxV8AQt1oEjyAk1j\n",
       "SWBgmOYNFmK5AJecx/DiFTAI9D8bm+hChLiNZkMYLUn60FhBApyPoMEHAQCDjz3xiC/o5wAAAABJ\n",
       "RU5ErkJggg==\n",
       "\" style=\"display:inline;vertical-align:middle;\" /></a> <a class=\"ProveItLink\" href=\"../__pv_it/demonstrations/731098d8dced0ae45d420c8eeb204ac3fb9dcc4b0/proof.ipynb\" style=\"text-decoration: none\">&nbsp;&#x22A2;&nbsp;&nbsp;</a><a class=\"ProveItLink\" href=\"../__pv_it/demonstrations/be879b70d72b298c503f64c8846b256ae4a208510/expr.ipynb\"><img src=\"data:image/png;base64,iVBORw0KGgoAAAANSUhEUgAAAbUAAAAVBAMAAAAz7220AAAAMFBMVEX///8AAAAAAAAAAAAAAAAA\n",
       "AAAAAAAAAAAAAAAAAAAAAAAAAAAAAAAAAAAAAAAAAAAv3aB7AAAAD3RSTlMAInZUiRDNmWbv3US7\n",
       "qzJazP2FAAAACXBIWXMAAA7EAAAOxAGVKw4bAAAEqklEQVRYw6VYX4hUVRj/5s+dO3Nn9u4g0kME\n",
       "uymCwYo+RGKELoSP4tCDkVgoJCgEbSi0WdLgg74kMwT1otCAaP/IJHqoXhx7KAjX2R6soJ128CWI\n",
       "YtpVxGxtO9/33XPOPXfPmZlbF+69c8/9fr/v7/nOuQMAVRj9yPyXl1WH7ECyVGa54NltKRAb2bCD\n",
       "1pflSYsPQvQzB9FGd5QcqFEzIOGPi3NqdW5hLhkob6r7U2baGMrxY+FPU7LYedD94QbA5rVqUDRb\n",
       "XzOMRHhK5AiobGele/37pOQzc936ehfcoxzcFWpu84u8zONjmyB3ghU8HQ3t49su8u0mXm7RQKkN\n",
       "sNiDQi1BEYkeXmP8PkkWIWEMoeGkBaXIxoWljehBGpR9uwbbP3Ap9dH6cFlcXuMX+6OCO3BZXN6k\n",
       "ZHqXItAs304u4fUUXjjmE8KoqzNQnDEppOiZNb7NSrIICUV0q9KzoBRZX4j4TYgb5H0nEP6SS2mJ\n",
       "3P9HXK5yjjb/zAJHMZJfcnTOXuExZs6vR3EI9MxrCBUNofodMCikaKmW9K0pySQSWuJ8yIZSZFuF\n",
       "aPmeYVABFZabLqVP4FMFkzjBk6n1OwtQif5Kv4OwzbOEPVmXvS2LwOdCWMRYiBQfgTiFEi0kJxwS\n",
       "MZlEUpUds6EUWQdjeccwaC+qD2dcSo9TKaNof55neYHqcAIDCS8At5tDdPfZ+5ncPdmNAmY7D/A8\n",
       "lvAeiFMo0fx8wjckYjKJpJy1LChNtoJ+PIgblLlPhdlzKT0iSxkapKxQzVEc9sYa+iHYziVAkSxv\n",
       "Czl6vwBsoB/hyoYtxHMa4hRKtEgpOvERHp9IIiJTSBjrQXbSglJk1BOKd+IG5ZdjvdGi9IIsZVik\n",
       "Gv4D4CLeP9VLQjgPAdV+QBXoQ4ajJ0UhK+buDjR1hzkuRXPNRN6QiMgUUitJoLQSnERjf8dlgyVN\n",
       "aVN6TpYy/GUk4z16qhkhLZH3U6+eXDFDVRFW5FF138ynFA0T6yEREZlC6uJIoBQZ9YTxZtygEkl4\n",
       "TqXnZCkXaRLhcref8kZF3IsWI6+lfPME631zXo2LmVFclm1VUSjRctPlm0LqSW2iNBn1hEY9blBA\n",
       "vu10Kr0gS/m5ttH8aGXLq4XymKpJX5wfmv2wX4+q5Umzf0rRXCsx31RNKqTufSZKk2FP8M4bBvHK\n",
       "Nu1U+rUs5W/AWLRwUYXd7IJceio49oU4XzbXsa0iDn0EvWWue1K02E7kDYmITCFji6iB0mTYEyoH\n",
       "DYMymJN8zal0T7T/+oqnjtpsYB/9nGB6y4BdOYOV0qkaW4GjogLeRdnjBoUS9acTviERtXiF1HsN\n",
       "E6U3P8Le8vtgGrSrDuXd4FT6mygKsWG9/goz603is3M/ciD1Vi9sgde5W4OnVl/k6uGVe2G1232J\n",
       "fn4cp9CiwZWEb4KITo1UK3cCpewRogvfVhMGeW90XzftNuBBL8XHw+Uh3xYt+/jDVqIhZBZUqkPA\n",
       "5f52pOPM4Nd+3T4+ayUaQmZBpToQfi2FfGXwx/AjjnS2rURDyCyoVN+nCD+QAuAN1ndt5Igg0RCy\n",
       "yv/7U4HgmckUiHWDXmYd1jzqIBpIZkWlOAT8XzZXnWcU5VjrAAAAAElFTkSuQmCC\n",
       "\" style=\"display:inline;vertical-align:middle;\" /></a></span>"
      ],
      "text/plain": [
       "{D in BOOLEAN, C in BOOLEAN, A in BOOLEAN, B in BOOLEAN} |- (D and C and (A or B) and A) = ((B or A) and D and C and A)"
      ]
     },
     "metadata": {},
     "output_type": "display_data"
    }
   ],
   "source": [
    "Equals(And(D, C, Or(A, B), A), And(Or(B, A), D, C, A)).prove(assumptions=in_bool(A, B, C, D))"
   ]
  },
  {
   "cell_type": "code",
   "execution_count": 80,
   "metadata": {},
   "outputs": [],
   "source": [
    "%end demonstrations"
   ]
  },
  {
   "cell_type": "code",
   "execution_count": null,
   "metadata": {},
   "outputs": [],
   "source": []
  }
 ],
 "metadata": {
  "kernelspec": {
   "display_name": "Python 3",
   "language": "python",
   "name": "python3"
  }
 },
 "nbformat": 4,
 "nbformat_minor": 0
}