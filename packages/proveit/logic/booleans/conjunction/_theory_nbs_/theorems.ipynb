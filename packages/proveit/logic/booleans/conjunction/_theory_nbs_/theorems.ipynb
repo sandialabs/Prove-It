{
 "cells": [
  {
   "cell_type": "markdown",
   "metadata": {},
   "source": [
    "Theorems (or conjectures) for the theory of <a class=\"ProveItLink\" href=\"theory.ipynb\">proveit.logic.booleans.conjunction</a>\n",
    "========"
   ]
  },
  {
   "cell_type": "code",
   "execution_count": 1,
   "metadata": {},
   "outputs": [
    {
     "name": "stdout",
     "output_type": "stream",
     "text": [
      "Defining theorems for theory 'proveit.logic.booleans.conjunction'\n",
      "Subsequent end-of-cell assignments will define theorems\n",
      "'%end theorems' will finalize the definitions\n"
     ]
    }
   ],
   "source": [
    "import proveit\n",
    "# Prepare this notebook for defining the theorems of a theory:\n",
    "%theorems_notebook # Keep this at the top following 'import proveit'.\n",
    "from proveit import ExprRange, IndexedVar\n",
    "from proveit import A, B, C, D, E, P, i, j, k, l, m, n, Pk\n",
    "from proveit.logic import And, Implies, Or, Not, TRUE, FALSE, Forall, in_bool, Boolean, Equals\n",
    "from proveit.core_expr_types import A_1_to_l, A_1_to_m, B_1_to_m, C_1_to_m, C_1_to_n, D_1_to_n\n",
    "from proveit.numbers import one, Add, Integer, Interval, LessEq, Natural\n",
    "\n",
    "%begin theorems"
   ]
  },
  {
   "cell_type": "code",
   "execution_count": 2,
   "metadata": {},
   "outputs": [
    {
     "data": {
      "text/html": [
       "<strong id=\"true_and_true\"><a class=\"ProveItLink\" href=\"proofs/true_and_true/thm_proof.ipynb\">true_and_true</a> (established theorem):<br></strong> <a class=\"ProveItLink\" href=\"../__pv_it/theorems/23f746ecd9f7e62fb72aa09100568c8b67d1919e0/theorem_expr.ipynb\"><img src=\"data:image/png;base64,iVBORw0KGgoAAAANSUhEUgAAADUAAAAOBAMAAAB9dUktAAAALVBMVEX///8AAAAAAAAAAAAAAAAA\n",
       "AAAAAAAAAAAAAAAAAAAAAAAAAAAAAAAAAAAAAADAOrOgAAAADnRSTlMAmd2rVHZEZokQzTK7Indu\n",
       "JPkAAAAJcEhZcwAADsQAAA7EAZUrDhsAAABtSURBVBjTYxBSAgFlBiTACBZSMgCxXeGiLTAGSwCU\n",
       "AZfj1MItx1qcgFOOifsATjkPhrU45dYyOOKS4zZgYJqAQ455AwNrAA65WUBfKOCQA/lcBIccSM8t\n",
       "7HLsID7PBlS5dKhTQG7khgiyFQAJAPEmFFCDI+LWAAAAAElFTkSuQmCC\n",
       "\" style=\"display:inline;vertical-align:middle;\" /></a><br>"
      ],
      "text/plain": [
       "<IPython.core.display.HTML object>"
      ]
     },
     "metadata": {},
     "output_type": "display_data"
    }
   ],
   "source": [
    "true_and_true = And(TRUE, TRUE)"
   ]
  },
  {
   "cell_type": "code",
   "execution_count": 3,
   "metadata": {},
   "outputs": [
    {
     "data": {
      "text/html": [
       "<strong id=\"true_and_false_negated\"><a class=\"ProveItLink\" href=\"proofs/true_and_false_negated/thm_proof.ipynb\">true_and_false_negated</a> (established theorem):<br></strong> <a class=\"ProveItLink\" href=\"../__pv_it/theorems/30e858b5834c738390dae1b0991c819e5031df2e0/theorem_expr.ipynb\"><img src=\"data:image/png;base64,iVBORw0KGgoAAAANSUhEUgAAAFYAAAAVBAMAAAAutAQGAAAAMFBMVEX///8AAAAAAAAAAAAAAAAA\n",
       "AAAAAAAAAAAAAAAAAAAAAAAAAAAAAAAAAAAAAAAAAAAv3aB7AAAAD3RSTlMAmd0iq3ZUiRDNZu9E\n",
       "uzLWhN+VAAAACXBIWXMAAA7EAAAOxAGVKw4bAAABBElEQVQoz2NgQABmBjwATTIMn1qeAGQeWwGD\n",
       "kBIIqKArWwAio5CFOsFkKozLngA3BGwkZwOSWilUtU0TUNVyCSCp3YCqNsoHVS3DDiTnTkBVq/AW\n",
       "Te0shFrGAhS1bAWcBqhqSxBqORegqOU0YBNAVbsSEkyKQCZTAoraJwwMGqhqsyE8EyDmPoCi1o+B\n",
       "IRRV7XtcajmAPm1CVXsaoRbVDaCYYExAUZsE4RkCMW8AslomUHKZgKJ2LSIc2B2Q1S4FEfdQ1Ioj\n",
       "1PIpgKlTEJ4HiHgKCnYlJe1NSkpAg3SQ4liPAS9gVkDiLMSvlnEBEofXAK9aW2QOxwW8ai+j8Ezx\n",
       "KWU1YAAAay4rqyJBq9kAAAAASUVORK5CYII=\n",
       "\" style=\"display:inline;vertical-align:middle;\" /></a><br>"
      ],
      "text/plain": [
       "<IPython.core.display.HTML object>"
      ]
     },
     "metadata": {},
     "output_type": "display_data"
    }
   ],
   "source": [
    "true_and_false_negated = Not(And(TRUE, FALSE))"
   ]
  },
  {
   "cell_type": "code",
   "execution_count": 4,
   "metadata": {},
   "outputs": [
    {
     "data": {
      "text/html": [
       "<strong id=\"false_and_true_negated\"><a class=\"ProveItLink\" href=\"proofs/false_and_true_negated/thm_proof.ipynb\">false_and_true_negated</a> (established theorem):<br></strong> <a class=\"ProveItLink\" href=\"../__pv_it/theorems/f3b475d85323e11adc017b0dbba42f2c5a6e996d0/theorem_expr.ipynb\"><img src=\"data:image/png;base64,iVBORw0KGgoAAAANSUhEUgAAAFYAAAAVBAMAAAAutAQGAAAAMFBMVEX///8AAAAAAAAAAAAAAAAA\n",
       "AAAAAAAAAAAAAAAAAAAAAAAAAAAAAAAAAAAAAAAAAAAv3aB7AAAAD3RSTlMAmd0iq3ZUiRDNZu9E\n",
       "uzLWhN+VAAAACXBIWXMAAA7EAAAOxAGVKw4bAAABBElEQVQoz2NgQABmBjwATTIMn1qeAGQeWwGI\n",
       "PIWmhlEJDBwYopBFO8FkKozLngA3BGwkZwOSWilUtU0TUNVyCSCp3YCqNsoHVS3DDiTnTkBVq/AW\n",
       "Te0sJE8UoKhlK+A0QFVbglDLuQBFLacBmwCq2pUMQqAQUQQymRJQ1D5hYNBAVZsN4ZkAMfcBFLV+\n",
       "DAyhqGrf41LLAfRpE6ra0wi1qG4AxQRjAoraJAjPEIh5A5DVMoGSywQUtWsR4cDugKx2KYi4h6JW\n",
       "HKGWT4EBFCi7lZRUgDwPkNBTaBKDhKYOUhzrMeAFzApInIX41TIuQOLwGuBVa4vM4biAV+1lFJ4p\n",
       "PqWsBgwAHrwrqzFgRwAAAAAASUVORK5CYII=\n",
       "\" style=\"display:inline;vertical-align:middle;\" /></a><br>"
      ],
      "text/plain": [
       "<IPython.core.display.HTML object>"
      ]
     },
     "metadata": {},
     "output_type": "display_data"
    }
   ],
   "source": [
    "false_and_true_negated = Not(And(FALSE, TRUE))"
   ]
  },
  {
   "cell_type": "code",
   "execution_count": 5,
   "metadata": {},
   "outputs": [
    {
     "data": {
      "text/html": [
       "<strong id=\"false_and_false_negated\"><a class=\"ProveItLink\" href=\"proofs/false_and_false_negated/thm_proof.ipynb\">false_and_false_negated</a> (established theorem):<br></strong> <a class=\"ProveItLink\" href=\"../__pv_it/theorems/4c6dfcdf3aaadd646bc2147209eab8cb71efbd370/theorem_expr.ipynb\"><img src=\"data:image/png;base64,iVBORw0KGgoAAAANSUhEUgAAAFYAAAAVBAMAAAAutAQGAAAAMFBMVEX///8AAAAAAAAAAAAAAAAA\n",
       "AAAAAAAAAAAAAAAAAAAAAAAAAAAAAAAAAAAAAAAAAAAv3aB7AAAAD3RSTlMAmd0iq3ZUiRDNZu9E\n",
       "uzLWhN+VAAAACXBIWXMAAA7EAAAOxAGVKw4bAAABCElEQVQoz2NgQABmBjwATTIMn1qeAGQeWwGI\n",
       "PIVF2QIQGYUs1AkmU2Fc9gS4IWAjORuQ1Eqhqm2agKqWSwBJ7QZUtVE+qGoZdiA5dwKqWoW3aGpn\n",
       "IdQyFqCoZSvgNEBVW4JQy7kARS2nAZsAqtqVDEJKQKAIZDIloKh9wsCggao2G8IzAWLuAyhq/RgY\n",
       "QlHVvsellgPo0yZUtacRalHdAIoJxgQUtUkQniEQ8wYgq2UCJZcJKGrXIsKB3QFZ7VIQcQ9FrThC\n",
       "LZ8CAyhQdispqQB5HiChp6BgV1LS3qSkBDRIBymO9RjwAmYFJM5C/GoZFyBxeA3wqrVF5nBcwKv2\n",
       "MgrPFJ9SVgMGAM2lLET3hDWJAAAAAElFTkSuQmCC\n",
       "\" style=\"display:inline;vertical-align:middle;\" /></a><br>"
      ],
      "text/plain": [
       "<IPython.core.display.HTML object>"
      ]
     },
     "metadata": {},
     "output_type": "display_data"
    }
   ],
   "source": [
    "false_and_false_negated = Not(And(FALSE, FALSE))"
   ]
  },
  {
   "cell_type": "code",
   "execution_count": 6,
   "metadata": {},
   "outputs": [
    {
     "data": {
      "text/html": [
       "<strong id=\"empty_conjunction_eval\"><a class=\"ProveItLink\" href=\"proofs/empty_conjunction_eval/thm_proof.ipynb\">empty_conjunction_eval</a> (established theorem):<br></strong> <a class=\"ProveItLink\" href=\"../__pv_it/theorems/6468d7c8dc1876669cabff0251bf87be8fe79abe0/theorem_expr.ipynb\"><img src=\"data:image/png;base64,iVBORw0KGgoAAAANSUhEUgAAAFYAAAAVBAMAAAAutAQGAAAAMFBMVEX///8AAAAAAAAAAAAAAAAA\n",
       "AAAAAAAAAAAAAAAAAAAAAAAAAAAAAAAAAAAAAAAAAAAv3aB7AAAAD3RSTlMAdt0yiURUEM1mq7si\n",
       "me/+MEVxAAAACXBIWXMAAA7EAAAOxAGVKw4bAAAA9klEQVQoz2MQUmaAACiDh+EAAy7gisYSYwgk\n",
       "Vi2bAwPjBHQ1l5RAQAuiwg2utgKI27EYmQhTwa4BV3sTiOfiU8s4KwCm9gEQ8xXgUcvEvAHKYmsA\n",
       "EhwT8KhNYeiBsngdgATLAjxqexhyoSywkZwNyJ5HVcu8gIGpAOqaBJBDHuA2l8uAgVEAopYP5Enm\n",
       "D7jVAsOUXQFJLSsec0ExcQ3ZDQq43QuSOgFRyy0A8tsGnOZyguS5DcBqwcEFDjjsarlA0cQsAFbL\n",
       "DLKDKQBTbSSWdAZKxIeITJNzoemHGLXcBxh4NhCpln0DSDkO4ATPb0/B1EEGGVxKATPsNKo3K7Pg\n",
       "AAAAAElFTkSuQmCC\n",
       "\" style=\"display:inline;vertical-align:middle;\" /></a><br>"
      ],
      "text/plain": [
       "<IPython.core.display.HTML object>"
      ]
     },
     "metadata": {},
     "output_type": "display_data"
    }
   ],
   "source": [
    "empty_conjunction_eval = Equals(And(), TRUE)"
   ]
  },
  {
   "cell_type": "code",
   "execution_count": 7,
   "metadata": {},
   "outputs": [
    {
     "data": {
      "text/html": [
       "<strong id=\"left_from_and\"><a class=\"ProveItLink\" href=\"proofs/left_from_and/thm_proof.ipynb\">left_from_and</a> (established theorem):<br></strong> <a class=\"ProveItLink\" href=\"../__pv_it/theorems/fad4cd0a121700fa8075afd1a2460c2ba2869fbf0/theorem_expr.ipynb\"><img src=\"data:image/png;base64,iVBORw0KGgoAAAANSUhEUgAAAHMAAAAWBAMAAAABVL48AAAAMFBMVEX///8AAAAAAAAAAAAAAAAA\n",
       "AAAAAAAAAAAAAAAAAAAAAAAAAAAAAAAAAAAAAAAAAAAv3aB7AAAAD3RSTlMAq1RmmUTNIjK7EInv\n",
       "3XZ/CtNrAAAACXBIWXMAAA7EAAAOxAGVKw4bAAABtklEQVQ4y2NgIA+UAbEAiKFMstZ8IHYFMdJJ\n",
       "1cn0H0g0AjH7BFK1ssgXMDCwLWBg4FYgVev2/Q0MDMwGQO2k6mR/8B5k29m7d0+T7F4GfaCNDB4M\n",
       "DLPA/AXo0lDAhak1iKF/A5AqZGAHRxDXCbBo55fdng0gBidM3Rowl2O+95YZMCEHhnqQHs4F3AEg\n",
       "LvcnsCjzBQa+Ayha90MC0ZaB4Q1UhG+KizwoUpgeQEIp4hyYYnRgYP6ArJW15wGYFmFgsIcKrWNg\n",
       "4L8AYiTYgfkPEsEUjwLDWgNkrXxsYP8wHGLgugx3LwMv2GWbssAqGNzAwvWPTSQYkLU+YEkAx8c/\n",
       "Y8cGqDtA8Ql2WQ3Y1AioT2wZuESQtbI2QLwODIOFDhChGpDsd7DvwIZ575ZfAPVSfQCSVpbdG39B\n",
       "w4D9K1hk5f8sBqb53zbAgpEPqKMB4iWGeOTIecDA/gMaBqw/sKaPYGCgKXBtYGD/xcB1BcnBIH99\n",
       "YlgNNHgBw1oHrCnrIAOXfyrHIQaz37s9FZC0+ggwLPkW0KPAnL97yyS82RCJzYksQThrReHQyrqA\n",
       "oFYDHFqZScyThBQAAMbpXj7Rw1FMAAAAAElFTkSuQmCC\n",
       "\" style=\"display:inline;vertical-align:middle;\" /></a><br>"
      ],
      "text/plain": [
       "<IPython.core.display.HTML object>"
      ]
     },
     "metadata": {},
     "output_type": "display_data"
    }
   ],
   "source": [
    "left_from_and = Forall((A, B), A, conditions=[A, B])"
   ]
  },
  {
   "cell_type": "code",
   "execution_count": 8,
   "metadata": {},
   "outputs": [
    {
     "data": {
      "text/html": [
       "<strong id=\"right_from_and\"><a class=\"ProveItLink\" href=\"proofs/right_from_and/thm_proof.ipynb\">right_from_and</a> (established theorem):<br></strong> <a class=\"ProveItLink\" href=\"../__pv_it/theorems/fb0f158eaae30afe81e0f6dc79355d25a9ea42d00/theorem_expr.ipynb\"><img src=\"data:image/png;base64,iVBORw0KGgoAAAANSUhEUgAAAHMAAAAVBAMAAACHwMySAAAAMFBMVEX///8AAAAAAAAAAAAAAAAA\n",
       "AAAAAAAAAAAAAAAAAAAAAAAAAAAAAAAAAAAAAAAAAAAv3aB7AAAAD3RSTlMAq1RmmUTNIjK7EInv\n",
       "3XZ/CtNrAAAACXBIWXMAAA7EAAAOxAGVKw4bAAABeklEQVQ4y5WTv0vDQBTHv2lq0yZSDYjolICr\n",
       "QwZxU7soFgcLLqWLFRFRHHQXWkendhQX0z9AENcu2kEUURwcXAoRV/EXir9AfXdRPBNDuQfH+97n\n",
       "3Tdc3kvQCYo+yIS6dW92bwCjbDMvZUV7FbDKWCOpVeWsJQ+YziDhAoYtZx0p0/KgOkBCzgmL1tIy\n",
       "cNJsHktaj4DaBeVxYJMD9289/iPcoDP5enM5y8QKND4g/ZDz9cd6tsxE6vtgkAPpZ6DfYUdcI8eA\n",
       "8eAP7QzpPdEa5FShbLyQiHl+l/KnPCkZqHeiNciBDrql+sFUcZgDb8Yft41tR7QGOVChrDwxtbvI\n",
       "XwBj/rivBnogWEMcuKW5VIpMrfIu5XHN+RD0LtEa4jRSoO2A913hjZuoW3xH9VJOsIY4ej9Nc0H4\n",
       "/tJU4Y9o0OcpDCfMQzFFjbP1HWhv0M+FC4d5MOL70Cfnkg0Mvtez9q/1Hx4RMUGnInhEFCKshdZW\n",
       "J8LqyP1ZWqsDX9Q9YJ4pEB38AAAAAElFTkSuQmCC\n",
       "\" style=\"display:inline;vertical-align:middle;\" /></a><br>"
      ],
      "text/plain": [
       "<IPython.core.display.HTML object>"
      ]
     },
     "metadata": {},
     "output_type": "display_data"
    }
   ],
   "source": [
    "right_from_and = Forall((A, B), B, conditions=[A, B])"
   ]
  },
  {
   "cell_type": "code",
   "execution_count": 9,
   "metadata": {},
   "outputs": [
    {
     "data": {
      "text/html": [
       "<strong id=\"and_if_both\"><a class=\"ProveItLink\" href=\"proofs/and_if_both/thm_proof.ipynb\">and_if_both</a> (established theorem):<br></strong> <a class=\"ProveItLink\" href=\"../__pv_it/theorems/7520b6268cf5e273301d825ac3e2a91e31494b2e0/theorem_expr.ipynb\"><img src=\"data:image/png;base64,iVBORw0KGgoAAAANSUhEUgAAAK0AAAAXBAMAAACL0NJjAAAAMFBMVEX///8AAAAAAAAAAAAAAAAA\n",
       "AAAAAAAAAAAAAAAAAAAAAAAAAAAAAAAAAAAAAAAAAAAv3aB7AAAAD3RSTlMAq1RmmUTNIjK7EInv\n",
       "3XZ/CtNrAAAACXBIWXMAAA7EAAAOxAGVKw4bAAACuElEQVQ4y62VS2gTURSG/8xkkskkGRMoxY1k\n",
       "QHcujFgEF7X1iaWCQTdFRONCitk0blxVE5dCoaW4EBETQQTRSi0FF1k01oWKKAFF3BQGXbgR+7BN\n",
       "QwXjuY8pk8RGpzowuY9zz3fO/e+ZG2BTT7CtNYvNPp9Ec/n31rP0xlhnu0esMinaoab5ffV4/GIe\n",
       "ZhI4wsaDHrn3Jb4ux1OO4RXgqwEZ4BpTa8wj95Bo/AmhpPHBkf0noC0DXUCgCIQtj9yyaJ7O5Hlr\n",
       "7k6JCZVyVYkdKUIlLQJe5U2L7Ox5kVBUlxv2LRDsBb0EfTM399oj1y+OzY9dSd7Z6RxQZAzGNtpD\n",
       "mKrhGHCLTxabvHtla7RwAwJ3EqMiwCB2CMPonW+dzKbShi4hyGvNeMlN15dLfUI15zAf8aFe6J++\n",
       "KWeilgyc4556DFGR1HwWynMmFB1AqBjmqoeXhPQVmOUG7oygdANf5UyEO5g3Dif4Gh9VrM0Nt9ly\n",
       "SkMnnRVbHNvAWyF9L9QFN1cbET4dQE8D9zGwpSKr2eAdLNLbQ8s1lll6P5+zzwsfCxNJN9cM8M1i\n",
       "Fsa7Bh1I/2jZ+SoOckG+00+CgioszFSGu+Mo98l97toKN9f2p0XJ7zmQl9wQ24HGCpTvrOLcFOYq\n",
       "satMTOY7zPMZkOp1w+hwc7W8kJt0v+tUCCsjDLMAq8zCooRYzACtPJNxCtHH0+gvJYpSxlzKxfWX\n",
       "nqxJ3YMrkqtThg/qGSiFKgF8zE8nuK+wGO8c50KlnJI0CZcXMuKcu85sBGtSd63mrP74hw/nynrv\n",
       "FB2uZUwiuAbjvUsHpuISHlLUIiYcHdi98jf3Eu32GYwTF/RZ7P1R6rNc3OMx3KumRix1qDQ9vu4X\n",
       "av+P0HI/Ku6B29h04RntL9aWsKc34GrNd8fVttwvzRPJDbgq/uOT/RfnX4TjoghUGfK6AAAAAElF\n",
       "TkSuQmCC\n",
       "\" style=\"display:inline;vertical-align:middle;\" /></a><br>"
      ],
      "text/plain": [
       "<IPython.core.display.HTML object>"
      ]
     },
     "metadata": {},
     "output_type": "display_data"
    }
   ],
   "source": [
    "and_if_both = Forall((A, B), And(A, B), conditions=[A, B])"
   ]
  },
  {
   "cell_type": "code",
   "execution_count": 10,
   "metadata": {},
   "outputs": [
    {
     "data": {
      "text/html": [
       "<strong id=\"nand_if_left_but_not_right\"><a class=\"ProveItLink\" href=\"proofs/nand_if_left_but_not_right/thm_proof.ipynb\">nand_if_left_but_not_right</a> (established theorem):<br></strong> <a class=\"ProveItLink\" href=\"../__pv_it/theorems/9a1731350c48df6407b8b518da8c41604c68157d0/theorem_expr.ipynb\"><img src=\"data:image/png;base64,iVBORw0KGgoAAAANSUhEUgAAANYAAAAXBAMAAACFeawMAAAAMFBMVEX///8AAAAAAAAAAAAAAAAA\n",
       "AAAAAAAAAAAAAAAAAAAAAAAAAAAAAAAAAAAAAAAAAAAv3aB7AAAAD3RSTlMAq1RmmUTNIjK7EInv\n",
       "3XZ/CtNrAAAACXBIWXMAAA7EAAAOxAGVKw4bAAADIUlEQVRIx7VWS0iUURT+xn+e/zwcIaJWM1C0\n",
       "yWgCEVqUQy8Si6Q2ElGGhCRCChEEldMyMMZFUAblBBFID7RNi1loQtGDYhALN8KfLtpEmpSaQXbO\n",
       "vfP/cxrGiYa6cOeee7/7n+/c87h3gIqbT066yu3sKt79121ayJG4Gs6V3nmcuscCojzZUAFV1ZCY\n",
       "bNbDmaI9xsCXmrU3EEmQPAPs5bX2CrjuCdls1fQr+fljGwj1AbEUOkj0ZnCZfdlXAdduIbsTeojp\n",
       "sJnvbaCHPHciiTo+Y5LpEIxXwDUq5JAenoykdPS2NeeBBlposBAiEryCQSZ5KwlXq5hs0olpzWqj\n",
       "w37bUTHqnV3w8rnbgDdTU68r4HLL1GjSS9iayGeKnQAvgTuT5DjOwGFgP3BTrWeKlDmBL8nlTYhJ\n",
       "m/o9jLQ2oB0b9br/++cPjBnshHqgGz6V9+YLBV/5mm1UXg/Yih6kCkodFGFy18EpahM0GVdLSfQo\n",
       "Tf4owtrwyCJQS0ZVcXBrSWcmqCIZnNclkUNk9DeuEZE5DoqQHf5u6s+U4mt7YipOrhQilsICtDe4\n",
       "ROxzNEkTp6VTo+WtGlxJGHOSy9NrFbgctATXI6A6l688UwmopnMaP0kH23eMeutOtW6d1DrieJiQ\n",
       "XBFvVCS3jSofOlzj2oUIj9qVvEthadrr+kbnYeotDHUoldinq2+mbh0kl+UW2e2gCNinPUv9Np+f\n",
       "i0edOefcjLNU22n63GDfbqd+Qdndgk8K3gFzjeTypFSAgv39/bcEqtPYbsOshr9Z5JiyFQGVQZ30\n",
       "/fNMvkCadChZysZU7pCqnmbB5c4OL9vBEij8OcF1FRhc6UDVwAIpdbEePxOuX6mpOc2+DvM375xH\n",
       "gZQozjG6wGTOW/AtFbgcFJgUXOFU+cK/yLeKY9wRSpq4OQTfMswJ4UOOwjzu56u7gELdp04pJP98\n",
       "T7vt4nc/hXnolH8M9T+yjXHBdSCKuwvNvfmkK6CEy6f4evkXnFPjfPGFKuSABEo8BKZ8iAbLcimz\n",
       "is05ugqXJ1NCwyVpuVWO6yMnRPE/ksQqXAb+b/P9c42/ADZMtmweGSeaAAAAAElFTkSuQmCC\n",
       "\" style=\"display:inline;vertical-align:middle;\" /></a><br>"
      ],
      "text/plain": [
       "<IPython.core.display.HTML object>"
      ]
     },
     "metadata": {},
     "output_type": "display_data"
    }
   ],
   "source": [
    "nand_if_left_but_not_right = Forall((A, B), Not(And(A, B)), conditions=[A, Not(B)])"
   ]
  },
  {
   "cell_type": "code",
   "execution_count": 11,
   "metadata": {},
   "outputs": [
    {
     "data": {
      "text/html": [
       "<strong id=\"nand_if_right_but_not_left\"><a class=\"ProveItLink\" href=\"proofs/nand_if_right_but_not_left/thm_proof.ipynb\">nand_if_right_but_not_left</a> (established theorem):<br></strong> <a class=\"ProveItLink\" href=\"../__pv_it/theorems/b1439d110fb25f4dd41c3456e9cd25cd3aa496640/theorem_expr.ipynb\"><img src=\"data:image/png;base64,iVBORw0KGgoAAAANSUhEUgAAANYAAAAXBAMAAACFeawMAAAAMFBMVEX///8AAAAAAAAAAAAAAAAA\n",
       "AAAAAAAAAAAAAAAAAAAAAAAAAAAAAAAAAAAAAAAAAAAv3aB7AAAAD3RSTlMAq1RmmUTNIjK7EInv\n",
       "3XZ/CtNrAAAACXBIWXMAAA7EAAAOxAGVKw4bAAAC80lEQVRIx7VWTUhUURT+xpmcmTc/KkTUagaK\n",
       "NhlNIEKLcuiPRCKpjUiUISGJkEIEQTXTskWMi6BskdMmcFFomwgXmVD0QzGIhRvhlYs2kRaV/UB2\n",
       "zrnzpjv3DS961IXrPfd+d8537vl7Ar5HWN8Met0cNG//9Xijycm0LKdr3zxCc5UNNPJmvQ+qunFt\n",
       "s0ktJ407wdEPTWuuIpkheQHYw2d9PrhuarLVo+hXyvs7DhAfBlJ59JNYX8QF9uWwD65dmhzKqCWl\n",
       "wma9coAcee5oFi38xizTIZb2wTWlyXG13L2fV9Hb2lkG2uigzUacSPAUQTKp3k+4erTNRpWY9qIy\n",
       "OhFxHJWiOTCIen53L/B8fv6ZD66Qnhod6ghbMuVMcRLgCXBjjhzHGTgB7AOuyXnRUFa9NVBlqjN6\n",
       "5e9BFJQBfdigziPf3r9mLMhOaAWGEJa8tx4LfPHTZLt4PVql2kSRIHftn6cxS5sZOcoiJ5oijUgo\n",
       "05LLQDMZVcfBbSadxZhEMvZRlUQJySk3l4ki7oR/iOZDUXx5d0riFMgjaQsWpbuxr8S+RJsCcdoq\n",
       "NbpeyBLIIrjk5jLRGly3gYZSufIsEdBA7wz+pKbB9h2m2bNDzu1jSkcatzJuLhMVH1a4ZpQLkZhy\n",
       "KnmnYAW6G/hM72HqzQz1iwewV1XfQstauLhcKKJ2GTpF8zo3PC4eeXOp0hkXqbYLlBdB9u02mmcl\n",
       "oF14J/B2WKs1rnsjIyOlGqhKY2dMsBr+zTLHlK2ISgYNkAmPiuUC6VChZGkyJblDqnKd1e9qrIEi\n",
       "UtK4LgFjK/2oG/1CSgN8M8KE61aamk6wrxP8m5e/nYSccE5TA8ubXG4UmNO4Ennvwj/HXaVi3CFK\n",
       "mrQ1jvB3WLNGvLI1UEg/rXw7sn/u0yGn+EMPYB04HplG64/J9rSZGzVQwvVP8RXvLzinxhmzoWpy\n",
       "1N1uqzuJ/iEa8+QSs0xzuj25uqu353XLbS+ut5wQ5n8kGU+uDP7XCP9zjb8AcUK05qvAoMkAAAAA\n",
       "SUVORK5CYII=\n",
       "\" style=\"display:inline;vertical-align:middle;\" /></a><br>"
      ],
      "text/plain": [
       "<IPython.core.display.HTML object>"
      ]
     },
     "metadata": {},
     "output_type": "display_data"
    }
   ],
   "source": [
    "nand_if_right_but_not_left = Forall((A, B), Not(And(A, B)), conditions=[Not(A), B])"
   ]
  },
  {
   "cell_type": "code",
   "execution_count": 12,
   "metadata": {},
   "outputs": [
    {
     "data": {
      "text/html": [
       "<strong id=\"nand_if_neither\"><a class=\"ProveItLink\" href=\"proofs/nand_if_neither/thm_proof.ipynb\">nand_if_neither</a> (established theorem):<br></strong> <a class=\"ProveItLink\" href=\"../__pv_it/theorems/c94c1465dc9e519d0e272080de7ba0efc8407c530/theorem_expr.ipynb\"><img src=\"data:image/png;base64,iVBORw0KGgoAAAANSUhEUgAAAOEAAAAXBAMAAAAPVjVNAAAAMFBMVEX///8AAAAAAAAAAAAAAAAA\n",
       "AAAAAAAAAAAAAAAAAAAAAAAAAAAAAAAAAAAAAAAAAAAv3aB7AAAAD3RSTlMAq1RmmUTNIjK7EInv\n",
       "3XZ/CtNrAAAACXBIWXMAAA7EAAAOxAGVKw4bAAAC70lEQVRIx7VVTWgTQRh92STdZNPEBErxIgko\n",
       "Xjy4YhE81K6/WHqw6KUU0YqI2EvjxVMl8ehBWopQI9KuF6GHSi0FkRyMFbEiSqjirRDw4EVsq7Ut\n",
       "CtaZ+WbT3cymh5R+8Np58+3Om/neNxtgm5GtS/yezGLbkcio5Jb/o5ckkpzsbVjxgA8ZqHnm6EYq\n",
       "dSOPhAmB03zueqOCRp9KtA3Jp53EOyCwDvRD4A77pw83qhgyVRJKk1vGFzmv/wPCK0AbBJpsIJZp\n",
       "VLHZhzx/mSdXD3XTRJCdL8hUm22BINtYU8M27leJXlmkA8QjsnSBJSbxlsEkfFhYeN+wYpdKQjho\n",
       "yj6S7dE8DGMPO3csSTgLPBQJu8YiL7V9Fa+q5DyGpkDtuI/mh8Z+tPJNBPsIN6GLG2LMifTdlWKn\n",
       "8CHqbcq5zXFkvGvmAQ3n2c4WeFhEWFjIifUiScRpm4tZaK95E5cIUTsmHI79JJvLSJRURZmlaAe+\n",
       "0+iN045JhyTun0oL/wLsBlZE8hED76bIEkGrUOP0fCSbLQSXVEWZpWgBOuopPgV2lfngCSuMGGCZ\n",
       "oYOJh0sE9B0T85UrZHMGk6aqKLMUszA+Vau6qThPRUW85Nz/E6K8v9ifNKujViZgul9UA2fEu7mv\n",
       "bbuhKDpZeaMPH6crhzFnypIkzG+AqFHZ+cIm1pjqKjdsmIBBYXSPtKYdRotL8UWhUChXs8SY1Y8t\n",
       "Unrm3hYng/zNNb489zDKN9bEjnyRnyo0ReAW88tUTNvSo1y394zJzaxgzGr9N5F7bkVGJjb6oY2v\n",
       "smUD/PkIkw2ML6daR8QnoZvglA25PHmEy/laxWpWMGZ1eJ1IPO9S9BCfuC1BcYG1WMaYgv4Hxuca\n",
       "H61qVt43G5OyqkHLtaKH+MRJCfrAvIJx7lpkFkf+FjsztZ1TzdLCA8WZESc16l5ydEtB/gul/Epp\n",
       "rnFUeUXzWWaiLlEimiV4ondLxV6/jVfqESW+SXjC3FLRxM6GvkPr/geaKrl7sYxXlgAAAABJRU5E\n",
       "rkJggg==\n",
       "\" style=\"display:inline;vertical-align:middle;\" /></a><br>"
      ],
      "text/plain": [
       "<IPython.core.display.HTML object>"
      ]
     },
     "metadata": {},
     "output_type": "display_data"
    }
   ],
   "source": [
    "nand_if_neither = Forall((A, B), Not(And(A, B)), conditions=[Not(A), Not(B)])"
   ]
  },
  {
   "cell_type": "code",
   "execution_count": 13,
   "metadata": {},
   "outputs": [
    {
     "data": {
      "text/html": [
       "<strong id=\"nand_if_not_right\"><a class=\"ProveItLink\" href=\"proofs/nand_if_not_right/thm_proof.ipynb\">nand_if_not_right</a> (conjecture with conjecture-based proof):<br></strong> <a class=\"ProveItLink\" href=\"../__pv_it/theorems/a20d5d78f2221bd06b7fefe2949505997c8a12380/theorem_expr.ipynb\"><img src=\"data:image/png;base64,iVBORw0KGgoAAAANSUhEUgAAANkAAAAXBAMAAAB0cveBAAAAMFBMVEX///8AAAAAAAAAAAAAAAAA\n",
       "AAAAAAAAAAAAAAAAAAAAAAAAAAAAAAAAAAAAAAAAAAAv3aB7AAAAD3RSTlMAq1RmmUTNIjK7EInv\n",
       "3XZ/CtNrAAAACXBIWXMAAA7EAAAOxAGVKw4bAAAC/klEQVRIx7VVTWgTURCe7KZNstvGBKToQRJQ\n",
       "RPDgCkXwoAatYvFg0EsR0YqKNAWNCoJQaQQvHmxLsZQVbYMHoQcl9iLag7UiKv4QSvFWWCjFi9hU\n",
       "SysKxnkzb9ukb1Mw1YEv2e/N2/neezOzD2AVlq5IvGamYVUWjqvkivfUExIRQTZWpbbVg1xYNmdn\n",
       "MRpty0DYAsJ+MXauGjGjVSVaUfJh1/EWwPcDIAWE6/gX6KlGzW+pxB/j7Bif5HjgN0DNHEAjEGqz\n",
       "AGa8GrU6D/LkeYazuD3JAzruS0fFuixBx0XVVpW2zSoJODO88PqgPC5fAcO/RliMD5OT76pSO6QS\n",
       "P2yzZM3IUqjrAWMD7teMMA4C3CFHtmLchOfoaZUcge4ccNlt4vHuga8NYgF6K+MiBKgLjDfkvjk3\n",
       "0sxnr7WfmeBzKS2iJf847mVSWIIJLauTYgUjUM+Ln0mD9lIEG2WEsiZl1PzGac1DGEe71veBk7u0\n",
       "RVGTfrRXbtlFXBK+3RSjuT7sMIecdxGicoIFhuZwkbR85LQmQC+AH88X1cz7ihr7vdUeAazJi4cH\n",
       "eFT0ALOIPShcM8qA1t007pzitMbhoQVTNJK7/ExRYz8sHp5UG5f5rR91e3svHel3/Inh2Wl5Bgyn\n",
       "6BTgAL3bOdW4DgyK7zS9zyhq5CcbcNUSktSIKqd9590vZngBFedFAnoY0EGJbYEv9O4uMNbSe2Jv\n",
       "N6aX1Ezbtu9JP9nj0poUpAMRWhChRc5CYqW1uNXjYjf+HEOkVDTMSIyqCEN1JvU22+4VeTPL9+aT\n",
       "fiK3StWQDBVToA3OY0ifiBRESd/gbLShl9o9yZAXBgYh1TGAk5lgjvdmhhU18vP3IlOiVkY87JoE\n",
       "21Esp7iRg8BPMCZkv6NaV7ma3/VTL5Q2vZ5YWW2fBId5Acbhs8Ex2PFrpBlb+iouVTvfblvLq0T6\n",
       "yfpLw/WvKCZuGeWm0Ravq6d239JwhQtpqCJRLJRmlNkx77kV1AJOJaLYZ4kys/5K7T9Z+l8F+gMz\n",
       "Rc2AvajLQgAAAABJRU5ErkJggg==\n",
       "\" style=\"display:inline;vertical-align:middle;\" /></a><br>"
      ],
      "text/plain": [
       "<IPython.core.display.HTML object>"
      ]
     },
     "metadata": {},
     "output_type": "display_data"
    }
   ],
   "source": [
    "nand_if_not_right = Forall((A,B), Not(And(A,B)), condition=Not(B), domain = Boolean)"
   ]
  },
  {
   "cell_type": "code",
   "execution_count": 14,
   "metadata": {},
   "outputs": [
    {
     "data": {
      "text/html": [
       "<strong id=\"nand_if_not_left\"><a class=\"ProveItLink\" href=\"proofs/nand_if_not_left/thm_proof.ipynb\">nand_if_not_left</a> (conjecture with conjecture-based proof):<br></strong> <a class=\"ProveItLink\" href=\"../__pv_it/theorems/3a73e8e102494c1b88cf5ffe3d063d4f76e96acc0/theorem_expr.ipynb\"><img src=\"data:image/png;base64,iVBORw0KGgoAAAANSUhEUgAAANkAAAAXBAMAAAB0cveBAAAAMFBMVEX///8AAAAAAAAAAAAAAAAA\n",
       "AAAAAAAAAAAAAAAAAAAAAAAAAAAAAAAAAAAAAAAAAAAv3aB7AAAAD3RSTlMAq1RmmUTNIjK7EInv\n",
       "3XZ/CtNrAAAACXBIWXMAAA7EAAAOxAGVKw4bAAADNklEQVRIx7VVTWhTQRCe5CV5Ly/JMwUpXqQP\n",
       "FUE8GKEURNTWVrG0asBLEdGKSLEejBcvahuPomLRg0a0zUGEokLag6g5WCtiRZQgIh4MPBUUQbTV\n",
       "UmuL1tmZTdw0TYupLnx5u7OT+WbnZxdgHiOmzPU5NWMwr2HZyuItc7bOrLpbIiwWS8tiW6nM3Sn6\n",
       "+Ian6ayZqqg4EAcrAoRNQtZWDpmpnuMaf1bl2PpzG48BXOMA7UA4Ic7fVQ6bJ6Is6vlT91168jKX\n",
       "zl8A3lGAaiD4kgABuxy2oLoYoN/A0XGZ0tVRnmgo0JAxmCRo6KGvrLQtV9PGUe2wvvI6ZMhwuTC0\n",
       "vkeICONpNvukLLYmNapcJLXub7kCkqUQ7AJzcRxPHWZsAbhEG8mSdmsLq0N+9ykyH+XQaxuTvG6D\n",
       "ZTw52/25UuxprYzDoFMXmEO0fXI03RiXobq1dSNNCovohtx+jkfKioHOhCjzHtBHaMsIQ4id/xID\n",
       "9wMR6gGGPxmgjAY45FoGLJQabxJRK6AviRez3ZM19TBXduhskEx8bKj7wdnCDnNodln8AY0Ywwy3\n",
       "w0XS8owVa0FDaQNqWAG4axexeU87JdhM3PiZ6z4zQzNx1g0o9w4woHU9yZ29nFYbbkao75FNX5ss\n",
       "YrN84Xwk82wUSQ/idb63KQmGqJoqdMWdYUB/OxmBzaTY+a56EUAviTzNQ8V5czzyDunOsWHe/OK8\n",
       "OxCHSCTMHiET2O3GmEhQFwOOka8t8IkU14G5kP+IZzO2RfNsgUQicQXDEbe4k6FPcUEUty7kPeKm\n",
       "1wS3X6Tch7Jd7bJFqE1cVAlN6SqKGlJ1RqEGTduYt1Sq4Gwu/Eu6b4IXZxQ2IwNmz1gSVkwdFGrC\n",
       "koGUrp6Rispz1O5RhswGkhDrIMCeOJzis0HKmc7mgC5vp1BcoXs1x1VwXIIHhm6BbaZAnwDzhWgL\n",
       "ZrtdyOYBL5aPvJ00temr52Cr/3Nzo5n7YG7fbwxCzWS6EetLvyi6+/2d89OrpDkMV8dkRC4o1vyz\n",
       "v8zilSl6adz52fVEIh9lKPEg9arX2eyPlnCmyKGdM+uWsKQ7yqJjVrYPEgUj8lds/2nE/pWh3w2X\n",
       "xPyrupRAAAAAAElFTkSuQmCC\n",
       "\" style=\"display:inline;vertical-align:middle;\" /></a><br>"
      ],
      "text/plain": [
       "<IPython.core.display.HTML object>"
      ]
     },
     "metadata": {},
     "output_type": "display_data"
    }
   ],
   "source": [
    "nand_if_not_left = Forall((A,B), Not(And(A,B)), condition=Not(A), domain = Boolean)"
   ]
  },
  {
   "cell_type": "code",
   "execution_count": 15,
   "metadata": {},
   "outputs": [
    {
     "data": {
      "text/html": [
       "<strong id=\"nand_if_not_one\"><a class=\"ProveItLink\" href=\"proofs/nand_if_not_one/thm_proof.ipynb\">nand_if_not_one</a> (conjecture without proof):<br></strong> <a class=\"ProveItLink\" href=\"../__pv_it/theorems/64045e01a48a85fe6ecd2579ab727625d43f96de0/theorem_expr.ipynb\"><img src=\"data:image/png;base64,iVBORw0KGgoAAAANSUhEUgAAAy8AAAAZBAMAAADKyAwuAAAAMFBMVEX///8AAAAAAAAAAAAAAAAA\n",
       "AAAAAAAAAAAAAAAAAAAAAAAAAAAAAAAAAAAAAAAAAAAv3aB7AAAAD3RSTlMAq1RmmUTNIjK7EInv\n",
       "3XZ/CtNrAAAACXBIWXMAAA7EAAAOxAGVKw4bAAAH/0lEQVRo3u1aa2wUVRQ+O/uY6eyDNiJBE+ga\n",
       "kDRB6iqP2MTHKtSglVDxDxFMaoghEE2XhGAqhK7EH5qUZyRYojAIIZLyKC+VNqEFNCBEnCASQmhY\n",
       "BDVFKAUVCAbqfczj3JlZdxoIVOQkd/bOme+eM3O/e8+597YAvmRQRwbuyx2TCx1Jn8iaPvXeMr65\n",
       "l0aMbH5cMPWfJOZnVE/wsTUnD3ROL03PuasfFs7xQokppoohhYkJ0B8p1Rd4kZrRzXD+U5sHW9tL\n",
       "2/nwFT0lJTOyDuXmpSWpuW6s2lnygNzs3ycyc8YohJhKej+9MDGhavIT6RNxYz3uBD6XpR4M2GZz\n",
       "mEcvSDSZB4+bfAcQuCbCE4c1GPqj28z5cyBNSPn2is1ENF4IMe/TsLakMDEKnVp1fSKSjUX1EO+A\n",
       "UCkaMuox+3EevSCbarzxuIl8kwSZPwW4+hmZQaGrLjMbjpPLxIxfr4KZYNooKcZPNFmYGJiZn/w7\n",
       "LO2oHuM/X7WhMJN4otqs5tMLcuZB8MTjJkEyW4I3BXjkIM0K7S4zb5Meham+vYpmDvJCiKH5P+In\n",
       "+Y/sK2sACb/FMD6ecxfR2IorZgTIpxdF/wg88bhJoJt0034B3kahStppJnqZXj/w7VU0M40Xysr3\n",
       "HR2H/BAT6+g42dwXiAnht6jiKng8hdcDZs7Mp3esJazUKeJxk9gSUAdlMVy+wQJR1mmmXqfXL/x6\n",
       "dZjZygslZjzASj/EhLJQpPUFYiK476ax6yRYjNiaDkONWj69aC8jpT3xuMniVV0DUgI8etPbTFsO\n",
       "vE14wx1mxvBCiZkFcrEfYghqFs9W+IE3Veptmhue2jiZ+xM6iBwlN0eYKg319jeQZUrceK18ekHI\n",
       "8ucEeOCFJhczIO0T4PGr3mZOicuHQl4dZh7jhRJTpEW9s5N8dCc8XWxvMFfCTlbfiPKjesCzKYaA\n",
       "srpqxyc8D/ZvbbJe8nRVS4u7pQAp8rQSM1+XjpNvWaOPx5WSQL6WJ59AFhJ81HK92lqiiXpRBgJ0\n",
       "AcIjsZt8SudCFsNj3XwIqmNEMz/wAevXq2nGkMW8UGKknFfuX/TQcngkqoU0m5hyI/e3ofzIM51L\n",
       "2oQU+gxZ2rN97RH+gUzeSEJRu3vriyECMZYVD2I2A/TTQenSzW2OymtcH4KQLurF2U2+ahMgvLhj\n",
       "MppcIuW5HIbHWY+WwaILoplTLINk/Xo1zRgylRd2JFPzrEcQGU/PA3LpKDqSiQQZ8+EGNAAmH/Y8\n",
       "WWgQxkh/8k1smhKWzXgrkTWhlHa1xBAHMaYVFsosYo7wCARxQrKkWxu6F8DW96uWr4l610YvlER4\n",
       "x/aSNVH+IJfSagznWw+SkkaIZtgOJurbq2WGywheGDHbyA4lOHbR6UQFnaqkdpYfC0DZo/MxMdFh\n",
       "bPokIigM5970IkaAAOwFlW5sZTq7Fhi6evJSimv7JEAcxBhWiNZkfTYpq+g4oCv+bosY3TzyMvRB\n",
       "jXeR7n0UFqd+azDe6gu7SYJ0n3JFgNMtJ0Q1kxhLX09fr8W3V9PMqKe66Dit4IURM4/04tqpqVhx\n",
       "gnYnrWVUFmnLop9PQcTIezgXIXsfkYAXvYjBEOp65PP0MwN4Rg/yDIEBcdIXeVghX4FZp8vLeRR6\n",
       "1SSGzeuiLNJDVMd6lXYwu2yhr8niBcteBt7uC9tUhEykqXSLjeBkZR1uAZMYSy+RyTVF8/bKHDq8\n",
       "cjPq6H2w31j+VxnEkPQE7/0K/bJsg0BrWjjFA1+6E58uD2TDKptoB9lYYE8mYT9cXumMZBRiS1CH\n",
       "NXQwxHjkqmPz7hu+PD0rrjtiaQ9idjU2NuqWFTJyMXsLATb0zARp9ZVmg5gAta/kkB4WalgPdDXH\n",
       "LnFq8GGWUsHG231hNQmsvlQyYBlzaMFBfamkEixibP26pf3ZV3l4ZQ5Fr4YZeXMNXCd3P/FiH/sP\n",
       "hgYjeA8mySc4o7FxGSGmKeI69g+1br0OC4z1ZVVrqRaDLc4ERSFoGqRB/ov2On29pDKCEUNzkwTt\n",
       "ardIDIN4zJhiywqR4zgkoPWfpOf5K0fhfZogdl/4khG3xWsgR49lZJ0Xm5gD0An1Cq+NU5RmPmPC\n",
       "5S5ickBj5wkjkkF9Viaf4YhkFDJqyKhJX/PeTkKYhtsAiQ6JjLGqLyHlN8go4sKMQ4KVTza7iDGt\n",
       "EBmFp2O6MDGz4d1e9ZHdF7dCTC+9xrKhdJadydJiESN3k3FSEYImWjtexs8CRpPNhpMYGuQuM2Ka\n",
       "AF4jy0syspaD2kxuzQuHlC+JVQ9nqHoNNqXpI7K0/QUoMQS0sRoSZMIXVaOGJkTqBN1BTNqwwtV4\n",
       "C7eiIDHyJx++3JsuMvvi1ojprdd6iC/IsuP7OkDEhIthOsw6Bw1JUvs9BXUkQijHMvzPY5iYV4ph\n",
       "3ZVqSkxDMrQH1Ilv0bMaZS80ZJT99LLXgBRl19NlYkMyWNu6YxmtwLqqLo0RQ0DquN3ngJ0HNSR5\n",
       "w/02ZCBfJeHkb1jhewC8Cdxgd8WXf+c8x2JPT3dvusjsC58yt3b37fD6KiS282G2Arz+tGyEVnVX\n",
       "43LHkYwgJ1AuaEnQdGENW2s9OBz0FMoYZoWGMhMU1XI4p5g1PTFacy2XkczHIzMH946QSM+Km5iw\n",
       "lvesTDgXOJS0oJGeGwCvW4/M2hoSkwZnbINmRTm/zQbV9ujIpVlTi6Xt8G/E3PviIiYIvohxQVMe\n",
       "NRGVB44fuJzfJ6agvHNX/q9M/r/ycuFk6h9v8YGzbANxJAAAAABJRU5ErkJggg==\n",
       "\" style=\"display:inline;vertical-align:middle;\" /></a><br>"
      ],
      "text/plain": [
       "<IPython.core.display.HTML object>"
      ]
     },
     "metadata": {},
     "output_type": "display_data"
    }
   ],
   "source": [
    "nand_if_not_one = \\\n",
    "    Forall((m, n), \n",
    "           Forall((A_1_to_m, B, C_1_to_n), \n",
    "                  Not(And(A_1_to_m,B,C_1_to_n)), condition=Not(B)),\n",
    "           domain=Natural)"
   ]
  },
  {
   "cell_type": "code",
   "execution_count": 16,
   "metadata": {},
   "outputs": [
    {
     "data": {
      "text/html": [
       "<strong id=\"falsified_and_if_not_right\"><a class=\"ProveItLink\" href=\"proofs/falsified_and_if_not_right/thm_proof.ipynb\">falsified_and_if_not_right</a> (conjecture with conjecture-based proof):<br></strong> <a class=\"ProveItLink\" href=\"../__pv_it/theorems/eff0a6e00c7ba4cfe35e0f16e55c1de254b2634f0/theorem_expr.ipynb\"><img src=\"data:image/png;base64,iVBORw0KGgoAAAANSUhEUgAAAPMAAAAXBAMAAAAsDWSYAAAAMFBMVEX///8AAAAAAAAAAAAAAAAA\n",
       "AAAAAAAAAAAAAAAAAAAAAAAAAAAAAAAAAAAAAAAAAAAv3aB7AAAAD3RSTlMAq1RmmUTNIjK7EInv\n",
       "3XZ/CtNrAAAACXBIWXMAAA7EAAAOxAGVKw4bAAADH0lEQVRIx71WS2gTURQ9yeQ7adIURHSVgOLG\n",
       "qhFKwYU2+MOiYtBNEdFKEbEU1I0gVBqXQiVdCFpBG0GE4oe2GxdZtBYU/0RRcVMY6cKN2Fq0rRWs\n",
       "931m8jrOyyJFL9zMzZz33rnvft4bYBlyRqpWwlWnLkMSaaEk57xHBC3d3KOkSWasqYl6vVSS0y7I\n",
       "GPjWsPIaMOkx7RB3OwPsYsbJWpjNdqEk/kX5bsQG6/qAVB6h4t/zNvLfTuAiS0lfLdSBjFBmpkTu\n",
       "zA822EOhPpaFkdVRN4H7FUvXQl0nleThaF5kf3NOgi30ooXon+uo64owyO9QTaleJ5WiZk0J5+MR\n",
       "O34p0i4KRYeOOkS8ryYmXtREvVcqxRubMrLw7Kp5Btz6SM9hHXWM6nsPcJ3/cVVEwCknDXUH7E0d\n",
       "RGEIolzXCizy8+snjjWzn/0TTN4soTaoQM8izBvMfMpfXfpeauWJi9oU9/IVOgcleSsVyKKHLxFJ\n",
       "Ii42kJgDGlkkGnW79o8RRTHGayM2I7wpIzG2hHpUKUIHJXksFYkrO1M8x748EuIQidKg2DwZBR11\n",
       "ZJroLVFlba/5w0cdMa1SB3uVI8lBVeoHQH2ZGXcodtxAPUXB+E3GER11kO2gfRu3reOi6NO4n1Gp\n",
       "E6Gk0lA2qgacejc+Zh8o2zlWoEG+H2Rs0OXaz3wc6eQM2C3OgsmmVVCprUB7hdpBSW5KDbL25KEo\n",
       "O6f5FPVVgc3botu1wVLUzXfVhi/81VaYK1TqYJ4nN9bf339DQWXfMO1mg+fYaiwzUV6FXTTxSdHp\n",
       "Pg/qwJAoDjamlOLFSSv35BTqQGl4wU60gpJcFjq42An/wCyt5GMLRBj/6sWGhlO8Ot+7eCn2L3ns\n",
       "4znnAqQ1uQvjdPaqzWUhPF+hdlB2dOWFVr2wyzrkgnqT1afNIYQXYL5TAs4SOYO78pCpoCy+WXhe\n",
       "D+4rxlt2OEMewTxwIjKO5l+l1rRCvS+J27O5XtnaFZTJValV5Lw2HO7L0q/YURXwvNoGpVYRrWdR\n",
       "9xfSYQ11sOjpuSW0yieU9hPss/tFRkNt4L9K+F8T/AHUusL05O0dUAAAAABJRU5ErkJggg==\n",
       "\" style=\"display:inline;vertical-align:middle;\" /></a><br>"
      ],
      "text/plain": [
       "<IPython.core.display.HTML object>"
      ]
     },
     "metadata": {},
     "output_type": "display_data"
    }
   ],
   "source": [
    "falsified_and_if_not_right = Forall((A, B), Equals(And(A, B), FALSE), conditions=[A, Not(B)])"
   ]
  },
  {
   "cell_type": "code",
   "execution_count": 17,
   "metadata": {},
   "outputs": [
    {
     "data": {
      "text/html": [
       "<strong id=\"falsified_and_if_not_left\"><a class=\"ProveItLink\" href=\"proofs/falsified_and_if_not_left/thm_proof.ipynb\">falsified_and_if_not_left</a> (conjecture with conjecture-based proof):<br></strong> <a class=\"ProveItLink\" href=\"../__pv_it/theorems/58d417d70a98bd9cf35b616eb760abbe71e9316d0/theorem_expr.ipynb\"><img src=\"data:image/png;base64,iVBORw0KGgoAAAANSUhEUgAAAPMAAAAXBAMAAAAsDWSYAAAAMFBMVEX///8AAAAAAAAAAAAAAAAA\n",
       "AAAAAAAAAAAAAAAAAAAAAAAAAAAAAAAAAAAAAAAAAAAv3aB7AAAAD3RSTlMAq1RmmUTNIjK7EInv\n",
       "3XZ/CtNrAAAACXBIWXMAAA7EAAAOxAGVKw4bAAAC70lEQVRIx71WTWgTQRR+2fxv/kFETwkoXqy6\n",
       "Qil40Ab/sIgY9FKKaKVIMRTUiyBUEo8eJD0IGg82XoQelNiLSA7GguI/UVS8BCI9eBFbRa0/YHzz\n",
       "ZjYmszt72KIPvuTtfrP7vXnvzcwCLMNOCigt6PjoMiye4UA7bT/C31I9exiRZM4aV9LrBdBOSJR3\n",
       "+lNq5WWAeZvHDlLYBsAu5oy7UdZHOdC0trg3a5LRKYB0EQIV63Mb6TcPcI6VZMqNtM/gYG6a105/\n",
       "Y5IFTPWRLHizKul+oLgiGTfSUQG023eLvPqbc4IcxBuDKP9YJR2tgBfjDrgq9ToBzFprgQcfC5n5\n",
       "SyMmMBVjKukA6j5rNp+4kt4rgPmGTYZoPLNrHgFce4v/t1TSEezvPQBX6ELqCF/vpbVfxsCc1AEo\n",
       "VYG361rOhX58fEfcAPvZ12T2okfaiw16CoK0wPSHdOv8l9oQFS7c284Si/ZSACALBXpFKAkxHmJ8\n",
       "CaCPZaJPNWutjhKVCPVG5DOPpgHxulVaZtHuC0D84s401dhThDjfRMI4KPIdnZJKOrSI8i3eZcPP\n",
       "6c+DK2LRKi2z3dI3ARIN5lzH7JADCcyC9zc6h1TSfjaD0W3kt47yps/ADcMqLbPdCce1G6ubG8p2\n",
       "4ko4yPMVnQ2qWmssxtk8ZQ12871gvn8VWKQtLNpVAT9bnpSKRmc3X8B1VWI73RbVrL2sRJPUIsPw\n",
       "gW5tBX1Fl/SdcrncsGHFumGYZIOX2NtYncPUhRMY0YNKZ/XZSPuqvDnYmFqamhPfXMj1zjppw6Jd\n",
       "4Jhp50Gb/oZv8rAhIaa/up1KHadd5rWki7l/SrmP5f5mFAoUwhzuvUVZ2sqyravI4XhgN1TM2e6T\n",
       "LJHRqxD8CforqdZZG5blNwu2x4N8xNjbjs6Qe6DvPxaag4FftaGM3GY2LLNLAg52RpkO+bDUuvyw\n",
       "ZbgmXc8IOJgysrD8hTTiKD0iR97icPiEUn6CvZdvGI7SBvwnC/5rgT/QaMFux9fY5gAAAABJRU5E\n",
       "rkJggg==\n",
       "\" style=\"display:inline;vertical-align:middle;\" /></a><br>"
      ],
      "text/plain": [
       "<IPython.core.display.HTML object>"
      ]
     },
     "metadata": {},
     "output_type": "display_data"
    }
   ],
   "source": [
    "falsified_and_if_not_left = Forall((A, B), Equals(And(A, B), FALSE), conditions=[Not(A), B])"
   ]
  },
  {
   "cell_type": "code",
   "execution_count": 18,
   "metadata": {},
   "outputs": [
    {
     "data": {
      "text/html": [
       "<strong id=\"falsified_and_if_neither\"><a class=\"ProveItLink\" href=\"proofs/falsified_and_if_neither/thm_proof.ipynb\">falsified_and_if_neither</a> (established theorem):<br></strong> <a class=\"ProveItLink\" href=\"../__pv_it/theorems/e3236151d2416bb5fd8044ef33a4111d8a7396080/theorem_expr.ipynb\"><img src=\"data:image/png;base64,iVBORw0KGgoAAAANSUhEUgAAAP8AAAAXBAMAAAA2MYQWAAAAMFBMVEX///8AAAAAAAAAAAAAAAAA\n",
       "AAAAAAAAAAAAAAAAAAAAAAAAAAAAAAAAAAAAAAAAAAAv3aB7AAAAD3RSTlMAq1RmmUTNIjK7EInv\n",
       "3XZ/CtNrAAAACXBIWXMAAA7EAAAOxAGVKw4bAAADDUlEQVRIx71VTUhUURT+5s2MM/NGnyOItIkZ\n",
       "KNoE9SIJWpjTL4lEUhuRKCMicqNtWhlOyxahSFBG6LQJXBgmQsQsMiMy+mH6oZ0w0KJN5FimUpCd\n",
       "e+59M868uZM64IFv5tz3vXfvd8/53n1AxdGjUPaG9TLrCCsmQXG19B1ntc8KJiKSbRUI2KlA0V1E\n",
       "7V+pq7ucgGWXeOw0iyfmqEgubXx9s1OCwlhR1yYc8hXgWQa6Sjy3i3+JuU5/gYGNC/DZEiKNyp6a\n",
       "nxUX+Av4F4BGrQBiqpJAOLZxAdUKFI+fJqQr9rTJC17avZdEVCd1AojxkvqqCiywQ4H2m5mTG6kJ\n",
       "qop6sjT3S4KtEyCYt7OzrysQ0KpAHcBuW9lSeap6AOZWqko4ohMgmOPAXR4U1clXOExqBFxQAE6h\n",
       "fxzS0tsl1z/8vUFo8rJJT8yKeF8gQDBXEGCB5gxfurGQauFWhgrNPpPPgyOtk3ecwQcFII4+nigY\n",
       "QY2UO9cD47l4PaZ0FRBMKBlmz4R/SE1pWFNuAYqV0QR8c/IXCrBuHYly7z305meYu0cQxgxmdQIE\n",
       "Y2SkB9vfSePE4c26BShWRj3Q7BLwEKhNi+QB1YsTzBOaSYtfWwFmOg9wnjkvjRPDmO0WoFgZ0zA/\n",
       "uloQJ/tPOcfQId7eT/qJUnmNtM4DzEzwQWXhGF/q+9K4BS4BDqvOl70HE85gWMEvXmcuXdr5KlhL\n",
       "JGJRtHVAVwFmetk67aqtTTDrVwl4MjQ0lM6xckQ2uR93Jnqk0CseWRJziv6HhMAqKsgZsTvfuE4A\n",
       "Mx7eTWsqmlT97WsrrEAkz/KIbBL45ZA3JUZXumCMLNJ8HnFjkFR4RubrGgb5ZGorWp268Ya7kWcs\n",
       "Wjch+4tziWIBOZZHZBP/skPWJCTKxbU1MPR1rI2Z4wj8hvmpyAPxHKte9yTGci3wxiXKxeH/M75n\n",
       "ME9eDE5j359US6zYhDlWLtmdmhzMk7cV9KH/2LoYY1Uect1ulJxkVEEfoZ41Mx1lBXSU3kVGQh9f\n",
       "187YZQXY2NQIbM4y/wBGt8cR7jUyugAAAABJRU5ErkJggg==\n",
       "\" style=\"display:inline;vertical-align:middle;\" /></a><br>"
      ],
      "text/plain": [
       "<IPython.core.display.HTML object>"
      ]
     },
     "metadata": {},
     "output_type": "display_data"
    }
   ],
   "source": [
    "falsified_and_if_neither = Forall((A, B), Equals(And(A, B), FALSE), conditions=[Not(A), Not(B)])"
   ]
  },
  {
   "cell_type": "code",
   "execution_count": 19,
   "metadata": {},
   "outputs": [
    {
     "data": {
      "text/html": [
       "<strong id=\"unary_and_reduction_lemma\"><a class=\"ProveItLink\" href=\"proofs/unary_and_reduction_lemma/thm_proof.ipynb\">unary_and_reduction_lemma</a> (conjecture with conjecture-based proof):<br></strong> <a class=\"ProveItLink\" href=\"../__pv_it/theorems/5980237128016ed57e6b7fcd22ac97b9e8f332320/theorem_expr.ipynb\"><img src=\"data:image/png;base64,iVBORw0KGgoAAAANSUhEUgAAAOUAAAAVBAMAAABLdTQ8AAAAMFBMVEX///8AAAAAAAAAAAAAAAAA\n",
       "AAAAAAAAAAAAAAAAAAAAAAAAAAAAAAAAAAAAAAAAAAAv3aB7AAAAD3RSTlMAq1RmmUTNIjK7EInv\n",
       "3XZ/CtNrAAAACXBIWXMAAA7EAAAOxAGVKw4bAAADW0lEQVRIx4WWTWgTURDHp5s0u9k0aS+CemlA\n",
       "EaVqKxTBi6S2ilDEoJceRCJVxBY0KgjF2kbw4sE2iKXGgw0ehB4qaUFERYyHgvhFFJUiFpYWEcGP\n",
       "qtAqIvXNm8lmP7Lrg9283dn/+83Me29eAPxbGr7McJc7qsXmbqrfYKqHyN5icbhtPlBvjuQpgINV\n",
       "BHOeQ50BqDVI1IDPa7w+bAInUynIfmhBONTi+l5Y98xie+kynRDXPIl24vNRD6SeYtKUybxJlmbB\n",
       "hB6XgKyby4+ReMWbZfQ0L0XnMVFZD2awhUj6W5PZTpa2JXFrdQna7cyJVGWoRjGTgYQUIdrijr3V\n",
       "MSm2JVlmFimAs7/QnHcKinbm/ArTcudhRtyfSFFAhBLyms51TIpqWe4p5PlA7AemyjmhbDWZpYvm\n",
       "kjW+YWDdJHo+O/vUi9nJpCY549gL0hJKKD8x2gbnXBRsTKUQKm+NIDSjg5Mk2g1wTb7Ou5ndTDoK\n",
       "a7lHodXGtT/iJyDDsixUDrzMDKWVBHf3wTD6s5VEJ0GV7uqP2bnew6/L8/uKSFoDRPOc5Th5rX7H\n",
       "T4sOH8lqMsX6fMfdBAwiZSOJwvlIUi4LnKGhVSNgFE6t5y+niVmTgZhBzDr57aeOtt/iR1twrrmk\n",
       "jbkS4CvXlisdjbgkhkmkGLSEul4I/0WiBTNyw84Uu04vWZi6cOAvprjoy8TdPUHdWwD1YgQ4wKLU\n",
       "dvnaOCTrBDJP37PnFivCDktug+J6j7ktOebTnlvcgsE4pxaiyNrEoilZTmKwC3RZG4yOZxlmXidm\n",
       "icolMsMiRNjPpSzgrCXSajKjXJdFbC1ULWEbi/rlEuqCz9KEcV74wGNMSmYARwpnJBNXuooej6XN\n",
       "rVFpvHmYKfN3FW/9OMASbT4pqpFRdd5vzAeO5XKXcT4jPMYlyazBXaQZkqmVQB9bzMOG5V4RSNLB\n",
       "1GSyZR5EW423IXGNL/eAMrYoYG+sohjAYEYrUJyRWHntZ1znyowFcc61oWf8j0a1ZBUJ1+rjVBwE\n",
       "c4jfYk12MFtdFd3aWv2ZeGaYouAj0PcegT4Rl3K8N2fW0VEXM1w56KscR2H/vwF9VUT63dyI7cW4\n",
       "i6ln/QB61pc5+l+v5HEAD8z/Q9N0pJjGj1UEA77/dNJS9A88c+sNnrYSOAAAAABJRU5ErkJggg==\n",
       "\" style=\"display:inline;vertical-align:middle;\" /></a><br>"
      ],
      "text/plain": [
       "<IPython.core.display.HTML object>"
      ]
     },
     "metadata": {},
     "output_type": "display_data"
    }
   ],
   "source": [
    "unary_and_reduction_lemma = Forall(A, Equals(And(A), And(TRUE, A)), domain=Boolean)"
   ]
  },
  {
   "cell_type": "code",
   "execution_count": 20,
   "metadata": {},
   "outputs": [
    {
     "data": {
      "text/html": [
       "<strong id=\"unary_and_reduction\"><a class=\"ProveItLink\" href=\"proofs/unary_and_reduction/thm_proof.ipynb\">unary_and_reduction</a> (conjecture with conjecture-based proof):<br></strong> <a class=\"ProveItLink\" href=\"../__pv_it/theorems/2cfffd79f0c99d588eaaf89cdc636faa817539800/theorem_expr.ipynb\"><img src=\"data:image/png;base64,iVBORw0KGgoAAAANSUhEUgAAAK4AAAAVBAMAAAAtL8hrAAAAMFBMVEX///8AAAAAAAAAAAAAAAAA\n",
       "AAAAAAAAAAAAAAAAAAAAAAAAAAAAAAAAAAAAAAAAAAAv3aB7AAAAD3RSTlMAq1RmmUTNIjK7EInv\n",
       "3XZ/CtNrAAAACXBIWXMAAA7EAAAOxAGVKw4bAAACwklEQVQ4y4WVTWgTQRTH//nqbnabNFdPCSii\n",
       "VGkEEbxIaqMIPRj00oNIpEqxAY0KQrHaCF5ti1hKPJjFg+BFUkFERayHgvhFEJUeDCyKiKBYFVpF\n",
       "JL43M9l8bLYdmOzLzJvfe/Nm3htg9ZbHt0UlKkFrmvNoGtZq0QTuOn+k9EEuzQKHOy45C4RsIMby\n",
       "ei9uL9q5/rKQu5bIaLLTkpPUPwJ7WB7xwBpZRbvjcG/KmT7iYrTDEn+NrVq4yJua9uAGk5JmvHO4\n",
       "A3Kmf4V+tndaEqewB1KMhpnw4HYrWnRbps6dFxPmud88bbmX3HtcoN9nCJBLXV7h3ahoEX1aSf6s\n",
       "mLgQ/cnbdQdYs7+zk8PAy2r1uRd3UNF6xQmwFJTHlvL/Yq9j7jCgj43NAfuAa2Kow6aGFW0EG5Qk\n",
       "XQwl9L/0CbDzwapoysQBTLHlHcApaGLMeKoONHf0TT3eryVNjyFiqYgkpFfaD1add3mSwgTTtgBh\n",
       "y8yIo+CITa6bgV0+vUlpLUiur4CoLbndQvdLuv8PffQlVx5dTcf5KKbIqC2PbegV+UFBIa55o5VL\n",
       "d9aoNHENMvKPw+Hy9zbQQ5o4RD27SwzZR0SeMPfMg9Y4cFbsbopDkPp7jkOlPb4p0mBjWzmXRNpE\n",
       "sReGyA87/aKguNcltyLTnrlhchUHVboG2vMplJQZjp3Ux4WpIXwVw+zvpU9Kb05wA8wKFwSXr5bG\n",
       "HpXyzqVrtHFWXFEX1Ce8G3wYtwLHi8UrHF9T6V0WXB/fQN0WXL0Co7RsYXMtR1vOtGJv1UbhLy2T\n",
       "tbfOQQITBb0s/TWjajRScNWzxSbOec8CXKlLFLKehEwQ4k6qUaof7dzmWjOAVeqVFJ7A2H8MY+Sf\n",
       "/0Su6OT9rIsbbrwSnmUQY+319n5xpjViLq7RgIU9H6LZtd4hzcYj531bkKXMmfzs+Xrl8R/iEMLW\n",
       "JcE7QAAAAABJRU5ErkJggg==\n",
       "\" style=\"display:inline;vertical-align:middle;\" /></a><br>"
      ],
      "text/plain": [
       "<IPython.core.display.HTML object>"
      ]
     },
     "metadata": {},
     "output_type": "display_data"
    }
   ],
   "source": [
    "unary_and_reduction = Forall(A, Equals(And(A), A), domain=Boolean)"
   ]
  },
  {
   "cell_type": "markdown",
   "metadata": {},
   "source": [
    "**Unproven**"
   ]
  },
  {
   "cell_type": "code",
   "execution_count": 21,
   "metadata": {},
   "outputs": [
    {
     "data": {
      "text/html": [
       "<strong id=\"from_unary_and\"><a class=\"ProveItLink\" href=\"proofs/from_unary_and/thm_proof.ipynb\">from_unary_and</a> (conjecture without proof):<br></strong> <a class=\"ProveItLink\" href=\"../__pv_it/theorems/b128ab1a3dfd72722b48f81904ee0b9db19847a00/theorem_expr.ipynb\"><img src=\"data:image/png;base64,iVBORw0KGgoAAAANSUhEUgAAAG8AAAAWBAMAAAA8xt9aAAAAMFBMVEX///8AAAAAAAAAAAAAAAAA\n",
       "AAAAAAAAAAAAAAAAAAAAAAAAAAAAAAAAAAAAAAAAAAAv3aB7AAAAD3RSTlMAq1RmmUTNIjK7EInv\n",
       "3XZ/CtNrAAAACXBIWXMAAA7EAAAOxAGVKw4bAAABrUlEQVQ4y52TPUsDQRCGXy9f5I7E6y0Sib1p\n",
       "LGwkhV+gYNAmwSYWIqTxbKwCOUtBMIUg2niFjSAS01ikiHaKKP6BwP4AUbGIYhNndnPHJUjgHNid\n",
       "2dt9duZmZoH/yC4Nk41MQHCbxhwbW8E4rUvTHo1YLRgYTllA1AGMdDDwpmUDoSzBwbiYeGdPT+32\n",
       "Y8BIMUnesAicyrUj55ycHyyppinnGps6IDxwFYd1UjuIyZLo9/KrypPZO0N6ivWlTX5cyaHK+3HH\n",
       "yPPS+BwAy1Lr8o5WGpF6j0sezab4lCZUbgrP/WBoTOow3xo5EOoilitg9IWN0oxci41+MB53WCek\n",
       "kyh9aHiRInHLRkNelcR8P5jh2EzZlhDhEjChuAjX74OtivyLAl77wRon20SRz9pJclFUYIXz8sXW\n",
       "iM3zUjPl+EEti3XW41y45vUPsC93LrplaGcdN1MUKaq2H4xzvknzcYHYtxfqgKxRqtJ+kF5aRKjk\n",
       "8F9Rrd7+7KI76CubfjAn80eeLSybOO/kcTy8EQc7x6u7XgsGYsENygoIGqr5Vc8OEXXvSe91CO/V\n",
       "uMqVXy78WfrRo/ibAAAAAElFTkSuQmCC\n",
       "\" style=\"display:inline;vertical-align:middle;\" /></a><br>"
      ],
      "text/plain": [
       "<IPython.core.display.HTML object>"
      ]
     },
     "metadata": {},
     "output_type": "display_data"
    }
   ],
   "source": [
    "from_unary_and = Forall(A, A, conditions=[And(A)])"
   ]
  },
  {
   "cell_type": "code",
   "execution_count": 22,
   "metadata": {},
   "outputs": [
    {
     "data": {
      "text/html": [
       "<strong id=\"unary_and_is_true_reduction\"><a class=\"ProveItLink\" href=\"proofs/unary_and_is_true_reduction/thm_proof.ipynb\">unary_and_is_true_reduction</a> (conjecture without proof):<br></strong> <a class=\"ProveItLink\" href=\"../__pv_it/theorems/bff9f4c443183daa97b608de1d9597667ca5f3d90/theorem_expr.ipynb\"><img src=\"data:image/png;base64,iVBORw0KGgoAAAANSUhEUgAAAREAAAAVBAMAAACTXMcfAAAAMFBMVEX///8AAAAAAAAAAAAAAAAA\n",
       "AAAAAAAAAAAAAAAAAAAAAAAAAAAAAAAAAAAAAAAAAAAv3aB7AAAAD3RSTlMAq1RmmUTNIjK7EInv\n",
       "3XZ/CtNrAAAACXBIWXMAAA7EAAAOxAGVKw4bAAADKUlEQVRIx4WWTWgTQRTHn9tt0iTNNhdBvCQg\n",
       "FKRqcyiCF0lpFSGIwV56kBIpIsSD8SKIrY1HD9ochIgHm2sOlVQIHkSsh4IoSi0IIg0EeiiCH7VC\n",
       "q4ik8+bNtLuz+9KBf9p5s+8/v/nYmQUIKkWp75+p5jRLu1Ew/jNKmHPrUIodHnFSUg1dj+V0FDvL\n",
       "A0xwrt2tYDdRbnI5E0oJrBzxtg2QDJIBqoQ2hHnacLObsiRgzd+Tyrtuxs/LlI/SDHUGg1c9j0Tz\n",
       "JCSJpTQJRrAMChIo+Du05HSEqmZc5VntgOk4IX8LpLs44WXvANMkJJnPaxJbzcPwtvgZ4ki6MmZc\n",
       "5dnJIkcyRMJBxFKe9l4lJFk7qEl61Urd/oOVKkMCb824ynv+qsSRoJlQl0AOedv7lZBk+Z4m6afG\n",
       "O84mLkKaI5k045QXbv1McSRohnrfbL7ztmeVBIlVDxUVSZYaM9ZvZEtwJAtmnPJsGExzJGiGOgfw\n",
       "WAZ2J3xSSZCEilZGkdBgu1M9/3A75N0vjJvkJBgtlHcRZuvuF8ZNgmaoGxCWGdE3mmRFqSH38xdF\n",
       "sqLGFv6F3S5yc3LMjFNeBmYS3JygGSpSpeMitqnbl5QEySGAH4pkSbZ9HR3+K/70bHAks2Zc5jkP\n",
       "R5NljgTNUFaLNuz4Bz8JngXzbpKo6O4/LhI7J5cCSZ4C9C1zJGgmDfOnZb112b86+HrbKdfq2EKr\n",
       "2O0yt0+Om/tkhRYH4ovcPkEzafhMHpgOnNUkT5QaEKd7RpJgBMbUsd1V5ubklBnHvO403RLBc4Jm\n",
       "0nBKoo/DN92+oNQAOVuPiAQjYRzXnHiv7TpHkjXjmDclFNnmSNBMGh6Qh1/2RVK/xveVGnAYqw+I\n",
       "RESic1tVONq+JqY657+G6bz4ZMZFXq1dAGtuy08/Jn/RbM/QAZjRx3G8RPLexXH3aT3NfqD49mW8\n",
       "BPuUaY+hoOvTxzHeYigvieduG+Fcbd9J6r8TzTLiNrRfQ/TCFV2rkIzvk4pr5GXO9ZY/VNkHBM04\n",
       "wxrJIKntPRBhPwgrwW6dCppxhuGW1Ev9Hbua01FV1jlXpxjs1qmsk3YAloXyIjf5hf4AAAAASUVO\n",
       "RK5CYII=\n",
       "\" style=\"display:inline;vertical-align:middle;\" /></a><br>"
      ],
      "text/plain": [
       "<IPython.core.display.HTML object>"
      ]
     },
     "metadata": {},
     "output_type": "display_data"
    }
   ],
   "source": [
    "unary_and_is_true_reduction = Forall(A, Equals(Equals(And(A), TRUE), \n",
    "                                               Equals(A, TRUE)))"
   ]
  },
  {
   "cell_type": "code",
   "execution_count": 23,
   "metadata": {},
   "outputs": [
    {
     "data": {
      "text/html": [
       "<strong id=\"each_is_bool\"><a class=\"ProveItLink\" href=\"proofs/each_is_bool/thm_proof.ipynb\">each_is_bool</a> (conjecture without proof):<br></strong> <a class=\"ProveItLink\" href=\"../__pv_it/theorems/06c6b5cf07ca61ca4c47790c2595e94516eb02790/theorem_expr.ipynb\"><img src=\"data:image/png;base64,iVBORw0KGgoAAAANSUhEUgAAAsYAAAAZBAMAAADAsfVVAAAAMFBMVEX///8AAAAAAAAAAAAAAAAA\n",
       "AAAAAAAAAAAAAAAAAAAAAAAAAAAAAAAAAAAAAAAAAAAv3aB7AAAAD3RSTlMAq1RmmUTNIjK7EInv\n",
       "3XZ/CtNrAAAACXBIWXMAAA7EAAAOxAGVKw4bAAAHEElEQVRo3u1afYhUVRQ/8958fzxnwSIRdWRL\n",
       "FtaWEddAqBz8SMWgQSHMNd2yED+oMUHYqHaS/hE2HYItd+lj1iSQNRoFoXahVtOyzFpiMVkceIuW\n",
       "rJptUlZG2bn3vjvv3Hlv1kGN+mMuzHvnnnvveb/7e+ede+7dBaiueIrfQa3cRDGK31bb1V9jy7Vk\n",
       "btw6u8bxrXlpwl195vWrJ+8AWCM4jrNbfRUce9hNS9Z4paURf/o7P9fduVvVh3zmtp40GEnO8SKm\n",
       "Wl8Fx940u2VqvJISbmXXaA5gWraM42Qkg+qNnOOX8RrIVcFxkHl8W41XWrz8s243AdamyjnWE0hY\n",
       "M+fYnweIJKqJx+ydHKzxSkuUX+ehD88zuThaLLaWOEYpmmcc68mqFjS/WB9ba7zSMoNfp+FvMw+i\n",
       "j16w/diztYC0JTlvJ4vFE1VxHC0WzxRqvNKyjF+/AOg5zYTARjtWXPhxMt4jcc7xEoDuqjj2ZiGU\n",
       "r/FKyzp2Cf5xeWSdICljc3zqmyEkS2/lHG+BQLwqjrHbFrGa0oYKrN+mlyFWEi3jYjI87oL/L6TC\n",
       "Ljq+hTN+A5iZVDcRGCuMOejV2gDnOJSPpF2NBoYOwf1xsgfphkNc3k/ylPBx9zkq6h2/9C8VY0aW\n",
       "9fWVQE/s73V5FbQLiIRnjtuT9mfHIcTRaEMof0RFIOV9rcxB2/TUkMwRjnE+kcfI70zqKGLJWRxD\n",
       "rgV9fIxzrJluS97OSZ0wPZL35gnHTdaS9wlJQyJXXJGpan0QjAEmPJ7giHjxoRO86RxJu1gch+OK\n",
       "SX9eReGn/JQ3SpUFgcvkERtVIE5TpG+LRYtZeK6BcjwB4el/M2kf9WPIhdD2gJUrPOiS+C1huz8z\n",
       "FaF7ab/OExRfh2l3XPm1K8eq2pMCfYy5wJf4k4nkTJzC3Y6BSheLY777sU3OKqgoZtGFuLxRqiwI\n",
       "TCaP0CerQBymKBzknNNiFiJ7aKzYhXHC8yuTYirHyJk2KDg+iC9TX7BzxJjLPiaUzgGcZR0b7nlJ\n",
       "4Tgyg79mw0/it/mEK8eqOpqA91nAakfvCloeFmBuud0xkHaRHMdUk7luFUWOLtnljVJlQWAyeUQI\n",
       "F3EKxGGKwsFdBKfFLGyVkeZtdvkJV4td/As3TIXjJmQzJzh+AfG8uzoZjRsMGJMyYT63hsieFspx\n",
       "4LCYrLeVLAQPua8Pirr9bPNd7D6F+vag68uZolY5jm2KSS3ZoqCw6u6NJZWAwGXyiHpfgQJxmqJw\n",
       "tJSgxVz4lYzsB9hlM343n4kg86TNcSFyEf3fWxAce3DE8z/AhCxTcCnv48tkA6RGlXM3TpQvi4Et\n",
       "YL3wlXAJfE2LHKEC1aQ8AOGJ7H5UeDAfG+VfoGPsUReOHyuZbMOphHgGyVEsP5eWdTk3u1FVCQhc\n",
       "JihyuI4TIE5TFI4vJ2gxC698b6lexd+k63V1GyxX7+kU443NXfzcDWJpcrY5FToglhDSatA3dHW9\n",
       "hhz3+p1nm97+A9dg+7CVhPdPy0fhA0dujmpSxdm1s5jKIqpmjY2y7yrhGCu6qBxPlyaD9+bZGSE6\n",
       "n0AxEB6TdemYdqOqEhC4bKPQkriQESBOUxROMCdowXgsQ2isPH1peauobIVfpOfHx2EU2oNCWhgM\n",
       "FoQf+5qcHJsQwERlWOaM7dkAvh5HKtme1efPXtQoMBwBWMukOvydt8Z6MDAZGcdY0aV5RSPheIc0\n",
       "CbE8V3VbKDLBAVm334lsbK5vXv5hSSUgcNlGEWKZKwHiNEXhaClBC3Isc2U9dYOkegHhODCG/jvX\n",
       "C71MOt0gHoVp6YiDY/a9XOEIewFWYOaCzt/JKuGCvAi1NgrHtALTBK5BeIgJ+9NgpK2xYcx72CfX\n",
       "SQaWujTlYmVrnngScsxOsNdIFKG0VbcM0MamXDTdCJZKQBCyjaIep2PaQFxMUTi4onVbHO+UbLwx\n",
       "PsX8QFNy7IvDethyAToSKF1MQhu6XfBURhzMKxw/HIe9V9MMYUfCexjCjzzNNtlYCX4OHRl2kerd\n",
       "4VZvAoJH4L4/+5dyIbzwY3ZowsfC3mWX83yDjg1iYKbUxZPdRjgOZcAyiRx7WbiSKJaAVbcM0MZQ\n",
       "9j2YL9sFBCHbKFJ8Z1EC4mKKwkEYjBbtmU1dpb9U7Buf41AGXP7WZAXv8EddneV7aaUM232hzyAV\n",
       "WxrUCjGdRFet0lg7/kopBmdX2RzbQTKmbsciebPy/GLQCIPj/NlmWK32GeOZYnD2udASMMfl+Dy4\n",
       "cOzLVz6vULaBJxKlvv7rf9GBUgrHjbQHH7JKNqyqNLbUoyT1QGOS7KUXy1Xnknp+/ez1wcrz68EI\n",
       "MLXyn20YCjo/BqSyKQZn8U0edJRzrEN1HDv66hVNJB1CeackuHUhHEf+D8d9evo2cVz53O2/+f+K\n",
       "zG09xbulcpNHeUbx038Asr81wtKCZs4AAAAASUVORK5CYII=\n",
       "\" style=\"display:inline;vertical-align:middle;\" /></a><br>"
      ],
      "text/plain": [
       "<IPython.core.display.HTML object>"
      ]
     },
     "metadata": {},
     "output_type": "display_data"
    }
   ],
   "source": [
    "each_is_bool = \\\n",
    "    Forall((m, n), \n",
    "           Forall((A_1_to_m, B, C_1_to_n), in_bool(B), \n",
    "                  conditions=in_bool(And(A_1_to_m, B, C_1_to_n))),\n",
    "           domain=Natural)"
   ]
  },
  {
   "cell_type": "code",
   "execution_count": 24,
   "metadata": {},
   "outputs": [
    {
     "data": {
      "text/html": [
       "<strong id=\"any_from_and\"><a class=\"ProveItLink\" href=\"proofs/any_from_and/thm_proof.ipynb\">any_from_and</a> (conjecture without proof):<br></strong> <a class=\"ProveItLink\" href=\"../__pv_it/theorems/2158466c6c7ce0d6279f52e857c0fe5fc295e1aa0/theorem_expr.ipynb\"><img src=\"data:image/png;base64,iVBORw0KGgoAAAANSUhEUgAAAjcAAAAZBAMAAAA/PxLyAAAAMFBMVEX///8AAAAAAAAAAAAAAAAA\n",
       "AAAAAAAAAAAAAAAAAAAAAAAAAAAAAAAAAAAAAAAAAAAv3aB7AAAAD3RSTlMAq1RmmUTNIjK7EInv\n",
       "3XZ/CtNrAAAACXBIWXMAAA7EAAAOxAGVKw4bAAAFIklEQVRYw+1ZXWgcVRT+dmd/JrOb6QaCtA9J\n",
       "RqoQSA2LTYWCP2ttpCWCS/sSaqURkVIpdPsiVIpZ+yYscSkEEhE60eJLWlxrBc2CxtLaalGWtmgp\n",
       "BjaktaS2NYrVWLHx3rkzs3dm7ia3pVCW9sLsnrn7nfOd/eaeM7N3AbkRmvoJ99e4NmXIQmO474aS\n",
       "fiDOA3HuUJwUfV8pI44ksvFFOfB7y0Mjlji99Hy7jDiSyMYfySLQkafivE3O4kUZcSSRjT8Gq8C2\n",
       "DBUnZgIJQ0YcSWTjj2fy5KhScWhPlui2McgiG390kGNnzvq+309NnZa7W8khG398C4ydZ4thA/Ce\n",
       "nDgu0uQ+0MR48+7kmRHFq0Op3SVt1H+uT79qP+fsRjwlBMXPfYYnU5w4DlI7xaEO5YWJ8hC882d5\n",
       "I4NN901MOLN6a3lcoCEPQVEUT0zpnVYP9B0dCdJ4gkOcif43sCrNxGkyE9kgfmjFMB5OmBGTE8dB\n",
       "Jv7ggF8JW7QHAqUCfZIaLxtomrQno2eA94OePKQmjgSlb/op4GqAxhsc4kwoIjHPxAlXBV02soE+\n",
       "8FUzCb6sHGT/D1zgQlWUKA8hv1rJfXGOBviOHE6lrCK6PxJw9EBq4khQ+qZbyR3HT+MLDnEmy0h5\n",
       "KLfsnw8DTxPjuaFpfS1dl8S6CMxQVOejb3nEsZBkVF/hVmRMWJM8hDxVGThMmQbJtVXt6xuna2Ff\n",
       "8BmDg3DiSFD6po9BO+un8QWHOJN3SaqhG7Y4R14HPtyaTqZ0Gp1aOc1KqjPxwUsecSiSZIHnORUi\n",
       "A6JEeQhJaqZnOX1v41dTRVgbbd7ToiCemNI3Hb+1+tm8n6ZNvBvjy+S3HBFowBZnL9HkzV+wLB8p\n",
       "gVlm1PpB2onMrEecvda16afFvIc1o2ieNJNNF/1Nq5/Ve63+tVb6fpzlbd3yktbyjnb3ej2PC8WR\n",
       "oLSmPW1uLOPS2L4suN836Su0nSTYN6YtTogq3I4Cmq0V146tUHaMju4n4ozHPOJYSPSVO0z1MZZp\n",
       "pPzJTUxqc75MKcRb/4M0Ido4wth3wUqJdggjiY+9ngziF0eC0pr2tLn4DZfG9mXB/b4M4p6uWGhp\n",
       "2WF4tixOYRaDKrPWq2qJrZxod3DLQiffNI9mlmkV8Xnk1El/VRGIsm51b1fern9so1YLOS4Dljgh\n",
       "sgr1XJxcE89gkJ7NXbw4EpRsumdlz6bPnTYXnXdpbF8W3O/LIErv46U6+znxObJi1kYwTq3znexh\n",
       "bw15LgiKs5n0c4OyaSXQ8iPtrClLHMmp/cIg4VmcCJfoTPwmtHPUOJSFnrXEIcgTwCUSbphzdCHd\n",
       "xWZeHDGlx49NdxeT2S4aHYMmDmdqNMzX5velyyAk3UodcaIpbMfuKygYxPo1jT3kQqs/5hAKiBP5\n",
       "GtqLr1E29RheSOHgX1n66Fww1JMo5OiLYUNGtIGIQVFP/FveaBna+i+vwBKnYOBg33VyOSN5+gFz\n",
       "zLmQUP4NTpw6lB4/Nt2U/wjraHRlV/nofo6G+dr8vnRtyPL4wFI7gXbtaV+MDi+6E0jXqdMbEmaV\n",
       "L1rHqoRLzQrXQVzjAgea0Pke41jNmNniuZULKUV+XaikuWSM20hXX2MuLk7UlNsmVa8eAbbYJ7sW\n",
       "KpyjY2kpPRu6XEO5xtBpwwXFFv7jEK41hq60X5wApdDvEtpztWQcQyrd8KdLrBzldvaQ00JHpR4q\n",
       "XY8nLYwYWDkBQF0/ZQmaxdK9ow32e/O/Ve7ebVxc+zn9P2UJsymIVF41AAAAAElFTkSuQmCC\n",
       "\" style=\"display:inline;vertical-align:middle;\" /></a><br>"
      ],
      "text/plain": [
       "<IPython.core.display.HTML object>"
      ]
     },
     "metadata": {},
     "output_type": "display_data"
    }
   ],
   "source": [
    "any_from_and = \\\n",
    "    Forall((m, n), \n",
    "           Forall((A_1_to_m, B, C_1_to_n), B, \n",
    "                  conditions=[A_1_to_m, B, C_1_to_n]),\n",
    "           domain=Natural)"
   ]
  },
  {
   "cell_type": "code",
   "execution_count": 25,
   "metadata": {},
   "outputs": [
    {
     "data": {
      "text/html": [
       "<strong id=\"some_from_and\"><a class=\"ProveItLink\" href=\"proofs/some_from_and/thm_proof.ipynb\">some_from_and</a> (conjecture without proof):<br></strong> <a class=\"ProveItLink\" href=\"../__pv_it/theorems/935715fecdd13b5eced5f1c7f41bbb4c2928fafa0/theorem_expr.ipynb\"><img src=\"data:image/png;base64,iVBORw0KGgoAAAANSUhEUgAAA4kAAAAZBAMAAABujna4AAAAMFBMVEX///8AAAAAAAAAAAAAAAAA\n",
       "AAAAAAAAAAAAAAAAAAAAAAAAAAAAAAAAAAAAAAAAAAAv3aB7AAAAD3RSTlMAq1RmmUTNIjK7EInv\n",
       "3XZ/CtNrAAAACXBIWXMAAA7EAAAOxAGVKw4bAAAHyElEQVRo3u1afWgURxR/d3t3u7f34QVEtKDZ\n",
       "YiuBmHCtUUi/vFpTlLT00H/EpphWSlBaPP8R0pbmKv2jhdQEQfyg6MWKUKL0tAqtoRptrbbS9rAq\n",
       "EgycqBWt2mjVppaazsfu7MzsntkrmAq9B7d58+7tvt/Ob+a9mckBeJfJgxmoyAMnVweNctxbKz32\n",
       "L+W+jX4VX5RkhcUxkLhxv54cLFIWE7gx1SOLPvzHn6zwUp7U4q7ecr1qwgbnd6XspaRxpKpqWZY1\n",
       "z1EWm7De5pHFQBr9CVWqY3mikyQW7Qaotrt/t6WUskvC7N8B+IaZOZQjLL6Hs2u3RxY1PHPbK7yU\n",
       "JwGSvDpQ8luSYsyesrRSdmkkWHb1LsqjN+2pnCIsYjIjhkcWYfk9RktFSkiUXGej+Ta7yErlY2lT\n",
       "K2WXSqtlV9A8VO7aX3xPWMQLnJDn1c2MyiKnfJlGrtXo8wYrRjHNyn+l7KIwu28I8XXE/mIpXaP+\n",
       "MDh4zDOL0cHBM/kKL+VJs1XPek5zC542u8652uUFUhsro/pku4zCLsriPIBNnlkMZCGcq/BSnizF\n",
       "F+3Pa2eX2rY2eIQqpeySMHvX5msT+E3CLMriSlATnllEritpteW/cOdVH9MVhGvUEhDGeBweJ4Xt\n",
       "D4DprPvRMjFGUZSyi2Lbf8uA/2vum+mUxXAukga9utThwIm98FTC3vVvgr1E38FNav2o6622y4c3\n",
       "++ZbDW1L8x6X7RHvQuRs8759rLSP7+t1vptgDTujyg0XvEJUBwR3vKMDE1yQHCYA+9Eqchj0WbS6\n",
       "ZSFOVzSmvXfXQ6JdFNv+Mfoc4GB2URb9xRCrwJKsmbQOHo7kAjmbxXpzcXOAW9ZGbriyaLsoBYj3\n",
       "W42nAa64bH55FySvGOT96AHFcQpeOrYQrGFnVLnhgleIKkNwxzs6MMGFsTguQdaWa64S03Y0lgrA\n",
       "2VPwomgXxbZfB35JC9BinsC1PsMqsJSl5uFjnWIqYmdUCCnkCcFO7kGLfnQ9HLJdfClQhqzGeITC\n",
       "ZbDxLmhooQW039pETUejyFktRGvYGVVquOEVokoQ3PF6ACa4sIzahbradwugju3h5wBnvwUdWcHu\n",
       "3PMTu/Y7XtZyu5E6k8XdeBN4Eg/G59acjTdmqXaenu5AzaPv8ixGppGJGQ9xtbT4qusOx3aJGrCT\n",
       "pf5DoP/ssqfiXdBWGE0izZxIKp46qx2pXrSGnVGlhhteIaoEwR3v6MAEFyKbzXoGXa0Wi3herQLO\n",
       "/gRl0baLwuy4jGq3OaoaTRbfQa+q40H4SUsymognTC2jkx1KTWTryxyL6kHaEQF71xiH5137Crms\n",
       "oi/Tca5hIuv9uzOedalWvAuSyfw0dUsxsjXMRRUguAwvhFd9zRlVguCOd3Rggou1GUBbQpQavs2Z\n",
       "LJKEFs7ydvhKsH+GkOu3TYWzh1CqblnOUdVssogqJ/ix71u/wLhsIG9quSAZmDWQusSxCORFg1lU\n",
       "QVRzg7II1Y1gfZOcULFLOGOWFh3lpfacWX16UrDgfFquPtiFyTe0B0mEKMlOcoRoyo1FARhpOCIR\n",
       "vLDeAYw2HC9C8ZYBzHTh5CP0mYQPsQ0wWfThiFqRt2sDgj2Gn33CUpjdh8/O1/JUneT+M0UMMAU6\n",
       "IWZQrQWUZRs3rkUs9oZ4Fql73647sHrA3NT2Veei8JlcVLFLlJWWjrRWlzOrj3oL+vUhR/Xp4Lob\n",
       "Vy6/GSGK38qQI1CrzKIAjDQckQhe6HcAow3Hi1C8ZQAzXfhzFz731JXYDLSXt/2xqFILHIuxxfh6\n",
       "FC5Bh0a1uZqWp3MxWO9gsQjqMMCAmaBQSlfRQ6WEil3ardICS7LmhgdVn+AwZLR+ufogF2XOjKZa\n",
       "8spV6HPRjOBDiSOekSNQq9L0eJ5nkQdGG45IFG+3AxhtOF6E4m2Y2rDgC2/ATJeGhbX8ifVoLKop\n",
       "tax/FVlU4ZN2xuK4OPSCOoQobgxQ7XQNPdKZibY/Mos4194gr9ILsBDdjQbFOtDzqGldqMuTgHX1\n",
       "DugoOaDOQu4dOdiJ3iqctp2Zi/8SHPbnsXlHGuJpM4KOVuoXQIxgWdEdBY5FGxiDIERieJW8CMxu\n",
       "oDCCO8Vb3x1N13oBxlzqu2Osy9ePzmL7B++XMxktqsg8sTPqBeg0gglog5WXqfZrEtrRtNBOZej/\n",
       "hnkWX0jAtttp/CqdRuAg6C+9jo/mtEPQmdGO4Msh0wVVDKTP+qtvvkE6q9NQVvTtQXkdn/t1GtT5\n",
       "iO2yQW8NGPgWfe7+ywA0AmxrvpYDMQKzTlRbORZtYAyCEInhDaRFYHYDheHdTbzh7Ha00vcAjLn4\n",
       "svZa81O7+99esd+Vlp9GRsqZihZVZIAIv9gwZE3/cuM66QROkAHupn1xvhhY2oDBWXHistwjuSIX\n",
       "kLkU/PmYwrVLR7CshfjMnLDrt27zu0aytNhWCRhr4DAOd4hBLRSSXoD52R3nFrOZU7xfh3vxjMRi\n",
       "MOfUHOeowsnOMYO5hkb+BmCombY/Y+vald32k1eMFLgwloueiKd9F+126QiWVU/4PweZRXwbcxUj\n",
       "WVrkogiMNXAYl57oQalzSsYDMKb1QO1Y/bKFZ1Fx0e7JosM16aKJuuJ+r/y6yVEjOCCGwdMzlBIe\n",
       "Hty9AYP/4EdJ5f0G7s0H+Peo6v/3H19XzyT/AfuqxK2U7ZrNAAAAAElFTkSuQmCC\n",
       "\" style=\"display:inline;vertical-align:middle;\" /></a><br>"
      ],
      "text/plain": [
       "<IPython.core.display.HTML object>"
      ]
     },
     "metadata": {},
     "output_type": "display_data"
    }
   ],
   "source": [
    "some_from_and = \\\n",
    "    Forall((l,m, n),\n",
    "           Forall((A_1_to_l,B_1_to_m,C_1_to_n), \n",
    "                  And(B_1_to_m), \n",
    "                  conditions=[A_1_to_l, B_1_to_m, C_1_to_n]), \n",
    "           domain = Natural)"
   ]
  },
  {
   "cell_type": "code",
   "execution_count": 26,
   "metadata": {},
   "outputs": [
    {
     "data": {
      "text/html": [
       "<strong id=\"and_if_all\"><a class=\"ProveItLink\" href=\"proofs/and_if_all/thm_proof.ipynb\">and_if_all</a> (conjecture without proof):<br></strong> <a class=\"ProveItLink\" href=\"../__pv_it/theorems/a95ccdcf0117cdaee6b80cb133c4d57af0dc78b40/theorem_expr.ipynb\"><img src=\"data:image/png;base64,iVBORw0KGgoAAAANSUhEUgAAAfQAAAAZBAMAAAA1VcFRAAAAMFBMVEX///8AAAAAAAAAAAAAAAAA\n",
       "AAAAAAAAAAAAAAAAAAAAAAAAAAAAAAAAAAAAAAAAAAAv3aB7AAAAD3RSTlMAq1RmmUTNIjK7EInv\n",
       "3XZ/CtNrAAAACXBIWXMAAA7EAAAOxAGVKw4bAAAE6UlEQVRYw92YX2gcRRzHf9nbu93s5TbrgyCC\n",
       "yUFRkFh70FjMS7nWVKQRXOODRfpwUqRQkV5BKtVoVp8U0/YehOb6YFYUIcTWax9UmodeLMWiKEep\n",
       "L+LBhvqHSImnQhotcs6fnZ2Zu9vbTeUg9Ae3O/ud3+ztZ2fmN78dgAi7r16EO9DM+tVInwLcobZ9\n",
       "M6P3arhpmx7dzJLT0ZDqoxvk5SBJj6Jb+LSlG3qUR69shJ4Oh1Qf3tjdUg1evk7R9+DTwW7oUR49\n",
       "MoN2k9IUtHQ2KIbpkgn6NgE95RL0N/FgKHVDj/Lokak5ehoWpvwZPmrDdMkEfddNLifyBB2/gbCX\n",
       "RtGjPHpkA/T0+UVHGKl3B8UwXTKup19bF/SvCXoCvdxU1zAX5dEje4BGJ+934a3X3gmiVoguG9ff\n",
       "MP8U9AM0wn9br3/TPcJHePTIJui4hm05Pr8rKTbKw3TJBD2v/CVUnKPoTwCc7o4eeLhiFAoJTtJV\n",
       "nhVitHRbrg+Q4yScrPDwVFTYHcN0OaoHejKr3xIqdlD0I6BZcovXJ+zEkoDOPIwrgtMnTkcAWWbB\n",
       "MUZLyQXbVf/lTaP//pCGKxRwfwheKtKNxbvcFl0yrqug/SFUPETR+920zUV9uWwr1gXYK6Azj7Q4\n",
       "XS52DnyyzNBjtJRcsF0mac1748Ml0FdrRLoHYNVPd4iuglqTddm4vjK+62+h4iRFVzwxho2jLlF2\n",
       "qlAR0JnHvu+4X3LG6/RnLTJDj9FSdOHoZwEGEZ1SYyv9GVpJ9UFbW5f1tsyA6gb6y3+Fmv1+IlvY\n",
       "iVa6x04sm2MOmDh2KG8964noxAOZ97yQZaasjsmnLDP0GC1FFz7g0VTNVBk6XmHVLHA94RJ0QW9L\n",
       "aKiuot+PAKOPrlrXZ1F5q49+/hCaTPtzA5ZpwTwJjM6F+yV07IGeGR4XnlTtmEW0yD56jJaSC7H3\n",
       "8QjJ0QyUomeCVJzpkK5Jumxcf4YkvsYjl2AJllF5zEefQr3w6i8w6KgV4oPQVbMkok+RftoHNwCO\n",
       "0UCcdMwqTP5kt453LLejx2hJXCTDC9AU+vXfZOhk7OFOC3Q47oq6sYYOnxb8Atc1/FBzRe1sAdbJ\n",
       "ojnho/fhiDsEM5DJwo5yuZxVHKNSENGJB0wsDrv6VgqgLp77B6pGozX5xHI7eoyW2EVWjgPMNw+B\n",
       "MrdW8dHvxYcTIOjaaUmHa7iv834h0I25NRcebL4IfZ5eJRPpe/Gj9QqswLQO79Jeh0mv7aPVBJh2\n",
       "IEMf0AM0y4p6tXW8Y3l0y+jkFyJ6jJbEJbF7+56RYOXLCGsgRW+3l+GVDeXGjlnSGg5oNQFda6B+\n",
       "H1PROoazextMqw0dzYXBLAYwKmSuocWo38YXC8GByg+XBuwRET2q5YLvoqzAZaUifWN0R9dm3967\n",
       "EfRp1O+JUp5+GTH0pIU+S4/8hm6Ghxr6Qm1DV5fAeOoFDKB/CU9a8NGajdM8dDFT1L/CByb3Ox/D\n",
       "bgE9suVM1neZNQpCpD7FET+71XFBHGg2GxtBfxrld9qQC8c67tIslMt2t10aPGwVtni4Hr/gpQyM\n",
       "QC0nLW4RLRluTalkEoE637PPg1O3s0Gl3zgP8BzbJ2nW+AUvfQA/w1CxFb1Ly6Qf4AzLtPt+5X3t\n",
       "9Wrnq3jbe3O5zhe5ds9SrJaJTboj+9L/2YffvFv4Zv3Sf5h/i3ntpeWLAAAAAElFTkSuQmCC\n",
       "\" style=\"display:inline;vertical-align:middle;\" /></a><br>"
      ],
      "text/plain": [
       "<IPython.core.display.HTML object>"
      ]
     },
     "metadata": {},
     "output_type": "display_data"
    }
   ],
   "source": [
    "and_if_all = Forall(m, Forall(A_1_to_m, \n",
    "                            And(A_1_to_m), \n",
    "                            conditions=A_1_to_m), \n",
    "                  domain=Natural)"
   ]
  },
  {
   "cell_type": "code",
   "execution_count": 27,
   "metadata": {},
   "outputs": [
    {
     "data": {
      "text/html": [
       "<strong id=\"true_eval\"><a class=\"ProveItLink\" href=\"proofs/true_eval/thm_proof.ipynb\">true_eval</a> (conjecture without proof):<br></strong> <a class=\"ProveItLink\" href=\"../__pv_it/theorems/f8da85a8e17a8c0aa4d2aa78b395a1fb26f5606e0/theorem_expr.ipynb\"><img src=\"data:image/png;base64,iVBORw0KGgoAAAANSUhEUgAAAjAAAAAZBAMAAADd4wmLAAAAMFBMVEX///8AAAAAAAAAAAAAAAAA\n",
       "AAAAAAAAAAAAAAAAAAAAAAAAAAAAAAAAAAAAAAAAAAAv3aB7AAAAD3RSTlMAq1RmmUTNIjK7EInv\n",
       "3XZ/CtNrAAAACXBIWXMAAA7EAAAOxAGVKw4bAAAFdklEQVRYw+WZXWgcVRSAT2ZmM7OT7GR8EEQw\n",
       "WagKEmtXGot5KWmbijSCa3ywSJGVIoWKdAtSqaZm9EkxbfdBaLYPZqRSCLF1kweV5qGJpbQoylLU\n",
       "B3FhQtQSKTEqpNEi6/2duXd3ZmdTWYj0wNm9c+bc2Zlvzj333LsAMXJfJQ93nFiVa7E+ObgjZetG\n",
       "BpNn2rKLh4q+4cFYaapIjkS4HFnfFXXhYV6Ickp4FIyNvzY1AhPn0SrpZYrkUITLofVdsX1FwJ6p\n",
       "OalViNiwSMHsxl8HGoGJ82iRmDmqSJSqeGLGb0XZJelI+80tAhg4WO+qkGBpdwmYt3CIFRqBifNo\n",
       "kWgZqrjZI2QE8/vAJcIuyblg/Oy4Kdj7osCoAwQM5iNADQET59Ei6WSK5LOLjjAGHs3yZpRdksW7\n",
       "/dh5Y028vhsBBr4kYFT0UtobJt84jxbJg0xRuHq/Ce8lZfDojbLLUn6Xt960/hATTiYKzH46K31d\n",
       "qXzVeFaK8WiRDDFFIwa2ZMSczPNdlF1+2FI7H28Dyp9i7rGjwExTME8CnG4MxvcQg8+MSJnS0QBv\n",
       "NNGzNrL3MwUYhpOlwH4A7metKLs8E+UVdheJtHFLOKHmxKlIBLONgjkMeg27Y0NZdV4Awz3Mq4LT\n",
       "x07o48lmHtxN9JRcsFxjivGOot8/Q5OoYUPKhcBuzt7l1tglQVPHDzzA9N/F8JiLipiHKZik2yFk\n",
       "LWOhmFXsC7BHAMM9OsQhejE8HctmDqaJnpILlstMwXp/sKcAxnKZmNscsOj9U7sGWlm2y3IPwDJt\n",
       "LQ3u+Es4YaxEgTlJwSiemFkH0etUtmtQEsBwj73fCPXhmBdaNspmDqaJnqKLDOY8QBd6doWCOYuC\n",
       "i7aovSurr8n2umroHG2hn/1HvNXIiNnHlgS57WjA7TqxYPU7tB5U3n7OE8EQDyTei8Lk2G6HlvGy\n",
       "mYNpoqfoIg8llCJScz4YXMbthMCuuhRMYK8r77Q0HUkAP6Ly5fFle3Ec2PVCc8xmBmYG1YBn9mU6\n",
       "bcuGSXLeufCABGaGVIkWPCE8hxa6iKoxMzBN9JRciHzANJGhtTwDU+ZLJG6HjrJklyXlL5GeJUsI\n",
       "87FLMA8LOPkWoiKmn4EZQbxe/wW6HK1EeiMwmlUQwYwQonvhBsBRmuASjjUHwz/VllTEXA+miZ7E\n",
       "RZJppiNIkzc5GBXfe9IR7HDcFe3mKmp8kmMNILGOA0THNzaR18/nYI2UAVopCswQA9OGf6YbxiCV\n",
       "hm3FYjGtOGYpJ4IhHjA02+Mam+njabPTf8OcWZu/iLkeTBM9sYtsOU51snoQlInVEgPThr0MT7Dr\n",
       "pyU7fIvjZIA14F78cQJhmlh14aHqy9DmGXNkiKbqC+UELYu+E7cdrsISjBrwHo0YGPbqth0sgFGH\n",
       "T4keoJGdN2rzFzH3beob/lwE00RP4qLu3Lq715/LUw5V/3WWw+ufV+G1da00HKugr6DrHovcnCgL\n",
       "YPQVFDP9GpqZcVhmwbLrwKBR1pXGj2eWCFo0vSaz+GDK/6DmRwqd2V4RTFzPKeaiLMFlxQ9wvJZT\n",
       "B2LB6OPv7FkPmFEUM2oBXXdXo9WrDyZho8rx8K/oZ3AAo9q6Dow2D+bTL+HHM76Ap2z4aDWLS2J0\n",
       "MJY3ruAPbk46Z/n8UGiq51iauYybOS0ock4xZQA+vRU6zXdWqyvrAfMMqoX1brfBfsHR0B28qWIx\n",
       "22gHDw8IhU+FrhccBK0UWraUM9J0HdOTwygrpZTqWyeZtkaSkXubp25na9O4geqF5/n+WbUcHASt\n",
       "D+Fn6M7XgmnQM8HSrmlb2bbrQYx4VFsj1yN3VPO3veebCT+oX8ZDoameKmw8iQfzyn/5X+n/+peU\n",
       "Vbn0L2tZvlLOKBkwAAAAAElFTkSuQmCC\n",
       "\" style=\"display:inline;vertical-align:middle;\" /></a><br>"
      ],
      "text/plain": [
       "<IPython.core.display.HTML object>"
      ]
     },
     "metadata": {},
     "output_type": "display_data"
    }
   ],
   "source": [
    "true_eval = Forall(m, Forall(A_1_to_m, \n",
    "                            Equals(And(A_1_to_m), TRUE), \n",
    "                            conditions=A_1_to_m),\n",
    "                  domain=Natural)"
   ]
  },
  {
   "cell_type": "code",
   "execution_count": 28,
   "metadata": {},
   "outputs": [
    {
     "data": {
      "text/html": [
       "<strong id=\"false_eval\"><a class=\"ProveItLink\" href=\"proofs/false_eval/thm_proof.ipynb\">false_eval</a> (conjecture without proof):<br></strong> <a class=\"ProveItLink\" href=\"../__pv_it/theorems/4ea6ddc6b46f20d4ff5877be4b8e785548efb8e80/theorem_expr.ipynb\"><img src=\"data:image/png;base64,iVBORw0KGgoAAAANSUhEUgAAAyAAAAAXBAMAAAAByTbTAAAAMFBMVEX///8AAAAAAAAAAAAAAAAA\n",
       "AAAAAAAAAAAAAAAAAAAAAAAAAAAAAAAAAAAAAAAAAAAv3aB7AAAAD3RSTlMAq1RmmUTNIjK7EInv\n",
       "3XZ/CtNrAAAACXBIWXMAAA7EAAAOxAGVKw4bAAAHxUlEQVRo3u1ZfYhUVRQ/OzM77+2bnecsGVSQ\n",
       "TmWxobtOpJIVMeoa1WpO+o+owYaEZMGOEMamuJP4h9G2rpXoROFUEolfo7GVK+pWiqKpU6mIODim\n",
       "KWtqVuSaYdP9fO/eN++6b9BFEA/c4b5zfu/cd8/v3nM/BsCLnD8CN0s0Vm4V0a5p8RrozpvXgV9Y\n",
       "QR/cpOhIU3ke595UQioL17R0QgTXH+iTEE+wfhBflhYkwYvuEJVeJc1Ky5RS1fqlNbF5pWqjp+YO\n",
       "Leu9TcHNSTcuYtzSCeNxdVafhHiC9YN8zgqS4WLgQ1GrqtJLssmmuKg01ZfozP0ZGPJzqfdzZ8E3\n",
       "MebiQhILLroJZlyGXYFbOuEtPOk7+iTEE6wfZBwrSMb0Cvp1dp5S6aURfdiqBgYnVaZ6p874OIVe\n",
       "6C3xvhqn+klJFxeScLjkxh9XEYItnYQW1bASCPEE6wfpZgW1Pu+yoD95pzUMFXpJzEcSvPr19pTK\n",
       "VO/UBffgfNJd4v01PMpnuLmQhMNlN3tUhGBLJ/jRxAv2vah7gvXDEtJEC5IF5p+CIfc2r6n0koR1\n",
       "Pru1wu9RhckmhOu2Y6ged3oPkRYXubmQhH+M7GamkpCZZPu0L5/f62GX5QV24yWQpQVJ3PeXuNYH\n",
       "ecJQ6SUZaq1/ARgeU5hsQphOu0oSTsrpvTWHf79wcyFvSCjc4WajkpCNJNLPAHzogRAvsBsvwRgt\n",
       "aMZH9X8FfdLHBpxKL8ssGMJqk2FJVmGyCWG60H+Or2HetxdU3l3hDjejyLjIE4lIhIwikZ4DWsQD\n",
       "IRZM3CQY7vDMDSMkHKUFj2ztD1uP9hhH+Yh310uiRyDMPioOrRGFySKE68K9shvu/XhS5d0V7nAz\n",
       "TDlDhpFIV2VC7kuSdrATnoxwQjjM2C1A1qZctzS7pccTjV1d1vI3cMsal28XIQAPfTVxLKtWJ2gB\n",
       "6GkY8w9yPYrq7wK4QGtUv2bjPQ69JBUpMGmfzQ8aBne4m2xCuK76Ih11zlYP0GFnbKnJOF2IwuHc\n",
       "DZMlSkKWkEj7Cm6Ldfvdy+C+UCaQ4YRwWEhcQre77rskCLwYhSq+waj8CeCj0hcEiH4inTBD2v0p\n",
       "ByEG+mSUitvPU8rROr+O1qg+DhNlfclpxsjRExrAgJy7ySaE68IkkrUlrR4nQUwFIJBzuhDHJYdz\n",
       "N0xmKAmZQe9Emp5yWUyfwQfzQjxkX50w2NT9wgGzzfUeQISAD+3lrLw+DPFbmm5FSANiwgxBV9SR\n",
       "sgKoHEOlzjpxBVgmI/q/oTUl6UvPfmNZxoJwt7vJJoTr6NEhW9IqOYGEYEBCu+x04TgWErjlhkqd\n",
       "cg2po5HeNBudSca1nzBH4z6h2il2vq99cIFACIYhKbwkbOGDrquPCIFW9Ek6i5GGp87CErwAMfEC\n",
       "jmbIEyyvVRVoIbcazRYhYesKi+kfp4SEFVdbOX6Fhe8ogheF7tomgRCu0/BqHMqUtNqKv6gL/BlK\n",
       "SM79gsyCczcjHruAh91o5QwZTSM9H0X1sxmx6oiJw4trSYOk2drQp9NtQuaT4JvwtBD5gNu5WILA\n",
       "vWK+zrkuVgJkNXEQmMBXoVCEFg2P6pVJHhoyWVeAoIetkn4D+jDjErAfP+5vFY7/fFzpFbprm2xC\n",
       "bB3aIVd2QUmreKM9HQ+ZUE6E2w3i5m04c2OM/B52oadGJSGNNNJoTYI3T8OAFNnw41qGXnbVQrzH\n",
       "JqSCfPVUOAfQQsdvZcrshsmnnFsCArFkB50bZMtcTfJSZf14+YUdjus9M6Q/z5zqOVKMlZcy8HDx\n",
       "VR4asoK3g6DXj4p6COOWDgL7qcDfq6NOry7OBt/KS1m7u5YJJubzP+TzP0o649ma8VaWsb3DqqUD\n",
       "yQe+m5HgVoOkeRtO3Wjrm+AKejrkXB7y+WP7SPY6JNyrD4I2tr8chNYW/yvp9HuIkDVB5/V745bB\n",
       "Gb2OEhLYsvEKdBvOy1YMsZ/weuKDhSRe1firo9WwQX6BQuhOPJ1OR9EakuUZ9wgrUgJ2kZbyttp2\n",
       "dz2JolWtvJNZRQFfn2g5lR1brEjvhh5o1WmtQdezdIZU1jsIMQEna7brLgDKoUm925mxEMQ/9tHx\n",
       "Q8mUqkHlDNuQV6BRYCY1FAxJKGTElKEA79AZAlm+WxjBSl+hiWvJcmJjd/d6CHkd3iin0epUIJ6C\n",
       "QEx5LRGzI61dRINmdADW4NqRWnooH4kOCA5CUEoZEMWEGFmyQKJVuiqB3kKP7IdCfD2w05fFmrUJ\n",
       "MBOEEATYCfAr8rJMwFuQ+o4wPu1QQr7hhFQlaekjNC2LF5UzRXh3r48QbcXi58ohpBXCC1PQorS3\n",
       "CJGujKDz/5yz0BZFtd9i0IJGt344CRUyIYFvwZj0MiZE/w4mRGDVpQS+U2mL6rugLYl/ogyywmhC\n",
       "Wz6EMhq2nQVCSFsUVjVeQHELpLCB4pMWpCI1F/cRHwxPb37f2sx30MJkXvM2174cKBbLCQ3vrkdR\n",
       "tFpdLJb139gLYH4JsFxpXw4u/82yvGpsTi8TtFvlv3pxyvLxfVCmYL1lvw85Xzbst1EkZXFblykY\n",
       "rFoYTk5D0yidljcJC1i5VcRMXstyfqdz6HiZ+Po5dBSaxh6aiznhLV4zImai4oyNat8btWzB4lXb\n",
       "YNc+gaExuC0O8XtGxlzf8ntCSYbbLEjyP3geeOY7JTyDAAAAAElFTkSuQmCC\n",
       "\" style=\"display:inline;vertical-align:middle;\" /></a><br>"
      ],
      "text/plain": [
       "<IPython.core.display.HTML object>"
      ]
     },
     "metadata": {},
     "output_type": "display_data"
    }
   ],
   "source": [
    "false_eval = Forall((m, n), \n",
    "                   Forall((A_1_to_m, C_1_to_n), \n",
    "                          Equals(And(A_1_to_m, FALSE, C_1_to_n), FALSE),\n",
    "                          domain=Boolean),\n",
    "                   domain=Natural)"
   ]
  },
  {
   "cell_type": "code",
   "execution_count": 29,
   "metadata": {},
   "outputs": [
    {
     "data": {
      "text/html": [
       "<strong id=\"binary_closure\"><a class=\"ProveItLink\" href=\"proofs/binary_closure/thm_proof.ipynb\">binary_closure</a> (conjecture with conjecture-based proof):<br></strong> <a class=\"ProveItLink\" href=\"../__pv_it/theorems/e3518bf61423a7fb6c0f66d60d387426a1a385350/theorem_expr.ipynb\"><img src=\"data:image/png;base64,iVBORw0KGgoAAAANSUhEUgAAAMcAAAAWBAMAAACGSZV/AAAAMFBMVEX///8AAAAAAAAAAAAAAAAA\n",
       "AAAAAAAAAAAAAAAAAAAAAAAAAAAAAAAAAAAAAAAAAAAv3aB7AAAAD3RSTlMAq1RmmUTNIjK7EInv\n",
       "3XZ/CtNrAAAACXBIWXMAAA7EAAAOxAGVKw4bAAADZElEQVRIx7VVTUhUURQ+8978P2dM0NBaOBBE\n",
       "kdUsTGhRjWiRuGigjViUURH+YJYgSGUTtHGRDoHpBOWzRdBCGNuZmxKK/pMwsXBgSiL6M+3HMik7\n",
       "59w7D2ecHzdduO/dd8699zvnO9+9D2CZrQm7Ld0EW5qFy2xuDz7eiN1qks6wRBNWTFyafZIHcADH\n",
       "K8iwJiPIBuxKmIfW6XiX2juTs7IHYDJhicMSbenzg9sLsJO+j2XCcFL018V4swTRPNKZFQQoDIBV\n",
       "TwTxak3oqgM4RwQEM4GYMRwoE+PSn+LdH6PtLBJ10AeqbwmI6kGiioHxjZhStix63BYJnPolbJN5\n",
       "0rkjgB2BHspiXImMGSAYSJYOKsZozViStVQSEXmb+6uwjbRLZyH2BhTRYSGARt3IxNSMZbQiwpNI\n",
       "5FFGkEqiTNTdp3zjtxK2SnU+AOgbx/cAf7XoBl0fPq+m1JGy3QCX2ainAaEgKSIM1GOfFyJrUkQR\n",
       "7HNTrzmJEogTkcMy9mwUN1WRgRNgYxk777Or/ftQRUCEWn9kNFas59hd/GEG2wybUDGvRA1QCEUU\n",
       "QBF/1iwqvHsLSkvBWjp0zc8FFVSrI+BGa0dBF0TDJ9fJBXep+DztfXnpHJvyAabEZjhdIzF0cl5I\n",
       "f+SlBIHgPrSg5JWoqHvVU36ZUIvTYEYSEUS7lgjiRBX9iZ2cfvZlIxHqXxzsZ3twUSYQdCDBpMqa\n",
       "7WyLHhJi9UC/V5zeaLj5ViJdZuwTsaNoZgI7kSrTDxxsFKKLA8EEFLLcrGNmYZc4WZPF+TKcaPnj\n",
       "gFxwlRbR5bQX+3GyuIxb7AuKrJNGW3nqVBzIJsySNjvNda+CT+zaBs5csHhFJuffygUDUoo2Sr2X\n",
       "pMvp99CjARm5p0udo+o8BkhY++iT0jdxuJVDhazhXEzGr9aGQhepJppccIFKOgLO3lkd1i/U49cq\n",
       "MndgL1jIyanljV+Ia66gWoiuIcS3MLj8xsWMezPYMN5DAXtYZKK5pdtFvvH0B9Ymq2EZFNdKrJ0x\n",
       "Rsh1tscZBttvcI7K44kgHbHrnM5d8TIu0SStzJhwB5x7jtqHoWR+qAJzb8XIlcb6kLGum0hO/5Nr\n",
       "TZFg4hWvGP+PwVBXnOdG3BFI2rqTm5eEVp2acNJvW9ofdIo83yUavPBf2j/2q9Nl7ZwXDAAAAABJ\n",
       "RU5ErkJggg==\n",
       "\" style=\"display:inline;vertical-align:middle;\" /></a><br>"
      ],
      "text/plain": [
       "<IPython.core.display.HTML object>"
      ]
     },
     "metadata": {},
     "output_type": "display_data"
    }
   ],
   "source": [
    "binary_closure = Forall((A, B), in_bool(And(A, B)), domain=Boolean)"
   ]
  },
  {
   "cell_type": "code",
   "execution_count": 30,
   "metadata": {},
   "outputs": [
    {
     "data": {
      "text/html": [
       "<strong id=\"closure\"><a class=\"ProveItLink\" href=\"proofs/closure/thm_proof.ipynb\">closure</a> (conjecture without proof):<br></strong> <a class=\"ProveItLink\" href=\"../__pv_it/theorems/f95f1d52d7ed3879614f2cf750c332bb116209510/theorem_expr.ipynb\"><img src=\"data:image/png;base64,iVBORw0KGgoAAAANSUhEUgAAAcgAAAAWBAMAAAC2zBEyAAAAMFBMVEX///8AAAAAAAAAAAAAAAAA\n",
       "AAAAAAAAAAAAAAAAAAAAAAAAAAAAAAAAAAAAAAAAAAAv3aB7AAAAD3RSTlMAq1RmmUTNIjK7EInv\n",
       "3XZ/CtNrAAAACXBIWXMAAA7EAAAOxAGVKw4bAAAFhUlEQVRYw81YfWjcZBh/mstd7nJtev4x3Pyj\n",
       "PRgOZdodWodFKJ12Iq3g2YEOnXIyRWzH2qpMptPG4R+KXRfEsl1BG50IY1uXDc+5FlyrjG1O5SZT\n",
       "dOwgpWwwsbVW6KpjnO9XkjdpcuO4FXzgSd783jcfv/f5eJ83ACVFKahws6SH6VKIVAKf/vUGN8fT\n",
       "N+07lCRVJNsChmwrk1nGboZNT9/0me4t59IUz0ECQyuDSVbhk5CqnORqpki6A4Z0l/fEyKzTnvJ2\n",
       "as9KncsonoP1GHkxmKSIbRmp3M3kDFU8ZUX+DUm7GYS7v8jB13AkI7qX5AY4FqN4Dt7GdteCSUax\n",
       "qbdXbkgxRRU367k5O+T4XBDuEg5fd9WBQy2LSd5TRfEcoRo0ayQmO9HpaOUkq5kiOXaCy2ZTy+xm\n",
       "EO4SB4+/scDh37HI/6jwi00yQvEchNDsRkolnnvRKVM5yVVMkd+Yf3KTmn/PziMBuFsc/C1ljsM3\n",
       "0wS0VXcseesDFM8B/FAonC1FsrpQuGhUTrKdKfJKWOPkMcGw4z0IdwmHtwh/cx1HaH7WncQzcs6g\n",
       "OCL5CMBQKZKiCjFyq8x36P7ZJZjkZnu2O2C3M2mRHsGKpiDcnVFtPJyMXuM61oI7g2rPbLneRnFE\n",
       "shekhPtBb7anQxM2SdTbS9oHuYiRT/syOeguHYSu589bHvgTU2QB6EMv3EdDAOW9C5ZlMC6P3aJ7\n",
       "cJc4uAjSX1zHXeSY4RPP1BM6wRHJmM6v+NHJbFpIjEKbUwwM4VFITnARE5/zJckPGVgxCKbx8h3s\n",
       "8iRTUD5srdcgOpMn8HKAGZYyCC6CmHfjbnHwK63r/uE6dpOvR7FX+M0iGQsbBEefL5h83mlFthCa\n",
       "RTAckg10fsL9XFWx8Ue/L+CHiCgMEMn4p16SIwC1iIeQt1bPQ3QAxWvT0oIbX7TaUlxGr7rO9Wwi\n",
       "oMZbMgYawbGNMs1oOXloYFJpUkHBoS/sfNLkSEZC5NOVCOfV5nO+lRs3hJQgpvHKqNddUUjVjFsk\n",
       "8eIlJsHBQzohyeGLSgGKi0gvAjTeP5OY2ovad9Pc6yaZITgmeRSthPs2paoTSgL2k1BSR2/nSMZX\n",
       "kSgxRcfhFXjYjyQ3hM6p2fq9FaUfMw2naD1GSdbYJaiFQzzvwt3i4BtIGSjf9y1MwCRqN5H+GRdJ\n",
       "wSQ4JrkDTf/rl6FWFQ1yKyIpKppDUiJJKKwq4yCxPLwR/oBww3qvt+IhVjtFLfnOJS7FY92BNHbV\n",
       "ItmMD9gQNg67dB6X59HhcIY1HFzCbxrukUYysMAtTxHb+trT8PUXFMckq/Bk10E/1CRhbTabTQqq\n",
       "bGS4Xchy4h5jR/6FnSyztY/V69Vw2Fu54SFWmfVSNvsBjsk4A3ZR3V/sBGF43mAkbyMpCjiczqON\n",
       "w3lsvxbWsHF5eF6HO4tdUGVGx0kY/EwdaMVT9HWXzwzjXQjBc9ZHnYYr0BeF96klocP0brVMwMFy\n",
       "gXkr9KkSmhaPt+IhjSsbO75Cec6glowrlqOpVO3lJe+/nr4Kr5VVLaqKJs2qILHHhY+zss4qo/IO\n",
       "SWkW2bJJpMt+KA1KwkMSu98cIXmAxEMt8otBfCEb5IBOdEiDVp3GO6ohRnKAq6D5KjqApLT33bZy\n",
       "SPYhW4a0Fqv2990XWCTDCVQs9P6O3oG9CtUNXpKPJuCz+TQm2Z8UJ0B+7AVcCqGL6Cno74mein7D\n",
       "hsTUz+FBvHHBa9HWrqz98j1MGZkvr5m+likWZ8sh+TiqgaQ6PXCftB04d7XkQDabLvFnALurFduj\n",
       "CncBgp3/VkMeMZOPZwddt+5nujSypwSeu9HvD/c/noGzSQizsjVSRGtx2K5hWcDDJ3AJ6vxqa8mk\n",
       "uiSi9ATj0yfLf17I/yIF/1/5D5X1oqhm3s9DAAAAAElFTkSuQmCC\n",
       "\" style=\"display:inline;vertical-align:middle;\" /></a><br>"
      ],
      "text/plain": [
       "<IPython.core.display.HTML object>"
      ]
     },
     "metadata": {},
     "output_type": "display_data"
    }
   ],
   "source": [
    "closure = Forall(m, Forall(A_1_to_m, \n",
    "                           in_bool(And(A_1_to_m)), \n",
    "                           domain=Boolean),\n",
    "                 domain=Natural)"
   ]
  },
  {
   "cell_type": "code",
   "execution_count": 31,
   "metadata": {},
   "outputs": [
    {
     "data": {
      "text/html": [
       "<strong id=\"demorgans_law_or_to_and_bin\"><a class=\"ProveItLink\" href=\"proofs/demorgans_law_or_to_and_bin/thm_proof.ipynb\">demorgans_law_or_to_and_bin</a> (conjecture without proof):<br></strong> <a class=\"ProveItLink\" href=\"../__pv_it/theorems/db5b6af49c23b6bf160e699ef3ce0558fcef09680/theorem_expr.ipynb\"><img src=\"data:image/png;base64,iVBORw0KGgoAAAANSUhEUgAAAPsAAAAXBAMAAAA/2iRsAAAAMFBMVEX///8AAAAAAAAAAAAAAAAA\n",
       "AAAAAAAAAAAAAAAAAAAAAAAAAAAAAAAAAAAAAAAAAAAv3aB7AAAAD3RSTlMAq1RmmUTNIjK7EInv\n",
       "3XZ/CtNrAAAACXBIWXMAAA7EAAAOxAGVKw4bAAADYUlEQVRIx7VWTWgTQRT+svnfNGkKInpKxKIH\n",
       "BVNovWkX/2rxYNBLa0FbRMRSsF48KYnHHqQ5CLUF7fYi9KDEXkR7sBYURZRSRLwUIh68SK2i1h+w\n",
       "vnkzuzvZtjmoeUx2Zt68N9/M+5sAdaXBv178H5TKcndx7dWT9EuLwdY6we+Q3XkfOzj+qWnjdaRy\n",
       "wEExP1sfdLOXO2NFzaechYYSkCmiH7hCs2ipPvChnOwy0svma2ehUAFOWWgFIjaQyNYHvkF29x4W\n",
       "ZSS05NVCOzHaK2iwEaQTRurk+m38jVY+yuslY46VM/QbGESEsF8sLDyvE/wRaXvsyqlAdGLsGTDx\n",
       "hqxOcX8YGGOe7XOcPtlOAeSlqY2UOzaqs7fCTdFp/h7DcBkywJslP/Zj8a1YC1JoXkCUk898yktD\n",
       "X6Y72VVxPVPIaW1eQJOk5UxctlQM6eee56+FAgPE0kjKK6aWgZ1kEWOGYOwER0Tis0SaQ2rGDz9B\n",
       "mGl3JiR7GCWgsaViuCyaoseMde1Ahn0eKCIlLRMngMR3OtASHaEiI6/rJXcBC8ElPzwVh1DenQnJ\n",
       "iG3k+BAuWyn2c9Pg7wCNc2Jwi+7AAzTSmYO/gbC4Z+9e6bU+mSxZ3M754Ukrqfm3j3O1JILGYyvF\n",
       "Ka26zEvbIznjFJ19zB8mucBXurk4zRSfNoVDsiK8a90EH3y0V6/bLGlYVKnJzB5bKTbDCTDgJv3C\n",
       "IrGX1B2U+EcK12HaMyiccond14UPvLQH5gYN/v7o6OhcmMS61VhJEitOYSPYCWLfcBW7uUm6K3YX\n",
       "Wy2L2BB+j3NUD5D+E4rCUFmGhMjR6QyHJW1RyFffPm3QAbeosZKkChLM9bjsgKs4xE3SVWBypR/G\n",
       "+DfCCYjtY+IMm1eams6JSpTMexZFgY8xS9XYl3hpUa2GHHgpScZH75jLDriKuvGTxdpl6bI7Ok7x\n",
       "mDXLiP6E+crne0sLPUtKcgq1lF12yFVc5KZy0aoNv98tcY9gHj0Tm8XuX9OdWX/oYYSmg7okT8Vr\n",
       "5bBdxRFunl4NWvXQGtpYhycne8WEaVL1PjbMkmh+qbUp7v+3dWId+BAJdlRJdqwauJIhb9dopRb8\n",
       "ez8jtw48HlB+2b5HQFXg6peqTX8c/oWiVTb1vYgmtOdPJ3vVy1mT/gBS+MrsgZ2ZzQAAAABJRU5E\n",
       "rkJggg==\n",
       "\" style=\"display:inline;vertical-align:middle;\" /></a><br>"
      ],
      "text/plain": [
       "<IPython.core.display.HTML object>"
      ]
     },
     "metadata": {},
     "output_type": "display_data"
    }
   ],
   "source": [
    "demorgans_law_or_to_and_bin = Forall((A,B), And(A,B), conditions=[Not(Or(Not(A), Not(B)))])"
   ]
  },
  {
   "cell_type": "code",
   "execution_count": 32,
   "metadata": {},
   "outputs": [
    {
     "data": {
      "text/html": [
       "<strong id=\"demorgans_law_or_to_and\"><a class=\"ProveItLink\" href=\"proofs/demorgans_law_or_to_and/thm_proof.ipynb\">demorgans_law_or_to_and</a> (conjecture without proof):<br></strong> <a class=\"ProveItLink\" href=\"../__pv_it/theorems/9653f78aebcfdd7a6b3773d43c54ca761881ec760/theorem_expr.ipynb\"><img src=\"data:image/png;base64,iVBORw0KGgoAAAANSUhEUgAAAmYAAAAZBAMAAABp6f+EAAAAMFBMVEX///8AAAAAAAAAAAAAAAAA\n",
       "AAAAAAAAAAAAAAAAAAAAAAAAAAAAAAAAAAAAAAAAAAAv3aB7AAAAD3RSTlMAq1RmmUTNIjK7EInv\n",
       "3XZ/CtNrAAAACXBIWXMAAA7EAAAOxAGVKw4bAAAGE0lEQVRYw+1ZXWgcVRQ+Ozu7OzvJTuZFEIVm\n",
       "oRWRkHYlsVAfyrZNVKzikj5YfyjrgwTiQ7cvQmxrRvFBMcZ9UNoVJFOUQoi127yoKdptRSxIdRFR\n",
       "KQa2/pVI1aiYVqWs92/uz+zMLFtpWcXDze7NOd+9M/e79557zl2AaIktfQH/iyTW0qftIMl/47hS\n",
       "V6vjEv4Y+k9y9jVlrhjCaLGz3h4X1V2UMxt/rY3irA2i+0Sr0ldfCRnSSmfd7ZY2Zo5wNorr41Gc\n",
       "tUF0nxymXxtkbhZENUwvS09WzEBT0k8Qzp7Cq7UcxVkbRPfJNvq15aJQmZ+LepheliNi/+r9JaEf\n",
       "JpwlXYXVAM7aILpPanSp7L0kbapbC3wJhegV+eY6Xn3rhCP0vS7mLJ6LdPTI1AbRfe6MrpEnrV+F\n",
       "LmPwjRKmV6T+HD8xGj9L6yWZI+fmmaWlj6LPzWhE14lOj4C89pvQDQiHHKZXT5GktyF12JCT/JxN\n",
       "OLsL4JVozqIRXSdJMsZE1vhL6MZhHauF6dUuSlqeVcfgxaowxIuEsz2QsqM54whXMpjBeFeZcfmf\n",
       "m0nxtW7I5lAb+PppeQWLFG+/ZemzU79wlWFDxvXeKVivCDr2znrLEqYkerQa4Szt9vj84P7thfhJ\n",
       "iTMPYZ6WQG84QQNSIJCW6vECLv7WumQOtSkSACQjgzz30wSxPLLlD/Q+G2kG6IDFpoDq54/d4NMr\n",
       "cj3AT2w2Xhrpl1yesUI40xqygzfOVQqavQh3S5x5iB7JecKJwJNUgSicHSLF3zpRJWO1I22Cl2Ag\n",
       "kodIkTgzERWXAWZ+9CI2s04nlerzcK+qV2ce7cAjtPomQJ+ESNB1BsXNEnwEzZ22WYeqnDsxxM6P\n",
       "pcbTgVtHhqicjbLg2Nd6AmcYiJ0oG5NwIImHkq68N/Ei/Qr9DfLIdStfvEj/O0w5ir4lotWz3kRl\n",
       "atLerFPOFlBwG982c87a5NDkQHv6/obCGUZgB/OIFNgkA52gDFE5q5PS0noBg9JupE30FgIko+Qh\n",
       "ZBpTuYMlPYPew1nayPS3U87qajrJPSLPShM5kmt59EC8TDnbhx792sO5XtuyYY6Q6SzepHC2z6aO\n",
       "9g6JHD0o01UgCmfoFaTcWLReB1oObasoG5/jUCCy5YGfdDgeSOG1MVtinMUxi2lMEtfDu4r+KOrK\n",
       "XGUVINvqIBk5Blzk9JA4Zog6Qnjie+hzkGIH5Uy3yjJnMeJsd8IFgEk67QnHqsHYt/4gmkD8nL1T\n",
       "qVTqiTKg0oOqr7LWtKsHAMookvHZEutHhY1LAJDvU9I9c8l1MGdXXbil+RjjLIafZCCChN44K+sh\n",
       "gwn/zKuQ82EG/c01J0CbXa169ECmIN0FrYFp7Ag2ovfJao5ZLbbeBW0/3u8ag5Qz/fixP6Fm+m8I\n",
       "MCRwndmaDRrdSjHWmnaF4u0h5KV8tl44KmxcAoD86CqDiOi/lF5hMCSGmnQ7ivkYPbBfvj87Dcsw\n",
       "ZcDzdJ3BWKOFMxQAIR/AwpkGpC5Byaj5tyaCxLcOjQ44fs7EoGKsNe0KhZRJ5KV8thR6RW4Tjr4V\n",
       "OLx2eOxt394kiXQbzlL5VKkTzhg9JP33OEutICo36dTjohDIsls4Q9u2L4sHalaJa0RRRboA8/hf\n",
       "9kEh2jJ8wG6w0lL8xM8A3WtNOENhUPxGaLHBy8LmPSAIuL7cWxjAs9WQAq10qS1nk88+08lC8+gh\n",
       "1zseZwkbpRF7foAU9nwvjIuoiHOmnwTzvkfxQI1TcI8Nr68WcFI1nTU+hOkS/sgyyEGzyA5q+dw8\n",
       "QAoR1ppwdoBdSvlsuiNs3gOCgGnnMAkWEE2CKVMEoXt3vxdIwifNZifLzKOHPKPlbnu+UilE3W3j\n",
       "gWreAeWiqRVxpVera9VMvIUzOeoUXfHh+WyLljJ0tR8lKhiAOlpxc0CPfHZ1cbVS2fNX8nuAcQGF\n",
       "gQ96l77NOiT4Evdqpm0VYudbONNLuPi74irVlmxe9qsgEHgIvoM1SHMnKddGrug3lJyc/gXUAmNa\n",
       "WCTFJ7fJ5lAb+PoJSkLjhe7h7J/8vqn8ZmYG3YW4EfckIU7aDNaZ14gxa+n9vwE+RMF0wIfk8QAA\n",
       "AABJRU5ErkJggg==\n",
       "\" style=\"display:inline;vertical-align:middle;\" /></a><br>"
      ],
      "text/plain": [
       "<IPython.core.display.HTML object>"
      ]
     },
     "metadata": {},
     "output_type": "display_data"
    }
   ],
   "source": [
    "demorgans_law_or_to_and = \\\n",
    "    Forall(m, \n",
    "           Forall(A_1_to_m, \n",
    "                  And(A_1_to_m), \n",
    "                  conditions=[Not(Or(ExprRange(i, Not(IndexedVar(A,i)), \n",
    "                                               one, m)))]),\n",
    "           domain = Natural)"
   ]
  },
  {
   "cell_type": "code",
   "execution_count": 33,
   "metadata": {},
   "outputs": [
    {
     "data": {
      "text/html": [
       "<strong id=\"commutation\"><a class=\"ProveItLink\" href=\"proofs/commutation/thm_proof.ipynb\">commutation</a> (conjecture with conjecture-based proof):<br></strong> <a class=\"ProveItLink\" href=\"../__pv_it/theorems/ff109cee4fced40026e8088dbf51ae6b29c0a12d0/theorem_expr.ipynb\"><img src=\"data:image/png;base64,iVBORw0KGgoAAAANSUhEUgAAAQMAAAAWBAMAAAA2k+RkAAAAMFBMVEX///8AAAAAAAAAAAAAAAAA\n",
       "AAAAAAAAAAAAAAAAAAAAAAAAAAAAAAAAAAAAAAAAAAAv3aB7AAAAD3RSTlMAq1RmmUTNIjK7EInv\n",
       "3XZ/CtNrAAAACXBIWXMAAA7EAAAOxAGVKw4bAAAD20lEQVRIx8WWW0gUURjHv51Zd9ZZd13BRIPY\n",
       "hSCKDPdBBB/KFS0SH5J6kZAuVIQXaisIJNMNevEhVyTRjXC3HgIfjK2XKB8yo/uFJQwkErYkIggv\n",
       "ZZpJ2vedM7M6s7M7vjVwds6cc34z/+92zgKs8wpgkzItkNJRGYkArPtyefHnMyePGK7ISqShjK/z\n",
       "nDiEXTc9bzaVsB2bEGNd24x2SozM5hX0A0waU+UreXmNwZSp08AIlw9gNz2fNFMgk+W3eL9EkeBQ\n",
       "TczpBvAEwRY1pOAFgOW3lkBzVsgYJJoALpFru80kWFEsVPF+5QK/D6kB6UCHHvaD6DekpGV0+ZyW\n",
       "wCkPZgERpVyJw2smIYd+RrgpF7hJMLlBmaxAN1egjJeGlIjLxWUtAXDvIcUGiZwoiKjUZpoKW8h3\n",
       "3IZ21w8+Fu9UJj3YWtCoY0YUWDButmdaAqTENJmNhA2//2Zi4pWphFryHc9Gv/CTRzNmUyoKg31j\n",
       "HO93jCjKFHlTUEuAFUp8nHBgPewFuMaGoxkkkIGkF8PqtS/xwggIPPj2xalPzAFl7OUT7HKrFIQG\n",
       "pgp8WgJgP4RinBDRt2dAYuvl52yyc264hpeQ0Hx8TE2Sd9icXq5fmmVDmMcfePFjehbTR4r1womC\n",
       "6QAIj7UEuhI63JwQMMOyo446lmY8xGIcXDjaVdQLidjZrQryhDzKln2rrlxkQ4UAU6yTjcsdlKIh\n",
       "vQSi4Do2lnurBLiuVnu6OWHHVBESPBvr37KbBatrBqwYHpTguKmXIGPm/1VrfojN5bqVlG8wlEA+\n",
       "o3pZQ8BtpOKcyKI6O7KLDSeO8kLywpCP73SJ2LkH+kBYsX1UtxkrC00Ig2D5hZ0d+lwgyk7J66nT\n",
       "EBgHcI5wQiApd5uYb2AP32cmSwtBZntVovq1urEOkMPJlAPK3grO5GmBwYYQ9cr1XhhQMsU+ryWy\n",
       "fMo2j4RIn2pjiuvhO8N2gpzP1pAXLn9RXkb1RuUjkfYIlRZzXT/9tOA7n0bVGlx7EWVDooEZuUq0\n",
       "kUELnGClbmGm1g57WFXmoyPqxMZwuIdywaG87Aq5NA5yZD4K21aa8WkjDXdhK6JjiPn3vV4CUhY6\n",
       "w3rYU5IYXGkCITIfY4SzLnms4peZlFHc74P2GPeCw6VMO2luPPP2JcX1I86gOXEx+YQxzvXKMZD+\n",
       "gDymbFYooUs9kGlPKV3HUaY9xv3mRFXy4RHI+07YR6FsabgGvdqK+oVTzeHkW/sofJn/4rSmDvWB\n",
       "GZFySAvJk/5+uFczM0iDmc90g+8NghmRYtbB9GGjimzP+NcukIbKSHzVD/rgP1z/ANa8BSTLaKd2\n",
       "AAAAAElFTkSuQmCC\n",
       "\" style=\"display:inline;vertical-align:middle;\" /></a><br>"
      ],
      "text/plain": [
       "<IPython.core.display.HTML object>"
      ]
     },
     "metadata": {},
     "output_type": "display_data"
    }
   ],
   "source": [
    "commutation = Forall((A, B), Equals(And(A, B), And(B, A)), domain=Boolean)"
   ]
  },
  {
   "cell_type": "code",
   "execution_count": 34,
   "metadata": {},
   "outputs": [
    {
     "data": {
      "text/html": [
       "<strong id=\"commute\"><a class=\"ProveItLink\" href=\"proofs/commute/thm_proof.ipynb\">commute</a> (conjecture without proof):<br></strong> <a class=\"ProveItLink\" href=\"../__pv_it/theorems/047b18cacd7345e1e04dab722edec705fa2d4a700/theorem_expr.ipynb\"><img src=\"data:image/png;base64,iVBORw0KGgoAAAANSUhEUgAAAK0AAAAXBAMAAACL0NJjAAAAMFBMVEX///8AAAAAAAAAAAAAAAAA\n",
       "AAAAAAAAAAAAAAAAAAAAAAAAAAAAAAAAAAAAAAAAAAAv3aB7AAAAD3RSTlMAq1RmmUTNIjK7EInv\n",
       "3XZ/CtNrAAAACXBIWXMAAA7EAAAOxAGVKw4bAAACu0lEQVQ4y61VTWgTURD+ks1m022MDdRSBOmC\n",
       "J08GLIKH2gR/sFQw4KWIaDyIWA+NZ7WNx0LR0pOImBXEiwaq9JaDtR5URAnoQcRCsAcRpLaxprHF\n",
       "1pnZt2Gb0tRUH+S9nTdvvjfzzbwJsKVh1NWmsdXxeeMbU8AZWltY2N0grH+cpgOr0ejFTK0qOAdE\n",
       "YsARFi40iPtA5leAryJfzVZVtZdw0Q9cZ99HG8Q9JBGvAPqCyLlUVZVYpKmT/LbXXPd3Y5InjXzV\n",
       "VkSe2eFqmq9wBGEbGnERbJRecc9HEQdfyEZh2FUNRkpMMoG+mZ5+3SBugNOG8CjMXRknjUG3tOL+\n",
       "H+w1VcMx4LZs2TXWcbWa63DZHeDm3dm2mCOn/eqwboWWmSIK6DIMqTXzpWiGF/I9TvG4yXwkYijb\n",
       "O3FL7WyTfHxPw/9cZMr9RxUJjHkOgBLQZDcnhfGSaLQCIpNrcJ86We0CvqmdsBjcYZ3c2Q7MOpqv\n",
       "hxO/2Ami3l900tb3VhZfHNqcF1cfKcraCnSvwWXHullnUtQ5hzISf7MNe5Y6KHvFc46NhVzMixsJ\n",
       "Ck2YgvnOy0OIE9SRVK8iYDk0AJ+YhwJNT/rFHEfFZmimsx1e3GIg5byCfQn30TaxlxF6AKGyXKPa\n",
       "AnCSfgNMJtteFX/6FHtdMFu9uHrGoZt4v+dWCJcRgrR9WlySeDmnBp/MplUh+sSN3nyHrWgcSnpw\n",
       "A/nHS4p346fCDVGYvux8tG1MxJ083SB2s2Ube1YvUQRJtyQjBJdxaMRZb50VYVQU73rFPf1hk4dz\n",
       "rfpFzGy3zHEYSzDfe3jQKYclPKRbbeRcHrivbN6XJNpnME+cD01h/3K+x/LgHm/B/XJyxNIG8hNj\n",
       "Vbum+v8I6/qj3yt4lTUNz6zfWNdde2oDXL22dwzWxf1SuxHbAFfDfxzpfzH+A7xsoa49s31UAAAA\n",
       "AElFTkSuQmCC\n",
       "\" style=\"display:inline;vertical-align:middle;\" /></a><br>"
      ],
      "text/plain": [
       "<IPython.core.display.HTML object>"
      ]
     },
     "metadata": {},
     "output_type": "display_data"
    }
   ],
   "source": [
    "commute = Forall((A, B), And(B, A), conditions=[A, B])"
   ]
  },
  {
   "cell_type": "code",
   "execution_count": 35,
   "metadata": {},
   "outputs": [
    {
     "data": {
      "text/html": [
       "<strong id=\"rightward_commutation\"><a class=\"ProveItLink\" href=\"proofs/rightward_commutation/thm_proof.ipynb\">rightward_commutation</a> (conjecture without proof):<br></strong> <a class=\"ProveItLink\" href=\"../__pv_it/theorems/5699ea4f830169e9b9c8fcd529fb7fa9180de09d0/theorem_expr.ipynb\"><img src=\"data:image/png;base64,iVBORw0KGgoAAAANSUhEUgAABIgAAAAzBAMAAAAOQC5VAAAAMFBMVEX///8AAAAAAAAAAAAAAAAA\n",
       "AAAAAAAAAAAAAAAAAAAAAAAAAAAAAAAAAAAAAAAAAAAv3aB7AAAAD3RSTlMAq1RmmUTNIjK7EInv\n",
       "3XZ/CtNrAAAACXBIWXMAAA7EAAAOxAGVKw4bAAAM+ElEQVR42u1de2wUxxn/7uVd7z18VmgKUYmv\n",
       "Io1cJcC1BVTStL6k0JZCipv+kyZEuG0qFKjC0VZUFBRfEKoSybFNFBqMmviSoKjYPI48+sAqmJCU\n",
       "JLSJm5IoQlg5RJPKNAXzNNgN13ns7s3M7vh2ez477t1Ivp39dub75mZ/O/PNt/M7AzhPWldXGiqp\n",
       "krjU1dXlpng4l0tMzi9anarc7LFO2jZ67MxdcQWixsn6ha+p3POxT48a09L8sgCRJ8OfJysIcJwU\n",
       "6RVvX1mBaB5/GomRw1pJ6bUue7np/xpEgaz00t5yApFymD+/iR5WS4qvdqe9atAqm5+rrb1f9MN2\n",
       "b66Nr7fxLQZqr1Eyzu1J1KA0kNs8bbPNKBvpvFLb8WkXX4lTdFKOh3gZgSjMP0waHTq8OVb4fH6U\n",
       "lsi5FIyZ2dmDNqVfR3PoZV4WeTMNN/zdquGjU+C9I17IoEwN15ZLAL5zNhdq0DduiIFjG5yiKumK\n",
       "3PtGGYHoVv7UT++Yv455aLV385clci7tys9htw1ZSytX0TxwgZNpT6KRyT9k0bDjPfSxNFnIoEwN\n",
       "2xYVWYUlNhfa0FPk7wWnNnhFPvmK/L4yAtER/jRED78/wMw3kS+Y300m59LJT5mP+/rL1tI+JPNd\n",
       "5WRV+LEN9Fo0/AQ/6MsKGpSpYdsSwS1ZHrdeOIO+UeC8YxuCojekHbs8WTYgigzz5zfSwSJ7hhng\n",
       "w2q7MYhI5Hzqe8TIPRg5Zy3tQVNc1WFOdgBrVROihiCpvamgQZkati3VeGJtzlgvdOLvNeLYhqDo\n",
       "R3J3MFo2IApH+fPFdNaC2XHW115hzGYSOe8NZKqMCSjhPW8tHWoHbXqKlSkfkwkjJWpoJuvk3xYy\n",
       "KFPDtaUGY6Atar2Ao4HqWac2REV75Yv84bIBUZuwTKJP1p3QxiyJVsANek4m5x/BpFcfDAIxdcRa\n",
       "uu2p09fGOVnwqr2GA8IKWmJQpoZrC3Z9oCFjuUBcHN+IUxuiIhIg8feTxD+P2tWyAdFnhPO36QgC\n",
       "zahHnqW+pxqFsL4IIXKtpzYtyLn0EMAxY+BS0CP+9CBf+kwSvIc4zWHdF9bm8Rrep4NFIYOiGtu2\n",
       "YNcH6hpFE9TF8Vx0asNUpMtvlnftk2UDooPC+aukYx9fUNcO6mkadfWkIEKHBCr3g7+Pl/NpKsBp\n",
       "PaSy4DY0WXib+NK/wWNMipWFCMw0aP03r+EtcpYuZFBUY9sW7PrAfywmqItT0+vUhqnIGMnlXduQ\n",
       "LBMQqeftQLQbdWufGbp/Dt0YmqPymkblMi+3RJp20RzqdeSm+DN8aex/NGRZWZjc/XqAmbyG94lv\n",
       "kSpg0KrGpi3E9fGdt5igLk5D3KmNvCKalsn7dk+8TEAUGbKbzpC3EO41QYSjbLdDXu5L0/7Oyy2h\n",
       "Rn+MzmYAx42eMUsT3NZxMhrayRh32NRAIkTBQgYtauZ8+XT05Fa+LcT12dluMUFcHO11xzZMRcgI\n",
       "dqpmSn0iCEXLBETVvYLgKewPx+n7Ch1E+JO8MjPkEOzj5EJHgPHK7HtAXpPs4bVg3KqXOBkOP0Iw\n",
       "bdxhU0MzHq/2FTIoqtHmHkKz9Am+LcT1+TVYTBAXp7rJsQ1DETZyeHSMVPeVCYhCYlAEL1k34B4Y\n",
       "MkDkw3eS7Dky5HSfgynXMCL2NBkfX8OV8DigYIB2JmnoKa+lComXreRls+MQ2GfeYVMDDhDck7YY\n",
       "JHbyVkU1yu4muExjFaYmAv57E1YTGOWBo+Dchq4IGxk2QyK2KThIQUQGpBlOQeQhU3h8MoFoT0IQ\n",
       "PAqwI7cSvJ2XMjqIPLhz1SwjV7ZxcsD3IJwwPq7DF1vRHei8lIbP51bRfjZLezrP1l77GPAatEW1\n",
       "C8G8w4YGgO2bp+BnUzRI7JhWLWo8WbWXzsumJmy145s2Jqblaqc9nnRuw1TkyZLQ+DvyvvVdpCBa\n",
       "SCMEDkHkbyQBiEkVJhJXImEmbuTts6/0c/iFGxvvpB0XnTkmBkOpSLsymHJlwq0NZMSfSIHSN8qi\n",
       "5SoF0UMYou1OQaTigWvdpJrOZsfExydREETK1oe/7cbGYLZIELk12IyGCV97whWI3NpARsIbU8b7\n",
       "atukXaAgwm/6gzHHPtFKkO8k+GSmBsvz+kS+X383Ynv7Q7ncoBsb33HsLa5fvX8sDH4XTQfK9Wk3\n",
       "JlzbQEYiLxQYMs5SEPnwesS5Y/0ldGyaVCA6Y5l8d0AlOU9PjHbxir46+2t//xHnIAr19x/PTKpO\n",
       "OGB5XpVsBRrOw2yjOsB/1kH0LYBtzkHkT0E1uStc6N1+XNU+Eb2wNF1BQslSvw6iNaBEQauTlFKO\n",
       "vgS3RvMgQmXXkJOdjKuhvWZbN1/kkQs9i+jJicX79pkgn9LTbXOH2SIA3zer4lhg5+IXt1priGLv\n",
       "qvuOmm5eXeVWly4d10FUnQ42Gju1hNQ6bQt8Npj2p/MgQqPWS3SWYJzx4Dn7icQs4uuDCA45wL2x\n",
       "fAQ58DZ9Uykktgitymy0/yrABpvxlRXjRmczP62vgGgcQeTNYr/aLizpRzMdzMgmgsx0BrOoXx1o\n",
       "YRyLu960M8AU8STAh1cGeGu311iY3oywad3YwhWhVWGReTYFtcomHsGISaOzmeAzlelsHKczaMIB\n",
       "chyW9H299URkform/qGTReo/9yAHoioSHodIFfMuLvsDW5csXyQUg1043NCMxiZVH58UPHxttAYn\n",
       "mCJ6VfjIPHsZ9CGNT4yYNDqb+Zk5Ix6wjlwV8qLzpIATxxqeX4m8GjxOPLssHopGonouqZFnuz74\n",
       "zD0siII3kic7688v9CPwDTsDuMhaCofmk3Om4uN05rLHPs43XQQVMneH+Y2GQd8Uw3/RvJg2Orvg\n",
       "L6YfdcYSJ6qQF12kwKhL2YMGiDZE9V1Vv/wQalJkawzOpQMkVFkPiQEWRAqpF0ihJ1/RV3V3oaEi\n",
       "MGuhaB0XqU7qPos2BR9fod1O6oXInGWp94rV3YG/GaaQgwThqKUOFVOrcToSbfrAuGgNNpaevChl\n",
       "GMqZh7ZJXtyOHjne5EWULhgg8qSMXVXXQwuEYzS3DHz3d3Q8hkDUXcWCCMiQ4u/ZOwwb9W2Zi3vq\n",
       "0iF9OwTjUeEiIdNnacaVse/k1euFMMRjlnq0COfuqEOGKewgtSUtdaiY4ok0GvlExhwMs8Vo8jiQ\n",
       "F2VERUFeDFExT4+cMPIi6soRA0QEH3fjz9dgAJpVmlugqhk6EgVmcSCiUxXgDU76Fl6EkJSC8CfM\n",
       "ZrjIOtNnWY4fm1r090+9nieKI1mWerTInBlz7vwDOT+EvkbWMBVC48wDYKlDxb6FX8wAbTQCUcS4\n",
       "2Ca++yk9eVFGVBTkxRAVGXrkxJEXzRewOlYj0A3KIBqB5vtp7r16GoOcC3TzEwciPGmcI3e2m2zM\n",
       "qkEw34JPtAz5QAda5CuARchn0Y7izM5GiDTq9bRXAfCcs8WoRD9okVntocabSNUh0PAuMmqqOQk7\n",
       "sqRON1NLF3sH8L6qbTqIWo221oidUHryooyoKMiLISoy9MiJIy+C9xwLIv8H0BILRGEFrDlFc/+K\n",
       "wzpkW303STcRcSBaEoXtlxrxnW2J+Q+CtvTH4E/hE/UwtCTVw+rLehHkvKD8vJGeRTGc0RbsP0UR\n",
       "0RKD7YtPp0kIHF3AlfCHUaQ69Rzcji98ONKzIGlUiazueRFvdEF1TFOMeCr2cXGjvQ+s6jD7Miw6\n",
       "vqUnL0qIiqK8GKIiQ4+cOPKivvWY3dkYE3PaHzu2cEZEAB9jau2LsCoMr+ZYjPFwvLJ6eR/IyIWR\n",
       "99sXZy6wVUidmLXdfZG5aUujwSOGBEpOXpQRFUV5MUTFPD1yAsmLBMociAJpa05AqgCi1iMxs2xV\n",
       "7mO24t36cX8ynzczlnpmCTP3NJrprk/mL7BVSB2b1mpR7ws2rfYJLOrSkxdlREVRXhRR0aRHjg95\n",
       "0T7RrccMiHw2udFBZCmbP2Gd2bidkKsXt60nnkpM+QqsV1XxnUzJyYsyoqIh79573WjKnREVTXrk\n",
       "RJIXCc2gQl4sBXlRRlQ05AkaPS2KqJinR1bIi+ORltiBqJTkRRlR0ZBfhOYUFElUNOmRE0pepK8X\n",
       "ygFEyxttprNECcmLMqKiIb+FgqgooqJJjxwn8qJ9Kp8fdAgLgaKSkxdlREVTDn8aRbkzoqJJj5xI\n",
       "8qKvfH5aRlyelZ68KCEqmnL1GBRLVOw16JETSV4Ml8+PXIk/t1dy8qKUqGjI16WheKKiTo+cSPJi\n",
       "Gf3cHjTwC9rxIy/KCGAJxc2OplGJii7Mjj15cTOUD4iqeHrK+JEXJXdz3cOb0i6Uj0pUdIPdsSYv\n",
       "BobLCESq8GPo40VelLEI38rl3CgfjajoxuyYkxfprqFy+bcMA/xphbzoJsnJi2X1bxnEfxCjZCvQ\n",
       "cJzk5MVA0/8Eolsm6z/N+2EFDGOffkXB0NU14ApElX+aV0lm0lbSY2fuyn8BSGbP+ZedwYIAAAAA\n",
       "SUVORK5CYII=\n",
       "\" style=\"display:inline;vertical-align:middle;\" /></a><br>"
      ],
      "text/plain": [
       "<IPython.core.display.HTML object>"
      ]
     },
     "metadata": {},
     "output_type": "display_data"
    }
   ],
   "source": [
    "rightward_commutation = \\\n",
    "    Forall((l, m, n),\n",
    "           Forall((A_1_to_l,B,C_1_to_m,D_1_to_n),\n",
    "                  Equals(And(A_1_to_l, B, C_1_to_m, D_1_to_n),\n",
    "                         And(A_1_to_l, C_1_to_m, B, D_1_to_n)) \\\n",
    "                  .with_wrapping_at(2),\n",
    "                  domain = Boolean), \n",
    "           domain = Natural)"
   ]
  },
  {
   "cell_type": "code",
   "execution_count": 36,
   "metadata": {},
   "outputs": [
    {
     "data": {
      "text/html": [
       "<strong id=\"leftward_commutation\"><a class=\"ProveItLink\" href=\"proofs/leftward_commutation/thm_proof.ipynb\">leftward_commutation</a> (conjecture without proof):<br></strong> <a class=\"ProveItLink\" href=\"../__pv_it/theorems/c144a2af5000a7ea8aa5df162934ff78b5b072070/theorem_expr.ipynb\"><img src=\"data:image/png;base64,iVBORw0KGgoAAAANSUhEUgAABIsAAAAzBAMAAADld5VWAAAAMFBMVEX///8AAAAAAAAAAAAAAAAA\n",
       "AAAAAAAAAAAAAAAAAAAAAAAAAAAAAAAAAAAAAAAAAAAv3aB7AAAAD3RSTlMAq1RmmUTNIjK7EInv\n",
       "3XZ/CtNrAAAACXBIWXMAAA7EAAAOxAGVKw4bAAANS0lEQVR42u1dfWwUxxV/973e+/BZpTS0Db6W\n",
       "FlER4Ko4qCRNfYDTFgHNFaQqbUhwVFVRSFSOfyLRUHyp8kejWrahocJVGx8lQgXz4aAkTbAKTlIV\n",
       "aNTGSWiEotAc5aOCUL6xDTS+ztfu7MzO+vYanx33biTbs79785535rdv3s7MswHcF33HjhxUS7V8\n",
       "PFpEC4XUBL3VzdXRHv2ynbKnplDoKIlG6Yl6w55kddBHv2jvsYqvQmj0OfEyVKVACSXj+MmsyqKR\n",
       "r1m8/iclU7Na2gl3Ko//n9PoQcdPwvGKotE68YHy9pAfwYtqaSfcqaxW8LbrUt3kze5xR/6PIK+f\n",
       "qftUqEeAYl3X6zo/o5A9U9gwZUPGvV1BUcw5Ininomj0D/FyG/0xx0qXvbzqhAuF496C5fFMsEoE\n",
       "dWx91j3upF2StzY5dxa8S5OieC1ypI0JhZ4BNNaXwb1dQdEqx469LVdBNPL1idcL6Y/5g5ZH+11e\n",
       "d8IFV8Bxfz1/zHcZ82FLHmBlyj3upF2StzTZfhR9uzcjircjcX+fXY82jL4tAfd2BUUNjj0bTFUQ\n",
       "jSKi6wfaPeEnhixe/KvmvTnhotfn+B8OcG9x4tOs0oiwxrx73Em7JG9p8hh2BCsk8QtIPHDFrieG\n",
       "b2ll0r1dQVHEcVkoMFhBNLogdoOXPorrYxYvH9XMnnDCxa4w8VD+Ap8h+p9mlXo80Bn3uJN2SZ43\n",
       "CZNf8ilJvAv/QjftemrwPN3S496uoCjoHBw9VEE0eku89NPuTHn5Ywsz4WGj6oQLheN+mJPksXuQ\n",
       "DflhgC1HwT3upF2UtzRp6cfffy+JX8cT2CW7nlo8zu1x93YFReG4Y9fOyVUMjbQhaUInwx5IaPyx\n",
       "Rd33JcNPO+Bi4fgyaDef8mDGS4MF7fr54z+0WCyGO2mX5C1NDuRV4jgE8t20f4BDHWjscW9XUETX\n",
       "S5Yew0V6JPfkK4ZGHinCjiaoFwmhp02fS7stDtGc4V0w3v38ZyVcZCbHU9ASB72e1J8EoAu7MRQz\n",
       "3JY0tNtwpp3jTtqZvKUYTT7IqMTxA+O5BlubpQ9wqAP1afd2mSLmvPoc+7amv2JoFJF8coTcxpmm\n",
       "+chzt/2bMi0LMfZ4UzwFSyVcZKaJx55pqkedOJ1c3AJwnvYu6vjwkKHdhjPtHHfSzuQtxWjyJrnK\n",
       "SeI4BKrt0873S3pwqAP/KcEuVWTQy3khzTdYMTRqTypopKP++giM9fxtCKBdz/Br0JIVcNvKE8N3\n",
       "o+5GtcWkLXICu2gsgpjrGza023CmneNO2g09/JXcaPIBcRNZSRwPZ2MSvP2SHhzq+K6UYJcpYvO8\n",
       "szfSr1QMjS5kFJOaH329b9IIL7stYHMawe+kHc5x+zLdAjanQRT18t+NRT1/wmAunhNmgRJn2jnu\n",
       "pJ3JN3ztfPzEZkEVWTEKy+LoGdBRVM5oZH5AQp2dHSXYpYp8C9tOgqFOGRvBqxVDo9/I8zl23MuB\n",
       "7mLQgcb9RLfGDBz+KOJiMfFAkmye6MTtR8HYkMPMbW82tNtxqp3jDtqZvH7H62i4jgtN8Lok7JPF\n",
       "EUlqmk0amR+QUOdXUIJdqmjrimQkMzJLflsxNDosXeP31xD2010ZNtA+PCY1+EE1cXIIguN7UK/r\n",
       "A6xiwdfhyiBbivoG/kacxmOIYH/OGTSy4/SIhYkTpaYJrp3Jh3Y3wxCdN80meFXi/pz4y2P+B46Y\n",
       "7oN/gHcJH8DvZpJd845ku0zRT05Dbc5cIVGWA4xGJP6c5pZGHjIlT6jTO/pV+YWkH/SugRx8pfAo\n",
       "G2gPHg8NO3ITX5uz4hDFg3DEqJj49sIq8HYN9NCOJq9BbehrSqGu7pGE6evsONHOcaLUNMGtGvKe\n",
       "vNYHbwtN4LkNk+hTLYhPeSZj0sj8wNN1qa7zW2C3y+/oiFrRVLJOPpL7aExTGt1DFwxc0sifJssO\n",
       "E2rZaFhGrOt5s9SNQqlQKTcZ/YEaHx3tEMnGOkIXs67lvf2jYxcOQZMG8NOR3l/ylEZPYvUdbmmk\n",
       "Yee1dkLNad7LMtJQfKDX/vypXAk2amMl0ahE7dCC/JGvI/WxaVSq3dBFODrD3MpWlj0pSqNgzvnc\n",
       "gCI2WgXOhyc+mcU3ZFsz44/kE6v3Kxu9WSiUYsN/SgmPknb4LpoAQlNdMyD00s38qNgNxOHD5MhO\n",
       "Bi9JYBr58LuG+xD7dvSzeULRKDZoi5Y6oFrcl5qRJkKywoTf1P567Ngb7mkUOXbs/Z4J1QvhGzZo\n",
       "fZUbJZR/jRi2NTMafRvg1+5p5M9CDfGuuvUTtb/VPxG94L9RZUL5SrSf0WgNhMy9RcU8e+RF+Hqc\n",
       "0wjJriEXOy0vDvohZVsu8vTV3kXGhda1+AXF8WIbfHzxPry8FhDw71sUWYoMT39pqbn47LlYHewy\n",
       "0qiP0agmF04be4tSaZuyCb4QzvlznEbIc71I150sYXn4snppyhTx9UOsz7i4G+CcQlqCH0iQjUmC\n",
       "8yP5SFHooCKMtsDa8c50LBz6YrZKo7GkkTePI+zFqukAzXcwLZ8KWyY1mE0j7ECr5WXgvr8p43wu\n",
       "4kmBzxzNSQCNCnER9v4FfaUY7u+wKIJF9rZWuAnxJxaGfYnqpDaWkxo048VxvLfoW9h2PDYvS2sn\n",
       "AU5guRlfXi/QKEjWzCEWtBy/yD+kfEXiIpEE7DKXvl8D/R2FuAi3IBZoCYpbPBlSpHJlFpikwyBv\n",
       "dJcRr4UH7TN1dfhLKBlXITbsXQV0bxHvxMVjcVbL0PfiGeHf3W+lUXg6GZ+8n7/2x+CbKgtY5HHq\n",
       "E1pONNxijuHw7fMV4Y0E32riyJn4zeW0FmR8qb2xBd5OfiP/EjNci9nWjarpjiWVB0ekUdyg0bo4\n",
       "O+aOd+KyZHuI7MkFiP+YAakzVhqFyNGAQBZ5iBB7w7sPeYLA7HvkOQ2LsDWHu0GfZOzooDhmSwqW\n",
       "nUzbwpstKX75JwsO0ThriwMleMvemMKkLCfUCWvfMUTsy4/lT3dU5SLOwxtkiuen1BRIJz0wDumO\n",
       "ALUpg0aerLGJOxVa2RFTvCfne6SzcyOiUXfQSiMgbsXf+/wN+Bk7ibm4tz4XgT1yZIVFImbc05LW\n",
       "ZuVYHBO6Bn36RVt4E7rGL3G05TXCnvYMa4sVaYP2xhQmZW5nZ2cCxUY9xiB6r8m3PgbpjqpcxMPo\n",
       "ZoYUGqSUxqIWJT0wjumOAHt6wHJQhO4tHoIz0KLRWpOm9VBvFJgt0IhOWBAaMg8YI45kQ4iB0pyG\n",
       "RdYacQ+szLKDviiOCQxBRuuzhTcIbpjWsOxlfFlnrHtF0GD8GIxDwq8jZ5G3N6Zww/KZAL+g3gh6\n",
       "jPheuyLfevnTHVW5iKFh5KGvKjSIKY1FLUp6YDzTHfnWLGNfDLrxTtxUmOentaMz6KrkHUAPTAk0\n",
       "wvPdZUKjbjKN1CLibsIXeg/5hn5QkbsAQyi+0Y8QKnSTOGYX6rSaNBfn8OyOSHomRnamIZYmeAa2\n",
       "50lbrGgQ9GcBN+YtOTy7Iwp0cRTR6GXzNVE+KDIG6Y6qXEQ8uVoOxDqlNBa1KOmB8Ux3RK47YaWR\n",
       "/xS0JgJxeBjWnKW1D5OwFunS3s3QQ0YCjZbE4bmBNKZRa8L/Kuj3/gj8WXyhHYTWjHZQe42JoIAJ\n",
       "1efe7F2UIFRoTfhW976wEcjiuSnO4ZrsNliAm+hN+89iiRjC8VEZ1Bahp2/2NmVIY3RBW2Y47Mmi\n",
       "aDeEw4zpp1/5pXmn8uNd/nRHZS4iXr8KHlRoEFMai1qU9MC4pjvSE8rC6ceEXNNf6dwkWJGfk/cs\n",
       "rfbFrCq8hkSC18nEZEiEc3mFRYjCTOhP8iYJa1sTxY29INtCjU+gubm7s1P8PT8vB21lT3dU5iKi\n",
       "EEi/NavQIKY0FrUo6YFxTXckz4BAo0DOXpPIKtGo7Y2EKRssfGRtaBzj2p/hde3cXi6xutCvsrgF\n",
       "TsHUjNnExHFbEyWN+UExs7YFZqqem0bpdsqf7qjMRWx/9vzkpAKXUhqLWpT0wFilO6rLYZlGPkVt\n",
       "ZBrZZPmF9T6TxcVli0klnlRfFDvS2y69lpQ/3VGZi4jcvxe9CmxtlnAxBbK4RaZH9dHYpzuGhmUa\n",
       "uVj4rqY7GqsTI6c7KnMRcYLKgaw9FVFMgSxukepRflRNdyxj8fcpaFTWdEdlLiKONNALmS0VUUyB\n",
       "LG6R6VF9NPbpjp7KSb4OXFNMamVNd1TlIpLlq/q0LRVRSoEsapHp4fufY5XuqF7EzlcMjUj2jKWU\n",
       "P91RlYuIQyBtwJ6KKKVAFrXI9PD9z3FNd6SvL5VBI+lVrfzpjqpcxCDSvGKVPRVRTIEsbpHp4fuf\n",
       "45ruSDcyK/KP9pU/3VGRi4hTDidvBFsqopQCWdSiqcfc/xzPdMeK+qN9Pung2tilOyrKaKUi8v3P\n",
       "8tkomu5YE68gGsGj4uXYpTuWMMQlWjT2P8tpo3i648pcJdGoVXwGxyzdUTUyo5SKaOx/ltNG8XTH\n",
       "t6GSaBQTb7Oa7lhScU53rLB/9iD/65lqumMpxTnd8XvwP9Hozon6b/mCiSobRr9o9FikvmN3aTSq\n",
       "/lu+arGUbdSp4H/L91/LSQDrhnioPgAAAABJRU5ErkJggg==\n",
       "\" style=\"display:inline;vertical-align:middle;\" /></a><br>"
      ],
      "text/plain": [
       "<IPython.core.display.HTML object>"
      ]
     },
     "metadata": {},
     "output_type": "display_data"
    }
   ],
   "source": [
    "leftward_commutation = \\\n",
    "    Forall((l, m, n),\n",
    "           Forall((A_1_to_l,B_1_to_m,C,D_1_to_n), \n",
    "                  Equals(And(A_1_to_l, B_1_to_m, C, D_1_to_n), \n",
    "                         And(A_1_to_l, C, B_1_to_m, D_1_to_n)) \\\n",
    "                  .with_wrapping_at(2),\n",
    "                  domain=Boolean), \n",
    "           domain = Natural)"
   ]
  },
  {
   "cell_type": "code",
   "execution_count": 37,
   "metadata": {},
   "outputs": [
    {
     "data": {
      "text/html": [
       "<strong id=\"rightward_commute\"><a class=\"ProveItLink\" href=\"proofs/rightward_commute/thm_proof.ipynb\">rightward_commute</a> (conjecture without proof):<br></strong> <a class=\"ProveItLink\" href=\"../__pv_it/theorems/b9b027c9fc3f5d8a765c429275e58518e5225e100/theorem_expr.ipynb\"><img src=\"data:image/png;base64,iVBORw0KGgoAAAANSUhEUgAABaUAAAAZBAMAAADTWl+lAAAAMFBMVEX///8AAAAAAAAAAAAAAAAA\n",
       "AAAAAAAAAAAAAAAAAAAAAAAAAAAAAAAAAAAAAAAAAAAv3aB7AAAAD3RSTlMAq1RmmUTNIjK7EInv\n",
       "3XZ/CtNrAAAACXBIWXMAAA7EAAAOxAGVKw4bAAALuElEQVR42u1cfYxU1RU/O9/75mNnU2qhDTIN\n",
       "1tAgMFQgJf1gtFClaJ3qPxawbmsa4vaDIWloKMQdSf8oycoORiqQ1h2VNCV8OH61KZvAAiUopnZq\n",
       "0RjDxiGoZCkfC1gW2cr2nnvue+/e+95j3lS7pe2chJn7zjn3nHPf/d3zzr1vFgD/NHGgAE1q0jVN\n",
       "pwcyjah3NO/Y2FMzjfinKH4Es01MX9uUoqyz0kO8ssFJ/9+ewnCNMJ3Gi8k+Md2CX4FsE2pjRlPp\n",
       "a7mHeHlj1iJDLsxdG9qzq51sY7D9E9GKf9seZhjNHW1vf7CoLtXeD9o3f8ptDXsJvGhwdMOEDebD\n",
       "7DhhegG2l/nEdCiPN6b5OBwzMiixBkZl5nNWy4uvUNwuMGcMObVTr5bhhr86tU+dhMCdWd/GNTOK\n",
       "35cBWi6pvDY2sHkZF2VdUHdQFxmMz5trtswx/TA+kko+MR3DrL6qCbUxoxCBKjRJyiPGG7bYg6/Q\n",
       "TrvguGXYoW38mmXQ0LBDe9ub7OOugl/juhnZb/QKKwveV3k9rEwI9bsoa4K6g4ox43CHuAjmOKYR\n",
       "2vGMT0xDp/fKadK/gRL09fu90qM7NTNvNr34Ch3/pJXcVl9yaEcOYyHa79D+IcMFLPVtXDcj+w0y\n",
       "r8ErKu8sCzx8wUVZE9QdVAqHdL/5PDnMMY3bxIjvPeLNza3imNKNlOhqZ6Wsk4yZj1UvvkrVdWbr\n",
       "odR5h/ZetBDL6dpxrvlz38Z1M7LfFlbxRA6pvF4Mf8RFWRPUHVQrllNdZt3/AJ17/Glg4BXfmE4M\n",
       "DBytNKE2ZrSISgyYkZW3jeb2x4uvUKBibYBygQu6dvRD/oQv6tpdVfz8rV/juhnFb6IExsSiyvsA\n",
       "l8A5F2VNUHdQbYj5nrTgP0uYvh1gi29Mh4rQWm5CbczoAf55N/RIiWQZ3CBaXnz1rKMQEOkznImN\n",
       "6NrxK+7ae2sqv45x3Yzit+eJM9dlVR6vgoMjTmVdUHdQWH/DPPM2zCFMr4Bo2jemmeoKqt1lgTvK\n",
       "jf8QDnJeYV11MV6bK/U1MaIue4rYPj1ZhqvyFXoY4C0zrUfP6drJYXftt9XDrXrGdTOK37MFCBxQ\n",
       "ebwKbvm7U1kT1B8U1t8wySy6byJMt5bjeTAmedzU6JEX4ctpC9Mspb/I2zukx4zxkmtXW2Xd+30L\n",
       "6eLYot27rfJ/XN92Z7wa99tWV0w0vYte2OR0pLFLHmF5hOkiXCc71cOUh1AneD1+7yF4aMNBbvWx\n",
       "+ZPYoJ6mjUxLEVKURIlv9LWXVb5K4wHOUGtw/i3syf7kkKydGKL0Y8xRtf9MC92vcdOMq99fYd4v\n",
       "KjxeBbf1m2NyCPwPCutv+IfJ7yFMB2oRazOi0foJG+Gz8XKobGN6utgi7pXPFs+7TpCtEqxCim+J\n",
       "78tAq7k3Dr9Go9XwqXFZ1+gh6+orAGtcTsdVdskRVqfrtasQj4GseDvVgLhMGoLDjBq8acqKv1OL\n",
       "NSLD36FtY3oXm+UqxM7wEhd+w7BDLeKHIFRV+epiZfO1k1oMHKzsDXTI2kkOximw/rSq/TavWot+\n",
       "jZtm3PwCPhzm1RQer4LnZc0xOQS+B8Xr76C1TVgq3o13fNXajGiHo6zUhsm1XNyuPSAS5Msm3C2t\n",
       "nntfdYO0pNKSgyAOOnCY/TNLg5vYJDprJZ3LusJC62ocC8plH6yyS3pYwc+4XrsKZ1bseLlICghl\n",
       "0hCcZtTgTVNm/KQvxTpT3m3r2lLtwZhJtowCNLl4lHor2Py2fPSSylcIz2lDGSo9AI6yr4qsTUfK\n",
       "jDVN1eYn03Hfxi0zLn5jF8zqwOZhFWy8bI3JIfA9KF5/77Amf5rA9HOYP17Hm/619cdSc4vUeofe\n",
       "NMKUzz0kYzp+I08uqYhUg9e+6/octlUSGdiJnrpYGDGRvaOYGNc6Sh2dy7rCKetqP4iEr5LKLulh\n",
       "tdK2Vr92FZa22PGiSA4IZdIQHGa04E1TZvykL8VakvfmujbRE5gcsvRSW8w/fvKfeQh+sEzTb/FV\n",
       "SoL5M497gL9LT+ZlbXwfAvGyiWlLuwsT0m7fxk0zs754Jn18k+o3xfAeu6jysApu7bDG5BD4HhSv\n",
       "v38J6BgzzVyB6TUMewam0aeXZhPpVFq0CgYHx5T4U0skTEf3EV5C9il1Cr7uhmlUWUmz33V81nj8\n",
       "nign4KpbJwe3i93uOy3EXwbxTFIXgsou6WFNDldcrh3C6PfwtyxL7HhRJAXEZRP1ntKFGrwwZcfP\n",
       "9aVYScFL2zqbgjW4HobN+efPydaixId4VeYbCJ9nOkQD8CEMiLIorqTeAjyjWpmRhfBuMDFtaeOp\n",
       "35Kyw7htGBu2ujBjzD4A++CYYgkizPHSTpXH1lb4CFiYdgr8+sXFfl+OOz5E5QbHNKvDqcj62XvQ\n",
       "VuSPJmyVw1mqkXKDEqaBgzNcZLkmKtLMvSy1hKcv0EsPVGktiHrXGIfffyQI8n4J/gDX+yVyzlIZ\n",
       "/mK6YuUmJNMOX8TWMY1hwaoyZ2xRwizJh5e2EB5n948fVYp4USQCQjtcRkO4+528ixk1eNOUFT/X\n",
       "l4bQKh+LytoSPQKwbbQTAr0XK2L+W7BPrCbx4ZGyzAeERDInGvBpvjFigOi9WIbPj/6Adk62trGw\n",
       "fQFYmDa1AbZuGMcTumbcMswbtjqZie7qgEtUx1qilt5z7dc9qlqfMNo+4bGCjWmnwKdfNL75NnJ8\n",
       "mcoN67emVGRdD92QzFBrKQQf3Lz5UYbp7REZ06Te9+xlWCtOUxb1TSonaPnLxTiqJKx6twtvENas\n",
       "AdEvgZFm9H7EVUvl2LDpCsvNnoLDF7F1TGNYsWll/jvCJXKY4trMj5YQ+vEHiphMKV4uooC4HS6j\n",
       "IfSz55rTjBq8ZUrET/rSEEjBRVt+yEqnIIGqx9GUz9cLymscB037WIy31GL94gDSF3mNqVG/zDG+\n",
       "mI9WJUwnF+PnSzAIXTFqzY/FKpSnw9MdmK4BljviRJEBoBhlq0ErPVBllVXv3o+T087+nRD9Wlhi\n",
       "TRX0fsQN3nrzgqk0mwfY46VmukqwcH8MDl/EDi74QkXCNA+LH2624nmlFCZdW/nRFpZ43y1mvFxE\n",
       "AXE7XEZDKLCZc5pRgydTdvykLw2hJL/skrVn3TPVegTl6s//T+Cnjcz+6+VGMN2g8UQxVYoOFT86\n",
       "phv0yxyHckX+ky8L020p2A7RIZaf54ao9eYUuuOzgeojGdNYlZznE7Wdbz3aWHLaCEaFXZofpPIl\n",
       "wDarIY0j2NiRh1Re9DMOArwLaj+TGxiEg4EK7zoMBu6TyFVXAbbVeJ/tUi/BZp2qEqYprCTPr/hj\n",
       "cStMuja7S8Jghf80/DsiXqFHYTI7JBNDaM27mFGCF6bs+MmTPQRSEGNQtKeXktZcPV53/qObfvGN\n",
       "RmZ/qNYAphs13sUSZrCU+8iYbtQvc5xcW+Q51K493oXuTDgNy2DFSWr9LQur2HqLvVGgvwSQMX1H\n",
       "GrZezONEdWdC+8C46/sQKkJsP3QXYofwY79QYSUWa88Z6VuYwYYxf89JmuDuDGxddKYMaj+Lu8no\n",
       "CPEe7430zS+YXVLL+164DXif7gw5OiSxx4u/4uCYFmEhpvEO5+ww6drsLglDeX7cFRLxkkgExOyQ\n",
       "TAzhdjczSvCkLsXPVaQhkIIYuaLdUrS3+tvsaf7diCsaE6OjQ43M/jddf+i2evmej8P4tyBSiF7v\n",
       "+52s15ga9sscp56nDKD87VZGbxl/2LxRezeu0FtSp90prDOt5WdqZCRuoH4/k1sNVJJBWSB34X0y\n",
       "zrCrqdll+SyP11Ta7cWuXpR86ioy1U68XPPWFcE7bpXfOCAJxxdbs16DJvmlVEHDdLjsbKmkYXr9\n",
       "KxlLNTL6IYA1EVZrT0HiLq7bz+Qa6VS+5YQkkLvwPi7BGunA86BhOnZK/bE3d+dF8ROeIt3O8tGq\n",
       "91t2Ebx+q3zHAU/C1Oafx/3LJGM66NK6KqYdqlmXltTO1u2nO856urpasKXmvDYx7Zd+9N/x/3s0\n",
       "/1zy/5lOH83+Ey9abC+1YbBwAAAAAElFTkSuQmCC\n",
       "\" style=\"display:inline;vertical-align:middle;\" /></a><br>"
      ],
      "text/plain": [
       "<IPython.core.display.HTML object>"
      ]
     },
     "metadata": {},
     "output_type": "display_data"
    }
   ],
   "source": [
    "rightward_commute = \\\n",
    "    Forall((l, m, n), \n",
    "           Forall((A_1_to_l,B,C_1_to_m,D_1_to_n), \n",
    "                  And(A_1_to_l, C_1_to_m, B, D_1_to_n),\n",
    "                  conditions=[And(A_1_to_l, B, C_1_to_m, D_1_to_n)]),\n",
    "           domain = Natural)"
   ]
  },
  {
   "cell_type": "code",
   "execution_count": 38,
   "metadata": {},
   "outputs": [
    {
     "data": {
      "text/html": [
       "<strong id=\"leftward_commute\"><a class=\"ProveItLink\" href=\"proofs/leftward_commute/thm_proof.ipynb\">leftward_commute</a> (conjecture without proof):<br></strong> <a class=\"ProveItLink\" href=\"../__pv_it/theorems/061dfb589184c48e847cab4c524c30f88f1284b10/theorem_expr.ipynb\"><img src=\"data:image/png;base64,iVBORw0KGgoAAAANSUhEUgAABaoAAAAZBAMAAAAiUQQoAAAAMFBMVEX///8AAAAAAAAAAAAAAAAA\n",
       "AAAAAAAAAAAAAAAAAAAAAAAAAAAAAAAAAAAAAAAAAAAv3aB7AAAAD3RSTlMAq1RmmUTNIjK7EInv\n",
       "3XZ/CtNrAAAACXBIWXMAAA7EAAAOxAGVKw4bAAALiElEQVR42u1cfYxU1RU/O1/vzZvdYTa1Rmpg\n",
       "p9nWkGyhQ1hN6RdTxBZE4hT/sYKyrWmIG1uGpKHZlnZH4x+arOxgSgXTyKDGlAA6UO0Hm8ICWmxN\n",
       "67SlhpBuHIJIoBRXlA+hZXs/3zv3vXuXN8GutM5JeHPPvb9zz7lzf/e+c9+bBSC8TBkpQlOacpVL\n",
       "euQvjcB7mt/YhyDNnaThb2tWk9VX+86TZR+rDM2rGuxu1f/513UPZ3WGfnSGZHUL/YjkmlybOOni\n",
       "HysMzSsa7E6Hd463f8yqKlWzx9rb7ysFoaZ6g0Q3vtN+7Xp92/GxtZPXFhtpgBAdpXOM1bfQ8vKQ\n",
       "rI4VyEeieU+cOHH4DTIyhit3uCVTvSKprBbvok+egMiinIr8PUDLeQ3WVG/w2FoG6FBXgWtylrD+\n",
       "tC5KYwOE6KiXsfoBcrXKIVlt0529r8m1iZMYvzHGOtBW4rzuNRvqFdnWo8O76M0HyeX2ooK0LgHE\n",
       "3wv2bKo3eeyvAyzLK8tUmtikK7hNY2Ns8K13fUfdjNWJink1BPPqXvP6bMp/Q1r5x692ow0vPbMg\n",
       "i6Z6RY58HDR4F30/YQAsVZFRsh9HLwV7NtWbPM4h7ubUlXOCNEnTLX9ZLmhjbPAdOPQdtVYoq6NE\n",
       "TYQ+Lc5qHhonVm7gW2T9bbTxtNny3mqqV6X2CGjwEp1iN++HVGTLKGHF/mDPpnqTxw66apSM1TVJ\n",
       "jtK9vBq0MTaoYugokWMs/ePIyKuhWd06MvL3apNrEycLeeIAn83hA6Q8B5nqFYlU3ZMQxkt0f41e\n",
       "f64iST7sTCkFezbVmzySNHzTQd/pV5hMoqQczARtjA0QpqNUhrF6PsAToVkdK0Gy0uTaxMm97LoY\n",
       "BtFeshw+JUqmekUSxUheg5fo3XUNcvDJU9fmND2b6g0e7fdPHb5XbfO6on7nVDW+TQ2hOoryjGIl\n",
       "WJnQrCbQlTxXxw16njsf1gHLFMC4AV2la5W/JstDvzdH5MjeJqI11SvyAMAhCOBd9BtFDfLtIkT2\n",
       "aXo21Rs8ps8BfEZ5EIy6olt+R0Hj29QAYTqKDDNWJyupAjgdhm/VOvAifDHjspps6y+y8lZ0SnFe\n",
       "0Zp6kEfeG1ogFXvjwhc0TzAxhMnhhTt3ko84hsf1tvANxTgZDECvK4zHY/DHaIjZ3CiCD8ZmHoMe\n",
       "DS8zcvxkXge5zT7NTzQtJUjz/ZXXO0PtFbVelesATgHGdyjo17xF7SF/RjfxUtAjrw/tMUkoljqP\n",
       "mzyTjfTyL3Bu8kcpGrZs/4SvAcbtSE7HKGN1pJ5wTyU+WTN5HXwyVYlVPFbPEIfF3eiUkjqtnSEP\n",
       "Eq1BelgqXwI4GQQrECJ3Z9lXwuCri8h2dVFrbO0PstoNIFFR9V5s3KuOodcXo1YHQ6NwJYJnZRxb\n",
       "r28MCbzRBdAeq58jyWMN7FMsA4ZnyRrkJV4fg1hNrVfXK5mwbYDwfK5d9BtshyupyHfoTb0e9Mjr\n",
       "Q3uclFEemSgm79Phvgtr/umPUjTkYZGvAcbtSO4aw+KZxpfdU4nvVk5Sbuis51NeBgKJKFsg8QG0\n",
       "Ru/8k47UCNKSh+ioVK4h34tm6WEI+Zb/QP7lBTxWRraxstYYFgRY7QUws6ro0evxirheGQNXvRj1\n",
       "OugbhSsZPHOLYnPhcgwz8cHbj0YZCKlsI5MV4bNIn6zOBa9+UsE6r9YrQh/bxrIIz+faRbMn1SkV\n",
       "ab/Lb+p+j6I+tMdBkn20nMFtXleU7FvJFzHdZyMbzkB/SQ0fxu9IMKfGWb2DbiF/o9/6zWsOp2eX\n",
       "eOlNgCMUNe3TP8asTt3A9pd0AuXi9W9qnyd6kNYsbHOzq73g/FXzXBZDyMGcjMPOcjjaxBVFMUbb\n",
       "ZTIQQPkJRU/iA69Q5Bi46sWo10HfKFzJ4JlbFJuEu2Mo42O6H83lSboc6cPXUZfV9Mp+ziHqoxXO\n",
       "Mbfe9wSM5pE9CM/m2kPTFyWwU0XSfNg+G/Qo6kN7JGk4DPZA9+dOZY6s93VFe/gpSFYj36Lh85zV\n",
       "XoPv4aG/I+KEboPRMmf1ajLZDt0nn16aa82kM6JUdBj/p6WeWoJYbe3hRI55jtLwVR2rKWQVX2T9\n",
       "R7qvcxP1S7O+oslvMYTIFBd+AcTtzq9gY8KWRQFWuzFGcksUvTOO9kiu0DFY35IqilGrK7bKgJir\n",
       "Kdgtio3DvTGIuAxoLtvpBNFBnZMcYzfLZAnVQ6qG6x1CR3i+R17onRgYpQSezbXXS4Tsv0vYUvWQ\n",
       "CbLslvYGPcr6sB7vJ0vpdxXnxn2wBw77uiJR3J13WY18ywb4rdJAu2aO2CXQEXVCc7dYlbOa5N0Q\n",
       "odH84C2YVKK1rFSJs71zGuSPI1YD4168RLYbS+w0d5LdJT7jFn8CQiHJokiHHXLf7auIHHhTHha/\n",
       "6XspxSGuvIRSZmjLeLZECfoiqSr82c9qL8YkexrJdOa3jB9lcoWOAR6XKo+R2SLdYMsbXd/E1Uuo\n",
       "LGJT+pJjSOKnpBiN5FGAzWO9ENl4tio41kJt7Dqqh0cruB4O0C0uLy/szLUGPDybaw8Nz6y9hk+G\n",
       "i2yhP0p6DMDv0a0P6XEy/S1UFqzneuA8z3uUrjZ8DVxWK755g31IaWBdU0fsEuiIOrlAYQXvl6iM\n",
       "yzAVBqAty0tLIXrfhg2PEVZvSWBWc/jQ9gvwoHjgsnCoo9IKz/uTcgppddPh/oI9vSJyYOsMDDuj\n",
       "KpxBPJVmuRGZMg8WPVuiBH0RY/ucn9VejJ1AN0mmU7+RHCxBWyRT6BhgWKo8RmqLdYMtb5S7N3Ul\n",
       "gudueWxKX3IMHIAtfSOhk4Tua5Ga4TlVyPcNylyHkg/IY0vdHgbTT/mnm6z6Kg06oQdF+BF4rG67\n",
       "i15fgePQb/PSPNuu8r06PiPA6jrQxEo8kyR8LFlkPfgSEArpc9PhZSXxeJFkjvHzULR96TGDROfO\n",
       "uqWLTWM7+XeMwckN47sgbZkS9LWP3Ifq0H1HF2a1F2OZvWdiOvWbBLRHcoWPoSxVHiO1xbrBljd2\n",
       "d3Yv/rVwJYLnbnlsqC9vDGX8/guj5Ujo7Sl/eY59D77fyPTzub4iVjfosbWULlujpcZYbeWtYmNO\n",
       "Ynni4mbE6klp2ALWKNmjZ8d46eA0/pXfCDwjwqymuclpNlNbAO4g1mR/XwdOlajywiFfAFomqaRz\n",
       "gDFzC8sct5GZShY8sAuJHIeXI1VavbUA6QKDF2Fz3bXlit+XRXJFcqqaUW5DrPZipL8Hv0fqxG8n\n",
       "aaxLW6bwMUSrIFQR4yGfrrfljTPKrYUu4YoHz8siNtSXOwYOEMNQ0HIkVB6/LMes9Q/f2sj0k7m+\n",
       "QlY36rGfbKTRcr4xVvc9/FClMSdtD5b4z0/dDOQoDGTjGVgOK0/w0j9y0Eeob79e5H8rgFl9Wwae\n",
       "OVugMzWQje0B5/ZvQ6wE9l4YKNr76WWvgJDkkZRvuji0IMuYOZCNrhh6gWZm86ktB+/3IOudnliW\n",
       "mjjzdp2giDSB0ySL2UrF7+uti0PzivR8sAqx2osxxt43Cn0+e74FeeGaK3wM9MfjTJUxHvLpWlvR\n",
       "mCw9C3OFKx48L4vY3L7QGDhADENBy5FQ2exx6ZcX69pNamxstKEM5GhY5Afl8euQKFpT9Rz94Ypd\n",
       "eqPXxsagMSfpXwA/yeG/8Mr6S85vNqzzvTFX5BAy2pkWiTBf4xKRRbU0i5DwVKWOHLqQWqTaFkV6\n",
       "Vmdr8AVtcOQu5S2MjBE/Sq3UzXfmpzTjC2lLnHdBbZw/EvK/9N053oYpR8KYVYemhBeWtiJWxyvB\n",
       "kio+Vq95NetCE2P/BvDyNVnaVfTK9skdXs8rxmrIjYQ4mXSh5ZinuwjF1uALNkFXzs9qGiMW6tck\n",
       "qWPB8YW1Jc6PwlRzHujvi41hnM66mn9FdwWCWB3VlMZldQCa05TUclRv65/C3Phwsy8I7NVN+Wiz\n",
       "+vLynf+N/w/Eak7rR1rSI/v+Axozia9kGh5zAAAAAElFTkSuQmCC\n",
       "\" style=\"display:inline;vertical-align:middle;\" /></a><br>"
      ],
      "text/plain": [
       "<IPython.core.display.HTML object>"
      ]
     },
     "metadata": {},
     "output_type": "display_data"
    }
   ],
   "source": [
    "leftward_commute = \\\n",
    "    Forall((l, m, n), \n",
    "           Forall((A_1_to_l,B_1_to_m,C,D_1_to_n), \n",
    "                  And(A_1_to_l, C, B_1_to_m,D_1_to_n),\n",
    "                  conditions=[And(A_1_to_l, B_1_to_m, C, D_1_to_n)]),\n",
    "           domain = Natural)"
   ]
  },
  {
   "cell_type": "code",
   "execution_count": 39,
   "metadata": {},
   "outputs": [
    {
     "data": {
      "text/html": [
       "<strong id=\"association\"><a class=\"ProveItLink\" href=\"proofs/association/thm_proof.ipynb\">association</a> (conjecture without proof):<br></strong> <a class=\"ProveItLink\" href=\"../__pv_it/theorems/b57848fa22d4077bc2d7b9cda670dae82cbe0b9e0/theorem_expr.ipynb\"><img src=\"data:image/png;base64,iVBORw0KGgoAAAANSUhEUgAABEcAAAAzBAMAAACH9Ht5AAAAMFBMVEX///8AAAAAAAAAAAAAAAAA\n",
       "AAAAAAAAAAAAAAAAAAAAAAAAAAAAAAAAAAAAAAAAAAAv3aB7AAAAD3RSTlMAq1RmmUTNIjK7EInv\n",
       "3XZ/CtNrAAAACXBIWXMAAA7EAAAOxAGVKw4bAAAM0UlEQVR42u1df4wU1R3/7s+Zm/1xeylttD9g\n",
       "WyyhQWAbT1K0llWhKUXqVpLGqK1nTENEE5aksaFQbzX+oekVTltSztQwVEIKCBxGrXIpnNZW0FS3\n",
       "gIYYKYugDWgRQbgTI9v3c2bem/eOWb2xsOxL7u7N574/duZ93q/vm+8dQPBirV9vQ6tcWKXRRs/U\n",
       "68Xz6f5Wtpr4M5R1lBtt9XpvQyQpnVd3GSm0WvozFPMNVok1M0m+Il4arXZXlbL2N5MvAJLEusTr\n",
       "tyhVutTSOlxX7m4WkvxM+5tUrvlJslTsI9F+8iN5TC2tw3VloYKVqz7o+NLK4LiW3SPIW4c7vmD0\n",
       "+/FND3UUljSwGnXNZPWT8u7mJ8m/xcu19MdULxmecKs6XCguHq17elyeVdLoaY6rBMd11iV5r8p7\n",
       "RyA6t+BTyb5iwyW7g3vwmlmgfYKX2s1OktigeH0t/XH1kKc/ve7WdbjQ/1w8Ps4dpzbymaq7BnBr\n",
       "MTiusy7Je1TW7UXfri/LKtajiFLxocAeBDOd2keYLDY7SdLSoEw5k1oy7ELZbzs3pMOF4sH/st3t\n",
       "6Qe/yCozEDajFhzXWZfkPSp34b59i08l+RL6lhgM7EEwk9aGQRJDzU6S98V7j9LOdU/2uOd+TOf2\n",
       "dbh4/w5u1N53R/Tqg6wyDj//cnBcZ12Sd1VS5EPe71PZjj+MWQzqQTST1C9Kbmt2kvxLvIzTgaUY\n",
       "PeFik2A+r+pwobh4HKYW3BVxkjXoToDVeyE4rrMuyntUuqv4+59lFeMTMplUgnoQzfBNjKJMtZub\n",
       "JOawNL+SRk3kzY9dbD5cwgdWDS4WF78BljuzWbIcpX3Y/Ojogds9Hs+G66xL8h6V7TWlSuoMKMV1\n",
       "HkQzNFQwdx8uUs/aXGtukkSkdWsmT0cA4wPU56bRxshBxuYjA8Y3bPmyhIu8c/EidOfAGkfq9wLQ\n",
       "2GQWTeGXFrh1H86su7jOOpP3FK6ynw0Qj3UJKhm2ZA3qYb8wzkQHtQ+xrdrcJElLg2iafPbDM6/+\n",
       "CGDZfymPKpBlfYriRZgr4SLvHDz7+5nj0JObQC4uAjhKHyl62qlhbt2HM+surrPO5D2Fq7xKrmzz\n",
       "aFVQSZPtuxXYAzPDuaOPEMWGmpskywsKkljoGeH5ezKPnFj0aTP8JHRXBNwXaWH4JoB2VJtDdFGv\n",
       "3kjQdsTL2Blu3Ycz6y6us87tuFtXrrKf9PwKRKuCSoY088TAHrgZNtXqRxLrRHOT5P2yYrqJo683\n",
       "HZLg0NI1bLYh+BX0Ibu4PxR1DZttIIMe7Ws8cBXPc15GTnLrPpxZd3GddSbf+Z2juYMrBVMktJEC\n",
       "ThKuQiMk/YE9MDOxa5cdAm5MuSaB55qbJH+Up1c80M4DGk+nzYgfDj2C4Tj8VcTF4uCJAgnjW6QD\n",
       "Z4Af/GBeLu/i1v04te7iGutM3rr8b6iNDggqOMoGWx2ScBUDDzspO7AHZuaxWwrp8sgceLS5SbJT\n",
       "usYbPQMPrKvKrBlj+FG14a7n4OR03MU3oydtnWIVD74UV4ZY6OV7+Bvp8Hch+vzD5iTx4/Ts3cGJ\n",
       "UceFa53JG5u6YJjOaI4K3qffbHOSuCpoP57YCj4PzmeXPDAzv3oH2m0nOKAs2xlJyAJvfFCSRMh0\n",
       "du6/qGF9KC/tq2CtOmXDt+p3smaM4K5noifn4ottLw4ZvJHcwysOvq6+AKKrTvXTp0s2FMvQ18X1\n",
       "jo478s445ceJdRcnRh0XrlcuH6mZg7BLUIE1D40pOTOEq2LN7pgFfg/uZxc9cDNjSdR1pK4/o0RJ\n",
       "MovuoAOSJF4i+/BzP0xyRka80anJaiWjaDRyZ5mb1PjoWId0JdtrHKuofhWtjoqHHTDTBPj1SMv/\n",
       "GiXJvdh6b1CSmHjgWXzuzzbR4zLSefZmXPzA/XYDPtqzDZGkQevQjcaSWG+xAZI06ME4BnsnOief\n",
       "yrK5SEmStPVHy4o1yQLQn6SfQyU27AsMuZ1sycJtSqVX6/VGfMTfVsKjZB1+jEZsY6yq1Y2nP66N\n",
       "godEDt4tjDxA4N04JkkML9WDL1wvQz+7zn2SZId8q5ReaBVVVHWkGaq9l+1u/rlv38vBSZLet+/N\n",
       "/nP/1lOnfdA9LUKoyn9GXBd1MZL8AOCR4CSJV6CNDIGW9zfqqdD6/916/HSr+UehZKqMJIvAcA6r\n",
       "FPPfnqfguzmXJEh2Ebl43LPutnYodV2RBz8cmM0vzFVznlS8wemDD8zZutWZPcYMbFAQ0SsCMOHp\n",
       "uU6gNHKs1cKjQZJBRpI2O1Xih1VSWXbxCvh6yo7bnmDaI/AUjbN4Frup4+pQjCMSq0J2kF9cBfCe\n",
       "QlqCf5onJ110ibXLH0IVRcwDfaVsyvhGpUWSUEgSreF16xzVmI1mIhhfK6Y80w1MoevWRI9ngX3j\n",
       "K8rVsysSKULMabYxADMU4iIcfQl98f0ffiPX/4qHV2QmYkc2BVvzrekmlOkGunAcFx9Wxa5ddiA7\n",
       "vUJrhwAOYrmJ37xHIEmShHchm/ScxdduU+4wXJF0HjY6YdrnwdqtEBfhbtTcJmtyAw9U9/kDCa4I\n",
       "yQtAI8mVfE5KDfknztAfqXHeGfaU8ogLV3hiAdDDKnzik8vmWK1MN40TU3+62UuS1ATSELW4uxHO\n",
       "wvdVHrDI3bQRuw92XuTc8ZnLrq4oHoQIf83zq4g6duQRWUc+Rvw6Z22U9cVJPofkrLfCasBELXyS\n",
       "KJO00jlOkqU59p4wPvGpkBMJcvaTIH1/IhQPe0likOPjRAWtMQy2K7oRLSYSU2bJd4ZF2C78KrDG\n",
       "8KMFtD5ZXYQbDklHBhR2ygu06YiHNMF9Hl5wq/MIMVLmj7hRfzAt/OQs7CGkBK2Dvo2jJklLh2vK\n",
       "2ZK02oucJJEKPwocCz3sPT989hO7o6/vYUSSDUkvSYAMCfGBLafhPvaS3JyBcXYaNssrGiySdtYb\n",
       "3SVzss3WJ8ZJGLSkVqGwU/AqJ8o8pHFHyvs8UBFSpvX19eXRmqSfP5/oSfl+w0/OIh7CSdBK2pKa\n",
       "JklLwnVelGZUSVqb+8HzqgA9rNoBh6HbpLWZptlPR5LEFIEkdCoBY9h5hxMxoGIgfkmzDRZZzNcb\n",
       "cGuFvWGJ1ieJYSibg9LIRuDO8Z03PIMvO2ich3iIoKEuW/Z5oCKd8yYB/IaOJNDPx2XzhHy/4Sdn\n",
       "EQ/hJGjFiqKaJklLxjVe1GZUSVr8gI+NK1nYgE98xsL0OK3tnUhjbJcDffNFIAmeiY6TJtxAxvp2\n",
       "RM0V+MLqJ9/QDypyJWDIOA3WHsAkQeLdNmxE99xWcsVdeEpvujQJI4+XIFtiHqy/A+BzkhUeeUdk\n",
       "Sm8GaHwPkeQZZ/KWXxX4HJKziIeQErReEtU0SVoyrvGiNqNK0pqa95Ik/jb05BM5mA+LjtDauwVY\n",
       "jD6o+XqZvkQikOS6HKw5VcJN2JOPPwfW9T/HoVh0Yb4IPWXzRfN5JoKWEag+7eOB2XlCkp58bOHA\n",
       "kw8DCfQ64i7cVlkL12AVa+a2IwDUA6yZc9QmwV70CypfdkQiFbSGNPD0PeGdZ3/n3J48GISfnEU9\n",
       "hJSgdbugpkvSknGNF7UZVZIWeQlUeDMtL9esZ/tWCLcgd7A3PFpbs14TUS6Rd+tkuuESKbum8AgZ\n",
       "mATVgqsie4iC7CEDB9FUuaGvT/xwX5VXSKEnZ1EPISVobRHUNElaMq7zojajStIicXgvSRK2vybx\n",
       "XCLJspfzjmyy/olXkb+Ps63s1s33nnAlFtarKo+r0bwytuyo+Dy47/nc5GhMUq3LZ0j3EH5yFvEQ\n",
       "VoLWNEFNk6Ql4zovajMxxQJmp0ySmKI2Mkl8su6Ft90KZxeXPWpVCkoR1ZJLWtiHn5xFPISVoHWp\n",
       "oKZJ0uK4NdBhj+DFZ4aNL4OK2JVMkgBB2lZyFsWVyVnEQ1gJWssFNU2SFsfjEK+O4EU2wxnqjxQ1\n",
       "e3JWfFBBklCTs4iHsBK0bhHMaZK0ON5ewvEJrRefGTbl+keSSJOneSZOKqabUJOziIewErQmC+Y0\n",
       "SVpO1pVNSKLzIpsRkrTEgGutuUlCsgg8JfzkLOIhrASt6YKaJknLwSFVHcGLbEafpEVX/01MEml7\n",
       "E35yFtlChpWgFSxJi+PwWxu0SVo+M/okLZr1eeH8Oazwk7OQh/AStF4T1HRJWhyn56KaJC2/GV2S\n",
       "VvP/OayY9NpR+MlZo+/BSdAy1C9LaPJv4Bfwy0a86JK02nLNThK4U7wMPzlr9D04CVrxQiMkMVY+\n",
       "8MMGnGiTtG61m54kPWKfDT85a/Q9OAla6pxJXZJWul5v5O0YbZLWLmh6kmTFews/OStED38I/3H5\n",
       "k7QuhD8bLv8DgvCTs0LzkP0cMvT9SVo/gU9FkivOq3+KlMxDq3z6YtJX1az1mxojSeufIl1AZS0d\n",
       "EPA/Rfof2TCQmr+LB1sAAAAASUVORK5CYII=\n",
       "\" style=\"display:inline;vertical-align:middle;\" /></a><br>"
      ],
      "text/plain": [
       "<IPython.core.display.HTML object>"
      ]
     },
     "metadata": {},
     "output_type": "display_data"
    }
   ],
   "source": [
    "association = \\\n",
    "    Forall((l,m,n),\n",
    "           Forall((A_1_to_l,B_1_to_m,C_1_to_n), \n",
    "                  Equals(And(A_1_to_l, B_1_to_m, C_1_to_n),\n",
    "                         And(A_1_to_l, And(B_1_to_m), C_1_to_n)) \\\n",
    "                  .with_wrapping_at(2),\n",
    "                  domain=Boolean),\n",
    "           domain=Natural)"
   ]
  },
  {
   "cell_type": "code",
   "execution_count": 40,
   "metadata": {},
   "outputs": [
    {
     "data": {
      "text/html": [
       "<strong id=\"disassociation\"><a class=\"ProveItLink\" href=\"proofs/disassociation/thm_proof.ipynb\">disassociation</a> (conjecture without proof):<br></strong> <a class=\"ProveItLink\" href=\"../__pv_it/theorems/98b911b6f4f6d4a2a6f57a2a9947e880e55e3bac0/theorem_expr.ipynb\"><img src=\"data:image/png;base64,iVBORw0KGgoAAAANSUhEUgAABFcAAAAzBAMAAACgWvqRAAAAMFBMVEX///8AAAAAAAAAAAAAAAAA\n",
       "AAAAAAAAAAAAAAAAAAAAAAAAAAAAAAAAAAAAAAAAAAAv3aB7AAAAD3RSTlMAq1RmmUTNIjK7EInv\n",
       "3XZ/CtNrAAAACXBIWXMAAA7EAAAOxAGVKw4bAAAM3ElEQVR42u1de2wcxRn/fA/veu/hs5pW0Edy\n",
       "LRSlCoSrMKiB0lwgVKUm5UqkCkFKjFCFCEg5pIoqhcYH4g9Q3cTQRo1RUZaCooaQxCCgEKuJobS8\n",
       "VLiGFEWIlAvhoQANIZDYJEqu89qZndmZu73KmyYXj2Tf7m+/md/tzm/n8c18NkD45Dz8sAtT6eRM\n",
       "rVZ+pl4vnkj3t3qqiichraMa6arXh1oSS+mEusuOwlRNT0Ky32AH8XYWy1fkUytyQuuEK9iXysYr\n",
       "Z50EYon3y+dv0+feb6iP/tZKv0WDvR3VrSRr0T+ua4xXUrn2F8tt8rsSGyEfnfv01ibclJYGIcwQ\n",
       "X/NJz5c0YyUTblS6bL87MNzc0/MFa0QzDDXgplGrMM+aO+3X2l8s/5ZP19KPs/2ieEwcmnApCTxW\n",
       "9715eR9DGj3RGZXANSNuYpDtO10l20cfQGxBIZhNxk0s2mKWGJ/kmW67iyU+Jp9fTD/mjfveq9fF\n",
       "sQmX3kOBJ2aIdmtDv49hAPUYi4uBa0bcxCDbx4tytnU70K/Ly4FsCm5g0RfTa3yUncV2F0taaYyp\n",
       "dlK3Tggo+21+QyZcSj78z1tFK7H7iz6GuQifWwtcM+ImBsX+JTnbTfhdXxTMpuAGFn0xaaMbJTne\n",
       "7mL5WL73GH2Zlmf3++7H5rdvwuX757hV+1i08NW7fQwzcB2U1Wtm3MSg2F8nZUuRL3tnIJuKG1j0\n",
       "xXSaBy3XtrtY/imfJmhDU4x9KrBZcL13aMKlJPAEnF0Q49rOsmB4EeCBHaBeM+MmBtkeHpWyDVTx\n",
       "7z8Fsim4iUVfjDfp0aSz3fYWiz2h9LukcpN5+7DArofTvYbWgMtJ4FfASt7LdZZjRc5gf75313U+\n",
       "VnbNiJsYFHs4T8q2tabPpuAmFn0x1NWwYCdOypu2qdbeYulQxreZPG0RrE/QeJA+ejsHGddrKTC+\n",
       "/tEvK7isP4EXYSAHzgxyfDvAG5whi7r3MwseA7/m4YxB4CYGZi8mJFK2t1iD8WC/nI3hzmiP24Al\n",
       "UAxrb8aMD7Or2t5iSSuNapp89z3z530OsOI/VE8VyLJ3i+JFWKDgsv44nv3d/BnoyZ1BTk4B2MsZ\n",
       "utATT014DPyahzMGgZsYmD1PK6Vsr5Iz195blbMxPAGJagMWtRhPqWZPU3y8vcWysqARi4Me6RHw\n",
       "HNhrEUCfNsMPwEBFwgOeGoZvBOhGR30kL3q7N3CGbqTR+FGPgV/zcMYgcBODV46XFknFvUVaggrE\n",
       "qnI2hneXrIkGLIFiWFdsblmcT9tbLB+XNd1QAv28ycWCPVkXsV6I4OfTqhR40GF2EeuFIIMe7b88\n",
       "B1ci7zFgjXYc8Bj4NQ9nDAI3MTD73u/sze1e7X1jno24RlLgiYVnY3jcJWIxsajFxC9e8Q54hWnH\n",
       "LPBMe4vlD2q3i9vphUD99LQq8cOhSzweDn+RcWXC6eHJAlkecEi7nQG2sEQYsEZX9nsM/BrHKYPA\n",
       "DQzM3jn3r6iedqHzOVI27LGDzVwsPJuHQ6ragEUt5sFFhXS5sRbub2+xvKi+Tqhdt3BDu6bMqjKO\n",
       "H1UXftE5TlbjBb4JPVHnIDvw4bfhg3HmWPke/rXam3rehKT0d9cTC7/Gcbrez3FSMKcRDMze2tgP\n",
       "E6S365Oy4Xn+1a4nFpHNw+E3rt+c3wM5CBTzy/eg2+XOBW3aysRCBoKnhRVLB+nmjv+NIs5n6kSj\n",
       "Cs6agy58q34jq8oO/EBt9KAFvsz145DBE8zt3gHH19WXQGzNwRH6dMn0ZgVlgFPrPT035Hnbxa9x\n",
       "nDAInBTMaQSzZ99Rs8dgG7Aej2eDh+6ZVuI9h8jm4dZ9svl2P0uwmOlkSNSoKZhbomK5hE7UQ4ol\n",
       "USLz9OPfzXJURXweLr5DQ0lW0WrlzjJXRc0A6Up2yNpXAauqvRzTw/Bz+EUrLC/AfBvgV42mCzUq\n",
       "ltvxPQyFFYuNG6Jlx38vFNuvIr3Nq3LZXXe6LXB0Z6NmgAHUtsSHipAotCIWa/VdP2yBxNoHO2by\n",
       "lVZt2lSkYsGr36albM2YZQmYV/CPoxSfCDiWxCt969It2kyv1uutcCTejZoBfoxacWu6a3g9rScP\n",
       "17TtUb3eyu6cZA4+LDRuMPBMHosljof24Qe456DP/uNfLNnxwChmKGrOCBl+H/0T62rUP3YPsdnQ\n",
       "P3bufDm8WNI7d745cvyLJXUoAC2PnDQyhuwxGCS+33Ds1M/E8gOA+8KLJVGBLtLtOv4r+o7Y+f+J\n",
       "JXEIptLkpUyVieVmsPiimKZf3P4EfDcnxIJsbyYnj1R8qnhBm1eY3P3Z6KXeib2m73HNbtQAvKtv\n",
       "82b+ak0bXa8RpN8E4IwnF3DHa8e+qRqeTLGMMbF0uamStyimpBWnroKvp9yE63PK3QdPUD+Nb1Cc\n",
       "2q935XCTeBWyY97JhQAfaawV+Kd5sppGh2Dbgi5Z2cTeNVzKpqxvVKbEEqlYYjU8vu3TteWoh4LT\n",
       "asWUrxuC2XR8mxz0DcSvfEU7yhYmHUWI8+qbBjBXYy7DsZfQT5Gd4B3DwS0mfpP5SCXZFGzOT3VD\n",
       "kXZD0I/9v9hFGL94xa7snAo9eocFIMz85nJJLJ3EuwzZTt8egNq12mGZMEnnYQN3FTwLzmsacxke\n",
       "QNVus6q3cMN1R9AJIUxIHANqWS7w+qrUeLBDnapzXQo1duYDXHhsCdBFMbyilMvm2FGZTgVnpv54\n",
       "tV8sqTNIhdQSYgKdhe/rGLDJLbQyB3b3nsIr7eg58yqawZEMf813qUPve/KZrCNfI3EZHztlA36W\n",
       "YxBkdkKma0KJJeeJ5bYc222MV5QqZMWDrC0lSVswE4p7/GKxyHJ1soLGIBabRV2JBhvJ2ZeovRA2\n",
       "YbP3C8GZ5i2MoPHLA0W44h1lKYLCPD1Hq5AwpAkeYHhOHC4kAknZP/IKDTrlog8yiyjATJ5gGoLI\n",
       "Nt7TU7i1BZdQqOAyn5+l6Imlo+ItOU6HQbb/EK8txW8YHr4XiWV9p18sQJqIxOijh+AOtmmvb3SG\n",
       "m4ZN6ogHm6T5eGSgZJ/lsvGLdQDGHKV2KMwTHgXFGEMad3z5AAM1Iem84eHhPBqzjHjPMXZAvd/o\n",
       "g8wiCjCTshiCy7KvuHD6a+EZwgWXibRpBHxbFOii2AuwBwZsejTftkdoy5KcLYmFdjGA99ew/aVI\n",
       "CRUL6UzphbDJMm88AosrbKMoGr8kJ6BsjyktHYF7T+u94il82kP9RIShI4f9UgEGatK7cBbAr2nL\n",
       "AiPekNr+VL3f6IPMIgow82cxBJc59+P3fTw0Q8jgMpG8hUTWzmRhPV5Rmg5zEvRox0zqqzsXyO4b\n",
       "WSy4h9pPqnI96QO6kZRX4RNnhPxCH9TkAsCQdQic7YDFgswHXNiAnkRXSZgLePZQujQLI4+UIFti\n",
       "DM7fAPA6zCqfPTeZPZQB6idEYnmKz7/ULQrHIMgsqgAzaBpc1olj0HzbIpsxhAwu87W7eb9YEu/C\n",
       "YD6Zg+vh5g/o0YcFWIa+tP16mW5ikcRyWQ4eOljCVTmYTzwDzuU/w65ddGI/D4Nl+3n7WWaChhno\n",
       "+LzDo5fmiVgG8/Glo4/fC8RxzM0F3FVZCxfhLM78LR8AUAZ4qG+vS5zH6AK1L3OTjsoteJ0VO+Xe\n",
       "e/q3/PbUxiH6ILPIAsygaXAZcWjZxbAMoYPLeCKbVKWdcnn1yHl6eJVEpr5wb/hybc76i4h5Fnlx\n",
       "TLohzyLl1jSMkIFZUC2ILCpDDFSGDOxGXej64WH5y31VHUFFHmQWWYBZ0+Ay6wiprUpYhtDBZTwR\n",
       "/75fLEk3eKQoUxHLipfz3LazfsSf0dsXtKUsju2PHhMWS+tVHeMDqL+ZXuZZAgxiv9FVPMcs3asx\n",
       "V7mH6IPMIgswaxpcllJ2ejVj0AWXNU4vqmKJa44aiyVgK0789Vdobq4yGrMUtCa6IZkyIYg+yCyy\n",
       "ALOmwWUZNrQNyxA6uEz4wFSxhHD6TgWZUVwbZBZZgFnT4LI0mfY7oRlCB5fx97XNg8wSYxqxRBpk\n",
       "FlmAWdPgssw+6uMIyxA6uEx2obevWJIHNN1QpEFmkQWYNQ0uox6WkdAMuuCyxg7cWnuLhUY9iBR9\n",
       "kFlkAWZNg8vIkCLlhmYIH1wmzRbaWCzKdCj6ILPIAsyaB5eheXwS7wJTGOTgskAsWojgMpZoNOvJ\n",
       "82fCog8yiyzArHlwmXNpD1lkVRjk4LJgLFrz4DLWpbf9nwmLK9ufog8ym9zSeYCZJpnihVpkaB5c\n",
       "xrrwXLuLBW6UT6MPMpvc0nmAWXixtMgQIriMpsVu24tlUH7Log8ym9zSeYCZppYNwWUtMoQILqNp\n",
       "G7S9WLLyvUUfZHZipq6mPdfJ8OfY1X/0sHxKGLr0flOLn8D/JJbzT6h/TtWZn5LCJCSbbqVzHt7Y\n",
       "mlim/jnVSZjW0gYC/3Oq/wJbxpCaIArA3wAAAABJRU5ErkJggg==\n",
       "\" style=\"display:inline;vertical-align:middle;\" /></a><br>"
      ],
      "text/plain": [
       "<IPython.core.display.HTML object>"
      ]
     },
     "metadata": {},
     "output_type": "display_data"
    }
   ],
   "source": [
    "disassociation = \\\n",
    "    Forall((l,m,n), \n",
    "           Forall((A_1_to_l,B_1_to_m,C_1_to_n), \n",
    "                  Equals(And(A_1_to_l, And(B_1_to_m), C_1_to_n),\n",
    "                         And(A_1_to_l, B_1_to_m, C_1_to_n)) \\\n",
    "                  .with_wrapping_at(2),\n",
    "                  domain=Boolean),\n",
    "           domain=Natural)"
   ]
  },
  {
   "cell_type": "code",
   "execution_count": 41,
   "metadata": {},
   "outputs": [
    {
     "data": {
      "text/html": [
       "<strong id=\"associate\"><a class=\"ProveItLink\" href=\"proofs/associate/thm_proof.ipynb\">associate</a> (conjecture without proof):<br></strong> <a class=\"ProveItLink\" href=\"../__pv_it/theorems/94789b8011bb18932c1a7d0987e5156aeed879f10/theorem_expr.ipynb\"><img src=\"data:image/png;base64,iVBORw0KGgoAAAANSUhEUgAABVkAAAAZBAMAAADZKjOyAAAAMFBMVEX///8AAAAAAAAAAAAAAAAA\n",
       "AAAAAAAAAAAAAAAAAAAAAAAAAAAAAAAAAAAAAAAAAAAv3aB7AAAAD3RSTlMAq1RmmUTNIjK7EInv\n",
       "3XZ/CtNrAAAACXBIWXMAAA7EAAAOxAGVKw4bAAALrElEQVR42u1ce4xUVxn/dl73zp3Z2dmIDbWB\n",
       "HbO1wfCaykLEFwMFA2LTEf9pBNvVxpCuNQyJqVmp7Nj0jzZB2DYSodFyaQmxodABWx+7ERZqpdJY\n",
       "JvYRQth0kCIBYUuxPFpS1vN+3XOX2WS3os6XMHu+73zn/L57z++e851zbwtQv0waLEFDGvIfknOD\n",
       "udG4dzbu2LiJ81+MUPqYbk8032DrjSF/p4MScoudUd76B0MRxkPuGf/bE69Rtmax0l4nW5vwn0i+\n",
       "Qa6xlkiF/Emct1eH2cNkVQjC3OHW1vvLwcowe4hEt7zXetMmoWYChNj1eGt+TbCdd7r1E06lbhjV\n",
       "/QRl6yJcXlknW2NFfOsa2euYy3b6Z6bKypRM08LsmuyRzBwOelOEvwA0XbH0FGbXRdjTvQBtkt1d\n",
       "RnXmNR9ufT0Y2NkzELkzbwnYjqK6J3zC1p/ihaa3Tra6eCbubpBrzOUO+mf+ZcW2Uy7/YXZtJnpL\n",
       "FGNtpYA3QXCuoUX1/WBPYXZDhL0HLcz3FoS9Q6/2foWIHLscCOzZI+jnrpIlYCuK5h4tELZi0qZy\n",
       "dbKVPEV7GuQacxmgs8qaK4rtxCfFbBNi1yRze5EXf7evHPAmCFHUT/RasKcwuyHCPg/1P68m7Glf\n",
       "q04cwpnmQCCwB7DbClvAVhTd/RBhK95oJereZc1qbLbGJW2l93Rt5oJirD7GS2F2TZpdvkI6tXdz\n",
       "pjdFaEIZReJgsKcwuyHC3obJJOfvRF6r3ofR3YIZWIpcxCOWgK0ohvt99Ezgr4ODr9bN1vTg4LFK\n",
       "g11jLTF6TwuRf6nbIrFBCLNrMlXsPmIwM296UwSUb3qTysGewuzmRo3bUZq79YiSaWbVaucjss6X\n",
       "zcB6qvj315aArSiG+27K1sUAT9bN1lgZkn6DXWMtdHKK59yriq0UYdNTmF2XlXArKy2DDRXTmyJs\n",
       "eGroprylpzC7ESW3ux8MHb9PPSPoVKtT1+yB7auFBWxFMdznULauBidbN1uR62qaIqsVdv56H+vs\n",
       "FIY6YhQ3yoPXnKPX4LwnbWj7e5Rfm92uCdoAN7PLKUBP1vSmCO+WIPKSpacwuy7CnkE7qGnKsVVk\n",
       "QIO6bA/s7VJYwFYUw30aZWvSTxXBawu5j84bL8KXsoKtaBp+kZSfU07nvFesTaXLY+/3L+GKu2Xp\n",
       "C5uCzqoLkeNL+/pEPj6hf0fwwjRrMohq1zUmq4GbgYUEGl6pRhwatL0yTfYbpxfO/wAFNYfaJgIM\n",
       "0RK179j9KcOuSVMZMnQ2yvx8YVsvH1HuTRF+ieesMjzTafRE7V5/qz8CgrQnETtTysbPPa9Bnaez\n",
       "BLsQEdhhOkFwFBmwHeWwPp9soGyN1PAm6zZbeOtv3gifTvkxX7J1Bttk7VOOEVIXrCMiXaJVyIgt\n",
       "4pcBzgadNRck386Re0JXwr/R+6mLbk0GUBO+rnepjbv0wLuMwKw6hFQyKCXiLiO8QHPzigiXPDR2\n",
       "KOVbf44+Seg+76Qlai/Anbpdl+2oimR6sAugpcpGVHhTtuIpel7NHaoaPVF7DGLVERCkvSWrHSHQ\n",
       "/b+obiZsncIvRAT2NpmGywxFCdiOwty5fQV789r5FfSz1La6opQW2muFlMwEIBElz0N8nfJY3P2a\n",
       "jayKS1MBouJ8ewK6MZapQXVBUR5C/3jyNA2RIZji6NZkAPX2iqZHb1GfjVu0wKkqA7PrYK9kUErE\n",
       "xEMJL9jcvCKyTuNk5hj6N50+ScgUy4G0X4SesmbXBZ8rLmCJADQPsBEV3gTBxZu1tiJEqjoCs7cU\n",
       "nSsjIEj7BkSbpovKaFXVanrSWuEXIgIjR6cpYChKwHYU5s5lOmPrHvy0v4lv5B3rj2fmlmnpHfq2\n",
       "C6Z8Zq3K1tRtZMrKJJRct/Yd62InXdI52CnSnAPgvR701lzQhhDF67I75uAZ8OFAiqJbkwHU3ic1\n",
       "PanuDpnCA6eqDMyug72SQSkRYw81vEDzwBUl8SP1TaCvTOkgNwP/PIDZv0DZKu3GuQ+wzwPiefqm\n",
       "9k2tF4KA8033EmOX0hOzR33CozAEaUdpLmzohI7PD2VP4Hwo2qtW41cNkPL5hYjA8CsF6OMo0h6C\n",
       "wt0JFQHmMrY+hMbTw/PaMyvy6Wwmy0oljxyHTUk9vVxhq7OfEjQmLycDX7WxFbs8SIev50THRMGy\n",
       "a7PmW1JJ1QXJJHXardq6N6xJBZU+7/nlmt4eV07eqIIDd77LVSUwq6611a6CQE3SPdTwAs0DV4SP\n",
       "gBy8nG4p8UHGCx5gKgg7/FGzP48uzLsE7IcseUkc0kO4cJmOqPQmh0wJ1NWKLs5WUSfskKqqdtKx\n",
       "gFH8H0DPxJ99b/ZLsB+O8+MxWT0zD/E+/tjJwPAx3HKfowi7QKE/ohvmTqhIF3/CVpTu0sPjH/8D\n",
       "WsoEGZf8eJ7mH4XTCluBcCpeRkmmww6+7kYZXHzGIjMRwC7JEktVPbRydvssQd1agGXvGO8xqIuQ\n",
       "P1FmE4Q0WV9NhHTBxlYZWJIctRGdgPWq53RUwYHDL7hKAyNtFT2kLa0U2AhKiRh7qEEHmqfNAyK3\n",
       "Ct6WSz58dvj7nK1kS7UeFLt7VLVDM+7kDWA/TfjmuogBzw53QWTLpQp9HSC8EQI04Y9RnuArt6wT\n",
       "dviZr9pJxxJG2G/G38DkwNnVCVdIwtFc1Jp5S1oXAWerCAxg2+MTigJF2gUK+ZHdUHdCRbr4iy8G\n",
       "6eHxZFjHjjomo6w2ev/mzU8gtu5IqGyl7v27P4SH2THH0v42Pw3Pm0kvdkmLVLWn6E73WYLqXIQB\n",
       "z/iqiLhIFSeUEYaQxpeUMxGo1WSrDKwd8IxGdAwWycNymWdRBQeO30hSlQaG26p6SFtayadLDCUj\n",
       "Jh5K0MHmRuxIlKN2xtagdI/qvC1mvMRRESLVkAOgJ0eDAE01dwDQfhF+Yq+fPiYok8nbV6eqsLX5\n",
       "W/j3FTgNPS4tLXTdCp1b4zMCbK0Bzj3Y4RviWdlBPDcSAezSzVNVuLfMTtdQghq/AiV3QHcnLtEF\n",
       "sxZNJQtsK/p3iiE0oUUsUzIRqDW66HMVla0ysF7y0oPoGCwJymsNqtDAe7lKA8NtVT2kLa3saO9Y\n",
       "9nsGJSMmHkrQweZG7CC+CxlxkAvOaD5+oyMqpaMOtv4QfjQaHqXLmV7nfFl8k1MnW0eJgqmIHr68\n",
       "wtaWDOwA5zwi8twYLR2ZQtev2UBSE42tOEe4QEZmB9kEtKB5YiN4FaTyH+ryRcBl50Pw0HSP2Irc\n",
       "e3zYiWb8ZFE6C5fIaXg5UsHm54qQKTIE72WAk6AjcCtqUVXYKgPDH+Hew3UE1o6/6OXtiUIDj1aA\n",
       "qSywo4Zub0srZ/Smi1MZlIyYuougLc2N2HH4pesOcvejj4xmckUjqqdKpeuy1dn06NdGw6MeNLtG\n",
       "ewuhn/BNHwsUSkUy78lM4CSsy8WzsBJWn6Glf+ahGz027lsl+g22ytavZ2HbpSIemXW52H7w7voe\n",
       "fiXrHoB1Jfcg/jnAXFD6gspzrvYvyRG2rstFV/W/gFOkxbgtdT4oXTZ5nbEcbuIt3HsGgCLAtqVD\n",
       "PugIwjqR7V6TRmAxcvTD9MXkWAcKDI8qNHD8xS5ReWBHDd3allUmy9thAYOSERMPGbSluRE7TvXk\n",
       "gK9Ztdc6bIeHh0eVCZw0zjElgvPbqzXrXDk8PKqvvr8BiZIz2dceBEVCLmSUKJSKZHuh/ZcuObPk\n",
       "/WHzRuPNqyZHlUZ9GZy2iYeXe+QUK84EuHvKrymAwqUaqTRHFT0cgVurmdm+9naAN1N33H4tfMF8\n",
       "2nJRdbaFZpgK1fxIzfsyIwwEjx3L2nF/uzt+CKfG/9V0pmSwNe4HS7oYbF3/ak64JoY/ApCZEi/t\n",
       "Lcmye3aP7HnVcFWB4S5eNlNsOiX1cARu9bKR34DJVtxMFQwWJqlTwYuqty1sRev55NIIzUnQoe99\n",
       "eewNqU9UtkYtpRHZGnDNW0p6OWpva/53PfnrIgRCTDYG8/+KrdeXH9zA/z8BpzGY/+ty7lj+31i2\n",
       "MGbXVeKqAAAAAElFTkSuQmCC\n",
       "\" style=\"display:inline;vertical-align:middle;\" /></a><br>"
      ],
      "text/plain": [
       "<IPython.core.display.HTML object>"
      ]
     },
     "metadata": {},
     "output_type": "display_data"
    }
   ],
   "source": [
    "associate = \\\n",
    "    Forall((l,m,n), \n",
    "           Forall((A_1_to_l,B_1_to_m,C_1_to_n), \n",
    "                  And(A_1_to_l, And(B_1_to_m), C_1_to_n), \n",
    "                  conditions=[And(A_1_to_l, B_1_to_m, C_1_to_n)]),\n",
    "           domain=Natural)"
   ]
  },
  {
   "cell_type": "code",
   "execution_count": 42,
   "metadata": {},
   "outputs": [
    {
     "data": {
      "text/html": [
       "<strong id=\"disassociate\"><a class=\"ProveItLink\" href=\"proofs/disassociate/thm_proof.ipynb\">disassociate</a> (conjecture without proof):<br></strong> <a class=\"ProveItLink\" href=\"../__pv_it/theorems/ffab9e7f9db881b93e2b7fb4700eb648f65c5b110/theorem_expr.ipynb\"><img src=\"data:image/png;base64,iVBORw0KGgoAAAANSUhEUgAABVUAAAAZBAMAAADDFtM8AAAAMFBMVEX///8AAAAAAAAAAAAAAAAA\n",
       "AAAAAAAAAAAAAAAAAAAAAAAAAAAAAAAAAAAAAAAAAAAv3aB7AAAAD3RSTlMAq1RmmUTNIjK7EInv\n",
       "3XZ/CtNrAAAACXBIWXMAAA7EAAAOxAGVKw4bAAALgElEQVR42u1ce4xU1Rn/5j1z57GzKTVYgzvN\n",
       "oqUBYShgSl8MFhooWqf4jxVatyUNcWvDkDQ0VONOiX9ossJqSgBj5aLElCA4oPbBpoJYisVUJ4qG\n",
       "EDYOQUuguK5UHkJke875zvPeOzt3uq41Zr5k75zzne917vndc75z7gUA/zRhoAQtatH/hd4byDUj\n",
       "3tW6Y2NNrcnAi2L0Esq3sPpZogzOHavqNK9qcog/LwMWqSFWs7TS6ROrAfoTzLdANUY0GX9W1Gle\n",
       "0Zy16JCbN3u4vf2uspsf2vxB+1Ub/duuZ4eSdar9C7GKm7/z4fb8Pf5daOInEKvzaXm5T6yGi/QW\n",
       "tBaqMSILJ8LgsM7cLUv1+AYlVVo3bchD+h8AgYse/FQfQEfZv3WHHV3lzGkI3pJ3qWRetWHiG408\n",
       "SL4uHrUZVn9LF4s+n1iN01l4dQtUY0RhHOBwhzYbWG+p5jp8g3aohX/uBbd07ApZUj/0sNJD1tk7\n",
       "C76tO+zoKtuOkMutJaeK9XvyJIQvNPIg+IZ4qMCwSiGbzPnEKnSP8EC0aLSUwp8/7dUW18z0oijW\n",
       "4xt04otyQrvnols6RHihKx5W5hDbc2q+rTvs6Cp3E0TBUpdK9BDNPPc18iD4pvghhlW6vYr63lvN\n",
       "aG2xxpCuxymr9r42d6TjYtGrxzep+qAo3Zc565YOkLwgetDDSgdFWcm3dYcdTSXJvN7vUtlLg48X\n",
       "GnkQfFN8GZ4D/HNg4BXfWE0NDByrtEA1RrQIl3qYlte3W2IzUY9vULAitxOF4H/c0iQttSaUPayQ\n",
       "/HPLEf/WHXY0lZ4qvf7BqRL7mK3s5QYeBN8hvguxugDgUd9YDZchYbdANUa0jF0XwzptOlgOE3mp\n",
       "Ht/c+5eCfC6K5OKX3dLrHh+8Ku9hJf7R4PFlTVh32NFU9tY8VZJXwFPcSZzvEL8RsboSYlnfWCWi\n",
       "KzH11Ru80Wt9qtuSel5HjMII/CujcF/7RDrxOs6H0KMGhOxm0zzKenyDyFb5qLgjsQ/c0u+XIPiS\n",
       "h5UM2cVMyfu3btrRVd4ueaqkL4CnuIME3yE+BbGasJNFsDrq3L7Y4efhW1mJVTIFP8/KT2vzv/Wy\n",
       "p6oSefDD/oWiEt+86DmPczxdhNHxRXv2yHx7XP92d8cMbsLt1btu4FgPPFR0RVEnVo/GMNSLVe+H\n",
       "ixyNB5iB383rICnbk7gtCJQhgw8C8q3+dtvkmzQeYBBLp+bN/Yis60Om9GN05iu7rSfILiZ5Ebbv\n",
       "+pI/69yOIqnyGp8FuAuhkhrCmaOBB8EX4pzWIVaDtahM6x209ur18OWkHbYVVqfyrdVeLc1PnvUc\n",
       "CCUSqkJGbgC/DXDGLWyIEPpxjt0+XM1ex3tjkslNuLxGbbPerSt3m4HT6hYzim5HrG51vSORCudq\n",
       "UbEAtH5EdQg7GxVWdwK0VSE+yNI+eIoMGJaQH4Zw1eSbTx8ZnR1YIiNOcr5glylNp9o5Nbf1tizb\n",
       "1xfgFl/WuR2tTaq8zbLUMnchVdIMfJMaeJB8Ic5pKX/H2vUdmdY71lWSykJnrZBUOQBEQyzASK8W\n",
       "5+2vekFVEwkUICTPpceRTno8T7oI6esh8ic2gVPIuLqTG5ObcHmdXjHqoWv0J+MaI3BWnW9EgRIq\n",
       "Vg91oyPdnKtFRQPQ+zFd35Q6G1UOQBhpAuAgjiQ9ILwJFL+tGLto8g2ip4/hnJjpj5GfiiEdp9ut\n",
       "jqLb+jqChMA5OAc9ZT/WhR1FUoWdrCZFB6QKHpVWGniQfCHO6QaO1d10PniTDsF31x7PzC5j6R18\n",
       "swWTrrtPx2ryejY7ZKJajlv7qedBmRJJ5WCHzIX2g/WGx9GiLkI2k6R7cT4jxujst8aVnJjchMtr\n",
       "36NGPaHvCXlFBM6qVSMKlFCxeqgbHdmNXD0qGoDejz59C+tsZPQ4fbjy+HKUo4le2WcAnB+yEauS\n",
       "7zjxAfEZwG3A3smmi4Y0TUvj593Waf4J67rgG4ikhta5HYUYpUJfKsAe4UKq0JcHkLQbeJB8IT7z\n",
       "64P0aZ7NsXovGU2LziZPLs2nspksL5UsdtA1KfnEEg2rsRcRnmF1ypqB73luN4jIKhyJnhMzx0uM\n",
       "XZkx1yOF1EUITdCnXK+1wslNaF5xZs4vMeqdEW1awwoNPPYzXmU3VEXBJLRY3epmRyYiV4uKBaD1\n",
       "gwfk3ShPZuBe2pkLYqjZKpYoa3xIVnW+RYAHz3SJC10igWbRMZpbbC7BM6aVKGEv7XZbh7vJ0/B3\n",
       "+gT+1eBTo8qFtC7sKMQoFXpStsQWLpTKtDxEWHI+kgfFR3Fr1ktwEJd9hlWSzmJa85t/QVuZLRq0\n",
       "ZEfyPMM4pWEV2FhGyiSti/F54naStkWmznemAFQkUeIpqkUWzNU2T0y3FGDxO463Figi6W+Ia+Yh\n",
       "xZZJp4dUwQurKrAEO1xjdeasTz+ZwwoNHDbwaqTPCJRJaLG61bFR0I+Qy6OiFlgA2A9mIaGf9mmN\n",
       "Gj0EsG24G4Kbz1f4UAeoSrym8eEhW+fDYTp5FcSF7VvWktHffN6Grw7/AvchUjpAv1B5BMBpHa6m\n",
       "n6Kw0/ejBp8ZPey0Lu0oxCgV2PrwuKJ0IVXAWtjORnBED4qP4rGdXXAJl335TSCmNddCL6RzWFoK\n",
       "obs2bXqEYHV7VMcqivfvugRr+PHFov4OO4UPsJ7sUpGUTFF7ivEbbJ6Yxs7BPsvxDRATUVWaSAa5\n",
       "hxQNPef0gFwnVlVgnWy/w+rUWTAPS7RZjVVo4LCPV4NZPVCUULF6qGOjPMdALkbFusoCwH6w3mJA\n",
       "YmZWjfoaqy04wWqdgxmfh+HG6wX3oX4d63xC8U0KMb5dNOchUKPvWWNVDavpO+j1ZTgFPXEszYvH\n",
       "KzivRqa6sFoDmjUd5SkAyUBiJGbniSMRWS1SVLizzM/TSEoYuQil+D5TnImEbpoxfzIbr3byd5J7\n",
       "CBAUZUpOD8gNzf9aRceqCqyPveJgdeosAdq0hhUMvI9X2as9GShKqFg91LFxZufMxX9mOQDjYlSs\n",
       "qywA7AfrbZ/+zkVrnHnbZLlnKzQe6l/Br5sZ6zftpoAUK8Sa+opOIcaviyY9pMrhQpl91COx2paB\n",
       "7RAbIs/J7DCWjkzCWzsL4LgTqzQ7OMsgsZ0l8W3kyVoPVoVUxQVFvgm0HLsEFpnlyQAS8R4bdpAh\n",
       "SRSVsBQJnoIDwQplP12ETJF7sA4AvAumB8ElGlUNqyow+pHtT0SdOOukX+wKfVbBwEMV4FViRwWK\n",
       "LBWrhzo2Tu1LFSnWBrkIxpq2eQC8H8QC1nn4euPUvrQcmQ2Nh3rjA99vBkxDteYmvQfub2baE4hp\n",
       "wkWTHnogvabM5jyVA7wLvblIFpbDytNY+nceVpMpLv5WCb+w1rF6cxa2ni9SSPTmwi+CdevP6cvX\n",
       "+H7oLcUP0st+LkIyDlK+8XL/whwbwN5caEX/czRhWkB1UfigEtlodYVzVMWa98JpAPQAWxcN2mB6\n",
       "kNzx/OP3hCOwMDu24fUF7MQHCtwfVjBw+kUuq1KcqEAZS4vVrc4bE+Wn2BnLBm4FoyIWMADejwUi\n",
       "IB6+3hgoq/3wNoWCP172RFlqeHioGaz+wPNrpnrW4bXh4WasC8Q04aJJDz+EzLP4DBv/hiXnLFl/\n",
       "2bTe8Y7VoKOa0p6MnnuJ0tGcxqULoxBP2jXNoRSpBivpkFav70Fwq5lZtvEuQKjpx4J2/Veg6SdE\n",
       "SeWjjpd/I6lDGiZDNQ+W+dFQcxZO3CEH+JN5V/t5o0zJgdWI7S6Z5MDq2ldyUjQ6/DGAvOWy9EJJ\n",
       "leNndivLK4armhshYmUzxcBJVa/vQXCtbPBZcGKVqulEndWj5Em5GSxpgfpVhy1kyb+2pJT/FwuT\n",
       "W/8oyAfpWA15lEbEqks071EyyyFvXedY5Rt6cIWYGP3N2DMK3VktLH2aWG1Mv/wM//8AsdGbGM13\n",
       "YXYLS2NM7x3L/xfbSTpucVtxKgAAAABJRU5ErkJggg==\n",
       "\" style=\"display:inline;vertical-align:middle;\" /></a><br>"
      ],
      "text/plain": [
       "<IPython.core.display.HTML object>"
      ]
     },
     "metadata": {},
     "output_type": "display_data"
    }
   ],
   "source": [
    "disassociate = \\\n",
    "    Forall((l,m,n), \n",
    "           Forall((A_1_to_l,B_1_to_m,C_1_to_n), \n",
    "                  And(A_1_to_l, B_1_to_m, C_1_to_n),\n",
    "                  conditions=[And(A_1_to_l, And(B_1_to_m), C_1_to_n)]),\n",
    "           domain=Natural)"
   ]
  },
  {
   "cell_type": "code",
   "execution_count": 43,
   "metadata": {},
   "outputs": [
    {
     "data": {
      "text/html": [
       "<strong id=\"redundant_conjunction\"><a class=\"ProveItLink\" href=\"proofs/redundant_conjunction/thm_proof.ipynb\">redundant_conjunction</a> (conjecture without proof):<br></strong> <a class=\"ProveItLink\" href=\"../__pv_it/theorems/899561cfddd3b045c017397691a27c7a5c3980a10/theorem_expr.ipynb\"><img src=\"data:image/png;base64,iVBORw0KGgoAAAANSUhEUgAAAYAAAAAZBAMAAADK9+SzAAAAMFBMVEX///8AAAAAAAAAAAAAAAAA\n",
       "AAAAAAAAAAAAAAAAAAAAAAAAAAAAAAAAAAAAAAAAAAAv3aB7AAAAD3RSTlMAq1RmmUTNIjK7EInv\n",
       "3XZ/CtNrAAAACXBIWXMAAA7EAAAOxAGVKw4bAAAEW0lEQVRYw81YXWgcVRT+dvZndmezm/ggaB/M\n",
       "lqJEBLOY+FZkS6JU+uDSvhRMS0REjBTXF0HbTde3+mCNYtH40ExVhCKVbaGU0gdTRAiIGqRoLF3Y\n",
       "ttISFBsjplWReM69c2dn7vy4K3nIIWT2nnPuufc7f/fOAHGUaP2AzUzF1nfxChlsdhrZEAC1ntc1\n",
       "N8BWbcMAFEvi8UrIPicjplyLNLa/OwdMOpojGODHtmgAsXJJD8nHSyHzV8JnGM3QXV14sopiuRsA\n",
       "bFhojuBxHj8fDSBWLsiSbjbWnXG+5IqGVwIsQZ+EGvoYxiowFbmQbnhKAHidoc9EA4iVC0pJn6UG\n",
       "nfQ91cmbHbcDLEFjoYZulaw1YDRyId3wqACQsYMO8gKIlQvqk49znzfkj+t3uy47eEdnSZoPNTRR\n",
       "BQHos6MW0g2z5giS5ZhaJUGsXNADMoHbtxyYi28oyXRxVWfJbIuqbeN3WkwENFELBl43zJrUhb5u\n",
       "tb6K60JxckG7ZAZhuOwUaEa1wgpvyM+SulTD+7ccXG7rpvaRibxoG+YSUG9ola8ZZk0CsBP4IA6A\n",
       "K7edjTrkRvpZ8X833pKtJVMzKlKQLmX/1liOWdpn8+22dVtb7uhdtOWkDE+9wRh8s3TDrEkAXoY5\n",
       "4O1ll85i+4AHgJJbC4KVU71nQc2Qp3kFh+UsqvrLjqNh/qaxJBVKSFd/hHknkEKUGYYsEHNJC0DQ\n",
       "MGsSgJydr7ouuPcYtubtlO0BoOT5VR8AZ0j0pTjM3h0flCl7D/CrFCyP7/hTYzllX4Vl/QHjL3bE\n",
       "gRaTs9lvbWSd1lvXAhA0zJoEwGi7NZrayYdWu5L3ppCS7/3GB8AZKgCfAf2L6lQ4JWNEKf6Pn9UB\n",
       "AGMFCa2WjwBzFJv5cABBw2kZAUw+Ruk0dvQn6lMsHrp/2gdAyInaz/gAOEOVQpSdhXl12qRKqlqu\n",
       "+FmdFOLd95f9HXPdZgDGYngKBQ2zJgM4QyfaRxPlvpolcmAo/+HTPgBnxNlYxBNeAGpIdJydUVb3\n",
       "hoJ7BdqjrhcF/VaUIxf2NTFs+28UF0UKJWfCizhomDUZwCEqvtduoN9Oiz44hMqyD8AhUZx78YsX\n",
       "gBoSnWYdloimIsL1Pi/GAZmreVl00PJZK/rf4QZuJBva1Zi7Y6rpa6NqTohh1mQACda7DxNIvjA7\n",
       "+w4B+DTjAyDk2HVh0PYAUEOiN4GT61Mw5tZ46S2iGdDCc2s2Hlx/0cMCLok/ZCn2+4ATj/izPD1O\n",
       "lzkUqmpR6W9nTohh1nSv0wsYz2abMgLph4PX6aLwmQvAHXJsGz2/DizFyOpdW6l73gfMFSwNyQPr\n",
       "UeBqEADlXX+pA8AdcipWegYwGiMb69rKmAdAegA/l/Eq+TL7fQ2JAIDURVhPPecC6AyZ3usZQC76\n",
       "vSv+5hvQ9L+RWednj/3XG1kuyDrZMwBr5v9gC9Ps/ZUyBIDZ7hnBdKTkZtc2bmKjAGzmrxLB70Lm\n",
       "5vou9MW/a7kob/GBon8AAAAASUVORK5CYII=\n",
       "\" style=\"display:inline;vertical-align:middle;\" /></a><br>"
      ],
      "text/plain": [
       "<IPython.core.display.HTML object>"
      ]
     },
     "metadata": {},
     "output_type": "display_data"
    }
   ],
   "source": [
    "redundant_conjunction = Forall(n, Forall(A, And(ExprRange(k, A, one, n)),\n",
    "                                condition=A), domain=Natural)"
   ]
  },
  {
   "cell_type": "code",
   "execution_count": 44,
   "metadata": {},
   "outputs": [
    {
     "data": {
      "text/html": [
       "<strong id=\"redundant_conjunction_general\"><a class=\"ProveItLink\" href=\"proofs/redundant_conjunction_general/thm_proof.ipynb\">redundant_conjunction_general</a> (conjecture without proof):<br></strong> <a class=\"ProveItLink\" href=\"../__pv_it/theorems/b087913120219811b5ed728b3f1811c77b3bffaf0/theorem_expr.ipynb\"><img src=\"data:image/png;base64,iVBORw0KGgoAAAANSUhEUgAAAeYAAAAZBAMAAAAWDpCEAAAAMFBMVEX///8AAAAAAAAAAAAAAAAA\n",
       "AAAAAAAAAAAAAAAAAAAAAAAAAAAAAAAAAAAAAAAAAAAv3aB7AAAAD3RSTlMAq1RmmUTNIjK7EInv\n",
       "3XZ/CtNrAAAACXBIWXMAAA7EAAAOxAGVKw4bAAAFzklEQVRYw91Yb2gcRRR/2du73ezeba6oWEWb\n",
       "AyU1FM3JRcUv9VpTsWo11C+xoiRIKY2UbhGE2l576qdCaA+16LVgtiL+w6YxVKQttFf9ovjvKKJB\n",
       "e/RqA6WitUaS1ojGeTM7uzu7l7s9gkU7bLI3O+/Nm997b37zdgEatRsrJlxBzaicaCzUD1dYy1w2\n",
       "zMq/pxE+D83Li/lHhqPGbM/W1QjRngznwn5bMgNJvN1UF3ML3qT0vCBLo/QWuxAc2lhHQ93jezrh\n",
       "A9KzPg9GqKWhaSqZgRXYX1cXs9yLKvNjsrfYrcvGrKdcbLP2j7EaGoY/L34Qu5tBnwIYnNOsxw41\n",
       "PUgxP4/eKtTFrCbp7PNq97Lbsovsvt/FIrczb2rf1tSo364F+AKge85xjx1quptijlmCN2ru58Fg\n",
       "FJptJeb2LZdY98w1zshHx/LsELm9t4ZGg/a1BcRlcWuucdcOM42SGYiQFI814LDMvKlMYurbjEnW\n",
       "L+9wdmT1V+bxhFqoodGoeABoz0OMbugWM5ixrh1mGiUJmi8rlc8bYI5XKidH54VZZupZ6Xebnxx6\n",
       "kKGLUdASkVWoxshpcRptIkhXp0gMKREr4wC5vI8HHTvMNEoSzPcDEHLU2Fi+JmY5D600fTRbn4+x\n",
       "nHrbkV1MmNarW3VIk641mlL/ZF1T4nOshl3MH+vgZoFmUSMbFzHq0UDGq38DRFhO5PIIW5jEsWOb\n",
       "jrCs3QQKAa+z5dk6N+xdedCDmQhsor/fZz7hCaR9Sm9H6f9OEyJkRya427Q7MYh2S6RYTJXfaJcQ\n",
       "5/fc/7CdRokQZcK7LVHDMNtEpnlBDmR8gmhLzBPKuC/MHju2aZQkmFstXSCPndfthu/g8E/emmQP\n",
       "fEh/H0sJmPVJV62TOG0fgJsIO38h3uU7Ik5NnOtZ9gftLgQ4b5e/r/S00+layDlb9SwDNTToQjdo\n",
       "GyrYCB4rXhX6pK1Ef9knYM4XZo8d2zRKEsxSVaAwmeQ6pNXFaS/m2xiFRYeqAua+rxy1u1F+Be9R\n",
       "gVvBPTkpZo1o/0VTgMy2nw2MALSV7eNYK/swA6zygejyM3QEk4RnvB+za4ebjpZsRl5Kfp9mFJGC\n",
       "Mwy5LNSesQgFa8SSAubqAC39yMNzNAHImkeWC5jHvLmNc57klYKc4hmRKPGKZLkvtwMlCAxovgdL\n",
       "QDFBKtfObdcON42SiHmMBGOkDR0oS/0aw3PXLQJmvYP6t2pvJxuzAfdRF87AUIpXtNkOATOnpVb0\n",
       "2aO80Ew4lXc0zevRsq/yphrKlC9wU7qPwUbBsCBSqM1hrh1uGiUR81YSp+dwgfCeno2mWSqMCpiV\n",
       "43SBeaPkxdwHP+PYG2WQ9qJPogXQrIMC5se4x4kNBZWH8XxYio9ew39bER0WSDSRWkmYtGm87PMn\n",
       "4ivP1QvPiA9yPT2r+EnonlUH+vHy2HFMo2SGsQfA6/YBEVlfLL4Eum5plve9aiFNkCMfzHgxP3ik\n",
       "3bIjEkXQEi7zKZCLxc+KLzPMvCRQy6ANT1vQOfs06V1PuZL8vTs7CNLwNFlIC86kIvBv6IUa5Km/\n",
       "KL7Kdz6fmp0lDkr02ixoRzWRxcu145pGSf4uqc1QB7WZKnXZ6hdBtwLvklVQLnkwGwDbUevAO7jE\n",
       "q02ghdTFmrkN402XMagRr4YSzYWeNOd5f5b6sxpBO0TrE4DRLDwReH/GtJ/0YCZ7pC1FtDoo3ykL\n",
       "LNyTaknAfJ4rdzeNuRtaUvdYzbzAhJR04rzIVD8GIOy9mYQusmDRoYEA5oeS8OZ0rwNJPg7aI2uJ\n",
       "1r6z/LPGqyT4SS6wZeNR+sSmpKZfRVvNXakToSTrvhYGJb3fSSTcjKAdKu5u9J2kIGo57XFeZDqF\n",
       "miOpFZrFrBXkid6Q3gnvRx/mNbG+UrhvQ971r/HWM+baIaEgl93VbGs6uUNrnIWmJL2Y0/KE1Txm\n",
       "GtcdRdIIvsMPPyAI3vE//e65Ifh9e85c8ldJ1n8PsVH55B+WcYLKZeBMhwAAAABJRU5ErkJggg==\n",
       "\" style=\"display:inline;vertical-align:middle;\" /></a><br>"
      ],
      "text/plain": [
       "<IPython.core.display.HTML object>"
      ]
     },
     "metadata": {},
     "output_type": "display_data"
    }
   ],
   "source": [
    "redundant_conjunction_general = Forall((i, j), Forall(A, And(ExprRange(k, A, i, j)),\n",
    "                                conditions=[A, LessEq(i, Add(j, one))]),\n",
    "                               domain=Integer)"
   ]
  },
  {
   "cell_type": "code",
   "execution_count": 45,
   "metadata": {},
   "outputs": [
    {
     "data": {
      "text/html": [
       "<strong id=\"conjunction_eq_quantification\"><a class=\"ProveItLink\" href=\"proofs/conjunction_eq_quantification/thm_proof.ipynb\">conjunction_eq_quantification</a> (conjecture without proof):<br></strong> <a class=\"ProveItLink\" href=\"../__pv_it/theorems/98a31e91bc05aa8d1f74ed854bc54560475deaaf0/theorem_expr.ipynb\"><img src=\"data:image/png;base64,iVBORw0KGgoAAAANSUhEUgAAAqEAAAAZBAMAAADziupcAAAAMFBMVEX///8AAAAAAAAAAAAAAAAA\n",
       "AAAAAAAAAAAAAAAAAAAAAAAAAAAAAAAAAAAAAAAAAAAv3aB7AAAAD3RSTlMAq1RmmUTNIjK7EInv\n",
       "3XZ/CtNrAAAACXBIWXMAAA7EAAAOxAGVKw4bAAAH+klEQVRo3tVZf4jURRR/++N2v/fdu707tFCr\n",
       "Y6M4K0s3MkOIXLIwLxKxf7JS99KwhHIliCx/3NlfkXabYXYm5xeCwEJv/VGgFl2JCFa0iaGkG+d5\n",
       "IAZ6F3WeeqDNezPz/c58v9/bvV0N7MHuzsy+92beZ968eTMDUIoCheNwHRSaCzct3VHI3BhF5wsJ\n",
       "gJQslKLI9XV2N37pA894m8DL4KFoBb1HnW8fpenrsiyq/ISSACtl4b9F1MRRx7WJ47WFI8vE/ee5\n",
       "qqf87nsdyYU3GtFeZVgIZEgU6rH1rqKIBvAnmKyo22oUm8Q+5659OH6JBaLWB3G3PjeDThvYP2dG\n",
       "2Wd82+WGj5tp0Dn2ZWwhyXjSB9GyTdN0m1vzwIdFrvk7LzyJ/y4timgYQ2GkspCzSvopXGTwHpG1\n",
       "kwDLOEPMdkg3g+rpY5czRCOWW0Qnu72OadiKzJ8TCGkuucwH0fJN03RHMHaickL0NEe0DUNBtiii\n",
       "BvrxysqWxtPsE8bujKtsWq/KGqOp/GeHXHoeBqRnZaEfh51yibjIbm9n628KrsGZcntMOR1qiJZv\n",
       "mqa7LiGUE6JdHFpEOJYoHkdxdndXhugg+9SQp1xin2FZw1/ucWdukevJzYA0WUUUjoAu4iK7vb+V\n",
       "fXDBd8u/jjgd6nG0bNM03YssoZwQjSSpgOVIiZ3poYqjuHGFfTVRQB1gn0uyJvpnlH9PRlw3gxfR\n",
       "xaCLuMhu34YfZnnQHvRip0Md0bJN03R/I5UTouEsL/xcKPxYAtGaQuFUriJE43mx8qEuy1cM1sw+\n",
       "1m+snsd3GcU8DF5Ed4EuopPTfpnHEAjjoHeeFpK8QxeiZZum6W6BSc2knBCNd/PCUwBbSiAaboVq\n",
       "qyJEA2npWgysd46KGY1VYd/kGpFMMGUHKJ3Bi+g00EVcA5XtzOLotwnplamaJJekDsMFonqJaLmm\n",
       "abrNv4MTD5JyQrTqCi+sgCjTb/LpbfVFlDGsUJvCfAO2PSXISobqmU7yhHse4dR/24GHqYnV1oWZ\n",
       "LUECrY0nHX4MXkTvB11EJ7s9/teBPXRSq2WmxzO4faBksNvHR92mQWiPahkIVN5vlqapuoND84yl\n",
       "pJwQNS7xQrUVYywxnj6f4HK3fzp7r5rhb4Gv2Pf8f/Y2UF/VPFkhkeBmAESiVk7GZ2l+IOPC6AyH\n",
       "ZPwhYjWrhokaA1gbB3DBCVAaAzxTKPxUKPzqINoOuohOdnv1gNz8mGEmTLG4pDHgl+GTaaE/7Lb1\n",
       "tmUOnZABx6U7fJCMbheIRgd5Idijb0wfjN8Ex2H/nyqik6nzUB5ieQdR7p6dbND1iu8aFxjLC/Lv\n",
       "2pRE9KICGBlJCxtzzx12OqozeH30RdBFPKezHXbKaFvNJkZIVvn5qDDtkLRc2xcValLSUVt37ZKn\n",
       "gCsnRE2BKKQf01Y0MiWNiUkV0QidsAIpiA/oiIY+QhF5GULtwbyTi3MfxVVvDEsRrLWYnI/ytjDl\n",
       "bl4GL6IPgCbize95e7vcamqpelJIUofuOMpNiw5Iy0shqunuSixq5cq5j4pVD7tZTlZ1mqa5LyGO\n",
       "euGwdq6PNaFBNQmorbeRQ5H4RlKOO+rjKqJ2gkuIdmL8GZT60KkHY6zvrBCN0rR7GbyITgdNRCen\n",
       "vd+e4R6xFkkylPXzUTItlF2TE5Y3STAc52eo2IhqumdYXYkeUs7j6JAorGJW76zDEYeDaZN3+8g9\n",
       "GqLR77G01oqOdXyRiRg/UPVN3FGbVETtzTiQFalLxA5iuzCivSHSD1oen4Avg4bodxmZhtkiJsaJ\n",
       "rrQoKKqW226L8xkakEe3nB+iZFrg7H2HheXTJBjOqsXUc4GoaLpvha7WHCnX9noIMM99mxbUF7FU\n",
       "Fa12syen3z2Nw69HL/RaDqIocu9+LM1nAtZeFdEq6Q6YosEGNqptl2W0ZzUYw3qpxdmeQPELfBlU\n",
       "RBt+aWEtv4EqAsdkoD6mtc++1ilTnbycVJSsnet794Sm1fRCK7fceEWCYRNDhaHA9xVd90aIz7FI\n",
       "OQEZ6lZv8zrFOSb0akfHRojFLNPy3OY1gBovSWQ+QnonzyJnd2zt6EgSooZEFKfNSQP46hS11SOl\n",
       "fCr7ZO1CMl9uOoypC6YNJLl65Nu8tU+0Are8bYINhuNTuH+/7qfbHhY/M9UriJpXyIy6jEHOOe9d\n",
       "iHkRPaghykXaZgHQ4W/Id9XTJhrSEnJZmznirX/K56YEXFcoo6OpEEjMsITkzJERnV6VF5bjBZIA\n",
       "w7luyvA7NLduZVjquV4kQemUmaNkjM5PuZQdOBxEo0MaokwEf1ZMoD3B6FYRjfeod0+wWRsKrxW5\n",
       "79o8Qnv511/VmfbEUSHp06GNaKORz4mTY5O0jOHxpZOiNvnoVoal3j0JH23M4DbDJmglm59QQ+O+\n",
       "Fg+i54YtzUcbM+IJA3XH60V79OvhHqc3Gg1s14ayXR+Ql7aXiXSRF4RsuG+ukPTpMO1oHtNKlhN0\n",
       "3DLjMKzPSLf1QdTMKsMiIB90v4oE6Uht7uvYVOpVpNr1XJETR+hqLyYBzKOi2hmE184WecDxf/6I\n",
       "V3DnvcaRPFvqVYRb7pOPLvZPU9cowyIgj7sRfT7yXPfo3plciMIseHm9c96nBu2d6WYlv7Et8NhP\n",
       "qDQV16S+MzmUDPdZ5SFqdDBiTh+z5jRr+pU8ZdL/DNGIe4EQKsZLpREd/Vuo973e887rmglzBHRv\n",
       "NnrN771+nR/nW8UVnT/FgGzmhX8BkFxOR3wexAAAAAAASUVORK5CYII=\n",
       "\" style=\"display:inline;vertical-align:middle;\" /></a><br>"
      ],
      "text/plain": [
       "<IPython.core.display.HTML object>"
      ]
     },
     "metadata": {},
     "output_type": "display_data"
    }
   ],
   "source": [
    "conjunction_eq_quantification = Forall(\n",
    "    (i, j), Forall(P, Equals(And(ExprRange(k, Pk, i, j)),\n",
    "                             Forall(k, Pk, domain=Interval(i,j))),\n",
    "                   conditions=[LessEq(i, Add(j, one))]),\n",
    "    domain=Integer)"
   ]
  },
  {
   "cell_type": "code",
   "execution_count": 46,
   "metadata": {},
   "outputs": [
    {
     "data": {
      "text/html": [
       "<strong id=\"conjunction_from_quantification\"><a class=\"ProveItLink\" href=\"proofs/conjunction_from_quantification/thm_proof.ipynb\">conjunction_from_quantification</a> (conjecture without proof):<br></strong> <a class=\"ProveItLink\" href=\"../__pv_it/theorems/d7812b80ceb44fa8619a83cb69bdedb50f34873a0/theorem_expr.ipynb\"><img src=\"data:image/png;base64,iVBORw0KGgoAAAANSUhEUgAAAqYAAAAZBAMAAAARVvElAAAAMFBMVEX///8AAAAAAAAAAAAAAAAA\n",
       "AAAAAAAAAAAAAAAAAAAAAAAAAAAAAAAAAAAAAAAAAAAv3aB7AAAAD3RSTlMAq1RmmUTNIjK7EInv\n",
       "3XZ/CtNrAAAACXBIWXMAAA7EAAAOxAGVKw4bAAAILklEQVRo3tVZe4gVVRg/9zlzZ3bv7lKB9lhu\n",
       "D6ww84arJb0uWZlZsdQ/2UOuZUhGNhYFltq1QIgsb4bpNdGxotpKdzMLSootkaAoFimV8sJdXRAL\n",
       "H4mbeoXsfN85Z2bOmZk77i5FfXDmzs5+r/nN+R7nHEKi6IKqRUZAic4Rq3DpYDVH/sNUoCNb3RHN\n",
       "WByZnUtGrIJ/Dw2/UD6IQ/PzW9EKz/BxI9JcSRgL8K8J/zSmRnGkKrJ8aqZqoZju9fPPjFao0syh\n",
       "+7bXlYSRqDFMW+Hn4oaYxuAnnh8WIpk8qoi0otKB06+Nnm3D3VhCun6Am31hmMZ7KFDrT7a9cTvn\n",
       "JwMkqzKqDDLpvxC/SKRvYJjoa1ASpX9hmN4CP3MaYpqkKZGkh5cSFzIVkVZ89Cf9Ht+JiT4bnqTt\n",
       "EEzfhUsL5Vtrc/5fCZnL/7lZcKkMXtpwa50EiMhk5lTf0HC2yCRh9DNMl0BaKDfEVG91csWQaTpT\n",
       "EWlFJf0vOg3oIElA8Sjm0kIIplPgspzG3fga56fUwXPPTsGlMmA+EffZepCITBuLqm9TxL86+Oi2\n",
       "EVP4+maucT6dG/7xomiQqYi04kt6J+g4RW+a4NXr+Ow7GdM14qYXLodLdPQwfqAmm+m5qpM/UBkw\n",
       "a9S8mPpEZNp3jupbL/EYg5HOI6bgZTqiRk0Ydp3R60xFpBVfHj5CB/WdjIGoY84/LGP6kgAGXVsP\n",
       "o8T4MVMwzmZdRIfK4MfUJyJT30uKb3EHE5CEkSyzuv9Dtfp9BKZN1eqenuEV7T6uIsqKSi1lFq2Y\n",
       "PNKt8S10FnwsY5rgLiXx9ySLSeA3BiiXiWWRFiSRxVUGP6Y+EaUSipIifEPDm/q5JIxsL8P0Nk8U\n",
       "hWCaLJGMPSxMY0WuIsqKStTn53bwyUm68xctpChMEpgmq0jHPDOSwqV9mWP8Zoq+WoJNojnYIAcx\n",
       "+DFVRWRKW/GC7BsaLjTlmSQMTFIU0/lEowgb7BuUAjGlDPPV9YIjAq5ZsmTWDeEyV8GseOha6sp7\n",
       "SqIg+hbx6Q6ft3Ui3oDz45/OLaUmrlBqVPwhFquAVPaPrZ90cv4XktRgHGGj5bWZZ0mVwY+pKiLT\n",
       "Et4qub6B4azVkmOSMPQTDNOMbVJbJtO+m0md/+a0Ld6efw35lF5nHNvShjiyfMNE4qsImehKEvJ2\n",
       "UYCOUctVMCvX1xz8wP+vZK+bSyL8WPZD2k7HHdew+aHW/Xe3Y4Ho5DlO8NtN1IyOD2Ilkq05SVBi\n",
       "gNm+h6akVgdTVUSmUYQckn0DwwYZbzNJGNogwzRek4vHq6NXkl3ki9+8mF6J10QfMftcTNmXXkf1\n",
       "CiCS4NghynK/A1OBq2BW8PX1/kqnJ7/LSavotoAupjtvxih4QMFUe8xyMG0pevjhNVl40w7S6HPa\n",
       "U4nBP09VEd+CcKPsGxomd3JJGAbHlBRv8MomaeYjef3SvBfTNK66YgWSPSJjmngdRETvkUE/+1h7\n",
       "Ls9TZuV5+AsBisBUPyWe0FA1jqYgpsg4JZ/utNzYX97j8pNZBnODdYA3sUmuMgTEviLi6/iTOck3\n",
       "NIzLB5CEofHYJ5tp+5nCFYAxkMMVIJVOSut9cwyA1JQjza0OpiCSXYG6maQHU6cVdTEFK2Sy9jtf\n",
       "AgJ4M+UMu+kmF9PsoHhK4yBRN45Cip4sz9MU/7QZAOZwp8tvDJqUE/8LKD3DkqDKEFCjFBE5MUFg\n",
       "FCXf0DCGO0jC0I9zTBfSV9vUAqAl40WDOXr1ZRKm2tdw97ytnU0cTKmI/g3++QxKejEVFZLERI1C\n",
       "K6T9yY+sLjbBi8So1eWdMto5pnjUpUX2gwYqVjROmKwL8mIqXhxz8BMefv3IU7zRwfDKYOLwMUiY\n",
       "mseJKmJAiOOlG/zHYF4t+YaGE0e4JAxR9yEpk2fHAdMHZoGt1oxaj7wvNQou1x3aa7uYgsjlX8Dd\n",
       "DJT0YiqmEGvYUAVYIT/mdHIP/mNpiWhvSWnLsKEszkMLyfUnxdu+QtXmyACk959lTFeLckfVTDu9\n",
       "zuUnZ1GuZpiXMdCmgyo/gxfT2Pl/nuUT+YnwCxaFc7HWSL6BYTZrQBJGote717eOt3qJRyuVFcQ0\n",
       "bcP27fW1iZuyIzIDQL2Q9WrTKmsrlTxi6qxEUnWvCu0YTdaTKpVKTm+zeex4CFrRMWrJbXaaNK1P\n",
       "xtRp5XYH8S8K63ybSwHrqMYiYQSGsYVYxEey1YOpUUdLLZaOE/TuF4npx3SbhCkTWTKVLRJbrMDY\n",
       "xyrrqEiUH9TIy2wCU+vd78su0vjTen3nBI4q2PwI3EPpCOKfEnrwUAjYQ2ksEkYdJJa70eaSU4iz\n",
       "3hf1tmBQNJfx1U5PgTzo25PWjkuYUhH4mX8upu9lUt13G7zpXhWx2ismX5FB/h2DhfBDYvQ4LWtA\n",
       "O7BK3CwI2z/NWH7+Bptgq8I27ctDxTRjLc/t4JIozfel+Dxtt6Dg0FK+gM6+RFv757N8mB44ZUvz\n",
       "tN3iIQjv1C8w1T47VfO85TKviowVu4ZoqwWmG/Yjh6V/60zdAEy7vFgEYmqU/fyZ8O3erlCEhnyI\n",
       "UU4OdHJJlL5KPTuJY0YzPq+sjDo7UT5oqoflQjZPZbdjOZ+KDyvBPT8ETsBjjc/5rBV6drLYz7+/\n",
       "wSFSLfj5/qFvZyx2JVF6l4rpfel7e8/sPEoNkqlc0mlqp0aeR6V8S5VHloUvBdxkOLwTnH+JxHmU\n",
       "S/nkgD00THVawis0JM13ZMmEZ1N3bMje6zz1wV1wWLQ093/G9IzPTR/3H877HijfwlDwDVBB9CD0\n",
       "tFJjXw7u+U9jCrMiW932N4ZicGm733zoAAAAAElFTkSuQmCC\n",
       "\" style=\"display:inline;vertical-align:middle;\" /></a><br>"
      ],
      "text/plain": [
       "<IPython.core.display.HTML object>"
      ]
     },
     "metadata": {},
     "output_type": "display_data"
    }
   ],
   "source": [
    "conjunction_from_quantification = Forall(\n",
    "    (i, j), Forall(P, Implies(Forall(k, Pk, domain=Interval(i,j)), \n",
    "                              And(ExprRange(k, Pk, i, j))),\n",
    "                   conditions=[LessEq(i, Add(j, one))]),\n",
    "    domain=Integer)"
   ]
  },
  {
   "cell_type": "code",
   "execution_count": 47,
   "metadata": {},
   "outputs": [
    {
     "data": {
      "text/html": [
       "<strong id=\"quantification_from_conjunction\"><a class=\"ProveItLink\" href=\"proofs/quantification_from_conjunction/thm_proof.ipynb\">quantification_from_conjunction</a> (conjecture without proof):<br></strong> <a class=\"ProveItLink\" href=\"../__pv_it/theorems/e840b7d44d20d9a1fc38279e11c4c5bb7616800e0/theorem_expr.ipynb\"><img src=\"data:image/png;base64,iVBORw0KGgoAAAANSUhEUgAAAlYAAAAZBAMAAAABGn28AAAAMFBMVEX///8AAAAAAAAAAAAAAAAA\n",
       "AAAAAAAAAAAAAAAAAAAAAAAAAAAAAAAAAAAAAAAAAAAv3aB7AAAAD3RSTlMAq1RmmUTNIjK7EInv\n",
       "3XZ/CtNrAAAACXBIWXMAAA7EAAAOxAGVKw4bAAAHiklEQVRYw9VZb4xTRRCftu/a19dr7y6iAVTS\n",
       "RHOYoFAjoiQIFWICGMkFv6gRuAMMilGKJkQQpOAnIniVBPkjgffJBBWu/PEDovGUEBP8VwmCEZsU\n",
       "uISghquR428C7szuvrevb3vvDvkAk7Td3Zudnfnt7OzsHEAQ3VvO6YYjbXALU6h8/OYISpWPABiy\n",
       "EUTt+uH78cuLYs4/BH4GH8VuwISY+60VGv1fAMVUfR9h/YJo3BhWFg6n0p4toN7sfvYorR1uqAze\n",
       "mlPuzNk3H6tT4ne2hGgibzTjz339YhXCn3DGMxrH7ij2OXv9g2HzbRC9HkhlaubXMnhpHfvL6YGe\n",
       "h+2XWz6cTsoU2Ze5hWb6FhRYBRoG9RRl0q2tJSkasUra1HgK2Rb0i5WBoSnq9fXl0rfgAgPusOyd\n",
       "AFgoOPZI1loG1TuHLGJaRG3eS+j9zh1vYhK2IvPHBF07n7lQj1WgYT6SiqL0aBaEaMQq1UyNVSDP\n",
       "Y12sTORc6h19mn0MhN28xjbimuwxGitgOCY4fQxIz8pGL7M2kuXtnXVCozPeyc7cGDx3U+QFk3UX\n",
       "rMUq0LBachRF6U1paQtiZV2hBm5NvQ2V8Wqh6iac+tinkXb3EvtclT385V6SelhclD4GpNEqVnCY\n",
       "t0/fqdfAGe/Nsw8ev275p8PugkhbFKwCDfMdcakoSp9jS1sopM8jrCKZgEjYztm9e24i0K0UuKrs\n",
       "c0n2UE3uPklT7KmPwY/VPN4urdFr4Ixvxw/DK+woM89dEGmNglWgYbUkFSXpXzq2EFbTuIP9WC5/\n",
       "H4BVY7n8R9G7ByVxDqGpwM8G9qweJjtBQZUFchErfAx+rHYDD9hR7f3vjl/mBwUMVGbXSTFTLEhn\n",
       "sqjcg0GG1ZJUlKR3wKjpXDRh9TfHaqriunWwMvIQt725Xrt0Byb97SNiixMNzH0jfNMX8AxMw+DH\n",
       "ahy3LxfOau9/Oc5win2Vlp6UbczwmbSgUSY6r2AVZFgtSUVRuvVveORBLpqwmsMP42KIMfQsvnV5\n",
       "LVaMYXGNv+IBIwR67z7wKA2x3mqDMYcJDnYfJDm8PgY/Vg9SkwXj33U2OOOpfw7spSCYZIClchh+\n",
       "cWa4W/HBuS5W3DDlpbHXMdONJfDedEcVoShKD1+caS7gogmrzjw14naCKZDgCeFvfNo9H03bp+ai\n",
       "W+Bz9v38+X0tYq0oanFIxhAi1rMbmRSzSo6Xh1QFtAzwTLn8Q7n8i4tVJzWHApzTYeWMx6vy+mAK\n",
       "WzDG5jPNqsL88SEHK27YE06muxYcMx1K5kUAUBRF6cZB8hoUTVitbKNGuOKNgO8P2wDH4Ys/VaxG\n",
       "03ekBImSWCMrsbqgQEHq82PGchSrBFoGv1+9KF8CO+u8EHY66ZVjDYNczGxQ/Cr2as7BihtGvGiT\n",
       "525RqFVJrxzpyflTQYgmrLraxA03UZ1qIFPGHJlRsYpGcD9CWUhVFb/CM2helXzY67CYiiWZiU4G\n",
       "LYMfq4dkxmmk9ZkoH++UkTtJ3RNiJi0o4tWxnPLGIcNWSpuCsHIUReld6Tl5IZr7FT+DsIelTw0n\n",
       "aQt70uLBYRie92CiFU1qTEOyWcFqG8aQPsnHelZfgnkf5Qqo/xLQMvixGk8qoltoslF3vFeWNuK4\n",
       "c7E+MTPiJpwNBfU9iIbB+NhfwqZWaaZLuya7WDmKovRJdle6wkXzeJXjjeXM7l1NqLMRbrf4ao89\n",
       "4MEq9g2Ba8eGyHuwIC7sqBMsduPxflNcueSH8byWwYPV1zmZfJB3b8Idw8PQ1S4a7jgsclwNdypS\n",
       "lc8HN51Z4nk7o2Ew4o3PlnGbxkkzXcoyoGbJKVVF+l3QlS9y0eo9iGEYltEx+CSRbaCzZ1WK3jrD\n",
       "UPyacO6UXCqFMWIdE7b9soyWrAd3sNlJ3P0QMpoVLYOKVcvPHWzkV2wOp2CJX0dlQDzqGZ92fZs8\n",
       "LiW5XTgz6VbSNnmwQsPgp7TJbTJflma6odBmN1iUR2ZXUZS+HlIzbC6asJqg1mS2iTw18srmzesh\n",
       "kbAt21eTaVHqKFf4JeK9UohW1MtfVPbRnnJRabBFE7yu8UqlmSs0BTLnuoqdnwrcplXDHTNdYjlf\n",
       "+HWddNcWguhJBSvrChnSlDPJoWa+Cwk/VgcVeYfAffMq71jlXeuvpGY1b2eoeVQPjMZCKD3JFjOn\n",
       "9Fe/ihRmxbhNcNIx06WLvGJSK13SFPC8B0UO1561ipSCUKpbzDrH2MUqdrGmzgAbPUvwXj9P+411\n",
       "xpcOuhgXz3Wmj4iZ2gUdrEKVdQmRvreSmdj6FCwOn9mtux7j0j1JtFJnEH41Imd+S9AvZchHWkbs\n",
       "7/BhdfaqEhgxsYMdniV2eBfy045BYlifrILR0yZmaheMunaHHiebCBRmJimfM7/jYbdZh5VVUEFD\n",
       "iCLNNTXkMLmatX/zhgHUkEOY4sQ8WTDvnemnjK0vFqdyg6/yvuPOPBNcQ+Y2afIrfPq11pMuRFNd\n",
       "NFeD1QvR57oHV2+/dUlXjJnlG3lpbf0U1SGl3u5SxuixB/5/nFG3HVZRn1vPYO9mc24wVgP+P85r\n",
       "t+P/B6O6/w+u1nG+FVAsLbPb37Cp8R+7Dx4DrWqiPAAAAABJRU5ErkJggg==\n",
       "\" style=\"display:inline;vertical-align:middle;\" /></a><br>"
      ],
      "text/plain": [
       "<IPython.core.display.HTML object>"
      ]
     },
     "metadata": {},
     "output_type": "display_data"
    }
   ],
   "source": [
    "quantification_from_conjunction = Forall(\n",
    "    (i, j), Forall(P, Implies(And(ExprRange(k, Pk, i, j)),\n",
    "                              Forall(k, Pk, domain=Interval(i,j)))),\n",
    "    domain=Integer)"
   ]
  },
  {
   "cell_type": "code",
   "execution_count": 48,
   "metadata": {},
   "outputs": [
    {
     "name": "stdout",
     "output_type": "stream",
     "text": [
      "These theorems may now be imported from the theory package: proveit.logic.booleans.conjunction\n"
     ]
    }
   ],
   "source": [
    "%end theorems"
   ]
  },
  {
   "cell_type": "code",
   "execution_count": null,
   "metadata": {},
   "outputs": [],
   "source": []
  }
 ],
 "metadata": {
  "kernelspec": {
   "display_name": "Python 3",
   "language": "python",
   "name": "python3"
  }
 },
 "nbformat": 4,
 "nbformat_minor": 0
}