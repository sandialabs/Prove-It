{
 "cells": [
  {
   "cell_type": "markdown",
   "metadata": {},
   "source": [
    "Proof of <a class=\"ProveItLink\" href=\"../../../../../../_theory_nbs_/theory.ipynb\">proveit</a>.<a class=\"ProveItLink\" href=\"../../../../../_theory_nbs_/theory.ipynb\">logic</a>.<a class=\"ProveItLink\" href=\"../../../../_theory_nbs_/theory.ipynb\">booleans</a>.<a class=\"ProveItLink\" href=\"../../theory.ipynb\">conjunction</a>.<a class=\"ProveItLink\" href=\"../../theorems.ipynb#right_from_and\">right_from_and</a> theorem\n",
    "========"
   ]
  },
  {
   "cell_type": "code",
   "execution_count": 1,
   "metadata": {},
   "outputs": [],
   "source": [
    "import proveit\n",
    "theory = proveit.Theory() # the theorem's theory"
   ]
  },
  {
   "cell_type": "code",
   "execution_count": 2,
   "metadata": {},
   "outputs": [
    {
     "data": {
      "text/html": [
       "With these <a href=\"allowed_presumptions.txt\">allowed</a>/<a href=\"disallowed_presumptions.txt\">disallowed</a> theorem/theory presumptions (e.g., to avoid circular dependencies), we begin our proof of<br><strong id=\"right_from_and\">right_from_and:</strong> <a class=\"ProveItLink\" href=\"../../../__pv_it/theorems/53f934d959ef00a2d007db63433e676c9774b52c0/expr.ipynb\"><img src=\"data:image/png;base64,iVBORw0KGgoAAAANSUhEUgAAAHMAAAAVBAMAAACHwMySAAAAMFBMVEX///8AAAAAAAAAAAAAAAAA\n",
       "AAAAAAAAAAAAAAAAAAAAAAAAAAAAAAAAAAAAAAAAAAAv3aB7AAAAD3RSTlMAq1RmmUTNIjK7EInv\n",
       "3XZ/CtNrAAAACXBIWXMAAA7EAAAOxAGVKw4bAAABeklEQVQ4y5WTv0vDQBTHv2lq0yZSDYjolICr\n",
       "QwZxU7soFgcLLqWLFRFRHHQXWkendhQX0z9AENcu2kEUURwcXAoRV/EXir9AfXdRPBNDuQfH+97n\n",
       "3Tdc3kvQCYo+yIS6dW92bwCjbDMvZUV7FbDKWCOpVeWsJQ+YziDhAoYtZx0p0/KgOkBCzgmL1tIy\n",
       "cNJsHktaj4DaBeVxYJMD9289/iPcoDP5enM5y8QKND4g/ZDz9cd6tsxE6vtgkAPpZ6DfYUdcI8eA\n",
       "8eAP7QzpPdEa5FShbLyQiHl+l/KnPCkZqHeiNciBDrql+sFUcZgDb8Yft41tR7QGOVChrDwxtbvI\n",
       "XwBj/rivBnogWEMcuKW5VIpMrfIu5XHN+RD0LtEa4jRSoO2A913hjZuoW3xH9VJOsIY4ej9Nc0H4\n",
       "/tJU4Y9o0OcpDCfMQzFFjbP1HWhv0M+FC4d5MOL70Cfnkg0Mvtez9q/1Hx4RMUGnInhEFCKshdZW\n",
       "J8LqyP1ZWqsDX9Q9YJ4pEB38AAAAAElFTkSuQmCC\n",
       "\" style=\"display:inline;vertical-align:middle;\" /></a><br>(see <a class=\"ProveItLink\" href=\"../../../__pv_it/theorems/fb0f158eaae30afe81e0f6dc79355d25a9ea42d00/dependencies.ipynb\">dependencies</a>)<br>"
      ],
      "text/plain": [
       "<IPython.core.display.HTML object>"
      ]
     },
     "metadata": {},
     "output_type": "display_data"
    },
    {
     "name": "stdout",
     "output_type": "stream",
     "text": [
      "right_from_and may now be readily provable (assuming required theorems are usable).  Simply execute \"%qed\".\n"
     ]
    }
   ],
   "source": [
    "%proving right_from_and"
   ]
  },
  {
   "cell_type": "markdown",
   "metadata": {},
   "source": [
    "This is proven by simple generalization by the fact that extra conditions may always be added to derive a weaker statement."
   ]
  },
  {
   "cell_type": "code",
   "execution_count": 3,
   "metadata": {},
   "outputs": [
    {
     "name": "stdout",
     "output_type": "stream",
     "text": [
      "proveit.logic.booleans.conjunction.right_from_and has been proven.\n"
     ]
    },
    {
     "data": {
      "text/html": [
       "<table><tr><th>&nbsp;</th><th>step type</th><th>requirements</th><th>statement</th></tr>\n",
       "<tr><td><a name=\"0x564a9d822c1d656f_step0\">0</a></td><td>generalization</td><td><a href=\"#0x564a9d822c1d656f_step1\">1</a></td><td><span style=\"font-size:20px;\"> <a class=\"ProveItLink\" href=\"../../../__pv_it/_proof_right_from_and/069235d2a86c4d9da9b9436220abafddb6b8c1500/proof.ipynb\" style=\"text-decoration: none\">&nbsp;&#x22A2;&nbsp;&nbsp;</a><a class=\"ProveItLink\" href=\"../../../__pv_it/theorems/53f934d959ef00a2d007db63433e676c9774b52c0/expr.ipynb\"><img src=\"data:image/png;base64,iVBORw0KGgoAAAANSUhEUgAAAHMAAAAVBAMAAACHwMySAAAAMFBMVEX///8AAAAAAAAAAAAAAAAA\n",
       "AAAAAAAAAAAAAAAAAAAAAAAAAAAAAAAAAAAAAAAAAAAv3aB7AAAAD3RSTlMAq1RmmUTNIjK7EInv\n",
       "3XZ/CtNrAAAACXBIWXMAAA7EAAAOxAGVKw4bAAABeklEQVQ4y5WTv0vDQBTHv2lq0yZSDYjolICr\n",
       "QwZxU7soFgcLLqWLFRFRHHQXWkendhQX0z9AENcu2kEUURwcXAoRV/EXir9AfXdRPBNDuQfH+97n\n",
       "3Tdc3kvQCYo+yIS6dW92bwCjbDMvZUV7FbDKWCOpVeWsJQ+YziDhAoYtZx0p0/KgOkBCzgmL1tIy\n",
       "cNJsHktaj4DaBeVxYJMD9289/iPcoDP5enM5y8QKND4g/ZDz9cd6tsxE6vtgkAPpZ6DfYUdcI8eA\n",
       "8eAP7QzpPdEa5FShbLyQiHl+l/KnPCkZqHeiNciBDrql+sFUcZgDb8Yft41tR7QGOVChrDwxtbvI\n",
       "XwBj/rivBnogWEMcuKW5VIpMrfIu5XHN+RD0LtEa4jRSoO2A913hjZuoW3xH9VJOsIY4ej9Nc0H4\n",
       "/tJU4Y9o0OcpDCfMQzFFjbP1HWhv0M+FC4d5MOL70Cfnkg0Mvtez9q/1Hx4RMUGnInhEFCKshdZW\n",
       "J8LqyP1ZWqsDX9Q9YJ4pEB38AAAAAElFTkSuQmCC\n",
       "\" style=\"display:inline;vertical-align:middle;\" /></a></span></td></tr>\n",
       "<tr><td><a name=\"0x564a9d822c1d656f_step1\">1</a></td><td>assumption</td><td></td><td><span style=\"font-size:20px;\"><a class=\"ProveItLink\" href=\"../../../../../../__pv_it/common/a9162d1c3cc0470c02e5daf414500903a7a419230/expr.ipynb\"><img src=\"data:image/png;base64,iVBORw0KGgoAAAANSUhEUgAAABAAAAAOBAMAAADUAYG5AAAAMFBMVEX///8AAAAAAAAAAAAAAAAA\n",
       "AAAAAAAAAAAAAAAAAAAAAAAAAAAAAAAAAAAAAAAAAAAv3aB7AAAAD3RSTlMAZrurzTLvInZEmRDd\n",
       "VIkafcLnAAAACXBIWXMAAA7EAAAOxAGVKw4bAAAAb0lEQVQI12NgYBD6b2zsFMAABEkMDMxfgTT7\n",
       "DwYGzl9ABiOQxwjkMDB/YGBgSQcy2BQYuG1AiuM1OkwEQJr6Cxh4E0EMNSB+D5L6DMTyDQwMrB+B\n",
       "DPsJDAwc34GcL0AOSwIDwzRvoHH6n41NdBkYAF/iFeJ4bEa2AAAAAElFTkSuQmCC\n",
       "\" style=\"display:inline;vertical-align:middle;\" /></a> <a class=\"ProveItLink\" href=\"../../../__pv_it/_proof_right_from_and/d43a9c2d2ebf0b3b961e71c77fe7ef917c06ce470/proof.ipynb\" style=\"text-decoration: none\">&nbsp;&#x22A2;&nbsp;&nbsp;</a><a class=\"ProveItLink\" href=\"../../../../../../__pv_it/common/a9162d1c3cc0470c02e5daf414500903a7a419230/expr.ipynb\"><img src=\"data:image/png;base64,iVBORw0KGgoAAAANSUhEUgAAABAAAAAOBAMAAADUAYG5AAAAMFBMVEX///8AAAAAAAAAAAAAAAAA\n",
       "AAAAAAAAAAAAAAAAAAAAAAAAAAAAAAAAAAAAAAAAAAAv3aB7AAAAD3RSTlMAZrurzTLvInZEmRDd\n",
       "VIkafcLnAAAACXBIWXMAAA7EAAAOxAGVKw4bAAAAb0lEQVQI12NgYBD6b2zsFMAABEkMDMxfgTT7\n",
       "DwYGzl9ABiOQxwjkMDB/YGBgSQcy2BQYuG1AiuM1OkwEQJr6Cxh4E0EMNSB+D5L6DMTyDQwMrB+B\n",
       "DPsJDAwc34GcL0AOSwIDwzRvoHH6n41NdBkYAF/iFeJ4bEa2AAAAAElFTkSuQmCC\n",
       "\" style=\"display:inline;vertical-align:middle;\" /></a></span></td></tr>\n",
       "</table>"
      ],
      "text/plain": [
       "\tstep type\trequirements\tstatement\n",
       "0\tgeneralization\t1\t|- forall_{A, B | A, B} B\n",
       "1\tassumption\t\t{B} |- B"
      ]
     },
     "execution_count": 3,
     "metadata": {},
     "output_type": "execute_result"
    }
   ],
   "source": [
    "%qed"
   ]
  },
  {
   "cell_type": "code",
   "execution_count": null,
   "metadata": {},
   "outputs": [],
   "source": []
  }
 ],
 "metadata": {
  "kernelspec": {
   "display_name": "Python 3",
   "language": "python",
   "name": "python3"
  }
 },
 "nbformat": 4,
 "nbformat_minor": 0
}