{
 "cells": [
  {
   "cell_type": "markdown",
   "metadata": {},
   "source": [
    "Proof of <a class=\"ProveItLink\" href=\"../../../../../../_theory_nbs_/theory.ipynb\">proveit</a>.<a class=\"ProveItLink\" href=\"../../../../../_theory_nbs_/theory.ipynb\">logic</a>.<a class=\"ProveItLink\" href=\"../../../../_theory_nbs_/theory.ipynb\">booleans</a>.<a class=\"ProveItLink\" href=\"../../theory.ipynb\">conjunction</a>.<a class=\"ProveItLink\" href=\"../../theorems.ipynb#disassociation\">disassociation</a> theorem\n",
    "========"
   ]
  },
  {
   "cell_type": "code",
   "execution_count": 1,
   "metadata": {},
   "outputs": [],
   "source": [
    "import proveit\n",
    "theory = proveit.Theory() # the theorem's theory"
   ]
  },
  {
   "cell_type": "code",
   "execution_count": 2,
   "metadata": {},
   "outputs": [
    {
     "data": {
      "text/html": [
       "With these <a href=\"allowed_presumptions.txt\">allowed</a>/<a href=\"disallowed_presumptions.txt\">disallowed</a> theorem/theory presumptions (e.g., to avoid circular dependencies), we begin our proof of<br><strong id=\"disassociation\">disassociation:</strong> <a class=\"ProveItLink\" href=\"../../../__pv_it/theorems/90c5429d603f0318bf9181a8c78042d10793dae10/expr.ipynb\"><img src=\"data:image/png;base64,iVBORw0KGgoAAAANSUhEUgAABFcAAAAzBAMAAACgWvqRAAAAMFBMVEX///8AAAAAAAAAAAAAAAAA\n",
       "AAAAAAAAAAAAAAAAAAAAAAAAAAAAAAAAAAAAAAAAAAAv3aB7AAAAD3RSTlMAq1RmmUTNIjK7EInv\n",
       "3XZ/CtNrAAAACXBIWXMAAA7EAAAOxAGVKw4bAAAM3ElEQVR42u1de2wcxRn/fA/veu/hs5pW0Edy\n",
       "LRSlCoSrMKiB0lwgVKUm5UqkCkFKjFCFCEg5pIoqhcYH4g9Q3cTQRo1RUZaCooaQxCCgEKuJobS8\n",
       "VLiGFEWIlAvhoQANIZDYJEqu89qZndmZu73KmyYXj2Tf7m+/md/tzm/n8c18NkD45Dz8sAtT6eRM\n",
       "rVZ+pl4vnkj3t3qqiichraMa6arXh1oSS+mEusuOwlRNT0Ky32AH8XYWy1fkUytyQuuEK9iXysYr\n",
       "Z50EYon3y+dv0+feb6iP/tZKv0WDvR3VrSRr0T+ua4xXUrn2F8tt8rsSGyEfnfv01ibclJYGIcwQ\n",
       "X/NJz5c0YyUTblS6bL87MNzc0/MFa0QzDDXgplGrMM+aO+3X2l8s/5ZP19KPs/2ieEwcmnApCTxW\n",
       "9715eR9DGj3RGZXANSNuYpDtO10l20cfQGxBIZhNxk0s2mKWGJ/kmW67iyU+Jp9fTD/mjfveq9fF\n",
       "sQmX3kOBJ2aIdmtDv49hAPUYi4uBa0bcxCDbx4tytnU70K/Ly4FsCm5g0RfTa3yUncV2F0taaYyp\n",
       "dlK3Tggo+21+QyZcSj78z1tFK7H7iz6GuQifWwtcM+ImBsX+JTnbTfhdXxTMpuAGFn0xaaMbJTne\n",
       "7mL5WL73GH2Zlmf3++7H5rdvwuX757hV+1i08NW7fQwzcB2U1Wtm3MSg2F8nZUuRL3tnIJuKG1j0\n",
       "xXSaBy3XtrtY/imfJmhDU4x9KrBZcL13aMKlJPAEnF0Q49rOsmB4EeCBHaBeM+MmBtkeHpWyDVTx\n",
       "7z8Fsim4iUVfjDfp0aSz3fYWiz2h9LukcpN5+7DArofTvYbWgMtJ4FfASt7LdZZjRc5gf75313U+\n",
       "VnbNiJsYFHs4T8q2tabPpuAmFn0x1NWwYCdOypu2qdbeYulQxreZPG0RrE/QeJA+ejsHGddrKTC+\n",
       "/tEvK7isP4EXYSAHzgxyfDvAG5whi7r3MwseA7/m4YxB4CYGZi8mJFK2t1iD8WC/nI3hzmiP24Al\n",
       "UAxrb8aMD7Or2t5iSSuNapp89z3z530OsOI/VE8VyLJ3i+JFWKDgsv44nv3d/BnoyZ1BTk4B2MsZ\n",
       "utATT014DPyahzMGgZsYmD1PK6Vsr5Iz195blbMxPAGJagMWtRhPqWZPU3y8vcWysqARi4Me6RHw\n",
       "HNhrEUCfNsMPwEBFwgOeGoZvBOhGR30kL3q7N3CGbqTR+FGPgV/zcMYgcBODV46XFknFvUVaggrE\n",
       "qnI2hneXrIkGLIFiWFdsblmcT9tbLB+XNd1QAv28ycWCPVkXsV6I4OfTqhR40GF2EeuFIIMe7b88\n",
       "B1ci7zFgjXYc8Bj4NQ9nDAI3MTD73u/sze1e7X1jno24RlLgiYVnY3jcJWIxsajFxC9e8Q54hWnH\n",
       "LPBMe4vlD2q3i9vphUD99LQq8cOhSzweDn+RcWXC6eHJAlkecEi7nQG2sEQYsEZX9nsM/BrHKYPA\n",
       "DQzM3jn3r6iedqHzOVI27LGDzVwsPJuHQ6ragEUt5sFFhXS5sRbub2+xvKi+Tqhdt3BDu6bMqjKO\n",
       "H1UXftE5TlbjBb4JPVHnIDvw4bfhg3HmWPke/rXam3rehKT0d9cTC7/Gcbrez3FSMKcRDMze2tgP\n",
       "E6S365Oy4Xn+1a4nFpHNw+E3rt+c3wM5CBTzy/eg2+XOBW3aysRCBoKnhRVLB+nmjv+NIs5n6kSj\n",
       "Cs6agy58q34jq8oO/EBt9KAFvsz145DBE8zt3gHH19WXQGzNwRH6dMn0ZgVlgFPrPT035Hnbxa9x\n",
       "nDAInBTMaQSzZ99Rs8dgG7Aej2eDh+6ZVuI9h8jm4dZ9svl2P0uwmOlkSNSoKZhbomK5hE7UQ4ol\n",
       "USLz9OPfzXJURXweLr5DQ0lW0WrlzjJXRc0A6Up2yNpXAauqvRzTw/Bz+EUrLC/AfBvgV42mCzUq\n",
       "ltvxPQyFFYuNG6Jlx38vFNuvIr3Nq3LZXXe6LXB0Z6NmgAHUtsSHipAotCIWa/VdP2yBxNoHO2by\n",
       "lVZt2lSkYsGr36albM2YZQmYV/CPoxSfCDiWxCt969It2kyv1uutcCTejZoBfoxacWu6a3g9rScP\n",
       "17TtUb3eyu6cZA4+LDRuMPBMHosljof24Qe456DP/uNfLNnxwChmKGrOCBl+H/0T62rUP3YPsdnQ\n",
       "P3bufDm8WNI7d745cvyLJXUoAC2PnDQyhuwxGCS+33Ds1M/E8gOA+8KLJVGBLtLtOv4r+o7Y+f+J\n",
       "JXEIptLkpUyVieVmsPiimKZf3P4EfDcnxIJsbyYnj1R8qnhBm1eY3P3Z6KXeib2m73HNbtQAvKtv\n",
       "82b+ak0bXa8RpN8E4IwnF3DHa8e+qRqeTLGMMbF0uamStyimpBWnroKvp9yE63PK3QdPUD+Nb1Cc\n",
       "2q935XCTeBWyY97JhQAfaawV+Kd5sppGh2Dbgi5Z2cTeNVzKpqxvVKbEEqlYYjU8vu3TteWoh4LT\n",
       "asWUrxuC2XR8mxz0DcSvfEU7yhYmHUWI8+qbBjBXYy7DsZfQT5Gd4B3DwS0mfpP5SCXZFGzOT3VD\n",
       "kXZD0I/9v9hFGL94xa7snAo9eocFIMz85nJJLJ3EuwzZTt8egNq12mGZMEnnYQN3FTwLzmsacxke\n",
       "QNVus6q3cMN1R9AJIUxIHANqWS7w+qrUeLBDnapzXQo1duYDXHhsCdBFMbyilMvm2FGZTgVnpv54\n",
       "tV8sqTNIhdQSYgKdhe/rGLDJLbQyB3b3nsIr7eg58yqawZEMf813qUPve/KZrCNfI3EZHztlA36W\n",
       "YxBkdkKma0KJJeeJ5bYc222MV5QqZMWDrC0lSVswE4p7/GKxyHJ1soLGIBabRV2JBhvJ2ZeovRA2\n",
       "YbP3C8GZ5i2MoPHLA0W44h1lKYLCPD1Hq5AwpAkeYHhOHC4kAknZP/IKDTrlog8yiyjATJ5gGoLI\n",
       "Nt7TU7i1BZdQqOAyn5+l6Imlo+ItOU6HQbb/EK8txW8YHr4XiWV9p18sQJqIxOijh+AOtmmvb3SG\n",
       "m4ZN6ogHm6T5eGSgZJ/lsvGLdQDGHKV2KMwTHgXFGEMad3z5AAM1Iem84eHhPBqzjHjPMXZAvd/o\n",
       "g8wiCjCTshiCy7KvuHD6a+EZwgWXibRpBHxbFOii2AuwBwZsejTftkdoy5KcLYmFdjGA99ew/aVI\n",
       "CRUL6UzphbDJMm88AosrbKMoGr8kJ6BsjyktHYF7T+u94il82kP9RIShI4f9UgEGatK7cBbAr2nL\n",
       "AiPekNr+VL3f6IPMIgow82cxBJc59+P3fTw0Q8jgMpG8hUTWzmRhPV5Rmg5zEvRox0zqqzsXyO4b\n",
       "WSy4h9pPqnI96QO6kZRX4RNnhPxCH9TkAsCQdQic7YDFgswHXNiAnkRXSZgLePZQujQLI4+UIFti\n",
       "DM7fAPA6zCqfPTeZPZQB6idEYnmKz7/ULQrHIMgsqgAzaBpc1olj0HzbIpsxhAwu87W7eb9YEu/C\n",
       "YD6Zg+vh5g/o0YcFWIa+tP16mW5ikcRyWQ4eOljCVTmYTzwDzuU/w65ddGI/D4Nl+3n7WWaChhno\n",
       "+LzDo5fmiVgG8/Glo4/fC8RxzM0F3FVZCxfhLM78LR8AUAZ4qG+vS5zH6AK1L3OTjsoteJ0VO+Xe\n",
       "e/q3/PbUxiH6ILPIAsygaXAZcWjZxbAMoYPLeCKbVKWdcnn1yHl6eJVEpr5wb/hybc76i4h5Fnlx\n",
       "TLohzyLl1jSMkIFZUC2ILCpDDFSGDOxGXej64WH5y31VHUFFHmQWWYBZ0+Ay6wiprUpYhtDBZTwR\n",
       "/75fLEk3eKQoUxHLipfz3LazfsSf0dsXtKUsju2PHhMWS+tVHeMDqL+ZXuZZAgxiv9FVPMcs3asx\n",
       "V7mH6IPMIgswaxpcllJ2ejVj0AWXNU4vqmKJa44aiyVgK0789Vdobq4yGrMUtCa6IZkyIYg+yCyy\n",
       "ALOmwWUZNrQNyxA6uEz4wFSxhHD6TgWZUVwbZBZZgFnT4LI0mfY7oRlCB5fx97XNg8wSYxqxRBpk\n",
       "FlmAWdPgssw+6uMIyxA6uEx2obevWJIHNN1QpEFmkQWYNQ0uox6WkdAMuuCyxg7cWnuLhUY9iBR9\n",
       "kFlkAWZNg8vIkCLlhmYIH1wmzRbaWCzKdCj6ILPIAsyaB5eheXwS7wJTGOTgskAsWojgMpZoNOvJ\n",
       "82fCog8yiyzArHlwmXNpD1lkVRjk4LJgLFrz4DLWpbf9nwmLK9ufog8ym9zSeYCZJpnihVpkaB5c\n",
       "xrrwXLuLBW6UT6MPMpvc0nmAWXixtMgQIriMpsVu24tlUH7Log8ym9zSeYCZppYNwWUtMoQILqNp\n",
       "G7S9WLLyvUUfZHZipq6mPdfJ8OfY1X/0sHxKGLr0flOLn8D/JJbzT6h/TtWZn5LCJCSbbqVzHt7Y\n",
       "mlim/jnVSZjW0gYC/3Oq/wJbxpCaIArA3wAAAABJRU5ErkJggg==\n",
       "\" style=\"display:inline;vertical-align:middle;\" /></a><br>(see <a class=\"ProveItLink\" href=\"../../../__pv_it/theorems/98b911b6f4f6d4a2a6f57a2a9947e880e55e3bac0/dependencies.ipynb\">dependencies</a>)<br>"
      ],
      "text/plain": [
       "<IPython.core.display.HTML object>"
      ]
     },
     "metadata": {},
     "output_type": "display_data"
    }
   ],
   "source": [
    "%proving disassociation"
   ]
  },
  {
   "cell_type": "code",
   "execution_count": null,
   "metadata": {},
   "outputs": [],
   "source": []
  }
 ],
 "metadata": {
  "kernelspec": {
   "display_name": "Python 3",
   "language": "python",
   "name": "python3"
  }
 },
 "nbformat": 4,
 "nbformat_minor": 0
}