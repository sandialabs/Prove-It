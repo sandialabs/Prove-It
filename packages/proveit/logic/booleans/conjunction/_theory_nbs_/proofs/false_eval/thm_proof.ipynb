{
 "cells": [
  {
   "cell_type": "markdown",
   "metadata": {},
   "source": [
    "Proof of <a class=\"ProveItLink\" href=\"../../../../../../_theory_nbs_/theory.ipynb\">proveit</a>.<a class=\"ProveItLink\" href=\"../../../../../_theory_nbs_/theory.ipynb\">logic</a>.<a class=\"ProveItLink\" href=\"../../../../_theory_nbs_/theory.ipynb\">booleans</a>.<a class=\"ProveItLink\" href=\"../../theory.ipynb\">conjunction</a>.<a class=\"ProveItLink\" href=\"../../theorems.ipynb#false_eval\">false_eval</a> theorem\n",
    "========"
   ]
  },
  {
   "cell_type": "code",
   "execution_count": 1,
   "metadata": {},
   "outputs": [],
   "source": [
    "import proveit\n",
    "theory = proveit.Theory() # the theorem's theory"
   ]
  },
  {
   "cell_type": "code",
   "execution_count": 2,
   "metadata": {},
   "outputs": [
    {
     "data": {
      "text/html": [
       "With these <a href=\"allowed_presumptions.txt\">allowed</a>/<a href=\"disallowed_presumptions.txt\">disallowed</a> theorem/theory presumptions (e.g., to avoid circular dependencies), we begin our proof of<br><strong id=\"false_eval\">false_eval:</strong> <a class=\"ProveItLink\" href=\"../../../__pv_it/theorems/c0e0e83f931e2bc46550a58c7f7d08146897250a0/expr.ipynb\"><img src=\"data:image/png;base64,iVBORw0KGgoAAAANSUhEUgAAAyAAAAAXBAMAAAAByTbTAAAAMFBMVEX///8AAAAAAAAAAAAAAAAA\n",
       "AAAAAAAAAAAAAAAAAAAAAAAAAAAAAAAAAAAAAAAAAAAv3aB7AAAAD3RSTlMAq1RmmUTNIjK7EInv\n",
       "3XZ/CtNrAAAACXBIWXMAAA7EAAAOxAGVKw4bAAAHxUlEQVRo3u1ZfYhUVRQ/OzM77+2bnecsGVSQ\n",
       "TmWxobtOpJIVMeoa1WpO+o+owYaEZMGOEMamuJP4h9G2rpXoROFUEolfo7GVK+pWiqKpU6mIODim\n",
       "KWtqVuSaYdP9fO/eN++6b9BFEA/c4b5zfu/cd8/v3nM/BsCLnD8CN0s0Vm4V0a5p8RrozpvXgV9Y\n",
       "QR/cpOhIU3ke595UQioL17R0QgTXH+iTEE+wfhBflhYkwYvuEJVeJc1Ky5RS1fqlNbF5pWqjp+YO\n",
       "Leu9TcHNSTcuYtzSCeNxdVafhHiC9YN8zgqS4WLgQ1GrqtJLssmmuKg01ZfozP0ZGPJzqfdzZ8E3\n",
       "MebiQhILLroJZlyGXYFbOuEtPOk7+iTEE6wfZBwrSMb0Cvp1dp5S6aURfdiqBgYnVaZ6p874OIVe\n",
       "6C3xvhqn+klJFxeScLjkxh9XEYItnYQW1bASCPEE6wfpZgW1Pu+yoD95pzUMFXpJzEcSvPr19pTK\n",
       "VO/UBffgfNJd4v01PMpnuLmQhMNlN3tUhGBLJ/jRxAv2vah7gvXDEtJEC5IF5p+CIfc2r6n0koR1\n",
       "Pru1wu9RhckmhOu2Y6ged3oPkRYXubmQhH+M7GamkpCZZPu0L5/f62GX5QV24yWQpQVJ3PeXuNYH\n",
       "ecJQ6SUZaq1/ARgeU5hsQphOu0oSTsrpvTWHf79wcyFvSCjc4WajkpCNJNLPAHzogRAvsBsvwRgt\n",
       "aMZH9X8FfdLHBpxKL8ssGMJqk2FJVmGyCWG60H+Or2HetxdU3l3hDjejyLjIE4lIhIwikZ4DWsQD\n",
       "IRZM3CQY7vDMDSMkHKUFj2ztD1uP9hhH+Yh310uiRyDMPioOrRGFySKE68K9shvu/XhS5d0V7nAz\n",
       "TDlDhpFIV2VC7kuSdrATnoxwQjjM2C1A1qZctzS7pccTjV1d1vI3cMsal28XIQAPfTVxLKtWJ2gB\n",
       "6GkY8w9yPYrq7wK4QGtUv2bjPQ69JBUpMGmfzQ8aBne4m2xCuK76Ih11zlYP0GFnbKnJOF2IwuHc\n",
       "DZMlSkKWkEj7Cm6Ldfvdy+C+UCaQ4YRwWEhcQre77rskCLwYhSq+waj8CeCj0hcEiH4inTBD2v0p\n",
       "ByEG+mSUitvPU8rROr+O1qg+DhNlfclpxsjRExrAgJy7ySaE68IkkrUlrR4nQUwFIJBzuhDHJYdz\n",
       "N0xmKAmZQe9Emp5yWUyfwQfzQjxkX50w2NT9wgGzzfUeQISAD+3lrLw+DPFbmm5FSANiwgxBV9SR\n",
       "sgKoHEOlzjpxBVgmI/q/oTUl6UvPfmNZxoJwt7vJJoTr6NEhW9IqOYGEYEBCu+x04TgWErjlhkqd\n",
       "cg2po5HeNBudSca1nzBH4z6h2il2vq99cIFACIYhKbwkbOGDrquPCIFW9Ek6i5GGp87CErwAMfEC\n",
       "jmbIEyyvVRVoIbcazRYhYesKi+kfp4SEFVdbOX6Fhe8ogheF7tomgRCu0/BqHMqUtNqKv6gL/BlK\n",
       "SM79gsyCczcjHruAh91o5QwZTSM9H0X1sxmx6oiJw4trSYOk2drQp9NtQuaT4JvwtBD5gNu5WILA\n",
       "vWK+zrkuVgJkNXEQmMBXoVCEFg2P6pVJHhoyWVeAoIetkn4D+jDjErAfP+5vFY7/fFzpFbprm2xC\n",
       "bB3aIVd2QUmreKM9HQ+ZUE6E2w3i5m04c2OM/B52oadGJSGNNNJoTYI3T8OAFNnw41qGXnbVQrzH\n",
       "JqSCfPVUOAfQQsdvZcrshsmnnFsCArFkB50bZMtcTfJSZf14+YUdjus9M6Q/z5zqOVKMlZcy8HDx\n",
       "VR4asoK3g6DXj4p6COOWDgL7qcDfq6NOry7OBt/KS1m7u5YJJubzP+TzP0o649ma8VaWsb3DqqUD\n",
       "yQe+m5HgVoOkeRtO3Wjrm+AKejrkXB7y+WP7SPY6JNyrD4I2tr8chNYW/yvp9HuIkDVB5/V745bB\n",
       "Gb2OEhLYsvEKdBvOy1YMsZ/weuKDhSRe1firo9WwQX6BQuhOPJ1OR9EakuUZ9wgrUgJ2kZbyttp2\n",
       "dz2JolWtvJNZRQFfn2g5lR1brEjvhh5o1WmtQdezdIZU1jsIMQEna7brLgDKoUm925mxEMQ/9tHx\n",
       "Q8mUqkHlDNuQV6BRYCY1FAxJKGTElKEA79AZAlm+WxjBSl+hiWvJcmJjd/d6CHkd3iin0epUIJ6C\n",
       "QEx5LRGzI61dRINmdADW4NqRWnooH4kOCA5CUEoZEMWEGFmyQKJVuiqB3kKP7IdCfD2w05fFmrUJ\n",
       "MBOEEATYCfAr8rJMwFuQ+o4wPu1QQr7hhFQlaekjNC2LF5UzRXh3r48QbcXi58ohpBXCC1PQorS3\n",
       "CJGujKDz/5yz0BZFtd9i0IJGt344CRUyIYFvwZj0MiZE/w4mRGDVpQS+U2mL6rugLYl/ogyywmhC\n",
       "Wz6EMhq2nQVCSFsUVjVeQHELpLCB4pMWpCI1F/cRHwxPb37f2sx30MJkXvM2174cKBbLCQ3vrkdR\n",
       "tFpdLJb139gLYH4JsFxpXw4u/82yvGpsTi8TtFvlv3pxyvLxfVCmYL1lvw85Xzbst1EkZXFblykY\n",
       "rFoYTk5D0yidljcJC1i5VcRMXstyfqdz6HiZ+Po5dBSaxh6aiznhLV4zImai4oyNat8btWzB4lXb\n",
       "YNc+gaExuC0O8XtGxlzf8ntCSYbbLEjyP3geeOY7JTyDAAAAAElFTkSuQmCC\n",
       "\" style=\"display:inline;vertical-align:middle;\" /></a><br>(see <a class=\"ProveItLink\" href=\"../../../__pv_it/theorems/4ea6ddc6b46f20d4ff5877be4b8e785548efb8e80/dependencies.ipynb\">dependencies</a>)<br>"
      ],
      "text/plain": [
       "<IPython.core.display.HTML object>"
      ]
     },
     "metadata": {},
     "output_type": "display_data"
    },
    {
     "name": "stdout",
     "output_type": "stream",
     "text": [
      "false_eval may now be readily provable (assuming required theorems are usable).  Simply execute \"%qed\".\n"
     ]
    }
   ],
   "source": [
    "%proving false_eval"
   ]
  },
  {
   "cell_type": "code",
   "execution_count": null,
   "metadata": {},
   "outputs": [],
   "source": []
  }
 ],
 "metadata": {
  "kernelspec": {
   "display_name": "Python 3",
   "language": "python",
   "name": "python3"
  }
 },
 "nbformat": 4,
 "nbformat_minor": 0
}