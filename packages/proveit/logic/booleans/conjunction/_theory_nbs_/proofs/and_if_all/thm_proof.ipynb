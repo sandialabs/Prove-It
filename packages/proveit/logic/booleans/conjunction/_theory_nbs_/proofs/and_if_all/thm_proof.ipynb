{
 "cells": [
  {
   "cell_type": "markdown",
   "metadata": {},
   "source": [
    "Proof of <a class=\"ProveItLink\" href=\"../../../../../../_theory_nbs_/theory.ipynb\">proveit</a>.<a class=\"ProveItLink\" href=\"../../../../../_theory_nbs_/theory.ipynb\">logic</a>.<a class=\"ProveItLink\" href=\"../../../../_theory_nbs_/theory.ipynb\">booleans</a>.<a class=\"ProveItLink\" href=\"../../theory.ipynb\">conjunction</a>.<a class=\"ProveItLink\" href=\"../../theorems.ipynb#and_if_all\">and_if_all</a> theorem\n",
    "========"
   ]
  },
  {
   "cell_type": "code",
   "execution_count": 1,
   "metadata": {},
   "outputs": [],
   "source": [
    "import proveit\n",
    "theory = proveit.Theory() # the theorem's theory"
   ]
  },
  {
   "cell_type": "code",
   "execution_count": 2,
   "metadata": {},
   "outputs": [
    {
     "data": {
      "text/html": [
       "With these <a href=\"allowed_presumptions.txt\">allowed</a>/<a href=\"disallowed_presumptions.txt\">disallowed</a> theorem/theory presumptions (e.g., to avoid circular dependencies), we begin our proof of<br><strong id=\"and_if_all\">and_if_all:</strong> <a class=\"ProveItLink\" href=\"../../../__pv_it/theorems/6971ee196a845829b87753d61a094b77a1280c7a0/expr.ipynb\"><img src=\"data:image/png;base64,iVBORw0KGgoAAAANSUhEUgAAAfQAAAAZBAMAAAA1VcFRAAAAMFBMVEX///8AAAAAAAAAAAAAAAAA\n",
       "AAAAAAAAAAAAAAAAAAAAAAAAAAAAAAAAAAAAAAAAAAAv3aB7AAAAD3RSTlMAq1RmmUTNIjK7EInv\n",
       "3XZ/CtNrAAAACXBIWXMAAA7EAAAOxAGVKw4bAAAE6UlEQVRYw92YX2gcRRzHf9nbu93s5TbrgyCC\n",
       "yUFRkFh70FjMS7nWVKQRXOODRfpwUqRQkV5BKtVoVp8U0/YehOb6YFYUIcTWax9UmodeLMWiKEep\n",
       "L+LBhvqHSImnQhotcs6fnZ2Zu9vbTeUg9Ae3O/ud3+ztZ2fmN78dgAi7r16EO9DM+tVInwLcobZ9\n",
       "M6P3arhpmx7dzJLT0ZDqoxvk5SBJj6Jb+LSlG3qUR69shJ4Oh1Qf3tjdUg1evk7R9+DTwW7oUR49\n",
       "MoN2k9IUtHQ2KIbpkgn6NgE95RL0N/FgKHVDj/Lokak5ehoWpvwZPmrDdMkEfddNLifyBB2/gbCX\n",
       "RtGjPHpkA/T0+UVHGKl3B8UwXTKup19bF/SvCXoCvdxU1zAX5dEje4BGJ+934a3X3gmiVoguG9ff\n",
       "MP8U9AM0wn9br3/TPcJHePTIJui4hm05Pr8rKTbKw3TJBD2v/CVUnKPoTwCc7o4eeLhiFAoJTtJV\n",
       "nhVitHRbrg+Q4yScrPDwVFTYHcN0OaoHejKr3xIqdlD0I6BZcovXJ+zEkoDOPIwrgtMnTkcAWWbB\n",
       "MUZLyQXbVf/lTaP//pCGKxRwfwheKtKNxbvcFl0yrqug/SFUPETR+920zUV9uWwr1gXYK6Azj7Q4\n",
       "XS52DnyyzNBjtJRcsF0mac1748Ml0FdrRLoHYNVPd4iuglqTddm4vjK+62+h4iRFVzwxho2jLlF2\n",
       "qlAR0JnHvu+4X3LG6/RnLTJDj9FSdOHoZwEGEZ1SYyv9GVpJ9UFbW5f1tsyA6gb6y3+Fmv1+IlvY\n",
       "iVa6x04sm2MOmDh2KG8964noxAOZ97yQZaasjsmnLDP0GC1FFz7g0VTNVBk6XmHVLHA94RJ0QW9L\n",
       "aKiuot+PAKOPrlrXZ1F5q49+/hCaTPtzA5ZpwTwJjM6F+yV07IGeGR4XnlTtmEW0yD56jJaSC7H3\n",
       "8QjJ0QyUomeCVJzpkK5Jumxcf4YkvsYjl2AJllF5zEefQr3w6i8w6KgV4oPQVbMkok+RftoHNwCO\n",
       "0UCcdMwqTP5kt453LLejx2hJXCTDC9AU+vXfZOhk7OFOC3Q47oq6sYYOnxb8Atc1/FBzRe1sAdbJ\n",
       "ojnho/fhiDsEM5DJwo5yuZxVHKNSENGJB0wsDrv6VgqgLp77B6pGozX5xHI7eoyW2EVWjgPMNw+B\n",
       "MrdW8dHvxYcTIOjaaUmHa7iv834h0I25NRcebL4IfZ5eJRPpe/Gj9QqswLQO79Jeh0mv7aPVBJh2\n",
       "IEMf0AM0y4p6tXW8Y3l0y+jkFyJ6jJbEJbF7+56RYOXLCGsgRW+3l+GVDeXGjlnSGg5oNQFda6B+\n",
       "H1PROoazextMqw0dzYXBLAYwKmSuocWo38YXC8GByg+XBuwRET2q5YLvoqzAZaUifWN0R9dm3967\n",
       "EfRp1O+JUp5+GTH0pIU+S4/8hm6Ghxr6Qm1DV5fAeOoFDKB/CU9a8NGajdM8dDFT1L/CByb3Ox/D\n",
       "bgE9suVM1neZNQpCpD7FET+71XFBHGg2GxtBfxrld9qQC8c67tIslMt2t10aPGwVtni4Hr/gpQyM\n",
       "QC0nLW4RLRluTalkEoE637PPg1O3s0Gl3zgP8BzbJ2nW+AUvfQA/w1CxFb1Ly6Qf4AzLtPt+5X3t\n",
       "9Wrnq3jbe3O5zhe5ds9SrJaJTboj+9L/2YffvFv4Zv3Sf5h/i3ntpeWLAAAAAElFTkSuQmCC\n",
       "\" style=\"display:inline;vertical-align:middle;\" /></a><br>(see <a class=\"ProveItLink\" href=\"../../../__pv_it/theorems/a95ccdcf0117cdaee6b80cb133c4d57af0dc78b40/dependencies.ipynb\">dependencies</a>)<br>"
      ],
      "text/plain": [
       "<IPython.core.display.HTML object>"
      ]
     },
     "metadata": {},
     "output_type": "display_data"
    },
    {
     "name": "stdout",
     "output_type": "stream",
     "text": [
      "and_if_all may now be readily provable (assuming required theorems are usable).  Simply execute \"%qed\".\n"
     ]
    }
   ],
   "source": [
    "%proving and_if_all"
   ]
  },
  {
   "cell_type": "code",
   "execution_count": null,
   "metadata": {},
   "outputs": [],
   "source": []
  }
 ],
 "metadata": {
  "kernelspec": {
   "display_name": "Python 3",
   "language": "python",
   "name": "python3"
  }
 },
 "nbformat": 4,
 "nbformat_minor": 0
}