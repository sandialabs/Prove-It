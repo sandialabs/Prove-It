{
 "cells": [
  {
   "cell_type": "markdown",
   "metadata": {},
   "source": [
    "Proof of <a class=\"ProveItLink\" href=\"../../../../../../_theory_nbs_/theory.ipynb\">proveit</a>.<a class=\"ProveItLink\" href=\"../../../../../_theory_nbs_/theory.ipynb\">logic</a>.<a class=\"ProveItLink\" href=\"../../../../_theory_nbs_/theory.ipynb\">booleans</a>.<a class=\"ProveItLink\" href=\"../../theory.ipynb\">conjunction</a>.<a class=\"ProveItLink\" href=\"../../theorems.ipynb#redundant_conjunction_general\">redundant_conjunction_general</a> theorem\n",
    "========"
   ]
  },
  {
   "cell_type": "code",
   "execution_count": 1,
   "metadata": {},
   "outputs": [],
   "source": [
    "import proveit\n",
    "theory = proveit.Theory() # the theorem's theory"
   ]
  },
  {
   "cell_type": "code",
   "execution_count": 2,
   "metadata": {},
   "outputs": [
    {
     "data": {
      "text/html": [
       "With these <a href=\"allowed_presumptions.txt\">allowed</a>/<a href=\"disallowed_presumptions.txt\">disallowed</a> theorem/theory presumptions (e.g., to avoid circular dependencies), we begin our proof of<br><strong id=\"redundant_conjunction_general\">redundant_conjunction_general:</strong> <a class=\"ProveItLink\" href=\"../../../__pv_it/theorems/f95b4702e801d9c04f9c78a0c8f6f8b100ac1add0/expr.ipynb\"><img src=\"data:image/png;base64,iVBORw0KGgoAAAANSUhEUgAAAeYAAAAZBAMAAAAWDpCEAAAAMFBMVEX///8AAAAAAAAAAAAAAAAA\n",
       "AAAAAAAAAAAAAAAAAAAAAAAAAAAAAAAAAAAAAAAAAAAv3aB7AAAAD3RSTlMAq1RmmUTNIjK7EInv\n",
       "3XZ/CtNrAAAACXBIWXMAAA7EAAAOxAGVKw4bAAAFzklEQVRYw91Yb2gcRRR/2du73ezeba6oWEWb\n",
       "AyU1FM3JRcUv9VpTsWo11C+xoiRIKY2UbhGE2l576qdCaA+16LVgtiL+w6YxVKQttFf9ovjvKKJB\n",
       "e/RqA6WitUaS1ojGeTM7uzu7l7s9gkU7bLI3O+/Nm997b37zdgEatRsrJlxBzaicaCzUD1dYy1w2\n",
       "zMq/pxE+D83Li/lHhqPGbM/W1QjRngznwn5bMgNJvN1UF3ML3qT0vCBLo/QWuxAc2lhHQ93jezrh\n",
       "A9KzPg9GqKWhaSqZgRXYX1cXs9yLKvNjsrfYrcvGrKdcbLP2j7EaGoY/L34Qu5tBnwIYnNOsxw41\n",
       "PUgxP4/eKtTFrCbp7PNq97Lbsovsvt/FIrczb2rf1tSo364F+AKge85xjx1quptijlmCN2ru58Fg\n",
       "FJptJeb2LZdY98w1zshHx/LsELm9t4ZGg/a1BcRlcWuucdcOM42SGYiQFI814LDMvKlMYurbjEnW\n",
       "L+9wdmT1V+bxhFqoodGoeABoz0OMbugWM5ixrh1mGiUJmi8rlc8bYI5XKidH54VZZupZ6Xebnxx6\n",
       "kKGLUdASkVWoxshpcRptIkhXp0gMKREr4wC5vI8HHTvMNEoSzPcDEHLU2Fi+JmY5D600fTRbn4+x\n",
       "nHrbkV1MmNarW3VIk641mlL/ZF1T4nOshl3MH+vgZoFmUSMbFzHq0UDGq38DRFhO5PIIW5jEsWOb\n",
       "jrCs3QQKAa+z5dk6N+xdedCDmQhsor/fZz7hCaR9Sm9H6f9OEyJkRya427Q7MYh2S6RYTJXfaJcQ\n",
       "5/fc/7CdRokQZcK7LVHDMNtEpnlBDmR8gmhLzBPKuC/MHju2aZQkmFstXSCPndfthu/g8E/emmQP\n",
       "fEh/H0sJmPVJV62TOG0fgJsIO38h3uU7Ik5NnOtZ9gftLgQ4b5e/r/S00+layDlb9SwDNTToQjdo\n",
       "GyrYCB4rXhX6pK1Ef9knYM4XZo8d2zRKEsxSVaAwmeQ6pNXFaS/m2xiFRYeqAua+rxy1u1F+Be9R\n",
       "gVvBPTkpZo1o/0VTgMy2nw2MALSV7eNYK/swA6zygejyM3QEk4RnvB+za4ebjpZsRl5Kfp9mFJGC\n",
       "Mwy5LNSesQgFa8SSAubqAC39yMNzNAHImkeWC5jHvLmNc57klYKc4hmRKPGKZLkvtwMlCAxovgdL\n",
       "QDFBKtfObdcON42SiHmMBGOkDR0oS/0aw3PXLQJmvYP6t2pvJxuzAfdRF87AUIpXtNkOATOnpVb0\n",
       "2aO80Ew4lXc0zevRsq/yphrKlC9wU7qPwUbBsCBSqM1hrh1uGiUR81YSp+dwgfCeno2mWSqMCpiV\n",
       "43SBeaPkxdwHP+PYG2WQ9qJPogXQrIMC5se4x4kNBZWH8XxYio9ew39bER0WSDSRWkmYtGm87PMn\n",
       "4ivP1QvPiA9yPT2r+EnonlUH+vHy2HFMo2SGsQfA6/YBEVlfLL4Eum5plve9aiFNkCMfzHgxP3ik\n",
       "3bIjEkXQEi7zKZCLxc+KLzPMvCRQy6ANT1vQOfs06V1PuZL8vTs7CNLwNFlIC86kIvBv6IUa5Km/\n",
       "KL7Kdz6fmp0lDkr02ixoRzWRxcu145pGSf4uqc1QB7WZKnXZ6hdBtwLvklVQLnkwGwDbUevAO7jE\n",
       "q02ghdTFmrkN402XMagRr4YSzYWeNOd5f5b6sxpBO0TrE4DRLDwReH/GtJ/0YCZ7pC1FtDoo3ykL\n",
       "LNyTaknAfJ4rdzeNuRtaUvdYzbzAhJR04rzIVD8GIOy9mYQusmDRoYEA5oeS8OZ0rwNJPg7aI2uJ\n",
       "1r6z/LPGqyT4SS6wZeNR+sSmpKZfRVvNXakToSTrvhYGJb3fSSTcjKAdKu5u9J2kIGo57XFeZDqF\n",
       "miOpFZrFrBXkid6Q3gnvRx/mNbG+UrhvQ971r/HWM+baIaEgl93VbGs6uUNrnIWmJL2Y0/KE1Txm\n",
       "GtcdRdIIvsMPPyAI3vE//e65Ifh9e85c8ldJ1n8PsVH55B+WcYLKZeBMhwAAAABJRU5ErkJggg==\n",
       "\" style=\"display:inline;vertical-align:middle;\" /></a><br>(see <a class=\"ProveItLink\" href=\"../../../__pv_it/theorems/b087913120219811b5ed728b3f1811c77b3bffaf0/dependencies.ipynb\">dependencies</a>)<br>"
      ],
      "text/plain": [
       "<IPython.core.display.HTML object>"
      ]
     },
     "metadata": {},
     "output_type": "display_data"
    },
    {
     "name": "stdout",
     "output_type": "stream",
     "text": [
      "redundant_conjunction_general may now be readily provable (assuming required theorems are usable).  Simply execute \"%qed\".\n"
     ]
    }
   ],
   "source": [
    "%proving redundant_conjunction_general"
   ]
  },
  {
   "cell_type": "code",
   "execution_count": null,
   "metadata": {},
   "outputs": [],
   "source": []
  }
 ],
 "metadata": {
  "kernelspec": {
   "display_name": "Python 3",
   "language": "python",
   "name": "python3"
  }
 },
 "nbformat": 4,
 "nbformat_minor": 0
}