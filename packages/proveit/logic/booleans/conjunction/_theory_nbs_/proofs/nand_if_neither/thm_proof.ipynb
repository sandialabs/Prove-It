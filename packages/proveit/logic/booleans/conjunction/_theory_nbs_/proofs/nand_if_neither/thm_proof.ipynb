{
 "cells": [
  {
   "cell_type": "markdown",
   "metadata": {},
   "source": [
    "Proof of <a class=\"ProveItLink\" href=\"../../../../../../_theory_nbs_/theory.ipynb\">proveit</a>.<a class=\"ProveItLink\" href=\"../../../../../_theory_nbs_/theory.ipynb\">logic</a>.<a class=\"ProveItLink\" href=\"../../../../_theory_nbs_/theory.ipynb\">booleans</a>.<a class=\"ProveItLink\" href=\"../../theory.ipynb\">conjunction</a>.<a class=\"ProveItLink\" href=\"../../theorems.ipynb#nand_if_neither\">nand_if_neither</a> theorem\n",
    "========"
   ]
  },
  {
   "cell_type": "code",
   "execution_count": 1,
   "metadata": {},
   "outputs": [],
   "source": [
    "import proveit\n",
    "from proveit import A, B\n",
    "from proveit import defaults\n",
    "from proveit.logic.booleans.conjunction import false_and_false_negated\n",
    "theory = proveit.Theory() # the theorem's theory"
   ]
  },
  {
   "cell_type": "code",
   "execution_count": 2,
   "metadata": {},
   "outputs": [
    {
     "data": {
      "text/html": [
       "With these <a href=\"allowed_presumptions.txt\">allowed</a>/<a href=\"disallowed_presumptions.txt\">disallowed</a> theorem/theory presumptions (e.g., to avoid circular dependencies), we begin our proof of<br><strong id=\"nand_if_neither\">nand_if_neither:</strong> <a class=\"ProveItLink\" href=\"../../../__pv_it/theorems/388e56c0842e03ce2b9dbd3a3e46de7b7610d2630/expr.ipynb\"><img src=\"data:image/png;base64,iVBORw0KGgoAAAANSUhEUgAAAOEAAAAXBAMAAAAPVjVNAAAAMFBMVEX///8AAAAAAAAAAAAAAAAA\n",
       "AAAAAAAAAAAAAAAAAAAAAAAAAAAAAAAAAAAAAAAAAAAv3aB7AAAAD3RSTlMAq1RmmUTNIjK7EInv\n",
       "3XZ/CtNrAAAACXBIWXMAAA7EAAAOxAGVKw4bAAAC70lEQVRIx7VVTWgTQRh92STdZNPEBErxIgko\n",
       "Xjy4YhE81K6/WHqw6KUU0YqI2EvjxVMl8ehBWopQI9KuF6GHSi0FkRyMFbEiSqjirRDw4EVsq7Ut\n",
       "CtaZ+WbT3cymh5R+8Np58+3Om/neNxtgm5GtS/yezGLbkcio5Jb/o5ckkpzsbVjxgA8ZqHnm6EYq\n",
       "dSOPhAmB03zueqOCRp9KtA3Jp53EOyCwDvRD4A77pw83qhgyVRJKk1vGFzmv/wPCK0AbBJpsIJZp\n",
       "VLHZhzx/mSdXD3XTRJCdL8hUm22BINtYU8M27leJXlmkA8QjsnSBJSbxlsEkfFhYeN+wYpdKQjho\n",
       "yj6S7dE8DGMPO3csSTgLPBQJu8YiL7V9Fa+q5DyGpkDtuI/mh8Z+tPJNBPsIN6GLG2LMifTdlWKn\n",
       "8CHqbcq5zXFkvGvmAQ3n2c4WeFhEWFjIifUiScRpm4tZaK95E5cIUTsmHI79JJvLSJRURZmlaAe+\n",
       "0+iN045JhyTun0oL/wLsBlZE8hED76bIEkGrUOP0fCSbLQSXVEWZpWgBOuopPgV2lfngCSuMGGCZ\n",
       "oYOJh0sE9B0T85UrZHMGk6aqKLMUszA+Vau6qThPRUW85Nz/E6K8v9ifNKujViZgul9UA2fEu7mv\n",
       "bbuhKDpZeaMPH6crhzFnypIkzG+AqFHZ+cIm1pjqKjdsmIBBYXSPtKYdRotL8UWhUChXs8SY1Y8t\n",
       "Unrm3hYng/zNNb489zDKN9bEjnyRnyo0ReAW88tUTNvSo1y394zJzaxgzGr9N5F7bkVGJjb6oY2v\n",
       "smUD/PkIkw2ML6daR8QnoZvglA25PHmEy/laxWpWMGZ1eJ1IPO9S9BCfuC1BcYG1WMaYgv4Hxuca\n",
       "H61qVt43G5OyqkHLtaKH+MRJCfrAvIJx7lpkFkf+FjsztZ1TzdLCA8WZESc16l5ydEtB/gul/Epp\n",
       "rnFUeUXzWWaiLlEimiV4ondLxV6/jVfqESW+SXjC3FLRxM6GvkPr/geaKrl7sYxXlgAAAABJRU5E\n",
       "rkJggg==\n",
       "\" style=\"display:inline;vertical-align:middle;\" /></a><br>(see <a class=\"ProveItLink\" href=\"../../../__pv_it/theorems/c94c1465dc9e519d0e272080de7ba0efc8407c530/dependencies.ipynb\">dependencies</a>)<br>"
      ],
      "text/plain": [
       "<IPython.core.display.HTML object>"
      ]
     },
     "metadata": {},
     "output_type": "display_data"
    },
    {
     "name": "stdout",
     "output_type": "stream",
     "text": [
      "nand_if_neither may now be readily provable (assuming required theorems are usable).  Simply execute \"%qed\".\n"
     ]
    }
   ],
   "source": [
    "%proving nand_if_neither"
   ]
  },
  {
   "cell_type": "code",
   "execution_count": 3,
   "metadata": {},
   "outputs": [
    {
     "data": {
      "text/html": [
       "<strong id=\"defaults.assumptions\">defaults.assumptions:</strong> <a class=\"ProveItLink\" href=\"../../../__pv_it/theorems/e08a4ac88f1815e5594cfa40e1aca1f0ee499af30/expr.ipynb\"><img src=\"data:image/png;base64,iVBORw0KGgoAAAANSUhEUgAAAFEAAAAVBAMAAADMaB9/AAAAMFBMVEX///8AAAAAAAAAAAAAAAAA\n",
       "AAAAAAAAAAAAAAAAAAAAAAAAAAAAAAAAAAAAAAAAAAAv3aB7AAAAD3RSTlMAInZUiRDNmWbv3US7\n",
       "qzJazP2FAAAACXBIWXMAAA7EAAAOxAGVKw4bAAABbElEQVQoz42TvUvDUBTFT5N+pGm1nRQFaXSX\n",
       "dhDByfgHiKVzhS4FC4IZBMUpm2MzuehQcBA6FNE/wOriZjs5GdLZpa1DFz/ifZXU9/IK+uAGcvJ7\n",
       "51zeuwGQxd9rzCgFXpqbTt6wx5ogHYQQrfPpPj9BsYFYhf+g+mG3ZBvweqgCCZvXE16465wB3Fk4\n",
       "pT2CvrXTC5F1EuoGkkWs83LEyBdCpEdVyyJu41AIx6YdIi+A3RYQ7WKPl2/RN0Vw9mNllSFaBZfk\n",
       "1GTLoncLue4PccKkKzrtIbBBOaqD86BFQpTHI6/NGS4BaYeSv8h7IJAlINMQyQzJ2huQclj6hKQG\n",
       "dEck+5Q8807pDTwEpIUUqfEBUAzIeSBPN9Gna9Ta2P61WKBKDxEbcbY1Cj6jrQkTrxOx7FehdkYm\n",
       "mhNTvPiuu88uQ7+G3pNGTC3KY7dIDViSGp0yoMdU95JaksEIO+ayJBsymc6O5+cf/9Ey8A2H61OR\n",
       "mKAYzgAAAABJRU5ErkJggg==\n",
       "\" style=\"display:inline;vertical-align:middle;\" /></a><br>"
      ],
      "text/plain": [
       "<IPython.core.display.HTML object>"
      ]
     },
     "metadata": {},
     "output_type": "display_data"
    }
   ],
   "source": [
    "defaults.assumptions = nand_if_neither.all_conditions()"
   ]
  },
  {
   "cell_type": "code",
   "execution_count": 4,
   "metadata": {},
   "outputs": [
    {
     "data": {
      "text/html": [
       "<strong id=\"AeqF\">AeqF:</strong> <span style=\"font-size:20px;\"><a class=\"ProveItLink\" href=\"../../../../__pv_it/theorems/c6244e76de3be0816f3efc36199d65e50f6589940/expr.ipynb\"><img src=\"data:image/png;base64,iVBORw0KGgoAAAANSUhEUgAAABwAAAAPBAMAAAAFYbKSAAAAMFBMVEX///8AAAAAAAAAAAAAAAAA\n",
       "AAAAAAAAAAAAAAAAAAAAAAAAAAAAAAAAAAAAAAAAAAAv3aB7AAAAD3RSTlMAmd0iq81UiTJ2ZkS7\n",
       "EO8Z3gX6AAAACXBIWXMAAA7EAAAOxAGVKw4bAAAAaUlEQVQI12NgQADmAAZkwPoBhZuPyhX5jMxj\n",
       "N/+BzLXk/IbMFWD7hcTjTuD4zsAgpAQEikAuIwPzF6iMCRDPERT5g+DyTmBg+ITgMgIpPSjXkIFh\n",
       "F5CKRzj/AZA4bwDl8Z7/eoEh5384AEaRFfDwb8v9AAAAAElFTkSuQmCC\n",
       "\" style=\"display:inline;vertical-align:middle;\" /></a> <a class=\"ProveItLink\" href=\"../../../__pv_it/_proof_nand_if_neither/01c2c182e2e0323e34a38ba6251b5d997082139d0/proof.ipynb\" style=\"text-decoration: none\">&nbsp;&#x22A2;&nbsp;&nbsp;</a><a class=\"ProveItLink\" href=\"../../../../__pv_it/theorems/df6506bd32d9f7c53b00f834a4c61833f27224860/expr.ipynb\"><img src=\"data:image/png;base64,iVBORw0KGgoAAAANSUhEUgAAADoAAAAPBAMAAABHIsEFAAAAMFBMVEX///8AAAAAAAAAAAAAAAAA\n",
       "AAAAAAAAAAAAAAAAAAAAAAAAAAAAAAAAAAAAAAAAAAAv3aB7AAAAD3RSTlMAIs1UmauJMnZmRLsQ\n",
       "3e++988cAAAACXBIWXMAAA7EAAAOxAGVKw4bAAAAeklEQVQY02NgAAEhBnxAH4vYShiD+T8WWQsY\n",
       "gyVeAI9sYn4BblnGhn4D3LIsDPYTcMsuZqhPANG+d0HgKpqsA4N8AE69HFtc4jfglD3BwMB/Aaes\n",
       "AwMD7wNc9nIB3cv0AZdeOSDm/ohD9vR/HQbm/Z8SUKWAlrwDWgIAg68mgSudtswAAAAASUVORK5C\n",
       "YII=\n",
       "\" style=\"display:inline;vertical-align:middle;\" /></a></span><br>"
      ],
      "text/plain": [
       "<IPython.core.display.HTML object>"
      ]
     },
     "metadata": {},
     "output_type": "display_data"
    }
   ],
   "source": [
    "AeqF = A.evaluation()"
   ]
  },
  {
   "cell_type": "code",
   "execution_count": 5,
   "metadata": {},
   "outputs": [
    {
     "data": {
      "text/html": [
       "<strong id=\"BeqF\">BeqF:</strong> <span style=\"font-size:20px;\"><a class=\"ProveItLink\" href=\"../../../__pv_it/theorems/8552c6321b312c5e15a5015adce4a756ce05da420/expr.ipynb\"><img src=\"data:image/png;base64,iVBORw0KGgoAAAANSUhEUgAAAB0AAAAOBAMAAAAh/woJAAAAMFBMVEX///8AAAAAAAAAAAAAAAAA\n",
       "AAAAAAAAAAAAAAAAAAAAAAAAAAAAAAAAAAAAAAAAAAAv3aB7AAAAD3RSTlMAmd0iq2a7zTLvdkQQ\n",
       "VIm/XloVAAAACXBIWXMAAA7EAAAOxAGVKw4bAAAAgUlEQVQI12NggALW/C8u7hkMCMCZwMDg34Dg\n",
       "2y9gYNgvgODHA+XiFyD4/kBcaYDgT2NgOKKB4HJ8W7WkFEgLKQGBIgMD12cGhpsBUEkTBga2CQwM\n",
       "fD8QfH4HoJt+Ifj9QLUsv6F8QwaG9UCr+gsQ5lcyMHBPPwDnuv13cSm7wMAAAOyYG523RGm6AAAA\n",
       "AElFTkSuQmCC\n",
       "\" style=\"display:inline;vertical-align:middle;\" /></a> <a class=\"ProveItLink\" href=\"../../../__pv_it/_proof_nand_if_neither/463892b2e0e16de4510bd69719e45b900b8ca7e70/proof.ipynb\" style=\"text-decoration: none\">&nbsp;&#x22A2;&nbsp;&nbsp;</a><a class=\"ProveItLink\" href=\"../../../__pv_it/_proof_nand_if_neither/5eca0a01bc170fd2a23ec710f24c6e923730fa100/expr.ipynb\"><img src=\"data:image/png;base64,iVBORw0KGgoAAAANSUhEUgAAADwAAAAPBAMAAABKPLFCAAAAMFBMVEX///8AAAAAAAAAAAAAAAAA\n",
       "AAAAAAAAAAAAAAAAAAAAAAAAAAAAAAAAAAAAAAAAAAAv3aB7AAAAD3RSTlMAZrurzTLvInZEmRDd\n",
       "VIkafcLnAAAACXBIWXMAAA7EAAAOxAGVKw4bAAAAiElEQVQY02NgIASE/hsbOwVgik+E0kkMDMxf\n",
       "MaVvQCj2HwwMnL9wSjMCdTL+wCnN/IGBgSUdpzSbAgO3TQBO6XiNDhMBMGvNGRA4jCrdX8DAm8iA\n",
       "U7caEL/HbfhnIJZvwCXN+hFI2E/AZTfHd6CSLzjtZklgYJjmjUuaWf+zsYkuhhzQnjSgPQDuvzBu\n",
       "TmTVYAAAAABJRU5ErkJggg==\n",
       "\" style=\"display:inline;vertical-align:middle;\" /></a></span><br>"
      ],
      "text/plain": [
       "<IPython.core.display.HTML object>"
      ]
     },
     "metadata": {},
     "output_type": "display_data"
    }
   ],
   "source": [
    "BeqF = B.evaluation()"
   ]
  },
  {
   "cell_type": "code",
   "execution_count": 6,
   "metadata": {},
   "outputs": [
    {
     "data": {
      "text/html": [
       "<span style=\"font-size:20px;\"> <a class=\"ProveItLink\" href=\"../false_and_false_negated/thm_proof.ipynb\" style=\"text-decoration: none\">&nbsp;&#x22A2;&nbsp;&nbsp;</a><a class=\"ProveItLink\" href=\"../../../__pv_it/theorems/3f580260baf60f1bbe721c3c14c6323ee245a8e40/expr.ipynb\"><img src=\"data:image/png;base64,iVBORw0KGgoAAAANSUhEUgAAAFYAAAAVBAMAAAAutAQGAAAAMFBMVEX///8AAAAAAAAAAAAAAAAA\n",
       "AAAAAAAAAAAAAAAAAAAAAAAAAAAAAAAAAAAAAAAAAAAv3aB7AAAAD3RSTlMAmd0iq3ZUiRDNZu9E\n",
       "uzLWhN+VAAAACXBIWXMAAA7EAAAOxAGVKw4bAAABCElEQVQoz2NgQABmBjwATTIMn1qeAGQeWwGI\n",
       "PIVF2QIQGYUs1AkmU2Fc9gS4IWAjORuQ1Eqhqm2agKqWSwBJ7QZUtVE+qGoZdiA5dwKqWoW3aGpn\n",
       "IdQyFqCoZSvgNEBVW4JQy7kARS2nAZsAqtqVDEJKQKAIZDIloKh9wsCggao2G8IzAWLuAyhq/RgY\n",
       "QlHVvsellgPo0yZUtacRalHdAIoJxgQUtUkQniEQ8wYgq2UCJZcJKGrXIsKB3QFZ7VIQcQ9FrThC\n",
       "LZ8CAyhQdispqQB5HiChp6BgV1LS3qSkBDRIBymO9RjwAmYFJM5C/GoZFyBxeA3wqrVF5nBcwKv2\n",
       "MgrPFJ9SVgMGAM2lLET3hDWJAAAAAElFTkSuQmCC\n",
       "\" style=\"display:inline;vertical-align:middle;\" /></a></span>"
      ],
      "text/plain": [
       "|- [not](FALSE and FALSE)"
      ]
     },
     "metadata": {},
     "output_type": "display_data"
    }
   ],
   "source": [
    "false_and_false_negated"
   ]
  },
  {
   "cell_type": "code",
   "execution_count": 7,
   "metadata": {},
   "outputs": [
    {
     "data": {
      "text/html": [
       "<strong id=\"n_aand_t\">n_aand_t:</strong> <span style=\"font-size:20px;\"><a class=\"ProveItLink\" href=\"../../../../__pv_it/theorems/c6244e76de3be0816f3efc36199d65e50f6589940/expr.ipynb\"><img src=\"data:image/png;base64,iVBORw0KGgoAAAANSUhEUgAAABwAAAAPBAMAAAAFYbKSAAAAMFBMVEX///8AAAAAAAAAAAAAAAAA\n",
       "AAAAAAAAAAAAAAAAAAAAAAAAAAAAAAAAAAAAAAAAAAAv3aB7AAAAD3RSTlMAmd0iq81UiTJ2ZkS7\n",
       "EO8Z3gX6AAAACXBIWXMAAA7EAAAOxAGVKw4bAAAAaUlEQVQI12NgQADmAAZkwPoBhZuPyhX5jMxj\n",
       "N/+BzLXk/IbMFWD7hcTjTuD4zsAgpAQEikAuIwPzF6iMCRDPERT5g+DyTmBg+ITgMgIpPSjXkIFh\n",
       "F5CKRzj/AZA4bwDl8Z7/eoEh5384AEaRFfDwb8v9AAAAAElFTkSuQmCC\n",
       "\" style=\"display:inline;vertical-align:middle;\" /></a> <a class=\"ProveItLink\" href=\"../../../__pv_it/_proof_nand_if_neither/427aa1ffe8f42e3cce28d7cde9e9707f1fed46670/proof.ipynb\" style=\"text-decoration: none\">&nbsp;&#x22A2;&nbsp;&nbsp;</a><a class=\"ProveItLink\" href=\"../../../__pv_it/_proof_nand_if_neither/0d28aa2f464a068d2ac88eb4eb049e20e5272fbc0/expr.ipynb\"><img src=\"data:image/png;base64,iVBORw0KGgoAAAANSUhEUgAAAFUAAAAVBAMAAADFg78FAAAAMFBMVEX///8AAAAAAAAAAAAAAAAA\n",
       "AAAAAAAAAAAAAAAAAAAAAAAAAAAAAAAAAAAAAAAAAAAv3aB7AAAAD3RSTlMAmd0iq3ZUiRDNZu9E\n",
       "uzLWhN+VAAAACXBIWXMAAA7EAAAOxAGVKw4bAAABQklEQVQoz2NgQAADBjwAVZI1AUxZYld7FIWX\n",
       "DqHmYyg7BTZpAZIIxwQwxfYfyi+Dy6SCyRlIahkhGhn9IS7j0ERTuxBJLTeEKq5/AHH9kgOoarkb\n",
       "EGozwSRzQDzEi0x8F1DVciI5WBziBIb8BVCfTkZVy+6AUDsLTB5jeF8AZkxmSERVyzWBQUgJCBSB\n",
       "bDWwiACDPVg/nwMDUwOKWrYNEJ4JEO8B++iioD/YnSwPGFgDUNTyfUBT28rAwK8AYnQCQ00BRS0P\n",
       "krlqECcwMG2AxYQYqhugWg2B+CpILzAMOMF2KSClDKjfLiDCoQSIrYGY9zNIAuRW3gfIahkLEGof\n",
       "MTD0/p/BwHb/J1CQBRQGfCANwHDaraSkAnTbAYRapgcMeIEREptLAL9aKWTOZbxKmS8g83rxquVF\n",
       "yUTMAfjUBjMwAACbhjwzYG55PwAAAABJRU5ErkJggg==\n",
       "\" style=\"display:inline;vertical-align:middle;\" /></a></span><br>"
      ],
      "text/plain": [
       "<IPython.core.display.HTML object>"
      ]
     },
     "metadata": {},
     "output_type": "display_data"
    }
   ],
   "source": [
    "n_aand_t = AeqF.sub_left_side_into(\n",
    "    false_and_false_negated.inner_expr().operand.operands[0],\n",
    "    auto_simplify=False)"
   ]
  },
  {
   "cell_type": "code",
   "execution_count": 8,
   "metadata": {},
   "outputs": [
    {
     "data": {
      "text/html": [
       "<span style=\"font-size:20px;\"><a class=\"ProveItLink\" href=\"../../../../__pv_it/theorems/c6244e76de3be0816f3efc36199d65e50f6589940/expr.ipynb\"><img src=\"data:image/png;base64,iVBORw0KGgoAAAANSUhEUgAAABwAAAAPBAMAAAAFYbKSAAAAMFBMVEX///8AAAAAAAAAAAAAAAAA\n",
       "AAAAAAAAAAAAAAAAAAAAAAAAAAAAAAAAAAAAAAAAAAAv3aB7AAAAD3RSTlMAmd0iq81UiTJ2ZkS7\n",
       "EO8Z3gX6AAAACXBIWXMAAA7EAAAOxAGVKw4bAAAAaUlEQVQI12NgQADmAAZkwPoBhZuPyhX5jMxj\n",
       "N/+BzLXk/IbMFWD7hcTjTuD4zsAgpAQEikAuIwPzF6iMCRDPERT5g+DyTmBg+ITgMgIpPSjXkIFh\n",
       "F5CKRzj/AZA4bwDl8Z7/eoEh5384AEaRFfDwb8v9AAAAAElFTkSuQmCC\n",
       "\" style=\"display:inline;vertical-align:middle;\" /></a>, <a class=\"ProveItLink\" href=\"../../../__pv_it/theorems/8552c6321b312c5e15a5015adce4a756ce05da420/expr.ipynb\"><img src=\"data:image/png;base64,iVBORw0KGgoAAAANSUhEUgAAAB0AAAAOBAMAAAAh/woJAAAAMFBMVEX///8AAAAAAAAAAAAAAAAA\n",
       "AAAAAAAAAAAAAAAAAAAAAAAAAAAAAAAAAAAAAAAAAAAv3aB7AAAAD3RSTlMAmd0iq2a7zTLvdkQQ\n",
       "VIm/XloVAAAACXBIWXMAAA7EAAAOxAGVKw4bAAAAgUlEQVQI12NggALW/C8u7hkMCMCZwMDg34Dg\n",
       "2y9gYNgvgODHA+XiFyD4/kBcaYDgT2NgOKKB4HJ8W7WkFEgLKQGBIgMD12cGhpsBUEkTBga2CQwM\n",
       "fD8QfH4HoJt+Ifj9QLUsv6F8QwaG9UCr+gsQ5lcyMHBPPwDnuv13cSm7wMAAAOyYG523RGm6AAAA\n",
       "AElFTkSuQmCC\n",
       "\" style=\"display:inline;vertical-align:middle;\" /></a> <a class=\"ProveItLink\" href=\"../../../__pv_it/_proof_nand_if_neither/f7a1f100187aac6a8ecd5b91b210f1ccf17737800/proof.ipynb\" style=\"text-decoration: none\">&nbsp;&#x22A2;&nbsp;&nbsp;</a><a class=\"ProveItLink\" href=\"../../../__pv_it/theorems/0567bf29b3602a47df1cf08da8d3e179ba950a980/expr.ipynb\"><img src=\"data:image/png;base64,iVBORw0KGgoAAAANSUhEUgAAAFYAAAAVBAMAAAAutAQGAAAAMFBMVEX///8AAAAAAAAAAAAAAAAA\n",
       "AAAAAAAAAAAAAAAAAAAAAAAAAAAAAAAAAAAAAAAAAAAv3aB7AAAAD3RSTlMAmd0iq3ZUiRDNZu9E\n",
       "uzLWhN+VAAAACXBIWXMAAA7EAAAOxAGVKw4bAAABh0lEQVQoz2NgQABmBjwATTIMIjgBq1qeAGQe\n",
       "WwGY4vyAqojr/hcXz3sMDFHIgp0QKh+qlj0BKs59gYHB/wEDZwOSWikIJfIZQjfB3GIPtP28AAOX\n",
       "AJLaDRDjzP9BuFE+UPH1D4AYqH4HknMh5piyfoPwFd5CJfyBeLYBA8MshFpGiNcE2H5BfcppAJHY\n",
       "y8DQogekSxBqOReAgyaB7zuEa8AGcSDf39AQsJErGYSUgEARyGQC+5uRgfkLWMkTBgYNMIMV6Nds\n",
       "kDnZEDNNQEFzAMSKFRT5CxbyY2AIBTN4gX5mB/n3PZpaDqB/P4FEOIA+bQLL8TsA4+MrkHEaoRbs\n",
       "BkYg1obFBCPYVe+B9rP8ATKSIGoNQXaBIvwUEM8HiTDBU0Y8MDjeg1hrEeHADrSLGRQf90FhtRQk\n",
       "dA9EzAYGzk5Q/Ioj1PIpMHDc/9nAkPt/OpDnARJ6CsS+/11c5oIdo4MUx3oMeAGzAhJnIX61jAuQ\n",
       "OLwGeNXaInM4LuBVexmFZ4pPKasBAwCtY0/Lm8R8fAAAAABJRU5ErkJggg==\n",
       "\" style=\"display:inline;vertical-align:middle;\" /></a></span>"
      ],
      "text/plain": [
       "{[not](A), [not](B)} |- [not](A and B)"
      ]
     },
     "metadata": {},
     "output_type": "display_data"
    }
   ],
   "source": [
    "BeqF.sub_left_side_into(n_aand_t, auto_simplify=False)"
   ]
  },
  {
   "cell_type": "code",
   "execution_count": 9,
   "metadata": {},
   "outputs": [
    {
     "name": "stdout",
     "output_type": "stream",
     "text": [
      "proveit.logic.booleans.conjunction.nand_if_neither has been proven.\n"
     ]
    },
    {
     "data": {
      "text/html": [
       "<table><tr><th>&nbsp;</th><th>step type</th><th>requirements</th><th>statement</th></tr>\n",
       "<tr><td><a name=\"-0x16d99cc1a7466a15_step0\">0</a></td><td>generalization</td><td><a href=\"#-0x16d99cc1a7466a15_step1\">1</a></td><td><span style=\"font-size:20px;\"> <a class=\"ProveItLink\" href=\"../../../__pv_it/_proof_nand_if_neither/104e8d445a2c782c78fde9f0fa89eb74cc0d776e0/proof.ipynb\" style=\"text-decoration: none\">&nbsp;&#x22A2;&nbsp;&nbsp;</a><a class=\"ProveItLink\" href=\"../../../__pv_it/theorems/388e56c0842e03ce2b9dbd3a3e46de7b7610d2630/expr.ipynb\"><img src=\"data:image/png;base64,iVBORw0KGgoAAAANSUhEUgAAAOEAAAAXBAMAAAAPVjVNAAAAMFBMVEX///8AAAAAAAAAAAAAAAAA\n",
       "AAAAAAAAAAAAAAAAAAAAAAAAAAAAAAAAAAAAAAAAAAAv3aB7AAAAD3RSTlMAq1RmmUTNIjK7EInv\n",
       "3XZ/CtNrAAAACXBIWXMAAA7EAAAOxAGVKw4bAAAC70lEQVRIx7VVTWgTQRh92STdZNPEBErxIgko\n",
       "Xjy4YhE81K6/WHqw6KUU0YqI2EvjxVMl8ehBWopQI9KuF6GHSi0FkRyMFbEiSqjirRDw4EVsq7Ut\n",
       "CtaZ+WbT3cymh5R+8Np58+3Om/neNxtgm5GtS/yezGLbkcio5Jb/o5ckkpzsbVjxgA8ZqHnm6EYq\n",
       "dSOPhAmB03zueqOCRp9KtA3Jp53EOyCwDvRD4A77pw83qhgyVRJKk1vGFzmv/wPCK0AbBJpsIJZp\n",
       "VLHZhzx/mSdXD3XTRJCdL8hUm22BINtYU8M27leJXlmkA8QjsnSBJSbxlsEkfFhYeN+wYpdKQjho\n",
       "yj6S7dE8DGMPO3csSTgLPBQJu8YiL7V9Fa+q5DyGpkDtuI/mh8Z+tPJNBPsIN6GLG2LMifTdlWKn\n",
       "8CHqbcq5zXFkvGvmAQ3n2c4WeFhEWFjIifUiScRpm4tZaK95E5cIUTsmHI79JJvLSJRURZmlaAe+\n",
       "0+iN045JhyTun0oL/wLsBlZE8hED76bIEkGrUOP0fCSbLQSXVEWZpWgBOuopPgV2lfngCSuMGGCZ\n",
       "oYOJh0sE9B0T85UrZHMGk6aqKLMUszA+Vau6qThPRUW85Nz/E6K8v9ifNKujViZgul9UA2fEu7mv\n",
       "bbuhKDpZeaMPH6crhzFnypIkzG+AqFHZ+cIm1pjqKjdsmIBBYXSPtKYdRotL8UWhUChXs8SY1Y8t\n",
       "Unrm3hYng/zNNb489zDKN9bEjnyRnyo0ReAW88tUTNvSo1y394zJzaxgzGr9N5F7bkVGJjb6oY2v\n",
       "smUD/PkIkw2ML6daR8QnoZvglA25PHmEy/laxWpWMGZ1eJ1IPO9S9BCfuC1BcYG1WMaYgv4Hxuca\n",
       "H61qVt43G5OyqkHLtaKH+MRJCfrAvIJx7lpkFkf+FjsztZ1TzdLCA8WZESc16l5ydEtB/gul/Epp\n",
       "rnFUeUXzWWaiLlEimiV4ondLxV6/jVfqESW+SXjC3FLRxM6GvkPr/geaKrl7sYxXlgAAAABJRU5E\n",
       "rkJggg==\n",
       "\" style=\"display:inline;vertical-align:middle;\" /></a></span></td></tr>\n",
       "<tr><td><a name=\"-0x16d99cc1a7466a15_step1\">1</a></td><td>instantiation</td><td><a href=\"#-0x16d99cc1a7466a15_step4\">4</a>, <a href=\"#-0x16d99cc1a7466a15_step2\">2</a>, <a href=\"#-0x16d99cc1a7466a15_step3\">3</a></td><td><span style=\"font-size:20px;\"><a class=\"ProveItLink\" href=\"../../../../__pv_it/theorems/c6244e76de3be0816f3efc36199d65e50f6589940/expr.ipynb\"><img src=\"data:image/png;base64,iVBORw0KGgoAAAANSUhEUgAAABwAAAAPBAMAAAAFYbKSAAAAMFBMVEX///8AAAAAAAAAAAAAAAAA\n",
       "AAAAAAAAAAAAAAAAAAAAAAAAAAAAAAAAAAAAAAAAAAAv3aB7AAAAD3RSTlMAmd0iq81UiTJ2ZkS7\n",
       "EO8Z3gX6AAAACXBIWXMAAA7EAAAOxAGVKw4bAAAAaUlEQVQI12NgQADmAAZkwPoBhZuPyhX5jMxj\n",
       "N/+BzLXk/IbMFWD7hcTjTuD4zsAgpAQEikAuIwPzF6iMCRDPERT5g+DyTmBg+ITgMgIpPSjXkIFh\n",
       "F5CKRzj/AZA4bwDl8Z7/eoEh5384AEaRFfDwb8v9AAAAAElFTkSuQmCC\n",
       "\" style=\"display:inline;vertical-align:middle;\" /></a>, <a class=\"ProveItLink\" href=\"../../../__pv_it/theorems/8552c6321b312c5e15a5015adce4a756ce05da420/expr.ipynb\"><img src=\"data:image/png;base64,iVBORw0KGgoAAAANSUhEUgAAAB0AAAAOBAMAAAAh/woJAAAAMFBMVEX///8AAAAAAAAAAAAAAAAA\n",
       "AAAAAAAAAAAAAAAAAAAAAAAAAAAAAAAAAAAAAAAAAAAv3aB7AAAAD3RSTlMAmd0iq2a7zTLvdkQQ\n",
       "VIm/XloVAAAACXBIWXMAAA7EAAAOxAGVKw4bAAAAgUlEQVQI12NggALW/C8u7hkMCMCZwMDg34Dg\n",
       "2y9gYNgvgODHA+XiFyD4/kBcaYDgT2NgOKKB4HJ8W7WkFEgLKQGBIgMD12cGhpsBUEkTBga2CQwM\n",
       "fD8QfH4HoJt+Ifj9QLUsv6F8QwaG9UCr+gsQ5lcyMHBPPwDnuv13cSm7wMAAAOyYG523RGm6AAAA\n",
       "AElFTkSuQmCC\n",
       "\" style=\"display:inline;vertical-align:middle;\" /></a> <a class=\"ProveItLink\" href=\"../../../__pv_it/_proof_nand_if_neither/f7a1f100187aac6a8ecd5b91b210f1ccf17737800/proof.ipynb\" style=\"text-decoration: none\">&nbsp;&#x22A2;&nbsp;&nbsp;</a><a class=\"ProveItLink\" href=\"../../../__pv_it/theorems/0567bf29b3602a47df1cf08da8d3e179ba950a980/expr.ipynb\"><img src=\"data:image/png;base64,iVBORw0KGgoAAAANSUhEUgAAAFYAAAAVBAMAAAAutAQGAAAAMFBMVEX///8AAAAAAAAAAAAAAAAA\n",
       "AAAAAAAAAAAAAAAAAAAAAAAAAAAAAAAAAAAAAAAAAAAv3aB7AAAAD3RSTlMAmd0iq3ZUiRDNZu9E\n",
       "uzLWhN+VAAAACXBIWXMAAA7EAAAOxAGVKw4bAAABh0lEQVQoz2NgQABmBjwATTIMIjgBq1qeAGQe\n",
       "WwGY4vyAqojr/hcXz3sMDFHIgp0QKh+qlj0BKs59gYHB/wEDZwOSWikIJfIZQjfB3GIPtP28AAOX\n",
       "AJLaDRDjzP9BuFE+UPH1D4AYqH4HknMh5piyfoPwFd5CJfyBeLYBA8MshFpGiNcE2H5BfcppAJHY\n",
       "y8DQogekSxBqOReAgyaB7zuEa8AGcSDf39AQsJErGYSUgEARyGQC+5uRgfkLWMkTBgYNMIMV6Nds\n",
       "kDnZEDNNQEFzAMSKFRT5CxbyY2AIBTN4gX5mB/n3PZpaDqB/P4FEOIA+bQLL8TsA4+MrkHEaoRbs\n",
       "BkYg1obFBCPYVe+B9rP8ATKSIGoNQXaBIvwUEM8HiTDBU0Y8MDjeg1hrEeHADrSLGRQf90FhtRQk\n",
       "dA9EzAYGzk5Q/Ioj1PIpMHDc/9nAkPt/OpDnARJ6CsS+/11c5oIdo4MUx3oMeAGzAhJnIX61jAuQ\n",
       "OLwGeNXaInM4LuBVexmFZ4pPKasBAwCtY0/Lm8R8fAAAAABJRU5ErkJggg==\n",
       "\" style=\"display:inline;vertical-align:middle;\" /></a></span></td></tr>\n",
       "<tr><td>&nbsp;</td><td colspan=4 style=\"text-align:left\"><span style=\"font-size:20px;\"><a class=\"ProveItLink\" href=\"../../../__pv_it/_proof_nand_if_neither/f307345efa93fdd6c2df141d735449c4534792f70/expr.ipynb\"><img src=\"data:image/png;base64,iVBORw0KGgoAAAANSUhEUgAAADsAAAAVBAMAAAAKrYvGAAAAMFBMVEX///8AAAAAAAAAAAAAAAAA\n",
       "AAAAAAAAAAAAAAAAAAAAAAAAAAAAAAAAAAAAAAAAAAAv3aB7AAAAD3RSTlMAdrurzZkQ7zJUiSLd\n",
       "ZkQEbk8lAAAACXBIWXMAAA7EAAAOxAGVKw4bAAABHElEQVQoz2NgQAYb8PAYGBgnoHAfgkmh/8pG\n",
       "rgkg1iw01RfA1BcGBqYyIM3mgGaaG4jg+MjAwAnEDKwX0KSvgs34AcS/gAx2NFkGdpCVTB+AGKiE\n",
       "YQq6NAvIOH4FBoZ+ASAjCiHBbSUNFOEyYABL7ToJEvNFSD/fwPSNgYEX5FZ5q1X3wGIn4bJstQys\n",
       "B4AOLgCy9WGCdXBp1g8MPAuAfvoA8Ta6NLsCQ/4DBgY+oG6OXzBBhOH5Agz3gRQn0ALGfzBBRYT0\n",
       "BAYTzg0MvEA/sXyACS6GSzMJcB5lBTphAQOr/icBqGAP0CYlINBmYDNcsVmCgYHnAXIg8TSghdoe\n",
       "FB5vAJp0LCpXG5XLrYDKT0LlMqGlJm4BFK40AwMAeV42yYcqVGcAAAAASUVORK5CYII=\n",
       "\" style=\"display:inline;vertical-align:middle;\" /></a> : <a class=\"ProveItLink\" href=\"../../../__pv_it/_proof_nand_if_neither/ddd3f27fee3ea87b9f9b37e9a7e72670d977d9e40/expr.ipynb\"><img src=\"data:image/png;base64,iVBORw0KGgoAAAANSUhEUgAAAF4AAAAVBAMAAAA9Y0TyAAAAMFBMVEX///8AAAAAAAAAAAAAAAAA\n",
       "AAAAAAAAAAAAAAAAAAAAAAAAAAAAAAAAAAAAAAAAAAAv3aB7AAAAD3RSTlMAmd0iq3ZUiRDNZu9E\n",
       "uzLWhN+VAAAACXBIWXMAAA7EAAAOxAGVKw4bAAABXklEQVQoz2NgQAADBgKAGYXHmgARnIBTPU8A\n",
       "Mi8dQnF+wG1BFBKbA2puPlQ9ewKmes4GBJtxAYQW+Qyhm7C4i0sAweaGGmv+D2q3DxYH7UAwMyGU\n",
       "Kes3CEPhLRb1sxBMcQglwPYLTLMVcKKEr0mpKZAsQdfKk8D3HeI1AzYB5KDczHAf6NmVDEJKQKAI\n",
       "FFGD+JqB+QuY8YSBQQNJffcCBiEglQ21DIj3gFmxgiJ/wQw/BoZQJPXyDAzqQOo9mnoOYAx+gsVG\n",
       "E5L6vQwcf4DUaYR6NYhzGBi0YbHFiIgxjq8MXKB4TIJwDYH4KohxCojngxhMqCmJ4xsDy4RkBoa1\n",
       "CBtBQcW8AUjcB4XjUpDQPYTsVYYkAQF4oIPAI6Ap9382MOT+nw7keYCEngLx27tAYMDQEv7Y9QED\n",
       "gw5CPdMDBoKAWQF7WsIFYGkSDC4TVm+LzOklrB7FSOYAQspZDRgA9WBHHTzgxeEAAAAASUVORK5C\n",
       "YII=\n",
       "\" style=\"display:inline;vertical-align:middle;\" /></a>, <a class=\"ProveItLink\" href=\"../../../../../../__pv_it/common/a0d9d672aa5e272d907247690c152cc2c6daafb70/expr.ipynb\"><img src=\"data:image/png;base64,iVBORw0KGgoAAAANSUhEUgAAAAsAAAAJBAMAAAAWSsseAAAAMFBMVEX///8AAAAAAAAAAAAAAAAA\n",
       "AAAAAAAAAAAAAAAAAAAAAAAAAAAAAAAAAAAAAAAAAAAv3aB7AAAAD3RSTlMAEHarMolUmd1mIs3v\n",
       "RLtmgJDEAAAACXBIWXMAAA7EAAAOxAGVKw4bAAAAQklEQVQI12NgEFIWCU1gYChgMmJvYOBcwPmR\n",
       "eQIDCwP7BgYQ4FEAU/cXMAowyF2wYWBlYMh3rGG4xsAgrsRWmcAAAFEjCyBvD0T9AAAAAElFTkSu\n",
       "QmCC\n",
       "\" style=\"display:inline;vertical-align:middle;\" /></a> : <a class=\"ProveItLink\" href=\"../../../../../../__pv_it/common/a9162d1c3cc0470c02e5daf414500903a7a419230/expr.ipynb\"><img src=\"data:image/png;base64,iVBORw0KGgoAAAANSUhEUgAAABAAAAAOBAMAAADUAYG5AAAAMFBMVEX///8AAAAAAAAAAAAAAAAA\n",
       "AAAAAAAAAAAAAAAAAAAAAAAAAAAAAAAAAAAAAAAAAAAv3aB7AAAAD3RSTlMAZrurzTLvInZEmRDd\n",
       "VIkafcLnAAAACXBIWXMAAA7EAAAOxAGVKw4bAAAAb0lEQVQI12NgYBD6b2zsFMAABEkMDMxfgTT7\n",
       "DwYGzl9ABiOQxwjkMDB/YGBgSQcy2BQYuG1AiuM1OkwEQJr6Cxh4E0EMNSB+D5L6DMTyDQwMrB+B\n",
       "DPsJDAwc34GcL0AOSwIDwzRvoHH6n41NdBkYAF/iFeJ4bEa2AAAAAElFTkSuQmCC\n",
       "\" style=\"display:inline;vertical-align:middle;\" /></a></span></td></tr><tr><td><a name=\"-0x16d99cc1a7466a15_step2\">2</a></td><td>instantiation</td><td><a href=\"#-0x16d99cc1a7466a15_step4\">4</a>, <a href=\"#-0x16d99cc1a7466a15_step5\">5</a>, <a href=\"#-0x16d99cc1a7466a15_step6\">6</a></td><td><span style=\"font-size:20px;\"><a class=\"ProveItLink\" href=\"../../../../__pv_it/theorems/c6244e76de3be0816f3efc36199d65e50f6589940/expr.ipynb\"><img src=\"data:image/png;base64,iVBORw0KGgoAAAANSUhEUgAAABwAAAAPBAMAAAAFYbKSAAAAMFBMVEX///8AAAAAAAAAAAAAAAAA\n",
       "AAAAAAAAAAAAAAAAAAAAAAAAAAAAAAAAAAAAAAAAAAAv3aB7AAAAD3RSTlMAmd0iq81UiTJ2ZkS7\n",
       "EO8Z3gX6AAAACXBIWXMAAA7EAAAOxAGVKw4bAAAAaUlEQVQI12NgQADmAAZkwPoBhZuPyhX5jMxj\n",
       "N/+BzLXk/IbMFWD7hcTjTuD4zsAgpAQEikAuIwPzF6iMCRDPERT5g+DyTmBg+ITgMgIpPSjXkIFh\n",
       "F5CKRzj/AZA4bwDl8Z7/eoEh5384AEaRFfDwb8v9AAAAAElFTkSuQmCC\n",
       "\" style=\"display:inline;vertical-align:middle;\" /></a> <a class=\"ProveItLink\" href=\"../../../__pv_it/_proof_nand_if_neither/427aa1ffe8f42e3cce28d7cde9e9707f1fed46670/proof.ipynb\" style=\"text-decoration: none\">&nbsp;&#x22A2;&nbsp;&nbsp;</a><a class=\"ProveItLink\" href=\"../../../__pv_it/_proof_nand_if_neither/0d28aa2f464a068d2ac88eb4eb049e20e5272fbc0/expr.ipynb\"><img src=\"data:image/png;base64,iVBORw0KGgoAAAANSUhEUgAAAFUAAAAVBAMAAADFg78FAAAAMFBMVEX///8AAAAAAAAAAAAAAAAA\n",
       "AAAAAAAAAAAAAAAAAAAAAAAAAAAAAAAAAAAAAAAAAAAv3aB7AAAAD3RSTlMAmd0iq3ZUiRDNZu9E\n",
       "uzLWhN+VAAAACXBIWXMAAA7EAAAOxAGVKw4bAAABQklEQVQoz2NgQAADBjwAVZI1AUxZYld7FIWX\n",
       "DqHmYyg7BTZpAZIIxwQwxfYfyi+Dy6SCyRlIahkhGhn9IS7j0ERTuxBJLTeEKq5/AHH9kgOoarkb\n",
       "EGozwSRzQDzEi0x8F1DVciI5WBziBIb8BVCfTkZVy+6AUDsLTB5jeF8AZkxmSERVyzWBQUgJCBSB\n",
       "bDWwiACDPVg/nwMDUwOKWrYNEJ4JEO8B++iioD/YnSwPGFgDUNTyfUBT28rAwK8AYnQCQ00BRS0P\n",
       "krlqECcwMG2AxYQYqhugWg2B+CpILzAMOMF2KSClDKjfLiDCoQSIrYGY9zNIAuRW3gfIahkLEGof\n",
       "MTD0/p/BwHb/J1CQBRQGfCANwHDaraSkAnTbAYRapgcMeIEREptLAL9aKWTOZbxKmS8g83rxquVF\n",
       "yUTMAfjUBjMwAACbhjwzYG55PwAAAABJRU5ErkJggg==\n",
       "\" style=\"display:inline;vertical-align:middle;\" /></a></span></td></tr>\n",
       "<tr><td>&nbsp;</td><td colspan=4 style=\"text-align:left\"><span style=\"font-size:20px;\"><a class=\"ProveItLink\" href=\"../../../__pv_it/_proof_nand_if_neither/f307345efa93fdd6c2df141d735449c4534792f70/expr.ipynb\"><img src=\"data:image/png;base64,iVBORw0KGgoAAAANSUhEUgAAADsAAAAVBAMAAAAKrYvGAAAAMFBMVEX///8AAAAAAAAAAAAAAAAA\n",
       "AAAAAAAAAAAAAAAAAAAAAAAAAAAAAAAAAAAAAAAAAAAv3aB7AAAAD3RSTlMAdrurzZkQ7zJUiSLd\n",
       "ZkQEbk8lAAAACXBIWXMAAA7EAAAOxAGVKw4bAAABHElEQVQoz2NgQAYb8PAYGBgnoHAfgkmh/8pG\n",
       "rgkg1iw01RfA1BcGBqYyIM3mgGaaG4jg+MjAwAnEDKwX0KSvgs34AcS/gAx2NFkGdpCVTB+AGKiE\n",
       "YQq6NAvIOH4FBoZ+ASAjCiHBbSUNFOEyYABL7ToJEvNFSD/fwPSNgYEX5FZ5q1X3wGIn4bJstQys\n",
       "B4AOLgCy9WGCdXBp1g8MPAuAfvoA8Ta6NLsCQ/4DBgY+oG6OXzBBhOH5Agz3gRQn0ALGfzBBRYT0\n",
       "BAYTzg0MvEA/sXyACS6GSzMJcB5lBTphAQOr/icBqGAP0CYlINBmYDNcsVmCgYHnAXIg8TSghdoe\n",
       "FB5vAJp0LCpXG5XLrYDKT0LlMqGlJm4BFK40AwMAeV42yYcqVGcAAAAASUVORK5CYII=\n",
       "\" style=\"display:inline;vertical-align:middle;\" /></a> : <a class=\"ProveItLink\" href=\"../../../__pv_it/_proof_nand_if_neither/110e9c8da4dd0d6c5a207909fa4016bebced90aa0/expr.ipynb\"><img src=\"data:image/png;base64,iVBORw0KGgoAAAANSUhEUgAAAF4AAAAVBAMAAAA9Y0TyAAAAMFBMVEX///8AAAAAAAAAAAAAAAAA\n",
       "AAAAAAAAAAAAAAAAAAAAAAAAAAAAAAAAAAAAAAAAAAAv3aB7AAAAD3RSTlMAmd0iq3ZUiRDNZu9E\n",
       "uzLWhN+VAAAACXBIWXMAAA7EAAAOxAGVKw4bAAABLklEQVQoz2NgQAADBgKAGYXHmkBIPU8AMi8d\n",
       "r9IFIDIKSYRjAhZlZTAGG9hozgaEFOMCTOUcmqjquQQQctxYjGddcgBFPcMOhFwmFvVMfBdQ1c9C\n",
       "yIkjhZt7cAA0CCajqi9BKELSetqA9weYMZkhEVX9SgYhJSBQBDLVEL7cxcCoAGLwOTAwNaCoz4bw\n",
       "TIB4DyKkPjAwFYAYLA8YWANQ1L/Hpp77AkM/OFw6gXYpoKg/jVCPcE9/AMN6eGyJoahPgvAMgfgq\n",
       "Qn0CgycbKPGBzLZEUb8WESiIoOINYFNkBMUmSA3vA2T1SIH+CBged4HgMgOHa51JHMi7oLDhAypk\n",
       "VFLS3qSk5MDAoIMUlw8YCAJmBQQbOS3hAihp8jJh9bbInF7C6lGMZA4gpJzVgAEABi42XJjn32QA\n",
       "AAAASUVORK5CYII=\n",
       "\" style=\"display:inline;vertical-align:middle;\" /></a>, <a class=\"ProveItLink\" href=\"../../../../../../__pv_it/common/a0d9d672aa5e272d907247690c152cc2c6daafb70/expr.ipynb\"><img src=\"data:image/png;base64,iVBORw0KGgoAAAANSUhEUgAAAAsAAAAJBAMAAAAWSsseAAAAMFBMVEX///8AAAAAAAAAAAAAAAAA\n",
       "AAAAAAAAAAAAAAAAAAAAAAAAAAAAAAAAAAAAAAAAAAAv3aB7AAAAD3RSTlMAEHarMolUmd1mIs3v\n",
       "RLtmgJDEAAAACXBIWXMAAA7EAAAOxAGVKw4bAAAAQklEQVQI12NgEFIWCU1gYChgMmJvYOBcwPmR\n",
       "eQIDCwP7BgYQ4FEAU/cXMAowyF2wYWBlYMh3rGG4xsAgrsRWmcAAAFEjCyBvD0T9AAAAAElFTkSu\n",
       "QmCC\n",
       "\" style=\"display:inline;vertical-align:middle;\" /></a> : <a class=\"ProveItLink\" href=\"../../../../../../__pv_it/common/09585084922504426caf1db2ff588a23a0932a960/expr.ipynb\"><img src=\"data:image/png;base64,iVBORw0KGgoAAAANSUhEUgAAAA8AAAAPBAMAAADJ+Ih5AAAAMFBMVEX///8AAAAAAAAAAAAAAAAA\n",
       "AAAAAAAAAAAAAAAAAAAAAAAAAAAAAAAAAAAAAAAAAAAv3aB7AAAAD3RSTlMAIs1UmauJMnZmRLsQ\n",
       "3e++988cAAAACXBIWXMAAA7EAAAOxAGVKw4bAAAAXklEQVQI12NgAAEhBijQh9LM/6EMlngBCCMx\n",
       "vwBMMzb0G0BkGOwngBmLGeoTwAwHBvkAEM2xxSV+A4hxgoGB/wJEhoH3AZDmAupg+gBkyAEx90cG\n",
       "htP/dRiY939KAABt3hLO6mcEjQAAAABJRU5ErkJggg==\n",
       "\" style=\"display:inline;vertical-align:middle;\" /></a></span></td></tr><tr><td><a name=\"-0x16d99cc1a7466a15_step3\">3</a></td><td>assumption</td><td></td><td><span style=\"font-size:20px;\"><a class=\"ProveItLink\" href=\"../../../__pv_it/theorems/8552c6321b312c5e15a5015adce4a756ce05da420/expr.ipynb\"><img src=\"data:image/png;base64,iVBORw0KGgoAAAANSUhEUgAAAB0AAAAOBAMAAAAh/woJAAAAMFBMVEX///8AAAAAAAAAAAAAAAAA\n",
       "AAAAAAAAAAAAAAAAAAAAAAAAAAAAAAAAAAAAAAAAAAAv3aB7AAAAD3RSTlMAmd0iq2a7zTLvdkQQ\n",
       "VIm/XloVAAAACXBIWXMAAA7EAAAOxAGVKw4bAAAAgUlEQVQI12NggALW/C8u7hkMCMCZwMDg34Dg\n",
       "2y9gYNgvgODHA+XiFyD4/kBcaYDgT2NgOKKB4HJ8W7WkFEgLKQGBIgMD12cGhpsBUEkTBga2CQwM\n",
       "fD8QfH4HoJt+Ifj9QLUsv6F8QwaG9UCr+gsQ5lcyMHBPPwDnuv13cSm7wMAAAOyYG523RGm6AAAA\n",
       "AElFTkSuQmCC\n",
       "\" style=\"display:inline;vertical-align:middle;\" /></a> <a class=\"ProveItLink\" href=\"../../../__pv_it/_proof_nand_if_neither/bd32d0676eab8f44f89518d14e8130e3c90f16690/proof.ipynb\" style=\"text-decoration: none\">&nbsp;&#x22A2;&nbsp;&nbsp;</a><a class=\"ProveItLink\" href=\"../../../__pv_it/theorems/8552c6321b312c5e15a5015adce4a756ce05da420/expr.ipynb\"><img src=\"data:image/png;base64,iVBORw0KGgoAAAANSUhEUgAAAB0AAAAOBAMAAAAh/woJAAAAMFBMVEX///8AAAAAAAAAAAAAAAAA\n",
       "AAAAAAAAAAAAAAAAAAAAAAAAAAAAAAAAAAAAAAAAAAAv3aB7AAAAD3RSTlMAmd0iq2a7zTLvdkQQ\n",
       "VIm/XloVAAAACXBIWXMAAA7EAAAOxAGVKw4bAAAAgUlEQVQI12NggALW/C8u7hkMCMCZwMDg34Dg\n",
       "2y9gYNgvgODHA+XiFyD4/kBcaYDgT2NgOKKB4HJ8W7WkFEgLKQGBIgMD12cGhpsBUEkTBga2CQwM\n",
       "fD8QfH4HoJt+Ifj9QLUsv6F8QwaG9UCr+gsQ5lcyMHBPPwDnuv13cSm7wMAAAOyYG523RGm6AAAA\n",
       "AElFTkSuQmCC\n",
       "\" style=\"display:inline;vertical-align:middle;\" /></a></span></td></tr>\n",
       "<tr><td><a name=\"-0x16d99cc1a7466a15_step4\">4</a></td><td>theorem</td><td></td><td><span style=\"font-size:20px;\"> <a class=\"ProveItLink\" href=\"../../../../../equality/_theory_nbs_/proofs/substitute_falsehood/thm_proof.ipynb\" style=\"text-decoration: none\">&nbsp;&#x22A2;&nbsp;&nbsp;</a><a class=\"ProveItLink\" href=\"../../../../../equality/__pv_it/theorems/128874444b592da08dbd53e29120fb089ebf8c360/expr.ipynb\"><img src=\"data:image/png;base64,iVBORw0KGgoAAAANSUhEUgAAAK4AAAAXBAMAAABg52lgAAAAMFBMVEX///8AAAAAAAAAAAAAAAAA\n",
       "AAAAAAAAAAAAAAAAAAAAAAAAAAAAAAAAAAAAAAAAAAAv3aB7AAAAD3RSTlMAq1RmmUTNIjK7EInv\n",
       "3XZ/CtNrAAAACXBIWXMAAA7EAAAOxAGVKw4bAAACeUlEQVQ4y62UT2jUQBTGv02y3WzSxj0IUhQR\n",
       "PAiimIMKPSgrpaxQkcWjFVxUEDylR7HU9loKjacSEXcFEXuR6kGwRVl6rCirIHgpRK2IHtZe/NeC\n",
       "9s0kM5tscpCmA5P38s3Mb2bevBlgG0uhy25X+RjavA+UmLM/C+3rv1v9VxrkKPNC+gQMMXs10zJ/\n",
       "AsVlsg+k0tPAJIuHmwWr/6WlUsWglNQyQ8Pcl4Vr/aa6QU6zoy1DtWnZmcJQXKNKbKXW0S4Dr1ZW\n",
       "Xmbi7qAozlAGaOzYHn14uEi7fwycBm4nO5ejPwfEjlO5xLzxlh2WzcZZe7UWcBwYRYFyLV8fPrUr\n",
       "0jk4yUBVq+RqidlE+b578RizfbRO1VHXc8Q/RKFpmGzcCeB5ghuo93gU2WckjVsPbS9hdGg8yjMU\n",
       "bp8f206aOMnl6pDksuRJS1/Jpa/Pvheo1k4ybwl4QxFcHa9EuVxtSW4kIduVVSdI341Q6eONFx2D\n",
       "Jj9M3pNr7GqsY5Si9yXnXopwuVqoSa4iA2w5/T3BJNYPkW+00rnqHpjkD1AdY0+E+rp9kIxd9Cci\n",
       "XK7mXcnl7jPP81oq7urhnV0LuSZxjkydwTnyh6nmGClXCpPRicaXq0pJcnVx4Un6FXha/Y8f3meK\n",
       "1/22Msi28U7sq9cO7DScCJerupuMQwl6M/HKvu88xC3h3SScMV9oPg1z1JUqIudm+UbwFpbHzJrW\n",
       "zT0qPc0Wx1BfoIUt4exIu9HhchWYZTG943k+ig71CUZ+fvEt8VA4wrseb1AS+Yv4bZiL9ekuhhw0\n",
       "G284n87V5DoqsT6JMi6TMK7b6VwsiOe6GuuzlRKb0eiy/1E2AWO5kcK+S6/8AAAAAElFTkSuQmCC\n",
       "\" style=\"display:inline;vertical-align:middle;\" /></a></span></td></tr>\n",
       "<tr><td>&nbsp;</td><td colspan=4 style-\"text-align:left\"><a class=\"ProveItLink\" href=\"../../../../../equality/_theory_nbs_/proofs/substitute_falsehood/thm_proof.ipynb\">proveit.logic.equality.substitute_falsehood</a></td></tr><tr><td><a name=\"-0x16d99cc1a7466a15_step5\">5</a></td><td>theorem</td><td></td><td><span style=\"font-size:20px;\"> <a class=\"ProveItLink\" href=\"../false_and_false_negated/thm_proof.ipynb\" style=\"text-decoration: none\">&nbsp;&#x22A2;&nbsp;&nbsp;</a><a class=\"ProveItLink\" href=\"../../../__pv_it/theorems/3f580260baf60f1bbe721c3c14c6323ee245a8e40/expr.ipynb\"><img src=\"data:image/png;base64,iVBORw0KGgoAAAANSUhEUgAAAFYAAAAVBAMAAAAutAQGAAAAMFBMVEX///8AAAAAAAAAAAAAAAAA\n",
       "AAAAAAAAAAAAAAAAAAAAAAAAAAAAAAAAAAAAAAAAAAAv3aB7AAAAD3RSTlMAmd0iq3ZUiRDNZu9E\n",
       "uzLWhN+VAAAACXBIWXMAAA7EAAAOxAGVKw4bAAABCElEQVQoz2NgQABmBjwATTIMn1qeAGQeWwGI\n",
       "PIVF2QIQGYUs1AkmU2Fc9gS4IWAjORuQ1Eqhqm2agKqWSwBJ7QZUtVE+qGoZdiA5dwKqWoW3aGpn\n",
       "IdQyFqCoZSvgNEBVW4JQy7kARS2nAZsAqtqVDEJKQKAIZDIloKh9wsCggao2G8IzAWLuAyhq/RgY\n",
       "QlHVvsellgPo0yZUtacRalHdAIoJxgQUtUkQniEQ8wYgq2UCJZcJKGrXIsKB3QFZ7VIQcQ9FrThC\n",
       "LZ8CAyhQdispqQB5HiChp6BgV1LS3qSkBDRIBymO9RjwAmYFJM5C/GoZFyBxeA3wqrVF5nBcwKv2\n",
       "MgrPFJ9SVgMGAM2lLET3hDWJAAAAAElFTkSuQmCC\n",
       "\" style=\"display:inline;vertical-align:middle;\" /></a></span></td></tr>\n",
       "<tr><td>&nbsp;</td><td colspan=4 style-\"text-align:left\"><a class=\"ProveItLink\" href=\"../false_and_false_negated/thm_proof.ipynb\">proveit.logic.booleans.conjunction.false_and_false_negated</a></td></tr><tr><td><a name=\"-0x16d99cc1a7466a15_step6\">6</a></td><td>assumption</td><td></td><td><span style=\"font-size:20px;\"><a class=\"ProveItLink\" href=\"../../../../__pv_it/theorems/c6244e76de3be0816f3efc36199d65e50f6589940/expr.ipynb\"><img src=\"data:image/png;base64,iVBORw0KGgoAAAANSUhEUgAAABwAAAAPBAMAAAAFYbKSAAAAMFBMVEX///8AAAAAAAAAAAAAAAAA\n",
       "AAAAAAAAAAAAAAAAAAAAAAAAAAAAAAAAAAAAAAAAAAAv3aB7AAAAD3RSTlMAmd0iq81UiTJ2ZkS7\n",
       "EO8Z3gX6AAAACXBIWXMAAA7EAAAOxAGVKw4bAAAAaUlEQVQI12NgQADmAAZkwPoBhZuPyhX5jMxj\n",
       "N/+BzLXk/IbMFWD7hcTjTuD4zsAgpAQEikAuIwPzF6iMCRDPERT5g+DyTmBg+ITgMgIpPSjXkIFh\n",
       "F5CKRzj/AZA4bwDl8Z7/eoEh5384AEaRFfDwb8v9AAAAAElFTkSuQmCC\n",
       "\" style=\"display:inline;vertical-align:middle;\" /></a> <a class=\"ProveItLink\" href=\"../../../__pv_it/_proof_nand_if_neither/62bc27149aae5522131bc80b219470722f3e45de0/proof.ipynb\" style=\"text-decoration: none\">&nbsp;&#x22A2;&nbsp;&nbsp;</a><a class=\"ProveItLink\" href=\"../../../../__pv_it/theorems/c6244e76de3be0816f3efc36199d65e50f6589940/expr.ipynb\"><img src=\"data:image/png;base64,iVBORw0KGgoAAAANSUhEUgAAABwAAAAPBAMAAAAFYbKSAAAAMFBMVEX///8AAAAAAAAAAAAAAAAA\n",
       "AAAAAAAAAAAAAAAAAAAAAAAAAAAAAAAAAAAAAAAAAAAv3aB7AAAAD3RSTlMAmd0iq81UiTJ2ZkS7\n",
       "EO8Z3gX6AAAACXBIWXMAAA7EAAAOxAGVKw4bAAAAaUlEQVQI12NgQADmAAZkwPoBhZuPyhX5jMxj\n",
       "N/+BzLXk/IbMFWD7hcTjTuD4zsAgpAQEikAuIwPzF6iMCRDPERT5g+DyTmBg+ITgMgIpPSjXkIFh\n",
       "F5CKRzj/AZA4bwDl8Z7/eoEh5384AEaRFfDwb8v9AAAAAElFTkSuQmCC\n",
       "\" style=\"display:inline;vertical-align:middle;\" /></a></span></td></tr>\n",
       "</table>"
      ],
      "text/plain": [
       "\tstep type\trequirements\tstatement\n",
       "0\tgeneralization\t1\t|- forall_{A, B | [not](A), [not](B)} [not](A and B)\n",
       "1\tinstantiation\t4, 2, 3\t{[not](A), [not](B)} |- [not](A and B)\n",
       "\tP(_a) : [not](A and _a), x : B\n",
       "2\tinstantiation\t4, 5, 6\t{[not](A)} |- [not](A and FALSE)\n",
       "\tP(_a) : [not](_a and FALSE), x : A\n",
       "3\tassumption\t\t{[not](B)} |- [not](B)\n",
       "4\ttheorem\t\t|- forall_{P, x | P(FALSE), [not](x)} P(x)\n",
       "\tproveit.logic.equality.substitute_falsehood\n",
       "5\ttheorem\t\t|- [not](FALSE and FALSE)\n",
       "\tproveit.logic.booleans.conjunction.false_and_false_negated\n",
       "6\tassumption\t\t{[not](A)} |- [not](A)"
      ]
     },
     "execution_count": 9,
     "metadata": {},
     "output_type": "execute_result"
    }
   ],
   "source": [
    "%qed"
   ]
  },
  {
   "cell_type": "code",
   "execution_count": null,
   "metadata": {},
   "outputs": [],
   "source": []
  }
 ],
 "metadata": {
  "kernelspec": {
   "display_name": "Python 3",
   "language": "python",
   "name": "python3"
  }
 },
 "nbformat": 4,
 "nbformat_minor": 0
}