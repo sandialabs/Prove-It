{
 "cells": [
  {
   "cell_type": "markdown",
   "metadata": {},
   "source": [
    "Proof of <a class=\"ProveItLink\" href=\"../../../../../../_theory_nbs_/theory.ipynb\">proveit</a>.<a class=\"ProveItLink\" href=\"../../../../../_theory_nbs_/theory.ipynb\">logic</a>.<a class=\"ProveItLink\" href=\"../../../../_theory_nbs_/theory.ipynb\">booleans</a>.<a class=\"ProveItLink\" href=\"../../theory.ipynb\">conjunction</a>.<a class=\"ProveItLink\" href=\"../../theorems.ipynb#demorgans_law_or_to_and_bin\">demorgans_law_or_to_and_bin</a> theorem\n",
    "========"
   ]
  },
  {
   "cell_type": "code",
   "execution_count": 1,
   "metadata": {},
   "outputs": [],
   "source": [
    "import proveit\n",
    "theory = proveit.Theory() # the theorem's theory"
   ]
  },
  {
   "cell_type": "code",
   "execution_count": 2,
   "metadata": {},
   "outputs": [
    {
     "data": {
      "text/html": [
       "With these <a href=\"allowed_presumptions.txt\">allowed</a>/<a href=\"disallowed_presumptions.txt\">disallowed</a> theorem/theory presumptions (e.g., to avoid circular dependencies), we begin our proof of<br><strong id=\"demorgans_law_or_to_and_bin\">demorgans_law_or_to_and_bin:</strong> <a class=\"ProveItLink\" href=\"../../../__pv_it/theorems/354aea129ead4b4c3b7ddd5d987fae7fa7bae3280/expr.ipynb\"><img src=\"data:image/png;base64,iVBORw0KGgoAAAANSUhEUgAAAPsAAAAXBAMAAAA/2iRsAAAAMFBMVEX///8AAAAAAAAAAAAAAAAA\n",
       "AAAAAAAAAAAAAAAAAAAAAAAAAAAAAAAAAAAAAAAAAAAv3aB7AAAAD3RSTlMAq1RmmUTNIjK7EInv\n",
       "3XZ/CtNrAAAACXBIWXMAAA7EAAAOxAGVKw4bAAADYUlEQVRIx7VWTWgTQRT+svnfNGkKInpKxKIH\n",
       "BVNovWkX/2rxYNBLa0FbRMRSsF48KYnHHqQ5CLUF7fYi9KDEXkR7sBYURZRSRLwUIh68SK2i1h+w\n",
       "vnkzuzvZtjmoeUx2Zt68N9/M+5sAdaXBv178H5TKcndx7dWT9EuLwdY6we+Q3XkfOzj+qWnjdaRy\n",
       "wEExP1sfdLOXO2NFzaechYYSkCmiH7hCs2ipPvChnOwy0svma2ehUAFOWWgFIjaQyNYHvkF29x4W\n",
       "ZSS05NVCOzHaK2iwEaQTRurk+m38jVY+yuslY46VM/QbGESEsF8sLDyvE/wRaXvsyqlAdGLsGTDx\n",
       "hqxOcX8YGGOe7XOcPtlOAeSlqY2UOzaqs7fCTdFp/h7DcBkywJslP/Zj8a1YC1JoXkCUk898yktD\n",
       "X6Y72VVxPVPIaW1eQJOk5UxctlQM6eee56+FAgPE0kjKK6aWgZ1kEWOGYOwER0Tis0SaQ2rGDz9B\n",
       "mGl3JiR7GCWgsaViuCyaoseMde1Ahn0eKCIlLRMngMR3OtASHaEiI6/rJXcBC8ElPzwVh1DenQnJ\n",
       "iG3k+BAuWyn2c9Pg7wCNc2Jwi+7AAzTSmYO/gbC4Z+9e6bU+mSxZ3M754Ukrqfm3j3O1JILGYyvF\n",
       "Ka26zEvbIznjFJ19zB8mucBXurk4zRSfNoVDsiK8a90EH3y0V6/bLGlYVKnJzB5bKTbDCTDgJv3C\n",
       "IrGX1B2U+EcK12HaMyiccond14UPvLQH5gYN/v7o6OhcmMS61VhJEitOYSPYCWLfcBW7uUm6K3YX\n",
       "Wy2L2BB+j3NUD5D+E4rCUFmGhMjR6QyHJW1RyFffPm3QAbeosZKkChLM9bjsgKs4xE3SVWBypR/G\n",
       "+DfCCYjtY+IMm1eams6JSpTMexZFgY8xS9XYl3hpUa2GHHgpScZH75jLDriKuvGTxdpl6bI7Ok7x\n",
       "mDXLiP6E+crne0sLPUtKcgq1lF12yFVc5KZy0aoNv98tcY9gHj0Tm8XuX9OdWX/oYYSmg7okT8Vr\n",
       "5bBdxRFunl4NWvXQGtpYhycne8WEaVL1PjbMkmh+qbUp7v+3dWId+BAJdlRJdqwauJIhb9dopRb8\n",
       "ez8jtw48HlB+2b5HQFXg6peqTX8c/oWiVTb1vYgmtOdPJ3vVy1mT/gBS+MrsgZ2ZzQAAAABJRU5E\n",
       "rkJggg==\n",
       "\" style=\"display:inline;vertical-align:middle;\" /></a><br>(see <a class=\"ProveItLink\" href=\"../../../__pv_it/theorems/db5b6af49c23b6bf160e699ef3ce0558fcef09680/dependencies.ipynb\">dependencies</a>)<br>"
      ],
      "text/plain": [
       "<IPython.core.display.HTML object>"
      ]
     },
     "metadata": {},
     "output_type": "display_data"
    }
   ],
   "source": [
    "%proving demorgans_law_or_to_and_bin"
   ]
  },
  {
   "cell_type": "code",
   "execution_count": null,
   "metadata": {},
   "outputs": [],
   "source": []
  }
 ],
 "metadata": {
  "kernelspec": {
   "display_name": "Python 3",
   "language": "python",
   "name": "python3"
  }
 },
 "nbformat": 4,
 "nbformat_minor": 0
}