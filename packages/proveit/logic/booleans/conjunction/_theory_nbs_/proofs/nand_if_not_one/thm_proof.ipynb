{
 "cells": [
  {
   "cell_type": "markdown",
   "metadata": {},
   "source": [
    "Proof of <a class=\"ProveItLink\" href=\"../../../../../../_theory_nbs_/theory.ipynb\">proveit</a>.<a class=\"ProveItLink\" href=\"../../../../../_theory_nbs_/theory.ipynb\">logic</a>.<a class=\"ProveItLink\" href=\"../../../../_theory_nbs_/theory.ipynb\">booleans</a>.<a class=\"ProveItLink\" href=\"../../theory.ipynb\">conjunction</a>.<a class=\"ProveItLink\" href=\"../../theorems.ipynb#nand_if_not_one\">nand_if_not_one</a> theorem\n",
    "========"
   ]
  },
  {
   "cell_type": "code",
   "execution_count": 1,
   "metadata": {},
   "outputs": [],
   "source": [
    "import proveit\n",
    "theory = proveit.Theory() # the theorem's theory"
   ]
  },
  {
   "cell_type": "code",
   "execution_count": 2,
   "metadata": {},
   "outputs": [
    {
     "data": {
      "text/html": [
       "With these <a href=\"allowed_presumptions.txt\">allowed</a>/<a href=\"disallowed_presumptions.txt\">disallowed</a> theorem/theory presumptions (e.g., to avoid circular dependencies), we begin our proof of<br><strong id=\"nand_if_not_one\">nand_if_not_one:</strong> <a class=\"ProveItLink\" href=\"../../../__pv_it/theorems/6066f9cc32f9ffa5ce978753d48bfd23319aaa050/expr.ipynb\"><img src=\"data:image/png;base64,iVBORw0KGgoAAAANSUhEUgAAAy8AAAAZBAMAAADKyAwuAAAAMFBMVEX///8AAAAAAAAAAAAAAAAA\n",
       "AAAAAAAAAAAAAAAAAAAAAAAAAAAAAAAAAAAAAAAAAAAv3aB7AAAAD3RSTlMAq1RmmUTNIjK7EInv\n",
       "3XZ/CtNrAAAACXBIWXMAAA7EAAAOxAGVKw4bAAAH/0lEQVRo3u1aa2wUVRQ+O/uY6eyDNiJBE+ga\n",
       "kDRB6iqP2MTHKtSglVDxDxFMaoghEE2XhGAqhK7EH5qUZyRYojAIIZLyKC+VNqEFNCBEnCASQmhY\n",
       "BDVFKAUVCAbqfczj3JlZdxoIVOQkd/bOme+eM3O/e8+597YAvmRQRwbuyx2TCx1Jn8iaPvXeMr65\n",
       "l0aMbH5cMPWfJOZnVE/wsTUnD3ROL03PuasfFs7xQokppoohhYkJ0B8p1Rd4kZrRzXD+U5sHW9tL\n",
       "2/nwFT0lJTOyDuXmpSWpuW6s2lnygNzs3ycyc8YohJhKej+9MDGhavIT6RNxYz3uBD6XpR4M2GZz\n",
       "mEcvSDSZB4+bfAcQuCbCE4c1GPqj28z5cyBNSPn2is1ENF4IMe/TsLakMDEKnVp1fSKSjUX1EO+A\n",
       "UCkaMuox+3EevSCbarzxuIl8kwSZPwW4+hmZQaGrLjMbjpPLxIxfr4KZYNooKcZPNFmYGJiZn/w7\n",
       "LO2oHuM/X7WhMJN4otqs5tMLcuZB8MTjJkEyW4I3BXjkIM0K7S4zb5Meham+vYpmDvJCiKH5P+In\n",
       "+Y/sK2sACb/FMD6ecxfR2IorZgTIpxdF/wg88bhJoJt0034B3kahStppJnqZXj/w7VU0M40Xysr3\n",
       "HR2H/BAT6+g42dwXiAnht6jiKng8hdcDZs7Mp3esJazUKeJxk9gSUAdlMVy+wQJR1mmmXqfXL/x6\n",
       "dZjZygslZjzASj/EhLJQpPUFYiK476ax6yRYjNiaDkONWj69aC8jpT3xuMniVV0DUgI8etPbTFsO\n",
       "vE14wx1mxvBCiZkFcrEfYghqFs9W+IE3Veptmhue2jiZ+xM6iBwlN0eYKg319jeQZUrceK18ekHI\n",
       "8ucEeOCFJhczIO0T4PGr3mZOicuHQl4dZh7jhRJTpEW9s5N8dCc8XWxvMFfCTlbfiPKjesCzKYaA\n",
       "srpqxyc8D/ZvbbJe8nRVS4u7pQAp8rQSM1+XjpNvWaOPx5WSQL6WJ59AFhJ81HK92lqiiXpRBgJ0\n",
       "AcIjsZt8SudCFsNj3XwIqmNEMz/wAevXq2nGkMW8UGKknFfuX/TQcngkqoU0m5hyI/e3ofzIM51L\n",
       "2oQU+gxZ2rN97RH+gUzeSEJRu3vriyECMZYVD2I2A/TTQenSzW2OymtcH4KQLurF2U2+ahMgvLhj\n",
       "MppcIuW5HIbHWY+WwaILoplTLINk/Xo1zRgylRd2JFPzrEcQGU/PA3LpKDqSiQQZ8+EGNAAmH/Y8\n",
       "WWgQxkh/8k1smhKWzXgrkTWhlHa1xBAHMaYVFsosYo7wCARxQrKkWxu6F8DW96uWr4l610YvlER4\n",
       "x/aSNVH+IJfSagznWw+SkkaIZtgOJurbq2WGywheGDHbyA4lOHbR6UQFnaqkdpYfC0DZo/MxMdFh\n",
       "bPokIigM5970IkaAAOwFlW5sZTq7Fhi6evJSimv7JEAcxBhWiNZkfTYpq+g4oCv+bosY3TzyMvRB\n",
       "jXeR7n0UFqd+azDe6gu7SYJ0n3JFgNMtJ0Q1kxhLX09fr8W3V9PMqKe66Dit4IURM4/04tqpqVhx\n",
       "gnYnrWVUFmnLop9PQcTIezgXIXsfkYAXvYjBEOp65PP0MwN4Rg/yDIEBcdIXeVghX4FZp8vLeRR6\n",
       "1SSGzeuiLNJDVMd6lXYwu2yhr8niBcteBt7uC9tUhEykqXSLjeBkZR1uAZMYSy+RyTVF8/bKHDq8\n",
       "cjPq6H2w31j+VxnEkPQE7/0K/bJsg0BrWjjFA1+6E58uD2TDKptoB9lYYE8mYT9cXumMZBRiS1CH\n",
       "NXQwxHjkqmPz7hu+PD0rrjtiaQ9idjU2NuqWFTJyMXsLATb0zARp9ZVmg5gAta/kkB4WalgPdDXH\n",
       "LnFq8GGWUsHG231hNQmsvlQyYBlzaMFBfamkEixibP26pf3ZV3l4ZQ5Fr4YZeXMNXCd3P/FiH/sP\n",
       "hgYjeA8mySc4o7FxGSGmKeI69g+1br0OC4z1ZVVrqRaDLc4ERSFoGqRB/ov2On29pDKCEUNzkwTt\n",
       "ardIDIN4zJhiywqR4zgkoPWfpOf5K0fhfZogdl/4khG3xWsgR49lZJ0Xm5gD0An1Cq+NU5RmPmPC\n",
       "5S5ickBj5wkjkkF9Viaf4YhkFDJqyKhJX/PeTkKYhtsAiQ6JjLGqLyHlN8go4sKMQ4KVTza7iDGt\n",
       "EBmFp2O6MDGz4d1e9ZHdF7dCTC+9xrKhdJadydJiESN3k3FSEYImWjtexs8CRpPNhpMYGuQuM2Ka\n",
       "AF4jy0syspaD2kxuzQuHlC+JVQ9nqHoNNqXpI7K0/QUoMQS0sRoSZMIXVaOGJkTqBN1BTNqwwtV4\n",
       "C7eiIDHyJx++3JsuMvvi1ojprdd6iC/IsuP7OkDEhIthOsw6Bw1JUvs9BXUkQijHMvzPY5iYV4ph\n",
       "3ZVqSkxDMrQH1Ilv0bMaZS80ZJT99LLXgBRl19NlYkMyWNu6YxmtwLqqLo0RQ0DquN3ngJ0HNSR5\n",
       "w/02ZCBfJeHkb1jhewC8Cdxgd8WXf+c8x2JPT3dvusjsC58yt3b37fD6KiS282G2Arz+tGyEVnVX\n",
       "43LHkYwgJ1AuaEnQdGENW2s9OBz0FMoYZoWGMhMU1XI4p5g1PTFacy2XkczHIzMH946QSM+Km5iw\n",
       "lvesTDgXOJS0oJGeGwCvW4/M2hoSkwZnbINmRTm/zQbV9ujIpVlTi6Xt8G/E3PviIiYIvohxQVMe\n",
       "NRGVB44fuJzfJ6agvHNX/q9M/r/ycuFk6h9v8YGzbANxJAAAAABJRU5ErkJggg==\n",
       "\" style=\"display:inline;vertical-align:middle;\" /></a><br>(see <a class=\"ProveItLink\" href=\"../../../__pv_it/theorems/64045e01a48a85fe6ecd2579ab727625d43f96de0/dependencies.ipynb\">dependencies</a>)<br>"
      ],
      "text/plain": [
       "<IPython.core.display.HTML object>"
      ]
     },
     "metadata": {},
     "output_type": "display_data"
    },
    {
     "name": "stdout",
     "output_type": "stream",
     "text": [
      "nand_if_not_one may now be readily provable (assuming required theorems are usable).  Simply execute \"%qed\".\n"
     ]
    }
   ],
   "source": [
    "%proving nand_if_not_one"
   ]
  },
  {
   "cell_type": "code",
   "execution_count": null,
   "metadata": {},
   "outputs": [],
   "source": []
  }
 ],
 "metadata": {
  "kernelspec": {
   "display_name": "Python 3",
   "language": "python",
   "name": "python3"
  }
 },
 "nbformat": 4,
 "nbformat_minor": 0
}