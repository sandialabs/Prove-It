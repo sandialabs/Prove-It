{
 "cells": [
  {
   "cell_type": "markdown",
   "metadata": {},
   "source": [
    "Proof of <a class=\"ProveItLink\" href=\"../../../../../../_theory_nbs_/theory.ipynb\">proveit</a>.<a class=\"ProveItLink\" href=\"../../../../../_theory_nbs_/theory.ipynb\">logic</a>.<a class=\"ProveItLink\" href=\"../../../../_theory_nbs_/theory.ipynb\">booleans</a>.<a class=\"ProveItLink\" href=\"../../theory.ipynb\">conjunction</a>.<a class=\"ProveItLink\" href=\"../../theorems.ipynb#closure\">closure</a> theorem\n",
    "========"
   ]
  },
  {
   "cell_type": "code",
   "execution_count": 1,
   "metadata": {},
   "outputs": [],
   "source": [
    "import proveit\n",
    "theory = proveit.Theory() # the theorem's theory"
   ]
  },
  {
   "cell_type": "code",
   "execution_count": 2,
   "metadata": {},
   "outputs": [
    {
     "data": {
      "text/html": [
       "With these <a href=\"allowed_presumptions.txt\">allowed</a>/<a href=\"disallowed_presumptions.txt\">disallowed</a> theorem/theory presumptions (e.g., to avoid circular dependencies), we begin our proof of<br><strong id=\"closure\">closure:</strong> <a class=\"ProveItLink\" href=\"../../../__pv_it/theorems/fa4de50f0c54c6720f9c36153a5bc5cfbfdfe9450/expr.ipynb\"><img src=\"data:image/png;base64,iVBORw0KGgoAAAANSUhEUgAAAcgAAAAWBAMAAAC2zBEyAAAAMFBMVEX///8AAAAAAAAAAAAAAAAA\n",
       "AAAAAAAAAAAAAAAAAAAAAAAAAAAAAAAAAAAAAAAAAAAv3aB7AAAAD3RSTlMAq1RmmUTNIjK7EInv\n",
       "3XZ/CtNrAAAACXBIWXMAAA7EAAAOxAGVKw4bAAAFhUlEQVRYw81YfWjcZBh/mstd7nJtev4x3Pyj\n",
       "PRgOZdodWodFKJ12Iq3g2YEOnXIyRWzH2qpMptPG4R+KXRfEsl1BG50IY1uXDc+5FlyrjG1O5SZT\n",
       "dOwgpWwwsbVW6KpjnO9XkjdpcuO4FXzgSd783jcfv/f5eJ83ACVFKahws6SH6VKIVAKf/vUGN8fT\n",
       "N+07lCRVJNsChmwrk1nGboZNT9/0me4t59IUz0ECQyuDSVbhk5CqnORqpki6A4Z0l/fEyKzTnvJ2\n",
       "as9KncsonoP1GHkxmKSIbRmp3M3kDFU8ZUX+DUm7GYS7v8jB13AkI7qX5AY4FqN4Dt7GdteCSUax\n",
       "qbdXbkgxRRU367k5O+T4XBDuEg5fd9WBQy2LSd5TRfEcoRo0ayQmO9HpaOUkq5kiOXaCy2ZTy+xm\n",
       "EO4SB4+/scDh37HI/6jwi00yQvEchNDsRkolnnvRKVM5yVVMkd+Yf3KTmn/PziMBuFsc/C1ljsM3\n",
       "0wS0VXcseesDFM8B/FAonC1FsrpQuGhUTrKdKfJKWOPkMcGw4z0IdwmHtwh/cx1HaH7WncQzcs6g\n",
       "OCL5CMBQKZKiCjFyq8x36P7ZJZjkZnu2O2C3M2mRHsGKpiDcnVFtPJyMXuM61oI7g2rPbLneRnFE\n",
       "shekhPtBb7anQxM2SdTbS9oHuYiRT/syOeguHYSu589bHvgTU2QB6EMv3EdDAOW9C5ZlMC6P3aJ7\n",
       "cJc4uAjSX1zHXeSY4RPP1BM6wRHJmM6v+NHJbFpIjEKbUwwM4VFITnARE5/zJckPGVgxCKbx8h3s\n",
       "8iRTUD5srdcgOpMn8HKAGZYyCC6CmHfjbnHwK63r/uE6dpOvR7FX+M0iGQsbBEefL5h83mlFthCa\n",
       "RTAckg10fsL9XFWx8Ue/L+CHiCgMEMn4p16SIwC1iIeQt1bPQ3QAxWvT0oIbX7TaUlxGr7rO9Wwi\n",
       "oMZbMgYawbGNMs1oOXloYFJpUkHBoS/sfNLkSEZC5NOVCOfV5nO+lRs3hJQgpvHKqNddUUjVjFsk\n",
       "8eIlJsHBQzohyeGLSgGKi0gvAjTeP5OY2ovad9Pc6yaZITgmeRSthPs2paoTSgL2k1BSR2/nSMZX\n",
       "kSgxRcfhFXjYjyQ3hM6p2fq9FaUfMw2naD1GSdbYJaiFQzzvwt3i4BtIGSjf9y1MwCRqN5H+GRdJ\n",
       "wSQ4JrkDTf/rl6FWFQ1yKyIpKppDUiJJKKwq4yCxPLwR/oBww3qvt+IhVjtFLfnOJS7FY92BNHbV\n",
       "ItmMD9gQNg67dB6X59HhcIY1HFzCbxrukUYysMAtTxHb+trT8PUXFMckq/Bk10E/1CRhbTabTQqq\n",
       "bGS4Xchy4h5jR/6FnSyztY/V69Vw2Fu54SFWmfVSNvsBjsk4A3ZR3V/sBGF43mAkbyMpCjiczqON\n",
       "w3lsvxbWsHF5eF6HO4tdUGVGx0kY/EwdaMVT9HWXzwzjXQjBc9ZHnYYr0BeF96klocP0brVMwMFy\n",
       "gXkr9KkSmhaPt+IhjSsbO75Cec6glowrlqOpVO3lJe+/nr4Kr5VVLaqKJs2qILHHhY+zss4qo/IO\n",
       "SWkW2bJJpMt+KA1KwkMSu98cIXmAxEMt8otBfCEb5IBOdEiDVp3GO6ohRnKAq6D5KjqApLT33bZy\n",
       "SPYhW4a0Fqv2990XWCTDCVQs9P6O3oG9CtUNXpKPJuCz+TQm2Z8UJ0B+7AVcCqGL6Cno74mein7D\n",
       "hsTUz+FBvHHBa9HWrqz98j1MGZkvr5m+likWZ8sh+TiqgaQ6PXCftB04d7XkQDabLvFnALurFduj\n",
       "CncBgp3/VkMeMZOPZwddt+5nujSypwSeu9HvD/c/noGzSQizsjVSRGtx2K5hWcDDJ3AJ6vxqa8mk\n",
       "uiSi9ATj0yfLf17I/yIF/1/5D5X1oqhm3s9DAAAAAElFTkSuQmCC\n",
       "\" style=\"display:inline;vertical-align:middle;\" /></a><br>(see <a class=\"ProveItLink\" href=\"../../../__pv_it/theorems/f95f1d52d7ed3879614f2cf750c332bb116209510/dependencies.ipynb\">dependencies</a>)<br>"
      ],
      "text/plain": [
       "<IPython.core.display.HTML object>"
      ]
     },
     "metadata": {},
     "output_type": "display_data"
    }
   ],
   "source": [
    "%proving closure"
   ]
  },
  {
   "cell_type": "code",
   "execution_count": null,
   "metadata": {},
   "outputs": [],
   "source": []
  }
 ],
 "metadata": {
  "kernelspec": {
   "display_name": "Python 3",
   "language": "python",
   "name": "python3"
  }
 },
 "nbformat": 4,
 "nbformat_minor": 0
}