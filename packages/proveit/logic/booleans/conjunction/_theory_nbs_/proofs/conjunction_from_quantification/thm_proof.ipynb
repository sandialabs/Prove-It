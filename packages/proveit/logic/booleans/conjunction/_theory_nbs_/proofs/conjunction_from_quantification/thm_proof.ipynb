{
 "cells": [
  {
   "cell_type": "markdown",
   "metadata": {},
   "source": [
    "Proof of <a class=\"ProveItLink\" href=\"../../../../../../_theory_nbs_/theory.ipynb\">proveit</a>.<a class=\"ProveItLink\" href=\"../../../../../_theory_nbs_/theory.ipynb\">logic</a>.<a class=\"ProveItLink\" href=\"../../../../_theory_nbs_/theory.ipynb\">booleans</a>.<a class=\"ProveItLink\" href=\"../../theory.ipynb\">conjunction</a>.<a class=\"ProveItLink\" href=\"../../theorems.ipynb#conjunction_from_quantification\">conjunction_from_quantification</a> theorem\n",
    "========"
   ]
  },
  {
   "cell_type": "code",
   "execution_count": 1,
   "metadata": {},
   "outputs": [],
   "source": [
    "import proveit\n",
    "theory = proveit.Theory() # the theorem's theory"
   ]
  },
  {
   "cell_type": "code",
   "execution_count": 2,
   "metadata": {},
   "outputs": [
    {
     "data": {
      "text/html": [
       "With these <a href=\"allowed_presumptions.txt\">allowed</a>/<a href=\"disallowed_presumptions.txt\">disallowed</a> theorem/theory presumptions (e.g., to avoid circular dependencies), we begin our proof of<br><strong id=\"conjunction_from_quantification\">conjunction_from_quantification:</strong> <a class=\"ProveItLink\" href=\"../../../__pv_it/theorems/54731e77934516c4ba604eb6bb7671e4e5da4bf90/expr.ipynb\"><img src=\"data:image/png;base64,iVBORw0KGgoAAAANSUhEUgAAAqYAAAAZBAMAAAARVvElAAAAMFBMVEX///8AAAAAAAAAAAAAAAAA\n",
       "AAAAAAAAAAAAAAAAAAAAAAAAAAAAAAAAAAAAAAAAAAAv3aB7AAAAD3RSTlMAq1RmmUTNIjK7EInv\n",
       "3XZ/CtNrAAAACXBIWXMAAA7EAAAOxAGVKw4bAAAILklEQVRo3tVZe4gVVRg/9zlzZ3bv7lKB9lhu\n",
       "D6ww84arJb0uWZlZsdQ/2UOuZUhGNhYFltq1QIgsb4bpNdGxotpKdzMLSootkaAoFimV8sJdXRAL\n",
       "H4mbeoXsfN85Z2bOmZk77i5FfXDmzs5+r/nN+R7nHEKi6IKqRUZAic4Rq3DpYDVH/sNUoCNb3RHN\n",
       "WByZnUtGrIJ/Dw2/UD6IQ/PzW9EKz/BxI9JcSRgL8K8J/zSmRnGkKrJ8aqZqoZju9fPPjFao0syh\n",
       "+7bXlYSRqDFMW+Hn4oaYxuAnnh8WIpk8qoi0otKB06+Nnm3D3VhCun6Am31hmMZ7KFDrT7a9cTvn\n",
       "JwMkqzKqDDLpvxC/SKRvYJjoa1ASpX9hmN4CP3MaYpqkKZGkh5cSFzIVkVZ89Cf9Ht+JiT4bnqTt\n",
       "EEzfhUsL5Vtrc/5fCZnL/7lZcKkMXtpwa50EiMhk5lTf0HC2yCRh9DNMl0BaKDfEVG91csWQaTpT\n",
       "EWlFJf0vOg3oIElA8Sjm0kIIplPgspzG3fga56fUwXPPTsGlMmA+EffZepCITBuLqm9TxL86+Oi2\n",
       "EVP4+maucT6dG/7xomiQqYi04kt6J+g4RW+a4NXr+Ow7GdM14qYXLodLdPQwfqAmm+m5qpM/UBkw\n",
       "a9S8mPpEZNp3jupbL/EYg5HOI6bgZTqiRk0Ydp3R60xFpBVfHj5CB/WdjIGoY84/LGP6kgAGXVsP\n",
       "o8T4MVMwzmZdRIfK4MfUJyJT30uKb3EHE5CEkSyzuv9Dtfp9BKZN1eqenuEV7T6uIsqKSi1lFq2Y\n",
       "PNKt8S10FnwsY5rgLiXx9ySLSeA3BiiXiWWRFiSRxVUGP6Y+EaUSipIifEPDm/q5JIxsL8P0Nk8U\n",
       "hWCaLJGMPSxMY0WuIsqKStTn53bwyUm68xctpChMEpgmq0jHPDOSwqV9mWP8Zoq+WoJNojnYIAcx\n",
       "+DFVRWRKW/GC7BsaLjTlmSQMTFIU0/lEowgb7BuUAjGlDPPV9YIjAq5ZsmTWDeEyV8GseOha6sp7\n",
       "SqIg+hbx6Q6ft3Ui3oDz45/OLaUmrlBqVPwhFquAVPaPrZ90cv4XktRgHGGj5bWZZ0mVwY+pKiLT\n",
       "Et4qub6B4azVkmOSMPQTDNOMbVJbJtO+m0md/+a0Ld6efw35lF5nHNvShjiyfMNE4qsImehKEvJ2\n",
       "UYCOUctVMCvX1xz8wP+vZK+bSyL8WPZD2k7HHdew+aHW/Xe3Y4Ho5DlO8NtN1IyOD2Ilkq05SVBi\n",
       "gNm+h6akVgdTVUSmUYQckn0DwwYZbzNJGNogwzRek4vHq6NXkl3ki9+8mF6J10QfMftcTNmXXkf1\n",
       "CiCS4NghynK/A1OBq2BW8PX1/kqnJ7/LSavotoAupjtvxih4QMFUe8xyMG0pevjhNVl40w7S6HPa\n",
       "U4nBP09VEd+CcKPsGxomd3JJGAbHlBRv8MomaeYjef3SvBfTNK66YgWSPSJjmngdRETvkUE/+1h7\n",
       "Ls9TZuV5+AsBisBUPyWe0FA1jqYgpsg4JZ/utNzYX97j8pNZBnODdYA3sUmuMgTEviLi6/iTOck3\n",
       "NIzLB5CEofHYJ5tp+5nCFYAxkMMVIJVOSut9cwyA1JQjza0OpiCSXYG6maQHU6cVdTEFK2Sy9jtf\n",
       "AgJ4M+UMu+kmF9PsoHhK4yBRN45Cip4sz9MU/7QZAOZwp8tvDJqUE/8LKD3DkqDKEFCjFBE5MUFg\n",
       "FCXf0DCGO0jC0I9zTBfSV9vUAqAl40WDOXr1ZRKm2tdw97ytnU0cTKmI/g3++QxKejEVFZLERI1C\n",
       "K6T9yY+sLjbBi8So1eWdMto5pnjUpUX2gwYqVjROmKwL8mIqXhxz8BMefv3IU7zRwfDKYOLwMUiY\n",
       "mseJKmJAiOOlG/zHYF4t+YaGE0e4JAxR9yEpk2fHAdMHZoGt1oxaj7wvNQou1x3aa7uYgsjlX8Dd\n",
       "DJT0YiqmEGvYUAVYIT/mdHIP/mNpiWhvSWnLsKEszkMLyfUnxdu+QtXmyACk959lTFeLckfVTDu9\n",
       "zuUnZ1GuZpiXMdCmgyo/gxfT2Pl/nuUT+YnwCxaFc7HWSL6BYTZrQBJGote717eOt3qJRyuVFcQ0\n",
       "bcP27fW1iZuyIzIDQL2Q9WrTKmsrlTxi6qxEUnWvCu0YTdaTKpVKTm+zeex4CFrRMWrJbXaaNK1P\n",
       "xtRp5XYH8S8K63ybSwHrqMYiYQSGsYVYxEey1YOpUUdLLZaOE/TuF4npx3SbhCkTWTKVLRJbrMDY\n",
       "xyrrqEiUH9TIy2wCU+vd78su0vjTen3nBI4q2PwI3EPpCOKfEnrwUAjYQ2ksEkYdJJa70eaSU4iz\n",
       "3hf1tmBQNJfx1U5PgTzo25PWjkuYUhH4mX8upu9lUt13G7zpXhWx2ismX5FB/h2DhfBDYvQ4LWtA\n",
       "O7BK3CwI2z/NWH7+Bptgq8I27ctDxTRjLc/t4JIozfel+Dxtt6Dg0FK+gM6+RFv757N8mB44ZUvz\n",
       "tN3iIQjv1C8w1T47VfO85TKviowVu4ZoqwWmG/Yjh6V/60zdAEy7vFgEYmqU/fyZ8O3erlCEhnyI\n",
       "UU4OdHJJlL5KPTuJY0YzPq+sjDo7UT5oqoflQjZPZbdjOZ+KDyvBPT8ETsBjjc/5rBV6drLYz7+/\n",
       "wSFSLfj5/qFvZyx2JVF6l4rpfel7e8/sPEoNkqlc0mlqp0aeR6V8S5VHloUvBdxkOLwTnH+JxHmU\n",
       "S/nkgD00THVawis0JM13ZMmEZ1N3bMje6zz1wV1wWLQ093/G9IzPTR/3H877HijfwlDwDVBB9CD0\n",
       "tFJjXw7u+U9jCrMiW932N4ZicGm733zoAAAAAElFTkSuQmCC\n",
       "\" style=\"display:inline;vertical-align:middle;\" /></a><br>(see <a class=\"ProveItLink\" href=\"../../../__pv_it/theorems/d7812b80ceb44fa8619a83cb69bdedb50f34873a0/dependencies.ipynb\">dependencies</a>)<br>"
      ],
      "text/plain": [
       "<IPython.core.display.HTML object>"
      ]
     },
     "metadata": {},
     "output_type": "display_data"
    },
    {
     "name": "stdout",
     "output_type": "stream",
     "text": [
      "conjunction_from_quantification may now be readily provable (assuming required theorems are usable).  Simply execute \"%qed\".\n"
     ]
    }
   ],
   "source": [
    "%proving conjunction_from_quantification"
   ]
  },
  {
   "cell_type": "code",
   "execution_count": null,
   "metadata": {},
   "outputs": [],
   "source": []
  }
 ],
 "metadata": {
  "kernelspec": {
   "display_name": "Python 3",
   "language": "python",
   "name": "python3"
  }
 },
 "nbformat": 4,
 "nbformat_minor": 0
}