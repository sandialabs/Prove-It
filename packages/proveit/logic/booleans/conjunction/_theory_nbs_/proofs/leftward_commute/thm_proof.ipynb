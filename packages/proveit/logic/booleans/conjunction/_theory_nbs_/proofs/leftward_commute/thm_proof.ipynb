{
 "cells": [
  {
   "cell_type": "markdown",
   "metadata": {},
   "source": [
    "Proof of <a class=\"ProveItLink\" href=\"../../../../../../_theory_nbs_/theory.ipynb\">proveit</a>.<a class=\"ProveItLink\" href=\"../../../../../_theory_nbs_/theory.ipynb\">logic</a>.<a class=\"ProveItLink\" href=\"../../../../_theory_nbs_/theory.ipynb\">booleans</a>.<a class=\"ProveItLink\" href=\"../../theory.ipynb\">conjunction</a>.<a class=\"ProveItLink\" href=\"../../theorems.ipynb#leftward_commute\">leftward_commute</a> theorem\n",
    "========"
   ]
  },
  {
   "cell_type": "code",
   "execution_count": 1,
   "metadata": {},
   "outputs": [],
   "source": [
    "import proveit\n",
    "theory = proveit.Theory() # the theorem's theory"
   ]
  },
  {
   "cell_type": "code",
   "execution_count": 2,
   "metadata": {},
   "outputs": [
    {
     "data": {
      "text/html": [
       "With these <a href=\"allowed_presumptions.txt\">allowed</a>/<a href=\"disallowed_presumptions.txt\">disallowed</a> theorem/theory presumptions (e.g., to avoid circular dependencies), we begin our proof of<br><strong id=\"leftward_commute\">leftward_commute:</strong> <a class=\"ProveItLink\" href=\"../../../__pv_it/theorems/6bab144bfe7f10f5c53c302ed9e65a7cab5cb7870/expr.ipynb\"><img src=\"data:image/png;base64,iVBORw0KGgoAAAANSUhEUgAABV4AAAAZBAMAAAA79ijLAAAAMFBMVEX///8AAAAAAAAAAAAAAAAA\n",
       "AAAAAAAAAAAAAAAAAAAAAAAAAAAAAAAAAAAAAAAAAAAv3aB7AAAAD3RSTlMAq1RmmUTNIjK7EInv\n",
       "3XZ/CtNrAAAACXBIWXMAAA7EAAAOxAGVKw4bAAAKzklEQVR42u1ce4xUVxn/dl737p0Hs7E2xQR2\n",
       "DNqQrKxj2Dbii5GCFinpSP+pLZXVxpCS6g6JWbOK7tj0jzbZsksjFowpQ9s0EqAdsPXBRljASrXR\n",
       "jhUbQtx0yJYSELdbWpYtKOt53HveB+7IJsRmvoSZc77zPX73nt8597tnpwUIL3NGS9CUplw3yYy+\n",
       "1oh5d/OOzag0V3/Dd2thk6/Xb7fIka9ey3Bvg+F6P+C36+uUr1n8NS8kX1vwVyTf5NpMSAf96rEM\n",
       "9zQYzmTvnW77kFOVVIum29oeKOumNr1Fotveabtxi3ns9PSm2ZtKjQxAiECZPOHrMtxeG5KvsSL6\n",
       "SjSfYzMhHn1cRaZF5V7WsuklSeaM9sz67BmIrMzLuj8CtEwZbG16S8bUEEC7zG/mMon4fM6E0joA\n",
       "IQKtI3z9Mfp0hkLy1cW7cV+TazMhMcqjWLuw/L3X+bBFL8nubpM9s95xDH3cWZJ0zmWA+Ht6ZJve\n",
       "lrG/DrCmIC3AwMVFoeAOg491QFnJ5kBdhK+Jip3nev26zr7ymtKYpOjXrw8Im1TmU8WgadNLMvZh\n",
       "MNgz6wfR3MJqWRdFe2j0sh7ZprdlXIzSLa5L9XjgksHb9Jq87mMdUAp7c6BUBfM1irqJ0O9bC5uv\n",
       "XTMlN9Ntrf62sFmk3eBJZ9PLUnsUDPaBdZI8Sh+WI7RMoPk+oke26W0Z2/F6kCpD5tI6gfffqu5j\n",
       "HZDFEiiRJ/z78+joK6H5mhod/Ue1ybWZkBX0MQ6fzIuvYMGbhE0vSaTK3iVE+8C6v4Y/fyFHQHWn\n",
       "N6esR7bpbRlRubv9mPL+6LvMwnQbzOo+1gEIEyiZJXy9HeBnofkaK0Nrpcm1mZD7yecqGBTW/1r4\n",
       "mN+y6SVJlCIFg31gfaBuiDD45PiN+Qb0lozu++Mn7pfHeCicd3FVR2kdCBUoSp/v68HJhuYrMl1P\n",
       "a2JxwMxg73q9yBgBWNBcv8VH/1RTgH5+99HrbNoHZNNLgt6Vj4Nmz6zfKBkivF2CyOEG9JaMmQsA\n",
       "n5AONoVQeJtuL+oorQMQJlBkhPC1tZIsgtduuavO0Rfhc1nGV7QVv0jau4S3Ae9loys3efS94eVB\n",
       "x9224gXDuZ1oQuTEin370FdcNI+bfeFrknOrDkDtGKBLADQ0ZugmjAoYu/olMu0/WdqOHnpP03eC\n",
       "ljJk6J5I9d5wW0XWy3ITwDiI9u2S9at8RfIIP8cbb1nPSPWhM7Yi8iSnxCHusg1//Bu8W1WU/sDO\n",
       "PR9RBuCKgYLbP0H4GqknWPWvyMbZm+GjyUqswvna6b9uHRDeBpLnjHzlJtEaZEaCzucBzurGkgmS\n",
       "+3LklhDzDSXBd0PJ6Owc0fkqYpQ7BugSABWNGboZowwGrGrC1+dQkVYDd5xUmvAsWkC0RfUxiNVk\n",
       "vXaCuxsEezqLzPoNsiuV5Qjv4EdsXc9I9aEzzspKxwmSy/v4ct+Fjf9SUfoDBVipDMAVAwW71Yj/\n",
       "vv8FVv0rD1ZU2sK8eiHJ6wFIRAn14wPC6rv7LyYqCCYtBYhOBJ0b0H0xLCrRBN3lP6F/Bd88NiT4\n",
       "xoaMzrBc46uEUeqYoEsAFDRm6BaMMhiwql+jj3FIo2mI0PnBJ4VLgOtnFZ0pWS8vNrQEYznBns4i\n",
       "syYnr0k5svsufcSqGX196IyDqBZoOS+O8VCYxrvQ/Vig+AQD56G/LMOHKwfy73eN8nUvPlT9O6by\n",
       "bRtPZBaVaetNgDFsNf/jPxL5mryZbLaZhFDz1r9hPEXjJqkc7Ga1ziHw/mY4jRRN0Kstug43R82F\n",
       "rU7qSM7CxteqA1A6JugSAAWNGboFowwGrOon8SrCh4kTjK/4k/wMwNdHK5Q9TK+c++B6rVuwJ7PI\n",
       "rfGRPuyTI+O6053UM/r60BlRuQuD3dD16fHs2BYlFI7wUwj4yn2Cgc9QvvIB5chMDYSS4G0hOkT5\n",
       "ugHNpId3k6dX51PZTNZvlTzC7PnJp+4V+OocpPMc44ky8CUjFZBJL10+/WNdN7GC+PLCLxrKO9EE\n",
       "yRxmfhH8R5TaEZ3RGlqp8VXEKHck6M43dQAKGjN0M0YFDFjVe/Ctx3AvBOwhj67WsqCHZE3Ue5Pg\n",
       "fzyPrwY/F4GQxbcns8ijRNCeeW9FjpxA62r1Oj1joDdlJMmUjA+iRfKHinfLYTgIJ5RQCMV9BcZX\n",
       "7sMG4HfSAA7NL00LhJPgSipWpXxF9S1EMJrvvwWzylhLWpU42WHmQ+G0wFcg8xgvo/3E8Y/B7kb7\n",
       "RrxzmVoOYJPWkl/3eeiR2Vfx67jtBVj1ZlEtDbEJk98LZR+ks9wXdfRcqH6Ev6p8lTCSjpaUQIcn\n",
       "NIy0o+Wh0K+C0QdjuEARI5LHAHZMr4PItsmqz54WHMCtC3p4rCLq4Sj4H2mMg7y1bARuT2aRW8Mz\n",
       "m26gKJiuBf9M5XEANSPTmzKSZHLG2fjXMTlwnuuGKVqFSKG2fhkYX5kPH3CPSwMkNLs0LRBOchGb\n",
       "FfnvCQlLYS4MQDpHW6sh+sDWrY8jvu5MiHyl5sN7LsJD/mHEiuH2SgqeV4tfbJJidV9/0V1Q8es4\n",
       "5zyMeBNaadgvzDAuKyNB2TdY4r6oo+dCzu4Fla8SRtLRkhLoMKJhpB0tD4V+FYw+GNMFChjx7Re2\n",
       "6kjNcjoT8mRcmsVQMkMZW+ruCNh+RL3A5tVXaTAJftWCHwLna/oe/PkynIZ+l7aWum6V7q/xTo2v\n",
       "dcBljn8Sh+a27CCmK+UANuljZeeasn+ohuq4+BSU3BG1NEQm0SULl3WQaWxD/04Rc7TJfwcCX9LR\n",
       "cx1Gz446dN3VIfJVxEg7WlIKfUjDSDtaHgq9a17Xqt/YMfpgtFwyRrwrF67Onu/C9xqZWDqL18TX\n",
       "BjOmypkhZ6LcGF+dglNqLEmsgFLcJvB1VgZ2gjOB9tVFMdo6Np/+2esWoPWJyFdcKZwjXNgJcBfy\n",
       "RnvyZvCqqBt8UJPPAm6j+s47SuZzJ6njdqOZai1yY2YSOQ0vRapYvasImSIxL8GOOvOlHTWXgyo3\n",
       "9PbSOZQW+MoxMjRSUgY9WpUx8g7KI5lT6J1DqWKHBSMHo12gjBHLE1dlj7Plka80MrFoFq+Rr41m\n",
       "7EebX3So0Bhf+x55uNJYkvRDZfojQlYPnISBXDwLa2H9Gdr6Zx76EKnd10v0V9oiX+/IwjOTRcyF\n",
       "gVzsIHh3fgtiZXAPwUDJPYI/DvkmqABE7VsvDS/PkfkcyEV7hl/AddLt2JcaH+EmW7zuWA67eEv3\n",
       "n8EWGWSOSx7iG3TUXG9dGl5awnV4r8BXjpGhkZIy6LGijJF3UB7R3IfeWn4WllgwcjDqBSoYsezg\n",
       "LPnVJeNpW2p6eqKheuBkWMuZyvhVSJScuWb2/aBnv9np1elpaCxJ5pdA34XE/x4mp7a8327drPw9\n",
       "VpLjgtO+jF/M0dUbWOQELX5eBubJSl1IyExqkWo6KvRzJl9LLkjD2D3S3wsCjBFj0qCVfkrBGBHz\n",
       "aOYoTQfU8haMTGu5wAAj4UwdmhJeSOkl8DVe0VuyKHzd+EqOmSam/wPAq6egtb/E2+7ZvTxyz3RN\n",
       "SBOYeNlMseUU7zMLydeSC7ZDR17lK8bILOSkQSt5SsbIOjiP4aZsh5Mwt2TGyMGYL5BhbMr/JgJf\n",
       "o4bWFfmqmeYNLbkdNfuqU5i/srk9F2j7qx1B1GIRwtyKUQ5kv8CmXDtfry7f/v/4/w84zWn9gEpm\n",
       "9PB/ARrqWD5Avk++AAAAAElFTkSuQmCC\n",
       "\" style=\"display:inline;vertical-align:middle;\" /></a><br>(see <a class=\"ProveItLink\" href=\"../../../__pv_it/theorems/061dfb589184c48e847cab4c524c30f88f1284b10/dependencies.ipynb\">dependencies</a>)<br>"
      ],
      "text/plain": [
       "<IPython.core.display.HTML object>"
      ]
     },
     "metadata": {},
     "output_type": "display_data"
    },
    {
     "name": "stdout",
     "output_type": "stream",
     "text": [
      "leftward_commute may now be readily provable (assuming required theorems are usable).  Simply execute \"%qed\".\n"
     ]
    }
   ],
   "source": [
    "%proving leftward_commute"
   ]
  },
  {
   "cell_type": "code",
   "execution_count": null,
   "metadata": {},
   "outputs": [],
   "source": []
  }
 ],
 "metadata": {
  "kernelspec": {
   "display_name": "Python 3",
   "language": "python",
   "name": "python3"
  }
 },
 "nbformat": 4,
 "nbformat_minor": 0
}