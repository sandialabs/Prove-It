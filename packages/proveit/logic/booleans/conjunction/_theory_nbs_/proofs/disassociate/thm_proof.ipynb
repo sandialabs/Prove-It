{
 "cells": [
  {
   "cell_type": "markdown",
   "metadata": {},
   "source": [
    "Proof of <a class=\"ProveItLink\" href=\"../../../../../../_theory_nbs_/theory.ipynb\">proveit</a>.<a class=\"ProveItLink\" href=\"../../../../../_theory_nbs_/theory.ipynb\">logic</a>.<a class=\"ProveItLink\" href=\"../../../../_theory_nbs_/theory.ipynb\">booleans</a>.<a class=\"ProveItLink\" href=\"../../theory.ipynb\">conjunction</a>.<a class=\"ProveItLink\" href=\"../../theorems.ipynb#disassociate\">disassociate</a> theorem\n",
    "========"
   ]
  },
  {
   "cell_type": "code",
   "execution_count": 1,
   "metadata": {},
   "outputs": [],
   "source": [
    "import proveit\n",
    "theory = proveit.Theory() # the theorem's theory"
   ]
  },
  {
   "cell_type": "code",
   "execution_count": 2,
   "metadata": {},
   "outputs": [
    {
     "data": {
      "text/html": [
       "With these <a href=\"allowed_presumptions.txt\">allowed</a>/<a href=\"disallowed_presumptions.txt\">disallowed</a> theorem/theory presumptions (e.g., to avoid circular dependencies), we begin our proof of<br><strong id=\"disassociate\">disassociate:</strong> <a class=\"ProveItLink\" href=\"../../../__pv_it/theorems/e85cd9ea0d60eb8d3628c65a1613e35cf5a50b9f0/expr.ipynb\"><img src=\"data:image/png;base64,iVBORw0KGgoAAAANSUhEUgAABRYAAAAZBAMAAAC2m2+fAAAAMFBMVEX///8AAAAAAAAAAAAAAAAA\n",
       "AAAAAAAAAAAAAAAAAAAAAAAAAAAAAAAAAAAAAAAAAAAv3aB7AAAAD3RSTlMAq1RmmUTNIjK7EInv\n",
       "3XZ/CtNrAAAACXBIWXMAAA7EAAAOxAGVKw4bAAAKwUlEQVRo3u1bfaxUxRU/+3nv3t29b19KDTaB\n",
       "t43U0CiwFjClXywKjZQat/YfU6jSNg2R2rAkjc0rlrc1/qHJKzxNSYG05aqkqUFwpZqm76XwgFqs\n",
       "prLBjxDii0uREihFpAJPjbzO952ZO/ftvZjaj+xJ9u7Mueec39mZMzNn5t4FiE7TxurQpS79W8gd\n",
       "OxxHfGW3xT4sWd0mMBGZ4+Z2Y/Ejpb/SiAxpSStmC9/7/9Isd9JYLOGvayLGYgJ/JSvdmLpCSjbJ\n",
       "V/ac+XYYP4zWBFmpbW/3XrXZILtgorf37kZk06F2MO16uLeyLsh2TvV+zGpGhpDE3QqJxSW4vCpi\n",
       "LKZruMW6WeOV0q/p1xw55vJlUQzjK7Tbj+wJg3RhCKCvYbDyZ4DEeHTrmh1ZxX3JgxkvB1XOnIbk\n",
       "rZVOCIIvi68msfgTvDYMRYxFG8+i/d2YulK6mX4tuiTxdvoLcxhfmU1eE8V0Xz0oPdAGuKsa5FuX\n",
       "ATLvRLeu2ZFUnF+iEE1fCqg8cQRdbqt3QBB8RXweicWsFx7CwXxxtTIwuxSTRunMsG5c4h3/uJgx\n",
       "QvjqfvOGGi/+bm8jKL0Q8Ra2g/wUsp26HN26ZkdSyb6ALpnRgMo9KJJgRScEwVfECx6OxRSaJbOR\n",
       "9y5zu1uYD5Mu0qZb756XmK2HeCmMr1DR5ouY1X6rHJTuw91cD/ITaP3PHoxuXbMjqezFqHZVV8kT\n",
       "5x/ohMD5qni2QmLrL2NjL0aOxcLY2OvNblBdIaVp01WT/5S3MyL/DuMrdJ1I7tMwpxKURmnho0cM\n",
       "VlD+50xrRLeu2pFUrA/IytzQVQZa+PqbTgicr4rnSyQWbwHYGjkW0w3Ied2gukLKktjJlO33JV49\n",
       "yaaYML5Kq2AGK90OG5sBafvds8e+Y7Ky8Vdnr6pEt67ZkVTyl80qe9tG8UAbML4qnqJr7lqwSpFj\n",
       "EYmupRmrfMMcnc5HOuUYUUNc+E+NpmKZumq97fPQ3vEo/wlmvkJo91hk7ldhoBSQdtGe4vqKwcpb\n",
       "dUgeiG5dsyOpFC+ZVd5Qp8EQBMFXxZOjJBZzXr4GTl9I81mvPAtfKIlYRFPos6T8pLTdd543qvoi\n",
       "D70zspRX7G3LnjGcW8kihI4tGx4W6fGUkR3B+FG4uSCqXjH4q6MGvJjMRQVfdjdEBK2TJMs/tXjR\n",
       "u8iJGylvKsBZWqL8HU9/QuMrlGiAS2cU92eL+4Z4xwnpHOrU/LjB+i/wXNRwRnq9SNaZHYm4SuEc\n",
       "HeUMQqgcosO8A4LgH1JmBfscicVkG29drjXpbbh6E3wy76U9PxZns63LXmnrnT9v7DtfJNUCV+y7\n",
       "vghwJiisiCD6Zpk0B128DtOmVEnl5oKoesXgr4SKzxMCdbGweEEXFXzZ3TAXWSw6qOdQyrXhH3Rc\n",
       "oObcSUuUX4VbVX7ghNIhmRbsAuhpsY7zpXtKZLscsA54yl3YTkO6Fck6syMNYK5SJLE4k0MIlTfI\n",
       "/NbogCD4TJy31CjbF38JXZaZ1j2USsI17WreX6MhmyKDIDMoLfd3vGTqcUkkUYWUOMadgtrEMCJl\n",
       "EeTkC+jD843rUSTMCGio3FwQVauY/JVQb2ga6pz0mzq+4m6Yi2yNxtnE6+gzS5z8psvg8y/AQEPh\n",
       "q4QP1G5iSzQUR1nH+dIb0bqauBC0buNtUV+tp2aNR7LO7fgDmKvQk8UmhxAq5KgwDx0QBJ+J8wZs\n",
       "0VjcjQ8NX8UD/+YNx9wFDVp6E+A4GQCfWi/HYv5aMl+4WSnHbH/LeFTlixTKsFPkHvvBeTkorYig\n",
       "XRZy12Y/xcLT2P2B5EHl5oKoWsXkr4Q6tNVQ56Tf1PFld0NdRE7iofF1oA/vaFcWgT+GZvzP0Vj0\n",
       "+dqJCLDH0JkKfWb4qmoFpYWwcWXQOs7/7IuQ8kikdLTO7cz77NnS8c2KKXxoDnmPQwgVfDgOw50Q\n",
       "BJ+Lk0iD1BCNxftQhzl4wD++olIouSVWqjvk3Ghm/rHlUixa+2h3pn0cF75s7HEkci/tn4Hj86aK\n",
       "Dro8d5EhJZNFEE2Tp8yWybzGzUmoiguGQYL8tb6toSYryw11MN8M4E+DCC7SkwsLL+Xb6rwr8ZoE\n",
       "uLMFH/6g8J9CP8G5COxCVqUcbr/7cOES7ThfGu5BUfonL2Adssj8Cjzp5FsynxgVEL51ZseZfwD2\n",
       "wTHV1JwKZIb5YPJV8IHUcq8Dgs9n4iTS6GnXXJp90lPYH/0NehrkDAyXvEyFJgbVU1IsAumOTANl\n",
       "ThabOe5A+V9m9hJ9icYiuTpLER20Mvd7LEV7tAq3v1lTxamIoD/SuCUIBbL46QiFqikWFcdIJYBE\n",
       "/IWfa47lyFkVqROknHx2Jd3U8emPou7qUAV91bZb4Gy76MGnJ77Ho4VsVDaAxLePynwoYiOvALsk\n",
       "MJyN+v+JidWQ3HaxSY/PhfTV+A2IMujWIYFfdXgE137qyXxiVEAI69yOtWsljNM0wFdxlvaSriAQ\n",
       "vgpsf3hKrROCxKfiJNKQQM1/Z4yewk6HQXbuMB1WQOruLVseQbG4IyvHIhUfefo9uJ/t2ZeN9HkF\n",
       "eEpPNrFIQaSIAzV7lsdSNOsCjDraKylExK/ijC7JEAr4l5Z1BMrVY1FxjFQCSMRf9jTOd+wayDRZ\n",
       "nSDROiPppobPfhR1V4fSXEQkHx7PCtmu98c6cUqHPHkIs25tjWMdEm17FA7HgoiJMJ08B/wx+LFY\n",
       "/Aa+Pg+nYMCmpcW23aTzYmZ2IBbbgJMCdqKFuqhhoSjWlmgs0s9TRLirwY6hUNaVGYe6re06iUjq\n",
       "prlLriNLRC/6nGQICbSyuXUdgXJTSz7TlGNRdoxWAkjU3yHNsSFy4k/qBGlIfgIg3RQuUnz2o6i7\n",
       "OpTmItBXADp1ZdWK8x4U7bjosfgD+GGcSCk03CHrXCMOREwEHGn0pREeiz0u7ADrHIrSBWlaOjKT\n",
       "dsZ8oPmCHIt49T5PunwHybl70ODfBE4TVfmFinwecNl6Dxw0QaNuQ+IDHuxEM3au5gsLkeQpeC7Z\n",
       "xOwna+DWGILzHMAJUBE4F2m0pFj0HRMuKEjC31RTdQy/k3knryMkWmcq8k3movAK6frualCai9jL\n",
       "eseu7H/wgTgTI+q4WJPW5ge/EidSBtDMmBqqxoCIiUAjjUwNYo0+AYPlTAlWwdrTtPT3CvSj8WC/\n",
       "Vqdv0Mqx+NUSbL9Yw10+WE7vA+e27+KHg/Z+GKzbB/FlPxNBeQUq3/j+yNIy6bbBcmrNyDM4b7kF\n",
       "61Lhg77IZmcl2vCjurN4z2kAigDbl531QEUQ3Klss5bTHBMuKEjC33RNdSxNDlVYHSHROgNTblIX\n",
       "BT7S9d3VoDQXcarlv5y3bs0eY+ccmpiItUafMLLDrBcmJmK9r/s1yNat6V4MiJgINNLIGJX/Y1DW\n",
       "S87vt2zSngEqdFRSGnZxxiQ2nlyiLHHxcsbF815bAhQirWSzmJLq4Qic23Lne8pZN1dLGpF4qfiY\n",
       "5phMw+4kjcdcLEu6k0MJFzGthy4Z6CSosZjxgiWVtFjc8GJZiGYnPgDwUxde2lP3y/aZ3b7lNRMt\n",
       "CYaLOCW3ljjp18MRONcpJX8LeixiNSGqIvFS/qTqmEwEKYyYi9wO0Z0cSrjYpclJisWUoTRpLAZE\n",
       "K4aSWk6ZdfU/0FQ6IgRczEEkG6kQibiUigfVpXix2Jm+/1/8/+junz3/x8kdO/AvMc/0X7vdIygA\n",
       "AAAASUVORK5CYII=\n",
       "\" style=\"display:inline;vertical-align:middle;\" /></a><br>(see <a class=\"ProveItLink\" href=\"../../../__pv_it/theorems/ffab9e7f9db881b93e2b7fb4700eb648f65c5b110/dependencies.ipynb\">dependencies</a>)<br>"
      ],
      "text/plain": [
       "<IPython.core.display.HTML object>"
      ]
     },
     "metadata": {},
     "output_type": "display_data"
    },
    {
     "name": "stdout",
     "output_type": "stream",
     "text": [
      "disassociate may now be readily provable (assuming required theorems are usable).  Simply execute \"%qed\".\n"
     ]
    }
   ],
   "source": [
    "%proving disassociate"
   ]
  },
  {
   "cell_type": "code",
   "execution_count": null,
   "metadata": {},
   "outputs": [],
   "source": []
  }
 ],
 "metadata": {
  "kernelspec": {
   "display_name": "Python 3",
   "language": "python",
   "name": "python3"
  }
 },
 "nbformat": 4,
 "nbformat_minor": 0
}