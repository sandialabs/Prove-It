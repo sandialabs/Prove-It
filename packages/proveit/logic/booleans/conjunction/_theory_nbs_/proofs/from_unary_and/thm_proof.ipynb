{
 "cells": [
  {
   "cell_type": "markdown",
   "metadata": {},
   "source": [
    "Proof of <a class=\"ProveItLink\" href=\"../../../../../../_theory_nbs_/theory.ipynb\">proveit</a>.<a class=\"ProveItLink\" href=\"../../../../../_theory_nbs_/theory.ipynb\">logic</a>.<a class=\"ProveItLink\" href=\"../../../../_theory_nbs_/theory.ipynb\">booleans</a>.<a class=\"ProveItLink\" href=\"../../theory.ipynb\">conjunction</a>.<a class=\"ProveItLink\" href=\"../../theorems.ipynb#from_unary_and\">from_unary_and</a> theorem\n",
    "========"
   ]
  },
  {
   "cell_type": "code",
   "execution_count": 1,
   "metadata": {},
   "outputs": [],
   "source": [
    "import proveit\n",
    "theory = proveit.Theory() # the theorem's theory"
   ]
  },
  {
   "cell_type": "code",
   "execution_count": 2,
   "metadata": {},
   "outputs": [
    {
     "data": {
      "text/html": [
       "With these <a href=\"allowed_presumptions.txt\">allowed</a>/<a href=\"disallowed_presumptions.txt\">disallowed</a> theorem/theory presumptions (e.g., to avoid circular dependencies), we begin our proof of<br><strong id=\"from_unary_and\">from_unary_and:</strong> <a class=\"ProveItLink\" href=\"../../../__pv_it/theorems/b6b857f5d72e5bd21317fe2c9a61efc94db380910/expr.ipynb\"><img src=\"data:image/png;base64,iVBORw0KGgoAAAANSUhEUgAAAG8AAAAWBAMAAAA8xt9aAAAAMFBMVEX///8AAAAAAAAAAAAAAAAA\n",
       "AAAAAAAAAAAAAAAAAAAAAAAAAAAAAAAAAAAAAAAAAAAv3aB7AAAAD3RSTlMAq1RmmUTNIjK7EInv\n",
       "3XZ/CtNrAAAACXBIWXMAAA7EAAAOxAGVKw4bAAABrUlEQVQ4y52TPUsDQRCGXy9f5I7E6y0Sib1p\n",
       "LGwkhV+gYNAmwSYWIqTxbKwCOUtBMIUg2niFjSAS01ikiHaKKP6BwP4AUbGIYhNndnPHJUjgHNid\n",
       "2dt9duZmZoH/yC4Nk41MQHCbxhwbW8E4rUvTHo1YLRgYTllA1AGMdDDwpmUDoSzBwbiYeGdPT+32\n",
       "Y8BIMUnesAicyrUj55ycHyyppinnGps6IDxwFYd1UjuIyZLo9/KrypPZO0N6ivWlTX5cyaHK+3HH\n",
       "yPPS+BwAy1Lr8o5WGpF6j0sezab4lCZUbgrP/WBoTOow3xo5EOoilitg9IWN0oxci41+MB53WCek\n",
       "kyh9aHiRInHLRkNelcR8P5jh2EzZlhDhEjChuAjX74OtivyLAl77wRon20SRz9pJclFUYIXz8sXW\n",
       "iM3zUjPl+EEti3XW41y45vUPsC93LrplaGcdN1MUKaq2H4xzvknzcYHYtxfqgKxRqtJ+kF5aRKjk\n",
       "8F9Rrd7+7KI76CubfjAn80eeLSybOO/kcTy8EQc7x6u7XgsGYsENygoIGqr5Vc8OEXXvSe91CO/V\n",
       "uMqVXy78WfrRo/ibAAAAAElFTkSuQmCC\n",
       "\" style=\"display:inline;vertical-align:middle;\" /></a><br>(see <a class=\"ProveItLink\" href=\"../../../__pv_it/theorems/b128ab1a3dfd72722b48f81904ee0b9db19847a00/dependencies.ipynb\">dependencies</a>)<br>"
      ],
      "text/plain": [
       "<IPython.core.display.HTML object>"
      ]
     },
     "metadata": {},
     "output_type": "display_data"
    }
   ],
   "source": [
    "%proving from_unary_and"
   ]
  },
  {
   "cell_type": "code",
   "execution_count": null,
   "metadata": {},
   "outputs": [],
   "source": []
  }
 ],
 "metadata": {
  "kernelspec": {
   "display_name": "Python 3",
   "language": "python",
   "name": "python3"
  }
 },
 "nbformat": 4,
 "nbformat_minor": 0
}