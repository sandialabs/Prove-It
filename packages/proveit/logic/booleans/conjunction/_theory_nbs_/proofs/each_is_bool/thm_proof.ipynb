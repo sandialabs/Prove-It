{
 "cells": [
  {
   "cell_type": "markdown",
   "metadata": {},
   "source": [
    "Proof of <a class=\"ProveItLink\" href=\"../../../../../../_theory_nbs_/theory.ipynb\">proveit</a>.<a class=\"ProveItLink\" href=\"../../../../../_theory_nbs_/theory.ipynb\">logic</a>.<a class=\"ProveItLink\" href=\"../../../../_theory_nbs_/theory.ipynb\">booleans</a>.<a class=\"ProveItLink\" href=\"../../theory.ipynb\">conjunction</a>.<a class=\"ProveItLink\" href=\"../../theorems.ipynb#each_is_bool\">each_is_bool</a> theorem\n",
    "========"
   ]
  },
  {
   "cell_type": "code",
   "execution_count": 1,
   "metadata": {},
   "outputs": [],
   "source": [
    "import proveit\n",
    "theory = proveit.Theory() # the theorem's theory"
   ]
  },
  {
   "cell_type": "code",
   "execution_count": 2,
   "metadata": {},
   "outputs": [
    {
     "data": {
      "text/html": [
       "With these <a href=\"allowed_presumptions.txt\">allowed</a>/<a href=\"disallowed_presumptions.txt\">disallowed</a> theorem/theory presumptions (e.g., to avoid circular dependencies), we begin our proof of<br><strong id=\"each_is_bool\">each_is_bool:</strong> <a class=\"ProveItLink\" href=\"../../../__pv_it/theorems/b0e1ddd43dddec2eac458a52904c3cc5ece14e290/expr.ipynb\"><img src=\"data:image/png;base64,iVBORw0KGgoAAAANSUhEUgAAAsYAAAAZBAMAAADAsfVVAAAAMFBMVEX///8AAAAAAAAAAAAAAAAA\n",
       "AAAAAAAAAAAAAAAAAAAAAAAAAAAAAAAAAAAAAAAAAAAv3aB7AAAAD3RSTlMAq1RmmUTNIjK7EInv\n",
       "3XZ/CtNrAAAACXBIWXMAAA7EAAAOxAGVKw4bAAAHEElEQVRo3u1afYhUVRQ/8958fzxnwSIRdWRL\n",
       "FtaWEddAqBz8SMWgQSHMNd2yED+oMUHYqHaS/hE2HYItd+lj1iSQNRoFoXahVtOyzFpiMVkceIuW\n",
       "rJptUlZG2bn3vjvv3Hlv1kGN+mMuzHvnnnvveb/7e+ede+7dBaiueIrfQa3cRDGK31bb1V9jy7Vk\n",
       "btw6u8bxrXlpwl195vWrJ+8AWCM4jrNbfRUce9hNS9Z4paURf/o7P9fduVvVh3zmtp40GEnO8SKm\n",
       "Wl8Fx940u2VqvJISbmXXaA5gWraM42Qkg+qNnOOX8RrIVcFxkHl8W41XWrz8s243AdamyjnWE0hY\n",
       "M+fYnweIJKqJx+ydHKzxSkuUX+ehD88zuThaLLaWOEYpmmcc68mqFjS/WB9ba7zSMoNfp+FvMw+i\n",
       "j16w/diztYC0JTlvJ4vFE1VxHC0WzxRqvNKyjF+/AOg5zYTARjtWXPhxMt4jcc7xEoDuqjj2ZiGU\n",
       "r/FKyzp2Cf5xeWSdICljc3zqmyEkS2/lHG+BQLwqjrHbFrGa0oYKrN+mlyFWEi3jYjI87oL/L6TC\n",
       "Ljq+hTN+A5iZVDcRGCuMOejV2gDnOJSPpF2NBoYOwf1xsgfphkNc3k/ylPBx9zkq6h2/9C8VY0aW\n",
       "9fWVQE/s73V5FbQLiIRnjtuT9mfHIcTRaEMof0RFIOV9rcxB2/TUkMwRjnE+kcfI70zqKGLJWRxD\n",
       "rgV9fIxzrJluS97OSZ0wPZL35gnHTdaS9wlJQyJXXJGpan0QjAEmPJ7giHjxoRO86RxJu1gch+OK\n",
       "SX9eReGn/JQ3SpUFgcvkERtVIE5TpG+LRYtZeK6BcjwB4el/M2kf9WPIhdD2gJUrPOiS+C1huz8z\n",
       "FaF7ab/OExRfh2l3XPm1K8eq2pMCfYy5wJf4k4nkTJzC3Y6BSheLY777sU3OKqgoZtGFuLxRqiwI\n",
       "TCaP0CerQBymKBzknNNiFiJ7aKzYhXHC8yuTYirHyJk2KDg+iC9TX7BzxJjLPiaUzgGcZR0b7nlJ\n",
       "4Tgyg79mw0/it/mEK8eqOpqA91nAakfvCloeFmBuud0xkHaRHMdUk7luFUWOLtnljVJlQWAyeUQI\n",
       "F3EKxGGKwsFdBKfFLGyVkeZtdvkJV4td/As3TIXjJmQzJzh+AfG8uzoZjRsMGJMyYT63hsieFspx\n",
       "4LCYrLeVLAQPua8Pirr9bPNd7D6F+vag68uZolY5jm2KSS3ZoqCw6u6NJZWAwGXyiHpfgQJxmqJw\n",
       "tJSgxVz4lYzsB9hlM343n4kg86TNcSFyEf3fWxAce3DE8z/AhCxTcCnv48tkA6RGlXM3TpQvi4Et\n",
       "YL3wlXAJfE2LHKEC1aQ8AOGJ7H5UeDAfG+VfoGPsUReOHyuZbMOphHgGyVEsP5eWdTk3u1FVCQhc\n",
       "JihyuI4TIE5TFI4vJ2gxC698b6lexd+k63V1GyxX7+kU443NXfzcDWJpcrY5FToglhDSatA3dHW9\n",
       "hhz3+p1nm97+A9dg+7CVhPdPy0fhA0dujmpSxdm1s5jKIqpmjY2y7yrhGCu6qBxPlyaD9+bZGSE6\n",
       "n0AxEB6TdemYdqOqEhC4bKPQkriQESBOUxROMCdowXgsQ2isPH1peauobIVfpOfHx2EU2oNCWhgM\n",
       "FoQf+5qcHJsQwERlWOaM7dkAvh5HKtme1efPXtQoMBwBWMukOvydt8Z6MDAZGcdY0aV5RSPheIc0\n",
       "CbE8V3VbKDLBAVm334lsbK5vXv5hSSUgcNlGEWKZKwHiNEXhaClBC3Isc2U9dYOkegHhODCG/jvX\n",
       "C71MOt0gHoVp6YiDY/a9XOEIewFWYOaCzt/JKuGCvAi1NgrHtALTBK5BeIgJ+9NgpK2xYcx72CfX\n",
       "SQaWujTlYmVrnngScsxOsNdIFKG0VbcM0MamXDTdCJZKQBCyjaIep2PaQFxMUTi4onVbHO+UbLwx\n",
       "PsX8QFNy7IvDethyAToSKF1MQhu6XfBURhzMKxw/HIe9V9MMYUfCexjCjzzNNtlYCX4OHRl2kerd\n",
       "4VZvAoJH4L4/+5dyIbzwY3ZowsfC3mWX83yDjg1iYKbUxZPdRjgOZcAyiRx7WbiSKJaAVbcM0MZQ\n",
       "9j2YL9sFBCHbKFJ8Z1EC4mKKwkEYjBbtmU1dpb9U7Buf41AGXP7WZAXv8EddneV7aaUM232hzyAV\n",
       "WxrUCjGdRFet0lg7/kopBmdX2RzbQTKmbsciebPy/GLQCIPj/NlmWK32GeOZYnD2udASMMfl+Dy4\n",
       "cOzLVz6vULaBJxKlvv7rf9GBUgrHjbQHH7JKNqyqNLbUoyT1QGOS7KUXy1Xnknp+/ez1wcrz68EI\n",
       "MLXyn20YCjo/BqSyKQZn8U0edJRzrEN1HDv66hVNJB1CeackuHUhHEf+D8d9evo2cVz53O2/+f+K\n",
       "zG09xbulcpNHeUbx038Asr81wtKCZs4AAAAASUVORK5CYII=\n",
       "\" style=\"display:inline;vertical-align:middle;\" /></a><br>(see <a class=\"ProveItLink\" href=\"../../../__pv_it/theorems/06c6b5cf07ca61ca4c47790c2595e94516eb02790/dependencies.ipynb\">dependencies</a>)<br>"
      ],
      "text/plain": [
       "<IPython.core.display.HTML object>"
      ]
     },
     "metadata": {},
     "output_type": "display_data"
    }
   ],
   "source": [
    "%proving each_is_bool"
   ]
  },
  {
   "cell_type": "code",
   "execution_count": null,
   "metadata": {},
   "outputs": [],
   "source": []
  }
 ],
 "metadata": {
  "kernelspec": {
   "display_name": "Python 3",
   "language": "python",
   "name": "python3"
  }
 },
 "nbformat": 4,
 "nbformat_minor": 0
}