{
 "cells": [
  {
   "cell_type": "markdown",
   "metadata": {},
   "source": [
    "Proof of <a class=\"ProveItLink\" href=\"../../../../../../_theory_nbs_/theory.ipynb\">proveit</a>.<a class=\"ProveItLink\" href=\"../../../../../_theory_nbs_/theory.ipynb\">logic</a>.<a class=\"ProveItLink\" href=\"../../../../_theory_nbs_/theory.ipynb\">booleans</a>.<a class=\"ProveItLink\" href=\"../../theory.ipynb\">conjunction</a>.<a class=\"ProveItLink\" href=\"../../theorems.ipynb#leftward_commutation\">leftward_commutation</a> theorem\n",
    "========"
   ]
  },
  {
   "cell_type": "code",
   "execution_count": 1,
   "metadata": {},
   "outputs": [],
   "source": [
    "import proveit\n",
    "theory = proveit.Theory() # the theorem's theory"
   ]
  },
  {
   "cell_type": "code",
   "execution_count": 2,
   "metadata": {},
   "outputs": [
    {
     "data": {
      "text/html": [
       "With these <a href=\"allowed_presumptions.txt\">allowed</a>/<a href=\"disallowed_presumptions.txt\">disallowed</a> theorem/theory presumptions (e.g., to avoid circular dependencies), we begin our proof of<br><strong id=\"leftward_commutation\">leftward_commutation:</strong> <a class=\"ProveItLink\" href=\"../../../__pv_it/theorems/64c69de1ee4154dca1a682ce1424508fe8f537410/expr.ipynb\"><img src=\"data:image/png;base64,iVBORw0KGgoAAAANSUhEUgAABIsAAAAzBAMAAADld5VWAAAAMFBMVEX///8AAAAAAAAAAAAAAAAA\n",
       "AAAAAAAAAAAAAAAAAAAAAAAAAAAAAAAAAAAAAAAAAAAv3aB7AAAAD3RSTlMAq1RmmUTNIjK7EInv\n",
       "3XZ/CtNrAAAACXBIWXMAAA7EAAAOxAGVKw4bAAANS0lEQVR42u1dfWwUxxV/973e+/BZpTS0Db6W\n",
       "FlER4Ko4qCRNfYDTFgHNFaQqbUhwVFVRSFSOfyLRUHyp8kejWrahocJVGx8lQgXz4aAkTbAKTlIV\n",
       "aNTGSWiEotAc5aOCUL6xDTS+ztfu7MzO+vYanx33biTbs79785535rdv3s7MswHcF33HjhxUS7V8\n",
       "PFpEC4XUBL3VzdXRHv2ynbKnplDoKIlG6Yl6w55kddBHv2jvsYqvQmj0OfEyVKVACSXj+MmsyqKR\n",
       "r1m8/iclU7Na2gl3Ko//n9PoQcdPwvGKotE68YHy9pAfwYtqaSfcqaxW8LbrUt3kze5xR/6PIK+f\n",
       "qftUqEeAYl3X6zo/o5A9U9gwZUPGvV1BUcw5Ininomj0D/FyG/0xx0qXvbzqhAuF496C5fFMsEoE\n",
       "dWx91j3upF2StzY5dxa8S5OieC1ypI0JhZ4BNNaXwb1dQdEqx469LVdBNPL1idcL6Y/5g5ZH+11e\n",
       "d8IFV8Bxfz1/zHcZ82FLHmBlyj3upF2StzTZfhR9uzcjircjcX+fXY82jL4tAfd2BUUNjj0bTFUQ\n",
       "jSKi6wfaPeEnhixe/KvmvTnhotfn+B8OcG9x4tOs0oiwxrx73Em7JG9p8hh2BCsk8QtIPHDFrieG\n",
       "b2ll0r1dQVHEcVkoMFhBNLogdoOXPorrYxYvH9XMnnDCxa4w8VD+Ap8h+p9mlXo80Bn3uJN2SZ43\n",
       "CZNf8ilJvAv/QjftemrwPN3S496uoCjoHBw9VEE0eku89NPuTHn5Ywsz4WGj6oQLheN+mJPksXuQ\n",
       "DflhgC1HwT3upF2UtzRp6cfffy+JX8cT2CW7nlo8zu1x93YFReG4Y9fOyVUMjbQhaUInwx5IaPyx\n",
       "Rd33JcNPO+Bi4fgyaDef8mDGS4MF7fr54z+0WCyGO2mX5C1NDuRV4jgE8t20f4BDHWjscW9XUETX\n",
       "S5Yew0V6JPfkK4ZGHinCjiaoFwmhp02fS7stDtGc4V0w3v38ZyVcZCbHU9ASB72e1J8EoAu7MRQz\n",
       "3JY0tNtwpp3jTtqZvKUYTT7IqMTxA+O5BlubpQ9wqAP1afd2mSLmvPoc+7amv2JoFJF8coTcxpmm\n",
       "+chzt/2bMi0LMfZ4UzwFSyVcZKaJx55pqkedOJ1c3AJwnvYu6vjwkKHdhjPtHHfSzuQtxWjyJrnK\n",
       "SeI4BKrt0873S3pwqAP/KcEuVWTQy3khzTdYMTRqTypopKP++giM9fxtCKBdz/Br0JIVcNvKE8N3\n",
       "o+5GtcWkLXICu2gsgpjrGza023CmneNO2g09/JXcaPIBcRNZSRwPZ2MSvP2SHhzq+K6UYJcpYvO8\n",
       "szfSr1QMjS5kFJOaH329b9IIL7stYHMawe+kHc5x+zLdAjanQRT18t+NRT1/wmAunhNmgRJn2jnu\n",
       "pJ3JN3ztfPzEZkEVWTEKy+LoGdBRVM5oZH5AQp2dHSXYpYp8C9tOgqFOGRvBqxVDo9/I8zl23MuB\n",
       "7mLQgcb9RLfGDBz+KOJiMfFAkmye6MTtR8HYkMPMbW82tNtxqp3jDtqZvH7H62i4jgtN8Lok7JPF\n",
       "EUlqmk0amR+QUOdXUIJdqmjrimQkMzJLflsxNDosXeP31xD2010ZNtA+PCY1+EE1cXIIguN7UK/r\n",
       "A6xiwdfhyiBbivoG/kacxmOIYH/OGTSy4/SIhYkTpaYJrp3Jh3Y3wxCdN80meFXi/pz4y2P+B46Y\n",
       "7oN/gHcJH8DvZpJd845ku0zRT05Dbc5cIVGWA4xGJP6c5pZGHjIlT6jTO/pV+YWkH/SugRx8pfAo\n",
       "G2gPHg8NO3ITX5uz4hDFg3DEqJj49sIq8HYN9NCOJq9BbehrSqGu7pGE6evsONHOcaLUNMGtGvKe\n",
       "vNYHbwtN4LkNk+hTLYhPeSZj0sj8wNN1qa7zW2C3y+/oiFrRVLJOPpL7aExTGt1DFwxc0sifJssO\n",
       "E2rZaFhGrOt5s9SNQqlQKTcZ/YEaHx3tEMnGOkIXs67lvf2jYxcOQZMG8NOR3l/ylEZPYvUdbmmk\n",
       "Yee1dkLNad7LMtJQfKDX/vypXAk2amMl0ahE7dCC/JGvI/WxaVSq3dBFODrD3MpWlj0pSqNgzvnc\n",
       "gCI2WgXOhyc+mcU3ZFsz44/kE6v3Kxu9WSiUYsN/SgmPknb4LpoAQlNdMyD00s38qNgNxOHD5MhO\n",
       "Bi9JYBr58LuG+xD7dvSzeULRKDZoi5Y6oFrcl5qRJkKywoTf1P567Ngb7mkUOXbs/Z4J1QvhGzZo\n",
       "fZUbJZR/jRi2NTMafRvg1+5p5M9CDfGuuvUTtb/VPxG94L9RZUL5SrSf0WgNhMy9RcU8e+RF+Hqc\n",
       "0wjJriEXOy0vDvohZVsu8vTV3kXGhda1+AXF8WIbfHzxPry8FhDw71sUWYoMT39pqbn47LlYHewy\n",
       "0qiP0agmF04be4tSaZuyCb4QzvlznEbIc71I150sYXn4snppyhTx9UOsz7i4G+CcQlqCH0iQjUmC\n",
       "8yP5SFHooCKMtsDa8c50LBz6YrZKo7GkkTePI+zFqukAzXcwLZ8KWyY1mE0j7ECr5WXgvr8p43wu\n",
       "4kmBzxzNSQCNCnER9v4FfaUY7u+wKIJF9rZWuAnxJxaGfYnqpDaWkxo048VxvLfoW9h2PDYvS2sn\n",
       "AU5guRlfXi/QKEjWzCEWtBy/yD+kfEXiIpEE7DKXvl8D/R2FuAi3IBZoCYpbPBlSpHJlFpikwyBv\n",
       "dJcRr4UH7TN1dfhLKBlXITbsXQV0bxHvxMVjcVbL0PfiGeHf3W+lUXg6GZ+8n7/2x+CbKgtY5HHq\n",
       "E1pONNxijuHw7fMV4Y0E32riyJn4zeW0FmR8qb2xBd5OfiP/EjNci9nWjarpjiWVB0ekUdyg0bo4\n",
       "O+aOd+KyZHuI7MkFiP+YAakzVhqFyNGAQBZ5iBB7w7sPeYLA7HvkOQ2LsDWHu0GfZOzooDhmSwqW\n",
       "nUzbwpstKX75JwsO0ThriwMleMvemMKkLCfUCWvfMUTsy4/lT3dU5SLOwxtkiuen1BRIJz0wDumO\n",
       "ALUpg0aerLGJOxVa2RFTvCfne6SzcyOiUXfQSiMgbsXf+/wN+Bk7ibm4tz4XgT1yZIVFImbc05LW\n",
       "ZuVYHBO6Bn36RVt4E7rGL3G05TXCnvYMa4sVaYP2xhQmZW5nZ2cCxUY9xiB6r8m3PgbpjqpcxMPo\n",
       "ZoYUGqSUxqIWJT0wjumOAHt6wHJQhO4tHoIz0KLRWpOm9VBvFJgt0IhOWBAaMg8YI45kQ4iB0pyG\n",
       "RdYacQ+szLKDviiOCQxBRuuzhTcIbpjWsOxlfFlnrHtF0GD8GIxDwq8jZ5G3N6Zww/KZAL+g3gh6\n",
       "jPheuyLfevnTHVW5iKFh5KGvKjSIKY1FLUp6YDzTHfnWLGNfDLrxTtxUmOentaMz6KrkHUAPTAk0\n",
       "wvPdZUKjbjKN1CLibsIXeg/5hn5QkbsAQyi+0Y8QKnSTOGYX6rSaNBfn8OyOSHomRnamIZYmeAa2\n",
       "50lbrGgQ9GcBN+YtOTy7Iwp0cRTR6GXzNVE+KDIG6Y6qXEQ8uVoOxDqlNBa1KOmB8Ux3RK47YaWR\n",
       "/xS0JgJxeBjWnKW1D5OwFunS3s3QQ0YCjZbE4bmBNKZRa8L/Kuj3/gj8WXyhHYTWjHZQe42JoIAJ\n",
       "1efe7F2UIFRoTfhW976wEcjiuSnO4ZrsNliAm+hN+89iiRjC8VEZ1Bahp2/2NmVIY3RBW2Y47Mmi\n",
       "aDeEw4zpp1/5pXmn8uNd/nRHZS4iXr8KHlRoEFMai1qU9MC4pjvSE8rC6ceEXNNf6dwkWJGfk/cs\n",
       "rfbFrCq8hkSC18nEZEiEc3mFRYjCTOhP8iYJa1sTxY29INtCjU+gubm7s1P8PT8vB21lT3dU5iKi\n",
       "EEi/NavQIKY0FrUo6YFxTXckz4BAo0DOXpPIKtGo7Y2EKRssfGRtaBzj2p/hde3cXi6xutCvsrgF\n",
       "TsHUjNnExHFbEyWN+UExs7YFZqqem0bpdsqf7qjMRWx/9vzkpAKXUhqLWpT0wFilO6rLYZlGPkVt\n",
       "ZBrZZPmF9T6TxcVli0klnlRfFDvS2y69lpQ/3VGZi4jcvxe9CmxtlnAxBbK4RaZH9dHYpzuGhmUa\n",
       "uVj4rqY7GqsTI6c7KnMRcYLKgaw9FVFMgSxukepRflRNdyxj8fcpaFTWdEdlLiKONNALmS0VUUyB\n",
       "LG6R6VF9NPbpjp7KSb4OXFNMamVNd1TlIpLlq/q0LRVRSoEsapHp4fufY5XuqF7EzlcMjUj2jKWU\n",
       "P91RlYuIQyBtwJ6KKKVAFrXI9PD9z3FNd6SvL5VBI+lVrfzpjqpcxCDSvGKVPRVRTIEsbpHp4fuf\n",
       "45ruSDcyK/KP9pU/3VGRi4hTDidvBFsqopQCWdSiqcfc/xzPdMeK+qN9Pung2tilOyrKaKUi8v3P\n",
       "8tkomu5YE68gGsGj4uXYpTuWMMQlWjT2P8tpo3i648pcJdGoVXwGxyzdUTUyo5SKaOx/ltNG8XTH\n",
       "t6GSaBQTb7Oa7lhScU53rLB/9iD/65lqumMpxTnd8XvwP9Hozon6b/mCiSobRr9o9FikvmN3aTSq\n",
       "/lu+arGUbdSp4H/L91/LSQDrhnioPgAAAABJRU5ErkJggg==\n",
       "\" style=\"display:inline;vertical-align:middle;\" /></a><br>(see <a class=\"ProveItLink\" href=\"../../../__pv_it/theorems/c144a2af5000a7ea8aa5df162934ff78b5b072070/dependencies.ipynb\">dependencies</a>)<br>"
      ],
      "text/plain": [
       "<IPython.core.display.HTML object>"
      ]
     },
     "metadata": {},
     "output_type": "display_data"
    },
    {
     "name": "stdout",
     "output_type": "stream",
     "text": [
      "leftward_commutation may now be readily provable (assuming required theorems are usable).  Simply execute \"%qed\".\n"
     ]
    }
   ],
   "source": [
    "%proving leftward_commutation"
   ]
  },
  {
   "cell_type": "code",
   "execution_count": null,
   "metadata": {},
   "outputs": [],
   "source": []
  }
 ],
 "metadata": {
  "kernelspec": {
   "display_name": "Python 3",
   "language": "python",
   "name": "python3"
  }
 },
 "nbformat": 4,
 "nbformat_minor": 0
}