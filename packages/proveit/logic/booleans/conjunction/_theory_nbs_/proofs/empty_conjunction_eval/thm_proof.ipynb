{
 "cells": [
  {
   "cell_type": "markdown",
   "metadata": {},
   "source": [
    "Proof of <a class=\"ProveItLink\" href=\"../../../../../../_theory_nbs_/theory.ipynb\">proveit</a>.<a class=\"ProveItLink\" href=\"../../../../../_theory_nbs_/theory.ipynb\">logic</a>.<a class=\"ProveItLink\" href=\"../../../../_theory_nbs_/theory.ipynb\">booleans</a>.<a class=\"ProveItLink\" href=\"../../theory.ipynb\">conjunction</a>.<a class=\"ProveItLink\" href=\"../../theorems.ipynb#empty_conjunction_eval\">empty_conjunction_eval</a> theorem\n",
    "========"
   ]
  },
  {
   "cell_type": "code",
   "execution_count": 1,
   "metadata": {},
   "outputs": [],
   "source": [
    "import proveit\n",
    "from proveit.logic.booleans.conjunction  import empty_conjunction\n",
    "theory = proveit.Theory() # the theorem's theory"
   ]
  },
  {
   "cell_type": "code",
   "execution_count": 2,
   "metadata": {},
   "outputs": [
    {
     "data": {
      "text/html": [
       "With these <a href=\"allowed_presumptions.txt\">allowed</a>/<a href=\"disallowed_presumptions.txt\">disallowed</a> theorem/theory presumptions (e.g., to avoid circular dependencies), we begin our proof of<br><strong id=\"empty_conjunction_eval\">empty_conjunction_eval:</strong> <a class=\"ProveItLink\" href=\"../../../__pv_it/theorems/6a27c09ebc7bdb92e29564ab04af32c95b09884e0/expr.ipynb\"><img src=\"data:image/png;base64,iVBORw0KGgoAAAANSUhEUgAAAFYAAAAVBAMAAAAutAQGAAAAMFBMVEX///8AAAAAAAAAAAAAAAAA\n",
       "AAAAAAAAAAAAAAAAAAAAAAAAAAAAAAAAAAAAAAAAAAAv3aB7AAAAD3RSTlMAdt0yiURUEM1mq7si\n",
       "me/+MEVxAAAACXBIWXMAAA7EAAAOxAGVKw4bAAAA9klEQVQoz2MQUmaAACiDh+EAAy7gisYSYwgk\n",
       "Vi2bAwPjBHQ1l5RAQAuiwg2utgKI27EYmQhTwa4BV3sTiOfiU8s4KwCm9gEQ8xXgUcvEvAHKYmsA\n",
       "EhwT8KhNYeiBsngdgATLAjxqexhyoSywkZwNyJ5HVcu8gIGpAOqaBJBDHuA2l8uAgVEAopYP5Enm\n",
       "D7jVAsOUXQFJLSsec0ExcQ3ZDQq43QuSOgFRyy0A8tsGnOZyguS5DcBqwcEFDjjsarlA0cQsAFbL\n",
       "DLKDKQBTbSSWdAZKxIeITJNzoemHGLXcBxh4NhCpln0DSDkO4ATPb0/B1EEGGVxKATPsNKo3K7Pg\n",
       "AAAAAElFTkSuQmCC\n",
       "\" style=\"display:inline;vertical-align:middle;\" /></a><br>(see <a class=\"ProveItLink\" href=\"../../../__pv_it/theorems/6468d7c8dc1876669cabff0251bf87be8fe79abe0/dependencies.ipynb\">dependencies</a>)<br>"
      ],
      "text/plain": [
       "<IPython.core.display.HTML object>"
      ]
     },
     "metadata": {},
     "output_type": "display_data"
    },
    {
     "name": "stdout",
     "output_type": "stream",
     "text": [
      "empty_conjunction_eval may now be readily provable (assuming required theorems are usable).  Simply execute \"%qed\".\n"
     ]
    }
   ],
   "source": [
    "%proving empty_conjunction_eval"
   ]
  },
  {
   "cell_type": "code",
   "execution_count": 3,
   "metadata": {},
   "outputs": [
    {
     "data": {
      "text/html": [
       "<span style=\"font-size:20px;\"> <a class=\"ProveItLink\" href=\"../../../__pv_it/_proof_empty_conjunction_eval/7a710b58112bbb32cbc94c2df5615e4551768d470/proof.ipynb\" style=\"text-decoration: none\">&nbsp;&#x22A2;&nbsp;&nbsp;</a><a class=\"ProveItLink\" href=\"../../../__pv_it/theorems/6a27c09ebc7bdb92e29564ab04af32c95b09884e0/expr.ipynb\"><img src=\"data:image/png;base64,iVBORw0KGgoAAAANSUhEUgAAAFYAAAAVBAMAAAAutAQGAAAAMFBMVEX///8AAAAAAAAAAAAAAAAA\n",
       "AAAAAAAAAAAAAAAAAAAAAAAAAAAAAAAAAAAAAAAAAAAv3aB7AAAAD3RSTlMAdt0yiURUEM1mq7si\n",
       "me/+MEVxAAAACXBIWXMAAA7EAAAOxAGVKw4bAAAA9klEQVQoz2MQUmaAACiDh+EAAy7gisYSYwgk\n",
       "Vi2bAwPjBHQ1l5RAQAuiwg2utgKI27EYmQhTwa4BV3sTiOfiU8s4KwCm9gEQ8xXgUcvEvAHKYmsA\n",
       "EhwT8KhNYeiBsngdgATLAjxqexhyoSywkZwNyJ5HVcu8gIGpAOqaBJBDHuA2l8uAgVEAopYP5Enm\n",
       "D7jVAsOUXQFJLSsec0ExcQ3ZDQq43QuSOgFRyy0A8tsGnOZyguS5DcBqwcEFDjjsarlA0cQsAFbL\n",
       "DLKDKQBTbSSWdAZKxIeITJNzoemHGLXcBxh4NhCpln0DSDkO4ATPb0/B1EEGGVxKATPsNKo3K7Pg\n",
       "AAAAAElFTkSuQmCC\n",
       "\" style=\"display:inline;vertical-align:middle;\" /></a></span>"
      ],
      "text/plain": [
       "|- [and]() = TRUE"
      ]
     },
     "metadata": {},
     "output_type": "display_data"
    }
   ],
   "source": [
    "empty_conjunction.evaluation()"
   ]
  },
  {
   "cell_type": "code",
   "execution_count": 4,
   "metadata": {},
   "outputs": [
    {
     "name": "stdout",
     "output_type": "stream",
     "text": [
      "proveit.logic.booleans.conjunction.empty_conjunction_eval has been proven.\n"
     ]
    },
    {
     "data": {
      "text/html": [
       "<table><tr><th>&nbsp;</th><th>step type</th><th>requirements</th><th>statement</th></tr>\n",
       "<tr><td><a name=\"0x263ca49dd655fa95_step0\">0</a></td><td>instantiation</td><td><a href=\"#0x263ca49dd655fa95_step1\">1</a>, <a href=\"#0x263ca49dd655fa95_step2\">2</a></td><td><span style=\"font-size:20px;\"> <a class=\"ProveItLink\" href=\"../../../__pv_it/_proof_empty_conjunction_eval/7a710b58112bbb32cbc94c2df5615e4551768d470/proof.ipynb\" style=\"text-decoration: none\">&nbsp;&#x22A2;&nbsp;&nbsp;</a><a class=\"ProveItLink\" href=\"../../../__pv_it/theorems/6a27c09ebc7bdb92e29564ab04af32c95b09884e0/expr.ipynb\"><img src=\"data:image/png;base64,iVBORw0KGgoAAAANSUhEUgAAAFYAAAAVBAMAAAAutAQGAAAAMFBMVEX///8AAAAAAAAAAAAAAAAA\n",
       "AAAAAAAAAAAAAAAAAAAAAAAAAAAAAAAAAAAAAAAAAAAv3aB7AAAAD3RSTlMAdt0yiURUEM1mq7si\n",
       "me/+MEVxAAAACXBIWXMAAA7EAAAOxAGVKw4bAAAA9klEQVQoz2MQUmaAACiDh+EAAy7gisYSYwgk\n",
       "Vi2bAwPjBHQ1l5RAQAuiwg2utgKI27EYmQhTwa4BV3sTiOfiU8s4KwCm9gEQ8xXgUcvEvAHKYmsA\n",
       "EhwT8KhNYeiBsngdgATLAjxqexhyoSywkZwNyJ5HVcu8gIGpAOqaBJBDHuA2l8uAgVEAopYP5Enm\n",
       "D7jVAsOUXQFJLSsec0ExcQ3ZDQq43QuSOgFRyy0A8tsGnOZyguS5DcBqwcEFDjjsarlA0cQsAFbL\n",
       "DLKDKQBTbSSWdAZKxIeITJNzoemHGLXcBxh4NhCpln0DSDkO4ATPb0/B1EEGGVxKATPsNKo3K7Pg\n",
       "AAAAAElFTkSuQmCC\n",
       "\" style=\"display:inline;vertical-align:middle;\" /></a></span></td></tr>\n",
       "<tr><td>&nbsp;</td><td colspan=4 style=\"text-align:left\"><span style=\"font-size:20px;\"><a class=\"ProveItLink\" href=\"../../../../../../__pv_it/common/09585084922504426caf1db2ff588a23a0932a960/expr.ipynb\"><img src=\"data:image/png;base64,iVBORw0KGgoAAAANSUhEUgAAAA8AAAAPBAMAAADJ+Ih5AAAAMFBMVEX///8AAAAAAAAAAAAAAAAA\n",
       "AAAAAAAAAAAAAAAAAAAAAAAAAAAAAAAAAAAAAAAAAAAv3aB7AAAAD3RSTlMAIs1UmauJMnZmRLsQ\n",
       "3e++988cAAAACXBIWXMAAA7EAAAOxAGVKw4bAAAAXklEQVQI12NgAAEhBijQh9LM/6EMlngBCCMx\n",
       "vwBMMzb0G0BkGOwngBmLGeoTwAwHBvkAEM2xxSV+A4hxgoGB/wJEhoH3AZDmAupg+gBkyAEx90cG\n",
       "htP/dRiY939KAABt3hLO6mcEjQAAAABJRU5ErkJggg==\n",
       "\" style=\"display:inline;vertical-align:middle;\" /></a> : <a class=\"ProveItLink\" href=\"../../../__pv_it/axioms/78b88323a9b068018175a0ae2b6e5ee81f7d387a0/expr.ipynb\"><img src=\"data:image/png;base64,iVBORw0KGgoAAAANSUhEUgAAACkAAAAVBAMAAAAp9toTAAAAMFBMVEX///8AAAAAAAAAAAAAAAAA\n",
       "AAAAAAAAAAAAAAAAAAAAAAAAAAAAAAAAAAAAAAAAAAAv3aB7AAAAD3RSTlMAdt0yiURUEM1mq7si\n",
       "me/+MEVxAAAACXBIWXMAAA7EAAAOxAGVKw4bAAAA4ElEQVQY02MQUmaAACiDh+EAkHRlgAEIS4wh\n",
       "EFOUzYGBcQKU7QYXrQDidgibXQMuehOI50LYjLMCYKIPgJivAMxmYt4AFWVrABIcE8DsFIYeqCiv\n",
       "A5BgWQBm9zDkQkWByhgYOBtAbOYFDEwFEFGmBJAxD0BsLgMGRgGIKB/IWuYPIDbQjewKSKKsYLUg\n",
       "P1xDNkEBxAaqYzgBEeUWANm2AcjmBLG4DcCiQEeBnefKwFUAskEALMoM0scUgB5moEA+hBGScyEh\n",
       "hCbKfYCBZwOGKPsGkASDEzzenoKpgwwyDAwAXGQq05XnXYMAAAAASUVORK5CYII=\n",
       "\" style=\"display:inline;vertical-align:middle;\" /></a></span></td></tr><tr><td><a name=\"0x263ca49dd655fa95_step1\">1</a></td><td>axiom</td><td></td><td><span style=\"font-size:20px;\"> <a class=\"ProveItLink\" href=\"../../../../_theory_nbs_/axioms.ipynb#eq_true_intro\" style=\"text-decoration: none\">&nbsp;&#x22A2;&nbsp;&nbsp;</a><a class=\"ProveItLink\" href=\"../../../../__pv_it/axioms/af7fcd0228bc2f434dd8febb9d8c4f56a07241be0/expr.ipynb\"><img src=\"data:image/png;base64,iVBORw0KGgoAAAANSUhEUgAAAIwAAAAXBAMAAAArT7qNAAAAMFBMVEX///8AAAAAAAAAAAAAAAAA\n",
       "AAAAAAAAAAAAAAAAAAAAAAAAAAAAAAAAAAAAAAAAAAAv3aB7AAAAD3RSTlMAq1RmmUTNIjK7EInv\n",
       "3XZ/CtNrAAAACXBIWXMAAA7EAAAOxAGVKw4bAAABqElEQVQ4y2NgIAIU4JdmZyAK8CmAqTJc8qwP\n",
       "GBgEQAxlvMZoQ6h8dHGWu2AgwPCYgcEVJJCOzxSuBDDF9B+LHNMDEMm2gKER5LkJ+IxhMYBQ8gW4\n",
       "jGF2AJnEwK2AzxgeCLV9fwMuYxhOMTAD7WLDGzRqkOh48F4BpzHJDAxn7949jdcYb4ifGPQNcBqz\n",
       "kYHBg4FhFpi9AKocChbAGMlgMoihfwNK9CAbY8bAUMjADhbjOgEW4YTFzwmYMZfApANDvQBO1+gA\n",
       "9S3gDgAxuT+hGAPlAsFRcBKc4iI/Aacx/SAWJIQjzqEYA+XCjFnHwMB/AacxMUCcYAdmPkhEMQbK\n",
       "hXnKgYGB9wDOsNEF4k1ZYFczuCEbA+MCwTxQtgEliw84XWMJxDVgkyMY3iAbA+NCYpOhBiTzHacx\n",
       "oDTBCE6d3rvlFyAZA+MCQS8Dw8r/WQxM879twMzckLR0FV4YMDDUNyCMgXOBgLeBUEnCDg/8YGBM\n",
       "KCCMgXMhGY8AYIGlb5aDDFz+qXBjEFwQmE7ImEpMIU5MoZWEjJlOlDHsDwgUsgVEGUMOYCdLFwD3\n",
       "G2avyaI3nAAAAABJRU5ErkJggg==\n",
       "\" style=\"display:inline;vertical-align:middle;\" /></a></span></td></tr>\n",
       "<tr><td>&nbsp;</td><td colspan=4 style-\"text-align:left\"><a class=\"ProveItLink\" href=\"../../../../_theory_nbs_/axioms.ipynb#eq_true_intro\">proveit.logic.booleans.eq_true_intro</a></td></tr><tr><td><a name=\"0x263ca49dd655fa95_step2\">2</a></td><td>axiom</td><td></td><td><span style=\"font-size:20px;\"> <a class=\"ProveItLink\" href=\"../../axioms.ipynb#empty_conjunction\" style=\"text-decoration: none\">&nbsp;&#x22A2;&nbsp;&nbsp;</a><a class=\"ProveItLink\" href=\"../../../__pv_it/axioms/78b88323a9b068018175a0ae2b6e5ee81f7d387a0/expr.ipynb\"><img src=\"data:image/png;base64,iVBORw0KGgoAAAANSUhEUgAAACkAAAAVBAMAAAAp9toTAAAAMFBMVEX///8AAAAAAAAAAAAAAAAA\n",
       "AAAAAAAAAAAAAAAAAAAAAAAAAAAAAAAAAAAAAAAAAAAv3aB7AAAAD3RSTlMAdt0yiURUEM1mq7si\n",
       "me/+MEVxAAAACXBIWXMAAA7EAAAOxAGVKw4bAAAA4ElEQVQY02MQUmaAACiDh+EAkHRlgAEIS4wh\n",
       "EFOUzYGBcQKU7QYXrQDidgibXQMuehOI50LYjLMCYKIPgJivAMxmYt4AFWVrABIcE8DsFIYeqCiv\n",
       "A5BgWQBm9zDkQkWByhgYOBtAbOYFDEwFEFGmBJAxD0BsLgMGRgGIKB/IWuYPIDbQjewKSKKsYLUg\n",
       "P1xDNkEBxAaqYzgBEeUWANm2AcjmBLG4DcCiQEeBnefKwFUAskEALMoM0scUgB5moEA+hBGScyEh\n",
       "hCbKfYCBZwOGKPsGkASDEzzenoKpgwwyDAwAXGQq05XnXYMAAAAASUVORK5CYII=\n",
       "\" style=\"display:inline;vertical-align:middle;\" /></a></span></td></tr>\n",
       "<tr><td>&nbsp;</td><td colspan=4 style-\"text-align:left\"><a class=\"ProveItLink\" href=\"../../axioms.ipynb#empty_conjunction\">proveit.logic.booleans.conjunction.empty_conjunction</a></td></tr></table>"
      ],
      "text/plain": [
       "\tstep type\trequirements\tstatement\n",
       "0\tinstantiation\t1, 2\t|- [and]() = TRUE\n",
       "\tA : [and]()\n",
       "1\taxiom\t\t|- forall_{A | A} (A = TRUE)\n",
       "\tproveit.logic.booleans.eq_true_intro\n",
       "2\taxiom\t\t|- [and]()\n",
       "\tproveit.logic.booleans.conjunction.empty_conjunction"
      ]
     },
     "execution_count": 4,
     "metadata": {},
     "output_type": "execute_result"
    }
   ],
   "source": [
    "%qed"
   ]
  },
  {
   "cell_type": "code",
   "execution_count": null,
   "metadata": {},
   "outputs": [],
   "source": []
  }
 ],
 "metadata": {
  "kernelspec": {
   "display_name": "Python 3",
   "language": "python",
   "name": "python3"
  }
 },
 "nbformat": 4,
 "nbformat_minor": 0
}