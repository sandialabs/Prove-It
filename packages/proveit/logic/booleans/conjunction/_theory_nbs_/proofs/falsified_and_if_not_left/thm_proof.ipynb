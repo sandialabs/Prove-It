{
 "cells": [
  {
   "cell_type": "markdown",
   "metadata": {},
   "source": [
    "Proof of <a class=\"ProveItLink\" href=\"../../../../../../_theory_nbs_/theory.ipynb\">proveit</a>.<a class=\"ProveItLink\" href=\"../../../../../_theory_nbs_/theory.ipynb\">logic</a>.<a class=\"ProveItLink\" href=\"../../../../_theory_nbs_/theory.ipynb\">booleans</a>.<a class=\"ProveItLink\" href=\"../../theory.ipynb\">conjunction</a>.<a class=\"ProveItLink\" href=\"../../theorems.ipynb#falsified_and_if_not_left\">falsified_and_if_not_left</a> theorem\n",
    "========"
   ]
  },
  {
   "cell_type": "code",
   "execution_count": 1,
   "metadata": {},
   "outputs": [],
   "source": [
    "import proveit\n",
    "from proveit import defaults\n",
    "from proveit import A, B\n",
    "from proveit.logic.booleans.conjunction import nand_if_not_left\n",
    "theory = proveit.Theory() # the theorem's theory"
   ]
  },
  {
   "cell_type": "code",
   "execution_count": 2,
   "metadata": {},
   "outputs": [
    {
     "data": {
      "text/html": [
       "With these <a href=\"allowed_presumptions.txt\">allowed</a>/<a href=\"disallowed_presumptions.txt\">disallowed</a> theorem/theory presumptions (e.g., to avoid circular dependencies), we begin our proof of<br><strong id=\"falsified_and_if_not_left\">falsified_and_if_not_left:</strong> <a class=\"ProveItLink\" href=\"../../../__pv_it/theorems/ccd4e9bd4a0615013a9613ae22f56717b55f0db10/expr.ipynb\"><img src=\"data:image/png;base64,iVBORw0KGgoAAAANSUhEUgAAAPMAAAAXBAMAAAAsDWSYAAAAMFBMVEX///8AAAAAAAAAAAAAAAAA\n",
       "AAAAAAAAAAAAAAAAAAAAAAAAAAAAAAAAAAAAAAAAAAAv3aB7AAAAD3RSTlMAq1RmmUTNIjK7EInv\n",
       "3XZ/CtNrAAAACXBIWXMAAA7EAAAOxAGVKw4bAAAC70lEQVRIx71WTWgTQRR+2fxv/kFETwkoXqy6\n",
       "Qil40Ab/sIgY9FKKaKVIMRTUiyBUEo8eJD0IGg82XoQelNiLSA7GguI/UVS8BCI9eBFbRa0/YHzz\n",
       "ZjYmszt72KIPvuTtfrP7vXnvzcwCLMNOCigt6PjoMiye4UA7bT/C31I9exiRZM4aV9LrBdBOSJR3\n",
       "+lNq5WWAeZvHDlLYBsAu5oy7UdZHOdC0trg3a5LRKYB0EQIV63Mb6TcPcI6VZMqNtM/gYG6a105/\n",
       "Y5IFTPWRLHizKul+oLgiGTfSUQG023eLvPqbc4IcxBuDKP9YJR2tgBfjDrgq9ToBzFprgQcfC5n5\n",
       "SyMmMBVjKukA6j5rNp+4kt4rgPmGTYZoPLNrHgFce4v/t1TSEezvPQBX6ELqCF/vpbVfxsCc1AEo\n",
       "VYG361rOhX58fEfcAPvZ12T2okfaiw16CoK0wPSHdOv8l9oQFS7c284Si/ZSACALBXpFKAkxHmJ8\n",
       "CaCPZaJPNWutjhKVCPVG5DOPpgHxulVaZtHuC0D84s401dhThDjfRMI4KPIdnZJKOrSI8i3eZcPP\n",
       "6c+DK2LRKi2z3dI3ARIN5lzH7JADCcyC9zc6h1TSfjaD0W3kt47yps/ADcMqLbPdCce1G6ubG8p2\n",
       "4ko4yPMVnQ2qWmssxtk8ZQ12871gvn8VWKQtLNpVAT9bnpSKRmc3X8B1VWI73RbVrL2sRJPUIsPw\n",
       "gW5tBX1Fl/SdcrncsGHFumGYZIOX2NtYncPUhRMY0YNKZ/XZSPuqvDnYmFqamhPfXMj1zjppw6Jd\n",
       "4Jhp50Gb/oZv8rAhIaa/up1KHadd5rWki7l/SrmP5f5mFAoUwhzuvUVZ2sqyravI4XhgN1TM2e6T\n",
       "LJHRqxD8CforqdZZG5blNwu2x4N8xNjbjs6Qe6DvPxaag4FftaGM3GY2LLNLAg52RpkO+bDUuvyw\n",
       "ZbgmXc8IOJgysrD8hTTiKD0iR97icPiEUn6CvZdvGI7SBvwnC/5rgT/QaMFux9fY5gAAAABJRU5E\n",
       "rkJggg==\n",
       "\" style=\"display:inline;vertical-align:middle;\" /></a><br>(see <a class=\"ProveItLink\" href=\"../../../__pv_it/theorems/58d417d70a98bd9cf35b616eb760abbe71e9316d0/dependencies.ipynb\">dependencies</a>)<br>"
      ],
      "text/plain": [
       "<IPython.core.display.HTML object>"
      ]
     },
     "metadata": {},
     "output_type": "display_data"
    },
    {
     "name": "stdout",
     "output_type": "stream",
     "text": [
      "falsified_and_if_not_left may now be readily provable (assuming required theorems are usable).  Simply execute \"%qed\".\n"
     ]
    }
   ],
   "source": [
    "%proving falsified_and_if_not_left"
   ]
  },
  {
   "cell_type": "code",
   "execution_count": 3,
   "metadata": {},
   "outputs": [
    {
     "data": {
      "text/html": [
       "<strong id=\"defaults.assumptions\">defaults.assumptions:</strong> <a class=\"ProveItLink\" href=\"../../../__pv_it/theorems/b74611e867f161f227a4c5eeda278962cec922b00/expr.ipynb\"><img src=\"data:image/png;base64,iVBORw0KGgoAAAANSUhEUgAAAEMAAAAVBAMAAADvM06qAAAAMFBMVEX///8AAAAAAAAAAAAAAAAA\n",
       "AAAAAAAAAAAAAAAAAAAAAAAAAAAAAAAAAAAAAAAAAAAv3aB7AAAAD3RSTlMAInZUiRDNmWbv3US7\n",
       "qzJazP2FAAAACXBIWXMAAA7EAAAOxAGVKw4bAAABWUlEQVQoz32Sv0vDQBTHvyZtk6bVZhJ0aXSX\n",
       "OojgZP0DxNC5QpeCBcEMgo7ZHJvJRYeCWwcR/QMaXdxsJydDMrukdejij/iuJOfFQA8uvO+9z933\n",
       "5d0B0DFnzJLSpri0/A+5Z5+t1NJJEqjDb+/1BZIN5FsiIUc8LLqAH6ANKLaIKD6vrGoAAwsXBKd8\n",
       "9g6CJOxS1DVQNLEtEgtGjRfv0+zoKNg4Tflgl/teA4e3QG6EIxF5QFiPw6Wv9Q2WU1u4ob19NizS\n",
       "FqqjGJEmwA4dKTu4SsqgnPR85ruxLjtk8kOnjVNIA6j0Yl0hrX4AJYcZcYS8NCfWIZksfpJRD08J\n",
       "YqFEq4UxYDJdox6G1HnVxf7f/6ywEibIT5nokMclwUod75xoRm3Iw2kdfcq8RZ53zNqo3UELMm9E\n",
       "NgWxSl5WBsmJ4pzmYwZpiLfG+tTMIIYQl/XZ7c57u2vAL2aFT1qmjAxfAAAAAElFTkSuQmCC\n",
       "\" style=\"display:inline;vertical-align:middle;\" /></a><br>"
      ],
      "text/plain": [
       "<IPython.core.display.HTML object>"
      ]
     },
     "metadata": {},
     "output_type": "display_data"
    }
   ],
   "source": [
    "defaults.assumptions = falsified_and_if_not_left.all_conditions()"
   ]
  },
  {
   "cell_type": "code",
   "execution_count": 4,
   "metadata": {},
   "outputs": [
    {
     "data": {
      "text/html": [
       "<span style=\"font-size:20px;\"> <a class=\"ProveItLink\" href=\"../nand_if_not_left/thm_proof.ipynb\" style=\"text-decoration: none\">&nbsp;&#x22A2;&nbsp;&nbsp;</a><a class=\"ProveItLink\" href=\"../../../__pv_it/theorems/d1a8d850df39db46e655bd55dea2076f61270d090/expr.ipynb\"><img src=\"data:image/png;base64,iVBORw0KGgoAAAANSUhEUgAAANkAAAAXBAMAAAB0cveBAAAAMFBMVEX///8AAAAAAAAAAAAAAAAA\n",
       "AAAAAAAAAAAAAAAAAAAAAAAAAAAAAAAAAAAAAAAAAAAv3aB7AAAAD3RSTlMAq1RmmUTNIjK7EInv\n",
       "3XZ/CtNrAAAACXBIWXMAAA7EAAAOxAGVKw4bAAADNklEQVRIx7VVTWhTQRCe5CV5Ly/JMwUpXqQP\n",
       "FUE8GKEURNTWVrG0asBLEdGKSLEejBcvahuPomLRg0a0zUGEokLag6g5WCtiRZQgIh4MPBUUQbTV\n",
       "UmuL1tmZTdw0TYupLnx5u7OT+WbnZxdgHiOmzPU5NWMwr2HZyuItc7bOrLpbIiwWS8tiW6nM3Sn6\n",
       "+Ian6ayZqqg4EAcrAoRNQtZWDpmpnuMaf1bl2PpzG48BXOMA7UA4Ic7fVQ6bJ6Is6vlT91168jKX\n",
       "zl8A3lGAaiD4kgABuxy2oLoYoN/A0XGZ0tVRnmgo0JAxmCRo6KGvrLQtV9PGUe2wvvI6ZMhwuTC0\n",
       "vkeICONpNvukLLYmNapcJLXub7kCkqUQ7AJzcRxPHWZsAbhEG8mSdmsLq0N+9ykyH+XQaxuTvG6D\n",
       "ZTw52/25UuxprYzDoFMXmEO0fXI03RiXobq1dSNNCovohtx+jkfKioHOhCjzHtBHaMsIQ4id/xID\n",
       "9wMR6gGGPxmgjAY45FoGLJQabxJRK6AviRez3ZM19TBXduhskEx8bKj7wdnCDnNodln8AY0Ywwy3\n",
       "w0XS8owVa0FDaQNqWAG4axexeU87JdhM3PiZ6z4zQzNx1g0o9w4woHU9yZ29nFYbbkao75FNX5ss\n",
       "YrN84Xwk82wUSQ/idb63KQmGqJoqdMWdYUB/OxmBzaTY+a56EUAviTzNQ8V5czzyDunOsWHe/OK8\n",
       "OxCHSCTMHiET2O3GmEhQFwOOka8t8IkU14G5kP+IZzO2RfNsgUQicQXDEbe4k6FPcUEUty7kPeKm\n",
       "1wS3X6Tch7Jd7bJFqE1cVAlN6SqKGlJ1RqEGTduYt1Sq4Gwu/Eu6b4IXZxQ2IwNmz1gSVkwdFGrC\n",
       "koGUrp6Rispz1O5RhswGkhDrIMCeOJzis0HKmc7mgC5vp1BcoXs1x1VwXIIHhm6BbaZAnwDzhWgL\n",
       "ZrtdyOYBL5aPvJ00temr52Cr/3Nzo5n7YG7fbwxCzWS6EetLvyi6+/2d89OrpDkMV8dkRC4o1vyz\n",
       "v8zilSl6adz52fVEIh9lKPEg9arX2eyPlnCmyKGdM+uWsKQ7yqJjVrYPEgUj8lds/2nE/pWh3w2X\n",
       "xPyrupRAAAAAAElFTkSuQmCC\n",
       "\" style=\"display:inline;vertical-align:middle;\" /></a></span>"
      ],
      "text/plain": [
       "|- forall_{A, B in BOOLEAN | [not](A)} [not](A and B)"
      ]
     },
     "metadata": {},
     "output_type": "display_data"
    }
   ],
   "source": [
    "nand_if_not_left"
   ]
  },
  {
   "cell_type": "code",
   "execution_count": 5,
   "metadata": {},
   "outputs": [
    {
     "data": {
      "text/html": [
       "<strong id=\"nand\">nand:</strong> <span style=\"font-size:20px;\"><a class=\"ProveItLink\" href=\"../../../../__pv_it/theorems/c6244e76de3be0816f3efc36199d65e50f6589940/expr.ipynb\"><img src=\"data:image/png;base64,iVBORw0KGgoAAAANSUhEUgAAABwAAAAPBAMAAAAFYbKSAAAAMFBMVEX///8AAAAAAAAAAAAAAAAA\n",
       "AAAAAAAAAAAAAAAAAAAAAAAAAAAAAAAAAAAAAAAAAAAv3aB7AAAAD3RSTlMAmd0iq81UiTJ2ZkS7\n",
       "EO8Z3gX6AAAACXBIWXMAAA7EAAAOxAGVKw4bAAAAaUlEQVQI12NgQADmAAZkwPoBhZuPyhX5jMxj\n",
       "N/+BzLXk/IbMFWD7hcTjTuD4zsAgpAQEikAuIwPzF6iMCRDPERT5g+DyTmBg+ITgMgIpPSjXkIFh\n",
       "F5CKRzj/AZA4bwDl8Z7/eoEh5384AEaRFfDwb8v9AAAAAElFTkSuQmCC\n",
       "\" style=\"display:inline;vertical-align:middle;\" /></a>, <a class=\"ProveItLink\" href=\"../../../../../../__pv_it/common/a9162d1c3cc0470c02e5daf414500903a7a419230/expr.ipynb\"><img src=\"data:image/png;base64,iVBORw0KGgoAAAANSUhEUgAAABAAAAAOBAMAAADUAYG5AAAAMFBMVEX///8AAAAAAAAAAAAAAAAA\n",
       "AAAAAAAAAAAAAAAAAAAAAAAAAAAAAAAAAAAAAAAAAAAv3aB7AAAAD3RSTlMAZrurzTLvInZEmRDd\n",
       "VIkafcLnAAAACXBIWXMAAA7EAAAOxAGVKw4bAAAAb0lEQVQI12NgYBD6b2zsFMAABEkMDMxfgTT7\n",
       "DwYGzl9ABiOQxwjkMDB/YGBgSQcy2BQYuG1AiuM1OkwEQJr6Cxh4E0EMNSB+D5L6DMTyDQwMrB+B\n",
       "DPsJDAwc34GcL0AOSwIDwzRvoHH6n41NdBkYAF/iFeJ4bEa2AAAAAElFTkSuQmCC\n",
       "\" style=\"display:inline;vertical-align:middle;\" /></a> <a class=\"ProveItLink\" href=\"../../../__pv_it/_proof_falsified_and_if_not_left/a36db8eee73e736267210fd73838925f9077e7f70/proof.ipynb\" style=\"text-decoration: none\">&nbsp;&#x22A2;&nbsp;&nbsp;</a><a class=\"ProveItLink\" href=\"../../../__pv_it/theorems/0567bf29b3602a47df1cf08da8d3e179ba950a980/expr.ipynb\"><img src=\"data:image/png;base64,iVBORw0KGgoAAAANSUhEUgAAAFYAAAAVBAMAAAAutAQGAAAAMFBMVEX///8AAAAAAAAAAAAAAAAA\n",
       "AAAAAAAAAAAAAAAAAAAAAAAAAAAAAAAAAAAAAAAAAAAv3aB7AAAAD3RSTlMAmd0iq3ZUiRDNZu9E\n",
       "uzLWhN+VAAAACXBIWXMAAA7EAAAOxAGVKw4bAAABh0lEQVQoz2NgQABmBjwATTIMIjgBq1qeAGQe\n",
       "WwGY4vyAqojr/hcXz3sMDFHIgp0QKh+qlj0BKs59gYHB/wEDZwOSWikIJfIZQjfB3GIPtP28AAOX\n",
       "AJLaDRDjzP9BuFE+UPH1D4AYqH4HknMh5piyfoPwFd5CJfyBeLYBA8MshFpGiNcE2H5BfcppAJHY\n",
       "y8DQogekSxBqOReAgyaB7zuEa8AGcSDf39AQsJErGYSUgEARyGQC+5uRgfkLWMkTBgYNMIMV6Nds\n",
       "kDnZEDNNQEFzAMSKFRT5CxbyY2AIBTN4gX5mB/n3PZpaDqB/P4FEOIA+bQLL8TsA4+MrkHEaoRbs\n",
       "BkYg1obFBCPYVe+B9rP8ATKSIGoNQXaBIvwUEM8HiTDBU0Y8MDjeg1hrEeHADrSLGRQf90FhtRQk\n",
       "dA9EzAYGzk5Q/Ioj1PIpMHDc/9nAkPt/OpDnARJ6CsS+/11c5oIdo4MUx3oMeAGzAhJnIX61jAuQ\n",
       "OLwGeNXaInM4LuBVexmFZ4pPKasBAwCtY0/Lm8R8fAAAAABJRU5ErkJggg==\n",
       "\" style=\"display:inline;vertical-align:middle;\" /></a></span><br>"
      ],
      "text/plain": [
       "<IPython.core.display.HTML object>"
      ]
     },
     "metadata": {},
     "output_type": "display_data"
    }
   ],
   "source": [
    "nand = nand_if_not_left.instantiate({A:A, B:B})"
   ]
  },
  {
   "cell_type": "code",
   "execution_count": 6,
   "metadata": {},
   "outputs": [
    {
     "name": "stdout",
     "output_type": "stream",
     "text": [
      "proveit.logic.booleans.conjunction.falsified_and_if_not_left has been proven.\n"
     ]
    },
    {
     "data": {
      "text/html": [
       "<table><tr><th>&nbsp;</th><th>step type</th><th>requirements</th><th>statement</th></tr>\n",
       "<tr><td><a name=\"0xed61f6a921b74ec_step0\">0</a></td><td>generalization</td><td><a href=\"#0xed61f6a921b74ec_step1\">1</a></td><td><span style=\"font-size:20px;\"> <a class=\"ProveItLink\" href=\"../../../__pv_it/_proof_falsified_and_if_not_left/8bb0e4f9e6e8c7b34e6672f3e619dd48ded085b70/proof.ipynb\" style=\"text-decoration: none\">&nbsp;&#x22A2;&nbsp;&nbsp;</a><a class=\"ProveItLink\" href=\"../../../__pv_it/theorems/ccd4e9bd4a0615013a9613ae22f56717b55f0db10/expr.ipynb\"><img src=\"data:image/png;base64,iVBORw0KGgoAAAANSUhEUgAAAPMAAAAXBAMAAAAsDWSYAAAAMFBMVEX///8AAAAAAAAAAAAAAAAA\n",
       "AAAAAAAAAAAAAAAAAAAAAAAAAAAAAAAAAAAAAAAAAAAv3aB7AAAAD3RSTlMAq1RmmUTNIjK7EInv\n",
       "3XZ/CtNrAAAACXBIWXMAAA7EAAAOxAGVKw4bAAAC70lEQVRIx71WTWgTQRR+2fxv/kFETwkoXqy6\n",
       "Qil40Ab/sIgY9FKKaKVIMRTUiyBUEo8eJD0IGg82XoQelNiLSA7GguI/UVS8BCI9eBFbRa0/YHzz\n",
       "ZjYmszt72KIPvuTtfrP7vXnvzcwCLMNOCigt6PjoMiye4UA7bT/C31I9exiRZM4aV9LrBdBOSJR3\n",
       "+lNq5WWAeZvHDlLYBsAu5oy7UdZHOdC0trg3a5LRKYB0EQIV63Mb6TcPcI6VZMqNtM/gYG6a105/\n",
       "Y5IFTPWRLHizKul+oLgiGTfSUQG023eLvPqbc4IcxBuDKP9YJR2tgBfjDrgq9ToBzFprgQcfC5n5\n",
       "SyMmMBVjKukA6j5rNp+4kt4rgPmGTYZoPLNrHgFce4v/t1TSEezvPQBX6ELqCF/vpbVfxsCc1AEo\n",
       "VYG361rOhX58fEfcAPvZ12T2okfaiw16CoK0wPSHdOv8l9oQFS7c284Si/ZSACALBXpFKAkxHmJ8\n",
       "CaCPZaJPNWutjhKVCPVG5DOPpgHxulVaZtHuC0D84s401dhThDjfRMI4KPIdnZJKOrSI8i3eZcPP\n",
       "6c+DK2LRKi2z3dI3ARIN5lzH7JADCcyC9zc6h1TSfjaD0W3kt47yps/ADcMqLbPdCce1G6ubG8p2\n",
       "4ko4yPMVnQ2qWmssxtk8ZQ12871gvn8VWKQtLNpVAT9bnpSKRmc3X8B1VWI73RbVrL2sRJPUIsPw\n",
       "gW5tBX1Fl/SdcrncsGHFumGYZIOX2NtYncPUhRMY0YNKZ/XZSPuqvDnYmFqamhPfXMj1zjppw6Jd\n",
       "4Jhp50Gb/oZv8rAhIaa/up1KHadd5rWki7l/SrmP5f5mFAoUwhzuvUVZ2sqyravI4XhgN1TM2e6T\n",
       "LJHRqxD8CforqdZZG5blNwu2x4N8xNjbjs6Qe6DvPxaag4FftaGM3GY2LLNLAg52RpkO+bDUuvyw\n",
       "ZbgmXc8IOJgysrD8hTTiKD0iR97icPiEUn6CvZdvGI7SBvwnC/5rgT/QaMFux9fY5gAAAABJRU5E\n",
       "rkJggg==\n",
       "\" style=\"display:inline;vertical-align:middle;\" /></a></span></td></tr>\n",
       "<tr><td><a name=\"0xed61f6a921b74ec_step1\">1</a></td><td>instantiation</td><td><a href=\"#0xed61f6a921b74ec_step2\">2</a>, <a href=\"#0xed61f6a921b74ec_step3\">3</a></td><td><span style=\"font-size:20px;\"><a class=\"ProveItLink\" href=\"../../../../__pv_it/theorems/c6244e76de3be0816f3efc36199d65e50f6589940/expr.ipynb\"><img src=\"data:image/png;base64,iVBORw0KGgoAAAANSUhEUgAAABwAAAAPBAMAAAAFYbKSAAAAMFBMVEX///8AAAAAAAAAAAAAAAAA\n",
       "AAAAAAAAAAAAAAAAAAAAAAAAAAAAAAAAAAAAAAAAAAAv3aB7AAAAD3RSTlMAmd0iq81UiTJ2ZkS7\n",
       "EO8Z3gX6AAAACXBIWXMAAA7EAAAOxAGVKw4bAAAAaUlEQVQI12NgQADmAAZkwPoBhZuPyhX5jMxj\n",
       "N/+BzLXk/IbMFWD7hcTjTuD4zsAgpAQEikAuIwPzF6iMCRDPERT5g+DyTmBg+ITgMgIpPSjXkIFh\n",
       "F5CKRzj/AZA4bwDl8Z7/eoEh5384AEaRFfDwb8v9AAAAAElFTkSuQmCC\n",
       "\" style=\"display:inline;vertical-align:middle;\" /></a>, <a class=\"ProveItLink\" href=\"../../../../../../__pv_it/common/a9162d1c3cc0470c02e5daf414500903a7a419230/expr.ipynb\"><img src=\"data:image/png;base64,iVBORw0KGgoAAAANSUhEUgAAABAAAAAOBAMAAADUAYG5AAAAMFBMVEX///8AAAAAAAAAAAAAAAAA\n",
       "AAAAAAAAAAAAAAAAAAAAAAAAAAAAAAAAAAAAAAAAAAAv3aB7AAAAD3RSTlMAZrurzTLvInZEmRDd\n",
       "VIkafcLnAAAACXBIWXMAAA7EAAAOxAGVKw4bAAAAb0lEQVQI12NgYBD6b2zsFMAABEkMDMxfgTT7\n",
       "DwYGzl9ABiOQxwjkMDB/YGBgSQcy2BQYuG1AiuM1OkwEQJr6Cxh4E0EMNSB+D5L6DMTyDQwMrB+B\n",
       "DPsJDAwc34GcL0AOSwIDwzRvoHH6n41NdBkYAF/iFeJ4bEa2AAAAAElFTkSuQmCC\n",
       "\" style=\"display:inline;vertical-align:middle;\" /></a> <a class=\"ProveItLink\" href=\"../../../__pv_it/_proof_falsified_and_if_not_left/d5b49872e3f6476129f02f9a59455e6544680b450/proof.ipynb\" style=\"text-decoration: none\">&nbsp;&#x22A2;&nbsp;&nbsp;</a><a class=\"ProveItLink\" href=\"../../../__pv_it/theorems/31af8679c9ecd68a23259e43b9d1ff049f2797410/expr.ipynb\"><img src=\"data:image/png;base64,iVBORw0KGgoAAAANSUhEUgAAAHAAAAAVBAMAAABs93eRAAAAMFBMVEX///8AAAAAAAAAAAAAAAAA\n",
       "AAAAAAAAAAAAAAAAAAAAAAAAAAAAAAAAAAAAAAAAAAAv3aB7AAAAD3RSTlMAInZUiRDNmWbv3US7\n",
       "qzJazP2FAAAACXBIWXMAAA7EAAAOxAGVKw4bAAABmUlEQVQ4y2NgYBBgwAMYcUsxGYApMeyy3Ao4\n",
       "NZpAqHw0YY7zf+9eO8fAoIFFyw4QwZoAZjP/hwo6w2Q5DzAw3H/AwBaAqdEIRLA3gNns9yFeZV0G\n",
       "k5UHOnJ/AQNHAQ6NnBC2o/8DiI97N0Bl+4EC/UDNU3FoNIMEnoI+JIy4+A5AZe8DcSbQGRk4NJZA\n",
       "XMpg3wANqkSo7BwGhth1QNoXh0aIgZsZ3juAGYkM5hBJvj9KumC5NhBRtQoE1iJrXAxmFjDIXwAr\n",
       "v8DABQlGpo8MDJYgV1jisHE2WNXx8vtgv/E+YGCCRDnPBAYGln9Axnt8GoMYGPgXgBhhwAgBMxj4\n",
       "gS7g+ARk7MShcTHEpQxcE2DRXwyWfA90Ju9vIMMKhx8PgRIkUBHbBxBvATzV6gNj4j0oVfXgsBEU\n",
       "2pIgP30EJVCQ/3jASSETaN60AHh8YWp8xcAQ8z+Vgfn8N2B88IJU8oF03/l/924OOE2sRtMFdPVM\n",
       "kKu5HjDgBYwLcEhgS8TIAJoJsICD+DXK4JSJwa8Rt7mMCvj0MeEqkQCwi17kswl6GgAAAABJRU5E\n",
       "rkJggg==\n",
       "\" style=\"display:inline;vertical-align:middle;\" /></a></span></td></tr>\n",
       "<tr><td>&nbsp;</td><td colspan=4 style=\"text-align:left\"><span style=\"font-size:20px;\"><a class=\"ProveItLink\" href=\"../../../../../../__pv_it/common/09585084922504426caf1db2ff588a23a0932a960/expr.ipynb\"><img src=\"data:image/png;base64,iVBORw0KGgoAAAANSUhEUgAAAA8AAAAPBAMAAADJ+Ih5AAAAMFBMVEX///8AAAAAAAAAAAAAAAAA\n",
       "AAAAAAAAAAAAAAAAAAAAAAAAAAAAAAAAAAAAAAAAAAAv3aB7AAAAD3RSTlMAIs1UmauJMnZmRLsQ\n",
       "3e++988cAAAACXBIWXMAAA7EAAAOxAGVKw4bAAAAXklEQVQI12NgAAEhBijQh9LM/6EMlngBCCMx\n",
       "vwBMMzb0G0BkGOwngBmLGeoTwAwHBvkAEM2xxSV+A4hxgoGB/wJEhoH3AZDmAupg+gBkyAEx90cG\n",
       "htP/dRiY939KAABt3hLO6mcEjQAAAABJRU5ErkJggg==\n",
       "\" style=\"display:inline;vertical-align:middle;\" /></a> : <a class=\"ProveItLink\" href=\"../../../__pv_it/theorems/ebe322aacd1b571c58879de875163df360acd3820/expr.ipynb\"><img src=\"data:image/png;base64,iVBORw0KGgoAAAANSUhEUgAAADcAAAAPBAMAAACy3Eq1AAAAMFBMVEX///8AAAAAAAAAAAAAAAAA\n",
       "AAAAAAAAAAAAAAAAAAAAAAAAAAAAAAAAAAAAAAAAAAAv3aB7AAAAD3RSTlMAIs1UmauJMnZmRLsQ\n",
       "3e++988cAAAACXBIWXMAAA7EAAAOxAGVKw4bAAABBElEQVQY02NgAAEhBjxAH43Puf9raNB2CJv5\n",
       "P1QwGSbLt4GBIb4AzGSJFwDTPJdgkvINDAzrHcDMxHyIIo6pC6CS84EC8xtALMaGfgOwEC/7Bqhk\n",
       "PBDrgY1jYbCfABYyY1CESr5mYDh6HcxazFCfAGYoMphA5Nh/d7RqQpgODPIBYKEABt4DEMs/MjDY\n",
       "gU3j2OISD7aLtYCBA+wIBu4HDAxs30GsEwwM/BdAjENAz4AZDPxAkzh/QExl4H0ACwJnsGQ90EjW\n",
       "X0AGF5DB9AEkdAEeyv1AX9QrABlyIDs+ggIUZB83ODj0gHoeAd12+r8OA/P+T0C/sIJcyg5SEf0/\n",
       "NFQbGC4A3Zk4p5FAwSQAAAAASUVORK5CYII=\n",
       "\" style=\"display:inline;vertical-align:middle;\" /></a></span></td></tr><tr><td><a name=\"0xed61f6a921b74ec_step2\">2</a></td><td>axiom</td><td></td><td><span style=\"font-size:20px;\"> <a class=\"ProveItLink\" href=\"../../../../negation/_theory_nbs_/axioms.ipynb#negation_elim\" style=\"text-decoration: none\">&nbsp;&#x22A2;&nbsp;&nbsp;</a><a class=\"ProveItLink\" href=\"../../../../negation/__pv_it/axioms/0fd3f403bc4d76bb1a3bc88358aa217c1bfc7dc50/expr.ipynb\"><img src=\"data:image/png;base64,iVBORw0KGgoAAAANSUhEUgAAAJcAAAAXBAMAAAD0AcCSAAAAMFBMVEX///8AAAAAAAAAAAAAAAAA\n",
       "AAAAAAAAAAAAAAAAAAAAAAAAAAAAAAAAAAAAAAAAAAAv3aB7AAAAD3RSTlMAq1RmmUTNIjK7EInv\n",
       "3XZ/CtNrAAAACXBIWXMAAA7EAAAOxAGVKw4bAAABvElEQVQ4y2NgIBoUUCSNCvgUwFQZLvk4IBYA\n",
       "MZSJMEwbQuVjkQoGW2bAwOAKYqQTNosrAUwx/ccipwcmsxgYGoEU+wTChrEYQCj5AlyGmTAwsC1g\n",
       "YOBWIGwYD4Tavr8Bl2E8CxiYgTayERFkamCS/cF7BVyGsQFNOnv37mkiDPOG+JJB3wCXYdzAuPRg\n",
       "YJgF5iyAKkcBC2CMZDAZxNC/AUT73gWBiyiGMQOjqJCBHZw8uE6AhThR4/AEjHUJTDow1AvgchnT\n",
       "AaDuBdwBYFd+wmIYVBAIjoLT0hQX+Qm4DOP4ADTwAST8I85hMQwqCDNsHQMD/wVchrECXcaQYAdm\n",
       "P0jEYhhUEOZNBwYG3gO4wowJZM2mLLAPGNwwDYMJAsE8kN2gZPQBl8uYQQFQAw7SCIY3SIbtnDlz\n",
       "5gWEIBBsBKkEyX/HZRgLKJ4ZwWnae7f8AlSXCSAEgaCXgWHl/ywGpvnfNqCaBPTxGbCPeQMQHmKo\n",
       "b0A3DC4IBLwNhJJ1LXIpwq+AapgDQhAUIg6EDHOGlwkHGbj8U9EiACEIAtMJmIWt6OHEpXglAcM4\n",
       "C0gwjP0BfsOeM5BgGDmAnQK9AL/XYzuwbv1UAAAAAElFTkSuQmCC\n",
       "\" style=\"display:inline;vertical-align:middle;\" /></a></span></td></tr>\n",
       "<tr><td>&nbsp;</td><td colspan=4 style-\"text-align:left\"><a class=\"ProveItLink\" href=\"../../../../negation/_theory_nbs_/axioms.ipynb#negation_elim\">proveit.logic.booleans.negation.negation_elim</a></td></tr><tr><td><a name=\"0xed61f6a921b74ec_step3\">3</a></td><td>instantiation</td><td><a href=\"#0xed61f6a921b74ec_step4\">4</a>, <a href=\"#0xed61f6a921b74ec_step5\">5</a>, <a href=\"#0xed61f6a921b74ec_step6\">6</a>, <a href=\"#0xed61f6a921b74ec_step8\">8</a></td><td><span style=\"font-size:20px;\"><a class=\"ProveItLink\" href=\"../../../../__pv_it/theorems/c6244e76de3be0816f3efc36199d65e50f6589940/expr.ipynb\"><img src=\"data:image/png;base64,iVBORw0KGgoAAAANSUhEUgAAABwAAAAPBAMAAAAFYbKSAAAAMFBMVEX///8AAAAAAAAAAAAAAAAA\n",
       "AAAAAAAAAAAAAAAAAAAAAAAAAAAAAAAAAAAAAAAAAAAv3aB7AAAAD3RSTlMAmd0iq81UiTJ2ZkS7\n",
       "EO8Z3gX6AAAACXBIWXMAAA7EAAAOxAGVKw4bAAAAaUlEQVQI12NgQADmAAZkwPoBhZuPyhX5jMxj\n",
       "N/+BzLXk/IbMFWD7hcTjTuD4zsAgpAQEikAuIwPzF6iMCRDPERT5g+DyTmBg+ITgMgIpPSjXkIFh\n",
       "F5CKRzj/AZA4bwDl8Z7/eoEh5384AEaRFfDwb8v9AAAAAElFTkSuQmCC\n",
       "\" style=\"display:inline;vertical-align:middle;\" /></a>, <a class=\"ProveItLink\" href=\"../../../../../../__pv_it/common/a9162d1c3cc0470c02e5daf414500903a7a419230/expr.ipynb\"><img src=\"data:image/png;base64,iVBORw0KGgoAAAANSUhEUgAAABAAAAAOBAMAAADUAYG5AAAAMFBMVEX///8AAAAAAAAAAAAAAAAA\n",
       "AAAAAAAAAAAAAAAAAAAAAAAAAAAAAAAAAAAAAAAAAAAv3aB7AAAAD3RSTlMAZrurzTLvInZEmRDd\n",
       "VIkafcLnAAAACXBIWXMAAA7EAAAOxAGVKw4bAAAAb0lEQVQI12NgYBD6b2zsFMAABEkMDMxfgTT7\n",
       "DwYGzl9ABiOQxwjkMDB/YGBgSQcy2BQYuG1AiuM1OkwEQJr6Cxh4E0EMNSB+D5L6DMTyDQwMrB+B\n",
       "DPsJDAwc34GcL0AOSwIDwzRvoHH6n41NdBkYAF/iFeJ4bEa2AAAAAElFTkSuQmCC\n",
       "\" style=\"display:inline;vertical-align:middle;\" /></a> <a class=\"ProveItLink\" href=\"../../../__pv_it/_proof_falsified_and_if_not_left/a36db8eee73e736267210fd73838925f9077e7f70/proof.ipynb\" style=\"text-decoration: none\">&nbsp;&#x22A2;&nbsp;&nbsp;</a><a class=\"ProveItLink\" href=\"../../../__pv_it/theorems/0567bf29b3602a47df1cf08da8d3e179ba950a980/expr.ipynb\"><img src=\"data:image/png;base64,iVBORw0KGgoAAAANSUhEUgAAAFYAAAAVBAMAAAAutAQGAAAAMFBMVEX///8AAAAAAAAAAAAAAAAA\n",
       "AAAAAAAAAAAAAAAAAAAAAAAAAAAAAAAAAAAAAAAAAAAv3aB7AAAAD3RSTlMAmd0iq3ZUiRDNZu9E\n",
       "uzLWhN+VAAAACXBIWXMAAA7EAAAOxAGVKw4bAAABh0lEQVQoz2NgQABmBjwATTIMIjgBq1qeAGQe\n",
       "WwGY4vyAqojr/hcXz3sMDFHIgp0QKh+qlj0BKs59gYHB/wEDZwOSWikIJfIZQjfB3GIPtP28AAOX\n",
       "AJLaDRDjzP9BuFE+UPH1D4AYqH4HknMh5piyfoPwFd5CJfyBeLYBA8MshFpGiNcE2H5BfcppAJHY\n",
       "y8DQogekSxBqOReAgyaB7zuEa8AGcSDf39AQsJErGYSUgEARyGQC+5uRgfkLWMkTBgYNMIMV6Nds\n",
       "kDnZEDNNQEFzAMSKFRT5CxbyY2AIBTN4gX5mB/n3PZpaDqB/P4FEOIA+bQLL8TsA4+MrkHEaoRbs\n",
       "BkYg1obFBCPYVe+B9rP8ATKSIGoNQXaBIvwUEM8HiTDBU0Y8MDjeg1hrEeHADrSLGRQf90FhtRQk\n",
       "dA9EzAYGzk5Q/Ioj1PIpMHDc/9nAkPt/OpDnARJ6CsS+/11c5oIdo4MUx3oMeAGzAhJnIX61jAuQ\n",
       "OLwGeNXaInM4LuBVexmFZ4pPKasBAwCtY0/Lm8R8fAAAAABJRU5ErkJggg==\n",
       "\" style=\"display:inline;vertical-align:middle;\" /></a></span></td></tr>\n",
       "<tr><td>&nbsp;</td><td colspan=4 style=\"text-align:left\"><span style=\"font-size:20px;\"><a class=\"ProveItLink\" href=\"../../../../../../__pv_it/common/09585084922504426caf1db2ff588a23a0932a960/expr.ipynb\"><img src=\"data:image/png;base64,iVBORw0KGgoAAAANSUhEUgAAAA8AAAAPBAMAAADJ+Ih5AAAAMFBMVEX///8AAAAAAAAAAAAAAAAA\n",
       "AAAAAAAAAAAAAAAAAAAAAAAAAAAAAAAAAAAAAAAAAAAv3aB7AAAAD3RSTlMAIs1UmauJMnZmRLsQ\n",
       "3e++988cAAAACXBIWXMAAA7EAAAOxAGVKw4bAAAAXklEQVQI12NgAAEhBijQh9LM/6EMlngBCCMx\n",
       "vwBMMzb0G0BkGOwngBmLGeoTwAwHBvkAEM2xxSV+A4hxgoGB/wJEhoH3AZDmAupg+gBkyAEx90cG\n",
       "htP/dRiY939KAABt3hLO6mcEjQAAAABJRU5ErkJggg==\n",
       "\" style=\"display:inline;vertical-align:middle;\" /></a> : <a class=\"ProveItLink\" href=\"../../../../../../__pv_it/common/09585084922504426caf1db2ff588a23a0932a960/expr.ipynb\"><img src=\"data:image/png;base64,iVBORw0KGgoAAAANSUhEUgAAAA8AAAAPBAMAAADJ+Ih5AAAAMFBMVEX///8AAAAAAAAAAAAAAAAA\n",
       "AAAAAAAAAAAAAAAAAAAAAAAAAAAAAAAAAAAAAAAAAAAv3aB7AAAAD3RSTlMAIs1UmauJMnZmRLsQ\n",
       "3e++988cAAAACXBIWXMAAA7EAAAOxAGVKw4bAAAAXklEQVQI12NgAAEhBijQh9LM/6EMlngBCCMx\n",
       "vwBMMzb0G0BkGOwngBmLGeoTwAwHBvkAEM2xxSV+A4hxgoGB/wJEhoH3AZDmAupg+gBkyAEx90cG\n",
       "htP/dRiY939KAABt3hLO6mcEjQAAAABJRU5ErkJggg==\n",
       "\" style=\"display:inline;vertical-align:middle;\" /></a>, <a class=\"ProveItLink\" href=\"../../../../../../__pv_it/common/a9162d1c3cc0470c02e5daf414500903a7a419230/expr.ipynb\"><img src=\"data:image/png;base64,iVBORw0KGgoAAAANSUhEUgAAABAAAAAOBAMAAADUAYG5AAAAMFBMVEX///8AAAAAAAAAAAAAAAAA\n",
       "AAAAAAAAAAAAAAAAAAAAAAAAAAAAAAAAAAAAAAAAAAAv3aB7AAAAD3RSTlMAZrurzTLvInZEmRDd\n",
       "VIkafcLnAAAACXBIWXMAAA7EAAAOxAGVKw4bAAAAb0lEQVQI12NgYBD6b2zsFMAABEkMDMxfgTT7\n",
       "DwYGzl9ABiOQxwjkMDB/YGBgSQcy2BQYuG1AiuM1OkwEQJr6Cxh4E0EMNSB+D5L6DMTyDQwMrB+B\n",
       "DPsJDAwc34GcL0AOSwIDwzRvoHH6n41NdBkYAF/iFeJ4bEa2AAAAAElFTkSuQmCC\n",
       "\" style=\"display:inline;vertical-align:middle;\" /></a> : <a class=\"ProveItLink\" href=\"../../../../../../__pv_it/common/a9162d1c3cc0470c02e5daf414500903a7a419230/expr.ipynb\"><img src=\"data:image/png;base64,iVBORw0KGgoAAAANSUhEUgAAABAAAAAOBAMAAADUAYG5AAAAMFBMVEX///8AAAAAAAAAAAAAAAAA\n",
       "AAAAAAAAAAAAAAAAAAAAAAAAAAAAAAAAAAAAAAAAAAAv3aB7AAAAD3RSTlMAZrurzTLvInZEmRDd\n",
       "VIkafcLnAAAACXBIWXMAAA7EAAAOxAGVKw4bAAAAb0lEQVQI12NgYBD6b2zsFMAABEkMDMxfgTT7\n",
       "DwYGzl9ABiOQxwjkMDB/YGBgSQcy2BQYuG1AiuM1OkwEQJr6Cxh4E0EMNSB+D5L6DMTyDQwMrB+B\n",
       "DPsJDAwc34GcL0AOSwIDwzRvoHH6n41NdBkYAF/iFeJ4bEa2AAAAAElFTkSuQmCC\n",
       "\" style=\"display:inline;vertical-align:middle;\" /></a></span></td></tr><tr><td><a name=\"0xed61f6a921b74ec_step4\">4</a></td><td>conjecture</td><td></td><td><span style=\"font-size:20px;\"> <a class=\"ProveItLink\" href=\"../nand_if_not_left/thm_proof.ipynb\" style=\"text-decoration: none\">&nbsp;&#x22A2;&nbsp;&nbsp;</a><a class=\"ProveItLink\" href=\"../../../__pv_it/theorems/d1a8d850df39db46e655bd55dea2076f61270d090/expr.ipynb\"><img src=\"data:image/png;base64,iVBORw0KGgoAAAANSUhEUgAAANkAAAAXBAMAAAB0cveBAAAAMFBMVEX///8AAAAAAAAAAAAAAAAA\n",
       "AAAAAAAAAAAAAAAAAAAAAAAAAAAAAAAAAAAAAAAAAAAv3aB7AAAAD3RSTlMAq1RmmUTNIjK7EInv\n",
       "3XZ/CtNrAAAACXBIWXMAAA7EAAAOxAGVKw4bAAADNklEQVRIx7VVTWhTQRCe5CV5Ly/JMwUpXqQP\n",
       "FUE8GKEURNTWVrG0asBLEdGKSLEejBcvahuPomLRg0a0zUGEokLag6g5WCtiRZQgIh4MPBUUQbTV\n",
       "UmuL1tmZTdw0TYupLnx5u7OT+WbnZxdgHiOmzPU5NWMwr2HZyuItc7bOrLpbIiwWS8tiW6nM3Sn6\n",
       "+Ian6ayZqqg4EAcrAoRNQtZWDpmpnuMaf1bl2PpzG48BXOMA7UA4Ic7fVQ6bJ6Is6vlT91168jKX\n",
       "zl8A3lGAaiD4kgABuxy2oLoYoN/A0XGZ0tVRnmgo0JAxmCRo6KGvrLQtV9PGUe2wvvI6ZMhwuTC0\n",
       "vkeICONpNvukLLYmNapcJLXub7kCkqUQ7AJzcRxPHWZsAbhEG8mSdmsLq0N+9ykyH+XQaxuTvG6D\n",
       "ZTw52/25UuxprYzDoFMXmEO0fXI03RiXobq1dSNNCovohtx+jkfKioHOhCjzHtBHaMsIQ4id/xID\n",
       "9wMR6gGGPxmgjAY45FoGLJQabxJRK6AviRez3ZM19TBXduhskEx8bKj7wdnCDnNodln8AY0Ywwy3\n",
       "w0XS8owVa0FDaQNqWAG4axexeU87JdhM3PiZ6z4zQzNx1g0o9w4woHU9yZ29nFYbbkao75FNX5ss\n",
       "YrN84Xwk82wUSQ/idb63KQmGqJoqdMWdYUB/OxmBzaTY+a56EUAviTzNQ8V5czzyDunOsWHe/OK8\n",
       "OxCHSCTMHiET2O3GmEhQFwOOka8t8IkU14G5kP+IZzO2RfNsgUQicQXDEbe4k6FPcUEUty7kPeKm\n",
       "1wS3X6Tch7Jd7bJFqE1cVAlN6SqKGlJ1RqEGTduYt1Sq4Gwu/Eu6b4IXZxQ2IwNmz1gSVkwdFGrC\n",
       "koGUrp6Rispz1O5RhswGkhDrIMCeOJzis0HKmc7mgC5vp1BcoXs1x1VwXIIHhm6BbaZAnwDzhWgL\n",
       "ZrtdyOYBL5aPvJ00temr52Cr/3Nzo5n7YG7fbwxCzWS6EetLvyi6+/2d89OrpDkMV8dkRC4o1vyz\n",
       "v8zilSl6adz52fVEIh9lKPEg9arX2eyPlnCmyKGdM+uWsKQ7yqJjVrYPEgUj8lds/2nE/pWh3w2X\n",
       "xPyrupRAAAAAAElFTkSuQmCC\n",
       "\" style=\"display:inline;vertical-align:middle;\" /></a></span></td></tr>\n",
       "<tr><td>&nbsp;</td><td colspan=4 style-\"text-align:left\"><a class=\"ProveItLink\" href=\"../nand_if_not_left/thm_proof.ipynb\">proveit.logic.booleans.conjunction.nand_if_not_left</a></td></tr><tr><td><a name=\"0xed61f6a921b74ec_step5\">5</a></td><td>instantiation</td><td><a href=\"#0xed61f6a921b74ec_step7\">7</a>, <a href=\"#0xed61f6a921b74ec_step8\">8</a></td><td><span style=\"font-size:20px;\"><a class=\"ProveItLink\" href=\"../../../../__pv_it/theorems/c6244e76de3be0816f3efc36199d65e50f6589940/expr.ipynb\"><img src=\"data:image/png;base64,iVBORw0KGgoAAAANSUhEUgAAABwAAAAPBAMAAAAFYbKSAAAAMFBMVEX///8AAAAAAAAAAAAAAAAA\n",
       "AAAAAAAAAAAAAAAAAAAAAAAAAAAAAAAAAAAAAAAAAAAv3aB7AAAAD3RSTlMAmd0iq81UiTJ2ZkS7\n",
       "EO8Z3gX6AAAACXBIWXMAAA7EAAAOxAGVKw4bAAAAaUlEQVQI12NgQADmAAZkwPoBhZuPyhX5jMxj\n",
       "N/+BzLXk/IbMFWD7hcTjTuD4zsAgpAQEikAuIwPzF6iMCRDPERT5g+DyTmBg+ITgMgIpPSjXkIFh\n",
       "F5CKRzj/AZA4bwDl8Z7/eoEh5384AEaRFfDwb8v9AAAAAElFTkSuQmCC\n",
       "\" style=\"display:inline;vertical-align:middle;\" /></a> <a class=\"ProveItLink\" href=\"../../../__pv_it/_proof_falsified_and_if_not_left/34c9df34d8ded39595ee0319d56b7babd0d25b8f0/proof.ipynb\" style=\"text-decoration: none\">&nbsp;&#x22A2;&nbsp;&nbsp;</a><a class=\"ProveItLink\" href=\"../../../../__pv_it/theorems/a10dbfd9a4efbb6f30af430036ab01697a9460f80/expr.ipynb\"><img src=\"data:image/png;base64,iVBORw0KGgoAAAANSUhEUgAAADYAAAAQBAMAAACvnpHFAAAAMFBMVEX///8AAAAAAAAAAAAAAAAA\n",
       "AAAAAAAAAAAAAAAAAAAAAAAAAAAAAAAAAAAAAAAAAAAv3aB7AAAAD3RSTlMAIs1UmauJMnZmRLsQ\n",
       "3e++988cAAAACXBIWXMAAA7EAAAOxAGVKw4bAAAA40lEQVQY02NgAAEhBhTAcW/Tp7dRUI4+qhwD\n",
       "N1eD0NEFYCbzfwy5CWwCG8BMlngBDDlOgwAwMzG/AGrR3ruX4HIKIBZjQ78BWIpL4wBcH6tkAthI\n",
       "BvsJEOcegJvZ0xsGZi1mqAerYVBE2Hfp/RWwQgcGeYi9Ckhu4ZilA3LAFpd4sHvZ3969e/c2VI5h\n",
       "wzIg4wQDA/8FkAjPBiR9DBu4wUYy8D4AC11AkWMCOhzoRqYPYKEOFDkLBgY5EPsjWIjJAC6XwNbm\n",
       "wHD6vw4D8/5PYE/wRK+BBI/ebkQ8wABXNiTMIAAAYXA8zHUEOxUAAAAASUVORK5CYII=\n",
       "\" style=\"display:inline;vertical-align:middle;\" /></a></span></td></tr>\n",
       "<tr><td>&nbsp;</td><td colspan=4 style=\"text-align:left\"><span style=\"font-size:20px;\"><a class=\"ProveItLink\" href=\"../../../../../../__pv_it/common/09585084922504426caf1db2ff588a23a0932a960/expr.ipynb\"><img src=\"data:image/png;base64,iVBORw0KGgoAAAANSUhEUgAAAA8AAAAPBAMAAADJ+Ih5AAAAMFBMVEX///8AAAAAAAAAAAAAAAAA\n",
       "AAAAAAAAAAAAAAAAAAAAAAAAAAAAAAAAAAAAAAAAAAAv3aB7AAAAD3RSTlMAIs1UmauJMnZmRLsQ\n",
       "3e++988cAAAACXBIWXMAAA7EAAAOxAGVKw4bAAAAXklEQVQI12NgAAEhBijQh9LM/6EMlngBCCMx\n",
       "vwBMMzb0G0BkGOwngBmLGeoTwAwHBvkAEM2xxSV+A4hxgoGB/wJEhoH3AZDmAupg+gBkyAEx90cG\n",
       "htP/dRiY939KAABt3hLO6mcEjQAAAABJRU5ErkJggg==\n",
       "\" style=\"display:inline;vertical-align:middle;\" /></a> : <a class=\"ProveItLink\" href=\"../../../../../../__pv_it/common/09585084922504426caf1db2ff588a23a0932a960/expr.ipynb\"><img src=\"data:image/png;base64,iVBORw0KGgoAAAANSUhEUgAAAA8AAAAPBAMAAADJ+Ih5AAAAMFBMVEX///8AAAAAAAAAAAAAAAAA\n",
       "AAAAAAAAAAAAAAAAAAAAAAAAAAAAAAAAAAAAAAAAAAAv3aB7AAAAD3RSTlMAIs1UmauJMnZmRLsQ\n",
       "3e++988cAAAACXBIWXMAAA7EAAAOxAGVKw4bAAAAXklEQVQI12NgAAEhBijQh9LM/6EMlngBCCMx\n",
       "vwBMMzb0G0BkGOwngBmLGeoTwAwHBvkAEM2xxSV+A4hxgoGB/wJEhoH3AZDmAupg+gBkyAEx90cG\n",
       "htP/dRiY939KAABt3hLO6mcEjQAAAABJRU5ErkJggg==\n",
       "\" style=\"display:inline;vertical-align:middle;\" /></a></span></td></tr><tr><td><a name=\"0xed61f6a921b74ec_step6\">6</a></td><td>instantiation</td><td><a href=\"#0xed61f6a921b74ec_step9\">9</a>, <a href=\"#0xed61f6a921b74ec_step10\">10</a></td><td><span style=\"font-size:20px;\"><a class=\"ProveItLink\" href=\"../../../../../../__pv_it/common/a9162d1c3cc0470c02e5daf414500903a7a419230/expr.ipynb\"><img src=\"data:image/png;base64,iVBORw0KGgoAAAANSUhEUgAAABAAAAAOBAMAAADUAYG5AAAAMFBMVEX///8AAAAAAAAAAAAAAAAA\n",
       "AAAAAAAAAAAAAAAAAAAAAAAAAAAAAAAAAAAAAAAAAAAv3aB7AAAAD3RSTlMAZrurzTLvInZEmRDd\n",
       "VIkafcLnAAAACXBIWXMAAA7EAAAOxAGVKw4bAAAAb0lEQVQI12NgYBD6b2zsFMAABEkMDMxfgTT7\n",
       "DwYGzl9ABiOQxwjkMDB/YGBgSQcy2BQYuG1AiuM1OkwEQJr6Cxh4E0EMNSB+D5L6DMTyDQwMrB+B\n",
       "DPsJDAwc34GcL0AOSwIDwzRvoHH6n41NdBkYAF/iFeJ4bEa2AAAAAElFTkSuQmCC\n",
       "\" style=\"display:inline;vertical-align:middle;\" /></a> <a class=\"ProveItLink\" href=\"../../../__pv_it/_proof_falsified_and_if_not_left/fb54f6a93d4d629212074fed8f13bfecfe337ec70/proof.ipynb\" style=\"text-decoration: none\">&nbsp;&#x22A2;&nbsp;&nbsp;</a><a class=\"ProveItLink\" href=\"../../../__pv_it/theorems/c50b73f2d168f6a3012768bd45c62ea92218bcbc0/expr.ipynb\"><img src=\"data:image/png;base64,iVBORw0KGgoAAAANSUhEUgAAADcAAAAQBAMAAABAXPr7AAAAMFBMVEX///8AAAAAAAAAAAAAAAAA\n",
       "AAAAAAAAAAAAAAAAAAAAAAAAAAAAAAAAAAAAAAAAAAAv3aB7AAAAD3RSTlMAZrurzTLvInZEmRDd\n",
       "VIkafcLnAAAACXBIWXMAAA7EAAAOxAGVKw4bAAAA8UlEQVQY02NgwAZ6kvzdDk8AsYT+Gxs7BaDK\n",
       "Ksxg97YEs5IYGJi/oklOZHjOBGKw/2Bg4PyFISnLDGIwAnUx/gCLceicOQKXZAExmD8wMLCkg1ic\n",
       "HhsQOs3lQAw2BQZuG7CDSjYgHLTj8AMQI16jw0QALOSOsHOO25/VIEZ/AQNvIljIAdlBjVNA5qgB\n",
       "8XuQsaw5Z86cOQSTZOIEmfsZiOUbgAS3ArJOJgYgl/UjkGMPDqsDqJJAWzi+AxV8AQt1oEjyAk1j\n",
       "SWBgmOYNFmK5AJecx/DiFTAI9D8bm+hChLiNZkMYLUn60FhBApyPoMEHAQCDjz3xiC/o5wAAAABJ\n",
       "RU5ErkJggg==\n",
       "\" style=\"display:inline;vertical-align:middle;\" /></a></span></td></tr>\n",
       "<tr><td>&nbsp;</td><td colspan=4 style=\"text-align:left\"><span style=\"font-size:20px;\"><a class=\"ProveItLink\" href=\"../../../../../../__pv_it/common/09585084922504426caf1db2ff588a23a0932a960/expr.ipynb\"><img src=\"data:image/png;base64,iVBORw0KGgoAAAANSUhEUgAAAA8AAAAPBAMAAADJ+Ih5AAAAMFBMVEX///8AAAAAAAAAAAAAAAAA\n",
       "AAAAAAAAAAAAAAAAAAAAAAAAAAAAAAAAAAAAAAAAAAAv3aB7AAAAD3RSTlMAIs1UmauJMnZmRLsQ\n",
       "3e++988cAAAACXBIWXMAAA7EAAAOxAGVKw4bAAAAXklEQVQI12NgAAEhBijQh9LM/6EMlngBCCMx\n",
       "vwBMMzb0G0BkGOwngBmLGeoTwAwHBvkAEM2xxSV+A4hxgoGB/wJEhoH3AZDmAupg+gBkyAEx90cG\n",
       "htP/dRiY939KAABt3hLO6mcEjQAAAABJRU5ErkJggg==\n",
       "\" style=\"display:inline;vertical-align:middle;\" /></a> : <a class=\"ProveItLink\" href=\"../../../../../../__pv_it/common/a9162d1c3cc0470c02e5daf414500903a7a419230/expr.ipynb\"><img src=\"data:image/png;base64,iVBORw0KGgoAAAANSUhEUgAAABAAAAAOBAMAAADUAYG5AAAAMFBMVEX///8AAAAAAAAAAAAAAAAA\n",
       "AAAAAAAAAAAAAAAAAAAAAAAAAAAAAAAAAAAAAAAAAAAv3aB7AAAAD3RSTlMAZrurzTLvInZEmRDd\n",
       "VIkafcLnAAAACXBIWXMAAA7EAAAOxAGVKw4bAAAAb0lEQVQI12NgYBD6b2zsFMAABEkMDMxfgTT7\n",
       "DwYGzl9ABiOQxwjkMDB/YGBgSQcy2BQYuG1AiuM1OkwEQJr6Cxh4E0EMNSB+D5L6DMTyDQwMrB+B\n",
       "DPsJDAwc34GcL0AOSwIDwzRvoHH6n41NdBkYAF/iFeJ4bEa2AAAAAElFTkSuQmCC\n",
       "\" style=\"display:inline;vertical-align:middle;\" /></a></span></td></tr><tr><td><a name=\"0xed61f6a921b74ec_step7\">7</a></td><td>conjecture</td><td></td><td><span style=\"font-size:20px;\"> <a class=\"ProveItLink\" href=\"../../../../_theory_nbs_/proofs/in_bool_if_false/thm_proof.ipynb\" style=\"text-decoration: none\">&nbsp;&#x22A2;&nbsp;&nbsp;</a><a class=\"ProveItLink\" href=\"../../../../__pv_it/theorems/a2b8a2e2dfd32d0bf3695b9c33787323fc46955c0/expr.ipynb\"><img src=\"data:image/png;base64,iVBORw0KGgoAAAANSUhEUgAAAJMAAAAXBAMAAAD96mDoAAAAMFBMVEX///8AAAAAAAAAAAAAAAAA\n",
       "AAAAAAAAAAAAAAAAAAAAAAAAAAAAAAAAAAAAAAAAAAAv3aB7AAAAD3RSTlMAq1RmmUTNIjK7EInv\n",
       "3XZ/CtNrAAAACXBIWXMAAA7EAAAOxAGVKw4bAAACIklEQVQ4y2NgIBoUkC2JDvgUwFQZmuidad/O\n",
       "ijIwxAHZAiABZSKM0oZQ+WjCnKwPyhYGMPAZMDC4gvjphE3iSgBTTP8xjDLgLpjAwJDFwNAI5LJP\n",
       "IGwUiwGEki/AMIpZAeg1EwYGtgUMDNwKhI3igVDb9zdAA2nu3Wtwo4Au5lnAwAy0jY2IoFIDk+wP\n",
       "3kOsZc1bAHcVY/EGoBlAc87evXuaCKO8If5j0Id4tGwB3IOv3koDaW6gJz0YGGaBBRdAFaMAmA6G\n",
       "ZDAZxNC/gQElojhZr52/AlTFDPRkIQM7OEFwnYBIocbbCRjrEph0YKgHK2ZIQAp2PlNg9DEdALIX\n",
       "cAeAxLg/YTEKKggER8FhPcVFHhzbHMBguXsTahTDhGigyAegcQ8goR5xDotRUEGYUesYGPgvgF07\n",
       "AclVDBOAmlgPgNxqBxZ7kIjFKKggzIMODAy8B8DcCyhGAR3DBBLZlAV2O4MbplEwQSCYB0oBoITz\n",
       "Acx9h2KUHjDYQe6sAQdkBMMbJKN2zpw58wJCEAg2glSC5L+DuWwKcKM2cL8GupYFFLOM4PTrvVt+\n",
       "AaqrBBCCQNDLwLDyfxYD0/xv4NTAJRkFcXfOTHDJwMAbgPAKQ30DulFwQZDSBtQEx7oTknFgoBbO\n",
       "CgbGjQKqUQ4IQSBgdsCfG5zh+f4gA5d/KlqwIwRBYDpek7AVLpy4FK/EaxRnAQlGsT/AZ9RzBhKM\n",
       "Ih2wk60TAIONd87E/YbnAAAAAElFTkSuQmCC\n",
       "\" style=\"display:inline;vertical-align:middle;\" /></a></span></td></tr>\n",
       "<tr><td>&nbsp;</td><td colspan=4 style-\"text-align:left\"><a class=\"ProveItLink\" href=\"../../../../_theory_nbs_/proofs/in_bool_if_false/thm_proof.ipynb\">proveit.logic.booleans.in_bool_if_false</a></td></tr><tr><td><a name=\"0xed61f6a921b74ec_step8\">8</a></td><td>assumption</td><td></td><td><span style=\"font-size:20px;\"><a class=\"ProveItLink\" href=\"../../../../__pv_it/theorems/c6244e76de3be0816f3efc36199d65e50f6589940/expr.ipynb\"><img src=\"data:image/png;base64,iVBORw0KGgoAAAANSUhEUgAAABwAAAAPBAMAAAAFYbKSAAAAMFBMVEX///8AAAAAAAAAAAAAAAAA\n",
       "AAAAAAAAAAAAAAAAAAAAAAAAAAAAAAAAAAAAAAAAAAAv3aB7AAAAD3RSTlMAmd0iq81UiTJ2ZkS7\n",
       "EO8Z3gX6AAAACXBIWXMAAA7EAAAOxAGVKw4bAAAAaUlEQVQI12NgQADmAAZkwPoBhZuPyhX5jMxj\n",
       "N/+BzLXk/IbMFWD7hcTjTuD4zsAgpAQEikAuIwPzF6iMCRDPERT5g+DyTmBg+ITgMgIpPSjXkIFh\n",
       "F5CKRzj/AZA4bwDl8Z7/eoEh5384AEaRFfDwb8v9AAAAAElFTkSuQmCC\n",
       "\" style=\"display:inline;vertical-align:middle;\" /></a> <a class=\"ProveItLink\" href=\"../../../__pv_it/_proof_falsified_and_if_not_left/62bc27149aae5522131bc80b219470722f3e45de0/proof.ipynb\" style=\"text-decoration: none\">&nbsp;&#x22A2;&nbsp;&nbsp;</a><a class=\"ProveItLink\" href=\"../../../../__pv_it/theorems/c6244e76de3be0816f3efc36199d65e50f6589940/expr.ipynb\"><img src=\"data:image/png;base64,iVBORw0KGgoAAAANSUhEUgAAABwAAAAPBAMAAAAFYbKSAAAAMFBMVEX///8AAAAAAAAAAAAAAAAA\n",
       "AAAAAAAAAAAAAAAAAAAAAAAAAAAAAAAAAAAAAAAAAAAv3aB7AAAAD3RSTlMAmd0iq81UiTJ2ZkS7\n",
       "EO8Z3gX6AAAACXBIWXMAAA7EAAAOxAGVKw4bAAAAaUlEQVQI12NgQADmAAZkwPoBhZuPyhX5jMxj\n",
       "N/+BzLXk/IbMFWD7hcTjTuD4zsAgpAQEikAuIwPzF6iMCRDPERT5g+DyTmBg+ITgMgIpPSjXkIFh\n",
       "F5CKRzj/AZA4bwDl8Z7/eoEh5384AEaRFfDwb8v9AAAAAElFTkSuQmCC\n",
       "\" style=\"display:inline;vertical-align:middle;\" /></a></span></td></tr>\n",
       "<tr><td><a name=\"0xed61f6a921b74ec_step9\">9</a></td><td>conjecture</td><td></td><td><span style=\"font-size:20px;\"> <a class=\"ProveItLink\" href=\"../../../../_theory_nbs_/proofs/in_bool_if_true/thm_proof.ipynb\" style=\"text-decoration: none\">&nbsp;&#x22A2;&nbsp;&nbsp;</a><a class=\"ProveItLink\" href=\"../../../../__pv_it/theorems/858f6fea2a9d198e3a6e9cbe3c54c9eff7cff4060/expr.ipynb\"><img src=\"data:image/png;base64,iVBORw0KGgoAAAANSUhEUgAAAIgAAAAXBAMAAAAipBr3AAAAMFBMVEX///8AAAAAAAAAAAAAAAAA\n",
       "AAAAAAAAAAAAAAAAAAAAAAAAAAAAAAAAAAAAAAAAAAAv3aB7AAAAD3RSTlMAq1RmmUTNIjK7EInv\n",
       "3XZ/CtNrAAAACXBIWXMAAA7EAAAOxAGVKw4bAAACIklEQVQ4y2NgIAKwky2JBB5BVCegir49mZ9z\n",
       "MYCB9QEDgwCIr4zXDKYNYIrtA5r4hDj2LFEGhscMDK4gbjpeQ5ZBKH0MQ4IZtnMCDV/A0Ahy6AS8\n",
       "hjhDKMfvmIYYMTIwMDuAzGHgVsBryAEwyV39A8Llm3v3GtwQNiB9ioHZAOgg/EECCdA6vk9gmjVv\n",
       "AcIl4tZAOpmB4ezdu6fxGsICCVcHps9gumwBImDXXQTJbWRg8GBgmAUWg0iywJRwwRhsBmAHKHD8\n",
       "ZkCNhAmxOX+9gLQZA0MhAzs4mrlOgGU4YUrWNEAZvAoQw9k/grkJyAH7OAxotQ5Q1wLuAHDAfUI1\n",
       "ZD8stHnA0i9dHH+CaA6g9+/ehBnCyQr0Tz8w3B5AwjXiHIohrD0PkA3hAvL+gh08AdklnAxAbgzI\n",
       "fXZgoQeJKIbwsQkgewcUVHfA3AuohgB9pwtkb8oCa2JwQzHkAQvM85wgJwUDcT6Y+w7FECagpCWQ\n",
       "XQO2MoLhDbIhrA18B6BquYHy7CDO/AJwZMFT5oRohn1bgLQ3EDOCo8F7t/wCJENYdm/8BVXLcYGB\n",
       "a/63BQya/7PBgSIZBRF/dnI+KBczMFyFmcrHwFDfgGTIAwb2HzC5G6iJj3UnNNnDChR4KAH9zK+A\n",
       "MIQVmMA+weRM8Jc2LAYwxkEGLv9UhCE+AgxLvgXAQrYAryGVmEKcmEJc+EuK6UQZwlCHzwy+AuIM\n",
       "IRmwk6EHAIkOfgF9LtBuAAAAAElFTkSuQmCC\n",
       "\" style=\"display:inline;vertical-align:middle;\" /></a></span></td></tr>\n",
       "<tr><td>&nbsp;</td><td colspan=4 style-\"text-align:left\"><a class=\"ProveItLink\" href=\"../../../../_theory_nbs_/proofs/in_bool_if_true/thm_proof.ipynb\">proveit.logic.booleans.in_bool_if_true</a></td></tr><tr><td><a name=\"0xed61f6a921b74ec_step10\">10</a></td><td>assumption</td><td></td><td><span style=\"font-size:20px;\"><a class=\"ProveItLink\" href=\"../../../../../../__pv_it/common/a9162d1c3cc0470c02e5daf414500903a7a419230/expr.ipynb\"><img src=\"data:image/png;base64,iVBORw0KGgoAAAANSUhEUgAAABAAAAAOBAMAAADUAYG5AAAAMFBMVEX///8AAAAAAAAAAAAAAAAA\n",
       "AAAAAAAAAAAAAAAAAAAAAAAAAAAAAAAAAAAAAAAAAAAv3aB7AAAAD3RSTlMAZrurzTLvInZEmRDd\n",
       "VIkafcLnAAAACXBIWXMAAA7EAAAOxAGVKw4bAAAAb0lEQVQI12NgYBD6b2zsFMAABEkMDMxfgTT7\n",
       "DwYGzl9ABiOQxwjkMDB/YGBgSQcy2BQYuG1AiuM1OkwEQJr6Cxh4E0EMNSB+D5L6DMTyDQwMrB+B\n",
       "DPsJDAwc34GcL0AOSwIDwzRvoHH6n41NdBkYAF/iFeJ4bEa2AAAAAElFTkSuQmCC\n",
       "\" style=\"display:inline;vertical-align:middle;\" /></a> <a class=\"ProveItLink\" href=\"../../../__pv_it/_proof_falsified_and_if_not_left/d43a9c2d2ebf0b3b961e71c77fe7ef917c06ce470/proof.ipynb\" style=\"text-decoration: none\">&nbsp;&#x22A2;&nbsp;&nbsp;</a><a class=\"ProveItLink\" href=\"../../../../../../__pv_it/common/a9162d1c3cc0470c02e5daf414500903a7a419230/expr.ipynb\"><img src=\"data:image/png;base64,iVBORw0KGgoAAAANSUhEUgAAABAAAAAOBAMAAADUAYG5AAAAMFBMVEX///8AAAAAAAAAAAAAAAAA\n",
       "AAAAAAAAAAAAAAAAAAAAAAAAAAAAAAAAAAAAAAAAAAAv3aB7AAAAD3RSTlMAZrurzTLvInZEmRDd\n",
       "VIkafcLnAAAACXBIWXMAAA7EAAAOxAGVKw4bAAAAb0lEQVQI12NgYBD6b2zsFMAABEkMDMxfgTT7\n",
       "DwYGzl9ABiOQxwjkMDB/YGBgSQcy2BQYuG1AiuM1OkwEQJr6Cxh4E0EMNSB+D5L6DMTyDQwMrB+B\n",
       "DPsJDAwc34GcL0AOSwIDwzRvoHH6n41NdBkYAF/iFeJ4bEa2AAAAAElFTkSuQmCC\n",
       "\" style=\"display:inline;vertical-align:middle;\" /></a></span></td></tr>\n",
       "</table>"
      ],
      "text/plain": [
       "\tstep type\trequirements\tstatement\n",
       "0\tgeneralization\t1\t|- forall_{A, B | [not](A), B} ((A and B) = FALSE)\n",
       "1\tinstantiation\t2, 3\t{[not](A), B} |- (A and B) = FALSE\n",
       "\tA : A and B\n",
       "2\taxiom\t\t|- forall_{A | [not](A)} (A = FALSE)\n",
       "\tproveit.logic.booleans.negation.negation_elim\n",
       "3\tinstantiation\t4, 5, 6, 8\t{[not](A), B} |- [not](A and B)\n",
       "\tA : A, B : B\n",
       "4\tconjecture\t\t|- forall_{A, B in BOOLEAN | [not](A)} [not](A and B)\n",
       "\tproveit.logic.booleans.conjunction.nand_if_not_left\n",
       "5\tinstantiation\t7, 8\t{[not](A)} |- A in BOOLEAN\n",
       "\tA : A\n",
       "6\tinstantiation\t9, 10\t{B} |- B in BOOLEAN\n",
       "\tA : B\n",
       "7\tconjecture\t\t|- forall_{A | [not](A)} (A in BOOLEAN)\n",
       "\tproveit.logic.booleans.in_bool_if_false\n",
       "8\tassumption\t\t{[not](A)} |- [not](A)\n",
       "9\tconjecture\t\t|- forall_{A | A} (A in BOOLEAN)\n",
       "\tproveit.logic.booleans.in_bool_if_true\n",
       "10\tassumption\t\t{B} |- B"
      ]
     },
     "execution_count": 6,
     "metadata": {},
     "output_type": "execute_result"
    }
   ],
   "source": [
    "# To do this manually, we'd execute nand.equate_negated_to_false(assumptions=conditions) and then generalize.\n",
    "# But it can figure this out via automation.\n",
    "%qed"
   ]
  },
  {
   "cell_type": "code",
   "execution_count": null,
   "metadata": {},
   "outputs": [],
   "source": []
  }
 ],
 "metadata": {
  "kernelspec": {
   "display_name": "Python 3",
   "language": "python",
   "name": "python3"
  }
 },
 "nbformat": 4,
 "nbformat_minor": 0
}