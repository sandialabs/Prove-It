{
 "cells": [
  {
   "cell_type": "markdown",
   "metadata": {},
   "source": [
    "Proof of <a class=\"ProveItLink\" href=\"../../../../../../_theory_nbs_/theory.ipynb\">proveit</a>.<a class=\"ProveItLink\" href=\"../../../../../_theory_nbs_/theory.ipynb\">logic</a>.<a class=\"ProveItLink\" href=\"../../../../_theory_nbs_/theory.ipynb\">booleans</a>.<a class=\"ProveItLink\" href=\"../../theory.ipynb\">conjunction</a>.<a class=\"ProveItLink\" href=\"../../theorems.ipynb#associate\">associate</a> theorem\n",
    "========"
   ]
  },
  {
   "cell_type": "code",
   "execution_count": 1,
   "metadata": {},
   "outputs": [],
   "source": [
    "import proveit\n",
    "theory = proveit.Theory() # the theorem's theory"
   ]
  },
  {
   "cell_type": "code",
   "execution_count": 2,
   "metadata": {},
   "outputs": [
    {
     "data": {
      "text/html": [
       "With these <a href=\"allowed_presumptions.txt\">allowed</a>/<a href=\"disallowed_presumptions.txt\">disallowed</a> theorem/theory presumptions (e.g., to avoid circular dependencies), we begin our proof of<br><strong id=\"associate\">associate:</strong> <a class=\"ProveItLink\" href=\"../../../__pv_it/theorems/23a3bae2719ded9e266487870887337e316e35db0/expr.ipynb\"><img src=\"data:image/png;base64,iVBORw0KGgoAAAANSUhEUgAABRQAAAAZBAMAAACybr+iAAAAMFBMVEX///8AAAAAAAAAAAAAAAAA\n",
       "AAAAAAAAAAAAAAAAAAAAAAAAAAAAAAAAAAAAAAAAAAAv3aB7AAAAD3RSTlMAq1RmmUTNIjK7EInv\n",
       "3XZ/CtNrAAAACXBIWXMAAA7EAAAOxAGVKw4bAAAK5UlEQVRo3u1be4xU1Rn/5nnv3HnsbEoNNsGd\n",
       "BmtoFpZpWU3oywGhKW6NE/zHVFppTUOkNgxJY7PFslPjH5qssJoSoWnlosSUrOhAtQ82hRVLsZrK\n",
       "BB8hxI1DkRIoXVcqyyqR7Xnd87jnTOfe1iU1mS/ZO+d853e+75t7fvec75w7CxBc5oxVoC1tmQnJ\n",
       "jR0NA1/dvmP/pcz8I2x94gz7b8+iNhWvxCNfoKPa5AbeG9KcCf+3mYo90Zj5+/MdSsU8/pgbkIoR\n",
       "/BEttskVTrrpR3LC3LwupDkDPloDiG1/r/OqrXpbM30zWTzd2Xl3lVdP+tudM52fsmp6v2ce6Sxu\n",
       "CO5GMpMrEioux+U1AakYL+M72s4Yw4nDZsOFMhX3ChpNg1GvSLpgxHvop/AlMwTQVdUt+fSSKTB6\n",
       "/gtAZIqrk66v+dxZiN5S1LrlXnXh2teCe5HNrCVU/BleOYYCUtHGc2h/m1zhJM5u+JKLEj3fFM1d\n",
       "FaNekd2rTXiOvglfBtBaemdJt6TqZVPKA+PhrctoWX5fTKoltXnXMXS5VQvB+RUie/xiYC+KmV5C\n",
       "RUz6ZgzWc8W1zZ/btjSTDJsnNkxJ6eMXyl7xdweqRr0iJz8NBjxHj+LLjUh/Y0O3pOplU0pC6+Fj\n",
       "KMzYZdHwstp8D54lV2ndkhiWGA3sRTGTcTEVY+iRTQbetixq717Cy3X0Y2PuvNBlbW8lshrvFkx6\n",
       "VeoPgQHvoaNkTLrwCFd0S6peMqUIx0dQHpE8LBruUprT5Es8oHU7gIOyS0G9qGaSRUKtv46NvRKY\n",
       "ipmxsbdqbXKFkz76UYr+S97JePl5HBYWTXrftoRn6DLeQ8drLMfbccxgSdVLpnx7qzU8tXTmSBP1\n",
       "HqV5oI6vv/Z3sz4iy281qBfVTDpPqPgNgF8EpmK8Cim3Ta5wQqeVRMG+JHRr4FpWWgmbaya9IslK\n",
       "tGTAe2g8q4D9wfiJuwyWfHrJlCIcv/nx8avkQ5IblOYDDWO39OWmARu9qGZidMFdD1Y+MBURdD1N\n",
       "P+UGMzmdK7o1MHptEsIVfpiOsgit97gK7f+yLIoSDORNekXQ5vI4aHiOzuLVMYf2DPOLuiVVL5uS\n",
       "ReDfrUD0RallvtL8dsXYLXuxacBGL6qZ6CihYspNl8HpanIbrdefh6/kORXRBPo8KT8tzeDOS8au\n",
       "AvLQ+yMrvIq9ve85wyGXDCFyom/fPp7rzhoZ1gdI0aZ0r/6KIV7FqxaCOd7WgSkQJIfI9cyyJR8g\n",
       "33SOiVQhR+eF3M+XdaEVcaTTVfWqzAYYBxnfpaAzeC+QQuOZntI9MP3wns/4TCki8L/Ek5Z0IzYr\n",
       "zUfYw/zkaqVbZoI++kG9HFHmBHuCUDHaSIrUWpVNV2+Bz6bduCuo2MN2LQekVDt93khFAYnVIcf3\n",
       "Vl8FOKeDFQiSbxfILaRL21F6f1RRtSndq79iiFfx6g/BHG/rwBQIp6KDRgDlU5v+6Z0DOiRbgmcA\n",
       "OupoyozXVb12MrkbJDwdL44mVOzIk52v5oHpS3CLz5QiAo/nbmnDTbe5vPltMotV7fG60i1LqDgv\n",
       "sBdmxruRo2xH/DWRWquLHkojYW6jlBYLNCRjJMjEoBTr7a+aBlyCREoQ48e7s9AXNTwuMgQF+TL6\n",
       "85KN+ehR0DMoVZvSvfoqpngVr74QzPEGCEyB8AUaZxBvob8F/KB3KVtvITsKHWVrStWrDw96pOIF\n",
       "CU/Hi6PJAr0ZLcKRC7oHpr8AA1XVlCIcb+PNVZd0pLRAaSZHgYgR0brSjZ4o1gJ78cywW1anVNyL\n",
       "DwvfwNPCTZtO5BZXaekd9spn3uc2ylRMX0emyFxSyi8b3zWeIAlIpgC7ebJyEJzXDGdvMgRtsNDX\n",
       "sNlXsfAkdr+WOajalO7VVzHFq3j1hWCOt3VgCoTI4/hyG9A3dpQoeBzJq+REkbwQjLmUilzvOwIB\n",
       "7w02w5PxEuhUg+Z4sHm15sHTf4mSRJjynRZ5eJxa2pMSGRYrzfi8HPZxKnp6fC4OaTewF2aGEg1i\n",
       "Q5SK96HxcvB08OSqYiafy7NSxSEnQPPST9whUdF6gY5mXPjJwdeNA44g99IRGTjZO5tT6PKiJYYM\n",
       "ToYgmSNPmHWTeZ82JXlVQjA8Iyhe63u6V18I5nhbB6ZA+GmIhVfs7RVGFLK0pLDZ+3ABzyjpuqx3\n",
       "JoFdnsVfAa9bQDJWhifjJazgwxC4BxH1z67mgevhjyCbwoaFB4FPokhXrZXI0Kc04xOpO1yPikK/\n",
       "sAgJkiDrXoQrzQwhGj2MWkRTSXpG+pO/Q0eVHFHhkpsosuX/jERFIKOVqKKsymJnQLejXCrRs9y/\n",
       "PmNIqsLSLQctc/0uy8h2lGDlO2V/RoYhXP5EaUA8ZMhi5/eQKZmoqARGKponEi88pgVGK9oXofGG\n",
       "CIxBJHkYDcT2SRc+P/0DRpQI9mijcdk1vRai2yfRPX/YlfXwOrBLFjshW4FNIPBkvATaRry4Gv+K\n",
       "oQB+D0Jvky0tN0UMcw8cH8E/nnhUJsMbijnY+cisMnhUFHpnRSe5DyYv3JVmhhANAcriR2L0jPQa\n",
       "GKRpByqtgtjd27Y9iqg4nJSpSOEjez6E+9luvW+ky83As/5EE0MyPN0aKNsLXJaRWRdg1JnQMrIB\n",
       "iTM4m4syDxkcesHvgWr9VFQCIxXNE4mXvilTAqMV7YvQeEMExiDy8iqvAguanFQEPNtVxkvIsdYe\n",
       "vCcuqHhksMxzf7T+MXnBu6KfgqBi9lv4+hKcgQGblpbZdo3OiokejYoNwKnNcbbeofTAQnH71mcM\n",
       "6ffSLbizyg6UUEaWmIKKPerPyBAktnTR8m4ybp3o7zTzEEGrRK7i90C1seVfrMlUlAOjFc0TjXdI\n",
       "C4xWtC9C4+2d27vy98ECY5De27r5xFpqTZQfwY/DjCAdLyG9AcheskL9pMojQ7wYhorhvSyz6a85\n",
       "PCp25GAYrAlE0sVxWjo2j76EuR7ghJ+KeOk+T8ZjmOTjHejh2QJODVW9C4V8GXDZ+hAcND2jEUfw\n",
       "ARd2o6FJlQWYQ6Jn4FC0htVPlyFXZh6cQwCnQPXgaVGPukRFERgPQfHE443V1MBEBblR4DTenqFM\n",
       "uTtIYBzSM5Tl9/uxlkSxtj54c5gRROOl5ieVllTsf/CBMBOWR4ZmP8RqQsXwXhDRyMTAF+hTMFhI\n",
       "5GENrD9LS/8oQj+aoOw3K/QHszIVv5mHnZNlPB6DhfgL4Nz6ffxG0D4IgxX7ML4cZBCUPaDyDZdG\n",
       "VhTIiA8WYutGnkOZCH7dOFig4MMCstVZHS/gLs6y/WcBqAfY2TfuguqBa2ezfVrKFxgPQfHE442X\n",
       "1cBEBbmR4SzeVPUpWBokMA6JVMVOeJe49xvW7TcNSWZ6eiLUAn3Kd/A41MoDHJmeDuPBI4PyHEkc\n",
       "+u2lxsfjBRGNPEjyPxQU/CXnD9u2+F78KXJc6rQvJydIXul4QdLiddCDp92G5JBD6tFaNibVm3vw\n",
       "tPXc9a5yxO11ixo9eaXsE77AeAW70eCQhW6oF4MEFuU9TvJF1GrM+MvFjTNlOHcFfih9GlQqJly9\n",
       "pIqPipteKXBocvojAJG/eKX9FVG2z+0VltdN1yU3HsTJ58qR06Le3IOndfLR34Cfirgbh6qevFL6\n",
       "tBoYr2A3hjuxA63E11QCBMZLO6C7/Y8XYUSiYsxQ+o9U1KBFQ0ktx8x9/WNWbOlBCzEFgWzEmiAC\n",
       "wIMFBm3+/e9UbC0//D/+P2irPZafaMmNvfhvTGj++3nYP6oAAAAASUVORK5CYII=\n",
       "\" style=\"display:inline;vertical-align:middle;\" /></a><br>(see <a class=\"ProveItLink\" href=\"../../../__pv_it/theorems/94789b8011bb18932c1a7d0987e5156aeed879f10/dependencies.ipynb\">dependencies</a>)<br>"
      ],
      "text/plain": [
       "<IPython.core.display.HTML object>"
      ]
     },
     "metadata": {},
     "output_type": "display_data"
    },
    {
     "name": "stdout",
     "output_type": "stream",
     "text": [
      "associate may now be readily provable (assuming required theorems are usable).  Simply execute \"%qed\".\n"
     ]
    }
   ],
   "source": [
    "%proving associate"
   ]
  },
  {
   "cell_type": "code",
   "execution_count": null,
   "metadata": {},
   "outputs": [],
   "source": []
  }
 ],
 "metadata": {
  "kernelspec": {
   "display_name": "Python 3",
   "language": "python",
   "name": "python3"
  }
 },
 "nbformat": 4,
 "nbformat_minor": 0
}