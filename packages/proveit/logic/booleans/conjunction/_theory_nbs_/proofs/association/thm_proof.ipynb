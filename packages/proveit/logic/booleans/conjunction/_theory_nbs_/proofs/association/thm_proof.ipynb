{
 "cells": [
  {
   "cell_type": "markdown",
   "metadata": {},
   "source": [
    "Proof of <a class=\"ProveItLink\" href=\"../../../../../../_theory_nbs_/theory.ipynb\">proveit</a>.<a class=\"ProveItLink\" href=\"../../../../../_theory_nbs_/theory.ipynb\">logic</a>.<a class=\"ProveItLink\" href=\"../../../../_theory_nbs_/theory.ipynb\">booleans</a>.<a class=\"ProveItLink\" href=\"../../theory.ipynb\">conjunction</a>.<a class=\"ProveItLink\" href=\"../../theorems.ipynb#association\">association</a> theorem\n",
    "========"
   ]
  },
  {
   "cell_type": "code",
   "execution_count": 1,
   "metadata": {},
   "outputs": [],
   "source": [
    "import proveit\n",
    "theory = proveit.Theory() # the theorem's theory"
   ]
  },
  {
   "cell_type": "code",
   "execution_count": 2,
   "metadata": {},
   "outputs": [
    {
     "data": {
      "text/html": [
       "With these <a href=\"allowed_presumptions.txt\">allowed</a>/<a href=\"disallowed_presumptions.txt\">disallowed</a> theorem/theory presumptions (e.g., to avoid circular dependencies), we begin our proof of<br><strong id=\"association\">association:</strong> <a class=\"ProveItLink\" href=\"../../../__pv_it/theorems/de935cb334aaf344e27532032412856db22e94d40/expr.ipynb\"><img src=\"data:image/png;base64,iVBORw0KGgoAAAANSUhEUgAABEcAAAAzBAMAAACH9Ht5AAAAMFBMVEX///8AAAAAAAAAAAAAAAAA\n",
       "AAAAAAAAAAAAAAAAAAAAAAAAAAAAAAAAAAAAAAAAAAAv3aB7AAAAD3RSTlMAq1RmmUTNIjK7EInv\n",
       "3XZ/CtNrAAAACXBIWXMAAA7EAAAOxAGVKw4bAAAM0UlEQVR42u1df4wU1R3/7s+Zm/1xeylttD9g\n",
       "WyyhQWAbT1K0llWhKUXqVpLGqK1nTENEE5aksaFQbzX+oekVTltSztQwVEIKCBxGrXIpnNZW0FS3\n",
       "gIYYKYugDWgRQbgTI9v3c2bem/eOWb2xsOxL7u7N574/duZ93q/vm+8dQPBirV9vQ6tcWKXRRs/U\n",
       "68Xz6f5Wtpr4M5R1lBtt9XpvQyQpnVd3GSm0WvozFPMNVok1M0m+Il4arXZXlbL2N5MvAJLEusTr\n",
       "tyhVutTSOlxX7m4WkvxM+5tUrvlJslTsI9F+8iN5TC2tw3VloYKVqz7o+NLK4LiW3SPIW4c7vmD0\n",
       "+/FND3UUljSwGnXNZPWT8u7mJ8m/xcu19MdULxmecKs6XCguHq17elyeVdLoaY6rBMd11iV5r8p7\n",
       "RyA6t+BTyb5iwyW7g3vwmlmgfYKX2s1OktigeH0t/XH1kKc/ve7WdbjQ/1w8Ps4dpzbymaq7BnBr\n",
       "MTiusy7Je1TW7UXfri/LKtajiFLxocAeBDOd2keYLDY7SdLSoEw5k1oy7ELZbzs3pMOF4sH/st3t\n",
       "6Qe/yCozEDajFhzXWZfkPSp34b59i08l+RL6lhgM7EEwk9aGQRJDzU6S98V7j9LOdU/2uOd+TOf2\n",
       "dbh4/w5u1N53R/Tqg6wyDj//cnBcZ12Sd1VS5EPe71PZjj+MWQzqQTST1C9Kbmt2kvxLvIzTgaUY\n",
       "PeFik2A+r+pwobh4HKYW3BVxkjXoToDVeyE4rrMuyntUuqv4+59lFeMTMplUgnoQzfBNjKJMtZub\n",
       "JOawNL+SRk3kzY9dbD5cwgdWDS4WF78BljuzWbIcpX3Y/Ojogds9Hs+G66xL8h6V7TWlSuoMKMV1\n",
       "HkQzNFQwdx8uUs/aXGtukkSkdWsmT0cA4wPU56bRxshBxuYjA8Y3bPmyhIu8c/EidOfAGkfq9wLQ\n",
       "2GQWTeGXFrh1H86su7jOOpP3FK6ynw0Qj3UJKhm2ZA3qYb8wzkQHtQ+xrdrcJElLg2iafPbDM6/+\n",
       "CGDZfymPKpBlfYriRZgr4SLvHDz7+5nj0JObQC4uAjhKHyl62qlhbt2HM+surrPO5D2Fq7xKrmzz\n",
       "aFVQSZPtuxXYAzPDuaOPEMWGmpskywsKkljoGeH5ezKPnFj0aTP8JHRXBNwXaWH4JoB2VJtDdFGv\n",
       "3kjQdsTL2Blu3Ycz6y6us87tuFtXrrKf9PwKRKuCSoY088TAHrgZNtXqRxLrRHOT5P2yYrqJo683\n",
       "HZLg0NI1bLYh+BX0Ibu4PxR1DZttIIMe7Ws8cBXPc15GTnLrPpxZd3GddSbf+Z2juYMrBVMktJEC\n",
       "ThKuQiMk/YE9MDOxa5cdAm5MuSaB55qbJH+Up1c80M4DGk+nzYgfDj2C4Tj8VcTF4uCJAgnjW6QD\n",
       "Z4Af/GBeLu/i1v04te7iGutM3rr8b6iNDggqOMoGWx2ScBUDDzspO7AHZuaxWwrp8sgceLS5SbJT\n",
       "usYbPQMPrKvKrBlj+FG14a7n4OR03MU3oydtnWIVD74UV4ZY6OV7+Bvp8Hch+vzD5iTx4/Ts3cGJ\n",
       "UceFa53JG5u6YJjOaI4K3qffbHOSuCpoP57YCj4PzmeXPDAzv3oH2m0nOKAs2xlJyAJvfFCSRMh0\n",
       "du6/qGF9KC/tq2CtOmXDt+p3smaM4K5noifn4ottLw4ZvJHcwysOvq6+AKKrTvXTp0s2FMvQ18X1\n",
       "jo478s445ceJdRcnRh0XrlcuH6mZg7BLUIE1D40pOTOEq2LN7pgFfg/uZxc9cDNjSdR1pK4/o0RJ\n",
       "MovuoAOSJF4i+/BzP0xyRka80anJaiWjaDRyZ5mb1PjoWId0JdtrHKuofhWtjoqHHTDTBPj1SMv/\n",
       "GiXJvdh6b1CSmHjgWXzuzzbR4zLSefZmXPzA/XYDPtqzDZGkQevQjcaSWG+xAZI06ME4BnsnOief\n",
       "yrK5SEmStPVHy4o1yQLQn6SfQyU27AsMuZ1sycJtSqVX6/VGfMTfVsKjZB1+jEZsY6yq1Y2nP66N\n",
       "godEDt4tjDxA4N04JkkML9WDL1wvQz+7zn2SZId8q5ReaBVVVHWkGaq9l+1u/rlv38vBSZLet+/N\n",
       "/nP/1lOnfdA9LUKoyn9GXBd1MZL8AOCR4CSJV6CNDIGW9zfqqdD6/916/HSr+UehZKqMJIvAcA6r\n",
       "FPPfnqfguzmXJEh2Ebl43LPutnYodV2RBz8cmM0vzFVznlS8wemDD8zZutWZPcYMbFAQ0SsCMOHp\n",
       "uU6gNHKs1cKjQZJBRpI2O1Xih1VSWXbxCvh6yo7bnmDaI/AUjbN4Frup4+pQjCMSq0J2kF9cBfCe\n",
       "QlqCf5onJ110ibXLH0IVRcwDfaVsyvhGpUWSUEgSreF16xzVmI1mIhhfK6Y80w1MoevWRI9ngX3j\n",
       "K8rVsysSKULMabYxADMU4iIcfQl98f0ffiPX/4qHV2QmYkc2BVvzrekmlOkGunAcFx9Wxa5ddiA7\n",
       "vUJrhwAOYrmJ37xHIEmShHchm/ScxdduU+4wXJF0HjY6YdrnwdqtEBfhbtTcJmtyAw9U9/kDCa4I\n",
       "yQtAI8mVfE5KDfknztAfqXHeGfaU8ogLV3hiAdDDKnzik8vmWK1MN40TU3+62UuS1ATSELW4uxHO\n",
       "wvdVHrDI3bQRuw92XuTc8ZnLrq4oHoQIf83zq4g6duQRWUc+Rvw6Z22U9cVJPofkrLfCasBELXyS\n",
       "KJO00jlOkqU59p4wPvGpkBMJcvaTIH1/IhQPe0likOPjRAWtMQy2K7oRLSYSU2bJd4ZF2C78KrDG\n",
       "8KMFtD5ZXYQbDklHBhR2ygu06YiHNMF9Hl5wq/MIMVLmj7hRfzAt/OQs7CGkBK2Dvo2jJklLh2vK\n",
       "2ZK02oucJJEKPwocCz3sPT989hO7o6/vYUSSDUkvSYAMCfGBLafhPvaS3JyBcXYaNssrGiySdtYb\n",
       "3SVzss3WJ8ZJGLSkVqGwU/AqJ8o8pHFHyvs8UBFSpvX19eXRmqSfP5/oSfl+w0/OIh7CSdBK2pKa\n",
       "JklLwnVelGZUSVqb+8HzqgA9rNoBh6HbpLWZptlPR5LEFIEkdCoBY9h5hxMxoGIgfkmzDRZZzNcb\n",
       "cGuFvWGJ1ieJYSibg9LIRuDO8Z03PIMvO2ich3iIoKEuW/Z5oCKd8yYB/IaOJNDPx2XzhHy/4Sdn\n",
       "EQ/hJGjFiqKaJklLxjVe1GZUSVr8gI+NK1nYgE98xsL0OK3tnUhjbJcDffNFIAmeiY6TJtxAxvp2\n",
       "RM0V+MLqJ9/QDypyJWDIOA3WHsAkQeLdNmxE99xWcsVdeEpvujQJI4+XIFtiHqy/A+BzkhUeeUdk\n",
       "Sm8GaHwPkeQZZ/KWXxX4HJKziIeQErReEtU0SVoyrvGiNqNK0pqa95Ik/jb05BM5mA+LjtDauwVY\n",
       "jD6o+XqZvkQikOS6HKw5VcJN2JOPPwfW9T/HoVh0Yb4IPWXzRfN5JoKWEag+7eOB2XlCkp58bOHA\n",
       "kw8DCfQ64i7cVlkL12AVa+a2IwDUA6yZc9QmwV70CypfdkQiFbSGNPD0PeGdZ3/n3J48GISfnEU9\n",
       "hJSgdbugpkvSknGNF7UZVZIWeQlUeDMtL9esZ/tWCLcgd7A3PFpbs14TUS6Rd+tkuuESKbum8AgZ\n",
       "mATVgqsie4iC7CEDB9FUuaGvT/xwX5VXSKEnZ1EPISVobRHUNElaMq7zojajStIicXgvSRK2vybx\n",
       "XCLJspfzjmyy/olXkb+Ps63s1s33nnAlFtarKo+r0bwytuyo+Dy47/nc5GhMUq3LZ0j3EH5yFvEQ\n",
       "VoLWNEFNk6Ql4zovajMxxQJmp0ySmKI2Mkl8su6Ft90KZxeXPWpVCkoR1ZJLWtiHn5xFPISVoHWp\n",
       "oKZJ0uK4NdBhj+DFZ4aNL4OK2JVMkgBB2lZyFsWVyVnEQ1gJWssFNU2SFsfjEK+O4EU2wxnqjxQ1\n",
       "e3JWfFBBklCTs4iHsBK0bhHMaZK0ON5ewvEJrRefGTbl+keSSJOneSZOKqabUJOziIewErQmC+Y0\n",
       "SVpO1pVNSKLzIpsRkrTEgGutuUlCsgg8JfzkLOIhrASt6YKaJknLwSFVHcGLbEafpEVX/01MEml7\n",
       "E35yFtlChpWgFSxJi+PwWxu0SVo+M/okLZr1eeH8Oazwk7OQh/AStF4T1HRJWhyn56KaJC2/GV2S\n",
       "VvP/OayY9NpR+MlZo+/BSdAy1C9LaPJv4Bfwy0a86JK02nLNThK4U7wMPzlr9D04CVrxQiMkMVY+\n",
       "8MMGnGiTtG61m54kPWKfDT85a/Q9OAla6pxJXZJWul5v5O0YbZLWLmh6kmTFews/OStED38I/3H5\n",
       "k7QuhD8bLv8DgvCTs0LzkP0cMvT9SVo/gU9FkivOq3+KlMxDq3z6YtJX1az1mxojSeufIl1AZS0d\n",
       "EPA/Rfof2TCQmr+LB1sAAAAASUVORK5CYII=\n",
       "\" style=\"display:inline;vertical-align:middle;\" /></a><br>(see <a class=\"ProveItLink\" href=\"../../../__pv_it/theorems/b57848fa22d4077bc2d7b9cda670dae82cbe0b9e0/dependencies.ipynb\">dependencies</a>)<br>"
      ],
      "text/plain": [
       "<IPython.core.display.HTML object>"
      ]
     },
     "metadata": {},
     "output_type": "display_data"
    }
   ],
   "source": [
    "%proving association"
   ]
  },
  {
   "cell_type": "code",
   "execution_count": null,
   "metadata": {},
   "outputs": [],
   "source": []
  }
 ],
 "metadata": {
  "kernelspec": {
   "display_name": "Python 3",
   "language": "python",
   "name": "python3"
  }
 },
 "nbformat": 4,
 "nbformat_minor": 0
}