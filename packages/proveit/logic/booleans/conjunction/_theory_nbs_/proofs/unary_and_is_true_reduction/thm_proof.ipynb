{
 "cells": [
  {
   "cell_type": "markdown",
   "metadata": {},
   "source": [
    "Proof of <a class=\"ProveItLink\" href=\"../../../../../../_theory_nbs_/theory.ipynb\">proveit</a>.<a class=\"ProveItLink\" href=\"../../../../../_theory_nbs_/theory.ipynb\">logic</a>.<a class=\"ProveItLink\" href=\"../../../../_theory_nbs_/theory.ipynb\">booleans</a>.<a class=\"ProveItLink\" href=\"../../theory.ipynb\">conjunction</a>.<a class=\"ProveItLink\" href=\"../../theorems.ipynb#unary_and_is_true_reduction\">unary_and_is_true_reduction</a> theorem\n",
    "========"
   ]
  },
  {
   "cell_type": "code",
   "execution_count": 1,
   "metadata": {},
   "outputs": [],
   "source": [
    "import proveit\n",
    "theory = proveit.Theory() # the theorem's theory"
   ]
  },
  {
   "cell_type": "code",
   "execution_count": 2,
   "metadata": {},
   "outputs": [
    {
     "data": {
      "text/html": [
       "With these <a href=\"allowed_presumptions.txt\">allowed</a>/<a href=\"disallowed_presumptions.txt\">disallowed</a> theorem/theory presumptions (e.g., to avoid circular dependencies), we begin our proof of<br><strong id=\"unary_and_is_true_reduction\">unary_and_is_true_reduction:</strong> <a class=\"ProveItLink\" href=\"../../../__pv_it/theorems/ae5e80b2e3c4099eb99bbb6c36b6004df4c3935e0/expr.ipynb\"><img src=\"data:image/png;base64,iVBORw0KGgoAAAANSUhEUgAAAREAAAAVBAMAAACTXMcfAAAAMFBMVEX///8AAAAAAAAAAAAAAAAA\n",
       "AAAAAAAAAAAAAAAAAAAAAAAAAAAAAAAAAAAAAAAAAAAv3aB7AAAAD3RSTlMAq1RmmUTNIjK7EInv\n",
       "3XZ/CtNrAAAACXBIWXMAAA7EAAAOxAGVKw4bAAADKUlEQVRIx4WWTWgTQRTHn9tt0iTNNhdBvCQg\n",
       "FKRqcyiCF0lpFSGIwV56kBIpIsSD8SKIrY1HD9ochIgHm2sOlVQIHkSsh4IoSi0IIg0EeiiCH7VC\n",
       "q4ik8+bNtLuz+9KBf9p5s+8/v/nYmQUIKkWp75+p5jRLu1Ew/jNKmHPrUIodHnFSUg1dj+V0FDvL\n",
       "A0xwrt2tYDdRbnI5E0oJrBzxtg2QDJIBqoQ2hHnacLObsiRgzd+Tyrtuxs/LlI/SDHUGg1c9j0Tz\n",
       "JCSJpTQJRrAMChIo+Du05HSEqmZc5VntgOk4IX8LpLs44WXvANMkJJnPaxJbzcPwtvgZ4ki6MmZc\n",
       "5dnJIkcyRMJBxFKe9l4lJFk7qEl61Urd/oOVKkMCb824ynv+qsSRoJlQl0AOedv7lZBk+Z4m6afG\n",
       "O84mLkKaI5k045QXbv1McSRohnrfbL7ztmeVBIlVDxUVSZYaM9ZvZEtwJAtmnPJsGExzJGiGOgfw\n",
       "WAZ2J3xSSZCEilZGkdBgu1M9/3A75N0vjJvkJBgtlHcRZuvuF8ZNgmaoGxCWGdE3mmRFqSH38xdF\n",
       "sqLGFv6F3S5yc3LMjFNeBmYS3JygGSpSpeMitqnbl5QEySGAH4pkSbZ9HR3+K/70bHAks2Zc5jkP\n",
       "R5NljgTNUFaLNuz4Bz8JngXzbpKo6O4/LhI7J5cCSZ4C9C1zJGgmDfOnZb112b86+HrbKdfq2EKr\n",
       "2O0yt0+Om/tkhRYH4ovcPkEzafhMHpgOnNUkT5QaEKd7RpJgBMbUsd1V5ubklBnHvO403RLBc4Jm\n",
       "0nBKoo/DN92+oNQAOVuPiAQjYRzXnHiv7TpHkjXjmDclFNnmSNBMGh6Qh1/2RVK/xveVGnAYqw+I\n",
       "RESic1tVONq+JqY657+G6bz4ZMZFXq1dAGtuy08/Jn/RbM/QAZjRx3G8RPLexXH3aT3NfqD49mW8\n",
       "BPuUaY+hoOvTxzHeYigvieduG+Fcbd9J6r8TzTLiNrRfQ/TCFV2rkIzvk4pr5GXO9ZY/VNkHBM04\n",
       "wxrJIKntPRBhPwgrwW6dCppxhuGW1Ev9Hbua01FV1jlXpxjs1qmsk3YAloXyIjf5hf4AAAAASUVO\n",
       "RK5CYII=\n",
       "\" style=\"display:inline;vertical-align:middle;\" /></a><br>(see <a class=\"ProveItLink\" href=\"../../../__pv_it/theorems/bff9f4c443183daa97b608de1d9597667ca5f3d90/dependencies.ipynb\">dependencies</a>)<br>"
      ],
      "text/plain": [
       "<IPython.core.display.HTML object>"
      ]
     },
     "metadata": {},
     "output_type": "display_data"
    }
   ],
   "source": [
    "%proving unary_and_is_true_reduction"
   ]
  },
  {
   "cell_type": "code",
   "execution_count": null,
   "metadata": {},
   "outputs": [],
   "source": []
  }
 ],
 "metadata": {
  "kernelspec": {
   "display_name": "Python 3",
   "language": "python",
   "name": "python3"
  }
 },
 "nbformat": 4,
 "nbformat_minor": 0
}