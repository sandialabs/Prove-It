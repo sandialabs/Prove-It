{
 "cells": [
  {
   "cell_type": "markdown",
   "metadata": {},
   "source": [
    "Proof of <a class=\"ProveItLink\" href=\"../../../../../../_theory_nbs_/theory.ipynb\">proveit</a>.<a class=\"ProveItLink\" href=\"../../../../../_theory_nbs_/theory.ipynb\">logic</a>.<a class=\"ProveItLink\" href=\"../../../../_theory_nbs_/theory.ipynb\">booleans</a>.<a class=\"ProveItLink\" href=\"../../theory.ipynb\">conjunction</a>.<a class=\"ProveItLink\" href=\"../../theorems.ipynb#rightward_commute\">rightward_commute</a> theorem\n",
    "========"
   ]
  },
  {
   "cell_type": "code",
   "execution_count": 1,
   "metadata": {},
   "outputs": [],
   "source": [
    "import proveit\n",
    "theory = proveit.Theory() # the theorem's theory"
   ]
  },
  {
   "cell_type": "code",
   "execution_count": 2,
   "metadata": {},
   "outputs": [
    {
     "data": {
      "text/html": [
       "With these <a href=\"allowed_presumptions.txt\">allowed</a>/<a href=\"disallowed_presumptions.txt\">disallowed</a> theorem/theory presumptions (e.g., to avoid circular dependencies), we begin our proof of<br><strong id=\"rightward_commute\">rightward_commute:</strong> <a class=\"ProveItLink\" href=\"../../../__pv_it/theorems/2f70ca8722b3c93df6a880b213b1306c6e9a50d60/expr.ipynb\"><img src=\"data:image/png;base64,iVBORw0KGgoAAAANSUhEUgAABVoAAAAZBAMAAAAyHYixAAAAMFBMVEX///8AAAAAAAAAAAAAAAAA\n",
       "AAAAAAAAAAAAAAAAAAAAAAAAAAAAAAAAAAAAAAAAAAAv3aB7AAAAD3RSTlMAq1RmmUTNIjK7EInv\n",
       "3XZ/CtNrAAAACXBIWXMAAA7EAAAOxAGVKw4bAAAKG0lEQVR42u1cfWwcxRV/vg/veu9ufVbTNqkE\n",
       "vgqKUkGSawNI9MsHOG0jE3Gi/1AIjauqikhps/kHyU2auyL+KJJlXypSxVVbbyGqGjmBIwWqxiIx\n",
       "oTR8qORKDYoQVi5NQ+Q0zWexE1zizpuP3dnd2fiusZQD3Ui+m/vNm/fe7PvNzJu5SwBqL9dMWNAs\n",
       "zXKVijnxZj3ivc0nNp9Faz6C2gtdJ5c32XrVyj8YZ0Oeqlbn03744/2wvsPYmsa362pkawu+RbJN\n",
       "ps1DiZTpW+sZdXMYHlbWKzBjsuMTWjmIP7WlI7uxdtVhagCiw2c7PrXNi03Oblm0RZUyhjaE7fzD\n",
       "FzuGPi0+ZClbV2B9bY1sjeXxOTaz1/kov2Nvy2RWJjJO1YPvDtHh4pFZhZaTJyCyKhuQNt+w4fq/\n",
       "q4yqlfvUyE3JEkBn0YtNERafU40ptCHEbjvZXrqE0DrK1p/irlOqka06rsR9TabNR7mTvd0+LWG7\n",
       "3O1fxo23QxY9F491WgEtOw6Rl7stv7Txa0Kv2LTKqFK5T43HbqEKsCbnwfRL5OUuxZhCG8IGNUiU\n",
       "x8b4h5spW1vtcJYH89Z1l5nozVJXYWFIbLwgYUc/6Sw8Mm5+Ia/eK138j/uKAS0PkdDC6oB062vk\n",
       "JT6mMKpW7lPjsdtFrHZVPZiJjq/JBtWHNoQN6jRRHj8vVnEb2Rol3VtrPmUtbx625ittZY9xsynt\n",
       "jVB5TNQ8eEpXb34urlVPZ/xaElTDowHpfSip5xRGlcr9ajx2O5HNlgdrwxSmUA6qD20IG9QwDmxG\n",
       "5PFZyr6/Tky8XjNbkxMT75abVJuHEmOPMRc5Lx+8nDOBB78x5GDh4jFYlvVrKVTw9fd+ae1Dut8W\n",
       "FUaVyv1qPHZfBfjtIS/WjmQbTAfVhzaEDeoizqqzYrNJU7Z+E+CXNbM1VoQ2u0m1eSitlF3xjD4j\n",
       "YVaEL3lefC1cr9Th4vfAYNmvZV9VKZ245HPEMapW7lcj29UvnjryPR+G2SZ0lYPqQxvClKOjUfEY\n",
       "omxn3wBauma2EtENLBeWG9T8Na4SD3JKtxrLR7LhZdiaqJ11MXLifUeslRJOzrYplfsSnoNC2q/l\n",
       "sKWUTk17tbhG1coPW+F2TaLrpqwXw2wTOvNB9aENYcoxz215XyzFY5StbXYiD0ZnyEPVxp+Dr6Qd\n",
       "tpJl+Dla31mUQv6Ksqsr8th/RleyD0d69uxx0ukFoyPBIPjQbztdccUZ7nl2W9CQDy6p3GowH0lO\n",
       "RcM22X072e+MWxm2EOAUqzF85JnP4IeWIphVhfMubj7e3VkSQRRaDvJZ+mSvRzp5hk1TrlwyqlZ+\n",
       "MDDZXbtthEKJC14Ms034r2JMvKFWuyzPbRenQf0MZWukioesG1SxHFi0FT6bsGO2y9al/JC1T7pG\n",
       "SJxTMsEViVbApFYfyNABsvi9CfCrYFR9KOmqHXA+fRVgkyLZ8cIllVsN5iNnq0HiQtLIgX+zGUUe\n",
       "7S5WY3gOVvGbWaOivrHl+FMkrBUeREfLYbokFfVTFY90irJ1sVDuGg1RztUo7baTdSx6yYththk9\n",
       "HxyTaKjVLstzu0Q6Hh/jZ/yvkZce1UGApLRwXTWXcDMBaI1S4sf7pcl+7xsqIkgiLTmI4jOKvEb+\n",
       "xEZ9E5kDwXTMj5KusNL5tIA4pTgee+GSyq0G85FnAjHy9y75W8JmFIFiPEGg+PtQKPIrwzsU3rs4\n",
       "cSA1xoPoaKFXpCR2kYpHmt20loVy12iIcqFGZXcwK/ZqB6PZ5s5ScEyioVa7NM81XnUOZRXG1t14\n",
       "ifoWEv/OgSPmbUVW+yfAUToJP7dZZmviBrrQmq1Srlv9rvLezBVJZmAXzpEC8U7nHmq42D0SSDz8\n",
       "KOkKJ51P+4EvgN7ihUsqtxrMR7LP4Tz5FrCvTFlkUyB+HsDxL7HAIttUPwNw8HiWfVP7lkcL3tzD\n",
       "HoetQlpD1iRsodw1GqKcq3HJIflzmjB5sNeD0WzzF4oxiYZa7dI8t62XcxGiJcbWTSRiBi4rT67O\n",
       "JtNmmtcsg4Z9ceKJ+yW2ai+y4MdcQyZ8XcUEFHmYhb1w9OaF+H6NvCCp9rYgWiCTY5XDkw/IfAz2\n",
       "88ElhVuN5iO7kdGQvsOWiCzucYDJrYPDCxgnpEsbRvhp8tCNKV6R8E1YmWZBdLXgHdj9tmCrK70s\n",
       "C3GamL/gEXcU04orztW45HCb4CEyU/5iezCcNQ/kIDAmt8Fnl45FYRena3ycc5Hd+C1neS27q/7x\n",
       "e9BepPeAWLPjWZ7gTEpsBRrSeJGsExq/+LqXLCzxpSv8myyKtFk8ZzMW4PufWeBovyR13N8vmQum\n",
       "e/A3YYokiJBKB2wx2M9WdAv67Mb0kazfFTCGp2z4/OwPRGTp6WMAJFzHU3MLjkHHKKbQ8rioOPiO\n",
       "2XUQGZ4qsy8chBaA7VsW5EGw1dVirOygzlHlkvi4bMEV52pccrhNi2Y7Oh7MeLS3DJ/tGPoGgH9M\n",
       "UoPPLjWpsEuUL3rc4lwkEnn3F4Psrvpa6Oc3K9fCaog+ODT0c8LWkVaZrUx89JkP4BF+AdEz2mkn\n",
       "4Wl/0osiSSdnK+Bzw9wxwvsl0aOMvx9DvemePi1MYYI4aAVsMdjPVnRLX2I3po+kHJLqS0JuZPrq\n",
       "utuOqb+3iVTmQ7lEjtpK2JjqtUu5CPATcNmaug9fX4FJKOis1q3rZba2xpcG2FoF7YK4LjNJmIsa\n",
       "GYpvk0WRPidnW4OLewf5O877tZCFxrT8/RgavWP5ihvZKfQlsoVUhakkWe1/BAFbDI6u+GJZYit1\n",
       "y7m6azQfgf1MY47Iajmtnt+7sSDWytY6lUvkuDK21muXcpH9CEiwtd2EEdDOEB7fFmO1Q4vZV1y3\n",
       "ABzxsxVzhHM0PCP0RNBOptxWMMrko3hhIl8GrJOczRjHys48mHnez3gZ4Bh4+wk0MgkvR8q0K8nG\n",
       "fgPCVMGCHVXaZ0TqxWHSqSKxlbmFbG1EHzE5s+aMbN/PHq1nHSJBrIOtdSoX5LhittZpl3OR/kzQ\n",
       "yQSOQX8mnoa1sOEEq/0rC31k6dDftthvsGW23pWG7VN5DE9/JvYiGHd/H2JF0PdDv6UfwJf9XITk\n",
       "R6R+68zoygxWjO69J1hY+zOwveeUDd5+DrrN6I3RHu/NjHZboou5fvRZzHxIn/4MM3RAghfyIyZl\n",
       "K3cL2dqIPmL66N5nbVy/Vxmog7OzdWUCx5TRfn6mOg/KBTlqLWFjqtcuMC7SuS3/S5eMv2b8aWir\n",
       "75tXT3lH6rTHxHTPmc5CIiOhkbn7CbQSKaeicoPchfbJBN2umLfY8g0W3RztxvQRy2ZolprLcfCy\n",
       "NW4Ha97iY+vA6xlHtHX2QwA3bRK1vZaE3jdnP4EaaTPfclxqkLvQPgpnjXTkD+Bjq35yNzSkj83y\n",
       "/xSJrVFF7bJsDYhmFTWpnp2zn99wNtTU5ZwtfQR8bJYrZOvc5Ycfjf9PoPnPxj6exZx46X8KvTTE\n",
       "zqqgQwAAAABJRU5ErkJggg==\n",
       "\" style=\"display:inline;vertical-align:middle;\" /></a><br>(see <a class=\"ProveItLink\" href=\"../../../__pv_it/theorems/b9b027c9fc3f5d8a765c429275e58518e5225e100/dependencies.ipynb\">dependencies</a>)<br>"
      ],
      "text/plain": [
       "<IPython.core.display.HTML object>"
      ]
     },
     "metadata": {},
     "output_type": "display_data"
    },
    {
     "name": "stdout",
     "output_type": "stream",
     "text": [
      "rightward_commute may now be readily provable (assuming required theorems are usable).  Simply execute \"%qed\".\n"
     ]
    }
   ],
   "source": [
    "%proving rightward_commute"
   ]
  },
  {
   "cell_type": "code",
   "execution_count": null,
   "metadata": {},
   "outputs": [],
   "source": []
  }
 ],
 "metadata": {
  "kernelspec": {
   "display_name": "Python 3",
   "language": "python",
   "name": "python3"
  }
 },
 "nbformat": 4,
 "nbformat_minor": 0
}