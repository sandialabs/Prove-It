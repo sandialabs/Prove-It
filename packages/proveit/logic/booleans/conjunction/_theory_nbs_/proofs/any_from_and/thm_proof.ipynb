{
 "cells": [
  {
   "cell_type": "markdown",
   "metadata": {},
   "source": [
    "Proof of <a class=\"ProveItLink\" href=\"../../../../../../_theory_nbs_/theory.ipynb\">proveit</a>.<a class=\"ProveItLink\" href=\"../../../../../_theory_nbs_/theory.ipynb\">logic</a>.<a class=\"ProveItLink\" href=\"../../../../_theory_nbs_/theory.ipynb\">booleans</a>.<a class=\"ProveItLink\" href=\"../../theory.ipynb\">conjunction</a>.<a class=\"ProveItLink\" href=\"../../theorems.ipynb#any_from_and\">any_from_and</a> theorem\n",
    "========"
   ]
  },
  {
   "cell_type": "code",
   "execution_count": 1,
   "metadata": {},
   "outputs": [],
   "source": [
    "import proveit\n",
    "from proveit.logic import And\n",
    "from proveit import A, B, C\n",
    "from proveit.logic.booleans import in_bool_if_true\n",
    "from proveit.logic.booleans.conjunction  import left_in_bool, right_in_bool\n",
    "theory = proveit.Theory() # the theorem's theory\n"
   ]
  },
  {
   "cell_type": "code",
   "execution_count": 2,
   "metadata": {},
   "outputs": [
    {
     "data": {
      "text/html": [
       "With these <a href=\"allowed_presumptions.txt\">allowed</a>/<a href=\"disallowed_presumptions.txt\">disallowed</a> theorem/theory presumptions (e.g., to avoid circular dependencies), we begin our proof of<br><strong id=\"any_from_and\">any_from_and:</strong> <a class=\"ProveItLink\" href=\"../../../__pv_it/theorems/17a71de2e133672ce62dcfb215d7c146322da5ed0/expr.ipynb\"><img src=\"data:image/png;base64,iVBORw0KGgoAAAANSUhEUgAAAjcAAAAZBAMAAAA/PxLyAAAAMFBMVEX///8AAAAAAAAAAAAAAAAA\n",
       "AAAAAAAAAAAAAAAAAAAAAAAAAAAAAAAAAAAAAAAAAAAv3aB7AAAAD3RSTlMAq1RmmUTNIjK7EInv\n",
       "3XZ/CtNrAAAACXBIWXMAAA7EAAAOxAGVKw4bAAAFIklEQVRYw+1ZXWgcVRT+dmd/JrOb6QaCtA9J\n",
       "RqoQSA2LTYWCP2ttpCWCS/sSaqURkVIpdPsiVIpZ+yYscSkEEhE60eJLWlxrBc2CxtLaalGWtmgp\n",
       "BjaktaS2NYrVWLHx3rkzs3dm7ia3pVCW9sLsnrn7nfOd/eaeM7N3AbkRmvoJ99e4NmXIQmO474aS\n",
       "fiDOA3HuUJwUfV8pI44ksvFFOfB7y0Mjlji99Hy7jDiSyMYfySLQkafivE3O4kUZcSSRjT8Gq8C2\n",
       "DBUnZgIJQ0YcSWTjj2fy5KhScWhPlui2McgiG390kGNnzvq+309NnZa7W8khG398C4ydZ4thA/Ce\n",
       "nDgu0uQ+0MR48+7kmRHFq0Op3SVt1H+uT79qP+fsRjwlBMXPfYYnU5w4DlI7xaEO5YWJ8hC882d5\n",
       "I4NN901MOLN6a3lcoCEPQVEUT0zpnVYP9B0dCdJ4gkOcif43sCrNxGkyE9kgfmjFMB5OmBGTE8dB\n",
       "Jv7ggF8JW7QHAqUCfZIaLxtomrQno2eA94OePKQmjgSlb/op4GqAxhsc4kwoIjHPxAlXBV02soE+\n",
       "8FUzCb6sHGT/D1zgQlWUKA8hv1rJfXGOBviOHE6lrCK6PxJw9EBq4khQ+qZbyR3HT+MLDnEmy0h5\n",
       "KLfsnw8DTxPjuaFpfS1dl8S6CMxQVOejb3nEsZBkVF/hVmRMWJM8hDxVGThMmQbJtVXt6xuna2Ff\n",
       "8BmDg3DiSFD6po9BO+un8QWHOJN3SaqhG7Y4R14HPtyaTqZ0Gp1aOc1KqjPxwUsecSiSZIHnORUi\n",
       "A6JEeQhJaqZnOX1v41dTRVgbbd7ToiCemNI3Hb+1+tm8n6ZNvBvjy+S3HBFowBZnL9HkzV+wLB8p\n",
       "gVlm1PpB2onMrEecvda16afFvIc1o2ieNJNNF/1Nq5/Ve63+tVb6fpzlbd3yktbyjnb3ej2PC8WR\n",
       "oLSmPW1uLOPS2L4suN836Su0nSTYN6YtTogq3I4Cmq0V146tUHaMju4n4ozHPOJYSPSVO0z1MZZp\n",
       "pPzJTUxqc75MKcRb/4M0Ido4wth3wUqJdggjiY+9ngziF0eC0pr2tLn4DZfG9mXB/b4M4p6uWGhp\n",
       "2WF4tixOYRaDKrPWq2qJrZxod3DLQiffNI9mlmkV8Xnk1El/VRGIsm51b1fern9so1YLOS4Dljgh\n",
       "sgr1XJxcE89gkJ7NXbw4EpRsumdlz6bPnTYXnXdpbF8W3O/LIErv46U6+znxObJi1kYwTq3znexh\n",
       "bw15LgiKs5n0c4OyaSXQ8iPtrClLHMmp/cIg4VmcCJfoTPwmtHPUOJSFnrXEIcgTwCUSbphzdCHd\n",
       "xWZeHDGlx49NdxeT2S4aHYMmDmdqNMzX5velyyAk3UodcaIpbMfuKygYxPo1jT3kQqs/5hAKiBP5\n",
       "GtqLr1E29RheSOHgX1n66Fww1JMo5OiLYUNGtIGIQVFP/FveaBna+i+vwBKnYOBg33VyOSN5+gFz\n",
       "zLmQUP4NTpw6lB4/Nt2U/wjraHRlV/nofo6G+dr8vnRtyPL4wFI7gXbtaV+MDi+6E0jXqdMbEmaV\n",
       "L1rHqoRLzQrXQVzjAgea0Pke41jNmNniuZULKUV+XaikuWSM20hXX2MuLk7UlNsmVa8eAbbYJ7sW\n",
       "KpyjY2kpPRu6XEO5xtBpwwXFFv7jEK41hq60X5wApdDvEtpztWQcQyrd8KdLrBzldvaQ00JHpR4q\n",
       "XY8nLYwYWDkBQF0/ZQmaxdK9ow32e/O/Ve7ebVxc+zn9P2UJsymIVF41AAAAAElFTkSuQmCC\n",
       "\" style=\"display:inline;vertical-align:middle;\" /></a><br>(see <a class=\"ProveItLink\" href=\"../../../__pv_it/theorems/2158466c6c7ce0d6279f52e857c0fe5fc295e1aa0/dependencies.ipynb\">dependencies</a>)<br>"
      ],
      "text/plain": [
       "<IPython.core.display.HTML object>"
      ]
     },
     "metadata": {},
     "output_type": "display_data"
    },
    {
     "name": "stdout",
     "output_type": "stream",
     "text": [
      "any_from_and may now be readily provable (assuming required theorems are usable).  Simply execute \"%qed\".\n"
     ]
    }
   ],
   "source": [
    "%proving any_from_and"
   ]
  },
  {
   "cell_type": "code",
   "execution_count": null,
   "metadata": {},
   "outputs": [],
   "source": []
  },
  {
   "cell_type": "code",
   "execution_count": null,
   "metadata": {},
   "outputs": [],
   "source": []
  }
 ],
 "metadata": {
  "kernelspec": {
   "display_name": "Python 3",
   "language": "python",
   "name": "python3"
  }
 },
 "nbformat": 4,
 "nbformat_minor": 0
}