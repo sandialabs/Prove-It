{
 "cells": [
  {
   "cell_type": "markdown",
   "metadata": {},
   "source": [
    "Proof of <a class=\"ProveItLink\" href=\"../../../../../../_theory_nbs_/theory.ipynb\">proveit</a>.<a class=\"ProveItLink\" href=\"../../../../../_theory_nbs_/theory.ipynb\">logic</a>.<a class=\"ProveItLink\" href=\"../../../../_theory_nbs_/theory.ipynb\">booleans</a>.<a class=\"ProveItLink\" href=\"../../theory.ipynb\">conjunction</a>.<a class=\"ProveItLink\" href=\"../../theorems.ipynb#unary_and_reduction_lemma\">unary_and_reduction_lemma</a> theorem\n",
    "========"
   ]
  },
  {
   "cell_type": "code",
   "execution_count": 1,
   "metadata": {},
   "outputs": [],
   "source": [
    "import proveit\n",
    "from proveit.numbers import num\n",
    "from proveit import A, B, m\n",
    "from proveit.logic.booleans.conjunction  import multi_conjunction_def\n",
    "theory = proveit.Theory() # the theorem's theory"
   ]
  },
  {
   "cell_type": "code",
   "execution_count": 2,
   "metadata": {},
   "outputs": [
    {
     "data": {
      "text/html": [
       "With these <a href=\"allowed_presumptions.txt\">allowed</a>/<a href=\"disallowed_presumptions.txt\">disallowed</a> theorem/theory presumptions (e.g., to avoid circular dependencies), we begin our proof of<br><strong id=\"unary_and_reduction_lemma\">unary_and_reduction_lemma:</strong> <a class=\"ProveItLink\" href=\"../../../__pv_it/theorems/2de9d7c858d8760db8196e0393684663bfdd57ae0/expr.ipynb\"><img src=\"data:image/png;base64,iVBORw0KGgoAAAANSUhEUgAAAOUAAAAVBAMAAABLdTQ8AAAAMFBMVEX///8AAAAAAAAAAAAAAAAA\n",
       "AAAAAAAAAAAAAAAAAAAAAAAAAAAAAAAAAAAAAAAAAAAv3aB7AAAAD3RSTlMAq1RmmUTNIjK7EInv\n",
       "3XZ/CtNrAAAACXBIWXMAAA7EAAAOxAGVKw4bAAADW0lEQVRIx4WWTWgTURDHp5s0u9k0aS+CemlA\n",
       "EaVqKxTBi6S2ilDEoJceRCJVxBY0KgjF2kbw4sE2iKXGgw0ehB4qaUFERYyHgvhFFJUiFpYWEcGP\n",
       "qtAqIvXNm8lmP7Lrg9283dn/+83Me29eAPxbGr7McJc7qsXmbqrfYKqHyN5icbhtPlBvjuQpgINV\n",
       "BHOeQ50BqDVI1IDPa7w+bAInUynIfmhBONTi+l5Y98xie+kynRDXPIl24vNRD6SeYtKUybxJlmbB\n",
       "hB6XgKyby4+ReMWbZfQ0L0XnMVFZD2awhUj6W5PZTpa2JXFrdQna7cyJVGWoRjGTgYQUIdrijr3V\n",
       "MSm2JVlmFimAs7/QnHcKinbm/ArTcudhRtyfSFFAhBLyms51TIpqWe4p5PlA7AemyjmhbDWZpYvm\n",
       "kjW+YWDdJHo+O/vUi9nJpCY549gL0hJKKD8x2gbnXBRsTKUQKm+NIDSjg5Mk2g1wTb7Ou5ndTDoK\n",
       "a7lHodXGtT/iJyDDsixUDrzMDKWVBHf3wTD6s5VEJ0GV7uqP2bnew6/L8/uKSFoDRPOc5Th5rX7H\n",
       "T4sOH8lqMsX6fMfdBAwiZSOJwvlIUi4LnKGhVSNgFE6t5y+niVmTgZhBzDr57aeOtt/iR1twrrmk\n",
       "jbkS4CvXlisdjbgkhkmkGLSEul4I/0WiBTNyw84Uu04vWZi6cOAvprjoy8TdPUHdWwD1YgQ4wKLU\n",
       "dvnaOCTrBDJP37PnFivCDktug+J6j7ktOebTnlvcgsE4pxaiyNrEoilZTmKwC3RZG4yOZxlmXidm\n",
       "icolMsMiRNjPpSzgrCXSajKjXJdFbC1ULWEbi/rlEuqCz9KEcV74wGNMSmYARwpnJBNXuooej6XN\n",
       "rVFpvHmYKfN3FW/9OMASbT4pqpFRdd5vzAeO5XKXcT4jPMYlyazBXaQZkqmVQB9bzMOG5V4RSNLB\n",
       "1GSyZR5EW423IXGNL/eAMrYoYG+sohjAYEYrUJyRWHntZ1znyowFcc61oWf8j0a1ZBUJ1+rjVBwE\n",
       "c4jfYk12MFtdFd3aWv2ZeGaYouAj0PcegT4Rl3K8N2fW0VEXM1w56KscR2H/vwF9VUT63dyI7cW4\n",
       "i6ln/QB61pc5+l+v5HEAD8z/Q9N0pJjGj1UEA77/dNJS9A88c+sNnrYSOAAAAABJRU5ErkJggg==\n",
       "\" style=\"display:inline;vertical-align:middle;\" /></a><br>(see <a class=\"ProveItLink\" href=\"../../../__pv_it/theorems/5980237128016ed57e6b7fcd22ac97b9e8f332320/dependencies.ipynb\">dependencies</a>)<br>"
      ],
      "text/plain": [
       "<IPython.core.display.HTML object>"
      ]
     },
     "metadata": {},
     "output_type": "display_data"
    }
   ],
   "source": [
    "%proving unary_and_reduction_lemma"
   ]
  },
  {
   "cell_type": "code",
   "execution_count": 3,
   "metadata": {},
   "outputs": [
    {
     "data": {
      "text/html": [
       "<span style=\"font-size:20px;\"> <a class=\"ProveItLink\" href=\"../../axioms.ipynb#multi_conjunction_def\" style=\"text-decoration: none\">&nbsp;&#x22A2;&nbsp;&nbsp;</a><a class=\"ProveItLink\" href=\"../../../__pv_it/axioms/c857baeacaa4aa6e146076efc61af651d3fc8ea00/expr.ipynb\"><img src=\"data:image/png;base64,iVBORw0KGgoAAAANSUhEUgAAAhsAAAAzBAMAAADMadf8AAAAMFBMVEX///8AAAAAAAAAAAAAAAAA\n",
       "AAAAAAAAAAAAAAAAAAAAAAAAAAAAAAAAAAAAAAAAAAAv3aB7AAAAD3RSTlMAq1RmmUTNIjK7EInv\n",
       "3XZ/CtNrAAAACXBIWXMAAA7EAAAOxAGVKw4bAAAH5klEQVRo3uVbb2wURRR/t3t3u932rteoxBih\n",
       "l6gkhpjWgEQSpcc/YygJJ3yQGAKnaIj4gSMxGBXs4QejsdBKTGiJ0jMYE4vAQYgm9EOvEAQlmouo\n",
       "H4yNRzASDGmPf6WUyDmzs7O3M7ezd43b2xom6d7Omze7s7+d9+bN+20BKpT+/n64O4rW35+uqPRH\n",
       "8bqLt6xLTUMY9hpjKxa7Kyr/4uqt72GryVo+tvBmO+mkkGsMhy/DVMNR/WerQHvr5C6uJJzb14ka\n",
       "pJxHcMxnq3PIz2aB9ubJXTxYEDQsKDY1vZqCcKuo5xFv4FBOs0ZLXqdUtAqPll6aQM6U+qh52lIQ\n",
       "NX2H5uU4wCbRuEKtnsARyjNVPxmFv9li1dqvpWaBnCkHSxay6KagSbkDEEALwjyhtXzvCRxPsdUG\n",
       "8vPNoGW5CT8ep6ciOVMu3GdOhrfHBU0yapARJA3CdfRlT+A4y1Znk3eXH41aJpBKhySSsyX3AT17\n",
       "J3xV0ORDVhREdhoUOo/1SQ/gCE+w9XZiE9DSavWuG6mtCOTsNM8EqUXFpGuCpoZu0GaimVYfEXrh\n",
       "iAdwhLjhbNCPq6DLsvxuhIeNM5GcfY6kFCNngah6W9DUtW9kBkZWxs7EP6wXdijShAdwdHEh6U/k\n",
       "rUIHGtt+4vfUCIQMC9fl2kBTmpMzZQfAb3QyKVcETaNJkE7ih84KA9M7HsDxIFc/pVvQx0ubu0Ed\n",
       "IaGQD4UHZPkhcj/4c6ycLfcDjJCzS0sX3RI0fYL+sFtWC8KhfeoBHEN2cBwCaMyZkeEX6E2RMyJv\n",
       "jCvjrLwscjlIzhBY/9g3AZ41bag9IJwd0JasORzqNbAxFmTfoawJBw62FkNJLqcJHCV5WaTljxJb\n",
       "AfgdhRZPjkQu9LBN+n2b48Y9bH0HHG6tORxhLkyCfdgDtpLo2oAjR7cqVA71OUbOOWdzq7JaD+q1\n",
       "J06iOXiebcL3Vcecn7YhUnM46rI2W4VtuOEmhUPO0yQAlZPtpinX8GMdTtDDQtwJTwYFX7svqRxK\n",
       "wDhZwM0mCKK2tThA92fEY8sZcOiwPOQIRyWVKksDj/1OgC+Lm0DqG8sYcPjws6t5i1zZy8jhZ/zi\n",
       "Y/TwAG7chVDqG0vDo8XXwJdXs8QIaRP4+q40zditT5i4cGz1BQOOZWRVd4KjkkqV5XCMn+opm002\n",
       "V16HNyYFeSrcrRQEOabt4n7yDQOOHXiqdTvCUUml2rCDXynlWEU4lJ73l0/mHh1ofsjdMfvGJQ5u\n",
       "/o4BRzDN7JLt4KikUmVpKbvEntJjf307b/u2i8XCZO7xHApGlVn2WzWnN6pdN+CQsQt3dqWVVKos\n",
       "bWVz+Mta5gahzikVeYWuLD8MD5+tsLJUUKmyjJYNR8nXEo6LTo23KBzPAuytAIepYp2Fmr2+MKcA\n",
       "g2mYvuVbCscWULgQbXt7XB6ywkFVtDMWra9s/TejAmpf+7EeWlk5neEYpnDUpest67F6vjcuRY7D\n",
       "ciscVKXemmAZtHWu9WwO5mmAy/S8eRqjgQN8AoeUt7rJpeidSwv9kLHCQVXW/FhSDHTaGr5VBZV7\n",
       "kQf9f8EBCRTPykt2nQ8vMJLv0rvP5xk4dBVU8i9adiBB29ySVQWVE6CdczCWJEwh9ZScjNw0FjiK\n",
       "4vn9a1sbIuEIWfqk1PFHWDiO6jn5MDxjeW5/wm6bZlXBOey5i0wXM1g2Dkw7uUs9WfVFNNM6R1cK\n",
       "29BrfusvaEyhLc5qAoc/3M3AsU2fCWuwH3iTvONAKpyFVX/yu4A1JVehXz8Hn5kh4miZ750DblNP\n",
       "Vv0ymsmJfhoy4fDhYc6CTghFYX5vb29USmmZBAOHrgLtA81p9TECh3/gyARkNT5kxCqWqi8Gyg1h\n",
       "GIYzNC5TT4z+Jr6bA/10nd3gn4FL0KHCh2R2wKp8+QY/jLYEKZqyzIMyDkk1y9sKUpEXz102hzx6\n",
       "QxQCJvvRwk8lTDu5TD0x+vO4bg70k3abgUMpoPmxwI+WVCyNQzhSDgcypMYohkPL6NkZtKTWxXHl\n",
       "ADkcMFSkS3BKQr4H1TvScNA0li5+kjaA29QTq2/QTGY3B/rJ3MIZy2YE7eC3/I12kDgPsdHIcTBw\n",
       "+IdAW/kKhkM9ASsi8PlYHIerqNKZVE+jQ2fUUOnREjgt1xmVNw8c223espHfaM4Gt6knVt+gmcxu\n",
       "DvSTdNU+G3agtzfumA3DxiJRo03nSxUAOpKclAnJljrtyS9F7eA29cTqGzST2c2BfiKJy8knB9XL\n",
       "yDG9QN14MVeqQMCYg1okHPddLNVNv8onBzeAy9QTpy8n2G4M/cSNrfAfcqWtthWZz+7wdY6T1JN4\n",
       "rlJPxnXMaZNluznQTyRxWVtigaOUdZ7FVeqJ6JduWGC7OdBPHfmaw2FLO7lJPdHrmNabZbs50E8e\n",
       "0E6wQmQsMXeoJ6pv7L+M65ndWPqJLTOh9nCs58KGfeAu9WTo0/2X8XRmNyf6yQvKOsQFHkfAVeqJ\n",
       "6tP9F6GZSpcLZoX0k+zFBw380rIT3KSeSvrG/ovQTGY3J/op5MXnLvzHUJh2mgLqie6/hDRTudyT\n",
       "j6GgjQ0bMO00BdQT3X8JaaZy+UfgBRxBzmj3wFRQT+b+S/Bw5fLAhCdwqOxntnrubeqoJxHNVC4P\n",
       "RT2BA9k0+57yU0k9Xaxa7tFH2Pwn+tOkBBLVw3HO1X/veWk6wvEe8fBa/6HKcNwF/95j5E7xv/f8\n",
       "C5yU6Meafm4fAAAAAElFTkSuQmCC\n",
       "\" style=\"display:inline;vertical-align:middle;\" /></a></span>"
      ],
      "text/plain": [
       "|- forall_{m in Natural} [forall_{A_{1}, A_{2}, ..., A_{m}, B} ((A_{1} and  A_{2} and  ... and  A_{m} and B) =  \\\\ ((A_{1} and  A_{2} and  ... and  A_{m}) and B))]"
      ]
     },
     "metadata": {},
     "output_type": "display_data"
    }
   ],
   "source": [
    "multi_conjunction_def"
   ]
  },
  {
   "cell_type": "code",
   "execution_count": 4,
   "metadata": {},
   "outputs": [
    {
     "data": {
      "text/html": [
       "<span style=\"font-size:20px;\"> <a class=\"ProveItLink\" href=\"../../../__pv_it/_proof_unary_and_reduction_lemma/1393b3cbd834963a7510d02e85d00ad4e8aa54680/proof.ipynb\" style=\"text-decoration: none\">&nbsp;&#x22A2;&nbsp;&nbsp;</a><a class=\"ProveItLink\" href=\"../../../__pv_it/_proof_unary_and_reduction_lemma/ae1eb71ee24b67ef5621655fe35c4b27d26622ea0/expr.ipynb\"><img src=\"data:image/png;base64,iVBORw0KGgoAAAANSUhEUgAAAFAAAAAuBAMAAABNF4MvAAAAMFBMVEX///8AAAAAAAAAAAAAAAAA\n",
       "AAAAAAAAAAAAAAAAAAAAAAAAAAAAAAAAAAAAAAAAAAAv3aB7AAAAD3RSTlMAdt0yiURUEM1mq7si\n",
       "me/+MEVxAAAACXBIWXMAAA7EAAAOxAGVKw4bAAACU0lEQVQ4y9WUPWgUQRTH/7ub7N7lds/VQggK\n",
       "LgY/sJCLpRYJghZBMDZCGjklhSCaM5WQ5gohBAJeOlGEgIhlTmyVO8VCEPQQERIIpAm2QUWiBs55\n",
       "O29nb+aS6R3YmfdmfvvmzZv3BgdGIBsLIbLWhtYuGNJBideBK1bQH0/lwhbgNPrBi0q6J2dnBIj5\n",
       "PjA4qcBVObu2I7onfaDzaDIDN9LJgXc/RF+umaDrNVny6+nkG+cXOdowwWksshTJs3T832R32QQX\n",
       "cZslaWSw6v0UQzE1//kotVO07C3DrbETVVqLEP4hPzYMi0MVOLEEy3QqHFpf+ysGb8sAReyCpAcM\n",
       "xF/fyQPTIoX7a8/WkfhO09aJ4SPp7yVYEsYwJb4HdJimbrFIi6VKClJEQtqx1VaxUuAQXYAXp6CX\n",
       "IGht13Cre1/4MWnJnpGepbe2NOtNhFUbWMrzOmzawCBfLem1cF7VzKZMHLVyGP9ha9sW8/cATnVP\n",
       "SmTKYKy06TyTzEYpNJwpgay765k+kG/gd6mKspqNGjo4W1dgtCLcL3ZYK0MHh58p8NLliui/sXbT\n",
       "AJNz6sDxEXJjgdUvOuiPF7JwRZghtyZYXdDBQtvPnLqKMaqFh6we18GzwAkWO/hEb8odVjd18Cmw\n",
       "ny/i9foKJefYriBFdVaKd4F9VMjXdt2awh1VeWe4VLg3GHyhgS4/9OKSG/Ilx2MGJzRwibqX1H2k\n",
       "qtnJ44czcpiSw3PqRsU3152H39oW8TnGoFuxZ2uYsKAufY8WqYf8lR38oKQ5O5jbCWMb52Qp8g+K\n",
       "LYFOpKZ0MAAAAABJRU5ErkJggg==\n",
       "\" style=\"display:inline;vertical-align:middle;\" /></a></span>"
      ],
      "text/plain": [
       "|- [and](A) =  \\\\ (TRUE and A)"
      ]
     },
     "metadata": {},
     "output_type": "display_data"
    },
    {
     "name": "stdout",
     "output_type": "stream",
     "text": [
      "unary_and_reduction_lemma may now be readily provable (assuming required theorems are usable).  Simply execute \"%qed\".\n"
     ]
    }
   ],
   "source": [
    "multi_conjunction_def.instantiate({m:num(0), A:(), B:A})"
   ]
  },
  {
   "cell_type": "code",
   "execution_count": 5,
   "metadata": {},
   "outputs": [
    {
     "name": "stdout",
     "output_type": "stream",
     "text": [
      "proveit.logic.booleans.conjunction.unary_and_reduction_lemma has been proven.\n"
     ]
    },
    {
     "data": {
      "text/html": [
       "<table><tr><th>&nbsp;</th><th>step type</th><th>requirements</th><th>statement</th></tr>\n",
       "<tr><td><a name=\"0x4056e85ef7fe36fb_step0\">0</a></td><td>generalization</td><td><a href=\"#0x4056e85ef7fe36fb_step1\">1</a></td><td><span style=\"font-size:20px;\"> <a class=\"ProveItLink\" href=\"../../../__pv_it/_proof_unary_and_reduction_lemma/d133c1720fc97984bbb0555c98719f24129100280/proof.ipynb\" style=\"text-decoration: none\">&nbsp;&#x22A2;&nbsp;&nbsp;</a><a class=\"ProveItLink\" href=\"../../../__pv_it/theorems/2de9d7c858d8760db8196e0393684663bfdd57ae0/expr.ipynb\"><img src=\"data:image/png;base64,iVBORw0KGgoAAAANSUhEUgAAAOUAAAAVBAMAAABLdTQ8AAAAMFBMVEX///8AAAAAAAAAAAAAAAAA\n",
       "AAAAAAAAAAAAAAAAAAAAAAAAAAAAAAAAAAAAAAAAAAAv3aB7AAAAD3RSTlMAq1RmmUTNIjK7EInv\n",
       "3XZ/CtNrAAAACXBIWXMAAA7EAAAOxAGVKw4bAAADW0lEQVRIx4WWTWgTURDHp5s0u9k0aS+CemlA\n",
       "EaVqKxTBi6S2ilDEoJceRCJVxBY0KgjF2kbw4sE2iKXGgw0ehB4qaUFERYyHgvhFFJUiFpYWEcGP\n",
       "qtAqIvXNm8lmP7Lrg9283dn/+83Me29eAPxbGr7McJc7qsXmbqrfYKqHyN5icbhtPlBvjuQpgINV\n",
       "BHOeQ50BqDVI1IDPa7w+bAInUynIfmhBONTi+l5Y98xie+kynRDXPIl24vNRD6SeYtKUybxJlmbB\n",
       "hB6XgKyby4+ReMWbZfQ0L0XnMVFZD2awhUj6W5PZTpa2JXFrdQna7cyJVGWoRjGTgYQUIdrijr3V\n",
       "MSm2JVlmFimAs7/QnHcKinbm/ArTcudhRtyfSFFAhBLyms51TIpqWe4p5PlA7AemyjmhbDWZpYvm\n",
       "kjW+YWDdJHo+O/vUi9nJpCY549gL0hJKKD8x2gbnXBRsTKUQKm+NIDSjg5Mk2g1wTb7Ou5ndTDoK\n",
       "a7lHodXGtT/iJyDDsixUDrzMDKWVBHf3wTD6s5VEJ0GV7uqP2bnew6/L8/uKSFoDRPOc5Th5rX7H\n",
       "T4sOH8lqMsX6fMfdBAwiZSOJwvlIUi4LnKGhVSNgFE6t5y+niVmTgZhBzDr57aeOtt/iR1twrrmk\n",
       "jbkS4CvXlisdjbgkhkmkGLSEul4I/0WiBTNyw84Uu04vWZi6cOAvprjoy8TdPUHdWwD1YgQ4wKLU\n",
       "dvnaOCTrBDJP37PnFivCDktug+J6j7ktOebTnlvcgsE4pxaiyNrEoilZTmKwC3RZG4yOZxlmXidm\n",
       "icolMsMiRNjPpSzgrCXSajKjXJdFbC1ULWEbi/rlEuqCz9KEcV74wGNMSmYARwpnJBNXuooej6XN\n",
       "rVFpvHmYKfN3FW/9OMASbT4pqpFRdd5vzAeO5XKXcT4jPMYlyazBXaQZkqmVQB9bzMOG5V4RSNLB\n",
       "1GSyZR5EW423IXGNL/eAMrYoYG+sohjAYEYrUJyRWHntZ1znyowFcc61oWf8j0a1ZBUJ1+rjVBwE\n",
       "c4jfYk12MFtdFd3aWv2ZeGaYouAj0PcegT4Rl3K8N2fW0VEXM1w56KscR2H/vwF9VUT63dyI7cW4\n",
       "i6ln/QB61pc5+l+v5HEAD8z/Q9N0pJjGj1UEA77/dNJS9A88c+sNnrYSOAAAAABJRU5ErkJggg==\n",
       "\" style=\"display:inline;vertical-align:middle;\" /></a></span></td></tr>\n",
       "<tr><td><a name=\"0x4056e85ef7fe36fb_step1\">1</a></td><td>instantiation</td><td><a href=\"#0x4056e85ef7fe36fb_step2\">2</a>, <a href=\"#0x4056e85ef7fe36fb_step3\">3</a>, <a href=\"#0x4056e85ef7fe36fb_step4\">4</a>, <a href=\"#0x4056e85ef7fe36fb_step5\">5</a><sup>*</sup></td><td><span style=\"font-size:20px;\"> <a class=\"ProveItLink\" href=\"../../../__pv_it/_proof_unary_and_reduction_lemma/1393b3cbd834963a7510d02e85d00ad4e8aa54680/proof.ipynb\" style=\"text-decoration: none\">&nbsp;&#x22A2;&nbsp;&nbsp;</a><a class=\"ProveItLink\" href=\"../../../__pv_it/_proof_unary_and_reduction_lemma/ae1eb71ee24b67ef5621655fe35c4b27d26622ea0/expr.ipynb\"><img src=\"data:image/png;base64,iVBORw0KGgoAAAANSUhEUgAAAFAAAAAuBAMAAABNF4MvAAAAMFBMVEX///8AAAAAAAAAAAAAAAAA\n",
       "AAAAAAAAAAAAAAAAAAAAAAAAAAAAAAAAAAAAAAAAAAAv3aB7AAAAD3RSTlMAdt0yiURUEM1mq7si\n",
       "me/+MEVxAAAACXBIWXMAAA7EAAAOxAGVKw4bAAACU0lEQVQ4y9WUPWgUQRTH/7ub7N7lds/VQggK\n",
       "LgY/sJCLpRYJghZBMDZCGjklhSCaM5WQ5gohBAJeOlGEgIhlTmyVO8VCEPQQERIIpAm2QUWiBs55\n",
       "O29nb+aS6R3YmfdmfvvmzZv3BgdGIBsLIbLWhtYuGNJBideBK1bQH0/lwhbgNPrBi0q6J2dnBIj5\n",
       "PjA4qcBVObu2I7onfaDzaDIDN9LJgXc/RF+umaDrNVny6+nkG+cXOdowwWksshTJs3T832R32QQX\n",
       "cZslaWSw6v0UQzE1//kotVO07C3DrbETVVqLEP4hPzYMi0MVOLEEy3QqHFpf+ysGb8sAReyCpAcM\n",
       "xF/fyQPTIoX7a8/WkfhO09aJ4SPp7yVYEsYwJb4HdJimbrFIi6VKClJEQtqx1VaxUuAQXYAXp6CX\n",
       "IGht13Cre1/4MWnJnpGepbe2NOtNhFUbWMrzOmzawCBfLem1cF7VzKZMHLVyGP9ha9sW8/cATnVP\n",
       "SmTKYKy06TyTzEYpNJwpgay765k+kG/gd6mKspqNGjo4W1dgtCLcL3ZYK0MHh58p8NLliui/sXbT\n",
       "AJNz6sDxEXJjgdUvOuiPF7JwRZghtyZYXdDBQtvPnLqKMaqFh6we18GzwAkWO/hEb8odVjd18Cmw\n",
       "ny/i9foKJefYriBFdVaKd4F9VMjXdt2awh1VeWe4VLg3GHyhgS4/9OKSG/Ilx2MGJzRwibqX1H2k\n",
       "qtnJ44czcpiSw3PqRsU3152H39oW8TnGoFuxZ2uYsKAufY8WqYf8lR38oKQ5O5jbCWMb52Qp8g+K\n",
       "LYFOpKZ0MAAAAABJRU5ErkJggg==\n",
       "\" style=\"display:inline;vertical-align:middle;\" /></a></span></td></tr>\n",
       "<tr><td>&nbsp;</td><td colspan=4 style=\"text-align:left\"><span style=\"font-size:20px;\"><a class=\"ProveItLink\" href=\"../../../../../../__pv_it/common/674a03b9c3ca221b3aabd5636837b31528ff33830/expr.ipynb\"><img src=\"data:image/png;base64,iVBORw0KGgoAAAANSUhEUgAAABIAAAAJBAMAAADN8WE8AAAAMFBMVEX///8AAAAAAAAAAAAAAAAA\n",
       "AAAAAAAAAAAAAAAAAAAAAAAAAAAAAAAAAAAAAAAAAAAv3aB7AAAAD3RSTlMARHarECKJuzJmVO/d\n",
       "mc2qKiq2AAAACXBIWXMAAA7EAAAOxAGVKw4bAAAAXklEQVQI12NgVHZNKuJIK2RgYGM3YvCfyLCa\n",
       "gUGQp4AhXoFhPgODg78Aw3oHhnsMDAzrGUDUNiDLjoHhGAPjVxYQj+UjA/ODSAbWHwycHxjYExIY\n",
       "GA8wMF1gYLwUAABMtRSZFIjjRwAAAABJRU5ErkJggg==\n",
       "\" style=\"display:inline;vertical-align:middle;\" /></a> : <a class=\"ProveItLink\" href=\"../../../../../../numbers/numerals/__pv_it/common/dd4e19e8b134dfb293470ea55fe3589b0ab9f8040/expr.ipynb\"><img src=\"data:image/png;base64,iVBORw0KGgoAAAANSUhEUgAAAAoAAAAOBAMAAADkjZCYAAAAMFBMVEX///8AAAAAAAAAAAAAAAAA\n",
       "AAAAAAAAAAAAAAAAAAAAAAAAAAAAAAAAAAAAAAAAAAAv3aB7AAAAD3RSTlMAiXaZIs1UEN1mu6sy\n",
       "RO+L2jdBAAAACXBIWXMAAA7EAAAOxAGVKw4bAAAAV0lEQVQI12NgYBQyYWBgCGOocGDgbGBgXMDA\n",
       "tYGB7TsDvwEDzzeGeiD5k8FfgIHnE5j8yFAvwMD7CSTL9o2BawED53cGzgcMzAEMDG0MdQcYGIqF\n",
       "9jAAAMPIEplEfAWeAAAAAElFTkSuQmCC\n",
       "\" style=\"display:inline;vertical-align:middle;\" /></a>, <a class=\"ProveItLink\" href=\"../../../../../../__pv_it/common/09585084922504426caf1db2ff588a23a0932a960/expr.ipynb\"><img src=\"data:image/png;base64,iVBORw0KGgoAAAANSUhEUgAAAA8AAAAPBAMAAADJ+Ih5AAAAMFBMVEX///8AAAAAAAAAAAAAAAAA\n",
       "AAAAAAAAAAAAAAAAAAAAAAAAAAAAAAAAAAAAAAAAAAAv3aB7AAAAD3RSTlMAIs1UmauJMnZmRLsQ\n",
       "3e++988cAAAACXBIWXMAAA7EAAAOxAGVKw4bAAAAXklEQVQI12NgAAEhBijQh9LM/6EMlngBCCMx\n",
       "vwBMMzb0G0BkGOwngBmLGeoTwAwHBvkAEM2xxSV+A4hxgoGB/wJEhoH3AZDmAupg+gBkyAEx90cG\n",
       "htP/dRiY939KAABt3hLO6mcEjQAAAABJRU5ErkJggg==\n",
       "\" style=\"display:inline;vertical-align:middle;\" /></a> : <a class=\"ProveItLink\" href=\"../../../../../../core_expr_types/tuples/__pv_it/theorems/1a4193f1deeaf7a4a6b6289328d46189ae6a257f0/expr.ipynb\"><img src=\"data:image/png;base64,iVBORw0KGgoAAAANSUhEUgAAAAwAAAAVBAMAAACAghKHAAAAMFBMVEX///8AAAAAAAAAAAAAAAAA\n",
       "AAAAAAAAAAAAAAAAAAAAAAAAAAAAAAAAAAAAAAAAAAAv3aB7AAAAD3RSTlMAInZUiRDNmWbv3US7\n",
       "qzJazP2FAAAACXBIWXMAAA7EAAAOxAGVKw4bAAAAcklEQVQI12NgYBBgZAACJgNuBSBlwsCgwcDA\n",
       "msDAwBbAwN7AwMBRwMAJkp/KYAaiMhhKQJQvkAEEbQyLQZQlw2wQ9R5C7YQIWjEcAlE9QLVAUMLw\n",
       "CkStZuB6wMDAuABkLNj4gwwMMkDxGDCLgVGBSYABAJpvEmISwLzKAAAAAElFTkSuQmCC\n",
       "\" style=\"display:inline;vertical-align:middle;\" /></a>, <a class=\"ProveItLink\" href=\"../../../../../../__pv_it/common/a9162d1c3cc0470c02e5daf414500903a7a419230/expr.ipynb\"><img src=\"data:image/png;base64,iVBORw0KGgoAAAANSUhEUgAAABAAAAAOBAMAAADUAYG5AAAAMFBMVEX///8AAAAAAAAAAAAAAAAA\n",
       "AAAAAAAAAAAAAAAAAAAAAAAAAAAAAAAAAAAAAAAAAAAv3aB7AAAAD3RSTlMAZrurzTLvInZEmRDd\n",
       "VIkafcLnAAAACXBIWXMAAA7EAAAOxAGVKw4bAAAAb0lEQVQI12NgYBD6b2zsFMAABEkMDMxfgTT7\n",
       "DwYGzl9ABiOQxwjkMDB/YGBgSQcy2BQYuG1AiuM1OkwEQJr6Cxh4E0EMNSB+D5L6DMTyDQwMrB+B\n",
       "DPsJDAwc34GcL0AOSwIDwzRvoHH6n41NdBkYAF/iFeJ4bEa2AAAAAElFTkSuQmCC\n",
       "\" style=\"display:inline;vertical-align:middle;\" /></a> : <a class=\"ProveItLink\" href=\"../../../../../../__pv_it/common/09585084922504426caf1db2ff588a23a0932a960/expr.ipynb\"><img src=\"data:image/png;base64,iVBORw0KGgoAAAANSUhEUgAAAA8AAAAPBAMAAADJ+Ih5AAAAMFBMVEX///8AAAAAAAAAAAAAAAAA\n",
       "AAAAAAAAAAAAAAAAAAAAAAAAAAAAAAAAAAAAAAAAAAAv3aB7AAAAD3RSTlMAIs1UmauJMnZmRLsQ\n",
       "3e++988cAAAACXBIWXMAAA7EAAAOxAGVKw4bAAAAXklEQVQI12NgAAEhBijQh9LM/6EMlngBCCMx\n",
       "vwBMMzb0G0BkGOwngBmLGeoTwAwHBvkAEM2xxSV+A4hxgoGB/wJEhoH3AZDmAupg+gBkyAEx90cG\n",
       "htP/dRiY939KAABt3hLO6mcEjQAAAABJRU5ErkJggg==\n",
       "\" style=\"display:inline;vertical-align:middle;\" /></a></span></td></tr><tr><td><a name=\"0x4056e85ef7fe36fb_step2\">2</a></td><td>axiom</td><td></td><td><span style=\"font-size:20px;\"> <a class=\"ProveItLink\" href=\"../../axioms.ipynb#multi_conjunction_def\" style=\"text-decoration: none\">&nbsp;&#x22A2;&nbsp;&nbsp;</a><a class=\"ProveItLink\" href=\"../../../__pv_it/axioms/c857baeacaa4aa6e146076efc61af651d3fc8ea00/expr.ipynb\"><img src=\"data:image/png;base64,iVBORw0KGgoAAAANSUhEUgAAAhsAAAAzBAMAAADMadf8AAAAMFBMVEX///8AAAAAAAAAAAAAAAAA\n",
       "AAAAAAAAAAAAAAAAAAAAAAAAAAAAAAAAAAAAAAAAAAAv3aB7AAAAD3RSTlMAq1RmmUTNIjK7EInv\n",
       "3XZ/CtNrAAAACXBIWXMAAA7EAAAOxAGVKw4bAAAH5klEQVRo3uVbb2wURRR/t3t3u932rteoxBih\n",
       "l6gkhpjWgEQSpcc/YygJJ3yQGAKnaIj4gSMxGBXs4QejsdBKTGiJ0jMYE4vAQYgm9EOvEAQlmouo\n",
       "H4yNRzASDGmPf6WUyDmzs7O3M7ezd43b2xom6d7Omze7s7+d9+bN+20BKpT+/n64O4rW35+uqPRH\n",
       "8bqLt6xLTUMY9hpjKxa7Kyr/4uqt72GryVo+tvBmO+mkkGsMhy/DVMNR/WerQHvr5C6uJJzb14ka\n",
       "pJxHcMxnq3PIz2aB9ubJXTxYEDQsKDY1vZqCcKuo5xFv4FBOs0ZLXqdUtAqPll6aQM6U+qh52lIQ\n",
       "NX2H5uU4wCbRuEKtnsARyjNVPxmFv9li1dqvpWaBnCkHSxay6KagSbkDEEALwjyhtXzvCRxPsdUG\n",
       "8vPNoGW5CT8ep6ciOVMu3GdOhrfHBU0yapARJA3CdfRlT+A4y1Znk3eXH41aJpBKhySSsyX3AT17\n",
       "J3xV0ORDVhREdhoUOo/1SQ/gCE+w9XZiE9DSavWuG6mtCOTsNM8EqUXFpGuCpoZu0GaimVYfEXrh\n",
       "iAdwhLjhbNCPq6DLsvxuhIeNM5GcfY6kFCNngah6W9DUtW9kBkZWxs7EP6wXdijShAdwdHEh6U/k\n",
       "rUIHGtt+4vfUCIQMC9fl2kBTmpMzZQfAb3QyKVcETaNJkE7ih84KA9M7HsDxIFc/pVvQx0ubu0Ed\n",
       "IaGQD4UHZPkhcj/4c6ycLfcDjJCzS0sX3RI0fYL+sFtWC8KhfeoBHEN2cBwCaMyZkeEX6E2RMyJv\n",
       "jCvjrLwscjlIzhBY/9g3AZ41bag9IJwd0JasORzqNbAxFmTfoawJBw62FkNJLqcJHCV5WaTljxJb\n",
       "AfgdhRZPjkQu9LBN+n2b48Y9bH0HHG6tORxhLkyCfdgDtpLo2oAjR7cqVA71OUbOOWdzq7JaD+q1\n",
       "J06iOXiebcL3Vcecn7YhUnM46rI2W4VtuOEmhUPO0yQAlZPtpinX8GMdTtDDQtwJTwYFX7svqRxK\n",
       "wDhZwM0mCKK2tThA92fEY8sZcOiwPOQIRyWVKksDj/1OgC+Lm0DqG8sYcPjws6t5i1zZy8jhZ/zi\n",
       "Y/TwAG7chVDqG0vDo8XXwJdXs8QIaRP4+q40zditT5i4cGz1BQOOZWRVd4KjkkqV5XCMn+opm002\n",
       "V16HNyYFeSrcrRQEOabt4n7yDQOOHXiqdTvCUUml2rCDXynlWEU4lJ73l0/mHh1ofsjdMfvGJQ5u\n",
       "/o4BRzDN7JLt4KikUmVpKbvEntJjf307b/u2i8XCZO7xHApGlVn2WzWnN6pdN+CQsQt3dqWVVKos\n",
       "bWVz+Mta5gahzikVeYWuLD8MD5+tsLJUUKmyjJYNR8nXEo6LTo23KBzPAuytAIepYp2Fmr2+MKcA\n",
       "g2mYvuVbCscWULgQbXt7XB6ywkFVtDMWra9s/TejAmpf+7EeWlk5neEYpnDUpest67F6vjcuRY7D\n",
       "ciscVKXemmAZtHWu9WwO5mmAy/S8eRqjgQN8AoeUt7rJpeidSwv9kLHCQVXW/FhSDHTaGr5VBZV7\n",
       "kQf9f8EBCRTPykt2nQ8vMJLv0rvP5xk4dBVU8i9adiBB29ySVQWVE6CdczCWJEwh9ZScjNw0FjiK\n",
       "4vn9a1sbIuEIWfqk1PFHWDiO6jn5MDxjeW5/wm6bZlXBOey5i0wXM1g2Dkw7uUs9WfVFNNM6R1cK\n",
       "29BrfusvaEyhLc5qAoc/3M3AsU2fCWuwH3iTvONAKpyFVX/yu4A1JVehXz8Hn5kh4miZ750DblNP\n",
       "Vv0ymsmJfhoy4fDhYc6CTghFYX5vb29USmmZBAOHrgLtA81p9TECh3/gyARkNT5kxCqWqi8Gyg1h\n",
       "GIYzNC5TT4z+Jr6bA/10nd3gn4FL0KHCh2R2wKp8+QY/jLYEKZqyzIMyDkk1y9sKUpEXz102hzx6\n",
       "QxQCJvvRwk8lTDu5TD0x+vO4bg70k3abgUMpoPmxwI+WVCyNQzhSDgcypMYohkPL6NkZtKTWxXHl\n",
       "ADkcMFSkS3BKQr4H1TvScNA0li5+kjaA29QTq2/QTGY3B/rJ3MIZy2YE7eC3/I12kDgPsdHIcTBw\n",
       "+IdAW/kKhkM9ASsi8PlYHIerqNKZVE+jQ2fUUOnREjgt1xmVNw8c223espHfaM4Gt6knVt+gmcxu\n",
       "DvSTdNU+G3agtzfumA3DxiJRo03nSxUAOpKclAnJljrtyS9F7eA29cTqGzST2c2BfiKJy8knB9XL\n",
       "yDG9QN14MVeqQMCYg1okHPddLNVNv8onBzeAy9QTpy8n2G4M/cSNrfAfcqWtthWZz+7wdY6T1JN4\n",
       "rlJPxnXMaZNluznQTyRxWVtigaOUdZ7FVeqJ6JduWGC7OdBPHfmaw2FLO7lJPdHrmNabZbs50E8e\n",
       "0E6wQmQsMXeoJ6pv7L+M65ndWPqJLTOh9nCs58KGfeAu9WTo0/2X8XRmNyf6yQvKOsQFHkfAVeqJ\n",
       "6tP9F6GZSpcLZoX0k+zFBw380rIT3KSeSvrG/ovQTGY3J/op5MXnLvzHUJh2mgLqie6/hDRTudyT\n",
       "j6GgjQ0bMO00BdQT3X8JaaZy+UfgBRxBzmj3wFRQT+b+S/Bw5fLAhCdwqOxntnrubeqoJxHNVC4P\n",
       "RT2BA9k0+57yU0k9Xaxa7tFH2Pwn+tOkBBLVw3HO1X/veWk6wvEe8fBa/6HKcNwF/95j5E7xv/f8\n",
       "C5yU6Meafm4fAAAAAElFTkSuQmCC\n",
       "\" style=\"display:inline;vertical-align:middle;\" /></a></span></td></tr>\n",
       "<tr><td>&nbsp;</td><td colspan=4 style-\"text-align:left\"><a class=\"ProveItLink\" href=\"../../axioms.ipynb#multi_conjunction_def\">proveit.logic.booleans.conjunction.multi_conjunction_def</a></td></tr><tr><td><a name=\"0x4056e85ef7fe36fb_step3\">3</a></td><td>axiom</td><td></td><td><span style=\"font-size:20px;\"> <a class=\"ProveItLink\" href=\"../../../../../../numbers/number_sets/natural_numbers/_theory_nbs_/axioms.ipynb#zero_in_nats\" style=\"text-decoration: none\">&nbsp;&#x22A2;&nbsp;&nbsp;</a><a class=\"ProveItLink\" href=\"../../../../../../numbers/number_sets/natural_numbers/__pv_it/axioms/6bc27fa16ea1c04bf3d4c776d5c721085150bfa20/expr.ipynb\"><img src=\"data:image/png;base64,iVBORw0KGgoAAAANSUhEUgAAADMAAAAQBAMAAABJt1qBAAAAMFBMVEX///8AAAAAAAAAAAAAAAAA\n",
       "AAAAAAAAAAAAAAAAAAAAAAAAAAAAAAAAAAAAAAAAAAAv3aB7AAAAD3RSTlMAiXaZIs1UEN1mu6sy\n",
       "RO+L2jdBAAAACXBIWXMAAA7EAAAOxAGVKw4bAAAA9klEQVQY02NgwAAVv5YWMMj9u8DAwChkgia3\n",
       "jHcDA/sHICOMocIBVWqHgyQDwwMGBs4GBsYFqFLbFrA6MDQwMHBtYGD7DhZhWtHRCmZsmcQSAJLi\n",
       "N2Dg+QYS4A0qgOrawn1AESRVD5T6CRJwhckwbGFYwHUBKOUvwMDzCSQQwoCQOszeDpX6CBIIQJLi\n",
       "TMgCurBegIEXpIvnRUdHRxdUimE79wOwM9hAzmBfgKSLoZod5PgFDJxgxzcgS/EoAFVyPmBgBluj\n",
       "BJdaA8Q6IEPaGOoOgARYE2BSYUAMVl4stAcswL7rOkTm6D+gDvYA5KDjlYIGFBQAAFS8PxwW/emj\n",
       "AAAAAElFTkSuQmCC\n",
       "\" style=\"display:inline;vertical-align:middle;\" /></a></span></td></tr>\n",
       "<tr><td>&nbsp;</td><td colspan=4 style-\"text-align:left\"><a class=\"ProveItLink\" href=\"../../../../../../numbers/number_sets/natural_numbers/_theory_nbs_/axioms.ipynb#zero_in_nats\">proveit.numbers.number_sets.natural_numbers.zero_in_nats</a></td></tr><tr><td><a name=\"0x4056e85ef7fe36fb_step4\">4</a></td><td>conjecture</td><td></td><td><span style=\"font-size:20px;\"> <a class=\"ProveItLink\" href=\"../../../../../../core_expr_types/tuples/_theory_nbs_/proofs/tuple_len_0_typical_eq/thm_proof.ipynb\" style=\"text-decoration: none\">&nbsp;&#x22A2;&nbsp;&nbsp;</a><a class=\"ProveItLink\" href=\"../../../../../../core_expr_types/tuples/__pv_it/theorems/e4227b9c4c4eee791197a50fb372df0303979ecf0/expr.ipynb\"><img src=\"data:image/png;base64,iVBORw0KGgoAAAANSUhEUgAAAK0AAAAVBAMAAADGGHNoAAAAMFBMVEX///8AAAAAAAAAAAAAAAAA\n",
       "AAAAAAAAAAAAAAAAAAAAAAAAAAAAAAAAAAAAAAAAAAAv3aB7AAAAD3RSTlMAIolEdjJUEM2ZZu/d\n",
       "u6v6CvZmAAAACXBIWXMAAA7EAAAOxAGVKw4bAAACH0lEQVQ4y5XVv0scQRQH8O+eezv3Yw1XWBpY\n",
       "tI5cYWfhpjCQFOIfEHCxiaDgFinSaK4TBEGu8iSBKyNJyIGIhUUMIUpA8ARb5Ww1YH4IXiqdt7M7\n",
       "t3vrC7lXzL15d/uZ3dmZOZQgo2QELbpCFQz0EPqSYflhen0uVJoIVXjSizsatJlycO0M8Ix1LQfI\n",
       "HoQVo7Y6xZpDT0sw6x1XVICcz7mvgKX1m7DyEJk/HJvzxBdguePm5RiFNc7doImK3HNgl3M/AI+A\n",
       "zY5bpHSHcxtx97OPqxLjngELPoq+dmepusK4ViXu/gCuuAn+C0x7yNW1W6XqCOPmnbgr44hhBbl1\n",
       "ZFraXaHyu9DNHwbRitxg/JibvWZc47d0XRQq2t2n8hxzv7aXdO3Wv1wHVkO7W1SeZtxiOem+5ZaD\n",
       "kO64i+zPpDv2f26hxW4LOb8LHvoayXmYZ+a3ax5mYHDr7BT45MPa0+4JVT8y99vvhq4I3poD0xdp\n",
       "kxbte2BdPlBTuyP0TZVx1br5BbymFz1Yq70JMtFG2Oie7YntcF0q9zkZXxk3K5/rwWX7AjadPUe3\n",
       "t22VfUfY2PIEwKG8YVGdlFvGLmvXll1jj9vH36LeC6SzKCw/ygY75wOdOXT23O9uRj0H6SyKjM42\n",
       "YufvMR2AnNsfvn/h6pXqptyXenc0Y+5iQDOuaKqOqctmej3okdRdSHeCBnFN6k50/1oVBnr5H3qs\n",
       "Rp66A38YhoCQmIjBAAAAAElFTkSuQmCC\n",
       "\" style=\"display:inline;vertical-align:middle;\" /></a></span></td></tr>\n",
       "<tr><td>&nbsp;</td><td colspan=4 style-\"text-align:left\"><a class=\"ProveItLink\" href=\"../../../../../../core_expr_types/tuples/_theory_nbs_/proofs/tuple_len_0_typical_eq/thm_proof.ipynb\">proveit.core_expr_types.tuples.tuple_len_0_typical_eq</a></td></tr><tr><td><a name=\"0x4056e85ef7fe36fb_step5\">5</a></td><td>theorem</td><td></td><td><span style=\"font-size:20px;\"> <a class=\"ProveItLink\" href=\"../empty_conjunction_eval/thm_proof.ipynb\" style=\"text-decoration: none\">&nbsp;&#x22A2;&nbsp;&nbsp;</a><a class=\"ProveItLink\" href=\"../../../__pv_it/theorems/6a27c09ebc7bdb92e29564ab04af32c95b09884e0/expr.ipynb\"><img src=\"data:image/png;base64,iVBORw0KGgoAAAANSUhEUgAAAFYAAAAVBAMAAAAutAQGAAAAMFBMVEX///8AAAAAAAAAAAAAAAAA\n",
       "AAAAAAAAAAAAAAAAAAAAAAAAAAAAAAAAAAAAAAAAAAAv3aB7AAAAD3RSTlMAdt0yiURUEM1mq7si\n",
       "me/+MEVxAAAACXBIWXMAAA7EAAAOxAGVKw4bAAAA9klEQVQoz2MQUmaAACiDh+EAAy7gisYSYwgk\n",
       "Vi2bAwPjBHQ1l5RAQAuiwg2utgKI27EYmQhTwa4BV3sTiOfiU8s4KwCm9gEQ8xXgUcvEvAHKYmsA\n",
       "EhwT8KhNYeiBsngdgATLAjxqexhyoSywkZwNyJ5HVcu8gIGpAOqaBJBDHuA2l8uAgVEAopYP5Enm\n",
       "D7jVAsOUXQFJLSsec0ExcQ3ZDQq43QuSOgFRyy0A8tsGnOZyguS5DcBqwcEFDjjsarlA0cQsAFbL\n",
       "DLKDKQBTbSSWdAZKxIeITJNzoemHGLXcBxh4NhCpln0DSDkO4ATPb0/B1EEGGVxKATPsNKo3K7Pg\n",
       "AAAAAElFTkSuQmCC\n",
       "\" style=\"display:inline;vertical-align:middle;\" /></a></span></td></tr>\n",
       "<tr><td>&nbsp;</td><td colspan=4 style-\"text-align:left\"><a class=\"ProveItLink\" href=\"../empty_conjunction_eval/thm_proof.ipynb\">proveit.logic.booleans.conjunction.empty_conjunction_eval</a></td></tr><tr><td colspan=4 style=\"text-align:left\"><sup>*</sup>equality replacement requirements</td></tr></table>"
      ],
      "text/plain": [
       "\tstep type\trequirements\tstatement\n",
       "0\tgeneralization\t1\t|- forall_{A in BOOLEAN} ([and](A) = (TRUE and A))\n",
       "1\tinstantiation\t2, 3, 4, 5*\t|- [and](A) =  \\\\ (TRUE and A)\n",
       "\tm : 0, A : (), B : A\n",
       "2\taxiom\t\t|- forall_{m in Natural} [forall_{A_{1}, A_{2}, ..., A_{m}, B} ((A_{1} and  A_{2} and  ... and  A_{m} and B) =  \\\\ ((A_{1} and  A_{2} and  ... and  A_{m}) and B))]\n",
       "\tproveit.logic.booleans.conjunction.multi_conjunction_def\n",
       "3\taxiom\t\t|- 0 in Natural\n",
       "\tproveit.numbers.number_sets.natural_numbers.zero_in_nats\n",
       "4\tconjecture\t\t|- |()| = |(1, 2, ..., 0)|\n",
       "\tproveit.core_expr_types.tuples.tuple_len_0_typical_eq\n",
       "5\ttheorem\t\t|- [and]() = TRUE\n",
       "\tproveit.logic.booleans.conjunction.empty_conjunction_eval"
      ]
     },
     "execution_count": 5,
     "metadata": {},
     "output_type": "execute_result"
    }
   ],
   "source": [
    "%qed"
   ]
  },
  {
   "cell_type": "code",
   "execution_count": null,
   "metadata": {},
   "outputs": [],
   "source": []
  }
 ],
 "metadata": {
  "kernelspec": {
   "display_name": "Python 3",
   "language": "python",
   "name": "python3"
  }
 },
 "nbformat": 4,
 "nbformat_minor": 0
}