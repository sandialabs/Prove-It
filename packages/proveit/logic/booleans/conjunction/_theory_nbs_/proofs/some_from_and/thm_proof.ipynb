{
 "cells": [
  {
   "cell_type": "markdown",
   "metadata": {},
   "source": [
    "Proof of <a class=\"ProveItLink\" href=\"../../../../../../_theory_nbs_/theory.ipynb\">proveit</a>.<a class=\"ProveItLink\" href=\"../../../../../_theory_nbs_/theory.ipynb\">logic</a>.<a class=\"ProveItLink\" href=\"../../../../_theory_nbs_/theory.ipynb\">booleans</a>.<a class=\"ProveItLink\" href=\"../../theory.ipynb\">conjunction</a>.<a class=\"ProveItLink\" href=\"../../theorems.ipynb#some_from_and\">some_from_and</a> theorem\n",
    "========"
   ]
  },
  {
   "cell_type": "code",
   "execution_count": 1,
   "metadata": {},
   "outputs": [],
   "source": [
    "import proveit\n",
    "theory = proveit.Theory() # the theorem's theory"
   ]
  },
  {
   "cell_type": "code",
   "execution_count": 2,
   "metadata": {},
   "outputs": [
    {
     "data": {
      "text/html": [
       "With these <a href=\"allowed_presumptions.txt\">allowed</a>/<a href=\"disallowed_presumptions.txt\">disallowed</a> theorem/theory presumptions (e.g., to avoid circular dependencies), we begin our proof of<br><strong id=\"some_from_and\">some_from_and:</strong> <a class=\"ProveItLink\" href=\"../../../__pv_it/theorems/806002bd3449a68f3c695a4071348370d5b1f87b0/expr.ipynb\"><img src=\"data:image/png;base64,iVBORw0KGgoAAAANSUhEUgAAA4kAAAAZBAMAAABujna4AAAAMFBMVEX///8AAAAAAAAAAAAAAAAA\n",
       "AAAAAAAAAAAAAAAAAAAAAAAAAAAAAAAAAAAAAAAAAAAv3aB7AAAAD3RSTlMAq1RmmUTNIjK7EInv\n",
       "3XZ/CtNrAAAACXBIWXMAAA7EAAAOxAGVKw4bAAAHyElEQVRo3u1afWgURxR/d3t3u7f34QVEtKDZ\n",
       "YiuBmHCtUUi/vFpTlLT00H/EpphWSlBaPP8R0pbmKv2jhdQEQfyg6MWKUKL0tAqtoRptrbbS9rAq\n",
       "EgycqBWt2mjVppaazsfu7MzsntkrmAq9B7d58+7tvt/Ob+a9mckBeJfJgxmoyAMnVweNctxbKz32\n",
       "L+W+jX4VX5RkhcUxkLhxv54cLFIWE7gx1SOLPvzHn6zwUp7U4q7ecr1qwgbnd6XspaRxpKpqWZY1\n",
       "z1EWm7De5pHFQBr9CVWqY3mikyQW7Qaotrt/t6WUskvC7N8B+IaZOZQjLL6Hs2u3RxY1PHPbK7yU\n",
       "JwGSvDpQ8luSYsyesrRSdmkkWHb1LsqjN+2pnCIsYjIjhkcWYfk9RktFSkiUXGej+Ta7yErlY2lT\n",
       "K2WXSqtlV9A8VO7aX3xPWMQLnJDn1c2MyiKnfJlGrtXo8wYrRjHNyn+l7KIwu28I8XXE/mIpXaP+\n",
       "MDh4zDOL0cHBM/kKL+VJs1XPek5zC542u8652uUFUhsro/pku4zCLsriPIBNnlkMZCGcq/BSnizF\n",
       "F+3Pa2eX2rY2eIQqpeySMHvX5msT+E3CLMriSlATnllEritpteW/cOdVH9MVhGvUEhDGeBweJ4Xt\n",
       "D4DprPvRMjFGUZSyi2Lbf8uA/2vum+mUxXAukga9utThwIm98FTC3vVvgr1E38FNav2o6622y4c3\n",
       "++ZbDW1L8x6X7RHvQuRs8759rLSP7+t1vptgDTujyg0XvEJUBwR3vKMDE1yQHCYA+9Eqchj0WbS6\n",
       "ZSFOVzSmvXfXQ6JdFNv+Mfoc4GB2URb9xRCrwJKsmbQOHo7kAjmbxXpzcXOAW9ZGbriyaLsoBYj3\n",
       "W42nAa64bH55FySvGOT96AHFcQpeOrYQrGFnVLnhgleIKkNwxzs6MMGFsTguQdaWa64S03Y0lgrA\n",
       "2VPwomgXxbZfB35JC9BinsC1PsMqsJSl5uFjnWIqYmdUCCnkCcFO7kGLfnQ9HLJdfClQhqzGeITC\n",
       "ZbDxLmhooQW039pETUejyFktRGvYGVVquOEVokoQ3PF6ACa4sIzahbradwugju3h5wBnvwUdWcHu\n",
       "3PMTu/Y7XtZyu5E6k8XdeBN4Eg/G59acjTdmqXaenu5AzaPv8ixGppGJGQ9xtbT4qusOx3aJGrCT\n",
       "pf5DoP/ssqfiXdBWGE0izZxIKp46qx2pXrSGnVGlhhteIaoEwR3v6MAEFyKbzXoGXa0Wi3herQLO\n",
       "/gRl0baLwuy4jGq3OaoaTRbfQa+q40H4SUsymognTC2jkx1KTWTryxyL6kHaEQF71xiH5137Crms\n",
       "oi/Tca5hIuv9uzOedalWvAuSyfw0dUsxsjXMRRUguAwvhFd9zRlVguCOd3Rggou1GUBbQpQavs2Z\n",
       "LJKEFs7ydvhKsH+GkOu3TYWzh1CqblnOUdVssogqJ/ix71u/wLhsIG9quSAZmDWQusSxCORFg1lU\n",
       "QVRzg7II1Y1gfZOcULFLOGOWFh3lpfacWX16UrDgfFquPtiFyTe0B0mEKMlOcoRoyo1FARhpOCIR\n",
       "vLDeAYw2HC9C8ZYBzHTh5CP0mYQPsQ0wWfThiFqRt2sDgj2Gn33CUpjdh8/O1/JUneT+M0UMMAU6\n",
       "IWZQrQWUZRs3rkUs9oZ4Fql73647sHrA3NT2Veei8JlcVLFLlJWWjrRWlzOrj3oL+vUhR/Xp4Lob\n",
       "Vy6/GSGK38qQI1CrzKIAjDQckQhe6HcAow3Hi1C8ZQAzXfhzFz731JXYDLSXt/2xqFILHIuxxfh6\n",
       "FC5Bh0a1uZqWp3MxWO9gsQjqMMCAmaBQSlfRQ6WEil3ardICS7LmhgdVn+AwZLR+ufogF2XOjKZa\n",
       "8spV6HPRjOBDiSOekSNQq9L0eJ5nkQdGG45IFG+3AxhtOF6E4m2Y2rDgC2/ATJeGhbX8ifVoLKop\n",
       "tax/FVlU4ZN2xuK4OPSCOoQobgxQ7XQNPdKZibY/Mos4194gr9ILsBDdjQbFOtDzqGldqMuTgHX1\n",
       "DugoOaDOQu4dOdiJ3iqctp2Zi/8SHPbnsXlHGuJpM4KOVuoXQIxgWdEdBY5FGxiDIERieJW8CMxu\n",
       "oDCCO8Vb3x1N13oBxlzqu2Osy9ePzmL7B++XMxktqsg8sTPqBeg0gglog5WXqfZrEtrRtNBOZej/\n",
       "hnkWX0jAtttp/CqdRuAg6C+9jo/mtEPQmdGO4Msh0wVVDKTP+qtvvkE6q9NQVvTtQXkdn/t1GtT5\n",
       "iO2yQW8NGPgWfe7+ywA0AmxrvpYDMQKzTlRbORZtYAyCEInhDaRFYHYDheHdTbzh7Ha00vcAjLn4\n",
       "svZa81O7+99esd+Vlp9GRsqZihZVZIAIv9gwZE3/cuM66QROkAHupn1xvhhY2oDBWXHistwjuSIX\n",
       "kLkU/PmYwrVLR7CshfjMnLDrt27zu0aytNhWCRhr4DAOd4hBLRSSXoD52R3nFrOZU7xfh3vxjMRi\n",
       "MOfUHOeowsnOMYO5hkb+BmCombY/Y+vald32k1eMFLgwloueiKd9F+126QiWVU/4PweZRXwbcxUj\n",
       "WVrkogiMNXAYl57oQalzSsYDMKb1QO1Y/bKFZ1Fx0e7JosM16aKJuuJ+r/y6yVEjOCCGwdMzlBIe\n",
       "Hty9AYP/4EdJ5f0G7s0H+Peo6v/3H19XzyT/AfuqxK2U7ZrNAAAAAElFTkSuQmCC\n",
       "\" style=\"display:inline;vertical-align:middle;\" /></a><br>(see <a class=\"ProveItLink\" href=\"../../../__pv_it/theorems/935715fecdd13b5eced5f1c7f41bbb4c2928fafa0/dependencies.ipynb\">dependencies</a>)<br>"
      ],
      "text/plain": [
       "<IPython.core.display.HTML object>"
      ]
     },
     "metadata": {},
     "output_type": "display_data"
    },
    {
     "name": "stdout",
     "output_type": "stream",
     "text": [
      "some_from_and may now be readily provable (assuming required theorems are usable).  Simply execute \"%qed\".\n"
     ]
    }
   ],
   "source": [
    "%proving some_from_and"
   ]
  },
  {
   "cell_type": "code",
   "execution_count": null,
   "metadata": {},
   "outputs": [],
   "source": []
  }
 ],
 "metadata": {
  "kernelspec": {
   "display_name": "Python 3",
   "language": "python",
   "name": "python3"
  }
 },
 "nbformat": 4,
 "nbformat_minor": 0
}