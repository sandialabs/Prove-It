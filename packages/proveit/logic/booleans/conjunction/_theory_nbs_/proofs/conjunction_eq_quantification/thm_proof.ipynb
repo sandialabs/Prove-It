{
 "cells": [
  {
   "cell_type": "markdown",
   "metadata": {},
   "source": [
    "Proof of <a class=\"ProveItLink\" href=\"../../../../../../_theory_nbs_/theory.ipynb\">proveit</a>.<a class=\"ProveItLink\" href=\"../../../../../_theory_nbs_/theory.ipynb\">logic</a>.<a class=\"ProveItLink\" href=\"../../../../_theory_nbs_/theory.ipynb\">booleans</a>.<a class=\"ProveItLink\" href=\"../../theory.ipynb\">conjunction</a>.<a class=\"ProveItLink\" href=\"../../theorems.ipynb#conjunction_eq_quantification\">conjunction_eq_quantification</a> theorem\n",
    "========"
   ]
  },
  {
   "cell_type": "code",
   "execution_count": 1,
   "metadata": {},
   "outputs": [],
   "source": [
    "import proveit\n",
    "theory = proveit.Theory() # the theorem's theory"
   ]
  },
  {
   "cell_type": "code",
   "execution_count": 2,
   "metadata": {},
   "outputs": [
    {
     "data": {
      "text/html": [
       "With these <a href=\"allowed_presumptions.txt\">allowed</a>/<a href=\"disallowed_presumptions.txt\">disallowed</a> theorem/theory presumptions (e.g., to avoid circular dependencies), we begin our proof of<br><strong id=\"conjunction_eq_quantification\">conjunction_eq_quantification:</strong> <a class=\"ProveItLink\" href=\"../../../__pv_it/theorems/d20b17b9f4c7d1cbcca86e8b366a15a3a1cd0bad0/expr.ipynb\"><img src=\"data:image/png;base64,iVBORw0KGgoAAAANSUhEUgAAAqEAAAAZBAMAAADziupcAAAAMFBMVEX///8AAAAAAAAAAAAAAAAA\n",
       "AAAAAAAAAAAAAAAAAAAAAAAAAAAAAAAAAAAAAAAAAAAv3aB7AAAAD3RSTlMAq1RmmUTNIjK7EInv\n",
       "3XZ/CtNrAAAACXBIWXMAAA7EAAAOxAGVKw4bAAAH+klEQVRo3tVZf4jURRR/++N2v/fdu707tFCr\n",
       "Y6M4K0s3MkOIXLIwLxKxf7JS99KwhHIliCx/3NlfkXabYXYm5xeCwEJv/VGgFl2JCFa0iaGkG+d5\n",
       "IAZ6F3WeeqDNezPz/c58v9/bvV0N7MHuzsy+92beZ968eTMDUIoCheNwHRSaCzct3VHI3BhF5wsJ\n",
       "gJQslKLI9XV2N37pA894m8DL4KFoBb1HnW8fpenrsiyq/ISSACtl4b9F1MRRx7WJ47WFI8vE/ee5\n",
       "qqf87nsdyYU3GtFeZVgIZEgU6rH1rqKIBvAnmKyo22oUm8Q+5659OH6JBaLWB3G3PjeDThvYP2dG\n",
       "2Wd82+WGj5tp0Dn2ZWwhyXjSB9GyTdN0m1vzwIdFrvk7LzyJ/y4timgYQ2GkspCzSvopXGTwHpG1\n",
       "kwDLOEPMdkg3g+rpY5czRCOWW0Qnu72OadiKzJ8TCGkuucwH0fJN03RHMHaickL0NEe0DUNBtiii\n",
       "BvrxysqWxtPsE8bujKtsWq/KGqOp/GeHXHoeBqRnZaEfh51yibjIbm9n628KrsGZcntMOR1qiJZv\n",
       "mqa7LiGUE6JdHFpEOJYoHkdxdndXhugg+9SQp1xin2FZw1/ucWdukevJzYA0WUUUjoAu4iK7vb+V\n",
       "fXDBd8u/jjgd6nG0bNM03YssoZwQjSSpgOVIiZ3poYqjuHGFfTVRQB1gn0uyJvpnlH9PRlw3gxfR\n",
       "xaCLuMhu34YfZnnQHvRip0Md0bJN03R/I5UTouEsL/xcKPxYAtGaQuFUriJE43mx8qEuy1cM1sw+\n",
       "1m+snsd3GcU8DF5Ed4EuopPTfpnHEAjjoHeeFpK8QxeiZZum6W6BSc2knBCNd/PCUwBbSiAaboVq\n",
       "qyJEA2npWgysd46KGY1VYd/kGpFMMGUHKJ3Bi+g00EVcA5XtzOLotwnplamaJJekDsMFonqJaLmm\n",
       "abrNv4MTD5JyQrTqCi+sgCjTb/LpbfVFlDGsUJvCfAO2PSXISobqmU7yhHse4dR/24GHqYnV1oWZ\n",
       "LUECrY0nHX4MXkTvB11EJ7s9/teBPXRSq2WmxzO4faBksNvHR92mQWiPahkIVN5vlqapuoND84yl\n",
       "pJwQNS7xQrUVYywxnj6f4HK3fzp7r5rhb4Gv2Pf8f/Y2UF/VPFkhkeBmAESiVk7GZ2l+IOPC6AyH\n",
       "ZPwhYjWrhokaA1gbB3DBCVAaAzxTKPxUKPzqINoOuohOdnv1gNz8mGEmTLG4pDHgl+GTaaE/7Lb1\n",
       "tmUOnZABx6U7fJCMbheIRgd5Idijb0wfjN8Ex2H/nyqik6nzUB5ieQdR7p6dbND1iu8aFxjLC/Lv\n",
       "2pRE9KICGBlJCxtzzx12OqozeH30RdBFPKezHXbKaFvNJkZIVvn5qDDtkLRc2xcValLSUVt37ZKn\n",
       "gCsnRE2BKKQf01Y0MiWNiUkV0QidsAIpiA/oiIY+QhF5GULtwbyTi3MfxVVvDEsRrLWYnI/ytjDl\n",
       "bl4GL6IPgCbize95e7vcamqpelJIUofuOMpNiw5Iy0shqunuSixq5cq5j4pVD7tZTlZ1mqa5LyGO\n",
       "euGwdq6PNaFBNQmorbeRQ5H4RlKOO+rjKqJ2gkuIdmL8GZT60KkHY6zvrBCN0rR7GbyITgdNRCen\n",
       "vd+e4R6xFkkylPXzUTItlF2TE5Y3STAc52eo2IhqumdYXYkeUs7j6JAorGJW76zDEYeDaZN3+8g9\n",
       "GqLR77G01oqOdXyRiRg/UPVN3FGbVETtzTiQFalLxA5iuzCivSHSD1oen4Avg4bodxmZhtkiJsaJ\n",
       "rrQoKKqW226L8xkakEe3nB+iZFrg7H2HheXTJBjOqsXUc4GoaLpvha7WHCnX9noIMM99mxbUF7FU\n",
       "Fa12syen3z2Nw69HL/RaDqIocu9+LM1nAtZeFdEq6Q6YosEGNqptl2W0ZzUYw3qpxdmeQPELfBlU\n",
       "RBt+aWEtv4EqAsdkoD6mtc++1ilTnbycVJSsnet794Sm1fRCK7fceEWCYRNDhaHA9xVd90aIz7FI\n",
       "OQEZ6lZv8zrFOSb0akfHRojFLNPy3OY1gBovSWQ+QnonzyJnd2zt6EgSooZEFKfNSQP46hS11SOl\n",
       "fCr7ZO1CMl9uOoypC6YNJLl65Nu8tU+0Are8bYINhuNTuH+/7qfbHhY/M9UriJpXyIy6jEHOOe9d\n",
       "iHkRPaghykXaZgHQ4W/Id9XTJhrSEnJZmznirX/K56YEXFcoo6OpEEjMsITkzJERnV6VF5bjBZIA\n",
       "w7luyvA7NLduZVjquV4kQemUmaNkjM5PuZQdOBxEo0MaokwEf1ZMoD3B6FYRjfeod0+wWRsKrxW5\n",
       "79o8Qnv511/VmfbEUSHp06GNaKORz4mTY5O0jOHxpZOiNvnoVoal3j0JH23M4DbDJmglm59QQ+O+\n",
       "Fg+i54YtzUcbM+IJA3XH60V79OvhHqc3Gg1s14ayXR+Ql7aXiXSRF4RsuG+ukPTpMO1oHtNKlhN0\n",
       "3DLjMKzPSLf1QdTMKsMiIB90v4oE6Uht7uvYVOpVpNr1XJETR+hqLyYBzKOi2hmE184WecDxf/6I\n",
       "V3DnvcaRPFvqVYRb7pOPLvZPU9cowyIgj7sRfT7yXPfo3plciMIseHm9c96nBu2d6WYlv7Et8NhP\n",
       "qDQV16S+MzmUDPdZ5SFqdDBiTh+z5jRr+pU8ZdL/DNGIe4EQKsZLpREd/Vuo973e887rmglzBHRv\n",
       "NnrN771+nR/nW8UVnT/FgGzmhX8BkFxOR3wexAAAAAAASUVORK5CYII=\n",
       "\" style=\"display:inline;vertical-align:middle;\" /></a><br>(see <a class=\"ProveItLink\" href=\"../../../__pv_it/theorems/98a31e91bc05aa8d1f74ed854bc54560475deaaf0/dependencies.ipynb\">dependencies</a>)<br>"
      ],
      "text/plain": [
       "<IPython.core.display.HTML object>"
      ]
     },
     "metadata": {},
     "output_type": "display_data"
    }
   ],
   "source": [
    "%proving conjunction_eq_quantification"
   ]
  },
  {
   "cell_type": "code",
   "execution_count": null,
   "metadata": {},
   "outputs": [],
   "source": []
  }
 ],
 "metadata": {
  "kernelspec": {
   "display_name": "Python 3",
   "language": "python",
   "name": "python3"
  }
 },
 "nbformat": 4,
 "nbformat_minor": 0
}