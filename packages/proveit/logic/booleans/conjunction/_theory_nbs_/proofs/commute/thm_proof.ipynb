{
 "cells": [
  {
   "cell_type": "markdown",
   "metadata": {},
   "source": [
    "Proof of <a class=\"ProveItLink\" href=\"../../../../../../_theory_nbs_/theory.ipynb\">proveit</a>.<a class=\"ProveItLink\" href=\"../../../../../_theory_nbs_/theory.ipynb\">logic</a>.<a class=\"ProveItLink\" href=\"../../../../_theory_nbs_/theory.ipynb\">booleans</a>.<a class=\"ProveItLink\" href=\"../../theory.ipynb\">conjunction</a>.<a class=\"ProveItLink\" href=\"../../theorems.ipynb#commute\">commute</a> theorem\n",
    "========"
   ]
  },
  {
   "cell_type": "code",
   "execution_count": 1,
   "metadata": {},
   "outputs": [],
   "source": [
    "import proveit\n",
    "theory = proveit.Theory() # the theorem's theory"
   ]
  },
  {
   "cell_type": "code",
   "execution_count": 2,
   "metadata": {},
   "outputs": [
    {
     "data": {
      "text/html": [
       "With these <a href=\"allowed_presumptions.txt\">allowed</a>/<a href=\"disallowed_presumptions.txt\">disallowed</a> theorem/theory presumptions (e.g., to avoid circular dependencies), we begin our proof of<br><strong id=\"commute\">commute:</strong> <a class=\"ProveItLink\" href=\"../../../__pv_it/theorems/1d9839f13f812885ca1a7fdf12b8ede2932d72150/expr.ipynb\"><img src=\"data:image/png;base64,iVBORw0KGgoAAAANSUhEUgAAAK0AAAAXBAMAAACL0NJjAAAAMFBMVEX///8AAAAAAAAAAAAAAAAA\n",
       "AAAAAAAAAAAAAAAAAAAAAAAAAAAAAAAAAAAAAAAAAAAv3aB7AAAAD3RSTlMAq1RmmUTNIjK7EInv\n",
       "3XZ/CtNrAAAACXBIWXMAAA7EAAAOxAGVKw4bAAACu0lEQVQ4y61VTWgTURD+ks1m022MDdRSBOmC\n",
       "J08GLIKH2gR/sFQw4KWIaDyIWA+NZ7WNx0LR0pOImBXEiwaq9JaDtR5URAnoQcRCsAcRpLaxprHF\n",
       "1pnZt2Gb0tRUH+S9nTdvvjfzzbwJsKVh1NWmsdXxeeMbU8AZWltY2N0grH+cpgOr0ejFTK0qOAdE\n",
       "YsARFi40iPtA5leAryJfzVZVtZdw0Q9cZ99HG8Q9JBGvAPqCyLlUVZVYpKmT/LbXXPd3Y5InjXzV\n",
       "VkSe2eFqmq9wBGEbGnERbJRecc9HEQdfyEZh2FUNRkpMMoG+mZ5+3SBugNOG8CjMXRknjUG3tOL+\n",
       "H+w1VcMx4LZs2TXWcbWa63DZHeDm3dm2mCOn/eqwboWWmSIK6DIMqTXzpWiGF/I9TvG4yXwkYijb\n",
       "O3FL7WyTfHxPw/9cZMr9RxUJjHkOgBLQZDcnhfGSaLQCIpNrcJ86We0CvqmdsBjcYZ3c2Q7MOpqv\n",
       "hxO/2Ami3l900tb3VhZfHNqcF1cfKcraCnSvwWXHullnUtQ5hzISf7MNe5Y6KHvFc46NhVzMixsJ\n",
       "Ck2YgvnOy0OIE9SRVK8iYDk0AJ+YhwJNT/rFHEfFZmimsx1e3GIg5byCfQn30TaxlxF6AKGyXKPa\n",
       "AnCSfgNMJtteFX/6FHtdMFu9uHrGoZt4v+dWCJcRgrR9WlySeDmnBp/MplUh+sSN3nyHrWgcSnpw\n",
       "A/nHS4p346fCDVGYvux8tG1MxJ083SB2s2Ube1YvUQRJtyQjBJdxaMRZb50VYVQU73rFPf1hk4dz\n",
       "rfpFzGy3zHEYSzDfe3jQKYclPKRbbeRcHrivbN6XJNpnME+cD01h/3K+x/LgHm/B/XJyxNIG8hNj\n",
       "Vbum+v8I6/qj3yt4lTUNz6zfWNdde2oDXL22dwzWxf1SuxHbAFfDfxzpfzH+A7xsoa49s31UAAAA\n",
       "AElFTkSuQmCC\n",
       "\" style=\"display:inline;vertical-align:middle;\" /></a><br>(see <a class=\"ProveItLink\" href=\"../../../__pv_it/theorems/047b18cacd7345e1e04dab722edec705fa2d4a700/dependencies.ipynb\">dependencies</a>)<br>"
      ],
      "text/plain": [
       "<IPython.core.display.HTML object>"
      ]
     },
     "metadata": {},
     "output_type": "display_data"
    },
    {
     "name": "stdout",
     "output_type": "stream",
     "text": [
      "commute may now be readily provable (assuming required theorems are usable).  Simply execute \"%qed\".\n"
     ]
    }
   ],
   "source": [
    "%proving commute"
   ]
  },
  {
   "cell_type": "code",
   "execution_count": null,
   "metadata": {},
   "outputs": [],
   "source": []
  }
 ],
 "metadata": {
  "kernelspec": {
   "display_name": "Python 3",
   "language": "python",
   "name": "python3"
  }
 },
 "nbformat": 4,
 "nbformat_minor": 0
}