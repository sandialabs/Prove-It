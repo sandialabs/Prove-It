{
 "cells": [
  {
   "cell_type": "markdown",
   "metadata": {},
   "source": [
    "Proof of <a class=\"ProveItLink\" href=\"../../../../../../_theory_nbs_/theory.ipynb\">proveit</a>.<a class=\"ProveItLink\" href=\"../../../../../_theory_nbs_/theory.ipynb\">logic</a>.<a class=\"ProveItLink\" href=\"../../../../_theory_nbs_/theory.ipynb\">booleans</a>.<a class=\"ProveItLink\" href=\"../../theory.ipynb\">conjunction</a>.<a class=\"ProveItLink\" href=\"../../theorems.ipynb#redundant_conjunction\">redundant_conjunction</a> theorem\n",
    "========"
   ]
  },
  {
   "cell_type": "code",
   "execution_count": 1,
   "metadata": {},
   "outputs": [],
   "source": [
    "import proveit\n",
    "theory = proveit.Theory() # the theorem's theory"
   ]
  },
  {
   "cell_type": "code",
   "execution_count": 2,
   "metadata": {},
   "outputs": [
    {
     "data": {
      "text/html": [
       "With these <a href=\"allowed_presumptions.txt\">allowed</a>/<a href=\"disallowed_presumptions.txt\">disallowed</a> theorem/theory presumptions (e.g., to avoid circular dependencies), we begin our proof of<br><strong id=\"redundant_conjunction\">redundant_conjunction:</strong> <a class=\"ProveItLink\" href=\"../../../__pv_it/theorems/626ce1fc37191caf60edb104c6471168ce682eb30/expr.ipynb\"><img src=\"data:image/png;base64,iVBORw0KGgoAAAANSUhEUgAAAYAAAAAZBAMAAADK9+SzAAAAMFBMVEX///8AAAAAAAAAAAAAAAAA\n",
       "AAAAAAAAAAAAAAAAAAAAAAAAAAAAAAAAAAAAAAAAAAAv3aB7AAAAD3RSTlMAq1RmmUTNIjK7EInv\n",
       "3XZ/CtNrAAAACXBIWXMAAA7EAAAOxAGVKw4bAAAEW0lEQVRYw81YXWgcVRT+dvZndmezm/ggaB/M\n",
       "lqJEBLOY+FZkS6JU+uDSvhRMS0REjBTXF0HbTde3+mCNYtH40ExVhCKVbaGU0gdTRAiIGqRoLF3Y\n",
       "ttISFBsjplWReM69c2dn7vy4K3nIIWT2nnPuufc7f/fOAHGUaP2AzUzF1nfxChlsdhrZEAC1ntc1\n",
       "N8BWbcMAFEvi8UrIPicjplyLNLa/OwdMOpojGODHtmgAsXJJD8nHSyHzV8JnGM3QXV14sopiuRsA\n",
       "bFhojuBxHj8fDSBWLsiSbjbWnXG+5IqGVwIsQZ+EGvoYxiowFbmQbnhKAHidoc9EA4iVC0pJn6UG\n",
       "nfQ91cmbHbcDLEFjoYZulaw1YDRyId3wqACQsYMO8gKIlQvqk49znzfkj+t3uy47eEdnSZoPNTRR\n",
       "BQHos6MW0g2z5giS5ZhaJUGsXNADMoHbtxyYi28oyXRxVWfJbIuqbeN3WkwENFELBl43zJrUhb5u\n",
       "tb6K60JxckG7ZAZhuOwUaEa1wgpvyM+SulTD+7ccXG7rpvaRibxoG+YSUG9ola8ZZk0CsBP4IA6A\n",
       "K7edjTrkRvpZ8X833pKtJVMzKlKQLmX/1liOWdpn8+22dVtb7uhdtOWkDE+9wRh8s3TDrEkAXoY5\n",
       "4O1ll85i+4AHgJJbC4KVU71nQc2Qp3kFh+UsqvrLjqNh/qaxJBVKSFd/hHknkEKUGYYsEHNJC0DQ\n",
       "MGsSgJydr7ouuPcYtubtlO0BoOT5VR8AZ0j0pTjM3h0flCl7D/CrFCyP7/hTYzllX4Vl/QHjL3bE\n",
       "gRaTs9lvbWSd1lvXAhA0zJoEwGi7NZrayYdWu5L3ppCS7/3GB8AZKgCfAf2L6lQ4JWNEKf6Pn9UB\n",
       "AGMFCa2WjwBzFJv5cABBw2kZAUw+Ruk0dvQn6lMsHrp/2gdAyInaz/gAOEOVQpSdhXl12qRKqlqu\n",
       "+FmdFOLd95f9HXPdZgDGYngKBQ2zJgM4QyfaRxPlvpolcmAo/+HTPgBnxNlYxBNeAGpIdJydUVb3\n",
       "hoJ7BdqjrhcF/VaUIxf2NTFs+28UF0UKJWfCizhomDUZwCEqvtduoN9Oiz44hMqyD8AhUZx78YsX\n",
       "gBoSnWYdloimIsL1Pi/GAZmreVl00PJZK/rf4QZuJBva1Zi7Y6rpa6NqTohh1mQACda7DxNIvjA7\n",
       "+w4B+DTjAyDk2HVh0PYAUEOiN4GT61Mw5tZ46S2iGdDCc2s2Hlx/0cMCLok/ZCn2+4ATj/izPD1O\n",
       "lzkUqmpR6W9nTohh1nSv0wsYz2abMgLph4PX6aLwmQvAHXJsGz2/DizFyOpdW6l73gfMFSwNyQPr\n",
       "UeBqEADlXX+pA8AdcipWegYwGiMb69rKmAdAegA/l/Eq+TL7fQ2JAIDURVhPPecC6AyZ3usZQC76\n",
       "vSv+5hvQ9L+RWednj/3XG1kuyDrZMwBr5v9gC9Ps/ZUyBIDZ7hnBdKTkZtc2bmKjAGzmrxLB70Lm\n",
       "5vou9MW/a7kob/GBon8AAAAASUVORK5CYII=\n",
       "\" style=\"display:inline;vertical-align:middle;\" /></a><br>(see <a class=\"ProveItLink\" href=\"../../../__pv_it/theorems/899561cfddd3b045c017397691a27c7a5c3980a10/dependencies.ipynb\">dependencies</a>)<br>"
      ],
      "text/plain": [
       "<IPython.core.display.HTML object>"
      ]
     },
     "metadata": {},
     "output_type": "display_data"
    },
    {
     "name": "stdout",
     "output_type": "stream",
     "text": [
      "redundant_conjunction may now be readily provable (assuming required theorems are usable).  Simply execute \"%qed\".\n"
     ]
    }
   ],
   "source": [
    "%proving redundant_conjunction"
   ]
  },
  {
   "cell_type": "code",
   "execution_count": null,
   "metadata": {},
   "outputs": [],
   "source": []
  }
 ],
 "metadata": {
  "kernelspec": {
   "display_name": "Python 3",
   "language": "python",
   "name": "python3"
  }
 },
 "nbformat": 4,
 "nbformat_minor": 0
}