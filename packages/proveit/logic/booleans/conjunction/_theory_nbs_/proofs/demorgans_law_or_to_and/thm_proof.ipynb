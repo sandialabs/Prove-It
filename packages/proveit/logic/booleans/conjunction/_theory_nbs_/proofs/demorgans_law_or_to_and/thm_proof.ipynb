{
 "cells": [
  {
   "cell_type": "markdown",
   "metadata": {},
   "source": [
    "Proof of <a class=\"ProveItLink\" href=\"../../../../../../_theory_nbs_/theory.ipynb\">proveit</a>.<a class=\"ProveItLink\" href=\"../../../../../_theory_nbs_/theory.ipynb\">logic</a>.<a class=\"ProveItLink\" href=\"../../../../_theory_nbs_/theory.ipynb\">booleans</a>.<a class=\"ProveItLink\" href=\"../../theory.ipynb\">conjunction</a>.<a class=\"ProveItLink\" href=\"../../theorems.ipynb#demorgans_law_or_to_and\">demorgans_law_or_to_and</a> theorem\n",
    "========"
   ]
  },
  {
   "cell_type": "code",
   "execution_count": 1,
   "metadata": {},
   "outputs": [],
   "source": [
    "import proveit\n",
    "theory = proveit.Theory() # the theorem's theory"
   ]
  },
  {
   "cell_type": "code",
   "execution_count": 2,
   "metadata": {},
   "outputs": [
    {
     "data": {
      "text/html": [
       "With these <a href=\"allowed_presumptions.txt\">allowed</a>/<a href=\"disallowed_presumptions.txt\">disallowed</a> theorem/theory presumptions (e.g., to avoid circular dependencies), we begin our proof of<br><strong id=\"demorgans_law_or_to_and\">demorgans_law_or_to_and:</strong> <a class=\"ProveItLink\" href=\"../../../__pv_it/theorems/da518f8594dcec4fa1b45e3c0d6b3a95596d47cd0/expr.ipynb\"><img src=\"data:image/png;base64,iVBORw0KGgoAAAANSUhEUgAAAmYAAAAZBAMAAABp6f+EAAAAMFBMVEX///8AAAAAAAAAAAAAAAAA\n",
       "AAAAAAAAAAAAAAAAAAAAAAAAAAAAAAAAAAAAAAAAAAAv3aB7AAAAD3RSTlMAq1RmmUTNIjK7EInv\n",
       "3XZ/CtNrAAAACXBIWXMAAA7EAAAOxAGVKw4bAAAGE0lEQVRYw+1ZXWgcVRQ+Ozu7OzvJTuZFEIVm\n",
       "oRWRkHYlsVAfyrZNVKzikj5YfyjrgwTiQ7cvQmxrRvFBMcZ9UNoVJFOUQoi127yoKdptRSxIdRFR\n",
       "KQa2/pVI1aiYVqWs92/uz+zMLFtpWcXDze7NOd+9M/e79557zl2AaIktfQH/iyTW0qftIMl/47hS\n",
       "V6vjEv4Y+k9y9jVlrhjCaLGz3h4X1V2UMxt/rY3irA2i+0Sr0ldfCRnSSmfd7ZY2Zo5wNorr41Gc\n",
       "tUF0nxymXxtkbhZENUwvS09WzEBT0k8Qzp7Cq7UcxVkbRPfJNvq15aJQmZ+LepheliNi/+r9JaEf\n",
       "JpwlXYXVAM7aILpPanSp7L0kbapbC3wJhegV+eY6Xn3rhCP0vS7mLJ6LdPTI1AbRfe6MrpEnrV+F\n",
       "LmPwjRKmV6T+HD8xGj9L6yWZI+fmmaWlj6LPzWhE14lOj4C89pvQDQiHHKZXT5GktyF12JCT/JxN\n",
       "OLsL4JVozqIRXSdJMsZE1vhL6MZhHauF6dUuSlqeVcfgxaowxIuEsz2QsqM54whXMpjBeFeZcfmf\n",
       "m0nxtW7I5lAb+PppeQWLFG+/ZemzU79wlWFDxvXeKVivCDr2znrLEqYkerQa4Szt9vj84P7thfhJ\n",
       "iTMPYZ6WQG84QQNSIJCW6vECLv7WumQOtSkSACQjgzz30wSxPLLlD/Q+G2kG6IDFpoDq54/d4NMr\n",
       "cj3AT2w2Xhrpl1yesUI40xqygzfOVQqavQh3S5x5iB7JecKJwJNUgSicHSLF3zpRJWO1I22Cl2Ag\n",
       "kodIkTgzERWXAWZ+9CI2s04nlerzcK+qV2ce7cAjtPomQJ+ESNB1BsXNEnwEzZ22WYeqnDsxxM6P\n",
       "pcbTgVtHhqicjbLg2Nd6AmcYiJ0oG5NwIImHkq68N/Ei/Qr9DfLIdStfvEj/O0w5ir4lotWz3kRl\n",
       "atLerFPOFlBwG982c87a5NDkQHv6/obCGUZgB/OIFNgkA52gDFE5q5PS0noBg9JupE30FgIko+Qh\n",
       "ZBpTuYMlPYPew1nayPS3U87qajrJPSLPShM5kmt59EC8TDnbhx792sO5XtuyYY6Q6SzepHC2z6aO\n",
       "9g6JHD0o01UgCmfoFaTcWLReB1oObasoG5/jUCCy5YGfdDgeSOG1MVtinMUxi2lMEtfDu4r+KOrK\n",
       "XGUVINvqIBk5Blzk9JA4Zog6Qnjie+hzkGIH5Uy3yjJnMeJsd8IFgEk67QnHqsHYt/4gmkD8nL1T\n",
       "qVTqiTKg0oOqr7LWtKsHAMookvHZEutHhY1LAJDvU9I9c8l1MGdXXbil+RjjLIafZCCChN44K+sh\n",
       "gwn/zKuQ82EG/c01J0CbXa169ECmIN0FrYFp7Ag2ovfJao5ZLbbeBW0/3u8ag5Qz/fixP6Fm+m8I\n",
       "MCRwndmaDRrdSjHWmnaF4u0h5KV8tl44KmxcAoD86CqDiOi/lF5hMCSGmnQ7ivkYPbBfvj87Dcsw\n",
       "ZcDzdJ3BWKOFMxQAIR/AwpkGpC5Byaj5tyaCxLcOjQ44fs7EoGKsNe0KhZRJ5KV8thR6RW4Tjr4V\n",
       "OLx2eOxt394kiXQbzlL5VKkTzhg9JP33OEutICo36dTjohDIsls4Q9u2L4sHalaJa0RRRboA8/hf\n",
       "9kEh2jJ8wG6w0lL8xM8A3WtNOENhUPxGaLHBy8LmPSAIuL7cWxjAs9WQAq10qS1nk88+08lC8+gh\n",
       "1zseZwkbpRF7foAU9nwvjIuoiHOmnwTzvkfxQI1TcI8Nr68WcFI1nTU+hOkS/sgyyEGzyA5q+dw8\n",
       "QAoR1ppwdoBdSvlsuiNs3gOCgGnnMAkWEE2CKVMEoXt3vxdIwifNZifLzKOHPKPlbnu+UilE3W3j\n",
       "gWreAeWiqRVxpVera9VMvIUzOeoUXfHh+WyLljJ0tR8lKhiAOlpxc0CPfHZ1cbVS2fNX8nuAcQGF\n",
       "gQ96l77NOiT4Evdqpm0VYudbONNLuPi74irVlmxe9qsgEHgIvoM1SHMnKddGrug3lJyc/gXUAmNa\n",
       "WCTFJ7fJ5lAb+PoJSkLjhe7h7J/8vqn8ZmYG3YW4EfckIU7aDNaZ14gxa+n9vwE+RMF0wIfk8QAA\n",
       "AABJRU5ErkJggg==\n",
       "\" style=\"display:inline;vertical-align:middle;\" /></a><br>(see <a class=\"ProveItLink\" href=\"../../../__pv_it/theorems/9653f78aebcfdd7a6b3773d43c54ca761881ec760/dependencies.ipynb\">dependencies</a>)<br>"
      ],
      "text/plain": [
       "<IPython.core.display.HTML object>"
      ]
     },
     "metadata": {},
     "output_type": "display_data"
    }
   ],
   "source": [
    "%proving demorgans_law_or_to_and"
   ]
  },
  {
   "cell_type": "code",
   "execution_count": null,
   "metadata": {},
   "outputs": [],
   "source": []
  }
 ],
 "metadata": {
  "kernelspec": {
   "display_name": "Python 3",
   "language": "python",
   "name": "python3"
  }
 },
 "nbformat": 4,
 "nbformat_minor": 0
}