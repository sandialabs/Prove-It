{
 "cells": [
  {
   "cell_type": "markdown",
   "metadata": {},
   "source": [
    "Proof of <a class=\"ProveItLink\" href=\"../../../../../../_theory_nbs_/theory.ipynb\">proveit</a>.<a class=\"ProveItLink\" href=\"../../../../../_theory_nbs_/theory.ipynb\">logic</a>.<a class=\"ProveItLink\" href=\"../../../../_theory_nbs_/theory.ipynb\">booleans</a>.<a class=\"ProveItLink\" href=\"../../theory.ipynb\">conjunction</a>.<a class=\"ProveItLink\" href=\"../../theorems.ipynb#true_eval\">true_eval</a> theorem\n",
    "========"
   ]
  },
  {
   "cell_type": "code",
   "execution_count": 1,
   "metadata": {},
   "outputs": [],
   "source": [
    "import proveit\n",
    "theory = proveit.Theory() # the theorem's theory"
   ]
  },
  {
   "cell_type": "code",
   "execution_count": 2,
   "metadata": {},
   "outputs": [
    {
     "data": {
      "text/html": [
       "With these <a href=\"allowed_presumptions.txt\">allowed</a>/<a href=\"disallowed_presumptions.txt\">disallowed</a> theorem/theory presumptions (e.g., to avoid circular dependencies), we begin our proof of<br><strong id=\"true_eval\">true_eval:</strong> <a class=\"ProveItLink\" href=\"../../../__pv_it/theorems/b3cc0f62205641ddc9f10e76f3d418e46964da580/expr.ipynb\"><img src=\"data:image/png;base64,iVBORw0KGgoAAAANSUhEUgAAAjAAAAAZBAMAAADd4wmLAAAAMFBMVEX///8AAAAAAAAAAAAAAAAA\n",
       "AAAAAAAAAAAAAAAAAAAAAAAAAAAAAAAAAAAAAAAAAAAv3aB7AAAAD3RSTlMAq1RmmUTNIjK7EInv\n",
       "3XZ/CtNrAAAACXBIWXMAAA7EAAAOxAGVKw4bAAAFdklEQVRYw+WZXWgcVRSAT2ZmM7OT7GR8EEQw\n",
       "WagKEmtXGot5KWmbijSCa3ywSJGVIoWKdAtSqaZm9EkxbfdBaLYPZqRSCLF1kweV5qGJpbQoylLU\n",
       "B3FhQtQSKTEqpNEi6/2duXd3ZmdTWYj0wNm9c+bc2Zlvzj333LsAMXJfJQ93nFiVa7E+ObgjZetG\n",
       "BpNn2rKLh4q+4cFYaapIjkS4HFnfFXXhYV6Ickp4FIyNvzY1AhPn0SrpZYrkUITLofVdsX1FwJ6p\n",
       "OalViNiwSMHsxl8HGoGJ82iRmDmqSJSqeGLGb0XZJelI+80tAhg4WO+qkGBpdwmYt3CIFRqBifNo\n",
       "kWgZqrjZI2QE8/vAJcIuyblg/Oy4Kdj7osCoAwQM5iNADQET59Ei6WSK5LOLjjAGHs3yZpRdksW7\n",
       "/dh5Y028vhsBBr4kYFT0UtobJt84jxbJg0xRuHq/Ce8lZfDojbLLUn6Xt960/hATTiYKzH46K31d\n",
       "qXzVeFaK8WiRDDFFIwa2ZMSczPNdlF1+2FI7H28Dyp9i7rGjwExTME8CnG4MxvcQg8+MSJnS0QBv\n",
       "NNGzNrL3MwUYhpOlwH4A7metKLs8E+UVdheJtHFLOKHmxKlIBLONgjkMeg27Y0NZdV4Awz3Mq4LT\n",
       "x07o48lmHtxN9JRcsFxjivGOot8/Q5OoYUPKhcBuzt7l1tglQVPHDzzA9N/F8JiLipiHKZik2yFk\n",
       "LWOhmFXsC7BHAMM9OsQhejE8HctmDqaJnpILlstMwXp/sKcAxnKZmNscsOj9U7sGWlm2y3IPwDJt\n",
       "LQ3u+Es4YaxEgTlJwSiemFkH0etUtmtQEsBwj73fCPXhmBdaNspmDqaJnqKLDOY8QBd6doWCOYuC\n",
       "i7aovSurr8n2umroHG2hn/1HvNXIiNnHlgS57WjA7TqxYPU7tB5U3n7OE8EQDyTei8Lk2G6HlvGy\n",
       "mYNpoqfoIg8llCJScz4YXMbthMCuuhRMYK8r77Q0HUkAP6Ly5fFle3Ec2PVCc8xmBmYG1YBn9mU6\n",
       "bcuGSXLeufCABGaGVIkWPCE8hxa6iKoxMzBN9JRciHzANJGhtTwDU+ZLJG6HjrJklyXlL5GeJUsI\n",
       "87FLMA8LOPkWoiKmn4EZQbxe/wW6HK1EeiMwmlUQwYwQonvhBsBRmuASjjUHwz/VllTEXA+miZ7E\n",
       "RZJppiNIkzc5GBXfe9IR7HDcFe3mKmp8kmMNILGOA0THNzaR18/nYI2UAVopCswQA9OGf6YbxiCV\n",
       "hm3FYjGtOGYpJ4IhHjA02+Mam+njabPTf8OcWZu/iLkeTBM9sYtsOU51snoQlInVEgPThr0MT7Dr\n",
       "pyU7fIvjZIA14F78cQJhmlh14aHqy9DmGXNkiKbqC+UELYu+E7cdrsISjBrwHo0YGPbqth0sgFGH\n",
       "T4keoJGdN2rzFzH3beob/lwE00RP4qLu3Lq715/LUw5V/3WWw+ufV+G1da00HKugr6DrHovcnCgL\n",
       "YPQVFDP9GpqZcVhmwbLrwKBR1pXGj2eWCFo0vSaz+GDK/6DmRwqd2V4RTFzPKeaiLMFlxQ9wvJZT\n",
       "B2LB6OPv7FkPmFEUM2oBXXdXo9WrDyZho8rx8K/oZ3AAo9q6Dow2D+bTL+HHM76Ap2z4aDWLS2J0\n",
       "MJY3ruAPbk46Z/n8UGiq51iauYybOS0ock4xZQA+vRU6zXdWqyvrAfMMqoX1brfBfsHR0B28qWIx\n",
       "22gHDw8IhU+FrhccBK0UWraUM9J0HdOTwygrpZTqWyeZtkaSkXubp25na9O4geqF5/n+WbUcHASt\n",
       "D+Fn6M7XgmnQM8HSrmlb2bbrQYx4VFsj1yN3VPO3veebCT+oX8ZDoameKmw8iQfzyn/5X+n/+peU\n",
       "Vbn0L2tZvlLOKBkwAAAAAElFTkSuQmCC\n",
       "\" style=\"display:inline;vertical-align:middle;\" /></a><br>(see <a class=\"ProveItLink\" href=\"../../../__pv_it/theorems/f8da85a8e17a8c0aa4d2aa78b395a1fb26f5606e0/dependencies.ipynb\">dependencies</a>)<br>"
      ],
      "text/plain": [
       "<IPython.core.display.HTML object>"
      ]
     },
     "metadata": {},
     "output_type": "display_data"
    },
    {
     "name": "stdout",
     "output_type": "stream",
     "text": [
      "true_eval may now be readily provable (assuming required theorems are usable).  Simply execute \"%qed\".\n"
     ]
    }
   ],
   "source": [
    "%proving true_eval"
   ]
  },
  {
   "cell_type": "code",
   "execution_count": null,
   "metadata": {},
   "outputs": [],
   "source": []
  }
 ],
 "metadata": {
  "kernelspec": {
   "display_name": "Python 3",
   "language": "python",
   "name": "python3"
  }
 },
 "nbformat": 4,
 "nbformat_minor": 0
}