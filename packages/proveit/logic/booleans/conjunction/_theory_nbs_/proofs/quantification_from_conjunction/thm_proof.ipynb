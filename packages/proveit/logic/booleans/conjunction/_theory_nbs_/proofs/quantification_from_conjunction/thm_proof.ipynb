{
 "cells": [
  {
   "cell_type": "markdown",
   "metadata": {},
   "source": [
    "Proof of <a class=\"ProveItLink\" href=\"../../../../../../_theory_nbs_/theory.ipynb\">proveit</a>.<a class=\"ProveItLink\" href=\"../../../../../_theory_nbs_/theory.ipynb\">logic</a>.<a class=\"ProveItLink\" href=\"../../../../_theory_nbs_/theory.ipynb\">booleans</a>.<a class=\"ProveItLink\" href=\"../../theory.ipynb\">conjunction</a>.<a class=\"ProveItLink\" href=\"../../theorems.ipynb#quantification_from_conjunction\">quantification_from_conjunction</a> theorem\n",
    "========"
   ]
  },
  {
   "cell_type": "code",
   "execution_count": 1,
   "metadata": {},
   "outputs": [],
   "source": [
    "import proveit\n",
    "theory = proveit.Theory() # the theorem's theory"
   ]
  },
  {
   "cell_type": "code",
   "execution_count": 2,
   "metadata": {},
   "outputs": [
    {
     "data": {
      "text/html": [
       "With these <a href=\"allowed_presumptions.txt\">allowed</a>/<a href=\"disallowed_presumptions.txt\">disallowed</a> theorem/theory presumptions (e.g., to avoid circular dependencies), we begin our proof of<br><strong id=\"quantification_from_conjunction\">quantification_from_conjunction:</strong> <a class=\"ProveItLink\" href=\"../../../__pv_it/theorems/47bf59f70afd75568c83c8cd7b05c08bdf76046d0/expr.ipynb\"><img src=\"data:image/png;base64,iVBORw0KGgoAAAANSUhEUgAAAlYAAAAZBAMAAAABGn28AAAAMFBMVEX///8AAAAAAAAAAAAAAAAA\n",
       "AAAAAAAAAAAAAAAAAAAAAAAAAAAAAAAAAAAAAAAAAAAv3aB7AAAAD3RSTlMAq1RmmUTNIjK7EInv\n",
       "3XZ/CtNrAAAACXBIWXMAAA7EAAAOxAGVKw4bAAAHiklEQVRYw9VZb4xTRRCftu/a19dr7y6iAVTS\n",
       "RHOYoFAjoiQIFWICGMkFv6gRuAMMilGKJkQQpOAnIniVBPkjgffJBBWu/PEDovGUEBP8VwmCEZsU\n",
       "uISghquR428C7szuvrevb3vvDvkAk7Td3Zudnfnt7OzsHEAQ3VvO6YYjbXALU6h8/OYISpWPABiy\n",
       "EUTt+uH78cuLYs4/BH4GH8VuwISY+60VGv1fAMVUfR9h/YJo3BhWFg6n0p4toN7sfvYorR1uqAze\n",
       "mlPuzNk3H6tT4ne2hGgibzTjz339YhXCn3DGMxrH7ij2OXv9g2HzbRC9HkhlaubXMnhpHfvL6YGe\n",
       "h+2XWz6cTsoU2Ze5hWb6FhRYBRoG9RRl0q2tJSkasUra1HgK2Rb0i5WBoSnq9fXl0rfgAgPusOyd\n",
       "AFgoOPZI1loG1TuHLGJaRG3eS+j9zh1vYhK2IvPHBF07n7lQj1WgYT6SiqL0aBaEaMQq1UyNVSDP\n",
       "Y12sTORc6h19mn0MhN28xjbimuwxGitgOCY4fQxIz8pGL7M2kuXtnXVCozPeyc7cGDx3U+QFk3UX\n",
       "rMUq0LBachRF6U1paQtiZV2hBm5NvQ2V8Wqh6iac+tinkXb3EvtclT385V6SelhclD4GpNEqVnCY\n",
       "t0/fqdfAGe/Nsw8ev275p8PugkhbFKwCDfMdcakoSp9jS1sopM8jrCKZgEjYztm9e24i0K0UuKrs\n",
       "c0n2UE3uPklT7KmPwY/VPN4urdFr4Ixvxw/DK+woM89dEGmNglWgYbUkFSXpXzq2EFbTuIP9WC5/\n",
       "H4BVY7n8R9G7ByVxDqGpwM8G9qweJjtBQZUFchErfAx+rHYDD9hR7f3vjl/mBwUMVGbXSTFTLEhn\n",
       "sqjcg0GG1ZJUlKR3wKjpXDRh9TfHaqriunWwMvIQt725Xrt0Byb97SNiixMNzH0jfNMX8AxMw+DH\n",
       "ahy3LxfOau9/Oc5win2Vlp6UbczwmbSgUSY6r2AVZFgtSUVRuvVveORBLpqwmsMP42KIMfQsvnV5\n",
       "LVaMYXGNv+IBIwR67z7wKA2x3mqDMYcJDnYfJDm8PgY/Vg9SkwXj33U2OOOpfw7spSCYZIClchh+\n",
       "cWa4W/HBuS5W3DDlpbHXMdONJfDedEcVoShKD1+caS7gogmrzjw14naCKZDgCeFvfNo9H03bp+ai\n",
       "W+Bz9v38+X0tYq0oanFIxhAi1rMbmRSzSo6Xh1QFtAzwTLn8Q7n8i4tVJzWHApzTYeWMx6vy+mAK\n",
       "WzDG5jPNqsL88SEHK27YE06muxYcMx1K5kUAUBRF6cZB8hoUTVitbKNGuOKNgO8P2wDH4Ys/VaxG\n",
       "03ekBImSWCMrsbqgQEHq82PGchSrBFoGv1+9KF8CO+u8EHY66ZVjDYNczGxQ/Cr2as7BihtGvGiT\n",
       "525RqFVJrxzpyflTQYgmrLraxA03UZ1qIFPGHJlRsYpGcD9CWUhVFb/CM2helXzY67CYiiWZiU4G\n",
       "LYMfq4dkxmmk9ZkoH++UkTtJ3RNiJi0o4tWxnPLGIcNWSpuCsHIUReld6Tl5IZr7FT+DsIelTw0n\n",
       "aQt70uLBYRie92CiFU1qTEOyWcFqG8aQPsnHelZfgnkf5Qqo/xLQMvixGk8qoltoslF3vFeWNuK4\n",
       "c7E+MTPiJpwNBfU9iIbB+NhfwqZWaaZLuya7WDmKovRJdle6wkXzeJXjjeXM7l1NqLMRbrf4ao89\n",
       "4MEq9g2Ba8eGyHuwIC7sqBMsduPxflNcueSH8byWwYPV1zmZfJB3b8Idw8PQ1S4a7jgsclwNdypS\n",
       "lc8HN51Z4nk7o2Ew4o3PlnGbxkkzXcoyoGbJKVVF+l3QlS9y0eo9iGEYltEx+CSRbaCzZ1WK3jrD\n",
       "UPyacO6UXCqFMWIdE7b9soyWrAd3sNlJ3P0QMpoVLYOKVcvPHWzkV2wOp2CJX0dlQDzqGZ92fZs8\n",
       "LiW5XTgz6VbSNnmwQsPgp7TJbTJflma6odBmN1iUR2ZXUZS+HlIzbC6asJqg1mS2iTw18srmzesh\n",
       "kbAt21eTaVHqKFf4JeK9UohW1MtfVPbRnnJRabBFE7yu8UqlmSs0BTLnuoqdnwrcplXDHTNdYjlf\n",
       "+HWddNcWguhJBSvrChnSlDPJoWa+Cwk/VgcVeYfAffMq71jlXeuvpGY1b2eoeVQPjMZCKD3JFjOn\n",
       "9Fe/ihRmxbhNcNIx06WLvGJSK13SFPC8B0UO1561ipSCUKpbzDrH2MUqdrGmzgAbPUvwXj9P+411\n",
       "xpcOuhgXz3Wmj4iZ2gUdrEKVdQmRvreSmdj6FCwOn9mtux7j0j1JtFJnEH41Imd+S9AvZchHWkbs\n",
       "7/BhdfaqEhgxsYMdniV2eBfy045BYlifrILR0yZmaheMunaHHiebCBRmJimfM7/jYbdZh5VVUEFD\n",
       "iCLNNTXkMLmatX/zhgHUkEOY4sQ8WTDvnemnjK0vFqdyg6/yvuPOPBNcQ+Y2afIrfPq11pMuRFNd\n",
       "NFeD1QvR57oHV2+/dUlXjJnlG3lpbf0U1SGl3u5SxuixB/5/nFG3HVZRn1vPYO9mc24wVgP+P85r\n",
       "t+P/B6O6/w+u1nG+FVAsLbPb37Cp8R+7Dx4DrWqiPAAAAABJRU5ErkJggg==\n",
       "\" style=\"display:inline;vertical-align:middle;\" /></a><br>(see <a class=\"ProveItLink\" href=\"../../../__pv_it/theorems/e840b7d44d20d9a1fc38279e11c4c5bb7616800e0/dependencies.ipynb\">dependencies</a>)<br>"
      ],
      "text/plain": [
       "<IPython.core.display.HTML object>"
      ]
     },
     "metadata": {},
     "output_type": "display_data"
    }
   ],
   "source": [
    "%proving quantification_from_conjunction"
   ]
  },
  {
   "cell_type": "code",
   "execution_count": null,
   "metadata": {},
   "outputs": [],
   "source": []
  }
 ],
 "metadata": {
  "kernelspec": {
   "display_name": "Python 3",
   "language": "python",
   "name": "python3"
  }
 },
 "nbformat": 4,
 "nbformat_minor": 0
}