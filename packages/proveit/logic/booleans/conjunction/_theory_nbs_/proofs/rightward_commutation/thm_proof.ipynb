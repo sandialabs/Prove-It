{
 "cells": [
  {
   "cell_type": "markdown",
   "metadata": {},
   "source": [
    "Proof of <a class=\"ProveItLink\" href=\"../../../../../../_theory_nbs_/theory.ipynb\">proveit</a>.<a class=\"ProveItLink\" href=\"../../../../../_theory_nbs_/theory.ipynb\">logic</a>.<a class=\"ProveItLink\" href=\"../../../../_theory_nbs_/theory.ipynb\">booleans</a>.<a class=\"ProveItLink\" href=\"../../theory.ipynb\">conjunction</a>.<a class=\"ProveItLink\" href=\"../../theorems.ipynb#rightward_commutation\">rightward_commutation</a> theorem\n",
    "========"
   ]
  },
  {
   "cell_type": "code",
   "execution_count": 1,
   "metadata": {},
   "outputs": [],
   "source": [
    "import proveit\n",
    "theory = proveit.Theory() # the theorem's theory"
   ]
  },
  {
   "cell_type": "code",
   "execution_count": 2,
   "metadata": {},
   "outputs": [
    {
     "data": {
      "text/html": [
       "With these <a href=\"allowed_presumptions.txt\">allowed</a>/<a href=\"disallowed_presumptions.txt\">disallowed</a> theorem/theory presumptions (e.g., to avoid circular dependencies), we begin our proof of<br><strong id=\"rightward_commutation\">rightward_commutation:</strong> <a class=\"ProveItLink\" href=\"../../../__pv_it/theorems/a6d374787b741ef04a74d825a287cda2c80331990/expr.ipynb\"><img src=\"data:image/png;base64,iVBORw0KGgoAAAANSUhEUgAABIgAAAAzBAMAAAAOQC5VAAAAMFBMVEX///8AAAAAAAAAAAAAAAAA\n",
       "AAAAAAAAAAAAAAAAAAAAAAAAAAAAAAAAAAAAAAAAAAAv3aB7AAAAD3RSTlMAq1RmmUTNIjK7EInv\n",
       "3XZ/CtNrAAAACXBIWXMAAA7EAAAOxAGVKw4bAAAM+ElEQVR42u1de2wUxxn/7uVd7z18VmgKUYmv\n",
       "Io1cJcC1BVTStL6k0JZCipv+kyZEuG0qFKjC0VZUFBRfEKoSybFNFBqMmviSoKjYPI48+sAqmJCU\n",
       "JLSJm5IoQlg5RJPKNAXzNNgN13ns7s3M7vh2ez477t1Ivp39dub75mZ/O/PNt/M7AzhPWldXGiqp\n",
       "krjU1dXlpng4l0tMzi9anarc7LFO2jZ67MxdcQWixsn6ha+p3POxT48a09L8sgCRJ8OfJysIcJwU\n",
       "6RVvX1mBaB5/GomRw1pJ6bUue7np/xpEgaz00t5yApFymD+/iR5WS4qvdqe9atAqm5+rrb1f9MN2\n",
       "b66Nr7fxLQZqr1Eyzu1J1KA0kNs8bbPNKBvpvFLb8WkXX4lTdFKOh3gZgSjMP0waHTq8OVb4fH6U\n",
       "lsi5FIyZ2dmDNqVfR3PoZV4WeTMNN/zdquGjU+C9I17IoEwN15ZLAL5zNhdq0DduiIFjG5yiKumK\n",
       "3PtGGYHoVv7UT++Yv455aLV385clci7tys9htw1ZSytX0TxwgZNpT6KRyT9k0bDjPfSxNFnIoEwN\n",
       "2xYVWYUlNhfa0FPk7wWnNnhFPvmK/L4yAtER/jRED78/wMw3kS+Y300m59LJT5mP+/rL1tI+JPNd\n",
       "5WRV+LEN9Fo0/AQ/6MsKGpSpYdsSwS1ZHrdeOIO+UeC8YxuCojekHbs8WTYgigzz5zfSwSJ7hhng\n",
       "w2q7MYhI5Hzqe8TIPRg5Zy3tQVNc1WFOdgBrVROihiCpvamgQZkati3VeGJtzlgvdOLvNeLYhqDo\n",
       "R3J3MFo2IApH+fPFdNaC2XHW115hzGYSOe8NZKqMCSjhPW8tHWoHbXqKlSkfkwkjJWpoJuvk3xYy\n",
       "KFPDtaUGY6Atar2Ao4HqWac2REV75Yv84bIBUZuwTKJP1p3QxiyJVsANek4m5x/BpFcfDAIxdcRa\n",
       "uu2p09fGOVnwqr2GA8IKWmJQpoZrC3Z9oCFjuUBcHN+IUxuiIhIg8feTxD+P2tWyAdFnhPO36QgC\n",
       "zahHnqW+pxqFsL4IIXKtpzYtyLn0EMAxY+BS0CP+9CBf+kwSvIc4zWHdF9bm8Rrep4NFIYOiGtu2\n",
       "YNcH6hpFE9TF8Vx0asNUpMtvlnftk2UDooPC+aukYx9fUNcO6mkadfWkIEKHBCr3g7+Pl/NpKsBp\n",
       "PaSy4DY0WXib+NK/wWNMipWFCMw0aP03r+EtcpYuZFBUY9sW7PrAfywmqItT0+vUhqnIGMnlXduQ\n",
       "LBMQqeftQLQbdWufGbp/Dt0YmqPymkblMi+3RJp20RzqdeSm+DN8aex/NGRZWZjc/XqAmbyG94lv\n",
       "kSpg0KrGpi3E9fGdt5igLk5D3KmNvCKalsn7dk+8TEAUGbKbzpC3EO41QYSjbLdDXu5L0/7Oyy2h\n",
       "Rn+MzmYAx42eMUsT3NZxMhrayRh32NRAIkTBQgYtauZ8+XT05Fa+LcT12dluMUFcHO11xzZMRcgI\n",
       "dqpmSn0iCEXLBETVvYLgKewPx+n7Ch1E+JO8MjPkEOzj5EJHgPHK7HtAXpPs4bVg3KqXOBkOP0Iw\n",
       "bdxhU0MzHq/2FTIoqtHmHkKz9Am+LcT1+TVYTBAXp7rJsQ1DETZyeHSMVPeVCYhCYlAEL1k34B4Y\n",
       "MkDkw3eS7Dky5HSfgynXMCL2NBkfX8OV8DigYIB2JmnoKa+lComXreRls+MQ2GfeYVMDDhDck7YY\n",
       "JHbyVkU1yu4muExjFaYmAv57E1YTGOWBo+Dchq4IGxk2QyK2KThIQUQGpBlOQeQhU3h8MoFoT0IQ\n",
       "PAqwI7cSvJ2XMjqIPLhz1SwjV7ZxcsD3IJwwPq7DF1vRHei8lIbP51bRfjZLezrP1l77GPAatEW1\n",
       "C8G8w4YGgO2bp+BnUzRI7JhWLWo8WbWXzsumJmy145s2Jqblaqc9nnRuw1TkyZLQ+DvyvvVdpCBa\n",
       "SCMEDkHkbyQBiEkVJhJXImEmbuTts6/0c/iFGxvvpB0XnTkmBkOpSLsymHJlwq0NZMSfSIHSN8qi\n",
       "5SoF0UMYou1OQaTigWvdpJrOZsfExydREETK1oe/7cbGYLZIELk12IyGCV97whWI3NpARsIbU8b7\n",
       "atukXaAgwm/6gzHHPtFKkO8k+GSmBsvz+kS+X383Ynv7Q7ncoBsb33HsLa5fvX8sDH4XTQfK9Wk3\n",
       "JlzbQEYiLxQYMs5SEPnwesS5Y/0ldGyaVCA6Y5l8d0AlOU9PjHbxir46+2t//xHnIAr19x/PTKpO\n",
       "OGB5XpVsBRrOw2yjOsB/1kH0LYBtzkHkT0E1uStc6N1+XNU+Eb2wNF1BQslSvw6iNaBEQauTlFKO\n",
       "vgS3RvMgQmXXkJOdjKuhvWZbN1/kkQs9i+jJicX79pkgn9LTbXOH2SIA3zer4lhg5+IXt1priGLv\n",
       "qvuOmm5eXeVWly4d10FUnQ42Gju1hNQ6bQt8Npj2p/MgQqPWS3SWYJzx4Dn7icQs4uuDCA45wL2x\n",
       "fAQ58DZ9Uykktgitymy0/yrABpvxlRXjRmczP62vgGgcQeTNYr/aLizpRzMdzMgmgsx0BrOoXx1o\n",
       "YRyLu960M8AU8STAh1cGeGu311iY3oywad3YwhWhVWGReTYFtcomHsGISaOzmeAzlelsHKczaMIB\n",
       "chyW9H299URkform/qGTReo/9yAHoioSHodIFfMuLvsDW5csXyQUg1043NCMxiZVH58UPHxttAYn\n",
       "mCJ6VfjIPHsZ9CGNT4yYNDqb+Zk5Ix6wjlwV8qLzpIATxxqeX4m8GjxOPLssHopGonouqZFnuz74\n",
       "zD0siII3kic7688v9CPwDTsDuMhaCofmk3Om4uN05rLHPs43XQQVMneH+Y2GQd8Uw3/RvJg2Orvg\n",
       "L6YfdcYSJ6qQF12kwKhL2YMGiDZE9V1Vv/wQalJkawzOpQMkVFkPiQEWRAqpF0ihJ1/RV3V3oaEi\n",
       "MGuhaB0XqU7qPos2BR9fod1O6oXInGWp94rV3YG/GaaQgwThqKUOFVOrcToSbfrAuGgNNpaevChl\n",
       "GMqZh7ZJXtyOHjne5EWULhgg8qSMXVXXQwuEYzS3DHz3d3Q8hkDUXcWCCMiQ4u/ZOwwb9W2Zi3vq\n",
       "0iF9OwTjUeEiIdNnacaVse/k1euFMMRjlnq0COfuqEOGKewgtSUtdaiY4ok0GvlExhwMs8Vo8jiQ\n",
       "F2VERUFeDFExT4+cMPIi6soRA0QEH3fjz9dgAJpVmlugqhk6EgVmcSCiUxXgDU76Fl6EkJSC8CfM\n",
       "ZrjIOtNnWY4fm1r090+9nieKI1mWerTInBlz7vwDOT+EvkbWMBVC48wDYKlDxb6FX8wAbTQCUcS4\n",
       "2Ca++yk9eVFGVBTkxRAVGXrkxJEXzRewOlYj0A3KIBqB5vtp7r16GoOcC3TzEwciPGmcI3e2m2zM\n",
       "qkEw34JPtAz5QAda5CuARchn0Y7izM5GiDTq9bRXAfCcs8WoRD9okVntocabSNUh0PAuMmqqOQk7\n",
       "sqRON1NLF3sH8L6qbTqIWo221oidUHryooyoKMiLISoy9MiJIy+C9xwLIv8H0BILRGEFrDlFc/+K\n",
       "wzpkW303STcRcSBaEoXtlxrxnW2J+Q+CtvTH4E/hE/UwtCTVw+rLehHkvKD8vJGeRTGc0RbsP0UR\n",
       "0RKD7YtPp0kIHF3AlfCHUaQ69Rzcji98ONKzIGlUiazueRFvdEF1TFOMeCr2cXGjvQ+s6jD7Miw6\n",
       "vqUnL0qIiqK8GKIiQ4+cOPKivvWY3dkYE3PaHzu2cEZEAB9jau2LsCoMr+ZYjPFwvLJ6eR/IyIWR\n",
       "99sXZy6wVUidmLXdfZG5aUujwSOGBEpOXpQRFUV5MUTFPD1yAsmLBMociAJpa05AqgCi1iMxs2xV\n",
       "7mO24t36cX8ynzczlnpmCTP3NJrprk/mL7BVSB2b1mpR7ws2rfYJLOrSkxdlREVRXhRR0aRHjg95\n",
       "0T7RrccMiHw2udFBZCmbP2Gd2bidkKsXt60nnkpM+QqsV1XxnUzJyYsyoqIh79573WjKnREVTXrk\n",
       "RJIXCc2gQl4sBXlRRlQ05AkaPS2KqJinR1bIi+ORltiBqJTkRRlR0ZBfhOYUFElUNOmRE0pepK8X\n",
       "ygFEyxttprNECcmLMqKiIb+FgqgooqJJjxwn8qJ9Kp8fdAgLgaKSkxdlREVTDn8aRbkzoqJJj5xI\n",
       "8qKvfH5aRlyelZ68KCEqmnL1GBRLVOw16JETSV4Ml8+PXIk/t1dy8qKUqGjI16WheKKiTo+cSPJi\n",
       "Gf3cHjTwC9rxIy/KCGAJxc2OplGJii7Mjj15cTOUD4iqeHrK+JEXJXdz3cOb0i6Uj0pUdIPdsSYv\n",
       "BobLCESq8GPo40VelLEI38rl3CgfjajoxuyYkxfprqFy+bcMA/xphbzoJsnJi2X1bxnEfxCjZCvQ\n",
       "cJzk5MVA0/8Eolsm6z/N+2EFDGOffkXB0NU14ApElX+aV0lm0lbSY2fuyn8BSGbP+ZedwYIAAAAA\n",
       "SUVORK5CYII=\n",
       "\" style=\"display:inline;vertical-align:middle;\" /></a><br>(see <a class=\"ProveItLink\" href=\"../../../__pv_it/theorems/5699ea4f830169e9b9c8fcd529fb7fa9180de09d0/dependencies.ipynb\">dependencies</a>)<br>"
      ],
      "text/plain": [
       "<IPython.core.display.HTML object>"
      ]
     },
     "metadata": {},
     "output_type": "display_data"
    },
    {
     "name": "stdout",
     "output_type": "stream",
     "text": [
      "rightward_commutation may now be readily provable (assuming required theorems are usable).  Simply execute \"%qed\".\n"
     ]
    }
   ],
   "source": [
    "%proving rightward_commutation"
   ]
  },
  {
   "cell_type": "code",
   "execution_count": null,
   "metadata": {},
   "outputs": [],
   "source": []
  }
 ],
 "metadata": {
  "kernelspec": {
   "display_name": "Python 3",
   "language": "python",
   "name": "python3"
  }
 },
 "nbformat": 4,
 "nbformat_minor": 0
}