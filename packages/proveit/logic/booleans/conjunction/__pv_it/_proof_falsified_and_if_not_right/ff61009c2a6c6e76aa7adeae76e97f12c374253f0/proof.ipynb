{
 "cells": [
  {
   "cell_type": "markdown",
   "metadata": {},
   "source": [
    "Show the Proof\n",
    "========"
   ]
  },
  {
   "cell_type": "code",
   "execution_count": 1,
   "metadata": {},
   "outputs": [
    {
     "data": {
      "text/html": [
       "<table><tr><th>&nbsp;</th><th>step type</th><th>requirements</th><th>statement</th></tr>\n",
       "<tr><td><a name=\"proveit.logic.booleans.conjunction._proof_falsified_and_if_not_right.ff61009c2a6c6e76aa7adeae76e97f12c374253f0_step0\">0</a></td><td>instantiation</td><td><a href=\"#proveit.logic.booleans.conjunction._proof_falsified_and_if_not_right.ff61009c2a6c6e76aa7adeae76e97f12c374253f0_step1\">1</a>, <a href=\"#proveit.logic.booleans.conjunction._proof_falsified_and_if_not_right.ff61009c2a6c6e76aa7adeae76e97f12c374253f0_step2\">2</a></td><td><span style=\"font-size:20px;\"><a class=\"ProveItLink\" href=\"../../theorems/8552c6321b312c5e15a5015adce4a756ce05da420/expr.ipynb\"><img src=\"../../theorems/8552c6321b312c5e15a5015adce4a756ce05da420/expr.png\" style=\"display:inline;vertical-align:middle;\" /></a> <a class=\"ProveItLink\" href=\"proof.ipynb\" style=\"text-decoration: none\">&nbsp;&#x22A2;&nbsp;&nbsp;</a><a class=\"ProveItLink\" href=\"../../theorems/c50b73f2d168f6a3012768bd45c62ea92218bcbc0/expr.ipynb\"><img src=\"../../theorems/c50b73f2d168f6a3012768bd45c62ea92218bcbc0/expr.png\" style=\"display:inline;vertical-align:middle;\" /></a></span></td></tr>\n",
       "<tr><td>&nbsp;</td><td colspan=4 style=\"text-align:left\"><span style=\"font-size:20px;\"><a class=\"ProveItLink\" href=\"../../../../../../__pv_it/common/09585084922504426caf1db2ff588a23a0932a960/expr.ipynb\"><img src=\"../../../../../../__pv_it/common/09585084922504426caf1db2ff588a23a0932a960/expr.png\" style=\"display:inline;vertical-align:middle;\" /></a> : <a class=\"ProveItLink\" href=\"../../../../../../__pv_it/common/a9162d1c3cc0470c02e5daf414500903a7a419230/expr.ipynb\"><img src=\"../../../../../../__pv_it/common/a9162d1c3cc0470c02e5daf414500903a7a419230/expr.png\" style=\"display:inline;vertical-align:middle;\" /></a></span></td></tr><tr><td><a name=\"proveit.logic.booleans.conjunction._proof_falsified_and_if_not_right.ff61009c2a6c6e76aa7adeae76e97f12c374253f0_step1\">1</a></td><td>axiom</td><td></td><td><span style=\"font-size:20px;\"> <a class=\"ProveItLink\" href=\"../../../../negation/_theory_nbs_/axioms.ipynb#operand_is_bool\" style=\"text-decoration: none\">&nbsp;&#x22A2;&nbsp;&nbsp;</a><a class=\"ProveItLink\" href=\"../../../../negation/__pv_it/axioms/9b3df63ea9b96f801a3dadc45f3be22470f1b8ac0/expr.ipynb\"><img src=\"../../../../negation/__pv_it/axioms/9b3df63ea9b96f801a3dadc45f3be22470f1b8ac0/expr.png\" style=\"display:inline;vertical-align:middle;\" /></a></span></td></tr>\n",
       "<tr><td>&nbsp;</td><td colspan=4 style-\"text-align:left\"><a class=\"ProveItLink\" href=\"../../../../negation/_theory_nbs_/axioms.ipynb#operand_is_bool\">proveit.logic.booleans.negation.operand_is_bool</a></td></tr><tr><td><a name=\"proveit.logic.booleans.conjunction._proof_falsified_and_if_not_right.ff61009c2a6c6e76aa7adeae76e97f12c374253f0_step2\">2</a></td><td>instantiation</td><td><a href=\"#proveit.logic.booleans.conjunction._proof_falsified_and_if_not_right.ff61009c2a6c6e76aa7adeae76e97f12c374253f0_step3\">3</a>, <a href=\"#proveit.logic.booleans.conjunction._proof_falsified_and_if_not_right.ff61009c2a6c6e76aa7adeae76e97f12c374253f0_step4\">4</a></td><td><span style=\"font-size:20px;\"><a class=\"ProveItLink\" href=\"../../theorems/8552c6321b312c5e15a5015adce4a756ce05da420/expr.ipynb\"><img src=\"../../theorems/8552c6321b312c5e15a5015adce4a756ce05da420/expr.png\" style=\"display:inline;vertical-align:middle;\" /></a> <a class=\"ProveItLink\" href=\"../f9bfe0024b1f3193e3b4723cfc9eb7233e1736670/proof.ipynb\" style=\"text-decoration: none\">&nbsp;&#x22A2;&nbsp;&nbsp;</a><a class=\"ProveItLink\" href=\"../de85022210bda17e5c048dd8f46729a2e00fb11c0/expr.ipynb\"><img src=\"../de85022210bda17e5c048dd8f46729a2e00fb11c0/expr.png\" style=\"display:inline;vertical-align:middle;\" /></a></span></td></tr>\n",
       "<tr><td>&nbsp;</td><td colspan=4 style=\"text-align:left\"><span style=\"font-size:20px;\"><a class=\"ProveItLink\" href=\"../../../../../../__pv_it/common/09585084922504426caf1db2ff588a23a0932a960/expr.ipynb\"><img src=\"../../../../../../__pv_it/common/09585084922504426caf1db2ff588a23a0932a960/expr.png\" style=\"display:inline;vertical-align:middle;\" /></a> : <a class=\"ProveItLink\" href=\"../../theorems/8552c6321b312c5e15a5015adce4a756ce05da420/expr.ipynb\"><img src=\"../../theorems/8552c6321b312c5e15a5015adce4a756ce05da420/expr.png\" style=\"display:inline;vertical-align:middle;\" /></a></span></td></tr><tr><td><a name=\"proveit.logic.booleans.conjunction._proof_falsified_and_if_not_right.ff61009c2a6c6e76aa7adeae76e97f12c374253f0_step3\">3</a></td><td>theorem</td><td></td><td><span style=\"font-size:20px;\"> <a class=\"ProveItLink\" href=\"../../../../_theory_nbs_/proofs/in_bool_if_true/thm_proof.ipynb\" style=\"text-decoration: none\">&nbsp;&#x22A2;&nbsp;&nbsp;</a><a class=\"ProveItLink\" href=\"../../../../__pv_it/theorems/858f6fea2a9d198e3a6e9cbe3c54c9eff7cff4060/expr.ipynb\"><img src=\"../../../../__pv_it/theorems/858f6fea2a9d198e3a6e9cbe3c54c9eff7cff4060/expr.png\" style=\"display:inline;vertical-align:middle;\" /></a></span></td></tr>\n",
       "<tr><td>&nbsp;</td><td colspan=4 style-\"text-align:left\"><a class=\"ProveItLink\" href=\"../../../../_theory_nbs_/proofs/in_bool_if_true/thm_proof.ipynb\">proveit.logic.booleans.in_bool_if_true</a></td></tr><tr><td><a name=\"proveit.logic.booleans.conjunction._proof_falsified_and_if_not_right.ff61009c2a6c6e76aa7adeae76e97f12c374253f0_step4\">4</a></td><td>assumption</td><td></td><td><span style=\"font-size:20px;\"><a class=\"ProveItLink\" href=\"../../theorems/8552c6321b312c5e15a5015adce4a756ce05da420/expr.ipynb\"><img src=\"../../theorems/8552c6321b312c5e15a5015adce4a756ce05da420/expr.png\" style=\"display:inline;vertical-align:middle;\" /></a> <a class=\"ProveItLink\" href=\"../bd32d0676eab8f44f89518d14e8130e3c90f16690/proof.ipynb\" style=\"text-decoration: none\">&nbsp;&#x22A2;&nbsp;&nbsp;</a><a class=\"ProveItLink\" href=\"../../theorems/8552c6321b312c5e15a5015adce4a756ce05da420/expr.ipynb\"><img src=\"../../theorems/8552c6321b312c5e15a5015adce4a756ce05da420/expr.png\" style=\"display:inline;vertical-align:middle;\" /></a></span></td></tr>\n",
       "</table>"
      ],
      "text/plain": [
       "<proveit._core_.proof._ShowProof at 0x7f3e613569e8>"
      ]
     },
     "execution_count": 1,
     "metadata": {},
     "output_type": "execute_result"
    }
   ],
   "source": [
    "import proveit\n",
    "# Automation is not needed when only showing a stored proof:\n",
    "proveit.defaults.automation = False # This will speed things up.\n",
    "proveit.defaults.inline_pngs = False # Makes files smaller.\n",
    "%show_proof"
   ]
  },
  {
   "cell_type": "code",
   "execution_count": null,
   "metadata": {},
   "outputs": [],
   "source": []
  }
 ],
 "metadata": {
  "kernelspec": {
   "display_name": "Python 3",
   "language": "python",
   "name": "python3"
  }
 },
 "nbformat": 4,
 "nbformat_minor": 0
}