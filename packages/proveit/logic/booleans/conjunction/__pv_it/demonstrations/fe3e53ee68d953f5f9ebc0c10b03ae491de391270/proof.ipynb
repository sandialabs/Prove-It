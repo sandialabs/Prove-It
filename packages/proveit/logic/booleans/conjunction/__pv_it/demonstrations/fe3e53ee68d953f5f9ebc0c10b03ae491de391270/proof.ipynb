{
 "cells": [
  {
   "cell_type": "markdown",
   "metadata": {},
   "source": [
    "Show the Proof\n",
    "========"
   ]
  },
  {
   "cell_type": "code",
   "execution_count": 1,
   "metadata": {},
   "outputs": [
    {
     "data": {
      "text/html": [
       "<table><tr><th>&nbsp;</th><th>step type</th><th>requirements</th><th>statement</th></tr>\n",
       "<tr><td><a name=\"proveit.logic.booleans.conjunction.demonstrations.fe3e53ee68d953f5f9ebc0c10b03ae491de391270_step0\">0</a></td><td>instantiation</td><td><a href=\"#proveit.logic.booleans.conjunction.demonstrations.fe3e53ee68d953f5f9ebc0c10b03ae491de391270_step1\">1</a>, <a href=\"#proveit.logic.booleans.conjunction.demonstrations.fe3e53ee68d953f5f9ebc0c10b03ae491de391270_step2\">2</a></td><td><span style=\"font-size:20px;\"> <a class=\"ProveItLink\" href=\"proof.ipynb\" style=\"text-decoration: none\">&nbsp;&#x22A2;&nbsp;&nbsp;</a><a class=\"ProveItLink\" href=\"../98a03d74146652772d427f075b73c04a05d9aae00/expr.ipynb\"><img src=\"../98a03d74146652772d427f075b73c04a05d9aae00/expr.png\" style=\"display:inline;vertical-align:middle;\" /></a></span></td></tr>\n",
       "<tr><td>&nbsp;</td><td colspan=4 style=\"text-align:left\"><span style=\"font-size:20px;\"><a class=\"ProveItLink\" href=\"../240163a5cdd87b01485b8a5a6a0c76635a8fddb60/expr.ipynb\"><img src=\"../240163a5cdd87b01485b8a5a6a0c76635a8fddb60/expr.png\" style=\"display:inline;vertical-align:middle;\" /></a> : <a class=\"ProveItLink\" href=\"../74ae96cc0f8b4103474965e6dfcea834f493ecc60/expr.ipynb\"><img src=\"../74ae96cc0f8b4103474965e6dfcea834f493ecc60/expr.png\" style=\"display:inline;vertical-align:middle;\" /></a>, <a class=\"ProveItLink\" href=\"../../../../../../__pv_it/common/a0d9d672aa5e272d907247690c152cc2c6daafb70/expr.ipynb\"><img src=\"../../../../../../__pv_it/common/a0d9d672aa5e272d907247690c152cc2c6daafb70/expr.png\" style=\"display:inline;vertical-align:middle;\" /></a> : <a class=\"ProveItLink\" href=\"../../../../disjunction/__pv_it/axioms/5be08831a8e37b44b705904bb8ca6529c1f0a5d10/expr.ipynb\"><img src=\"../../../../disjunction/__pv_it/axioms/5be08831a8e37b44b705904bb8ca6529c1f0a5d10/expr.png\" style=\"display:inline;vertical-align:middle;\" /></a>, <a class=\"ProveItLink\" href=\"../../../../../../__pv_it/common/ff7dba4ef0bbe791ab573bf2d9c220a304399ac80/expr.ipynb\"><img src=\"../../../../../../__pv_it/common/ff7dba4ef0bbe791ab573bf2d9c220a304399ac80/expr.png\" style=\"display:inline;vertical-align:middle;\" /></a> : <a class=\"ProveItLink\" href=\"../../../../__pv_it/common/95025295868b9266d37330b4427adf122f6061770/expr.ipynb\"><img src=\"../../../../__pv_it/common/95025295868b9266d37330b4427adf122f6061770/expr.png\" style=\"display:inline;vertical-align:middle;\" /></a></span></td></tr><tr><td><a name=\"proveit.logic.booleans.conjunction.demonstrations.fe3e53ee68d953f5f9ebc0c10b03ae491de391270_step1\">1</a></td><td>axiom</td><td></td><td><span style=\"font-size:20px;\"> <a class=\"ProveItLink\" href=\"../../../../../equality/_theory_nbs_/axioms.ipynb#substitution\" style=\"text-decoration: none\">&nbsp;&#x22A2;&nbsp;&nbsp;</a><a class=\"ProveItLink\" href=\"../../../../../equality/__pv_it/axioms/b3647e5bced6c805148d96be1aa0946871a946d20/expr.ipynb\"><img src=\"../../../../../equality/__pv_it/axioms/b3647e5bced6c805148d96be1aa0946871a946d20/expr.png\" style=\"display:inline;vertical-align:middle;\" /></a></span></td></tr>\n",
       "<tr><td>&nbsp;</td><td colspan=4 style-\"text-align:left\"><a class=\"ProveItLink\" href=\"../../../../../equality/_theory_nbs_/axioms.ipynb#substitution\">proveit.logic.equality.substitution</a></td></tr><tr><td><a name=\"proveit.logic.booleans.conjunction.demonstrations.fe3e53ee68d953f5f9ebc0c10b03ae491de391270_step2\">2</a></td><td>axiom</td><td></td><td><span style=\"font-size:20px;\"> <a class=\"ProveItLink\" href=\"../../../../disjunction/_theory_nbs_/axioms.ipynb#or_t_f\" style=\"text-decoration: none\">&nbsp;&#x22A2;&nbsp;&nbsp;</a><a class=\"ProveItLink\" href=\"../../../../disjunction/__pv_it/axioms/60330ee6db5efb06d1adf8b0bcef3a1d453390260/expr.ipynb\"><img src=\"../../../../disjunction/__pv_it/axioms/60330ee6db5efb06d1adf8b0bcef3a1d453390260/expr.png\" style=\"display:inline;vertical-align:middle;\" /></a></span></td></tr>\n",
       "<tr><td>&nbsp;</td><td colspan=4 style-\"text-align:left\"><a class=\"ProveItLink\" href=\"../../../../disjunction/_theory_nbs_/axioms.ipynb#or_t_f\">proveit.logic.booleans.disjunction.or_t_f</a></td></tr></table>"
      ],
      "text/plain": [
       "<proveit._core_.proof._ShowProof at 0x7f2154fff9e8>"
      ]
     },
     "execution_count": 1,
     "metadata": {},
     "output_type": "execute_result"
    }
   ],
   "source": [
    "import proveit\n",
    "# Automation is not needed when only showing a stored proof:\n",
    "proveit.defaults.automation = False # This will speed things up.\n",
    "proveit.defaults.inline_pngs = False # Makes files smaller.\n",
    "%show_proof"
   ]
  },
  {
   "cell_type": "code",
   "execution_count": null,
   "metadata": {},
   "outputs": [],
   "source": []
  }
 ],
 "metadata": {
  "kernelspec": {
   "display_name": "Python 3",
   "language": "python",
   "name": "python3"
  }
 },
 "nbformat": 4,
 "nbformat_minor": 0
}