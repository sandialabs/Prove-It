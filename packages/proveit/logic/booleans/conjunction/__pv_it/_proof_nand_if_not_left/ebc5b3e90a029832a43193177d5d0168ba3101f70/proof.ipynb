{
 "cells": [
  {
   "cell_type": "markdown",
   "metadata": {},
   "source": [
    "Show the Proof\n",
    "========"
   ]
  },
  {
   "cell_type": "code",
   "execution_count": 1,
   "metadata": {},
   "outputs": [
    {
     "data": {
      "text/html": [
       "<table><tr><th>&nbsp;</th><th>step type</th><th>requirements</th><th>statement</th></tr>\n",
       "<tr><td><a name=\"proveit.logic.booleans.conjunction._proof_nand_if_not_left.ebc5b3e90a029832a43193177d5d0168ba3101f70_step0\">0</a></td><td>instantiation</td><td><a href=\"#proveit.logic.booleans.conjunction._proof_nand_if_not_left.ebc5b3e90a029832a43193177d5d0168ba3101f70_step1\">1</a>, <a href=\"#proveit.logic.booleans.conjunction._proof_nand_if_not_left.ebc5b3e90a029832a43193177d5d0168ba3101f70_step2\">2</a>, <a href=\"#proveit.logic.booleans.conjunction._proof_nand_if_not_left.ebc5b3e90a029832a43193177d5d0168ba3101f70_step3\">3</a></td><td><span style=\"font-size:20px;\"> <a class=\"ProveItLink\" href=\"proof.ipynb\" style=\"text-decoration: none\">&nbsp;&#x22A2;&nbsp;&nbsp;</a><a class=\"ProveItLink\" href=\"../88e6d2e82cb0b02b33909b784988463cb9c2695c0/expr.ipynb\"><img src=\"../88e6d2e82cb0b02b33909b784988463cb9c2695c0/expr.png\" style=\"display:inline;vertical-align:middle;\" /></a></span></td></tr>\n",
       "<tr><td>&nbsp;</td><td colspan=4 style=\"text-align:left\"><span style=\"font-size:20px;\"><a class=\"ProveItLink\" href=\"../f90c4097c7f2032632deca0ffe172c46d56dd9290/expr.ipynb\"><img src=\"../f90c4097c7f2032632deca0ffe172c46d56dd9290/expr.png\" style=\"display:inline;vertical-align:middle;\" /></a> : <a class=\"ProveItLink\" href=\"../ebfa5d12eeb103889e8eb399bfe4ef57721e44d00/expr.ipynb\"><img src=\"../ebfa5d12eeb103889e8eb399bfe4ef57721e44d00/expr.png\" style=\"display:inline;vertical-align:middle;\" /></a>, <a class=\"ProveItLink\" href=\"../6dd27d6a42e5ef49f01833152e391f6a902003ce0/expr.ipynb\"><img src=\"../6dd27d6a42e5ef49f01833152e391f6a902003ce0/expr.png\" style=\"display:inline;vertical-align:middle;\" /></a> : <a class=\"ProveItLink\" href=\"../../../../negation/__pv_it/axioms/446a01d9a7ebef169028057d3b157d31652390170/expr.ipynb\"><img src=\"../../../../negation/__pv_it/axioms/446a01d9a7ebef169028057d3b157d31652390170/expr.png\" style=\"display:inline;vertical-align:middle;\" /></a>, <a class=\"ProveItLink\" href=\"../../../../../../__pv_it/common/09585084922504426caf1db2ff588a23a0932a960/expr.ipynb\"><img src=\"../../../../../../__pv_it/common/09585084922504426caf1db2ff588a23a0932a960/expr.png\" style=\"display:inline;vertical-align:middle;\" /></a> : <a class=\"ProveItLink\" href=\"../../../../../../__pv_it/common/a9162d1c3cc0470c02e5daf414500903a7a419230/expr.ipynb\"><img src=\"../../../../../../__pv_it/common/a9162d1c3cc0470c02e5daf414500903a7a419230/expr.png\" style=\"display:inline;vertical-align:middle;\" /></a></span></td></tr><tr><td><a name=\"proveit.logic.booleans.conjunction._proof_nand_if_not_left.ebc5b3e90a029832a43193177d5d0168ba3101f70_step1\">1</a></td><td>theorem</td><td></td><td><span style=\"font-size:20px;\"> <a class=\"ProveItLink\" href=\"../../../../_theory_nbs_/proofs/conditioned_forall_over_bool_by_cases/thm_proof.ipynb\" style=\"text-decoration: none\">&nbsp;&#x22A2;&nbsp;&nbsp;</a><a class=\"ProveItLink\" href=\"../../../../__pv_it/theorems/04bd85b23a57ae8e49fc576fe74347ba356f43c80/expr.ipynb\"><img src=\"../../../../__pv_it/theorems/04bd85b23a57ae8e49fc576fe74347ba356f43c80/expr.png\" style=\"display:inline;vertical-align:middle;\" /></a></span></td></tr>\n",
       "<tr><td>&nbsp;</td><td colspan=4 style-\"text-align:left\"><a class=\"ProveItLink\" href=\"../../../../_theory_nbs_/proofs/conditioned_forall_over_bool_by_cases/thm_proof.ipynb\">proveit.logic.booleans.conditioned_forall_over_bool_by_cases</a></td></tr><tr><td><a name=\"proveit.logic.booleans.conjunction._proof_nand_if_not_left.ebc5b3e90a029832a43193177d5d0168ba3101f70_step2\">2</a></td><td>deduction</td><td><a href=\"#proveit.logic.booleans.conjunction._proof_nand_if_not_left.ebc5b3e90a029832a43193177d5d0168ba3101f70_step4\">4</a></td><td><span style=\"font-size:20px;\"> <a class=\"ProveItLink\" href=\"../2649aa2b356eabcc4dce05439f7150592d33a6330/proof.ipynb\" style=\"text-decoration: none\">&nbsp;&#x22A2;&nbsp;&nbsp;</a><a class=\"ProveItLink\" href=\"../779bab46df63060b05da2f523baa12d8d0b1d3e60/expr.ipynb\"><img src=\"../779bab46df63060b05da2f523baa12d8d0b1d3e60/expr.png\" style=\"display:inline;vertical-align:middle;\" /></a></span></td></tr>\n",
       "<tr><td><a name=\"proveit.logic.booleans.conjunction._proof_nand_if_not_left.ebc5b3e90a029832a43193177d5d0168ba3101f70_step3\">3</a></td><td>deduction</td><td><a href=\"#proveit.logic.booleans.conjunction._proof_nand_if_not_left.ebc5b3e90a029832a43193177d5d0168ba3101f70_step5\">5</a></td><td><span style=\"font-size:20px;\"> <a class=\"ProveItLink\" href=\"../7e911c28c1c61aa1ec5b990ddc2f8e3f1d2886420/proof.ipynb\" style=\"text-decoration: none\">&nbsp;&#x22A2;&nbsp;&nbsp;</a><a class=\"ProveItLink\" href=\"../18b165c905ed89b80083cd13db1f8e6c31c5b5bf0/expr.ipynb\"><img src=\"../18b165c905ed89b80083cd13db1f8e6c31c5b5bf0/expr.png\" style=\"display:inline;vertical-align:middle;\" /></a></span></td></tr>\n",
       "<tr><td><a name=\"proveit.logic.booleans.conjunction._proof_nand_if_not_left.ebc5b3e90a029832a43193177d5d0168ba3101f70_step4\">4</a></td><td>theorem</td><td></td><td><span style=\"font-size:20px;\"> <a class=\"ProveItLink\" href=\"../../../_theory_nbs_/proofs/false_and_true_negated/thm_proof.ipynb\" style=\"text-decoration: none\">&nbsp;&#x22A2;&nbsp;&nbsp;</a><a class=\"ProveItLink\" href=\"../../theorems/973fcbcb85c3320062ba08caf138d1c98bcf329a0/expr.ipynb\"><img src=\"../../theorems/973fcbcb85c3320062ba08caf138d1c98bcf329a0/expr.png\" style=\"display:inline;vertical-align:middle;\" /></a></span></td></tr>\n",
       "<tr><td>&nbsp;</td><td colspan=4 style-\"text-align:left\"><a class=\"ProveItLink\" href=\"../../../_theory_nbs_/proofs/false_and_true_negated/thm_proof.ipynb\">proveit.logic.booleans.conjunction.false_and_true_negated</a></td></tr><tr><td><a name=\"proveit.logic.booleans.conjunction._proof_nand_if_not_left.ebc5b3e90a029832a43193177d5d0168ba3101f70_step5\">5</a></td><td>theorem</td><td></td><td><span style=\"font-size:20px;\"> <a class=\"ProveItLink\" href=\"../../../_theory_nbs_/proofs/false_and_false_negated/thm_proof.ipynb\" style=\"text-decoration: none\">&nbsp;&#x22A2;&nbsp;&nbsp;</a><a class=\"ProveItLink\" href=\"../../theorems/3f580260baf60f1bbe721c3c14c6323ee245a8e40/expr.ipynb\"><img src=\"../../theorems/3f580260baf60f1bbe721c3c14c6323ee245a8e40/expr.png\" style=\"display:inline;vertical-align:middle;\" /></a></span></td></tr>\n",
       "<tr><td>&nbsp;</td><td colspan=4 style-\"text-align:left\"><a class=\"ProveItLink\" href=\"../../../_theory_nbs_/proofs/false_and_false_negated/thm_proof.ipynb\">proveit.logic.booleans.conjunction.false_and_false_negated</a></td></tr></table>"
      ],
      "text/plain": [
       "<proveit._core_.proof._ShowProof at 0x7f6e9024a320>"
      ]
     },
     "execution_count": 1,
     "metadata": {},
     "output_type": "execute_result"
    }
   ],
   "source": [
    "import proveit\n",
    "# Automation is not needed when only showing a stored proof:\n",
    "proveit.defaults.automation = False # This will speed things up.\n",
    "proveit.defaults.inline_pngs = False # Makes files smaller.\n",
    "%show_proof"
   ]
  },
  {
   "cell_type": "code",
   "execution_count": null,
   "metadata": {},
   "outputs": [],
   "source": []
  }
 ],
 "metadata": {
  "kernelspec": {
   "display_name": "Python 3",
   "language": "python",
   "name": "python3"
  }
 },
 "nbformat": 4,
 "nbformat_minor": 0
}