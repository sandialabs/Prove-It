{
 "cells": [
  {
   "cell_type": "markdown",
   "metadata": {},
   "source": [
    "Expression of type <a class=\"ProveItLink\" href=\"../../../../../../../../doc/html/api/proveit.ExprTuple.html\">ExprTuple</a>\n",
    "=======================\n",
    "# from the theory of <a class=\"ProveItLink\" href=\"../../../_theory_nbs_/theory.ipynb\">proveit.logic.booleans.conjunction</a>"
   ]
  },
  {
   "cell_type": "code",
   "execution_count": 1,
   "metadata": {},
   "outputs": [],
   "source": [
    "import proveit\n",
    "# Automation is not needed when building an expression:\n",
    "proveit.defaults.automation = False # This will speed things up.\n",
    "proveit.defaults.inline_pngs = False # Makes files smaller.\n",
    "%load_expr # Load the stored expression as 'stored_expr'\n",
    "# import Expression classes needed to build the expression\n",
    "from proveit import A, Conditional, ExprTuple, Lambda\n",
    "from proveit.logic import And, Boolean, Equals, InSet, TRUE"
   ]
  },
  {
   "cell_type": "code",
   "execution_count": 2,
   "metadata": {},
   "outputs": [
    {
     "data": {
      "text/html": [
       "<strong id=\"expr\">expr:</strong> <a class=\"ProveItLink\" href=\"expr.ipynb\"><img src=\"expr.png\" style=\"display:inline;vertical-align:middle;\" /></a><br>"
      ],
      "text/plain": [
       "<IPython.core.display.HTML object>"
      ]
     },
     "metadata": {},
     "output_type": "display_data"
    }
   ],
   "source": [
    "# build up the expression from sub-expressions\n",
    "expr = ExprTuple(Lambda(A, Conditional(Equals(And(A), And(TRUE, A)), InSet(A, Boolean))))"
   ]
  },
  {
   "cell_type": "code",
   "execution_count": 3,
   "metadata": {},
   "outputs": [
    {
     "name": "stdout",
     "output_type": "stream",
     "text": [
      "Passed sanity check: expr matches stored_expr\n"
     ]
    }
   ],
   "source": [
    "# check that the built expression is the same as the stored expression\n",
    "assert expr == stored_expr\n",
    "assert expr._style_id == stored_expr._style_id\n",
    "print(\"Passed sanity check: expr matches stored_expr\")"
   ]
  },
  {
   "cell_type": "code",
   "execution_count": 4,
   "metadata": {},
   "outputs": [
    {
     "name": "stdout",
     "output_type": "stream",
     "text": [
      "\\left(A \\mapsto \\left\\{\\left[\\land\\right]\\left(A\\right) = \\left(\\top \\land A\\right) \\textrm{ if } A \\in \\mathbb{B}\\right..\\right)\n"
     ]
    }
   ],
   "source": [
    "# Show the LaTeX representation of the expression for convenience if you need it.\n",
    "print(stored_expr.latex())"
   ]
  },
  {
   "cell_type": "code",
   "execution_count": 5,
   "metadata": {},
   "outputs": [
    {
     "data": {
      "text/html": [
       "no style options"
      ],
      "text/plain": [
       "no style options"
      ]
     },
     "metadata": {},
     "output_type": "display_data"
    }
   ],
   "source": [
    "stored_expr.style_options()"
   ]
  },
  {
   "cell_type": "code",
   "execution_count": 6,
   "metadata": {},
   "outputs": [
    {
     "data": {
      "text/html": [
       "<table><tr><th>&nbsp;</th><th>core type</th><th>sub-expressions</th><th>expression</th></tr>\n",
       "<tr><td>0</td><td>ExprTuple</td><td>1</td><td><a class=\"ProveItLink\" href=\"expr.ipynb\"><img src=\"expr.png\" style=\"display:inline;vertical-align:middle;\" /></a></td></tr>\n",
       "<tr><td>1</td><td>Lambda</td><td>parameter:&nbsp;16<br>body:&nbsp;2<br></td><td><a class=\"ProveItLink\" href=\"../f5268f7fbbf25c7faba960888b344b252af163b90/expr.ipynb\"><img src=\"../f5268f7fbbf25c7faba960888b344b252af163b90/expr.png\" style=\"display:inline;vertical-align:middle;\" /></a></td></tr>\n",
       "<tr><td>2</td><td>Conditional</td><td>value:&nbsp;3<br>condition:&nbsp;4<br></td><td><a class=\"ProveItLink\" href=\"../14fa3d497570abea2c40f4d6a90cca2ed7aeafbe0/expr.ipynb\"><img src=\"../14fa3d497570abea2c40f4d6a90cca2ed7aeafbe0/expr.png\" style=\"display:inline;vertical-align:middle;\" /></a></td></tr>\n",
       "<tr><td>3</td><td>Operation</td><td>operator:&nbsp;5<br>operands:&nbsp;6<br></td><td><a class=\"ProveItLink\" href=\"../ebd5bbea896196442a242cad9520161064dc173a0/expr.ipynb\"><img src=\"../ebd5bbea896196442a242cad9520161064dc173a0/expr.png\" style=\"display:inline;vertical-align:middle;\" /></a></td></tr>\n",
       "<tr><td>4</td><td>Operation</td><td>operator:&nbsp;7<br>operands:&nbsp;8<br></td><td><a class=\"ProveItLink\" href=\"../9b36d7235130a6b592c97bb06e5078015c4aa29f0/expr.ipynb\"><img src=\"../9b36d7235130a6b592c97bb06e5078015c4aa29f0/expr.png\" style=\"display:inline;vertical-align:middle;\" /></a></td></tr>\n",
       "<tr><td>5</td><td>Literal</td><td></td><td><a class=\"ProveItLink\" href=\"../../../../../equality/__pv_it/common/fb96dc12b2aa8801dda64d0132b396c63d1502bb0/expr.ipynb\"><img src=\"../../../../../equality/__pv_it/common/fb96dc12b2aa8801dda64d0132b396c63d1502bb0/expr.png\" style=\"display:inline;vertical-align:middle;\" /></a></td></tr>\n",
       "<tr><td>6</td><td>ExprTuple</td><td>9, 10</td><td><a class=\"ProveItLink\" href=\"../7157f7b14c66b2e9c8a0e229158abbae19d33a870/expr.ipynb\"><img src=\"../7157f7b14c66b2e9c8a0e229158abbae19d33a870/expr.png\" style=\"display:inline;vertical-align:middle;\" /></a></td></tr>\n",
       "<tr><td>7</td><td>Literal</td><td></td><td><a class=\"ProveItLink\" href=\"../../../../../sets/membership/__pv_it/common/477487d8796864d23d5810f83761435f25167f690/expr.ipynb\"><img src=\"../../../../../sets/membership/__pv_it/common/477487d8796864d23d5810f83761435f25167f690/expr.png\" style=\"display:inline;vertical-align:middle;\" /></a></td></tr>\n",
       "<tr><td>8</td><td>ExprTuple</td><td>16, 11</td><td><a class=\"ProveItLink\" href=\"../a127b67d6fcf2b758c6caef10ddcbab4c31e02f40/expr.ipynb\"><img src=\"../a127b67d6fcf2b758c6caef10ddcbab4c31e02f40/expr.png\" style=\"display:inline;vertical-align:middle;\" /></a></td></tr>\n",
       "<tr><td>9</td><td>Operation</td><td>operator:&nbsp;13<br>operand:&nbsp;16<br></td><td><a class=\"ProveItLink\" href=\"../e91e9e56e480b1490e5f3beff903271abbc81f820/expr.ipynb\"><img src=\"../e91e9e56e480b1490e5f3beff903271abbc81f820/expr.png\" style=\"display:inline;vertical-align:middle;\" /></a></td></tr>\n",
       "<tr><td>10</td><td>Operation</td><td>operator:&nbsp;13<br>operands:&nbsp;14<br></td><td><a class=\"ProveItLink\" href=\"../58f8fcde7d4f3b057e4c9815e0472213bc3820590/expr.ipynb\"><img src=\"../58f8fcde7d4f3b057e4c9815e0472213bc3820590/expr.png\" style=\"display:inline;vertical-align:middle;\" /></a></td></tr>\n",
       "<tr><td>11</td><td>Literal</td><td></td><td><a class=\"ProveItLink\" href=\"../../../../__pv_it/common/97424376de9815ad99f7180e3191b1cf4ab2a5710/expr.ipynb\"><img src=\"../../../../__pv_it/common/97424376de9815ad99f7180e3191b1cf4ab2a5710/expr.png\" style=\"display:inline;vertical-align:middle;\" /></a></td></tr>\n",
       "<tr><td>12</td><td>ExprTuple</td><td>16</td><td><a class=\"ProveItLink\" href=\"../0dc6c42a8c40e6a1c0a1b3cc41b6e5aa01a661750/expr.ipynb\"><img src=\"../0dc6c42a8c40e6a1c0a1b3cc41b6e5aa01a661750/expr.png\" style=\"display:inline;vertical-align:middle;\" /></a></td></tr>\n",
       "<tr><td>13</td><td>Literal</td><td></td><td><a class=\"ProveItLink\" href=\"../../common/42118ff318bd65d98b1393f64ce7c2269feef76e0/expr.ipynb\"><img src=\"../../common/42118ff318bd65d98b1393f64ce7c2269feef76e0/expr.png\" style=\"display:inline;vertical-align:middle;\" /></a></td></tr>\n",
       "<tr><td>14</td><td>ExprTuple</td><td>15, 16</td><td><a class=\"ProveItLink\" href=\"../b753e3fb0c4cd6047ed1e24827b9ffe8f81dc8080/expr.ipynb\"><img src=\"../b753e3fb0c4cd6047ed1e24827b9ffe8f81dc8080/expr.png\" style=\"display:inline;vertical-align:middle;\" /></a></td></tr>\n",
       "<tr><td>15</td><td>Literal</td><td></td><td><a class=\"ProveItLink\" href=\"../../../../__pv_it/common/95025295868b9266d37330b4427adf122f6061770/expr.ipynb\"><img src=\"../../../../__pv_it/common/95025295868b9266d37330b4427adf122f6061770/expr.png\" style=\"display:inline;vertical-align:middle;\" /></a></td></tr>\n",
       "<tr><td>16</td><td>Variable</td><td></td><td><a class=\"ProveItLink\" href=\"../../../../../../__pv_it/common/09585084922504426caf1db2ff588a23a0932a960/expr.ipynb\"><img src=\"../../../../../../__pv_it/common/09585084922504426caf1db2ff588a23a0932a960/expr.png\" style=\"display:inline;vertical-align:middle;\" /></a></td></tr>\n",
       "</table>\n"
      ],
      "text/plain": [
       "0. (A -> {[and](A) = (TRUE and A) if A in BOOLEAN.)\n",
       "   core type: ExprTuple\n",
       "   sub-expressions: 1\n",
       "1. A -> {[and](A) = (TRUE and A) if A in BOOLEAN.\n",
       "   core type: Lambda\n",
       "   parameter: 16\n",
       "   body: 2\n",
       "2. {[and](A) = (TRUE and A) if A in BOOLEAN.\n",
       "   core type: Conditional\n",
       "   value: 3\n",
       "   condition: 4\n",
       "3. [and](A) = (TRUE and A)\n",
       "   core type: Operation\n",
       "   operator: 5\n",
       "   operands: 6\n",
       "4. A in BOOLEAN\n",
       "   core type: Operation\n",
       "   operator: 7\n",
       "   operands: 8\n",
       "5. =\n",
       "   core type: Literal\n",
       "   sub-expressions: \n",
       "6. ([and](A), TRUE and A)\n",
       "   core type: ExprTuple\n",
       "   sub-expressions: 9, 10\n",
       "7. in\n",
       "   core type: Literal\n",
       "   sub-expressions: \n",
       "8. (A, BOOLEAN)\n",
       "   core type: ExprTuple\n",
       "   sub-expressions: 16, 11\n",
       "9. [and](A)\n",
       "   core type: Operation\n",
       "   operator: 13\n",
       "   operand: 16\n",
       "10. TRUE and A\n",
       "    core type: Operation\n",
       "    operator: 13\n",
       "    operands: 14\n",
       "11. BOOLEAN\n",
       "    core type: Literal\n",
       "    sub-expressions: \n",
       "12. (A)\n",
       "    core type: ExprTuple\n",
       "    sub-expressions: 16\n",
       "13. and\n",
       "    core type: Literal\n",
       "    sub-expressions: \n",
       "14. (TRUE, A)\n",
       "    core type: ExprTuple\n",
       "    sub-expressions: 15, 16\n",
       "15. TRUE\n",
       "    core type: Literal\n",
       "    sub-expressions: \n",
       "16. A\n",
       "    core type: Variable\n",
       "    sub-expressions: "
      ]
     },
     "metadata": {},
     "output_type": "display_data"
    }
   ],
   "source": [
    "# display the expression information\n",
    "stored_expr.expr_info()"
   ]
  },
  {
   "cell_type": "code",
   "execution_count": null,
   "metadata": {},
   "outputs": [],
   "source": []
  }
 ],
 "metadata": {
  "kernelspec": {
   "display_name": "Python 3",
   "language": "python",
   "name": "python3"
  }
 },
 "nbformat": 4,
 "nbformat_minor": 0
}