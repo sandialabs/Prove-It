{
 "cells": [
  {
   "cell_type": "markdown",
   "metadata": {},
   "source": [
    "Expression of type <a class=\"ProveItLink\" href=\"../../../../../../../../doc/html/api/proveit.logic.Forall.html\">Forall</a>\n",
    "=======================\n",
    "# from the theory of <a class=\"ProveItLink\" href=\"../../../_theory_nbs_/theory.ipynb\">proveit.logic.booleans.conjunction</a>"
   ]
  },
  {
   "cell_type": "code",
   "execution_count": 1,
   "metadata": {},
   "outputs": [],
   "source": [
    "import proveit\n",
    "# Automation is not needed when building an expression:\n",
    "proveit.defaults.automation = False # This will speed things up.\n",
    "proveit.defaults.inline_pngs = False # Makes files smaller.\n",
    "%load_expr # Load the stored expression as 'stored_expr'\n",
    "# import Expression classes needed to build the expression\n",
    "from proveit import m\n",
    "from proveit.core_expr_types import A_1_to_m\n",
    "from proveit.logic import And, Forall\n",
    "from proveit.numbers import Natural"
   ]
  },
  {
   "cell_type": "code",
   "execution_count": 2,
   "metadata": {},
   "outputs": [
    {
     "data": {
      "text/html": [
       "<strong id=\"expr\">expr:</strong> <a class=\"ProveItLink\" href=\"expr.ipynb\"><img src=\"expr.png\" style=\"display:inline;vertical-align:middle;\" /></a><br>"
      ],
      "text/plain": [
       "<IPython.core.display.HTML object>"
      ]
     },
     "metadata": {},
     "output_type": "display_data"
    }
   ],
   "source": [
    "# build up the expression from sub-expressions\n",
    "expr = Forall(instance_param_or_params = [m], instance_expr = Forall(instance_param_or_params = [A_1_to_m], instance_expr = And(A_1_to_m), condition = A_1_to_m), domain = Natural)"
   ]
  },
  {
   "cell_type": "code",
   "execution_count": 3,
   "metadata": {},
   "outputs": [
    {
     "name": "stdout",
     "output_type": "stream",
     "text": [
      "Passed sanity check: expr matches stored_expr\n"
     ]
    }
   ],
   "source": [
    "# check that the built expression is the same as the stored expression\n",
    "assert expr == stored_expr\n",
    "assert expr._style_id == stored_expr._style_id\n",
    "print(\"Passed sanity check: expr matches stored_expr\")"
   ]
  },
  {
   "cell_type": "code",
   "execution_count": 4,
   "metadata": {},
   "outputs": [
    {
     "name": "stdout",
     "output_type": "stream",
     "text": [
      "\\forall_{m \\in \\mathbb{N}}~\\left[\\forall_{A_{1}, A_{2}, \\ldots, A_{m}~|~A_{1}, A_{2}, \\ldots, A_{m}}~\\left(A_{1} \\land  A_{2} \\land  \\ldots \\land  A_{m}\\right)\\right]\n"
     ]
    }
   ],
   "source": [
    "# Show the LaTeX representation of the expression for convenience if you need it.\n",
    "print(stored_expr.latex())"
   ]
  },
  {
   "cell_type": "code",
   "execution_count": 5,
   "metadata": {},
   "outputs": [
    {
     "data": {
      "text/html": [
       "<table>\n",
       "<tr><th>name</th><th>description</th><th>default</th><th>current value</th><th>related methods</th></tr><tr><td>with_wrapping</td><td>If 'True', wrap the Expression after the parameters</td><td>None</td><td>None/False</td><td>('with_wrapping',)</td></tr>\n",
       "<tr><td>condition_wrapping</td><td>Wrap 'before' or 'after' the condition (or None).</td><td>None</td><td>None/False</td><td>('with_wrap_after_condition', 'with_wrap_before_condition')</td></tr>\n",
       "<tr><td>wrap_params</td><td>If 'True', wraps every two parameters AND wraps the Expression after the parameters</td><td>None</td><td>None/False</td><td>('with_params',)</td></tr>\n",
       "<tr><td>justification</td><td>justify to the 'left', 'center', or 'right' in the array cells</td><td>center</td><td>center</td><td>('with_justification',)</td></tr>\n",
       "</table>\n"
      ],
      "text/plain": [
       "style name: with_wrapping\n",
       "description: If 'True', wrap the Expression after the parameters\n",
       "default: None\n",
       "current value: None/False\n",
       "related methods: ('with_wrapping',)\n",
       "style name: condition_wrapping\n",
       "description: Wrap 'before' or 'after' the condition (or None).\n",
       "default: None\n",
       "current value: None/False\n",
       "related methods: ('with_wrap_after_condition', 'with_wrap_before_condition')\n",
       "style name: wrap_params\n",
       "description: If 'True', wraps every two parameters AND wraps the Expression after the parameters\n",
       "default: None\n",
       "current value: None/False\n",
       "related methods: ('with_params',)\n",
       "style name: justification\n",
       "description: justify to the 'left', 'center', or 'right' in the array cells\n",
       "default: center\n",
       "current value: center\n",
       "related methods: ('with_justification',)"
      ]
     },
     "metadata": {},
     "output_type": "display_data"
    }
   ],
   "source": [
    "stored_expr.style_options()"
   ]
  },
  {
   "cell_type": "code",
   "execution_count": 6,
   "metadata": {},
   "outputs": [
    {
     "data": {
      "text/html": [
       "<table><tr><th>&nbsp;</th><th>core type</th><th>sub-expressions</th><th>expression</th></tr>\n",
       "<tr><td>0</td><td>Operation</td><td>operator:&nbsp;7<br>operand:&nbsp;2<br></td><td><a class=\"ProveItLink\" href=\"expr.ipynb\"><img src=\"expr.png\" style=\"display:inline;vertical-align:middle;\" /></a></td></tr>\n",
       "<tr><td>1</td><td>ExprTuple</td><td>2</td><td><a class=\"ProveItLink\" href=\"../6c0a082f9b95157a2dae4b09e3cf5a43302ed3d70/expr.ipynb\"><img src=\"../6c0a082f9b95157a2dae4b09e3cf5a43302ed3d70/expr.png\" style=\"display:inline;vertical-align:middle;\" /></a></td></tr>\n",
       "<tr><td>2</td><td>Lambda</td><td>parameter:&nbsp;20<br>body:&nbsp;4<br></td><td><a class=\"ProveItLink\" href=\"../2309fc691d1e91e11a5957c0ad446437998181d10/expr.ipynb\"><img src=\"../2309fc691d1e91e11a5957c0ad446437998181d10/expr.png\" style=\"display:inline;vertical-align:middle;\" /></a></td></tr>\n",
       "<tr><td>3</td><td>ExprTuple</td><td>20</td><td><a class=\"ProveItLink\" href=\"../2ed45ad9602ac89076225577ef477d88f8c5a1790/expr.ipynb\"><img src=\"../2ed45ad9602ac89076225577ef477d88f8c5a1790/expr.png\" style=\"display:inline;vertical-align:middle;\" /></a></td></tr>\n",
       "<tr><td>4</td><td>Conditional</td><td>value:&nbsp;5<br>condition:&nbsp;6<br></td><td><a class=\"ProveItLink\" href=\"../6d37032c97c8bf9768e431467dee82f90493f8680/expr.ipynb\"><img src=\"../6d37032c97c8bf9768e431467dee82f90493f8680/expr.png\" style=\"display:inline;vertical-align:middle;\" /></a></td></tr>\n",
       "<tr><td>5</td><td>Operation</td><td>operator:&nbsp;7<br>operand:&nbsp;11<br></td><td><a class=\"ProveItLink\" href=\"../fee20fc99cac500bdf07e788a05352e88ed733c10/expr.ipynb\"><img src=\"../fee20fc99cac500bdf07e788a05352e88ed733c10/expr.png\" style=\"display:inline;vertical-align:middle;\" /></a></td></tr>\n",
       "<tr><td>6</td><td>Operation</td><td>operator:&nbsp;9<br>operands:&nbsp;10<br></td><td><a class=\"ProveItLink\" href=\"../22736ce9d3a37303b26f11de823dee236fdf12440/expr.ipynb\"><img src=\"../22736ce9d3a37303b26f11de823dee236fdf12440/expr.png\" style=\"display:inline;vertical-align:middle;\" /></a></td></tr>\n",
       "<tr><td>7</td><td>Literal</td><td></td><td><a class=\"ProveItLink\" href=\"../../../../quantification/universality/__pv_it/common/083d2baa0b8ecab1d230f9ec29a15aa1355809fb0/expr.ipynb\"><img src=\"../../../../quantification/universality/__pv_it/common/083d2baa0b8ecab1d230f9ec29a15aa1355809fb0/expr.png\" style=\"display:inline;vertical-align:middle;\" /></a></td></tr>\n",
       "<tr><td>8</td><td>ExprTuple</td><td>11</td><td><a class=\"ProveItLink\" href=\"../053c89e935e98f55df5497fbcac4ca508a4b82730/expr.ipynb\"><img src=\"../053c89e935e98f55df5497fbcac4ca508a4b82730/expr.png\" style=\"display:inline;vertical-align:middle;\" /></a></td></tr>\n",
       "<tr><td>9</td><td>Literal</td><td></td><td><a class=\"ProveItLink\" href=\"../../../../../sets/membership/__pv_it/common/477487d8796864d23d5810f83761435f25167f690/expr.ipynb\"><img src=\"../../../../../sets/membership/__pv_it/common/477487d8796864d23d5810f83761435f25167f690/expr.png\" style=\"display:inline;vertical-align:middle;\" /></a></td></tr>\n",
       "<tr><td>10</td><td>ExprTuple</td><td>20, 12</td><td><a class=\"ProveItLink\" href=\"../0d6c99f0fbf307a57c36a9642312d22b5ef7d9810/expr.ipynb\"><img src=\"../0d6c99f0fbf307a57c36a9642312d22b5ef7d9810/expr.png\" style=\"display:inline;vertical-align:middle;\" /></a></td></tr>\n",
       "<tr><td>11</td><td>Lambda</td><td>parameters:&nbsp;16<br>body:&nbsp;13<br></td><td><a class=\"ProveItLink\" href=\"../33e1e6cd177a242ef5fe7cd559aa32e12656e3cb0/expr.ipynb\"><img src=\"../33e1e6cd177a242ef5fe7cd559aa32e12656e3cb0/expr.png\" style=\"display:inline;vertical-align:middle;\" /></a></td></tr>\n",
       "<tr><td>12</td><td>Literal</td><td></td><td><a class=\"ProveItLink\" href=\"../../../../../../numbers/number_sets/natural_numbers/__pv_it/common/8b7c321957f52ed3b05b36af612eeae4fa4783bc0/expr.ipynb\"><img src=\"../../../../../../numbers/number_sets/natural_numbers/__pv_it/common/8b7c321957f52ed3b05b36af612eeae4fa4783bc0/expr.png\" style=\"display:inline;vertical-align:middle;\" /></a></td></tr>\n",
       "<tr><td>13</td><td>Conditional</td><td>value:&nbsp;14<br>condition:&nbsp;14<br></td><td><a class=\"ProveItLink\" href=\"../679ca1084719997ecc08c32e363be018051712350/expr.ipynb\"><img src=\"../679ca1084719997ecc08c32e363be018051712350/expr.png\" style=\"display:inline;vertical-align:middle;\" /></a></td></tr>\n",
       "<tr><td>14</td><td>Operation</td><td>operator:&nbsp;15<br>operands:&nbsp;16<br></td><td><a class=\"ProveItLink\" href=\"../979fea90c43ade83e382acdd213d17b696496eed0/expr.ipynb\"><img src=\"../979fea90c43ade83e382acdd213d17b696496eed0/expr.png\" style=\"display:inline;vertical-align:middle;\" /></a></td></tr>\n",
       "<tr><td>15</td><td>Literal</td><td></td><td><a class=\"ProveItLink\" href=\"../../common/42118ff318bd65d98b1393f64ce7c2269feef76e0/expr.ipynb\"><img src=\"../../common/42118ff318bd65d98b1393f64ce7c2269feef76e0/expr.png\" style=\"display:inline;vertical-align:middle;\" /></a></td></tr>\n",
       "<tr><td>16</td><td>ExprTuple</td><td>17</td><td><a class=\"ProveItLink\" href=\"../218b49ecc2fcb674f5eb724d523a787df9bde9a00/expr.ipynb\"><img src=\"../218b49ecc2fcb674f5eb724d523a787df9bde9a00/expr.png\" style=\"display:inline;vertical-align:middle;\" /></a></td></tr>\n",
       "<tr><td>17</td><td>ExprRange</td><td>lambda_map:&nbsp;18<br>start_index:&nbsp;19<br>end_index:&nbsp;20<br></td><td><a class=\"ProveItLink\" href=\"../../../../../../core_expr_types/__pv_it/common/eaccd55f312202b1e754429bdfeaf22333037c330/expr.ipynb\"><img src=\"../../../../../../core_expr_types/__pv_it/common/eaccd55f312202b1e754429bdfeaf22333037c330/expr.png\" style=\"display:inline;vertical-align:middle;\" /></a></td></tr>\n",
       "<tr><td>18</td><td>Lambda</td><td>parameter:&nbsp;24<br>body:&nbsp;21<br></td><td><a class=\"ProveItLink\" href=\"../../../../../../core_expr_types/__pv_it/common/9332289e845003c758afc3bcee43498ae784f2d90/expr.ipynb\"><img src=\"../../../../../../core_expr_types/__pv_it/common/9332289e845003c758afc3bcee43498ae784f2d90/expr.png\" style=\"display:inline;vertical-align:middle;\" /></a></td></tr>\n",
       "<tr><td>19</td><td>Literal</td><td></td><td><a class=\"ProveItLink\" href=\"../../../../../../numbers/numerals/__pv_it/common/682157d4892d216d9e5626ed533aff9b56b9506e0/expr.ipynb\"><img src=\"../../../../../../numbers/numerals/__pv_it/common/682157d4892d216d9e5626ed533aff9b56b9506e0/expr.png\" style=\"display:inline;vertical-align:middle;\" /></a></td></tr>\n",
       "<tr><td>20</td><td>Variable</td><td></td><td><a class=\"ProveItLink\" href=\"../../../../../../__pv_it/common/674a03b9c3ca221b3aabd5636837b31528ff33830/expr.ipynb\"><img src=\"../../../../../../__pv_it/common/674a03b9c3ca221b3aabd5636837b31528ff33830/expr.png\" style=\"display:inline;vertical-align:middle;\" /></a></td></tr>\n",
       "<tr><td>21</td><td>IndexedVar</td><td>variable:&nbsp;22<br>index:&nbsp;24<br></td><td><a class=\"ProveItLink\" href=\"../../../../../../core_expr_types/__pv_it/common/9fdaaadf1b3d81a308244818dc08833e7f5035730/expr.ipynb\"><img src=\"../../../../../../core_expr_types/__pv_it/common/9fdaaadf1b3d81a308244818dc08833e7f5035730/expr.png\" style=\"display:inline;vertical-align:middle;\" /></a></td></tr>\n",
       "<tr><td>22</td><td>Variable</td><td></td><td><a class=\"ProveItLink\" href=\"../../../../../../__pv_it/common/09585084922504426caf1db2ff588a23a0932a960/expr.ipynb\"><img src=\"../../../../../../__pv_it/common/09585084922504426caf1db2ff588a23a0932a960/expr.png\" style=\"display:inline;vertical-align:middle;\" /></a></td></tr>\n",
       "<tr><td>23</td><td>ExprTuple</td><td>24</td><td><a class=\"ProveItLink\" href=\"../../../../../../core_expr_types/__pv_it/common/4b0dd6be36d76552eda6a95d5b4a27f5a5b62f900/expr.ipynb\"><img src=\"../../../../../../core_expr_types/__pv_it/common/4b0dd6be36d76552eda6a95d5b4a27f5a5b62f900/expr.png\" style=\"display:inline;vertical-align:middle;\" /></a></td></tr>\n",
       "<tr><td>24</td><td>Variable</td><td></td><td><a class=\"ProveItLink\" href=\"../../../../../../core_expr_types/__pv_it/common/006c465e50948aa2b52285e2de47974f741255cc0/expr.ipynb\"><img src=\"../../../../../../core_expr_types/__pv_it/common/006c465e50948aa2b52285e2de47974f741255cc0/expr.png\" style=\"display:inline;vertical-align:middle;\" /></a></td></tr>\n",
       "</table>\n"
      ],
      "text/plain": [
       "0. forall_{m in Natural} [forall_{A_{1}, A_{2}, ..., A_{m} | A_{1}, A_{2}, ..., A_{m}} (A_{1} and  A_{2} and  ... and  A_{m})]\n",
       "   core type: Operation\n",
       "   operator: 7\n",
       "   operand: 2\n",
       "1. (m -> {forall_{A_{1}, A_{2}, ..., A_{m} | A_{1}, A_{2}, ..., A_{m}} (A_{1} and  A_{2} and  ... and  A_{m}) if m in Natural.)\n",
       "   core type: ExprTuple\n",
       "   sub-expressions: 2\n",
       "2. m -> {forall_{A_{1}, A_{2}, ..., A_{m} | A_{1}, A_{2}, ..., A_{m}} (A_{1} and  A_{2} and  ... and  A_{m}) if m in Natural.\n",
       "   core type: Lambda\n",
       "   parameter: 20\n",
       "   body: 4\n",
       "3. (m)\n",
       "   core type: ExprTuple\n",
       "   sub-expressions: 20\n",
       "4. {forall_{A_{1}, A_{2}, ..., A_{m} | A_{1}, A_{2}, ..., A_{m}} (A_{1} and  A_{2} and  ... and  A_{m}) if m in Natural.\n",
       "   core type: Conditional\n",
       "   value: 5\n",
       "   condition: 6\n",
       "5. forall_{A_{1}, A_{2}, ..., A_{m} | A_{1}, A_{2}, ..., A_{m}} (A_{1} and  A_{2} and  ... and  A_{m})\n",
       "   core type: Operation\n",
       "   operator: 7\n",
       "   operand: 11\n",
       "6. m in Natural\n",
       "   core type: Operation\n",
       "   operator: 9\n",
       "   operands: 10\n",
       "7. forall\n",
       "   core type: Literal\n",
       "   sub-expressions: \n",
       "8. ((A_{1}, A_{2}, ..., A_{m}) -> {A_{1} and  A_{2} and  ... and  A_{m} if A_{1} and  A_{2} and  ... and  A_{m}.)\n",
       "   core type: ExprTuple\n",
       "   sub-expressions: 11\n",
       "9. in\n",
       "   core type: Literal\n",
       "   sub-expressions: \n",
       "10. (m, Natural)\n",
       "    core type: ExprTuple\n",
       "    sub-expressions: 20, 12\n",
       "11. (A_{1}, A_{2}, ..., A_{m}) -> {A_{1} and  A_{2} and  ... and  A_{m} if A_{1} and  A_{2} and  ... and  A_{m}.\n",
       "    core type: Lambda\n",
       "    parameters: 16\\n    body: 13\n",
       "12. Natural\n",
       "    core type: Literal\n",
       "    sub-expressions: \n",
       "13. {A_{1} and  A_{2} and  ... and  A_{m} if A_{1} and  A_{2} and  ... and  A_{m}.\n",
       "    core type: Conditional\n",
       "    value: 14\n",
       "    condition: 14\n",
       "14. A_{1} and  A_{2} and  ... and  A_{m}\n",
       "    core type: Operation\n",
       "    operator: 15\n",
       "    operands: 16\n",
       "15. and\n",
       "    core type: Literal\n",
       "    sub-expressions: \n",
       "16. (A_{1}, A_{2}, ..., A_{m})\n",
       "    core type: ExprTuple\n",
       "    sub-expressions: 17\n",
       "17. A_{1}, A_{2}, ..., A_{m}\n",
       "    core type: ExprRange\n",
       "    lambda_map: 18\n",
       "    start_index: 19\n",
       "    end_index: 20\n",
       "18. _a -> A_{_a}\n",
       "    core type: Lambda\n",
       "    parameter: 24\n",
       "    body: 21\n",
       "19. 1\n",
       "    core type: Literal\n",
       "    sub-expressions: \n",
       "20. m\n",
       "    core type: Variable\n",
       "    sub-expressions: \n",
       "21. A_{_a}\n",
       "    core type: IndexedVar\n",
       "variable: 22\n",
       "index: 24\n",
       "22. A\n",
       "    core type: Variable\n",
       "    sub-expressions: \n",
       "23. (_a)\n",
       "    core type: ExprTuple\n",
       "    sub-expressions: 24\n",
       "24. _a\n",
       "    core type: Variable\n",
       "    sub-expressions: "
      ]
     },
     "metadata": {},
     "output_type": "display_data"
    }
   ],
   "source": [
    "# display the expression information\n",
    "stored_expr.expr_info()"
   ]
  },
  {
   "cell_type": "code",
   "execution_count": null,
   "metadata": {},
   "outputs": [],
   "source": []
  }
 ],
 "metadata": {
  "kernelspec": {
   "display_name": "Python 3",
   "language": "python",
   "name": "python3"
  }
 },
 "nbformat": 4,
 "nbformat_minor": 0
}