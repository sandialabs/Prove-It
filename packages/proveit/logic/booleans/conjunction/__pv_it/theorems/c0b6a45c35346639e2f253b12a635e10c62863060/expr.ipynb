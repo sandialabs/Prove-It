{
 "cells": [
  {
   "cell_type": "markdown",
   "metadata": {},
   "source": [
    "Expression of type <a class=\"ProveItLink\" href=\"../../../../../../../../doc/html/api/proveit.ExprTuple.html\">ExprTuple</a>\n",
    "=======================\n",
    "# from the theory of <a class=\"ProveItLink\" href=\"../../../_theory_nbs_/theory.ipynb\">proveit.logic.booleans.conjunction</a>"
   ]
  },
  {
   "cell_type": "code",
   "execution_count": 1,
   "metadata": {},
   "outputs": [],
   "source": [
    "import proveit\n",
    "# Automation is not needed when building an expression:\n",
    "proveit.defaults.automation = False # This will speed things up.\n",
    "proveit.defaults.inline_pngs = False # Makes files smaller.\n",
    "%load_expr # Load the stored expression as 'stored_expr'\n",
    "# import Expression classes needed to build the expression\n",
    "from proveit import A, C, Conditional, ExprRange, ExprTuple, IndexedVar, Lambda, Variable, m, n\n",
    "from proveit.core_expr_types import A_1_to_m, C_1_to_n\n",
    "from proveit.logic import And, Boolean, Equals, FALSE, InSet\n",
    "from proveit.numbers import one"
   ]
  },
  {
   "cell_type": "code",
   "execution_count": 2,
   "metadata": {},
   "outputs": [
    {
     "data": {
      "text/html": [
       "<strong id=\"expr\">expr:</strong> <a class=\"ProveItLink\" href=\"expr.ipynb\"><img src=\"expr.png\" style=\"display:inline;vertical-align:middle;\" /></a><br>"
      ],
      "text/plain": [
       "<IPython.core.display.HTML object>"
      ]
     },
     "metadata": {},
     "output_type": "display_data"
    }
   ],
   "source": [
    "# build up the expression from sub-expressions\n",
    "sub_expr1 = Variable(\"_a\", latex_format = r\"{_{-}a}\")\n",
    "expr = ExprTuple(Lambda([A_1_to_m, C_1_to_n], Conditional(Equals(And(A_1_to_m, FALSE, C_1_to_n), FALSE), And(ExprRange(sub_expr1, InSet(IndexedVar(A, sub_expr1), Boolean), one, m), ExprRange(sub_expr1, InSet(IndexedVar(C, sub_expr1), Boolean), one, n)))))"
   ]
  },
  {
   "cell_type": "code",
   "execution_count": 3,
   "metadata": {},
   "outputs": [
    {
     "name": "stdout",
     "output_type": "stream",
     "text": [
      "Passed sanity check: expr matches stored_expr\n"
     ]
    }
   ],
   "source": [
    "# check that the built expression is the same as the stored expression\n",
    "assert expr == stored_expr\n",
    "assert expr._style_id == stored_expr._style_id\n",
    "print(\"Passed sanity check: expr matches stored_expr\")"
   ]
  },
  {
   "cell_type": "code",
   "execution_count": 4,
   "metadata": {},
   "outputs": [
    {
     "name": "stdout",
     "output_type": "stream",
     "text": [
      "\\left(\\left(A_{1}, A_{2}, \\ldots, A_{m}, C_{1}, C_{2}, \\ldots, C_{n}\\right) \\mapsto \\left\\{\\left(A_{1} \\land  A_{2} \\land  \\ldots \\land  A_{m} \\land \\bot\\land C_{1} \\land  C_{2} \\land  \\ldots \\land  C_{n}\\right) = \\bot \\textrm{ if } \\left(A_{1} \\in \\mathbb{B}\\right) ,  \\left(A_{2} \\in \\mathbb{B}\\right) ,  \\ldots ,  \\left(A_{m} \\in \\mathbb{B}\\right), \\left(C_{1} \\in \\mathbb{B}\\right) ,  \\left(C_{2} \\in \\mathbb{B}\\right) ,  \\ldots ,  \\left(C_{n} \\in \\mathbb{B}\\right)\\right..\\right)\n"
     ]
    }
   ],
   "source": [
    "# Show the LaTeX representation of the expression for convenience if you need it.\n",
    "print(stored_expr.latex())"
   ]
  },
  {
   "cell_type": "code",
   "execution_count": 5,
   "metadata": {},
   "outputs": [
    {
     "data": {
      "text/html": [
       "no style options"
      ],
      "text/plain": [
       "no style options"
      ]
     },
     "metadata": {},
     "output_type": "display_data"
    }
   ],
   "source": [
    "stored_expr.style_options()"
   ]
  },
  {
   "cell_type": "code",
   "execution_count": 6,
   "metadata": {},
   "outputs": [
    {
     "data": {
      "text/html": [
       "<table><tr><th>&nbsp;</th><th>core type</th><th>sub-expressions</th><th>expression</th></tr>\n",
       "<tr><td>0</td><td>ExprTuple</td><td>1</td><td><a class=\"ProveItLink\" href=\"expr.ipynb\"><img src=\"expr.png\" style=\"display:inline;vertical-align:middle;\" /></a></td></tr>\n",
       "<tr><td>1</td><td>Lambda</td><td>parameters:&nbsp;2<br>body:&nbsp;3<br></td><td><a class=\"ProveItLink\" href=\"../9f87e01a444d28d2bb2acf4fde10d8b6b0c166140/expr.ipynb\"><img src=\"../9f87e01a444d28d2bb2acf4fde10d8b6b0c166140/expr.png\" style=\"display:inline;vertical-align:middle;\" /></a></td></tr>\n",
       "<tr><td>2</td><td>ExprTuple</td><td>16, 18</td><td><a class=\"ProveItLink\" href=\"../b80dee1babca034fe08ce40da313bcb0ccffa5010/expr.ipynb\"><img src=\"../b80dee1babca034fe08ce40da313bcb0ccffa5010/expr.png\" style=\"display:inline;vertical-align:middle;\" /></a></td></tr>\n",
       "<tr><td>3</td><td>Conditional</td><td>value:&nbsp;4<br>condition:&nbsp;5<br></td><td><a class=\"ProveItLink\" href=\"../f35a8d32ed1f844a83d5381466d19e120ae437eb0/expr.ipynb\"><img src=\"../f35a8d32ed1f844a83d5381466d19e120ae437eb0/expr.png\" style=\"display:inline;vertical-align:middle;\" /></a></td></tr>\n",
       "<tr><td>4</td><td>Operation</td><td>operator:&nbsp;6<br>operands:&nbsp;7<br></td><td><a class=\"ProveItLink\" href=\"../bf219b616973b990d30ee2a1928d3af2cf7da1a30/expr.ipynb\"><img src=\"../bf219b616973b990d30ee2a1928d3af2cf7da1a30/expr.png\" style=\"display:inline;vertical-align:middle;\" /></a></td></tr>\n",
       "<tr><td>5</td><td>Operation</td><td>operator:&nbsp;12<br>operands:&nbsp;8<br></td><td><a class=\"ProveItLink\" href=\"../53340de40d94cdac8e4805b02ee76fc57b1ebde00/expr.ipynb\"><img src=\"../53340de40d94cdac8e4805b02ee76fc57b1ebde00/expr.png\" style=\"display:inline;vertical-align:middle;\" /></a></td></tr>\n",
       "<tr><td>6</td><td>Literal</td><td></td><td><a class=\"ProveItLink\" href=\"../../../../../equality/__pv_it/common/fb96dc12b2aa8801dda64d0132b396c63d1502bb0/expr.ipynb\"><img src=\"../../../../../equality/__pv_it/common/fb96dc12b2aa8801dda64d0132b396c63d1502bb0/expr.png\" style=\"display:inline;vertical-align:middle;\" /></a></td></tr>\n",
       "<tr><td>7</td><td>ExprTuple</td><td>9, 17</td><td><a class=\"ProveItLink\" href=\"../e174c0378af73beb87a5b76018870d7cb2b946350/expr.ipynb\"><img src=\"../e174c0378af73beb87a5b76018870d7cb2b946350/expr.png\" style=\"display:inline;vertical-align:middle;\" /></a></td></tr>\n",
       "<tr><td>8</td><td>ExprTuple</td><td>10, 11</td><td><a class=\"ProveItLink\" href=\"../853a64a42b1542bc3bc70ffa5b6705284be1d4910/expr.ipynb\"><img src=\"../853a64a42b1542bc3bc70ffa5b6705284be1d4910/expr.png\" style=\"display:inline;vertical-align:middle;\" /></a></td></tr>\n",
       "<tr><td>9</td><td>Operation</td><td>operator:&nbsp;12<br>operands:&nbsp;13<br></td><td><a class=\"ProveItLink\" href=\"../7b71c994407a4a64c55d5da2871727a81f823fde0/expr.ipynb\"><img src=\"../7b71c994407a4a64c55d5da2871727a81f823fde0/expr.png\" style=\"display:inline;vertical-align:middle;\" /></a></td></tr>\n",
       "<tr><td>10</td><td>ExprRange</td><td>lambda_map:&nbsp;14<br>start_index:&nbsp;24<br>end_index:&nbsp;22<br></td><td><a class=\"ProveItLink\" href=\"../1fb27215f9874f666c9ff5c489de9562a10203f10/expr.ipynb\"><img src=\"../1fb27215f9874f666c9ff5c489de9562a10203f10/expr.png\" style=\"display:inline;vertical-align:middle;\" /></a></td></tr>\n",
       "<tr><td>11</td><td>ExprRange</td><td>lambda_map:&nbsp;15<br>start_index:&nbsp;24<br>end_index:&nbsp;25<br></td><td><a class=\"ProveItLink\" href=\"../b6f9d394af442962031bc16f5a271217dde4d2410/expr.ipynb\"><img src=\"../b6f9d394af442962031bc16f5a271217dde4d2410/expr.png\" style=\"display:inline;vertical-align:middle;\" /></a></td></tr>\n",
       "<tr><td>12</td><td>Literal</td><td></td><td><a class=\"ProveItLink\" href=\"../../common/42118ff318bd65d98b1393f64ce7c2269feef76e0/expr.ipynb\"><img src=\"../../common/42118ff318bd65d98b1393f64ce7c2269feef76e0/expr.png\" style=\"display:inline;vertical-align:middle;\" /></a></td></tr>\n",
       "<tr><td>13</td><td>ExprTuple</td><td>16, 17, 18</td><td><a class=\"ProveItLink\" href=\"../f5662ece21a2c5544da483c98614b15321536e250/expr.ipynb\"><img src=\"../f5662ece21a2c5544da483c98614b15321536e250/expr.png\" style=\"display:inline;vertical-align:middle;\" /></a></td></tr>\n",
       "<tr><td>14</td><td>Lambda</td><td>parameter:&nbsp;35<br>body:&nbsp;19<br></td><td><a class=\"ProveItLink\" href=\"../24bc2dc2924744cfd65436fd9d2c6ad0cc6f28660/expr.ipynb\"><img src=\"../24bc2dc2924744cfd65436fd9d2c6ad0cc6f28660/expr.png\" style=\"display:inline;vertical-align:middle;\" /></a></td></tr>\n",
       "<tr><td>15</td><td>Lambda</td><td>parameter:&nbsp;35<br>body:&nbsp;20<br></td><td><a class=\"ProveItLink\" href=\"../1d62f4848cb58c5f81b1a54ca4e9e6493636b0bc0/expr.ipynb\"><img src=\"../1d62f4848cb58c5f81b1a54ca4e9e6493636b0bc0/expr.png\" style=\"display:inline;vertical-align:middle;\" /></a></td></tr>\n",
       "<tr><td>16</td><td>ExprRange</td><td>lambda_map:&nbsp;21<br>start_index:&nbsp;24<br>end_index:&nbsp;22<br></td><td><a class=\"ProveItLink\" href=\"../../../../../../core_expr_types/__pv_it/common/eaccd55f312202b1e754429bdfeaf22333037c330/expr.ipynb\"><img src=\"../../../../../../core_expr_types/__pv_it/common/eaccd55f312202b1e754429bdfeaf22333037c330/expr.png\" style=\"display:inline;vertical-align:middle;\" /></a></td></tr>\n",
       "<tr><td>17</td><td>Literal</td><td></td><td><a class=\"ProveItLink\" href=\"../../../../__pv_it/common/e0f123f2e4f322e1eba7f861749cda9fd9d99a120/expr.ipynb\"><img src=\"../../../../__pv_it/common/e0f123f2e4f322e1eba7f861749cda9fd9d99a120/expr.png\" style=\"display:inline;vertical-align:middle;\" /></a></td></tr>\n",
       "<tr><td>18</td><td>ExprRange</td><td>lambda_map:&nbsp;23<br>start_index:&nbsp;24<br>end_index:&nbsp;25<br></td><td><a class=\"ProveItLink\" href=\"../../../../../../core_expr_types/__pv_it/common/e7504afc0aea2366fbf28183721351f04720dfad0/expr.ipynb\"><img src=\"../../../../../../core_expr_types/__pv_it/common/e7504afc0aea2366fbf28183721351f04720dfad0/expr.png\" style=\"display:inline;vertical-align:middle;\" /></a></td></tr>\n",
       "<tr><td>19</td><td>Operation</td><td>operator:&nbsp;27<br>operands:&nbsp;26<br></td><td><a class=\"ProveItLink\" href=\"../4e5a3811f8fae2836722462066e6579a37dfad210/expr.ipynb\"><img src=\"../4e5a3811f8fae2836722462066e6579a37dfad210/expr.png\" style=\"display:inline;vertical-align:middle;\" /></a></td></tr>\n",
       "<tr><td>20</td><td>Operation</td><td>operator:&nbsp;27<br>operands:&nbsp;28<br></td><td><a class=\"ProveItLink\" href=\"../f161700ea9c36270553cc9e817eb7416b9e36b500/expr.ipynb\"><img src=\"../f161700ea9c36270553cc9e817eb7416b9e36b500/expr.png\" style=\"display:inline;vertical-align:middle;\" /></a></td></tr>\n",
       "<tr><td>21</td><td>Lambda</td><td>parameter:&nbsp;35<br>body:&nbsp;29<br></td><td><a class=\"ProveItLink\" href=\"../../../../../../core_expr_types/__pv_it/common/9332289e845003c758afc3bcee43498ae784f2d90/expr.ipynb\"><img src=\"../../../../../../core_expr_types/__pv_it/common/9332289e845003c758afc3bcee43498ae784f2d90/expr.png\" style=\"display:inline;vertical-align:middle;\" /></a></td></tr>\n",
       "<tr><td>22</td><td>Variable</td><td></td><td><a class=\"ProveItLink\" href=\"../../../../../../__pv_it/common/674a03b9c3ca221b3aabd5636837b31528ff33830/expr.ipynb\"><img src=\"../../../../../../__pv_it/common/674a03b9c3ca221b3aabd5636837b31528ff33830/expr.png\" style=\"display:inline;vertical-align:middle;\" /></a></td></tr>\n",
       "<tr><td>23</td><td>Lambda</td><td>parameter:&nbsp;35<br>body:&nbsp;30<br></td><td><a class=\"ProveItLink\" href=\"../../../../../../core_expr_types/__pv_it/common/c9399abb980047fe39e716f375f641a4494b404b0/expr.ipynb\"><img src=\"../../../../../../core_expr_types/__pv_it/common/c9399abb980047fe39e716f375f641a4494b404b0/expr.png\" style=\"display:inline;vertical-align:middle;\" /></a></td></tr>\n",
       "<tr><td>24</td><td>Literal</td><td></td><td><a class=\"ProveItLink\" href=\"../../../../../../numbers/numerals/__pv_it/common/682157d4892d216d9e5626ed533aff9b56b9506e0/expr.ipynb\"><img src=\"../../../../../../numbers/numerals/__pv_it/common/682157d4892d216d9e5626ed533aff9b56b9506e0/expr.png\" style=\"display:inline;vertical-align:middle;\" /></a></td></tr>\n",
       "<tr><td>25</td><td>Variable</td><td></td><td><a class=\"ProveItLink\" href=\"../../../../../../__pv_it/common/8968bb04eb3f7dfa02353397ce929b025bbd79c20/expr.ipynb\"><img src=\"../../../../../../__pv_it/common/8968bb04eb3f7dfa02353397ce929b025bbd79c20/expr.png\" style=\"display:inline;vertical-align:middle;\" /></a></td></tr>\n",
       "<tr><td>26</td><td>ExprTuple</td><td>29, 31</td><td><a class=\"ProveItLink\" href=\"../3b63dd2d70dc3db7b3daaeea0ebe335178ad58940/expr.ipynb\"><img src=\"../3b63dd2d70dc3db7b3daaeea0ebe335178ad58940/expr.png\" style=\"display:inline;vertical-align:middle;\" /></a></td></tr>\n",
       "<tr><td>27</td><td>Literal</td><td></td><td><a class=\"ProveItLink\" href=\"../../../../../sets/membership/__pv_it/common/477487d8796864d23d5810f83761435f25167f690/expr.ipynb\"><img src=\"../../../../../sets/membership/__pv_it/common/477487d8796864d23d5810f83761435f25167f690/expr.png\" style=\"display:inline;vertical-align:middle;\" /></a></td></tr>\n",
       "<tr><td>28</td><td>ExprTuple</td><td>30, 31</td><td><a class=\"ProveItLink\" href=\"../240f87d4f00f5b917f53616d36f86fff5a6299590/expr.ipynb\"><img src=\"../240f87d4f00f5b917f53616d36f86fff5a6299590/expr.png\" style=\"display:inline;vertical-align:middle;\" /></a></td></tr>\n",
       "<tr><td>29</td><td>IndexedVar</td><td>variable:&nbsp;32<br>index:&nbsp;35<br></td><td><a class=\"ProveItLink\" href=\"../../../../../../core_expr_types/__pv_it/common/9fdaaadf1b3d81a308244818dc08833e7f5035730/expr.ipynb\"><img src=\"../../../../../../core_expr_types/__pv_it/common/9fdaaadf1b3d81a308244818dc08833e7f5035730/expr.png\" style=\"display:inline;vertical-align:middle;\" /></a></td></tr>\n",
       "<tr><td>30</td><td>IndexedVar</td><td>variable:&nbsp;33<br>index:&nbsp;35<br></td><td><a class=\"ProveItLink\" href=\"../../../../../../core_expr_types/__pv_it/common/f756bc205d05c1af04e1aeeb7a42469b1e89f9cf0/expr.ipynb\"><img src=\"../../../../../../core_expr_types/__pv_it/common/f756bc205d05c1af04e1aeeb7a42469b1e89f9cf0/expr.png\" style=\"display:inline;vertical-align:middle;\" /></a></td></tr>\n",
       "<tr><td>31</td><td>Literal</td><td></td><td><a class=\"ProveItLink\" href=\"../../../../__pv_it/common/97424376de9815ad99f7180e3191b1cf4ab2a5710/expr.ipynb\"><img src=\"../../../../__pv_it/common/97424376de9815ad99f7180e3191b1cf4ab2a5710/expr.png\" style=\"display:inline;vertical-align:middle;\" /></a></td></tr>\n",
       "<tr><td>32</td><td>Variable</td><td></td><td><a class=\"ProveItLink\" href=\"../../../../../../__pv_it/common/09585084922504426caf1db2ff588a23a0932a960/expr.ipynb\"><img src=\"../../../../../../__pv_it/common/09585084922504426caf1db2ff588a23a0932a960/expr.png\" style=\"display:inline;vertical-align:middle;\" /></a></td></tr>\n",
       "<tr><td>33</td><td>Variable</td><td></td><td><a class=\"ProveItLink\" href=\"../../../../../../__pv_it/common/9fba9f29e823606ff4fdf2f1c6d5d08d906e850a0/expr.ipynb\"><img src=\"../../../../../../__pv_it/common/9fba9f29e823606ff4fdf2f1c6d5d08d906e850a0/expr.png\" style=\"display:inline;vertical-align:middle;\" /></a></td></tr>\n",
       "<tr><td>34</td><td>ExprTuple</td><td>35</td><td><a class=\"ProveItLink\" href=\"../../../../../../core_expr_types/__pv_it/common/4b0dd6be36d76552eda6a95d5b4a27f5a5b62f900/expr.ipynb\"><img src=\"../../../../../../core_expr_types/__pv_it/common/4b0dd6be36d76552eda6a95d5b4a27f5a5b62f900/expr.png\" style=\"display:inline;vertical-align:middle;\" /></a></td></tr>\n",
       "<tr><td>35</td><td>Variable</td><td></td><td><a class=\"ProveItLink\" href=\"../../../../../../core_expr_types/__pv_it/common/006c465e50948aa2b52285e2de47974f741255cc0/expr.ipynb\"><img src=\"../../../../../../core_expr_types/__pv_it/common/006c465e50948aa2b52285e2de47974f741255cc0/expr.png\" style=\"display:inline;vertical-align:middle;\" /></a></td></tr>\n",
       "</table>\n"
      ],
      "text/plain": [
       "0. ((A_{1}, A_{2}, ..., A_{m}, C_{1}, C_{2}, ..., C_{n}) -> {(A_{1} and  A_{2} and  ... and  A_{m} and FALSEand C_{1} and  C_{2} and  ... and  C_{n}) = FALSE if (A_{1} in BOOLEAN) ,  (A_{2} in BOOLEAN) ,  ... ,  (A_{m} in BOOLEAN), (C_{1} in BOOLEAN) ,  (C_{2} in BOOLEAN) ,  ... ,  (C_{n} in BOOLEAN).)\n",
       "   core type: ExprTuple\n",
       "   sub-expressions: 1\n",
       "1. (A_{1}, A_{2}, ..., A_{m}, C_{1}, C_{2}, ..., C_{n}) -> {(A_{1} and  A_{2} and  ... and  A_{m} and FALSEand C_{1} and  C_{2} and  ... and  C_{n}) = FALSE if (A_{1} in BOOLEAN) ,  (A_{2} in BOOLEAN) ,  ... ,  (A_{m} in BOOLEAN), (C_{1} in BOOLEAN) ,  (C_{2} in BOOLEAN) ,  ... ,  (C_{n} in BOOLEAN).\n",
       "   core type: Lambda\n",
       "   parameters: 2\\n   body: 3\n",
       "2. (A_{1}, A_{2}, ..., A_{m},C_{1}, C_{2}, ..., C_{n})\n",
       "   core type: ExprTuple\n",
       "   sub-expressions: 16, 18\n",
       "3. {(A_{1} and  A_{2} and  ... and  A_{m} and FALSEand C_{1} and  C_{2} and  ... and  C_{n}) = FALSE if (A_{1} in BOOLEAN) ,  (A_{2} in BOOLEAN) ,  ... ,  (A_{m} in BOOLEAN), (C_{1} in BOOLEAN) ,  (C_{2} in BOOLEAN) ,  ... ,  (C_{n} in BOOLEAN).\n",
       "   core type: Conditional\n",
       "   value: 4\n",
       "   condition: 5\n",
       "4. (A_{1} and  A_{2} and  ... and  A_{m} and FALSEand C_{1} and  C_{2} and  ... and  C_{n}) = FALSE\n",
       "   core type: Operation\n",
       "   operator: 6\n",
       "   operands: 7\n",
       "5. (A_{1} in BOOLEAN) and  (A_{2} in BOOLEAN) and  ... and  (A_{m} in BOOLEAN)and (C_{1} in BOOLEAN) and  (C_{2} in BOOLEAN) and  ... and  (C_{n} in BOOLEAN)\n",
       "   core type: Operation\n",
       "   operator: 12\n",
       "   operands: 8\n",
       "6. =\n",
       "   core type: Literal\n",
       "   sub-expressions: \n",
       "7. (A_{1} and  A_{2} and  ... and  A_{m} and FALSEand C_{1} and  C_{2} and  ... and  C_{n}, FALSE)\n",
       "   core type: ExprTuple\n",
       "   sub-expressions: 9, 17\n",
       "8. ((A_{1} in BOOLEAN), (A_{2} in BOOLEAN), ..., (A_{m} in BOOLEAN),(C_{1} in BOOLEAN), (C_{2} in BOOLEAN), ..., (C_{n} in BOOLEAN))\n",
       "   core type: ExprTuple\n",
       "   sub-expressions: 10, 11\n",
       "9. A_{1} and  A_{2} and  ... and  A_{m} and FALSEand C_{1} and  C_{2} and  ... and  C_{n}\n",
       "   core type: Operation\n",
       "   operator: 12\n",
       "   operands: 13\n",
       "10. (A_{1} in BOOLEAN), (A_{2} in BOOLEAN), ..., (A_{m} in BOOLEAN)\n",
       "    core type: ExprRange\n",
       "    lambda_map: 14\n",
       "    start_index: 24\n",
       "    end_index: 22\n",
       "11. (C_{1} in BOOLEAN), (C_{2} in BOOLEAN), ..., (C_{n} in BOOLEAN)\n",
       "    core type: ExprRange\n",
       "    lambda_map: 15\n",
       "    start_index: 24\n",
       "    end_index: 25\n",
       "12. and\n",
       "    core type: Literal\n",
       "    sub-expressions: \n",
       "13. (A_{1}, A_{2}, ..., A_{m}, FALSE,C_{1}, C_{2}, ..., C_{n})\n",
       "    core type: ExprTuple\n",
       "    sub-expressions: 16, 17, 18\n",
       "14. _a -> (A_{_a} in BOOLEAN)\n",
       "    core type: Lambda\n",
       "    parameter: 35\n",
       "    body: 19\n",
       "15. _a -> (C_{_a} in BOOLEAN)\n",
       "    core type: Lambda\n",
       "    parameter: 35\n",
       "    body: 20\n",
       "16. A_{1}, A_{2}, ..., A_{m}\n",
       "    core type: ExprRange\n",
       "    lambda_map: 21\n",
       "    start_index: 24\n",
       "    end_index: 22\n",
       "17. FALSE\n",
       "    core type: Literal\n",
       "    sub-expressions: \n",
       "18. C_{1}, C_{2}, ..., C_{n}\n",
       "    core type: ExprRange\n",
       "    lambda_map: 23\n",
       "    start_index: 24\n",
       "    end_index: 25\n",
       "19. A_{_a} in BOOLEAN\n",
       "    core type: Operation\n",
       "    operator: 27\n",
       "    operands: 26\n",
       "20. C_{_a} in BOOLEAN\n",
       "    core type: Operation\n",
       "    operator: 27\n",
       "    operands: 28\n",
       "21. _a -> A_{_a}\n",
       "    core type: Lambda\n",
       "    parameter: 35\n",
       "    body: 29\n",
       "22. m\n",
       "    core type: Variable\n",
       "    sub-expressions: \n",
       "23. _a -> C_{_a}\n",
       "    core type: Lambda\n",
       "    parameter: 35\n",
       "    body: 30\n",
       "24. 1\n",
       "    core type: Literal\n",
       "    sub-expressions: \n",
       "25. n\n",
       "    core type: Variable\n",
       "    sub-expressions: \n",
       "26. (A_{_a}, BOOLEAN)\n",
       "    core type: ExprTuple\n",
       "    sub-expressions: 29, 31\n",
       "27. in\n",
       "    core type: Literal\n",
       "    sub-expressions: \n",
       "28. (C_{_a}, BOOLEAN)\n",
       "    core type: ExprTuple\n",
       "    sub-expressions: 30, 31\n",
       "29. A_{_a}\n",
       "    core type: IndexedVar\n",
       "variable: 32\n",
       "index: 35\n",
       "30. C_{_a}\n",
       "    core type: IndexedVar\n",
       "variable: 33\n",
       "index: 35\n",
       "31. BOOLEAN\n",
       "    core type: Literal\n",
       "    sub-expressions: \n",
       "32. A\n",
       "    core type: Variable\n",
       "    sub-expressions: \n",
       "33. C\n",
       "    core type: Variable\n",
       "    sub-expressions: \n",
       "34. (_a)\n",
       "    core type: ExprTuple\n",
       "    sub-expressions: 35\n",
       "35. _a\n",
       "    core type: Variable\n",
       "    sub-expressions: "
      ]
     },
     "metadata": {},
     "output_type": "display_data"
    }
   ],
   "source": [
    "# display the expression information\n",
    "stored_expr.expr_info()"
   ]
  },
  {
   "cell_type": "code",
   "execution_count": null,
   "metadata": {},
   "outputs": [],
   "source": []
  }
 ],
 "metadata": {
  "kernelspec": {
   "display_name": "Python 3",
   "language": "python",
   "name": "python3"
  }
 },
 "nbformat": 4,
 "nbformat_minor": 0
}