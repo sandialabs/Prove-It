{
 "cells": [
  {
   "cell_type": "markdown",
   "metadata": {},
   "source": [
    "Expression of type <a class=\"ProveItLink\" href=\"../../../../../../../../doc/html/api/proveit.Lambda.html\">Lambda</a>\n",
    "=======================\n",
    "# from the theory of <a class=\"ProveItLink\" href=\"../../../_theory_nbs_/theory.ipynb\">proveit.logic.booleans.conjunction</a>"
   ]
  },
  {
   "cell_type": "code",
   "execution_count": 1,
   "metadata": {},
   "outputs": [],
   "source": [
    "import proveit\n",
    "# Automation is not needed when building an expression:\n",
    "proveit.defaults.automation = False # This will speed things up.\n",
    "proveit.defaults.inline_pngs = False # Makes files smaller.\n",
    "%load_expr # Load the stored expression as 'stored_expr'\n",
    "# import Expression classes needed to build the expression\n",
    "from proveit import Conditional, Lambda, l, m, n\n",
    "from proveit.core_expr_types import A_1_to_l, B_1_to_m, C_1_to_n\n",
    "from proveit.logic import And, Forall, InSet\n",
    "from proveit.numbers import Natural"
   ]
  },
  {
   "cell_type": "code",
   "execution_count": 2,
   "metadata": {},
   "outputs": [
    {
     "data": {
      "text/html": [
       "<strong id=\"expr\">expr:</strong> <a class=\"ProveItLink\" href=\"expr.ipynb\"><img src=\"expr.png\" style=\"display:inline;vertical-align:middle;\" /></a><br>"
      ],
      "text/plain": [
       "<IPython.core.display.HTML object>"
      ]
     },
     "metadata": {},
     "output_type": "display_data"
    }
   ],
   "source": [
    "# build up the expression from sub-expressions\n",
    "sub_expr1 = [A_1_to_l, B_1_to_m, C_1_to_n]\n",
    "expr = Lambda([l, m, n], Conditional(Forall(instance_param_or_params = sub_expr1, instance_expr = And(B_1_to_m), conditions = sub_expr1), And(InSet(l, Natural), InSet(m, Natural), InSet(n, Natural))))"
   ]
  },
  {
   "cell_type": "code",
   "execution_count": 3,
   "metadata": {},
   "outputs": [
    {
     "name": "stdout",
     "output_type": "stream",
     "text": [
      "Passed sanity check: expr matches stored_expr\n"
     ]
    }
   ],
   "source": [
    "# check that the built expression is the same as the stored expression\n",
    "assert expr == stored_expr\n",
    "assert expr._style_id == stored_expr._style_id\n",
    "print(\"Passed sanity check: expr matches stored_expr\")"
   ]
  },
  {
   "cell_type": "code",
   "execution_count": 4,
   "metadata": {},
   "outputs": [
    {
     "name": "stdout",
     "output_type": "stream",
     "text": [
      "\\left(l, m, n\\right) \\mapsto \\left\\{\\forall_{A_{1}, A_{2}, \\ldots, A_{l}, B_{1}, B_{2}, \\ldots, B_{m}, C_{1}, C_{2}, \\ldots, C_{n}~|~A_{1}, A_{2}, \\ldots, A_{l},B_{1}, B_{2}, \\ldots, B_{m},C_{1}, C_{2}, \\ldots, C_{n}}~\\left(B_{1} \\land  B_{2} \\land  \\ldots \\land  B_{m}\\right) \\textrm{ if } l \\in \\mathbb{N} ,  m \\in \\mathbb{N} ,  n \\in \\mathbb{N}\\right..\n"
     ]
    }
   ],
   "source": [
    "# Show the LaTeX representation of the expression for convenience if you need it.\n",
    "print(stored_expr.latex())"
   ]
  },
  {
   "cell_type": "code",
   "execution_count": 5,
   "metadata": {},
   "outputs": [
    {
     "data": {
      "text/html": [
       "no style options"
      ],
      "text/plain": [
       "no style options"
      ]
     },
     "metadata": {},
     "output_type": "display_data"
    }
   ],
   "source": [
    "stored_expr.style_options()"
   ]
  },
  {
   "cell_type": "code",
   "execution_count": 6,
   "metadata": {},
   "outputs": [
    {
     "data": {
      "text/html": [
       "<table><tr><th>&nbsp;</th><th>core type</th><th>sub-expressions</th><th>expression</th></tr>\n",
       "<tr><td>0</td><td>Lambda</td><td>parameters:&nbsp;1<br>body:&nbsp;2<br></td><td><a class=\"ProveItLink\" href=\"expr.ipynb\"><img src=\"expr.png\" style=\"display:inline;vertical-align:middle;\" /></a></td></tr>\n",
       "<tr><td>1</td><td>ExprTuple</td><td>27, 29, 32</td><td><a class=\"ProveItLink\" href=\"../88012e7eed91d4ab3b8bd14c65a082009a9e7df30/expr.ipynb\"><img src=\"../88012e7eed91d4ab3b8bd14c65a082009a9e7df30/expr.png\" style=\"display:inline;vertical-align:middle;\" /></a></td></tr>\n",
       "<tr><td>2</td><td>Conditional</td><td>value:&nbsp;3<br>condition:&nbsp;4<br></td><td><a class=\"ProveItLink\" href=\"../3c68f022a95d8b5747c5c467be4636a5e226b02b0/expr.ipynb\"><img src=\"../3c68f022a95d8b5747c5c467be4636a5e226b02b0/expr.png\" style=\"display:inline;vertical-align:middle;\" /></a></td></tr>\n",
       "<tr><td>3</td><td>Operation</td><td>operator:&nbsp;5<br>operand:&nbsp;8<br></td><td><a class=\"ProveItLink\" href=\"../c7b6de318c8a57badd81c61b67ada3f3a6a8c6510/expr.ipynb\"><img src=\"../c7b6de318c8a57badd81c61b67ada3f3a6a8c6510/expr.png\" style=\"display:inline;vertical-align:middle;\" /></a></td></tr>\n",
       "<tr><td>4</td><td>Operation</td><td>operator:&nbsp;21<br>operands:&nbsp;7<br></td><td><a class=\"ProveItLink\" href=\"../cc1f4c7249897e85e641bfcecf68eba3f8c78fb30/expr.ipynb\"><img src=\"../cc1f4c7249897e85e641bfcecf68eba3f8c78fb30/expr.png\" style=\"display:inline;vertical-align:middle;\" /></a></td></tr>\n",
       "<tr><td>5</td><td>Literal</td><td></td><td><a class=\"ProveItLink\" href=\"../../../../quantification/universality/__pv_it/common/083d2baa0b8ecab1d230f9ec29a15aa1355809fb0/expr.ipynb\"><img src=\"../../../../quantification/universality/__pv_it/common/083d2baa0b8ecab1d230f9ec29a15aa1355809fb0/expr.png\" style=\"display:inline;vertical-align:middle;\" /></a></td></tr>\n",
       "<tr><td>6</td><td>ExprTuple</td><td>8</td><td><a class=\"ProveItLink\" href=\"../12fc04613ebe1fefd284260a164788acbfd454920/expr.ipynb\"><img src=\"../12fc04613ebe1fefd284260a164788acbfd454920/expr.png\" style=\"display:inline;vertical-align:middle;\" /></a></td></tr>\n",
       "<tr><td>7</td><td>ExprTuple</td><td>9, 10, 11</td><td><a class=\"ProveItLink\" href=\"../888185752a0a59e5a1defca2875ae0babd80fd4f0/expr.ipynb\"><img src=\"../888185752a0a59e5a1defca2875ae0babd80fd4f0/expr.png\" style=\"display:inline;vertical-align:middle;\" /></a></td></tr>\n",
       "<tr><td>8</td><td>Lambda</td><td>parameters:&nbsp;22<br>body:&nbsp;12<br></td><td><a class=\"ProveItLink\" href=\"../5e5bc74097c3272a41fe38e966da628afdbbeefb0/expr.ipynb\"><img src=\"../5e5bc74097c3272a41fe38e966da628afdbbeefb0/expr.png\" style=\"display:inline;vertical-align:middle;\" /></a></td></tr>\n",
       "<tr><td>9</td><td>Operation</td><td>operator:&nbsp;15<br>operands:&nbsp;13<br></td><td><a class=\"ProveItLink\" href=\"../cedb79d97d652f14b415767917d43a7cf73db4810/expr.ipynb\"><img src=\"../cedb79d97d652f14b415767917d43a7cf73db4810/expr.png\" style=\"display:inline;vertical-align:middle;\" /></a></td></tr>\n",
       "<tr><td>10</td><td>Operation</td><td>operator:&nbsp;15<br>operands:&nbsp;14<br></td><td><a class=\"ProveItLink\" href=\"../22736ce9d3a37303b26f11de823dee236fdf12440/expr.ipynb\"><img src=\"../22736ce9d3a37303b26f11de823dee236fdf12440/expr.png\" style=\"display:inline;vertical-align:middle;\" /></a></td></tr>\n",
       "<tr><td>11</td><td>Operation</td><td>operator:&nbsp;15<br>operands:&nbsp;16<br></td><td><a class=\"ProveItLink\" href=\"../a4c62904f3a87ce48a16b43526806be1316ce7cc0/expr.ipynb\"><img src=\"../a4c62904f3a87ce48a16b43526806be1316ce7cc0/expr.png\" style=\"display:inline;vertical-align:middle;\" /></a></td></tr>\n",
       "<tr><td>12</td><td>Conditional</td><td>value:&nbsp;17<br>condition:&nbsp;18<br></td><td><a class=\"ProveItLink\" href=\"../1bcf9cd2c6f60fb26d1aafd0012a38deb7fa48f80/expr.ipynb\"><img src=\"../1bcf9cd2c6f60fb26d1aafd0012a38deb7fa48f80/expr.png\" style=\"display:inline;vertical-align:middle;\" /></a></td></tr>\n",
       "<tr><td>13</td><td>ExprTuple</td><td>27, 19</td><td><a class=\"ProveItLink\" href=\"../1c13973f6a4c6f065f3ea440098d8a00dad72f010/expr.ipynb\"><img src=\"../1c13973f6a4c6f065f3ea440098d8a00dad72f010/expr.png\" style=\"display:inline;vertical-align:middle;\" /></a></td></tr>\n",
       "<tr><td>14</td><td>ExprTuple</td><td>29, 19</td><td><a class=\"ProveItLink\" href=\"../0d6c99f0fbf307a57c36a9642312d22b5ef7d9810/expr.ipynb\"><img src=\"../0d6c99f0fbf307a57c36a9642312d22b5ef7d9810/expr.png\" style=\"display:inline;vertical-align:middle;\" /></a></td></tr>\n",
       "<tr><td>15</td><td>Literal</td><td></td><td><a class=\"ProveItLink\" href=\"../../../../../sets/membership/__pv_it/common/477487d8796864d23d5810f83761435f25167f690/expr.ipynb\"><img src=\"../../../../../sets/membership/__pv_it/common/477487d8796864d23d5810f83761435f25167f690/expr.png\" style=\"display:inline;vertical-align:middle;\" /></a></td></tr>\n",
       "<tr><td>16</td><td>ExprTuple</td><td>32, 19</td><td><a class=\"ProveItLink\" href=\"../ecc3c58a9897ba541ec19be82e54ee986957c4200/expr.ipynb\"><img src=\"../ecc3c58a9897ba541ec19be82e54ee986957c4200/expr.png\" style=\"display:inline;vertical-align:middle;\" /></a></td></tr>\n",
       "<tr><td>17</td><td>Operation</td><td>operator:&nbsp;21<br>operands:&nbsp;20<br></td><td><a class=\"ProveItLink\" href=\"../1e70ae69f91877f64a342c00f786c9ce5a8bd5a10/expr.ipynb\"><img src=\"../1e70ae69f91877f64a342c00f786c9ce5a8bd5a10/expr.png\" style=\"display:inline;vertical-align:middle;\" /></a></td></tr>\n",
       "<tr><td>18</td><td>Operation</td><td>operator:&nbsp;21<br>operands:&nbsp;22<br></td><td><a class=\"ProveItLink\" href=\"../4026f6e6000382c8a94f1aa1f00e22b402500c370/expr.ipynb\"><img src=\"../4026f6e6000382c8a94f1aa1f00e22b402500c370/expr.png\" style=\"display:inline;vertical-align:middle;\" /></a></td></tr>\n",
       "<tr><td>19</td><td>Literal</td><td></td><td><a class=\"ProveItLink\" href=\"../../../../../../numbers/number_sets/natural_numbers/__pv_it/common/8b7c321957f52ed3b05b36af612eeae4fa4783bc0/expr.ipynb\"><img src=\"../../../../../../numbers/number_sets/natural_numbers/__pv_it/common/8b7c321957f52ed3b05b36af612eeae4fa4783bc0/expr.png\" style=\"display:inline;vertical-align:middle;\" /></a></td></tr>\n",
       "<tr><td>20</td><td>ExprTuple</td><td>24</td><td><a class=\"ProveItLink\" href=\"../d64e0d0133a6bbc8cf8dc807566d19b58dc7ca1a0/expr.ipynb\"><img src=\"../d64e0d0133a6bbc8cf8dc807566d19b58dc7ca1a0/expr.png\" style=\"display:inline;vertical-align:middle;\" /></a></td></tr>\n",
       "<tr><td>21</td><td>Literal</td><td></td><td><a class=\"ProveItLink\" href=\"../../common/42118ff318bd65d98b1393f64ce7c2269feef76e0/expr.ipynb\"><img src=\"../../common/42118ff318bd65d98b1393f64ce7c2269feef76e0/expr.png\" style=\"display:inline;vertical-align:middle;\" /></a></td></tr>\n",
       "<tr><td>22</td><td>ExprTuple</td><td>23, 24, 25</td><td><a class=\"ProveItLink\" href=\"../9ca01dac5b889d685c06755f71b60c6b1d3da6490/expr.ipynb\"><img src=\"../9ca01dac5b889d685c06755f71b60c6b1d3da6490/expr.png\" style=\"display:inline;vertical-align:middle;\" /></a></td></tr>\n",
       "<tr><td>23</td><td>ExprRange</td><td>lambda_map:&nbsp;26<br>start_index:&nbsp;31<br>end_index:&nbsp;27<br></td><td><a class=\"ProveItLink\" href=\"../../../../../../core_expr_types/__pv_it/common/a661ce209a2c221820bbff00e1d4b098820c37af0/expr.ipynb\"><img src=\"../../../../../../core_expr_types/__pv_it/common/a661ce209a2c221820bbff00e1d4b098820c37af0/expr.png\" style=\"display:inline;vertical-align:middle;\" /></a></td></tr>\n",
       "<tr><td>24</td><td>ExprRange</td><td>lambda_map:&nbsp;28<br>start_index:&nbsp;31<br>end_index:&nbsp;29<br></td><td><a class=\"ProveItLink\" href=\"../../../../../../core_expr_types/__pv_it/common/fee611567f2a92d4a4191651639f02d5571d04e40/expr.ipynb\"><img src=\"../../../../../../core_expr_types/__pv_it/common/fee611567f2a92d4a4191651639f02d5571d04e40/expr.png\" style=\"display:inline;vertical-align:middle;\" /></a></td></tr>\n",
       "<tr><td>25</td><td>ExprRange</td><td>lambda_map:&nbsp;30<br>start_index:&nbsp;31<br>end_index:&nbsp;32<br></td><td><a class=\"ProveItLink\" href=\"../../../../../../core_expr_types/__pv_it/common/e7504afc0aea2366fbf28183721351f04720dfad0/expr.ipynb\"><img src=\"../../../../../../core_expr_types/__pv_it/common/e7504afc0aea2366fbf28183721351f04720dfad0/expr.png\" style=\"display:inline;vertical-align:middle;\" /></a></td></tr>\n",
       "<tr><td>26</td><td>Lambda</td><td>parameter:&nbsp;40<br>body:&nbsp;33<br></td><td><a class=\"ProveItLink\" href=\"../../../../../../core_expr_types/__pv_it/common/9332289e845003c758afc3bcee43498ae784f2d90/expr.ipynb\"><img src=\"../../../../../../core_expr_types/__pv_it/common/9332289e845003c758afc3bcee43498ae784f2d90/expr.png\" style=\"display:inline;vertical-align:middle;\" /></a></td></tr>\n",
       "<tr><td>27</td><td>Variable</td><td></td><td><a class=\"ProveItLink\" href=\"../../../../../../__pv_it/common/27cc275d44b4f4499fb9ccfb3fab1a98165d2fa60/expr.ipynb\"><img src=\"../../../../../../__pv_it/common/27cc275d44b4f4499fb9ccfb3fab1a98165d2fa60/expr.png\" style=\"display:inline;vertical-align:middle;\" /></a></td></tr>\n",
       "<tr><td>28</td><td>Lambda</td><td>parameter:&nbsp;40<br>body:&nbsp;34<br></td><td><a class=\"ProveItLink\" href=\"../../../../../../core_expr_types/__pv_it/common/d51b6313a4eb9f8dc367ca4753f290af006fadbb0/expr.ipynb\"><img src=\"../../../../../../core_expr_types/__pv_it/common/d51b6313a4eb9f8dc367ca4753f290af006fadbb0/expr.png\" style=\"display:inline;vertical-align:middle;\" /></a></td></tr>\n",
       "<tr><td>29</td><td>Variable</td><td></td><td><a class=\"ProveItLink\" href=\"../../../../../../__pv_it/common/674a03b9c3ca221b3aabd5636837b31528ff33830/expr.ipynb\"><img src=\"../../../../../../__pv_it/common/674a03b9c3ca221b3aabd5636837b31528ff33830/expr.png\" style=\"display:inline;vertical-align:middle;\" /></a></td></tr>\n",
       "<tr><td>30</td><td>Lambda</td><td>parameter:&nbsp;40<br>body:&nbsp;35<br></td><td><a class=\"ProveItLink\" href=\"../../../../../../core_expr_types/__pv_it/common/c9399abb980047fe39e716f375f641a4494b404b0/expr.ipynb\"><img src=\"../../../../../../core_expr_types/__pv_it/common/c9399abb980047fe39e716f375f641a4494b404b0/expr.png\" style=\"display:inline;vertical-align:middle;\" /></a></td></tr>\n",
       "<tr><td>31</td><td>Literal</td><td></td><td><a class=\"ProveItLink\" href=\"../../../../../../numbers/numerals/__pv_it/common/682157d4892d216d9e5626ed533aff9b56b9506e0/expr.ipynb\"><img src=\"../../../../../../numbers/numerals/__pv_it/common/682157d4892d216d9e5626ed533aff9b56b9506e0/expr.png\" style=\"display:inline;vertical-align:middle;\" /></a></td></tr>\n",
       "<tr><td>32</td><td>Variable</td><td></td><td><a class=\"ProveItLink\" href=\"../../../../../../__pv_it/common/8968bb04eb3f7dfa02353397ce929b025bbd79c20/expr.ipynb\"><img src=\"../../../../../../__pv_it/common/8968bb04eb3f7dfa02353397ce929b025bbd79c20/expr.png\" style=\"display:inline;vertical-align:middle;\" /></a></td></tr>\n",
       "<tr><td>33</td><td>IndexedVar</td><td>variable:&nbsp;36<br>index:&nbsp;40<br></td><td><a class=\"ProveItLink\" href=\"../../../../../../core_expr_types/__pv_it/common/9fdaaadf1b3d81a308244818dc08833e7f5035730/expr.ipynb\"><img src=\"../../../../../../core_expr_types/__pv_it/common/9fdaaadf1b3d81a308244818dc08833e7f5035730/expr.png\" style=\"display:inline;vertical-align:middle;\" /></a></td></tr>\n",
       "<tr><td>34</td><td>IndexedVar</td><td>variable:&nbsp;37<br>index:&nbsp;40<br></td><td><a class=\"ProveItLink\" href=\"../../../../../../core_expr_types/__pv_it/common/d1b4c772326349c6e4ef6ad6defb9c61a45fc9d80/expr.ipynb\"><img src=\"../../../../../../core_expr_types/__pv_it/common/d1b4c772326349c6e4ef6ad6defb9c61a45fc9d80/expr.png\" style=\"display:inline;vertical-align:middle;\" /></a></td></tr>\n",
       "<tr><td>35</td><td>IndexedVar</td><td>variable:&nbsp;38<br>index:&nbsp;40<br></td><td><a class=\"ProveItLink\" href=\"../../../../../../core_expr_types/__pv_it/common/f756bc205d05c1af04e1aeeb7a42469b1e89f9cf0/expr.ipynb\"><img src=\"../../../../../../core_expr_types/__pv_it/common/f756bc205d05c1af04e1aeeb7a42469b1e89f9cf0/expr.png\" style=\"display:inline;vertical-align:middle;\" /></a></td></tr>\n",
       "<tr><td>36</td><td>Variable</td><td></td><td><a class=\"ProveItLink\" href=\"../../../../../../__pv_it/common/09585084922504426caf1db2ff588a23a0932a960/expr.ipynb\"><img src=\"../../../../../../__pv_it/common/09585084922504426caf1db2ff588a23a0932a960/expr.png\" style=\"display:inline;vertical-align:middle;\" /></a></td></tr>\n",
       "<tr><td>37</td><td>Variable</td><td></td><td><a class=\"ProveItLink\" href=\"../../../../../../__pv_it/common/a9162d1c3cc0470c02e5daf414500903a7a419230/expr.ipynb\"><img src=\"../../../../../../__pv_it/common/a9162d1c3cc0470c02e5daf414500903a7a419230/expr.png\" style=\"display:inline;vertical-align:middle;\" /></a></td></tr>\n",
       "<tr><td>38</td><td>Variable</td><td></td><td><a class=\"ProveItLink\" href=\"../../../../../../__pv_it/common/9fba9f29e823606ff4fdf2f1c6d5d08d906e850a0/expr.ipynb\"><img src=\"../../../../../../__pv_it/common/9fba9f29e823606ff4fdf2f1c6d5d08d906e850a0/expr.png\" style=\"display:inline;vertical-align:middle;\" /></a></td></tr>\n",
       "<tr><td>39</td><td>ExprTuple</td><td>40</td><td><a class=\"ProveItLink\" href=\"../../../../../../core_expr_types/__pv_it/common/4b0dd6be36d76552eda6a95d5b4a27f5a5b62f900/expr.ipynb\"><img src=\"../../../../../../core_expr_types/__pv_it/common/4b0dd6be36d76552eda6a95d5b4a27f5a5b62f900/expr.png\" style=\"display:inline;vertical-align:middle;\" /></a></td></tr>\n",
       "<tr><td>40</td><td>Variable</td><td></td><td><a class=\"ProveItLink\" href=\"../../../../../../core_expr_types/__pv_it/common/006c465e50948aa2b52285e2de47974f741255cc0/expr.ipynb\"><img src=\"../../../../../../core_expr_types/__pv_it/common/006c465e50948aa2b52285e2de47974f741255cc0/expr.png\" style=\"display:inline;vertical-align:middle;\" /></a></td></tr>\n",
       "</table>\n"
      ],
      "text/plain": [
       "0. (l, m, n) -> {forall_{A_{1}, A_{2}, ..., A_{l}, B_{1}, B_{2}, ..., B_{m}, C_{1}, C_{2}, ..., C_{n} | A_{1}, A_{2}, ..., A_{l},B_{1}, B_{2}, ..., B_{m},C_{1}, C_{2}, ..., C_{n}} (B_{1} and  B_{2} and  ... and  B_{m}) if l in Natural ,  m in Natural ,  n in Natural.\n",
       "   core type: Lambda\n",
       "   parameters: 1\\n   body: 2\n",
       "1. (l, m, n)\n",
       "   core type: ExprTuple\n",
       "   sub-expressions: 27, 29, 32\n",
       "2. {forall_{A_{1}, A_{2}, ..., A_{l}, B_{1}, B_{2}, ..., B_{m}, C_{1}, C_{2}, ..., C_{n} | A_{1}, A_{2}, ..., A_{l},B_{1}, B_{2}, ..., B_{m},C_{1}, C_{2}, ..., C_{n}} (B_{1} and  B_{2} and  ... and  B_{m}) if l in Natural ,  m in Natural ,  n in Natural.\n",
       "   core type: Conditional\n",
       "   value: 3\n",
       "   condition: 4\n",
       "3. forall_{A_{1}, A_{2}, ..., A_{l}, B_{1}, B_{2}, ..., B_{m}, C_{1}, C_{2}, ..., C_{n} | A_{1}, A_{2}, ..., A_{l},B_{1}, B_{2}, ..., B_{m},C_{1}, C_{2}, ..., C_{n}} (B_{1} and  B_{2} and  ... and  B_{m})\n",
       "   core type: Operation\n",
       "   operator: 5\n",
       "   operand: 8\n",
       "4. (l in Natural) and (m in Natural) and (n in Natural)\n",
       "   core type: Operation\n",
       "   operator: 21\n",
       "   operands: 7\n",
       "5. forall\n",
       "   core type: Literal\n",
       "   sub-expressions: \n",
       "6. ((A_{1}, A_{2}, ..., A_{l}, B_{1}, B_{2}, ..., B_{m}, C_{1}, C_{2}, ..., C_{n}) -> {B_{1} and  B_{2} and  ... and  B_{m} if A_{1} ,  A_{2} ,  ... ,  A_{l}, B_{1} ,  B_{2} ,  ... ,  B_{m}, C_{1} ,  C_{2} ,  ... ,  C_{n}.)\n",
       "   core type: ExprTuple\n",
       "   sub-expressions: 8\n",
       "7. (l in Natural, m in Natural, n in Natural)\n",
       "   core type: ExprTuple\n",
       "   sub-expressions: 9, 10, 11\n",
       "8. (A_{1}, A_{2}, ..., A_{l}, B_{1}, B_{2}, ..., B_{m}, C_{1}, C_{2}, ..., C_{n}) -> {B_{1} and  B_{2} and  ... and  B_{m} if A_{1} ,  A_{2} ,  ... ,  A_{l}, B_{1} ,  B_{2} ,  ... ,  B_{m}, C_{1} ,  C_{2} ,  ... ,  C_{n}.\n",
       "   core type: Lambda\n",
       "   parameters: 22\\n   body: 12\n",
       "9. l in Natural\n",
       "   core type: Operation\n",
       "   operator: 15\n",
       "   operands: 13\n",
       "10. m in Natural\n",
       "    core type: Operation\n",
       "    operator: 15\n",
       "    operands: 14\n",
       "11. n in Natural\n",
       "    core type: Operation\n",
       "    operator: 15\n",
       "    operands: 16\n",
       "12. {B_{1} and  B_{2} and  ... and  B_{m} if A_{1} ,  A_{2} ,  ... ,  A_{l}, B_{1} ,  B_{2} ,  ... ,  B_{m}, C_{1} ,  C_{2} ,  ... ,  C_{n}.\n",
       "    core type: Conditional\n",
       "    value: 17\n",
       "    condition: 18\n",
       "13. (l, Natural)\n",
       "    core type: ExprTuple\n",
       "    sub-expressions: 27, 19\n",
       "14. (m, Natural)\n",
       "    core type: ExprTuple\n",
       "    sub-expressions: 29, 19\n",
       "15. in\n",
       "    core type: Literal\n",
       "    sub-expressions: \n",
       "16. (n, Natural)\n",
       "    core type: ExprTuple\n",
       "    sub-expressions: 32, 19\n",
       "17. B_{1} and  B_{2} and  ... and  B_{m}\n",
       "    core type: Operation\n",
       "    operator: 21\n",
       "    operands: 20\n",
       "18. A_{1} and  A_{2} and  ... and  A_{l}and B_{1} and  B_{2} and  ... and  B_{m}and C_{1} and  C_{2} and  ... and  C_{n}\n",
       "    core type: Operation\n",
       "    operator: 21\n",
       "    operands: 22\n",
       "19. Natural\n",
       "    core type: Literal\n",
       "    sub-expressions: \n",
       "20. (B_{1}, B_{2}, ..., B_{m})\n",
       "    core type: ExprTuple\n",
       "    sub-expressions: 24\n",
       "21. and\n",
       "    core type: Literal\n",
       "    sub-expressions: \n",
       "22. (A_{1}, A_{2}, ..., A_{l},B_{1}, B_{2}, ..., B_{m},C_{1}, C_{2}, ..., C_{n})\n",
       "    core type: ExprTuple\n",
       "    sub-expressions: 23, 24, 25\n",
       "23. A_{1}, A_{2}, ..., A_{l}\n",
       "    core type: ExprRange\n",
       "    lambda_map: 26\n",
       "    start_index: 31\n",
       "    end_index: 27\n",
       "24. B_{1}, B_{2}, ..., B_{m}\n",
       "    core type: ExprRange\n",
       "    lambda_map: 28\n",
       "    start_index: 31\n",
       "    end_index: 29\n",
       "25. C_{1}, C_{2}, ..., C_{n}\n",
       "    core type: ExprRange\n",
       "    lambda_map: 30\n",
       "    start_index: 31\n",
       "    end_index: 32\n",
       "26. _a -> A_{_a}\n",
       "    core type: Lambda\n",
       "    parameter: 40\n",
       "    body: 33\n",
       "27. l\n",
       "    core type: Variable\n",
       "    sub-expressions: \n",
       "28. _a -> B_{_a}\n",
       "    core type: Lambda\n",
       "    parameter: 40\n",
       "    body: 34\n",
       "29. m\n",
       "    core type: Variable\n",
       "    sub-expressions: \n",
       "30. _a -> C_{_a}\n",
       "    core type: Lambda\n",
       "    parameter: 40\n",
       "    body: 35\n",
       "31. 1\n",
       "    core type: Literal\n",
       "    sub-expressions: \n",
       "32. n\n",
       "    core type: Variable\n",
       "    sub-expressions: \n",
       "33. A_{_a}\n",
       "    core type: IndexedVar\n",
       "variable: 36\n",
       "index: 40\n",
       "34. B_{_a}\n",
       "    core type: IndexedVar\n",
       "variable: 37\n",
       "index: 40\n",
       "35. C_{_a}\n",
       "    core type: IndexedVar\n",
       "variable: 38\n",
       "index: 40\n",
       "36. A\n",
       "    core type: Variable\n",
       "    sub-expressions: \n",
       "37. B\n",
       "    core type: Variable\n",
       "    sub-expressions: \n",
       "38. C\n",
       "    core type: Variable\n",
       "    sub-expressions: \n",
       "39. (_a)\n",
       "    core type: ExprTuple\n",
       "    sub-expressions: 40\n",
       "40. _a\n",
       "    core type: Variable\n",
       "    sub-expressions: "
      ]
     },
     "metadata": {},
     "output_type": "display_data"
    }
   ],
   "source": [
    "# display the expression information\n",
    "stored_expr.expr_info()"
   ]
  },
  {
   "cell_type": "code",
   "execution_count": null,
   "metadata": {},
   "outputs": [],
   "source": []
  }
 ],
 "metadata": {
  "kernelspec": {
   "display_name": "Python 3",
   "language": "python",
   "name": "python3"
  }
 },
 "nbformat": 4,
 "nbformat_minor": 0
}