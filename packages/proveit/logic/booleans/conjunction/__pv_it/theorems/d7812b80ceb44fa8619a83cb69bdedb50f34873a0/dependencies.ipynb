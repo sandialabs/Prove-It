{
 "cells": [
  {
   "cell_type": "markdown",
   "metadata": {},
   "source": [
    "Theorem Dependencies\n",
    "=======================\n",
    "\n",
    "## <a class=\"ProveItLink\" href=\"../../../_theory_nbs_/theory.ipynb\">proveit.logic.booleans.conjunction</a>.<a class=\"ProveItLink\" href=\"../../../_theorems_.ipynb#conjunction_from_quantification\">conjunction_from_quantification</a> \n",
    "***see <a class=\"ProveItLink\" href=\"../../../_theory_nbs_/proofs/conjunction_from_quantification/thm_proof.ipynb\">proof</a>***"
   ]
  },
  {
   "cell_type": "code",
   "execution_count": 1,
   "metadata": {},
   "outputs": [],
   "source": [
    "import proveit\n",
    "# Automation is not needed when querying dependencies:\n",
    "proveit.defaults.automation = False # This will speed things up.\n",
    "proveit.defaults.inline_pngs = False # Makes files smaller.\n",
    "from proveit.logic.booleans.conjunction import conjunction_from_quantification"
   ]
  },
  {
   "cell_type": "code",
   "execution_count": 2,
   "metadata": {},
   "outputs": [
    {
     "data": {
      "text/html": [
       "<h3>Unproven conjectures required (directly or indirectly) to prove conjunction_from_quantification</h3>"
      ],
      "text/plain": [
       "<IPython.core.display.HTML object>"
      ]
     },
     "metadata": {},
     "output_type": "display_data"
    },
    {
     "data": {
      "text/html": [
       "<dl>"
      ],
      "text/plain": [
       "<IPython.core.display.HTML object>"
      ]
     },
     "metadata": {},
     "output_type": "display_data"
    },
    {
     "data": {
      "text/html": [
       "<dt><a class=\"ProveItLink\" href=\"../../../_theory_nbs_/proofs/conjunction_from_quantification/thm_proof.ipynb\">proveit.logic.booleans.conjunction.conjunction_from_quantification</a></dt><dd><a class=\"ProveItLink\" href=\"../54731e77934516c4ba604eb6bb7671e4e5da4bf90/expr.ipynb\"><img src=\"../54731e77934516c4ba604eb6bb7671e4e5da4bf90/expr.png\" style=\"display:inline;vertical-align:middle;\" /></a></dd>"
      ],
      "text/plain": [
       "<IPython.core.display.HTML object>"
      ]
     },
     "metadata": {},
     "output_type": "display_data"
    },
    {
     "data": {
      "text/html": [
       "</dl>"
      ],
      "text/plain": [
       "<IPython.core.display.HTML object>"
      ]
     },
     "metadata": {},
     "output_type": "display_data"
    },
    {
     "data": {
      "text/html": [
       "<h3>Theorems/conjectures that depend directly on conjunction_from_quantification</h3>"
      ],
      "text/plain": [
       "<IPython.core.display.HTML object>"
      ]
     },
     "metadata": {},
     "output_type": "display_data"
    },
    {
     "data": {
      "text/html": [
       "<dl>"
      ],
      "text/plain": [
       "<IPython.core.display.HTML object>"
      ]
     },
     "metadata": {},
     "output_type": "display_data"
    },
    {
     "data": {
      "text/html": [
       "<dt><a class=\"ProveItLink\" href=\"../../../../../../physics/quantum/QPE/_theory_nbs_/proofs/_psi_t_formula/thm_proof.ipynb\">proveit.physics.quantum.QPE._psi_t_formula</a></dt><dd><a class=\"ProveItLink\" href=\"../../../../../../physics/quantum/QPE/__pv_it/theorems/a88ec0c8744e13505b853b6e58491d95dad52e200/expr.ipynb\"><img src=\"../../../../../../physics/quantum/QPE/__pv_it/theorems/a88ec0c8744e13505b853b6e58491d95dad52e200/expr.png\" style=\"display:inline;vertical-align:middle;\" /></a></dd>"
      ],
      "text/plain": [
       "<IPython.core.display.HTML object>"
      ]
     },
     "metadata": {},
     "output_type": "display_data"
    },
    {
     "data": {
      "text/html": [
       "<dt><a class=\"ProveItLink\" href=\"../../../../../../physics/quantum/QPE/_theory_nbs_/proofs/_psi_t_ket_is_normalized_vec/thm_proof.ipynb\">proveit.physics.quantum.QPE._psi_t_ket_is_normalized_vec</a></dt><dd><a class=\"ProveItLink\" href=\"../../../../../../physics/quantum/QPE/__pv_it/theorems/69597cdddc096bf354ec5966375a5dcaab3ca1330/expr.ipynb\"><img src=\"../../../../../../physics/quantum/QPE/__pv_it/theorems/69597cdddc096bf354ec5966375a5dcaab3ca1330/expr.png\" style=\"display:inline;vertical-align:middle;\" /></a></dd>"
      ],
      "text/plain": [
       "<IPython.core.display.HTML object>"
      ]
     },
     "metadata": {},
     "output_type": "display_data"
    },
    {
     "data": {
      "text/html": [
       "<dt><a class=\"ProveItLink\" href=\"../../../../../../physics/quantum/QPE/_theory_nbs_/proofs/_psi_t_output/thm_proof.ipynb\">proveit.physics.quantum.QPE._psi_t_output</a></dt><dd><a class=\"ProveItLink\" href=\"../../../../../../physics/quantum/QPE/__pv_it/theorems/9b181729ed3394d57688549d190362cf6d9b29160/expr.ipynb\"><img src=\"../../../../../../physics/quantum/QPE/__pv_it/theorems/9b181729ed3394d57688549d190362cf6d9b29160/expr.png\" style=\"display:inline;vertical-align:middle;\" /></a></dd>"
      ],
      "text/plain": [
       "<IPython.core.display.HTML object>"
      ]
     },
     "metadata": {},
     "output_type": "display_data"
    },
    {
     "data": {
      "text/html": [
       "<dt><a class=\"ProveItLink\" href=\"../../../../../../physics/quantum/QPE/_theory_nbs_/proofs/_sample_space_bijection/thm_proof.ipynb\">proveit.physics.quantum.QPE._sample_space_bijection</a></dt><dd><a class=\"ProveItLink\" href=\"../../../../../../physics/quantum/QPE/__pv_it/theorems/91fba8b309d1fbf4f0fe0f0926d36af207e4f2da0/expr.ipynb\"><img src=\"../../../../../../physics/quantum/QPE/__pv_it/theorems/91fba8b309d1fbf4f0fe0f0926d36af207e4f2da0/expr.png\" style=\"display:inline;vertical-align:middle;\" /></a></dd>"
      ],
      "text/plain": [
       "<IPython.core.display.HTML object>"
      ]
     },
     "metadata": {},
     "output_type": "display_data"
    },
    {
     "data": {
      "text/html": [
       "</dl>"
      ],
      "text/plain": [
       "<IPython.core.display.HTML object>"
      ]
     },
     "metadata": {},
     "output_type": "display_data"
    }
   ],
   "source": [
    "%dependencies conjunction_from_quantification"
   ]
  }
 ],
 "metadata": {
  "kernelspec": {
   "display_name": "Python 3",
   "language": "python",
   "name": "python3"
  }
 },
 "nbformat": 4,
 "nbformat_minor": 0
}