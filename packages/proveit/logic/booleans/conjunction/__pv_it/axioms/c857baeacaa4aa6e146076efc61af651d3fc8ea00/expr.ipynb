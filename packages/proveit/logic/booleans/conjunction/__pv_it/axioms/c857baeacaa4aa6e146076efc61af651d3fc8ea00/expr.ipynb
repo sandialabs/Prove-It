{
 "cells": [
  {
   "cell_type": "markdown",
   "metadata": {},
   "source": [
    "Expression of type <a class=\"ProveItLink\" href=\"../../../../../../../../doc/html/api/proveit.logic.Forall.html\">Forall</a>\n",
    "=======================\n",
    "# from the theory of <a class=\"ProveItLink\" href=\"../../../_theory_nbs_/theory.ipynb\">proveit.logic.booleans.conjunction</a>"
   ]
  },
  {
   "cell_type": "code",
   "execution_count": 1,
   "metadata": {},
   "outputs": [],
   "source": [
    "import proveit\n",
    "# Automation is not needed when building an expression:\n",
    "proveit.defaults.automation = False # This will speed things up.\n",
    "proveit.defaults.inline_pngs = False # Makes files smaller.\n",
    "%load_expr # Load the stored expression as 'stored_expr'\n",
    "# import Expression classes needed to build the expression\n",
    "from proveit import B, m\n",
    "from proveit.core_expr_types import A_1_to_m\n",
    "from proveit.logic import And, Equals, Forall\n",
    "from proveit.numbers import Natural"
   ]
  },
  {
   "cell_type": "code",
   "execution_count": 2,
   "metadata": {},
   "outputs": [
    {
     "data": {
      "text/html": [
       "<strong id=\"expr\">expr:</strong> <a class=\"ProveItLink\" href=\"expr.ipynb\"><img src=\"expr.png\" style=\"display:inline;vertical-align:middle;\" /></a><br>"
      ],
      "text/plain": [
       "<IPython.core.display.HTML object>"
      ]
     },
     "metadata": {},
     "output_type": "display_data"
    }
   ],
   "source": [
    "# build up the expression from sub-expressions\n",
    "expr = Forall(instance_param_or_params = [m], instance_expr = Forall(instance_param_or_params = [A_1_to_m, B], instance_expr = Equals(And(A_1_to_m, B), And(And(A_1_to_m), B)).with_wrapping_at(2)), domain = Natural)"
   ]
  },
  {
   "cell_type": "code",
   "execution_count": 3,
   "metadata": {},
   "outputs": [
    {
     "name": "stdout",
     "output_type": "stream",
     "text": [
      "Passed sanity check: expr matches stored_expr\n"
     ]
    }
   ],
   "source": [
    "# check that the built expression is the same as the stored expression\n",
    "assert expr == stored_expr\n",
    "assert expr._style_id == stored_expr._style_id\n",
    "print(\"Passed sanity check: expr matches stored_expr\")"
   ]
  },
  {
   "cell_type": "code",
   "execution_count": 4,
   "metadata": {},
   "outputs": [
    {
     "name": "stdout",
     "output_type": "stream",
     "text": [
      "\\forall_{m \\in \\mathbb{N}}~\\left[\\forall_{A_{1}, A_{2}, \\ldots, A_{m}, B}~\\left(\\begin{array}{c} \\begin{array}{l} \\left(A_{1} \\land  A_{2} \\land  \\ldots \\land  A_{m} \\land B\\right) =  \\\\ \\left(\\left(A_{1} \\land  A_{2} \\land  \\ldots \\land  A_{m}\\right) \\land B\\right) \\end{array} \\end{array}\\right)\\right]\n"
     ]
    }
   ],
   "source": [
    "# Show the LaTeX representation of the expression for convenience if you need it.\n",
    "print(stored_expr.latex())"
   ]
  },
  {
   "cell_type": "code",
   "execution_count": 5,
   "metadata": {},
   "outputs": [
    {
     "data": {
      "text/html": [
       "<table>\n",
       "<tr><th>name</th><th>description</th><th>default</th><th>current value</th><th>related methods</th></tr><tr><td>with_wrapping</td><td>If 'True', wrap the Expression after the parameters</td><td>None</td><td>None/False</td><td>('with_wrapping',)</td></tr>\n",
       "<tr><td>condition_wrapping</td><td>Wrap 'before' or 'after' the condition (or None).</td><td>None</td><td>None/False</td><td>('with_wrap_after_condition', 'with_wrap_before_condition')</td></tr>\n",
       "<tr><td>wrap_params</td><td>If 'True', wraps every two parameters AND wraps the Expression after the parameters</td><td>None</td><td>None/False</td><td>('with_params',)</td></tr>\n",
       "<tr><td>justification</td><td>justify to the 'left', 'center', or 'right' in the array cells</td><td>center</td><td>center</td><td>('with_justification',)</td></tr>\n",
       "</table>\n"
      ],
      "text/plain": [
       "style name: with_wrapping\n",
       "description: If 'True', wrap the Expression after the parameters\n",
       "default: None\n",
       "current value: None/False\n",
       "related methods: ('with_wrapping',)\n",
       "style name: condition_wrapping\n",
       "description: Wrap 'before' or 'after' the condition (or None).\n",
       "default: None\n",
       "current value: None/False\n",
       "related methods: ('with_wrap_after_condition', 'with_wrap_before_condition')\n",
       "style name: wrap_params\n",
       "description: If 'True', wraps every two parameters AND wraps the Expression after the parameters\n",
       "default: None\n",
       "current value: None/False\n",
       "related methods: ('with_params',)\n",
       "style name: justification\n",
       "description: justify to the 'left', 'center', or 'right' in the array cells\n",
       "default: center\n",
       "current value: center\n",
       "related methods: ('with_justification',)"
      ]
     },
     "metadata": {},
     "output_type": "display_data"
    }
   ],
   "source": [
    "stored_expr.style_options()"
   ]
  },
  {
   "cell_type": "code",
   "execution_count": 6,
   "metadata": {},
   "outputs": [
    {
     "data": {
      "text/html": [
       "<table><tr><th>&nbsp;</th><th>core type</th><th>sub-expressions</th><th>expression</th></tr>\n",
       "<tr><td>0</td><td>Operation</td><td>operator:&nbsp;7<br>operand:&nbsp;2<br></td><td><a class=\"ProveItLink\" href=\"expr.ipynb\"><img src=\"expr.png\" style=\"display:inline;vertical-align:middle;\" /></a></td></tr>\n",
       "<tr><td>1</td><td>ExprTuple</td><td>2</td><td><a class=\"ProveItLink\" href=\"../039de35d779005d34a7b7405220edf87591abf680/expr.ipynb\"><img src=\"../039de35d779005d34a7b7405220edf87591abf680/expr.png\" style=\"display:inline;vertical-align:middle;\" /></a></td></tr>\n",
       "<tr><td>2</td><td>Lambda</td><td>parameter:&nbsp;27<br>body:&nbsp;4<br></td><td><a class=\"ProveItLink\" href=\"../2a597b0075fa84363309f23a655cb659c99d5f770/expr.ipynb\"><img src=\"../2a597b0075fa84363309f23a655cb659c99d5f770/expr.png\" style=\"display:inline;vertical-align:middle;\" /></a></td></tr>\n",
       "<tr><td>3</td><td>ExprTuple</td><td>27</td><td><a class=\"ProveItLink\" href=\"../2ed45ad9602ac89076225577ef477d88f8c5a1790/expr.ipynb\"><img src=\"../2ed45ad9602ac89076225577ef477d88f8c5a1790/expr.png\" style=\"display:inline;vertical-align:middle;\" /></a></td></tr>\n",
       "<tr><td>4</td><td>Conditional</td><td>value:&nbsp;5<br>condition:&nbsp;6<br></td><td><a class=\"ProveItLink\" href=\"../fc2e7ddc8b9fee0c624557f2e37815e822ec80ba0/expr.ipynb\"><img src=\"../fc2e7ddc8b9fee0c624557f2e37815e822ec80ba0/expr.png\" style=\"display:inline;vertical-align:middle;\" /></a></td></tr>\n",
       "<tr><td>5</td><td>Operation</td><td>operator:&nbsp;7<br>operand:&nbsp;11<br></td><td><a class=\"ProveItLink\" href=\"../1c39a8962ab09b3f76629a5850d8251eefb53ee10/expr.ipynb\"><img src=\"../1c39a8962ab09b3f76629a5850d8251eefb53ee10/expr.png\" style=\"display:inline;vertical-align:middle;\" /></a></td></tr>\n",
       "<tr><td>6</td><td>Operation</td><td>operator:&nbsp;9<br>operands:&nbsp;10<br></td><td><a class=\"ProveItLink\" href=\"../22736ce9d3a37303b26f11de823dee236fdf12440/expr.ipynb\"><img src=\"../22736ce9d3a37303b26f11de823dee236fdf12440/expr.png\" style=\"display:inline;vertical-align:middle;\" /></a></td></tr>\n",
       "<tr><td>7</td><td>Literal</td><td></td><td><a class=\"ProveItLink\" href=\"../../../../quantification/universality/__pv_it/common/083d2baa0b8ecab1d230f9ec29a15aa1355809fb0/expr.ipynb\"><img src=\"../../../../quantification/universality/__pv_it/common/083d2baa0b8ecab1d230f9ec29a15aa1355809fb0/expr.png\" style=\"display:inline;vertical-align:middle;\" /></a></td></tr>\n",
       "<tr><td>8</td><td>ExprTuple</td><td>11</td><td><a class=\"ProveItLink\" href=\"../4a0fe4406def92b001c0e2133e730908690f3d760/expr.ipynb\"><img src=\"../4a0fe4406def92b001c0e2133e730908690f3d760/expr.png\" style=\"display:inline;vertical-align:middle;\" /></a></td></tr>\n",
       "<tr><td>9</td><td>Literal</td><td></td><td><a class=\"ProveItLink\" href=\"../../../../../sets/membership/__pv_it/common/477487d8796864d23d5810f83761435f25167f690/expr.ipynb\"><img src=\"../../../../../sets/membership/__pv_it/common/477487d8796864d23d5810f83761435f25167f690/expr.png\" style=\"display:inline;vertical-align:middle;\" /></a></td></tr>\n",
       "<tr><td>10</td><td>ExprTuple</td><td>27, 12</td><td><a class=\"ProveItLink\" href=\"../0d6c99f0fbf307a57c36a9642312d22b5ef7d9810/expr.ipynb\"><img src=\"../0d6c99f0fbf307a57c36a9642312d22b5ef7d9810/expr.png\" style=\"display:inline;vertical-align:middle;\" /></a></td></tr>\n",
       "<tr><td>11</td><td>Lambda</td><td>parameters:&nbsp;18<br>body:&nbsp;13<br></td><td><a class=\"ProveItLink\" href=\"../b0cee3033523d9671a216af2ffb0f73c29b1effa0/expr.ipynb\"><img src=\"../b0cee3033523d9671a216af2ffb0f73c29b1effa0/expr.png\" style=\"display:inline;vertical-align:middle;\" /></a></td></tr>\n",
       "<tr><td>12</td><td>Literal</td><td></td><td><a class=\"ProveItLink\" href=\"../../../../../../numbers/number_sets/natural_numbers/__pv_it/common/8b7c321957f52ed3b05b36af612eeae4fa4783bc0/expr.ipynb\"><img src=\"../../../../../../numbers/number_sets/natural_numbers/__pv_it/common/8b7c321957f52ed3b05b36af612eeae4fa4783bc0/expr.png\" style=\"display:inline;vertical-align:middle;\" /></a></td></tr>\n",
       "<tr><td>13</td><td>Operation</td><td>operator:&nbsp;14<br>operands:&nbsp;15<br></td><td><a class=\"ProveItLink\" href=\"../bf0e7069694cafe675829042382b1d5c4e9926510/expr.ipynb\"><img src=\"../bf0e7069694cafe675829042382b1d5c4e9926510/expr.png\" style=\"display:inline;vertical-align:middle;\" /></a></td></tr>\n",
       "<tr><td>14</td><td>Literal</td><td></td><td><a class=\"ProveItLink\" href=\"../../../../../equality/__pv_it/common/fb96dc12b2aa8801dda64d0132b396c63d1502bb0/expr.ipynb\"><img src=\"../../../../../equality/__pv_it/common/fb96dc12b2aa8801dda64d0132b396c63d1502bb0/expr.png\" style=\"display:inline;vertical-align:middle;\" /></a></td></tr>\n",
       "<tr><td>15</td><td>ExprTuple</td><td>16, 17</td><td><a class=\"ProveItLink\" href=\"../869766f51d717e2f514f546ea126fd1bd607c7a70/expr.ipynb\"><img src=\"../869766f51d717e2f514f546ea126fd1bd607c7a70/expr.png\" style=\"display:inline;vertical-align:middle;\" /></a></td></tr>\n",
       "<tr><td>16</td><td>Operation</td><td>operator:&nbsp;22<br>operands:&nbsp;18<br></td><td><a class=\"ProveItLink\" href=\"../2863f644a2ec1bd3c6c03043f2fa561a1fd09c800/expr.ipynb\"><img src=\"../2863f644a2ec1bd3c6c03043f2fa561a1fd09c800/expr.png\" style=\"display:inline;vertical-align:middle;\" /></a></td></tr>\n",
       "<tr><td>17</td><td>Operation</td><td>operator:&nbsp;22<br>operands:&nbsp;19<br></td><td><a class=\"ProveItLink\" href=\"../ae74fdc763a1aea054f0eb091dfb8ba0410588d30/expr.ipynb\"><img src=\"../ae74fdc763a1aea054f0eb091dfb8ba0410588d30/expr.png\" style=\"display:inline;vertical-align:middle;\" /></a></td></tr>\n",
       "<tr><td>18</td><td>ExprTuple</td><td>24, 21</td><td><a class=\"ProveItLink\" href=\"../4204ad542ea10490880e1cce6c44f4814247c9fc0/expr.ipynb\"><img src=\"../4204ad542ea10490880e1cce6c44f4814247c9fc0/expr.png\" style=\"display:inline;vertical-align:middle;\" /></a></td></tr>\n",
       "<tr><td>19</td><td>ExprTuple</td><td>20, 21</td><td><a class=\"ProveItLink\" href=\"../ca1fdf1bd596fcf7cdffc7e5fd36fd66323591a50/expr.ipynb\"><img src=\"../ca1fdf1bd596fcf7cdffc7e5fd36fd66323591a50/expr.png\" style=\"display:inline;vertical-align:middle;\" /></a></td></tr>\n",
       "<tr><td>20</td><td>Operation</td><td>operator:&nbsp;22<br>operands:&nbsp;23<br></td><td><a class=\"ProveItLink\" href=\"../979fea90c43ade83e382acdd213d17b696496eed0/expr.ipynb\"><img src=\"../979fea90c43ade83e382acdd213d17b696496eed0/expr.png\" style=\"display:inline;vertical-align:middle;\" /></a></td></tr>\n",
       "<tr><td>21</td><td>Variable</td><td></td><td><a class=\"ProveItLink\" href=\"../../../../../../__pv_it/common/a9162d1c3cc0470c02e5daf414500903a7a419230/expr.ipynb\"><img src=\"../../../../../../__pv_it/common/a9162d1c3cc0470c02e5daf414500903a7a419230/expr.png\" style=\"display:inline;vertical-align:middle;\" /></a></td></tr>\n",
       "<tr><td>22</td><td>Literal</td><td></td><td><a class=\"ProveItLink\" href=\"../../common/42118ff318bd65d98b1393f64ce7c2269feef76e0/expr.ipynb\"><img src=\"../../common/42118ff318bd65d98b1393f64ce7c2269feef76e0/expr.png\" style=\"display:inline;vertical-align:middle;\" /></a></td></tr>\n",
       "<tr><td>23</td><td>ExprTuple</td><td>24</td><td><a class=\"ProveItLink\" href=\"../218b49ecc2fcb674f5eb724d523a787df9bde9a00/expr.ipynb\"><img src=\"../218b49ecc2fcb674f5eb724d523a787df9bde9a00/expr.png\" style=\"display:inline;vertical-align:middle;\" /></a></td></tr>\n",
       "<tr><td>24</td><td>ExprRange</td><td>lambda_map:&nbsp;25<br>start_index:&nbsp;26<br>end_index:&nbsp;27<br></td><td><a class=\"ProveItLink\" href=\"../../../../../../core_expr_types/__pv_it/common/eaccd55f312202b1e754429bdfeaf22333037c330/expr.ipynb\"><img src=\"../../../../../../core_expr_types/__pv_it/common/eaccd55f312202b1e754429bdfeaf22333037c330/expr.png\" style=\"display:inline;vertical-align:middle;\" /></a></td></tr>\n",
       "<tr><td>25</td><td>Lambda</td><td>parameter:&nbsp;31<br>body:&nbsp;28<br></td><td><a class=\"ProveItLink\" href=\"../../../../../../core_expr_types/__pv_it/common/9332289e845003c758afc3bcee43498ae784f2d90/expr.ipynb\"><img src=\"../../../../../../core_expr_types/__pv_it/common/9332289e845003c758afc3bcee43498ae784f2d90/expr.png\" style=\"display:inline;vertical-align:middle;\" /></a></td></tr>\n",
       "<tr><td>26</td><td>Literal</td><td></td><td><a class=\"ProveItLink\" href=\"../../../../../../numbers/numerals/__pv_it/common/682157d4892d216d9e5626ed533aff9b56b9506e0/expr.ipynb\"><img src=\"../../../../../../numbers/numerals/__pv_it/common/682157d4892d216d9e5626ed533aff9b56b9506e0/expr.png\" style=\"display:inline;vertical-align:middle;\" /></a></td></tr>\n",
       "<tr><td>27</td><td>Variable</td><td></td><td><a class=\"ProveItLink\" href=\"../../../../../../__pv_it/common/674a03b9c3ca221b3aabd5636837b31528ff33830/expr.ipynb\"><img src=\"../../../../../../__pv_it/common/674a03b9c3ca221b3aabd5636837b31528ff33830/expr.png\" style=\"display:inline;vertical-align:middle;\" /></a></td></tr>\n",
       "<tr><td>28</td><td>IndexedVar</td><td>variable:&nbsp;29<br>index:&nbsp;31<br></td><td><a class=\"ProveItLink\" href=\"../../../../../../core_expr_types/__pv_it/common/9fdaaadf1b3d81a308244818dc08833e7f5035730/expr.ipynb\"><img src=\"../../../../../../core_expr_types/__pv_it/common/9fdaaadf1b3d81a308244818dc08833e7f5035730/expr.png\" style=\"display:inline;vertical-align:middle;\" /></a></td></tr>\n",
       "<tr><td>29</td><td>Variable</td><td></td><td><a class=\"ProveItLink\" href=\"../../../../../../__pv_it/common/09585084922504426caf1db2ff588a23a0932a960/expr.ipynb\"><img src=\"../../../../../../__pv_it/common/09585084922504426caf1db2ff588a23a0932a960/expr.png\" style=\"display:inline;vertical-align:middle;\" /></a></td></tr>\n",
       "<tr><td>30</td><td>ExprTuple</td><td>31</td><td><a class=\"ProveItLink\" href=\"../../../../../../core_expr_types/__pv_it/common/4b0dd6be36d76552eda6a95d5b4a27f5a5b62f900/expr.ipynb\"><img src=\"../../../../../../core_expr_types/__pv_it/common/4b0dd6be36d76552eda6a95d5b4a27f5a5b62f900/expr.png\" style=\"display:inline;vertical-align:middle;\" /></a></td></tr>\n",
       "<tr><td>31</td><td>Variable</td><td></td><td><a class=\"ProveItLink\" href=\"../../../../../../core_expr_types/__pv_it/common/006c465e50948aa2b52285e2de47974f741255cc0/expr.ipynb\"><img src=\"../../../../../../core_expr_types/__pv_it/common/006c465e50948aa2b52285e2de47974f741255cc0/expr.png\" style=\"display:inline;vertical-align:middle;\" /></a></td></tr>\n",
       "</table>\n"
      ],
      "text/plain": [
       "0. forall_{m in Natural} [forall_{A_{1}, A_{2}, ..., A_{m}, B} ((A_{1} and  A_{2} and  ... and  A_{m} and B) =  \\\\ ((A_{1} and  A_{2} and  ... and  A_{m}) and B))]\n",
       "   core type: Operation\n",
       "   operator: 7\n",
       "   operand: 2\n",
       "1. (m -> {forall_{A_{1}, A_{2}, ..., A_{m}, B} ((A_{1} and  A_{2} and  ... and  A_{m} and B) =  \\\\ ((A_{1} and  A_{2} and  ... and  A_{m}) and B)) if m in Natural.)\n",
       "   core type: ExprTuple\n",
       "   sub-expressions: 2\n",
       "2. m -> {forall_{A_{1}, A_{2}, ..., A_{m}, B} ((A_{1} and  A_{2} and  ... and  A_{m} and B) =  \\\\ ((A_{1} and  A_{2} and  ... and  A_{m}) and B)) if m in Natural.\n",
       "   core type: Lambda\n",
       "   parameter: 27\n",
       "   body: 4\n",
       "3. (m)\n",
       "   core type: ExprTuple\n",
       "   sub-expressions: 27\n",
       "4. {forall_{A_{1}, A_{2}, ..., A_{m}, B} ((A_{1} and  A_{2} and  ... and  A_{m} and B) =  \\\\ ((A_{1} and  A_{2} and  ... and  A_{m}) and B)) if m in Natural.\n",
       "   core type: Conditional\n",
       "   value: 5\n",
       "   condition: 6\n",
       "5. forall_{A_{1}, A_{2}, ..., A_{m}, B} ((A_{1} and  A_{2} and  ... and  A_{m} and B) =  \\\\ ((A_{1} and  A_{2} and  ... and  A_{m}) and B))\n",
       "   core type: Operation\n",
       "   operator: 7\n",
       "   operand: 11\n",
       "6. m in Natural\n",
       "   core type: Operation\n",
       "   operator: 9\n",
       "   operands: 10\n",
       "7. forall\n",
       "   core type: Literal\n",
       "   sub-expressions: \n",
       "8. ((A_{1}, A_{2}, ..., A_{m}, B) -> ((A_{1} and  A_{2} and  ... and  A_{m} and B) =  \\\\ ((A_{1} and  A_{2} and  ... and  A_{m}) and B)))\n",
       "   core type: ExprTuple\n",
       "   sub-expressions: 11\n",
       "9. in\n",
       "   core type: Literal\n",
       "   sub-expressions: \n",
       "10. (m, Natural)\n",
       "    core type: ExprTuple\n",
       "    sub-expressions: 27, 12\n",
       "11. (A_{1}, A_{2}, ..., A_{m}, B) -> ((A_{1} and  A_{2} and  ... and  A_{m} and B) =  \\\\ ((A_{1} and  A_{2} and  ... and  A_{m}) and B))\n",
       "    core type: Lambda\n",
       "    parameters: 18\\n    body: 13\n",
       "12. Natural\n",
       "    core type: Literal\n",
       "    sub-expressions: \n",
       "13. (A_{1} and  A_{2} and  ... and  A_{m} and B) =  \\\\ ((A_{1} and  A_{2} and  ... and  A_{m}) and B)\n",
       "    core type: Operation\n",
       "    operator: 14\n",
       "    operands: 15\n",
       "14. =\n",
       "    core type: Literal\n",
       "    sub-expressions: \n",
       "15. (A_{1} and  A_{2} and  ... and  A_{m} and B, (A_{1} and  A_{2} and  ... and  A_{m}) and B)\n",
       "    core type: ExprTuple\n",
       "    sub-expressions: 16, 17\n",
       "16. A_{1} and  A_{2} and  ... and  A_{m} and B\n",
       "    core type: Operation\n",
       "    operator: 22\n",
       "    operands: 18\n",
       "17. (A_{1} and  A_{2} and  ... and  A_{m}) and B\n",
       "    core type: Operation\n",
       "    operator: 22\n",
       "    operands: 19\n",
       "18. (A_{1}, A_{2}, ..., A_{m}, B)\n",
       "    core type: ExprTuple\n",
       "    sub-expressions: 24, 21\n",
       "19. (A_{1} and  A_{2} and  ... and  A_{m}, B)\n",
       "    core type: ExprTuple\n",
       "    sub-expressions: 20, 21\n",
       "20. A_{1} and  A_{2} and  ... and  A_{m}\n",
       "    core type: Operation\n",
       "    operator: 22\n",
       "    operands: 23\n",
       "21. B\n",
       "    core type: Variable\n",
       "    sub-expressions: \n",
       "22. and\n",
       "    core type: Literal\n",
       "    sub-expressions: \n",
       "23. (A_{1}, A_{2}, ..., A_{m})\n",
       "    core type: ExprTuple\n",
       "    sub-expressions: 24\n",
       "24. A_{1}, A_{2}, ..., A_{m}\n",
       "    core type: ExprRange\n",
       "    lambda_map: 25\n",
       "    start_index: 26\n",
       "    end_index: 27\n",
       "25. _a -> A_{_a}\n",
       "    core type: Lambda\n",
       "    parameter: 31\n",
       "    body: 28\n",
       "26. 1\n",
       "    core type: Literal\n",
       "    sub-expressions: \n",
       "27. m\n",
       "    core type: Variable\n",
       "    sub-expressions: \n",
       "28. A_{_a}\n",
       "    core type: IndexedVar\n",
       "variable: 29\n",
       "index: 31\n",
       "29. A\n",
       "    core type: Variable\n",
       "    sub-expressions: \n",
       "30. (_a)\n",
       "    core type: ExprTuple\n",
       "    sub-expressions: 31\n",
       "31. _a\n",
       "    core type: Variable\n",
       "    sub-expressions: "
      ]
     },
     "metadata": {},
     "output_type": "display_data"
    }
   ],
   "source": [
    "# display the expression information\n",
    "stored_expr.expr_info()"
   ]
  },
  {
   "cell_type": "code",
   "execution_count": null,
   "metadata": {},
   "outputs": [],
   "source": []
  }
 ],
 "metadata": {
  "kernelspec": {
   "display_name": "Python 3",
   "language": "python",
   "name": "python3"
  }
 },
 "nbformat": 4,
 "nbformat_minor": 0
}