{
 "cells": [
  {
   "cell_type": "code",
   "execution_count": null,
   "id": "6e47e5c5",
   "metadata": {},
   "outputs": [],
   "source": [
    "import proveit\n",
    "from proveit import A, B\n",
    "from proveit import defaults\n",
    "from proveit.logic import Implies\n",
    "from proveit import Database\n",
    "\n",
    "import sqlite3\n",
    "\n",
    "%begin testing"
   ]
  },
  {
   "cell_type": "code",
   "execution_count": null,
   "id": "92114f65",
   "metadata": {},
   "outputs": [],
   "source": [
    "temp_result = B.prove(assumptions=[Implies(A, B), A])"
   ]
  },
  {
   "cell_type": "code",
   "execution_count": null,
   "id": "54fe85af",
   "metadata": {},
   "outputs": [],
   "source": [
    "# get the Theory for the current notebook location\n",
    "temp_theory = proveit.Theory()"
   ]
  },
  {
   "cell_type": "code",
   "execution_count": null,
   "id": "04f79644",
   "metadata": {},
   "outputs": [],
   "source": [
    "# then get that theory's database if it exists\n",
    "# and show the content of the judgment and expression tables\n",
    "if hasattr(temp_theory._storage, 'pkg_database'):\n",
    "    temp_database = temp_theory._storage.pkg_database\n",
    "    print(\"* ================ *\")\n",
    "    print(\"*   AXIOM table    *\")\n",
    "    print(\"* ================ *\")\n",
    "    display(temp_database.fetch_all('axiom'))\n",
    "    print(\"* ================ *\")\n",
    "    print(\"*   THEOREM table  *\")\n",
    "    print(\"* ================ *\")\n",
    "    display(temp_database.fetch_all('theorem'))\n",
    "    print(\"* ================ *\")\n",
    "    print(\"*  JUDGMENT table  *\")\n",
    "    print(\"* ================ *\")\n",
    "    display(temp_database.fetch_all('judgment'))\n",
    "    print(\"* =================== *\")\n",
    "    print(\"*   EXPRESSION table  *\")\n",
    "    print(\"* =================== *\")\n",
    "    display(temp_database.fetch_all('expression'))\n",
    "    print(\"* =================== *\")\n",
    "    print(\"*   PROOF_STEP table  *\")\n",
    "    print(\"* =================== *\")\n",
    "    display(temp_database.fetch_all('proof_step'))\n",
    "    "
   ]
  },
  {
   "cell_type": "code",
   "execution_count": null,
   "id": "5a543099",
   "metadata": {},
   "outputs": [],
   "source": []
  }
 ],
 "metadata": {
  "kernelspec": {
   "display_name": "Python 3",
   "language": "python",
   "name": "python3"
  }
 },
 "nbformat": 4,
 "nbformat_minor": 0
}
