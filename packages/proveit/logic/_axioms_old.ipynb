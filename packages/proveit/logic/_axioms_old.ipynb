{
 "cells": [
  {
   "cell_type": "code",
   "execution_count": null,
   "metadata": {},
   "outputs": [],
   "source": [
    "import proveit.special_statement_magic # for %begin_axioms and %end_axioms\n",
    "from proveit.basiclogic import OperationOverInstances, Forall, Equals, Implies, In\n",
    "from proveit.common import n, Qetc, x_etc, y_etc, z_etc, etc_Qx_etc, etc_Qy_etc, etc_Qz_etc, f, g, fx_etc, fy_etc, gx_etc, gz_etc, Upsilon, S\n",
    "from proveit.numbers.common import Natural\n",
    "from proveit.basiclogic.common import n_of_x_etc, n_of_y_etc, n_of_z_etc"
   ]
  },
  {
   "cell_type": "code",
   "execution_count": null,
   "metadata": {},
   "outputs": [],
   "source": [
    "%begin_axioms"
   ]
  },
  {
   "cell_type": "markdown",
   "metadata": {},
   "source": [
    "instance_substition: For any OperationOverInstance operator $\\Upsilon$, such as $\\forall$ or $\\sum$ or $\\prod$, we may substitute an instance expression that is equivalent for all relevant instances with respect to the domain $S$ and conditions $..Q..$.  This could not be implemented with normal substitution in proveit.basiclogic.equals.axioms because that would violate scope restrictions with respect to the instance variables."
   ]
  },
  {
   "cell_type": "code",
   "execution_count": null,
   "metadata": {},
   "outputs": [],
   "source": [
    "instance_substitution = \\\n",
    "    Forall((Upsilon, Qetc, f, g, S), \n",
    "                     Implies(Forall(x_etc, Equals(fx_etc, gx_etc), domain=S, conditions=etc_Qx_etc),\n",
    "                             Equals(OperationOverInstances(Upsilon, y_etc, fy_etc, domain=S, conditions=etc_Qy_etc),\n",
    "                                    OperationOverInstances(Upsilon, z_etc, gz_etc, domain=S, conditions=etc_Qz_etc))))\n",
    "instance_substitution"
   ]
  },
  {
   "cell_type": "code",
   "execution_count": null,
   "metadata": {},
   "outputs": [],
   "source": [
    "%end_axioms"
   ]
  },
  {
   "cell_type": "code",
   "execution_count": null,
   "metadata": {},
   "outputs": [],
   "source": []
  }
 ],
 "metadata": {
  "kernelspec": {
   "display_name": "Python 3",
   "language": "python",
   "name": "python3"
  }
 },
 "nbformat": 4,
 "nbformat_minor": 0
}
