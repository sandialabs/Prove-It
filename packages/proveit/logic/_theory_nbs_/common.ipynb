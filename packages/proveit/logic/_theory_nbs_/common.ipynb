{
 "cells": [
  {
   "cell_type": "markdown",
   "metadata": {},
   "source": [
    "Common expressions for the theory of <a class=\"ProveItLink\" href=\"theory.ipynb\">proveit.logic</a>\n",
    "========"
   ]
  },
  {
   "cell_type": "code",
   "execution_count": 1,
   "metadata": {},
   "outputs": [
    {
     "name": "stdout",
     "output_type": "stream",
     "text": [
      "Defining common sub-expressions for theory 'proveit.logic'\n",
      "Subsequent end-of-cell assignments will define common sub-expressions\n",
      "%end_common will finalize the definitions\n"
     ]
    }
   ],
   "source": [
    "import proveit\n",
    "# Prepare this notebook for defining the common expressions of a theory:\n",
    "%common_expressions_notebook # Keep this at the top following 'import proveit'.\n",
    "from proveit import Function\n",
    "from proveit import fx, gx, P, Q\n",
    "from proveit.logic import TRUE, FALSE, Implies, Equals\n",
    "%begin common"
   ]
  },
  {
   "cell_type": "code",
   "execution_count": 2,
   "metadata": {},
   "outputs": [
    {
     "data": {
      "text/html": [
       "<strong id=\"fx_eq_gx\">fx_eq_gx:</strong> <a class=\"ProveItLink\" href=\"../__pv_it/common/b18816bc11d4b170bce3dbe16a966be01d42f45a0/common_expr.ipynb\"><img src=\"data:image/png;base64,iVBORw0KGgoAAAANSUhEUgAAAG8AAAAVBAMAAAC6Uq30AAAAMFBMVEX///8AAAAAAAAAAAAAAAAA\n",
       "AAAAAAAAAAAAAAAAAAAAAAAAAAAAAAAAAAAAAAAAAAAv3aB7AAAAD3RSTlMAmYkQqzLvVES73WZ2\n",
       "Is1wFLxSAAAACXBIWXMAAA7EAAAOxAGVKw4bAAABdUlEQVQ4y2NggANeKH2BASfAruQ4lO7BrRFN\n",
       "CaOSAZBkV4CK8mzApQ9diUpYAZC0g8s/xqURXUl6J8hGabjoRlwa0ZRwfAazE+CibAY4NKIpYVoA\n",
       "dv8DuCgfDk+iKeF2WyIACiGgx5nPOAepA01yQNdSdOY2FiX8B2BmMDIcOSAFNApsstQqEFgCYjI9\n",
       "4M3EouR+AEiSCxiyexn2G3gDnZSAZmG9AcMfLErqId5tYGAIYJADMVk/oGlMYWD9i0WJFlwjA0MO\n",
       "OJjRbGT9zsCTgEXJFAaYUxk4/jIYA92xANWP3H8ZOB2wKAEbwcB5gIF5BksCAzDkuCeg2sj9gcF+\n",
       "A6YS3h9gWWAAs381TOAogAQ7MmD+y+BvgKmEHRIUrAsYmGUOFG4HOakBLXBaDklhUcIIje6lcHW3\n",
       "MBPNQ0wlJXwF6ElbGk1XiAHrV0wlK2F5hROWrXnRwobBzcDuAKaSPbKwIJiAbgLCixJ4ldyB0mdx\n",
       "Fx1ISgC9BnCj3a9OKgAAAABJRU5ErkJggg==\n",
       "\" style=\"display:inline;vertical-align:middle;\" /></a><br>"
      ],
      "text/plain": [
       "<IPython.core.display.HTML object>"
      ]
     },
     "metadata": {},
     "output_type": "display_data"
    }
   ],
   "source": [
    "fx_eq_gx = Equals(fx, gx)"
   ]
  },
  {
   "cell_type": "code",
   "execution_count": 3,
   "metadata": {},
   "outputs": [
    {
     "data": {
      "text/html": [
       "<strong id=\"PofTrue\">PofTrue:</strong> <a class=\"ProveItLink\" href=\"../__pv_it/common/8656d055e795860fc783fedaa2fdfdeb655ff02a0/common_expr.ipynb\"><img src=\"data:image/png;base64,iVBORw0KGgoAAAANSUhEUgAAADEAAAAVBAMAAAAdjxsPAAAAMFBMVEX///8AAAAAAAAAAAAAAAAA\n",
       "AAAAAAAAAAAAAAAAAAAAAAAAAAAAAAAAAAAAAAAAAAAv3aB7AAAAD3RSTlMAdrurzZkQ7zJUiSLd\n",
       "ZkQEbk8lAAAACXBIWXMAAA7EAAAOxAGVKw4bAAAA50lEQVQoz2NgQALccNYGBlQgCWc9BJNC/5WN\n",
       "XBOADM4FDDFnQOAwA+MFsNQXBgamMiCdAuZNBJNuIILjI1A5EDPEIslcBRGMP4D4F5BRgCTDDjKe\n",
       "6QMQA2U5HZBkWEAW8SswMPQLMDCwLkCS4TJgAIvuOglTBpPhBRkgb7XqHojDMwFJhhNkqT7Ud+wP\n",
       "kGQ4PkC8gynDB9TD8Qsqg2raAaBX/kFlmASQXQB0MMsHqAzYoTAZoBdY9T9B1DJwHABTbyFGP0CO\n",
       "hBNI7D0o0XMViR2LIsOEiEluBRQZNgVsisBgI5wlzcAAAOi1NwSpBHEBAAAAAElFTkSuQmCC\n",
       "\" style=\"display:inline;vertical-align:middle;\" /></a><br>"
      ],
      "text/plain": [
       "<IPython.core.display.HTML object>"
      ]
     },
     "metadata": {},
     "output_type": "display_data"
    }
   ],
   "source": [
    "PofTrue = Function(P, TRUE)"
   ]
  },
  {
   "cell_type": "code",
   "execution_count": 4,
   "metadata": {},
   "outputs": [
    {
     "data": {
      "text/html": [
       "<strong id=\"PofFalse\">PofFalse:</strong> <a class=\"ProveItLink\" href=\"../__pv_it/common/c478d9b029a938e6b1884ac8094c38de4ad167440/common_expr.ipynb\"><img src=\"data:image/png;base64,iVBORw0KGgoAAAANSUhEUgAAADEAAAAVBAMAAAAdjxsPAAAAMFBMVEX///8AAAAAAAAAAAAAAAAA\n",
       "AAAAAAAAAAAAAAAAAAAAAAAAAAAAAAAAAAAAAAAAAAAv3aB7AAAAD3RSTlMAdrurzZkQ7zJUiSLd\n",
       "ZkQEbk8lAAAACXBIWXMAAA7EAAAOxAGVKw4bAAAA6klEQVQoz2NgQALccNYGBlQgCWc9BJNC/5WN\n",
       "XBOADM4FIO5bEMF4ASz1hYGBqQxIp4B5E8GkG4jg+AhUDsQMsUgyV8E6fwDxLyCjAEmGHWQ80wcg\n",
       "BspyOiDJsIAs4ldgYOgXYGBgXYAkw2XAABbddRKmDCbDCzJA3mrVPRCHZwKSDCfIUn2o79gfIMlw\n",
       "fIB4B1OGD6iH4xdUBtW0A0Cv/IPKMAkguwDoYJYPUBmwQ2EyQC+w6n+CqGXgABoQc+ZM+Zkzh4FG\n",
       "P0COhBNI7D0o0XMViR2LIsOEiEluBRQZNgVsisBgI5wlzcAAADXcNq92yl+AAAAAAElFTkSuQmCC\n",
       "\" style=\"display:inline;vertical-align:middle;\" /></a><br>"
      ],
      "text/plain": [
       "<IPython.core.display.HTML object>"
      ]
     },
     "metadata": {},
     "output_type": "display_data"
    }
   ],
   "source": [
    "PofFalse = Function(P, FALSE)"
   ]
  },
  {
   "cell_type": "code",
   "execution_count": 5,
   "metadata": {},
   "outputs": [
    {
     "data": {
      "text/html": [
       "<strong id=\"QimplPofTrue\">QimplPofTrue:</strong> <a class=\"ProveItLink\" href=\"../__pv_it/common/992b571de684986f68d4eb2d5494d15261d382a20/common_expr.ipynb\"><img src=\"data:image/png;base64,iVBORw0KGgoAAAANSUhEUgAAAIUAAAAVBAMAAACakjBMAAAAMFBMVEX///8AAAAAAAAAAAAAAAAA\n",
       "AAAAAAAAAAAAAAAAAAAAAAAAAAAAAAAAAAAAAAAAAAAv3aB7AAAAD3RSTlMAIomZq2bNMhC7791E\n",
       "VHYkqjbgAAAACXBIWXMAAA7EAAAOxAGVKw4bAAACEklEQVQ4y2NgQAICMAYjAwHAiKkHAvguwFg8\n",
       "DwiY8RbOOgcxU1nJFcy4xMC8GwwcGJ5i08g3/6fLNAsQi1eBwRqscgsDXwBIQK2AgSUBSHMkgKXB\n",
       "TmBrwGYIP1DFLJBMG5h7D0xmgPgTgMRiIGYOQJjBaoDNjHqg3H2QvCmSGcFAnA1i+AMxFwPCDIYV\n",
       "CJ0z4Kz3BUCsAGQsQDKDq4GB+TuIoQ+UvYZsRirCjEo4az4IA1XyJiCZwRbAIA/yCoP9AQYGI2Qz\n",
       "VBBmsCrAWD8ZGNj/gXytgGQGkwODPThC8wVgVkPNCAMR0Gj6DDUCqJ9R+wLEaoQZrAkM+0HhzPEL\n",
       "SOxFNuMWUlDy5kLj9ouS6gEQg/sCkhm8Cxh+gc36CiTWIJtRjxwfbRApzg9QPtcBJDPYPzDsBtFd\n",
       "CehmnEJO2EkC8OSBaQbPAmCs8lxgsBJA98ttpPDYBs0T9bDARfXLBob6C+GiTAtBnHnIZkQinMEz\n",
       "AZY8DkAZnA+Qw3QCA9/CB0wuDYjohJphhDBDDMbIhzGA0YkwAxTRJZO0DzAAEw5DNcRWSLztQZgx\n",
       "HUpb/p8Hi+QNYOooxGNg13Ee4AP5mLsAKRg3MOAqIUBgOxJbGuI9h2vo+QyS/3CCYCQ2JP8x/wfn\n",
       "GYaJCAlJ/EUQJ8JtjJAQZ98FiatOhKKJ+M3gmIDNOLCR8BKQT4BAWSgHZz1kYAAAhtSMa0u4AVkA\n",
       "AAAASUVORK5CYII=\n",
       "\" style=\"display:inline;vertical-align:middle;\" /></a><br>"
      ],
      "text/plain": [
       "<IPython.core.display.HTML object>"
      ]
     },
     "metadata": {},
     "output_type": "display_data"
    }
   ],
   "source": [
    "QimplPofTrue = Implies(Function(Q, TRUE), PofTrue)"
   ]
  },
  {
   "cell_type": "code",
   "execution_count": 6,
   "metadata": {},
   "outputs": [
    {
     "data": {
      "text/html": [
       "<strong id=\"QimplPofFalse\">QimplPofFalse:</strong> <a class=\"ProveItLink\" href=\"../__pv_it/common/e28d51f4d8e210e74e191fa3ba65e6ed431188b80/common_expr.ipynb\"><img src=\"data:image/png;base64,iVBORw0KGgoAAAANSUhEUgAAAIUAAAAVBAMAAACakjBMAAAAMFBMVEX///8AAAAAAAAAAAAAAAAA\n",
       "AAAAAAAAAAAAAAAAAAAAAAAAAAAAAAAAAAAAAAAAAAAv3aB7AAAAD3RSTlMAIomZq2bNMhC7791E\n",
       "VHYkqjbgAAAACXBIWXMAAA7EAAAOxAGVKw4bAAACGElEQVQ4y2NgQAICMAYjAwHAiKkHAvguwFg8\n",
       "DwiY8RbOOgcxU1nJFcy4BNYeACKfYtPIN/+nyzQLEItXAUQeBQuC1asVMLAkAGmOBLA02AlsDdgM\n",
       "4QeqmAWSaQNz74HJDBB/ApBYDMTMAQgzWA2wmVEPlLsPkjdFMiMYiLNBDH8g5mJAmMGwAqFzBpz1\n",
       "vgCIQd5YgGQGVwMD83cQQx8oew3ZjFSEGZVw1nwQBqrkTUAygy2AQR7kFQb7AwwMRshmqCDMYFWA\n",
       "sX4yMLD/A/laAckMJgcGe3CE5gvArIaaEQYimHeDwWeoEUD9jNoXIFYjzGBNYNgPCmeOX0BiL7IZ\n",
       "t5CCkjcXGrdflFQPgBjcF5DM4F3A8Ats1lcgsQbZjHrk+GiDSHF+gPK5DiCZwf6BYTeI7kpAN+MU\n",
       "csJOEoAnD0wzeBYAY5XnAoOVALpfbiOFxzZonqiHBS6qXzYw1F8IF2VaCOLMQzYjEuEMngmw5HEA\n",
       "yuB8gBymExj4Fj5gcmlARCfUDCOEGWIwRj6MAYxOhBmgiC6ZpH2AAZhwGKrBjt+1evduoJI9CDOm\n",
       "Q2nL//NgkbyBgcF69+5Vu3dvAXoM7DrOA3wgH3MXIAXjBgZcJQQIbEdiS0O853ANPZ9B8h9OEIzE\n",
       "huQ/5v/gPMMwESEhib8I4kS4jRES4uy7IHHViVA0Eb8ZHBOwGQc2El4C8gkQKAvl4KyHDAwAWmWM\n",
       "SQ8twLoAAAAASUVORK5CYII=\n",
       "\" style=\"display:inline;vertical-align:middle;\" /></a><br>"
      ],
      "text/plain": [
       "<IPython.core.display.HTML object>"
      ]
     },
     "metadata": {},
     "output_type": "display_data"
    }
   ],
   "source": [
    "QimplPofFalse = Implies(Function(Q, FALSE), PofFalse)"
   ]
  },
  {
   "cell_type": "code",
   "execution_count": 7,
   "metadata": {},
   "outputs": [
    {
     "name": "stdout",
     "output_type": "stream",
     "text": [
      "These common expressions may now be imported from the theory package: proveit.logic\n"
     ]
    }
   ],
   "source": [
    "%end common"
   ]
  },
  {
   "cell_type": "code",
   "execution_count": null,
   "metadata": {},
   "outputs": [],
   "source": []
  }
 ],
 "metadata": {
  "kernelspec": {
   "display_name": "Python 3",
   "language": "python",
   "name": "python3"
  }
 },
 "nbformat": 4,
 "nbformat_minor": 0
}