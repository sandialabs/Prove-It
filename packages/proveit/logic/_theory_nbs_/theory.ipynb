{
 "cells": [
  {
   "cell_type": "markdown",
   "metadata": {},
   "source": [
    "Theory of <a class=\"ProveItLink\" href=\"../../_theory_nbs_/theory.ipynb\">proveit</a>.logic\n",
    "========\n",
    "\n",
    "Theory dealing with basic logic concepts: boolean arithmetic, equality, and set theory."
   ]
  },
  {
   "cell_type": "code",
   "execution_count": 1,
   "metadata": {},
   "outputs": [
    {
     "data": {
      "text/html": [
       "<h3>Local content of this theory</h3>"
      ],
      "text/plain": [
       "<IPython.core.display.HTML object>"
      ]
     },
     "metadata": {},
     "output_type": "display_data"
    },
    {
     "data": {
      "text/html": [
       "<table><tr>\n",
       "<th><a class=\"ProveItLink\" href=\"common.ipynb\">common expressions</a></th>\n",
       "<th><a class=\"ProveItLink\" href=\"axioms.ipynb\">axioms</a></th>\n",
       "<th><a class=\"ProveItLink\" href=\"theorems.ipynb\">theorems</a></th>\n",
       "<th><a class=\"ProveItLink\" href=\"demonstrations.ipynb\">demonstrations</a></th>\n",
       "</tr></table>\n",
       "<h3>Sub-theories</h3>\n",
       "<table>\n",
       "<tr><th><a class=\"ProveItLink\" href=\"../booleans/_theory_nbs_/theory.ipynb\">booleans</a></th><td>Boolean arithmetic operations: implication, negation, conjunction, disjunction, and universal/existential quantification.</td></tr>\n",
       "<tr><th><a class=\"ProveItLink\" href=\"../equality/_theory_nbs_/theory.ipynb\">equality</a></th><td>Equals, not equals, and various forms of substitution.</td></tr>\n",
       "<tr><th><a class=\"ProveItLink\" href=\"../sets/_theory_nbs_/theory.ipynb\">sets</a></th><td>Basic theory of sets.</td></tr>\n",
       "<tr><th><a class=\"ProveItLink\" href=\"../classes/_theory_nbs_/theory.ipynb\">classes</a></th><td>Classes are collections of sets.</td></tr>\n",
       "</table>\n"
      ],
      "text/plain": [
       "<IPython.core.display.HTML object>"
      ]
     },
     "metadata": {},
     "output_type": "display_data"
    },
    {
     "data": {
      "text/html": [
       "<h3>All axioms contained within this theory</h3>"
      ],
      "text/plain": [
       "<IPython.core.display.HTML object>"
      ]
     },
     "metadata": {},
     "output_type": "display_data"
    },
    {
     "data": {
      "text/html": [
       "This theory contains no axioms directly."
      ],
      "text/plain": [
       "<IPython.core.display.HTML object>"
      ]
     },
     "metadata": {},
     "output_type": "display_data"
    },
    {
     "data": {
      "text/html": [
       "<h4>proveit.logic.booleans</h4>"
      ],
      "text/plain": [
       "<IPython.core.display.HTML object>"
      ]
     },
     "metadata": {},
     "output_type": "display_data"
    },
    {
     "data": {
      "text/html": [
       "<dt><a class=\"ProveItLink\" href=\"../booleans/_theory_nbs_/axioms.ipynb#true_axiom\">proveit.logic.booleans.true_axiom</a></dt><dd><a class=\"ProveItLink\" href=\"../booleans/__pv_it/common/95025295868b9266d37330b4427adf122f6061770/expr.ipynb\"><img src=\"data:image/png;base64,iVBORw0KGgoAAAANSUhEUgAAAA4AAAAOBAMAAADtZjDiAAAAG1BMVEX///8AAAAAAAAAAAAAAAAA\n",
       "AAAAAAAAAAAAAAB4Gco9AAAACHRSTlMAmd2rVHZEZkA3AkMAAAAJcEhZcwAADsQAAA7EAZUrDhsA\n",
       "AAAYSURBVAjXYxBSAgFlBiBwZYAAWtHpQAwAFRwEg6MlY1sAAAAASUVORK5CYII=\n",
       "\" style=\"display:inline;vertical-align:middle;\" /></a></dd>"
      ],
      "text/plain": [
       "<IPython.core.display.HTML object>"
      ]
     },
     "metadata": {},
     "output_type": "display_data"
    },
    {
     "data": {
      "text/html": [
       "<dt><a class=\"ProveItLink\" href=\"../booleans/_theory_nbs_/axioms.ipynb#bools_def\">proveit.logic.booleans.bools_def</a></dt><dd><a class=\"ProveItLink\" href=\"../booleans/__pv_it/axioms/0ed31a4273b0db746a43c9d8e01361d0476217f00/expr.ipynb\"><img src=\"data:image/png;base64,iVBORw0KGgoAAAANSUhEUgAAAGYAAAAVBAMAAABGR4Y+AAAAMFBMVEX///8AAAAAAAAAAAAAAAAA\n",
       "AAAAAAAAAAAAAAAAAAAAAAAAAAAAAAAAAAAAAAAAAAAv3aB7AAAAD3RSTlMAdt3vu82rRCIQZolU\n",
       "mTIFPM77AAAACXBIWXMAAA7EAAAOxAGVKw4bAAABA0lEQVQ4y2NgwA44y7GL9zQACSGT+GC1Agw5\n",
       "0UrsevhSJgBJh0KOyHR0KZ6fDAy8SmCQABOrApMsIL5DFcMOFnQ93AoQrQJIYgcRMkA9a9jI0MNK\n",
       "up6M1aTqKZyotoFUPUXBn26CeJfAwaQGluENwKWH0QDiNqnSCWj2NC/ApYfjD0QPCzua49rCGXDp\n",
       "YZgWA9HD4IAW21cm4NSztQCqJwDNPywJuPSAUghYD4ocRrhNQAk3cBhUM2zciy+sOb+ih7WoiT+W\n",
       "dA3Vww4OPqUJYIcbgx0OlcECUGR4JuCSwa2Hm4EoPeDYhoGJyDLQFIIFgGMbBlACdfICXHoYenOw\n",
       "i3cDxQHNskJHEZ2ZVQAAAABJRU5ErkJggg==\n",
       "\" style=\"display:inline;vertical-align:middle;\" /></a></dd>"
      ],
      "text/plain": [
       "<IPython.core.display.HTML object>"
      ]
     },
     "metadata": {},
     "output_type": "display_data"
    },
    {
     "data": {
      "text/html": [
       "<dt><a class=\"ProveItLink\" href=\"../booleans/_theory_nbs_/axioms.ipynb#false_not_true\">proveit.logic.booleans.false_not_true</a></dt><dd><a class=\"ProveItLink\" href=\"../booleans/__pv_it/axioms/eb8cfde2511c6ba3e5c8a65a4e82d309baeb3e560/expr.ipynb\"><img src=\"data:image/png;base64,iVBORw0KGgoAAAANSUhEUgAAADoAAAAUCAMAAADrw95cAAAAPFBMVEX///8AAAAAAAAAAAAAAAAA\n",
       "AAAAAAAAAAAAAAAAAAAAAAAAAAAAAAAAAAAAAAAAAAAAAAAAAAAAAAAAAAAo1xBWAAAAE3RSTlMA\n",
       "RGZUdpnd76sQMrsizYnn9enzwjX02wAAAAlwSFlzAAAOxAAADsQBlSsOGwAAAH9JREFUOMudk0cS\n",
       "wCAIAFFj17T/PzaHOBljRTiCy1oQYBbSjuuM9yrOZ11UFiYlxdZDvSszxdou6gxQUR+oKKulWDSG\n",
       "ZTTd5XHmd7lkbUlxKJNARZtS1Fmv+z83C9bYnl4EKiSM0fcZtK631pEOvsrXfAdqREslOV2qyFJw\n",
       "0xUPtZQDboKIjKIAAAAASUVORK5CYII=\n",
       "\" style=\"display:inline;vertical-align:middle;\" /></a></dd>"
      ],
      "text/plain": [
       "<IPython.core.display.HTML object>"
      ]
     },
     "metadata": {},
     "output_type": "display_data"
    },
    {
     "data": {
      "text/html": [
       "<dt><a class=\"ProveItLink\" href=\"../booleans/_theory_nbs_/axioms.ipynb#eq_true_intro\">proveit.logic.booleans.eq_true_intro</a></dt><dd><a class=\"ProveItLink\" href=\"../booleans/__pv_it/axioms/af7fcd0228bc2f434dd8febb9d8c4f56a07241be0/expr.ipynb\"><img src=\"data:image/png;base64,iVBORw0KGgoAAAANSUhEUgAAAIwAAAAXBAMAAAArT7qNAAAAMFBMVEX///8AAAAAAAAAAAAAAAAA\n",
       "AAAAAAAAAAAAAAAAAAAAAAAAAAAAAAAAAAAAAAAAAAAv3aB7AAAAD3RSTlMAq1RmmUTNIjK7EInv\n",
       "3XZ/CtNrAAAACXBIWXMAAA7EAAAOxAGVKw4bAAABqElEQVQ4y2NgIAIU4JdmZyAK8CmAqTJc8qwP\n",
       "GBgEQAxlvMZoQ6h8dHGWu2AgwPCYgcEVJJCOzxSuBDDF9B+LHNMDEMm2gKER5LkJ+IxhMYBQ8gW4\n",
       "jGF2AJnEwK2AzxgeCLV9fwMuYxhOMTAD7WLDGzRqkOh48F4BpzHJDAxn7949jdcYb4ifGPQNcBqz\n",
       "kYHBg4FhFpi9AKocChbAGMlgMoihfwNK9CAbY8bAUMjADhbjOgEW4YTFzwmYMZfApANDvQBO1+gA\n",
       "9S3gDgAxuT+hGAPlAsFRcBKc4iI/Aacx/SAWJIQjzqEYA+XCjFnHwMB/AacxMUCcYAdmPkhEMQbK\n",
       "hXnKgYGB9wDOsNEF4k1ZYFczuCEbA+MCwTxQtgEliw84XWMJxDVgkyMY3iAbA+NCYpOhBiTzHacx\n",
       "oDTBCE6d3rvlFyAZA+MCQS8Dw8r/WQxM879twMzckLR0FV4YMDDUNyCMgXOBgLeBUEnCDg/8YGBM\n",
       "KCCMgXMhGY8AYIGlb5aDDFz+qXBjEFwQmE7ImEpMIU5MoZWEjJlOlDHsDwgUsgVEGUMOYCdLFwD3\n",
       "G2avyaI3nAAAAABJRU5ErkJggg==\n",
       "\" style=\"display:inline;vertical-align:middle;\" /></a></dd>"
      ],
      "text/plain": [
       "<IPython.core.display.HTML object>"
      ]
     },
     "metadata": {},
     "output_type": "display_data"
    },
    {
     "data": {
      "text/html": [
       "<dt><a class=\"ProveItLink\" href=\"../booleans/_theory_nbs_/axioms.ipynb#eq_true_elim\">proveit.logic.booleans.eq_true_elim</a></dt><dd><a class=\"ProveItLink\" href=\"../booleans/__pv_it/axioms/e109ec75dbf9febf42e2a6841bae9d9b810afe380/expr.ipynb\"><img src=\"data:image/png;base64,iVBORw0KGgoAAAANSUhEUgAAAGgAAAAWBAMAAADeGsQjAAAAMFBMVEX///8AAAAAAAAAAAAAAAAA\n",
       "AAAAAAAAAAAAAAAAAAAAAAAAAAAAAAAAAAAAAAAAAAAv3aB7AAAAD3RSTlMAq1RmmUTNIjK7EInv\n",
       "3XZ/CtNrAAAACXBIWXMAAA7EAAAOxAGVKw4bAAABQklEQVQ4y2NgIBWwJzAwCIAYyiRoYvvAwOAK\n",
       "YqSToEkfqKkRZOMEEjQ5fgfatoCBgVuBeD3c1T8YGJgNgBpJsKiO7xOQPHv37mkSNDkwfQaSHgwM\n",
       "s8DcBWCSBSbLhVUPqwLHbyBVyMAODnauE2BRTpj0mgaYL2bOPDlzHpTDwsD+EaRqAXcAWO4Tqqb9\n",
       "SKGDCN2XLo4/gRTTA0g4RJxD0cTa8wCLJi6g4F8QI8EOzH+QiKKJj00AiyaQj++AGJuywIoY3FA0\n",
       "PWBJYPCcCQQGyJqCgTgfxKgBGxnB8AZZE2sD3wFMm9hBYvMLgAQjOJi8d8svQNLEsnvjLwxNXPO/\n",
       "LWDQ/J8NE+ZjYKhvQNL0gIH9BxbnoQKgY/kVEJpYgUo/YQtyZMBykIHLPxWhyUeAYcm3AETaIZC2\n",
       "OBnIAPTTxE6EGgDCrEmFo2pTSQAAAABJRU5ErkJggg==\n",
       "\" style=\"display:inline;vertical-align:middle;\" /></a></dd>"
      ],
      "text/plain": [
       "<IPython.core.display.HTML object>"
      ]
     },
     "metadata": {},
     "output_type": "display_data"
    },
    {
     "data": {
      "text/html": [
       "<dt><a class=\"ProveItLink\" href=\"../booleans/implication/_theory_nbs_/axioms.ipynb#implies_t_f\">proveit.logic.booleans.implication.implies_t_f</a></dt><dd><a class=\"ProveItLink\" href=\"../booleans/implication/__pv_it/axioms/aac2148bd08007417c156444654d2678db44244f0/expr.ipynb\"><img src=\"data:image/png;base64,iVBORw0KGgoAAAANSUhEUgAAAHoAAAAVBAMAAAB71edYAAAAMFBMVEX///8AAAAAAAAAAAAAAAAA\n",
       "AAAAAAAAAAAAAAAAAAAAAAAAAAAAAAAAAAAAAAAAAAAv3aB7AAAAD3RSTlMAInZUiRDNmWbv3US7\n",
       "qzJazP2FAAAACXBIWXMAAA7EAAAOxAGVKw4bAAAA8ElEQVQ4y2NgYBBgIATwqGAyIKh7E24pEwaG\n",
       "qlUgsBab7A6wBQ24ZFgTwGwjHGZDxFNxybA3EKG7HZcMJwOm7qPoujkDcOg2w6L7DbputgYcukuw\n",
       "6OZwQNPNcgGH7gwU3ezg0F/1HU03BzhoUaMGLLMYi90MzMmoupkn4LB7NjbdDGGzUXTzfSBFN2OK\n",
       "AIpublx2L8bm72UCaC5fgMPfh7DYzX0APdQO4LDbF4tuMfT4ZnfAofsVUpqHgXNQGujUmWCncm1A\n",
       "0wqT4XpARH6WwpVBOQoYCIMKnDIHCWtmPIBTKoawbh7cRROjAkHdirgkAD2cQqjL4NQdAAAAAElF\n",
       "TkSuQmCC\n",
       "\" style=\"display:inline;vertical-align:middle;\" /></a></dd>"
      ],
      "text/plain": [
       "<IPython.core.display.HTML object>"
      ]
     },
     "metadata": {},
     "output_type": "display_data"
    },
    {
     "data": {
      "text/html": [
       "<dt><a class=\"ProveItLink\" href=\"../booleans/implication/_theory_nbs_/axioms.ipynb#affirmation_via_contradiction\">proveit.logic.booleans.implication.affirmation_via_contradiction</a></dt><dd><a class=\"ProveItLink\" href=\"../booleans/implication/__pv_it/axioms/e370e39221e2813384746423b62d6484d70717460/expr.ipynb\"><img src=\"data:image/png;base64,iVBORw0KGgoAAAANSUhEUgAAAJkAAAAWBAMAAAAhlCOEAAAAMFBMVEX///8AAAAAAAAAAAAAAAAA\n",
       "AAAAAAAAAAAAAAAAAAAAAAAAAAAAAAAAAAAAAAAAAAAv3aB7AAAAD3RSTlMAq1RmmUTNIjK7EInv\n",
       "3XZ/CtNrAAAACXBIWXMAAA7EAAAOxAGVKw4bAAACDklEQVQ4y2NgoBooA2IBEEOZGqblA7EriJFO\n",
       "BcOY/gOJRiBmn0AF01jkCxgY2BYwMHArUMG07fsbGBiYDYAmUsEw9gfvQW46e/fuaWp4lEEf6C4G\n",
       "DwaGWWD+AnQFDhBKHS7AxcDwAJdpQQz9G4BUIQM7OJVwnYDGTXbKFUg4QuKGOQCuY00D0AlY7IMw\n",
       "60HGcC7gBqvn/gQk+iSnMjzYUKSBZNpChI79CgysG5BNQ6QFviku8iAe0wNIJEScA3oe6G2gadyL\n",
       "kNS6wnWw9gD9mcWAlNwRpq1jYOC/AGIk2IH5DxIZGB6DGRuKdyGpvYCwnw3ol01gJmMBmmlAP/Me\n",
       "ADE2ga3jY3Bj4ALLPnA504BQy54A1/GABchWYdg5c+bMaSdQTWMFpbMPIFYNOBIiGN6AxUBua3mK\n",
       "UMs6gYEbqH0ukNXAB7Q9EqKd2xXFtBpQBHwHuxrsEu/d8guYM2fOnAQKN26EaUwCEK8BA3X3xl8M\n",
       "DJ3QxCq9AMm0lf+zGJjmf4PHEB8DQ30DxwaI27j5EKZxTICZ9oCB/QfMpzNno4UbKggGxokCJBkD\n",
       "TevDiAUWcDAAE9E7iEcN8JnGcpCByz+VoRLoaaa87JnIaqdDlfgIMCz5FgDltoBMnDnz5Mx5eDIb\n",
       "186ZU9HTZjSqignYcyFhANHIUoDiiQJyiwVoqOxCFjMlu5ApgJccCIDfiwCVsoREg7XbngAAAABJ\n",
       "RU5ErkJggg==\n",
       "\" style=\"display:inline;vertical-align:middle;\" /></a></dd>"
      ],
      "text/plain": [
       "<IPython.core.display.HTML object>"
      ]
     },
     "metadata": {},
     "output_type": "display_data"
    },
    {
     "data": {
      "text/html": [
       "<dt><a class=\"ProveItLink\" href=\"../booleans/implication/_theory_nbs_/axioms.ipynb#denial_via_contradiction\">proveit.logic.booleans.implication.denial_via_contradiction</a></dt><dd><a class=\"ProveItLink\" href=\"../booleans/implication/__pv_it/axioms/15e245c22c3eb4d9b40c738cddd8abe5669ddc9a0/expr.ipynb\"><img src=\"data:image/png;base64,iVBORw0KGgoAAAANSUhEUgAAAJ4AAAAXBAMAAAAIFOtYAAAAMFBMVEX///8AAAAAAAAAAAAAAAAA\n",
       "AAAAAAAAAAAAAAAAAAAAAAAAAAAAAAAAAAAAAAAAAAAv3aB7AAAAD3RSTlMAq1RmmUTNIjK7EInv\n",
       "3XZ/CtNrAAAACXBIWXMAAA7EAAAOxAGVKw4bAAACJUlEQVQ4y6WVPUgcURDH/96pp7t62onVHQQk\n",
       "oOJVgTRhCw0BC0UbCwuDCcEPjCYQEAQ3kNYPQkSehLjY2chpAqIpokVA1IiIlgcLYicoFlqambe3\n",
       "d+/tRSN7A29v5s2935t5M/sWKEJGA3YMRUk8qVofgDIXqGX9USheo2a9pXEKtLH+JgzO6FOtyC09\n",
       "yh185Lxnw/BKU5qVoNOMWoyEmQzDq9Ks9V82PXcRpV3KQx1fg1Za94KD6gf+ZDJ7oXjtWrpo4fRX\n",
       "gRfAgpxyggssX3H+yetXjS7MpOnnCTCGmOwZYydbqKFXx955+lXyPX4kWTkiPcNiyb0nmdIEVDpm\n",
       "J7vNK3pM18/BTb97rPGkJyeVvvLbPzoCxb+0JvjvMxSP65Wj54D2o+SJZy5pPPZw4Km7eStAzSHp\n",
       "vTT6nslp96Xsb+a939R47GGp03lHCo9Srt4ivZnG2qB8GfEchiS4rfu2ymOPKUiGbY33zedZKOOm\n",
       "uyT9KY0JWY4enMtpju/Tmcpjjyc/OlXeav5MJ3j+JttDJXLb9p8JJzogxGc+P1PlscfTxjZV3lQO\n",
       "t3w7iMjiNTXMSe7uASbtirQXnxlXeNIj8xVpLd9qu6AlY4e+1k0FSnqNTbxphed5WL7r9Yhad18R\n",
       "pdswOl5jnLaMjAyJVJ6X9ZBU8PoN8VUI11s0X8AbD15pG2IubwVuMSO4ermAN3/vC/+/WzHmBj8A\n",
       "o0Xxiv18PUT+AqeEhq3dPYtNAAAAAElFTkSuQmCC\n",
       "\" style=\"display:inline;vertical-align:middle;\" /></a></dd>"
      ],
      "text/plain": [
       "<IPython.core.display.HTML object>"
      ]
     },
     "metadata": {},
     "output_type": "display_data"
    },
    {
     "data": {
      "text/html": [
       "<dt><a class=\"ProveItLink\" href=\"../booleans/implication/_theory_nbs_/axioms.ipynb#iff_def\">proveit.logic.booleans.implication.iff_def</a></dt><dd><a class=\"ProveItLink\" href=\"../booleans/implication/__pv_it/axioms/58a59ea31f5a83ad01737244ae60b8d4dd112afb0/expr.ipynb\"><img src=\"data:image/png;base64,iVBORw0KGgoAAAANSUhEUgAAAXkAAAAWBAMAAADX+PE1AAAAMFBMVEX///8AAAAAAAAAAAAAAAAA\n",
       "AAAAAAAAAAAAAAAAAAAAAAAAAAAAAAAAAAAAAAAAAAAv3aB7AAAAD3RSTlMAq1RmmUTNIjK7EInv\n",
       "3XZ/CtNrAAAACXBIWXMAAA7EAAAOxAGVKw4bAAAD3klEQVRYw9WWTUhUURTHjzOj83zjvBQq2oRC\n",
       "EYSLJpAgohr7IpFIamMRZUVIGTRuhCizlkGRRFBE6KwEoULduHCRGn0RxRDhqqEBFxFEmYlWUtO9\n",
       "95xz38ybO80wuekPfxzfub/3zr333A+AvypGLtxqqcjimKLe7tShhbr+0uzo0pHE5FOwDRl2tXy4\n",
       "Jk/jerLQOVN8c7qm5vRlcCJLRta7MZMqZkAx7N3yYbs5ebsNLeRLG1u8ACj7DnDmn8kRl9MxgzaI\n",
       "7BVDviLno9ecfSCClj9rTWUW/A1QPgfQ8K+kPeVyOmZQ4wIgQ66IA4TyFFsVWWj0EU1lBWCPlfxi\n",
       "hPziW1XxIkipu3lIZ2OL5nSMVOm+PHRBTolkyP4IZmTSOrIYjtQX6uG0fB/nUyYmsuKZcKQIUuoq\n",
       "mMmw1as5HSNZbmVccmYBGfarZPJlnuybyWJGYUPEfZXN1VrVC/Zq0ZVQdWESh3zITNbT0mvOjLG2\n",
       "6F9R3zdAhr2X5zOek/1JMsABuIHfvSY6m0w+pbY3+j6vlLn55WILJJWqzSRFuZyzSLltrNVf1DGA\n",
       "fYp5HyWovM5aJIbdCUH1Qfs5zu3cWBP3+w1ZdBp6VCMHO2rdxAZfYuB7LPeVcU+/c0mS74SJtKoh\n",
       "HGdOx9w6pNoLQPArMezKeEitmNAszm0CHM7lCRmcW7tqVclMUOQ+ZnRPWC5Ka8aTfQ6pNfDEQJaJ\n",
       "nT/FnI65++9ZXNMfdzX+AGTYvhQu2tbXuJyi4J/x5vAQYFlC/ujE+gl2YAM5EtvFZ8vH82WvSd4p\n",
       "O2IGckBkmNDZc0yraxQ7IZ79AmTY0LZNxVLHcTnVwYOId/5F4YUxwa1YvjgyllxDtWJcfAlP3eeS\n",
       "FJ2KGUh1Vu1gTse47pPtXDgA7wAZNoyoHcSBPapJz3TDKu5zH7k8gme0LKxoxtnsiLPDmpdPvced\n",
       "gcR112skE3wd6suMsQ7R34N07ZAMGy6q0WqFTzi4YC9nbJh8Ue7xC/hshRyEFjq5xKgekX0PDHmy\n",
       "N5GZN7Zs0p/iQ2Q4M5ZxM1N/5Rz2x5BhyyUjd9qxWrXqReo9lBxcRw+mz4Cvfx4zFCUK5+nE6f9a\n",
       "s1LtPuEWT/YmUuqOkSyTX7ZSyLgxPmuxTO3++TisT3cgw6apFEmrVpMAx3i9hy+jsy4o8kXeg6Hb\n",
       "+8BEGm/v3blczpXIxHRnsaKmltXZQxD8CfZbfTJGudALaKf3Qalk0czOTDYwAfb+U9YkbFoca3Lv\n",
       "JbfJBWS4o5ZKFsmws+Tz/D9ILqDK3DtwqWSRDDtLh73dTKEL6INhgEoki2Q+mNgI/F/6A9dMcbXF\n",
       "hKa/AAAAAElFTkSuQmCC\n",
       "\" style=\"display:inline;vertical-align:middle;\" /></a></dd>"
      ],
      "text/plain": [
       "<IPython.core.display.HTML object>"
      ]
     },
     "metadata": {},
     "output_type": "display_data"
    },
    {
     "data": {
      "text/html": [
       "<dt><a class=\"ProveItLink\" href=\"../booleans/negation/_theory_nbs_/axioms.ipynb#not_t\">proveit.logic.booleans.negation.not_t</a></dt><dd><a class=\"ProveItLink\" href=\"../booleans/negation/__pv_it/axioms/fa3556271013b3b54b7b75b637f6a18a1772897d0/expr.ipynb\"><img src=\"data:image/png;base64,iVBORw0KGgoAAAANSUhEUgAAAFcAAAAVBAMAAADBdm84AAAAMFBMVEX///8AAAAAAAAAAAAAAAAA\n",
       "AAAAAAAAAAAAAAAAAAAAAAAAAAAAAAAAAAAAAAAAAAAv3aB7AAAAD3RSTlMAInZUiRDNmWbv3US7\n",
       "qzJazP2FAAAACXBIWXMAAA7EAAAOxAGVKw4bAAAAvElEQVQoz2NgYBBgQAWMDLgBkwGaALcCbsUm\n",
       "MAb7KjC4wKCBRRV3A4hkTUASYgYbyhaAqRgiw96AIcRRgEsxJ6YQw1Rcis2wKM7ApbgEi2JfXIoz\n",
       "sChuQwkcJJnFMOEChGJLXCbPhsXbBYTi96Qo3olL8WIsiq1wufkQTDGSm3twmeyLJTRKcCl+hZlc\n",
       "GFajqQS6aOUskIu4HmCYwrgAVwrFkmpQ0hYqOIghIoM78ccQoR3hQvRcxCSASykA470wqH9vffUA\n",
       "AAAASUVORK5CYII=\n",
       "\" style=\"display:inline;vertical-align:middle;\" /></a></dd>"
      ],
      "text/plain": [
       "<IPython.core.display.HTML object>"
      ]
     },
     "metadata": {},
     "output_type": "display_data"
    },
    {
     "data": {
      "text/html": [
       "<dt><a class=\"ProveItLink\" href=\"../booleans/negation/_theory_nbs_/axioms.ipynb#not_f\">proveit.logic.booleans.negation.not_f</a></dt><dd><a class=\"ProveItLink\" href=\"../booleans/negation/__pv_it/axioms/b9bd74a578c6b2e794e4ce82c543ff5c79f215890/expr.ipynb\"><img src=\"data:image/png;base64,iVBORw0KGgoAAAANSUhEUgAAAFcAAAAVBAMAAADBdm84AAAAMFBMVEX///8AAAAAAAAAAAAAAAAA\n",
       "AAAAAAAAAAAAAAAAAAAAAAAAAAAAAAAAAAAAAAAAAAAv3aB7AAAAD3RSTlMAInZUiRDNmWbv3US7\n",
       "qzJazP2FAAAACXBIWXMAAA7EAAAOxAGVKw4bAAAAuklEQVQoz2NgYBBgQAWMDLgBkwGaALcCbsUm\n",
       "yOoaQKQGuhL2VWBwgYE1AUmUGWwoWwCmkRAZ9gYMIY4CXIo5MYUYpuJSbIZFcQYuxSVYFPviUpyB\n",
       "RXEbShAgySyGCRcgFFviMnk2LN4uIBS/J0XxTlyKF2NRbIXLzYdgipHc3IPLZF8soVGCS/Er5OSy\n",
       "chbY3tWYiiFJjOsBhgTjAlwpFEuqQUlbqOAghogM7sQfQ4R2hAvRcxGTAC6lAOIDMKhWJ6jVAAAA\n",
       "AElFTkSuQmCC\n",
       "\" style=\"display:inline;vertical-align:middle;\" /></a></dd>"
      ],
      "text/plain": [
       "<IPython.core.display.HTML object>"
      ]
     },
     "metadata": {},
     "output_type": "display_data"
    },
    {
     "data": {
      "text/html": [
       "<dt><a class=\"ProveItLink\" href=\"../booleans/negation/_theory_nbs_/axioms.ipynb#negation_elim\">proveit.logic.booleans.negation.negation_elim</a></dt><dd><a class=\"ProveItLink\" href=\"../booleans/negation/__pv_it/axioms/0fd3f403bc4d76bb1a3bc88358aa217c1bfc7dc50/expr.ipynb\"><img src=\"data:image/png;base64,iVBORw0KGgoAAAANSUhEUgAAAJcAAAAXBAMAAAD0AcCSAAAAMFBMVEX///8AAAAAAAAAAAAAAAAA\n",
       "AAAAAAAAAAAAAAAAAAAAAAAAAAAAAAAAAAAAAAAAAAAv3aB7AAAAD3RSTlMAq1RmmUTNIjK7EInv\n",
       "3XZ/CtNrAAAACXBIWXMAAA7EAAAOxAGVKw4bAAABvElEQVQ4y2NgIBoUUCSNCvgUwFQZLvk4IBYA\n",
       "MZSJMEwbQuVjkQoGW2bAwOAKYqQTNosrAUwx/ccipwcmsxgYGoEU+wTChrEYQCj5AlyGmTAwsC1g\n",
       "YOBWIGwYD4Tavr8Bl2E8CxiYgTayERFkamCS/cF7BVyGsQFNOnv37mkiDPOG+JJB3wCXYdzAuPRg\n",
       "YJgF5iyAKkcBC2CMZDAZxNC/AUT73gWBiyiGMQOjqJCBHZw8uE6AhThR4/AEjHUJTDow1AvgchnT\n",
       "AaDuBdwBYFd+wmIYVBAIjoLT0hQX+Qm4DOP4ADTwAST8I85hMQwqCDNsHQMD/wVchrECXcaQYAdm\n",
       "P0jEYhhUEOZNBwYG3gO4wowJZM2mLLAPGNwwDYMJAsE8kN2gZPQBl8uYQQFQAw7SCIY3SIbtnDlz\n",
       "5gWEIBBsBKkEyX/HZRgLKJ4ZwWnae7f8AlSXCSAEgaCXgWHl/ywGpvnfNqCaBPTxGbCPeQMQHmKo\n",
       "b0A3DC4IBLwNhJJ1LXIpwq+AapgDQhAUIg6EDHOGlwkHGbj8U9EiACEIAtMJmIWt6OHEpXglAcM4\n",
       "C0gwjP0BfsOeM5BgGDmAnQK9AL/XYzuwbv1UAAAAAElFTkSuQmCC\n",
       "\" style=\"display:inline;vertical-align:middle;\" /></a></dd>"
      ],
      "text/plain": [
       "<IPython.core.display.HTML object>"
      ]
     },
     "metadata": {},
     "output_type": "display_data"
    },
    {
     "data": {
      "text/html": [
       "<dt><a class=\"ProveItLink\" href=\"../booleans/negation/_theory_nbs_/axioms.ipynb#operand_is_bool\">proveit.logic.booleans.negation.operand_is_bool</a></dt><dd><a class=\"ProveItLink\" href=\"../booleans/negation/__pv_it/axioms/9b3df63ea9b96f801a3dadc45f3be22470f1b8ac0/expr.ipynb\"><img src=\"data:image/png;base64,iVBORw0KGgoAAAANSUhEUgAAALUAAAAXBAMAAAC/qRN/AAAAMFBMVEX///8AAAAAAAAAAAAAAAAA\n",
       "AAAAAAAAAAAAAAAAAAAAAAAAAAAAAAAAAAAAAAAAAAAv3aB7AAAAD3RSTlMAq1RmmUTNIjK7EInv\n",
       "3XZ/CtNrAAAACXBIWXMAAA7EAAAOxAGVKw4bAAACq0lEQVRIx62VTYjTQBiG302bpm222V48iIdG\n",
       "BS+C9uB6EaTo6grrT9DLqiArIkIRrQg9KVuPImJAUSOo8bgIEj2o1YP1ICzIahFZECzEi4K/i4f1\n",
       "uH4zk9/tjxCcQybzJvNkvvf7ZgIkb7XED//ZNJ139WXqx+uLcyuAI3RfZMLaJOz1oju9TM7Jbv2e\n",
       "Aa0M7GDjEwnQ+SneSUtd7LJaM4EqcIGGipmAnS6LrlTrYqd0cmMTkLEBVU/AHhbdkxcNz+jbnfmA\n",
       "TTEN20jR5zNJ7F7Hr4r7SyxMPmUH6x466xCUwHOdzusk7AlhCTYKb+p24MnXH6uoV8mXXcAtLtre\n",
       "yyJFoYs2tF7sY/y6H1ccxMohJ8+/fU+sFPlyBgqvw/yseCTeGA3rgfSK78PjPdt8/R2/VjDNZ2Mq\n",
       "kkttlIpEatG9rRpMU39H2PliwGb6YeqznyxDU5U1Xurwiifw2liJF1mWrO188NgwaUJ2gfiuSOXk\n",
       "mwg7bQRsprNiGiOopuKZHmU/AEbafDFmZN0wiSK3WDRbueYejbALoa9MpyJl+4zYyhY76gmZVWjx\n",
       "YTvGpuVKTHlU5dFhZ4QdHhJclyqY4YP07ln/wR1WeKyAF/jwZ4y9gXLJIjnHvZ3E9wj7INC0LKvt\n",
       "6bKJA5ytZvf6bj1kU9mEP3yY0QO2o36jeNKsfoZ4diael+yQvVq8V/T0rInN9Cmd/HYcj3EZmFmq\n",
       "Qrq7yJX8ykMizpMWPwdRMMLQMd0I2Rd9ttDJk0ti3XBcb0ahEa93uSn2vN/OB3cU8ojelcuKp2su\n",
       "lapgP/XZqcrgfbs9ONReIr/veMjO1WI6DZWbbO98bl4NJt8YiO51tgq27MREViT3LcvoEvu3XK0f\n",
       "G+MxcbznytxB7C/oy1btiJYy8F+aEpx+kd9XMtRftIWaMXw2otwAAAAASUVORK5CYII=\n",
       "\" style=\"display:inline;vertical-align:middle;\" /></a></dd>"
      ],
      "text/plain": [
       "<IPython.core.display.HTML object>"
      ]
     },
     "metadata": {},
     "output_type": "display_data"
    },
    {
     "data": {
      "text/html": [
       "<dt><a class=\"ProveItLink\" href=\"../booleans/conjunction/_theory_nbs_/axioms.ipynb#and_t_t\">proveit.logic.booleans.conjunction.and_t_t</a></dt><dd><a class=\"ProveItLink\" href=\"../booleans/conjunction/__pv_it/axioms/2e06e480834dffc99779e341f5b63756ff25f98e0/expr.ipynb\"><img src=\"data:image/png;base64,iVBORw0KGgoAAAANSUhEUgAAAHAAAAAVBAMAAABs93eRAAAAMFBMVEX///8AAAAAAAAAAAAAAAAA\n",
       "AAAAAAAAAAAAAAAAAAAAAAAAAAAAAAAAAAAAAAAAAAAv3aB7AAAAD3RSTlMAInZUiRDNmWbv3US7\n",
       "qzJazP2FAAAACXBIWXMAAA7EAAAOxAGVKw4bAAABBklEQVQ4y2NgYBBgwAPwSDIZ4NO4CbeUCQP7\n",
       "KjC4gCxaBRZay8DUgK4eJsOaAOIxK8DEWeAOMAKTqVjsAsuwN6BqjEpA1diOSyMnA6pGjduoGjkD\n",
       "cGg0Q9O44A2qRrYGHBpLUDUyO7AJoGhkuYBDYwaqRjYB5gIUjRwJyEGJJLMYVeNbBoalKBqZJ+Cw\n",
       "cTaqxnsMDEooGvk+EKURFKtRKBq5cdmI6lRQ9LMboDh1AQ4/HkLRyAXEjAkogXMAh42+KBqbQMQ5\n",
       "ZI3sDjg0voL4BBrNV0HEIwh7B8QNGzA1gmW4HjDgBVK4JDgK8GuswClzEK8+xgM4pWLwauTBXXYw\n",
       "KuDTqIhLAgC+eT6Z7OhW8wAAAABJRU5ErkJggg==\n",
       "\" style=\"display:inline;vertical-align:middle;\" /></a></dd>"
      ],
      "text/plain": [
       "<IPython.core.display.HTML object>"
      ]
     },
     "metadata": {},
     "output_type": "display_data"
    },
    {
     "data": {
      "text/html": [
       "<dt><a class=\"ProveItLink\" href=\"../booleans/conjunction/_theory_nbs_/axioms.ipynb#and_t_f\">proveit.logic.booleans.conjunction.and_t_f</a></dt><dd><a class=\"ProveItLink\" href=\"../booleans/conjunction/__pv_it/axioms/12e5b601afe5116e2b09be2b7482d4d0c350a2490/expr.ipynb\"><img src=\"data:image/png;base64,iVBORw0KGgoAAAANSUhEUgAAAHAAAAAVBAMAAABs93eRAAAAMFBMVEX///8AAAAAAAAAAAAAAAAA\n",
       "AAAAAAAAAAAAAAAAAAAAAAAAAAAAAAAAAAAAAAAAAAAv3aB7AAAAD3RSTlMAInZUiRDNmWbv3US7\n",
       "qzJazP2FAAAACXBIWXMAAA7EAAAOxAGVKw4bAAABCElEQVQ4y2NgYBBgwAPwSDIZ4NO4CbeUCQP7\n",
       "KjC4gCaxA2xsAxYtYBnWBBDJrAATZIE7wAhMpmLRCJZhb0DVGJWAqrEdl0ZOBlSNGrdRNXIG4NBo\n",
       "hqZxwRtUjWwNODSWoGpkdmATQNHIcgGHxgxUjWwCzAUoGjnAfq4Ch/taZJnFqBrfMjAsRdHIPAGH\n",
       "jbNRNd5jYFBC0cj3gSiNoFiNQtHIjctGVKeCop/dAMWpC3D48RCKRi4gZkxACZwDOGz0RdHYBCLO\n",
       "IWtkd8Ch8RXEJ9BovgoiHkHcNhPsNq4NaLpgMlwPGPACKVwSHAX4NVbglDmIVx/jAZxSMXg18uAu\n",
       "OxgV8GlUxCUBANnJPncvU02iAAAAAElFTkSuQmCC\n",
       "\" style=\"display:inline;vertical-align:middle;\" /></a></dd>"
      ],
      "text/plain": [
       "<IPython.core.display.HTML object>"
      ]
     },
     "metadata": {},
     "output_type": "display_data"
    },
    {
     "data": {
      "text/html": [
       "<dt><a class=\"ProveItLink\" href=\"../booleans/conjunction/_theory_nbs_/axioms.ipynb#and_f_t\">proveit.logic.booleans.conjunction.and_f_t</a></dt><dd><a class=\"ProveItLink\" href=\"../booleans/conjunction/__pv_it/axioms/a65bf4fde9913e34cd5a85bbb0b1d1d29d885ac50/expr.ipynb\"><img src=\"data:image/png;base64,iVBORw0KGgoAAAANSUhEUgAAAHAAAAAVBAMAAABs93eRAAAAMFBMVEX///8AAAAAAAAAAAAAAAAA\n",
       "AAAAAAAAAAAAAAAAAAAAAAAAAAAAAAAAAAAAAAAAAAAv3aB7AAAAD3RSTlMAInZUiRDNmWbv3US7\n",
       "qzJazP2FAAAACXBIWXMAAA7EAAAOxAGVKw4bAAABDUlEQVQ4y2NgYBBgwAPwSDIZ4NO4CbeUCYjg\n",
       "bkATrVoFAmsZmBqwaNkBIlgTQCSzAkyQBe4AIzCZikUjWIa9AVVjVAKqxnZcGjkZUDVq3EbVyBmA\n",
       "Q6MZmsYFb1A1sjXg0FiCqpHZgU0ARSPLBRwaM1A1sgkwF6Bo5EhADmQkmcWoGt8yMCxF0cg8AYeN\n",
       "s1E13mNgUELRyPeBKI2gWI1C0ciNy0ZUp4Kin90AxakLcPjxEIpGLiBmTEAJnAM4bPRF0dgEIs4h\n",
       "a2R3wKHxFVBu1aqVs1atAkXYVZDQI6SkzMC1ATP5zwS5musBA14ghUuCowC/xgqcMgfx6mM8gFMq\n",
       "Bq9GHtxlB6MCPo2KuCQAUbM+d/PnPScAAAAASUVORK5CYII=\n",
       "\" style=\"display:inline;vertical-align:middle;\" /></a></dd>"
      ],
      "text/plain": [
       "<IPython.core.display.HTML object>"
      ]
     },
     "metadata": {},
     "output_type": "display_data"
    },
    {
     "data": {
      "text/html": [
       "<dt><a class=\"ProveItLink\" href=\"../booleans/conjunction/_theory_nbs_/axioms.ipynb#and_f_f\">proveit.logic.booleans.conjunction.and_f_f</a></dt><dd><a class=\"ProveItLink\" href=\"../booleans/conjunction/__pv_it/axioms/b5ff076bc01af38ecec321425420cbf9d4b90b460/expr.ipynb\"><img src=\"data:image/png;base64,iVBORw0KGgoAAAANSUhEUgAAAHAAAAAVBAMAAABs93eRAAAAMFBMVEX///8AAAAAAAAAAAAAAAAA\n",
       "AAAAAAAAAAAAAAAAAAAAAAAAAAAAAAAAAAAAAAAAAAAv3aB7AAAAD3RSTlMAInZUiRDNmWbv3US7\n",
       "qzJazP2FAAAACXBIWXMAAA7EAAAOxAGVKw4bAAABC0lEQVQ4y2NgYBBgwAPwSDIZ4NO4CbeUCYjg\n",
       "bsCU2AE2FosERIY1AUQyK8AEWeAOMAKTqVg0gmXYG1A1RiWgamzHpZGTAVWjxm1UjZwBODSaoWlc\n",
       "8AZVI1sDDo0lqBqZHdgEUDSyXMChMQNVI5sAcwGKRg6wn6tWgcBaZJnFqBrfMjAsRdHIPAGHjbNR\n",
       "Nd5jYFBC0cj3gSiNoFiNQtHIjctGVKeCop/dAMWpC3D48RCKRi4gZkxACZwDOGz0RdHYBCLOIWtk\n",
       "d8Ch8RVQbtWqlbNWrQJF2FWQ0COI22aC3ca1AU0XTIbrAQNeIIVLgqMAv8YKnDIH8epjPIBTKgav\n",
       "Rh7cZQejAj6NirgkAF5+PmZemn66AAAAAElFTkSuQmCC\n",
       "\" style=\"display:inline;vertical-align:middle;\" /></a></dd>"
      ],
      "text/plain": [
       "<IPython.core.display.HTML object>"
      ]
     },
     "metadata": {},
     "output_type": "display_data"
    },
    {
     "data": {
      "text/html": [
       "<dt><a class=\"ProveItLink\" href=\"../booleans/conjunction/_theory_nbs_/axioms.ipynb#left_in_bool\">proveit.logic.booleans.conjunction.left_in_bool</a></dt><dd><a class=\"ProveItLink\" href=\"../booleans/conjunction/__pv_it/axioms/75f54c05e4cea1b258e66ff4d9fbf25b99fcb9940/expr.ipynb\"><img src=\"data:image/png;base64,iVBORw0KGgoAAAANSUhEUgAAANQAAAAXBAMAAACBjHwxAAAAMFBMVEX///8AAAAAAAAAAAAAAAAA\n",
       "AAAAAAAAAAAAAAAAAAAAAAAAAAAAAAAAAAAAAAAAAAAv3aB7AAAAD3RSTlMAq1RmmUTNIjK7EInv\n",
       "3XZ/CtNrAAAACXBIWXMAAA7EAAAOxAGVKw4bAAADUUlEQVRIx61WXUgUURQ+7u44O7M5+WBU9NCW\n",
       "EARFS5kQUq1lP6bVgBCm/RgRgUluL0IUrj1KQUs95AaxE0QQZawhlS2U+aRFofRDQQtbghBUmJWZ\n",
       "YnXOubO7sz8YyS7snHvOvfd855zv3DsDkLOfPOvJ//59ED4bUq2fB5qbhnSQYgCFpBfnAMkWZpE/\n",
       "mmYPHJAb5wEMA2wh9WgOoK4LsSoDqgbuKRiCAWco6UAOoDYLUf4zE2p1HoDdS2jgcucAqpefrlMT\n",
       "QtWuRF8noPJRPgG7B5PLBVWiHVq1MZbScSOZ1fwylIcBnkWjT3MA5RBd4bV9Y9liJNvi9hDNdQFs\n",
       "B7jMNiNtrxmtDx9q6pSWBSrfw8m4nVOQ2miB/U3TO1CWApwAmRte7eeZ9u+RyjYaKGLlWnrcajP3\n",
       "OUNV3R0Yu6kuu7tzkzkscIv45K+sNljbYngPprECXRounQkVRbYPgtabhFI5jEfkp5FG6wE+AdQT\n",
       "6vugrrnkpWYUc9jJx4ryXxwS0hJ9G4dSJKzgeaxQTHRF7XMWeV6wjyahHORBOodn3b6I9CKAjXxI\n",
       "oAIxNBc8cFugVFw3zREGrFkpgOo+ynUDm2KHxBY3dHqSUAXMTT7mpihEZh+oL/h0aLQIsyozLAUk\n",
       "ft+xOpgKhfVcieM7jYLqrTzjHy5ZAEmoFo7CgUuLqQry7zXlmI3NCzd4k6O63/SoYEJQg/9mVr+k\n",
       "QNlwch2OTzMdtcQBk6EWWaD2Uv3aiL0ANSoyeRV7QgqwV8zKuUsXHl3oRSaSQz5uyMStEKiHh90o\n",
       "q4gdJrYqstgwyfDrSaglVJZI1yTYPNQMyKT8A1kPQGkwGHQjV+Gw2ZuDoIbGDVj+5xiTtbBO2EcG\n",
       "QnSzA7yyHBU/Q/YBHLQ0ezvVD+QJUpEsZFKa4AKeFVlBOGZ6eJN6zqQe82KKv7AS7GE95rrVMMiT\n",
       "oL6ElLaQsAHG6D2D7xy/AZ1YQC0G3CQIdT8OVfKP28QTHzwGdfcRZx+UTkUq3RYoxQfVhXBtXKdT\n",
       "67U3R7ovCKvcQUd4pOdi3JfimxHqZPqdaRkLKCmcbR+1381gULfa1JnfRJfS9LoMKNiWbV9WY+tM\n",
       "SFp6zp5MKJeRuc+u5/SjJPGNkwVKnZXDv8A3yAJGq2d5AAAAAElFTkSuQmCC\n",
       "\" style=\"display:inline;vertical-align:middle;\" /></a></dd>"
      ],
      "text/plain": [
       "<IPython.core.display.HTML object>"
      ]
     },
     "metadata": {},
     "output_type": "display_data"
    },
    {
     "data": {
      "text/html": [
       "<dt><a class=\"ProveItLink\" href=\"../booleans/conjunction/_theory_nbs_/axioms.ipynb#right_in_bool\">proveit.logic.booleans.conjunction.right_in_bool</a></dt><dd><a class=\"ProveItLink\" href=\"../booleans/conjunction/__pv_it/axioms/0fd3c8ac5f4e37ae647b9491b9192a9b51a486980/expr.ipynb\"><img src=\"data:image/png;base64,iVBORw0KGgoAAAANSUhEUgAAANUAAAAXBAMAAABuThcPAAAAMFBMVEX///8AAAAAAAAAAAAAAAAA\n",
       "AAAAAAAAAAAAAAAAAAAAAAAAAAAAAAAAAAAAAAAAAAAv3aB7AAAAD3RSTlMAq1RmmUTNIjK7EInv\n",
       "3XZ/CtNrAAAACXBIWXMAAA7EAAAOxAGVKw4bAAADGklEQVRIx62WS2jUQBjHv032kUebtqBi8dBo\n",
       "oSeRCG0vol18F18BL7UFXREpliIrwp7U1WPx0IAgpiCmF0FECB7E2kvtQRSp9lBKBRdSBQUftYpv\n",
       "Qf1mJplkHywiCexs5vvvzG++x8wsQGxPpq6ahzifFzWt2vPLX2dWAhzG92ZiaI8BJbgA4rWPLauu\n",
       "lNvllFcYN0EzAHaQ/mAMrOukabAA2s5XsAw1j+YhgAsk0lYMrG2kKXoAR7KVLFHH6HUCpB0AVY+B\n",
       "NUWaHvSpx2OJulqa56wcuuyAiHFMx5GuHGnb8DNMSy510uF+JU5jLtMImimVHsfASrqkfQQwvkD7\n",
       "BYfH8M37NfitYhx3A4xRo1Mx2F9vvlrTarDIskH6sbR4jPUHw3zNP53D8SI6fgoytO6Vh1Qa+TzZ\n",
       "SwtJZj/timhcDrLfcWffVv+1keRc+waw3qD9XKQ2tC4sQgETKjuqSWzqJyqJs6BNhSylmWukinx5\n",
       "gPiwaJuamlnnV3gDmUTGkep30pUwNaVnPgssHCAtI89jpdH3hH4lsiAuh6ykybWNLpcJdjtCNBXu\n",
       "6RFWE65M/E3XaEX8AgsnSxEPcluozTvKxuhwywhZjaFmjXEZNwk5B5CV2eREYjiKxsQX2p8tY6E7\n",
       "ArHcHmL53kml4svO1RCyClwTjAEuC1m4QYXk3iCTMtlVH7CQRlmmlspYG9Bf4ukZmpI+eEelzaCs\n",
       "iLAOcU3GzAZyyoKDlKVK+002JSlpGEbpAXM0rXOWq77N+psiQbO7Z7KN/ghnKpohay3X2iHlBrJk\n",
       "Qbdt2zrmy3XZlBKGqPVPS8sJn6G09rP9MWzTcx4azciWKVLmNB5okZof4ZpF9yGTMYYXmV/gev4M\n",
       "CxUbLjXBzqjgOcvfMCRNuuJC5icoc1BeG1QTDHIH+bLm0YAS1t2A1fkvZzMt7fugHDguTUP3r8le\n",
       "PcKS876WpEeJL6M1Q66pjlcTl3gN1L95q+4SIXoXsEi4tQaSIrxp22bUptS/mKqW0l/Fgl21BtY0\n",
       "nqvLel1pMKpZqlM9TjQh3if4W1SDpfzfjH8BDObDlhJXfUIAAAAASUVORK5CYII=\n",
       "\" style=\"display:inline;vertical-align:middle;\" /></a></dd>"
      ],
      "text/plain": [
       "<IPython.core.display.HTML object>"
      ]
     },
     "metadata": {},
     "output_type": "display_data"
    },
    {
     "data": {
      "text/html": [
       "<dt><a class=\"ProveItLink\" href=\"../booleans/conjunction/_theory_nbs_/axioms.ipynb#empty_conjunction\">proveit.logic.booleans.conjunction.empty_conjunction</a></dt><dd><a class=\"ProveItLink\" href=\"../booleans/conjunction/__pv_it/axioms/78b88323a9b068018175a0ae2b6e5ee81f7d387a0/expr.ipynb\"><img src=\"data:image/png;base64,iVBORw0KGgoAAAANSUhEUgAAACkAAAAVBAMAAAAp9toTAAAAMFBMVEX///8AAAAAAAAAAAAAAAAA\n",
       "AAAAAAAAAAAAAAAAAAAAAAAAAAAAAAAAAAAAAAAAAAAv3aB7AAAAD3RSTlMAdt0yiURUEM1mq7si\n",
       "me/+MEVxAAAACXBIWXMAAA7EAAAOxAGVKw4bAAAA4ElEQVQY02MQUmaAACiDh+EAkHRlgAEIS4wh\n",
       "EFOUzYGBcQKU7QYXrQDidgibXQMuehOI50LYjLMCYKIPgJivAMxmYt4AFWVrABIcE8DsFIYeqCiv\n",
       "A5BgWQBm9zDkQkWByhgYOBtAbOYFDEwFEFGmBJAxD0BsLgMGRgGIKB/IWuYPIDbQjewKSKKsYLUg\n",
       "P1xDNkEBxAaqYzgBEeUWANm2AcjmBLG4DcCiQEeBnefKwFUAskEALMoM0scUgB5moEA+hBGScyEh\n",
       "hCbKfYCBZwOGKPsGkASDEzzenoKpgwwyDAwAXGQq05XnXYMAAAAASUVORK5CYII=\n",
       "\" style=\"display:inline;vertical-align:middle;\" /></a></dd>"
      ],
      "text/plain": [
       "<IPython.core.display.HTML object>"
      ]
     },
     "metadata": {},
     "output_type": "display_data"
    },
    {
     "data": {
      "text/html": [
       "<dt><a class=\"ProveItLink\" href=\"../booleans/conjunction/_theory_nbs_/axioms.ipynb#multi_conjunction_def\">proveit.logic.booleans.conjunction.multi_conjunction_def</a></dt><dd><a class=\"ProveItLink\" href=\"../booleans/conjunction/__pv_it/axioms/c857baeacaa4aa6e146076efc61af651d3fc8ea00/expr.ipynb\"><img src=\"data:image/png;base64,iVBORw0KGgoAAAANSUhEUgAAAhsAAAAzBAMAAADMadf8AAAAMFBMVEX///8AAAAAAAAAAAAAAAAA\n",
       "AAAAAAAAAAAAAAAAAAAAAAAAAAAAAAAAAAAAAAAAAAAv3aB7AAAAD3RSTlMAq1RmmUTNIjK7EInv\n",
       "3XZ/CtNrAAAACXBIWXMAAA7EAAAOxAGVKw4bAAAH5klEQVRo3uVbb2wURRR/t3t3u932rteoxBih\n",
       "l6gkhpjWgEQSpcc/YygJJ3yQGAKnaIj4gSMxGBXs4QejsdBKTGiJ0jMYE4vAQYgm9EOvEAQlmouo\n",
       "H4yNRzASDGmPf6WUyDmzs7O3M7ezd43b2xom6d7Omze7s7+d9+bN+20BKpT+/n64O4rW35+uqPRH\n",
       "8bqLt6xLTUMY9hpjKxa7Kyr/4uqt72GryVo+tvBmO+mkkGsMhy/DVMNR/WerQHvr5C6uJJzb14ka\n",
       "pJxHcMxnq3PIz2aB9ubJXTxYEDQsKDY1vZqCcKuo5xFv4FBOs0ZLXqdUtAqPll6aQM6U+qh52lIQ\n",
       "NX2H5uU4wCbRuEKtnsARyjNVPxmFv9li1dqvpWaBnCkHSxay6KagSbkDEEALwjyhtXzvCRxPsdUG\n",
       "8vPNoGW5CT8ep6ciOVMu3GdOhrfHBU0yapARJA3CdfRlT+A4y1Znk3eXH41aJpBKhySSsyX3AT17\n",
       "J3xV0ORDVhREdhoUOo/1SQ/gCE+w9XZiE9DSavWuG6mtCOTsNM8EqUXFpGuCpoZu0GaimVYfEXrh\n",
       "iAdwhLjhbNCPq6DLsvxuhIeNM5GcfY6kFCNngah6W9DUtW9kBkZWxs7EP6wXdijShAdwdHEh6U/k\n",
       "rUIHGtt+4vfUCIQMC9fl2kBTmpMzZQfAb3QyKVcETaNJkE7ih84KA9M7HsDxIFc/pVvQx0ubu0Ed\n",
       "IaGQD4UHZPkhcj/4c6ycLfcDjJCzS0sX3RI0fYL+sFtWC8KhfeoBHEN2cBwCaMyZkeEX6E2RMyJv\n",
       "jCvjrLwscjlIzhBY/9g3AZ41bag9IJwd0JasORzqNbAxFmTfoawJBw62FkNJLqcJHCV5WaTljxJb\n",
       "AfgdhRZPjkQu9LBN+n2b48Y9bH0HHG6tORxhLkyCfdgDtpLo2oAjR7cqVA71OUbOOWdzq7JaD+q1\n",
       "J06iOXiebcL3Vcecn7YhUnM46rI2W4VtuOEmhUPO0yQAlZPtpinX8GMdTtDDQtwJTwYFX7svqRxK\n",
       "wDhZwM0mCKK2tThA92fEY8sZcOiwPOQIRyWVKksDj/1OgC+Lm0DqG8sYcPjws6t5i1zZy8jhZ/zi\n",
       "Y/TwAG7chVDqG0vDo8XXwJdXs8QIaRP4+q40zditT5i4cGz1BQOOZWRVd4KjkkqV5XCMn+opm002\n",
       "V16HNyYFeSrcrRQEOabt4n7yDQOOHXiqdTvCUUml2rCDXynlWEU4lJ73l0/mHh1ofsjdMfvGJQ5u\n",
       "/o4BRzDN7JLt4KikUmVpKbvEntJjf307b/u2i8XCZO7xHApGlVn2WzWnN6pdN+CQsQt3dqWVVKos\n",
       "bWVz+Mta5gahzikVeYWuLD8MD5+tsLJUUKmyjJYNR8nXEo6LTo23KBzPAuytAIepYp2Fmr2+MKcA\n",
       "g2mYvuVbCscWULgQbXt7XB6ywkFVtDMWra9s/TejAmpf+7EeWlk5neEYpnDUpest67F6vjcuRY7D\n",
       "ciscVKXemmAZtHWu9WwO5mmAy/S8eRqjgQN8AoeUt7rJpeidSwv9kLHCQVXW/FhSDHTaGr5VBZV7\n",
       "kQf9f8EBCRTPykt2nQ8vMJLv0rvP5xk4dBVU8i9adiBB29ySVQWVE6CdczCWJEwh9ZScjNw0FjiK\n",
       "4vn9a1sbIuEIWfqk1PFHWDiO6jn5MDxjeW5/wm6bZlXBOey5i0wXM1g2Dkw7uUs9WfVFNNM6R1cK\n",
       "29BrfusvaEyhLc5qAoc/3M3AsU2fCWuwH3iTvONAKpyFVX/yu4A1JVehXz8Hn5kh4miZ750DblNP\n",
       "Vv0ymsmJfhoy4fDhYc6CTghFYX5vb29USmmZBAOHrgLtA81p9TECh3/gyARkNT5kxCqWqi8Gyg1h\n",
       "GIYzNC5TT4z+Jr6bA/10nd3gn4FL0KHCh2R2wKp8+QY/jLYEKZqyzIMyDkk1y9sKUpEXz102hzx6\n",
       "QxQCJvvRwk8lTDu5TD0x+vO4bg70k3abgUMpoPmxwI+WVCyNQzhSDgcypMYohkPL6NkZtKTWxXHl\n",
       "ADkcMFSkS3BKQr4H1TvScNA0li5+kjaA29QTq2/QTGY3B/rJ3MIZy2YE7eC3/I12kDgPsdHIcTBw\n",
       "+IdAW/kKhkM9ASsi8PlYHIerqNKZVE+jQ2fUUOnREjgt1xmVNw8c223espHfaM4Gt6knVt+gmcxu\n",
       "DvSTdNU+G3agtzfumA3DxiJRo03nSxUAOpKclAnJljrtyS9F7eA29cTqGzST2c2BfiKJy8knB9XL\n",
       "yDG9QN14MVeqQMCYg1okHPddLNVNv8onBzeAy9QTpy8n2G4M/cSNrfAfcqWtthWZz+7wdY6T1JN4\n",
       "rlJPxnXMaZNluznQTyRxWVtigaOUdZ7FVeqJ6JduWGC7OdBPHfmaw2FLO7lJPdHrmNabZbs50E8e\n",
       "0E6wQmQsMXeoJ6pv7L+M65ndWPqJLTOh9nCs58KGfeAu9WTo0/2X8XRmNyf6yQvKOsQFHkfAVeqJ\n",
       "6tP9F6GZSpcLZoX0k+zFBw380rIT3KSeSvrG/ovQTGY3J/op5MXnLvzHUJh2mgLqie6/hDRTudyT\n",
       "j6GgjQ0bMO00BdQT3X8JaaZy+UfgBRxBzmj3wFRQT+b+S/Bw5fLAhCdwqOxntnrubeqoJxHNVC4P\n",
       "RT2BA9k0+57yU0k9Xaxa7tFH2Pwn+tOkBBLVw3HO1X/veWk6wvEe8fBa/6HKcNwF/95j5E7xv/f8\n",
       "C5yU6Meafm4fAAAAAElFTkSuQmCC\n",
       "\" style=\"display:inline;vertical-align:middle;\" /></a></dd>"
      ],
      "text/plain": [
       "<IPython.core.display.HTML object>"
      ]
     },
     "metadata": {},
     "output_type": "display_data"
    },
    {
     "data": {
      "text/html": [
       "<dt><a class=\"ProveItLink\" href=\"../booleans/disjunction/_theory_nbs_/axioms.ipynb#or_t_t\">proveit.logic.booleans.disjunction.or_t_t</a></dt><dd><a class=\"ProveItLink\" href=\"../booleans/disjunction/__pv_it/axioms/51ce2bda98b4bba5508f7e5f97f3c050ced5ef980/expr.ipynb\"><img src=\"data:image/png;base64,iVBORw0KGgoAAAANSUhEUgAAAHAAAAAVBAMAAABs93eRAAAAMFBMVEX///8AAAAAAAAAAAAAAAAA\n",
       "AAAAAAAAAAAAAAAAAAAAAAAAAAAAAAAAAAAAAAAAAAAv3aB7AAAAD3RSTlMAInZUiRDNmWbv3US7\n",
       "qzJazP2FAAAACXBIWXMAAA7EAAAOxAGVKw4bAAABDElEQVQ4y2NgYBBgwAPwSDIZ4NO4CbeUCQP7\n",
       "KjC4gCxaBRZay8DUgK4eJsOaAOIxK0BEr4KIRxC2EZhMxWIXWIa9AVljE4g4h6yxHZdGTgZkjVxA\n",
       "zJiArJEzAIdGMxSNLMCQYjdA1sjWgENjCYpGkG1cyNIMLBdwaMxA0chwj4FBCUUjRwJyUCLJLEbV\n",
       "+JaBYSmKRuYJOGycjaqRTYC5AEUj3wfiNDI7sAmgaOTGZSOaUxkWvGFAdeoCHH48hKZR4zaqRo4D\n",
       "OGz0RdMYlYCqkd0Bh8ZXEJ/Ao5kdnll2QNLSBkyNYBmuBwx4gRQuCY4C/BorcMocxKuP8QBOqRi8\n",
       "Gnlwlx2MCvg0KuKSAAAZyT5Ic8b3zgAAAABJRU5ErkJggg==\n",
       "\" style=\"display:inline;vertical-align:middle;\" /></a></dd>"
      ],
      "text/plain": [
       "<IPython.core.display.HTML object>"
      ]
     },
     "metadata": {},
     "output_type": "display_data"
    },
    {
     "data": {
      "text/html": [
       "<dt><a class=\"ProveItLink\" href=\"../booleans/disjunction/_theory_nbs_/axioms.ipynb#or_t_f\">proveit.logic.booleans.disjunction.or_t_f</a></dt><dd><a class=\"ProveItLink\" href=\"../booleans/disjunction/__pv_it/axioms/60330ee6db5efb06d1adf8b0bcef3a1d453390260/expr.ipynb\"><img src=\"data:image/png;base64,iVBORw0KGgoAAAANSUhEUgAAAHAAAAAVBAMAAABs93eRAAAAMFBMVEX///8AAAAAAAAAAAAAAAAA\n",
       "AAAAAAAAAAAAAAAAAAAAAAAAAAAAAAAAAAAAAAAAAAAv3aB7AAAAD3RSTlMAInZUiRDNmWbv3US7\n",
       "qzJazP2FAAAACXBIWXMAAA7EAAAOxAGVKw4bAAABD0lEQVQ4y2NgYBBgwAPwSDIZ4NO4CbeUCQP7\n",
       "KjC4gCaxA2xsA7r6KrDitQysCSAeswJE9CqIeARhG4HJVCx2gWXYG5A1NoGIc8ga23Fp5GRA1sgF\n",
       "xIwJyBo5A3BoNEPRyAIMKXYDZI1sDTg0lqBoBNnGhSzNwHIBh8YMFI0M9xgYlFA0ciQgByWSzGJU\n",
       "jW8ZGJaiaGSegMPG2aga2QSYC1A08n0gTiOzA5sAikZuXDaiOZVhwRsGVKcuwOHHQ2gaNW6jauQ4\n",
       "gMNGXzSNUQmoGtkdcGh8BfEJPJqh0Q9020yw27g2YGoEJ3+uBwx4gRQuCY4C/BorcMocxKuP8QBO\n",
       "qRi8Gnlwlx2MCvg0KuKSAAAmlD43fBQDCQAAAABJRU5ErkJggg==\n",
       "\" style=\"display:inline;vertical-align:middle;\" /></a></dd>"
      ],
      "text/plain": [
       "<IPython.core.display.HTML object>"
      ]
     },
     "metadata": {},
     "output_type": "display_data"
    },
    {
     "data": {
      "text/html": [
       "<dt><a class=\"ProveItLink\" href=\"../booleans/disjunction/_theory_nbs_/axioms.ipynb#or_f_t\">proveit.logic.booleans.disjunction.or_f_t</a></dt><dd><a class=\"ProveItLink\" href=\"../booleans/disjunction/__pv_it/axioms/9e9f256c794c8500531ff9573d3ae5b5b63b68f90/expr.ipynb\"><img src=\"data:image/png;base64,iVBORw0KGgoAAAANSUhEUgAAAHAAAAAVBAMAAABs93eRAAAAMFBMVEX///8AAAAAAAAAAAAAAAAA\n",
       "AAAAAAAAAAAAAAAAAAAAAAAAAAAAAAAAAAAAAAAAAAAv3aB7AAAAD3RSTlMAInZUiRDNmWbv3US7\n",
       "qzJazP2FAAAACXBIWXMAAA7EAAAOxAGVKw4bAAABEElEQVQ4y2NgYBBgwAPwSDIZ4NO4CbeUCYjg\n",
       "bkATrVoFAmsZmNAl4DKsCSAeswJE9CqIeARhG4HJVCx2gWXYG5A1NoGIc8ga23Fp5GRA1sgFxIwJ\n",
       "yBo5A3BoNEPRyAIMKXYDZI1sDTg0lqBoBNnGhSzNwHIBh8YMFI0M9xgYlFA0ciQgByWSzGJUjW8Z\n",
       "GJaiaGSegMPG2aga2QSYC1A08n0gTiOzA5sAikZuXDaiOZVhwRsGVKcuwOHHQ2gaNW6jauQ4gMNG\n",
       "XzSNUQmoGtkdcGh8BZRbtWrlrFWrIBHGDs8sOyBpaQOmRrAM1wMGvEAKlwRHAX6NFThlDuLVx3gA\n",
       "p1QMXo08uMsORgV8GhVxSQAAnm8+N7e7o2QAAAAASUVORK5CYII=\n",
       "\" style=\"display:inline;vertical-align:middle;\" /></a></dd>"
      ],
      "text/plain": [
       "<IPython.core.display.HTML object>"
      ]
     },
     "metadata": {},
     "output_type": "display_data"
    },
    {
     "data": {
      "text/html": [
       "<dt><a class=\"ProveItLink\" href=\"../booleans/disjunction/_theory_nbs_/axioms.ipynb#or_f_f\">proveit.logic.booleans.disjunction.or_f_f</a></dt><dd><a class=\"ProveItLink\" href=\"../booleans/disjunction/__pv_it/axioms/4e6ae09189e7fdfa4842751d2c37d9938b19ca550/expr.ipynb\"><img src=\"data:image/png;base64,iVBORw0KGgoAAAANSUhEUgAAAHAAAAAVBAMAAABs93eRAAAAMFBMVEX///8AAAAAAAAAAAAAAAAA\n",
       "AAAAAAAAAAAAAAAAAAAAAAAAAAAAAAAAAAAAAAAAAAAv3aB7AAAAD3RSTlMAInZUiRDNmWbv3US7\n",
       "qzJazP2FAAAACXBIWXMAAA7EAAAOxAGVKw4bAAABEUlEQVQ4y2NgYBBgwAPwSDIZ4NO4CbeUCYjg\n",
       "bsCU2AE2FosERIY1AUQyK0CEroKIRxC2EZhMxaIRLMPegKyxCUScQ9bYjksjJwOyRi4gZkxA1sgZ\n",
       "gEOjGYpGFmBIsRsga2RrwKGxBEUjyDYuZGkGlgs4NGagaGS4x8CghKKRA+zwqlUgsBZZZjGqxrcM\n",
       "DEtRNDJPwGHjbFSNbALMBSga+T4Qp5HZgU0ARSM3LhvRnMqw4A0DqlMX4PDjITSNGrdRNXIcwGGj\n",
       "L5rGqARUjewOODS+AsqtWrVy1qpVkAiDRj/QbTPBbuPagKYLJsP1gAEvkMIlwVGAX2MFTpmDePUx\n",
       "HsApFYNXIw/usoNRAZ9GRVwSALm/PhVmCEK+AAAAAElFTkSuQmCC\n",
       "\" style=\"display:inline;vertical-align:middle;\" /></a></dd>"
      ],
      "text/plain": [
       "<IPython.core.display.HTML object>"
      ]
     },
     "metadata": {},
     "output_type": "display_data"
    },
    {
     "data": {
      "text/html": [
       "<dt><a class=\"ProveItLink\" href=\"../booleans/disjunction/_theory_nbs_/axioms.ipynb#left_in_bool\">proveit.logic.booleans.disjunction.left_in_bool</a></dt><dd><a class=\"ProveItLink\" href=\"../booleans/disjunction/__pv_it/axioms/31cf087cfdbabf741dc6de93d74bdfb1386ee4500/expr.ipynb\"><img src=\"data:image/png;base64,iVBORw0KGgoAAAANSUhEUgAAANQAAAAXBAMAAACBjHwxAAAAMFBMVEX///8AAAAAAAAAAAAAAAAA\n",
       "AAAAAAAAAAAAAAAAAAAAAAAAAAAAAAAAAAAAAAAAAAAv3aB7AAAAD3RSTlMAq1RmmUTNIjK7EInv\n",
       "3XZ/CtNrAAAACXBIWXMAAA7EAAAOxAGVKw4bAAADUElEQVRIx61WW0hUYRAed/fs2XM2Tz4YFT10\n",
       "KgiCoiVNCKm07GJaLQhh2sWICExyexGiUHuUgg71kBvEniCCKGMNqWyhi09aFEoXClrYEoSgwm5m\n",
       "itXM/Gd3z14wkl3YM//Mf2a+mfnm/3cBcvaRZ7z535/3ImZDqvXTQHPTkB+kGEAB6UtygOQIs3CP\n",
       "ptmNfXLjHIBhgE2kHs4B1FUhVmZA1cAdBVMw4RQVbeQAaqMQ5T8zoVblATjLCA28eg6gHvLTe2Jc\n",
       "qNql6KsElBvlY3D6sLhcUCXGoVX7ylI6aiarmluK8iDA02j0SQ6gXGIqyhzfWLaYybG4OUR73QBb\n",
       "AS6yzUzztbIN4ENN3dKyQLl9XIzumYTUQTP2Nk1tQ1kCcAxkHni1n3c6vkcq22mhiDdX0+NGu+Xn\n",
       "CVX1dGLulrr09vYN1jJfF/nJX1htsI/F8C4sYzmGNL1+JlQ02TkI2sMklMppPNA5Oq7XAnwEqCfU\n",
       "d0G/5pUXW1nM4iAfKsp/cUpIS/RNHEqRsINnsUMxMRW1z1jklYFzNAnlogjSmRidcnIoBFjPhwQq\n",
       "EEPzwj3dBqXinTDFGRr2qhRAdQ/Vuo5NsQPCRYcuXxIqn7lxF5CqIEAfqM/5dGj0ElZVatoaSPy+\n",
       "ZXUwFQr7uQLXtxoF1Zt5p224eB4koVo4C1cDOHzUNvl3UTlW4yiDa+zkqu63IipYENTgt5nVzylQ\n",
       "Dtxcg+uTTEctcQBEhlpog9pN/Wsn9gwaVGTyMrImGRwVq/Ls8IuIXowiE8mhAA9k4lYw6uF+D8oq\n",
       "YoeJrYos5FYgTps/CbWI2hLpngAoIqqQSfkHsm5ASTAY1JGrcNiazUFQQ2MmLPtzhMmaXyfsIwMh\n",
       "utkBXtqOShtD9gHstw17B/UPZLxt3EQVMimNcwNPi6ogHLMivE49Z1KvdTHFf7AS7GE/ZutqGOQJ\n",
       "UF9AylhIOAB4EJwLiEkTurCBWoxnhKDuxqGK/3Gb+OKLR6DuPOTpg5LJSKVug1ICUF0AV8awBTg9\n",
       "zuZIzzlhlTvpCI/0no/HUgLTQh1PvzNtawElhbP50fhdDwb9dps6/S/RhTS9LgMKtmTzy2psnQ5J\n",
       "S6/ZlwnlNTP9nP6c/ilJ/MfJAqXOKOBfW9/Hr8gz2R4AAAAASUVORK5CYII=\n",
       "\" style=\"display:inline;vertical-align:middle;\" /></a></dd>"
      ],
      "text/plain": [
       "<IPython.core.display.HTML object>"
      ]
     },
     "metadata": {},
     "output_type": "display_data"
    },
    {
     "data": {
      "text/html": [
       "<dt><a class=\"ProveItLink\" href=\"../booleans/disjunction/_theory_nbs_/axioms.ipynb#right_in_bool\">proveit.logic.booleans.disjunction.right_in_bool</a></dt><dd><a class=\"ProveItLink\" href=\"../booleans/disjunction/__pv_it/axioms/75538c610162aedd9326f6bb1421f121a3b110aa0/expr.ipynb\"><img src=\"data:image/png;base64,iVBORw0KGgoAAAANSUhEUgAAANUAAAAXBAMAAABuThcPAAAAMFBMVEX///8AAAAAAAAAAAAAAAAA\n",
       "AAAAAAAAAAAAAAAAAAAAAAAAAAAAAAAAAAAAAAAAAAAv3aB7AAAAD3RSTlMAq1RmmUTNIjK7EInv\n",
       "3XZ/CtNrAAAACXBIWXMAAA7EAAAOxAGVKw4bAAADHElEQVRIx62WS2gTQRjH/8k2yT7abQsqFg9d\n",
       "LfQkEqHtRbTBd/G14KW2oBGRYikSEXpSo8fioQuCmIK4vQgiwuJBrL3UHkSRag+lVDCQKij4qFV8\n",
       "C+o3M7ubzYMgsguZ7Hz/zPzme8xMgNCeRE01gzCfF1Wt+vPLX2dWAofpvYkZ2kJARR1AuvaxedWV\n",
       "UrsSKwyPm9CTwA7WHwiBdZ019RbQer6MldQyZB4ELrBIWyGwtrEmWwCOpMpZkkHR6wDiNqAZIbCm\n",
       "WNNNPnUXRKKu5ud9VppctiFRHONhpCvN2lb6DPGSi520fb8ipymXcQLN5POPQ2DVOax9BIwv8P6w\n",
       "7cfwzfs19K1RHHcDY9xolw1215up1PQqLLZsyD+WFo+J/kAxX/NP52i8RI6fQoLXvfqQSyOfJ3t4\n",
       "ISnip50BzZe97Lff2bfVfW1gOde/AeuTvJ8O1IbeSUUYpYQqtmYym/aJS9Is9KkiS21yNeZmxJP7\n",
       "mQ+LOVPXEuvcCq9nkyg0UvvOujKlJv/MZcGiAfIy8QqiNHqf8K9ICtJykVVnulqUltvvyax4txNE\n",
       "13DPCLAaaWXSb75GK+AXLJosxjxIb+G2wlExxsCtZJHV4GsWz6uQaZOwc4BYiU12IIajZIx84f3Z\n",
       "Eha5E2WW24Mi3zu5lH3ZsRpF1rCvtSHmeHI0hRtcqNvrZVJhu+oDFdKoyNRSCWsD+cs8PcNT0ot3\n",
       "XNoMdUWAdcjXFMqsJ8csHOQsTd5viilZSWOIpAfC0bjhsxztbcrdFBGe3T2TrfxHNFPWLLLW+pqU\n",
       "7Pdl2UJXLpczKF+OI6aUKUQtf5qbT7gMtaVP7I+hHD/n0WAGtkyWM6fpQAvU/EhRS4/5MsXwovAL\n",
       "TsGdYaFsw8UmxBnlPWf9NwpJo6E6SPyEOofS2uAasJE8cGW9wAPKWHc9Vse/nM28tO9DPXBcnkbX\n",
       "r8keI8BSMq4mTmlXJmuCXVPtryYu+TVQ++atuEuiwbtARMKpNpAV4c1czgza1NoXU8VS+ipY2FVt\n",
       "YFXjuZqs1+WGZCVLsyvHSSbCfby/RVVY6v/N+BfImsNhObOtPgAAAABJRU5ErkJggg==\n",
       "\" style=\"display:inline;vertical-align:middle;\" /></a></dd>"
      ],
      "text/plain": [
       "<IPython.core.display.HTML object>"
      ]
     },
     "metadata": {},
     "output_type": "display_data"
    },
    {
     "data": {
      "text/html": [
       "<dt><a class=\"ProveItLink\" href=\"../booleans/disjunction/_theory_nbs_/axioms.ipynb#empty_disjunction\">proveit.logic.booleans.disjunction.empty_disjunction</a></dt><dd><a class=\"ProveItLink\" href=\"../booleans/disjunction/__pv_it/axioms/7c8a5fceb27af0b8c336880a32aa294256f5ebef0/expr.ipynb\"><img src=\"data:image/png;base64,iVBORw0KGgoAAAANSUhEUgAAADsAAAAVBAMAAAAKrYvGAAAAMFBMVEX///8AAAAAAAAAAAAAAAAA\n",
       "AAAAAAAAAAAAAAAAAAAAAAAAAAAAAAAAAAAAAAAAAAAv3aB7AAAAD3RSTlMAmd0iq3YyiUQQZrvN\n",
       "VO8LyBxeAAAACXBIWXMAAA7EAAAOxAGVKw4bAAAA8UlEQVQoz2NggIEgNVQGM4MBAxKoQGPFMrTi\n",
       "keYtYGBdgCLNMgFIsQVApOcA8UkUaa4AIMWdAJGWAuKFqIYrACkbqOEPgJhvAop0LZCShUjzHgAS\n",
       "PAtQpIE6QSaApBkLgAS7A4o0SwIDawBEGqyR6wCDkBIQKEKk2RwYmCZApJkugGx4ANFpAvXtYYaL\n",
       "UBZfA8iTH1ClrwMVIElzoOlmYtvAgGy4AkTaECrIuqQByuIGBRHXBtQw59SBscB+AvsOOSJkYSw2\n",
       "kLlMDThjDBTpRrgjdCE0WnBIcxswMG/ALc25AaQCAYrgae0FmDJlCGZgAABmdjU0Gp74gwAAAABJ\n",
       "RU5ErkJggg==\n",
       "\" style=\"display:inline;vertical-align:middle;\" /></a></dd>"
      ],
      "text/plain": [
       "<IPython.core.display.HTML object>"
      ]
     },
     "metadata": {},
     "output_type": "display_data"
    },
    {
     "data": {
      "text/html": [
       "<dt><a class=\"ProveItLink\" href=\"../booleans/disjunction/_theory_nbs_/axioms.ipynb#multi_disjunction_def\">proveit.logic.booleans.disjunction.multi_disjunction_def</a></dt><dd><a class=\"ProveItLink\" href=\"../booleans/disjunction/__pv_it/axioms/3a12f2e98e109c481cfba1ef0427fed927129dd10/expr.ipynb\"><img src=\"data:image/png;base64,iVBORw0KGgoAAAANSUhEUgAAAhsAAAAzBAMAAADMadf8AAAAMFBMVEX///8AAAAAAAAAAAAAAAAA\n",
       "AAAAAAAAAAAAAAAAAAAAAAAAAAAAAAAAAAAAAAAAAAAv3aB7AAAAD3RSTlMAq1RmmUTNIjK7EInv\n",
       "3XZ/CtNrAAAACXBIWXMAAA7EAAAOxAGVKw4bAAAH5UlEQVRo3uVbb2wURRR/3b0/2+3d9RqVGCP0\n",
       "EpXENKY1KJFE6fHPGErCCR8khsApGiJ+4EgMRgV7+MFoLPQkJrRE6Rn8QlEohGhCP/QKQVCiuYj6\n",
       "wdh4BCPBkPb4V0qJnDO7M7s7czt717i9rWGS7t68ebM7+9t5b9683xagQunv74e7o6j9/dmKSn+U\n",
       "rrt4y/r0DIRhLxlbqZSpqPyLq7e+h62mavnYwpvtpJNCrjEcdQNMNRLTTlsF2lundvFg0rl9nahB\n",
       "ynsEx3y22qKfNgu0N0/t4oGioGFBqanptTRE2kQ9j3gDR/A0a7T665RK5uzB01YpgKPcUh7Ah12k\n",
       "0loUNX2HrjABsEk0rnCbJ3CE2Qfy6aPwNRtWLRcs7lYkt5SF+NBDKotuCpqCdwD8aEF4Qmgt33sC\n",
       "x9NsNaSfvhkynzNvcRkiuRVfi8toeGdC0CSjBhlBEhKuo694AsdZtjpXf3eFsZghOor+FoOj3Foa\n",
       "kIaPaL0buSpoqkNWFEB2GhA6j/UpD+CITLL1Dt0moLWNWUyInxfJ+cUkTH7HpWuCplAG1NlopjVE\n",
       "hV446gEcYW44G7TjKug2l986tAAQByOSM+V+gFH9lz+m3BY0de8bnYWRlbHt+Ea0wg5FmvQAjm7O\n",
       "F/6kv1XoRGPbr5u5EoUwsXBNrg42ZTk5U3YA/EYnU/CKoGksBdJJ/NA5YWB6xwM4HuTqpzQL+mRp\n",
       "cwaUUWIKG+FhYlma3Ae+PCvnZnlKiuu/Li1ddEvQ9Cn6w25ZKQqH9pkHcAzbwXEIoDFvRoYt6MHB\n",
       "lDcmghOsnFsiBwK6F1SRKf1j3wR41rSjdr9wdkB7quZwKNfAxljQGwznTDjCSobaCpbLWQKHIedK\n",
       "/kNqKwC/o9DiqdHohR62Sbtvc4Lcw9Z3wOG2msMRuckJ9mEP2KZH1xSOyOMJ3TMSOTTkGTlfLtyn\n",
       "n1drQb365Ek0B8+zTfi+yrjz04aiNYejPmezVdiGG26acKi/6mcqp9tNIlfxYx1O0gPAV/opiK/d\n",
       "lwoeSsIEWcBpEwRQ21ocoPsGxGPLEzg0WB5yhKOSSpUlxGO/E+BAaRNIfeMD5q5SD7YMeXAvI4ef\n",
       "seHE6YFGWmrfeBYeLb0OdQUlR1YsIwjru9I0a7dmcAnh2BqKBI5lut92gqOSSpXlcJyPQ9I2m2yu\n",
       "vAFvTgnydCQTLApyTNvF/eQbBI4deKplHOGopFJt2MHHUXK8IhzBng+WT+UenWh+yJm4feMSBzd/\n",
       "h8ARyOrxvQMclVSqLK1ll9hjPvbXtwu2b7tUKk7lHs+jcCM4x36r5vRG1esEDhm7cGdXWkmlytJe\n",
       "NocP1DI3CPVOqcgrdGX5YWTkbIWVpYJKlWWsbDjBQi3huOjUeIvC8RzA3gpwGCrWWaja6wtzCjCU\n",
       "hZlbvqVwbIEgF6Jt70jIw1Y4qIp6xqL1pa3/ZlRA6es4RpNVsHImwzFC4ajPNljWY+V8b0KKHofl\n",
       "VjioSoM1wTJk61wZFYBnAC7T380zGA0c4OtwSAWrm1yK3rm00AcDVjioypofTUV/l63hW1VQuRd5\n",
       "0P8XHJBciH4s2XU+soAk36X3XigwcGgqqBResuxAAra5JasKKidAPedgLCmYRuopNRW5YSxwFMXz\n",
       "+9e2haKRqL70Senjj7BwHNVy8hF41vLcvqTdNs2qgnPY8xYZLmaobByYdnKXerLqi2imdY6uFLah\n",
       "1/z2X9CYRluc1TocvkiGgWObNhPWYD/wlv6O/elIDlb9ye8C1piuQrt+Hj43QsSxMt/bAm5TT1b9\n",
       "MprJiX4aNuCow8OcA10QjsH83t7emJRWB5IMHJoKdAw2Z5XHdDh8g0cmIafyISNWsVTr4hC8IQzD\n",
       "MO3kMvVk0Sc0k7WbA/10nd3gn4FL0KnAR/rsgFWF8g1+BG0J0jRlWYDgBKSUHG8rSEVePG9Zi/7o\n",
       "oRj4DfajlZ9KmHZymXqy6BOaydLNgX5SbzNwBItofizwoSUVSxMQiZbDgQypMYbhUAe07AxaUusT\n",
       "uHJQPxwkKtIlOCUh34PqnVn4yjCWbn6ShsBt6onRJzST2c2BfjK2cGTZjKId/Ja/0Q4S5yE2khwH\n",
       "A4dvGNSVr2I4lBOwIgpfjCdwuIoqXSnlNDp0xYhKj5rEuYaumLx58Nhu45aN/EZzLrhNPTH6hGYy\n",
       "uznQT9JV+2zYwd7ehGM2DBuLREeSLZgVADqSvDQQli112pNfijrAbeqJ0Sc0k9nNgX7SE5dTTw4q\n",
       "lxHaL1I3XsqbFfCTOahGI4m6i2bd8IV8cnADuEw9sfogJ9luDP3Eja34H3KlbbYVmc/u8HWOk9SS\n",
       "eK5ST+Q6hgXk2G4O9JOeuKwtsXCVE5wCl6knXd+8YZHt5kA/dRZqDoct7eQm9USvY1hvju3mQD95\n",
       "QDvBCpGxxN2hnqg+2X/R69FuLP3EltlQezjWc3HYPnCXeiL6dP9Fn452c6KfvKCsw1zgcQRcpZ6o\n",
       "Pt1/UZqJXi6QE9JPshcfNPBLy05wk3oy9cn+y6CZSBDmQD+Fvfjchf8YCtNO00A90f2XkGYql3vy\n",
       "MRS0s2EDpp2mgXqi+y8hzVQu/xi8gCPAGe0emA7qydh/CR6uXO6f9AQOhf3MVsu9TR/1JKKZyuXh\n",
       "mCdwIJtm31NhOqmni1XLPfoIm/9Ef4YUf7J6OM65+u89L89EON4nYU3/ocpw3AX/3kNyp/jfe/4F\n",
       "Munjd4pGHZcAAAAASUVORK5CYII=\n",
       "\" style=\"display:inline;vertical-align:middle;\" /></a></dd>"
      ],
      "text/plain": [
       "<IPython.core.display.HTML object>"
      ]
     },
     "metadata": {},
     "output_type": "display_data"
    },
    {
     "data": {
      "text/html": [
       "<dt><a class=\"ProveItLink\" href=\"../booleans/quantification/universality/_theory_nbs_/axioms.ipynb#forall_in_bool\">proveit.logic.booleans.quantification.universality.forall_in_bool</a></dt><dd><a class=\"ProveItLink\" href=\"../booleans/quantification/universality/__pv_it/axioms/1b39e2c22b081dc382c4103afab9326d41f53ed00/expr.ipynb\"><img src=\"data:image/png;base64,iVBORw0KGgoAAAANSUhEUgAAAbcAAAAWBAMAAACxjs8nAAAAMFBMVEX///8AAAAAAAAAAAAAAAAA\n",
       "AAAAAAAAAAAAAAAAAAAAAAAAAAAAAAAAAAAAAAAAAAAv3aB7AAAAD3RSTlMAq1RmmUTNIjK7EInv\n",
       "3XZ/CtNrAAAACXBIWXMAAA7EAAAOxAGVKw4bAAAFWUlEQVRYw71YfWhbVRQ/yXsv7+WlSVtUtCoj\n",
       "oo5itYbZ+YFDA6065gdxA8FtakBBHMNlIJPq2OL+Et1qFEqt4Pp0Q5yDGmenjOKojjG3oXSjjlkW\n",
       "eFvroEpj/lBbV7Sec9/XfR9JJhEP5L3zkXNyfvfce+69AahLiVI+SJ2D2bPQIMkNe1fJQa6atodi\n",
       "mUDISTjYKDa40JC3pOPDk8Ts8U0bT2WYCfNuIdWNtcGF6BVOubQdFLe+cxDNLL7d9pxGIYuNjc2U\n",
       "HxwUnpY3XMVMCO4B0jxfG5xItYvkeKWapbj1nQPpD4DoCXx/1GDhI1oAuDXwZZSZENxrNEMLtcEp\n",
       "VKFel1JMUdz6zkGk/I1Fww90NwhOSAeCWxZiJgRH6GPJOmtuA74OuJRNbEbUdw5crvP4WUBmrNE1\n",
       "e8IGl3i/dMYGF2EmzFvAEkTqNZQ78JV1KZcycPWdgyhawQ8CDGcbBfesBU56UXMqd/W9zESN8LtS\n",
       "6WQ9cE2l0jn34n/YWMt1nYOoGSfyW9jORAo5fP7jUa72HtFPavnaN+1J9JkFbovmNJThU0VmInAr\n",
       "Ad4LCFLkwYl5iGreMaO4VZxrEwJ79TT1A+q/6cQScdyxeUQ/iXBef9QS7rTAOU2t8NTGv1YxE4Hb\n",
       "DHJLQJA0Dw6/sRm5J38baTV75mkDXBXn2vTrdaPL6R3HEgk54VIoBXvMGWqI6mirVs35Lrhfu8IS\n",
       "brXAZfmGMvWERiYCF9Vcu7Q8cRBWtHjAYXkoiDAOMXNYjxrgPM6XR0NWU0JXBURMTCmbYQ1RhOrV\n",
       "y8OD3BwwwSm4PEo/WuCiUpFMlFlYd1pCX1s/3BDTRM0LrpONTSgNiYoLHO/8b7Y5Gxw+6ZwRtsGQ\n",
       "2JyR56u7f++w601waoGvXBQKZGLDnr3Pns8r6cChp2Mw0jPRk+HARQRKoSkJ8RbXtDScyw9NWzs8\n",
       "xzrkVioLJhNnneOZnKpx4EgUtBrgpDn4BLruLtPo32ZNy3E3uCyZGLgDuIsJ3X3TxnEG2m/eFvOu\n",
       "OYgtpUWwXZOvNJW7TXDknMi1RcwOx7HcvuZWJn63tgQcsH2Z6yFmVE4FW6TZr/pxYQ5qf2gMiury\n",
       "I3AMFfdY4MoucGGdTAzcVizGnvWpppxR3PbYh+t84OSviVtRvqA5TZjFJWcBdisgs67J2NXT7nXI\n",
       "lNyhqWIFRt/b33gEVhvgPs3aIuzSmKjSDGYPSwrP7x2TkvJwFi4ZG5IBzhm8wjo4PMJMDFwIrwav\n",
       "XIRmTWJH43ZIz/jAwTXEtToZ7jLBhdi9Yg5gx6RhQHZMrXiGfI7v5UN/6ub8RER7y+HupAEuPmmL\n",
       "NFIkwgSYjzjlU9JAfUy/aRn+rC7R8eYHC5zattaIefH4EN0KyOS0uiW4AoUXBgffQXD7I959zqQj\n",
       "TorxPHesU8bw/jRpsznFc64iZdeaDt80c+5ibM3dYosvwcu8aH/L3iCa8mI6D/K4nYR0yDx+WU1/\n",
       "nMv7W+hRlKJROakz+D4nzwWfWbfGsiIDt99koxlQiyixh6nsLMR9yXa5wdnjKb/7+ip+eO1MbG47\n",
       "xHfkzdN78F6f4vKuwNl247CB++v5YHAzC9zWOuDEFX86/DMDtzNpsNh0lW9gZ045hg9TGcpv8R8y\n",
       "rR4qf7Ggg6rbdVlcrHCiczazucch8blxUakCrpfLW2qBX1LQi3NNOZOD0GXcxPd549K0NJZ1TMO8\n",
       "wrbBUMZhaq3vnOi6LSU8Pdb/m164A9XBDfjyVg8N9gccnAP/jJB1+Ir//6LvZBIko7KbFnGS2UhM\n",
       "5QfQkfIF2dbQnSCBhZ89Ws2UOJeB/5IEjk8FKf9n+gcn8ZaK2QN6jAAAAABJRU5ErkJggg==\n",
       "\" style=\"display:inline;vertical-align:middle;\" /></a></dd>"
      ],
      "text/plain": [
       "<IPython.core.display.HTML object>"
      ]
     },
     "metadata": {},
     "output_type": "display_data"
    },
    {
     "data": {
      "text/html": [
       "<dt><a class=\"ProveItLink\" href=\"../booleans/quantification/existence/_theory_nbs_/axioms.ipynb#exists_def\">proveit.logic.booleans.quantification.existence.exists_def</a></dt><dd><a class=\"ProveItLink\" href=\"../booleans/quantification/existence/__pv_it/axioms/c17288ed07a16d05dcae94da1e9ef525a5dcdb630/expr.ipynb\"><img src=\"data:image/png;base64,iVBORw0KGgoAAAANSUhEUgAAArwAAAAzCAMAAABCHStVAAAAPFBMVEX///8AAAAAAAAAAAAAAAAA\n",
       "AAAAAAAAAAAAAAAAAAAAAAAAAAAAAAAAAAAAAAAAAAAAAAAAAAAAAAAAAAAo1xBWAAAAE3RSTlMA\n",
       "q1RmmUTNIjK7EInv3Xbn9enzK1aD6QAAAAlwSFlzAAAOxAAADsQBlSsOGwAAC5ZJREFUeNrtXYmW\n",
       "q6oSVQYRUN7g///rFRlkBhPT0rfDWqdPFmCVwW1RFMXOMNxU2FGGD5ZxXVcyfMvzRexPAjx6Bzej\n",
       "bd32gt4WQ+ds0/RFTT8Fwh9GK/WgSiXa6H3gxbdY18KYfMF7FNKF7p8G7zCvoaGFnYF35MMXvJUp\n",
       "+8n5GovHwDuAtW/wwiI+j0a0qrLgP4DTfXKk40gndBodwJ+9JfgYeAc+9gxespAqeLswQD9WNvWd\n",
       "6WLQy56efib2GHiHFXYM3lUMX/B6ft6mRgRsZmQQfPiWIHoOvGBh3YIXLsMXvP4kvc36f+MsLI/f\n",
       "kwbQE+AdJtQteBf+Ba9f6Gb+1wFE8PyidYLPgRdvpFPwio19wRu4vNTzHnavQb/fTIiRzZynB6Hc\n",
       "2layMvSy6RHwDtPYKXjXcfiCN+HyEn7uZmmzN+zTpxjFgNbkdeXWtpKVoSNCLnhNBOgo4ydHBLgG\n",
       "riPwztvcAl5gQmUfBm9hrxB8aJtAxHPRyDmHzsBqGMP9DuD+HI8tHRYGGN1Wxvk4vrCN6mkIVk0P\n",
       "Wl62iS7BO1bXIj9qeYOBEVwIpEAL8U+9MMbldZYFSrd8zZEejlmIwDq6regwjC+YEkdGaGQeBO9A\n",
       "1y7Bu4z9ghdPErcqDM0+Ny/iYMW6TRnwHh+tDQIJcJrWbb+AVOe0zBNJRi7xk5Z3nw1Ih+CdN9gt\n",
       "eA06kKxEH9zam5g/JFH45fR+j4W3yqtKgNe2QvYyeE8ZCO7mHfmD8YzPu/sNsEPwio1cB6+cys1s\n",
       "7jQla9Nas12dgbEPH8oZcy1d2K462dNf24stGlJ6GENGsfKyuPduaeQHrfv/q9NawcYQy2AQLzti\n",
       "zO6nhsxDltedoPsBL62H3yPwCjKMdJgCG5yuTSMo39UZmNEo5vs9kqlwYbvqdE/geb1T5PLqOBXY\n",
       "Zob2e8HABS/TXkbQqtOxmPVB7KfCB1cGYULWmnW+jtY9BV7H6d3BeyIZwPfB+7K0hbaB103MgYcp\n",
       "kmaRONmethYDUZnjTwEl8NrNExllxNS/0NV8QXVaM3a0IpmVE3qdszKiSIgd6BD4Xs2qkgaDVnOD\n",
       "q00pXFH+g+7kyxiFdXWtkXoKvHxzwXsO8kTeB++r0lhDHntq8aucjRn4yZ6qdpFia0Jz3ooLXmh8\n",
       "0L0vGIuaL6hOaJ6rb/CaeNOszwsSrgHZx5WQXGssK9Vp2ZUipF41opU9BV54+lI7eGfzNMh7LoQC\n",
       "76vS5k28At550QnSHoR0LVGfynpVV4gw9JMNndun+/PHTCc1GXylNV9QndIMqm8wRAXwJrbXCZ3n\n",
       "WWVUNuVSpjqRw9WfwQFekxn0FHgdoEif1yxxObgBvK9KAxu4DF6yDHzS0VE9Y3K/dqDYVKf+nF2B\n",
       "oGYplliwLQQyMevdrTWpOaP6omZRf4NpaK8Jnzau1nGJqxd5XGbLtcYTYKoTlgZJcOjZpKfA60zR\n",
       "ErzmNt7M+Qh8oYvSYEM4JxKJBOZCsBNCs9x3c2rRPNjqeSH+H6/rOOulWCpURtAo5D4VseiJNGdU\n",
       "X9RM664Wy89oZXS2YLfeyd7hU+AdttGLNixqBcRvAe+L0hoiZcX3wUzenv3mzDyNlFn36lZ5SACz\n",
       "NHgP84O0WQp3EqzbkFZ9RTNrcbWIGJ4rwj6l58BLPfAqI0HZPeB9TRrf2BvgncWi3BQXfsO0T5hq\n",
       "QsYJ4V6d3DYDHA558JJt1DD1grNWc0b1Jc3oFx3sfwy8y+SBl4zmz6suvQteTxqmG+JoHO1TcXIE\n",
       "fA+gBbx13gbYXl0ZfBprx6dVbZZ3RTP8NcfyxD61PgXedfXAe5hJnh05siLZCPXeBqqA15cGD1Vc\n",
       "K3RzBPwybp09n9Jb8iFqFTZ8SwN4Fx+8QKTjUGKkcs0MxsPY6COsVfB60kakPFovpoPoveD9Uun8\n",
       "5nKRficE7441GC8DEDJnT/ZGZP2FKng9aSrtVmVr+DkC192GrDn8c4QO5MW2h26peol2oJtkhG7D\n",
       "wIEOzzoJRPaE/gBmgPc17g5ejhBa93+4CF4rTeJVZjUp8+vnCEQLtoY7z2WS/TXwljLqnjphgjNB\n",
       "EMQaLtHgxS2BlGDBJr1Q5c86CURO2AbMu9sAcLPlJWfmD1yEEGbL0csRCMe8Ic6b5ds4vs5dORr9\n",
       "FzMOfXGSiOSouxveUeZkxGAiGp7cMgbglZHyA3ZnAhGGLnh3yAraCl4jTX5yYerlCIQr7Tp483wb\n",
       "KmPnphyN7oszDl1xkkwpGxvzJgIRX2LjblPdefR32Py1j0kgghM9ClDgZXyYmsEb41V9ETdHIPxK\n",
       "WzVOlOfbOO7srhyN7ss5Dn1xkqTSLuZ4jnXBGzGYwGpyBzsz9CPw2gSimXuWVyb5ae/0AniJsbHH\n",
       "pr6fIxB8y/pBinyiy+S9tfxffq54iXytTjhJlthsJva7XfDGDCZLzfQGiTk+2gaTQHTukanguajs\n",
       "YiTAuztl3Nn593MEsrNBztObKuC9KUeje4/3/H6dcZLEVgknMOOBN2IwmWo2zMngCsHrJBAR467M\n",
       "q3Iir4PXU2o0oHTq0lobd8Qr4L0pR6N7r+H8fjlOEiYO9yF5VLTU1uhz5yTwqCa1+vDAGzGY8Np9\n",
       "OUkwpWNAjEuft3nLsgxefAbPxjU1NVRPvhfeSeON35Kj0XuZApc3wUnCFbkCTG38lNraSlbCyR+h\n",
       "4wr/+W/iRKYH3ojBBNZs2OidpLirrLVjL2aA0x1hbZdCPyIn3oIC8F7L0XjN7BWmlk/EOER2HIY8\n",
       "J8kMFFXDSGNGEqftRT4SV3owAkuD4fXBGzGYgJoNc46L9XT0vbLOitikT5jadNhijsYd5cepSFBh\n",
       "HHKcJExTLux/IkYSp+1FPhJHQvQIg9k2+ap74I0YTObKjECcEze/iHSkAbyZHI1PgfcnqEgwz49D\n",
       "npMEy2lM8WdFpA627WU+Eke6X780GF4fvBGDCa5Y3j5JRwa0NLkNJfCmczQ+Bd6foSKJwvZ2HAqc\n",
       "JAdRk1iGFHht28t8JKcEj43EUXX4dv/7f5KFxHcbQgYTUJkKxj7pnnBlmyI6Bk5QBF6bVYGPwF4w\n",
       "bMnK5K1kO1aoSN5Tm+wZRa3tOGQ5Sfb/R/MnZCTx2myu6iVCEishYCMJwZTZLfMXbCGDSQ2QnRLt\n",
       "neQBmUXuWIs2ODkaQm5xB+d3k5XpWFC2Y5mK5D216Z7RgWI7DllOkt3ySYIJte0TMJJ4bebnoQrs\n",
       "I6kqIyFgIwmCmbmT0B54IwYTxCteQ58Up7V4w7zWwXvmaMhnJrMxHE4QW1ljBDmvLoE3QUXyntq0\n",
       "XkzT41DgJJEeOBdIeYcBI4nXZu/SNsY0JDEhiSPBYyMJEJBLU8AwBs0J3gqK1l7JpWu0/utcB++J\n",
       "Yn4Mrc8JoivrjCC6Yxm8KSqS99Sm9MY8JOvcNEZ88p1Il05EtZ18JNcJSZQEl43E0pHozi17RRGD\n",
       "CVkrrmWvtP4105tP2pjSdyOH1uME0ZV1RhDd8ToVyXtqU3rj2beUvKLaJLLYAnzw8hN1qs3hI7lE\n",
       "SOJIcNlIgqSgqeV1iBhMKolF1HMd+/opq6k8hllWgylpgvBh5k42EqeyzAhiO16kImlUe01vgoek\n",
       "xO5wtMmfBFO/JRozkpxtJx/JNUKSU4LLRhIk88EmwxsymFQSAvHW709ZKU6OwujRdvACBOl0okgl\n",
       "BtnKCiOI7XiRiqRN7TW9CaSW6B2ONgBj79rAM9V2jZAkKSG80bXF8EYMJhXSlSBa2tnPt4ry7eT4\n",
       "NmLwsn0UKHRHETiVNUYQ2/EqFUmj2gt6k0At8Y48xUkifNzNly7R4BXkUrzpV/1wdkO0wcoRA5a1\n",
       "HhuJqawygpiOl6lI2tRe0Yv+xKnoJgYTHD7mO8ELGWNvZ3RN4BbwYij81wDmKqNxTHXMgjegImlT\n",
       "e0EvxMMXvNqWe0tAiTVxI3il+4/eFkNf2K+cfoy34aepSP4CD0kb/Q7zwxdUoo3+A//jeEVhkrfm\n",
       "AAAAAElFTkSuQmCC\n",
       "\" style=\"display:inline;vertical-align:middle;\" /></a></dd>"
      ],
      "text/plain": [
       "<IPython.core.display.HTML object>"
      ]
     },
     "metadata": {},
     "output_type": "display_data"
    },
    {
     "data": {
      "text/html": [
       "<dt><a class=\"ProveItLink\" href=\"../booleans/quantification/existence/_theory_nbs_/axioms.ipynb#not_exists_def\">proveit.logic.booleans.quantification.existence.not_exists_def</a></dt><dd><a class=\"ProveItLink\" href=\"../booleans/quantification/existence/__pv_it/axioms/09ed128a386f17e52e1f98d99ad7d38eeaf293cf0/expr.ipynb\"><img src=\"data:image/png;base64,iVBORw0KGgoAAAANSUhEUgAAAn0AAAA0BAMAAAANlZNzAAAAMFBMVEX///8AAAAAAAAAAAAAAAAA\n",
       "AAAAAAAAAAAAAAAAAAAAAAAAAAAAAAAAAAAAAAAAAAAv3aB7AAAAD3RSTlMAq1RmmUTNIjK7EInv\n",
       "3XZ/CtNrAAAACXBIWXMAAA7EAAAOxAGVKw4bAAALYklEQVR42u2bD4wUVx3Hf/tnbnZn/7BEYwpU\n",
       "sqa1EvnTTQsYTAPbHBS0Ui9t0kQgZSNNjJiGIRoTWoSzMY1RCotKK6TC0DZqDwNL/5BYUrKlqVZQ\n",
       "XFuohNy2C5w2J3IsFgocac/3b968efN2lr2dYyXxJTv33pv35mY++/78fr/vLMCYJcOE/yeS+vr6\n",
       "Wmofqv4dHRPZG/qh09W3mw2Qvj7rmi71/siFZk1+KRa6yDF+o4+/Oxtx20b/xkdGitd0oWPNR1zO\n",
       "yy/V0Yc32+/diB88aQ+7SFD8JoHEL1qt/rm/p4Ozr73F4yFffuFKwPwiBfCOv7ltPsNoqO24Mv6p\n",
       "r+Lc1DYvlPPjB3sD5rfWVPBbdP35wTj0RT6DZpdRaPNCK335pXLB8nsPFPwqHeC3qQZwO/pEc21e\n",
       "aKYvv/ChQPlFyip+hQ7wO9eLPiWAZLsXSlp+/ODhQPklSwp+Wr4D/HbgD2J4W7sX6sr58ltuBsnv\n",
       "nKXgl851gN8VgNgn6O+92EwbmvjTFwWrzV1UpN0nf7vfvuVExpdfVyZIfn8DD79w9f1q/3Xnh9jp\n",
       "r+H/ugJ9onCyttg5JxUVKZ+eHK0IFgXlhywxnDLuBXA4QH6xy6AYf6mWbbCoq/SFFqwNnjm//yVi\n",
       "dGLX60swz/oUGLPZOVrctXdiw1XcjAxzPyBc9h1/xicB8guVVfzWtMwvzv6eGVqIbq0V4ztvX6HO\n",
       "Mm+iTy/cg44bz7IqWsxDwzEYg6hj9cTqvvzgVwHyS2ZU/KaOlt+DJrYnd7bSc6lg/nF+AEfwYTpv\n",
       "hYsXYX1v4wep8azmP/5gnhkcv005Fb9XRskPO0fRIixoabdkG9gm2xAgoRPtEvQJ/Ejxy378lpuG\n",
       "FeneOMDuwmf9gz254PidM1X8VmJ+QwsH7JNC1kmuSsoPP1+kDhXXyfTAuoXeZY9X2qGyc/ak346W\n",
       "qC1oXSlRfpZThNdIUV7P0OeFnpshAc8tyyVNSubOpnMuGH7PgIpfBfFLmxO62KMJWYGAq5Ly+wzm\n",
       "UdYLrpMfhIrf9PxfpzLMFsBVgoMavvx8WcsSfsZHTjF2ghRhT4EdeOn2n3wN7odH/wnjEN9oyZ9f\n",
       "vML4EY63NOMXInfZwCn6k4JftPpxtb8nAttjoJNwGcneP+DeFUilxO8wMa+0IgidIRev9WozpDmN\n",
       "K9nUpOPgKyPb7QgT4nJf7dY72PpXtXhxjUWKkMLIyeEozpwAeH4o3I0AT4ZluKLHn1+izviRe/pW\n",
       "M35R/Nxd6piacUE1/iJ0Lb4E8PgJsLNloy41veRZ/97A65gZzrg7jzORT7ZHjhbYNxST51HKWeQw\n",
       "vzCfsXpeN4UiT1/kubdgPvpOfwD+/CIXGb8f4osWm/GLZYhF0shoVfALkSeIlXUAigBnzZhk6uDK\n",
       "mQ9MFfn9ApbAO4SI0Bk2gKmjgzuhysiCO0rO/HUeL+/il+ClNT/+kSUUeeIeqF6H41MAupvwow+N\n",
       "+OGtq5lScYzGcxp4P+H/qPiR6PPaRCFKEOxi2XgPGCVUIgdWOaOYEvmt/e7uJ3J4+eSdjZJe3odt\n",
       "vC1CZ1YZHsQ7Tbom38LTduaxVQeQZ8br/zoyIhb5HOIX0DJwJkdHlB8/OukQv0jOjpf48sPXahBT\n",
       "i1xW8dPI3v+PA/8iCDZkaXYR+uYOwgYz9kd0YJWh3u+L/PS7T07UMQDeGfW4b+mQBdFeobNdeRPa\n",
       "aRRSywuukoS31tiDsZcSswk/OG/vv3+pVg8355esVvtLDbynS8r910l4CtIRnrDQrYf5CVqZgtNL\n",
       "XP6Hlt/tmMS4M+vxalrszHKV9CxLokW+hVpbjvQH0IzfFZsfGhLbmvND333carAVDfvz23g4Cxrt\n",
       "u2oETbYlfKrQyp0wNefip59H0KIm78x6dI18LHRmOSMTfglg4ZhEI3z5/cHmtxr0DPgsqJQfarMa\n",
       "5b5x4eXxJvdRmdvv5Uf0X7ehIpgdqkqRHzyCd/tXFT3ErFAZGQuhKl19w+901eYXtxLiv9ePvgJ3\n",
       "ZRyX3LaftyGHDHWoQKLCfVQWPqgHdMe6xyW4xmTA9U/9Nr9wzZluGydsgc8lrKjl5TeDbB+hPKTr\n",
       "3Ee9Jn4hz2C8sdLZataXHxTm8pm4CPsitXwCvPy6iEGczEIqw33URvPXNZK6Og3AbHNGIAtF95m/\n",
       "8CKy7WjU4TSum/L5dQl4ef7R+T0ufonb8Gq/3tI/zX1Ue//w7L9w6n+IXzsqglaj/LRa4/0D1qIB\n",
       "RaIOBpmRUxLPLlWMP/11nLtr6JTFfVT7Bj32X7jk5re4Wq2+eX2pDY5snvCwReOQbaTTlB8dWa70\n",
       "OueHPS0SddDIljYF8oMKfnATPowHwUdtaD//WmHMnLrOw+4jtDNilbY9JR17Z8TD8NhuF9zxKxx1\n",
       "iHx769afIX67ulT8ODjuo9qj7aJ87e7O88P+aRj7qO0p6diPxvwisoNtXHXzw1GHWImOP22G1/5j\n",
       "6yle6pD7yXxUdqsfyv+13Hl+eFFJ42dsU0k/RPnBoUbxAzHqQPyQWQAnG8VPB69axB1lPqo4lMXl\n",
       "r9B5flhJiuOFpU0lfQXjt0IZNOH8aNRhDVoJY++aNFraOP4ctn1Ult6VmkdLnec3rkhfhsFKujGQ\n",
       "E+Wo3d3I6/OzxsXmexm/vUqnX4rfG7/fuqWB/yumJbaPytLN8qKb6zw/xO6xt9kASoTLME/wTKc5\n",
       "tqvSnxebz2b8ZsteQV3Bzyd+ALID+4hjHs6TNqdUlpos1aOM33SUP9jS449WSudxqHOT9s8iGQTx\n",
       "8WgFJsBzbFWJZRdDqOijo9PmLE1j/KZJjZLF0fPzfNeShZq00a4e9fgbtZRu75M77Apkd1rJGhyJ\n",
       "DVVsZ/kIJGs+Ojppzp+N8dskNVpfC46frJ8Hx691KX2pY/5xfrDcil12XrrVhmFTr5+OTpqztIzx\n",
       "Wya1CVI/j5a98zcQfqOQ0pmhG7tqV+BF8B5Ilx1+0QL821dHx82ZjI7VE8JvutTmsxAcP00yoOO2\n",
       "t/g9F7+HMmAPVCHrXOWksO/LUrrTwdUMPNdjUk6a3xJWNDdDPEP4kUAXym8GHx2dNGcyOsxh/OZI\n",
       "DYN8f4goqOIGllHtv0Zt2FbfhKxgVoyzNkj8uJQudHA1A8/1wnQB7KoLBgjcDctzhB8RzaMZ7UM/\n",
       "HZ00ZzI6Nn8Iv3slvyTI99fkDThWAUX8QH+2ki5SOZxkZS390ekwKPHjUrrQFzeTlXRymg1P8je6\n",
       "44o9B55En50Hvm4SflgmB2PSwCU/HZ02pzI6fnTCT0KQCvT9Sfn93eOgil+FSqEak8Nx1qOlT0L3\n",
       "7ObnSOlCX9TMo6Tj0+y7Uyvp+9iPNqhMnig00dH32TK6XqH89Iq0xQT6/m5EiqDOVPJL9SR7mRyO\n",
       "sx4t/Ri8RdVw8ErpQl/UzKOk49NUhg/nvRGARME4yPiVCJzfZf10dNKcyeg4+oD5yVGIzRAkP/iO\n",
       "tIGYSn69y5kcTrPxHkcLRwc4rtWpGg4eKZ33pc1kJZ2cpjK8SklP1UIl0PddrVGZ/D38aykfHZ00\n",
       "pw4teeUikvO8eqENB8tvgztGbhRV/MLdT9lyOMkuwrI61cLRIQu3zilQNRw8Ujrvy5pFJSUdn6Yy\n",
       "vEpJD89dILont/CFt6b0X5zm9DUGzO9ptYUWFL+0dJ11Kn6/gZ/bcjjOEi3d8VyyhhnPUTUcvFI6\n",
       "70ubyUo6Pk1l+GCV9LRJ+aWlbyXo329Jvx8E5fo3WSvYcjjOYi1d4wu4ZoVqDzI1HLxSut2XNvMo\n",
       "6fg0leHHQEmPeCKwWqE1fu80/f2099VIL78HzvD4g511FPQIaHNLXv/XltKdDryZqKTzS4+Fku7l\n",
       "9wT92o2+3dfGr9XfT7v5jUb/Ha2UPgZK+tl+mZ+xkn3JIyPF/wJNa8Z/2gKsggAAAABJRU5ErkJg\n",
       "gg==\n",
       "\" style=\"display:inline;vertical-align:middle;\" /></a></dd>"
      ],
      "text/plain": [
       "<IPython.core.display.HTML object>"
      ]
     },
     "metadata": {},
     "output_type": "display_data"
    },
    {
     "data": {
      "text/html": [
       "<h4>proveit.logic.equality</h4>"
      ],
      "text/plain": [
       "<IPython.core.display.HTML object>"
      ]
     },
     "metadata": {},
     "output_type": "display_data"
    },
    {
     "data": {
      "text/html": [
       "<dt><a class=\"ProveItLink\" href=\"../equality/_theory_nbs_/axioms.ipynb#equality_in_bool\">proveit.logic.equality.equality_in_bool</a></dt><dd><a class=\"ProveItLink\" href=\"../equality/__pv_it/axioms/80c61ed0a9ea703286def3ed4e81641a1e239b430/expr.ipynb\"><img src=\"data:image/png;base64,iVBORw0KGgoAAAANSUhEUgAAAKYAAAAWBAMAAAC4bPoxAAAAMFBMVEX///8AAAAAAAAAAAAAAAAA\n",
       "AAAAAAAAAAAAAAAAAAAAAAAAAAAAAAAAAAAAAAAAAAAv3aB7AAAAD3RSTlMAq1RmmUTNIjK7EInv\n",
       "3XZ/CtNrAAAACXBIWXMAAA7EAAAOxAGVKw4bAAACZklEQVQ4y6VVTWgTQRh9+5dkd9vYi0hQSkDx\n",
       "osXgQShCrEhVVDAo9OBfFzwIpeh6EZQeqkepuJ4EwboFDxYhpCKKCCEIglWUVqjoIbClVVBo8KYI\n",
       "gvO3m2R3BxQfvLDzdubN7Pd98wWQwhVMR/YfdYZ8kVMCI4gJa/MXxhcrTO+j480pi7YJyrASF7wz\n",
       "2bH1TB+mw3PJJZbDKUXGj3sex1OT6VdpDLzkEr3EKYU2lPTcqTCdbmenhK1HUI7XIu53mx8izwzT\n",
       "NXKWTMqKrYJynOW5Ou+3z7lhN9ffNptvUlYcFqwuP3ge+wxrtYQZYI4NLvntHFUXa2D6QeCO5BSU\n",
       "Q/l+fYHGt8lAy8RWG9gD7EJ3er3T478PgekXke1L8XzPqbnaLyWWqmtkkwKwnQ2czhytjPhMN327\n",
       "kuL5kjMHPVFQfk+Ad8BN+pwjoWt+Cj1No8Z0NUhLUehJkh8k3o36uZ/AKRZbr/OcJjyuO2Xy0zqw\n",
       "Su62sQyl+9uJgWv53fHEfuQbwACbt9Dt6XD90RgpMreQIdmtrvOnxIxpztnKJtjxc96CSbwH2XOr\n",
       "y1MNuD5B3muYzpHHKwP4KmbMce64fgTH4p57MVrilUZqOyo07yTqj0UFKpNU+cH0jegXM25w3m+p\n",
       "+xK3bKZ+lARqiRdr4QQXv8zfo30p1Gn+GqzxLeGVEHonOdPxhDQJEUnjmbibYQMNIzxhOzoeAh+N\n",
       "7x0tItEmOGzHeiFvMJGuf65/w1QRWwajarwtmERvoJAyvCz5hJhetFwz2n1WMAm1PCzdL64bvhKM\n",
       "tOMScMr+Wty/0jUY5Rr+H38A4JajDXZHxnUAAAAASUVORK5CYII=\n",
       "\" style=\"display:inline;vertical-align:middle;\" /></a></dd>"
      ],
      "text/plain": [
       "<IPython.core.display.HTML object>"
      ]
     },
     "metadata": {},
     "output_type": "display_data"
    },
    {
     "data": {
      "text/html": [
       "<dt><a class=\"ProveItLink\" href=\"../equality/_theory_nbs_/axioms.ipynb#equals_transitivity\">proveit.logic.equality.equals_transitivity</a></dt><dd><a class=\"ProveItLink\" href=\"../equality/__pv_it/axioms/b5b3cf1e74e7e4fc2d5f197f08b661e6992950090/expr.ipynb\"><img src=\"data:image/png;base64,iVBORw0KGgoAAAANSUhEUgAAANEAAAAXBAMAAABnpbd1AAAAMFBMVEX///8AAAAAAAAAAAAAAAAA\n",
       "AAAAAAAAAAAAAAAAAAAAAAAAAAAAAAAAAAAAAAAAAAAv3aB7AAAAD3RSTlMAq1RmmUTNIjK7EInv\n",
       "3XZ/CtNrAAAACXBIWXMAAA7EAAAOxAGVKw4bAAACg0lEQVRIx61VTWgTQRT+Nrub/clPA55UKAF7\n",
       "8CIEEUSQWijaIrQEioIWNPRS8CDxoIdaSzz0UIwSKAp6kEVFwYLEIkI9yOKhCKLEg5JLYCuVooXQ\n",
       "W8WTb2Z3s3HbXRqYB7vf23mz8715780bQJxo0aYyhMqPaNMlenJMOSSCKFGPtmULwGmmTItgeh5n\n",
       "vALcZgGuiWAajjMeA5IWkMqLYLLjjGkLMkUwKSRNpThrkmg+t1qfRDApVBBm+8Cd5bDhblMrIEWV\n",
       "Nwo8ivq5FybmtYI1Z4x9jLWYfGWqeXXlNSDTjq9By0X8bPTClKFkH8cpa1/4PFt4R7GlLBpWqiiC\n",
       "KU2rVHBmF8sSFZ2+RWxOZEH0zAR82aVJOfRSWWWWBunVHlmn3qSuQeJJnD4XMGXX50b8ppLjPcUD\n",
       "Jvr368UgelC38TKUJ0zApP00SFum85st70/SzFd9VpUZRyeHAqYNqTalPCRZNJ2/OvnGwR2BMv/G\n",
       "D4AD875kI9yTEnnmvcyawyz5J+OxTurMEfzi5ptd0SsYTsWLw5NGttYBb8xfmeo48eeZrYa7wMLK\n",
       "ZtM9A5D4Ott8+CD6eUyc7jz1dXq+VJecALjc8xW9AXPcGTgaTlM9sUrxzXSqTrf57fINH93QznQx\n",
       "VVH2YpUppplbDLwRtUBV7Eozrl5u+cpsqqRgiWarWwTa1Hytw6TZbzHkn5nKZZh1Dp7cOHyhq4nu\n",
       "of0qP9//RjWPgRMlAuXpajnY0/hk23c7MfwA+gcOnpw92blxjJiLNXxb5M2yQT0lH3meXmCR6FzY\n",
       "IWbM3RPyQrUk5zyDSKZ+ldrXRRd2ylw008b/nzLUwTqDSKaJTVb1LggVTeRi/wCTbqEcktiIwgAA\n",
       "AABJRU5ErkJggg==\n",
       "\" style=\"display:inline;vertical-align:middle;\" /></a></dd>"
      ],
      "text/plain": [
       "<IPython.core.display.HTML object>"
      ]
     },
     "metadata": {},
     "output_type": "display_data"
    },
    {
     "data": {
      "text/html": [
       "<dt><a class=\"ProveItLink\" href=\"../equality/_theory_nbs_/axioms.ipynb#equals_reflexivity\">proveit.logic.equality.equals_reflexivity</a></dt><dd><a class=\"ProveItLink\" href=\"../equality/__pv_it/axioms/864f59d0e02493d4a93bdd8b5654226c327952290/expr.ipynb\"><img src=\"data:image/png;base64,iVBORw0KGgoAAAANSUhEUgAAAGIAAAAVBAMAAABPrCZEAAAAMFBMVEX///8AAAAAAAAAAAAAAAAA\n",
       "AAAAAAAAAAAAAAAAAAAAAAAAAAAAAAAAAAAAAAAAAAAv3aB7AAAAD3RSTlMAq1RmmUTNIjK7EInv\n",
       "3XZ/CtNrAAAACXBIWXMAAA7EAAAOxAGVKw4bAAABTklEQVQ4y2NgwAQFDDgBO1ZRPgXcOlgfMDAI\n",
       "gBjKyKLaDHjAYwYGVxCdjiTGlYBPB9sChkaQ6yYgibEY4NPB7ADSxMCN7HIeBrzgFAMz0Eg2ZCE1\n",
       "/DqSGRjO3r17GlnIG4jXPVyxGz3EoGIbGRg8GBhmoRnC4MAnx3IB5Ke7YAAOT6iYGQNDIQO7ALKO\n",
       "S0DvFTD/YkQLAJiYDgMD5wLuAGSpowwMHAwsGEEME+tnYGB6gOJxkA5ggD3A9DNELAaIE+yAxDv3\n",
       "JwVwVzEwxBdwLUDzB1RMF8jalAVMSwWSbNDAmcfAsDJAhoEbzQaYmCUQ1wCNYGaYxwGVAgaffpcP\n",
       "QxCaDpgYKPAZG0Ai32FSvQwMS94xOaNHB0zsKjwoDsCSPm8DvihnvwBl1HAnsCDSGh4AT6csT/e9\n",
       "gglOx6ejEpvgSnw6sBrH/gC3Br4CBgBNaE7Uk29NoAAAAABJRU5ErkJggg==\n",
       "\" style=\"display:inline;vertical-align:middle;\" /></a></dd>"
      ],
      "text/plain": [
       "<IPython.core.display.HTML object>"
      ]
     },
     "metadata": {},
     "output_type": "display_data"
    },
    {
     "data": {
      "text/html": [
       "<dt><a class=\"ProveItLink\" href=\"../equality/_theory_nbs_/axioms.ipynb#equals_symmetry\">proveit.logic.equality.equals_symmetry</a></dt><dd><a class=\"ProveItLink\" href=\"../equality/__pv_it/axioms/789c834568adff331f7b46a8f81cd1f96d48c8060/expr.ipynb\"><img src=\"data:image/png;base64,iVBORw0KGgoAAAANSUhEUgAAAN0AAAAWBAMAAAC2xYReAAAAMFBMVEX///8AAAAAAAAAAAAAAAAA\n",
       "AAAAAAAAAAAAAAAAAAAAAAAAAAAAAAAAAAAAAAAAAAAv3aB7AAAAD3RSTlMAq1RmmUTNIjK7EInv\n",
       "3XZ/CtNrAAAACXBIWXMAAA7EAAAOxAGVKw4bAAACf0lEQVRIx7VVTWgTQRR++5fuTxoDnqogCxYv\n",
       "IgQRxEuqhKog1Z482gUPgqd4lSrRayvUgwgeyhZEaAsl9tBjWQRBECUKgpfAViqih+KtPTpvZnab\n",
       "fTuTiOAHX5J93/fezM68zABo0ZYcIlOM/XM1gFooqMMtRezbcDuyjg8nFYbTktr5NEohszvcjpzG\n",
       "hztl3Y8E9bhbirwaZWd8hMu+VJbthqAe50qR1ig7YyUGCBTbVJXUoxrTSDLKzmixd6go5FOSelTo\n",
       "25vRKDvyQ7//XiFfE/R3G7BCt3bv2MImW5U63YJurhXsogTakVcBXijGuy0YmAlM4fNMH/GJ14Wd\n",
       "dAbAikgcZy81sHm4j1OSJdCOvAdjdcV4nwUf2z2YINJ5mIqPsuWj2zUe5togZAm0I704mFWM91Yw\n",
       "rqbwkUgduIxf7m/aEbO5NghZAu1IM1W1SzYezMXuQUnkM3ASxXhQml1WAu08JWqyj70ru+x0c3bA\n",
       "KK4nm24tIfsEzj6ssYn2SBzXU2qD+ydLoJ2nbLJ/fa09UWHujSPxohxvWfIpeGR7/WdGAqwVLXpK\n",
       "eGmuFSBKoJ2nzOMDLLvs5/0z8FOaXktegjnyPzMPXiZOKNq/ANbtmVaAKIF2nmJ0MLjPpeNwQpqe\n",
       "SK5s3yDXiH89nTyLy0fbzO3lWgGiBNoPU9yE311f4F3W3B1BgC3NgfGgFPmqO1u2pD1PmQ8iG9ZZ\n",
       "hpM1uXWRM4j8N5oirb84wfkyixKtwRT7+/YvWAxh8kJ+Bj7nHE8NzaWmuFQ85QUuSqCdpoR+28ub\n",
       "Y5XTbE5rXk9R3F9SGUUJtJMUJzbSm4fzTwV1+KGIPRxuJykWOM0u/F/8AftFwtP6vVzMAAAAAElF\n",
       "TkSuQmCC\n",
       "\" style=\"display:inline;vertical-align:middle;\" /></a></dd>"
      ],
      "text/plain": [
       "<IPython.core.display.HTML object>"
      ]
     },
     "metadata": {},
     "output_type": "display_data"
    },
    {
     "data": {
      "text/html": [
       "<dt><a class=\"ProveItLink\" href=\"../equality/_theory_nbs_/axioms.ipynb#not_equals_def\">proveit.logic.equality.not_equals_def</a></dt><dd><a class=\"ProveItLink\" href=\"../equality/__pv_it/axioms/460c0757688de5036b09e198e4b33898716c95990/expr.ipynb\"><img src=\"data:image/png;base64,iVBORw0KGgoAAAANSUhEUgAAAP8AAAAWCAMAAAA4nbqyAAAAPFBMVEX///8AAAAAAAAAAAAAAAAA\n",
       "AAAAAAAAAAAAAAAAAAAAAAAAAAAAAAAAAAAAAAAAAAAAAAAAAAAAAAAAAAAo1xBWAAAAE3RSTlMA\n",
       "q1RmmUTNIjK7EInv3Xbn9enzK1aD6QAAAAlwSFlzAAAOxAAADsQBlSsOGwAAAsNJREFUWMPVWNmy\n",
       "pCAMlUXZM4v//68DKt2CiURnXiZ1q0/VjeYAWUicpjdiOnz18vsHzT9Z9DsrRUC2SIn22H9neMbC\n",
       "V9xL5W1RfPRSMQ3J0CIl1hHrV09Y+IrhgSoE9VzVCzMg/NIiKc4SisXzWfiKsVTeM9oaAMYxrWjV\n",
       "Iul+QWmU5rPwFWOpvA3WwwjcrIodku6n4yl6NgtfwVm6v6I6zpMbVnJpkSw34iYQFZeFr2AlgEIw\n",
       "piKRW1V0aNEDCG/DJXzacuJhi1u/H0oQXBZSQdH21QLlbVBvZcr5l2eYcwgETDrVBW7HmX78LL+f\n",
       "fYZJlsBV6554Xycej+8ixhFC0RKGcN4Gjag/LEmyQWWKdT8Jded+K/eVir3IyshkOW1Ks2j7Gozz\n",
       "tlhcH2Z2DZkbLMGjrzk5tyU+M8TSbsS997Arl+XbvQkO7SX8cd4WJfCr32X/09c67f5yIGu5bNe9\n",
       "JZjj3+6foEXKMMbb4TKpwxSANvmvNoiiaRDR+N8o8gven/Pw1+8+oTdnQY27NMr/JIn9U7SUIZS3\n",
       "wyCPJgBMyZRFHqVzymdne1c5OKN38yTiVmjuOzwn6k/J3mGv5XrfGs2gxQxhvB2aWPWb/aNtNb4c\n",
       "D/RLbe8QuVqv80Lmxl/y2uBpUTymBrfbhYVQ4LTofYnx9ii+nfp6SlyR1aJ3hE1n9Bogb1fJUYPv\n",
       "RQBdjadhtbXpVoHTohUQ4+3xZD6eBuOijpchJtkW+RNaOKqsSYxr1j5V3ARTx9vjJ8fi9mgOXh8O\n",
       "qnkdThGs+a7Y9VHyRxjSOmd4GvCSE5yGOQCUC2N7JQeYW+jBhhpwFOL+BHs68SdNcnxyTz7cYLw9\n",
       "4jGczy0TOcRV3rV44URaaang86WBtwHKOq1At4Hwjvy3Xa5+K30z2hcZaLGvIYPPMEz/GXiq4PH2\n",
       "iMdwOQMFbz81/TfyB1l9Gx7F99IvAAAAAElFTkSuQmCC\n",
       "\" style=\"display:inline;vertical-align:middle;\" /></a></dd>"
      ],
      "text/plain": [
       "<IPython.core.display.HTML object>"
      ]
     },
     "metadata": {},
     "output_type": "display_data"
    },
    {
     "data": {
      "text/html": [
       "<dt><a class=\"ProveItLink\" href=\"../equality/_theory_nbs_/axioms.ipynb#substitution\">proveit.logic.equality.substitution</a></dt><dd><a class=\"ProveItLink\" href=\"../equality/__pv_it/axioms/b3647e5bced6c805148d96be1aa0946871a946d20/expr.ipynb\"><img src=\"data:image/png;base64,iVBORw0KGgoAAAANSUhEUgAAAO8AAAAXBAMAAAARnwX+AAAAMFBMVEX///8AAAAAAAAAAAAAAAAA\n",
       "AAAAAAAAAAAAAAAAAAAAAAAAAAAAAAAAAAAAAAAAAAAv3aB7AAAAD3RSTlMAq1RmmUTNIjK7EInv\n",
       "3XZ/CtNrAAAACXBIWXMAAA7EAAAOxAGVKw4bAAAC/UlEQVRIx7VWTWgTURCeJLtpkk3SHDxYLCXi\n",
       "z0VLV1Chl1pp/aOCwYMnMYseBE/rUalYPUrFigexh7IFDxah1B48KJYgCKJUglDwEkixInoovVV6\n",
       "EOfN+9vsS1sT6MDMfvvmy5t5+97MC0Db4pu44z/4fuSnLUu+aGK7vj3/itACe9nXRuBDZEfeaIzy\n",
       "vRmzkZN3uZ5iL9dbj5vxmHV2v1eYSTIwmVHODa732NZMtB7YcpnNHphUmEli0GRGOUe5shydYuuB\n",
       "s2TLgcYkn0xmlJMNSBOYSbKNLT5I9l0Ik1wzmVFO0uW6WKt9biPwCDNHFndJPLv84i1+uFcGUXMy\n",
       "Ky5M4/ctcD0LMLnZ7IObB+ZL+6vwYL7HqgIcp/2vkRSgkePEK3ACz4HH9SZ0MEZm2DVn3+LQfaWG\n",
       "8UfihJ/YiOEMhw2i5tzHzLoAMDxpOnBK6EgfG2sp8Adm4msSp8CienlkEDUnyNbhC1LXuMbrdLY6\n",
       "m1TgtoGdqsZZ6lqXzTLWnHKQwuXbFa7gDbC8uueZe/XMCvZRexliocB8kFqidIhPnS5oXPYzmHuv\n",
       "scchzmnIs89c5QrzrJVAP7UzvyuJR3O2MxjXgWnw3DMUVzkApvQqGZ4pdYMjp2kseMWBx5RFYoIr\n",
       "jFJKw9R4YCqFj9u98EsHFoMQdoi6uVuSuO/Bebgoq6xBNAdOQhnPnzXHFWJ0qp5w2jrZPdAT3uN1\n",
       "NYt0ADxkpk/h56vxIdb/lozAmgPTCxdwz3IlrkI+kk1V6EpdEq8TapB/auXAn47REjTmtVM1Ajdw\n",
       "XqPeESoumw2AlzDqeBY+4Ju9pgPToBDpoOsgXrgavRqsaDMIcxwvw+6pIaEgVgUwXrR+LPzGB+zv\n",
       "93RgGhQiHShPITfpKSzkVnS9YU6uHpvjV2HoOqSkxSVVzPhpt2kdKwfKDCRklSGOZqDmDXHiA+zy\n",
       "T/tcuaT34hbYvIfYQax+qXkDUQ62naG/ORLnt/gzJTk/hYr2skp1w5MEe2CueWDl2Gnxd27qf2UN\n",
       "1FvBvR7LAAAAAElFTkSuQmCC\n",
       "\" style=\"display:inline;vertical-align:middle;\" /></a></dd>"
      ],
      "text/plain": [
       "<IPython.core.display.HTML object>"
      ]
     },
     "metadata": {},
     "output_type": "display_data"
    },
    {
     "data": {
      "text/html": [
       "<h4>proveit.logic.sets</h4>"
      ],
      "text/plain": [
       "<IPython.core.display.HTML object>"
      ]
     },
     "metadata": {},
     "output_type": "display_data"
    },
    {
     "data": {
      "text/html": [
       "<dt><a class=\"ProveItLink\" href=\"../sets/membership/_theory_nbs_/axioms.ipynb#not_in_set_def\">proveit.logic.sets.membership.not_in_set_def</a></dt><dd><a class=\"ProveItLink\" href=\"../sets/membership/__pv_it/axioms/0592f2e31092a6f12b70ad6e1b04d96f0a4266170/expr.ipynb\"><img src=\"data:image/png;base64,iVBORw0KGgoAAAANSUhEUgAAAQIAAAAWCAMAAAAcoWJbAAAAP1BMVEX///8AAAAAAAAAAAAAAAAA\n",
       "AAAAAAAAAAAAAAAAAAAAAAAAAAAAAAAAAAAAAAAAAAAAAAAAAAAAAAAAAAAAAADFBd4eAAAAFHRS\n",
       "TlMAq1RmmUTNIjK7EInv3Xbp8+P3nXbhrUQAAAAJcEhZcwAADsQAAA7EAZUrDhsAAAL6SURBVFjD\n",
       "5VjZstsgDGU1Bmza3vL/31pwbAcJhJXbvlWTyckA5mChNUJ8SxzC+SruOH+h+zfH/uY2VZKCSMgS\n",
       "xuM2fUbDn3iQixiivOeV5u6kIkRCVokeMyZGoW15Bf0JDX+CWt8RAzT2vjOuWYQFIiXvrQ/xVeXB\n",
       "55l9jGj4E4SMiFu8r8p57pZGQ6Rkh0+ZA/Rxfm34NPwJYvmIGOClj8j2rw3h0Fv9/uPn3l5XXls3\n",
       "3AKbhj/x4i0CzGRM3KI+dcq2LrVAHIWdJQUhVzCUXzzra3TRXBr+xMmLx8bEALeqt31jhxgTIYaU\n",
       "ZFhjY0WuWhby2JBzbHQSJZeGnCB4u8gxJgZojgU+cFWA9Vi8KckkzNv1j8CqUebTuYi8Qq5+K8js\n",
       "jciOhuQneDsZEwN08voaWFZMSacVRjkFULvKUuz+feRlGPRD8jlffqy2J02f2zcKMizegR2MiCFW\n",
       "A4h26Hb1JteMopEFWPVjAPlaXevXV/nqkozJ58N400HQwye6bmnOe0if3DpiiPVFl0nslVMVHD+B\n",
       "0QffJxh9OeY5bLe/VQHB27kBQYxwuR03JePK584nelBJI0c4gm5ZEgIoCGBREM7ju3yuUvtTLNgV\n",
       "oYI5L3YCihhhVKfjJiekF8vNkXL2elhs3Ri8FbJqsgngKQkLa5+L8A7z+rEQ87iRcIbB27kyRYzQ\n",
       "bfK2mkLQRL+gTMaBEqYVlddgylFse2mLgkVBuekIU6F5zMFk2pzydjGAIsbYHDg3Zh9e1oa7n73F\n",
       "YIruldEKmt+XBQnBCCuNlO9Fu31SwbpPJwheD3lpYoxtVH37/kvBfe+wrxBHQeh39LhQBUa9P9cf\n",
       "5PYT3pLFp7w3McZ7fhNxOWqOUM3DHNYju3oDtxof/FPwSadDbs/psbgtXncQk2otVPvHTdWysfbZ\n",
       "g4rLO4i9rh+CHa8rJbf33/635yLGOG5GZp28nyRiTtfJewdy++C/qwJ8ebOD2KkluwQRy0MPlJi3\n",
       "SG1PTwgeMcaxv4n/Rv4AIvwdMCUnlXYAAAAASUVORK5CYII=\n",
       "\" style=\"display:inline;vertical-align:middle;\" /></a></dd>"
      ],
      "text/plain": [
       "<IPython.core.display.HTML object>"
      ]
     },
     "metadata": {},
     "output_type": "display_data"
    },
    {
     "data": {
      "text/html": [
       "<dt><a class=\"ProveItLink\" href=\"../sets/equivalence/_theory_nbs_/axioms.ipynb#set_equiv_def\">proveit.logic.sets.equivalence.set_equiv_def</a></dt><dd><a class=\"ProveItLink\" href=\"../sets/equivalence/__pv_it/axioms/a526f1ab8a886b46cea1848b9b6f2e135fcc6d080/expr.ipynb\"><img src=\"data:image/png;base64,iVBORw0KGgoAAAANSUhEUgAAAY4AAAAWBAMAAAAlaGbVAAAAMFBMVEX///8AAAAAAAAAAAAAAAAA\n",
       "AAAAAAAAAAAAAAAAAAAAAAAAAAAAAAAAAAAAAAAAAAAv3aB7AAAAD3RSTlMAq1RmmUTNIjK7EInv\n",
       "3XZ/CtNrAAAACXBIWXMAAA7EAAAOxAGVKw4bAAAFA0lEQVRYw9VXa2gcVRQ+u7PP2c0kQSlWqllQ\n",
       "CmK1i4ZKf9Rsqa8SW4OClLbYbUXUWnT7RyhqsoJ/1EoWoVSKbbZQxApKLIwg+eG2Ep8oq/iI0IGJ\n",
       "EaJit6nWNm3Veu45d3Z35t6dBP954OPcPXvnu/fc85g7AGGSlAiTkmKxnPJ/oCot0hYkPDW14Bbh\n",
       "Rwl8othpzkOKJTMUSqXbU1HHA1YuZG9xlwE2qR5hu04/NTrOQEnMkTKXfS34abz6cm/v42Ww8qof\n",
       "EXo6r6fSiGBXeeBG7WRj7EzvktcAZoBhk7pT/PWonv4NCZSV7EfXz2twMxG2fYqjeYCdqh8xEZFE\n",
       "SU+lEWJXeMwOOZCtAPSVIVEFgk3qeRHWiv6BdRIoa8+TmgFzO8ALnAz/YGDPAvSrfqRElPd0oNII\n",
       "sSs8sbx+9gim0bYCGAUg2KSER5kOeViTwBnPzJPG/UUei3/P8UWTgb5kq2p9iLM9pqfy5BfH8c6b\n",
       "2RWerL9YDjrf8WgA28gA+vIZEGxSBjqd6FAeRQbKsPU7aZHhp//iOo5gMiQ+RuRVP25FVdRTSXnw\n",
       "19aY2RWe5b6yfrLpZh9iFybtw0CwWX3hOJ/r/YiNM1AK0T9a9mozTc1r8GgyPaofWcc5Oa6hMhtX\n",
       "v0xxSrZXA7MrPIOId6bfnKBseboVLazLw1Oo32XYrO4BONC+vbYukvcOKZ5LXVLcHD3UWCL+Neic\n",
       "NzhCvpJ+xMqQrmqoYjDtboBAE5DsxBMjGodcEuddsK6N1f2tKHWhMS3+glUMm9VuSNJT5ic068Wz\n",
       "E+vla6wrxxDLJ89AYLdwugTRD0XO1NR4IOXudpNHdRsMVK8gP9qDxewKD7Z4o2RcjNBRtpLSwqaw\n",
       "QthWMGxW6Sq/tzJcAUYdLEmYHWJgTd6x9oISj9cRH6DLqTnNe/AA0bdKVlKV4S427BXnIdukZFd4\n",
       "JtEGMXYghenv/EDDNG4vIxrDKMNmFXX5bDZ9ydWLDW0u4IeJzeFvxQ9xhqJtxDXxgJt9Zd52JLwK\n",
       "HG17TUh2hWeSnnR5UuvV0N3DfRK2Mmw5LN5Of7vbecUcvJ0P5FUMcTLoRkrUZh/uLVpX6wMSBq5v\n",
       "/TR8d4Aqfh7eIkN7WjE78bTXh7g6wLaSSYVWb9Ulbi/yJw5uYthyeIxahyUjPjLTf5V8IO0y4AHE\n",
       "U8H6EGmaOicysaKJR2Y5rj4bqezwUZn7IjXq3WC5zekeu8JzCMM2tAwy9KPRNGNdwqiI9mqGLYfP\n",
       "kvOb4DeatQbMK7399DCSIuBjwbtnAq1bd0KzNfv9SB7HQT7tln1U0fkjtTi/dHc074geu8KDzXTl\n",
       "S/fC/bxc8129C6P6UVX25UH2QwwjtNbgRB/FD50YkffVVJ1gjp2rwg2Xn/AvEhG3tVcpRYZ0910K\n",
       "arfnvEe10b3+FrYc3sd9ucWu8LwCcKQRXccOmEs3s3WpuJ6S7VuGLYfczHD75M8JTEnv82FKIlye\n",
       "63xv39v8glCpthx0iuE8Xb7PmPj73r3EC2SdYbNqJml3zhyH5EUwv/GM/brbm/Y2qfUjWXsPCoun\n",
       "UniMQuh8cY0UsNtulLHjYN73SOoErLo0sb6ZiekSI/ybsdIxHhu3NKqLptJcuveHLrxHwg5crUXr\n",
       "C3wAVHyNWy/q7nTfgwtTabw8GrrwfglbdXhz4PewRJjMqt+1uu/zBalmNSFyQ+ZbJcapSVI+ycP/\n",
       "Vf4Fq76F4zG+p2EAAAAASUVORK5CYII=\n",
       "\" style=\"display:inline;vertical-align:middle;\" /></a></dd>"
      ],
      "text/plain": [
       "<IPython.core.display.HTML object>"
      ]
     },
     "metadata": {},
     "output_type": "display_data"
    },
    {
     "data": {
      "text/html": [
       "<dt><a class=\"ProveItLink\" href=\"../sets/equivalence/_theory_nbs_/axioms.ipynb#set_not_equiv_def\">proveit.logic.sets.equivalence.set_not_equiv_def</a></dt><dd><a class=\"ProveItLink\" href=\"../sets/equivalence/__pv_it/axioms/9437f7172aa913560deca1c56b1db5fda3c9a51d0/expr.ipynb\"><img src=\"data:image/png;base64,iVBORw0KGgoAAAANSUhEUgAAARkAAAAWBAMAAAAGH/VFAAAAMFBMVEX///8AAAAAAAAAAAAAAAAA\n",
       "AAAAAAAAAAAAAAAAAAAAAAAAAAAAAAAAAAAAAAAAAAAv3aB7AAAAD3RSTlMAq1RmmUTNIjK7EInv\n",
       "3XZ/CtNrAAAACXBIWXMAAA7EAAAOxAGVKw4bAAAD4klEQVRIx8VWS0iUURQ+M+M8/EfHEcJqETMQ\n",
       "BFHRLERqUSpaJBGJbSp6GBGRSdomiEwnWrkQJYIkRMeN4KLQWrRwkRX2pJikQMiJqRYRhK9s1MSm\n",
       "c+7rf8w/M8sOfHP/ufeec7/z+u8PkFNaBXKIN5tezg02Z+Q5ByAQ5kC5km2PO2mvp+Qr59SYzcAp\n",
       "A4I0sTnLxm0CKC0ZzroG5kvLegG+2etJcY6wwTPHhsG3RJQ7sDtdWnohCoEIKOyj+fP2ZLRGDrKZ\n",
       "1qdlmIp6AEJR8MTs9JQM8WEnZ/P55icZAoBXAI5lgCZQuEHO9tizKYhw0GOIpdXdcgmgN8CXO9DF\n",
       "01XgqrLTU1LDh+ollsIIDAXBxzW8f9HgIkA5KJBn/rA9myIBlEePozR07do64awa5nOVOFWJjF7b\n",
       "6SkZZ7/+a8s0OBBl0ZO8YF045UJGRTEFF/rhyVI2WwTQjeQsY7we4GRfw0e+HEI0o+GzdnqqbHjW\n",
       "2gMLjBTFJz3BlxyYPM8LRETH20TiTRY2BwUw9rCTRZ/KrzkVVmkfnMJx1E5PZY0XcZXzl15Wet1p\n",
       "mzC+/qCOAwB32WJGMTKnueMN0D0iO0qWqG9l5gtbrWCnJpgEAczB8jAv3GHfaob57v6ZMlp1Neq4\n",
       "DF5mQnvJtnQujtVFxfZJAXQNOkQfgKNevlSwLreTte3WYyYlOazW4jCPrXfeyhlmW8H5jJI5rqMw\n",
       "5mf2/Qu8tOIQGBdWJwQgcLs2JPvumDyzELf5qTa7rWwmZBjx1CJm/Edt9UpGbPoQ1By+OR3OJC/i\n",
       "o++469iyc1Y29wFK4vRwKJFYSyTes9WSIG8JOJGXjYb1tpbBhqJFPeke1wGNe9la8gwvrTDci1gz\n",
       "RREXAXONqLTjNsdvfNhhzcGkgQ3LVAFi2krGR3UdQrLOuA540MSSAfv5K+1b+Qa5v1/AHVFvdihW\n",
       "1jDt0E0lvdt6Tr9kg14UUhsekVeLkTPVnS9FDvbogDa2dhR+Mgt7QFsnrY4KtFGVLPG5h+rMZqT5\n",
       "PGZpaKUnhdrWS3EdsN7RHpw90SReAhLgYC10cCzEWhypdMiu6eIYTjeBcyBFew9N4+uJ181GuvNY\n",
       "w3y0suky5iMO2kAqBlvTF82bHHTp3mLhrtch2hVJMFZP8e6RHV4c5TDaqM/8wIlbZ0w6U/k+W+C6\n",
       "AVwwsyVhbQS8f0D7ICfpPrTciZ32d6tZTDrlednUGMAtPgHt8DnfU6hYHavT79A7Arr0Zhq7mjll\n",
       "1CnM901HXxASJnFa/g8L6BLNfbRBT91KPXnYEF0Jkxy30k5y5PxatfHdpNOeh813A0wSgf8r/wAu\n",
       "HRcDmrsnNQAAAABJRU5ErkJggg==\n",
       "\" style=\"display:inline;vertical-align:middle;\" /></a></dd>"
      ],
      "text/plain": [
       "<IPython.core.display.HTML object>"
      ]
     },
     "metadata": {},
     "output_type": "display_data"
    },
    {
     "data": {
      "text/html": [
       "<dt><a class=\"ProveItLink\" href=\"../sets/enumeration/_theory_nbs_/axioms.ipynb#enum_set_def\">proveit.logic.sets.enumeration.enum_set_def</a></dt><dd><a class=\"ProveItLink\" href=\"../sets/enumeration/__pv_it/axioms/6fb4ff7ba9c954a5bc3bf9289224108e230746630/expr.ipynb\"><img src=\"data:image/png;base64,iVBORw0KGgoAAAANSUhEUgAAAlcAAAAzBAMAAABI7zDSAAAAMFBMVEX///8AAAAAAAAAAAAAAAAA\n",
       "AAAAAAAAAAAAAAAAAAAAAAAAAAAAAAAAAAAAAAAAAAAv3aB7AAAAD3RSTlMAq1RmmUTNIjK7EInv\n",
       "3XZ/CtNrAAAACXBIWXMAAA7EAAAOxAGVKw4bAAAI4klEQVRo3u1be4hUVRj/5nnv3HnsVASaYhOa\n",
       "LPmaSiNDdHKzl5qbkX+o6KSE5B81hhia2uhfFauuhfkA5apR+WgdFRdEqMkILUlGUzFp44qLIsYm\n",
       "Cq1s0HYe93XOvXdeu/eC4geO58ye7zv3/u53vvN953cHoJxIe/fKcF+qgyLe25vp8zSR/F2N0h6K\n",
       "UaS3t7UCWM39MNtDd7dLiZfURsADsHwFtp+z9/I3+zDF+9im4BZaozwE6xm2m0jZjro6uy8PfyBa\n",
       "KiHFJbCiSc/AEk6w/RG2o/w9fQuL+H6uuOVav3kGVpx94FLW/umV+vbwsXrYrY17pOwVWBPYbjDt\n",
       "GliBjEtghTNegXWK7cbYALa940K/gQW/uARWqNsjsBJcMBrOXMW7cj96Fix0K2i95RFY8STbn4r+\n",
       "tV3+5hjZE5fJ5ruVOtOw0whuTM8u2TANoGAddAusMbI3YG3g0nf89DOJIUFyd4uMUIbiftRfhEmG\n",
       "szA9O28yDUgU9SQl2EEk2Z9gHVC8AWsw1z+LJs0Fenwkzhs740rUX4sQHAi71S9JTzr2gOMWR4er\n",
       "+cktsmu55VmRkjdg/cD1f0IpJPEjnEv+ilzgd9xa8jb6kGMKnBa71OhFekEIOgYzMkDr7FyAvdgt\n",
       "sALdnoAl3raChbZEmntJ+uziK9iB5sviHfBr6OBeQ7Nwx9E2Ga5KO77Qua6dONz2BKxEt3UZotvM\n",
       "SWR1ldgU/EUce3SwcC8glwGLDGha36kXAKPcill0fbgOVqTIfbEDYE/zYIiSThe792/EmGGwJNB6\n",
       "5A/WsKUP2D03HUNVdJRMM961k4ftnoAV4ydA2/uYT6fBTJoapxiwnof5aQLWgazWg3UySP8A/Upv\n",
       "GANWXIUGWUsdproG1vcqWMRfhzqD5SN1brreTZcvQdYBfNnlb6IoSQNnm8Ha+d2MHAErfknrCdtQ\n",
       "qwPBEceGzoHaMAYMIZGKgnXeNbAmNVOwprAJjwWsIB4XztWbZvHnJnEm7wodZcuddqAx6wmttxQ+\n",
       "QF9Z16E+4CS8IKrqQsk1sMhtILDW4GlancESsestrzv35U+vHKpdfLfRrHRcBaug9oQtH78KaoBj\n",
       "RB9wEy42qmAF066BRRYIAgsfbERTZWLWYvT/obr9N89/s9l+1yziwxxfAYT2fxWQFLUX6+29icoj\n",
       "a4DXBoSScCNNC4D6n2hlaUhSsAJornC5AP80k2rXKH9b1u8e+yNClIL7J07RoANzDxQrtuwA2J92\n",
       "fAz9A1aruhuiNPpUObBiHR1/FOreRizhRlBsBy59sA/38iFWTuTcAyuWVcF6GWBbObCCeYjI9c4y\n",
       "Q4Z7QeIlFawlIJjTXeHcEZiQNIGF/rqk7lkehXsDrKIKVkSO6qnn+oGb4LGoHJTNSek2OHIfLBUs\n",
       "v6LH9+DLOEFVMlEmgx9df3y/55YhZCeiBilICZnU+PhqFqxwAMXkROfql1B7XhK0JWpqGknmZZrx\n",
       "GwHeGnVz4ES0MkMqfVPLn2sYaX91eoCHQyiTIgUpPTJpjO6aw4AVHY7c45qvdQHOb3rEopbq6E1D\n",
       "2hrkFjZ1sORZmGRNpMpf8Tw7pZoUHE9BKhgilqzWYkkNrJWoRQrSEEmBGyFznQFLwAcU6YiC7lvY\n",
       "VUq0knqNNmd2spX2ilFwvUJSOgKciFbTLaVtlGpScJIRUIUlq7WGjAaWD98QLkgD72zd+hkCa1+Y\n",
       "PXUYQMYT5/QVfMpa+qYEbhalm6zVQcgQU+7wxxaYZJUqxsDFZAIc70QF6lBg5RGyd0FVhoilxZZy\n",
       "p8Ac0eCCVCxQzwqNtjmiaSFLOd4cy8Ml9W+xfI5fiefhZGDKU0YOu4F/SLiAq1zEjSVlJL5t8r5S\n",
       "zQqsTMQfW6C68nGsZs2ukFazK1KQkvU1DuCyBSyh2A4ZqQDx/HzAYGnNSDPswx31Ay6Gbvqvm05A\n",
       "G/i6OQY80WqbMesHqcugHgVuL8M3kK3OELEUk+3OA3SwaEG6HD0V8ULO2NEMz3ptTpcsHgd/0xcE\n",
       "LK2Jco2WlHgCWnL4IwXDxmdhgGA4e5z3++HAEa22EiYegMv3yVCPAnekgW41mKrOELEUTtuVuNxJ\n",
       "qXR066ZyJ6V++Bo+J2CpzaiM/NPYYFJSLpKGUmKc/mR8/IY5FTii1TS7wZrSt3yWqc5SuwJXjmap\n",
       "dzkaamsCSUuDsKVo0i63rvFYeTYMCWVh/amU1nyvtwQhHZmQ7FNmoWn9h43jK/5VooXAEq0mfsHE\n",
       "mgaIQ6KdJ6FAPQqcDNCO+82GphM7Z8jp2EgIaDsVthTg18PPdYCVhjduWJoBAxkITeTOJ8RbnMWz\n",
       "wBGthphIVj9xSDEJcRkqKFAellPgZA2om5K9ITE1HXwaEtiSn1sPwn91gFWH2JCsDNFqEhPJKtLn\n",
       "vAiGaUqOCpSH5RT4OJTzZ8oYkuC0RmVSSyKXEHlEssI0e7DAuDpDDJI1VFRTyEW6kpMC5WE5BU78\n",
       "BZVEcDAU6jHeycCWQpxn+Tyi7+c32y5DnWg1c6IGyaoyrXGxVVdyUqA8LKfAS+kTsBgyxSzka3/B\n",
       "2Ge7MurUfm6XaFC8ASvOJVo7gCNaTaKTrNp1JZ5s1pScFQhbwSnwcuVhKGcIWdkojfsRTqhT87BM\n",
       "kr0Bi98ODwJHtJpEJ1khSPcJ6YKu5KyAeVhOgbCxBiUL8G22rKFgMnRbaMtCjzp1kNumzoA3YPGv\n",
       "Sa4Djmg1iU6y6vNO1pWcFUhdzymc0z5Uxw6myhqSBnV2g08hoQpb4m7bs9ckVRc2LOZ5otUsGsm6\n",
       "CixKjgqEh11VZVBwMhTNQiwfzOSppVWWVeoRWGHWpTHJ6kS0GiRrE1iUnBQoD9tUZVDIOEC+PwUf\n",
       "QXxtnlpq4jddr8ASuR8NbAYnhs8gWS0MeRkFwsMKrVVejb2hP2EQwOuQOEzJed7aWfAKLO40kJCs\n",
       "9kSrwZpG+IPdmhWcxN7QUOMME1virHn4cxT+h06C4ki06nLNUgrXquAklQwRS5y1WVAlWM/1w48z\n",
       "F8BdLSI9N5X2tlUC6/6PM+Er6i74x5n/A7VG70C6mvdEAAAAAElFTkSuQmCC\n",
       "\" style=\"display:inline;vertical-align:middle;\" /></a></dd>"
      ],
      "text/plain": [
       "<IPython.core.display.HTML object>"
      ]
     },
     "metadata": {},
     "output_type": "display_data"
    },
    {
     "data": {
      "text/html": [
       "<dt><a class=\"ProveItLink\" href=\"../sets/enumeration/_theory_nbs_/axioms.ipynb#empty_set_def\">proveit.logic.sets.enumeration.empty_set_def</a></dt><dd><a class=\"ProveItLink\" href=\"../sets/enumeration/__pv_it/axioms/3c056759c1e748a3edc5ec6822723c8041cb7d900/expr.ipynb\"><img src=\"data:image/png;base64,iVBORw0KGgoAAAANSUhEUgAAADoAAAAWBAMAAABj+5JWAAAAMFBMVEX///8AAAAAAAAAAAAAAAAA\n",
       "AAAAAAAAAAAAAAAAAAAAAAAAAAAAAAAAAAAAAAAAAAAv3aB7AAAAD3RSTlMAMlRm3bsiEJmr74l2\n",
       "zURt5drLAAAACXBIWXMAAA7EAAAOxAGVKw4bAAAA20lEQVQoz2NgYGBgZMADlEUwxeoeMCQlgBii\n",
       "6Z0Ykjz3ChgYpxYAWe4MXQLosvogCdYJDAxMAQzOAeiyW0AEtwMDA8cGtrAPOGVZDHjMv+GU5TLg\n",
       "Lf+HU5ZfgYXhEx5ZbbAshwsYTADL9oK9tQAoa9DHjm4y22Iw+QlkrwMbmizb3AdguvISA+/BCYzf\n",
       "0fRKhIOpvQ8YuHsM+Bag2xsJIpiAmhh9C7g3YHczSFMLQ0kBTh8x2J5pZ8Atuw1LlCNkGUiWPQUi\n",
       "OC7gkM1XABJVBjhk2ToVGLInMTAAAK9fONv24lJ2AAAAAElFTkSuQmCC\n",
       "\" style=\"display:inline;vertical-align:middle;\" /></a></dd>"
      ],
      "text/plain": [
       "<IPython.core.display.HTML object>"
      ]
     },
     "metadata": {},
     "output_type": "display_data"
    },
    {
     "data": {
      "text/html": [
       "<dt><a class=\"ProveItLink\" href=\"../sets/inclusion/_theory_nbs_/axioms.ipynb#subset_eq_def\">proveit.logic.sets.inclusion.subset_eq_def</a></dt><dd><a class=\"ProveItLink\" href=\"../sets/inclusion/__pv_it/axioms/0a73f44893619de306ad70c8de110c34b161d8b90/expr.ipynb\"><img src=\"data:image/png;base64,iVBORw0KGgoAAAANSUhEUgAAATUAAAAWBAMAAABTfhYbAAAAMFBMVEX///8AAAAAAAAAAAAAAAAA\n",
       "AAAAAAAAAAAAAAAAAAAAAAAAAAAAAAAAAAAAAAAAAAAv3aB7AAAAD3RSTlMAq1RmmUTNIjK7EInv\n",
       "3XZ/CtNrAAAACXBIWXMAAA7EAAAOxAGVKw4bAAAERElEQVRIx81XXWgUSRCu/d+dzU426In6sgEP\n",
       "X/xbNCg+nAno+YM/F04QUdHVI4hBMHkRAmrWF0GMZpELGuHODYiQ45REiHIEcQ0o3omyiKIPLkxO\n",
       "ISgaf1ATFYzV1d2zO9MzE3yzobZmqnu+/rqqu7oWwLO1CPFoEdX08tE3f2KdEgEmmRVAr+WCbb/b\n",
       "mJChmAYmgf3fq3M7R2AqyR5nuYybIwTbPqUzcPZNzbTTAE9Ubj7260+7oPr7HM0CT08TN6Z+Zubd\n",
       "ziBahgvDmxC2Z6VSSYSsKgeQykI4r3ALNuJv2C0s513sAq+Zex7VYRb/nPPgYJoLe0zxmY6MlLvb\n",
       "MZo7GiDQoHCLsmi0uUVtuYtd4NVxbqjYquO1LgsRgu3KtSx58mFFdz2a6hHvP3W/sbVfcuNWsLxh\n",
       "IDIWvKo8cUMVQL+EXUBmC0HPGq+Iv6+xojuFshfd+ZvKbRH+Zty2m6Vj03M7XjhN3Ji6UyrddkFZ\n",
       "KwRDCgsotpZV/AvQw7Zev8qtqlR63OeCGsQObXTmMfJrpFnBiyeJG1OrAc5Ql7KlySHcKb9CJ011\n",
       "uKI3+nF0mHoX04wlaknOLZiFmA1Pkw/MIUEYNtaD9cBIvECGuDHVChEC1G7RiKPvBtdkxeh7QgAa\n",
       "oJ0GtVYmvzGAucybc1W/IWSrzfi3RE3g7lgC9fkptkBIPH+BuDEVy8dpE8Xf8ixTBF1u1htCQP99\n",
       "RYrOcqJishgOi4/jQ6dD7j1TTsAnZnQxdU0euCqcLgsr+UsHc3bOghd9TQhM+Q3OffNdUj5MCq/t\n",
       "3C4CVBdlVpGtGj0Z+IIP2xy4zTePQnA1vz46jApuAHw26FXxQtxvTEFmGXUZO/mXtXAhbY8pZrAE\n",
       "d2ZTGasTh/ne48M8db9BOIBU9KeHVslrQw8nK2IKoTH4yxYIiecv8pgyZ1yio6ILL7c/qZsuR/8p\n",
       "JMTyDHdmzw/mFn+F27iTeWepg9/is3HciC+3SxN53QhKR8YM0Lp8BaDDpZdvY4kXyPGzwD48QAva\n",
       "DC9oxE+gTZWj+4UcYIhj3Lb1D3ln7UXSN/NmmrFyi1xHnY4Z2RAPQihr7mJMDv7xc4UQ33+7zK8k\n",
       "HssxA1yBjw7Q2sEUeQSJtcsEe5xL70Qz+M9+sOWrGRM1NXsI/4FTHULOr26BwJ7u7pM402D/J5kr\n",
       "iqBtMH5cyN96uvI2vEQjISTMNK8jJeI4hHeaedqzXCapxoquNVIHtET5kgyIjEurtbrDQFhvkIMc\n",
       "4aBp2IiLrNX6IPIJtPtm1dIADje5U0XgyC1SuIyniBI7i+xb2V3njbecI5gVQfA6aL80RYdg8efB\n",
       "NeWb/5SQMg86jNaFt7nWlhu2juahjTl+XRLOfZBBinnWtFQUDai1kd/23mvNQM7tlHfdq/3T3WW7\n",
       "vXJecMR8QF3AFvsaDC6edbvqhauT/F845NXJCsSXN2DEbk/D99S+AiaFO+dj7lWNAAAAAElFTkSu\n",
       "QmCC\n",
       "\" style=\"display:inline;vertical-align:middle;\" /></a></dd>"
      ],
      "text/plain": [
       "<IPython.core.display.HTML object>"
      ]
     },
     "metadata": {},
     "output_type": "display_data"
    },
    {
     "data": {
      "text/html": [
       "<dt><a class=\"ProveItLink\" href=\"../sets/inclusion/_theory_nbs_/axioms.ipynb#not_subset_eq_def\">proveit.logic.sets.inclusion.not_subset_eq_def</a></dt><dd><a class=\"ProveItLink\" href=\"../sets/inclusion/__pv_it/axioms/fa6d2eeca38ae0bae56c100793dd172eed9163fb0/expr.ipynb\"><img src=\"data:image/png;base64,iVBORw0KGgoAAAANSUhEUgAAARkAAAAYBAMAAAA8FZQ1AAAAMFBMVEX///8AAAAAAAAAAAAAAAAA\n",
       "AAAAAAAAAAAAAAAAAAAAAAAAAAAAAAAAAAAAAAAAAAAv3aB7AAAAD3RSTlMAq1RmmUTNIjK7EInv\n",
       "3XZ/CtNrAAAACXBIWXMAAA7EAAAOxAGVKw4bAAAD/UlEQVRIx81WS2hTQRS9SZpPX9o0BRVdSAKC\n",
       "ICrNoggiaosfLCIW3UgRrYiI8Vc3glht3QguSoIIimgbNwUXSnUj0oW14h8lFMUifRh1IYJo/dXW\n",
       "ovXOne97eTG4EL1w8l5m7p137m9mAP5cIvCPpE3AIdWOf+FSdr9V8PhGWzkysSQHykE9usyhEyx4\n",
       "2yl5xTm1lvrIFgNxNjCnhOJ8AZT9evQ5fwR6PtbOOAPw2ttOir+PHqHRIq3FU7W1uzohlgKFVWx8\n",
       "pzcZq5WDrTklxt7aI4+G+WtVFiDRCaGcl52SXv6oE2xi523b7uTv9wF84wBpUDjGopj1ZlOR4mCv\n",
       "CZ7W42/AJ9aCDszR1gYINHjZKVnBH43feAfs0+UR/ol5/gJQDwrMs2jSm02VAMq1G8TBeqacBViO\n",
       "Q8uR0QMvOyUD9Bs9PE7PS0atBnAogIyqcgoB9CNUomzmCqAbhQ/E2NcMcFVOJxB7cPXtXnaqbHjW\n",
       "jsY+0XO6MeXD5IXuIlIaj2z7YQk2awUw9lBH0We883Ia036BldAVLzuVNV7EDf7P9DQrCuvOmo3x\n",
       "jcY11gCcpcmiYiSnueMbIEOrYpUF+uQmOPH+Jc0uoq/aJHEAZ7BC5EUwGZkkm7gxlel+P4PNBlo1\n",
       "DkCYVKx7pHLiS3+TLNMhAXQNOkjpAOgWimFdLmCrLXB7MSTJYX1XJ3lswx8p4yabD23gv8WSOaBR\n",
       "mYs2U53xxAbyEBsQ6rcFIHZqZSIrtuFjcrFKVIuy2sy42dyWTYPfrqLF365snKChvKF2DsGaIzKq\n",
       "4S/wIt70mJcWtuyom81lgBpapyIJM+ViNXHeErC5LBsLO++H2e8kLFqsJ4MDGtDKd/rCNl5aSbiU\n",
       "cmeKRZwCZj3VO1sG1Xxf8WWhu26GDDaUqQrECC+jZn34srpO4H9/XgOupikZsJpvaa/rlffdAsGU\n",
       "2tl7p6WMtEOGcVvsjk23ZINeVLJjbKM6WqzaFjDqLjLGiiOrAe3kzyZ4RzpLwZom9a8ItLMq4Xsp\n",
       "bN1r2/xk2IM07+RcDa3spLC2DbO49vB9L3hdngwhHN2cFpuAhNjp1/YnqFmQSoeMZhfHxak0+HvG\n",
       "+pwH4ix25lHDPHWz6TIvQ3mwesZyMG9qt1PJxw7dk9QazRoibEiCWA2i+7LDqzs5TCk+YMP5oguQ\n",
       "aTNc9hJ1xAAXzGxN0uqD8HewnqiDpAHcZ2IkC789I5WdkvqybFYY4CveBGv9jsggLJrsb9Jn6GkB\n",
       "/eUXrHGc7h4qXt+0qXTc6dZR5znizW4QEg7xu/5fFCh1Cy36tGGnLjvZMqFhdCUc0uIuiQKHliXF\n",
       "t06P+6zD5mgZNm8MOCRVNsdp+J+k7a+u/gtJyha8EVNJ2gAAAABJRU5ErkJggg==\n",
       "\" style=\"display:inline;vertical-align:middle;\" /></a></dd>"
      ],
      "text/plain": [
       "<IPython.core.display.HTML object>"
      ]
     },
     "metadata": {},
     "output_type": "display_data"
    },
    {
     "data": {
      "text/html": [
       "<dt><a class=\"ProveItLink\" href=\"../sets/inclusion/_theory_nbs_/axioms.ipynb#proper_subset_def\">proveit.logic.sets.inclusion.proper_subset_def</a></dt><dd><a class=\"ProveItLink\" href=\"../sets/inclusion/__pv_it/axioms/62d68349fdc6e5e10115b34eb80d97b83bd304d20/expr.ipynb\"><img src=\"data:image/png;base64,iVBORw0KGgoAAAANSUhEUgAAAWsAAAAWBAMAAAD0o6DgAAAAMFBMVEX///8AAAAAAAAAAAAAAAAA\n",
       "AAAAAAAAAAAAAAAAAAAAAAAAAAAAAAAAAAAAAAAAAAAv3aB7AAAAD3RSTlMAq1RmmUTNIjK7EInv\n",
       "3XZ/CtNrAAAACXBIWXMAAA7EAAAOxAGVKw4bAAAECUlEQVRIx9VXS2hTQRS9Sdp8XkzaghV1k4Ai\n",
       "iBWzKAURteIHSxcWBREVjYqItWDdCKL240Jwoe1CUERt3AhdVFI3XXRhLFT8G/xgFYPRLqQgbf3V\n",
       "H1rvfN6beTPvJaV044WTl7w7Z96dM3fuuwEoaM0cBSwwY7wATC2YIhMDROMMaEfdxpTmZ4r3vtAi\n",
       "kwC7QKCc3FzgMngJB9phzenr+lQx5yLA8AzxvGnhkwWm5h9HIRIC68nNA85RG0kGMuek7p7VCRBr\n",
       "A39qKryRXC435MgLs22B65JP0pjZMgwbGgXaibfTOeySBAP5GtMzqhW3eXct+GqnwDv9wZXXw2Nb\n",
       "K/nQtk7kIdRmZtKa7/hRLUDWbK5Xk5MDre9Wm6baary1Gue9X5xnvJTcCm+4kl0zsg+Cz05dblho\n",
       "cEHDx3+QOVMWfKiK3yW1F3HgfuTH2NJO9wl3DNGEYu4rzvM0gCsve4alU1L2gacZSl8NLuW8luhn\n",
       "kuAJgUe53AOXsOs5cK9hWUJT7R7ANSJ8b3GeTRg7z5v20zwqScs+iBLWk72cUuv9QjQvF9gIcIm6\n",
       "tJNF5WCSbIaOtKpa8OfoO+qtoU/NUSt35rWDGw/8zV6ay0RC4bMXz9J48DepQUmBIxCgzzLu0hFn\n",
       "vvbXmSf5KQeuFlrLVdWieEqqyLOq1OXqvCPuPFzRa3KNxGUftUrrjEPgE9mYjEAoFaYShj+zqpqF\n",
       "aIaPHuSA6Pl1sU5VtRAOC5OT0qGGrfMi7ry5AKP0HDfIPqqxVeBG1q35SfZiXMCbZxJue0wvHqxM\n",
       "4+rjbwCUZVXVylBH31/8stM1bItXknDjkfreY4Vt+UjSvTWTzsDS8oesIyMAyVV0tvweVrzi0JNQ\n",
       "NxuTL5JRVevAYZ5v+GWpmts6D/a78UjxLYmbSWL5iK0QOQLwhiRJVgBuNrKTu4G9C4ar55rDr3KU\n",
       "Jtjb1a7aGBaADlK1lqtq6zy4Vply5kXMl2EoL/toZTQZW3iT4OsUgBNUoW3wkQ5ZCcZsc3gvxwky\n",
       "63dVtSaM607KqnWSOfBgxxXzNWXn0a2+yKub8JEbpkQBsmFdzaxGmgAPLRz1/TE6HGNuNavcWYbu\n",
       "yUbwdk3QStZtqTZvsqLiIH2XvFDDduAJU3jzycc5ct6ysg+T7iFPOqNrIgWLJw/hzjQI8KqE0dLw\n",
       "B7AnMAtgpI1BNqGa1e9k1bCdeA69qMIbUvyVGuOkBCt9yuJGGgK/wHhutZi14NAoOTVOSms6LV61\n",
       "/WdQ7+/WSmBT3AZj0/7gANT87q8TjdUFjoJ2TL+l8VidGSrIC9l7zJC2XaRRNWHv1JXf3RwFzWFd\n",
       "0+IZ9miCGoGsy4TNtqvryzMU/OPm8NdueryWIuv8IMFmCfhP7B+IqWtlplTDXAAAAABJRU5ErkJg\n",
       "gg==\n",
       "\" style=\"display:inline;vertical-align:middle;\" /></a></dd>"
      ],
      "text/plain": [
       "<IPython.core.display.HTML object>"
      ]
     },
     "metadata": {},
     "output_type": "display_data"
    },
    {
     "data": {
      "text/html": [
       "<dt><a class=\"ProveItLink\" href=\"../sets/inclusion/_theory_nbs_/axioms.ipynb#not_proper_subset_def\">proveit.logic.sets.inclusion.not_proper_subset_def</a></dt><dd><a class=\"ProveItLink\" href=\"../sets/inclusion/__pv_it/axioms/7d2ab8ca139d19ea56c6739c6bcb2fc80d1d3ffc0/expr.ipynb\"><img src=\"data:image/png;base64,iVBORw0KGgoAAAANSUhEUgAAARkAAAAWCAMAAADD7xhEAAAAPFBMVEX///8AAAAAAAAAAAAAAAAA\n",
       "AAAAAAAAAAAAAAAAAAAAAAAAAAAAAAAAAAAAAAAAAAAAAAAAAAAAAAAAAAAo1xBWAAAAE3RSTlMA\n",
       "q1RmmUTNIjK7EInv3Xb341Cp3V2mrwAAAAlwSFlzAAAOxAAADsQBlSsOGwAAAzZJREFUWMPlWMmC\n",
       "2yAMNavZpy3//6+1wSQIkMFNbtVhXjLY6KGdbNsHsjf44Tb//uCXCHzpPNsWKMS8qxw+yw2+jwjP\n",
       "9N0vIATupBCASF7rlD3bj1qIWWQcPas0+Mp0jOQQqVU6GXuib7IwJtAIQgAgF68tnwWRkRAvlnFI\n",
       "LBOoxGVTkZgWpFnXN1lACHQyJlCjKkGz62chwxnE6xuJAwMr0mZ2zIErIk8u5Ov6JgtjAn1pGRMA\n",
       "WMxk6TPLuAbzJruNMDyC9t7//PIe/JtdT7GLoDPL+u4XEAKnLBGokV0mf1i4qISYPRG2EGsLK2kP\n",
       "D4o2ZI4gvpS67GDJVvXdLyAEesEIAHTJos4+TCYLMX8587w6pPH7uILlLDekONKSVX33CwgBrMz0\n",
       "BADytKireF6oh52RU9Ie3lKxYkpSee9DRkUdQiDvd9nb8dxXQjp9KJEbAoPChxEAuJPypxjGqbrf\n",
       "Rm4t75qLpxAvjx2lrdpJIk0v5CpJXWFG3cwTl57KbnyZwGACwghAPMPFVsa1IFOZT1u11J2AmGod\n",
       "50dr0E1LEn3j0a5oUsWH0wLcer/4ck5gNEVgBCDSAIwrlKuHUpLbWpxaxuS3om/ID+ak4tbSGTbh\n",
       "vmAZjMBAUAINyo1VtgibrDd0NFUyNs2mEt3VIU+OlA+ynJUOcR2L+lmd8RSxzJTAsMxgBBq0tBpC\n",
       "DxtxCUYixjhRXTwGiJtg/XR+DmGD+fbK8oOgfE3rs5jR7eVq54sE8DIzINDg7kiVS7CopDJjSOf4\n",
       "ts3t5R1dz6BSDELmGCKuiH1ZjU9nBrSvzwgM+xlKoMUqJI5GZEk0TZnZY6tB+RrNcUNLWuj54X1M\n",
       "o93vNmbI6zb3ThAvZpZR/nYBJ0DEEwIt1kUm2UHBMnNcL7p0KjOSV7ej6x+rB8N5mxl+PkChG9wT\n",
       "2MQTAi1W2+S8PNu2sdlIJhXgPifaSxgyh61MjfhtcaBvfeGD63FHiKeCY3g80lOd0cJktOecN7pt\n",
       "6h3ikPXSnWPtmo/q0R//BlcItIhmwuQHEw1xGOnmozMP9a0vLEvr5AkhMTvVHiCOyuPSr5iLPkf1\n",
       "7OEzwxQCLaKZsP3X8hf5WiEujFvRCQAAAABJRU5ErkJggg==\n",
       "\" style=\"display:inline;vertical-align:middle;\" /></a></dd>"
      ],
      "text/plain": [
       "<IPython.core.display.HTML object>"
      ]
     },
     "metadata": {},
     "output_type": "display_data"
    },
    {
     "data": {
      "text/html": [
       "<dt><a class=\"ProveItLink\" href=\"../sets/unification/_theory_nbs_/axioms.ipynb#union_def\">proveit.logic.sets.unification.union_def</a></dt><dd><a class=\"ProveItLink\" href=\"../sets/unification/__pv_it/axioms/3e9689977a829a27bd7a6590ed239898acafcfc40/expr.ipynb\"><img src=\"data:image/png;base64,iVBORw0KGgoAAAANSUhEUgAAAoUAAAAzBAMAAAATC2+mAAAAMFBMVEX///8AAAAAAAAAAAAAAAAA\n",
       "AAAAAAAAAAAAAAAAAAAAAAAAAAAAAAAAAAAAAAAAAAAv3aB7AAAAD3RSTlMAq1RmmUTNIjK7EInv\n",
       "3XZ/CtNrAAAACXBIWXMAAA7EAAAOxAGVKw4bAAAJuUlEQVR42u1bb4wbRxV/t97z7q3jzUoIiVZV\n",
       "ehIlEkqjHBACQdC4+QOIpK0bJKAQETcITiqCOF8ihbSNi/gA9JL6S5UeUlKjRhF3gcTJByQa0TpU\n",
       "VQMVxaR/FBAnfE2huqgcgUASguCYfzs7MzuzXtcOK536pNnzvHuzs/vbeTNv3m8XIJVMT0/DO6IR\n",
       "b3q6kdL0jwv/GFi3I7XFAN4UhW5kYaGessWrA+z9XYtiALq/Zz9yGWA41JTrVa2Vc6Pu3RnUyVdm\n",
       "iOEaueqPaq1epzdcMQBR6RG4yH64Q0vfUggyw9B5Qa6v0FpZdLDmL+lPYtKbRLS/wErf8nJmGBbl\n",
       "MeDpR9RR+mdVdO/kSo9Asl5YuMjJS3F7yDdo6Vtub2SF4cflqj2mtdpA/9x5lWva+LALkvXCoyJj\n",
       "PojbQ65ES9+SL2WF4YtydYk8OR6aeY38aNEpZ+81LVYmvQlD0R7gV6z0K8NXM8LQvy7Xl0tX9U3m\n",
       "Yxb18If9v2uxMulNGIr2AF9hpW+5PyMMi4Fc34zK8dkfnSar8+5wmrLpklKyLmuxMulNGIr2ACdZ\n",
       "6VtWNbLB8DFlk4IHRMlfZhMoxvlUQ2bJ4VH33zqsTHoThpI9Da5IgGXPEAne7r2c6GSD4S1K/Ry6\n",
       "iGru+hABja/RRTIsbXD+hhbXNSpWVH/s5M0pMaT20XrKSv+b1nY2GJ5R6s+jXRPYFDz312hU/I6s\n",
       "NGV8nNt4578ADvxFxZDqS3BXSgypfeQKrPQtuauZYOhejmOIIKMxo8evhmDoIe1/+KaKYPUIRPp/\n",
       "wr6apI9j6AaCPZdtrPSfs7mcCYb+1bgvA2yveg2OE/dlG5U/cAwP4sMdEOk/RjGM9LKf4W14riPY\n",
       "r/7ofHDhCXa+lYOYD6lT/d8xHGkpisMAU+VboEAq89wM3/xnUdnJMbwP++YDIOjh57JeDt7qfJ2n\n",
       "9t6Hn0P3PIt+r2WlfzmUCYZL1A5RkLHq+1tgK12OR4X9vIPhfrIaYmjtAO8TeOBxPc0+cf0JNKl6\n",
       "V4AdYPkoPHUeInvneAWukVAqLP3LswxDMpLfmwLDdIbdwgF1k7UfbXbnrQ0UPO+mL7Jpsw3ek1ca\n",
       "8P6Fr/Mk095vfO0ituH6PQ1RD0V86lcgPDg/fY1E7Nx+qOO2yNTx6sDGxLoyxXCTFJglYJjOsFt4\n",
       "qGadilK8OPwzttc7r0nUqQmgklPtyQVqft25VAMHzbpOezDBbodiiJc0p54Cw3SG3UJ7NVto2P2v\n",
       "7o7hnu9+p6fsyz40EnP1EslyGDIdb8urEIY4DVQYTYFhOsNuo7+mag7q155oiO3d+YzW5DcLCz11\n",
       "fS/kq86yBuzB+A9mdl8aUAxz6JHk06wp6Qy7yF9j7jelD73qcKPkoPHB9Y5hna3LaHPwYqp1OZVh\n",
       "t5Us5n5OR2v48I2C0K/SMpAoo8Iw/DTAD7QWBQVD1VCEw9N3EkPsngYsIim2GYa7onSvLLaCoWLo\n",
       "nRUqP65pPfKsqrkVFhWGLYbhSKNQlv/10OZy7kwcQ8WwIOY1n9UuNpLJYsbQ6ogrhTs7WbaCp+Ez\n",
       "cQxlQ/jCS0JcN6Gd1USTRe3LUBF37BuRU1p32NAsbLxr4yZ5r0cM5z/1Bp2RO/cLE3VeOx2IJmy8\n",
       "xmfzKph4emHhSaHp1UC6gDQ2VfOaAqfQjj234cCsv7YGPg4+rW9/vtOMj0Ni6FdvortaHz4pgMUy\n",
       "gMoSKJqw2CY2b2KO3jeFnSG3HifVX4eem5gW6m6dY/kyKwqGQYjhg+jXU9vGlgR+QKM1q/b0+3QY\n",
       "YsMcHHapn8JbfMs6XPNbsPWNsurK2KRbjL0CTDw9CNy6SqpbzZ6bmKR75xjoMVqU+LAUYjiE7utb\n",
       "f4alNbtJ8kQIQ9uvazAcIgCwDODm07c23JUUQ/v0yevQ8tSXD7CJutdTccYcvYGnB4Fbp6Q6Sf4f\n",
       "wIejkK7JED648SEZ6VN0juUBVuS9XlPKfS2DCZz5XDM5OTlq1bxmJR4fskWn5VA/xSnQIsWoA841\n",
       "qLot1ZWRSW79hzatiAbfY+qzTN69cm6dbqvJxI3TqCGH37UJycJqXtaL9Ck6Dzfwq005ByZnYQ72\n",
       "ufAoHYewtWPIHz5YqNhwjCQ2l45iDL0mDKPLQFHMSBlXjtFDaGLNwfOC4y1VUwxLwMjTS9w6IdWL\n",
       "fJaSH9fczEzF0ASvnLs1AHF9ms6xWYOWeAaFY+hcQiNxrY1iQKwtgx8YMLT/9MxFmBi1z4B3z1cx\n",
       "hu4vYEsAR66U8T4GVSaq7gvowE2e8Cp2NGsXVc9ZDiaeHiRunZDqOOVBTmZJp/ncRTA2OYXKeg2G\n",
       "XJ+mc6BsbX5Mt/vnGA4HMA67LoKDPWX/OMu46nyZSAgK9mUrfG6NTlSJTNpWs5iL5qGWOmeCiacH\n",
       "iVs/Ga6UhGzCHL43f/Ojp4hWnKfUJrtBoGkE4fo0nQPNrBcC3Y4hzgUcm5wsG3IOwuNiXblvoZtg\n",
       "qWfYudCOKtzEC/zy0JvRPKS8KsJf3Ijz9DK3Tknm9zDOBY8IG2Y7hB3NVxOaoHXQ10U5XJ+mc3zh\n",
       "FVok+aUew4S8jXBCsTKmreT053HV3d85MPH0MkdPSfVHAAiJgnm/j8C6BnktOQ9qE0rfkyZuEC58\n",
       "yoWE+uTOo2CqRYsUQP63Dwz7EA1Hb+DpZY6ekur5qkUWJcw/18IIfgITnHWxCaXvaZNxuE17IaE+\n",
       "ufMI80u0SEMpG44etugx1PD0Mke/jYXW1HHpexAvxbK4En2/jYXQ44bQepxfQELn3LVbtEjzQUbv\n",
       "imwva31Zw9PLHD0jVdrfg9CX8ft/02HEIzeh9D1tUnT19xjqkzvnxL7VpkXapnSywbCoBIiHwcTT\n",
       "yxw9I9UvvJv8GemA9zha40ngKawZEn1Pm/gfKOu3yUyf2HlE7GOkVLTWNbLBUF2Y2cuAGp5e5ugZ\n",
       "qf6TShhpWNeOtIap7Q5QmxD6njbxWMzMKfwTFUmf2HlE7ONoylY26b+FbDBU3yXeDwaeXuHo2QWw\n",
       "cB1z+Hd3bvsgVf7w8YbShORCWJP1ggO8InjCen4BCZ1zYr9YpkWcIrN6l5g5QOTbNSNPHwrGUCXV\n",
       "z0u1Lx2akUI3Qt+n5OGTOw+JfXgIaBFkJMgKw7zsECne0l+pyQysTmxB6PuUPHxy5yGxT5IcSqJj\n",
       "eyMrDF3lG5+udC/h6FVSfSQx+Uzo+7Q8fGLnIbGPX/BQX/I4B1lhCHNydQpMPH3Sjabg8NPy8FNp\n",
       "jPAzU55bht+aqd88Oh0jTy8EIrFh15XDT83Dd+0cy5usiNki6BHDlwf4DfgOWAzi0myRN308LYbv\n",
       "fAOuylG6ouBvwP8HiSxFN+WcdTsAAAAASUVORK5CYII=\n",
       "\" style=\"display:inline;vertical-align:middle;\" /></a></dd>"
      ],
      "text/plain": [
       "<IPython.core.display.HTML object>"
      ]
     },
     "metadata": {},
     "output_type": "display_data"
    },
    {
     "data": {
      "text/html": [
       "<dt><a class=\"ProveItLink\" href=\"../sets/unification/_theory_nbs_/axioms.ipynb#union_all_def\">proveit.logic.sets.unification.union_all_def</a></dt><dd><a class=\"ProveItLink\" href=\"../sets/unification/__pv_it/axioms/953b5a6fe496f5c98bee946e83edeb34298130860/expr.ipynb\"><img src=\"data:image/png;base64,iVBORw0KGgoAAAANSUhEUgAAA5gAAABABAMAAACNY8VRAAAAMFBMVEX///8AAAAAAAAAAAAAAAAA\n",
       "AAAAAAAAAAAAAAAAAAAAAAAAAAAAAAAAAAAAAAAAAAAv3aB7AAAAD3RSTlMAq1RmmUTNIjK7EInv\n",
       "3XZ/CtNrAAAACXBIWXMAAA7EAAAOxAGVKw4bAAAQW0lEQVR42u2de4xcVR3HfzvvubM7O0SiloY6\n",
       "hqqN0O6ILaLBdknLwwewgkVpCTvCH4Qq9BpJDVjYkRgjYWkXoZYlArdVMVjsrgUxUGw3JVoCgS4K\n",
       "iCQLU9oAtbjd0uI+oB3P75xzz+M+Z5kus132JLO99/5+95x77+fcc87vzPlOASZTiuW9jrZUDsFH\n",
       "PsUqFQsesGrNJl6pHJmgCyw7Dpzt6fbpaZSYGi1IveI6aqxg/yYqlXeqgfnu0u9OzOW94diPFqdh\n",
       "BsKEL7gP72P/pJYurQrm0ARdXXzYcaDTmoYZDDPt7ofSvfbWjnrCfKjgOPB9mIYZDNN42t3O7pgU\n",
       "MM917EfGpmGGwPQaVZxmTQKYqRHHgabeaZhhMDtM1/Gm1kkAM5FzHFhrTcMMg5l2V/jI8CSA2eKs\n",
       "ZDPAF2aScU4dxyySNZxrCpjRPrf1mkkA89/OA4f8YfIWuOU4hvl6DedeIWAmPeKPllLdYaacl5Ua\n",
       "DoDJ+oUW6zgjmL1/dEY3DScivbVkU7Bhwgse7W9r3WE2OLONDk09mNDcBcmDuPFATdmsEDDPdRtj\n",
       "Q3WH2dPqpFucgjDXlgHuxy5vcU3ZzBcwD3gAOlR3mItKztbCMbrdNzBQPO5hHiB3uRJh9tU8kmUw\n",
       "W0pu69/rDvN+V4uk9yqX/mcqvJkryVhgFLvMYm1hXMGGuTbvtl5k1hvmqAsm9vLG4Em3baEj+RVT\n",
       "opkld3kTtjgxUlM3LwZDtj7G3gJsCDpVdc/kbJg9BY/hbKHOMOPvOY90YJ2Lwe7yBbQumlMBZnx0\n",
       "8E/n269W72nqIC8T6YNFQeeq7tGiDbO57PbsyNUZZuxd11gBYX4JFlkfo3c/JQZAmWHYcA9uNOUh\n",
       "lb8AGrqE6ZZYv+80CY3UVHcC3obpEeI09tUZZsI1q97eRv6U7LF35wBJXcc7zAR5zLQJamwDA56D\n",
       "xrJxBjdZjWV4zth6gt8tMXeb7JCA2ep2TY/VGWZzv+ebCeQWaHpwSryZzTkwDnKYEB+DtaU1/xWV\n",
       "10qNxCDW7/vc0d3e7guCmX2nzjA7urxhxofhD7Rd8oEZMf1mSXiDFGKXydcTgL8QMe3g56q+N9mt\n",
       "tRcgcpg3sxArwtsAc23buZDta25Ljvh2RNSdX2t/UJ/JiqgjzBZXDesgYwRjXUMf0F4hW/aGucB1\n",
       "edv2vEU3mEuYXaYF4OvKKab58f2D55ExSFv14wEZNFiQOUr6DkiT20nn4A4Gk2K5gxyIWgSm4c4B\n",
       "Haj7/DMH8bqjXQKmx2g2NVpnmAdcNayHHImM/LYvzprbKz1gLlLH9gBrZqwDmEc7FJKW054mxK70\n",
       "Sdoche4a71VhXmrCajM4jHA8MXuQktxlQfQo3hDGFrEcztUQmMb/0Hg2vreQ6YeeIj+EG3IP3Y0F\n",
       "T8JOHtkwmB0ecaZxhMOkt3RKGMxwr/Gmi1wXhfPFxoXl2aez3Q3rLAkzzRrlJyCmvB8xOujv41cH\n",
       "CfQPsytW9U1zuMIKBSY2cbEuOGccN2fHyFu3Pkya0z348pBMjJl7h9mbOYCXsmEbBvu3W9CEa+5w\n",
       "Ap1WWfoHHdA9ubkIOLppahOTBl4NRIXDpNd4dRjMcK9xTwC5pqUSjl50+b1yOi/KxmvPY1ca3w0N\n",
       "dG8P/XuIf90HmTzragPtMhHPK3I2PIcrbFFgdpTolwD9MmNQN2WS2W1x3+/L9BKKDGaE1atHybuL\n",
       "gcvn3b2gxd0byjj2gZtATOd5jQFfsxjMn2Jr0BUGM9xr3PNcruFHzG/6ksA06PRjZgRWAWxutjpp\n",
       "48Ku58Ao70UiWKXD7DKtAqM8lmJlOl1htgLz41hyX7IoMgZQN2VjJ7Ljp2tpPrJ7KM9gZigpXIp1\n",
       "PfwYwB06ZoC7N5ZirSU2Tc9g/tX/Ye6gjU8mHwYz3Gu8aZerhkXH/GFCO5JYVIbLAG6cC/vgBgvi\n",
       "7Mkbsw+y+h1HItwen3eOar94bxu3y3QZJDf2Z9kxxdU2SpjPYKuRI2fbBYMsQ00yO366Hgua8CrM\n",
       "BAZzM7YM5YZeSN79i6+TWuCeyiMf6t4BTbeU2HvUyIdNXs1cG4MZLWizLT4ww73GmyrubvydAJjR\n",
       "989MfvYw254Js1Jzycjimu7uX+JQsB1uwV4n1QXC3gg9qr3PGOJ2LdeG3gb2HBVXlm5VYD6JPZUZ\n",
       "yYmCQZahJZEdP12/uy44BavUT1ZuY7FLZCGpC42VypA7aGIO1P1bkH2Y1gQbpudyjE/l+Wj22YGB\n",
       "Z8JHs6FetcOEuwJgwg2VypESe0wvwlPQZEGKtk4XExPAK3Yzyu1J6FTtJrZ/jmb2VhxWNJbmX3Iq\n",
       "qK50X2tm74Jl8E9aFXjBIMvQe2E7O69mFm6u4WG9CTbM+HAgTDKOuyccZqjXMYB5VhBM2Hi6yecS\n",
       "XiZXhM/0HjbAh08wmNmy0SvssE6zp9u4fRPYf4hnU6kd5nXhKdKV7Q8qMFf/aPPPScPULwveJMrQ\n",
       "cxTZDU5EMEdhZoqeoUGBw/whJHNec/Y6TO61fHBhyRlh60NQ6cCDbexCDj8y09nqeMDsaQuCKboe\n",
       "mP3lIn2mN2BJ5y/ZajKYaTO1Q9hjJc1+vm3vNFM78Q/1jCz+FTSUVoHqyvbXKzCTZ+8+KUkP2QV3\n",
       "5u0ytBxldusnDGZjPhBm2sqoDzH5wp/hrJw6X0JhMq9IGdbah0WErQ2pFQcebOM70w8Jx/yL8b7H\n",
       "VwzFcJgkHjfMdIE+U+Ox7nX88CtsNjci7I9nVXvGKnO7uFD0/D3cSV7QPctUV7rPR7f2DFC8dTPO\n",
       "OYiCIS/KUHMU2RldEwbzbU/T9jKHGSkntHmQT2esmOWCybwaQYZXMsJWC1QceLCNI4NWSBfDYZIe\n",
       "KRQmnEdCr0sh9bYWyq15Jo8W0rlxe0JXIa6s9Nt2nqjnrHgRNsCp2gQZ3Y+ZGszkQVJZYqYoOG6J\n",
       "MtQcRXYxc8Jg7giGCcWF2jzIKeXWDLhgMq/mglzLKyNs9VsCxYEH26xtuBzbsezem88LgnlGFTAz\n",
       "Vnyh56pFnDsthNt5op6X7Pd5bgv0uVm4Ftuux0XGURCbao4iuwUwUTCzxRCYW1aQy1u8Zi+fB5nz\n",
       "mZsz8MiSF5a0aTDRC7KVO+Xk6qjHlK/qwIJtinXPXur7ZkPXlQEDIPp1fBhMsHzu1ajSHp6TsCRD\n",
       "Mgg5fQJgrvZ+50WfCatJa/mbywuNJmvq52Q2Lvd4M1fTNnXjRTkeNstgXEvowBMLtnHrq/AgrciF\n",
       "dLkUBNP4VxUwP7KJwDT+ASEwG8gDvvENaLbYPMgcaN3nARO9SJWLD/GwWQbjep2U37GwYBu3ToQI\n",
       "O9psBoUmAKs86/T0bxoA/02DtHfTJeNMlmbB5XweZA5sSnjApFt5nFhiYbMMxtWxJjpEzzm9Vwbb\n",
       "rBTW3JIoW9Dc5XVRydI0taD0O6gK5lOwJMXmQeZAfJ47zmS1IwcNJsIkEbIIxjcpkTN1iOwjATbZ\n",
       "ZcE22UiOQUP/d4zeZN+jso68FtSxnDxgTpPzSdkBd1vLvoKyYSaH4OU5bB6EDMV2u2eAGMyffeMv\n",
       "QGfSdshgvDPPgmbyJ88cPpksogcLtsnGvves1HVlsnHh8kFLL98nFaeZBaQvuo68Zqow4znYX6Dz\n",
       "IKmXTMdXdc6VBtjMRpRgXM5J8K3+7AKLetBgOyKjaq3PbpuKMJM12oOSyT8eMHcBuGJQZUrFHyYN\n",
       "m5fJYDwuXja+ZeQiDzMPGmwvU+J0JR0oTEWYr9doD0pX8I8HzPc9YHonrzVAComox5btca0aqOv0\n",
       "FvUGw7xgYGDgb8cbSx8R5r7KHWRkCcdApEmFmi6YySM1waw9tefC38zXjzeYfiLMUS4hqF2kucIL\n",
       "ZvxgnWH2FKcgTB8RZuooGfcPw7EQac73ghk9WmeYTUNTEKYWdWfvHXiJb40AJIbhWIk0XTBjI3WG\n",
       "GRueejA1EWb8OjEyTJAnuLbrmIg08eOCmRiqM8zooakHE5cqC4GpMjWJP2zwPHwgkabqgAup8eOC\n",
       "yXU79YOZPOw4gMPXgYHnHTB9BSFl/jKE2GUKkIpw31btLat+DqqsvjpCYKqsMm6/b/+JJfhAIk3V\n",
       "IVpkHxfMtb11hgnPBr+ZcwnZHQHSEa7nCLPLlsA9SSGWuHBfvj4gu22vOa7vJEVRqA4SAlOlSd1u\n",
       "GjMsUESaQtdHRZoBuj5NxYkiTfy4YB4o1RvmdquKZtZfOsL0HGF2mbTGLLW7u01Z4sJ9+RraqyG5\n",
       "06FECXlAdlGo27MFpqlnSW3kv1v1A66RFSJNoeujIs0gXR91sK96iH1cMH8N9YbZUa4CZoB0hOo5\n",
       "wuwyaQuWl2BVVpa4rFBg4iLlr+lKlGoCQBumLTBV1wGRMLAnB4pIU+r6UKQZpOujDjaIPvZxwjQO\n",
       "1h1molhFn6kKQhx6EDrKCLPL1K940nkUdYnLFgmTPtdFmmZFVZEoj0WatyjNrBCYypcNtV9Uwegj\n",
       "0qS6Pr9EHeg6ELqoCj9OmNGRusOMDlfxZiqCEKcehC40DrPL8VZR0YIwVbayxGW2hEl/WuoJVbOi\n",
       "qUhkUuQmdlHpsiIwlWtnY2O4SiflFGnSZSgo0qS6Po+1JsKBrgNhIk38OGEm+usO03ivCphcEIJa\n",
       "Eqe0hOo5uB2XrzilJbreI96laEEuYcfkEpfLJMxGJPE9VdMCsgw1UbN6Oo0bpMA0kbc9V4+hTOZi\n",
       "h0iTzYExkebtlhRo6kpN6kDXgbDIBj9OmB2FusOEbwbCZBPtXBCCWhKntITqObgdl684pSW63gOl\n",
       "IkILckZ3d3deXeJyqwKzQH+SUdG0gCxDS8SsnU5FmFJgaszgXxNltm4tQOy6glOkSWWZVKRJKydK\n",
       "Mqk2Uyo1hQOuA2EiTfw4YW6H+sPsKYe9mUIQgoucndKS2Yodl684pSV6M4tSEaEFuY3elrLERWlm\n",
       "061xq6mgalpAlqElYtZOBy7CFM/tMXs6DzS7LdLkssxHua4v4m5nhQOuA2EizZvcc7PG0UkAM9sX\n",
       "DpMLQig9h7RkUBGMUC2JQ1oyqCxn2UTHI0ILksbnJpe42P0bGwDt/MpbV2maFq4iwUy1HIlZO51P\n",
       "g4dMlUuRJnatVKRJdX1UkulIwoGuA6HT9IvdMEVcU9cf3H81HCYXhFB6DmnJepCCEaolcUhL1itC\n",
       "kM48yj+EFiR5N9hrYHCJi60NYR3q9bNOsExV08JVJJipliOa1dOBS+8Cki3SpLo+lGVSkSbV9VFJ\n",
       "puOVsx3YOhAUaVKhpgNmR9tkgNluhsLkghBKT5eW4OBVCEbo8hVdWsLsdsrjz1NIacmm7m7+BOgS\n",
       "Fz4QtiPDb5OnqGpaIrIMJUdqVk93BJeegz4u0mQtE3CRps/8o9MBawqtLQ6YJ8BkgJkphsLkghCq\n",
       "JVGmesgu6jmEYIRqSWTCXW7nt2Dhvoe0hC1x4doQm0THyZamaVkmy1ByRLN2OqYwEWatIk0q1NRh\n",
       "Rp+eFDDhvnCYvoIQnDsthNv5DZPP4xAmLbFhJl4ETbOiqEiUHKWkZQF8uEmHubo0LpgT9h+7/bHk\n",
       "Y7hWrpv1m8G1qrTrIXigrxmcQdjpH1LKDjyp7V/Fa2B1/7GbsXSi/mO36QXsx2DuhXfBqaVLl/0f\n",
       "4BEDy4U2YqgAAAAASUVORK5CYII=\n",
       "\" style=\"display:inline;vertical-align:middle;\" /></a></dd>"
      ],
      "text/plain": [
       "<IPython.core.display.HTML object>"
      ]
     },
     "metadata": {},
     "output_type": "display_data"
    },
    {
     "data": {
      "text/html": [
       "<dt><a class=\"ProveItLink\" href=\"../sets/intersection/_theory_nbs_/axioms.ipynb#intersection_def\">proveit.logic.sets.intersection.intersection_def</a></dt><dd><a class=\"ProveItLink\" href=\"../sets/intersection/__pv_it/axioms/ed6964e06badac9deec83590822e4338cc88630c0/expr.ipynb\"><img src=\"data:image/png;base64,iVBORw0KGgoAAAANSUhEUgAAAoUAAAAzBAMAAAATC2+mAAAAMFBMVEX///8AAAAAAAAAAAAAAAAA\n",
       "AAAAAAAAAAAAAAAAAAAAAAAAAAAAAAAAAAAAAAAAAAAv3aB7AAAAD3RSTlMAq1RmmUTNIjK7EInv\n",
       "3XZ/CtNrAAAACXBIWXMAAA7EAAAOxAGVKw4bAAAJp0lEQVR42u1bfYzcRhV/5/Wuvd6ssxICtVWV\n",
       "nkSphMIpVwiBQ6jZ5qMgkrRLkAqCiGyLUESQyOafSqEf2aIIAb0k9wdVc0hJjYiq3oUmm/xHo7Yb\n",
       "UNVARVlSWhXEga8pRBeVIxDIhSA4PF/2zHjsne1usHTqk96e590bj/3zfLx5PxtAS6anp+FdUYgz\n",
       "Pe1puv5x8R8Da7bYXArgTRHoiouLE5o1Xhtg6+9ZEh3Q/h09yGWA4VBLLDeUXtb1undrUCcfyRDD\n",
       "NWLRHVZ6vUluuJ4ARL1H4CL/vE+0bylVMsPQekksr1R6GaSzFi6pT5JkTxLe/zzVvuXVzDAsi33A\n",
       "Ufeop8ifVdy95973/Ro7TrLzcvvXNoLKv+AR7Vs+5GWF4SfFojmq9FpP/ty5EM3hf2g8fRe79SQ7\n",
       "J/svOPt2QtwfclWifUuhmhWGL4vFZeLkeHjmdXzQJlPOg1fDf307wMmioCTZ+WUTmR7w4v4Av6Da\n",
       "r+QXMsLQvSaWbxOu6hv0pg0ywh9x/x7+7wb0cwek2vnVHwWhOT/uD/AVqn3LfRlhWK6I5U2BHp99\n",
       "+jRenVm/AZMsKVXjcujYQT/7INXOt4M7YzXuD3CSat+yyssGw4PSJgV1iKq7wsRQ7AinGjxL5oft\n",
       "f4tY7YY0ewxDqxL3J8EVDrDMGSyVd3ovJ/xsMLxZKp8LLqKRuzaEQQvX6DLuliZYfwtW7jUyVsR+\n",
       "7ORNmhgS/2g9pdr/prWTDYZnpPKLwYgDk4Bn/zLoFb/FKw2OVuY23PkvgAN/kTEk9ips0cSQ+EdD\n",
       "gWrfklvIBEP7chzDADIy9zvh1WAMncD6n3BTFWFF7f+EvU0tDNl5mGyj2n/O5nImGLoL8bEMsL3h\n",
       "eCFO4Vg2A/29AkNq/4QuhtR/9cfnK+cP0fONDGI+JIPq/45hsS0ZjgBM1W6GEi7Mh26oY34u0F0K\n",
       "DJkdntMby8Tf+ejPgnueDY7HqPYvhzPBcJncYBBkrPreZthKluNhbj9vIbifbMQwDO0k+xTaTwST\n",
       "qnMF6E+EIfW3jtfhKg6lmPYvL1AM8aN6vwaGeo7dwgF5k7Uf4Oi8sZ6A59z4RTptdsB58ooHH1z8\n",
       "OsMQg38UOPsej7dDGZ36N0B/ivh8Vc5/yLfbeOp4bWB9Ym2NYLhRCMxSMNRz7BYeylmnshAv5n9C\n",
       "93pvKBJ1cgKoajV6GgJNd8K61AQr6LlWZzDBrk8wfBRdzoQGhnqO3UJ7OVuYsPtf3R3DPd/Z11P2\n",
       "ZW/QE3MTVZzlSMh0vKNRFWCI0kClYQ0M9Ry79f6mbHlCvfZEXezBXc8rXX61uNhT05+FQsNa4cEe\n",
       "hP9gZvflFYJhLngkBZ01Rc+xi/w1Nvym1KHXBFwveSLxwfWO4QRdl4PNwcta67KWY7eVLDb8LF/p\n",
       "+Mj1gtBtEB1IlFGnGH4a4AdKj5KEoezIw+GoG4khdo8HS0jKHYrhbratlMWUMJQcnbNc4cdN5Yg8\n",
       "K1tugSWFYZtiWPRKEh/x8KZa7kwcQ8mxxOc1X1AuNoLLUsbQ8PmVwp6drBmVZ+EzcQxFR/jCK1xc\n",
       "N66c1XiXJT2Woc5n0jcEg9K4w4RWacOWDRvFvR52nP/UW2RG9u/jJuqCcjrgXWh/jc/mDUji6bmF\n",
       "R8PSq4NwATo+jeQ1BU7tDA7WH5h1x5rgouDT+Nbn/Va8H2JHt3Ej2dW6cBcHFs0ASksg70Jjm9i8\n",
       "iTh6NynsZNx6nFR/E3qukrRQd2scyZepShhWGIYPBUc/2ja6rOJWSLRmNJ/9gApD5JiDIzYZp/A2\n",
       "27JCvum2YetbMs2LXbrF2CshiacHjluXSXWj1XOVJOneOAJ6lKgUH1YZhogC++afYXnTbOE8UYCh\n",
       "6U4oMMRcGdAM4KbTt3j2CMHQPH3yGrQd+eUD5CLv9WScEUefwNMDx60zUp1tlJ4C7SqnEhxPRRfQ\n",
       "5UxIdlIV93otIfe1AsZR5nPN5OTksNF0WvV4fEgXnbZFxilKgZbJdfpgXYWG3ZaHcuCSW/eRjSuj\n",
       "zndQfpbpu9eQW2fb6mfoHa8H3SrO62o/ZtdonG3gVyflHKichTnYa8NjpB/CVj8hf/hQqW7CMZzY\n",
       "XD6MMHRakA8uI4hiijVUOEZ+mIsxBy9yA2+5nGJYBok8vcCtU1L9/HvJX/Fxzc3M1JOquLfX1NMg\n",
       "tes0jtw8ovEMSoihdSnoiWNmEAMiaw3cSgKG5p+evwjjw+YZcO75KsLQ/ilsrsDRKzW0jwkK4w37\n",
       "peAndDnk1M1o1i7LI+c2SOLpQeDWKane+S6ZDoXT3HsRkquUbfXWm9l1GgfC1hZGVbv/EMN8BXbA\n",
       "7otgIcJh/w6acVWNZSwMFDSWDfbcPD8qRC4do1XOhdahtjxnQhJPDwK3fpIuJQUcYSAO35m/6TE8\n",
       "pwlvisSqrEzIeTK7TuNAMuulimrHEOcCjk1O1hJyDtzjok3Zbwc3QVPPsGuxExVCF6fi1oYuROlC\n",
       "6VWR8MWNOE8vcuuEZC40jCrrFSbM+luIMa3KDrhViSGz6zSOLrxOVJCfqzFMydtwJ+QLo8pCTn0e\n",
       "W979nYMknl7k6Amp/igAJlEQ7/cxWOvh15ILIFch9D2uYlfYwiddCLOnNx4FU22iQgD53z4w7EMU\n",
       "HH0CTy9y9IRUv4Fyf4h/brIIfhwRnBN8FULfH6TxmKuKtkN7euMR5peICl0pG44eNqsxVPD0Ike/\n",
       "jcVyzzAMAV6JZXEF+n4bDSQdFXkS2rs0Hg7tNlHhOWT0rsj2mnIsK3h6kaMfYRE2XuQxh59fAPzR\n",
       "TBnkKoS+H2GR9LqECHsddG08JPaNDlFhm+Jng2FZChCPQBJPL3L0YwwtvIst+uA8HqzxOPDkxqpA\n",
       "348xVB5QXEdoT208IvYRUjJaa71sMJQXZvoyoIKnFzl6TKrjBNMhEmkYV4+288T3fpCrYPoeVcFv\n",
       "ceKPikIK/0RdsKc2HhH7KJoypU36ryEbDOV3ifdDAk8vcfT4AvDLcgeAcPh3+7d+mJzjh497UhWc\n",
       "C0FVhtCB7QNH4eODyJ7eeEjsl2tE+Skyq3eJ6QCIxnYzkadngjCUSfU3hNKXDs8IoRum7zV5+PTG\n",
       "GbEPDwNRToqVrDAsiANC4y39EUVmYHVqDUzfa/Lw6Y0zYh8nOaREx3YvKwxt6RufrnQv5uhlUr2Y\n",
       "mnzG9L0uD5/aOCP20Qse8kse5yArDGFOLE5BEk+fdqMaHL4uDz+l44SemfTcMvzWTP7m0fITeXou\n",
       "JRXrdl05fG0evmvjSC5Q5bNF0COGrw7wG/D7YSmITbJFzvRxXQzf/QY8tlkkKwr6Bvx/WQZH0cuB\n",
       "EIkAAAAASUVORK5CYII=\n",
       "\" style=\"display:inline;vertical-align:middle;\" /></a></dd>"
      ],
      "text/plain": [
       "<IPython.core.display.HTML object>"
      ]
     },
     "metadata": {},
     "output_type": "display_data"
    },
    {
     "data": {
      "text/html": [
       "<dt><a class=\"ProveItLink\" href=\"../sets/intersection/_theory_nbs_/axioms.ipynb#intersect_all_def\">proveit.logic.sets.intersection.intersect_all_def</a></dt><dd><a class=\"ProveItLink\" href=\"../sets/intersection/__pv_it/axioms/8bf16903d293588df5fd8a4b0df464c872d0a01f0/expr.ipynb\"><img src=\"data:image/png;base64,iVBORw0KGgoAAAANSUhEUgAABOkAAABABAMAAAC90z50AAAAMFBMVEX///8AAAAAAAAAAAAAAAAA\n",
       "AAAAAAAAAAAAAAAAAAAAAAAAAAAAAAAAAAAAAAAAAAAv3aB7AAAAD3RSTlMAq1RmmUTNIjK7EInv\n",
       "3XZ/CtNrAAAACXBIWXMAAA7EAAAOxAGVKw4bAAATD0lEQVR42u2dfZAcxXXA337d7M7e7V0qdhxM\n",
       "rFoKJSjBQhtHomLKRkt0QqTA0RkixyDiW4c/bFOFtSlSxNiC22A7FYIiLbGxfaSCRjhxQglLC9jY\n",
       "gK2chV0QHKIrDC5Mcs7KKAYsfDos5JNOgUu/1z39MTM7M3crIe4074/V9L433buzv+l+/ebdE0Ai\n",
       "85A/CHozPTtbSS7N+tkZgK843XaTm5197TS/ktm2pz0QSN1AwhzKEwD553zvuiBump0tx6HuyIYP\n",
       "nubX8aee9vmQUBdKHfyu791Sk//72Q3DsaibOt0vY27abOefSKiLoK7gJ+sf3IPehLo4cq/HXetp\n",
       "JdRFUGf7b8x7ywl1c5GLPe0VTkJdBHVwkf/yPJFQNwfJH/W88V+QUBdF3Ujd9/7TCXVzkB4PTfmZ\n",
       "hLpI6gp+L2RFPaEuvqzw3Lap5qKmrj7/Uy1FXWbMf/c2E+riy4887f5KGHXv3/fvCzpWXCrP/9xc\n",
       "W1Jn/cJ/fY4m1MV367zXb1s9hLodry25+Jf1hcfa9mNnjBIN53bTzfOSOunFafLdhLrYkvJ+/9UQ\n",
       "Qt1/s4nuT6cX3rfsb4L1CoY8al25wI6k7mK/dn1CXWzZXfW88Wsh1GUJuImF9y23scVxO5ujs125\n",
       "B5mqpO6QXztcSaiLK6sbnje+41mc/nHih5I6fmFH2gvuWx5i33ITo663+/0rp25Fw6fsrSXUxZXt\n",
       "3jeOm5fn4442113GF+XxBfctNzEH9hj797e66+YaSd02P1t8IUioiyPHvG8cxpdd+//1Ebp6Nzj6\n",
       "CvthvtBMLcRveRP6pZcy1+5ABXYoza41YIfFhAzz+yR1u/1LdfpwQl3caMBxzxs8JlAtLcnSjPYR\n",
       "w6/jO7f0zIL7lscm77tETFbF9Ji+Y2q9M/wuMszPl9T1+70M2q4k1MWR7JGgSEqmnplJ0d1cWxTU\n",
       "Fadhx5148BTALex2OkN93fL7OsbFSQzzdyrqAlIk/iOhLm4wwEtQDjHMQ5bjln9yYmLiRwueup4x\n",
       "4a9+D8DpbcN/wpfF7WSz4972zvve3ulUbu5uhRV11QAX2Umoiyf940FzHbt2fAWxm4tirusfAPsV\n",
       "QR0MO/mj+Un3e+dmYFujCu/reC6au8dXh1J3qJxQF09GmsHUDddtunPHO1B3TqcOhb8TpVdyTucP\n",
       "J2yNHzgd/8mIGmq4AulXxQoLF0NpDNLuF2OT+stwBEYanXohcyHLw/w6WFFNqIsnK7z3rIU7sXuG\n",
       "fgOK1JwMpi4z5LuOe55/kX5Fvs316TdOXthQeiV+S2nq2oobo7TnACNu1Rx8Vnm03oHi68A6vYs1\n",
       "bofCAFFno4od3w4XIHWOf/8KwjyzZusBPH63oi4g3LytmVAXTw5571n7dWTxby+Dy7lHVA6kbod+\n",
       "ytYz7gA4D/J0JXPkZuv6/P7RIUi3ySly9UqMnkxT15ZTl/sIWI+FRzm8P607lLXPgczruTIPfVxE\n",
       "Ux+jbjf6dtmBHN5n3wb7lyDewhfVQvMvX13prfPAi6BuJICt3eOCOvqMZ0dRF221aGW97+rhQ+x/\n",
       "mkyv4Qr7jKuCqFurTykUkxgTlxGuxRddP4gTVy9ACpReiW7pNRW2Tbm6/SFkh+bw5dyhHnnkAbZS\n",
       "4rP7v0PO96yvE3V9+Kde9pkHpvlffU2wya4Pp356wa9KBmj+yZ9CP06Fz0jqtgV8jv4pQd1aM+bU\n",
       "gbpoq0Ur233+zMc81+ch7YmYpI79Zh8aEJhRJgYGl7nHdb9wB119qSJWJJ6exvVKxiG336XMayps\n",
       "iToLXfrV0KcNbByqDyy78w6FHNHXfRC4X/c7PKzCZrQbGVNp/xLLDZj5EtpIWOOSuqA0/74ZQd1f\n",
       "oW0zirpoq0Urm3zO+WUdLHXqrBrY7Zn8mLbNPXRMeDpL8WJq+ns4ULOfA6XX3Mga7Op3tvCG11TY\n",
       "0gApXO2+BTeojkE/VKK68wxFXmSVQWbvFdS1CKl7y2BVrbpwZA1pgTB/HAbzIneAU/ftoPjMtKAO\n",
       "c1OK5Sjqoq0Wrezz3bOrnWjqck2w7h4vNa072QXktNlLXwFswpV4UYX+8gNDcAU//e71A7nz1gq9\n",
       "dvmb8Mnl8BJvKFOhvVJR14uIfJi9IwcGNYYuqjvPUCRfhL52qsWps9Gn/TGcyaa6v/mMA7v8uwlm\n",
       "QObWFDy7jJmBpO72gCtUOCKoy7BL0hO5m4i2WrQy6/eJy9HU4XGqlWrfwhyfzMdGR/8et3vDgE24\n",
       "VdiifsyegvNHR0fLbIOYm+qF3UJv9nomW8BIlKnQ3qpRx36j/DScpQYGNYYhsjvPUGI6TV/I2Lce\n",
       "PN6GErnzCO2+2dmAmA4ZkHluAA5WEFlJ3eGAK5T6hbuHfXJi4vvRe9hIq9OIukI1mro8A6FvqLcB\n",
       "7MfP007xcpoJnhPLmquvswXwNrrKbBVrWrDFt+yh5TPweGbtu1g3ypS39RW2UM05fRUEyR0Y1BiG\n",
       "yO4CVliw2vO/VqW6pC43HUod21/dGU1dpNVpRF3AH6JI6n6VkzKOu4W+xjDHjK7cRQBv481J2AlS\n",
       "XxiCgkPxCUix3+wOobdb7gtaPpubSr+EB8qUt0W0kO8mHrvgxWsAdxPuwOx8dwyjR9mdFmw8gfKE\n",
       "uwPxxwcPu9T9OVhBEZ6WSV0Hq/lJ9tTwM6+gve2nzj7SmTrNPYL0mi9wzG7EfeElg4/UefOLsKUs\n",
       "9ex2tr6E1+Qzl36DvTaEPv8YbKnjC1kufXcNfp1tK3RTavMlTURO/mLJrzh1KNTlwPm9cgyjR9md\n",
       "OP1kUBcYClbUFZyi7mxaT38d3jOgP2Qh6oSVDIqrULspmgHAwcl13Gd99WtnGksUvT40OvrsG8Rb\n",
       "F0F7+//82gdjULcR4F/gcxwz+6HRO8Tbz/EtbdnVFx0G+M7RUfETPFxy9a6gpV0vVGC8tMrRTakt\n",
       "tsdudOGPmXefa6mB02oMrUfVnd08adS9HKQpvu5Sl273GDH0s4pO1vFRx61UUFyF2s0LrxnAB+qw\n",
       "maaX0jj0VH3UMXnxjYGui6B9IHW9jWjqsnVYkqvB1u8b9zw2mSbnuPpNs3pyQQ/WbON694OgZar9\n",
       "Afbp0w8YEy61s3WDupF3sBPXqYGvkmPoParusvWTRt3ecOqgdqERQz+7XcW4jIc6bqUFxVWo3fg9\n",
       "NAPcemd5JKkKhdoppK6LoH0gdZlaNHXwMFxxMNCMTbmZGHoxFFrmLmx1+Jhi+nap68FHA0VHdlyR\n",
       "Y+g9qu5WwcmirlSLoO5+doX5w1uKoS/7zZuL8LXBpweHDOrQSg+Kq1C7LroBJilk3EcgV+P0UDpw\n",
       "87pTQF13QfvZgB6viUGd3enjOPH0MXqStvXwDiD2UCeMus2Bs6jy62Azu1j08Jav8suKd28MmOvQ\n",
       "Sg+Kq1C74UBpBvgHfEXa7o08f4BsX0g1/0xR99tvlF/XXdA+iLqv1qOpO32FUWc/BRHUpdg0RA9v\n",
       "eQx9GVRfCqAuRb4MBsVv5HcIhtq9UW89ag4Y3+OFad4L99CcXim0G565LudxkbYe/AnRy8fw1AjN\n",
       "T+4hL+lnninK62aJTtxeugvaB1FnXRtIXVKXGERd4kLwhVDxOi748JbH0JfBzp4A6sSMnJvKL3fE\n",
       "tD8Mvqi3FjWHR8EtzvAWSPN3++tev+7TvhDl2+iAhs97PvvNFNLyRV4+DR06EV+iu6D9vqDL94mE\n",
       "rlD5Z4hFHT685TH0ZZA7zx+v40cYFIc+oo5C7d6otx41h8+zLdQPgO9n+EoLW7gHolGnbd1XDlYh\n",
       "XQE+/Vxh2DEHcXAQU61yfBiTRn37b3QiHlt2F7T/nzDn5x0T9QSxTuGqCd8yWzhqUMcf3t4p9jX7\n",
       "TZQkdTx+zqizWyLU7ol6q6g5a26+ftdfV/DAmoHU+J/YLWvsQT77KOqsFqT38DeLtE6OviDuCnz5\n",
       "lFTCN+m8u8RvbDhQWh+eTsTeoLug/fZGyJWtJXCFyO953+ibNqjjD28xhp7/YV0FP7zUUVCcUZff\n",
       "K0Ltnqi3ipozC+ui/W+38OCl407+42128EcbJx0zSsympfTSPPmK13NCzm+Q40gmZ5MSEzEsPrtd\n",
       "/1HuShrBTbcPMpCd6Et5V0H79UOLkbqoKdrqImQg+/dR1ztlrrB8g6Bi6IHUCWAdDHrzqcUT9eb/\n",
       "UNgbLXLVXdJUO9BWzgw75a2lCvqKVw6yxfEvId8mx5Ei1+8iJSZi5D7PVlirDlu5K2n82KIPWhpl\n",
       "J3yhlPHvLoL2hyqLkLrIInU/mX/fVMTuQ4HU9Y8FUNehF5O6/Mv3Y9CbxBv15uxS2BstrFeek6ba\n",
       "gUZdnn3C8UIDSd7JOSvREo4mDmMMlZiIYbc4Xi9wV7LJlBbeUBbb1Yg+aGmUnYiH5TJ2OP+g/epW\n",
       "KHULM7c/uEidKmKXbnXROYZ9KenZR93I+HypI9Hu/0zAkWtx3ZBmWgmgDn+0ydU0f9Ltt2fP//LJ\n",
       "9DawxnClRyUmYuC9Vzw4OUS+WJ65iHATpkvfBJtlH7g0qk5oobzNHaaLoP3wQCh1CzK3v1OROreI\n",
       "HXylm96piN21QdTxa3mK/kZMcxpWgVVeykFbOthSS3gVl77MECmzzEtLD14qzriEIidlbd0WfdDS\n",
       "KDuhVtUb14krmuXuWih1CzK3v1OROreIHazppncqYrcyiLrV7VNInT6p1/MPtEFEY5TjmG7Q3PgC\n",
       "KR8uaUr0xZZpE2fG7cN8PE6tdOMEfMK+qVDqFmRuv1mkThbgk0XsYKyr7vGRWK8TQN36xpuDOj6r\n",
       "kK+oO47i0SP902P853noizkQbw6zT8i8MB1K3YLM7TeK1KkCfLKIXbq7XRI+pu6pBFC3Cd4k1L3p\n",
       "JXM4fA+7EHP70VsJKMAni9hlW96ydVFF7AwD/Evu4kAAda8l1MV1Ql/1zH0TJAMudSK3v1MxEtc7\n",
       "iNJLCcl4FrbmA8Fz4nszxmQUUIBPFrHDicosWxdVxM4wwCJ2mZqfuvzxhLq48mT4XMdz+zuXLeE7\n",
       "mii9vr/y/QAya7tqhAAoVTszh6xBOdRTwQX4ZBG7vrIoW2eL/5OUt0LKiRlV7rCIXXrMT13paEJd\n",
       "XPk3J5Q6ntvfuWzJRnqN0mvbIL1lFEhxbQV1PFV7xxy+iRzqe8EF+HrGRBG73iFRtm7rz10PGVsh\n",
       "5cS4gbsVxm6n/NQVxhLq4kpYQfWam9vfuWwJRa8i9WoB1+cuT4EUYcupE6naa+caSBPUBRXgk0Xs\n",
       "GHW8bB2lYRME2AorJ8bNuWDtiVzAXLd7IKEu9m9VC/XreG6/VozEU4uEh1Wi9CpQo6c0ewqkCFtO\n",
       "nUjV1uup6MnQSpRaDkXJIP4CfLKIHVthedk6SR21LgihjgxW/v4kruLLxU3hpU78HwoJdXE2sdOh\n",
       "cx3l9uvFSDy1SNL4O0TpldygpTR7C6QIW04dT9XW66UYydBq7VNqOdRdwQX4ZBG7QluUrSOAkE3e\n",
       "wuIldnD0Cw3sVY/CY8CL2GWafuqug4S6uGIfD6cOc/vdYiSYLqPVIsFmDtEReqpj4ilrkjMfbFyp\n",
       "pTRrBVLET9FU1PFUbb2eCqgx9D04qvXTeWgjoACfKmKHYQ9etm65KFTHW1hOzKxdJ1toYO2qwYwI\n",
       "zGDwxUOddTihLr5cFk4d5vaLYiSULqNqkVATK0a4eqpj4ilrkjepOwtUSrNWIEXsQzTqeKq2Xk8F\n",
       "1Bi6oFo/HahIXUABPlXELj/ulq3DuQ7L1vEW3kVUso5q11XdF2mQaqM7R0Xs+oZ81BWnEuriy+52\n",
       "KHXu7/kMPC4SF0BPu6ZlTeipjomnrIlnhb0VVEqzViBl5RXnelZYnqqt11MBNYbhKTK1fjq4Rerk\n",
       "D+wW4FNCf0aFRSPIRXNEi8qJiZJ1RojRNehtZKsNXsTuJvBR517HhLpY0dWxSOpEMRKepOWAlnYN\n",
       "pbYqVkLpM56yJqQX+cyY4wxaSrMqkHJeExWltqKOp2rr9VR2qjGMHplaPx3E8/kwWSnK1hF16P5R\n",
       "i8qJgT8JShqMQN8tDZ5bsMZPnRt2SaiLJT+Opk4UI0HMtFokBGFdK1aSbfjKmpBe5DPn92JTpTSr\n",
       "Aimpxg1AtpI6nqqt11MRydDYqd4jqvXTxccNFWZJZes+tWkPUNk6alE5Mds/80uD90PpAV7EjtJw\n",
       "TOqsIwl1c5HheiR1ohgJ5c6oWiTYxC2rLFZC6TNmWROud9cqzHjWUpplcncfPH+Vu/11n01QqrZe\n",
       "T6WsxtB6RLV+utpHh+ygmrxsHQliplolv7VpQEgT4CZ1qYGEurlIYFUskzpejMTInRGpNOu0YiVm\n",
       "+gxvrpNJ2ED51usgqKzJDji3QrYadZSqrdVT4cnQ1KneI6r10+nUdsRXvrkLhwSBo7+XMql7j5NQ\n",
       "Nye5K5K6jsVI8DlpJoaeSwUTCDuWNRHPXGUqNqZqa/VStGRovUeZQD2XR7YnRAzqrMdhTtTNmnfo\n",
       "aShfbXRQXCf/HrZTLp8dU2/GXENtrYgOIPZQJ3cTNvGoMbGLUPem2dk41NkbNnzwNKfOakAiXYpb\n",
       "DuCzGzY4/w+Wptc8iLrNLwAAAABJRU5ErkJggg==\n",
       "\" style=\"display:inline;vertical-align:middle;\" /></a></dd>"
      ],
      "text/plain": [
       "<IPython.core.display.HTML object>"
      ]
     },
     "metadata": {},
     "output_type": "display_data"
    },
    {
     "data": {
      "text/html": [
       "<dt><a class=\"ProveItLink\" href=\"../sets/subtraction/_theory_nbs_/axioms.ipynb#difference_def\">proveit.logic.sets.subtraction.difference_def</a></dt><dd><a class=\"ProveItLink\" href=\"../sets/subtraction/__pv_it/axioms/a6d8ea886fd34ab928091f8055840448d4dbe2820/expr.ipynb\"><img src=\"data:image/png;base64,iVBORw0KGgoAAAANSUhEUgAAAZ8AAAAWCAMAAAAo9GECAAAAP1BMVEX///8AAAAAAAAAAAAAAAAA\n",
       "AAAAAAAAAAAAAAAAAAAAAAAAAAAAAAAAAAAAAAAAAAAAAAAAAAAAAAAAAAAAAADFBd4eAAAAFHRS\n",
       "TlMAq1RmmUTNIjK7EInv3Xbp8+P3nXbhrUQAAAAJcEhZcwAADsQAAA7EAZUrDhsAAARRSURBVGje\n",
       "7VnbluQmDDT3O0k2/P+3xsa4jQCDsafnKZw5W7OeBlWBkGT1svzYEAVOTfodi+KlVfH6M+I+ObH8\n",
       "6PAY4tSknRCfNMk8xK9QzKndMDRYm+vbanZEn79j8uZ4sIE4NSlxD8MJRIWA1sGVjJuRKHvyNYqQ\n",
       "2tDQYG2JJtREpOzD4c2F0hzi1KQkLYQbc6yKgILM3bHjlu8oltRKQwZ3FNXj3O07ajb8nKhQb64P\n",
       "JRCnJqX/oTD2EBH2288CjR5IkyfSL1EsqRWGtOMdRfVwU2oiHodl8JvzsQU2Q7Ny6+D1pN2+MLsX\n",
       "9QNc+gxJymxib/V3KFbUoCFPEGvZuFj7r7/h2iM1G5J05PzN8WAOsZX+uNftSbsr+cWHsYugFGi4\n",
       "3R2aH+zJVyjW1KAht0h1paixNpJzaiLazWWcNa/Cm4GovUdamuxOijpF0Nwk3aL8OPLsAVsjl5Qa\n",
       "BPGHKdbUgKGtGsjT9mDtKjuN1ESk8Y/qMkDcSL3Vwa+SPPILPeNto/rIXZGtUmQY+ogMyq/az5mE\n",
       "Q9xsu2ygdxRraiTf420GprWii7WJn1QTUaDjn/bx2OxSShWoMVSVicJhgERsMXW9z+cJNG6+w8BH\n",
       "12w5vAR+z9PYHgtjC7GTmp9QrKnlhvbayunSxtXa5f0cqtlxuzqGXekyICuQ6BK+3A3LAG7HR4Fc\n",
       "aQ+PVtWkmDspXYsklRWq2SU4vUHZg5Q8XBBiJzI+oVhTyw3t6cT70sbF2v/8KdYeqtkR+051wKTN\n",
       "byXaC8HQFx9/BZdZq+sd2+J1hOBGm3y48VHwLMxCvH0+9yjW1DJDKZ1o1/K4xtpVhTxUk5B/IqP3\n",
       "VKw/ufssPI86FkdGpB88Ykm/rqL1VeUPP5xCuLPD9EOOwiftBHYQr/PPI4o1tczQsd8U14paa7tp\n",
       "NQkNTpHRiwWpheP8eMBNXV+oCKGoek9RPket2II2QVm+93Xr6pi0MHKzwZMC9qqMf1okEK/HI4o1\n",
       "tcyQq/qG3bUZnVaTUNjjokUTMo9uMNnE9KNR9bYOC0McpKZ2r3zODImvJonDgBo1ELhN1/6Tacuq\n",
       "+Xo8olhTOw2d1dinXOquXXn1WM2B2VS4RWuxZlDQRfoRoawmpMtR09VdMCVArkaK6cYkrUKIBPH2\n",
       "S2+b0aedeC7sGMRObJyn2KJ2GkKfj0q/3Fj7D5R/R02tStr8iwe/n4aE6WcNrlWAO2os12nRMKNg\n",
       "88SN+zmjdpyD2C2wn1C8Mjiw0epM/Ttau1JTGltvs+ExJWqTBd+twN4fiHiVtKu7kTONymrS77Rl\n",
       "H1Hst3RnFN1osZdqKmPUM+O3HpTcLgqNaUnTwNn+gPBgtrfTVptMCYi3hnr5HeHRc7/Xe39EsW1w\n",
       "XtENiqWa7hQ8fFC8J6jeW8Rg0tMxt+OPKE461OXaN74eKNX0jDE9etDo8gK854/+zfF4AXH5BsWW\n",
       "wQeK0LSarjEyfPD/+I3xHysTMLUPLRTJAAAAAElFTkSuQmCC\n",
       "\" style=\"display:inline;vertical-align:middle;\" /></a></dd>"
      ],
      "text/plain": [
       "<IPython.core.display.HTML object>"
      ]
     },
     "metadata": {},
     "output_type": "display_data"
    },
    {
     "data": {
      "text/html": [
       "<dt><a class=\"ProveItLink\" href=\"../sets/comprehension/_theory_nbs_/axioms.ipynb#comprehension_def\">proveit.logic.sets.comprehension.comprehension_def</a></dt><dd><a class=\"ProveItLink\" href=\"../sets/comprehension/__pv_it/axioms/fe8cfed962229e9bdef2d6d73ad0e27a41a45f0b0/expr.ipynb\"><img src=\"data:image/png;base64,iVBORw0KGgoAAAANSUhEUgAAA6IAAABABAMAAADystegAAAAMFBMVEX///8AAAAAAAAAAAAAAAAA\n",
       "AAAAAAAAAAAAAAAAAAAAAAAAAAAAAAAAAAAAAAAAAAAv3aB7AAAAD3RSTlMAq1RmmUTNIjK7EInv\n",
       "3XZ/CtNrAAAACXBIWXMAAA7EAAAOxAGVKw4bAAAQt0lEQVR42u1dD4wU1Rn/bv/c7s7e3p1tYkVb\n",
       "PCKtpApsDdBqDBwBKy1BrlpMASOrprXSNG5bQ6tSbmtMq/HkTi3FM20d/NdYDHdgS1NRvGAojaZ6\n",
       "Wmkp6dVFSJWK5wFSEAvX+b7vvZn35s/O0i03Qu5LZm++ed+8mX2/ee993zfvtwfw0ZFEC4xKVfKE\n",
       "WdPpyeHhYyflvq5w6TNHoapS0jt13VjKf+uHhw9Ug+ihBV87GbfVWND1eGEUqmrlcy59r0B6wYKq\n",
       "EB06OXe1pKjrHeYoUtVKxjVBZXrl3pboEDVecB341ihQ1Tfeiy59y0cA0YRrkI0dHQWqenH7HBea\n",
       "0SPaWdL1XO8oTtVLu2vKyrVGj+h1boRHp9ETmUhdz3/scOSI2rcgZUyQ5eNtipKq4ZLFCpUUa6v2\n",
       "u8URRjTe5zpwU+SI5rpcBw4GBTlfVzvvmzVc8lq5k23zXKSltmrTY0Z4hEm5o5TJpagR7XS1Yfpw\n",
       "gOFkbqvEJvwbq2Wybcy7Eb197no+dkGt1WaaR7iTvu7SG1qjRvRc9zASdJXn+M/6DnwEnqjpmktd\n",
       "iGa/CXAmOf+FWqvN9o8wol90hw5DESNqvO86UFeojOiWhdhHZ9V00Sk6osZN8tlO5GutdsQRfc+N\n",
       "0sGIEY0fcY8armFr78BAQUE0ydFqX00XbTA1ROsRhTr8dg01VzviiE52BX/wh4gRzbgrbdJnyKv/\n",
       "pfdRbrFYTaMj1Oc1ROdjo2Tx0fpMzdWOOKJuPwTmF6NFtMnt6jZhaxuDZ9+zgVy5pfqoG//kqzQ6\n",
       "WrCvmwWG0591zUdUg2yzimjqA5p/Dlkfc61L78nDGmdS0DS/WUMxwGpHHNEe90QxOR8tokvcTms7\n",
       "PnMJ2FWeR4990eUCNJVlb+i9UPWidM1HVIN4QUU0QQFAPfrYN1jHYn0wwz5L13xENcBqG/tGGFFu\n",
       "ELUBm6NFdH6b3yjyeZhhfpza2Qm8OKHfTtNGrgXSLfOgzu7guuYjmkGsT0U0R1NzDx57DeCORL+S\n",
       "5NA1H1ENsNrUgZFG1N0lGvqiRfRmd0S+BFu5JJ3yjgFLEIjUmQz9ZL7rNjDgZWgoG9PE4Efa2vVn\n",
       "B46OZCDhHVIRbaImmIGD1VYA07J6GR4VvZg0Y9MZgXkDNleqXXP9CCPa6vZMjkaL6LGAmV600pP2\n",
       "8TsfUvwjC1H0ejtLK9+VN4daK8wLvvujzjuBpN5HceozyEXcio+UmT6SHpTTIWoJSATPjmigVrux\n",
       "LWJEGw9Eiih7JV5Ek4fh19TaTsF9yqc16uJbuH0AE2VgjdohMSj7CZuL4bFfRdSKW66ExDbgUdca\n",
       "Hay5UFqQ1tSWOlIhwrenTjyJ3wWeH5RWEn/Dym2JBeeJGwPm0dj7kSIacycYoN0a/YxVdX1A80Nj\n",
       "2ZVh4L6bKVO+7T5G1AShXYKIGj5DozSY8oVBfKTjXSqi6QPxn+Sfpab7JT0zlimCY4DQ4iYiavqM\n",
       "5NJg1so9otoswhv39NPFg9PpWeMOFVbuyFQvCpt3v817rU5soHkMH0SKaONxjzdugRU78lhfkkff\n",
       "63VEU4fsOCHRjOkRC1Hj3yA1NOopiEO442hoYEx9AbaJ4EeJR/etADEBrwd8h7wkT4jS+aRhTGJX\n",
       "qddNBo9ek28ocrUUvajxTnpXdxvEytDJyNFnWLnzzGgB2coxqwAm2V7AYic20M45JhClc88LQzTc\n",
       "6sQk4XENMRtnXFEefxGra1aZKqIx/jZp7ELn7DnMfXTAlBqujcvh+jjMX9PLX/qQBql1BcBRMdem\n",
       "IZoes2k7pHHvXrziZitGR0SpItLgXpMrodqcuqXBbf+EJpOrJUQvU77P7BLnouo4CUHfJqzcaR61\n",
       "MyfmiGyZgJltOz39fVggSle5MQzRcKsTTBl5Jqh6Vwyy+BdqFjAhvs0OAqTAiMZMqd2Ke5/1ju3S\n",
       "oK5M3ssP9byuJavgLZqfaejbKGZarsjSUg/ZlWhiG4yFa0S1hGg/JHcJiPg9jzU08rvYLPWosHJb\n",
       "LDfCtoTd9HnQfofLtpM9t/WGyYj+CMe0rjBEw61OMHHmeXeWCArREdFx9eIbT8GGfKqFEc2C0FKt\n",
       "Kevbel+02QYNpURrycnzO4jex3nFeKuFO66+IkRxECXtFvg+V+LOWkiDP8LsNFeLiKYKsK7J7FCc\n",
       "9cbhB8SzhX07rNyRZeBYGtzs730gJ062fc4bEBYZUezD2ZYwRMOtTjC57VkmFg9aOIae6t/kW7RM\n",
       "Ef4B5wAjus7aSLv1rjtNMMreDKA0aIfcHSXnkXQQnT/MTvJqyJXrehlRrIi01IN3fZkrcc1YtsEQ\n",
       "7JjA1eI6uGQX3DYR9tKIcRWbPjK/mdQk2ojy5KTL1HJSk3pvWQhcEzU/I2mM3y/x6HKcf1UebmNE\n",
       "43k1QxOEaLjVCUZTHm/LCEq6oAsw/XJp1QXn7bHu/PabNwMghKS9MjzsEwEoBl+BxqfpcXAjeu8W\n",
       "Gf/GplsNm9r4YZkqIq1heHiIK/HGD2SQbIZ38lztU1YDxayp4RwYm55oQTitu7u7xfKTk0OkphEF\n",
       "Ud4APWo5qWkd0XFAlvyo39TdfT/610ukT9UlRmGXnNsifN0/DQy8FO7rhlrViij8NCh0namODStq\n",
       "uOhbNiSe6DVVrq3a2z8mmnq7NRLnLAjvoZZrwQ6MKo2UojwFHWo5qa5R924gy/hlF/VCmmaTK62R\n",
       "CKZcdYEcdZOHgxG1PKmHwhENtaoZ0UvhlBdryN5htRZCmDHZn6srkmrF12vtcssfU8tRpXKjlz6s\n",
       "P5hgsSxje/EUaveZAJ+ASV05GatnC95UeV4g+h1I+b2O6tURFVYyItZCXr+QmeSdQTFaPuZee9Dj\n",
       "RbSn7ZRHdDXA+IsLBGHqQUTszrm/Awa4CB0tsjxR0spRpfL0Nugoprelt9BAjpZnpdCRxwadM3tT\n",
       "EepKy0BMHg0twYhmTG1pXOr138KlzWoWgxBlKzsiBjXkVeMFxQCuLsJynroecFOheryerc9Td6rJ\n",
       "YjCKmTxBCGu7u0WzooqubYssf6ZRK0eVy2UjQrKXLfsbp1ou3++7V8mgZvci4Sbv8179+bJANFau\n",
       "17IT47JmwvQgylZ2RKyFvKoPqxig35jgGd/jx/ogak1Ap7okinXlqyG9b4OWnUPVGquSpiiv18mb\n",
       "pHK5kEWoo6XRHHtaNV0DF+TJ1jfZZyMKheladuK8cmsWPIiylR0RayGvOj8qBpg955fN417C569x\n",
       "z4rLKyE67dSfSJ9JTvddfooJ3XgV5SyYfjQDLEVyuLFQCdENSy0zyjlTdmLCp1dk4TezX5/dpiGK\n",
       "Vk5ErIW8qmOvGOC6SUpgiwz5W3Vd11fwjOxVQKewGCHHjarPMytfY7nPuxl7HoXl1uBJOWfOTkzI\n",
       "PrLYp48ub1YjZhHyXrnH7c6ggRCMdupJS1Bl+Uy5VAlR468wKlU+Oa9BJUTrrHamnDNnJyZA614f\n",
       "RNHKiZiBQ94+Y8j9aDlvanA5SSc9SxnufU3FStELwDJzFKsq0+J+w5kdj7JgzpmzExNgbb0PonrE\n",
       "LELeYlqfD8mA4mJKGSyCP7O/xH2zw5l4G/wQTZVGsapOHodwRDHnzNmJCZCc5I1H2XOSEbMVBFPI\n",
       "C5k2JzK2PsiA4mJLXf69dT/O4w704Bmpvo3OY5KrRP+tGxgdf4Pk3YGWoKKHSyqinHOm7MRUgF3e\n",
       "nBEjKiNmKwimkBdTSXZkbO2xAcbFlkVq5q6zU7iDaS7rzxWLB+1hNXOkwl3XjwIXLPFA//GNoooo\n",
       "55wxO5H+S9EJKV2IOhFzTGQFzLISGcs9iovRItm6jkyngH2GfDYOnY6IhpFbi7VVnaqM6CvgDVSd\n",
       "7EQFRCliXsT7Nw/3K5Gx2OO4GC1S+3fizv1ngX2GjHIOno6IhpBbayGpJsu8VUD0PxCQeghDVAbB\n",
       "9jDgsyctvt2GO5vL+hlo+mFlROcNDAxsPdUADSa3Mvm1FpIq5Qp2V0I0dawmRGuV5P7wPvrmqYZo\n",
       "MLmVyK+1kVRxzQFugYiKJo0KUVpYd7ohGkxuJfJrbSTVeKvYgmqJH48UUXjjNES0L7AFKVarjaQK\n",
       "L/IWiGjiSLSIzi+edogGk1uZilgbSRX5c7gFIlo/FC2iM/KnHaK4ENsmwGrjIZNf50JN5Nf1vAUi\n",
       "2tQfLaLtrbqOzu3AwKsuRAPpH2XRLULKHTk/+FaErXZDsepDR/tS+O7IJsCq30dwVLCT1UB+ncZb\n",
       "IKKdvdEi2tBfsY9OtJpjiw/9Qy6FSbAaVu50E++SF3tVjbAVq/EaN+8p+vFOgrumnXlpUQiw+uNb\n",
       "ws/XJJtVUiVZq0CV1MivF/IWiOh7pWgRzR6tYtTVhiSN/ZHs5VxG5XJHdAa+TiQRttxyyRshtS1k\n",
       "LHQ1j7wUUiFLnl+lQWHy61bJZpVUSdYqUCU18msnb4GI/hyiRTR1vApEVfqHi/1Bv9MQVu7IZVqv\n",
       "chFJliqI4sruL+m8kzBZqiBqE2A1eU4iKtisEx0fuLNUiSqpkl+v4S0IUWN/xIjCN6qYR3MA1zaL\n",
       "dnexP8j9CCt3pF+x9BBJNjiIEmF0hs47Uc5UxDm4QRl1bQKsNo/y+nd8S+1Dfr0kjPwqqJITeQtC\n",
       "VP6cUHSIziiG99FlYJSP8itYN/tjPH6ElTsjQsGx9BJJxjuI0u9kPavxTpQz1S7hHJSXypQVAqwm\n",
       "3G+RpOpDfqUuXIH8KqmSF/MWhGh9f9SI9vSGI7oQUo/0N3YhRUxhfxBjbCHQB5Xj2hilnJbKLNS/\n",
       "QhdbsuImkix0EG3Au7rO5p3QAhz7GtozYldnXyrbrBJgVdtDdvjhR35FqqRGUKUd20BSJefyFoRo\n",
       "ez5qRAO5aEqmfpzVaXrrynfs1NgfqBKPQJbj2hilnJbK3K0H/81syeOTm0hyt4Jonn5zUvBOxAIc\n",
       "eQ1N7OrsS6X7VQKsenU+FUmqfuRXfGx08iv9iqNtIKiS23kLQvR5iBpR43hYH6W2yrU1lMD6ugr7\n",
       "A1Ue6kQ5ro1RymmpjD7qIuMELYk44iGSKKNupjVp5vKSdyIW4MhraGJX51xqR9DDyxMuk1Q95Fem\n",
       "SlYgvzJVMoV0xv5ARO3mjPA3sPeFI5rDZljCEDrsD1IHgekhVJ5p08pRHVTWyjDjBC2ZOOImkgwq\n",
       "ntG2S96+ASTvRCzAkddwahQH1dPB+SFJl0jyK+bZfcivRJWsRH5lqiTm+XELQNT+VZcIEc2VQxHN\n",
       "FCE262cMocP+IHU1MD2Eyufo5XNkOa+VKTLjBC2ZOOImkqxWopdbxp5hFm3eCS/AkddwahQH1dNB\n",
       "YTPqYpNfVws2K1ElbW4rUSUrkV+ZKnkr8BaAaHtb9IgmD4ciagXvv4IHGEJlfcVO9ldjspzWxjjl\n",
       "qHK5FGSckCUTR1xEEuH7ytzMV63WlbwTXoBjX8OpMeZUZ9jUT8OfBG+TX58UbFY7eeholciv9uNA\n",
       "WwCiZ0D0iOLvGIQgCpfD2GQBVr6kuY+oJoqCHoLluDZGEVRFufgCyDghSyaOqKkkS08UNUTbP2VK\n",
       "3olYgGNfw1lZs8ipLuH0zBBya6r8vzdWY5G3AETjL34UEM2UQxHNmle942uCedd8eLn4utb2DARY\n",
       "2jlciWj9dtB4J3nnTKcxlYNTYUTFH9HlpRNC9CT9JzwjyDesd9brmgEmZpXlSoo0UIRtsXIFYaeP\n",
       "kLz7d19EbxAtV91/wjMWnJz/hAc/gFH5P3UOMd2mFyxY9F+XXu7QwuOWAAAAAABJRU5ErkJggg==\n",
       "\" style=\"display:inline;vertical-align:middle;\" /></a></dd>"
      ],
      "text/plain": [
       "<IPython.core.display.HTML object>"
      ]
     },
     "metadata": {},
     "output_type": "display_data"
    },
    {
     "data": {
      "text/html": [
       "<dt><a class=\"ProveItLink\" href=\"../sets/power_set/_theory_nbs_/axioms.ipynb#power_set_def\">proveit.logic.sets.power_set.power_set_def</a></dt><dd><a class=\"ProveItLink\" href=\"../sets/power_set/__pv_it/axioms/a988875a839b41a2a0d9a556b77839ba464e6e330/expr.ipynb\"><img src=\"data:image/png;base64,iVBORw0KGgoAAAANSUhEUgAAAQcAAAAWBAMAAAA/eEQeAAAAMFBMVEX///8AAAAAAAAAAAAAAAAA\n",
       "AAAAAAAAAAAAAAAAAAAAAAAAAAAAAAAAAAAAAAAAAAAv3aB7AAAAD3RSTlMAq1RmmUTNIjK7EInv\n",
       "3XZ/CtNrAAAACXBIWXMAAA7EAAAOxAGVKw4bAAADlUlEQVRIx8VWS2gTURS9SSafTj6NP6SuAhY3\n",
       "WoyiFTdtxWqF0I9blRoQEVxIuhGFqimICCotFCkIbVMRoQo2duEHQeLCjaJGQa3IQLRqqUiILdLi\n",
       "h/G+z7x5MxmnSw+cmZt5L2fuu5/3BuDfCHK6IrPE5OBSf86463/kdEMswQ1/idFJ5J/o5oyTH2ud\n",
       "ZnjzjA6ru/NC/9NGzfXkUp/Kb4VpNKYdRRzhbX3g64olcRnIXeTJEadp1zmr0do9f6JRJzFQ03ip\n",
       "KcF4BQI5oKwWMTGradoUM0dAHQU4CpR9ZGUDTq/ayVmFQDK2ANBcQFNJEp8AfGnwtQBltYjAuRlh\n",
       "KjizEWALUBLnwwmndxU4zfwPa2/IfRMoFfwjOgIR8nuRVcMTYKwSMaC+Ne3aLK2GSI7Sh2sJOCYt\n",
       "zSjgPyaCXVME8KAjsI48nwcIoeYhYLSLCHi6TPsgvvY8CSrjM0176uSEkmdUy2suTJIHx82ERzB/\n",
       "UVJyKbJA/R59eJvTLiIE5LVO/MqSWzjOuAfginPmGRX4UGq3Ve8ERv8LGCtv1r+TZm/khHaN4KUh\n",
       "IgT6JHWfrq8GWkuUPRCMm4P7y01ZZkUTjNugObeCPJAiuzELPur5K5rrWZ2kfgOnDItAjzxya/Q3\n",
       "SVeBsSYXNnPlLUG/EfIuxizspr9DmDftHRvrVLuXU+Mxj/oPvPRzypAFIGod68SxUIXRW5JyhdXu\n",
       "sTkB8JzVttTHj74NgnACI67O4f0Ap90JQ4D1M88GySlGyV9ghHQTXsptn0hea5NiszfSAf4FuEEe\n",
       "FM0+mTMsTIeKyQz+RLuBU64JiwAcFgpjyDNY6N4iI0zilhXL1AXI/Jg+KNqwRKle9hSA7r1ls+Yr\n",
       "hjXCNEgTwHZOGRYBGFtlNFgD7yzfACP0xkl4RkJ09GqnUaW8e7yL1wp+upkFxJYWEZWMLam8552Z\n",
       "4pRhEcCyH+bbdnue6ot9ADy0HRborBz4jVWGipRqR6l+MyuKun3GTpM1XnIJNfwrl9F3vOaUYRGQ\n",
       "0LJ3B63saBcjn10gtYAem+fIFKdZCvfZtg0dZgtmzaO1yGjFlPuXwClOit5wWoGboMTBIz4y+OHi\n",
       "CunEIrUv1b8k4gLLIal8fvgVLiaUs6m7ZlFlGF0xJKyTnLbKlAQU2jVybEjY7Ue49TAlG4M6sIQT\n",
       "4xZ3hqrG3QUc1um3fZKc5nRD0Piii2UY7XAVmOGUEwz/CX8BOv/+Zq/+4lkAAAAASUVORK5CYII=\n",
       "\" style=\"display:inline;vertical-align:middle;\" /></a></dd>"
      ],
      "text/plain": [
       "<IPython.core.display.HTML object>"
      ]
     },
     "metadata": {},
     "output_type": "display_data"
    },
    {
     "data": {
      "text/html": [
       "<dt><a class=\"ProveItLink\" href=\"../sets/cartesian_products/_theory_nbs_/axioms.ipynb#cart_prod_def\">proveit.logic.sets.cartesian_products.cart_prod_def</a></dt><dd><a class=\"ProveItLink\" href=\"../sets/cartesian_products/__pv_it/axioms/66321768f896b82968f6f3bbc5ba0b5e96a7f9e00/expr.ipynb\"><img src=\"data:image/png;base64,iVBORw0KGgoAAAANSUhEUgAAA9cAAAAzBAMAAABvZOYTAAAAMFBMVEX///8AAAAAAAAAAAAAAAAA\n",
       "AAAAAAAAAAAAAAAAAAAAAAAAAAAAAAAAAAAAAAAAAAAv3aB7AAAAD3RSTlMAq1RmmUTNIjK7EInv\n",
       "3XZ/CtNrAAAACXBIWXMAAA7EAAAOxAGVKw4bAAAMUElEQVR42u1cf4xURx3/3u67e3vvdvfWGI22\n",
       "BjaxrbF4ZW0RhT/KtoA2RdoVTW0s0a3GkNBElsTU0HKwbUys6cFtoqSckfKaNiRAyy0Yq0JsFxtC\n",
       "sWndYjW19syjbURKhRPkhzRlnXkz8+bHm7l714NjX3Lf5O29me98v/feft5838x35rMAEcTZscOF\n",
       "aYm1RMYw02oVr9A1bp6GaZKynWDc3WrVooFdulJX2lGYRmuSknqDniTbHeyr5aKtb2VfxiuwL7P/\n",
       "yy99MQE7WZbLb+mbkWq7bMKrPGGEuUWnR474Sk8uHmCvrUjFRF3bilZ3jRq8GBVGES3epkd85c/x\n",
       "APsfcnGbvhWtnm3CdPaEwRYtulxyxFc+58YB7GRDLi/UN6PVt5wzuDEqjCJaJIvkiK90FeMAdloJ\n",
       "2zL2x0ZGykJ1z4PnDe8sk8L8lpMs/kiP2ErnuTiAfVKOnglpoHXXu3L1uuwpPmND73qb3ZtRIc3x\n",
       "TBYA36NHfOXeOID9qly0UEd3Tlz16B5/wLxSrEZSTJzmo+nXAfqrtGBUSONvkwXAbnrEV2a77Q92\n",
       "Sgm/XQWELBzxlvqFiliNYlU+9T5v2l/F6MGYClmMFjCXHmCN+JKLHdjDXvuD3aGMzzJ5gC/CAvej\n",
       "PsRSNX4K7P+gjj+XddSgmxLFzt1XqQq1aysWfDBLj/hKd7P9wU4rfSiNLqMKXyaFAdzJaqwaDdcW\n",
       "3fI/gI3/Zh016L9EUYSlqkLt2opFIIP0iK8kz7U/2IOFMNgAr5DCdrnaQZHqA+C5wQA6qjgD66sR\n",
       "wWaumCynR3zFOd3+YJ+shMM4nkfs8AtytYWONznYPChTxXwKdoQwTi3mfOlE7u3N1GVfrN/ZsL/9\n",
       "wf6l+urxwNmEXuT+6DvrCdUAX0fHKg42H24xBfw+6gCNWDhfeAF9R0fQ+Tx6xFi2tD/Yh9RcRw4S\n",
       "559qdPoDMviuUA02HsttrTCw+UQqUJCVPq4YRrNz5yzQj7CFvasM52EJOmdHjOV5CrYflD49Ltgd\n",
       "fvpiSleXnf+qU7EmOHd419xISk9scnn11rMufLZ1HwO7o0pXrrhijSspIFNEH68B+whbdHipBhxG\n",
       "NX+hR4xlQYmAvRgXVowLtlWS5rZTMs2+qNbIAfieLTRdKlb3GZzZRXuCF5+uZmv2aBVsNG+xm/EG\n",
       "e9AjYD8EhgSiDHYKR4A1U3qFiVNqzRx9wzkRwF7zyI/dif379ahvJ2tFsHAqJ+YbZoaLBGy8eteT\n",
       "H/+djbOTe6Z2dhhav+jWd06h+sFVz+md/anVmuC//xoKZPYM13/C18Qba+jNEbCTBTEbZQb7JvS3\n",
       "PKVXmA2tTDr6COTULudlPEaPWINdo6Pxl0dGXooAdnpk5M36lF5hz4VQ1Tp9y3WX85GrkCPWki5T\n",
       "sG8D+IX+y5bAtqrQLb71HDAVuLiTukLrAkzLpZFMk4K9Gmx9TsiSwEaNVovap6umAn8EXpzUFXaM\n",
       "TqN0qcBuULC73R4lZ9K/pJTcr4KNuv+vpXl63lTgoeHUNNhtBnbCE8dnqSNDpURuL9weAvsGaXzW\n",
       "OeAZClzufmU6jLdZGIfyzUL1IhSQEzdbUO9ZtHTRYhHsriRCNPvOuq+QcUuXEPulAhfvXjGm/+p4\n",
       "JXyq1bPAEN4nONaO/Unu5Ne7juS0cqnMJt/Sb1oxD9BgD5pCJxduPJKdV4Uszh4kHv6mVw/17J7r\n",
       "0HjraEeN5KQ9S+jnUoE/Amzp2ZdnKoOV8KlWz+zD+wTfAiNRwFgfUfRkgDGdMirBtyd2LfeDycw0\n",
       "IRgnDRJ4pE7DjtM5BvZadPbk8kI6l82RVeJEde+1YbBtvE5W6Pb8sVhnNdsAm47i/cKyd9TVkrvh\n",
       "PTFkwABLUOPTzhsWy619/ThJFcwGMBAFjPWRRUcGGNspoxJkCxMyWwUGM5PMGq/BKuHBKOgc9xYZ\n",
       "2HgN4IF/Qm/VqvvLewhsK1sLgQ2f8M1I97P27b4AD1PKmF9oOOp4asm+mcLc6wAcgVSfy07TMCy3\n",
       "PuAvJ0pf2Rn1mreBkShgrI8sIhlgTySnAZWA7X2MZJYIUnmqmTq+pR3aGS+XlRCTgysFx4EM10Fc\n",
       "4pyBOlYmD3OHhobyiapTL6vzbCoD5I3ggY36HQXbL1RSDTWKw/pq8tabFs/CscA5Bz/bARmXndpK\n",
       "R/Yrg9ZkrHhaveaFYCQKGOsji0AGcP4ayWlAJaDJ+Whm1syKwUx9sVGQx03Mc4/UaWgNgS2EUHkR\n",
       "jsH6FDxKejYs89QMGnlLNZ6FolOHTvT/T/lg80J3CXbiIv3AQaI3nzgGB1BQQzUHU2fmY7DZKWwS\n",
       "GtNK2pqJusTpswEahjtuTHrIyskA2c+XTE4DZoJIJUi7EzD7zfNVg5n6XvkYbaZ9j28ZCZ4R7pE6\n",
       "TavZrNl5EWx7FPXteRZJkiVLkM1pwYY77jnhpv4AX83BU2dLGGxeuA11+3zqIAxU8Efe2g/Ond+H\n",
       "zU7ZyuNW37jxeAGDzU6tKj4ljSuskrRmoj7xmA2QMMS0RHnSYHMyQCZVMzgNmAkgUgnIZuZoZrZ3\n",
       "Mq83U6X5U/L3Ot1w8geuziN12qXGAn+DVwB2Zw5WwOp3wcabrjasADCATW6GnbwhFHpcFAz4P2Vn\n",
       "zUQ9kwxa4TBOT/dmBUfsjLam8ik1XNUVooCig9XPiVly++qj3tjwyu05GWAWXeAPObXFtyGnElBS\n",
       "bCQzC2YX9GahUR7dPrBEcy/3u1qP1GmPOhOeCaDblrRzaCgcVBSwv0X/bnwpzwurWk3oDC6BnTm5\n",
       "bKnjKGuVem8PO+1qfcBt2RlrTWWBEo3YQxsQBZb6GwBfZbrOg7BVMFle6R47LaO0D8gA6Mu/BrRO\n",
       "xd0bApUgWY5utgwG63ozdcBYSRSDiKPei/h4CB6p06QaWg7pwdYnYGSwC6ZCUnMWaqU91Y5BBpX5\n",
       "Jd5GKhEFFN3TBbw5/El6p84LYDUDcoBOSPtAAjJAKkdGkmGnYq5RYCUkGnozZ99HXNWsCOtzVKGY\n",
       "KfIQGwAfZvciSFn1yANCgzkWYtzFDw/2VImOJCARBRTdnQB/h9QJ+q1Yo5Cpc3KARvz2wrNFDzwX\n",
       "JXtXQ045M0FiJaRG9WYWhUgwy/580cwaVShmiqCZ7gk6KaX3IiS1X0YO/waCR64aZY6FThgDkoDV\n",
       "0IMdEAUU3SFw0NQ8QcFO12C4xMkBGiHtedinB54mO02t0+3CXNHjrITOht6st2SfV8x2oTlKkyoU\n",
       "MyV9jDrvMwxsci+CsqZ65G+XBnPMpSMG9J/OM/owHhAFhHc2qncuQnKUgz3swQJODtAIac8SxQIZ\n",
       "AA/+btU6zYhRnLMSiDZslnQJ2Bkx5uIlKKJQzMIpFTIzOczuJaAtoJFsyCO7Dew0oTw8vV77g002\n",
       "+XLBbACJKCDrnFPQUf6Mf6d4M8VwHj6eqPjkAM3eCvSWJO1ZolggAzRZull2CiIzQWIlkK9RYwY9\n",
       "TdkM5yT8LCtWKGbKdx4k3x+n9/JAQFtgAV7wGNwGdqrCSka6bQ62MhynswqBKCDrHoe+YtHHBTMA\n",
       "ur3EaxYhBwSEAJkZ4LdniWJOBsCre9BdDTnFEjATJFaCb64zgw2ubLYWt8FvUKyQzYILJB/+UuRm\n",
       "OiX074XTFhC8ecVjcBvsEIXw3OP1MxuppkoUkHVPHP/JjKqPSwbn9mb8dvW/yNoLLvphgjMDRlzW\n",
       "niaKORmgAwOU8kJOsTBmgsxK8L8fnRlbKmJm21srIbH1bJ0oFLPgAv0PfxKxEX9sYPcS0BZQxSfp\n",
       "tDXwyG4DO1XwisfPbCSVefLroBIFZB2Ze2Bcrg96oE8OuD6csnCVRLGWDCA7xRIwE5hgsPtN1/JD\n",
       "+JHezFf0R/sWMkF6ldIWfAB/NyInGNlt9IevpzsXB7DhPrmoTfLLqwoUlyAkEHJAeMkxWOVhiWIt\n",
       "GWBOCOyQ9GkWPpiZvfmR27VGRBFx7Sb4qSZGW9B6ZLehWSz6jhsLsAfk/QyYDWAgCgT19rPve/68\n",
       "iIhPDnDC89hdoCSKtWQAyalWMCshRKhhZulWS7+PzlfYUbe7s13rjLagnbmwfHctTPA5DLEAOytf\n",
       "H55emhgBUn1WcRNu7mm/0sfGcmqU0PP3Ic1Msn0C35imP8Tl5yzVH6pdB2ZGwCSZAnoyQCSnR+ES\n",
       "mRnE9qLfxtGw47tgYmDPv1I/Lt+Vh2mZnKTIkpuzY1dEsKd/XD6+so30U/zj8v8Hwh9j6Q33RbMA\n",
       "AAAASUVORK5CYII=\n",
       "\" style=\"display:inline;vertical-align:middle;\" /></a></dd>"
      ],
      "text/plain": [
       "<IPython.core.display.HTML object>"
      ]
     },
     "metadata": {},
     "output_type": "display_data"
    },
    {
     "data": {
      "text/html": [
       "<dt><a class=\"ProveItLink\" href=\"../sets/cartesian_products/_theory_nbs_/axioms.ipynb#cart_exp_def\">proveit.logic.sets.cartesian_products.cart_exp_def</a></dt><dd><a class=\"ProveItLink\" href=\"../sets/cartesian_products/__pv_it/axioms/c0ce8eb8933c92961f912dc440e89961bc796e3d0/expr.ipynb\"><img src=\"data:image/png;base64,iVBORw0KGgoAAAANSUhEUgAAAbwAAAAVCAMAAAAKCqt/AAAAM1BMVEX///8AAAAAAAAAAAAAAAAA\n",
       "AAAAAAAAAAAAAAAAAAAAAAAAAAAAAAAAAAAAAAAAAAAAAADxgEwMAAAAEHRSTlMAq1RmmUTNIjK7\n",
       "EInv3XZehM4hfQAAAAlwSFlzAAAOxAAADsQBlSsOGwAABH9JREFUaN69WomSrCAM5JRLefz/1z6u\n",
       "KCIKjrpU7WYO7IQ0hBAGobeaXRY52FXUH1BGpbUYWarkbwifNPHHzw2BitvuHmiGD9NMqg805TNF\n",
       "aMb+O/wTwiftZy3cfmANgK7g3uGbswh9TN4QGDHbS8aMQfSftpN/5/xUYmZA1YaQAXrzZrDbqZ2D\n",
       "a8MYpqIOS1/jbDMdQEF6h7N1RJN4TN4ImJ7WlypMIq2cZ92/krN/twzM9g1hA7hsg91O7Rx8gAVf\n",
       "uziASb/EXWk6gGbpHS5htQj1PGyOgLF1VjKWNjzvpdkvOuufEQ71I/mKUABc9h/rdmrnaJQNvGk3\n",
       "pU38He52pgNolsHhwKchz8kbAZvXV05CEBdhZoXVRxXqD3s+Aly2wW6ndo5uSnPwQCIPze8svb3p\n",
       "AJpkcDjNM2xCL5DXByPrV9ylzlIijnOkFdh2R70iFAC5YdFY+Mdu7X5ndt7borKyqVi3A9rGTAfQ\n",
       "JKPD5yW02bxBXh9sy0i0c+aXbHdFOAKIlD6LXRbd0NPs19TCLdbCWL/1SGNUN+PhC2QT+Ja2MdMB\n",
       "NMnocBa/VnfWuTklrwtWTEnqfMPnaRJbioYbCEeAOPbaSw09zX4tOw1SIZxrF/I90gml0mKcIXcb\n",
       "bF/bmOkAmmR0uMDwb3zyn5K3B+PGWmp39pTppLbKudt7S4FwBPCjP3qpoafZ76iFc7SEOCacja4c\n",
       "CJvJOjLf0jZmOoAmmRwe1knniC0WFvfHGXfI24GRMGK5H/FcKWKO3ySvQqgAxEnlodYjOhWKpEX7\n",
       "NccjJyGWsGk9RhQxYQ8zx571qMVIPaRrOoAmmbwcfDydRwIVQj3ByHirmO6RV4KliYLbrqcQ1smP\n",
       "5LUBDh440TNGXqANrbRd5wUpq1BJD59fIK82HUB5sfK8s6k9O2dIqJjYQJm33jDGFv/HT8pjBVjK\n",
       "lUQz6OnMqXD65p6XEdoAh9hzomcwbPqpF2lbTMz9BLrIDFzUkMkjy/OweTAdQJPMDjckn8/qAvFW\n",
       "5iGScGEhU7lYeRtYOLY6RVslg8IQdjvLzQhNgOOu39bTTyHAzrjaUuz0PIqLk3vaUnLYpOp5wnIw\n",
       "HUCTzA4XeSurC8R6s4BIHzYJHyAPwCIgYa7KhCDdZXEy71Lq0VQXnwI08u2mnka/VBrJBZLtARGP\n",
       "ySlTUQZdzbR4xoVzXjlXBrSNmQ6gSYLDc4IrqgIxpyV5njKr+uQBGEohhlcZmoTp5E/mDOMfyjoZ\n",
       "oQUAqsVUJMYNPY1+aGHb/00Lj8LGTzmzl+Vf7jcTOAou/Ja2MdOXHfghx9wXiOmkYiOJPG0gFTFX\n",
       "5K1jIc2ywvNrqDcvsj7SIpYPLALQLA8O3xeIpdmtPE+H7VVYynwDl2WfLbo8rtm+VfX9UAujH1gE\n",
       "oFnWDq8LxFulJN2FXV2VHsmT4SrqGGjU44tm9ScX6Q+0PL2huQQFWTu8LhAL+FWCXNIF3R3yzpp+\n",
       "PDKt/oK8B1o+mV0ACrLrcG3CnjdEixn+UYV4/CsBYf+CvZ+12C+4A9As7TLz/3z5LXuEFF27AAAA\n",
       "AElFTkSuQmCC\n",
       "\" style=\"display:inline;vertical-align:middle;\" /></a></dd>"
      ],
      "text/plain": [
       "<IPython.core.display.HTML object>"
      ]
     },
     "metadata": {},
     "output_type": "display_data"
    },
    {
     "data": {
      "text/html": [
       "<dt><a class=\"ProveItLink\" href=\"../sets/disjointness/_theory_nbs_/axioms.ipynb#vacuously_disjoint\">proveit.logic.sets.disjointness.vacuously_disjoint</a></dt><dd><a class=\"ProveItLink\" href=\"../sets/disjointness/__pv_it/axioms/be31749269034760e1e677de7ebbac06cedb14e10/expr.ipynb\"><img src=\"data:image/png;base64,iVBORw0KGgoAAAANSUhEUgAAAFUAAAAVBAMAAADFg78FAAAAMFBMVEX///8AAAAAAAAAAAAAAAAA\n",
       "AAAAAAAAAAAAAAAAAAAAAAAAAAAAAAAAAAAAAAAAAAAv3aB7AAAAD3RSTlMAdt3vRCKJMhBUu82r\n",
       "Zpm9SALjAAAACXBIWXMAAA7EAAAOxAGVKw4bAAABoElEQVQoz42Tz0sCQRTHv/7aXdfMNSgJCoSI\n",
       "Lh6EhAgyjKCzdgqCWj1Ex+4J7rlAN7rVISG6RIc9RnTwEGRQ2F8gHroGlZYgaL3ZWcVkIx+82Xlv\n",
       "Prz9zrwZYCjzIIlhbRIrfDIWgyfOpxmNl4n/Rr0qHM98pQF3hycr/FfdEFDN8ZD8micaAK8HyUK0\n",
       "rs6a+Xklr/bYP8zB2Si5S/uHzZms16DBR4KFdKiBzSWI00FDmNGRD76wcH85NaV4K5EHwkaZaqEE\n",
       "aREC1b3FARBGQRdnISsUIqKLn3CadVlJ+A3IBjsHXGFVg4KA7lQhNinEOdC2WKfOhERRUCCZrLM1\n",
       "DmJzlP9i7CXwbrGuBA3iG3JdVsp814g9o3zLjnX31d2Av2nV7fSxQk9DGL6ipfcIeCLWVYO70WN9\n",
       "Jkubpb0RGMNIm60ca7ggVlyAT2XgDWMFQ+DHxQ8unw59lLLz5bXgRIJYbO3cgcJs/f6kXsLjLttW\n",
       "mAlJDPQpoNu2b458fbD723u2bNW6P30mR0/tr4WchKc48FLSZXtWKjJ8SEuBmvoD1+h6pR3OkfYA\n",
       "AAAASUVORK5CYII=\n",
       "\" style=\"display:inline;vertical-align:middle;\" /></a></dd>"
      ],
      "text/plain": [
       "<IPython.core.display.HTML object>"
      ]
     },
     "metadata": {},
     "output_type": "display_data"
    },
    {
     "data": {
      "text/html": [
       "<dt><a class=\"ProveItLink\" href=\"../sets/disjointness/_theory_nbs_/axioms.ipynb#disjoint_pair_def\">proveit.logic.sets.disjointness.disjoint_pair_def</a></dt><dd><a class=\"ProveItLink\" href=\"../sets/disjointness/__pv_it/axioms/f14adaabad7a4e2f200a61c0eb734bfa1255d07e0/expr.ipynb\"><img src=\"data:image/png;base64,iVBORw0KGgoAAAANSUhEUgAAAWIAAAAXBAMAAADD6liPAAAAMFBMVEX///8AAAAAAAAAAAAAAAAA\n",
       "AAAAAAAAAAAAAAAAAAAAAAAAAAAAAAAAAAAAAAAAAAAv3aB7AAAAD3RSTlMAq1RmmUTNIjK7EInv\n",
       "3XZ/CtNrAAAACXBIWXMAAA7EAAAOxAGVKw4bAAAFA0lEQVRIx9VXb2hbVRQ/eUmb5KX5U5miKCYi\n",
       "DGQTI4zhPrgFdOoIatAvQ0QrKtKszAxkUKw2Fb8IqwkiVkTaCCoW55qKfz6Uuab+YVaUTDcY07DM\n",
       "FvdFslrrNhWt55x778t7N++t9eMu5L13fzm/c3/33HPPuw/gMmnF9ZkF1+mu8H/YBU+CtzfjtjrD\n",
       "awr6eX2CYym+7dfgrqaXsQdBtkc6kNDY2wmGyWWCkBvdqUaVRvgpB0Np7kdOCVx2rbZJ3J5Wff/E\n",
       "b71XvQ6w4OZ0kwvByYuldU60EjgqYHS5k5Cn3BW/y9fhHDya4SffBYHLLk6Br2afmN+qRewpAySL\n",
       "0F3p9EnGGuHW/p1OXl4n3QTRbcAwuhyh7Ci7K76Dr/EcmBKQClQXnuFrQMQkkLQScLjJ0/JnOn2S\n",
       "sZMwetZ8Me/gbdFJWRgcBobRJcUhknJXPKsUe7VFERnR+fSItZ934NMOHH1edLvxN6LCqBNCpHZ/\n",
       "xc7r0dfmB1iYKgh4Hvxp4dEtjfvWUBxa4dtGURma56yJJ/E3gAF8XHQpn8NyOht1go/+8DftvG49\n",
       "kT+H/FROwOjy20bjG3dBAdp4M61SLjiQgJe3/wKH58C8b5G6oYG7W9fDDf/0pnjN2BpusQb6GuCt\n",
       "k3ifFhOjpDPzaoE1QpRNMnZeJKEpWYZ6PCVgdHkPwBv2JG03mtPBFBzB2SXMMro2l2G0AOPYhegV\n",
       "UCrAcbYTkXwASlUV+z9bZxjcyt0DGJRG46uKZewgsOJgws7z8+LeS6zGMVZsVFExw+hynzQ3j7Kf\n",
       "l1ZmdskFjGIAX+NaEU50zUOM5vojQKkYTkB4FuJpqfh7vmZgWIUmhjVlM8VvM/dEQEKvWMYOgk2x\n",
       "4hmzWux+D+QwKxhGl+FKhBM1sixqYh1iktCDReJfgClSDKfHMS+XQ2gUr5LiMsSbUvGXPNqrdyZV\n",
       "ycHpQOQiPpQoEjWJHkwoYwfBpljxQkt6HkcpbgyjS6MpNt7u70TNxaK0ZCkOWYrfP71Cq/MHKi67\n",
       "KT6Ef9TlAHEc349MeJh6+0SyBPeAQ7Ei2BQrXpce470jUKoImFz2bWe0+ZiQmYIP0lZWWDEOVqj0\n",
       "iBhnbIqrapFx60TVQCV04MO5wc3cvZ0TslF0ZoUi2BQrnlHX8vijBVLKMLn8kHdxDO4SRXxhy9Vq\n",
       "cbHk9Ms8NprgS2Mef4ElPmcpfoIVj9MLn4rkkty+5zCBSrRNtolEy9jeq+Mawa5Y8fz6G200DzMS\n",
       "JpdDbL0bfhUBAXODegfjH0M5SKZRnzEP4QIqPlCEPSS3mxV/woqphg3RDC+AeZ6IAyiIS4MoY3Al\n",
       "1TJZ1aedBIdixQtU9TpbN09JOKtKOGRnkhyfDRxUsbtxFcxsq3QsdF3tnc9aH1OtCGanc9h9L1l7\n",
       "YaIGvmuJMwowuZoHY+J8FRoIXLPa29vPb5MT7fPJoAqXRoAwFypaBosX1d9Z/r2LFQmfsM6AKJSV\n",
       "z+Gyq7ftSeio5G4tajttG/aqHqy3D8qmzTi6xvH8OR2IFBSsXAI8iDsqZVYh+BeYxxWonUgWgxdd\n",
       "B7AfeCL6qcfN2O2E1HkCc4Utl4EamPc/GZqDrX/P7LKOB2Hn18Cb8qDR0cbaj4fs+KCX8dilv3zK\n",
       "3rDu0tDOsk7qs2cq7kNMth+bHjNxGk9eUnG44A3rLh/S+s+v83Ow6f4xVfAy9iDIdtYb7nCZvgw+\n",
       "qv8DizKGo9G6KfcAAAAASUVORK5CYII=\n",
       "\" style=\"display:inline;vertical-align:middle;\" /></a></dd>"
      ],
      "text/plain": [
       "<IPython.core.display.HTML object>"
      ]
     },
     "metadata": {},
     "output_type": "display_data"
    },
    {
     "data": {
      "text/html": [
       "<dt><a class=\"ProveItLink\" href=\"../sets/disjointness/_theory_nbs_/axioms.ipynb#disjoint_induction\">proveit.logic.sets.disjointness.disjoint_induction</a></dt><dd><a class=\"ProveItLink\" href=\"../sets/disjointness/__pv_it/axioms/da1727f8601009f71456048fd617c96f91b3a7cb0/expr.ipynb\"><img src=\"data:image/png;base64,iVBORw0KGgoAAAANSUhEUgAAA1gAAAAzBAMAAAB4arSfAAAAMFBMVEX///8AAAAAAAAAAAAAAAAA\n",
       "AAAAAAAAAAAAAAAAAAAAAAAAAAAAAAAAAAAAAAAAAAAv3aB7AAAAD3RSTlMAq1RmmUTNIjK7EInv\n",
       "3XZ/CtNrAAAACXBIWXMAAA7EAAAOxAGVKw4bAAANPklEQVR42u2ce4wbxR3Hf17bu3vr8yO0IKAQ\n",
       "u6KNRAPEUlPUSBDMI5AQVNzwR1EbGvOoKElUHAmlDQTO4Q9UxJEzqDS5CHJGpKh5cYaqtM2V5C4Q\n",
       "CKGAaamo0pziUygQmlyOy+tyIXHntbuzs+u1L936zmpGOt/OeNae2c/8Zn7z3d8awD1t2LABzqaJ\n",
       "kOogsbdyxMMvbMmdvehjTdoa+r+rcqJW1b97+sVfGfMZWe97n20yWk8W2MGMhsLyFcd6RiRB/i0V\n",
       "y5fWPlXJVHnjx00GSyqNC6wrhfzBHaC8Tg9fo8NHz+ppKv13v/hJ99f+MnlILJlRmTTpvhxEkk1G\n",
       "6+XxgKW8JRYchSBbEuN0cgoaKyQxQo1ah1QRB1ul9rdNs8GCt5FxjwAsbDJY4eQ4wAqXxZKjAGxC\n",
       "1liJPj8rKfwaoM0MxIV1xlbgkK49bhssp+lomN5s8+CucYB1FTjAqrZYEVitNPOHbYIXaSuwp9BD\n",
       "I2KRH5X4EbBWNiJk9LeiGWjdMw6w3hkDrA4Cawq1iPKhhNVExAKH9Ehk2ObfoIlRRlOxzKaVfc2y\n",
       "mViQbTisyKgw9rd+dhSW9oG6bzAT2pOAdYOzcPaxNx4ZKEvxD85BVebSSQ+mWX0CW4FDSkmHxaLW\n",
       "PGgXIzihGMmqeTz9NsMCJscaDiscs272tkMIWdadsB6gBN0J9SNoKaMsfJBQj0OYWNbdpOY86LD6\n",
       "/LYCewom1JM2a107eB6G7KduS/u7/Si9WWiCRWu04bA6rDNOSwZ7g/AUzC9AGaKJcBHUEZSFZwEO\n",
       "M1h/pUYCbYjzC+a+iRRoPZNcrnMAlC/EskNZkPDWQOolhk6VAfXpJhAxTjcc1kXWbHcZNAIrfOJT\n",
       "QLA60DJ0EsPqBDjNYO0gV/VXN8TzoA6WjPmUFAQgUKr+ZftvuNamzqBRANgzUbFTr/Wx0k2xiU/r\n",
       "uYbD6hMMTYelvVZJIVjT0gAnnGC9hFCWuI08K4imlZHqYxHtEk6JhdjUrkFvBIllLaEzqbKoCRat\n",
       "a7INhqUermJZD2KfmlrWEQ5WSJ8GEbZwLw+LFvgLLrAC6G8P2lF9dzC2bzXfgHja+KSr+0lqBnew\n",
       "O9lgWBFhkyrn2Zp1BRZ4o4nWFASPGrBkAmstdhWSVDrCl5hsnfUCCJWMvTSXyEJ2G5GktO+8jux5\n",
       "gJ2HG6Aeww5Gnm67iPHe2wwbrdZYg2G19Ap6wg7wHcZoLivAKgRL3QlyEZO6D8MKZUJMFVuOzz1O\n",
       "YXVnuAIsR5MC/KId4w8U/F1dWeWlDIxg/59Uk1HhfOypB5greS4+TjcDrJYShUWYXeIGq0aNukdH\n",
       "XihYt/WzU7EVf7nwR4P/TiNY8EDPuYCyK748/9IvYzBpC8YBsL6yEKSuY0UCK7ybK1DW0AK6vn2o\n",
       "H/QXQOs6VoBLK4vAV1Z78VyKq/m6vph0HnH9wgzQi+hvWVMITqEhCmuW+1yAYM3yZrboTrm9G3WU\n",
       "JMLcgkJWmm9xbz4AP7cWsHqcQ9+ai+SVoZxQ7WHdtgGc5tEJmPxHKSwsjil5N1g1atS9zSq7rGep\n",
       "Nsd13p8SYHF7YWX1L2+2FOijkDtuQ7blz6eEatdDsyX1NIUlo4EYSrjBqlGj3jQt4baeTXF+Y5XJ\n",
       "5tWTZeKRG1ZTqQxZCkzH3kjfBzmrTC5Yq3kw8Bq+Kz5CYfmTVH6uDqtGjbr3Ci4+srL1Quc31gsW\n",
       "aDNJ+ylOBmyp1pJtOlhki4i9wXf7+99x9wbda9SbDp3JNVLK3nf80+ZjBScYrNkAa9xhGTV4La7K\n",
       "ylxdrttWgLPpTNObDNYSUAR17OG5aX8fB0uvoe3kKm1ynNUsVeDxIz1zjGq3noV15qmfwWophLiN\n",
       "oTrQmZZiW+BmDpZeI8Tfztvm6C9YqoC/BBFjKxx3cPbGdUfq6/9owkE52J8gUpmY9jBYUpn3Hm5A\n",
       "liDNDBi+Loal17j9PbNesN1xNeGroMuRAv+QC6xvjOuFkSeiCSFvzslb1WFBZiaqc/3KgcgMFqYl\n",
       "PfqDMg+L1MB+1p2cfyU73lngqyDvOgGbk9WnQRa7VDt54r4pEwZW1qWB2PWeWX0ahFcWArwwP9ka\n",
       "i8SoqyzltnzTAuuVhdT/vZGjEsg4usg38tm2fdPPN+dNWxtb6gzg8ybSM1ieILAiVTacpIEYVrhQ\n",
       "1cGA5chGHvwEorlAkajVCFYgkudhLSdWdDscAFhGPyiYQ4vRvI/FNYdUMdPVoH3VdN1tHsly0vQ9\n",
       "aVhOqYV2s3IBokeRnvvssDySPS2rTl2BqzMq78HmL+9iUx9WLVfTBmJYEfuk1afD8uGrOBnaIZyA\n",
       "Kzs7OxNSTitmeFikBsztiRfUy2kDAj0vj0KvJsZR4ipcFpFqS1ffFNNwGFRjAVWVfOwmyoKURTny\n",
       "KtJTZk3T1RjZM9nTYsvVA1f57sQTIBnyDNa44znSQAxLG7V96hEdFkk7YT+0qfAEtSyYV+Zh6SpA\n",
       "W0430TIoI5BVe21CQVvOf923Z02lYLajC28gmmZz/WggWjQtRngaW7gH6MDwKNJTFxo3ZwxYHsme\n",
       "Yq+EfhQcutORZ1kyXstkhOIGYlgsTohf3U/ysJQhZFszAshLpx61YYkmrNuINI5gaUVy/w856S1p\n",
       "2Iiz7IVWkfbDDqmIS5RR0D40zu8QVyh1VIdVLX1Mxx3N/PeRniywdd+5BiyPZE+HIVirO/JxLWZR\n",
       "4nC8wS4Ga454pi7kssUthmaDJZ+Dgu+BP3kvm815WIE+0G79CYalbodbYrDuWBpLG+0J9S1oz+KX\n",
       "BKuyWssEErjWlSd75phXIpoSF9pSDVgqnT88i/RkA7b0uAHLI9mzPliW7viPPG++g3c1i7OkgQTW\n",
       "AfFUadgyDeppY2dnWpSb+ISnQUkftwU0GswLph+VpGLYb9YyzhTdRx8u6BnsSCuLY7By5ifw2nbQ\n",
       "vvcxzqqLbxqcDF8/NSkBHkZ60qcxpKKcNbxBb2RPzpRdAlct3YH3Oen6bYDn/0EbSGAtEN1BGhIx\n",
       "1tv66oFXAH6oe2OVEgSNz9WPtFgk7fvUrGWw6RU9d7RYbErAtjTIMS0PYdCG4cksrMUBqOFzoCML\n",
       "H3IG4UGkJ33iSM5KKQOWuzA65uQeuMp3B7aZOwn1xODA3ayBBFaHOL/7hs4EFkn8gPY7HNlrkfdF\n",
       "Hwdvq39NvMGWWHAX9k6G4Z+4pS0xHLARTbLeeRbpeRl5RU7FbgOWXRgF/+8sXoE9Y6Ixjp5g6px7\n",
       "4CrfHYiXLHZzWZI2kMBqE1cGGhLRyFA08UGBcIqEmnZjWLB3LZqbhnGdaBHDykO0zHrnWaRnB3lF\n",
       "2/RBAxaVPaWuVXCRvn1vtyvSVnnaSctmz7u5B65y3YHAEnNtw6FEoRHaQAKrW4TVVm4wLDHIE1uW\n",
       "asDauBctv8MS6kE07wTLi0jP+fo2Z7MBi8merSm4Cf1becEzugNgUaRDw46fz2nZ7Ea3e+AqD2u2\n",
       "ag6jaIw+ioQbSC1LnAYbHuQJt9hhGZalFLD/Si0rxcEqgoeRnpfrW+JAwpCbqOwZGQ2hmS4w27zu\n",
       "FkXaKk87adlTBMtyDFzluhPKwd4sv6nxHaUNpGuWuIG8GBoNa4Fg3L48iREka5ZUBl8SrVlv4GoG\n",
       "rHtI77yK9KSdDRuKoWzKnvDGFkOPmmJXpK3ytJOWzWC5B66a3YF/IWsp6u3E99A7MrSBzt5g4x9M\n",
       "CAsbLXyra3ka4kmERtqFQyOGoT0HizApmcB6lfSurkhPI8izeqQndZqJJa02YFHZkwiXWt70GS2K\n",
       "tCBPO2nZd7C9n2vgqtmd9eggOsraCYvR2CNPHs1lsK5y9s0aCUt0B4O4tXMHOz5QL+r7zdbB32Nv\n",
       "UJn7chplfxvve7SrD3xfw12oL9LTCPKsGulJ+0K2NysNWFT2hD+nqLEiP+inomhNMsErZomzYM68\n",
       "sQry5/S/a+Cq0Z3H398J6v2nUqSdcAH+EYEEu9gE1rXiMG/8w3S2x1R3iBWc13GvIj2VUtVbJKGX\n",
       "0MDx39fZ+TSsuFAUrUmmFbrFFRFr2cb3/cyh4bUDVy3tJA101AbH4TFVuKbgpLqb0lkVX8GrSM9A\n",
       "siqsLXixVOnHDIiiNckozKXnZkGsZU+/ZPq8P+p3e4RZvo7AVUs7SQMdVfenoPGwZOGiCt1/Vso4\n",
       "n+dRpKcY1m7CChTgUEHXMqbworUhTwM8w0nWhpZ9Rb41PdV0MCwCTe3AVWs7SQMxLH/Mvl40HJYq\n",
       "/GiJzzpNPDRQRYzwKNJzVTVY6/oLWhxNPctyDJYpWpvydCCHtWkqWWcNLbsl9yJc5wyrrsDVsthA\n",
       "cqdY8NzDiXGABfuFTWumvtOUshdfHslWtSy9PX/qfIa/7mQa1AfUlgivTetHYZgKpaQjrDF3hzTQ\n",
       "KQZjXH4OyPZDW1NhPFOVeyN3WERrXZ6WK6d4bVo/eh7tmCZnxwbL3WW2RzcFM/XC+punPw55l9Cy\n",
       "cY0blJ3jBmXLwPc7a9OCr6Le5VGbDu5J4hXUkh6j+Q0b9tc6+//wxyEfHfspv/gfNkf/WZWuyon/\n",
       "AOsTowHPKEIGAAAAAElFTkSuQmCC\n",
       "\" style=\"display:inline;vertical-align:middle;\" /></a></dd>"
      ],
      "text/plain": [
       "<IPython.core.display.HTML object>"
      ]
     },
     "metadata": {},
     "output_type": "display_data"
    },
    {
     "data": {
      "text/html": [
       "<dt><a class=\"ProveItLink\" href=\"../sets/disjointness/_theory_nbs_/axioms.ipynb#distinct_def\">proveit.logic.sets.disjointness.distinct_def</a></dt><dd><a class=\"ProveItLink\" href=\"../sets/disjointness/__pv_it/axioms/8f3d89e15fbe2633aedf18c36601466c977e8e320/expr.ipynb\"><img src=\"data:image/png;base64,iVBORw0KGgoAAAANSUhEUgAAAsgAAAAXBAMAAADkcqSWAAAAMFBMVEX///8AAAAAAAAAAAAAAAAA\n",
       "AAAAAAAAAAAAAAAAAAAAAAAAAAAAAAAAAAAAAAAAAAAv3aB7AAAAD3RSTlMAq1RmmUTNIjK7EInv\n",
       "3XZ/CtNrAAAACXBIWXMAAA7EAAAOxAGVKw4bAAAHaUlEQVRo3u1ZbWwURRh+e1+7t9trD0xIQAJH\n",
       "/GqEwsUgBmPgDBUwFXLB+EdJuIjVoCQsxphUGiiEH0ahLSZIIAYXAYOWwJVYjEKxiARSohZTDKk2\n",
       "XKWSqHAhDVgCUZyvnZ3Z2927tuAv3mQ2M3PPvu8zz86+M7MHUNSunIcRmnKHcXf2bgOVvWmh401D\n",
       "/Fl7QYzxSBFnkiMKV1gpSb/2EQ//tzuMc7dwbkS3VSRQqTOFHnW82Lr0oohev8PfmeSIwjEvwq0d\n",
       "4rjvAX+Ri2NcLZDF4X9NQ0OS9wlVGTcKu+gyaDuq3useeSoqM2RponGB1E0ZvsWXgsMRhV9kpR2e\n",
       "wV2v+YtcHONqn5LrujQsS9EOJKZVpaYLuJFbxCzss6OWDdEeHpkG1TLo0iHfpHe716EQCkV+7WC8\n",
       "cGmH9ThztPiLXBzjavPItTINGstUaJiahHhLwI3cgqnCPjsqsEegyUFDybsuMuaFSzuRWk/4i1wc\n",
       "42qd1nCtd7hAjAEBNwrrchXZy2jQcrjrIhNeXVjAIHqikSILX3GMa0rOOIbb7BRZvSbgRmHLhyMy\n",
       "DQoP/w8iL6cF7Ry+7+s7U2x3URTjZiG8nh3JN6eVlXFomnMpMPnsWFRVVy7IT0Jvb+2RxJR/xiQo\n",
       "TstPeP+QsH2Smy52oH/fEf5utTl/FaJCx7egLR5I88g0KNRaUgienCKLNIqLLFHqsHi1EQEXAuwo\n",
       "JnJRjOt6hOb//gR8k4ZIXGuBGMTQTI7EITYWmg1oSIRPQ4+FC0F/bpHwfOSmi6UqJoW4JLPwZVEf\n",
       "trO4KkXVBmGzATvtyD327J8ve6oQElcoI9O47EtnvpPSZYvXLCLgalDiLrdlRZE9MP4WQ4/1Q7LO\n",
       "R+PhLqggIqNdUrQTKpPwKgRO0fFi3BMw17zPvtXRdFnrjODNMr4nm+b4VYoKg/ALSlWNPDIV+Se8\n",
       "Ep+QPSmDIO01RRrr/NYkpyMGn0YLEjBq6mL+Unra4SmkaEoU2YEpzcrRAv8vwEE8XLiw0+Ait0Bl\n",
       "TruFIT0MB41kLmiz2K202do2wTOxkpnGk738oxwVBlWkXWXWisxEPomGOi7NPe0m7na9bPlYXeeg\n",
       "oY3zVll0ZHHA8GbKDQkYyNlrWtP4rTBFN0OmQ2QRMxyRVT7c1gvXJJHxL4LIAD/g8Ff4zbiZAp+U\n",
       "US6c85Y6noAUFQYD15HILYUiw8Ydlic1T170w3wqqc+aMg29zmeotiOe0usYr6X0yJyZw/PQQnyy\n",
       "y6V0cIgsYIaVLvicUkyY2xhDjvlMvkZFztJ0AeEh+Bygmh+VcfM6rGv09L7M0PgZpFrOyXJUNpNT\n",
       "gshZli7oMY54CnQ7Tnnk9CfQmGH6jXWLkxKBV9OCBTz0Okoo85oG2Pm06qG1OnxR01OTFkTGGMgv\n",
       "GLA+oQhV2xydUfRgV7DsGMhBWTIiiIxyMgTgFTxehNO2lnXiajU9O7Dmk3h0hWPDp4rP0hPRyY2y\n",
       "BpjtQEhRUU7+DgmQ5pFJULQS0j0A9URF1jvtUwvaXYg04Kh4sHGwERxZlI5avGZTARvQM9u9NFlu\n",
       "aORQV6V/8lLBTMaYCmN8hOUloSp8L3B06uiehjRMTqLBBbogaugZHY8zQoaKFpYv4TAeL8IFbuzp\n",
       "DCeIyNrfwJuIO27Sy8GMUJnx3nOwhLK2tmOCSVGRyJsa4Q07MglKt30dlicmMskZBzNMZIEG25PJ\n",
       "RHhLcGRRIvBaWrCAZeg5vXMJKs0wWRurIPVHgcgYE4SdKigk+5DqkgF5MSSdYmrEO83afPNZdeLx\n",
       "vcfyyM2Yr1F13+TjGz4+DlpN3oCy+02C0xbnHnyMvV99Jm+qvaRJczfO6LSCevfkA/MSlDXqOeec\n",
       "XVLUQVBq29J2ZBIUNjNtqCdR5FivNZMFGmyfjNlwIpyN4MiiRODnaOGfMSehDB1csX37B0jk1kiB\n",
       "yNSGADb08mqndtUxuCG5Wep3aBuHRQ7Yr2S9KTUtexRE1mhx7/Z1P+i+YjRKJwxBZOpfOJjUc9U8\n",
       "2XQ4KJEOzAsXLuBpqFHVLJ3J4enOfTKbmp0KQC+vGqrjowPunPn8VN6eWaLIMyWRdXtnlFIMoemy\n",
       "hces2bcezy8Vyg3vr0ruImdlkQkNBvVi0+GgRDowL1wsAZWrcL6KnuoeB+h3/WjfoGdCRORWVo2m\n",
       "UVXLWhfSOb0lZq98Rmki2zgs8gF7Br270RSaPBnwnRJlDfV+zj/y+jSyTTrGEZHpRpf6t09/hAbZ\n",
       "MYMnm8sOSgRez4olYDgOfyWhHr1C6s8oVbqKHPr92J9E5E0JWl2Iq+op2GTgC+0sa3zbjl/i11GO\n",
       "W7PqGIC92fzx9m2xyRdY+z8RwprI5Wlr+j32Xp+Jxzjl8C0UaH/S9m+f/ggN7QSpe7HhjhglAt/G\n",
       "ivzXkvbV9q0uHz+k3IrTBfWomzmrCrwzBhftv23WlpgvSsV5/PVjjOg2BbFXnha3Q2vGSt+6xZbS\n",
       "5v+lV3ZE4ZgXLldODpda05kEhOncWHW726riR0hru2BqEu7Z6C3oVg3e08XT/gMEprCmefwX+QAA\n",
       "AABJRU5ErkJggg==\n",
       "\" style=\"display:inline;vertical-align:middle;\" /></a></dd>"
      ],
      "text/plain": [
       "<IPython.core.display.HTML object>"
      ]
     },
     "metadata": {},
     "output_type": "display_data"
    },
    {
     "data": {
      "text/html": [
       "<dt><a class=\"ProveItLink\" href=\"../sets/cardinality/_theory_nbs_/axioms.ipynb#empty_card\">proveit.logic.sets.cardinality.empty_card</a></dt><dd><a class=\"ProveItLink\" href=\"../sets/cardinality/__pv_it/axioms/c8461ef3c312a771af56f5c8e024224fedeb55c20/expr.ipynb\"><img src=\"data:image/png;base64,iVBORw0KGgoAAAANSUhEUgAAADkAAAAWBAMAAACIzClVAAAAMFBMVEX///8AAAAAAAAAAAAAAAAA\n",
       "AAAAAAAAAAAAAAAAAAAAAAAAAAAAAAAAAAAAAAAAAAAv3aB7AAAAD3RSTlMAIolEdjJUZt27EJmr\n",
       "782vM/RyAAAACXBIWXMAAA7EAAAOxAGVKw4bAAAA4UlEQVQoz2NgAAFWBhxAAIjTIyA0JlBmYIiU\n",
       "2gOmsct2MewNwJRV8hYAybJNYGifgCHLl8DVCJLlVmCc+AFDtoKBQRMky1HAUvURQ3YOA0P+AqAo\n",
       "bwHfqs8Ysr8ZGOITgKL8CRwM39BluUCyBWDZJJjsjg4Q6AGyGD8BZR1AsgWbuTBMBssqgO1tYMSQ\n",
       "5QLK2oP08rkeYP2FzVX5IFcxbSlgvoBuL8NMBoZ6kI9Y+xYwKWDorWVg2AcO5x0MKxZgyHIkcF0F\n",
       "y9a57MKMI65NPgFgUUVoXGGPQQbayLqi0SgAAHw4PCSS1A3HAAAAAElFTkSuQmCC\n",
       "\" style=\"display:inline;vertical-align:middle;\" /></a></dd>"
      ],
      "text/plain": [
       "<IPython.core.display.HTML object>"
      ]
     },
     "metadata": {},
     "output_type": "display_data"
    },
    {
     "data": {
      "text/html": [
       "<dt><a class=\"ProveItLink\" href=\"../sets/cardinality/_theory_nbs_/axioms.ipynb#card_induction\">proveit.logic.sets.cardinality.card_induction</a></dt><dd><a class=\"ProveItLink\" href=\"../sets/cardinality/__pv_it/axioms/30e1e12878a55096e65f4f6ac2b61f2c91236c0a0/expr.ipynb\"><img src=\"data:image/png;base64,iVBORw0KGgoAAAANSUhEUgAAAV4AAAAXCAMAAAB01dc4AAAAPFBMVEX///8AAAAAAAAAAAAAAAAA\n",
       "AAAAAAAAAAAAAAAAAAAAAAAAAAAAAAAAAAAAAAAAAAAAAAAAAAAAAAAAAAAo1xBWAAAAE3RSTlMA\n",
       "q1RmmUTNIjK7EInv3XbPqdvtPAm6/gAAAAlwSFlzAAAOxAAADsQBlSsOGwAABAxJREFUWMPtWYmO\n",
       "3CAMxdxX6MH//2sDBAKEMGG0bUdq0e7KSYwfPIyxWYQ+tInjd6FpxjobWPQm38YVC+Ne6vBXmsP7\n",
       "H8OWunCmu1cSVPXqiblb3KdjYa4RoHzA5HPYxaadEqbUGERmU8ReD94qWGLoHvdlZ7klfJdpjAIt\n",
       "3fjnuLPmLR8qeIJW/ng69WhF3jayVL99Te8Ed95ZA+V5eXle5iDIvLxCfY7zUtJMkyYWSZo8OhkT\n",
       "8LX0TnC7zuyy1V2ml+Q1j0Im2+DPode2fHjZhLXfR+8Et+uM3S29yNYCOdaBf1Dk5c00mU9DlPI3\n",
       "0zvDXaCXk1qwW2jWfFBsMM00tfdGVp/n9GrnQEtzbMYleme4C/QaqAUaTSj9aOJDcfj8ohF5/y0v\n",
       "f54S8XsDMaeX8jIOBw7RpOXsiF66VQ0e4S7Qm8+IJMQx1gOtI7hxjriTier4U51GezKKjYYBEQs3\n",
       "FKoxQOIPd3xop7y3U3qFTdwQEWjRCNKj8Pi5985wF+jFthGC446hoxHp0T29p8bxSTpQajeGAZnd\n",
       "Lh1siqDy7fsYIB0JbMAH9eyeXgH8+CorR04pE8dP6Z3hlnfJ863tPL+it8wnCWGOfHKSwoTeU0Md\n",
       "uYzMRYoL+3QQ0aMK6DHAYJrHjtXFD7eqKisSraKbrVzLcIbeo7fFXfBeZluBI3JoO0fF/pO7pKNT\n",
       "TOg9NVRTsiAsMRPupLdYjioabgCumzSrijJ8VfSJG9VnzO8KWl9quZexd4a7Ehy2VjD4SH6dQKBQ\n",
       "2U17F6/IIGKe4qmhYoFz4ss9OGCW6S2Wk4pjNwBnsZSnlAdLy0qxjCK47jMHvQcmCE6TkwC7kDnM\n",
       "cFeONtUKIh9AJEJUB43G1MOM3lNDtbXMTu8eHFxBypaTiroDaDKbOCW6mSbbiflpcABNNnnJcLGX\n",
       "mu6UMvxG3jvDfUmv8aLL74oA5zh9tVN12moTeisNFTMRFRtO9GpTx/RkOap8+6HwGOC4HamniRhQ\n",
       "gKamFIZvnDt9LSA0dQ5hSvA7ZcUM9wW9ANbzI1vZyhl8AZT2DIXJA5q7iI7eWiP8kabx3v276y1H\n",
       "leNgGwAc45JLl4BfVhRPcF96b5WT9kLJHfeDNibmOpBA474AcU9vraHa4iRdHjpItk7LQSWfGgOA\n",
       "5lbkj9M7wX15pdPfC1VC+eJCmh/u0SwO5Vy47RSTo63WUMkTZd5n6X4Tsq1sOajkUnMA0CQHS/TW\n",
       "9dm1lnto7h738VjKZpxeQeJZrdWJ1bM2IfaymS1tfl5V+vtTtUxvXZ+ddixZYuge9/FYStqoJvfn\n",
       "TL9H7xNbT/4tIkJsc3LlFkNQ6AgWpnnzxNwt7tOxONELwyiEvo7e3hZo9L+NF3coDp8nO/Df4esX\n",
       "JUMprPG62NsAAAAASUVORK5CYII=\n",
       "\" style=\"display:inline;vertical-align:middle;\" /></a></dd>"
      ],
      "text/plain": [
       "<IPython.core.display.HTML object>"
      ]
     },
     "metadata": {},
     "output_type": "display_data"
    },
    {
     "data": {
      "text/html": [
       "<dt><a class=\"ProveItLink\" href=\"../sets/functions/_theory_nbs_/axioms.ipynb#functions_def\">proveit.logic.sets.functions.functions_def</a></dt><dd><a class=\"ProveItLink\" href=\"../sets/functions/__pv_it/axioms/2228d474e096a5d243ea8bec4457f92ddc17cb330/expr.ipynb\"><img src=\"data:image/png;base64,iVBORw0KGgoAAAANSUhEUgAAAZkAAAAWBAMAAADgGvxEAAAAMFBMVEX///8AAAAAAAAAAAAAAAAA\n",
       "AAAAAAAAAAAAAAAAAAAAAAAAAAAAAAAAAAAAAAAAAAAv3aB7AAAAD3RSTlMAq1RmmUTNIjK7EInv\n",
       "3XZ/CtNrAAAACXBIWXMAAA7EAAAOxAGVKw4bAAAFqklEQVRYw9VYb2gcVRCfu729P3vJ5YKhNFLJ\n",
       "FbVQrPbUWMkHmwtG21JbA4JoW9ozoYTGotcvQtAk6xdBjCZWQk2wzRVKof6BpKBQQzGNVKtSuYpK\n",
       "ClnY2kKpaGxrm6YpJr6Z997u3u3umfabD+beZOfNe/ObNzM7G4DFjJyg0pEw9P9S/XMSIrevF/Hg\n",
       "c2Wsww1zsLiRSHFyjXgLPy9bRvlzUE0fPf/xmwe/3W/xdr4jTkn8+97yez8gCGDjl15WhS97KCnD\n",
       "V6qXfIho4LwbTQCnYNrnwOAI/obG8haPPnWtbliort6lk4BZgtNT+Li9LBgty4npLJ3wQrPaCw1U\n",
       "9APU6YgmnHehCaFm2C84DtPvaG/K4nF0uNZ9BxCYJQFawqY3MVL6y6IJpTkxA+8f8kLTdMNLrYcF\n",
       "2I4MolEyLjRRjIlOvxOfpN+JF/MWj6PelV3zAOo1EqAl9dxv8VRZNBWCmHHCyYn9xq82mvjrs84k\n",
       "kw5vZJneaCIa+N6dN+joo34njuOPOmfz3A5x+iXD4ImqsHOVeRKgJWxSmNPD5dNmhSCA4/yB+kre\n",
       "eTfdiavOmJcXUcdod47QtLnRPMomv+IR5GFdsHmenjxxnv9dPgiwCA9/SwK0BOWnDeOH8mg2CoKH\n",
       "T9fQg9fyRZGWCf7tXF6wg/rgJFUBGHWjqTCMqRG/0EaBsuxMRvDa9N3vsHuMU8WKdDgzU7tHJwFa\n",
       "gvL1AEXJkHdt3mZ5d54/aC/KGzUVveVcvpJP0ZvT59qAo1mDDzYZOM4IvZAOsZKjtOJLqDIlH4Jz\n",
       "5iaGj67JUTr6DkwvwaVMgJagfA9EELPWzO9RO0XT29fGNsg33E+CICLyI1uEJgSRK0VvJ+6cBCsN\n",
       "q9IczSr33bBD95Q8/VQeWEl53KNL/nFozN/Fgo5SyJEWf+Ug+DWQAC1BeSxPNsUe43vFeQ4oBUjI\n",
       "/DspCIK8EkdZcBpnLTSXmptugu18w1ig+Isx9fgsR9Pn8fYcIgmN92oHcPpKFqMK2mC1xevwNJ1L\n",
       "x/fiEbwIf4RKOglwR5QHTUJbJa79hR95gmVAuVyKhuclaP1OqzQWEP84TVV30lSV5AUHbd7mgeYh\n",
       "64pD67ler1mE5riDJ6NUcu8RexsMCVY1UYA7kjy7Ft2+TJRL8yW+SQo+S5dGWixZnOe0R4jNU05T\n",
       "3+J+6WPqgesczYPuvIGwwuxIXOheJ1uFRDhZFGnv27x6Az5mNtK5ldZBUSw+dS0kiLcI+VEqEg1i\n",
       "S36p0HO+fqnUOiAIKoTzpp1onmPzq0407VZQQ1+Wo2nwuJv4Cob6YqC/VV61GZKXFTOt+0BeGwiM\n",
       "AyttCi1MWF0fZmZ0BkhAVQDlb5BLmkWgwR80PwFajdQalTW2RzSL4ZQjm/F6h3Pu981u5tJv8hzN\n",
       "Rg80kROMScdMXeUxoOpWolIpjlyXfHD20LiaEoUboNUqfWz9tg5exSlKUB6g9P9AvFvG6ihQamzb\n",
       "4V1BIi9ZqtRukVZpwzN5WLnwssNSXk1qsSNMiQr9i1cPTXdflQNl1+DgXuwxR+dkCBUcJacA2mbz\n",
       "vkcwxrhBBwd4KAewrd0LXIA7Vtqd+SkRaKIwsu5yh1UwdU7QZCX6MWdnU34wNJGC7xdBL+Si3OWm\n",
       "9QIAmESHJ22ejy4xb91vFHcRXXzHLvvNxfzyCSVBVUobgcgcaD9bvX2GKJhsve3vFI4mlPbRi4x/\n",
       "ARn+8sZ4u+roL5fLcK4v6UW9m1Tc0ZZHWQz2pkInQHt2Z3QC1twa22C3ovuIKoeyd4im01dv89bp\n",
       "PHTivT+ThEMz8nEsB2cP27yA7tfpowAz2JZT0y7tD5YsP0KkXMjdIZp95fW0Y4MDJT1OP6xdZ/Ml\n",
       "sEoHCtiOtjy2nPlHlX3TllLwJif3l/Qi/i9w0v5GWLxetwd/0W8xEySmWhzyOL5CFPlXGv6n41+L\n",
       "B5EIApTT3wAAAABJRU5ErkJggg==\n",
       "\" style=\"display:inline;vertical-align:middle;\" /></a></dd>"
      ],
      "text/plain": [
       "<IPython.core.display.HTML object>"
      ]
     },
     "metadata": {},
     "output_type": "display_data"
    },
    {
     "data": {
      "text/html": [
       "<dt><a class=\"ProveItLink\" href=\"../sets/functions/images/_theory_nbs_/axioms.ipynb#set_image_def\">proveit.logic.sets.functions.images.set_image_def</a></dt><dd><a class=\"ProveItLink\" href=\"../sets/functions/images/__pv_it/axioms/b0847d02082266150472c17f24c0e55906adbc420/expr.ipynb\"><img src=\"data:image/png;base64,iVBORw0KGgoAAAANSUhEUgAAAP0AAAAZBAMAAAAIzjVbAAAAMFBMVEX///8AAAAAAAAAAAAAAAAA\n",
       "AAAAAAAAAAAAAAAAAAAAAAAAAAAAAAAAAAAAAAAAAAAv3aB7AAAAD3RSTlMAq1RmmUTNIjK7EInv\n",
       "3XZ/CtNrAAAACXBIWXMAAA7EAAAOxAGVKw4bAAADyUlEQVRIx7VWS0hUURg+3hnnce/MOERYguRE\n",
       "VAuLsYVCEDHSlIVCQ20kAqdEAjfdNkEgzAStejBJgY0Lm4VFQ2HqJspMUwIxDIlcCiPpJszEhYVQ\n",
       "9v/n3Me5954ZN3pg/jmP77/f+V/nHEJKtHqyo829xboU40eJbef3Piy9/twyWqJSNZRFGs/4Taom\n",
       "0HtYSHCyNP8jyyiPIhSh/ZuElBecCqGOHDdgUAa83SsiCAI8jJ0DQveM07/md2zo2wOilvWvw++7\n",
       "UyOa4zRq9VkK7BYxhID8NHauCdNjEKWyd4K8zWL7qxI5yRJjE4Qn59AYJboG0aE6cFTEIG+AZ4om\n",
       "QgUNZuCg5roQbMddx3ZWA7F1xYrwMw0NSjSgkJ+0s90pEdFihhrYppt5Az/Num/G0iCni/AzjYA5\n",
       "PV2U/xzsDvbpES7+5L4JrQl+h1hiFH5F2OaF/EweslhZhH8ZfjPz85+Fi5Uojs3s1oZoVbN2bkTR\n",
       "uUNifk0DoQMLL0YiDCjmR1edJYQvDtnoZan8Z4sXtAskg6nZQPcyTxutInKG00BoLLTPPcuAy0L+\n",
       "TBrj6kVtOc4S5lVaX7xCff2Hx3+lMkZSqHHEUbCTnAZAXapro6yOAVPCFEtBivtzCia6v54RjxnA\n",
       "b7TUVnn8J1oIj+M1WDAZO31lgtMAqI+4aREiUK4UbeA1aEgFmn4VLM/L7xcs9iuzDv4BAOPsZfvX\n",
       "7vRyGhQaoB9DoNJhA1O6FNqcxGNYqh5mVe4JW/j9YYf/oZyDeDQedcS/m9Og0DZVzjFg1HZayVPU\n",
       "M3hHDHdi9zibL7iNc6vKtEBvfeghLNhVU8Oe/5oGQPOJaqJowPc6xreQxTApa8ZR0UU3HGfuT4fG\n",
       "+eKkGWI2rKQutPG3UYwOfk0DoNG7LVArDGjUX5ylWesXlCdQlKXNy849MrTBFyeJWggegFGbnUR6\n",
       "ug4FOCfmjxrQ/hXpFGbdnLa00rSohrRjuUCj22jqTrFpruACCSsCL8w0l+6zYv5GO5QCYSmkVnki\n",
       "ee0yYWdFO38VyYM0tmvc/SeFr1oI+DvHvGB4fkPDhFIgLLlIn49cZHOtNLqy4WviGye+CdISJv3r\n",
       "CXMq2Ju0MvSY3VvC49zU6LEAqbmQNQ1wkUNMmkdqILqusMUyyfa5XcS1qBLnI8ixFeM4i3AaeR4o\n",
       "T1KDvOSe5n5a+kHj6/79MLxU8v2nXX3G20UVrDZGnFAEeodgoUtJuuG0xTmIQkWEf/8pKyDsAZUG\n",
       "t/e5vfThB/E+wd5HIp/v2PL9uyPv/5fZrJ5gbvDFf1Ts+BbBYfHjAAAAAElFTkSuQmCC\n",
       "\" style=\"display:inline;vertical-align:middle;\" /></a></dd>"
      ],
      "text/plain": [
       "<IPython.core.display.HTML object>"
      ]
     },
     "metadata": {},
     "output_type": "display_data"
    },
    {
     "data": {
      "text/html": [
       "<dt><a class=\"ProveItLink\" href=\"../sets/functions/injections/_theory_nbs_/axioms.ipynb#injective_def\">proveit.logic.sets.functions.injections.injective_def</a></dt><dd><a class=\"ProveItLink\" href=\"../sets/functions/injections/__pv_it/axioms/2b2f642643127f05db20f5f1c25ec967e12d64980/expr.ipynb\"><img src=\"data:image/png;base64,iVBORw0KGgoAAAANSUhEUgAAAmQAAABACAMAAACDbZuHAAAAUVBMVEX///8AAAAAAAAAAAAAAAAA\n",
       "AAAAAAAAAAAAAAAAAAAAAAAAAAAAAAAAAAAAAAAAAAAAAAAAAAAAAAAAAAAAAAAAAAAAAAAAAAAA\n",
       "AAAAAAAAAAAsiKZwAAAAGnRSTlMAq1RmmUTNIjK7EInv3Xbh+fvl1/Ptyef16aOoTZEAAAAJcEhZ\n",
       "cwAADsQAAA7EAZUrDhsAAAwjSURBVHja7Z2L1qQoDoBFkKsyO72zN9//QdcbSBAIVlVr9bScM+0/\n",
       "lpUS+AwhhNg031ZYe+LidpwKveKu5h/S81+a6+YpV5VubvdxONtbFvmcnJHWkgsr3K90yeGhLFPi\n",
       "B5AviLRvQdZNRZ77kuXlzylvvh2yhpIHp1z3KvC/cibkTche+Y4ofi57/WHINMCWoVdUQNao9sEp\n",
       "U5Q5NtvFkOkesZ+4aT4LmbQ2HNAH9IoayHT/DJjZHm7vhoxxzI7XH4ZsuiRAyPbYFVWQnTQcf6vS\n",
       "Hh7AiyGTI2LBDab5mZB1ZDRmagNLrdHvQCaQUf93LgO7FzJOMAj1T4VsMvkWu6Gb1PrwDmQp0+Mp\n",
       "bjQSd0LWYs8/Uc0FkMnlvpV9BzLaPzRlVYm6E7IBY+i8WzWCTPAMZGocR7NBtgJC2HbuJcjE+Eww\n",
       "87pE3geZxDpGxpqOGaNPQcZHVJNpumoyjmoyOlFIpsKVPEB2tDyeslPF7oOMYNfT6AJDJHaDELJ2\n",
       "RCDTYyNlwyehIiAmq8l6td24PEDG+ANT1ocw3gaZHrGHn/B4MO/UKU3GyMHqE4aPZldahs0DpLGW\n",
       "icwV4XdHu1WUHSCz4wNTHgx6F2QU8180PYnkR4RZNUyFZyEzwozy9fpYkbljusEWQta+80t/+/GS\n",
       "3wWZQi8foV/AwFGs41YXNZmwk355o0Ity4zvvBcHyORj+ZfGS3ETZCPqnwBalpJ+ICycOGpkuGSz\n",
       "fnkn7GdImmSaDAnDX18SYPTLzi/pPZB1I+a/jN0CIzCUuEBssq6d9cs7TtI2CiEYlbWWcJpwYcC7\n",
       "Y0NQnhWnqSfJPZCxsTvn4hDQ6uGY4c8OtTtvlYF5hl2VfusX9SFkj8+/YJT190DG0SWjDmLYAvGy\n",
       "d5pCpSGzirFpdhl8qvl8+R//+HMuP5Y/f3h988c/53//+tN/uJQxvAW1tZSfTUDIHkdZyf7Wt0CG\n",
       "h9BGmgza/VqVNZm2lb9SrBEPMXda0U0uH8jqh4SwK6+DTOB2fwSZIkWrPIJs6/LhnTVFCeYW0lmv\n",
       "xKm3xyart/zZHZC1+JMvIh8edJBaW4Kso25QfqNCcG6xmWQTbDxpkz2zy5K+UHdAZkeLXaLBJSKe\n",
       "KPA2D5novTHweqBX5Cfjq8yu9/othOxZIS935QAg27V7S1+DrEoCq+gUsLDaxghrojqdhEyrcVxI\n",
       "aOc/Xp71mXA2S/zq+H7f0BnbPSwVLPARQMa69GhRD1mVBFWxDAMCkRIRzp1RxWWlnz4xB8tKT5h/\n",
       "oQxB80yQSddN4mzEoIOsSgKvGMdYH7DDq4aj2yAzw0NSU9fds03mTA7TvghZlYS+4smn/ppB6bpQ\n",
       "mtsgU88kslRUYE3MkFE3MXvZ8K+RMFbMErS322gQivOdkD2Ty2IhgQm+zC5XX3pvXoasRkINZI06\n",
       "7eC8C7Lu2a50DjK2mOThsp0+CdlRwmuQnd+ecRdk5gmMLZvXgaZfIBPE/eMY64OZoFQjM4YpWYAs\n",
       "kqAZo4eRsAYyfdovcBdk/eMlOwfZooJM0L0G+LToMo9K7L0OnLFQgqKHNCx6rFJSpxXETZDZZ0cc\n",
       "0pGBY32FrLXAaO8kWNFZIwfpWIIMSkhMJCsha3r5S0D2KLLTkE180AArC3d6L9fogZYgCyW0pD/6\n",
       "MmohO5k56ibI7GORnYfMtEH8gYX7vcRoKWVENkXIQglUvWr4z7TS74dM9M/U8rRNNrVaEMUsocmx\n",
       "mGSasDJkoQTG3oBMD+LbIdPDM1i+AFkTKKppKmlIYFWteInEvA9EYQQSFH0DssyGkSxk1+eMTdfv\n",
       "KaAc/GSg2BUpGV3SjbIMGWa899VxQeLLNzTqJ/ziTci24L/5Em1W3vQyQiDDJbDxU6poqItaoF/e\n",
       "g2QYht/RILNTvVdW6hZl1EFNBYPCYlppNvKuWfJQUD6a2RWbskIykMke+9XC6PftgfO/8bRyW6Gu\n",
       "C9YZoiiMQpeXBWUgoyxt01ToqCD0Qpx5yOQHHlRZ9aP3QiaqzotPiBeHcy4MgtoKUT0MWixApF+A\n",
       "TLUk2eW2xjzfTWpbP4EzHZw3vOjYmaV09qshyzVKdD5bC6brxTshuzAHWVPzGoPQLVqEDKMiCZlJ\n",
       "b/hoaMVmWLEHLQYXY0nKIGTVO0mi7GOrFEtrIHs9Yv2tkmuUNm7ZTC3kcaA7iNGqH6AQL8xDZnG3\n",
       "kYhi/F8vpzaSdBV7u5k5Dpt4kjIAWTvW3xTIPrZJif0n8drFcmOvR6y/NavNNEoivDPtBTrGOKTE\n",
       "cBYJcUcPmcbncKC3r4NMj/hI4822MIgDTVIGIEtkKMs/bWH2sU1KZFDqgScgez1i/Z2SaxRG68xi\n",
       "eXzKU2L2wFEWHf3v4KsyNNx4duEO8gG9es993Yc/giUpA/Ej+QxlSPYxk9rAO40VpEvYZC9HrL9T\n",
       "co2SmsynXmahxLEDj2KCc07IdtwhY+izxcJeuDThCqZi/ItB2hAhNElZAFkpQxmSfcxJgU/pEBsy\n",
       "HLT3ldOAXKO0qZtI6JruqMhSYoJzTsh23CHDA52AZXwhZBSdXvpsnt42q0pSFkBWzFBWzj7mpBgS\n",
       "mdrQ7Npu8dWI9XdGy0yj+POCGCtsohYZ8zEthhNrSQuEbMcdsg41ykBKkgshE2ieAqUSzyGepGyH\n",
       "rJyhrJx9zEkBsUbzz0ENuH1aEW8e26QAmOor08opbBR3vpsVssumE9Riy9Pxn/8e83QkxOh5l7Re\n",
       "Bx0nhPIIMvTFMrATrsy02GM7FX0UWxDlUJGkbIcMyVBWzD7mpLR9bCoDtxB3WqOBEev+Kzxtr4CI\n",
       "9kZh85iEmFyjbOfXV6Ox4ViL7OOZErPuWV6DVp2Q7bhDJjDHugW9diVkBlOyfn207wKXBOjCVJIy\n",
       "D9khQxlItoNkH3NSZPCDq1sZOP4c5XHE+v4d9wxLS5Tq9sq3dZBt5JKDPs41ynZ+TWvu3k0l467p\n",
       "EsozKWap4KqInJDtuEOGbsVQfXMTZAJLueI1WdCeFUnKXF+jGcqK2ceclK6PHVPhW5g8ZFHEetCi\n",
       "2zPMWPgwRxHtBciIAGKSkIFG2c4vFqbv/a7HFVlSzELp9hpUJ6Q7ajKJuKvIXZA1nJ8fLiuSlDk8\n",
       "sAxl5exjfrgcDo7Y8KXofP/DreFpQ60RXuxk5+mD0z2KaA8hA19vOgPEpIdL0Cjr+TUjkt+IEdRi\n",
       "Uef/+yuROy0hZvWSsXXMcUK2Y2iTCWSOJ2+DjCL35l/fFbxbqyJJ2YYHmqGsnH3MG/7qQHS4HMp3\n",
       "ArmLkxVBq9vJgrMsVrlRRHsImf86U3P51/Qf9WIAEplGWc+vm++n+XkroloAxx7UjUcxzYyHe/Ot\n",
       "E7Id62eXfGhug0wjy5fe/bJPwGuSlK14oBnKkOxjXh/ungLfB8F6jEfFx5vPweZ7dNNMyDQb64Ai\n",
       "iyPaQ8jg150C3MSAamYaZTs/Q9JOVi2LapH2EWbFELrv43dCtuMOGbIHO0pmePFb4liPyNseEDmk\n",
       "7f4mmaRsxqMiQxmSfcxBNviW34craRPTWxdsMhsz+5LxbEsxMgGy6KVNehzRHkIGvu4V4CYGjPaZ\n",
       "RtnOa2KNFMTKqBZ5RZYRY/wy1QCbJPD4E2SG19wImUZMf2/b+gCxmiRl5iPBtJsUgfhZ+LFOs3uK\n",
       "6q0bx7VRpYGDZWQsq8TX5+Hyx7/VOlyOib7JNUoimi6qRZt86jAxTog71q5dHnr54jf3IusRXsmv\n",
       "a7KVSco+ChmjJyFr+tmm6qhew9UnW2oxYQKXXBDRntJk7utNuITtxACTNtMoidXwqBY8+bogTIwT\n",
       "4o61URjssLRy8Yvuh6IqC0yb2a6qTFL2ScjQsIrjDXWMttbQZg1Xl2ydmwhvx4UR7QnI/NcBmU4M\n",
       "NP0zjXJY+Y5qQROKDBfjhHhhHjJKyhZZdzNkSMYl0obGSWWSsk9CpsRpyEL1ADwT88iXubXMOwkQ\n",
       "P2KuUQ7ew6gWqUhWXIwT4oXtkbHlPjwgeDVkSEaV/ekStl7kR2L8F3vQolCXbr+rXspU5wEuNUp0\n",
       "Pq5FbesAMU7ILqwuxp8eo4wuhyx096Qe5m9/YVEJhPpQ7CRk7ZfvBqzarSQSm27fhGwuJxP06rLa\n",
       "+fZ9l/wj+y5/vZ2bdhg2F215N0o08eQLIu9Apru5nB2qxPPG279viXfXywUR/X/ea4BdWgTnAgAA\n",
       "AABJRU5ErkJggg==\n",
       "\" style=\"display:inline;vertical-align:middle;\" /></a></dd>"
      ],
      "text/plain": [
       "<IPython.core.display.HTML object>"
      ]
     },
     "metadata": {},
     "output_type": "display_data"
    },
    {
     "data": {
      "text/html": [
       "<dt><a class=\"ProveItLink\" href=\"../sets/functions/surjections/_theory_nbs_/axioms.ipynb#surjective_def\">proveit.logic.sets.functions.surjections.surjective_def</a></dt><dd><a class=\"ProveItLink\" href=\"../sets/functions/surjections/__pv_it/axioms/eeddd6b66b031a33f7115b1fedaaa1b29629166e0/expr.ipynb\"><img src=\"data:image/png;base64,iVBORw0KGgoAAAANSUhEUgAAAdgAAAA/CAMAAAB0MSklAAAAP1BMVEX///8AAAAAAAAAAAAAAAAA\n",
       "AAAAAAAAAAAAAAAAAAAAAAAAAAAAAAAAAAAAAAAAAAAAAAAAAAAAAAAAAAAAAADFBd4eAAAAFHRS\n",
       "TlMAq1RmmUTNIjK7EInv3Xbh+fvl8+nnyKUAAAAJcEhZcwAADsQAAA7EAZUrDhsAAAmuSURBVHja\n",
       "7Z3plqsqEEYVkBnuxPs/61UTCQXIYNKGXuvw49gnoUjJFiiGL5mm62lxWzKdVsTWMqD2wtDmAZ5+\n",
       "KpGteLn9JamchkyJY3Sngqa3wC5r4n1GltYqc+4oDc0/XnP6UXHcDErWCvh/vkF5F+wVG1bOgOk0\n",
       "JNgJz2OCnYTKOH03WKkr/SbXclCwk0BjgpUZireDJbX2SNU0KlipB+2MUerY3WC547VgSA4Ltm/0\n",
       "vzMZ8m2wtFY1Rk3jgmW1+OBrTTZx7GawqFYzvLPB3gs2G6YMkaj4LlgjKhlmMY0MFutp1CbLvwmW\n",
       "V2dX3WsNMVhGfxIsc4MGxpMm3wQ7uyp52FUTpWQfWOrerSIsnJvXRAVPwGailEEScV8EK12tWjAs\n",
       "UM285mAEFjn3gadfPB9DnoAldFCwS9TX3QoW1+Y600wj7xbR12LJ/H7gypx93h1JwFo3KNhJ0++B\n",
       "FdXseobFx1StMGuip2AVU65z6Xqy7OT5w0/AIVjUXfx9fTH7GlhXDXkdmE6oaN9ooVYWWyyza5Pq\n",
       "vSNETiIBqlkClg8bPSHYF98JdnHVWWDoHJ61mQkIeGWlKybJ/TXNwbJDrJxNJniSP7hF+O4AMn8L\n",
       "LHFL1TngjoMbt5RVxtgFbU2qew0BiSgyF9bameLMdAf6REyQvr7aqPW3wNLqqhLs6Fg0ntFa8ETS\n",
       "B7dtlAURmn0MVshvQ0Gwo649rRGM/BLY+lGLBbRpBEvn+mgcIg/WCkLWqPj1rqR79r/+/mdN/z7+\n",
       "3C///eNf2ZMLP1c8n3wfhkGwo05ko+jiRrCsHjvBFhvFTlKUW6y0jY9Pehs0fJ6OJn8Exb8FLAKu\n",
       "3QgW1esEghVzOciJwD5LN93LuRwEZfwIj+ajGf+SMZaDhnMjWOtsvVGHMaeO8ltbArvgYyTvvQsY\n",
       "lD2H2LWeaHaMHTUqXgN28x2wpD4FlCF7lgTRFJ2DZdrHEJ1LT9E8lj4KWrRvxyHYcXcB1mfOQbCv\n",
       "PgTha2DbShANizbhHgVKnho5i0VmwUrh3A4CbX/0Ba4qdGv2OwAvgHCBYhkWrAnD4hUsWYoTxQaw\n",
       "bSXQhqYU7hfnzqEsShSXFH9mggiWFOWwYEEFr2D5UTWsd5P7ANtWgm6oE6JfvGhTp3czWGWG5bp2\n",
       "iQscY4/BRKGLYNtKaNlQwwd8I2TbBtkVsOQ6WDGPC3YOx/8NLMaFlZ0msE0ltICVh2/YEvZjYM11\n",
       "sOMGxRmw02NJR6vLYJtKaNoCF73z/wtgrb4Mdhn1mOJj2oEjsGSPC8MFU9kJNi0h0xhbwHafFmsA\n",
       "a7FVcg2cDUd2zb3Mbj9w83i5D6yi028Cy+bjnwOCDqYAXDiiFBG8ADYqQRKCU7AtzGTvdKIOVqwl\n",
       "SvOcgm4RGdfhy11gNRoYrApXAR6ebk1NLWGW8AawOevAXgsUsASBUwleG9juNlEFy3cfhV3Byv36\n",
       "AOtf7gFr9fS7wCILAp+Fg9W8x243diWwsITcxKYR7KT5Z8E+Ovf1Htjm7HyA9S/3gB26webArkxw\n",
       "8KKFSow9jzS4BDYsAc06N+9pPD/Yp6JsbbHUArAS+5c7wNqRR9jcGLtNQIMdDgtPWTJnMSYzn4pg\n",
       "wxKwuBwVb5WNPwp2H1bZCmcHu/W90k2c+5fbwTLNfh1YFhwP3IbHcDDZh1iZ7bQCsGEJhLwDVhr2\n",
       "UbCTstukWM6OrB3wtvWqiPIvt4OVZuiOODeP3V58Ncg1BFZzMEo+kLJcuBru7gQliGyb061bQazn\n",
       "2x5u+w6Kk7saHWw4wE7wuNEjy+J4GWw1/jHN6+dsxLO7chmcK9w+S8A+96s3+FI9GMu9H6p0xSD+\n",
       "ldXP/ZM+n0y0uwO7nn2olMStY9Gum8HUqW15Ak3NYLk+6dWWP5X/k0m7aWpcSqlFC3mwOD85tE1D\n",
       "IYuu9WSNebsreJbBOhzM1EY515WQmvUYg4WCIthFXgAr0JyvZ9xyJNcieG2Zly8w8ro4u99KWWyz\n",
       "g7m3lnyup0uL7ffK2zQYs/YzT9UWlgOrrD3LXJ+ZIAWvzyhdtoNtP8sGdbCPUixudDDn2Ot8LFI5\n",
       "lyzud8vb2AYYc3NXfAXseVjpqo3p2FwPN9mrGlkFD5l3uBTqYJ+lxDOtaAmt7BifWZIrdKlxGgfk\n",
       "ud6maozBKdA7lQCmmvvYEyJgCaWikQVge/SxQAf7LCWKD6ShWQcDx5R4JfdYW4FbWy+XMOl262VT\n",
       "NSZg1nGvKKtW5zq6ThmNbCKRBdtS5/rYRAYLdbAqdzp87QDnJedgzrE1t0pyQZeaVjAjea6WjcZw\n",
       "ELoTLK6FxYjC614vcMs0I5ENwJb0sYkMFupgj1LgSrWZuMg4mHFseu1Hh7mgS03L4JE819vUjKG2\n",
       "5U6wrKbxIApeU41sbrUxAFvUx5r8WPbUwR6lqDkKlcITteeO7e+yOFfskmo5xxPJc71NxTjSj96q\n",
       "aNeVAwvHMxk+m1AXkju3/AJb1sei+NtfgQ72KAXsGm4fF7b0c8d2Fplc0KWg8FPdTyzP9TaV/UwL\n",
       "x6BbwarKavGxfRJso0QaWVoMnir6WCiDjXSwRylIh1Hu7o1MHEwdy91G6hJqOGsQy3O9TcVYwLdv\n",
       "Bcsqsiy9wOsU6zyyElkPNtHHglYRy2AjHexRCk82rIJ5+alj2dtIXeIN9RXLc71N2VhGD/S9X+BF\n",
       "aS9YGKJkJbIHkqo+FspgIx3sUcqi40lrcOLt1LETsLFLS0OLjeW53qZsHH/V0r1gcXnCk+mKo5P3\n",
       "pgC2po+FMthYB+u7YpMsTrx+ouDcsXxXHLsUFH42xibyXG+DihEKjd69F6wsLxcfZwaDs4ORRja3\n",
       "XPlEUtXHRoFXpIP1wZNInqLX8vO5Y7nbSF3CdXVUIs/1NkVjFk8Gbv72U1LsTo6A/hXYJ+c2Mkqt\n",
       "B5KqPjaex0Y6WN/uXzMaj84fqS44lrmN1CVS3wZJ5LnepmisYhI3g5XF8IkbeM2EKBmJ7IakQR8L\n",
       "ZLCpDvYAazyw2X8Ot1PVseQ2ci6Z2o50Rp7rbUrGab3e/Q3j5SPXx8aq32DNaGQTiaz6yP79sxRW\n",
       "nmqXHMvkivvLCxpMb1M0Junqy90/9mBKTfZY6H5cGzWyHwVLyut2bY6drdeTC8fhvE3JODMw3A62\n",
       "rFcTLLg2amQ/Cbaq/W5zTGTvsV9YHtgUjee0/7gdbFmcc0xU92ujRvaTYEXtA9scy38llbhwOMbb\n",
       "lIxxZuPnfrBlIRSz8NqC5CNnnvZVBVuv+jbHcrnsBa7epmTMcsd93wV74UcLpflzDPWjKd7P+8CP\n",
       "Fsrlwo8Wjnke/Pem5CT7/qOFi/wfthFlI4HX+E4AAAAASUVORK5CYII=\n",
       "\" style=\"display:inline;vertical-align:middle;\" /></a></dd>"
      ],
      "text/plain": [
       "<IPython.core.display.HTML object>"
      ]
     },
     "metadata": {},
     "output_type": "display_data"
    },
    {
     "data": {
      "text/html": [
       "<dt><a class=\"ProveItLink\" href=\"../sets/functions/bijections/_theory_nbs_/axioms.ipynb#bijective_def\">proveit.logic.sets.functions.bijections.bijective_def</a></dt><dd><a class=\"ProveItLink\" href=\"../sets/functions/bijections/__pv_it/axioms/11baf34a26927fa841541f3e826bbe3990c964c40/expr.ipynb\"><img src=\"data:image/png;base64,iVBORw0KGgoAAAANSUhEUgAAAkoAAABNCAMAAABuZ7s6AAAAQlBMVEX///8AAAAAAAAAAAAAAAAA\n",
       "AAAAAAAAAAAAAAAAAAAAAAAAAAAAAAAAAAAAAAAAAAAAAAAAAAAAAAAAAAAAAAAAAACGKEuzAAAA\n",
       "FXRSTlMAq1RmmUTNIjK7EInv3Xbh+fvl1/OhCx0iAAAACXBIWXMAAA7EAAAOxAGVKw4bAAALI0lE\n",
       "QVR42u2d2YKkKBBFVRCVbVb//1fHJTUJBSMUXKYsH3pqurMtb3mEAOF0lj3x4AX9s0XbHeyKi+q/\n",
       "key/kkJmv0fKo26HI9/9F0WJ3LQ9pyzyCyPrkaHavJalahXdjBhEoqRYd5S7H2/k5jORPRyljOWv\n",
       "bUDUMnrPAMtjUaqO/LVCbz/StZZpUZKATY5+goBS1hSvZUn7qgl2B0pSI4WNUFlSlGprjdseo5+g\n",
       "oCT1a7u40nfbb0EpF1gZLdOi1H3EAcVq7BMklPbVcz/ryJtnoFS3SG1l9jVKO1Eq81apjgfLrJIx\n",
       "KFXHevcfUXm3xSNQEgI7qTwTpa4SG0qdjmdpYlDKGvVWlLLGPAGlAmuUfK1ncpTqIXhjY1Bi+rUo\n",
       "1a19AEoCu2e7ZxsXKFUigFLTtq36oDRikPPP7x1CydfMv6ZZ0vej5OF5+5xcKbkLJdGirZJkY6sk\n",
       "0FaJdazl3SGaeoVSZvhrUSpWj9H1KOVYJbS4JJXXutiDUtEiKMk2q+tMdCetHC6CrZJuPtddr1Di\n",
       "4rUoZa24GyXZYpXQYqpAF2Wzq1Xi+eqiKiVa9W2AFO+7NGUtrwKfAIMV+5lL4SuUbPtelKZH6z6U\n",
       "GFpfaABGuWzEbGO6QwRRUpVahtxz2Gp1wfXnv3aFUhHznf7nR9mqm1Fq0JE+vEQF+51SWLnZKlW2\n",
       "aysiquGCr56+TwWmqxVK9Yvr7qzV96IkW3Sg5A7gWK5Nzt3BmUQ6ON63FTELToy3VJK58ZTd8pKl\n",
       "LU8dwy2a5KtRYi02rbcYYcPxnqiQWqkshuUKMUOTZpGwsdbmgnkmA+DVceMcL3inYhc/5qtRyrH5\n",
       "yUWnUUH0BVZ28+HvRN1IC6p8OyYs5jfQEKX3znd3N0rcipJGv18JYCvA52s9PfWNHyXbcN6N4Jw/\n",
       "laL/+B9//tUffw9f/j23HX/80//671/zHw5H617BNBU31/IQpfdOLHXhYdl7MUqEUgm2SrDqls12\n",
       "qyTH/qY1MZlKsMJzauGmAdwvSt8uAvYwF6NUoLNKC5SafLMmXqD0ubEm5t1YDSr7eiqs5575t1aa\n",
       "A8M69mKUOF5cVGBUpOG0obVbKJVselxinrUqW5dKTmEAUXrxCK5jp7kRJYFPxEiX9WpZpYsijFKl\n",
       "52Hq8YVEi3klMZ6z1HNb5aL05ve5/c3XN6KkCdPDmoeq7mF+pymlFyXZtO1wv4v+i8MjK+VeYD6/\n",
       "y/0iA6coyxejJOHLzotRagmr2oTTbHrWvJaq2XxxcvYBX5y8ejdcCxqGa1GqKHuluP4SIkgdyG0o\n",
       "KfNmkjID+vdrUSoow3Q2PeqmkbRFHLeh1OSvRkmAIdy1KNmWwIacWGfOIpBTUOKxKL16ANdPkKjb\n",
       "UFItZdl2s/cWH0XJRKJUvnfLyfgogjdU16KUk96O7V59fxAlqyNRUuLVJHUtg1ig9L0RBTuIEvEU\n",
       "DelFg9w7xCaiNG58k42pC5sH98PtQEkXb0fJLFDi850T1UGUiKcQtHdWe592GkrTxrdhXrEfGvr3\n",
       "w9FRsvrdJHWlr16gVE93otq7AW1GiXgKQ1yUoev0KM0b36p+hNhvgPPvh6Oj9PZGqYOnXdZK00sB\n",
       "VRxFiXgKTURpnxOHhtK08a1Dqf+vXeyH24+SfXml5EWJTa9Bj5fdtFPolvj0C3ZSqyQsQMmzH46K\n",
       "UqWrt6NUrFHKxhVlWh1HiXYKTZ2IkaZKjdK88W1Aqe/R/PvhiChJ8/buzY8SH2oTdyGq3IvS+hSe\n",
       "g26MrPa4HokuynHjm8y72p/pfn2bZz8cNpEyuSizhr2epKz0oFTl0y8TSW7hW3djeKV4U2+htDiF\n",
       "5Jz5UCI/ytWzd5jJ8pek3kQqlygNrYkq3RkD8KLOhMa+ks3ngqdoWOlhgbFfr+wPOiRzm4tq/J/C\n",
       "goq5rMHqxXF845sYd2a74Sn8qy9a+uSjK1v+UeLlB4WZI4AE9DjeVqmDgDnw2Ey4lewwgSIN20TJ\n",
       "PUWRa++sAL2Dcxcq/Sjx8tPCjBFAAnIcP0qqcFi00NFRtZYxntfZNkruKVgTKLuJKLkTS6nFyyfY\n",
       "cuni5cdZpD8RQAJqnNpTdvfDYWeHaw0Lo6FUkt5ZPBcl9xScR00GuLLl1OLlU2y5VPFycot0KpRg\n",
       "AmKc0otS5jQ63XBNuRakEaLKV+eAlQHOKQJDZSpK7tLs1OLlU2y5VPFy+jCpUAIJiHECKLmFUgY3\n",
       "WI/vmsq2RlByL9A/lDc0lNwl0+eKl5PZcmkl0AlhUqEEE9DiYCh9NpP1VY1UI1VDkW+wDs4tNgI/\n",
       "MkF7ceLKls8VLyez5dLEyyeESYYSSECLU6xWBsARxlDxSN6KMhvMfUx0D67i/u4zgFIdWH7RkF7n\n",
       "urLlS8TLKWy5FPHyGWGSoQQTkDzSbLVeaSsL+sPxosQCL9pz0nolV7Z8mng5tS2XsvTzjDDpUAIJ\n",
       "SCtZ7WoV5UZnKI+g1BR5HZoTo/xs3IIqVrzsMy8ftuVuoUTZqHtGmHQogQSkfcdwqf42Smh0L0rK\n",
       "WtL3JpwzWrzs8wcct+Uuzcv7xMunhNl5bLmjQQKKR5qDTubabQKMsnnJvaRY8bLHvBxjy12alzfF\n",
       "ywoRW6cIc6QZCrqjQQKKR7q5cR9c2VIqCuH/OjsgXvaZl2OOhXl5S7wsjdgIdluYDXc0SEDxSIsb\n",
       "d+eSNnq7suVI8XKkeXklXl6al7fEy5blZTjYRWHQBG4EkIDikdY3OgOylvB5d8IgTrwca15eiZeX\n",
       "5uUt8bLJ6iYc7KIwaAI3AkhA8UhDmcjFKBnCKpPQAG6/eDnavGz8hcZsXt4QLxdqtZHrjjBYAjcC\n",
       "SEDwSFe3+pVyygUWoSHpTvFyvHl5IV5emZeDMsHx6mCbcEsYLAFUINjg9fkrX3EjSrYlDJmLQCu7\n",
       "V7ycwLwMxcsr83JYvDxuDDQyy24OgySAKKlgd+y/mepGlEp8NsCVLUeJl9fm5ZV4+WNbHsXLg4R5\n",
       "U7y8Mi+HbbnjJC2YYLsozL4EECUeihPoYoobUZL4EC7cKu0TLycxL0Px8sq8HETpI4YCG8jvCYMk\n",
       "iEHJ3Ort7r59dRilfeLlFOZlKF5em5eDtdI0PcmDY6KLwmAJImoluZgkvBolhdbdrmw5QrycxLy8\n",
       "KIZX5uWgeNnMA7Ps3jBYgrB5DL1RxaJwuxqlEi0cXdnycfFyEvPyclZmZV4OiZe/Wy6czYN3hEET\n",
       "BN9I4+9zF6XS9f8eHP6PnLiy5YPi5UTmZSBe9pmXQ+LlfP792t4aBk0ApyhLfxzanbwcJY5OyLuy\n",
       "5R8lXn5kGB1Y+4zGqZf9y+Uoleh8Bdeer3+CePmRYVwfosl2xFm9xLn+X/TW2CCEOc/DjxIvXxKG\n",
       "H48AEqBxhM7uRslinbB0cL9OvByNEv5K6JIw5niEXQO49Tuc61HK0DGcK1u+TLwcixJFvHxBmN1+\n",
       "zG8EkACNk69qqRtQUlhB5y5Rv0q8HF9oUNaHpg8Tbf39RgAJsDhy3SDcgJLECm9XtnyWeDk5ShTH\n",
       "afow8dbfgKUVi2Pb6gEodZeBPDDuI3GOeDk5SrSOJXWYBNbfr6VV7+knNc+egBK+SdXdJ36GeDk9\n",
       "SkTxcuIwCay/c4SdjZJ8BkoF9reOO3FuQokqXk4cJoH1d4oAEli0UmLZM1DKOLYdzpUtnyBeTo0S\n",
       "XbycOEy89ffzKZAAjePdZnwPSplBfqKubPkM8XJalHaIl1OHibb+jhFAAjRO6aU0GqXh2H37UGWV\n",
       "u2z+DPFy/HFQvPykMN8IIAEaxywHombEIOpiJBuO/ebhEntmXNnyjxIvPzEMSIDGWX9gpIBl/wF+\n",
       "UZjguKejIAAAAABJRU5ErkJggg==\n",
       "\" style=\"display:inline;vertical-align:middle;\" /></a></dd>"
      ],
      "text/plain": [
       "<IPython.core.display.HTML object>"
      ]
     },
     "metadata": {},
     "output_type": "display_data"
    },
    {
     "data": {
      "text/html": [
       "<h4>proveit.logic.classes</h4>"
      ],
      "text/plain": [
       "<IPython.core.display.HTML object>"
      ]
     },
     "metadata": {},
     "output_type": "display_data"
    },
    {
     "data": {
      "text/html": [
       "<dt><a class=\"ProveItLink\" href=\"../classes/membership/_theory_nbs_/axioms.ipynb#not_in_class_def\">proveit.logic.classes.membership.not_in_class_def</a></dt><dd><a class=\"ProveItLink\" href=\"../classes/membership/__pv_it/axioms/03e5da56ed25c73199bb4234f567574cd0ad0d120/expr.ipynb\"><img src=\"data:image/png;base64,iVBORw0KGgoAAAANSUhEUgAAASYAAAAmCAMAAABebcZcAAAAP1BMVEX///8AAAAAAAAAAAAAAAAA\n",
       "AAAAAAAAAAAAAAAAAAAAAAAAAAAAAAAAAAAAAAAAAAAAAAAAAAAAAAAAAAAAAADFBd4eAAAAFHRS\n",
       "TlMAq1RmmUTNIjK7EInv3Xbp8+P3nXbhrUQAAAAJcEhZcwAADsQAAA7EAZUrDhsAAAR8SURBVGje\n",
       "1ZqJ0tsoDIDNbcDQbtfv/6w1PkA+AGE6uy7T+SfVJOizbkiGoWNxOnxvvYUy0qBk7UDki1Z6DTU6\n",
       "g5I1LiY/aKUeKEZwsjbjT+Z7VuqD0hQna1nSfjCY+qDMg5FNXzTQ+YPB1Av1VNj6KrD7YjD1QqlZ\n",
       "oWT4IvDFYOqH0hYnwy6iocHLLkL7sveNJ6h3zW66azhkb9bM0mtfbgboEU143Puy+iDU26yjN5RV\n",
       "lgoUZS3hnexNy0E5lkug8ZoQwga17OJRBFl944sqAtWv1Y3vrgAoQcZF9HqDEjaDgb7SPUQxMiYf\n",
       "go1yx5CBl9cHoLDrrD7QynsOBFl0tmpJbJJYeSUEXOmRtRv3XdZIYBzRtBkCChlKF/XBboepAcoq\n",
       "O8xmW8bNKWVSqcB57X78dHl6GWc3sW2DmOUmDFQGZlmypD5MXuOxmxmgjO3eaXLFHOsDzX9OyCWi\n",
       "yZjfxc7RNePmPFmtTgV9c6lIrjA19aG+HbKEssmmYGQ3NU0Hqadwe9RCT8xoQUyqEKelyqXmlJBm\n",
       "s6atjrzcIqAyMFX1y4u4SULZZHx9i26ZzFTyw2H0xR2e+IEn1WtLYL4UTL5wwOcOrGS9fLwBqAxM\n",
       "VX2wtb+jrDJFjj9PCU24tcaaa+uNRG57xVToNEuOpaeQ16Hpupe7N3BaHeV2fcCI93zJwVx2epwf\n",
       "YuYClE0WAsk+tm2xQekrvJjj26ft1Qib6X6nsTzCP7+WPzqz1wQauDketVrBr6DRwQkqA7MuXVIf\n",
       "TJKsfpFRnyngdK/2lA/ZaALYkz9321P7fNjLJRA6XjrOCzMBqGeYWzTd1EMzAZRdJmMJ8Z6r5d8l\n",
       "2Uc61JJu9ebyOWNOA5O7FQ6wF09RHyPd1WqToygzPcFcm8FdPaxNAGWXWbqXEK/C8VHu6ojLV8uY\n",
       "9dpv3hIDmc4KvR9EDJ2nvVREivWKVWdcfa27il+hMjAI9bBdApRdpo7BjK0YccDKzsQmNYmtby4T\n",
       "mOELmYC+ljQNTY970U2/SJi8OpbkR4YIlYFBqIftMqFEGZgBQfmP6X3XkJ56XMPE8MVdlLPTOw35\n",
       "JUxxL8OXgyc89DlRPXTnDz8HVAZGi+vMc1MfMlfcUJIMtIR02UJ2x/l745QpIl1+zGb/Wr2fDwp7\n",
       "wTxwiBvKrD5ZzlgRYUpD/nGzB1CuV8dqGqxchzMTIs5sXcU/eJinNlA4roKhqbAX6lg7IPTxjvuz\n",
       "mNPujmKvzuNeWB/OPuNE16Dk238f7iySVOcC5HTnkN8r84F8EVfZi5T+i2dN7ii6cIIq3xcY0HxN\n",
       "7uFs61dcGnXjldVn5v4v649GB1EKl6Ki4hgNQl9lzm2t39x45L1gTt8J6t0SeweDKKJwKVorEuwP\n",
       "1IE/vvqhrMTJ0Bd/s/iemfqhJoqTddn9f1+9UH7CyVoMP37QTkWo0TP7HwfTX/i7nfDlSHni8BIn\n",
       "a1qSfdBOBShdC381KZSssWA69T0zFaDCD99M8aMUJWtdSn7w5xZ5KGEZKyWAZjhZO9IXq/hbKCMK\n",
       "st8D/Cgy3+OS+QAAAABJRU5ErkJggg==\n",
       "\" style=\"display:inline;vertical-align:middle;\" /></a></dd>"
      ],
      "text/plain": [
       "<IPython.core.display.HTML object>"
      ]
     },
     "metadata": {},
     "output_type": "display_data"
    }
   ],
   "source": [
    "import proveit\n",
    "%theory"
   ]
  },
  {
   "cell_type": "code",
   "execution_count": null,
   "metadata": {},
   "outputs": [],
   "source": []
  }
 ],
 "metadata": {
  "kernelspec": {
   "display_name": "Python 3",
   "language": "python",
   "name": "python3"
  }
 },
 "nbformat": 4,
 "nbformat_minor": 0
}