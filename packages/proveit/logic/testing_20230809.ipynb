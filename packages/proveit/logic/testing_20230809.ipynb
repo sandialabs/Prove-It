{
 "cells": [
  {
   "cell_type": "code",
   "execution_count": null,
   "metadata": {},
   "outputs": [],
   "source": [
    "import proveit\n",
    "from proveit import A, B\n",
    "from proveit import defaults\n",
    "from proveit.logic import Implies\n",
    "from proveit import Database\n",
    "\n",
    "import sqlite3\n",
    "\n",
    "%begin testing"
   ]
  },
  {
   "cell_type": "code",
   "execution_count": null,
   "metadata": {},
   "outputs": [],
   "source": [
    "temp_result = B.prove(assumptions=[Implies(A, B), A])"
   ]
  },
  {
   "cell_type": "code",
   "execution_count": null,
   "metadata": {},
   "outputs": [],
   "source": [
    "# get the Theory for the current notebook location\n",
    "temp_theory = proveit.Theory()"
   ]
  },
  {
   "cell_type": "code",
   "execution_count": null,
   "metadata": {},
   "outputs": [],
   "source": [
    "# then get that theory's database if it exists\n",
    "if hasattr(temp_theory._storage, 'pkg_database'):\n",
    "    temp_database = temp_theory._storage.pkg_database\n",
    "    temp_database.fetch_all('judgment')\n",
    "    temp_database.fetch_all('expression')\n",
    "else:\n",
    "    print(\"Theory pkg '{}' has no database file.\".\n",
    "          format(temp_theory.name))"
   ]
  },
  {
   "cell_type": "code",
   "execution_count": null,
   "metadata": {},
   "outputs": [],
   "source": []
  }
 ],
 "metadata": {
  "kernelspec": {
   "display_name": "Python 3",
   "language": "python",
   "name": "python3"
  }
 },
 "nbformat": 4,
 "nbformat_minor": 0
}
