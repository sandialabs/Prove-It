{
 "cells": [
  {
   "cell_type": "code",
   "execution_count": null,
   "id": "75aa4d59-797a-44ab-9d70-ecca25fd077d",
   "metadata": {},
   "outputs": [],
   "source": [
    "import proveit\n",
    "from proveit import Function, Lambda, Operation\n",
    "from proveit import f, p, x, Y, N, P, Z\n",
    "from proveit.logic import Implies\n",
    "%begin _curry_paradox_hoss"
   ]
  },
  {
   "cell_type": "markdown",
   "id": "1171dc19-ddf6-4903-b9b5-67460c342147",
   "metadata": {},
   "source": [
    "### I. Original Content"
   ]
  },
  {
   "cell_type": "markdown",
   "id": "099d013b-eaba-40b4-8219-2cb40d802b34",
   "metadata": {},
   "source": [
    "From Hoss: The original contents of this notebook were originally found in the `_curry_paradox_.ipynb` nb at the top level, but that nb was refusing to be recognized by the system as an executable notebook, so I have copied its contents here and continued to experiment. The original content is still available in the original nb in its original location. I have tried to provide comments throughout to preserve the sense of the original content."
   ]
  },
  {
   "cell_type": "markdown",
   "id": "3052c8e6-4882-42e1-a89c-beb4236203f5",
   "metadata": {},
   "source": [
    "From Hoss: the following Lambda() call and the follow-up prove() call was originally here w/out the try-except block. Perhaps they are old enough that they used to work, or perhaps they only work with temporary changes to the underlying python base code in Prove-It? In any case, I've wrapped the Lambda attempt in a try-except block and commented out the Function().prove() call for now, to preserve the original content:"
   ]
  },
  {
   "cell_type": "code",
   "execution_count": null,
   "id": "bd753bcc-fb09-4dd0-bc5a-24c82b14b8a3",
   "metadata": {},
   "outputs": [],
   "source": [
    "try:\n",
    "    Lambda(x, Operation(x, x))\n",
    "except Exception as the_exception:\n",
    "    print(f'Exception: {the_exception}')"
   ]
  },
  {
   "cell_type": "code",
   "execution_count": null,
   "id": "94a72920-a061-460a-8e6e-44ae22ab24ac",
   "metadata": {},
   "outputs": [],
   "source": [
    "# Function(P, P).prove([Function(P, P)]).instantiate({P:Lambda(x, Operation(x, x))})"
   ]
  },
  {
   "cell_type": "code",
   "execution_count": null,
   "id": "85743cd0-c1be-4131-a27d-98306e4426c0",
   "metadata": {},
   "outputs": [],
   "source": [
    "# [P -> P](x -> x)"
   ]
  },
  {
   "cell_type": "markdown",
   "id": "029e9315-8593-41b2-b713-7fe43914bb98",
   "metadata": {},
   "source": [
    "This comment block originally from Wayne (probably):<br/>\n",
    "In order to get this to go through in Prove-It, I needed to remove a restriction that disallows the operator of an Operation (or Function, which is simply an Operation with a different default style).  (I also had to disable the \"generic version\" feature because that has an infinite recursion problem in this case)."
   ]
  },
  {
   "cell_type": "markdown",
   "id": "acfda6bf-a8aa-477a-bb42-b9c6a7275443",
   "metadata": {},
   "source": [
    "Comment from Hoss: I have now commented-out the following cells, because it cannot run without changes to the underlying python system code. The relevant change in the operation.py code is likely at approx line 75 that looks like this and catches the case where the operator of an Operation (a Function is a special case of an Operation) is a Lambda map:\n",
    "```\n",
    "if isinstance(self.operator, Lambda):\n",
    "    raise_bad_operator_type(self.operator)\n",
    "```\n",
    "\n",
    "This looks like an attempt to define the Curry Y (fixed-point) combinator. It turns out that even when the lambda-as-operator restriction is relaxed, the definition fails because of a max recursion error, possibly because of the general requirement of immediate and exhaustive beta reduction for application of Lambda terms:"
   ]
  },
  {
   "cell_type": "code",
   "execution_count": null,
   "id": "4930aa0a-7428-4825-afa9-621db8ed286f",
   "metadata": {},
   "outputs": [],
   "source": [
    "# Y = Lambda(f, Function(Lambda(x, Function(f, Function(x, x))), Lambda(x, Function(f, Function(x, x)))))"
   ]
  },
  {
   "cell_type": "code",
   "execution_count": null,
   "id": "0606759c-17c2-47ba-8cf7-8fd5fdfd9bd9",
   "metadata": {},
   "outputs": [],
   "source": [
    "N = Lambda(p, Implies(p, Z))"
   ]
  },
  {
   "cell_type": "markdown",
   "id": "7431781e-be05-40be-aad9-61dd2cc5323b",
   "metadata": {},
   "source": [
    "Comment originally from Wayne (probably): The following leads to an infinite recursion, not allowing us to move further to prove a contradiction via Curry's paradox (in this manner, at least)"
   ]
  },
  {
   "cell_type": "code",
   "execution_count": null,
   "id": "63d8556d-473c-4033-900f-99036d4a21b9",
   "metadata": {},
   "outputs": [],
   "source": [
    "# X = Y.apply(N)"
   ]
  },
  {
   "cell_type": "markdown",
   "id": "591bb5ec-92ff-481e-a209-0da852894c11",
   "metadata": {},
   "source": [
    "From Hoss: the $Y$, $N$, and $X$ definitions above appear to reflext the example/discusions in the _Wikipedia_ entry for Curry's paradox (https://en.wikipedia.org/wiki/Curry%27s_paradox), particular in the sections on “Lambda calculus with restricted minimal logic” and “Sentential logic.”"
   ]
  },
  {
   "cell_type": "markdown",
   "id": "de8455db-d101-486f-8084-7f9c6e5c4a45",
   "metadata": {},
   "source": [
    "### II. A strategy proposed by Deepak"
   ]
  },
  {
   "cell_type": "markdown",
   "id": "27b55458-8d62-4e43-974b-792d1d5fff55",
   "metadata": {},
   "source": [
    "From Hoss: this entire section, on a strategy proposed by Deepak, was in the original content. I have:</br>\n",
    "<ul>\n",
    "    <li>added a try-except block on the g.apply(g) cell (max recursion hit);</li>\n",
    "    <li>added a few comments here and there as I explored possibilities;</li>\n",
    "    <li>modified a few cells to change a list given as a positional argument to a 'assumptions=' argument.</li>\n",
    "</ul>\n"
   ]
  },
  {
   "cell_type": "markdown",
   "id": "a63e9463-2412-4480-9705-c2d9d5d4f4e9",
   "metadata": {},
   "source": [
    "Attempting Deepak's proposed strategy"
   ]
  },
  {
   "cell_type": "code",
   "execution_count": null,
   "id": "39593f51-bed4-468a-a6d5-8e7364ab7568",
   "metadata": {},
   "outputs": [],
   "source": [
    "import proveit\n",
    "from proveit import Lambda, Operation, Function\n",
    "from proveit import g, P, A, alpha, beta\n",
    "from proveit.logic import Implies, Equals"
   ]
  },
  {
   "cell_type": "code",
   "execution_count": null,
   "id": "749ab94b-7e2c-43ba-9814-1f6de8fd68fd",
   "metadata": {},
   "outputs": [],
   "source": [
    "g = Lambda(P, Implies(Function(P, P), A))"
   ]
  },
  {
   "cell_type": "code",
   "execution_count": null,
   "id": "606b834c-6e99-4413-8f14-9ed7ed03cb75",
   "metadata": {},
   "outputs": [],
   "source": [
    "try:\n",
    "    g.apply(g)\n",
    "except Exception as the_exception:\n",
    "    print(f'Exception: {the_exception}')"
   ]
  },
  {
   "cell_type": "code",
   "execution_count": null,
   "id": "b5806bba-0e06-4bb9-a16b-ae05710b96da",
   "metadata": {},
   "outputs": [],
   "source": [
    "# inserted by Hoss, to reset the def of 'g'\n",
    "from proveit import g"
   ]
  },
  {
   "cell_type": "code",
   "execution_count": null,
   "id": "2a8ada6f-c682-4116-be7f-3172a1cc0397",
   "metadata": {},
   "outputs": [],
   "source": [
    "g_def = Equals(g, Lambda(P, Implies(Function(P, P), A)))"
   ]
  },
  {
   "cell_type": "code",
   "execution_count": null,
   "id": "5f5849ba-bd0f-4034-857a-f0a32c4d232c",
   "metadata": {},
   "outputs": [],
   "source": [
    "gg = Function(g, g)"
   ]
  },
  {
   "cell_type": "code",
   "execution_count": null,
   "id": "cdb27340-3283-4711-a301-a5dfe927ef85",
   "metadata": {},
   "outputs": [],
   "source": [
    "# From hoss: here I changed the orginal positional arg '[g_def]' to 'assumptions=[g_def]'.\n",
    "# Not clear if that preserves the original intent. See cell below\n",
    "# gg_eq = g_def.substitution(gg.inner_expr().operator, [g_def])"
   ]
  },
  {
   "cell_type": "code",
   "execution_count": null,
   "id": "ee8adc83-416e-4c0b-a0ae-0d0a2c6fe0d3",
   "metadata": {},
   "outputs": [],
   "source": [
    "# From hoss: here I changed the original positional arg '[g_def]' to 'assumptions=[g_def]'\n",
    "# See original cell above\n",
    "gg_eq = g_def.substitution(gg.inner_expr().operator, assumptions = [g_def])"
   ]
  },
  {
   "cell_type": "code",
   "execution_count": null,
   "id": "724beee6-bcb8-41fa-a0ea-340a971f28a2",
   "metadata": {},
   "outputs": [],
   "source": [
    "gg_impl_gg = Implies(gg, gg).prove()"
   ]
  },
  {
   "cell_type": "code",
   "execution_count": null,
   "id": "ccb9124f-3631-44ef-b196-2f0b3a9e8a0b",
   "metadata": {},
   "outputs": [],
   "source": [
    "gg__impl__gg_impl_A =gg_eq.sub_right_side_into(gg_impl_gg.inner_expr().consequent)"
   ]
  },
  {
   "cell_type": "code",
   "execution_count": null,
   "id": "73b09f53-3016-463f-901b-20091291de35",
   "metadata": {},
   "outputs": [],
   "source": [
    "# From hoss: here I changed the original positional arg '[gg]' to 'assumptions=[gg]'\n",
    "# Note clear if that preserves the original intent. See cell below\n",
    "# A_assuming_gg = gg__impl__gg_impl_A.derive_consequent([gg]).derive_consequent()"
   ]
  },
  {
   "cell_type": "code",
   "execution_count": null,
   "id": "568097fa-ca03-4c9b-9546-45da206522dd",
   "metadata": {},
   "outputs": [],
   "source": [
    "# From hoss: here I changed the original positional arg '[gg]' to 'assumptions=[gg]'\n",
    "# See original cell above\n",
    "A_assuming_gg = gg__impl__gg_impl_A.derive_consequent(assumptions = [gg]).derive_consequent()"
   ]
  },
  {
   "cell_type": "code",
   "execution_count": null,
   "id": "b93fe1ae-186f-4bef-965a-9be54cbb1b9d",
   "metadata": {},
   "outputs": [],
   "source": [
    "gg_impl_A = A_assuming_gg.as_implication(gg)"
   ]
  },
  {
   "cell_type": "code",
   "execution_count": null,
   "id": "bef96422-137a-4c74-8ac7-d781402be297",
   "metadata": {},
   "outputs": [],
   "source": [
    "gg_eq.sub_left_side_into(gg_impl_A)"
   ]
  },
  {
   "cell_type": "code",
   "execution_count": null,
   "id": "730ec176-aeb3-4e73-8890-86bc24dfcc19",
   "metadata": {},
   "outputs": [],
   "source": [
    "gg_impl_A.derive_consequent()"
   ]
  },
  {
   "cell_type": "code",
   "execution_count": null,
   "id": "0fb64a67-3fed-4e80-9cd8-91950e2236be",
   "metadata": {},
   "outputs": [],
   "source": []
  },
  {
   "cell_type": "markdown",
   "id": "4195fa3c-1c67-4f51-a1b7-609d67e65a06",
   "metadata": {},
   "source": [
    "### III. Another approach (20240823)"
   ]
  },
  {
   "cell_type": "markdown",
   "id": "6caf8881-8d7d-480b-8477-698da8c4f535",
   "metadata": {},
   "source": [
    "As WW points out, neither this approach nor the approach above is problematic for the Prove-It system since we are explicitly including the definitional assumption in the derivation(s). This is a kind of “simulation” of the Curry paradox."
   ]
  },
  {
   "cell_type": "code",
   "execution_count": null,
   "id": "9996e3bd-e5d8-4fb5-96da-35f0821c91ab",
   "metadata": {},
   "outputs": [],
   "source": [
    "from proveit import A, B, X, Y, Z\n",
    "from proveit.logic import Boolean, InSet\n",
    "from proveit.logic.booleans.implication import implication_contraction"
   ]
  },
  {
   "cell_type": "code",
   "execution_count": null,
   "id": "5e14b224-e7a4-4da2-8668-82421fe4076a",
   "metadata": {},
   "outputs": [],
   "source": [
    "X_def = Equals(X, Implies(X, Y))"
   ]
  },
  {
   "cell_type": "code",
   "execution_count": null,
   "id": "feafeca4-a9ce-45e2-8c15-8dd55d598619",
   "metadata": {},
   "outputs": [],
   "source": [
    "temp_assumptions = [X_def, InSet(X, Boolean), InSet(Y, Boolean)]"
   ]
  },
  {
   "cell_type": "code",
   "execution_count": null,
   "id": "d05e2bca-a9f4-4aaa-8b43-5ee7f2141ead",
   "metadata": {},
   "outputs": [],
   "source": [
    "x_implies_x = Implies(X, X).prove(assumptions = temp_assumptions)"
   ]
  },
  {
   "cell_type": "code",
   "execution_count": null,
   "id": "6f6b8121-c81f-4c50-9c74-a1a538b34c69",
   "metadata": {},
   "outputs": [],
   "source": [
    "x_implies_x_implies_y = X_def.substitution(\n",
    "        x_implies_x.inner_expr().rhs, assumptions = temp_assumptions\n",
    ").derive_right_via_equality()"
   ]
  },
  {
   "cell_type": "code",
   "execution_count": null,
   "id": "f2774a8c-eef4-4bc3-a2a4-3448a39a784f",
   "metadata": {},
   "outputs": [],
   "source": [
    "implication_contraction"
   ]
  },
  {
   "cell_type": "code",
   "execution_count": null,
   "id": "e59a8f62-3957-4b62-98f0-506c5dabea46",
   "metadata": {},
   "outputs": [],
   "source": [
    "implication_contraction_inst = implication_contraction.instantiate({A:X, B:Y}, assumptions = temp_assumptions)"
   ]
  },
  {
   "cell_type": "code",
   "execution_count": null,
   "id": "da137f77-2dcc-4655-9cf1-75f45f794bd8",
   "metadata": {},
   "outputs": [],
   "source": [
    "implication_contraction_inst_eq = implication_contraction_inst.derive_equality(assumptions = temp_assumptions)"
   ]
  },
  {
   "cell_type": "code",
   "execution_count": null,
   "id": "a55cc71b-25eb-4d8a-9e43-84b383f5c9ea",
   "metadata": {},
   "outputs": [],
   "source": [
    "x_implies_y = implication_contraction_inst_eq.sub_right_side_into(x_implies_x_implies_y, assumptions = temp_assumptions)"
   ]
  },
  {
   "cell_type": "code",
   "execution_count": null,
   "id": "c5ee1f7e-5694-4f1a-a4bb-a14d390f5084",
   "metadata": {},
   "outputs": [],
   "source": [
    "X_def.sub_left_side_into(x_implies_y, assumptions = temp_assumptions)"
   ]
  },
  {
   "cell_type": "code",
   "execution_count": null,
   "id": "9cea634f-00ec-4417-8bc2-767c6b5fa5ca",
   "metadata": {},
   "outputs": [],
   "source": [
    "x_implies_y.derive_consequent(assumptions = temp_assumptions)"
   ]
  },
  {
   "cell_type": "code",
   "execution_count": null,
   "id": "79da0fbc-fd43-4e1c-9120-93729af9a81b",
   "metadata": {},
   "outputs": [],
   "source": []
  },
  {
   "cell_type": "markdown",
   "id": "bb13689d-9637-462e-950b-49eb2b5bcdac",
   "metadata": {},
   "source": [
    "### III. Continued (20241204)"
   ]
  },
  {
   "cell_type": "code",
   "execution_count": null,
   "id": "1c92a081-98fd-4c9f-abc2-ed63f3c976df",
   "metadata": {},
   "outputs": [],
   "source": [
    "from proveit import g, P, Function, Lambda, Operation\n",
    "from proveit.logic import FALSE, Implies"
   ]
  },
  {
   "cell_type": "code",
   "execution_count": null,
   "id": "ce79b68a-7d12-416d-8b42-735ed3807a84",
   "metadata": {},
   "outputs": [],
   "source": [
    "g_of_g = Function(g, g)"
   ]
  },
  {
   "cell_type": "code",
   "execution_count": null,
   "id": "e3af62e1-a7bd-4c4e-b93d-5ef6d3d0c54e",
   "metadata": {},
   "outputs": [],
   "source": [
    "the_lambda = Lambda(P, Implies(Function(P, P), FALSE))"
   ]
  },
  {
   "cell_type": "code",
   "execution_count": null,
   "id": "9ed72c01-6129-4299-ac05-02e48004adb1",
   "metadata": {},
   "outputs": [],
   "source": [
    "g_of_g.inner_expr().operand"
   ]
  },
  {
   "cell_type": "code",
   "execution_count": null,
   "id": "214d1afd-62fb-4e00-88ac-be75b39ee443",
   "metadata": {},
   "outputs": [],
   "source": [
    "try:\n",
    "    g_of_g.inner_expr().operand.instantiate({g: the_lambda})\n",
    "except Exception as the_exception:\n",
    "    print(f'Exception: {the_exception}')"
   ]
  },
  {
   "cell_type": "markdown",
   "id": "4658f9ae-9895-45fa-a8af-9f3ce5feb0b5",
   "metadata": {},
   "source": [
    "### IV. Defining `g` via Explicit Skolemization"
   ]
  },
  {
   "cell_type": "markdown",
   "id": "673b1136-f916-4a00-91f5-6ba9dbd1d43e",
   "metadata": {},
   "source": [
    "Related: see related emails with WW on 8/26 - 8/28/24."
   ]
  },
  {
   "cell_type": "code",
   "execution_count": null,
   "id": "645fbe03-30b8-43e6-af6b-ac079e89bd24",
   "metadata": {},
   "outputs": [],
   "source": [
    "from proveit import defaults\n",
    "from proveit import g, P, Function, Lambda\n",
    "from proveit.logic import Exists, FALSE, Not"
   ]
  },
  {
   "cell_type": "code",
   "execution_count": null,
   "id": "099ef7c4-7853-4e1c-850e-2e11a8484dff",
   "metadata": {},
   "outputs": [],
   "source": [
    "the_lambda = Lambda(P, Implies(Function(P, P), FALSE))"
   ]
  },
  {
   "cell_type": "code",
   "execution_count": null,
   "id": "d3608382-b802-4a57-b0d9-53dd5f3b3b8b",
   "metadata": {},
   "outputs": [],
   "source": [
    "g_exists = Exists(g, Equals(g, the_lambda), conditions=[]).conclude_via_example(the_lambda)"
   ]
  },
  {
   "cell_type": "code",
   "execution_count": null,
   "id": "1cebacf4-aeba-41b9-a22e-da5b73b887d2",
   "metadata": {},
   "outputs": [],
   "source": [
    "g_exists.choose(g)"
   ]
  },
  {
   "cell_type": "markdown",
   "id": "d22ef0dd-08ac-4e2c-98df-83377378337b",
   "metadata": {},
   "source": [
    "We can verify that the definition of `g` is now included in the default assumptions:"
   ]
  },
  {
   "cell_type": "code",
   "execution_count": null,
   "id": "6d55957d-3cd0-4498-b667-999297705211",
   "metadata": {},
   "outputs": [],
   "source": [
    "defaults.assumptions"
   ]
  },
  {
   "cell_type": "code",
   "execution_count": null,
   "id": "511d0d6f-6e0b-44d9-8b90-1e9cffad1325",
   "metadata": {},
   "outputs": [],
   "source": [
    "g_def = defaults.assumptions[0]"
   ]
  },
  {
   "cell_type": "code",
   "execution_count": null,
   "id": "b9b8e1f1-7a2d-47ce-8177-22d942bdec35",
   "metadata": {},
   "outputs": [],
   "source": [
    "gg = Function(g, g)"
   ]
  },
  {
   "cell_type": "code",
   "execution_count": null,
   "id": "ca515e95-93cb-43d8-aa81-66979fb6d0d8",
   "metadata": {},
   "outputs": [],
   "source": [
    "gg_eq = g_def.substitution(gg.inner_expr().operator)"
   ]
  },
  {
   "cell_type": "code",
   "execution_count": null,
   "id": "e162949a-ad0b-4996-b55b-8138f3aec951",
   "metadata": {},
   "outputs": [],
   "source": [
    "gg_impl_gg = Implies(gg, gg).prove()"
   ]
  },
  {
   "cell_type": "code",
   "execution_count": null,
   "id": "4c872cf4-d6eb-496f-8867-3257334d8669",
   "metadata": {},
   "outputs": [],
   "source": [
    "gg__impl__gg_impl_false = gg_eq.sub_right_side_into(gg_impl_gg.inner_expr().consequent)"
   ]
  },
  {
   "cell_type": "code",
   "execution_count": null,
   "id": "4a3fe2e4-2571-4761-b235-ddd80fc7a715",
   "metadata": {},
   "outputs": [],
   "source": [
    "false_assuming_gg = gg__impl__gg_impl_false.derive_consequent(assumptions = [gg]).derive_consequent()"
   ]
  },
  {
   "cell_type": "code",
   "execution_count": null,
   "id": "843dda41-0f51-4797-a2ad-ee3b0ea24638",
   "metadata": {},
   "outputs": [],
   "source": [
    "gg_impl_false = false_assuming_gg.as_implication(gg)"
   ]
  },
  {
   "cell_type": "code",
   "execution_count": null,
   "id": "28dcf8e6-95fe-4c35-9741-ae263dd1f5c9",
   "metadata": {},
   "outputs": [],
   "source": [
    "gg_eq.sub_left_side_into(gg_impl_false)"
   ]
  },
  {
   "cell_type": "code",
   "execution_count": null,
   "id": "53178d36-eead-4e53-b588-d91ce02c0116",
   "metadata": {},
   "outputs": [],
   "source": [
    "false_judgment = gg_impl_false.derive_consequent()"
   ]
  },
  {
   "cell_type": "code",
   "execution_count": null,
   "id": "825bde2f-e4c8-418e-9466-3d413bcfa8ba",
   "metadata": {},
   "outputs": [],
   "source": [
    "false_judgment.eliminate(g,)"
   ]
  },
  {
   "cell_type": "code",
   "execution_count": null,
   "id": "5e9211ee-55d0-42dd-9515-b507e5991d13",
   "metadata": {},
   "outputs": [],
   "source": [
    "%end _curry_paradox_hoss"
   ]
  }
 ],
 "metadata": {
  "kernelspec": {
   "display_name": "Python 3",
   "language": "python",
   "name": "python3"
  }
 },
 "nbformat": 4,
 "nbformat_minor": 0
}
