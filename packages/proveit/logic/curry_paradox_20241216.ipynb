{
 "cells": [
  {
   "cell_type": "code",
   "execution_count": null,
   "id": "75aa4d59-797a-44ab-9d70-ecca25fd077d",
   "metadata": {},
   "outputs": [],
   "source": [
    "import proveit\n",
    "from proveit import defaults\n",
    "from proveit import g, P, Function, Lambda\n",
    "from proveit.logic import Equals, Exists, FALSE, Implies, Not, TRUE\n",
    "%begin"
   ]
  },
  {
   "cell_type": "code",
   "execution_count": null,
   "id": "099ef7c4-7853-4e1c-850e-2e11a8484dff",
   "metadata": {},
   "outputs": [],
   "source": [
    "the_lambda = Lambda(P, Implies(Function(P, P), FALSE))"
   ]
  },
  {
   "cell_type": "code",
   "execution_count": null,
   "id": "d3608382-b802-4a57-b0d9-53dd5f3b3b8b",
   "metadata": {},
   "outputs": [],
   "source": [
    "g_exists = Exists(g, Equals(g, the_lambda), conditions=[]).conclude_via_example(the_lambda)"
   ]
  },
  {
   "cell_type": "code",
   "execution_count": null,
   "id": "1cebacf4-aeba-41b9-a22e-da5b73b887d2",
   "metadata": {},
   "outputs": [],
   "source": [
    "g_exists.choose(g)"
   ]
  },
  {
   "cell_type": "code",
   "execution_count": null,
   "id": "38e7ae12-cd39-4bb5-88eb-758d94b8599a",
   "metadata": {},
   "outputs": [],
   "source": [
    "g_def = defaults.assumptions[0]"
   ]
  },
  {
   "cell_type": "code",
   "execution_count": null,
   "id": "b9b8e1f1-7a2d-47ce-8177-22d942bdec35",
   "metadata": {},
   "outputs": [],
   "source": [
    "gg = Function(g, g)"
   ]
  },
  {
   "cell_type": "code",
   "execution_count": null,
   "id": "ca515e95-93cb-43d8-aa81-66979fb6d0d8",
   "metadata": {},
   "outputs": [],
   "source": [
    "gg_eq = g_def.substitution(gg.inner_expr().operator)"
   ]
  },
  {
   "cell_type": "code",
   "execution_count": null,
   "id": "e162949a-ad0b-4996-b55b-8138f3aec951",
   "metadata": {},
   "outputs": [],
   "source": [
    "gg_impl_gg = Implies(gg, gg).prove()"
   ]
  },
  {
   "cell_type": "code",
   "execution_count": null,
   "id": "4c872cf4-d6eb-496f-8867-3257334d8669",
   "metadata": {},
   "outputs": [],
   "source": [
    "gg__impl__gg_impl_false = gg_eq.sub_right_side_into(gg_impl_gg.inner_expr().consequent)"
   ]
  },
  {
   "cell_type": "code",
   "execution_count": null,
   "id": "4a3fe2e4-2571-4761-b235-ddd80fc7a715",
   "metadata": {},
   "outputs": [],
   "source": [
    "false_assuming_gg = gg__impl__gg_impl_false.derive_consequent(assumptions = [gg]).derive_consequent()"
   ]
  },
  {
   "cell_type": "code",
   "execution_count": null,
   "id": "843dda41-0f51-4797-a2ad-ee3b0ea24638",
   "metadata": {},
   "outputs": [],
   "source": [
    "gg_impl_false = false_assuming_gg.as_implication(gg)"
   ]
  },
  {
   "cell_type": "code",
   "execution_count": null,
   "id": "28dcf8e6-95fe-4c35-9741-ae263dd1f5c9",
   "metadata": {},
   "outputs": [],
   "source": [
    "gg_eq.sub_left_side_into(gg_impl_false)"
   ]
  },
  {
   "cell_type": "code",
   "execution_count": null,
   "id": "53178d36-eead-4e53-b588-d91ce02c0116",
   "metadata": {},
   "outputs": [],
   "source": [
    "false_judgment = gg_impl_false.derive_consequent()"
   ]
  },
  {
   "cell_type": "code",
   "execution_count": null,
   "id": "825bde2f-e4c8-418e-9466-3d413bcfa8ba",
   "metadata": {},
   "outputs": [],
   "source": [
    "false_judgment.eliminate(g,)"
   ]
  },
  {
   "cell_type": "code",
   "execution_count": null,
   "id": "a1750bb1-953a-432c-a5d7-4c86d6d160a4",
   "metadata": {},
   "outputs": [],
   "source": [
    "TRUE.prove()"
   ]
  },
  {
   "cell_type": "code",
   "execution_count": null,
   "id": "3f25f30c-5ac1-4e00-8b24-90a07651af0e",
   "metadata": {},
   "outputs": [],
   "source": [
    "from proveit import A\n",
    "from proveit.logic import Boolean, InSet, Or"
   ]
  },
  {
   "cell_type": "code",
   "execution_count": null,
   "id": "5c8d9aad-dd18-4aaf-ad8a-9be1380d71c1",
   "metadata": {},
   "outputs": [],
   "source": [
    "or_by_addition = Or(TRUE, A).prove(\n",
    "    assumptions = [InSet(A, Boolean)])"
   ]
  },
  {
   "cell_type": "code",
   "execution_count": null,
   "id": "0aa37fb2-dbe9-49c6-828b-33950975ab62",
   "metadata": {},
   "outputs": [],
   "source": [
    "A_is_true = or_by_addition.derive_right_if_not_left(\n",
    "    assumptions = [InSet(A, Boolean)])"
   ]
  },
  {
   "cell_type": "code",
   "execution_count": null,
   "id": "5e9211ee-55d0-42dd-9515-b507e5991d13",
   "metadata": {},
   "outputs": [],
   "source": [
    "%end"
   ]
  },
  {
   "cell_type": "code",
   "execution_count": null,
   "id": "8efb1c04-ea45-4be5-96b5-1d2cc18af76f",
   "metadata": {},
   "outputs": [],
   "source": []
  }
 ],
 "metadata": {
  "kernelspec": {
   "display_name": "Python 3",
   "language": "python",
   "name": "python3"
  }
 },
 "nbformat": 4,
 "nbformat_minor": 0
}
