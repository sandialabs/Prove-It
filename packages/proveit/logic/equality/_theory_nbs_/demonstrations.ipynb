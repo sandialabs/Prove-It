{
 "cells": [
  {
   "cell_type": "markdown",
   "metadata": {},
   "source": [
    "Demonstrations for the theory of <a class=\"ProveItLink\" href=\"theory.ipynb\">proveit.logic.equality</a>\n",
    "========"
   ]
  },
  {
   "cell_type": "code",
   "execution_count": 1,
   "metadata": {},
   "outputs": [],
   "source": [
    "import proveit\n",
    "%begin demonstrations"
   ]
  },
  {
   "cell_type": "markdown",
   "metadata": {},
   "source": [
    "## Substitution"
   ]
  },
  {
   "cell_type": "markdown",
   "metadata": {},
   "source": [
    "Equality is a fundamental concept of logic.  When two mathematical operations are equal, then one may be substituted for the other.  This is rule is defined by the `substitution` axiom:"
   ]
  },
  {
   "cell_type": "code",
   "execution_count": 2,
   "metadata": {},
   "outputs": [
    {
     "data": {
      "text/html": [
       "<span style=\"font-size:20px;\"> <a class=\"ProveItLink\" href=\"axioms.ipynb#substitution\" style=\"text-decoration: none\">&nbsp;&#x22A2;&nbsp;&nbsp;</a><a class=\"ProveItLink\" href=\"../__pv_it/axioms/b3647e5bced6c805148d96be1aa0946871a946d20/expr.ipynb\"><img src=\"data:image/png;base64,iVBORw0KGgoAAAANSUhEUgAAAO8AAAAXBAMAAAARnwX+AAAAMFBMVEX///8AAAAAAAAAAAAAAAAA\n",
       "AAAAAAAAAAAAAAAAAAAAAAAAAAAAAAAAAAAAAAAAAAAv3aB7AAAAD3RSTlMAq1RmmUTNIjK7EInv\n",
       "3XZ/CtNrAAAACXBIWXMAAA7EAAAOxAGVKw4bAAAC/UlEQVRIx7VWTWgTURCeJLtpkk3SHDxYLCXi\n",
       "z0VLV1Chl1pp/aOCwYMnMYseBE/rUalYPUrFigexh7IFDxah1B48KJYgCKJUglDwEkixInoovVV6\n",
       "EOfN+9vsS1sT6MDMfvvmy5t5+97MC0Db4pu44z/4fuSnLUu+aGK7vj3/itACe9nXRuBDZEfeaIzy\n",
       "vRmzkZN3uZ5iL9dbj5vxmHV2v1eYSTIwmVHODa732NZMtB7YcpnNHphUmEli0GRGOUe5shydYuuB\n",
       "s2TLgcYkn0xmlJMNSBOYSbKNLT5I9l0Ik1wzmVFO0uW6WKt9biPwCDNHFndJPLv84i1+uFcGUXMy\n",
       "Ky5M4/ctcD0LMLnZ7IObB+ZL+6vwYL7HqgIcp/2vkRSgkePEK3ACz4HH9SZ0MEZm2DVn3+LQfaWG\n",
       "8UfihJ/YiOEMhw2i5tzHzLoAMDxpOnBK6EgfG2sp8Adm4msSp8CienlkEDUnyNbhC1LXuMbrdLY6\n",
       "m1TgtoGdqsZZ6lqXzTLWnHKQwuXbFa7gDbC8uueZe/XMCvZRexliocB8kFqidIhPnS5oXPYzmHuv\n",
       "scchzmnIs89c5QrzrJVAP7UzvyuJR3O2MxjXgWnw3DMUVzkApvQqGZ4pdYMjp2kseMWBx5RFYoIr\n",
       "jFJKw9R4YCqFj9u98EsHFoMQdoi6uVuSuO/Bebgoq6xBNAdOQhnPnzXHFWJ0qp5w2jrZPdAT3uN1\n",
       "NYt0ADxkpk/h56vxIdb/lozAmgPTCxdwz3IlrkI+kk1V6EpdEq8TapB/auXAn47REjTmtVM1Ajdw\n",
       "XqPeESoumw2AlzDqeBY+4Ju9pgPToBDpoOsgXrgavRqsaDMIcxwvw+6pIaEgVgUwXrR+LPzGB+zv\n",
       "93RgGhQiHShPITfpKSzkVnS9YU6uHpvjV2HoOqSkxSVVzPhpt2kdKwfKDCRklSGOZqDmDXHiA+zy\n",
       "T/tcuaT34hbYvIfYQax+qXkDUQ62naG/ORLnt/gzJTk/hYr2skp1w5MEe2CueWDl2Gnxd27qf2UN\n",
       "1FvBvR7LAAAAAElFTkSuQmCC\n",
       "\" style=\"display:inline;vertical-align:middle;\" /></a></span>"
      ],
      "text/plain": [
       "|- forall_{f, x, y | x = y} (f(x) = f(y))"
      ]
     },
     "metadata": {},
     "output_type": "display_data"
    }
   ],
   "source": [
    "from proveit.logic.equality  import substitution\n",
    "from proveit import a, b, c, d, x, y, z, fx # we'll use these later\n",
    "substitution"
   ]
  },
  {
   "cell_type": "markdown",
   "metadata": {},
   "source": [
    "The English translation of this axiom is: for any function $f$ and any $x, y$ such that $x=y$, $f(x) = f(y)$.  In other words, we may substitute $y$ for $x$ in any function whenever $x=y$.  The equality of $x$ and $y$ transfers to an equality between $f(x)$ and $f(y)$.  This is fundamental to the meaning of equality regardless of what $f$ does (as long as it can act on a single argument).  We may instantiate this axiom using any operation for $f$.  For example,"
   ]
  },
  {
   "cell_type": "code",
   "execution_count": 3,
   "metadata": {},
   "outputs": [
    {
     "data": {
      "text/html": [
       "<span style=\"font-size:20px;\"><a class=\"ProveItLink\" href=\"../__pv_it/demonstrations/b535636afc1aade6d0e2f6f1b6f236ea734bac520/expr.ipynb\"><img src=\"data:image/png;base64,iVBORw0KGgoAAAANSUhEUgAAADAAAAAOBAMAAACbXIJpAAAAMFBMVEX///8AAAAAAAAAAAAAAAAA\n",
       "AAAAAAAAAAAAAAAAAAAAAAAAAAAAAAAAAAAAAAAAAAAv3aB7AAAAD3RSTlMAIquJdkTvuxBmmd1U\n",
       "zTKBpmoTAAAACXBIWXMAAA7EAAAOxAGVKw4bAAAAkklEQVQY02NgwALasxlwgFu4JP7gEGf9gUOC\n",
       "eQOIZFR2dECT4FVxOsDAECbADta5ejcIbAIx+29wfGTgyGTg2oCm43wDQwoD1wcGbgM0ibUMDJ8Z\n",
       "2AoY+gPQJDYzsP5h6HdgmM+AZscfBq4fDP0HGHR5BFB1/GNom8DA7sCziwvNKE2GKgYGDhU7IT80\n",
       "iSarCQwAeCknwpP1M+UAAAAASUVORK5CYII=\n",
       "\" style=\"display:inline;vertical-align:middle;\" /></a> <a class=\"ProveItLink\" href=\"../__pv_it/demonstrations/1919da8d8c31330b877789cc237cfedab9f02ce20/proof.ipynb\" style=\"text-decoration: none\">&nbsp;&#x22A2;&nbsp;&nbsp;</a><a class=\"ProveItLink\" href=\"../__pv_it/demonstrations/664180a1a6c8a770465249c92a3c8195c94de2b10/expr.ipynb\"><img src=\"data:image/png;base64,iVBORw0KGgoAAAANSUhEUgAAAGgAAAAVBAMAAABYjraNAAAAMFBMVEX///8AAAAAAAAAAAAAAAAA\n",
       "AAAAAAAAAAAAAAAAAAAAAAAAAAAAAAAAAAAAAAAAAAAv3aB7AAAAD3RSTlMAInZUiRDNmWbv3US7\n",
       "qzJazP2FAAAACXBIWXMAAA7EAAAOxAGVKw4bAAABjklEQVQ4y2NgYBBgQAaoPAhgxOAwGaAo2IRF\n",
       "kzIyh1sBSJigKmBqwNDD7ABjxcwCEhoMDKwJaEpSMTSFIZjpQMwWwMCObnI7hqYKBPMzEHMUMHCi\n",
       "K+EMQBeZgPDPVxA5lcEMXQkbutXMCA+wLACRGQwlSIF5RREYMiwX0DSxOyAMvKQLDGtfoDY42CnA\n",
       "A7SeA2xw1SoQWItmdXwq60cGhjaGxUCjwAoKWGcwsAOtZ56AZhOXAdSM5Qz2AQyTGBgsGWbD3HaB\n",
       "/QMDF9AlfB/QQ2YDlCHLUMbA8IWB4T2SJs4DDPFAee4JuDUtYeAGBvpOkPOgmuIVGPpBgbUAzU9c\n",
       "BnBNnxnYgb62YjgE01QQb8BwjVmAgeMAmk08ClCGOMM/hkhgqPQAww8hybycHSWEoZGDiIMbDMeB\n",
       "ZAnDK7gI6yU/WT2gazagaeJbAGfGuoOCfzUD1wM0NVIYaW8dWu5aAEp+OJMn9iQMSuIH0cw5gKGJ\n",
       "BzU3y4AyFl4VYM+imgOyhVEBRUgRS3YXQsnaAgwAfS9XBRv9rBwAAAAASUVORK5CYII=\n",
       "\" style=\"display:inline;vertical-align:middle;\" /></a></span>"
      ],
      "text/plain": [
       "{a = b} |- [not](a) = [not](b)"
      ]
     },
     "metadata": {},
     "output_type": "display_data"
    }
   ],
   "source": [
    "from proveit.logic import Not, Equals\n",
    "substitution.instantiate({fx:Not(x), x:a, y:b}, assumptions=[Equals(a, b)])"
   ]
  },
  {
   "cell_type": "markdown",
   "metadata": {},
   "source": [
    "There are more convenient ways to apply this substitution rule than manual instantiation that was demonstrated in the previous input.  The `Equals` class has the `substitution`, `sub_left_side_into` and `sub_right_side_into` methods for conveniently applying substitution and its variants, as we will demonstrate below.  Each of these methods takes a `lambda_map` argument to provide a theory for the substitution -- what is being substituted and where.  A `lambda_map` can be an actual **Lambda** expression, an **InnerExpr** object, or if it is neither of these, it can be any other **Expression** for which the default will be to performa a global replacement."
   ]
  },
  {
   "cell_type": "code",
   "execution_count": 4,
   "metadata": {},
   "outputs": [
    {
     "data": {
      "text/html": [
       "<strong id=\"expr\">expr:</strong> <a class=\"ProveItLink\" href=\"../__pv_it/demonstrations/506a0b1daab430309f47bc73cf7228984212db5b0/expr.ipynb\"><img src=\"data:image/png;base64,iVBORw0KGgoAAAANSUhEUgAAAJoAAAAmBAMAAADO2Z8qAAAAMFBMVEX///8AAAAAAAAAAAAAAAAA\n",
       "AAAAAAAAAAAAAAAAAAAAAAAAAAAAAAAAAAAAAAAAAAAv3aB7AAAAD3RSTlMAIquJdkTvuxBmmd1U\n",
       "zTKBpmoTAAAACXBIWXMAAA7EAAAOxAGVKw4bAAACj0lEQVRIx5VWPWgUQRR+6+Xu1vX+SCsSIQGx\n",
       "EARtYjBsohAtEq4KaHMJmIhEZEGbBIuQIgop9oogBtQEG0ERTwMWWYst7D0QJFhdZWNxe3hCIsvp\n",
       "vNHd+9n35tYHt3v73sw3b97PNwPAiOHCf4m+r7I+J7WJy8+4Cd9XebCjVUqrfYAX7IyTPNo3cqVj\n",
       "Z+EGO+U+j/aZ1L5R7AbWWWPmgFTf5MYnWiJv7FbFlqi8Nbnxmid+Dc5ap70+BEiShgFLPO5yaKdo\n",
       "tUjoOOXz6LQpXo84tEMmPKOblNMbhXpNvIaYgs9hCB4sxe2Dl1CXwd5hKtHD59e4aAswJZuxSpuP\n",
       "SL0ffF4jhiTL7bA14N5DTIVHo6WwdJJhzX2kKtJs/5/PtR6jqkWj5bHcEpW4aNefXEJPc2Iz2vCE\n",
       "GUFDY3Zk0o2Bdv5qLdixqITZQlpu6ZWD8k7qZa7tfb3RH+24a1iBrgn6LTAqkVZAtE+rAWGo0HYh\n",
       "FW7tBxge0ZSloni8RrP0efGfz79RMHGG47xfchyRK6OTHn5BygK7SPq2C0m/r28pqwvNNmEbeuMm\n",
       "0fxwYQWa3ZnBJtgunMkUeoYOYU5bsF7ui4bZL7a7O21m9ozeoXLF07DSv95EQhNBhWg+6CPjgzOR\n",
       "XsD+XbtQjlG957auhFzxk+6FrNX12YGW+7IT7QU1/YMx1/XZ2fV5N9L1IftVGEY6YNmnxB9baeaY\n",
       "0X12yhhPc/kyY1hhpygotFRgDMyBoQ3P8F7DRc4QbTYpAd/Qcps9u0mKR76psmADc6zpDlk4HnMJ\n",
       "+Fvy/I3vKTne4kKAMs3HIEtlO+QbMkPziovnWwqN4pvwwFddbU8QNU/yTSDLqvNbqxEOU3wT2DCg\n",
       "fwA2sq3aOVi49gAAAABJRU5ErkJggg==\n",
       "\" style=\"display:inline;vertical-align:middle;\" /></a><br>"
      ],
      "text/plain": [
       "<IPython.core.display.HTML object>"
      ]
     },
     "metadata": {},
     "output_type": "display_data"
    }
   ],
   "source": [
    "from proveit import Lambda\n",
    "from proveit.numbers import Add, frac, Exp\n",
    "expr = Equals(a, Add(b, frac(c, d), Exp(c, d)))          "
   ]
  },
  {
   "cell_type": "markdown",
   "metadata": {},
   "source": [
    "The `global_repl` static method of `Lambda` is useful for creating a global replacement lambda map.  Below, we create a map for replacing every occurence of $d$ in `expr` with anything else:"
   ]
  },
  {
   "cell_type": "code",
   "execution_count": 5,
   "metadata": {},
   "outputs": [
    {
     "data": {
      "text/html": [
       "<strong id=\"g_repl\">g_repl:</strong> <a class=\"ProveItLink\" href=\"../__pv_it/demonstrations/bd4ac2d7bbe6e5790e635cdf21dfdf9d9d93b9f50/expr.ipynb\"><img src=\"data:image/png;base64,iVBORw0KGgoAAAANSUhEUgAAARAAAAAyCAMAAACjx3SuAAAANlBMVEX///8AAAAAAAAAAAAAAAAA\n",
       "AAAAAAAAAAAAAAAAAAAAAAAAAAAAAAAAAAAAAAAAAAAAAAAAAABHL6OuAAAAEXRSTlMAMrsiq4l2\n",
       "RO8QZpndVM3z6UwP0jwAAAAJcEhZcwAADsQAAA7EAZUrDhsAAAN/SURBVGje1VvZcuQgDMRc5nSW\n",
       "///ZHc/kADzIGGRV0m+qSrs8QrTU4DCGAb7QsVBguQXCaUhHx0LCEiwQzuZD0bHQEAMUTsFtdCxE\n",
       "KAmFExBGkLFQERwUTjxX07FwN42xQDi+YQwdCxmbh8JRGEXHeux0rR1as16TAMJB6GTJWEyEyJjn\n",
       "eCUioXBQQSQdi4W9rgye+sRyXWKaV5ElLWQs5hPuPMls0kA4NpMZOhYznCGDBygcekdJx8JYwLrZ\n",
       "lTrqpmV1SY6MxdgnbcXcMw4Ih7qFIGN99Rc103atclqJZq2a2T7DDR1rz4VyTs8Iqw3iUZ/iPhEZ\n",
       "k7mMZbkJjA7+MYwu+XKoVGY8zW5BP81CGpg7l+KhP1oWMrqydjigjnqaleJhoh5Ttg6a3XcLd9a2\n",
       "fsHFH6TFYdKLQ/NhzA3EQRPiWHftoZldQlZnWzV+XvLlaOsPbXxE8QuWCuzmhAj/wr4ZVu+iVnkp\n",
       "pbKvpGObEVJp8f3s8nUD2D9LZmfX3aTWMt6TkB5rnDgU7jncT7L4dx1XB4/Vn6u83ism8yGDbLBs\n",
       "2uxra6MnpM8amw0KHy9o3PO3NGpCl8f1uduqmX0e7WUwSwOLlJA+axwCFO4v+/2sJz7+hQKp6Esy\n",
       "tZmAtctZzxVJKi8qY8qiSi2UtVjROq1xMFD4OTPZn19dJWzd1tZPq5l9CXkmcC2bFU6FdM6MJwl5\n",
       "GUqXGjK6bLZV/AdmW0PytXumolpMlIT0WuOTLWOfLyg3FsW7hGyiFlXRZAKOJNPQvQO/1Ae7Qjqt\n",
       "8Zmocr1fYnn2NXGs4Byis4miZkJt94e1X2dyf8cc0mmNj3Z34V/Y181KrRYh9dvnHJ6ej1ggE2Ap\n",
       "7+4ZzPqscTWapjlnFYe80BnrxtH9jbtRQPhLDszuM3en9nSZPaUcq7BE6fgvGM1Rt5p3qY2OdQuq\n",
       "00w9e8pMegtxB2SCwhEnb8lY1211zxEaHxlvIU2KZKymrZ5JbSmiYv7mh/Ki6rKt7qlV5Isq5g0d\n",
       "67Kt7pCQAIVD5Ts0mq0zh9v9trpjANBQONZ4PR2rYavReoLD0CXyPnPBVp+vi4TC0Qom/aTqkq0+\n",
       "37k3fFJFUSIXDPm11EooHMam6FioqO7IVqzvk5ahT3CXX/DhboTCGYPE6ViIuO3T7j/68f+6QeGs\n",
       "jEQ6FhKqC4T6PmFar//cPxCVCcjC/+ZoJS64fwAFAAAAAElFTkSuQmCC\n",
       "\" style=\"display:inline;vertical-align:middle;\" /></a><br>"
      ],
      "text/plain": [
       "<IPython.core.display.HTML object>"
      ]
     },
     "metadata": {},
     "output_type": "display_data"
    }
   ],
   "source": [
    "g_repl = Lambda.global_repl(expr, d)"
   ]
  },
  {
   "cell_type": "markdown",
   "metadata": {},
   "source": [
    "We now use this lambda map to replace occurences of $d$ in `expr` with $y$:"
   ]
  },
  {
   "cell_type": "code",
   "execution_count": 6,
   "metadata": {},
   "outputs": [
    {
     "data": {
      "text/html": [
       "<strong id=\"d_eq_y\">d_eq_y:</strong> <a class=\"ProveItLink\" href=\"../__pv_it/demonstrations/f7fdaf37b91e34fd610e78be863563731b011e330/expr.ipynb\"><img src=\"data:image/png;base64,iVBORw0KGgoAAAANSUhEUgAAADEAAAASBAMAAAAAiiu3AAAAMFBMVEX///8AAAAAAAAAAAAAAAAA\n",
       "AAAAAAAAAAAAAAAAAAAAAAAAAAAAAAAAAAAAAAAAAAAv3aB7AAAAD3RSTlMAMs3vmVREEIndIqt2\n",
       "u2aBbGR5AAAACXBIWXMAAA7EAAAOxAGVKw4bAAAAs0lEQVQY02NgYGBgVHZgwAH4A3DJ5BfgkunE\n",
       "JcGggl2Ya8fBr6gi7EceMFQD6eQFvN9BfM+ZIDAbyOJgNWB4D1Rgx8CigKpHlGUCw14GBpYPDJwN\n",
       "qDIFzAcYbBgYmC8w1Cdg+ILxIwND/QGQmSj2MDgx8BgAZQIYNrEuQNVzm4F3AwMD7wHWKSxopnkz\n",
       "5D8Aum1P4+qDaDLVPf4LcIVKE3ZhDgV2U+wynAe4G7DLsL5xA5IAdWgrpqisVLkAAAAASUVORK5C\n",
       "YII=\n",
       "\" style=\"display:inline;vertical-align:middle;\" /></a><br>"
      ],
      "text/plain": [
       "<IPython.core.display.HTML object>"
      ]
     },
     "metadata": {},
     "output_type": "display_data"
    }
   ],
   "source": [
    "d_eq_y = Equals(d, y)"
   ]
  },
  {
   "cell_type": "code",
   "execution_count": 7,
   "metadata": {},
   "outputs": [
    {
     "data": {
      "text/html": [
       "<span style=\"font-size:20px;\"><a class=\"ProveItLink\" href=\"../__pv_it/demonstrations/f7fdaf37b91e34fd610e78be863563731b011e330/expr.ipynb\"><img src=\"data:image/png;base64,iVBORw0KGgoAAAANSUhEUgAAADEAAAASBAMAAAAAiiu3AAAAMFBMVEX///8AAAAAAAAAAAAAAAAA\n",
       "AAAAAAAAAAAAAAAAAAAAAAAAAAAAAAAAAAAAAAAAAAAv3aB7AAAAD3RSTlMAMs3vmVREEIndIqt2\n",
       "u2aBbGR5AAAACXBIWXMAAA7EAAAOxAGVKw4bAAAAs0lEQVQY02NgYGBgVHZgwAH4A3DJ5BfgkunE\n",
       "JcGggl2Ya8fBr6gi7EceMFQD6eQFvN9BfM+ZIDAbyOJgNWB4D1Rgx8CigKpHlGUCw14GBpYPDJwN\n",
       "qDIFzAcYbBgYmC8w1Cdg+ILxIwND/QGQmSj2MDgx8BgAZQIYNrEuQNVzm4F3AwMD7wHWKSxopnkz\n",
       "5D8Aum1P4+qDaDLVPf4LcIVKE3ZhDgV2U+wynAe4G7DLsL5xA5IAdWgrpqisVLkAAAAASUVORK5C\n",
       "YII=\n",
       "\" style=\"display:inline;vertical-align:middle;\" /></a> <a class=\"ProveItLink\" href=\"../__pv_it/demonstrations/bffc63bc3d388aebd5406b6c953ec002d6cd83d30/proof.ipynb\" style=\"text-decoration: none\">&nbsp;&#x22A2;&nbsp;&nbsp;</a><a class=\"ProveItLink\" href=\"../__pv_it/demonstrations/8c759ab2b479efdd6c6fd8bb1d1255f3f729cada0/expr.ipynb\"><img src=\"data:image/png;base64,iVBORw0KGgoAAAANSUhEUgAAAY0AAAAyBAMAAABSYpr2AAAAMFBMVEX///8AAAAAAAAAAAAAAAAA\n",
       "AAAAAAAAAAAAAAAAAAAAAAAAAAAAAAAAAAAAAAAAAAAv3aB7AAAAD3RSTlMAmVSrZs0y7xCJ3bsi\n",
       "RHYwvcNTAAAACXBIWXMAAA7EAAAOxAGVKw4bAAAGLElEQVRo3sVaXWgcVRS+u9vszmZ3soumFOJD\n",
       "VhAKQZIgFglCGvDvQUgW60NFkDwoeSlsq6LVBFkQKSp281AL5iF/9a9SS0Ww4IMuBH/wwexDi4/Z\n",
       "othKpYkhSoRN9M6d2bn3zpzv7k4s64GcL8yduWfPvefvnhnGOkpfwJHMZMSp3i7r2ElKjMGh+6PO\n",
       "lfxYx07SCNZwNvJkAwHsHO0rwqFHos+WHtaxc/RdFY1kZ/Yw3fsB7BhdhCPd9T1Md7CsY6yA7rwj\n",
       "4sxvlCUnzOo4fPCxvSxLV17HO9GNMdry5n+ZNMYQFEFS2JdfQQNYFmN2Q0PsfbTz/VCIXUJPPKTw\n",
       "EK3DSN+zDQZMshg7ouEUmj55krx8nqWgNWcKkofoHHYPFHJMshgbKqv4FLQ/0g5i2waTtU5KHlqW\n",
       "v+BjJWA8RlmMVeoKxrdbqRuwcrjRC5NNXyM9LoHd/AFwPXXJqEdmUcFu6H3njYsQplXnT6SIVSpR\n",
       "pHC+eqHFgqO82lCwBN2D3qgcr5Fq5MhNZ2nEqmSotSnB4iq5BQawLNeKtxR8EJY89KbyAJKmzPnN\n",
       "8Wf8HEFminWYzXsaKPDTsuyfWULbRwfRWojFoOi9h29Qa3NB+HF2k/k8QJexnUPPoWWdzpWnxD9f\n",
       "ehc4JhswiPD1sy4vtplcY/nkhoNLTHKdpuGzrju3L+v7AWHDPLI0Iww3gQ1094Sa81tSqtYjfs1+\n",
       "Jrm+YX/g+JlnkWTx+n/U/Yme83BMwGx+SBhXM6XZlJVdUX5LNXPDiRjrri8QzryL04cblnxZV5hZ\n",
       "FvuUvaQ+6CCOhsKJ1prRLE6FwEFlP6qlZ517h4RfDoW9M76J87KrgC9rkJllsQ/tDXUjHczB9PG3\n",
       "w+ZYm3rYvYNnxNIUJNeDPU7nE67Wc6xdPe5+3LWinLcJHN2otDL/Y+hBEciO3LqvDT3Stx717WtM\n",
       "ciq4Zkd+r4OI7Msy6sFlWdWMO3/OSw0cV52Vs2fY186mxj4RNOzHTuvPcqXaUo/sMrvLj9Z1yVmf\n",
       "mM6tD9NuWv2pmtkODi0Ig5KyTHo4shL1q54xF30UFnBqjPWF/HLTLb68gtOkBy9tXvP1mJWcqPms\n",
       "F1ksFF77hR5SlkkPR5Y97k3fvejjmhO6+oliyt5xhBfFT+L79NGr7j7l/nHIW9GX3RXtV0qbXF5y\n",
       "vTwQrhnbIAq6w66iriw5bUtZrPu4j2I/ppm1Q+4Hl7lWaLkfaoZroQdPeZUarYeUZdoPLZsG9LB2\n",
       "vXSo+ofQg4d0bwEMelhqZoD+4doVr2AnQkOuCCnLoIcmS7WrVe751iZPh/cGWzFOvMpNcoNuuR/8\n",
       "TluvyojaLC3iVaXADsWDBeOCuCBlmfZDlaX6uSjxv2ID+aAlCM0TY5l8az14sDrrH0IKkutxV+SP\n",
       "TD2+FAvF3UmmyTLpocrykzjHlPPs678dGw1l4BOOMiO9beTB9Jlx3/tKNcmJPGiNnl35lc6DUpZJ\n",
       "D1WW74Ycu+DR8Wm9rFD0eO4EFugehokjcXwH1yU1nLqNFyuzPsZg7X9AD8OqxW/igm5OLzHaOPSF\n",
       "T4ot68RAgengPthmmIDtJtvQxvhc4Trhuj3XdsFOF5gOWrAMrcB2adpw4NlSuE4f4PZVcY96NI/K\n",
       "Dn4GT5v5Vo1V2Ku0GxGaO8aOkJkOKwhbxKitvDJfgjvF0kXJ27ZTaNune5llersxrWAFNVYsOsA0\n",
       "a2NwvC1IHnRKqH0S2fbsQcO5m6fqXQXT0DjfJa/y2ng/nvq6wv9zHy5Z6EPdp3AfzjvqUoLJrms/\n",
       "ajQKel7hwcIde8EBYBH8OJAytBQTiyrCV3P0C4VpZHCi+ChKTh4EaFqrwQCPWthKNephF+xXPkmt\n",
       "0a7JZN03gOA94BIOvCAA8iPJdYObNyOHi9YFdN9bxO8ha2N/cFny2xGwMsNkRm3SOR2/QfNnjxIX\n",
       "qdrYlzsmOeFvkd+rxYZtXM0E36uxLDTBb4lrZG3s0TsKj5Am4FZZI9caWI/MsI4dI/jmC7z6MmYF\n",
       "2bdbK3dYj6kqzIQzIIOdwqUDWw5gx6gH57Sb5NWLhi9S/sfvMiJ/J3PPNcPbqKsB7CB1YSt5Iupc\n",
       "yaM6dpRu43dkza8/XPwXv2rWmCU9x7kAAAAASUVORK5CYII=\n",
       "\" style=\"display:inline;vertical-align:middle;\" /></a></span>"
      ],
      "text/plain": [
       "{d = y} |- (a = (b + (c / d) + c^{d})) = (a = (b + (c / y) + c^{y}))"
      ]
     },
     "metadata": {},
     "output_type": "display_data"
    }
   ],
   "source": [
    "d_eq_y.substitution(g_repl, assumptions=[d_eq_y])"
   ]
  },
  {
   "cell_type": "markdown",
   "metadata": {},
   "source": [
    "Or we can take advantage of that a global replacement is performed by default when a non-**Lambda** expression is provided as the \"`lambda_map`\"."
   ]
  },
  {
   "cell_type": "code",
   "execution_count": 8,
   "metadata": {},
   "outputs": [
    {
     "data": {
      "text/html": [
       "<span style=\"font-size:20px;\"><a class=\"ProveItLink\" href=\"../__pv_it/demonstrations/f7fdaf37b91e34fd610e78be863563731b011e330/expr.ipynb\"><img src=\"data:image/png;base64,iVBORw0KGgoAAAANSUhEUgAAADEAAAASBAMAAAAAiiu3AAAAMFBMVEX///8AAAAAAAAAAAAAAAAA\n",
       "AAAAAAAAAAAAAAAAAAAAAAAAAAAAAAAAAAAAAAAAAAAv3aB7AAAAD3RSTlMAMs3vmVREEIndIqt2\n",
       "u2aBbGR5AAAACXBIWXMAAA7EAAAOxAGVKw4bAAAAs0lEQVQY02NgYGBgVHZgwAH4A3DJ5BfgkunE\n",
       "JcGggl2Ya8fBr6gi7EceMFQD6eQFvN9BfM+ZIDAbyOJgNWB4D1Rgx8CigKpHlGUCw14GBpYPDJwN\n",
       "qDIFzAcYbBgYmC8w1Cdg+ILxIwND/QGQmSj2MDgx8BgAZQIYNrEuQNVzm4F3AwMD7wHWKSxopnkz\n",
       "5D8Aum1P4+qDaDLVPf4LcIVKE3ZhDgV2U+wynAe4G7DLsL5xA5IAdWgrpqisVLkAAAAASUVORK5C\n",
       "YII=\n",
       "\" style=\"display:inline;vertical-align:middle;\" /></a> <a class=\"ProveItLink\" href=\"../__pv_it/demonstrations/bffc63bc3d388aebd5406b6c953ec002d6cd83d30/proof.ipynb\" style=\"text-decoration: none\">&nbsp;&#x22A2;&nbsp;&nbsp;</a><a class=\"ProveItLink\" href=\"../__pv_it/demonstrations/8c759ab2b479efdd6c6fd8bb1d1255f3f729cada0/expr.ipynb\"><img src=\"data:image/png;base64,iVBORw0KGgoAAAANSUhEUgAAAY0AAAAyBAMAAABSYpr2AAAAMFBMVEX///8AAAAAAAAAAAAAAAAA\n",
       "AAAAAAAAAAAAAAAAAAAAAAAAAAAAAAAAAAAAAAAAAAAv3aB7AAAAD3RSTlMAmVSrZs0y7xCJ3bsi\n",
       "RHYwvcNTAAAACXBIWXMAAA7EAAAOxAGVKw4bAAAGLElEQVRo3sVaXWgcVRS+u9vszmZ3soumFOJD\n",
       "VhAKQZIgFglCGvDvQUgW60NFkDwoeSlsq6LVBFkQKSp281AL5iF/9a9SS0Ww4IMuBH/wwexDi4/Z\n",
       "othKpYkhSoRN9M6d2bn3zpzv7k4s64GcL8yduWfPvefvnhnGOkpfwJHMZMSp3i7r2ElKjMGh+6PO\n",
       "lfxYx07SCNZwNvJkAwHsHO0rwqFHos+WHtaxc/RdFY1kZ/Yw3fsB7BhdhCPd9T1Md7CsY6yA7rwj\n",
       "4sxvlCUnzOo4fPCxvSxLV17HO9GNMdry5n+ZNMYQFEFS2JdfQQNYFmN2Q0PsfbTz/VCIXUJPPKTw\n",
       "EK3DSN+zDQZMshg7ouEUmj55krx8nqWgNWcKkofoHHYPFHJMshgbKqv4FLQ/0g5i2waTtU5KHlqW\n",
       "v+BjJWA8RlmMVeoKxrdbqRuwcrjRC5NNXyM9LoHd/AFwPXXJqEdmUcFu6H3njYsQplXnT6SIVSpR\n",
       "pHC+eqHFgqO82lCwBN2D3qgcr5Fq5MhNZ2nEqmSotSnB4iq5BQawLNeKtxR8EJY89KbyAJKmzPnN\n",
       "8Wf8HEFminWYzXsaKPDTsuyfWULbRwfRWojFoOi9h29Qa3NB+HF2k/k8QJexnUPPoWWdzpWnxD9f\n",
       "ehc4JhswiPD1sy4vtplcY/nkhoNLTHKdpuGzrju3L+v7AWHDPLI0Iww3gQ1094Sa81tSqtYjfs1+\n",
       "Jrm+YX/g+JlnkWTx+n/U/Yme83BMwGx+SBhXM6XZlJVdUX5LNXPDiRjrri8QzryL04cblnxZV5hZ\n",
       "FvuUvaQ+6CCOhsKJ1prRLE6FwEFlP6qlZ517h4RfDoW9M76J87KrgC9rkJllsQ/tDXUjHczB9PG3\n",
       "w+ZYm3rYvYNnxNIUJNeDPU7nE67Wc6xdPe5+3LWinLcJHN2otDL/Y+hBEciO3LqvDT3Stx717WtM\n",
       "ciq4Zkd+r4OI7Msy6sFlWdWMO3/OSw0cV52Vs2fY186mxj4RNOzHTuvPcqXaUo/sMrvLj9Z1yVmf\n",
       "mM6tD9NuWv2pmtkODi0Ig5KyTHo4shL1q54xF30UFnBqjPWF/HLTLb68gtOkBy9tXvP1mJWcqPms\n",
       "F1ksFF77hR5SlkkPR5Y97k3fvejjmhO6+oliyt5xhBfFT+L79NGr7j7l/nHIW9GX3RXtV0qbXF5y\n",
       "vTwQrhnbIAq6w66iriw5bUtZrPu4j2I/ppm1Q+4Hl7lWaLkfaoZroQdPeZUarYeUZdoPLZsG9LB2\n",
       "vXSo+ofQg4d0bwEMelhqZoD+4doVr2AnQkOuCCnLoIcmS7WrVe751iZPh/cGWzFOvMpNcoNuuR/8\n",
       "TluvyojaLC3iVaXADsWDBeOCuCBlmfZDlaX6uSjxv2ID+aAlCM0TY5l8az14sDrrH0IKkutxV+SP\n",
       "TD2+FAvF3UmmyTLpocrykzjHlPPs678dGw1l4BOOMiO9beTB9Jlx3/tKNcmJPGiNnl35lc6DUpZJ\n",
       "D1WW74Ycu+DR8Wm9rFD0eO4EFugehokjcXwH1yU1nLqNFyuzPsZg7X9AD8OqxW/igm5OLzHaOPSF\n",
       "T4ot68RAgengPthmmIDtJtvQxvhc4Trhuj3XdsFOF5gOWrAMrcB2adpw4NlSuE4f4PZVcY96NI/K\n",
       "Dn4GT5v5Vo1V2Ku0GxGaO8aOkJkOKwhbxKitvDJfgjvF0kXJ27ZTaNune5llersxrWAFNVYsOsA0\n",
       "a2NwvC1IHnRKqH0S2fbsQcO5m6fqXQXT0DjfJa/y2ng/nvq6wv9zHy5Z6EPdp3AfzjvqUoLJrms/\n",
       "ajQKel7hwcIde8EBYBH8OJAytBQTiyrCV3P0C4VpZHCi+ChKTh4EaFqrwQCPWthKNephF+xXPkmt\n",
       "0a7JZN03gOA94BIOvCAA8iPJdYObNyOHi9YFdN9bxO8ha2N/cFny2xGwMsNkRm3SOR2/QfNnjxIX\n",
       "qdrYlzsmOeFvkd+rxYZtXM0E36uxLDTBb4lrZG3s0TsKj5Am4FZZI9caWI/MsI4dI/jmC7z6MmYF\n",
       "2bdbK3dYj6kqzIQzIIOdwqUDWw5gx6gH57Sb5NWLhi9S/sfvMiJ/J3PPNcPbqKsB7CB1YSt5Iupc\n",
       "yaM6dpRu43dkza8/XPwXv2rWmCU9x7kAAAAASUVORK5CYII=\n",
       "\" style=\"display:inline;vertical-align:middle;\" /></a></span>"
      ],
      "text/plain": [
       "{d = y} |- (a = (b + (c / d) + c^{d})) = (a = (b + (c / y) + c^{y}))"
      ]
     },
     "metadata": {},
     "output_type": "display_data"
    }
   ],
   "source": [
    "d_eq_y.substitution(expr, assumptions=[d_eq_y])"
   ]
  },
  {
   "cell_type": "markdown",
   "metadata": {},
   "source": [
    "Either way, the generated proof is the same:"
   ]
  },
  {
   "cell_type": "code",
   "execution_count": 9,
   "metadata": {},
   "outputs": [
    {
     "data": {
      "text/html": [
       "<table><tr><th>&nbsp;</th><th>step type</th><th>requirements</th><th>statement</th></tr>\n",
       "<tr><td><a name=\"-0x567263007367fd20_step0\">0</a></td><td>instantiation</td><td><a href=\"#-0x567263007367fd20_step1\">1</a>, <a href=\"#-0x567263007367fd20_step2\">2</a></td><td><span style=\"font-size:20px;\"><a class=\"ProveItLink\" href=\"../__pv_it/demonstrations/f7fdaf37b91e34fd610e78be863563731b011e330/expr.ipynb\"><img src=\"data:image/png;base64,iVBORw0KGgoAAAANSUhEUgAAADEAAAASBAMAAAAAiiu3AAAAMFBMVEX///8AAAAAAAAAAAAAAAAA\n",
       "AAAAAAAAAAAAAAAAAAAAAAAAAAAAAAAAAAAAAAAAAAAv3aB7AAAAD3RSTlMAMs3vmVREEIndIqt2\n",
       "u2aBbGR5AAAACXBIWXMAAA7EAAAOxAGVKw4bAAAAs0lEQVQY02NgYGBgVHZgwAH4A3DJ5BfgkunE\n",
       "JcGggl2Ya8fBr6gi7EceMFQD6eQFvN9BfM+ZIDAbyOJgNWB4D1Rgx8CigKpHlGUCw14GBpYPDJwN\n",
       "qDIFzAcYbBgYmC8w1Cdg+ILxIwND/QGQmSj2MDgx8BgAZQIYNrEuQNVzm4F3AwMD7wHWKSxopnkz\n",
       "5D8Aum1P4+qDaDLVPf4LcIVKE3ZhDgV2U+wynAe4G7DLsL5xA5IAdWgrpqisVLkAAAAASUVORK5C\n",
       "YII=\n",
       "\" style=\"display:inline;vertical-align:middle;\" /></a> <a class=\"ProveItLink\" href=\"../__pv_it/demonstrations/bffc63bc3d388aebd5406b6c953ec002d6cd83d30/proof.ipynb\" style=\"text-decoration: none\">&nbsp;&#x22A2;&nbsp;&nbsp;</a><a class=\"ProveItLink\" href=\"../__pv_it/demonstrations/8c759ab2b479efdd6c6fd8bb1d1255f3f729cada0/expr.ipynb\"><img src=\"data:image/png;base64,iVBORw0KGgoAAAANSUhEUgAAAY0AAAAyBAMAAABSYpr2AAAAMFBMVEX///8AAAAAAAAAAAAAAAAA\n",
       "AAAAAAAAAAAAAAAAAAAAAAAAAAAAAAAAAAAAAAAAAAAv3aB7AAAAD3RSTlMAmVSrZs0y7xCJ3bsi\n",
       "RHYwvcNTAAAACXBIWXMAAA7EAAAOxAGVKw4bAAAGLElEQVRo3sVaXWgcVRS+u9vszmZ3soumFOJD\n",
       "VhAKQZIgFglCGvDvQUgW60NFkDwoeSlsq6LVBFkQKSp281AL5iF/9a9SS0Ww4IMuBH/wwexDi4/Z\n",
       "othKpYkhSoRN9M6d2bn3zpzv7k4s64GcL8yduWfPvefvnhnGOkpfwJHMZMSp3i7r2ElKjMGh+6PO\n",
       "lfxYx07SCNZwNvJkAwHsHO0rwqFHos+WHtaxc/RdFY1kZ/Yw3fsB7BhdhCPd9T1Md7CsY6yA7rwj\n",
       "4sxvlCUnzOo4fPCxvSxLV17HO9GNMdry5n+ZNMYQFEFS2JdfQQNYFmN2Q0PsfbTz/VCIXUJPPKTw\n",
       "EK3DSN+zDQZMshg7ouEUmj55krx8nqWgNWcKkofoHHYPFHJMshgbKqv4FLQ/0g5i2waTtU5KHlqW\n",
       "v+BjJWA8RlmMVeoKxrdbqRuwcrjRC5NNXyM9LoHd/AFwPXXJqEdmUcFu6H3njYsQplXnT6SIVSpR\n",
       "pHC+eqHFgqO82lCwBN2D3qgcr5Fq5MhNZ2nEqmSotSnB4iq5BQawLNeKtxR8EJY89KbyAJKmzPnN\n",
       "8Wf8HEFminWYzXsaKPDTsuyfWULbRwfRWojFoOi9h29Qa3NB+HF2k/k8QJexnUPPoWWdzpWnxD9f\n",
       "ehc4JhswiPD1sy4vtplcY/nkhoNLTHKdpuGzrju3L+v7AWHDPLI0Iww3gQ1094Sa81tSqtYjfs1+\n",
       "Jrm+YX/g+JlnkWTx+n/U/Yme83BMwGx+SBhXM6XZlJVdUX5LNXPDiRjrri8QzryL04cblnxZV5hZ\n",
       "FvuUvaQ+6CCOhsKJ1prRLE6FwEFlP6qlZ517h4RfDoW9M76J87KrgC9rkJllsQ/tDXUjHczB9PG3\n",
       "w+ZYm3rYvYNnxNIUJNeDPU7nE67Wc6xdPe5+3LWinLcJHN2otDL/Y+hBEciO3LqvDT3Stx717WtM\n",
       "ciq4Zkd+r4OI7Msy6sFlWdWMO3/OSw0cV52Vs2fY186mxj4RNOzHTuvPcqXaUo/sMrvLj9Z1yVmf\n",
       "mM6tD9NuWv2pmtkODi0Ig5KyTHo4shL1q54xF30UFnBqjPWF/HLTLb68gtOkBy9tXvP1mJWcqPms\n",
       "F1ksFF77hR5SlkkPR5Y97k3fvejjmhO6+oliyt5xhBfFT+L79NGr7j7l/nHIW9GX3RXtV0qbXF5y\n",
       "vTwQrhnbIAq6w66iriw5bUtZrPu4j2I/ppm1Q+4Hl7lWaLkfaoZroQdPeZUarYeUZdoPLZsG9LB2\n",
       "vXSo+ofQg4d0bwEMelhqZoD+4doVr2AnQkOuCCnLoIcmS7WrVe751iZPh/cGWzFOvMpNcoNuuR/8\n",
       "TluvyojaLC3iVaXADsWDBeOCuCBlmfZDlaX6uSjxv2ID+aAlCM0TY5l8az14sDrrH0IKkutxV+SP\n",
       "TD2+FAvF3UmmyTLpocrykzjHlPPs678dGw1l4BOOMiO9beTB9Jlx3/tKNcmJPGiNnl35lc6DUpZJ\n",
       "D1WW74Ycu+DR8Wm9rFD0eO4EFugehokjcXwH1yU1nLqNFyuzPsZg7X9AD8OqxW/igm5OLzHaOPSF\n",
       "T4ot68RAgengPthmmIDtJtvQxvhc4Trhuj3XdsFOF5gOWrAMrcB2adpw4NlSuE4f4PZVcY96NI/K\n",
       "Dn4GT5v5Vo1V2Ku0GxGaO8aOkJkOKwhbxKitvDJfgjvF0kXJ27ZTaNune5llersxrWAFNVYsOsA0\n",
       "a2NwvC1IHnRKqH0S2fbsQcO5m6fqXQXT0DjfJa/y2ng/nvq6wv9zHy5Z6EPdp3AfzjvqUoLJrms/\n",
       "ajQKel7hwcIde8EBYBH8OJAytBQTiyrCV3P0C4VpZHCi+ChKTh4EaFqrwQCPWthKNephF+xXPkmt\n",
       "0a7JZN03gOA94BIOvCAA8iPJdYObNyOHi9YFdN9bxO8ha2N/cFny2xGwMsNkRm3SOR2/QfNnjxIX\n",
       "qdrYlzsmOeFvkd+rxYZtXM0E36uxLDTBb4lrZG3s0TsKj5Am4FZZI9caWI/MsI4dI/jmC7z6MmYF\n",
       "2bdbK3dYj6kqzIQzIIOdwqUDWw5gx6gH57Sb5NWLhi9S/sfvMiJ/J3PPNcPbqKsB7CB1YSt5Iupc\n",
       "yaM6dpRu43dkza8/XPwXv2rWmCU9x7kAAAAASUVORK5CYII=\n",
       "\" style=\"display:inline;vertical-align:middle;\" /></a></span></td></tr>\n",
       "<tr><td>&nbsp;</td><td colspan=4 style=\"text-align:left\"><span style=\"font-size:20px;\"><a class=\"ProveItLink\" href=\"../__pv_it/demonstrations/1fec0eaf1cfb24a7fd0f169d6d2b28f8410bcd7c0/expr.ipynb\"><img src=\"data:image/png;base64,iVBORw0KGgoAAAANSUhEUgAAADYAAAAVBAMAAAD/UwB2AAAAMFBMVEX///8AAAAAAAAAAAAAAAAA\n",
       "AAAAAAAAAAAAAAAAAAAAAAAAAAAAAAAAAAAAAAAAAAAv3aB7AAAAD3RSTlMAmYkQqzLvVES73WZ2\n",
       "Is1wFLxSAAAACXBIWXMAAA7EAAAOxAGVKw4bAAABDUlEQVQoz2NggANeBmSAyjuOwuM4AKYYlQyA\n",
       "JLsCihzDaTCpElYAJO1QpRj4QBoY0jtBlDSaHLcAyOTPYHYCmhxDMhAzLQCx2B+gy70G6nVbAtLN\n",
       "iOSUKzp3QM4AYn6wa/k2IJyfyzAf6IJ9QOb9AJAAVwFczmwDgxSQKgPierAAWwNcTp6BYRGQigdi\n",
       "LXS5TAbmH0CqDYinMKCayfyHgfsDkK4C4hywCOcBuNx3BpYHtQwMO4EB/gMswuQAN3MOQ5UA0FtC\n",
       "QE9/AAuwAkMgciYQXGAwORTrA3T7CqCnoRqWogUL7wKGEj6oIzaiyTFuYFgJixvOC6hyNxkY9sjC\n",
       "nDcBVW4uMucOihTPBQYAeJk0yx5NH1wAAAAASUVORK5CYII=\n",
       "\" style=\"display:inline;vertical-align:middle;\" /></a> : <a class=\"ProveItLink\" href=\"../__pv_it/demonstrations/140732fc92b5454dabe151b65c63cd7db748796a0/expr.ipynb\"><img src=\"data:image/png;base64,iVBORw0KGgoAAAANSUhEUgAAALkAAAAyBAMAAADy9Gd0AAAAMFBMVEX///8AAAAAAAAAAAAAAAAA\n",
       "AAAAAAAAAAAAAAAAAAAAAAAAAAAAAAAAAAAAAAAAAAAv3aB7AAAAD3RSTlMAIquJdkTvuxBmmd1U\n",
       "zTKBpmoTAAAACXBIWXMAAA7EAAAOxAGVKw4bAAACyUlEQVRYw7VYv2sUQRR+l/ux695ld7G1CUQE\n",
       "QcmJNkHIRQiojblKSCF3/sAgNrHRwuYghZXcFUG00LtGJWeRM4Kom+KKYGORw8rCIv/BRUhxgqKz\n",
       "Oxc8Zua9nduJr7t9zHdv5vvet28WAAtrFwziUY3OnzQBB/cDmZ4oGqHDFzL73Awc0lNEMnXdEB0+\n",
       "Ern8vCn6Z4LXJ6bgMNnCczeJdecu64g1+wNNZQb4smNdZ0Wn+K/4sROMv4OcFik76MH38b07A82D\n",
       "r6M1nMAX5VY00a0OlrmRpCQhjmC0uj/xRV4DoKyDbmMgGVxNwASTphW5unaGPACrSiw+++wSXfNb\n",
       "lxf3kGTOvt9J0qROy+XFlTDmWrHNTIiqnOHd0kTo6XNdeN3h7yWi4RtSab71tDaCIrcZh60cdNs2\n",
       "jl6QIHJ+f6k2cgJSNLkozsN46Kl2u/0Ssuvbs3zr7IBS0xekv1/0uQ8tnNJHTy+8EDuDaeOqb4XO\n",
       "4QRRcD5K0c7s37W6r4ue2oLX4hH1wL4DjiS8jQi9MDhwQw30fBFuiUbbAWcvTAgxw4XbA4+l3gTB\n",
       "7SDYDJ/8GYk9vuH3d/mGN2S/zVfDxqmX1ejsXytd3dqXQYXOLK8J4rnzQpjchxXFo9v7CvQO1Ltw\n",
       "uuALz0vRA2+XkaJbOzPErMyqNV/45EiKjPQ+0bBa2uhMMHMi+hTYx+eOXlF3kz29rt9N6dk1kVcP\n",
       "6dUdgeexnOCf4SCjaF+wprFcTPRC+e2WyHoRL5S11DsM9EUfGd6rh4E+gw0LMRORylflWMYmjl/0\n",
       "uqGvxpSwn2BaChtB5av60xK8ot/6Kl+VyUMLqJDTltJXZVmj1ORbMdNtM57UJjph06JR+qoUm8lu\n",
       "NmpfHeNmg2zLfcDintpXpRKI68tk0bRTK8SN0jW+DW9RyYv/8yZv/BXiGp3+bvYF5VsM50Zffx5H\n",
       "nP4Frai7pjvXtx4AAAAASUVORK5CYII=\n",
       "\" style=\"display:inline;vertical-align:middle;\" /></a>, <a class=\"ProveItLink\" href=\"../../../__pv_it/common/a0d9d672aa5e272d907247690c152cc2c6daafb70/expr.ipynb\"><img src=\"data:image/png;base64,iVBORw0KGgoAAAANSUhEUgAAAAsAAAAJBAMAAAAWSsseAAAAMFBMVEX///8AAAAAAAAAAAAAAAAA\n",
       "AAAAAAAAAAAAAAAAAAAAAAAAAAAAAAAAAAAAAAAAAAAv3aB7AAAAD3RSTlMAEHarMolUmd1mIs3v\n",
       "RLtmgJDEAAAACXBIWXMAAA7EAAAOxAGVKw4bAAAAQklEQVQI12NgEFIWCU1gYChgMmJvYOBcwPmR\n",
       "eQIDCwP7BgYQ4FEAU/cXMAowyF2wYWBlYMh3rGG4xsAgrsRWmcAAAFEjCyBvD0T9AAAAAElFTkSu\n",
       "QmCC\n",
       "\" style=\"display:inline;vertical-align:middle;\" /></a> : <a class=\"ProveItLink\" href=\"../../../__pv_it/common/4f5c524ffda87296de1c79b96880123fe2efedd50/expr.ipynb\"><img src=\"data:image/png;base64,iVBORw0KGgoAAAANSUhEUgAAAAsAAAAOBAMAAAALT/umAAAAMFBMVEX///8AAAAAAAAAAAAAAAAA\n",
       "AAAAAAAAAAAAAAAAAAAAAAAAAAAAAAAAAAAAAAAAAAAv3aB7AAAAD3RSTlMAMs3vmVREEIndIqt2\n",
       "u2aBbGR5AAAACXBIWXMAAA7EAAAOxAGVKw4bAAAAWklEQVQI12NgYGBgVHZgAAH+ADCVXwCmOsEk\n",
       "gwoQc+04+BVIJS/g/c7AwG7HwKLAwMDygYGzgYGB+QJDfQIDQ/0BhvdAFfUBDJtYFzDwHmCdwgJU\n",
       "uadx9UEGAKwhEtVeQlhQAAAAAElFTkSuQmCC\n",
       "\" style=\"display:inline;vertical-align:middle;\" /></a>, <a class=\"ProveItLink\" href=\"../../../__pv_it/common/ff7dba4ef0bbe791ab573bf2d9c220a304399ac80/expr.ipynb\"><img src=\"data:image/png;base64,iVBORw0KGgoAAAANSUhEUgAAAAsAAAANBAMAAACN24kIAAAAMFBMVEX///8AAAAAAAAAAAAAAAAA\n",
       "AAAAAAAAAAAAAAAAAAAAAAAAAAAAAAAAAAAAAAAAAAAv3aB7AAAAD3RSTlMAEHaZZquJVO8y3btE\n",
       "zSKD2s2pAAAACXBIWXMAAA7EAAAOxAGVKw4bAAAAVklEQVQI12NgVHZgEGVgYGNvYPBnYJjOvIAh\n",
       "moFBgEOBoYmBgeG8AOdPIGXLwNQApLYycAcAKVOG8w5ASjTJ/gEDCOQCMdsFxnYgxaXAmgCk2J1s\n",
       "gCQAaFoNDtFIIdEAAAAASUVORK5CYII=\n",
       "\" style=\"display:inline;vertical-align:middle;\" /></a> : <a class=\"ProveItLink\" href=\"../../../__pv_it/common/ff7dba4ef0bbe791ab573bf2d9c220a304399ac80/expr.ipynb\"><img src=\"data:image/png;base64,iVBORw0KGgoAAAANSUhEUgAAAAsAAAANBAMAAACN24kIAAAAMFBMVEX///8AAAAAAAAAAAAAAAAA\n",
       "AAAAAAAAAAAAAAAAAAAAAAAAAAAAAAAAAAAAAAAAAAAv3aB7AAAAD3RSTlMAEHaZZquJVO8y3btE\n",
       "zSKD2s2pAAAACXBIWXMAAA7EAAAOxAGVKw4bAAAAVklEQVQI12NgVHZgEGVgYGNvYPBnYJjOvIAh\n",
       "moFBgEOBoYmBgeG8AOdPIGXLwNQApLYycAcAKVOG8w5ASjTJ/gEDCOQCMdsFxnYgxaXAmgCk2J1s\n",
       "gCQAaFoNDtFIIdEAAAAASUVORK5CYII=\n",
       "\" style=\"display:inline;vertical-align:middle;\" /></a></span></td></tr><tr><td><a name=\"-0x567263007367fd20_step1\">1</a></td><td>axiom</td><td></td><td><span style=\"font-size:20px;\"> <a class=\"ProveItLink\" href=\"axioms.ipynb#substitution\" style=\"text-decoration: none\">&nbsp;&#x22A2;&nbsp;&nbsp;</a><a class=\"ProveItLink\" href=\"../__pv_it/axioms/b3647e5bced6c805148d96be1aa0946871a946d20/expr.ipynb\"><img src=\"data:image/png;base64,iVBORw0KGgoAAAANSUhEUgAAAO8AAAAXBAMAAAARnwX+AAAAMFBMVEX///8AAAAAAAAAAAAAAAAA\n",
       "AAAAAAAAAAAAAAAAAAAAAAAAAAAAAAAAAAAAAAAAAAAv3aB7AAAAD3RSTlMAq1RmmUTNIjK7EInv\n",
       "3XZ/CtNrAAAACXBIWXMAAA7EAAAOxAGVKw4bAAAC/UlEQVRIx7VWTWgTURCeJLtpkk3SHDxYLCXi\n",
       "z0VLV1Chl1pp/aOCwYMnMYseBE/rUalYPUrFigexh7IFDxah1B48KJYgCKJUglDwEkixInoovVV6\n",
       "EOfN+9vsS1sT6MDMfvvmy5t5+97MC0Db4pu44z/4fuSnLUu+aGK7vj3/itACe9nXRuBDZEfeaIzy\n",
       "vRmzkZN3uZ5iL9dbj5vxmHV2v1eYSTIwmVHODa732NZMtB7YcpnNHphUmEli0GRGOUe5shydYuuB\n",
       "s2TLgcYkn0xmlJMNSBOYSbKNLT5I9l0Ik1wzmVFO0uW6WKt9biPwCDNHFndJPLv84i1+uFcGUXMy\n",
       "Ky5M4/ctcD0LMLnZ7IObB+ZL+6vwYL7HqgIcp/2vkRSgkePEK3ACz4HH9SZ0MEZm2DVn3+LQfaWG\n",
       "8UfihJ/YiOEMhw2i5tzHzLoAMDxpOnBK6EgfG2sp8Adm4msSp8CienlkEDUnyNbhC1LXuMbrdLY6\n",
       "m1TgtoGdqsZZ6lqXzTLWnHKQwuXbFa7gDbC8uueZe/XMCvZRexliocB8kFqidIhPnS5oXPYzmHuv\n",
       "scchzmnIs89c5QrzrJVAP7UzvyuJR3O2MxjXgWnw3DMUVzkApvQqGZ4pdYMjp2kseMWBx5RFYoIr\n",
       "jFJKw9R4YCqFj9u98EsHFoMQdoi6uVuSuO/Bebgoq6xBNAdOQhnPnzXHFWJ0qp5w2jrZPdAT3uN1\n",
       "NYt0ADxkpk/h56vxIdb/lozAmgPTCxdwz3IlrkI+kk1V6EpdEq8TapB/auXAn47REjTmtVM1Ajdw\n",
       "XqPeESoumw2AlzDqeBY+4Ju9pgPToBDpoOsgXrgavRqsaDMIcxwvw+6pIaEgVgUwXrR+LPzGB+zv\n",
       "93RgGhQiHShPITfpKSzkVnS9YU6uHpvjV2HoOqSkxSVVzPhpt2kdKwfKDCRklSGOZqDmDXHiA+zy\n",
       "T/tcuaT34hbYvIfYQax+qXkDUQ62naG/ORLnt/gzJTk/hYr2skp1w5MEe2CueWDl2Gnxd27qf2UN\n",
       "1FvBvR7LAAAAAElFTkSuQmCC\n",
       "\" style=\"display:inline;vertical-align:middle;\" /></a></span></td></tr>\n",
       "<tr><td>&nbsp;</td><td colspan=4 style-\"text-align:left\"><a class=\"ProveItLink\" href=\"axioms.ipynb#substitution\">proveit.logic.equality.substitution</a></td></tr><tr><td><a name=\"-0x567263007367fd20_step2\">2</a></td><td>assumption</td><td></td><td><span style=\"font-size:20px;\"><a class=\"ProveItLink\" href=\"../__pv_it/demonstrations/f7fdaf37b91e34fd610e78be863563731b011e330/expr.ipynb\"><img src=\"data:image/png;base64,iVBORw0KGgoAAAANSUhEUgAAADEAAAASBAMAAAAAiiu3AAAAMFBMVEX///8AAAAAAAAAAAAAAAAA\n",
       "AAAAAAAAAAAAAAAAAAAAAAAAAAAAAAAAAAAAAAAAAAAv3aB7AAAAD3RSTlMAMs3vmVREEIndIqt2\n",
       "u2aBbGR5AAAACXBIWXMAAA7EAAAOxAGVKw4bAAAAs0lEQVQY02NgYGBgVHZgwAH4A3DJ5BfgkunE\n",
       "JcGggl2Ya8fBr6gi7EceMFQD6eQFvN9BfM+ZIDAbyOJgNWB4D1Rgx8CigKpHlGUCw14GBpYPDJwN\n",
       "qDIFzAcYbBgYmC8w1Cdg+ILxIwND/QGQmSj2MDgx8BgAZQIYNrEuQNVzm4F3AwMD7wHWKSxopnkz\n",
       "5D8Aum1P4+qDaDLVPf4LcIVKE3ZhDgV2U+wynAe4G7DLsL5xA5IAdWgrpqisVLkAAAAASUVORK5C\n",
       "YII=\n",
       "\" style=\"display:inline;vertical-align:middle;\" /></a> <a class=\"ProveItLink\" href=\"../__pv_it/demonstrations/22a4008166092493fba88e32967618872766b46d0/proof.ipynb\" style=\"text-decoration: none\">&nbsp;&#x22A2;&nbsp;&nbsp;</a><a class=\"ProveItLink\" href=\"../__pv_it/demonstrations/f7fdaf37b91e34fd610e78be863563731b011e330/expr.ipynb\"><img src=\"data:image/png;base64,iVBORw0KGgoAAAANSUhEUgAAADEAAAASBAMAAAAAiiu3AAAAMFBMVEX///8AAAAAAAAAAAAAAAAA\n",
       "AAAAAAAAAAAAAAAAAAAAAAAAAAAAAAAAAAAAAAAAAAAv3aB7AAAAD3RSTlMAMs3vmVREEIndIqt2\n",
       "u2aBbGR5AAAACXBIWXMAAA7EAAAOxAGVKw4bAAAAs0lEQVQY02NgYGBgVHZgwAH4A3DJ5BfgkunE\n",
       "JcGggl2Ya8fBr6gi7EceMFQD6eQFvN9BfM+ZIDAbyOJgNWB4D1Rgx8CigKpHlGUCw14GBpYPDJwN\n",
       "qDIFzAcYbBgYmC8w1Cdg+ILxIwND/QGQmSj2MDgx8BgAZQIYNrEuQNVzm4F3AwMD7wHWKSxopnkz\n",
       "5D8Aum1P4+qDaDLVPf4LcIVKE3ZhDgV2U+wynAe4G7DLsL5xA5IAdWgrpqisVLkAAAAASUVORK5C\n",
       "YII=\n",
       "\" style=\"display:inline;vertical-align:middle;\" /></a></span></td></tr>\n",
       "</table>"
      ],
      "text/plain": [
       "\tstep type\trequirements\tstatement\n",
       "0\tinstantiation\t1, 2\t{d = y} |- (a = (b + (c / d) + c^{d})) = (a = (b + (c / y) + c^{y}))\n",
       "\tf(_a) : a = (b + (c / _a) + c^{_a}), x : d, y : y\n",
       "1\taxiom\t\t|- forall_{f, x, y | x = y} (f(x) = f(y))\n",
       "\tproveit.logic.equality.substitution\n",
       "2\tassumption\t\t{d = y} |- d = y"
      ]
     },
     "metadata": {},
     "output_type": "display_data"
    }
   ],
   "source": [
    "d_eq_y.substitution(expr, assumptions=[d_eq_y]).proof()"
   ]
  },
  {
   "cell_type": "markdown",
   "metadata": {},
   "source": [
    "If we want to perform substitution for a specific inner expression, and not necessarily a global replacement, the `proveit._core_.expression.InnerExpr` class (aliased as `proveit.InnerExpr`) is extremely convenient.  It uses some Python tricks via implementing the `__getitem__` and `__getattr__` methods.  First, you create the `InnerExpr` object by calling the `inner_expr()` method on the top-level expression:"
   ]
  },
  {
   "cell_type": "code",
   "execution_count": 10,
   "metadata": {},
   "outputs": [
    {
     "data": {
      "text/html": [
       "<strong id=\"inner_expr\">inner_expr:</strong> <a class=\"ProveItLink\" href=\"../__pv_it/demonstrations/5f7a377c94a2ae3827bf8b1cd5e35441fe88b3ac0/expr.ipynb\"><img src=\"data:image/png;base64,iVBORw0KGgoAAAANSUhEUgAAAQMAAAAyCAMAAABvXk5FAAAANlBMVEX///8AAAAAAAAAAAAAAAAA\n",
       "AAAAAAAAAAAAAAAAAAAAAAAAAAAAAAAAAAAAAAAAAAAAAAAAAABHL6OuAAAAEXRSTlMAIrt2mRCJ\n",
       "ZkSrMu/dzVTz6YZJ0GMAAAAJcEhZcwAADsQAAA7EAZUrDhsAAATgSURBVGje7VvXltsgEAUGED3h\n",
       "/382EmpUFctsduPw4OXYMxJcpg+L0DIwIeiThtKQfwWesi94MxijvslThTY4+YL74UvQ5+L7PJdZ\n",
       "HYMgPC1kxWp5jKPVPD8OLX4QBojpWP2Jr5BYefKMHAOE/Y/CYJT+SIV8zR6SMwxsjgH6YRgov9tF\n",
       "5uV3xQBwRwxYZAJYaQ7+IgaJf3L0G2AwAHDOgo2kGIAAEuNneKWl44/ULavgAGrGYGVZh6HHa8WS\n",
       "A96l0iQ/moM97IxdMXCT/6A2rEa6SYWG8XWDDhgEB2tpMLEu2BiRsixPt4cYiImeeFbftSMHHn5j\n",
       "7I+B8NNmid7MpwoGdXYcYto4sbtfiFgK4a6slekpNKGmdfJAWMu17Yy97QETfMYgnIjnOwYz18jM\n",
       "ZgPLVnuwslzRWxr8stlty6/fJhm+YWVixr4YMCqdizGAAgOyOpkFg53lCgYhUGHRPk0eizX2FzN2\n",
       "1gUxbfkQg0wOIpYLGMysg29ZQWVbqhAzdsUg/DIqt8IVDCRa55bs9iBiuYTBZE2lRQ5XMbC4uYGI\n",
       "sT8G4NX4IhtjML3ThiOSk0LikCnIkHlFLFf8wuhtkRvd57YEcTE+iBn7YKCk1hKPf8AB4waU9Foq\n",
       "R8ZPxK2fTBFhTgiY385oiA+MRDtLKz5QZB0TSkwCV1hCPfvl8ddtxl5y8K/nzv8xyPMk5flHYhDn\n",
       "y+DFZ2Jgd5eszVdVMnmneqJ+DQO3lRCpxuhDB11COaoV+tgRNs+MZOiDhxvjGGbe1VgYRF/6G1Zn\n",
       "Ct93d3/o+F3otbxJFxztS39j4Mnc483v4YMOmlw2/xabyGxHeg4D3PETZC7pbRIHhxIzB/T2OQZk\n",
       "eIGekUtu2Qik9FVs+QB23rPZy3MNdRd7e+0NMRLWr9HbCxpBx2NlF/WVGbxk9uO2tkgYGiXyqLf0\n",
       "hliZ8tfovSvOphCoagAk6nJH6bSdNR1gKJ9lsbJ9Z850V5IWelEuzhXKWy1JubqOT3jBagPthpMd\n",
       "znKm5xgoz16i5+bC5kJBkV/CgE14EWBsUyKUzR7lzlknJK6MTBF7g6oZ4S/bkwDSnWwO02EAdoYB\n",
       "BxgU0sEcDDM1bEYK9DswyDshcYUslPWqVDQuksuCfnwIm8/uVMhPxAUbF05b0MEBH1CmaaIqpzcx\n",
       "KDohaVtwuchTUrU8I1nytukp6a2Y1zAIbYb8eo3avL/y6jkGRSckU1l5haqkD+KweqVZaLTOhSZf\n",
       "SoWMVs95vw9RvxlxE4OiE5JFMfQKVUEf0BKpf8zlwK/jSA50w+aJYvY6BmUnpHauJVXLHixyEHaf\n",
       "neErusA81PMGVcyeYJB3QuoYHFOVGKjVhjy0B0vMK3J7gIvZA10oOiGZXyB1qma6NtPLcemEXnH8\n",
       "PD/IlGz2/1zl6cBDv3DWCUnjg9n/HvdLavScDpeCH+yPyTivxBCDLmePYqTj6OFmnHhAX8cAyLVY\n",
       "OfUgspy1MZAPMUB3C7tt+jIZitLh05wptTon+QKOz94/vqv8at54Mx2+V6Y5yxuTfJn4pzVFpbvR\n",
       "x+nwvYKlLGepgsXIvqGAIF0v+iQdvjP2O9kG1+N/m7oe9xCDbvXENB2+IwYn9cTszna4u/8QBMc7\n",
       "0Sfp8I1q3UldWZhCOp7/D0ev/kKSDt+wuqycJQZpE44/a6Q0laBxnrsAAAAASUVORK5CYII=\n",
       "\" style=\"display:inline;vertical-align:middle;\" /></a><br>"
      ],
      "text/plain": [
       "<IPython.core.display.HTML object>"
      ]
     },
     "metadata": {},
     "output_type": "display_data"
    }
   ],
   "source": [
    "inner_expr = expr.inner_expr()"
   ]
  },
  {
   "cell_type": "markdown",
   "metadata": {},
   "source": [
    "The `InnerExpr` object displays itself with two important pieces of information: the lambda map that it represents and the inner expression of the top-level expression that would be replaced by this lambda map.  The point is that we will be able to \"dig\" in to inner expressions of the top-level expression via accessing sub-expression attributes.  For example, we next will \"dig\" into the \"right hand side\" (`rhs`) of the master expression: "
   ]
  },
  {
   "cell_type": "code",
   "execution_count": 11,
   "metadata": {},
   "outputs": [
    {
     "data": {
      "text/html": [
       "<strong id=\"inner_expr\">inner_expr:</strong> <a class=\"ProveItLink\" href=\"../__pv_it/demonstrations/dc58f2d72f8ca4a7b0dcd3914a9151b2524051050/expr.ipynb\"><img src=\"data:image/png;base64,iVBORw0KGgoAAAANSUhEUgAAARgAAAAyCAMAAACwEDRaAAAANlBMVEX///8AAAAAAAAAAAAAAAAA\n",
       "AAAAAAAAAAAAAAAAAAAAAAAAAAAAAAAAAAAAAAAAAAAAAAAAAABHL6OuAAAAEXRSTlMAIrt2mRCJ\n",
       "ZkSrMu/dzVTz6YZJ0GMAAAAJcEhZcwAADsQAAA7EAZUrDhsAAAUMSURBVGje7VvporMmEBWGfWt5\n",
       "/5etIiYgqBi8NF97+fEtiUPGw8yZTacpLoTx9L9fSsP+I/CEjvhpMEZ1boG6lUCHught8u2Z52PO\n",
       "hIluaF23EgIOtaFWp8gITwqrslqe724121uDFj8OjGNP2C0/1IbqlFKwr0hbebH9HpgJ+R8HhtpH\n",
       "DNfSQ22YT/zL14gXXwFji8P7eWDIMy7PyaE2yr8JmHr5rcDAjmr1Q1yn6ZE2NKEVWlLMvwhMFh1d\n",
       "rpmzDwFjeS8wHIAxGsiYIAAMM6cDDhtaMn9JYpBgDECtwGwi2zLkHBgkGaC3/Zrsy/x/hNVl2qJ0\n",
       "IsNkJzBuiV4knJORbvFAPm/Gg0XbEPMtCVzuAm+JXCTubk+BEcv12NM6FA6XB13IEJOsI0PPZLh9\n",
       "AhjhFwSwfvG0Csy9hi2xoIHtOyolIqVvVDIHzcOtHdjIBDg1PleXaYlnmYzT/RxDBVuBCWfn2RuY\n",
       "VWoWpiuT041jNpEWjiEhVTBvvvrrb5MtnzBXTJQKmZZ4lsko3wsMJdK5FBgogMFbiIvAvEVagAkJ\n",
       "FU1u3uwTyUQkAlPItMShTEboblcSCw6nwOwsJhFpAGYV5f6IbpVNPXF1pUKmgWN2Ms50AhO+mQlD\n",
       "oQowctr+bfGbYxKRJmCWe5V2cqgKjM12wVCXaaCYXIbjJ4ABr+btbArMsqMNhykXr0XBxmUoRROR\n",
       "lqi03KubI/pLBXGSx6xRtpRpWLnMGvc/AUZJrSWa/wIHlBlQ0mupHJ7/nJj1C4lh6oSAdW9KQh6z\n",
       "2PFL5CiPUXhbC3RUAlNIQr0bwfKP1WpO5zKvi09+x4jPLeYr2w7d3ZyY65npPwYMf0bTWIvWgZFJ\n",
       "Qcn+FGAmjJ4wGHyiTdJqAC/+GGDoE63pDd2qNvadBmgzDQOmu+d7t3Q87mUcdBzdq81LNJp+V1o8\n",
       "oIiL+gUjR2ZBhBpJf6HYe9OchFHz1ECJ/xiDh/40GQlMGLw95Eru5zRHPgmxA5aMiDxCvrfmGgz4\n",
       "ndgCARMOg3B5D1DMAy1mzEOS0RT550JFtbb7KeNgV0jMGDIU76nsAwkeijdqGxyKzAZAG92XGhSb\n",
       "HLOacggwyfTxgZJga9/7YrIsihFZNa0S9UkaIVsbcqlihpiMt08WkdHmRKm7K6ih2txzdQZZQISN\n",
       "du2IJw/SIrIfGBUBYabhjkMTlzUBQxcQMVD68sEBwNxsO+xHXGn7aS474j1LAOku7hgRzoFeAcMA\n",
       "uJp0oBi+Xg36C4HZj8WyhuXSS40f0vWUL33kwrDQ0vaeLUQQ7oBtY7YRJHMTmHLElekYn1NzQfP8\n",
       "ea3PgAnzn/2DX8qrrwPmYsQVn6VZB7NbjFuHGlqfDk7rl5GqbaARfaObwFyMuCLhBOBEHrL3FuO3\n",
       "dWYxGtd1/jpgyrFY1WICJLvT/sSVqId6zaS+D5jzEdcGjNrYqJNjYlYu9hyDvs6VihHXLiqtpi/n\n",
       "+8GkJUFh+8PPL1szlt1Q6Uui0tVYLM9j1gyDSlY8JOfgsJNwchljlVyHf2Mec1WR0sY4nHUSbnoc\n",
       "kcOB6f7F4yd8y+ow6SRcFpE5k42olVBqJb67CCHt9XnaSbh5liOq66zVgLt/UrW7f9pJuLX4kH4M\n",
       "pGf2QENGujteB5+YqBkx/qLa5tGz99WF5p5v3km4YzAjer67lyzCazmdWza//ZB1Em6Q4ohmjDCF\n",
       "Wfa/yNU6V8o6CTfofQDzJi9y/QOFfjN19ANdGAAAAABJRU5ErkJggg==\n",
       "\" style=\"display:inline;vertical-align:middle;\" /></a><br>"
      ],
      "text/plain": [
       "<IPython.core.display.HTML object>"
      ]
     },
     "metadata": {},
     "output_type": "display_data"
    }
   ],
   "source": [
    "inner_expr = inner_expr.rhs"
   ]
  },
  {
   "cell_type": "markdown",
   "metadata": {},
   "source": [
    "By accessing the `rhs` attribute, we created a new `InnerExpr` object that has the same top-level expression as the original but has a new current inner expression.  Note that the `InnerExpr` class does not know anything about the `rhs` attribute itself; it is relying on the fact that the previous sub-expression has this attribute.  The `InnerExpr` class also has tricks for getting an sub-expression with an index (or key):"
   ]
  },
  {
   "cell_type": "code",
   "execution_count": 12,
   "metadata": {},
   "outputs": [
    {
     "data": {
      "text/html": [
       "<strong id=\"inner_expr\">inner_expr:</strong> <a class=\"ProveItLink\" href=\"../__pv_it/demonstrations/31f5643894e0cc6441a0ed08695d0586bb0f733e0/expr.ipynb\"><img src=\"data:image/png;base64,iVBORw0KGgoAAAANSUhEUgAAAYIAAAAyCAMAAABmmSx6AAAANlBMVEX///8AAAAAAAAAAAAAAAAA\n",
       "AAAAAAAAAAAAAAAAAAAAAAAAAAAAAAAAAAAAAAAAAAAAAAAAAABHL6OuAAAAEXRSTlMAIrt2mRCJ\n",
       "ZkSrMu/dzVTz6YZJ0GMAAAAJcEhZcwAADsQAAA7EAZUrDhsAAAUlSURBVHja7VzZkoQoEFTue5f/\n",
       "/9lFVERAG6U1pjfIhwnmSBori6ricIZhwQjA8Aq4Umps7IOypwm3QKwYUPhubUH3wCb9UyFh+iNo\n",
       "EX5HAt3ehUFPE+5htJMrb069eQDN/pbJxBGJpcPwKxJg/TThJuBkdBrcO2rR0qBkrAGzmZsILfnp\n",
       "5zEtSTICJdkbEgB6h4CBVA+aHxMKtbe5CuEktEoSDFjGoR/Ykq34h09NJXAT8Q0JRnmToB8MR9iF\n",
       "FeFSweSJwW6hVZTAp44AW0rF4JMEOpVgeEUCRG4SbJYU2eXwe8RATl4xOzK2q/OHVlkCYbeUjC3/\n",
       "wxLA8fqHlAjMZgWHgZcrgQPGFILh4sg6GHxtlSXAUfjHFv0tCfBJOSPsxdJtJRA1PCYBts5PAMT+\n",
       "k1CIKWurTQIKISHYp2c0QgjgwNxXNsdW90u0zG5CIBSzBCslZCX0UYKREzhuT7c3lkqS/gHpcBap\n",
       "NbdByM0FCUr95wz33FQM0qcC6p8ahmS1tpokMFPlhLzZ1DR+YadVDvVda1/Z+iSHpfH5he0pS+/6\n",
       "kwRsooDNvfdGN7tMxfUBCakIPCO4YeDZWyslSPsvMsZp1eWcnSFqIKFJxFtb7RIwP3AgQ+aec/9c\n",
       "MrHJ7kBvFVFEKYSVkgRYUm/CA793QTbqYl3FZ6TDknQmGG+O/aL0TIJy/ylDkazTtTKKWq25ADMy\n",
       "S+AfxZJNgpnlyHjO7XjNBSulMhcgG55mxj//qh1slGTWWjkjHSafmTDPS0viKSNlOmWOB1VkoFJi\n",
       "2mrztdUmAUbcmFgCmEkA1vJqkWCjVErg1yg4MrNKV4EszywZ6QgLwRuT7QvTs1lQ7j9hSFA0LUta\n",
       "jYGITRY/lSCZBRGlToKZTe1RAhYa506dk45ywULwxk+89kSCvP8CA1tY3CoSSatJAv8bF9jFWJCA\n",
       "h3inwTbvIkqtBGbOmmYsSqDHoSRBSvoQiKZhzvG9UoJi/wlj2VpjSS4Yk1a7BNAKNxAdSzB9qPbe\n",
       "yYnfA5h+wP2IIkplReQq3cG4eBFGwU7WBRwckI6wELgbG0D164Jy/wljLvyJ2MfNL1VEgkvJXbHL\n",
       "oYGYKCi4lVwY4L4ORNspsgJsGIOzuTDy64IpAARK9boAc0jEyKEo2iJ5wLXWPiflBMwJoheWZuX+\n",
       "UwYhlMIkJVOZtu7Ogic3qwVYcfn0hl1dHZ8Q9gatGVTNehrxtPUXJWiBZF8jfG+bbveE1XtEPMof\n",
       "5IckuL1T+hKqd0rjDWpo2Q9JIOTThDZQnrUOJNBbyfvocdLXJRi4eZrQhO1MOLQOJDDhuBjJ8ack\n",
       "+LNnx7O5K8+O5/2NcVFADD8lwWDI04T7qL1BMWy2x4rj4VUJ/r/3iLxRcdqCSsnDOsq45RNW6F0J\n",
       "OnYS+I3ulwNRR1woLLb/TjomkMJu04s2C3uq6gspUrG36+/fB9vuMH5haTZtGeIe0K4hukH3hQ0K\n",
       "ybpFL8PGdxyat+ns2C16eYkZbdN9QQJ/uku6Wa9JcHGzOr3YtD+IGVF+dNHxXQnSi03JcWTH4xLk\n",
       "F5u6y78sQfXFqY6nJDi/OGVXdLs+JsHBxaaONyWovTjV8VQgyi42FSqi3btTHe0S7G/V5BebVMYZ\n",
       "e5x6dmn2GRB0s96XgDd3F1677ajFGHu+bfXf6LXbjlrsNqiBbVzrRq/ddlQH7thnmw8M4tduOyoj\n",
       "h9T7erLpwtnutduOOpvp5MgethVF8Wu3HTVg+W2qtn8JFb9221GTircXZf8DUaE1HCpYJIkAAAAA\n",
       "SUVORK5CYII=\n",
       "\" style=\"display:inline;vertical-align:middle;\" /></a><br>"
      ],
      "text/plain": [
       "<IPython.core.display.HTML object>"
      ]
     },
     "metadata": {},
     "output_type": "display_data"
    }
   ],
   "source": [
    "inner_expr = inner_expr.operands[1]"
   ]
  },
  {
   "cell_type": "markdown",
   "metadata": {},
   "source": [
    "Now will \"dig\" down to the denominator of $\\frac{c}{d}$ and show how we use the `InnerExpr` class to replace a particular occurence of $d$ rather than a global replacement:"
   ]
  },
  {
   "cell_type": "code",
   "execution_count": 13,
   "metadata": {},
   "outputs": [
    {
     "data": {
      "text/html": [
       "<strong id=\"inner_expr\">inner_expr:</strong> <a class=\"ProveItLink\" href=\"../__pv_it/demonstrations/959044a69ebca9e127a98ceb9cc39238f930f8740/expr.ipynb\"><img src=\"data:image/png;base64,iVBORw0KGgoAAAANSUhEUgAAAZMAAAA/CAMAAAASa9VyAAAANlBMVEX///8AAAAAAAAAAAAAAAAA\n",
       "AAAAAAAAAAAAAAAAAAAAAAAAAAAAAAAAAAAAAAAAAAAAAAAAAABHL6OuAAAAEXRSTlMAIs2rZrsQ\n",
       "dplE3TKJVO/z6SAzxugAAAAJcEhZcwAADsQAAA7EAZUrDhsAAAYSSURBVHja7ZzZlqMgEIZlB1lm\n",
       "eP+XHdEYCwXjQpN2DnXRp9LpP1E+oIoSuutmQ5h0Ncz6wWiBD5K2huSqccyTfifD/fPN33u5/R31\n",
       "jNdhUgi9JDUk1033POkHc9umVs7p1a+El5WutRATimtIbl0hSftpJh3vPYop+WrXW4aJdryC5J4x\n",
       "m/bTTDrt++h17/WzmGBTQ3IzpICm5xGGdO8wXkSI6g3rIkys5xUkJUNeFMvSTLh3WUIPYNKbGpKr\n",
       "Zl6zDgIRAvoZJl0UUYi3j2Kiz/d5XXGYID9HEdAPoJ9hwiCGpzEhrIbkson5uyiYjKCfYUKezOTC\n",
       "mvPaMtUIenJW54YKLN4DxoLBY28z0djtt57CbjVFi96pGkz0KpM/I+HM9cdjkBoy6HNIejR81zuJ\n",
       "7cGqD/jXx8nHYsuaydAXqjCh/o4EH14dy2EO4ucWCVIG/stLkM8C/zoT9qn1thl/HSYE35Fs71Vl\n",
       "5rW9UZ/RBIlgoDzSpfz/gIlYTVXu/EcsErVNwGwmZuxNkWkNDxImOH8vijRYIOlnM4ku2q5mG39+\n",
       "qbFITN8dZYLD3ZgzTDo3hhPK32HMgpBmSzGhQhjDx5gvkRBMdGr4qaaZeXhzrn8bI4SemMySRKDL\n",
       "MkHECLTc56r0k82hVrIDaRcmQhB7iAmSlAp+kMlw+1R3SlIrDF3GDe0S/k0mdiD/Ck99uBXtqZqT\n",
       "bdyjOWZyZ8cFrIol07Xgz0xU0LBlWokpWBZnEjYnkz0wkpIMV8OnKeYzk93hHmtQb6ecYN0XRMov\n",
       "wUSN98BGEJ6N41C/EzMVQDC85F1Asp2H0ky4o2OL5kaGgA93lklgI8unwjYqezlRmMlYuXFiZ86E\n",
       "/v14wpWZmLD3J7+YTJOSl0PHE1MnVLHkaDyRflWS+vO3j8yDSKXe/kaWzZIWCYbNM40r5+Jx5ZMW\n",
       "j8VYI3OVG/hYavHvMuGSWAuZiA0TNryGTBbJUSaOQaLbcaKwSnX6jezzOBkBqvh+748Tl6vc/AgT\n",
       "GzJuvc9kNU6A5CCTSQ6Xgv2qpsBTDbyV5eLJwmR0Vt36NhOerav/SDwZ4Q7BQaMEE9LNPmZLPAGS\n",
       "w0zstK6zKMkEozjG05wsX6mdc55wsVMYKjlOXh+vdstsxfKusYGF18NtY8gkfD0euy8JswEa17xk\n",
       "/FogOZp3DRl2Z4ec+T261c76ZOmVG1l2ufOWkOEKmewKM5kyLqO3fSFZhDzChKVqkMQ5MqyAiLCC\n",
       "m15o4h3Rlg0/O4N9mJcZt0qJqfm4HNcnYcJ4S/bWJ5rNFshxIoxGRKSLS+t7dfMH7ssyEiNpV5rJ\n",
       "sDpLLmU0iHXAP8IEny+0XrYC9S7Myko+MAnld4MucYQPnIGfYRI97vWuexIT6cpK1O6zlan8jk5p\n",
       "UoUc4GeYWM9A9k4exYSef45Lrz/6HcvvFzstLBkCP7eryYEnCjW3dBRgws8/FuXXn6SO5feLF51O\n",
       "u7JMxHvyokW271ZkskmcfkYy0wwlNcqvdFtQYIr87O4/8vojW3EjUSEm1NWQzA0YwomiV5gYnPbz\n",
       "OzKnsq5xtnsakyPllDsSJCcbJavy+ymcNuPnAZswVTrZPY5J1Ol+TnLXhEv7e0xQWM1xjNHjmHRO\n",
       "15DcvcjMMNlhYl8Va1x1w3kZJr//qMMwNHDa32EyI1kXpB7BpMO0huSOIYeS/g4TtJAwFbdBlmLC\n",
       "e1RBcusCbdLfY8KWfBn5viKTQucZEeYVJDfWUDTtZ84zroZJWNNXP5tRAIquIbk8TFTa3++ucB/+\n",
       "+Xy/WXmTcP6oua++Wda+dtahWUUmYaNka9ffNk7aaPt1TNQTs7f/nInpW7P+Nia4hZPaTNbHCuAW\n",
       "ofCebuGkNpP1sQJYuVy/16wKk+2xAr5+D7dWrctk71jB4SMHzYoy2TtWcPjIQbOSTLbHCo691+wn\n",
       "meSPFRw/ctCs6Ny1OVYA8q7DRw6a3WTy6TTCsj45fuSg2WEm0tPWIt+36NEirbmxvlk2t41W3b4l\n",
       "Td835aODS6buPu5mKcOrf16LfQvQXzaz/tc+vG/L8G8jkYlErOVeX524Us2v20D5ooEzR/8AQjBG\n",
       "TiFtUz8AAAAASUVORK5CYII=\n",
       "\" style=\"display:inline;vertical-align:middle;\" /></a><br>"
      ],
      "text/plain": [
       "<IPython.core.display.HTML object>"
      ]
     },
     "metadata": {},
     "output_type": "display_data"
    }
   ],
   "source": [
    "inner_expr = inner_expr.denominator"
   ]
  },
  {
   "cell_type": "code",
   "execution_count": 14,
   "metadata": {},
   "outputs": [
    {
     "data": {
      "text/html": [
       "<span style=\"font-size:20px;\"><a class=\"ProveItLink\" href=\"../__pv_it/demonstrations/f7fdaf37b91e34fd610e78be863563731b011e330/expr.ipynb\"><img src=\"data:image/png;base64,iVBORw0KGgoAAAANSUhEUgAAADEAAAASBAMAAAAAiiu3AAAAMFBMVEX///8AAAAAAAAAAAAAAAAA\n",
       "AAAAAAAAAAAAAAAAAAAAAAAAAAAAAAAAAAAAAAAAAAAv3aB7AAAAD3RSTlMAMs3vmVREEIndIqt2\n",
       "u2aBbGR5AAAACXBIWXMAAA7EAAAOxAGVKw4bAAAAs0lEQVQY02NgYGBgVHZgwAH4A3DJ5BfgkunE\n",
       "JcGggl2Ya8fBr6gi7EceMFQD6eQFvN9BfM+ZIDAbyOJgNWB4D1Rgx8CigKpHlGUCw14GBpYPDJwN\n",
       "qDIFzAcYbBgYmC8w1Cdg+ILxIwND/QGQmSj2MDgx8BgAZQIYNrEuQNVzm4F3AwMD7wHWKSxopnkz\n",
       "5D8Aum1P4+qDaDLVPf4LcIVKE3ZhDgV2U+wynAe4G7DLsL5xA5IAdWgrpqisVLkAAAAASUVORK5C\n",
       "YII=\n",
       "\" style=\"display:inline;vertical-align:middle;\" /></a> <a class=\"ProveItLink\" href=\"../__pv_it/demonstrations/003f64b7f48b233c66cf8f7447a8508429858ea60/proof.ipynb\" style=\"text-decoration: none\">&nbsp;&#x22A2;&nbsp;&nbsp;</a><a class=\"ProveItLink\" href=\"../__pv_it/demonstrations/31eed7e8f9c40e37a2534c12deb184c0155ecdfb0/expr.ipynb\"><img src=\"data:image/png;base64,iVBORw0KGgoAAAANSUhEUgAAAYwAAAAyBAMAAAC9oPHIAAAAMFBMVEX///8AAAAAAAAAAAAAAAAA\n",
       "AAAAAAAAAAAAAAAAAAAAAAAAAAAAAAAAAAAAAAAAAAAv3aB7AAAAD3RSTlMAmVSrZs0y7xCJ3bsi\n",
       "RHYwvcNTAAAACXBIWXMAAA7EAAAOxAGVKw4bAAAGUElEQVRo3sVaXWgcVRi9s5vszmR3s6umCPGh\n",
       "+yAUiqSLUEoUalBrfWoi9cEiSB4sBRE2bf0pNkpAJFrRLZgU7ENMoqW2lFKNWO1DXQgq+GBWqPiY\n",
       "LVjbotQ0xpBgNnrnfnd3JjvfuftDWe9Dpp0zM9+c+/2de2eFaOn4simIHe+OqIP9lWj5CPc1A/Ej\n",
       "8ikdXxhpOY3epiAwttIhNNlqFm0DzUBoOBk6ftBqGt/nm4Hg+IQOHX0tpnG+KQiOLZQVoSP0XyuN\n",
       "Lry7wQe/pR5sPwMCZwjH1FATNNpTdHyKDveg66wMe3ri10Fz9QDFI3ocvhGEsC0hEmt0nM+bs2sX\n",
       "e/aHtHUB3fEYzS1P/09cGhFksiXEXu0VZe4AenrkCHv6jIgW0YNjFJ+fs+DH+IUQZLIlxDadHCvu\n",
       "330w9lhPWyuGcLWJ+Sg3M5Fl3MoAZLQlRI4o2usVLgay1WEMvewsl/OMTaowTmMEYVsfuSkT053v\n",
       "klt2YeKdMU0BM+ILQsypdIuvce+UwRmeEQ3amlM5qM30S6NZmBq8m5Ky2xRYpFPOXYwm5WsGzuI2\n",
       "hSBs63cVTUuarbzsYehp3qOydDhcEbTHrhUrDWA3V41wo0YQsvXOnufU8bDnzCX07CSYog8fv8Gd\n",
       "PpbPSovxRfI501Ev4lyFEG/LPqdrwiVdHydFZA16Wk6RfbFu/XiXyLqHKdI5qeAFR/G9CqrflpWK\n",
       "LFCi69qyINoW0MX9/oZfe7xO8bqJDAVbqn0bl+nboiFb0UInBXw/JU5bSYRhD9+uIqscHQkuxK74\n",
       "XmVNXH7bDXPK9uDkRNZx2yCoYuuKMNvK5WM3VGHKFsv34zKo8me+XMdCXO3r8f17OLL8pNtsVEqG\n",
       "gv0stAhpaKhiq0eYbUXz2efVtblU2ZtJ2DZW3T8nRb00fnr0puuwrJrSSPCd23AT19BJUSeNRFfP\n",
       "GPlP++AvXY9mJ34M3KdK2N5bD9ZDwxOiuT5/Rfd3Faol8d4/igCq2DLScG494RVT3RP+odKYGBbf\n",
       "uF6yzqqhOKrSaf89ksvXpuETokm6jqK9Wz2OdJ9D3fSXfGyFhzxbJhrxaXGfF106sV+mIBjtE92B\n",
       "vFskwaUlppGGT4jqIF0FMs9+SViTPOTZMtGQ2umNyrkO/aizYt6tWZsZAZUoUeF030t66fRr5KXk\n",
       "v+7Q8/kqzadfiCYp64LVNayKl7XAiDgNkS3vsaytzX7t1KEl5WnyxlFhl1hvSJPz6Zre8AvRGjTk\n",
       "pbkCD3m2TN7Y0EQ30pCCnbqgPzcUDVnKNX0TDb8QhblBLpOX9gPIs2WgYW/oPl5QzcnKYi/KLvhA\n",
       "tex2i01yUAZzTRp+IaqVWLBSOaoc5dJieyjPQp4tkzfkgxNMiquZvCy2pqqVgOId7oulatPwC1ES\n",
       "hfFg3+hUzSFWDE1ZPOTZMtGQZepEYJ1yWETdW9+8+eLOgCA+6HLp7aqn/fmEaFa5JVICPc7eeWL2\n",
       "NwBVbJloOGN7RqoTUWZiO1wnPrtRMPho7D+I7dHKl1kZh0pYjJSwODCezFHRs1eFBVfI926sv35p\n",
       "uIg1HCkKJ6i5I0tYGi5BFWg+6UnDNrij0A+3lRKGDYsZWsgwghMLdRNkHNvSZWlpQ+GZg3uijmF9\n",
       "swRXjqfwTaeapKEXv64m+wxunaVqbZ7iDcl5ZnG9A7/OjiZpPOK1z92Nbg/PTmShn4RDlXy8oSCF\n",
       "0Ptdws6IGotfUhG5Alpa8qWlrIbB+pIYHuLyEZNH0PEthkW27E66pc8VK/PHjHH2rFTDm/CTr1Ow\n",
       "Dt2R7bZIuhttM4nq7TbxCnw4t0XEqmFvHPL7pEqO481PANlSk0eL2FhYl5qH3D+7INkBPh5t3Mg6\n",
       "6ZZrbDTi2xAkK3t2ENPQMpR0aDvclHyam6F1U7jSJ7z4MAtO4RcCkFyCXDdkuK4M1Prsc+iyY0zZ\n",
       "ZNVwBZym+9IN9lMEyS46Y6Chv4p0UGZ9ix4f5z7icWq4YpYc+wXItYY/mlmZBJYwVR/NRByG33fM\n",
       "OVYN6/Ee+QSUcKx7EGT3Xl3DNMqKZ0a0duxrHHIMn/319lxipcU0DuQbhMbFKO6ZYlqnRrrFNDov\n",
       "NAidN/2U5H/7sUXDP325/2oB3/GzTvSBltNoTzcDgbWWLqP7R1pO407+LIx+2KF/2fEfAe3qMQAb\n",
       "LAIAAAAASUVORK5CYII=\n",
       "\" style=\"display:inline;vertical-align:middle;\" /></a></span>"
      ],
      "text/plain": [
       "{d = y} |- (a = (b + (c / d) + c^{d})) = (a = (b + (c / y) + c^{d}))"
      ]
     },
     "metadata": {},
     "output_type": "display_data"
    }
   ],
   "source": [
    "d_eq_y.substitution(inner_expr, assumptions=[d_eq_y])"
   ]
  },
  {
   "cell_type": "markdown",
   "metadata": {},
   "source": [
    "Let us demonstrate this technique again, replacing the other occurrence of $d$.  This time we do this more succinctly, without the extra pedogogial steps:"
   ]
  },
  {
   "cell_type": "code",
   "execution_count": 15,
   "metadata": {},
   "outputs": [
    {
     "data": {
      "text/html": [
       "<span style=\"font-size:20px;\"><a class=\"ProveItLink\" href=\"../__pv_it/demonstrations/f7fdaf37b91e34fd610e78be863563731b011e330/expr.ipynb\"><img src=\"data:image/png;base64,iVBORw0KGgoAAAANSUhEUgAAADEAAAASBAMAAAAAiiu3AAAAMFBMVEX///8AAAAAAAAAAAAAAAAA\n",
       "AAAAAAAAAAAAAAAAAAAAAAAAAAAAAAAAAAAAAAAAAAAv3aB7AAAAD3RSTlMAMs3vmVREEIndIqt2\n",
       "u2aBbGR5AAAACXBIWXMAAA7EAAAOxAGVKw4bAAAAs0lEQVQY02NgYGBgVHZgwAH4A3DJ5BfgkunE\n",
       "JcGggl2Ya8fBr6gi7EceMFQD6eQFvN9BfM+ZIDAbyOJgNWB4D1Rgx8CigKpHlGUCw14GBpYPDJwN\n",
       "qDIFzAcYbBgYmC8w1Cdg+ILxIwND/QGQmSj2MDgx8BgAZQIYNrEuQNVzm4F3AwMD7wHWKSxopnkz\n",
       "5D8Aum1P4+qDaDLVPf4LcIVKE3ZhDgV2U+wynAe4G7DLsL5xA5IAdWgrpqisVLkAAAAASUVORK5C\n",
       "YII=\n",
       "\" style=\"display:inline;vertical-align:middle;\" /></a> <a class=\"ProveItLink\" href=\"../__pv_it/demonstrations/8155d9e0bb15a0404e65da85d57044ad5754868e0/proof.ipynb\" style=\"text-decoration: none\">&nbsp;&#x22A2;&nbsp;&nbsp;</a><a class=\"ProveItLink\" href=\"../__pv_it/demonstrations/2979d59950dea4981c7a6cb1d9ec458b3e5dfeef0/expr.ipynb\"><img src=\"data:image/png;base64,iVBORw0KGgoAAAANSUhEUgAAAYMAAAAmBAMAAADU7OrIAAAAMFBMVEX///8AAAAAAAAAAAAAAAAA\n",
       "AAAAAAAAAAAAAAAAAAAAAAAAAAAAAAAAAAAAAAAAAAAv3aB7AAAAD3RSTlMAmVSrZs0y7xCJ3bsi\n",
       "RHYwvcNTAAAACXBIWXMAAA7EAAAOxAGVKw4bAAAEe0lEQVRYw7VZzWsTQRR/Sdt8mKStXwh6cP+C\n",
       "moMeRCjB75NWEKx4yU3wkvqBStVSFFH8IBVU0IO09aANHqLWgxcJiApeGqHgzS74jaI1SFFIqzOz\n",
       "HzO7+14S3d0H/SU7+3Z+eTNvfvNmCwAQ0YCwJfBvluiXiFjQRHB22LxeSjlGsmhz8ttW6okDwxK9\n",
       "FjhR7K5x1d5H+W1BW9PjsIp6oj0r0XszcCLYZFztJ8YMYsfR5kUjMETO8AMF3RYCUcpIzb2UV8cI\n",
       "2rx6uEGSnhuW6LYQiBIi+OgvymsN3sUJyj85Z2U1mtvBESkUS83pImwCF4MFyj89y/7q4lsdz4uA\n",
       "iBSKqQqDApmhxKj9BMigNzrLDB6Lr4+R28ERKRQpPi4bKJ+2Mt7OVOI6NmhX3+vsY5u42IY4BEX0\n",
       "JgtZm6J9wIgVt64ckfJXd2DjeaFSyPOZFRoxpaGDGgRRQv8VG7Ap0jU2i3Wq5wJPs4uDrW6Yi6Eg\n",
       "Mr5bojNdAiJKnx4VGWtSjLGZmKV8dwrc1WoIp+CLUIo+ic7NKCiitpE2XVIsZw3klrlOYM28ymCz\n",
       "rTQm6vDkPF/T4pd2en+vL6JpVdmq8byk+A4Qz1I9HxYdWmoR1TGpVxpPxua286Y5sNFhvoh61BDy\n",
       "MwrFmjx0kWr9Wyyp0VZDeLXxMx+/mBjNWM27aP0QqSFElz1SKAqaKQfp9V91VEE6et9qLYRw613e\n",
       "SqifEhHd+U8iOwRGdAkmFYpiztSm15WUmMiVJW63LbliHv2JevMQXmoRW9sXFFS680dkhcCJejN9\n",
       "CkWXzieCRXQEIqNuEayZ5ctQ8xAmIK470sJEh3T6IeoBSTT9WSVi+TlT5QI1661gMvOmZjHXSKl0\n",
       "Z7BUEgvyDzeuBrIxolYIPxRU7f+J2IwdM2YMIerqNgYnXoZiFR2cCcjUms5CvNxCCL6IzFlAiKwQ\n",
       "irq5vygpavRcsyJvFEJRvUetBV9EZggIEVsLU1woihqsi1ZcG7lY8XNwLtc0BC42VWcp5FUkX0Q9\n",
       "QBGxJhFYSo+ORdByfS3cb74vMDlKWqJq6Evauy/4IjJD8BJxoYvzainRe/3pB/djBzmcuZJrYWu7\n",
       "sfmTndnzEp27sx8iS5E8RFCoQkeZ2jT3kRtxbE83SWccL5FDpi+iHvIcy8Q4MkD1vIKq6FgCamRJ\n",
       "ZhQKyVHvYdcP0TQQRHCT1cDkoXwn/QJhhr6Vykp0FtuhEMFDlp01yqdIvj7koTc+giEHsXCIhC7d\n",
       "J8PsJh9vcDyZqUh0WihEmTpxUpcna+zkt/5Dje75moJOC4UoyUs+z4Zvz/w83m4Vm7gdUtCVL2EQ\n",
       "xTUrjgZxegiPYCdj+13SgES3hIRABB8FHqW84nn0TeBsg/dyxqiY6LYQiMy52ELmKDoGWLEp7b2C\n",
       "bguBqNN4siNHue1GJdAqNtEVeFKid38OnAheGMqXuEf5XajgKu4pNuUTmkRvcgdOlBg3L59RW2Aa\n",
       "+6cZVmzaNqmg1wInSlnzms5Tjs+xscSKTeteVSL2SwMmgssc/gJXYtSwL9VMBwAAAABJRU5ErkJg\n",
       "gg==\n",
       "\" style=\"display:inline;vertical-align:middle;\" /></a></span>"
      ],
      "text/plain": [
       "{d = y} |- (a = (b + (c / d) + c^{d})) = (a = (b + (c / d) + c^{y}))"
      ]
     },
     "metadata": {},
     "output_type": "display_data"
    }
   ],
   "source": [
    "d_eq_y.substitution(expr.inner_expr().rhs.operands[2].exponent, assumptions=[d_eq_y])"
   ]
  },
  {
   "cell_type": "markdown",
   "metadata": {},
   "source": [
    "The `substition` method, that we demonstrated above, is a direct application of the `substitution` axiom.  It proves the equality between some $f(x)$ and some $f(y)$.  We often will want to take a shortcut to perform a statement substitution in which we prove some $P(y)$ is true assuming that $P(x)$ is true and $P(x) = P(y)$.  For this, we have the `sub_right_side_into` and `sub_left_side_into` methods."
   ]
  },
  {
   "cell_type": "markdown",
   "metadata": {},
   "source": [
    "If the expression that we want to substitute in is on the right hand side of the `Equals` object playing the role of $x=y$, then we use `sub_right_side_into`: "
   ]
  },
  {
   "cell_type": "code",
   "execution_count": 16,
   "metadata": {},
   "outputs": [
    {
     "data": {
      "text/html": [
       "<span style=\"font-size:20px;\"><a class=\"ProveItLink\" href=\"../__pv_it/demonstrations/506a0b1daab430309f47bc73cf7228984212db5b0/expr.ipynb\"><img src=\"data:image/png;base64,iVBORw0KGgoAAAANSUhEUgAAAJoAAAAmBAMAAADO2Z8qAAAAMFBMVEX///8AAAAAAAAAAAAAAAAA\n",
       "AAAAAAAAAAAAAAAAAAAAAAAAAAAAAAAAAAAAAAAAAAAv3aB7AAAAD3RSTlMAIquJdkTvuxBmmd1U\n",
       "zTKBpmoTAAAACXBIWXMAAA7EAAAOxAGVKw4bAAACj0lEQVRIx5VWPWgUQRR+6+Xu1vX+SCsSIQGx\n",
       "EARtYjBsohAtEq4KaHMJmIhEZEGbBIuQIgop9oogBtQEG0ERTwMWWYst7D0QJFhdZWNxe3hCIsvp\n",
       "vNHd+9n35tYHt3v73sw3b97PNwPAiOHCf4m+r7I+J7WJy8+4Cd9XebCjVUqrfYAX7IyTPNo3cqVj\n",
       "Z+EGO+U+j/aZ1L5R7AbWWWPmgFTf5MYnWiJv7FbFlqi8Nbnxmid+Dc5ap70+BEiShgFLPO5yaKdo\n",
       "tUjoOOXz6LQpXo84tEMmPKOblNMbhXpNvIaYgs9hCB4sxe2Dl1CXwd5hKtHD59e4aAswJZuxSpuP\n",
       "SL0ffF4jhiTL7bA14N5DTIVHo6WwdJJhzX2kKtJs/5/PtR6jqkWj5bHcEpW4aNefXEJPc2Iz2vCE\n",
       "GUFDY3Zk0o2Bdv5qLdixqITZQlpu6ZWD8k7qZa7tfb3RH+24a1iBrgn6LTAqkVZAtE+rAWGo0HYh\n",
       "FW7tBxge0ZSloni8RrP0efGfz79RMHGG47xfchyRK6OTHn5BygK7SPq2C0m/r28pqwvNNmEbeuMm\n",
       "0fxwYQWa3ZnBJtgunMkUeoYOYU5bsF7ui4bZL7a7O21m9ozeoXLF07DSv95EQhNBhWg+6CPjgzOR\n",
       "XsD+XbtQjlG957auhFzxk+6FrNX12YGW+7IT7QU1/YMx1/XZ2fV5N9L1IftVGEY6YNmnxB9baeaY\n",
       "0X12yhhPc/kyY1hhpygotFRgDMyBoQ3P8F7DRc4QbTYpAd/Qcps9u0mKR76psmADc6zpDlk4HnMJ\n",
       "+Fvy/I3vKTne4kKAMs3HIEtlO+QbMkPziovnWwqN4pvwwFddbU8QNU/yTSDLqvNbqxEOU3wT2DCg\n",
       "fwA2sq3aOVi49gAAAABJRU5ErkJggg==\n",
       "\" style=\"display:inline;vertical-align:middle;\" /></a>, <a class=\"ProveItLink\" href=\"../__pv_it/demonstrations/f7fdaf37b91e34fd610e78be863563731b011e330/expr.ipynb\"><img src=\"data:image/png;base64,iVBORw0KGgoAAAANSUhEUgAAADEAAAASBAMAAAAAiiu3AAAAMFBMVEX///8AAAAAAAAAAAAAAAAA\n",
       "AAAAAAAAAAAAAAAAAAAAAAAAAAAAAAAAAAAAAAAAAAAv3aB7AAAAD3RSTlMAMs3vmVREEIndIqt2\n",
       "u2aBbGR5AAAACXBIWXMAAA7EAAAOxAGVKw4bAAAAs0lEQVQY02NgYGBgVHZgwAH4A3DJ5BfgkunE\n",
       "JcGggl2Ya8fBr6gi7EceMFQD6eQFvN9BfM+ZIDAbyOJgNWB4D1Rgx8CigKpHlGUCw14GBpYPDJwN\n",
       "qDIFzAcYbBgYmC8w1Cdg+ILxIwND/QGQmSj2MDgx8BgAZQIYNrEuQNVzm4F3AwMD7wHWKSxopnkz\n",
       "5D8Aum1P4+qDaDLVPf4LcIVKE3ZhDgV2U+wynAe4G7DLsL5xA5IAdWgrpqisVLkAAAAASUVORK5C\n",
       "YII=\n",
       "\" style=\"display:inline;vertical-align:middle;\" /></a> <a class=\"ProveItLink\" href=\"../__pv_it/demonstrations/3ad2cc32ac90c7547274545a777d5ab1b1b6b1ff0/proof.ipynb\" style=\"text-decoration: none\">&nbsp;&#x22A2;&nbsp;&nbsp;</a><a class=\"ProveItLink\" href=\"../__pv_it/demonstrations/4f376b812bda7294fc958516ad9689adf51f19b30/expr.ipynb\"><img src=\"data:image/png;base64,iVBORw0KGgoAAAANSUhEUgAAAJ8AAAAyBAMAAACwtxTjAAAAMFBMVEX///8AAAAAAAAAAAAAAAAA\n",
       "AAAAAAAAAAAAAAAAAAAAAAAAAAAAAAAAAAAAAAAAAAAv3aB7AAAAD3RSTlMAIquJdkTvuxBmmd1U\n",
       "zTKBpmoTAAAACXBIWXMAAA7EAAAOxAGVKw4bAAAC0UlEQVRIx51XP2gTYRR/ufR610uaO5wEl0CK\n",
       "ICgN6CLSNkqx2sFmEhxKohaLiwQHF5cMRaeSDEVx0GSylA4NVcE/RW6Qgnbo4eTg0Mk1ETqkoOjl\n",
       "uyu55O73kru35PLe9/2+973/HxEi5YDC0dMyLz8TEo9S71mxlA0LSHus9GVoPIqnGWHsdnhA+sDI\n",
       "ErkIgLuMW55FwKPxOpbdRYIL13E4yb+haKQNBKdMrYTV+I5NiBz2hkYZ6+5DIzbBvbQ2a8QKPOw0\n",
       "4I+WWEClgSR3QqsgaAx5JXUEBHqVKI8BVbRvBJ1kuzgeYF75CknszZQi0uH8i2sB3BW9/Et8PGZt\n",
       "rz5qDJkiJ/doTnzMINvXB6ZSL2VoQvzWgIGbjjN10/1/K2iRl/mOHng3+iPeQSocB/6XoEVe5me5\n",
       "5b2aj2qOJy/RsIDfnlvOneyUjWUu+/RcMJxcnz07BGB89pVqKFUH0PbmTUMRCbr5qUPbjrPEXdW/\n",
       "5YoxEDC2Q+tSbtEND4vU+6T5omNLACbbx6WFA0xkaUlec1taokFaq8Pqo0knLSzSs0L1e67q+r8O\n",
       "ufdxmVvekpUodmK4kg8GtA8qmAM1XKZeQLt+1Kjfhs6pdhi6xzOA6mEPYIMqJp1LGn1rZwRDP7AN\n",
       "PFBDu8DI3Zy1SMklP2q+sBFxKFWV+mDAdaLpLmCa1InpEzeCA1vNbAwR2PGLa1236CBT9vM4KVhm\n",
       "BUxEzSquAywTFQd96LoVXFX8bdmKCLhggOGwGBFwErVD1M9XNkjlpsBl1Eb/AEF2l8ZazFR5GLLR\n",
       "p8xNkkoRGj29Bo2clthhSYJtsgC6l9yGc5QIN3hYAgSiXSKvMj6pwXEOuVlJ00MGcDv0SKyl5SOK\n",
       "MhIj5dXMPLNJYUJ0HD2k4kxWFphnRSr44TNFT0y8aYfLyrlA7lt7LIr2NAOPx6/zzPy6yBeOn6Gf\n",
       "tz94eegH+KpwyX9Ozby7sJWGXwAAAABJRU5ErkJggg==\n",
       "\" style=\"display:inline;vertical-align:middle;\" /></a></span>"
      ],
      "text/plain": [
       "{a = (b + (c / d) + c^{d}), d = y} |- a = (b + (c / y) + c^{y})"
      ]
     },
     "metadata": {},
     "output_type": "display_data"
    }
   ],
   "source": [
    "d_eq_y.sub_right_side_into(g_repl, assumptions=[d_eq_y,expr])"
   ]
  },
  {
   "cell_type": "markdown",
   "metadata": {},
   "source": [
    "We can also take advantage of the global replacement default and provide a non-**Lambda** **Expression**."
   ]
  },
  {
   "cell_type": "code",
   "execution_count": 17,
   "metadata": {},
   "outputs": [
    {
     "data": {
      "text/html": [
       "<span style=\"font-size:20px;\"><a class=\"ProveItLink\" href=\"../__pv_it/demonstrations/506a0b1daab430309f47bc73cf7228984212db5b0/expr.ipynb\"><img src=\"data:image/png;base64,iVBORw0KGgoAAAANSUhEUgAAAJoAAAAmBAMAAADO2Z8qAAAAMFBMVEX///8AAAAAAAAAAAAAAAAA\n",
       "AAAAAAAAAAAAAAAAAAAAAAAAAAAAAAAAAAAAAAAAAAAv3aB7AAAAD3RSTlMAIquJdkTvuxBmmd1U\n",
       "zTKBpmoTAAAACXBIWXMAAA7EAAAOxAGVKw4bAAACj0lEQVRIx5VWPWgUQRR+6+Xu1vX+SCsSIQGx\n",
       "EARtYjBsohAtEq4KaHMJmIhEZEGbBIuQIgop9oogBtQEG0ERTwMWWYst7D0QJFhdZWNxe3hCIsvp\n",
       "vNHd+9n35tYHt3v73sw3b97PNwPAiOHCf4m+r7I+J7WJy8+4Cd9XebCjVUqrfYAX7IyTPNo3cqVj\n",
       "Z+EGO+U+j/aZ1L5R7AbWWWPmgFTf5MYnWiJv7FbFlqi8Nbnxmid+Dc5ap70+BEiShgFLPO5yaKdo\n",
       "tUjoOOXz6LQpXo84tEMmPKOblNMbhXpNvIaYgs9hCB4sxe2Dl1CXwd5hKtHD59e4aAswJZuxSpuP\n",
       "SL0ffF4jhiTL7bA14N5DTIVHo6WwdJJhzX2kKtJs/5/PtR6jqkWj5bHcEpW4aNefXEJPc2Iz2vCE\n",
       "GUFDY3Zk0o2Bdv5qLdixqITZQlpu6ZWD8k7qZa7tfb3RH+24a1iBrgn6LTAqkVZAtE+rAWGo0HYh\n",
       "FW7tBxge0ZSloni8RrP0efGfz79RMHGG47xfchyRK6OTHn5BygK7SPq2C0m/r28pqwvNNmEbeuMm\n",
       "0fxwYQWa3ZnBJtgunMkUeoYOYU5bsF7ui4bZL7a7O21m9ozeoXLF07DSv95EQhNBhWg+6CPjgzOR\n",
       "XsD+XbtQjlG957auhFzxk+6FrNX12YGW+7IT7QU1/YMx1/XZ2fV5N9L1IftVGEY6YNmnxB9baeaY\n",
       "0X12yhhPc/kyY1hhpygotFRgDMyBoQ3P8F7DRc4QbTYpAd/Qcps9u0mKR76psmADc6zpDlk4HnMJ\n",
       "+Fvy/I3vKTne4kKAMs3HIEtlO+QbMkPziovnWwqN4pvwwFddbU8QNU/yTSDLqvNbqxEOU3wT2DCg\n",
       "fwA2sq3aOVi49gAAAABJRU5ErkJggg==\n",
       "\" style=\"display:inline;vertical-align:middle;\" /></a>, <a class=\"ProveItLink\" href=\"../__pv_it/demonstrations/f7fdaf37b91e34fd610e78be863563731b011e330/expr.ipynb\"><img src=\"data:image/png;base64,iVBORw0KGgoAAAANSUhEUgAAADEAAAASBAMAAAAAiiu3AAAAMFBMVEX///8AAAAAAAAAAAAAAAAA\n",
       "AAAAAAAAAAAAAAAAAAAAAAAAAAAAAAAAAAAAAAAAAAAv3aB7AAAAD3RSTlMAMs3vmVREEIndIqt2\n",
       "u2aBbGR5AAAACXBIWXMAAA7EAAAOxAGVKw4bAAAAs0lEQVQY02NgYGBgVHZgwAH4A3DJ5BfgkunE\n",
       "JcGggl2Ya8fBr6gi7EceMFQD6eQFvN9BfM+ZIDAbyOJgNWB4D1Rgx8CigKpHlGUCw14GBpYPDJwN\n",
       "qDIFzAcYbBgYmC8w1Cdg+ILxIwND/QGQmSj2MDgx8BgAZQIYNrEuQNVzm4F3AwMD7wHWKSxopnkz\n",
       "5D8Aum1P4+qDaDLVPf4LcIVKE3ZhDgV2U+wynAe4G7DLsL5xA5IAdWgrpqisVLkAAAAASUVORK5C\n",
       "YII=\n",
       "\" style=\"display:inline;vertical-align:middle;\" /></a> <a class=\"ProveItLink\" href=\"../__pv_it/demonstrations/3ad2cc32ac90c7547274545a777d5ab1b1b6b1ff0/proof.ipynb\" style=\"text-decoration: none\">&nbsp;&#x22A2;&nbsp;&nbsp;</a><a class=\"ProveItLink\" href=\"../__pv_it/demonstrations/4f376b812bda7294fc958516ad9689adf51f19b30/expr.ipynb\"><img src=\"data:image/png;base64,iVBORw0KGgoAAAANSUhEUgAAAJ8AAAAyBAMAAACwtxTjAAAAMFBMVEX///8AAAAAAAAAAAAAAAAA\n",
       "AAAAAAAAAAAAAAAAAAAAAAAAAAAAAAAAAAAAAAAAAAAv3aB7AAAAD3RSTlMAIquJdkTvuxBmmd1U\n",
       "zTKBpmoTAAAACXBIWXMAAA7EAAAOxAGVKw4bAAAC0UlEQVRIx51XP2gTYRR/ufR610uaO5wEl0CK\n",
       "ICgN6CLSNkqx2sFmEhxKohaLiwQHF5cMRaeSDEVx0GSylA4NVcE/RW6Qgnbo4eTg0Mk1ETqkoOjl\n",
       "uyu55O73kru35PLe9/2+973/HxEi5YDC0dMyLz8TEo9S71mxlA0LSHus9GVoPIqnGWHsdnhA+sDI\n",
       "ErkIgLuMW55FwKPxOpbdRYIL13E4yb+haKQNBKdMrYTV+I5NiBz2hkYZ6+5DIzbBvbQ2a8QKPOw0\n",
       "4I+WWEClgSR3QqsgaAx5JXUEBHqVKI8BVbRvBJ1kuzgeYF75CknszZQi0uH8i2sB3BW9/Et8PGZt\n",
       "rz5qDJkiJ/doTnzMINvXB6ZSL2VoQvzWgIGbjjN10/1/K2iRl/mOHng3+iPeQSocB/6XoEVe5me5\n",
       "5b2aj2qOJy/RsIDfnlvOneyUjWUu+/RcMJxcnz07BGB89pVqKFUH0PbmTUMRCbr5qUPbjrPEXdW/\n",
       "5YoxEDC2Q+tSbtEND4vU+6T5omNLACbbx6WFA0xkaUlec1taokFaq8Pqo0knLSzSs0L1e67q+r8O\n",
       "ufdxmVvekpUodmK4kg8GtA8qmAM1XKZeQLt+1Kjfhs6pdhi6xzOA6mEPYIMqJp1LGn1rZwRDP7AN\n",
       "PFBDu8DI3Zy1SMklP2q+sBFxKFWV+mDAdaLpLmCa1InpEzeCA1vNbAwR2PGLa1236CBT9vM4KVhm\n",
       "BUxEzSquAywTFQd96LoVXFX8bdmKCLhggOGwGBFwErVD1M9XNkjlpsBl1Eb/AEF2l8ZazFR5GLLR\n",
       "p8xNkkoRGj29Bo2clthhSYJtsgC6l9yGc5QIN3hYAgSiXSKvMj6pwXEOuVlJ00MGcDv0SKyl5SOK\n",
       "MhIj5dXMPLNJYUJ0HD2k4kxWFphnRSr44TNFT0y8aYfLyrlA7lt7LIr2NAOPx6/zzPy6yBeOn6Gf\n",
       "tz94eegH+KpwyX9Ozby7sJWGXwAAAABJRU5ErkJggg==\n",
       "\" style=\"display:inline;vertical-align:middle;\" /></a></span>"
      ],
      "text/plain": [
       "{a = (b + (c / d) + c^{d}), d = y} |- a = (b + (c / y) + c^{y})"
      ]
     },
     "metadata": {},
     "output_type": "display_data"
    }
   ],
   "source": [
    "d_eq_y.sub_right_side_into(expr, assumptions=[d_eq_y,expr])"
   ]
  },
  {
   "cell_type": "markdown",
   "metadata": {},
   "source": [
    "If the expression that we want to substitute in is on the left hand side of the `Equals` object playing the role of $x=y$, then we use `sub_left_side_into`: "
   ]
  },
  {
   "cell_type": "code",
   "execution_count": 18,
   "metadata": {},
   "outputs": [
    {
     "data": {
      "text/html": [
       "<strong id=\"y_eq_d\">y_eq_d:</strong> <a class=\"ProveItLink\" href=\"../__pv_it/demonstrations/ce7a3142172af5fd797fb4b3808436dd03a720340/expr.ipynb\"><img src=\"data:image/png;base64,iVBORw0KGgoAAAANSUhEUgAAADIAAAASBAMAAADrvZC0AAAAMFBMVEX///8AAAAAAAAAAAAAAAAA\n",
       "AAAAAAAAAAAAAAAAAAAAAAAAAAAAAAAAAAAAAAAAAAAv3aB7AAAAD3RSTlMAEHaZZquJVO8y3btE\n",
       "zSKD2s2pAAAACXBIWXMAAA7EAAAOxAGVKw4bAAAAr0lEQVQY02NgwA7mNjPgAt9xSfB8xCXDtgCX\n",
       "DK8BA6OyA4MouvjTpPkFDGzsDQz+IJ7VKhBYCrakj2G/AMN05gUM0WhaJBwYbBkYBDgUGJrQZOwZ\n",
       "GJYBqfMCnD/RZLoZGP8AKVsGpgZUexg/MbB8ANJbGbgDULUwfmdgvVDHwGDKcN4BzbRNDFUGBgwM\n",
       "okn2D9BkRNXmBU0AMXJxBNAFxnbsMlwKrAnYZdidbLBLAABB6SehMhmJOAAAAABJRU5ErkJggg==\n",
       "\" style=\"display:inline;vertical-align:middle;\" /></a><br>"
      ],
      "text/plain": [
       "<IPython.core.display.HTML object>"
      ]
     },
     "metadata": {},
     "output_type": "display_data"
    }
   ],
   "source": [
    "y_eq_d = Equals(y, d)"
   ]
  },
  {
   "cell_type": "code",
   "execution_count": 19,
   "metadata": {},
   "outputs": [
    {
     "data": {
      "text/html": [
       "<span style=\"font-size:20px;\"><a class=\"ProveItLink\" href=\"../__pv_it/demonstrations/506a0b1daab430309f47bc73cf7228984212db5b0/expr.ipynb\"><img src=\"data:image/png;base64,iVBORw0KGgoAAAANSUhEUgAAAJoAAAAmBAMAAADO2Z8qAAAAMFBMVEX///8AAAAAAAAAAAAAAAAA\n",
       "AAAAAAAAAAAAAAAAAAAAAAAAAAAAAAAAAAAAAAAAAAAv3aB7AAAAD3RSTlMAIquJdkTvuxBmmd1U\n",
       "zTKBpmoTAAAACXBIWXMAAA7EAAAOxAGVKw4bAAACj0lEQVRIx5VWPWgUQRR+6+Xu1vX+SCsSIQGx\n",
       "EARtYjBsohAtEq4KaHMJmIhEZEGbBIuQIgop9oogBtQEG0ERTwMWWYst7D0QJFhdZWNxe3hCIsvp\n",
       "vNHd+9n35tYHt3v73sw3b97PNwPAiOHCf4m+r7I+J7WJy8+4Cd9XebCjVUqrfYAX7IyTPNo3cqVj\n",
       "Z+EGO+U+j/aZ1L5R7AbWWWPmgFTf5MYnWiJv7FbFlqi8Nbnxmid+Dc5ap70+BEiShgFLPO5yaKdo\n",
       "tUjoOOXz6LQpXo84tEMmPKOblNMbhXpNvIaYgs9hCB4sxe2Dl1CXwd5hKtHD59e4aAswJZuxSpuP\n",
       "SL0ffF4jhiTL7bA14N5DTIVHo6WwdJJhzX2kKtJs/5/PtR6jqkWj5bHcEpW4aNefXEJPc2Iz2vCE\n",
       "GUFDY3Zk0o2Bdv5qLdixqITZQlpu6ZWD8k7qZa7tfb3RH+24a1iBrgn6LTAqkVZAtE+rAWGo0HYh\n",
       "FW7tBxge0ZSloni8RrP0efGfz79RMHGG47xfchyRK6OTHn5BygK7SPq2C0m/r28pqwvNNmEbeuMm\n",
       "0fxwYQWa3ZnBJtgunMkUeoYOYU5bsF7ui4bZL7a7O21m9ozeoXLF07DSv95EQhNBhWg+6CPjgzOR\n",
       "XsD+XbtQjlG957auhFzxk+6FrNX12YGW+7IT7QU1/YMx1/XZ2fV5N9L1IftVGEY6YNmnxB9baeaY\n",
       "0X12yhhPc/kyY1hhpygotFRgDMyBoQ3P8F7DRc4QbTYpAd/Qcps9u0mKR76psmADc6zpDlk4HnMJ\n",
       "+Fvy/I3vKTne4kKAMs3HIEtlO+QbMkPziovnWwqN4pvwwFddbU8QNU/yTSDLqvNbqxEOU3wT2DCg\n",
       "fwA2sq3aOVi49gAAAABJRU5ErkJggg==\n",
       "\" style=\"display:inline;vertical-align:middle;\" /></a>, <a class=\"ProveItLink\" href=\"../__pv_it/demonstrations/ce7a3142172af5fd797fb4b3808436dd03a720340/expr.ipynb\"><img src=\"data:image/png;base64,iVBORw0KGgoAAAANSUhEUgAAADIAAAASBAMAAADrvZC0AAAAMFBMVEX///8AAAAAAAAAAAAAAAAA\n",
       "AAAAAAAAAAAAAAAAAAAAAAAAAAAAAAAAAAAAAAAAAAAv3aB7AAAAD3RSTlMAEHaZZquJVO8y3btE\n",
       "zSKD2s2pAAAACXBIWXMAAA7EAAAOxAGVKw4bAAAAr0lEQVQY02NgwA7mNjPgAt9xSfB8xCXDtgCX\n",
       "DK8BA6OyA4MouvjTpPkFDGzsDQz+IJ7VKhBYCrakj2G/AMN05gUM0WhaJBwYbBkYBDgUGJrQZOwZ\n",
       "GJYBqfMCnD/RZLoZGP8AKVsGpgZUexg/MbB8ANJbGbgDULUwfmdgvVDHwGDKcN4BzbRNDFUGBgwM\n",
       "okn2D9BkRNXmBU0AMXJxBNAFxnbsMlwKrAnYZdidbLBLAABB6SehMhmJOAAAAABJRU5ErkJggg==\n",
       "\" style=\"display:inline;vertical-align:middle;\" /></a> <a class=\"ProveItLink\" href=\"../__pv_it/demonstrations/c29f689da47f8dcaf1b1b2c33dc60f9c04d2e6e00/proof.ipynb\" style=\"text-decoration: none\">&nbsp;&#x22A2;&nbsp;&nbsp;</a><a class=\"ProveItLink\" href=\"../__pv_it/demonstrations/4f376b812bda7294fc958516ad9689adf51f19b30/expr.ipynb\"><img src=\"data:image/png;base64,iVBORw0KGgoAAAANSUhEUgAAAJ8AAAAyBAMAAACwtxTjAAAAMFBMVEX///8AAAAAAAAAAAAAAAAA\n",
       "AAAAAAAAAAAAAAAAAAAAAAAAAAAAAAAAAAAAAAAAAAAv3aB7AAAAD3RSTlMAIquJdkTvuxBmmd1U\n",
       "zTKBpmoTAAAACXBIWXMAAA7EAAAOxAGVKw4bAAAC0UlEQVRIx51XP2gTYRR/ufR610uaO5wEl0CK\n",
       "ICgN6CLSNkqx2sFmEhxKohaLiwQHF5cMRaeSDEVx0GSylA4NVcE/RW6Qgnbo4eTg0Mk1ETqkoOjl\n",
       "uyu55O73kru35PLe9/2+973/HxEi5YDC0dMyLz8TEo9S71mxlA0LSHus9GVoPIqnGWHsdnhA+sDI\n",
       "ErkIgLuMW55FwKPxOpbdRYIL13E4yb+haKQNBKdMrYTV+I5NiBz2hkYZ6+5DIzbBvbQ2a8QKPOw0\n",
       "4I+WWEClgSR3QqsgaAx5JXUEBHqVKI8BVbRvBJ1kuzgeYF75CknszZQi0uH8i2sB3BW9/Et8PGZt\n",
       "rz5qDJkiJ/doTnzMINvXB6ZSL2VoQvzWgIGbjjN10/1/K2iRl/mOHng3+iPeQSocB/6XoEVe5me5\n",
       "5b2aj2qOJy/RsIDfnlvOneyUjWUu+/RcMJxcnz07BGB89pVqKFUH0PbmTUMRCbr5qUPbjrPEXdW/\n",
       "5YoxEDC2Q+tSbtEND4vU+6T5omNLACbbx6WFA0xkaUlec1taokFaq8Pqo0knLSzSs0L1e67q+r8O\n",
       "ufdxmVvekpUodmK4kg8GtA8qmAM1XKZeQLt+1Kjfhs6pdhi6xzOA6mEPYIMqJp1LGn1rZwRDP7AN\n",
       "PFBDu8DI3Zy1SMklP2q+sBFxKFWV+mDAdaLpLmCa1InpEzeCA1vNbAwR2PGLa1236CBT9vM4KVhm\n",
       "BUxEzSquAywTFQd96LoVXFX8bdmKCLhggOGwGBFwErVD1M9XNkjlpsBl1Eb/AEF2l8ZazFR5GLLR\n",
       "p8xNkkoRGj29Bo2clthhSYJtsgC6l9yGc5QIN3hYAgSiXSKvMj6pwXEOuVlJ00MGcDv0SKyl5SOK\n",
       "MhIj5dXMPLNJYUJ0HD2k4kxWFphnRSr44TNFT0y8aYfLyrlA7lt7LIr2NAOPx6/zzPy6yBeOn6Gf\n",
       "tz94eegH+KpwyX9Ozby7sJWGXwAAAABJRU5ErkJggg==\n",
       "\" style=\"display:inline;vertical-align:middle;\" /></a></span>"
      ],
      "text/plain": [
       "{a = (b + (c / d) + c^{d}), y = d} |- a = (b + (c / y) + c^{y})"
      ]
     },
     "metadata": {},
     "output_type": "display_data"
    }
   ],
   "source": [
    "y_eq_d.sub_left_side_into(g_repl, assumptions=[y_eq_d,expr])"
   ]
  },
  {
   "cell_type": "markdown",
   "metadata": {},
   "source": [
    "Again, we can provide a non-**Lambda** **Expression** to do a simple global replacement."
   ]
  },
  {
   "cell_type": "code",
   "execution_count": 20,
   "metadata": {},
   "outputs": [
    {
     "data": {
      "text/html": [
       "<span style=\"font-size:20px;\"><a class=\"ProveItLink\" href=\"../__pv_it/demonstrations/506a0b1daab430309f47bc73cf7228984212db5b0/expr.ipynb\"><img src=\"data:image/png;base64,iVBORw0KGgoAAAANSUhEUgAAAJoAAAAmBAMAAADO2Z8qAAAAMFBMVEX///8AAAAAAAAAAAAAAAAA\n",
       "AAAAAAAAAAAAAAAAAAAAAAAAAAAAAAAAAAAAAAAAAAAv3aB7AAAAD3RSTlMAIquJdkTvuxBmmd1U\n",
       "zTKBpmoTAAAACXBIWXMAAA7EAAAOxAGVKw4bAAACj0lEQVRIx5VWPWgUQRR+6+Xu1vX+SCsSIQGx\n",
       "EARtYjBsohAtEq4KaHMJmIhEZEGbBIuQIgop9oogBtQEG0ERTwMWWYst7D0QJFhdZWNxe3hCIsvp\n",
       "vNHd+9n35tYHt3v73sw3b97PNwPAiOHCf4m+r7I+J7WJy8+4Cd9XebCjVUqrfYAX7IyTPNo3cqVj\n",
       "Z+EGO+U+j/aZ1L5R7AbWWWPmgFTf5MYnWiJv7FbFlqi8Nbnxmid+Dc5ap70+BEiShgFLPO5yaKdo\n",
       "tUjoOOXz6LQpXo84tEMmPKOblNMbhXpNvIaYgs9hCB4sxe2Dl1CXwd5hKtHD59e4aAswJZuxSpuP\n",
       "SL0ffF4jhiTL7bA14N5DTIVHo6WwdJJhzX2kKtJs/5/PtR6jqkWj5bHcEpW4aNefXEJPc2Iz2vCE\n",
       "GUFDY3Zk0o2Bdv5qLdixqITZQlpu6ZWD8k7qZa7tfb3RH+24a1iBrgn6LTAqkVZAtE+rAWGo0HYh\n",
       "FW7tBxge0ZSloni8RrP0efGfz79RMHGG47xfchyRK6OTHn5BygK7SPq2C0m/r28pqwvNNmEbeuMm\n",
       "0fxwYQWa3ZnBJtgunMkUeoYOYU5bsF7ui4bZL7a7O21m9ozeoXLF07DSv95EQhNBhWg+6CPjgzOR\n",
       "XsD+XbtQjlG957auhFzxk+6FrNX12YGW+7IT7QU1/YMx1/XZ2fV5N9L1IftVGEY6YNmnxB9baeaY\n",
       "0X12yhhPc/kyY1hhpygotFRgDMyBoQ3P8F7DRc4QbTYpAd/Qcps9u0mKR76psmADc6zpDlk4HnMJ\n",
       "+Fvy/I3vKTne4kKAMs3HIEtlO+QbMkPziovnWwqN4pvwwFddbU8QNU/yTSDLqvNbqxEOU3wT2DCg\n",
       "fwA2sq3aOVi49gAAAABJRU5ErkJggg==\n",
       "\" style=\"display:inline;vertical-align:middle;\" /></a>, <a class=\"ProveItLink\" href=\"../__pv_it/demonstrations/ce7a3142172af5fd797fb4b3808436dd03a720340/expr.ipynb\"><img src=\"data:image/png;base64,iVBORw0KGgoAAAANSUhEUgAAADIAAAASBAMAAADrvZC0AAAAMFBMVEX///8AAAAAAAAAAAAAAAAA\n",
       "AAAAAAAAAAAAAAAAAAAAAAAAAAAAAAAAAAAAAAAAAAAv3aB7AAAAD3RSTlMAEHaZZquJVO8y3btE\n",
       "zSKD2s2pAAAACXBIWXMAAA7EAAAOxAGVKw4bAAAAr0lEQVQY02NgwA7mNjPgAt9xSfB8xCXDtgCX\n",
       "DK8BA6OyA4MouvjTpPkFDGzsDQz+IJ7VKhBYCrakj2G/AMN05gUM0WhaJBwYbBkYBDgUGJrQZOwZ\n",
       "GJYBqfMCnD/RZLoZGP8AKVsGpgZUexg/MbB8ANJbGbgDULUwfmdgvVDHwGDKcN4BzbRNDFUGBgwM\n",
       "okn2D9BkRNXmBU0AMXJxBNAFxnbsMlwKrAnYZdidbLBLAABB6SehMhmJOAAAAABJRU5ErkJggg==\n",
       "\" style=\"display:inline;vertical-align:middle;\" /></a> <a class=\"ProveItLink\" href=\"../__pv_it/demonstrations/c29f689da47f8dcaf1b1b2c33dc60f9c04d2e6e00/proof.ipynb\" style=\"text-decoration: none\">&nbsp;&#x22A2;&nbsp;&nbsp;</a><a class=\"ProveItLink\" href=\"../__pv_it/demonstrations/4f376b812bda7294fc958516ad9689adf51f19b30/expr.ipynb\"><img src=\"data:image/png;base64,iVBORw0KGgoAAAANSUhEUgAAAJ8AAAAyBAMAAACwtxTjAAAAMFBMVEX///8AAAAAAAAAAAAAAAAA\n",
       "AAAAAAAAAAAAAAAAAAAAAAAAAAAAAAAAAAAAAAAAAAAv3aB7AAAAD3RSTlMAIquJdkTvuxBmmd1U\n",
       "zTKBpmoTAAAACXBIWXMAAA7EAAAOxAGVKw4bAAAC0UlEQVRIx51XP2gTYRR/ufR610uaO5wEl0CK\n",
       "ICgN6CLSNkqx2sFmEhxKohaLiwQHF5cMRaeSDEVx0GSylA4NVcE/RW6Qgnbo4eTg0Mk1ETqkoOjl\n",
       "uyu55O73kru35PLe9/2+973/HxEi5YDC0dMyLz8TEo9S71mxlA0LSHus9GVoPIqnGWHsdnhA+sDI\n",
       "ErkIgLuMW55FwKPxOpbdRYIL13E4yb+haKQNBKdMrYTV+I5NiBz2hkYZ6+5DIzbBvbQ2a8QKPOw0\n",
       "4I+WWEClgSR3QqsgaAx5JXUEBHqVKI8BVbRvBJ1kuzgeYF75CknszZQi0uH8i2sB3BW9/Et8PGZt\n",
       "rz5qDJkiJ/doTnzMINvXB6ZSL2VoQvzWgIGbjjN10/1/K2iRl/mOHng3+iPeQSocB/6XoEVe5me5\n",
       "5b2aj2qOJy/RsIDfnlvOneyUjWUu+/RcMJxcnz07BGB89pVqKFUH0PbmTUMRCbr5qUPbjrPEXdW/\n",
       "5YoxEDC2Q+tSbtEND4vU+6T5omNLACbbx6WFA0xkaUlec1taokFaq8Pqo0knLSzSs0L1e67q+r8O\n",
       "ufdxmVvekpUodmK4kg8GtA8qmAM1XKZeQLt+1Kjfhs6pdhi6xzOA6mEPYIMqJp1LGn1rZwRDP7AN\n",
       "PFBDu8DI3Zy1SMklP2q+sBFxKFWV+mDAdaLpLmCa1InpEzeCA1vNbAwR2PGLa1236CBT9vM4KVhm\n",
       "BUxEzSquAywTFQd96LoVXFX8bdmKCLhggOGwGBFwErVD1M9XNkjlpsBl1Eb/AEF2l8ZazFR5GLLR\n",
       "p8xNkkoRGj29Bo2clthhSYJtsgC6l9yGc5QIN3hYAgSiXSKvMj6pwXEOuVlJ00MGcDv0SKyl5SOK\n",
       "MhIj5dXMPLNJYUJ0HD2k4kxWFphnRSr44TNFT0y8aYfLyrlA7lt7LIr2NAOPx6/zzPy6yBeOn6Gf\n",
       "tz94eegH+KpwyX9Ozby7sJWGXwAAAABJRU5ErkJggg==\n",
       "\" style=\"display:inline;vertical-align:middle;\" /></a></span>"
      ],
      "text/plain": [
       "{a = (b + (c / d) + c^{d}), y = d} |- a = (b + (c / y) + c^{y})"
      ]
     },
     "metadata": {},
     "output_type": "display_data"
    }
   ],
   "source": [
    "y_eq_d.sub_left_side_into(expr, assumptions=[y_eq_d,expr])"
   ]
  },
  {
   "cell_type": "markdown",
   "metadata": {},
   "source": [
    "The proof uses a theorem the relies upon the `substitution` axiom, rather than using the `substition` axiom directly:"
   ]
  },
  {
   "cell_type": "code",
   "execution_count": 21,
   "metadata": {},
   "outputs": [
    {
     "data": {
      "text/html": [
       "<table><tr><th>&nbsp;</th><th>step type</th><th>requirements</th><th>statement</th></tr>\n",
       "<tr><td><a name=\"-0xbc121f395befe08_step0\">0</a></td><td>instantiation</td><td><a href=\"#-0xbc121f395befe08_step1\">1</a>, <a href=\"#-0xbc121f395befe08_step2\">2</a>, <a href=\"#-0xbc121f395befe08_step3\">3</a></td><td><span style=\"font-size:20px;\"><a class=\"ProveItLink\" href=\"../__pv_it/demonstrations/506a0b1daab430309f47bc73cf7228984212db5b0/expr.ipynb\"><img src=\"data:image/png;base64,iVBORw0KGgoAAAANSUhEUgAAAJoAAAAmBAMAAADO2Z8qAAAAMFBMVEX///8AAAAAAAAAAAAAAAAA\n",
       "AAAAAAAAAAAAAAAAAAAAAAAAAAAAAAAAAAAAAAAAAAAv3aB7AAAAD3RSTlMAIquJdkTvuxBmmd1U\n",
       "zTKBpmoTAAAACXBIWXMAAA7EAAAOxAGVKw4bAAACj0lEQVRIx5VWPWgUQRR+6+Xu1vX+SCsSIQGx\n",
       "EARtYjBsohAtEq4KaHMJmIhEZEGbBIuQIgop9oogBtQEG0ERTwMWWYst7D0QJFhdZWNxe3hCIsvp\n",
       "vNHd+9n35tYHt3v73sw3b97PNwPAiOHCf4m+r7I+J7WJy8+4Cd9XebCjVUqrfYAX7IyTPNo3cqVj\n",
       "Z+EGO+U+j/aZ1L5R7AbWWWPmgFTf5MYnWiJv7FbFlqi8Nbnxmid+Dc5ap70+BEiShgFLPO5yaKdo\n",
       "tUjoOOXz6LQpXo84tEMmPKOblNMbhXpNvIaYgs9hCB4sxe2Dl1CXwd5hKtHD59e4aAswJZuxSpuP\n",
       "SL0ffF4jhiTL7bA14N5DTIVHo6WwdJJhzX2kKtJs/5/PtR6jqkWj5bHcEpW4aNefXEJPc2Iz2vCE\n",
       "GUFDY3Zk0o2Bdv5qLdixqITZQlpu6ZWD8k7qZa7tfb3RH+24a1iBrgn6LTAqkVZAtE+rAWGo0HYh\n",
       "FW7tBxge0ZSloni8RrP0efGfz79RMHGG47xfchyRK6OTHn5BygK7SPq2C0m/r28pqwvNNmEbeuMm\n",
       "0fxwYQWa3ZnBJtgunMkUeoYOYU5bsF7ui4bZL7a7O21m9ozeoXLF07DSv95EQhNBhWg+6CPjgzOR\n",
       "XsD+XbtQjlG957auhFzxk+6FrNX12YGW+7IT7QU1/YMx1/XZ2fV5N9L1IftVGEY6YNmnxB9baeaY\n",
       "0X12yhhPc/kyY1hhpygotFRgDMyBoQ3P8F7DRc4QbTYpAd/Qcps9u0mKR76psmADc6zpDlk4HnMJ\n",
       "+Fvy/I3vKTne4kKAMs3HIEtlO+QbMkPziovnWwqN4pvwwFddbU8QNU/yTSDLqvNbqxEOU3wT2DCg\n",
       "fwA2sq3aOVi49gAAAABJRU5ErkJggg==\n",
       "\" style=\"display:inline;vertical-align:middle;\" /></a>, <a class=\"ProveItLink\" href=\"../__pv_it/demonstrations/ce7a3142172af5fd797fb4b3808436dd03a720340/expr.ipynb\"><img src=\"data:image/png;base64,iVBORw0KGgoAAAANSUhEUgAAADIAAAASBAMAAADrvZC0AAAAMFBMVEX///8AAAAAAAAAAAAAAAAA\n",
       "AAAAAAAAAAAAAAAAAAAAAAAAAAAAAAAAAAAAAAAAAAAv3aB7AAAAD3RSTlMAEHaZZquJVO8y3btE\n",
       "zSKD2s2pAAAACXBIWXMAAA7EAAAOxAGVKw4bAAAAr0lEQVQY02NgwA7mNjPgAt9xSfB8xCXDtgCX\n",
       "DK8BA6OyA4MouvjTpPkFDGzsDQz+IJ7VKhBYCrakj2G/AMN05gUM0WhaJBwYbBkYBDgUGJrQZOwZ\n",
       "GJYBqfMCnD/RZLoZGP8AKVsGpgZUexg/MbB8ANJbGbgDULUwfmdgvVDHwGDKcN4BzbRNDFUGBgwM\n",
       "okn2D9BkRNXmBU0AMXJxBNAFxnbsMlwKrAnYZdidbLBLAABB6SehMhmJOAAAAABJRU5ErkJggg==\n",
       "\" style=\"display:inline;vertical-align:middle;\" /></a> <a class=\"ProveItLink\" href=\"../__pv_it/demonstrations/c29f689da47f8dcaf1b1b2c33dc60f9c04d2e6e00/proof.ipynb\" style=\"text-decoration: none\">&nbsp;&#x22A2;&nbsp;&nbsp;</a><a class=\"ProveItLink\" href=\"../__pv_it/demonstrations/4f376b812bda7294fc958516ad9689adf51f19b30/expr.ipynb\"><img src=\"data:image/png;base64,iVBORw0KGgoAAAANSUhEUgAAAJ8AAAAyBAMAAACwtxTjAAAAMFBMVEX///8AAAAAAAAAAAAAAAAA\n",
       "AAAAAAAAAAAAAAAAAAAAAAAAAAAAAAAAAAAAAAAAAAAv3aB7AAAAD3RSTlMAIquJdkTvuxBmmd1U\n",
       "zTKBpmoTAAAACXBIWXMAAA7EAAAOxAGVKw4bAAAC0UlEQVRIx51XP2gTYRR/ufR610uaO5wEl0CK\n",
       "ICgN6CLSNkqx2sFmEhxKohaLiwQHF5cMRaeSDEVx0GSylA4NVcE/RW6Qgnbo4eTg0Mk1ETqkoOjl\n",
       "uyu55O73kru35PLe9/2+973/HxEi5YDC0dMyLz8TEo9S71mxlA0LSHus9GVoPIqnGWHsdnhA+sDI\n",
       "ErkIgLuMW55FwKPxOpbdRYIL13E4yb+haKQNBKdMrYTV+I5NiBz2hkYZ6+5DIzbBvbQ2a8QKPOw0\n",
       "4I+WWEClgSR3QqsgaAx5JXUEBHqVKI8BVbRvBJ1kuzgeYF75CknszZQi0uH8i2sB3BW9/Et8PGZt\n",
       "rz5qDJkiJ/doTnzMINvXB6ZSL2VoQvzWgIGbjjN10/1/K2iRl/mOHng3+iPeQSocB/6XoEVe5me5\n",
       "5b2aj2qOJy/RsIDfnlvOneyUjWUu+/RcMJxcnz07BGB89pVqKFUH0PbmTUMRCbr5qUPbjrPEXdW/\n",
       "5YoxEDC2Q+tSbtEND4vU+6T5omNLACbbx6WFA0xkaUlec1taokFaq8Pqo0knLSzSs0L1e67q+r8O\n",
       "ufdxmVvekpUodmK4kg8GtA8qmAM1XKZeQLt+1Kjfhs6pdhi6xzOA6mEPYIMqJp1LGn1rZwRDP7AN\n",
       "PFBDu8DI3Zy1SMklP2q+sBFxKFWV+mDAdaLpLmCa1InpEzeCA1vNbAwR2PGLa1236CBT9vM4KVhm\n",
       "BUxEzSquAywTFQd96LoVXFX8bdmKCLhggOGwGBFwErVD1M9XNkjlpsBl1Eb/AEF2l8ZazFR5GLLR\n",
       "p8xNkkoRGj29Bo2clthhSYJtsgC6l9yGc5QIN3hYAgSiXSKvMj6pwXEOuVlJ00MGcDv0SKyl5SOK\n",
       "MhIj5dXMPLNJYUJ0HD2k4kxWFphnRSr44TNFT0y8aYfLyrlA7lt7LIr2NAOPx6/zzPy6yBeOn6Gf\n",
       "tz94eegH+KpwyX9Ozby7sJWGXwAAAABJRU5ErkJggg==\n",
       "\" style=\"display:inline;vertical-align:middle;\" /></a></span></td></tr>\n",
       "<tr><td>&nbsp;</td><td colspan=4 style=\"text-align:left\"><span style=\"font-size:20px;\"><a class=\"ProveItLink\" href=\"../__pv_it/demonstrations/1d99392da58b40374b949787020ddefb47f454cd0/expr.ipynb\"><img src=\"data:image/png;base64,iVBORw0KGgoAAAANSUhEUgAAADsAAAAVBAMAAAAKrYvGAAAAMFBMVEX///8AAAAAAAAAAAAAAAAA\n",
       "AAAAAAAAAAAAAAAAAAAAAAAAAAAAAAAAAAAAAAAAAAAv3aB7AAAAD3RSTlMAdrurzZkQ7zJUiSLd\n",
       "ZkQEbk8lAAAACXBIWXMAAA7EAAAOxAGVKw4bAAABHElEQVQoz2NgQAYb8PAYGBgnoHAfgkmh/8pG\n",
       "rgkg1iw01RfA1BcGBqYyIM3mgGaaG4jg+MjAwAnEDKwX0KSvgs34AcS/gAx2NFkGdpCVTB+AGKiE\n",
       "YQq6NAvIOH4FBoZ+ASAjCiHBbSUNFOEyYABL7ToJEvNFSD/fwPSNgYEX5FZ5q1X3wGIn4bJstQys\n",
       "B4AOLgCy9WGCdXBp1g8MPAuAfvoA8Ta6NLsCQ/4DBgY+oG6OXzBBhOH5Agz3gRQn0ALGfzBBRYT0\n",
       "BAYTzg0MvEA/sXyACS6GSzMJcB5lBTphAQOr/icBqGAP0CYlINBmYDNcsVmCgYHnAXIg8TSghdoe\n",
       "FB5vAJp0LCpXG5XLrYDKT0LlMqGlJm4BFK40AwMAeV42yYcqVGcAAAAASUVORK5CYII=\n",
       "\" style=\"display:inline;vertical-align:middle;\" /></a> : <a class=\"ProveItLink\" href=\"../__pv_it/demonstrations/140732fc92b5454dabe151b65c63cd7db748796a0/expr.ipynb\"><img src=\"data:image/png;base64,iVBORw0KGgoAAAANSUhEUgAAALkAAAAyBAMAAADy9Gd0AAAAMFBMVEX///8AAAAAAAAAAAAAAAAA\n",
       "AAAAAAAAAAAAAAAAAAAAAAAAAAAAAAAAAAAAAAAAAAAv3aB7AAAAD3RSTlMAIquJdkTvuxBmmd1U\n",
       "zTKBpmoTAAAACXBIWXMAAA7EAAAOxAGVKw4bAAACyUlEQVRYw7VYv2sUQRR+l/ux695ld7G1CUQE\n",
       "QcmJNkHIRQiojblKSCF3/sAgNrHRwuYghZXcFUG00LtGJWeRM4Kom+KKYGORw8rCIv/BRUhxgqKz\n",
       "Oxc8Zua9nduJr7t9zHdv5vvet28WAAtrFwziUY3OnzQBB/cDmZ4oGqHDFzL73Awc0lNEMnXdEB0+\n",
       "Ern8vCn6Z4LXJ6bgMNnCczeJdecu64g1+wNNZQb4smNdZ0Wn+K/4sROMv4OcFik76MH38b07A82D\n",
       "r6M1nMAX5VY00a0OlrmRpCQhjmC0uj/xRV4DoKyDbmMgGVxNwASTphW5unaGPACrSiw+++wSXfNb\n",
       "lxf3kGTOvt9J0qROy+XFlTDmWrHNTIiqnOHd0kTo6XNdeN3h7yWi4RtSab71tDaCIrcZh60cdNs2\n",
       "jl6QIHJ+f6k2cgJSNLkozsN46Kl2u/0Ssuvbs3zr7IBS0xekv1/0uQ8tnNJHTy+8EDuDaeOqb4XO\n",
       "4QRRcD5K0c7s37W6r4ue2oLX4hH1wL4DjiS8jQi9MDhwQw30fBFuiUbbAWcvTAgxw4XbA4+l3gTB\n",
       "7SDYDJ/8GYk9vuH3d/mGN2S/zVfDxqmX1ejsXytd3dqXQYXOLK8J4rnzQpjchxXFo9v7CvQO1Ltw\n",
       "uuALz0vRA2+XkaJbOzPErMyqNV/45EiKjPQ+0bBa2uhMMHMi+hTYx+eOXlF3kz29rt9N6dk1kVcP\n",
       "6dUdgeexnOCf4SCjaF+wprFcTPRC+e2WyHoRL5S11DsM9EUfGd6rh4E+gw0LMRORylflWMYmjl/0\n",
       "uqGvxpSwn2BaChtB5av60xK8ot/6Kl+VyUMLqJDTltJXZVmj1ORbMdNtM57UJjph06JR+qoUm8lu\n",
       "NmpfHeNmg2zLfcDintpXpRKI68tk0bRTK8SN0jW+DW9RyYv/8yZv/BXiGp3+bvYF5VsM50Zffx5H\n",
       "nP4Frai7pjvXtx4AAAAASUVORK5CYII=\n",
       "\" style=\"display:inline;vertical-align:middle;\" /></a>, <a class=\"ProveItLink\" href=\"../../../__pv_it/common/a0d9d672aa5e272d907247690c152cc2c6daafb70/expr.ipynb\"><img src=\"data:image/png;base64,iVBORw0KGgoAAAANSUhEUgAAAAsAAAAJBAMAAAAWSsseAAAAMFBMVEX///8AAAAAAAAAAAAAAAAA\n",
       "AAAAAAAAAAAAAAAAAAAAAAAAAAAAAAAAAAAAAAAAAAAv3aB7AAAAD3RSTlMAEHarMolUmd1mIs3v\n",
       "RLtmgJDEAAAACXBIWXMAAA7EAAAOxAGVKw4bAAAAQklEQVQI12NgEFIWCU1gYChgMmJvYOBcwPmR\n",
       "eQIDCwP7BgYQ4FEAU/cXMAowyF2wYWBlYMh3rGG4xsAgrsRWmcAAAFEjCyBvD0T9AAAAAElFTkSu\n",
       "QmCC\n",
       "\" style=\"display:inline;vertical-align:middle;\" /></a> : <a class=\"ProveItLink\" href=\"../../../__pv_it/common/ff7dba4ef0bbe791ab573bf2d9c220a304399ac80/expr.ipynb\"><img src=\"data:image/png;base64,iVBORw0KGgoAAAANSUhEUgAAAAsAAAANBAMAAACN24kIAAAAMFBMVEX///8AAAAAAAAAAAAAAAAA\n",
       "AAAAAAAAAAAAAAAAAAAAAAAAAAAAAAAAAAAAAAAAAAAv3aB7AAAAD3RSTlMAEHaZZquJVO8y3btE\n",
       "zSKD2s2pAAAACXBIWXMAAA7EAAAOxAGVKw4bAAAAVklEQVQI12NgVHZgEGVgYGNvYPBnYJjOvIAh\n",
       "moFBgEOBoYmBgeG8AOdPIGXLwNQApLYycAcAKVOG8w5ASjTJ/gEDCOQCMdsFxnYgxaXAmgCk2J1s\n",
       "gCQAaFoNDtFIIdEAAAAASUVORK5CYII=\n",
       "\" style=\"display:inline;vertical-align:middle;\" /></a>, <a class=\"ProveItLink\" href=\"../../../__pv_it/common/ff7dba4ef0bbe791ab573bf2d9c220a304399ac80/expr.ipynb\"><img src=\"data:image/png;base64,iVBORw0KGgoAAAANSUhEUgAAAAsAAAANBAMAAACN24kIAAAAMFBMVEX///8AAAAAAAAAAAAAAAAA\n",
       "AAAAAAAAAAAAAAAAAAAAAAAAAAAAAAAAAAAAAAAAAAAv3aB7AAAAD3RSTlMAEHaZZquJVO8y3btE\n",
       "zSKD2s2pAAAACXBIWXMAAA7EAAAOxAGVKw4bAAAAVklEQVQI12NgVHZgEGVgYGNvYPBnYJjOvIAh\n",
       "moFBgEOBoYmBgeG8AOdPIGXLwNQApLYycAcAKVOG8w5ASjTJ/gEDCOQCMdsFxnYgxaXAmgCk2J1s\n",
       "gCQAaFoNDtFIIdEAAAAASUVORK5CYII=\n",
       "\" style=\"display:inline;vertical-align:middle;\" /></a> : <a class=\"ProveItLink\" href=\"../../../__pv_it/common/4f5c524ffda87296de1c79b96880123fe2efedd50/expr.ipynb\"><img src=\"data:image/png;base64,iVBORw0KGgoAAAANSUhEUgAAAAsAAAAOBAMAAAALT/umAAAAMFBMVEX///8AAAAAAAAAAAAAAAAA\n",
       "AAAAAAAAAAAAAAAAAAAAAAAAAAAAAAAAAAAAAAAAAAAv3aB7AAAAD3RSTlMAMs3vmVREEIndIqt2\n",
       "u2aBbGR5AAAACXBIWXMAAA7EAAAOxAGVKw4bAAAAWklEQVQI12NgYGBgVHZgAAH+ADCVXwCmOsEk\n",
       "gwoQc+04+BVIJS/g/c7AwG7HwKLAwMDygYGzgYGB+QJDfQIDQ/0BhvdAFfUBDJtYFzDwHmCdwgJU\n",
       "uadx9UEGAKwhEtVeQlhQAAAAAElFTkSuQmCC\n",
       "\" style=\"display:inline;vertical-align:middle;\" /></a></span></td></tr><tr><td><a name=\"-0xbc121f395befe08_step1\">1</a></td><td>theorem</td><td></td><td><span style=\"font-size:20px;\"> <a class=\"ProveItLink\" href=\"proofs/sub_left_side_into/thm_proof.ipynb\" style=\"text-decoration: none\">&nbsp;&#x22A2;&nbsp;&nbsp;</a><a class=\"ProveItLink\" href=\"../__pv_it/theorems/fa7b338ac0e02abe373a31648947826ee50d3a400/expr.ipynb\"><img src=\"data:image/png;base64,iVBORw0KGgoAAAANSUhEUgAAAMIAAAAXBAMAAACrPI2eAAAAMFBMVEX///8AAAAAAAAAAAAAAAAA\n",
       "AAAAAAAAAAAAAAAAAAAAAAAAAAAAAAAAAAAAAAAAAAAv3aB7AAAAD3RSTlMAq1RmmUTNIjK7EInv\n",
       "3XZ/CtNrAAAACXBIWXMAAA7EAAAOxAGVKw4bAAACs0lEQVRIx7VWS2gTURQ9k5l08uuYQkFEKQVB\n",
       "wQ9moyCoRIpUqEjQlVZsUEFwNV2KYutWlI4ULLowUQTNRqKIixahVNxUlFFwWRg/IEWIWfhNQL3v\n",
       "N3kxDIikF97c+w7nvfNy372PACtjrnA2VsqcQeHjAZBlwfru7Lv8++qaU2UWbVbQe2Af86e7dPRv\n",
       "QHKRfKqokJ4yLrJsed0RSPwCYjRg5RRk5pkI0oNdyv4PGk0KMi1sESbJ9XQpSck6DVLBhhZ2Enix\n",
       "tPS8SwqrKNtTVD0YoXH/7b05ys0DYD9wI2qJ1TbbKFIRrUC7n3stD468M2D5wA5gHDZVbLw0snd1\n",
       "588W7siXR30uzIKY5SMVPq+d284DkjFds2HQDWyhXcpptnQ38CRKwfSR9nFLgqORCiUVPKO6gsVL\n",
       "dorKK+AX3U9HiFIw8nDqonNEiUe3Q6hABcVuBMdoFPewaAF4RUn+cGGYJsezotelQmYQvVn4Eue1\n",
       "LYnQyEg0lQK/jDE3RWfZStHDM6zpGhinBH80vBPUkkEjMa8pTJTtfthFicfYRTCidZ1sOiTD+aoU\n",
       "bgKVwjqkKdxJ4zw7gfmytolcLhlMktxt3/E0hV21d2XEPYnHvZDIn09FRk9dKVCJbrt0AIdk4RqM\n",
       "amRlSfNn16gagabQxz6xrMQTXouok63Sz0BCV4A7tdgQS+cbRcvIl+Qyf9l7C5lJTeEpz7IncZ4l\n",
       "RhRZCsma9YaA7atogjZOVe35x8inqsQY02rJ/s6dD4E7gSSG2439XVRm2DPhG+iUZumUCzg4WiuT\n",
       "iw1d0xSWm7w+ZyDwpCuJcq0i6zajgrPteEy5u5jW+yHsNI5XQqIwRdat0iEl7KhyA/Fip4LlCnw4\n",
       "JApTZN1seeeO247nlDv8CZ0KmOU4e55yOqzI/2XtfxVS2vff7Q+ss7Q23lQ/yQAAAABJRU5ErkJg\n",
       "gg==\n",
       "\" style=\"display:inline;vertical-align:middle;\" /></a></span></td></tr>\n",
       "<tr><td>&nbsp;</td><td colspan=4 style-\"text-align:left\"><a class=\"ProveItLink\" href=\"proofs/sub_left_side_into/thm_proof.ipynb\">proveit.logic.equality.sub_left_side_into</a></td></tr><tr><td><a name=\"-0xbc121f395befe08_step2\">2</a></td><td>assumption</td><td></td><td><span style=\"font-size:20px;\"><a class=\"ProveItLink\" href=\"../__pv_it/demonstrations/506a0b1daab430309f47bc73cf7228984212db5b0/expr.ipynb\"><img src=\"data:image/png;base64,iVBORw0KGgoAAAANSUhEUgAAAJoAAAAmBAMAAADO2Z8qAAAAMFBMVEX///8AAAAAAAAAAAAAAAAA\n",
       "AAAAAAAAAAAAAAAAAAAAAAAAAAAAAAAAAAAAAAAAAAAv3aB7AAAAD3RSTlMAIquJdkTvuxBmmd1U\n",
       "zTKBpmoTAAAACXBIWXMAAA7EAAAOxAGVKw4bAAACj0lEQVRIx5VWPWgUQRR+6+Xu1vX+SCsSIQGx\n",
       "EARtYjBsohAtEq4KaHMJmIhEZEGbBIuQIgop9oogBtQEG0ERTwMWWYst7D0QJFhdZWNxe3hCIsvp\n",
       "vNHd+9n35tYHt3v73sw3b97PNwPAiOHCf4m+r7I+J7WJy8+4Cd9XebCjVUqrfYAX7IyTPNo3cqVj\n",
       "Z+EGO+U+j/aZ1L5R7AbWWWPmgFTf5MYnWiJv7FbFlqi8Nbnxmid+Dc5ap70+BEiShgFLPO5yaKdo\n",
       "tUjoOOXz6LQpXo84tEMmPKOblNMbhXpNvIaYgs9hCB4sxe2Dl1CXwd5hKtHD59e4aAswJZuxSpuP\n",
       "SL0ffF4jhiTL7bA14N5DTIVHo6WwdJJhzX2kKtJs/5/PtR6jqkWj5bHcEpW4aNefXEJPc2Iz2vCE\n",
       "GUFDY3Zk0o2Bdv5qLdixqITZQlpu6ZWD8k7qZa7tfb3RH+24a1iBrgn6LTAqkVZAtE+rAWGo0HYh\n",
       "FW7tBxge0ZSloni8RrP0efGfz79RMHGG47xfchyRK6OTHn5BygK7SPq2C0m/r28pqwvNNmEbeuMm\n",
       "0fxwYQWa3ZnBJtgunMkUeoYOYU5bsF7ui4bZL7a7O21m9ozeoXLF07DSv95EQhNBhWg+6CPjgzOR\n",
       "XsD+XbtQjlG957auhFzxk+6FrNX12YGW+7IT7QU1/YMx1/XZ2fV5N9L1IftVGEY6YNmnxB9baeaY\n",
       "0X12yhhPc/kyY1hhpygotFRgDMyBoQ3P8F7DRc4QbTYpAd/Qcps9u0mKR76psmADc6zpDlk4HnMJ\n",
       "+Fvy/I3vKTne4kKAMs3HIEtlO+QbMkPziovnWwqN4pvwwFddbU8QNU/yTSDLqvNbqxEOU3wT2DCg\n",
       "fwA2sq3aOVi49gAAAABJRU5ErkJggg==\n",
       "\" style=\"display:inline;vertical-align:middle;\" /></a> <a class=\"ProveItLink\" href=\"../__pv_it/demonstrations/1a29006a789fdd99249069087e842c48a3f77d860/proof.ipynb\" style=\"text-decoration: none\">&nbsp;&#x22A2;&nbsp;&nbsp;</a><a class=\"ProveItLink\" href=\"../__pv_it/demonstrations/506a0b1daab430309f47bc73cf7228984212db5b0/expr.ipynb\"><img src=\"data:image/png;base64,iVBORw0KGgoAAAANSUhEUgAAAJoAAAAmBAMAAADO2Z8qAAAAMFBMVEX///8AAAAAAAAAAAAAAAAA\n",
       "AAAAAAAAAAAAAAAAAAAAAAAAAAAAAAAAAAAAAAAAAAAv3aB7AAAAD3RSTlMAIquJdkTvuxBmmd1U\n",
       "zTKBpmoTAAAACXBIWXMAAA7EAAAOxAGVKw4bAAACj0lEQVRIx5VWPWgUQRR+6+Xu1vX+SCsSIQGx\n",
       "EARtYjBsohAtEq4KaHMJmIhEZEGbBIuQIgop9oogBtQEG0ERTwMWWYst7D0QJFhdZWNxe3hCIsvp\n",
       "vNHd+9n35tYHt3v73sw3b97PNwPAiOHCf4m+r7I+J7WJy8+4Cd9XebCjVUqrfYAX7IyTPNo3cqVj\n",
       "Z+EGO+U+j/aZ1L5R7AbWWWPmgFTf5MYnWiJv7FbFlqi8Nbnxmid+Dc5ap70+BEiShgFLPO5yaKdo\n",
       "tUjoOOXz6LQpXo84tEMmPKOblNMbhXpNvIaYgs9hCB4sxe2Dl1CXwd5hKtHD59e4aAswJZuxSpuP\n",
       "SL0ffF4jhiTL7bA14N5DTIVHo6WwdJJhzX2kKtJs/5/PtR6jqkWj5bHcEpW4aNefXEJPc2Iz2vCE\n",
       "GUFDY3Zk0o2Bdv5qLdixqITZQlpu6ZWD8k7qZa7tfb3RH+24a1iBrgn6LTAqkVZAtE+rAWGo0HYh\n",
       "FW7tBxge0ZSloni8RrP0efGfz79RMHGG47xfchyRK6OTHn5BygK7SPq2C0m/r28pqwvNNmEbeuMm\n",
       "0fxwYQWa3ZnBJtgunMkUeoYOYU5bsF7ui4bZL7a7O21m9ozeoXLF07DSv95EQhNBhWg+6CPjgzOR\n",
       "XsD+XbtQjlG957auhFzxk+6FrNX12YGW+7IT7QU1/YMx1/XZ2fV5N9L1IftVGEY6YNmnxB9baeaY\n",
       "0X12yhhPc/kyY1hhpygotFRgDMyBoQ3P8F7DRc4QbTYpAd/Qcps9u0mKR76psmADc6zpDlk4HnMJ\n",
       "+Fvy/I3vKTne4kKAMs3HIEtlO+QbMkPziovnWwqN4pvwwFddbU8QNU/yTSDLqvNbqxEOU3wT2DCg\n",
       "fwA2sq3aOVi49gAAAABJRU5ErkJggg==\n",
       "\" style=\"display:inline;vertical-align:middle;\" /></a></span></td></tr>\n",
       "<tr><td><a name=\"-0xbc121f395befe08_step3\">3</a></td><td>assumption</td><td></td><td><span style=\"font-size:20px;\"><a class=\"ProveItLink\" href=\"../__pv_it/demonstrations/ce7a3142172af5fd797fb4b3808436dd03a720340/expr.ipynb\"><img src=\"data:image/png;base64,iVBORw0KGgoAAAANSUhEUgAAADIAAAASBAMAAADrvZC0AAAAMFBMVEX///8AAAAAAAAAAAAAAAAA\n",
       "AAAAAAAAAAAAAAAAAAAAAAAAAAAAAAAAAAAAAAAAAAAv3aB7AAAAD3RSTlMAEHaZZquJVO8y3btE\n",
       "zSKD2s2pAAAACXBIWXMAAA7EAAAOxAGVKw4bAAAAr0lEQVQY02NgwA7mNjPgAt9xSfB8xCXDtgCX\n",
       "DK8BA6OyA4MouvjTpPkFDGzsDQz+IJ7VKhBYCrakj2G/AMN05gUM0WhaJBwYbBkYBDgUGJrQZOwZ\n",
       "GJYBqfMCnD/RZLoZGP8AKVsGpgZUexg/MbB8ANJbGbgDULUwfmdgvVDHwGDKcN4BzbRNDFUGBgwM\n",
       "okn2D9BkRNXmBU0AMXJxBNAFxnbsMlwKrAnYZdidbLBLAABB6SehMhmJOAAAAABJRU5ErkJggg==\n",
       "\" style=\"display:inline;vertical-align:middle;\" /></a> <a class=\"ProveItLink\" href=\"../__pv_it/demonstrations/11abe3f2b973d963872821369f85c3f93b2cba840/proof.ipynb\" style=\"text-decoration: none\">&nbsp;&#x22A2;&nbsp;&nbsp;</a><a class=\"ProveItLink\" href=\"../__pv_it/demonstrations/ce7a3142172af5fd797fb4b3808436dd03a720340/expr.ipynb\"><img src=\"data:image/png;base64,iVBORw0KGgoAAAANSUhEUgAAADIAAAASBAMAAADrvZC0AAAAMFBMVEX///8AAAAAAAAAAAAAAAAA\n",
       "AAAAAAAAAAAAAAAAAAAAAAAAAAAAAAAAAAAAAAAAAAAv3aB7AAAAD3RSTlMAEHaZZquJVO8y3btE\n",
       "zSKD2s2pAAAACXBIWXMAAA7EAAAOxAGVKw4bAAAAr0lEQVQY02NgwA7mNjPgAt9xSfB8xCXDtgCX\n",
       "DK8BA6OyA4MouvjTpPkFDGzsDQz+IJ7VKhBYCrakj2G/AMN05gUM0WhaJBwYbBkYBDgUGJrQZOwZ\n",
       "GJYBqfMCnD/RZLoZGP8AKVsGpgZUexg/MbB8ANJbGbgDULUwfmdgvVDHwGDKcN4BzbRNDFUGBgwM\n",
       "okn2D9BkRNXmBU0AMXJxBNAFxnbsMlwKrAnYZdidbLBLAABB6SehMhmJOAAAAABJRU5ErkJggg==\n",
       "\" style=\"display:inline;vertical-align:middle;\" /></a></span></td></tr>\n",
       "</table>"
      ],
      "text/plain": [
       "\tstep type\trequirements\tstatement\n",
       "0\tinstantiation\t1, 2, 3\t{a = (b + (c / d) + c^{d}), y = d} |- a = (b + (c / y) + c^{y})\n",
       "\tP(_a) : a = (b + (c / _a) + c^{_a}), x : y, y : d\n",
       "1\ttheorem\t\t|- forall_{P, x, y | P(y), x = y} P(x)\n",
       "\tproveit.logic.equality.sub_left_side_into\n",
       "2\tassumption\t\t{a = (b + (c / d) + c^{d})} |- a = (b + (c / d) + c^{d})\n",
       "3\tassumption\t\t{y = d} |- y = d"
      ]
     },
     "metadata": {},
     "output_type": "display_data"
    }
   ],
   "source": [
    "y_eq_d.sub_left_side_into(expr, assumptions=[y_eq_d,expr]).proof()"
   ]
  },
  {
   "cell_type": "markdown",
   "metadata": {},
   "source": [
    "### Concluding an equality via direct substitution\n",
    "\n",
    "The `conclude_via_direct_substitution` allows us to conclude the equality between two expressions that have the same structure apart from sub-expressions that are known to be equal.  For example,"
   ]
  },
  {
   "cell_type": "code",
   "execution_count": 22,
   "metadata": {},
   "outputs": [
    {
     "data": {
      "text/html": [
       "<strong id=\"_eq\">_eq:</strong> <a class=\"ProveItLink\" href=\"../__pv_it/demonstrations/e4714f6ff77d28799671ccc40dc273b99de9675a0/expr.ipynb\"><img src=\"data:image/png;base64,iVBORw0KGgoAAAANSUhEUgAAAWUAAAAVBAMAAABs/uL9AAAAMFBMVEX///8AAAAAAAAAAAAAAAAA\n",
       "AAAAAAAAAAAAAAAAAAAAAAAAAAAAAAAAAAAAAAAAAAAv3aB7AAAAD3RSTlMAmYkQqzLvVES73WZ2\n",
       "Is1wFLxSAAAACXBIWXMAAA7EAAAOxAGVKw4bAAAEIklEQVRIx51XT2gUZxT/7cxuZpLZXdceDaar\n",
       "2EJlKSOIIBR3UShIg+zJQ2lJqIfWqrC00UNKzR7aQIvgFsSLSmNqqHra3CwtTbC1PVhhDlKICK4E\n",
       "vLSHYFgs2Abf92e++WYymS/2wZt9876Z3+/Ne2/efAsoKaWaqedcgpTzABtLKQvvfzL8nmpycRfX\n",
       "AxZbCcc5qRtJBv4mGEojxwONIbfTp6NTVeuaCez/mA531al9cUYYn8TwC08qxS7RdFOCzcancGpb\n",
       "fSODhS98jWHXUfZAB6L1AzHIx6RlX52WKwK5Fw9sSwvL9LOcErMBH+/BaxgZ8r5EFwwffsXOh6P1\n",
       "4RjkM1KvogfHk5fI6Hkf8/QznxKzAd+uwp0xMhQbEp0zuKvcOR6tj8c6jS8f04NjMpAIbDe5fKHJ\n",
       "Vs3GR5HCaxgZbJY6xWDx9nGiSjixoojlv/TgmJxNREYdVO4KTYgBn8U86ZsZvvUjBu/ta6wsOfZe\n",
       "OLV7XWnerz2U3TX6K9VqVxTcZ2+wefMKs2t3m+ItOniH0mA1hMbFhI8vl46wHs1mwMRUR2PYwscM\n",
       "T9Cb+LMjTPcUfzCS+rL9H/CzqtFakG/IxD9o5TrcOR0MUgN4PaHAtptMrsn2zMZH1bs1BxOD18vr\n",
       "DI/4kwxRMp1VTsDMfV1sExBTPk4CZ1Rh+8gzmO9JZzHA47FPIEdIzrjQhBjwQVn/AQYGPArIHTFM\n",
       "iY5vkzYwFgjzVXY9lxHgKTCmhm0PQ6y2H5G5GvpWuK+wIjQhBnybgjoPAwMOo9DXGHYrzLEWfpPm\n",
       "cdj/iKtn4VKvToc3ExxPHCEOdKSPjDrd444LXT9RsvBdQmPeTAY857EqhgsIa7cQ8BMy7X/hrYTj\n",
       "mT3tZHgzBfc6ROXq4feWjAVW1BmhiX424FvykkwGu8/7WDGc5N5BWl6A/VyYNA3zvc/B3pI+6z3e\n",
       "cTa7joL7wKMCX6aXi/xt5qy3cMQJ4FFWvM66PBvwy1TuUxAM3JHGQFGUW1AMJVEjNkLqAXs5uXkZ\n",
       "k5WKvUZn7+AbOXjqPd5Y6FtiNNErbTWZc3DRuZoTMyxXXbdjM+Dv6eLrtmTgjjQG1DCBiMERNSpQ\n",
       "yt3RHTPS3Hv7/dEmbtJz793BptR1VtPv6HAJuM0q9i7pzh9/4U579LX7d2i9LTQuJvzT5zgeZ+CO\n",
       "NAZYf7BkhAw5+RWYi7Ync4ov/BKXeJt+qoUyJGe95nwgNbGrM+BXdQbH3wzDRFnuUudROISxJvSN\n",
       "jqWIu3KSRp+3SjReta3PcDJkI35VZ7A2xXAj3BgOBvlj9t/SlL63wouXwkkayZVovMpMdYTGxYQf\n",
       "3r8UJ8xk+Gl7OE461G5taUrfYuz2YiyY/WqHo4LSolFiwnebeoCLL8nwMNUUt6X8zysl/w3dk7qR\n",
       "ZOC/HMMLfJR/Uz4cGwAAAAAASUVORK5CYII=\n",
       "\" style=\"display:inline;vertical-align:middle;\" /></a><br>"
      ],
      "text/plain": [
       "<IPython.core.display.HTML object>"
      ]
     },
     "metadata": {},
     "output_type": "display_data"
    }
   ],
   "source": [
    "from proveit import Function\n",
    "from proveit import f, g, h, n, alpha, beta, delta, theta\n",
    "_eq = Equals(Function(f, (Function(g, (a, b)), Function(h, (c, d)))),\n",
    "            Function(f, (Function(g, (a, beta)), Function(h, (c, delta)))))"
   ]
  },
  {
   "cell_type": "code",
   "execution_count": 23,
   "metadata": {},
   "outputs": [
    {
     "data": {
      "text/html": [
       "<span style=\"font-size:20px;\"><a class=\"ProveItLink\" href=\"../__pv_it/demonstrations/7704cca425320296942a310566ed6937d4dddac50/expr.ipynb\"><img src=\"data:image/png;base64,iVBORw0KGgoAAAANSUhEUgAAADEAAAATBAMAAADL1vgSAAAAMFBMVEX///8AAAAAAAAAAAAAAAAA\n",
       "AAAAAAAAAAAAAAAAAAAAAAAAAAAAAAAAAAAAAAAAAAAv3aB7AAAAD3RSTlMAELvv3c2ZVESJq3Yi\n",
       "MmZ3LnoBAAAACXBIWXMAAA7EAAAOxAGVKw4bAAAAvUlEQVQY02NgwAkYlR0wBXlmpwkwMLAmYMrc\n",
       "ZuBbwMDAX4BpzgQGDqBJ/QIYMtwMDGxAPVMYsMmUANVH7V6OLtN7aGkg0MyvAvIHgLwUFxDwAstM\n",
       "4Hvhy8DA/pGBeQOangkMDI+AVgUw8E9AcxpQZT8DA8sEhn40d3NcYGDYDPZOvgCqPZxArAWUucBo\n",
       "h2YNKwMDrw0DA9cDJvTgEXvA0NIAtG5lHrp3art3bsAe/BNwRgxOGcYNuGRA3gECAJmDJ33UfbKn\n",
       "AAAAAElFTkSuQmCC\n",
       "\" style=\"display:inline;vertical-align:middle;\" /></a>, <a class=\"ProveItLink\" href=\"../__pv_it/demonstrations/8568a26b11eeaf48d30f2f2f7b244382561f3d1c0/expr.ipynb\"><img src=\"data:image/png;base64,iVBORw0KGgoAAAANSUhEUgAAADEAAAAPBAMAAAC/wjryAAAAMFBMVEX///8AAAAAAAAAAAAAAAAA\n",
       "AAAAAAAAAAAAAAAAAAAAAAAAAAAAAAAAAAAAAAAAAAAv3aB7AAAAD3RSTlMAMs3vmVREEIndIqt2\n",
       "u2aBbGR5AAAACXBIWXMAAA7EAAAOxAGVKw4bAAAArklEQVQY02NgwAa4nGwXgGhGZQc0GQ6G7AIw\n",
       "gz8ATYa7AMrIL0CT4dkAZXSi28P+FcpQwXDCfZApXDsOfkWXiI6/ACSTF/B+B/E8Z4LAbBCTT4Eb\n",
       "KMRux8CigKZl/QLWjwwMLB8YOBvQZPYyMAJlmC8w1CegyfxjYPzAwFB/gOE9A6o97B+BNgFlAhg2\n",
       "sS5A1fORgQkYKrwHWKewoJnWwxAN0rqncfVB9AA9A3QTAHSfLWaifIuTAAAAAElFTkSuQmCC\n",
       "\" style=\"display:inline;vertical-align:middle;\" /></a> <a class=\"ProveItLink\" href=\"../__pv_it/demonstrations/ed14ba29bd7cf63c58076b72a8a2f51cdcf74e000/proof.ipynb\" style=\"text-decoration: none\">&nbsp;&#x22A2;&nbsp;&nbsp;</a><a class=\"ProveItLink\" href=\"../__pv_it/demonstrations/e4714f6ff77d28799671ccc40dc273b99de9675a0/expr.ipynb\"><img src=\"data:image/png;base64,iVBORw0KGgoAAAANSUhEUgAAAWUAAAAVBAMAAABs/uL9AAAAMFBMVEX///8AAAAAAAAAAAAAAAAA\n",
       "AAAAAAAAAAAAAAAAAAAAAAAAAAAAAAAAAAAAAAAAAAAv3aB7AAAAD3RSTlMAmYkQqzLvVES73WZ2\n",
       "Is1wFLxSAAAACXBIWXMAAA7EAAAOxAGVKw4bAAAEIklEQVRIx51XT2gUZxT/7cxuZpLZXdceDaar\n",
       "2EJlKSOIIBR3UShIg+zJQ2lJqIfWqrC00UNKzR7aQIvgFsSLSmNqqHra3CwtTbC1PVhhDlKICK4E\n",
       "vLSHYFgs2Abf92e++WYymS/2wZt9876Z3+/Ne2/efAsoKaWaqedcgpTzABtLKQvvfzL8nmpycRfX\n",
       "AxZbCcc5qRtJBv4mGEojxwONIbfTp6NTVeuaCez/mA531al9cUYYn8TwC08qxS7RdFOCzcancGpb\n",
       "fSODhS98jWHXUfZAB6L1AzHIx6RlX52WKwK5Fw9sSwvL9LOcErMBH+/BaxgZ8r5EFwwffsXOh6P1\n",
       "4RjkM1KvogfHk5fI6Hkf8/QznxKzAd+uwp0xMhQbEp0zuKvcOR6tj8c6jS8f04NjMpAIbDe5fKHJ\n",
       "Vs3GR5HCaxgZbJY6xWDx9nGiSjixoojlv/TgmJxNREYdVO4KTYgBn8U86ZsZvvUjBu/ta6wsOfZe\n",
       "OLV7XWnerz2U3TX6K9VqVxTcZ2+wefMKs2t3m+ItOniH0mA1hMbFhI8vl46wHs1mwMRUR2PYwscM\n",
       "T9Cb+LMjTPcUfzCS+rL9H/CzqtFakG/IxD9o5TrcOR0MUgN4PaHAtptMrsn2zMZH1bs1BxOD18vr\n",
       "DI/4kwxRMp1VTsDMfV1sExBTPk4CZ1Rh+8gzmO9JZzHA47FPIEdIzrjQhBjwQVn/AQYGPArIHTFM\n",
       "iY5vkzYwFgjzVXY9lxHgKTCmhm0PQ6y2H5G5GvpWuK+wIjQhBnybgjoPAwMOo9DXGHYrzLEWfpPm\n",
       "cdj/iKtn4VKvToc3ExxPHCEOdKSPjDrd444LXT9RsvBdQmPeTAY857EqhgsIa7cQ8BMy7X/hrYTj\n",
       "mT3tZHgzBfc6ROXq4feWjAVW1BmhiX424FvykkwGu8/7WDGc5N5BWl6A/VyYNA3zvc/B3pI+6z3e\n",
       "cTa7joL7wKMCX6aXi/xt5qy3cMQJ4FFWvM66PBvwy1TuUxAM3JHGQFGUW1AMJVEjNkLqAXs5uXkZ\n",
       "k5WKvUZn7+AbOXjqPd5Y6FtiNNErbTWZc3DRuZoTMyxXXbdjM+Dv6eLrtmTgjjQG1DCBiMERNSpQ\n",
       "yt3RHTPS3Hv7/dEmbtJz793BptR1VtPv6HAJuM0q9i7pzh9/4U579LX7d2i9LTQuJvzT5zgeZ+CO\n",
       "NAZYf7BkhAw5+RWYi7Ync4ov/BKXeJt+qoUyJGe95nwgNbGrM+BXdQbH3wzDRFnuUudROISxJvSN\n",
       "jqWIu3KSRp+3SjReta3PcDJkI35VZ7A2xXAj3BgOBvlj9t/SlL63wouXwkkayZVovMpMdYTGxYQf\n",
       "3r8UJ8xk+Gl7OE461G5taUrfYuz2YiyY/WqHo4LSolFiwnebeoCLL8nwMNUUt6X8zysl/w3dk7qR\n",
       "ZOC/HMMLfJR/Uz4cGwAAAAAASUVORK5CYII=\n",
       "\" style=\"display:inline;vertical-align:middle;\" /></a></span>"
      ],
      "text/plain": [
       "{b = beta, d = delta} |- f(g(a, b), h(c, d)) = f(g(a, beta), h(c, delta))"
      ]
     },
     "metadata": {},
     "output_type": "display_data"
    }
   ],
   "source": [
    "_eq.conclude_via_direct_substitution(\n",
    "    assumptions=[Equals(b, beta), Equals(d, delta)])"
   ]
  },
  {
   "cell_type": "markdown",
   "metadata": {},
   "source": [
    "This method is limited, however, and does not resolve cascading substitutions such as the following example:"
   ]
  },
  {
   "cell_type": "code",
   "execution_count": 24,
   "metadata": {},
   "outputs": [
    {
     "data": {
      "text/html": [
       "<strong id=\"_eq\">_eq:</strong> <a class=\"ProveItLink\" href=\"../__pv_it/demonstrations/21e69d315e89195b24eed164d4f011b55fa8fe5c0/expr.ipynb\"><img src=\"data:image/png;base64,iVBORw0KGgoAAAANSUhEUgAAATQAAAAVBAMAAAA6KA+LAAAAMFBMVEX///8AAAAAAAAAAAAAAAAA\n",
       "AAAAAAAAAAAAAAAAAAAAAAAAAAAAAAAAAAAAAAAAAAAv3aB7AAAAD3RSTlMAmYkQqzLvVES73WZ2\n",
       "Is1wFLxSAAAACXBIWXMAAA7EAAAOxAGVKw4bAAAEgUlEQVRIx31WXWhcRRT+9t7d3P272aX2QY21\n",
       "sbaCNcgiIiglu1atKMHuQyki1EQj1PgDoYpIxXYfrGARutDiS1vcqiW1T1uoD2Ix24D60AQuUgR/\n",
       "oFsUfFCkEJcETIJn5szcuXP3JgfOvd/MnPnOuWfOzFwgFD8RsgToFz+h7WMDCTbiCzYi/yERsnyc\n",
       "4ClulO2wrifF6SS4jgdFlNpWoac3HPZHIOB+0iKuttXsMwJefAnX6HUtKahN94rnIdNxyB7/8ept\n",
       "EQ/kbVtdEW3fLz5i1AyNWhMHy/T43W72GQFLGKQvFBoX56mD4pu65mu71nimg8tRDzjtthTRwY/E\n",
       "a8gMDVkzSyLwS3azzwjZRRQo6EK5P7SBd0+KtTFpiUAhDwHHox6cJnpMRKRCJozthDXzhAh8oGI1\n",
       "+4zg0DpPgjUmPGMgEqs9TmW1OephvEFLIIkcWTyeSbJn53unXMa21ewzkuv8F1hjwjOOmI4j8dC8\n",
       "z6MenoX7nyQq7PlC5C4lqtobWWgr6O9eULvtj/mnKf6annjzvfsDbe/Mf8Wd10fGaZ23g9WWy689\n",
       "LveCrP/5XxU0/NkDp/6pRDy4K8guM1GpE6blQfzUVPDDIMcL7a5VqgEKOknuWpCuKXt/Bncw+5v4\n",
       "lNi/BStSF6UoZyvyKdLpdP0pBUN+OPjmeB3GQ7GH4ioT3aiLjjx9tbco4xTQfR0pPiWoc4BSrkvL\n",
       "6yHdVPb5YbwhOx9p4256vaM0dnr25GuG9GhFxjkT5afQUCDG0MPgv0/unWCio1yaDdIaxgOGqVvC\n",
       "scxAF6VhZG7p3dXlAWG0VVfuVuAzUb9KbfF46qukryCzytDwYxdlnUxCD6Umqh0m2hmGRvXyvY6S\n",
       "xhtygBhOTCOrv4maMs3CaEp7n4K7LBZJaf/e5XgySyhOMDT8OAbZG3qguGYrTHQKekFnA9kQUIyH\n",
       "5xhlx2vpiQ3cp+zdFVO4BfHNh5XatZar6QUtrHJjJsqPYTaJejiniLhccpTDWblrJaxO4zkvcEVo\n",
       "daoLWQ0Q60eELxcCNiLjrOh0l5Duvg98DdbYics78QxE/NU2Q8MPKv/9QcRDqeFNMpG/zGmnwKtB\n",
       "elHBXMc7l0KVpqXbuTKfFe4aDT4D9BxlRNtzh+w8g8PlMh8Km/pCu8ELR4eBu4q9FYaG3x1C9gIi\n",
       "HtLTj9WZSFVphvKZHbunpaA7tuP6d8jTUejuFldSXvBfJN7TwFxHGTkPXKnIzofnDowRnfBwoS80\n",
       "3mZ4gfSDuTsVNPze8/MjiHpw79oCJkqp0+e8ubvPh7RvafCL3GvRu1sbmU6/xRqTzWr/yDPqpoGK\n",
       "30n2QERvD6rr+hIyT2C8DusuH7ZufCfqURs51q0du7nJWe1PBnRf76tkegoafifZAxF9qX9uckF6\n",
       "0v1bQb319J+h31QnkBFtZDp/VmpJ/qQ+5c9iT2W0o6Dh35XsgYiubNFmTSq1hoL6zrDjsH5htZHp\n",
       "PBtxGkrhqv7OR6nUbtfQ8B9L9mAR/ZYIWRYS/l3jRsWAdT3xO0lwHQ9E9D/0gkR8gDD00AAAAABJ\n",
       "RU5ErkJggg==\n",
       "\" style=\"display:inline;vertical-align:middle;\" /></a><br>"
      ],
      "text/plain": [
       "<IPython.core.display.HTML object>"
      ]
     },
     "metadata": {},
     "output_type": "display_data"
    }
   ],
   "source": [
    "_eq = Equals(Function(f, (Function(g, (a, b)), Function(h, (c, d)))),\n",
    "            Function(f, (Function(g, (a, beta)), theta)))"
   ]
  },
  {
   "cell_type": "code",
   "execution_count": 25,
   "metadata": {},
   "outputs": [
    {
     "data": {
      "text/html": [
       "<strong id=\"_assumptions\">_assumptions:</strong> <a class=\"ProveItLink\" href=\"../__pv_it/demonstrations/d7716159ae8baccb825802e9dc8adbd04c1425ed0/expr.ipynb\"><img src=\"data:image/png;base64,iVBORw0KGgoAAAANSUhEUgAAAOEAAAAVBAMAAABCnpRGAAAAMFBMVEX///8AAAAAAAAAAAAAAAAA\n",
       "AAAAAAAAAAAAAAAAAAAAAAAAAAAAAAAAAAAAAAAAAAAv3aB7AAAAD3RSTlMAInZUiRDNmWbv3US7\n",
       "qzJazP2FAAAACXBIWXMAAA7EAAAOxAGVKw4bAAAC5klEQVRIx62WT2gTQRTGX5KddJPNn8WjKI0x\n",
       "IJ5aQUQL1ZCTSi2LB0VRkovoRcxBahChi5ceFG1FUGgOgXgqGEKPgib2pAexWPHUwurBgxeLkqJE\n",
       "gm9mdmP2zTYH6UJg9vvt9+a9NzO7AQATduAKkfttggo5PP4f8WeqJOR+QpeDjUI+DOxtLSBo4Zbl\n",
       "jb8+IVCDlwL2nZE8oWFbDZmbBi6zEkC0rOIvoK/2b34SmPSS8ZznFHpFiZiwLwp5BGdNq41leTD6\n",
       "lRsdQsNeMp6zotA5JeQUpB0ux3DcshQcxlz6NWq068wr2nPOKzRGY6a6PD+Uj+DNaQiacaLvUbv+\n",
       "3mWuM1JSaJQuZLIGRZvLN/HmenaNhny155O3EnsL32nXJ0+05eDq0Sm+aUf4xtGyDwaotko8xQy0\n",
       "mly+hl3Ysorcd3uJX88Fz+v3Gu4iLsiKBqheSsqVZVtmkkfmBYXqcAf+UV2UPWAac2DM5HIde9KB\n",
       "WIZkhEnfl6MLNswQOGpGerKbPUjyauPYhHgeHg3QyDwx3djY+C3kRexJCdJ5sjUwg5YczgI8I+Z1\n",
       "SMkZ0RnnzlgTn7N8NLVJTH+A/RDyosiuRVbKcAAOymEVWJeYf3nx0DnquDNW/dQgNeJ0ekfIdXGo\n",
       "ZslKafh7139y078krOeuEhSbcApkV3kB0iBppEZMXYiXhbyCMzrsKakiivUvAFjicCVLh/y0B9Fx\n",
       "zuAhwGMdN10iw0sDQ4iCgt4mIbtwzBLyGTwpdoIeuPM2vGjiVsThCkyUCS7ApGTrGJ+3gx8F3KjT\n",
       "QuTUPTCD1xprSPkblvGxQo/j8eUc371LmNXl3OcPDnmRZ/OSvcHXM38uhS3UTt61hCgoxJu0iAOm\n",
       "lONO0FfFTTBibf/F8rGGIu4OdqGsl4fMqA35RvrYnCJWgl1cfh2gM/eFcHbIjD6WMIkYagd/yrl8\n",
       "KQAYbqszQ2b0MdYmYiL4b4eQQ5md+J+zi9zvC34M5b8Qyc29yNu5kAAAAABJRU5ErkJggg==\n",
       "\" style=\"display:inline;vertical-align:middle;\" /></a><br>"
      ],
      "text/plain": [
       "<IPython.core.display.HTML object>"
      ]
     },
     "metadata": {},
     "output_type": "display_data"
    }
   ],
   "source": [
    "_assumptions = [Equals(b, beta), Equals(d, delta), \n",
    "                Equals(Function(h, (c, delta)), theta)]"
   ]
  },
  {
   "cell_type": "code",
   "execution_count": 26,
   "metadata": {},
   "outputs": [
    {
     "name": "stdout",
     "output_type": "stream",
     "text": [
      "Expected Error: f(g(a, b), h(c, d)) and f(g(a, beta), theta) have different structures and cannot be equated via direct substitution\n"
     ]
    }
   ],
   "source": [
    "try:\n",
    "    _eq.conclude_via_direct_substitution(assumptions=_assumptions)\n",
    "    assert False, \"An error was expected but didn't occur.\"\n",
    "except ValueError as e:\n",
    "    print(\"Expected Error: %s\"%e)"
   ]
  },
  {
   "cell_type": "markdown",
   "metadata": {},
   "source": [
    "But it can handle inner scopes with conditions if the proper equalities are explicitly known (proven) under appropriate assumptions.  For example,"
   ]
  },
  {
   "cell_type": "code",
   "execution_count": 27,
   "metadata": {},
   "outputs": [
    {
     "data": {
      "text/html": [
       "<strong id=\"_eq\">_eq:</strong> <a class=\"ProveItLink\" href=\"../__pv_it/demonstrations/8b5947a66969cc5f3e97105058a444cd04a2a39b0/expr.ipynb\"><img src=\"data:image/png;base64,iVBORw0KGgoAAAANSUhEUgAAAawAAAAVBAMAAADoVMeWAAAAMFBMVEX///8AAAAAAAAAAAAAAAAA\n",
       "AAAAAAAAAAAAAAAAAAAAAAAAAAAAAAAAAAAAAAAAAAAv3aB7AAAAD3RSTlMAmYkQqzLvVES73WZ2\n",
       "Is1wFLxSAAAACXBIWXMAAA7EAAAOxAGVKw4bAAAFt0lEQVRYw51XfYhUVRQ/77352p15s+NWFG7q\n",
       "uLtI2VIvkcIyZyIT1EUfEQlh7NIaq+bCUq7IVjqEbd84YpFDSqu1aftHjJGxkq3jtiihxUARrC04\n",
       "4h8RJixtywq60bn33Pdx37zZ1b0wM+feOb/7e79zzz33PgC76b6mb3+GVnRQ+i34eczZkVbkPOdr\n",
       "8hYp3A5DrNNBTYe0/GRzdqQ+nEq9gd/hpO3jMgGWbcWv83Z3bn9//2bfmbkja69YI+clpKvVNkh+\n",
       "kklBb5pjOFAFOb/MVNBTb1bgbHyOSV3huK6QgJfxEzcqrKvXEZtWsgYYSkZSU59ul/zcJrWNEE3L\n",
       "UL/1ZO1TrbcCZ/u77KfOca2TgJP4iSZuQdakiG3eGmAoGUkttHO/5Oc2SWYSIr0ytIIsNQsT/pyR\n",
       "cd5vdXxbpRTnf7fNLEvMAyFnqM2LpLbX8PiFvJmFD5qWoRVktWR4NH041V6+n5w8CEspQX9fnVkW\n",
       "OQLscoauepHUFnv9dpXL6jZkaAVZa0C74csZXfUFWzOFlYlw0895Yf7WNCqStXkYZ2ycWVb87m8O\n",
       "8XqACzf8RNNBIFRjmeO3W58UfrjVL/xhmfWNpuXx1si6Kx6ovyztJkSu+3PW8HoYZ9n5IPyeJTPS\n",
       "AZ/Rjk1d0aYABmeWlboGK0W41KpmSBUJNWjVMmxp8rxph1Ut6VuEeTGjdeji2ZPRgT6QSf1lxSYg\n",
       "NuXPeYkHqRph4XGukZmP5GEuIXcbsA1ghzVRNz5du2vii7WZ6CZyNGE1+z0K8E51lk/LUDvKz9kJ\n",
       "EH5s8pvCRJJ9MVH7MF1OuqBhVuBdsvTD98F3PETxf1eub/Xn3E27Fs+FUBpaimQuADhCc8wH+Ae3\n",
       "pt9qBYdzmXC6Ae6wHDkETzUjlWFPzFEtZbLCYyD8YBMEp8hUcHC+KlILY7vXA7VXa+PqA7BdNRQe\n",
       "gZospAr+nIttWS2dcFaYW0C7TtMcgQjWmh4/WXMwOOFTCiSFIy3DZgrVOiBUT6Xagn7BSYi1khnC\n",
       "7F/UIGoqznvWA7VkKXfh12uFBEUANZ02/Dk/AisJTxd5B03citEx6zRSsHJ3y7KOn7iQgBjbjuEN\n",
       "Hxa4LAyD2molF85/QyNUd9neqkpbSRidos5R/oDwkHh0VTxVtyQrWrfxjLhBdO0cFbIycLgC5zbi\n",
       "wmlPU7VEU5uEQOkNYIGYYPuMpzpYp/45beBl6IBlPKPMhp1cFoYhlPwBDVaOXsR9qhLqZPlpTHe2\n",
       "gxyTypPJNvUiwRHHdewQUM2W9XhPPlTUslyW+uibfLQmE24DX06dkk3FqKWKgXFhHoTuREL7D3tr\n",
       "YZ8owbzLZenLSzAO75MsJcapAlmoMZNUXTEbY6UThKotk3WJrnfohzV2vUGmkoXogiBxPJyH9zIC\n",
       "mipZsn79BWqMCL9OdEHiJz4a6HzMBF9OsYGDmPCR5oW9wlw69EKzCf3IuXQhm+kY82FduuoGCpFW\n",
       "GMzlcp1hU0ty5qo8xJqY8Tywm4+2tpNQx8pkUY1ifrBnaK5l1n//o9JEHF0fDPEFZdDqz+2rbjPu\n",
       "mehfudwnKGtJnIrLvfPAn1MRh0kfL5gJ2+RLYaWd3it1IWQqCfMZWi14W36DqLZPVYbSe8tk3en2\n",
       "uyxDOEfSTfqq/ddLMCcYTNJqRV6fnnN7XOzT4xB8ClpMMsHZu667qOrkEVRvMKuYymgGYmmJwrmh\n",
       "MpT3Fgvh9J+237NGcEKGcI6km9R+SdLHoK8L2CUZBgCGp+f8ynoLqSoG2rS/hSnGllvOI3IX9kDs\n",
       "AdA/Zst/DUCWBYfcqBHvWlXvL9l+q4wVBRnCOLSCi1SzUyGShqE8jGDgg18XITA956l51vUqi1sr\n",
       "I0wxVpBR3tfVJbmc38vdMjfqkPff6Jmi7bdn6B4PhHFETBdpzHsLvD934LY4R31NKkPF23np1wsO\n",
       "ajqkXvAzZ0fq4fwflCm0zVRmWjgAAAAASUVORK5CYII=\n",
       "\" style=\"display:inline;vertical-align:middle;\" /></a><br>"
      ],
      "text/plain": [
       "<IPython.core.display.HTML object>"
      ]
     },
     "metadata": {},
     "output_type": "display_data"
    }
   ],
   "source": [
    "from proveit import ExprTuple\n",
    "from proveit.logic import Forall, Exists, InSet\n",
    "from proveit.numbers import Natural\n",
    "_eq = Equals(Function(f, (Function(g, (a, b)), Exists(n, Function(h, n), domain=Natural))),\n",
    "             Function(f, (Function(g, (alpha, beta)), Exists(n, Function(theta, n), domain=Natural))))"
   ]
  },
  {
   "cell_type": "code",
   "execution_count": 28,
   "metadata": {},
   "outputs": [
    {
     "data": {
      "text/html": [
       "<strong id=\"_assumptions\">_assumptions:</strong> <a class=\"ProveItLink\" href=\"../__pv_it/demonstrations/ad159ec6b1714b315985894b2bd4bd252847ec880/expr.ipynb\"><img src=\"data:image/png;base64,iVBORw0KGgoAAAANSUhEUgAAAU4AAAAVBAMAAADbQxraAAAAMFBMVEX///8AAAAAAAAAAAAAAAAA\n",
       "AAAAAAAAAAAAAAAAAAAAAAAAAAAAAAAAAAAAAAAAAAAv3aB7AAAAD3RSTlMAInZUiRDNmWbv3US7\n",
       "qzJazP2FAAAACXBIWXMAAA7EAAAOxAGVKw4bAAAEmElEQVRIx4VXXWgcVRT+Zndm//8I+GCIuNX4\n",
       "BxailNJG3C4xPkQbHGuxKpWsD8E+KKxSbFBoFh9apcUmkoCoyELFQgphCb5EwWwq0kojLlGKSMW1\n",
       "j4IkWgyFYvDcv5k7f5sDM3tmzne+c+695565C6CEnlIK6sbOcMPvavTi7fHOUL6xoZ5p6malZ8s7\n",
       "wjlkSTPc60cu9Y6lhBFxsj3osOd9EYH3ANb3TUcX8mBIjNFuABJrOOZ4VcNyQs2oxfLO5cgJmxPR\n",
       "ZdXwDnv3SniaZAYSdVfnkrADwCtWMwiZdMzPe8CccDI0li43kOpwIrqSDfzFUm+H55lkoy4OuTqX\n",
       "VN2PM9vYDkJOO/YpD5oTng6NpeddRbbJiehKi6GbEVWaZrcV29WFzPtxGy3cDELSzrzPeNCcMG2H\n",
       "xdJLiVLvCKJ57KVsaRyJiPLcy25PabqQY37cr7BuBSEJNUNx75JywkQjLJY3z2FbEB3Dcbp/vLAw\n",
       "F5EnM+PVfQdLQs/ufnbkEqnj/tL6B9nbQYjZUUvKttFdI33y8fV7ftKMnlij4131/M3AtUlJNM6z\n",
       "PQl8F5EnM1tbpXxH6GZuHROU8ykefIELM8W2Efs7CEmpaWRzl53Fj2KprS2bENyocfBY/S1r1pA1\n",
       "WE2dWYQgOoXzbKAw9LEZF57G+/IFM8e3kW8L/etMG3fTgPf7hpP477ffZ4KQuCrLDIV+sYG3ZRX8\n",
       "i3TZNSphsT4ELsdk4dIanIUg2o9P6J6zzZbTC65fxeOmnZRYZk7WkKkK3Z5o4QCZNnwhim1MlIOQ\n",
       "wqbaIsQ/DXwuq6CGYtU1KiHnJL17y5S1RIQrEEQbPJF42dlGyZOs55frpuvLkmQTxPUDwDX6WfaF\n",
       "oCTP2UFIdkbL81NYt+XsVrEy5Bq1PNO0bmNPyi8RxXxIEi3zyUbtXaqlqRsPyC9N5bE+U1sLmqAx\n",
       "pVMGtyzah776JMiFEEi86a47bbXUptM+p21h1OvzPB8vnpHlyVL4AYJoGGxr4gnaVy8sN9Ili7f7\n",
       "ivnclzIAM58D5lIloc9RcZmibjzr3orPK7gGSTE6Ns+5MqybyNce4U/FrvWRNOpCzkXKc0z60BoX\n",
       "ZiGIzooOcyeN5477UbSzvKdVUH9Y+jLzdWDbFLpB+7r2gWwhmuSHXuoiCGHtyNqSDeoShut1/pRv\n",
       "5OqyV+lCzsk2UtMF4XOkga9asl0dx588DAuyTlWQem1t7VvK87AqWGa+AgyWhU7fMesXWpeL/v75\n",
       "5hsKrkMyLM4CTU6B1vjlwT/Wu/zJ+nlKGXVhsUbfuy85InwqSzwqJ7qIjNNWP8OJQqEq5jP7qCqs\n",
       "rsvj6kYzot36IP28C7FFXHQOTs7Xsj/amaOqLpHRdI8UxiYWK6LfnwF2h5w4XD3ZiMjTB5lS+8E9\n",
       "dJgRRxNvLBNOnoyIXavqQNrBYAMDNKbCFyXklceqRuToA5HnZA9EHMIOsVtOHdUPORPejnZmKKvs\n",
       "ErHrqLfQDq5d9bw4GqavRubpgYjkeDxLZeX8FciVop0ZKtt1idhllHv+79DNSo+VdoRzyC7N0OdH\n",
       "7uodyzk0lfj1P63vOu+HqjoyAAAAAElFTkSuQmCC\n",
       "\" style=\"display:inline;vertical-align:middle;\" /></a><br>"
      ],
      "text/plain": [
       "<IPython.core.display.HTML object>"
      ]
     },
     "metadata": {},
     "output_type": "display_data"
    }
   ],
   "source": [
    "_assumptions = (Forall(n, Equals(Function(h, n), Function(theta, n)), domain=Natural),\n",
    "                Equals(ExprTuple(a, b), ExprTuple(alpha, beta)))"
   ]
  },
  {
   "cell_type": "code",
   "execution_count": 29,
   "metadata": {},
   "outputs": [
    {
     "data": {
      "text/html": [
       "<span style=\"font-size:20px;\"><a class=\"ProveItLink\" href=\"../__pv_it/demonstrations/52507a1e5f7683fe64055e100ca58ceb55e499460/expr.ipynb\"><img src=\"data:image/png;base64,iVBORw0KGgoAAAANSUhEUgAAALcAAAAVBAMAAAD2lGJJAAAAMFBMVEX///8AAAAAAAAAAAAAAAAA\n",
       "AAAAAAAAAAAAAAAAAAAAAAAAAAAAAAAAAAAAAAAAAAAv3aB7AAAAD3RSTlMAq1RmmUTNIjK7EInv\n",
       "3XZ/CtNrAAAACXBIWXMAAA7EAAAOxAGVKw4bAAACeUlEQVQ4y4WVy2sTURTGv5nJcyYxqbu6kEoR\n",
       "shANUneigSp0I2RvTbMQRDeOS181/gMlKl1EXIwP3IhkEAQDCl0KRYggEheBUUtL6aLZRGMR8dy5\n",
       "88jMnWkOfOGby29Ozj137r3AvpGO8PpkXN8fc+JHhK9NxmuOiuxhNgaWTahPup7ncaAsgjvvBITp\n",
       "PHu4EpP8JSlV8T2PawKXLb8WEdJ91qpmTPJ5UmHG9zzmBK6DQkNASCkD0GZikq+Rlgzf88gZISwz\n",
       "5CUEEZJCrUnFtbxOPx/GPI9UuOlSF+2ygDB96vfXY5In2AJdnu3ojq8dur1t0USLIa5tYakqIEwL\n",
       "wOOY5Oy/1V+6VHS8+cBSfwOKXeGFPovPzO42sKsLCNMNpMcrSX95i9POQJ4aKY8gNblPVr8hPaKh\n",
       "tVAR16em/ooIU9bQqi61Mr2KI5qRcFYsx+ZaR97kXlWHkPdo/Qah5H+g/hMRJtny1jOxwDaUVdHg\n",
       "J6fM9xqOlweQaK7JUOWUWdkTERurn6H+zK9sAD8ZWjq67CZnbWlX8d719FqhbEDuBntO1eYrImJj\n",
       "b2grPV8s53TV3ksl7dlFd+PRup8F1hWd+5yJE4YJJbznhjhmQEBs7A4t361NFIyk/f2WUNl2XmIf\n",
       "0zQw0hxP/dlUGvwLHY+Dag8iYmMSa+lhLEK52mo9pOSv3EXI0MQe0alkOf4S8PQkTb8aSv5iQ4eI\n",
       "+NhHnMtkTF558rg72hvL4Pu7cSduEPGw9AC9Et9Mp4DvUUfUXOA4i4wg4mHJInbKuEkNynzVIXlH\n",
       "6dh14vnYMzSIhDG101oNDjQjfDb2Agsg2Yn33HKE35qMb3H9B7Z+wzze3JUoAAAAAElFTkSuQmCC\n",
       "\" style=\"display:inline;vertical-align:middle;\" /></a>, <a class=\"ProveItLink\" href=\"../../../numbers/number_sets/natural_numbers/__pv_it/theorems/1a8a7907b709bbd24c48a9933f16dbe96429f5cc0/expr.ipynb\"><img src=\"data:image/png;base64,iVBORw0KGgoAAAANSUhEUgAAADUAAAAQBAMAAABEqSrGAAAAMFBMVEX///8AAAAAAAAAAAAAAAAA\n",
       "AAAAAAAAAAAAAAAAAAAAAAAAAAAAAAAAAAAAAAAAAAAv3aB7AAAAD3RSTlMARHarECKJu90yVM1m\n",
       "75kejotwAAAACXBIWXMAAA7EAAAOxAGVKw4bAAAA5ElEQVQY02NgwAQe36sdGHL/CjBgA1WMBgws\n",
       "H7BKMVgE5DAwXMAuZ1XAHcDQgCqm3tGxAUSbHmLdgCYnrQJlmDJPUAPJMSq7JhWBRVi3wBSZMhSw\n",
       "CwDl2NiNGPwDQCLcAQi5eSwtQDlBjgKG+AlgOQaEHM+C5UB3OvgLMKx3AInM7QCCAogcgwkzyA/r\n",
       "GRiswardkfQxOLOA3AmU+MMCEuFAluNUAJlwjYHrCxtIhEkBJlcJxJpAOdafDEwbToKFdsHkQAw+\n",
       "YCgwNjCw2CwACzkXgt3EMPsvUA/LBtQwE6voQBYBAAF6MQMvLZecAAAAAElFTkSuQmCC\n",
       "\" style=\"display:inline;vertical-align:middle;\" /></a> <a class=\"ProveItLink\" href=\"../__pv_it/demonstrations/cf944aaf3f4111086620e049db1b1b484221d4fd0/proof.ipynb\" style=\"text-decoration: none\">&nbsp;&#x22A2;&nbsp;&nbsp;</a><a class=\"ProveItLink\" href=\"../__pv_it/demonstrations/38fd04aff0c9cb1efec2c44d9e2e3dbd7a84d9790/expr.ipynb\"><img src=\"data:image/png;base64,iVBORw0KGgoAAAANSUhEUgAAAG4AAAAVBAMAAABVkMbKAAAAMFBMVEX///8AAAAAAAAAAAAAAAAA\n",
       "AAAAAAAAAAAAAAAAAAAAAAAAAAAAAAAAAAAAAAAAAAAv3aB7AAAAD3RSTlMAELvv3c2ZVESJZiKr\n",
       "MnbRl/71AAAACXBIWXMAAA7EAAAOxAGVKw4bAAABgklEQVQ4y3WUPUsDQRCG39V8XS6cQewscmAX\n",
       "QbQz3RWilqksrNKKIAG10CYBGztFbQQRESwlwT+giDYimsI+aRUbC1GiJ87eel4yuzfNzM0+7+zu\n",
       "7O4B/9ZUzka8mRCnqnymEyvrRcSYpz42wtEXg+CwpSHJShCKcphM5jVdUXgaMqQmT52EyWyFyywX\n",
       "vobsqPKDETbFde06PjTkQEXrUXKR624guhqysLkn27tEbXodPZ6g8IjJxA8ynxwR783clapgDTyg\n",
       "QDXOgv3OBCaHHB/OF0fSPnIuJeeA7YSLS2r4Kpsv+X3/OMmRVBmJXUpOA/lCHTXqUpvphlwUOhwh\n",
       "kSwgk6gBt+S2mI5EjTxHqMA+1CJkpiuANbY/QmY1pAGUsrRT2aUS0m8WcMrXWU8HR9qHXAO+pZpv\n",
       "U9/K50G/+yxXHQmuZx9SBJ7lpp/ocDyIO7p18/z8VpYDb0QSrTCyvZhnZESi2xxdX2ZmZDwMLmLf\n",
       "rREZ1kY1MyL23//BacbqepBfIWdvTO3Bo1kAAAAASUVORK5CYII=\n",
       "\" style=\"display:inline;vertical-align:middle;\" /></a></span>"
      ],
      "text/plain": [
       "{forall_{n in Natural} (h(n) = theta(n)), n in Natural} |- h(n) = theta(n)"
      ]
     },
     "metadata": {},
     "output_type": "display_data"
    }
   ],
   "source": [
    "_assumptions[0].instantiate(assumptions=_assumptions+(InSet(n, Natural),))"
   ]
  },
  {
   "cell_type": "code",
   "execution_count": 30,
   "metadata": {},
   "outputs": [
    {
     "data": {
      "text/html": [
       "<span style=\"font-size:20px;\"><a class=\"ProveItLink\" href=\"../__pv_it/demonstrations/a7f062aa03c7a297db76ee8e0e66d8cac3e24e380/expr.ipynb\"><img src=\"data:image/png;base64,iVBORw0KGgoAAAANSUhEUgAAAHkAAAAVBAMAAACQ4lxbAAAAMFBMVEX///8AAAAAAAAAAAAAAAAA\n",
       "AAAAAAAAAAAAAAAAAAAAAAAAAAAAAAAAAAAAAAAAAAAv3aB7AAAAD3RSTlMAInZUiRDNmWbv3US7\n",
       "qzJazP2FAAAACXBIWXMAAA7EAAAOxAGVKw4bAAACJ0lEQVQ4y21UPWgUQRT+9m4n97OnHNFKFFaj\n",
       "aCMoqGAaQxCSRjhCEAKGbBO1vOKUEBQXC2OhcIo2muLApMlhCOmSIlzSWIkhlVW4lGrh6amNIH4z\n",
       "e7t3+/YGdva9x/vm/XxvBkAR8WUhufrZDC51QVgdN+k51Ae9rrdLvZZbb7idSzimR4Th6Nl7SPmA\n",
       "8mLmO/wGShJ9U+iHXTwHZoGMH7O3+WXLEj0n9ElgE1gAcvGaf+v9tURXhc7OPCS0hCsxs13T+11Z\n",
       "tpdAp5dZoY+K1k6MDgbmgb3zpOCGcM7optnX96MMDz7eZm/sXRPHeYFPQadmZtUP4IkW51f0em/O\n",
       "ZG+sOqaKRzoZ4ulmk/3x8I7alI/5wH6thJfAVRE7z3xyLgrlMyEa2QYLquIttUfAUmC/D/wCvgt0\n",
       "bs34ZLwO7RNMt0XeWga9CPU3sC/BIWcbfdCLDPmqMwhbnFDS4FR15uonsq2Q7gw5GxZ1M3P6wG53\n",
       "TmMKhV1mXsMO0W0c8i5CH/xP9wDPROwC+dVoxlNaJ4FfiqZ2zc4Ohstl9YfSZ3zgXhFoUoMHnK1W\n",
       "EzNEqjk49YDIr/xNnz7Ya2KFwafH9ODW5Vhzhuzxx6WKizynJP3t1KgpaA35ZjRR4eWwanJSV7vi\n",
       "ZUOYWcd6r4QdjZYv0QtdcaTrqO/OdmifCIXjiftdiN4f5UaOVkM/CD0XJ1jbCbRqhFIqoDs60pIP\n",
       "UaqYfIUG+7xMJ4H/8pRziuAVfycAAAAASUVORK5CYII=\n",
       "\" style=\"display:inline;vertical-align:middle;\" /></a>, <a class=\"ProveItLink\" href=\"../__pv_it/demonstrations/52507a1e5f7683fe64055e100ca58ceb55e499460/expr.ipynb\"><img src=\"data:image/png;base64,iVBORw0KGgoAAAANSUhEUgAAALcAAAAVBAMAAAD2lGJJAAAAMFBMVEX///8AAAAAAAAAAAAAAAAA\n",
       "AAAAAAAAAAAAAAAAAAAAAAAAAAAAAAAAAAAAAAAAAAAv3aB7AAAAD3RSTlMAq1RmmUTNIjK7EInv\n",
       "3XZ/CtNrAAAACXBIWXMAAA7EAAAOxAGVKw4bAAACeUlEQVQ4y4WVy2sTURTGv5nJcyYxqbu6kEoR\n",
       "shANUneigSp0I2RvTbMQRDeOS181/gMlKl1EXIwP3IhkEAQDCl0KRYggEheBUUtL6aLZRGMR8dy5\n",
       "88jMnWkOfOGby29Ozj137r3AvpGO8PpkXN8fc+JHhK9NxmuOiuxhNgaWTahPup7ncaAsgjvvBITp\n",
       "PHu4EpP8JSlV8T2PawKXLb8WEdJ91qpmTPJ5UmHG9zzmBK6DQkNASCkD0GZikq+Rlgzf88gZISwz\n",
       "5CUEEZJCrUnFtbxOPx/GPI9UuOlSF+2ygDB96vfXY5In2AJdnu3ojq8dur1t0USLIa5tYakqIEwL\n",
       "wOOY5Oy/1V+6VHS8+cBSfwOKXeGFPovPzO42sKsLCNMNpMcrSX95i9POQJ4aKY8gNblPVr8hPaKh\n",
       "tVAR16em/ooIU9bQqi61Mr2KI5qRcFYsx+ZaR97kXlWHkPdo/Qah5H+g/hMRJtny1jOxwDaUVdHg\n",
       "J6fM9xqOlweQaK7JUOWUWdkTERurn6H+zK9sAD8ZWjq67CZnbWlX8d719FqhbEDuBntO1eYrImJj\n",
       "b2grPV8s53TV3ksl7dlFd+PRup8F1hWd+5yJE4YJJbznhjhmQEBs7A4t361NFIyk/f2WUNl2XmIf\n",
       "0zQw0hxP/dlUGvwLHY+Dag8iYmMSa+lhLEK52mo9pOSv3EXI0MQe0alkOf4S8PQkTb8aSv5iQ4eI\n",
       "+NhHnMtkTF558rg72hvL4Pu7cSduEPGw9AC9Et9Mp4DvUUfUXOA4i4wg4mHJInbKuEkNynzVIXlH\n",
       "6dh14vnYMzSIhDG101oNDjQjfDb2Agsg2Yn33HKE35qMb3H9B7Z+wzze3JUoAAAAAElFTkSuQmCC\n",
       "\" style=\"display:inline;vertical-align:middle;\" /></a> <a class=\"ProveItLink\" href=\"../__pv_it/demonstrations/052d5351c6e91a29eb2d88d0203033896e2ff8000/proof.ipynb\" style=\"text-decoration: none\">&nbsp;&#x22A2;&nbsp;&nbsp;</a><a class=\"ProveItLink\" href=\"../__pv_it/demonstrations/8b5947a66969cc5f3e97105058a444cd04a2a39b0/expr.ipynb\"><img src=\"data:image/png;base64,iVBORw0KGgoAAAANSUhEUgAAAawAAAAVBAMAAADoVMeWAAAAMFBMVEX///8AAAAAAAAAAAAAAAAA\n",
       "AAAAAAAAAAAAAAAAAAAAAAAAAAAAAAAAAAAAAAAAAAAv3aB7AAAAD3RSTlMAmYkQqzLvVES73WZ2\n",
       "Is1wFLxSAAAACXBIWXMAAA7EAAAOxAGVKw4bAAAFt0lEQVRYw51XfYhUVRQ/77352p15s+NWFG7q\n",
       "uLtI2VIvkcIyZyIT1EUfEQlh7NIaq+bCUq7IVjqEbd84YpFDSqu1aftHjJGxkq3jtiihxUARrC04\n",
       "4h8RJixtywq60bn33Pdx37zZ1b0wM+feOb/7e79zzz33PgC76b6mb3+GVnRQ+i34eczZkVbkPOdr\n",
       "8hYp3A5DrNNBTYe0/GRzdqQ+nEq9gd/hpO3jMgGWbcWv83Z3bn9//2bfmbkja69YI+clpKvVNkh+\n",
       "kklBb5pjOFAFOb/MVNBTb1bgbHyOSV3huK6QgJfxEzcqrKvXEZtWsgYYSkZSU59ul/zcJrWNEE3L\n",
       "UL/1ZO1TrbcCZ/u77KfOca2TgJP4iSZuQdakiG3eGmAoGUkttHO/5Oc2SWYSIr0ytIIsNQsT/pyR\n",
       "cd5vdXxbpRTnf7fNLEvMAyFnqM2LpLbX8PiFvJmFD5qWoRVktWR4NH041V6+n5w8CEspQX9fnVkW\n",
       "OQLscoauepHUFnv9dpXL6jZkaAVZa0C74csZXfUFWzOFlYlw0895Yf7WNCqStXkYZ2ycWVb87m8O\n",
       "8XqACzf8RNNBIFRjmeO3W58UfrjVL/xhmfWNpuXx1si6Kx6ovyztJkSu+3PW8HoYZ9n5IPyeJTPS\n",
       "AZ/Rjk1d0aYABmeWlboGK0W41KpmSBUJNWjVMmxp8rxph1Ut6VuEeTGjdeji2ZPRgT6QSf1lxSYg\n",
       "NuXPeYkHqRph4XGukZmP5GEuIXcbsA1ghzVRNz5du2vii7WZ6CZyNGE1+z0K8E51lk/LUDvKz9kJ\n",
       "EH5s8pvCRJJ9MVH7MF1OuqBhVuBdsvTD98F3PETxf1eub/Xn3E27Fs+FUBpaimQuADhCc8wH+Ae3\n",
       "pt9qBYdzmXC6Ae6wHDkETzUjlWFPzFEtZbLCYyD8YBMEp8hUcHC+KlILY7vXA7VXa+PqA7BdNRQe\n",
       "gZospAr+nIttWS2dcFaYW0C7TtMcgQjWmh4/WXMwOOFTCiSFIy3DZgrVOiBUT6Xagn7BSYi1khnC\n",
       "7F/UIGoqznvWA7VkKXfh12uFBEUANZ02/Dk/AisJTxd5B03citEx6zRSsHJ3y7KOn7iQgBjbjuEN\n",
       "Hxa4LAyD2molF85/QyNUd9neqkpbSRidos5R/oDwkHh0VTxVtyQrWrfxjLhBdO0cFbIycLgC5zbi\n",
       "wmlPU7VEU5uEQOkNYIGYYPuMpzpYp/45beBl6IBlPKPMhp1cFoYhlPwBDVaOXsR9qhLqZPlpTHe2\n",
       "gxyTypPJNvUiwRHHdewQUM2W9XhPPlTUslyW+uibfLQmE24DX06dkk3FqKWKgXFhHoTuREL7D3tr\n",
       "YZ8owbzLZenLSzAO75MsJcapAlmoMZNUXTEbY6UThKotk3WJrnfohzV2vUGmkoXogiBxPJyH9zIC\n",
       "mipZsn79BWqMCL9OdEHiJz4a6HzMBF9OsYGDmPCR5oW9wlw69EKzCf3IuXQhm+kY82FduuoGCpFW\n",
       "GMzlcp1hU0ty5qo8xJqY8Tywm4+2tpNQx8pkUY1ifrBnaK5l1n//o9JEHF0fDPEFZdDqz+2rbjPu\n",
       "mehfudwnKGtJnIrLvfPAn1MRh0kfL5gJ2+RLYaWd3it1IWQqCfMZWi14W36DqLZPVYbSe8tk3en2\n",
       "uyxDOEfSTfqq/ddLMCcYTNJqRV6fnnN7XOzT4xB8ClpMMsHZu667qOrkEVRvMKuYymgGYmmJwrmh\n",
       "MpT3Fgvh9J+237NGcEKGcI6km9R+SdLHoK8L2CUZBgCGp+f8ynoLqSoG2rS/hSnGllvOI3IX9kDs\n",
       "AdA/Zst/DUCWBYfcqBHvWlXvL9l+q4wVBRnCOLSCi1SzUyGShqE8jGDgg18XITA956l51vUqi1sr\n",
       "I0wxVpBR3tfVJbmc38vdMjfqkPff6Jmi7bdn6B4PhHFETBdpzHsLvD934LY4R31NKkPF23np1wsO\n",
       "ajqkXvAzZ0fq4fwflCm0zVRmWjgAAAAASUVORK5CYII=\n",
       "\" style=\"display:inline;vertical-align:middle;\" /></a></span>"
      ],
      "text/plain": [
       "{(a, b) = (alpha, beta), forall_{n in Natural} (h(n) = theta(n))} |- f(g(a, b), exists_{n in Natural} h(n)) = f(g(alpha, beta), exists_{n in Natural} theta(n))"
      ]
     },
     "metadata": {},
     "output_type": "display_data"
    }
   ],
   "source": [
    "_eq.conclude_via_direct_substitution(assumptions=_assumptions)"
   ]
  },
  {
   "cell_type": "markdown",
   "metadata": {},
   "source": [
    "Also note that we were able to substitute operands via equating `ExprTuple`s in this example."
   ]
  },
  {
   "cell_type": "markdown",
   "metadata": {},
   "source": [
    "## Reflexivity, symmetry, and transitivity"
   ]
  },
  {
   "cell_type": "markdown",
   "metadata": {},
   "source": [
    "Reflexivity, symmetry, and transitivity are also fundamental properties of equality, in addition to the ability to perform substitution.  Reflexivity is the fact that any mathematical object is equal to itself.  Symmetry is the fact that $x = y$ and $y = x$ are equivalent (either both of these are true or both of these false).  Transitivity is the ability to derive $x=z$ from $x=y$ and $y=z$.  These are all axioms."
   ]
  },
  {
   "cell_type": "code",
   "execution_count": 31,
   "metadata": {},
   "outputs": [],
   "source": [
    "from proveit.logic.equality  import equals_reflexivity, equals_symmetry, equals_transitivity"
   ]
  },
  {
   "cell_type": "code",
   "execution_count": 32,
   "metadata": {},
   "outputs": [
    {
     "data": {
      "text/html": [
       "<span style=\"font-size:20px;\"> <a class=\"ProveItLink\" href=\"axioms.ipynb#equals_reflexivity\" style=\"text-decoration: none\">&nbsp;&#x22A2;&nbsp;&nbsp;</a><a class=\"ProveItLink\" href=\"../__pv_it/axioms/864f59d0e02493d4a93bdd8b5654226c327952290/expr.ipynb\"><img src=\"data:image/png;base64,iVBORw0KGgoAAAANSUhEUgAAAGIAAAAVBAMAAABPrCZEAAAAMFBMVEX///8AAAAAAAAAAAAAAAAA\n",
       "AAAAAAAAAAAAAAAAAAAAAAAAAAAAAAAAAAAAAAAAAAAv3aB7AAAAD3RSTlMAq1RmmUTNIjK7EInv\n",
       "3XZ/CtNrAAAACXBIWXMAAA7EAAAOxAGVKw4bAAABTklEQVQ4y2NgwAQFDDgBO1ZRPgXcOlgfMDAI\n",
       "gBjKyKLaDHjAYwYGVxCdjiTGlYBPB9sChkaQ6yYgibEY4NPB7ADSxMCN7HIeBrzgFAMz0Eg2ZCE1\n",
       "/DqSGRjO3r17GlnIG4jXPVyxGz3EoGIbGRg8GBhmoRnC4MAnx3IB5Ke7YAAOT6iYGQNDIQO7ALKO\n",
       "S0DvFTD/YkQLAJiYDgMD5wLuAGSpowwMHAwsGEEME+tnYGB6gOJxkA5ggD3A9DNELAaIE+yAxDv3\n",
       "JwVwVzEwxBdwLUDzB1RMF8jalAVMSwWSbNDAmcfAsDJAhoEbzQaYmCUQ1wCNYGaYxwGVAgaffpcP\n",
       "QxCaDpgYKPAZG0Ai32FSvQwMS94xOaNHB0zsKjwoDsCSPm8DvihnvwBl1HAnsCDSGh4AT6csT/e9\n",
       "gglOx6ejEpvgSnw6sBrH/gC3Br4CBgBNaE7Uk29NoAAAAABJRU5ErkJggg==\n",
       "\" style=\"display:inline;vertical-align:middle;\" /></a></span>"
      ],
      "text/plain": [
       "|- forall_{x} (x = x)"
      ]
     },
     "metadata": {},
     "output_type": "display_data"
    }
   ],
   "source": [
    "equals_reflexivity"
   ]
  },
  {
   "cell_type": "code",
   "execution_count": 33,
   "metadata": {},
   "outputs": [
    {
     "data": {
      "text/html": [
       "<span style=\"font-size:20px;\"> <a class=\"ProveItLink\" href=\"axioms.ipynb#equals_symmetry\" style=\"text-decoration: none\">&nbsp;&#x22A2;&nbsp;&nbsp;</a><a class=\"ProveItLink\" href=\"../__pv_it/axioms/789c834568adff331f7b46a8f81cd1f96d48c8060/expr.ipynb\"><img src=\"data:image/png;base64,iVBORw0KGgoAAAANSUhEUgAAAN0AAAAWBAMAAAC2xYReAAAAMFBMVEX///8AAAAAAAAAAAAAAAAA\n",
       "AAAAAAAAAAAAAAAAAAAAAAAAAAAAAAAAAAAAAAAAAAAv3aB7AAAAD3RSTlMAq1RmmUTNIjK7EInv\n",
       "3XZ/CtNrAAAACXBIWXMAAA7EAAAOxAGVKw4bAAACf0lEQVRIx7VVTWgTQRR++5fuTxoDnqogCxYv\n",
       "IgQRxEuqhKog1Z482gUPgqd4lSrRayvUgwgeyhZEaAsl9tBjWQRBECUKgpfAViqih+KtPTpvZnab\n",
       "fTuTiOAHX5J93/fezM68zABo0ZYcIlOM/XM1gFooqMMtRezbcDuyjg8nFYbTktr5NEohszvcjpzG\n",
       "hztl3Y8E9bhbirwaZWd8hMu+VJbthqAe50qR1ig7YyUGCBTbVJXUoxrTSDLKzmixd6go5FOSelTo\n",
       "25vRKDvyQ7//XiFfE/R3G7BCt3bv2MImW5U63YJurhXsogTakVcBXijGuy0YmAlM4fNMH/GJ14Wd\n",
       "dAbAikgcZy81sHm4j1OSJdCOvAdjdcV4nwUf2z2YINJ5mIqPsuWj2zUe5togZAm0I704mFWM91Yw\n",
       "rqbwkUgduIxf7m/aEbO5NghZAu1IM1W1SzYezMXuQUnkM3ASxXhQml1WAu08JWqyj70ru+x0c3bA\n",
       "KK4nm24tIfsEzj6ssYn2SBzXU2qD+ydLoJ2nbLJ/fa09UWHujSPxohxvWfIpeGR7/WdGAqwVLXpK\n",
       "eGmuFSBKoJ2nzOMDLLvs5/0z8FOaXktegjnyPzMPXiZOKNq/ANbtmVaAKIF2nmJ0MLjPpeNwQpqe\n",
       "SK5s3yDXiH89nTyLy0fbzO3lWgGiBNoPU9yE311f4F3W3B1BgC3NgfGgFPmqO1u2pD1PmQ8iG9ZZ\n",
       "hpM1uXWRM4j8N5oirb84wfkyixKtwRT7+/YvWAxh8kJ+Bj7nHE8NzaWmuFQ85QUuSqCdpoR+28ub\n",
       "Y5XTbE5rXk9R3F9SGUUJtJMUJzbSm4fzTwV1+KGIPRxuJykWOM0u/F/8AftFwtP6vVzMAAAAAElF\n",
       "TkSuQmCC\n",
       "\" style=\"display:inline;vertical-align:middle;\" /></a></span>"
      ],
      "text/plain": [
       "|- forall_{x, y} ((y = x) = (x = y))"
      ]
     },
     "metadata": {},
     "output_type": "display_data"
    }
   ],
   "source": [
    "equals_symmetry"
   ]
  },
  {
   "cell_type": "code",
   "execution_count": 34,
   "metadata": {},
   "outputs": [
    {
     "data": {
      "text/html": [
       "<span style=\"font-size:20px;\"> <a class=\"ProveItLink\" href=\"axioms.ipynb#equals_transitivity\" style=\"text-decoration: none\">&nbsp;&#x22A2;&nbsp;&nbsp;</a><a class=\"ProveItLink\" href=\"../__pv_it/axioms/b5b3cf1e74e7e4fc2d5f197f08b661e6992950090/expr.ipynb\"><img src=\"data:image/png;base64,iVBORw0KGgoAAAANSUhEUgAAANEAAAAXBAMAAABnpbd1AAAAMFBMVEX///8AAAAAAAAAAAAAAAAA\n",
       "AAAAAAAAAAAAAAAAAAAAAAAAAAAAAAAAAAAAAAAAAAAv3aB7AAAAD3RSTlMAq1RmmUTNIjK7EInv\n",
       "3XZ/CtNrAAAACXBIWXMAAA7EAAAOxAGVKw4bAAACg0lEQVRIx61VTWgTQRT+Nrub/clPA55UKAF7\n",
       "8CIEEUSQWijaIrQEioIWNPRS8CDxoIdaSzz0UIwSKAp6kEVFwYLEIkI9yOKhCKLEg5JLYCuVooXQ\n",
       "W8WTb2Z3s3HbXRqYB7vf23mz8715780bQJxo0aYyhMqPaNMlenJMOSSCKFGPtmULwGmmTItgeh5n\n",
       "vALcZgGuiWAajjMeA5IWkMqLYLLjjGkLMkUwKSRNpThrkmg+t1qfRDApVBBm+8Cd5bDhblMrIEWV\n",
       "Nwo8ivq5FybmtYI1Z4x9jLWYfGWqeXXlNSDTjq9By0X8bPTClKFkH8cpa1/4PFt4R7GlLBpWqiiC\n",
       "KU2rVHBmF8sSFZ2+RWxOZEH0zAR82aVJOfRSWWWWBunVHlmn3qSuQeJJnD4XMGXX50b8ppLjPcUD\n",
       "Jvr368UgelC38TKUJ0zApP00SFum85st70/SzFd9VpUZRyeHAqYNqTalPCRZNJ2/OvnGwR2BMv/G\n",
       "D4AD875kI9yTEnnmvcyawyz5J+OxTurMEfzi5ptd0SsYTsWLw5NGttYBb8xfmeo48eeZrYa7wMLK\n",
       "ZtM9A5D4Ott8+CD6eUyc7jz1dXq+VJecALjc8xW9AXPcGTgaTlM9sUrxzXSqTrf57fINH93QznQx\n",
       "VVH2YpUppplbDLwRtUBV7Eozrl5u+cpsqqRgiWarWwTa1Hytw6TZbzHkn5nKZZh1Dp7cOHyhq4nu\n",
       "of0qP9//RjWPgRMlAuXpajnY0/hk23c7MfwA+gcOnpw92blxjJiLNXxb5M2yQT0lH3meXmCR6FzY\n",
       "IWbM3RPyQrUk5zyDSKZ+ldrXRRd2ylw008b/nzLUwTqDSKaJTVb1LggVTeRi/wCTbqEcktiIwgAA\n",
       "AABJRU5ErkJggg==\n",
       "\" style=\"display:inline;vertical-align:middle;\" /></a></span>"
      ],
      "text/plain": [
       "|- forall_{x, y, z | x = y, y = z} (x = z)"
      ]
     },
     "metadata": {},
     "output_type": "display_data"
    }
   ],
   "source": [
    "equals_transitivity"
   ]
  },
  {
   "cell_type": "markdown",
   "metadata": {},
   "source": [
    "`equals_reversal` is a useful theorem for applying the symmetry property of equality:"
   ]
  },
  {
   "cell_type": "code",
   "execution_count": 35,
   "metadata": {},
   "outputs": [
    {
     "data": {
      "text/html": [
       "<span style=\"font-size:20px;\"> <a class=\"ProveItLink\" href=\"proofs/equals_reversal/thm_proof.ipynb\" style=\"text-decoration: none\">&nbsp;&#x22A2;&nbsp;&nbsp;</a><a class=\"ProveItLink\" href=\"../__pv_it/theorems/6eaa0fec06de9345737f83f0a1ce382c3a3515530/expr.ipynb\"><img src=\"data:image/png;base64,iVBORw0KGgoAAAANSUhEUgAAAKEAAAAXBAMAAACR7DLtAAAAMFBMVEX///8AAAAAAAAAAAAAAAAA\n",
       "AAAAAAAAAAAAAAAAAAAAAAAAAAAAAAAAAAAAAAAAAAAv3aB7AAAAD3RSTlMAq1RmmUTNIjK7EInv\n",
       "3XZ/CtNrAAAACXBIWXMAAA7EAAAOxAGVKw4bAAACFElEQVQ4y51VTUjcUBD+stm3v1YDnqxQApVe\n",
       "2sJSCuJFBbG1lBVPPZZAD0JP22uxYM+1WA8iepAcvPiDbD30WPYiFEqlFQQvWyJsKS1FBA8rnvq9\n",
       "5ya7iUkgO/AyL/NlvsybmUyA5FLpCoqRXjMae85lyM3tJIx3495WAiblZjYBYcGKQ18Cb6myHxIw\n",
       "pktx6EMgYwNFMwFjTzxqQ+crM0nSeCcWzZDuW73+NQnjU67dCRSMQHpPb77b43FpngLWrrmNRzO+\n",
       "4Kreg35GXa5L+aHSixOnDOis2ytkjWtuMaU6BHJmGVrgkWGM2f1Aqgbk7eJMEsZ9nhAH6HH85nk8\n",
       "kirH0FNOSGHiGSEusTgfBA7kRTBGWKO8nD5u8JsUJ9A6GK+M6kEXUKdG2sI/+PMI0cQW4/vO7R77\n",
       "vLcykGFT7vbZC21GZXyySil5ALDOlTewFCj1slZDlZWRnnMsjI71HLev7+NPm7FlRCcAfJQxGuLc\n",
       "z5i62KgJxpQmKzSVkaYCBnGrM49Nz8MFgPcyosFGMxDjtDP0gPqGV+VcLSvVEb50MErj1ak9gD4q\n",
       "gGLEvHjjbuaKVhrbwLE4azMqY0tcgLlg93/CTsQomPAGyq/Pf7FgYmjEajMqY0tcgLIC/GQWQiU4\n",
       "xcxCJV8K7UcPoGxyQjdmwhnz/t+CsDXnWXiHe4CMw4lu/9/+Wx1itBrO6AFdS6V71//TzoWc8iuM\n",
       "ngAAAABJRU5ErkJggg==\n",
       "\" style=\"display:inline;vertical-align:middle;\" /></a></span>"
      ],
      "text/plain": [
       "|- forall_{x, y | x = y} (y = x)"
      ]
     },
     "metadata": {},
     "output_type": "display_data"
    }
   ],
   "source": [
    "from proveit.logic.equality import equals_reversal\n",
    "equals_reversal # y=x derives from x=y"
   ]
  },
  {
   "cell_type": "markdown",
   "metadata": {},
   "source": [
    "These three properties are applied automatically for `Equals` objects"
   ]
  },
  {
   "cell_type": "markdown",
   "metadata": {},
   "source": [
    "Reflexivity is concluded automatically:"
   ]
  },
  {
   "cell_type": "code",
   "execution_count": 36,
   "metadata": {},
   "outputs": [
    {
     "data": {
      "text/html": [
       "<span style=\"font-size:20px;\"> <a class=\"ProveItLink\" href=\"../__pv_it/demonstrations/d09072e8e6a5166bcdaa42baf2ee081375bcc38d0/proof.ipynb\" style=\"text-decoration: none\">&nbsp;&#x22A2;&nbsp;&nbsp;</a><a class=\"ProveItLink\" href=\"../__pv_it/demonstrations/ff8e8b402ec4fb29a9077ecf7f1390de30842b2c0/expr.ipynb\"><img src=\"data:image/png;base64,iVBORw0KGgoAAAANSUhEUgAAADIAAAAJBAMAAACCrGLsAAAAMFBMVEX///8AAAAAAAAAAAAAAAAA\n",
       "AAAAAAAAAAAAAAAAAAAAAAAAAAAAAAAAAAAAAAAAAAAv3aB7AAAAD3RSTlMAIquJdkTvuxBmmd1U\n",
       "zTKBpmoTAAAACXBIWXMAAA7EAAAOxAGVKw4bAAAAh0lEQVQI12NgYFR2dGBAA0ImIkAyTID9B4i3\n",
       "ejcIbAIxWRMZ6hsYODIZuDagaWmbwLCagYHrAwO3AZrMegaGzQwMbAUM/QFoMukMHF8ZGPodGOYz\n",
       "oNrD8YWB8wNQ5gCDLo8AihaOPwxMFw4ysDvw7OJCM62E4fSCBQwcKnZCfmgyTc4PVR4AAPuyJKoT\n",
       "pypsAAAAAElFTkSuQmCC\n",
       "\" style=\"display:inline;vertical-align:middle;\" /></a></span>"
      ],
      "text/plain": [
       "|- a = a"
      ]
     },
     "metadata": {},
     "output_type": "display_data"
    }
   ],
   "source": [
    "Equals(a, a).prove()"
   ]
  },
  {
   "cell_type": "code",
   "execution_count": 37,
   "metadata": {},
   "outputs": [
    {
     "data": {
      "text/html": [
       "<table><tr><th>&nbsp;</th><th>step type</th><th>requirements</th><th>statement</th></tr>\n",
       "<tr><td><a name=\"0x223cf561e67611fb_step0\">0</a></td><td>instantiation</td><td><a href=\"#0x223cf561e67611fb_step1\">1</a></td><td><span style=\"font-size:20px;\"> <a class=\"ProveItLink\" href=\"../__pv_it/demonstrations/d09072e8e6a5166bcdaa42baf2ee081375bcc38d0/proof.ipynb\" style=\"text-decoration: none\">&nbsp;&#x22A2;&nbsp;&nbsp;</a><a class=\"ProveItLink\" href=\"../__pv_it/demonstrations/ff8e8b402ec4fb29a9077ecf7f1390de30842b2c0/expr.ipynb\"><img src=\"data:image/png;base64,iVBORw0KGgoAAAANSUhEUgAAADIAAAAJBAMAAACCrGLsAAAAMFBMVEX///8AAAAAAAAAAAAAAAAA\n",
       "AAAAAAAAAAAAAAAAAAAAAAAAAAAAAAAAAAAAAAAAAAAv3aB7AAAAD3RSTlMAIquJdkTvuxBmmd1U\n",
       "zTKBpmoTAAAACXBIWXMAAA7EAAAOxAGVKw4bAAAAh0lEQVQI12NgYFR2dGBAA0ImIkAyTID9B4i3\n",
       "ejcIbAIxWRMZ6hsYODIZuDagaWmbwLCagYHrAwO3AZrMegaGzQwMbAUM/QFoMukMHF8ZGPodGOYz\n",
       "oNrD8YWB8wNQ5gCDLo8AihaOPwxMFw4ysDvw7OJCM62E4fSCBQwcKnZCfmgyTc4PVR4AAPuyJKoT\n",
       "pypsAAAAAElFTkSuQmCC\n",
       "\" style=\"display:inline;vertical-align:middle;\" /></a></span></td></tr>\n",
       "<tr><td>&nbsp;</td><td colspan=4 style=\"text-align:left\"><span style=\"font-size:20px;\"><a class=\"ProveItLink\" href=\"../../../__pv_it/common/a0d9d672aa5e272d907247690c152cc2c6daafb70/expr.ipynb\"><img src=\"data:image/png;base64,iVBORw0KGgoAAAANSUhEUgAAAAsAAAAJBAMAAAAWSsseAAAAMFBMVEX///8AAAAAAAAAAAAAAAAA\n",
       "AAAAAAAAAAAAAAAAAAAAAAAAAAAAAAAAAAAAAAAAAAAv3aB7AAAAD3RSTlMAEHarMolUmd1mIs3v\n",
       "RLtmgJDEAAAACXBIWXMAAA7EAAAOxAGVKw4bAAAAQklEQVQI12NgEFIWCU1gYChgMmJvYOBcwPmR\n",
       "eQIDCwP7BgYQ4FEAU/cXMAowyF2wYWBlYMh3rGG4xsAgrsRWmcAAAFEjCyBvD0T9AAAAAElFTkSu\n",
       "QmCC\n",
       "\" style=\"display:inline;vertical-align:middle;\" /></a> : <a class=\"ProveItLink\" href=\"../../../__pv_it/common/c06c606ec12678c58933ac85412ecadc2ae28be60/expr.ipynb\"><img src=\"data:image/png;base64,iVBORw0KGgoAAAANSUhEUgAAAAsAAAAJBAMAAAAWSsseAAAAMFBMVEX///8AAAAAAAAAAAAAAAAA\n",
       "AAAAAAAAAAAAAAAAAAAAAAAAAAAAAAAAAAAAAAAAAAAv3aB7AAAAD3RSTlMAIquJdkTvuxBmmd1U\n",
       "zTKBpmoTAAAACXBIWXMAAA7EAAAOxAGVKw4bAAAARUlEQVQI12NgYFR2dGBgYAgTYP/BwMCRycC1\n",
       "gYGB6wMDtwEDA1sBQ38AA0O/A8N8oIr+Awy6PAIM7A48u7iAKlXshPwYAE2lCqdX0eXEAAAAAElF\n",
       "TkSuQmCC\n",
       "\" style=\"display:inline;vertical-align:middle;\" /></a></span></td></tr><tr><td><a name=\"0x223cf561e67611fb_step1\">1</a></td><td>axiom</td><td></td><td><span style=\"font-size:20px;\"> <a class=\"ProveItLink\" href=\"axioms.ipynb#equals_reflexivity\" style=\"text-decoration: none\">&nbsp;&#x22A2;&nbsp;&nbsp;</a><a class=\"ProveItLink\" href=\"../__pv_it/axioms/864f59d0e02493d4a93bdd8b5654226c327952290/expr.ipynb\"><img src=\"data:image/png;base64,iVBORw0KGgoAAAANSUhEUgAAAGIAAAAVBAMAAABPrCZEAAAAMFBMVEX///8AAAAAAAAAAAAAAAAA\n",
       "AAAAAAAAAAAAAAAAAAAAAAAAAAAAAAAAAAAAAAAAAAAv3aB7AAAAD3RSTlMAq1RmmUTNIjK7EInv\n",
       "3XZ/CtNrAAAACXBIWXMAAA7EAAAOxAGVKw4bAAABTklEQVQ4y2NgwAQFDDgBO1ZRPgXcOlgfMDAI\n",
       "gBjKyKLaDHjAYwYGVxCdjiTGlYBPB9sChkaQ6yYgibEY4NPB7ADSxMCN7HIeBrzgFAMz0Eg2ZCE1\n",
       "/DqSGRjO3r17GlnIG4jXPVyxGz3EoGIbGRg8GBhmoRnC4MAnx3IB5Ke7YAAOT6iYGQNDIQO7ALKO\n",
       "S0DvFTD/YkQLAJiYDgMD5wLuAGSpowwMHAwsGEEME+tnYGB6gOJxkA5ggD3A9DNELAaIE+yAxDv3\n",
       "JwVwVzEwxBdwLUDzB1RMF8jalAVMSwWSbNDAmcfAsDJAhoEbzQaYmCUQ1wCNYGaYxwGVAgaffpcP\n",
       "QxCaDpgYKPAZG0Ai32FSvQwMS94xOaNHB0zsKjwoDsCSPm8DvihnvwBl1HAnsCDSGh4AT6csT/e9\n",
       "gglOx6ejEpvgSnw6sBrH/gC3Br4CBgBNaE7Uk29NoAAAAABJRU5ErkJggg==\n",
       "\" style=\"display:inline;vertical-align:middle;\" /></a></span></td></tr>\n",
       "<tr><td>&nbsp;</td><td colspan=4 style-\"text-align:left\"><a class=\"ProveItLink\" href=\"axioms.ipynb#equals_reflexivity\">proveit.logic.equality.equals_reflexivity</a></td></tr></table>"
      ],
      "text/plain": [
       "\tstep type\trequirements\tstatement\n",
       "0\tinstantiation\t1\t|- a = a\n",
       "\tx : a\n",
       "1\taxiom\t\t|- forall_{x} (x = x)\n",
       "\tproveit.logic.equality.equals_reflexivity"
      ]
     },
     "metadata": {},
     "output_type": "display_data"
    }
   ],
   "source": [
    "Equals(a, a).prove().proof()"
   ]
  },
  {
   "cell_type": "markdown",
   "metadata": {},
   "source": [
    "Symmetric statements are derived as side-effects.  Note that the `Judgment.derive_side_effects` method employs a mechanism to prevent infinite recursion or this would not be possible (it would continually go back and forth, proving $y=x$ from $x=y$ then $x=y$ from $y=x$, ad infinitum)"
   ]
  },
  {
   "cell_type": "code",
   "execution_count": 38,
   "metadata": {},
   "outputs": [
    {
     "data": {
      "text/html": [
       "<strong id=\"a_eq_b\">a_eq_b:</strong> <a class=\"ProveItLink\" href=\"../__pv_it/demonstrations/b535636afc1aade6d0e2f6f1b6f236ea734bac520/expr.ipynb\"><img src=\"data:image/png;base64,iVBORw0KGgoAAAANSUhEUgAAADAAAAAOBAMAAACbXIJpAAAAMFBMVEX///8AAAAAAAAAAAAAAAAA\n",
       "AAAAAAAAAAAAAAAAAAAAAAAAAAAAAAAAAAAAAAAAAAAv3aB7AAAAD3RSTlMAIquJdkTvuxBmmd1U\n",
       "zTKBpmoTAAAACXBIWXMAAA7EAAAOxAGVKw4bAAAAkklEQVQY02NgwALasxlwgFu4JP7gEGf9gUOC\n",
       "eQOIZFR2dECT4FVxOsDAECbADta5ejcIbAIx+29wfGTgyGTg2oCm43wDQwoD1wcGbgM0ibUMDJ8Z\n",
       "2AoY+gPQJDYzsP5h6HdgmM+AZscfBq4fDP0HGHR5BFB1/GNom8DA7sCziwvNKE2GKgYGDhU7IT80\n",
       "iSarCQwAeCknwpP1M+UAAAAASUVORK5CYII=\n",
       "\" style=\"display:inline;vertical-align:middle;\" /></a><br>"
      ],
      "text/plain": [
       "<IPython.core.display.HTML object>"
      ]
     },
     "metadata": {},
     "output_type": "display_data"
    }
   ],
   "source": [
    "a_eq_b = Equals(a, b)"
   ]
  },
  {
   "cell_type": "code",
   "execution_count": 39,
   "metadata": {},
   "outputs": [
    {
     "data": {
      "text/html": [
       "<span style=\"font-size:20px;\"><a class=\"ProveItLink\" href=\"../__pv_it/demonstrations/b535636afc1aade6d0e2f6f1b6f236ea734bac520/expr.ipynb\"><img src=\"data:image/png;base64,iVBORw0KGgoAAAANSUhEUgAAADAAAAAOBAMAAACbXIJpAAAAMFBMVEX///8AAAAAAAAAAAAAAAAA\n",
       "AAAAAAAAAAAAAAAAAAAAAAAAAAAAAAAAAAAAAAAAAAAv3aB7AAAAD3RSTlMAIquJdkTvuxBmmd1U\n",
       "zTKBpmoTAAAACXBIWXMAAA7EAAAOxAGVKw4bAAAAkklEQVQY02NgwALasxlwgFu4JP7gEGf9gUOC\n",
       "eQOIZFR2dECT4FVxOsDAECbADta5ejcIbAIx+29wfGTgyGTg2oCm43wDQwoD1wcGbgM0ibUMDJ8Z\n",
       "2AoY+gPQJDYzsP5h6HdgmM+AZscfBq4fDP0HGHR5BFB1/GNom8DA7sCziwvNKE2GKgYGDhU7IT80\n",
       "iSarCQwAeCknwpP1M+UAAAAASUVORK5CYII=\n",
       "\" style=\"display:inline;vertical-align:middle;\" /></a> <a class=\"ProveItLink\" href=\"../__pv_it/demonstrations/f4efe1bf437175a115ad594d4750e7a4fed19ed10/proof.ipynb\" style=\"text-decoration: none\">&nbsp;&#x22A2;&nbsp;&nbsp;</a><a class=\"ProveItLink\" href=\"../__pv_it/demonstrations/5355de1b1fdac950d8b8692596e47da6d50285d70/expr.ipynb\"><img src=\"data:image/png;base64,iVBORw0KGgoAAAANSUhEUgAAADAAAAAOBAMAAACbXIJpAAAAMFBMVEX///8AAAAAAAAAAAAAAAAA\n",
       "AAAAAAAAAAAAAAAAAAAAAAAAAAAAAAAAAAAAAAAAAAAv3aB7AAAAD3RSTlMAELvv3c2ZVESJq3Yi\n",
       "MmZ3LnoBAAAACXBIWXMAAA7EAAAOxAGVKw4bAAAAk0lEQVQY02NgVHZgwA5YE3BI8BfgkOgXwCEx\n",
       "BYc4Q9Tu5ehCp2afZmBg/CogfwDISXEBAS+QOIcNg74AA/tHBuYNqBqEHzCkMDCwBTDwT0CVyGdg\n",
       "8GRgYJnA0I/mYCMGxh9gb+QLoNjB+JuB7wNQ4gKjHaoGxu8MXAE1DFwPmNDDRJuhJCGBgXFlHro3\n",
       "pHbeWX0BAEjlIRLMgjHbAAAAAElFTkSuQmCC\n",
       "\" style=\"display:inline;vertical-align:middle;\" /></a></span>"
      ],
      "text/plain": [
       "{a = b} |- b = a"
      ]
     },
     "metadata": {},
     "output_type": "display_data"
    }
   ],
   "source": [
    "Equals(b, a).prove(assumptions=[a_eq_b])"
   ]
  },
  {
   "cell_type": "markdown",
   "metadata": {},
   "source": [
    "The reversed form may also be derived explicitly via `derive_reversed`.  The proof is the same."
   ]
  },
  {
   "cell_type": "code",
   "execution_count": 40,
   "metadata": {},
   "outputs": [
    {
     "data": {
      "text/html": [
       "<span style=\"font-size:20px;\"><a class=\"ProveItLink\" href=\"../__pv_it/demonstrations/b535636afc1aade6d0e2f6f1b6f236ea734bac520/expr.ipynb\"><img src=\"data:image/png;base64,iVBORw0KGgoAAAANSUhEUgAAADAAAAAOBAMAAACbXIJpAAAAMFBMVEX///8AAAAAAAAAAAAAAAAA\n",
       "AAAAAAAAAAAAAAAAAAAAAAAAAAAAAAAAAAAAAAAAAAAv3aB7AAAAD3RSTlMAIquJdkTvuxBmmd1U\n",
       "zTKBpmoTAAAACXBIWXMAAA7EAAAOxAGVKw4bAAAAkklEQVQY02NgwALasxlwgFu4JP7gEGf9gUOC\n",
       "eQOIZFR2dECT4FVxOsDAECbADta5ejcIbAIx+29wfGTgyGTg2oCm43wDQwoD1wcGbgM0ibUMDJ8Z\n",
       "2AoY+gPQJDYzsP5h6HdgmM+AZscfBq4fDP0HGHR5BFB1/GNom8DA7sCziwvNKE2GKgYGDhU7IT80\n",
       "iSarCQwAeCknwpP1M+UAAAAASUVORK5CYII=\n",
       "\" style=\"display:inline;vertical-align:middle;\" /></a> <a class=\"ProveItLink\" href=\"../__pv_it/demonstrations/f4efe1bf437175a115ad594d4750e7a4fed19ed10/proof.ipynb\" style=\"text-decoration: none\">&nbsp;&#x22A2;&nbsp;&nbsp;</a><a class=\"ProveItLink\" href=\"../__pv_it/demonstrations/5355de1b1fdac950d8b8692596e47da6d50285d70/expr.ipynb\"><img src=\"data:image/png;base64,iVBORw0KGgoAAAANSUhEUgAAADAAAAAOBAMAAACbXIJpAAAAMFBMVEX///8AAAAAAAAAAAAAAAAA\n",
       "AAAAAAAAAAAAAAAAAAAAAAAAAAAAAAAAAAAAAAAAAAAv3aB7AAAAD3RSTlMAELvv3c2ZVESJq3Yi\n",
       "MmZ3LnoBAAAACXBIWXMAAA7EAAAOxAGVKw4bAAAAk0lEQVQY02NgVHZgwA5YE3BI8BfgkOgXwCEx\n",
       "BYc4Q9Tu5ehCp2afZmBg/CogfwDISXEBAS+QOIcNg74AA/tHBuYNqBqEHzCkMDCwBTDwT0CVyGdg\n",
       "8GRgYJnA0I/mYCMGxh9gb+QLoNjB+JuB7wNQ4gKjHaoGxu8MXAE1DFwPmNDDRJuhJCGBgXFlHro3\n",
       "pHbeWX0BAEjlIRLMgjHbAAAAAElFTkSuQmCC\n",
       "\" style=\"display:inline;vertical-align:middle;\" /></a></span>"
      ],
      "text/plain": [
       "{a = b} |- b = a"
      ]
     },
     "metadata": {},
     "output_type": "display_data"
    }
   ],
   "source": [
    "a_eq_b.prove(assumptions=[a_eq_b]).derive_reversed()"
   ]
  },
  {
   "cell_type": "markdown",
   "metadata": {},
   "source": [
    "Transitivity derivations are attempted with automation via the `conclude_via_transitivity` method from the `TransitiveRelation` superclass of `Equals`.  This performs a breadth-first, bidirectional search (meeting in the middle from both ends) over the space of **Judgment** objects representing equality and using appropriate assumptions.  This is therefore reasonably efficient.  Efficiency should not really be an issue, anyways, as long as proofs for each theorem are relatively small.  A long proof should be broken up into several smaller proofs for lemma-like theorems.  In that case (in the setting of small proofs), the space of **Judgment**s will be small and this search algorithm will have ample efficiency. "
   ]
  },
  {
   "cell_type": "code",
   "execution_count": 41,
   "metadata": {},
   "outputs": [
    {
     "data": {
      "text/html": [
       "<strong id=\"c_eq_b\">c_eq_b:</strong> <a class=\"ProveItLink\" href=\"../__pv_it/demonstrations/2b11546f8bba5dc968e1d3cfcd225d2c0852b0b40/expr.ipynb\"><img src=\"data:image/png;base64,iVBORw0KGgoAAAANSUhEUgAAAC4AAAAOBAMAAACiOzMyAAAAMFBMVEX///8AAAAAAAAAAAAAAAAA\n",
       "AAAAAAAAAAAAAAAAAAAAAAAAAAAAAAAAAAAAAAAAAAAv3aB7AAAAD3RSTlMAiXZmMiLdVJm77xBE\n",
       "q833A+o+AAAACXBIWXMAAA7EAAAOxAGVKw4bAAAAg0lEQVQY02NgwAQ7lzFgBy9wiH/HLszzG7s4\n",
       "YwKYElJ2QBXnu6RbwMAQVsAxAchpSwOBXJD4/tfcXxkYEhm4FFDV129gWMTAgWlJHwPDRwauCRji\n",
       "iQw83xn2Qw1BMv87yBB+AwaGA6jqvzDsMmAAOoYRzZ2XGWYASUFjbTTz90oYMAAAtykgzTbON9cA\n",
       "AAAASUVORK5CYII=\n",
       "\" style=\"display:inline;vertical-align:middle;\" /></a><br>"
      ],
      "text/plain": [
       "<IPython.core.display.HTML object>"
      ]
     },
     "metadata": {},
     "output_type": "display_data"
    }
   ],
   "source": [
    "# We'll make this interesting by reversing some of the equations in the chain.\n",
    "c_eq_b = Equals(c, b) "
   ]
  },
  {
   "cell_type": "code",
   "execution_count": 42,
   "metadata": {},
   "outputs": [
    {
     "data": {
      "text/html": [
       "<strong id=\"d_eq_c\">d_eq_c:</strong> <a class=\"ProveItLink\" href=\"../__pv_it/demonstrations/eea30b76712930e114fd9c53f32ba1625412c2010/expr.ipynb\"><img src=\"data:image/png;base64,iVBORw0KGgoAAAANSUhEUgAAAC8AAAAOBAMAAABN+VgMAAAAMFBMVEX///8AAAAAAAAAAAAAAAAA\n",
       "AAAAAAAAAAAAAAAAAAAAAAAAAAAAAAAAAAAAAAAAAAAv3aB7AAAAD3RSTlMAMs3vmVREEIndIqt2\n",
       "u2aBbGR5AAAACXBIWXMAAA7EAAAOxAGVKw4bAAAAkElEQVQY02NgYGBgVHZgwA74A3BI5BfgkOjE\n",
       "Ic6gglWUa8fBr+hiPecEGBiSF/B+B3E8Z4LAbBBzZQDLBQZ2OwYWBTQNMxiYDzCwfGDgbEAVZwGb\n",
       "wHyBoT4BVQIoBAT1BxjeM6DaARQCkQEMm1gXoAbEAwaGBAbeA6xTWNDsuMDAIcDAvqdx9UE0V3W8\n",
       "O84AACqyJq6ylDSsAAAAAElFTkSuQmCC\n",
       "\" style=\"display:inline;vertical-align:middle;\" /></a><br>"
      ],
      "text/plain": [
       "<IPython.core.display.HTML object>"
      ]
     },
     "metadata": {},
     "output_type": "display_data"
    }
   ],
   "source": [
    "d_eq_c = Equals(d, c)"
   ]
  },
  {
   "cell_type": "code",
   "execution_count": 43,
   "metadata": {},
   "outputs": [
    {
     "data": {
      "text/html": [
       "<strong id=\"d_eq_z\">d_eq_z:</strong> <a class=\"ProveItLink\" href=\"../__pv_it/demonstrations/36c4401c1be91cc2518a4a45dfb8fffde1c2891a0/expr.ipynb\"><img src=\"data:image/png;base64,iVBORw0KGgoAAAANSUhEUgAAADEAAAAOBAMAAAB0nulXAAAAMFBMVEX///8AAAAAAAAAAAAAAAAA\n",
       "AAAAAAAAAAAAAAAAAAAAAAAAAAAAAAAAAAAAAAAAAAAv3aB7AAAAD3RSTlMAMs3vmVREEIndIqt2\n",
       "u2aBbGR5AAAACXBIWXMAAA7EAAAOxAGVKw4bAAAAlElEQVQY02NgYGBgVHZgwAH4A3DJ5BfgkunE\n",
       "JcGggl2Ya8fBr+hikhO5HjAwJC/g/Q7iec4EgdkgJrtObzeQtGNgUUA3poChnYGB5QMDZwOGFRVA\n",
       "1zJfYKhPwLD7AJCoP8DwngHNHoY8BnagTADDJtYFqFpYAxi4GRh4D7BOYUEzTLb3xESg2/Y0rj6I\n",
       "JtPAapTAAAAaBCQYIm0RBQAAAABJRU5ErkJggg==\n",
       "\" style=\"display:inline;vertical-align:middle;\" /></a><br>"
      ],
      "text/plain": [
       "<IPython.core.display.HTML object>"
      ]
     },
     "metadata": {},
     "output_type": "display_data"
    }
   ],
   "source": [
    "d_eq_z = Equals(d, z)"
   ]
  },
  {
   "cell_type": "code",
   "execution_count": 44,
   "metadata": {},
   "outputs": [
    {
     "data": {
      "text/html": [
       "<strong id=\"a_eq_z\">a_eq_z:</strong> <span style=\"font-size:20px;\"><a class=\"ProveItLink\" href=\"../__pv_it/demonstrations/b535636afc1aade6d0e2f6f1b6f236ea734bac520/expr.ipynb\"><img src=\"data:image/png;base64,iVBORw0KGgoAAAANSUhEUgAAADAAAAAOBAMAAACbXIJpAAAAMFBMVEX///8AAAAAAAAAAAAAAAAA\n",
       "AAAAAAAAAAAAAAAAAAAAAAAAAAAAAAAAAAAAAAAAAAAv3aB7AAAAD3RSTlMAIquJdkTvuxBmmd1U\n",
       "zTKBpmoTAAAACXBIWXMAAA7EAAAOxAGVKw4bAAAAkklEQVQY02NgwALasxlwgFu4JP7gEGf9gUOC\n",
       "eQOIZFR2dECT4FVxOsDAECbADta5ejcIbAIx+29wfGTgyGTg2oCm43wDQwoD1wcGbgM0ibUMDJ8Z\n",
       "2AoY+gPQJDYzsP5h6HdgmM+AZscfBq4fDP0HGHR5BFB1/GNom8DA7sCziwvNKE2GKgYGDhU7IT80\n",
       "iSarCQwAeCknwpP1M+UAAAAASUVORK5CYII=\n",
       "\" style=\"display:inline;vertical-align:middle;\" /></a>, <a class=\"ProveItLink\" href=\"../__pv_it/demonstrations/2b11546f8bba5dc968e1d3cfcd225d2c0852b0b40/expr.ipynb\"><img src=\"data:image/png;base64,iVBORw0KGgoAAAANSUhEUgAAAC4AAAAOBAMAAACiOzMyAAAAMFBMVEX///8AAAAAAAAAAAAAAAAA\n",
       "AAAAAAAAAAAAAAAAAAAAAAAAAAAAAAAAAAAAAAAAAAAv3aB7AAAAD3RSTlMAiXZmMiLdVJm77xBE\n",
       "q833A+o+AAAACXBIWXMAAA7EAAAOxAGVKw4bAAAAg0lEQVQY02NgwAQ7lzFgBy9wiH/HLszzG7s4\n",
       "YwKYElJ2QBXnu6RbwMAQVsAxAchpSwOBXJD4/tfcXxkYEhm4FFDV129gWMTAgWlJHwPDRwauCRji\n",
       "iQw83xn2Qw1BMv87yBB+AwaGA6jqvzDsMmAAOoYRzZ2XGWYASUFjbTTz90oYMAAAtykgzTbON9cA\n",
       "AAAASUVORK5CYII=\n",
       "\" style=\"display:inline;vertical-align:middle;\" /></a>, <a class=\"ProveItLink\" href=\"../__pv_it/demonstrations/eea30b76712930e114fd9c53f32ba1625412c2010/expr.ipynb\"><img src=\"data:image/png;base64,iVBORw0KGgoAAAANSUhEUgAAAC8AAAAOBAMAAABN+VgMAAAAMFBMVEX///8AAAAAAAAAAAAAAAAA\n",
       "AAAAAAAAAAAAAAAAAAAAAAAAAAAAAAAAAAAAAAAAAAAv3aB7AAAAD3RSTlMAMs3vmVREEIndIqt2\n",
       "u2aBbGR5AAAACXBIWXMAAA7EAAAOxAGVKw4bAAAAkElEQVQY02NgYGBgVHZgwA74A3BI5BfgkOjE\n",
       "Ic6gglWUa8fBr+hiPecEGBiSF/B+B3E8Z4LAbBBzZQDLBQZ2OwYWBTQNMxiYDzCwfGDgbEAVZwGb\n",
       "wHyBoT4BVQIoBAT1BxjeM6DaARQCkQEMm1gXoAbEAwaGBAbeA6xTWNDsuMDAIcDAvqdx9UE0V3W8\n",
       "O84AACqyJq6ylDSsAAAAAElFTkSuQmCC\n",
       "\" style=\"display:inline;vertical-align:middle;\" /></a>, <a class=\"ProveItLink\" href=\"../__pv_it/demonstrations/36c4401c1be91cc2518a4a45dfb8fffde1c2891a0/expr.ipynb\"><img src=\"data:image/png;base64,iVBORw0KGgoAAAANSUhEUgAAADEAAAAOBAMAAAB0nulXAAAAMFBMVEX///8AAAAAAAAAAAAAAAAA\n",
       "AAAAAAAAAAAAAAAAAAAAAAAAAAAAAAAAAAAAAAAAAAAv3aB7AAAAD3RSTlMAMs3vmVREEIndIqt2\n",
       "u2aBbGR5AAAACXBIWXMAAA7EAAAOxAGVKw4bAAAAlElEQVQY02NgYGBgVHZgwAH4A3DJ5BfgkunE\n",
       "JcGggl2Ya8fBr+hikhO5HjAwJC/g/Q7iec4EgdkgJrtObzeQtGNgUUA3poChnYGB5QMDZwOGFRVA\n",
       "1zJfYKhPwLD7AJCoP8DwngHNHoY8BnagTADDJtYFqFpYAxi4GRh4D7BOYUEzTLb3xESg2/Y0rj6I\n",
       "JtPAapTAAAAaBCQYIm0RBQAAAABJRU5ErkJggg==\n",
       "\" style=\"display:inline;vertical-align:middle;\" /></a> <a class=\"ProveItLink\" href=\"../__pv_it/demonstrations/6e24f45830b54a3669a2fb161875c0d4eaed15370/proof.ipynb\" style=\"text-decoration: none\">&nbsp;&#x22A2;&nbsp;&nbsp;</a><a class=\"ProveItLink\" href=\"../__pv_it/demonstrations/a1e7874f04c6bc5708474647e07eb98bca92157b0/expr.ipynb\"><img src=\"data:image/png;base64,iVBORw0KGgoAAAANSUhEUgAAADEAAAAJBAMAAABpm9nvAAAAMFBMVEX///8AAAAAAAAAAAAAAAAA\n",
       "AAAAAAAAAAAAAAAAAAAAAAAAAAAAAAAAAAAAAAAAAAAv3aB7AAAAD3RSTlMAIquJdkTvuxBmmd1U\n",
       "zTKBpmoTAAAACXBIWXMAAA7EAAAOxAGVKw4bAAAAf0lEQVQI12NgYFR2dGBAA6/3MU5gYAgTYP8B\n",
       "4q3eDQKbQEyOK+ZGQDKTgWsDmhbGBgYLBgauDwzcBuimMTQ3MDCwFTD0B6BLMIJs7ndgmM+AZg9D\n",
       "JAMHUOYAgy6PAKoWngMMTAwM7A48u7jQDHtu7rwP6DYVOyE/NBkDntwABgAygR5yEvIQnwAAAABJ\n",
       "RU5ErkJggg==\n",
       "\" style=\"display:inline;vertical-align:middle;\" /></a></span><br>"
      ],
      "text/plain": [
       "<IPython.core.display.HTML object>"
      ]
     },
     "metadata": {},
     "output_type": "display_data"
    }
   ],
   "source": [
    "a_eq_z = Equals(a, z).conclude_via_transitivity(assumptions=[a_eq_b, c_eq_b, d_eq_c, d_eq_z])"
   ]
  },
  {
   "cell_type": "markdown",
   "metadata": {},
   "source": [
    "The `apply_transivity` method applies the transitivity relation explicity. "
   ]
  },
  {
   "cell_type": "code",
   "execution_count": 45,
   "metadata": {},
   "outputs": [
    {
     "data": {
      "text/html": [
       "<span style=\"font-size:20px;\"><a class=\"ProveItLink\" href=\"../__pv_it/demonstrations/b535636afc1aade6d0e2f6f1b6f236ea734bac520/expr.ipynb\"><img src=\"data:image/png;base64,iVBORw0KGgoAAAANSUhEUgAAADAAAAAOBAMAAACbXIJpAAAAMFBMVEX///8AAAAAAAAAAAAAAAAA\n",
       "AAAAAAAAAAAAAAAAAAAAAAAAAAAAAAAAAAAAAAAAAAAv3aB7AAAAD3RSTlMAIquJdkTvuxBmmd1U\n",
       "zTKBpmoTAAAACXBIWXMAAA7EAAAOxAGVKw4bAAAAkklEQVQY02NgwALasxlwgFu4JP7gEGf9gUOC\n",
       "eQOIZFR2dECT4FVxOsDAECbADta5ejcIbAIx+29wfGTgyGTg2oCm43wDQwoD1wcGbgM0ibUMDJ8Z\n",
       "2AoY+gPQJDYzsP5h6HdgmM+AZscfBq4fDP0HGHR5BFB1/GNom8DA7sCziwvNKE2GKgYGDhU7IT80\n",
       "iSarCQwAeCknwpP1M+UAAAAASUVORK5CYII=\n",
       "\" style=\"display:inline;vertical-align:middle;\" /></a>, <a class=\"ProveItLink\" href=\"../__pv_it/demonstrations/2b11546f8bba5dc968e1d3cfcd225d2c0852b0b40/expr.ipynb\"><img src=\"data:image/png;base64,iVBORw0KGgoAAAANSUhEUgAAAC4AAAAOBAMAAACiOzMyAAAAMFBMVEX///8AAAAAAAAAAAAAAAAA\n",
       "AAAAAAAAAAAAAAAAAAAAAAAAAAAAAAAAAAAAAAAAAAAv3aB7AAAAD3RSTlMAiXZmMiLdVJm77xBE\n",
       "q833A+o+AAAACXBIWXMAAA7EAAAOxAGVKw4bAAAAg0lEQVQY02NgwAQ7lzFgBy9wiH/HLszzG7s4\n",
       "YwKYElJ2QBXnu6RbwMAQVsAxAchpSwOBXJD4/tfcXxkYEhm4FFDV129gWMTAgWlJHwPDRwauCRji\n",
       "iQw83xn2Qw1BMv87yBB+AwaGA6jqvzDsMmAAOoYRzZ2XGWYASUFjbTTz90oYMAAAtykgzTbON9cA\n",
       "AAAASUVORK5CYII=\n",
       "\" style=\"display:inline;vertical-align:middle;\" /></a> <a class=\"ProveItLink\" href=\"../__pv_it/demonstrations/5af2b39bfbde58e7ff03aa329844d817dbf2501e0/proof.ipynb\" style=\"text-decoration: none\">&nbsp;&#x22A2;&nbsp;&nbsp;</a><a class=\"ProveItLink\" href=\"../__pv_it/demonstrations/cc44545fcfbd9a7b95e18479c62e4d44cf4986540/expr.ipynb\"><img src=\"data:image/png;base64,iVBORw0KGgoAAAANSUhEUgAAADAAAAAJBAMAAACGWbLRAAAAMFBMVEX///8AAAAAAAAAAAAAAAAA\n",
       "AAAAAAAAAAAAAAAAAAAAAAAAAAAAAAAAAAAAAAAAAAAv3aB7AAAAD3RSTlMAIquJdkTvuxBmmd1U\n",
       "zTKBpmoTAAAACXBIWXMAAA7EAAAOxAGVKw4bAAAAdUlEQVQI12NgYFR2dGBAA8wu8xgYwgTYf4A4\n",
       "q3eDwCYQk3EPw3IGjkwGrg1oGrgNGFIYuD6AaFSwvgFIsBUw9AegSaSDiH4HhvkMqHZwfAFLHGDQ\n",
       "5RFA1fGTgYGVgd2BZxcXmlHLGRjsGDhU7IT80L1hOaUBAMe1HVzDghFfAAAAAElFTkSuQmCC\n",
       "\" style=\"display:inline;vertical-align:middle;\" /></a></span>"
      ],
      "text/plain": [
       "{a = b, c = b} |- a = c"
      ]
     },
     "metadata": {},
     "output_type": "display_data"
    }
   ],
   "source": [
    "a_eq_b.prove(assumptions=[a_eq_b]).apply_transitivity(c_eq_b, assumptions=[c_eq_b])"
   ]
  },
  {
   "cell_type": "markdown",
   "metadata": {},
   "source": [
    "## Evaluation\n",
    "\n",
    "An evaluation is an equality in which the right hand side is an irreducible value (specifically, an instance of `proveit.logic.irreducible_value.IrreducibleValue`, aliased as `proveit.logic.IrreducibleValue`).  An irreducible value represents a mathematical object in its simplest form.  It cannot be reduced.  The evaluation of an `IrreducibleValue` is itself.  When an evaluation is proven, the associated **Judgment** is stored for future reference in `Equals.evaluations` for making other evaluations."
   ]
  },
  {
   "cell_type": "markdown",
   "metadata": {},
   "source": [
    "`TRUE` ($\\top$) and `FALSE` ($\\bot$) are both `IrreducibleValue`s:"
   ]
  },
  {
   "cell_type": "code",
   "execution_count": 46,
   "metadata": {},
   "outputs": [],
   "source": [
    "from proveit.logic import TRUE, FALSE, IrreducibleValue"
   ]
  },
  {
   "cell_type": "code",
   "execution_count": 47,
   "metadata": {},
   "outputs": [
    {
     "data": {
      "text/plain": [
       "True"
      ]
     },
     "metadata": {},
     "output_type": "display_data"
    }
   ],
   "source": [
    "isinstance(TRUE, IrreducibleValue)"
   ]
  },
  {
   "cell_type": "code",
   "execution_count": 48,
   "metadata": {},
   "outputs": [
    {
     "data": {
      "text/plain": [
       "True"
      ]
     },
     "metadata": {},
     "output_type": "display_data"
    }
   ],
   "source": [
    "isinstance(FALSE, IrreducibleValue)"
   ]
  },
  {
   "cell_type": "code",
   "execution_count": 49,
   "metadata": {},
   "outputs": [
    {
     "data": {
      "text/html": [
       "<span style=\"font-size:20px;\"> <a class=\"ProveItLink\" href=\"../../booleans/_theory_nbs_/proofs/true_eq_true/thm_proof.ipynb\" style=\"text-decoration: none\">&nbsp;&#x22A2;&nbsp;&nbsp;</a><a class=\"ProveItLink\" href=\"../../booleans/__pv_it/theorems/a3c4d9088d0ab0d98fc5c16af22cc7989fca846c0/expr.ipynb\"><img src=\"data:image/png;base64,iVBORw0KGgoAAAANSUhEUgAAADoAAAAOBAMAAACMfhKgAAAAG1BMVEX///8AAAAAAAAAAAAAAAAA\n",
       "AAAAAAAAAAAAAAB4Gco9AAAACHRSTlMAmd2rVHZEZkA3AkMAAAAJcEhZcwAADsQAAA7EAZUrDhsA\n",
       "AAAlSURBVBjTYxBSAgFlBlSAJOrKgA24otEDJYvq/KFsbzpWWZAoADztCsNxuhVlAAAAAElFTkSu\n",
       "QmCC\n",
       "\" style=\"display:inline;vertical-align:middle;\" /></a></span>"
      ],
      "text/plain": [
       "|- TRUE = TRUE"
      ]
     },
     "metadata": {},
     "output_type": "display_data"
    }
   ],
   "source": [
    "TRUE.evaluation()"
   ]
  },
  {
   "cell_type": "markdown",
   "metadata": {},
   "source": [
    "An `IrreducibleValue` should implement the `eval_equality` and `deduce_not_equal` methods to prove equality relations with other `IrreducibleValue`s as appropriate."
   ]
  },
  {
   "cell_type": "code",
   "execution_count": 50,
   "metadata": {},
   "outputs": [
    {
     "data": {
      "text/html": [
       "<span style=\"font-size:20px;\"><a class=\"ProveItLink\" href=\"../__pv_it/demonstrations/5cc54f141aed142dbffa8fd7a4d3d1915e35d5520/expr.ipynb\"><img src=\"data:image/png;base64,iVBORw0KGgoAAAANSUhEUgAAADoAAAAPBAMAAABHIsEFAAAAHlBMVEX///8AAAAAAAAAAAAAAAAA\n",
       "AAAAAAAAAAAAAAAAAACGjDitAAAACXRSTlMARGZUdpnd76sKo+zpAAAACXBIWXMAAA7EAAAOxAGV\n",
       "Kw4bAAAAKklEQVQY02NgIASEMIXC0kAgA8Q0warHBI0eKFkkhw5le4HGlSOMQ4sbACNoEAa2LYy0\n",
       "AAAAAElFTkSuQmCC\n",
       "\" style=\"display:inline;vertical-align:middle;\" /></a> <a class=\"ProveItLink\" href=\"../__pv_it/demonstrations/103f6a0bffd2f1d4a9b77baa1adddd46937707140/proof.ipynb\" style=\"text-decoration: none\">&nbsp;&#x22A2;&nbsp;&nbsp;</a><a class=\"ProveItLink\" href=\"../../booleans/__pv_it/common/e0f123f2e4f322e1eba7f861749cda9fd9d99a120/expr.ipynb\"><img src=\"data:image/png;base64,iVBORw0KGgoAAAANSUhEUgAAAA4AAAAPBAMAAAAmOuNHAAAAHlBMVEX///8AAAAAAAAAAAAAAAAA\n",
       "AAAAAAAAAAAAAAAAAACGjDitAAAACXRSTlMARGZUdpnd76sKo+zpAAAACXBIWXMAAA7EAAAOxAGV\n",
       "Kw4bAAAAGElEQVQI12NgQAAhKG1CSzosLa08LS0DAJuOBVCdynDUAAAAAElFTkSuQmCC\n",
       "\" style=\"display:inline;vertical-align:middle;\" /></a></span>"
      ],
      "text/plain": [
       "{FALSE = TRUE} |- FALSE"
      ]
     },
     "metadata": {},
     "output_type": "display_data"
    }
   ],
   "source": [
    "Equals(Equals(FALSE, TRUE), FALSE).derive_contradiction(\n",
    "    assumptions=[Equals(FALSE, TRUE)])"
   ]
  },
  {
   "cell_type": "code",
   "execution_count": 51,
   "metadata": {},
   "outputs": [
    {
     "data": {
      "text/html": [
       "<span style=\"font-size:20px;\"> <a class=\"ProveItLink\" href=\"../__pv_it/demonstrations/f64222df797ded95425a71a80ee3c6d624b5c37d0/proof.ipynb\" style=\"text-decoration: none\">&nbsp;&#x22A2;&nbsp;&nbsp;</a><a class=\"ProveItLink\" href=\"../__pv_it/demonstrations/80db65afae7228975d1b3ebbc89ee86736427cdb0/expr.ipynb\"><img src=\"data:image/png;base64,iVBORw0KGgoAAAANSUhEUgAAAHUAAAAVBAMAAACK3rzVAAAAMFBMVEX///8AAAAAAAAAAAAAAAAA\n",
       "AAAAAAAAAAAAAAAAAAAAAAAAAAAAAAAAAAAAAAAAAAAv3aB7AAAAD3RSTlMAInZUiRDNmWbv3US7\n",
       "qzJazP2FAAAACXBIWXMAAA7EAAAOxAGVKw4bAAAAtklEQVQ4y2NgYBBgwAsY8cgxGeDXy62AW86E\n",
       "gX0VGFxAFYeLaqDrgMuwJoC4zFgNh4iyBeCSYW8gpJejAJcMJwMhvQxTccmYEdabgUumhLBeX1wy\n",
       "GSh6UYMcKtqGS2YxYXstccnMJqz3PQV6d+KSWUzYv1a4ZA4RtrcHl4wvYb0luGReQTJLA9YsBBFd\n",
       "jUuG6wEDAcC4AJcMtpSOluUacEodJKRXBrdUDCG9eAxnVMCvlQlneQYATSo6tLhD90kAAAAASUVO\n",
       "RK5CYII=\n",
       "\" style=\"display:inline;vertical-align:middle;\" /></a></span>"
      ],
      "text/plain": [
       "|- (TRUE = TRUE) = TRUE"
      ]
     },
     "metadata": {},
     "output_type": "display_data"
    }
   ],
   "source": [
    "TRUE.eval_equality(TRUE)"
   ]
  },
  {
   "cell_type": "code",
   "execution_count": 52,
   "metadata": {},
   "outputs": [
    {
     "data": {
      "text/html": [
       "<span style=\"font-size:20px;\"> <a class=\"ProveItLink\" href=\"../__pv_it/demonstrations/4801b73bb24825a9f6bd5dbf4da769439debf04e0/proof.ipynb\" style=\"text-decoration: none\">&nbsp;&#x22A2;&nbsp;&nbsp;</a><a class=\"ProveItLink\" href=\"../__pv_it/demonstrations/507e6416992f3a69b430aadce7af6b0324a1c6560/expr.ipynb\"><img src=\"data:image/png;base64,iVBORw0KGgoAAAANSUhEUgAAAHUAAAAVBAMAAACK3rzVAAAAMFBMVEX///8AAAAAAAAAAAAAAAAA\n",
       "AAAAAAAAAAAAAAAAAAAAAAAAAAAAAAAAAAAAAAAAAAAv3aB7AAAAD3RSTlMAInZUiRDNmWbv3US7\n",
       "qzJazP2FAAAACXBIWXMAAA7EAAAOxAGVKw4bAAAAuUlEQVQ4y2NgYBBgwAsY8cgxGeDXy62AW86E\n",
       "gX0VGFzA1NYAIjWwGQiWYU0AkcxYDYeIsgXgkmFvIKSXowCXDCcDIb0MU3HJmBHWm4FLpoSwXl9c\n",
       "MhkoelGDHCrahktmMWF7LXHJzCas9z0FenfikllM2L9WuGQOEba3B5eML2G9JbhkXiGlbRQAdOTK\n",
       "WWBHrsYlw/WAgQBgXIBLBltKR7OmAafUQUJ6ZXBLxRDSi8dwRgX8WplwlmcACsg6kvF/hdUAAAAA\n",
       "SUVORK5CYII=\n",
       "\" style=\"display:inline;vertical-align:middle;\" /></a></span>"
      ],
      "text/plain": [
       "|- (TRUE = FALSE) = FALSE"
      ]
     },
     "metadata": {},
     "output_type": "display_data"
    }
   ],
   "source": [
    "TRUE.eval_equality(FALSE)"
   ]
  },
  {
   "cell_type": "code",
   "execution_count": 53,
   "metadata": {},
   "outputs": [
    {
     "data": {
      "text/html": [
       "<span style=\"font-size:20px;\"> <a class=\"ProveItLink\" href=\"../../booleans/_theory_nbs_/proofs/true_not_false/thm_proof.ipynb\" style=\"text-decoration: none\">&nbsp;&#x22A2;&nbsp;&nbsp;</a><a class=\"ProveItLink\" href=\"../../booleans/__pv_it/theorems/870a060ad7dcb1bd4612ad00133aadda1058053b0/expr.ipynb\"><img src=\"data:image/png;base64,iVBORw0KGgoAAAANSUhEUgAAADoAAAAUCAMAAADrw95cAAAAPFBMVEX///8AAAAAAAAAAAAAAAAA\n",
       "AAAAAAAAAAAAAAAAAAAAAAAAAAAAAAAAAAAAAAAAAAAAAAAAAAAAAAAAAAAo1xBWAAAAE3RSTlMA\n",
       "md2rVHZEZhAyuyLNief16fPv5qk81QAAAAlwSFlzAAAOxAAADsQBlSsOGwAAAIJJREFUOMudk8sS\n",
       "gCAIRdFMRe3l/39si5qmFEaCncDhCiLAyExkI/ZlUx/H1Hp8+BzdzJVO2HqaXBbF/iJSNGUt6onu\n",
       "hWjJv9F77utGzF2mSonKUG9Ai5Kiol73g9wxiWqht1eAOgMStFlpRvR6slq5r/IUX0BrJWrJoBe1\n",
       "alHAYcYJBMMC19FFXLsAAAAASUVORK5CYII=\n",
       "\" style=\"display:inline;vertical-align:middle;\" /></a></span>"
      ],
      "text/plain": [
       "|- TRUE != FALSE"
      ]
     },
     "metadata": {},
     "output_type": "display_data"
    }
   ],
   "source": [
    "TRUE.deduce_not_equal(FALSE)"
   ]
  },
  {
   "cell_type": "markdown",
   "metadata": {},
   "source": [
    "A proven expression will evaluate to `TRUE`."
   ]
  },
  {
   "cell_type": "code",
   "execution_count": 54,
   "metadata": {},
   "outputs": [
    {
     "data": {
      "text/html": [
       "<span style=\"font-size:20px;\"><a class=\"ProveItLink\" href=\"../../../__pv_it/common/c06c606ec12678c58933ac85412ecadc2ae28be60/expr.ipynb\"><img src=\"data:image/png;base64,iVBORw0KGgoAAAANSUhEUgAAAAsAAAAJBAMAAAAWSsseAAAAMFBMVEX///8AAAAAAAAAAAAAAAAA\n",
       "AAAAAAAAAAAAAAAAAAAAAAAAAAAAAAAAAAAAAAAAAAAv3aB7AAAAD3RSTlMAIquJdkTvuxBmmd1U\n",
       "zTKBpmoTAAAACXBIWXMAAA7EAAAOxAGVKw4bAAAARUlEQVQI12NgYFR2dGBgYAgTYP/BwMCRycC1\n",
       "gYGB6wMDtwEDA1sBQ38AA0O/A8N8oIr+Awy6PAIM7A48u7iAKlXshPwYAE2lCqdX0eXEAAAAAElF\n",
       "TkSuQmCC\n",
       "\" style=\"display:inline;vertical-align:middle;\" /></a> <a class=\"ProveItLink\" href=\"../__pv_it/demonstrations/f2886ba09eb8a8609cf219c43d79f87cb762e01e0/proof.ipynb\" style=\"text-decoration: none\">&nbsp;&#x22A2;&nbsp;&nbsp;</a><a class=\"ProveItLink\" href=\"../__pv_it/demonstrations/417562c86002b9100eaab8960cd9c6014e444fc80/expr.ipynb\"><img src=\"data:image/png;base64,iVBORw0KGgoAAAANSUhEUgAAADYAAAAOBAMAAACWQvIuAAAAMFBMVEX///8AAAAAAAAAAAAAAAAA\n",
       "AAAAAAAAAAAAAAAAAAAAAAAAAAAAAAAAAAAAAAAAAAAv3aB7AAAAD3RSTlMAIquJdkTvuxBmmd1U\n",
       "zTKBpmoTAAAACXBIWXMAAA7EAAAOxAGVKw4bAAAAXklEQVQY02NgwAJW7waBTQw4wBEG3IAyOUZl\n",
       "RwdccmEC7D8wHQeW48hk4NqAQx/XBwZuAxxybAUM/QE45PodGOYz4LCv/wCDLo8Adn3sDjy7uHCY\n",
       "yaFiJ+SHKRcJxACViCM8GFGMTAAAAABJRU5ErkJggg==\n",
       "\" style=\"display:inline;vertical-align:middle;\" /></a></span>"
      ],
      "text/plain": [
       "{a} |- a = TRUE"
      ]
     },
     "metadata": {},
     "output_type": "display_data"
    }
   ],
   "source": [
    "from proveit.logic import evaluate_truth\n",
    "evaluate_truth(a, assumptions=[a])"
   ]
  },
  {
   "cell_type": "code",
   "execution_count": 55,
   "metadata": {},
   "outputs": [
    {
     "data": {
      "text/html": [
       "<strong id=\"a_eq_T\">a_eq_T:</strong> <span style=\"font-size:20px;\"><a class=\"ProveItLink\" href=\"../../../__pv_it/common/c06c606ec12678c58933ac85412ecadc2ae28be60/expr.ipynb\"><img src=\"data:image/png;base64,iVBORw0KGgoAAAANSUhEUgAAAAsAAAAJBAMAAAAWSsseAAAAMFBMVEX///8AAAAAAAAAAAAAAAAA\n",
       "AAAAAAAAAAAAAAAAAAAAAAAAAAAAAAAAAAAAAAAAAAAv3aB7AAAAD3RSTlMAIquJdkTvuxBmmd1U\n",
       "zTKBpmoTAAAACXBIWXMAAA7EAAAOxAGVKw4bAAAARUlEQVQI12NgYFR2dGBgYAgTYP/BwMCRycC1\n",
       "gYGB6wMDtwEDA1sBQ38AA0O/A8N8oIr+Awy6PAIM7A48u7iAKlXshPwYAE2lCqdX0eXEAAAAAElF\n",
       "TkSuQmCC\n",
       "\" style=\"display:inline;vertical-align:middle;\" /></a> <a class=\"ProveItLink\" href=\"../__pv_it/demonstrations/f2886ba09eb8a8609cf219c43d79f87cb762e01e0/proof.ipynb\" style=\"text-decoration: none\">&nbsp;&#x22A2;&nbsp;&nbsp;</a><a class=\"ProveItLink\" href=\"../__pv_it/demonstrations/417562c86002b9100eaab8960cd9c6014e444fc80/expr.ipynb\"><img src=\"data:image/png;base64,iVBORw0KGgoAAAANSUhEUgAAADYAAAAOBAMAAACWQvIuAAAAMFBMVEX///8AAAAAAAAAAAAAAAAA\n",
       "AAAAAAAAAAAAAAAAAAAAAAAAAAAAAAAAAAAAAAAAAAAv3aB7AAAAD3RSTlMAIquJdkTvuxBmmd1U\n",
       "zTKBpmoTAAAACXBIWXMAAA7EAAAOxAGVKw4bAAAAXklEQVQY02NgwAJW7waBTQw4wBEG3IAyOUZl\n",
       "RwdccmEC7D8wHQeW48hk4NqAQx/XBwZuAxxybAUM/QE45PodGOYz4LCv/wCDLo8Adn3sDjy7uHCY\n",
       "yaFiJ+SHKRcJxACViCM8GFGMTAAAAABJRU5ErkJggg==\n",
       "\" style=\"display:inline;vertical-align:middle;\" /></a></span><br>"
      ],
      "text/plain": [
       "<IPython.core.display.HTML object>"
      ]
     },
     "metadata": {},
     "output_type": "display_data"
    }
   ],
   "source": [
    "a_eq_T = a.evaluation(assumptions=[a])"
   ]
  },
  {
   "cell_type": "markdown",
   "metadata": {},
   "source": [
    "A disproven expression will evaluate to `FALSE`."
   ]
  },
  {
   "cell_type": "code",
   "execution_count": 56,
   "metadata": {},
   "outputs": [
    {
     "data": {
      "text/html": [
       "<strong id=\"a_eq_F\">a_eq_F:</strong> <span style=\"font-size:20px;\"><a class=\"ProveItLink\" href=\"../__pv_it/demonstrations/668a489a3907033c7b365809e4626c07098412430/expr.ipynb\"><img src=\"data:image/png;base64,iVBORw0KGgoAAAANSUhEUgAAABgAAAAJBAMAAADa0/H1AAAAMFBMVEX///8AAAAAAAAAAAAAAAAA\n",
       "AAAAAAAAAAAAAAAAAAAAAAAAAAAAAAAAAAAAAAAAAAAv3aB7AAAAD3RSTlMAmd0iq4l2RO+7EGZU\n",
       "zTK2qsVwAAAACXBIWXMAAA7EAAAOxAGVKw4bAAAATElEQVQI12NggAKTMDMYk4G9mWH+AgYhJSBQ\n",
       "ZFixgUEIpoZBnoFBFc7pZOD6DuNwfWPg/gDlGHL9YWC5cBhm2jSGQwICMM6S1MduDwD95xBsCLeL\n",
       "ZgAAAABJRU5ErkJggg==\n",
       "\" style=\"display:inline;vertical-align:middle;\" /></a> <a class=\"ProveItLink\" href=\"../__pv_it/demonstrations/fab80ef1bea8097145ddd645f55d3dda9444b0580/proof.ipynb\" style=\"text-decoration: none\">&nbsp;&#x22A2;&nbsp;&nbsp;</a><a class=\"ProveItLink\" href=\"../__pv_it/demonstrations/88f743c6bc9df2eb402181acf99f189404fe9aca0/expr.ipynb\"><img src=\"data:image/png;base64,iVBORw0KGgoAAAANSUhEUgAAADYAAAAPBAMAAABdHiGLAAAAMFBMVEX///8AAAAAAAAAAAAAAAAA\n",
       "AAAAAAAAAAAAAAAAAAAAAAAAAAAAAAAAAAAAAAAAAAAv3aB7AAAAD3RSTlMAIquJdkTvuxBmmd1U\n",
       "zTKBpmoTAAAACXBIWXMAAA7EAAAOxAGVKw4bAAAAXklEQVQY02NgIB1E4pE7QjM5RmVHB1xyYQLs\n",
       "P0D06t0gsAlZjiOTgWsDDn1cHxi4DXDIsRUw9AfgkOt3YJjPgMO+/gMMujwC2PWxO/Ds4sJhJoeK\n",
       "nZAfmgTQ+DSg8QDwwyLnxkNiPQAAAABJRU5ErkJggg==\n",
       "\" style=\"display:inline;vertical-align:middle;\" /></a></span><br>"
      ],
      "text/plain": [
       "<IPython.core.display.HTML object>"
      ]
     },
     "metadata": {},
     "output_type": "display_data"
    }
   ],
   "source": [
    "a_eq_F = a.evaluation(assumptions=[Not(a)])"
   ]
  },
  {
   "cell_type": "markdown",
   "metadata": {},
   "source": [
    "If the expression to be evaluated is known to be equal to an expression that has already been evaluated, transitivity will automatically be applied."
   ]
  },
  {
   "cell_type": "code",
   "execution_count": 57,
   "metadata": {},
   "outputs": [
    {
     "data": {
      "text/html": [
       "<strong id=\"b_eq_F\">b_eq_F:</strong> <span style=\"font-size:20px;\"><a class=\"ProveItLink\" href=\"../__pv_it/demonstrations/5355de1b1fdac950d8b8692596e47da6d50285d70/expr.ipynb\"><img src=\"data:image/png;base64,iVBORw0KGgoAAAANSUhEUgAAADAAAAAOBAMAAACbXIJpAAAAMFBMVEX///8AAAAAAAAAAAAAAAAA\n",
       "AAAAAAAAAAAAAAAAAAAAAAAAAAAAAAAAAAAAAAAAAAAv3aB7AAAAD3RSTlMAELvv3c2ZVESJq3Yi\n",
       "MmZ3LnoBAAAACXBIWXMAAA7EAAAOxAGVKw4bAAAAk0lEQVQY02NgVHZgwA5YE3BI8BfgkOgXwCEx\n",
       "BYc4Q9Tu5ehCp2afZmBg/CogfwDISXEBAS+QOIcNg74AA/tHBuYNqBqEHzCkMDCwBTDwT0CVyGdg\n",
       "8GRgYJnA0I/mYCMGxh9gb+QLoNjB+JuB7wNQ4gKjHaoGxu8MXAE1DFwPmNDDRJuhJCGBgXFlHro3\n",
       "pHbeWX0BAEjlIRLMgjHbAAAAAElFTkSuQmCC\n",
       "\" style=\"display:inline;vertical-align:middle;\" /></a>, <a class=\"ProveItLink\" href=\"../__pv_it/demonstrations/668a489a3907033c7b365809e4626c07098412430/expr.ipynb\"><img src=\"data:image/png;base64,iVBORw0KGgoAAAANSUhEUgAAABgAAAAJBAMAAADa0/H1AAAAMFBMVEX///8AAAAAAAAAAAAAAAAA\n",
       "AAAAAAAAAAAAAAAAAAAAAAAAAAAAAAAAAAAAAAAAAAAv3aB7AAAAD3RSTlMAmd0iq4l2RO+7EGZU\n",
       "zTK2qsVwAAAACXBIWXMAAA7EAAAOxAGVKw4bAAAATElEQVQI12NggAKTMDMYk4G9mWH+AgYhJSBQ\n",
       "ZFixgUEIpoZBnoFBFc7pZOD6DuNwfWPg/gDlGHL9YWC5cBhm2jSGQwICMM6S1MduDwD95xBsCLeL\n",
       "ZgAAAABJRU5ErkJggg==\n",
       "\" style=\"display:inline;vertical-align:middle;\" /></a> <a class=\"ProveItLink\" href=\"../__pv_it/demonstrations/5e2f5b67b490345a98e29ef8adbffcf3c097b2da0/proof.ipynb\" style=\"text-decoration: none\">&nbsp;&#x22A2;&nbsp;&nbsp;</a><a class=\"ProveItLink\" href=\"../__pv_it/demonstrations/d3ba0c2bc590d3c75c019989942ec347db1d88970/expr.ipynb\"><img src=\"data:image/png;base64,iVBORw0KGgoAAAANSUhEUgAAADQAAAAPBAMAAABZ6/G2AAAAMFBMVEX///8AAAAAAAAAAAAAAAAA\n",
       "AAAAAAAAAAAAAAAAAAAAAAAAAAAAAAAAAAAAAAAAAAAv3aB7AAAAD3RSTlMAELvv3c2ZVESJq3Yi\n",
       "MmZ3LnoBAAAACXBIWXMAAA7EAAAOxAGVKw4bAAAAbElEQVQY02NgwA0YlR2wiPaBSdYELFLVYJK/\n",
       "AKdUvwBOqSkMOKWidi/HIcX4VUD+AJBOcQEBL2Qp9o8MzBuw62ILYOCfgF2KZQJDfwF2KaC38gWw\n",
       "28V/gdEOhwu5HjAl4HL8yjx0caDZxkCzAS9qGxcB/6W2AAAAAElFTkSuQmCC\n",
       "\" style=\"display:inline;vertical-align:middle;\" /></a></span><br>"
      ],
      "text/plain": [
       "<IPython.core.display.HTML object>"
      ]
     },
     "metadata": {},
     "output_type": "display_data"
    }
   ],
   "source": [
    "b_eq_F = b.evaluation(assumptions=[Equals(b, a), Not(a)])"
   ]
  },
  {
   "cell_type": "code",
   "execution_count": 58,
   "metadata": {},
   "outputs": [
    {
     "data": {
      "text/html": [
       "<table><tr><th>&nbsp;</th><th>step type</th><th>requirements</th><th>statement</th></tr>\n",
       "<tr><td><a name=\"0x295b0a9ff06e33f4_step0\">0</a></td><td>instantiation</td><td><a href=\"#0x295b0a9ff06e33f4_step1\">1</a>, <a href=\"#0x295b0a9ff06e33f4_step2\">2</a>, <a href=\"#0x295b0a9ff06e33f4_step3\">3</a></td><td><span style=\"font-size:20px;\"><a class=\"ProveItLink\" href=\"../__pv_it/demonstrations/5355de1b1fdac950d8b8692596e47da6d50285d70/expr.ipynb\"><img src=\"data:image/png;base64,iVBORw0KGgoAAAANSUhEUgAAADAAAAAOBAMAAACbXIJpAAAAMFBMVEX///8AAAAAAAAAAAAAAAAA\n",
       "AAAAAAAAAAAAAAAAAAAAAAAAAAAAAAAAAAAAAAAAAAAv3aB7AAAAD3RSTlMAELvv3c2ZVESJq3Yi\n",
       "MmZ3LnoBAAAACXBIWXMAAA7EAAAOxAGVKw4bAAAAk0lEQVQY02NgVHZgwA5YE3BI8BfgkOgXwCEx\n",
       "BYc4Q9Tu5ehCp2afZmBg/CogfwDISXEBAS+QOIcNg74AA/tHBuYNqBqEHzCkMDCwBTDwT0CVyGdg\n",
       "8GRgYJnA0I/mYCMGxh9gb+QLoNjB+JuB7wNQ4gKjHaoGxu8MXAE1DFwPmNDDRJuhJCGBgXFlHro3\n",
       "pHbeWX0BAEjlIRLMgjHbAAAAAElFTkSuQmCC\n",
       "\" style=\"display:inline;vertical-align:middle;\" /></a>, <a class=\"ProveItLink\" href=\"../__pv_it/demonstrations/668a489a3907033c7b365809e4626c07098412430/expr.ipynb\"><img src=\"data:image/png;base64,iVBORw0KGgoAAAANSUhEUgAAABgAAAAJBAMAAADa0/H1AAAAMFBMVEX///8AAAAAAAAAAAAAAAAA\n",
       "AAAAAAAAAAAAAAAAAAAAAAAAAAAAAAAAAAAAAAAAAAAv3aB7AAAAD3RSTlMAmd0iq4l2RO+7EGZU\n",
       "zTK2qsVwAAAACXBIWXMAAA7EAAAOxAGVKw4bAAAATElEQVQI12NggAKTMDMYk4G9mWH+AgYhJSBQ\n",
       "ZFixgUEIpoZBnoFBFc7pZOD6DuNwfWPg/gDlGHL9YWC5cBhm2jSGQwICMM6S1MduDwD95xBsCLeL\n",
       "ZgAAAABJRU5ErkJggg==\n",
       "\" style=\"display:inline;vertical-align:middle;\" /></a> <a class=\"ProveItLink\" href=\"../__pv_it/demonstrations/5e2f5b67b490345a98e29ef8adbffcf3c097b2da0/proof.ipynb\" style=\"text-decoration: none\">&nbsp;&#x22A2;&nbsp;&nbsp;</a><a class=\"ProveItLink\" href=\"../__pv_it/demonstrations/d3ba0c2bc590d3c75c019989942ec347db1d88970/expr.ipynb\"><img src=\"data:image/png;base64,iVBORw0KGgoAAAANSUhEUgAAADQAAAAPBAMAAABZ6/G2AAAAMFBMVEX///8AAAAAAAAAAAAAAAAA\n",
       "AAAAAAAAAAAAAAAAAAAAAAAAAAAAAAAAAAAAAAAAAAAv3aB7AAAAD3RSTlMAELvv3c2ZVESJq3Yi\n",
       "MmZ3LnoBAAAACXBIWXMAAA7EAAAOxAGVKw4bAAAAbElEQVQY02NgwA0YlR2wiPaBSdYELFLVYJK/\n",
       "AKdUvwBOqSkMOKWidi/HIcX4VUD+AJBOcQEBL2Qp9o8MzBuw62ILYOCfgF2KZQJDfwF2KaC38gWw\n",
       "28V/gdEOhwu5HjAl4HL8yjx0caDZxkCzAS9qGxcB/6W2AAAAAElFTkSuQmCC\n",
       "\" style=\"display:inline;vertical-align:middle;\" /></a></span></td></tr>\n",
       "<tr><td>&nbsp;</td><td colspan=4 style=\"text-align:left\"><span style=\"font-size:20px;\"><a class=\"ProveItLink\" href=\"../../../__pv_it/common/a0d9d672aa5e272d907247690c152cc2c6daafb70/expr.ipynb\"><img src=\"data:image/png;base64,iVBORw0KGgoAAAANSUhEUgAAAAsAAAAJBAMAAAAWSsseAAAAMFBMVEX///8AAAAAAAAAAAAAAAAA\n",
       "AAAAAAAAAAAAAAAAAAAAAAAAAAAAAAAAAAAAAAAAAAAv3aB7AAAAD3RSTlMAEHarMolUmd1mIs3v\n",
       "RLtmgJDEAAAACXBIWXMAAA7EAAAOxAGVKw4bAAAAQklEQVQI12NgEFIWCU1gYChgMmJvYOBcwPmR\n",
       "eQIDCwP7BgYQ4FEAU/cXMAowyF2wYWBlYMh3rGG4xsAgrsRWmcAAAFEjCyBvD0T9AAAAAElFTkSu\n",
       "QmCC\n",
       "\" style=\"display:inline;vertical-align:middle;\" /></a> : <a class=\"ProveItLink\" href=\"../../../__pv_it/common/195236b98c6c564a75b5dbada74b173bc52d5c3e0/expr.ipynb\"><img src=\"data:image/png;base64,iVBORw0KGgoAAAANSUhEUgAAAAkAAAAOBAMAAAAPuiubAAAAMFBMVEX///8AAAAAAAAAAAAAAAAA\n",
       "AAAAAAAAAAAAAAAAAAAAAAAAAAAAAAAAAAAAAAAAAAAv3aB7AAAAD3RSTlMAELvv3c2ZVESJq3Yi\n",
       "MmZ3LnoBAAAACXBIWXMAAA7EAAAOxAGVKw4bAAAAT0lEQVQI12NgVHZgAALWBBDJXwAi+wVA5BQQ\n",
       "wRC1ezkDA+NXAfkDDOwfGZg3MLAFMPBPYGCZwNBfAFKeL8DAf4HRjoGB6wET0AjGlXkMDAAVqA7Q\n",
       "GyenWgAAAABJRU5ErkJggg==\n",
       "\" style=\"display:inline;vertical-align:middle;\" /></a>, <a class=\"ProveItLink\" href=\"../../../__pv_it/common/ff7dba4ef0bbe791ab573bf2d9c220a304399ac80/expr.ipynb\"><img src=\"data:image/png;base64,iVBORw0KGgoAAAANSUhEUgAAAAsAAAANBAMAAACN24kIAAAAMFBMVEX///8AAAAAAAAAAAAAAAAA\n",
       "AAAAAAAAAAAAAAAAAAAAAAAAAAAAAAAAAAAAAAAAAAAv3aB7AAAAD3RSTlMAEHaZZquJVO8y3btE\n",
       "zSKD2s2pAAAACXBIWXMAAA7EAAAOxAGVKw4bAAAAVklEQVQI12NgVHZgEGVgYGNvYPBnYJjOvIAh\n",
       "moFBgEOBoYmBgeG8AOdPIGXLwNQApLYycAcAKVOG8w5ASjTJ/gEDCOQCMdsFxnYgxaXAmgCk2J1s\n",
       "gCQAaFoNDtFIIdEAAAAASUVORK5CYII=\n",
       "\" style=\"display:inline;vertical-align:middle;\" /></a> : <a class=\"ProveItLink\" href=\"../../../__pv_it/common/c06c606ec12678c58933ac85412ecadc2ae28be60/expr.ipynb\"><img src=\"data:image/png;base64,iVBORw0KGgoAAAANSUhEUgAAAAsAAAAJBAMAAAAWSsseAAAAMFBMVEX///8AAAAAAAAAAAAAAAAA\n",
       "AAAAAAAAAAAAAAAAAAAAAAAAAAAAAAAAAAAAAAAAAAAv3aB7AAAAD3RSTlMAIquJdkTvuxBmmd1U\n",
       "zTKBpmoTAAAACXBIWXMAAA7EAAAOxAGVKw4bAAAARUlEQVQI12NgYFR2dGBgYAgTYP/BwMCRycC1\n",
       "gYGB6wMDtwEDA1sBQ38AA0O/A8N8oIr+Awy6PAIM7A48u7iAKlXshPwYAE2lCqdX0eXEAAAAAElF\n",
       "TkSuQmCC\n",
       "\" style=\"display:inline;vertical-align:middle;\" /></a>, <a class=\"ProveItLink\" href=\"../../../__pv_it/common/95a8f6b9b9f29b83f192ad7fd05708d6be097a3f0/expr.ipynb\"><img src=\"data:image/png;base64,iVBORw0KGgoAAAANSUhEUgAAAAoAAAAJBAMAAAD5iKAgAAAALVBMVEX///8AAAAAAAAAAAAAAAAA\n",
       "AAAAAAAAAAAAAAAAAAAAAAAAAAAAAAAAAAAAAADAOrOgAAAADnRSTlMAMt0iZhDNdom7q0RU75I/\n",
       "FSIAAAAJcEhZcwAADsQAAA7EAZUrDhsAAAA6SURBVAjXY2BgVBIwYWAIq5ixgIHBlIEjgIGBgbUV\n",
       "SDCYgwhuBwagyBkGhgUMjDOmNwkwcDCczWYAAM4bCMVQ6vlKAAAAAElFTkSuQmCC\n",
       "\" style=\"display:inline;vertical-align:middle;\" /></a> : <a class=\"ProveItLink\" href=\"../../booleans/__pv_it/common/e0f123f2e4f322e1eba7f861749cda9fd9d99a120/expr.ipynb\"><img src=\"data:image/png;base64,iVBORw0KGgoAAAANSUhEUgAAAA4AAAAPBAMAAAAmOuNHAAAAHlBMVEX///8AAAAAAAAAAAAAAAAA\n",
       "AAAAAAAAAAAAAAAAAACGjDitAAAACXRSTlMARGZUdpnd76sKo+zpAAAACXBIWXMAAA7EAAAOxAGV\n",
       "Kw4bAAAAGElEQVQI12NgQAAhKG1CSzosLa08LS0DAJuOBVCdynDUAAAAAElFTkSuQmCC\n",
       "\" style=\"display:inline;vertical-align:middle;\" /></a></span></td></tr><tr><td><a name=\"0x295b0a9ff06e33f4_step1\">1</a></td><td>axiom</td><td></td><td><span style=\"font-size:20px;\"> <a class=\"ProveItLink\" href=\"axioms.ipynb#equals_transitivity\" style=\"text-decoration: none\">&nbsp;&#x22A2;&nbsp;&nbsp;</a><a class=\"ProveItLink\" href=\"../__pv_it/axioms/b5b3cf1e74e7e4fc2d5f197f08b661e6992950090/expr.ipynb\"><img src=\"data:image/png;base64,iVBORw0KGgoAAAANSUhEUgAAANEAAAAXBAMAAABnpbd1AAAAMFBMVEX///8AAAAAAAAAAAAAAAAA\n",
       "AAAAAAAAAAAAAAAAAAAAAAAAAAAAAAAAAAAAAAAAAAAv3aB7AAAAD3RSTlMAq1RmmUTNIjK7EInv\n",
       "3XZ/CtNrAAAACXBIWXMAAA7EAAAOxAGVKw4bAAACg0lEQVRIx61VTWgTQRT+Nrub/clPA55UKAF7\n",
       "8CIEEUSQWijaIrQEioIWNPRS8CDxoIdaSzz0UIwSKAp6kEVFwYLEIkI9yOKhCKLEg5JLYCuVooXQ\n",
       "W8WTb2Z3s3HbXRqYB7vf23mz8715780bQJxo0aYyhMqPaNMlenJMOSSCKFGPtmULwGmmTItgeh5n\n",
       "vALcZgGuiWAajjMeA5IWkMqLYLLjjGkLMkUwKSRNpThrkmg+t1qfRDApVBBm+8Cd5bDhblMrIEWV\n",
       "Nwo8ivq5FybmtYI1Z4x9jLWYfGWqeXXlNSDTjq9By0X8bPTClKFkH8cpa1/4PFt4R7GlLBpWqiiC\n",
       "KU2rVHBmF8sSFZ2+RWxOZEH0zAR82aVJOfRSWWWWBunVHlmn3qSuQeJJnD4XMGXX50b8ppLjPcUD\n",
       "Jvr368UgelC38TKUJ0zApP00SFum85st70/SzFd9VpUZRyeHAqYNqTalPCRZNJ2/OvnGwR2BMv/G\n",
       "D4AD875kI9yTEnnmvcyawyz5J+OxTurMEfzi5ptd0SsYTsWLw5NGttYBb8xfmeo48eeZrYa7wMLK\n",
       "ZtM9A5D4Ott8+CD6eUyc7jz1dXq+VJecALjc8xW9AXPcGTgaTlM9sUrxzXSqTrf57fINH93QznQx\n",
       "VVH2YpUppplbDLwRtUBV7Eozrl5u+cpsqqRgiWarWwTa1Hytw6TZbzHkn5nKZZh1Dp7cOHyhq4nu\n",
       "of0qP9//RjWPgRMlAuXpajnY0/hk23c7MfwA+gcOnpw92blxjJiLNXxb5M2yQT0lH3meXmCR6FzY\n",
       "IWbM3RPyQrUk5zyDSKZ+ldrXRRd2ylw008b/nzLUwTqDSKaJTVb1LggVTeRi/wCTbqEcktiIwgAA\n",
       "AABJRU5ErkJggg==\n",
       "\" style=\"display:inline;vertical-align:middle;\" /></a></span></td></tr>\n",
       "<tr><td>&nbsp;</td><td colspan=4 style-\"text-align:left\"><a class=\"ProveItLink\" href=\"axioms.ipynb#equals_transitivity\">proveit.logic.equality.equals_transitivity</a></td></tr><tr><td><a name=\"0x295b0a9ff06e33f4_step2\">2</a></td><td>assumption</td><td></td><td><span style=\"font-size:20px;\"><a class=\"ProveItLink\" href=\"../__pv_it/demonstrations/5355de1b1fdac950d8b8692596e47da6d50285d70/expr.ipynb\"><img src=\"data:image/png;base64,iVBORw0KGgoAAAANSUhEUgAAADAAAAAOBAMAAACbXIJpAAAAMFBMVEX///8AAAAAAAAAAAAAAAAA\n",
       "AAAAAAAAAAAAAAAAAAAAAAAAAAAAAAAAAAAAAAAAAAAv3aB7AAAAD3RSTlMAELvv3c2ZVESJq3Yi\n",
       "MmZ3LnoBAAAACXBIWXMAAA7EAAAOxAGVKw4bAAAAk0lEQVQY02NgVHZgwA5YE3BI8BfgkOgXwCEx\n",
       "BYc4Q9Tu5ehCp2afZmBg/CogfwDISXEBAS+QOIcNg74AA/tHBuYNqBqEHzCkMDCwBTDwT0CVyGdg\n",
       "8GRgYJnA0I/mYCMGxh9gb+QLoNjB+JuB7wNQ4gKjHaoGxu8MXAE1DFwPmNDDRJuhJCGBgXFlHro3\n",
       "pHbeWX0BAEjlIRLMgjHbAAAAAElFTkSuQmCC\n",
       "\" style=\"display:inline;vertical-align:middle;\" /></a> <a class=\"ProveItLink\" href=\"../__pv_it/demonstrations/3415e6c1f1d762727dc6e26c851b72672a9d53c10/proof.ipynb\" style=\"text-decoration: none\">&nbsp;&#x22A2;&nbsp;&nbsp;</a><a class=\"ProveItLink\" href=\"../__pv_it/demonstrations/5355de1b1fdac950d8b8692596e47da6d50285d70/expr.ipynb\"><img src=\"data:image/png;base64,iVBORw0KGgoAAAANSUhEUgAAADAAAAAOBAMAAACbXIJpAAAAMFBMVEX///8AAAAAAAAAAAAAAAAA\n",
       "AAAAAAAAAAAAAAAAAAAAAAAAAAAAAAAAAAAAAAAAAAAv3aB7AAAAD3RSTlMAELvv3c2ZVESJq3Yi\n",
       "MmZ3LnoBAAAACXBIWXMAAA7EAAAOxAGVKw4bAAAAk0lEQVQY02NgVHZgwA5YE3BI8BfgkOgXwCEx\n",
       "BYc4Q9Tu5ehCp2afZmBg/CogfwDISXEBAS+QOIcNg74AA/tHBuYNqBqEHzCkMDCwBTDwT0CVyGdg\n",
       "8GRgYJnA0I/mYCMGxh9gb+QLoNjB+JuB7wNQ4gKjHaoGxu8MXAE1DFwPmNDDRJuhJCGBgXFlHro3\n",
       "pHbeWX0BAEjlIRLMgjHbAAAAAElFTkSuQmCC\n",
       "\" style=\"display:inline;vertical-align:middle;\" /></a></span></td></tr>\n",
       "<tr><td><a name=\"0x295b0a9ff06e33f4_step3\">3</a></td><td>instantiation</td><td><a href=\"#0x295b0a9ff06e33f4_step4\">4</a>, <a href=\"#0x295b0a9ff06e33f4_step5\">5</a></td><td><span style=\"font-size:20px;\"><a class=\"ProveItLink\" href=\"../__pv_it/demonstrations/668a489a3907033c7b365809e4626c07098412430/expr.ipynb\"><img src=\"data:image/png;base64,iVBORw0KGgoAAAANSUhEUgAAABgAAAAJBAMAAADa0/H1AAAAMFBMVEX///8AAAAAAAAAAAAAAAAA\n",
       "AAAAAAAAAAAAAAAAAAAAAAAAAAAAAAAAAAAAAAAAAAAv3aB7AAAAD3RSTlMAmd0iq4l2RO+7EGZU\n",
       "zTK2qsVwAAAACXBIWXMAAA7EAAAOxAGVKw4bAAAATElEQVQI12NggAKTMDMYk4G9mWH+AgYhJSBQ\n",
       "ZFixgUEIpoZBnoFBFc7pZOD6DuNwfWPg/gDlGHL9YWC5cBhm2jSGQwICMM6S1MduDwD95xBsCLeL\n",
       "ZgAAAABJRU5ErkJggg==\n",
       "\" style=\"display:inline;vertical-align:middle;\" /></a> <a class=\"ProveItLink\" href=\"../__pv_it/demonstrations/fab80ef1bea8097145ddd645f55d3dda9444b0580/proof.ipynb\" style=\"text-decoration: none\">&nbsp;&#x22A2;&nbsp;&nbsp;</a><a class=\"ProveItLink\" href=\"../__pv_it/demonstrations/88f743c6bc9df2eb402181acf99f189404fe9aca0/expr.ipynb\"><img src=\"data:image/png;base64,iVBORw0KGgoAAAANSUhEUgAAADYAAAAPBAMAAABdHiGLAAAAMFBMVEX///8AAAAAAAAAAAAAAAAA\n",
       "AAAAAAAAAAAAAAAAAAAAAAAAAAAAAAAAAAAAAAAAAAAv3aB7AAAAD3RSTlMAIquJdkTvuxBmmd1U\n",
       "zTKBpmoTAAAACXBIWXMAAA7EAAAOxAGVKw4bAAAAXklEQVQY02NgIB1E4pE7QjM5RmVHB1xyYQLs\n",
       "P0D06t0gsAlZjiOTgWsDDn1cHxi4DXDIsRUw9AfgkOt3YJjPgMO+/gMMujwC2PWxO/Ds4sJhJoeK\n",
       "nZAfmgTQ+DSg8QDwwyLnxkNiPQAAAABJRU5ErkJggg==\n",
       "\" style=\"display:inline;vertical-align:middle;\" /></a></span></td></tr>\n",
       "<tr><td>&nbsp;</td><td colspan=4 style=\"text-align:left\"><span style=\"font-size:20px;\"><a class=\"ProveItLink\" href=\"../../../__pv_it/common/09585084922504426caf1db2ff588a23a0932a960/expr.ipynb\"><img src=\"data:image/png;base64,iVBORw0KGgoAAAANSUhEUgAAAA8AAAAPBAMAAADJ+Ih5AAAAMFBMVEX///8AAAAAAAAAAAAAAAAA\n",
       "AAAAAAAAAAAAAAAAAAAAAAAAAAAAAAAAAAAAAAAAAAAv3aB7AAAAD3RSTlMAIs1UmauJMnZmRLsQ\n",
       "3e++988cAAAACXBIWXMAAA7EAAAOxAGVKw4bAAAAXklEQVQI12NgAAEhBijQh9LM/6EMlngBCCMx\n",
       "vwBMMzb0G0BkGOwngBmLGeoTwAwHBvkAEM2xxSV+A4hxgoGB/wJEhoH3AZDmAupg+gBkyAEx90cG\n",
       "htP/dRiY939KAABt3hLO6mcEjQAAAABJRU5ErkJggg==\n",
       "\" style=\"display:inline;vertical-align:middle;\" /></a> : <a class=\"ProveItLink\" href=\"../../../__pv_it/common/c06c606ec12678c58933ac85412ecadc2ae28be60/expr.ipynb\"><img src=\"data:image/png;base64,iVBORw0KGgoAAAANSUhEUgAAAAsAAAAJBAMAAAAWSsseAAAAMFBMVEX///8AAAAAAAAAAAAAAAAA\n",
       "AAAAAAAAAAAAAAAAAAAAAAAAAAAAAAAAAAAAAAAAAAAv3aB7AAAAD3RSTlMAIquJdkTvuxBmmd1U\n",
       "zTKBpmoTAAAACXBIWXMAAA7EAAAOxAGVKw4bAAAARUlEQVQI12NgYFR2dGBgYAgTYP/BwMCRycC1\n",
       "gYGB6wMDtwEDA1sBQ38AA0O/A8N8oIr+Awy6PAIM7A48u7iAKlXshPwYAE2lCqdX0eXEAAAAAElF\n",
       "TkSuQmCC\n",
       "\" style=\"display:inline;vertical-align:middle;\" /></a></span></td></tr><tr><td><a name=\"0x295b0a9ff06e33f4_step4\">4</a></td><td>axiom</td><td></td><td><span style=\"font-size:20px;\"> <a class=\"ProveItLink\" href=\"../../booleans/negation/_theory_nbs_/axioms.ipynb#negation_elim\" style=\"text-decoration: none\">&nbsp;&#x22A2;&nbsp;&nbsp;</a><a class=\"ProveItLink\" href=\"../../booleans/negation/__pv_it/axioms/0fd3f403bc4d76bb1a3bc88358aa217c1bfc7dc50/expr.ipynb\"><img src=\"data:image/png;base64,iVBORw0KGgoAAAANSUhEUgAAAJcAAAAXBAMAAAD0AcCSAAAAMFBMVEX///8AAAAAAAAAAAAAAAAA\n",
       "AAAAAAAAAAAAAAAAAAAAAAAAAAAAAAAAAAAAAAAAAAAv3aB7AAAAD3RSTlMAq1RmmUTNIjK7EInv\n",
       "3XZ/CtNrAAAACXBIWXMAAA7EAAAOxAGVKw4bAAABvElEQVQ4y2NgIBoUUCSNCvgUwFQZLvk4IBYA\n",
       "MZSJMEwbQuVjkQoGW2bAwOAKYqQTNosrAUwx/ccipwcmsxgYGoEU+wTChrEYQCj5AlyGmTAwsC1g\n",
       "YOBWIGwYD4Tavr8Bl2E8CxiYgTayERFkamCS/cF7BVyGsQFNOnv37mkiDPOG+JJB3wCXYdzAuPRg\n",
       "YJgF5iyAKkcBC2CMZDAZxNC/AUT73gWBiyiGMQOjqJCBHZw8uE6AhThR4/AEjHUJTDow1AvgchnT\n",
       "AaDuBdwBYFd+wmIYVBAIjoLT0hQX+Qm4DOP4ADTwAST8I85hMQwqCDNsHQMD/wVchrECXcaQYAdm\n",
       "P0jEYhhUEOZNBwYG3gO4wowJZM2mLLAPGNwwDYMJAsE8kN2gZPQBl8uYQQFQAw7SCIY3SIbtnDlz\n",
       "5gWEIBBsBKkEyX/HZRgLKJ4ZwWnae7f8AlSXCSAEgaCXgWHl/ywGpvnfNqCaBPTxGbCPeQMQHmKo\n",
       "b0A3DC4IBLwNhJJ1LXIpwq+AapgDQhAUIg6EDHOGlwkHGbj8U9EiACEIAtMJmIWt6OHEpXglAcM4\n",
       "C0gwjP0BfsOeM5BgGDmAnQK9AL/XYzuwbv1UAAAAAElFTkSuQmCC\n",
       "\" style=\"display:inline;vertical-align:middle;\" /></a></span></td></tr>\n",
       "<tr><td>&nbsp;</td><td colspan=4 style-\"text-align:left\"><a class=\"ProveItLink\" href=\"../../booleans/negation/_theory_nbs_/axioms.ipynb#negation_elim\">proveit.logic.booleans.negation.negation_elim</a></td></tr><tr><td><a name=\"0x295b0a9ff06e33f4_step5\">5</a></td><td>assumption</td><td></td><td><span style=\"font-size:20px;\"><a class=\"ProveItLink\" href=\"../__pv_it/demonstrations/668a489a3907033c7b365809e4626c07098412430/expr.ipynb\"><img src=\"data:image/png;base64,iVBORw0KGgoAAAANSUhEUgAAABgAAAAJBAMAAADa0/H1AAAAMFBMVEX///8AAAAAAAAAAAAAAAAA\n",
       "AAAAAAAAAAAAAAAAAAAAAAAAAAAAAAAAAAAAAAAAAAAv3aB7AAAAD3RSTlMAmd0iq4l2RO+7EGZU\n",
       "zTK2qsVwAAAACXBIWXMAAA7EAAAOxAGVKw4bAAAATElEQVQI12NggAKTMDMYk4G9mWH+AgYhJSBQ\n",
       "ZFixgUEIpoZBnoFBFc7pZOD6DuNwfWPg/gDlGHL9YWC5cBhm2jSGQwICMM6S1MduDwD95xBsCLeL\n",
       "ZgAAAABJRU5ErkJggg==\n",
       "\" style=\"display:inline;vertical-align:middle;\" /></a> <a class=\"ProveItLink\" href=\"../__pv_it/demonstrations/128e1045736bad6d0081e09f5574019d5059eef10/proof.ipynb\" style=\"text-decoration: none\">&nbsp;&#x22A2;&nbsp;&nbsp;</a><a class=\"ProveItLink\" href=\"../__pv_it/demonstrations/668a489a3907033c7b365809e4626c07098412430/expr.ipynb\"><img src=\"data:image/png;base64,iVBORw0KGgoAAAANSUhEUgAAABgAAAAJBAMAAADa0/H1AAAAMFBMVEX///8AAAAAAAAAAAAAAAAA\n",
       "AAAAAAAAAAAAAAAAAAAAAAAAAAAAAAAAAAAAAAAAAAAv3aB7AAAAD3RSTlMAmd0iq4l2RO+7EGZU\n",
       "zTK2qsVwAAAACXBIWXMAAA7EAAAOxAGVKw4bAAAATElEQVQI12NggAKTMDMYk4G9mWH+AgYhJSBQ\n",
       "ZFixgUEIpoZBnoFBFc7pZOD6DuNwfWPg/gDlGHL9YWC5cBhm2jSGQwICMM6S1MduDwD95xBsCLeL\n",
       "ZgAAAABJRU5ErkJggg==\n",
       "\" style=\"display:inline;vertical-align:middle;\" /></a></span></td></tr>\n",
       "</table>"
      ],
      "text/plain": [
       "\tstep type\trequirements\tstatement\n",
       "0\tinstantiation\t1, 2, 3\t{b = a, [not](a)} |- b = FALSE\n",
       "\tx : b, y : a, z : FALSE\n",
       "1\taxiom\t\t|- forall_{x, y, z | x = y, y = z} (x = z)\n",
       "\tproveit.logic.equality.equals_transitivity\n",
       "2\tassumption\t\t{b = a} |- b = a\n",
       "3\tinstantiation\t4, 5\t{[not](a)} |- a = FALSE\n",
       "\tA : a\n",
       "4\taxiom\t\t|- forall_{A | [not](A)} (A = FALSE)\n",
       "\tproveit.logic.booleans.negation.negation_elim\n",
       "5\tassumption\t\t{[not](a)} |- [not](a)"
      ]
     },
     "metadata": {},
     "output_type": "display_data"
    }
   ],
   "source": [
    "b_eq_F.proof()"
   ]
  },
  {
   "cell_type": "markdown",
   "metadata": {},
   "source": [
    "When evaluating an expression, an evaluation of the operands will be attempted.  The operation class is responsible for overridding the `evaluation` method, or `do_reduced_evaluation` (called by the default `Expression.evaluation` method that first reduces the operation by evaluating its operands) in order to properly treat the operation applied to irreducible values or generate a more efficient proof as appropriate."
   ]
  },
  {
   "cell_type": "code",
   "execution_count": 59,
   "metadata": {},
   "outputs": [],
   "source": [
    "from proveit.logic import Or, Not, in_bool"
   ]
  },
  {
   "cell_type": "code",
   "execution_count": 60,
   "metadata": {},
   "outputs": [
    {
     "data": {
      "text/html": [
       "<strong id=\"nested_eval\">nested_eval:</strong> <span style=\"font-size:20px;\"><a class=\"ProveItLink\" href=\"../../../__pv_it/common/c06c606ec12678c58933ac85412ecadc2ae28be60/expr.ipynb\"><img src=\"data:image/png;base64,iVBORw0KGgoAAAANSUhEUgAAAAsAAAAJBAMAAAAWSsseAAAAMFBMVEX///8AAAAAAAAAAAAAAAAA\n",
       "AAAAAAAAAAAAAAAAAAAAAAAAAAAAAAAAAAAAAAAAAAAv3aB7AAAAD3RSTlMAIquJdkTvuxBmmd1U\n",
       "zTKBpmoTAAAACXBIWXMAAA7EAAAOxAGVKw4bAAAARUlEQVQI12NgYFR2dGBgYAgTYP/BwMCRycC1\n",
       "gYGB6wMDtwEDA1sBQ38AA0O/A8N8oIr+Awy6PAIM7A48u7iAKlXshPwYAE2lCqdX0eXEAAAAAElF\n",
       "TkSuQmCC\n",
       "\" style=\"display:inline;vertical-align:middle;\" /></a> <a class=\"ProveItLink\" href=\"../__pv_it/demonstrations/247f6abf6a41f29dfc2ed78391da99ba0a01b63c0/proof.ipynb\" style=\"text-decoration: none\">&nbsp;&#x22A2;&nbsp;&nbsp;</a><a class=\"ProveItLink\" href=\"../__pv_it/demonstrations/95fc36d297d6fdf9ab0101354a73a5afd9e752330/expr.ipynb\"><img src=\"data:image/png;base64,iVBORw0KGgoAAAANSUhEUgAAAIQAAAAVBAMAAAB1UFtyAAAAMFBMVEX///8AAAAAAAAAAAAAAAAA\n",
       "AAAAAAAAAAAAAAAAAAAAAAAAAAAAAAAAAAAAAAAAAAAv3aB7AAAAD3RSTlMAInZUiRDNmWbv3US7\n",
       "qzJazP2FAAAACXBIWXMAAA7EAAAOxAGVKw4bAAABcklEQVQ4y42TPUvDUBSGTxJrPqwhk4MgpH9A\n",
       "ioiuBedKf4DQdhAcA3UQp25OYkfBJSAoCEJx0i32F4Qizp07dXH35J6TNE1PaF54Uvqcm7c3aQIA\n",
       "Hgjx1r6Jyyh6c7P8YEpyXEHqQ2I1t29J3qHWy9RuBw+uj4ecpFwyxRwlB3NZbiVn12erknLHiBV2\n",
       "ToTIXlGq2B1CrDjJiTNkUJQq20NCrLhGtJ9Gcg1qB2EqOTTbigmx4gr58up/6n7OQPdTyaGZ1SOW\n",
       "f0Ou4hnv/yOY6sfdGJwOS1MtDXhmjAhxF0+4egFOS5k+nAJLuoqYZ+6CKKuwI+iO+YnqFyp4tjMi\n",
       "xArcc9eHBzKOGwFLruCZERLivZhgRRN+DfUW6fe0m0laEfDMwmorKtlFGx9I33g1lam90KSdreGZ\n",
       "2SLEijmeOD0/OCQ1oI95toZnzpgo5lNd/kx49NfkPiPGCqrIG0bOdwWpRURJLirIukeURPM3ywYj\n",
       "5h90GGG9CdcZ5wAAAABJRU5ErkJggg==\n",
       "\" style=\"display:inline;vertical-align:middle;\" /></a></span><br>"
      ],
      "text/plain": [
       "<IPython.core.display.HTML object>"
      ]
     },
     "metadata": {},
     "output_type": "display_data"
    }
   ],
   "source": [
    "nested_eval = Or(a, Not(a)).evaluation(assumptions=[a])"
   ]
  },
  {
   "cell_type": "markdown",
   "metadata": {},
   "source": [
    "## Boolean equality\n",
    "\n",
    "Equality with `TRUE` ($\\top$) or `FALSE` ($\\bot$) has special logical consequences.  The `Equals` object has automation capabilities to treat these special kinds of equations."
   ]
  },
  {
   "cell_type": "code",
   "execution_count": 61,
   "metadata": {},
   "outputs": [
    {
     "data": {
      "text/html": [
       "<a class=\"ProveItLink\" href=\"../../booleans/__pv_it/common/95025295868b9266d37330b4427adf122f6061770/expr.ipynb\"><img src=\"data:image/png;base64,iVBORw0KGgoAAAANSUhEUgAAAA4AAAAOBAMAAADtZjDiAAAAG1BMVEX///8AAAAAAAAAAAAAAAAA\n",
       "AAAAAAAAAAAAAAB4Gco9AAAACHRSTlMAmd2rVHZEZkA3AkMAAAAJcEhZcwAADsQAAA7EAZUrDhsA\n",
       "AAAYSURBVAjXYxBSAgFlBiBwZYAAWtHpQAwAFRwEg6MlY1sAAAAASUVORK5CYII=\n",
       "\" style=\"display:inline;vertical-align:middle;\" /></a>"
      ],
      "text/plain": [
       "TRUE"
      ]
     },
     "metadata": {},
     "output_type": "display_data"
    }
   ],
   "source": [
    "TRUE"
   ]
  },
  {
   "cell_type": "code",
   "execution_count": 62,
   "metadata": {},
   "outputs": [
    {
     "data": {
      "text/html": [
       "<a class=\"ProveItLink\" href=\"../../booleans/__pv_it/common/e0f123f2e4f322e1eba7f861749cda9fd9d99a120/expr.ipynb\"><img src=\"data:image/png;base64,iVBORw0KGgoAAAANSUhEUgAAAA4AAAAPBAMAAAAmOuNHAAAAHlBMVEX///8AAAAAAAAAAAAAAAAA\n",
       "AAAAAAAAAAAAAAAAAACGjDitAAAACXRSTlMARGZUdpnd76sKo+zpAAAACXBIWXMAAA7EAAAOxAGV\n",
       "Kw4bAAAAGElEQVQI12NgQAAhKG1CSzosLa08LS0DAJuOBVCdynDUAAAAAElFTkSuQmCC\n",
       "\" style=\"display:inline;vertical-align:middle;\" /></a>"
      ],
      "text/plain": [
       "FALSE"
      ]
     },
     "metadata": {},
     "output_type": "display_data"
    }
   ],
   "source": [
    "FALSE"
   ]
  },
  {
   "cell_type": "markdown",
   "metadata": {},
   "source": [
    "Proofs via boolean equality are automatic via `Equals.deduce_side_effects`:"
   ]
  },
  {
   "cell_type": "code",
   "execution_count": 63,
   "metadata": {},
   "outputs": [
    {
     "data": {
      "text/html": [
       "<span style=\"font-size:20px;\"><a class=\"ProveItLink\" href=\"../__pv_it/demonstrations/417562c86002b9100eaab8960cd9c6014e444fc80/expr.ipynb\"><img src=\"data:image/png;base64,iVBORw0KGgoAAAANSUhEUgAAADYAAAAOBAMAAACWQvIuAAAAMFBMVEX///8AAAAAAAAAAAAAAAAA\n",
       "AAAAAAAAAAAAAAAAAAAAAAAAAAAAAAAAAAAAAAAAAAAv3aB7AAAAD3RSTlMAIquJdkTvuxBmmd1U\n",
       "zTKBpmoTAAAACXBIWXMAAA7EAAAOxAGVKw4bAAAAXklEQVQY02NgwAJW7waBTQw4wBEG3IAyOUZl\n",
       "RwdccmEC7D8wHQeW48hk4NqAQx/XBwZuAxxybAUM/QE45PodGOYz4LCv/wCDLo8Adn3sDjy7uHCY\n",
       "yaFiJ+SHKRcJxACViCM8GFGMTAAAAABJRU5ErkJggg==\n",
       "\" style=\"display:inline;vertical-align:middle;\" /></a> <a class=\"ProveItLink\" href=\"../__pv_it/demonstrations/b3c5b32642b48a59c5ed424fda321a5bc51b085b0/proof.ipynb\" style=\"text-decoration: none\">&nbsp;&#x22A2;&nbsp;&nbsp;</a><a class=\"ProveItLink\" href=\"../../../__pv_it/common/c06c606ec12678c58933ac85412ecadc2ae28be60/expr.ipynb\"><img src=\"data:image/png;base64,iVBORw0KGgoAAAANSUhEUgAAAAsAAAAJBAMAAAAWSsseAAAAMFBMVEX///8AAAAAAAAAAAAAAAAA\n",
       "AAAAAAAAAAAAAAAAAAAAAAAAAAAAAAAAAAAAAAAAAAAv3aB7AAAAD3RSTlMAIquJdkTvuxBmmd1U\n",
       "zTKBpmoTAAAACXBIWXMAAA7EAAAOxAGVKw4bAAAARUlEQVQI12NgYFR2dGBgYAgTYP/BwMCRycC1\n",
       "gYGB6wMDtwEDA1sBQ38AA0O/A8N8oIr+Awy6PAIM7A48u7iAKlXshPwYAE2lCqdX0eXEAAAAAElF\n",
       "TkSuQmCC\n",
       "\" style=\"display:inline;vertical-align:middle;\" /></a></span>"
      ],
      "text/plain": [
       "{a = TRUE} |- a"
      ]
     },
     "metadata": {},
     "output_type": "display_data"
    }
   ],
   "source": [
    "a.prove(assumptions=[Equals(a, TRUE)])"
   ]
  },
  {
   "cell_type": "code",
   "execution_count": 64,
   "metadata": {},
   "outputs": [
    {
     "data": {
      "text/html": [
       "<span style=\"font-size:20px;\"><a class=\"ProveItLink\" href=\"../__pv_it/demonstrations/d3ba0c2bc590d3c75c019989942ec347db1d88970/expr.ipynb\"><img src=\"data:image/png;base64,iVBORw0KGgoAAAANSUhEUgAAADQAAAAPBAMAAABZ6/G2AAAAMFBMVEX///8AAAAAAAAAAAAAAAAA\n",
       "AAAAAAAAAAAAAAAAAAAAAAAAAAAAAAAAAAAAAAAAAAAv3aB7AAAAD3RSTlMAELvv3c2ZVESJq3Yi\n",
       "MmZ3LnoBAAAACXBIWXMAAA7EAAAOxAGVKw4bAAAAbElEQVQY02NgwA0YlR2wiPaBSdYELFLVYJK/\n",
       "AKdUvwBOqSkMOKWidi/HIcX4VUD+AJBOcQEBL2Qp9o8MzBuw62ILYOCfgF2KZQJDfwF2KaC38gWw\n",
       "28V/gdEOhwu5HjAl4HL8yjx0caDZxkCzAS9qGxcB/6W2AAAAAElFTkSuQmCC\n",
       "\" style=\"display:inline;vertical-align:middle;\" /></a> <a class=\"ProveItLink\" href=\"../__pv_it/demonstrations/f57697f7cf7b68de61c4ee60cb554f16fad9d9c90/proof.ipynb\" style=\"text-decoration: none\">&nbsp;&#x22A2;&nbsp;&nbsp;</a><a class=\"ProveItLink\" href=\"../__pv_it/demonstrations/ab2c97d9f0b1331e2c6e64e8acc997a7156edf490/expr.ipynb\"><img src=\"data:image/png;base64,iVBORw0KGgoAAAANSUhEUgAAABYAAAAOBAMAAADZH/H+AAAAMFBMVEX///8AAAAAAAAAAAAAAAAA\n",
       "AAAAAAAAAAAAAAAAAAAAAAAAAAAAAAAAAAAAAAAAAAAv3aB7AAAAD3RSTlMAmd0iqxC7781URIl2\n",
       "MmYN7zoAAAAACXBIWXMAAA7EAAAOxAGVKw4bAAAAWElEQVQI12NggICwIgYEaERi/0Qwub4i2NwK\n",
       "CDaHz5EJMHZ8K+tnBiElIFBkmB/AUAMRNWGQYGD4DWNrM3D9hLF/MjBCTTVk+MsQ/gBmjh9DItz8\n",
       "kI0PGAD2BxLc2/j9qQAAAABJRU5ErkJggg==\n",
       "\" style=\"display:inline;vertical-align:middle;\" /></a></span>"
      ],
      "text/plain": [
       "{b = FALSE} |- [not](b)"
      ]
     },
     "metadata": {},
     "output_type": "display_data"
    }
   ],
   "source": [
    "Not(b).prove(assumptions=[Equals(b, FALSE)])"
   ]
  },
  {
   "cell_type": "markdown",
   "metadata": {},
   "source": [
    "Going the other direction, boolean equalities are proven automatically via `Equals.conclude`:"
   ]
  },
  {
   "cell_type": "code",
   "execution_count": 65,
   "metadata": {},
   "outputs": [
    {
     "data": {
      "text/html": [
       "<span style=\"font-size:20px;\"><a class=\"ProveItLink\" href=\"../../../__pv_it/common/a0d9d672aa5e272d907247690c152cc2c6daafb70/expr.ipynb\"><img src=\"data:image/png;base64,iVBORw0KGgoAAAANSUhEUgAAAAsAAAAJBAMAAAAWSsseAAAAMFBMVEX///8AAAAAAAAAAAAAAAAA\n",
       "AAAAAAAAAAAAAAAAAAAAAAAAAAAAAAAAAAAAAAAAAAAv3aB7AAAAD3RSTlMAEHarMolUmd1mIs3v\n",
       "RLtmgJDEAAAACXBIWXMAAA7EAAAOxAGVKw4bAAAAQklEQVQI12NgEFIWCU1gYChgMmJvYOBcwPmR\n",
       "eQIDCwP7BgYQ4FEAU/cXMAowyF2wYWBlYMh3rGG4xsAgrsRWmcAAAFEjCyBvD0T9AAAAAElFTkSu\n",
       "QmCC\n",
       "\" style=\"display:inline;vertical-align:middle;\" /></a> <a class=\"ProveItLink\" href=\"../__pv_it/demonstrations/809d07c08ef1f45fbe1c874ae17735f6ac9ee9df0/proof.ipynb\" style=\"text-decoration: none\">&nbsp;&#x22A2;&nbsp;&nbsp;</a><a class=\"ProveItLink\" href=\"../__pv_it/demonstrations/bf33112201b7d048ccd09879561f49a80b7cd1fa0/expr.ipynb\"><img src=\"data:image/png;base64,iVBORw0KGgoAAAANSUhEUgAAADYAAAAOBAMAAACWQvIuAAAAMFBMVEX///8AAAAAAAAAAAAAAAAA\n",
       "AAAAAAAAAAAAAAAAAAAAAAAAAAAAAAAAAAAAAAAAAAAv3aB7AAAAD3RSTlMAEHarMolUmd1mIs3v\n",
       "RLtmgJDEAAAACXBIWXMAAA7EAAAOxAGVKw4bAAAAXElEQVQY02NgwAIqOkCgmQEHSGLADSiTE1IW\n",
       "CU3AIVfAZMTegOE4sBznAs6PzBOw62NhYN+A2y08Crjl7i9gFMBun9wFGwZWHPryHWsYruGQE1di\n",
       "q8T0HsNNIAYAuoEben8tsYkAAAAASUVORK5CYII=\n",
       "\" style=\"display:inline;vertical-align:middle;\" /></a></span>"
      ],
      "text/plain": [
       "{x} |- x = TRUE"
      ]
     },
     "metadata": {},
     "output_type": "display_data"
    }
   ],
   "source": [
    "Equals(x, TRUE).prove(assumptions=[x])"
   ]
  },
  {
   "cell_type": "code",
   "execution_count": 66,
   "metadata": {},
   "outputs": [
    {
     "data": {
      "text/html": [
       "<span style=\"font-size:20px;\"><a class=\"ProveItLink\" href=\"../../../__pv_it/common/ff7dba4ef0bbe791ab573bf2d9c220a304399ac80/expr.ipynb\"><img src=\"data:image/png;base64,iVBORw0KGgoAAAANSUhEUgAAAAsAAAANBAMAAACN24kIAAAAMFBMVEX///8AAAAAAAAAAAAAAAAA\n",
       "AAAAAAAAAAAAAAAAAAAAAAAAAAAAAAAAAAAAAAAAAAAv3aB7AAAAD3RSTlMAEHaZZquJVO8y3btE\n",
       "zSKD2s2pAAAACXBIWXMAAA7EAAAOxAGVKw4bAAAAVklEQVQI12NgVHZgEGVgYGNvYPBnYJjOvIAh\n",
       "moFBgEOBoYmBgeG8AOdPIGXLwNQApLYycAcAKVOG8w5ASjTJ/gEDCOQCMdsFxnYgxaXAmgCk2J1s\n",
       "gCQAaFoNDtFIIdEAAAAASUVORK5CYII=\n",
       "\" style=\"display:inline;vertical-align:middle;\" /></a> <a class=\"ProveItLink\" href=\"../__pv_it/demonstrations/2024f515a8c590ed401e77fb41b22df34fda7e460/proof.ipynb\" style=\"text-decoration: none\">&nbsp;&#x22A2;&nbsp;&nbsp;</a><a class=\"ProveItLink\" href=\"../__pv_it/demonstrations/715d9b29fe1f123492b4da78c085acda3de176e90/expr.ipynb\"><img src=\"data:image/png;base64,iVBORw0KGgoAAAANSUhEUgAAADYAAAASBAMAAADiVjDOAAAAMFBMVEX///8AAAAAAAAAAAAAAAAA\n",
       "AAAAAAAAAAAAAAAAAAAAAAAAAAAAAAAAAAAAAAAAAAAv3aB7AAAAD3RSTlMAmd2rVHZEZhCJ7zK7\n",
       "zSLhqm3WAAAACXBIWXMAAA7EAAAOxAGVKw4bAAAAcUlEQVQY02MQUgIBZQYcwJUBN6CTXKs4A4cB\n",
       "shySkyd4MbB/wK6P20GIgfkAdjkOhqUMXAE47GP7wbB/Aw77GC8wROFyJ48Bw2FccowGbN/BjHRM\n",
       "OQ7LwH+4A4TzAi6ZuQxdDrjkVBkscZroHpjAwAAAD70V+H6qfhEAAAAASUVORK5CYII=\n",
       "\" style=\"display:inline;vertical-align:middle;\" /></a></span>"
      ],
      "text/plain": [
       "{y} |- TRUE = y"
      ]
     },
     "metadata": {},
     "output_type": "display_data"
    }
   ],
   "source": [
    "Equals(TRUE, y).prove(assumptions=[y])"
   ]
  },
  {
   "cell_type": "code",
   "execution_count": 67,
   "metadata": {},
   "outputs": [
    {
     "data": {
      "text/html": [
       "<span style=\"font-size:20px;\"><a class=\"ProveItLink\" href=\"../__pv_it/demonstrations/60e4f62784a9363bc77fd56c037700314d3069cb0/expr.ipynb\"><img src=\"data:image/png;base64,iVBORw0KGgoAAAANSUhEUgAAABYAAAAJBAMAAADEGsFGAAAALVBMVEX///8AAAAAAAAAAAAAAAAA\n",
       "AAAAAAAAAAAAAAAAAAAAAAAAAAAAAAAAAAAAAADAOrOgAAAADnRSTlMAmd0iq4l2ZjJUu+8QROt7\n",
       "Re8AAAAJcEhZcwAADsQAAA7EAZUrDhsAAABBSURBVAjXY2CAAta0ChiTWZNBikFICQgUGZgCGLZB\n",
       "RE0Y5A7AVJgw7GKAs3mewdmGDM8ZGHhhPCkGhgi48eFlBwDBjQk8S5LC6wAAAABJRU5ErkJggg==\n",
       "\" style=\"display:inline;vertical-align:middle;\" /></a> <a class=\"ProveItLink\" href=\"../__pv_it/demonstrations/63a69d263837efbbdd40303bdd5e56779208ba940/proof.ipynb\" style=\"text-decoration: none\">&nbsp;&#x22A2;&nbsp;&nbsp;</a><a class=\"ProveItLink\" href=\"../__pv_it/demonstrations/63545ac9076c24026a8d28b6d5b289d6a2698d2f0/expr.ipynb\"><img src=\"data:image/png;base64,iVBORw0KGgoAAAANSUhEUgAAADQAAAAPBAMAAABZ6/G2AAAALVBMVEX///8AAAAAAAAAAAAAAAAA\n",
       "AAAAAAAAAAAAAAAAAAAAAAAAAAAAAAAAAAAAAADAOrOgAAAADnRSTlMAiXZmMiLdVJm77xBEq27X\n",
       "E38AAAAJcEhZcwAADsQAAA7EAZUrDhsAAABQSURBVBjTY2AgFRzGLVVEIykhZQccUmEFHBOAVFsa\n",
       "COSiSCUycClg18XxGqddXBNwSu2DmobFLj4DBoYDOOyawMCIy/GCxtpo4kCzVwHNBgALAxZCdd6r\n",
       "/wAAAABJRU5ErkJggg==\n",
       "\" style=\"display:inline;vertical-align:middle;\" /></a></span>"
      ],
      "text/plain": [
       "{[not](c)} |- c = FALSE"
      ]
     },
     "metadata": {},
     "output_type": "display_data"
    }
   ],
   "source": [
    "Equals(c, FALSE).prove(assumptions=[Not(c)])"
   ]
  },
  {
   "cell_type": "code",
   "execution_count": 68,
   "metadata": {},
   "outputs": [
    {
     "data": {
      "text/html": [
       "<span style=\"font-size:20px;\"><a class=\"ProveItLink\" href=\"../__pv_it/demonstrations/60e4f62784a9363bc77fd56c037700314d3069cb0/expr.ipynb\"><img src=\"data:image/png;base64,iVBORw0KGgoAAAANSUhEUgAAABYAAAAJBAMAAADEGsFGAAAALVBMVEX///8AAAAAAAAAAAAAAAAA\n",
       "AAAAAAAAAAAAAAAAAAAAAAAAAAAAAAAAAAAAAADAOrOgAAAADnRSTlMAmd0iq4l2ZjJUu+8QROt7\n",
       "Re8AAAAJcEhZcwAADsQAAA7EAZUrDhsAAABBSURBVAjXY2CAAta0ChiTWZNBikFICQgUGZgCGLZB\n",
       "RE0Y5A7AVJgw7GKAs3mewdmGDM8ZGHhhPCkGhgi48eFlBwDBjQk8S5LC6wAAAABJRU5ErkJggg==\n",
       "\" style=\"display:inline;vertical-align:middle;\" /></a> <a class=\"ProveItLink\" href=\"../__pv_it/demonstrations/7d12268c422f7aafe528dedb5d6e521bf5ae819d0/proof.ipynb\" style=\"text-decoration: none\">&nbsp;&#x22A2;&nbsp;&nbsp;</a><a class=\"ProveItLink\" href=\"../__pv_it/demonstrations/e9920cca4477a9e1e36f9e56e4ef8768af6763800/expr.ipynb\"><img src=\"data:image/png;base64,iVBORw0KGgoAAAANSUhEUgAAADQAAAAPBAMAAABZ6/G2AAAALVBMVEX///8AAAAAAAAAAAAAAAAA\n",
       "AAAAAAAAAAAAAAAAAAAAAAAAAAAAAAAAAAAAAADAOrOgAAAADnRSTlMARGZUdpnd76uJMiK7EJkF\n",
       "sNAAAAAJcEhZcwAADsQAAA7EAZUrDhsAAABNSURBVBjTY2DAC4RwS5kMsBSnixayVFgaCGSAmNzJ\n",
       "DDE4dLFNYCjBIRV3AaddNWjOQNjF+wS3Cx8xMDDikAI6bxbIlHKoi5G9NUnlAgCGTxMWitgxVQAA\n",
       "AABJRU5ErkJggg==\n",
       "\" style=\"display:inline;vertical-align:middle;\" /></a></span>"
      ],
      "text/plain": [
       "{[not](c)} |- FALSE = c"
      ]
     },
     "metadata": {},
     "output_type": "display_data"
    }
   ],
   "source": [
    "Equals(FALSE, c).prove(assumptions=[Not(c)])"
   ]
  },
  {
   "cell_type": "markdown",
   "metadata": {},
   "source": [
    "When something is equal to `FALSE` and known to be true, there is a contradiction.  That is, `FALSE` is a consequence.  The `derive_contradiction` method of `Equals` can be used to prove such a contradiction:"
   ]
  },
  {
   "cell_type": "code",
   "execution_count": 69,
   "metadata": {},
   "outputs": [
    {
     "data": {
      "text/html": [
       "<strong id=\"contradiction\">contradiction:</strong> <span style=\"font-size:20px;\"><a class=\"ProveItLink\" href=\"../../../__pv_it/common/c06c606ec12678c58933ac85412ecadc2ae28be60/expr.ipynb\"><img src=\"data:image/png;base64,iVBORw0KGgoAAAANSUhEUgAAAAsAAAAJBAMAAAAWSsseAAAAMFBMVEX///8AAAAAAAAAAAAAAAAA\n",
       "AAAAAAAAAAAAAAAAAAAAAAAAAAAAAAAAAAAAAAAAAAAv3aB7AAAAD3RSTlMAIquJdkTvuxBmmd1U\n",
       "zTKBpmoTAAAACXBIWXMAAA7EAAAOxAGVKw4bAAAARUlEQVQI12NgYFR2dGBgYAgTYP/BwMCRycC1\n",
       "gYGB6wMDtwEDA1sBQ38AA0O/A8N8oIr+Awy6PAIM7A48u7iAKlXshPwYAE2lCqdX0eXEAAAAAElF\n",
       "TkSuQmCC\n",
       "\" style=\"display:inline;vertical-align:middle;\" /></a>, <a class=\"ProveItLink\" href=\"../__pv_it/demonstrations/88f743c6bc9df2eb402181acf99f189404fe9aca0/expr.ipynb\"><img src=\"data:image/png;base64,iVBORw0KGgoAAAANSUhEUgAAADYAAAAPBAMAAABdHiGLAAAAMFBMVEX///8AAAAAAAAAAAAAAAAA\n",
       "AAAAAAAAAAAAAAAAAAAAAAAAAAAAAAAAAAAAAAAAAAAv3aB7AAAAD3RSTlMAIquJdkTvuxBmmd1U\n",
       "zTKBpmoTAAAACXBIWXMAAA7EAAAOxAGVKw4bAAAAXklEQVQY02NgIB1E4pE7QjM5RmVHB1xyYQLs\n",
       "P0D06t0gsAlZjiOTgWsDDn1cHxi4DXDIsRUw9AfgkOt3YJjPgMO+/gMMujwC2PWxO/Ds4sJhJoeK\n",
       "nZAfmgTQ+DSg8QDwwyLnxkNiPQAAAABJRU5ErkJggg==\n",
       "\" style=\"display:inline;vertical-align:middle;\" /></a> <a class=\"ProveItLink\" href=\"../__pv_it/demonstrations/c6a8abd5b9e66d3765cd4b9dac7680f6e94ab9420/proof.ipynb\" style=\"text-decoration: none\">&nbsp;&#x22A2;&nbsp;&nbsp;</a><a class=\"ProveItLink\" href=\"../../booleans/__pv_it/common/e0f123f2e4f322e1eba7f861749cda9fd9d99a120/expr.ipynb\"><img src=\"data:image/png;base64,iVBORw0KGgoAAAANSUhEUgAAAA4AAAAPBAMAAAAmOuNHAAAAHlBMVEX///8AAAAAAAAAAAAAAAAA\n",
       "AAAAAAAAAAAAAAAAAACGjDitAAAACXRSTlMARGZUdpnd76sKo+zpAAAACXBIWXMAAA7EAAAOxAGV\n",
       "Kw4bAAAAGElEQVQI12NgQAAhKG1CSzosLa08LS0DAJuOBVCdynDUAAAAAElFTkSuQmCC\n",
       "\" style=\"display:inline;vertical-align:middle;\" /></a></span><br>"
      ],
      "text/plain": [
       "<IPython.core.display.HTML object>"
      ]
     },
     "metadata": {},
     "output_type": "display_data"
    }
   ],
   "source": [
    "contradiction = Equals(a, FALSE).derive_contradiction(assumptions=[a, Equals(a, FALSE)])"
   ]
  },
  {
   "cell_type": "code",
   "execution_count": 70,
   "metadata": {},
   "outputs": [
    {
     "data": {
      "text/html": [
       "<table><tr><th>&nbsp;</th><th>step type</th><th>requirements</th><th>statement</th></tr>\n",
       "<tr><td><a name=\"-0x6a04cb3522d53ed9_step0\">0</a></td><td>instantiation</td><td><a href=\"#-0x6a04cb3522d53ed9_step1\">1</a>, <a href=\"#-0x6a04cb3522d53ed9_step2\">2</a>, <a href=\"#-0x6a04cb3522d53ed9_step3\">3</a></td><td><span style=\"font-size:20px;\"><a class=\"ProveItLink\" href=\"../../../__pv_it/common/c06c606ec12678c58933ac85412ecadc2ae28be60/expr.ipynb\"><img src=\"data:image/png;base64,iVBORw0KGgoAAAANSUhEUgAAAAsAAAAJBAMAAAAWSsseAAAAMFBMVEX///8AAAAAAAAAAAAAAAAA\n",
       "AAAAAAAAAAAAAAAAAAAAAAAAAAAAAAAAAAAAAAAAAAAv3aB7AAAAD3RSTlMAIquJdkTvuxBmmd1U\n",
       "zTKBpmoTAAAACXBIWXMAAA7EAAAOxAGVKw4bAAAARUlEQVQI12NgYFR2dGBgYAgTYP/BwMCRycC1\n",
       "gYGB6wMDtwEDA1sBQ38AA0O/A8N8oIr+Awy6PAIM7A48u7iAKlXshPwYAE2lCqdX0eXEAAAAAElF\n",
       "TkSuQmCC\n",
       "\" style=\"display:inline;vertical-align:middle;\" /></a>, <a class=\"ProveItLink\" href=\"../__pv_it/demonstrations/88f743c6bc9df2eb402181acf99f189404fe9aca0/expr.ipynb\"><img src=\"data:image/png;base64,iVBORw0KGgoAAAANSUhEUgAAADYAAAAPBAMAAABdHiGLAAAAMFBMVEX///8AAAAAAAAAAAAAAAAA\n",
       "AAAAAAAAAAAAAAAAAAAAAAAAAAAAAAAAAAAAAAAAAAAv3aB7AAAAD3RSTlMAIquJdkTvuxBmmd1U\n",
       "zTKBpmoTAAAACXBIWXMAAA7EAAAOxAGVKw4bAAAAXklEQVQY02NgIB1E4pE7QjM5RmVHB1xyYQLs\n",
       "P0D06t0gsAlZjiOTgWsDDn1cHxi4DXDIsRUw9AfgkOt3YJjPgMO+/gMMujwC2PWxO/Ds4sJhJoeK\n",
       "nZAfmgTQ+DSg8QDwwyLnxkNiPQAAAABJRU5ErkJggg==\n",
       "\" style=\"display:inline;vertical-align:middle;\" /></a> <a class=\"ProveItLink\" href=\"../__pv_it/demonstrations/c6a8abd5b9e66d3765cd4b9dac7680f6e94ab9420/proof.ipynb\" style=\"text-decoration: none\">&nbsp;&#x22A2;&nbsp;&nbsp;</a><a class=\"ProveItLink\" href=\"../../booleans/__pv_it/common/e0f123f2e4f322e1eba7f861749cda9fd9d99a120/expr.ipynb\"><img src=\"data:image/png;base64,iVBORw0KGgoAAAANSUhEUgAAAA4AAAAPBAMAAAAmOuNHAAAAHlBMVEX///8AAAAAAAAAAAAAAAAA\n",
       "AAAAAAAAAAAAAAAAAACGjDitAAAACXRSTlMARGZUdpnd76sKo+zpAAAACXBIWXMAAA7EAAAOxAGV\n",
       "Kw4bAAAAGElEQVQI12NgQAAhKG1CSzosLa08LS0DAJuOBVCdynDUAAAAAElFTkSuQmCC\n",
       "\" style=\"display:inline;vertical-align:middle;\" /></a></span></td></tr>\n",
       "<tr><td>&nbsp;</td><td colspan=4 style=\"text-align:left\"><span style=\"font-size:20px;\"><a class=\"ProveItLink\" href=\"../../../__pv_it/common/09585084922504426caf1db2ff588a23a0932a960/expr.ipynb\"><img src=\"data:image/png;base64,iVBORw0KGgoAAAANSUhEUgAAAA8AAAAPBAMAAADJ+Ih5AAAAMFBMVEX///8AAAAAAAAAAAAAAAAA\n",
       "AAAAAAAAAAAAAAAAAAAAAAAAAAAAAAAAAAAAAAAAAAAv3aB7AAAAD3RSTlMAIs1UmauJMnZmRLsQ\n",
       "3e++988cAAAACXBIWXMAAA7EAAAOxAGVKw4bAAAAXklEQVQI12NgAAEhBijQh9LM/6EMlngBCCMx\n",
       "vwBMMzb0G0BkGOwngBmLGeoTwAwHBvkAEM2xxSV+A4hxgoGB/wJEhoH3AZDmAupg+gBkyAEx90cG\n",
       "htP/dRiY939KAABt3hLO6mcEjQAAAABJRU5ErkJggg==\n",
       "\" style=\"display:inline;vertical-align:middle;\" /></a> : <a class=\"ProveItLink\" href=\"../../../__pv_it/common/c06c606ec12678c58933ac85412ecadc2ae28be60/expr.ipynb\"><img src=\"data:image/png;base64,iVBORw0KGgoAAAANSUhEUgAAAAsAAAAJBAMAAAAWSsseAAAAMFBMVEX///8AAAAAAAAAAAAAAAAA\n",
       "AAAAAAAAAAAAAAAAAAAAAAAAAAAAAAAAAAAAAAAAAAAv3aB7AAAAD3RSTlMAIquJdkTvuxBmmd1U\n",
       "zTKBpmoTAAAACXBIWXMAAA7EAAAOxAGVKw4bAAAARUlEQVQI12NgYFR2dGBgYAgTYP/BwMCRycC1\n",
       "gYGB6wMDtwEDA1sBQ38AA0O/A8N8oIr+Awy6PAIM7A48u7iAKlXshPwYAE2lCqdX0eXEAAAAAElF\n",
       "TkSuQmCC\n",
       "\" style=\"display:inline;vertical-align:middle;\" /></a></span></td></tr><tr><td><a name=\"-0x6a04cb3522d53ed9_step1\">1</a></td><td>theorem</td><td></td><td><span style=\"font-size:20px;\"> <a class=\"ProveItLink\" href=\"proofs/contradiction_via_falsification/thm_proof.ipynb\" style=\"text-decoration: none\">&nbsp;&#x22A2;&nbsp;&nbsp;</a><a class=\"ProveItLink\" href=\"../__pv_it/theorems/b3cbb552118760d146be2d50fae012905e68c72d0/expr.ipynb\"><img src=\"data:image/png;base64,iVBORw0KGgoAAAANSUhEUgAAAHoAAAAWBAMAAAD9QZX2AAAAMFBMVEX///8AAAAAAAAAAAAAAAAA\n",
       "AAAAAAAAAAAAAAAAAAAAAAAAAAAAAAAAAAAAAAAAAAAv3aB7AAAAD3RSTlMAq1RmmUTNIjK7EInv\n",
       "3XZ/CtNrAAAACXBIWXMAAA7EAAAOxAGVKw4bAAABMUlEQVQ4y2NgoAgIgAhlMjQGgwhXEJFOhm49\n",
       "ENEIxOwTyNXNtoCBgVuBXN3MBkATGMjVzXD27t3T5Ov2YGCYBWYsAJMsMFkuGGMBPt2FDOzgWOM6\n",
       "AeZywmTXNEBNOYHQwYKhm3MBdwCI5v6Eqns/NCih4qiScN1MDyCBFnEORQFrzwMGZHEcuhkS7MDU\n",
       "g0QUBXxsAgzI4rh0b8oCq2ZwQ1HwgCWBASbOMhMIJmPXXQO2JILhDbJu1ga+AwzI4rjsZgQHrvdu\n",
       "+QVIClh2b/zFgCyOqtv37t0zd+9ehHH5GBjqG5AUPGBg/wEXx+pytPzGr4DQzQpMv58YViOJY7gc\n",
       "CbAcZODyT0Uo8BFgWPItoEcBIQ4EO2fOmTnzAd7ki2I8yXkPWTfrAkp0M5Oc8dhJUQwAcx9FrE18\n",
       "oeYAAAAASUVORK5CYII=\n",
       "\" style=\"display:inline;vertical-align:middle;\" /></a></span></td></tr>\n",
       "<tr><td>&nbsp;</td><td colspan=4 style-\"text-align:left\"><a class=\"ProveItLink\" href=\"proofs/contradiction_via_falsification/thm_proof.ipynb\">proveit.logic.equality.contradiction_via_falsification</a></td></tr><tr><td><a name=\"-0x6a04cb3522d53ed9_step2\">2</a></td><td>assumption</td><td></td><td><span style=\"font-size:20px;\"><a class=\"ProveItLink\" href=\"../../../__pv_it/common/c06c606ec12678c58933ac85412ecadc2ae28be60/expr.ipynb\"><img src=\"data:image/png;base64,iVBORw0KGgoAAAANSUhEUgAAAAsAAAAJBAMAAAAWSsseAAAAMFBMVEX///8AAAAAAAAAAAAAAAAA\n",
       "AAAAAAAAAAAAAAAAAAAAAAAAAAAAAAAAAAAAAAAAAAAv3aB7AAAAD3RSTlMAIquJdkTvuxBmmd1U\n",
       "zTKBpmoTAAAACXBIWXMAAA7EAAAOxAGVKw4bAAAARUlEQVQI12NgYFR2dGBgYAgTYP/BwMCRycC1\n",
       "gYGB6wMDtwEDA1sBQ38AA0O/A8N8oIr+Awy6PAIM7A48u7iAKlXshPwYAE2lCqdX0eXEAAAAAElF\n",
       "TkSuQmCC\n",
       "\" style=\"display:inline;vertical-align:middle;\" /></a> <a class=\"ProveItLink\" href=\"../__pv_it/demonstrations/1eece28e150cc7a5adfc34fe43c496c4b870677c0/proof.ipynb\" style=\"text-decoration: none\">&nbsp;&#x22A2;&nbsp;&nbsp;</a><a class=\"ProveItLink\" href=\"../../../__pv_it/common/c06c606ec12678c58933ac85412ecadc2ae28be60/expr.ipynb\"><img src=\"data:image/png;base64,iVBORw0KGgoAAAANSUhEUgAAAAsAAAAJBAMAAAAWSsseAAAAMFBMVEX///8AAAAAAAAAAAAAAAAA\n",
       "AAAAAAAAAAAAAAAAAAAAAAAAAAAAAAAAAAAAAAAAAAAv3aB7AAAAD3RSTlMAIquJdkTvuxBmmd1U\n",
       "zTKBpmoTAAAACXBIWXMAAA7EAAAOxAGVKw4bAAAARUlEQVQI12NgYFR2dGBgYAgTYP/BwMCRycC1\n",
       "gYGB6wMDtwEDA1sBQ38AA0O/A8N8oIr+Awy6PAIM7A48u7iAKlXshPwYAE2lCqdX0eXEAAAAAElF\n",
       "TkSuQmCC\n",
       "\" style=\"display:inline;vertical-align:middle;\" /></a></span></td></tr>\n",
       "<tr><td><a name=\"-0x6a04cb3522d53ed9_step3\">3</a></td><td>assumption</td><td></td><td><span style=\"font-size:20px;\"><a class=\"ProveItLink\" href=\"../__pv_it/demonstrations/88f743c6bc9df2eb402181acf99f189404fe9aca0/expr.ipynb\"><img src=\"data:image/png;base64,iVBORw0KGgoAAAANSUhEUgAAADYAAAAPBAMAAABdHiGLAAAAMFBMVEX///8AAAAAAAAAAAAAAAAA\n",
       "AAAAAAAAAAAAAAAAAAAAAAAAAAAAAAAAAAAAAAAAAAAv3aB7AAAAD3RSTlMAIquJdkTvuxBmmd1U\n",
       "zTKBpmoTAAAACXBIWXMAAA7EAAAOxAGVKw4bAAAAXklEQVQY02NgIB1E4pE7QjM5RmVHB1xyYQLs\n",
       "P0D06t0gsAlZjiOTgWsDDn1cHxi4DXDIsRUw9AfgkOt3YJjPgMO+/gMMujwC2PWxO/Ds4sJhJoeK\n",
       "nZAfmgTQ+DSg8QDwwyLnxkNiPQAAAABJRU5ErkJggg==\n",
       "\" style=\"display:inline;vertical-align:middle;\" /></a> <a class=\"ProveItLink\" href=\"../__pv_it/demonstrations/3314ea1c8e8ab266cce3d77694de1a7e288b29660/proof.ipynb\" style=\"text-decoration: none\">&nbsp;&#x22A2;&nbsp;&nbsp;</a><a class=\"ProveItLink\" href=\"../__pv_it/demonstrations/88f743c6bc9df2eb402181acf99f189404fe9aca0/expr.ipynb\"><img src=\"data:image/png;base64,iVBORw0KGgoAAAANSUhEUgAAADYAAAAPBAMAAABdHiGLAAAAMFBMVEX///8AAAAAAAAAAAAAAAAA\n",
       "AAAAAAAAAAAAAAAAAAAAAAAAAAAAAAAAAAAAAAAAAAAv3aB7AAAAD3RSTlMAIquJdkTvuxBmmd1U\n",
       "zTKBpmoTAAAACXBIWXMAAA7EAAAOxAGVKw4bAAAAXklEQVQY02NgIB1E4pE7QjM5RmVHB1xyYQLs\n",
       "P0D06t0gsAlZjiOTgWsDDn1cHxi4DXDIsRUw9AfgkOt3YJjPgMO+/gMMujwC2PWxO/Ds4sJhJoeK\n",
       "nZAfmgTQ+DSg8QDwwyLnxkNiPQAAAABJRU5ErkJggg==\n",
       "\" style=\"display:inline;vertical-align:middle;\" /></a></span></td></tr>\n",
       "</table>"
      ],
      "text/plain": [
       "\tstep type\trequirements\tstatement\n",
       "0\tinstantiation\t1, 2, 3\t{a, a = FALSE} |- FALSE\n",
       "\tA : a\n",
       "1\ttheorem\t\t|- forall_{A | A, A = FALSE} FALSE\n",
       "\tproveit.logic.equality.contradiction_via_falsification\n",
       "2\tassumption\t\t{a} |- a\n",
       "3\tassumption\t\t{a = FALSE} |- a = FALSE"
      ]
     },
     "metadata": {},
     "output_type": "display_data"
    }
   ],
   "source": [
    "contradiction.proof()"
   ]
  },
  {
   "cell_type": "markdown",
   "metadata": {},
   "source": [
    "Contradictions are useful in making contradiction proofs (reductio ad absurdum).  The `affirm_via_contradiction` and `deny_via_contradiction` methods are useful in making such a proof.  They both use `derive_contradiction`.  For example:"
   ]
  },
  {
   "cell_type": "code",
   "execution_count": 71,
   "metadata": {},
   "outputs": [
    {
     "data": {
      "text/html": [
       "<strong id=\"not_a__truth\">not_a__truth:</strong> <span style=\"font-size:20px;\"><a class=\"ProveItLink\" href=\"../__pv_it/demonstrations/11d061c2eecdd3d6c16574ee1d22b9b19b8a7fd00/expr.ipynb\"><img src=\"data:image/png;base64,iVBORw0KGgoAAAANSUhEUgAAADEAAAAQBAMAAABNQoq8AAAAMFBMVEX///8AAAAAAAAAAAAAAAAA\n",
       "AAAAAAAAAAAAAAAAAAAAAAAAAAAAAAAAAAAAAAAAAAAv3aB7AAAAD3RSTlMAIquJdkTvuxBmmd1U\n",
       "zTKBpmoTAAAACXBIWXMAAA7EAAAOxAGVKw4bAAAAxElEQVQY02NgwADe6fevbQpgwAYKQhhvqGKX\n",
       "iWQwZMclM4cJWYClevdeuAwvkgTrlQaEHsXJQJpR2dEBxJdtQLigZZMBkA4TYP8B4l9E2BN97fcK\n",
       "BgaOTAauDSD+BWQXeMY2MHB9YOAGaeXL3r1793aYDDurAQNbAUM/yMMcBch62BmAwg4M88H8Dagy\n",
       "Fxj6DzDo8ggA+S4oMjwODOwOPLu4QHzeA3CZYAYTK6D5KnZCfiA+h3oERMI3vR4trFnNoaEDAQBh\n",
       "aTMmIhBlfQAAAABJRU5ErkJggg==\n",
       "\" style=\"display:inline;vertical-align:middle;\" /></a>, <a class=\"ProveItLink\" href=\"../__pv_it/demonstrations/0b93b3239e9bab9b8fe45fa90ab75dde7c2e37860/expr.ipynb\"><img src=\"data:image/png;base64,iVBORw0KGgoAAAANSUhEUgAAAHAAAAAVBAMAAABs93eRAAAAMFBMVEX///8AAAAAAAAAAAAAAAAA\n",
       "AAAAAAAAAAAAAAAAAAAAAAAAAAAAAAAAAAAAAAAAAAAv3aB7AAAAD3RSTlMAIquJdkTvuxBmmd1U\n",
       "zTKBpmoTAAAACXBIWXMAAA7EAAAOxAGVKw4bAAABQklEQVQ4y2NgwAEYGfAAfJI++DSyOuCU4jHA\n",
       "pWcCiPTEqbEXp4lgy3gbcMmvxK+RcwGacAWMkYBfI0MGmvBzmPQFAhpvAoNW2RERRpzQMOEC0UIm\n",
       "Ijg1GjEwhAmw/wAp3Q0GvyDSvMCwY01kqG9AyCigaJzLwJHJwLUBycA7YIr7AAND2wSG1ThtPMbA\n",
       "9YGBGznOelNBJFsAA8N6BobNODW+Z2ArYOgPQEpMlwVgGtMZOL7i1BjG0O/AMJ8B4ZO9AjCncnxh\n",
       "4PzAgMuPpxn6DzDo8gjAE1QBhGZ3YOD4w8B04SAuG6cDlfDs4oILy0JpZqD5JQynFyzApXExA4eK\n",
       "nZAfXLgOSvMBA7rJ+aHKA1RdQFdvywa7eiuaeXA372PACxg34JKZhV8j1wRcMuwCeDWK45ThKMCr\n",
       "sRC3lAg+fSwCDAB+SU/jAcqpdAAAAABJRU5ErkJggg==\n",
       "\" style=\"display:inline;vertical-align:middle;\" /></a> <a class=\"ProveItLink\" href=\"../__pv_it/demonstrations/8481b8e532f7731b6638d69bef3a34503c8297c50/proof.ipynb\" style=\"text-decoration: none\">&nbsp;&#x22A2;&nbsp;&nbsp;</a><a class=\"ProveItLink\" href=\"../__pv_it/demonstrations/668a489a3907033c7b365809e4626c07098412430/expr.ipynb\"><img src=\"data:image/png;base64,iVBORw0KGgoAAAANSUhEUgAAABgAAAAJBAMAAADa0/H1AAAAMFBMVEX///8AAAAAAAAAAAAAAAAA\n",
       "AAAAAAAAAAAAAAAAAAAAAAAAAAAAAAAAAAAAAAAAAAAv3aB7AAAAD3RSTlMAmd0iq4l2RO+7EGZU\n",
       "zTK2qsVwAAAACXBIWXMAAA7EAAAOxAGVKw4bAAAATElEQVQI12NggAKTMDMYk4G9mWH+AgYhJSBQ\n",
       "ZFixgUEIpoZBnoFBFc7pZOD6DuNwfWPg/gDlGHL9YWC5cBhm2jSGQwICMM6S1MduDwD95xBsCLeL\n",
       "ZgAAAABJRU5ErkJggg==\n",
       "\" style=\"display:inline;vertical-align:middle;\" /></a></span><br>"
      ],
      "text/plain": [
       "<IPython.core.display.HTML object>"
      ]
     },
     "metadata": {},
     "output_type": "display_data"
    }
   ],
   "source": [
    "from proveit.logic import Implies, in_bool\n",
    "not_a__truth = Equals(a, FALSE).affirm_via_contradiction(\n",
    "    Not(a), assumptions=[Implies(a, Equals(a, FALSE)), in_bool(a)])"
   ]
  },
  {
   "cell_type": "code",
   "execution_count": 72,
   "metadata": {},
   "outputs": [
    {
     "data": {
      "text/plain": [
       "13"
      ]
     },
     "metadata": {},
     "output_type": "display_data"
    }
   ],
   "source": [
    "not_a__truth.proof().num_steps()"
   ]
  },
  {
   "cell_type": "markdown",
   "metadata": {},
   "source": [
    "It is more efficient to use `deny_via_contradiction` when proving the negation of something.  Here we prove the same as above but in fewer steps."
   ]
  },
  {
   "cell_type": "code",
   "execution_count": 73,
   "metadata": {},
   "outputs": [
    {
     "data": {
      "text/html": [
       "<strong id=\"not_b__truth\">not_b__truth:</strong> <span style=\"font-size:20px;\"><a class=\"ProveItLink\" href=\"../__pv_it/demonstrations/d2481da92c85c9919a13496770a6f67bcb7240510/expr.ipynb\"><img src=\"data:image/png;base64,iVBORw0KGgoAAAANSUhEUgAAAC8AAAAQBAMAAAB0JTvnAAAAMFBMVEX///8AAAAAAAAAAAAAAAAA\n",
       "AAAAAAAAAAAAAAAAAAAAAAAAAAAAAAAAAAAAAAAAAAAv3aB7AAAAD3RSTlMAELvv3c2ZVESJq3Yi\n",
       "MmZ3LnoBAAAACXBIWXMAAA7EAAAOxAGVKw4bAAAA0ElEQVQY02NgQAdbjOKDvRoYGBiVHdBkFLp5\n",
       "AlcAadYEdIk+hjlMQJq/AFPiOReQ7heA8LlVXFzhEqxAegpEnCNaAKFjzUsgHbV7OYh7VABhubTX\n",
       "BKCrvgrIHwByYxB2tAR/SWRgYP/IwLwByA1AtnxfqwADWwADP1Ajr4mLi4sTTIKJYwIDywSGfqCD\n",
       "GRWQdTAxKIC8kQ+y1wFVAmjOBUY7EHc3igT7BgauB0zgMGGFB4BCJ8PsaUDDV+aBuYyLGiHiW430\n",
       "waELBxyToEECAQCtUC/2gPaNmgAAAABJRU5ErkJggg==\n",
       "\" style=\"display:inline;vertical-align:middle;\" /></a>, <a class=\"ProveItLink\" href=\"../__pv_it/demonstrations/d6fb610b1d62c142fdae4e9425ed2cabd4bb211e0/expr.ipynb\"><img src=\"data:image/png;base64,iVBORw0KGgoAAAANSUhEUgAAAGwAAAAVBAMAAABRZRb3AAAAMFBMVEX///8AAAAAAAAAAAAAAAAA\n",
       "AAAAAAAAAAAAAAAAAAAAAAAAAAAAAAAAAAAAAAAAAAAv3aB7AAAAD3RSTlMAELvv3c2ZVESJq3Yi\n",
       "MmZ3LnoBAAAACXBIWXMAAA7EAAAOxAGVKw4bAAABV0lEQVQ4y2NgwA54GHADPHLb8Wjj2MDAwKjs\n",
       "gEWGfQKDkAk2HQ9A5D4gZk3AIi0KxGHYjNsAIlkFGBj4C7BI5wHxd5za+IA29QsgRBVhDAOgez7i\n",
       "1MZgyMAwBUn0Ekw2gIGB0wG3tjgGhqjdy+GifBMgNBuQZl29qwCXtlkMjF8F5A8AFbqAwTeILCsw\n",
       "wOQDGf8wwCUWoGh7ysD+kYF5A8K0cDDFArSnXoDBGpdtxQxsAQz8E5BC3gJEMjcwMKQyMPzEpe0+\n",
       "A8sEhn6EH3giD8C0eTJwfMelrRkUbfkCcC+4HoA78jsD20dcfith4L/AaIdIOwoQmgko+5dB+AEu\n",
       "2x4xcD1gQqSuo1CaE2j4OgY1nPGWycC4Mg8hqguleYFRLTUN3TKge51NwO71QJU4AGP4MuADPA44\n",
       "JJ7h1cb2AIcE0wF82g7hkmBUwKdNB6fMaTy6uA8wAABg705l7j9kuwAAAABJRU5ErkJggg==\n",
       "\" style=\"display:inline;vertical-align:middle;\" /></a> <a class=\"ProveItLink\" href=\"../__pv_it/demonstrations/f6f0d7edaf8453f5a43f6997cae7d6a1ba84401a0/proof.ipynb\" style=\"text-decoration: none\">&nbsp;&#x22A2;&nbsp;&nbsp;</a><a class=\"ProveItLink\" href=\"../__pv_it/demonstrations/ab2c97d9f0b1331e2c6e64e8acc997a7156edf490/expr.ipynb\"><img src=\"data:image/png;base64,iVBORw0KGgoAAAANSUhEUgAAABYAAAAOBAMAAADZH/H+AAAAMFBMVEX///8AAAAAAAAAAAAAAAAA\n",
       "AAAAAAAAAAAAAAAAAAAAAAAAAAAAAAAAAAAAAAAAAAAv3aB7AAAAD3RSTlMAmd0iqxC7781URIl2\n",
       "MmYN7zoAAAAACXBIWXMAAA7EAAAOxAGVKw4bAAAAWElEQVQI12NggICwIgYEaERi/0Qwub4i2NwK\n",
       "CDaHz5EJMHZ8K+tnBiElIFBkmB/AUAMRNWGQYGD4DWNrM3D9hLF/MjBCTTVk+MsQ/gBmjh9DItz8\n",
       "kI0PGAD2BxLc2/j9qQAAAABJRU5ErkJggg==\n",
       "\" style=\"display:inline;vertical-align:middle;\" /></a></span><br>"
      ],
      "text/plain": [
       "<IPython.core.display.HTML object>"
      ]
     },
     "metadata": {},
     "output_type": "display_data"
    }
   ],
   "source": [
    "not_b__truth = Equals(b, FALSE).deny_via_contradiction(\n",
    "    b, assumptions=[Implies(b, Equals(b, FALSE)), in_bool(b)])"
   ]
  },
  {
   "cell_type": "code",
   "execution_count": 74,
   "metadata": {},
   "outputs": [
    {
     "data": {
      "text/plain": [
       "9"
      ]
     },
     "metadata": {},
     "output_type": "display_data"
    }
   ],
   "source": [
    "not_b__truth.proof().num_steps()"
   ]
  },
  {
   "cell_type": "code",
   "execution_count": 75,
   "metadata": {},
   "outputs": [
    {
     "data": {
      "text/html": [
       "<table><tr><th>&nbsp;</th><th>step type</th><th>requirements</th><th>statement</th></tr>\n",
       "<tr><td><a name=\"0x8f09495c5a5bf88_step0\">0</a></td><td>instantiation</td><td><a href=\"#0x8f09495c5a5bf88_step1\">1</a>, <a href=\"#0x8f09495c5a5bf88_step2\">2</a>, <a href=\"#0x8f09495c5a5bf88_step3\">3</a></td><td><span style=\"font-size:20px;\"><a class=\"ProveItLink\" href=\"../__pv_it/demonstrations/d2481da92c85c9919a13496770a6f67bcb7240510/expr.ipynb\"><img src=\"data:image/png;base64,iVBORw0KGgoAAAANSUhEUgAAAC8AAAAQBAMAAAB0JTvnAAAAMFBMVEX///8AAAAAAAAAAAAAAAAA\n",
       "AAAAAAAAAAAAAAAAAAAAAAAAAAAAAAAAAAAAAAAAAAAv3aB7AAAAD3RSTlMAELvv3c2ZVESJq3Yi\n",
       "MmZ3LnoBAAAACXBIWXMAAA7EAAAOxAGVKw4bAAAA0ElEQVQY02NgQAdbjOKDvRoYGBiVHdBkFLp5\n",
       "AlcAadYEdIk+hjlMQJq/AFPiOReQ7heA8LlVXFzhEqxAegpEnCNaAKFjzUsgHbV7OYh7VABhubTX\n",
       "BKCrvgrIHwByYxB2tAR/SWRgYP/IwLwByA1AtnxfqwADWwADP1Ajr4mLi4sTTIKJYwIDywSGfqCD\n",
       "GRWQdTAxKIC8kQ+y1wFVAmjOBUY7EHc3igT7BgauB0zgMGGFB4BCJ8PsaUDDV+aBuYyLGiHiW430\n",
       "waELBxyToEECAQCtUC/2gPaNmgAAAABJRU5ErkJggg==\n",
       "\" style=\"display:inline;vertical-align:middle;\" /></a>, <a class=\"ProveItLink\" href=\"../__pv_it/demonstrations/d6fb610b1d62c142fdae4e9425ed2cabd4bb211e0/expr.ipynb\"><img src=\"data:image/png;base64,iVBORw0KGgoAAAANSUhEUgAAAGwAAAAVBAMAAABRZRb3AAAAMFBMVEX///8AAAAAAAAAAAAAAAAA\n",
       "AAAAAAAAAAAAAAAAAAAAAAAAAAAAAAAAAAAAAAAAAAAv3aB7AAAAD3RSTlMAELvv3c2ZVESJq3Yi\n",
       "MmZ3LnoBAAAACXBIWXMAAA7EAAAOxAGVKw4bAAABV0lEQVQ4y2NgwA54GHADPHLb8Wjj2MDAwKjs\n",
       "gEWGfQKDkAk2HQ9A5D4gZk3AIi0KxGHYjNsAIlkFGBj4C7BI5wHxd5za+IA29QsgRBVhDAOgez7i\n",
       "1MZgyMAwBUn0Ekw2gIGB0wG3tjgGhqjdy+GifBMgNBuQZl29qwCXtlkMjF8F5A8AFbqAwTeILCsw\n",
       "wOQDGf8wwCUWoGh7ysD+kYF5A8K0cDDFArSnXoDBGpdtxQxsAQz8E5BC3gJEMjcwMKQyMPzEpe0+\n",
       "A8sEhn6EH3giD8C0eTJwfMelrRkUbfkCcC+4HoA78jsD20dcfith4L/AaIdIOwoQmgko+5dB+AEu\n",
       "2x4xcD1gQqSuo1CaE2j4OgY1nPGWycC4Mg8hqguleYFRLTUN3TKge51NwO71QJU4AGP4MuADPA44\n",
       "JJ7h1cb2AIcE0wF82g7hkmBUwKdNB6fMaTy6uA8wAABg705l7j9kuwAAAABJRU5ErkJggg==\n",
       "\" style=\"display:inline;vertical-align:middle;\" /></a> <a class=\"ProveItLink\" href=\"../__pv_it/demonstrations/f6f0d7edaf8453f5a43f6997cae7d6a1ba84401a0/proof.ipynb\" style=\"text-decoration: none\">&nbsp;&#x22A2;&nbsp;&nbsp;</a><a class=\"ProveItLink\" href=\"../__pv_it/demonstrations/ab2c97d9f0b1331e2c6e64e8acc997a7156edf490/expr.ipynb\"><img src=\"data:image/png;base64,iVBORw0KGgoAAAANSUhEUgAAABYAAAAOBAMAAADZH/H+AAAAMFBMVEX///8AAAAAAAAAAAAAAAAA\n",
       "AAAAAAAAAAAAAAAAAAAAAAAAAAAAAAAAAAAAAAAAAAAv3aB7AAAAD3RSTlMAmd0iqxC7781URIl2\n",
       "MmYN7zoAAAAACXBIWXMAAA7EAAAOxAGVKw4bAAAAWElEQVQI12NggICwIgYEaERi/0Qwub4i2NwK\n",
       "CDaHz5EJMHZ8K+tnBiElIFBkmB/AUAMRNWGQYGD4DWNrM3D9hLF/MjBCTTVk+MsQ/gBmjh9DItz8\n",
       "kI0PGAD2BxLc2/j9qQAAAABJRU5ErkJggg==\n",
       "\" style=\"display:inline;vertical-align:middle;\" /></a></span></td></tr>\n",
       "<tr><td>&nbsp;</td><td colspan=4 style=\"text-align:left\"><span style=\"font-size:20px;\"><a class=\"ProveItLink\" href=\"../../../__pv_it/common/09585084922504426caf1db2ff588a23a0932a960/expr.ipynb\"><img src=\"data:image/png;base64,iVBORw0KGgoAAAANSUhEUgAAAA8AAAAPBAMAAADJ+Ih5AAAAMFBMVEX///8AAAAAAAAAAAAAAAAA\n",
       "AAAAAAAAAAAAAAAAAAAAAAAAAAAAAAAAAAAAAAAAAAAv3aB7AAAAD3RSTlMAIs1UmauJMnZmRLsQ\n",
       "3e++988cAAAACXBIWXMAAA7EAAAOxAGVKw4bAAAAXklEQVQI12NgAAEhBijQh9LM/6EMlngBCCMx\n",
       "vwBMMzb0G0BkGOwngBmLGeoTwAwHBvkAEM2xxSV+A4hxgoGB/wJEhoH3AZDmAupg+gBkyAEx90cG\n",
       "htP/dRiY939KAABt3hLO6mcEjQAAAABJRU5ErkJggg==\n",
       "\" style=\"display:inline;vertical-align:middle;\" /></a> : <a class=\"ProveItLink\" href=\"../../../__pv_it/common/195236b98c6c564a75b5dbada74b173bc52d5c3e0/expr.ipynb\"><img src=\"data:image/png;base64,iVBORw0KGgoAAAANSUhEUgAAAAkAAAAOBAMAAAAPuiubAAAAMFBMVEX///8AAAAAAAAAAAAAAAAA\n",
       "AAAAAAAAAAAAAAAAAAAAAAAAAAAAAAAAAAAAAAAAAAAv3aB7AAAAD3RSTlMAELvv3c2ZVESJq3Yi\n",
       "MmZ3LnoBAAAACXBIWXMAAA7EAAAOxAGVKw4bAAAAT0lEQVQI12NgVHZgAALWBBDJXwAi+wVA5BQQ\n",
       "wRC1ezkDA+NXAfkDDOwfGZg3MLAFMPBPYGCZwNBfAFKeL8DAf4HRjoGB6wET0AjGlXkMDAAVqA7Q\n",
       "GyenWgAAAABJRU5ErkJggg==\n",
       "\" style=\"display:inline;vertical-align:middle;\" /></a></span></td></tr><tr><td><a name=\"0x8f09495c5a5bf88_step1\">1</a></td><td>axiom</td><td></td><td><span style=\"font-size:20px;\"> <a class=\"ProveItLink\" href=\"../../booleans/implication/_theory_nbs_/axioms.ipynb#denial_via_contradiction\" style=\"text-decoration: none\">&nbsp;&#x22A2;&nbsp;&nbsp;</a><a class=\"ProveItLink\" href=\"../../booleans/implication/__pv_it/axioms/15e245c22c3eb4d9b40c738cddd8abe5669ddc9a0/expr.ipynb\"><img src=\"data:image/png;base64,iVBORw0KGgoAAAANSUhEUgAAAJ4AAAAXBAMAAAAIFOtYAAAAMFBMVEX///8AAAAAAAAAAAAAAAAA\n",
       "AAAAAAAAAAAAAAAAAAAAAAAAAAAAAAAAAAAAAAAAAAAv3aB7AAAAD3RSTlMAq1RmmUTNIjK7EInv\n",
       "3XZ/CtNrAAAACXBIWXMAAA7EAAAOxAGVKw4bAAACJUlEQVQ4y6WVPUgcURDH/96pp7t62onVHQQk\n",
       "oOJVgTRhCw0BC0UbCwuDCcEPjCYQEAQ3kNYPQkSehLjY2chpAqIpokVA1IiIlgcLYicoFlqambe3\n",
       "d+/tRSN7A29v5s2935t5M/sWKEJGA3YMRUk8qVofgDIXqGX9USheo2a9pXEKtLH+JgzO6FOtyC09\n",
       "yh185Lxnw/BKU5qVoNOMWoyEmQzDq9Ks9V82PXcRpV3KQx1fg1Za94KD6gf+ZDJ7oXjtWrpo4fRX\n",
       "gRfAgpxyggssX3H+yetXjS7MpOnnCTCGmOwZYydbqKFXx955+lXyPX4kWTkiPcNiyb0nmdIEVDpm\n",
       "J7vNK3pM18/BTb97rPGkJyeVvvLbPzoCxb+0JvjvMxSP65Wj54D2o+SJZy5pPPZw4Km7eStAzSHp\n",
       "vTT6nslp96Xsb+a939R47GGp03lHCo9Srt4ivZnG2qB8GfEchiS4rfu2ymOPKUiGbY33zedZKOOm\n",
       "uyT9KY0JWY4enMtpju/Tmcpjjyc/OlXeav5MJ3j+JttDJXLb9p8JJzogxGc+P1PlscfTxjZV3lQO\n",
       "t3w7iMjiNTXMSe7uASbtirQXnxlXeNIj8xVpLd9qu6AlY4e+1k0FSnqNTbxphed5WL7r9Yhad18R\n",
       "pdswOl5jnLaMjAyJVJ6X9ZBU8PoN8VUI11s0X8AbD15pG2IubwVuMSO4ermAN3/vC/+/WzHmBj8A\n",
       "o0Xxiv18PUT+AqeEhq3dPYtNAAAAAElFTkSuQmCC\n",
       "\" style=\"display:inline;vertical-align:middle;\" /></a></span></td></tr>\n",
       "<tr><td>&nbsp;</td><td colspan=4 style-\"text-align:left\"><a class=\"ProveItLink\" href=\"../../booleans/implication/_theory_nbs_/axioms.ipynb#denial_via_contradiction\">proveit.logic.booleans.implication.denial_via_contradiction</a></td></tr><tr><td><a name=\"0x8f09495c5a5bf88_step2\">2</a></td><td>assumption</td><td></td><td><span style=\"font-size:20px;\"><a class=\"ProveItLink\" href=\"../__pv_it/demonstrations/d2481da92c85c9919a13496770a6f67bcb7240510/expr.ipynb\"><img src=\"data:image/png;base64,iVBORw0KGgoAAAANSUhEUgAAAC8AAAAQBAMAAAB0JTvnAAAAMFBMVEX///8AAAAAAAAAAAAAAAAA\n",
       "AAAAAAAAAAAAAAAAAAAAAAAAAAAAAAAAAAAAAAAAAAAv3aB7AAAAD3RSTlMAELvv3c2ZVESJq3Yi\n",
       "MmZ3LnoBAAAACXBIWXMAAA7EAAAOxAGVKw4bAAAA0ElEQVQY02NgQAdbjOKDvRoYGBiVHdBkFLp5\n",
       "AlcAadYEdIk+hjlMQJq/AFPiOReQ7heA8LlVXFzhEqxAegpEnCNaAKFjzUsgHbV7OYh7VABhubTX\n",
       "BKCrvgrIHwByYxB2tAR/SWRgYP/IwLwByA1AtnxfqwADWwADP1Ajr4mLi4sTTIKJYwIDywSGfqCD\n",
       "GRWQdTAxKIC8kQ+y1wFVAmjOBUY7EHc3igT7BgauB0zgMGGFB4BCJ8PsaUDDV+aBuYyLGiHiW430\n",
       "waELBxyToEECAQCtUC/2gPaNmgAAAABJRU5ErkJggg==\n",
       "\" style=\"display:inline;vertical-align:middle;\" /></a> <a class=\"ProveItLink\" href=\"../__pv_it/demonstrations/6b55984a4de4a212c02e053610167a91be4702110/proof.ipynb\" style=\"text-decoration: none\">&nbsp;&#x22A2;&nbsp;&nbsp;</a><a class=\"ProveItLink\" href=\"../__pv_it/demonstrations/d2481da92c85c9919a13496770a6f67bcb7240510/expr.ipynb\"><img src=\"data:image/png;base64,iVBORw0KGgoAAAANSUhEUgAAAC8AAAAQBAMAAAB0JTvnAAAAMFBMVEX///8AAAAAAAAAAAAAAAAA\n",
       "AAAAAAAAAAAAAAAAAAAAAAAAAAAAAAAAAAAAAAAAAAAv3aB7AAAAD3RSTlMAELvv3c2ZVESJq3Yi\n",
       "MmZ3LnoBAAAACXBIWXMAAA7EAAAOxAGVKw4bAAAA0ElEQVQY02NgQAdbjOKDvRoYGBiVHdBkFLp5\n",
       "AlcAadYEdIk+hjlMQJq/AFPiOReQ7heA8LlVXFzhEqxAegpEnCNaAKFjzUsgHbV7OYh7VABhubTX\n",
       "BKCrvgrIHwByYxB2tAR/SWRgYP/IwLwByA1AtnxfqwADWwADP1Ajr4mLi4sTTIKJYwIDywSGfqCD\n",
       "GRWQdTAxKIC8kQ+y1wFVAmjOBUY7EHc3igT7BgauB0zgMGGFB4BCJ8PsaUDDV+aBuYyLGiHiW430\n",
       "waELBxyToEECAQCtUC/2gPaNmgAAAABJRU5ErkJggg==\n",
       "\" style=\"display:inline;vertical-align:middle;\" /></a></span></td></tr>\n",
       "<tr><td><a name=\"0x8f09495c5a5bf88_step3\">3</a></td><td>deduction</td><td><a href=\"#0x8f09495c5a5bf88_step4\">4</a></td><td><span style=\"font-size:20px;\"><a class=\"ProveItLink\" href=\"../__pv_it/demonstrations/d6fb610b1d62c142fdae4e9425ed2cabd4bb211e0/expr.ipynb\"><img src=\"data:image/png;base64,iVBORw0KGgoAAAANSUhEUgAAAGwAAAAVBAMAAABRZRb3AAAAMFBMVEX///8AAAAAAAAAAAAAAAAA\n",
       "AAAAAAAAAAAAAAAAAAAAAAAAAAAAAAAAAAAAAAAAAAAv3aB7AAAAD3RSTlMAELvv3c2ZVESJq3Yi\n",
       "MmZ3LnoBAAAACXBIWXMAAA7EAAAOxAGVKw4bAAABV0lEQVQ4y2NgwA54GHADPHLb8Wjj2MDAwKjs\n",
       "gEWGfQKDkAk2HQ9A5D4gZk3AIi0KxGHYjNsAIlkFGBj4C7BI5wHxd5za+IA29QsgRBVhDAOgez7i\n",
       "1MZgyMAwBUn0Ekw2gIGB0wG3tjgGhqjdy+GifBMgNBuQZl29qwCXtlkMjF8F5A8AFbqAwTeILCsw\n",
       "wOQDGf8wwCUWoGh7ysD+kYF5A8K0cDDFArSnXoDBGpdtxQxsAQz8E5BC3gJEMjcwMKQyMPzEpe0+\n",
       "A8sEhn6EH3giD8C0eTJwfMelrRkUbfkCcC+4HoA78jsD20dcfith4L/AaIdIOwoQmgko+5dB+AEu\n",
       "2x4xcD1gQqSuo1CaE2j4OgY1nPGWycC4Mg8hqguleYFRLTUN3TKge51NwO71QJU4AGP4MuADPA44\n",
       "JJ7h1cb2AIcE0wF82g7hkmBUwKdNB6fMaTy6uA8wAABg705l7j9kuwAAAABJRU5ErkJggg==\n",
       "\" style=\"display:inline;vertical-align:middle;\" /></a> <a class=\"ProveItLink\" href=\"../__pv_it/demonstrations/82590f352b45421554db7ccaea68c144f5d67ec60/proof.ipynb\" style=\"text-decoration: none\">&nbsp;&#x22A2;&nbsp;&nbsp;</a><a class=\"ProveItLink\" href=\"../__pv_it/demonstrations/4ea03646dc47bd104d565c516acdb4b3afb2d91c0/expr.ipynb\"><img src=\"data:image/png;base64,iVBORw0KGgoAAAANSUhEUgAAADgAAAAQBAMAAACxV6F2AAAAMFBMVEX///8AAAAAAAAAAAAAAAAA\n",
       "AAAAAAAAAAAAAAAAAAAAAAAAAAAAAAAAAAAAAAAAAAAv3aB7AAAAD3RSTlMAELvv3c2ZVESJq3Yi\n",
       "MmZ3LnoBAAAACXBIWXMAAA7EAAAOxAGVKw4bAAAAlklEQVQY02NgwAcYlR2wiveBSdYErJLVYJK/\n",
       "AI9kvwBChEkATXIKknJeBTTJqN3LEbIvUSUZvwrIHwDSKS4g4J+AIsn+kYF5A0JraQGyJFsAA/8E\n",
       "JG8HNyBJskxg6EfyzNE5yDqB3swXgNvpEoNiJ/8FRjuExiZU13I9YEKEH08AmldW5iGF0AUIDbTD\n",
       "2MXFCzVAeVC5AAOlIdBSltOsAAAAAElFTkSuQmCC\n",
       "\" style=\"display:inline;vertical-align:middle;\" /></a></span></td></tr>\n",
       "<tr><td><a name=\"0x8f09495c5a5bf88_step4\">4</a></td><td>instantiation</td><td><a href=\"#0x8f09495c5a5bf88_step5\">5</a>, <a href=\"#0x8f09495c5a5bf88_step8\">8</a>, <a href=\"#0x8f09495c5a5bf88_step6\">6</a></td><td><span style=\"font-size:20px;\"><a class=\"ProveItLink\" href=\"../../../__pv_it/common/195236b98c6c564a75b5dbada74b173bc52d5c3e0/expr.ipynb\"><img src=\"data:image/png;base64,iVBORw0KGgoAAAANSUhEUgAAAAkAAAAOBAMAAAAPuiubAAAAMFBMVEX///8AAAAAAAAAAAAAAAAA\n",
       "AAAAAAAAAAAAAAAAAAAAAAAAAAAAAAAAAAAAAAAAAAAv3aB7AAAAD3RSTlMAELvv3c2ZVESJq3Yi\n",
       "MmZ3LnoBAAAACXBIWXMAAA7EAAAOxAGVKw4bAAAAT0lEQVQI12NgVHZgAALWBBDJXwAi+wVA5BQQ\n",
       "wRC1ezkDA+NXAfkDDOwfGZg3MLAFMPBPYGCZwNBfAFKeL8DAf4HRjoGB6wET0AjGlXkMDAAVqA7Q\n",
       "GyenWgAAAABJRU5ErkJggg==\n",
       "\" style=\"display:inline;vertical-align:middle;\" /></a>, <a class=\"ProveItLink\" href=\"../__pv_it/demonstrations/d6fb610b1d62c142fdae4e9425ed2cabd4bb211e0/expr.ipynb\"><img src=\"data:image/png;base64,iVBORw0KGgoAAAANSUhEUgAAAGwAAAAVBAMAAABRZRb3AAAAMFBMVEX///8AAAAAAAAAAAAAAAAA\n",
       "AAAAAAAAAAAAAAAAAAAAAAAAAAAAAAAAAAAAAAAAAAAv3aB7AAAAD3RSTlMAELvv3c2ZVESJq3Yi\n",
       "MmZ3LnoBAAAACXBIWXMAAA7EAAAOxAGVKw4bAAABV0lEQVQ4y2NgwA54GHADPHLb8Wjj2MDAwKjs\n",
       "gEWGfQKDkAk2HQ9A5D4gZk3AIi0KxGHYjNsAIlkFGBj4C7BI5wHxd5za+IA29QsgRBVhDAOgez7i\n",
       "1MZgyMAwBUn0Ekw2gIGB0wG3tjgGhqjdy+GifBMgNBuQZl29qwCXtlkMjF8F5A8AFbqAwTeILCsw\n",
       "wOQDGf8wwCUWoGh7ysD+kYF5A8K0cDDFArSnXoDBGpdtxQxsAQz8E5BC3gJEMjcwMKQyMPzEpe0+\n",
       "A8sEhn6EH3giD8C0eTJwfMelrRkUbfkCcC+4HoA78jsD20dcfith4L/AaIdIOwoQmgko+5dB+AEu\n",
       "2x4xcD1gQqSuo1CaE2j4OgY1nPGWycC4Mg8hqguleYFRLTUN3TKge51NwO71QJU4AGP4MuADPA44\n",
       "JJ7h1cb2AIcE0wF82g7hkmBUwKdNB6fMaTy6uA8wAABg705l7j9kuwAAAABJRU5ErkJggg==\n",
       "\" style=\"display:inline;vertical-align:middle;\" /></a> <a class=\"ProveItLink\" href=\"../__pv_it/demonstrations/1e584fb370a9dbaa51894ca1b210ad9f64f870320/proof.ipynb\" style=\"text-decoration: none\">&nbsp;&#x22A2;&nbsp;&nbsp;</a><a class=\"ProveItLink\" href=\"../../booleans/__pv_it/common/e0f123f2e4f322e1eba7f861749cda9fd9d99a120/expr.ipynb\"><img src=\"data:image/png;base64,iVBORw0KGgoAAAANSUhEUgAAAA4AAAAPBAMAAAAmOuNHAAAAHlBMVEX///8AAAAAAAAAAAAAAAAA\n",
       "AAAAAAAAAAAAAAAAAACGjDitAAAACXRSTlMARGZUdpnd76sKo+zpAAAACXBIWXMAAA7EAAAOxAGV\n",
       "Kw4bAAAAGElEQVQI12NgQAAhKG1CSzosLa08LS0DAJuOBVCdynDUAAAAAElFTkSuQmCC\n",
       "\" style=\"display:inline;vertical-align:middle;\" /></a></span></td></tr>\n",
       "<tr><td>&nbsp;</td><td colspan=4 style=\"text-align:left\"><span style=\"font-size:20px;\"><a class=\"ProveItLink\" href=\"../../../__pv_it/common/09585084922504426caf1db2ff588a23a0932a960/expr.ipynb\"><img src=\"data:image/png;base64,iVBORw0KGgoAAAANSUhEUgAAAA8AAAAPBAMAAADJ+Ih5AAAAMFBMVEX///8AAAAAAAAAAAAAAAAA\n",
       "AAAAAAAAAAAAAAAAAAAAAAAAAAAAAAAAAAAAAAAAAAAv3aB7AAAAD3RSTlMAIs1UmauJMnZmRLsQ\n",
       "3e++988cAAAACXBIWXMAAA7EAAAOxAGVKw4bAAAAXklEQVQI12NgAAEhBijQh9LM/6EMlngBCCMx\n",
       "vwBMMzb0G0BkGOwngBmLGeoTwAwHBvkAEM2xxSV+A4hxgoGB/wJEhoH3AZDmAupg+gBkyAEx90cG\n",
       "htP/dRiY939KAABt3hLO6mcEjQAAAABJRU5ErkJggg==\n",
       "\" style=\"display:inline;vertical-align:middle;\" /></a> : <a class=\"ProveItLink\" href=\"../../../__pv_it/common/195236b98c6c564a75b5dbada74b173bc52d5c3e0/expr.ipynb\"><img src=\"data:image/png;base64,iVBORw0KGgoAAAANSUhEUgAAAAkAAAAOBAMAAAAPuiubAAAAMFBMVEX///8AAAAAAAAAAAAAAAAA\n",
       "AAAAAAAAAAAAAAAAAAAAAAAAAAAAAAAAAAAAAAAAAAAv3aB7AAAAD3RSTlMAELvv3c2ZVESJq3Yi\n",
       "MmZ3LnoBAAAACXBIWXMAAA7EAAAOxAGVKw4bAAAAT0lEQVQI12NgVHZgAALWBBDJXwAi+wVA5BQQ\n",
       "wRC1ezkDA+NXAfkDDOwfGZg3MLAFMPBPYGCZwNBfAFKeL8DAf4HRjoGB6wET0AjGlXkMDAAVqA7Q\n",
       "GyenWgAAAABJRU5ErkJggg==\n",
       "\" style=\"display:inline;vertical-align:middle;\" /></a></span></td></tr><tr><td><a name=\"0x8f09495c5a5bf88_step5\">5</a></td><td>theorem</td><td></td><td><span style=\"font-size:20px;\"> <a class=\"ProveItLink\" href=\"proofs/contradiction_via_falsification/thm_proof.ipynb\" style=\"text-decoration: none\">&nbsp;&#x22A2;&nbsp;&nbsp;</a><a class=\"ProveItLink\" href=\"../__pv_it/theorems/b3cbb552118760d146be2d50fae012905e68c72d0/expr.ipynb\"><img src=\"data:image/png;base64,iVBORw0KGgoAAAANSUhEUgAAAHoAAAAWBAMAAAD9QZX2AAAAMFBMVEX///8AAAAAAAAAAAAAAAAA\n",
       "AAAAAAAAAAAAAAAAAAAAAAAAAAAAAAAAAAAAAAAAAAAv3aB7AAAAD3RSTlMAq1RmmUTNIjK7EInv\n",
       "3XZ/CtNrAAAACXBIWXMAAA7EAAAOxAGVKw4bAAABMUlEQVQ4y2NgoAgIgAhlMjQGgwhXEJFOhm49\n",
       "ENEIxOwTyNXNtoCBgVuBXN3MBkATGMjVzXD27t3T5Ov2YGCYBWYsAJMsMFkuGGMBPt2FDOzgWOM6\n",
       "AeZywmTXNEBNOYHQwYKhm3MBdwCI5v6Eqns/NCih4qiScN1MDyCBFnEORQFrzwMGZHEcuhkS7MDU\n",
       "g0QUBXxsAgzI4rh0b8oCq2ZwQ1HwgCWBASbOMhMIJmPXXQO2JILhDbJu1ga+AwzI4rjsZgQHrvdu\n",
       "+QVIClh2b/zFgCyOqtv37t0zd+9ehHH5GBjqG5AUPGBg/wEXx+pytPzGr4DQzQpMv58YViOJY7gc\n",
       "CbAcZODyT0Uo8BFgWPItoEcBIQ4EO2fOmTnzAd7ki2I8yXkPWTfrAkp0M5Oc8dhJUQwAcx9FrE18\n",
       "oeYAAAAASUVORK5CYII=\n",
       "\" style=\"display:inline;vertical-align:middle;\" /></a></span></td></tr>\n",
       "<tr><td>&nbsp;</td><td colspan=4 style-\"text-align:left\"><a class=\"ProveItLink\" href=\"proofs/contradiction_via_falsification/thm_proof.ipynb\">proveit.logic.equality.contradiction_via_falsification</a></td></tr><tr><td><a name=\"0x8f09495c5a5bf88_step6\">6</a></td><td>modus ponens</td><td><a href=\"#0x8f09495c5a5bf88_step7\">7</a>, <a href=\"#0x8f09495c5a5bf88_step8\">8</a></td><td><span style=\"font-size:20px;\"><a class=\"ProveItLink\" href=\"../__pv_it/demonstrations/d6fb610b1d62c142fdae4e9425ed2cabd4bb211e0/expr.ipynb\"><img src=\"data:image/png;base64,iVBORw0KGgoAAAANSUhEUgAAAGwAAAAVBAMAAABRZRb3AAAAMFBMVEX///8AAAAAAAAAAAAAAAAA\n",
       "AAAAAAAAAAAAAAAAAAAAAAAAAAAAAAAAAAAAAAAAAAAv3aB7AAAAD3RSTlMAELvv3c2ZVESJq3Yi\n",
       "MmZ3LnoBAAAACXBIWXMAAA7EAAAOxAGVKw4bAAABV0lEQVQ4y2NgwA54GHADPHLb8Wjj2MDAwKjs\n",
       "gEWGfQKDkAk2HQ9A5D4gZk3AIi0KxGHYjNsAIlkFGBj4C7BI5wHxd5za+IA29QsgRBVhDAOgez7i\n",
       "1MZgyMAwBUn0Ekw2gIGB0wG3tjgGhqjdy+GifBMgNBuQZl29qwCXtlkMjF8F5A8AFbqAwTeILCsw\n",
       "wOQDGf8wwCUWoGh7ysD+kYF5A8K0cDDFArSnXoDBGpdtxQxsAQz8E5BC3gJEMjcwMKQyMPzEpe0+\n",
       "A8sEhn6EH3giD8C0eTJwfMelrRkUbfkCcC+4HoA78jsD20dcfith4L/AaIdIOwoQmgko+5dB+AEu\n",
       "2x4xcD1gQqSuo1CaE2j4OgY1nPGWycC4Mg8hqguleYFRLTUN3TKge51NwO71QJU4AGP4MuADPA44\n",
       "JJ7h1cb2AIcE0wF82g7hkmBUwKdNB6fMaTy6uA8wAABg705l7j9kuwAAAABJRU5ErkJggg==\n",
       "\" style=\"display:inline;vertical-align:middle;\" /></a>, <a class=\"ProveItLink\" href=\"../../../__pv_it/common/195236b98c6c564a75b5dbada74b173bc52d5c3e0/expr.ipynb\"><img src=\"data:image/png;base64,iVBORw0KGgoAAAANSUhEUgAAAAkAAAAOBAMAAAAPuiubAAAAMFBMVEX///8AAAAAAAAAAAAAAAAA\n",
       "AAAAAAAAAAAAAAAAAAAAAAAAAAAAAAAAAAAAAAAAAAAv3aB7AAAAD3RSTlMAELvv3c2ZVESJq3Yi\n",
       "MmZ3LnoBAAAACXBIWXMAAA7EAAAOxAGVKw4bAAAAT0lEQVQI12NgVHZgAALWBBDJXwAi+wVA5BQQ\n",
       "wRC1ezkDA+NXAfkDDOwfGZg3MLAFMPBPYGCZwNBfAFKeL8DAf4HRjoGB6wET0AjGlXkMDAAVqA7Q\n",
       "GyenWgAAAABJRU5ErkJggg==\n",
       "\" style=\"display:inline;vertical-align:middle;\" /></a> <a class=\"ProveItLink\" href=\"../__pv_it/demonstrations/b79bec74c021d7f93276070cf8d40afbade087110/proof.ipynb\" style=\"text-decoration: none\">&nbsp;&#x22A2;&nbsp;&nbsp;</a><a class=\"ProveItLink\" href=\"../__pv_it/demonstrations/d3ba0c2bc590d3c75c019989942ec347db1d88970/expr.ipynb\"><img src=\"data:image/png;base64,iVBORw0KGgoAAAANSUhEUgAAADQAAAAPBAMAAABZ6/G2AAAAMFBMVEX///8AAAAAAAAAAAAAAAAA\n",
       "AAAAAAAAAAAAAAAAAAAAAAAAAAAAAAAAAAAAAAAAAAAv3aB7AAAAD3RSTlMAELvv3c2ZVESJq3Yi\n",
       "MmZ3LnoBAAAACXBIWXMAAA7EAAAOxAGVKw4bAAAAbElEQVQY02NgwA0YlR2wiPaBSdYELFLVYJK/\n",
       "AKdUvwBOqSkMOKWidi/HIcX4VUD+AJBOcQEBL2Qp9o8MzBuw62ILYOCfgF2KZQJDfwF2KaC38gWw\n",
       "28V/gdEOhwu5HjAl4HL8yjx0caDZxkCzAS9qGxcB/6W2AAAAAElFTkSuQmCC\n",
       "\" style=\"display:inline;vertical-align:middle;\" /></a></span></td></tr>\n",
       "<tr><td><a name=\"0x8f09495c5a5bf88_step7\">7</a></td><td>assumption</td><td></td><td><span style=\"font-size:20px;\"><a class=\"ProveItLink\" href=\"../__pv_it/demonstrations/d6fb610b1d62c142fdae4e9425ed2cabd4bb211e0/expr.ipynb\"><img src=\"data:image/png;base64,iVBORw0KGgoAAAANSUhEUgAAAGwAAAAVBAMAAABRZRb3AAAAMFBMVEX///8AAAAAAAAAAAAAAAAA\n",
       "AAAAAAAAAAAAAAAAAAAAAAAAAAAAAAAAAAAAAAAAAAAv3aB7AAAAD3RSTlMAELvv3c2ZVESJq3Yi\n",
       "MmZ3LnoBAAAACXBIWXMAAA7EAAAOxAGVKw4bAAABV0lEQVQ4y2NgwA54GHADPHLb8Wjj2MDAwKjs\n",
       "gEWGfQKDkAk2HQ9A5D4gZk3AIi0KxGHYjNsAIlkFGBj4C7BI5wHxd5za+IA29QsgRBVhDAOgez7i\n",
       "1MZgyMAwBUn0Ekw2gIGB0wG3tjgGhqjdy+GifBMgNBuQZl29qwCXtlkMjF8F5A8AFbqAwTeILCsw\n",
       "wOQDGf8wwCUWoGh7ysD+kYF5A8K0cDDFArSnXoDBGpdtxQxsAQz8E5BC3gJEMjcwMKQyMPzEpe0+\n",
       "A8sEhn6EH3giD8C0eTJwfMelrRkUbfkCcC+4HoA78jsD20dcfith4L/AaIdIOwoQmgko+5dB+AEu\n",
       "2x4xcD1gQqSuo1CaE2j4OgY1nPGWycC4Mg8hqguleYFRLTUN3TKge51NwO71QJU4AGP4MuADPA44\n",
       "JJ7h1cb2AIcE0wF82g7hkmBUwKdNB6fMaTy6uA8wAABg705l7j9kuwAAAABJRU5ErkJggg==\n",
       "\" style=\"display:inline;vertical-align:middle;\" /></a> <a class=\"ProveItLink\" href=\"../__pv_it/demonstrations/4d83d9e7bd1abf3d75b0fec21a6a286c438bc31e0/proof.ipynb\" style=\"text-decoration: none\">&nbsp;&#x22A2;&nbsp;&nbsp;</a><a class=\"ProveItLink\" href=\"../__pv_it/demonstrations/d6fb610b1d62c142fdae4e9425ed2cabd4bb211e0/expr.ipynb\"><img src=\"data:image/png;base64,iVBORw0KGgoAAAANSUhEUgAAAGwAAAAVBAMAAABRZRb3AAAAMFBMVEX///8AAAAAAAAAAAAAAAAA\n",
       "AAAAAAAAAAAAAAAAAAAAAAAAAAAAAAAAAAAAAAAAAAAv3aB7AAAAD3RSTlMAELvv3c2ZVESJq3Yi\n",
       "MmZ3LnoBAAAACXBIWXMAAA7EAAAOxAGVKw4bAAABV0lEQVQ4y2NgwA54GHADPHLb8Wjj2MDAwKjs\n",
       "gEWGfQKDkAk2HQ9A5D4gZk3AIi0KxGHYjNsAIlkFGBj4C7BI5wHxd5za+IA29QsgRBVhDAOgez7i\n",
       "1MZgyMAwBUn0Ekw2gIGB0wG3tjgGhqjdy+GifBMgNBuQZl29qwCXtlkMjF8F5A8AFbqAwTeILCsw\n",
       "wOQDGf8wwCUWoGh7ysD+kYF5A8K0cDDFArSnXoDBGpdtxQxsAQz8E5BC3gJEMjcwMKQyMPzEpe0+\n",
       "A8sEhn6EH3giD8C0eTJwfMelrRkUbfkCcC+4HoA78jsD20dcfith4L/AaIdIOwoQmgko+5dB+AEu\n",
       "2x4xcD1gQqSuo1CaE2j4OgY1nPGWycC4Mg8hqguleYFRLTUN3TKge51NwO71QJU4AGP4MuADPA44\n",
       "JJ7h1cb2AIcE0wF82g7hkmBUwKdNB6fMaTy6uA8wAABg705l7j9kuwAAAABJRU5ErkJggg==\n",
       "\" style=\"display:inline;vertical-align:middle;\" /></a></span></td></tr>\n",
       "<tr><td><a name=\"0x8f09495c5a5bf88_step8\">8</a></td><td>assumption</td><td></td><td><span style=\"font-size:20px;\"><a class=\"ProveItLink\" href=\"../../../__pv_it/common/195236b98c6c564a75b5dbada74b173bc52d5c3e0/expr.ipynb\"><img src=\"data:image/png;base64,iVBORw0KGgoAAAANSUhEUgAAAAkAAAAOBAMAAAAPuiubAAAAMFBMVEX///8AAAAAAAAAAAAAAAAA\n",
       "AAAAAAAAAAAAAAAAAAAAAAAAAAAAAAAAAAAAAAAAAAAv3aB7AAAAD3RSTlMAELvv3c2ZVESJq3Yi\n",
       "MmZ3LnoBAAAACXBIWXMAAA7EAAAOxAGVKw4bAAAAT0lEQVQI12NgVHZgAALWBBDJXwAi+wVA5BQQ\n",
       "wRC1ezkDA+NXAfkDDOwfGZg3MLAFMPBPYGCZwNBfAFKeL8DAf4HRjoGB6wET0AjGlXkMDAAVqA7Q\n",
       "GyenWgAAAABJRU5ErkJggg==\n",
       "\" style=\"display:inline;vertical-align:middle;\" /></a> <a class=\"ProveItLink\" href=\"../__pv_it/demonstrations/fb80b87ac4513fee2d0ebc85a0630bcb52c436cb0/proof.ipynb\" style=\"text-decoration: none\">&nbsp;&#x22A2;&nbsp;&nbsp;</a><a class=\"ProveItLink\" href=\"../../../__pv_it/common/195236b98c6c564a75b5dbada74b173bc52d5c3e0/expr.ipynb\"><img src=\"data:image/png;base64,iVBORw0KGgoAAAANSUhEUgAAAAkAAAAOBAMAAAAPuiubAAAAMFBMVEX///8AAAAAAAAAAAAAAAAA\n",
       "AAAAAAAAAAAAAAAAAAAAAAAAAAAAAAAAAAAAAAAAAAAv3aB7AAAAD3RSTlMAELvv3c2ZVESJq3Yi\n",
       "MmZ3LnoBAAAACXBIWXMAAA7EAAAOxAGVKw4bAAAAT0lEQVQI12NgVHZgAALWBBDJXwAi+wVA5BQQ\n",
       "wRC1ezkDA+NXAfkDDOwfGZg3MLAFMPBPYGCZwNBfAFKeL8DAf4HRjoGB6wET0AjGlXkMDAAVqA7Q\n",
       "GyenWgAAAABJRU5ErkJggg==\n",
       "\" style=\"display:inline;vertical-align:middle;\" /></a></span></td></tr>\n",
       "</table>"
      ],
      "text/plain": [
       "\tstep type\trequirements\tstatement\n",
       "0\tinstantiation\t1, 2, 3\t{b in BOOLEAN, b => (b = FALSE)} |- [not](b)\n",
       "\tA : b\n",
       "1\taxiom\t\t|- forall_{A in BOOLEAN | A => FALSE} [not](A)\n",
       "\tproveit.logic.booleans.implication.denial_via_contradiction\n",
       "2\tassumption\t\t{b in BOOLEAN} |- b in BOOLEAN\n",
       "3\tdeduction\t4\t{b => (b = FALSE)} |- b => FALSE\n",
       "4\tinstantiation\t5, 8, 6\t{b, b => (b = FALSE)} |- FALSE\n",
       "\tA : b\n",
       "5\ttheorem\t\t|- forall_{A | A, A = FALSE} FALSE\n",
       "\tproveit.logic.equality.contradiction_via_falsification\n",
       "6\tmodus ponens\t7, 8\t{b => (b = FALSE), b} |- b = FALSE\n",
       "7\tassumption\t\t{b => (b = FALSE)} |- b => (b = FALSE)\n",
       "8\tassumption\t\t{b} |- b"
      ]
     },
     "metadata": {},
     "output_type": "display_data"
    }
   ],
   "source": [
    "not_b__truth.proof()"
   ]
  },
  {
   "cell_type": "markdown",
   "metadata": {},
   "source": [
    "## Equality and sets"
   ]
  },
  {
   "cell_type": "markdown",
   "metadata": {},
   "source": [
    "All equality expressions are in the boolean set by the `equality_in_bool` axiom.  That is, given any two mathematical objects, they are either equal or not (even nonsense is either the same nonsense or different nonsense)."
   ]
  },
  {
   "cell_type": "code",
   "execution_count": 76,
   "metadata": {},
   "outputs": [
    {
     "data": {
      "text/html": [
       "<strong id=\"eq_in_bool\">eq_in_bool:</strong> <span style=\"font-size:20px;\"> <a class=\"ProveItLink\" href=\"../__pv_it/demonstrations/7c3e2f61bb71cffc1d97e65a90599a33a79d6c010/proof.ipynb\" style=\"text-decoration: none\">&nbsp;&#x22A2;&nbsp;&nbsp;</a><a class=\"ProveItLink\" href=\"../__pv_it/demonstrations/033fc51a41b55da4623b2084adb676005c9eace70/expr.ipynb\"><img src=\"data:image/png;base64,iVBORw0KGgoAAAANSUhEUgAAAGQAAAAVBAMAAABCslYDAAAAMFBMVEX///8AAAAAAAAAAAAAAAAA\n",
       "AAAAAAAAAAAAAAAAAAAAAAAAAAAAAAAAAAAAAAAAAAAv3aB7AAAAD3RSTlMAInZUiRDNmWbv3US7\n",
       "qzJazP2FAAAACXBIWXMAAA7EAAAOxAGVKw4bAAABi0lEQVQ4y2NgYBBgwAEYcUkwGeCS4VZAU7ny\n",
       "2LdZt4EME6zKY2YBCQ00QR5uBbHYDQysCditSAditgB0LQ0sAgcY2Buwa/kMxBwFGFo4DC4wcOLw\n",
       "x1cQORXqiVOrlsG1JDCYYdfCsgBEZkC0JwXAbeGVcGAoAYXmFUW0wGFgu6QLDElfMFssAO4wVa0r\n",
       "EIN2CvCA3VG1CgTWgpjxqawfGRjawCoTEX5ZNn95AMNiBgbWGQzsC9BssQ9gmMTAYAlmJyB5n6k7\n",
       "lWE2AwP7BwYuBzQtZQwMXxgY3oOYfLOAVq+BamE4sAWkhfMAQ/wGNC1LGLiBwbwTxGQ9gGQLwwEe\n",
       "kMPiFRj6GdD88pmBHeg9K7DwAhQtbAyHgFoMGK4xoyXOfwyRwDjuAbOVULQYgcKRR4F5OTuaw24w\n",
       "HAeSJZAAN4BrcWBRKWB4BXTsJT9ZPTQtse6ghLQazGa9sxWSCDLPgFMy1wMGnIAR6gtuH0iCgQL0\n",
       "pIcMcCXZg7i1yOAQj8GtBZdpjAo4szj2UgEAuUdfr/AUfAMAAAAASUVORK5CYII=\n",
       "\" style=\"display:inline;vertical-align:middle;\" /></a></span><br>"
      ],
      "text/plain": [
       "<IPython.core.display.HTML object>"
      ]
     },
     "metadata": {},
     "output_type": "display_data"
    }
   ],
   "source": [
    "eq_in_bool = Equals(a, b).deduce_in_bool()"
   ]
  },
  {
   "cell_type": "markdown",
   "metadata": {},
   "source": [
    "A singleton is a set with one element.  If $x=c$, then $x$ is in the singleton set of $\\{c\\}$:"
   ]
  },
  {
   "cell_type": "code",
   "execution_count": 77,
   "metadata": {},
   "outputs": [
    {
     "data": {
      "text/html": [
       "<strong id=\"in_singleton_truth\">in_singleton_truth:</strong> <span style=\"font-size:20px;\"><a class=\"ProveItLink\" href=\"../__pv_it/demonstrations/cb55da81f4efa427cdb39b0d17da0b0f8df14b740/expr.ipynb\"><img src=\"data:image/png;base64,iVBORw0KGgoAAAANSUhEUgAAADEAAAAJBAMAAABpm9nvAAAAMFBMVEX///8AAAAAAAAAAAAAAAAA\n",
       "AAAAAAAAAAAAAAAAAAAAAAAAAAAAAAAAAAAAAAAAAAAv3aB7AAAAD3RSTlMAEHarMolUmd1mIs3v\n",
       "RLtmgJDEAAAACXBIWXMAAA7EAAAOxAGVKw4bAAAAdUlEQVQI12NgEFIWCU1gQANBmg4MDAVMRuwN\n",
       "QA57BxgYgCRWJLA/YOBcwPmReQKallYGHgUGFgb2DehmsX+E0EBpNMDzAELfX8AogGqPPFit3AUb\n",
       "BlY0PfxAey8w5DvWMFxDt+cBA6sDg7gSWyWGd0JnKjIAAPTJGxa+1UGEAAAAAElFTkSuQmCC\n",
       "\" style=\"display:inline;vertical-align:middle;\" /></a> <a class=\"ProveItLink\" href=\"../__pv_it/demonstrations/5dc20e18441252a396063318f995a90306aad48b0/proof.ipynb\" style=\"text-decoration: none\">&nbsp;&#x22A2;&nbsp;&nbsp;</a><a class=\"ProveItLink\" href=\"../__pv_it/demonstrations/87da7e709847fe00af8e32ab8a12b5e37f9863240/expr.ipynb\"><img src=\"data:image/png;base64,iVBORw0KGgoAAAANSUhEUgAAAEIAAAAVBAMAAAAA8SWUAAAAMFBMVEX///8AAAAAAAAAAAAAAAAA\n",
       "AAAAAAAAAAAAAAAAAAAAAAAAAAAAAAAAAAAAAAAAAAAv3aB7AAAAD3RSTlMAEHarMolUmd1mIs3v\n",
       "RLtmgJDEAAAACXBIWXMAAA7EAAAOxAGVKw4bAAAA/UlEQVQoz2NgwAYY70LoZQsYcADtixCaxU4A\n",
       "uwK2jzAWnwF2FawNmCwiVTC96OjGq4J3kwB2M4SURUITQLzVAqg6gzQdIKwCJiN2sMguuGnsG4DE\n",
       "igT2BwxMBxgYOBdwfmSeABLfAFexBsRvZeBRYOD6BgwUiA4g40RHR0cfiLV4L8gcSJgIbwMSQKXg\n",
       "kH4AM4KlDugiHgg3+gKQuL+AEexGhMdAISmvAAtduQs2DKxgcSWUEOMHuuUCAyvQpfmONQzXwOLc\n",
       "CcgqgB5hhfhWXImtEiLFaHcROTxCZypihDpvHIFQJyVuQSGJFLpYACgkIUBmAo5UuNwMQi8F0gAv\n",
       "dz2fvomrfQAAAABJRU5ErkJggg==\n",
       "\" style=\"display:inline;vertical-align:middle;\" /></a></span><br>"
      ],
      "text/plain": [
       "<IPython.core.display.HTML object>"
      ]
     },
     "metadata": {},
     "output_type": "display_data"
    }
   ],
   "source": [
    "in_singleton_truth = Equals(x, c).derive_is_in_singleton(assumptions=[Equals(x, c)])"
   ]
  },
  {
   "cell_type": "markdown",
   "metadata": {},
   "source": [
    "## Not equals\n",
    "\n",
    "The `NotEquals` operation is a more way of expressing that two mathematical objects are not equal to each other."
   ]
  },
  {
   "cell_type": "code",
   "execution_count": 78,
   "metadata": {},
   "outputs": [],
   "source": [
    "from proveit.logic import NotEquals"
   ]
  },
  {
   "cell_type": "code",
   "execution_count": 79,
   "metadata": {},
   "outputs": [
    {
     "data": {
      "text/html": [
       "<strong id=\"a_neq_b\">a_neq_b:</strong> <a class=\"ProveItLink\" href=\"../../../numbers/ordering/__pv_it/theorems/ef097190be07bfef385d06d66c6c1568183e809c0/expr.ipynb\"><img src=\"data:image/png;base64,iVBORw0KGgoAAAANSUhEUgAAADAAAAAUCAMAAAD84U6VAAAAPFBMVEX///8AAAAAAAAAAAAAAAAA\n",
       "AAAAAAAAAAAAAAAAAAAAAAAAAAAAAAAAAAAAAAAAAAAAAAAAAAAAAAAAAAAo1xBWAAAAE3RSTlMA\n",
       "IquJdkTvuxBmmd1UzTLn9enzF+Xi+wAAAAlwSFlzAAAOxAAADsQBlSsOGwAAAMpJREFUKM+VktkS\n",
       "wyAIRRV3XLrw//9aNNMmJqmOPDiiwOGiQowMvViy4va9dzZOE1w5ehmnAOhcSlOAPHqGZoJMD1C7\n",
       "BAlKS31JyLJ3QWtoXRnLN24HYmz2eNb1R/GUPS8c6m1oURNAahUtN4JU/ajOCk5DxNwmxWHWNaAZ\n",
       "A7aKhkfrqcoNdKhVe3+9NyXQvQJS1VF3kEXqSubz0Kl85TompIii6zldvgFwrGunHrQqEnQZAjhM\n",
       "Yfj7yEmtfesbwNjCKiAuAkQZ3H0AP6IGQkFa83wAAAAASUVORK5CYII=\n",
       "\" style=\"display:inline;vertical-align:middle;\" /></a><br>"
      ],
      "text/plain": [
       "<IPython.core.display.HTML object>"
      ]
     },
     "metadata": {},
     "output_type": "display_data"
    }
   ],
   "source": [
    "a_neq_b = NotEquals(a, b)"
   ]
  },
  {
   "cell_type": "code",
   "execution_count": 80,
   "metadata": {},
   "outputs": [
    {
     "data": {
      "text/html": [
       "<span style=\"font-size:20px;\"> <a class=\"ProveItLink\" href=\"../__pv_it/demonstrations/ca573c0c78804a4ed3cdaa3fe3d4719d74daab450/proof.ipynb\" style=\"text-decoration: none\">&nbsp;&#x22A2;&nbsp;&nbsp;</a><a class=\"ProveItLink\" href=\"../__pv_it/demonstrations/cd0abaf533947e4d401466f673ccdc1526a761d70/expr.ipynb\"><img src=\"data:image/png;base64,iVBORw0KGgoAAAANSUhEUgAAALkAAAAVCAMAAAAtrb/7AAAAPFBMVEX///8AAAAAAAAAAAAAAAAA\n",
       "AAAAAAAAAAAAAAAAAAAAAAAAAAAAAAAAAAAAAAAAAAAAAAAAAAAAAAAAAAAo1xBWAAAAE3RSTlMA\n",
       "InZUiRDNmWbv3US7qzLn9enz+YF6hwAAAAlwSFlzAAAOxAAADsQBlSsOGwAAAhBJREFUSMell+2C\n",
       "oyAMRRVE5HN2l/d/140gViUhOOXH3HYCOTEJSKcJxjy9HvPXE7+AnkuF7C/Qqv2fE2Mw0jcHxUaF\n",
       "VpVLf370n8/KG3uQtxEW6ZuDXkcLLapWZqGP12+rrh/UAHN9a8BHA82qmeTFcPuaapU3zRNJ33p7\n",
       "FXkDzWq4lN+2kktnqg2fdPPagPd3CwWVTN3cPeWL/ZSQzRvpW75rFgQKqs+tModFzM2Rsd5PrzUI\n",
       "EUrtlsA2y8IZcGYTQwsFPTPnDMToz7pom8fPn/3vGaNKsDdUyk+zfRJ3TC4j8FWphgeT8INBQe3R\n",
       "/MpseWk/5TJTTM6SZJv18H2JR98MBLPpLQQKatzxuCm7fNTXPQ4QnR855VkxsRvUPV+C4WbAmW1v\n",
       "IVDQ6t34XBfXTXmhuHJIOfNt5DizLR0CBa2FS3sxtnRv3b//Hi2Xl+vSmNJyfW4lEXkxNEzCDwYF\n",
       "9eKIfDeHdZLXLDfvyRRrdwLSczn3z1Nj1lcDzkTeQwgUtB4zuzMJO+ja2LJ5TQZY7zVz5n3O4dA3\n",
       "YExkYFDQeKRfBbHEOYjYSznMWs4Xt+X68/RNGTAmdslBoLva+PqiVyrPHWZTx7eN069GhWalb079\n",
       "2+DIpYn0PXJd60GLemJ/bP2U+xES5Zs2TCPQQxURg1W/iunxo+CtYSgRVYkrT7cVxWDOyOvULN4H\n",
       "XqFZ/wOEyRMkES4NSAAAAABJRU5ErkJggg==\n",
       "\" style=\"display:inline;vertical-align:middle;\" /></a></span>"
      ],
      "text/plain": [
       "|- (a != b) = [not](a = b)"
      ]
     },
     "metadata": {},
     "output_type": "display_data"
    }
   ],
   "source": [
    "a_neq_b.definition()"
   ]
  },
  {
   "cell_type": "markdown",
   "metadata": {},
   "source": [
    "From $\\lnot (a = b)$ one can derive $a \\neq b$ and vice-versa, folding and unfolding the `NotEquals`."
   ]
  },
  {
   "cell_type": "code",
   "execution_count": 81,
   "metadata": {},
   "outputs": [
    {
     "data": {
      "text/html": [
       "<span style=\"font-size:20px;\"><a class=\"ProveItLink\" href=\"../__pv_it/demonstrations/c6a01eaf7915e05437c1f9e3fded1d22be410a280/expr.ipynb\"><img src=\"data:image/png;base64,iVBORw0KGgoAAAANSUhEUgAAAE4AAAAVBAMAAAAazcUaAAAAMFBMVEX///8AAAAAAAAAAAAAAAAA\n",
       "AAAAAAAAAAAAAAAAAAAAAAAAAAAAAAAAAAAAAAAAAAAv3aB7AAAAD3RSTlMAmd0iq3ZUiRDNZu9E\n",
       "uzLWhN+VAAAACXBIWXMAAA7EAAAOxAGVKw4bAAABIElEQVQoz2NgQABmBhwATSIMlzqeAGQeWwE2\n",
       "Nb2bgEQUskgndsMmAjFnA5KAFHZ134CYSwBJYAN2t/0AkTuQnDcBqzp2BRA5CyHACPKGSakpmjpO\n",
       "15AEBoYSJIEFQEs2M9wHOVlICQRUQML9Mzg+MzCshAgpAgWYgNq6FzAIoZmX38CwlYEhG8IxAWLu\n",
       "AwwM8gwM6mjqJBkYvjMwvEdVt5eB4w+aOnUGHmDInEaoA9rL8ZWB6wMDqvu+MTACQyYJos4QiHkD\n",
       "GDi+MbBMSEY17x/I0QxrkQLKgYHhKkOSgACqOi+Gi0BSHCHABwzQlvDHrg9Q1bUUAo1j0EES0WPA\n",
       "CZgVkDgLcatjXIDE4TXAqc4WmcNxAae6yyg8U1zKWA0YAJTJNcv3rHVJAAAAAElFTkSuQmCC\n",
       "\" style=\"display:inline;vertical-align:middle;\" /></a> <a class=\"ProveItLink\" href=\"../__pv_it/demonstrations/790a7679fa5602cf94b6b7909d64de6767c3b1dc0/proof.ipynb\" style=\"text-decoration: none\">&nbsp;&#x22A2;&nbsp;&nbsp;</a><a class=\"ProveItLink\" href=\"../../../numbers/ordering/__pv_it/theorems/ef097190be07bfef385d06d66c6c1568183e809c0/expr.ipynb\"><img src=\"data:image/png;base64,iVBORw0KGgoAAAANSUhEUgAAADAAAAAUCAMAAAD84U6VAAAAPFBMVEX///8AAAAAAAAAAAAAAAAA\n",
       "AAAAAAAAAAAAAAAAAAAAAAAAAAAAAAAAAAAAAAAAAAAAAAAAAAAAAAAAAAAo1xBWAAAAE3RSTlMA\n",
       "IquJdkTvuxBmmd1UzTLn9enzF+Xi+wAAAAlwSFlzAAAOxAAADsQBlSsOGwAAAMpJREFUKM+VktkS\n",
       "wyAIRRV3XLrw//9aNNMmJqmOPDiiwOGiQowMvViy4va9dzZOE1w5ehmnAOhcSlOAPHqGZoJMD1C7\n",
       "BAlKS31JyLJ3QWtoXRnLN24HYmz2eNb1R/GUPS8c6m1oURNAahUtN4JU/ajOCk5DxNwmxWHWNaAZ\n",
       "A7aKhkfrqcoNdKhVe3+9NyXQvQJS1VF3kEXqSubz0Kl85TompIii6zldvgFwrGunHrQqEnQZAjhM\n",
       "Yfj7yEmtfesbwNjCKiAuAkQZ3H0AP6IGQkFa83wAAAAASUVORK5CYII=\n",
       "\" style=\"display:inline;vertical-align:middle;\" /></a></span>"
      ],
      "text/plain": [
       "{[not](a = b)} |- a != b"
      ]
     },
     "metadata": {},
     "output_type": "display_data"
    }
   ],
   "source": [
    "a_neq_b.prove(assumptions=[Not(a_eq_b)])"
   ]
  },
  {
   "cell_type": "code",
   "execution_count": 82,
   "metadata": {},
   "outputs": [
    {
     "data": {
      "text/html": [
       "<table><tr><th>&nbsp;</th><th>step type</th><th>requirements</th><th>statement</th></tr>\n",
       "<tr><td><a name=\"-0x244e0abe14df6e89_step0\">0</a></td><td>instantiation</td><td><a href=\"#-0x244e0abe14df6e89_step1\">1</a>, <a href=\"#-0x244e0abe14df6e89_step2\">2</a></td><td><span style=\"font-size:20px;\"><a class=\"ProveItLink\" href=\"../__pv_it/demonstrations/c6a01eaf7915e05437c1f9e3fded1d22be410a280/expr.ipynb\"><img src=\"data:image/png;base64,iVBORw0KGgoAAAANSUhEUgAAAE4AAAAVBAMAAAAazcUaAAAAMFBMVEX///8AAAAAAAAAAAAAAAAA\n",
       "AAAAAAAAAAAAAAAAAAAAAAAAAAAAAAAAAAAAAAAAAAAv3aB7AAAAD3RSTlMAmd0iq3ZUiRDNZu9E\n",
       "uzLWhN+VAAAACXBIWXMAAA7EAAAOxAGVKw4bAAABIElEQVQoz2NgQABmBhwATSIMlzqeAGQeWwE2\n",
       "Nb2bgEQUskgndsMmAjFnA5KAFHZ134CYSwBJYAN2t/0AkTuQnDcBqzp2BRA5CyHACPKGSakpmjpO\n",
       "15AEBoYSJIEFQEs2M9wHOVlICQRUQML9Mzg+MzCshAgpAgWYgNq6FzAIoZmX38CwlYEhG8IxAWLu\n",
       "AwwM8gwM6mjqJBkYvjMwvEdVt5eB4w+aOnUGHmDInEaoA9rL8ZWB6wMDqvu+MTACQyYJos4QiHkD\n",
       "GDi+MbBMSEY17x/I0QxrkQLKgYHhKkOSgACqOi+Gi0BSHCHABwzQlvDHrg9Q1bUUAo1j0EES0WPA\n",
       "CZgVkDgLcatjXIDE4TXAqc4WmcNxAae6yyg8U1zKWA0YAJTJNcv3rHVJAAAAAElFTkSuQmCC\n",
       "\" style=\"display:inline;vertical-align:middle;\" /></a> <a class=\"ProveItLink\" href=\"../__pv_it/demonstrations/790a7679fa5602cf94b6b7909d64de6767c3b1dc0/proof.ipynb\" style=\"text-decoration: none\">&nbsp;&#x22A2;&nbsp;&nbsp;</a><a class=\"ProveItLink\" href=\"../../../numbers/ordering/__pv_it/theorems/ef097190be07bfef385d06d66c6c1568183e809c0/expr.ipynb\"><img src=\"data:image/png;base64,iVBORw0KGgoAAAANSUhEUgAAADAAAAAUCAMAAAD84U6VAAAAPFBMVEX///8AAAAAAAAAAAAAAAAA\n",
       "AAAAAAAAAAAAAAAAAAAAAAAAAAAAAAAAAAAAAAAAAAAAAAAAAAAAAAAAAAAo1xBWAAAAE3RSTlMA\n",
       "IquJdkTvuxBmmd1UzTLn9enzF+Xi+wAAAAlwSFlzAAAOxAAADsQBlSsOGwAAAMpJREFUKM+VktkS\n",
       "wyAIRRV3XLrw//9aNNMmJqmOPDiiwOGiQowMvViy4va9dzZOE1w5ehmnAOhcSlOAPHqGZoJMD1C7\n",
       "BAlKS31JyLJ3QWtoXRnLN24HYmz2eNb1R/GUPS8c6m1oURNAahUtN4JU/ajOCk5DxNwmxWHWNaAZ\n",
       "A7aKhkfrqcoNdKhVe3+9NyXQvQJS1VF3kEXqSubz0Kl85TompIii6zldvgFwrGunHrQqEnQZAjhM\n",
       "Yfj7yEmtfesbwNjCKiAuAkQZ3H0AP6IGQkFa83wAAAAASUVORK5CYII=\n",
       "\" style=\"display:inline;vertical-align:middle;\" /></a></span></td></tr>\n",
       "<tr><td>&nbsp;</td><td colspan=4 style=\"text-align:left\"><span style=\"font-size:20px;\"><a class=\"ProveItLink\" href=\"../../../__pv_it/common/a0d9d672aa5e272d907247690c152cc2c6daafb70/expr.ipynb\"><img src=\"data:image/png;base64,iVBORw0KGgoAAAANSUhEUgAAAAsAAAAJBAMAAAAWSsseAAAAMFBMVEX///8AAAAAAAAAAAAAAAAA\n",
       "AAAAAAAAAAAAAAAAAAAAAAAAAAAAAAAAAAAAAAAAAAAv3aB7AAAAD3RSTlMAEHarMolUmd1mIs3v\n",
       "RLtmgJDEAAAACXBIWXMAAA7EAAAOxAGVKw4bAAAAQklEQVQI12NgEFIWCU1gYChgMmJvYOBcwPmR\n",
       "eQIDCwP7BgYQ4FEAU/cXMAowyF2wYWBlYMh3rGG4xsAgrsRWmcAAAFEjCyBvD0T9AAAAAElFTkSu\n",
       "QmCC\n",
       "\" style=\"display:inline;vertical-align:middle;\" /></a> : <a class=\"ProveItLink\" href=\"../../../__pv_it/common/c06c606ec12678c58933ac85412ecadc2ae28be60/expr.ipynb\"><img src=\"data:image/png;base64,iVBORw0KGgoAAAANSUhEUgAAAAsAAAAJBAMAAAAWSsseAAAAMFBMVEX///8AAAAAAAAAAAAAAAAA\n",
       "AAAAAAAAAAAAAAAAAAAAAAAAAAAAAAAAAAAAAAAAAAAv3aB7AAAAD3RSTlMAIquJdkTvuxBmmd1U\n",
       "zTKBpmoTAAAACXBIWXMAAA7EAAAOxAGVKw4bAAAARUlEQVQI12NgYFR2dGBgYAgTYP/BwMCRycC1\n",
       "gYGB6wMDtwEDA1sBQ38AA0O/A8N8oIr+Awy6PAIM7A48u7iAKlXshPwYAE2lCqdX0eXEAAAAAElF\n",
       "TkSuQmCC\n",
       "\" style=\"display:inline;vertical-align:middle;\" /></a>, <a class=\"ProveItLink\" href=\"../../../__pv_it/common/ff7dba4ef0bbe791ab573bf2d9c220a304399ac80/expr.ipynb\"><img src=\"data:image/png;base64,iVBORw0KGgoAAAANSUhEUgAAAAsAAAANBAMAAACN24kIAAAAMFBMVEX///8AAAAAAAAAAAAAAAAA\n",
       "AAAAAAAAAAAAAAAAAAAAAAAAAAAAAAAAAAAAAAAAAAAv3aB7AAAAD3RSTlMAEHaZZquJVO8y3btE\n",
       "zSKD2s2pAAAACXBIWXMAAA7EAAAOxAGVKw4bAAAAVklEQVQI12NgVHZgEGVgYGNvYPBnYJjOvIAh\n",
       "moFBgEOBoYmBgeG8AOdPIGXLwNQApLYycAcAKVOG8w5ASjTJ/gEDCOQCMdsFxnYgxaXAmgCk2J1s\n",
       "gCQAaFoNDtFIIdEAAAAASUVORK5CYII=\n",
       "\" style=\"display:inline;vertical-align:middle;\" /></a> : <a class=\"ProveItLink\" href=\"../../../__pv_it/common/195236b98c6c564a75b5dbada74b173bc52d5c3e0/expr.ipynb\"><img src=\"data:image/png;base64,iVBORw0KGgoAAAANSUhEUgAAAAkAAAAOBAMAAAAPuiubAAAAMFBMVEX///8AAAAAAAAAAAAAAAAA\n",
       "AAAAAAAAAAAAAAAAAAAAAAAAAAAAAAAAAAAAAAAAAAAv3aB7AAAAD3RSTlMAELvv3c2ZVESJq3Yi\n",
       "MmZ3LnoBAAAACXBIWXMAAA7EAAAOxAGVKw4bAAAAT0lEQVQI12NgVHZgAALWBBDJXwAi+wVA5BQQ\n",
       "wRC1ezkDA+NXAfkDDOwfGZg3MLAFMPBPYGCZwNBfAFKeL8DAf4HRjoGB6wET0AjGlXkMDAAVqA7Q\n",
       "GyenWgAAAABJRU5ErkJggg==\n",
       "\" style=\"display:inline;vertical-align:middle;\" /></a></span></td></tr><tr><td><a name=\"-0x244e0abe14df6e89_step1\">1</a></td><td>theorem</td><td></td><td><span style=\"font-size:20px;\"> <a class=\"ProveItLink\" href=\"proofs/fold_not_equals/thm_proof.ipynb\" style=\"text-decoration: none\">&nbsp;&#x22A2;&nbsp;&nbsp;</a><a class=\"ProveItLink\" href=\"../__pv_it/theorems/d2de0b785b8367e6b5d0fddc8c5973de5650c9cd0/expr.ipynb\"><img src=\"data:image/png;base64,iVBORw0KGgoAAAANSUhEUgAAALkAAAAXCAMAAABgZR7wAAAAPFBMVEX///8AAAAAAAAAAAAAAAAA\n",
       "AAAAAAAAAAAAAAAAAAAAAAAAAAAAAAAAAAAAAAAAAAAAAAAAAAAAAAAAAAAo1xBWAAAAE3RSTlMA\n",
       "q1RmmUTNIjK7EInv3Xbn9enzK1aD6QAAAAlwSFlzAAAOxAAADsQBlSsOGwAAAnNJREFUWMPFV4mO\n",
       "3CAM5QxgwNs2//+vxUCuAUK6WqVolFEGbD8/H3gY+7/LvCb0wwvF/b6C3q8a6cn3dyFfBy78/b51\n",
       "A4cJqtLb6/J6EGCZHHB2sLGkWNiNdONep1xNomz5aEeqCp+WF68jDzPKx1kQEmpZHV/ez/KJSc3H\n",
       "ewuhDpFW8O8nSzUJiBysb4J+LTzAnFxQ3PH0pXIZOHhgasjevLhxwFtRixyZipuZTGX8+kXPnXfP\n",
       "BGWXXEuiU7wM3x6zNaphqdl33I6FZGkIDzAu7yi3orjGC4jsRabb6+8jhydeM92kYyg2KeSqTXl9\n",
       "dTVhDBS3UIJnM/UCH9bnALnSj9J6gT5yduAZU06urNTE19LidahtRVZJRGXSZ7tk+eWSHSGPHdnj\n",
       "ot51NBUYxQEqiQGc8/z3n5Lth/kcF6ydVMTayisfaCiPFlGLmSUvbZghN8tVVrltyYsO8ZnpLtMF\n",
       "TjMecgneRog5vj2oOAoWE7b3rK5euQbIMXRd5L6CSye0a2V3r0469KfjubMxsVpQCbm+hES0Ba04\n",
       "BUdeOyo/DK6ncPO0zfGW86RN8J5sq6MZn2yOOCjEBFSKCeWpEXhUm4nY1BYFdrdP28HOkO+Iquw5\n",
       "W846Whqj/dch0tdOYuJHbEPeShbAV816ve8taqvQQ7ZBV3UgduemZ32ogIYgBrOaQu0RqfnkIymG\n",
       "bpl3xTIY7bIf7O06OvPTaKSSHcojltSbzrUJOSS9Ts6R65uR59ABHWkY9dnOKCIk7hfHzRDJNOTC\n",
       "0suT21+NFR06uocM9gfzyQx0NyYRTVqifzS3MD8c13Yd8tlF+/of9fmgCT8N5i+ywRKBep1xHgAA\n",
       "AABJRU5ErkJggg==\n",
       "\" style=\"display:inline;vertical-align:middle;\" /></a></span></td></tr>\n",
       "<tr><td>&nbsp;</td><td colspan=4 style-\"text-align:left\"><a class=\"ProveItLink\" href=\"proofs/fold_not_equals/thm_proof.ipynb\">proveit.logic.equality.fold_not_equals</a></td></tr><tr><td><a name=\"-0x244e0abe14df6e89_step2\">2</a></td><td>assumption</td><td></td><td><span style=\"font-size:20px;\"><a class=\"ProveItLink\" href=\"../__pv_it/demonstrations/c6a01eaf7915e05437c1f9e3fded1d22be410a280/expr.ipynb\"><img src=\"data:image/png;base64,iVBORw0KGgoAAAANSUhEUgAAAE4AAAAVBAMAAAAazcUaAAAAMFBMVEX///8AAAAAAAAAAAAAAAAA\n",
       "AAAAAAAAAAAAAAAAAAAAAAAAAAAAAAAAAAAAAAAAAAAv3aB7AAAAD3RSTlMAmd0iq3ZUiRDNZu9E\n",
       "uzLWhN+VAAAACXBIWXMAAA7EAAAOxAGVKw4bAAABIElEQVQoz2NgQABmBhwATSIMlzqeAGQeWwE2\n",
       "Nb2bgEQUskgndsMmAjFnA5KAFHZ134CYSwBJYAN2t/0AkTuQnDcBqzp2BRA5CyHACPKGSakpmjpO\n",
       "15AEBoYSJIEFQEs2M9wHOVlICQRUQML9Mzg+MzCshAgpAgWYgNq6FzAIoZmX38CwlYEhG8IxAWLu\n",
       "AwwM8gwM6mjqJBkYvjMwvEdVt5eB4w+aOnUGHmDInEaoA9rL8ZWB6wMDqvu+MTACQyYJos4QiHkD\n",
       "GDi+MbBMSEY17x/I0QxrkQLKgYHhKkOSgACqOi+Gi0BSHCHABwzQlvDHrg9Q1bUUAo1j0EES0WPA\n",
       "CZgVkDgLcatjXIDE4TXAqc4WmcNxAae6yyg8U1zKWA0YAJTJNcv3rHVJAAAAAElFTkSuQmCC\n",
       "\" style=\"display:inline;vertical-align:middle;\" /></a> <a class=\"ProveItLink\" href=\"../__pv_it/demonstrations/4d5e562eb56e98db43ee15df78b230a49628c6f80/proof.ipynb\" style=\"text-decoration: none\">&nbsp;&#x22A2;&nbsp;&nbsp;</a><a class=\"ProveItLink\" href=\"../__pv_it/demonstrations/c6a01eaf7915e05437c1f9e3fded1d22be410a280/expr.ipynb\"><img src=\"data:image/png;base64,iVBORw0KGgoAAAANSUhEUgAAAE4AAAAVBAMAAAAazcUaAAAAMFBMVEX///8AAAAAAAAAAAAAAAAA\n",
       "AAAAAAAAAAAAAAAAAAAAAAAAAAAAAAAAAAAAAAAAAAAv3aB7AAAAD3RSTlMAmd0iq3ZUiRDNZu9E\n",
       "uzLWhN+VAAAACXBIWXMAAA7EAAAOxAGVKw4bAAABIElEQVQoz2NgQABmBhwATSIMlzqeAGQeWwE2\n",
       "Nb2bgEQUskgndsMmAjFnA5KAFHZ134CYSwBJYAN2t/0AkTuQnDcBqzp2BRA5CyHACPKGSakpmjpO\n",
       "15AEBoYSJIEFQEs2M9wHOVlICQRUQML9Mzg+MzCshAgpAgWYgNq6FzAIoZmX38CwlYEhG8IxAWLu\n",
       "AwwM8gwM6mjqJBkYvjMwvEdVt5eB4w+aOnUGHmDInEaoA9rL8ZWB6wMDqvu+MTACQyYJos4QiHkD\n",
       "GDi+MbBMSEY17x/I0QxrkQLKgYHhKkOSgACqOi+Gi0BSHCHABwzQlvDHrg9Q1bUUAo1j0EES0WPA\n",
       "CZgVkDgLcatjXIDE4TXAqc4WmcNxAae6yyg8U1zKWA0YAJTJNcv3rHVJAAAAAElFTkSuQmCC\n",
       "\" style=\"display:inline;vertical-align:middle;\" /></a></span></td></tr>\n",
       "</table>"
      ],
      "text/plain": [
       "\tstep type\trequirements\tstatement\n",
       "0\tinstantiation\t1, 2\t{[not](a = b)} |- a != b\n",
       "\tx : a, y : b\n",
       "1\ttheorem\t\t|- forall_{x, y | [not](x = y)} (x != y)\n",
       "\tproveit.logic.equality.fold_not_equals\n",
       "2\tassumption\t\t{[not](a = b)} |- [not](a = b)"
      ]
     },
     "metadata": {},
     "output_type": "display_data"
    }
   ],
   "source": [
    "a_neq_b.prove(assumptions=[Not(a_eq_b)]).proof()"
   ]
  },
  {
   "cell_type": "code",
   "execution_count": 83,
   "metadata": {},
   "outputs": [
    {
     "data": {
      "text/html": [
       "<span style=\"font-size:20px;\"><a class=\"ProveItLink\" href=\"../../../numbers/ordering/__pv_it/theorems/ef097190be07bfef385d06d66c6c1568183e809c0/expr.ipynb\"><img src=\"data:image/png;base64,iVBORw0KGgoAAAANSUhEUgAAADAAAAAUCAMAAAD84U6VAAAAPFBMVEX///8AAAAAAAAAAAAAAAAA\n",
       "AAAAAAAAAAAAAAAAAAAAAAAAAAAAAAAAAAAAAAAAAAAAAAAAAAAAAAAAAAAo1xBWAAAAE3RSTlMA\n",
       "IquJdkTvuxBmmd1UzTLn9enzF+Xi+wAAAAlwSFlzAAAOxAAADsQBlSsOGwAAAMpJREFUKM+VktkS\n",
       "wyAIRRV3XLrw//9aNNMmJqmOPDiiwOGiQowMvViy4va9dzZOE1w5ehmnAOhcSlOAPHqGZoJMD1C7\n",
       "BAlKS31JyLJ3QWtoXRnLN24HYmz2eNb1R/GUPS8c6m1oURNAahUtN4JU/ajOCk5DxNwmxWHWNaAZ\n",
       "A7aKhkfrqcoNdKhVe3+9NyXQvQJS1VF3kEXqSubz0Kl85TompIii6zldvgFwrGunHrQqEnQZAjhM\n",
       "Yfj7yEmtfesbwNjCKiAuAkQZ3H0AP6IGQkFa83wAAAAASUVORK5CYII=\n",
       "\" style=\"display:inline;vertical-align:middle;\" /></a> <a class=\"ProveItLink\" href=\"../__pv_it/demonstrations/5772055f5393c5c808895aae8744fd41b66063950/proof.ipynb\" style=\"text-decoration: none\">&nbsp;&#x22A2;&nbsp;&nbsp;</a><a class=\"ProveItLink\" href=\"../__pv_it/demonstrations/c6a01eaf7915e05437c1f9e3fded1d22be410a280/expr.ipynb\"><img src=\"data:image/png;base64,iVBORw0KGgoAAAANSUhEUgAAAE4AAAAVBAMAAAAazcUaAAAAMFBMVEX///8AAAAAAAAAAAAAAAAA\n",
       "AAAAAAAAAAAAAAAAAAAAAAAAAAAAAAAAAAAAAAAAAAAv3aB7AAAAD3RSTlMAmd0iq3ZUiRDNZu9E\n",
       "uzLWhN+VAAAACXBIWXMAAA7EAAAOxAGVKw4bAAABIElEQVQoz2NgQABmBhwATSIMlzqeAGQeWwE2\n",
       "Nb2bgEQUskgndsMmAjFnA5KAFHZ134CYSwBJYAN2t/0AkTuQnDcBqzp2BRA5CyHACPKGSakpmjpO\n",
       "15AEBoYSJIEFQEs2M9wHOVlICQRUQML9Mzg+MzCshAgpAgWYgNq6FzAIoZmX38CwlYEhG8IxAWLu\n",
       "AwwM8gwM6mjqJBkYvjMwvEdVt5eB4w+aOnUGHmDInEaoA9rL8ZWB6wMDqvu+MTACQyYJos4QiHkD\n",
       "GDi+MbBMSEY17x/I0QxrkQLKgYHhKkOSgACqOi+Gi0BSHCHABwzQlvDHrg9Q1bUUAo1j0EES0WPA\n",
       "CZgVkDgLcatjXIDE4TXAqc4WmcNxAae6yyg8U1zKWA0YAJTJNcv3rHVJAAAAAElFTkSuQmCC\n",
       "\" style=\"display:inline;vertical-align:middle;\" /></a></span>"
      ],
      "text/plain": [
       "{a != b} |- [not](a = b)"
      ]
     },
     "metadata": {},
     "output_type": "display_data"
    }
   ],
   "source": [
    "Not(a_eq_b).prove(assumptions=[a_neq_b])"
   ]
  },
  {
   "cell_type": "code",
   "execution_count": 84,
   "metadata": {},
   "outputs": [
    {
     "data": {
      "text/html": [
       "<table><tr><th>&nbsp;</th><th>step type</th><th>requirements</th><th>statement</th></tr>\n",
       "<tr><td><a name=\"0x578c767085f54a6a_step0\">0</a></td><td>instantiation</td><td><a href=\"#0x578c767085f54a6a_step1\">1</a>, <a href=\"#0x578c767085f54a6a_step2\">2</a></td><td><span style=\"font-size:20px;\"><a class=\"ProveItLink\" href=\"../../../numbers/ordering/__pv_it/theorems/ef097190be07bfef385d06d66c6c1568183e809c0/expr.ipynb\"><img src=\"data:image/png;base64,iVBORw0KGgoAAAANSUhEUgAAADAAAAAUCAMAAAD84U6VAAAAPFBMVEX///8AAAAAAAAAAAAAAAAA\n",
       "AAAAAAAAAAAAAAAAAAAAAAAAAAAAAAAAAAAAAAAAAAAAAAAAAAAAAAAAAAAo1xBWAAAAE3RSTlMA\n",
       "IquJdkTvuxBmmd1UzTLn9enzF+Xi+wAAAAlwSFlzAAAOxAAADsQBlSsOGwAAAMpJREFUKM+VktkS\n",
       "wyAIRRV3XLrw//9aNNMmJqmOPDiiwOGiQowMvViy4va9dzZOE1w5ehmnAOhcSlOAPHqGZoJMD1C7\n",
       "BAlKS31JyLJ3QWtoXRnLN24HYmz2eNb1R/GUPS8c6m1oURNAahUtN4JU/ajOCk5DxNwmxWHWNaAZ\n",
       "A7aKhkfrqcoNdKhVe3+9NyXQvQJS1VF3kEXqSubz0Kl85TompIii6zldvgFwrGunHrQqEnQZAjhM\n",
       "Yfj7yEmtfesbwNjCKiAuAkQZ3H0AP6IGQkFa83wAAAAASUVORK5CYII=\n",
       "\" style=\"display:inline;vertical-align:middle;\" /></a> <a class=\"ProveItLink\" href=\"../__pv_it/demonstrations/5772055f5393c5c808895aae8744fd41b66063950/proof.ipynb\" style=\"text-decoration: none\">&nbsp;&#x22A2;&nbsp;&nbsp;</a><a class=\"ProveItLink\" href=\"../__pv_it/demonstrations/c6a01eaf7915e05437c1f9e3fded1d22be410a280/expr.ipynb\"><img src=\"data:image/png;base64,iVBORw0KGgoAAAANSUhEUgAAAE4AAAAVBAMAAAAazcUaAAAAMFBMVEX///8AAAAAAAAAAAAAAAAA\n",
       "AAAAAAAAAAAAAAAAAAAAAAAAAAAAAAAAAAAAAAAAAAAv3aB7AAAAD3RSTlMAmd0iq3ZUiRDNZu9E\n",
       "uzLWhN+VAAAACXBIWXMAAA7EAAAOxAGVKw4bAAABIElEQVQoz2NgQABmBhwATSIMlzqeAGQeWwE2\n",
       "Nb2bgEQUskgndsMmAjFnA5KAFHZ134CYSwBJYAN2t/0AkTuQnDcBqzp2BRA5CyHACPKGSakpmjpO\n",
       "15AEBoYSJIEFQEs2M9wHOVlICQRUQML9Mzg+MzCshAgpAgWYgNq6FzAIoZmX38CwlYEhG8IxAWLu\n",
       "AwwM8gwM6mjqJBkYvjMwvEdVt5eB4w+aOnUGHmDInEaoA9rL8ZWB6wMDqvu+MTACQyYJos4QiHkD\n",
       "GDi+MbBMSEY17x/I0QxrkQLKgYHhKkOSgACqOi+Gi0BSHCHABwzQlvDHrg9Q1bUUAo1j0EES0WPA\n",
       "CZgVkDgLcatjXIDE4TXAqc4WmcNxAae6yyg8U1zKWA0YAJTJNcv3rHVJAAAAAElFTkSuQmCC\n",
       "\" style=\"display:inline;vertical-align:middle;\" /></a></span></td></tr>\n",
       "<tr><td>&nbsp;</td><td colspan=4 style=\"text-align:left\"><span style=\"font-size:20px;\"><a class=\"ProveItLink\" href=\"../../../__pv_it/common/a0d9d672aa5e272d907247690c152cc2c6daafb70/expr.ipynb\"><img src=\"data:image/png;base64,iVBORw0KGgoAAAANSUhEUgAAAAsAAAAJBAMAAAAWSsseAAAAMFBMVEX///8AAAAAAAAAAAAAAAAA\n",
       "AAAAAAAAAAAAAAAAAAAAAAAAAAAAAAAAAAAAAAAAAAAv3aB7AAAAD3RSTlMAEHarMolUmd1mIs3v\n",
       "RLtmgJDEAAAACXBIWXMAAA7EAAAOxAGVKw4bAAAAQklEQVQI12NgEFIWCU1gYChgMmJvYOBcwPmR\n",
       "eQIDCwP7BgYQ4FEAU/cXMAowyF2wYWBlYMh3rGG4xsAgrsRWmcAAAFEjCyBvD0T9AAAAAElFTkSu\n",
       "QmCC\n",
       "\" style=\"display:inline;vertical-align:middle;\" /></a> : <a class=\"ProveItLink\" href=\"../../../__pv_it/common/c06c606ec12678c58933ac85412ecadc2ae28be60/expr.ipynb\"><img src=\"data:image/png;base64,iVBORw0KGgoAAAANSUhEUgAAAAsAAAAJBAMAAAAWSsseAAAAMFBMVEX///8AAAAAAAAAAAAAAAAA\n",
       "AAAAAAAAAAAAAAAAAAAAAAAAAAAAAAAAAAAAAAAAAAAv3aB7AAAAD3RSTlMAIquJdkTvuxBmmd1U\n",
       "zTKBpmoTAAAACXBIWXMAAA7EAAAOxAGVKw4bAAAARUlEQVQI12NgYFR2dGBgYAgTYP/BwMCRycC1\n",
       "gYGB6wMDtwEDA1sBQ38AA0O/A8N8oIr+Awy6PAIM7A48u7iAKlXshPwYAE2lCqdX0eXEAAAAAElF\n",
       "TkSuQmCC\n",
       "\" style=\"display:inline;vertical-align:middle;\" /></a>, <a class=\"ProveItLink\" href=\"../../../__pv_it/common/ff7dba4ef0bbe791ab573bf2d9c220a304399ac80/expr.ipynb\"><img src=\"data:image/png;base64,iVBORw0KGgoAAAANSUhEUgAAAAsAAAANBAMAAACN24kIAAAAMFBMVEX///8AAAAAAAAAAAAAAAAA\n",
       "AAAAAAAAAAAAAAAAAAAAAAAAAAAAAAAAAAAAAAAAAAAv3aB7AAAAD3RSTlMAEHaZZquJVO8y3btE\n",
       "zSKD2s2pAAAACXBIWXMAAA7EAAAOxAGVKw4bAAAAVklEQVQI12NgVHZgEGVgYGNvYPBnYJjOvIAh\n",
       "moFBgEOBoYmBgeG8AOdPIGXLwNQApLYycAcAKVOG8w5ASjTJ/gEDCOQCMdsFxnYgxaXAmgCk2J1s\n",
       "gCQAaFoNDtFIIdEAAAAASUVORK5CYII=\n",
       "\" style=\"display:inline;vertical-align:middle;\" /></a> : <a class=\"ProveItLink\" href=\"../../../__pv_it/common/195236b98c6c564a75b5dbada74b173bc52d5c3e0/expr.ipynb\"><img src=\"data:image/png;base64,iVBORw0KGgoAAAANSUhEUgAAAAkAAAAOBAMAAAAPuiubAAAAMFBMVEX///8AAAAAAAAAAAAAAAAA\n",
       "AAAAAAAAAAAAAAAAAAAAAAAAAAAAAAAAAAAAAAAAAAAv3aB7AAAAD3RSTlMAELvv3c2ZVESJq3Yi\n",
       "MmZ3LnoBAAAACXBIWXMAAA7EAAAOxAGVKw4bAAAAT0lEQVQI12NgVHZgAALWBBDJXwAi+wVA5BQQ\n",
       "wRC1ezkDA+NXAfkDDOwfGZg3MLAFMPBPYGCZwNBfAFKeL8DAf4HRjoGB6wET0AjGlXkMDAAVqA7Q\n",
       "GyenWgAAAABJRU5ErkJggg==\n",
       "\" style=\"display:inline;vertical-align:middle;\" /></a></span></td></tr><tr><td><a name=\"0x578c767085f54a6a_step1\">1</a></td><td>theorem</td><td></td><td><span style=\"font-size:20px;\"> <a class=\"ProveItLink\" href=\"proofs/unfold_not_equals/thm_proof.ipynb\" style=\"text-decoration: none\">&nbsp;&#x22A2;&nbsp;&nbsp;</a><a class=\"ProveItLink\" href=\"../__pv_it/theorems/e42f6f162f844bb3f18b6f3cc764b6573b311a9d0/expr.ipynb\"><img src=\"data:image/png;base64,iVBORw0KGgoAAAANSUhEUgAAAL8AAAAXCAMAAABte263AAAAOVBMVEX///8AAAAAAAAAAAAAAAAA\n",
       "AAAAAAAAAAAAAAAAAAAAAAAAAAAAAAAAAAAAAAAAAAAAAAAAAAAAAAACXHtMAAAAEnRSTlMAq1Rm\n",
       "mUTNIjK7EInv3Xbt5cmRiLwgAAAACXBIWXMAAA7EAAAOxAGVKw4bAAACYElEQVRYw81Xi3KsIAzl\n",
       "KRAwvdf//9gCgsIioJ2x00y7aUmAA5w8lpD3RT023FpOkd8RZE8NY5FYanqMM/4KfGafGqYXwgst\n",
       "ZB5eXnkQWJ4a5rLAqXV+AGVeuX7BnxrmwkWh82EsewW/e2y4syicmqd7WN5h//LUcItAvNBuDeLs\n",
       "O/SxEwMgUtB29vqAkW+ws90m0kctdPjTwA0wwx2GN9U1+DWRIhHrsclayJEdLWGBcHzbiZ8eL2pF\n",
       "88dMRhFu5eXwyj5BicrAVQAFhI6jWbP9hHSHwFLw7DpcfWf72/h753ey45gM4e3FPBQ8QhfKldtr\n",
       "l95IoRnejN4Bfqp+hp+coCZVdwvJftP7P+n+k14IT0sgCuV/coGmVYGu8FeeRNrrGZkmLf7TIDe/\n",
       "CsCY//sjYebNWmnLUhFAFRi2sBTyxJ9Zu0v8h6cwQb78L7+YQczn3SpRGsBIQl2Mz9nb0/wRosZU\n",
       "Wrk8HtfVaScIx0Nzib/yzB1JO+PIdG28RwPbNAiPX06Lp6DhpXidfLOm+vDbCiJTb6bY4//pCaY3\n",
       "g+i1l1GiAQQiYYLPaz9QiyJvucpaF8u6orEOZqc7+JNn4M+//ybyp53hR3QHUNcwyNEpy6i11gc3\n",
       "XXTxDAWbtpDbZf45PUnRArYzzl6r24Tdhw6O1a1f0wIKlBYxJKro6h/WLNf58/CsS/fnjGDtteXm\n",
       "Sb++4k7OslMedsweP/gNDJ/mf3byvZlRBQe5abjchOPxTSUffHQBEmIgymVevwqXZka8pl55Ukh+\n",
       "Iqhqfc3OcAaOdl5/WZEDmhl/S9Tfg/QNxjgTYemClcEAAAAASUVORK5CYII=\n",
       "\" style=\"display:inline;vertical-align:middle;\" /></a></span></td></tr>\n",
       "<tr><td>&nbsp;</td><td colspan=4 style-\"text-align:left\"><a class=\"ProveItLink\" href=\"proofs/unfold_not_equals/thm_proof.ipynb\">proveit.logic.equality.unfold_not_equals</a></td></tr><tr><td><a name=\"0x578c767085f54a6a_step2\">2</a></td><td>assumption</td><td></td><td><span style=\"font-size:20px;\"><a class=\"ProveItLink\" href=\"../../../numbers/ordering/__pv_it/theorems/ef097190be07bfef385d06d66c6c1568183e809c0/expr.ipynb\"><img src=\"data:image/png;base64,iVBORw0KGgoAAAANSUhEUgAAADAAAAAUCAMAAAD84U6VAAAAPFBMVEX///8AAAAAAAAAAAAAAAAA\n",
       "AAAAAAAAAAAAAAAAAAAAAAAAAAAAAAAAAAAAAAAAAAAAAAAAAAAAAAAAAAAo1xBWAAAAE3RSTlMA\n",
       "IquJdkTvuxBmmd1UzTLn9enzF+Xi+wAAAAlwSFlzAAAOxAAADsQBlSsOGwAAAMpJREFUKM+VktkS\n",
       "wyAIRRV3XLrw//9aNNMmJqmOPDiiwOGiQowMvViy4va9dzZOE1w5ehmnAOhcSlOAPHqGZoJMD1C7\n",
       "BAlKS31JyLJ3QWtoXRnLN24HYmz2eNb1R/GUPS8c6m1oURNAahUtN4JU/ajOCk5DxNwmxWHWNaAZ\n",
       "A7aKhkfrqcoNdKhVe3+9NyXQvQJS1VF3kEXqSubz0Kl85TompIii6zldvgFwrGunHrQqEnQZAjhM\n",
       "Yfj7yEmtfesbwNjCKiAuAkQZ3H0AP6IGQkFa83wAAAAASUVORK5CYII=\n",
       "\" style=\"display:inline;vertical-align:middle;\" /></a> <a class=\"ProveItLink\" href=\"../__pv_it/demonstrations/6cf63540af11578a6315a14fd0560f39a1d6403e0/proof.ipynb\" style=\"text-decoration: none\">&nbsp;&#x22A2;&nbsp;&nbsp;</a><a class=\"ProveItLink\" href=\"../../../numbers/ordering/__pv_it/theorems/ef097190be07bfef385d06d66c6c1568183e809c0/expr.ipynb\"><img src=\"data:image/png;base64,iVBORw0KGgoAAAANSUhEUgAAADAAAAAUCAMAAAD84U6VAAAAPFBMVEX///8AAAAAAAAAAAAAAAAA\n",
       "AAAAAAAAAAAAAAAAAAAAAAAAAAAAAAAAAAAAAAAAAAAAAAAAAAAAAAAAAAAo1xBWAAAAE3RSTlMA\n",
       "IquJdkTvuxBmmd1UzTLn9enzF+Xi+wAAAAlwSFlzAAAOxAAADsQBlSsOGwAAAMpJREFUKM+VktkS\n",
       "wyAIRRV3XLrw//9aNNMmJqmOPDiiwOGiQowMvViy4va9dzZOE1w5ehmnAOhcSlOAPHqGZoJMD1C7\n",
       "BAlKS31JyLJ3QWtoXRnLN24HYmz2eNb1R/GUPS8c6m1oURNAahUtN4JU/ajOCk5DxNwmxWHWNaAZ\n",
       "A7aKhkfrqcoNdKhVe3+9NyXQvQJS1VF3kEXqSubz0Kl85TompIii6zldvgFwrGunHrQqEnQZAjhM\n",
       "Yfj7yEmtfesbwNjCKiAuAkQZ3H0AP6IGQkFa83wAAAAASUVORK5CYII=\n",
       "\" style=\"display:inline;vertical-align:middle;\" /></a></span></td></tr>\n",
       "</table>"
      ],
      "text/plain": [
       "\tstep type\trequirements\tstatement\n",
       "0\tinstantiation\t1, 2\t{a != b} |- [not](a = b)\n",
       "\tx : a, y : b\n",
       "1\ttheorem\t\t|- forall_{x, y | x != y} [not](x = y)\n",
       "\tproveit.logic.equality.unfold_not_equals\n",
       "2\tassumption\t\t{a != b} |- a != b"
      ]
     },
     "metadata": {},
     "output_type": "display_data"
    }
   ],
   "source": [
    "Not(a_eq_b).prove(assumptions=[a_neq_b]).proof()"
   ]
  },
  {
   "cell_type": "markdown",
   "metadata": {},
   "source": [
    "`NotEquals` also has a symmetry property which can be applied directly.  It can be proven  through automation."
   ]
  },
  {
   "cell_type": "code",
   "execution_count": 85,
   "metadata": {},
   "outputs": [
    {
     "data": {
      "text/html": [
       "<span style=\"font-size:20px;\"><a class=\"ProveItLink\" href=\"../../../numbers/ordering/__pv_it/theorems/ef097190be07bfef385d06d66c6c1568183e809c0/expr.ipynb\"><img src=\"data:image/png;base64,iVBORw0KGgoAAAANSUhEUgAAADAAAAAUCAMAAAD84U6VAAAAPFBMVEX///8AAAAAAAAAAAAAAAAA\n",
       "AAAAAAAAAAAAAAAAAAAAAAAAAAAAAAAAAAAAAAAAAAAAAAAAAAAAAAAAAAAo1xBWAAAAE3RSTlMA\n",
       "IquJdkTvuxBmmd1UzTLn9enzF+Xi+wAAAAlwSFlzAAAOxAAADsQBlSsOGwAAAMpJREFUKM+VktkS\n",
       "wyAIRRV3XLrw//9aNNMmJqmOPDiiwOGiQowMvViy4va9dzZOE1w5ehmnAOhcSlOAPHqGZoJMD1C7\n",
       "BAlKS31JyLJ3QWtoXRnLN24HYmz2eNb1R/GUPS8c6m1oURNAahUtN4JU/ajOCk5DxNwmxWHWNaAZ\n",
       "A7aKhkfrqcoNdKhVe3+9NyXQvQJS1VF3kEXqSubz0Kl85TompIii6zldvgFwrGunHrQqEnQZAjhM\n",
       "Yfj7yEmtfesbwNjCKiAuAkQZ3H0AP6IGQkFa83wAAAAASUVORK5CYII=\n",
       "\" style=\"display:inline;vertical-align:middle;\" /></a> <a class=\"ProveItLink\" href=\"../__pv_it/demonstrations/c2bc44f94a88833f356d2316e2a2d8711cc6b7040/proof.ipynb\" style=\"text-decoration: none\">&nbsp;&#x22A2;&nbsp;&nbsp;</a><a class=\"ProveItLink\" href=\"../__pv_it/demonstrations/6d42880b91a1cc8d511bd58ffce4e59eafe9a23d0/expr.ipynb\"><img src=\"data:image/png;base64,iVBORw0KGgoAAAANSUhEUgAAADAAAAAUCAMAAAD84U6VAAAAPFBMVEX///8AAAAAAAAAAAAAAAAA\n",
       "AAAAAAAAAAAAAAAAAAAAAAAAAAAAAAAAAAAAAAAAAAAAAAAAAAAAAAAAAAAo1xBWAAAAE3RSTlMA\n",
       "ELvv3c2ZVESJq3YiMmbn9enzVleb9QAAAAlwSFlzAAAOxAAADsQBlSsOGwAAAMxJREFUKM+VktkS\n",
       "wyAIRQF31HTx//+1SiZpazQz+sCDIOdeEGB+LA6vkZQeJjLNOhk7vKY8e1DcEMCzel+GWinNHoSh\n",
       "BT8FgOEY+aLKdIDEIaYoUyoGazjyVst5PFv8UryqBSTinUQVbwGoNmkmLY1MKvw76CZtS4s6nNF3\n",
       "o+0dKBLx/tyCPUcrHl7v3cnhAUtTvJV9bfmQ+APoNoPSlQ24SuZaS/+S3eWvUCU4baElkIPd4BbQ\n",
       "imLIieP4e7kAa8fgWv22CtCLAMi32Q+YHgVppCejbAAAAABJRU5ErkJggg==\n",
       "\" style=\"display:inline;vertical-align:middle;\" /></a></span>"
      ],
      "text/plain": [
       "{a != b} |- b != a"
      ]
     },
     "metadata": {},
     "output_type": "display_data"
    }
   ],
   "source": [
    "NotEquals(b, a).prove(assumptions=[a_neq_b])"
   ]
  },
  {
   "cell_type": "markdown",
   "metadata": {},
   "source": [
    "Or explicitly via `derive_reversed`"
   ]
  },
  {
   "cell_type": "code",
   "execution_count": 86,
   "metadata": {},
   "outputs": [
    {
     "data": {
      "text/html": [
       "<span style=\"font-size:20px;\"><a class=\"ProveItLink\" href=\"../../../numbers/ordering/__pv_it/theorems/ef097190be07bfef385d06d66c6c1568183e809c0/expr.ipynb\"><img src=\"data:image/png;base64,iVBORw0KGgoAAAANSUhEUgAAADAAAAAUCAMAAAD84U6VAAAAPFBMVEX///8AAAAAAAAAAAAAAAAA\n",
       "AAAAAAAAAAAAAAAAAAAAAAAAAAAAAAAAAAAAAAAAAAAAAAAAAAAAAAAAAAAo1xBWAAAAE3RSTlMA\n",
       "IquJdkTvuxBmmd1UzTLn9enzF+Xi+wAAAAlwSFlzAAAOxAAADsQBlSsOGwAAAMpJREFUKM+VktkS\n",
       "wyAIRRV3XLrw//9aNNMmJqmOPDiiwOGiQowMvViy4va9dzZOE1w5ehmnAOhcSlOAPHqGZoJMD1C7\n",
       "BAlKS31JyLJ3QWtoXRnLN24HYmz2eNb1R/GUPS8c6m1oURNAahUtN4JU/ajOCk5DxNwmxWHWNaAZ\n",
       "A7aKhkfrqcoNdKhVe3+9NyXQvQJS1VF3kEXqSubz0Kl85TompIii6zldvgFwrGunHrQqEnQZAjhM\n",
       "Yfj7yEmtfesbwNjCKiAuAkQZ3H0AP6IGQkFa83wAAAAASUVORK5CYII=\n",
       "\" style=\"display:inline;vertical-align:middle;\" /></a> <a class=\"ProveItLink\" href=\"../__pv_it/demonstrations/c2bc44f94a88833f356d2316e2a2d8711cc6b7040/proof.ipynb\" style=\"text-decoration: none\">&nbsp;&#x22A2;&nbsp;&nbsp;</a><a class=\"ProveItLink\" href=\"../__pv_it/demonstrations/6d42880b91a1cc8d511bd58ffce4e59eafe9a23d0/expr.ipynb\"><img src=\"data:image/png;base64,iVBORw0KGgoAAAANSUhEUgAAADAAAAAUCAMAAAD84U6VAAAAPFBMVEX///8AAAAAAAAAAAAAAAAA\n",
       "AAAAAAAAAAAAAAAAAAAAAAAAAAAAAAAAAAAAAAAAAAAAAAAAAAAAAAAAAAAo1xBWAAAAE3RSTlMA\n",
       "ELvv3c2ZVESJq3YiMmbn9enzVleb9QAAAAlwSFlzAAAOxAAADsQBlSsOGwAAAMxJREFUKM+VktkS\n",
       "wyAIRQF31HTx//+1SiZpazQz+sCDIOdeEGB+LA6vkZQeJjLNOhk7vKY8e1DcEMCzel+GWinNHoSh\n",
       "BT8FgOEY+aLKdIDEIaYoUyoGazjyVst5PFv8UryqBSTinUQVbwGoNmkmLY1MKvw76CZtS4s6nNF3\n",
       "o+0dKBLx/tyCPUcrHl7v3cnhAUtTvJV9bfmQ+APoNoPSlQ24SuZaS/+S3eWvUCU4baElkIPd4BbQ\n",
       "imLIieP4e7kAa8fgWv22CtCLAMi32Q+YHgVppCejbAAAAABJRU5ErkJggg==\n",
       "\" style=\"display:inline;vertical-align:middle;\" /></a></span>"
      ],
      "text/plain": [
       "{a != b} |- b != a"
      ]
     },
     "metadata": {},
     "output_type": "display_data"
    }
   ],
   "source": [
    "a_neq_b.prove(assumptions=[a_neq_b]).derive_reversed()"
   ]
  },
  {
   "cell_type": "markdown",
   "metadata": {},
   "source": [
    "If two objects are both equal and not equal, there is a contradiction."
   ]
  },
  {
   "cell_type": "code",
   "execution_count": 87,
   "metadata": {},
   "outputs": [
    {
     "data": {
      "text/html": [
       "<strong id=\"neq_contradiction\">neq_contradiction:</strong> <span style=\"font-size:20px;\"><a class=\"ProveItLink\" href=\"../__pv_it/demonstrations/b535636afc1aade6d0e2f6f1b6f236ea734bac520/expr.ipynb\"><img src=\"data:image/png;base64,iVBORw0KGgoAAAANSUhEUgAAADAAAAAOBAMAAACbXIJpAAAAMFBMVEX///8AAAAAAAAAAAAAAAAA\n",
       "AAAAAAAAAAAAAAAAAAAAAAAAAAAAAAAAAAAAAAAAAAAv3aB7AAAAD3RSTlMAIquJdkTvuxBmmd1U\n",
       "zTKBpmoTAAAACXBIWXMAAA7EAAAOxAGVKw4bAAAAkklEQVQY02NgwALasxlwgFu4JP7gEGf9gUOC\n",
       "eQOIZFR2dECT4FVxOsDAECbADta5ejcIbAIx+29wfGTgyGTg2oCm43wDQwoD1wcGbgM0ibUMDJ8Z\n",
       "2AoY+gPQJDYzsP5h6HdgmM+AZscfBq4fDP0HGHR5BFB1/GNom8DA7sCziwvNKE2GKgYGDhU7IT80\n",
       "iSarCQwAeCknwpP1M+UAAAAASUVORK5CYII=\n",
       "\" style=\"display:inline;vertical-align:middle;\" /></a>, <a class=\"ProveItLink\" href=\"../../../numbers/ordering/__pv_it/theorems/ef097190be07bfef385d06d66c6c1568183e809c0/expr.ipynb\"><img src=\"data:image/png;base64,iVBORw0KGgoAAAANSUhEUgAAADAAAAAUCAMAAAD84U6VAAAAPFBMVEX///8AAAAAAAAAAAAAAAAA\n",
       "AAAAAAAAAAAAAAAAAAAAAAAAAAAAAAAAAAAAAAAAAAAAAAAAAAAAAAAAAAAo1xBWAAAAE3RSTlMA\n",
       "IquJdkTvuxBmmd1UzTLn9enzF+Xi+wAAAAlwSFlzAAAOxAAADsQBlSsOGwAAAMpJREFUKM+VktkS\n",
       "wyAIRRV3XLrw//9aNNMmJqmOPDiiwOGiQowMvViy4va9dzZOE1w5ehmnAOhcSlOAPHqGZoJMD1C7\n",
       "BAlKS31JyLJ3QWtoXRnLN24HYmz2eNb1R/GUPS8c6m1oURNAahUtN4JU/ajOCk5DxNwmxWHWNaAZ\n",
       "A7aKhkfrqcoNdKhVe3+9NyXQvQJS1VF3kEXqSubz0Kl85TompIii6zldvgFwrGunHrQqEnQZAjhM\n",
       "Yfj7yEmtfesbwNjCKiAuAkQZ3H0AP6IGQkFa83wAAAAASUVORK5CYII=\n",
       "\" style=\"display:inline;vertical-align:middle;\" /></a> <a class=\"ProveItLink\" href=\"../__pv_it/demonstrations/77262c41f62dfe3c1b1f1485741c1183a3ef71b80/proof.ipynb\" style=\"text-decoration: none\">&nbsp;&#x22A2;&nbsp;&nbsp;</a><a class=\"ProveItLink\" href=\"../../booleans/__pv_it/common/e0f123f2e4f322e1eba7f861749cda9fd9d99a120/expr.ipynb\"><img src=\"data:image/png;base64,iVBORw0KGgoAAAANSUhEUgAAAA4AAAAPBAMAAAAmOuNHAAAAHlBMVEX///8AAAAAAAAAAAAAAAAA\n",
       "AAAAAAAAAAAAAAAAAACGjDitAAAACXRSTlMARGZUdpnd76sKo+zpAAAACXBIWXMAAA7EAAAOxAGV\n",
       "Kw4bAAAAGElEQVQI12NgQAAhKG1CSzosLa08LS0DAJuOBVCdynDUAAAAAElFTkSuQmCC\n",
       "\" style=\"display:inline;vertical-align:middle;\" /></a></span><br>"
      ],
      "text/plain": [
       "<IPython.core.display.HTML object>"
      ]
     },
     "metadata": {},
     "output_type": "display_data"
    }
   ],
   "source": [
    "neq_contradiction = a_neq_b.derive_contradiction(assumptions=[a_neq_b, a_eq_b])"
   ]
  },
  {
   "cell_type": "code",
   "execution_count": 88,
   "metadata": {},
   "outputs": [
    {
     "data": {
      "text/html": [
       "<strong id=\"a_neq_a\">a_neq_a:</strong> <a class=\"ProveItLink\" href=\"../__pv_it/demonstrations/25d78224f5a9d2af5e441e8267ef3402a5543f440/expr.ipynb\"><img src=\"data:image/png;base64,iVBORw0KGgoAAAANSUhEUgAAADIAAAAUCAMAAAD4FJ6oAAAAPFBMVEX///8AAAAAAAAAAAAAAAAA\n",
       "AAAAAAAAAAAAAAAAAAAAAAAAAAAAAAAAAAAAAAAAAAAAAAAAAAAAAAAAAAAo1xBWAAAAE3RSTlMA\n",
       "IquJdkTvuxBmmd1UzTLn9enzF+Xi+wAAAAlwSFlzAAAOxAAADsQBlSsOGwAAAKdJREFUKM+Vk9kS\n",
       "wyAIRXFHXNLW///XajptMZmYgQce9OD1CgKsghCEUYO0AkIVi2i5iJJWuIWI0sYqe1ou6hJzvu+F\n",
       "9ntPSntsj5H/SgxDH3fuRoRj1EZO5uiEDl1lmB/9wuZunDAM23AUGztveHi+Po6+XjiGLfesC+Tp\n",
       "2HKYrgkLvTwngunumU59ZRhqa6rStq5ELjAuYsTTVcT/JMpFklgE1j/rDbHIBa5p0HJNAAAAAElF\n",
       "TkSuQmCC\n",
       "\" style=\"display:inline;vertical-align:middle;\" /></a><br>"
      ],
      "text/plain": [
       "<IPython.core.display.HTML object>"
      ]
     },
     "metadata": {},
     "output_type": "display_data"
    }
   ],
   "source": [
    "a_neq_a = NotEquals(a, a)"
   ]
  },
  {
   "cell_type": "code",
   "execution_count": 89,
   "metadata": {},
   "outputs": [
    {
     "data": {
      "text/html": [
       "<strong id=\"b_from_contradiction\">b_from_contradiction:</strong> <span style=\"font-size:20px;\"><a class=\"ProveItLink\" href=\"../__pv_it/demonstrations/d2481da92c85c9919a13496770a6f67bcb7240510/expr.ipynb\"><img src=\"data:image/png;base64,iVBORw0KGgoAAAANSUhEUgAAAC8AAAAQBAMAAAB0JTvnAAAAMFBMVEX///8AAAAAAAAAAAAAAAAA\n",
       "AAAAAAAAAAAAAAAAAAAAAAAAAAAAAAAAAAAAAAAAAAAv3aB7AAAAD3RSTlMAELvv3c2ZVESJq3Yi\n",
       "MmZ3LnoBAAAACXBIWXMAAA7EAAAOxAGVKw4bAAAA0ElEQVQY02NgQAdbjOKDvRoYGBiVHdBkFLp5\n",
       "AlcAadYEdIk+hjlMQJq/AFPiOReQ7heA8LlVXFzhEqxAegpEnCNaAKFjzUsgHbV7OYh7VABhubTX\n",
       "BKCrvgrIHwByYxB2tAR/SWRgYP/IwLwByA1AtnxfqwADWwADP1Ajr4mLi4sTTIKJYwIDywSGfqCD\n",
       "GRWQdTAxKIC8kQ+y1wFVAmjOBUY7EHc3igT7BgauB0zgMGGFB4BCJ8PsaUDDV+aBuYyLGiHiW430\n",
       "waELBxyToEECAQCtUC/2gPaNmgAAAABJRU5ErkJggg==\n",
       "\" style=\"display:inline;vertical-align:middle;\" /></a>, <a class=\"ProveItLink\" href=\"../__pv_it/demonstrations/5b36ef127a53384d4c4700b0b0ba83d8069dd3340/expr.ipynb\"><img src=\"data:image/png;base64,iVBORw0KGgoAAAANSUhEUgAAAIUAAAAVCAMAAABfYt1NAAAAPFBMVEX///8AAAAAAAAAAAAAAAAA\n",
       "AAAAAAAAAAAAAAAAAAAAAAAAAAAAAAAAAAAAAAAAAAAAAAAAAAAAAAAAAAAo1xBWAAAAE3RSTlMA\n",
       "InZUiRDNmWbv3US7qzLn9enz+YF6hwAAAAlwSFlzAAAOxAAADsQBlSsOGwAAAdJJREFUSMelVtl2\n",
       "xCAIjRrjbhf//1/LYCaJBqJtfZgzJ8C9bCLLAkcs3OEl/1W+GUnF6gQ5j/cAg8foJwa13kQ6Or9D\n",
       "21knCJjm5Mg4jwx6o2Sbef/Rc07QMJcTMyNABkNGW97ptWbOCzNIWk6cBBkcWa1ypMCRyYj9VzdK\n",
       "Bd+7wKDITK7+TJidqbIaFCQkXgYMhmyqLUmZalFW2t62dgeMSKsU95u1dam4qgEDGaou0DK6oKU9\n",
       "ozT+corp4qkxOzCKZz13k4/P1+8ZT6MGDF71BICuUO7QV8VVXG2XAbHDaGcRbJCKVg0YXOiHGXhs\n",
       "MP6CWc6Fv5yn8f7PoLLvqxy6i9aqAQPpBcpDva2By4XY1jPCHcZFrGcYdEWrBgxeEV4gv6llU57u\n",
       "C99AVxhdXkW0l+yhydd3tUhH2zVqwBD7fhaQvZLftQNlevKG9nOF0eh+2hYlbtOxaf5GDRjIi5jA\n",
       "gWi6O9iVoxsw6XBGQX83faBu47dVA4bsqb5L6zGRfZh5FXYYneSaRZL5KRW92ovB5+f338/tEjzM\n",
       "6LFFhsFzZSafdh5m9CpXhvi0I4k4u19wMHaUirivNH97Cm+bEf3d6znvBb/WyV/skgxMHuyJL4Yf\n",
       "iToOfkYPS9cAAAAASUVORK5CYII=\n",
       "\" style=\"display:inline;vertical-align:middle;\" /></a> <a class=\"ProveItLink\" href=\"../__pv_it/demonstrations/727d37d8addc7f95eb4c75134bc72f296eb8e7a30/proof.ipynb\" style=\"text-decoration: none\">&nbsp;&#x22A2;&nbsp;&nbsp;</a><a class=\"ProveItLink\" href=\"../../../__pv_it/common/195236b98c6c564a75b5dbada74b173bc52d5c3e0/expr.ipynb\"><img src=\"data:image/png;base64,iVBORw0KGgoAAAANSUhEUgAAAAkAAAAOBAMAAAAPuiubAAAAMFBMVEX///8AAAAAAAAAAAAAAAAA\n",
       "AAAAAAAAAAAAAAAAAAAAAAAAAAAAAAAAAAAAAAAAAAAv3aB7AAAAD3RSTlMAELvv3c2ZVESJq3Yi\n",
       "MmZ3LnoBAAAACXBIWXMAAA7EAAAOxAGVKw4bAAAAT0lEQVQI12NgVHZgAALWBBDJXwAi+wVA5BQQ\n",
       "wRC1ezkDA+NXAfkDDOwfGZg3MLAFMPBPYGCZwNBfAFKeL8DAf4HRjoGB6wET0AjGlXkMDAAVqA7Q\n",
       "GyenWgAAAABJRU5ErkJggg==\n",
       "\" style=\"display:inline;vertical-align:middle;\" /></a></span><br>"
      ],
      "text/plain": [
       "<IPython.core.display.HTML object>"
      ]
     },
     "metadata": {},
     "output_type": "display_data"
    }
   ],
   "source": [
    "b_from_contradiction = a_neq_a.affirm_via_contradiction(\n",
    "    b, assumptions=[Implies(Not(b), a_neq_a), in_bool(b)])"
   ]
  },
  {
   "cell_type": "code",
   "execution_count": 90,
   "metadata": {},
   "outputs": [],
   "source": [
    "%end demonstrations"
   ]
  },
  {
   "cell_type": "code",
   "execution_count": null,
   "metadata": {},
   "outputs": [],
   "source": []
  }
 ],
 "metadata": {
  "kernelspec": {
   "display_name": "Python 3",
   "language": "python",
   "name": "python3"
  }
 },
 "nbformat": 4,
 "nbformat_minor": 0
}