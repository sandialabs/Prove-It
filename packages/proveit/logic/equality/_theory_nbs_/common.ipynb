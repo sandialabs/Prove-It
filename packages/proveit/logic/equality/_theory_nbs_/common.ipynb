{
 "cells": [
  {
   "cell_type": "markdown",
   "metadata": {},
   "source": [
    "Common expressions for the theory of <a class=\"ProveItLink\" href=\"theory.ipynb\">proveit.logic.equality</a>\n",
    "========"
   ]
  },
  {
   "cell_type": "code",
   "execution_count": 1,
   "metadata": {},
   "outputs": [
    {
     "name": "stdout",
     "output_type": "stream",
     "text": [
      "Defining common sub-expressions for theory 'proveit.logic.equality'\n",
      "Subsequent end-of-cell assignments will define common sub-expressions\n",
      "%end_common will finalize the definitions\n"
     ]
    }
   ],
   "source": [
    "import proveit\n",
    "# Prepare this notebook for defining the common expressions of a theory:\n",
    "%common_expressions_notebook # Keep this at the top following 'import proveit'.\n",
    "from proveit import ExprRange, IndexedVar\n",
    "from proveit import a, n, x, y\n",
    "from proveit.logic import Equals\n",
    "from proveit.numbers import one\n",
    "%begin common"
   ]
  },
  {
   "cell_type": "code",
   "execution_count": 2,
   "metadata": {},
   "outputs": [
    {
     "data": {
      "text/html": [
       "<strong id=\"elementwise_equality\">elementwise_equality:</strong> <a class=\"ProveItLink\" href=\"../__pv_it/common/4ac9de5ed18f4c8aba238f96bff016d33924e6c50/common_expr.ipynb\"><img src=\"data:image/png;base64,iVBORw0KGgoAAAANSUhEUgAAATsAAAAVBAMAAADLI1QGAAAAMFBMVEX///8AAAAAAAAAAAAAAAAA\n",
       "AAAAAAAAAAAAAAAAAAAAAAAAAAAAAAAAAAAAAAAAAAAv3aB7AAAAD3RSTlMAInZUiRDNmWbv3US7\n",
       "qzJazP2FAAAACXBIWXMAAA7EAAAOxAGVKw4bAAADe0lEQVRIx5WWTWgTQRTH/5tku0lj0iiKIIWu\n",
       "qRgVCjn41R601FJEKCxFbQWruQjeDOJHrIhR0R4Uu1YEQdCiiFCxBD31IK2CJ6mE0oKCQmgVoYc2\n",
       "BSuC0Dgf2e1md7Md55C8mXnz2/++ebNvAMSwapOqdqq02H/wvCG+5OqOYdXSaRQgv/aebhSSxyA7\n",
       "RTy3rZj+VgF/X9ZrVgjBIXJKxLNGM82jQuhTXpNiCAZRsiKOwbRpZoTI/V6TGUF5BBIS83xgWrqQ\n",
       "f0jzmNQF5RHIbjHP02beCCUDajw2RRDBIOfIX1fTiXa389uVgZznZqcxppC0luPT3w+4+MuJLHq5\n",
       "GchXf6oXwsqgEBqWtG9SGTLm+4Zpe0XN1mYEi3z0ljUsCprUPvNhzH+Yygn4dQyUkzXlHdkKRBUG\n",
       "hTwjv7HgUiSLHjsxmuxDZFxmypqNwVoS5msY0D7jcOe0bcEsecmvcvs3knd+j/xaQbg0xjCyQMcj\n",
       "IgMKURaND9njjEGE1Jkd1F4w0zUHFHCBxhx9tgVaSMWgAroT0aJHxpsIl8YYRnyKVB5ZQKuCf8hR\n",
       "LJawUEALNUetbDDAXzQUbAvGtOhyXU5aJkt1b3kwNcCFYTxfp5tLhmKyZsiz5B4J6nZweS3WnUF4\n",
       "EUdwk8uz5A2JiE8PalSe810rN5cj+u/G03BjZGYSPGDvgeO5Lwi4EdfkMVFWdocFno6pkD9GdNC6\n",
       "dMi+YIIuQYCAguMsO5x7Z0XItx/inhujZzQbijEI+WLs/3EJb9zkKfnwn7I8+v2Rf/PD7l/u1sMk\n",
       "AtHn9gVXMEZO5ZzGPx44mSovosZKz0RIXSksuTE2bEUdh8wB3XF/JukmT55KLJblvaQ/w2RJdAjy\n",
       "WXXPDdKtd1SG3rarMUgf6AbS/Kql+l9QI238VCIiqjNHGWOSJTuB1Jrp7ZYugRSXJ7E5P9UzYl7a\n",
       "0pLzWtcBbMRaYBPr7XJWjApEqKCkC26Mx7gYZZCVYu+U14FjSS6PXxwCFcW+fv6nZn8Z+T6kT/Pn\n",
       "jarvvDhVIhpQO1twYxQxso9D3hnB6Pil2lhPMQWsP9NGpPAix86LEbInpZL9SKqRVoRKpSKkcZYc\n",
       "qrNOViDewnfQjRHOY0uWQ45X/wLsTeTKFn8H9jR5vHqtv37ZOPP8Iu50WQ1hYXCIpArcW61Jtk7g\n",
       "rrHZe1oEwSD/AOOn9CGSMKeuAAAAAElFTkSuQmCC\n",
       "\" style=\"display:inline;vertical-align:middle;\" /></a><br>"
      ],
      "text/plain": [
       "<IPython.core.display.HTML object>"
      ]
     },
     "metadata": {},
     "output_type": "display_data"
    }
   ],
   "source": [
    "elementwise_equality = ExprRange(a, Equals(IndexedVar(x, a), IndexedVar(y, a)),\n",
    "                                 one, n)"
   ]
  },
  {
   "cell_type": "code",
   "execution_count": 3,
   "metadata": {},
   "outputs": [
    {
     "name": "stdout",
     "output_type": "stream",
     "text": [
      "These common expressions may now be imported from the theory package: proveit.logic.equality\n"
     ]
    }
   ],
   "source": [
    "%end common"
   ]
  },
  {
   "cell_type": "code",
   "execution_count": null,
   "metadata": {},
   "outputs": [],
   "source": []
  }
 ],
 "metadata": {
  "kernelspec": {
   "display_name": "Python 3",
   "language": "python",
   "name": "python3"
  }
 },
 "nbformat": 4,
 "nbformat_minor": 0
}