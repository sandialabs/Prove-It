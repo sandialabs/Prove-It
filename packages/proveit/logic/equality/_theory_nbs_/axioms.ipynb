{
 "cells": [
  {
   "cell_type": "markdown",
   "metadata": {},
   "source": [
    "Axioms for the theory of <a class=\"ProveItLink\" href=\"theory.ipynb\">proveit.logic.equality</a>\n",
    "========"
   ]
  },
  {
   "cell_type": "code",
   "execution_count": null,
   "metadata": {},
   "outputs": [],
   "source": [
    "import proveit\n",
    "# Prepare this notebook for defining the axioms of a theory:\n",
    "%axioms_notebook # Keep this at the top following 'import proveit'.\n",
    "from proveit.logic import Equals, NotEquals, Not, Forall, Implies, And, in_bool\n",
    "from proveit import f, x, y, z, fx, fy, P, Px, Py\n",
    "%begin axioms"
   ]
  },
  {
   "cell_type": "markdown",
   "metadata": {},
   "source": [
    "In second-order predicate logic, equality can be conservatively defined; $a=b$ can be defined as meaning $\\forall_P~P(a) \\Leftrightarrow P(b)$ (this is explained in \"Mathematical Logic: A First Course\" by Joel W. Robbin in the \"Equality\" section of Chapter 6: Second-Order logic).\n",
    "\n",
    "For more versatility and shorter proofs in Prove-It, we define equality using axioms that enable us to perform direct substitutions.  In principle, we could translate our proofs that use substitution into a predicate logic proof that expands the substitution step into many steps according to the \"Substitutivity of Equivalence\" (a metalogical theorem of 1st-order logic left as exercise 14.8 in Mathematical Logic: A First Course\" by Joel W. Robbin)."
   ]
  },
  {
   "cell_type": "markdown",
   "metadata": {},
   "source": [
    "**Equality is reflexive (everything is equal to itself):**"
   ]
  },
  {
   "cell_type": "code",
   "execution_count": null,
   "metadata": {},
   "outputs": [],
   "source": [
    "equals_reflexivity = Forall(x, Equals(x, x))"
   ]
  },
  {
   "cell_type": "markdown",
   "metadata": {},
   "source": [
    "**When two things are equal, one can be substituted for the other in any true statement to produce a new true statement:**"
   ]
  },
  {
   "cell_type": "code",
   "execution_count": null,
   "metadata": {},
   "outputs": [],
   "source": [
    "sub_right_side_via_implications = Forall((P, x, y), Implies(Px, Implies(Equals(x, y), Py)))"
   ]
  },
  {
   "cell_type": "code",
   "execution_count": null,
   "metadata": {},
   "outputs": [],
   "source": []
  },
  {
   "cell_type": "markdown",
   "metadata": {},
   "source": [
    "This shouldn't be needed.  By the definition of negation, we should already be able to prove that $\\forall_A (A ∨ ¬A)$ and therefore $\\forall_{x, y} ((x=y) ∨ (x ≠ y))$.  This may be sufficient.  \n",
    "\n",
    "**By definition, two expressions are either equal or not (though one may not always be able to know which it is):**"
   ]
  },
  {
   "cell_type": "code",
   "execution_count": null,
   "metadata": {},
   "outputs": [],
   "source": [
    "# equality_in_bool = Forall((x, y), in_bool(Equals(x, y)))"
   ]
  },
  {
   "cell_type": "code",
   "execution_count": null,
   "metadata": {},
   "outputs": [],
   "source": []
  },
  {
   "cell_type": "markdown",
   "metadata": {},
   "source": [
    "**Also see the `proveit.core_expr_types.operation.operands_substitution` and `proveit.core_expr_types.lambda_maps.lambda_substitution` axioms.  Also note that while it would seem that `proveit.logic.equality.substitution` could be derived from `proveit.core_expr_types.operation.operands_substitution`, that derivation would require `proveit.logic.equality.substitution` (circularly) to be able to prove that $\\{x = y\\} \\vdash (x) = (y).$**"
   ]
  },
  {
   "cell_type": "code",
   "execution_count": null,
   "metadata": {},
   "outputs": [],
   "source": [
    "%end axioms"
   ]
  },
  {
   "cell_type": "code",
   "execution_count": null,
   "metadata": {},
   "outputs": [],
   "source": []
  }
 ],
 "metadata": {
  "kernelspec": {
   "display_name": "Python 3 (ipykernel)",
   "language": "python",
   "name": "python3"
  }
 },
 "nbformat": 4,
 "nbformat_minor": 0
}
