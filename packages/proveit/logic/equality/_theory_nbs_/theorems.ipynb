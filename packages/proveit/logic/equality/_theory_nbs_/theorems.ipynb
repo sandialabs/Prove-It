{
 "cells": [
  {
   "cell_type": "markdown",
   "metadata": {},
   "source": [
    "Theorems (or conjectures) for the theory of <a class=\"ProveItLink\" href=\"theory.ipynb\">proveit.logic.equality</a>\n",
    "========"
   ]
  },
  {
   "cell_type": "code",
   "execution_count": null,
   "metadata": {},
   "outputs": [],
   "source": [
    "import proveit\n",
    "# Prepare this notebook for defining the theorems of a theory:\n",
    "%theorems_notebook # Keep this at the top following 'import proveit'.\n",
    "from proveit import ExprRange, IndexedVar\n",
    "from proveit.logic import Equals, NotEquals, Implies, Not, And, Forall, FALSE, in_bool\n",
    "from proveit import A, a, b, c, n, x, y, z, f, P, fa, fab, fx, fxy, Px, Py, Q\n",
    "from proveit.core_expr_types import (x_1_to_n, y_1_to_n, x_eq_y__1_to_n,\n",
    "                                     f__x_1_to_n, f__y_1_to_n, P__x_1_to_n, P__y_1_to_n)\n",
    "from proveit.logic import PofTrue, PofFalse\n",
    "from proveit.logic.equality import elementwise_equality\n",
    "from proveit.numbers import one, Natural, NaturalPos\n",
    "%begin theorems"
   ]
  },
  {
   "cell_type": "markdown",
   "metadata": {},
   "source": [
    "### Substitution or equivalence with a statement that is known to be true (left-hand side)"
   ]
  },
  {
   "cell_type": "code",
   "execution_count": null,
   "metadata": {},
   "outputs": [],
   "source": [
    "sub_left_side_into = Forall((P, x, y), Px, conditions=[Py, Equals(x, y)])"
   ]
  },
  {
   "cell_type": "code",
   "execution_count": null,
   "metadata": {},
   "outputs": [],
   "source": [
    "lhs_via_equality = Forall((P, Q), P, conditions=[Q, Equals(P, Q)])"
   ]
  },
  {
   "cell_type": "markdown",
   "metadata": {},
   "source": [
    "### Applying symmetry, we can reverse any known equality:"
   ]
  },
  {
   "cell_type": "code",
   "execution_count": null,
   "metadata": {},
   "outputs": [],
   "source": [
    "equals_reversal = Forall((x, y), Equals(y, x), conditions=[Equals(x, y)])"
   ]
  },
  {
   "cell_type": "markdown",
   "metadata": {},
   "source": [
    "### Substitution or equivalence with a statement that is known to be true (right-hand side)"
   ]
  },
  {
   "cell_type": "code",
   "execution_count": null,
   "metadata": {},
   "outputs": [],
   "source": [
    "sub_right_side_into = Forall((P, x, y), Py, conditions=[Px, Equals(x, y)])"
   ]
  },
  {
   "cell_type": "code",
   "execution_count": null,
   "metadata": {},
   "outputs": [],
   "source": [
    "rhs_via_equality = Forall((P, Q), Q, conditions=[P, Equals(P, Q)])"
   ]
  },
  {
   "cell_type": "markdown",
   "metadata": {},
   "source": [
    "### Special substitution involving Boolean values"
   ]
  },
  {
   "cell_type": "code",
   "execution_count": null,
   "metadata": {},
   "outputs": [],
   "source": [
    "substitute_in_true = Forall((P, x), PofTrue, conditions=[Px, x])"
   ]
  },
  {
   "cell_type": "code",
   "execution_count": null,
   "metadata": {},
   "outputs": [],
   "source": [
    "substitute_truth = Forall((P, x), Px, conditions=[PofTrue, x])"
   ]
  },
  {
   "cell_type": "code",
   "execution_count": null,
   "metadata": {},
   "outputs": [],
   "source": [
    "substitute_in_false = Forall((P, x), PofFalse, conditions=[Px, Not(x)])"
   ]
  },
  {
   "cell_type": "code",
   "execution_count": null,
   "metadata": {},
   "outputs": [],
   "source": [
    "substitute_falsehood = Forall((P, x), Px, conditions=[PofFalse, Not(x)])"
   ]
  },
  {
   "cell_type": "markdown",
   "metadata": {},
   "source": [
    "### Folding and unfolding $\\neq$"
   ]
  },
  {
   "cell_type": "code",
   "execution_count": null,
   "metadata": {},
   "outputs": [],
   "source": [
    "unfold_not_equals = Forall((x, y), Not(Equals(x, y)), conditions=[NotEquals(x, y)])"
   ]
  },
  {
   "cell_type": "code",
   "execution_count": null,
   "metadata": {},
   "outputs": [],
   "source": [
    "fold_not_equals = Forall((x, y), NotEquals(x, y), conditions=[Not(Equals(x, y))])"
   ]
  },
  {
   "cell_type": "markdown",
   "metadata": {},
   "source": [
    "**$\\neq$ is also symmetric:**"
   ]
  },
  {
   "cell_type": "code",
   "execution_count": null,
   "metadata": {},
   "outputs": [],
   "source": [
    "not_equals_symmetry = Forall((x, y), NotEquals(y, x), conditions=[NotEquals(x, y)])"
   ]
  },
  {
   "cell_type": "markdown",
   "metadata": {},
   "source": [
    "**If two things are both equal and not equal, there is a contradiction:**"
   ]
  },
  {
   "cell_type": "code",
   "execution_count": null,
   "metadata": {},
   "outputs": [],
   "source": [
    "not_equals_contradiction = Forall((x, y), FALSE, conditions=[Equals(x, y), NotEquals(x, y)]) "
   ]
  },
  {
   "cell_type": "code",
   "execution_count": null,
   "metadata": {},
   "outputs": [],
   "source": [
    "sub_in_left_operands = Forall(n, Forall((P, x_1_to_n, y_1_to_n), P__x_1_to_n,\n",
    "                                        conditions=[P__y_1_to_n, x_eq_y__1_to_n]),\n",
    "                              domain=Natural)"
   ]
  },
  {
   "cell_type": "code",
   "execution_count": null,
   "metadata": {},
   "outputs": [],
   "source": [
    "sub_in_right_operands = Forall(n, Forall((P, x_1_to_n, y_1_to_n), P__y_1_to_n, \n",
    "                                         conditions=[P__x_1_to_n, x_eq_y__1_to_n]),\n",
    "                               domain=Natural)"
   ]
  },
  {
   "cell_type": "code",
   "execution_count": null,
   "metadata": {},
   "outputs": [],
   "source": [
    "sub_in_left_operands_via_tuple = Forall(n, Forall((P, x_1_to_n, y_1_to_n), P__x_1_to_n, \n",
    "                                                  conditions=[P__y_1_to_n, Equals([x_1_to_n], [y_1_to_n])]),\n",
    "                                        domain=Natural)"
   ]
  },
  {
   "cell_type": "code",
   "execution_count": null,
   "metadata": {},
   "outputs": [],
   "source": [
    "sub_in_right_operands_via_tuple = Forall(n, Forall((P, x_1_to_n, y_1_to_n), P__y_1_to_n, \n",
    "                                                   conditions=[P__x_1_to_n, Equals([x_1_to_n], [y_1_to_n])]),\n",
    "                                         domain=Natural)"
   ]
  },
  {
   "cell_type": "code",
   "execution_count": null,
   "metadata": {},
   "outputs": [],
   "source": [
    "multi_substitution = Forall(n, Forall((f, x_1_to_n, y_1_to_n),\n",
    "                                     Equals(f__x_1_to_n, f__y_1_to_n),\n",
    "                                      conditions=[elementwise_equality]),\n",
    "                            domain=NaturalPos)"
   ]
  },
  {
   "cell_type": "code",
   "execution_count": null,
   "metadata": {},
   "outputs": [],
   "source": [
    "mult_sub_left_into = Forall(n, Forall((P, x_1_to_n, y_1_to_n), P__x_1_to_n, \n",
    "                                      conditions=[P__y_1_to_n, elementwise_equality]),\n",
    "                            domain=Natural)"
   ]
  },
  {
   "cell_type": "code",
   "execution_count": null,
   "metadata": {},
   "outputs": [],
   "source": [
    "mult_sub_right_into = Forall(n, Forall((P, x_1_to_n, y_1_to_n), P__y_1_to_n, \n",
    "                                       conditions=[P__x_1_to_n, elementwise_equality]),\n",
    "                             domain=Natural)"
   ]
  },
  {
   "cell_type": "code",
   "execution_count": null,
   "metadata": {},
   "outputs": [],
   "source": []
  },
  {
   "cell_type": "code",
   "execution_count": null,
   "metadata": {},
   "outputs": [],
   "source": [
    "unary_evaluation = Forall((f, x, a, c), Implies(Equals(x, a), Implies(Equals(fa, c), Equals(fx, c))))"
   ]
  },
  {
   "cell_type": "code",
   "execution_count": null,
   "metadata": {},
   "outputs": [],
   "source": [
    "binary_substitution = Forall((f, x, y, a, b), Implies(And(Equals(x, a), Equals(y, b)), Equals(fxy, fab)))"
   ]
  },
  {
   "cell_type": "code",
   "execution_count": null,
   "metadata": {},
   "outputs": [],
   "source": [
    "binary_evaluation = Forall((f, x, y, a, b, c), Implies(And(Equals(x, a), Equals(y, b)), Implies(Equals(fab, c), Equals(fxy, c))))"
   ]
  },
  {
   "cell_type": "code",
   "execution_count": null,
   "metadata": {},
   "outputs": [],
   "source": [
    "# Proven\n",
    "not_equals_is_bool = Forall((x, y), in_bool(NotEquals(x, y)))"
   ]
  },
  {
   "cell_type": "code",
   "execution_count": null,
   "metadata": {},
   "outputs": [],
   "source": [
    "contradiction_via_falsification = Forall(A, FALSE, conditions=[A, Equals(A, FALSE)])"
   ]
  },
  {
   "cell_type": "code",
   "execution_count": null,
   "metadata": {},
   "outputs": [],
   "source": [
    "%end theorems"
   ]
  },
  {
   "cell_type": "code",
   "execution_count": null,
   "metadata": {},
   "outputs": [],
   "source": []
  }
 ],
 "metadata": {
  "kernelspec": {
   "display_name": "Python 3",
   "language": "python",
   "name": "python3"
  }
 },
 "nbformat": 4,
 "nbformat_minor": 0
}
