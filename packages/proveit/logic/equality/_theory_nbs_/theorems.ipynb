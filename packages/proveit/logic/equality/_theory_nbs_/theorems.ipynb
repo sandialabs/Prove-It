{
 "cells": [
  {
   "cell_type": "markdown",
   "metadata": {},
   "source": [
    "Theorems (or conjectures) for the theory of <a class=\"ProveItLink\" href=\"theory.ipynb\">proveit.logic.equality</a>\n",
    "========"
   ]
  },
  {
   "cell_type": "code",
   "execution_count": 1,
   "metadata": {},
   "outputs": [
    {
     "name": "stdout",
     "output_type": "stream",
     "text": [
      "Defining theorems for theory 'proveit.logic.equality'\n",
      "Subsequent end-of-cell assignments will define theorems\n",
      "'%end theorems' will finalize the definitions\n"
     ]
    }
   ],
   "source": [
    "import proveit\n",
    "# Prepare this notebook for defining the theorems of a theory:\n",
    "%theorems_notebook # Keep this at the top following 'import proveit'.\n",
    "from proveit import ExprRange, IndexedVar\n",
    "from proveit.logic import Equals, NotEquals, Implies, Not, And, Forall, FALSE, in_bool\n",
    "from proveit import A, a, b, c, d, i, n, x, y, z, f, P, fa, fab, fx, fxy, Px, Py, Q\n",
    "from proveit.core_expr_types import (x_1_to_n, x_1_to_np1, x_i, y_1_to_n, x_eq_y__1_to_n,\n",
    "                                     f__x_1_to_n, f__y_1_to_n, P__x_1_to_n, P__y_1_to_n)\n",
    "from proveit.logic import PofTrue, PofFalse\n",
    "from proveit.logic.equality import elementwise_equality\n",
    "from proveit.numbers import one, Natural, NaturalPos, Add\n",
    "%begin theorems"
   ]
  },
  {
   "cell_type": "markdown",
   "metadata": {},
   "source": [
    "### Extending transitivity"
   ]
  },
  {
   "cell_type": "code",
   "execution_count": 2,
   "metadata": {},
   "outputs": [
    {
     "data": {
      "text/html": [
       "<strong id=\"four_chain_transitivity\"><a class=\"ProveItLink\" href=\"proofs/four_chain_transitivity/thm_proof.ipynb\">four_chain_transitivity</a> (conjecture without proof):<br></strong> <a class=\"ProveItLink\" href=\"../__pv_it/theorems/92f9f93cd709961101b18d341704357933d29b960/theorem_expr.ipynb\"><img src=\"data:image/png;base64,iVBORw0KGgoAAAANSUhEUgAAAPgAAAAXBAMAAADU7Z9vAAAAMFBMVEX///8AAAAAAAAAAAAAAAAA\n",
       "AAAAAAAAAAAAAAAAAAAAAAAAAAAAAAAAAAAAAAAAAAAv3aB7AAAAD3RSTlMAq1RmmUTNIjK7EInv\n",
       "3XZ/CtNrAAAACXBIWXMAAA7EAAAOxAGVKw4bAAAC3klEQVRIx7VWTWgTQRT+ks3PZpO0OXmwUAKC\n",
       "HrQSFIT2ECNVUUQN6Ek8BERED7KFXgTBiKKXSAI9iB7qetNGabQHPVWpSv1BqGIRKoUtFbUtllAo\n",
       "LT0U32xmd7ubTCLoPthv53vzdr/Je/NmA3hrqnAmDK+tLSmcCupAgg22eCW+XTRx4zVmgQNseM4j\n",
       "bSUnnFpCSMNVlv6SR+KBlDDpa5AyTB/RpEfiMeFMdAJ4D4kWF/Kq5FuFM6EMcAb4OD39wSvxI6ym\n",
       "HT91t79vtEjJfgIcAu42rds/iNNvw2k1ssbGR6eZfTIKPo57VO09tAqEE2awfN7x7Is8QaSuS0o2\n",
       "Cgq6ygefacO/QmDCNf8ohYN020Ev16JZy93hCLqCRuK+io2Cw6vKB28ocVXE3aHHgW90KwJ+fcN+\n",
       "e+sImmsoHsvbKDjXSrZ4rIThrGv+HZRlVhC6cmmCcvoZS/v6jMbSNqsbrou2uDKyYB7TxcXNFho2\n",
       "mrbRCP2h22kf1rEXzpor65BYbrroenqB+Fd5hS15qo1aAJPyS8O1aos/Votq4A7ZAH5r38lByHk8\n",
       "WyBOyDmFmlkZJPEkNvmdnxdlCb7cNqCbxpdpvwUyTA+RlEQHYqCk5A1X1Rbfj4L57ADbphyZHcYD\n",
       "C2uhRTOUmimi+7+4G2YQXZlMrRF9pBTLtiWMQgYSjBhFzdZKF+HVm7H3xT4LeWEtrI3mzOEt+pmd\n",
       "z/t+ucTvL9zsJNFJTofVSA9Vux0xav52lbvmNVNcWcHAEE9rFWPkIeR8xXgDYY1T6OAQf228ya5E\n",
       "2OzAmFo8oZUR17pRRiiLSpm5rlniGJeXe3jslFRSKgw5P4socULOx+VVM1TK/M1XJ9i7cwSFpHxM\n",
       "Jwz3prVC0nBZ4id3LZix1xchjzHk1r97njgh5xtCcbuJ+CUnTdZhoz5n5m/BTXvYRNy5sKDmRqH4\n",
       "qRbcqqsuPomc/SfVoVA81YL/L/PwX+YfyHjXccfvmqcAAAAASUVORK5CYII=\n",
       "\" style=\"display:inline;vertical-align:middle;\" /></a><br>"
      ],
      "text/plain": [
       "<IPython.core.display.HTML object>"
      ]
     },
     "metadata": {},
     "output_type": "display_data"
    }
   ],
   "source": [
    "four_chain_transitivity = Forall((a, b, c, d), Equals(a, d), conditions=[Equals(a, b), Equals(b, c), Equals(c, d)])"
   ]
  },
  {
   "cell_type": "code",
   "execution_count": 3,
   "metadata": {},
   "outputs": [
    {
     "data": {
      "text/html": [
       "<strong id=\"transitivity_chain\"><a class=\"ProveItLink\" href=\"proofs/transitivity_chain/thm_proof.ipynb\">transitivity_chain</a> (conjecture without proof):<br></strong> <a class=\"ProveItLink\" href=\"../__pv_it/theorems/227668f231b20cd9d64a3980ff3e63441e0764e40/theorem_expr.ipynb\"><img src=\"data:image/png;base64,iVBORw0KGgoAAAANSUhEUgAAAloAAAAZBAMAAAAbJp0yAAAAMFBMVEX///8AAAAAAAAAAAAAAAAA\n",
       "AAAAAAAAAAAAAAAAAAAAAAAAAAAAAAAAAAAAAAAAAAAv3aB7AAAAD3RSTlMAq1RmmUTNIjK7EInv\n",
       "3XZ/CtNrAAAACXBIWXMAAA7EAAAOxAGVKw4bAAAFbklEQVRYw+1ZXYgbVRQ+mZlkJpkkG/ClFS0p\n",
       "1rqwuIZ2F30QDWzW3aJbYn1qt+iiD2JBnL4UVmqNfauuS1CWkiJltH1wLdS4tQVXkNgiKxQlShFZ\n",
       "DGTpqlRL2LdKRer9mbk/M9POJH2LHsjMvXe+e++Zb84959wbgHC5v2XB/wLZ1o9RYDN9+OpWL/id\n",
       "/1G2svkuOzxP2crh2wMhbMXwTSn0D1tDXdNbIGyN4/LLIWxpZXRL9I/3SnW/XA4Qtt5CV70awpaB\n",
       "LXC2f0xL636ZjBC2EjaAmQ/zW5jZpf5hK91DFxuzpSKaE6Fefmd/Ofvt3XdJFAgL37Val0PZSrda\n",
       "v9T7h62n0e/s2sdfBq2pVOfedwKWkZkjbE0CnAhlS6tA0u4ftl5Cv2J2i9Z0G6ZaWH4gPg3W2lP+\n",
       "LipdYQdBzwUMWJfYQpCDPbtUelPCQ2q7WySXh6JkAayEknLVUm/Ggpz9o/CkfY+/WWkQtpK2WRZa\n",
       "9Svn4XFEX1HOTk/A+V7ZStLbaGReoyP5ly9H0YS90zcABmj4vU75vHEFnvK0EIyxQdhS2tzJz29e\n",
       "gK2mrdk+toZ7d/KUrVQuHBmvd4fk8mEkTaYFtpAvRgZqdJp+2PfyV6GYeMOJdU+wZ5M4r28XTfCx\n",
       "lVDbd8eWFuXrH+gOyWU8Wlyz+UoEeMFK2aA0vX4L4jfgE0l3gsEXzNYSmlkdm18HuIqfDT54xITP\n",
       "S1dKZZEtczuaKbt+ZML1AbwoOIagRoetDPp1JtZFl+Spuildxj/QbZBcmn5MgDIsrzwJsFi+D0xw\n",
       "2RJC4kKsgZz2yGOdosSWWqVsHUaWf2p/IW2lSEo/aH407bct/Wt0+T1WfdFpE4pcAhsdtg4h/a3N\n",
       "CaLvrhqSAqty2eYg2UB3RnJnO8MHBw33eT9IGcV9qc8AHnn7GdgTwJby1+lGPJ8avQQrEltanbIV\n",
       "qwC8/hsM2HESIgaheM3PFmxCv0KyXYFZYs64GB/2LADynIdUinTY2os+D5w0QGfpCq/ilU8Kex2k\n",
       "Z3SC3LNe9iK5G6tSTIgycXeH9y7A6Y4ylg+yrd3tbTtAPzsDNyW2MmXhxGYL7Af1lVrtPcTWmUQA\n",
       "W0QGLDAett1iGj71TDVgCeHHRVK2tuLLDYCjqxzuVrEvJYVjLtI7OkI2UhteJDeIHMWEKGO4bGUq\n",
       "rGcz2MXF2sit76p9gCybYt4Qz7e+hZJh1KltxYd9+ZYjc2BBxnaLOrrIghrV8R11h+yMyBZ+PaOh\n",
       "A6y664tVaT6w6q6vY8LoAtIyGl4kE0wDxow8N8RWYoAybCWqxTC20hWtWBFta0xgS9+AnwdpTo+y\n",
       "nbXg00C9cQFNjKZN1WkRFgDOoBq5OI3KNexy/Wwh333YnNHouxLhVcZBBw+WAT66iEyWJSSbGF3Q\n",
       "lAQzXM2AqKxHmSyL68fD2HoTMkdFtsgxjctWPAd/FmAWPTd+sujhX4Bt7Z7u2Hha4yItov0QzOWN\n",
       "FZizjBW3cRNyuTSkSmwlLdB+/eoPgS23apamSuO0/TgeGiHZ6CJyUkayiVEJVQkmVjkEkrKyMkm2\n",
       "NhddTi/8HZwZPQvZc47uBEO6yifNqS9qC6EnzcSkaXEZ7yVYsHIam9lRO8C2WD65Kg8u2hYOygpD\n",
       "Lmfl8G+3ZSSPknk378zA1X1yZiEps8iDaMTsMcnCPUAv5/LGdZTqUJUSt/5BLLDN9j4nZ1fOOY71\n",
       "+pI4o5P8zF+WcgFS1ZyCZpFRJvjogrx2qykh+cSopFlOSj8kbf08ykz0usd1pMd/MQSV1KBGKaQm\n",
       "XdsI1WmUjhINqUoqLEfYH0bbTN5BIrH1ag//JwohVXfut+fA9CCiI7kVRVAmdXdcZVuX/gUFm7nm\n",
       "MJKCZQAAAABJRU5ErkJggg==\n",
       "\" style=\"display:inline;vertical-align:middle;\" /></a><br>"
      ],
      "text/plain": [
       "<IPython.core.display.HTML object>"
      ]
     },
     "metadata": {},
     "output_type": "display_data"
    }
   ],
   "source": [
    "transitivity_chain = Forall(\n",
    "    n, Forall(x_1_to_np1, Equals(IndexedVar(x, one), IndexedVar(x, Add(n, one))), \n",
    "              conditions=[ExprRange(i, Equals(x_i, IndexedVar(x, Add(i, one))),\n",
    "                                    one, n)]),\n",
    "    domain=NaturalPos)"
   ]
  },
  {
   "cell_type": "markdown",
   "metadata": {},
   "source": [
    "### Substitution or equivalence with a statement that is known to be true (left-hand side)"
   ]
  },
  {
   "cell_type": "code",
   "execution_count": 4,
   "metadata": {},
   "outputs": [
    {
     "data": {
      "text/html": [
       "<strong id=\"sub_left_side_into\"><a class=\"ProveItLink\" href=\"proofs/sub_left_side_into/thm_proof.ipynb\">sub_left_side_into</a> (established theorem):<br></strong> <a class=\"ProveItLink\" href=\"../__pv_it/theorems/a5b6b3d13e30606d90f6e970afac7a8ce15443770/theorem_expr.ipynb\"><img src=\"data:image/png;base64,iVBORw0KGgoAAAANSUhEUgAAAMIAAAAXBAMAAACrPI2eAAAAMFBMVEX///8AAAAAAAAAAAAAAAAA\n",
       "AAAAAAAAAAAAAAAAAAAAAAAAAAAAAAAAAAAAAAAAAAAv3aB7AAAAD3RSTlMAq1RmmUTNIjK7EInv\n",
       "3XZ/CtNrAAAACXBIWXMAAA7EAAAOxAGVKw4bAAACs0lEQVRIx7VWS2gTURQ9k5l08uuYQkFEKQVB\n",
       "wQ9moyCoRIpUqEjQlVZsUEFwNV2KYutWlI4ULLowUQTNRqKIixahVNxUlFFwWRg/IEWIWfhNQL3v\n",
       "N3kxDIikF97c+w7nvfNy372PACtjrnA2VsqcQeHjAZBlwfru7Lv8++qaU2UWbVbQe2Af86e7dPRv\n",
       "QHKRfKqokJ4yLrJsed0RSPwCYjRg5RRk5pkI0oNdyv4PGk0KMi1sESbJ9XQpSck6DVLBhhZ2Enix\n",
       "tPS8SwqrKNtTVD0YoXH/7b05ys0DYD9wI2qJ1TbbKFIRrUC7n3stD468M2D5wA5gHDZVbLw0snd1\n",
       "588W7siXR30uzIKY5SMVPq+d284DkjFds2HQDWyhXcpptnQ38CRKwfSR9nFLgqORCiUVPKO6gsVL\n",
       "dorKK+AX3U9HiFIw8nDqonNEiUe3Q6hABcVuBMdoFPewaAF4RUn+cGGYJsezotelQmYQvVn4Eue1\n",
       "LYnQyEg0lQK/jDE3RWfZStHDM6zpGhinBH80vBPUkkEjMa8pTJTtfthFicfYRTCidZ1sOiTD+aoU\n",
       "bgKVwjqkKdxJ4zw7gfmytolcLhlMktxt3/E0hV21d2XEPYnHvZDIn09FRk9dKVCJbrt0AIdk4RqM\n",
       "amRlSfNn16gagabQxz6xrMQTXouok63Sz0BCV4A7tdgQS+cbRcvIl+Qyf9l7C5lJTeEpz7IncZ4l\n",
       "RhRZCsma9YaA7atogjZOVe35x8inqsQY02rJ/s6dD4E7gSSG2439XVRm2DPhG+iUZumUCzg4WiuT\n",
       "iw1d0xSWm7w+ZyDwpCuJcq0i6zajgrPteEy5u5jW+yHsNI5XQqIwRdat0iEl7KhyA/Fip4LlCnw4\n",
       "JApTZN1seeeO247nlDv8CZ0KmOU4e55yOqzI/2XtfxVS2vff7Q+ss7Q23lQ/yQAAAABJRU5ErkJg\n",
       "gg==\n",
       "\" style=\"display:inline;vertical-align:middle;\" /></a><br>"
      ],
      "text/plain": [
       "<IPython.core.display.HTML object>"
      ]
     },
     "metadata": {},
     "output_type": "display_data"
    }
   ],
   "source": [
    "sub_left_side_into = Forall((P, x, y), Px, conditions=[Py, Equals(x, y)])"
   ]
  },
  {
   "cell_type": "code",
   "execution_count": 5,
   "metadata": {},
   "outputs": [
    {
     "data": {
      "text/html": [
       "<strong id=\"lhs_via_equality\"><a class=\"ProveItLink\" href=\"proofs/lhs_via_equality/thm_proof.ipynb\">lhs_via_equality</a> (established theorem):<br></strong> <a class=\"ProveItLink\" href=\"../__pv_it/theorems/78f5ef147078e352e72753f3c89613bc6238cb4d0/theorem_expr.ipynb\"><img src=\"data:image/png;base64,iVBORw0KGgoAAAANSUhEUgAAAIwAAAAVBAMAAABmhxuGAAAAMFBMVEX///8AAAAAAAAAAAAAAAAA\n",
       "AAAAAAAAAAAAAAAAAAAAAAAAAAAAAAAAAAAAAAAAAAAv3aB7AAAAD3RSTlMAq1RmmUTNIjK7EInv\n",
       "3XZ/CtNrAAAACXBIWXMAAA7EAAAOxAGVKw4bAAABx0lEQVQ4y6VUPUsDQRQck5gzRmOEoKiNYGeV\n",
       "xk4lFqJgk0owlYUgCELE0kC0sVXRRpu7XxBErBRBtFMUPzohEO1EiBH8Dqhv97L3NmdAjQ/23s7s\n",
       "7Oztvr1DGBRdqDpuP1faJiwMiv5k9TZ4BgJHWKCesVy9S90H4PmA3wKCndXbhF6pFeGNAv5/7ClQ\n",
       "oEZWJ9ns8T9smuhAlnLAMLBRYdj3SxuymLugPAODil5rjgy0CvouP2S/bEmm8NjjdnPSmaxY4L5j\n",
       "t0fqrWCcUh+wR2k0iVRSs3Gw9wzBM+XisIBZojw5ecIRMiZASt8y2zCuiSFUUFMcVl4bO8b7xfMA\n",
       "OAfS87RugW0YN3SiMVyawSzqispma0rcwHfMxIAW6gb32YZx2jIi8K1TrGosQk/KJiUW8Z7muymJ\n",
       "0vvDbMO4N39jqRnMwq82ipp58bDZQ1FC7YgZN2tFZtZnvuX08jdEZVpDApdawRkfyln2pph1R5rM\n",
       "6zeRms0sRjUbG9OA8aKJWeX+wMwdOvUDGAPX7YZmY2MauC1arGZVxfBQq41lym6xxB63UqkqRkKs\n",
       "9HBVZiNxwq1Uqooh9zsdL7OR+PtBlFQ/hvGn38UXqIeD+S1ymPUAAAAASUVORK5CYII=\n",
       "\" style=\"display:inline;vertical-align:middle;\" /></a><br>"
      ],
      "text/plain": [
       "<IPython.core.display.HTML object>"
      ]
     },
     "metadata": {},
     "output_type": "display_data"
    }
   ],
   "source": [
    "lhs_via_equality = Forall((P, Q), P, conditions=[Q, Equals(P, Q)])"
   ]
  },
  {
   "cell_type": "markdown",
   "metadata": {},
   "source": [
    "### Applying symmetry, we can reverse any known equality:"
   ]
  },
  {
   "cell_type": "code",
   "execution_count": 6,
   "metadata": {},
   "outputs": [
    {
     "data": {
      "text/html": [
       "<strong id=\"equals_reversal\"><a class=\"ProveItLink\" href=\"proofs/equals_reversal/thm_proof.ipynb\">equals_reversal</a> (established theorem):<br></strong> <a class=\"ProveItLink\" href=\"../__pv_it/theorems/9a52de782ab64702a2d4d87622519a739537bc910/theorem_expr.ipynb\"><img src=\"data:image/png;base64,iVBORw0KGgoAAAANSUhEUgAAAKEAAAAXBAMAAACR7DLtAAAAMFBMVEX///8AAAAAAAAAAAAAAAAA\n",
       "AAAAAAAAAAAAAAAAAAAAAAAAAAAAAAAAAAAAAAAAAAAv3aB7AAAAD3RSTlMAq1RmmUTNIjK7EInv\n",
       "3XZ/CtNrAAAACXBIWXMAAA7EAAAOxAGVKw4bAAACFElEQVQ4y51VTUjcUBD+stm3v1YDnqxQApVe\n",
       "2sJSCuJFBbG1lBVPPZZAD0JP22uxYM+1WA8iepAcvPiDbD30WPYiFEqlFQQvWyJsKS1FBA8rnvq9\n",
       "5ya7iUkgO/AyL/NlvsybmUyA5FLpCoqRXjMae85lyM3tJIx3495WAiblZjYBYcGKQ18Cb6myHxIw\n",
       "pktx6EMgYwNFMwFjTzxqQ+crM0nSeCcWzZDuW73+NQnjU67dCRSMQHpPb77b43FpngLWrrmNRzO+\n",
       "4Kreg35GXa5L+aHSixOnDOis2ytkjWtuMaU6BHJmGVrgkWGM2f1Aqgbk7eJMEsZ9nhAH6HH85nk8\n",
       "kirH0FNOSGHiGSEusTgfBA7kRTBGWKO8nD5u8JsUJ9A6GK+M6kEXUKdG2sI/+PMI0cQW4/vO7R77\n",
       "vLcykGFT7vbZC21GZXyySil5ALDOlTewFCj1slZDlZWRnnMsjI71HLev7+NPm7FlRCcAfJQxGuLc\n",
       "z5i62KgJxpQmKzSVkaYCBnGrM49Nz8MFgPcyosFGMxDjtDP0gPqGV+VcLSvVEb50MErj1ak9gD4q\n",
       "gGLEvHjjbuaKVhrbwLE4azMqY0tcgLlg93/CTsQomPAGyq/Pf7FgYmjEajMqY0tcgLIC/GQWQiU4\n",
       "xcxCJV8K7UcPoGxyQjdmwhnz/t+CsDXnWXiHe4CMw4lu/9/+Wx1itBrO6AFdS6V71//TzoWc8iuM\n",
       "ngAAAABJRU5ErkJggg==\n",
       "\" style=\"display:inline;vertical-align:middle;\" /></a><br>"
      ],
      "text/plain": [
       "<IPython.core.display.HTML object>"
      ]
     },
     "metadata": {},
     "output_type": "display_data"
    }
   ],
   "source": [
    "equals_reversal = Forall((x, y), Equals(y, x), conditions=[Equals(x, y)])"
   ]
  },
  {
   "cell_type": "markdown",
   "metadata": {},
   "source": [
    "### Substitution or equivalence with a statement that is known to be true (right-hand side)"
   ]
  },
  {
   "cell_type": "code",
   "execution_count": 7,
   "metadata": {},
   "outputs": [
    {
     "data": {
      "text/html": [
       "<strong id=\"sub_right_side_into\"><a class=\"ProveItLink\" href=\"proofs/sub_right_side_into/thm_proof.ipynb\">sub_right_side_into</a> (established theorem):<br></strong> <a class=\"ProveItLink\" href=\"../__pv_it/theorems/51065d728b267c2c49ee6f7eb6e8550de70b5a7b0/theorem_expr.ipynb\"><img src=\"data:image/png;base64,iVBORw0KGgoAAAANSUhEUgAAAMEAAAAXBAMAAABACzadAAAAMFBMVEX///8AAAAAAAAAAAAAAAAA\n",
       "AAAAAAAAAAAAAAAAAAAAAAAAAAAAAAAAAAAAAAAAAAAv3aB7AAAAD3RSTlMAq1RmmUTNIjK7EInv\n",
       "3XZ/CtNrAAAACXBIWXMAAA7EAAAOxAGVKw4bAAACuElEQVRIx7VWTWgTQRT+sj/ZbH4rCFIECSgK\n",
       "irgHLx6MLVJjLWhOXgo26EHoxfQqVavnSuPFokiyORZBokIPlZYgCIJYqiB4KawQKXpI60nrQX0z\n",
       "O7OZNI0Ibh+8edP3vp1v5r03kwI7I6UOswOSzvr2Emkfm+wPad3q5q7759jsiPQ4wBCbXA1p65ki\n",
       "8MgF4kXpGQduk7HKITHMeMAxUsORnuNAlCgT2ZAY1qdI60Ay8CRd6EQXDavAVabEcjDwRGn5t6ur\n",
       "b8Ji2ARiv8iOUCmaDmqUHuqks8DDnp8MqH8c8tujNwGtbi2yjF+hpbUGTgE61XwCFvGY1ZHBPd3f\n",
       "+C3gB/XCNqyd3frtxXMOeg/cMVbQDxAPbDfBvCeBxV4MfrAmfKM9GewNMXkFuEkPy3QscmkeL/Ru\n",
       "6oKeDDw4JIvn/u06SAaMubEfdHw6A4o55nwJvCPTyjfpLTE/IaIy8OAKpaF5My962wfyHEowZuqC\n",
       "gbKEM0jT6hp9hWfj7NL9xAQlOF3qj9ICTzLutMLAgxZtcC1SvgyNFYIDhx+QOAEY66JSqJDeg031\n",
       "1dkKk+xp0pdbh5lBJUbm+lF8URh40KS5Y3tTfCKBUMG4JtP1lHQQY3QXDHasyBQb+kTwOx/3Yp/C\n",
       "wIMaGzKUmVhZAarg4d8V4blLWlu6QOBUIbjd4iWJNSxmPuC1wsCDfOFpevF5ljjQz1IAbkuKbRrz\n",
       "pDcC3y1WtseYTBQNMvhobigMPEiVthrzdBvSngQKkeC26ANIFOPUHzjdftkX2A6zxuelr2Rw4ESx\n",
       "zeAHMQucH225sEsSKESCFZlFyovUt3m1xRubjZdsR+3Wjps21wZyCcCKzEHLsftjb/kZNV1hIt5F\n",
       "dDEYAp0PgL4EYEUsz7drW9MnjZmrdzNgwY8WAqDYlwT/z78MIh3K+O/yBxoFtlBbcB3cAAAAAElF\n",
       "TkSuQmCC\n",
       "\" style=\"display:inline;vertical-align:middle;\" /></a><br>"
      ],
      "text/plain": [
       "<IPython.core.display.HTML object>"
      ]
     },
     "metadata": {},
     "output_type": "display_data"
    }
   ],
   "source": [
    "sub_right_side_into = Forall((P, x, y), Py, conditions=[Px, Equals(x, y)])"
   ]
  },
  {
   "cell_type": "code",
   "execution_count": 8,
   "metadata": {},
   "outputs": [
    {
     "data": {
      "text/html": [
       "<strong id=\"rhs_via_equality\"><a class=\"ProveItLink\" href=\"proofs/rhs_via_equality/thm_proof.ipynb\">rhs_via_equality</a> (established theorem):<br></strong> <a class=\"ProveItLink\" href=\"../__pv_it/theorems/abcb2d627df9852dadc5e1b7d9c6e5aedb68dbd50/theorem_expr.ipynb\"><img src=\"data:image/png;base64,iVBORw0KGgoAAAANSUhEUgAAAIkAAAAVBAMAAACArtDCAAAAMFBMVEX///8AAAAAAAAAAAAAAAAA\n",
       "AAAAAAAAAAAAAAAAAAAAAAAAAAAAAAAAAAAAAAAAAAAv3aB7AAAAD3RSTlMAq1RmmUTNIjK7EInv\n",
       "3XZ/CtNrAAAACXBIWXMAAA7EAAAOxAGVKw4bAAAB3klEQVQ4y51UTShEURT+xsx4w2OaiSgbU8rC\n",
       "apYWaCxEUd5KmdXslJKR7dSMjS3FBgtvZaVJmixINNQsRCM7mfzspAZRhOKcO+bNGWPB++qd777z\n",
       "vvfde8+9HfhAaINdaKmdBqI+Ho/ZdtlKwBEBZthw3q7JGv95CFSbgB6w6zLBoRVwBsnJronrleNe\n",
       "AjjO5Y7susRVKYYNYABY/m2av7gMq1JMRoEpaHTa7tXB3mZO3eX7laCmoBt9Tvmjggsoii6pqKj9\n",
       "YLmp04rQDewSjUQRiwoXZxZ6VrCCJfpQkicKVVequI3APb2Q0jUvXBwheB8EM0qiHIf1CMdID8c0\n",
       "cErlonI7H4RLXQD1PsGqppaoFe4AhtSyNsf54r1hKgQ00VDfFy5xU2u02LVEWBCiuUDntJ5RwhjP\n",
       "4TzJdxDxmVf7hEtX/saUjDKRN3Ol+wt5R4JDYbkHPIGsrh/lXC7CzMqugYT1pS6oaBFhnMmTPhB/\n",
       "FndUErHO8JZuQJyGtRuITSdng8JFe4HKKy6iJGKdr9364F3dBjxpaL3XLZpwuX03VV6x1VMsEa/v\n",
       "8/XHha6ixx1Kyh1Z+TIURQTPxc+GEOaJHs8rXMIVHe5b9CvUZieMCpdgZV8x/thQ/9MhvgB6V4K4\n",
       "K/k90gAAAABJRU5ErkJggg==\n",
       "\" style=\"display:inline;vertical-align:middle;\" /></a><br>"
      ],
      "text/plain": [
       "<IPython.core.display.HTML object>"
      ]
     },
     "metadata": {},
     "output_type": "display_data"
    }
   ],
   "source": [
    "rhs_via_equality = Forall((P, Q), Q, conditions=[P, Equals(P, Q)])"
   ]
  },
  {
   "cell_type": "markdown",
   "metadata": {},
   "source": [
    "### Special substitution involving Boolean values"
   ]
  },
  {
   "cell_type": "code",
   "execution_count": 9,
   "metadata": {},
   "outputs": [
    {
     "data": {
      "text/html": [
       "<strong id=\"substitute_in_true\"><a class=\"ProveItLink\" href=\"proofs/substitute_in_true/thm_proof.ipynb\">substitute_in_true</a> (established theorem):<br></strong> <a class=\"ProveItLink\" href=\"../__pv_it/theorems/4dc4c7f0cd7dabd6b74022af0e9bd0226a44fe230/theorem_expr.ipynb\"><img src=\"data:image/png;base64,iVBORw0KGgoAAAANSUhEUgAAAKMAAAAXBAMAAACVGeLQAAAAMFBMVEX///8AAAAAAAAAAAAAAAAA\n",
       "AAAAAAAAAAAAAAAAAAAAAAAAAAAAAAAAAAAAAAAAAAAv3aB7AAAAD3RSTlMAq1RmmUTNIjK7EInv\n",
       "3XZ/CtNrAAAACXBIWXMAAA7EAAAOxAGVKw4bAAACQUlEQVQ4y62UMWgTYRTH/71LckkuPSMI4nbi\n",
       "5qAZ6qgoRVIVJeAkBQkuQhfTxanWOAqF3uRQSnOTIC6hgoNSCa6itJtL4JBKwSHVSdqh+t733V3e\n",
       "5W7Qow+++/737n2/+773Hh9wHGbFqoNjsm+xuk+jzuJcHo7TOzj54iYro4/bQ7YdOA3gOvse5trb\n",
       "iTaw7pN4qV4vqOcC8IxT4eVCrgbARRqYFcgZoES/sd1cyP0ujT6JgUDWfJh0+FK+ovR4ENZoC2SJ\n",
       "eJ+Hw0/5kAdA+YjmQl8gbar3HLCWDr8qXwzVbc5ECOGsLTfcWIw0acuLsAhc7N26dlrE64KF3ksZ\n",
       "v6Ff/Hr/psVi2hVIgxJb8W3+cBnYSiG1t1rXL/NJZOVnKGotgSyT1whUdU5R9dJI5S3oJao5Jtoy\n",
       "jSxy+dtXWH4EdmgaNXc7Aqm803TI3eVm2GtRBFb7ITJ58G16bC5wtx9ikXLldM6U3DFSex8De1Pe\n",
       "AxiczDgC+60oA4EsD69c4lSZX0bnecJGWRxce+8BjUrQRdGTEXgUZcCuC6TqqKkuP8IS4LfMpfae\n",
       "5cTRYcuejLjxZyPqpm013dVZiPaOWiP8PLAEUnuf01ihm1AdPI4Q9lXoJ7F6yil/jSW7XRBI5aXy\n",
       "WIO31JVOICOEzQg9O7773vFW3ML3Dz/GSO1FpYM78yOfZxEhO3R8l6cuNXeyL3Wrhd3yKhEhrOpl\n",
       "0fVaPxOJZjwV/cwLZDlWexNfTGQjbQUyW4mI/7bk/hWy+o9L/wI50oxDPBpekwAAAABJRU5ErkJg\n",
       "gg==\n",
       "\" style=\"display:inline;vertical-align:middle;\" /></a><br>"
      ],
      "text/plain": [
       "<IPython.core.display.HTML object>"
      ]
     },
     "metadata": {},
     "output_type": "display_data"
    }
   ],
   "source": [
    "substitute_in_true = Forall((P, x), PofTrue, conditions=[Px, x])"
   ]
  },
  {
   "cell_type": "code",
   "execution_count": 10,
   "metadata": {},
   "outputs": [
    {
     "data": {
      "text/html": [
       "<strong id=\"substitute_truth\"><a class=\"ProveItLink\" href=\"proofs/substitute_truth/thm_proof.ipynb\">substitute_truth</a> (established theorem):<br></strong> <a class=\"ProveItLink\" href=\"../__pv_it/theorems/8215ace5645e1a36ecc889e052254082c6e0e4780/theorem_expr.ipynb\"><img src=\"data:image/png;base64,iVBORw0KGgoAAAANSUhEUgAAAKIAAAAXBAMAAAB624nuAAAAMFBMVEX///8AAAAAAAAAAAAAAAAA\n",
       "AAAAAAAAAAAAAAAAAAAAAAAAAAAAAAAAAAAAAAAAAAAv3aB7AAAAD3RSTlMAq1RmmUTNIjK7EInv\n",
       "3XZ/CtNrAAAACXBIWXMAAA7EAAAOxAGVKw4bAAACaklEQVQ4y62VTWjUQBTH/9lkN91kG7dQEFFk\n",
       "QVHwA/dSQVCJiChUZPHWVnBRQfCUHkWx9agojaeyHroRPNiLVBEPLYJUPFhRouCxsH6A9BL34GcX\n",
       "1DdJJpls9qChDybv5e3LbzJv/pMF1saswKlYKzMqgc+3gDILtmTjrPy5teGcw6KdPPUROML8+Yyv\n",
       "9h0oLpHX6jxTcHCVrd7OBuz7DeRoQKnylGwyKPRKxu79pNGhoBTnliATvpBx0cU2DaJiW5w7C7xa\n",
       "Xn6ZkbiOujVFu4thGvff31ugtT4AjgG3U7VK4m576FtdVUS79DZ8MZjGZsUF9gLjUElB+ebwofXC\n",
       "egI38vXRgAW5pjcaLxozXfMAXzYuDPkBYWVLXpWog7voYUevUfIA8CRFlF3oLu6wkMkhP5ckNnnw\n",
       "nPYdii+hKdr+lr8xgzRliiiZMNqBZH2BXUjJMSLShvtNOUWjfpBFi8Ab0sKnK0cFYqmC/jLciPjQ\n",
       "10xYg74OJ/rNPG1ppMTdrIzNrK5i3AQ+S/YZgTjhqINQ6xFxK7vwGhjfOHEGmK1tgk7hPhqX2dGW\n",
       "X3s7yFWLrUmBuN/74CBvR8QRCDUotDmRJLPn+nGcDIUksd+lcigxS+zjALvkyhHxmlijNH9xOd0E\n",
       "7nq5w+zoveOzlMKTeSP40oXEZ3677OSqeY1g/ZM8Ul0eTVCRNqc+fQwzJqo/fBfvjCfWCCZHieib\n",
       "YTTn6WUWcWLMc2LiSse/mWYXM4iEGtGmeXAxmc916zGwMR5otlgj2mwKHdhob6JiCcFoT6Ia7pHR\n",
       "1eFqbyLmQz+UqPk/S/6naaF3/uXRv1dbkBuUrgBvAAAAAElFTkSuQmCC\n",
       "\" style=\"display:inline;vertical-align:middle;\" /></a><br>"
      ],
      "text/plain": [
       "<IPython.core.display.HTML object>"
      ]
     },
     "metadata": {},
     "output_type": "display_data"
    }
   ],
   "source": [
    "substitute_truth = Forall((P, x), Px, conditions=[PofTrue, x])"
   ]
  },
  {
   "cell_type": "code",
   "execution_count": 11,
   "metadata": {},
   "outputs": [
    {
     "data": {
      "text/html": [
       "<strong id=\"substitute_in_false\"><a class=\"ProveItLink\" href=\"proofs/substitute_in_false/thm_proof.ipynb\">substitute_in_false</a> (established theorem):<br></strong> <a class=\"ProveItLink\" href=\"../__pv_it/theorems/c931c670152f3cd2bfdc3f9e5af5138f3919c7a50/theorem_expr.ipynb\"><img src=\"data:image/png;base64,iVBORw0KGgoAAAANSUhEUgAAAK4AAAAXBAMAAABg52lgAAAAMFBMVEX///8AAAAAAAAAAAAAAAAA\n",
       "AAAAAAAAAAAAAAAAAAAAAAAAAAAAAAAAAAAAAAAAAAAv3aB7AAAAD3RSTlMAq1RmmUTNIjK7EInv\n",
       "3XZ/CtNrAAAACXBIWXMAAA7EAAAOxAGVKw4bAAACZElEQVQ4y62VTWjUQBTH/7vJbrIfjSkUpHhZ\n",
       "EBT8gFwUBJX1ICsUpFeth0UFwVN6FItt70rXU1kP3XjsrRURrCil4qWixII3F4JWpB7WPfi9oL7J\n",
       "zDSTJgfZ7YPJvHkz+c3kzX8mwO6ZKx0Du2lWRXq5ALCZs79/2tbfu6NXPeYdDpEOe34AzrL62gDL\n",
       "/A4U1qku1lkrG7Bn3sMsy0ejf6z5h2BUoDsRV6syNEqVAbL6k0qPnDIiLtah0TT5AdJQ6FIhNg6o\n",
       "3CvAq3b75QDcPZTDOQYbU7nLwDngXmK0Hmsd5F+cyiXmzQ2xxIh7HJiEQVrLtcbO7FW+jlcXvj4c\n",
       "dqGN81Y1jftl35NjobOhco8Qwiux904BTxNczUfJx30RnEjjtqTzQuXOMS/cthGaOsHNVGF1ucS5\n",
       "KlPlm8K9RKV+mnlrwBvK4eatmsItVzBkwxdxRY6d2ia/DcyeDMXycJTKg+vsaPzGJOXvU6ZxWeFO\n",
       "e8YIjLqIZ7cTbLmjeT6J9U3GFlTuCSpT7IrQXncOUeUUghmFe7Lz3kOuIeLMweNms+lrWDBFbrqS\n",
       "u6xymegyjJSxhRxdNb/D4VBbxE153CnwQ+ix9SsQwTvUarff0XGg7rdytrLD69v8FhXc52EKGyK+\n",
       "nQcb5mrijh2aiXzDl9404YpLxuojrlLONfiqfPC4FRSXuJCnSnV9J1dT5K07ciNaK7SwNZyf6HgR\n",
       "d6sXNubB4wWXRvD3Pj77nFDcfOTeiPdkd+o3fh4W1RFJW0ydgtnFdK4uflw1dUTSjCCSYbzHSedi\n",
       "hSdwXB3Rn8V3u6g8/9P+AVWYlmcyYqnDAAAAAElFTkSuQmCC\n",
       "\" style=\"display:inline;vertical-align:middle;\" /></a><br>"
      ],
      "text/plain": [
       "<IPython.core.display.HTML object>"
      ]
     },
     "metadata": {},
     "output_type": "display_data"
    }
   ],
   "source": [
    "substitute_in_false = Forall((P, x), PofFalse, conditions=[Px, Not(x)])"
   ]
  },
  {
   "cell_type": "code",
   "execution_count": 12,
   "metadata": {},
   "outputs": [
    {
     "data": {
      "text/html": [
       "<strong id=\"substitute_falsehood\"><a class=\"ProveItLink\" href=\"proofs/substitute_falsehood/thm_proof.ipynb\">substitute_falsehood</a> (established theorem):<br></strong> <a class=\"ProveItLink\" href=\"../__pv_it/theorems/1f918f13433ecf3828c0bca1dbbb02f06417826f0/theorem_expr.ipynb\"><img src=\"data:image/png;base64,iVBORw0KGgoAAAANSUhEUgAAAK4AAAAXBAMAAABg52lgAAAAMFBMVEX///8AAAAAAAAAAAAAAAAA\n",
       "AAAAAAAAAAAAAAAAAAAAAAAAAAAAAAAAAAAAAAAAAAAv3aB7AAAAD3RSTlMAq1RmmUTNIjK7EInv\n",
       "3XZ/CtNrAAAACXBIWXMAAA7EAAAOxAGVKw4bAAACeUlEQVQ4y62UT2jUQBTGv02y3WzSxj0IUhQR\n",
       "PAiimIMKPSgrpaxQkcWjFVxUEDylR7HU9loKjacSEXcFEXuR6kGwRVl6rCirIHgpRK2IHtZe/NeC\n",
       "9s0kM5tscpCmA5P38s3Mb2bevBlgG0uhy25X+RjavA+UmLM/C+3rv1v9VxrkKPNC+gQMMXs10zJ/\n",
       "AsVlsg+k0tPAJIuHmwWr/6WlUsWglNQyQ8Pcl4Vr/aa6QU6zoy1DtWnZmcJQXKNKbKXW0S4Dr1ZW\n",
       "Xmbi7qAozlAGaOzYHn14uEi7fwycBm4nO5ejPwfEjlO5xLzxlh2WzcZZe7UWcBwYRYFyLV8fPrUr\n",
       "0jk4yUBVq+RqidlE+b578RizfbRO1VHXc8Q/RKFpmGzcCeB5ghuo93gU2WckjVsPbS9hdGg8yjMU\n",
       "bp8f206aOMnl6pDksuRJS1/Jpa/Pvheo1k4ybwl4QxFcHa9EuVxtSW4kIduVVSdI341Q6eONFx2D\n",
       "Jj9M3pNr7GqsY5Si9yXnXopwuVqoSa4iA2w5/T3BJNYPkW+00rnqHpjkD1AdY0+E+rp9kIxd9Cci\n",
       "XK7mXcnl7jPP81oq7urhnV0LuSZxjkydwTnyh6nmGClXCpPRicaXq0pJcnVx4Un6FXha/Y8f3meK\n",
       "1/22Msi28U7sq9cO7DScCJerupuMQwl6M/HKvu88xC3h3SScMV9oPg1z1JUqIudm+UbwFpbHzJrW\n",
       "zT0qPc0Wx1BfoIUt4exIu9HhchWYZTG943k+ig71CUZ+fvEt8VA4wrseb1AS+Yv4bZiL9ekuhhw0\n",
       "G284n87V5DoqsT6JMi6TMK7b6VwsiOe6GuuzlRKb0eiy/1E2AWO5kcK+S6/8AAAAAElFTkSuQmCC\n",
       "\" style=\"display:inline;vertical-align:middle;\" /></a><br>"
      ],
      "text/plain": [
       "<IPython.core.display.HTML object>"
      ]
     },
     "metadata": {},
     "output_type": "display_data"
    }
   ],
   "source": [
    "substitute_falsehood = Forall((P, x), Px, conditions=[PofFalse, Not(x)])"
   ]
  },
  {
   "cell_type": "markdown",
   "metadata": {},
   "source": [
    "### Folding and unfolding $\\neq$"
   ]
  },
  {
   "cell_type": "code",
   "execution_count": 13,
   "metadata": {},
   "outputs": [
    {
     "data": {
      "text/html": [
       "<strong id=\"unfold_not_equals\"><a class=\"ProveItLink\" href=\"proofs/unfold_not_equals/thm_proof.ipynb\">unfold_not_equals</a> (established theorem):<br></strong> <a class=\"ProveItLink\" href=\"../__pv_it/theorems/02cf44cd5f788a7a04890f0f9ad6faecc3ec056b0/theorem_expr.ipynb\"><img src=\"data:image/png;base64,iVBORw0KGgoAAAANSUhEUgAAAL8AAAAXCAMAAABte263AAAAOVBMVEX///8AAAAAAAAAAAAAAAAA\n",
       "AAAAAAAAAAAAAAAAAAAAAAAAAAAAAAAAAAAAAAAAAAAAAAAAAAAAAAACXHtMAAAAEnRSTlMAq1Rm\n",
       "mUTNIjK7EInv3Xbt5cmRiLwgAAAACXBIWXMAAA7EAAAOxAGVKw4bAAACYElEQVRYw81Xi3KsIAzl\n",
       "KRAwvdf//9gCgsIioJ2x00y7aUmAA5w8lpD3RT023FpOkd8RZE8NY5FYanqMM/4KfGafGqYXwgst\n",
       "ZB5eXnkQWJ4a5rLAqXV+AGVeuX7BnxrmwkWh82EsewW/e2y4syicmqd7WN5h//LUcItAvNBuDeLs\n",
       "O/SxEwMgUtB29vqAkW+ws90m0kctdPjTwA0wwx2GN9U1+DWRIhHrsclayJEdLWGBcHzbiZ8eL2pF\n",
       "88dMRhFu5eXwyj5BicrAVQAFhI6jWbP9hHSHwFLw7DpcfWf72/h753ey45gM4e3FPBQ8QhfKldtr\n",
       "l95IoRnejN4Bfqp+hp+coCZVdwvJftP7P+n+k14IT0sgCuV/coGmVYGu8FeeRNrrGZkmLf7TIDe/\n",
       "CsCY//sjYebNWmnLUhFAFRi2sBTyxJ9Zu0v8h6cwQb78L7+YQczn3SpRGsBIQl2Mz9nb0/wRosZU\n",
       "Wrk8HtfVaScIx0Nzib/yzB1JO+PIdG28RwPbNAiPX06Lp6DhpXidfLOm+vDbCiJTb6bY4//pCaY3\n",
       "g+i1l1GiAQQiYYLPaz9QiyJvucpaF8u6orEOZqc7+JNn4M+//ybyp53hR3QHUNcwyNEpy6i11gc3\n",
       "XXTxDAWbtpDbZf45PUnRArYzzl6r24Tdhw6O1a1f0wIKlBYxJKro6h/WLNf58/CsS/fnjGDtteXm\n",
       "Sb++4k7OslMedsweP/gNDJ/mf3byvZlRBQe5abjchOPxTSUffHQBEmIgymVevwqXZka8pl55Ukh+\n",
       "Iqhqfc3OcAaOdl5/WZEDmhl/S9Tfg/QNxjgTYemClcEAAAAASUVORK5CYII=\n",
       "\" style=\"display:inline;vertical-align:middle;\" /></a><br>"
      ],
      "text/plain": [
       "<IPython.core.display.HTML object>"
      ]
     },
     "metadata": {},
     "output_type": "display_data"
    }
   ],
   "source": [
    "unfold_not_equals = Forall((x, y), Not(Equals(x, y)), conditions=[NotEquals(x, y)])"
   ]
  },
  {
   "cell_type": "code",
   "execution_count": 14,
   "metadata": {},
   "outputs": [
    {
     "data": {
      "text/html": [
       "<strong id=\"fold_not_equals\"><a class=\"ProveItLink\" href=\"proofs/fold_not_equals/thm_proof.ipynb\">fold_not_equals</a> (established theorem):<br></strong> <a class=\"ProveItLink\" href=\"../__pv_it/theorems/d053affecec8789afa4a7aa839cceb0029a9969e0/theorem_expr.ipynb\"><img src=\"data:image/png;base64,iVBORw0KGgoAAAANSUhEUgAAALkAAAAXCAMAAABgZR7wAAAAPFBMVEX///8AAAAAAAAAAAAAAAAA\n",
       "AAAAAAAAAAAAAAAAAAAAAAAAAAAAAAAAAAAAAAAAAAAAAAAAAAAAAAAAAAAo1xBWAAAAE3RSTlMA\n",
       "q1RmmUTNIjK7EInv3Xbn9enzK1aD6QAAAAlwSFlzAAAOxAAADsQBlSsOGwAAAnNJREFUWMPFV4mO\n",
       "3CAM5QxgwNs2//+vxUCuAUK6WqVolFEGbD8/H3gY+7/LvCb0wwvF/b6C3q8a6cn3dyFfBy78/b51\n",
       "A4cJqtLb6/J6EGCZHHB2sLGkWNiNdONep1xNomz5aEeqCp+WF68jDzPKx1kQEmpZHV/ez/KJSc3H\n",
       "ewuhDpFW8O8nSzUJiBysb4J+LTzAnFxQ3PH0pXIZOHhgasjevLhxwFtRixyZipuZTGX8+kXPnXfP\n",
       "BGWXXEuiU7wM3x6zNaphqdl33I6FZGkIDzAu7yi3orjGC4jsRabb6+8jhydeM92kYyg2KeSqTXl9\n",
       "dTVhDBS3UIJnM/UCH9bnALnSj9J6gT5yduAZU06urNTE19LidahtRVZJRGXSZ7tk+eWSHSGPHdnj\n",
       "ot51NBUYxQEqiQGc8/z3n5Lth/kcF6ydVMTayisfaCiPFlGLmSUvbZghN8tVVrltyYsO8ZnpLtMF\n",
       "TjMecgneRog5vj2oOAoWE7b3rK5euQbIMXRd5L6CSye0a2V3r0469KfjubMxsVpQCbm+hES0Ba04\n",
       "BUdeOyo/DK6ncPO0zfGW86RN8J5sq6MZn2yOOCjEBFSKCeWpEXhUm4nY1BYFdrdP28HOkO+Iquw5\n",
       "W846Whqj/dch0tdOYuJHbEPeShbAV816ve8taqvQQ7ZBV3UgduemZ32ogIYgBrOaQu0RqfnkIymG\n",
       "bpl3xTIY7bIf7O06OvPTaKSSHcojltSbzrUJOSS9Ts6R65uR59ABHWkY9dnOKCIk7hfHzRDJNOTC\n",
       "0suT21+NFR06uocM9gfzyQx0NyYRTVqifzS3MD8c13Yd8tlF+/of9fmgCT8N5i+ywRKBep1xHgAA\n",
       "AABJRU5ErkJggg==\n",
       "\" style=\"display:inline;vertical-align:middle;\" /></a><br>"
      ],
      "text/plain": [
       "<IPython.core.display.HTML object>"
      ]
     },
     "metadata": {},
     "output_type": "display_data"
    }
   ],
   "source": [
    "fold_not_equals = Forall((x, y), NotEquals(x, y), conditions=[Not(Equals(x, y))])"
   ]
  },
  {
   "cell_type": "markdown",
   "metadata": {},
   "source": [
    "**$\\neq$ is also symmetric:**"
   ]
  },
  {
   "cell_type": "code",
   "execution_count": 15,
   "metadata": {},
   "outputs": [
    {
     "data": {
      "text/html": [
       "<strong id=\"not_equals_symmetry\"><a class=\"ProveItLink\" href=\"proofs/not_equals_symmetry/thm_proof.ipynb\">not_equals_symmetry</a> (established theorem):<br></strong> <a class=\"ProveItLink\" href=\"../__pv_it/theorems/dd2943af47f398457d87f1e33a01a5fcf783548a0/theorem_expr.ipynb\"><img src=\"data:image/png;base64,iVBORw0KGgoAAAANSUhEUgAAAKEAAAAXCAMAAABUHN/sAAAARVBMVEX///8AAAAAAAAAAAAAAAAA\n",
       "AAAAAAAAAAAAAAAAAAAAAAAAAAAAAAAAAAAAAAAAAAAAAAAAAAAAAAAAAAAAAAAAAAAAAAAeYafp\n",
       "AAAAFnRSTlMAq1RmmUTNIjK7EInv3Xbt5cnn9enzas/lfgAAAAlwSFlzAAAOxAAADsQBlSsOGwAA\n",
       "AktJREFUSMfFV4lyrSAMlU329C2t//+pJSwKinDfm/GWaZ1RknA4OSTcZXnLkG/0+q8BdDzPTfez\n",
       "AHyS/Z2ypwBSO55X+m5nCImL8ro+RapZJwZa3c2sgVxVSJT6KQr5JDmK3E4xnmHisPQphG5G4SB5\n",
       "LqBjeYfrYyqcRBZkMLkiOudxOPtYknNkAzHd5gzopH8DQIyyOaUWrXnUqTYvrDU8D0MacLGFYr7Z\n",
       "VqJFZvyfv/gk9SJAIMwmIWICJCmP2RidJSvuZnxiQ9G0KtFDCpnETZiFpH3FTUX67hd4DeFgh04U\n",
       "jh1W4PioVHhKDCaUH8pVkXEKL56TAUIiZwgDmA2r26ZGFCaPYxPC5WPM8jcALsNfaTqkaToNwsZy\n",
       "EbbvUWU5UwN77Yk6/PxKaqx9xBbCmqRr6nMpzEURJMpkpflQLWHTynUR7pZc4/gI/6zjEb0KI5qU\n",
       "R9s0mvOmxUJcPFdJlmlN6bIbi/FyGqTBDYDuImwsU//seewFI5JGkJ+mwdBzeaCbMjwgFLQtVeTQ\n",
       "xlbpgoRpAnc6PCyNvvOIYvfFjFjgmxxRuBgOEHCzogx/OcGYoj0GTjt1gzBbYpZ//dYxy1ePFKb6\n",
       "YNd/ufQs0p/eXYwQmDc2hxZb9ywflm3nP3sc7T+BM44OKZxeOjgIC4A1IUYKbOu1X212y7YdnT3q\n",
       "q4GHpIIK+pTCUY8ICE0IrNm0HtJDdxePWqeUAW9V5WcUjm49wkTJi3VesSuTi0fhAvoXw9mPh9Gd\n",
       "GokQDOy8p9CKl4vHu4f8iUW/AYClEYuX91F3AAAAAElFTkSuQmCC\n",
       "\" style=\"display:inline;vertical-align:middle;\" /></a><br>"
      ],
      "text/plain": [
       "<IPython.core.display.HTML object>"
      ]
     },
     "metadata": {},
     "output_type": "display_data"
    }
   ],
   "source": [
    "not_equals_symmetry = Forall((x, y), NotEquals(y, x), conditions=[NotEquals(x, y)])"
   ]
  },
  {
   "cell_type": "markdown",
   "metadata": {},
   "source": [
    "**If two things are both equal and not equal, there is a contradiction:**"
   ]
  },
  {
   "cell_type": "code",
   "execution_count": 16,
   "metadata": {},
   "outputs": [
    {
     "data": {
      "text/html": [
       "<strong id=\"not_equals_contradiction\"><a class=\"ProveItLink\" href=\"proofs/not_equals_contradiction/thm_proof.ipynb\">not_equals_contradiction</a> (established theorem):<br></strong> <a class=\"ProveItLink\" href=\"../__pv_it/theorems/2a58d899b0ca791699d174d79d2ac74dd6a032a30/theorem_expr.ipynb\"><img src=\"data:image/png;base64,iVBORw0KGgoAAAANSUhEUgAAAJAAAAAWCAMAAAAYceVPAAAAOVBMVEX///8AAAAAAAAAAAAAAAAA\n",
       "AAAAAAAAAAAAAAAAAAAAAAAAAAAAAAAAAAAAAAAAAAAAAAAAAAAAAAACXHtMAAAAEnRSTlMAq1Rm\n",
       "mUTNIjK7EInv3Xbt5cmRiLwgAAAACXBIWXMAAA7EAAAOxAGVKw4bAAABdUlEQVRIx81Wi3KEIAwM\n",
       "76dp6/9/bEERQeEOx07PzI1yzm5cQlgBeFqQPKLskzrE9nYutkdSfVIQxTTQW4mUgUcIAmnXu6MP\n",
       "EcTS4kl4iCDwUwzvHiOI63g19j2J332rHRKkyHZ5F3fb3okhQUtxXmH/StDLSZeC4niopW8KImpQ\n",
       "UFDD0l9ErsIvmSeSysorQRUy223NqDHCtbM2BDmazAgVEANydSSLMFvQvikoI7nZgh0ZB8xXC9MW\n",
       "pHwSHCzJIOj01NIpZDVNQRUy56kZNQZZJ2tDEJA981ysAglFJtjrobnREkfGjrGmh+GrD652eFrK\n",
       "WMucZApbz+uOoIQsl+zEKDDfPx3My33pwcnF/+zSgJMGMTd32Y6sY2NEfoXR5IQZCY7CIdo4tdjY\n",
       "lDMj29s+Iw+dkBgLv8QUH4Jj1tFvS5hmqLZhV3yoYNBey56yDh7g7NJ5Ql4yxp0h6uLJFuZSsOVU\n",
       "ie6aU++MugRUtDD34z/OuL89Pw3HMBnKewAAAABJRU5ErkJggg==\n",
       "\" style=\"display:inline;vertical-align:middle;\" /></a><br>"
      ],
      "text/plain": [
       "<IPython.core.display.HTML object>"
      ]
     },
     "metadata": {},
     "output_type": "display_data"
    }
   ],
   "source": [
    "not_equals_contradiction = Forall((x, y), FALSE, conditions=[Equals(x, y), NotEquals(x, y)]) "
   ]
  },
  {
   "cell_type": "code",
   "execution_count": 17,
   "metadata": {},
   "outputs": [
    {
     "data": {
      "text/html": [
       "<strong id=\"sub_in_left_operands\"><a class=\"ProveItLink\" href=\"proofs/sub_in_left_operands/thm_proof.ipynb\">sub_in_left_operands</a> (established theorem):<br></strong> <a class=\"ProveItLink\" href=\"../__pv_it/theorems/3746a35d837f28687496fbbf51302cf6ff4d479c0/theorem_expr.ipynb\"><img src=\"data:image/png;base64,iVBORw0KGgoAAAANSUhEUgAAAwQAAAAZBAMAAAB9dfQJAAAAMFBMVEX///8AAAAAAAAAAAAAAAAA\n",
       "AAAAAAAAAAAAAAAAAAAAAAAAAAAAAAAAAAAAAAAAAAAv3aB7AAAAD3RSTlMAq1RmmUTNIjK7EInv\n",
       "3XZ/CtNrAAAACXBIWXMAAA7EAAAOxAGVKw4bAAAHMElEQVRo3u1abWgcRRh+b3fv9r5zBX+0VMMV\n",
       "qwZL42GbH0IpgVhSP5CjBSFtsUEFsSBuQSqttUZ/GUlrtFRNf7TbVtBSaGO1BVOQaJGKRTikSgke\n",
       "XG20xErMDz9qg8b3nZmdmd3N5oMj9c8N3O7MvN/vs/vOzCYAM7Q7qg402oK2fPXbGendjRTN0pz6\n",
       "pVc1IKjrGS7WJf4Eh6BAtzujIIjRzSg1kq23sam3ljztUm9FnQiWGATrqP9MFARWGW+Jxorgb38C\n",
       "pL7Ge7reMrGNQfAqXu3+KAiS9JLsbCTd15L/YmXAH1j1lofVDIIEvlGZYuRaQDidbmTdXz9u4G8S\n",
       "O9l6NWVdgsBEJBPRy/GqxqocaqkJ/CEMcHe9mhIlluFvqtWL0RBkq9UfBhtZ97UmrNtv1rDzCP5O\n",
       "XvnwnFZEAsNpms6RKTAI1gMcjIbA6oGU28i6r2H6X2IHqqfw155vtiqKFhhO03QOk9eZ7WAXoiFA\n",
       "2vZbEFW7Prhn7lWZ34zILVttFo214ES0Ks8YwG9Lz7WxDuJgOubNmFqVA8Npmo/DGGYQpNxMWWOx\n",
       "L52BNQV1NDsIZ/Da9fsnixZya8q3ZNyKWZ4vdG2RdIuHXZ6ZrrW2OTwnh72JL3F3BBZl6ZhYL/kw\n",
       "fW5RZOUQAmIwwSAwamo13rfkACzLuJarIGhlV7MCmcqCQ8CtHJmH3Ga6pAuR9Dhbx47MQldtBlXC\n",
       "GD8WSAhwtcQ3KTkuk0NDC2YqRln16sWHxYZnrXwm1tNJudae0T5QJEySiLVDfmLBIeBW1s1nS0EP\n",
       "i1We+fAzk8ZtgbeiPJsxzPekN8EWhK1O2gVDppyGTWX7RrQaJiAKUYVDcBrdMDv2jQJcpemWu/bo\n",
       "EGTuJv5sEXL4gIx3jnrlKD+6pzNcLrXJ+BX+eYO+hRQg9HRpZAkBt1LRBfxsIX3sRJMDn2c+KXam\n",
       "qYTclRoCZ55cODClSxyf8n94pEMAx8u3Q4bnMg3e0HQJgnAt0jhYvsHs5xDsRmeObSllnTRLREvm\n",
       "6GYNAvtz6r3i2rehcWdJwttPXYv1PxmyoU+ebHL7hOXazeRwaG8myQoCZsXu1gX8bCF9BtXnHZpn\n",
       "Dw1gKymp5RRCt/LMIvp+pWG5X/UOPYagLoMvBglZDj4CuO+NR2EDh+BUtxxSPU1TvaI52dE4WL7R\n",
       "m0EOQawHYNfP0OTG2ULdAu1jGgSwmC5rxn9EUE04lASbb2FLqVpPvDXwitOk19+1EsZgJz0K9tFK\n",
       "vn/DqP8dZ+QABMxKvJ8LcDvEFjTDyOIRpXuX3zOf7S7B5HdXedTlD6DLH4PfUWYMrMN/e8V8L8D7\n",
       "40ZHkUOQG5FD2Iu2q/jLEWqXQHQUB8s3TpS1j9XNsAXMZwcG3kYITiR0CFhbJO5/Abw2Ig4oDh7Q\n",
       "TwVPLVo1WArNyZXsbYwNxmrD6cBaguQgBMyKUeACwg6yhcwQWWwpSHBZwDPddq/QGHBXetTr17ws\n",
       "EIPP0WTwU1pOYsXWgnvVQ0IPgxGuRIqD8g3wMmgQfAUPJpOD/C2It4YgOC+cGLYBRKB94NgQLBI4\n",
       "aa67n28zvkOlOeZGrpztcYK1CMmSVUBw3guUBIQdZAuZIfLqjSu82tCrecaLh7K93EudcJcXIuVR\n",
       "oBD16jEoXXxstAf3+O0+CNTu6gV4ESATXokVB+UboEODwJ6Ayy38lIw74ytBCGx8xuAE7M50WyzQ\n",
       "9KA9fJb2yQewiwRxYZPGGC1/JwAuxycoDUjL9WzF80dZMQoyZ5UQMCts8WQCI1ILmlGyQl9rP63C\n",
       "+RoNQXkmmrCNyzTpqIB0Vz6/3COk6wGgKi0GpYuP86GD3Ls6BGlJtt97/WFcxsLLseJg+WZfqD0I\n",
       "4gW4XoKd+GIlv3fkHkRCMDaJ4fQVrZ8++4UFmvwCHts87tLnC+z2OckLdBGTi2n56yvC8ge6KQ04\n",
       "bXS8wz6E9BU54wWPzFglBMwKi4sJjEgtaEbJCn2xnh30xYysphyQnokmbJMy1IEaPXe9lAmPkOQL\n",
       "AFWpGDRdbJwKHU6Pexk9O1lTp2fITk1NTHPy1jh4vplC/x8u058OHAh8oNCb2AxRoAbvDuVlV01W\n",
       "8m0YfDHtpEosDQZ8APsh49akBvDInFUWInkCIgFmh7ORGSXL9eXg6iaWA0OdryQE0jZt8oryTDUk\n",
       "c+B5RHQ9AE+VdEzoYuPjoZzatbpOQ9cA5ve34zh3at9FTMYmvj2b+sfrUtskDpjGx8Qcqz0OyV9P\n",
       "03RzvBuen6p4GsAjc9YgBJbDBMgOZ2NmlCzXdwRW4Aauk1kV+3jmGV9tPduoCwUtR7krVkPhEVF8\n",
       "AXRqMShdfNy5IKfS+UBg6rvP6bolH3N87aA3vfF6UINGDkEAQ5qAZDM1Mx6ZffxBq5ng3kNKtXHB\n",
       "oWBknoa2YAAhVZoH5f8Bgudu2f8ROcFD5Nyaxxn5UcydRaM7h5n5uzWPlq+e/w/n/Hnk5u5zEwAA\n",
       "AABJRU5ErkJggg==\n",
       "\" style=\"display:inline;vertical-align:middle;\" /></a><br>"
      ],
      "text/plain": [
       "<IPython.core.display.HTML object>"
      ]
     },
     "metadata": {},
     "output_type": "display_data"
    }
   ],
   "source": [
    "sub_in_left_operands = Forall(n, Forall((P, x_1_to_n, y_1_to_n), P__x_1_to_n,\n",
    "                                        conditions=[P__y_1_to_n, x_eq_y__1_to_n]),\n",
    "                              domain=Natural)"
   ]
  },
  {
   "cell_type": "code",
   "execution_count": 18,
   "metadata": {},
   "outputs": [
    {
     "data": {
      "text/html": [
       "<strong id=\"sub_in_right_operands\"><a class=\"ProveItLink\" href=\"proofs/sub_in_right_operands/thm_proof.ipynb\">sub_in_right_operands</a> (established theorem):<br></strong> <a class=\"ProveItLink\" href=\"../__pv_it/theorems/fd2a08f49909623042a562d41ddc6d334d44bd9c0/theorem_expr.ipynb\"><img src=\"data:image/png;base64,iVBORw0KGgoAAAANSUhEUgAAAwIAAAAZBAMAAABwa4ROAAAAMFBMVEX///8AAAAAAAAAAAAAAAAA\n",
       "AAAAAAAAAAAAAAAAAAAAAAAAAAAAAAAAAAAAAAAAAAAv3aB7AAAAD3RSTlMAq1RmmUTNIjK7EInv\n",
       "3XZ/CtNrAAAACXBIWXMAAA7EAAAOxAGVKw4bAAAHXElEQVRo3u1abYhUVRh+5/PO3vnYWeiHIsmI\n",
       "VovmNqQbBWIbm60J1ZQQ+EEO/YmCcIQwNNPJXwnbuiZqK6FXg0IMGzSFlGTTHwaSDGEh0sSoW7Jp\n",
       "60ZRatT2vu85595z7+zMuEzrrzkw9+O8H8973+d87wLUKPeWctAsk1kSpW9ryrPNFNUrRgO23Lzn\n",
       "NRlorFxuwPYlwUCSbjOrMeCjmz/dzLR77Nh7q23nEk5NoRE3aWZgET2/Uo2BYAZv4eZs4CmtODp8\n",
       "aOHDxw25eY0ZeIcGs/5qDESoi6xrptxTtpYBHsIfdDfkZj4zEEYqo6mq8wDRdLiZck+5kccfDUCD\n",
       "DbmJWcRAAAejcPWZeF5zQh6n7KUfsuBvLDXhNCf4m1LpbHUGYqXSD4Vmyj3lFkDkX7wHMTWHusFM\n",
       "2hJzKA37apnq6tEkM7AYYHd1BoJ5aLGaKXcXzL7xZUo24sKDEBi1RVH/IDxey1ZXD4hBZg0YyeoM\n",
       "oGzNXfimLv3lgQkYluuYJMTNn6std4o/VxcMEr+dOEKLRIinIJJ6BnzOSmZzsAhTa5GnqyNbxECL\n",
       "Fc3om7zzR2FB0tmR7YajeF32x+dtk7kmFTEJlEBmAoZB0ZgydbjtvDPua2oqMEyZasSxDJhwDmJl\n",
       "8xFZY8XKcM480VZt3BDqio5RZsBfdibivqk7YEbUCloOAx18DRQhWpx0BgTKvokYhniSqmGygr87\n",
       "WVuuZShZF0xsBxQDELoNW/N9vyqdVVbkZhCCVZPF6up5UC51FtocL6b9cbkrqp1KhAPEmK8LEqOT\n",
       "zoBAWTThXU0tE1pti41lDbnWzDN1wXA7oNYmOApBMAvXAeYqlacgMdiaMW5W7UesLkehomDgMPoN\n",
       "dPcNAVyh6vb7NuoMRO+nEGMpiGPrGOkZUmNRYmhjT+WoqlWGLokzDToASUJF09LENgMCpejyUw+H\n",
       "NyvFCj0bkvc6cXDFrsN79kKVmnr4cmd0Q9HUgq2zJQnbBAMmVW3DioCFDJiV2adMsvr8R0do9Av0\n",
       "CwY2oPuPVqZjOZPz0B7dv0JjwPiKnjZZxj34lbmpYRXwVV//yxUQeuWhVqtX9uzy7UjF1sUROwww\n",
       "ipF1+amHM4ti1EyCA1i2O5B++tS1WuxPk0Lahve7JwJds8IXg2FZDdpyMpgM/S4Y+Izy9QSswgUS\n",
       "Dqb0Zv4J8mK/kbrZeRrOyMUsMeDDYWn9z9BqhfgErh26hjUGYApdFoxcRgIDsCcChli7plvK+VCH\n",
       "p/tTpXpePxeGYR3RbuwvJvpfGHL3bxZ7GGCUUL/0w7Z1cZZRg3abKEiOlGSkxLE7QRA8uw25T2SU\n",
       "pr42IV8OGHI4tkdNpdj5zGlDfwkG4hdpSjr5HHag9yzxdh7kJU5ElyyhbhzKwm2qzGin09NhJQRe\n",
       "HRh4Hxk4GNYZ4NIm74i1+aKcjnIQg8+8R1Za950G0yNzOSW+gq88aHrmERR7GWAUf1L4kbb1cLaM\n",
       "YyIhOdIIuZ4hY9eCQHh2G3EzoDT1Qr4cMFe5wD0hK+eB2Vx3DEQrnV3Rdf2WVPeVaRKGt0Fj4Gt4\n",
       "MhIpiD4Q6qhg4LTkfNAAkAz0Qs6AXg8GVgYWPSwmqu/QaZwx45lYPucdiFBsq0oGGIVTgn6kbT2c\n",
       "WR4TMXIwJEfKo8wWGTsFIUYhgme3nlFIac5fOgd0X/yuRiHX2dox+DQlGShQes1TAG/Am/zmKVGQ\n",
       "6rF8sCsvzvUUA8YoXGgXe2NcEF/yMmBQqzgIG6LZIDNgFozBY7SU3oGPKJAXrvQP08R4ENtHaJRS\n",
       "grJ4fhVOQRlHUYqFqs2AIdpeEYRztrVxHGMXDoyQL81EzagESQwkyhQAyNhb7KGQoiO3ibLu2dbs\n",
       "6I+D7ku8j3hz2pKDH7E7yZkYe0q87CuA8cG7S/jNO/fhj9U3QXxzXhxJKwZCSbiWhnXIS+T7nL1I\n",
       "sRkY/hs/rTcV/OnkL/xdkVPw7IoRi84s8LE3FzlDF1k5hSbG3hTMeixLKcFqf/dOPv3oTQnFM0rM\n",
       "qjYDjAKwC4QfYatwHGMXDmqjL81EdXiCvMg5Qn1MlIh9sZ0Ngie3KNI9K01ffi3ovsT7rooNVj/M\n",
       "pLnlrdUnxf7avxDnltjY2GjlblvsqVn9eUgcYWjvXynNLwZ2eE4l9CKXQdy3xePxhP3oVBYTnZiI\n",
       "lJlrSXNK/PAJbIeoVbY9gBILVXsUcu+RhK2N4xjrOLR+S7lMRCFIjvQA6autFAchPpXgye0Bt2el\n",
       "GYcry3Vf/G5W/h1lYwOboKsAE/s7cUh8Xt9ZDFhEFx77Rz1SWS53lf4jpOwrvwiR64epenooC6vH\n",
       "isoDKLFQ9TIQFLOstLVxHGMdB5VRoJvIlQVCcqQ9rC+3ChSEnF0Rnt32eDxLzX0wJ6374vfgJBzM\n",
       "TISBgL4cHO8x7VIOLSyo6qXXvB40cQUDcHxcnMC4OJ1CcNwbug2ZYf2o95xGwZPc5TlaeaKjfNU8\n",
       "M5ocBl6/a/8vlHOfXt15seqYmG69qvIKjzXA/seSKJ3+D7EueGfVUUOtAAAAAElFTkSuQmCC\n",
       "\" style=\"display:inline;vertical-align:middle;\" /></a><br>"
      ],
      "text/plain": [
       "<IPython.core.display.HTML object>"
      ]
     },
     "metadata": {},
     "output_type": "display_data"
    }
   ],
   "source": [
    "sub_in_right_operands = Forall(n, Forall((P, x_1_to_n, y_1_to_n), P__y_1_to_n, \n",
    "                                         conditions=[P__x_1_to_n, x_eq_y__1_to_n]),\n",
    "                               domain=Natural)"
   ]
  },
  {
   "cell_type": "code",
   "execution_count": 19,
   "metadata": {},
   "outputs": [
    {
     "data": {
      "text/html": [
       "<strong id=\"sub_in_left_operands_via_tuple\"><a class=\"ProveItLink\" href=\"proofs/sub_in_left_operands_via_tuple/thm_proof.ipynb\">sub_in_left_operands_via_tuple</a> (conjecture with conjecture-based proof):<br></strong> <a class=\"ProveItLink\" href=\"../__pv_it/theorems/0cb2155de6abd7c37dc69c633848e1d8021b47070/theorem_expr.ipynb\"><img src=\"data:image/png;base64,iVBORw0KGgoAAAANSUhEUgAAAvsAAAAZBAMAAABdvPzdAAAAMFBMVEX///8AAAAAAAAAAAAAAAAA\n",
       "AAAAAAAAAAAAAAAAAAAAAAAAAAAAAAAAAAAAAAAAAAAv3aB7AAAAD3RSTlMAq1RmmUTNIjK7EInv\n",
       "3XZ/CtNrAAAACXBIWXMAAA7EAAAOxAGVKw4bAAAG/ElEQVRo3u1ab2wURRR/t3fbve796TX6AfzT\n",
       "lFi1EVsu2KIkBC+pWEAlFRIT/kQu+sFIYjgSgwEJnHwSrdhoCpYYWJCoSFJOEBMhkiofMBLJfQBD\n",
       "Gi7ZQtVUpNTEyB+j9b2Z3Z3Z3bva41L8cpN0d3bee/N7+9uZN2/mCjBBubeQgWqZsnKl0DihPF2l\n",
       "qHTRKrcOJqv032q5WJG1anL6E/RwXyn6A3RTklWyrRLfc6N+x2JGSq6yni5x+hdQ/aVS9Ie68FZT\n",
       "XQGcUocR4UMDKx9X2FGNweh/gwJRTyn6wzQ5NlRZd8q7GDRmUeDoqLCjYIrRT18h0lgy9q/B2+Eq\n",
       "6065msU/ijsDlfb0PaOfVt+a0kvvI9UV2FX20B9+AqViUl7kmc8PhcLp0vRHC4ULuSrrTrkBEP4H\n",
       "7yEkRR+96205MvQPfXp8wkzeZfA5p38hwK7S9IeyUGtUWbcLUq99TRTXIHMhGDKfkYSpeEMoP5G1\n",
       "y2AOp38daInS9KNs3W14rZT88ODk80B+U8pIzeK3BGTa1r8fP0LJIMTwGzwKjxt3SItpJngzMGGO\n",
       "7jJ4mNNfa0S65O3Y2aMwLyG2XbvgKF6X//FF/VSmnzz14ijBrnI/W/utfekygELWvXbMqkTRNgtP\n",
       "UkSZY88MCCFh+vH6ktGCG9g5FKdfMcXKu316L8yIGCFD0N/KrsE8RPJTTj9H2VuG3UoWUhNQrgkr\n",
       "ZQCpOZH2O/QDnCHOrjhaUZM+1EQB6IyorrIOHdLznW+8kHbAZioiHTrUBGniBVIQH5ty+jnKgjI3\n",
       "L3xvWJ4JK+UArbGGrJ2GUPAB9Rp8BtDiKK3O6EZdl3a99FdkBry0WPQfxq6DHduH+UYYmu/fLNMf\n",
       "eYDcjTZCDMfYaOewHYLiw5s7/YFValSH+JEFlucT4Bugktihn6PkZQO3mq8/tmOJgcszqVrMM7HJ\n",
       "yZfho5WwXLW/dK0Jem9gAHKcfuLoQNc9EIGggfTrfuZRwzJoe2yUAuBci/5NCPvRqmQ0ozMSmiP7\n",
       "Vkr0a99QbYuh3YnvkJleYzv/S6DnBR+G3NhfZ3Rb+ZZ5M+zbpQixoJ+haGnZwK3m60+hF1nv8kx2\n",
       "sphnaLKoD0sSgSbvYxO/rbVFkQQo1/cPqI2Mfv1PbJr11tOwlER5OJS22pwKXbiB3n4STmHLUxb9\n",
       "AdxFbPwZ6gyVLdvNkBqR6IdpdJk3epHOKGB3GDSepiZrzaza6pm/1GjXN7bACGygYaHty8d7lg67\n",
       "QwQTe+hnKGoPN+A4pOaFYWJrfNJ9ucszVvWiSZ6p9gkLVibv43J2XTS+215n86AvMZtm8ygCBexj\n",
       "/6jSQd/9HQNig3g/SxMzZVVIgxto/Wm4iQ3n5APnBlwKgi/39b2H9B+skelnpd66XwPYOmitQhmI\n",
       "wiHviZQ07e+GhnALC7SBXMAc0D1rB4q99DMUJcENLBxU88GQ2GKBDGd4PMOqD014FrbpJ6BJ+7jN\n",
       "OzPOgxTEQRHZDhsED/mmn9AImCrOMy0v0/8dPBEO5/joV1t99J+0XB/QAKyX7IaMBt7AgI3BBbP5\n",
       "+nQOO40x0FhXNJvxzm0UO6oW/SdtesjAwkE1HwyJ25bNtIPPNrdnVPWhCc+c4ENAk/axyUtnm4v+\n",
       "iBC8Cq8B+A8KhEY0G0plIZSU6NfG4Hwz3/1iEj3kpV/DAQUHYVMkHWIvqee0gS8pg+7FKgqsC2tU\n",
       "RmjxPIjjQx2jV0NZLLsaF6suoWiJuapDP0OhFZEbDDq9IIywtfpr7aEVN27SIwjPbCcRrYRncVMs\n",
       "vUV8FFYuH0e9dNZmZPr7xeD/4M3FuJL46BcaWyC2NcuOkR361QRcTsIGDI/hHzPOcu/QP/IXjpDu\n",
       "xtBPJ35lLxn+FpasHDXoSAKr3ZnwKbpYjdNwTUNlaJqbplfDZqVjBzvc6G7kiqdsMVN16GcoADuB\n",
       "Gww6vSCMsLX6C2TXMxLwEZlwPLOdXAilPBO8IZDfR2Hl8nGnb/23Y9jra0+IXTGO7fHxMdfW2rNv\n",
       "BngW4kd4h54fG/Wv+no9hw5ysfIJmuIKrx6LO1XRmI+3I42NeqY2ySa2Ap/A+xAxTKcHsMVc1Qk+\n",
       "zr6IDBgOVyMYYcv7i8GlFZjs0aO9J+IWfKoTWnHPDkhAxXxUivmo+38R2VzRRieegTJ/61U5U9tP\n",
       "4xuu4DuY8b/tKhVe0xPKEVIOmM9B+LfD1NygpmHteN7uAWwxV/XSH8owA8LhagxG2PL+9sJMdL6T\n",
       "oVoZPbfgCSKilfCsUwIq4qOwkn0MTcmJS1n0B+U8rlg16VJW5+fs5mWXvT1IYh/9cEwycNSCEowt\n",
       "Zqc2SRrr/+Gk5Jl80HOsiI9CV/axHf4H+l+5bf/n48LRJ22miy1luSblAU3JmfuVC8l/AZ+ObPXS\n",
       "CACzAAAAAElFTkSuQmCC\n",
       "\" style=\"display:inline;vertical-align:middle;\" /></a><br>"
      ],
      "text/plain": [
       "<IPython.core.display.HTML object>"
      ]
     },
     "metadata": {},
     "output_type": "display_data"
    }
   ],
   "source": [
    "sub_in_left_operands_via_tuple = Forall(n, Forall((P, x_1_to_n, y_1_to_n), P__x_1_to_n, \n",
    "                                                  conditions=[P__y_1_to_n, Equals([x_1_to_n], [y_1_to_n])]),\n",
    "                                        domain=Natural)"
   ]
  },
  {
   "cell_type": "code",
   "execution_count": 20,
   "metadata": {},
   "outputs": [
    {
     "data": {
      "text/html": [
       "<strong id=\"sub_in_right_operands_via_tuple\"><a class=\"ProveItLink\" href=\"proofs/sub_in_right_operands_via_tuple/thm_proof.ipynb\">sub_in_right_operands_via_tuple</a> (conjecture with conjecture-based proof):<br></strong> <a class=\"ProveItLink\" href=\"../__pv_it/theorems/80b7454f359e46c236fc63c409d20e976563fdbc0/theorem_expr.ipynb\"><img src=\"data:image/png;base64,iVBORw0KGgoAAAANSUhEUgAAAvkAAAAZBAMAAABZSSzgAAAAMFBMVEX///8AAAAAAAAAAAAAAAAA\n",
       "AAAAAAAAAAAAAAAAAAAAAAAAAAAAAAAAAAAAAAAAAAAv3aB7AAAAD3RSTlMAq1RmmUTNIjK7EInv\n",
       "3XZ/CtNrAAAACXBIWXMAAA7EAAAOxAGVKw4bAAAG5ElEQVRo3u1ab4hUVRQ/8+bPm5m3M47QBzdJ\n",
       "RtxsSV2GagNDbMJshbCWhMA/5FBBFETjF2FNdJM+JGy6JhbrB33qh4gNHS2FjGRTwlCqITRkceOZ\n",
       "W7Gp20JZ5lLbOffc996d93Z2ZnZdP82B996Ze86557zfu3/OubsAE9B9A3mo03TRjYH0hPJcHaKJ\n",
       "aApDU6dbMFNHf9KUTE/eNmwx+in6Ma8c+gF6aJk61A4Nje1qfNkkbsFUurnK6C8n/pVy6Ifa8RGp\n",
       "r/4K/QUQO4fP+JRWhogp0H+LVqHucuhHaWp01CF3KfofLgZ4QWhKK0IwK9Cnj2Cky677r+HjWB1z\n",
       "ZbW/hdcoMg1T6+ecQJ823kj5Xffh+uZbSrERvPALwPyp9fMS5zzfDAycL49+w8DA5UIdc5dm4Cq9\n",
       "kzKWp3HpH8zAAVd0eBnEUxOYlqgfZfRXAOwtj36oE2JmHXOXEPk3v5eD19D64HFXVFgIwZEJTEvU\n",
       "H2X0N4CeKo8+yjbchXfKqj8eqMHQmrSJyKWrzuaSNvP77M9bBYOfYFuoCI3ufpxeCYHuCfooUV/I\n",
       "6MdMo12twi4chyUpt9raC8fxvvrPT2dOZ97JQbOXYHsNhiHOIGo3EdRa+/jYbzd8BWA2WPAtHJL7\n",
       "Yhz5Bqv36L3lumB1ew4x+prlbro7GvfAXMMMmS76LeIeLIJRnHb02cuBmopGsSlNwkTglareaq2b\n",
       "7jvow3ozeis6bAMTvg07O7OwsmwfpG7z6+RJQ26pMypWUN1rZQ3lpCESpJkayEJyZNrRZy/La7Kk\n",
       "lHgyJuJ9a5gyER6R0VG7gRb/pyDZB5qNfigH1+EmbO0s14dQl7RIon8Mowku2zHI5S80379FRd+Y\n",
       "T24b0pDAgTLcNmivP8nBLW3+1VFpDF/hcwqkF1LgG2WK2EGfvRRL+qnkRxQjVZgosTv1S0INrTQg\n",
       "X+SyJkretEX78NoFsRSjTyAhvwseI/T9eUocpDojDbBYor8Z+z+0LtOQjwsMmo2DaxX09S+J22rq\n",
       "96DrfGPELsx+DXS/6POhNh6eYXZJz9btaJ9X1RW76Asveq6kn0p+mijGKkyU2Jsg1IO0GzaqoZUG\n",
       "5Itc44U/MqKkjPAErM8I9OO0IIVS4T/w8QX/ErcjOYUR6gJpTlgF+gGcKZt+gRlmWNTOzZAdUtCH\n",
       "WXRbMvwTHUzAvijonJ9mYlZnuMUz5anR5jctgiHooFGgHywmu58bLJ3mQuxBX3gJd8t+hG1FP6tp\n",
       "2FZhImJ3TSQjQuM3ooC8VkIsp4Z4hvb/Y6dM79J+c+rZPI/9AfQcnz34N65N/fwLLtDsytpMv1QX\n",
       "SCN/UT1hnoPbQPDVnp73EP3eiIq+oJnyib1v65dlRx6L7SPeWkRJjGbDnOgiAUegELD64p59A8Ve\n",
       "9IUXLcX9SNtKfrZXa0KxuyaC5nJo8o0wIJ8ViWU+6c0lE+L7nwBGXxOeDUSMRoDmX3oeBKlOSON3\n",
       "Larofw1PRqMFHvvhFh/6Z2QIfTqARL8L8jp45yo2Bpc/xEnFRew0IcJItDd05r2LD4odVYn+Gec1\n",
       "sR9pW8lPU7UmFPsjqxaoK892Dk2+EQbksyIxG2lZ/zmZkYuflugbAtqP06Bn9TwY/m2nAFKdkOYz\n",
       "Ogd9fQQuNXPNiznwFS/6Oo2bXths5EIC/XhB7ztBKfAeZFEgb6JRG6JNsBfgUniE4EBZonM97knt\n",
       "rqIUs6qDvs6jswjcubB1/LjGJX5gmPqqZGLH3tKdECburitC63fi9TgSYjZKWl48P4CEFShI9A/j\n",
       "9SNOH+h4521T/PLuIMDqjLQ4N3bQD6fgWgY6cDJFf8g7e7+D/tAoDqqudOjnU7+JWKOn4Zm1wyad\n",
       "QyDblY+epZtsnEWbYFcamhbnCA5s1pa9L040utKseNYWC1UHfeGF3or7YVvbj2tc4ge1sa9KJnbs\n",
       "gc6N7ECemOU5tH4nXq8jErNRzFdsfgTaUtwm9BOjFhfQ82hr+25srKScVmploc5Iixg8f1mMf9az\n",
       "x3PSoJJMGWieasyeTDqs21hMtiKK6Xg+lhFLgQYfwm4wTMvpAWwxqzorT2ldw7aOH9dY9UN5Wrqy\n",
       "ieQScHUNxLuVuotCE2/EAXkdkVgYIdZe0q0pnFPnoca/64YZqB3nMbo1nH6N/WuzRGtkAal9QsoB\n",
       "63mIXj9GzXPCOXhjrGj3ALaYVb3oh3iUSVvHj2us+kFlFFQ0kdwBWJCxlYnaRGj0RhyQzxGJhRG0\n",
       "3fkSsyb0g2rKNx6bKVEOLy3YzauueXtQxD704eS4foLj+mllQSWTIIx7uGOYbmhOQKojW1zbSdKd\n",
       "Qf/1u/b/PHlfXVglmZM28fETUvzOv/ONy5n/Ad1vc0MeBod1AAAAAElFTkSuQmCC\n",
       "\" style=\"display:inline;vertical-align:middle;\" /></a><br>"
      ],
      "text/plain": [
       "<IPython.core.display.HTML object>"
      ]
     },
     "metadata": {},
     "output_type": "display_data"
    }
   ],
   "source": [
    "sub_in_right_operands_via_tuple = Forall(n, Forall((P, x_1_to_n, y_1_to_n), P__y_1_to_n, \n",
    "                                                   conditions=[P__x_1_to_n, Equals([x_1_to_n], [y_1_to_n])]),\n",
    "                                         domain=Natural)"
   ]
  },
  {
   "cell_type": "code",
   "execution_count": 21,
   "metadata": {},
   "outputs": [
    {
     "data": {
      "text/html": [
       "<strong id=\"multi_substitution\"><a class=\"ProveItLink\" href=\"proofs/multi_substitution/thm_proof.ipynb\">multi_substitution</a> (conjecture with conjecture-based proof):<br></strong> <a class=\"ProveItLink\" href=\"../__pv_it/theorems/9916704dbdf0bb8da6a6ca814cd81d2141e6975a0/theorem_expr.ipynb\"><img src=\"data:image/png;base64,iVBORw0KGgoAAAANSUhEUgAAA10AAAAZBAMAAAA4dFmLAAAAMFBMVEX///8AAAAAAAAAAAAAAAAA\n",
       "AAAAAAAAAAAAAAAAAAAAAAAAAAAAAAAAAAAAAAAAAAAv3aB7AAAAD3RSTlMAq1RmmUTNIjK7EInv\n",
       "3XZ/CtNrAAAACXBIWXMAAA7EAAAOxAGVKw4bAAAIa0lEQVRo3u1abYhUVRh+587M3tl7d2Yn6of2\n",
       "ISNpSbo6mWsZYROraR/WVBD5QQ76IxKiCaKwwjbpRx+bbomZ+yOuFZYZNVoJJcm0EYmiTaFh4sY1\n",
       "t8LKZSEqMWg75z2f956Z2XQwaujAvfOee5/znHvPc8/7vufsAoxaLhoowv/l31BODGT+BqrQ5KNg\n",
       "17AbYzJKsTFe5I5m/9cLvq1hn36J+7XvpTKN8SI30StNL1xcX68I/bGyzSmXVaLn2E5P2mdejlW7\n",
       "eNOH9Dy5Ud5jTK+5tH5Pfb1iefLT0qRRbDOet/VkpH3mpcUzr7lj+snZKTTKSw+i1xPUN/bW1ytB\n",
       "J+HKJnWHXXjuX+hJ+8xLNGdea5vYR+dvtlFePLIom5sZJX6tID/bm1SvMkaIU8pupOwxLy3FOdfW\n",
       "OO8e1IumHC2j5RtXNG/aYeF7uRVlN1KWm5c+wvMljfMuZ/nhvoGBvaPp1TYwcKTUnHrF6HtFL/wi\n",
       "x21n6PxndVfy9tE3dtZ1P4EG24zbl+87D5MOAhzMwiaNuAucdD1eHb6NHVSv+QB9o+kV64ZWrzn1\n",
       "asHA0u4LOwZH/QXa/VxqXKxSV3C9wUy8MoCFi/GnmCCuVYZrVbvSFIgO1+ENwGeyg+r1ANjVZC7p\n",
       "ehHEA2f/S+cOqlYemuK/l9YiMFY/l9buTGKTOHke7xb2lXCtd64W6YvRU5G6uUKgwRRzrXsSf74E\n",
       "WE10HyuvJzILIFIvzwvAp7CD6tXquXmd/8D7cA0RMBdYL/fB+9R8ress6tXKfjprAtgjRfOjCK7G\n",
       "Oj/qx0FcPYKmSbsbrqfOaKYYVoiR93d2nlPTvbAGvKw14yObQ58CeG0+7IdXeYx0iN3mb912fi1e\n",
       "Btd41zK9LF+lG2vGrofxrhfzwnpNZenGurvOul51fPpiPG+qvQ0QCrGb6m0ZlAJ6faTZdJDWnFD5\n",
       "uE/VrecT9ytzienWKkIvkikmTiaGBBFJSdd252BBTVoK13mX8P2owmz50c2nex1+zoWwXi1RdCCn\n",
       "4KzrFcuPshqdW5thRbA6t15vKwL+8Hllx3+HNwE61LAVHa89b5+sLT02YKXDiF+taeEPyTxMlcES\n",
       "epF5+zP8yj1xtYJwjbeD67WdPHq0a80g306ZNHGVC+/NOTAnr+nlXkLHavxe+kJD8wZFiNFMLc4M\n",
       "rpon7LvTkDZN9apH2V6XplcySKCD2DKxYnQrmUNLxIpBpT2EwLb6aooQ21kfKdPY3YEuC2BL/kJw\n",
       "IeoRvZwqPgtEgxlXDdEvfJa5XGaR8mX8KIh4VC+HC/k8XE31Ml2tAxzOdGG8s7hej5E3eHVJtq3o\n",
       "YPib5L6y2Jhf9scYECggVRzbwhNczdTKD5HeZaJf/1SibJhaTtvu9YT0ekgjuGEjKVkJsugz2QXV\n",
       "bYzeX6eYJwQjfUGjCkMl1qX62b8K2zr5WjmeYXq9QwimPXMz3M7cGq06v/HrssYaOJ2fwGcsbQ+V\n",
       "x/MyIb8OlmZRLySIpeO/oCc2OVmNwlEXznsT1ytCZuQj30O7F8c8aBLkjht6wRh8aXoxCi8nwMYl\n",
       "AJq3D4Y8WLbVF3PcfqWS6mVYNMPYRzrgeEivhZxgpRcA0Wqcfi7kFOpWMS8MTt7ewLNIKIh+WEJR\n",
       "UUkBsZ1b/AnTuQNKHiYZ1pDVRb+N5zyswgF6PSdOAx5vYL9dwGBx0NCLZTLwHI2nu24tol7I5Fww\n",
       "+Dvp8jCyaJwHeM8IR10470H97ynjSDiL3rtx4wtEr60tpl5sRBmcdLP6MAiz7IRXEe3KWUVKEZ9j\n",
       "qWlgLyAdB/UazwgSHZ4OwmqCDrWVNrqVzE8HM7N08FkElFkSewi/dWVrgegyJXRfoCq7kA8Z8eNk\n",
       "4tpmVnIdD5P42ewAFr8Yk0tGln6HlukQGWAH04Xx0kPptRvmJBIlNr/iU8PrL+GLsdNE2QZgGlCz\n",
       "aLi5HihG505HgmSetGFYahrYg7BbQLleTzMCSHrCH1IQVtEfUtFEt8zJKeagP0R5xbNo0Bl3TNZ9\n",
       "5wzyjQivPiOolxqDB+FhvSqTP21oYrluc1fXSi+TO7ZuwennepVQjLcyYOfsosair34ZnOrCdovp\n",
       "IfWyh+HQJLbPQdY/R8P7G7y848FWeMwtxFAvYbbmwSmRGj/Z5R2Qs46TaE8uJLuXIlaYBLtVQ8Oh\n",
       "+DBC9XwDCVAgMQPiw1hN+bRJRXUrUjzODENB8gqoZ9GgU3uTNFWS07oIX29WtqaXIxfV9ktP3ahV\n",
       "VfxVYQqSq7vNv2Ek+8TobYCkHykxvZDpG+I3YOVTT3oai8w3CADhTBfkpYfUK56Gn7KwksyfxFdF\n",
       "LWcL6kXCfk8m9t2uH1EDYZJFQKIfeoqJz+ipH25ZPOTBGBLtiW11vYhYYc6nzRiQnDIwYVYBoUov\n",
       "MmRIoOlFQbRKbpEmG0B2Kz5izkxuBcg3gHoWDRrpfgixYmx6YfY8ZbPy6P271IYKmT0jI8NatcqO\n",
       "ym2QelcjlUt2mchuAWs2WWDYO/7wGdPFNOJ+PjJSZV8GAQhnuiDvBjD+H8D5YOP6qvuHynUA9xyH\n",
       "pel6pD9LDR7PpVOdHrFfh3UMy0zEqowy4xRJSESo1EssZJVeCKLVLdjnYlDdsiKY6Whr5AIpO+DQ\n",
       "JBxbpJQBWKW966qGVpCpOn/Stf3GeJH79P5/4wWSJMbZm68hKzFu3j9CZvgiiV7Edymsd6k9Ll5A\n",
       "LDcpNi6FiHsR/04OVftR7FtP/LxdhfI7WXUedh8rqm55rsSZyR2dXCBlBxy6CSZnxb3/WDk9vXb5\n",
       "NIVXjfUcvopF7Tt+MsyoRhCfXTL2D91wtiRAdDuQNv4w/ICCuTNIXgWpnqcTmlav+/6h/z+01aZB\n",
       "9T8IhX6r7TZUb/F3sP+FcuJI9i/ye7qXdwQR8AAAAABJRU5ErkJggg==\n",
       "\" style=\"display:inline;vertical-align:middle;\" /></a><br>"
      ],
      "text/plain": [
       "<IPython.core.display.HTML object>"
      ]
     },
     "metadata": {},
     "output_type": "display_data"
    }
   ],
   "source": [
    "multi_substitution = Forall(n, Forall((f, x_1_to_n, y_1_to_n),\n",
    "                                     Equals(f__x_1_to_n, f__y_1_to_n),\n",
    "                                      conditions=[elementwise_equality]),\n",
    "                            domain=NaturalPos)"
   ]
  },
  {
   "cell_type": "code",
   "execution_count": 22,
   "metadata": {},
   "outputs": [
    {
     "data": {
      "text/html": [
       "<strong id=\"mult_sub_left_into\"><a class=\"ProveItLink\" href=\"proofs/mult_sub_left_into/thm_proof.ipynb\">mult_sub_left_into</a> (conjecture without proof):<br></strong> <a class=\"ProveItLink\" href=\"../__pv_it/theorems/10dd19215fbedd4fa38c5f4f405bece87d7c26640/theorem_expr.ipynb\"><img src=\"data:image/png;base64,iVBORw0KGgoAAAANSUhEUgAAAwQAAAAZBAMAAAB9dfQJAAAAMFBMVEX///8AAAAAAAAAAAAAAAAA\n",
       "AAAAAAAAAAAAAAAAAAAAAAAAAAAAAAAAAAAAAAAAAAAv3aB7AAAAD3RSTlMAq1RmmUTNIjK7EInv\n",
       "3XZ/CtNrAAAACXBIWXMAAA7EAAAOxAGVKw4bAAAHMElEQVRo3u1abWgcRRh+b3fv9r5zBX+0VMMV\n",
       "qwZL42GbH0IpgVhSP5CjBSFtsUEFsSBuQSqttUZ/GUlrtFRNf7TbVtBSaGO1BVOQaJGKRTikSgke\n",
       "XG20xErMDz9qg8b3nZmdmd3N5oMj9c8N3O7MvN/vs/vOzCYAM7Q7qg402oK2fPXbGendjRTN0pz6\n",
       "pVc1IKjrGS7WJf4Eh6BAtzujIIjRzSg1kq23sam3ljztUm9FnQiWGATrqP9MFARWGW+Jxorgb38C\n",
       "pL7Ge7reMrGNQfAqXu3+KAiS9JLsbCTd15L/YmXAH1j1lofVDIIEvlGZYuRaQDidbmTdXz9u4G8S\n",
       "O9l6NWVdgsBEJBPRy/GqxqocaqkJ/CEMcHe9mhIlluFvqtWL0RBkq9UfBhtZ97UmrNtv1rDzCP5O\n",
       "XvnwnFZEAsNpms6RKTAI1gMcjIbA6oGU28i6r2H6X2IHqqfw155vtiqKFhhO03QOk9eZ7WAXoiFA\n",
       "2vZbEFW7Prhn7lWZ34zILVttFo214ES0Ks8YwG9Lz7WxDuJgOubNmFqVA8Npmo/DGGYQpNxMWWOx\n",
       "L52BNQV1NDsIZ/Da9fsnixZya8q3ZNyKWZ4vdG2RdIuHXZ6ZrrW2OTwnh72JL3F3BBZl6ZhYL/kw\n",
       "fW5RZOUQAmIwwSAwamo13rfkACzLuJarIGhlV7MCmcqCQ8CtHJmH3Ga6pAuR9Dhbx47MQldtBlXC\n",
       "GD8WSAhwtcQ3KTkuk0NDC2YqRln16sWHxYZnrXwm1tNJudae0T5QJEySiLVDfmLBIeBW1s1nS0EP\n",
       "i1We+fAzk8ZtgbeiPJsxzPekN8EWhK1O2gVDppyGTWX7RrQaJiAKUYVDcBrdMDv2jQJcpemWu/bo\n",
       "EGTuJv5sEXL4gIx3jnrlKD+6pzNcLrXJ+BX+eYO+hRQg9HRpZAkBt1LRBfxsIX3sRJMDn2c+KXam\n",
       "qYTclRoCZ55cODClSxyf8n94pEMAx8u3Q4bnMg3e0HQJgnAt0jhYvsHs5xDsRmeObSllnTRLREvm\n",
       "6GYNAvtz6r3i2rehcWdJwttPXYv1PxmyoU+ebHL7hOXazeRwaG8myQoCZsXu1gX8bCF9BtXnHZpn\n",
       "Dw1gKymp5RRCt/LMIvp+pWG5X/UOPYagLoMvBglZDj4CuO+NR2EDh+BUtxxSPU1TvaI52dE4WL7R\n",
       "m0EOQawHYNfP0OTG2ULdAu1jGgSwmC5rxn9EUE04lASbb2FLqVpPvDXwitOk19+1EsZgJz0K9tFK\n",
       "vn/DqP8dZ+QABMxKvJ8LcDvEFjTDyOIRpXuX3zOf7S7B5HdXedTlD6DLH4PfUWYMrMN/e8V8L8D7\n",
       "40ZHkUOQG5FD2Iu2q/jLEWqXQHQUB8s3TpS1j9XNsAXMZwcG3kYITiR0CFhbJO5/Abw2Ig4oDh7Q\n",
       "TwVPLVo1WArNyZXsbYwNxmrD6cBaguQgBMyKUeACwg6yhcwQWWwpSHBZwDPddq/QGHBXetTr17ws\n",
       "EIPP0WTwU1pOYsXWgnvVQ0IPgxGuRIqD8g3wMmgQfAUPJpOD/C2It4YgOC+cGLYBRKB94NgQLBI4\n",
       "aa67n28zvkOlOeZGrpztcYK1CMmSVUBw3guUBIQdZAuZIfLqjSu82tCrecaLh7K93EudcJcXIuVR\n",
       "oBD16jEoXXxstAf3+O0+CNTu6gV4ESATXokVB+UboEODwJ6Ayy38lIw74ytBCGx8xuAE7M50WyzQ\n",
       "9KA9fJb2yQewiwRxYZPGGC1/JwAuxycoDUjL9WzF80dZMQoyZ5UQMCts8WQCI1ILmlGyQl9rP63C\n",
       "+RoNQXkmmrCNyzTpqIB0Vz6/3COk6wGgKi0GpYuP86GD3Ls6BGlJtt97/WFcxsLLseJg+WZfqD0I\n",
       "4gW4XoKd+GIlv3fkHkRCMDaJ4fQVrZ8++4UFmvwCHts87tLnC+z2OckLdBGTi2n56yvC8ge6KQ04\n",
       "bXS8wz6E9BU54wWPzFglBMwKi4sJjEgtaEbJCn2xnh30xYysphyQnokmbJMy1IEaPXe9lAmPkOQL\n",
       "AFWpGDRdbJwKHU6Pexk9O1lTp2fITk1NTHPy1jh4vplC/x8u058OHAh8oNCb2AxRoAbvDuVlV01W\n",
       "8m0YfDHtpEosDQZ8APsh49akBvDInFUWInkCIgFmh7ORGSXL9eXg6iaWA0OdryQE0jZt8oryTDUk\n",
       "c+B5RHQ9AE+VdEzoYuPjoZzatbpOQ9cA5ve34zh3at9FTMYmvj2b+sfrUtskDpjGx8Qcqz0OyV9P\n",
       "03RzvBuen6p4GsAjc9YgBJbDBMgOZ2NmlCzXdwRW4Aauk1kV+3jmGV9tPduoCwUtR7krVkPhEVF8\n",
       "AXRqMShdfNy5IKfS+UBg6rvP6bolH3N87aA3vfF6UINGDkEAQ5qAZDM1Mx6ZffxBq5ng3kNKtXHB\n",
       "oWBknoa2YAAhVZoH5f8Bgudu2f8ROcFD5Nyaxxn5UcydRaM7h5n5uzWPlq+e/w/n/Hnk5u5zEwAA\n",
       "AABJRU5ErkJggg==\n",
       "\" style=\"display:inline;vertical-align:middle;\" /></a><br>(alternate proof for <a class=\"ProveItLink\" href=\"#sub_in_left_operands\">sub_in_left_operands</a>)<br>"
      ],
      "text/plain": [
       "<IPython.core.display.HTML object>"
      ]
     },
     "metadata": {},
     "output_type": "display_data"
    }
   ],
   "source": [
    "mult_sub_left_into = Forall(n, Forall((P, x_1_to_n, y_1_to_n), P__x_1_to_n, \n",
    "                                      conditions=[P__y_1_to_n, elementwise_equality]),\n",
    "                            domain=Natural)"
   ]
  },
  {
   "cell_type": "code",
   "execution_count": 23,
   "metadata": {},
   "outputs": [
    {
     "data": {
      "text/html": [
       "<strong id=\"mult_sub_right_into\"><a class=\"ProveItLink\" href=\"proofs/mult_sub_right_into/thm_proof.ipynb\">mult_sub_right_into</a> (conjecture without proof):<br></strong> <a class=\"ProveItLink\" href=\"../__pv_it/theorems/2775fb079e348aa7c6988b10daa960e1ab90a3830/theorem_expr.ipynb\"><img src=\"data:image/png;base64,iVBORw0KGgoAAAANSUhEUgAAAwIAAAAZBAMAAABwa4ROAAAAMFBMVEX///8AAAAAAAAAAAAAAAAA\n",
       "AAAAAAAAAAAAAAAAAAAAAAAAAAAAAAAAAAAAAAAAAAAv3aB7AAAAD3RSTlMAq1RmmUTNIjK7EInv\n",
       "3XZ/CtNrAAAACXBIWXMAAA7EAAAOxAGVKw4bAAAHXElEQVRo3u1abYhUVRh+5/PO3vnYWeiHIsmI\n",
       "VovmNqQbBWIbm60J1ZQQ+EEO/YmCcIQwNNPJXwnbuiZqK6FXg0IMGzSFlGTTHwaSDGEh0sSoW7Jp\n",
       "60ZRatT2vu85595z7+zMuEzrrzkw9+O8H8973+d87wLUKPeWctAsk1kSpW9ryrPNFNUrRgO23Lzn\n",
       "NRlorFxuwPYlwUCSbjOrMeCjmz/dzLR77Nh7q23nEk5NoRE3aWZgET2/Uo2BYAZv4eZs4CmtODp8\n",
       "aOHDxw25eY0ZeIcGs/5qDESoi6xrptxTtpYBHsIfdDfkZj4zEEYqo6mq8wDRdLiZck+5kccfDUCD\n",
       "DbmJWcRAAAejcPWZeF5zQh6n7KUfsuBvLDXhNCf4m1LpbHUGYqXSD4Vmyj3lFkDkX7wHMTWHusFM\n",
       "2hJzKA37apnq6tEkM7AYYHd1BoJ5aLGaKXcXzL7xZUo24sKDEBi1RVH/IDxey1ZXD4hBZg0YyeoM\n",
       "oGzNXfimLv3lgQkYluuYJMTNn6std4o/VxcMEr+dOEKLRIinIJJ6BnzOSmZzsAhTa5GnqyNbxECL\n",
       "Fc3om7zzR2FB0tmR7YajeF32x+dtk7kmFTEJlEBmAoZB0ZgydbjtvDPua2oqMEyZasSxDJhwDmJl\n",
       "8xFZY8XKcM480VZt3BDqio5RZsBfdibivqk7YEbUCloOAx18DRQhWpx0BgTKvokYhniSqmGygr87\n",
       "WVuuZShZF0xsBxQDELoNW/N9vyqdVVbkZhCCVZPF6up5UC51FtocL6b9cbkrqp1KhAPEmK8LEqOT\n",
       "zoBAWTThXU0tE1pti41lDbnWzDN1wXA7oNYmOApBMAvXAeYqlacgMdiaMW5W7UesLkehomDgMPoN\n",
       "dPcNAVyh6vb7NuoMRO+nEGMpiGPrGOkZUmNRYmhjT+WoqlWGLokzDToASUJF09LENgMCpejyUw+H\n",
       "NyvFCj0bkvc6cXDFrsN79kKVmnr4cmd0Q9HUgq2zJQnbBAMmVW3DioCFDJiV2adMsvr8R0do9Av0\n",
       "CwY2oPuPVqZjOZPz0B7dv0JjwPiKnjZZxj34lbmpYRXwVV//yxUQeuWhVqtX9uzy7UjF1sUROwww\n",
       "ipF1+amHM4ti1EyCA1i2O5B++tS1WuxPk0Lahve7JwJds8IXg2FZDdpyMpgM/S4Y+Izy9QSswgUS\n",
       "Dqb0Zv4J8mK/kbrZeRrOyMUsMeDDYWn9z9BqhfgErh26hjUGYApdFoxcRgIDsCcChli7plvK+VCH\n",
       "p/tTpXpePxeGYR3RbuwvJvpfGHL3bxZ7GGCUUL/0w7Z1cZZRg3abKEiOlGSkxLE7QRA8uw25T2SU\n",
       "pr42IV8OGHI4tkdNpdj5zGlDfwkG4hdpSjr5HHag9yzxdh7kJU5ElyyhbhzKwm2qzGin09NhJQRe\n",
       "HRh4Hxk4GNYZ4NIm74i1+aKcjnIQg8+8R1Za950G0yNzOSW+gq88aHrmERR7GWAUf1L4kbb1cLaM\n",
       "YyIhOdIIuZ4hY9eCQHh2G3EzoDT1Qr4cMFe5wD0hK+eB2Vx3DEQrnV3Rdf2WVPeVaRKGt0Fj4Gt4\n",
       "MhIpiD4Q6qhg4LTkfNAAkAz0Qs6AXg8GVgYWPSwmqu/QaZwx45lYPucdiFBsq0oGGIVTgn6kbT2c\n",
       "WR4TMXIwJEfKo8wWGTsFIUYhgme3nlFIac5fOgd0X/yuRiHX2dox+DQlGShQes1TAG/Am/zmKVGQ\n",
       "6rF8sCsvzvUUA8YoXGgXe2NcEF/yMmBQqzgIG6LZIDNgFozBY7SU3oGPKJAXrvQP08R4ENtHaJRS\n",
       "grJ4fhVOQRlHUYqFqs2AIdpeEYRztrVxHGMXDoyQL81EzagESQwkyhQAyNhb7KGQoiO3ibLu2dbs\n",
       "6I+D7ku8j3hz2pKDH7E7yZkYe0q87CuA8cG7S/jNO/fhj9U3QXxzXhxJKwZCSbiWhnXIS+T7nL1I\n",
       "sRkY/hs/rTcV/OnkL/xdkVPw7IoRi84s8LE3FzlDF1k5hSbG3hTMeixLKcFqf/dOPv3oTQnFM0rM\n",
       "qjYDjAKwC4QfYatwHGMXDmqjL81EdXiCvMg5Qn1MlIh9sZ0Ngie3KNI9K01ffi3ovsT7rooNVj/M\n",
       "pLnlrdUnxf7avxDnltjY2GjlblvsqVn9eUgcYWjvXynNLwZ2eE4l9CKXQdy3xePxhP3oVBYTnZiI\n",
       "lJlrSXNK/PAJbIeoVbY9gBILVXsUcu+RhK2N4xjrOLR+S7lMRCFIjvQA6autFAchPpXgye0Bt2el\n",
       "GYcry3Vf/G5W/h1lYwOboKsAE/s7cUh8Xt9ZDFhEFx77Rz1SWS53lf4jpOwrvwiR64epenooC6vH\n",
       "isoDKLFQ9TIQFLOstLVxHGMdB5VRoJvIlQVCcqQ9rC+3ChSEnF0Rnt32eDxLzX0wJ6374vfgJBzM\n",
       "TISBgL4cHO8x7VIOLSyo6qXXvB40cQUDcHxcnMC4OJ1CcNwbug2ZYf2o95xGwZPc5TlaeaKjfNU8\n",
       "M5ocBl6/a/8vlHOfXt15seqYmG69qvIKjzXA/seSKJ3+D7EueGfVUUOtAAAAAElFTkSuQmCC\n",
       "\" style=\"display:inline;vertical-align:middle;\" /></a><br>(alternate proof for <a class=\"ProveItLink\" href=\"#sub_in_right_operands\">sub_in_right_operands</a>)<br>"
      ],
      "text/plain": [
       "<IPython.core.display.HTML object>"
      ]
     },
     "metadata": {},
     "output_type": "display_data"
    }
   ],
   "source": [
    "mult_sub_right_into = Forall(n, Forall((P, x_1_to_n, y_1_to_n), P__y_1_to_n, \n",
    "                                       conditions=[P__x_1_to_n, elementwise_equality]),\n",
    "                             domain=Natural)"
   ]
  },
  {
   "cell_type": "code",
   "execution_count": null,
   "metadata": {},
   "outputs": [],
   "source": []
  },
  {
   "cell_type": "code",
   "execution_count": 24,
   "metadata": {},
   "outputs": [
    {
     "data": {
      "text/html": [
       "<strong id=\"unary_evaluation\"><a class=\"ProveItLink\" href=\"proofs/unary_evaluation/thm_proof.ipynb\">unary_evaluation</a> (established theorem):<br></strong> <a class=\"ProveItLink\" href=\"../__pv_it/theorems/b68e8b1a82ee1aa0d9317aad3a6328cd06956c910/theorem_expr.ipynb\"><img src=\"data:image/png;base64,iVBORw0KGgoAAAANSUhEUgAAAaoAAAAWBAMAAABj3sV/AAAAMFBMVEX///8AAAAAAAAAAAAAAAAA\n",
       "AAAAAAAAAAAAAAAAAAAAAAAAAAAAAAAAAAAAAAAAAAAv3aB7AAAAD3RSTlMAq1RmmUTNIjK7EInv\n",
       "3XZ/CtNrAAAACXBIWXMAAA7EAAAOxAGVKw4bAAAEn0lEQVRYw9VXb2gcRRR/d7f3Z/fSJiD4QUPY\n",
       "otQPWnrU/wrpQaq1aNtD/FItelikoH7YgAgFG89PokZypUjFD3WFUlpRc6aghWA4KqW2oqRFRZHg\n",
       "xgoRAyGoIZIP4sy8Nzuzs7vZ3Ecf/G7nzc37zc6b997MAmxMPMI6f8elTNB1o2tDHGZ7/dnKsFHZ\n",
       "7CLS5OnE3l8Jus6kGPTIYbaTR3JaiQHecUvWqm4npK66ltCZ7yAArGkfZJvJ9d44YvaJI5GW8BDX\n",
       "D2csymki0uX5hL7TBIBPx92wzaTk98QRs08cibSE13gktjNWZdUQ6XJXQt8IAeDCAT9sMynUe+KI\n",
       "2SeORFoCX1zVzVhVH2GdEcr978lGlwDFtVBHuZLFYfsaR9y+L3mzr4QosC0oZaXVVkK6lNROviFT\n",
       "oolgXpuVOsmhLI5KW3Ek2JeS4+aQwjdzc19nrepRwifzZ6bNfS3fvMCKTnVABQIltdVBQGHwap10\n",
       "GJ0Z43kSm2HmekvngAcVh27vLN301lRkNpLq0n1IS3hEi5k0kU6obx6yuN+sOSGC+6BnswApNFX3\n",
       "38qh6NT+QOrFS/A+i557wCA56lpt5IC9oveXurYpyt6C+WAvREZeFa69BnuQljAKZU7s7FqnGlxD\n",
       "FLzCWs4Y5nwJfKH5rlaNnxWPTS4C4NWW1D+qAXspuMOc4GfoCyIcsNWVNrr9vbDTvyE6G87VgW+R\n",
       "lmD71QbPz7tb6au6iKiAFSvv1jKnhMqyXo4vipRuIAC2g9T38wUATJgkohxEOJwXGxC3b8HDsZFc\n",
       "9ovyMaGQD0Sx6Pchc1XAPWoWrjZMsumKmvfKL3jRVX0RvtVlcFZ41MZJIMoBL38OELcHviXGSC6X\n",
       "xe9BDc1hHjWDU/zQ/m1sN/fTuUXxXjPD0QgEeMZz/GhKTAawk9tr6faDZ0TgMak7/0KBu3kbxEgk\n",
       "B2XL3GFQEXhMtYur8GF0JM8rxgtEKzElTur7+c9Crs1z4mNvgr/YpsY4reok4mxjEKqGlyZduDHv\n",
       "QUEd5EVq2gGC/Mvbzp+Qa95Gk2nSz5K1oXPAAcWh27+T6wKL94J5bfiLTYu0Eq+IKrSL/9TsoCXa\n",
       "Yjl74AwZUbnc/uZj8LjBZwf57ywqwRQ7stgOUAkur4T6SdhWr+MpEcmrNlRbOke5qTg0+/w/p7pF\n",
       "NzIbCiuA59UBxJETZeI4Os3DNJqX2YTyNuLUUn7EPK6cofOjv/N9DXvelSfpLALyy6H+weLrQ2y6\n",
       "783snL7zjwiH3VIcmr2zL7h1B0RG0urPDftIK4Hylfgd598uziocZ8ELq6pwthDpcjThO+lHgjWg\n",
       "dNyJ2SyOss4Rs9dH6veBWQVy+Ro4nXL3M6g7HbhUWXmAPZ4Lk0jeG9NlJOW2yrCl5Bp30pSLcgpH\n",
       "3D5xpLqDK/pKFyoXYN9TSz57PLFjscYeL/GwQDlBSJPEW7/tCfx0WtOFHOmJI26f8o1xRIPajTxd\n",
       "DSIPlLOENLGTPrqdtsDwbk0PfbRxjri9nfyJf8J0v72FZc2T2I4+yDsBIk0WEnvHCLrOT0WvRw6z\n",
       "nTyS00rIKy+v69iOPv6X8h+zZHzfCgEJPgAAAABJRU5ErkJggg==\n",
       "\" style=\"display:inline;vertical-align:middle;\" /></a><br>"
      ],
      "text/plain": [
       "<IPython.core.display.HTML object>"
      ]
     },
     "metadata": {},
     "output_type": "display_data"
    }
   ],
   "source": [
    "unary_evaluation = Forall((f, x, a, c), Implies(Equals(x, a), Implies(Equals(fa, c), Equals(fx, c))))"
   ]
  },
  {
   "cell_type": "code",
   "execution_count": 25,
   "metadata": {},
   "outputs": [
    {
     "data": {
      "text/html": [
       "<strong id=\"binary_substitution\"><a class=\"ProveItLink\" href=\"proofs/binary_substitution/thm_proof.ipynb\">binary_substitution</a> (conjecture without proof):<br></strong> <a class=\"ProveItLink\" href=\"../__pv_it/theorems/0f3b5388d88f01a0bcc4bfd6c45c68b447bc00750/theorem_expr.ipynb\"><img src=\"data:image/png;base64,iVBORw0KGgoAAAANSUhEUgAAAdcAAAAWBAMAAABgactXAAAAMFBMVEX///8AAAAAAAAAAAAAAAAA\n",
       "AAAAAAAAAAAAAAAAAAAAAAAAAAAAAAAAAAAAAAAAAAAv3aB7AAAAD3RSTlMAq1RmmUTNIjK7EInv\n",
       "3XZ/CtNrAAAACXBIWXMAAA7EAAAOxAGVKw4bAAAFgklEQVRYw91YXWgcVRQ++zPJ/OxuFitiTQkr\n",
       "rT5oa7biD/EhTd22CjVtUPCpNGsjBOvL9KWgtLj6plaSolIJUiZQijElu0ZRsbSESkEqKVFslUpk\n",
       "gpGoSAhVTIhQPPdv7p2ZO8n66oFv585wvnu++3fuvQvwn8xVsIbLel+4tXKsU4ur4zUdvwnJeiuU\n",
       "JJLsoI6kN8Nn0AdK5us5Cd4HFRTJh81NNvZ+BYnRyhpS3Mam8ednDm0ggL1fJPC1nLi3/f4M0yOw\n",
       "m3wdbK6tdlUi2Q7z56Qk6ex5RIvHoAsE4Nx5KYGv4+i8W3q4Ho5XyRoYbq6x2bJEsj3EBV+XJJ3d\n",
       "RGR6GHSBAHL3jCTwdRydd1uJ6+EgneSUmmtsTsEaXqzbC9v7ApJuva6S3ysc3EaUQAD9XiL/SvyT\n",
       "zpt+I3o4MtgVLU0u2XsVJFsL69y8ORyQNObMkN8BDm6vK4EALiTzB+KfdN4XhB6B6dnZr5ts7F4F\n",
       "9uJdb05Gt4T2BcyTTpHnmEFBsufLMBrtko45nE8fAYOYng0ZCLZP3y7KE3MfnGezb6ICdjHE4aZ4\n",
       "MxnEnlu8jekReFLOnvVsQEEW5vxe8pylRht4wLVwcmZYjhiELYLkpKdgByn3Ut9vSLF+2F4GeAQY\n",
       "RDV/qQN3Kyj3FDqydCZAYytklsIc1reKN5NBBuRvr+5SPQJHoJW427uSso75gih9q+BR2OFtiOTQ\n",
       "L4FIwpYRVhHyHie9hp83Rmrt9OAqwFZgEJY+FASC1hVRzriZ1RSVZ5Z6ITUc5vBZFXhzGaS2Vcj5\n",
       "VI+A5Tkkk1gP15IGtF0ULiuowZ5YDl2CPM5Dc4m8pGpQ8DnJw5BXI87I/gdgCBgCO3tZBIL0kghq\n",
       "QpbvKDbWg5WFORD25jKIoCq0NagegbRP81Oblzh7v9I1FmLyITcMdew3g47sWVQ2I0j9nrkScf4R\n",
       "DNx8DgBDMD4vukFjWQpj5Zwvk/hQLcxREx7x5jJIjmxAf4nqEYBqN+mYTTTbLD4xj9GMOUiRt/Hu\n",
       "z8jUuTXnxacxGMvwYXjh1H26MtMz4kjxuCDtgcJUZM3ehCwurG3AIKq57sppbBVlud+1PTFYf0Q4\n",
       "zE16cxlsm93vUT0CMEmPPF10b3Q3tmDWm2jzTpA58725TD7eKPA9/LSE/W5qChrhzq2X4I40JgS6\n",
       "5ZCajwrSSaFF2gqcK7OoXcrmOywDidHE8ljfJnBwNbA2nQxzxLQKvJkMmzS2huuX6hGAY1THLpr6\n",
       "4bSJj5e3wW+k53pMMh5WmefXYKNApFfOTBmRs4jlp7/LIo30QYbEtmqcsBP6o+lvA7yjbGTcjoIM\n",
       "BK/0iXLnG0/B05hbiaai8WeYw016Mxl11JwqWz1MjwBJJWhvM84yT0kdpLP6CqQfcrUsH5a3JOx9\n",
       "/pYHoyfajs+P/IorhYRNkWEwfU4Yvbg/esMa/YQ0/xoHt/dABoLOoHxmMV3Bjp3FOu32+eUwR2T3\n",
       "wJvJyN8gzhVgegRCWciconfFa/S17lqPYf1tkONDmK9JJNvx8Ctz/lR/oZ1hiN5FKWenyqcJly5b\n",
       "pxrmcIt536fqOR7SZWO2GIdjTjWLD/jBWMJHzh16xhvH7bJLOX8nnd2lVWKHdqdqX1rzZqE56KeL\n",
       "h6KHfod22rmShqPxbqh6KiFdZHWeKGV/ufg7PmBLVxUfRuWBj/Fh7gvuyqcUJP79EL1CnYK8n2po\n",
       "fV/iiBlyRqpKUHZURPxEd/0YJ+5t+4oeAfXSxGdryXatsnxTb9wKksyKrs4xSHfv1vsmdtwYZOZd\n",
       "JSg1In/zfJ+OE/cuqHoE+Je7ca4bbCszvJT/rPKmjpovkWQLsaFOdC64DJrp4a/FL6zxf1LMe0EB\n",
       "Xw6LdONhvQRGd0N5+//Yv5tEu2LYoWZBAAAAAElFTkSuQmCC\n",
       "\" style=\"display:inline;vertical-align:middle;\" /></a><br>"
      ],
      "text/plain": [
       "<IPython.core.display.HTML object>"
      ]
     },
     "metadata": {},
     "output_type": "display_data"
    }
   ],
   "source": [
    "binary_substitution = Forall((f, x, y, a, b), Implies(And(Equals(x, a), Equals(y, b)), Equals(fxy, fab)))"
   ]
  },
  {
   "cell_type": "code",
   "execution_count": 26,
   "metadata": {},
   "outputs": [
    {
     "data": {
      "text/html": [
       "<strong id=\"binary_evaluation\"><a class=\"ProveItLink\" href=\"proofs/binary_evaluation/thm_proof.ipynb\">binary_evaluation</a> (conjecture without proof):<br></strong> <a class=\"ProveItLink\" href=\"../__pv_it/theorems/e05283bb0c598ba8a65ccb438317bb6c22d8ef9d0/theorem_expr.ipynb\"><img src=\"data:image/png;base64,iVBORw0KGgoAAAANSUhEUgAAAlEAAAAXBAMAAADZzAe1AAAAMFBMVEX///8AAAAAAAAAAAAAAAAA\n",
       "AAAAAAAAAAAAAAAAAAAAAAAAAAAAAAAAAAAAAAAAAAAv3aB7AAAAD3RSTlMAq1RmmUTNIjK7EInv\n",
       "3XZ/CtNrAAAACXBIWXMAAA7EAAAOxAGVKw4bAAAGYElEQVRYw+1YbahURRh+9+zu3XPOfrhgRKXI\n",
       "SuaPvryWfdiP67X1o5D0gr8y8V4skOzP+kcIUrf+RYYrfRj+iGOEYQZ31TBJlOWG0AfKKmllCMcU\n",
       "bhSIWOHFQJqZ952zM3PmHN3+1gvP2TOz533mmXfmvDNnAP6FNQiF9EduVUNWSGZqGH4Ni6ud8BbV\n",
       "tyuvYRHRh1VqCPgl+Zl1Nie75UNESkNJHHY3e62q1iJmXWI3JKq84t6+IvUAwWmnRHPQ4hS3fSfZ\n",
       "5RIhsSGAFV/GOCLXuFlrUW3uaGAXExMc1Uos5RUb+gmUP4aAvWlPbaTfgz0nm73EMBAgEhuC4l0T\n",
       "cQ7pGjdrLao9sL2WIGZjYjcIr/M3uNVPpHKDCKinPbWAenuu52SzawzZYURiQ1C6b3ecQ7rGzVqL\n",
       "aieeDxLELEjsBoHHv1jrJ1IlAnRSn8JxrcwfiZxsKeUGv35LINttNgSjQZyj5xo3CxmqRadSimBL\n",
       "LSHL4jvQV5qaS3DG0p4awHEru63IyWLFLr++SCB702gI4JiFo+caNwsZqkWnuSmCLbUSJy9c+K6v\n",
       "SK0g5FiK9K/c89ZBczWeMckWn2KVkvIG6eRfHoQ9ppBZF9l8PgAI+fK09YZg/sk7ZBnJdVc9gFee\n",
       "tJJxtZCdeXqYiHrKSRcJVuz4paaolXhGmaG3ZXIG8DDn4GL4HNdxQZhobG3DY3M8izNuA8yRTkWn\n",
       "A4v4/XPi2dP8dnyjfx3gcUBImj/1hgBuRmUk111VwsIZeNZKhlNmWiiJpPJIlxCs9mNLLdcStRKb\n",
       "oFDtK1JnCGU2pE/AomC6sWJ9BTk2xx2RF9wqlANyeoNV321wzQvgFMCDgIgW9PVaQ1CYkmUi111V\n",
       "K7fNWiIri1y8rSmJe8pJl2Om3Z+hFIpaCS8o8qTrL0lYncB9WS+fIJSYWxOWxVasq1wuuFd5IdOE\n",
       "SkhOAWv4lPEw8/4bYAcgeiv6CbUhcK7Kholcd1VtlRgXC1lJrCzzoh70lJMuFKz0Q8xdXivhhCKh\n",
       "e481kybRjORIQazvUGrBOPsn36FNjN+VTqOBOxUbtzxb7NcCIsp0rzS0SGEe5vdErruq9o24WshQ\n",
       "7bGoB4py1JXvxPoBWCsBY0PiDQ4SX7evk98+yF+HT/X3ezwU2cjpyn3n09JpGVQ6Rlq5JobuIUBI\n",
       "mnMN/e3zqrJM5LqrQuhjRrOQ4du3MyKWyiNdQrDeD+qGBBzke1BnJu9U5fLW5fwrp4ofOfuHvuAT\n",
       "8OZFHsXiJVp0PiR4IfjvZTpgfNOM1+BOpwFZMSScf7N02im73LMp+Iy99AsBIXdKLb0hni+ojOS+\n",
       "7qraH8zdSuaFvXnEiEi5D5GurLH9nsbYR0StBLwm5AvyyUyL5T8/vOHywfd/cK/z8J2v8KX1rEvT\n",
       "U67pbOF0pj7u5I1tqxc63+fkqszleU1yWAyjZi6cDu+q2wG0zaA3BNtGZBnJx8c0V9XYwnfESiY2\n",
       "AYW/JBEpF0yoK2eMOFv4ik1RK8GzLrMl/DLohaxQ+Khb4SHMDYvgeIN8icy1fEpkbxPcLvgrwzmP\n",
       "mF9rs45s+pXNdt67DJ+MbkgOe46vMk8v9nzOY3eWQPYB6A1RHub3SF4+r7lq26lDQ4GVzO32lgZO\n",
       "hMqRSegqjxhURx/9DWslyN7BKSe6kmlnQpEEK3wgSs1cVWZE8cY3EfBj2l5ii7F6izAfth8cdRHm\n",
       "UVHU0GKVg9v9qqudMHbuxNXmqgYRMR2OC1a6sUX/F9P2dsFcHilxrvGG9xQboGlQqskYgvpBuyAt\n",
       "UvXYR2txzJ9I/+S2fOgyONX15odvW3W1E9q+dWcP1MwvaMZEuuqJ3ahr//o3wG8XOodh2G+zmI+y\n",
       "dA6lxo7VwX62dVzICgMjkb5dBC/lJDB2PLELymHGfqD1KiFm2FB595hSFmJD1dVOGDOm9qe9BpFg\n",
       "Ql328xReKyFf4w64E7DyhSsB+3Hq77PpVcvXHz7EftyVIbsW6kNyH7GP4Kcc1sSiuA+coaX2Z3ep\n",
       "2nUfjuzlhlIWBxSaq50wftrVgqHlBpFgQl32Yee1EspMd2j7D5+IrEVrWk25UqBDBGxNjtRkbHTC\n",
       "xOPRBsIyoqHuF+Owu9lrVbUWMZOJ3ZjU/vVms8S0Bu/XwKw8m+95nEL4kw/gf6OzCr5HwPtBWP07\n",
       "n2U02ZTrf9r+AVF/KZLkSw+CAAAAAElFTkSuQmCC\n",
       "\" style=\"display:inline;vertical-align:middle;\" /></a><br>"
      ],
      "text/plain": [
       "<IPython.core.display.HTML object>"
      ]
     },
     "metadata": {},
     "output_type": "display_data"
    }
   ],
   "source": [
    "binary_evaluation = Forall((f, x, y, a, b, c), Implies(And(Equals(x, a), Equals(y, b)), Implies(Equals(fab, c), Equals(fxy, c))))"
   ]
  },
  {
   "cell_type": "code",
   "execution_count": 27,
   "metadata": {},
   "outputs": [
    {
     "data": {
      "text/html": [
       "<strong id=\"not_equals_is_bool\"><a class=\"ProveItLink\" href=\"proofs/not_equals_is_bool/thm_proof.ipynb\">not_equals_is_bool</a> (conjecture with conjecture-based proof):<br></strong> <a class=\"ProveItLink\" href=\"../__pv_it/theorems/85ff72cc39885f30820494281b2aba4fb79ac5770/theorem_expr.ipynb\"><img src=\"data:image/png;base64,iVBORw0KGgoAAAANSUhEUgAAAKYAAAAWCAMAAAB9nBcwAAAAPFBMVEX///8AAAAAAAAAAAAAAAAA\n",
       "AAAAAAAAAAAAAAAAAAAAAAAAAAAAAAAAAAAAAAAAAAAAAAAAAAAAAAAAAAAo1xBWAAAAE3RSTlMA\n",
       "q1RmmUTNIjK7EInv3Xbn9enzK1aD6QAAAAlwSFlzAAAOxAAADsQBlSsOGwAAAplJREFUSMfNV4uO\n",
       "4yAM5E0w4L3b/P+/Hs8EKKR0pZUOVbEUHBgPg+0S8oOhB/ujj3/L/xrIerscAiYvJb5b3jujTuU8\n",
       "lbc/vaYZ30PJbG+X4zBzGG/3MRGbVpBxJn8h66TaoxdUbx92O+bvFbyHGaBZTczlf1Q6tdkjU/De\n",
       "rsmkiwkutmByVo46+dfYLNuD6Qa73mx5Oq6nE40PQ01gqtufF1bUpjJVb5dD0uWUag9CKoQpm1Rz\n",
       "2/i7GIt3dvPMbW8BkcJhX8+ilzpgEgkk7LaJQE+UGq8QoKcVUvIXSekG9mBWJqoNukGKRPgrjhS1\n",
       "//oTnxceS1hUCT+T2NQqmgumV+70NaElf03rY2d41lmu495AKH8k82A5EJruKWt0rZZXCLksTGf/\n",
       "SKSVmzCd7Gw8CTHZSva3OezgYppOD3KcN/4suTDMCDOafOzZn+H2BXqBSa69n8iMuM+Y/c4kMHmz\n",
       "CWbJZsyaebb4K8LLTohCh18ta7QrU7NDTwCCP0Cnzb/fmaL740Q55v2Yb9Z7hKlaf8uKCFBH9ShW\n",
       "LicJDBxDfjTYWjCSUJeuyJtCY2h9BDE3FCI+wGTY+mtXouZp+1LjNMQocDiVmkyyZecBIsCUfT5i\n",
       "r3VG0Mg775JZjojNYAYPi1b0yY/e1fdsRBUTFx2iPXxrQQQ2mODsbdUGalGUxb3sJozs3FE5Y+4O\n",
       "afQvN6/p8OK0G/sHf/T2oYcah81S04MepTV9sRw7zsFfu7RSoBpsQSLPVePw0EBMyIzrgmN7Tcui\n",
       "2blfoLQYS+yRVgynadSypVi2FnxCpsesoQ9aMbLTugWYEHCY18hrqoPV535SdxnH2tmaD/82PPlH\n",
       "VYfbI2eK0djbF30//4f4EOWjfyRRcrTk/xj/ANV/FGJuuEFfAAAAAElFTkSuQmCC\n",
       "\" style=\"display:inline;vertical-align:middle;\" /></a><br>"
      ],
      "text/plain": [
       "<IPython.core.display.HTML object>"
      ]
     },
     "metadata": {},
     "output_type": "display_data"
    }
   ],
   "source": [
    "# Proven\n",
    "not_equals_is_bool = Forall((x, y), in_bool(NotEquals(x, y)))"
   ]
  },
  {
   "cell_type": "code",
   "execution_count": 28,
   "metadata": {},
   "outputs": [
    {
     "data": {
      "text/html": [
       "<strong id=\"contradiction_via_falsification\"><a class=\"ProveItLink\" href=\"proofs/contradiction_via_falsification/thm_proof.ipynb\">contradiction_via_falsification</a> (established theorem):<br></strong> <a class=\"ProveItLink\" href=\"../__pv_it/theorems/fb2499f00334802da5dbd5240b37e753f4e425b80/theorem_expr.ipynb\"><img src=\"data:image/png;base64,iVBORw0KGgoAAAANSUhEUgAAAHoAAAAWBAMAAAD9QZX2AAAAMFBMVEX///8AAAAAAAAAAAAAAAAA\n",
       "AAAAAAAAAAAAAAAAAAAAAAAAAAAAAAAAAAAAAAAAAAAv3aB7AAAAD3RSTlMAq1RmmUTNIjK7EInv\n",
       "3XZ/CtNrAAAACXBIWXMAAA7EAAAOxAGVKw4bAAABMUlEQVQ4y2NgoAgIgAhlMjQGgwhXEJFOhm49\n",
       "ENEIxOwTyNXNtoCBgVuBXN3MBkATGMjVzXD27t3T5Ov2YGCYBWYsAJMsMFkuGGMBPt2FDOzgWOM6\n",
       "AeZywmTXNEBNOYHQwYKhm3MBdwCI5v6Eqns/NCih4qiScN1MDyCBFnEORQFrzwMGZHEcuhkS7MDU\n",
       "g0QUBXxsAgzI4rh0b8oCq2ZwQ1HwgCWBASbOMhMIJmPXXQO2JILhDbJu1ga+AwzI4rjsZgQHrvdu\n",
       "+QVIClh2b/zFgCyOqtv37t0zd+9ehHH5GBjqG5AUPGBg/wEXx+pytPzGr4DQzQpMv58YViOJY7gc\n",
       "CbAcZODyT0Uo8BFgWPItoEcBIQ4EO2fOmTnzAd7ki2I8yXkPWTfrAkp0M5Oc8dhJUQwAcx9FrE18\n",
       "oeYAAAAASUVORK5CYII=\n",
       "\" style=\"display:inline;vertical-align:middle;\" /></a><br>"
      ],
      "text/plain": [
       "<IPython.core.display.HTML object>"
      ]
     },
     "metadata": {},
     "output_type": "display_data"
    }
   ],
   "source": [
    "contradiction_via_falsification = Forall(A, FALSE, conditions=[A, Equals(A, FALSE)])"
   ]
  },
  {
   "cell_type": "code",
   "execution_count": 29,
   "metadata": {},
   "outputs": [
    {
     "name": "stdout",
     "output_type": "stream",
     "text": [
      "These theorems may now be imported from the theory package: proveit.logic.equality\n"
     ]
    }
   ],
   "source": [
    "%end theorems"
   ]
  },
  {
   "cell_type": "code",
   "execution_count": null,
   "metadata": {},
   "outputs": [],
   "source": []
  }
 ],
 "metadata": {
  "kernelspec": {
   "display_name": "Python 3",
   "language": "python",
   "name": "python3"
  }
 },
 "nbformat": 4,
 "nbformat_minor": 0
}