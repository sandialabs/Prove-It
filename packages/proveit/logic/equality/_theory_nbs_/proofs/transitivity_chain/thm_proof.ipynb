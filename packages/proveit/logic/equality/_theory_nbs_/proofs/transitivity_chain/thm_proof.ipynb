{
 "cells": [
  {
   "cell_type": "markdown",
   "metadata": {},
   "source": [
    "Proof of <a class=\"ProveItLink\" href=\"../../../../../_theory_nbs_/theory.ipynb\">proveit</a>.<a class=\"ProveItLink\" href=\"../../../../_theory_nbs_/theory.ipynb\">logic</a>.<a class=\"ProveItLink\" href=\"../../theory.ipynb\">equality</a>.<a class=\"ProveItLink\" href=\"../../theorems.ipynb#transitivity_chain\">transitivity_chain</a> theorem\n",
    "========"
   ]
  },
  {
   "cell_type": "code",
   "execution_count": 1,
   "metadata": {},
   "outputs": [],
   "source": [
    "import proveit\n",
    "theory = proveit.Theory() # the theorem's theory"
   ]
  },
  {
   "cell_type": "code",
   "execution_count": 2,
   "metadata": {},
   "outputs": [
    {
     "data": {
      "text/html": [
       "With these <a href=\"allowed_presumptions.txt\">allowed</a>/<a href=\"disallowed_presumptions.txt\">disallowed</a> theorem/theory presumptions (e.g., to avoid circular dependencies), we begin our proof of<br><strong id=\"transitivity_chain\">transitivity_chain:</strong> <a class=\"ProveItLink\" href=\"../../../__pv_it/theorems/c2cbec69b1f86f24adcf3b075e39cf03082e7cc90/expr.ipynb\"><img src=\"data:image/png;base64,iVBORw0KGgoAAAANSUhEUgAAAloAAAAZBAMAAAAbJp0yAAAAMFBMVEX///8AAAAAAAAAAAAAAAAA\n",
       "AAAAAAAAAAAAAAAAAAAAAAAAAAAAAAAAAAAAAAAAAAAv3aB7AAAAD3RSTlMAq1RmmUTNIjK7EInv\n",
       "3XZ/CtNrAAAACXBIWXMAAA7EAAAOxAGVKw4bAAAFbklEQVRYw+1ZXYgbVRQ+mZlkJpkkG/ClFS0p\n",
       "1rqwuIZ2F30QDWzW3aJbYn1qt+iiD2JBnL4UVmqNfauuS1CWkiJltH1wLdS4tQVXkNgiKxQlShFZ\n",
       "DGTpqlRL2LdKRer9mbk/M9POJH2LHsjMvXe+e++Zb84959wbgHC5v2XB/wLZ1o9RYDN9+OpWL/id\n",
       "/1G2svkuOzxP2crh2wMhbMXwTSn0D1tDXdNbIGyN4/LLIWxpZXRL9I/3SnW/XA4Qtt5CV70awpaB\n",
       "LXC2f0xL636ZjBC2EjaAmQ/zW5jZpf5hK91DFxuzpSKaE6Fefmd/Ofvt3XdJFAgL37Val0PZSrda\n",
       "v9T7h62n0e/s2sdfBq2pVOfedwKWkZkjbE0CnAhlS6tA0u4ftl5Cv2J2i9Z0G6ZaWH4gPg3W2lP+\n",
       "LipdYQdBzwUMWJfYQpCDPbtUelPCQ2q7WySXh6JkAayEknLVUm/Ggpz9o/CkfY+/WWkQtpK2WRZa\n",
       "9Svn4XFEX1HOTk/A+V7ZStLbaGReoyP5ly9H0YS90zcABmj4vU75vHEFnvK0EIyxQdhS2tzJz29e\n",
       "gK2mrdk+toZ7d/KUrVQuHBmvd4fk8mEkTaYFtpAvRgZqdJp+2PfyV6GYeMOJdU+wZ5M4r28XTfCx\n",
       "lVDbd8eWFuXrH+gOyWU8Wlyz+UoEeMFK2aA0vX4L4jfgE0l3gsEXzNYSmlkdm18HuIqfDT54xITP\n",
       "S1dKZZEtczuaKbt+ZML1AbwoOIagRoetDPp1JtZFl+Spuildxj/QbZBcmn5MgDIsrzwJsFi+D0xw\n",
       "2RJC4kKsgZz2yGOdosSWWqVsHUaWf2p/IW2lSEo/aH407bct/Wt0+T1WfdFpE4pcAhsdtg4h/a3N\n",
       "CaLvrhqSAqty2eYg2UB3RnJnO8MHBw33eT9IGcV9qc8AHnn7GdgTwJby1+lGPJ8avQQrEltanbIV\n",
       "qwC8/hsM2HESIgaheM3PFmxCv0KyXYFZYs64GB/2LADynIdUinTY2os+D5w0QGfpCq/ilU8Kex2k\n",
       "Z3SC3LNe9iK5G6tSTIgycXeH9y7A6Y4ylg+yrd3tbTtAPzsDNyW2MmXhxGYL7Af1lVrtPcTWmUQA\n",
       "W0QGLDAett1iGj71TDVgCeHHRVK2tuLLDYCjqxzuVrEvJYVjLtI7OkI2UhteJDeIHMWEKGO4bGUq\n",
       "rGcz2MXF2sit76p9gCybYt4Qz7e+hZJh1KltxYd9+ZYjc2BBxnaLOrrIghrV8R11h+yMyBZ+PaOh\n",
       "A6y664tVaT6w6q6vY8LoAtIyGl4kE0wDxow8N8RWYoAybCWqxTC20hWtWBFta0xgS9+AnwdpTo+y\n",
       "nbXg00C9cQFNjKZN1WkRFgDOoBq5OI3KNexy/Wwh333YnNHouxLhVcZBBw+WAT66iEyWJSSbGF3Q\n",
       "lAQzXM2AqKxHmSyL68fD2HoTMkdFtsgxjctWPAd/FmAWPTd+sujhX4Bt7Z7u2Hha4yItov0QzOWN\n",
       "FZizjBW3cRNyuTSkSmwlLdB+/eoPgS23apamSuO0/TgeGiHZ6CJyUkayiVEJVQkmVjkEkrKyMkm2\n",
       "NhddTi/8HZwZPQvZc47uBEO6yifNqS9qC6EnzcSkaXEZ7yVYsHIam9lRO8C2WD65Kg8u2hYOygpD\n",
       "Lmfl8G+3ZSSPknk378zA1X1yZiEps8iDaMTsMcnCPUAv5/LGdZTqUJUSt/5BLLDN9j4nZ1fOOY71\n",
       "+pI4o5P8zF+WcgFS1ZyCZpFRJvjogrx2qykh+cSopFlOSj8kbf08ykz0usd1pMd/MQSV1KBGKaQm\n",
       "XdsI1WmUjhINqUoqLEfYH0bbTN5BIrH1ag//JwohVXfut+fA9CCiI7kVRVAmdXdcZVuX/gUFm7nm\n",
       "MJKCZQAAAABJRU5ErkJggg==\n",
       "\" style=\"display:inline;vertical-align:middle;\" /></a><br>(see <a class=\"ProveItLink\" href=\"../../../__pv_it/theorems/227668f231b20cd9d64a3980ff3e63441e0764e40/dependencies.ipynb\">dependencies</a>)<br>"
      ],
      "text/plain": [
       "<IPython.core.display.HTML object>"
      ]
     },
     "metadata": {},
     "output_type": "display_data"
    }
   ],
   "source": [
    "%proving transitivity_chain"
   ]
  },
  {
   "cell_type": "code",
   "execution_count": null,
   "metadata": {},
   "outputs": [],
   "source": []
  }
 ],
 "metadata": {
  "kernelspec": {
   "display_name": "Python 3",
   "language": "python",
   "name": "python3"
  }
 },
 "nbformat": 4,
 "nbformat_minor": 0
}