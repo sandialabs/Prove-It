{
 "cells": [
  {
   "cell_type": "markdown",
   "metadata": {},
   "source": [
    "Proof of <a class=\"ProveItLink\" href=\"../../../../../_theory_nbs_/theory.ipynb\">proveit</a>.<a class=\"ProveItLink\" href=\"../../../../_theory_nbs_/theory.ipynb\">logic</a>.<a class=\"ProveItLink\" href=\"../../theory.ipynb\">equality</a>.<a class=\"ProveItLink\" href=\"../../theorems.ipynb#fold_not_equals\">fold_not_equals</a> theorem\n",
    "========"
   ]
  },
  {
   "cell_type": "code",
   "execution_count": 1,
   "metadata": {},
   "outputs": [],
   "source": [
    "import proveit\n",
    "from proveit import defaults\n",
    "from proveit import x, y\n",
    "from proveit.logic.equality  import not_equals_def\n",
    "theory = proveit.Theory() # the theorem's theory"
   ]
  },
  {
   "cell_type": "code",
   "execution_count": 2,
   "metadata": {},
   "outputs": [
    {
     "data": {
      "text/html": [
       "With these <a href=\"allowed_presumptions.txt\">allowed</a>/<a href=\"disallowed_presumptions.txt\">disallowed</a> theorem/theory presumptions (e.g., to avoid circular dependencies), we begin our proof of<br><strong id=\"fold_not_equals\">fold_not_equals:</strong> <a class=\"ProveItLink\" href=\"../../../__pv_it/theorems/d2de0b785b8367e6b5d0fddc8c5973de5650c9cd0/expr.ipynb\"><img src=\"data:image/png;base64,iVBORw0KGgoAAAANSUhEUgAAALkAAAAXCAMAAABgZR7wAAAAPFBMVEX///8AAAAAAAAAAAAAAAAA\n",
       "AAAAAAAAAAAAAAAAAAAAAAAAAAAAAAAAAAAAAAAAAAAAAAAAAAAAAAAAAAAo1xBWAAAAE3RSTlMA\n",
       "q1RmmUTNIjK7EInv3Xbn9enzK1aD6QAAAAlwSFlzAAAOxAAADsQBlSsOGwAAAnNJREFUWMPFV4mO\n",
       "3CAM5QxgwNs2//+vxUCuAUK6WqVolFEGbD8/H3gY+7/LvCb0wwvF/b6C3q8a6cn3dyFfBy78/b51\n",
       "A4cJqtLb6/J6EGCZHHB2sLGkWNiNdONep1xNomz5aEeqCp+WF68jDzPKx1kQEmpZHV/ez/KJSc3H\n",
       "ewuhDpFW8O8nSzUJiBysb4J+LTzAnFxQ3PH0pXIZOHhgasjevLhxwFtRixyZipuZTGX8+kXPnXfP\n",
       "BGWXXEuiU7wM3x6zNaphqdl33I6FZGkIDzAu7yi3orjGC4jsRabb6+8jhydeM92kYyg2KeSqTXl9\n",
       "dTVhDBS3UIJnM/UCH9bnALnSj9J6gT5yduAZU06urNTE19LidahtRVZJRGXSZ7tk+eWSHSGPHdnj\n",
       "ot51NBUYxQEqiQGc8/z3n5Lth/kcF6ydVMTayisfaCiPFlGLmSUvbZghN8tVVrltyYsO8ZnpLtMF\n",
       "TjMecgneRog5vj2oOAoWE7b3rK5euQbIMXRd5L6CSye0a2V3r0469KfjubMxsVpQCbm+hES0Ba04\n",
       "BUdeOyo/DK6ncPO0zfGW86RN8J5sq6MZn2yOOCjEBFSKCeWpEXhUm4nY1BYFdrdP28HOkO+Iquw5\n",
       "W846Whqj/dch0tdOYuJHbEPeShbAV816ve8taqvQQ7ZBV3UgduemZ32ogIYgBrOaQu0RqfnkIymG\n",
       "bpl3xTIY7bIf7O06OvPTaKSSHcojltSbzrUJOSS9Ts6R65uR59ABHWkY9dnOKCIk7hfHzRDJNOTC\n",
       "0suT21+NFR06uocM9gfzyQx0NyYRTVqifzS3MD8c13Yd8tlF+/of9fmgCT8N5i+ywRKBep1xHgAA\n",
       "AABJRU5ErkJggg==\n",
       "\" style=\"display:inline;vertical-align:middle;\" /></a><br>(see <a class=\"ProveItLink\" href=\"../../../__pv_it/theorems/d053affecec8789afa4a7aa839cceb0029a9969e0/dependencies.ipynb\">dependencies</a>)<br>"
      ],
      "text/plain": [
       "<IPython.core.display.HTML object>"
      ]
     },
     "metadata": {},
     "output_type": "display_data"
    },
    {
     "name": "stdout",
     "output_type": "stream",
     "text": [
      "fold_not_equals may now be readily provable (assuming required theorems are usable).  Simply execute \"%qed\".\n"
     ]
    }
   ],
   "source": [
    "%proving fold_not_equals"
   ]
  },
  {
   "cell_type": "code",
   "execution_count": 3,
   "metadata": {},
   "outputs": [
    {
     "data": {
      "text/html": [
       "<strong id=\"defaults.assumptions\">defaults.assumptions:</strong> <a class=\"ProveItLink\" href=\"../../../__pv_it/_proof_fold_not_equals/b3baf9c25dc2b7512cfa1345e88fb023a234df210/expr.ipynb\"><img src=\"data:image/png;base64,iVBORw0KGgoAAAANSUhEUgAAAGAAAAAVBAMAAABLWfZ5AAAAMFBMVEX///8AAAAAAAAAAAAAAAAA\n",
       "AAAAAAAAAAAAAAAAAAAAAAAAAAAAAAAAAAAAAAAAAAAv3aB7AAAAD3RSTlMAInZUiRDNmWbv3US7\n",
       "qzJazP2FAAAACXBIWXMAAA7EAAAOxAGVKw4bAAABbklEQVQ4y32SMUjDUBCG/7SNaZtWgrND0KE6\n",
       "CB1ErVNBcCsUQUVw6NhRpEjJpAi6CBbByaW0m6K4urWuImSo4NjByaV2EJzEu9dWzzTJgy8vubuf\n",
       "9/7cAbDwtzQELm2UjmRFdDZYYNoDsCiC0XywAHMD9JKIbYXUY6KoMA5FrBomiO8pEjJWCxPgUrEk\n",
       "LZRCBWVFRUQM8qzPvLyteSo3qtBdoACmLG2RHwMLtsMfzjWvW37N5xD/AE7ANKlGpchSklpyhPPi\n",
       "6/8DJrMO0i0gB+Zq1Eg6M3EPdHHgvbuOCySoZT0wXgEoO9bkT/S6wAOYphDwlWD2senxYJQwT9uq\n",
       "4nEkIA8pG/pTugbvgKRcPNN2piiIRMxF9Hu7ZmY9AsM1v2irKN7l76hD37eXj8dcdzJ92m4Uya7I\n",
       "3AU1OUYzoNUVPFK/69S/fB07dEseU6Yt3Vm+ggY69Jwesisv2/IVrGS4Qe0hmi1SU8GzGrEUP0qS\n",
       "UuSWUaWXAAAAAElFTkSuQmCC\n",
       "\" style=\"display:inline;vertical-align:middle;\" /></a><br>"
      ],
      "text/plain": [
       "<IPython.core.display.HTML object>"
      ]
     },
     "metadata": {},
     "output_type": "display_data"
    }
   ],
   "source": [
    "defaults.assumptions = fold_not_equals.conditions"
   ]
  },
  {
   "cell_type": "code",
   "execution_count": 4,
   "metadata": {},
   "outputs": [
    {
     "data": {
      "text/html": [
       "<span style=\"font-size:20px;\"> <a class=\"ProveItLink\" href=\"../../axioms.ipynb#not_equals_def\" style=\"text-decoration: none\">&nbsp;&#x22A2;&nbsp;&nbsp;</a><a class=\"ProveItLink\" href=\"../../../__pv_it/axioms/460c0757688de5036b09e198e4b33898716c95990/expr.ipynb\"><img src=\"data:image/png;base64,iVBORw0KGgoAAAANSUhEUgAAAP8AAAAWCAMAAAA4nbqyAAAAPFBMVEX///8AAAAAAAAAAAAAAAAA\n",
       "AAAAAAAAAAAAAAAAAAAAAAAAAAAAAAAAAAAAAAAAAAAAAAAAAAAAAAAAAAAo1xBWAAAAE3RSTlMA\n",
       "q1RmmUTNIjK7EInv3Xbn9enzK1aD6QAAAAlwSFlzAAAOxAAADsQBlSsOGwAAAsNJREFUWMPVWNmy\n",
       "pCAMlUXZM4v//68DKt2CiURnXiZ1q0/VjeYAWUicpjdiOnz18vsHzT9Z9DsrRUC2SIn22H9neMbC\n",
       "V9xL5W1RfPRSMQ3J0CIl1hHrV09Y+IrhgSoE9VzVCzMg/NIiKc4SisXzWfiKsVTeM9oaAMYxrWjV\n",
       "Iul+QWmU5rPwFWOpvA3WwwjcrIodku6n4yl6NgtfwVm6v6I6zpMbVnJpkSw34iYQFZeFr2AlgEIw\n",
       "piKRW1V0aNEDCG/DJXzacuJhi1u/H0oQXBZSQdH21QLlbVBvZcr5l2eYcwgETDrVBW7HmX78LL+f\n",
       "fYZJlsBV6554Xycej+8ixhFC0RKGcN4Gjag/LEmyQWWKdT8Jded+K/eVir3IyshkOW1Ks2j7Gozz\n",
       "tlhcH2Z2DZkbLMGjrzk5tyU+M8TSbsS997Arl+XbvQkO7SX8cd4WJfCr32X/09c67f5yIGu5bNe9\n",
       "JZjj3+6foEXKMMbb4TKpwxSANvmvNoiiaRDR+N8o8gven/Pw1+8+oTdnQY27NMr/JIn9U7SUIZS3\n",
       "wyCPJgBMyZRFHqVzymdne1c5OKN38yTiVmjuOzwn6k/J3mGv5XrfGs2gxQxhvB2aWPWb/aNtNb4c\n",
       "D/RLbe8QuVqv80Lmxl/y2uBpUTymBrfbhYVQ4LTofYnx9ii+nfp6SlyR1aJ3hE1n9Bogb1fJUYPv\n",
       "RQBdjadhtbXpVoHTohUQ4+3xZD6eBuOijpchJtkW+RNaOKqsSYxr1j5V3ARTx9vjJ8fi9mgOXh8O\n",
       "qnkdThGs+a7Y9VHyRxjSOmd4GvCSE5yGOQCUC2N7JQeYW+jBhhpwFOL+BHs68SdNcnxyTz7cYLw9\n",
       "4jGczy0TOcRV3rV44URaaang86WBtwHKOq1At4Hwjvy3Xa5+K30z2hcZaLGvIYPPMEz/GXiq4PH2\n",
       "iMdwOQMFbz81/TfyB1l9Gx7F99IvAAAAAElFTkSuQmCC\n",
       "\" style=\"display:inline;vertical-align:middle;\" /></a></span>"
      ],
      "text/plain": [
       "|- forall_{x, y} ((x != y) = [not](x = y))"
      ]
     },
     "metadata": {},
     "output_type": "display_data"
    }
   ],
   "source": [
    "not_equals_def"
   ]
  },
  {
   "cell_type": "code",
   "execution_count": 5,
   "metadata": {},
   "outputs": [
    {
     "data": {
      "text/html": [
       "<span style=\"font-size:20px;\"> <a class=\"ProveItLink\" href=\"../../../../booleans/_theory_nbs_/axioms.ipynb#true_axiom\" style=\"text-decoration: none\">&nbsp;&#x22A2;&nbsp;&nbsp;</a><a class=\"ProveItLink\" href=\"../../../../booleans/__pv_it/common/95025295868b9266d37330b4427adf122f6061770/expr.ipynb\"><img src=\"data:image/png;base64,iVBORw0KGgoAAAANSUhEUgAAAA4AAAAOBAMAAADtZjDiAAAAG1BMVEX///8AAAAAAAAAAAAAAAAA\n",
       "AAAAAAAAAAAAAAB4Gco9AAAACHRSTlMAmd2rVHZEZkA3AkMAAAAJcEhZcwAADsQAAA7EAZUrDhsA\n",
       "AAAYSURBVAjXYxBSAgFlBiBwZYAAWtHpQAwAFRwEg6MlY1sAAAAASUVORK5CYII=\n",
       "\" style=\"display:inline;vertical-align:middle;\" /></a></span>"
      ],
      "text/plain": [
       "|- TRUE"
      ]
     },
     "metadata": {},
     "output_type": "display_data"
    }
   ],
   "source": [
    "not_equals_def.instantiate({x:x, y:y}).derive_left_via_equality()"
   ]
  },
  {
   "cell_type": "code",
   "execution_count": 6,
   "metadata": {},
   "outputs": [
    {
     "name": "stdout",
     "output_type": "stream",
     "text": [
      "proveit.logic.equality.fold_not_equals has been proven.\n"
     ]
    },
    {
     "data": {
      "text/html": [
       "<table><tr><th>&nbsp;</th><th>step type</th><th>requirements</th><th>statement</th></tr>\n",
       "<tr><td><a name=\"-0x7f213dc5ae04a5a6_step0\">0</a></td><td>generalization</td><td><a href=\"#-0x7f213dc5ae04a5a6_step1\">1</a></td><td><span style=\"font-size:20px;\"> <a class=\"ProveItLink\" href=\"../../../__pv_it/_proof_fold_not_equals/8c9504d7f51285b2449ff802a9edc2a4e4dc4f070/proof.ipynb\" style=\"text-decoration: none\">&nbsp;&#x22A2;&nbsp;&nbsp;</a><a class=\"ProveItLink\" href=\"../../../__pv_it/theorems/d2de0b785b8367e6b5d0fddc8c5973de5650c9cd0/expr.ipynb\"><img src=\"data:image/png;base64,iVBORw0KGgoAAAANSUhEUgAAALkAAAAXCAMAAABgZR7wAAAAPFBMVEX///8AAAAAAAAAAAAAAAAA\n",
       "AAAAAAAAAAAAAAAAAAAAAAAAAAAAAAAAAAAAAAAAAAAAAAAAAAAAAAAAAAAo1xBWAAAAE3RSTlMA\n",
       "q1RmmUTNIjK7EInv3Xbn9enzK1aD6QAAAAlwSFlzAAAOxAAADsQBlSsOGwAAAnNJREFUWMPFV4mO\n",
       "3CAM5QxgwNs2//+vxUCuAUK6WqVolFEGbD8/H3gY+7/LvCb0wwvF/b6C3q8a6cn3dyFfBy78/b51\n",
       "A4cJqtLb6/J6EGCZHHB2sLGkWNiNdONep1xNomz5aEeqCp+WF68jDzPKx1kQEmpZHV/ez/KJSc3H\n",
       "ewuhDpFW8O8nSzUJiBysb4J+LTzAnFxQ3PH0pXIZOHhgasjevLhxwFtRixyZipuZTGX8+kXPnXfP\n",
       "BGWXXEuiU7wM3x6zNaphqdl33I6FZGkIDzAu7yi3orjGC4jsRabb6+8jhydeM92kYyg2KeSqTXl9\n",
       "dTVhDBS3UIJnM/UCH9bnALnSj9J6gT5yduAZU06urNTE19LidahtRVZJRGXSZ7tk+eWSHSGPHdnj\n",
       "ot51NBUYxQEqiQGc8/z3n5Lth/kcF6ydVMTayisfaCiPFlGLmSUvbZghN8tVVrltyYsO8ZnpLtMF\n",
       "TjMecgneRog5vj2oOAoWE7b3rK5euQbIMXRd5L6CSye0a2V3r0469KfjubMxsVpQCbm+hES0Ba04\n",
       "BUdeOyo/DK6ncPO0zfGW86RN8J5sq6MZn2yOOCjEBFSKCeWpEXhUm4nY1BYFdrdP28HOkO+Iquw5\n",
       "W846Whqj/dch0tdOYuJHbEPeShbAV816ve8taqvQQ7ZBV3UgduemZ32ogIYgBrOaQu0RqfnkIymG\n",
       "bpl3xTIY7bIf7O06OvPTaKSSHcojltSbzrUJOSS9Ts6R65uR59ABHWkY9dnOKCIk7hfHzRDJNOTC\n",
       "0suT21+NFR06uocM9gfzyQx0NyYRTVqifzS3MD8c13Yd8tlF+/of9fmgCT8N5i+ywRKBep1xHgAA\n",
       "AABJRU5ErkJggg==\n",
       "\" style=\"display:inline;vertical-align:middle;\" /></a></span></td></tr>\n",
       "<tr><td><a name=\"-0x7f213dc5ae04a5a6_step1\">1</a></td><td>instantiation</td><td><a href=\"#-0x7f213dc5ae04a5a6_step2\">2</a>, <a href=\"#-0x7f213dc5ae04a5a6_step3\">3</a></td><td><span style=\"font-size:20px;\"><a class=\"ProveItLink\" href=\"../../../__pv_it/theorems/faee4bbbe040bf704ee11762db4f42211a40e3750/expr.ipynb\"><img src=\"data:image/png;base64,iVBORw0KGgoAAAANSUhEUgAAAFEAAAAVBAMAAADMaB9/AAAAMFBMVEX///8AAAAAAAAAAAAAAAAA\n",
       "AAAAAAAAAAAAAAAAAAAAAAAAAAAAAAAAAAAAAAAAAAAv3aB7AAAAD3RSTlMAmd0iq3ZUiRDNZu9E\n",
       "uzLWhN+VAAAACXBIWXMAAA7EAAAOxAGVKw4bAAABL0lEQVQoz2NgQAADBpwAVYo1AbfKoyi8dNwK\n",
       "GVgXIHE4JuBRyTADic24AJ/KhUhsbnwKGbgbEOxMvCo5kWwUB+LWkL5ytBDgCFzA0MLAwO6AEJoF\n",
       "xAKsrowKIDcrgQFIlp1tA8N6BgauCQxCICFFoJAakGvA9YMFzWPPgFp9GRiA6sHABIj3MDDwMTBi\n",
       "BFUDdwDDVqDUBxSVQC8GYPjlfAPfPwYGHiQz1cDCBhwNqO5kkGRgBapiU4CoNATiqwwMvQe8GdjR\n",
       "zbzCwAvUwXUBIVLCwJD/QprhGLpKEYbzQE8yFiBEHjEwNIaySWEkqJZSeWCaYzqAEGF6gCt+KoHY\n",
       "CInPJYBVGfsEjm1ASgpZ7DJWlUwBLEAnMl9AFuvFqpJtqQyQ5EXJHswBuJNSMAMDAOgjNVmvwAg1\n",
       "AAAAAElFTkSuQmCC\n",
       "\" style=\"display:inline;vertical-align:middle;\" /></a> <a class=\"ProveItLink\" href=\"../../../__pv_it/_proof_fold_not_equals/bacf4e8c4ea76329b906f83b91671d2dd59572e40/proof.ipynb\" style=\"text-decoration: none\">&nbsp;&#x22A2;&nbsp;&nbsp;</a><a class=\"ProveItLink\" href=\"../../../__pv_it/theorems/73829d3be05f2b12292db7642d7f9d4a94d650a00/expr.ipynb\"><img src=\"data:image/png;base64,iVBORw0KGgoAAAANSUhEUgAAADMAAAAUCAMAAAAX1vWWAAAAPFBMVEX///8AAAAAAAAAAAAAAAAA\n",
       "AAAAAAAAAAAAAAAAAAAAAAAAAAAAAAAAAAAAAAAAAAAAAAAAAAAAAAAAAAAo1xBWAAAAE3RSTlMA\n",
       "EHarMolUmd1mIs3vRLvn9enz6YVhIgAAAAlwSFlzAAAOxAAADsQBlSsOGwAAANVJREFUOMudU1kW\n",
       "wyAIZFHQbF1y/7tWTNPWRtNn+UATgWFGBDg1Reg1t3SnwOL6YfgPmKE7ZW7DIBGj816+D8ahDNNo\n",
       "Sy6kAMQEGl4Ch2yXq/kXlgeZ0hJXc4NtEDiewjjZqrLJb3LqWGGjJQOAieDp4HPThLEiqRlwq9u/\n",
       "0jliwed231i9tcvNkHHCZQaeMscS5jBpC+9OVoeacuZSatHjvLJ1lPVWohQR5RdMuhlPurZHQ3z9\n",
       "vx/bY1OBsXCcpJkSKzAh3Qf7NkyoPE+JpPPZwzmd9wfDxQU5d0E62gAAAABJRU5ErkJggg==\n",
       "\" style=\"display:inline;vertical-align:middle;\" /></a></span></td></tr>\n",
       "<tr><td>&nbsp;</td><td colspan=4 style=\"text-align:left\"><span style=\"font-size:20px;\"><a class=\"ProveItLink\" href=\"../../../../../__pv_it/common/09585084922504426caf1db2ff588a23a0932a960/expr.ipynb\"><img src=\"data:image/png;base64,iVBORw0KGgoAAAANSUhEUgAAAA8AAAAPBAMAAADJ+Ih5AAAAMFBMVEX///8AAAAAAAAAAAAAAAAA\n",
       "AAAAAAAAAAAAAAAAAAAAAAAAAAAAAAAAAAAAAAAAAAAv3aB7AAAAD3RSTlMAIs1UmauJMnZmRLsQ\n",
       "3e++988cAAAACXBIWXMAAA7EAAAOxAGVKw4bAAAAXklEQVQI12NgAAEhBijQh9LM/6EMlngBCCMx\n",
       "vwBMMzb0G0BkGOwngBmLGeoTwAwHBvkAEM2xxSV+A4hxgoGB/wJEhoH3AZDmAupg+gBkyAEx90cG\n",
       "htP/dRiY939KAABt3hLO6mcEjQAAAABJRU5ErkJggg==\n",
       "\" style=\"display:inline;vertical-align:middle;\" /></a> : <a class=\"ProveItLink\" href=\"../../../__pv_it/theorems/73829d3be05f2b12292db7642d7f9d4a94d650a00/expr.ipynb\"><img src=\"data:image/png;base64,iVBORw0KGgoAAAANSUhEUgAAADMAAAAUCAMAAAAX1vWWAAAAPFBMVEX///8AAAAAAAAAAAAAAAAA\n",
       "AAAAAAAAAAAAAAAAAAAAAAAAAAAAAAAAAAAAAAAAAAAAAAAAAAAAAAAAAAAo1xBWAAAAE3RSTlMA\n",
       "EHarMolUmd1mIs3vRLvn9enz6YVhIgAAAAlwSFlzAAAOxAAADsQBlSsOGwAAANVJREFUOMudU1kW\n",
       "wyAIZFHQbF1y/7tWTNPWRtNn+UATgWFGBDg1Reg1t3SnwOL6YfgPmKE7ZW7DIBGj816+D8ahDNNo\n",
       "Sy6kAMQEGl4Ch2yXq/kXlgeZ0hJXc4NtEDiewjjZqrLJb3LqWGGjJQOAieDp4HPThLEiqRlwq9u/\n",
       "0jliwed231i9tcvNkHHCZQaeMscS5jBpC+9OVoeacuZSatHjvLJ1lPVWohQR5RdMuhlPurZHQ3z9\n",
       "vx/bY1OBsXCcpJkSKzAh3Qf7NkyoPE+JpPPZwzmd9wfDxQU5d0E62gAAAABJRU5ErkJggg==\n",
       "\" style=\"display:inline;vertical-align:middle;\" /></a></span></td></tr><tr><td><a name=\"-0x7f213dc5ae04a5a6_step2\">2</a></td><td>axiom</td><td></td><td><span style=\"font-size:20px;\"> <a class=\"ProveItLink\" href=\"../../../../booleans/_theory_nbs_/axioms.ipynb#eq_true_elim\" style=\"text-decoration: none\">&nbsp;&#x22A2;&nbsp;&nbsp;</a><a class=\"ProveItLink\" href=\"../../../../booleans/__pv_it/axioms/e109ec75dbf9febf42e2a6841bae9d9b810afe380/expr.ipynb\"><img src=\"data:image/png;base64,iVBORw0KGgoAAAANSUhEUgAAAGgAAAAWBAMAAADeGsQjAAAAMFBMVEX///8AAAAAAAAAAAAAAAAA\n",
       "AAAAAAAAAAAAAAAAAAAAAAAAAAAAAAAAAAAAAAAAAAAv3aB7AAAAD3RSTlMAq1RmmUTNIjK7EInv\n",
       "3XZ/CtNrAAAACXBIWXMAAA7EAAAOxAGVKw4bAAABQklEQVQ4y2NgIBWwJzAwCIAYyiRoYvvAwOAK\n",
       "YqSToEkfqKkRZOMEEjQ5fgfatoCBgVuBeD3c1T8YGJgNgBpJsKiO7xOQPHv37mkSNDkwfQaSHgwM\n",
       "s8DcBWCSBSbLhVUPqwLHbyBVyMAODnauE2BRTpj0mgaYL2bOPDlzHpTDwsD+EaRqAXcAWO4Tqqb9\n",
       "SKGDCN2XLo4/gRTTA0g4RJxD0cTa8wCLJi6g4F8QI8EOzH+QiKKJj00AiyaQj++AGJuywIoY3FA0\n",
       "PWBJYPCcCQQGyJqCgTgfxKgBGxnB8AZZE2sD3wFMm9hBYvMLgAQjOJi8d8svQNLEsnvjLwxNXPO/\n",
       "LWDQ/J8NE+ZjYKhvQNL0gIH9BxbnoQKgY/kVEJpYgUo/YQtyZMBykIHLPxWhyUeAYcm3AETaIZC2\n",
       "OBnIAPTTxE6EGgDCrEmFo2pTSQAAAABJRU5ErkJggg==\n",
       "\" style=\"display:inline;vertical-align:middle;\" /></a></span></td></tr>\n",
       "<tr><td>&nbsp;</td><td colspan=4 style-\"text-align:left\"><a class=\"ProveItLink\" href=\"../../../../booleans/_theory_nbs_/axioms.ipynb#eq_true_elim\">proveit.logic.booleans.eq_true_elim</a></td></tr><tr><td><a name=\"-0x7f213dc5ae04a5a6_step3\">3</a></td><td>instantiation</td><td><a href=\"#-0x7f213dc5ae04a5a6_step4\">4</a>, <a href=\"#-0x7f213dc5ae04a5a6_step5\">5</a><sup>*</sup></td><td><span style=\"font-size:20px;\"><a class=\"ProveItLink\" href=\"../../../__pv_it/theorems/faee4bbbe040bf704ee11762db4f42211a40e3750/expr.ipynb\"><img src=\"data:image/png;base64,iVBORw0KGgoAAAANSUhEUgAAAFEAAAAVBAMAAADMaB9/AAAAMFBMVEX///8AAAAAAAAAAAAAAAAA\n",
       "AAAAAAAAAAAAAAAAAAAAAAAAAAAAAAAAAAAAAAAAAAAv3aB7AAAAD3RSTlMAmd0iq3ZUiRDNZu9E\n",
       "uzLWhN+VAAAACXBIWXMAAA7EAAAOxAGVKw4bAAABL0lEQVQoz2NgQAADBpwAVYo1AbfKoyi8dNwK\n",
       "GVgXIHE4JuBRyTADic24AJ/KhUhsbnwKGbgbEOxMvCo5kWwUB+LWkL5ytBDgCFzA0MLAwO6AEJoF\n",
       "xAKsrowKIDcrgQFIlp1tA8N6BgauCQxCICFFoJAakGvA9YMFzWPPgFp9GRiA6sHABIj3MDDwMTBi\n",
       "BFUDdwDDVqDUBxSVQC8GYPjlfAPfPwYGHiQz1cDCBhwNqO5kkGRgBapiU4CoNATiqwwMvQe8GdjR\n",
       "zbzCwAvUwXUBIVLCwJD/QprhGLpKEYbzQE8yFiBEHjEwNIaySWEkqJZSeWCaYzqAEGF6gCt+KoHY\n",
       "CInPJYBVGfsEjm1ASgpZ7DJWlUwBLEAnMl9AFuvFqpJtqQyQ5EXJHswBuJNSMAMDAOgjNVmvwAg1\n",
       "AAAAAElFTkSuQmCC\n",
       "\" style=\"display:inline;vertical-align:middle;\" /></a> <a class=\"ProveItLink\" href=\"../../../__pv_it/_proof_fold_not_equals/6cc54352440fa4da1a843541be10cb4cdfa05f380/proof.ipynb\" style=\"text-decoration: none\">&nbsp;&#x22A2;&nbsp;&nbsp;</a><a class=\"ProveItLink\" href=\"../../../__pv_it/_proof_fold_not_equals/d6257f4ebf3872da7e4f0d95b4a3cc7f95db1c2d0/expr.ipynb\"><img src=\"data:image/png;base64,iVBORw0KGgoAAAANSUhEUgAAAGwAAAAVCAMAAACUlfv2AAAAPFBMVEX///8AAAAAAAAAAAAAAAAA\n",
       "AAAAAAAAAAAAAAAAAAAAAAAAAAAAAAAAAAAAAAAAAAAAAAAAAAAAAAAAAAAo1xBWAAAAE3RSTlMA\n",
       "InZUiRDNmWbv3US7qzLn9enz+YF6hwAAAAlwSFlzAAAOxAAADsQBlSsOGwAAAVpJREFUSMedVlmW\n",
       "hCAMxITIGmbx/ncdENppbREjHz4fSyqVFAlK5TGpJ+PZKcDBBkNnswEeYKEebEix46Qd2jb+bbBS\n",
       "NI9OxNRZmOkmnS0GZuRf4t6KNVIwNyTWV4IjGRiOohi4vzZbGZh5yYMAmJLWR2nOO2IEa9ipeqBZ\n",
       "BrY5l+MPDFk/eyF9fTch1aEVlrjbpSZt7uruFMw3JnYqJkixvSKWsHrD9TagkzFzoZkp3n3mL+wF\n",
       "lwXhyklXj6flGZj6N9EnVtAz+wxSr14QMvP4ZidbJnpPws/vMQkre2gg6GU5i/WHYlDsVgVc14jI\n",
       "r09JdJQxa+rFJZHJYGGnfPwsEYZLCOzh3twESzUSZACybYuj4keswSwtkz7cAgubwn0S9wPdVDt5\n",
       "aYe5qKYnxAoOObxZwwWF1p4Q8zn83OanKMbKQuws+JOajhZMGLeDi8dEp7+nwWtCjPUHv3EKANPz\n",
       "ItQAAAAASUVORK5CYII=\n",
       "\" style=\"display:inline;vertical-align:middle;\" /></a></span></td></tr>\n",
       "<tr><td>&nbsp;</td><td colspan=4 style=\"text-align:left\"><span style=\"font-size:20px;\"><a class=\"ProveItLink\" href=\"../../../../../__pv_it/common/a0d9d672aa5e272d907247690c152cc2c6daafb70/expr.ipynb\"><img src=\"data:image/png;base64,iVBORw0KGgoAAAANSUhEUgAAAAsAAAAJBAMAAAAWSsseAAAAMFBMVEX///8AAAAAAAAAAAAAAAAA\n",
       "AAAAAAAAAAAAAAAAAAAAAAAAAAAAAAAAAAAAAAAAAAAv3aB7AAAAD3RSTlMAEHarMolUmd1mIs3v\n",
       "RLtmgJDEAAAACXBIWXMAAA7EAAAOxAGVKw4bAAAAQklEQVQI12NgEFIWCU1gYChgMmJvYOBcwPmR\n",
       "eQIDCwP7BgYQ4FEAU/cXMAowyF2wYWBlYMh3rGG4xsAgrsRWmcAAAFEjCyBvD0T9AAAAAElFTkSu\n",
       "QmCC\n",
       "\" style=\"display:inline;vertical-align:middle;\" /></a> : <a class=\"ProveItLink\" href=\"../../../../../__pv_it/common/a0d9d672aa5e272d907247690c152cc2c6daafb70/expr.ipynb\"><img src=\"data:image/png;base64,iVBORw0KGgoAAAANSUhEUgAAAAsAAAAJBAMAAAAWSsseAAAAMFBMVEX///8AAAAAAAAAAAAAAAAA\n",
       "AAAAAAAAAAAAAAAAAAAAAAAAAAAAAAAAAAAAAAAAAAAv3aB7AAAAD3RSTlMAEHarMolUmd1mIs3v\n",
       "RLtmgJDEAAAACXBIWXMAAA7EAAAOxAGVKw4bAAAAQklEQVQI12NgEFIWCU1gYChgMmJvYOBcwPmR\n",
       "eQIDCwP7BgYQ4FEAU/cXMAowyF2wYWBlYMh3rGG4xsAgrsRWmcAAAFEjCyBvD0T9AAAAAElFTkSu\n",
       "QmCC\n",
       "\" style=\"display:inline;vertical-align:middle;\" /></a>, <a class=\"ProveItLink\" href=\"../../../../../__pv_it/common/ff7dba4ef0bbe791ab573bf2d9c220a304399ac80/expr.ipynb\"><img src=\"data:image/png;base64,iVBORw0KGgoAAAANSUhEUgAAAAsAAAANBAMAAACN24kIAAAAMFBMVEX///8AAAAAAAAAAAAAAAAA\n",
       "AAAAAAAAAAAAAAAAAAAAAAAAAAAAAAAAAAAAAAAAAAAv3aB7AAAAD3RSTlMAEHaZZquJVO8y3btE\n",
       "zSKD2s2pAAAACXBIWXMAAA7EAAAOxAGVKw4bAAAAVklEQVQI12NgVHZgEGVgYGNvYPBnYJjOvIAh\n",
       "moFBgEOBoYmBgeG8AOdPIGXLwNQApLYycAcAKVOG8w5ASjTJ/gEDCOQCMdsFxnYgxaXAmgCk2J1s\n",
       "gCQAaFoNDtFIIdEAAAAASUVORK5CYII=\n",
       "\" style=\"display:inline;vertical-align:middle;\" /></a> : <a class=\"ProveItLink\" href=\"../../../../../__pv_it/common/ff7dba4ef0bbe791ab573bf2d9c220a304399ac80/expr.ipynb\"><img src=\"data:image/png;base64,iVBORw0KGgoAAAANSUhEUgAAAAsAAAANBAMAAACN24kIAAAAMFBMVEX///8AAAAAAAAAAAAAAAAA\n",
       "AAAAAAAAAAAAAAAAAAAAAAAAAAAAAAAAAAAAAAAAAAAv3aB7AAAAD3RSTlMAEHaZZquJVO8y3btE\n",
       "zSKD2s2pAAAACXBIWXMAAA7EAAAOxAGVKw4bAAAAVklEQVQI12NgVHZgEGVgYGNvYPBnYJjOvIAh\n",
       "moFBgEOBoYmBgeG8AOdPIGXLwNQApLYycAcAKVOG8w5ASjTJ/gEDCOQCMdsFxnYgxaXAmgCk2J1s\n",
       "gCQAaFoNDtFIIdEAAAAASUVORK5CYII=\n",
       "\" style=\"display:inline;vertical-align:middle;\" /></a></span></td></tr><tr><td><a name=\"-0x7f213dc5ae04a5a6_step4\">4</a></td><td>axiom</td><td></td><td><span style=\"font-size:20px;\"> <a class=\"ProveItLink\" href=\"../../axioms.ipynb#not_equals_def\" style=\"text-decoration: none\">&nbsp;&#x22A2;&nbsp;&nbsp;</a><a class=\"ProveItLink\" href=\"../../../__pv_it/axioms/460c0757688de5036b09e198e4b33898716c95990/expr.ipynb\"><img src=\"data:image/png;base64,iVBORw0KGgoAAAANSUhEUgAAAP8AAAAWCAMAAAA4nbqyAAAAPFBMVEX///8AAAAAAAAAAAAAAAAA\n",
       "AAAAAAAAAAAAAAAAAAAAAAAAAAAAAAAAAAAAAAAAAAAAAAAAAAAAAAAAAAAo1xBWAAAAE3RSTlMA\n",
       "q1RmmUTNIjK7EInv3Xbn9enzK1aD6QAAAAlwSFlzAAAOxAAADsQBlSsOGwAAAsNJREFUWMPVWNmy\n",
       "pCAMlUXZM4v//68DKt2CiURnXiZ1q0/VjeYAWUicpjdiOnz18vsHzT9Z9DsrRUC2SIn22H9neMbC\n",
       "V9xL5W1RfPRSMQ3J0CIl1hHrV09Y+IrhgSoE9VzVCzMg/NIiKc4SisXzWfiKsVTeM9oaAMYxrWjV\n",
       "Iul+QWmU5rPwFWOpvA3WwwjcrIodku6n4yl6NgtfwVm6v6I6zpMbVnJpkSw34iYQFZeFr2AlgEIw\n",
       "piKRW1V0aNEDCG/DJXzacuJhi1u/H0oQXBZSQdH21QLlbVBvZcr5l2eYcwgETDrVBW7HmX78LL+f\n",
       "fYZJlsBV6554Xycej+8ixhFC0RKGcN4Gjag/LEmyQWWKdT8Jded+K/eVir3IyshkOW1Ks2j7Gozz\n",
       "tlhcH2Z2DZkbLMGjrzk5tyU+M8TSbsS997Arl+XbvQkO7SX8cd4WJfCr32X/09c67f5yIGu5bNe9\n",
       "JZjj3+6foEXKMMbb4TKpwxSANvmvNoiiaRDR+N8o8gven/Pw1+8+oTdnQY27NMr/JIn9U7SUIZS3\n",
       "wyCPJgBMyZRFHqVzymdne1c5OKN38yTiVmjuOzwn6k/J3mGv5XrfGs2gxQxhvB2aWPWb/aNtNb4c\n",
       "D/RLbe8QuVqv80Lmxl/y2uBpUTymBrfbhYVQ4LTofYnx9ii+nfp6SlyR1aJ3hE1n9Bogb1fJUYPv\n",
       "RQBdjadhtbXpVoHTohUQ4+3xZD6eBuOijpchJtkW+RNaOKqsSYxr1j5V3ARTx9vjJ8fi9mgOXh8O\n",
       "qnkdThGs+a7Y9VHyRxjSOmd4GvCSE5yGOQCUC2N7JQeYW+jBhhpwFOL+BHs68SdNcnxyTz7cYLw9\n",
       "4jGczy0TOcRV3rV44URaaang86WBtwHKOq1At4Hwjvy3Xa5+K30z2hcZaLGvIYPPMEz/GXiq4PH2\n",
       "iMdwOQMFbz81/TfyB1l9Gx7F99IvAAAAAElFTkSuQmCC\n",
       "\" style=\"display:inline;vertical-align:middle;\" /></a></span></td></tr>\n",
       "<tr><td>&nbsp;</td><td colspan=4 style-\"text-align:left\"><a class=\"ProveItLink\" href=\"../../axioms.ipynb#not_equals_def\">proveit.logic.equality.not_equals_def</a></td></tr><tr><td><a name=\"-0x7f213dc5ae04a5a6_step5\">5</a></td><td>instantiation</td><td><a href=\"#-0x7f213dc5ae04a5a6_step6\">6</a>, <a href=\"#-0x7f213dc5ae04a5a6_step7\">7</a></td><td><span style=\"font-size:20px;\"><a class=\"ProveItLink\" href=\"../../../__pv_it/theorems/faee4bbbe040bf704ee11762db4f42211a40e3750/expr.ipynb\"><img src=\"data:image/png;base64,iVBORw0KGgoAAAANSUhEUgAAAFEAAAAVBAMAAADMaB9/AAAAMFBMVEX///8AAAAAAAAAAAAAAAAA\n",
       "AAAAAAAAAAAAAAAAAAAAAAAAAAAAAAAAAAAAAAAAAAAv3aB7AAAAD3RSTlMAmd0iq3ZUiRDNZu9E\n",
       "uzLWhN+VAAAACXBIWXMAAA7EAAAOxAGVKw4bAAABL0lEQVQoz2NgQAADBpwAVYo1AbfKoyi8dNwK\n",
       "GVgXIHE4JuBRyTADic24AJ/KhUhsbnwKGbgbEOxMvCo5kWwUB+LWkL5ytBDgCFzA0MLAwO6AEJoF\n",
       "xAKsrowKIDcrgQFIlp1tA8N6BgauCQxCICFFoJAakGvA9YMFzWPPgFp9GRiA6sHABIj3MDDwMTBi\n",
       "BFUDdwDDVqDUBxSVQC8GYPjlfAPfPwYGHiQz1cDCBhwNqO5kkGRgBapiU4CoNATiqwwMvQe8GdjR\n",
       "zbzCwAvUwXUBIVLCwJD/QprhGLpKEYbzQE8yFiBEHjEwNIaySWEkqJZSeWCaYzqAEGF6gCt+KoHY\n",
       "CInPJYBVGfsEjm1ASgpZ7DJWlUwBLEAnMl9AFuvFqpJtqQyQ5EXJHswBuJNSMAMDAOgjNVmvwAg1\n",
       "AAAAAElFTkSuQmCC\n",
       "\" style=\"display:inline;vertical-align:middle;\" /></a> <a class=\"ProveItLink\" href=\"../../../__pv_it/_proof_fold_not_equals/4ed876b2f956afdea22ec8f8596972cae9e9a2f20/proof.ipynb\" style=\"text-decoration: none\">&nbsp;&#x22A2;&nbsp;&nbsp;</a><a class=\"ProveItLink\" href=\"../../../__pv_it/_proof_fold_not_equals/198d860994133ed9fb322b075f9dc39d59f452530/expr.ipynb\"><img src=\"data:image/png;base64,iVBORw0KGgoAAAANSUhEUgAAAIwAAAAVBAMAAABmhxuGAAAAMFBMVEX///8AAAAAAAAAAAAAAAAA\n",
       "AAAAAAAAAAAAAAAAAAAAAAAAAAAAAAAAAAAAAAAAAAAv3aB7AAAAD3RSTlMAInZUiRDNmWbv3US7\n",
       "qzJazP2FAAAACXBIWXMAAA7EAAAOxAGVKw4bAAABnElEQVQ4y41UMUgDMRR9tb1e22vlcHY4dKgO\n",
       "wiGi1qkguAlFUBEcOjqKFCmdFEEXwSI4uRS7VZSOurWuItxQwbGDk0vtIDiJOZPqvzQ5fPCSu59/\n",
       "L7mXnwCw8YcItIiED4+45GVSn2c5nBrMkedoXi+DKcEAKg0fNzCKJLgRooJ4gVPGrN+YByRSDpNJ\n",
       "7HIqZZI0Ug2TwYWgSmaeWlMMldkRVMmUSMBkDhsTz6/LUuJaGYYHrIJTJUPl48wnEzNOhe4BQz6H\n",
       "xDtwDE6YP0MNj8jUB1FmXoqV0CHOCi/B6UbdCjItIAdO1WouB0XKtJNNoIt9Oc/AOZKs8Hrg/I8M\n",
       "2DdDBfyBXhe4B6dKpk5k/J+C1ce65I1ZxDTrlgRV3jwMZJg3aQfGY6YK+UikPTyx7lRQtRq6gzEP\n",
       "0a/NquVKiaZnfYraKGlk3uiW1GDsOQtHQx53sn3WXQtKuPObVJdEbnUFHGP1Halxag/cL07UOSvY\n",
       "cvkhDhzkANrUS1uZcoUOa8cF1dimJrSUKYvZppivrb9j6cU4FnLZ2pxKfAMSg2QTWr1G9QAAAABJ\n",
       "RU5ErkJggg==\n",
       "\" style=\"display:inline;vertical-align:middle;\" /></a></span></td></tr>\n",
       "<tr><td>&nbsp;</td><td colspan=4 style=\"text-align:left\"><span style=\"font-size:20px;\"><a class=\"ProveItLink\" href=\"../../../../../__pv_it/common/09585084922504426caf1db2ff588a23a0932a960/expr.ipynb\"><img src=\"data:image/png;base64,iVBORw0KGgoAAAANSUhEUgAAAA8AAAAPBAMAAADJ+Ih5AAAAMFBMVEX///8AAAAAAAAAAAAAAAAA\n",
       "AAAAAAAAAAAAAAAAAAAAAAAAAAAAAAAAAAAAAAAAAAAv3aB7AAAAD3RSTlMAIs1UmauJMnZmRLsQ\n",
       "3e++988cAAAACXBIWXMAAA7EAAAOxAGVKw4bAAAAXklEQVQI12NgAAEhBijQh9LM/6EMlngBCCMx\n",
       "vwBMMzb0G0BkGOwngBmLGeoTwAwHBvkAEM2xxSV+A4hxgoGB/wJEhoH3AZDmAupg+gBkyAEx90cG\n",
       "htP/dRiY939KAABt3hLO6mcEjQAAAABJRU5ErkJggg==\n",
       "\" style=\"display:inline;vertical-align:middle;\" /></a> : <a class=\"ProveItLink\" href=\"../../../__pv_it/theorems/faee4bbbe040bf704ee11762db4f42211a40e3750/expr.ipynb\"><img src=\"data:image/png;base64,iVBORw0KGgoAAAANSUhEUgAAAFEAAAAVBAMAAADMaB9/AAAAMFBMVEX///8AAAAAAAAAAAAAAAAA\n",
       "AAAAAAAAAAAAAAAAAAAAAAAAAAAAAAAAAAAAAAAAAAAv3aB7AAAAD3RSTlMAmd0iq3ZUiRDNZu9E\n",
       "uzLWhN+VAAAACXBIWXMAAA7EAAAOxAGVKw4bAAABL0lEQVQoz2NgQAADBpwAVYo1AbfKoyi8dNwK\n",
       "GVgXIHE4JuBRyTADic24AJ/KhUhsbnwKGbgbEOxMvCo5kWwUB+LWkL5ytBDgCFzA0MLAwO6AEJoF\n",
       "xAKsrowKIDcrgQFIlp1tA8N6BgauCQxCICFFoJAakGvA9YMFzWPPgFp9GRiA6sHABIj3MDDwMTBi\n",
       "BFUDdwDDVqDUBxSVQC8GYPjlfAPfPwYGHiQz1cDCBhwNqO5kkGRgBapiU4CoNATiqwwMvQe8GdjR\n",
       "zbzCwAvUwXUBIVLCwJD/QprhGLpKEYbzQE8yFiBEHjEwNIaySWEkqJZSeWCaYzqAEGF6gCt+KoHY\n",
       "CInPJYBVGfsEjm1ASgpZ7DJWlUwBLEAnMl9AFuvFqpJtqQyQ5EXJHswBuJNSMAMDAOgjNVmvwAg1\n",
       "AAAAAElFTkSuQmCC\n",
       "\" style=\"display:inline;vertical-align:middle;\" /></a></span></td></tr><tr><td><a name=\"-0x7f213dc5ae04a5a6_step6\">6</a></td><td>axiom</td><td></td><td><span style=\"font-size:20px;\"> <a class=\"ProveItLink\" href=\"../../../../booleans/_theory_nbs_/axioms.ipynb#eq_true_intro\" style=\"text-decoration: none\">&nbsp;&#x22A2;&nbsp;&nbsp;</a><a class=\"ProveItLink\" href=\"../../../../booleans/__pv_it/axioms/af7fcd0228bc2f434dd8febb9d8c4f56a07241be0/expr.ipynb\"><img src=\"data:image/png;base64,iVBORw0KGgoAAAANSUhEUgAAAIwAAAAXBAMAAAArT7qNAAAAMFBMVEX///8AAAAAAAAAAAAAAAAA\n",
       "AAAAAAAAAAAAAAAAAAAAAAAAAAAAAAAAAAAAAAAAAAAv3aB7AAAAD3RSTlMAq1RmmUTNIjK7EInv\n",
       "3XZ/CtNrAAAACXBIWXMAAA7EAAAOxAGVKw4bAAABqElEQVQ4y2NgIAIU4JdmZyAK8CmAqTJc8qwP\n",
       "GBgEQAxlvMZoQ6h8dHGWu2AgwPCYgcEVJJCOzxSuBDDF9B+LHNMDEMm2gKER5LkJ+IxhMYBQ8gW4\n",
       "jGF2AJnEwK2AzxgeCLV9fwMuYxhOMTAD7WLDGzRqkOh48F4BpzHJDAxn7949jdcYb4ifGPQNcBqz\n",
       "kYHBg4FhFpi9AKocChbAGMlgMoihfwNK9CAbY8bAUMjADhbjOgEW4YTFzwmYMZfApANDvQBO1+gA\n",
       "9S3gDgAxuT+hGAPlAsFRcBKc4iI/Aacx/SAWJIQjzqEYA+XCjFnHwMB/AacxMUCcYAdmPkhEMQbK\n",
       "hXnKgYGB9wDOsNEF4k1ZYFczuCEbA+MCwTxQtgEliw84XWMJxDVgkyMY3iAbA+NCYpOhBiTzHacx\n",
       "oDTBCE6d3rvlFyAZA+MCQS8Dw8r/WQxM879twMzckLR0FV4YMDDUNyCMgXOBgLeBUEnCDg/8YGBM\n",
       "KCCMgXMhGY8AYIGlb5aDDFz+qXBjEFwQmE7ImEpMIU5MoZWEjJlOlDHsDwgUsgVEGUMOYCdLFwD3\n",
       "G2avyaI3nAAAAABJRU5ErkJggg==\n",
       "\" style=\"display:inline;vertical-align:middle;\" /></a></span></td></tr>\n",
       "<tr><td>&nbsp;</td><td colspan=4 style-\"text-align:left\"><a class=\"ProveItLink\" href=\"../../../../booleans/_theory_nbs_/axioms.ipynb#eq_true_intro\">proveit.logic.booleans.eq_true_intro</a></td></tr><tr><td><a name=\"-0x7f213dc5ae04a5a6_step7\">7</a></td><td>assumption</td><td></td><td><span style=\"font-size:20px;\"><a class=\"ProveItLink\" href=\"../../../__pv_it/theorems/faee4bbbe040bf704ee11762db4f42211a40e3750/expr.ipynb\"><img src=\"data:image/png;base64,iVBORw0KGgoAAAANSUhEUgAAAFEAAAAVBAMAAADMaB9/AAAAMFBMVEX///8AAAAAAAAAAAAAAAAA\n",
       "AAAAAAAAAAAAAAAAAAAAAAAAAAAAAAAAAAAAAAAAAAAv3aB7AAAAD3RSTlMAmd0iq3ZUiRDNZu9E\n",
       "uzLWhN+VAAAACXBIWXMAAA7EAAAOxAGVKw4bAAABL0lEQVQoz2NgQAADBpwAVYo1AbfKoyi8dNwK\n",
       "GVgXIHE4JuBRyTADic24AJ/KhUhsbnwKGbgbEOxMvCo5kWwUB+LWkL5ytBDgCFzA0MLAwO6AEJoF\n",
       "xAKsrowKIDcrgQFIlp1tA8N6BgauCQxCICFFoJAakGvA9YMFzWPPgFp9GRiA6sHABIj3MDDwMTBi\n",
       "BFUDdwDDVqDUBxSVQC8GYPjlfAPfPwYGHiQz1cDCBhwNqO5kkGRgBapiU4CoNATiqwwMvQe8GdjR\n",
       "zbzCwAvUwXUBIVLCwJD/QprhGLpKEYbzQE8yFiBEHjEwNIaySWEkqJZSeWCaYzqAEGF6gCt+KoHY\n",
       "CInPJYBVGfsEjm1ASgpZ7DJWlUwBLEAnMl9AFuvFqpJtqQyQ5EXJHswBuJNSMAMDAOgjNVmvwAg1\n",
       "AAAAAElFTkSuQmCC\n",
       "\" style=\"display:inline;vertical-align:middle;\" /></a> <a class=\"ProveItLink\" href=\"../../../__pv_it/_proof_fold_not_equals/c1c924e4903a1855820fc695a549346a68a5d5760/proof.ipynb\" style=\"text-decoration: none\">&nbsp;&#x22A2;&nbsp;&nbsp;</a><a class=\"ProveItLink\" href=\"../../../__pv_it/theorems/faee4bbbe040bf704ee11762db4f42211a40e3750/expr.ipynb\"><img src=\"data:image/png;base64,iVBORw0KGgoAAAANSUhEUgAAAFEAAAAVBAMAAADMaB9/AAAAMFBMVEX///8AAAAAAAAAAAAAAAAA\n",
       "AAAAAAAAAAAAAAAAAAAAAAAAAAAAAAAAAAAAAAAAAAAv3aB7AAAAD3RSTlMAmd0iq3ZUiRDNZu9E\n",
       "uzLWhN+VAAAACXBIWXMAAA7EAAAOxAGVKw4bAAABL0lEQVQoz2NgQAADBpwAVYo1AbfKoyi8dNwK\n",
       "GVgXIHE4JuBRyTADic24AJ/KhUhsbnwKGbgbEOxMvCo5kWwUB+LWkL5ytBDgCFzA0MLAwO6AEJoF\n",
       "xAKsrowKIDcrgQFIlp1tA8N6BgauCQxCICFFoJAakGvA9YMFzWPPgFp9GRiA6sHABIj3MDDwMTBi\n",
       "BFUDdwDDVqDUBxSVQC8GYPjlfAPfPwYGHiQz1cDCBhwNqO5kkGRgBapiU4CoNATiqwwMvQe8GdjR\n",
       "zbzCwAvUwXUBIVLCwJD/QprhGLpKEYbzQE8yFiBEHjEwNIaySWEkqJZSeWCaYzqAEGF6gCt+KoHY\n",
       "CInPJYBVGfsEjm1ASgpZ7DJWlUwBLEAnMl9AFuvFqpJtqQyQ5EXJHswBuJNSMAMDAOgjNVmvwAg1\n",
       "AAAAAElFTkSuQmCC\n",
       "\" style=\"display:inline;vertical-align:middle;\" /></a></span></td></tr>\n",
       "<tr><td colspan=4 style=\"text-align:left\"><sup>*</sup>equality replacement requirements</td></tr></table>"
      ],
      "text/plain": [
       "\tstep type\trequirements\tstatement\n",
       "0\tgeneralization\t1\t|- forall_{x, y | [not](x = y)} (x != y)\n",
       "1\tinstantiation\t2, 3\t{[not](x = y)} |- x != y\n",
       "\tA : x != y\n",
       "2\taxiom\t\t|- forall_{A | A = TRUE} A\n",
       "\tproveit.logic.booleans.eq_true_elim\n",
       "3\tinstantiation\t4, 5*\t{[not](x = y)} |- (x != y) = TRUE\n",
       "\tx : x, y : y\n",
       "4\taxiom\t\t|- forall_{x, y} ((x != y) = [not](x = y))\n",
       "\tproveit.logic.equality.not_equals_def\n",
       "5\tinstantiation\t6, 7\t{[not](x = y)} |- [not](x = y) = TRUE\n",
       "\tA : [not](x = y)\n",
       "6\taxiom\t\t|- forall_{A | A} (A = TRUE)\n",
       "\tproveit.logic.booleans.eq_true_intro\n",
       "7\tassumption\t\t{[not](x = y)} |- [not](x = y)"
      ]
     },
     "execution_count": 6,
     "metadata": {},
     "output_type": "execute_result"
    }
   ],
   "source": [
    "%qed"
   ]
  },
  {
   "cell_type": "code",
   "execution_count": null,
   "metadata": {},
   "outputs": [],
   "source": []
  }
 ],
 "metadata": {
  "kernelspec": {
   "display_name": "Python 3",
   "language": "python",
   "name": "python3"
  }
 },
 "nbformat": 4,
 "nbformat_minor": 0
}