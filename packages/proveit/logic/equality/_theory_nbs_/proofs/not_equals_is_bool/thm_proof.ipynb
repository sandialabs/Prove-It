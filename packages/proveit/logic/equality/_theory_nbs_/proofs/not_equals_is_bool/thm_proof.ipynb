{
 "cells": [
  {
   "cell_type": "markdown",
   "metadata": {},
   "source": [
    "Proof of <a class=\"ProveItLink\" href=\"../../../../../_theory_nbs_/theory.ipynb\">proveit</a>.<a class=\"ProveItLink\" href=\"../../../../_theory_nbs_/theory.ipynb\">logic</a>.<a class=\"ProveItLink\" href=\"../../theory.ipynb\">equality</a>.<a class=\"ProveItLink\" href=\"../../theorems.ipynb#not_equals_is_bool\">not_equals_is_bool</a> theorem\n",
    "========"
   ]
  },
  {
   "cell_type": "code",
   "execution_count": 1,
   "metadata": {},
   "outputs": [],
   "source": [
    "import proveit\n",
    "from proveit import x, y\n",
    "from proveit.logic import Equals, NotEquals, Not, in_bool\n",
    "from proveit.logic.equality  import not_equals_def\n",
    "from proveit import x, y\n",
    "theory = proveit.Theory() # the theorem's theory"
   ]
  },
  {
   "cell_type": "code",
   "execution_count": 2,
   "metadata": {},
   "outputs": [
    {
     "data": {
      "text/html": [
       "With these <a href=\"allowed_presumptions.txt\">allowed</a>/<a href=\"disallowed_presumptions.txt\">disallowed</a> theorem/theory presumptions (e.g., to avoid circular dependencies), we begin our proof of<br><strong id=\"not_equals_is_bool\">not_equals_is_bool:</strong> <a class=\"ProveItLink\" href=\"../../../__pv_it/theorems/7b9714563444d40e07e33d45879be345e238e5370/expr.ipynb\"><img src=\"data:image/png;base64,iVBORw0KGgoAAAANSUhEUgAAAKYAAAAWCAMAAAB9nBcwAAAAPFBMVEX///8AAAAAAAAAAAAAAAAA\n",
       "AAAAAAAAAAAAAAAAAAAAAAAAAAAAAAAAAAAAAAAAAAAAAAAAAAAAAAAAAAAo1xBWAAAAE3RSTlMA\n",
       "q1RmmUTNIjK7EInv3Xbn9enzK1aD6QAAAAlwSFlzAAAOxAAADsQBlSsOGwAAAplJREFUSMfNV4uO\n",
       "4yAM5E0w4L3b/P+/Hs8EKKR0pZUOVbEUHBgPg+0S8oOhB/ujj3/L/xrIerscAiYvJb5b3jujTuU8\n",
       "lbc/vaYZ30PJbG+X4zBzGG/3MRGbVpBxJn8h66TaoxdUbx92O+bvFbyHGaBZTczlf1Q6tdkjU/De\n",
       "rsmkiwkutmByVo46+dfYLNuD6Qa73mx5Oq6nE40PQ01gqtufF1bUpjJVb5dD0uWUag9CKoQpm1Rz\n",
       "2/i7GIt3dvPMbW8BkcJhX8+ilzpgEgkk7LaJQE+UGq8QoKcVUvIXSekG9mBWJqoNukGKRPgrjhS1\n",
       "//oTnxceS1hUCT+T2NQqmgumV+70NaElf03rY2d41lmu495AKH8k82A5EJruKWt0rZZXCLksTGf/\n",
       "SKSVmzCd7Gw8CTHZSva3OezgYppOD3KcN/4suTDMCDOafOzZn+H2BXqBSa69n8iMuM+Y/c4kMHmz\n",
       "CWbJZsyaebb4K8LLTohCh18ta7QrU7NDTwCCP0Cnzb/fmaL740Q55v2Yb9Z7hKlaf8uKCFBH9ShW\n",
       "LicJDBxDfjTYWjCSUJeuyJtCY2h9BDE3FCI+wGTY+mtXouZp+1LjNMQocDiVmkyyZecBIsCUfT5i\n",
       "r3VG0Mg775JZjojNYAYPi1b0yY/e1fdsRBUTFx2iPXxrQQQ2mODsbdUGalGUxb3sJozs3FE5Y+4O\n",
       "afQvN6/p8OK0G/sHf/T2oYcah81S04MepTV9sRw7zsFfu7RSoBpsQSLPVePw0EBMyIzrgmN7Tcui\n",
       "2blfoLQYS+yRVgynadSypVi2FnxCpsesoQ9aMbLTugWYEHCY18hrqoPV535SdxnH2tmaD/82PPlH\n",
       "VYfbI2eK0djbF30//4f4EOWjfyRRcrTk/xj/ANV/FGJuuEFfAAAAAElFTkSuQmCC\n",
       "\" style=\"display:inline;vertical-align:middle;\" /></a><br>(see <a class=\"ProveItLink\" href=\"../../../__pv_it/theorems/85ff72cc39885f30820494281b2aba4fb79ac5770/dependencies.ipynb\">dependencies</a>)<br>"
      ],
      "text/plain": [
       "<IPython.core.display.HTML object>"
      ]
     },
     "metadata": {},
     "output_type": "display_data"
    },
    {
     "name": "stdout",
     "output_type": "stream",
     "text": [
      "not_equals_is_bool may now be readily provable (assuming required theorems are usable).  Simply execute \"%qed\".\n"
     ]
    }
   ],
   "source": [
    "%proving not_equals_is_bool"
   ]
  },
  {
   "cell_type": "code",
   "execution_count": 3,
   "metadata": {},
   "outputs": [
    {
     "data": {
      "text/html": [
       "<span style=\"font-size:20px;\"> <a class=\"ProveItLink\" href=\"../../axioms.ipynb#not_equals_def\" style=\"text-decoration: none\">&nbsp;&#x22A2;&nbsp;&nbsp;</a><a class=\"ProveItLink\" href=\"../../../__pv_it/axioms/460c0757688de5036b09e198e4b33898716c95990/expr.ipynb\"><img src=\"data:image/png;base64,iVBORw0KGgoAAAANSUhEUgAAAP8AAAAWCAMAAAA4nbqyAAAAPFBMVEX///8AAAAAAAAAAAAAAAAA\n",
       "AAAAAAAAAAAAAAAAAAAAAAAAAAAAAAAAAAAAAAAAAAAAAAAAAAAAAAAAAAAo1xBWAAAAE3RSTlMA\n",
       "q1RmmUTNIjK7EInv3Xbn9enzK1aD6QAAAAlwSFlzAAAOxAAADsQBlSsOGwAAAsNJREFUWMPVWNmy\n",
       "pCAMlUXZM4v//68DKt2CiURnXiZ1q0/VjeYAWUicpjdiOnz18vsHzT9Z9DsrRUC2SIn22H9neMbC\n",
       "V9xL5W1RfPRSMQ3J0CIl1hHrV09Y+IrhgSoE9VzVCzMg/NIiKc4SisXzWfiKsVTeM9oaAMYxrWjV\n",
       "Iul+QWmU5rPwFWOpvA3WwwjcrIodku6n4yl6NgtfwVm6v6I6zpMbVnJpkSw34iYQFZeFr2AlgEIw\n",
       "piKRW1V0aNEDCG/DJXzacuJhi1u/H0oQXBZSQdH21QLlbVBvZcr5l2eYcwgETDrVBW7HmX78LL+f\n",
       "fYZJlsBV6554Xycej+8ixhFC0RKGcN4Gjag/LEmyQWWKdT8Jded+K/eVir3IyshkOW1Ks2j7Gozz\n",
       "tlhcH2Z2DZkbLMGjrzk5tyU+M8TSbsS997Arl+XbvQkO7SX8cd4WJfCr32X/09c67f5yIGu5bNe9\n",
       "JZjj3+6foEXKMMbb4TKpwxSANvmvNoiiaRDR+N8o8gven/Pw1+8+oTdnQY27NMr/JIn9U7SUIZS3\n",
       "wyCPJgBMyZRFHqVzymdne1c5OKN38yTiVmjuOzwn6k/J3mGv5XrfGs2gxQxhvB2aWPWb/aNtNb4c\n",
       "D/RLbe8QuVqv80Lmxl/y2uBpUTymBrfbhYVQ4LTofYnx9ii+nfp6SlyR1aJ3hE1n9Bogb1fJUYPv\n",
       "RQBdjadhtbXpVoHTohUQ4+3xZD6eBuOijpchJtkW+RNaOKqsSYxr1j5V3ARTx9vjJ8fi9mgOXh8O\n",
       "qnkdThGs+a7Y9VHyRxjSOmd4GvCSE5yGOQCUC2N7JQeYW+jBhhpwFOL+BHs68SdNcnxyTz7cYLw9\n",
       "4jGczy0TOcRV3rV44URaaang86WBtwHKOq1At4Hwjvy3Xa5+K30z2hcZaLGvIYPPMEz/GXiq4PH2\n",
       "iMdwOQMFbz81/TfyB1l9Gx7F99IvAAAAAElFTkSuQmCC\n",
       "\" style=\"display:inline;vertical-align:middle;\" /></a></span>"
      ],
      "text/plain": [
       "|- forall_{x, y} ((x != y) = [not](x = y))"
      ]
     },
     "metadata": {},
     "output_type": "display_data"
    }
   ],
   "source": [
    "not_equals_def"
   ]
  },
  {
   "cell_type": "code",
   "execution_count": 4,
   "metadata": {},
   "outputs": [
    {
     "data": {
      "text/html": [
       "<strong id=\"not_equals_def_spec\">not_equals_def_spec:</strong> <span style=\"font-size:20px;\"> <a class=\"ProveItLink\" href=\"../../../__pv_it/_proof_not_equals_is_bool/5b8fa5e143fad23050ed867e9cf8147525ef93800/proof.ipynb\" style=\"text-decoration: none\">&nbsp;&#x22A2;&nbsp;&nbsp;</a><a class=\"ProveItLink\" href=\"../../../__pv_it/axioms/29bc2c6db42eff76f7549bf8c74205c2adcbeaef0/expr.ipynb\"><img src=\"data:image/png;base64,iVBORw0KGgoAAAANSUhEUgAAAL4AAAAVCAMAAADPcaSCAAAAPFBMVEX///8AAAAAAAAAAAAAAAAA\n",
       "AAAAAAAAAAAAAAAAAAAAAAAAAAAAAAAAAAAAAAAAAAAAAAAAAAAAAAAAAAAo1xBWAAAAE3RSTlMA\n",
       "InZUiRDNmWbv3US7qzLn9enz+YF6hwAAAAlwSFlzAAAOxAAADsQBlSsOGwAAAhZJREFUSMell9uW\n",
       "gyAMRRVE7szF///XCSAdxcRgy0PPWgazMSSBThOMeXpjzB9PfAv7euv1tpD3L2iFPfViDEd657DE\n",
       "aNymcrmfnwKBNyM00juHpeNhjqpWZnpIhGFVPIv0zmLp0bhFNRPEFCmL0TyK9K7N28tv3KKWCz5d\n",
       "YZYPv31sGBiNCyqZTfTxZhfZCJLe5frB8hsXVO8VpISIKi1L3w7WU/CVKJuu6jctkc2dhTFQ2L5S\n",
       "UC5o+xLIIxHFpF3z78r4+s6/r2Uuk8y7braafP8h3KfXEfn9obCEI5wL6up3mzkb1RTNXfCTrKBY\n",
       "e6lkE3j3fliTPhkobN8+cC6o9XVChlzz0Z+bC5SMzaeFrUdG2tgi8/2ZGU8GAnvJHZwLegDY6zm6\n",
       "9m3HQ6jgtXoUePvp8gks0kEwLqiT/zNgrUodc/Dnt0/mEirRNs9xue8ksXwKSzlCuaChfLsKfoq2\n",
       "1Mj9uRpi+8mZG7ighT6ysz4aCCzmCOOC1iYkt6Q0+PGnaMnrsapjjpdh2uJrkK31Dos2WowLmspG\n",
       "KC0ErNZI7lKj4iL0tleE8xw1uVsDjkWLF+NmdenpZXHZW8Xs+JIjvdNYeis7blH64oUEP3tQVo7f\n",
       "ukjvI/c9hluVupMZJPgOKi7uz+cwAiZvfOHJny2Mu6siluGQ+6Q0QvtHfMo7bUDzGOE2nfFzg0lO\n",
       "MRi9WTw1jHGL/gFfJRLyxl3OxAAAAABJRU5ErkJggg==\n",
       "\" style=\"display:inline;vertical-align:middle;\" /></a></span><br>"
      ],
      "text/plain": [
       "<IPython.core.display.HTML object>"
      ]
     },
     "metadata": {},
     "output_type": "display_data"
    }
   ],
   "source": [
    "not_equals_def_spec = not_equals_def.instantiate({x:x, y:y})"
   ]
  },
  {
   "cell_type": "code",
   "execution_count": 5,
   "metadata": {},
   "outputs": [
    {
     "data": {
      "text/html": [
       "<strong id=\"neg_equals_in_bool\">neg_equals_in_bool:</strong> <span style=\"font-size:20px;\"> <a class=\"ProveItLink\" href=\"../../../__pv_it/_proof_not_equals_is_bool/528c98e51c7590e335010c1b1d3443e3b353d10d0/proof.ipynb\" style=\"text-decoration: none\">&nbsp;&#x22A2;&nbsp;&nbsp;</a><a class=\"ProveItLink\" href=\"../../../__pv_it/_proof_not_equals_is_bool/1d710b8cb7a300917cfa9ecbdc94f9002a47f8690/expr.ipynb\"><img src=\"data:image/png;base64,iVBORw0KGgoAAAANSUhEUgAAAIgAAAAVBAMAAABvbLv8AAAAMFBMVEX///8AAAAAAAAAAAAAAAAA\n",
       "AAAAAAAAAAAAAAAAAAAAAAAAAAAAAAAAAAAAAAAAAAAv3aB7AAAAD3RSTlMAInZUiRDNmWbv3US7\n",
       "qzJazP2FAAAACXBIWXMAAA7EAAAOxAGVKw4bAAACAElEQVQ4y31UO0jkUBQ9MyYm85NgIRYWoi5+\n",
       "QAgiojZOIVYKwUIR3GUUFtZuCovRaiottBDBZiwcFBS/DKiFldHCQhQGsVm0sLGxUQsXy73JexNf\n",
       "YpILhzu5ue/kvPPuGwAaviKCwIiEvY7qwkNzMEmikcG1dvfqX+GBfnQLxap0MAnaOMRIJhrrfpYg\n",
       "Z4TaWAgHqg0GN0le0kwoeaGWCyNRswweElUvIybWVsJIsMZhmXG9t+2QZNAjWpIJJfnDQQZPG46S\n",
       "VH0as0KXYvk62vlrUHevHs1BLgMjYADqDGc7PzruK9TcOsufbPROKVKe37Pi0Kqn+6C+AQtgAKa+\n",
       "PNne2DGwRQLsdrIsTgpUTf1I5V1CavR5pEygDwxARjA2uvQb65WBJL2xEq2A4nVGxipiNGavYEBN\n",
       "gT56wElgnnwjgd3vGdYPvD4BZ2CAbApKYCat7TgkcdvQc0023J6QtnZK/RxA0UVSjcsKCXmSJA2T\n",
       "pb+QvMNdxi2lZQ6gyUXSxc+MhURqBp7ncOwhUcqJT0qzHHSMukOSllqyeBGPgWSON1XldK+z963v\n",
       "lPY5qPB4ygZ35sa+xfEnofsoaFglOrFIkcG2epiNvXCtnFj0pxjCBImzrqqS9++4EB3UfFs2QaON\n",
       "Bg6/mBQ3b/q29LaW+Ncugv47xdmqDb7DUY3BJ/4Da6N4EO6Jb7gAAAAASUVORK5CYII=\n",
       "\" style=\"display:inline;vertical-align:middle;\" /></a></span><br>"
      ],
      "text/plain": [
       "<IPython.core.display.HTML object>"
      ]
     },
     "metadata": {},
     "output_type": "display_data"
    }
   ],
   "source": [
    "neg_equals_in_bool = in_bool(Not(Equals(x, y))).prove()"
   ]
  },
  {
   "cell_type": "code",
   "execution_count": 6,
   "metadata": {},
   "outputs": [
    {
     "data": {
      "text/html": [
       "<span style=\"font-size:20px;\"> <a class=\"ProveItLink\" href=\"../../../__pv_it/_proof_not_equals_is_bool/e1df83aa98ac4011dd43c53677f132c4841e11200/proof.ipynb\" style=\"text-decoration: none\">&nbsp;&#x22A2;&nbsp;&nbsp;</a><a class=\"ProveItLink\" href=\"../../../__pv_it/theorems/212927e91c7fb03bf6a4661a0fd0a99cf23f83440/expr.ipynb\"><img src=\"data:image/png;base64,iVBORw0KGgoAAAANSUhEUgAAAGcAAAAVCAMAAABsdQABAAAAPFBMVEX///8AAAAAAAAAAAAAAAAA\n",
       "AAAAAAAAAAAAAAAAAAAAAAAAAAAAAAAAAAAAAAAAAAAAAAAAAAAAAAAAAAAo1xBWAAAAE3RSTlMA\n",
       "InZUiRDNmWbv3US7qzLn9enz+YF6hwAAAAlwSFlzAAAOxAAADsQBlSsOGwAAAbVJREFUSMedVVd2\n",
       "xCAMBIEooqT4/neNKI7tGMxu+PC+pWhm0EgIwUOKf4z3D4FabLA4mAywCks+ms14SqH+V3pxIMdx\n",
       "HLcSEAsZabACoVluz+N5g2sc5qKlKETtilZOkwVnX8JxSpQIfilnmnF/FQSReJgBDs+p1bWFNF0y\n",
       "56sIBnCoJ0nHDrDdBQiQMGt98545y0Go14wNW58oyEG2ig8QKOkTJ75rSCAs/ZqZ6vj4LN89oBaq\n",
       "3LPbWoLMhM6BQ8ZvVOqCmgAny2kUyT3JyaoRSc3p6pRbM/UBuMBafSuiYl072BsunmJevpSnbzWa\n",
       "t4OBpz7iX5zyo3cccZyeyym4rJnjt4oKhx6MUz2leuJ+bzUEx0S85Ofru5H8TXjVDD2+oiMmPeIY\n",
       "EaHRCSL5mujnko9p/5SknkQAPOAo6N5UW0bLOOFqa3WreJuK8N2jZ1ZGjXB4hwbNYXIVjJb5KOvU\n",
       "qoNh0mC3njQKl5UYLtvB+BiPfk15Wu+TTq67L+WfnAQdr33n1W54l1Mg0HfVyw78Yp90dznE2U59\n",
       "Wsb3nlOc7ad7x1IObFj28dlLP3mB8/Oz/BbMD+aJDTjR+TxWAAAAAElFTkSuQmCC\n",
       "\" style=\"display:inline;vertical-align:middle;\" /></a></span>"
      ],
      "text/plain": [
       "|- (x != y) in BOOLEAN"
      ]
     },
     "metadata": {},
     "output_type": "display_data"
    }
   ],
   "source": [
    "not_equals_def_spec.sub_left_side_into(neg_equals_in_bool)"
   ]
  },
  {
   "cell_type": "code",
   "execution_count": 7,
   "metadata": {},
   "outputs": [
    {
     "name": "stdout",
     "output_type": "stream",
     "text": [
      "proveit.logic.equality.not_equals_is_bool has been proven.\n"
     ]
    },
    {
     "data": {
      "text/html": [
       "<table><tr><th>&nbsp;</th><th>step type</th><th>requirements</th><th>statement</th></tr>\n",
       "<tr><td><a name=\"-0x3e3a1794b971a974_step0\">0</a></td><td>generalization</td><td><a href=\"#-0x3e3a1794b971a974_step1\">1</a></td><td><span style=\"font-size:20px;\"> <a class=\"ProveItLink\" href=\"../../../__pv_it/_proof_not_equals_is_bool/f68d9e05499437b359b77a698d3babbac3018d3e0/proof.ipynb\" style=\"text-decoration: none\">&nbsp;&#x22A2;&nbsp;&nbsp;</a><a class=\"ProveItLink\" href=\"../../../__pv_it/theorems/7b9714563444d40e07e33d45879be345e238e5370/expr.ipynb\"><img src=\"data:image/png;base64,iVBORw0KGgoAAAANSUhEUgAAAKYAAAAWCAMAAAB9nBcwAAAAPFBMVEX///8AAAAAAAAAAAAAAAAA\n",
       "AAAAAAAAAAAAAAAAAAAAAAAAAAAAAAAAAAAAAAAAAAAAAAAAAAAAAAAAAAAo1xBWAAAAE3RSTlMA\n",
       "q1RmmUTNIjK7EInv3Xbn9enzK1aD6QAAAAlwSFlzAAAOxAAADsQBlSsOGwAAAplJREFUSMfNV4uO\n",
       "4yAM5E0w4L3b/P+/Hs8EKKR0pZUOVbEUHBgPg+0S8oOhB/ujj3/L/xrIerscAiYvJb5b3jujTuU8\n",
       "lbc/vaYZ30PJbG+X4zBzGG/3MRGbVpBxJn8h66TaoxdUbx92O+bvFbyHGaBZTczlf1Q6tdkjU/De\n",
       "rsmkiwkutmByVo46+dfYLNuD6Qa73mx5Oq6nE40PQ01gqtufF1bUpjJVb5dD0uWUag9CKoQpm1Rz\n",
       "2/i7GIt3dvPMbW8BkcJhX8+ilzpgEgkk7LaJQE+UGq8QoKcVUvIXSekG9mBWJqoNukGKRPgrjhS1\n",
       "//oTnxceS1hUCT+T2NQqmgumV+70NaElf03rY2d41lmu495AKH8k82A5EJruKWt0rZZXCLksTGf/\n",
       "SKSVmzCd7Gw8CTHZSva3OezgYppOD3KcN/4suTDMCDOafOzZn+H2BXqBSa69n8iMuM+Y/c4kMHmz\n",
       "CWbJZsyaebb4K8LLTohCh18ta7QrU7NDTwCCP0Cnzb/fmaL740Q55v2Yb9Z7hKlaf8uKCFBH9ShW\n",
       "LicJDBxDfjTYWjCSUJeuyJtCY2h9BDE3FCI+wGTY+mtXouZp+1LjNMQocDiVmkyyZecBIsCUfT5i\n",
       "r3VG0Mg775JZjojNYAYPi1b0yY/e1fdsRBUTFx2iPXxrQQQ2mODsbdUGalGUxb3sJozs3FE5Y+4O\n",
       "afQvN6/p8OK0G/sHf/T2oYcah81S04MepTV9sRw7zsFfu7RSoBpsQSLPVePw0EBMyIzrgmN7Tcui\n",
       "2blfoLQYS+yRVgynadSypVi2FnxCpsesoQ9aMbLTugWYEHCY18hrqoPV535SdxnH2tmaD/82PPlH\n",
       "VYfbI2eK0djbF30//4f4EOWjfyRRcrTk/xj/ANV/FGJuuEFfAAAAAElFTkSuQmCC\n",
       "\" style=\"display:inline;vertical-align:middle;\" /></a></span></td></tr>\n",
       "<tr><td><a name=\"-0x3e3a1794b971a974_step1\">1</a></td><td>instantiation</td><td><a href=\"#-0x3e3a1794b971a974_step2\">2</a>, <a href=\"#-0x3e3a1794b971a974_step3\">3</a>, <a href=\"#-0x3e3a1794b971a974_step4\">4</a></td><td><span style=\"font-size:20px;\"> <a class=\"ProveItLink\" href=\"../../../__pv_it/_proof_not_equals_is_bool/e1df83aa98ac4011dd43c53677f132c4841e11200/proof.ipynb\" style=\"text-decoration: none\">&nbsp;&#x22A2;&nbsp;&nbsp;</a><a class=\"ProveItLink\" href=\"../../../__pv_it/theorems/212927e91c7fb03bf6a4661a0fd0a99cf23f83440/expr.ipynb\"><img src=\"data:image/png;base64,iVBORw0KGgoAAAANSUhEUgAAAGcAAAAVCAMAAABsdQABAAAAPFBMVEX///8AAAAAAAAAAAAAAAAA\n",
       "AAAAAAAAAAAAAAAAAAAAAAAAAAAAAAAAAAAAAAAAAAAAAAAAAAAAAAAAAAAo1xBWAAAAE3RSTlMA\n",
       "InZUiRDNmWbv3US7qzLn9enz+YF6hwAAAAlwSFlzAAAOxAAADsQBlSsOGwAAAbVJREFUSMedVVd2\n",
       "xCAMBIEooqT4/neNKI7tGMxu+PC+pWhm0EgIwUOKf4z3D4FabLA4mAywCks+ms14SqH+V3pxIMdx\n",
       "HLcSEAsZabACoVluz+N5g2sc5qKlKETtilZOkwVnX8JxSpQIfilnmnF/FQSReJgBDs+p1bWFNF0y\n",
       "56sIBnCoJ0nHDrDdBQiQMGt98545y0Go14wNW58oyEG2ig8QKOkTJ75rSCAs/ZqZ6vj4LN89oBaq\n",
       "3LPbWoLMhM6BQ8ZvVOqCmgAny2kUyT3JyaoRSc3p6pRbM/UBuMBafSuiYl072BsunmJevpSnbzWa\n",
       "t4OBpz7iX5zyo3cccZyeyym4rJnjt4oKhx6MUz2leuJ+bzUEx0S85Ofru5H8TXjVDD2+oiMmPeIY\n",
       "EaHRCSL5mujnko9p/5SknkQAPOAo6N5UW0bLOOFqa3WreJuK8N2jZ1ZGjXB4hwbNYXIVjJb5KOvU\n",
       "qoNh0mC3njQKl5UYLtvB+BiPfk15Wu+TTq67L+WfnAQdr33n1W54l1Mg0HfVyw78Yp90dznE2U59\n",
       "Wsb3nlOc7ad7x1IObFj28dlLP3mB8/Oz/BbMD+aJDTjR+TxWAAAAAElFTkSuQmCC\n",
       "\" style=\"display:inline;vertical-align:middle;\" /></a></span></td></tr>\n",
       "<tr><td>&nbsp;</td><td colspan=4 style=\"text-align:left\"><span style=\"font-size:20px;\"><a class=\"ProveItLink\" href=\"../../../__pv_it/_proof_not_equals_is_bool/1d99392da58b40374b949787020ddefb47f454cd0/expr.ipynb\"><img src=\"data:image/png;base64,iVBORw0KGgoAAAANSUhEUgAAADsAAAAVBAMAAAAKrYvGAAAAMFBMVEX///8AAAAAAAAAAAAAAAAA\n",
       "AAAAAAAAAAAAAAAAAAAAAAAAAAAAAAAAAAAAAAAAAAAv3aB7AAAAD3RSTlMAdrurzZkQ7zJUiSLd\n",
       "ZkQEbk8lAAAACXBIWXMAAA7EAAAOxAGVKw4bAAABHElEQVQoz2NgQAYb8PAYGBgnoHAfgkmh/8pG\n",
       "rgkg1iw01RfA1BcGBqYyIM3mgGaaG4jg+MjAwAnEDKwX0KSvgs34AcS/gAx2NFkGdpCVTB+AGKiE\n",
       "YQq6NAvIOH4FBoZ+ASAjCiHBbSUNFOEyYABL7ToJEvNFSD/fwPSNgYEX5FZ5q1X3wGIn4bJstQys\n",
       "B4AOLgCy9WGCdXBp1g8MPAuAfvoA8Ta6NLsCQ/4DBgY+oG6OXzBBhOH5Agz3gRQn0ALGfzBBRYT0\n",
       "BAYTzg0MvEA/sXyACS6GSzMJcB5lBTphAQOr/icBqGAP0CYlINBmYDNcsVmCgYHnAXIg8TSghdoe\n",
       "FB5vAJp0LCpXG5XLrYDKT0LlMqGlJm4BFK40AwMAeV42yYcqVGcAAAAASUVORK5CYII=\n",
       "\" style=\"display:inline;vertical-align:middle;\" /></a> : <a class=\"ProveItLink\" href=\"../../../__pv_it/_proof_not_equals_is_bool/a9dccdbfd19eb63cc286f129ddf925359cbc0e140/expr.ipynb\"><img src=\"data:image/png;base64,iVBORw0KGgoAAAANSUhEUgAAAD4AAAAQBAMAAAC8SdExAAAAMFBMVEX///8AAAAAAAAAAAAAAAAA\n",
       "AAAAAAAAAAAAAAAAAAAAAAAAAAAAAAAAAAAAAAAAAAAv3aB7AAAAD3RSTlMAMrsiq4l2RO8QZpnd\n",
       "VM2humBGAAAACXBIWXMAAA7EAAAOxAGVKw4bAAAAzElEQVQY02NgwAHYTuj963FnwA2Y2BPsphTg\n",
       "k1/AaqCAV57rggOmeNKZMw/g8g8wpOsyEfpZrALg4iZhZiCK+SXC/MwcV7g0ezOD/gQgzWeAkD/X\n",
       "f3oCjDdjAcMeEM2H7D625XDT9jMwHAXREmeAQAEqz6BQCpNvYuD8DqInIetnUGCCcji/MXB9ADF4\n",
       "UOVh1nH+ZWB5cBkU7Ako8tdgPDWGOxs2gBhvEfIBrKkbGISUgMCAYUqqsJsASHiKOsRPbC+UsMdf\n",
       "qc4ZpFAFAIbwN/uxrLzpAAAAAElFTkSuQmCC\n",
       "\" style=\"display:inline;vertical-align:middle;\" /></a>, <a class=\"ProveItLink\" href=\"../../../../../__pv_it/common/a0d9d672aa5e272d907247690c152cc2c6daafb70/expr.ipynb\"><img src=\"data:image/png;base64,iVBORw0KGgoAAAANSUhEUgAAAAsAAAAJBAMAAAAWSsseAAAAMFBMVEX///8AAAAAAAAAAAAAAAAA\n",
       "AAAAAAAAAAAAAAAAAAAAAAAAAAAAAAAAAAAAAAAAAAAv3aB7AAAAD3RSTlMAEHarMolUmd1mIs3v\n",
       "RLtmgJDEAAAACXBIWXMAAA7EAAAOxAGVKw4bAAAAQklEQVQI12NgEFIWCU1gYChgMmJvYOBcwPmR\n",
       "eQIDCwP7BgYQ4FEAU/cXMAowyF2wYWBlYMh3rGG4xsAgrsRWmcAAAFEjCyBvD0T9AAAAAElFTkSu\n",
       "QmCC\n",
       "\" style=\"display:inline;vertical-align:middle;\" /></a> : <a class=\"ProveItLink\" href=\"../../../__pv_it/theorems/73829d3be05f2b12292db7642d7f9d4a94d650a00/expr.ipynb\"><img src=\"data:image/png;base64,iVBORw0KGgoAAAANSUhEUgAAADMAAAAUCAMAAAAX1vWWAAAAPFBMVEX///8AAAAAAAAAAAAAAAAA\n",
       "AAAAAAAAAAAAAAAAAAAAAAAAAAAAAAAAAAAAAAAAAAAAAAAAAAAAAAAAAAAo1xBWAAAAE3RSTlMA\n",
       "EHarMolUmd1mIs3vRLvn9enz6YVhIgAAAAlwSFlzAAAOxAAADsQBlSsOGwAAANVJREFUOMudU1kW\n",
       "wyAIZFHQbF1y/7tWTNPWRtNn+UATgWFGBDg1Reg1t3SnwOL6YfgPmKE7ZW7DIBGj816+D8ahDNNo\n",
       "Sy6kAMQEGl4Ch2yXq/kXlgeZ0hJXc4NtEDiewjjZqrLJb3LqWGGjJQOAieDp4HPThLEiqRlwq9u/\n",
       "0jliwed231i9tcvNkHHCZQaeMscS5jBpC+9OVoeacuZSatHjvLJ1lPVWohQR5RdMuhlPurZHQ3z9\n",
       "vx/bY1OBsXCcpJkSKzAh3Qf7NkyoPE+JpPPZwzmd9wfDxQU5d0E62gAAAABJRU5ErkJggg==\n",
       "\" style=\"display:inline;vertical-align:middle;\" /></a>, <a class=\"ProveItLink\" href=\"../../../../../__pv_it/common/ff7dba4ef0bbe791ab573bf2d9c220a304399ac80/expr.ipynb\"><img src=\"data:image/png;base64,iVBORw0KGgoAAAANSUhEUgAAAAsAAAANBAMAAACN24kIAAAAMFBMVEX///8AAAAAAAAAAAAAAAAA\n",
       "AAAAAAAAAAAAAAAAAAAAAAAAAAAAAAAAAAAAAAAAAAAv3aB7AAAAD3RSTlMAEHaZZquJVO8y3btE\n",
       "zSKD2s2pAAAACXBIWXMAAA7EAAAOxAGVKw4bAAAAVklEQVQI12NgVHZgEGVgYGNvYPBnYJjOvIAh\n",
       "moFBgEOBoYmBgeG8AOdPIGXLwNQApLYycAcAKVOG8w5ASjTJ/gEDCOQCMdsFxnYgxaXAmgCk2J1s\n",
       "gCQAaFoNDtFIIdEAAAAASUVORK5CYII=\n",
       "\" style=\"display:inline;vertical-align:middle;\" /></a> : <a class=\"ProveItLink\" href=\"../../../__pv_it/theorems/faee4bbbe040bf704ee11762db4f42211a40e3750/expr.ipynb\"><img src=\"data:image/png;base64,iVBORw0KGgoAAAANSUhEUgAAAFEAAAAVBAMAAADMaB9/AAAAMFBMVEX///8AAAAAAAAAAAAAAAAA\n",
       "AAAAAAAAAAAAAAAAAAAAAAAAAAAAAAAAAAAAAAAAAAAv3aB7AAAAD3RSTlMAmd0iq3ZUiRDNZu9E\n",
       "uzLWhN+VAAAACXBIWXMAAA7EAAAOxAGVKw4bAAABL0lEQVQoz2NgQAADBpwAVYo1AbfKoyi8dNwK\n",
       "GVgXIHE4JuBRyTADic24AJ/KhUhsbnwKGbgbEOxMvCo5kWwUB+LWkL5ytBDgCFzA0MLAwO6AEJoF\n",
       "xAKsrowKIDcrgQFIlp1tA8N6BgauCQxCICFFoJAakGvA9YMFzWPPgFp9GRiA6sHABIj3MDDwMTBi\n",
       "BFUDdwDDVqDUBxSVQC8GYPjlfAPfPwYGHiQz1cDCBhwNqO5kkGRgBapiU4CoNATiqwwMvQe8GdjR\n",
       "zbzCwAvUwXUBIVLCwJD/QprhGLpKEYbzQE8yFiBEHjEwNIaySWEkqJZSeWCaYzqAEGF6gCt+KoHY\n",
       "CInPJYBVGfsEjm1ASgpZ7DJWlUwBLEAnMl9AFuvFqpJtqQyQ5EXJHswBuJNSMAMDAOgjNVmvwAg1\n",
       "AAAAAElFTkSuQmCC\n",
       "\" style=\"display:inline;vertical-align:middle;\" /></a></span></td></tr><tr><td><a name=\"-0x3e3a1794b971a974_step2\">2</a></td><td>theorem</td><td></td><td><span style=\"font-size:20px;\"> <a class=\"ProveItLink\" href=\"../sub_left_side_into/thm_proof.ipynb\" style=\"text-decoration: none\">&nbsp;&#x22A2;&nbsp;&nbsp;</a><a class=\"ProveItLink\" href=\"../../../__pv_it/theorems/fa7b338ac0e02abe373a31648947826ee50d3a400/expr.ipynb\"><img src=\"data:image/png;base64,iVBORw0KGgoAAAANSUhEUgAAAMIAAAAXBAMAAACrPI2eAAAAMFBMVEX///8AAAAAAAAAAAAAAAAA\n",
       "AAAAAAAAAAAAAAAAAAAAAAAAAAAAAAAAAAAAAAAAAAAv3aB7AAAAD3RSTlMAq1RmmUTNIjK7EInv\n",
       "3XZ/CtNrAAAACXBIWXMAAA7EAAAOxAGVKw4bAAACs0lEQVRIx7VWS2gTURQ9k5l08uuYQkFEKQVB\n",
       "wQ9moyCoRIpUqEjQlVZsUEFwNV2KYutWlI4ULLowUQTNRqKIixahVNxUlFFwWRg/IEWIWfhNQL3v\n",
       "N3kxDIikF97c+w7nvfNy372PACtjrnA2VsqcQeHjAZBlwfru7Lv8++qaU2UWbVbQe2Af86e7dPRv\n",
       "QHKRfKqokJ4yLrJsed0RSPwCYjRg5RRk5pkI0oNdyv4PGk0KMi1sESbJ9XQpSck6DVLBhhZ2Enix\n",
       "tPS8SwqrKNtTVD0YoXH/7b05ys0DYD9wI2qJ1TbbKFIRrUC7n3stD468M2D5wA5gHDZVbLw0snd1\n",
       "588W7siXR30uzIKY5SMVPq+d284DkjFds2HQDWyhXcpptnQ38CRKwfSR9nFLgqORCiUVPKO6gsVL\n",
       "dorKK+AX3U9HiFIw8nDqonNEiUe3Q6hABcVuBMdoFPewaAF4RUn+cGGYJsezotelQmYQvVn4Eue1\n",
       "LYnQyEg0lQK/jDE3RWfZStHDM6zpGhinBH80vBPUkkEjMa8pTJTtfthFicfYRTCidZ1sOiTD+aoU\n",
       "bgKVwjqkKdxJ4zw7gfmytolcLhlMktxt3/E0hV21d2XEPYnHvZDIn09FRk9dKVCJbrt0AIdk4RqM\n",
       "amRlSfNn16gagabQxz6xrMQTXouok63Sz0BCV4A7tdgQS+cbRcvIl+Qyf9l7C5lJTeEpz7IncZ4l\n",
       "RhRZCsma9YaA7atogjZOVe35x8inqsQY02rJ/s6dD4E7gSSG2439XVRm2DPhG+iUZumUCzg4WiuT\n",
       "iw1d0xSWm7w+ZyDwpCuJcq0i6zajgrPteEy5u5jW+yHsNI5XQqIwRdat0iEl7KhyA/Fip4LlCnw4\n",
       "JApTZN1seeeO247nlDv8CZ0KmOU4e55yOqzI/2XtfxVS2vff7Q+ss7Q23lQ/yQAAAABJRU5ErkJg\n",
       "gg==\n",
       "\" style=\"display:inline;vertical-align:middle;\" /></a></span></td></tr>\n",
       "<tr><td>&nbsp;</td><td colspan=4 style-\"text-align:left\"><a class=\"ProveItLink\" href=\"../sub_left_side_into/thm_proof.ipynb\">proveit.logic.equality.sub_left_side_into</a></td></tr><tr><td><a name=\"-0x3e3a1794b971a974_step3\">3</a></td><td>instantiation</td><td><a href=\"#-0x3e3a1794b971a974_step5\">5</a>, <a href=\"#-0x3e3a1794b971a974_step6\">6</a></td><td><span style=\"font-size:20px;\"> <a class=\"ProveItLink\" href=\"../../../__pv_it/_proof_not_equals_is_bool/528c98e51c7590e335010c1b1d3443e3b353d10d0/proof.ipynb\" style=\"text-decoration: none\">&nbsp;&#x22A2;&nbsp;&nbsp;</a><a class=\"ProveItLink\" href=\"../../../__pv_it/_proof_not_equals_is_bool/1d710b8cb7a300917cfa9ecbdc94f9002a47f8690/expr.ipynb\"><img src=\"data:image/png;base64,iVBORw0KGgoAAAANSUhEUgAAAIgAAAAVBAMAAABvbLv8AAAAMFBMVEX///8AAAAAAAAAAAAAAAAA\n",
       "AAAAAAAAAAAAAAAAAAAAAAAAAAAAAAAAAAAAAAAAAAAv3aB7AAAAD3RSTlMAInZUiRDNmWbv3US7\n",
       "qzJazP2FAAAACXBIWXMAAA7EAAAOxAGVKw4bAAACAElEQVQ4y31UO0jkUBQ9MyYm85NgIRYWoi5+\n",
       "QAgiojZOIVYKwUIR3GUUFtZuCovRaiottBDBZiwcFBS/DKiFldHCQhQGsVm0sLGxUQsXy73JexNf\n",
       "YpILhzu5ue/kvPPuGwAaviKCwIiEvY7qwkNzMEmikcG1dvfqX+GBfnQLxap0MAnaOMRIJhrrfpYg\n",
       "Z4TaWAgHqg0GN0le0kwoeaGWCyNRswweElUvIybWVsJIsMZhmXG9t+2QZNAjWpIJJfnDQQZPG46S\n",
       "VH0as0KXYvk62vlrUHevHs1BLgMjYADqDGc7PzruK9TcOsufbPROKVKe37Pi0Kqn+6C+AQtgAKa+\n",
       "PNne2DGwRQLsdrIsTgpUTf1I5V1CavR5pEygDwxARjA2uvQb65WBJL2xEq2A4nVGxipiNGavYEBN\n",
       "gT56wElgnnwjgd3vGdYPvD4BZ2CAbApKYCat7TgkcdvQc0023J6QtnZK/RxA0UVSjcsKCXmSJA2T\n",
       "pb+QvMNdxi2lZQ6gyUXSxc+MhURqBp7ncOwhUcqJT0qzHHSMukOSllqyeBGPgWSON1XldK+z963v\n",
       "lPY5qPB4ygZ35sa+xfEnofsoaFglOrFIkcG2epiNvXCtnFj0pxjCBImzrqqS9++4EB3UfFs2QaON\n",
       "Bg6/mBQ3b/q29LaW+Ncugv47xdmqDb7DUY3BJ/4Da6N4EO6Jb7gAAAAASUVORK5CYII=\n",
       "\" style=\"display:inline;vertical-align:middle;\" /></a></span></td></tr>\n",
       "<tr><td>&nbsp;</td><td colspan=4 style=\"text-align:left\"><span style=\"font-size:20px;\"><a class=\"ProveItLink\" href=\"../../../../../__pv_it/common/09585084922504426caf1db2ff588a23a0932a960/expr.ipynb\"><img src=\"data:image/png;base64,iVBORw0KGgoAAAANSUhEUgAAAA8AAAAPBAMAAADJ+Ih5AAAAMFBMVEX///8AAAAAAAAAAAAAAAAA\n",
       "AAAAAAAAAAAAAAAAAAAAAAAAAAAAAAAAAAAAAAAAAAAv3aB7AAAAD3RSTlMAIs1UmauJMnZmRLsQ\n",
       "3e++988cAAAACXBIWXMAAA7EAAAOxAGVKw4bAAAAXklEQVQI12NgAAEhBijQh9LM/6EMlngBCCMx\n",
       "vwBMMzb0G0BkGOwngBmLGeoTwAwHBvkAEM2xxSV+A4hxgoGB/wJEhoH3AZDmAupg+gBkyAEx90cG\n",
       "htP/dRiY939KAABt3hLO6mcEjQAAAABJRU5ErkJggg==\n",
       "\" style=\"display:inline;vertical-align:middle;\" /></a> : <a class=\"ProveItLink\" href=\"../../../__pv_it/theorems/8dc625ee9fbf5f96228c059ed58b16ec83d4e40d0/expr.ipynb\"><img src=\"data:image/png;base64,iVBORw0KGgoAAAANSUhEUgAAADMAAAANBAMAAAD2/0vEAAAAMFBMVEX///8AAAAAAAAAAAAAAAAA\n",
       "AAAAAAAAAAAAAAAAAAAAAAAAAAAAAAAAAAAAAAAAAAAv3aB7AAAAD3RSTlMAEHarMolUmd1mIs3v\n",
       "RLtmgJDEAAAACXBIWXMAAA7EAAAOxAGVKw4bAAAAmUlEQVQY02NgEFIWCU1gQAGM6hMYhIF0AZMR\n",
       "ewOQZu8AAwMgk5XtAMN8BgbOBZwfmSeg6nIDqrVjYGBhYN/AgAYEeBQYDoEYQBod3Bdg+QKmFzAK\n",
       "oNrFUM3AdICBQe6CDQMruq7HDHxAJfmONQzX0KWKGe4DXSauxFaZgC4lHFS/gAEXiMYhzrqB8RgO\n",
       "KQ4F5gAcUmyTaoEkAEh8IT7vWgQmAAAAAElFTkSuQmCC\n",
       "\" style=\"display:inline;vertical-align:middle;\" /></a></span></td></tr><tr><td><a name=\"-0x3e3a1794b971a974_step4\">4</a></td><td>instantiation</td><td><a href=\"#-0x3e3a1794b971a974_step7\">7</a></td><td><span style=\"font-size:20px;\"> <a class=\"ProveItLink\" href=\"../../../__pv_it/_proof_not_equals_is_bool/5b8fa5e143fad23050ed867e9cf8147525ef93800/proof.ipynb\" style=\"text-decoration: none\">&nbsp;&#x22A2;&nbsp;&nbsp;</a><a class=\"ProveItLink\" href=\"../../../__pv_it/axioms/29bc2c6db42eff76f7549bf8c74205c2adcbeaef0/expr.ipynb\"><img src=\"data:image/png;base64,iVBORw0KGgoAAAANSUhEUgAAAL4AAAAVCAMAAADPcaSCAAAAPFBMVEX///8AAAAAAAAAAAAAAAAA\n",
       "AAAAAAAAAAAAAAAAAAAAAAAAAAAAAAAAAAAAAAAAAAAAAAAAAAAAAAAAAAAo1xBWAAAAE3RSTlMA\n",
       "InZUiRDNmWbv3US7qzLn9enz+YF6hwAAAAlwSFlzAAAOxAAADsQBlSsOGwAAAhZJREFUSMell9uW\n",
       "gyAMRRVE7szF///XCSAdxcRgy0PPWgazMSSBThOMeXpjzB9PfAv7euv1tpD3L2iFPfViDEd657DE\n",
       "aNymcrmfnwKBNyM00juHpeNhjqpWZnpIhGFVPIv0zmLp0bhFNRPEFCmL0TyK9K7N28tv3KKWCz5d\n",
       "YZYPv31sGBiNCyqZTfTxZhfZCJLe5frB8hsXVO8VpISIKi1L3w7WU/CVKJuu6jctkc2dhTFQ2L5S\n",
       "UC5o+xLIIxHFpF3z78r4+s6/r2Uuk8y7braafP8h3KfXEfn9obCEI5wL6up3mzkb1RTNXfCTrKBY\n",
       "e6lkE3j3fliTPhkobN8+cC6o9XVChlzz0Z+bC5SMzaeFrUdG2tgi8/2ZGU8GAnvJHZwLegDY6zm6\n",
       "9m3HQ6jgtXoUePvp8gks0kEwLqiT/zNgrUodc/Dnt0/mEirRNs9xue8ksXwKSzlCuaChfLsKfoq2\n",
       "1Mj9uRpi+8mZG7ighT6ysz4aCCzmCOOC1iYkt6Q0+PGnaMnrsapjjpdh2uJrkK31Dos2WowLmspG\n",
       "KC0ErNZI7lKj4iL0tleE8xw1uVsDjkWLF+NmdenpZXHZW8Xs+JIjvdNYeis7blH64oUEP3tQVo7f\n",
       "ukjvI/c9hluVupMZJPgOKi7uz+cwAiZvfOHJny2Mu6siluGQ+6Q0QvtHfMo7bUDzGOE2nfFzg0lO\n",
       "MRi9WTw1jHGL/gFfJRLyxl3OxAAAAABJRU5ErkJggg==\n",
       "\" style=\"display:inline;vertical-align:middle;\" /></a></span></td></tr>\n",
       "<tr><td>&nbsp;</td><td colspan=4 style=\"text-align:left\"><span style=\"font-size:20px;\"><a class=\"ProveItLink\" href=\"../../../../../__pv_it/common/a0d9d672aa5e272d907247690c152cc2c6daafb70/expr.ipynb\"><img src=\"data:image/png;base64,iVBORw0KGgoAAAANSUhEUgAAAAsAAAAJBAMAAAAWSsseAAAAMFBMVEX///8AAAAAAAAAAAAAAAAA\n",
       "AAAAAAAAAAAAAAAAAAAAAAAAAAAAAAAAAAAAAAAAAAAv3aB7AAAAD3RSTlMAEHarMolUmd1mIs3v\n",
       "RLtmgJDEAAAACXBIWXMAAA7EAAAOxAGVKw4bAAAAQklEQVQI12NgEFIWCU1gYChgMmJvYOBcwPmR\n",
       "eQIDCwP7BgYQ4FEAU/cXMAowyF2wYWBlYMh3rGG4xsAgrsRWmcAAAFEjCyBvD0T9AAAAAElFTkSu\n",
       "QmCC\n",
       "\" style=\"display:inline;vertical-align:middle;\" /></a> : <a class=\"ProveItLink\" href=\"../../../../../__pv_it/common/a0d9d672aa5e272d907247690c152cc2c6daafb70/expr.ipynb\"><img src=\"data:image/png;base64,iVBORw0KGgoAAAANSUhEUgAAAAsAAAAJBAMAAAAWSsseAAAAMFBMVEX///8AAAAAAAAAAAAAAAAA\n",
       "AAAAAAAAAAAAAAAAAAAAAAAAAAAAAAAAAAAAAAAAAAAv3aB7AAAAD3RSTlMAEHarMolUmd1mIs3v\n",
       "RLtmgJDEAAAACXBIWXMAAA7EAAAOxAGVKw4bAAAAQklEQVQI12NgEFIWCU1gYChgMmJvYOBcwPmR\n",
       "eQIDCwP7BgYQ4FEAU/cXMAowyF2wYWBlYMh3rGG4xsAgrsRWmcAAAFEjCyBvD0T9AAAAAElFTkSu\n",
       "QmCC\n",
       "\" style=\"display:inline;vertical-align:middle;\" /></a>, <a class=\"ProveItLink\" href=\"../../../../../__pv_it/common/ff7dba4ef0bbe791ab573bf2d9c220a304399ac80/expr.ipynb\"><img src=\"data:image/png;base64,iVBORw0KGgoAAAANSUhEUgAAAAsAAAANBAMAAACN24kIAAAAMFBMVEX///8AAAAAAAAAAAAAAAAA\n",
       "AAAAAAAAAAAAAAAAAAAAAAAAAAAAAAAAAAAAAAAAAAAv3aB7AAAAD3RSTlMAEHaZZquJVO8y3btE\n",
       "zSKD2s2pAAAACXBIWXMAAA7EAAAOxAGVKw4bAAAAVklEQVQI12NgVHZgEGVgYGNvYPBnYJjOvIAh\n",
       "moFBgEOBoYmBgeG8AOdPIGXLwNQApLYycAcAKVOG8w5ASjTJ/gEDCOQCMdsFxnYgxaXAmgCk2J1s\n",
       "gCQAaFoNDtFIIdEAAAAASUVORK5CYII=\n",
       "\" style=\"display:inline;vertical-align:middle;\" /></a> : <a class=\"ProveItLink\" href=\"../../../../../__pv_it/common/ff7dba4ef0bbe791ab573bf2d9c220a304399ac80/expr.ipynb\"><img src=\"data:image/png;base64,iVBORw0KGgoAAAANSUhEUgAAAAsAAAANBAMAAACN24kIAAAAMFBMVEX///8AAAAAAAAAAAAAAAAA\n",
       "AAAAAAAAAAAAAAAAAAAAAAAAAAAAAAAAAAAAAAAAAAAv3aB7AAAAD3RSTlMAEHaZZquJVO8y3btE\n",
       "zSKD2s2pAAAACXBIWXMAAA7EAAAOxAGVKw4bAAAAVklEQVQI12NgVHZgEGVgYGNvYPBnYJjOvIAh\n",
       "moFBgEOBoYmBgeG8AOdPIGXLwNQApLYycAcAKVOG8w5ASjTJ/gEDCOQCMdsFxnYgxaXAmgCk2J1s\n",
       "gCQAaFoNDtFIIdEAAAAASUVORK5CYII=\n",
       "\" style=\"display:inline;vertical-align:middle;\" /></a></span></td></tr><tr><td><a name=\"-0x3e3a1794b971a974_step5\">5</a></td><td>conjecture</td><td></td><td><span style=\"font-size:20px;\"> <a class=\"ProveItLink\" href=\"../../../../booleans/negation/_theory_nbs_/proofs/closure/thm_proof.ipynb\" style=\"text-decoration: none\">&nbsp;&#x22A2;&nbsp;&nbsp;</a><a class=\"ProveItLink\" href=\"../../../../booleans/negation/__pv_it/theorems/63d2d1127aa0220ef21e2837c5f2bee240fe4c1d0/expr.ipynb\"><img src=\"data:image/png;base64,iVBORw0KGgoAAAANSUhEUgAAAJsAAAAVBAMAAACj9YEXAAAAMFBMVEX///8AAAAAAAAAAAAAAAAA\n",
       "AAAAAAAAAAAAAAAAAAAAAAAAAAAAAAAAAAAAAAAAAAAv3aB7AAAAD3RSTlMAq1RmmUTNIjK7EInv\n",
       "3XZ/CtNrAAAACXBIWXMAAA7EAAAOxAGVKw4bAAAChElEQVQ4y4VUTWjUQBR+TTa73U03evFQPGxA\n",
       "EMG/PajgRRasIvTgopeiIpUq4lZqtVAoVLqCV9sg1hJBjd56kdSLVA/WgyBqtUgtCAYCIoL/eKjH\n",
       "+t7M62STbdYPvuzk7Zsv728GoDUGmY3ItfBtDcuWjDAMYIQJp483l+c3AJzE9XoybEqT28qMcAH5\n",
       "KeGVN8Lhe1WwygAH6P1silqhVzKCtoKPrJeUK5uDDkAN4AoVw0mRy5QlGywlrJBeaZLTbUxzl/yS\n",
       "aafIdTAjPHpax+dLLtrtYEnJYRIdHuj48Wxa6TYzo6aGv+jTfeLFGPBUdG1DPuqg1nwQvEqT62ZG\n",
       "ucJOyn1GNtlTyX79sRF/TUz4EMAtYfSa5fpUJIwjMIFRwB6INTBvLL1dxO06JnwRcmJYCi+4d/2n\n",
       "F1dr+U4yExCo/hUYI+dt4t/ehlZYu7Gt2hyuPbNKNvMPPsY7JyH0L21hv+dMUTbUsW50lWgKJsjQ\n",
       "jmUKPrAcOMfR8hslQ9mJnjcYBmaOcub9FLkHAOsWcH1CpOM0RAdOHnszRzHvE7bwFI976A89jier\n",
       "5DDfIm3ZLiwLMTkMSiPLw5qYITjI3wu7XtfZ7w5TyFXAoKHChGCvsPyMye3AVtD+UdGJHvgu3Cm6\n",
       "q5/Zb0YNhcAobf2rhidrKznf/IaRZ6jrbSKW7iclTz/nutepdib7XWNKTK/UQLu7jHveyxPdeUwe\n",
       "jvOuuFGgWFWXDMBYvd2X0ZkWW4t1yeSFx1UzZuUhW8VltTqKPbPlPKPcOFvprCfPOyRvhQj7lcMz\n",
       "KBw+AyMYiTbQ7yr3KWYcI2urNV1MhVl3MmaYZsYxtbZc/r+3ey6UjF/mKdu+APwDN+eg1EeU4WMA\n",
       "AAAASUVORK5CYII=\n",
       "\" style=\"display:inline;vertical-align:middle;\" /></a></span></td></tr>\n",
       "<tr><td>&nbsp;</td><td colspan=4 style-\"text-align:left\"><a class=\"ProveItLink\" href=\"../../../../booleans/negation/_theory_nbs_/proofs/closure/thm_proof.ipynb\">proveit.logic.booleans.negation.closure</a></td></tr><tr><td><a name=\"-0x3e3a1794b971a974_step6\">6</a></td><td>instantiation</td><td><a href=\"#-0x3e3a1794b971a974_step8\">8</a></td><td><span style=\"font-size:20px;\"> <a class=\"ProveItLink\" href=\"../../../__pv_it/_proof_not_equals_is_bool/40e2e7df718d150d6085b0626f51c2b3d0d6d1af0/proof.ipynb\" style=\"text-decoration: none\">&nbsp;&#x22A2;&nbsp;&nbsp;</a><a class=\"ProveItLink\" href=\"../../../__pv_it/axioms/98e299223b18017383f1b40e9f93eac4a510d0a20/expr.ipynb\"><img src=\"data:image/png;base64,iVBORw0KGgoAAAANSUhEUgAAAGcAAAAVBAMAAACphe0AAAAAMFBMVEX///8AAAAAAAAAAAAAAAAA\n",
       "AAAAAAAAAAAAAAAAAAAAAAAAAAAAAAAAAAAAAAAAAAAv3aB7AAAAD3RSTlMAInZUiRDNmWbv3US7\n",
       "qzJazP2FAAAACXBIWXMAAA7EAAAOxAGVKw4bAAABmklEQVQ4y2NgYBBgwAUYccowGeCU4lZAE9Ca\n",
       "k5+5dgOQYcKAG2igCxzYxJh6m4GBNQGPJrYAdE07GBx5GBjYG/Bo4ijA1NTMy8DAyYAPTIX6+9Sq\n",
       "ZXBNbAwMZng1ZUACJCkAYdPFFgaGEiAzSDfOBS0MgyoYWC8wMPiCOWIBiIAIWusAMauA6RL7AiDN\n",
       "vgoMgIoZHCwZOD4wMLSBlSYi/LQr81cpA8NioHcFOL7yooYHn0EVA+8BBgZLMC8BOSA0tgUwzAaq\n",
       "YGBHD3dWhkkMnMCofQ82YRbQ+jUwTTzcDiBNDGB5tMTwleH9AwaGnWATDiDbxMNwAOQ8Bob9AqwB\n",
       "qH4C2q0JpKzAShegakpgOMTAELPhJgMLmk08FxjOAqkeMEcJRROzAihQ7Z9WMmxG08R+gfsHAyRC\n",
       "gKkJHh8HtjA4uTMwvGJgCFdirkBP6qxX1D8CqdUQzp2tEFG1OefBqZzrAY7EwAIMUUaob7h9oMkI\n",
       "V5qEADeGSAM8qfkgVtFFDFeApAyuNBmDVdRCfQNOA0EFgQLukgBH8QEAQG9qFfGYJwQAAAAASUVO\n",
       "RK5CYII=\n",
       "\" style=\"display:inline;vertical-align:middle;\" /></a></span></td></tr>\n",
       "<tr><td>&nbsp;</td><td colspan=4 style=\"text-align:left\"><span style=\"font-size:20px;\"><a class=\"ProveItLink\" href=\"../../../../../__pv_it/common/a0d9d672aa5e272d907247690c152cc2c6daafb70/expr.ipynb\"><img src=\"data:image/png;base64,iVBORw0KGgoAAAANSUhEUgAAAAsAAAAJBAMAAAAWSsseAAAAMFBMVEX///8AAAAAAAAAAAAAAAAA\n",
       "AAAAAAAAAAAAAAAAAAAAAAAAAAAAAAAAAAAAAAAAAAAv3aB7AAAAD3RSTlMAEHarMolUmd1mIs3v\n",
       "RLtmgJDEAAAACXBIWXMAAA7EAAAOxAGVKw4bAAAAQklEQVQI12NgEFIWCU1gYChgMmJvYOBcwPmR\n",
       "eQIDCwP7BgYQ4FEAU/cXMAowyF2wYWBlYMh3rGG4xsAgrsRWmcAAAFEjCyBvD0T9AAAAAElFTkSu\n",
       "QmCC\n",
       "\" style=\"display:inline;vertical-align:middle;\" /></a> : <a class=\"ProveItLink\" href=\"../../../../../__pv_it/common/a0d9d672aa5e272d907247690c152cc2c6daafb70/expr.ipynb\"><img src=\"data:image/png;base64,iVBORw0KGgoAAAANSUhEUgAAAAsAAAAJBAMAAAAWSsseAAAAMFBMVEX///8AAAAAAAAAAAAAAAAA\n",
       "AAAAAAAAAAAAAAAAAAAAAAAAAAAAAAAAAAAAAAAAAAAv3aB7AAAAD3RSTlMAEHarMolUmd1mIs3v\n",
       "RLtmgJDEAAAACXBIWXMAAA7EAAAOxAGVKw4bAAAAQklEQVQI12NgEFIWCU1gYChgMmJvYOBcwPmR\n",
       "eQIDCwP7BgYQ4FEAU/cXMAowyF2wYWBlYMh3rGG4xsAgrsRWmcAAAFEjCyBvD0T9AAAAAElFTkSu\n",
       "QmCC\n",
       "\" style=\"display:inline;vertical-align:middle;\" /></a>, <a class=\"ProveItLink\" href=\"../../../../../__pv_it/common/ff7dba4ef0bbe791ab573bf2d9c220a304399ac80/expr.ipynb\"><img src=\"data:image/png;base64,iVBORw0KGgoAAAANSUhEUgAAAAsAAAANBAMAAACN24kIAAAAMFBMVEX///8AAAAAAAAAAAAAAAAA\n",
       "AAAAAAAAAAAAAAAAAAAAAAAAAAAAAAAAAAAAAAAAAAAv3aB7AAAAD3RSTlMAEHaZZquJVO8y3btE\n",
       "zSKD2s2pAAAACXBIWXMAAA7EAAAOxAGVKw4bAAAAVklEQVQI12NgVHZgEGVgYGNvYPBnYJjOvIAh\n",
       "moFBgEOBoYmBgeG8AOdPIGXLwNQApLYycAcAKVOG8w5ASjTJ/gEDCOQCMdsFxnYgxaXAmgCk2J1s\n",
       "gCQAaFoNDtFIIdEAAAAASUVORK5CYII=\n",
       "\" style=\"display:inline;vertical-align:middle;\" /></a> : <a class=\"ProveItLink\" href=\"../../../../../__pv_it/common/ff7dba4ef0bbe791ab573bf2d9c220a304399ac80/expr.ipynb\"><img src=\"data:image/png;base64,iVBORw0KGgoAAAANSUhEUgAAAAsAAAANBAMAAACN24kIAAAAMFBMVEX///8AAAAAAAAAAAAAAAAA\n",
       "AAAAAAAAAAAAAAAAAAAAAAAAAAAAAAAAAAAAAAAAAAAv3aB7AAAAD3RSTlMAEHaZZquJVO8y3btE\n",
       "zSKD2s2pAAAACXBIWXMAAA7EAAAOxAGVKw4bAAAAVklEQVQI12NgVHZgEGVgYGNvYPBnYJjOvIAh\n",
       "moFBgEOBoYmBgeG8AOdPIGXLwNQApLYycAcAKVOG8w5ASjTJ/gEDCOQCMdsFxnYgxaXAmgCk2J1s\n",
       "gCQAaFoNDtFIIdEAAAAASUVORK5CYII=\n",
       "\" style=\"display:inline;vertical-align:middle;\" /></a></span></td></tr><tr><td><a name=\"-0x3e3a1794b971a974_step7\">7</a></td><td>axiom</td><td></td><td><span style=\"font-size:20px;\"> <a class=\"ProveItLink\" href=\"../../axioms.ipynb#not_equals_def\" style=\"text-decoration: none\">&nbsp;&#x22A2;&nbsp;&nbsp;</a><a class=\"ProveItLink\" href=\"../../../__pv_it/axioms/460c0757688de5036b09e198e4b33898716c95990/expr.ipynb\"><img src=\"data:image/png;base64,iVBORw0KGgoAAAANSUhEUgAAAP8AAAAWCAMAAAA4nbqyAAAAPFBMVEX///8AAAAAAAAAAAAAAAAA\n",
       "AAAAAAAAAAAAAAAAAAAAAAAAAAAAAAAAAAAAAAAAAAAAAAAAAAAAAAAAAAAo1xBWAAAAE3RSTlMA\n",
       "q1RmmUTNIjK7EInv3Xbn9enzK1aD6QAAAAlwSFlzAAAOxAAADsQBlSsOGwAAAsNJREFUWMPVWNmy\n",
       "pCAMlUXZM4v//68DKt2CiURnXiZ1q0/VjeYAWUicpjdiOnz18vsHzT9Z9DsrRUC2SIn22H9neMbC\n",
       "V9xL5W1RfPRSMQ3J0CIl1hHrV09Y+IrhgSoE9VzVCzMg/NIiKc4SisXzWfiKsVTeM9oaAMYxrWjV\n",
       "Iul+QWmU5rPwFWOpvA3WwwjcrIodku6n4yl6NgtfwVm6v6I6zpMbVnJpkSw34iYQFZeFr2AlgEIw\n",
       "piKRW1V0aNEDCG/DJXzacuJhi1u/H0oQXBZSQdH21QLlbVBvZcr5l2eYcwgETDrVBW7HmX78LL+f\n",
       "fYZJlsBV6554Xycej+8ixhFC0RKGcN4Gjag/LEmyQWWKdT8Jded+K/eVir3IyshkOW1Ks2j7Gozz\n",
       "tlhcH2Z2DZkbLMGjrzk5tyU+M8TSbsS997Arl+XbvQkO7SX8cd4WJfCr32X/09c67f5yIGu5bNe9\n",
       "JZjj3+6foEXKMMbb4TKpwxSANvmvNoiiaRDR+N8o8gven/Pw1+8+oTdnQY27NMr/JIn9U7SUIZS3\n",
       "wyCPJgBMyZRFHqVzymdne1c5OKN38yTiVmjuOzwn6k/J3mGv5XrfGs2gxQxhvB2aWPWb/aNtNb4c\n",
       "D/RLbe8QuVqv80Lmxl/y2uBpUTymBrfbhYVQ4LTofYnx9ii+nfp6SlyR1aJ3hE1n9Bogb1fJUYPv\n",
       "RQBdjadhtbXpVoHTohUQ4+3xZD6eBuOijpchJtkW+RNaOKqsSYxr1j5V3ARTx9vjJ8fi9mgOXh8O\n",
       "qnkdThGs+a7Y9VHyRxjSOmd4GvCSE5yGOQCUC2N7JQeYW+jBhhpwFOL+BHs68SdNcnxyTz7cYLw9\n",
       "4jGczy0TOcRV3rV44URaaang86WBtwHKOq1At4Hwjvy3Xa5+K30z2hcZaLGvIYPPMEz/GXiq4PH2\n",
       "iMdwOQMFbz81/TfyB1l9Gx7F99IvAAAAAElFTkSuQmCC\n",
       "\" style=\"display:inline;vertical-align:middle;\" /></a></span></td></tr>\n",
       "<tr><td>&nbsp;</td><td colspan=4 style-\"text-align:left\"><a class=\"ProveItLink\" href=\"../../axioms.ipynb#not_equals_def\">proveit.logic.equality.not_equals_def</a></td></tr><tr><td><a name=\"-0x3e3a1794b971a974_step8\">8</a></td><td>axiom</td><td></td><td><span style=\"font-size:20px;\"> <a class=\"ProveItLink\" href=\"../../axioms.ipynb#equality_in_bool\" style=\"text-decoration: none\">&nbsp;&#x22A2;&nbsp;&nbsp;</a><a class=\"ProveItLink\" href=\"../../../__pv_it/axioms/80c61ed0a9ea703286def3ed4e81641a1e239b430/expr.ipynb\"><img src=\"data:image/png;base64,iVBORw0KGgoAAAANSUhEUgAAAKYAAAAWBAMAAAC4bPoxAAAAMFBMVEX///8AAAAAAAAAAAAAAAAA\n",
       "AAAAAAAAAAAAAAAAAAAAAAAAAAAAAAAAAAAAAAAAAAAv3aB7AAAAD3RSTlMAq1RmmUTNIjK7EInv\n",
       "3XZ/CtNrAAAACXBIWXMAAA7EAAAOxAGVKw4bAAACZklEQVQ4y6VVTWgTQRh9+5dkd9vYi0hQSkDx\n",
       "osXgQShCrEhVVDAo9OBfFzwIpeh6EZQeqkepuJ4EwboFDxYhpCKKCCEIglWUVqjoIbClVVBo8KYI\n",
       "gvO3m2R3BxQfvLDzdubN7Pd98wWQwhVMR/YfdYZ8kVMCI4gJa/MXxhcrTO+j480pi7YJyrASF7wz\n",
       "2bH1TB+mw3PJJZbDKUXGj3sex1OT6VdpDLzkEr3EKYU2lPTcqTCdbmenhK1HUI7XIu53mx8izwzT\n",
       "NXKWTMqKrYJynOW5Ou+3z7lhN9ffNptvUlYcFqwuP3ge+wxrtYQZYI4NLvntHFUXa2D6QeCO5BSU\n",
       "Q/l+fYHGt8lAy8RWG9gD7EJ3er3T478PgekXke1L8XzPqbnaLyWWqmtkkwKwnQ2czhytjPhMN327\n",
       "kuL5kjMHPVFQfk+Ad8BN+pwjoWt+Cj1No8Z0NUhLUehJkh8k3o36uZ/AKRZbr/OcJjyuO2Xy0zqw\n",
       "Su62sQyl+9uJgWv53fHEfuQbwACbt9Dt6XD90RgpMreQIdmtrvOnxIxpztnKJtjxc96CSbwH2XOr\n",
       "y1MNuD5B3muYzpHHKwP4KmbMce64fgTH4p57MVrilUZqOyo07yTqj0UFKpNU+cH0jegXM25w3m+p\n",
       "+xK3bKZ+lARqiRdr4QQXv8zfo30p1Gn+GqzxLeGVEHonOdPxhDQJEUnjmbibYQMNIzxhOzoeAh+N\n",
       "7x0tItEmOGzHeiFvMJGuf65/w1QRWwajarwtmERvoJAyvCz5hJhetFwz2n1WMAm1PCzdL64bvhKM\n",
       "tOMScMr+Wty/0jUY5Rr+H38A4JajDXZHxnUAAAAASUVORK5CYII=\n",
       "\" style=\"display:inline;vertical-align:middle;\" /></a></span></td></tr>\n",
       "<tr><td>&nbsp;</td><td colspan=4 style-\"text-align:left\"><a class=\"ProveItLink\" href=\"../../axioms.ipynb#equality_in_bool\">proveit.logic.equality.equality_in_bool</a></td></tr></table>"
      ],
      "text/plain": [
       "\tstep type\trequirements\tstatement\n",
       "0\tgeneralization\t1\t|- forall_{x, y} ((x != y) in BOOLEAN)\n",
       "1\tinstantiation\t2, 3, 4\t|- (x != y) in BOOLEAN\n",
       "\tP(_a) : _a in BOOLEAN, x : x != y, y : [not](x = y)\n",
       "2\ttheorem\t\t|- forall_{P, x, y | P(y), x = y} P(x)\n",
       "\tproveit.logic.equality.sub_left_side_into\n",
       "3\tinstantiation\t5, 6\t|- [not](x = y) in BOOLEAN\n",
       "\tA : x = y\n",
       "4\tinstantiation\t7\t|- (x != y) = [not](x = y)\n",
       "\tx : x, y : y\n",
       "5\tconjecture\t\t|- forall_{A in BOOLEAN} ([not](A) in BOOLEAN)\n",
       "\tproveit.logic.booleans.negation.closure\n",
       "6\tinstantiation\t8\t|- (x = y) in BOOLEAN\n",
       "\tx : x, y : y\n",
       "7\taxiom\t\t|- forall_{x, y} ((x != y) = [not](x = y))\n",
       "\tproveit.logic.equality.not_equals_def\n",
       "8\taxiom\t\t|- forall_{x, y} ((x = y) in BOOLEAN)\n",
       "\tproveit.logic.equality.equality_in_bool"
      ]
     },
     "execution_count": 7,
     "metadata": {},
     "output_type": "execute_result"
    }
   ],
   "source": [
    "%qed"
   ]
  },
  {
   "cell_type": "code",
   "execution_count": null,
   "metadata": {},
   "outputs": [],
   "source": []
  }
 ],
 "metadata": {
  "kernelspec": {
   "display_name": "Python 3",
   "language": "python",
   "name": "python3"
  }
 },
 "nbformat": 4,
 "nbformat_minor": 0
}