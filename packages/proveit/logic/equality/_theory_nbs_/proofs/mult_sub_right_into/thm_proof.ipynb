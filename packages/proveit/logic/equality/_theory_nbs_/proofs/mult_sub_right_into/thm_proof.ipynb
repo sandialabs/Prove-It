{
 "cells": [
  {
   "cell_type": "markdown",
   "metadata": {},
   "source": [
    "Proof of <a class=\"ProveItLink\" href=\"../../../../../_theory_nbs_/theory.ipynb\">proveit</a>.<a class=\"ProveItLink\" href=\"../../../../_theory_nbs_/theory.ipynb\">logic</a>.<a class=\"ProveItLink\" href=\"../../theory.ipynb\">equality</a>.<a class=\"ProveItLink\" href=\"../../theorems.ipynb#mult_sub_right_into\">mult_sub_right_into</a> theorem\n",
    "========"
   ]
  },
  {
   "cell_type": "code",
   "execution_count": 1,
   "metadata": {},
   "outputs": [],
   "source": [
    "import proveit\n",
    "theory = proveit.Theory() # the theorem's theory"
   ]
  },
  {
   "cell_type": "code",
   "execution_count": 2,
   "metadata": {},
   "outputs": [
    {
     "data": {
      "text/html": [
       "With these <a href=\"allowed_presumptions.txt\">allowed</a>/<a href=\"disallowed_presumptions.txt\">disallowed</a> theorem/theory presumptions (e.g., to avoid circular dependencies), we begin our proof of<br><strong id=\"mult_sub_right_into\">mult_sub_right_into:</strong> <a class=\"ProveItLink\" href=\"../../../__pv_it/theorems/2c580818af9c78b5998cc80341f72ab791332fdf0/expr.ipynb\"><img src=\"data:image/png;base64,iVBORw0KGgoAAAANSUhEUgAAAwIAAAAZBAMAAABwa4ROAAAAMFBMVEX///8AAAAAAAAAAAAAAAAA\n",
       "AAAAAAAAAAAAAAAAAAAAAAAAAAAAAAAAAAAAAAAAAAAv3aB7AAAAD3RSTlMAq1RmmUTNIjK7EInv\n",
       "3XZ/CtNrAAAACXBIWXMAAA7EAAAOxAGVKw4bAAAHXElEQVRo3u1abYhUVRh+5/PO3vnYWeiHIsmI\n",
       "VovmNqQbBWIbm60J1ZQQ+EEO/YmCcIQwNNPJXwnbuiZqK6FXg0IMGzSFlGTTHwaSDGEh0sSoW7Jp\n",
       "60ZRatT2vu85595z7+zMuEzrrzkw9+O8H8973+d87wLUKPeWctAsk1kSpW9ryrPNFNUrRgO23Lzn\n",
       "NRlorFxuwPYlwUCSbjOrMeCjmz/dzLR77Nh7q23nEk5NoRE3aWZgET2/Uo2BYAZv4eZs4CmtODp8\n",
       "aOHDxw25eY0ZeIcGs/5qDESoi6xrptxTtpYBHsIfdDfkZj4zEEYqo6mq8wDRdLiZck+5kccfDUCD\n",
       "DbmJWcRAAAejcPWZeF5zQh6n7KUfsuBvLDXhNCf4m1LpbHUGYqXSD4Vmyj3lFkDkX7wHMTWHusFM\n",
       "2hJzKA37apnq6tEkM7AYYHd1BoJ5aLGaKXcXzL7xZUo24sKDEBi1RVH/IDxey1ZXD4hBZg0YyeoM\n",
       "oGzNXfimLv3lgQkYluuYJMTNn6std4o/VxcMEr+dOEKLRIinIJJ6BnzOSmZzsAhTa5GnqyNbxECL\n",
       "Fc3om7zzR2FB0tmR7YajeF32x+dtk7kmFTEJlEBmAoZB0ZgydbjtvDPua2oqMEyZasSxDJhwDmJl\n",
       "8xFZY8XKcM480VZt3BDqio5RZsBfdibivqk7YEbUCloOAx18DRQhWpx0BgTKvokYhniSqmGygr87\n",
       "WVuuZShZF0xsBxQDELoNW/N9vyqdVVbkZhCCVZPF6up5UC51FtocL6b9cbkrqp1KhAPEmK8LEqOT\n",
       "zoBAWTThXU0tE1pti41lDbnWzDN1wXA7oNYmOApBMAvXAeYqlacgMdiaMW5W7UesLkehomDgMPoN\n",
       "dPcNAVyh6vb7NuoMRO+nEGMpiGPrGOkZUmNRYmhjT+WoqlWGLokzDToASUJF09LENgMCpejyUw+H\n",
       "NyvFCj0bkvc6cXDFrsN79kKVmnr4cmd0Q9HUgq2zJQnbBAMmVW3DioCFDJiV2adMsvr8R0do9Av0\n",
       "CwY2oPuPVqZjOZPz0B7dv0JjwPiKnjZZxj34lbmpYRXwVV//yxUQeuWhVqtX9uzy7UjF1sUROwww\n",
       "ipF1+amHM4ti1EyCA1i2O5B++tS1WuxPk0Lahve7JwJds8IXg2FZDdpyMpgM/S4Y+Izy9QSswgUS\n",
       "Dqb0Zv4J8mK/kbrZeRrOyMUsMeDDYWn9z9BqhfgErh26hjUGYApdFoxcRgIDsCcChli7plvK+VCH\n",
       "p/tTpXpePxeGYR3RbuwvJvpfGHL3bxZ7GGCUUL/0w7Z1cZZRg3abKEiOlGSkxLE7QRA8uw25T2SU\n",
       "pr42IV8OGHI4tkdNpdj5zGlDfwkG4hdpSjr5HHag9yzxdh7kJU5ElyyhbhzKwm2qzGin09NhJQRe\n",
       "HRh4Hxk4GNYZ4NIm74i1+aKcjnIQg8+8R1Za950G0yNzOSW+gq88aHrmERR7GWAUf1L4kbb1cLaM\n",
       "YyIhOdIIuZ4hY9eCQHh2G3EzoDT1Qr4cMFe5wD0hK+eB2Vx3DEQrnV3Rdf2WVPeVaRKGt0Fj4Gt4\n",
       "MhIpiD4Q6qhg4LTkfNAAkAz0Qs6AXg8GVgYWPSwmqu/QaZwx45lYPucdiFBsq0oGGIVTgn6kbT2c\n",
       "WR4TMXIwJEfKo8wWGTsFIUYhgme3nlFIac5fOgd0X/yuRiHX2dox+DQlGShQes1TAG/Am/zmKVGQ\n",
       "6rF8sCsvzvUUA8YoXGgXe2NcEF/yMmBQqzgIG6LZIDNgFozBY7SU3oGPKJAXrvQP08R4ENtHaJRS\n",
       "grJ4fhVOQRlHUYqFqs2AIdpeEYRztrVxHGMXDoyQL81EzagESQwkyhQAyNhb7KGQoiO3ibLu2dbs\n",
       "6I+D7ku8j3hz2pKDH7E7yZkYe0q87CuA8cG7S/jNO/fhj9U3QXxzXhxJKwZCSbiWhnXIS+T7nL1I\n",
       "sRkY/hs/rTcV/OnkL/xdkVPw7IoRi84s8LE3FzlDF1k5hSbG3hTMeixLKcFqf/dOPv3oTQnFM0rM\n",
       "qjYDjAKwC4QfYatwHGMXDmqjL81EdXiCvMg5Qn1MlIh9sZ0Ngie3KNI9K01ffi3ovsT7rooNVj/M\n",
       "pLnlrdUnxf7avxDnltjY2GjlblvsqVn9eUgcYWjvXynNLwZ2eE4l9CKXQdy3xePxhP3oVBYTnZiI\n",
       "lJlrSXNK/PAJbIeoVbY9gBILVXsUcu+RhK2N4xjrOLR+S7lMRCFIjvQA6autFAchPpXgye0Bt2el\n",
       "GYcry3Vf/G5W/h1lYwOboKsAE/s7cUh8Xt9ZDFhEFx77Rz1SWS53lf4jpOwrvwiR64epenooC6vH\n",
       "isoDKLFQ9TIQFLOstLVxHGMdB5VRoJvIlQVCcqQ9rC+3ChSEnF0Rnt32eDxLzX0wJ6374vfgJBzM\n",
       "TISBgL4cHO8x7VIOLSyo6qXXvB40cQUDcHxcnMC4OJ1CcNwbug2ZYf2o95xGwZPc5TlaeaKjfNU8\n",
       "M5ocBl6/a/8vlHOfXt15seqYmG69qvIKjzXA/seSKJ3+D7EueGfVUUOtAAAAAElFTkSuQmCC\n",
       "\" style=\"display:inline;vertical-align:middle;\" /></a><br>(see <a class=\"ProveItLink\" href=\"../../../__pv_it/theorems/2775fb079e348aa7c6988b10daa960e1ab90a3830/dependencies.ipynb\">dependencies</a>)<br>"
      ],
      "text/plain": [
       "<IPython.core.display.HTML object>"
      ]
     },
     "metadata": {},
     "output_type": "display_data"
    }
   ],
   "source": [
    "%proving mult_sub_right_into"
   ]
  },
  {
   "cell_type": "code",
   "execution_count": null,
   "metadata": {},
   "outputs": [],
   "source": []
  }
 ],
 "metadata": {
  "kernelspec": {
   "display_name": "Python 3",
   "language": "python",
   "name": "python3"
  }
 },
 "nbformat": 4,
 "nbformat_minor": 0
}