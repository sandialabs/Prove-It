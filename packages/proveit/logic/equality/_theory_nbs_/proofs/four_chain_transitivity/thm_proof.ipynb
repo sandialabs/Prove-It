{
 "cells": [
  {
   "cell_type": "markdown",
   "metadata": {},
   "source": [
    "Proof of <a class=\"ProveItLink\" href=\"../../../../../_theory_nbs_/theory.ipynb\">proveit</a>.<a class=\"ProveItLink\" href=\"../../../../_theory_nbs_/theory.ipynb\">logic</a>.<a class=\"ProveItLink\" href=\"../../theory.ipynb\">equality</a>.<a class=\"ProveItLink\" href=\"../../theorems.ipynb#four_chain_transitivity\">four_chain_transitivity</a> theorem\n",
    "========"
   ]
  },
  {
   "cell_type": "code",
   "execution_count": 1,
   "metadata": {},
   "outputs": [],
   "source": [
    "import proveit\n",
    "theory = proveit.Theory() # the theorem's theory"
   ]
  },
  {
   "cell_type": "code",
   "execution_count": 2,
   "metadata": {},
   "outputs": [
    {
     "data": {
      "text/html": [
       "With these <a href=\"allowed_presumptions.txt\">allowed</a>/<a href=\"disallowed_presumptions.txt\">disallowed</a> theorem/theory presumptions (e.g., to avoid circular dependencies), we begin our proof of<br><strong id=\"four_chain_transitivity\">four_chain_transitivity:</strong> <a class=\"ProveItLink\" href=\"../../../__pv_it/theorems/4f18e19905a24df92da67b023810639a52efaa780/expr.ipynb\"><img src=\"data:image/png;base64,iVBORw0KGgoAAAANSUhEUgAAAPgAAAAXBAMAAADU7Z9vAAAAMFBMVEX///8AAAAAAAAAAAAAAAAA\n",
       "AAAAAAAAAAAAAAAAAAAAAAAAAAAAAAAAAAAAAAAAAAAv3aB7AAAAD3RSTlMAq1RmmUTNIjK7EInv\n",
       "3XZ/CtNrAAAACXBIWXMAAA7EAAAOxAGVKw4bAAAC3klEQVRIx7VWTWgTQRT+ks3PZpO0OXmwUAKC\n",
       "HrQSFIT2ECNVUUQN6Ek8BERED7KFXgTBiKKXSAI9iB7qetNGabQHPVWpSv1BqGIRKoUtFbUtllAo\n",
       "LT0U32xmd7ubTCLoPthv53vzdr/Je/NmA3hrqnAmDK+tLSmcCupAgg22eCW+XTRx4zVmgQNseM4j\n",
       "bSUnnFpCSMNVlv6SR+KBlDDpa5AyTB/RpEfiMeFMdAJ4D4kWF/Kq5FuFM6EMcAb4OD39wSvxI6ym\n",
       "HT91t79vtEjJfgIcAu42rds/iNNvw2k1ssbGR6eZfTIKPo57VO09tAqEE2awfN7x7Is8QaSuS0o2\n",
       "Cgq6ygefacO/QmDCNf8ohYN020Ev16JZy93hCLqCRuK+io2Cw6vKB28ocVXE3aHHgW90KwJ+fcN+\n",
       "e+sImmsoHsvbKDjXSrZ4rIThrGv+HZRlVhC6cmmCcvoZS/v6jMbSNqsbrou2uDKyYB7TxcXNFho2\n",
       "mrbRCP2h22kf1rEXzpor65BYbrroenqB+Fd5hS15qo1aAJPyS8O1aos/Votq4A7ZAH5r38lByHk8\n",
       "WyBOyDmFmlkZJPEkNvmdnxdlCb7cNqCbxpdpvwUyTA+RlEQHYqCk5A1X1Rbfj4L57ADbphyZHcYD\n",
       "C2uhRTOUmimi+7+4G2YQXZlMrRF9pBTLtiWMQgYSjBhFzdZKF+HVm7H3xT4LeWEtrI3mzOEt+pmd\n",
       "z/t+ucTvL9zsJNFJTofVSA9Vux0xav52lbvmNVNcWcHAEE9rFWPkIeR8xXgDYY1T6OAQf228ya5E\n",
       "2OzAmFo8oZUR17pRRiiLSpm5rlniGJeXe3jslFRSKgw5P4socULOx+VVM1TK/M1XJ9i7cwSFpHxM\n",
       "Jwz3prVC0nBZ4id3LZix1xchjzHk1r97njgh5xtCcbuJ+CUnTdZhoz5n5m/BTXvYRNy5sKDmRqH4\n",
       "qRbcqqsuPomc/SfVoVA81YL/L/PwX+YfyHjXccfvmqcAAAAASUVORK5CYII=\n",
       "\" style=\"display:inline;vertical-align:middle;\" /></a><br>(see <a class=\"ProveItLink\" href=\"../../../__pv_it/theorems/92f9f93cd709961101b18d341704357933d29b960/dependencies.ipynb\">dependencies</a>)<br>"
      ],
      "text/plain": [
       "<IPython.core.display.HTML object>"
      ]
     },
     "metadata": {},
     "output_type": "display_data"
    },
    {
     "name": "stdout",
     "output_type": "stream",
     "text": [
      "four_chain_transitivity may now be readily provable (assuming required theorems are usable).  Simply execute \"%qed\".\n"
     ]
    }
   ],
   "source": [
    "%proving four_chain_transitivity"
   ]
  },
  {
   "cell_type": "code",
   "execution_count": null,
   "metadata": {},
   "outputs": [],
   "source": []
  }
 ],
 "metadata": {
  "kernelspec": {
   "display_name": "Python 3",
   "language": "python",
   "name": "python3"
  }
 },
 "nbformat": 4,
 "nbformat_minor": 0
}