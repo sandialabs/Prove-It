{
 "cells": [
  {
   "cell_type": "markdown",
   "metadata": {},
   "source": [
    "Proof of <a class=\"ProveItLink\" href=\"../../../../../_theory_nbs_/theory.ipynb\">proveit</a>.<a class=\"ProveItLink\" href=\"../../../../_theory_nbs_/theory.ipynb\">logic</a>.<a class=\"ProveItLink\" href=\"../../theory.ipynb\">equality</a>.<a class=\"ProveItLink\" href=\"../../theorems.ipynb#mult_sub_left_into\">mult_sub_left_into</a> theorem\n",
    "========"
   ]
  },
  {
   "cell_type": "code",
   "execution_count": 1,
   "metadata": {},
   "outputs": [],
   "source": [
    "import proveit\n",
    "theory = proveit.Theory() # the theorem's theory"
   ]
  },
  {
   "cell_type": "code",
   "execution_count": 2,
   "metadata": {},
   "outputs": [
    {
     "data": {
      "text/html": [
       "With these <a href=\"allowed_presumptions.txt\">allowed</a>/<a href=\"disallowed_presumptions.txt\">disallowed</a> theorem/theory presumptions (e.g., to avoid circular dependencies), we begin our proof of<br><strong id=\"mult_sub_left_into\">mult_sub_left_into:</strong> <a class=\"ProveItLink\" href=\"../../../__pv_it/theorems/2a2d92cdcc9976ebf0475dddef4c2a1cc1bb67870/expr.ipynb\"><img src=\"data:image/png;base64,iVBORw0KGgoAAAANSUhEUgAAAwQAAAAZBAMAAAB9dfQJAAAAMFBMVEX///8AAAAAAAAAAAAAAAAA\n",
       "AAAAAAAAAAAAAAAAAAAAAAAAAAAAAAAAAAAAAAAAAAAv3aB7AAAAD3RSTlMAq1RmmUTNIjK7EInv\n",
       "3XZ/CtNrAAAACXBIWXMAAA7EAAAOxAGVKw4bAAAHMElEQVRo3u1abWgcRRh+b3fv9r5zBX+0VMMV\n",
       "qwZL42GbH0IpgVhSP5CjBSFtsUEFsSBuQSqttUZ/GUlrtFRNf7TbVtBSaGO1BVOQaJGKRTikSgke\n",
       "XG20xErMDz9qg8b3nZmdmd3N5oMj9c8N3O7MvN/vs/vOzCYAM7Q7qg402oK2fPXbGendjRTN0pz6\n",
       "pVc1IKjrGS7WJf4Eh6BAtzujIIjRzSg1kq23sam3ljztUm9FnQiWGATrqP9MFARWGW+Jxorgb38C\n",
       "pL7Ge7reMrGNQfAqXu3+KAiS9JLsbCTd15L/YmXAH1j1lofVDIIEvlGZYuRaQDidbmTdXz9u4G8S\n",
       "O9l6NWVdgsBEJBPRy/GqxqocaqkJ/CEMcHe9mhIlluFvqtWL0RBkq9UfBhtZ97UmrNtv1rDzCP5O\n",
       "XvnwnFZEAsNpms6RKTAI1gMcjIbA6oGU28i6r2H6X2IHqqfw155vtiqKFhhO03QOk9eZ7WAXoiFA\n",
       "2vZbEFW7Prhn7lWZ34zILVttFo214ES0Ks8YwG9Lz7WxDuJgOubNmFqVA8Npmo/DGGYQpNxMWWOx\n",
       "L52BNQV1NDsIZ/Da9fsnixZya8q3ZNyKWZ4vdG2RdIuHXZ6ZrrW2OTwnh72JL3F3BBZl6ZhYL/kw\n",
       "fW5RZOUQAmIwwSAwamo13rfkACzLuJarIGhlV7MCmcqCQ8CtHJmH3Ga6pAuR9Dhbx47MQldtBlXC\n",
       "GD8WSAhwtcQ3KTkuk0NDC2YqRln16sWHxYZnrXwm1tNJudae0T5QJEySiLVDfmLBIeBW1s1nS0EP\n",
       "i1We+fAzk8ZtgbeiPJsxzPekN8EWhK1O2gVDppyGTWX7RrQaJiAKUYVDcBrdMDv2jQJcpemWu/bo\n",
       "EGTuJv5sEXL4gIx3jnrlKD+6pzNcLrXJ+BX+eYO+hRQg9HRpZAkBt1LRBfxsIX3sRJMDn2c+KXam\n",
       "qYTclRoCZ55cODClSxyf8n94pEMAx8u3Q4bnMg3e0HQJgnAt0jhYvsHs5xDsRmeObSllnTRLREvm\n",
       "6GYNAvtz6r3i2rehcWdJwttPXYv1PxmyoU+ebHL7hOXazeRwaG8myQoCZsXu1gX8bCF9BtXnHZpn\n",
       "Dw1gKymp5RRCt/LMIvp+pWG5X/UOPYagLoMvBglZDj4CuO+NR2EDh+BUtxxSPU1TvaI52dE4WL7R\n",
       "m0EOQawHYNfP0OTG2ULdAu1jGgSwmC5rxn9EUE04lASbb2FLqVpPvDXwitOk19+1EsZgJz0K9tFK\n",
       "vn/DqP8dZ+QABMxKvJ8LcDvEFjTDyOIRpXuX3zOf7S7B5HdXedTlD6DLH4PfUWYMrMN/e8V8L8D7\n",
       "40ZHkUOQG5FD2Iu2q/jLEWqXQHQUB8s3TpS1j9XNsAXMZwcG3kYITiR0CFhbJO5/Abw2Ig4oDh7Q\n",
       "TwVPLVo1WArNyZXsbYwNxmrD6cBaguQgBMyKUeACwg6yhcwQWWwpSHBZwDPddq/QGHBXetTr17ws\n",
       "EIPP0WTwU1pOYsXWgnvVQ0IPgxGuRIqD8g3wMmgQfAUPJpOD/C2It4YgOC+cGLYBRKB94NgQLBI4\n",
       "aa67n28zvkOlOeZGrpztcYK1CMmSVUBw3guUBIQdZAuZIfLqjSu82tCrecaLh7K93EudcJcXIuVR\n",
       "oBD16jEoXXxstAf3+O0+CNTu6gV4ESATXokVB+UboEODwJ6Ayy38lIw74ytBCGx8xuAE7M50WyzQ\n",
       "9KA9fJb2yQewiwRxYZPGGC1/JwAuxycoDUjL9WzF80dZMQoyZ5UQMCts8WQCI1ILmlGyQl9rP63C\n",
       "+RoNQXkmmrCNyzTpqIB0Vz6/3COk6wGgKi0GpYuP86GD3Ls6BGlJtt97/WFcxsLLseJg+WZfqD0I\n",
       "4gW4XoKd+GIlv3fkHkRCMDaJ4fQVrZ8++4UFmvwCHts87tLnC+z2OckLdBGTi2n56yvC8ge6KQ04\n",
       "bXS8wz6E9BU54wWPzFglBMwKi4sJjEgtaEbJCn2xnh30xYysphyQnokmbJMy1IEaPXe9lAmPkOQL\n",
       "AFWpGDRdbJwKHU6Pexk9O1lTp2fITk1NTHPy1jh4vplC/x8u058OHAh8oNCb2AxRoAbvDuVlV01W\n",
       "8m0YfDHtpEosDQZ8APsh49akBvDInFUWInkCIgFmh7ORGSXL9eXg6iaWA0OdryQE0jZt8oryTDUk\n",
       "c+B5RHQ9AE+VdEzoYuPjoZzatbpOQ9cA5ve34zh3at9FTMYmvj2b+sfrUtskDpjGx8Qcqz0OyV9P\n",
       "03RzvBuen6p4GsAjc9YgBJbDBMgOZ2NmlCzXdwRW4Aauk1kV+3jmGV9tPduoCwUtR7krVkPhEVF8\n",
       "AXRqMShdfNy5IKfS+UBg6rvP6bolH3N87aA3vfF6UINGDkEAQ5qAZDM1Mx6ZffxBq5ng3kNKtXHB\n",
       "oWBknoa2YAAhVZoH5f8Bgudu2f8ROcFD5Nyaxxn5UcydRaM7h5n5uzWPlq+e/w/n/Hnk5u5zEwAA\n",
       "AABJRU5ErkJggg==\n",
       "\" style=\"display:inline;vertical-align:middle;\" /></a><br>(see <a class=\"ProveItLink\" href=\"../../../__pv_it/theorems/10dd19215fbedd4fa38c5f4f405bece87d7c26640/dependencies.ipynb\">dependencies</a>)<br>"
      ],
      "text/plain": [
       "<IPython.core.display.HTML object>"
      ]
     },
     "metadata": {},
     "output_type": "display_data"
    }
   ],
   "source": [
    "%proving mult_sub_left_into"
   ]
  },
  {
   "cell_type": "code",
   "execution_count": null,
   "metadata": {},
   "outputs": [],
   "source": []
  }
 ],
 "metadata": {
  "kernelspec": {
   "display_name": "Python 3",
   "language": "python",
   "name": "python3"
  }
 },
 "nbformat": 4,
 "nbformat_minor": 0
}