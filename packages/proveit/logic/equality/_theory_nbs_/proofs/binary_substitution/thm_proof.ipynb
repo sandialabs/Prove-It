{
 "cells": [
  {
   "cell_type": "markdown",
   "metadata": {},
   "source": [
    "Proof of <a class=\"ProveItLink\" href=\"../../../../../_theory_nbs_/theory.ipynb\">proveit</a>.<a class=\"ProveItLink\" href=\"../../../../_theory_nbs_/theory.ipynb\">logic</a>.<a class=\"ProveItLink\" href=\"../../theory.ipynb\">equality</a>.<a class=\"ProveItLink\" href=\"../../theorems.ipynb#binary_substitution\">binary_substitution</a> theorem\n",
    "========"
   ]
  },
  {
   "cell_type": "code",
   "execution_count": 1,
   "metadata": {},
   "outputs": [],
   "source": [
    "import proveit\n",
    "theory = proveit.Theory() # the theorem's theory"
   ]
  },
  {
   "cell_type": "code",
   "execution_count": 2,
   "metadata": {},
   "outputs": [
    {
     "data": {
      "text/html": [
       "With these <a href=\"allowed_presumptions.txt\">allowed</a>/<a href=\"disallowed_presumptions.txt\">disallowed</a> theorem/theory presumptions (e.g., to avoid circular dependencies), we begin our proof of<br><strong id=\"binary_substitution\">binary_substitution:</strong> <a class=\"ProveItLink\" href=\"../../../__pv_it/theorems/87a6c6c19e34b799d6b1b29392cde4fa0a418faf0/expr.ipynb\"><img src=\"data:image/png;base64,iVBORw0KGgoAAAANSUhEUgAAAdcAAAAWBAMAAABgactXAAAAMFBMVEX///8AAAAAAAAAAAAAAAAA\n",
       "AAAAAAAAAAAAAAAAAAAAAAAAAAAAAAAAAAAAAAAAAAAv3aB7AAAAD3RSTlMAq1RmmUTNIjK7EInv\n",
       "3XZ/CtNrAAAACXBIWXMAAA7EAAAOxAGVKw4bAAAFgklEQVRYw91YXWgcVRQ++zPJ/OxuFitiTQkr\n",
       "rT5oa7biD/EhTd22CjVtUPCpNGsjBOvL9KWgtLj6plaSolIJUiZQijElu0ZRsbSESkEqKVFslUpk\n",
       "gpGoSAhVTIhQPPdv7p2ZO8n66oFv585wvnu++3fuvQvwn8xVsIbLel+4tXKsU4ur4zUdvwnJeiuU\n",
       "JJLsoI6kN8Nn0AdK5us5Cd4HFRTJh81NNvZ+BYnRyhpS3Mam8ednDm0ggL1fJPC1nLi3/f4M0yOw\n",
       "m3wdbK6tdlUi2Q7z56Qk6ex5RIvHoAsE4Nx5KYGv4+i8W3q4Ho5XyRoYbq6x2bJEsj3EBV+XJJ3d\n",
       "RGR6GHSBAHL3jCTwdRydd1uJ6+EgneSUmmtsTsEaXqzbC9v7ApJuva6S3ysc3EaUQAD9XiL/SvyT\n",
       "zpt+I3o4MtgVLU0u2XsVJFsL69y8ORyQNObMkN8BDm6vK4EALiTzB+KfdN4XhB6B6dnZr5ts7F4F\n",
       "9uJdb05Gt4T2BcyTTpHnmEFBsufLMBrtko45nE8fAYOYng0ZCLZP3y7KE3MfnGezb6ICdjHE4aZ4\n",
       "MxnEnlu8jekReFLOnvVsQEEW5vxe8pylRht4wLVwcmZYjhiELYLkpKdgByn3Ut9vSLF+2F4GeAQY\n",
       "RDV/qQN3Kyj3FDqydCZAYytklsIc1reKN5NBBuRvr+5SPQJHoJW427uSso75gih9q+BR2OFtiOTQ\n",
       "L4FIwpYRVhHyHie9hp83Rmrt9OAqwFZgEJY+FASC1hVRzriZ1RSVZ5Z6ITUc5vBZFXhzGaS2Vcj5\n",
       "VI+A5Tkkk1gP15IGtF0ULiuowZ5YDl2CPM5Dc4m8pGpQ8DnJw5BXI87I/gdgCBgCO3tZBIL0kghq\n",
       "QpbvKDbWg5WFORD25jKIoCq0NagegbRP81Oblzh7v9I1FmLyITcMdew3g47sWVQ2I0j9nrkScf4R\n",
       "DNx8DgBDMD4vukFjWQpj5Zwvk/hQLcxREx7x5jJIjmxAf4nqEYBqN+mYTTTbLD4xj9GMOUiRt/Hu\n",
       "z8jUuTXnxacxGMvwYXjh1H26MtMz4kjxuCDtgcJUZM3ehCwurG3AIKq57sppbBVlud+1PTFYf0Q4\n",
       "zE16cxlsm93vUT0CMEmPPF10b3Q3tmDWm2jzTpA58725TD7eKPA9/LSE/W5qChrhzq2X4I40JgS6\n",
       "5ZCajwrSSaFF2gqcK7OoXcrmOywDidHE8ljfJnBwNbA2nQxzxLQKvJkMmzS2huuX6hGAY1THLpr6\n",
       "4bSJj5e3wW+k53pMMh5WmefXYKNApFfOTBmRs4jlp7/LIo30QYbEtmqcsBP6o+lvA7yjbGTcjoIM\n",
       "BK/0iXLnG0/B05hbiaai8WeYw016Mxl11JwqWz1MjwBJJWhvM84yT0kdpLP6CqQfcrUsH5a3JOx9\n",
       "/pYHoyfajs+P/IorhYRNkWEwfU4Yvbg/esMa/YQ0/xoHt/dABoLOoHxmMV3Bjp3FOu32+eUwR2T3\n",
       "wJvJyN8gzhVgegRCWciconfFa/S17lqPYf1tkONDmK9JJNvx8Ctz/lR/oZ1hiN5FKWenyqcJly5b\n",
       "pxrmcIt536fqOR7SZWO2GIdjTjWLD/jBWMJHzh16xhvH7bJLOX8nnd2lVWKHdqdqX1rzZqE56KeL\n",
       "h6KHfod22rmShqPxbqh6KiFdZHWeKGV/ufg7PmBLVxUfRuWBj/Fh7gvuyqcUJP79EL1CnYK8n2po\n",
       "fV/iiBlyRqpKUHZURPxEd/0YJ+5t+4oeAfXSxGdryXatsnxTb9wKksyKrs4xSHfv1vsmdtwYZOZd\n",
       "JSg1In/zfJ+OE/cuqHoE+Je7ca4bbCszvJT/rPKmjpovkWQLsaFOdC64DJrp4a/FL6zxf1LMe0EB\n",
       "Xw6LdONhvQRGd0N5+//Yv5tEu2LYoWZBAAAAAElFTkSuQmCC\n",
       "\" style=\"display:inline;vertical-align:middle;\" /></a><br>(see <a class=\"ProveItLink\" href=\"../../../__pv_it/theorems/0f3b5388d88f01a0bcc4bfd6c45c68b447bc00750/dependencies.ipynb\">dependencies</a>)<br>"
      ],
      "text/plain": [
       "<IPython.core.display.HTML object>"
      ]
     },
     "metadata": {},
     "output_type": "display_data"
    }
   ],
   "source": [
    "%proving binary_substitution"
   ]
  },
  {
   "cell_type": "code",
   "execution_count": null,
   "metadata": {},
   "outputs": [],
   "source": []
  }
 ],
 "metadata": {
  "kernelspec": {
   "display_name": "Python 3",
   "language": "python",
   "name": "python3"
  }
 },
 "nbformat": 4,
 "nbformat_minor": 0
}