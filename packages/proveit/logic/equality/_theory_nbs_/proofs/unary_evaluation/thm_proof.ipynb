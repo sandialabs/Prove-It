{
 "cells": [
  {
   "cell_type": "markdown",
   "metadata": {},
   "source": [
    "Proof of <a class=\"ProveItLink\" href=\"../../../../../_theory_nbs_/theory.ipynb\">proveit</a>.<a class=\"ProveItLink\" href=\"../../../../_theory_nbs_/theory.ipynb\">logic</a>.<a class=\"ProveItLink\" href=\"../../theory.ipynb\">equality</a>.<a class=\"ProveItLink\" href=\"../../theorems.ipynb#unary_evaluation\">unary_evaluation</a> theorem\n",
    "========"
   ]
  },
  {
   "cell_type": "code",
   "execution_count": 1,
   "metadata": {},
   "outputs": [],
   "source": [
    "import proveit\n",
    "from proveit.logic import Equals\n",
    "from proveit.logic.equality  import substitution\n",
    "from proveit import a, c, x, y, fa\n",
    "theory = proveit.Theory() # the theorem's theory"
   ]
  },
  {
   "cell_type": "code",
   "execution_count": 2,
   "metadata": {},
   "outputs": [
    {
     "data": {
      "text/html": [
       "With these <a href=\"allowed_presumptions.txt\">allowed</a>/<a href=\"disallowed_presumptions.txt\">disallowed</a> theorem/theory presumptions (e.g., to avoid circular dependencies), we begin our proof of<br><strong id=\"unary_evaluation\">unary_evaluation:</strong> <a class=\"ProveItLink\" href=\"../../../__pv_it/theorems/ff5925984d4630f74aac55f5ef242fce4bec425f0/expr.ipynb\"><img src=\"data:image/png;base64,iVBORw0KGgoAAAANSUhEUgAAAaoAAAAWBAMAAABj3sV/AAAAMFBMVEX///8AAAAAAAAAAAAAAAAA\n",
       "AAAAAAAAAAAAAAAAAAAAAAAAAAAAAAAAAAAAAAAAAAAv3aB7AAAAD3RSTlMAq1RmmUTNIjK7EInv\n",
       "3XZ/CtNrAAAACXBIWXMAAA7EAAAOxAGVKw4bAAAEn0lEQVRYw9VXb2gcRRR/d7f3Z/fSJiD4QUPY\n",
       "otQPWnrU/wrpQaq1aNtD/FItelikoH7YgAgFG89PokZypUjFD3WFUlpRc6aghWA4KqW2oqRFRZHg\n",
       "xgoRAyGoIZIP4sy8Nzuzs7vZ3Ecf/G7nzc37zc6b997MAmxMPMI6f8elTNB1o2tDHGZ7/dnKsFHZ\n",
       "7CLS5OnE3l8Jus6kGPTIYbaTR3JaiQHecUvWqm4npK66ltCZ7yAArGkfZJvJ9d44YvaJI5GW8BDX\n",
       "D2csymki0uX5hL7TBIBPx92wzaTk98QRs08cibSE13gktjNWZdUQ6XJXQt8IAeDCAT9sMynUe+KI\n",
       "2SeORFoCX1zVzVhVH2GdEcr978lGlwDFtVBHuZLFYfsaR9y+L3mzr4QosC0oZaXVVkK6lNROviFT\n",
       "oolgXpuVOsmhLI5KW3Ek2JeS4+aQwjdzc19nrepRwifzZ6bNfS3fvMCKTnVABQIltdVBQGHwap10\n",
       "GJ0Z43kSm2HmekvngAcVh27vLN301lRkNpLq0n1IS3hEi5k0kU6obx6yuN+sOSGC+6BnswApNFX3\n",
       "38qh6NT+QOrFS/A+i557wCA56lpt5IC9oveXurYpyt6C+WAvREZeFa69BnuQljAKZU7s7FqnGlxD\n",
       "FLzCWs4Y5nwJfKH5rlaNnxWPTS4C4NWW1D+qAXspuMOc4GfoCyIcsNWVNrr9vbDTvyE6G87VgW+R\n",
       "lmD71QbPz7tb6au6iKiAFSvv1jKnhMqyXo4vipRuIAC2g9T38wUATJgkohxEOJwXGxC3b8HDsZFc\n",
       "9ovyMaGQD0Sx6Pchc1XAPWoWrjZMsumKmvfKL3jRVX0RvtVlcFZ41MZJIMoBL38OELcHviXGSC6X\n",
       "xe9BDc1hHjWDU/zQ/m1sN/fTuUXxXjPD0QgEeMZz/GhKTAawk9tr6faDZ0TgMak7/0KBu3kbxEgk\n",
       "B2XL3GFQEXhMtYur8GF0JM8rxgtEKzElTur7+c9Crs1z4mNvgr/YpsY4reok4mxjEKqGlyZduDHv\n",
       "QUEd5EVq2gGC/Mvbzp+Qa95Gk2nSz5K1oXPAAcWh27+T6wKL94J5bfiLTYu0Eq+IKrSL/9TsoCXa\n",
       "Yjl74AwZUbnc/uZj8LjBZwf57ywqwRQ7stgOUAkur4T6SdhWr+MpEcmrNlRbOke5qTg0+/w/p7pF\n",
       "NzIbCiuA59UBxJETZeI4Os3DNJqX2YTyNuLUUn7EPK6cofOjv/N9DXvelSfpLALyy6H+weLrQ2y6\n",
       "783snL7zjwiH3VIcmr2zL7h1B0RG0urPDftIK4Hylfgd598uziocZ8ELq6pwthDpcjThO+lHgjWg\n",
       "dNyJ2SyOss4Rs9dH6veBWQVy+Ro4nXL3M6g7HbhUWXmAPZ4Lk0jeG9NlJOW2yrCl5Bp30pSLcgpH\n",
       "3D5xpLqDK/pKFyoXYN9TSz57PLFjscYeL/GwQDlBSJPEW7/tCfx0WtOFHOmJI26f8o1xRIPajTxd\n",
       "DSIPlLOENLGTPrqdtsDwbk0PfbRxjri9nfyJf8J0v72FZc2T2I4+yDsBIk0WEnvHCLrOT0WvRw6z\n",
       "nTyS00rIKy+v69iOPv6X8h+zZHzfCgEJPgAAAABJRU5ErkJggg==\n",
       "\" style=\"display:inline;vertical-align:middle;\" /></a><br>(see <a class=\"ProveItLink\" href=\"../../../__pv_it/theorems/b68e8b1a82ee1aa0d9317aad3a6328cd06956c910/dependencies.ipynb\">dependencies</a>)<br>"
      ],
      "text/plain": [
       "<IPython.core.display.HTML object>"
      ]
     },
     "metadata": {},
     "output_type": "display_data"
    }
   ],
   "source": [
    "%proving unary_evaluation"
   ]
  },
  {
   "cell_type": "code",
   "execution_count": 3,
   "metadata": {},
   "outputs": [
    {
     "data": {
      "text/html": [
       "<span style=\"font-size:20px;\"> <a class=\"ProveItLink\" href=\"../../axioms.ipynb#substitution\" style=\"text-decoration: none\">&nbsp;&#x22A2;&nbsp;&nbsp;</a><a class=\"ProveItLink\" href=\"../../../__pv_it/axioms/b3647e5bced6c805148d96be1aa0946871a946d20/expr.ipynb\"><img src=\"data:image/png;base64,iVBORw0KGgoAAAANSUhEUgAAAO8AAAAXBAMAAAARnwX+AAAAMFBMVEX///8AAAAAAAAAAAAAAAAA\n",
       "AAAAAAAAAAAAAAAAAAAAAAAAAAAAAAAAAAAAAAAAAAAv3aB7AAAAD3RSTlMAq1RmmUTNIjK7EInv\n",
       "3XZ/CtNrAAAACXBIWXMAAA7EAAAOxAGVKw4bAAAC/UlEQVRIx7VWTWgTURCeJLtpkk3SHDxYLCXi\n",
       "z0VLV1Chl1pp/aOCwYMnMYseBE/rUalYPUrFigexh7IFDxah1B48KJYgCKJUglDwEkixInoovVV6\n",
       "EOfN+9vsS1sT6MDMfvvmy5t5+97MC0Db4pu44z/4fuSnLUu+aGK7vj3/itACe9nXRuBDZEfeaIzy\n",
       "vRmzkZN3uZ5iL9dbj5vxmHV2v1eYSTIwmVHODa732NZMtB7YcpnNHphUmEli0GRGOUe5shydYuuB\n",
       "s2TLgcYkn0xmlJMNSBOYSbKNLT5I9l0Ik1wzmVFO0uW6WKt9biPwCDNHFndJPLv84i1+uFcGUXMy\n",
       "Ky5M4/ctcD0LMLnZ7IObB+ZL+6vwYL7HqgIcp/2vkRSgkePEK3ACz4HH9SZ0MEZm2DVn3+LQfaWG\n",
       "8UfihJ/YiOEMhw2i5tzHzLoAMDxpOnBK6EgfG2sp8Adm4msSp8CienlkEDUnyNbhC1LXuMbrdLY6\n",
       "m1TgtoGdqsZZ6lqXzTLWnHKQwuXbFa7gDbC8uueZe/XMCvZRexliocB8kFqidIhPnS5oXPYzmHuv\n",
       "scchzmnIs89c5QrzrJVAP7UzvyuJR3O2MxjXgWnw3DMUVzkApvQqGZ4pdYMjp2kseMWBx5RFYoIr\n",
       "jFJKw9R4YCqFj9u98EsHFoMQdoi6uVuSuO/Bebgoq6xBNAdOQhnPnzXHFWJ0qp5w2jrZPdAT3uN1\n",
       "NYt0ADxkpk/h56vxIdb/lozAmgPTCxdwz3IlrkI+kk1V6EpdEq8TapB/auXAn47REjTmtVM1Ajdw\n",
       "XqPeESoumw2AlzDqeBY+4Ju9pgPToBDpoOsgXrgavRqsaDMIcxwvw+6pIaEgVgUwXrR+LPzGB+zv\n",
       "93RgGhQiHShPITfpKSzkVnS9YU6uHpvjV2HoOqSkxSVVzPhpt2kdKwfKDCRklSGOZqDmDXHiA+zy\n",
       "T/tcuaT34hbYvIfYQax+qXkDUQ62naG/ORLnt/gzJTk/hYr2skp1w5MEe2CueWDl2Gnxd27qf2UN\n",
       "1FvBvR7LAAAAAElFTkSuQmCC\n",
       "\" style=\"display:inline;vertical-align:middle;\" /></a></span>"
      ],
      "text/plain": [
       "|- forall_{f, x, y | x = y} (f(x) = f(y))"
      ]
     },
     "metadata": {},
     "output_type": "display_data"
    }
   ],
   "source": [
    "substitution"
   ]
  },
  {
   "cell_type": "code",
   "execution_count": 4,
   "metadata": {},
   "outputs": [
    {
     "data": {
      "text/html": [
       "<span style=\"font-size:20px;\"><a class=\"ProveItLink\" href=\"../../../__pv_it/theorems/e2ce83a51e2046fa0ee7bc480295cea581540bf50/expr.ipynb\"><img src=\"data:image/png;base64,iVBORw0KGgoAAAANSUhEUgAAADMAAAAJBAMAAABtbgnSAAAAMFBMVEX///8AAAAAAAAAAAAAAAAA\n",
       "AAAAAAAAAAAAAAAAAAAAAAAAAAAAAAAAAAAAAAAAAAAv3aB7AAAAD3RSTlMAEHarMolUmd1mIs3v\n",
       "RLtmgJDEAAAACXBIWXMAAA7EAAAOxAGVKw4bAAAAhklEQVQI12NgEFIWCU1gQAVcploKQKqAyYi9\n",
       "AUizd4CBAUjqzgK+jwwMnAs4PzJPQNXEeJIBpJqFgX0DmnEM7B8YOAJADB4FdCmeBwzyF0CM+wsY\n",
       "BVDtkldgmA+k5C7YMLCi6ZJPYLBmW8CQ71jDcA1Nik+BrZ2dgUFcia0S3VuMRiGLVRgA3+kdu/np\n",
       "SvQAAAAASUVORK5CYII=\n",
       "\" style=\"display:inline;vertical-align:middle;\" /></a> <a class=\"ProveItLink\" href=\"../../../__pv_it/_proof_unary_evaluation/675796dcd796767aa0096afc9a6e87a2da8fda530/proof.ipynb\" style=\"text-decoration: none\">&nbsp;&#x22A2;&nbsp;&nbsp;</a><a class=\"ProveItLink\" href=\"../../../__pv_it/_proof_unary_evaluation/cfdf46178f7a1101f8d0d4eafe150216473805130/expr.ipynb\"><img src=\"data:image/png;base64,iVBORw0KGgoAAAANSUhEUgAAAHAAAAAVBAMAAABs93eRAAAAMFBMVEX///8AAAAAAAAAAAAAAAAA\n",
       "AAAAAAAAAAAAAAAAAAAAAAAAAAAAAAAAAAAAAAAAAAAv3aB7AAAAD3RSTlMAmYkQqzLvVES73WZ2\n",
       "Is1wFLxSAAAACXBIWXMAAA7EAAAOxAGVKw4bAAABtUlEQVQ4y2NggANeKH2BATfgRVUKAcehdA8e\n",
       "jVA1HAfAFKOSAZBkV4BK8mzAogNNzWkwqRJWACTt4IoeY9GIpoYPZAxDeieIkoYr2ohFI5oabgGQ\n",
       "gz+D2QlwRWwGGPow1CQDMdMCEIv9AVyQD9OTGGpeA211WwKylxHob+YzzkHqQFUO6PqQ1DBc0bkD\n",
       "8jMQ8x+AWcPIcOSAFFAZ2GCpVSCwBKIToYYjl2E+0Cv7gNz7ASBBLmCo7WXYb+ANdFEChlMRasw2\n",
       "MADNZigD4npIiDQwMAQwyIGYrB8wNCLUyDMwLAIy44FYCy7IwJADDkJMGxFqMhmYfwCZbUA8hQHm\n",
       "DAaOvwzGQKcuwPAjXA3zHwZukIOqYLYwcB5gYJ7BksAADDjuCRg2ItR8Z2B5UMvAsBOY0n9AYsqB\n",
       "gf2rYQJHATTUUTMFXA3DHIYqAWDUCAEdBgkK1gUMzDIHCreDXNSArhGhhsHkUKwPMIhXAM2HRvdS\n",
       "uLJbmHkDXQ3vAoYSvgL0pC2Nrg9TDeMGhpWwrMIJy/m8GGGDqeYmA8MeWSibeQK6LBxgqpmLLH0H\n",
       "Sp/FU3RA1fBcYAAANyxqz0Ogxc0AAAAASUVORK5CYII=\n",
       "\" style=\"display:inline;vertical-align:middle;\" /></a></span>"
      ],
      "text/plain": [
       "{x = a} |- f(x) = f(a)"
      ]
     },
     "metadata": {},
     "output_type": "display_data"
    },
    {
     "name": "stdout",
     "output_type": "stream",
     "text": [
      "unary_evaluation may now be readily provable (assuming required theorems are usable).  Simply execute \"%qed\".\n"
     ]
    }
   ],
   "source": [
    "substitution.instantiate({y:a}, assumptions=[Equals(x, a)])"
   ]
  },
  {
   "cell_type": "code",
   "execution_count": 5,
   "metadata": {},
   "outputs": [
    {
     "data": {
      "text/html": [
       "<strong id=\"assumptions\">assumptions:</strong> <a class=\"ProveItLink\" href=\"../../../__pv_it/_proof_unary_evaluation/f5b135357b0572576e1369475744ece7441ae60b0/expr.ipynb\"><img src=\"data:image/png;base64,iVBORw0KGgoAAAANSUhEUgAAAJcAAAAVBAMAAAC5yWGZAAAAMFBMVEX///8AAAAAAAAAAAAAAAAA\n",
       "AAAAAAAAAAAAAAAAAAAAAAAAAAAAAAAAAAAAAAAAAAAv3aB7AAAAD3RSTlMAInZUiRDNmWbv3US7\n",
       "qzJazP2FAAAACXBIWXMAAA7EAAAOxAGVKw4bAAAB2klEQVQ4y42UP0gCURzHf3ped15mNwvRGUQt\n",
       "hUO1NChhS2BIS4t0QgSODg42BG61REJL5CJYBE1HTU1dgrtIFC3h0uIkgWv03u98/nk+zrvhvR+f\n",
       "9+F77x8PAHTw+uljnWjQH/Oaxcwn4SjSDQ8xhd1R018S/opQOTs9K/B9DaPmidAiVClNDwtuN2DU\n",
       "PBdahAY9rPI1jZHD8LTwl2nY8hC2h+3QnBGuhtAC6Q7WjpL8mfreo0a/vLz9xFMY0ECTD9pZbVOa\n",
       "I2Xe31KqdFce8UP1RQ/1mPqLbW5A1SwnR2KKTWmNjOlqb46buXwDmI+T/MOuNqBSmZvYHQQNSisA\n",
       "YVAm7ofSBS3Rr6UudpUBDXc5GddAaAUPwpg4GhtMi12zKgvr09nyhAxIa3j2upwe3wbTgCvmhpps\n",
       "mX0qVSdkh9YBMtYXBLiZmTH4kHQZRuZdZxRUe1yeJxtuUZoCiP+cwjMXFjKkBwVM3MtFZ70pRkFJ\n",
       "cHtmQ6BNaQfgcEkq8tdMbu0vrIN2T+u4gzqMgmZxdvJiGanWdrv7m7Q5c+qhGRG6hKp5tzCyHql5\n",
       "7NRDsyh0KX1zyZLJ1msNdgmZ6bNFLtKM29tKJ7TCnmlmhoTvNlKf4fXZZmZUOEroPyzSehQaee0M\n",
       "AAAAAElFTkSuQmCC\n",
       "\" style=\"display:inline;vertical-align:middle;\" /></a><br>"
      ],
      "text/plain": [
       "<IPython.core.display.HTML object>"
      ]
     },
     "metadata": {},
     "output_type": "display_data"
    }
   ],
   "source": [
    "assumptions = [unary_evaluation.instance_expr.antecedent,\n",
    "              unary_evaluation.instance_expr.consequent.antecedent]"
   ]
  },
  {
   "cell_type": "code",
   "execution_count": 6,
   "metadata": {},
   "outputs": [
    {
     "data": {
      "text/html": [
       "<span style=\"font-size:20px;\"><a class=\"ProveItLink\" href=\"../../../__pv_it/theorems/e2ce83a51e2046fa0ee7bc480295cea581540bf50/expr.ipynb\"><img src=\"data:image/png;base64,iVBORw0KGgoAAAANSUhEUgAAADMAAAAJBAMAAABtbgnSAAAAMFBMVEX///8AAAAAAAAAAAAAAAAA\n",
       "AAAAAAAAAAAAAAAAAAAAAAAAAAAAAAAAAAAAAAAAAAAv3aB7AAAAD3RSTlMAEHarMolUmd1mIs3v\n",
       "RLtmgJDEAAAACXBIWXMAAA7EAAAOxAGVKw4bAAAAhklEQVQI12NgEFIWCU1gQAVcploKQKqAyYi9\n",
       "AUizd4CBAUjqzgK+jwwMnAs4PzJPQNXEeJIBpJqFgX0DmnEM7B8YOAJADB4FdCmeBwzyF0CM+wsY\n",
       "BVDtkldgmA+k5C7YMLCi6ZJPYLBmW8CQ71jDcA1Nik+BrZ2dgUFcia0S3VuMRiGLVRgA3+kdu/np\n",
       "SvQAAAAASUVORK5CYII=\n",
       "\" style=\"display:inline;vertical-align:middle;\" /></a>, <a class=\"ProveItLink\" href=\"../../../__pv_it/theorems/2d343bb60e8399cc277146db71f2e42edd934b170/expr.ipynb\"><img src=\"data:image/png;base64,iVBORw0KGgoAAAANSUhEUgAAAE8AAAAVBAMAAAD1D64kAAAAMFBMVEX///8AAAAAAAAAAAAAAAAA\n",
       "AAAAAAAAAAAAAAAAAAAAAAAAAAAAAAAAAAAAAAAAAAAv3aB7AAAAD3RSTlMAmYkQqzLvVES73WZ2\n",
       "Is1wFLxSAAAACXBIWXMAAA7EAAAOxAGVKw4bAAABP0lEQVQoz2NggANeFAoPOA6hOA7gVMGoZAAk\n",
       "2RWg3NM4FaqEFQBJOxiXzwCXwvROkJQ0jMstgEMdx2cwlQAXSMahkGkBiGR/ABd4jV0dt9sSkF2M\n",
       "IL9c0bkDcjOGGp3TAUCSHxwefBuAjshlmA907j5wUKwCAwcQ+1YB4wQgdR+kmoEL6HOzDQxSQGYZ\n",
       "uoGLGNhAhtWDOWwNDAzyIDEGhnj0cIb4lkELrjCTgfkHkNmGppBtAoSewgC1mvkPA/cHILMKzY32\n",
       "0EjNAZOcBxiYvzOwPKhlYNiJZiI/0J9A+3h/QEITqHcOQ5UAMKiE0N04gYEJ6GH2D2AeKzDYTQ7F\n",
       "+gBFVqD7Wmn3YZB6BwhvKTxdLsAaMSV8BRDGRrhNG7AqXAlLXpwXoIyb2KN6jyyUwQwNLYa5hLLC\n",
       "HQjFcwGrLADM30SNwAWmAwAAAABJRU5ErkJggg==\n",
       "\" style=\"display:inline;vertical-align:middle;\" /></a> <a class=\"ProveItLink\" href=\"../../../__pv_it/_proof_unary_evaluation/7ce2324572f078dde208c2c27514f68a31207bb40/proof.ipynb\" style=\"text-decoration: none\">&nbsp;&#x22A2;&nbsp;&nbsp;</a><a class=\"ProveItLink\" href=\"../../../__pv_it/theorems/997f84dd8d50e2bbdc87813ae4778f4b452664e40/expr.ipynb\"><img src=\"data:image/png;base64,iVBORw0KGgoAAAANSUhEUgAAAFAAAAAVBAMAAAAjqnRBAAAAMFBMVEX///8AAAAAAAAAAAAAAAAA\n",
       "AAAAAAAAAAAAAAAAAAAAAAAAAAAAAAAAAAAAAAAAAAAv3aB7AAAAD3RSTlMAmYkQqzLvVES73WZ2\n",
       "Is1wFLxSAAAACXBIWXMAAA7EAAAOxAGVKw4bAAABOklEQVQoz2NggANeKH2BgQA4DqV7cKpgVDIA\n",
       "kuwKUC7PBlwKVcIKgKQdnP8Yl8L0TpCJ0nD+RhzqOD6DqQS4AJsBdoVMC0Ak+wO4AB92R3K7LREA\n",
       "+QjoF+YzzkHqQJ0OGGad2Qok+Q/AjGFkOHJACqgVbLjUKhBYAg7h5QySQOp+AIjDBfT5Xob9Bt5A\n",
       "VySgGcilwJADpOohPmhgYAhgkAMxWT+gKZSH+E4LrpABrJGBA93ETAg1hQFmNQPHXwZjoNULUN3I\n",
       "/AeiEGwKA+cBBuYZLAkMQM9zT0Az8TfQCKCXfkBCwIGB/athAkcBJKRQANDLqkCLIE5nXcDALHOg\n",
       "cDvIFQ3owai9B+gdRmjwLoWL38IaMSV8BehJQRqrwpWw5MUJS9m8E7Aq3CMLZTBPQNeBC9yB0mex\n",
       "ygIA78FAiYabSSEAAAAASUVORK5CYII=\n",
       "\" style=\"display:inline;vertical-align:middle;\" /></a></span>"
      ],
      "text/plain": [
       "{x = a, f(a) = c} |- f(x) = c"
      ]
     },
     "metadata": {},
     "output_type": "display_data"
    }
   ],
   "source": [
    "unary_evaluation.instance_expr.consequent.consequent.conclude_via_transitivity(assumptions=assumptions)"
   ]
  },
  {
   "cell_type": "code",
   "execution_count": 7,
   "metadata": {},
   "outputs": [
    {
     "data": {
      "text/html": [
       "<span style=\"font-size:20px;\"> <a class=\"ProveItLink\" href=\"../../../__pv_it/_proof_unary_evaluation/d033937057004a251aba97ae8430d767c0ec6b510/proof.ipynb\" style=\"text-decoration: none\">&nbsp;&#x22A2;&nbsp;&nbsp;</a><a class=\"ProveItLink\" href=\"../../../__pv_it/theorems/f47941b874c4be8a19b2561353e8931ddfc7dc380/expr.ipynb\"><img src=\"data:image/png;base64,iVBORw0KGgoAAAANSUhEUgAAAVAAAAAVBAMAAADiJKuBAAAAMFBMVEX///8AAAAAAAAAAAAAAAAA\n",
       "AAAAAAAAAAAAAAAAAAAAAAAAAAAAAAAAAAAAAAAAAAAv3aB7AAAAD3RSTlMAInZUiRDNmWbv3US7\n",
       "qzJazP2FAAAACXBIWXMAAA7EAAAOxAGVKw4bAAADQ0lEQVRIx4VXTWgTQRT+8rPdpOnP0oOHorit\n",
       "Cr0UIojSgrTUnoRCEGwRqgZU6DFKkdqLUaF6KBiVnuohoHiwVkI9FQRjwZOopSDYWwQ9KEKrUjwU\n",
       "xNmZ3ezszJt14GXmvf2+b9/MvpndAHBgaglzOKHDDGjnv9KJWKQTIJJ5Y6I5lwwf8E32zegVo4Y6\n",
       "XjHyufQRmFsfFUwNCwPs0QKCsQmNZNmgofFJpIgyaasYk2hLgQiO+waMfcs3xyY0cMmgofFJpIgy\n",
       "absck2imRARnfAMevCw0xyY0cNugofFJpIgy6Szi2kI4fBMMKr4ht9P0NbTUsgVaQ+dnC0b+Ao7G\n",
       "JjoVDn8E5VUUBqSrga+j5fopkxoEv6Vs5E9hmv2e6j83qu79fSNdXhVJZeDXvD0sDJnN5ZLv62i/\n",
       "jfQ1kF4nNWS+1fvxywnISJU/xlehlNywvdnZT3nzLuTu4QNb8jmE4T/hBMXUO93AJ9D8nt15u45M\n",
       "kdSQ+Tb63VkIJGY5cjnKn8Mjdt3J7LQrq36mDMbEgHykXOBda14YsL8R+ASat8fIukhVSA2ZfwN3\n",
       "C58QQSr8ASwCHbC1M+q6hwK2ImfKIq/tmjBgCIFPob1l5LulY5vUkPkNXNWQUf4WBFF7qTyEtcu6\n",
       "VflNd9GJJnqyeSMCzS/V+eaukBoyH7ivIhX+qvfogVeOVYiUl/ULGW8ig1LVPXGUR/8u8Cm0V6Pn\n",
       "+fxTVVJD4rNkfuK0j5RqVOIPYg2YrG0iHZ2L9RvtxcPAvPTir4u+zRXmr4I3JtC8dbLCryFTJzVk\n",
       "/tv2Ctjml5Aqf947Uoa+XsML5R5rGCyxw2M6jOzxe++04CdGYrfp62hRY3WkG+Is0jUkfurvRCWX\n",
       "h4xU+dP4Dkz0pmbUY/Tswc8bbFMuhZH3ft9RFYbUdtPX0aKN3jnEnm2N1JD41hX32C1EkCp/Ca2N\n",
       "mBdTokp8Vz73zV4PfQ0ttW6DhsaXkQqfSRu+JPy1Lxs+Epgdb8krnxKG75sZWkPnk0gR9aRfxyS6\n",
       "lwq2OdyejUu+GY1EndbQ+SRSRD3pyZhEyUlYdW43L0u+GR3moWjofBIpop50wjXmmaT/xXT5Jvtm\n",
       "dI9RQx33GPlM+h/57BIJZEnW/QAAAABJRU5ErkJggg==\n",
       "\" style=\"display:inline;vertical-align:middle;\" /></a></span>"
      ],
      "text/plain": [
       "|- (x = a) => ((f(a) = c) => (f(x) = c))"
      ]
     },
     "metadata": {},
     "output_type": "display_data"
    }
   ],
   "source": [
    "unary_evaluation.instance_expr.prove()"
   ]
  },
  {
   "cell_type": "code",
   "execution_count": 8,
   "metadata": {},
   "outputs": [
    {
     "name": "stdout",
     "output_type": "stream",
     "text": [
      "proveit.logic.equality.unary_evaluation has been proven.\n"
     ]
    },
    {
     "data": {
      "text/html": [
       "<table><tr><th>&nbsp;</th><th>step type</th><th>requirements</th><th>statement</th></tr>\n",
       "<tr><td><a name=\"-0x37ba5e744404082c_step0\">0</a></td><td>generalization</td><td><a href=\"#-0x37ba5e744404082c_step1\">1</a></td><td><span style=\"font-size:20px;\"> <a class=\"ProveItLink\" href=\"../../../__pv_it/_proof_unary_evaluation/06e0838d2be18cc11e2051e52b1de219e0d1c64e0/proof.ipynb\" style=\"text-decoration: none\">&nbsp;&#x22A2;&nbsp;&nbsp;</a><a class=\"ProveItLink\" href=\"../../../__pv_it/theorems/ff5925984d4630f74aac55f5ef242fce4bec425f0/expr.ipynb\"><img src=\"data:image/png;base64,iVBORw0KGgoAAAANSUhEUgAAAaoAAAAWBAMAAABj3sV/AAAAMFBMVEX///8AAAAAAAAAAAAAAAAA\n",
       "AAAAAAAAAAAAAAAAAAAAAAAAAAAAAAAAAAAAAAAAAAAv3aB7AAAAD3RSTlMAq1RmmUTNIjK7EInv\n",
       "3XZ/CtNrAAAACXBIWXMAAA7EAAAOxAGVKw4bAAAEn0lEQVRYw9VXb2gcRRR/d7f3Z/fSJiD4QUPY\n",
       "otQPWnrU/wrpQaq1aNtD/FItelikoH7YgAgFG89PokZypUjFD3WFUlpRc6aghWA4KqW2oqRFRZHg\n",
       "xgoRAyGoIZIP4sy8Nzuzs7vZ3Ecf/G7nzc37zc6b997MAmxMPMI6f8elTNB1o2tDHGZ7/dnKsFHZ\n",
       "7CLS5OnE3l8Jus6kGPTIYbaTR3JaiQHecUvWqm4npK66ltCZ7yAArGkfZJvJ9d44YvaJI5GW8BDX\n",
       "D2csymki0uX5hL7TBIBPx92wzaTk98QRs08cibSE13gktjNWZdUQ6XJXQt8IAeDCAT9sMynUe+KI\n",
       "2SeORFoCX1zVzVhVH2GdEcr978lGlwDFtVBHuZLFYfsaR9y+L3mzr4QosC0oZaXVVkK6lNROviFT\n",
       "oolgXpuVOsmhLI5KW3Ek2JeS4+aQwjdzc19nrepRwifzZ6bNfS3fvMCKTnVABQIltdVBQGHwap10\n",
       "GJ0Z43kSm2HmekvngAcVh27vLN301lRkNpLq0n1IS3hEi5k0kU6obx6yuN+sOSGC+6BnswApNFX3\n",
       "38qh6NT+QOrFS/A+i557wCA56lpt5IC9oveXurYpyt6C+WAvREZeFa69BnuQljAKZU7s7FqnGlxD\n",
       "FLzCWs4Y5nwJfKH5rlaNnxWPTS4C4NWW1D+qAXspuMOc4GfoCyIcsNWVNrr9vbDTvyE6G87VgW+R\n",
       "lmD71QbPz7tb6au6iKiAFSvv1jKnhMqyXo4vipRuIAC2g9T38wUATJgkohxEOJwXGxC3b8HDsZFc\n",
       "9ovyMaGQD0Sx6Pchc1XAPWoWrjZMsumKmvfKL3jRVX0RvtVlcFZ41MZJIMoBL38OELcHviXGSC6X\n",
       "xe9BDc1hHjWDU/zQ/m1sN/fTuUXxXjPD0QgEeMZz/GhKTAawk9tr6faDZ0TgMak7/0KBu3kbxEgk\n",
       "B2XL3GFQEXhMtYur8GF0JM8rxgtEKzElTur7+c9Crs1z4mNvgr/YpsY4reok4mxjEKqGlyZduDHv\n",
       "QUEd5EVq2gGC/Mvbzp+Qa95Gk2nSz5K1oXPAAcWh27+T6wKL94J5bfiLTYu0Eq+IKrSL/9TsoCXa\n",
       "Yjl74AwZUbnc/uZj8LjBZwf57ywqwRQ7stgOUAkur4T6SdhWr+MpEcmrNlRbOke5qTg0+/w/p7pF\n",
       "NzIbCiuA59UBxJETZeI4Os3DNJqX2YTyNuLUUn7EPK6cofOjv/N9DXvelSfpLALyy6H+weLrQ2y6\n",
       "783snL7zjwiH3VIcmr2zL7h1B0RG0urPDftIK4Hylfgd598uziocZ8ELq6pwthDpcjThO+lHgjWg\n",
       "dNyJ2SyOss4Rs9dH6veBWQVy+Ro4nXL3M6g7HbhUWXmAPZ4Lk0jeG9NlJOW2yrCl5Bp30pSLcgpH\n",
       "3D5xpLqDK/pKFyoXYN9TSz57PLFjscYeL/GwQDlBSJPEW7/tCfx0WtOFHOmJI26f8o1xRIPajTxd\n",
       "DSIPlLOENLGTPrqdtsDwbk0PfbRxjri9nfyJf8J0v72FZc2T2I4+yDsBIk0WEnvHCLrOT0WvRw6z\n",
       "nTyS00rIKy+v69iOPv6X8h+zZHzfCgEJPgAAAABJRU5ErkJggg==\n",
       "\" style=\"display:inline;vertical-align:middle;\" /></a></span></td></tr>\n",
       "<tr><td><a name=\"-0x37ba5e744404082c_step1\">1</a></td><td>deduction</td><td><a href=\"#-0x37ba5e744404082c_step2\">2</a></td><td><span style=\"font-size:20px;\"> <a class=\"ProveItLink\" href=\"../../../__pv_it/_proof_unary_evaluation/d033937057004a251aba97ae8430d767c0ec6b510/proof.ipynb\" style=\"text-decoration: none\">&nbsp;&#x22A2;&nbsp;&nbsp;</a><a class=\"ProveItLink\" href=\"../../../__pv_it/theorems/f47941b874c4be8a19b2561353e8931ddfc7dc380/expr.ipynb\"><img src=\"data:image/png;base64,iVBORw0KGgoAAAANSUhEUgAAAVAAAAAVBAMAAADiJKuBAAAAMFBMVEX///8AAAAAAAAAAAAAAAAA\n",
       "AAAAAAAAAAAAAAAAAAAAAAAAAAAAAAAAAAAAAAAAAAAv3aB7AAAAD3RSTlMAInZUiRDNmWbv3US7\n",
       "qzJazP2FAAAACXBIWXMAAA7EAAAOxAGVKw4bAAADQ0lEQVRIx4VXTWgTQRT+8rPdpOnP0oOHorit\n",
       "Cr0UIojSgrTUnoRCEGwRqgZU6DFKkdqLUaF6KBiVnuohoHiwVkI9FQRjwZOopSDYWwQ9KEKrUjwU\n",
       "xNmZ3ezszJt14GXmvf2+b9/MvpndAHBgaglzOKHDDGjnv9KJWKQTIJJ5Y6I5lwwf8E32zegVo4Y6\n",
       "XjHyufQRmFsfFUwNCwPs0QKCsQmNZNmgofFJpIgyaasYk2hLgQiO+waMfcs3xyY0cMmgofFJpIgy\n",
       "absck2imRARnfAMevCw0xyY0cNugofFJpIgy6Szi2kI4fBMMKr4ht9P0NbTUsgVaQ+dnC0b+Ao7G\n",
       "JjoVDn8E5VUUBqSrga+j5fopkxoEv6Vs5E9hmv2e6j83qu79fSNdXhVJZeDXvD0sDJnN5ZLv62i/\n",
       "jfQ1kF4nNWS+1fvxywnISJU/xlehlNywvdnZT3nzLuTu4QNb8jmE4T/hBMXUO93AJ9D8nt15u45M\n",
       "kdSQ+Tb63VkIJGY5cjnKn8Mjdt3J7LQrq36mDMbEgHykXOBda14YsL8R+ASat8fIukhVSA2ZfwN3\n",
       "C58QQSr8ASwCHbC1M+q6hwK2ImfKIq/tmjBgCIFPob1l5LulY5vUkPkNXNWQUf4WBFF7qTyEtcu6\n",
       "VflNd9GJJnqyeSMCzS/V+eaukBoyH7ivIhX+qvfogVeOVYiUl/ULGW8ig1LVPXGUR/8u8Cm0V6Pn\n",
       "+fxTVVJD4rNkfuK0j5RqVOIPYg2YrG0iHZ2L9RvtxcPAvPTir4u+zRXmr4I3JtC8dbLCryFTJzVk\n",
       "/tv2Ctjml5Aqf947Uoa+XsML5R5rGCyxw2M6jOzxe++04CdGYrfp62hRY3WkG+Is0jUkfurvRCWX\n",
       "h4xU+dP4Dkz0pmbUY/Tswc8bbFMuhZH3ft9RFYbUdtPX0aKN3jnEnm2N1JD41hX32C1EkCp/Ca2N\n",
       "mBdTokp8Vz73zV4PfQ0ttW6DhsaXkQqfSRu+JPy1Lxs+Epgdb8krnxKG75sZWkPnk0gR9aRfxyS6\n",
       "lwq2OdyejUu+GY1EndbQ+SRSRD3pyZhEyUlYdW43L0u+GR3moWjofBIpop50wjXmmaT/xXT5Jvtm\n",
       "dI9RQx33GPlM+h/57BIJZEnW/QAAAABJRU5ErkJggg==\n",
       "\" style=\"display:inline;vertical-align:middle;\" /></a></span></td></tr>\n",
       "<tr><td><a name=\"-0x37ba5e744404082c_step2\">2</a></td><td>deduction</td><td><a href=\"#-0x37ba5e744404082c_step3\">3</a></td><td><span style=\"font-size:20px;\"><a class=\"ProveItLink\" href=\"../../../__pv_it/theorems/e2ce83a51e2046fa0ee7bc480295cea581540bf50/expr.ipynb\"><img src=\"data:image/png;base64,iVBORw0KGgoAAAANSUhEUgAAADMAAAAJBAMAAABtbgnSAAAAMFBMVEX///8AAAAAAAAAAAAAAAAA\n",
       "AAAAAAAAAAAAAAAAAAAAAAAAAAAAAAAAAAAAAAAAAAAv3aB7AAAAD3RSTlMAEHarMolUmd1mIs3v\n",
       "RLtmgJDEAAAACXBIWXMAAA7EAAAOxAGVKw4bAAAAhklEQVQI12NgEFIWCU1gQAVcploKQKqAyYi9\n",
       "AUizd4CBAUjqzgK+jwwMnAs4PzJPQNXEeJIBpJqFgX0DmnEM7B8YOAJADB4FdCmeBwzyF0CM+wsY\n",
       "BVDtkldgmA+k5C7YMLCi6ZJPYLBmW8CQ71jDcA1Nik+BrZ2dgUFcia0S3VuMRiGLVRgA3+kdu/np\n",
       "SvQAAAAASUVORK5CYII=\n",
       "\" style=\"display:inline;vertical-align:middle;\" /></a> <a class=\"ProveItLink\" href=\"../../../__pv_it/_proof_unary_evaluation/3a47ff6e484d0f44d01a491c8cbc205e12a0e8d00/proof.ipynb\" style=\"text-decoration: none\">&nbsp;&#x22A2;&nbsp;&nbsp;</a><a class=\"ProveItLink\" href=\"../../../__pv_it/theorems/cfcc0b18b2aa9806b1067272fc9fa7e9856b15360/expr.ipynb\"><img src=\"data:image/png;base64,iVBORw0KGgoAAAANSUhEUgAAAN0AAAAVBAMAAAAwUfbwAAAAMFBMVEX///8AAAAAAAAAAAAAAAAA\n",
       "AAAAAAAAAAAAAAAAAAAAAAAAAAAAAAAAAAAAAAAAAAAv3aB7AAAAD3RSTlMAInZUiRDNmWbv3US7\n",
       "qzJazP2FAAAACXBIWXMAAA7EAAAOxAGVKw4bAAACpUlEQVRIx31WPWgUURCeZPfc3fOMW1kcipeA\n",
       "mEa5QgLRIodEEMEQLLQ5vEAULFOkiGLwsDAW/gRFEGNxEFFIEA6tUrknXCtHEMVGrrERwUM4tBJn\n",
       "5u279/bd4BT75ma/78u8N7PzAgAxGIszi2MjYlTi/w85WjYB7b8R4XtLUlTiy0gle4Ld5TPGR15d\n",
       "xE9KQYkvI1k2t0Ce//UxaJ/sqojfMz8ck/kSUskGvJXoVBu0T7YmwsOl4ZjMl5BKNmLnHecTDV5E\n",
       "cn5PjNvWSJFvIy1D2Sl2zvFzypycXMBrxv2RrjLfRtoFqcMyrfeffeaiUyt/HMfm8jsu1J94AHDe\n",
       "OtuKWl3+hWOXZ8sZZGqnJ7skqxL5NUhqJy70UY0rf2OL7DV/UZtwE+AOV4yjW7/tjRj+0uhu0Mgi\n",
       "OfdiOUhIdpPV/jIe/dxTILi37mSXr8AjgGkr4i1qjs0P47C/r55Fsr2AqESyG8ztcQz9oEfSMNZz\n",
       "4Le4IX7aoYsbKcfmj0GwMISkrfbpibKM9xsaHyVQa+KAcPf3nJ879nS7Eg/+nuEDbcNBcjThubOu\n",
       "zqPQ0edRK8FDSriRrV9OFeikVZWXsTlPw8dPI87NZ5H0ssZZoOx7kxP5tTJ88mIIEye/P5gcwD1r\n",
       "mKYIh19tfgEfMki2/VjTJsly4x5uchD9Qsl7FWBmFQePzTmXNr+yA+nq8Ge+XYe3kEGq+iXgd0n2\n",
       "O/2aUUH0c7tzh45jOzbdz+/sbTylbRP4AAOOzb804a3QJbHt9ufs3SMsm+/ij9W06bv6bVG+ABvD\n",
       "t57Mt5GWFXmyep1Fd8quiPCgLs5wgR/I85BkW5Bv63ukpdNLRPhBKSjxZaSSrUJ4VB9ONV0L8j8U\n",
       "LSko8WWkkh2x7n7tj8vXs5iFxJeRJPsPnFS2gTjo1DgAAAAASUVORK5CYII=\n",
       "\" style=\"display:inline;vertical-align:middle;\" /></a></span></td></tr>\n",
       "<tr><td><a name=\"-0x37ba5e744404082c_step3\">3</a></td><td>instantiation</td><td><a href=\"#-0x37ba5e744404082c_step4\">4</a>, <a href=\"#-0x37ba5e744404082c_step5\">5</a>, <a href=\"#-0x37ba5e744404082c_step6\">6</a></td><td><span style=\"font-size:20px;\"><a class=\"ProveItLink\" href=\"../../../__pv_it/theorems/e2ce83a51e2046fa0ee7bc480295cea581540bf50/expr.ipynb\"><img src=\"data:image/png;base64,iVBORw0KGgoAAAANSUhEUgAAADMAAAAJBAMAAABtbgnSAAAAMFBMVEX///8AAAAAAAAAAAAAAAAA\n",
       "AAAAAAAAAAAAAAAAAAAAAAAAAAAAAAAAAAAAAAAAAAAv3aB7AAAAD3RSTlMAEHarMolUmd1mIs3v\n",
       "RLtmgJDEAAAACXBIWXMAAA7EAAAOxAGVKw4bAAAAhklEQVQI12NgEFIWCU1gQAVcploKQKqAyYi9\n",
       "AUizd4CBAUjqzgK+jwwMnAs4PzJPQNXEeJIBpJqFgX0DmnEM7B8YOAJADB4FdCmeBwzyF0CM+wsY\n",
       "BVDtkldgmA+k5C7YMLCi6ZJPYLBmW8CQ71jDcA1Nik+BrZ2dgUFcia0S3VuMRiGLVRgA3+kdu/np\n",
       "SvQAAAAASUVORK5CYII=\n",
       "\" style=\"display:inline;vertical-align:middle;\" /></a>, <a class=\"ProveItLink\" href=\"../../../__pv_it/theorems/2d343bb60e8399cc277146db71f2e42edd934b170/expr.ipynb\"><img src=\"data:image/png;base64,iVBORw0KGgoAAAANSUhEUgAAAE8AAAAVBAMAAAD1D64kAAAAMFBMVEX///8AAAAAAAAAAAAAAAAA\n",
       "AAAAAAAAAAAAAAAAAAAAAAAAAAAAAAAAAAAAAAAAAAAv3aB7AAAAD3RSTlMAmYkQqzLvVES73WZ2\n",
       "Is1wFLxSAAAACXBIWXMAAA7EAAAOxAGVKw4bAAABP0lEQVQoz2NggANeFAoPOA6hOA7gVMGoZAAk\n",
       "2RWg3NM4FaqEFQBJOxiXzwCXwvROkJQ0jMstgEMdx2cwlQAXSMahkGkBiGR/ABd4jV0dt9sSkF2M\n",
       "IL9c0bkDcjOGGp3TAUCSHxwefBuAjshlmA907j5wUKwCAwcQ+1YB4wQgdR+kmoEL6HOzDQxSQGYZ\n",
       "uoGLGNhAhtWDOWwNDAzyIDEGhnj0cIb4lkELrjCTgfkHkNmGppBtAoSewgC1mvkPA/cHILMKzY32\n",
       "0EjNAZOcBxiYvzOwPKhlYNiJZiI/0J9A+3h/QEITqHcOQ5UAMKiE0N04gYEJ6GH2D2AeKzDYTQ7F\n",
       "+gBFVqD7Wmn3YZB6BwhvKTxdLsAaMSV8BRDGRrhNG7AqXAlLXpwXoIyb2KN6jyyUwQwNLYa5hLLC\n",
       "HQjFcwGrLADM30SNwAWmAwAAAABJRU5ErkJggg==\n",
       "\" style=\"display:inline;vertical-align:middle;\" /></a> <a class=\"ProveItLink\" href=\"../../../__pv_it/_proof_unary_evaluation/7ce2324572f078dde208c2c27514f68a31207bb40/proof.ipynb\" style=\"text-decoration: none\">&nbsp;&#x22A2;&nbsp;&nbsp;</a><a class=\"ProveItLink\" href=\"../../../__pv_it/theorems/997f84dd8d50e2bbdc87813ae4778f4b452664e40/expr.ipynb\"><img src=\"data:image/png;base64,iVBORw0KGgoAAAANSUhEUgAAAFAAAAAVBAMAAAAjqnRBAAAAMFBMVEX///8AAAAAAAAAAAAAAAAA\n",
       "AAAAAAAAAAAAAAAAAAAAAAAAAAAAAAAAAAAAAAAAAAAv3aB7AAAAD3RSTlMAmYkQqzLvVES73WZ2\n",
       "Is1wFLxSAAAACXBIWXMAAA7EAAAOxAGVKw4bAAABOklEQVQoz2NggANeKH2BgQA4DqV7cKpgVDIA\n",
       "kuwKUC7PBlwKVcIKgKQdnP8Yl8L0TpCJ0nD+RhzqOD6DqQS4AJsBdoVMC0Ak+wO4AB92R3K7LREA\n",
       "+QjoF+YzzkHqQJ0OGGad2Qok+Q/AjGFkOHJACqgVbLjUKhBYAg7h5QySQOp+AIjDBfT5Xob9Bt5A\n",
       "VySgGcilwJADpOohPmhgYAhgkAMxWT+gKZSH+E4LrpABrJGBA93ETAg1hQFmNQPHXwZjoNULUN3I\n",
       "/AeiEGwKA+cBBuYZLAkMQM9zT0Az8TfQCKCXfkBCwIGB/athAkcBJKRQANDLqkCLIE5nXcDALHOg\n",
       "cDvIFQ3owai9B+gdRmjwLoWL38IaMSV8BehJQRqrwpWw5MUJS9m8E7Aq3CMLZTBPQNeBC9yB0mex\n",
       "ygIA78FAiYabSSEAAAAASUVORK5CYII=\n",
       "\" style=\"display:inline;vertical-align:middle;\" /></a></span></td></tr>\n",
       "<tr><td>&nbsp;</td><td colspan=4 style=\"text-align:left\"><span style=\"font-size:20px;\"><a class=\"ProveItLink\" href=\"../../../../../__pv_it/common/a0d9d672aa5e272d907247690c152cc2c6daafb70/expr.ipynb\"><img src=\"data:image/png;base64,iVBORw0KGgoAAAANSUhEUgAAAAsAAAAJBAMAAAAWSsseAAAAMFBMVEX///8AAAAAAAAAAAAAAAAA\n",
       "AAAAAAAAAAAAAAAAAAAAAAAAAAAAAAAAAAAAAAAAAAAv3aB7AAAAD3RSTlMAEHarMolUmd1mIs3v\n",
       "RLtmgJDEAAAACXBIWXMAAA7EAAAOxAGVKw4bAAAAQklEQVQI12NgEFIWCU1gYChgMmJvYOBcwPmR\n",
       "eQIDCwP7BgYQ4FEAU/cXMAowyF2wYWBlYMh3rGG4xsAgrsRWmcAAAFEjCyBvD0T9AAAAAElFTkSu\n",
       "QmCC\n",
       "\" style=\"display:inline;vertical-align:middle;\" /></a> : <a class=\"ProveItLink\" href=\"../../../../../__pv_it/common/6774f61458aed4cc9eb250f92b3634f1d09b19a40/expr.ipynb\"><img src=\"data:image/png;base64,iVBORw0KGgoAAAANSUhEUgAAACkAAAAVBAMAAAAp9toTAAAAMFBMVEX///8AAAAAAAAAAAAAAAAA\n",
       "AAAAAAAAAAAAAAAAAAAAAAAAAAAAAAAAAAAAAAAAAAAv3aB7AAAAD3RSTlMAmYkQqzLvVES73WZ2\n",
       "Is1wFLxSAAAACXBIWXMAAA7EAAAOxAGVKw4bAAAA/0lEQVQY02NggANeKH2BARkch9I9EIpRyQBI\n",
       "sitARXk2gCmVsAIgaQfX9BhMpneC1ErDRTeCCI7PYHYCXJQNpIhpAYjJ/gAuygc0mNttiQDISqBl\n",
       "zGecg9SByhyAfP4DMAWMDEcOSAHVgbTdDwCJcgHdsZdhv4E30DCQFfUQKxoYGAIY5EBM1g9AQgsu\n",
       "ysCQA3YUSO0UBpgJDBx/GYyBJiyAyTNwHmBgnsGSwAB0CvcEYFD9AIsCncP+1TCBowDiSPYPYFHW\n",
       "BQzMMgcKt4MMA1rB6ADx0VK4324xMJTwFSCFCRgAw2klLAQ5YXHAC7RsjyyUwzwBXRoM7kDpswwM\n",
       "AGRaMXIQBtPcAAAAAElFTkSuQmCC\n",
       "\" style=\"display:inline;vertical-align:middle;\" /></a>, <a class=\"ProveItLink\" href=\"../../../../../__pv_it/common/ff7dba4ef0bbe791ab573bf2d9c220a304399ac80/expr.ipynb\"><img src=\"data:image/png;base64,iVBORw0KGgoAAAANSUhEUgAAAAsAAAANBAMAAACN24kIAAAAMFBMVEX///8AAAAAAAAAAAAAAAAA\n",
       "AAAAAAAAAAAAAAAAAAAAAAAAAAAAAAAAAAAAAAAAAAAv3aB7AAAAD3RSTlMAEHaZZquJVO8y3btE\n",
       "zSKD2s2pAAAACXBIWXMAAA7EAAAOxAGVKw4bAAAAVklEQVQI12NgVHZgEGVgYGNvYPBnYJjOvIAh\n",
       "moFBgEOBoYmBgeG8AOdPIGXLwNQApLYycAcAKVOG8w5ASjTJ/gEDCOQCMdsFxnYgxaXAmgCk2J1s\n",
       "gCQAaFoNDtFIIdEAAAAASUVORK5CYII=\n",
       "\" style=\"display:inline;vertical-align:middle;\" /></a> : <a class=\"ProveItLink\" href=\"../../../../../__pv_it/common/87a201cf64512173f031b6f78a7cd5ef415a99ec0/expr.ipynb\"><img src=\"data:image/png;base64,iVBORw0KGgoAAAANSUhEUgAAACgAAAAVBAMAAADGNLEtAAAAMFBMVEX///8AAAAAAAAAAAAAAAAA\n",
       "AAAAAAAAAAAAAAAAAAAAAAAAAAAAAAAAAAAAAAAAAAAv3aB7AAAAD3RSTlMAmYkQqzLvVES73WZ2\n",
       "Is1wFLxSAAAACXBIWXMAAA7EAAAOxAGVKw4bAAABA0lEQVQY02NggANeFAoKjkMojgNgilHJAEiy\n",
       "K0AlT4NJlbACIGkH08EHUsKQ3gmipGGC3AIgQz6D2Qlww5OBmGkBiMX+AC74GqjabQlIPSPInis6\n",
       "d0B2ADE/2A18G4AG5TLMBxq/D8i9HwAS5AK6wGwDgxSQWQbE9WCD2BoYGOQZGBYBmfFArAUXzGRg\n",
       "/gFktgHxFAaoduY/DNwfgMwqIM4BC3IeYGD+zsDyoJaBYScwVH6ABZkcGBjmMFQJAJ0nBHT1B7Ag\n",
       "K9ALJodifYBOWQF0tQPEH0vh4bqAoYSvAMLeCBNk3MCwEhZknBegjJsMDHtkoWzmCVDGXOTouAOh\n",
       "eC4wAAC3OjE+2272cgAAAABJRU5ErkJggg==\n",
       "\" style=\"display:inline;vertical-align:middle;\" /></a>, <a class=\"ProveItLink\" href=\"../../../../../__pv_it/common/95a8f6b9b9f29b83f192ad7fd05708d6be097a3f0/expr.ipynb\"><img src=\"data:image/png;base64,iVBORw0KGgoAAAANSUhEUgAAAAoAAAAJBAMAAAD5iKAgAAAALVBMVEX///8AAAAAAAAAAAAAAAAA\n",
       "AAAAAAAAAAAAAAAAAAAAAAAAAAAAAAAAAAAAAADAOrOgAAAADnRSTlMAMt0iZhDNdom7q0RU75I/\n",
       "FSIAAAAJcEhZcwAADsQAAA7EAZUrDhsAAAA6SURBVAjXY2BgVBIwYWAIq5ixgIHBlIEjgIGBgbUV\n",
       "SDCYgwhuBwagyBkGhgUMjDOmNwkwcDCczWYAAM4bCMVQ6vlKAAAAAElFTkSuQmCC\n",
       "\" style=\"display:inline;vertical-align:middle;\" /></a> : <a class=\"ProveItLink\" href=\"../../../../../__pv_it/common/ceef4280a2f1cc604b455b54e735507244cc62cd0/expr.ipynb\"><img src=\"data:image/png;base64,iVBORw0KGgoAAAANSUhEUgAAAAkAAAAJBAMAAAASvxsjAAAAKlBMVEX///8AAAAAAAAAAAAAAAAA\n",
       "AAAAAAAAAAAAAAAAAAAAAAAAAAAAAAAAAADmU0mKAAAADXRSTlMAiXZmMiLdVJm77xBEs3/oGgAA\n",
       "AAlwSFlzAAAOxAAADsQBlSsOGwAAADZJREFUCNdjYGAQUnZgYAgr4JjAwJDIwKXAwHGbAQi4JoDI\n",
       "vQogkteAgeEAA1ABI1CloLE2AwDCNQb+PNXqTgAAAABJRU5ErkJggg==\n",
       "\" style=\"display:inline;vertical-align:middle;\" /></a></span></td></tr><tr><td><a name=\"-0x37ba5e744404082c_step4\">4</a></td><td>axiom</td><td></td><td><span style=\"font-size:20px;\"> <a class=\"ProveItLink\" href=\"../../axioms.ipynb#equals_transitivity\" style=\"text-decoration: none\">&nbsp;&#x22A2;&nbsp;&nbsp;</a><a class=\"ProveItLink\" href=\"../../../__pv_it/axioms/b5b3cf1e74e7e4fc2d5f197f08b661e6992950090/expr.ipynb\"><img src=\"data:image/png;base64,iVBORw0KGgoAAAANSUhEUgAAANEAAAAXBAMAAABnpbd1AAAAMFBMVEX///8AAAAAAAAAAAAAAAAA\n",
       "AAAAAAAAAAAAAAAAAAAAAAAAAAAAAAAAAAAAAAAAAAAv3aB7AAAAD3RSTlMAq1RmmUTNIjK7EInv\n",
       "3XZ/CtNrAAAACXBIWXMAAA7EAAAOxAGVKw4bAAACg0lEQVRIx61VTWgTQRT+Nrub/clPA55UKAF7\n",
       "8CIEEUSQWijaIrQEioIWNPRS8CDxoIdaSzz0UIwSKAp6kEVFwYLEIkI9yOKhCKLEg5JLYCuVooXQ\n",
       "W8WTb2Z3s3HbXRqYB7vf23mz8715780bQJxo0aYyhMqPaNMlenJMOSSCKFGPtmULwGmmTItgeh5n\n",
       "vALcZgGuiWAajjMeA5IWkMqLYLLjjGkLMkUwKSRNpThrkmg+t1qfRDApVBBm+8Cd5bDhblMrIEWV\n",
       "Nwo8ivq5FybmtYI1Z4x9jLWYfGWqeXXlNSDTjq9By0X8bPTClKFkH8cpa1/4PFt4R7GlLBpWqiiC\n",
       "KU2rVHBmF8sSFZ2+RWxOZEH0zAR82aVJOfRSWWWWBunVHlmn3qSuQeJJnD4XMGXX50b8ppLjPcUD\n",
       "Jvr368UgelC38TKUJ0zApP00SFum85st70/SzFd9VpUZRyeHAqYNqTalPCRZNJ2/OvnGwR2BMv/G\n",
       "D4AD875kI9yTEnnmvcyawyz5J+OxTurMEfzi5ptd0SsYTsWLw5NGttYBb8xfmeo48eeZrYa7wMLK\n",
       "ZtM9A5D4Ott8+CD6eUyc7jz1dXq+VJecALjc8xW9AXPcGTgaTlM9sUrxzXSqTrf57fINH93QznQx\n",
       "VVH2YpUppplbDLwRtUBV7Eozrl5u+cpsqqRgiWarWwTa1Hytw6TZbzHkn5nKZZh1Dp7cOHyhq4nu\n",
       "of0qP9//RjWPgRMlAuXpajnY0/hk23c7MfwA+gcOnpw92blxjJiLNXxb5M2yQT0lH3meXmCR6FzY\n",
       "IWbM3RPyQrUk5zyDSKZ+ldrXRRd2ylw008b/nzLUwTqDSKaJTVb1LggVTeRi/wCTbqEcktiIwgAA\n",
       "AABJRU5ErkJggg==\n",
       "\" style=\"display:inline;vertical-align:middle;\" /></a></span></td></tr>\n",
       "<tr><td>&nbsp;</td><td colspan=4 style-\"text-align:left\"><a class=\"ProveItLink\" href=\"../../axioms.ipynb#equals_transitivity\">proveit.logic.equality.equals_transitivity</a></td></tr><tr><td><a name=\"-0x37ba5e744404082c_step5\">5</a></td><td>instantiation</td><td><a href=\"#-0x37ba5e744404082c_step7\">7</a>, <a href=\"#-0x37ba5e744404082c_step8\">8</a></td><td><span style=\"font-size:20px;\"><a class=\"ProveItLink\" href=\"../../../__pv_it/theorems/e2ce83a51e2046fa0ee7bc480295cea581540bf50/expr.ipynb\"><img src=\"data:image/png;base64,iVBORw0KGgoAAAANSUhEUgAAADMAAAAJBAMAAABtbgnSAAAAMFBMVEX///8AAAAAAAAAAAAAAAAA\n",
       "AAAAAAAAAAAAAAAAAAAAAAAAAAAAAAAAAAAAAAAAAAAv3aB7AAAAD3RSTlMAEHarMolUmd1mIs3v\n",
       "RLtmgJDEAAAACXBIWXMAAA7EAAAOxAGVKw4bAAAAhklEQVQI12NgEFIWCU1gQAVcploKQKqAyYi9\n",
       "AUizd4CBAUjqzgK+jwwMnAs4PzJPQNXEeJIBpJqFgX0DmnEM7B8YOAJADB4FdCmeBwzyF0CM+wsY\n",
       "BVDtkldgmA+k5C7YMLCi6ZJPYLBmW8CQ71jDcA1Nik+BrZ2dgUFcia0S3VuMRiGLVRgA3+kdu/np\n",
       "SvQAAAAASUVORK5CYII=\n",
       "\" style=\"display:inline;vertical-align:middle;\" /></a> <a class=\"ProveItLink\" href=\"../../../__pv_it/_proof_unary_evaluation/675796dcd796767aa0096afc9a6e87a2da8fda530/proof.ipynb\" style=\"text-decoration: none\">&nbsp;&#x22A2;&nbsp;&nbsp;</a><a class=\"ProveItLink\" href=\"../../../__pv_it/_proof_unary_evaluation/cfdf46178f7a1101f8d0d4eafe150216473805130/expr.ipynb\"><img src=\"data:image/png;base64,iVBORw0KGgoAAAANSUhEUgAAAHAAAAAVBAMAAABs93eRAAAAMFBMVEX///8AAAAAAAAAAAAAAAAA\n",
       "AAAAAAAAAAAAAAAAAAAAAAAAAAAAAAAAAAAAAAAAAAAv3aB7AAAAD3RSTlMAmYkQqzLvVES73WZ2\n",
       "Is1wFLxSAAAACXBIWXMAAA7EAAAOxAGVKw4bAAABtUlEQVQ4y2NggANeKH2BATfgRVUKAcehdA8e\n",
       "jVA1HAfAFKOSAZBkV4BK8mzAogNNzWkwqRJWACTt4IoeY9GIpoYPZAxDeieIkoYr2ohFI5oabgGQ\n",
       "gz+D2QlwRWwGGPow1CQDMdMCEIv9AVyQD9OTGGpeA211WwKylxHob+YzzkHqQFUO6PqQ1DBc0bkD\n",
       "8jMQ8x+AWcPIcOSAFFAZ2GCpVSCwBKIToYYjl2E+0Cv7gNz7ASBBLmCo7WXYb+ANdFEChlMRasw2\n",
       "MADNZigD4npIiDQwMAQwyIGYrB8wNCLUyDMwLAIy44FYCy7IwJADDkJMGxFqMhmYfwCZbUA8hQHm\n",
       "DAaOvwzGQKcuwPAjXA3zHwZukIOqYLYwcB5gYJ7BksAADDjuCRg2ItR8Z2B5UMvAsBOY0n9AYsqB\n",
       "gf2rYQJHATTUUTMFXA3DHIYqAWDUCAEdBgkK1gUMzDIHCreDXNSArhGhhsHkUKwPMIhXAM2HRvdS\n",
       "uLJbmHkDXQ3vAoYSvgL0pC2Nrg9TDeMGhpWwrMIJy/m8GGGDqeYmA8MeWSibeQK6LBxgqpmLLH0H\n",
       "Sp/FU3RA1fBcYAAANyxqz0Ogxc0AAAAASUVORK5CYII=\n",
       "\" style=\"display:inline;vertical-align:middle;\" /></a></span></td></tr>\n",
       "<tr><td>&nbsp;</td><td colspan=4 style=\"text-align:left\"><span style=\"font-size:20px;\"><a class=\"ProveItLink\" href=\"../../../../../__pv_it/common/01b6dbb444a31fc38af4c2379badef6c75b363710/expr.ipynb\"><img src=\"data:image/png;base64,iVBORw0KGgoAAAANSUhEUgAAAAsAAAASBAMAAAB/WzlGAAAAMFBMVEX///8AAAAAAAAAAAAAAAAA\n",
       "AAAAAAAAAAAAAAAAAAAAAAAAAAAAAAAAAAAAAAAAAAAv3aB7AAAAD3RSTlMAmYkQqzLvVES73WZ2\n",
       "Is1wFLxSAAAACXBIWXMAAA7EAAAOxAGVKw4bAAAAUklEQVQI12NgYGBgVDIAkgwqYQUgKr0TxOP4\n",
       "DGIzMC0AkdxuSwRANP8BsOD9ADBVDyYZtCDUFAiVAyZ5f4Ap9g9gitEBRJbwgY1faQcW2yMLIgFk\n",
       "aQ2WW4Dm+QAAAABJRU5ErkJggg==\n",
       "\" style=\"display:inline;vertical-align:middle;\" /></a> : <a class=\"ProveItLink\" href=\"../../../../../__pv_it/common/01b6dbb444a31fc38af4c2379badef6c75b363710/expr.ipynb\"><img src=\"data:image/png;base64,iVBORw0KGgoAAAANSUhEUgAAAAsAAAASBAMAAAB/WzlGAAAAMFBMVEX///8AAAAAAAAAAAAAAAAA\n",
       "AAAAAAAAAAAAAAAAAAAAAAAAAAAAAAAAAAAAAAAAAAAv3aB7AAAAD3RSTlMAmYkQqzLvVES73WZ2\n",
       "Is1wFLxSAAAACXBIWXMAAA7EAAAOxAGVKw4bAAAAUklEQVQI12NgYGBgVDIAkgwqYQUgKr0TxOP4\n",
       "DGIzMC0AkdxuSwRANP8BsOD9ADBVDyYZtCDUFAiVAyZ5f4Ap9g9gitEBRJbwgY1faQcW2yMLIgFk\n",
       "aQ2WW4Dm+QAAAABJRU5ErkJggg==\n",
       "\" style=\"display:inline;vertical-align:middle;\" /></a>, <a class=\"ProveItLink\" href=\"../../../../../__pv_it/common/a0d9d672aa5e272d907247690c152cc2c6daafb70/expr.ipynb\"><img src=\"data:image/png;base64,iVBORw0KGgoAAAANSUhEUgAAAAsAAAAJBAMAAAAWSsseAAAAMFBMVEX///8AAAAAAAAAAAAAAAAA\n",
       "AAAAAAAAAAAAAAAAAAAAAAAAAAAAAAAAAAAAAAAAAAAv3aB7AAAAD3RSTlMAEHarMolUmd1mIs3v\n",
       "RLtmgJDEAAAACXBIWXMAAA7EAAAOxAGVKw4bAAAAQklEQVQI12NgEFIWCU1gYChgMmJvYOBcwPmR\n",
       "eQIDCwP7BgYQ4FEAU/cXMAowyF2wYWBlYMh3rGG4xsAgrsRWmcAAAFEjCyBvD0T9AAAAAElFTkSu\n",
       "QmCC\n",
       "\" style=\"display:inline;vertical-align:middle;\" /></a> : <a class=\"ProveItLink\" href=\"../../../../../__pv_it/common/a0d9d672aa5e272d907247690c152cc2c6daafb70/expr.ipynb\"><img src=\"data:image/png;base64,iVBORw0KGgoAAAANSUhEUgAAAAsAAAAJBAMAAAAWSsseAAAAMFBMVEX///8AAAAAAAAAAAAAAAAA\n",
       "AAAAAAAAAAAAAAAAAAAAAAAAAAAAAAAAAAAAAAAAAAAv3aB7AAAAD3RSTlMAEHarMolUmd1mIs3v\n",
       "RLtmgJDEAAAACXBIWXMAAA7EAAAOxAGVKw4bAAAAQklEQVQI12NgEFIWCU1gYChgMmJvYOBcwPmR\n",
       "eQIDCwP7BgYQ4FEAU/cXMAowyF2wYWBlYMh3rGG4xsAgrsRWmcAAAFEjCyBvD0T9AAAAAElFTkSu\n",
       "QmCC\n",
       "\" style=\"display:inline;vertical-align:middle;\" /></a>, <a class=\"ProveItLink\" href=\"../../../../../__pv_it/common/ff7dba4ef0bbe791ab573bf2d9c220a304399ac80/expr.ipynb\"><img src=\"data:image/png;base64,iVBORw0KGgoAAAANSUhEUgAAAAsAAAANBAMAAACN24kIAAAAMFBMVEX///8AAAAAAAAAAAAAAAAA\n",
       "AAAAAAAAAAAAAAAAAAAAAAAAAAAAAAAAAAAAAAAAAAAv3aB7AAAAD3RSTlMAEHaZZquJVO8y3btE\n",
       "zSKD2s2pAAAACXBIWXMAAA7EAAAOxAGVKw4bAAAAVklEQVQI12NgVHZgEGVgYGNvYPBnYJjOvIAh\n",
       "moFBgEOBoYmBgeG8AOdPIGXLwNQApLYycAcAKVOG8w5ASjTJ/gEDCOQCMdsFxnYgxaXAmgCk2J1s\n",
       "gCQAaFoNDtFIIdEAAAAASUVORK5CYII=\n",
       "\" style=\"display:inline;vertical-align:middle;\" /></a> : <a class=\"ProveItLink\" href=\"../../../../../__pv_it/common/c06c606ec12678c58933ac85412ecadc2ae28be60/expr.ipynb\"><img src=\"data:image/png;base64,iVBORw0KGgoAAAANSUhEUgAAAAsAAAAJBAMAAAAWSsseAAAAMFBMVEX///8AAAAAAAAAAAAAAAAA\n",
       "AAAAAAAAAAAAAAAAAAAAAAAAAAAAAAAAAAAAAAAAAAAv3aB7AAAAD3RSTlMAIquJdkTvuxBmmd1U\n",
       "zTKBpmoTAAAACXBIWXMAAA7EAAAOxAGVKw4bAAAARUlEQVQI12NgYFR2dGBgYAgTYP/BwMCRycC1\n",
       "gYGB6wMDtwEDA1sBQ38AA0O/A8N8oIr+Awy6PAIM7A48u7iAKlXshPwYAE2lCqdX0eXEAAAAAElF\n",
       "TkSuQmCC\n",
       "\" style=\"display:inline;vertical-align:middle;\" /></a></span></td></tr><tr><td><a name=\"-0x37ba5e744404082c_step6\">6</a></td><td>assumption</td><td></td><td><span style=\"font-size:20px;\"><a class=\"ProveItLink\" href=\"../../../__pv_it/theorems/2d343bb60e8399cc277146db71f2e42edd934b170/expr.ipynb\"><img src=\"data:image/png;base64,iVBORw0KGgoAAAANSUhEUgAAAE8AAAAVBAMAAAD1D64kAAAAMFBMVEX///8AAAAAAAAAAAAAAAAA\n",
       "AAAAAAAAAAAAAAAAAAAAAAAAAAAAAAAAAAAAAAAAAAAv3aB7AAAAD3RSTlMAmYkQqzLvVES73WZ2\n",
       "Is1wFLxSAAAACXBIWXMAAA7EAAAOxAGVKw4bAAABP0lEQVQoz2NggANeFAoPOA6hOA7gVMGoZAAk\n",
       "2RWg3NM4FaqEFQBJOxiXzwCXwvROkJQ0jMstgEMdx2cwlQAXSMahkGkBiGR/ABd4jV0dt9sSkF2M\n",
       "IL9c0bkDcjOGGp3TAUCSHxwefBuAjshlmA907j5wUKwCAwcQ+1YB4wQgdR+kmoEL6HOzDQxSQGYZ\n",
       "uoGLGNhAhtWDOWwNDAzyIDEGhnj0cIb4lkELrjCTgfkHkNmGppBtAoSewgC1mvkPA/cHILMKzY32\n",
       "0EjNAZOcBxiYvzOwPKhlYNiJZiI/0J9A+3h/QEITqHcOQ5UAMKiE0N04gYEJ6GH2D2AeKzDYTQ7F\n",
       "+gBFVqD7Wmn3YZB6BwhvKTxdLsAaMSV8BRDGRrhNG7AqXAlLXpwXoIyb2KN6jyyUwQwNLYa5hLLC\n",
       "HQjFcwGrLADM30SNwAWmAwAAAABJRU5ErkJggg==\n",
       "\" style=\"display:inline;vertical-align:middle;\" /></a> <a class=\"ProveItLink\" href=\"../../../__pv_it/_proof_unary_evaluation/9a34c94cb69ad06cfae164739f6c9a9162e242840/proof.ipynb\" style=\"text-decoration: none\">&nbsp;&#x22A2;&nbsp;&nbsp;</a><a class=\"ProveItLink\" href=\"../../../__pv_it/theorems/2d343bb60e8399cc277146db71f2e42edd934b170/expr.ipynb\"><img src=\"data:image/png;base64,iVBORw0KGgoAAAANSUhEUgAAAE8AAAAVBAMAAAD1D64kAAAAMFBMVEX///8AAAAAAAAAAAAAAAAA\n",
       "AAAAAAAAAAAAAAAAAAAAAAAAAAAAAAAAAAAAAAAAAAAv3aB7AAAAD3RSTlMAmYkQqzLvVES73WZ2\n",
       "Is1wFLxSAAAACXBIWXMAAA7EAAAOxAGVKw4bAAABP0lEQVQoz2NggANeFAoPOA6hOA7gVMGoZAAk\n",
       "2RWg3NM4FaqEFQBJOxiXzwCXwvROkJQ0jMstgEMdx2cwlQAXSMahkGkBiGR/ABd4jV0dt9sSkF2M\n",
       "IL9c0bkDcjOGGp3TAUCSHxwefBuAjshlmA907j5wUKwCAwcQ+1YB4wQgdR+kmoEL6HOzDQxSQGYZ\n",
       "uoGLGNhAhtWDOWwNDAzyIDEGhnj0cIb4lkELrjCTgfkHkNmGppBtAoSewgC1mvkPA/cHILMKzY32\n",
       "0EjNAZOcBxiYvzOwPKhlYNiJZiI/0J9A+3h/QEITqHcOQ5UAMKiE0N04gYEJ6GH2D2AeKzDYTQ7F\n",
       "+gBFVqD7Wmn3YZB6BwhvKTxdLsAaMSV8BRDGRrhNG7AqXAlLXpwXoIyb2KN6jyyUwQwNLYa5hLLC\n",
       "HQjFcwGrLADM30SNwAWmAwAAAABJRU5ErkJggg==\n",
       "\" style=\"display:inline;vertical-align:middle;\" /></a></span></td></tr>\n",
       "<tr><td><a name=\"-0x37ba5e744404082c_step7\">7</a></td><td>axiom</td><td></td><td><span style=\"font-size:20px;\"> <a class=\"ProveItLink\" href=\"../../axioms.ipynb#substitution\" style=\"text-decoration: none\">&nbsp;&#x22A2;&nbsp;&nbsp;</a><a class=\"ProveItLink\" href=\"../../../__pv_it/axioms/b3647e5bced6c805148d96be1aa0946871a946d20/expr.ipynb\"><img src=\"data:image/png;base64,iVBORw0KGgoAAAANSUhEUgAAAO8AAAAXBAMAAAARnwX+AAAAMFBMVEX///8AAAAAAAAAAAAAAAAA\n",
       "AAAAAAAAAAAAAAAAAAAAAAAAAAAAAAAAAAAAAAAAAAAv3aB7AAAAD3RSTlMAq1RmmUTNIjK7EInv\n",
       "3XZ/CtNrAAAACXBIWXMAAA7EAAAOxAGVKw4bAAAC/UlEQVRIx7VWTWgTURCeJLtpkk3SHDxYLCXi\n",
       "z0VLV1Chl1pp/aOCwYMnMYseBE/rUalYPUrFigexh7IFDxah1B48KJYgCKJUglDwEkixInoovVV6\n",
       "EOfN+9vsS1sT6MDMfvvmy5t5+97MC0Db4pu44z/4fuSnLUu+aGK7vj3/itACe9nXRuBDZEfeaIzy\n",
       "vRmzkZN3uZ5iL9dbj5vxmHV2v1eYSTIwmVHODa732NZMtB7YcpnNHphUmEli0GRGOUe5shydYuuB\n",
       "s2TLgcYkn0xmlJMNSBOYSbKNLT5I9l0Ik1wzmVFO0uW6WKt9biPwCDNHFndJPLv84i1+uFcGUXMy\n",
       "Ky5M4/ctcD0LMLnZ7IObB+ZL+6vwYL7HqgIcp/2vkRSgkePEK3ACz4HH9SZ0MEZm2DVn3+LQfaWG\n",
       "8UfihJ/YiOEMhw2i5tzHzLoAMDxpOnBK6EgfG2sp8Adm4msSp8CienlkEDUnyNbhC1LXuMbrdLY6\n",
       "m1TgtoGdqsZZ6lqXzTLWnHKQwuXbFa7gDbC8uueZe/XMCvZRexliocB8kFqidIhPnS5oXPYzmHuv\n",
       "scchzmnIs89c5QrzrJVAP7UzvyuJR3O2MxjXgWnw3DMUVzkApvQqGZ4pdYMjp2kseMWBx5RFYoIr\n",
       "jFJKw9R4YCqFj9u98EsHFoMQdoi6uVuSuO/Bebgoq6xBNAdOQhnPnzXHFWJ0qp5w2jrZPdAT3uN1\n",
       "NYt0ADxkpk/h56vxIdb/lozAmgPTCxdwz3IlrkI+kk1V6EpdEq8TapB/auXAn47REjTmtVM1Ajdw\n",
       "XqPeESoumw2AlzDqeBY+4Ju9pgPToBDpoOsgXrgavRqsaDMIcxwvw+6pIaEgVgUwXrR+LPzGB+zv\n",
       "93RgGhQiHShPITfpKSzkVnS9YU6uHpvjV2HoOqSkxSVVzPhpt2kdKwfKDCRklSGOZqDmDXHiA+zy\n",
       "T/tcuaT34hbYvIfYQax+qXkDUQ62naG/ORLnt/gzJTk/hYr2skp1w5MEe2CueWDl2Gnxd27qf2UN\n",
       "1FvBvR7LAAAAAElFTkSuQmCC\n",
       "\" style=\"display:inline;vertical-align:middle;\" /></a></span></td></tr>\n",
       "<tr><td>&nbsp;</td><td colspan=4 style-\"text-align:left\"><a class=\"ProveItLink\" href=\"../../axioms.ipynb#substitution\">proveit.logic.equality.substitution</a></td></tr><tr><td><a name=\"-0x37ba5e744404082c_step8\">8</a></td><td>assumption</td><td></td><td><span style=\"font-size:20px;\"><a class=\"ProveItLink\" href=\"../../../__pv_it/theorems/e2ce83a51e2046fa0ee7bc480295cea581540bf50/expr.ipynb\"><img src=\"data:image/png;base64,iVBORw0KGgoAAAANSUhEUgAAADMAAAAJBAMAAABtbgnSAAAAMFBMVEX///8AAAAAAAAAAAAAAAAA\n",
       "AAAAAAAAAAAAAAAAAAAAAAAAAAAAAAAAAAAAAAAAAAAv3aB7AAAAD3RSTlMAEHarMolUmd1mIs3v\n",
       "RLtmgJDEAAAACXBIWXMAAA7EAAAOxAGVKw4bAAAAhklEQVQI12NgEFIWCU1gQAVcploKQKqAyYi9\n",
       "AUizd4CBAUjqzgK+jwwMnAs4PzJPQNXEeJIBpJqFgX0DmnEM7B8YOAJADB4FdCmeBwzyF0CM+wsY\n",
       "BVDtkldgmA+k5C7YMLCi6ZJPYLBmW8CQ71jDcA1Nik+BrZ2dgUFcia0S3VuMRiGLVRgA3+kdu/np\n",
       "SvQAAAAASUVORK5CYII=\n",
       "\" style=\"display:inline;vertical-align:middle;\" /></a> <a class=\"ProveItLink\" href=\"../../../__pv_it/_proof_unary_evaluation/f1567afed2342c39c07cc30b3cf166a45e4fb1bb0/proof.ipynb\" style=\"text-decoration: none\">&nbsp;&#x22A2;&nbsp;&nbsp;</a><a class=\"ProveItLink\" href=\"../../../__pv_it/theorems/e2ce83a51e2046fa0ee7bc480295cea581540bf50/expr.ipynb\"><img src=\"data:image/png;base64,iVBORw0KGgoAAAANSUhEUgAAADMAAAAJBAMAAABtbgnSAAAAMFBMVEX///8AAAAAAAAAAAAAAAAA\n",
       "AAAAAAAAAAAAAAAAAAAAAAAAAAAAAAAAAAAAAAAAAAAv3aB7AAAAD3RSTlMAEHarMolUmd1mIs3v\n",
       "RLtmgJDEAAAACXBIWXMAAA7EAAAOxAGVKw4bAAAAhklEQVQI12NgEFIWCU1gQAVcploKQKqAyYi9\n",
       "AUizd4CBAUjqzgK+jwwMnAs4PzJPQNXEeJIBpJqFgX0DmnEM7B8YOAJADB4FdCmeBwzyF0CM+wsY\n",
       "BVDtkldgmA+k5C7YMLCi6ZJPYLBmW8CQ71jDcA1Nik+BrZ2dgUFcia0S3VuMRiGLVRgA3+kdu/np\n",
       "SvQAAAAASUVORK5CYII=\n",
       "\" style=\"display:inline;vertical-align:middle;\" /></a></span></td></tr>\n",
       "</table>"
      ],
      "text/plain": [
       "\tstep type\trequirements\tstatement\n",
       "0\tgeneralization\t1\t|- forall_{f, x, a, c} ((x = a) => ((f(a) = c) => (f(x) = c)))\n",
       "1\tdeduction\t2\t|- (x = a) => ((f(a) = c) => (f(x) = c))\n",
       "2\tdeduction\t3\t{x = a} |- (f(a) = c) => (f(x) = c)\n",
       "3\tinstantiation\t4, 5, 6\t{x = a, f(a) = c} |- f(x) = c\n",
       "\tx : f(x), y : f(a), z : c\n",
       "4\taxiom\t\t|- forall_{x, y, z | x = y, y = z} (x = z)\n",
       "\tproveit.logic.equality.equals_transitivity\n",
       "5\tinstantiation\t7, 8\t{x = a} |- f(x) = f(a)\n",
       "\tf : f, x : x, y : a\n",
       "6\tassumption\t\t{f(a) = c} |- f(a) = c\n",
       "7\taxiom\t\t|- forall_{f, x, y | x = y} (f(x) = f(y))\n",
       "\tproveit.logic.equality.substitution\n",
       "8\tassumption\t\t{x = a} |- x = a"
      ]
     },
     "execution_count": 8,
     "metadata": {},
     "output_type": "execute_result"
    }
   ],
   "source": [
    "%qed"
   ]
  },
  {
   "cell_type": "code",
   "execution_count": null,
   "metadata": {},
   "outputs": [],
   "source": []
  }
 ],
 "metadata": {
  "kernelspec": {
   "display_name": "Python 3",
   "language": "python",
   "name": "python3"
  }
 },
 "nbformat": 4,
 "nbformat_minor": 0
}