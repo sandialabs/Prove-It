{
 "cells": [
  {
   "cell_type": "markdown",
   "metadata": {},
   "source": [
    "Proof of <a class=\"ProveItLink\" href=\"../../../../../_theory_nbs_/theory.ipynb\">proveit</a>.<a class=\"ProveItLink\" href=\"../../../../_theory_nbs_/theory.ipynb\">logic</a>.<a class=\"ProveItLink\" href=\"../../theory.ipynb\">equality</a>.<a class=\"ProveItLink\" href=\"../../theorems.ipynb#binary_evaluation\">binary_evaluation</a> theorem\n",
    "========"
   ]
  },
  {
   "cell_type": "code",
   "execution_count": 1,
   "metadata": {},
   "outputs": [],
   "source": [
    "import proveit\n",
    "theory = proveit.Theory() # the theorem's theory"
   ]
  },
  {
   "cell_type": "code",
   "execution_count": 2,
   "metadata": {},
   "outputs": [
    {
     "data": {
      "text/html": [
       "With these <a href=\"allowed_presumptions.txt\">allowed</a>/<a href=\"disallowed_presumptions.txt\">disallowed</a> theorem/theory presumptions (e.g., to avoid circular dependencies), we begin our proof of<br><strong id=\"binary_evaluation\">binary_evaluation:</strong> <a class=\"ProveItLink\" href=\"../../../__pv_it/theorems/46cafef871327314b94012630a8e6fb1dc2ec0370/expr.ipynb\"><img src=\"data:image/png;base64,iVBORw0KGgoAAAANSUhEUgAAAlEAAAAXBAMAAADZzAe1AAAAMFBMVEX///8AAAAAAAAAAAAAAAAA\n",
       "AAAAAAAAAAAAAAAAAAAAAAAAAAAAAAAAAAAAAAAAAAAv3aB7AAAAD3RSTlMAq1RmmUTNIjK7EInv\n",
       "3XZ/CtNrAAAACXBIWXMAAA7EAAAOxAGVKw4bAAAGYElEQVRYw+1YbahURRh+9+zu3XPOfrhgRKXI\n",
       "SuaPvryWfdiP67X1o5D0gr8y8V4skOzP+kcIUrf+RYYrfRj+iGOEYQZ31TBJlOWG0AfKKmllCMcU\n",
       "bhSIWOHFQJqZ952zM3PmHN3+1gvP2TOz533mmXfmvDNnAP6FNQiF9EduVUNWSGZqGH4Ni6ud8BbV\n",
       "tyuvYRHRh1VqCPgl+Zl1Nie75UNESkNJHHY3e62q1iJmXWI3JKq84t6+IvUAwWmnRHPQ4hS3fSfZ\n",
       "5RIhsSGAFV/GOCLXuFlrUW3uaGAXExMc1Uos5RUb+gmUP4aAvWlPbaTfgz0nm73EMBAgEhuC4l0T\n",
       "cQ7pGjdrLao9sL2WIGZjYjcIr/M3uNVPpHKDCKinPbWAenuu52SzawzZYURiQ1C6b3ecQ7rGzVqL\n",
       "aieeDxLELEjsBoHHv1jrJ1IlAnRSn8JxrcwfiZxsKeUGv35LINttNgSjQZyj5xo3CxmqRadSimBL\n",
       "LSHL4jvQV5qaS3DG0p4awHEru63IyWLFLr++SCB702gI4JiFo+caNwsZqkWnuSmCLbUSJy9c+K6v\n",
       "SK0g5FiK9K/c89ZBczWeMckWn2KVkvIG6eRfHoQ9ppBZF9l8PgAI+fK09YZg/sk7ZBnJdVc9gFee\n",
       "tJJxtZCdeXqYiHrKSRcJVuz4paaolXhGmaG3ZXIG8DDn4GL4HNdxQZhobG3DY3M8izNuA8yRTkWn\n",
       "A4v4/XPi2dP8dnyjfx3gcUBImj/1hgBuRmUk111VwsIZeNZKhlNmWiiJpPJIlxCs9mNLLdcStRKb\n",
       "oFDtK1JnCGU2pE/AomC6sWJ9BTk2xx2RF9wqlANyeoNV321wzQvgFMCDgIgW9PVaQ1CYkmUi111V\n",
       "K7fNWiIri1y8rSmJe8pJl2Om3Z+hFIpaCS8o8qTrL0lYncB9WS+fIJSYWxOWxVasq1wuuFd5IdOE\n",
       "SkhOAWv4lPEw8/4bYAcgeiv6CbUhcK7Kholcd1VtlRgXC1lJrCzzoh70lJMuFKz0Q8xdXivhhCKh\n",
       "e481kybRjORIQazvUGrBOPsn36FNjN+VTqOBOxUbtzxb7NcCIsp0rzS0SGEe5vdErruq9o24WshQ\n",
       "7bGoB4py1JXvxPoBWCsBY0PiDQ4SX7evk98+yF+HT/X3ezwU2cjpyn3n09JpGVQ6Rlq5JobuIUBI\n",
       "mnMN/e3zqrJM5LqrQuhjRrOQ4du3MyKWyiNdQrDeD+qGBBzke1BnJu9U5fLW5fwrp4ofOfuHvuAT\n",
       "8OZFHsXiJVp0PiR4IfjvZTpgfNOM1+BOpwFZMSScf7N02im73LMp+Iy99AsBIXdKLb0hni+ojOS+\n",
       "7qraH8zdSuaFvXnEiEi5D5GurLH9nsbYR0StBLwm5AvyyUyL5T8/vOHywfd/cK/z8J2v8KX1rEvT\n",
       "U67pbOF0pj7u5I1tqxc63+fkqszleU1yWAyjZi6cDu+q2wG0zaA3BNtGZBnJx8c0V9XYwnfESiY2\n",
       "AYW/JBEpF0yoK2eMOFv4ik1RK8GzLrMl/DLohaxQ+Khb4SHMDYvgeIN8icy1fEpkbxPcLvgrwzmP\n",
       "mF9rs45s+pXNdt67DJ+MbkgOe46vMk8v9nzOY3eWQPYB6A1RHub3SF4+r7lq26lDQ4GVzO32lgZO\n",
       "hMqRSegqjxhURx/9DWslyN7BKSe6kmlnQpEEK3wgSs1cVWZE8cY3EfBj2l5ii7F6izAfth8cdRHm\n",
       "UVHU0GKVg9v9qqudMHbuxNXmqgYRMR2OC1a6sUX/F9P2dsFcHilxrvGG9xQboGlQqskYgvpBuyAt\n",
       "UvXYR2txzJ9I/+S2fOgyONX15odvW3W1E9q+dWcP1MwvaMZEuuqJ3ahr//o3wG8XOodh2G+zmI+y\n",
       "dA6lxo7VwX62dVzICgMjkb5dBC/lJDB2PLELymHGfqD1KiFm2FB595hSFmJD1dVOGDOm9qe9BpFg\n",
       "Ql328xReKyFf4w64E7DyhSsB+3Hq77PpVcvXHz7EftyVIbsW6kNyH7GP4Kcc1sSiuA+coaX2Z3ep\n",
       "2nUfjuzlhlIWBxSaq50wftrVgqHlBpFgQl32Yee1EspMd2j7D5+IrEVrWk25UqBDBGxNjtRkbHTC\n",
       "xOPRBsIyoqHuF+Owu9lrVbUWMZOJ3ZjU/vVms8S0Bu/XwKw8m+95nEL4kw/gf6OzCr5HwPtBWP07\n",
       "n2U02ZTrf9r+AVF/KZLkSw+CAAAAAElFTkSuQmCC\n",
       "\" style=\"display:inline;vertical-align:middle;\" /></a><br>(see <a class=\"ProveItLink\" href=\"../../../__pv_it/theorems/e05283bb0c598ba8a65ccb438317bb6c22d8ef9d0/dependencies.ipynb\">dependencies</a>)<br>"
      ],
      "text/plain": [
       "<IPython.core.display.HTML object>"
      ]
     },
     "metadata": {},
     "output_type": "display_data"
    }
   ],
   "source": [
    "%proving binary_evaluation"
   ]
  },
  {
   "cell_type": "code",
   "execution_count": null,
   "metadata": {},
   "outputs": [],
   "source": []
  }
 ],
 "metadata": {
  "kernelspec": {
   "display_name": "Python 3",
   "language": "python",
   "name": "python3"
  }
 },
 "nbformat": 4,
 "nbformat_minor": 0
}