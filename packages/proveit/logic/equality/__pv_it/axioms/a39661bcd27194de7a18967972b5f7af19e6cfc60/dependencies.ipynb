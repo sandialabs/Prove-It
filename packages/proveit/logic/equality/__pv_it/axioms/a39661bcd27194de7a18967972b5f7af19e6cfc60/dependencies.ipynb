{
 "cells": [
  {
   "cell_type": "markdown",
   "metadata": {},
   "source": [
    "Axiom Dependencies\n",
    "=======================\n",
    "\n",
    "## <a class=\"ProveItLink\" href=\"../../../_theory_nbs_/theory.ipynb\">proveit.logic.equality</a>.<a class=\"ProveItLink\" href=\"../../../_axioms_.ipynb#equality_in_bool\">equality_in_bool</a> \n"
   ]
  },
  {
   "cell_type": "code",
   "execution_count": 1,
   "metadata": {},
   "outputs": [],
   "source": [
    "import proveit\n",
    "# Automation is not needed when querying dependencies:\n",
    "proveit.defaults.automation = False # This will speed things up.\n",
    "proveit.defaults.inline_pngs = False # Makes files smaller.\n",
    "from proveit.logic.equality import equality_in_bool"
   ]
  },
  {
   "cell_type": "code",
   "execution_count": 2,
   "metadata": {},
   "outputs": [
    {
     "data": {
      "text/html": [
       "<h3>Theorems/conjectures that depend directly on equality_in_bool</h3>"
      ],
      "text/plain": [
       "<IPython.core.display.HTML object>"
      ]
     },
     "metadata": {},
     "output_type": "display_data"
    },
    {
     "data": {
      "text/html": [
       "<dl>"
      ],
      "text/plain": [
       "<IPython.core.display.HTML object>"
      ]
     },
     "metadata": {},
     "output_type": "display_data"
    },
    {
     "data": {
      "text/html": [
       "<dt><a class=\"ProveItLink\" href=\"../../../../booleans/disjunction/_theory_nbs_/proofs/or_if_left/thm_proof.ipynb\">proveit.logic.booleans.disjunction.or_if_left</a></dt><dd><a class=\"ProveItLink\" href=\"../../../../booleans/disjunction/__pv_it/theorems/5908b2ceb25451eff4faa99595d3cf5e97ec5c250/expr.ipynb\"><img src=\"../../../../booleans/disjunction/__pv_it/theorems/5908b2ceb25451eff4faa99595d3cf5e97ec5c250/expr.png\" style=\"display:inline;vertical-align:middle;\" /></a></dd>"
      ],
      "text/plain": [
       "<IPython.core.display.HTML object>"
      ]
     },
     "metadata": {},
     "output_type": "display_data"
    },
    {
     "data": {
      "text/html": [
       "<dt><a class=\"ProveItLink\" href=\"../../../../booleans/disjunction/_theory_nbs_/proofs/or_if_right/thm_proof.ipynb\">proveit.logic.booleans.disjunction.or_if_right</a></dt><dd><a class=\"ProveItLink\" href=\"../../../../booleans/disjunction/__pv_it/theorems/e261296d68d73dde13ddb92fc09190a5d25c15470/expr.ipynb\"><img src=\"../../../../booleans/disjunction/__pv_it/theorems/e261296d68d73dde13ddb92fc09190a5d25c15470/expr.png\" style=\"display:inline;vertical-align:middle;\" /></a></dd>"
      ],
      "text/plain": [
       "<IPython.core.display.HTML object>"
      ]
     },
     "metadata": {},
     "output_type": "display_data"
    },
    {
     "data": {
      "text/html": [
       "<dt><a class=\"ProveItLink\" href=\"../../../../booleans/disjunction/_theory_nbs_/proofs/singular_constructive_dilemma/thm_proof.ipynb\">proveit.logic.booleans.disjunction.singular_constructive_dilemma</a></dt><dd><a class=\"ProveItLink\" href=\"../../../../booleans/disjunction/__pv_it/theorems/f809f331dab9bb767cdac3d0ee485f302aa77c2c0/expr.ipynb\"><img src=\"../../../../booleans/disjunction/__pv_it/theorems/f809f331dab9bb767cdac3d0ee485f302aa77c2c0/expr.png\" style=\"display:inline;vertical-align:middle;\" /></a></dd>"
      ],
      "text/plain": [
       "<IPython.core.display.HTML object>"
      ]
     },
     "metadata": {},
     "output_type": "display_data"
    },
    {
     "data": {
      "text/html": [
       "<dt><a class=\"ProveItLink\" href=\"../../../../booleans/implication/_theory_nbs_/proofs/falsified_antecedent_implication/thm_proof.ipynb\">proveit.logic.booleans.implication.falsified_antecedent_implication</a></dt><dd><a class=\"ProveItLink\" href=\"../../../../booleans/implication/__pv_it/theorems/28929e1faa0d6cd913a00023d42a5ba1e5cedce10/expr.ipynb\"><img src=\"../../../../booleans/implication/__pv_it/theorems/28929e1faa0d6cd913a00023d42a5ba1e5cedce10/expr.png\" style=\"display:inline;vertical-align:middle;\" /></a></dd>"
      ],
      "text/plain": [
       "<IPython.core.display.HTML object>"
      ]
     },
     "metadata": {},
     "output_type": "display_data"
    },
    {
     "data": {
      "text/html": [
       "<dt><a class=\"ProveItLink\" href=\"../../../../booleans/implication/_theory_nbs_/proofs/not_true_via_contradiction/thm_proof.ipynb\">proveit.logic.booleans.implication.not_true_via_contradiction</a></dt><dd><a class=\"ProveItLink\" href=\"../../../../booleans/implication/__pv_it/theorems/040105f44853f8e69b16187e7288f505320739250/expr.ipynb\"><img src=\"../../../../booleans/implication/__pv_it/theorems/040105f44853f8e69b16187e7288f505320739250/expr.png\" style=\"display:inline;vertical-align:middle;\" /></a></dd>"
      ],
      "text/plain": [
       "<IPython.core.display.HTML object>"
      ]
     },
     "metadata": {},
     "output_type": "display_data"
    },
    {
     "data": {
      "text/html": [
       "<dt><a class=\"ProveItLink\" href=\"../../../../booleans/implication/_theory_nbs_/proofs/untrue_antecedent_implication/thm_proof.ipynb\">proveit.logic.booleans.implication.untrue_antecedent_implication</a></dt><dd><a class=\"ProveItLink\" href=\"../../../../booleans/implication/__pv_it/theorems/f83ccfee3596e58a431052e5ba0ac7335ac95e5d0/expr.ipynb\"><img src=\"../../../../booleans/implication/__pv_it/theorems/f83ccfee3596e58a431052e5ba0ac7335ac95e5d0/expr.png\" style=\"display:inline;vertical-align:middle;\" /></a></dd>"
      ],
      "text/plain": [
       "<IPython.core.display.HTML object>"
      ]
     },
     "metadata": {},
     "output_type": "display_data"
    },
    {
     "data": {
      "text/html": [
       "<dt><a class=\"ProveItLink\" href=\"../../../../booleans/_theory_nbs_/proofs/in_bool_is_bool/thm_proof.ipynb\">proveit.logic.booleans.in_bool_is_bool</a></dt><dd><a class=\"ProveItLink\" href=\"../../../../booleans/__pv_it/theorems/6c3106b5475fdac800784959cc56ad8361fa8c2e0/expr.ipynb\"><img src=\"../../../../booleans/__pv_it/theorems/6c3106b5475fdac800784959cc56ad8361fa8c2e0/expr.png\" style=\"display:inline;vertical-align:middle;\" /></a></dd>"
      ],
      "text/plain": [
       "<IPython.core.display.HTML object>"
      ]
     },
     "metadata": {},
     "output_type": "display_data"
    },
    {
     "data": {
      "text/html": [
       "<dt><a class=\"ProveItLink\" href=\"../../../../booleans/quantification/existence/_theory_nbs_/proofs/skolem_elim/thm_proof.ipynb\">proveit.logic.booleans.quantification.existence.skolem_elim</a></dt><dd><a class=\"ProveItLink\" href=\"../../../../booleans/quantification/existence/__pv_it/theorems/9beba9dc90ce45f74ce57850d0919ac07daf835d0/expr.ipynb\"><img src=\"../../../../booleans/quantification/existence/__pv_it/theorems/9beba9dc90ce45f74ce57850d0919ac07daf835d0/expr.png\" style=\"display:inline;vertical-align:middle;\" /></a></dd>"
      ],
      "text/plain": [
       "<IPython.core.display.HTML object>"
      ]
     },
     "metadata": {},
     "output_type": "display_data"
    },
    {
     "data": {
      "text/html": [
       "<dt><a class=\"ProveItLink\" href=\"../../../../booleans/quantification/existence/_theory_nbs_/proofs/skolem_elim_lemma/thm_proof.ipynb\">proveit.logic.booleans.quantification.existence.skolem_elim_lemma</a></dt><dd><a class=\"ProveItLink\" href=\"../../../../booleans/quantification/existence/__pv_it/theorems/ddee0e527ffaa944d5a3e6546d2ca6a3da31ec620/expr.ipynb\"><img src=\"../../../../booleans/quantification/existence/__pv_it/theorems/ddee0e527ffaa944d5a3e6546d2ca6a3da31ec620/expr.png\" style=\"display:inline;vertical-align:middle;\" /></a></dd>"
      ],
      "text/plain": [
       "<IPython.core.display.HTML object>"
      ]
     },
     "metadata": {},
     "output_type": "display_data"
    },
    {
     "data": {
      "text/html": [
       "<dt><a class=\"ProveItLink\" href=\"../../../_theory_nbs_/proofs/not_equals_is_bool/thm_proof.ipynb\">proveit.logic.equality.not_equals_is_bool</a></dt><dd><a class=\"ProveItLink\" href=\"../../theorems/7b9714563444d40e07e33d45879be345e238e5370/expr.ipynb\"><img src=\"../../theorems/7b9714563444d40e07e33d45879be345e238e5370/expr.png\" style=\"display:inline;vertical-align:middle;\" /></a></dd>"
      ],
      "text/plain": [
       "<IPython.core.display.HTML object>"
      ]
     },
     "metadata": {},
     "output_type": "display_data"
    },
    {
     "data": {
      "text/html": [
       "<dt><a class=\"ProveItLink\" href=\"../../../../sets/enumeration/_theory_nbs_/proofs/in_singleton_is_bool/thm_proof.ipynb\">proveit.logic.sets.enumeration.in_singleton_is_bool</a></dt><dd><a class=\"ProveItLink\" href=\"../../../../sets/enumeration/__pv_it/theorems/ab5655a49c623859a813e586fecab8d3310b06c10/expr.ipynb\"><img src=\"../../../../sets/enumeration/__pv_it/theorems/ab5655a49c623859a813e586fecab8d3310b06c10/expr.png\" style=\"display:inline;vertical-align:middle;\" /></a></dd>"
      ],
      "text/plain": [
       "<IPython.core.display.HTML object>"
      ]
     },
     "metadata": {},
     "output_type": "display_data"
    },
    {
     "data": {
      "text/html": [
       "<dt><a class=\"ProveItLink\" href=\"../../../../sets/enumeration/_theory_nbs_/proofs/singleton_def/thm_proof.ipynb\">proveit.logic.sets.enumeration.singleton_def</a></dt><dd><a class=\"ProveItLink\" href=\"../../../../sets/enumeration/__pv_it/theorems/296779bc6f9fdbba88287df23d1773ef33af3efb0/expr.ipynb\"><img src=\"../../../../sets/enumeration/__pv_it/theorems/296779bc6f9fdbba88287df23d1773ef33af3efb0/expr.png\" style=\"display:inline;vertical-align:middle;\" /></a></dd>"
      ],
      "text/plain": [
       "<IPython.core.display.HTML object>"
      ]
     },
     "metadata": {},
     "output_type": "display_data"
    },
    {
     "data": {
      "text/html": [
       "<dt><a class=\"ProveItLink\" href=\"../../../../../physics/quantum/QPE/_theory_nbs_/proofs/_best_guarantee/thm_proof.ipynb\">proveit.physics.quantum.QPE._best_guarantee</a></dt><dd><a class=\"ProveItLink\" href=\"../../../../../physics/quantum/QPE/__pv_it/theorems/fc97bbf53a0eacfbb4c8cfa1990ab1578e0ba7bf0/expr.ipynb\"><img src=\"../../../../../physics/quantum/QPE/__pv_it/theorems/fc97bbf53a0eacfbb4c8cfa1990ab1578e0ba7bf0/expr.png\" style=\"display:inline;vertical-align:middle;\" /></a></dd>"
      ],
      "text/plain": [
       "<IPython.core.display.HTML object>"
      ]
     },
     "metadata": {},
     "output_type": "display_data"
    },
    {
     "data": {
      "text/html": [
       "<dt><a class=\"ProveItLink\" href=\"../../../../../physics/quantum/QPE/_theory_nbs_/proofs/_delta_b_is_zero_or_non_int/thm_proof.ipynb\">proveit.physics.quantum.QPE._delta_b_is_zero_or_non_int</a></dt><dd><a class=\"ProveItLink\" href=\"../../../../../physics/quantum/QPE/__pv_it/theorems/7b1e38c84df2b01305024ef242bd49d4034b64bf0/expr.ipynb\"><img src=\"../../../../../physics/quantum/QPE/__pv_it/theorems/7b1e38c84df2b01305024ef242bd49d4034b64bf0/expr.png\" style=\"display:inline;vertical-align:middle;\" /></a></dd>"
      ],
      "text/plain": [
       "<IPython.core.display.HTML object>"
      ]
     },
     "metadata": {},
     "output_type": "display_data"
    },
    {
     "data": {
      "text/html": [
       "<dt><a class=\"ProveItLink\" href=\"../../../../../physics/quantum/QPE/_theory_nbs_/proofs/_scaled_delta_b_is_zero_or_non_int/thm_proof.ipynb\">proveit.physics.quantum.QPE._scaled_delta_b_is_zero_or_non_int</a></dt><dd><a class=\"ProveItLink\" href=\"../../../../../physics/quantum/QPE/__pv_it/theorems/b77d4fbf7a9efe9c1e09a239e7a87d056083f4ac0/expr.ipynb\"><img src=\"../../../../../physics/quantum/QPE/__pv_it/theorems/b77d4fbf7a9efe9c1e09a239e7a87d056083f4ac0/expr.png\" style=\"display:inline;vertical-align:middle;\" /></a></dd>"
      ],
      "text/plain": [
       "<IPython.core.display.HTML object>"
      ]
     },
     "metadata": {},
     "output_type": "display_data"
    },
    {
     "data": {
      "text/html": [
       "<dt><a class=\"ProveItLink\" href=\"../../../../../physics/quantum/QPE/_theory_nbs_/proofs/_scaled_delta_b_not_eq_nonzeroInt/thm_proof.ipynb\">proveit.physics.quantum.QPE._scaled_delta_b_not_eq_nonzeroInt</a></dt><dd><a class=\"ProveItLink\" href=\"../../../../../physics/quantum/QPE/__pv_it/theorems/55c52b0dda7ff4e74258b575d93ebd6d2f0ff9c00/expr.ipynb\"><img src=\"../../../../../physics/quantum/QPE/__pv_it/theorems/55c52b0dda7ff4e74258b575d93ebd6d2f0ff9c00/expr.png\" style=\"display:inline;vertical-align:middle;\" /></a></dd>"
      ],
      "text/plain": [
       "<IPython.core.display.HTML object>"
      ]
     },
     "metadata": {},
     "output_type": "display_data"
    },
    {
     "data": {
      "text/html": [
       "</dl>"
      ],
      "text/plain": [
       "<IPython.core.display.HTML object>"
      ]
     },
     "metadata": {},
     "output_type": "display_data"
    }
   ],
   "source": [
    "%dependencies equality_in_bool"
   ]
  }
 ],
 "metadata": {
  "kernelspec": {
   "display_name": "Python 3",
   "language": "python",
   "name": "python3"
  }
 },
 "nbformat": 4,
 "nbformat_minor": 0
}