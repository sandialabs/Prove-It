{
 "cells": [
  {
   "cell_type": "markdown",
   "metadata": {},
   "source": [
    "Show the Proof\n",
    "========"
   ]
  },
  {
   "cell_type": "code",
   "execution_count": 1,
   "metadata": {},
   "outputs": [
    {
     "data": {
      "text/html": [
       "<table><tr><th>&nbsp;</th><th>step type</th><th>requirements</th><th>statement</th></tr>\n",
       "<tr><td><a name=\"proveit.logic.equality._proof_unfold_not_equals.6f1f1e4f9ec266689da9d00b235c320db188dff50_step0\">0</a></td><td>generalization</td><td><a href=\"#proveit.logic.equality._proof_unfold_not_equals.6f1f1e4f9ec266689da9d00b235c320db188dff50_step1\">1</a></td><td><span style=\"font-size:20px;\"> <a class=\"ProveItLink\" href=\"proof.ipynb\" style=\"text-decoration: none\">&nbsp;&#x22A2;&nbsp;&nbsp;</a><a class=\"ProveItLink\" href=\"../../theorems/e42f6f162f844bb3f18b6f3cc764b6573b311a9d0/expr.ipynb\"><img src=\"../../theorems/e42f6f162f844bb3f18b6f3cc764b6573b311a9d0/expr.png\" style=\"display:inline;vertical-align:middle;\" /></a></span></td></tr>\n",
       "<tr><td><a name=\"proveit.logic.equality._proof_unfold_not_equals.6f1f1e4f9ec266689da9d00b235c320db188dff50_step1\">1</a></td><td>instantiation</td><td><a href=\"#proveit.logic.equality._proof_unfold_not_equals.6f1f1e4f9ec266689da9d00b235c320db188dff50_step2\">2</a>, <a href=\"#proveit.logic.equality._proof_unfold_not_equals.6f1f1e4f9ec266689da9d00b235c320db188dff50_step3\">3</a>, <a href=\"#proveit.logic.equality._proof_unfold_not_equals.6f1f1e4f9ec266689da9d00b235c320db188dff50_step4\">4</a></td><td><span style=\"font-size:20px;\"><a class=\"ProveItLink\" href=\"../../theorems/73829d3be05f2b12292db7642d7f9d4a94d650a00/expr.ipynb\"><img src=\"../../theorems/73829d3be05f2b12292db7642d7f9d4a94d650a00/expr.png\" style=\"display:inline;vertical-align:middle;\" /></a> <a class=\"ProveItLink\" href=\"../ee6cea949048f4929619e9a1a11485a02ba5f65e0/proof.ipynb\" style=\"text-decoration: none\">&nbsp;&#x22A2;&nbsp;&nbsp;</a><a class=\"ProveItLink\" href=\"../../theorems/faee4bbbe040bf704ee11762db4f42211a40e3750/expr.ipynb\"><img src=\"../../theorems/faee4bbbe040bf704ee11762db4f42211a40e3750/expr.png\" style=\"display:inline;vertical-align:middle;\" /></a></span></td></tr>\n",
       "<tr><td>&nbsp;</td><td colspan=4 style=\"text-align:left\"><span style=\"font-size:20px;\"><a class=\"ProveItLink\" href=\"../../../../../__pv_it/common/de55da274ba0f49c86925fbf3828021c04d27faf0/expr.ipynb\"><img src=\"../../../../../__pv_it/common/de55da274ba0f49c86925fbf3828021c04d27faf0/expr.png\" style=\"display:inline;vertical-align:middle;\" /></a> : <a class=\"ProveItLink\" href=\"../../theorems/73829d3be05f2b12292db7642d7f9d4a94d650a00/expr.ipynb\"><img src=\"../../theorems/73829d3be05f2b12292db7642d7f9d4a94d650a00/expr.png\" style=\"display:inline;vertical-align:middle;\" /></a>, <a class=\"ProveItLink\" href=\"../../../../../__pv_it/common/d72bb8b07403efe79afab564c36a28e21330e5f90/expr.ipynb\"><img src=\"../../../../../__pv_it/common/d72bb8b07403efe79afab564c36a28e21330e5f90/expr.png\" style=\"display:inline;vertical-align:middle;\" /></a> : <a class=\"ProveItLink\" href=\"../../theorems/faee4bbbe040bf704ee11762db4f42211a40e3750/expr.ipynb\"><img src=\"../../theorems/faee4bbbe040bf704ee11762db4f42211a40e3750/expr.png\" style=\"display:inline;vertical-align:middle;\" /></a></span></td></tr><tr><td><a name=\"proveit.logic.equality._proof_unfold_not_equals.6f1f1e4f9ec266689da9d00b235c320db188dff50_step2\">2</a></td><td>theorem</td><td></td><td><span style=\"font-size:20px;\"> <a class=\"ProveItLink\" href=\"../../../_theory_nbs_/proofs/rhs_via_equality/thm_proof.ipynb\" style=\"text-decoration: none\">&nbsp;&#x22A2;&nbsp;&nbsp;</a><a class=\"ProveItLink\" href=\"../../theorems/b71cc6ded84759b8e6fdf7e824529c371b14ed8e0/expr.ipynb\"><img src=\"../../theorems/b71cc6ded84759b8e6fdf7e824529c371b14ed8e0/expr.png\" style=\"display:inline;vertical-align:middle;\" /></a></span></td></tr>\n",
       "<tr><td>&nbsp;</td><td colspan=4 style-\"text-align:left\"><a class=\"ProveItLink\" href=\"../../../_theory_nbs_/proofs/rhs_via_equality/thm_proof.ipynb\">proveit.logic.equality.rhs_via_equality</a></td></tr><tr><td><a name=\"proveit.logic.equality._proof_unfold_not_equals.6f1f1e4f9ec266689da9d00b235c320db188dff50_step3\">3</a></td><td>assumption</td><td></td><td><span style=\"font-size:20px;\"><a class=\"ProveItLink\" href=\"../../theorems/73829d3be05f2b12292db7642d7f9d4a94d650a00/expr.ipynb\"><img src=\"../../theorems/73829d3be05f2b12292db7642d7f9d4a94d650a00/expr.png\" style=\"display:inline;vertical-align:middle;\" /></a> <a class=\"ProveItLink\" href=\"../b11cf7920c693cfc96d16fe822c2c962a2d276270/proof.ipynb\" style=\"text-decoration: none\">&nbsp;&#x22A2;&nbsp;&nbsp;</a><a class=\"ProveItLink\" href=\"../../theorems/73829d3be05f2b12292db7642d7f9d4a94d650a00/expr.ipynb\"><img src=\"../../theorems/73829d3be05f2b12292db7642d7f9d4a94d650a00/expr.png\" style=\"display:inline;vertical-align:middle;\" /></a></span></td></tr>\n",
       "<tr><td><a name=\"proveit.logic.equality._proof_unfold_not_equals.6f1f1e4f9ec266689da9d00b235c320db188dff50_step4\">4</a></td><td>instantiation</td><td><a href=\"#proveit.logic.equality._proof_unfold_not_equals.6f1f1e4f9ec266689da9d00b235c320db188dff50_step5\">5</a></td><td><span style=\"font-size:20px;\"> <a class=\"ProveItLink\" href=\"../5b8fa5e143fad23050ed867e9cf8147525ef93800/proof.ipynb\" style=\"text-decoration: none\">&nbsp;&#x22A2;&nbsp;&nbsp;</a><a class=\"ProveItLink\" href=\"../../axioms/29bc2c6db42eff76f7549bf8c74205c2adcbeaef0/expr.ipynb\"><img src=\"../../axioms/29bc2c6db42eff76f7549bf8c74205c2adcbeaef0/expr.png\" style=\"display:inline;vertical-align:middle;\" /></a></span></td></tr>\n",
       "<tr><td>&nbsp;</td><td colspan=4 style=\"text-align:left\"><span style=\"font-size:20px;\"><a class=\"ProveItLink\" href=\"../../../../../__pv_it/common/a0d9d672aa5e272d907247690c152cc2c6daafb70/expr.ipynb\"><img src=\"../../../../../__pv_it/common/a0d9d672aa5e272d907247690c152cc2c6daafb70/expr.png\" style=\"display:inline;vertical-align:middle;\" /></a> : <a class=\"ProveItLink\" href=\"../../../../../__pv_it/common/a0d9d672aa5e272d907247690c152cc2c6daafb70/expr.ipynb\"><img src=\"../../../../../__pv_it/common/a0d9d672aa5e272d907247690c152cc2c6daafb70/expr.png\" style=\"display:inline;vertical-align:middle;\" /></a>, <a class=\"ProveItLink\" href=\"../../../../../__pv_it/common/ff7dba4ef0bbe791ab573bf2d9c220a304399ac80/expr.ipynb\"><img src=\"../../../../../__pv_it/common/ff7dba4ef0bbe791ab573bf2d9c220a304399ac80/expr.png\" style=\"display:inline;vertical-align:middle;\" /></a> : <a class=\"ProveItLink\" href=\"../../../../../__pv_it/common/ff7dba4ef0bbe791ab573bf2d9c220a304399ac80/expr.ipynb\"><img src=\"../../../../../__pv_it/common/ff7dba4ef0bbe791ab573bf2d9c220a304399ac80/expr.png\" style=\"display:inline;vertical-align:middle;\" /></a></span></td></tr><tr><td><a name=\"proveit.logic.equality._proof_unfold_not_equals.6f1f1e4f9ec266689da9d00b235c320db188dff50_step5\">5</a></td><td>axiom</td><td></td><td><span style=\"font-size:20px;\"> <a class=\"ProveItLink\" href=\"../../../_theory_nbs_/axioms.ipynb#not_equals_def\" style=\"text-decoration: none\">&nbsp;&#x22A2;&nbsp;&nbsp;</a><a class=\"ProveItLink\" href=\"../../axioms/460c0757688de5036b09e198e4b33898716c95990/expr.ipynb\"><img src=\"../../axioms/460c0757688de5036b09e198e4b33898716c95990/expr.png\" style=\"display:inline;vertical-align:middle;\" /></a></span></td></tr>\n",
       "<tr><td>&nbsp;</td><td colspan=4 style-\"text-align:left\"><a class=\"ProveItLink\" href=\"../../../_theory_nbs_/axioms.ipynb#not_equals_def\">proveit.logic.equality.not_equals_def</a></td></tr></table>"
      ],
      "text/plain": [
       "<proveit._core_.proof._ShowProof at 0x7f6e7ae4c978>"
      ]
     },
     "execution_count": 1,
     "metadata": {},
     "output_type": "execute_result"
    }
   ],
   "source": [
    "import proveit\n",
    "# Automation is not needed when only showing a stored proof:\n",
    "proveit.defaults.automation = False # This will speed things up.\n",
    "proveit.defaults.inline_pngs = False # Makes files smaller.\n",
    "%show_proof"
   ]
  },
  {
   "cell_type": "code",
   "execution_count": null,
   "metadata": {},
   "outputs": [],
   "source": []
  }
 ],
 "metadata": {
  "kernelspec": {
   "display_name": "Python 3",
   "language": "python",
   "name": "python3"
  }
 },
 "nbformat": 4,
 "nbformat_minor": 0
}