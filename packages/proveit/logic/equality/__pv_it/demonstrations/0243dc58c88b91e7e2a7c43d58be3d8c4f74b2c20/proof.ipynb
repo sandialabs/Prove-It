{
 "cells": [
  {
   "cell_type": "markdown",
   "metadata": {},
   "source": [
    "Show the Proof\n",
    "========"
   ]
  },
  {
   "cell_type": "code",
   "execution_count": 1,
   "metadata": {},
   "outputs": [
    {
     "data": {
      "text/html": [
       "<table><tr><th>&nbsp;</th><th>step type</th><th>requirements</th><th>statement</th></tr>\n",
       "<tr><td><a name=\"proveit.logic.equality.demonstrations.0243dc58c88b91e7e2a7c43d58be3d8c4f74b2c20_step0\">0</a></td><td>modus ponens</td><td><a href=\"#proveit.logic.equality.demonstrations.0243dc58c88b91e7e2a7c43d58be3d8c4f74b2c20_step1\">1</a>, <a href=\"#proveit.logic.equality.demonstrations.0243dc58c88b91e7e2a7c43d58be3d8c4f74b2c20_step2\">2</a></td><td><span style=\"font-size:20px;\"><a class=\"ProveItLink\" href=\"../5b36ef127a53384d4c4700b0b0ba83d8069dd3340/expr.ipynb\"><img src=\"../5b36ef127a53384d4c4700b0b0ba83d8069dd3340/expr.png\" style=\"display:inline;vertical-align:middle;\" /></a>, <a class=\"ProveItLink\" href=\"../ab2c97d9f0b1331e2c6e64e8acc997a7156edf490/expr.ipynb\"><img src=\"../ab2c97d9f0b1331e2c6e64e8acc997a7156edf490/expr.png\" style=\"display:inline;vertical-align:middle;\" /></a> <a class=\"ProveItLink\" href=\"proof.ipynb\" style=\"text-decoration: none\">&nbsp;&#x22A2;&nbsp;&nbsp;</a><a class=\"ProveItLink\" href=\"../25d78224f5a9d2af5e441e8267ef3402a5543f440/expr.ipynb\"><img src=\"../25d78224f5a9d2af5e441e8267ef3402a5543f440/expr.png\" style=\"display:inline;vertical-align:middle;\" /></a></span></td></tr>\n",
       "<tr><td><a name=\"proveit.logic.equality.demonstrations.0243dc58c88b91e7e2a7c43d58be3d8c4f74b2c20_step1\">1</a></td><td>assumption</td><td></td><td><span style=\"font-size:20px;\"><a class=\"ProveItLink\" href=\"../5b36ef127a53384d4c4700b0b0ba83d8069dd3340/expr.ipynb\"><img src=\"../5b36ef127a53384d4c4700b0b0ba83d8069dd3340/expr.png\" style=\"display:inline;vertical-align:middle;\" /></a> <a class=\"ProveItLink\" href=\"../4bbaf7cfdf0eb0c6d2a8a43c36b018cb735ee50f0/proof.ipynb\" style=\"text-decoration: none\">&nbsp;&#x22A2;&nbsp;&nbsp;</a><a class=\"ProveItLink\" href=\"../5b36ef127a53384d4c4700b0b0ba83d8069dd3340/expr.ipynb\"><img src=\"../5b36ef127a53384d4c4700b0b0ba83d8069dd3340/expr.png\" style=\"display:inline;vertical-align:middle;\" /></a></span></td></tr>\n",
       "<tr><td><a name=\"proveit.logic.equality.demonstrations.0243dc58c88b91e7e2a7c43d58be3d8c4f74b2c20_step2\">2</a></td><td>assumption</td><td></td><td><span style=\"font-size:20px;\"><a class=\"ProveItLink\" href=\"../ab2c97d9f0b1331e2c6e64e8acc997a7156edf490/expr.ipynb\"><img src=\"../ab2c97d9f0b1331e2c6e64e8acc997a7156edf490/expr.png\" style=\"display:inline;vertical-align:middle;\" /></a> <a class=\"ProveItLink\" href=\"../3a4b933a4afd3028ebd88ff777dbdd467878b5500/proof.ipynb\" style=\"text-decoration: none\">&nbsp;&#x22A2;&nbsp;&nbsp;</a><a class=\"ProveItLink\" href=\"../ab2c97d9f0b1331e2c6e64e8acc997a7156edf490/expr.ipynb\"><img src=\"../ab2c97d9f0b1331e2c6e64e8acc997a7156edf490/expr.png\" style=\"display:inline;vertical-align:middle;\" /></a></span></td></tr>\n",
       "</table>"
      ],
      "text/plain": [
       "<proveit._core_.proof._ShowProof at 0x7fa7a03cc0b8>"
      ]
     },
     "execution_count": 1,
     "metadata": {},
     "output_type": "execute_result"
    }
   ],
   "source": [
    "import proveit\n",
    "# Automation is not needed when only showing a stored proof:\n",
    "proveit.defaults.automation = False # This will speed things up.\n",
    "proveit.defaults.inline_pngs = False # Makes files smaller.\n",
    "%show_proof"
   ]
  },
  {
   "cell_type": "code",
   "execution_count": null,
   "metadata": {},
   "outputs": [],
   "source": []
  }
 ],
 "metadata": {
  "kernelspec": {
   "display_name": "Python 3",
   "language": "python",
   "name": "python3"
  }
 },
 "nbformat": 4,
 "nbformat_minor": 0
}