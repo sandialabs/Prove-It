{
 "cells": [
  {
   "cell_type": "markdown",
   "metadata": {},
   "source": [
    "Show the Proof\n",
    "========"
   ]
  },
  {
   "cell_type": "code",
   "execution_count": 1,
   "metadata": {},
   "outputs": [
    {
     "data": {
      "text/html": [
       "<table><tr><th>&nbsp;</th><th>step type</th><th>requirements</th><th>statement</th></tr>\n",
       "<tr><td><a name=\"proveit.logic.equality.demonstrations.77262c41f62dfe3c1b1f1485741c1183a3ef71b80_step0\">0</a></td><td>instantiation</td><td><a href=\"#proveit.logic.equality.demonstrations.77262c41f62dfe3c1b1f1485741c1183a3ef71b80_step1\">1</a>, <a href=\"#proveit.logic.equality.demonstrations.77262c41f62dfe3c1b1f1485741c1183a3ef71b80_step2\">2</a>, <a href=\"#proveit.logic.equality.demonstrations.77262c41f62dfe3c1b1f1485741c1183a3ef71b80_step3\">3</a></td><td><span style=\"font-size:20px;\"><a class=\"ProveItLink\" href=\"../b535636afc1aade6d0e2f6f1b6f236ea734bac520/expr.ipynb\"><img src=\"../b535636afc1aade6d0e2f6f1b6f236ea734bac520/expr.png\" style=\"display:inline;vertical-align:middle;\" /></a>, <a class=\"ProveItLink\" href=\"../../../../../numbers/ordering/__pv_it/theorems/ef097190be07bfef385d06d66c6c1568183e809c0/expr.ipynb\"><img src=\"../../../../../numbers/ordering/__pv_it/theorems/ef097190be07bfef385d06d66c6c1568183e809c0/expr.png\" style=\"display:inline;vertical-align:middle;\" /></a> <a class=\"ProveItLink\" href=\"proof.ipynb\" style=\"text-decoration: none\">&nbsp;&#x22A2;&nbsp;&nbsp;</a><a class=\"ProveItLink\" href=\"../../../../booleans/__pv_it/common/e0f123f2e4f322e1eba7f861749cda9fd9d99a120/expr.ipynb\"><img src=\"../../../../booleans/__pv_it/common/e0f123f2e4f322e1eba7f861749cda9fd9d99a120/expr.png\" style=\"display:inline;vertical-align:middle;\" /></a></span></td></tr>\n",
       "<tr><td>&nbsp;</td><td colspan=4 style=\"text-align:left\"><span style=\"font-size:20px;\"><a class=\"ProveItLink\" href=\"../../../../../__pv_it/common/a0d9d672aa5e272d907247690c152cc2c6daafb70/expr.ipynb\"><img src=\"../../../../../__pv_it/common/a0d9d672aa5e272d907247690c152cc2c6daafb70/expr.png\" style=\"display:inline;vertical-align:middle;\" /></a> : <a class=\"ProveItLink\" href=\"../../../../../__pv_it/common/c06c606ec12678c58933ac85412ecadc2ae28be60/expr.ipynb\"><img src=\"../../../../../__pv_it/common/c06c606ec12678c58933ac85412ecadc2ae28be60/expr.png\" style=\"display:inline;vertical-align:middle;\" /></a>, <a class=\"ProveItLink\" href=\"../../../../../__pv_it/common/ff7dba4ef0bbe791ab573bf2d9c220a304399ac80/expr.ipynb\"><img src=\"../../../../../__pv_it/common/ff7dba4ef0bbe791ab573bf2d9c220a304399ac80/expr.png\" style=\"display:inline;vertical-align:middle;\" /></a> : <a class=\"ProveItLink\" href=\"../../../../../__pv_it/common/195236b98c6c564a75b5dbada74b173bc52d5c3e0/expr.ipynb\"><img src=\"../../../../../__pv_it/common/195236b98c6c564a75b5dbada74b173bc52d5c3e0/expr.png\" style=\"display:inline;vertical-align:middle;\" /></a></span></td></tr><tr><td><a name=\"proveit.logic.equality.demonstrations.77262c41f62dfe3c1b1f1485741c1183a3ef71b80_step1\">1</a></td><td>theorem</td><td></td><td><span style=\"font-size:20px;\"> <a class=\"ProveItLink\" href=\"../../../_theory_nbs_/proofs/not_equals_contradiction/thm_proof.ipynb\" style=\"text-decoration: none\">&nbsp;&#x22A2;&nbsp;&nbsp;</a><a class=\"ProveItLink\" href=\"../../theorems/a9584054e7633e025f3e2a2efeb52b2d79dda1740/expr.ipynb\"><img src=\"../../theorems/a9584054e7633e025f3e2a2efeb52b2d79dda1740/expr.png\" style=\"display:inline;vertical-align:middle;\" /></a></span></td></tr>\n",
       "<tr><td>&nbsp;</td><td colspan=4 style-\"text-align:left\"><a class=\"ProveItLink\" href=\"../../../_theory_nbs_/proofs/not_equals_contradiction/thm_proof.ipynb\">proveit.logic.equality.not_equals_contradiction</a></td></tr><tr><td><a name=\"proveit.logic.equality.demonstrations.77262c41f62dfe3c1b1f1485741c1183a3ef71b80_step2\">2</a></td><td>assumption</td><td></td><td><span style=\"font-size:20px;\"><a class=\"ProveItLink\" href=\"../b535636afc1aade6d0e2f6f1b6f236ea734bac520/expr.ipynb\"><img src=\"../b535636afc1aade6d0e2f6f1b6f236ea734bac520/expr.png\" style=\"display:inline;vertical-align:middle;\" /></a> <a class=\"ProveItLink\" href=\"../54ae2d19f63222bf5cca92b9dfdf0d67a38258e60/proof.ipynb\" style=\"text-decoration: none\">&nbsp;&#x22A2;&nbsp;&nbsp;</a><a class=\"ProveItLink\" href=\"../b535636afc1aade6d0e2f6f1b6f236ea734bac520/expr.ipynb\"><img src=\"../b535636afc1aade6d0e2f6f1b6f236ea734bac520/expr.png\" style=\"display:inline;vertical-align:middle;\" /></a></span></td></tr>\n",
       "<tr><td><a name=\"proveit.logic.equality.demonstrations.77262c41f62dfe3c1b1f1485741c1183a3ef71b80_step3\">3</a></td><td>assumption</td><td></td><td><span style=\"font-size:20px;\"><a class=\"ProveItLink\" href=\"../../../../../numbers/ordering/__pv_it/theorems/ef097190be07bfef385d06d66c6c1568183e809c0/expr.ipynb\"><img src=\"../../../../../numbers/ordering/__pv_it/theorems/ef097190be07bfef385d06d66c6c1568183e809c0/expr.png\" style=\"display:inline;vertical-align:middle;\" /></a> <a class=\"ProveItLink\" href=\"../6cf63540af11578a6315a14fd0560f39a1d6403e0/proof.ipynb\" style=\"text-decoration: none\">&nbsp;&#x22A2;&nbsp;&nbsp;</a><a class=\"ProveItLink\" href=\"../../../../../numbers/ordering/__pv_it/theorems/ef097190be07bfef385d06d66c6c1568183e809c0/expr.ipynb\"><img src=\"../../../../../numbers/ordering/__pv_it/theorems/ef097190be07bfef385d06d66c6c1568183e809c0/expr.png\" style=\"display:inline;vertical-align:middle;\" /></a></span></td></tr>\n",
       "</table>"
      ],
      "text/plain": [
       "<proveit._core_.proof._ShowProof at 0x7f75e6131a20>"
      ]
     },
     "execution_count": 1,
     "metadata": {},
     "output_type": "execute_result"
    }
   ],
   "source": [
    "import proveit\n",
    "# Automation is not needed when only showing a stored proof:\n",
    "proveit.defaults.automation = False # This will speed things up.\n",
    "proveit.defaults.inline_pngs = False # Makes files smaller.\n",
    "%show_proof"
   ]
  },
  {
   "cell_type": "code",
   "execution_count": null,
   "metadata": {},
   "outputs": [],
   "source": []
  }
 ],
 "metadata": {
  "kernelspec": {
   "display_name": "Python 3",
   "language": "python",
   "name": "python3"
  }
 },
 "nbformat": 4,
 "nbformat_minor": 0
}