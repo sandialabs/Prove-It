{
 "cells": [
  {
   "cell_type": "markdown",
   "metadata": {},
   "source": [
    "Show the Proof\n",
    "========"
   ]
  },
  {
   "cell_type": "code",
   "execution_count": 1,
   "metadata": {},
   "outputs": [
    {
     "data": {
      "text/html": [
       "<table><tr><th>&nbsp;</th><th>step type</th><th>requirements</th><th>statement</th></tr>\n",
       "<tr><td><a name=\"proveit.logic.equality.demonstrations.e9c1010b34c670cc00aea5a70c60c02d7c6f75320_step0\">0</a></td><td>deduction</td><td><a href=\"#proveit.logic.equality.demonstrations.e9c1010b34c670cc00aea5a70c60c02d7c6f75320_step1\">1</a></td><td><span style=\"font-size:20px;\"><a class=\"ProveItLink\" href=\"../0b93b3239e9bab9b8fe45fa90ab75dde7c2e37860/expr.ipynb\"><img src=\"../0b93b3239e9bab9b8fe45fa90ab75dde7c2e37860/expr.png\" style=\"display:inline;vertical-align:middle;\" /></a> <a class=\"ProveItLink\" href=\"proof.ipynb\" style=\"text-decoration: none\">&nbsp;&#x22A2;&nbsp;&nbsp;</a><a class=\"ProveItLink\" href=\"../70b03abc2df1e6df28e7faa2b57c65dc9dec0aa70/expr.ipynb\"><img src=\"../70b03abc2df1e6df28e7faa2b57c65dc9dec0aa70/expr.png\" style=\"display:inline;vertical-align:middle;\" /></a></span></td></tr>\n",
       "<tr><td><a name=\"proveit.logic.equality.demonstrations.e9c1010b34c670cc00aea5a70c60c02d7c6f75320_step1\">1</a></td><td>instantiation</td><td><a href=\"#proveit.logic.equality.demonstrations.e9c1010b34c670cc00aea5a70c60c02d7c6f75320_step2\">2</a>, <a href=\"#proveit.logic.equality.demonstrations.e9c1010b34c670cc00aea5a70c60c02d7c6f75320_step5\">5</a>, <a href=\"#proveit.logic.equality.demonstrations.e9c1010b34c670cc00aea5a70c60c02d7c6f75320_step3\">3</a></td><td><span style=\"font-size:20px;\"><a class=\"ProveItLink\" href=\"../b7d7636f0c629b851a8fdadf04a038a48e2727230/expr.ipynb\"><img src=\"../b7d7636f0c629b851a8fdadf04a038a48e2727230/expr.png\" style=\"display:inline;vertical-align:middle;\" /></a>, <a class=\"ProveItLink\" href=\"../0b93b3239e9bab9b8fe45fa90ab75dde7c2e37860/expr.ipynb\"><img src=\"../0b93b3239e9bab9b8fe45fa90ab75dde7c2e37860/expr.png\" style=\"display:inline;vertical-align:middle;\" /></a> <a class=\"ProveItLink\" href=\"../9dadb77b23c5b3968ce549201199c68ea47bdb950/proof.ipynb\" style=\"text-decoration: none\">&nbsp;&#x22A2;&nbsp;&nbsp;</a><a class=\"ProveItLink\" href=\"../../../../booleans/__pv_it/common/e0f123f2e4f322e1eba7f861749cda9fd9d99a120/expr.ipynb\"><img src=\"../../../../booleans/__pv_it/common/e0f123f2e4f322e1eba7f861749cda9fd9d99a120/expr.png\" style=\"display:inline;vertical-align:middle;\" /></a></span></td></tr>\n",
       "<tr><td>&nbsp;</td><td colspan=4 style=\"text-align:left\"><span style=\"font-size:20px;\"><a class=\"ProveItLink\" href=\"../../../../../__pv_it/common/09585084922504426caf1db2ff588a23a0932a960/expr.ipynb\"><img src=\"../../../../../__pv_it/common/09585084922504426caf1db2ff588a23a0932a960/expr.png\" style=\"display:inline;vertical-align:middle;\" /></a> : <a class=\"ProveItLink\" href=\"../../../../../__pv_it/common/c06c606ec12678c58933ac85412ecadc2ae28be60/expr.ipynb\"><img src=\"../../../../../__pv_it/common/c06c606ec12678c58933ac85412ecadc2ae28be60/expr.png\" style=\"display:inline;vertical-align:middle;\" /></a></span></td></tr><tr><td><a name=\"proveit.logic.equality.demonstrations.e9c1010b34c670cc00aea5a70c60c02d7c6f75320_step2\">2</a></td><td>theorem</td><td></td><td><span style=\"font-size:20px;\"> <a class=\"ProveItLink\" href=\"../../../_theory_nbs_/proofs/contradiction_via_falsification/thm_proof.ipynb\" style=\"text-decoration: none\">&nbsp;&#x22A2;&nbsp;&nbsp;</a><a class=\"ProveItLink\" href=\"../../theorems/b3cbb552118760d146be2d50fae012905e68c72d0/expr.ipynb\"><img src=\"../../theorems/b3cbb552118760d146be2d50fae012905e68c72d0/expr.png\" style=\"display:inline;vertical-align:middle;\" /></a></span></td></tr>\n",
       "<tr><td>&nbsp;</td><td colspan=4 style-\"text-align:left\"><a class=\"ProveItLink\" href=\"../../../_theory_nbs_/proofs/contradiction_via_falsification/thm_proof.ipynb\">proveit.logic.equality.contradiction_via_falsification</a></td></tr><tr><td><a name=\"proveit.logic.equality.demonstrations.e9c1010b34c670cc00aea5a70c60c02d7c6f75320_step3\">3</a></td><td>modus ponens</td><td><a href=\"#proveit.logic.equality.demonstrations.e9c1010b34c670cc00aea5a70c60c02d7c6f75320_step4\">4</a>, <a href=\"#proveit.logic.equality.demonstrations.e9c1010b34c670cc00aea5a70c60c02d7c6f75320_step5\">5</a></td><td><span style=\"font-size:20px;\"><a class=\"ProveItLink\" href=\"../0b93b3239e9bab9b8fe45fa90ab75dde7c2e37860/expr.ipynb\"><img src=\"../0b93b3239e9bab9b8fe45fa90ab75dde7c2e37860/expr.png\" style=\"display:inline;vertical-align:middle;\" /></a>, <a class=\"ProveItLink\" href=\"../b7d7636f0c629b851a8fdadf04a038a48e2727230/expr.ipynb\"><img src=\"../b7d7636f0c629b851a8fdadf04a038a48e2727230/expr.png\" style=\"display:inline;vertical-align:middle;\" /></a> <a class=\"ProveItLink\" href=\"../8ef3f0ae8e9cc0080b102b450cdeab6317b3db800/proof.ipynb\" style=\"text-decoration: none\">&nbsp;&#x22A2;&nbsp;&nbsp;</a><a class=\"ProveItLink\" href=\"../88f743c6bc9df2eb402181acf99f189404fe9aca0/expr.ipynb\"><img src=\"../88f743c6bc9df2eb402181acf99f189404fe9aca0/expr.png\" style=\"display:inline;vertical-align:middle;\" /></a></span></td></tr>\n",
       "<tr><td><a name=\"proveit.logic.equality.demonstrations.e9c1010b34c670cc00aea5a70c60c02d7c6f75320_step4\">4</a></td><td>assumption</td><td></td><td><span style=\"font-size:20px;\"><a class=\"ProveItLink\" href=\"../0b93b3239e9bab9b8fe45fa90ab75dde7c2e37860/expr.ipynb\"><img src=\"../0b93b3239e9bab9b8fe45fa90ab75dde7c2e37860/expr.png\" style=\"display:inline;vertical-align:middle;\" /></a> <a class=\"ProveItLink\" href=\"../6bc589017e88c656ede4aa093ac88436b3cda25e0/proof.ipynb\" style=\"text-decoration: none\">&nbsp;&#x22A2;&nbsp;&nbsp;</a><a class=\"ProveItLink\" href=\"../0b93b3239e9bab9b8fe45fa90ab75dde7c2e37860/expr.ipynb\"><img src=\"../0b93b3239e9bab9b8fe45fa90ab75dde7c2e37860/expr.png\" style=\"display:inline;vertical-align:middle;\" /></a></span></td></tr>\n",
       "<tr><td><a name=\"proveit.logic.equality.demonstrations.e9c1010b34c670cc00aea5a70c60c02d7c6f75320_step5\">5</a></td><td>instantiation</td><td><a href=\"#proveit.logic.equality.demonstrations.e9c1010b34c670cc00aea5a70c60c02d7c6f75320_step6\">6</a>, <a href=\"#proveit.logic.equality.demonstrations.e9c1010b34c670cc00aea5a70c60c02d7c6f75320_step7\">7</a></td><td><span style=\"font-size:20px;\"><a class=\"ProveItLink\" href=\"../b7d7636f0c629b851a8fdadf04a038a48e2727230/expr.ipynb\"><img src=\"../b7d7636f0c629b851a8fdadf04a038a48e2727230/expr.png\" style=\"display:inline;vertical-align:middle;\" /></a> <a class=\"ProveItLink\" href=\"../bc385de1cd5bee8ded9fd3ca12b8761953da32bf0/proof.ipynb\" style=\"text-decoration: none\">&nbsp;&#x22A2;&nbsp;&nbsp;</a><a class=\"ProveItLink\" href=\"../../../../../__pv_it/common/c06c606ec12678c58933ac85412ecadc2ae28be60/expr.ipynb\"><img src=\"../../../../../__pv_it/common/c06c606ec12678c58933ac85412ecadc2ae28be60/expr.png\" style=\"display:inline;vertical-align:middle;\" /></a></span></td></tr>\n",
       "<tr><td>&nbsp;</td><td colspan=4 style=\"text-align:left\"><span style=\"font-size:20px;\"><a class=\"ProveItLink\" href=\"../../../../../__pv_it/common/09585084922504426caf1db2ff588a23a0932a960/expr.ipynb\"><img src=\"../../../../../__pv_it/common/09585084922504426caf1db2ff588a23a0932a960/expr.png\" style=\"display:inline;vertical-align:middle;\" /></a> : <a class=\"ProveItLink\" href=\"../../../../../__pv_it/common/c06c606ec12678c58933ac85412ecadc2ae28be60/expr.ipynb\"><img src=\"../../../../../__pv_it/common/c06c606ec12678c58933ac85412ecadc2ae28be60/expr.png\" style=\"display:inline;vertical-align:middle;\" /></a></span></td></tr><tr><td><a name=\"proveit.logic.equality.demonstrations.e9c1010b34c670cc00aea5a70c60c02d7c6f75320_step6\">6</a></td><td>theorem</td><td></td><td><span style=\"font-size:20px;\"> <a class=\"ProveItLink\" href=\"../../../../booleans/negation/_theory_nbs_/proofs/double_negation_elim/thm_proof.ipynb\" style=\"text-decoration: none\">&nbsp;&#x22A2;&nbsp;&nbsp;</a><a class=\"ProveItLink\" href=\"../../../../booleans/negation/__pv_it/theorems/c58ab01291b83ab048af8589a95d4fdb85aa794e0/expr.ipynb\"><img src=\"../../../../booleans/negation/__pv_it/theorems/c58ab01291b83ab048af8589a95d4fdb85aa794e0/expr.png\" style=\"display:inline;vertical-align:middle;\" /></a></span></td></tr>\n",
       "<tr><td>&nbsp;</td><td colspan=4 style-\"text-align:left\"><a class=\"ProveItLink\" href=\"../../../../booleans/negation/_theory_nbs_/proofs/double_negation_elim/thm_proof.ipynb\">proveit.logic.booleans.negation.double_negation_elim</a></td></tr><tr><td><a name=\"proveit.logic.equality.demonstrations.e9c1010b34c670cc00aea5a70c60c02d7c6f75320_step7\">7</a></td><td>assumption</td><td></td><td><span style=\"font-size:20px;\"><a class=\"ProveItLink\" href=\"../b7d7636f0c629b851a8fdadf04a038a48e2727230/expr.ipynb\"><img src=\"../b7d7636f0c629b851a8fdadf04a038a48e2727230/expr.png\" style=\"display:inline;vertical-align:middle;\" /></a> <a class=\"ProveItLink\" href=\"../81d99f609acbb6b4bcd15daf0b837225d6304a4a0/proof.ipynb\" style=\"text-decoration: none\">&nbsp;&#x22A2;&nbsp;&nbsp;</a><a class=\"ProveItLink\" href=\"../b7d7636f0c629b851a8fdadf04a038a48e2727230/expr.ipynb\"><img src=\"../b7d7636f0c629b851a8fdadf04a038a48e2727230/expr.png\" style=\"display:inline;vertical-align:middle;\" /></a></span></td></tr>\n",
       "</table>"
      ],
      "text/plain": [
       "<proveit._core_.proof._ShowProof at 0x7f21403e4ef0>"
      ]
     },
     "execution_count": 1,
     "metadata": {},
     "output_type": "execute_result"
    }
   ],
   "source": [
    "import proveit\n",
    "# Automation is not needed when only showing a stored proof:\n",
    "proveit.defaults.automation = False # This will speed things up.\n",
    "proveit.defaults.inline_pngs = False # Makes files smaller.\n",
    "%show_proof"
   ]
  },
  {
   "cell_type": "code",
   "execution_count": null,
   "metadata": {},
   "outputs": [],
   "source": []
  }
 ],
 "metadata": {
  "kernelspec": {
   "display_name": "Python 3",
   "language": "python",
   "name": "python3"
  }
 },
 "nbformat": 4,
 "nbformat_minor": 0
}