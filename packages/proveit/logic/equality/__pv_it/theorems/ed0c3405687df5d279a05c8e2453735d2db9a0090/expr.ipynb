{
 "cells": [
  {
   "cell_type": "markdown",
   "metadata": {},
   "source": [
    "Expression of type <a class=\"ProveItLink\" href=\"../../../../../../../doc/html/api/proveit.ExprTuple.html\">ExprTuple</a>\n",
    "=======================\n",
    "# from the theory of <a class=\"ProveItLink\" href=\"../../../_theory_nbs_/theory.ipynb\">proveit.logic.equality</a>"
   ]
  },
  {
   "cell_type": "code",
   "execution_count": 1,
   "metadata": {},
   "outputs": [],
   "source": [
    "import proveit\n",
    "# Automation is not needed when building an expression:\n",
    "proveit.defaults.automation = False # This will speed things up.\n",
    "proveit.defaults.inline_pngs = False # Makes files smaller.\n",
    "%load_expr # Load the stored expression as 'stored_expr'\n",
    "# import Expression classes needed to build the expression\n",
    "from proveit import ExprTuple, Lambda, a, c, f, fa, fx, x\n",
    "from proveit.logic import Equals, Implies"
   ]
  },
  {
   "cell_type": "code",
   "execution_count": 2,
   "metadata": {},
   "outputs": [
    {
     "data": {
      "text/html": [
       "<strong id=\"expr\">expr:</strong> <a class=\"ProveItLink\" href=\"expr.ipynb\"><img src=\"expr.png\" style=\"display:inline;vertical-align:middle;\" /></a><br>"
      ],
      "text/plain": [
       "<IPython.core.display.HTML object>"
      ]
     },
     "metadata": {},
     "output_type": "display_data"
    }
   ],
   "source": [
    "# build up the expression from sub-expressions\n",
    "expr = ExprTuple(Lambda([f, x, a, c], Implies(Equals(x, a), Implies(Equals(fa, c), Equals(fx, c)))))"
   ]
  },
  {
   "cell_type": "code",
   "execution_count": 3,
   "metadata": {},
   "outputs": [
    {
     "name": "stdout",
     "output_type": "stream",
     "text": [
      "Passed sanity check: expr matches stored_expr\n"
     ]
    }
   ],
   "source": [
    "# check that the built expression is the same as the stored expression\n",
    "assert expr == stored_expr\n",
    "assert expr._style_id == stored_expr._style_id\n",
    "print(\"Passed sanity check: expr matches stored_expr\")"
   ]
  },
  {
   "cell_type": "code",
   "execution_count": 4,
   "metadata": {},
   "outputs": [
    {
     "name": "stdout",
     "output_type": "stream",
     "text": [
      "\\left(\\left(f, x, a, c\\right) \\mapsto \\left(\\left(x = a\\right) \\Rightarrow \\left(\\left(f\\left(a\\right) = c\\right) \\Rightarrow \\left(f\\left(x\\right) = c\\right)\\right)\\right)\\right)\n"
     ]
    }
   ],
   "source": [
    "# Show the LaTeX representation of the expression for convenience if you need it.\n",
    "print(stored_expr.latex())"
   ]
  },
  {
   "cell_type": "code",
   "execution_count": 5,
   "metadata": {},
   "outputs": [
    {
     "data": {
      "text/html": [
       "no style options"
      ],
      "text/plain": [
       "no style options"
      ]
     },
     "metadata": {},
     "output_type": "display_data"
    }
   ],
   "source": [
    "stored_expr.style_options()"
   ]
  },
  {
   "cell_type": "code",
   "execution_count": 6,
   "metadata": {},
   "outputs": [
    {
     "data": {
      "text/html": [
       "<table><tr><th>&nbsp;</th><th>core type</th><th>sub-expressions</th><th>expression</th></tr>\n",
       "<tr><td>0</td><td>ExprTuple</td><td>1</td><td><a class=\"ProveItLink\" href=\"expr.ipynb\"><img src=\"expr.png\" style=\"display:inline;vertical-align:middle;\" /></a></td></tr>\n",
       "<tr><td>1</td><td>Lambda</td><td>parameters:&nbsp;2<br>body:&nbsp;3<br></td><td><a class=\"ProveItLink\" href=\"../b959c28dfd5b23bd255a3f89d4e10899fa4e3d4e0/expr.ipynb\"><img src=\"../b959c28dfd5b23bd255a3f89d4e10899fa4e3d4e0/expr.png\" style=\"display:inline;vertical-align:middle;\" /></a></td></tr>\n",
       "<tr><td>2</td><td>ExprTuple</td><td>19, 22, 21, 17</td><td><a class=\"ProveItLink\" href=\"../fde41f1972c3d7ea9683acb4ddeccd69b51378a50/expr.ipynb\"><img src=\"../fde41f1972c3d7ea9683acb4ddeccd69b51378a50/expr.png\" style=\"display:inline;vertical-align:middle;\" /></a></td></tr>\n",
       "<tr><td>3</td><td>Operation</td><td>operator:&nbsp;8<br>operands:&nbsp;4<br></td><td><a class=\"ProveItLink\" href=\"../f47941b874c4be8a19b2561353e8931ddfc7dc380/expr.ipynb\"><img src=\"../f47941b874c4be8a19b2561353e8931ddfc7dc380/expr.png\" style=\"display:inline;vertical-align:middle;\" /></a></td></tr>\n",
       "<tr><td>4</td><td>ExprTuple</td><td>5, 6</td><td><a class=\"ProveItLink\" href=\"../420a6e9f2e17587dd7be468946835f745b56e7580/expr.ipynb\"><img src=\"../420a6e9f2e17587dd7be468946835f745b56e7580/expr.png\" style=\"display:inline;vertical-align:middle;\" /></a></td></tr>\n",
       "<tr><td>5</td><td>Operation</td><td>operator:&nbsp;13<br>operands:&nbsp;7<br></td><td><a class=\"ProveItLink\" href=\"../e2ce83a51e2046fa0ee7bc480295cea581540bf50/expr.ipynb\"><img src=\"../e2ce83a51e2046fa0ee7bc480295cea581540bf50/expr.png\" style=\"display:inline;vertical-align:middle;\" /></a></td></tr>\n",
       "<tr><td>6</td><td>Operation</td><td>operator:&nbsp;8<br>operands:&nbsp;9<br></td><td><a class=\"ProveItLink\" href=\"../cfcc0b18b2aa9806b1067272fc9fa7e9856b15360/expr.ipynb\"><img src=\"../cfcc0b18b2aa9806b1067272fc9fa7e9856b15360/expr.png\" style=\"display:inline;vertical-align:middle;\" /></a></td></tr>\n",
       "<tr><td>7</td><td>ExprTuple</td><td>22, 21</td><td><a class=\"ProveItLink\" href=\"../e5e785ca3b1a5f8f44e2afa447627f16e9310f8b0/expr.ipynb\"><img src=\"../e5e785ca3b1a5f8f44e2afa447627f16e9310f8b0/expr.png\" style=\"display:inline;vertical-align:middle;\" /></a></td></tr>\n",
       "<tr><td>8</td><td>Literal</td><td></td><td><a class=\"ProveItLink\" href=\"../../../../booleans/implication/__pv_it/common/02bdb382575728da8cdbaed545b9096ea7a1bd5b0/expr.ipynb\"><img src=\"../../../../booleans/implication/__pv_it/common/02bdb382575728da8cdbaed545b9096ea7a1bd5b0/expr.png\" style=\"display:inline;vertical-align:middle;\" /></a></td></tr>\n",
       "<tr><td>9</td><td>ExprTuple</td><td>10, 11</td><td><a class=\"ProveItLink\" href=\"../3b55984e27b14d53aad06963a27a954ed988bc7a0/expr.ipynb\"><img src=\"../3b55984e27b14d53aad06963a27a954ed988bc7a0/expr.png\" style=\"display:inline;vertical-align:middle;\" /></a></td></tr>\n",
       "<tr><td>10</td><td>Operation</td><td>operator:&nbsp;13<br>operands:&nbsp;12<br></td><td><a class=\"ProveItLink\" href=\"../2d343bb60e8399cc277146db71f2e42edd934b170/expr.ipynb\"><img src=\"../2d343bb60e8399cc277146db71f2e42edd934b170/expr.png\" style=\"display:inline;vertical-align:middle;\" /></a></td></tr>\n",
       "<tr><td>11</td><td>Operation</td><td>operator:&nbsp;13<br>operands:&nbsp;14<br></td><td><a class=\"ProveItLink\" href=\"../997f84dd8d50e2bbdc87813ae4778f4b452664e40/expr.ipynb\"><img src=\"../997f84dd8d50e2bbdc87813ae4778f4b452664e40/expr.png\" style=\"display:inline;vertical-align:middle;\" /></a></td></tr>\n",
       "<tr><td>12</td><td>ExprTuple</td><td>15, 17</td><td><a class=\"ProveItLink\" href=\"../b3b16a62e071706f607ca20e4486a410973ed0140/expr.ipynb\"><img src=\"../b3b16a62e071706f607ca20e4486a410973ed0140/expr.png\" style=\"display:inline;vertical-align:middle;\" /></a></td></tr>\n",
       "<tr><td>13</td><td>Literal</td><td></td><td><a class=\"ProveItLink\" href=\"../../common/fb96dc12b2aa8801dda64d0132b396c63d1502bb0/expr.ipynb\"><img src=\"../../common/fb96dc12b2aa8801dda64d0132b396c63d1502bb0/expr.png\" style=\"display:inline;vertical-align:middle;\" /></a></td></tr>\n",
       "<tr><td>14</td><td>ExprTuple</td><td>16, 17</td><td><a class=\"ProveItLink\" href=\"../1a6cc71290be07b14398d9737af5327f43389a570/expr.ipynb\"><img src=\"../1a6cc71290be07b14398d9737af5327f43389a570/expr.png\" style=\"display:inline;vertical-align:middle;\" /></a></td></tr>\n",
       "<tr><td>15</td><td>Operation</td><td>operator:&nbsp;19<br>operand:&nbsp;21<br></td><td><a class=\"ProveItLink\" href=\"../../../../../__pv_it/common/87a201cf64512173f031b6f78a7cd5ef415a99ec0/expr.ipynb\"><img src=\"../../../../../__pv_it/common/87a201cf64512173f031b6f78a7cd5ef415a99ec0/expr.png\" style=\"display:inline;vertical-align:middle;\" /></a></td></tr>\n",
       "<tr><td>16</td><td>Operation</td><td>operator:&nbsp;19<br>operand:&nbsp;22<br></td><td><a class=\"ProveItLink\" href=\"../../../../../__pv_it/common/6774f61458aed4cc9eb250f92b3634f1d09b19a40/expr.ipynb\"><img src=\"../../../../../__pv_it/common/6774f61458aed4cc9eb250f92b3634f1d09b19a40/expr.png\" style=\"display:inline;vertical-align:middle;\" /></a></td></tr>\n",
       "<tr><td>17</td><td>Variable</td><td></td><td><a class=\"ProveItLink\" href=\"../../../../../__pv_it/common/ceef4280a2f1cc604b455b54e735507244cc62cd0/expr.ipynb\"><img src=\"../../../../../__pv_it/common/ceef4280a2f1cc604b455b54e735507244cc62cd0/expr.png\" style=\"display:inline;vertical-align:middle;\" /></a></td></tr>\n",
       "<tr><td>18</td><td>ExprTuple</td><td>21</td><td><a class=\"ProveItLink\" href=\"../../../../../__pv_it/common/4dfbea54d9ab139e516c3d361fb9092516f9e2710/expr.ipynb\"><img src=\"../../../../../__pv_it/common/4dfbea54d9ab139e516c3d361fb9092516f9e2710/expr.png\" style=\"display:inline;vertical-align:middle;\" /></a></td></tr>\n",
       "<tr><td>19</td><td>Variable</td><td></td><td><a class=\"ProveItLink\" href=\"../../../../../__pv_it/common/01b6dbb444a31fc38af4c2379badef6c75b363710/expr.ipynb\"><img src=\"../../../../../__pv_it/common/01b6dbb444a31fc38af4c2379badef6c75b363710/expr.png\" style=\"display:inline;vertical-align:middle;\" /></a></td></tr>\n",
       "<tr><td>20</td><td>ExprTuple</td><td>22</td><td><a class=\"ProveItLink\" href=\"../../../../../__pv_it/common/eacfeccc0521684fcb20fe8f5180ac50fca471f20/expr.ipynb\"><img src=\"../../../../../__pv_it/common/eacfeccc0521684fcb20fe8f5180ac50fca471f20/expr.png\" style=\"display:inline;vertical-align:middle;\" /></a></td></tr>\n",
       "<tr><td>21</td><td>Variable</td><td></td><td><a class=\"ProveItLink\" href=\"../../../../../__pv_it/common/c06c606ec12678c58933ac85412ecadc2ae28be60/expr.ipynb\"><img src=\"../../../../../__pv_it/common/c06c606ec12678c58933ac85412ecadc2ae28be60/expr.png\" style=\"display:inline;vertical-align:middle;\" /></a></td></tr>\n",
       "<tr><td>22</td><td>Variable</td><td></td><td><a class=\"ProveItLink\" href=\"../../../../../__pv_it/common/a0d9d672aa5e272d907247690c152cc2c6daafb70/expr.ipynb\"><img src=\"../../../../../__pv_it/common/a0d9d672aa5e272d907247690c152cc2c6daafb70/expr.png\" style=\"display:inline;vertical-align:middle;\" /></a></td></tr>\n",
       "</table>\n"
      ],
      "text/plain": [
       "0. ((f, x, a, c) -> ((x = a) => ((f(a) = c) => (f(x) = c))))\n",
       "   core type: ExprTuple\n",
       "   sub-expressions: 1\n",
       "1. (f, x, a, c) -> ((x = a) => ((f(a) = c) => (f(x) = c)))\n",
       "   core type: Lambda\n",
       "   parameters: 2\\n   body: 3\n",
       "2. (f, x, a, c)\n",
       "   core type: ExprTuple\n",
       "   sub-expressions: 19, 22, 21, 17\n",
       "3. (x = a) => ((f(a) = c) => (f(x) = c))\n",
       "   core type: Operation\n",
       "   operator: 8\n",
       "   operands: 4\n",
       "4. (x = a, (f(a) = c) => (f(x) = c))\n",
       "   core type: ExprTuple\n",
       "   sub-expressions: 5, 6\n",
       "5. x = a\n",
       "   core type: Operation\n",
       "   operator: 13\n",
       "   operands: 7\n",
       "6. (f(a) = c) => (f(x) = c)\n",
       "   core type: Operation\n",
       "   operator: 8\n",
       "   operands: 9\n",
       "7. (x, a)\n",
       "   core type: ExprTuple\n",
       "   sub-expressions: 22, 21\n",
       "8. =>\n",
       "   core type: Literal\n",
       "   sub-expressions: \n",
       "9. (f(a) = c, f(x) = c)\n",
       "   core type: ExprTuple\n",
       "   sub-expressions: 10, 11\n",
       "10. f(a) = c\n",
       "    core type: Operation\n",
       "    operator: 13\n",
       "    operands: 12\n",
       "11. f(x) = c\n",
       "    core type: Operation\n",
       "    operator: 13\n",
       "    operands: 14\n",
       "12. (f(a), c)\n",
       "    core type: ExprTuple\n",
       "    sub-expressions: 15, 17\n",
       "13. =\n",
       "    core type: Literal\n",
       "    sub-expressions: \n",
       "14. (f(x), c)\n",
       "    core type: ExprTuple\n",
       "    sub-expressions: 16, 17\n",
       "15. f(a)\n",
       "    core type: Operation\n",
       "    operator: 19\n",
       "    operand: 21\n",
       "16. f(x)\n",
       "    core type: Operation\n",
       "    operator: 19\n",
       "    operand: 22\n",
       "17. c\n",
       "    core type: Variable\n",
       "    sub-expressions: \n",
       "18. (a)\n",
       "    core type: ExprTuple\n",
       "    sub-expressions: 21\n",
       "19. f\n",
       "    core type: Variable\n",
       "    sub-expressions: \n",
       "20. (x)\n",
       "    core type: ExprTuple\n",
       "    sub-expressions: 22\n",
       "21. a\n",
       "    core type: Variable\n",
       "    sub-expressions: \n",
       "22. x\n",
       "    core type: Variable\n",
       "    sub-expressions: "
      ]
     },
     "metadata": {},
     "output_type": "display_data"
    }
   ],
   "source": [
    "# display the expression information\n",
    "stored_expr.expr_info()"
   ]
  },
  {
   "cell_type": "code",
   "execution_count": null,
   "metadata": {},
   "outputs": [],
   "source": []
  }
 ],
 "metadata": {
  "kernelspec": {
   "display_name": "Python 3",
   "language": "python",
   "name": "python3"
  }
 },
 "nbformat": 4,
 "nbformat_minor": 0
}