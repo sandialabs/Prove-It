{
 "cells": [
  {
   "cell_type": "markdown",
   "metadata": {},
   "source": [
    "Expression of type <a class=\"ProveItLink\" href=\"../../../../../../../doc/html/api/proveit.Lambda.html\">Lambda</a>\n",
    "=======================\n",
    "# from the theory of <a class=\"ProveItLink\" href=\"../../../_theory_nbs_/theory.ipynb\">proveit.logic.equality</a>"
   ]
  },
  {
   "cell_type": "code",
   "execution_count": 1,
   "metadata": {},
   "outputs": [],
   "source": [
    "import proveit\n",
    "# Automation is not needed when building an expression:\n",
    "proveit.defaults.automation = False # This will speed things up.\n",
    "proveit.defaults.inline_pngs = False # Makes files smaller.\n",
    "%load_expr # Load the stored expression as 'stored_expr'\n",
    "# import Expression classes needed to build the expression\n",
    "from proveit import Conditional, ExprRange, IndexedVar, Lambda, Variable, n, x\n",
    "from proveit.core_expr_types import x_1_to_np1\n",
    "from proveit.logic import And, Equals\n",
    "from proveit.numbers import Add, one"
   ]
  },
  {
   "cell_type": "code",
   "execution_count": 2,
   "metadata": {},
   "outputs": [
    {
     "data": {
      "text/html": [
       "<strong id=\"expr\">expr:</strong> <a class=\"ProveItLink\" href=\"expr.ipynb\"><img src=\"expr.png\" style=\"display:inline;vertical-align:middle;\" /></a><br>"
      ],
      "text/plain": [
       "<IPython.core.display.HTML object>"
      ]
     },
     "metadata": {},
     "output_type": "display_data"
    }
   ],
   "source": [
    "# build up the expression from sub-expressions\n",
    "sub_expr1 = Variable(\"_a\", latex_format = r\"{_{-}a}\")\n",
    "expr = Lambda([x_1_to_np1], Conditional(Equals(IndexedVar(x, one), IndexedVar(x, Add(n, one))), And(ExprRange(sub_expr1, Equals(IndexedVar(x, sub_expr1), IndexedVar(x, Add(sub_expr1, one))), one, n))))"
   ]
  },
  {
   "cell_type": "code",
   "execution_count": 3,
   "metadata": {},
   "outputs": [
    {
     "name": "stdout",
     "output_type": "stream",
     "text": [
      "Passed sanity check: expr matches stored_expr\n"
     ]
    }
   ],
   "source": [
    "# check that the built expression is the same as the stored expression\n",
    "assert expr == stored_expr\n",
    "assert expr._style_id == stored_expr._style_id\n",
    "print(\"Passed sanity check: expr matches stored_expr\")"
   ]
  },
  {
   "cell_type": "code",
   "execution_count": 4,
   "metadata": {},
   "outputs": [
    {
     "name": "stdout",
     "output_type": "stream",
     "text": [
      "\\left(x_{1}, x_{2}, \\ldots, x_{n + 1}\\right) \\mapsto \\left\\{x_{1} = x_{n + 1} \\textrm{ if } \\left(x_{1} = x_{1 + 1}\\right) \\land  \\left(x_{2} = x_{2 + 1}\\right) \\land  \\ldots \\land  \\left(x_{n} = x_{n + 1}\\right)\\right..\n"
     ]
    }
   ],
   "source": [
    "# Show the LaTeX representation of the expression for convenience if you need it.\n",
    "print(stored_expr.latex())"
   ]
  },
  {
   "cell_type": "code",
   "execution_count": 5,
   "metadata": {},
   "outputs": [
    {
     "data": {
      "text/html": [
       "no style options"
      ],
      "text/plain": [
       "no style options"
      ]
     },
     "metadata": {},
     "output_type": "display_data"
    }
   ],
   "source": [
    "stored_expr.style_options()"
   ]
  },
  {
   "cell_type": "code",
   "execution_count": 6,
   "metadata": {},
   "outputs": [
    {
     "data": {
      "text/html": [
       "<table><tr><th>&nbsp;</th><th>core type</th><th>sub-expressions</th><th>expression</th></tr>\n",
       "<tr><td>0</td><td>Lambda</td><td>parameters:&nbsp;1<br>body:&nbsp;2<br></td><td><a class=\"ProveItLink\" href=\"expr.ipynb\"><img src=\"expr.png\" style=\"display:inline;vertical-align:middle;\" /></a></td></tr>\n",
       "<tr><td>1</td><td>ExprTuple</td><td>3</td><td><a class=\"ProveItLink\" href=\"../3dd4b4c306f41c21817552a346778d5166086b6c0/expr.ipynb\"><img src=\"../3dd4b4c306f41c21817552a346778d5166086b6c0/expr.png\" style=\"display:inline;vertical-align:middle;\" /></a></td></tr>\n",
       "<tr><td>2</td><td>Conditional</td><td>value:&nbsp;4<br>condition:&nbsp;5<br></td><td><a class=\"ProveItLink\" href=\"../e3f4d062ec5b29e1ee6f0c13eac25b6e05f2a10b0/expr.ipynb\"><img src=\"../e3f4d062ec5b29e1ee6f0c13eac25b6e05f2a10b0/expr.png\" style=\"display:inline;vertical-align:middle;\" /></a></td></tr>\n",
       "<tr><td>3</td><td>ExprRange</td><td>lambda_map:&nbsp;6<br>start_index:&nbsp;31<br>end_index:&nbsp;16<br></td><td><a class=\"ProveItLink\" href=\"../../../../../core_expr_types/__pv_it/common/4c0b61b56542b2c0d2ab9a431fe4a88d4a9e76ff0/expr.ipynb\"><img src=\"../../../../../core_expr_types/__pv_it/common/4c0b61b56542b2c0d2ab9a431fe4a88d4a9e76ff0/expr.png\" style=\"display:inline;vertical-align:middle;\" /></a></td></tr>\n",
       "<tr><td>4</td><td>Operation</td><td>operator:&nbsp;19<br>operands:&nbsp;7<br></td><td><a class=\"ProveItLink\" href=\"../6908258179e1404d23ec6b2a9f76344bd91a10160/expr.ipynb\"><img src=\"../6908258179e1404d23ec6b2a9f76344bd91a10160/expr.png\" style=\"display:inline;vertical-align:middle;\" /></a></td></tr>\n",
       "<tr><td>5</td><td>Operation</td><td>operator:&nbsp;8<br>operands:&nbsp;9<br></td><td><a class=\"ProveItLink\" href=\"../e0b2cd49ca9add09a085389512a5154d5ecd19f80/expr.ipynb\"><img src=\"../e0b2cd49ca9add09a085389512a5154d5ecd19f80/expr.png\" style=\"display:inline;vertical-align:middle;\" /></a></td></tr>\n",
       "<tr><td>6</td><td>Lambda</td><td>parameter:&nbsp;30<br>body:&nbsp;22<br></td><td><a class=\"ProveItLink\" href=\"../../../../../core_expr_types/__pv_it/common/f8f30fee5e5b4e37951ff8886b574795bf35d80c0/expr.ipynb\"><img src=\"../../../../../core_expr_types/__pv_it/common/f8f30fee5e5b4e37951ff8886b574795bf35d80c0/expr.png\" style=\"display:inline;vertical-align:middle;\" /></a></td></tr>\n",
       "<tr><td>7</td><td>ExprTuple</td><td>10, 11</td><td><a class=\"ProveItLink\" href=\"../e55311af5d9d8dffc345ada1e01bad537068974e0/expr.ipynb\"><img src=\"../e55311af5d9d8dffc345ada1e01bad537068974e0/expr.png\" style=\"display:inline;vertical-align:middle;\" /></a></td></tr>\n",
       "<tr><td>8</td><td>Literal</td><td></td><td><a class=\"ProveItLink\" href=\"../../../../booleans/conjunction/__pv_it/common/42118ff318bd65d98b1393f64ce7c2269feef76e0/expr.ipynb\"><img src=\"../../../../booleans/conjunction/__pv_it/common/42118ff318bd65d98b1393f64ce7c2269feef76e0/expr.png\" style=\"display:inline;vertical-align:middle;\" /></a></td></tr>\n",
       "<tr><td>9</td><td>ExprTuple</td><td>12</td><td><a class=\"ProveItLink\" href=\"../2ce6dd37265431bfe94e63c2b03ddd57b72f16540/expr.ipynb\"><img src=\"../2ce6dd37265431bfe94e63c2b03ddd57b72f16540/expr.png\" style=\"display:inline;vertical-align:middle;\" /></a></td></tr>\n",
       "<tr><td>10</td><td>IndexedVar</td><td>variable:&nbsp;25<br>index:&nbsp;31<br></td><td><a class=\"ProveItLink\" href=\"../466a18b49cf959ea10747d565be38b5c15f8285e0/expr.ipynb\"><img src=\"../466a18b49cf959ea10747d565be38b5c15f8285e0/expr.png\" style=\"display:inline;vertical-align:middle;\" /></a></td></tr>\n",
       "<tr><td>11</td><td>IndexedVar</td><td>variable:&nbsp;25<br>index:&nbsp;16<br></td><td><a class=\"ProveItLink\" href=\"../cc1b01a063483774a2764827cb3e1d0b65be10390/expr.ipynb\"><img src=\"../cc1b01a063483774a2764827cb3e1d0b65be10390/expr.png\" style=\"display:inline;vertical-align:middle;\" /></a></td></tr>\n",
       "<tr><td>12</td><td>ExprRange</td><td>lambda_map:&nbsp;15<br>start_index:&nbsp;31<br>end_index:&nbsp;21<br></td><td><a class=\"ProveItLink\" href=\"../9d8ea7895fb3bfbf21f88d9109149db97a20a97d0/expr.ipynb\"><img src=\"../9d8ea7895fb3bfbf21f88d9109149db97a20a97d0/expr.png\" style=\"display:inline;vertical-align:middle;\" /></a></td></tr>\n",
       "<tr><td>13</td><td>ExprTuple</td><td>31</td><td><a class=\"ProveItLink\" href=\"../b9e4f0dffece176bbe2f36127440684a20e0468e0/expr.ipynb\"><img src=\"../b9e4f0dffece176bbe2f36127440684a20e0468e0/expr.png\" style=\"display:inline;vertical-align:middle;\" /></a></td></tr>\n",
       "<tr><td>14</td><td>ExprTuple</td><td>16</td><td><a class=\"ProveItLink\" href=\"../b7bc4c63a4c00eb98172dca8f220061c652764c80/expr.ipynb\"><img src=\"../b7bc4c63a4c00eb98172dca8f220061c652764c80/expr.png\" style=\"display:inline;vertical-align:middle;\" /></a></td></tr>\n",
       "<tr><td>15</td><td>Lambda</td><td>parameter:&nbsp;30<br>body:&nbsp;17<br></td><td><a class=\"ProveItLink\" href=\"../3184192546d20d6b082d9b901fe5b1e8f50a62440/expr.ipynb\"><img src=\"../3184192546d20d6b082d9b901fe5b1e8f50a62440/expr.png\" style=\"display:inline;vertical-align:middle;\" /></a></td></tr>\n",
       "<tr><td>16</td><td>Operation</td><td>operator:&nbsp;28<br>operands:&nbsp;18<br></td><td><a class=\"ProveItLink\" href=\"../../../../../core_expr_types/__pv_it/common/da9454a8f6582aff67171697f6638aec8e79b2450/expr.ipynb\"><img src=\"../../../../../core_expr_types/__pv_it/common/da9454a8f6582aff67171697f6638aec8e79b2450/expr.png\" style=\"display:inline;vertical-align:middle;\" /></a></td></tr>\n",
       "<tr><td>17</td><td>Operation</td><td>operator:&nbsp;19<br>operands:&nbsp;20<br></td><td><a class=\"ProveItLink\" href=\"../8058f8c0e22c5d7ffc4a323ce2f63f1d7012d3120/expr.ipynb\"><img src=\"../8058f8c0e22c5d7ffc4a323ce2f63f1d7012d3120/expr.png\" style=\"display:inline;vertical-align:middle;\" /></a></td></tr>\n",
       "<tr><td>18</td><td>ExprTuple</td><td>21, 31</td><td><a class=\"ProveItLink\" href=\"../../../../../core_expr_types/__pv_it/common/a3b4d93edb08a2579aa592b54f8896fd10b24c2f0/expr.ipynb\"><img src=\"../../../../../core_expr_types/__pv_it/common/a3b4d93edb08a2579aa592b54f8896fd10b24c2f0/expr.png\" style=\"display:inline;vertical-align:middle;\" /></a></td></tr>\n",
       "<tr><td>19</td><td>Literal</td><td></td><td><a class=\"ProveItLink\" href=\"../../common/fb96dc12b2aa8801dda64d0132b396c63d1502bb0/expr.ipynb\"><img src=\"../../common/fb96dc12b2aa8801dda64d0132b396c63d1502bb0/expr.png\" style=\"display:inline;vertical-align:middle;\" /></a></td></tr>\n",
       "<tr><td>20</td><td>ExprTuple</td><td>22, 23</td><td><a class=\"ProveItLink\" href=\"../42628fb6ece5778278a69062301ab9f6c91928d00/expr.ipynb\"><img src=\"../42628fb6ece5778278a69062301ab9f6c91928d00/expr.png\" style=\"display:inline;vertical-align:middle;\" /></a></td></tr>\n",
       "<tr><td>21</td><td>Variable</td><td></td><td><a class=\"ProveItLink\" href=\"../../../../../__pv_it/common/8968bb04eb3f7dfa02353397ce929b025bbd79c20/expr.ipynb\"><img src=\"../../../../../__pv_it/common/8968bb04eb3f7dfa02353397ce929b025bbd79c20/expr.png\" style=\"display:inline;vertical-align:middle;\" /></a></td></tr>\n",
       "<tr><td>22</td><td>IndexedVar</td><td>variable:&nbsp;25<br>index:&nbsp;30<br></td><td><a class=\"ProveItLink\" href=\"../../../../../core_expr_types/__pv_it/common/b7a46615d4e67a28ab963909b818c72af8e8e7c60/expr.ipynb\"><img src=\"../../../../../core_expr_types/__pv_it/common/b7a46615d4e67a28ab963909b818c72af8e8e7c60/expr.png\" style=\"display:inline;vertical-align:middle;\" /></a></td></tr>\n",
       "<tr><td>23</td><td>IndexedVar</td><td>variable:&nbsp;25<br>index:&nbsp;27<br></td><td><a class=\"ProveItLink\" href=\"../a54ca44b0f0759ebb774ee3ec536dc06aec030600/expr.ipynb\"><img src=\"../a54ca44b0f0759ebb774ee3ec536dc06aec030600/expr.png\" style=\"display:inline;vertical-align:middle;\" /></a></td></tr>\n",
       "<tr><td>24</td><td>ExprTuple</td><td>30</td><td><a class=\"ProveItLink\" href=\"../../../../../core_expr_types/__pv_it/common/4b0dd6be36d76552eda6a95d5b4a27f5a5b62f900/expr.ipynb\"><img src=\"../../../../../core_expr_types/__pv_it/common/4b0dd6be36d76552eda6a95d5b4a27f5a5b62f900/expr.png\" style=\"display:inline;vertical-align:middle;\" /></a></td></tr>\n",
       "<tr><td>25</td><td>Variable</td><td></td><td><a class=\"ProveItLink\" href=\"../../../../../__pv_it/common/a0d9d672aa5e272d907247690c152cc2c6daafb70/expr.ipynb\"><img src=\"../../../../../__pv_it/common/a0d9d672aa5e272d907247690c152cc2c6daafb70/expr.png\" style=\"display:inline;vertical-align:middle;\" /></a></td></tr>\n",
       "<tr><td>26</td><td>ExprTuple</td><td>27</td><td><a class=\"ProveItLink\" href=\"../57d0b33a4f0ee110d24df5f6ef13e290544dea220/expr.ipynb\"><img src=\"../57d0b33a4f0ee110d24df5f6ef13e290544dea220/expr.png\" style=\"display:inline;vertical-align:middle;\" /></a></td></tr>\n",
       "<tr><td>27</td><td>Operation</td><td>operator:&nbsp;28<br>operands:&nbsp;29<br></td><td><a class=\"ProveItLink\" href=\"../aa28b606656b7456628a1d048fb1cf99873015a90/expr.ipynb\"><img src=\"../aa28b606656b7456628a1d048fb1cf99873015a90/expr.png\" style=\"display:inline;vertical-align:middle;\" /></a></td></tr>\n",
       "<tr><td>28</td><td>Literal</td><td></td><td><a class=\"ProveItLink\" href=\"../../../../../numbers/addition/__pv_it/common/4b7effaab3619a1c2c38fe2dee8601df8ec714590/expr.ipynb\"><img src=\"../../../../../numbers/addition/__pv_it/common/4b7effaab3619a1c2c38fe2dee8601df8ec714590/expr.png\" style=\"display:inline;vertical-align:middle;\" /></a></td></tr>\n",
       "<tr><td>29</td><td>ExprTuple</td><td>30, 31</td><td><a class=\"ProveItLink\" href=\"../fb22e88f374afb32789691bb28c57f415aa8ce670/expr.ipynb\"><img src=\"../fb22e88f374afb32789691bb28c57f415aa8ce670/expr.png\" style=\"display:inline;vertical-align:middle;\" /></a></td></tr>\n",
       "<tr><td>30</td><td>Variable</td><td></td><td><a class=\"ProveItLink\" href=\"../../../../../core_expr_types/__pv_it/common/006c465e50948aa2b52285e2de47974f741255cc0/expr.ipynb\"><img src=\"../../../../../core_expr_types/__pv_it/common/006c465e50948aa2b52285e2de47974f741255cc0/expr.png\" style=\"display:inline;vertical-align:middle;\" /></a></td></tr>\n",
       "<tr><td>31</td><td>Literal</td><td></td><td><a class=\"ProveItLink\" href=\"../../../../../numbers/numerals/__pv_it/common/682157d4892d216d9e5626ed533aff9b56b9506e0/expr.ipynb\"><img src=\"../../../../../numbers/numerals/__pv_it/common/682157d4892d216d9e5626ed533aff9b56b9506e0/expr.png\" style=\"display:inline;vertical-align:middle;\" /></a></td></tr>\n",
       "</table>\n"
      ],
      "text/plain": [
       "0. (x_{1}, x_{2}, ..., x_{n + 1}) -> {x_{1} = x_{n + 1} if (x_{1} = x_{1 + 1}) and  (x_{2} = x_{2 + 1}) and  ... and  (x_{n} = x_{n + 1}).\n",
       "   core type: Lambda\n",
       "   parameters: 1\\n   body: 2\n",
       "1. (x_{1}, x_{2}, ..., x_{n + 1})\n",
       "   core type: ExprTuple\n",
       "   sub-expressions: 3\n",
       "2. {x_{1} = x_{n + 1} if (x_{1} = x_{1 + 1}) and  (x_{2} = x_{2 + 1}) and  ... and  (x_{n} = x_{n + 1}).\n",
       "   core type: Conditional\n",
       "   value: 4\n",
       "   condition: 5\n",
       "3. x_{1}, x_{2}, ..., x_{n + 1}\n",
       "   core type: ExprRange\n",
       "   lambda_map: 6\n",
       "   start_index: 31\n",
       "   end_index: 16\n",
       "4. x_{1} = x_{n + 1}\n",
       "   core type: Operation\n",
       "   operator: 19\n",
       "   operands: 7\n",
       "5. (x_{1} = x_{1 + 1}) and  (x_{2} = x_{2 + 1}) and  ... and  (x_{n} = x_{n + 1})\n",
       "   core type: Operation\n",
       "   operator: 8\n",
       "   operands: 9\n",
       "6. _a -> x_{_a}\n",
       "   core type: Lambda\n",
       "   parameter: 30\n",
       "   body: 22\n",
       "7. (x_{1}, x_{n + 1})\n",
       "   core type: ExprTuple\n",
       "   sub-expressions: 10, 11\n",
       "8. and\n",
       "   core type: Literal\n",
       "   sub-expressions: \n",
       "9. ((x_{1} = x_{1 + 1}), (x_{2} = x_{2 + 1}), ..., (x_{n} = x_{n + 1}))\n",
       "   core type: ExprTuple\n",
       "   sub-expressions: 12\n",
       "10. x_{1}\n",
       "    core type: IndexedVar\n",
       "variable: 25\n",
       "index: 31\n",
       "11. x_{n + 1}\n",
       "    core type: IndexedVar\n",
       "variable: 25\n",
       "index: 16\n",
       "12. (x_{1} = x_{1 + 1}), (x_{2} = x_{2 + 1}), ..., (x_{n} = x_{n + 1})\n",
       "    core type: ExprRange\n",
       "    lambda_map: 15\n",
       "    start_index: 31\n",
       "    end_index: 21\n",
       "13. (1)\n",
       "    core type: ExprTuple\n",
       "    sub-expressions: 31\n",
       "14. (n + 1)\n",
       "    core type: ExprTuple\n",
       "    sub-expressions: 16\n",
       "15. _a -> (x_{_a} = x_{_a + 1})\n",
       "    core type: Lambda\n",
       "    parameter: 30\n",
       "    body: 17\n",
       "16. n + 1\n",
       "    core type: Operation\n",
       "    operator: 28\n",
       "    operands: 18\n",
       "17. x_{_a} = x_{_a + 1}\n",
       "    core type: Operation\n",
       "    operator: 19\n",
       "    operands: 20\n",
       "18. (n, 1)\n",
       "    core type: ExprTuple\n",
       "    sub-expressions: 21, 31\n",
       "19. =\n",
       "    core type: Literal\n",
       "    sub-expressions: \n",
       "20. (x_{_a}, x_{_a + 1})\n",
       "    core type: ExprTuple\n",
       "    sub-expressions: 22, 23\n",
       "21. n\n",
       "    core type: Variable\n",
       "    sub-expressions: \n",
       "22. x_{_a}\n",
       "    core type: IndexedVar\n",
       "variable: 25\n",
       "index: 30\n",
       "23. x_{_a + 1}\n",
       "    core type: IndexedVar\n",
       "variable: 25\n",
       "index: 27\n",
       "24. (_a)\n",
       "    core type: ExprTuple\n",
       "    sub-expressions: 30\n",
       "25. x\n",
       "    core type: Variable\n",
       "    sub-expressions: \n",
       "26. (_a + 1)\n",
       "    core type: ExprTuple\n",
       "    sub-expressions: 27\n",
       "27. _a + 1\n",
       "    core type: Operation\n",
       "    operator: 28\n",
       "    operands: 29\n",
       "28. +\n",
       "    core type: Literal\n",
       "    sub-expressions: \n",
       "29. (_a, 1)\n",
       "    core type: ExprTuple\n",
       "    sub-expressions: 30, 31\n",
       "30. _a\n",
       "    core type: Variable\n",
       "    sub-expressions: \n",
       "31. 1\n",
       "    core type: Literal\n",
       "    sub-expressions: "
      ]
     },
     "metadata": {},
     "output_type": "display_data"
    }
   ],
   "source": [
    "# display the expression information\n",
    "stored_expr.expr_info()"
   ]
  },
  {
   "cell_type": "code",
   "execution_count": null,
   "metadata": {},
   "outputs": [],
   "source": []
  }
 ],
 "metadata": {
  "kernelspec": {
   "display_name": "Python 3",
   "language": "python",
   "name": "python3"
  }
 },
 "nbformat": 4,
 "nbformat_minor": 0
}