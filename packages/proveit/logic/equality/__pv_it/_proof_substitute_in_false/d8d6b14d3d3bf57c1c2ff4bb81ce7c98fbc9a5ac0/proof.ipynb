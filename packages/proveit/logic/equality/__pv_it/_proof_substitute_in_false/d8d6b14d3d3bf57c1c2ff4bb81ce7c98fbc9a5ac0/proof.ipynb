{
 "cells": [
  {
   "cell_type": "markdown",
   "metadata": {},
   "source": [
    "Show the Proof\n",
    "========"
   ]
  },
  {
   "cell_type": "code",
   "execution_count": 1,
   "metadata": {},
   "outputs": [
    {
     "data": {
      "text/html": [
       "<table><tr><th>&nbsp;</th><th>step type</th><th>requirements</th><th>statement</th></tr>\n",
       "<tr><td><a name=\"proveit.logic.equality._proof_substitute_in_false.d8d6b14d3d3bf57c1c2ff4bb81ce7c98fbc9a5ac0_step0\">0</a></td><td>instantiation</td><td><a href=\"#proveit.logic.equality._proof_substitute_in_false.d8d6b14d3d3bf57c1c2ff4bb81ce7c98fbc9a5ac0_step1\">1</a>, <a href=\"#proveit.logic.equality._proof_substitute_in_false.d8d6b14d3d3bf57c1c2ff4bb81ce7c98fbc9a5ac0_step2\">2</a></td><td><span style=\"font-size:20px;\"><a class=\"ProveItLink\" href=\"../../theorems/5fec8eac57f2c594f69e57b18d7b32cddd61eaeb0/expr.ipynb\"><img src=\"../../theorems/5fec8eac57f2c594f69e57b18d7b32cddd61eaeb0/expr.png\" style=\"display:inline;vertical-align:middle;\" /></a> <a class=\"ProveItLink\" href=\"proof.ipynb\" style=\"text-decoration: none\">&nbsp;&#x22A2;&nbsp;&nbsp;</a><a class=\"ProveItLink\" href=\"../6880e30277f5f2dd26313237e974c4a32bd888660/expr.ipynb\"><img src=\"../6880e30277f5f2dd26313237e974c4a32bd888660/expr.png\" style=\"display:inline;vertical-align:middle;\" /></a></span></td></tr>\n",
       "<tr><td>&nbsp;</td><td colspan=4 style=\"text-align:left\"><span style=\"font-size:20px;\"><a class=\"ProveItLink\" href=\"../../../../../__pv_it/common/09585084922504426caf1db2ff588a23a0932a960/expr.ipynb\"><img src=\"../../../../../__pv_it/common/09585084922504426caf1db2ff588a23a0932a960/expr.png\" style=\"display:inline;vertical-align:middle;\" /></a> : <a class=\"ProveItLink\" href=\"../../../../../__pv_it/common/a0d9d672aa5e272d907247690c152cc2c6daafb70/expr.ipynb\"><img src=\"../../../../../__pv_it/common/a0d9d672aa5e272d907247690c152cc2c6daafb70/expr.png\" style=\"display:inline;vertical-align:middle;\" /></a></span></td></tr><tr><td><a name=\"proveit.logic.equality._proof_substitute_in_false.d8d6b14d3d3bf57c1c2ff4bb81ce7c98fbc9a5ac0_step1\">1</a></td><td>axiom</td><td></td><td><span style=\"font-size:20px;\"> <a class=\"ProveItLink\" href=\"../../../../booleans/negation/_theory_nbs_/axioms.ipynb#negation_elim\" style=\"text-decoration: none\">&nbsp;&#x22A2;&nbsp;&nbsp;</a><a class=\"ProveItLink\" href=\"../../../../booleans/negation/__pv_it/axioms/0fd3f403bc4d76bb1a3bc88358aa217c1bfc7dc50/expr.ipynb\"><img src=\"../../../../booleans/negation/__pv_it/axioms/0fd3f403bc4d76bb1a3bc88358aa217c1bfc7dc50/expr.png\" style=\"display:inline;vertical-align:middle;\" /></a></span></td></tr>\n",
       "<tr><td>&nbsp;</td><td colspan=4 style-\"text-align:left\"><a class=\"ProveItLink\" href=\"../../../../booleans/negation/_theory_nbs_/axioms.ipynb#negation_elim\">proveit.logic.booleans.negation.negation_elim</a></td></tr><tr><td><a name=\"proveit.logic.equality._proof_substitute_in_false.d8d6b14d3d3bf57c1c2ff4bb81ce7c98fbc9a5ac0_step2\">2</a></td><td>assumption</td><td></td><td><span style=\"font-size:20px;\"><a class=\"ProveItLink\" href=\"../../theorems/5fec8eac57f2c594f69e57b18d7b32cddd61eaeb0/expr.ipynb\"><img src=\"../../theorems/5fec8eac57f2c594f69e57b18d7b32cddd61eaeb0/expr.png\" style=\"display:inline;vertical-align:middle;\" /></a> <a class=\"ProveItLink\" href=\"../c34eee51ee541d48e35e099478af9ea64454f88f0/proof.ipynb\" style=\"text-decoration: none\">&nbsp;&#x22A2;&nbsp;&nbsp;</a><a class=\"ProveItLink\" href=\"../../theorems/5fec8eac57f2c594f69e57b18d7b32cddd61eaeb0/expr.ipynb\"><img src=\"../../theorems/5fec8eac57f2c594f69e57b18d7b32cddd61eaeb0/expr.png\" style=\"display:inline;vertical-align:middle;\" /></a></span></td></tr>\n",
       "</table>"
      ],
      "text/plain": [
       "<proveit._core_.proof._ShowProof at 0x7f6e90259a58>"
      ]
     },
     "execution_count": 1,
     "metadata": {},
     "output_type": "execute_result"
    }
   ],
   "source": [
    "import proveit\n",
    "# Automation is not needed when only showing a stored proof:\n",
    "proveit.defaults.automation = False # This will speed things up.\n",
    "proveit.defaults.inline_pngs = False # Makes files smaller.\n",
    "%show_proof"
   ]
  },
  {
   "cell_type": "code",
   "execution_count": null,
   "metadata": {},
   "outputs": [],
   "source": []
  }
 ],
 "metadata": {
  "kernelspec": {
   "display_name": "Python 3",
   "language": "python",
   "name": "python3"
  }
 },
 "nbformat": 4,
 "nbformat_minor": 0
}