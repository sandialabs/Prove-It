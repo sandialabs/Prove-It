{
 "cells": [
  {
   "cell_type": "markdown",
   "metadata": {},
   "source": [
    "Minimal axioms of <a class=\"ProveItLink\" href=\"logic/_theory_.ipynb\">proveit.logic</a>\n",
    "========\n",
    "\n",
    "This is a reduced set of axioms for an initial consistency check.  Perhaps we can reduce this further, but this a a first stab at it.\n",
    "\n",
    "A couple of these axioms use $\\neq$.  We did not include the axiom that defines $\\neq$ because we can regard it as a shorthand notation for the negation of equality."
   ]
  },
  {
   "cell_type": "code",
   "execution_count": null,
   "metadata": {},
   "outputs": [],
   "source": [
    "import proveit.logic.booleans \n",
    "import proveit.logic.booleans.implication \n",
    "import proveit.logic.booleans.negation \n",
    "import proveit.logic.booleans.conjunction \n",
    "import proveit.logic.booleans.disjunction \n",
    "import proveit.logic.booleans.quantification.universality \n",
    "import proveit.logic.booleans.quantification.existence \n",
    "proveit.logic.booleans .true_axiom"
   ]
  },
  {
   "cell_type": "code",
   "execution_count": null,
   "metadata": {},
   "outputs": [],
   "source": [
    "proveit.logic.booleans .false_not_true"
   ]
  },
  {
   "cell_type": "code",
   "execution_count": null,
   "metadata": {},
   "outputs": [],
   "source": [
    "proveit.logic.booleans .eq_true_intro"
   ]
  },
  {
   "cell_type": "code",
   "execution_count": null,
   "metadata": {},
   "outputs": [],
   "source": [
    "proveit.logic.booleans .eq_true_elim"
   ]
  },
  {
   "cell_type": "markdown",
   "metadata": {},
   "source": [
    "While the next two are not actually axioms of the system, they are derivable from the axioms (notice that we are able to prove them automatically) and replace a number of other axioms to defines a simpler space of derivable truths for an initial consistency check.  These define what are in the Boolean set.  They do not define what is not in the Boolean set.  This will be fine for our purposes right now."
   ]
  },
  {
   "cell_type": "code",
   "execution_count": null,
   "metadata": {},
   "outputs": [],
   "source": [
    "from proveit.logic import Boolean, TRUE, FALSE, InSet\n",
    "\n",
    "InSet(TRUE, Boolean).prove()"
   ]
  },
  {
   "cell_type": "code",
   "execution_count": null,
   "metadata": {},
   "outputs": [],
   "source": [
    "InSet(FALSE, Boolean).prove()"
   ]
  },
  {
   "cell_type": "code",
   "execution_count": null,
   "metadata": {},
   "outputs": [],
   "source": [
    "proveit.logic.booleans.implication .implies_false_def # required for proof-by-contradiction"
   ]
  },
  {
   "cell_type": "code",
   "execution_count": null,
   "metadata": {},
   "outputs": [],
   "source": [
    "# An implication is vacuously true if its antecedent is untrue.\n",
    "# This will allow us to prove nonsense implications but only when the\n",
    "# antecedent is untrue and cannot be used to prove the nonsense conclusion.\n",
    "# This is our \"harmless nonsense\" principle.\n",
    "proveit.logic.booleans.implication .untrue_antecedent_implication"
   ]
  },
  {
   "cell_type": "code",
   "execution_count": null,
   "metadata": {},
   "outputs": [],
   "source": [
    "proveit.logic.booleans.negation .negation_intro"
   ]
  },
  {
   "cell_type": "code",
   "execution_count": null,
   "metadata": {},
   "outputs": [],
   "source": [
    "proveit.logic.booleans.negation .negation_elim"
   ]
  },
  {
   "cell_type": "code",
   "execution_count": null,
   "metadata": {},
   "outputs": [],
   "source": [
    "proveit.logic.booleans.negation .double_negation_intro"
   ]
  },
  {
   "cell_type": "code",
   "execution_count": null,
   "metadata": {},
   "outputs": [],
   "source": [
    "proveit.logic.booleans.negation .double_negation_elim"
   ]
  },
  {
   "cell_type": "code",
   "execution_count": null,
   "metadata": {},
   "outputs": [],
   "source": [
    "# probably not needed as a basic axiom\n",
    "#proveit.logic.booleans.quantification.universality .forall_in_bool\n",
    "\n",
    "import proveit.logic.equality \n",
    "proveit.logic.equality .equality_in_bool"
   ]
  },
  {
   "cell_type": "code",
   "execution_count": null,
   "metadata": {},
   "outputs": [],
   "source": [
    "proveit.logic.equality .equals_reflexivity"
   ]
  },
  {
   "cell_type": "code",
   "execution_count": null,
   "metadata": {},
   "outputs": [],
   "source": [
    "proveit.logic.equality .equals_symmetry"
   ]
  },
  {
   "cell_type": "code",
   "execution_count": null,
   "metadata": {},
   "outputs": [],
   "source": [
    "proveit.logic.equality .equals_transitivity"
   ]
  },
  {
   "cell_type": "code",
   "execution_count": null,
   "metadata": {},
   "outputs": [],
   "source": [
    "proveit.logic.equality .substitution"
   ]
  }
 ],
 "metadata": {
  "kernelspec": {
   "display_name": "Python 3",
   "language": "python",
   "name": "python3"
  }
 },
 "nbformat": 4,
 "nbformat_minor": 0
}
