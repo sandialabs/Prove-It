{
 "cells": [
  {
   "cell_type": "code",
   "execution_count": null,
   "metadata": {},
   "outputs": [],
   "source": [
    "import proveit.special_statement_magic # for %begin_theorems and %end_theorems\n",
    "from proveit.basiclogic import Equals, Forall, Iff, In, Implies\n",
    "from proveit.multi_expression import Multi_variable, Etcetera\n",
    "from proveit.linalg import ScalarProd, TensorProd, MatrixProd, TensorExp, SU\n",
    "from proveit.numbers.common import one\n",
    "from proveit.numbers import Complex, NaturalPos\n",
    "from proveit.common import a_etc, b, n, k, f, x, y, z, fx, fy, x_etc, y_etc, z_etc, A, U, S, alpha, beta\n",
    "from proveit.numbers import Add, Multiply, Exponentiate, Summation"
   ]
  },
  {
   "cell_type": "code",
   "execution_count": null,
   "metadata": {},
   "outputs": [],
   "source": [
    "%begin_theorems"
   ]
  },
  {
   "cell_type": "code",
   "execution_count": null,
   "metadata": {},
   "outputs": [],
   "source": [
    "# transferred 2/12/2021 by wdc\n",
    "factor_scalar_from_tensor_prod = Forall((x_etc, y, z_etc),\n",
    "                                    Forall(alpha,\n",
    "                                           Equals(TensorProd(x_etc, ScalarProd(alpha, y), z_etc),\n",
    "                                                 ScalarProd(alpha, TensorProd(x_etc, y, z_etc)))))\n",
    "factor_scalar_from_tensor_prod                             "
   ]
  },
  {
   "cell_type": "code",
   "execution_count": null,
   "metadata": {},
   "outputs": [],
   "source": [
    "# transferred 2/12/2021 by wdc\n",
    "doubly_scaled_as_singly_scaled = Forall(x, Forall((alpha, beta), Equals(ScalarProd(alpha, ScalarProd(beta, x)), \n",
    "                                                      ScalarProd(Multiply(alpha, beta), x))))\n",
    "doubly_scaled_as_singly_scaled"
   ]
  },
  {
   "cell_type": "code",
   "execution_count": null,
   "metadata": {},
   "outputs": [],
   "source": [
    "# transferred 2/12/2021 by wdc\n",
    "tensor_prod_equiv_by_elimination = Forall((a_etc, x, y, z_etc), Iff(Equals(TensorProd(a_etc, x, z_etc), TensorProd(a_etc, y, z_etc)),\n",
    "                                                              Equals(x, y)))\n",
    "tensor_prod_equiv_by_elimination"
   ]
  },
  {
   "cell_type": "code",
   "execution_count": null,
   "metadata": {},
   "outputs": [],
   "source": [
    "# transferred 2/12/2021 by wdc\n",
    "int_pow_s_uclosure = Forall((n, k), Forall(U, In(Exponentiate(U, k), SU(n)), \n",
    "                                     domain=SU(n)), \n",
    "                      domain=NaturalPos)\n",
    "int_pow_s_uclosure"
   ]
  },
  {
   "cell_type": "code",
   "execution_count": null,
   "metadata": {},
   "outputs": [],
   "source": [
    "# transferred 2/12/2021 by wdc\n",
    "eigen_pow = Forall(k, Forall(b, Forall((A, x), \n",
    "                            Implies(Equals(MatrixProd(A, x), ScalarProd(b, x)), \n",
    "                                    Equals(MatrixProd(Exponentiate(A, k), x), ScalarProd(Exponentiate(b, k), x)))),\n",
    "                  domain=Complex), domain=NaturalPos)\n",
    "eigen_pow"
   ]
  },
  {
   "cell_type": "code",
   "execution_count": null,
   "metadata": {},
   "outputs": [],
   "source": [
    "# transferred 2/12/2021 by wdc\n",
    "distribute_tensor_prod_over_sum = Forall((x_etc, y_etc, z_etc), \n",
    "                                     Equals(TensorProd(x_etc, Add(y_etc), z_etc),\n",
    "                                            Add(Etcetera(TensorProd(x_etc, Multi_variable(y), z_etc)))))\n",
    "distribute_tensor_prod_over_sum"
   ]
  },
  {
   "cell_type": "code",
   "execution_count": null,
   "metadata": {},
   "outputs": [],
   "source": [
    "# transferred 2/12/2021 by wdc\n",
    "distribute_tensor_prod_over_summation = Forall((f, S, x_etc, z_etc), \n",
    "                                           Equals(TensorProd(x_etc, Summation(y, fy, domain=S), z_etc),\n",
    "                                                  Summation(y, TensorProd(x_etc, fy, z_etc), domain=S)))\n",
    "distribute_tensor_prod_over_summation"
   ]
  },
  {
   "cell_type": "code",
   "execution_count": null,
   "metadata": {},
   "outputs": [],
   "source": [
    "%end_theorems"
   ]
  },
  {
   "cell_type": "code",
   "execution_count": null,
   "metadata": {},
   "outputs": [],
   "source": []
  }
 ],
 "metadata": {
  "kernelspec": {
   "display_name": "Python 3",
   "language": "python",
   "name": "python3"
  }
 },
 "nbformat": 4,
 "nbformat_minor": 0
}
