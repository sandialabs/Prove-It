{
 "cells": [
  {
   "cell_type": "markdown",
   "metadata": {},
   "source": [
    "Welcome to the expanding Prove-It library of Proofs\n",
    "========\n",
    "\n",
    "<a href=\"https://github.com/sandialabs/Prove-It\">Prove-It</a> is a tool for proving and organizing general theorems using Python.  These web pages are a companion to the **Prove-It** code repository, generated using this code to display the proofs contained therein, in addition to the <a href=\"doc/html/index.html\">documentation</a>.  This system is in an early beta version and under active development.  A tutorial and more complete explanation of **Prove-It**'s unique approach to theorem proving is in progress.\n",
    "\n",
    "Our proofs are organized into a <a href=\"#hierarchy\">hierarchy of theories</a> as listed below.  This is an expanding and evolving library with the eventual aim of accepting proofs from many contributors.  There is a particular structure to this library described in this <a class=\"ProveItLink\" href=\"guide.ipynb\">guide</a>.  The links below go to corresponding <a class=\"ProveItLink\" href=\"guide.ipynb#theory\">theory</a> web pages.  Each of these contains theory-specific links to web pages for <a class=\"ProveItLink\" href=\"guide.ipynb#common\">common expressions</a>, \n",
    "<a class=\"ProveItLink\" href=\"guide.ipynb#axioms\">axioms</a>, and <a class=\"ProveItLink\" href=\"guide.ipynb#theorems\">theorems</a>, as well as a page of <a class=\"ProveItLink\" href=\"guide.ipynb#demonstrations\">demonstrations</a> containing relevant examples.  Additionally, each generated expression links to an <a class=\"ProveItLink\" href=\"guide.ipynb#expr_info\">expression information</a> page that shows the internal tree-like structure of the expression.  Each theorem links to its <a class=\"ProveItLink\" href=\"guide.ipynb#theorem_proof\">proof</a>, though not all proofs have been generated.  This content is very much incomplete.  The earlier theories listed below tend to be more complete than the later ones.  The <a class=\"ProveItLink\" href=\"packages/proveit/logic/equality/_theory_.ipynb\">proveit.logic.equality</a> theory has the best example of an ideal <a class=\"ProveItLink\" href=\"packages/proveit/logic/equality/_demonstrations_.ipynb\">demonstrations</a> page."
   ]
  },
  {
   "cell_type": "markdown",
   "metadata": {},
   "source": [
    "<a name=\"hierarchy\"></a>**Hierarchy of Theories**"
   ]
  },
  {
   "cell_type": "code",
   "execution_count": null,
   "metadata": {},
   "outputs": [],
   "source": [
    "import proveit\n",
    "%contents packages/proveit"
   ]
  },
  {
   "cell_type": "code",
   "execution_count": null,
   "metadata": {},
   "outputs": [],
   "source": []
  }
 ],
 "metadata": {
  "kernelspec": {
   "display_name": "Python 3",
   "language": "python",
   "name": "python3"
  }
 },
 "nbformat": 4,
 "nbformat_minor": 0
}
